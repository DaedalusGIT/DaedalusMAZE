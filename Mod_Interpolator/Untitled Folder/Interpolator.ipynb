{
 "cells": [
  {
   "cell_type": "code",
   "execution_count": null,
   "metadata": {
    "scrolled": false
   },
   "outputs": [],
   "source": [
    "# Example Call\n",
    "from DaedalusInterpolator import *\n",
    "\n",
    "# Pick model file\n",
    "model_data_file='tiegcm_s_24900.nc'\n",
    "# Pick orbit file\n",
    "orbit_file=\"DAED_ORB_Evt0_LLA_Per150_Lat80_Srt01Hz_Msc.csv\"\n",
    "# Toggle to save results to NAS\n",
    "save=True\n",
    "# Select variable to interpolate \n",
    "VAR=\"NE\"\n",
    "#Select Model : Options so far: 1)TIEGCM\n",
    "model=\"TIEGCM\"\n",
    "# Call Main Routine\n",
    "Interpolator(model,model_data_file,orbit_file,save,VAR)"
   ]
  },
  {
   "cell_type": "code",
   "execution_count": null,
   "metadata": {},
   "outputs": [],
   "source": []
  }
 ],
 "metadata": {
  "kernelspec": {
   "display_name": "Python 3",
   "language": "python",
   "name": "python3"
  },
  "language_info": {
   "codemirror_mode": {
    "name": "ipython",
    "version": 3
   },
   "file_extension": ".py",
   "mimetype": "text/x-python",
   "name": "python",
   "nbconvert_exporter": "python",
   "pygments_lexer": "ipython3",
   "version": "3.6.7"
  }
 },
 "nbformat": 4,
 "nbformat_minor": 2
}
