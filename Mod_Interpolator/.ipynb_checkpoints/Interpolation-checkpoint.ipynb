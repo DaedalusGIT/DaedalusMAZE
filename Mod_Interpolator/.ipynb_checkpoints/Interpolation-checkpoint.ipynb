{
 "cells": [
  {
   "cell_type": "code",
   "execution_count": null,
   "metadata": {},
   "outputs": [],
   "source": [
    "from DaedalusInterpolatorV3 import *\n",
    "import interpolation\n",
    "\n",
    "\n",
    "# Example Call\n",
    "\n",
    "# Select Model Data to Interpolate \n",
    "model_data_file='tiegcm_s_24900.nc'\n",
    "\n",
    "# Select Orbit File to Interpolate at \n",
    "orbit_file=\"DAED_ORB_Evt0_LLA_Per120_Lat00_Srt01Hz_Msc\"\n",
    "\n",
    "#Toggle: Save output?\n",
    "save=True\n",
    "\n",
    "# Select Model Data Variable to Interpolate\n",
    "VAR=\"NE\"\n",
    "\n",
    "#Name of Model used for storing properly.Options:\n",
    "# 1--->TIEGCM\n",
    "model=\"TIEGCM\"\n",
    "\n",
    "# Call Routine\n",
    "DaedalusInterpolator(model,model_data_file,orbit_file,save,VAR)"
   ]
  },
  {
   "cell_type": "code",
   "execution_count": null,
   "metadata": {},
   "outputs": [],
   "source": []
  },
  {
   "cell_type": "code",
   "execution_count": null,
   "metadata": {},
   "outputs": [],
   "source": []
  }
 ],
 "metadata": {
  "kernelspec": {
   "display_name": "Python 3",
   "language": "python",
   "name": "python3"
  },
  "language_info": {
   "codemirror_mode": {
    "name": "ipython",
    "version": 3
   },
   "file_extension": ".py",
   "mimetype": "text/x-python",
   "name": "python",
   "nbconvert_exporter": "python",
   "pygments_lexer": "ipython3",
   "version": "3.6.7"
  }
 },
 "nbformat": 4,
 "nbformat_minor": 2
}
