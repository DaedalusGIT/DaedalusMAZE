{
 "cells": [
  {
   "cell_type": "code",
   "execution_count": null,
   "metadata": {
    "scrolled": false
   },
   "outputs": [],
   "source": [
    "from Environment_Parameters import *\n",
    "#****************************** Example Call************************************\n",
    "#Model Output Filename\n",
    "# *****************************EVT0*********************************************\n",
    "# file_IRI=\"Evt0/DAED_ORB_Evt0_LLA_Per120_Lat00_Srt01Hz_Msc_IRI16_all.csv\"\n",
    "# file_MSISE00=\"Evt0/DAED_ORB_Evt0_LLA_Per120_Lat00_Srt01Hz_Msc_MSISE00_all.csv\"\n",
    "# file_IGRF=\"Evt0/DAED_ORB_Evt0_LLA_Per120_Lat00_Srt01Hz_Msc_IGRF_all.csv\"\n",
    "# # File with Daedalus Velocity\n",
    "# file_Velocities=\"Evt0/DAED_ORB_Evt0_PTG_Per120_Lat00_Srt01Hz_Msc.csv\"\n",
    "# # Filename of Outputs for this code\n",
    "# outfile=\"DAED_ORB_Evt0_LLA_Per120_Lat00_Srt01Hz_Msc\"\n",
    "# ******************************************************************************\n",
    "\n",
    "# *****************************EVT1*********************************************\n",
    "file_IRI=\"Evt1/DAED_ORB_Evt1_LLA_Per120_Lat80_Srt01Hz_Msc_IRI16_all.csv\"\n",
    "file_MSISE00=\"Evt1/DAED_ORB_Evt1_LLA_Per120_Lat80_Srt01Hz_Msc_MSISE00_all.csv\"\n",
    "file_IGRF=\"Evt1/DAED_ORB_Evt1_LLA_Per120_Lat80_Srt01Hz_Msc_IGRF_all2.csv\"\n",
    "# File with Daedalus Velocity\n",
    "file_Velocities=\"Evt1/DAED_ORB_Evt1_PTG_Per120_Lat80_Srt01Hz_Msc.csv\"\n",
    "# Filename of Outputs for this code\n",
    "outfile=\"DAED_ORB_Evt1_LLA_Per120_Lat80_Srt01Hz_Msc\"\n",
    "# *******************************************************************************\n",
    "\n",
    "\n",
    "# Toggles\n",
    "Save_Plasma_Products=True\n",
    "Plot_Products=True\n",
    "# Plot_All=False\n",
    "# var_to_plot=\"ne_iri16_cm-3\"\n",
    "var_to_plot=\"\"\n",
    "label_y=\"NE [$cm^{-3}$]\"\n",
    "title=\"IRI: NE Density Along Orbit\"\n",
    "\n",
    "# Call\n",
    "main(file_IRI,file_MSISE00,file_IGRF,file_Velocities,outfile,Save_Plasma_Products,var_to_plot,Plot_Products,label_y,title)\n",
    "# **********************************************************************\n"
   ]
  },
  {
   "cell_type": "code",
   "execution_count": null,
   "metadata": {},
   "outputs": [],
   "source": []
  }
 ],
 "metadata": {
  "kernelspec": {
   "display_name": "Python 3",
   "language": "python",
   "name": "python3"
  },
  "language_info": {
   "codemirror_mode": {
    "name": "ipython",
    "version": 3
   },
   "file_extension": ".py",
   "mimetype": "text/x-python",
   "name": "python",
   "nbconvert_exporter": "python",
   "pygments_lexer": "ipython3",
   "version": "3.6.8"
  }
 },
 "nbformat": 4,
 "nbformat_minor": 2
}
