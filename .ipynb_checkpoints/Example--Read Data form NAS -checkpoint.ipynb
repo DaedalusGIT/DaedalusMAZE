{
 "cells": [
  {
   "cell_type": "code",
   "execution_count": null,
   "metadata": {
    "scrolled": false
   },
   "outputs": [],
   "source": [
    "# Example Of Reading Orbit Files from NAS\n",
    "import pandas as pd\n",
    "orbit_file=\"DAED_ORB_Evt0_LLA_Per120_Lat00_Srt01Hz_Msc.csv\"\n",
    "df = pd.read_csv(\"../../NAS/Data_Files/OrbitData/\"+orbit_file)\n",
    "\n",
    "daed_lon_temp = df[\"Lon_GEOD(deg)\"]\n",
    "\n",
    "for  i  in range (0,len(daed_lon_temp)):\n",
    "    print(daed_lon_temp[i])"
   ]
  },
  {
   "cell_type": "code",
   "execution_count": null,
   "metadata": {},
   "outputs": [],
   "source": [
    "# Example Of Reading Model Files from NAS\n",
    "from netCDF4 import Dataset\n",
    "\n",
    "model_data_file=\"../../NAS/TIEGCM_DATA/tiegcm_s_24900.nc\"\n",
    "TIEGCM=Dataset(model_data_file)\n",
    "\n",
    "# Pull data from Model\n",
    "grid_lat=TIEGCM.variables['lat'][:]\n",
    "grid_lon=TIEGCM.variables['lon'][:]\n",
    "grid_lev=TIEGCM.variables['ilev'][:]\n",
    "grid_time=TIEGCM.variables['time'][:]\n",
    "zg=TIEGCM.variables['ZG'][:]\n",
    "\n",
    "\n",
    "for i in range(0,len(grid_lat)):\n",
    "    print(grid_lat[i])"
   ]
  },
  {
   "cell_type": "code",
   "execution_count": null,
   "metadata": {},
   "outputs": [],
   "source": []
  }
 ],
 "metadata": {
  "kernelspec": {
   "display_name": "Python 3",
   "language": "python",
   "name": "python3"
  },
  "language_info": {
   "codemirror_mode": {
    "name": "ipython",
    "version": 3
   },
   "file_extension": ".py",
   "mimetype": "text/x-python",
   "name": "python",
   "nbconvert_exporter": "python",
   "pygments_lexer": "ipython3",
   "version": "3.6.7"
  }
 },
 "nbformat": 4,
 "nbformat_minor": 2
}
