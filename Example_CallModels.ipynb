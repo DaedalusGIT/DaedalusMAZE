{
 "cells": [
  {
   "cell_type": "code",
   "execution_count": 5,
   "metadata": {},
   "outputs": [],
   "source": [
    "from SourceCode.ModulesSourceCode.IGRF.IGRF import *"
   ]
  },
  {
   "cell_type": "code",
   "execution_count": 9,
   "metadata": {},
   "outputs": [
    {
     "name": "stdout",
     "output_type": "stream",
     "text": [
      "/home/NAS/Data_Files/OrbitData/DAED_ORB_Evt0_LLA_Per120_Lat00_Srt01Hz_Msc.csv\n",
      "\n",
      "import past started...\n",
      "                      Epoch(UTCG)  Lat_GEOD(deg)  Lon_GEOD(deg)  \\\n",
      "0  Jan 01 2015 00:00:01.000000000      -0.194387      80.173023   \n",
      "1  Jan 01 2015 00:00:02.000000000      -0.230540      80.170730   \n",
      "2  Jan 01 2015 00:00:03.000000000      -0.266692      80.168438   \n",
      "3  Jan 01 2015 00:00:04.000000000      -0.302845      80.166145   \n",
      "4  Jan 01 2015 00:00:05.000000000      -0.338998      80.163853   \n",
      "\n",
      "   Height_WGS84 (km)  \n",
      "0        2999.999793  \n",
      "1        2999.998654  \n",
      "2        2999.996707  \n",
      "3        2999.993950  \n",
      "4        2999.990386  \n",
      "import completed...\n",
      "IGRF started...\n",
      "IGRF finished\n",
      "pass outputs to output dataframe\n",
      "start exporting csv\n",
      "end exporting csv\n"
     ]
    },
    {
     "data": {
      "text/plain": [
       "'../../NAS/Data_Files/ModelsOutput/IGRF/DAED_ORB_Evt0_LLA_Per120_Lat00_Srt01Hz_Msc_IGRF_all.csv'"
      ]
     },
     "execution_count": 9,
     "metadata": {},
     "output_type": "execute_result"
    }
   ],
   "source": [
    "IGRF(\"/home/NAS/Data_Files/OrbitData/DAED_ORB_Evt0_LLA_Per120_Lat00_Srt01Hz_Msc.csv\",\"\")"
   ]
  },
  {
   "cell_type": "code",
   "execution_count": 10,
   "metadata": {},
   "outputs": [],
   "source": [
    "from SourceCode.ModulesSourceCode.HWM14.HWM14 import *"
   ]
  },
  {
   "cell_type": "code",
   "execution_count": 11,
   "metadata": {},
   "outputs": [
    {
     "name": "stdout",
     "output_type": "stream",
     "text": [
      "import past started...\n",
      "                      Epoch(UTCG)  Lat_GEOD(deg)  Lon_GEOD(deg)  \\\n",
      "0  Jan 01 2015 00:00:01.000000000      -0.194387      80.173023   \n",
      "1  Jan 01 2015 00:00:02.000000000      -0.230540      80.170730   \n",
      "2  Jan 01 2015 00:00:03.000000000      -0.266692      80.168438   \n",
      "3  Jan 01 2015 00:00:04.000000000      -0.302845      80.166145   \n",
      "4  Jan 01 2015 00:00:05.000000000      -0.338998      80.163853   \n",
      "\n",
      "   Height_WGS84 (km)  \n",
      "0        2999.999793  \n",
      "1        2999.998654  \n",
      "2        2999.996707  \n",
      "3        2999.993950  \n",
      "4        2999.990386  \n",
      "import completed...\n",
      "models started...\n",
      "HWM14 finished\n",
      "pass outputs to output dataframe\n",
      "start exporting csv\n",
      "end exporting csv\n"
     ]
    },
    {
     "data": {
      "text/plain": [
       "'../../NAS/Data_Files/ModelsOutput/HWM/DAED_ORB_Evt0_LLA_Per120_Lat00_Srt01Hz_Msc_HWM14_all.csv'"
      ]
     },
     "execution_count": 11,
     "metadata": {},
     "output_type": "execute_result"
    }
   ],
   "source": [
    "HWM14(\"/home/NAS/Data_Files/OrbitData/DAED_ORB_Evt0_LLA_Per120_Lat00_Srt01Hz_Msc.csv\",\"\")"
   ]
  },
  {
   "cell_type": "code",
   "execution_count": 12,
   "metadata": {},
   "outputs": [],
   "source": [
    "from SourceCode.ModulesSourceCode.IRI16.IRI16 import *"
   ]
  },
  {
   "cell_type": "code",
   "execution_count": 13,
   "metadata": {},
   "outputs": [
    {
     "name": "stdout",
     "output_type": "stream",
     "text": [
      "/home/NAS/Data_Files/OrbitData/DAED_ORB_Evt0_LLA_Per120_Lat00_Srt01Hz_Msc.csv\n",
      "import past started...\n",
      "                      Epoch(UTCG)  Lat_GEOD(deg)  Lon_GEOD(deg)  \\\n",
      "0  Jan 01 2015 00:00:01.000000000      -0.194387      80.173023   \n",
      "1  Jan 01 2015 00:00:02.000000000      -0.230540      80.170730   \n",
      "2  Jan 01 2015 00:00:03.000000000      -0.266692      80.168438   \n",
      "3  Jan 01 2015 00:00:04.000000000      -0.302845      80.166145   \n",
      "4  Jan 01 2015 00:00:05.000000000      -0.338998      80.163853   \n",
      "\n",
      "   Height_WGS84 (km)  \n",
      "0        2999.999793  \n",
      "1        2999.998654  \n",
      "2        2999.996707  \n",
      "3        2999.993950  \n",
      "4        2999.990386  \n",
      "import completed...\n",
      "models started...\n",
      "IRI16 finished\n",
      "pass outputs to output dataframe\n",
      "start exporting csv\n",
      "end exporting csv\n"
     ]
    },
    {
     "data": {
      "text/plain": [
       "'../../NAS/Data_Files/ModelsOutput/IRI/DAED_ORB_Evt0_LLA_Per120_Lat00_Srt01Hz_Msc_IRI16_all.csv'"
      ]
     },
     "execution_count": 13,
     "metadata": {},
     "output_type": "execute_result"
    }
   ],
   "source": [
    "IRI16(\"/home/NAS/Data_Files/OrbitData/DAED_ORB_Evt0_LLA_Per120_Lat00_Srt01Hz_Msc.csv\",\"\")"
   ]
  },
  {
   "cell_type": "code",
   "execution_count": 14,
   "metadata": {},
   "outputs": [],
   "source": [
    "from SourceCode.ModulesSourceCode.MSISE00.MSISE00 import *"
   ]
  },
  {
   "cell_type": "code",
   "execution_count": 15,
   "metadata": {},
   "outputs": [
    {
     "name": "stdout",
     "output_type": "stream",
     "text": [
      "import past started...\n",
      "                      Epoch(UTCG)  Lat_GEOD(deg)  Lon_GEOD(deg)  \\\n",
      "0  Jan 01 2015 00:00:01.000000000      -0.194387      80.173023   \n",
      "1  Jan 01 2015 00:00:02.000000000      -0.230540      80.170730   \n",
      "2  Jan 01 2015 00:00:03.000000000      -0.266692      80.168438   \n",
      "3  Jan 01 2015 00:00:04.000000000      -0.302845      80.166145   \n",
      "4  Jan 01 2015 00:00:05.000000000      -0.338998      80.163853   \n",
      "\n",
      "   Height_WGS84 (km)  \n",
      "0        2999.999793  \n",
      "1        2999.998654  \n",
      "2        2999.996707  \n",
      "3        2999.993950  \n",
      "4        2999.990386  \n",
      "import completed...\n",
      "models started...\n",
      "MSISE finished\n",
      "pass outputs to output dataframe\n",
      "start exporting csv\n",
      "end exporting csv\n"
     ]
    },
    {
     "data": {
      "text/plain": [
       "'../../NAS/Data_Files/ModelsOutput/MSISE/DAED_ORB_Evt0_LLA_Per120_Lat00_Srt01Hz_Msc_MSISE00_all.csv'"
      ]
     },
     "execution_count": 15,
     "metadata": {},
     "output_type": "execute_result"
    }
   ],
   "source": [
    "MSISE00(\"/home/NAS/Data_Files/OrbitData/DAED_ORB_Evt0_LLA_Per120_Lat00_Srt01Hz_Msc.csv\",\"\")"
   ]
  },
  {
   "cell_type": "code",
   "execution_count": null,
   "metadata": {},
   "outputs": [],
   "source": []
  }
 ],
 "metadata": {
  "kernelspec": {
   "display_name": "Python 3",
   "language": "python",
   "name": "python3"
  },
  "language_info": {
   "codemirror_mode": {
    "name": "ipython",
    "version": 3
   },
   "file_extension": ".py",
   "mimetype": "text/x-python",
   "name": "python",
   "nbconvert_exporter": "python",
   "pygments_lexer": "ipython3",
   "version": "3.6.7"
  }
 },
 "nbformat": 4,
 "nbformat_minor": 2
}
