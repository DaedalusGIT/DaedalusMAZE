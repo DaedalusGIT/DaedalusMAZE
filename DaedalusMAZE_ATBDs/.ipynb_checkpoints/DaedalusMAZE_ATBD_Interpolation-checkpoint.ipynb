{
 "cells": [
  {
   "cell_type": "markdown",
   "metadata": {},
   "source": [
    "## Interpolation Module\n",
    "\n",
    "## Introduction\n",
    "To simulate Daedalus measurments using physics based model such as TIEGCM \n",
    "values of gridded data have to be interpolateds to the spacecraft's positions.In\n",
    "Daedalus Maze this is provided by the Interpolation Module which is described below.\n",
    "\n",
    "The Interpolation Module consists of a family of  codes written in python FORTRAN and C++.\n",
    "\n",
    "## Basic Input and Output\n",
    "The Interpolation Module supports Dedalus Input orbits in netcdf format and exports the interpolation\n",
    "results in netcdf as well.\n",
    "\n",
    "## Performance and Parallelization Level\n",
    "The python version of the Inteprolation Modules supports single threaded and multi threaded workloads using the multiprocessing library. At the same, the user can opt to call the pre-compiled low-level FORTRAN subroutines which can handle both the single threaded and the multi threaded interpolations using OpenMP.\n",
    "\n",
    "The C++ version, uses the OpenMPI and OpenMP interface and can support massive scalability on distributed memory using hybrid programming,splitting the interpolations in threads and nodes.The same basic input and output interface is used as with the python version.\n",
    "\n",
    "Finally there is a version of the Interpolation Module written in C++ using a CUDA kernel to speed up the interpolation process. On a shared memory environment this is by far the fastest version, outperforming the \n",
    "python version by more than three orders of magnitude.\n",
    "\n",
    "\n",
    "\n",
    "\n"
   ]
  },
  {
   "cell_type": "markdown",
   "metadata": {},
   "source": [
    "## Skeleton of the Interpolation Module"
   ]
  },
  {
   "cell_type": "markdown",
   "metadata": {},
   "source": [
    "\n",
    "## The Model Class: \n",
    "This class handles basic IO of the Model Data extracting grid quintities and variables as selected by\n",
    "the user to be used in the interpolation.\n"
   ]
  },
  {
   "cell_type": "code",
   "execution_count": 32,
   "metadata": {},
   "outputs": [],
   "source": [
    "from netCDF4 import Dataset\n",
    "import matplotlib.pyplot as plt\n",
    "%matplotlib inline  \n",
    "import pandas as pd\n",
    "import numpy as np\n",
    "import pandas as pd\n",
    "from pandas import DataFrame\n",
    "from datetime import datetime\n",
    "import time\n",
    "import os\n",
    "import sys\n",
    "import multiprocessing\n",
    "from functools import partial\n",
    "from scipy.signal import savgol_filter\n",
    "import warnings\n",
    "warnings.filterwarnings('ignore')"
   ]
  },
  {
   "cell_type": "code",
   "execution_count": 33,
   "metadata": {},
   "outputs": [],
   "source": [
    "\n",
    "class Model:\n",
    "    def __init__(self,name, maxAltitude, minAltitude):\n",
    "        self.name=name\n",
    "        self.maxAltitude=maxAltitude\n",
    "        self.minAltitude=minAltitude\n",
    "        self.dt=0.0\n",
    "\n",
    "\n",
    "\n",
    "    def readGrid(self,name):\n",
    "        TIEGCM=Dataset(name+\".nc\")\n",
    "        glat=TIEGCM.variables['lat'][:]\n",
    "        glon=TIEGCM.variables['lon'][:]\n",
    "        glev=TIEGCM.variables['lev'][:]\n",
    "        gtime=TIEGCM.variables['time'][:] \n",
    "        zg=TIEGCM.variables['ZGMID'][:]\n",
    "        TIEGCM.close()\n",
    "        self.dt= gtime[2]- gtime[1]\n",
    "       \n",
    "        return np.asarray(gtime),np.asarray(glat),np.asarray(glon),np.asarray(glev),np.asarray(zg)\n",
    "\n",
    "    def readVar(self,model,name):\n",
    "        TIEGCM=Dataset(model+\".nc\")\n",
    "        var=TIEGCM.variables[name][:]\n",
    "        TIEGCM.close()\n",
    "        return var\n"
   ]
  },
  {
   "cell_type": "markdown",
   "metadata": {},
   "source": [
    "## The Orbit Class: \n",
    "This class  This class handles basic IO of Daedalus' orbit allocating arrays for the spatial components. The longitudinal component is matched to TIEGCM's  and points in a specific altitudinal range are extracted to be passed to the interpolation routine. There is also an option for creating a Rocket orbit for getting \n",
    "vertical profiles of the said model."
   ]
  },
  {
   "cell_type": "code",
   "execution_count": 34,
   "metadata": {},
   "outputs": [],
   "source": [
    "\n",
    "class Orbit:\n",
    "    def __init__(self,name):\n",
    "        self.name=name\n",
    "        self.dt=1/16\n",
    "\n",
    "\n",
    "\n",
    "    def createorbit(self,filename,minAlt,maxAlt,outfile,Save=False):\n",
    "        orbit=Dataset(filename+\".nc\",\"r\")\n",
    "        daed_lat_temp = orbit.variables['lat'][:]\n",
    "        daed_lon_temp = orbit.variables['lon'][:]\n",
    "        daed_alt_temp = orbit.variables['altitude'][:]\n",
    "        daed_time_temp = orbit.variables['time'][:] #unix time\n",
    "        \n",
    "\n",
    "#         self.dt=daed_time_temp[2]-daed_time_temp[1]\n",
    "        self.Save=Save\n",
    "        \n",
    "        if self.Save==True:\n",
    "            self.OpenFile(outfile,daed_time_temp,daed_lat_temp,daed_lon_temp,daed_alt_temp)\n",
    "        \n",
    "        stop=False\n",
    "        counter=0\n",
    "        for i in range(0,len(daed_alt_temp)):\n",
    "            if (daed_alt_temp[i] < maxAlt and daed_alt_temp[i] > minAlt):\n",
    "                counter=counter+1\n",
    "\n",
    "        \n",
    "        \n",
    "        daed_lat=np.zeros((counter))\n",
    "        daed_lon=np.zeros((counter))\n",
    "        daed_alt=np.zeros((counter))\n",
    "        daed_time=np.zeros((counter),dtype=datetime)\n",
    "        index=[None]*counter\n",
    "        int_final=[None]*len(daed_alt_temp)\n",
    "\n",
    "\n",
    "   \n",
    "        counter2=0\n",
    "        \n",
    "        for i in range(0,len(daed_alt_temp)):\n",
    "    \n",
    "            if (daed_alt_temp[i] < maxAlt and daed_alt_temp[i] > minAlt):\n",
    "         \n",
    "                daed_time[counter2]=daed_time_temp[i]\n",
    "                daed_lat[counter2]=daed_lat_temp[i]\n",
    "                if max(daed_lon_temp)>180:\n",
    "                    daed_lon[counter2]=daed_lon_temp[i]-180 #match TIEGCM grid\n",
    "                else:\n",
    "                    daed_lon[counter2]=daed_lon_temp[i]\n",
    "                daed_alt[counter2]=daed_alt_temp[i]\n",
    "                \n",
    "                index[counter2]=i          #keep indices for merging data\n",
    "                counter2=counter2+1\n",
    "\n",
    "\n",
    "\n",
    "        print(\"daed_time\",len(daed_time))\n",
    "        \n",
    "\n",
    "        return(daed_time,daed_lat,daed_lon,daed_alt,index,int_final)\n",
    "\n",
    "    def RockeOrbit(self,lat,lon,alt,nop,dz):\n",
    "        Rlat=np.zeros(nop)\n",
    "        Rlon=np.zeros(nop)\n",
    "        Ralt=np.zeros(nop)\n",
    "\n",
    "        Rlat[:]=lat\n",
    "        Rlon[:]=lon\n",
    "        Ralt[0]=alt\n",
    "        for i in range(1,nop):\n",
    "            Ralt[i]=Ralt[i-1]+dz\n",
    "\n",
    "        return Rlat,Rlon,Ralt\n",
    "\n",
    "    def mergeData(self,index,int_final,m):\n",
    "        for i in range(0,len(m)):\n",
    "            int_final[index[i]]=m[i]\n",
    "\n",
    "        return int_final    \n",
    "\n",
    "\n",
    "\n",
    "    def OpenFile(self,outfile,time,lat,lon,alt):\n",
    "        print(\"Output File Path:\",outfile)\n",
    "        ncout = Dataset(outfile, \"w\", format=\"NETCDF4\")    \n",
    "        ncout.createDimension(\"time\", len(time))\n",
    "        xaxis=np.arange(0,len(time)) #time axis based on Daedalus Sampling rate\n",
    "        data = ncout.createVariable(\"time\",\"f4\",\"time\")\n",
    "        data[:]=xaxis\n",
    "        ncout.createDimension(\"lat\",len(lat))\n",
    "        data = ncout.createVariable(\"lat\",\"f4\",\"lat\")\n",
    "        data[:]=lat\n",
    "        ncout.createDimension(\"lon\",len(lon))\n",
    "        data = ncout.createVariable(\"lon\",\"f4\",\"lon\")\n",
    "        data[:]=lon\n",
    "        ncout.createDimension(\"altitude\",len(alt))\n",
    "        data = ncout.createVariable(\"altitude\",\"f4\",\"time\")\n",
    "        data[:]=alt\n",
    "        ncout.close()   \n",
    "        return True\n",
    "\n"
   ]
  },
  {
   "cell_type": "markdown",
   "metadata": {},
   "source": [
    "Functions used by the Interpolation Module\n",
    "The geod2geo_lat converts geodetic latitude to geographic latitude"
   ]
  },
  {
   "cell_type": "code",
   "execution_count": 35,
   "metadata": {},
   "outputs": [],
   "source": [
    "def geod_lat2geo_lat(phi):\n",
    "\n",
    "    # calculate geocentric latitude from geodetic latitude\n",
    "    # according to WGS 84\n",
    "    a = 6378137  # meter semi major axis of earth\n",
    "    f = 1 / 298.257  # flattening\n",
    "    b = a - f * a  # semi minor axis\n",
    "    e = ((a ** 2 - b ** 2) ** (1 / 2)) / a\n",
    "    phi_rad = np.deg2rad(phi)\n",
    "    geo_lat = np.arctan((1 - e ** 2) * np.tan(phi_rad))\n",
    "    geo_lat = np.rad2deg(geo_lat)\n",
    "    return geo_lat  # in degrees"
   ]
  },
  {
   "cell_type": "markdown",
   "metadata": {},
   "source": [
    "The function local is used to find the local neighbors of a specific component in a non eqwually spaced array \n",
    "such as the pressure levels in the TIEGCM"
   ]
  },
  {
   "cell_type": "code",
   "execution_count": 36,
   "metadata": {},
   "outputs": [],
   "source": [
    "\n",
    "def local(dim1,y,x):\n",
    "    local_pos=0\n",
    "    for i in range(0,len(x)-1):\n",
    "        if y >= x[i] and y < x[i+1]:\n",
    "            local_pos=i\n",
    "            return (local_pos)\n",
    "    return (local_pos)"
   ]
  },
  {
   "cell_type": "markdown",
   "metadata": {},
   "source": [
    "The single threaded inteprolation core routine which iterates over Daedalus orbit and performs the interpolation.\n",
    "At every spatial position weights are assigned to the  8 local grid neighbours and then the interpolated value is calculated using trilinear interpolation."
   ]
  },
  {
   "cell_type": "code",
   "execution_count": 37,
   "metadata": {},
   "outputs": [],
   "source": [
    "\n",
    "from tqdm import tqdm\n",
    "def Interpolate_Serial(glat,glon,glev,dlat,dlon,dalt,zg,ne,Plot=False,thisLabel=\"TN\"):\n",
    "    counter=11\n",
    "    deltaphi= np.abs(glon[2]-glon[1])\n",
    "    deltatheta=np.abs(glat[2]-glat[1])\n",
    "    Re=6378137.0/1e3\n",
    "    # arc_theta=2*np.pi*Re*(deltatheta/360)\n",
    "    # arc_phi=2*np.pi*Re*(deltaphi/360)\n",
    "\n",
    "    m=np.zeros((len(dalt)))\n",
    "    tn=np.zeros((len(dalt)))\n",
    "    pn=np.zeros((len(dalt)))\n",
    "\n",
    "    for i in range(0,len(dalt)):\n",
    "\n",
    "\n",
    "        \n",
    "        phi_local=local(len(glon),dlon[i],glon)\n",
    "        theta_local=local(len(glat),dlat[i],glat)\n",
    "\n",
    "\n",
    "        if dlon[i] >= 177.5 :\n",
    "            phi_local=len(glon)-2\n",
    "            lonbnd=1\n",
    "\n",
    "        if dlon[i] <= -177.5:\n",
    "            phi_local=1\n",
    "\n",
    "        if dlat[i] >= 87.5:\n",
    "            theta_local=len(glat)-2\n",
    "            latbnd=1\n",
    "\n",
    "        if dlat[i] <= -87.5:\n",
    "            theta_local=0\n",
    "\n",
    "\n",
    "        alts=zg[counter,:,theta_local,phi_local]/1e5\n",
    "        r_local=local(len(alts),dalt[i],alts)\n",
    "        deltarho=alts[r_local+1]-alts[r_local]\n",
    "        dx=(((dalt[i]-alts[r_local])/deltarho))\n",
    "        dy=(((dlat[i]-glat[theta_local])/deltatheta))\n",
    "        dz=np.abs(((dlon[i]-glon[phi_local])/deltaphi))\n",
    "\n",
    "        # Calculate Neighbors\n",
    "        pn[i]=ne[counter,r_local,theta_local,phi_local]\n",
    "\n",
    "        \n",
    "        w1=np.abs((1-dx)*(1-dy)*(1-dz))\n",
    "        w2=np.abs((dx)*(1-dy)*(1-dz))\n",
    "        w3=np.abs((1-dx)*(dy)*(1-dz))\n",
    "        w4=np.abs((dx)*(dy)*(1-dz))\n",
    "        w5=np.abs((1-dx)*(1-dy)*(dz))\n",
    "        w6=np.abs((dx)*(1-dy)*(dz))\n",
    "        w7=np.abs((1-dx)*(dy)*(dz))\n",
    "        w8=np.abs((dx)*(dy)*(dz))\n",
    "\n",
    "        \n",
    "        m[i]=0.0\n",
    "        m[i]=       ne[counter,r_local,theta_local,phi_local]*w1\n",
    "        m[i]=m[i]+  ne[counter,r_local+1,theta_local,phi_local]*w2\n",
    "        m[i]=m[i]+  ne[counter,r_local,theta_local+1,phi_local]*w3\n",
    "        m[i]=m[i]+  ne[counter,r_local+1,theta_local+1,phi_local]*w4\n",
    "\n",
    "        m[i]=m[i]+  ne[counter,r_local,theta_local,phi_local+1]*w5\n",
    "        m[i]=m[i]+  ne[counter,r_local+1,theta_local,phi_local+1]*w6\n",
    "        m[i]=m[i]+  ne[counter,r_local,theta_local+1,phi_local+1]*w7\n",
    "        m[i]=m[i]+  ne[counter,r_local+1,theta_local+1,phi_local+1]*w8\n",
    "\n",
    "\n",
    "\n",
    "    if Plot== True:\n",
    "        plt.figure(1)\n",
    "        plt.plot(m)\n",
    "        plt.title(\"Interpolated Data \")\n",
    "        plt.xlabel(\"Measurements\")\n",
    "        plt.ylabel(thisLabel)\n",
    "        \n",
    "        plt.figure(2)\n",
    "        plt.plot(dlat)\n",
    "        plt.title(\"Interpolated Data\")\n",
    "        plt.ylabel(\"Lat [deg]\")\n",
    "        plt.xlabel(\"time\")\n",
    "        \n",
    "        plt.figure(3)\n",
    "        plt.plot(dalt)\n",
    "        plt.title(\"Interpolated Data\")\n",
    "        plt.ylabel(\"Altitude [km]\")\n",
    "        plt.xlabel(\"time\")\n",
    "        \n",
    "\n",
    "\n",
    "    return (m)\n",
    "\n",
    "def Write(outfile,m,varname):\n",
    "\n",
    "    ncout = Dataset(outfile, \"a\", format=\"NETCDF4\")\n",
    "    data = ncout.createVariable(varname,\"f4\",('time'))\n",
    "    data[:]=m\n",
    "    ncout.close()\n",
    "    \n",
    "    \n",
    "    \n",
    "from ipywidgets import*\n",
    "import ipywidgets as widgets\n",
    "import warnings\n",
    "import sys\n",
    "sys.path.insert(1, \"../SourceCode\")\n",
    "import DaedalusGlobals as DaedalusGlobals\n",
    "import glob\n",
    "import os\n",
    "\n",
    "\n",
    "def LoadGUI():\n",
    "   \n",
    "    layout1 = {'width':'850px'}\n",
    "    style1 = {'description_width':'150px'}\n",
    "    \n",
    "    tiegcm_file=widgets.Dropdown(options=sorted(glob.glob(DaedalusGlobals.TIEGCM_Files_Path +\"TIEGCM_EVT1_2015_StPatricksDay_Rerun/*.nc\")), description='TIE-GCM files: ', style=style1, layout=layout1)\n",
    "    orbit_file=widgets.Dropdown(options=sorted(glob.glob(DaedalusGlobals.Orbit_Files_Path +\"DAED_ORB_Evt0_LLA*.nc\")), description='Orbit files: ', style=style1, layout=layout1)\n",
    "    saveOption= widgets.Checkbox(value=False,  description=\"Save Output\",style=style1, layout=layout1)\n",
    "    TGvar=widgets.Dropdown(\n",
    "            options=['All','XNMBAR','TI','TN','OP','DEN','HALL','HE','PEDERSEN','POTEN','TE',\n",
    "                    'O2_CM3', 'EEX', 'EEY', 'EEZ', 'ELECDEN', 'N2_CM3', 'NOP_LAM', 'NPLUS', '02P', 'O_CM3'\n",
    "                    'UN', 'VN', 'WN_lev', 'HALL', 'N2D', 'N4S', 'NO', 'Ui_lev', 'Vi_lev', 'WI_LEV'],\n",
    "            value='TN',\n",
    "            description='TIEGCM Variable:',\n",
    "            disabled=False,\n",
    "            style=style1, \n",
    "            layout=layout1\n",
    "            )\n",
    "    def Exec_Btn_Clicked( b ):\n",
    "        \n",
    "        if TGvar.value=='All':\n",
    "            thisLabel=\"TN\"\n",
    "            tgvars=['All','XNMBAR','TI','TN','OP','DEN','HALL','HE','PEDERSEN','POTEN','TE',\n",
    "                    'O2_CM3', 'EEX', 'EEY', 'EEZ', 'ELECDEN', 'N2_CM3', 'NOP_LAM', 'NPLUS', '02P', 'O_CM3'\n",
    "                    'UN', 'VN', 'WN_lev', 'HALL', 'N2D', 'N4S', 'NO', 'Ui_lev', 'Vi_lev', 'WI_LEV']\n",
    "            RunInterpolator(os.path.splitext(tiegcm_file.value)[0],os.path.splitext(orbit_file.value)[0],tgvars,saveOption.value,thisLabel)\n",
    "        else:\n",
    "            thisLabel=\"TN\"\n",
    "            tgvars=[TGvar.value]\n",
    "            if (TGvar.value==\"EEX\"):\n",
    "                thisLabel=\"Electric Field East \"\n",
    "            if (TGvar.value==\"EEY\"):\n",
    "                thisLabel=\"Electric Field North \"\n",
    "            if (TGvar.value==\"EEZ\"):\n",
    "                thisLabel=\"Electric Field Up\"\n",
    "                \n",
    "            RunInterpolator(os.path.splitext(tiegcm_file.value)[0],os.path.splitext(orbit_file.value)[0],tgvars,saveOption.value,thisLabel)\n",
    "  \n",
    "\n",
    "    def createGUI():\n",
    "        MainPanel = widgets.VBox() \n",
    "        MainTab = widgets.Tab() \n",
    "        VerticalPanel = widgets.VBox()\n",
    "        MapPanel = widgets.VBox()\n",
    "        MainTab.children = [ VerticalPanel ]\n",
    "        MainTab.set_title(0, 'Interpolator')\n",
    "        MainPanel.children = [MainTab ]   \n",
    "        Exec_Btn = widgets.Button (description='Run',tooltip=\"Click here to Interpolate\",)\n",
    "        Exec_Btn.style.button_color = 'Red'\n",
    "        Exec_Btn.on_click( Exec_Btn_Clicked )\n",
    "        VerticalPanel.children = [tiegcm_file,orbit_file,TGvar,saveOption,Exec_Btn]\n",
    "    \n",
    "        return MainPanel\n",
    "    display( createGUI() )\n",
    "\n",
    "\n",
    "def RunInterpolator(model_data_file,orbit_file,TGvar,Save=False,thisLabel=\"TN\"):\n",
    "    model=Model(model_data_file ,500,100)  #initialize model\n",
    "    orbit=Orbit(orbit_file)                #initialize  orbit\n",
    "    outfile=os.getenv(\"HOME\")+\"/\"+os.path.basename(model_data_file)+\"_Interpolated.nc\"\n",
    "    dtime,dlat,dlon,dalt,index,int_final=orbit.createorbit(orbit.name,model.minAltitude,model.maxAltitude,outfile,Save)\n",
    "    gtime,glat,glon,glev,zg=model.readGrid(model.name)                                     #get model stats\n",
    "    \n",
    "    print(len(gtime))\n",
    "\n",
    "    \n",
    "    #select variable\n",
    "    for jj in tqdm(range(len(TGvar))):\n",
    "        var=model.readVar(model.name,TGvar[jj])\n",
    "        interpolatedData1=Interpolate_Serial(glat,glon,glev,dlat,dlon,dalt,zg,var,True,thisLabel)\n",
    "        interpolatedData=orbit.mergeData(index,int_final,interpolatedData1)\n",
    "\n",
    "\n",
    "        if Save == True: \n",
    "            Write(outfile,interpolatedData,TGvar[jj])\n",
    "            \n",
    "        \n",
    "  \n",
    "\n"
   ]
  },
  {
   "cell_type": "markdown",
   "metadata": {},
   "source": [
    "## A sample call to the Interpolation Module:"
   ]
  },
  {
   "cell_type": "code",
   "execution_count": 38,
   "metadata": {},
   "outputs": [
    {
     "data": {
      "application/vnd.jupyter.widget-view+json": {
       "model_id": "828e388b36d449258dc24fb1b8fbe26a",
       "version_major": 2,
       "version_minor": 0
      },
      "text/plain": [
       "VBox(children=(Tab(children=(VBox(children=(Dropdown(description='TIE-GCM files: ', layout=Layout(width='850px…"
      ]
     },
     "metadata": {},
     "output_type": "display_data"
    },
    {
     "name": "stdout",
     "output_type": "stream",
     "text": [
      "7201\n"
     ]
    },
    {
     "name": "stderr",
     "output_type": "stream",
     "text": [
      "100%|██████████| 1/1 [00:00<00:00,  6.91it/s]"
     ]
    },
    {
     "name": "stdout",
     "output_type": "stream",
     "text": [
      "24\n"
     ]
    },
    {
     "name": "stderr",
     "output_type": "stream",
     "text": [
      "\n"
     ]
    },
    {
     "data": {
      "image/png": "[encoded data removed]",
      "text/plain": [
       "<Figure size 432x288 with 1 Axes>"
      ]
     },
     "metadata": {
      "needs_background": "light"
     },
     "output_type": "display_data"
    },
    {
     "data": {
      "image/png": "[encoded data removed]",
      "text/plain": [
       "<Figure size 432x288 with 1 Axes>"
      ]
     },
     "metadata": {
      "needs_background": "light"
     },
     "output_type": "display_data"
    },
    {
     "data": {
      "image/png": "[encoded data removed]",
      "text/plain": [
       "<Figure size 432x288 with 1 Axes>"
      ]
     },
     "metadata": {
      "needs_background": "light"
     },
     "output_type": "display_data"
    }
   ],
   "source": [
    "LoadGUI()\n",
    "\n",
    "\n",
    "\n"
   ]
  },
  {
   "cell_type": "code",
   "execution_count": null,
   "metadata": {},
   "outputs": [],
   "source": []
  },
  {
   "cell_type": "code",
   "execution_count": null,
   "metadata": {},
   "outputs": [],
   "source": []
  }
 ],
 "metadata": {
  "kernelspec": {
   "display_name": "Python 3",
   "language": "python",
   "name": "python3"
  },
  "language_info": {
   "codemirror_mode": {
    "name": "ipython",
    "version": 3
   },
   "file_extension": ".py",
   "mimetype": "text/x-python",
   "name": "python",
   "nbconvert_exporter": "python",
   "pygments_lexer": "ipython3",
   "version": "3.7.4"
  }
 },
 "nbformat": 4,
 "nbformat_minor": 4
}
