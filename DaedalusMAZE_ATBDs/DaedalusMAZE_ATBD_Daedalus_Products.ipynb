{
 "cells": [
  {
   "cell_type": "markdown",
   "metadata": {},
   "source": [
    "# Daedalus Derived Product Estimations Based on GCMs\n",
    "\n",
    "### Table of Contents\n",
    "* [Table of all Derived Products](#Table_Products)\n",
    "* [Descriptions of Derived Products](#Descriptions)\n",
    "* [Code Description](#Code)\n",
    " \n",
    "### Table of all Derived Products\n",
    "<a class=\"anchor\" id=\"Table_Products\"></a>\n",
    "\n",
    " <p style='text-align: justify;'> \n",
    "The following derived products, which involve the output from more than one instruments or other significant processing of raw instrument data, will be calculated by Daedalus:\n",
    "\n",
    "\n",
    "|A/A|**List of Derived Products**|Symbolic Description (not actually <br> used formulas) | Corresponding Section in <br> DAED_Ph0Sc01_D1|\n",
    "|---|:---|:---:|---|\n",
    "|**1**|**..........................................................................................**|**..........................................................................................**|**..........................................................................................**|\n",
    "|1.a|Joule Heating $q_{j}$  |$ q_{j}=\\vec{j}·(\\vec{E}+ \\vec{u_{n}}⨯\\vec{B}) $|(4.1.2.3)\n",
    "|1.b| Ohmic Heating $q_{Ω}$ |$ q_{Ω} = \\sigma_{P}  | \\vec{E}+ \\vec{u_{n}}⨯ \\vec{B} | ^{2} $|(4.1.2.4)\n",
    "|1.c|Frictional Heating ($q_{f}$) |$ q_{f} =m_{i} ν_{in} N_{e} |v_{i} - u_{n}|^{2}$|(4.1.2.5)\n",
    "|1.d|Poynting Vector ($S$) <br> in the neutral gas frame|$ \\vec{S} =(\\vec{E}+ \\vec{u_{n}}⨯ \\vec{B})×∆\\vec{B}/μ_{0}$|\n",
    "|**2**|**..........................................................................................**|**..........................................................................................**|**..........................................................................................**|\n",
    "|2.a|In-situ current density $j$|$ \\vec{j} $|\n",
    "|2.b|Magnetic Forcing (MF)|$ \\vec{j}× \\vec{B} $| (4.1.3)\n",
    "|2.c|Field Aligned Currents (FAC)| $\\Delta\\vec{B}/(μ_{0}\\Delta x)$|(4.1.9)\n",
    "|**3**|**..........................................................................................**|**..........................................................................................**|**..........................................................................................**|\n",
    "|3.a|Conductivities|$σ_{P}$, $σ_{H}$, $σ_{ǁ}$|(4.1.4)\n",
    "|3.b|Ion-Neutral Cross Sections|$σ_{in}$|(4.1.5)\n",
    "|3.c|Ion-Neutral Collision Frequencies |$\\nu_{in}$|(4.1.5)\n",
    "|**4**|**..........................................................................................**|**..........................................................................................**|**..........................................................................................**|\n",
    "|4.a|Heating by e- impact ionization (EI), <br> has this scientific meaning only in darkness.|$34eVaNe^{2}$|(4.1.6)\n",
    "|4.b|Heat transfer to the neutral <br> gas by ion and e- cooling (II)|C ($N_{e}$, $T_{i}$, $T_{e}$, $N_{n}$, $T_{n}$)|(4.1.7)\n",
    "|**5**|**...........................................................................................**|**..........................................................................................**|**..........................................................................................**|\n",
    "|5.a|Total Electron Content (TEC), slanted and vertical|$sTEC$, $vTEC$|(4.1.9)\n",
    "|**6**|**...........................................................................................**|**..........................................................................................**|**..........................................................................................**|\n",
    "|6.a|Gravity wave scales||\t\n",
    "\n",
    "\n",
    "\n",
    "### Descriptions of Derived Products\n",
    "<a class=\"anchor\" id=\"Descriptions\"></a>\n",
    "<p style='text-align: justify;'> \n",
    "\n",
    "#### 1. Joule, Ohmic, Frictional heating and Poynting Flux\n",
    "<p style='text-align: justify;'> \n",
    "The first three derived products Joule, Ohmic, and Frictional heating, in this context designate three different methods to measure the same physical process, the local dissipation of energy in the magnetized, partially ionized upper atmosphere. Because Daedalus provides the complete set of neutral wind, ion drift and electric field vectors, plus the electron density and ion composition, there are actually three such methods to derive the dissipation (Joule heating) from the combined instrument data. The methods are expected to perform differently depending on altitude and instrument characterstics, therefore all three products will be derived.\n",
    "<p style='text-align: justify;'> \n",
    "Previously Sangalli et al. (2009) estimated heating rates from measurements obtained with the JOULE-II sounding rocket using a method similar to the first method above. Otherwise estimation of the electromagnetic energy transfer into the LTI with satellites resorted to deriving the Poynting vector at the satellite location above the LTI (described in several publications, e.g. Cosgrove et al., 2014). For Daedalus the Poynting vector is of course also provided, and this will complement the Joule heating products particularly when the satellite is above about 150 km height. The three methods to derive heating rates and the Poynting vector address the science objective associated with the energetics of the LTI.\n",
    "    \n",
    "\n",
    "#### 2. Magnetic Forcing\n",
    "<p style='text-align: justify;'> \n",
    "Related to energetics, but distinct from it, are questions of the dynamics and momentum balance in the LTI. The corresponding Daedalus derived product is the magnetic or j ⃗×B ⃗ force, sometimes also called Lorentz force or Magnetic Forcing.\n",
    "\n",
    "#### 3. Conductivities\n",
    "<p style='text-align: justify;'> \n",
    "Conductivities are widely used and needed parameters, for data assimilation methods and computer simulations, the analysis of electric fields, field-aligned currents (FACs) and their closure below the height where they are typically measured. The conductivities may be presented as a 3x3 tensor σ ⃡, with Ohm’s law written as j ⃗=σ ⃡∙E ⃗. However, the tensor contains only three distinct parameters, namely the Pedersen, Hall, and parallel conductivities σ_P, σ_H, and σ_ǁ, which will be provided as Daedalus derived products. The variability of conductivities stems mainly from that of the electron density N_e, but also the neutral density N_n, the magnetic field strength B and temperature dependent ion-neutral collisional cross sections σ_in enter the equations for σ_P, σ_H, and σ_ǁ.\n",
    "\n",
    "#### 4. Ion-neutral collisional cross sections and collision frequencies\n",
    "<p style='text-align: justify;'> \n",
    "Daedalus provides the measurements needed to derive Joule heating rates with a certain redundancy leading to the three different methods. Because all methods should give the same result, this allows to adjust the ion-neutral collisional cross sections σ_in and collision frequencies ν_in, which are needed in two of the methods, “Frictional” and “Ohmic” heating. σ_in and ν_in are normally taken from published tables, for example in the text book by Schunk and Nagy (2009). The values in these tables for σ_in typically originate from measurements in the laboratory, not always performed under the similar conditions as in the ionosphere (often at lower temperatures), and with measurement uncertainties. Daedalus offers the opportunity to update the values of these widely used cross sections. In a sense it repeats these laboratory measurements but under ionospheric conditions. In practice this will give results mainly near the peak of the Joule heating rate at about 120 km altitude, plus/minus about a scale height (≈9 km).\n",
    "\n",
    "#### 5. Heating by electron impact ionization\n",
    "<p style='text-align: justify;'> \n",
    "Ionization and recombination in the LTI produces heat (in addition to the Joule heating which is the main theme of the Daedalus mission). The main causes of the ionization are the global absorption of solar EUV radiation, wavelengths 10-120 nm, and the collisional impact of energetic particles, mainly electrons, from space at high latitudes. Under the condition that convection is negligible the local heat production can be estimated from the measured N_e using model values for the recombination coefficients (confirm Bates, 1988) and a representative number of the heat produced per ionization and recombination. Laboratory measurements have suggested that this number is about 34 eV for electron impact (Rees, 1989). Although unconfirmed one can assume that even in case of ionospheric ionization by EUV also roughly 34 eV of heat are dissipated. The Daedalus product can be compared and will complement measurements of the EUV flux (Kazachevskaya et al., 2004) and of the energetic electron particle flux on satellites above the LTI (including Daedalus itself), and the F10.7 at the ground, which is a proxy for the EUV flux.\n",
    "\n",
    "#### 6. Heat transfer to the neutral gas by ion and electron cooling\n",
    "<p style='text-align: justify;'> \n",
    "The friction between ions and neutrals as well as ionization results in different temperatures of ions, electrons and the neutral gas, and collisional heat transfer between these components. The rates can be derived from observed temperatures and collisional cross sections. Among other this product provides additional consistency checks for other products: the cooling rate of ions to neutrals should be roughly half of the Joule heating, and that of electrons to neutrals and ions should nearly match the heating estimate described in the previous section.\n",
    "\n",
    "#### 7. Field-aligned currents\n",
    "<p style='text-align: justify;'> \n",
    "Field-aligned currents are a standard product of satellites possessing a magnetometer, and methods to derive FACs are well established. Daedalus will adopt the single spacecraft method used for the corresponding Swarm products.\n",
    "\n",
    "#### 8. Total Electron Content (TEC)\n",
    "<p style='text-align: justify;'> \n",
    "The slanted and vertical TEC are standard products when GNSS signals are received. \n",
    "\n",
    "### Code Description\n",
    "<a class=\"anchor\" id=\"Code\"></a>\n",
    "\n",
    "Two models were used in the following simulations, NCAR's  Thermosphere-Ionosphere- Electrodynamics General Circulation Model (TIE-GCM)[1] and International Geomagnetic Reference Field (IGRF12)[2]. <br>\n",
    "\n",
    "#### 1. Electric field\n",
    "<p style='text-align: justify;'> \n",
    "\n",
    "The component of the electric field perpendiculat to the magnetic field is derived from the ExB ion drifts, provided by TIE-GCM according to equation:\n",
    "\n",
    "$$\\vec{E_{\\bot }}=-\\vec{v_{i}}x\\vec{B}        \\label{eq:E_field} \\tag{1}$$\n",
    "\n",
    "the magnetic field vector $\\vec{B}$ is derived from IGRF. Let us use star sympol to denote parameters expressed in the reference frames of the neutrals, and with the subscript $\\bot$ denote the component perpendicular to the magnetic field. If there is a wind of velocity $\\vec{u_{n}}$, the electric field in the neutral reference frame is expressed as:\n",
    "\n",
    "$$\\vec{E^{*}}=\\vec{E}+\\vec{u_{n}}\\times \\vec{B}  \\tag{2}$$\n",
    "\n",
    "#### 2. Gyrofrequencies\n",
    "<p style='text-align: justify;'> \n",
    "\n",
    "The gyrofrequencies of the electrons and the ions are calculated as:\n",
    "\n",
    "$$\\Omega_{j}= \\frac{eB}{m_{j}} \\tag{3}$$\n",
    "\n",
    "where $j=e,O^{+},O_{2}^{+}$. \n",
    "\n",
    "#### 3. Collision frequencies\n",
    "<p style='text-align: justify;'> \n",
    "\n",
    "The next step is to calculate the ion-neutral $(\\nu_{in})$ and electron-neutral $(\\nu_{en})$ collision frequencies. The same formulas that are used in the TIE-GCM model internally were used in the simulations. The formulas are derived from Schunk and Nagy (2000)[3].\n",
    "\n",
    "\n",
    "$$\\nu_{O_2^+-O}=2.31 \\cdot 10^{-10} N_{O} \\label{eq:VO2p_Ο} \\tag{4}$$\n",
    "$$\\nu_{O_2^+-O_2}=2.59 \\cdot 10^{-11} N_{O_2} \\sqrt{\\frac{T_{i}}{2} + \\frac{T_{n}}{2}} \\left(- 0.073 \\log_{10}{\\left(\\frac{T_{i}}{2} + \\frac{T_{n}}{2} \\right)} + 1\\right)^{2}\\label{eq:VO2p_Ο2} \\tag{5}$$\n",
    "$$\\nu_{O_2^+-N_2}=4.31 \\cdot 10^{-10} N_{N_2}             \\label{eq:VO2p_Ν2} \\tag{6}$$\n",
    "\n",
    "$$\\nu_{O^+-O}=3.67 \\cdot 10^{-11} N_{O}  \\sqrt{\\frac{T_{i}}{2} + \\frac{T_{n}}{2}} \\left(- 0.064 \\log_{10}{\\left(\\frac{T_{i}}{2} + \\frac{T_{n}}{2} \\right)} + 1\\right)^{2} fb             \\label{eq:VOp_Ο} \\tag{7}$$\n",
    "\n",
    "$$\\nu_{O^+-O_2}=6.64 \\cdot 10^{-10} N_{O2}\\label{eq:VOp_Ο2} \\tag{8}$$\n",
    "\n",
    "$$\\nu_{O^+-N_2}=6.82 \\cdot 10^{-10} N_{N2}\\label{eq:VOp_N2} \\tag{9}$$\n",
    "\n",
    "$$\\nu_{in}=\\nu_{O_2^+-O}+\\nu_{O_2^+-O_2}+\\nu_{O_2^+-N_2}+\\nu_{O^+-O}+\\nu_{O^+-N_2}+\\nu_{O^+-N_2} \\tag{10}$$\n",
    "\n",
    "$$\\nu_{en}=2.33 \\cdot 10^{-11} N_{N_2} T_{e} \\left(1 - 0.000121 T_{e}\\right) + \\\\8.9 \\cdot 10^{-11} N_{O} \\sqrt{T_{e}} \\left(0.00057 T_{e} + 1\\right) +\\\\ 1.82 \\cdot 10^{-10} N_{O_2} \\sqrt{T_{e}} \\left(0.036 \\sqrt{T_{e}} + 1\\right)\\label{eq:Ven} \\tag{11}$$\n",
    "\n",
    "#### 4. Gyro to Collision frequency ratios\n",
    "\n",
    "$$r_{j}=\\frac{\\nu_{jn}}{\\Omega_{j}}\\label{eq:r_Op} \\tag{12}$$\n",
    "where $j=e,O^{+},O_{2}^{+}$. \n",
    "\n",
    "#### 5.Ion-Neutral collision cross sections\n",
    "\n",
    "\n",
    "$$ \\sigma_{in}= \\frac{\\nu_{in}}{N_{n} \\sqrt{2 k_{B} T_{i} / m_{i}}} \\tag{13}$$\n",
    "\n",
    "where $N_{n}$ is the neutral number density, $k_{B}$ is Boltzmann's constant, $T_{i}$ is the ion temperature and $m_{i}$ is the ion mass.\n",
    "\n",
    "#### 6.Conductivities\n",
    "\n",
    "The Pedersen $σ_{P}$, Hall $σ_{H}$ and Parallel $σ_{||}$ condcutivities are derived from the following formulas:\n",
    "\n",
    "$  \\sigma_{P} = \\frac{q_{e}}{B} \\left(N_e  \\frac{r_{e}}{r_{e}^{2} + 1} + N_{O^+}  \\frac{ r_{O^+}}{r_{O^+}^{2} + 1} + N_{O_2^+} \\frac{ r_{O_2^+}}{r_{O_2^+}^{2} + 1}\\right) \\label{eq:Pedersen}\\tag{14}$\n",
    "\n",
    "\n",
    "$ \\sigma_{H}=\\frac{q_{e}}{B} \\left(N_e  \\frac{1}{r_{e}^{2} + 1} -N_{O_2^+}  \\frac{1}{r_{O_2^+}^{2} + 1} - N_{O^+} \\frac{1}{r_{O^+}^{2} + 1}\\right)\\label{eq:Hall} \\tag{15}$\n",
    "\n",
    "$ \\sigma_{\\parallel}=N_e  \\frac{ q_{e}^{2}}{\\nu_{en} m_{e}}\\label{eq:Parallel} \\tag{16}$ \n",
    "\n",
    "where $N_{j}$ is the corresponding number desity in $m^{-3}$.\n",
    "\n",
    "#### 7.Ion and Electron velocities\n",
    "\n",
    "Expressions for the ion and electorn velocities were derived by solving the coresponding momentum equations:\n",
    "\n",
    "$$ \\vec{v_{i\\bot}^{*}}= \\frac{\\nu_{in} \\Omega_{i} \\vec{E_{\\bot}^{*}} - \\Omega_{i}^2 \\hat{b} x \\vec{E_{\\bot}^{*}} }{B(\\nu_{in}^2+\\Omega_{i}^2)} \\tag{17}$$\n",
    "\n",
    "$$ \\vec{v_{e\\bot}^{*}}= \\frac{-\\nu_{en\\bot} \\Omega_{e} \\vec{E_{\\bot}^{*}} - \\Omega_{e}^2 \\hat{b} x \\vec{E_{\\bot}^{*}} }{B(\\nu_{en\\bot}^2+\\Omega_{e}^2)} \\tag{18}$$\n",
    "\n",
    "where $\\hat{b}$ is a unit vector along the magnetic field line.\n",
    "\n",
    "#### 8. Heating rates\n",
    "\n",
    "According to Poynting's theorem, at high latitudes the electormagnetic interaction between the ionosphere and magnetosphere can be expressed as:\n",
    "\n",
    "$$ \\frac{\\partial w}{\\partial t} + \\nabla \\cdot{\\frac{\\vec{E} \\times \\vec{B}}{\\mu_0}}+ \\vec{J} \\cdot \\vec{E} =0 \\tag{19}$$\n",
    "\n",
    "where $w$ is the electromagnetic energy density and $\\mu_0$ is the magnetic permeability of free space.<br>\n",
    "\n",
    "For a static case, the first term in (18) vanishes, so equation (18) becomes:\n",
    "\n",
    "$$ \\nabla \\cdot{\\frac{\\vec{E} \\times \\vec{B}}{\\mu_0}}+ \\vec{J} \\cdot \\vec{E} =0 \\tag{20}$$\n",
    "\n",
    "which means that the Poynting flux flowing in or out of a unit volume in the ionosphere, is compensated by the energy dissipated ($\\vec{J} \\cdot \\vec{E} >0 $) or generated ($\\vec{J} \\cdot \\vec{E} <0 $) within this volume. The parallel to the magnetic field component of the electirc field $\\vec{E_{||}}$, is much smaller than the perpendicular component in the ionosphere, thus $\\vec{E_{||}}\\approx 0$. In that sense the rate of energy transfer to the medium becomes:\n",
    "\n",
    "$$ \\vec{J} \\cdot \\vec{E} \\approx \\vec{J_{\\bot}} \\cdot \\vec{E} \\tag{21}$$\n",
    " In the neutral reference frame, (20) becomes:\n",
    " \n",
    "$$\\vec{J_{\\bot}} \\cdot \\vec{E} = \\vec{J_{\\bot}} \\cdot \\vec{E^{*}}+\\vec{u_{n}} \\cdot (\\vec{J}  \\times \\vec{B}) \\tag{22}$$ \n",
    "\n",
    "the first term in the right hand of (21), $\\vec{J_{\\bot}} \\cdot \\vec{E^{*}}$ is the Joule heating rate $q_{j}$, while the second term $\\vec{u_{n}} \\cdot (\\vec{J}  \\times \\vec{B})$ is the mechanical power i.e. the rate of work done by the Ampere force $\\vec{J}  \\times \\vec{B}$ on the neutral gases. Taking into account Ohm's law, we derive another expression for the heating rate, the Ohmic heating rate $q_{\\Omega}$ :\n",
    "\n",
    "$$ q_{\\Omega}= \\sigma_{P}(\\vec{E}+\\vec{u_{n}}\\times \\vec{B})^2 \\tag{23} $$\n",
    "  \n",
    "\n",
    "Analysing further $q_{\\Omega}$:\n",
    "\n",
    "$$\\sigma_{P}(\\vec{E}+\\vec{u_{n}}\\times \\vec{B})^2 = \\sigma_{P} E^2 + \\sigma_{P} |\\vec{u_{n}}\\times \\vec{B}|^2 - 2 \\sigma_{P}\\vec{u_{n}}\\cdot (\\vec{E}\\times \\vec{B}) \\tag{24}    $$\n",
    "\n",
    "the first term in the right hand side of (23) i.e. $\\sigma_{P} E^2$ is the heating rate in the absence of neutrla winds, while the other two terms, i.e. $\\sigma_{P} |\\vec{u_{n}}\\times \\vec{B}|^2 - 2 \\sigma_{P}\\vec{u_{n}}\\cdot (\\vec{E}\\times \\vec{B})$ is the contribution of the neutral winds to the total heating rate. Following Lu et al.(1995)[4] terminology, we name the first one convenction heating $q_{c}$, and the wind contribution as wind heating $q_{w}$, i.e.:\n",
    "\n",
    "$$q_{c}=\\sigma_{P} E^2 \\tag{25}    $$\n",
    "\n",
    "$$q_{w}=\\sigma_{P} |\\vec{u_{n}}\\times \\vec{B}|^2 - 2 \\sigma_{P}\\vec{u_{n}}\\cdot (\\vec{E}\\times \\vec{B}) \\tag{26}    $$\n",
    "\n",
    "Another way to express the total heating rate is to address it as frictional heating $q_{f}$:\n",
    "\n",
    "$$q_{f}=m_{i} N_{e} \\nu_{in} |\\vec{v_{i\\bot}^*}|^2 = m_{i} N_{e} \\nu_{in} |\\vec{v_{i\\bot}} -\\vec{u_{n\\bot}} |^2 \\tag{27}    $$\n",
    "\n",
    "where $m_{i}$ is the ion mass.\n",
    "\n",
    "#### 9. Perpendicular currents\n",
    "\n",
    "From the ionospheric Ohm's law:\n",
    "\n",
    "$$ \\vec{J_{\\bot}}= \\sigma_{P} \\vec{E_{\\bot}^*} + \\sigma_{H} \\hat{b} \\times \\vec{E_{\\bot}^*}   \\tag{28}$$\n",
    "\n",
    "where: <br>\n",
    "\n",
    "$$ \\vec{J_{P}}= \\sigma_{P} \\vec{E_{\\bot}^*}   \\tag{29}$$\n",
    " is the Pedersen current density, and:\n",
    " \n",
    " $$ \\vec{J_{H}}=  \\sigma_{H} \\hat{b} \\times \\vec{E_{\\bot}^*}   \\tag{30}$$\n",
    " \n",
    " is the Hall current density.\n",
    "\n",
    "\n",
    "\n",
    "\n",
    "<br><br><br>\n",
    "[1]Qian, Liying, et al. \"The NCAR TIE-GCM: A community model of the coupled thermosphere/ionosphere system.\" Modeling the ionosphere-thermosphere system 201 (2014): 73-83.<br>\n",
    "[2]Thébault, Erwan, et al. \"International geomagnetic reference field: the 12th generation.\" Earth, Planets and Space 67.1 (2015): 79.<br>\n",
    "[3]Schunk, R., & Nagy, A. (2000). Ionospheres: Physics, Plasma Physics, and Chemistry (Cambridge Atmospheric and Space Science Series). Cambridge: Cambridge University Press. doi:10.1017/CBO9780511551772<br>\n",
    "[4]Lu, G., Richmond, A. D., Emery, B. A., & Roble, R. G. (1995). Magnetosphere-ionosphere-thermosphere coupling: Effect of neutral winds on energy-transfer and field-aligned current. Journal Of Geophysical Research-Space Physics, 100, 19643-19659. doi:10.1029/95JA00766\n",
    "</p>"
   ]
  },
  {
   "cell_type": "code",
   "execution_count": 2,
   "metadata": {
    "scrolled": false
   },
   "outputs": [
    {
     "data": {
      "application/vnd.jupyter.widget-view+json": {
       "model_id": "736b0d8f27844ba5986cf82c63718150",
       "version_major": 2,
       "version_minor": 0
      },
      "text/plain": [
       "VBox(children=(Tab(children=(VBox(children=(Dropdown(description='TIE-GCM files: ', layout=Layout(width='850px…"
      ]
     },
     "metadata": {},
     "output_type": "display_data"
    },
    {
     "name": "stdout",
     "output_type": "stream",
     "text": [
      "Calculation started...\n",
      "Calculation executed!\n",
      "Total run time: 7.04130744934082 seconds\n",
      "Plotting heating rates...\n"
     ]
    },
    {
     "data": {
      "application/vnd.plotly.v1+json": {
       "config": {
        "plotlyServerURL": "https://plot.ly"
       },
       "data": [
        {
         "marker": {
          "color": "blue"
         },
         "mode": "lines",
         "name": "Ohmic",
         "type": "scatter",
         "x": [
          4.2991368415941334e-11,
          7.657470095069136e-11,
          1.352066207119386e-10,
          2.3082462076996765e-10,
          3.997585689287314e-10,
          7.111394996499158e-10,
          1.3092948721250445e-09,
          2.4621680862414066e-09,
          4.50509940041035e-09,
          7.397700991220527e-09,
          1.001878328910151e-08,
          1.064813844218031e-08,
          9.092471675989818e-09,
          6.8099751382077965e-09,
          4.91935529084243e-09,
          3.6332006313705183e-09,
          2.7809994201616234e-09,
          2.1819670137823754e-09,
          1.7316863294979583e-09,
          1.3838293903880692e-09,
          1.1178410649165997e-09,
          9.19183784071731e-10,
          7.945486969521529e-10,
          7.040249506273111e-10,
          6.249088625895645e-10,
          5.709287659425084e-10,
          5.319624797769998e-10,
          4.976816061158901e-10,
          4.600979323932215e-10,
          4.1547357613198035e-10,
          3.6463401781027304e-10,
          3.1111789618717586e-10,
          2.5887049041973597e-10,
          2.108577258435956e-10,
          1.6872335900564483e-10,
          1.330122805816176e-10,
          1.0354213439068143e-10,
          7.972777835152563e-11,
          6.08089632695527e-11,
          4.599157398042689e-11,
          3.452656138284036e-11,
          2.5748432532681607e-11,
          1.9089166724047613e-11,
          1.407799098152774e-11,
          1.0333646922870634e-11,
          7.553122422567045e-12,
          5.4993956144735165e-12,
          3.9895397347669155e-12,
          2.883993042021871e-12,
          2.0773231458263747e-12,
          1.4905495112248115e-12,
          1.0649287225935503e-12,
          7.570309695376243e-13,
          5.349070468932997e-13,
          3.7514836206633364e-13,
          2.60657169277893e-13
         ],
         "y": [
          96.36432,
          97.69113,
          98.96521,
          100.21858,
          101.49149,
          102.83465,
          104.31025,
          105.99205,
          107.9605,
          110.28514,
          112.99677,
          116.0809,
          119.49435,
          123.18561,
          127.1144,
          131.26863,
          135.66771,
          140.35171,
          145.36669,
          150.75399,
          156.54488,
          162.75891,
          169.4047,
          176.48172,
          183.98288,
          191.89784,
          200.21538,
          208.92486,
          218.01702,
          227.48388,
          237.31828,
          247.51354,
          258.0632,
          268.96082,
          280.19986,
          291.77326,
          303.6734,
          315.89174,
          328.419,
          341.2452,
          354.35996,
          367.75308,
          381.41508,
          395.33784,
          409.5154,
          423.9448,
          438.62676,
          453.56656,
          468.7752,
          484.27028,
          500.07764,
          516.23308,
          532.7848,
          549.7966,
          567.35232,
          585.562,
          603.77168
         ]
        },
        {
         "marker": {
          "color": "green"
         },
         "mode": "lines",
         "name": "Joule",
         "type": "scatter",
         "x": [
          3.292132804738763e-11,
          6.602335967640331e-11,
          1.2727460606998584e-10,
          2.3143354410510932e-10,
          4.189137636168936e-10,
          7.679719544457807e-10,
          1.4415697705969585e-09,
          2.7378871286251727e-09,
          5.005941694761228e-09,
          8.107960678889038e-09,
          1.0687533940849022e-08,
          1.0961074304682086e-08,
          9.036929922343916e-09,
          6.5935148304966886e-09,
          4.697656949792238e-09,
          3.462775013249727e-09,
          2.67172280621319e-09,
          2.1291515455466704e-09,
          1.7258885016067819e-09,
          1.4139864195527221e-09,
          1.1733386061664774e-09,
          9.909902837624144e-10,
          8.774508232268443e-10,
          7.913890253184436e-10,
          7.064978239536982e-10,
          6.403034966390173e-10,
          5.854099717649968e-10,
          5.35409421307555e-10,
          4.852794566187516e-10,
          4.323003396050097e-10,
          3.7652925926917327e-10,
          3.202133171080554e-10,
          2.6626367124985174e-10,
          2.170457571924002e-10,
          1.7392731682879042e-10,
          1.37354276458041e-10,
          1.0712054146933587e-10,
          8.263947969244282e-11,
          6.315031554840808e-11,
          4.7853894706068964e-11,
          3.599240815697886e-11,
          2.688998277780262e-11,
          1.9968233851575058e-11,
          1.4746876302718678e-11,
          1.0836228490478809e-11,
          7.925883756695191e-12,
          5.7723160275755495e-12,
          4.1868828183301455e-12,
          3.0250358606808043e-12,
          2.1770728052639526e-12,
          1.5604446810948322e-12,
          1.1135117394135248e-12,
          7.905622203949265e-13,
          5.578989795722741e-13,
          3.9080854055951944e-13,
          2.712436519098448e-13
         ],
         "y": [
          96.36432,
          97.69113,
          98.96521,
          100.21858,
          101.49149,
          102.83465,
          104.31025,
          105.99205,
          107.9605,
          110.28514,
          112.99677,
          116.0809,
          119.49435,
          123.18561,
          127.1144,
          131.26863,
          135.66771,
          140.35171,
          145.36669,
          150.75399,
          156.54488,
          162.75891,
          169.4047,
          176.48172,
          183.98288,
          191.89784,
          200.21538,
          208.92486,
          218.01702,
          227.48388,
          237.31828,
          247.51354,
          258.0632,
          268.96082,
          280.19986,
          291.77326,
          303.6734,
          315.89174,
          328.419,
          341.2452,
          354.35996,
          367.75308,
          381.41508,
          395.33784,
          409.5154,
          423.9448,
          438.62676,
          453.56656,
          468.7752,
          484.27028,
          500.07764,
          516.23308,
          532.7848,
          549.7966,
          567.35232,
          585.562,
          603.77168
         ]
        },
        {
         "marker": {
          "color": "red"
         },
         "mode": "lines",
         "name": "Frictional",
         "type": "scatter",
         "x": [
          3.2921328047387625e-11,
          6.60233596764033e-11,
          1.2727460606998584e-10,
          2.3143354410510935e-10,
          4.189137636168937e-10,
          7.679719544457809e-10,
          1.441569770596958e-09,
          2.7378871286251722e-09,
          5.005941694761227e-09,
          8.107960678889038e-09,
          1.0687533940849019e-08,
          1.0961074304682087e-08,
          9.036929922343918e-09,
          6.593514830496686e-09,
          4.697656949792237e-09,
          3.462775013249727e-09,
          2.671722806213189e-09,
          2.129151545546671e-09,
          1.7258885016067823e-09,
          1.413986419552722e-09,
          1.1733386061664778e-09,
          9.909902837624146e-10,
          8.774508232268456e-10,
          7.913890253184428e-10,
          7.064978239536975e-10,
          6.403034966390189e-10,
          5.854099717649961e-10,
          5.354094213075543e-10,
          4.852794566187507e-10,
          4.3230033960500845e-10,
          3.765292592691709e-10,
          3.20213317108056e-10,
          2.6626367124985344e-10,
          2.1704575719240424e-10,
          1.7392731682879174e-10,
          1.3735427645803905e-10,
          1.0712054146933371e-10,
          8.26394796924399e-11,
          6.315031554840722e-11,
          4.785389470606821e-11,
          3.5992408156981197e-11,
          2.6889982777805513e-11,
          1.996823385157296e-11,
          1.47468763027197e-11,
          1.0836228490478444e-11,
          7.92588375669426e-12,
          5.772316027576989e-12,
          4.186882818331631e-12,
          3.025035860679342e-12,
          2.1770728052618446e-12,
          1.560444681094461e-12,
          1.1135117394142124e-12,
          7.905622203961326e-13,
          5.578989795735865e-13,
          3.9080854056048677e-13,
          2.712436519097643e-13
         ],
         "y": [
          96.36432,
          97.69113,
          98.96521,
          100.21858,
          101.49149,
          102.83465,
          104.31025,
          105.99205,
          107.9605,
          110.28514,
          112.99677,
          116.0809,
          119.49435,
          123.18561,
          127.1144,
          131.26863,
          135.66771,
          140.35171,
          145.36669,
          150.75399,
          156.54488,
          162.75891,
          169.4047,
          176.48172,
          183.98288,
          191.89784,
          200.21538,
          208.92486,
          218.01702,
          227.48388,
          237.31828,
          247.51354,
          258.0632,
          268.96082,
          280.19986,
          291.77326,
          303.6734,
          315.89174,
          328.419,
          341.2452,
          354.35996,
          367.75308,
          381.41508,
          395.33784,
          409.5154,
          423.9448,
          438.62676,
          453.56656,
          468.7752,
          484.27028,
          500.07764,
          516.23308,
          532.7848,
          549.7966,
          567.35232,
          585.562,
          603.77168
         ]
        }
       ],
       "layout": {
        "height": 750,
        "template": {
         "data": {
          "bar": [
           {
            "error_x": {
             "color": "#2a3f5f"
            },
            "error_y": {
             "color": "#2a3f5f"
            },
            "marker": {
             "line": {
              "color": "#E5ECF6",
              "width": 0.5
             }
            },
            "type": "bar"
           }
          ],
          "barpolar": [
           {
            "marker": {
             "line": {
              "color": "#E5ECF6",
              "width": 0.5
             }
            },
            "type": "barpolar"
           }
          ],
          "carpet": [
           {
            "aaxis": {
             "endlinecolor": "#2a3f5f",
             "gridcolor": "white",
             "linecolor": "white",
             "minorgridcolor": "white",
             "startlinecolor": "#2a3f5f"
            },
            "baxis": {
             "endlinecolor": "#2a3f5f",
             "gridcolor": "white",
             "linecolor": "white",
             "minorgridcolor": "white",
             "startlinecolor": "#2a3f5f"
            },
            "type": "carpet"
           }
          ],
          "choropleth": [
           {
            "colorbar": {
             "outlinewidth": 0,
             "ticks": ""
            },
            "type": "choropleth"
           }
          ],
          "contour": [
           {
            "colorbar": {
             "outlinewidth": 0,
             "ticks": ""
            },
            "colorscale": [
             [
              0,
              "#0d0887"
             ],
             [
              0.1111111111111111,
              "#46039f"
             ],
             [
              0.2222222222222222,
              "#7201a8"
             ],
             [
              0.3333333333333333,
              "#9c179e"
             ],
             [
              0.4444444444444444,
              "#bd3786"
             ],
             [
              0.5555555555555556,
              "#d8576b"
             ],
             [
              0.6666666666666666,
              "#ed7953"
             ],
             [
              0.7777777777777778,
              "#fb9f3a"
             ],
             [
              0.8888888888888888,
              "#fdca26"
             ],
             [
              1,
              "#f0f921"
             ]
            ],
            "type": "contour"
           }
          ],
          "contourcarpet": [
           {
            "colorbar": {
             "outlinewidth": 0,
             "ticks": ""
            },
            "type": "contourcarpet"
           }
          ],
          "heatmap": [
           {
            "colorbar": {
             "outlinewidth": 0,
             "ticks": ""
            },
            "colorscale": [
             [
              0,
              "#0d0887"
             ],
             [
              0.1111111111111111,
              "#46039f"
             ],
             [
              0.2222222222222222,
              "#7201a8"
             ],
             [
              0.3333333333333333,
              "#9c179e"
             ],
             [
              0.4444444444444444,
              "#bd3786"
             ],
             [
              0.5555555555555556,
              "#d8576b"
             ],
             [
              0.6666666666666666,
              "#ed7953"
             ],
             [
              0.7777777777777778,
              "#fb9f3a"
             ],
             [
              0.8888888888888888,
              "#fdca26"
             ],
             [
              1,
              "#f0f921"
             ]
            ],
            "type": "heatmap"
           }
          ],
          "heatmapgl": [
           {
            "colorbar": {
             "outlinewidth": 0,
             "ticks": ""
            },
            "colorscale": [
             [
              0,
              "#0d0887"
             ],
             [
              0.1111111111111111,
              "#46039f"
             ],
             [
              0.2222222222222222,
              "#7201a8"
             ],
             [
              0.3333333333333333,
              "#9c179e"
             ],
             [
              0.4444444444444444,
              "#bd3786"
             ],
             [
              0.5555555555555556,
              "#d8576b"
             ],
             [
              0.6666666666666666,
              "#ed7953"
             ],
             [
              0.7777777777777778,
              "#fb9f3a"
             ],
             [
              0.8888888888888888,
              "#fdca26"
             ],
             [
              1,
              "#f0f921"
             ]
            ],
            "type": "heatmapgl"
           }
          ],
          "histogram": [
           {
            "marker": {
             "colorbar": {
              "outlinewidth": 0,
              "ticks": ""
             }
            },
            "type": "histogram"
           }
          ],
          "histogram2d": [
           {
            "colorbar": {
             "outlinewidth": 0,
             "ticks": ""
            },
            "colorscale": [
             [
              0,
              "#0d0887"
             ],
             [
              0.1111111111111111,
              "#46039f"
             ],
             [
              0.2222222222222222,
              "#7201a8"
             ],
             [
              0.3333333333333333,
              "#9c179e"
             ],
             [
              0.4444444444444444,
              "#bd3786"
             ],
             [
              0.5555555555555556,
              "#d8576b"
             ],
             [
              0.6666666666666666,
              "#ed7953"
             ],
             [
              0.7777777777777778,
              "#fb9f3a"
             ],
             [
              0.8888888888888888,
              "#fdca26"
             ],
             [
              1,
              "#f0f921"
             ]
            ],
            "type": "histogram2d"
           }
          ],
          "histogram2dcontour": [
           {
            "colorbar": {
             "outlinewidth": 0,
             "ticks": ""
            },
            "colorscale": [
             [
              0,
              "#0d0887"
             ],
             [
              0.1111111111111111,
              "#46039f"
             ],
             [
              0.2222222222222222,
              "#7201a8"
             ],
             [
              0.3333333333333333,
              "#9c179e"
             ],
             [
              0.4444444444444444,
              "#bd3786"
             ],
             [
              0.5555555555555556,
              "#d8576b"
             ],
             [
              0.6666666666666666,
              "#ed7953"
             ],
             [
              0.7777777777777778,
              "#fb9f3a"
             ],
             [
              0.8888888888888888,
              "#fdca26"
             ],
             [
              1,
              "#f0f921"
             ]
            ],
            "type": "histogram2dcontour"
           }
          ],
          "mesh3d": [
           {
            "colorbar": {
             "outlinewidth": 0,
             "ticks": ""
            },
            "type": "mesh3d"
           }
          ],
          "parcoords": [
           {
            "line": {
             "colorbar": {
              "outlinewidth": 0,
              "ticks": ""
             }
            },
            "type": "parcoords"
           }
          ],
          "pie": [
           {
            "automargin": true,
            "type": "pie"
           }
          ],
          "scatter": [
           {
            "marker": {
             "colorbar": {
              "outlinewidth": 0,
              "ticks": ""
             }
            },
            "type": "scatter"
           }
          ],
          "scatter3d": [
           {
            "line": {
             "colorbar": {
              "outlinewidth": 0,
              "ticks": ""
             }
            },
            "marker": {
             "colorbar": {
              "outlinewidth": 0,
              "ticks": ""
             }
            },
            "type": "scatter3d"
           }
          ],
          "scattercarpet": [
           {
            "marker": {
             "colorbar": {
              "outlinewidth": 0,
              "ticks": ""
             }
            },
            "type": "scattercarpet"
           }
          ],
          "scattergeo": [
           {
            "marker": {
             "colorbar": {
              "outlinewidth": 0,
              "ticks": ""
             }
            },
            "type": "scattergeo"
           }
          ],
          "scattergl": [
           {
            "marker": {
             "colorbar": {
              "outlinewidth": 0,
              "ticks": ""
             }
            },
            "type": "scattergl"
           }
          ],
          "scattermapbox": [
           {
            "marker": {
             "colorbar": {
              "outlinewidth": 0,
              "ticks": ""
             }
            },
            "type": "scattermapbox"
           }
          ],
          "scatterpolar": [
           {
            "marker": {
             "colorbar": {
              "outlinewidth": 0,
              "ticks": ""
             }
            },
            "type": "scatterpolar"
           }
          ],
          "scatterpolargl": [
           {
            "marker": {
             "colorbar": {
              "outlinewidth": 0,
              "ticks": ""
             }
            },
            "type": "scatterpolargl"
           }
          ],
          "scatterternary": [
           {
            "marker": {
             "colorbar": {
              "outlinewidth": 0,
              "ticks": ""
             }
            },
            "type": "scatterternary"
           }
          ],
          "surface": [
           {
            "colorbar": {
             "outlinewidth": 0,
             "ticks": ""
            },
            "colorscale": [
             [
              0,
              "#0d0887"
             ],
             [
              0.1111111111111111,
              "#46039f"
             ],
             [
              0.2222222222222222,
              "#7201a8"
             ],
             [
              0.3333333333333333,
              "#9c179e"
             ],
             [
              0.4444444444444444,
              "#bd3786"
             ],
             [
              0.5555555555555556,
              "#d8576b"
             ],
             [
              0.6666666666666666,
              "#ed7953"
             ],
             [
              0.7777777777777778,
              "#fb9f3a"
             ],
             [
              0.8888888888888888,
              "#fdca26"
             ],
             [
              1,
              "#f0f921"
             ]
            ],
            "type": "surface"
           }
          ],
          "table": [
           {
            "cells": {
             "fill": {
              "color": "#EBF0F8"
             },
             "line": {
              "color": "white"
             }
            },
            "header": {
             "fill": {
              "color": "#C8D4E3"
             },
             "line": {
              "color": "white"
             }
            },
            "type": "table"
           }
          ]
         },
         "layout": {
          "annotationdefaults": {
           "arrowcolor": "#2a3f5f",
           "arrowhead": 0,
           "arrowwidth": 1
          },
          "coloraxis": {
           "colorbar": {
            "outlinewidth": 0,
            "ticks": ""
           }
          },
          "colorscale": {
           "diverging": [
            [
             0,
             "#8e0152"
            ],
            [
             0.1,
             "#c51b7d"
            ],
            [
             0.2,
             "#de77ae"
            ],
            [
             0.3,
             "#f1b6da"
            ],
            [
             0.4,
             "#fde0ef"
            ],
            [
             0.5,
             "#f7f7f7"
            ],
            [
             0.6,
             "#e6f5d0"
            ],
            [
             0.7,
             "#b8e186"
            ],
            [
             0.8,
             "#7fbc41"
            ],
            [
             0.9,
             "#4d9221"
            ],
            [
             1,
             "#276419"
            ]
           ],
           "sequential": [
            [
             0,
             "#0d0887"
            ],
            [
             0.1111111111111111,
             "#46039f"
            ],
            [
             0.2222222222222222,
             "#7201a8"
            ],
            [
             0.3333333333333333,
             "#9c179e"
            ],
            [
             0.4444444444444444,
             "#bd3786"
            ],
            [
             0.5555555555555556,
             "#d8576b"
            ],
            [
             0.6666666666666666,
             "#ed7953"
            ],
            [
             0.7777777777777778,
             "#fb9f3a"
            ],
            [
             0.8888888888888888,
             "#fdca26"
            ],
            [
             1,
             "#f0f921"
            ]
           ],
           "sequentialminus": [
            [
             0,
             "#0d0887"
            ],
            [
             0.1111111111111111,
             "#46039f"
            ],
            [
             0.2222222222222222,
             "#7201a8"
            ],
            [
             0.3333333333333333,
             "#9c179e"
            ],
            [
             0.4444444444444444,
             "#bd3786"
            ],
            [
             0.5555555555555556,
             "#d8576b"
            ],
            [
             0.6666666666666666,
             "#ed7953"
            ],
            [
             0.7777777777777778,
             "#fb9f3a"
            ],
            [
             0.8888888888888888,
             "#fdca26"
            ],
            [
             1,
             "#f0f921"
            ]
           ]
          },
          "colorway": [
           "#636efa",
           "#EF553B",
           "#00cc96",
           "#ab63fa",
           "#FFA15A",
           "#19d3f3",
           "#FF6692",
           "#B6E880",
           "#FF97FF",
           "#FECB52"
          ],
          "font": {
           "color": "#2a3f5f"
          },
          "geo": {
           "bgcolor": "white",
           "lakecolor": "white",
           "landcolor": "#E5ECF6",
           "showlakes": true,
           "showland": true,
           "subunitcolor": "white"
          },
          "hoverlabel": {
           "align": "left"
          },
          "hovermode": "closest",
          "mapbox": {
           "style": "light"
          },
          "paper_bgcolor": "white",
          "plot_bgcolor": "#E5ECF6",
          "polar": {
           "angularaxis": {
            "gridcolor": "white",
            "linecolor": "white",
            "ticks": ""
           },
           "bgcolor": "#E5ECF6",
           "radialaxis": {
            "gridcolor": "white",
            "linecolor": "white",
            "ticks": ""
           }
          },
          "scene": {
           "xaxis": {
            "backgroundcolor": "#E5ECF6",
            "gridcolor": "white",
            "gridwidth": 2,
            "linecolor": "white",
            "showbackground": true,
            "ticks": "",
            "zerolinecolor": "white"
           },
           "yaxis": {
            "backgroundcolor": "#E5ECF6",
            "gridcolor": "white",
            "gridwidth": 2,
            "linecolor": "white",
            "showbackground": true,
            "ticks": "",
            "zerolinecolor": "white"
           },
           "zaxis": {
            "backgroundcolor": "#E5ECF6",
            "gridcolor": "white",
            "gridwidth": 2,
            "linecolor": "white",
            "showbackground": true,
            "ticks": "",
            "zerolinecolor": "white"
           }
          },
          "shapedefaults": {
           "line": {
            "color": "#2a3f5f"
           }
          },
          "ternary": {
           "aaxis": {
            "gridcolor": "white",
            "linecolor": "white",
            "ticks": ""
           },
           "baxis": {
            "gridcolor": "white",
            "linecolor": "white",
            "ticks": ""
           },
           "bgcolor": "#E5ECF6",
           "caxis": {
            "gridcolor": "white",
            "linecolor": "white",
            "ticks": ""
           }
          },
          "title": {
           "x": 0.05
          },
          "xaxis": {
           "automargin": true,
           "gridcolor": "white",
           "linecolor": "white",
           "ticks": "",
           "title": {
            "standoff": 15
           },
           "zerolinecolor": "white",
           "zerolinewidth": 2
          },
          "yaxis": {
           "automargin": true,
           "gridcolor": "white",
           "linecolor": "white",
           "ticks": "",
           "title": {
            "standoff": 15
           },
           "zerolinecolor": "white",
           "zerolinewidth": 2
          }
         }
        },
        "title": {
         "text": "Heating Rates",
         "x": 0.5,
         "xanchor": "center",
         "y": 0.9,
         "yanchor": "top"
        },
        "width": 750,
        "xaxis": {
         "exponentformat": "power",
         "gridcolor": "grey",
         "gridwidth": 0.5,
         "linecolor": "black",
         "linewidth": 2,
         "mirror": true,
         "showexponent": "all",
         "showgrid": true,
         "showline": true,
         "title": {
          "text": "$W/m^{3}$"
         },
         "type": "log"
        },
        "yaxis": {
         "dtick": 20,
         "gridcolor": "grey",
         "gridwidth": 0.5,
         "linecolor": "black",
         "linewidth": 2,
         "mirror": true,
         "showgrid": true,
         "showline": true,
         "tick0": 60,
         "title": {
          "text": "Altitude (km)"
         }
        }
       }
      },
      "text/html": [
       "<div>\n",
       "        \n",
       "        \n",
       "            <div id=\"c256796e-7a73-4ce7-aee1-b9f646208991\" class=\"plotly-graph-div\" style=\"height:750px; width:750px;\"></div>\n",
       "            <script type=\"text/javascript\">\n",
       "                require([\"plotly\"], function(Plotly) {\n",
       "                    window.PLOTLYENV=window.PLOTLYENV || {};\n",
       "                    \n",
       "                if (document.getElementById(\"c256796e-7a73-4ce7-aee1-b9f646208991\")) {\n",
       "                    Plotly.newPlot(\n",
       "                        'c256796e-7a73-4ce7-aee1-b9f646208991',\n",
       "                        [{\"marker\": {\"color\": \"blue\"}, \"mode\": \"lines\", \"name\": \"Ohmic\", \"type\": \"scatter\", \"x\": [4.2991368415941334e-11, 7.657470095069136e-11, 1.352066207119386e-10, 2.3082462076996765e-10, 3.997585689287314e-10, 7.111394996499158e-10, 1.3092948721250445e-09, 2.4621680862414066e-09, 4.50509940041035e-09, 7.397700991220527e-09, 1.001878328910151e-08, 1.064813844218031e-08, 9.092471675989818e-09, 6.8099751382077965e-09, 4.91935529084243e-09, 3.6332006313705183e-09, 2.7809994201616234e-09, 2.1819670137823754e-09, 1.7316863294979583e-09, 1.3838293903880692e-09, 1.1178410649165997e-09, 9.19183784071731e-10, 7.945486969521529e-10, 7.040249506273111e-10, 6.249088625895645e-10, 5.709287659425084e-10, 5.319624797769998e-10, 4.976816061158901e-10, 4.600979323932215e-10, 4.1547357613198035e-10, 3.6463401781027304e-10, 3.1111789618717586e-10, 2.5887049041973597e-10, 2.108577258435956e-10, 1.6872335900564483e-10, 1.330122805816176e-10, 1.0354213439068143e-10, 7.972777835152563e-11, 6.08089632695527e-11, 4.599157398042689e-11, 3.452656138284036e-11, 2.5748432532681607e-11, 1.9089166724047613e-11, 1.407799098152774e-11, 1.0333646922870634e-11, 7.553122422567045e-12, 5.4993956144735165e-12, 3.9895397347669155e-12, 2.883993042021871e-12, 2.0773231458263747e-12, 1.4905495112248115e-12, 1.0649287225935503e-12, 7.570309695376243e-13, 5.349070468932997e-13, 3.7514836206633364e-13, 2.60657169277893e-13], \"y\": [96.36432, 97.69113, 98.96521, 100.21858, 101.49149, 102.83465, 104.31025, 105.99205, 107.9605, 110.28514, 112.99677, 116.0809, 119.49435, 123.18561, 127.1144, 131.26863, 135.66771, 140.35171, 145.36669, 150.75399, 156.54488, 162.75891, 169.4047, 176.48172, 183.98288, 191.89784, 200.21538, 208.92486, 218.01702, 227.48388, 237.31828, 247.51354, 258.0632, 268.96082, 280.19986, 291.77326, 303.6734, 315.89174, 328.419, 341.2452, 354.35996, 367.75308, 381.41508, 395.33784, 409.5154, 423.9448, 438.62676, 453.56656, 468.7752, 484.27028, 500.07764, 516.23308, 532.7848, 549.7966, 567.35232, 585.562, 603.77168]}, {\"marker\": {\"color\": \"green\"}, \"mode\": \"lines\", \"name\": \"Joule\", \"type\": \"scatter\", \"x\": [3.292132804738763e-11, 6.602335967640331e-11, 1.2727460606998584e-10, 2.3143354410510932e-10, 4.189137636168936e-10, 7.679719544457807e-10, 1.4415697705969585e-09, 2.7378871286251727e-09, 5.005941694761228e-09, 8.107960678889038e-09, 1.0687533940849022e-08, 1.0961074304682086e-08, 9.036929922343916e-09, 6.5935148304966886e-09, 4.697656949792238e-09, 3.462775013249727e-09, 2.67172280621319e-09, 2.1291515455466704e-09, 1.7258885016067819e-09, 1.4139864195527221e-09, 1.1733386061664774e-09, 9.909902837624144e-10, 8.774508232268443e-10, 7.913890253184436e-10, 7.064978239536982e-10, 6.403034966390173e-10, 5.854099717649968e-10, 5.35409421307555e-10, 4.852794566187516e-10, 4.323003396050097e-10, 3.7652925926917327e-10, 3.202133171080554e-10, 2.6626367124985174e-10, 2.170457571924002e-10, 1.7392731682879042e-10, 1.37354276458041e-10, 1.0712054146933587e-10, 8.263947969244282e-11, 6.315031554840808e-11, 4.7853894706068964e-11, 3.599240815697886e-11, 2.688998277780262e-11, 1.9968233851575058e-11, 1.4746876302718678e-11, 1.0836228490478809e-11, 7.925883756695191e-12, 5.7723160275755495e-12, 4.1868828183301455e-12, 3.0250358606808043e-12, 2.1770728052639526e-12, 1.5604446810948322e-12, 1.1135117394135248e-12, 7.905622203949265e-13, 5.578989795722741e-13, 3.9080854055951944e-13, 2.712436519098448e-13], \"y\": [96.36432, 97.69113, 98.96521, 100.21858, 101.49149, 102.83465, 104.31025, 105.99205, 107.9605, 110.28514, 112.99677, 116.0809, 119.49435, 123.18561, 127.1144, 131.26863, 135.66771, 140.35171, 145.36669, 150.75399, 156.54488, 162.75891, 169.4047, 176.48172, 183.98288, 191.89784, 200.21538, 208.92486, 218.01702, 227.48388, 237.31828, 247.51354, 258.0632, 268.96082, 280.19986, 291.77326, 303.6734, 315.89174, 328.419, 341.2452, 354.35996, 367.75308, 381.41508, 395.33784, 409.5154, 423.9448, 438.62676, 453.56656, 468.7752, 484.27028, 500.07764, 516.23308, 532.7848, 549.7966, 567.35232, 585.562, 603.77168]}, {\"marker\": {\"color\": \"red\"}, \"mode\": \"lines\", \"name\": \"Frictional\", \"type\": \"scatter\", \"x\": [3.2921328047387625e-11, 6.60233596764033e-11, 1.2727460606998584e-10, 2.3143354410510935e-10, 4.189137636168937e-10, 7.679719544457809e-10, 1.441569770596958e-09, 2.7378871286251722e-09, 5.005941694761227e-09, 8.107960678889038e-09, 1.0687533940849019e-08, 1.0961074304682087e-08, 9.036929922343918e-09, 6.593514830496686e-09, 4.697656949792237e-09, 3.462775013249727e-09, 2.671722806213189e-09, 2.129151545546671e-09, 1.7258885016067823e-09, 1.413986419552722e-09, 1.1733386061664778e-09, 9.909902837624146e-10, 8.774508232268456e-10, 7.913890253184428e-10, 7.064978239536975e-10, 6.403034966390189e-10, 5.854099717649961e-10, 5.354094213075543e-10, 4.852794566187507e-10, 4.3230033960500845e-10, 3.765292592691709e-10, 3.20213317108056e-10, 2.6626367124985344e-10, 2.1704575719240424e-10, 1.7392731682879174e-10, 1.3735427645803905e-10, 1.0712054146933371e-10, 8.26394796924399e-11, 6.315031554840722e-11, 4.785389470606821e-11, 3.5992408156981197e-11, 2.6889982777805513e-11, 1.996823385157296e-11, 1.47468763027197e-11, 1.0836228490478444e-11, 7.92588375669426e-12, 5.772316027576989e-12, 4.186882818331631e-12, 3.025035860679342e-12, 2.1770728052618446e-12, 1.560444681094461e-12, 1.1135117394142124e-12, 7.905622203961326e-13, 5.578989795735865e-13, 3.9080854056048677e-13, 2.712436519097643e-13], \"y\": [96.36432, 97.69113, 98.96521, 100.21858, 101.49149, 102.83465, 104.31025, 105.99205, 107.9605, 110.28514, 112.99677, 116.0809, 119.49435, 123.18561, 127.1144, 131.26863, 135.66771, 140.35171, 145.36669, 150.75399, 156.54488, 162.75891, 169.4047, 176.48172, 183.98288, 191.89784, 200.21538, 208.92486, 218.01702, 227.48388, 237.31828, 247.51354, 258.0632, 268.96082, 280.19986, 291.77326, 303.6734, 315.89174, 328.419, 341.2452, 354.35996, 367.75308, 381.41508, 395.33784, 409.5154, 423.9448, 438.62676, 453.56656, 468.7752, 484.27028, 500.07764, 516.23308, 532.7848, 549.7966, 567.35232, 585.562, 603.77168]}],\n",
       "                        {\"height\": 750, \"template\": {\"data\": {\"bar\": [{\"error_x\": {\"color\": \"#2a3f5f\"}, \"error_y\": {\"color\": \"#2a3f5f\"}, \"marker\": {\"line\": {\"color\": \"#E5ECF6\", \"width\": 0.5}}, \"type\": \"bar\"}], \"barpolar\": [{\"marker\": {\"line\": {\"color\": \"#E5ECF6\", \"width\": 0.5}}, \"type\": \"barpolar\"}], \"carpet\": [{\"aaxis\": {\"endlinecolor\": \"#2a3f5f\", \"gridcolor\": \"white\", \"linecolor\": \"white\", \"minorgridcolor\": \"white\", \"startlinecolor\": \"#2a3f5f\"}, \"baxis\": {\"endlinecolor\": \"#2a3f5f\", \"gridcolor\": \"white\", \"linecolor\": \"white\", \"minorgridcolor\": \"white\", \"startlinecolor\": \"#2a3f5f\"}, \"type\": \"carpet\"}], \"choropleth\": [{\"colorbar\": {\"outlinewidth\": 0, \"ticks\": \"\"}, \"type\": \"choropleth\"}], \"contour\": [{\"colorbar\": {\"outlinewidth\": 0, \"ticks\": \"\"}, \"colorscale\": [[0.0, \"#0d0887\"], [0.1111111111111111, \"#46039f\"], [0.2222222222222222, \"#7201a8\"], [0.3333333333333333, \"#9c179e\"], [0.4444444444444444, \"#bd3786\"], [0.5555555555555556, \"#d8576b\"], [0.6666666666666666, \"#ed7953\"], [0.7777777777777778, \"#fb9f3a\"], [0.8888888888888888, \"#fdca26\"], [1.0, \"#f0f921\"]], \"type\": \"contour\"}], \"contourcarpet\": [{\"colorbar\": {\"outlinewidth\": 0, \"ticks\": \"\"}, \"type\": \"contourcarpet\"}], \"heatmap\": [{\"colorbar\": {\"outlinewidth\": 0, \"ticks\": \"\"}, \"colorscale\": [[0.0, \"#0d0887\"], [0.1111111111111111, \"#46039f\"], [0.2222222222222222, \"#7201a8\"], [0.3333333333333333, \"#9c179e\"], [0.4444444444444444, \"#bd3786\"], [0.5555555555555556, \"#d8576b\"], [0.6666666666666666, \"#ed7953\"], [0.7777777777777778, \"#fb9f3a\"], [0.8888888888888888, \"#fdca26\"], [1.0, \"#f0f921\"]], \"type\": \"heatmap\"}], \"heatmapgl\": [{\"colorbar\": {\"outlinewidth\": 0, \"ticks\": \"\"}, \"colorscale\": [[0.0, \"#0d0887\"], [0.1111111111111111, \"#46039f\"], [0.2222222222222222, \"#7201a8\"], [0.3333333333333333, \"#9c179e\"], [0.4444444444444444, \"#bd3786\"], [0.5555555555555556, \"#d8576b\"], [0.6666666666666666, \"#ed7953\"], [0.7777777777777778, \"#fb9f3a\"], [0.8888888888888888, \"#fdca26\"], [1.0, \"#f0f921\"]], \"type\": \"heatmapgl\"}], \"histogram\": [{\"marker\": {\"colorbar\": {\"outlinewidth\": 0, \"ticks\": \"\"}}, \"type\": \"histogram\"}], \"histogram2d\": [{\"colorbar\": {\"outlinewidth\": 0, \"ticks\": \"\"}, \"colorscale\": [[0.0, \"#0d0887\"], [0.1111111111111111, \"#46039f\"], [0.2222222222222222, \"#7201a8\"], [0.3333333333333333, \"#9c179e\"], [0.4444444444444444, \"#bd3786\"], [0.5555555555555556, \"#d8576b\"], [0.6666666666666666, \"#ed7953\"], [0.7777777777777778, \"#fb9f3a\"], [0.8888888888888888, \"#fdca26\"], [1.0, \"#f0f921\"]], \"type\": \"histogram2d\"}], \"histogram2dcontour\": [{\"colorbar\": {\"outlinewidth\": 0, \"ticks\": \"\"}, \"colorscale\": [[0.0, \"#0d0887\"], [0.1111111111111111, \"#46039f\"], [0.2222222222222222, \"#7201a8\"], [0.3333333333333333, \"#9c179e\"], [0.4444444444444444, \"#bd3786\"], [0.5555555555555556, \"#d8576b\"], [0.6666666666666666, \"#ed7953\"], [0.7777777777777778, \"#fb9f3a\"], [0.8888888888888888, \"#fdca26\"], [1.0, \"#f0f921\"]], \"type\": \"histogram2dcontour\"}], \"mesh3d\": [{\"colorbar\": {\"outlinewidth\": 0, \"ticks\": \"\"}, \"type\": \"mesh3d\"}], \"parcoords\": [{\"line\": {\"colorbar\": {\"outlinewidth\": 0, \"ticks\": \"\"}}, \"type\": \"parcoords\"}], \"pie\": [{\"automargin\": true, \"type\": \"pie\"}], \"scatter\": [{\"marker\": {\"colorbar\": {\"outlinewidth\": 0, \"ticks\": \"\"}}, \"type\": \"scatter\"}], \"scatter3d\": [{\"line\": {\"colorbar\": {\"outlinewidth\": 0, \"ticks\": \"\"}}, \"marker\": {\"colorbar\": {\"outlinewidth\": 0, \"ticks\": \"\"}}, \"type\": \"scatter3d\"}], \"scattercarpet\": [{\"marker\": {\"colorbar\": {\"outlinewidth\": 0, \"ticks\": \"\"}}, \"type\": \"scattercarpet\"}], \"scattergeo\": [{\"marker\": {\"colorbar\": {\"outlinewidth\": 0, \"ticks\": \"\"}}, \"type\": \"scattergeo\"}], \"scattergl\": [{\"marker\": {\"colorbar\": {\"outlinewidth\": 0, \"ticks\": \"\"}}, \"type\": \"scattergl\"}], \"scattermapbox\": [{\"marker\": {\"colorbar\": {\"outlinewidth\": 0, \"ticks\": \"\"}}, \"type\": \"scattermapbox\"}], \"scatterpolar\": [{\"marker\": {\"colorbar\": {\"outlinewidth\": 0, \"ticks\": \"\"}}, \"type\": \"scatterpolar\"}], \"scatterpolargl\": [{\"marker\": {\"colorbar\": {\"outlinewidth\": 0, \"ticks\": \"\"}}, \"type\": \"scatterpolargl\"}], \"scatterternary\": [{\"marker\": {\"colorbar\": {\"outlinewidth\": 0, \"ticks\": \"\"}}, \"type\": \"scatterternary\"}], \"surface\": [{\"colorbar\": {\"outlinewidth\": 0, \"ticks\": \"\"}, \"colorscale\": [[0.0, \"#0d0887\"], [0.1111111111111111, \"#46039f\"], [0.2222222222222222, \"#7201a8\"], [0.3333333333333333, \"#9c179e\"], [0.4444444444444444, \"#bd3786\"], [0.5555555555555556, \"#d8576b\"], [0.6666666666666666, \"#ed7953\"], [0.7777777777777778, \"#fb9f3a\"], [0.8888888888888888, \"#fdca26\"], [1.0, \"#f0f921\"]], \"type\": \"surface\"}], \"table\": [{\"cells\": {\"fill\": {\"color\": \"#EBF0F8\"}, \"line\": {\"color\": \"white\"}}, \"header\": {\"fill\": {\"color\": \"#C8D4E3\"}, \"line\": {\"color\": \"white\"}}, \"type\": \"table\"}]}, \"layout\": {\"annotationdefaults\": {\"arrowcolor\": \"#2a3f5f\", \"arrowhead\": 0, \"arrowwidth\": 1}, \"coloraxis\": {\"colorbar\": {\"outlinewidth\": 0, \"ticks\": \"\"}}, \"colorscale\": {\"diverging\": [[0, \"#8e0152\"], [0.1, \"#c51b7d\"], [0.2, \"#de77ae\"], [0.3, \"#f1b6da\"], [0.4, \"#fde0ef\"], [0.5, \"#f7f7f7\"], [0.6, \"#e6f5d0\"], [0.7, \"#b8e186\"], [0.8, \"#7fbc41\"], [0.9, \"#4d9221\"], [1, \"#276419\"]], \"sequential\": [[0.0, \"#0d0887\"], [0.1111111111111111, \"#46039f\"], [0.2222222222222222, \"#7201a8\"], [0.3333333333333333, \"#9c179e\"], [0.4444444444444444, \"#bd3786\"], [0.5555555555555556, \"#d8576b\"], [0.6666666666666666, \"#ed7953\"], [0.7777777777777778, \"#fb9f3a\"], [0.8888888888888888, \"#fdca26\"], [1.0, \"#f0f921\"]], \"sequentialminus\": [[0.0, \"#0d0887\"], [0.1111111111111111, \"#46039f\"], [0.2222222222222222, \"#7201a8\"], [0.3333333333333333, \"#9c179e\"], [0.4444444444444444, \"#bd3786\"], [0.5555555555555556, \"#d8576b\"], [0.6666666666666666, \"#ed7953\"], [0.7777777777777778, \"#fb9f3a\"], [0.8888888888888888, \"#fdca26\"], [1.0, \"#f0f921\"]]}, \"colorway\": [\"#636efa\", \"#EF553B\", \"#00cc96\", \"#ab63fa\", \"#FFA15A\", \"#19d3f3\", \"#FF6692\", \"#B6E880\", \"#FF97FF\", \"#FECB52\"], \"font\": {\"color\": \"#2a3f5f\"}, \"geo\": {\"bgcolor\": \"white\", \"lakecolor\": \"white\", \"landcolor\": \"#E5ECF6\", \"showlakes\": true, \"showland\": true, \"subunitcolor\": \"white\"}, \"hoverlabel\": {\"align\": \"left\"}, \"hovermode\": \"closest\", \"mapbox\": {\"style\": \"light\"}, \"paper_bgcolor\": \"white\", \"plot_bgcolor\": \"#E5ECF6\", \"polar\": {\"angularaxis\": {\"gridcolor\": \"white\", \"linecolor\": \"white\", \"ticks\": \"\"}, \"bgcolor\": \"#E5ECF6\", \"radialaxis\": {\"gridcolor\": \"white\", \"linecolor\": \"white\", \"ticks\": \"\"}}, \"scene\": {\"xaxis\": {\"backgroundcolor\": \"#E5ECF6\", \"gridcolor\": \"white\", \"gridwidth\": 2, \"linecolor\": \"white\", \"showbackground\": true, \"ticks\": \"\", \"zerolinecolor\": \"white\"}, \"yaxis\": {\"backgroundcolor\": \"#E5ECF6\", \"gridcolor\": \"white\", \"gridwidth\": 2, \"linecolor\": \"white\", \"showbackground\": true, \"ticks\": \"\", \"zerolinecolor\": \"white\"}, \"zaxis\": {\"backgroundcolor\": \"#E5ECF6\", \"gridcolor\": \"white\", \"gridwidth\": 2, \"linecolor\": \"white\", \"showbackground\": true, \"ticks\": \"\", \"zerolinecolor\": \"white\"}}, \"shapedefaults\": {\"line\": {\"color\": \"#2a3f5f\"}}, \"ternary\": {\"aaxis\": {\"gridcolor\": \"white\", \"linecolor\": \"white\", \"ticks\": \"\"}, \"baxis\": {\"gridcolor\": \"white\", \"linecolor\": \"white\", \"ticks\": \"\"}, \"bgcolor\": \"#E5ECF6\", \"caxis\": {\"gridcolor\": \"white\", \"linecolor\": \"white\", \"ticks\": \"\"}}, \"title\": {\"x\": 0.05}, \"xaxis\": {\"automargin\": true, \"gridcolor\": \"white\", \"linecolor\": \"white\", \"ticks\": \"\", \"title\": {\"standoff\": 15}, \"zerolinecolor\": \"white\", \"zerolinewidth\": 2}, \"yaxis\": {\"automargin\": true, \"gridcolor\": \"white\", \"linecolor\": \"white\", \"ticks\": \"\", \"title\": {\"standoff\": 15}, \"zerolinecolor\": \"white\", \"zerolinewidth\": 2}}}, \"title\": {\"text\": \"Heating Rates\", \"x\": 0.5, \"xanchor\": \"center\", \"y\": 0.9, \"yanchor\": \"top\"}, \"width\": 750, \"xaxis\": {\"exponentformat\": \"power\", \"gridcolor\": \"grey\", \"gridwidth\": 0.5, \"linecolor\": \"black\", \"linewidth\": 2, \"mirror\": true, \"showexponent\": \"all\", \"showgrid\": true, \"showline\": true, \"title\": {\"text\": \"$W/m^{3}$\"}, \"type\": \"log\"}, \"yaxis\": {\"dtick\": 20, \"gridcolor\": \"grey\", \"gridwidth\": 0.5, \"linecolor\": \"black\", \"linewidth\": 2, \"mirror\": true, \"showgrid\": true, \"showline\": true, \"tick0\": 60, \"title\": {\"text\": \"Altitude (km)\"}}},\n",
       "                        {\"responsive\": true}\n",
       "                    ).then(function(){\n",
       "                            \n",
       "var gd = document.getElementById('c256796e-7a73-4ce7-aee1-b9f646208991');\n",
       "var x = new MutationObserver(function (mutations, observer) {{\n",
       "        var display = window.getComputedStyle(gd).display;\n",
       "        if (!display || display === 'none') {{\n",
       "            console.log([gd, 'removed!']);\n",
       "            Plotly.purge(gd);\n",
       "            observer.disconnect();\n",
       "        }}\n",
       "}});\n",
       "\n",
       "// Listen for the removal of the full notebook cells\n",
       "var notebookContainer = gd.closest('#notebook-container');\n",
       "if (notebookContainer) {{\n",
       "    x.observe(notebookContainer, {childList: true});\n",
       "}}\n",
       "\n",
       "// Listen for the clearing of the current output cell\n",
       "var outputEl = gd.closest('.output');\n",
       "if (outputEl) {{\n",
       "    x.observe(outputEl, {childList: true});\n",
       "}}\n",
       "\n",
       "                        })\n",
       "                };\n",
       "                });\n",
       "            </script>\n",
       "        </div>"
      ]
     },
     "metadata": {},
     "output_type": "display_data"
    },
    {
     "name": "stdout",
     "output_type": "stream",
     "text": [
      "Plotting conductivities...\n"
     ]
    },
    {
     "data": {
      "application/vnd.plotly.v1+json": {
       "config": {
        "plotlyServerURL": "https://plot.ly"
       },
       "data": [
        {
         "marker": {
          "color": "blue"
         },
         "mode": "lines",
         "name": "Pedersen",
         "type": "scatter",
         "x": [
          5.449738981584214e-07,
          9.774244818457183e-07,
          1.7331336620583459e-06,
          2.964358864735437e-06,
          5.099659257297067e-06,
          8.833076555572105e-06,
          1.5341146034249764e-05,
          2.6363089902167303e-05,
          4.367145301653091e-05,
          6.727071133586049e-05,
          9.338246046047317e-05,
          0.00011473820922404497,
          0.00012443154230245496,
          0.000120451465934057,
          0.00010605449778969709,
          8.666867547127679e-05,
          6.70937649308579e-05,
          5.023680870946681e-05,
          3.712442122630293e-05,
          2.757424007951317e-05,
          2.0893758989736638e-05,
          1.631225760455046e-05,
          1.352472708303298e-05,
          1.1580454260816408e-05,
          1.0002981046208141e-05,
          8.96074608383408e-06,
          8.244237193441569e-06,
          7.653801902801826e-06,
          7.032937447293835e-06,
          6.300191963988931e-06,
          5.4598395369432585e-06,
          4.573031621570401e-06,
          3.714086452645657e-06,
          2.939913383963617e-06,
          2.2801750879309868e-06,
          1.741137131143469e-06,
          1.3141524345817967e-06,
          9.83442519808514e-07,
          7.313969385439387e-07,
          5.414993424510197e-07,
          3.995898556456483e-07,
          2.9415601187410774e-07,
          2.1614658357592214e-07,
          1.585993855696096e-07,
          1.1623775242061765e-07,
          8.510246689062705e-08,
          6.224379519672689e-08,
          4.547505564670652e-08,
          3.318100326339011e-08,
          2.4171641532454305e-08,
          1.7571965492340358e-08,
          1.2739502857093988e-08,
          9.20300456907052e-09,
          6.617045903023944e-09,
          4.728520642345528e-09,
          3.351958149382512e-09
         ],
         "y": [
          96.36432,
          97.69113,
          98.96521,
          100.21858,
          101.49149,
          102.83465,
          104.31025,
          105.99205,
          107.9605,
          110.28514,
          112.99677,
          116.0809,
          119.49435,
          123.18561,
          127.1144,
          131.26863,
          135.66771,
          140.35171,
          145.36669,
          150.75399,
          156.54488,
          162.75891,
          169.4047,
          176.48172,
          183.98288,
          191.89784,
          200.21538,
          208.92486,
          218.01702,
          227.48388,
          237.31828,
          247.51354,
          258.0632,
          268.96082,
          280.19986,
          291.77326,
          303.6734,
          315.89174,
          328.419,
          341.2452,
          354.35996,
          367.75308,
          381.41508,
          395.33784,
          409.5154,
          423.9448,
          438.62676,
          453.56656,
          468.7752,
          484.27028,
          500.07764,
          516.23308,
          532.7848,
          549.7966,
          567.35232,
          585.562
         ]
        },
        {
         "marker": {
          "color": "green"
         },
         "mode": "lines",
         "name": "Hall",
         "type": "scatter",
         "x": [
          1.8922694471594248e-05,
          3.104216617030341e-05,
          4.767453976994138e-05,
          6.678225214577146e-05,
          8.895371346992677e-05,
          0.00011316675206848315,
          0.0001380403350052224,
          0.00016142661597523734,
          0.00017973392187870546,
          0.00018783557939284812,
          0.00018094164858558525,
          0.00015819711897010997,
          0.00012473824560854698,
          8.908574547146379e-05,
          5.820043749785515e-05,
          3.522581560441927e-05,
          2.008669791555677e-05,
          1.1019495010809497e-05,
          5.9485486052070105e-06,
          3.227635807863668e-06,
          1.7922130172531105e-06,
          1.031907729082625e-06,
          6.369884112173352e-07,
          4.1171713498980783e-07,
          2.736627841222289e-07,
          1.923278299378562e-07,
          1.4074083847455574e-07,
          1.0443280563550968e-07,
          7.659248852828763e-08,
          5.4567706932079054e-08,
          3.749967209669908e-08,
          2.486753435203997e-08,
          1.5981240972686632e-08,
          1.0008830638011602e-08,
          6.142074655359314e-09,
          3.710583833137508e-09,
          2.2151402511902405e-09,
          1.3105428059070518e-09,
          7.70078058058102e-10,
          4.501391793717942e-10,
          2.620580044303195e-10,
          1.5207563546933817e-10,
          8.802479215191853e-11,
          5.084214354370307e-11,
          2.931150154630954e-11,
          1.686957703758057e-11,
          9.691989434029786e-12,
          5.557559782273804e-12,
          3.1794916555510297e-12,
          1.81376366920591e-12,
          1.0308378916581255e-12,
          5.830289773345324e-13,
          3.276561245189823e-13,
          1.826018884006946e-13,
          1.0065075044875457e-13,
          5.4689110683141863e-14
         ],
         "y": [
          96.36432,
          97.69113,
          98.96521,
          100.21858,
          101.49149,
          102.83465,
          104.31025,
          105.99205,
          107.9605,
          110.28514,
          112.99677,
          116.0809,
          119.49435,
          123.18561,
          127.1144,
          131.26863,
          135.66771,
          140.35171,
          145.36669,
          150.75399,
          156.54488,
          162.75891,
          169.4047,
          176.48172,
          183.98288,
          191.89784,
          200.21538,
          208.92486,
          218.01702,
          227.48388,
          237.31828,
          247.51354,
          258.0632,
          268.96082,
          280.19986,
          291.77326,
          303.6734,
          315.89174,
          328.419,
          341.2452,
          354.35996,
          367.75308,
          381.41508,
          395.33784,
          409.5154,
          423.9448,
          438.62676,
          453.56656,
          468.7752,
          484.27028,
          500.07764,
          516.23308,
          532.7848,
          549.7966,
          567.35232,
          585.562
         ]
        },
        {
         "marker": {
          "color": "red"
         },
         "mode": "lines",
         "name": "Parallel",
         "type": "scatter",
         "x": [
          0.002120035839522006,
          0.0044524545105745035,
          0.008775299128983085,
          0.01582927363115217,
          0.027271260963757073,
          0.04511778338389634,
          0.07206884705269469,
          0.1115252910474146,
          0.16729230860756605,
          0.2429883845870974,
          0.3417875341755004,
          0.4669626439537293,
          0.6223201807008203,
          0.8122617765707281,
          1.0425216853241137,
          1.321813434635539,
          1.663757945004076,
          2.0889841611981677,
          2.6269763104926134,
          3.31920473529587,
          4.232190982499116,
          5.487273682252895,
          7.487337035251009,
          10.4634622159551,
          14.619449417666079,
          21.05773971769259,
          31.08565598382702,
          46.48419454811482,
          69.43539195706093,
          102.00160728176459,
          145.9416817979294,
          202.69865477296588,
          273.6655355215156,
          360.5435760220693,
          465.63734904288606,
          592.0391514677374,
          743.7210834024005,
          925.5721693464319,
          1143.4183283295667,
          1404.0549806926724,
          1715.3178829481596,
          2086.212534546624,
          2527.1149121380536,
          3050.0718732248947,
          3669.2065498791017,
          4401.267967855216,
          5266.333132608933,
          6288.698593494917,
          7497.974972712425,
          8930.449148080765,
          10630.770008938558,
          12654.10496187513,
          15068.956151835071,
          17960.95896220086,
          21438.09228403659,
          25636.394759631716
         ],
         "y": [
          96.36432,
          97.69113,
          98.96521,
          100.21858,
          101.49149,
          102.83465,
          104.31025,
          105.99205,
          107.9605,
          110.28514,
          112.99677,
          116.0809,
          119.49435,
          123.18561,
          127.1144,
          131.26863,
          135.66771,
          140.35171,
          145.36669,
          150.75399,
          156.54488,
          162.75891,
          169.4047,
          176.48172,
          183.98288,
          191.89784,
          200.21538,
          208.92486,
          218.01702,
          227.48388,
          237.31828,
          247.51354,
          258.0632,
          268.96082,
          280.19986,
          291.77326,
          303.6734,
          315.89174,
          328.419,
          341.2452,
          354.35996,
          367.75308,
          381.41508,
          395.33784,
          409.5154,
          423.9448,
          438.62676,
          453.56656,
          468.7752,
          484.27028,
          500.07764,
          516.23308,
          532.7848,
          549.7966,
          567.35232,
          585.562
         ]
        }
       ],
       "layout": {
        "height": 750,
        "template": {
         "data": {
          "bar": [
           {
            "error_x": {
             "color": "#2a3f5f"
            },
            "error_y": {
             "color": "#2a3f5f"
            },
            "marker": {
             "line": {
              "color": "#E5ECF6",
              "width": 0.5
             }
            },
            "type": "bar"
           }
          ],
          "barpolar": [
           {
            "marker": {
             "line": {
              "color": "#E5ECF6",
              "width": 0.5
             }
            },
            "type": "barpolar"
           }
          ],
          "carpet": [
           {
            "aaxis": {
             "endlinecolor": "#2a3f5f",
             "gridcolor": "white",
             "linecolor": "white",
             "minorgridcolor": "white",
             "startlinecolor": "#2a3f5f"
            },
            "baxis": {
             "endlinecolor": "#2a3f5f",
             "gridcolor": "white",
             "linecolor": "white",
             "minorgridcolor": "white",
             "startlinecolor": "#2a3f5f"
            },
            "type": "carpet"
           }
          ],
          "choropleth": [
           {
            "colorbar": {
             "outlinewidth": 0,
             "ticks": ""
            },
            "type": "choropleth"
           }
          ],
          "contour": [
           {
            "colorbar": {
             "outlinewidth": 0,
             "ticks": ""
            },
            "colorscale": [
             [
              0,
              "#0d0887"
             ],
             [
              0.1111111111111111,
              "#46039f"
             ],
             [
              0.2222222222222222,
              "#7201a8"
             ],
             [
              0.3333333333333333,
              "#9c179e"
             ],
             [
              0.4444444444444444,
              "#bd3786"
             ],
             [
              0.5555555555555556,
              "#d8576b"
             ],
             [
              0.6666666666666666,
              "#ed7953"
             ],
             [
              0.7777777777777778,
              "#fb9f3a"
             ],
             [
              0.8888888888888888,
              "#fdca26"
             ],
             [
              1,
              "#f0f921"
             ]
            ],
            "type": "contour"
           }
          ],
          "contourcarpet": [
           {
            "colorbar": {
             "outlinewidth": 0,
             "ticks": ""
            },
            "type": "contourcarpet"
           }
          ],
          "heatmap": [
           {
            "colorbar": {
             "outlinewidth": 0,
             "ticks": ""
            },
            "colorscale": [
             [
              0,
              "#0d0887"
             ],
             [
              0.1111111111111111,
              "#46039f"
             ],
             [
              0.2222222222222222,
              "#7201a8"
             ],
             [
              0.3333333333333333,
              "#9c179e"
             ],
             [
              0.4444444444444444,
              "#bd3786"
             ],
             [
              0.5555555555555556,
              "#d8576b"
             ],
             [
              0.6666666666666666,
              "#ed7953"
             ],
             [
              0.7777777777777778,
              "#fb9f3a"
             ],
             [
              0.8888888888888888,
              "#fdca26"
             ],
             [
              1,
              "#f0f921"
             ]
            ],
            "type": "heatmap"
           }
          ],
          "heatmapgl": [
           {
            "colorbar": {
             "outlinewidth": 0,
             "ticks": ""
            },
            "colorscale": [
             [
              0,
              "#0d0887"
             ],
             [
              0.1111111111111111,
              "#46039f"
             ],
             [
              0.2222222222222222,
              "#7201a8"
             ],
             [
              0.3333333333333333,
              "#9c179e"
             ],
             [
              0.4444444444444444,
              "#bd3786"
             ],
             [
              0.5555555555555556,
              "#d8576b"
             ],
             [
              0.6666666666666666,
              "#ed7953"
             ],
             [
              0.7777777777777778,
              "#fb9f3a"
             ],
             [
              0.8888888888888888,
              "#fdca26"
             ],
             [
              1,
              "#f0f921"
             ]
            ],
            "type": "heatmapgl"
           }
          ],
          "histogram": [
           {
            "marker": {
             "colorbar": {
              "outlinewidth": 0,
              "ticks": ""
             }
            },
            "type": "histogram"
           }
          ],
          "histogram2d": [
           {
            "colorbar": {
             "outlinewidth": 0,
             "ticks": ""
            },
            "colorscale": [
             [
              0,
              "#0d0887"
             ],
             [
              0.1111111111111111,
              "#46039f"
             ],
             [
              0.2222222222222222,
              "#7201a8"
             ],
             [
              0.3333333333333333,
              "#9c179e"
             ],
             [
              0.4444444444444444,
              "#bd3786"
             ],
             [
              0.5555555555555556,
              "#d8576b"
             ],
             [
              0.6666666666666666,
              "#ed7953"
             ],
             [
              0.7777777777777778,
              "#fb9f3a"
             ],
             [
              0.8888888888888888,
              "#fdca26"
             ],
             [
              1,
              "#f0f921"
             ]
            ],
            "type": "histogram2d"
           }
          ],
          "histogram2dcontour": [
           {
            "colorbar": {
             "outlinewidth": 0,
             "ticks": ""
            },
            "colorscale": [
             [
              0,
              "#0d0887"
             ],
             [
              0.1111111111111111,
              "#46039f"
             ],
             [
              0.2222222222222222,
              "#7201a8"
             ],
             [
              0.3333333333333333,
              "#9c179e"
             ],
             [
              0.4444444444444444,
              "#bd3786"
             ],
             [
              0.5555555555555556,
              "#d8576b"
             ],
             [
              0.6666666666666666,
              "#ed7953"
             ],
             [
              0.7777777777777778,
              "#fb9f3a"
             ],
             [
              0.8888888888888888,
              "#fdca26"
             ],
             [
              1,
              "#f0f921"
             ]
            ],
            "type": "histogram2dcontour"
           }
          ],
          "mesh3d": [
           {
            "colorbar": {
             "outlinewidth": 0,
             "ticks": ""
            },
            "type": "mesh3d"
           }
          ],
          "parcoords": [
           {
            "line": {
             "colorbar": {
              "outlinewidth": 0,
              "ticks": ""
             }
            },
            "type": "parcoords"
           }
          ],
          "pie": [
           {
            "automargin": true,
            "type": "pie"
           }
          ],
          "scatter": [
           {
            "marker": {
             "colorbar": {
              "outlinewidth": 0,
              "ticks": ""
             }
            },
            "type": "scatter"
           }
          ],
          "scatter3d": [
           {
            "line": {
             "colorbar": {
              "outlinewidth": 0,
              "ticks": ""
             }
            },
            "marker": {
             "colorbar": {
              "outlinewidth": 0,
              "ticks": ""
             }
            },
            "type": "scatter3d"
           }
          ],
          "scattercarpet": [
           {
            "marker": {
             "colorbar": {
              "outlinewidth": 0,
              "ticks": ""
             }
            },
            "type": "scattercarpet"
           }
          ],
          "scattergeo": [
           {
            "marker": {
             "colorbar": {
              "outlinewidth": 0,
              "ticks": ""
             }
            },
            "type": "scattergeo"
           }
          ],
          "scattergl": [
           {
            "marker": {
             "colorbar": {
              "outlinewidth": 0,
              "ticks": ""
             }
            },
            "type": "scattergl"
           }
          ],
          "scattermapbox": [
           {
            "marker": {
             "colorbar": {
              "outlinewidth": 0,
              "ticks": ""
             }
            },
            "type": "scattermapbox"
           }
          ],
          "scatterpolar": [
           {
            "marker": {
             "colorbar": {
              "outlinewidth": 0,
              "ticks": ""
             }
            },
            "type": "scatterpolar"
           }
          ],
          "scatterpolargl": [
           {
            "marker": {
             "colorbar": {
              "outlinewidth": 0,
              "ticks": ""
             }
            },
            "type": "scatterpolargl"
           }
          ],
          "scatterternary": [
           {
            "marker": {
             "colorbar": {
              "outlinewidth": 0,
              "ticks": ""
             }
            },
            "type": "scatterternary"
           }
          ],
          "surface": [
           {
            "colorbar": {
             "outlinewidth": 0,
             "ticks": ""
            },
            "colorscale": [
             [
              0,
              "#0d0887"
             ],
             [
              0.1111111111111111,
              "#46039f"
             ],
             [
              0.2222222222222222,
              "#7201a8"
             ],
             [
              0.3333333333333333,
              "#9c179e"
             ],
             [
              0.4444444444444444,
              "#bd3786"
             ],
             [
              0.5555555555555556,
              "#d8576b"
             ],
             [
              0.6666666666666666,
              "#ed7953"
             ],
             [
              0.7777777777777778,
              "#fb9f3a"
             ],
             [
              0.8888888888888888,
              "#fdca26"
             ],
             [
              1,
              "#f0f921"
             ]
            ],
            "type": "surface"
           }
          ],
          "table": [
           {
            "cells": {
             "fill": {
              "color": "#EBF0F8"
             },
             "line": {
              "color": "white"
             }
            },
            "header": {
             "fill": {
              "color": "#C8D4E3"
             },
             "line": {
              "color": "white"
             }
            },
            "type": "table"
           }
          ]
         },
         "layout": {
          "annotationdefaults": {
           "arrowcolor": "#2a3f5f",
           "arrowhead": 0,
           "arrowwidth": 1
          },
          "coloraxis": {
           "colorbar": {
            "outlinewidth": 0,
            "ticks": ""
           }
          },
          "colorscale": {
           "diverging": [
            [
             0,
             "#8e0152"
            ],
            [
             0.1,
             "#c51b7d"
            ],
            [
             0.2,
             "#de77ae"
            ],
            [
             0.3,
             "#f1b6da"
            ],
            [
             0.4,
             "#fde0ef"
            ],
            [
             0.5,
             "#f7f7f7"
            ],
            [
             0.6,
             "#e6f5d0"
            ],
            [
             0.7,
             "#b8e186"
            ],
            [
             0.8,
             "#7fbc41"
            ],
            [
             0.9,
             "#4d9221"
            ],
            [
             1,
             "#276419"
            ]
           ],
           "sequential": [
            [
             0,
             "#0d0887"
            ],
            [
             0.1111111111111111,
             "#46039f"
            ],
            [
             0.2222222222222222,
             "#7201a8"
            ],
            [
             0.3333333333333333,
             "#9c179e"
            ],
            [
             0.4444444444444444,
             "#bd3786"
            ],
            [
             0.5555555555555556,
             "#d8576b"
            ],
            [
             0.6666666666666666,
             "#ed7953"
            ],
            [
             0.7777777777777778,
             "#fb9f3a"
            ],
            [
             0.8888888888888888,
             "#fdca26"
            ],
            [
             1,
             "#f0f921"
            ]
           ],
           "sequentialminus": [
            [
             0,
             "#0d0887"
            ],
            [
             0.1111111111111111,
             "#46039f"
            ],
            [
             0.2222222222222222,
             "#7201a8"
            ],
            [
             0.3333333333333333,
             "#9c179e"
            ],
            [
             0.4444444444444444,
             "#bd3786"
            ],
            [
             0.5555555555555556,
             "#d8576b"
            ],
            [
             0.6666666666666666,
             "#ed7953"
            ],
            [
             0.7777777777777778,
             "#fb9f3a"
            ],
            [
             0.8888888888888888,
             "#fdca26"
            ],
            [
             1,
             "#f0f921"
            ]
           ]
          },
          "colorway": [
           "#636efa",
           "#EF553B",
           "#00cc96",
           "#ab63fa",
           "#FFA15A",
           "#19d3f3",
           "#FF6692",
           "#B6E880",
           "#FF97FF",
           "#FECB52"
          ],
          "font": {
           "color": "#2a3f5f"
          },
          "geo": {
           "bgcolor": "white",
           "lakecolor": "white",
           "landcolor": "#E5ECF6",
           "showlakes": true,
           "showland": true,
           "subunitcolor": "white"
          },
          "hoverlabel": {
           "align": "left"
          },
          "hovermode": "closest",
          "mapbox": {
           "style": "light"
          },
          "paper_bgcolor": "white",
          "plot_bgcolor": "#E5ECF6",
          "polar": {
           "angularaxis": {
            "gridcolor": "white",
            "linecolor": "white",
            "ticks": ""
           },
           "bgcolor": "#E5ECF6",
           "radialaxis": {
            "gridcolor": "white",
            "linecolor": "white",
            "ticks": ""
           }
          },
          "scene": {
           "xaxis": {
            "backgroundcolor": "#E5ECF6",
            "gridcolor": "white",
            "gridwidth": 2,
            "linecolor": "white",
            "showbackground": true,
            "ticks": "",
            "zerolinecolor": "white"
           },
           "yaxis": {
            "backgroundcolor": "#E5ECF6",
            "gridcolor": "white",
            "gridwidth": 2,
            "linecolor": "white",
            "showbackground": true,
            "ticks": "",
            "zerolinecolor": "white"
           },
           "zaxis": {
            "backgroundcolor": "#E5ECF6",
            "gridcolor": "white",
            "gridwidth": 2,
            "linecolor": "white",
            "showbackground": true,
            "ticks": "",
            "zerolinecolor": "white"
           }
          },
          "shapedefaults": {
           "line": {
            "color": "#2a3f5f"
           }
          },
          "ternary": {
           "aaxis": {
            "gridcolor": "white",
            "linecolor": "white",
            "ticks": ""
           },
           "baxis": {
            "gridcolor": "white",
            "linecolor": "white",
            "ticks": ""
           },
           "bgcolor": "#E5ECF6",
           "caxis": {
            "gridcolor": "white",
            "linecolor": "white",
            "ticks": ""
           }
          },
          "title": {
           "x": 0.05
          },
          "xaxis": {
           "automargin": true,
           "gridcolor": "white",
           "linecolor": "white",
           "ticks": "",
           "title": {
            "standoff": 15
           },
           "zerolinecolor": "white",
           "zerolinewidth": 2
          },
          "yaxis": {
           "automargin": true,
           "gridcolor": "white",
           "linecolor": "white",
           "ticks": "",
           "title": {
            "standoff": 15
           },
           "zerolinecolor": "white",
           "zerolinewidth": 2
          }
         }
        },
        "title": {
         "text": "Conductivities ",
         "x": 0.5,
         "xanchor": "center",
         "y": 0.9,
         "yanchor": "top"
        },
        "width": 750,
        "xaxis": {
         "exponentformat": "power",
         "gridcolor": "grey",
         "gridwidth": 0.5,
         "linecolor": "black",
         "linewidth": 2,
         "mirror": true,
         "showexponent": "all",
         "showgrid": true,
         "showline": true,
         "title": {
          "text": "$Si/m$"
         },
         "type": "log"
        },
        "yaxis": {
         "dtick": 20,
         "gridcolor": "grey",
         "gridwidth": 0.5,
         "linecolor": "black",
         "linewidth": 2,
         "mirror": true,
         "showgrid": true,
         "showline": true,
         "tick0": 60,
         "title": {
          "text": "Altitude (km)"
         }
        }
       }
      },
      "text/html": [
       "<div>\n",
       "        \n",
       "        \n",
       "            <div id=\"2870d0e4-1a0f-4483-8f64-95f5da2bb314\" class=\"plotly-graph-div\" style=\"height:750px; width:750px;\"></div>\n",
       "            <script type=\"text/javascript\">\n",
       "                require([\"plotly\"], function(Plotly) {\n",
       "                    window.PLOTLYENV=window.PLOTLYENV || {};\n",
       "                    \n",
       "                if (document.getElementById(\"2870d0e4-1a0f-4483-8f64-95f5da2bb314\")) {\n",
       "                    Plotly.newPlot(\n",
       "                        '2870d0e4-1a0f-4483-8f64-95f5da2bb314',\n",
       "                        [{\"marker\": {\"color\": \"blue\"}, \"mode\": \"lines\", \"name\": \"Pedersen\", \"type\": \"scatter\", \"x\": [5.449738981584214e-07, 9.774244818457183e-07, 1.7331336620583459e-06, 2.964358864735437e-06, 5.099659257297067e-06, 8.833076555572105e-06, 1.5341146034249764e-05, 2.6363089902167303e-05, 4.367145301653091e-05, 6.727071133586049e-05, 9.338246046047317e-05, 0.00011473820922404497, 0.00012443154230245496, 0.000120451465934057, 0.00010605449778969709, 8.666867547127679e-05, 6.70937649308579e-05, 5.023680870946681e-05, 3.712442122630293e-05, 2.757424007951317e-05, 2.0893758989736638e-05, 1.631225760455046e-05, 1.352472708303298e-05, 1.1580454260816408e-05, 1.0002981046208141e-05, 8.96074608383408e-06, 8.244237193441569e-06, 7.653801902801826e-06, 7.032937447293835e-06, 6.300191963988931e-06, 5.4598395369432585e-06, 4.573031621570401e-06, 3.714086452645657e-06, 2.939913383963617e-06, 2.2801750879309868e-06, 1.741137131143469e-06, 1.3141524345817967e-06, 9.83442519808514e-07, 7.313969385439387e-07, 5.414993424510197e-07, 3.995898556456483e-07, 2.9415601187410774e-07, 2.1614658357592214e-07, 1.585993855696096e-07, 1.1623775242061765e-07, 8.510246689062705e-08, 6.224379519672689e-08, 4.547505564670652e-08, 3.318100326339011e-08, 2.4171641532454305e-08, 1.7571965492340358e-08, 1.2739502857093988e-08, 9.20300456907052e-09, 6.617045903023944e-09, 4.728520642345528e-09, 3.351958149382512e-09], \"y\": [96.36432, 97.69113, 98.96521, 100.21858, 101.49149, 102.83465, 104.31025, 105.99205, 107.9605, 110.28514, 112.99677, 116.0809, 119.49435, 123.18561, 127.1144, 131.26863, 135.66771, 140.35171, 145.36669, 150.75399, 156.54488, 162.75891, 169.4047, 176.48172, 183.98288, 191.89784, 200.21538, 208.92486, 218.01702, 227.48388, 237.31828, 247.51354, 258.0632, 268.96082, 280.19986, 291.77326, 303.6734, 315.89174, 328.419, 341.2452, 354.35996, 367.75308, 381.41508, 395.33784, 409.5154, 423.9448, 438.62676, 453.56656, 468.7752, 484.27028, 500.07764, 516.23308, 532.7848, 549.7966, 567.35232, 585.562]}, {\"marker\": {\"color\": \"green\"}, \"mode\": \"lines\", \"name\": \"Hall\", \"type\": \"scatter\", \"x\": [1.8922694471594248e-05, 3.104216617030341e-05, 4.767453976994138e-05, 6.678225214577146e-05, 8.895371346992677e-05, 0.00011316675206848315, 0.0001380403350052224, 0.00016142661597523734, 0.00017973392187870546, 0.00018783557939284812, 0.00018094164858558525, 0.00015819711897010997, 0.00012473824560854698, 8.908574547146379e-05, 5.820043749785515e-05, 3.522581560441927e-05, 2.008669791555677e-05, 1.1019495010809497e-05, 5.9485486052070105e-06, 3.227635807863668e-06, 1.7922130172531105e-06, 1.031907729082625e-06, 6.369884112173352e-07, 4.1171713498980783e-07, 2.736627841222289e-07, 1.923278299378562e-07, 1.4074083847455574e-07, 1.0443280563550968e-07, 7.659248852828763e-08, 5.4567706932079054e-08, 3.749967209669908e-08, 2.486753435203997e-08, 1.5981240972686632e-08, 1.0008830638011602e-08, 6.142074655359314e-09, 3.710583833137508e-09, 2.2151402511902405e-09, 1.3105428059070518e-09, 7.70078058058102e-10, 4.501391793717942e-10, 2.620580044303195e-10, 1.5207563546933817e-10, 8.802479215191853e-11, 5.084214354370307e-11, 2.931150154630954e-11, 1.686957703758057e-11, 9.691989434029786e-12, 5.557559782273804e-12, 3.1794916555510297e-12, 1.81376366920591e-12, 1.0308378916581255e-12, 5.830289773345324e-13, 3.276561245189823e-13, 1.826018884006946e-13, 1.0065075044875457e-13, 5.4689110683141863e-14], \"y\": [96.36432, 97.69113, 98.96521, 100.21858, 101.49149, 102.83465, 104.31025, 105.99205, 107.9605, 110.28514, 112.99677, 116.0809, 119.49435, 123.18561, 127.1144, 131.26863, 135.66771, 140.35171, 145.36669, 150.75399, 156.54488, 162.75891, 169.4047, 176.48172, 183.98288, 191.89784, 200.21538, 208.92486, 218.01702, 227.48388, 237.31828, 247.51354, 258.0632, 268.96082, 280.19986, 291.77326, 303.6734, 315.89174, 328.419, 341.2452, 354.35996, 367.75308, 381.41508, 395.33784, 409.5154, 423.9448, 438.62676, 453.56656, 468.7752, 484.27028, 500.07764, 516.23308, 532.7848, 549.7966, 567.35232, 585.562]}, {\"marker\": {\"color\": \"red\"}, \"mode\": \"lines\", \"name\": \"Parallel\", \"type\": \"scatter\", \"x\": [0.002120035839522006, 0.0044524545105745035, 0.008775299128983085, 0.01582927363115217, 0.027271260963757073, 0.04511778338389634, 0.07206884705269469, 0.1115252910474146, 0.16729230860756605, 0.2429883845870974, 0.3417875341755004, 0.4669626439537293, 0.6223201807008203, 0.8122617765707281, 1.0425216853241137, 1.321813434635539, 1.663757945004076, 2.0889841611981677, 2.6269763104926134, 3.31920473529587, 4.232190982499116, 5.487273682252895, 7.487337035251009, 10.4634622159551, 14.619449417666079, 21.05773971769259, 31.08565598382702, 46.48419454811482, 69.43539195706093, 102.00160728176459, 145.9416817979294, 202.69865477296588, 273.6655355215156, 360.5435760220693, 465.63734904288606, 592.0391514677374, 743.7210834024005, 925.5721693464319, 1143.4183283295667, 1404.0549806926724, 1715.3178829481596, 2086.212534546624, 2527.1149121380536, 3050.0718732248947, 3669.2065498791017, 4401.267967855216, 5266.333132608933, 6288.698593494917, 7497.974972712425, 8930.449148080765, 10630.770008938558, 12654.10496187513, 15068.956151835071, 17960.95896220086, 21438.09228403659, 25636.394759631716], \"y\": [96.36432, 97.69113, 98.96521, 100.21858, 101.49149, 102.83465, 104.31025, 105.99205, 107.9605, 110.28514, 112.99677, 116.0809, 119.49435, 123.18561, 127.1144, 131.26863, 135.66771, 140.35171, 145.36669, 150.75399, 156.54488, 162.75891, 169.4047, 176.48172, 183.98288, 191.89784, 200.21538, 208.92486, 218.01702, 227.48388, 237.31828, 247.51354, 258.0632, 268.96082, 280.19986, 291.77326, 303.6734, 315.89174, 328.419, 341.2452, 354.35996, 367.75308, 381.41508, 395.33784, 409.5154, 423.9448, 438.62676, 453.56656, 468.7752, 484.27028, 500.07764, 516.23308, 532.7848, 549.7966, 567.35232, 585.562]}],\n",
       "                        {\"height\": 750, \"template\": {\"data\": {\"bar\": [{\"error_x\": {\"color\": \"#2a3f5f\"}, \"error_y\": {\"color\": \"#2a3f5f\"}, \"marker\": {\"line\": {\"color\": \"#E5ECF6\", \"width\": 0.5}}, \"type\": \"bar\"}], \"barpolar\": [{\"marker\": {\"line\": {\"color\": \"#E5ECF6\", \"width\": 0.5}}, \"type\": \"barpolar\"}], \"carpet\": [{\"aaxis\": {\"endlinecolor\": \"#2a3f5f\", \"gridcolor\": \"white\", \"linecolor\": \"white\", \"minorgridcolor\": \"white\", \"startlinecolor\": \"#2a3f5f\"}, \"baxis\": {\"endlinecolor\": \"#2a3f5f\", \"gridcolor\": \"white\", \"linecolor\": \"white\", \"minorgridcolor\": \"white\", \"startlinecolor\": \"#2a3f5f\"}, \"type\": \"carpet\"}], \"choropleth\": [{\"colorbar\": {\"outlinewidth\": 0, \"ticks\": \"\"}, \"type\": \"choropleth\"}], \"contour\": [{\"colorbar\": {\"outlinewidth\": 0, \"ticks\": \"\"}, \"colorscale\": [[0.0, \"#0d0887\"], [0.1111111111111111, \"#46039f\"], [0.2222222222222222, \"#7201a8\"], [0.3333333333333333, \"#9c179e\"], [0.4444444444444444, \"#bd3786\"], [0.5555555555555556, \"#d8576b\"], [0.6666666666666666, \"#ed7953\"], [0.7777777777777778, \"#fb9f3a\"], [0.8888888888888888, \"#fdca26\"], [1.0, \"#f0f921\"]], \"type\": \"contour\"}], \"contourcarpet\": [{\"colorbar\": {\"outlinewidth\": 0, \"ticks\": \"\"}, \"type\": \"contourcarpet\"}], \"heatmap\": [{\"colorbar\": {\"outlinewidth\": 0, \"ticks\": \"\"}, \"colorscale\": [[0.0, \"#0d0887\"], [0.1111111111111111, \"#46039f\"], [0.2222222222222222, \"#7201a8\"], [0.3333333333333333, \"#9c179e\"], [0.4444444444444444, \"#bd3786\"], [0.5555555555555556, \"#d8576b\"], [0.6666666666666666, \"#ed7953\"], [0.7777777777777778, \"#fb9f3a\"], [0.8888888888888888, \"#fdca26\"], [1.0, \"#f0f921\"]], \"type\": \"heatmap\"}], \"heatmapgl\": [{\"colorbar\": {\"outlinewidth\": 0, \"ticks\": \"\"}, \"colorscale\": [[0.0, \"#0d0887\"], [0.1111111111111111, \"#46039f\"], [0.2222222222222222, \"#7201a8\"], [0.3333333333333333, \"#9c179e\"], [0.4444444444444444, \"#bd3786\"], [0.5555555555555556, \"#d8576b\"], [0.6666666666666666, \"#ed7953\"], [0.7777777777777778, \"#fb9f3a\"], [0.8888888888888888, \"#fdca26\"], [1.0, \"#f0f921\"]], \"type\": \"heatmapgl\"}], \"histogram\": [{\"marker\": {\"colorbar\": {\"outlinewidth\": 0, \"ticks\": \"\"}}, \"type\": \"histogram\"}], \"histogram2d\": [{\"colorbar\": {\"outlinewidth\": 0, \"ticks\": \"\"}, \"colorscale\": [[0.0, \"#0d0887\"], [0.1111111111111111, \"#46039f\"], [0.2222222222222222, \"#7201a8\"], [0.3333333333333333, \"#9c179e\"], [0.4444444444444444, \"#bd3786\"], [0.5555555555555556, \"#d8576b\"], [0.6666666666666666, \"#ed7953\"], [0.7777777777777778, \"#fb9f3a\"], [0.8888888888888888, \"#fdca26\"], [1.0, \"#f0f921\"]], \"type\": \"histogram2d\"}], \"histogram2dcontour\": [{\"colorbar\": {\"outlinewidth\": 0, \"ticks\": \"\"}, \"colorscale\": [[0.0, \"#0d0887\"], [0.1111111111111111, \"#46039f\"], [0.2222222222222222, \"#7201a8\"], [0.3333333333333333, \"#9c179e\"], [0.4444444444444444, \"#bd3786\"], [0.5555555555555556, \"#d8576b\"], [0.6666666666666666, \"#ed7953\"], [0.7777777777777778, \"#fb9f3a\"], [0.8888888888888888, \"#fdca26\"], [1.0, \"#f0f921\"]], \"type\": \"histogram2dcontour\"}], \"mesh3d\": [{\"colorbar\": {\"outlinewidth\": 0, \"ticks\": \"\"}, \"type\": \"mesh3d\"}], \"parcoords\": [{\"line\": {\"colorbar\": {\"outlinewidth\": 0, \"ticks\": \"\"}}, \"type\": \"parcoords\"}], \"pie\": [{\"automargin\": true, \"type\": \"pie\"}], \"scatter\": [{\"marker\": {\"colorbar\": {\"outlinewidth\": 0, \"ticks\": \"\"}}, \"type\": \"scatter\"}], \"scatter3d\": [{\"line\": {\"colorbar\": {\"outlinewidth\": 0, \"ticks\": \"\"}}, \"marker\": {\"colorbar\": {\"outlinewidth\": 0, \"ticks\": \"\"}}, \"type\": \"scatter3d\"}], \"scattercarpet\": [{\"marker\": {\"colorbar\": {\"outlinewidth\": 0, \"ticks\": \"\"}}, \"type\": \"scattercarpet\"}], \"scattergeo\": [{\"marker\": {\"colorbar\": {\"outlinewidth\": 0, \"ticks\": \"\"}}, \"type\": \"scattergeo\"}], \"scattergl\": [{\"marker\": {\"colorbar\": {\"outlinewidth\": 0, \"ticks\": \"\"}}, \"type\": \"scattergl\"}], \"scattermapbox\": [{\"marker\": {\"colorbar\": {\"outlinewidth\": 0, \"ticks\": \"\"}}, \"type\": \"scattermapbox\"}], \"scatterpolar\": [{\"marker\": {\"colorbar\": {\"outlinewidth\": 0, \"ticks\": \"\"}}, \"type\": \"scatterpolar\"}], \"scatterpolargl\": [{\"marker\": {\"colorbar\": {\"outlinewidth\": 0, \"ticks\": \"\"}}, \"type\": \"scatterpolargl\"}], \"scatterternary\": [{\"marker\": {\"colorbar\": {\"outlinewidth\": 0, \"ticks\": \"\"}}, \"type\": \"scatterternary\"}], \"surface\": [{\"colorbar\": {\"outlinewidth\": 0, \"ticks\": \"\"}, \"colorscale\": [[0.0, \"#0d0887\"], [0.1111111111111111, \"#46039f\"], [0.2222222222222222, \"#7201a8\"], [0.3333333333333333, \"#9c179e\"], [0.4444444444444444, \"#bd3786\"], [0.5555555555555556, \"#d8576b\"], [0.6666666666666666, \"#ed7953\"], [0.7777777777777778, \"#fb9f3a\"], [0.8888888888888888, \"#fdca26\"], [1.0, \"#f0f921\"]], \"type\": \"surface\"}], \"table\": [{\"cells\": {\"fill\": {\"color\": \"#EBF0F8\"}, \"line\": {\"color\": \"white\"}}, \"header\": {\"fill\": {\"color\": \"#C8D4E3\"}, \"line\": {\"color\": \"white\"}}, \"type\": \"table\"}]}, \"layout\": {\"annotationdefaults\": {\"arrowcolor\": \"#2a3f5f\", \"arrowhead\": 0, \"arrowwidth\": 1}, \"coloraxis\": {\"colorbar\": {\"outlinewidth\": 0, \"ticks\": \"\"}}, \"colorscale\": {\"diverging\": [[0, \"#8e0152\"], [0.1, \"#c51b7d\"], [0.2, \"#de77ae\"], [0.3, \"#f1b6da\"], [0.4, \"#fde0ef\"], [0.5, \"#f7f7f7\"], [0.6, \"#e6f5d0\"], [0.7, \"#b8e186\"], [0.8, \"#7fbc41\"], [0.9, \"#4d9221\"], [1, \"#276419\"]], \"sequential\": [[0.0, \"#0d0887\"], [0.1111111111111111, \"#46039f\"], [0.2222222222222222, \"#7201a8\"], [0.3333333333333333, \"#9c179e\"], [0.4444444444444444, \"#bd3786\"], [0.5555555555555556, \"#d8576b\"], [0.6666666666666666, \"#ed7953\"], [0.7777777777777778, \"#fb9f3a\"], [0.8888888888888888, \"#fdca26\"], [1.0, \"#f0f921\"]], \"sequentialminus\": [[0.0, \"#0d0887\"], [0.1111111111111111, \"#46039f\"], [0.2222222222222222, \"#7201a8\"], [0.3333333333333333, \"#9c179e\"], [0.4444444444444444, \"#bd3786\"], [0.5555555555555556, \"#d8576b\"], [0.6666666666666666, \"#ed7953\"], [0.7777777777777778, \"#fb9f3a\"], [0.8888888888888888, \"#fdca26\"], [1.0, \"#f0f921\"]]}, \"colorway\": [\"#636efa\", \"#EF553B\", \"#00cc96\", \"#ab63fa\", \"#FFA15A\", \"#19d3f3\", \"#FF6692\", \"#B6E880\", \"#FF97FF\", \"#FECB52\"], \"font\": {\"color\": \"#2a3f5f\"}, \"geo\": {\"bgcolor\": \"white\", \"lakecolor\": \"white\", \"landcolor\": \"#E5ECF6\", \"showlakes\": true, \"showland\": true, \"subunitcolor\": \"white\"}, \"hoverlabel\": {\"align\": \"left\"}, \"hovermode\": \"closest\", \"mapbox\": {\"style\": \"light\"}, \"paper_bgcolor\": \"white\", \"plot_bgcolor\": \"#E5ECF6\", \"polar\": {\"angularaxis\": {\"gridcolor\": \"white\", \"linecolor\": \"white\", \"ticks\": \"\"}, \"bgcolor\": \"#E5ECF6\", \"radialaxis\": {\"gridcolor\": \"white\", \"linecolor\": \"white\", \"ticks\": \"\"}}, \"scene\": {\"xaxis\": {\"backgroundcolor\": \"#E5ECF6\", \"gridcolor\": \"white\", \"gridwidth\": 2, \"linecolor\": \"white\", \"showbackground\": true, \"ticks\": \"\", \"zerolinecolor\": \"white\"}, \"yaxis\": {\"backgroundcolor\": \"#E5ECF6\", \"gridcolor\": \"white\", \"gridwidth\": 2, \"linecolor\": \"white\", \"showbackground\": true, \"ticks\": \"\", \"zerolinecolor\": \"white\"}, \"zaxis\": {\"backgroundcolor\": \"#E5ECF6\", \"gridcolor\": \"white\", \"gridwidth\": 2, \"linecolor\": \"white\", \"showbackground\": true, \"ticks\": \"\", \"zerolinecolor\": \"white\"}}, \"shapedefaults\": {\"line\": {\"color\": \"#2a3f5f\"}}, \"ternary\": {\"aaxis\": {\"gridcolor\": \"white\", \"linecolor\": \"white\", \"ticks\": \"\"}, \"baxis\": {\"gridcolor\": \"white\", \"linecolor\": \"white\", \"ticks\": \"\"}, \"bgcolor\": \"#E5ECF6\", \"caxis\": {\"gridcolor\": \"white\", \"linecolor\": \"white\", \"ticks\": \"\"}}, \"title\": {\"x\": 0.05}, \"xaxis\": {\"automargin\": true, \"gridcolor\": \"white\", \"linecolor\": \"white\", \"ticks\": \"\", \"title\": {\"standoff\": 15}, \"zerolinecolor\": \"white\", \"zerolinewidth\": 2}, \"yaxis\": {\"automargin\": true, \"gridcolor\": \"white\", \"linecolor\": \"white\", \"ticks\": \"\", \"title\": {\"standoff\": 15}, \"zerolinecolor\": \"white\", \"zerolinewidth\": 2}}}, \"title\": {\"text\": \"Conductivities \", \"x\": 0.5, \"xanchor\": \"center\", \"y\": 0.9, \"yanchor\": \"top\"}, \"width\": 750, \"xaxis\": {\"exponentformat\": \"power\", \"gridcolor\": \"grey\", \"gridwidth\": 0.5, \"linecolor\": \"black\", \"linewidth\": 2, \"mirror\": true, \"showexponent\": \"all\", \"showgrid\": true, \"showline\": true, \"title\": {\"text\": \"$Si/m$\"}, \"type\": \"log\"}, \"yaxis\": {\"dtick\": 20, \"gridcolor\": \"grey\", \"gridwidth\": 0.5, \"linecolor\": \"black\", \"linewidth\": 2, \"mirror\": true, \"showgrid\": true, \"showline\": true, \"tick0\": 60, \"title\": {\"text\": \"Altitude (km)\"}}},\n",
       "                        {\"responsive\": true}\n",
       "                    ).then(function(){\n",
       "                            \n",
       "var gd = document.getElementById('2870d0e4-1a0f-4483-8f64-95f5da2bb314');\n",
       "var x = new MutationObserver(function (mutations, observer) {{\n",
       "        var display = window.getComputedStyle(gd).display;\n",
       "        if (!display || display === 'none') {{\n",
       "            console.log([gd, 'removed!']);\n",
       "            Plotly.purge(gd);\n",
       "            observer.disconnect();\n",
       "        }}\n",
       "}});\n",
       "\n",
       "// Listen for the removal of the full notebook cells\n",
       "var notebookContainer = gd.closest('#notebook-container');\n",
       "if (notebookContainer) {{\n",
       "    x.observe(notebookContainer, {childList: true});\n",
       "}}\n",
       "\n",
       "// Listen for the clearing of the current output cell\n",
       "var outputEl = gd.closest('.output');\n",
       "if (outputEl) {{\n",
       "    x.observe(outputEl, {childList: true});\n",
       "}}\n",
       "\n",
       "                        })\n",
       "                };\n",
       "                });\n",
       "            </script>\n",
       "        </div>"
      ]
     },
     "metadata": {},
     "output_type": "display_data"
    },
    {
     "name": "stdout",
     "output_type": "stream",
     "text": [
      "Plotting frequencies...\n"
     ]
    },
    {
     "data": {
      "application/vnd.plotly.v1+json": {
       "config": {
        "plotlyServerURL": "https://plot.ly"
       },
       "data": [
        {
         "marker": {
          "color": "blue"
         },
         "mode": "lines",
         "name": "$$\\Omega_{e}$$",
         "type": "scatter",
         "x": [
          9881369.251362596,
          9874863.500439728,
          9868621.924869472,
          9862487.175624494,
          9856262.231167115,
          9849699.684517609,
          9842497.07561377,
          9834296.934178457,
          9824711.244425686,
          9813407.809696583,
          9800245.571793862,
          9785305.140708165,
          9768806.409456024,
          9751008.541822262,
          9732115.051579429,
          9712192.925997213,
          9691158.55399183,
          9668831.612056587,
          9645006.457522195,
          9619503.613955457,
          9592194.979460554,
          9563011.008776452,
          9531936.131280359,
          9498999.459187077,
          9464261.798856333,
          9427799.572007477,
          9389693.434773896,
          9350021.365422832,
          9308854.969620546,
          9266259.976569226,
          9222298.347035958,
          9177029.788627336,
          9130512.870845746,
          9082805.838662574,
          9033967.047340872,
          8984056.666630112,
          8933136.683556598,
          8881272.250031576,
          8828530.691760361,
          8774981.136592342,
          8720693.08160713,
          8665733.884342508,
          8610166.548115516,
          8554047.232987175,
          8497422.28164315,
          8440325.275726132,
          8382774.914498461,
          8324772.2839457365,
          8266297.263836563,
          8207306.271438835,
          8147727.374153101,
          8087455.509287211,
          8026345.503507252,
          7964202.978054347,
          7900771.685670097,
          7835716.0259324955
         ],
         "y": [
          96.36432,
          97.69113,
          98.96521,
          100.21858,
          101.49149,
          102.83465,
          104.31025,
          105.99205,
          107.9605,
          110.28514,
          112.99677,
          116.0809,
          119.49435,
          123.18561,
          127.1144,
          131.26863,
          135.66771,
          140.35171,
          145.36669,
          150.75399,
          156.54488,
          162.75891,
          169.4047,
          176.48172,
          183.98288,
          191.89784,
          200.21538,
          208.92486,
          218.01702,
          227.48388,
          237.31828,
          247.51354,
          258.0632,
          268.96082,
          280.19986,
          291.77326,
          303.6734,
          315.89174,
          328.419,
          341.2452,
          354.35996,
          367.75308,
          381.41508,
          395.33784,
          409.5154,
          423.9448,
          438.62676,
          453.56656,
          468.7752,
          484.27028,
          500.07764,
          516.23308,
          532.7848,
          549.7966,
          567.35232,
          585.562
         ]
        },
        {
         "marker": {
          "color": "green"
         },
         "mode": "lines",
         "name": "$$\\Omega_{O+}$$",
         "type": "scatter",
         "x": [
          338.7950405788776,
          338.57198281311247,
          338.357982628036,
          338.14764511645,
          337.9342151497733,
          337.7092100718471,
          337.46225966307526,
          337.1811076101908,
          336.8524503091474,
          336.4648979841294,
          336.0136142793183,
          335.5013630085496,
          334.9356834775172,
          334.3254614390718,
          333.677674616146,
          332.99461975063593,
          332.27343013249344,
          331.5079231459076,
          330.6910480760721,
          329.81665135014487,
          328.88034083522524,
          327.87973208550056,
          326.81429124279344,
          325.6850164556137,
          324.49399254566856,
          323.2438397267006,
          321.9373233946067,
          320.5771171313109,
          319.1656760261829,
          317.7052536867091,
          316.19797451488955,
          314.6458856603129,
          313.05099525124893,
          311.41530028901815,
          309.7408015564282,
          308.0295620482116,
          306.2837070666979,
          304.50547042623566,
          302.6971604724076,
          300.8611473395487,
          298.9998138215115,
          297.11546935529475,
          295.2102740880206,
          293.2861535372636,
          291.3446966196679,
          289.38705472364,
          287.41386897665774,
          285.4251766130886,
          283.4202877857627,
          281.3977082064781,
          279.3549715765539,
          277.2884756908559,
          275.1932431009856,
          273.0626092893216,
          270.8877884997504,
          268.65727425420215
         ],
         "y": [
          96.36432,
          97.69113,
          98.96521,
          100.21858,
          101.49149,
          102.83465,
          104.31025,
          105.99205,
          107.9605,
          110.28514,
          112.99677,
          116.0809,
          119.49435,
          123.18561,
          127.1144,
          131.26863,
          135.66771,
          140.35171,
          145.36669,
          150.75399,
          156.54488,
          162.75891,
          169.4047,
          176.48172,
          183.98288,
          191.89784,
          200.21538,
          208.92486,
          218.01702,
          227.48388,
          237.31828,
          247.51354,
          258.0632,
          268.96082,
          280.19986,
          291.77326,
          303.6734,
          315.89174,
          328.419,
          341.2452,
          354.35996,
          367.75308,
          381.41508,
          395.33784,
          409.5154,
          423.9448,
          438.62676,
          453.56656,
          468.7752,
          484.27028,
          500.07764,
          516.23308,
          532.7848,
          549.7966,
          567.35232,
          585.562
         ]
        },
        {
         "marker": {
          "color": "red"
         },
         "mode": "lines",
         "name": "$$v_{O+}$$",
         "type": "scatter",
         "x": [
          15361.833252617738,
          12470.083216182877,
          9885.671437458757,
          7595.213249848319,
          5621.250697083449,
          4000.8124382527953,
          2749.3393239886236,
          1843.6492470344729,
          1228.1897073998114,
          830.1643136197383,
          576.5315942876246,
          412.13450073086295,
          301.9921765805108,
          225.08084109981047,
          169.011557801011,
          126.8959297664479,
          94.96086156586425,
          70.86602031394959,
          52.863401970515596,
          39.52030002993411,
          29.668942837633413,
          22.394520757715696,
          17.001507946137345,
          12.98526805864515,
          9.972107664958317,
          7.6960387745079215,
          5.9651634116349985,
          4.640729151979507,
          3.6216858351285426,
          2.8338268879751825,
          2.2220827505885365,
          1.7452506541286814,
          1.3723228770782963,
          1.079834924290253,
          0.8499270331049879,
          0.6689213730695438,
          0.5262744014078551,
          0.4138066035316258,
          0.3251343484098164,
          0.2552497529219274,
          0.20020804607468626,
          0.15689241713810778,
          0.1228360102974148,
          0.09608465666932828,
          0.07509058487999426,
          0.05862864872089923,
          0.045730219344748704,
          0.03563053127649943,
          0.027726633818017616,
          0.021543867664403277,
          0.01670909814890916,
          0.012929393379682056,
          0.009975090457453623,
          0.007666350352119445,
          0.005862520288746547,
          0.004454030274398195
         ],
         "y": [
          96.36432,
          97.69113,
          98.96521,
          100.21858,
          101.49149,
          102.83465,
          104.31025,
          105.99205,
          107.9605,
          110.28514,
          112.99677,
          116.0809,
          119.49435,
          123.18561,
          127.1144,
          131.26863,
          135.66771,
          140.35171,
          145.36669,
          150.75399,
          156.54488,
          162.75891,
          169.4047,
          176.48172,
          183.98288,
          191.89784,
          200.21538,
          208.92486,
          218.01702,
          227.48388,
          237.31828,
          247.51354,
          258.0632,
          268.96082,
          280.19986,
          291.77326,
          303.6734,
          315.89174,
          328.419,
          341.2452,
          354.35996,
          367.75308,
          381.41508,
          395.33784,
          409.5154,
          423.9448,
          438.62676,
          453.56656,
          468.7752,
          484.27028,
          500.07764,
          516.23308,
          532.7848,
          549.7966,
          567.35232,
          585.562
         ]
        },
        {
         "marker": {
          "color": "yellow"
         },
         "mode": "lines",
         "name": "$$v_{en}$$",
         "type": "scatter",
         "x": [
          88239.47067627443,
          68891.47700154987,
          53667.16617373834,
          41676.76493668981,
          32243.529407512462,
          24846.572224670654,
          19077.043757513966,
          14607.227454683127,
          11172.41375484507,
          8553.6652756379,
          6565.612784497672,
          5055.170269173204,
          3903.4689252116464,
          3022.097225936344,
          2345.396015459436,
          1823.987870400443,
          1421.041146101182,
          1109.892818857784,
          871.5164495878096,
          691.2393998344138,
          555.48013813249,
          450.83044009499616,
          366.4982024328131,
          296.87027567609385,
          238.45639797279102,
          189.0844568797776,
          147.95138328529924,
          114.43430267135103,
          87.65063668499933,
          66.76964200929775,
          50.69925181247349,
          38.41912633351201,
          29.07525784780003,
          21.986008167089615,
          16.61925378793201,
          12.563911020218814,
          9.504038939090604,
          7.197642521119326,
          5.459971066094758,
          4.150497122991432,
          3.162772863866908,
          2.4165049315371,
          1.851371019647793,
          1.422197757692768,
          1.0952378372252356,
          0.8453059574182988,
          0.6536046404964826,
          0.5060842479792611,
          0.39221721976172574,
          0.3040879858991763,
          0.23572056593879917,
          0.18258322930235377,
          0.14122372191234062,
          0.10900031880651327,
          0.0838831489968051,
          0.06430661855282706
         ],
         "y": [
          96.36432,
          97.69113,
          98.96521,
          100.21858,
          101.49149,
          102.83465,
          104.31025,
          105.99205,
          107.9605,
          110.28514,
          112.99677,
          116.0809,
          119.49435,
          123.18561,
          127.1144,
          131.26863,
          135.66771,
          140.35171,
          145.36669,
          150.75399,
          156.54488,
          162.75891,
          169.4047,
          176.48172,
          183.98288,
          191.89784,
          200.21538,
          208.92486,
          218.01702,
          227.48388,
          237.31828,
          247.51354,
          258.0632,
          268.96082,
          280.19986,
          291.77326,
          303.6734,
          315.89174,
          328.419,
          341.2452,
          354.35996,
          367.75308,
          381.41508,
          395.33784,
          409.5154,
          423.9448,
          438.62676,
          453.56656,
          468.7752,
          484.27028,
          500.07764,
          516.23308,
          532.7848,
          549.7966,
          567.35232,
          585.562
         ]
        },
        {
         "marker": {
          "color": "orange"
         },
         "mode": "lines",
         "name": "$$\\Omega_{O2+}$$+",
         "type": "scatter",
         "x": [
          169.3975202894388,
          169.28599140655624,
          169.178991314018,
          169.073822558225,
          168.96710757488665,
          168.85460503592356,
          168.73112983153763,
          168.5905538050954,
          168.4262251545737,
          168.2324489920647,
          168.00680713965914,
          167.7506815042748,
          167.4678417387586,
          167.1627307195359,
          166.838837308073,
          166.49730987531797,
          166.13671506624672,
          165.7539615729538,
          165.34552403803605,
          164.90832567507243,
          164.44017041761262,
          163.93986604275028,
          163.40714562139672,
          162.84250822780686,
          162.24699627283428,
          161.6219198633503,
          160.96866169730336,
          160.28855856565545,
          159.58283801309145,
          158.85262684335456,
          158.09898725744478,
          157.32294283015645,
          156.52549762562447,
          155.70765014450907,
          154.8704007782141,
          154.0147810241058,
          153.14185353334895,
          152.25273521311783,
          151.3485802362038,
          150.43057366977436,
          149.49990691075575,
          148.55773467764737,
          147.6051370440103,
          146.6430767686318,
          145.67234830983395,
          144.69352736182,
          143.70693448832887,
          142.7125883065443,
          141.71014389288135,
          140.69885410323906,
          139.67748578827695,
          138.64423784542794,
          137.5966215504928,
          136.5313046446608,
          135.4438942498752,
          134.32863712710108
         ],
         "y": [
          96.36432,
          97.69113,
          98.96521,
          100.21858,
          101.49149,
          102.83465,
          104.31025,
          105.99205,
          107.9605,
          110.28514,
          112.99677,
          116.0809,
          119.49435,
          123.18561,
          127.1144,
          131.26863,
          135.66771,
          140.35171,
          145.36669,
          150.75399,
          156.54488,
          162.75891,
          169.4047,
          176.48172,
          183.98288,
          191.89784,
          200.21538,
          208.92486,
          218.01702,
          227.48388,
          237.31828,
          247.51354,
          258.0632,
          268.96082,
          280.19986,
          291.77326,
          303.6734,
          315.89174,
          328.419,
          341.2452,
          354.35996,
          367.75308,
          381.41508,
          395.33784,
          409.5154,
          423.9448,
          438.62676,
          453.56656,
          468.7752,
          484.27028,
          500.07764,
          516.23308,
          532.7848,
          549.7966,
          567.35232,
          585.562
         ]
        },
        {
         "marker": {
          "color": "purple"
         },
         "mode": "lines",
         "name": "$$v_{O2+}$$+",
         "type": "scatter",
         "x": [
          8527.430601511353,
          6908.18504531887,
          5473.434831761244,
          4210.534054183966,
          3126.2707976231904,
          2236.031441812019,
          1545.5647052141562,
          1042.0814973082813,
          696.6703801196333,
          471.08636210930024,
          326.12372325200295,
          231.59183600359785,
          168.0648142656869,
          123.76083625413735,
          91.65324750370253,
          67.7456268118515,
          49.7944920482158,
          36.39643587713874,
          26.511304755340234,
          19.294788137577545,
          14.062896795374947,
          10.281129146564659,
          7.546502815158594,
          5.563866658687404,
          4.119851132015618,
          3.0626622128366643,
          2.2846519241313787,
          1.7093543833161022,
          1.282189269747068,
          0.9639255432199133,
          0.7261099936056978,
          0.547955723065565,
          0.41419823647057663,
          0.3135775530046495,
          0.23775350868169004,
          0.18052621750875705,
          0.13727178299477433,
          0.104532308501807,
          0.07971621468974234,
          0.06087798157632407,
          0.046555278901062605,
          0.03564788311683921,
          0.027327371728980036,
          0.02096937073638168,
          0.016102844952225675,
          0.012371940160674512,
          0.009507407850137624,
          0.007305148650303649,
          0.005610129824835818,
          0.0043043344757840865,
          0.003297724680938227,
          0.0025214568659792484,
          0.0019227838846918699,
          0.0014612118007875964,
          0.001105599983762761,
          0.0008319648338045608
         ],
         "y": [
          96.36432,
          97.69113,
          98.96521,
          100.21858,
          101.49149,
          102.83465,
          104.31025,
          105.99205,
          107.9605,
          110.28514,
          112.99677,
          116.0809,
          119.49435,
          123.18561,
          127.1144,
          131.26863,
          135.66771,
          140.35171,
          145.36669,
          150.75399,
          156.54488,
          162.75891,
          169.4047,
          176.48172,
          183.98288,
          191.89784,
          200.21538,
          208.92486,
          218.01702,
          227.48388,
          237.31828,
          247.51354,
          258.0632,
          268.96082,
          280.19986,
          291.77326,
          303.6734,
          315.89174,
          328.419,
          341.2452,
          354.35996,
          367.75308,
          381.41508,
          395.33784,
          409.5154,
          423.9448,
          438.62676,
          453.56656,
          468.7752,
          484.27028,
          500.07764,
          516.23308,
          532.7848,
          549.7966,
          567.35232,
          585.562
         ]
        },
        {
         "marker": {
          "color": "mediumvioletred"
         },
         "mode": "lines",
         "name": "$$v_{in}$$+",
         "type": "scatter",
         "x": [
          23889.26385412909,
          19378.268261501747,
          15359.106269220001,
          11805.747304032284,
          8747.52149470664,
          6236.843880064815,
          4294.90402920278,
          2885.7307443427544,
          1924.8600875194447,
          1301.2506757290384,
          902.6553175396275,
          643.7263367344608,
          470.05699084619766,
          348.84167735394783,
          260.6648053047135,
          194.6415565782994,
          144.75535361408004,
          107.26245619108833,
          79.37470672585583,
          58.81508816751166,
          43.73183963300836,
          32.675649904280355,
          24.548010761295938,
          18.549134717332556,
          14.091958796973934,
          10.758700987344586,
          8.249815335766378,
          6.350083535295608,
          4.903875104875611,
          3.7977524311950956,
          2.9481927441942344,
          2.293206377194246,
          1.786521113548873,
          1.3934124772949024,
          1.087680541786678,
          0.8494475905783009,
          0.6635461844026294,
          0.5183389120334327,
          0.40485056309955875,
          0.3161277344982515,
          0.24676332497574888,
          0.192540300254947,
          0.15016338202639484,
          0.11705402740570996,
          0.09119342983221994,
          0.07100058888157373,
          0.05523762719488633,
          0.042935679926803076,
          0.033336763642853436,
          0.025848202140187362,
          0.02000682282984739,
          0.015450850245661304,
          0.011897874342145492,
          0.009127562152907042,
          0.006968120272509308,
          0.005285995108202756
         ],
         "y": [
          96.36432,
          97.69113,
          98.96521,
          100.21858,
          101.49149,
          102.83465,
          104.31025,
          105.99205,
          107.9605,
          110.28514,
          112.99677,
          116.0809,
          119.49435,
          123.18561,
          127.1144,
          131.26863,
          135.66771,
          140.35171,
          145.36669,
          150.75399,
          156.54488,
          162.75891,
          169.4047,
          176.48172,
          183.98288,
          191.89784,
          200.21538,
          208.92486,
          218.01702,
          227.48388,
          237.31828,
          247.51354,
          258.0632,
          268.96082,
          280.19986,
          291.77326,
          303.6734,
          315.89174,
          328.419,
          341.2452,
          354.35996,
          367.75308,
          381.41508,
          395.33784,
          409.5154,
          423.9448,
          438.62676,
          453.56656,
          468.7752,
          484.27028,
          500.07764,
          516.23308,
          532.7848,
          549.7966,
          567.35232,
          585.562
         ]
        }
       ],
       "layout": {
        "height": 750,
        "template": {
         "data": {
          "bar": [
           {
            "error_x": {
             "color": "#2a3f5f"
            },
            "error_y": {
             "color": "#2a3f5f"
            },
            "marker": {
             "line": {
              "color": "#E5ECF6",
              "width": 0.5
             }
            },
            "type": "bar"
           }
          ],
          "barpolar": [
           {
            "marker": {
             "line": {
              "color": "#E5ECF6",
              "width": 0.5
             }
            },
            "type": "barpolar"
           }
          ],
          "carpet": [
           {
            "aaxis": {
             "endlinecolor": "#2a3f5f",
             "gridcolor": "white",
             "linecolor": "white",
             "minorgridcolor": "white",
             "startlinecolor": "#2a3f5f"
            },
            "baxis": {
             "endlinecolor": "#2a3f5f",
             "gridcolor": "white",
             "linecolor": "white",
             "minorgridcolor": "white",
             "startlinecolor": "#2a3f5f"
            },
            "type": "carpet"
           }
          ],
          "choropleth": [
           {
            "colorbar": {
             "outlinewidth": 0,
             "ticks": ""
            },
            "type": "choropleth"
           }
          ],
          "contour": [
           {
            "colorbar": {
             "outlinewidth": 0,
             "ticks": ""
            },
            "colorscale": [
             [
              0,
              "#0d0887"
             ],
             [
              0.1111111111111111,
              "#46039f"
             ],
             [
              0.2222222222222222,
              "#7201a8"
             ],
             [
              0.3333333333333333,
              "#9c179e"
             ],
             [
              0.4444444444444444,
              "#bd3786"
             ],
             [
              0.5555555555555556,
              "#d8576b"
             ],
             [
              0.6666666666666666,
              "#ed7953"
             ],
             [
              0.7777777777777778,
              "#fb9f3a"
             ],
             [
              0.8888888888888888,
              "#fdca26"
             ],
             [
              1,
              "#f0f921"
             ]
            ],
            "type": "contour"
           }
          ],
          "contourcarpet": [
           {
            "colorbar": {
             "outlinewidth": 0,
             "ticks": ""
            },
            "type": "contourcarpet"
           }
          ],
          "heatmap": [
           {
            "colorbar": {
             "outlinewidth": 0,
             "ticks": ""
            },
            "colorscale": [
             [
              0,
              "#0d0887"
             ],
             [
              0.1111111111111111,
              "#46039f"
             ],
             [
              0.2222222222222222,
              "#7201a8"
             ],
             [
              0.3333333333333333,
              "#9c179e"
             ],
             [
              0.4444444444444444,
              "#bd3786"
             ],
             [
              0.5555555555555556,
              "#d8576b"
             ],
             [
              0.6666666666666666,
              "#ed7953"
             ],
             [
              0.7777777777777778,
              "#fb9f3a"
             ],
             [
              0.8888888888888888,
              "#fdca26"
             ],
             [
              1,
              "#f0f921"
             ]
            ],
            "type": "heatmap"
           }
          ],
          "heatmapgl": [
           {
            "colorbar": {
             "outlinewidth": 0,
             "ticks": ""
            },
            "colorscale": [
             [
              0,
              "#0d0887"
             ],
             [
              0.1111111111111111,
              "#46039f"
             ],
             [
              0.2222222222222222,
              "#7201a8"
             ],
             [
              0.3333333333333333,
              "#9c179e"
             ],
             [
              0.4444444444444444,
              "#bd3786"
             ],
             [
              0.5555555555555556,
              "#d8576b"
             ],
             [
              0.6666666666666666,
              "#ed7953"
             ],
             [
              0.7777777777777778,
              "#fb9f3a"
             ],
             [
              0.8888888888888888,
              "#fdca26"
             ],
             [
              1,
              "#f0f921"
             ]
            ],
            "type": "heatmapgl"
           }
          ],
          "histogram": [
           {
            "marker": {
             "colorbar": {
              "outlinewidth": 0,
              "ticks": ""
             }
            },
            "type": "histogram"
           }
          ],
          "histogram2d": [
           {
            "colorbar": {
             "outlinewidth": 0,
             "ticks": ""
            },
            "colorscale": [
             [
              0,
              "#0d0887"
             ],
             [
              0.1111111111111111,
              "#46039f"
             ],
             [
              0.2222222222222222,
              "#7201a8"
             ],
             [
              0.3333333333333333,
              "#9c179e"
             ],
             [
              0.4444444444444444,
              "#bd3786"
             ],
             [
              0.5555555555555556,
              "#d8576b"
             ],
             [
              0.6666666666666666,
              "#ed7953"
             ],
             [
              0.7777777777777778,
              "#fb9f3a"
             ],
             [
              0.8888888888888888,
              "#fdca26"
             ],
             [
              1,
              "#f0f921"
             ]
            ],
            "type": "histogram2d"
           }
          ],
          "histogram2dcontour": [
           {
            "colorbar": {
             "outlinewidth": 0,
             "ticks": ""
            },
            "colorscale": [
             [
              0,
              "#0d0887"
             ],
             [
              0.1111111111111111,
              "#46039f"
             ],
             [
              0.2222222222222222,
              "#7201a8"
             ],
             [
              0.3333333333333333,
              "#9c179e"
             ],
             [
              0.4444444444444444,
              "#bd3786"
             ],
             [
              0.5555555555555556,
              "#d8576b"
             ],
             [
              0.6666666666666666,
              "#ed7953"
             ],
             [
              0.7777777777777778,
              "#fb9f3a"
             ],
             [
              0.8888888888888888,
              "#fdca26"
             ],
             [
              1,
              "#f0f921"
             ]
            ],
            "type": "histogram2dcontour"
           }
          ],
          "mesh3d": [
           {
            "colorbar": {
             "outlinewidth": 0,
             "ticks": ""
            },
            "type": "mesh3d"
           }
          ],
          "parcoords": [
           {
            "line": {
             "colorbar": {
              "outlinewidth": 0,
              "ticks": ""
             }
            },
            "type": "parcoords"
           }
          ],
          "pie": [
           {
            "automargin": true,
            "type": "pie"
           }
          ],
          "scatter": [
           {
            "marker": {
             "colorbar": {
              "outlinewidth": 0,
              "ticks": ""
             }
            },
            "type": "scatter"
           }
          ],
          "scatter3d": [
           {
            "line": {
             "colorbar": {
              "outlinewidth": 0,
              "ticks": ""
             }
            },
            "marker": {
             "colorbar": {
              "outlinewidth": 0,
              "ticks": ""
             }
            },
            "type": "scatter3d"
           }
          ],
          "scattercarpet": [
           {
            "marker": {
             "colorbar": {
              "outlinewidth": 0,
              "ticks": ""
             }
            },
            "type": "scattercarpet"
           }
          ],
          "scattergeo": [
           {
            "marker": {
             "colorbar": {
              "outlinewidth": 0,
              "ticks": ""
             }
            },
            "type": "scattergeo"
           }
          ],
          "scattergl": [
           {
            "marker": {
             "colorbar": {
              "outlinewidth": 0,
              "ticks": ""
             }
            },
            "type": "scattergl"
           }
          ],
          "scattermapbox": [
           {
            "marker": {
             "colorbar": {
              "outlinewidth": 0,
              "ticks": ""
             }
            },
            "type": "scattermapbox"
           }
          ],
          "scatterpolar": [
           {
            "marker": {
             "colorbar": {
              "outlinewidth": 0,
              "ticks": ""
             }
            },
            "type": "scatterpolar"
           }
          ],
          "scatterpolargl": [
           {
            "marker": {
             "colorbar": {
              "outlinewidth": 0,
              "ticks": ""
             }
            },
            "type": "scatterpolargl"
           }
          ],
          "scatterternary": [
           {
            "marker": {
             "colorbar": {
              "outlinewidth": 0,
              "ticks": ""
             }
            },
            "type": "scatterternary"
           }
          ],
          "surface": [
           {
            "colorbar": {
             "outlinewidth": 0,
             "ticks": ""
            },
            "colorscale": [
             [
              0,
              "#0d0887"
             ],
             [
              0.1111111111111111,
              "#46039f"
             ],
             [
              0.2222222222222222,
              "#7201a8"
             ],
             [
              0.3333333333333333,
              "#9c179e"
             ],
             [
              0.4444444444444444,
              "#bd3786"
             ],
             [
              0.5555555555555556,
              "#d8576b"
             ],
             [
              0.6666666666666666,
              "#ed7953"
             ],
             [
              0.7777777777777778,
              "#fb9f3a"
             ],
             [
              0.8888888888888888,
              "#fdca26"
             ],
             [
              1,
              "#f0f921"
             ]
            ],
            "type": "surface"
           }
          ],
          "table": [
           {
            "cells": {
             "fill": {
              "color": "#EBF0F8"
             },
             "line": {
              "color": "white"
             }
            },
            "header": {
             "fill": {
              "color": "#C8D4E3"
             },
             "line": {
              "color": "white"
             }
            },
            "type": "table"
           }
          ]
         },
         "layout": {
          "annotationdefaults": {
           "arrowcolor": "#2a3f5f",
           "arrowhead": 0,
           "arrowwidth": 1
          },
          "coloraxis": {
           "colorbar": {
            "outlinewidth": 0,
            "ticks": ""
           }
          },
          "colorscale": {
           "diverging": [
            [
             0,
             "#8e0152"
            ],
            [
             0.1,
             "#c51b7d"
            ],
            [
             0.2,
             "#de77ae"
            ],
            [
             0.3,
             "#f1b6da"
            ],
            [
             0.4,
             "#fde0ef"
            ],
            [
             0.5,
             "#f7f7f7"
            ],
            [
             0.6,
             "#e6f5d0"
            ],
            [
             0.7,
             "#b8e186"
            ],
            [
             0.8,
             "#7fbc41"
            ],
            [
             0.9,
             "#4d9221"
            ],
            [
             1,
             "#276419"
            ]
           ],
           "sequential": [
            [
             0,
             "#0d0887"
            ],
            [
             0.1111111111111111,
             "#46039f"
            ],
            [
             0.2222222222222222,
             "#7201a8"
            ],
            [
             0.3333333333333333,
             "#9c179e"
            ],
            [
             0.4444444444444444,
             "#bd3786"
            ],
            [
             0.5555555555555556,
             "#d8576b"
            ],
            [
             0.6666666666666666,
             "#ed7953"
            ],
            [
             0.7777777777777778,
             "#fb9f3a"
            ],
            [
             0.8888888888888888,
             "#fdca26"
            ],
            [
             1,
             "#f0f921"
            ]
           ],
           "sequentialminus": [
            [
             0,
             "#0d0887"
            ],
            [
             0.1111111111111111,
             "#46039f"
            ],
            [
             0.2222222222222222,
             "#7201a8"
            ],
            [
             0.3333333333333333,
             "#9c179e"
            ],
            [
             0.4444444444444444,
             "#bd3786"
            ],
            [
             0.5555555555555556,
             "#d8576b"
            ],
            [
             0.6666666666666666,
             "#ed7953"
            ],
            [
             0.7777777777777778,
             "#fb9f3a"
            ],
            [
             0.8888888888888888,
             "#fdca26"
            ],
            [
             1,
             "#f0f921"
            ]
           ]
          },
          "colorway": [
           "#636efa",
           "#EF553B",
           "#00cc96",
           "#ab63fa",
           "#FFA15A",
           "#19d3f3",
           "#FF6692",
           "#B6E880",
           "#FF97FF",
           "#FECB52"
          ],
          "font": {
           "color": "#2a3f5f"
          },
          "geo": {
           "bgcolor": "white",
           "lakecolor": "white",
           "landcolor": "#E5ECF6",
           "showlakes": true,
           "showland": true,
           "subunitcolor": "white"
          },
          "hoverlabel": {
           "align": "left"
          },
          "hovermode": "closest",
          "mapbox": {
           "style": "light"
          },
          "paper_bgcolor": "white",
          "plot_bgcolor": "#E5ECF6",
          "polar": {
           "angularaxis": {
            "gridcolor": "white",
            "linecolor": "white",
            "ticks": ""
           },
           "bgcolor": "#E5ECF6",
           "radialaxis": {
            "gridcolor": "white",
            "linecolor": "white",
            "ticks": ""
           }
          },
          "scene": {
           "xaxis": {
            "backgroundcolor": "#E5ECF6",
            "gridcolor": "white",
            "gridwidth": 2,
            "linecolor": "white",
            "showbackground": true,
            "ticks": "",
            "zerolinecolor": "white"
           },
           "yaxis": {
            "backgroundcolor": "#E5ECF6",
            "gridcolor": "white",
            "gridwidth": 2,
            "linecolor": "white",
            "showbackground": true,
            "ticks": "",
            "zerolinecolor": "white"
           },
           "zaxis": {
            "backgroundcolor": "#E5ECF6",
            "gridcolor": "white",
            "gridwidth": 2,
            "linecolor": "white",
            "showbackground": true,
            "ticks": "",
            "zerolinecolor": "white"
           }
          },
          "shapedefaults": {
           "line": {
            "color": "#2a3f5f"
           }
          },
          "ternary": {
           "aaxis": {
            "gridcolor": "white",
            "linecolor": "white",
            "ticks": ""
           },
           "baxis": {
            "gridcolor": "white",
            "linecolor": "white",
            "ticks": ""
           },
           "bgcolor": "#E5ECF6",
           "caxis": {
            "gridcolor": "white",
            "linecolor": "white",
            "ticks": ""
           }
          },
          "title": {
           "x": 0.05
          },
          "xaxis": {
           "automargin": true,
           "gridcolor": "white",
           "linecolor": "white",
           "ticks": "",
           "title": {
            "standoff": 15
           },
           "zerolinecolor": "white",
           "zerolinewidth": 2
          },
          "yaxis": {
           "automargin": true,
           "gridcolor": "white",
           "linecolor": "white",
           "ticks": "",
           "title": {
            "standoff": 15
           },
           "zerolinecolor": "white",
           "zerolinewidth": 2
          }
         }
        },
        "title": {
         "text": "Frequencies ",
         "x": 0.5,
         "xanchor": "center",
         "y": 0.9,
         "yanchor": "top"
        },
        "width": 750,
        "xaxis": {
         "exponentformat": "power",
         "gridcolor": "grey",
         "gridwidth": 0.5,
         "linecolor": "black",
         "linewidth": 2,
         "mirror": true,
         "showexponent": "all",
         "showgrid": true,
         "showline": true,
         "title": {
          "text": "Frequency (Hz)"
         },
         "type": "log"
        },
        "yaxis": {
         "dtick": 20,
         "gridcolor": "grey",
         "gridwidth": 0.5,
         "linecolor": "black",
         "linewidth": 2,
         "mirror": true,
         "showgrid": true,
         "showline": true,
         "tick0": 60,
         "title": {
          "text": "Altitude (km)"
         }
        }
       }
      },
      "text/html": [
       "<div>\n",
       "        \n",
       "        \n",
       "            <div id=\"75696ee1-b4af-4084-9aae-0d4d0f4a66a6\" class=\"plotly-graph-div\" style=\"height:750px; width:750px;\"></div>\n",
       "            <script type=\"text/javascript\">\n",
       "                require([\"plotly\"], function(Plotly) {\n",
       "                    window.PLOTLYENV=window.PLOTLYENV || {};\n",
       "                    \n",
       "                if (document.getElementById(\"75696ee1-b4af-4084-9aae-0d4d0f4a66a6\")) {\n",
       "                    Plotly.newPlot(\n",
       "                        '75696ee1-b4af-4084-9aae-0d4d0f4a66a6',\n",
       "                        [{\"marker\": {\"color\": \"blue\"}, \"mode\": \"lines\", \"name\": \"$$\\\\Omega_{e}$$\", \"type\": \"scatter\", \"x\": [9881369.251362596, 9874863.500439728, 9868621.924869472, 9862487.175624494, 9856262.231167115, 9849699.684517609, 9842497.07561377, 9834296.934178457, 9824711.244425686, 9813407.809696583, 9800245.571793862, 9785305.140708165, 9768806.409456024, 9751008.541822262, 9732115.051579429, 9712192.925997213, 9691158.55399183, 9668831.612056587, 9645006.457522195, 9619503.613955457, 9592194.979460554, 9563011.008776452, 9531936.131280359, 9498999.459187077, 9464261.798856333, 9427799.572007477, 9389693.434773896, 9350021.365422832, 9308854.969620546, 9266259.976569226, 9222298.347035958, 9177029.788627336, 9130512.870845746, 9082805.838662574, 9033967.047340872, 8984056.666630112, 8933136.683556598, 8881272.250031576, 8828530.691760361, 8774981.136592342, 8720693.08160713, 8665733.884342508, 8610166.548115516, 8554047.232987175, 8497422.28164315, 8440325.275726132, 8382774.914498461, 8324772.2839457365, 8266297.263836563, 8207306.271438835, 8147727.374153101, 8087455.509287211, 8026345.503507252, 7964202.978054347, 7900771.685670097, 7835716.0259324955], \"y\": [96.36432, 97.69113, 98.96521, 100.21858, 101.49149, 102.83465, 104.31025, 105.99205, 107.9605, 110.28514, 112.99677, 116.0809, 119.49435, 123.18561, 127.1144, 131.26863, 135.66771, 140.35171, 145.36669, 150.75399, 156.54488, 162.75891, 169.4047, 176.48172, 183.98288, 191.89784, 200.21538, 208.92486, 218.01702, 227.48388, 237.31828, 247.51354, 258.0632, 268.96082, 280.19986, 291.77326, 303.6734, 315.89174, 328.419, 341.2452, 354.35996, 367.75308, 381.41508, 395.33784, 409.5154, 423.9448, 438.62676, 453.56656, 468.7752, 484.27028, 500.07764, 516.23308, 532.7848, 549.7966, 567.35232, 585.562]}, {\"marker\": {\"color\": \"green\"}, \"mode\": \"lines\", \"name\": \"$$\\\\Omega_{O+}$$\", \"type\": \"scatter\", \"x\": [338.7950405788776, 338.57198281311247, 338.357982628036, 338.14764511645, 337.9342151497733, 337.7092100718471, 337.46225966307526, 337.1811076101908, 336.8524503091474, 336.4648979841294, 336.0136142793183, 335.5013630085496, 334.9356834775172, 334.3254614390718, 333.677674616146, 332.99461975063593, 332.27343013249344, 331.5079231459076, 330.6910480760721, 329.81665135014487, 328.88034083522524, 327.87973208550056, 326.81429124279344, 325.6850164556137, 324.49399254566856, 323.2438397267006, 321.9373233946067, 320.5771171313109, 319.1656760261829, 317.7052536867091, 316.19797451488955, 314.6458856603129, 313.05099525124893, 311.41530028901815, 309.7408015564282, 308.0295620482116, 306.2837070666979, 304.50547042623566, 302.6971604724076, 300.8611473395487, 298.9998138215115, 297.11546935529475, 295.2102740880206, 293.2861535372636, 291.3446966196679, 289.38705472364, 287.41386897665774, 285.4251766130886, 283.4202877857627, 281.3977082064781, 279.3549715765539, 277.2884756908559, 275.1932431009856, 273.0626092893216, 270.8877884997504, 268.65727425420215], \"y\": [96.36432, 97.69113, 98.96521, 100.21858, 101.49149, 102.83465, 104.31025, 105.99205, 107.9605, 110.28514, 112.99677, 116.0809, 119.49435, 123.18561, 127.1144, 131.26863, 135.66771, 140.35171, 145.36669, 150.75399, 156.54488, 162.75891, 169.4047, 176.48172, 183.98288, 191.89784, 200.21538, 208.92486, 218.01702, 227.48388, 237.31828, 247.51354, 258.0632, 268.96082, 280.19986, 291.77326, 303.6734, 315.89174, 328.419, 341.2452, 354.35996, 367.75308, 381.41508, 395.33784, 409.5154, 423.9448, 438.62676, 453.56656, 468.7752, 484.27028, 500.07764, 516.23308, 532.7848, 549.7966, 567.35232, 585.562]}, {\"marker\": {\"color\": \"red\"}, \"mode\": \"lines\", \"name\": \"$$v_{O+}$$\", \"type\": \"scatter\", \"x\": [15361.833252617738, 12470.083216182877, 9885.671437458757, 7595.213249848319, 5621.250697083449, 4000.8124382527953, 2749.3393239886236, 1843.6492470344729, 1228.1897073998114, 830.1643136197383, 576.5315942876246, 412.13450073086295, 301.9921765805108, 225.08084109981047, 169.011557801011, 126.8959297664479, 94.96086156586425, 70.86602031394959, 52.863401970515596, 39.52030002993411, 29.668942837633413, 22.394520757715696, 17.001507946137345, 12.98526805864515, 9.972107664958317, 7.6960387745079215, 5.9651634116349985, 4.640729151979507, 3.6216858351285426, 2.8338268879751825, 2.2220827505885365, 1.7452506541286814, 1.3723228770782963, 1.079834924290253, 0.8499270331049879, 0.6689213730695438, 0.5262744014078551, 0.4138066035316258, 0.3251343484098164, 0.2552497529219274, 0.20020804607468626, 0.15689241713810778, 0.1228360102974148, 0.09608465666932828, 0.07509058487999426, 0.05862864872089923, 0.045730219344748704, 0.03563053127649943, 0.027726633818017616, 0.021543867664403277, 0.01670909814890916, 0.012929393379682056, 0.009975090457453623, 0.007666350352119445, 0.005862520288746547, 0.004454030274398195], \"y\": [96.36432, 97.69113, 98.96521, 100.21858, 101.49149, 102.83465, 104.31025, 105.99205, 107.9605, 110.28514, 112.99677, 116.0809, 119.49435, 123.18561, 127.1144, 131.26863, 135.66771, 140.35171, 145.36669, 150.75399, 156.54488, 162.75891, 169.4047, 176.48172, 183.98288, 191.89784, 200.21538, 208.92486, 218.01702, 227.48388, 237.31828, 247.51354, 258.0632, 268.96082, 280.19986, 291.77326, 303.6734, 315.89174, 328.419, 341.2452, 354.35996, 367.75308, 381.41508, 395.33784, 409.5154, 423.9448, 438.62676, 453.56656, 468.7752, 484.27028, 500.07764, 516.23308, 532.7848, 549.7966, 567.35232, 585.562]}, {\"marker\": {\"color\": \"yellow\"}, \"mode\": \"lines\", \"name\": \"$$v_{en}$$\", \"type\": \"scatter\", \"x\": [88239.47067627443, 68891.47700154987, 53667.16617373834, 41676.76493668981, 32243.529407512462, 24846.572224670654, 19077.043757513966, 14607.227454683127, 11172.41375484507, 8553.6652756379, 6565.612784497672, 5055.170269173204, 3903.4689252116464, 3022.097225936344, 2345.396015459436, 1823.987870400443, 1421.041146101182, 1109.892818857784, 871.5164495878096, 691.2393998344138, 555.48013813249, 450.83044009499616, 366.4982024328131, 296.87027567609385, 238.45639797279102, 189.0844568797776, 147.95138328529924, 114.43430267135103, 87.65063668499933, 66.76964200929775, 50.69925181247349, 38.41912633351201, 29.07525784780003, 21.986008167089615, 16.61925378793201, 12.563911020218814, 9.504038939090604, 7.197642521119326, 5.459971066094758, 4.150497122991432, 3.162772863866908, 2.4165049315371, 1.851371019647793, 1.422197757692768, 1.0952378372252356, 0.8453059574182988, 0.6536046404964826, 0.5060842479792611, 0.39221721976172574, 0.3040879858991763, 0.23572056593879917, 0.18258322930235377, 0.14122372191234062, 0.10900031880651327, 0.0838831489968051, 0.06430661855282706], \"y\": [96.36432, 97.69113, 98.96521, 100.21858, 101.49149, 102.83465, 104.31025, 105.99205, 107.9605, 110.28514, 112.99677, 116.0809, 119.49435, 123.18561, 127.1144, 131.26863, 135.66771, 140.35171, 145.36669, 150.75399, 156.54488, 162.75891, 169.4047, 176.48172, 183.98288, 191.89784, 200.21538, 208.92486, 218.01702, 227.48388, 237.31828, 247.51354, 258.0632, 268.96082, 280.19986, 291.77326, 303.6734, 315.89174, 328.419, 341.2452, 354.35996, 367.75308, 381.41508, 395.33784, 409.5154, 423.9448, 438.62676, 453.56656, 468.7752, 484.27028, 500.07764, 516.23308, 532.7848, 549.7966, 567.35232, 585.562]}, {\"marker\": {\"color\": \"orange\"}, \"mode\": \"lines\", \"name\": \"$$\\\\Omega_{O2+}$$+\", \"type\": \"scatter\", \"x\": [169.3975202894388, 169.28599140655624, 169.178991314018, 169.073822558225, 168.96710757488665, 168.85460503592356, 168.73112983153763, 168.5905538050954, 168.4262251545737, 168.2324489920647, 168.00680713965914, 167.7506815042748, 167.4678417387586, 167.1627307195359, 166.838837308073, 166.49730987531797, 166.13671506624672, 165.7539615729538, 165.34552403803605, 164.90832567507243, 164.44017041761262, 163.93986604275028, 163.40714562139672, 162.84250822780686, 162.24699627283428, 161.6219198633503, 160.96866169730336, 160.28855856565545, 159.58283801309145, 158.85262684335456, 158.09898725744478, 157.32294283015645, 156.52549762562447, 155.70765014450907, 154.8704007782141, 154.0147810241058, 153.14185353334895, 152.25273521311783, 151.3485802362038, 150.43057366977436, 149.49990691075575, 148.55773467764737, 147.6051370440103, 146.6430767686318, 145.67234830983395, 144.69352736182, 143.70693448832887, 142.7125883065443, 141.71014389288135, 140.69885410323906, 139.67748578827695, 138.64423784542794, 137.5966215504928, 136.5313046446608, 135.4438942498752, 134.32863712710108], \"y\": [96.36432, 97.69113, 98.96521, 100.21858, 101.49149, 102.83465, 104.31025, 105.99205, 107.9605, 110.28514, 112.99677, 116.0809, 119.49435, 123.18561, 127.1144, 131.26863, 135.66771, 140.35171, 145.36669, 150.75399, 156.54488, 162.75891, 169.4047, 176.48172, 183.98288, 191.89784, 200.21538, 208.92486, 218.01702, 227.48388, 237.31828, 247.51354, 258.0632, 268.96082, 280.19986, 291.77326, 303.6734, 315.89174, 328.419, 341.2452, 354.35996, 367.75308, 381.41508, 395.33784, 409.5154, 423.9448, 438.62676, 453.56656, 468.7752, 484.27028, 500.07764, 516.23308, 532.7848, 549.7966, 567.35232, 585.562]}, {\"marker\": {\"color\": \"purple\"}, \"mode\": \"lines\", \"name\": \"$$v_{O2+}$$+\", \"type\": \"scatter\", \"x\": [8527.430601511353, 6908.18504531887, 5473.434831761244, 4210.534054183966, 3126.2707976231904, 2236.031441812019, 1545.5647052141562, 1042.0814973082813, 696.6703801196333, 471.08636210930024, 326.12372325200295, 231.59183600359785, 168.0648142656869, 123.76083625413735, 91.65324750370253, 67.7456268118515, 49.7944920482158, 36.39643587713874, 26.511304755340234, 19.294788137577545, 14.062896795374947, 10.281129146564659, 7.546502815158594, 5.563866658687404, 4.119851132015618, 3.0626622128366643, 2.2846519241313787, 1.7093543833161022, 1.282189269747068, 0.9639255432199133, 0.7261099936056978, 0.547955723065565, 0.41419823647057663, 0.3135775530046495, 0.23775350868169004, 0.18052621750875705, 0.13727178299477433, 0.104532308501807, 0.07971621468974234, 0.06087798157632407, 0.046555278901062605, 0.03564788311683921, 0.027327371728980036, 0.02096937073638168, 0.016102844952225675, 0.012371940160674512, 0.009507407850137624, 0.007305148650303649, 0.005610129824835818, 0.0043043344757840865, 0.003297724680938227, 0.0025214568659792484, 0.0019227838846918699, 0.0014612118007875964, 0.001105599983762761, 0.0008319648338045608], \"y\": [96.36432, 97.69113, 98.96521, 100.21858, 101.49149, 102.83465, 104.31025, 105.99205, 107.9605, 110.28514, 112.99677, 116.0809, 119.49435, 123.18561, 127.1144, 131.26863, 135.66771, 140.35171, 145.36669, 150.75399, 156.54488, 162.75891, 169.4047, 176.48172, 183.98288, 191.89784, 200.21538, 208.92486, 218.01702, 227.48388, 237.31828, 247.51354, 258.0632, 268.96082, 280.19986, 291.77326, 303.6734, 315.89174, 328.419, 341.2452, 354.35996, 367.75308, 381.41508, 395.33784, 409.5154, 423.9448, 438.62676, 453.56656, 468.7752, 484.27028, 500.07764, 516.23308, 532.7848, 549.7966, 567.35232, 585.562]}, {\"marker\": {\"color\": \"mediumvioletred\"}, \"mode\": \"lines\", \"name\": \"$$v_{in}$$+\", \"type\": \"scatter\", \"x\": [23889.26385412909, 19378.268261501747, 15359.106269220001, 11805.747304032284, 8747.52149470664, 6236.843880064815, 4294.90402920278, 2885.7307443427544, 1924.8600875194447, 1301.2506757290384, 902.6553175396275, 643.7263367344608, 470.05699084619766, 348.84167735394783, 260.6648053047135, 194.6415565782994, 144.75535361408004, 107.26245619108833, 79.37470672585583, 58.81508816751166, 43.73183963300836, 32.675649904280355, 24.548010761295938, 18.549134717332556, 14.091958796973934, 10.758700987344586, 8.249815335766378, 6.350083535295608, 4.903875104875611, 3.7977524311950956, 2.9481927441942344, 2.293206377194246, 1.786521113548873, 1.3934124772949024, 1.087680541786678, 0.8494475905783009, 0.6635461844026294, 0.5183389120334327, 0.40485056309955875, 0.3161277344982515, 0.24676332497574888, 0.192540300254947, 0.15016338202639484, 0.11705402740570996, 0.09119342983221994, 0.07100058888157373, 0.05523762719488633, 0.042935679926803076, 0.033336763642853436, 0.025848202140187362, 0.02000682282984739, 0.015450850245661304, 0.011897874342145492, 0.009127562152907042, 0.006968120272509308, 0.005285995108202756], \"y\": [96.36432, 97.69113, 98.96521, 100.21858, 101.49149, 102.83465, 104.31025, 105.99205, 107.9605, 110.28514, 112.99677, 116.0809, 119.49435, 123.18561, 127.1144, 131.26863, 135.66771, 140.35171, 145.36669, 150.75399, 156.54488, 162.75891, 169.4047, 176.48172, 183.98288, 191.89784, 200.21538, 208.92486, 218.01702, 227.48388, 237.31828, 247.51354, 258.0632, 268.96082, 280.19986, 291.77326, 303.6734, 315.89174, 328.419, 341.2452, 354.35996, 367.75308, 381.41508, 395.33784, 409.5154, 423.9448, 438.62676, 453.56656, 468.7752, 484.27028, 500.07764, 516.23308, 532.7848, 549.7966, 567.35232, 585.562]}],\n",
       "                        {\"height\": 750, \"template\": {\"data\": {\"bar\": [{\"error_x\": {\"color\": \"#2a3f5f\"}, \"error_y\": {\"color\": \"#2a3f5f\"}, \"marker\": {\"line\": {\"color\": \"#E5ECF6\", \"width\": 0.5}}, \"type\": \"bar\"}], \"barpolar\": [{\"marker\": {\"line\": {\"color\": \"#E5ECF6\", \"width\": 0.5}}, \"type\": \"barpolar\"}], \"carpet\": [{\"aaxis\": {\"endlinecolor\": \"#2a3f5f\", \"gridcolor\": \"white\", \"linecolor\": \"white\", \"minorgridcolor\": \"white\", \"startlinecolor\": \"#2a3f5f\"}, \"baxis\": {\"endlinecolor\": \"#2a3f5f\", \"gridcolor\": \"white\", \"linecolor\": \"white\", \"minorgridcolor\": \"white\", \"startlinecolor\": \"#2a3f5f\"}, \"type\": \"carpet\"}], \"choropleth\": [{\"colorbar\": {\"outlinewidth\": 0, \"ticks\": \"\"}, \"type\": \"choropleth\"}], \"contour\": [{\"colorbar\": {\"outlinewidth\": 0, \"ticks\": \"\"}, \"colorscale\": [[0.0, \"#0d0887\"], [0.1111111111111111, \"#46039f\"], [0.2222222222222222, \"#7201a8\"], [0.3333333333333333, \"#9c179e\"], [0.4444444444444444, \"#bd3786\"], [0.5555555555555556, \"#d8576b\"], [0.6666666666666666, \"#ed7953\"], [0.7777777777777778, \"#fb9f3a\"], [0.8888888888888888, \"#fdca26\"], [1.0, \"#f0f921\"]], \"type\": \"contour\"}], \"contourcarpet\": [{\"colorbar\": {\"outlinewidth\": 0, \"ticks\": \"\"}, \"type\": \"contourcarpet\"}], \"heatmap\": [{\"colorbar\": {\"outlinewidth\": 0, \"ticks\": \"\"}, \"colorscale\": [[0.0, \"#0d0887\"], [0.1111111111111111, \"#46039f\"], [0.2222222222222222, \"#7201a8\"], [0.3333333333333333, \"#9c179e\"], [0.4444444444444444, \"#bd3786\"], [0.5555555555555556, \"#d8576b\"], [0.6666666666666666, \"#ed7953\"], [0.7777777777777778, \"#fb9f3a\"], [0.8888888888888888, \"#fdca26\"], [1.0, \"#f0f921\"]], \"type\": \"heatmap\"}], \"heatmapgl\": [{\"colorbar\": {\"outlinewidth\": 0, \"ticks\": \"\"}, \"colorscale\": [[0.0, \"#0d0887\"], [0.1111111111111111, \"#46039f\"], [0.2222222222222222, \"#7201a8\"], [0.3333333333333333, \"#9c179e\"], [0.4444444444444444, \"#bd3786\"], [0.5555555555555556, \"#d8576b\"], [0.6666666666666666, \"#ed7953\"], [0.7777777777777778, \"#fb9f3a\"], [0.8888888888888888, \"#fdca26\"], [1.0, \"#f0f921\"]], \"type\": \"heatmapgl\"}], \"histogram\": [{\"marker\": {\"colorbar\": {\"outlinewidth\": 0, \"ticks\": \"\"}}, \"type\": \"histogram\"}], \"histogram2d\": [{\"colorbar\": {\"outlinewidth\": 0, \"ticks\": \"\"}, \"colorscale\": [[0.0, \"#0d0887\"], [0.1111111111111111, \"#46039f\"], [0.2222222222222222, \"#7201a8\"], [0.3333333333333333, \"#9c179e\"], [0.4444444444444444, \"#bd3786\"], [0.5555555555555556, \"#d8576b\"], [0.6666666666666666, \"#ed7953\"], [0.7777777777777778, \"#fb9f3a\"], [0.8888888888888888, \"#fdca26\"], [1.0, \"#f0f921\"]], \"type\": \"histogram2d\"}], \"histogram2dcontour\": [{\"colorbar\": {\"outlinewidth\": 0, \"ticks\": \"\"}, \"colorscale\": [[0.0, \"#0d0887\"], [0.1111111111111111, \"#46039f\"], [0.2222222222222222, \"#7201a8\"], [0.3333333333333333, \"#9c179e\"], [0.4444444444444444, \"#bd3786\"], [0.5555555555555556, \"#d8576b\"], [0.6666666666666666, \"#ed7953\"], [0.7777777777777778, \"#fb9f3a\"], [0.8888888888888888, \"#fdca26\"], [1.0, \"#f0f921\"]], \"type\": \"histogram2dcontour\"}], \"mesh3d\": [{\"colorbar\": {\"outlinewidth\": 0, \"ticks\": \"\"}, \"type\": \"mesh3d\"}], \"parcoords\": [{\"line\": {\"colorbar\": {\"outlinewidth\": 0, \"ticks\": \"\"}}, \"type\": \"parcoords\"}], \"pie\": [{\"automargin\": true, \"type\": \"pie\"}], \"scatter\": [{\"marker\": {\"colorbar\": {\"outlinewidth\": 0, \"ticks\": \"\"}}, \"type\": \"scatter\"}], \"scatter3d\": [{\"line\": {\"colorbar\": {\"outlinewidth\": 0, \"ticks\": \"\"}}, \"marker\": {\"colorbar\": {\"outlinewidth\": 0, \"ticks\": \"\"}}, \"type\": \"scatter3d\"}], \"scattercarpet\": [{\"marker\": {\"colorbar\": {\"outlinewidth\": 0, \"ticks\": \"\"}}, \"type\": \"scattercarpet\"}], \"scattergeo\": [{\"marker\": {\"colorbar\": {\"outlinewidth\": 0, \"ticks\": \"\"}}, \"type\": \"scattergeo\"}], \"scattergl\": [{\"marker\": {\"colorbar\": {\"outlinewidth\": 0, \"ticks\": \"\"}}, \"type\": \"scattergl\"}], \"scattermapbox\": [{\"marker\": {\"colorbar\": {\"outlinewidth\": 0, \"ticks\": \"\"}}, \"type\": \"scattermapbox\"}], \"scatterpolar\": [{\"marker\": {\"colorbar\": {\"outlinewidth\": 0, \"ticks\": \"\"}}, \"type\": \"scatterpolar\"}], \"scatterpolargl\": [{\"marker\": {\"colorbar\": {\"outlinewidth\": 0, \"ticks\": \"\"}}, \"type\": \"scatterpolargl\"}], \"scatterternary\": [{\"marker\": {\"colorbar\": {\"outlinewidth\": 0, \"ticks\": \"\"}}, \"type\": \"scatterternary\"}], \"surface\": [{\"colorbar\": {\"outlinewidth\": 0, \"ticks\": \"\"}, \"colorscale\": [[0.0, \"#0d0887\"], [0.1111111111111111, \"#46039f\"], [0.2222222222222222, \"#7201a8\"], [0.3333333333333333, \"#9c179e\"], [0.4444444444444444, \"#bd3786\"], [0.5555555555555556, \"#d8576b\"], [0.6666666666666666, \"#ed7953\"], [0.7777777777777778, \"#fb9f3a\"], [0.8888888888888888, \"#fdca26\"], [1.0, \"#f0f921\"]], \"type\": \"surface\"}], \"table\": [{\"cells\": {\"fill\": {\"color\": \"#EBF0F8\"}, \"line\": {\"color\": \"white\"}}, \"header\": {\"fill\": {\"color\": \"#C8D4E3\"}, \"line\": {\"color\": \"white\"}}, \"type\": \"table\"}]}, \"layout\": {\"annotationdefaults\": {\"arrowcolor\": \"#2a3f5f\", \"arrowhead\": 0, \"arrowwidth\": 1}, \"coloraxis\": {\"colorbar\": {\"outlinewidth\": 0, \"ticks\": \"\"}}, \"colorscale\": {\"diverging\": [[0, \"#8e0152\"], [0.1, \"#c51b7d\"], [0.2, \"#de77ae\"], [0.3, \"#f1b6da\"], [0.4, \"#fde0ef\"], [0.5, \"#f7f7f7\"], [0.6, \"#e6f5d0\"], [0.7, \"#b8e186\"], [0.8, \"#7fbc41\"], [0.9, \"#4d9221\"], [1, \"#276419\"]], \"sequential\": [[0.0, \"#0d0887\"], [0.1111111111111111, \"#46039f\"], [0.2222222222222222, \"#7201a8\"], [0.3333333333333333, \"#9c179e\"], [0.4444444444444444, \"#bd3786\"], [0.5555555555555556, \"#d8576b\"], [0.6666666666666666, \"#ed7953\"], [0.7777777777777778, \"#fb9f3a\"], [0.8888888888888888, \"#fdca26\"], [1.0, \"#f0f921\"]], \"sequentialminus\": [[0.0, \"#0d0887\"], [0.1111111111111111, \"#46039f\"], [0.2222222222222222, \"#7201a8\"], [0.3333333333333333, \"#9c179e\"], [0.4444444444444444, \"#bd3786\"], [0.5555555555555556, \"#d8576b\"], [0.6666666666666666, \"#ed7953\"], [0.7777777777777778, \"#fb9f3a\"], [0.8888888888888888, \"#fdca26\"], [1.0, \"#f0f921\"]]}, \"colorway\": [\"#636efa\", \"#EF553B\", \"#00cc96\", \"#ab63fa\", \"#FFA15A\", \"#19d3f3\", \"#FF6692\", \"#B6E880\", \"#FF97FF\", \"#FECB52\"], \"font\": {\"color\": \"#2a3f5f\"}, \"geo\": {\"bgcolor\": \"white\", \"lakecolor\": \"white\", \"landcolor\": \"#E5ECF6\", \"showlakes\": true, \"showland\": true, \"subunitcolor\": \"white\"}, \"hoverlabel\": {\"align\": \"left\"}, \"hovermode\": \"closest\", \"mapbox\": {\"style\": \"light\"}, \"paper_bgcolor\": \"white\", \"plot_bgcolor\": \"#E5ECF6\", \"polar\": {\"angularaxis\": {\"gridcolor\": \"white\", \"linecolor\": \"white\", \"ticks\": \"\"}, \"bgcolor\": \"#E5ECF6\", \"radialaxis\": {\"gridcolor\": \"white\", \"linecolor\": \"white\", \"ticks\": \"\"}}, \"scene\": {\"xaxis\": {\"backgroundcolor\": \"#E5ECF6\", \"gridcolor\": \"white\", \"gridwidth\": 2, \"linecolor\": \"white\", \"showbackground\": true, \"ticks\": \"\", \"zerolinecolor\": \"white\"}, \"yaxis\": {\"backgroundcolor\": \"#E5ECF6\", \"gridcolor\": \"white\", \"gridwidth\": 2, \"linecolor\": \"white\", \"showbackground\": true, \"ticks\": \"\", \"zerolinecolor\": \"white\"}, \"zaxis\": {\"backgroundcolor\": \"#E5ECF6\", \"gridcolor\": \"white\", \"gridwidth\": 2, \"linecolor\": \"white\", \"showbackground\": true, \"ticks\": \"\", \"zerolinecolor\": \"white\"}}, \"shapedefaults\": {\"line\": {\"color\": \"#2a3f5f\"}}, \"ternary\": {\"aaxis\": {\"gridcolor\": \"white\", \"linecolor\": \"white\", \"ticks\": \"\"}, \"baxis\": {\"gridcolor\": \"white\", \"linecolor\": \"white\", \"ticks\": \"\"}, \"bgcolor\": \"#E5ECF6\", \"caxis\": {\"gridcolor\": \"white\", \"linecolor\": \"white\", \"ticks\": \"\"}}, \"title\": {\"x\": 0.05}, \"xaxis\": {\"automargin\": true, \"gridcolor\": \"white\", \"linecolor\": \"white\", \"ticks\": \"\", \"title\": {\"standoff\": 15}, \"zerolinecolor\": \"white\", \"zerolinewidth\": 2}, \"yaxis\": {\"automargin\": true, \"gridcolor\": \"white\", \"linecolor\": \"white\", \"ticks\": \"\", \"title\": {\"standoff\": 15}, \"zerolinecolor\": \"white\", \"zerolinewidth\": 2}}}, \"title\": {\"text\": \"Frequencies \", \"x\": 0.5, \"xanchor\": \"center\", \"y\": 0.9, \"yanchor\": \"top\"}, \"width\": 750, \"xaxis\": {\"exponentformat\": \"power\", \"gridcolor\": \"grey\", \"gridwidth\": 0.5, \"linecolor\": \"black\", \"linewidth\": 2, \"mirror\": true, \"showexponent\": \"all\", \"showgrid\": true, \"showline\": true, \"title\": {\"text\": \"Frequency (Hz)\"}, \"type\": \"log\"}, \"yaxis\": {\"dtick\": 20, \"gridcolor\": \"grey\", \"gridwidth\": 0.5, \"linecolor\": \"black\", \"linewidth\": 2, \"mirror\": true, \"showgrid\": true, \"showline\": true, \"tick0\": 60, \"title\": {\"text\": \"Altitude (km)\"}}},\n",
       "                        {\"responsive\": true}\n",
       "                    ).then(function(){\n",
       "                            \n",
       "var gd = document.getElementById('75696ee1-b4af-4084-9aae-0d4d0f4a66a6');\n",
       "var x = new MutationObserver(function (mutations, observer) {{\n",
       "        var display = window.getComputedStyle(gd).display;\n",
       "        if (!display || display === 'none') {{\n",
       "            console.log([gd, 'removed!']);\n",
       "            Plotly.purge(gd);\n",
       "            observer.disconnect();\n",
       "        }}\n",
       "}});\n",
       "\n",
       "// Listen for the removal of the full notebook cells\n",
       "var notebookContainer = gd.closest('#notebook-container');\n",
       "if (notebookContainer) {{\n",
       "    x.observe(notebookContainer, {childList: true});\n",
       "}}\n",
       "\n",
       "// Listen for the clearing of the current output cell\n",
       "var outputEl = gd.closest('.output');\n",
       "if (outputEl) {{\n",
       "    x.observe(outputEl, {childList: true});\n",
       "}}\n",
       "\n",
       "                        })\n",
       "                };\n",
       "                });\n",
       "            </script>\n",
       "        </div>"
      ]
     },
     "metadata": {},
     "output_type": "display_data"
    },
    {
     "name": "stdout",
     "output_type": "stream",
     "text": [
      "Plotting densities...\n"
     ]
    },
    {
     "data": {
      "application/vnd.plotly.v1+json": {
       "config": {
        "plotlyServerURL": "https://plot.ly"
       },
       "data": [
        {
         "marker": {
          "color": "blue"
         },
         "mode": "lines",
         "name": "O",
         "type": "scatter",
         "x": [
          113310787120.93388,
          122126201711.41454,
          131769271604.74442,
          140025536071.03174,
          143885880507.121,
          140675598087.0825,
          129796864480.59659,
          113471174908.02914,
          95561235967.15923,
          79375124171.46608,
          66212181927.065506,
          55983675981.05361,
          47971974780.25022,
          41258292957.58331,
          35205047919.947105,
          29643274594.08508,
          24642984664.993465,
          20285142402.574123,
          16587429530.355717,
          13510044497.00522,
          10981331330.974733,
          8919660605.14446,
          7246404475.536906,
          5891338719.443897,
          4794211468.3798,
          3905059604.2973022,
          3183301768.3169975,
          2596271462.667548,
          2117849669.4626133,
          1727217299.0207365,
          1407722415.1057355,
          1146026504.5797246,
          931455977.5329446,
          755460421.6230999,
          611164144.314091,
          493003292.9985407,
          396438957.54875237,
          317736539.4432877,
          253799207.59386772,
          202043923.1171538,
          160309211.94992593,
          126785048.22314428,
          99958714.25223447,
          78570509.75047556,
          61576855.19473385,
          48118108.50273368,
          37490541.80250672,
          29121520.651022997,
          22547755.998260334,
          17396424.611531507,
          13368950.489225034,
          10227239.644611787,
          7782150.106927668,
          5883921.5911474675,
          4414324.930911158,
          3280266.390910832
         ],
         "y": [
          96.36432,
          97.69113,
          98.96521,
          100.21858,
          101.49149,
          102.83465,
          104.31025,
          105.99205,
          107.9605,
          110.28514,
          112.99677,
          116.0809,
          119.49435,
          123.18561,
          127.1144,
          131.26863,
          135.66771,
          140.35171,
          145.36669,
          150.75399,
          156.54488,
          162.75891,
          169.4047,
          176.48172,
          183.98288,
          191.89784,
          200.21538,
          208.92486,
          218.01702,
          227.48388,
          237.31828,
          247.51354,
          258.0632,
          268.96082,
          280.19986,
          291.77326,
          303.6734,
          315.89174,
          328.419,
          341.2452,
          354.35996,
          367.75308,
          381.41508,
          395.33784,
          409.5154,
          423.9448,
          438.62676,
          453.56656,
          468.7752,
          484.27028,
          500.07764,
          516.23308,
          532.7848,
          549.7966,
          567.35232,
          585.562
         ]
        },
        {
         "marker": {
          "color": "green"
         },
         "mode": "lines",
         "name": "O2",
         "type": "scatter",
         "x": [
          4710672877206.031,
          3798776505539.1274,
          2981278470466.162,
          2255966435240.24,
          1632723929908.9875,
          1126173527948.1548,
          742590926519.0565,
          473243019860.1623,
          297124935435.97687,
          188049803164.8832,
          121664946183.41148,
          80608274739.33827,
          54410820406.47224,
          37165887696.885864,
          25509762142.26438,
          17477356649.495827,
          11902259102.554928,
          8051958972.908252,
          5421286461.652249,
          3642264029.8350825,
          2447568972.3157506,
          1647940889.7038994,
          1112866546.844014,
          754017691.5261788,
          512401888.63661563,
          348956314.3795706,
          237892314.49933788,
          162141966.77250767,
          110348083.8158573,
          74897608.82557322,
          50643174.8038109,
          34078531.80088983,
          22801281.029957592,
          15157666.894380568,
          10005714.85507549,
          6555859.181278947,
          4262592.170167461,
          2750083.1135616675,
          1760638.776218026,
          1118713.286619992,
          705660.5115124224,
          442000.4752636707,
          274993.6690603451,
          169982.64485737577,
          104411.71771296006,
          63737.519564754504,
          38665.6800142287,
          23305.337000973876,
          13951.340108278535,
          8289.695873081946,
          4884.655060236961,
          2850.7829756887145,
          1645.1586333321764,
          936.7193938816683,
          524.7016004182085,
          288.04563569566943
         ],
         "y": [
          96.36432,
          97.69113,
          98.96521,
          100.21858,
          101.49149,
          102.83465,
          104.31025,
          105.99205,
          107.9605,
          110.28514,
          112.99677,
          116.0809,
          119.49435,
          123.18561,
          127.1144,
          131.26863,
          135.66771,
          140.35171,
          145.36669,
          150.75399,
          156.54488,
          162.75891,
          169.4047,
          176.48172,
          183.98288,
          191.89784,
          200.21538,
          208.92486,
          218.01702,
          227.48388,
          237.31828,
          247.51354,
          258.0632,
          268.96082,
          280.19986,
          291.77326,
          303.6734,
          315.89174,
          328.419,
          341.2452,
          354.35996,
          367.75308,
          381.41508,
          395.33784,
          409.5154,
          423.9448,
          438.62676,
          453.56656,
          468.7752,
          484.27028,
          500.07764,
          516.23308,
          532.7848,
          549.7966,
          567.35232,
          585.562
         ]
        },
        {
         "marker": {
          "color": "red"
         },
         "mode": "lines",
         "name": "N2",
         "type": "scatter",
         "x": [
          17849533575771.2,
          14492077448848.074,
          11491911829102.4,
          8832715200820.332,
          6539702231539.46,
          4654970427460.057,
          3196324435899.22,
          2137952267604.0554,
          1417103653109.936,
          950430282172.5303,
          653176447133.9628,
          460810139155.49554,
          332327455247.266,
          243163470066.45438,
          178814099264.5462,
          131085985377.2723,
          95401236019.99852,
          68906256223.46547,
          49488467120.58662,
          35431952000.80312,
          25345725333.907475,
          18143151587.50071,
          13007449658.475769,
          9341732825.777956,
          6718209816.759475,
          4834408966.793345,
          3477704031.291589,
          2498445818.172234,
          1790842309.9705157,
          1279606533.58272,
          910717669.6682873,
          645159968.5470219,
          454627411.60895836,
          318512532.5243659,
          221777153.05052924,
          153437060.85340124,
          105473475.90562358,
          72045770.5453826,
          48916816.22801729,
          33030009.2931839,
          22195638.476886254,
          14857616.388196949,
          9919730.495236872,
          6616629.217774354,
          4418802.423224797,
          2963084.617210667,
          2002457.834742717,
          1370203.6520707551,
          954596.4762826425,
          681245.5666077276,
          500906.9691316021,
          381153.1900177663,
          300731.3633401659,
          245769.84922882175,
          207247.36519813864,
          179314.3684500376
         ],
         "y": [
          96.36432,
          97.69113,
          98.96521,
          100.21858,
          101.49149,
          102.83465,
          104.31025,
          105.99205,
          107.9605,
          110.28514,
          112.99677,
          116.0809,
          119.49435,
          123.18561,
          127.1144,
          131.26863,
          135.66771,
          140.35171,
          145.36669,
          150.75399,
          156.54488,
          162.75891,
          169.4047,
          176.48172,
          183.98288,
          191.89784,
          200.21538,
          208.92486,
          218.01702,
          227.48388,
          237.31828,
          247.51354,
          258.0632,
          268.96082,
          280.19986,
          291.77326,
          303.6734,
          315.89174,
          328.419,
          341.2452,
          354.35996,
          367.75308,
          381.41508,
          395.33784,
          409.5154,
          423.9448,
          438.62676,
          453.56656,
          468.7752,
          484.27028,
          500.07764,
          516.23308,
          532.7848,
          549.7966,
          567.35232,
          585.562
         ]
        },
        {
         "marker": {
          "color": "yellow"
         },
         "mode": "lines",
         "name": "Ne",
         "type": "scatter",
         "x": [
          6638.56689453125,
          10885.1201171875,
          16712.400390625,
          23411.17578125,
          31204.4140625,
          39781.62109375,
          48789.55859375,
          57810.85546875,
          66327.1328125,
          73757.46875,
          79634.21875,
          83769.546875,
          86205.078125,
          87110.9375,
          86769.984375,
          85557.9453125,
          83900.59375,
          82278.1328125,
          81245.625,
          81419.9375,
          83426.1171875,
          87788.59375,
          97379.484375,
          110232.6796875,
          123710.9765625,
          141297.9375,
          163210.203125,
          188768.609375,
          215975.359375,
          241687.5625,
          262572.4375,
          276354.53125,
          282365.6875,
          281301.71875,
          274617.09375,
          263963.28125,
          250834.078125,
          236411.609375,
          221545.90625,
          206800.921875,
          192522.21875,
          178901.703125,
          166030.046875,
          153935.328125,
          142609.625,
          132026.15625,
          122149.5,
          112941.0546875,
          104361.15625,
          96369.765625,
          88926.34375,
          81989.9375,
          75519.4921875,
          69474.515625,
          63815.9296875,
          58503.3671875
         ],
         "y": [
          96.36432,
          97.69113,
          98.96521,
          100.21858,
          101.49149,
          102.83465,
          104.31025,
          105.99205,
          107.9605,
          110.28514,
          112.99677,
          116.0809,
          119.49435,
          123.18561,
          127.1144,
          131.26863,
          135.66771,
          140.35171,
          145.36669,
          150.75399,
          156.54488,
          162.75891,
          169.4047,
          176.48172,
          183.98288,
          191.89784,
          200.21538,
          208.92486,
          218.01702,
          227.48388,
          237.31828,
          247.51354,
          258.0632,
          268.96082,
          280.19986,
          291.77326,
          303.6734,
          315.89174,
          328.419,
          341.2452,
          354.35996,
          367.75308,
          381.41508,
          395.33784,
          409.5154,
          423.9448,
          438.62676,
          453.56656,
          468.7752,
          484.27028,
          500.07764,
          516.23308,
          532.7848,
          549.7966,
          567.35232,
          585.562
         ]
        },
        {
         "marker": {
          "color": "orange"
         },
         "mode": "lines",
         "name": "O+",
         "type": "scatter",
         "x": [
          0.032722361385822296,
          0.11570332944393158,
          0.3123163878917694,
          0.7758553624153137,
          1.8028037548065186,
          3.965862989425659,
          8.327767372131348,
          16.756206512451172,
          32.20927810668945,
          58.61076736450195,
          100.58234405517578,
          163.49472045898438,
          253.7560577392578,
          379.2664489746094,
          550.8870239257812,
          785.95166015625,
          1114.3099365234375,
          1589.104248046875,
          2307.55908203125,
          3450.601318359375,
          5357.40234375,
          8649.3505859375,
          14400.4609375,
          24342.4765625,
          40771.6640625,
          65642.765625,
          98908.1796875,
          137634.53125,
          176966.59375,
          211648.421875,
          238035.671875,
          254695.46875,
          262066.828125,
          261701.96875,
          255547.4375,
          245463.78125,
          232991.546875,
          219291.421875,
          205178.375,
          191192.046875,
          177669.75,
          164807.734375,
          152707.171875,
          141406.5,
          130903.421875,
          121169.6640625,
          112161.0703125,
          103824.4765625,
          96102.6953125,
          88937.984375,
          82274.546875,
          76060.1640625,
          70247.1328125,
          64792.8203125,
          59659.87890625,
          54812.0625
         ],
         "y": [
          96.36432,
          97.69113,
          98.96521,
          100.21858,
          101.49149,
          102.83465,
          104.31025,
          105.99205,
          107.9605,
          110.28514,
          112.99677,
          116.0809,
          119.49435,
          123.18561,
          127.1144,
          131.26863,
          135.66771,
          140.35171,
          145.36669,
          150.75399,
          156.54488,
          162.75891,
          169.4047,
          176.48172,
          183.98288,
          191.89784,
          200.21538,
          208.92486,
          218.01702,
          227.48388,
          237.31828,
          247.51354,
          258.0632,
          268.96082,
          280.19986,
          291.77326,
          303.6734,
          315.89174,
          328.419,
          341.2452,
          354.35996,
          367.75308,
          381.41508,
          395.33784,
          409.5154,
          423.9448,
          438.62676,
          453.56656,
          468.7752,
          484.27028,
          500.07764,
          516.23308,
          532.7848,
          549.7966,
          567.35232,
          585.562
         ]
        },
        {
         "marker": {
          "color": "purple"
         },
         "mode": "lines",
         "name": "O2+",
         "type": "scatter",
         "x": [
          6638.5341796875,
          10885.0048828125,
          16712.087890625,
          23410.400390625,
          31202.611328125,
          39777.65625,
          48781.23046875,
          57794.09765625,
          66294.921875,
          73698.859375,
          79533.6328125,
          83606.0546875,
          85951.3203125,
          86731.671875,
          86219.09375,
          84771.9921875,
          82786.28125,
          80689.03125,
          78938.0625,
          77969.3359375,
          78068.71875,
          79139.2421875,
          82979.0234375,
          85890.203125,
          82939.3125,
          75655.171875,
          64302.0234375,
          51134.078125,
          39008.765625,
          30039.140625,
          24536.765625,
          21659.0625,
          20298.859375,
          19599.75,
          19069.65625,
          18499.5,
          17842.53125,
          17120.1875,
          16367.53125,
          15608.875,
          14852.46875,
          14093.96875,
          13322.875,
          12528.828125,
          11706.203125,
          10856.4921875,
          9988.4296875,
          9116.578125,
          8258.4609375,
          7431.78125,
          6651.796875,
          5929.7734375,
          5272.359375,
          4681.6953125,
          4156.05078125,
          3691.3046875
         ],
         "y": [
          96.36432,
          97.69113,
          98.96521,
          100.21858,
          101.49149,
          102.83465,
          104.31025,
          105.99205,
          107.9605,
          110.28514,
          112.99677,
          116.0809,
          119.49435,
          123.18561,
          127.1144,
          131.26863,
          135.66771,
          140.35171,
          145.36669,
          150.75399,
          156.54488,
          162.75891,
          169.4047,
          176.48172,
          183.98288,
          191.89784,
          200.21538,
          208.92486,
          218.01702,
          227.48388,
          237.31828,
          247.51354,
          258.0632,
          268.96082,
          280.19986,
          291.77326,
          303.6734,
          315.89174,
          328.419,
          341.2452,
          354.35996,
          367.75308,
          381.41508,
          395.33784,
          409.5154,
          423.9448,
          438.62676,
          453.56656,
          468.7752,
          484.27028,
          500.07764,
          516.23308,
          532.7848,
          549.7966,
          567.35232,
          585.562
         ]
        }
       ],
       "layout": {
        "height": 750,
        "template": {
         "data": {
          "bar": [
           {
            "error_x": {
             "color": "#2a3f5f"
            },
            "error_y": {
             "color": "#2a3f5f"
            },
            "marker": {
             "line": {
              "color": "#E5ECF6",
              "width": 0.5
             }
            },
            "type": "bar"
           }
          ],
          "barpolar": [
           {
            "marker": {
             "line": {
              "color": "#E5ECF6",
              "width": 0.5
             }
            },
            "type": "barpolar"
           }
          ],
          "carpet": [
           {
            "aaxis": {
             "endlinecolor": "#2a3f5f",
             "gridcolor": "white",
             "linecolor": "white",
             "minorgridcolor": "white",
             "startlinecolor": "#2a3f5f"
            },
            "baxis": {
             "endlinecolor": "#2a3f5f",
             "gridcolor": "white",
             "linecolor": "white",
             "minorgridcolor": "white",
             "startlinecolor": "#2a3f5f"
            },
            "type": "carpet"
           }
          ],
          "choropleth": [
           {
            "colorbar": {
             "outlinewidth": 0,
             "ticks": ""
            },
            "type": "choropleth"
           }
          ],
          "contour": [
           {
            "colorbar": {
             "outlinewidth": 0,
             "ticks": ""
            },
            "colorscale": [
             [
              0,
              "#0d0887"
             ],
             [
              0.1111111111111111,
              "#46039f"
             ],
             [
              0.2222222222222222,
              "#7201a8"
             ],
             [
              0.3333333333333333,
              "#9c179e"
             ],
             [
              0.4444444444444444,
              "#bd3786"
             ],
             [
              0.5555555555555556,
              "#d8576b"
             ],
             [
              0.6666666666666666,
              "#ed7953"
             ],
             [
              0.7777777777777778,
              "#fb9f3a"
             ],
             [
              0.8888888888888888,
              "#fdca26"
             ],
             [
              1,
              "#f0f921"
             ]
            ],
            "type": "contour"
           }
          ],
          "contourcarpet": [
           {
            "colorbar": {
             "outlinewidth": 0,
             "ticks": ""
            },
            "type": "contourcarpet"
           }
          ],
          "heatmap": [
           {
            "colorbar": {
             "outlinewidth": 0,
             "ticks": ""
            },
            "colorscale": [
             [
              0,
              "#0d0887"
             ],
             [
              0.1111111111111111,
              "#46039f"
             ],
             [
              0.2222222222222222,
              "#7201a8"
             ],
             [
              0.3333333333333333,
              "#9c179e"
             ],
             [
              0.4444444444444444,
              "#bd3786"
             ],
             [
              0.5555555555555556,
              "#d8576b"
             ],
             [
              0.6666666666666666,
              "#ed7953"
             ],
             [
              0.7777777777777778,
              "#fb9f3a"
             ],
             [
              0.8888888888888888,
              "#fdca26"
             ],
             [
              1,
              "#f0f921"
             ]
            ],
            "type": "heatmap"
           }
          ],
          "heatmapgl": [
           {
            "colorbar": {
             "outlinewidth": 0,
             "ticks": ""
            },
            "colorscale": [
             [
              0,
              "#0d0887"
             ],
             [
              0.1111111111111111,
              "#46039f"
             ],
             [
              0.2222222222222222,
              "#7201a8"
             ],
             [
              0.3333333333333333,
              "#9c179e"
             ],
             [
              0.4444444444444444,
              "#bd3786"
             ],
             [
              0.5555555555555556,
              "#d8576b"
             ],
             [
              0.6666666666666666,
              "#ed7953"
             ],
             [
              0.7777777777777778,
              "#fb9f3a"
             ],
             [
              0.8888888888888888,
              "#fdca26"
             ],
             [
              1,
              "#f0f921"
             ]
            ],
            "type": "heatmapgl"
           }
          ],
          "histogram": [
           {
            "marker": {
             "colorbar": {
              "outlinewidth": 0,
              "ticks": ""
             }
            },
            "type": "histogram"
           }
          ],
          "histogram2d": [
           {
            "colorbar": {
             "outlinewidth": 0,
             "ticks": ""
            },
            "colorscale": [
             [
              0,
              "#0d0887"
             ],
             [
              0.1111111111111111,
              "#46039f"
             ],
             [
              0.2222222222222222,
              "#7201a8"
             ],
             [
              0.3333333333333333,
              "#9c179e"
             ],
             [
              0.4444444444444444,
              "#bd3786"
             ],
             [
              0.5555555555555556,
              "#d8576b"
             ],
             [
              0.6666666666666666,
              "#ed7953"
             ],
             [
              0.7777777777777778,
              "#fb9f3a"
             ],
             [
              0.8888888888888888,
              "#fdca26"
             ],
             [
              1,
              "#f0f921"
             ]
            ],
            "type": "histogram2d"
           }
          ],
          "histogram2dcontour": [
           {
            "colorbar": {
             "outlinewidth": 0,
             "ticks": ""
            },
            "colorscale": [
             [
              0,
              "#0d0887"
             ],
             [
              0.1111111111111111,
              "#46039f"
             ],
             [
              0.2222222222222222,
              "#7201a8"
             ],
             [
              0.3333333333333333,
              "#9c179e"
             ],
             [
              0.4444444444444444,
              "#bd3786"
             ],
             [
              0.5555555555555556,
              "#d8576b"
             ],
             [
              0.6666666666666666,
              "#ed7953"
             ],
             [
              0.7777777777777778,
              "#fb9f3a"
             ],
             [
              0.8888888888888888,
              "#fdca26"
             ],
             [
              1,
              "#f0f921"
             ]
            ],
            "type": "histogram2dcontour"
           }
          ],
          "mesh3d": [
           {
            "colorbar": {
             "outlinewidth": 0,
             "ticks": ""
            },
            "type": "mesh3d"
           }
          ],
          "parcoords": [
           {
            "line": {
             "colorbar": {
              "outlinewidth": 0,
              "ticks": ""
             }
            },
            "type": "parcoords"
           }
          ],
          "pie": [
           {
            "automargin": true,
            "type": "pie"
           }
          ],
          "scatter": [
           {
            "marker": {
             "colorbar": {
              "outlinewidth": 0,
              "ticks": ""
             }
            },
            "type": "scatter"
           }
          ],
          "scatter3d": [
           {
            "line": {
             "colorbar": {
              "outlinewidth": 0,
              "ticks": ""
             }
            },
            "marker": {
             "colorbar": {
              "outlinewidth": 0,
              "ticks": ""
             }
            },
            "type": "scatter3d"
           }
          ],
          "scattercarpet": [
           {
            "marker": {
             "colorbar": {
              "outlinewidth": 0,
              "ticks": ""
             }
            },
            "type": "scattercarpet"
           }
          ],
          "scattergeo": [
           {
            "marker": {
             "colorbar": {
              "outlinewidth": 0,
              "ticks": ""
             }
            },
            "type": "scattergeo"
           }
          ],
          "scattergl": [
           {
            "marker": {
             "colorbar": {
              "outlinewidth": 0,
              "ticks": ""
             }
            },
            "type": "scattergl"
           }
          ],
          "scattermapbox": [
           {
            "marker": {
             "colorbar": {
              "outlinewidth": 0,
              "ticks": ""
             }
            },
            "type": "scattermapbox"
           }
          ],
          "scatterpolar": [
           {
            "marker": {
             "colorbar": {
              "outlinewidth": 0,
              "ticks": ""
             }
            },
            "type": "scatterpolar"
           }
          ],
          "scatterpolargl": [
           {
            "marker": {
             "colorbar": {
              "outlinewidth": 0,
              "ticks": ""
             }
            },
            "type": "scatterpolargl"
           }
          ],
          "scatterternary": [
           {
            "marker": {
             "colorbar": {
              "outlinewidth": 0,
              "ticks": ""
             }
            },
            "type": "scatterternary"
           }
          ],
          "surface": [
           {
            "colorbar": {
             "outlinewidth": 0,
             "ticks": ""
            },
            "colorscale": [
             [
              0,
              "#0d0887"
             ],
             [
              0.1111111111111111,
              "#46039f"
             ],
             [
              0.2222222222222222,
              "#7201a8"
             ],
             [
              0.3333333333333333,
              "#9c179e"
             ],
             [
              0.4444444444444444,
              "#bd3786"
             ],
             [
              0.5555555555555556,
              "#d8576b"
             ],
             [
              0.6666666666666666,
              "#ed7953"
             ],
             [
              0.7777777777777778,
              "#fb9f3a"
             ],
             [
              0.8888888888888888,
              "#fdca26"
             ],
             [
              1,
              "#f0f921"
             ]
            ],
            "type": "surface"
           }
          ],
          "table": [
           {
            "cells": {
             "fill": {
              "color": "#EBF0F8"
             },
             "line": {
              "color": "white"
             }
            },
            "header": {
             "fill": {
              "color": "#C8D4E3"
             },
             "line": {
              "color": "white"
             }
            },
            "type": "table"
           }
          ]
         },
         "layout": {
          "annotationdefaults": {
           "arrowcolor": "#2a3f5f",
           "arrowhead": 0,
           "arrowwidth": 1
          },
          "coloraxis": {
           "colorbar": {
            "outlinewidth": 0,
            "ticks": ""
           }
          },
          "colorscale": {
           "diverging": [
            [
             0,
             "#8e0152"
            ],
            [
             0.1,
             "#c51b7d"
            ],
            [
             0.2,
             "#de77ae"
            ],
            [
             0.3,
             "#f1b6da"
            ],
            [
             0.4,
             "#fde0ef"
            ],
            [
             0.5,
             "#f7f7f7"
            ],
            [
             0.6,
             "#e6f5d0"
            ],
            [
             0.7,
             "#b8e186"
            ],
            [
             0.8,
             "#7fbc41"
            ],
            [
             0.9,
             "#4d9221"
            ],
            [
             1,
             "#276419"
            ]
           ],
           "sequential": [
            [
             0,
             "#0d0887"
            ],
            [
             0.1111111111111111,
             "#46039f"
            ],
            [
             0.2222222222222222,
             "#7201a8"
            ],
            [
             0.3333333333333333,
             "#9c179e"
            ],
            [
             0.4444444444444444,
             "#bd3786"
            ],
            [
             0.5555555555555556,
             "#d8576b"
            ],
            [
             0.6666666666666666,
             "#ed7953"
            ],
            [
             0.7777777777777778,
             "#fb9f3a"
            ],
            [
             0.8888888888888888,
             "#fdca26"
            ],
            [
             1,
             "#f0f921"
            ]
           ],
           "sequentialminus": [
            [
             0,
             "#0d0887"
            ],
            [
             0.1111111111111111,
             "#46039f"
            ],
            [
             0.2222222222222222,
             "#7201a8"
            ],
            [
             0.3333333333333333,
             "#9c179e"
            ],
            [
             0.4444444444444444,
             "#bd3786"
            ],
            [
             0.5555555555555556,
             "#d8576b"
            ],
            [
             0.6666666666666666,
             "#ed7953"
            ],
            [
             0.7777777777777778,
             "#fb9f3a"
            ],
            [
             0.8888888888888888,
             "#fdca26"
            ],
            [
             1,
             "#f0f921"
            ]
           ]
          },
          "colorway": [
           "#636efa",
           "#EF553B",
           "#00cc96",
           "#ab63fa",
           "#FFA15A",
           "#19d3f3",
           "#FF6692",
           "#B6E880",
           "#FF97FF",
           "#FECB52"
          ],
          "font": {
           "color": "#2a3f5f"
          },
          "geo": {
           "bgcolor": "white",
           "lakecolor": "white",
           "landcolor": "#E5ECF6",
           "showlakes": true,
           "showland": true,
           "subunitcolor": "white"
          },
          "hoverlabel": {
           "align": "left"
          },
          "hovermode": "closest",
          "mapbox": {
           "style": "light"
          },
          "paper_bgcolor": "white",
          "plot_bgcolor": "#E5ECF6",
          "polar": {
           "angularaxis": {
            "gridcolor": "white",
            "linecolor": "white",
            "ticks": ""
           },
           "bgcolor": "#E5ECF6",
           "radialaxis": {
            "gridcolor": "white",
            "linecolor": "white",
            "ticks": ""
           }
          },
          "scene": {
           "xaxis": {
            "backgroundcolor": "#E5ECF6",
            "gridcolor": "white",
            "gridwidth": 2,
            "linecolor": "white",
            "showbackground": true,
            "ticks": "",
            "zerolinecolor": "white"
           },
           "yaxis": {
            "backgroundcolor": "#E5ECF6",
            "gridcolor": "white",
            "gridwidth": 2,
            "linecolor": "white",
            "showbackground": true,
            "ticks": "",
            "zerolinecolor": "white"
           },
           "zaxis": {
            "backgroundcolor": "#E5ECF6",
            "gridcolor": "white",
            "gridwidth": 2,
            "linecolor": "white",
            "showbackground": true,
            "ticks": "",
            "zerolinecolor": "white"
           }
          },
          "shapedefaults": {
           "line": {
            "color": "#2a3f5f"
           }
          },
          "ternary": {
           "aaxis": {
            "gridcolor": "white",
            "linecolor": "white",
            "ticks": ""
           },
           "baxis": {
            "gridcolor": "white",
            "linecolor": "white",
            "ticks": ""
           },
           "bgcolor": "#E5ECF6",
           "caxis": {
            "gridcolor": "white",
            "linecolor": "white",
            "ticks": ""
           }
          },
          "title": {
           "x": 0.05
          },
          "xaxis": {
           "automargin": true,
           "gridcolor": "white",
           "linecolor": "white",
           "ticks": "",
           "title": {
            "standoff": 15
           },
           "zerolinecolor": "white",
           "zerolinewidth": 2
          },
          "yaxis": {
           "automargin": true,
           "gridcolor": "white",
           "linecolor": "white",
           "ticks": "",
           "title": {
            "standoff": 15
           },
           "zerolinecolor": "white",
           "zerolinewidth": 2
          }
         }
        },
        "title": {
         "text": "Densities ",
         "x": 0.5,
         "xanchor": "center",
         "y": 0.9,
         "yanchor": "top"
        },
        "width": 750,
        "xaxis": {
         "exponentformat": "power",
         "gridcolor": "grey",
         "gridwidth": 0.5,
         "linecolor": "black",
         "linewidth": 2,
         "mirror": true,
         "showexponent": "all",
         "showgrid": true,
         "showline": true,
         "title": {
          "text": "$cm^{-3}$"
         },
         "type": "log"
        },
        "yaxis": {
         "dtick": 20,
         "gridcolor": "grey",
         "gridwidth": 0.5,
         "linecolor": "black",
         "linewidth": 2,
         "mirror": true,
         "showgrid": true,
         "showline": true,
         "tick0": 60,
         "title": {
          "text": "Altitude (km)"
         }
        }
       }
      },
      "text/html": [
       "<div>\n",
       "        \n",
       "        \n",
       "            <div id=\"063afe98-93b9-4811-8727-3c2c61fec260\" class=\"plotly-graph-div\" style=\"height:750px; width:750px;\"></div>\n",
       "            <script type=\"text/javascript\">\n",
       "                require([\"plotly\"], function(Plotly) {\n",
       "                    window.PLOTLYENV=window.PLOTLYENV || {};\n",
       "                    \n",
       "                if (document.getElementById(\"063afe98-93b9-4811-8727-3c2c61fec260\")) {\n",
       "                    Plotly.newPlot(\n",
       "                        '063afe98-93b9-4811-8727-3c2c61fec260',\n",
       "                        [{\"marker\": {\"color\": \"blue\"}, \"mode\": \"lines\", \"name\": \"O\", \"type\": \"scatter\", \"x\": [113310787120.93388, 122126201711.41454, 131769271604.74442, 140025536071.03174, 143885880507.121, 140675598087.0825, 129796864480.59659, 113471174908.02914, 95561235967.15923, 79375124171.46608, 66212181927.065506, 55983675981.05361, 47971974780.25022, 41258292957.58331, 35205047919.947105, 29643274594.08508, 24642984664.993465, 20285142402.574123, 16587429530.355717, 13510044497.00522, 10981331330.974733, 8919660605.14446, 7246404475.536906, 5891338719.443897, 4794211468.3798, 3905059604.2973022, 3183301768.3169975, 2596271462.667548, 2117849669.4626133, 1727217299.0207365, 1407722415.1057355, 1146026504.5797246, 931455977.5329446, 755460421.6230999, 611164144.314091, 493003292.9985407, 396438957.54875237, 317736539.4432877, 253799207.59386772, 202043923.1171538, 160309211.94992593, 126785048.22314428, 99958714.25223447, 78570509.75047556, 61576855.19473385, 48118108.50273368, 37490541.80250672, 29121520.651022997, 22547755.998260334, 17396424.611531507, 13368950.489225034, 10227239.644611787, 7782150.106927668, 5883921.5911474675, 4414324.930911158, 3280266.390910832], \"y\": [96.36432, 97.69113, 98.96521, 100.21858, 101.49149, 102.83465, 104.31025, 105.99205, 107.9605, 110.28514, 112.99677, 116.0809, 119.49435, 123.18561, 127.1144, 131.26863, 135.66771, 140.35171, 145.36669, 150.75399, 156.54488, 162.75891, 169.4047, 176.48172, 183.98288, 191.89784, 200.21538, 208.92486, 218.01702, 227.48388, 237.31828, 247.51354, 258.0632, 268.96082, 280.19986, 291.77326, 303.6734, 315.89174, 328.419, 341.2452, 354.35996, 367.75308, 381.41508, 395.33784, 409.5154, 423.9448, 438.62676, 453.56656, 468.7752, 484.27028, 500.07764, 516.23308, 532.7848, 549.7966, 567.35232, 585.562]}, {\"marker\": {\"color\": \"green\"}, \"mode\": \"lines\", \"name\": \"O2\", \"type\": \"scatter\", \"x\": [4710672877206.031, 3798776505539.1274, 2981278470466.162, 2255966435240.24, 1632723929908.9875, 1126173527948.1548, 742590926519.0565, 473243019860.1623, 297124935435.97687, 188049803164.8832, 121664946183.41148, 80608274739.33827, 54410820406.47224, 37165887696.885864, 25509762142.26438, 17477356649.495827, 11902259102.554928, 8051958972.908252, 5421286461.652249, 3642264029.8350825, 2447568972.3157506, 1647940889.7038994, 1112866546.844014, 754017691.5261788, 512401888.63661563, 348956314.3795706, 237892314.49933788, 162141966.77250767, 110348083.8158573, 74897608.82557322, 50643174.8038109, 34078531.80088983, 22801281.029957592, 15157666.894380568, 10005714.85507549, 6555859.181278947, 4262592.170167461, 2750083.1135616675, 1760638.776218026, 1118713.286619992, 705660.5115124224, 442000.4752636707, 274993.6690603451, 169982.64485737577, 104411.71771296006, 63737.519564754504, 38665.6800142287, 23305.337000973876, 13951.340108278535, 8289.695873081946, 4884.655060236961, 2850.7829756887145, 1645.1586333321764, 936.7193938816683, 524.7016004182085, 288.04563569566943], \"y\": [96.36432, 97.69113, 98.96521, 100.21858, 101.49149, 102.83465, 104.31025, 105.99205, 107.9605, 110.28514, 112.99677, 116.0809, 119.49435, 123.18561, 127.1144, 131.26863, 135.66771, 140.35171, 145.36669, 150.75399, 156.54488, 162.75891, 169.4047, 176.48172, 183.98288, 191.89784, 200.21538, 208.92486, 218.01702, 227.48388, 237.31828, 247.51354, 258.0632, 268.96082, 280.19986, 291.77326, 303.6734, 315.89174, 328.419, 341.2452, 354.35996, 367.75308, 381.41508, 395.33784, 409.5154, 423.9448, 438.62676, 453.56656, 468.7752, 484.27028, 500.07764, 516.23308, 532.7848, 549.7966, 567.35232, 585.562]}, {\"marker\": {\"color\": \"red\"}, \"mode\": \"lines\", \"name\": \"N2\", \"type\": \"scatter\", \"x\": [17849533575771.2, 14492077448848.074, 11491911829102.4, 8832715200820.332, 6539702231539.46, 4654970427460.057, 3196324435899.22, 2137952267604.0554, 1417103653109.936, 950430282172.5303, 653176447133.9628, 460810139155.49554, 332327455247.266, 243163470066.45438, 178814099264.5462, 131085985377.2723, 95401236019.99852, 68906256223.46547, 49488467120.58662, 35431952000.80312, 25345725333.907475, 18143151587.50071, 13007449658.475769, 9341732825.777956, 6718209816.759475, 4834408966.793345, 3477704031.291589, 2498445818.172234, 1790842309.9705157, 1279606533.58272, 910717669.6682873, 645159968.5470219, 454627411.60895836, 318512532.5243659, 221777153.05052924, 153437060.85340124, 105473475.90562358, 72045770.5453826, 48916816.22801729, 33030009.2931839, 22195638.476886254, 14857616.388196949, 9919730.495236872, 6616629.217774354, 4418802.423224797, 2963084.617210667, 2002457.834742717, 1370203.6520707551, 954596.4762826425, 681245.5666077276, 500906.9691316021, 381153.1900177663, 300731.3633401659, 245769.84922882175, 207247.36519813864, 179314.3684500376], \"y\": [96.36432, 97.69113, 98.96521, 100.21858, 101.49149, 102.83465, 104.31025, 105.99205, 107.9605, 110.28514, 112.99677, 116.0809, 119.49435, 123.18561, 127.1144, 131.26863, 135.66771, 140.35171, 145.36669, 150.75399, 156.54488, 162.75891, 169.4047, 176.48172, 183.98288, 191.89784, 200.21538, 208.92486, 218.01702, 227.48388, 237.31828, 247.51354, 258.0632, 268.96082, 280.19986, 291.77326, 303.6734, 315.89174, 328.419, 341.2452, 354.35996, 367.75308, 381.41508, 395.33784, 409.5154, 423.9448, 438.62676, 453.56656, 468.7752, 484.27028, 500.07764, 516.23308, 532.7848, 549.7966, 567.35232, 585.562]}, {\"marker\": {\"color\": \"yellow\"}, \"mode\": \"lines\", \"name\": \"Ne\", \"type\": \"scatter\", \"x\": [6638.56689453125, 10885.1201171875, 16712.400390625, 23411.17578125, 31204.4140625, 39781.62109375, 48789.55859375, 57810.85546875, 66327.1328125, 73757.46875, 79634.21875, 83769.546875, 86205.078125, 87110.9375, 86769.984375, 85557.9453125, 83900.59375, 82278.1328125, 81245.625, 81419.9375, 83426.1171875, 87788.59375, 97379.484375, 110232.6796875, 123710.9765625, 141297.9375, 163210.203125, 188768.609375, 215975.359375, 241687.5625, 262572.4375, 276354.53125, 282365.6875, 281301.71875, 274617.09375, 263963.28125, 250834.078125, 236411.609375, 221545.90625, 206800.921875, 192522.21875, 178901.703125, 166030.046875, 153935.328125, 142609.625, 132026.15625, 122149.5, 112941.0546875, 104361.15625, 96369.765625, 88926.34375, 81989.9375, 75519.4921875, 69474.515625, 63815.9296875, 58503.3671875], \"y\": [96.36432, 97.69113, 98.96521, 100.21858, 101.49149, 102.83465, 104.31025, 105.99205, 107.9605, 110.28514, 112.99677, 116.0809, 119.49435, 123.18561, 127.1144, 131.26863, 135.66771, 140.35171, 145.36669, 150.75399, 156.54488, 162.75891, 169.4047, 176.48172, 183.98288, 191.89784, 200.21538, 208.92486, 218.01702, 227.48388, 237.31828, 247.51354, 258.0632, 268.96082, 280.19986, 291.77326, 303.6734, 315.89174, 328.419, 341.2452, 354.35996, 367.75308, 381.41508, 395.33784, 409.5154, 423.9448, 438.62676, 453.56656, 468.7752, 484.27028, 500.07764, 516.23308, 532.7848, 549.7966, 567.35232, 585.562]}, {\"marker\": {\"color\": \"orange\"}, \"mode\": \"lines\", \"name\": \"O+\", \"type\": \"scatter\", \"x\": [0.032722361385822296, 0.11570332944393158, 0.3123163878917694, 0.7758553624153137, 1.8028037548065186, 3.965862989425659, 8.327767372131348, 16.756206512451172, 32.20927810668945, 58.61076736450195, 100.58234405517578, 163.49472045898438, 253.7560577392578, 379.2664489746094, 550.8870239257812, 785.95166015625, 1114.3099365234375, 1589.104248046875, 2307.55908203125, 3450.601318359375, 5357.40234375, 8649.3505859375, 14400.4609375, 24342.4765625, 40771.6640625, 65642.765625, 98908.1796875, 137634.53125, 176966.59375, 211648.421875, 238035.671875, 254695.46875, 262066.828125, 261701.96875, 255547.4375, 245463.78125, 232991.546875, 219291.421875, 205178.375, 191192.046875, 177669.75, 164807.734375, 152707.171875, 141406.5, 130903.421875, 121169.6640625, 112161.0703125, 103824.4765625, 96102.6953125, 88937.984375, 82274.546875, 76060.1640625, 70247.1328125, 64792.8203125, 59659.87890625, 54812.0625], \"y\": [96.36432, 97.69113, 98.96521, 100.21858, 101.49149, 102.83465, 104.31025, 105.99205, 107.9605, 110.28514, 112.99677, 116.0809, 119.49435, 123.18561, 127.1144, 131.26863, 135.66771, 140.35171, 145.36669, 150.75399, 156.54488, 162.75891, 169.4047, 176.48172, 183.98288, 191.89784, 200.21538, 208.92486, 218.01702, 227.48388, 237.31828, 247.51354, 258.0632, 268.96082, 280.19986, 291.77326, 303.6734, 315.89174, 328.419, 341.2452, 354.35996, 367.75308, 381.41508, 395.33784, 409.5154, 423.9448, 438.62676, 453.56656, 468.7752, 484.27028, 500.07764, 516.23308, 532.7848, 549.7966, 567.35232, 585.562]}, {\"marker\": {\"color\": \"purple\"}, \"mode\": \"lines\", \"name\": \"O2+\", \"type\": \"scatter\", \"x\": [6638.5341796875, 10885.0048828125, 16712.087890625, 23410.400390625, 31202.611328125, 39777.65625, 48781.23046875, 57794.09765625, 66294.921875, 73698.859375, 79533.6328125, 83606.0546875, 85951.3203125, 86731.671875, 86219.09375, 84771.9921875, 82786.28125, 80689.03125, 78938.0625, 77969.3359375, 78068.71875, 79139.2421875, 82979.0234375, 85890.203125, 82939.3125, 75655.171875, 64302.0234375, 51134.078125, 39008.765625, 30039.140625, 24536.765625, 21659.0625, 20298.859375, 19599.75, 19069.65625, 18499.5, 17842.53125, 17120.1875, 16367.53125, 15608.875, 14852.46875, 14093.96875, 13322.875, 12528.828125, 11706.203125, 10856.4921875, 9988.4296875, 9116.578125, 8258.4609375, 7431.78125, 6651.796875, 5929.7734375, 5272.359375, 4681.6953125, 4156.05078125, 3691.3046875], \"y\": [96.36432, 97.69113, 98.96521, 100.21858, 101.49149, 102.83465, 104.31025, 105.99205, 107.9605, 110.28514, 112.99677, 116.0809, 119.49435, 123.18561, 127.1144, 131.26863, 135.66771, 140.35171, 145.36669, 150.75399, 156.54488, 162.75891, 169.4047, 176.48172, 183.98288, 191.89784, 200.21538, 208.92486, 218.01702, 227.48388, 237.31828, 247.51354, 258.0632, 268.96082, 280.19986, 291.77326, 303.6734, 315.89174, 328.419, 341.2452, 354.35996, 367.75308, 381.41508, 395.33784, 409.5154, 423.9448, 438.62676, 453.56656, 468.7752, 484.27028, 500.07764, 516.23308, 532.7848, 549.7966, 567.35232, 585.562]}],\n",
       "                        {\"height\": 750, \"template\": {\"data\": {\"bar\": [{\"error_x\": {\"color\": \"#2a3f5f\"}, \"error_y\": {\"color\": \"#2a3f5f\"}, \"marker\": {\"line\": {\"color\": \"#E5ECF6\", \"width\": 0.5}}, \"type\": \"bar\"}], \"barpolar\": [{\"marker\": {\"line\": {\"color\": \"#E5ECF6\", \"width\": 0.5}}, \"type\": \"barpolar\"}], \"carpet\": [{\"aaxis\": {\"endlinecolor\": \"#2a3f5f\", \"gridcolor\": \"white\", \"linecolor\": \"white\", \"minorgridcolor\": \"white\", \"startlinecolor\": \"#2a3f5f\"}, \"baxis\": {\"endlinecolor\": \"#2a3f5f\", \"gridcolor\": \"white\", \"linecolor\": \"white\", \"minorgridcolor\": \"white\", \"startlinecolor\": \"#2a3f5f\"}, \"type\": \"carpet\"}], \"choropleth\": [{\"colorbar\": {\"outlinewidth\": 0, \"ticks\": \"\"}, \"type\": \"choropleth\"}], \"contour\": [{\"colorbar\": {\"outlinewidth\": 0, \"ticks\": \"\"}, \"colorscale\": [[0.0, \"#0d0887\"], [0.1111111111111111, \"#46039f\"], [0.2222222222222222, \"#7201a8\"], [0.3333333333333333, \"#9c179e\"], [0.4444444444444444, \"#bd3786\"], [0.5555555555555556, \"#d8576b\"], [0.6666666666666666, \"#ed7953\"], [0.7777777777777778, \"#fb9f3a\"], [0.8888888888888888, \"#fdca26\"], [1.0, \"#f0f921\"]], \"type\": \"contour\"}], \"contourcarpet\": [{\"colorbar\": {\"outlinewidth\": 0, \"ticks\": \"\"}, \"type\": \"contourcarpet\"}], \"heatmap\": [{\"colorbar\": {\"outlinewidth\": 0, \"ticks\": \"\"}, \"colorscale\": [[0.0, \"#0d0887\"], [0.1111111111111111, \"#46039f\"], [0.2222222222222222, \"#7201a8\"], [0.3333333333333333, \"#9c179e\"], [0.4444444444444444, \"#bd3786\"], [0.5555555555555556, \"#d8576b\"], [0.6666666666666666, \"#ed7953\"], [0.7777777777777778, \"#fb9f3a\"], [0.8888888888888888, \"#fdca26\"], [1.0, \"#f0f921\"]], \"type\": \"heatmap\"}], \"heatmapgl\": [{\"colorbar\": {\"outlinewidth\": 0, \"ticks\": \"\"}, \"colorscale\": [[0.0, \"#0d0887\"], [0.1111111111111111, \"#46039f\"], [0.2222222222222222, \"#7201a8\"], [0.3333333333333333, \"#9c179e\"], [0.4444444444444444, \"#bd3786\"], [0.5555555555555556, \"#d8576b\"], [0.6666666666666666, \"#ed7953\"], [0.7777777777777778, \"#fb9f3a\"], [0.8888888888888888, \"#fdca26\"], [1.0, \"#f0f921\"]], \"type\": \"heatmapgl\"}], \"histogram\": [{\"marker\": {\"colorbar\": {\"outlinewidth\": 0, \"ticks\": \"\"}}, \"type\": \"histogram\"}], \"histogram2d\": [{\"colorbar\": {\"outlinewidth\": 0, \"ticks\": \"\"}, \"colorscale\": [[0.0, \"#0d0887\"], [0.1111111111111111, \"#46039f\"], [0.2222222222222222, \"#7201a8\"], [0.3333333333333333, \"#9c179e\"], [0.4444444444444444, \"#bd3786\"], [0.5555555555555556, \"#d8576b\"], [0.6666666666666666, \"#ed7953\"], [0.7777777777777778, \"#fb9f3a\"], [0.8888888888888888, \"#fdca26\"], [1.0, \"#f0f921\"]], \"type\": \"histogram2d\"}], \"histogram2dcontour\": [{\"colorbar\": {\"outlinewidth\": 0, \"ticks\": \"\"}, \"colorscale\": [[0.0, \"#0d0887\"], [0.1111111111111111, \"#46039f\"], [0.2222222222222222, \"#7201a8\"], [0.3333333333333333, \"#9c179e\"], [0.4444444444444444, \"#bd3786\"], [0.5555555555555556, \"#d8576b\"], [0.6666666666666666, \"#ed7953\"], [0.7777777777777778, \"#fb9f3a\"], [0.8888888888888888, \"#fdca26\"], [1.0, \"#f0f921\"]], \"type\": \"histogram2dcontour\"}], \"mesh3d\": [{\"colorbar\": {\"outlinewidth\": 0, \"ticks\": \"\"}, \"type\": \"mesh3d\"}], \"parcoords\": [{\"line\": {\"colorbar\": {\"outlinewidth\": 0, \"ticks\": \"\"}}, \"type\": \"parcoords\"}], \"pie\": [{\"automargin\": true, \"type\": \"pie\"}], \"scatter\": [{\"marker\": {\"colorbar\": {\"outlinewidth\": 0, \"ticks\": \"\"}}, \"type\": \"scatter\"}], \"scatter3d\": [{\"line\": {\"colorbar\": {\"outlinewidth\": 0, \"ticks\": \"\"}}, \"marker\": {\"colorbar\": {\"outlinewidth\": 0, \"ticks\": \"\"}}, \"type\": \"scatter3d\"}], \"scattercarpet\": [{\"marker\": {\"colorbar\": {\"outlinewidth\": 0, \"ticks\": \"\"}}, \"type\": \"scattercarpet\"}], \"scattergeo\": [{\"marker\": {\"colorbar\": {\"outlinewidth\": 0, \"ticks\": \"\"}}, \"type\": \"scattergeo\"}], \"scattergl\": [{\"marker\": {\"colorbar\": {\"outlinewidth\": 0, \"ticks\": \"\"}}, \"type\": \"scattergl\"}], \"scattermapbox\": [{\"marker\": {\"colorbar\": {\"outlinewidth\": 0, \"ticks\": \"\"}}, \"type\": \"scattermapbox\"}], \"scatterpolar\": [{\"marker\": {\"colorbar\": {\"outlinewidth\": 0, \"ticks\": \"\"}}, \"type\": \"scatterpolar\"}], \"scatterpolargl\": [{\"marker\": {\"colorbar\": {\"outlinewidth\": 0, \"ticks\": \"\"}}, \"type\": \"scatterpolargl\"}], \"scatterternary\": [{\"marker\": {\"colorbar\": {\"outlinewidth\": 0, \"ticks\": \"\"}}, \"type\": \"scatterternary\"}], \"surface\": [{\"colorbar\": {\"outlinewidth\": 0, \"ticks\": \"\"}, \"colorscale\": [[0.0, \"#0d0887\"], [0.1111111111111111, \"#46039f\"], [0.2222222222222222, \"#7201a8\"], [0.3333333333333333, \"#9c179e\"], [0.4444444444444444, \"#bd3786\"], [0.5555555555555556, \"#d8576b\"], [0.6666666666666666, \"#ed7953\"], [0.7777777777777778, \"#fb9f3a\"], [0.8888888888888888, \"#fdca26\"], [1.0, \"#f0f921\"]], \"type\": \"surface\"}], \"table\": [{\"cells\": {\"fill\": {\"color\": \"#EBF0F8\"}, \"line\": {\"color\": \"white\"}}, \"header\": {\"fill\": {\"color\": \"#C8D4E3\"}, \"line\": {\"color\": \"white\"}}, \"type\": \"table\"}]}, \"layout\": {\"annotationdefaults\": {\"arrowcolor\": \"#2a3f5f\", \"arrowhead\": 0, \"arrowwidth\": 1}, \"coloraxis\": {\"colorbar\": {\"outlinewidth\": 0, \"ticks\": \"\"}}, \"colorscale\": {\"diverging\": [[0, \"#8e0152\"], [0.1, \"#c51b7d\"], [0.2, \"#de77ae\"], [0.3, \"#f1b6da\"], [0.4, \"#fde0ef\"], [0.5, \"#f7f7f7\"], [0.6, \"#e6f5d0\"], [0.7, \"#b8e186\"], [0.8, \"#7fbc41\"], [0.9, \"#4d9221\"], [1, \"#276419\"]], \"sequential\": [[0.0, \"#0d0887\"], [0.1111111111111111, \"#46039f\"], [0.2222222222222222, \"#7201a8\"], [0.3333333333333333, \"#9c179e\"], [0.4444444444444444, \"#bd3786\"], [0.5555555555555556, \"#d8576b\"], [0.6666666666666666, \"#ed7953\"], [0.7777777777777778, \"#fb9f3a\"], [0.8888888888888888, \"#fdca26\"], [1.0, \"#f0f921\"]], \"sequentialminus\": [[0.0, \"#0d0887\"], [0.1111111111111111, \"#46039f\"], [0.2222222222222222, \"#7201a8\"], [0.3333333333333333, \"#9c179e\"], [0.4444444444444444, \"#bd3786\"], [0.5555555555555556, \"#d8576b\"], [0.6666666666666666, \"#ed7953\"], [0.7777777777777778, \"#fb9f3a\"], [0.8888888888888888, \"#fdca26\"], [1.0, \"#f0f921\"]]}, \"colorway\": [\"#636efa\", \"#EF553B\", \"#00cc96\", \"#ab63fa\", \"#FFA15A\", \"#19d3f3\", \"#FF6692\", \"#B6E880\", \"#FF97FF\", \"#FECB52\"], \"font\": {\"color\": \"#2a3f5f\"}, \"geo\": {\"bgcolor\": \"white\", \"lakecolor\": \"white\", \"landcolor\": \"#E5ECF6\", \"showlakes\": true, \"showland\": true, \"subunitcolor\": \"white\"}, \"hoverlabel\": {\"align\": \"left\"}, \"hovermode\": \"closest\", \"mapbox\": {\"style\": \"light\"}, \"paper_bgcolor\": \"white\", \"plot_bgcolor\": \"#E5ECF6\", \"polar\": {\"angularaxis\": {\"gridcolor\": \"white\", \"linecolor\": \"white\", \"ticks\": \"\"}, \"bgcolor\": \"#E5ECF6\", \"radialaxis\": {\"gridcolor\": \"white\", \"linecolor\": \"white\", \"ticks\": \"\"}}, \"scene\": {\"xaxis\": {\"backgroundcolor\": \"#E5ECF6\", \"gridcolor\": \"white\", \"gridwidth\": 2, \"linecolor\": \"white\", \"showbackground\": true, \"ticks\": \"\", \"zerolinecolor\": \"white\"}, \"yaxis\": {\"backgroundcolor\": \"#E5ECF6\", \"gridcolor\": \"white\", \"gridwidth\": 2, \"linecolor\": \"white\", \"showbackground\": true, \"ticks\": \"\", \"zerolinecolor\": \"white\"}, \"zaxis\": {\"backgroundcolor\": \"#E5ECF6\", \"gridcolor\": \"white\", \"gridwidth\": 2, \"linecolor\": \"white\", \"showbackground\": true, \"ticks\": \"\", \"zerolinecolor\": \"white\"}}, \"shapedefaults\": {\"line\": {\"color\": \"#2a3f5f\"}}, \"ternary\": {\"aaxis\": {\"gridcolor\": \"white\", \"linecolor\": \"white\", \"ticks\": \"\"}, \"baxis\": {\"gridcolor\": \"white\", \"linecolor\": \"white\", \"ticks\": \"\"}, \"bgcolor\": \"#E5ECF6\", \"caxis\": {\"gridcolor\": \"white\", \"linecolor\": \"white\", \"ticks\": \"\"}}, \"title\": {\"x\": 0.05}, \"xaxis\": {\"automargin\": true, \"gridcolor\": \"white\", \"linecolor\": \"white\", \"ticks\": \"\", \"title\": {\"standoff\": 15}, \"zerolinecolor\": \"white\", \"zerolinewidth\": 2}, \"yaxis\": {\"automargin\": true, \"gridcolor\": \"white\", \"linecolor\": \"white\", \"ticks\": \"\", \"title\": {\"standoff\": 15}, \"zerolinecolor\": \"white\", \"zerolinewidth\": 2}}}, \"title\": {\"text\": \"Densities \", \"x\": 0.5, \"xanchor\": \"center\", \"y\": 0.9, \"yanchor\": \"top\"}, \"width\": 750, \"xaxis\": {\"exponentformat\": \"power\", \"gridcolor\": \"grey\", \"gridwidth\": 0.5, \"linecolor\": \"black\", \"linewidth\": 2, \"mirror\": true, \"showexponent\": \"all\", \"showgrid\": true, \"showline\": true, \"title\": {\"text\": \"$cm^{-3}$\"}, \"type\": \"log\"}, \"yaxis\": {\"dtick\": 20, \"gridcolor\": \"grey\", \"gridwidth\": 0.5, \"linecolor\": \"black\", \"linewidth\": 2, \"mirror\": true, \"showgrid\": true, \"showline\": true, \"tick0\": 60, \"title\": {\"text\": \"Altitude (km)\"}}},\n",
       "                        {\"responsive\": true}\n",
       "                    ).then(function(){\n",
       "                            \n",
       "var gd = document.getElementById('063afe98-93b9-4811-8727-3c2c61fec260');\n",
       "var x = new MutationObserver(function (mutations, observer) {{\n",
       "        var display = window.getComputedStyle(gd).display;\n",
       "        if (!display || display === 'none') {{\n",
       "            console.log([gd, 'removed!']);\n",
       "            Plotly.purge(gd);\n",
       "            observer.disconnect();\n",
       "        }}\n",
       "}});\n",
       "\n",
       "// Listen for the removal of the full notebook cells\n",
       "var notebookContainer = gd.closest('#notebook-container');\n",
       "if (notebookContainer) {{\n",
       "    x.observe(notebookContainer, {childList: true});\n",
       "}}\n",
       "\n",
       "// Listen for the clearing of the current output cell\n",
       "var outputEl = gd.closest('.output');\n",
       "if (outputEl) {{\n",
       "    x.observe(outputEl, {childList: true});\n",
       "}}\n",
       "\n",
       "                        })\n",
       "                };\n",
       "                });\n",
       "            </script>\n",
       "        </div>"
      ]
     },
     "metadata": {},
     "output_type": "display_data"
    },
    {
     "name": "stdout",
     "output_type": "stream",
     "text": [
      "Plotting velocities...\n"
     ]
    },
    {
     "data": {
      "application/vnd.plotly.v1+json": {
       "config": {
        "plotlyServerURL": "https://plot.ly"
       },
       "data": [
        {
         "marker": {
          "color": "blue"
         },
         "mode": "lines",
         "name": "Perpendicular Ion velocity (x)",
         "type": "scatter",
         "x": [
          -2.4524572217546634,
          -3.2441004060569876,
          -4.481330291321743,
          -6.981937953131169,
          -11.578904938652721,
          -19.084117625468377,
          -30.112061991749265,
          -44.8493547896433,
          -62.729881652593136,
          -81.00869049500814,
          -92.90829353631092,
          -91.32653914650994,
          -77.38349881704966,
          -58.74455030739081,
          -41.51994547239086,
          -28.07149753979863,
          -18.228658052089937,
          -10.960685926199213,
          -5.373069998135499,
          -0.9350008166447203,
          2.636404783627272,
          5.514166178649042,
          7.830377746069528,
          9.698603958676811,
          11.224399972422562,
          12.490325339782563,
          13.557730908703395,
          14.472096916267482,
          15.268163567052182,
          15.973445025542903,
          16.610133321363847,
          17.1959350469824,
          17.74457348839468,
          18.266345248156547,
          18.768771179381396,
          19.257235396449808,
          19.735547338589857,
          20.206392226784015,
          20.671660858912873,
          21.132690391244235,
          21.590426270792175,
          22.045550071426863,
          22.498556117512233,
          22.949824026464043,
          23.39966770378139,
          23.848376396621667,
          24.296259537253004,
          24.74366994262055,
          25.1910476066678,
          25.638944105196202,
          26.088064736879964,
          26.53930678457092,
          26.9938122344388,
          27.453036236839786,
          27.918827106699652,
          28.393553494663323
         ],
         "y": [
          96.36432,
          97.69113,
          98.96521,
          100.21858,
          101.49149,
          102.83465,
          104.31025,
          105.99205,
          107.9605,
          110.28514,
          112.99677,
          116.0809,
          119.49435,
          123.18561,
          127.1144,
          131.26863,
          135.66771,
          140.35171,
          145.36669,
          150.75399,
          156.54488,
          162.75891,
          169.4047,
          176.48172,
          183.98288,
          191.89784,
          200.21538,
          208.92486,
          218.01702,
          227.48388,
          237.31828,
          247.51354,
          258.0632,
          268.96082,
          280.19986,
          291.77326,
          303.6734,
          315.89174,
          328.419,
          341.2452,
          354.35996,
          367.75308,
          381.41508,
          395.33784,
          409.5154,
          423.9448,
          438.62676,
          453.56656,
          468.7752,
          484.27028,
          500.07764,
          516.23308,
          532.7848,
          549.7966,
          567.35232,
          585.562
         ]
        },
        {
         "marker": {
          "color": "green"
         },
         "mode": "lines",
         "name": "Perpendicular Neutral velocity (x)",
         "type": "scatter",
         "x": [
          1.0098593923448773,
          1.0035579787064106,
          0.8597031673585233,
          -0.05271291811392587,
          -2.2309244021732404,
          -5.905675232184763,
          -10.74105661976323,
          -15.65909504854135,
          -19.43072422596062,
          -21.701826836481505,
          -22.74723394551376,
          -22.864663642054676,
          -23.21325202989152,
          -24.63187793841548,
          -25.9986856122187,
          -26.03700792655774,
          -24.372013525751463,
          -21.21501912703211,
          -17.267562175572092,
          -13.53213986107382,
          -10.843494194426318,
          -9.502677534084775,
          -9.297083240642978,
          -9.789368212025463,
          -10.540667737775147,
          -11.209583232683721,
          -11.628475391090912,
          -11.80613881997223,
          -11.866692993372927,
          -11.977903088451816,
          -12.287773810598582,
          -12.886279783804591,
          -13.796713144342437,
          -14.98808366164774,
          -16.39597169078202,
          -17.942449228406687,
          -19.5506907325215,
          -21.153727920981627,
          -22.698472974840477,
          -24.146471511914473,
          -25.472735064894454,
          -26.663653567494908,
          -27.7146336132684,
          -28.627819946194165,
          -29.410062724575113,
          -30.07123447155132,
          -30.62287235107218,
          -31.077173364090037,
          -31.446251435602242,
          -31.741636215136133,
          -31.973967697185394,
          -32.152832561276625,
          -32.28669970700735,
          -32.382939917773925,
          -32.44787634938284,
          -32.48687889253063
         ],
         "y": [
          96.36432,
          97.69113,
          98.96521,
          100.21858,
          101.49149,
          102.83465,
          104.31025,
          105.99205,
          107.9605,
          110.28514,
          112.99677,
          116.0809,
          119.49435,
          123.18561,
          127.1144,
          131.26863,
          135.66771,
          140.35171,
          145.36669,
          150.75399,
          156.54488,
          162.75891,
          169.4047,
          176.48172,
          183.98288,
          191.89784,
          200.21538,
          208.92486,
          218.01702,
          227.48388,
          237.31828,
          247.51354,
          258.0632,
          268.96082,
          280.19986,
          291.77326,
          303.6734,
          315.89174,
          328.419,
          341.2452,
          354.35996,
          367.75308,
          381.41508,
          395.33784,
          409.5154,
          423.9448,
          438.62676,
          453.56656,
          468.7752,
          484.27028,
          500.07764,
          516.23308,
          532.7848,
          549.7966,
          567.35232,
          585.562
         ]
        },
        {
         "marker": {
          "color": "red"
         },
         "mode": "lines",
         "name": "ExB drift velocity (x)",
         "type": "scatter",
         "x": [
          12.115877866405956,
          12.172421842874494,
          12.22664115345715,
          12.279754297430301,
          12.333427348787982,
          12.389834895486896,
          12.451790224633813,
          12.522679820410374,
          12.606020027731894,
          12.70450269557942,
          12.81889425302254,
          12.948120977368378,
          13.090237140922312,
          13.243169393036837,
          13.40524316544419,
          13.575826149284605,
          13.755569079828167,
          13.945996131239244,
          14.148858099509678,
          14.365648376174306,
          14.59736931992955,
          14.844490245871693,
          15.107002494220172,
          15.384510787424222,
          15.676347055381072,
          15.981710707173223,
          16.29977377029028,
          16.629743539596323,
          16.97089126338327,
          17.322551173980347,
          17.684094524276226,
          18.054916251767548,
          18.43442485843113,
          18.82203315696125,
          19.217157185987084,
          19.619204860390937,
          20.027570160740712,
          20.441634834877444,
          20.860767801524524,
          21.284335415392636,
          21.711708339070096,
          22.142287115567918,
          22.575511571687553,
          23.010887832808013,
          23.448005247652226,
          23.886553062041216,
          24.326345838337524,
          24.76733027392704,
          25.20961488285344,
          25.653482150048966,
          26.09942006196236,
          26.54815123927294,
          27.000677902136488,
          27.458343795142575,
          27.922908750564908,
          28.396671582243698
         ],
         "y": [
          96.36432,
          97.69113,
          98.96521,
          100.21858,
          101.49149,
          102.83465,
          104.31025,
          105.99205,
          107.9605,
          110.28514,
          112.99677,
          116.0809,
          119.49435,
          123.18561,
          127.1144,
          131.26863,
          135.66771,
          140.35171,
          145.36669,
          150.75399,
          156.54488,
          162.75891,
          169.4047,
          176.48172,
          183.98288,
          191.89784,
          200.21538,
          208.92486,
          218.01702,
          227.48388,
          237.31828,
          247.51354,
          258.0632,
          268.96082,
          280.19986,
          291.77326,
          303.6734,
          315.89174,
          328.419,
          341.2452,
          354.35996,
          367.75308,
          381.41508,
          395.33784,
          409.5154,
          423.9448,
          438.62676,
          453.56656,
          468.7752,
          484.27028,
          500.07764,
          516.23308,
          532.7848,
          549.7966,
          567.35232,
          585.562
         ]
        }
       ],
       "layout": {
        "height": 750,
        "template": {
         "data": {
          "bar": [
           {
            "error_x": {
             "color": "#2a3f5f"
            },
            "error_y": {
             "color": "#2a3f5f"
            },
            "marker": {
             "line": {
              "color": "#E5ECF6",
              "width": 0.5
             }
            },
            "type": "bar"
           }
          ],
          "barpolar": [
           {
            "marker": {
             "line": {
              "color": "#E5ECF6",
              "width": 0.5
             }
            },
            "type": "barpolar"
           }
          ],
          "carpet": [
           {
            "aaxis": {
             "endlinecolor": "#2a3f5f",
             "gridcolor": "white",
             "linecolor": "white",
             "minorgridcolor": "white",
             "startlinecolor": "#2a3f5f"
            },
            "baxis": {
             "endlinecolor": "#2a3f5f",
             "gridcolor": "white",
             "linecolor": "white",
             "minorgridcolor": "white",
             "startlinecolor": "#2a3f5f"
            },
            "type": "carpet"
           }
          ],
          "choropleth": [
           {
            "colorbar": {
             "outlinewidth": 0,
             "ticks": ""
            },
            "type": "choropleth"
           }
          ],
          "contour": [
           {
            "colorbar": {
             "outlinewidth": 0,
             "ticks": ""
            },
            "colorscale": [
             [
              0,
              "#0d0887"
             ],
             [
              0.1111111111111111,
              "#46039f"
             ],
             [
              0.2222222222222222,
              "#7201a8"
             ],
             [
              0.3333333333333333,
              "#9c179e"
             ],
             [
              0.4444444444444444,
              "#bd3786"
             ],
             [
              0.5555555555555556,
              "#d8576b"
             ],
             [
              0.6666666666666666,
              "#ed7953"
             ],
             [
              0.7777777777777778,
              "#fb9f3a"
             ],
             [
              0.8888888888888888,
              "#fdca26"
             ],
             [
              1,
              "#f0f921"
             ]
            ],
            "type": "contour"
           }
          ],
          "contourcarpet": [
           {
            "colorbar": {
             "outlinewidth": 0,
             "ticks": ""
            },
            "type": "contourcarpet"
           }
          ],
          "heatmap": [
           {
            "colorbar": {
             "outlinewidth": 0,
             "ticks": ""
            },
            "colorscale": [
             [
              0,
              "#0d0887"
             ],
             [
              0.1111111111111111,
              "#46039f"
             ],
             [
              0.2222222222222222,
              "#7201a8"
             ],
             [
              0.3333333333333333,
              "#9c179e"
             ],
             [
              0.4444444444444444,
              "#bd3786"
             ],
             [
              0.5555555555555556,
              "#d8576b"
             ],
             [
              0.6666666666666666,
              "#ed7953"
             ],
             [
              0.7777777777777778,
              "#fb9f3a"
             ],
             [
              0.8888888888888888,
              "#fdca26"
             ],
             [
              1,
              "#f0f921"
             ]
            ],
            "type": "heatmap"
           }
          ],
          "heatmapgl": [
           {
            "colorbar": {
             "outlinewidth": 0,
             "ticks": ""
            },
            "colorscale": [
             [
              0,
              "#0d0887"
             ],
             [
              0.1111111111111111,
              "#46039f"
             ],
             [
              0.2222222222222222,
              "#7201a8"
             ],
             [
              0.3333333333333333,
              "#9c179e"
             ],
             [
              0.4444444444444444,
              "#bd3786"
             ],
             [
              0.5555555555555556,
              "#d8576b"
             ],
             [
              0.6666666666666666,
              "#ed7953"
             ],
             [
              0.7777777777777778,
              "#fb9f3a"
             ],
             [
              0.8888888888888888,
              "#fdca26"
             ],
             [
              1,
              "#f0f921"
             ]
            ],
            "type": "heatmapgl"
           }
          ],
          "histogram": [
           {
            "marker": {
             "colorbar": {
              "outlinewidth": 0,
              "ticks": ""
             }
            },
            "type": "histogram"
           }
          ],
          "histogram2d": [
           {
            "colorbar": {
             "outlinewidth": 0,
             "ticks": ""
            },
            "colorscale": [
             [
              0,
              "#0d0887"
             ],
             [
              0.1111111111111111,
              "#46039f"
             ],
             [
              0.2222222222222222,
              "#7201a8"
             ],
             [
              0.3333333333333333,
              "#9c179e"
             ],
             [
              0.4444444444444444,
              "#bd3786"
             ],
             [
              0.5555555555555556,
              "#d8576b"
             ],
             [
              0.6666666666666666,
              "#ed7953"
             ],
             [
              0.7777777777777778,
              "#fb9f3a"
             ],
             [
              0.8888888888888888,
              "#fdca26"
             ],
             [
              1,
              "#f0f921"
             ]
            ],
            "type": "histogram2d"
           }
          ],
          "histogram2dcontour": [
           {
            "colorbar": {
             "outlinewidth": 0,
             "ticks": ""
            },
            "colorscale": [
             [
              0,
              "#0d0887"
             ],
             [
              0.1111111111111111,
              "#46039f"
             ],
             [
              0.2222222222222222,
              "#7201a8"
             ],
             [
              0.3333333333333333,
              "#9c179e"
             ],
             [
              0.4444444444444444,
              "#bd3786"
             ],
             [
              0.5555555555555556,
              "#d8576b"
             ],
             [
              0.6666666666666666,
              "#ed7953"
             ],
             [
              0.7777777777777778,
              "#fb9f3a"
             ],
             [
              0.8888888888888888,
              "#fdca26"
             ],
             [
              1,
              "#f0f921"
             ]
            ],
            "type": "histogram2dcontour"
           }
          ],
          "mesh3d": [
           {
            "colorbar": {
             "outlinewidth": 0,
             "ticks": ""
            },
            "type": "mesh3d"
           }
          ],
          "parcoords": [
           {
            "line": {
             "colorbar": {
              "outlinewidth": 0,
              "ticks": ""
             }
            },
            "type": "parcoords"
           }
          ],
          "pie": [
           {
            "automargin": true,
            "type": "pie"
           }
          ],
          "scatter": [
           {
            "marker": {
             "colorbar": {
              "outlinewidth": 0,
              "ticks": ""
             }
            },
            "type": "scatter"
           }
          ],
          "scatter3d": [
           {
            "line": {
             "colorbar": {
              "outlinewidth": 0,
              "ticks": ""
             }
            },
            "marker": {
             "colorbar": {
              "outlinewidth": 0,
              "ticks": ""
             }
            },
            "type": "scatter3d"
           }
          ],
          "scattercarpet": [
           {
            "marker": {
             "colorbar": {
              "outlinewidth": 0,
              "ticks": ""
             }
            },
            "type": "scattercarpet"
           }
          ],
          "scattergeo": [
           {
            "marker": {
             "colorbar": {
              "outlinewidth": 0,
              "ticks": ""
             }
            },
            "type": "scattergeo"
           }
          ],
          "scattergl": [
           {
            "marker": {
             "colorbar": {
              "outlinewidth": 0,
              "ticks": ""
             }
            },
            "type": "scattergl"
           }
          ],
          "scattermapbox": [
           {
            "marker": {
             "colorbar": {
              "outlinewidth": 0,
              "ticks": ""
             }
            },
            "type": "scattermapbox"
           }
          ],
          "scatterpolar": [
           {
            "marker": {
             "colorbar": {
              "outlinewidth": 0,
              "ticks": ""
             }
            },
            "type": "scatterpolar"
           }
          ],
          "scatterpolargl": [
           {
            "marker": {
             "colorbar": {
              "outlinewidth": 0,
              "ticks": ""
             }
            },
            "type": "scatterpolargl"
           }
          ],
          "scatterternary": [
           {
            "marker": {
             "colorbar": {
              "outlinewidth": 0,
              "ticks": ""
             }
            },
            "type": "scatterternary"
           }
          ],
          "surface": [
           {
            "colorbar": {
             "outlinewidth": 0,
             "ticks": ""
            },
            "colorscale": [
             [
              0,
              "#0d0887"
             ],
             [
              0.1111111111111111,
              "#46039f"
             ],
             [
              0.2222222222222222,
              "#7201a8"
             ],
             [
              0.3333333333333333,
              "#9c179e"
             ],
             [
              0.4444444444444444,
              "#bd3786"
             ],
             [
              0.5555555555555556,
              "#d8576b"
             ],
             [
              0.6666666666666666,
              "#ed7953"
             ],
             [
              0.7777777777777778,
              "#fb9f3a"
             ],
             [
              0.8888888888888888,
              "#fdca26"
             ],
             [
              1,
              "#f0f921"
             ]
            ],
            "type": "surface"
           }
          ],
          "table": [
           {
            "cells": {
             "fill": {
              "color": "#EBF0F8"
             },
             "line": {
              "color": "white"
             }
            },
            "header": {
             "fill": {
              "color": "#C8D4E3"
             },
             "line": {
              "color": "white"
             }
            },
            "type": "table"
           }
          ]
         },
         "layout": {
          "annotationdefaults": {
           "arrowcolor": "#2a3f5f",
           "arrowhead": 0,
           "arrowwidth": 1
          },
          "coloraxis": {
           "colorbar": {
            "outlinewidth": 0,
            "ticks": ""
           }
          },
          "colorscale": {
           "diverging": [
            [
             0,
             "#8e0152"
            ],
            [
             0.1,
             "#c51b7d"
            ],
            [
             0.2,
             "#de77ae"
            ],
            [
             0.3,
             "#f1b6da"
            ],
            [
             0.4,
             "#fde0ef"
            ],
            [
             0.5,
             "#f7f7f7"
            ],
            [
             0.6,
             "#e6f5d0"
            ],
            [
             0.7,
             "#b8e186"
            ],
            [
             0.8,
             "#7fbc41"
            ],
            [
             0.9,
             "#4d9221"
            ],
            [
             1,
             "#276419"
            ]
           ],
           "sequential": [
            [
             0,
             "#0d0887"
            ],
            [
             0.1111111111111111,
             "#46039f"
            ],
            [
             0.2222222222222222,
             "#7201a8"
            ],
            [
             0.3333333333333333,
             "#9c179e"
            ],
            [
             0.4444444444444444,
             "#bd3786"
            ],
            [
             0.5555555555555556,
             "#d8576b"
            ],
            [
             0.6666666666666666,
             "#ed7953"
            ],
            [
             0.7777777777777778,
             "#fb9f3a"
            ],
            [
             0.8888888888888888,
             "#fdca26"
            ],
            [
             1,
             "#f0f921"
            ]
           ],
           "sequentialminus": [
            [
             0,
             "#0d0887"
            ],
            [
             0.1111111111111111,
             "#46039f"
            ],
            [
             0.2222222222222222,
             "#7201a8"
            ],
            [
             0.3333333333333333,
             "#9c179e"
            ],
            [
             0.4444444444444444,
             "#bd3786"
            ],
            [
             0.5555555555555556,
             "#d8576b"
            ],
            [
             0.6666666666666666,
             "#ed7953"
            ],
            [
             0.7777777777777778,
             "#fb9f3a"
            ],
            [
             0.8888888888888888,
             "#fdca26"
            ],
            [
             1,
             "#f0f921"
            ]
           ]
          },
          "colorway": [
           "#636efa",
           "#EF553B",
           "#00cc96",
           "#ab63fa",
           "#FFA15A",
           "#19d3f3",
           "#FF6692",
           "#B6E880",
           "#FF97FF",
           "#FECB52"
          ],
          "font": {
           "color": "#2a3f5f"
          },
          "geo": {
           "bgcolor": "white",
           "lakecolor": "white",
           "landcolor": "#E5ECF6",
           "showlakes": true,
           "showland": true,
           "subunitcolor": "white"
          },
          "hoverlabel": {
           "align": "left"
          },
          "hovermode": "closest",
          "mapbox": {
           "style": "light"
          },
          "paper_bgcolor": "white",
          "plot_bgcolor": "#E5ECF6",
          "polar": {
           "angularaxis": {
            "gridcolor": "white",
            "linecolor": "white",
            "ticks": ""
           },
           "bgcolor": "#E5ECF6",
           "radialaxis": {
            "gridcolor": "white",
            "linecolor": "white",
            "ticks": ""
           }
          },
          "scene": {
           "xaxis": {
            "backgroundcolor": "#E5ECF6",
            "gridcolor": "white",
            "gridwidth": 2,
            "linecolor": "white",
            "showbackground": true,
            "ticks": "",
            "zerolinecolor": "white"
           },
           "yaxis": {
            "backgroundcolor": "#E5ECF6",
            "gridcolor": "white",
            "gridwidth": 2,
            "linecolor": "white",
            "showbackground": true,
            "ticks": "",
            "zerolinecolor": "white"
           },
           "zaxis": {
            "backgroundcolor": "#E5ECF6",
            "gridcolor": "white",
            "gridwidth": 2,
            "linecolor": "white",
            "showbackground": true,
            "ticks": "",
            "zerolinecolor": "white"
           }
          },
          "shapedefaults": {
           "line": {
            "color": "#2a3f5f"
           }
          },
          "ternary": {
           "aaxis": {
            "gridcolor": "white",
            "linecolor": "white",
            "ticks": ""
           },
           "baxis": {
            "gridcolor": "white",
            "linecolor": "white",
            "ticks": ""
           },
           "bgcolor": "#E5ECF6",
           "caxis": {
            "gridcolor": "white",
            "linecolor": "white",
            "ticks": ""
           }
          },
          "title": {
           "x": 0.05
          },
          "xaxis": {
           "automargin": true,
           "gridcolor": "white",
           "linecolor": "white",
           "ticks": "",
           "title": {
            "standoff": 15
           },
           "zerolinecolor": "white",
           "zerolinewidth": 2
          },
          "yaxis": {
           "automargin": true,
           "gridcolor": "white",
           "linecolor": "white",
           "ticks": "",
           "title": {
            "standoff": 15
           },
           "zerolinecolor": "white",
           "zerolinewidth": 2
          }
         }
        },
        "title": {
         "text": "Velocities ",
         "x": 0.5,
         "xanchor": "center",
         "y": 0.9,
         "yanchor": "top"
        },
        "width": 750,
        "xaxis": {
         "exponentformat": "power",
         "gridcolor": "grey",
         "gridwidth": 0.5,
         "linecolor": "black",
         "linewidth": 2,
         "mirror": true,
         "showexponent": "all",
         "showgrid": true,
         "showline": true,
         "title": {
          "text": "$m/s$"
         }
        },
        "yaxis": {
         "dtick": 20,
         "gridcolor": "grey",
         "gridwidth": 0.5,
         "linecolor": "black",
         "linewidth": 2,
         "mirror": true,
         "showgrid": true,
         "showline": true,
         "tick0": 60,
         "title": {
          "text": "Altitude (km)"
         }
        }
       }
      },
      "text/html": [
       "<div>\n",
       "        \n",
       "        \n",
       "            <div id=\"1c104e5e-2a5e-471b-955d-638e4ceb1133\" class=\"plotly-graph-div\" style=\"height:750px; width:750px;\"></div>\n",
       "            <script type=\"text/javascript\">\n",
       "                require([\"plotly\"], function(Plotly) {\n",
       "                    window.PLOTLYENV=window.PLOTLYENV || {};\n",
       "                    \n",
       "                if (document.getElementById(\"1c104e5e-2a5e-471b-955d-638e4ceb1133\")) {\n",
       "                    Plotly.newPlot(\n",
       "                        '1c104e5e-2a5e-471b-955d-638e4ceb1133',\n",
       "                        [{\"marker\": {\"color\": \"blue\"}, \"mode\": \"lines\", \"name\": \"Perpendicular Ion velocity (x)\", \"type\": \"scatter\", \"x\": [-2.4524572217546634, -3.2441004060569876, -4.481330291321743, -6.981937953131169, -11.578904938652721, -19.084117625468377, -30.112061991749265, -44.8493547896433, -62.729881652593136, -81.00869049500814, -92.90829353631092, -91.32653914650994, -77.38349881704966, -58.74455030739081, -41.51994547239086, -28.07149753979863, -18.228658052089937, -10.960685926199213, -5.373069998135499, -0.9350008166447203, 2.636404783627272, 5.514166178649042, 7.830377746069528, 9.698603958676811, 11.224399972422562, 12.490325339782563, 13.557730908703395, 14.472096916267482, 15.268163567052182, 15.973445025542903, 16.610133321363847, 17.1959350469824, 17.74457348839468, 18.266345248156547, 18.768771179381396, 19.257235396449808, 19.735547338589857, 20.206392226784015, 20.671660858912873, 21.132690391244235, 21.590426270792175, 22.045550071426863, 22.498556117512233, 22.949824026464043, 23.39966770378139, 23.848376396621667, 24.296259537253004, 24.74366994262055, 25.1910476066678, 25.638944105196202, 26.088064736879964, 26.53930678457092, 26.9938122344388, 27.453036236839786, 27.918827106699652, 28.393553494663323], \"y\": [96.36432, 97.69113, 98.96521, 100.21858, 101.49149, 102.83465, 104.31025, 105.99205, 107.9605, 110.28514, 112.99677, 116.0809, 119.49435, 123.18561, 127.1144, 131.26863, 135.66771, 140.35171, 145.36669, 150.75399, 156.54488, 162.75891, 169.4047, 176.48172, 183.98288, 191.89784, 200.21538, 208.92486, 218.01702, 227.48388, 237.31828, 247.51354, 258.0632, 268.96082, 280.19986, 291.77326, 303.6734, 315.89174, 328.419, 341.2452, 354.35996, 367.75308, 381.41508, 395.33784, 409.5154, 423.9448, 438.62676, 453.56656, 468.7752, 484.27028, 500.07764, 516.23308, 532.7848, 549.7966, 567.35232, 585.562]}, {\"marker\": {\"color\": \"green\"}, \"mode\": \"lines\", \"name\": \"Perpendicular Neutral velocity (x)\", \"type\": \"scatter\", \"x\": [1.0098593923448773, 1.0035579787064106, 0.8597031673585233, -0.05271291811392587, -2.2309244021732404, -5.905675232184763, -10.74105661976323, -15.65909504854135, -19.43072422596062, -21.701826836481505, -22.74723394551376, -22.864663642054676, -23.21325202989152, -24.63187793841548, -25.9986856122187, -26.03700792655774, -24.372013525751463, -21.21501912703211, -17.267562175572092, -13.53213986107382, -10.843494194426318, -9.502677534084775, -9.297083240642978, -9.789368212025463, -10.540667737775147, -11.209583232683721, -11.628475391090912, -11.80613881997223, -11.866692993372927, -11.977903088451816, -12.287773810598582, -12.886279783804591, -13.796713144342437, -14.98808366164774, -16.39597169078202, -17.942449228406687, -19.5506907325215, -21.153727920981627, -22.698472974840477, -24.146471511914473, -25.472735064894454, -26.663653567494908, -27.7146336132684, -28.627819946194165, -29.410062724575113, -30.07123447155132, -30.62287235107218, -31.077173364090037, -31.446251435602242, -31.741636215136133, -31.973967697185394, -32.152832561276625, -32.28669970700735, -32.382939917773925, -32.44787634938284, -32.48687889253063], \"y\": [96.36432, 97.69113, 98.96521, 100.21858, 101.49149, 102.83465, 104.31025, 105.99205, 107.9605, 110.28514, 112.99677, 116.0809, 119.49435, 123.18561, 127.1144, 131.26863, 135.66771, 140.35171, 145.36669, 150.75399, 156.54488, 162.75891, 169.4047, 176.48172, 183.98288, 191.89784, 200.21538, 208.92486, 218.01702, 227.48388, 237.31828, 247.51354, 258.0632, 268.96082, 280.19986, 291.77326, 303.6734, 315.89174, 328.419, 341.2452, 354.35996, 367.75308, 381.41508, 395.33784, 409.5154, 423.9448, 438.62676, 453.56656, 468.7752, 484.27028, 500.07764, 516.23308, 532.7848, 549.7966, 567.35232, 585.562]}, {\"marker\": {\"color\": \"red\"}, \"mode\": \"lines\", \"name\": \"ExB drift velocity (x)\", \"type\": \"scatter\", \"x\": [12.115877866405956, 12.172421842874494, 12.22664115345715, 12.279754297430301, 12.333427348787982, 12.389834895486896, 12.451790224633813, 12.522679820410374, 12.606020027731894, 12.70450269557942, 12.81889425302254, 12.948120977368378, 13.090237140922312, 13.243169393036837, 13.40524316544419, 13.575826149284605, 13.755569079828167, 13.945996131239244, 14.148858099509678, 14.365648376174306, 14.59736931992955, 14.844490245871693, 15.107002494220172, 15.384510787424222, 15.676347055381072, 15.981710707173223, 16.29977377029028, 16.629743539596323, 16.97089126338327, 17.322551173980347, 17.684094524276226, 18.054916251767548, 18.43442485843113, 18.82203315696125, 19.217157185987084, 19.619204860390937, 20.027570160740712, 20.441634834877444, 20.860767801524524, 21.284335415392636, 21.711708339070096, 22.142287115567918, 22.575511571687553, 23.010887832808013, 23.448005247652226, 23.886553062041216, 24.326345838337524, 24.76733027392704, 25.20961488285344, 25.653482150048966, 26.09942006196236, 26.54815123927294, 27.000677902136488, 27.458343795142575, 27.922908750564908, 28.396671582243698], \"y\": [96.36432, 97.69113, 98.96521, 100.21858, 101.49149, 102.83465, 104.31025, 105.99205, 107.9605, 110.28514, 112.99677, 116.0809, 119.49435, 123.18561, 127.1144, 131.26863, 135.66771, 140.35171, 145.36669, 150.75399, 156.54488, 162.75891, 169.4047, 176.48172, 183.98288, 191.89784, 200.21538, 208.92486, 218.01702, 227.48388, 237.31828, 247.51354, 258.0632, 268.96082, 280.19986, 291.77326, 303.6734, 315.89174, 328.419, 341.2452, 354.35996, 367.75308, 381.41508, 395.33784, 409.5154, 423.9448, 438.62676, 453.56656, 468.7752, 484.27028, 500.07764, 516.23308, 532.7848, 549.7966, 567.35232, 585.562]}],\n",
       "                        {\"height\": 750, \"template\": {\"data\": {\"bar\": [{\"error_x\": {\"color\": \"#2a3f5f\"}, \"error_y\": {\"color\": \"#2a3f5f\"}, \"marker\": {\"line\": {\"color\": \"#E5ECF6\", \"width\": 0.5}}, \"type\": \"bar\"}], \"barpolar\": [{\"marker\": {\"line\": {\"color\": \"#E5ECF6\", \"width\": 0.5}}, \"type\": \"barpolar\"}], \"carpet\": [{\"aaxis\": {\"endlinecolor\": \"#2a3f5f\", \"gridcolor\": \"white\", \"linecolor\": \"white\", \"minorgridcolor\": \"white\", \"startlinecolor\": \"#2a3f5f\"}, \"baxis\": {\"endlinecolor\": \"#2a3f5f\", \"gridcolor\": \"white\", \"linecolor\": \"white\", \"minorgridcolor\": \"white\", \"startlinecolor\": \"#2a3f5f\"}, \"type\": \"carpet\"}], \"choropleth\": [{\"colorbar\": {\"outlinewidth\": 0, \"ticks\": \"\"}, \"type\": \"choropleth\"}], \"contour\": [{\"colorbar\": {\"outlinewidth\": 0, \"ticks\": \"\"}, \"colorscale\": [[0.0, \"#0d0887\"], [0.1111111111111111, \"#46039f\"], [0.2222222222222222, \"#7201a8\"], [0.3333333333333333, \"#9c179e\"], [0.4444444444444444, \"#bd3786\"], [0.5555555555555556, \"#d8576b\"], [0.6666666666666666, \"#ed7953\"], [0.7777777777777778, \"#fb9f3a\"], [0.8888888888888888, \"#fdca26\"], [1.0, \"#f0f921\"]], \"type\": \"contour\"}], \"contourcarpet\": [{\"colorbar\": {\"outlinewidth\": 0, \"ticks\": \"\"}, \"type\": \"contourcarpet\"}], \"heatmap\": [{\"colorbar\": {\"outlinewidth\": 0, \"ticks\": \"\"}, \"colorscale\": [[0.0, \"#0d0887\"], [0.1111111111111111, \"#46039f\"], [0.2222222222222222, \"#7201a8\"], [0.3333333333333333, \"#9c179e\"], [0.4444444444444444, \"#bd3786\"], [0.5555555555555556, \"#d8576b\"], [0.6666666666666666, \"#ed7953\"], [0.7777777777777778, \"#fb9f3a\"], [0.8888888888888888, \"#fdca26\"], [1.0, \"#f0f921\"]], \"type\": \"heatmap\"}], \"heatmapgl\": [{\"colorbar\": {\"outlinewidth\": 0, \"ticks\": \"\"}, \"colorscale\": [[0.0, \"#0d0887\"], [0.1111111111111111, \"#46039f\"], [0.2222222222222222, \"#7201a8\"], [0.3333333333333333, \"#9c179e\"], [0.4444444444444444, \"#bd3786\"], [0.5555555555555556, \"#d8576b\"], [0.6666666666666666, \"#ed7953\"], [0.7777777777777778, \"#fb9f3a\"], [0.8888888888888888, \"#fdca26\"], [1.0, \"#f0f921\"]], \"type\": \"heatmapgl\"}], \"histogram\": [{\"marker\": {\"colorbar\": {\"outlinewidth\": 0, \"ticks\": \"\"}}, \"type\": \"histogram\"}], \"histogram2d\": [{\"colorbar\": {\"outlinewidth\": 0, \"ticks\": \"\"}, \"colorscale\": [[0.0, \"#0d0887\"], [0.1111111111111111, \"#46039f\"], [0.2222222222222222, \"#7201a8\"], [0.3333333333333333, \"#9c179e\"], [0.4444444444444444, \"#bd3786\"], [0.5555555555555556, \"#d8576b\"], [0.6666666666666666, \"#ed7953\"], [0.7777777777777778, \"#fb9f3a\"], [0.8888888888888888, \"#fdca26\"], [1.0, \"#f0f921\"]], \"type\": \"histogram2d\"}], \"histogram2dcontour\": [{\"colorbar\": {\"outlinewidth\": 0, \"ticks\": \"\"}, \"colorscale\": [[0.0, \"#0d0887\"], [0.1111111111111111, \"#46039f\"], [0.2222222222222222, \"#7201a8\"], [0.3333333333333333, \"#9c179e\"], [0.4444444444444444, \"#bd3786\"], [0.5555555555555556, \"#d8576b\"], [0.6666666666666666, \"#ed7953\"], [0.7777777777777778, \"#fb9f3a\"], [0.8888888888888888, \"#fdca26\"], [1.0, \"#f0f921\"]], \"type\": \"histogram2dcontour\"}], \"mesh3d\": [{\"colorbar\": {\"outlinewidth\": 0, \"ticks\": \"\"}, \"type\": \"mesh3d\"}], \"parcoords\": [{\"line\": {\"colorbar\": {\"outlinewidth\": 0, \"ticks\": \"\"}}, \"type\": \"parcoords\"}], \"pie\": [{\"automargin\": true, \"type\": \"pie\"}], \"scatter\": [{\"marker\": {\"colorbar\": {\"outlinewidth\": 0, \"ticks\": \"\"}}, \"type\": \"scatter\"}], \"scatter3d\": [{\"line\": {\"colorbar\": {\"outlinewidth\": 0, \"ticks\": \"\"}}, \"marker\": {\"colorbar\": {\"outlinewidth\": 0, \"ticks\": \"\"}}, \"type\": \"scatter3d\"}], \"scattercarpet\": [{\"marker\": {\"colorbar\": {\"outlinewidth\": 0, \"ticks\": \"\"}}, \"type\": \"scattercarpet\"}], \"scattergeo\": [{\"marker\": {\"colorbar\": {\"outlinewidth\": 0, \"ticks\": \"\"}}, \"type\": \"scattergeo\"}], \"scattergl\": [{\"marker\": {\"colorbar\": {\"outlinewidth\": 0, \"ticks\": \"\"}}, \"type\": \"scattergl\"}], \"scattermapbox\": [{\"marker\": {\"colorbar\": {\"outlinewidth\": 0, \"ticks\": \"\"}}, \"type\": \"scattermapbox\"}], \"scatterpolar\": [{\"marker\": {\"colorbar\": {\"outlinewidth\": 0, \"ticks\": \"\"}}, \"type\": \"scatterpolar\"}], \"scatterpolargl\": [{\"marker\": {\"colorbar\": {\"outlinewidth\": 0, \"ticks\": \"\"}}, \"type\": \"scatterpolargl\"}], \"scatterternary\": [{\"marker\": {\"colorbar\": {\"outlinewidth\": 0, \"ticks\": \"\"}}, \"type\": \"scatterternary\"}], \"surface\": [{\"colorbar\": {\"outlinewidth\": 0, \"ticks\": \"\"}, \"colorscale\": [[0.0, \"#0d0887\"], [0.1111111111111111, \"#46039f\"], [0.2222222222222222, \"#7201a8\"], [0.3333333333333333, \"#9c179e\"], [0.4444444444444444, \"#bd3786\"], [0.5555555555555556, \"#d8576b\"], [0.6666666666666666, \"#ed7953\"], [0.7777777777777778, \"#fb9f3a\"], [0.8888888888888888, \"#fdca26\"], [1.0, \"#f0f921\"]], \"type\": \"surface\"}], \"table\": [{\"cells\": {\"fill\": {\"color\": \"#EBF0F8\"}, \"line\": {\"color\": \"white\"}}, \"header\": {\"fill\": {\"color\": \"#C8D4E3\"}, \"line\": {\"color\": \"white\"}}, \"type\": \"table\"}]}, \"layout\": {\"annotationdefaults\": {\"arrowcolor\": \"#2a3f5f\", \"arrowhead\": 0, \"arrowwidth\": 1}, \"coloraxis\": {\"colorbar\": {\"outlinewidth\": 0, \"ticks\": \"\"}}, \"colorscale\": {\"diverging\": [[0, \"#8e0152\"], [0.1, \"#c51b7d\"], [0.2, \"#de77ae\"], [0.3, \"#f1b6da\"], [0.4, \"#fde0ef\"], [0.5, \"#f7f7f7\"], [0.6, \"#e6f5d0\"], [0.7, \"#b8e186\"], [0.8, \"#7fbc41\"], [0.9, \"#4d9221\"], [1, \"#276419\"]], \"sequential\": [[0.0, \"#0d0887\"], [0.1111111111111111, \"#46039f\"], [0.2222222222222222, \"#7201a8\"], [0.3333333333333333, \"#9c179e\"], [0.4444444444444444, \"#bd3786\"], [0.5555555555555556, \"#d8576b\"], [0.6666666666666666, \"#ed7953\"], [0.7777777777777778, \"#fb9f3a\"], [0.8888888888888888, \"#fdca26\"], [1.0, \"#f0f921\"]], \"sequentialminus\": [[0.0, \"#0d0887\"], [0.1111111111111111, \"#46039f\"], [0.2222222222222222, \"#7201a8\"], [0.3333333333333333, \"#9c179e\"], [0.4444444444444444, \"#bd3786\"], [0.5555555555555556, \"#d8576b\"], [0.6666666666666666, \"#ed7953\"], [0.7777777777777778, \"#fb9f3a\"], [0.8888888888888888, \"#fdca26\"], [1.0, \"#f0f921\"]]}, \"colorway\": [\"#636efa\", \"#EF553B\", \"#00cc96\", \"#ab63fa\", \"#FFA15A\", \"#19d3f3\", \"#FF6692\", \"#B6E880\", \"#FF97FF\", \"#FECB52\"], \"font\": {\"color\": \"#2a3f5f\"}, \"geo\": {\"bgcolor\": \"white\", \"lakecolor\": \"white\", \"landcolor\": \"#E5ECF6\", \"showlakes\": true, \"showland\": true, \"subunitcolor\": \"white\"}, \"hoverlabel\": {\"align\": \"left\"}, \"hovermode\": \"closest\", \"mapbox\": {\"style\": \"light\"}, \"paper_bgcolor\": \"white\", \"plot_bgcolor\": \"#E5ECF6\", \"polar\": {\"angularaxis\": {\"gridcolor\": \"white\", \"linecolor\": \"white\", \"ticks\": \"\"}, \"bgcolor\": \"#E5ECF6\", \"radialaxis\": {\"gridcolor\": \"white\", \"linecolor\": \"white\", \"ticks\": \"\"}}, \"scene\": {\"xaxis\": {\"backgroundcolor\": \"#E5ECF6\", \"gridcolor\": \"white\", \"gridwidth\": 2, \"linecolor\": \"white\", \"showbackground\": true, \"ticks\": \"\", \"zerolinecolor\": \"white\"}, \"yaxis\": {\"backgroundcolor\": \"#E5ECF6\", \"gridcolor\": \"white\", \"gridwidth\": 2, \"linecolor\": \"white\", \"showbackground\": true, \"ticks\": \"\", \"zerolinecolor\": \"white\"}, \"zaxis\": {\"backgroundcolor\": \"#E5ECF6\", \"gridcolor\": \"white\", \"gridwidth\": 2, \"linecolor\": \"white\", \"showbackground\": true, \"ticks\": \"\", \"zerolinecolor\": \"white\"}}, \"shapedefaults\": {\"line\": {\"color\": \"#2a3f5f\"}}, \"ternary\": {\"aaxis\": {\"gridcolor\": \"white\", \"linecolor\": \"white\", \"ticks\": \"\"}, \"baxis\": {\"gridcolor\": \"white\", \"linecolor\": \"white\", \"ticks\": \"\"}, \"bgcolor\": \"#E5ECF6\", \"caxis\": {\"gridcolor\": \"white\", \"linecolor\": \"white\", \"ticks\": \"\"}}, \"title\": {\"x\": 0.05}, \"xaxis\": {\"automargin\": true, \"gridcolor\": \"white\", \"linecolor\": \"white\", \"ticks\": \"\", \"title\": {\"standoff\": 15}, \"zerolinecolor\": \"white\", \"zerolinewidth\": 2}, \"yaxis\": {\"automargin\": true, \"gridcolor\": \"white\", \"linecolor\": \"white\", \"ticks\": \"\", \"title\": {\"standoff\": 15}, \"zerolinecolor\": \"white\", \"zerolinewidth\": 2}}}, \"title\": {\"text\": \"Velocities \", \"x\": 0.5, \"xanchor\": \"center\", \"y\": 0.9, \"yanchor\": \"top\"}, \"width\": 750, \"xaxis\": {\"exponentformat\": \"power\", \"gridcolor\": \"grey\", \"gridwidth\": 0.5, \"linecolor\": \"black\", \"linewidth\": 2, \"mirror\": true, \"showexponent\": \"all\", \"showgrid\": true, \"showline\": true, \"title\": {\"text\": \"$m/s$\"}}, \"yaxis\": {\"dtick\": 20, \"gridcolor\": \"grey\", \"gridwidth\": 0.5, \"linecolor\": \"black\", \"linewidth\": 2, \"mirror\": true, \"showgrid\": true, \"showline\": true, \"tick0\": 60, \"title\": {\"text\": \"Altitude (km)\"}}},\n",
       "                        {\"responsive\": true}\n",
       "                    ).then(function(){\n",
       "                            \n",
       "var gd = document.getElementById('1c104e5e-2a5e-471b-955d-638e4ceb1133');\n",
       "var x = new MutationObserver(function (mutations, observer) {{\n",
       "        var display = window.getComputedStyle(gd).display;\n",
       "        if (!display || display === 'none') {{\n",
       "            console.log([gd, 'removed!']);\n",
       "            Plotly.purge(gd);\n",
       "            observer.disconnect();\n",
       "        }}\n",
       "}});\n",
       "\n",
       "// Listen for the removal of the full notebook cells\n",
       "var notebookContainer = gd.closest('#notebook-container');\n",
       "if (notebookContainer) {{\n",
       "    x.observe(notebookContainer, {childList: true});\n",
       "}}\n",
       "\n",
       "// Listen for the clearing of the current output cell\n",
       "var outputEl = gd.closest('.output');\n",
       "if (outputEl) {{\n",
       "    x.observe(outputEl, {childList: true});\n",
       "}}\n",
       "\n",
       "                        })\n",
       "                };\n",
       "                });\n",
       "            </script>\n",
       "        </div>"
      ]
     },
     "metadata": {},
     "output_type": "display_data"
    },
    {
     "data": {
      "application/vnd.plotly.v1+json": {
       "config": {
        "plotlyServerURL": "https://plot.ly"
       },
       "data": [
        {
         "marker": {
          "color": "blue"
         },
         "mode": "lines",
         "name": "Perpendicular Ion velocity (y)",
         "type": "scatter",
         "x": [
          1.2135774030761477,
          0.7252830128833622,
          0.3705185405675594,
          -0.007434804110599824,
          -0.14733142505764518,
          0.44449704161500314,
          2.0548300330885167,
          3.726891300127722,
          1.8910423069513485,
          -9.629019266334026,
          -35.296529730469544,
          -71.01081540075897,
          -105.55559410384491,
          -130.7615829380405,
          -145.32601029538884,
          -151.99909747893477,
          -154.2008830471794,
          -154.35037680059582,
          -153.78740234140602,
          -153.12269124957197,
          -152.5494345883666,
          -152.06943722763592,
          -151.63431261709343,
          -151.2084038416876,
          -150.77646097837206,
          -150.33596635447668,
          -149.8904310973506,
          -149.44434732905833,
          -149.00040534153115,
          -148.55905262640442,
          -148.11907266073973,
          -147.67851105218483,
          -147.2354174567274,
          -146.78820848748464,
          -146.3358821458061,
          -145.8779086456342,
          -145.41413121700387,
          -144.94466608388328,
          -144.4697893746723,
          -143.98989042282486,
          -143.505367525719,
          -143.01667881826413,
          -142.5241999928258,
          -142.02829299431784,
          -141.52924811449023,
          -141.02722244474998,
          -140.52228893942424,
          -140.01434662710673,
          -139.50315605064557,
          -138.98826181254975,
          -138.4689680694771,
          -137.94431550145694,
          -137.41299945520387,
          -136.8732960268898,
          -136.32294656819047,
          -135.75903291567278
         ],
         "y": [
          96.36432,
          97.69113,
          98.96521,
          100.21858,
          101.49149,
          102.83465,
          104.31025,
          105.99205,
          107.9605,
          110.28514,
          112.99677,
          116.0809,
          119.49435,
          123.18561,
          127.1144,
          131.26863,
          135.66771,
          140.35171,
          145.36669,
          150.75399,
          156.54488,
          162.75891,
          169.4047,
          176.48172,
          183.98288,
          191.89784,
          200.21538,
          208.92486,
          218.01702,
          227.48388,
          237.31828,
          247.51354,
          258.0632,
          268.96082,
          280.19986,
          291.77326,
          303.6734,
          315.89174,
          328.419,
          341.2452,
          354.35996,
          367.75308,
          381.41508,
          395.33784,
          409.5154,
          423.9448,
          438.62676,
          453.56656,
          468.7752,
          484.27028,
          500.07764,
          516.23308,
          532.7848,
          549.7966,
          567.35232,
          585.562
         ]
        },
        {
         "marker": {
          "color": "green"
         },
         "mode": "lines",
         "name": "Perpendicular Neutral velocity (y)",
         "type": "scatter",
         "x": [
          1.5714469115914402,
          1.188404112130332,
          0.9978338113771881,
          0.920674112690699,
          1.3821107061529836,
          3.2234567926323665,
          7.443661371518581,
          14.437023476674606,
          22.816946463900702,
          28.602342870025247,
          26.426026276440272,
          13.689831755647589,
          -5.740464580873803,
          -24.66942536783412,
          -37.954600268475296,
          -43.94174744303768,
          -43.6423291035189,
          -39.29485012888195,
          -33.20767274497955,
          -27.045888986824284,
          -21.644871374935256,
          -17.21163345693929,
          -13.569454995673922,
          -10.470454196512053,
          -7.833513342970114,
          -5.661016165653921,
          -3.905147201924713,
          -2.423874343275735,
          -0.9959120831230405,
          0.6164046486834445,
          2.5978966886453407,
          5.040583852156288,
          7.941114207423791,
          11.22297360846594,
          14.767033368032196,
          18.43942183392396,
          22.112053830835247,
          25.675232658460796,
          29.04359687849813,
          32.15723156430584,
          34.979698977598204,
          37.49444417393875,
          39.70059811654201,
          41.60883088988244,
          43.23766359276232,
          44.61039558522049,
          45.7526738910545,
          46.69068034618483,
          47.44985423498895,
          48.05401749849475,
          48.52487323294573,
          48.88172376429396,
          49.141406788614574,
          49.31826802286172,
          49.42426988441492,
          49.46909882738168
         ],
         "y": [
          96.36432,
          97.69113,
          98.96521,
          100.21858,
          101.49149,
          102.83465,
          104.31025,
          105.99205,
          107.9605,
          110.28514,
          112.99677,
          116.0809,
          119.49435,
          123.18561,
          127.1144,
          131.26863,
          135.66771,
          140.35171,
          145.36669,
          150.75399,
          156.54488,
          162.75891,
          169.4047,
          176.48172,
          183.98288,
          191.89784,
          200.21538,
          208.92486,
          218.01702,
          227.48388,
          237.31828,
          247.51354,
          258.0632,
          268.96082,
          280.19986,
          291.77326,
          303.6734,
          315.89174,
          328.419,
          341.2452,
          354.35996,
          367.75308,
          381.41508,
          395.33784,
          409.5154,
          423.9448,
          438.62676,
          453.56656,
          468.7752,
          484.27028,
          500.07764,
          516.23308,
          532.7848,
          549.7966,
          567.35232,
          585.562
         ]
        },
        {
         "marker": {
          "color": "red"
         },
         "mode": "lines",
         "name": "ExB drift velocity (y)",
         "type": "scatter",
         "x": [
          -153.821196546917,
          -153.76228601566288,
          -153.70578173475607,
          -153.65041375380912,
          -153.5944799874752,
          -153.53569589916353,
          -153.4711144960013,
          -153.39715186622144,
          -153.31004715455077,
          -153.20695329609015,
          -153.0870444492464,
          -152.9514736697678,
          -152.8022927560117,
          -152.6416713381419,
          -152.4713321536322,
          -152.2918907884448,
          -152.1026274315126,
          -151.9019147388759,
          -151.68783427401823,
          -151.45876224119638,
          -151.2135505494294,
          -150.95160678859395,
          -150.67284004608865,
          -150.37757444134508,
          -150.0663929987206,
          -149.7400561846968,
          -149.3993468977562,
          -149.04502439726568,
          -148.67777423353857,
          -148.29822784682634,
          -147.9069634047786,
          -147.5045483574598,
          -147.0915471675871,
          -146.66847629466707,
          -146.23589967333328,
          -145.79437226704766,
          -145.34445935446928,
          -144.88675615211122,
          -144.42186879375464,
          -143.95043138158755,
          -143.4730401130301,
          -142.9903247067552,
          -142.50281554227575,
          -142.01101581846402,
          -141.5153442606184,
          -141.01607332187024,
          -140.51337798113826,
          -140.0072460849904,
          -139.49751437159162,
          -138.98379195147353,
          -138.46543696550253,
          -137.94153482287635,
          -137.41081761191083,
          -136.87159138725707,
          -136.32162177309021,
          -135.75801009278956
         ],
         "y": [
          96.36432,
          97.69113,
          98.96521,
          100.21858,
          101.49149,
          102.83465,
          104.31025,
          105.99205,
          107.9605,
          110.28514,
          112.99677,
          116.0809,
          119.49435,
          123.18561,
          127.1144,
          131.26863,
          135.66771,
          140.35171,
          145.36669,
          150.75399,
          156.54488,
          162.75891,
          169.4047,
          176.48172,
          183.98288,
          191.89784,
          200.21538,
          208.92486,
          218.01702,
          227.48388,
          237.31828,
          247.51354,
          258.0632,
          268.96082,
          280.19986,
          291.77326,
          303.6734,
          315.89174,
          328.419,
          341.2452,
          354.35996,
          367.75308,
          381.41508,
          395.33784,
          409.5154,
          423.9448,
          438.62676,
          453.56656,
          468.7752,
          484.27028,
          500.07764,
          516.23308,
          532.7848,
          549.7966,
          567.35232,
          585.562
         ]
        }
       ],
       "layout": {
        "height": 750,
        "template": {
         "data": {
          "bar": [
           {
            "error_x": {
             "color": "#2a3f5f"
            },
            "error_y": {
             "color": "#2a3f5f"
            },
            "marker": {
             "line": {
              "color": "#E5ECF6",
              "width": 0.5
             }
            },
            "type": "bar"
           }
          ],
          "barpolar": [
           {
            "marker": {
             "line": {
              "color": "#E5ECF6",
              "width": 0.5
             }
            },
            "type": "barpolar"
           }
          ],
          "carpet": [
           {
            "aaxis": {
             "endlinecolor": "#2a3f5f",
             "gridcolor": "white",
             "linecolor": "white",
             "minorgridcolor": "white",
             "startlinecolor": "#2a3f5f"
            },
            "baxis": {
             "endlinecolor": "#2a3f5f",
             "gridcolor": "white",
             "linecolor": "white",
             "minorgridcolor": "white",
             "startlinecolor": "#2a3f5f"
            },
            "type": "carpet"
           }
          ],
          "choropleth": [
           {
            "colorbar": {
             "outlinewidth": 0,
             "ticks": ""
            },
            "type": "choropleth"
           }
          ],
          "contour": [
           {
            "colorbar": {
             "outlinewidth": 0,
             "ticks": ""
            },
            "colorscale": [
             [
              0,
              "#0d0887"
             ],
             [
              0.1111111111111111,
              "#46039f"
             ],
             [
              0.2222222222222222,
              "#7201a8"
             ],
             [
              0.3333333333333333,
              "#9c179e"
             ],
             [
              0.4444444444444444,
              "#bd3786"
             ],
             [
              0.5555555555555556,
              "#d8576b"
             ],
             [
              0.6666666666666666,
              "#ed7953"
             ],
             [
              0.7777777777777778,
              "#fb9f3a"
             ],
             [
              0.8888888888888888,
              "#fdca26"
             ],
             [
              1,
              "#f0f921"
             ]
            ],
            "type": "contour"
           }
          ],
          "contourcarpet": [
           {
            "colorbar": {
             "outlinewidth": 0,
             "ticks": ""
            },
            "type": "contourcarpet"
           }
          ],
          "heatmap": [
           {
            "colorbar": {
             "outlinewidth": 0,
             "ticks": ""
            },
            "colorscale": [
             [
              0,
              "#0d0887"
             ],
             [
              0.1111111111111111,
              "#46039f"
             ],
             [
              0.2222222222222222,
              "#7201a8"
             ],
             [
              0.3333333333333333,
              "#9c179e"
             ],
             [
              0.4444444444444444,
              "#bd3786"
             ],
             [
              0.5555555555555556,
              "#d8576b"
             ],
             [
              0.6666666666666666,
              "#ed7953"
             ],
             [
              0.7777777777777778,
              "#fb9f3a"
             ],
             [
              0.8888888888888888,
              "#fdca26"
             ],
             [
              1,
              "#f0f921"
             ]
            ],
            "type": "heatmap"
           }
          ],
          "heatmapgl": [
           {
            "colorbar": {
             "outlinewidth": 0,
             "ticks": ""
            },
            "colorscale": [
             [
              0,
              "#0d0887"
             ],
             [
              0.1111111111111111,
              "#46039f"
             ],
             [
              0.2222222222222222,
              "#7201a8"
             ],
             [
              0.3333333333333333,
              "#9c179e"
             ],
             [
              0.4444444444444444,
              "#bd3786"
             ],
             [
              0.5555555555555556,
              "#d8576b"
             ],
             [
              0.6666666666666666,
              "#ed7953"
             ],
             [
              0.7777777777777778,
              "#fb9f3a"
             ],
             [
              0.8888888888888888,
              "#fdca26"
             ],
             [
              1,
              "#f0f921"
             ]
            ],
            "type": "heatmapgl"
           }
          ],
          "histogram": [
           {
            "marker": {
             "colorbar": {
              "outlinewidth": 0,
              "ticks": ""
             }
            },
            "type": "histogram"
           }
          ],
          "histogram2d": [
           {
            "colorbar": {
             "outlinewidth": 0,
             "ticks": ""
            },
            "colorscale": [
             [
              0,
              "#0d0887"
             ],
             [
              0.1111111111111111,
              "#46039f"
             ],
             [
              0.2222222222222222,
              "#7201a8"
             ],
             [
              0.3333333333333333,
              "#9c179e"
             ],
             [
              0.4444444444444444,
              "#bd3786"
             ],
             [
              0.5555555555555556,
              "#d8576b"
             ],
             [
              0.6666666666666666,
              "#ed7953"
             ],
             [
              0.7777777777777778,
              "#fb9f3a"
             ],
             [
              0.8888888888888888,
              "#fdca26"
             ],
             [
              1,
              "#f0f921"
             ]
            ],
            "type": "histogram2d"
           }
          ],
          "histogram2dcontour": [
           {
            "colorbar": {
             "outlinewidth": 0,
             "ticks": ""
            },
            "colorscale": [
             [
              0,
              "#0d0887"
             ],
             [
              0.1111111111111111,
              "#46039f"
             ],
             [
              0.2222222222222222,
              "#7201a8"
             ],
             [
              0.3333333333333333,
              "#9c179e"
             ],
             [
              0.4444444444444444,
              "#bd3786"
             ],
             [
              0.5555555555555556,
              "#d8576b"
             ],
             [
              0.6666666666666666,
              "#ed7953"
             ],
             [
              0.7777777777777778,
              "#fb9f3a"
             ],
             [
              0.8888888888888888,
              "#fdca26"
             ],
             [
              1,
              "#f0f921"
             ]
            ],
            "type": "histogram2dcontour"
           }
          ],
          "mesh3d": [
           {
            "colorbar": {
             "outlinewidth": 0,
             "ticks": ""
            },
            "type": "mesh3d"
           }
          ],
          "parcoords": [
           {
            "line": {
             "colorbar": {
              "outlinewidth": 0,
              "ticks": ""
             }
            },
            "type": "parcoords"
           }
          ],
          "pie": [
           {
            "automargin": true,
            "type": "pie"
           }
          ],
          "scatter": [
           {
            "marker": {
             "colorbar": {
              "outlinewidth": 0,
              "ticks": ""
             }
            },
            "type": "scatter"
           }
          ],
          "scatter3d": [
           {
            "line": {
             "colorbar": {
              "outlinewidth": 0,
              "ticks": ""
             }
            },
            "marker": {
             "colorbar": {
              "outlinewidth": 0,
              "ticks": ""
             }
            },
            "type": "scatter3d"
           }
          ],
          "scattercarpet": [
           {
            "marker": {
             "colorbar": {
              "outlinewidth": 0,
              "ticks": ""
             }
            },
            "type": "scattercarpet"
           }
          ],
          "scattergeo": [
           {
            "marker": {
             "colorbar": {
              "outlinewidth": 0,
              "ticks": ""
             }
            },
            "type": "scattergeo"
           }
          ],
          "scattergl": [
           {
            "marker": {
             "colorbar": {
              "outlinewidth": 0,
              "ticks": ""
             }
            },
            "type": "scattergl"
           }
          ],
          "scattermapbox": [
           {
            "marker": {
             "colorbar": {
              "outlinewidth": 0,
              "ticks": ""
             }
            },
            "type": "scattermapbox"
           }
          ],
          "scatterpolar": [
           {
            "marker": {
             "colorbar": {
              "outlinewidth": 0,
              "ticks": ""
             }
            },
            "type": "scatterpolar"
           }
          ],
          "scatterpolargl": [
           {
            "marker": {
             "colorbar": {
              "outlinewidth": 0,
              "ticks": ""
             }
            },
            "type": "scatterpolargl"
           }
          ],
          "scatterternary": [
           {
            "marker": {
             "colorbar": {
              "outlinewidth": 0,
              "ticks": ""
             }
            },
            "type": "scatterternary"
           }
          ],
          "surface": [
           {
            "colorbar": {
             "outlinewidth": 0,
             "ticks": ""
            },
            "colorscale": [
             [
              0,
              "#0d0887"
             ],
             [
              0.1111111111111111,
              "#46039f"
             ],
             [
              0.2222222222222222,
              "#7201a8"
             ],
             [
              0.3333333333333333,
              "#9c179e"
             ],
             [
              0.4444444444444444,
              "#bd3786"
             ],
             [
              0.5555555555555556,
              "#d8576b"
             ],
             [
              0.6666666666666666,
              "#ed7953"
             ],
             [
              0.7777777777777778,
              "#fb9f3a"
             ],
             [
              0.8888888888888888,
              "#fdca26"
             ],
             [
              1,
              "#f0f921"
             ]
            ],
            "type": "surface"
           }
          ],
          "table": [
           {
            "cells": {
             "fill": {
              "color": "#EBF0F8"
             },
             "line": {
              "color": "white"
             }
            },
            "header": {
             "fill": {
              "color": "#C8D4E3"
             },
             "line": {
              "color": "white"
             }
            },
            "type": "table"
           }
          ]
         },
         "layout": {
          "annotationdefaults": {
           "arrowcolor": "#2a3f5f",
           "arrowhead": 0,
           "arrowwidth": 1
          },
          "coloraxis": {
           "colorbar": {
            "outlinewidth": 0,
            "ticks": ""
           }
          },
          "colorscale": {
           "diverging": [
            [
             0,
             "#8e0152"
            ],
            [
             0.1,
             "#c51b7d"
            ],
            [
             0.2,
             "#de77ae"
            ],
            [
             0.3,
             "#f1b6da"
            ],
            [
             0.4,
             "#fde0ef"
            ],
            [
             0.5,
             "#f7f7f7"
            ],
            [
             0.6,
             "#e6f5d0"
            ],
            [
             0.7,
             "#b8e186"
            ],
            [
             0.8,
             "#7fbc41"
            ],
            [
             0.9,
             "#4d9221"
            ],
            [
             1,
             "#276419"
            ]
           ],
           "sequential": [
            [
             0,
             "#0d0887"
            ],
            [
             0.1111111111111111,
             "#46039f"
            ],
            [
             0.2222222222222222,
             "#7201a8"
            ],
            [
             0.3333333333333333,
             "#9c179e"
            ],
            [
             0.4444444444444444,
             "#bd3786"
            ],
            [
             0.5555555555555556,
             "#d8576b"
            ],
            [
             0.6666666666666666,
             "#ed7953"
            ],
            [
             0.7777777777777778,
             "#fb9f3a"
            ],
            [
             0.8888888888888888,
             "#fdca26"
            ],
            [
             1,
             "#f0f921"
            ]
           ],
           "sequentialminus": [
            [
             0,
             "#0d0887"
            ],
            [
             0.1111111111111111,
             "#46039f"
            ],
            [
             0.2222222222222222,
             "#7201a8"
            ],
            [
             0.3333333333333333,
             "#9c179e"
            ],
            [
             0.4444444444444444,
             "#bd3786"
            ],
            [
             0.5555555555555556,
             "#d8576b"
            ],
            [
             0.6666666666666666,
             "#ed7953"
            ],
            [
             0.7777777777777778,
             "#fb9f3a"
            ],
            [
             0.8888888888888888,
             "#fdca26"
            ],
            [
             1,
             "#f0f921"
            ]
           ]
          },
          "colorway": [
           "#636efa",
           "#EF553B",
           "#00cc96",
           "#ab63fa",
           "#FFA15A",
           "#19d3f3",
           "#FF6692",
           "#B6E880",
           "#FF97FF",
           "#FECB52"
          ],
          "font": {
           "color": "#2a3f5f"
          },
          "geo": {
           "bgcolor": "white",
           "lakecolor": "white",
           "landcolor": "#E5ECF6",
           "showlakes": true,
           "showland": true,
           "subunitcolor": "white"
          },
          "hoverlabel": {
           "align": "left"
          },
          "hovermode": "closest",
          "mapbox": {
           "style": "light"
          },
          "paper_bgcolor": "white",
          "plot_bgcolor": "#E5ECF6",
          "polar": {
           "angularaxis": {
            "gridcolor": "white",
            "linecolor": "white",
            "ticks": ""
           },
           "bgcolor": "#E5ECF6",
           "radialaxis": {
            "gridcolor": "white",
            "linecolor": "white",
            "ticks": ""
           }
          },
          "scene": {
           "xaxis": {
            "backgroundcolor": "#E5ECF6",
            "gridcolor": "white",
            "gridwidth": 2,
            "linecolor": "white",
            "showbackground": true,
            "ticks": "",
            "zerolinecolor": "white"
           },
           "yaxis": {
            "backgroundcolor": "#E5ECF6",
            "gridcolor": "white",
            "gridwidth": 2,
            "linecolor": "white",
            "showbackground": true,
            "ticks": "",
            "zerolinecolor": "white"
           },
           "zaxis": {
            "backgroundcolor": "#E5ECF6",
            "gridcolor": "white",
            "gridwidth": 2,
            "linecolor": "white",
            "showbackground": true,
            "ticks": "",
            "zerolinecolor": "white"
           }
          },
          "shapedefaults": {
           "line": {
            "color": "#2a3f5f"
           }
          },
          "ternary": {
           "aaxis": {
            "gridcolor": "white",
            "linecolor": "white",
            "ticks": ""
           },
           "baxis": {
            "gridcolor": "white",
            "linecolor": "white",
            "ticks": ""
           },
           "bgcolor": "#E5ECF6",
           "caxis": {
            "gridcolor": "white",
            "linecolor": "white",
            "ticks": ""
           }
          },
          "title": {
           "x": 0.05
          },
          "xaxis": {
           "automargin": true,
           "gridcolor": "white",
           "linecolor": "white",
           "ticks": "",
           "title": {
            "standoff": 15
           },
           "zerolinecolor": "white",
           "zerolinewidth": 2
          },
          "yaxis": {
           "automargin": true,
           "gridcolor": "white",
           "linecolor": "white",
           "ticks": "",
           "title": {
            "standoff": 15
           },
           "zerolinecolor": "white",
           "zerolinewidth": 2
          }
         }
        },
        "title": {
         "text": "Velocities ",
         "x": 0.5,
         "xanchor": "center",
         "y": 0.9,
         "yanchor": "top"
        },
        "width": 750,
        "xaxis": {
         "exponentformat": "power",
         "gridcolor": "grey",
         "gridwidth": 0.5,
         "linecolor": "black",
         "linewidth": 2,
         "mirror": true,
         "showexponent": "all",
         "showgrid": true,
         "showline": true,
         "title": {
          "text": "$m/s$"
         }
        },
        "yaxis": {
         "dtick": 20,
         "gridcolor": "grey",
         "gridwidth": 0.5,
         "linecolor": "black",
         "linewidth": 2,
         "mirror": true,
         "showgrid": true,
         "showline": true,
         "tick0": 60,
         "title": {
          "text": "Altitude (km)"
         }
        }
       }
      },
      "text/html": [
       "<div>\n",
       "        \n",
       "        \n",
       "            <div id=\"df27b0c7-ff0b-48ef-96eb-c4108ae43ea1\" class=\"plotly-graph-div\" style=\"height:750px; width:750px;\"></div>\n",
       "            <script type=\"text/javascript\">\n",
       "                require([\"plotly\"], function(Plotly) {\n",
       "                    window.PLOTLYENV=window.PLOTLYENV || {};\n",
       "                    \n",
       "                if (document.getElementById(\"df27b0c7-ff0b-48ef-96eb-c4108ae43ea1\")) {\n",
       "                    Plotly.newPlot(\n",
       "                        'df27b0c7-ff0b-48ef-96eb-c4108ae43ea1',\n",
       "                        [{\"marker\": {\"color\": \"blue\"}, \"mode\": \"lines\", \"name\": \"Perpendicular Ion velocity (y)\", \"type\": \"scatter\", \"x\": [1.2135774030761477, 0.7252830128833622, 0.3705185405675594, -0.007434804110599824, -0.14733142505764518, 0.44449704161500314, 2.0548300330885167, 3.726891300127722, 1.8910423069513485, -9.629019266334026, -35.296529730469544, -71.01081540075897, -105.55559410384491, -130.7615829380405, -145.32601029538884, -151.99909747893477, -154.2008830471794, -154.35037680059582, -153.78740234140602, -153.12269124957197, -152.5494345883666, -152.06943722763592, -151.63431261709343, -151.2084038416876, -150.77646097837206, -150.33596635447668, -149.8904310973506, -149.44434732905833, -149.00040534153115, -148.55905262640442, -148.11907266073973, -147.67851105218483, -147.2354174567274, -146.78820848748464, -146.3358821458061, -145.8779086456342, -145.41413121700387, -144.94466608388328, -144.4697893746723, -143.98989042282486, -143.505367525719, -143.01667881826413, -142.5241999928258, -142.02829299431784, -141.52924811449023, -141.02722244474998, -140.52228893942424, -140.01434662710673, -139.50315605064557, -138.98826181254975, -138.4689680694771, -137.94431550145694, -137.41299945520387, -136.8732960268898, -136.32294656819047, -135.75903291567278], \"y\": [96.36432, 97.69113, 98.96521, 100.21858, 101.49149, 102.83465, 104.31025, 105.99205, 107.9605, 110.28514, 112.99677, 116.0809, 119.49435, 123.18561, 127.1144, 131.26863, 135.66771, 140.35171, 145.36669, 150.75399, 156.54488, 162.75891, 169.4047, 176.48172, 183.98288, 191.89784, 200.21538, 208.92486, 218.01702, 227.48388, 237.31828, 247.51354, 258.0632, 268.96082, 280.19986, 291.77326, 303.6734, 315.89174, 328.419, 341.2452, 354.35996, 367.75308, 381.41508, 395.33784, 409.5154, 423.9448, 438.62676, 453.56656, 468.7752, 484.27028, 500.07764, 516.23308, 532.7848, 549.7966, 567.35232, 585.562]}, {\"marker\": {\"color\": \"green\"}, \"mode\": \"lines\", \"name\": \"Perpendicular Neutral velocity (y)\", \"type\": \"scatter\", \"x\": [1.5714469115914402, 1.188404112130332, 0.9978338113771881, 0.920674112690699, 1.3821107061529836, 3.2234567926323665, 7.443661371518581, 14.437023476674606, 22.816946463900702, 28.602342870025247, 26.426026276440272, 13.689831755647589, -5.740464580873803, -24.66942536783412, -37.954600268475296, -43.94174744303768, -43.6423291035189, -39.29485012888195, -33.20767274497955, -27.045888986824284, -21.644871374935256, -17.21163345693929, -13.569454995673922, -10.470454196512053, -7.833513342970114, -5.661016165653921, -3.905147201924713, -2.423874343275735, -0.9959120831230405, 0.6164046486834445, 2.5978966886453407, 5.040583852156288, 7.941114207423791, 11.22297360846594, 14.767033368032196, 18.43942183392396, 22.112053830835247, 25.675232658460796, 29.04359687849813, 32.15723156430584, 34.979698977598204, 37.49444417393875, 39.70059811654201, 41.60883088988244, 43.23766359276232, 44.61039558522049, 45.7526738910545, 46.69068034618483, 47.44985423498895, 48.05401749849475, 48.52487323294573, 48.88172376429396, 49.141406788614574, 49.31826802286172, 49.42426988441492, 49.46909882738168], \"y\": [96.36432, 97.69113, 98.96521, 100.21858, 101.49149, 102.83465, 104.31025, 105.99205, 107.9605, 110.28514, 112.99677, 116.0809, 119.49435, 123.18561, 127.1144, 131.26863, 135.66771, 140.35171, 145.36669, 150.75399, 156.54488, 162.75891, 169.4047, 176.48172, 183.98288, 191.89784, 200.21538, 208.92486, 218.01702, 227.48388, 237.31828, 247.51354, 258.0632, 268.96082, 280.19986, 291.77326, 303.6734, 315.89174, 328.419, 341.2452, 354.35996, 367.75308, 381.41508, 395.33784, 409.5154, 423.9448, 438.62676, 453.56656, 468.7752, 484.27028, 500.07764, 516.23308, 532.7848, 549.7966, 567.35232, 585.562]}, {\"marker\": {\"color\": \"red\"}, \"mode\": \"lines\", \"name\": \"ExB drift velocity (y)\", \"type\": \"scatter\", \"x\": [-153.821196546917, -153.76228601566288, -153.70578173475607, -153.65041375380912, -153.5944799874752, -153.53569589916353, -153.4711144960013, -153.39715186622144, -153.31004715455077, -153.20695329609015, -153.0870444492464, -152.9514736697678, -152.8022927560117, -152.6416713381419, -152.4713321536322, -152.2918907884448, -152.1026274315126, -151.9019147388759, -151.68783427401823, -151.45876224119638, -151.2135505494294, -150.95160678859395, -150.67284004608865, -150.37757444134508, -150.0663929987206, -149.7400561846968, -149.3993468977562, -149.04502439726568, -148.67777423353857, -148.29822784682634, -147.9069634047786, -147.5045483574598, -147.0915471675871, -146.66847629466707, -146.23589967333328, -145.79437226704766, -145.34445935446928, -144.88675615211122, -144.42186879375464, -143.95043138158755, -143.4730401130301, -142.9903247067552, -142.50281554227575, -142.01101581846402, -141.5153442606184, -141.01607332187024, -140.51337798113826, -140.0072460849904, -139.49751437159162, -138.98379195147353, -138.46543696550253, -137.94153482287635, -137.41081761191083, -136.87159138725707, -136.32162177309021, -135.75801009278956], \"y\": [96.36432, 97.69113, 98.96521, 100.21858, 101.49149, 102.83465, 104.31025, 105.99205, 107.9605, 110.28514, 112.99677, 116.0809, 119.49435, 123.18561, 127.1144, 131.26863, 135.66771, 140.35171, 145.36669, 150.75399, 156.54488, 162.75891, 169.4047, 176.48172, 183.98288, 191.89784, 200.21538, 208.92486, 218.01702, 227.48388, 237.31828, 247.51354, 258.0632, 268.96082, 280.19986, 291.77326, 303.6734, 315.89174, 328.419, 341.2452, 354.35996, 367.75308, 381.41508, 395.33784, 409.5154, 423.9448, 438.62676, 453.56656, 468.7752, 484.27028, 500.07764, 516.23308, 532.7848, 549.7966, 567.35232, 585.562]}],\n",
       "                        {\"height\": 750, \"template\": {\"data\": {\"bar\": [{\"error_x\": {\"color\": \"#2a3f5f\"}, \"error_y\": {\"color\": \"#2a3f5f\"}, \"marker\": {\"line\": {\"color\": \"#E5ECF6\", \"width\": 0.5}}, \"type\": \"bar\"}], \"barpolar\": [{\"marker\": {\"line\": {\"color\": \"#E5ECF6\", \"width\": 0.5}}, \"type\": \"barpolar\"}], \"carpet\": [{\"aaxis\": {\"endlinecolor\": \"#2a3f5f\", \"gridcolor\": \"white\", \"linecolor\": \"white\", \"minorgridcolor\": \"white\", \"startlinecolor\": \"#2a3f5f\"}, \"baxis\": {\"endlinecolor\": \"#2a3f5f\", \"gridcolor\": \"white\", \"linecolor\": \"white\", \"minorgridcolor\": \"white\", \"startlinecolor\": \"#2a3f5f\"}, \"type\": \"carpet\"}], \"choropleth\": [{\"colorbar\": {\"outlinewidth\": 0, \"ticks\": \"\"}, \"type\": \"choropleth\"}], \"contour\": [{\"colorbar\": {\"outlinewidth\": 0, \"ticks\": \"\"}, \"colorscale\": [[0.0, \"#0d0887\"], [0.1111111111111111, \"#46039f\"], [0.2222222222222222, \"#7201a8\"], [0.3333333333333333, \"#9c179e\"], [0.4444444444444444, \"#bd3786\"], [0.5555555555555556, \"#d8576b\"], [0.6666666666666666, \"#ed7953\"], [0.7777777777777778, \"#fb9f3a\"], [0.8888888888888888, \"#fdca26\"], [1.0, \"#f0f921\"]], \"type\": \"contour\"}], \"contourcarpet\": [{\"colorbar\": {\"outlinewidth\": 0, \"ticks\": \"\"}, \"type\": \"contourcarpet\"}], \"heatmap\": [{\"colorbar\": {\"outlinewidth\": 0, \"ticks\": \"\"}, \"colorscale\": [[0.0, \"#0d0887\"], [0.1111111111111111, \"#46039f\"], [0.2222222222222222, \"#7201a8\"], [0.3333333333333333, \"#9c179e\"], [0.4444444444444444, \"#bd3786\"], [0.5555555555555556, \"#d8576b\"], [0.6666666666666666, \"#ed7953\"], [0.7777777777777778, \"#fb9f3a\"], [0.8888888888888888, \"#fdca26\"], [1.0, \"#f0f921\"]], \"type\": \"heatmap\"}], \"heatmapgl\": [{\"colorbar\": {\"outlinewidth\": 0, \"ticks\": \"\"}, \"colorscale\": [[0.0, \"#0d0887\"], [0.1111111111111111, \"#46039f\"], [0.2222222222222222, \"#7201a8\"], [0.3333333333333333, \"#9c179e\"], [0.4444444444444444, \"#bd3786\"], [0.5555555555555556, \"#d8576b\"], [0.6666666666666666, \"#ed7953\"], [0.7777777777777778, \"#fb9f3a\"], [0.8888888888888888, \"#fdca26\"], [1.0, \"#f0f921\"]], \"type\": \"heatmapgl\"}], \"histogram\": [{\"marker\": {\"colorbar\": {\"outlinewidth\": 0, \"ticks\": \"\"}}, \"type\": \"histogram\"}], \"histogram2d\": [{\"colorbar\": {\"outlinewidth\": 0, \"ticks\": \"\"}, \"colorscale\": [[0.0, \"#0d0887\"], [0.1111111111111111, \"#46039f\"], [0.2222222222222222, \"#7201a8\"], [0.3333333333333333, \"#9c179e\"], [0.4444444444444444, \"#bd3786\"], [0.5555555555555556, \"#d8576b\"], [0.6666666666666666, \"#ed7953\"], [0.7777777777777778, \"#fb9f3a\"], [0.8888888888888888, \"#fdca26\"], [1.0, \"#f0f921\"]], \"type\": \"histogram2d\"}], \"histogram2dcontour\": [{\"colorbar\": {\"outlinewidth\": 0, \"ticks\": \"\"}, \"colorscale\": [[0.0, \"#0d0887\"], [0.1111111111111111, \"#46039f\"], [0.2222222222222222, \"#7201a8\"], [0.3333333333333333, \"#9c179e\"], [0.4444444444444444, \"#bd3786\"], [0.5555555555555556, \"#d8576b\"], [0.6666666666666666, \"#ed7953\"], [0.7777777777777778, \"#fb9f3a\"], [0.8888888888888888, \"#fdca26\"], [1.0, \"#f0f921\"]], \"type\": \"histogram2dcontour\"}], \"mesh3d\": [{\"colorbar\": {\"outlinewidth\": 0, \"ticks\": \"\"}, \"type\": \"mesh3d\"}], \"parcoords\": [{\"line\": {\"colorbar\": {\"outlinewidth\": 0, \"ticks\": \"\"}}, \"type\": \"parcoords\"}], \"pie\": [{\"automargin\": true, \"type\": \"pie\"}], \"scatter\": [{\"marker\": {\"colorbar\": {\"outlinewidth\": 0, \"ticks\": \"\"}}, \"type\": \"scatter\"}], \"scatter3d\": [{\"line\": {\"colorbar\": {\"outlinewidth\": 0, \"ticks\": \"\"}}, \"marker\": {\"colorbar\": {\"outlinewidth\": 0, \"ticks\": \"\"}}, \"type\": \"scatter3d\"}], \"scattercarpet\": [{\"marker\": {\"colorbar\": {\"outlinewidth\": 0, \"ticks\": \"\"}}, \"type\": \"scattercarpet\"}], \"scattergeo\": [{\"marker\": {\"colorbar\": {\"outlinewidth\": 0, \"ticks\": \"\"}}, \"type\": \"scattergeo\"}], \"scattergl\": [{\"marker\": {\"colorbar\": {\"outlinewidth\": 0, \"ticks\": \"\"}}, \"type\": \"scattergl\"}], \"scattermapbox\": [{\"marker\": {\"colorbar\": {\"outlinewidth\": 0, \"ticks\": \"\"}}, \"type\": \"scattermapbox\"}], \"scatterpolar\": [{\"marker\": {\"colorbar\": {\"outlinewidth\": 0, \"ticks\": \"\"}}, \"type\": \"scatterpolar\"}], \"scatterpolargl\": [{\"marker\": {\"colorbar\": {\"outlinewidth\": 0, \"ticks\": \"\"}}, \"type\": \"scatterpolargl\"}], \"scatterternary\": [{\"marker\": {\"colorbar\": {\"outlinewidth\": 0, \"ticks\": \"\"}}, \"type\": \"scatterternary\"}], \"surface\": [{\"colorbar\": {\"outlinewidth\": 0, \"ticks\": \"\"}, \"colorscale\": [[0.0, \"#0d0887\"], [0.1111111111111111, \"#46039f\"], [0.2222222222222222, \"#7201a8\"], [0.3333333333333333, \"#9c179e\"], [0.4444444444444444, \"#bd3786\"], [0.5555555555555556, \"#d8576b\"], [0.6666666666666666, \"#ed7953\"], [0.7777777777777778, \"#fb9f3a\"], [0.8888888888888888, \"#fdca26\"], [1.0, \"#f0f921\"]], \"type\": \"surface\"}], \"table\": [{\"cells\": {\"fill\": {\"color\": \"#EBF0F8\"}, \"line\": {\"color\": \"white\"}}, \"header\": {\"fill\": {\"color\": \"#C8D4E3\"}, \"line\": {\"color\": \"white\"}}, \"type\": \"table\"}]}, \"layout\": {\"annotationdefaults\": {\"arrowcolor\": \"#2a3f5f\", \"arrowhead\": 0, \"arrowwidth\": 1}, \"coloraxis\": {\"colorbar\": {\"outlinewidth\": 0, \"ticks\": \"\"}}, \"colorscale\": {\"diverging\": [[0, \"#8e0152\"], [0.1, \"#c51b7d\"], [0.2, \"#de77ae\"], [0.3, \"#f1b6da\"], [0.4, \"#fde0ef\"], [0.5, \"#f7f7f7\"], [0.6, \"#e6f5d0\"], [0.7, \"#b8e186\"], [0.8, \"#7fbc41\"], [0.9, \"#4d9221\"], [1, \"#276419\"]], \"sequential\": [[0.0, \"#0d0887\"], [0.1111111111111111, \"#46039f\"], [0.2222222222222222, \"#7201a8\"], [0.3333333333333333, \"#9c179e\"], [0.4444444444444444, \"#bd3786\"], [0.5555555555555556, \"#d8576b\"], [0.6666666666666666, \"#ed7953\"], [0.7777777777777778, \"#fb9f3a\"], [0.8888888888888888, \"#fdca26\"], [1.0, \"#f0f921\"]], \"sequentialminus\": [[0.0, \"#0d0887\"], [0.1111111111111111, \"#46039f\"], [0.2222222222222222, \"#7201a8\"], [0.3333333333333333, \"#9c179e\"], [0.4444444444444444, \"#bd3786\"], [0.5555555555555556, \"#d8576b\"], [0.6666666666666666, \"#ed7953\"], [0.7777777777777778, \"#fb9f3a\"], [0.8888888888888888, \"#fdca26\"], [1.0, \"#f0f921\"]]}, \"colorway\": [\"#636efa\", \"#EF553B\", \"#00cc96\", \"#ab63fa\", \"#FFA15A\", \"#19d3f3\", \"#FF6692\", \"#B6E880\", \"#FF97FF\", \"#FECB52\"], \"font\": {\"color\": \"#2a3f5f\"}, \"geo\": {\"bgcolor\": \"white\", \"lakecolor\": \"white\", \"landcolor\": \"#E5ECF6\", \"showlakes\": true, \"showland\": true, \"subunitcolor\": \"white\"}, \"hoverlabel\": {\"align\": \"left\"}, \"hovermode\": \"closest\", \"mapbox\": {\"style\": \"light\"}, \"paper_bgcolor\": \"white\", \"plot_bgcolor\": \"#E5ECF6\", \"polar\": {\"angularaxis\": {\"gridcolor\": \"white\", \"linecolor\": \"white\", \"ticks\": \"\"}, \"bgcolor\": \"#E5ECF6\", \"radialaxis\": {\"gridcolor\": \"white\", \"linecolor\": \"white\", \"ticks\": \"\"}}, \"scene\": {\"xaxis\": {\"backgroundcolor\": \"#E5ECF6\", \"gridcolor\": \"white\", \"gridwidth\": 2, \"linecolor\": \"white\", \"showbackground\": true, \"ticks\": \"\", \"zerolinecolor\": \"white\"}, \"yaxis\": {\"backgroundcolor\": \"#E5ECF6\", \"gridcolor\": \"white\", \"gridwidth\": 2, \"linecolor\": \"white\", \"showbackground\": true, \"ticks\": \"\", \"zerolinecolor\": \"white\"}, \"zaxis\": {\"backgroundcolor\": \"#E5ECF6\", \"gridcolor\": \"white\", \"gridwidth\": 2, \"linecolor\": \"white\", \"showbackground\": true, \"ticks\": \"\", \"zerolinecolor\": \"white\"}}, \"shapedefaults\": {\"line\": {\"color\": \"#2a3f5f\"}}, \"ternary\": {\"aaxis\": {\"gridcolor\": \"white\", \"linecolor\": \"white\", \"ticks\": \"\"}, \"baxis\": {\"gridcolor\": \"white\", \"linecolor\": \"white\", \"ticks\": \"\"}, \"bgcolor\": \"#E5ECF6\", \"caxis\": {\"gridcolor\": \"white\", \"linecolor\": \"white\", \"ticks\": \"\"}}, \"title\": {\"x\": 0.05}, \"xaxis\": {\"automargin\": true, \"gridcolor\": \"white\", \"linecolor\": \"white\", \"ticks\": \"\", \"title\": {\"standoff\": 15}, \"zerolinecolor\": \"white\", \"zerolinewidth\": 2}, \"yaxis\": {\"automargin\": true, \"gridcolor\": \"white\", \"linecolor\": \"white\", \"ticks\": \"\", \"title\": {\"standoff\": 15}, \"zerolinecolor\": \"white\", \"zerolinewidth\": 2}}}, \"title\": {\"text\": \"Velocities \", \"x\": 0.5, \"xanchor\": \"center\", \"y\": 0.9, \"yanchor\": \"top\"}, \"width\": 750, \"xaxis\": {\"exponentformat\": \"power\", \"gridcolor\": \"grey\", \"gridwidth\": 0.5, \"linecolor\": \"black\", \"linewidth\": 2, \"mirror\": true, \"showexponent\": \"all\", \"showgrid\": true, \"showline\": true, \"title\": {\"text\": \"$m/s$\"}}, \"yaxis\": {\"dtick\": 20, \"gridcolor\": \"grey\", \"gridwidth\": 0.5, \"linecolor\": \"black\", \"linewidth\": 2, \"mirror\": true, \"showgrid\": true, \"showline\": true, \"tick0\": 60, \"title\": {\"text\": \"Altitude (km)\"}}},\n",
       "                        {\"responsive\": true}\n",
       "                    ).then(function(){\n",
       "                            \n",
       "var gd = document.getElementById('df27b0c7-ff0b-48ef-96eb-c4108ae43ea1');\n",
       "var x = new MutationObserver(function (mutations, observer) {{\n",
       "        var display = window.getComputedStyle(gd).display;\n",
       "        if (!display || display === 'none') {{\n",
       "            console.log([gd, 'removed!']);\n",
       "            Plotly.purge(gd);\n",
       "            observer.disconnect();\n",
       "        }}\n",
       "}});\n",
       "\n",
       "// Listen for the removal of the full notebook cells\n",
       "var notebookContainer = gd.closest('#notebook-container');\n",
       "if (notebookContainer) {{\n",
       "    x.observe(notebookContainer, {childList: true});\n",
       "}}\n",
       "\n",
       "// Listen for the clearing of the current output cell\n",
       "var outputEl = gd.closest('.output');\n",
       "if (outputEl) {{\n",
       "    x.observe(outputEl, {childList: true});\n",
       "}}\n",
       "\n",
       "                        })\n",
       "                };\n",
       "                });\n",
       "            </script>\n",
       "        </div>"
      ]
     },
     "metadata": {},
     "output_type": "display_data"
    },
    {
     "data": {
      "application/vnd.plotly.v1+json": {
       "config": {
        "plotlyServerURL": "https://plot.ly"
       },
       "data": [
        {
         "marker": {
          "color": "blue"
         },
         "mode": "lines",
         "name": "Perpendicular Ion velocity (z)",
         "type": "scatter",
         "x": [
          -0.3782645251513156,
          -0.35242503666805375,
          -0.3805776384626105,
          -0.4943891408226032,
          -0.7965877875880331,
          -1.4271991262116823,
          -2.4772241395235346,
          -3.798207492876572,
          -4.749377704550881,
          -4.0983434543090675,
          -0.6172631913691431,
          5.502908091251863,
          12.294726092149526,
          17.843842378909677,
          21.501906242288904,
          23.566383841017945,
          24.62501097163573,
          25.157087254633158,
          25.450627855318526,
          25.64554765779786,
          25.7942565102661,
          25.909325159381424,
          25.99200277686045,
          26.044337232116334,
          26.071182154352584,
          26.077896661693263,
          26.069359624659263,
          26.049499558633446,
          26.021184663731148,
          25.986392602096867,
          25.946441090020055,
          25.902204749963317,
          25.854278635434774,
          25.803081282577526,
          25.74893809712182,
          25.692108836840973,
          25.632810360928985,
          25.57123139286294,
          25.507536105947437,
          25.441872724651745,
          25.374366801265587,
          25.305137690641484,
          25.234279190182775,
          25.16187492467914,
          25.08799063346246,
          25.012665092892952,
          24.935919761321706,
          24.857743451019587,
          24.778098611238345,
          24.696907695910852,
          24.614048203912205,
          24.5293473065387,
          24.442566078079423,
          24.353384347227816,
          24.261376785107185,
          24.165986511588393
         ],
         "y": [
          96.36432,
          97.69113,
          98.96521,
          100.21858,
          101.49149,
          102.83465,
          104.31025,
          105.99205,
          107.9605,
          110.28514,
          112.99677,
          116.0809,
          119.49435,
          123.18561,
          127.1144,
          131.26863,
          135.66771,
          140.35171,
          145.36669,
          150.75399,
          156.54488,
          162.75891,
          169.4047,
          176.48172,
          183.98288,
          191.89784,
          200.21538,
          208.92486,
          218.01702,
          227.48388,
          237.31828,
          247.51354,
          258.0632,
          268.96082,
          280.19986,
          291.77326,
          303.6734,
          315.89174,
          328.419,
          341.2452,
          354.35996,
          367.75308,
          381.41508,
          395.33784,
          409.5154,
          423.9448,
          438.62676,
          453.56656,
          468.7752,
          484.27028,
          500.07764,
          516.23308,
          532.7848,
          549.7966,
          567.35232,
          585.562
         ]
        },
        {
         "marker": {
          "color": "green"
         },
         "mode": "lines",
         "name": "Perpendicular Neutral velocity (z)",
         "type": "scatter",
         "x": [
          -0.19198006599561707,
          -0.12817619236932246,
          -0.10645657537754402,
          -0.15832036617895776,
          -0.3902984814913456,
          -0.9597704958527142,
          -2.010347173448409,
          -3.5316210690813996,
          -5.203732395455857,
          -6.333366346957669,
          -6.039043206695573,
          -3.905836831928058,
          -0.6645179148483144,
          2.4181451716958584,
          4.557555144118364,
          5.5648478266100065,
          5.635173193318006,
          5.128756930385037,
          4.383767951866912,
          3.6101597736874487,
          2.8909635378188403,
          2.2410360909165004,
          1.6461727947105482,
          1.0953166290597114,
          0.6050712473902432,
          0.1990045895270014,
          -0.11978936481593827,
          -0.3759913542754256,
          -0.6151994785613009,
          -0.8884415244579282,
          -1.236314509888552,
          -1.6798200055202734,
          -2.2194866636514616,
          -2.8400325366818677,
          -3.5169409632297866,
          -4.222478567338534,
          -4.930095745578477,
          -5.6170915291379995,
          -6.265842270209217,
          -6.864004511068351,
          -7.404079316535933,
          -7.882649567944252,
          -8.299504543301806,
          -8.656783946429577,
          -8.958219656274245,
          -9.208507175859255,
          -9.412809171825018,
          -9.576387088943173,
          -9.704340558727221,
          -9.801430940459989,
          -9.871979242324983,
          -9.919809792717952,
          -9.948235674400655,
          -9.960054223069932,
          -9.957565473434304,
          -9.942590473059356
         ],
         "y": [
          96.36432,
          97.69113,
          98.96521,
          100.21858,
          101.49149,
          102.83465,
          104.31025,
          105.99205,
          107.9605,
          110.28514,
          112.99677,
          116.0809,
          119.49435,
          123.18561,
          127.1144,
          131.26863,
          135.66771,
          140.35171,
          145.36669,
          150.75399,
          156.54488,
          162.75891,
          169.4047,
          176.48172,
          183.98288,
          191.89784,
          200.21538,
          208.92486,
          218.01702,
          227.48388,
          237.31828,
          247.51354,
          258.0632,
          268.96082,
          280.19986,
          291.77326,
          303.6734,
          315.89174,
          328.419,
          341.2452,
          354.35996,
          367.75308,
          381.41508,
          395.33784,
          409.5154,
          423.9448,
          438.62676,
          453.56656,
          468.7752,
          484.27028,
          500.07764,
          516.23308,
          532.7848,
          549.7966,
          567.35232,
          585.562
         ]
        },
        {
         "marker": {
          "color": "red"
         },
         "mode": "lines",
         "name": "ExB drift velocity (z)",
         "type": "scatter",
         "x": [
          26.688028409899964,
          26.681528306035794,
          26.67528386977995,
          26.66915384951081,
          26.662951396092506,
          26.656421767693775,
          26.64923715420089,
          26.640995548968608,
          26.63126806316329,
          26.619722612599816,
          26.606246546234622,
          26.5909509155947,
          26.574051259635326,
          26.55577991609111,
          26.536318136073728,
          26.515719847030656,
          26.493885801683202,
          26.470610392948288,
          26.445646993673996,
          26.418778576439106,
          26.389835626676703,
          26.358708706279362,
          26.325343933835786,
          26.28973493179811,
          26.25190391225629,
          26.211896220941824,
          26.16976033262435,
          26.125543546217607,
          26.079284961360298,
          26.03101874411809,
          25.98077289721627,
          25.928575843239493,
          25.874457356599205,
          25.818440690267582,
          25.76055876930754,
          25.70084453562571,
          25.639334060661263,
          25.57607051681583,
          25.51110100404986,
          25.44448020531162,
          25.376259595602374,
          25.30650041727005,
          25.235251295302312,
          25.16256104353169,
          25.088468791800715,
          25.012993125806453,
          24.936140290186955,
          24.857887705014935,
          24.778189338824696,
          24.696961366713644,
          24.61407666306176,
          24.529359010682008,
          24.44256701391443,
          24.35337871058262,
          24.261367480828582,
          24.165975518800536
         ],
         "y": [
          96.36432,
          97.69113,
          98.96521,
          100.21858,
          101.49149,
          102.83465,
          104.31025,
          105.99205,
          107.9605,
          110.28514,
          112.99677,
          116.0809,
          119.49435,
          123.18561,
          127.1144,
          131.26863,
          135.66771,
          140.35171,
          145.36669,
          150.75399,
          156.54488,
          162.75891,
          169.4047,
          176.48172,
          183.98288,
          191.89784,
          200.21538,
          208.92486,
          218.01702,
          227.48388,
          237.31828,
          247.51354,
          258.0632,
          268.96082,
          280.19986,
          291.77326,
          303.6734,
          315.89174,
          328.419,
          341.2452,
          354.35996,
          367.75308,
          381.41508,
          395.33784,
          409.5154,
          423.9448,
          438.62676,
          453.56656,
          468.7752,
          484.27028,
          500.07764,
          516.23308,
          532.7848,
          549.7966,
          567.35232,
          585.562
         ]
        }
       ],
       "layout": {
        "height": 750,
        "template": {
         "data": {
          "bar": [
           {
            "error_x": {
             "color": "#2a3f5f"
            },
            "error_y": {
             "color": "#2a3f5f"
            },
            "marker": {
             "line": {
              "color": "#E5ECF6",
              "width": 0.5
             }
            },
            "type": "bar"
           }
          ],
          "barpolar": [
           {
            "marker": {
             "line": {
              "color": "#E5ECF6",
              "width": 0.5
             }
            },
            "type": "barpolar"
           }
          ],
          "carpet": [
           {
            "aaxis": {
             "endlinecolor": "#2a3f5f",
             "gridcolor": "white",
             "linecolor": "white",
             "minorgridcolor": "white",
             "startlinecolor": "#2a3f5f"
            },
            "baxis": {
             "endlinecolor": "#2a3f5f",
             "gridcolor": "white",
             "linecolor": "white",
             "minorgridcolor": "white",
             "startlinecolor": "#2a3f5f"
            },
            "type": "carpet"
           }
          ],
          "choropleth": [
           {
            "colorbar": {
             "outlinewidth": 0,
             "ticks": ""
            },
            "type": "choropleth"
           }
          ],
          "contour": [
           {
            "colorbar": {
             "outlinewidth": 0,
             "ticks": ""
            },
            "colorscale": [
             [
              0,
              "#0d0887"
             ],
             [
              0.1111111111111111,
              "#46039f"
             ],
             [
              0.2222222222222222,
              "#7201a8"
             ],
             [
              0.3333333333333333,
              "#9c179e"
             ],
             [
              0.4444444444444444,
              "#bd3786"
             ],
             [
              0.5555555555555556,
              "#d8576b"
             ],
             [
              0.6666666666666666,
              "#ed7953"
             ],
             [
              0.7777777777777778,
              "#fb9f3a"
             ],
             [
              0.8888888888888888,
              "#fdca26"
             ],
             [
              1,
              "#f0f921"
             ]
            ],
            "type": "contour"
           }
          ],
          "contourcarpet": [
           {
            "colorbar": {
             "outlinewidth": 0,
             "ticks": ""
            },
            "type": "contourcarpet"
           }
          ],
          "heatmap": [
           {
            "colorbar": {
             "outlinewidth": 0,
             "ticks": ""
            },
            "colorscale": [
             [
              0,
              "#0d0887"
             ],
             [
              0.1111111111111111,
              "#46039f"
             ],
             [
              0.2222222222222222,
              "#7201a8"
             ],
             [
              0.3333333333333333,
              "#9c179e"
             ],
             [
              0.4444444444444444,
              "#bd3786"
             ],
             [
              0.5555555555555556,
              "#d8576b"
             ],
             [
              0.6666666666666666,
              "#ed7953"
             ],
             [
              0.7777777777777778,
              "#fb9f3a"
             ],
             [
              0.8888888888888888,
              "#fdca26"
             ],
             [
              1,
              "#f0f921"
             ]
            ],
            "type": "heatmap"
           }
          ],
          "heatmapgl": [
           {
            "colorbar": {
             "outlinewidth": 0,
             "ticks": ""
            },
            "colorscale": [
             [
              0,
              "#0d0887"
             ],
             [
              0.1111111111111111,
              "#46039f"
             ],
             [
              0.2222222222222222,
              "#7201a8"
             ],
             [
              0.3333333333333333,
              "#9c179e"
             ],
             [
              0.4444444444444444,
              "#bd3786"
             ],
             [
              0.5555555555555556,
              "#d8576b"
             ],
             [
              0.6666666666666666,
              "#ed7953"
             ],
             [
              0.7777777777777778,
              "#fb9f3a"
             ],
             [
              0.8888888888888888,
              "#fdca26"
             ],
             [
              1,
              "#f0f921"
             ]
            ],
            "type": "heatmapgl"
           }
          ],
          "histogram": [
           {
            "marker": {
             "colorbar": {
              "outlinewidth": 0,
              "ticks": ""
             }
            },
            "type": "histogram"
           }
          ],
          "histogram2d": [
           {
            "colorbar": {
             "outlinewidth": 0,
             "ticks": ""
            },
            "colorscale": [
             [
              0,
              "#0d0887"
             ],
             [
              0.1111111111111111,
              "#46039f"
             ],
             [
              0.2222222222222222,
              "#7201a8"
             ],
             [
              0.3333333333333333,
              "#9c179e"
             ],
             [
              0.4444444444444444,
              "#bd3786"
             ],
             [
              0.5555555555555556,
              "#d8576b"
             ],
             [
              0.6666666666666666,
              "#ed7953"
             ],
             [
              0.7777777777777778,
              "#fb9f3a"
             ],
             [
              0.8888888888888888,
              "#fdca26"
             ],
             [
              1,
              "#f0f921"
             ]
            ],
            "type": "histogram2d"
           }
          ],
          "histogram2dcontour": [
           {
            "colorbar": {
             "outlinewidth": 0,
             "ticks": ""
            },
            "colorscale": [
             [
              0,
              "#0d0887"
             ],
             [
              0.1111111111111111,
              "#46039f"
             ],
             [
              0.2222222222222222,
              "#7201a8"
             ],
             [
              0.3333333333333333,
              "#9c179e"
             ],
             [
              0.4444444444444444,
              "#bd3786"
             ],
             [
              0.5555555555555556,
              "#d8576b"
             ],
             [
              0.6666666666666666,
              "#ed7953"
             ],
             [
              0.7777777777777778,
              "#fb9f3a"
             ],
             [
              0.8888888888888888,
              "#fdca26"
             ],
             [
              1,
              "#f0f921"
             ]
            ],
            "type": "histogram2dcontour"
           }
          ],
          "mesh3d": [
           {
            "colorbar": {
             "outlinewidth": 0,
             "ticks": ""
            },
            "type": "mesh3d"
           }
          ],
          "parcoords": [
           {
            "line": {
             "colorbar": {
              "outlinewidth": 0,
              "ticks": ""
             }
            },
            "type": "parcoords"
           }
          ],
          "pie": [
           {
            "automargin": true,
            "type": "pie"
           }
          ],
          "scatter": [
           {
            "marker": {
             "colorbar": {
              "outlinewidth": 0,
              "ticks": ""
             }
            },
            "type": "scatter"
           }
          ],
          "scatter3d": [
           {
            "line": {
             "colorbar": {
              "outlinewidth": 0,
              "ticks": ""
             }
            },
            "marker": {
             "colorbar": {
              "outlinewidth": 0,
              "ticks": ""
             }
            },
            "type": "scatter3d"
           }
          ],
          "scattercarpet": [
           {
            "marker": {
             "colorbar": {
              "outlinewidth": 0,
              "ticks": ""
             }
            },
            "type": "scattercarpet"
           }
          ],
          "scattergeo": [
           {
            "marker": {
             "colorbar": {
              "outlinewidth": 0,
              "ticks": ""
             }
            },
            "type": "scattergeo"
           }
          ],
          "scattergl": [
           {
            "marker": {
             "colorbar": {
              "outlinewidth": 0,
              "ticks": ""
             }
            },
            "type": "scattergl"
           }
          ],
          "scattermapbox": [
           {
            "marker": {
             "colorbar": {
              "outlinewidth": 0,
              "ticks": ""
             }
            },
            "type": "scattermapbox"
           }
          ],
          "scatterpolar": [
           {
            "marker": {
             "colorbar": {
              "outlinewidth": 0,
              "ticks": ""
             }
            },
            "type": "scatterpolar"
           }
          ],
          "scatterpolargl": [
           {
            "marker": {
             "colorbar": {
              "outlinewidth": 0,
              "ticks": ""
             }
            },
            "type": "scatterpolargl"
           }
          ],
          "scatterternary": [
           {
            "marker": {
             "colorbar": {
              "outlinewidth": 0,
              "ticks": ""
             }
            },
            "type": "scatterternary"
           }
          ],
          "surface": [
           {
            "colorbar": {
             "outlinewidth": 0,
             "ticks": ""
            },
            "colorscale": [
             [
              0,
              "#0d0887"
             ],
             [
              0.1111111111111111,
              "#46039f"
             ],
             [
              0.2222222222222222,
              "#7201a8"
             ],
             [
              0.3333333333333333,
              "#9c179e"
             ],
             [
              0.4444444444444444,
              "#bd3786"
             ],
             [
              0.5555555555555556,
              "#d8576b"
             ],
             [
              0.6666666666666666,
              "#ed7953"
             ],
             [
              0.7777777777777778,
              "#fb9f3a"
             ],
             [
              0.8888888888888888,
              "#fdca26"
             ],
             [
              1,
              "#f0f921"
             ]
            ],
            "type": "surface"
           }
          ],
          "table": [
           {
            "cells": {
             "fill": {
              "color": "#EBF0F8"
             },
             "line": {
              "color": "white"
             }
            },
            "header": {
             "fill": {
              "color": "#C8D4E3"
             },
             "line": {
              "color": "white"
             }
            },
            "type": "table"
           }
          ]
         },
         "layout": {
          "annotationdefaults": {
           "arrowcolor": "#2a3f5f",
           "arrowhead": 0,
           "arrowwidth": 1
          },
          "coloraxis": {
           "colorbar": {
            "outlinewidth": 0,
            "ticks": ""
           }
          },
          "colorscale": {
           "diverging": [
            [
             0,
             "#8e0152"
            ],
            [
             0.1,
             "#c51b7d"
            ],
            [
             0.2,
             "#de77ae"
            ],
            [
             0.3,
             "#f1b6da"
            ],
            [
             0.4,
             "#fde0ef"
            ],
            [
             0.5,
             "#f7f7f7"
            ],
            [
             0.6,
             "#e6f5d0"
            ],
            [
             0.7,
             "#b8e186"
            ],
            [
             0.8,
             "#7fbc41"
            ],
            [
             0.9,
             "#4d9221"
            ],
            [
             1,
             "#276419"
            ]
           ],
           "sequential": [
            [
             0,
             "#0d0887"
            ],
            [
             0.1111111111111111,
             "#46039f"
            ],
            [
             0.2222222222222222,
             "#7201a8"
            ],
            [
             0.3333333333333333,
             "#9c179e"
            ],
            [
             0.4444444444444444,
             "#bd3786"
            ],
            [
             0.5555555555555556,
             "#d8576b"
            ],
            [
             0.6666666666666666,
             "#ed7953"
            ],
            [
             0.7777777777777778,
             "#fb9f3a"
            ],
            [
             0.8888888888888888,
             "#fdca26"
            ],
            [
             1,
             "#f0f921"
            ]
           ],
           "sequentialminus": [
            [
             0,
             "#0d0887"
            ],
            [
             0.1111111111111111,
             "#46039f"
            ],
            [
             0.2222222222222222,
             "#7201a8"
            ],
            [
             0.3333333333333333,
             "#9c179e"
            ],
            [
             0.4444444444444444,
             "#bd3786"
            ],
            [
             0.5555555555555556,
             "#d8576b"
            ],
            [
             0.6666666666666666,
             "#ed7953"
            ],
            [
             0.7777777777777778,
             "#fb9f3a"
            ],
            [
             0.8888888888888888,
             "#fdca26"
            ],
            [
             1,
             "#f0f921"
            ]
           ]
          },
          "colorway": [
           "#636efa",
           "#EF553B",
           "#00cc96",
           "#ab63fa",
           "#FFA15A",
           "#19d3f3",
           "#FF6692",
           "#B6E880",
           "#FF97FF",
           "#FECB52"
          ],
          "font": {
           "color": "#2a3f5f"
          },
          "geo": {
           "bgcolor": "white",
           "lakecolor": "white",
           "landcolor": "#E5ECF6",
           "showlakes": true,
           "showland": true,
           "subunitcolor": "white"
          },
          "hoverlabel": {
           "align": "left"
          },
          "hovermode": "closest",
          "mapbox": {
           "style": "light"
          },
          "paper_bgcolor": "white",
          "plot_bgcolor": "#E5ECF6",
          "polar": {
           "angularaxis": {
            "gridcolor": "white",
            "linecolor": "white",
            "ticks": ""
           },
           "bgcolor": "#E5ECF6",
           "radialaxis": {
            "gridcolor": "white",
            "linecolor": "white",
            "ticks": ""
           }
          },
          "scene": {
           "xaxis": {
            "backgroundcolor": "#E5ECF6",
            "gridcolor": "white",
            "gridwidth": 2,
            "linecolor": "white",
            "showbackground": true,
            "ticks": "",
            "zerolinecolor": "white"
           },
           "yaxis": {
            "backgroundcolor": "#E5ECF6",
            "gridcolor": "white",
            "gridwidth": 2,
            "linecolor": "white",
            "showbackground": true,
            "ticks": "",
            "zerolinecolor": "white"
           },
           "zaxis": {
            "backgroundcolor": "#E5ECF6",
            "gridcolor": "white",
            "gridwidth": 2,
            "linecolor": "white",
            "showbackground": true,
            "ticks": "",
            "zerolinecolor": "white"
           }
          },
          "shapedefaults": {
           "line": {
            "color": "#2a3f5f"
           }
          },
          "ternary": {
           "aaxis": {
            "gridcolor": "white",
            "linecolor": "white",
            "ticks": ""
           },
           "baxis": {
            "gridcolor": "white",
            "linecolor": "white",
            "ticks": ""
           },
           "bgcolor": "#E5ECF6",
           "caxis": {
            "gridcolor": "white",
            "linecolor": "white",
            "ticks": ""
           }
          },
          "title": {
           "x": 0.05
          },
          "xaxis": {
           "automargin": true,
           "gridcolor": "white",
           "linecolor": "white",
           "ticks": "",
           "title": {
            "standoff": 15
           },
           "zerolinecolor": "white",
           "zerolinewidth": 2
          },
          "yaxis": {
           "automargin": true,
           "gridcolor": "white",
           "linecolor": "white",
           "ticks": "",
           "title": {
            "standoff": 15
           },
           "zerolinecolor": "white",
           "zerolinewidth": 2
          }
         }
        },
        "title": {
         "text": "Velocities ",
         "x": 0.5,
         "xanchor": "center",
         "y": 0.9,
         "yanchor": "top"
        },
        "width": 750,
        "xaxis": {
         "exponentformat": "power",
         "gridcolor": "grey",
         "gridwidth": 0.5,
         "linecolor": "black",
         "linewidth": 2,
         "mirror": true,
         "showexponent": "all",
         "showgrid": true,
         "showline": true,
         "title": {
          "text": "$m/s$"
         }
        },
        "yaxis": {
         "dtick": 20,
         "gridcolor": "grey",
         "gridwidth": 0.5,
         "linecolor": "black",
         "linewidth": 2,
         "mirror": true,
         "showgrid": true,
         "showline": true,
         "tick0": 60,
         "title": {
          "text": "Altitude (km)"
         }
        }
       }
      },
      "text/html": [
       "<div>\n",
       "        \n",
       "        \n",
       "            <div id=\"e6254b5a-b4c8-412e-804f-4984a83d311d\" class=\"plotly-graph-div\" style=\"height:750px; width:750px;\"></div>\n",
       "            <script type=\"text/javascript\">\n",
       "                require([\"plotly\"], function(Plotly) {\n",
       "                    window.PLOTLYENV=window.PLOTLYENV || {};\n",
       "                    \n",
       "                if (document.getElementById(\"e6254b5a-b4c8-412e-804f-4984a83d311d\")) {\n",
       "                    Plotly.newPlot(\n",
       "                        'e6254b5a-b4c8-412e-804f-4984a83d311d',\n",
       "                        [{\"marker\": {\"color\": \"blue\"}, \"mode\": \"lines\", \"name\": \"Perpendicular Ion velocity (z)\", \"type\": \"scatter\", \"x\": [-0.3782645251513156, -0.35242503666805375, -0.3805776384626105, -0.4943891408226032, -0.7965877875880331, -1.4271991262116823, -2.4772241395235346, -3.798207492876572, -4.749377704550881, -4.0983434543090675, -0.6172631913691431, 5.502908091251863, 12.294726092149526, 17.843842378909677, 21.501906242288904, 23.566383841017945, 24.62501097163573, 25.157087254633158, 25.450627855318526, 25.64554765779786, 25.7942565102661, 25.909325159381424, 25.99200277686045, 26.044337232116334, 26.071182154352584, 26.077896661693263, 26.069359624659263, 26.049499558633446, 26.021184663731148, 25.986392602096867, 25.946441090020055, 25.902204749963317, 25.854278635434774, 25.803081282577526, 25.74893809712182, 25.692108836840973, 25.632810360928985, 25.57123139286294, 25.507536105947437, 25.441872724651745, 25.374366801265587, 25.305137690641484, 25.234279190182775, 25.16187492467914, 25.08799063346246, 25.012665092892952, 24.935919761321706, 24.857743451019587, 24.778098611238345, 24.696907695910852, 24.614048203912205, 24.5293473065387, 24.442566078079423, 24.353384347227816, 24.261376785107185, 24.165986511588393], \"y\": [96.36432, 97.69113, 98.96521, 100.21858, 101.49149, 102.83465, 104.31025, 105.99205, 107.9605, 110.28514, 112.99677, 116.0809, 119.49435, 123.18561, 127.1144, 131.26863, 135.66771, 140.35171, 145.36669, 150.75399, 156.54488, 162.75891, 169.4047, 176.48172, 183.98288, 191.89784, 200.21538, 208.92486, 218.01702, 227.48388, 237.31828, 247.51354, 258.0632, 268.96082, 280.19986, 291.77326, 303.6734, 315.89174, 328.419, 341.2452, 354.35996, 367.75308, 381.41508, 395.33784, 409.5154, 423.9448, 438.62676, 453.56656, 468.7752, 484.27028, 500.07764, 516.23308, 532.7848, 549.7966, 567.35232, 585.562]}, {\"marker\": {\"color\": \"green\"}, \"mode\": \"lines\", \"name\": \"Perpendicular Neutral velocity (z)\", \"type\": \"scatter\", \"x\": [-0.19198006599561707, -0.12817619236932246, -0.10645657537754402, -0.15832036617895776, -0.3902984814913456, -0.9597704958527142, -2.010347173448409, -3.5316210690813996, -5.203732395455857, -6.333366346957669, -6.039043206695573, -3.905836831928058, -0.6645179148483144, 2.4181451716958584, 4.557555144118364, 5.5648478266100065, 5.635173193318006, 5.128756930385037, 4.383767951866912, 3.6101597736874487, 2.8909635378188403, 2.2410360909165004, 1.6461727947105482, 1.0953166290597114, 0.6050712473902432, 0.1990045895270014, -0.11978936481593827, -0.3759913542754256, -0.6151994785613009, -0.8884415244579282, -1.236314509888552, -1.6798200055202734, -2.2194866636514616, -2.8400325366818677, -3.5169409632297866, -4.222478567338534, -4.930095745578477, -5.6170915291379995, -6.265842270209217, -6.864004511068351, -7.404079316535933, -7.882649567944252, -8.299504543301806, -8.656783946429577, -8.958219656274245, -9.208507175859255, -9.412809171825018, -9.576387088943173, -9.704340558727221, -9.801430940459989, -9.871979242324983, -9.919809792717952, -9.948235674400655, -9.960054223069932, -9.957565473434304, -9.942590473059356], \"y\": [96.36432, 97.69113, 98.96521, 100.21858, 101.49149, 102.83465, 104.31025, 105.99205, 107.9605, 110.28514, 112.99677, 116.0809, 119.49435, 123.18561, 127.1144, 131.26863, 135.66771, 140.35171, 145.36669, 150.75399, 156.54488, 162.75891, 169.4047, 176.48172, 183.98288, 191.89784, 200.21538, 208.92486, 218.01702, 227.48388, 237.31828, 247.51354, 258.0632, 268.96082, 280.19986, 291.77326, 303.6734, 315.89174, 328.419, 341.2452, 354.35996, 367.75308, 381.41508, 395.33784, 409.5154, 423.9448, 438.62676, 453.56656, 468.7752, 484.27028, 500.07764, 516.23308, 532.7848, 549.7966, 567.35232, 585.562]}, {\"marker\": {\"color\": \"red\"}, \"mode\": \"lines\", \"name\": \"ExB drift velocity (z)\", \"type\": \"scatter\", \"x\": [26.688028409899964, 26.681528306035794, 26.67528386977995, 26.66915384951081, 26.662951396092506, 26.656421767693775, 26.64923715420089, 26.640995548968608, 26.63126806316329, 26.619722612599816, 26.606246546234622, 26.5909509155947, 26.574051259635326, 26.55577991609111, 26.536318136073728, 26.515719847030656, 26.493885801683202, 26.470610392948288, 26.445646993673996, 26.418778576439106, 26.389835626676703, 26.358708706279362, 26.325343933835786, 26.28973493179811, 26.25190391225629, 26.211896220941824, 26.16976033262435, 26.125543546217607, 26.079284961360298, 26.03101874411809, 25.98077289721627, 25.928575843239493, 25.874457356599205, 25.818440690267582, 25.76055876930754, 25.70084453562571, 25.639334060661263, 25.57607051681583, 25.51110100404986, 25.44448020531162, 25.376259595602374, 25.30650041727005, 25.235251295302312, 25.16256104353169, 25.088468791800715, 25.012993125806453, 24.936140290186955, 24.857887705014935, 24.778189338824696, 24.696961366713644, 24.61407666306176, 24.529359010682008, 24.44256701391443, 24.35337871058262, 24.261367480828582, 24.165975518800536], \"y\": [96.36432, 97.69113, 98.96521, 100.21858, 101.49149, 102.83465, 104.31025, 105.99205, 107.9605, 110.28514, 112.99677, 116.0809, 119.49435, 123.18561, 127.1144, 131.26863, 135.66771, 140.35171, 145.36669, 150.75399, 156.54488, 162.75891, 169.4047, 176.48172, 183.98288, 191.89784, 200.21538, 208.92486, 218.01702, 227.48388, 237.31828, 247.51354, 258.0632, 268.96082, 280.19986, 291.77326, 303.6734, 315.89174, 328.419, 341.2452, 354.35996, 367.75308, 381.41508, 395.33784, 409.5154, 423.9448, 438.62676, 453.56656, 468.7752, 484.27028, 500.07764, 516.23308, 532.7848, 549.7966, 567.35232, 585.562]}],\n",
       "                        {\"height\": 750, \"template\": {\"data\": {\"bar\": [{\"error_x\": {\"color\": \"#2a3f5f\"}, \"error_y\": {\"color\": \"#2a3f5f\"}, \"marker\": {\"line\": {\"color\": \"#E5ECF6\", \"width\": 0.5}}, \"type\": \"bar\"}], \"barpolar\": [{\"marker\": {\"line\": {\"color\": \"#E5ECF6\", \"width\": 0.5}}, \"type\": \"barpolar\"}], \"carpet\": [{\"aaxis\": {\"endlinecolor\": \"#2a3f5f\", \"gridcolor\": \"white\", \"linecolor\": \"white\", \"minorgridcolor\": \"white\", \"startlinecolor\": \"#2a3f5f\"}, \"baxis\": {\"endlinecolor\": \"#2a3f5f\", \"gridcolor\": \"white\", \"linecolor\": \"white\", \"minorgridcolor\": \"white\", \"startlinecolor\": \"#2a3f5f\"}, \"type\": \"carpet\"}], \"choropleth\": [{\"colorbar\": {\"outlinewidth\": 0, \"ticks\": \"\"}, \"type\": \"choropleth\"}], \"contour\": [{\"colorbar\": {\"outlinewidth\": 0, \"ticks\": \"\"}, \"colorscale\": [[0.0, \"#0d0887\"], [0.1111111111111111, \"#46039f\"], [0.2222222222222222, \"#7201a8\"], [0.3333333333333333, \"#9c179e\"], [0.4444444444444444, \"#bd3786\"], [0.5555555555555556, \"#d8576b\"], [0.6666666666666666, \"#ed7953\"], [0.7777777777777778, \"#fb9f3a\"], [0.8888888888888888, \"#fdca26\"], [1.0, \"#f0f921\"]], \"type\": \"contour\"}], \"contourcarpet\": [{\"colorbar\": {\"outlinewidth\": 0, \"ticks\": \"\"}, \"type\": \"contourcarpet\"}], \"heatmap\": [{\"colorbar\": {\"outlinewidth\": 0, \"ticks\": \"\"}, \"colorscale\": [[0.0, \"#0d0887\"], [0.1111111111111111, \"#46039f\"], [0.2222222222222222, \"#7201a8\"], [0.3333333333333333, \"#9c179e\"], [0.4444444444444444, \"#bd3786\"], [0.5555555555555556, \"#d8576b\"], [0.6666666666666666, \"#ed7953\"], [0.7777777777777778, \"#fb9f3a\"], [0.8888888888888888, \"#fdca26\"], [1.0, \"#f0f921\"]], \"type\": \"heatmap\"}], \"heatmapgl\": [{\"colorbar\": {\"outlinewidth\": 0, \"ticks\": \"\"}, \"colorscale\": [[0.0, \"#0d0887\"], [0.1111111111111111, \"#46039f\"], [0.2222222222222222, \"#7201a8\"], [0.3333333333333333, \"#9c179e\"], [0.4444444444444444, \"#bd3786\"], [0.5555555555555556, \"#d8576b\"], [0.6666666666666666, \"#ed7953\"], [0.7777777777777778, \"#fb9f3a\"], [0.8888888888888888, \"#fdca26\"], [1.0, \"#f0f921\"]], \"type\": \"heatmapgl\"}], \"histogram\": [{\"marker\": {\"colorbar\": {\"outlinewidth\": 0, \"ticks\": \"\"}}, \"type\": \"histogram\"}], \"histogram2d\": [{\"colorbar\": {\"outlinewidth\": 0, \"ticks\": \"\"}, \"colorscale\": [[0.0, \"#0d0887\"], [0.1111111111111111, \"#46039f\"], [0.2222222222222222, \"#7201a8\"], [0.3333333333333333, \"#9c179e\"], [0.4444444444444444, \"#bd3786\"], [0.5555555555555556, \"#d8576b\"], [0.6666666666666666, \"#ed7953\"], [0.7777777777777778, \"#fb9f3a\"], [0.8888888888888888, \"#fdca26\"], [1.0, \"#f0f921\"]], \"type\": \"histogram2d\"}], \"histogram2dcontour\": [{\"colorbar\": {\"outlinewidth\": 0, \"ticks\": \"\"}, \"colorscale\": [[0.0, \"#0d0887\"], [0.1111111111111111, \"#46039f\"], [0.2222222222222222, \"#7201a8\"], [0.3333333333333333, \"#9c179e\"], [0.4444444444444444, \"#bd3786\"], [0.5555555555555556, \"#d8576b\"], [0.6666666666666666, \"#ed7953\"], [0.7777777777777778, \"#fb9f3a\"], [0.8888888888888888, \"#fdca26\"], [1.0, \"#f0f921\"]], \"type\": \"histogram2dcontour\"}], \"mesh3d\": [{\"colorbar\": {\"outlinewidth\": 0, \"ticks\": \"\"}, \"type\": \"mesh3d\"}], \"parcoords\": [{\"line\": {\"colorbar\": {\"outlinewidth\": 0, \"ticks\": \"\"}}, \"type\": \"parcoords\"}], \"pie\": [{\"automargin\": true, \"type\": \"pie\"}], \"scatter\": [{\"marker\": {\"colorbar\": {\"outlinewidth\": 0, \"ticks\": \"\"}}, \"type\": \"scatter\"}], \"scatter3d\": [{\"line\": {\"colorbar\": {\"outlinewidth\": 0, \"ticks\": \"\"}}, \"marker\": {\"colorbar\": {\"outlinewidth\": 0, \"ticks\": \"\"}}, \"type\": \"scatter3d\"}], \"scattercarpet\": [{\"marker\": {\"colorbar\": {\"outlinewidth\": 0, \"ticks\": \"\"}}, \"type\": \"scattercarpet\"}], \"scattergeo\": [{\"marker\": {\"colorbar\": {\"outlinewidth\": 0, \"ticks\": \"\"}}, \"type\": \"scattergeo\"}], \"scattergl\": [{\"marker\": {\"colorbar\": {\"outlinewidth\": 0, \"ticks\": \"\"}}, \"type\": \"scattergl\"}], \"scattermapbox\": [{\"marker\": {\"colorbar\": {\"outlinewidth\": 0, \"ticks\": \"\"}}, \"type\": \"scattermapbox\"}], \"scatterpolar\": [{\"marker\": {\"colorbar\": {\"outlinewidth\": 0, \"ticks\": \"\"}}, \"type\": \"scatterpolar\"}], \"scatterpolargl\": [{\"marker\": {\"colorbar\": {\"outlinewidth\": 0, \"ticks\": \"\"}}, \"type\": \"scatterpolargl\"}], \"scatterternary\": [{\"marker\": {\"colorbar\": {\"outlinewidth\": 0, \"ticks\": \"\"}}, \"type\": \"scatterternary\"}], \"surface\": [{\"colorbar\": {\"outlinewidth\": 0, \"ticks\": \"\"}, \"colorscale\": [[0.0, \"#0d0887\"], [0.1111111111111111, \"#46039f\"], [0.2222222222222222, \"#7201a8\"], [0.3333333333333333, \"#9c179e\"], [0.4444444444444444, \"#bd3786\"], [0.5555555555555556, \"#d8576b\"], [0.6666666666666666, \"#ed7953\"], [0.7777777777777778, \"#fb9f3a\"], [0.8888888888888888, \"#fdca26\"], [1.0, \"#f0f921\"]], \"type\": \"surface\"}], \"table\": [{\"cells\": {\"fill\": {\"color\": \"#EBF0F8\"}, \"line\": {\"color\": \"white\"}}, \"header\": {\"fill\": {\"color\": \"#C8D4E3\"}, \"line\": {\"color\": \"white\"}}, \"type\": \"table\"}]}, \"layout\": {\"annotationdefaults\": {\"arrowcolor\": \"#2a3f5f\", \"arrowhead\": 0, \"arrowwidth\": 1}, \"coloraxis\": {\"colorbar\": {\"outlinewidth\": 0, \"ticks\": \"\"}}, \"colorscale\": {\"diverging\": [[0, \"#8e0152\"], [0.1, \"#c51b7d\"], [0.2, \"#de77ae\"], [0.3, \"#f1b6da\"], [0.4, \"#fde0ef\"], [0.5, \"#f7f7f7\"], [0.6, \"#e6f5d0\"], [0.7, \"#b8e186\"], [0.8, \"#7fbc41\"], [0.9, \"#4d9221\"], [1, \"#276419\"]], \"sequential\": [[0.0, \"#0d0887\"], [0.1111111111111111, \"#46039f\"], [0.2222222222222222, \"#7201a8\"], [0.3333333333333333, \"#9c179e\"], [0.4444444444444444, \"#bd3786\"], [0.5555555555555556, \"#d8576b\"], [0.6666666666666666, \"#ed7953\"], [0.7777777777777778, \"#fb9f3a\"], [0.8888888888888888, \"#fdca26\"], [1.0, \"#f0f921\"]], \"sequentialminus\": [[0.0, \"#0d0887\"], [0.1111111111111111, \"#46039f\"], [0.2222222222222222, \"#7201a8\"], [0.3333333333333333, \"#9c179e\"], [0.4444444444444444, \"#bd3786\"], [0.5555555555555556, \"#d8576b\"], [0.6666666666666666, \"#ed7953\"], [0.7777777777777778, \"#fb9f3a\"], [0.8888888888888888, \"#fdca26\"], [1.0, \"#f0f921\"]]}, \"colorway\": [\"#636efa\", \"#EF553B\", \"#00cc96\", \"#ab63fa\", \"#FFA15A\", \"#19d3f3\", \"#FF6692\", \"#B6E880\", \"#FF97FF\", \"#FECB52\"], \"font\": {\"color\": \"#2a3f5f\"}, \"geo\": {\"bgcolor\": \"white\", \"lakecolor\": \"white\", \"landcolor\": \"#E5ECF6\", \"showlakes\": true, \"showland\": true, \"subunitcolor\": \"white\"}, \"hoverlabel\": {\"align\": \"left\"}, \"hovermode\": \"closest\", \"mapbox\": {\"style\": \"light\"}, \"paper_bgcolor\": \"white\", \"plot_bgcolor\": \"#E5ECF6\", \"polar\": {\"angularaxis\": {\"gridcolor\": \"white\", \"linecolor\": \"white\", \"ticks\": \"\"}, \"bgcolor\": \"#E5ECF6\", \"radialaxis\": {\"gridcolor\": \"white\", \"linecolor\": \"white\", \"ticks\": \"\"}}, \"scene\": {\"xaxis\": {\"backgroundcolor\": \"#E5ECF6\", \"gridcolor\": \"white\", \"gridwidth\": 2, \"linecolor\": \"white\", \"showbackground\": true, \"ticks\": \"\", \"zerolinecolor\": \"white\"}, \"yaxis\": {\"backgroundcolor\": \"#E5ECF6\", \"gridcolor\": \"white\", \"gridwidth\": 2, \"linecolor\": \"white\", \"showbackground\": true, \"ticks\": \"\", \"zerolinecolor\": \"white\"}, \"zaxis\": {\"backgroundcolor\": \"#E5ECF6\", \"gridcolor\": \"white\", \"gridwidth\": 2, \"linecolor\": \"white\", \"showbackground\": true, \"ticks\": \"\", \"zerolinecolor\": \"white\"}}, \"shapedefaults\": {\"line\": {\"color\": \"#2a3f5f\"}}, \"ternary\": {\"aaxis\": {\"gridcolor\": \"white\", \"linecolor\": \"white\", \"ticks\": \"\"}, \"baxis\": {\"gridcolor\": \"white\", \"linecolor\": \"white\", \"ticks\": \"\"}, \"bgcolor\": \"#E5ECF6\", \"caxis\": {\"gridcolor\": \"white\", \"linecolor\": \"white\", \"ticks\": \"\"}}, \"title\": {\"x\": 0.05}, \"xaxis\": {\"automargin\": true, \"gridcolor\": \"white\", \"linecolor\": \"white\", \"ticks\": \"\", \"title\": {\"standoff\": 15}, \"zerolinecolor\": \"white\", \"zerolinewidth\": 2}, \"yaxis\": {\"automargin\": true, \"gridcolor\": \"white\", \"linecolor\": \"white\", \"ticks\": \"\", \"title\": {\"standoff\": 15}, \"zerolinecolor\": \"white\", \"zerolinewidth\": 2}}}, \"title\": {\"text\": \"Velocities \", \"x\": 0.5, \"xanchor\": \"center\", \"y\": 0.9, \"yanchor\": \"top\"}, \"width\": 750, \"xaxis\": {\"exponentformat\": \"power\", \"gridcolor\": \"grey\", \"gridwidth\": 0.5, \"linecolor\": \"black\", \"linewidth\": 2, \"mirror\": true, \"showexponent\": \"all\", \"showgrid\": true, \"showline\": true, \"title\": {\"text\": \"$m/s$\"}}, \"yaxis\": {\"dtick\": 20, \"gridcolor\": \"grey\", \"gridwidth\": 0.5, \"linecolor\": \"black\", \"linewidth\": 2, \"mirror\": true, \"showgrid\": true, \"showline\": true, \"tick0\": 60, \"title\": {\"text\": \"Altitude (km)\"}}},\n",
       "                        {\"responsive\": true}\n",
       "                    ).then(function(){\n",
       "                            \n",
       "var gd = document.getElementById('e6254b5a-b4c8-412e-804f-4984a83d311d');\n",
       "var x = new MutationObserver(function (mutations, observer) {{\n",
       "        var display = window.getComputedStyle(gd).display;\n",
       "        if (!display || display === 'none') {{\n",
       "            console.log([gd, 'removed!']);\n",
       "            Plotly.purge(gd);\n",
       "            observer.disconnect();\n",
       "        }}\n",
       "}});\n",
       "\n",
       "// Listen for the removal of the full notebook cells\n",
       "var notebookContainer = gd.closest('#notebook-container');\n",
       "if (notebookContainer) {{\n",
       "    x.observe(notebookContainer, {childList: true});\n",
       "}}\n",
       "\n",
       "// Listen for the clearing of the current output cell\n",
       "var outputEl = gd.closest('.output');\n",
       "if (outputEl) {{\n",
       "    x.observe(outputEl, {childList: true});\n",
       "}}\n",
       "\n",
       "                        })\n",
       "                };\n",
       "                });\n",
       "            </script>\n",
       "        </div>"
      ]
     },
     "metadata": {},
     "output_type": "display_data"
    },
    {
     "name": "stdout",
     "output_type": "stream",
     "text": [
      "Plotting electric fields...\n"
     ]
    },
    {
     "data": {
      "application/vnd.plotly.v1+json": {
       "config": {
        "plotlyServerURL": "https://plot.ly"
       },
       "data": [
        {
         "marker": {
          "color": "blue"
         },
         "mode": "lines",
         "name": "East",
         "type": "scatter",
         "x": [
          9.10121641240413e-06,
          1.2384526693124277e-05,
          1.552879944079731e-05,
          1.8604814611952627e-05,
          2.1708881729468792e-05,
          2.4966527667777817e-05,
          2.8539699506505622e-05,
          3.262267178673556e-05,
          3.7415583101368466e-05,
          4.306832662751383e-05,
          4.9617829707950846e-05,
          5.699448777922336e-05,
          6.507966055175707e-05,
          7.37487756089731e-05,
          8.29008880636929e-05,
          9.24943757541107e-05,
          0.00010255947014351072,
          0.00011317404169039307,
          0.00012442669614505704,
          0.00013638909758191477,
          0.00014910345963859448,
          0.00016258066750126396,
          0.00017680401225535778,
          0.00019173488611824642,
          0.00020731977004323921,
          0.0002234980219484793,
          0.00024020801549485985,
          0.00025739053676195175,
          0.0002749903933375053,
          0.0002929562834130626,
          0.00031123951607092,
          0.000329793230704191,
          0.0003485719334714579,
          0.00036753129681975155,
          0.0003866278047531828,
          0.0004058185730865386,
          0.00042506107773355594,
          0.0004443133485893672,
          0.00046353406613588446,
          0.0004826830740476656,
          0.0005017219487140777,
          0.0005206148206146875,
          0.000539329141931531,
          0.0005578364176692938,
          0.000576112823356553,
          0.0005941397383863873,
          0.0006119042514105001,
          0.0006293991817156386,
          0.0006466235389988916,
          0.0006635826016468544,
          0.0006802883527847838,
          0.0006967596557255302,
          0.000713022972499375,
          0.0007291133406873486,
          0.0007450753350158283,
          0.000760965176045972
         ],
         "y": [
          96.36432,
          97.69113,
          98.96521,
          100.21858,
          101.49149,
          102.83465,
          104.31025,
          105.99205,
          107.9605,
          110.28514,
          112.99677,
          116.0809,
          119.49435,
          123.18561,
          127.1144,
          131.26863,
          135.66771,
          140.35171,
          145.36669,
          150.75399,
          156.54488,
          162.75891,
          169.4047,
          176.48172,
          183.98288,
          191.89784,
          200.21538,
          208.92486,
          218.01702,
          227.48388,
          237.31828,
          247.51354,
          258.0632,
          268.96082,
          280.19986,
          291.77326,
          303.6734,
          315.89174,
          328.419,
          341.2452,
          354.35996,
          367.75308,
          381.41508,
          395.33784,
          409.5154,
          423.9448,
          438.62676,
          453.56656,
          468.7752,
          484.27028,
          500.07764,
          516.23308,
          532.7848,
          549.7966,
          567.35232,
          585.562,
          603.77168
         ]
        },
        {
         "marker": {
          "color": "green"
         },
         "mode": "lines",
         "name": "North",
         "type": "scatter",
         "x": [
          0.008677804035912721,
          0.008669240527543287,
          0.008661028754788929,
          0.00865296906294815,
          0.008644806568340851,
          0.008636214018635527,
          0.008626784342278006,
          0.008616032002826159,
          0.008603437332187573,
          0.008588576077957967,
          0.008571290667952555,
          0.00855171391030969,
          0.008530143063049422,
          0.008506914297741712,
          0.008482292796356566,
          0.008456371221863799,
          0.008429047621185315,
          0.008400093822150682,
          0.008369247257521506,
          0.008336284406983144,
          0.008301050650205996,
          0.008263470090056162,
          0.008223538473937331,
          0.008181310545071235,
          0.008136880695572236,
          0.008090365331744993,
          0.008041885258957184,
          0.007991557615940862,
          0.00793949022668474,
          0.007885783070185648,
          0.007830529957687373,
          0.0077738219512928615,
          0.007715748596910067,
          0.007656396179585011,
          0.007595852971055901,
          0.007534207581127269,
          0.007471549841908307,
          0.007407972832565755,
          0.0073435709812537985,
          0.00727844057783279,
          0.007212675273732886,
          0.00714636769169894,
          0.007079601116430302,
          0.007012451281881644,
          0.006944981374959915,
          0.006877237000107304,
          0.0068092472742992665,
          0.006741018736623236,
          0.006672534802296925,
          0.006603750937951498,
          0.0065345904990462686,
          0.006464940844423793,
          0.0063946452533632375,
          0.0063234939257245625,
          0.006251210726247856,
          0.006177436519480633
         ],
         "y": [
          96.36432,
          97.69113,
          98.96521,
          100.21858,
          101.49149,
          102.83465,
          104.31025,
          105.99205,
          107.9605,
          110.28514,
          112.99677,
          116.0809,
          119.49435,
          123.18561,
          127.1144,
          131.26863,
          135.66771,
          140.35171,
          145.36669,
          150.75399,
          156.54488,
          162.75891,
          169.4047,
          176.48172,
          183.98288,
          191.89784,
          200.21538,
          208.92486,
          218.01702,
          227.48388,
          237.31828,
          247.51354,
          258.0632,
          268.96082,
          280.19986,
          291.77326,
          303.6734,
          315.89174,
          328.419,
          341.2452,
          354.35996,
          367.75308,
          381.41508,
          395.33784,
          409.5154,
          423.9448,
          438.62676,
          453.56656,
          468.7752,
          484.27028,
          500.07764,
          516.23308,
          532.7848,
          549.7966,
          567.35232,
          585.562,
          603.77168
         ]
        },
        {
         "marker": {
          "color": "red"
         },
         "mode": "lines",
         "name": "Up",
         "type": "scatter",
         "x": [
          0.0014458501912472232,
          0.0014433306413153399,
          0.0014409158492218817,
          0.001438547586494917,
          0.00143615088462781,
          0.0014336297130915405,
          0.0014308641505398902,
          0.0014277114009098495,
          0.0014240198397047095,
          0.0014196673026650702,
          0.001414611205035413,
          0.0014088935635513074,
          0.0014026032585396468,
          0.0013958395958137445,
          0.0013886814007926958,
          0.001381157719734486,
          0.001373241111573355,
          0.0013648676661282971,
          0.0013559643697793305,
          0.0013464701272675821,
          0.001336344788338789,
          0.001325571551582037,
          0.001314154665053852,
          0.0013021155011610833,
          0.0012894870408037319,
          0.0012763082977072602,
          0.0012626194403356815,
          0.0012484593294217138,
          0.0012338640316094573,
          0.0012188671206908182,
          0.0012035003324837952,
          0.0011877943619551345,
          0.0011717792161973929,
          0.001155484020501745,
          0.0011389379383906348,
          0.001122170046245298,
          0.0011052095018197789,
          0.0010880859052168224,
          0.0010708288849302946,
          0.0010534680404108649,
          0.0010360320184296442,
          0.00101854843692136,
          0.0010010423069222786,
          0.0009835360326044286,
          0.0009660483585838664,
          0.0009485933550374235,
          0.0009311804258353395,
          0.0009138132735666137,
          0.000896489600342128,
          0.0008792003356447335,
          0.000861928754523474,
          0.0008446497245609996,
          0.0008273281267774364,
          0.0008099170219537526,
          0.0007923550428339094,
          0.0007745628997261927
         ],
         "y": [
          96.36432,
          97.69113,
          98.96521,
          100.21858,
          101.49149,
          102.83465,
          104.31025,
          105.99205,
          107.9605,
          110.28514,
          112.99677,
          116.0809,
          119.49435,
          123.18561,
          127.1144,
          131.26863,
          135.66771,
          140.35171,
          145.36669,
          150.75399,
          156.54488,
          162.75891,
          169.4047,
          176.48172,
          183.98288,
          191.89784,
          200.21538,
          208.92486,
          218.01702,
          227.48388,
          237.31828,
          247.51354,
          258.0632,
          268.96082,
          280.19986,
          291.77326,
          303.6734,
          315.89174,
          328.419,
          341.2452,
          354.35996,
          367.75308,
          381.41508,
          395.33784,
          409.5154,
          423.9448,
          438.62676,
          453.56656,
          468.7752,
          484.27028,
          500.07764,
          516.23308,
          532.7848,
          549.7966,
          567.35232,
          585.562,
          603.77168
         ]
        }
       ],
       "layout": {
        "height": 750,
        "template": {
         "data": {
          "bar": [
           {
            "error_x": {
             "color": "#2a3f5f"
            },
            "error_y": {
             "color": "#2a3f5f"
            },
            "marker": {
             "line": {
              "color": "#E5ECF6",
              "width": 0.5
             }
            },
            "type": "bar"
           }
          ],
          "barpolar": [
           {
            "marker": {
             "line": {
              "color": "#E5ECF6",
              "width": 0.5
             }
            },
            "type": "barpolar"
           }
          ],
          "carpet": [
           {
            "aaxis": {
             "endlinecolor": "#2a3f5f",
             "gridcolor": "white",
             "linecolor": "white",
             "minorgridcolor": "white",
             "startlinecolor": "#2a3f5f"
            },
            "baxis": {
             "endlinecolor": "#2a3f5f",
             "gridcolor": "white",
             "linecolor": "white",
             "minorgridcolor": "white",
             "startlinecolor": "#2a3f5f"
            },
            "type": "carpet"
           }
          ],
          "choropleth": [
           {
            "colorbar": {
             "outlinewidth": 0,
             "ticks": ""
            },
            "type": "choropleth"
           }
          ],
          "contour": [
           {
            "colorbar": {
             "outlinewidth": 0,
             "ticks": ""
            },
            "colorscale": [
             [
              0,
              "#0d0887"
             ],
             [
              0.1111111111111111,
              "#46039f"
             ],
             [
              0.2222222222222222,
              "#7201a8"
             ],
             [
              0.3333333333333333,
              "#9c179e"
             ],
             [
              0.4444444444444444,
              "#bd3786"
             ],
             [
              0.5555555555555556,
              "#d8576b"
             ],
             [
              0.6666666666666666,
              "#ed7953"
             ],
             [
              0.7777777777777778,
              "#fb9f3a"
             ],
             [
              0.8888888888888888,
              "#fdca26"
             ],
             [
              1,
              "#f0f921"
             ]
            ],
            "type": "contour"
           }
          ],
          "contourcarpet": [
           {
            "colorbar": {
             "outlinewidth": 0,
             "ticks": ""
            },
            "type": "contourcarpet"
           }
          ],
          "heatmap": [
           {
            "colorbar": {
             "outlinewidth": 0,
             "ticks": ""
            },
            "colorscale": [
             [
              0,
              "#0d0887"
             ],
             [
              0.1111111111111111,
              "#46039f"
             ],
             [
              0.2222222222222222,
              "#7201a8"
             ],
             [
              0.3333333333333333,
              "#9c179e"
             ],
             [
              0.4444444444444444,
              "#bd3786"
             ],
             [
              0.5555555555555556,
              "#d8576b"
             ],
             [
              0.6666666666666666,
              "#ed7953"
             ],
             [
              0.7777777777777778,
              "#fb9f3a"
             ],
             [
              0.8888888888888888,
              "#fdca26"
             ],
             [
              1,
              "#f0f921"
             ]
            ],
            "type": "heatmap"
           }
          ],
          "heatmapgl": [
           {
            "colorbar": {
             "outlinewidth": 0,
             "ticks": ""
            },
            "colorscale": [
             [
              0,
              "#0d0887"
             ],
             [
              0.1111111111111111,
              "#46039f"
             ],
             [
              0.2222222222222222,
              "#7201a8"
             ],
             [
              0.3333333333333333,
              "#9c179e"
             ],
             [
              0.4444444444444444,
              "#bd3786"
             ],
             [
              0.5555555555555556,
              "#d8576b"
             ],
             [
              0.6666666666666666,
              "#ed7953"
             ],
             [
              0.7777777777777778,
              "#fb9f3a"
             ],
             [
              0.8888888888888888,
              "#fdca26"
             ],
             [
              1,
              "#f0f921"
             ]
            ],
            "type": "heatmapgl"
           }
          ],
          "histogram": [
           {
            "marker": {
             "colorbar": {
              "outlinewidth": 0,
              "ticks": ""
             }
            },
            "type": "histogram"
           }
          ],
          "histogram2d": [
           {
            "colorbar": {
             "outlinewidth": 0,
             "ticks": ""
            },
            "colorscale": [
             [
              0,
              "#0d0887"
             ],
             [
              0.1111111111111111,
              "#46039f"
             ],
             [
              0.2222222222222222,
              "#7201a8"
             ],
             [
              0.3333333333333333,
              "#9c179e"
             ],
             [
              0.4444444444444444,
              "#bd3786"
             ],
             [
              0.5555555555555556,
              "#d8576b"
             ],
             [
              0.6666666666666666,
              "#ed7953"
             ],
             [
              0.7777777777777778,
              "#fb9f3a"
             ],
             [
              0.8888888888888888,
              "#fdca26"
             ],
             [
              1,
              "#f0f921"
             ]
            ],
            "type": "histogram2d"
           }
          ],
          "histogram2dcontour": [
           {
            "colorbar": {
             "outlinewidth": 0,
             "ticks": ""
            },
            "colorscale": [
             [
              0,
              "#0d0887"
             ],
             [
              0.1111111111111111,
              "#46039f"
             ],
             [
              0.2222222222222222,
              "#7201a8"
             ],
             [
              0.3333333333333333,
              "#9c179e"
             ],
             [
              0.4444444444444444,
              "#bd3786"
             ],
             [
              0.5555555555555556,
              "#d8576b"
             ],
             [
              0.6666666666666666,
              "#ed7953"
             ],
             [
              0.7777777777777778,
              "#fb9f3a"
             ],
             [
              0.8888888888888888,
              "#fdca26"
             ],
             [
              1,
              "#f0f921"
             ]
            ],
            "type": "histogram2dcontour"
           }
          ],
          "mesh3d": [
           {
            "colorbar": {
             "outlinewidth": 0,
             "ticks": ""
            },
            "type": "mesh3d"
           }
          ],
          "parcoords": [
           {
            "line": {
             "colorbar": {
              "outlinewidth": 0,
              "ticks": ""
             }
            },
            "type": "parcoords"
           }
          ],
          "pie": [
           {
            "automargin": true,
            "type": "pie"
           }
          ],
          "scatter": [
           {
            "marker": {
             "colorbar": {
              "outlinewidth": 0,
              "ticks": ""
             }
            },
            "type": "scatter"
           }
          ],
          "scatter3d": [
           {
            "line": {
             "colorbar": {
              "outlinewidth": 0,
              "ticks": ""
             }
            },
            "marker": {
             "colorbar": {
              "outlinewidth": 0,
              "ticks": ""
             }
            },
            "type": "scatter3d"
           }
          ],
          "scattercarpet": [
           {
            "marker": {
             "colorbar": {
              "outlinewidth": 0,
              "ticks": ""
             }
            },
            "type": "scattercarpet"
           }
          ],
          "scattergeo": [
           {
            "marker": {
             "colorbar": {
              "outlinewidth": 0,
              "ticks": ""
             }
            },
            "type": "scattergeo"
           }
          ],
          "scattergl": [
           {
            "marker": {
             "colorbar": {
              "outlinewidth": 0,
              "ticks": ""
             }
            },
            "type": "scattergl"
           }
          ],
          "scattermapbox": [
           {
            "marker": {
             "colorbar": {
              "outlinewidth": 0,
              "ticks": ""
             }
            },
            "type": "scattermapbox"
           }
          ],
          "scatterpolar": [
           {
            "marker": {
             "colorbar": {
              "outlinewidth": 0,
              "ticks": ""
             }
            },
            "type": "scatterpolar"
           }
          ],
          "scatterpolargl": [
           {
            "marker": {
             "colorbar": {
              "outlinewidth": 0,
              "ticks": ""
             }
            },
            "type": "scatterpolargl"
           }
          ],
          "scatterternary": [
           {
            "marker": {
             "colorbar": {
              "outlinewidth": 0,
              "ticks": ""
             }
            },
            "type": "scatterternary"
           }
          ],
          "surface": [
           {
            "colorbar": {
             "outlinewidth": 0,
             "ticks": ""
            },
            "colorscale": [
             [
              0,
              "#0d0887"
             ],
             [
              0.1111111111111111,
              "#46039f"
             ],
             [
              0.2222222222222222,
              "#7201a8"
             ],
             [
              0.3333333333333333,
              "#9c179e"
             ],
             [
              0.4444444444444444,
              "#bd3786"
             ],
             [
              0.5555555555555556,
              "#d8576b"
             ],
             [
              0.6666666666666666,
              "#ed7953"
             ],
             [
              0.7777777777777778,
              "#fb9f3a"
             ],
             [
              0.8888888888888888,
              "#fdca26"
             ],
             [
              1,
              "#f0f921"
             ]
            ],
            "type": "surface"
           }
          ],
          "table": [
           {
            "cells": {
             "fill": {
              "color": "#EBF0F8"
             },
             "line": {
              "color": "white"
             }
            },
            "header": {
             "fill": {
              "color": "#C8D4E3"
             },
             "line": {
              "color": "white"
             }
            },
            "type": "table"
           }
          ]
         },
         "layout": {
          "annotationdefaults": {
           "arrowcolor": "#2a3f5f",
           "arrowhead": 0,
           "arrowwidth": 1
          },
          "coloraxis": {
           "colorbar": {
            "outlinewidth": 0,
            "ticks": ""
           }
          },
          "colorscale": {
           "diverging": [
            [
             0,
             "#8e0152"
            ],
            [
             0.1,
             "#c51b7d"
            ],
            [
             0.2,
             "#de77ae"
            ],
            [
             0.3,
             "#f1b6da"
            ],
            [
             0.4,
             "#fde0ef"
            ],
            [
             0.5,
             "#f7f7f7"
            ],
            [
             0.6,
             "#e6f5d0"
            ],
            [
             0.7,
             "#b8e186"
            ],
            [
             0.8,
             "#7fbc41"
            ],
            [
             0.9,
             "#4d9221"
            ],
            [
             1,
             "#276419"
            ]
           ],
           "sequential": [
            [
             0,
             "#0d0887"
            ],
            [
             0.1111111111111111,
             "#46039f"
            ],
            [
             0.2222222222222222,
             "#7201a8"
            ],
            [
             0.3333333333333333,
             "#9c179e"
            ],
            [
             0.4444444444444444,
             "#bd3786"
            ],
            [
             0.5555555555555556,
             "#d8576b"
            ],
            [
             0.6666666666666666,
             "#ed7953"
            ],
            [
             0.7777777777777778,
             "#fb9f3a"
            ],
            [
             0.8888888888888888,
             "#fdca26"
            ],
            [
             1,
             "#f0f921"
            ]
           ],
           "sequentialminus": [
            [
             0,
             "#0d0887"
            ],
            [
             0.1111111111111111,
             "#46039f"
            ],
            [
             0.2222222222222222,
             "#7201a8"
            ],
            [
             0.3333333333333333,
             "#9c179e"
            ],
            [
             0.4444444444444444,
             "#bd3786"
            ],
            [
             0.5555555555555556,
             "#d8576b"
            ],
            [
             0.6666666666666666,
             "#ed7953"
            ],
            [
             0.7777777777777778,
             "#fb9f3a"
            ],
            [
             0.8888888888888888,
             "#fdca26"
            ],
            [
             1,
             "#f0f921"
            ]
           ]
          },
          "colorway": [
           "#636efa",
           "#EF553B",
           "#00cc96",
           "#ab63fa",
           "#FFA15A",
           "#19d3f3",
           "#FF6692",
           "#B6E880",
           "#FF97FF",
           "#FECB52"
          ],
          "font": {
           "color": "#2a3f5f"
          },
          "geo": {
           "bgcolor": "white",
           "lakecolor": "white",
           "landcolor": "#E5ECF6",
           "showlakes": true,
           "showland": true,
           "subunitcolor": "white"
          },
          "hoverlabel": {
           "align": "left"
          },
          "hovermode": "closest",
          "mapbox": {
           "style": "light"
          },
          "paper_bgcolor": "white",
          "plot_bgcolor": "#E5ECF6",
          "polar": {
           "angularaxis": {
            "gridcolor": "white",
            "linecolor": "white",
            "ticks": ""
           },
           "bgcolor": "#E5ECF6",
           "radialaxis": {
            "gridcolor": "white",
            "linecolor": "white",
            "ticks": ""
           }
          },
          "scene": {
           "xaxis": {
            "backgroundcolor": "#E5ECF6",
            "gridcolor": "white",
            "gridwidth": 2,
            "linecolor": "white",
            "showbackground": true,
            "ticks": "",
            "zerolinecolor": "white"
           },
           "yaxis": {
            "backgroundcolor": "#E5ECF6",
            "gridcolor": "white",
            "gridwidth": 2,
            "linecolor": "white",
            "showbackground": true,
            "ticks": "",
            "zerolinecolor": "white"
           },
           "zaxis": {
            "backgroundcolor": "#E5ECF6",
            "gridcolor": "white",
            "gridwidth": 2,
            "linecolor": "white",
            "showbackground": true,
            "ticks": "",
            "zerolinecolor": "white"
           }
          },
          "shapedefaults": {
           "line": {
            "color": "#2a3f5f"
           }
          },
          "ternary": {
           "aaxis": {
            "gridcolor": "white",
            "linecolor": "white",
            "ticks": ""
           },
           "baxis": {
            "gridcolor": "white",
            "linecolor": "white",
            "ticks": ""
           },
           "bgcolor": "#E5ECF6",
           "caxis": {
            "gridcolor": "white",
            "linecolor": "white",
            "ticks": ""
           }
          },
          "title": {
           "x": 0.05
          },
          "xaxis": {
           "automargin": true,
           "gridcolor": "white",
           "linecolor": "white",
           "ticks": "",
           "title": {
            "standoff": 15
           },
           "zerolinecolor": "white",
           "zerolinewidth": 2
          },
          "yaxis": {
           "automargin": true,
           "gridcolor": "white",
           "linecolor": "white",
           "ticks": "",
           "title": {
            "standoff": 15
           },
           "zerolinecolor": "white",
           "zerolinewidth": 2
          }
         }
        },
        "title": {
         "text": "Electric FIeld (ENU)",
         "x": 0.5,
         "xanchor": "center",
         "y": 0.9,
         "yanchor": "top"
        },
        "width": 750,
        "xaxis": {
         "exponentformat": "power",
         "gridcolor": "grey",
         "gridwidth": 0.5,
         "linecolor": "black",
         "linewidth": 2,
         "mirror": true,
         "showexponent": "all",
         "showgrid": true,
         "showline": true,
         "title": {
          "text": "$V/m$"
         }
        },
        "yaxis": {
         "dtick": 20,
         "gridcolor": "grey",
         "gridwidth": 0.5,
         "linecolor": "black",
         "linewidth": 2,
         "mirror": true,
         "showgrid": true,
         "showline": true,
         "tick0": 60,
         "title": {
          "text": "Altitude (km)"
         }
        }
       }
      },
      "text/html": [
       "<div>\n",
       "        \n",
       "        \n",
       "            <div id=\"b969d069-75f9-49fa-9a1f-05035e7b3436\" class=\"plotly-graph-div\" style=\"height:750px; width:750px;\"></div>\n",
       "            <script type=\"text/javascript\">\n",
       "                require([\"plotly\"], function(Plotly) {\n",
       "                    window.PLOTLYENV=window.PLOTLYENV || {};\n",
       "                    \n",
       "                if (document.getElementById(\"b969d069-75f9-49fa-9a1f-05035e7b3436\")) {\n",
       "                    Plotly.newPlot(\n",
       "                        'b969d069-75f9-49fa-9a1f-05035e7b3436',\n",
       "                        [{\"marker\": {\"color\": \"blue\"}, \"mode\": \"lines\", \"name\": \"East\", \"type\": \"scatter\", \"x\": [9.10121641240413e-06, 1.2384526693124277e-05, 1.552879944079731e-05, 1.8604814611952627e-05, 2.1708881729468792e-05, 2.4966527667777817e-05, 2.8539699506505622e-05, 3.262267178673556e-05, 3.7415583101368466e-05, 4.306832662751383e-05, 4.9617829707950846e-05, 5.699448777922336e-05, 6.507966055175707e-05, 7.37487756089731e-05, 8.29008880636929e-05, 9.24943757541107e-05, 0.00010255947014351072, 0.00011317404169039307, 0.00012442669614505704, 0.00013638909758191477, 0.00014910345963859448, 0.00016258066750126396, 0.00017680401225535778, 0.00019173488611824642, 0.00020731977004323921, 0.0002234980219484793, 0.00024020801549485985, 0.00025739053676195175, 0.0002749903933375053, 0.0002929562834130626, 0.00031123951607092, 0.000329793230704191, 0.0003485719334714579, 0.00036753129681975155, 0.0003866278047531828, 0.0004058185730865386, 0.00042506107773355594, 0.0004443133485893672, 0.00046353406613588446, 0.0004826830740476656, 0.0005017219487140777, 0.0005206148206146875, 0.000539329141931531, 0.0005578364176692938, 0.000576112823356553, 0.0005941397383863873, 0.0006119042514105001, 0.0006293991817156386, 0.0006466235389988916, 0.0006635826016468544, 0.0006802883527847838, 0.0006967596557255302, 0.000713022972499375, 0.0007291133406873486, 0.0007450753350158283, 0.000760965176045972], \"y\": [96.36432, 97.69113, 98.96521, 100.21858, 101.49149, 102.83465, 104.31025, 105.99205, 107.9605, 110.28514, 112.99677, 116.0809, 119.49435, 123.18561, 127.1144, 131.26863, 135.66771, 140.35171, 145.36669, 150.75399, 156.54488, 162.75891, 169.4047, 176.48172, 183.98288, 191.89784, 200.21538, 208.92486, 218.01702, 227.48388, 237.31828, 247.51354, 258.0632, 268.96082, 280.19986, 291.77326, 303.6734, 315.89174, 328.419, 341.2452, 354.35996, 367.75308, 381.41508, 395.33784, 409.5154, 423.9448, 438.62676, 453.56656, 468.7752, 484.27028, 500.07764, 516.23308, 532.7848, 549.7966, 567.35232, 585.562, 603.77168]}, {\"marker\": {\"color\": \"green\"}, \"mode\": \"lines\", \"name\": \"North\", \"type\": \"scatter\", \"x\": [0.008677804035912721, 0.008669240527543287, 0.008661028754788929, 0.00865296906294815, 0.008644806568340851, 0.008636214018635527, 0.008626784342278006, 0.008616032002826159, 0.008603437332187573, 0.008588576077957967, 0.008571290667952555, 0.00855171391030969, 0.008530143063049422, 0.008506914297741712, 0.008482292796356566, 0.008456371221863799, 0.008429047621185315, 0.008400093822150682, 0.008369247257521506, 0.008336284406983144, 0.008301050650205996, 0.008263470090056162, 0.008223538473937331, 0.008181310545071235, 0.008136880695572236, 0.008090365331744993, 0.008041885258957184, 0.007991557615940862, 0.00793949022668474, 0.007885783070185648, 0.007830529957687373, 0.0077738219512928615, 0.007715748596910067, 0.007656396179585011, 0.007595852971055901, 0.007534207581127269, 0.007471549841908307, 0.007407972832565755, 0.0073435709812537985, 0.00727844057783279, 0.007212675273732886, 0.00714636769169894, 0.007079601116430302, 0.007012451281881644, 0.006944981374959915, 0.006877237000107304, 0.0068092472742992665, 0.006741018736623236, 0.006672534802296925, 0.006603750937951498, 0.0065345904990462686, 0.006464940844423793, 0.0063946452533632375, 0.0063234939257245625, 0.006251210726247856, 0.006177436519480633], \"y\": [96.36432, 97.69113, 98.96521, 100.21858, 101.49149, 102.83465, 104.31025, 105.99205, 107.9605, 110.28514, 112.99677, 116.0809, 119.49435, 123.18561, 127.1144, 131.26863, 135.66771, 140.35171, 145.36669, 150.75399, 156.54488, 162.75891, 169.4047, 176.48172, 183.98288, 191.89784, 200.21538, 208.92486, 218.01702, 227.48388, 237.31828, 247.51354, 258.0632, 268.96082, 280.19986, 291.77326, 303.6734, 315.89174, 328.419, 341.2452, 354.35996, 367.75308, 381.41508, 395.33784, 409.5154, 423.9448, 438.62676, 453.56656, 468.7752, 484.27028, 500.07764, 516.23308, 532.7848, 549.7966, 567.35232, 585.562, 603.77168]}, {\"marker\": {\"color\": \"red\"}, \"mode\": \"lines\", \"name\": \"Up\", \"type\": \"scatter\", \"x\": [0.0014458501912472232, 0.0014433306413153399, 0.0014409158492218817, 0.001438547586494917, 0.00143615088462781, 0.0014336297130915405, 0.0014308641505398902, 0.0014277114009098495, 0.0014240198397047095, 0.0014196673026650702, 0.001414611205035413, 0.0014088935635513074, 0.0014026032585396468, 0.0013958395958137445, 0.0013886814007926958, 0.001381157719734486, 0.001373241111573355, 0.0013648676661282971, 0.0013559643697793305, 0.0013464701272675821, 0.001336344788338789, 0.001325571551582037, 0.001314154665053852, 0.0013021155011610833, 0.0012894870408037319, 0.0012763082977072602, 0.0012626194403356815, 0.0012484593294217138, 0.0012338640316094573, 0.0012188671206908182, 0.0012035003324837952, 0.0011877943619551345, 0.0011717792161973929, 0.001155484020501745, 0.0011389379383906348, 0.001122170046245298, 0.0011052095018197789, 0.0010880859052168224, 0.0010708288849302946, 0.0010534680404108649, 0.0010360320184296442, 0.00101854843692136, 0.0010010423069222786, 0.0009835360326044286, 0.0009660483585838664, 0.0009485933550374235, 0.0009311804258353395, 0.0009138132735666137, 0.000896489600342128, 0.0008792003356447335, 0.000861928754523474, 0.0008446497245609996, 0.0008273281267774364, 0.0008099170219537526, 0.0007923550428339094, 0.0007745628997261927], \"y\": [96.36432, 97.69113, 98.96521, 100.21858, 101.49149, 102.83465, 104.31025, 105.99205, 107.9605, 110.28514, 112.99677, 116.0809, 119.49435, 123.18561, 127.1144, 131.26863, 135.66771, 140.35171, 145.36669, 150.75399, 156.54488, 162.75891, 169.4047, 176.48172, 183.98288, 191.89784, 200.21538, 208.92486, 218.01702, 227.48388, 237.31828, 247.51354, 258.0632, 268.96082, 280.19986, 291.77326, 303.6734, 315.89174, 328.419, 341.2452, 354.35996, 367.75308, 381.41508, 395.33784, 409.5154, 423.9448, 438.62676, 453.56656, 468.7752, 484.27028, 500.07764, 516.23308, 532.7848, 549.7966, 567.35232, 585.562, 603.77168]}],\n",
       "                        {\"height\": 750, \"template\": {\"data\": {\"bar\": [{\"error_x\": {\"color\": \"#2a3f5f\"}, \"error_y\": {\"color\": \"#2a3f5f\"}, \"marker\": {\"line\": {\"color\": \"#E5ECF6\", \"width\": 0.5}}, \"type\": \"bar\"}], \"barpolar\": [{\"marker\": {\"line\": {\"color\": \"#E5ECF6\", \"width\": 0.5}}, \"type\": \"barpolar\"}], \"carpet\": [{\"aaxis\": {\"endlinecolor\": \"#2a3f5f\", \"gridcolor\": \"white\", \"linecolor\": \"white\", \"minorgridcolor\": \"white\", \"startlinecolor\": \"#2a3f5f\"}, \"baxis\": {\"endlinecolor\": \"#2a3f5f\", \"gridcolor\": \"white\", \"linecolor\": \"white\", \"minorgridcolor\": \"white\", \"startlinecolor\": \"#2a3f5f\"}, \"type\": \"carpet\"}], \"choropleth\": [{\"colorbar\": {\"outlinewidth\": 0, \"ticks\": \"\"}, \"type\": \"choropleth\"}], \"contour\": [{\"colorbar\": {\"outlinewidth\": 0, \"ticks\": \"\"}, \"colorscale\": [[0.0, \"#0d0887\"], [0.1111111111111111, \"#46039f\"], [0.2222222222222222, \"#7201a8\"], [0.3333333333333333, \"#9c179e\"], [0.4444444444444444, \"#bd3786\"], [0.5555555555555556, \"#d8576b\"], [0.6666666666666666, \"#ed7953\"], [0.7777777777777778, \"#fb9f3a\"], [0.8888888888888888, \"#fdca26\"], [1.0, \"#f0f921\"]], \"type\": \"contour\"}], \"contourcarpet\": [{\"colorbar\": {\"outlinewidth\": 0, \"ticks\": \"\"}, \"type\": \"contourcarpet\"}], \"heatmap\": [{\"colorbar\": {\"outlinewidth\": 0, \"ticks\": \"\"}, \"colorscale\": [[0.0, \"#0d0887\"], [0.1111111111111111, \"#46039f\"], [0.2222222222222222, \"#7201a8\"], [0.3333333333333333, \"#9c179e\"], [0.4444444444444444, \"#bd3786\"], [0.5555555555555556, \"#d8576b\"], [0.6666666666666666, \"#ed7953\"], [0.7777777777777778, \"#fb9f3a\"], [0.8888888888888888, \"#fdca26\"], [1.0, \"#f0f921\"]], \"type\": \"heatmap\"}], \"heatmapgl\": [{\"colorbar\": {\"outlinewidth\": 0, \"ticks\": \"\"}, \"colorscale\": [[0.0, \"#0d0887\"], [0.1111111111111111, \"#46039f\"], [0.2222222222222222, \"#7201a8\"], [0.3333333333333333, \"#9c179e\"], [0.4444444444444444, \"#bd3786\"], [0.5555555555555556, \"#d8576b\"], [0.6666666666666666, \"#ed7953\"], [0.7777777777777778, \"#fb9f3a\"], [0.8888888888888888, \"#fdca26\"], [1.0, \"#f0f921\"]], \"type\": \"heatmapgl\"}], \"histogram\": [{\"marker\": {\"colorbar\": {\"outlinewidth\": 0, \"ticks\": \"\"}}, \"type\": \"histogram\"}], \"histogram2d\": [{\"colorbar\": {\"outlinewidth\": 0, \"ticks\": \"\"}, \"colorscale\": [[0.0, \"#0d0887\"], [0.1111111111111111, \"#46039f\"], [0.2222222222222222, \"#7201a8\"], [0.3333333333333333, \"#9c179e\"], [0.4444444444444444, \"#bd3786\"], [0.5555555555555556, \"#d8576b\"], [0.6666666666666666, \"#ed7953\"], [0.7777777777777778, \"#fb9f3a\"], [0.8888888888888888, \"#fdca26\"], [1.0, \"#f0f921\"]], \"type\": \"histogram2d\"}], \"histogram2dcontour\": [{\"colorbar\": {\"outlinewidth\": 0, \"ticks\": \"\"}, \"colorscale\": [[0.0, \"#0d0887\"], [0.1111111111111111, \"#46039f\"], [0.2222222222222222, \"#7201a8\"], [0.3333333333333333, \"#9c179e\"], [0.4444444444444444, \"#bd3786\"], [0.5555555555555556, \"#d8576b\"], [0.6666666666666666, \"#ed7953\"], [0.7777777777777778, \"#fb9f3a\"], [0.8888888888888888, \"#fdca26\"], [1.0, \"#f0f921\"]], \"type\": \"histogram2dcontour\"}], \"mesh3d\": [{\"colorbar\": {\"outlinewidth\": 0, \"ticks\": \"\"}, \"type\": \"mesh3d\"}], \"parcoords\": [{\"line\": {\"colorbar\": {\"outlinewidth\": 0, \"ticks\": \"\"}}, \"type\": \"parcoords\"}], \"pie\": [{\"automargin\": true, \"type\": \"pie\"}], \"scatter\": [{\"marker\": {\"colorbar\": {\"outlinewidth\": 0, \"ticks\": \"\"}}, \"type\": \"scatter\"}], \"scatter3d\": [{\"line\": {\"colorbar\": {\"outlinewidth\": 0, \"ticks\": \"\"}}, \"marker\": {\"colorbar\": {\"outlinewidth\": 0, \"ticks\": \"\"}}, \"type\": \"scatter3d\"}], \"scattercarpet\": [{\"marker\": {\"colorbar\": {\"outlinewidth\": 0, \"ticks\": \"\"}}, \"type\": \"scattercarpet\"}], \"scattergeo\": [{\"marker\": {\"colorbar\": {\"outlinewidth\": 0, \"ticks\": \"\"}}, \"type\": \"scattergeo\"}], \"scattergl\": [{\"marker\": {\"colorbar\": {\"outlinewidth\": 0, \"ticks\": \"\"}}, \"type\": \"scattergl\"}], \"scattermapbox\": [{\"marker\": {\"colorbar\": {\"outlinewidth\": 0, \"ticks\": \"\"}}, \"type\": \"scattermapbox\"}], \"scatterpolar\": [{\"marker\": {\"colorbar\": {\"outlinewidth\": 0, \"ticks\": \"\"}}, \"type\": \"scatterpolar\"}], \"scatterpolargl\": [{\"marker\": {\"colorbar\": {\"outlinewidth\": 0, \"ticks\": \"\"}}, \"type\": \"scatterpolargl\"}], \"scatterternary\": [{\"marker\": {\"colorbar\": {\"outlinewidth\": 0, \"ticks\": \"\"}}, \"type\": \"scatterternary\"}], \"surface\": [{\"colorbar\": {\"outlinewidth\": 0, \"ticks\": \"\"}, \"colorscale\": [[0.0, \"#0d0887\"], [0.1111111111111111, \"#46039f\"], [0.2222222222222222, \"#7201a8\"], [0.3333333333333333, \"#9c179e\"], [0.4444444444444444, \"#bd3786\"], [0.5555555555555556, \"#d8576b\"], [0.6666666666666666, \"#ed7953\"], [0.7777777777777778, \"#fb9f3a\"], [0.8888888888888888, \"#fdca26\"], [1.0, \"#f0f921\"]], \"type\": \"surface\"}], \"table\": [{\"cells\": {\"fill\": {\"color\": \"#EBF0F8\"}, \"line\": {\"color\": \"white\"}}, \"header\": {\"fill\": {\"color\": \"#C8D4E3\"}, \"line\": {\"color\": \"white\"}}, \"type\": \"table\"}]}, \"layout\": {\"annotationdefaults\": {\"arrowcolor\": \"#2a3f5f\", \"arrowhead\": 0, \"arrowwidth\": 1}, \"coloraxis\": {\"colorbar\": {\"outlinewidth\": 0, \"ticks\": \"\"}}, \"colorscale\": {\"diverging\": [[0, \"#8e0152\"], [0.1, \"#c51b7d\"], [0.2, \"#de77ae\"], [0.3, \"#f1b6da\"], [0.4, \"#fde0ef\"], [0.5, \"#f7f7f7\"], [0.6, \"#e6f5d0\"], [0.7, \"#b8e186\"], [0.8, \"#7fbc41\"], [0.9, \"#4d9221\"], [1, \"#276419\"]], \"sequential\": [[0.0, \"#0d0887\"], [0.1111111111111111, \"#46039f\"], [0.2222222222222222, \"#7201a8\"], [0.3333333333333333, \"#9c179e\"], [0.4444444444444444, \"#bd3786\"], [0.5555555555555556, \"#d8576b\"], [0.6666666666666666, \"#ed7953\"], [0.7777777777777778, \"#fb9f3a\"], [0.8888888888888888, \"#fdca26\"], [1.0, \"#f0f921\"]], \"sequentialminus\": [[0.0, \"#0d0887\"], [0.1111111111111111, \"#46039f\"], [0.2222222222222222, \"#7201a8\"], [0.3333333333333333, \"#9c179e\"], [0.4444444444444444, \"#bd3786\"], [0.5555555555555556, \"#d8576b\"], [0.6666666666666666, \"#ed7953\"], [0.7777777777777778, \"#fb9f3a\"], [0.8888888888888888, \"#fdca26\"], [1.0, \"#f0f921\"]]}, \"colorway\": [\"#636efa\", \"#EF553B\", \"#00cc96\", \"#ab63fa\", \"#FFA15A\", \"#19d3f3\", \"#FF6692\", \"#B6E880\", \"#FF97FF\", \"#FECB52\"], \"font\": {\"color\": \"#2a3f5f\"}, \"geo\": {\"bgcolor\": \"white\", \"lakecolor\": \"white\", \"landcolor\": \"#E5ECF6\", \"showlakes\": true, \"showland\": true, \"subunitcolor\": \"white\"}, \"hoverlabel\": {\"align\": \"left\"}, \"hovermode\": \"closest\", \"mapbox\": {\"style\": \"light\"}, \"paper_bgcolor\": \"white\", \"plot_bgcolor\": \"#E5ECF6\", \"polar\": {\"angularaxis\": {\"gridcolor\": \"white\", \"linecolor\": \"white\", \"ticks\": \"\"}, \"bgcolor\": \"#E5ECF6\", \"radialaxis\": {\"gridcolor\": \"white\", \"linecolor\": \"white\", \"ticks\": \"\"}}, \"scene\": {\"xaxis\": {\"backgroundcolor\": \"#E5ECF6\", \"gridcolor\": \"white\", \"gridwidth\": 2, \"linecolor\": \"white\", \"showbackground\": true, \"ticks\": \"\", \"zerolinecolor\": \"white\"}, \"yaxis\": {\"backgroundcolor\": \"#E5ECF6\", \"gridcolor\": \"white\", \"gridwidth\": 2, \"linecolor\": \"white\", \"showbackground\": true, \"ticks\": \"\", \"zerolinecolor\": \"white\"}, \"zaxis\": {\"backgroundcolor\": \"#E5ECF6\", \"gridcolor\": \"white\", \"gridwidth\": 2, \"linecolor\": \"white\", \"showbackground\": true, \"ticks\": \"\", \"zerolinecolor\": \"white\"}}, \"shapedefaults\": {\"line\": {\"color\": \"#2a3f5f\"}}, \"ternary\": {\"aaxis\": {\"gridcolor\": \"white\", \"linecolor\": \"white\", \"ticks\": \"\"}, \"baxis\": {\"gridcolor\": \"white\", \"linecolor\": \"white\", \"ticks\": \"\"}, \"bgcolor\": \"#E5ECF6\", \"caxis\": {\"gridcolor\": \"white\", \"linecolor\": \"white\", \"ticks\": \"\"}}, \"title\": {\"x\": 0.05}, \"xaxis\": {\"automargin\": true, \"gridcolor\": \"white\", \"linecolor\": \"white\", \"ticks\": \"\", \"title\": {\"standoff\": 15}, \"zerolinecolor\": \"white\", \"zerolinewidth\": 2}, \"yaxis\": {\"automargin\": true, \"gridcolor\": \"white\", \"linecolor\": \"white\", \"ticks\": \"\", \"title\": {\"standoff\": 15}, \"zerolinecolor\": \"white\", \"zerolinewidth\": 2}}}, \"title\": {\"text\": \"Electric FIeld (ENU)\", \"x\": 0.5, \"xanchor\": \"center\", \"y\": 0.9, \"yanchor\": \"top\"}, \"width\": 750, \"xaxis\": {\"exponentformat\": \"power\", \"gridcolor\": \"grey\", \"gridwidth\": 0.5, \"linecolor\": \"black\", \"linewidth\": 2, \"mirror\": true, \"showexponent\": \"all\", \"showgrid\": true, \"showline\": true, \"title\": {\"text\": \"$V/m$\"}}, \"yaxis\": {\"dtick\": 20, \"gridcolor\": \"grey\", \"gridwidth\": 0.5, \"linecolor\": \"black\", \"linewidth\": 2, \"mirror\": true, \"showgrid\": true, \"showline\": true, \"tick0\": 60, \"title\": {\"text\": \"Altitude (km)\"}}},\n",
       "                        {\"responsive\": true}\n",
       "                    ).then(function(){\n",
       "                            \n",
       "var gd = document.getElementById('b969d069-75f9-49fa-9a1f-05035e7b3436');\n",
       "var x = new MutationObserver(function (mutations, observer) {{\n",
       "        var display = window.getComputedStyle(gd).display;\n",
       "        if (!display || display === 'none') {{\n",
       "            console.log([gd, 'removed!']);\n",
       "            Plotly.purge(gd);\n",
       "            observer.disconnect();\n",
       "        }}\n",
       "}});\n",
       "\n",
       "// Listen for the removal of the full notebook cells\n",
       "var notebookContainer = gd.closest('#notebook-container');\n",
       "if (notebookContainer) {{\n",
       "    x.observe(notebookContainer, {childList: true});\n",
       "}}\n",
       "\n",
       "// Listen for the clearing of the current output cell\n",
       "var outputEl = gd.closest('.output');\n",
       "if (outputEl) {{\n",
       "    x.observe(outputEl, {childList: true});\n",
       "}}\n",
       "\n",
       "                        })\n",
       "                };\n",
       "                });\n",
       "            </script>\n",
       "        </div>"
      ]
     },
     "metadata": {},
     "output_type": "display_data"
    },
    {
     "name": "stdout",
     "output_type": "stream",
     "text": [
      "Plotting electric currents...\n"
     ]
    },
    {
     "data": {
      "application/vnd.plotly.v1+json": {
       "config": {
        "plotlyServerURL": "https://plot.ly"
       },
       "data": [
        {
         "marker": {
          "color": "blue"
         },
         "mode": "lines",
         "name": "East",
         "type": "scatter",
         "x": [
          -2.914230898507996e-11,
          -4.70711899724903e-11,
          -6.276795627449742e-11,
          5.206876019284937e-11,
          7.078230960767968e-10,
          2.9730259876377845e-09,
          9.022145554964338e-09,
          2.194362773993952e-08,
          4.4013457333903096e-08,
          7.482585338202927e-08,
          1.1056343630865936e-07,
          1.4345631357569278e-07,
          1.689873523564284e-07,
          1.833519983166162e-07,
          1.7598224380865614e-07,
          1.4674871104091365e-07,
          1.0791012047018855e-07,
          7.166089287753619e-08,
          4.4398165992496583e-08,
          2.6973647415017908e-08,
          1.7168104458236148e-08,
          1.2118274500954937e-08,
          9.861023551412378e-09,
          8.74816228388305e-09,
          7.980400306079843e-09,
          7.509180645440236e-09,
          7.147782401828356e-09,
          6.771664367374547e-09,
          6.30774982725565e-09,
          5.740650944084095e-09,
          5.1019722154977915e-09,
          4.439314549600056e-09,
          3.792290927635186e-09,
          3.1862807909636008e-09,
          2.6357713875401176e-09,
          2.1483911124666357e-09,
          1.7269944968099753e-09,
          1.370620049156562e-09,
          1.075295947673075e-09,
          8.349831248581151e-10,
          6.425454366322594e-10,
          4.905754994140727e-10,
          3.719921952144093e-10,
          2.8040279008716804e-10,
          2.1027528880957324e-10,
          1.5697429186104456e-10,
          1.16712847421327e-10,
          8.645894994439284e-11,
          6.382412063053126e-11,
          4.695162438377306e-11,
          3.441366793127671e-11,
          2.5122020661332886e-11,
          1.8253259836847332e-11,
          1.318798398976199e-11,
          9.462426010151279e-12,
          6.730571626728617e-12
         ],
         "y": [
          96.36432,
          97.69113,
          98.96521,
          100.21858,
          101.49149,
          102.83465,
          104.31025,
          105.99205,
          107.9605,
          110.28514,
          112.99677,
          116.0809,
          119.49435,
          123.18561,
          127.1144,
          131.26863,
          135.66771,
          140.35171,
          145.36669,
          150.75399,
          156.54488,
          162.75891,
          169.4047,
          176.48172,
          183.98288,
          191.89784,
          200.21538,
          208.92486,
          218.01702,
          227.48388,
          237.31828,
          247.51354,
          258.0632,
          268.96082,
          280.19986,
          291.77326,
          303.6734,
          315.89174,
          328.419,
          341.2452,
          354.35996,
          367.75308,
          381.41508,
          395.33784,
          409.5154,
          423.9448,
          438.62676,
          453.56656,
          468.7752,
          484.27028,
          500.07764,
          516.23308,
          532.7848,
          549.7966,
          567.35232,
          585.562,
          603.77168
         ]
        },
        {
         "marker": {
          "color": "green"
         },
         "mode": "lines",
         "name": "North",
         "type": "scatter",
         "x": [
          4.773488822787416e-09,
          8.532074857702778e-09,
          1.509764162937872e-08,
          2.580380372855783e-08,
          4.45520901479183e-08,
          7.820773668774504e-08,
          1.3976653526678175e-07,
          2.509823571258172e-07,
          4.3657655644808663e-07,
          6.939789766031281e-07,
          9.508802926742462e-07,
          1.0849846550607053e-06,
          1.040402910753582e-06,
          8.796424849828816e-07,
          6.954599164757226e-07,
          5.379237561824882e-07,
          4.153083218900538e-07,
          3.207112374814411e-07,
          2.474488067953323e-07,
          1.9160870938805566e-07,
          1.5030626099954585e-07,
          1.205662318142413e-07,
          1.0210108008526577e-07,
          8.892566399210013e-08,
          7.784530404613514e-08,
          7.040521502558202e-08,
          6.517388012755169e-08,
          6.073356044099418e-08,
          5.597409987982954e-08,
          5.034029951548419e-08,
          4.3896188669934675e-08,
          3.709907572407276e-08,
          3.0485755000663595e-08,
          2.4466098415964408e-08,
          1.9261793449510387e-08,
          1.4933803485018537e-08,
          1.1437895203228429e-08,
          8.675337762403071e-09,
          6.528387890517506e-09,
          4.881196088386775e-09,
          3.6301466241475313e-09,
          2.6876305720849443e-09,
          1.982223147726853e-09,
          1.4571368688815603e-09,
          1.0680417687435937e-09,
          7.808068975980337e-10,
          5.694394302514024e-10,
          4.143163768664905e-10,
          3.0072902803696447e-10,
          2.1771748602025885e-10,
          1.571554960021075e-10,
          1.1304254604541359e-10,
          8.096278431437361e-11,
          5.7675368262613905e-11,
          4.080687013289671e-11,
          2.8621683550264748e-11
         ],
         "y": [
          96.36432,
          97.69113,
          98.96521,
          100.21858,
          101.49149,
          102.83465,
          104.31025,
          105.99205,
          107.9605,
          110.28514,
          112.99677,
          116.0809,
          119.49435,
          123.18561,
          127.1144,
          131.26863,
          135.66771,
          140.35171,
          145.36669,
          150.75399,
          156.54488,
          162.75891,
          169.4047,
          176.48172,
          183.98288,
          191.89784,
          200.21538,
          208.92486,
          218.01702,
          227.48388,
          237.31828,
          247.51354,
          258.0632,
          268.96082,
          280.19986,
          291.77326,
          303.6734,
          315.89174,
          328.419,
          341.2452,
          354.35996,
          367.75308,
          381.41508,
          395.33784,
          409.5154,
          423.9448,
          438.62676,
          453.56656,
          468.7752,
          484.27028,
          500.07764,
          516.23308,
          532.7848,
          549.7966,
          567.35232,
          585.562,
          603.77168
         ]
        },
        {
         "marker": {
          "color": "red"
         },
         "mode": "lines",
         "name": "Up",
         "type": "scatter",
         "x": [
          8.013294062687479e-10,
          1.4308984327516065e-09,
          2.527533007406962e-09,
          4.290456008506092e-09,
          7.296762065303619e-09,
          1.2500427222943919e-08,
          2.16794913286539e-08,
          3.7903723102212333e-08,
          6.486881171464069e-08,
          1.0219040868854214e-07,
          1.3849559527989403e-07,
          1.5484482814597363e-07,
          1.4281222645081642e-07,
          1.1350168147677916e-07,
          8.417546708533796e-08,
          6.314693012841403e-08,
          4.9619804898376684e-08,
          4.0299851945989966e-08,
          3.295062366908476e-08,
          2.6768800335855765e-08,
          2.1660699269540553e-08,
          1.7632181967575543e-08,
          1.4972773303499358e-08,
          1.29855565699765e-08,
          1.1285980551569253e-08,
          1.0132403801826174e-08,
          9.321985686997569e-09,
          8.644976676371354e-09,
          7.934255662025197e-09,
          7.103693196216695e-09,
          6.159360901975821e-09,
          5.1674988195099665e-09,
          4.207689748231146e-09,
          3.3408222552536862e-09,
          2.599004089594951e-09,
          1.989610443642273e-09,
          1.5040582831997167e-09,
          1.1258786035058909e-09,
          8.362892724673117e-10,
          6.173613177130651e-10,
          4.5346943443096085e-10,
          3.3171345042392174e-10,
          2.418085400259499e-10,
          1.7574737660112944e-10,
          1.2740084677042284e-10,
          9.213583041044314e-11,
          6.64838390500421e-11,
          4.786785223936306e-11,
          3.438482020607549e-11,
          2.463638927945639e-11,
          1.7599264521978497e-11,
          1.25271451474029e-11,
          8.877248051924444e-12,
          6.255674000585077e-12,
          4.377055852063937e-12,
          3.0348902915905236e-12
         ],
         "y": [
          96.36432,
          97.69113,
          98.96521,
          100.21858,
          101.49149,
          102.83465,
          104.31025,
          105.99205,
          107.9605,
          110.28514,
          112.99677,
          116.0809,
          119.49435,
          123.18561,
          127.1144,
          131.26863,
          135.66771,
          140.35171,
          145.36669,
          150.75399,
          156.54488,
          162.75891,
          169.4047,
          176.48172,
          183.98288,
          191.89784,
          200.21538,
          208.92486,
          218.01702,
          227.48388,
          237.31828,
          247.51354,
          258.0632,
          268.96082,
          280.19986,
          291.77326,
          303.6734,
          315.89174,
          328.419,
          341.2452,
          354.35996,
          367.75308,
          381.41508,
          395.33784,
          409.5154,
          423.9448,
          438.62676,
          453.56656,
          468.7752,
          484.27028,
          500.07764,
          516.23308,
          532.7848,
          549.7966,
          567.35232,
          585.562,
          603.77168
         ]
        }
       ],
       "layout": {
        "height": 750,
        "template": {
         "data": {
          "bar": [
           {
            "error_x": {
             "color": "#2a3f5f"
            },
            "error_y": {
             "color": "#2a3f5f"
            },
            "marker": {
             "line": {
              "color": "#E5ECF6",
              "width": 0.5
             }
            },
            "type": "bar"
           }
          ],
          "barpolar": [
           {
            "marker": {
             "line": {
              "color": "#E5ECF6",
              "width": 0.5
             }
            },
            "type": "barpolar"
           }
          ],
          "carpet": [
           {
            "aaxis": {
             "endlinecolor": "#2a3f5f",
             "gridcolor": "white",
             "linecolor": "white",
             "minorgridcolor": "white",
             "startlinecolor": "#2a3f5f"
            },
            "baxis": {
             "endlinecolor": "#2a3f5f",
             "gridcolor": "white",
             "linecolor": "white",
             "minorgridcolor": "white",
             "startlinecolor": "#2a3f5f"
            },
            "type": "carpet"
           }
          ],
          "choropleth": [
           {
            "colorbar": {
             "outlinewidth": 0,
             "ticks": ""
            },
            "type": "choropleth"
           }
          ],
          "contour": [
           {
            "colorbar": {
             "outlinewidth": 0,
             "ticks": ""
            },
            "colorscale": [
             [
              0,
              "#0d0887"
             ],
             [
              0.1111111111111111,
              "#46039f"
             ],
             [
              0.2222222222222222,
              "#7201a8"
             ],
             [
              0.3333333333333333,
              "#9c179e"
             ],
             [
              0.4444444444444444,
              "#bd3786"
             ],
             [
              0.5555555555555556,
              "#d8576b"
             ],
             [
              0.6666666666666666,
              "#ed7953"
             ],
             [
              0.7777777777777778,
              "#fb9f3a"
             ],
             [
              0.8888888888888888,
              "#fdca26"
             ],
             [
              1,
              "#f0f921"
             ]
            ],
            "type": "contour"
           }
          ],
          "contourcarpet": [
           {
            "colorbar": {
             "outlinewidth": 0,
             "ticks": ""
            },
            "type": "contourcarpet"
           }
          ],
          "heatmap": [
           {
            "colorbar": {
             "outlinewidth": 0,
             "ticks": ""
            },
            "colorscale": [
             [
              0,
              "#0d0887"
             ],
             [
              0.1111111111111111,
              "#46039f"
             ],
             [
              0.2222222222222222,
              "#7201a8"
             ],
             [
              0.3333333333333333,
              "#9c179e"
             ],
             [
              0.4444444444444444,
              "#bd3786"
             ],
             [
              0.5555555555555556,
              "#d8576b"
             ],
             [
              0.6666666666666666,
              "#ed7953"
             ],
             [
              0.7777777777777778,
              "#fb9f3a"
             ],
             [
              0.8888888888888888,
              "#fdca26"
             ],
             [
              1,
              "#f0f921"
             ]
            ],
            "type": "heatmap"
           }
          ],
          "heatmapgl": [
           {
            "colorbar": {
             "outlinewidth": 0,
             "ticks": ""
            },
            "colorscale": [
             [
              0,
              "#0d0887"
             ],
             [
              0.1111111111111111,
              "#46039f"
             ],
             [
              0.2222222222222222,
              "#7201a8"
             ],
             [
              0.3333333333333333,
              "#9c179e"
             ],
             [
              0.4444444444444444,
              "#bd3786"
             ],
             [
              0.5555555555555556,
              "#d8576b"
             ],
             [
              0.6666666666666666,
              "#ed7953"
             ],
             [
              0.7777777777777778,
              "#fb9f3a"
             ],
             [
              0.8888888888888888,
              "#fdca26"
             ],
             [
              1,
              "#f0f921"
             ]
            ],
            "type": "heatmapgl"
           }
          ],
          "histogram": [
           {
            "marker": {
             "colorbar": {
              "outlinewidth": 0,
              "ticks": ""
             }
            },
            "type": "histogram"
           }
          ],
          "histogram2d": [
           {
            "colorbar": {
             "outlinewidth": 0,
             "ticks": ""
            },
            "colorscale": [
             [
              0,
              "#0d0887"
             ],
             [
              0.1111111111111111,
              "#46039f"
             ],
             [
              0.2222222222222222,
              "#7201a8"
             ],
             [
              0.3333333333333333,
              "#9c179e"
             ],
             [
              0.4444444444444444,
              "#bd3786"
             ],
             [
              0.5555555555555556,
              "#d8576b"
             ],
             [
              0.6666666666666666,
              "#ed7953"
             ],
             [
              0.7777777777777778,
              "#fb9f3a"
             ],
             [
              0.8888888888888888,
              "#fdca26"
             ],
             [
              1,
              "#f0f921"
             ]
            ],
            "type": "histogram2d"
           }
          ],
          "histogram2dcontour": [
           {
            "colorbar": {
             "outlinewidth": 0,
             "ticks": ""
            },
            "colorscale": [
             [
              0,
              "#0d0887"
             ],
             [
              0.1111111111111111,
              "#46039f"
             ],
             [
              0.2222222222222222,
              "#7201a8"
             ],
             [
              0.3333333333333333,
              "#9c179e"
             ],
             [
              0.4444444444444444,
              "#bd3786"
             ],
             [
              0.5555555555555556,
              "#d8576b"
             ],
             [
              0.6666666666666666,
              "#ed7953"
             ],
             [
              0.7777777777777778,
              "#fb9f3a"
             ],
             [
              0.8888888888888888,
              "#fdca26"
             ],
             [
              1,
              "#f0f921"
             ]
            ],
            "type": "histogram2dcontour"
           }
          ],
          "mesh3d": [
           {
            "colorbar": {
             "outlinewidth": 0,
             "ticks": ""
            },
            "type": "mesh3d"
           }
          ],
          "parcoords": [
           {
            "line": {
             "colorbar": {
              "outlinewidth": 0,
              "ticks": ""
             }
            },
            "type": "parcoords"
           }
          ],
          "pie": [
           {
            "automargin": true,
            "type": "pie"
           }
          ],
          "scatter": [
           {
            "marker": {
             "colorbar": {
              "outlinewidth": 0,
              "ticks": ""
             }
            },
            "type": "scatter"
           }
          ],
          "scatter3d": [
           {
            "line": {
             "colorbar": {
              "outlinewidth": 0,
              "ticks": ""
             }
            },
            "marker": {
             "colorbar": {
              "outlinewidth": 0,
              "ticks": ""
             }
            },
            "type": "scatter3d"
           }
          ],
          "scattercarpet": [
           {
            "marker": {
             "colorbar": {
              "outlinewidth": 0,
              "ticks": ""
             }
            },
            "type": "scattercarpet"
           }
          ],
          "scattergeo": [
           {
            "marker": {
             "colorbar": {
              "outlinewidth": 0,
              "ticks": ""
             }
            },
            "type": "scattergeo"
           }
          ],
          "scattergl": [
           {
            "marker": {
             "colorbar": {
              "outlinewidth": 0,
              "ticks": ""
             }
            },
            "type": "scattergl"
           }
          ],
          "scattermapbox": [
           {
            "marker": {
             "colorbar": {
              "outlinewidth": 0,
              "ticks": ""
             }
            },
            "type": "scattermapbox"
           }
          ],
          "scatterpolar": [
           {
            "marker": {
             "colorbar": {
              "outlinewidth": 0,
              "ticks": ""
             }
            },
            "type": "scatterpolar"
           }
          ],
          "scatterpolargl": [
           {
            "marker": {
             "colorbar": {
              "outlinewidth": 0,
              "ticks": ""
             }
            },
            "type": "scatterpolargl"
           }
          ],
          "scatterternary": [
           {
            "marker": {
             "colorbar": {
              "outlinewidth": 0,
              "ticks": ""
             }
            },
            "type": "scatterternary"
           }
          ],
          "surface": [
           {
            "colorbar": {
             "outlinewidth": 0,
             "ticks": ""
            },
            "colorscale": [
             [
              0,
              "#0d0887"
             ],
             [
              0.1111111111111111,
              "#46039f"
             ],
             [
              0.2222222222222222,
              "#7201a8"
             ],
             [
              0.3333333333333333,
              "#9c179e"
             ],
             [
              0.4444444444444444,
              "#bd3786"
             ],
             [
              0.5555555555555556,
              "#d8576b"
             ],
             [
              0.6666666666666666,
              "#ed7953"
             ],
             [
              0.7777777777777778,
              "#fb9f3a"
             ],
             [
              0.8888888888888888,
              "#fdca26"
             ],
             [
              1,
              "#f0f921"
             ]
            ],
            "type": "surface"
           }
          ],
          "table": [
           {
            "cells": {
             "fill": {
              "color": "#EBF0F8"
             },
             "line": {
              "color": "white"
             }
            },
            "header": {
             "fill": {
              "color": "#C8D4E3"
             },
             "line": {
              "color": "white"
             }
            },
            "type": "table"
           }
          ]
         },
         "layout": {
          "annotationdefaults": {
           "arrowcolor": "#2a3f5f",
           "arrowhead": 0,
           "arrowwidth": 1
          },
          "coloraxis": {
           "colorbar": {
            "outlinewidth": 0,
            "ticks": ""
           }
          },
          "colorscale": {
           "diverging": [
            [
             0,
             "#8e0152"
            ],
            [
             0.1,
             "#c51b7d"
            ],
            [
             0.2,
             "#de77ae"
            ],
            [
             0.3,
             "#f1b6da"
            ],
            [
             0.4,
             "#fde0ef"
            ],
            [
             0.5,
             "#f7f7f7"
            ],
            [
             0.6,
             "#e6f5d0"
            ],
            [
             0.7,
             "#b8e186"
            ],
            [
             0.8,
             "#7fbc41"
            ],
            [
             0.9,
             "#4d9221"
            ],
            [
             1,
             "#276419"
            ]
           ],
           "sequential": [
            [
             0,
             "#0d0887"
            ],
            [
             0.1111111111111111,
             "#46039f"
            ],
            [
             0.2222222222222222,
             "#7201a8"
            ],
            [
             0.3333333333333333,
             "#9c179e"
            ],
            [
             0.4444444444444444,
             "#bd3786"
            ],
            [
             0.5555555555555556,
             "#d8576b"
            ],
            [
             0.6666666666666666,
             "#ed7953"
            ],
            [
             0.7777777777777778,
             "#fb9f3a"
            ],
            [
             0.8888888888888888,
             "#fdca26"
            ],
            [
             1,
             "#f0f921"
            ]
           ],
           "sequentialminus": [
            [
             0,
             "#0d0887"
            ],
            [
             0.1111111111111111,
             "#46039f"
            ],
            [
             0.2222222222222222,
             "#7201a8"
            ],
            [
             0.3333333333333333,
             "#9c179e"
            ],
            [
             0.4444444444444444,
             "#bd3786"
            ],
            [
             0.5555555555555556,
             "#d8576b"
            ],
            [
             0.6666666666666666,
             "#ed7953"
            ],
            [
             0.7777777777777778,
             "#fb9f3a"
            ],
            [
             0.8888888888888888,
             "#fdca26"
            ],
            [
             1,
             "#f0f921"
            ]
           ]
          },
          "colorway": [
           "#636efa",
           "#EF553B",
           "#00cc96",
           "#ab63fa",
           "#FFA15A",
           "#19d3f3",
           "#FF6692",
           "#B6E880",
           "#FF97FF",
           "#FECB52"
          ],
          "font": {
           "color": "#2a3f5f"
          },
          "geo": {
           "bgcolor": "white",
           "lakecolor": "white",
           "landcolor": "#E5ECF6",
           "showlakes": true,
           "showland": true,
           "subunitcolor": "white"
          },
          "hoverlabel": {
           "align": "left"
          },
          "hovermode": "closest",
          "mapbox": {
           "style": "light"
          },
          "paper_bgcolor": "white",
          "plot_bgcolor": "#E5ECF6",
          "polar": {
           "angularaxis": {
            "gridcolor": "white",
            "linecolor": "white",
            "ticks": ""
           },
           "bgcolor": "#E5ECF6",
           "radialaxis": {
            "gridcolor": "white",
            "linecolor": "white",
            "ticks": ""
           }
          },
          "scene": {
           "xaxis": {
            "backgroundcolor": "#E5ECF6",
            "gridcolor": "white",
            "gridwidth": 2,
            "linecolor": "white",
            "showbackground": true,
            "ticks": "",
            "zerolinecolor": "white"
           },
           "yaxis": {
            "backgroundcolor": "#E5ECF6",
            "gridcolor": "white",
            "gridwidth": 2,
            "linecolor": "white",
            "showbackground": true,
            "ticks": "",
            "zerolinecolor": "white"
           },
           "zaxis": {
            "backgroundcolor": "#E5ECF6",
            "gridcolor": "white",
            "gridwidth": 2,
            "linecolor": "white",
            "showbackground": true,
            "ticks": "",
            "zerolinecolor": "white"
           }
          },
          "shapedefaults": {
           "line": {
            "color": "#2a3f5f"
           }
          },
          "ternary": {
           "aaxis": {
            "gridcolor": "white",
            "linecolor": "white",
            "ticks": ""
           },
           "baxis": {
            "gridcolor": "white",
            "linecolor": "white",
            "ticks": ""
           },
           "bgcolor": "#E5ECF6",
           "caxis": {
            "gridcolor": "white",
            "linecolor": "white",
            "ticks": ""
           }
          },
          "title": {
           "x": 0.05
          },
          "xaxis": {
           "automargin": true,
           "gridcolor": "white",
           "linecolor": "white",
           "ticks": "",
           "title": {
            "standoff": 15
           },
           "zerolinecolor": "white",
           "zerolinewidth": 2
          },
          "yaxis": {
           "automargin": true,
           "gridcolor": "white",
           "linecolor": "white",
           "ticks": "",
           "title": {
            "standoff": 15
           },
           "zerolinecolor": "white",
           "zerolinewidth": 2
          }
         }
        },
        "title": {
         "text": "Pedersen Currents (ENU)",
         "x": 0.5,
         "xanchor": "center",
         "y": 0.9,
         "yanchor": "top"
        },
        "width": 750,
        "xaxis": {
         "exponentformat": "power",
         "gridcolor": "grey",
         "gridwidth": 0.5,
         "linecolor": "black",
         "linewidth": 2,
         "mirror": true,
         "showexponent": "all",
         "showgrid": true,
         "showline": true,
         "title": {
          "text": "$A/m^{2}$"
         }
        },
        "yaxis": {
         "dtick": 20,
         "gridcolor": "grey",
         "gridwidth": 0.5,
         "linecolor": "black",
         "linewidth": 2,
         "mirror": true,
         "showgrid": true,
         "showline": true,
         "tick0": 60,
         "title": {
          "text": "Altitude (km)"
         }
        }
       }
      },
      "text/html": [
       "<div>\n",
       "        \n",
       "        \n",
       "            <div id=\"c3277721-5714-49d0-a6fb-79285e15c374\" class=\"plotly-graph-div\" style=\"height:750px; width:750px;\"></div>\n",
       "            <script type=\"text/javascript\">\n",
       "                require([\"plotly\"], function(Plotly) {\n",
       "                    window.PLOTLYENV=window.PLOTLYENV || {};\n",
       "                    \n",
       "                if (document.getElementById(\"c3277721-5714-49d0-a6fb-79285e15c374\")) {\n",
       "                    Plotly.newPlot(\n",
       "                        'c3277721-5714-49d0-a6fb-79285e15c374',\n",
       "                        [{\"marker\": {\"color\": \"blue\"}, \"mode\": \"lines\", \"name\": \"East\", \"type\": \"scatter\", \"x\": [-2.914230898507996e-11, -4.70711899724903e-11, -6.276795627449742e-11, 5.206876019284937e-11, 7.078230960767968e-10, 2.9730259876377845e-09, 9.022145554964338e-09, 2.194362773993952e-08, 4.4013457333903096e-08, 7.482585338202927e-08, 1.1056343630865936e-07, 1.4345631357569278e-07, 1.689873523564284e-07, 1.833519983166162e-07, 1.7598224380865614e-07, 1.4674871104091365e-07, 1.0791012047018855e-07, 7.166089287753619e-08, 4.4398165992496583e-08, 2.6973647415017908e-08, 1.7168104458236148e-08, 1.2118274500954937e-08, 9.861023551412378e-09, 8.74816228388305e-09, 7.980400306079843e-09, 7.509180645440236e-09, 7.147782401828356e-09, 6.771664367374547e-09, 6.30774982725565e-09, 5.740650944084095e-09, 5.1019722154977915e-09, 4.439314549600056e-09, 3.792290927635186e-09, 3.1862807909636008e-09, 2.6357713875401176e-09, 2.1483911124666357e-09, 1.7269944968099753e-09, 1.370620049156562e-09, 1.075295947673075e-09, 8.349831248581151e-10, 6.425454366322594e-10, 4.905754994140727e-10, 3.719921952144093e-10, 2.8040279008716804e-10, 2.1027528880957324e-10, 1.5697429186104456e-10, 1.16712847421327e-10, 8.645894994439284e-11, 6.382412063053126e-11, 4.695162438377306e-11, 3.441366793127671e-11, 2.5122020661332886e-11, 1.8253259836847332e-11, 1.318798398976199e-11, 9.462426010151279e-12, 6.730571626728617e-12], \"y\": [96.36432, 97.69113, 98.96521, 100.21858, 101.49149, 102.83465, 104.31025, 105.99205, 107.9605, 110.28514, 112.99677, 116.0809, 119.49435, 123.18561, 127.1144, 131.26863, 135.66771, 140.35171, 145.36669, 150.75399, 156.54488, 162.75891, 169.4047, 176.48172, 183.98288, 191.89784, 200.21538, 208.92486, 218.01702, 227.48388, 237.31828, 247.51354, 258.0632, 268.96082, 280.19986, 291.77326, 303.6734, 315.89174, 328.419, 341.2452, 354.35996, 367.75308, 381.41508, 395.33784, 409.5154, 423.9448, 438.62676, 453.56656, 468.7752, 484.27028, 500.07764, 516.23308, 532.7848, 549.7966, 567.35232, 585.562, 603.77168]}, {\"marker\": {\"color\": \"green\"}, \"mode\": \"lines\", \"name\": \"North\", \"type\": \"scatter\", \"x\": [4.773488822787416e-09, 8.532074857702778e-09, 1.509764162937872e-08, 2.580380372855783e-08, 4.45520901479183e-08, 7.820773668774504e-08, 1.3976653526678175e-07, 2.509823571258172e-07, 4.3657655644808663e-07, 6.939789766031281e-07, 9.508802926742462e-07, 1.0849846550607053e-06, 1.040402910753582e-06, 8.796424849828816e-07, 6.954599164757226e-07, 5.379237561824882e-07, 4.153083218900538e-07, 3.207112374814411e-07, 2.474488067953323e-07, 1.9160870938805566e-07, 1.5030626099954585e-07, 1.205662318142413e-07, 1.0210108008526577e-07, 8.892566399210013e-08, 7.784530404613514e-08, 7.040521502558202e-08, 6.517388012755169e-08, 6.073356044099418e-08, 5.597409987982954e-08, 5.034029951548419e-08, 4.3896188669934675e-08, 3.709907572407276e-08, 3.0485755000663595e-08, 2.4466098415964408e-08, 1.9261793449510387e-08, 1.4933803485018537e-08, 1.1437895203228429e-08, 8.675337762403071e-09, 6.528387890517506e-09, 4.881196088386775e-09, 3.6301466241475313e-09, 2.6876305720849443e-09, 1.982223147726853e-09, 1.4571368688815603e-09, 1.0680417687435937e-09, 7.808068975980337e-10, 5.694394302514024e-10, 4.143163768664905e-10, 3.0072902803696447e-10, 2.1771748602025885e-10, 1.571554960021075e-10, 1.1304254604541359e-10, 8.096278431437361e-11, 5.7675368262613905e-11, 4.080687013289671e-11, 2.8621683550264748e-11], \"y\": [96.36432, 97.69113, 98.96521, 100.21858, 101.49149, 102.83465, 104.31025, 105.99205, 107.9605, 110.28514, 112.99677, 116.0809, 119.49435, 123.18561, 127.1144, 131.26863, 135.66771, 140.35171, 145.36669, 150.75399, 156.54488, 162.75891, 169.4047, 176.48172, 183.98288, 191.89784, 200.21538, 208.92486, 218.01702, 227.48388, 237.31828, 247.51354, 258.0632, 268.96082, 280.19986, 291.77326, 303.6734, 315.89174, 328.419, 341.2452, 354.35996, 367.75308, 381.41508, 395.33784, 409.5154, 423.9448, 438.62676, 453.56656, 468.7752, 484.27028, 500.07764, 516.23308, 532.7848, 549.7966, 567.35232, 585.562, 603.77168]}, {\"marker\": {\"color\": \"red\"}, \"mode\": \"lines\", \"name\": \"Up\", \"type\": \"scatter\", \"x\": [8.013294062687479e-10, 1.4308984327516065e-09, 2.527533007406962e-09, 4.290456008506092e-09, 7.296762065303619e-09, 1.2500427222943919e-08, 2.16794913286539e-08, 3.7903723102212333e-08, 6.486881171464069e-08, 1.0219040868854214e-07, 1.3849559527989403e-07, 1.5484482814597363e-07, 1.4281222645081642e-07, 1.1350168147677916e-07, 8.417546708533796e-08, 6.314693012841403e-08, 4.9619804898376684e-08, 4.0299851945989966e-08, 3.295062366908476e-08, 2.6768800335855765e-08, 2.1660699269540553e-08, 1.7632181967575543e-08, 1.4972773303499358e-08, 1.29855565699765e-08, 1.1285980551569253e-08, 1.0132403801826174e-08, 9.321985686997569e-09, 8.644976676371354e-09, 7.934255662025197e-09, 7.103693196216695e-09, 6.159360901975821e-09, 5.1674988195099665e-09, 4.207689748231146e-09, 3.3408222552536862e-09, 2.599004089594951e-09, 1.989610443642273e-09, 1.5040582831997167e-09, 1.1258786035058909e-09, 8.362892724673117e-10, 6.173613177130651e-10, 4.5346943443096085e-10, 3.3171345042392174e-10, 2.418085400259499e-10, 1.7574737660112944e-10, 1.2740084677042284e-10, 9.213583041044314e-11, 6.64838390500421e-11, 4.786785223936306e-11, 3.438482020607549e-11, 2.463638927945639e-11, 1.7599264521978497e-11, 1.25271451474029e-11, 8.877248051924444e-12, 6.255674000585077e-12, 4.377055852063937e-12, 3.0348902915905236e-12], \"y\": [96.36432, 97.69113, 98.96521, 100.21858, 101.49149, 102.83465, 104.31025, 105.99205, 107.9605, 110.28514, 112.99677, 116.0809, 119.49435, 123.18561, 127.1144, 131.26863, 135.66771, 140.35171, 145.36669, 150.75399, 156.54488, 162.75891, 169.4047, 176.48172, 183.98288, 191.89784, 200.21538, 208.92486, 218.01702, 227.48388, 237.31828, 247.51354, 258.0632, 268.96082, 280.19986, 291.77326, 303.6734, 315.89174, 328.419, 341.2452, 354.35996, 367.75308, 381.41508, 395.33784, 409.5154, 423.9448, 438.62676, 453.56656, 468.7752, 484.27028, 500.07764, 516.23308, 532.7848, 549.7966, 567.35232, 585.562, 603.77168]}],\n",
       "                        {\"height\": 750, \"template\": {\"data\": {\"bar\": [{\"error_x\": {\"color\": \"#2a3f5f\"}, \"error_y\": {\"color\": \"#2a3f5f\"}, \"marker\": {\"line\": {\"color\": \"#E5ECF6\", \"width\": 0.5}}, \"type\": \"bar\"}], \"barpolar\": [{\"marker\": {\"line\": {\"color\": \"#E5ECF6\", \"width\": 0.5}}, \"type\": \"barpolar\"}], \"carpet\": [{\"aaxis\": {\"endlinecolor\": \"#2a3f5f\", \"gridcolor\": \"white\", \"linecolor\": \"white\", \"minorgridcolor\": \"white\", \"startlinecolor\": \"#2a3f5f\"}, \"baxis\": {\"endlinecolor\": \"#2a3f5f\", \"gridcolor\": \"white\", \"linecolor\": \"white\", \"minorgridcolor\": \"white\", \"startlinecolor\": \"#2a3f5f\"}, \"type\": \"carpet\"}], \"choropleth\": [{\"colorbar\": {\"outlinewidth\": 0, \"ticks\": \"\"}, \"type\": \"choropleth\"}], \"contour\": [{\"colorbar\": {\"outlinewidth\": 0, \"ticks\": \"\"}, \"colorscale\": [[0.0, \"#0d0887\"], [0.1111111111111111, \"#46039f\"], [0.2222222222222222, \"#7201a8\"], [0.3333333333333333, \"#9c179e\"], [0.4444444444444444, \"#bd3786\"], [0.5555555555555556, \"#d8576b\"], [0.6666666666666666, \"#ed7953\"], [0.7777777777777778, \"#fb9f3a\"], [0.8888888888888888, \"#fdca26\"], [1.0, \"#f0f921\"]], \"type\": \"contour\"}], \"contourcarpet\": [{\"colorbar\": {\"outlinewidth\": 0, \"ticks\": \"\"}, \"type\": \"contourcarpet\"}], \"heatmap\": [{\"colorbar\": {\"outlinewidth\": 0, \"ticks\": \"\"}, \"colorscale\": [[0.0, \"#0d0887\"], [0.1111111111111111, \"#46039f\"], [0.2222222222222222, \"#7201a8\"], [0.3333333333333333, \"#9c179e\"], [0.4444444444444444, \"#bd3786\"], [0.5555555555555556, \"#d8576b\"], [0.6666666666666666, \"#ed7953\"], [0.7777777777777778, \"#fb9f3a\"], [0.8888888888888888, \"#fdca26\"], [1.0, \"#f0f921\"]], \"type\": \"heatmap\"}], \"heatmapgl\": [{\"colorbar\": {\"outlinewidth\": 0, \"ticks\": \"\"}, \"colorscale\": [[0.0, \"#0d0887\"], [0.1111111111111111, \"#46039f\"], [0.2222222222222222, \"#7201a8\"], [0.3333333333333333, \"#9c179e\"], [0.4444444444444444, \"#bd3786\"], [0.5555555555555556, \"#d8576b\"], [0.6666666666666666, \"#ed7953\"], [0.7777777777777778, \"#fb9f3a\"], [0.8888888888888888, \"#fdca26\"], [1.0, \"#f0f921\"]], \"type\": \"heatmapgl\"}], \"histogram\": [{\"marker\": {\"colorbar\": {\"outlinewidth\": 0, \"ticks\": \"\"}}, \"type\": \"histogram\"}], \"histogram2d\": [{\"colorbar\": {\"outlinewidth\": 0, \"ticks\": \"\"}, \"colorscale\": [[0.0, \"#0d0887\"], [0.1111111111111111, \"#46039f\"], [0.2222222222222222, \"#7201a8\"], [0.3333333333333333, \"#9c179e\"], [0.4444444444444444, \"#bd3786\"], [0.5555555555555556, \"#d8576b\"], [0.6666666666666666, \"#ed7953\"], [0.7777777777777778, \"#fb9f3a\"], [0.8888888888888888, \"#fdca26\"], [1.0, \"#f0f921\"]], \"type\": \"histogram2d\"}], \"histogram2dcontour\": [{\"colorbar\": {\"outlinewidth\": 0, \"ticks\": \"\"}, \"colorscale\": [[0.0, \"#0d0887\"], [0.1111111111111111, \"#46039f\"], [0.2222222222222222, \"#7201a8\"], [0.3333333333333333, \"#9c179e\"], [0.4444444444444444, \"#bd3786\"], [0.5555555555555556, \"#d8576b\"], [0.6666666666666666, \"#ed7953\"], [0.7777777777777778, \"#fb9f3a\"], [0.8888888888888888, \"#fdca26\"], [1.0, \"#f0f921\"]], \"type\": \"histogram2dcontour\"}], \"mesh3d\": [{\"colorbar\": {\"outlinewidth\": 0, \"ticks\": \"\"}, \"type\": \"mesh3d\"}], \"parcoords\": [{\"line\": {\"colorbar\": {\"outlinewidth\": 0, \"ticks\": \"\"}}, \"type\": \"parcoords\"}], \"pie\": [{\"automargin\": true, \"type\": \"pie\"}], \"scatter\": [{\"marker\": {\"colorbar\": {\"outlinewidth\": 0, \"ticks\": \"\"}}, \"type\": \"scatter\"}], \"scatter3d\": [{\"line\": {\"colorbar\": {\"outlinewidth\": 0, \"ticks\": \"\"}}, \"marker\": {\"colorbar\": {\"outlinewidth\": 0, \"ticks\": \"\"}}, \"type\": \"scatter3d\"}], \"scattercarpet\": [{\"marker\": {\"colorbar\": {\"outlinewidth\": 0, \"ticks\": \"\"}}, \"type\": \"scattercarpet\"}], \"scattergeo\": [{\"marker\": {\"colorbar\": {\"outlinewidth\": 0, \"ticks\": \"\"}}, \"type\": \"scattergeo\"}], \"scattergl\": [{\"marker\": {\"colorbar\": {\"outlinewidth\": 0, \"ticks\": \"\"}}, \"type\": \"scattergl\"}], \"scattermapbox\": [{\"marker\": {\"colorbar\": {\"outlinewidth\": 0, \"ticks\": \"\"}}, \"type\": \"scattermapbox\"}], \"scatterpolar\": [{\"marker\": {\"colorbar\": {\"outlinewidth\": 0, \"ticks\": \"\"}}, \"type\": \"scatterpolar\"}], \"scatterpolargl\": [{\"marker\": {\"colorbar\": {\"outlinewidth\": 0, \"ticks\": \"\"}}, \"type\": \"scatterpolargl\"}], \"scatterternary\": [{\"marker\": {\"colorbar\": {\"outlinewidth\": 0, \"ticks\": \"\"}}, \"type\": \"scatterternary\"}], \"surface\": [{\"colorbar\": {\"outlinewidth\": 0, \"ticks\": \"\"}, \"colorscale\": [[0.0, \"#0d0887\"], [0.1111111111111111, \"#46039f\"], [0.2222222222222222, \"#7201a8\"], [0.3333333333333333, \"#9c179e\"], [0.4444444444444444, \"#bd3786\"], [0.5555555555555556, \"#d8576b\"], [0.6666666666666666, \"#ed7953\"], [0.7777777777777778, \"#fb9f3a\"], [0.8888888888888888, \"#fdca26\"], [1.0, \"#f0f921\"]], \"type\": \"surface\"}], \"table\": [{\"cells\": {\"fill\": {\"color\": \"#EBF0F8\"}, \"line\": {\"color\": \"white\"}}, \"header\": {\"fill\": {\"color\": \"#C8D4E3\"}, \"line\": {\"color\": \"white\"}}, \"type\": \"table\"}]}, \"layout\": {\"annotationdefaults\": {\"arrowcolor\": \"#2a3f5f\", \"arrowhead\": 0, \"arrowwidth\": 1}, \"coloraxis\": {\"colorbar\": {\"outlinewidth\": 0, \"ticks\": \"\"}}, \"colorscale\": {\"diverging\": [[0, \"#8e0152\"], [0.1, \"#c51b7d\"], [0.2, \"#de77ae\"], [0.3, \"#f1b6da\"], [0.4, \"#fde0ef\"], [0.5, \"#f7f7f7\"], [0.6, \"#e6f5d0\"], [0.7, \"#b8e186\"], [0.8, \"#7fbc41\"], [0.9, \"#4d9221\"], [1, \"#276419\"]], \"sequential\": [[0.0, \"#0d0887\"], [0.1111111111111111, \"#46039f\"], [0.2222222222222222, \"#7201a8\"], [0.3333333333333333, \"#9c179e\"], [0.4444444444444444, \"#bd3786\"], [0.5555555555555556, \"#d8576b\"], [0.6666666666666666, \"#ed7953\"], [0.7777777777777778, \"#fb9f3a\"], [0.8888888888888888, \"#fdca26\"], [1.0, \"#f0f921\"]], \"sequentialminus\": [[0.0, \"#0d0887\"], [0.1111111111111111, \"#46039f\"], [0.2222222222222222, \"#7201a8\"], [0.3333333333333333, \"#9c179e\"], [0.4444444444444444, \"#bd3786\"], [0.5555555555555556, \"#d8576b\"], [0.6666666666666666, \"#ed7953\"], [0.7777777777777778, \"#fb9f3a\"], [0.8888888888888888, \"#fdca26\"], [1.0, \"#f0f921\"]]}, \"colorway\": [\"#636efa\", \"#EF553B\", \"#00cc96\", \"#ab63fa\", \"#FFA15A\", \"#19d3f3\", \"#FF6692\", \"#B6E880\", \"#FF97FF\", \"#FECB52\"], \"font\": {\"color\": \"#2a3f5f\"}, \"geo\": {\"bgcolor\": \"white\", \"lakecolor\": \"white\", \"landcolor\": \"#E5ECF6\", \"showlakes\": true, \"showland\": true, \"subunitcolor\": \"white\"}, \"hoverlabel\": {\"align\": \"left\"}, \"hovermode\": \"closest\", \"mapbox\": {\"style\": \"light\"}, \"paper_bgcolor\": \"white\", \"plot_bgcolor\": \"#E5ECF6\", \"polar\": {\"angularaxis\": {\"gridcolor\": \"white\", \"linecolor\": \"white\", \"ticks\": \"\"}, \"bgcolor\": \"#E5ECF6\", \"radialaxis\": {\"gridcolor\": \"white\", \"linecolor\": \"white\", \"ticks\": \"\"}}, \"scene\": {\"xaxis\": {\"backgroundcolor\": \"#E5ECF6\", \"gridcolor\": \"white\", \"gridwidth\": 2, \"linecolor\": \"white\", \"showbackground\": true, \"ticks\": \"\", \"zerolinecolor\": \"white\"}, \"yaxis\": {\"backgroundcolor\": \"#E5ECF6\", \"gridcolor\": \"white\", \"gridwidth\": 2, \"linecolor\": \"white\", \"showbackground\": true, \"ticks\": \"\", \"zerolinecolor\": \"white\"}, \"zaxis\": {\"backgroundcolor\": \"#E5ECF6\", \"gridcolor\": \"white\", \"gridwidth\": 2, \"linecolor\": \"white\", \"showbackground\": true, \"ticks\": \"\", \"zerolinecolor\": \"white\"}}, \"shapedefaults\": {\"line\": {\"color\": \"#2a3f5f\"}}, \"ternary\": {\"aaxis\": {\"gridcolor\": \"white\", \"linecolor\": \"white\", \"ticks\": \"\"}, \"baxis\": {\"gridcolor\": \"white\", \"linecolor\": \"white\", \"ticks\": \"\"}, \"bgcolor\": \"#E5ECF6\", \"caxis\": {\"gridcolor\": \"white\", \"linecolor\": \"white\", \"ticks\": \"\"}}, \"title\": {\"x\": 0.05}, \"xaxis\": {\"automargin\": true, \"gridcolor\": \"white\", \"linecolor\": \"white\", \"ticks\": \"\", \"title\": {\"standoff\": 15}, \"zerolinecolor\": \"white\", \"zerolinewidth\": 2}, \"yaxis\": {\"automargin\": true, \"gridcolor\": \"white\", \"linecolor\": \"white\", \"ticks\": \"\", \"title\": {\"standoff\": 15}, \"zerolinecolor\": \"white\", \"zerolinewidth\": 2}}}, \"title\": {\"text\": \"Pedersen Currents (ENU)\", \"x\": 0.5, \"xanchor\": \"center\", \"y\": 0.9, \"yanchor\": \"top\"}, \"width\": 750, \"xaxis\": {\"exponentformat\": \"power\", \"gridcolor\": \"grey\", \"gridwidth\": 0.5, \"linecolor\": \"black\", \"linewidth\": 2, \"mirror\": true, \"showexponent\": \"all\", \"showgrid\": true, \"showline\": true, \"title\": {\"text\": \"$A/m^{2}$\"}}, \"yaxis\": {\"dtick\": 20, \"gridcolor\": \"grey\", \"gridwidth\": 0.5, \"linecolor\": \"black\", \"linewidth\": 2, \"mirror\": true, \"showgrid\": true, \"showline\": true, \"tick0\": 60, \"title\": {\"text\": \"Altitude (km)\"}}},\n",
       "                        {\"responsive\": true}\n",
       "                    ).then(function(){\n",
       "                            \n",
       "var gd = document.getElementById('c3277721-5714-49d0-a6fb-79285e15c374');\n",
       "var x = new MutationObserver(function (mutations, observer) {{\n",
       "        var display = window.getComputedStyle(gd).display;\n",
       "        if (!display || display === 'none') {{\n",
       "            console.log([gd, 'removed!']);\n",
       "            Plotly.purge(gd);\n",
       "            observer.disconnect();\n",
       "        }}\n",
       "}});\n",
       "\n",
       "// Listen for the removal of the full notebook cells\n",
       "var notebookContainer = gd.closest('#notebook-container');\n",
       "if (notebookContainer) {{\n",
       "    x.observe(notebookContainer, {childList: true});\n",
       "}}\n",
       "\n",
       "// Listen for the clearing of the current output cell\n",
       "var outputEl = gd.closest('.output');\n",
       "if (outputEl) {{\n",
       "    x.observe(outputEl, {childList: true});\n",
       "}}\n",
       "\n",
       "                        })\n",
       "                };\n",
       "                });\n",
       "            </script>\n",
       "        </div>"
      ]
     },
     "metadata": {},
     "output_type": "display_data"
    },
    {
     "data": {
      "application/vnd.plotly.v1+json": {
       "config": {
        "plotlyServerURL": "https://plot.ly"
       },
       "data": [
        {
         "marker": {
          "color": "blue"
         },
         "mode": "lines",
         "name": "East",
         "type": "scatter",
         "x": [
          -1.6560007700592633e-07,
          -2.707257843928198e-07,
          -4.1490546539374656e-07,
          -5.80656893120953e-07,
          -7.759280279306756e-07,
          -9.99791941352087e-07,
          -1.253926876578873e-06,
          -1.5312825677892524e-06,
          -1.7895979469294846e-06,
          -1.929604229929234e-06,
          -1.8342472028905659e-06,
          -1.4885666655240175e-06,
          -1.036916265399916e-06,
          -6.4594958798263e-07,
          -3.7844806481380916e-07,
          -2.1667282234051763e-07,
          -1.232632081904219e-07,
          -6.981183099510351e-08,
          -3.9395079040278685e-08,
          -2.2308114745178768e-08,
          -1.28329836550374e-08,
          -7.594202518320127e-09,
          -4.788447436549189e-09,
          -3.1479143461184697e-09,
          -2.1201814262052477e-09,
          -1.5041402145341263e-09,
          -1.1073195568974717e-09,
          -8.246623199887436e-10,
          -6.06581505313207e-10,
          -4.338232717097557e-10,
          -2.999448563133555e-10,
          -2.0067593361444147e-10,
          -1.3046079898379474e-10,
          -8.28220156977946e-11,
          -5.157918113681196e-11,
          -3.163036973702904e-11,
          -1.915661642194132e-11,
          -1.148418435694379e-11,
          -6.8264821234561205e-12,
          -4.0289045642928034e-12,
          -2.363341490210786e-12,
          -1.3790607767453675e-12,
          -8.010480362451743e-13,
          -4.634405674379182e-13,
          -2.6716309310072695e-13,
          -1.535085704743623e-13,
          -8.792735376865351e-14,
          -5.0203948275987594e-14,
          -2.8567736725970644e-14,
          -1.6193449292399005e-14,
          -9.137169175725808e-15,
          -5.126644505406097e-15,
          -2.8560768341650375e-15,
          -1.5767750734173185e-15,
          -8.604103071414432e-16,
          -4.625086317448803e-16
         ],
         "y": [
          96.36432,
          97.69113,
          98.96521,
          100.21858,
          101.49149,
          102.83465,
          104.31025,
          105.99205,
          107.9605,
          110.28514,
          112.99677,
          116.0809,
          119.49435,
          123.18561,
          127.1144,
          131.26863,
          135.66771,
          140.35171,
          145.36669,
          150.75399,
          156.54488,
          162.75891,
          169.4047,
          176.48172,
          183.98288,
          191.89784,
          200.21538,
          208.92486,
          218.01702,
          227.48388,
          237.31828,
          247.51354,
          258.0632,
          268.96082,
          280.19986,
          291.77326,
          303.6734,
          315.89174,
          328.419,
          341.2452,
          354.35996,
          367.75308,
          381.41508,
          395.33784,
          409.5154,
          423.9448,
          438.62676,
          453.56656,
          468.7752,
          484.27028,
          500.07764,
          516.23308,
          532.7848,
          549.7966,
          567.35232,
          585.562,
          603.77168
         ]
        },
        {
         "marker": {
          "color": "green"
         },
         "mode": "lines",
         "name": "North",
         "type": "scatter",
         "x": [
          -5.731455146988731e-09,
          -9.207567797950862e-09,
          -1.3541942417033331e-08,
          -1.535281378708113e-08,
          -9.71716741972843e-09,
          9.695275547402249e-09,
          4.562215158454878e-08,
          9.100140603288473e-08,
          1.305196851498828e-07,
          1.5440340502562076e-07,
          1.624601536571294e-07,
          1.5584582963244215e-07,
          1.40253639542213e-07,
          1.1750623664459047e-07,
          8.600588661052346e-08,
          5.360780224205887e-08,
          2.887506952838838e-08,
          1.377516710345245e-08,
          6.016609796802977e-09,
          2.5357482692363853e-09,
          1.1152132680638607e-09,
          5.553330929619169e-10,
          3.3146474285447315e-10,
          2.2380376041614135e-10,
          1.5973445354019648e-10,
          1.1971418446442544e-10,
          9.158568505880149e-11,
          6.979212403244307e-11,
          5.2116049775654405e-11,
          3.7900055805213286e-11,
          2.6894603142619303e-11,
          1.8708201332847615e-11,
          1.2799087878385821e-11,
          8.622414912188792e-12,
          5.7198045263593115e-12,
          3.7357338393944234e-12,
          2.4028649704634553e-12,
          1.5232409190949606e-12,
          9.527390402419364e-13,
          5.887156747952642e-13,
          3.5986975611839505e-13,
          2.1789971657307744e-13,
          1.3084623125395146e-13,
          7.800487134441318e-14,
          4.62095588007903e-14,
          2.7221121472442965e-14,
          1.5954086426221787e-14,
          9.305984771945294e-15,
          5.4026276028748265e-15,
          3.1211236199137316e-15,
          1.793323771763635e-15,
          1.023935636323512e-15,
          5.802218045642828e-16,
          3.2571719673497996e-16,
          1.8069762798837197e-16,
          9.875051352243463e-17
         ],
         "y": [
          96.36432,
          97.69113,
          98.96521,
          100.21858,
          101.49149,
          102.83465,
          104.31025,
          105.99205,
          107.9605,
          110.28514,
          112.99677,
          116.0809,
          119.49435,
          123.18561,
          127.1144,
          131.26863,
          135.66771,
          140.35171,
          145.36669,
          150.75399,
          156.54488,
          162.75891,
          169.4047,
          176.48172,
          183.98288,
          191.89784,
          200.21538,
          208.92486,
          218.01702,
          227.48388,
          237.31828,
          247.51354,
          258.0632,
          268.96082,
          280.19986,
          291.77326,
          303.6734,
          315.89174,
          328.419,
          341.2452,
          354.35996,
          367.75308,
          381.41508,
          395.33784,
          409.5154,
          423.9448,
          438.62676,
          453.56656,
          468.7752,
          484.27028,
          500.07764,
          516.23308,
          532.7848,
          549.7966,
          567.35232,
          585.562,
          603.77168
         ]
        },
        {
         "marker": {
          "color": "red"
         },
         "mode": "lines",
         "name": "Up",
         "type": "scatter",
         "x": [
          2.811960760970911e-08,
          4.599646723724494e-08,
          7.058607145597658e-08,
          9.938222821066656e-08,
          1.3459941397827987e-07,
          1.7712689552563727e-07,
          2.2771109628680662e-07,
          2.839337765133934e-07,
          3.358248380813243e-07,
          3.6433523134039825e-07,
          3.488956831881889e-07,
          2.870870998637751e-07,
          2.0520259511420733e-07,
          1.3279688520261804e-07,
          8.062316880906105e-08,
          4.686763152718677e-08,
          2.6386459554974766e-08,
          1.4514377249991509e-08,
          7.898677304551384e-09,
          4.328164391948671e-09,
          2.432722356053177e-09,
          1.4220708678478015e-09,
          8.933605297930343e-10,
          5.880816517583825e-10,
          3.974239880760432e-10,
          2.8289019508493303e-10,
          2.0874144714513355e-10,
          1.5565250370568575e-10,
          1.1456845463424139e-10,
          8.200351525999197e-11,
          5.678182443061446e-11,
          3.808546858251928e-11,
          2.4848658851285997e-11,
          1.584560381164576e-11,
          9.918120782513903e-12,
          6.114609136724085e-12,
          3.723029540191787e-12,
          2.2434246936659392e-12,
          1.3400130648215702e-12,
          7.943981260154745e-13,
          4.678910932528135e-13,
          2.740301584020881e-13,
          1.597015104862978e-13,
          9.266854775208514e-14,
          5.356367574898523e-14,
          3.0850752916801036e-14,
          1.7709054661334072e-14,
          1.0131199425709682e-14,
          5.77533126220327e-15,
          3.2791152815437578e-15,
          1.8530785170433237e-15,
          1.041209127698531e-15,
          5.808488982644011e-16,
          3.210885273656023e-16,
          1.7542938838474955e-16,
          9.441577715935498e-17
         ],
         "y": [
          96.36432,
          97.69113,
          98.96521,
          100.21858,
          101.49149,
          102.83465,
          104.31025,
          105.99205,
          107.9605,
          110.28514,
          112.99677,
          116.0809,
          119.49435,
          123.18561,
          127.1144,
          131.26863,
          135.66771,
          140.35171,
          145.36669,
          150.75399,
          156.54488,
          162.75891,
          169.4047,
          176.48172,
          183.98288,
          191.89784,
          200.21538,
          208.92486,
          218.01702,
          227.48388,
          237.31828,
          247.51354,
          258.0632,
          268.96082,
          280.19986,
          291.77326,
          303.6734,
          315.89174,
          328.419,
          341.2452,
          354.35996,
          367.75308,
          381.41508,
          395.33784,
          409.5154,
          423.9448,
          438.62676,
          453.56656,
          468.7752,
          484.27028,
          500.07764,
          516.23308,
          532.7848,
          549.7966,
          567.35232,
          585.562,
          603.77168
         ]
        }
       ],
       "layout": {
        "height": 750,
        "template": {
         "data": {
          "bar": [
           {
            "error_x": {
             "color": "#2a3f5f"
            },
            "error_y": {
             "color": "#2a3f5f"
            },
            "marker": {
             "line": {
              "color": "#E5ECF6",
              "width": 0.5
             }
            },
            "type": "bar"
           }
          ],
          "barpolar": [
           {
            "marker": {
             "line": {
              "color": "#E5ECF6",
              "width": 0.5
             }
            },
            "type": "barpolar"
           }
          ],
          "carpet": [
           {
            "aaxis": {
             "endlinecolor": "#2a3f5f",
             "gridcolor": "white",
             "linecolor": "white",
             "minorgridcolor": "white",
             "startlinecolor": "#2a3f5f"
            },
            "baxis": {
             "endlinecolor": "#2a3f5f",
             "gridcolor": "white",
             "linecolor": "white",
             "minorgridcolor": "white",
             "startlinecolor": "#2a3f5f"
            },
            "type": "carpet"
           }
          ],
          "choropleth": [
           {
            "colorbar": {
             "outlinewidth": 0,
             "ticks": ""
            },
            "type": "choropleth"
           }
          ],
          "contour": [
           {
            "colorbar": {
             "outlinewidth": 0,
             "ticks": ""
            },
            "colorscale": [
             [
              0,
              "#0d0887"
             ],
             [
              0.1111111111111111,
              "#46039f"
             ],
             [
              0.2222222222222222,
              "#7201a8"
             ],
             [
              0.3333333333333333,
              "#9c179e"
             ],
             [
              0.4444444444444444,
              "#bd3786"
             ],
             [
              0.5555555555555556,
              "#d8576b"
             ],
             [
              0.6666666666666666,
              "#ed7953"
             ],
             [
              0.7777777777777778,
              "#fb9f3a"
             ],
             [
              0.8888888888888888,
              "#fdca26"
             ],
             [
              1,
              "#f0f921"
             ]
            ],
            "type": "contour"
           }
          ],
          "contourcarpet": [
           {
            "colorbar": {
             "outlinewidth": 0,
             "ticks": ""
            },
            "type": "contourcarpet"
           }
          ],
          "heatmap": [
           {
            "colorbar": {
             "outlinewidth": 0,
             "ticks": ""
            },
            "colorscale": [
             [
              0,
              "#0d0887"
             ],
             [
              0.1111111111111111,
              "#46039f"
             ],
             [
              0.2222222222222222,
              "#7201a8"
             ],
             [
              0.3333333333333333,
              "#9c179e"
             ],
             [
              0.4444444444444444,
              "#bd3786"
             ],
             [
              0.5555555555555556,
              "#d8576b"
             ],
             [
              0.6666666666666666,
              "#ed7953"
             ],
             [
              0.7777777777777778,
              "#fb9f3a"
             ],
             [
              0.8888888888888888,
              "#fdca26"
             ],
             [
              1,
              "#f0f921"
             ]
            ],
            "type": "heatmap"
           }
          ],
          "heatmapgl": [
           {
            "colorbar": {
             "outlinewidth": 0,
             "ticks": ""
            },
            "colorscale": [
             [
              0,
              "#0d0887"
             ],
             [
              0.1111111111111111,
              "#46039f"
             ],
             [
              0.2222222222222222,
              "#7201a8"
             ],
             [
              0.3333333333333333,
              "#9c179e"
             ],
             [
              0.4444444444444444,
              "#bd3786"
             ],
             [
              0.5555555555555556,
              "#d8576b"
             ],
             [
              0.6666666666666666,
              "#ed7953"
             ],
             [
              0.7777777777777778,
              "#fb9f3a"
             ],
             [
              0.8888888888888888,
              "#fdca26"
             ],
             [
              1,
              "#f0f921"
             ]
            ],
            "type": "heatmapgl"
           }
          ],
          "histogram": [
           {
            "marker": {
             "colorbar": {
              "outlinewidth": 0,
              "ticks": ""
             }
            },
            "type": "histogram"
           }
          ],
          "histogram2d": [
           {
            "colorbar": {
             "outlinewidth": 0,
             "ticks": ""
            },
            "colorscale": [
             [
              0,
              "#0d0887"
             ],
             [
              0.1111111111111111,
              "#46039f"
             ],
             [
              0.2222222222222222,
              "#7201a8"
             ],
             [
              0.3333333333333333,
              "#9c179e"
             ],
             [
              0.4444444444444444,
              "#bd3786"
             ],
             [
              0.5555555555555556,
              "#d8576b"
             ],
             [
              0.6666666666666666,
              "#ed7953"
             ],
             [
              0.7777777777777778,
              "#fb9f3a"
             ],
             [
              0.8888888888888888,
              "#fdca26"
             ],
             [
              1,
              "#f0f921"
             ]
            ],
            "type": "histogram2d"
           }
          ],
          "histogram2dcontour": [
           {
            "colorbar": {
             "outlinewidth": 0,
             "ticks": ""
            },
            "colorscale": [
             [
              0,
              "#0d0887"
             ],
             [
              0.1111111111111111,
              "#46039f"
             ],
             [
              0.2222222222222222,
              "#7201a8"
             ],
             [
              0.3333333333333333,
              "#9c179e"
             ],
             [
              0.4444444444444444,
              "#bd3786"
             ],
             [
              0.5555555555555556,
              "#d8576b"
             ],
             [
              0.6666666666666666,
              "#ed7953"
             ],
             [
              0.7777777777777778,
              "#fb9f3a"
             ],
             [
              0.8888888888888888,
              "#fdca26"
             ],
             [
              1,
              "#f0f921"
             ]
            ],
            "type": "histogram2dcontour"
           }
          ],
          "mesh3d": [
           {
            "colorbar": {
             "outlinewidth": 0,
             "ticks": ""
            },
            "type": "mesh3d"
           }
          ],
          "parcoords": [
           {
            "line": {
             "colorbar": {
              "outlinewidth": 0,
              "ticks": ""
             }
            },
            "type": "parcoords"
           }
          ],
          "pie": [
           {
            "automargin": true,
            "type": "pie"
           }
          ],
          "scatter": [
           {
            "marker": {
             "colorbar": {
              "outlinewidth": 0,
              "ticks": ""
             }
            },
            "type": "scatter"
           }
          ],
          "scatter3d": [
           {
            "line": {
             "colorbar": {
              "outlinewidth": 0,
              "ticks": ""
             }
            },
            "marker": {
             "colorbar": {
              "outlinewidth": 0,
              "ticks": ""
             }
            },
            "type": "scatter3d"
           }
          ],
          "scattercarpet": [
           {
            "marker": {
             "colorbar": {
              "outlinewidth": 0,
              "ticks": ""
             }
            },
            "type": "scattercarpet"
           }
          ],
          "scattergeo": [
           {
            "marker": {
             "colorbar": {
              "outlinewidth": 0,
              "ticks": ""
             }
            },
            "type": "scattergeo"
           }
          ],
          "scattergl": [
           {
            "marker": {
             "colorbar": {
              "outlinewidth": 0,
              "ticks": ""
             }
            },
            "type": "scattergl"
           }
          ],
          "scattermapbox": [
           {
            "marker": {
             "colorbar": {
              "outlinewidth": 0,
              "ticks": ""
             }
            },
            "type": "scattermapbox"
           }
          ],
          "scatterpolar": [
           {
            "marker": {
             "colorbar": {
              "outlinewidth": 0,
              "ticks": ""
             }
            },
            "type": "scatterpolar"
           }
          ],
          "scatterpolargl": [
           {
            "marker": {
             "colorbar": {
              "outlinewidth": 0,
              "ticks": ""
             }
            },
            "type": "scatterpolargl"
           }
          ],
          "scatterternary": [
           {
            "marker": {
             "colorbar": {
              "outlinewidth": 0,
              "ticks": ""
             }
            },
            "type": "scatterternary"
           }
          ],
          "surface": [
           {
            "colorbar": {
             "outlinewidth": 0,
             "ticks": ""
            },
            "colorscale": [
             [
              0,
              "#0d0887"
             ],
             [
              0.1111111111111111,
              "#46039f"
             ],
             [
              0.2222222222222222,
              "#7201a8"
             ],
             [
              0.3333333333333333,
              "#9c179e"
             ],
             [
              0.4444444444444444,
              "#bd3786"
             ],
             [
              0.5555555555555556,
              "#d8576b"
             ],
             [
              0.6666666666666666,
              "#ed7953"
             ],
             [
              0.7777777777777778,
              "#fb9f3a"
             ],
             [
              0.8888888888888888,
              "#fdca26"
             ],
             [
              1,
              "#f0f921"
             ]
            ],
            "type": "surface"
           }
          ],
          "table": [
           {
            "cells": {
             "fill": {
              "color": "#EBF0F8"
             },
             "line": {
              "color": "white"
             }
            },
            "header": {
             "fill": {
              "color": "#C8D4E3"
             },
             "line": {
              "color": "white"
             }
            },
            "type": "table"
           }
          ]
         },
         "layout": {
          "annotationdefaults": {
           "arrowcolor": "#2a3f5f",
           "arrowhead": 0,
           "arrowwidth": 1
          },
          "coloraxis": {
           "colorbar": {
            "outlinewidth": 0,
            "ticks": ""
           }
          },
          "colorscale": {
           "diverging": [
            [
             0,
             "#8e0152"
            ],
            [
             0.1,
             "#c51b7d"
            ],
            [
             0.2,
             "#de77ae"
            ],
            [
             0.3,
             "#f1b6da"
            ],
            [
             0.4,
             "#fde0ef"
            ],
            [
             0.5,
             "#f7f7f7"
            ],
            [
             0.6,
             "#e6f5d0"
            ],
            [
             0.7,
             "#b8e186"
            ],
            [
             0.8,
             "#7fbc41"
            ],
            [
             0.9,
             "#4d9221"
            ],
            [
             1,
             "#276419"
            ]
           ],
           "sequential": [
            [
             0,
             "#0d0887"
            ],
            [
             0.1111111111111111,
             "#46039f"
            ],
            [
             0.2222222222222222,
             "#7201a8"
            ],
            [
             0.3333333333333333,
             "#9c179e"
            ],
            [
             0.4444444444444444,
             "#bd3786"
            ],
            [
             0.5555555555555556,
             "#d8576b"
            ],
            [
             0.6666666666666666,
             "#ed7953"
            ],
            [
             0.7777777777777778,
             "#fb9f3a"
            ],
            [
             0.8888888888888888,
             "#fdca26"
            ],
            [
             1,
             "#f0f921"
            ]
           ],
           "sequentialminus": [
            [
             0,
             "#0d0887"
            ],
            [
             0.1111111111111111,
             "#46039f"
            ],
            [
             0.2222222222222222,
             "#7201a8"
            ],
            [
             0.3333333333333333,
             "#9c179e"
            ],
            [
             0.4444444444444444,
             "#bd3786"
            ],
            [
             0.5555555555555556,
             "#d8576b"
            ],
            [
             0.6666666666666666,
             "#ed7953"
            ],
            [
             0.7777777777777778,
             "#fb9f3a"
            ],
            [
             0.8888888888888888,
             "#fdca26"
            ],
            [
             1,
             "#f0f921"
            ]
           ]
          },
          "colorway": [
           "#636efa",
           "#EF553B",
           "#00cc96",
           "#ab63fa",
           "#FFA15A",
           "#19d3f3",
           "#FF6692",
           "#B6E880",
           "#FF97FF",
           "#FECB52"
          ],
          "font": {
           "color": "#2a3f5f"
          },
          "geo": {
           "bgcolor": "white",
           "lakecolor": "white",
           "landcolor": "#E5ECF6",
           "showlakes": true,
           "showland": true,
           "subunitcolor": "white"
          },
          "hoverlabel": {
           "align": "left"
          },
          "hovermode": "closest",
          "mapbox": {
           "style": "light"
          },
          "paper_bgcolor": "white",
          "plot_bgcolor": "#E5ECF6",
          "polar": {
           "angularaxis": {
            "gridcolor": "white",
            "linecolor": "white",
            "ticks": ""
           },
           "bgcolor": "#E5ECF6",
           "radialaxis": {
            "gridcolor": "white",
            "linecolor": "white",
            "ticks": ""
           }
          },
          "scene": {
           "xaxis": {
            "backgroundcolor": "#E5ECF6",
            "gridcolor": "white",
            "gridwidth": 2,
            "linecolor": "white",
            "showbackground": true,
            "ticks": "",
            "zerolinecolor": "white"
           },
           "yaxis": {
            "backgroundcolor": "#E5ECF6",
            "gridcolor": "white",
            "gridwidth": 2,
            "linecolor": "white",
            "showbackground": true,
            "ticks": "",
            "zerolinecolor": "white"
           },
           "zaxis": {
            "backgroundcolor": "#E5ECF6",
            "gridcolor": "white",
            "gridwidth": 2,
            "linecolor": "white",
            "showbackground": true,
            "ticks": "",
            "zerolinecolor": "white"
           }
          },
          "shapedefaults": {
           "line": {
            "color": "#2a3f5f"
           }
          },
          "ternary": {
           "aaxis": {
            "gridcolor": "white",
            "linecolor": "white",
            "ticks": ""
           },
           "baxis": {
            "gridcolor": "white",
            "linecolor": "white",
            "ticks": ""
           },
           "bgcolor": "#E5ECF6",
           "caxis": {
            "gridcolor": "white",
            "linecolor": "white",
            "ticks": ""
           }
          },
          "title": {
           "x": 0.05
          },
          "xaxis": {
           "automargin": true,
           "gridcolor": "white",
           "linecolor": "white",
           "ticks": "",
           "title": {
            "standoff": 15
           },
           "zerolinecolor": "white",
           "zerolinewidth": 2
          },
          "yaxis": {
           "automargin": true,
           "gridcolor": "white",
           "linecolor": "white",
           "ticks": "",
           "title": {
            "standoff": 15
           },
           "zerolinecolor": "white",
           "zerolinewidth": 2
          }
         }
        },
        "title": {
         "text": "Hall Currents (ENU)",
         "x": 0.5,
         "xanchor": "center",
         "y": 0.9,
         "yanchor": "top"
        },
        "width": 750,
        "xaxis": {
         "exponentformat": "power",
         "gridcolor": "grey",
         "gridwidth": 0.5,
         "linecolor": "black",
         "linewidth": 2,
         "mirror": true,
         "showexponent": "all",
         "showgrid": true,
         "showline": true,
         "title": {
          "text": "$A/m^{2}$"
         }
        },
        "yaxis": {
         "dtick": 20,
         "gridcolor": "grey",
         "gridwidth": 0.5,
         "linecolor": "black",
         "linewidth": 2,
         "mirror": true,
         "showgrid": true,
         "showline": true,
         "tick0": 60,
         "title": {
          "text": "Altitude (km)"
         }
        }
       }
      },
      "text/html": [
       "<div>\n",
       "        \n",
       "        \n",
       "            <div id=\"d984f547-a545-49eb-b458-6ae18495cba3\" class=\"plotly-graph-div\" style=\"height:750px; width:750px;\"></div>\n",
       "            <script type=\"text/javascript\">\n",
       "                require([\"plotly\"], function(Plotly) {\n",
       "                    window.PLOTLYENV=window.PLOTLYENV || {};\n",
       "                    \n",
       "                if (document.getElementById(\"d984f547-a545-49eb-b458-6ae18495cba3\")) {\n",
       "                    Plotly.newPlot(\n",
       "                        'd984f547-a545-49eb-b458-6ae18495cba3',\n",
       "                        [{\"marker\": {\"color\": \"blue\"}, \"mode\": \"lines\", \"name\": \"East\", \"type\": \"scatter\", \"x\": [-1.6560007700592633e-07, -2.707257843928198e-07, -4.1490546539374656e-07, -5.80656893120953e-07, -7.759280279306756e-07, -9.99791941352087e-07, -1.253926876578873e-06, -1.5312825677892524e-06, -1.7895979469294846e-06, -1.929604229929234e-06, -1.8342472028905659e-06, -1.4885666655240175e-06, -1.036916265399916e-06, -6.4594958798263e-07, -3.7844806481380916e-07, -2.1667282234051763e-07, -1.232632081904219e-07, -6.981183099510351e-08, -3.9395079040278685e-08, -2.2308114745178768e-08, -1.28329836550374e-08, -7.594202518320127e-09, -4.788447436549189e-09, -3.1479143461184697e-09, -2.1201814262052477e-09, -1.5041402145341263e-09, -1.1073195568974717e-09, -8.246623199887436e-10, -6.06581505313207e-10, -4.338232717097557e-10, -2.999448563133555e-10, -2.0067593361444147e-10, -1.3046079898379474e-10, -8.28220156977946e-11, -5.157918113681196e-11, -3.163036973702904e-11, -1.915661642194132e-11, -1.148418435694379e-11, -6.8264821234561205e-12, -4.0289045642928034e-12, -2.363341490210786e-12, -1.3790607767453675e-12, -8.010480362451743e-13, -4.634405674379182e-13, -2.6716309310072695e-13, -1.535085704743623e-13, -8.792735376865351e-14, -5.0203948275987594e-14, -2.8567736725970644e-14, -1.6193449292399005e-14, -9.137169175725808e-15, -5.126644505406097e-15, -2.8560768341650375e-15, -1.5767750734173185e-15, -8.604103071414432e-16, -4.625086317448803e-16], \"y\": [96.36432, 97.69113, 98.96521, 100.21858, 101.49149, 102.83465, 104.31025, 105.99205, 107.9605, 110.28514, 112.99677, 116.0809, 119.49435, 123.18561, 127.1144, 131.26863, 135.66771, 140.35171, 145.36669, 150.75399, 156.54488, 162.75891, 169.4047, 176.48172, 183.98288, 191.89784, 200.21538, 208.92486, 218.01702, 227.48388, 237.31828, 247.51354, 258.0632, 268.96082, 280.19986, 291.77326, 303.6734, 315.89174, 328.419, 341.2452, 354.35996, 367.75308, 381.41508, 395.33784, 409.5154, 423.9448, 438.62676, 453.56656, 468.7752, 484.27028, 500.07764, 516.23308, 532.7848, 549.7966, 567.35232, 585.562, 603.77168]}, {\"marker\": {\"color\": \"green\"}, \"mode\": \"lines\", \"name\": \"North\", \"type\": \"scatter\", \"x\": [-5.731455146988731e-09, -9.207567797950862e-09, -1.3541942417033331e-08, -1.535281378708113e-08, -9.71716741972843e-09, 9.695275547402249e-09, 4.562215158454878e-08, 9.100140603288473e-08, 1.305196851498828e-07, 1.5440340502562076e-07, 1.624601536571294e-07, 1.5584582963244215e-07, 1.40253639542213e-07, 1.1750623664459047e-07, 8.600588661052346e-08, 5.360780224205887e-08, 2.887506952838838e-08, 1.377516710345245e-08, 6.016609796802977e-09, 2.5357482692363853e-09, 1.1152132680638607e-09, 5.553330929619169e-10, 3.3146474285447315e-10, 2.2380376041614135e-10, 1.5973445354019648e-10, 1.1971418446442544e-10, 9.158568505880149e-11, 6.979212403244307e-11, 5.2116049775654405e-11, 3.7900055805213286e-11, 2.6894603142619303e-11, 1.8708201332847615e-11, 1.2799087878385821e-11, 8.622414912188792e-12, 5.7198045263593115e-12, 3.7357338393944234e-12, 2.4028649704634553e-12, 1.5232409190949606e-12, 9.527390402419364e-13, 5.887156747952642e-13, 3.5986975611839505e-13, 2.1789971657307744e-13, 1.3084623125395146e-13, 7.800487134441318e-14, 4.62095588007903e-14, 2.7221121472442965e-14, 1.5954086426221787e-14, 9.305984771945294e-15, 5.4026276028748265e-15, 3.1211236199137316e-15, 1.793323771763635e-15, 1.023935636323512e-15, 5.802218045642828e-16, 3.2571719673497996e-16, 1.8069762798837197e-16, 9.875051352243463e-17], \"y\": [96.36432, 97.69113, 98.96521, 100.21858, 101.49149, 102.83465, 104.31025, 105.99205, 107.9605, 110.28514, 112.99677, 116.0809, 119.49435, 123.18561, 127.1144, 131.26863, 135.66771, 140.35171, 145.36669, 150.75399, 156.54488, 162.75891, 169.4047, 176.48172, 183.98288, 191.89784, 200.21538, 208.92486, 218.01702, 227.48388, 237.31828, 247.51354, 258.0632, 268.96082, 280.19986, 291.77326, 303.6734, 315.89174, 328.419, 341.2452, 354.35996, 367.75308, 381.41508, 395.33784, 409.5154, 423.9448, 438.62676, 453.56656, 468.7752, 484.27028, 500.07764, 516.23308, 532.7848, 549.7966, 567.35232, 585.562, 603.77168]}, {\"marker\": {\"color\": \"red\"}, \"mode\": \"lines\", \"name\": \"Up\", \"type\": \"scatter\", \"x\": [2.811960760970911e-08, 4.599646723724494e-08, 7.058607145597658e-08, 9.938222821066656e-08, 1.3459941397827987e-07, 1.7712689552563727e-07, 2.2771109628680662e-07, 2.839337765133934e-07, 3.358248380813243e-07, 3.6433523134039825e-07, 3.488956831881889e-07, 2.870870998637751e-07, 2.0520259511420733e-07, 1.3279688520261804e-07, 8.062316880906105e-08, 4.686763152718677e-08, 2.6386459554974766e-08, 1.4514377249991509e-08, 7.898677304551384e-09, 4.328164391948671e-09, 2.432722356053177e-09, 1.4220708678478015e-09, 8.933605297930343e-10, 5.880816517583825e-10, 3.974239880760432e-10, 2.8289019508493303e-10, 2.0874144714513355e-10, 1.5565250370568575e-10, 1.1456845463424139e-10, 8.200351525999197e-11, 5.678182443061446e-11, 3.808546858251928e-11, 2.4848658851285997e-11, 1.584560381164576e-11, 9.918120782513903e-12, 6.114609136724085e-12, 3.723029540191787e-12, 2.2434246936659392e-12, 1.3400130648215702e-12, 7.943981260154745e-13, 4.678910932528135e-13, 2.740301584020881e-13, 1.597015104862978e-13, 9.266854775208514e-14, 5.356367574898523e-14, 3.0850752916801036e-14, 1.7709054661334072e-14, 1.0131199425709682e-14, 5.77533126220327e-15, 3.2791152815437578e-15, 1.8530785170433237e-15, 1.041209127698531e-15, 5.808488982644011e-16, 3.210885273656023e-16, 1.7542938838474955e-16, 9.441577715935498e-17], \"y\": [96.36432, 97.69113, 98.96521, 100.21858, 101.49149, 102.83465, 104.31025, 105.99205, 107.9605, 110.28514, 112.99677, 116.0809, 119.49435, 123.18561, 127.1144, 131.26863, 135.66771, 140.35171, 145.36669, 150.75399, 156.54488, 162.75891, 169.4047, 176.48172, 183.98288, 191.89784, 200.21538, 208.92486, 218.01702, 227.48388, 237.31828, 247.51354, 258.0632, 268.96082, 280.19986, 291.77326, 303.6734, 315.89174, 328.419, 341.2452, 354.35996, 367.75308, 381.41508, 395.33784, 409.5154, 423.9448, 438.62676, 453.56656, 468.7752, 484.27028, 500.07764, 516.23308, 532.7848, 549.7966, 567.35232, 585.562, 603.77168]}],\n",
       "                        {\"height\": 750, \"template\": {\"data\": {\"bar\": [{\"error_x\": {\"color\": \"#2a3f5f\"}, \"error_y\": {\"color\": \"#2a3f5f\"}, \"marker\": {\"line\": {\"color\": \"#E5ECF6\", \"width\": 0.5}}, \"type\": \"bar\"}], \"barpolar\": [{\"marker\": {\"line\": {\"color\": \"#E5ECF6\", \"width\": 0.5}}, \"type\": \"barpolar\"}], \"carpet\": [{\"aaxis\": {\"endlinecolor\": \"#2a3f5f\", \"gridcolor\": \"white\", \"linecolor\": \"white\", \"minorgridcolor\": \"white\", \"startlinecolor\": \"#2a3f5f\"}, \"baxis\": {\"endlinecolor\": \"#2a3f5f\", \"gridcolor\": \"white\", \"linecolor\": \"white\", \"minorgridcolor\": \"white\", \"startlinecolor\": \"#2a3f5f\"}, \"type\": \"carpet\"}], \"choropleth\": [{\"colorbar\": {\"outlinewidth\": 0, \"ticks\": \"\"}, \"type\": \"choropleth\"}], \"contour\": [{\"colorbar\": {\"outlinewidth\": 0, \"ticks\": \"\"}, \"colorscale\": [[0.0, \"#0d0887\"], [0.1111111111111111, \"#46039f\"], [0.2222222222222222, \"#7201a8\"], [0.3333333333333333, \"#9c179e\"], [0.4444444444444444, \"#bd3786\"], [0.5555555555555556, \"#d8576b\"], [0.6666666666666666, \"#ed7953\"], [0.7777777777777778, \"#fb9f3a\"], [0.8888888888888888, \"#fdca26\"], [1.0, \"#f0f921\"]], \"type\": \"contour\"}], \"contourcarpet\": [{\"colorbar\": {\"outlinewidth\": 0, \"ticks\": \"\"}, \"type\": \"contourcarpet\"}], \"heatmap\": [{\"colorbar\": {\"outlinewidth\": 0, \"ticks\": \"\"}, \"colorscale\": [[0.0, \"#0d0887\"], [0.1111111111111111, \"#46039f\"], [0.2222222222222222, \"#7201a8\"], [0.3333333333333333, \"#9c179e\"], [0.4444444444444444, \"#bd3786\"], [0.5555555555555556, \"#d8576b\"], [0.6666666666666666, \"#ed7953\"], [0.7777777777777778, \"#fb9f3a\"], [0.8888888888888888, \"#fdca26\"], [1.0, \"#f0f921\"]], \"type\": \"heatmap\"}], \"heatmapgl\": [{\"colorbar\": {\"outlinewidth\": 0, \"ticks\": \"\"}, \"colorscale\": [[0.0, \"#0d0887\"], [0.1111111111111111, \"#46039f\"], [0.2222222222222222, \"#7201a8\"], [0.3333333333333333, \"#9c179e\"], [0.4444444444444444, \"#bd3786\"], [0.5555555555555556, \"#d8576b\"], [0.6666666666666666, \"#ed7953\"], [0.7777777777777778, \"#fb9f3a\"], [0.8888888888888888, \"#fdca26\"], [1.0, \"#f0f921\"]], \"type\": \"heatmapgl\"}], \"histogram\": [{\"marker\": {\"colorbar\": {\"outlinewidth\": 0, \"ticks\": \"\"}}, \"type\": \"histogram\"}], \"histogram2d\": [{\"colorbar\": {\"outlinewidth\": 0, \"ticks\": \"\"}, \"colorscale\": [[0.0, \"#0d0887\"], [0.1111111111111111, \"#46039f\"], [0.2222222222222222, \"#7201a8\"], [0.3333333333333333, \"#9c179e\"], [0.4444444444444444, \"#bd3786\"], [0.5555555555555556, \"#d8576b\"], [0.6666666666666666, \"#ed7953\"], [0.7777777777777778, \"#fb9f3a\"], [0.8888888888888888, \"#fdca26\"], [1.0, \"#f0f921\"]], \"type\": \"histogram2d\"}], \"histogram2dcontour\": [{\"colorbar\": {\"outlinewidth\": 0, \"ticks\": \"\"}, \"colorscale\": [[0.0, \"#0d0887\"], [0.1111111111111111, \"#46039f\"], [0.2222222222222222, \"#7201a8\"], [0.3333333333333333, \"#9c179e\"], [0.4444444444444444, \"#bd3786\"], [0.5555555555555556, \"#d8576b\"], [0.6666666666666666, \"#ed7953\"], [0.7777777777777778, \"#fb9f3a\"], [0.8888888888888888, \"#fdca26\"], [1.0, \"#f0f921\"]], \"type\": \"histogram2dcontour\"}], \"mesh3d\": [{\"colorbar\": {\"outlinewidth\": 0, \"ticks\": \"\"}, \"type\": \"mesh3d\"}], \"parcoords\": [{\"line\": {\"colorbar\": {\"outlinewidth\": 0, \"ticks\": \"\"}}, \"type\": \"parcoords\"}], \"pie\": [{\"automargin\": true, \"type\": \"pie\"}], \"scatter\": [{\"marker\": {\"colorbar\": {\"outlinewidth\": 0, \"ticks\": \"\"}}, \"type\": \"scatter\"}], \"scatter3d\": [{\"line\": {\"colorbar\": {\"outlinewidth\": 0, \"ticks\": \"\"}}, \"marker\": {\"colorbar\": {\"outlinewidth\": 0, \"ticks\": \"\"}}, \"type\": \"scatter3d\"}], \"scattercarpet\": [{\"marker\": {\"colorbar\": {\"outlinewidth\": 0, \"ticks\": \"\"}}, \"type\": \"scattercarpet\"}], \"scattergeo\": [{\"marker\": {\"colorbar\": {\"outlinewidth\": 0, \"ticks\": \"\"}}, \"type\": \"scattergeo\"}], \"scattergl\": [{\"marker\": {\"colorbar\": {\"outlinewidth\": 0, \"ticks\": \"\"}}, \"type\": \"scattergl\"}], \"scattermapbox\": [{\"marker\": {\"colorbar\": {\"outlinewidth\": 0, \"ticks\": \"\"}}, \"type\": \"scattermapbox\"}], \"scatterpolar\": [{\"marker\": {\"colorbar\": {\"outlinewidth\": 0, \"ticks\": \"\"}}, \"type\": \"scatterpolar\"}], \"scatterpolargl\": [{\"marker\": {\"colorbar\": {\"outlinewidth\": 0, \"ticks\": \"\"}}, \"type\": \"scatterpolargl\"}], \"scatterternary\": [{\"marker\": {\"colorbar\": {\"outlinewidth\": 0, \"ticks\": \"\"}}, \"type\": \"scatterternary\"}], \"surface\": [{\"colorbar\": {\"outlinewidth\": 0, \"ticks\": \"\"}, \"colorscale\": [[0.0, \"#0d0887\"], [0.1111111111111111, \"#46039f\"], [0.2222222222222222, \"#7201a8\"], [0.3333333333333333, \"#9c179e\"], [0.4444444444444444, \"#bd3786\"], [0.5555555555555556, \"#d8576b\"], [0.6666666666666666, \"#ed7953\"], [0.7777777777777778, \"#fb9f3a\"], [0.8888888888888888, \"#fdca26\"], [1.0, \"#f0f921\"]], \"type\": \"surface\"}], \"table\": [{\"cells\": {\"fill\": {\"color\": \"#EBF0F8\"}, \"line\": {\"color\": \"white\"}}, \"header\": {\"fill\": {\"color\": \"#C8D4E3\"}, \"line\": {\"color\": \"white\"}}, \"type\": \"table\"}]}, \"layout\": {\"annotationdefaults\": {\"arrowcolor\": \"#2a3f5f\", \"arrowhead\": 0, \"arrowwidth\": 1}, \"coloraxis\": {\"colorbar\": {\"outlinewidth\": 0, \"ticks\": \"\"}}, \"colorscale\": {\"diverging\": [[0, \"#8e0152\"], [0.1, \"#c51b7d\"], [0.2, \"#de77ae\"], [0.3, \"#f1b6da\"], [0.4, \"#fde0ef\"], [0.5, \"#f7f7f7\"], [0.6, \"#e6f5d0\"], [0.7, \"#b8e186\"], [0.8, \"#7fbc41\"], [0.9, \"#4d9221\"], [1, \"#276419\"]], \"sequential\": [[0.0, \"#0d0887\"], [0.1111111111111111, \"#46039f\"], [0.2222222222222222, \"#7201a8\"], [0.3333333333333333, \"#9c179e\"], [0.4444444444444444, \"#bd3786\"], [0.5555555555555556, \"#d8576b\"], [0.6666666666666666, \"#ed7953\"], [0.7777777777777778, \"#fb9f3a\"], [0.8888888888888888, \"#fdca26\"], [1.0, \"#f0f921\"]], \"sequentialminus\": [[0.0, \"#0d0887\"], [0.1111111111111111, \"#46039f\"], [0.2222222222222222, \"#7201a8\"], [0.3333333333333333, \"#9c179e\"], [0.4444444444444444, \"#bd3786\"], [0.5555555555555556, \"#d8576b\"], [0.6666666666666666, \"#ed7953\"], [0.7777777777777778, \"#fb9f3a\"], [0.8888888888888888, \"#fdca26\"], [1.0, \"#f0f921\"]]}, \"colorway\": [\"#636efa\", \"#EF553B\", \"#00cc96\", \"#ab63fa\", \"#FFA15A\", \"#19d3f3\", \"#FF6692\", \"#B6E880\", \"#FF97FF\", \"#FECB52\"], \"font\": {\"color\": \"#2a3f5f\"}, \"geo\": {\"bgcolor\": \"white\", \"lakecolor\": \"white\", \"landcolor\": \"#E5ECF6\", \"showlakes\": true, \"showland\": true, \"subunitcolor\": \"white\"}, \"hoverlabel\": {\"align\": \"left\"}, \"hovermode\": \"closest\", \"mapbox\": {\"style\": \"light\"}, \"paper_bgcolor\": \"white\", \"plot_bgcolor\": \"#E5ECF6\", \"polar\": {\"angularaxis\": {\"gridcolor\": \"white\", \"linecolor\": \"white\", \"ticks\": \"\"}, \"bgcolor\": \"#E5ECF6\", \"radialaxis\": {\"gridcolor\": \"white\", \"linecolor\": \"white\", \"ticks\": \"\"}}, \"scene\": {\"xaxis\": {\"backgroundcolor\": \"#E5ECF6\", \"gridcolor\": \"white\", \"gridwidth\": 2, \"linecolor\": \"white\", \"showbackground\": true, \"ticks\": \"\", \"zerolinecolor\": \"white\"}, \"yaxis\": {\"backgroundcolor\": \"#E5ECF6\", \"gridcolor\": \"white\", \"gridwidth\": 2, \"linecolor\": \"white\", \"showbackground\": true, \"ticks\": \"\", \"zerolinecolor\": \"white\"}, \"zaxis\": {\"backgroundcolor\": \"#E5ECF6\", \"gridcolor\": \"white\", \"gridwidth\": 2, \"linecolor\": \"white\", \"showbackground\": true, \"ticks\": \"\", \"zerolinecolor\": \"white\"}}, \"shapedefaults\": {\"line\": {\"color\": \"#2a3f5f\"}}, \"ternary\": {\"aaxis\": {\"gridcolor\": \"white\", \"linecolor\": \"white\", \"ticks\": \"\"}, \"baxis\": {\"gridcolor\": \"white\", \"linecolor\": \"white\", \"ticks\": \"\"}, \"bgcolor\": \"#E5ECF6\", \"caxis\": {\"gridcolor\": \"white\", \"linecolor\": \"white\", \"ticks\": \"\"}}, \"title\": {\"x\": 0.05}, \"xaxis\": {\"automargin\": true, \"gridcolor\": \"white\", \"linecolor\": \"white\", \"ticks\": \"\", \"title\": {\"standoff\": 15}, \"zerolinecolor\": \"white\", \"zerolinewidth\": 2}, \"yaxis\": {\"automargin\": true, \"gridcolor\": \"white\", \"linecolor\": \"white\", \"ticks\": \"\", \"title\": {\"standoff\": 15}, \"zerolinecolor\": \"white\", \"zerolinewidth\": 2}}}, \"title\": {\"text\": \"Hall Currents (ENU)\", \"x\": 0.5, \"xanchor\": \"center\", \"y\": 0.9, \"yanchor\": \"top\"}, \"width\": 750, \"xaxis\": {\"exponentformat\": \"power\", \"gridcolor\": \"grey\", \"gridwidth\": 0.5, \"linecolor\": \"black\", \"linewidth\": 2, \"mirror\": true, \"showexponent\": \"all\", \"showgrid\": true, \"showline\": true, \"title\": {\"text\": \"$A/m^{2}$\"}}, \"yaxis\": {\"dtick\": 20, \"gridcolor\": \"grey\", \"gridwidth\": 0.5, \"linecolor\": \"black\", \"linewidth\": 2, \"mirror\": true, \"showgrid\": true, \"showline\": true, \"tick0\": 60, \"title\": {\"text\": \"Altitude (km)\"}}},\n",
       "                        {\"responsive\": true}\n",
       "                    ).then(function(){\n",
       "                            \n",
       "var gd = document.getElementById('d984f547-a545-49eb-b458-6ae18495cba3');\n",
       "var x = new MutationObserver(function (mutations, observer) {{\n",
       "        var display = window.getComputedStyle(gd).display;\n",
       "        if (!display || display === 'none') {{\n",
       "            console.log([gd, 'removed!']);\n",
       "            Plotly.purge(gd);\n",
       "            observer.disconnect();\n",
       "        }}\n",
       "}});\n",
       "\n",
       "// Listen for the removal of the full notebook cells\n",
       "var notebookContainer = gd.closest('#notebook-container');\n",
       "if (notebookContainer) {{\n",
       "    x.observe(notebookContainer, {childList: true});\n",
       "}}\n",
       "\n",
       "// Listen for the clearing of the current output cell\n",
       "var outputEl = gd.closest('.output');\n",
       "if (outputEl) {{\n",
       "    x.observe(outputEl, {childList: true});\n",
       "}}\n",
       "\n",
       "                        })\n",
       "                };\n",
       "                });\n",
       "            </script>\n",
       "        </div>"
      ]
     },
     "metadata": {},
     "output_type": "display_data"
    },
    {
     "name": "stdout",
     "output_type": "stream",
     "text": [
      "Plotting temperatures...\n"
     ]
    },
    {
     "data": {
      "application/vnd.plotly.v1+json": {
       "config": {
        "plotlyServerURL": "https://plot.ly"
       },
       "data": [
        {
         "marker": {
          "color": "blue"
         },
         "mode": "lines",
         "name": "Electron T",
         "type": "scatter",
         "x": [
          175.23721313476562,
          168.0525360107422,
          165.03700256347656,
          167.2252197265625,
          175.90919494628906,
          192.47694396972656,
          218.27293395996094,
          253.97647094726562,
          298.0662841796875,
          345.649169921875,
          391.291259765625,
          431.7337341308594,
          466.2668151855469,
          496.7655029296875,
          527.3798828125,
          562.6328125,
          605.783935546875,
          659.0555419921875,
          725.35009765625,
          809.8073120117188,
          918.4658203125,
          1053.226318359375,
          1208.797607421875,
          1379.6453857421875,
          1556.7012939453125,
          1726.462158203125,
          1880.2034912109375,
          2014.5867919921875,
          2128.427001953125,
          2229.92529296875,
          2323.748779296875,
          2412.331787109375,
          2496.740966796875,
          2577.29443359375,
          2653.99560546875,
          2726.799072265625,
          2795.746337890625,
          2861.008056640625,
          2922.871826171875,
          2981.699951171875,
          3037.8857421875,
          3091.81201171875,
          3143.822998046875,
          3194.21044921875,
          3243.209716796875,
          3291.00634765625,
          3337.7470703125,
          3383.552001953125,
          3428.528076171875,
          3472.779052734375,
          3516.41357421875,
          3559.553466796875,
          3602.33935546875,
          3644.9365234375,
          3687.54345703125,
          3730.4013671875
         ],
         "y": [
          96.36432,
          97.69113,
          98.96521,
          100.21858,
          101.49149,
          102.83465,
          104.31025,
          105.99205,
          107.9605,
          110.28514,
          112.99677,
          116.0809,
          119.49435,
          123.18561,
          127.1144,
          131.26863,
          135.66771,
          140.35171,
          145.36669,
          150.75399,
          156.54488,
          162.75891,
          169.4047,
          176.48172,
          183.98288,
          191.89784,
          200.21538,
          208.92486,
          218.01702,
          227.48388,
          237.31828,
          247.51354,
          258.0632,
          268.96082,
          280.19986,
          291.77326,
          303.6734,
          315.89174,
          328.419,
          341.2452,
          354.35996,
          367.75308,
          381.41508,
          395.33784,
          409.5154,
          423.9448,
          438.62676,
          453.56656,
          468.7752,
          484.27028,
          500.07764,
          516.23308,
          532.7848,
          549.7966,
          567.35232,
          585.562,
          603.77168
         ]
        },
        {
         "marker": {
          "color": "green"
         },
         "mode": "lines",
         "name": "Ion T",
         "type": "scatter",
         "x": [
          175.26893615722656,
          168.09080505371094,
          165.0892333984375,
          167.3022918701172,
          176.03822326660156,
          192.7221221923828,
          218.78688049316406,
          255.0889434814453,
          300.3444519042969,
          349.8345031738281,
          397.87957763671875,
          440.4219665527344,
          476.0841064453125,
          506.2169494628906,
          533.4437255859375,
          560.3035278320312,
          588.6522216796875,
          619.3764038085938,
          652.4862060546875,
          687.3609619140625,
          722.9774780273438,
          758.556884765625,
          791.5186767578125,
          823.3320922851562,
          852.0952758789062,
          878.0990600585938,
          901.42529296875,
          922.2557373046875,
          940.8037109375,
          957.3104858398438,
          972.0238037109375,
          985.2018432617188,
          997.1109619140625,
          1008.0304565429688,
          1018.2546997070312,
          1028.09033203125,
          1037.852783203125,
          1047.8646240234375,
          1058.4564208984375,
          1069.9708251953125,
          1082.7685546875,
          1097.23681640625,
          1113.797607421875,
          1132.91796875,
          1155.12158203125,
          1181.001220703125,
          1211.232421875,
          1246.5889892578125,
          1287.9576416015625,
          1336.3526611328125,
          1392.9285888671875,
          1458.99169921875,
          1536.009033203125,
          1625.6138916015625,
          1729.593994140625,
          1850.3013916015625
         ],
         "y": [
          96.36432,
          97.69113,
          98.96521,
          100.21858,
          101.49149,
          102.83465,
          104.31025,
          105.99205,
          107.9605,
          110.28514,
          112.99677,
          116.0809,
          119.49435,
          123.18561,
          127.1144,
          131.26863,
          135.66771,
          140.35171,
          145.36669,
          150.75399,
          156.54488,
          162.75891,
          169.4047,
          176.48172,
          183.98288,
          191.89784,
          200.21538,
          208.92486,
          218.01702,
          227.48388,
          237.31828,
          247.51354,
          258.0632,
          268.96082,
          280.19986,
          291.77326,
          303.6734,
          315.89174,
          328.419,
          341.2452,
          354.35996,
          367.75308,
          381.41508,
          395.33784,
          409.5154,
          423.9448,
          438.62676,
          453.56656,
          468.7752,
          484.27028,
          500.07764,
          516.23308,
          532.7848,
          549.7966,
          567.35232,
          585.562,
          603.77168
         ]
        },
        {
         "marker": {
          "color": "red"
         },
         "mode": "lines",
         "name": "Neutral T",
         "type": "scatter",
         "x": [
          175.23423767089844,
          168.05067443847656,
          165.03689575195312,
          167.2268524169922,
          175.91375732421875,
          192.4862518310547,
          218.28736877441406,
          253.97210693359375,
          297.88946533203125,
          344.8592224121094,
          389.0071716308594,
          426.6631774902344,
          456.82421875,
          481.07147216796875,
          503.0917663574219,
          526.707275390625,
          554.1460571289062,
          585.7767333984375,
          620.7152099609375,
          657.5272827148438,
          694.69873046875,
          730.89599609375,
          765.06982421875,
          796.5181274414062,
          824.906494140625,
          850.1744995117188,
          872.4168090820312,
          891.8114624023438,
          908.557373046875,
          922.8355712890625,
          934.8334350585938,
          944.7666625976562,
          952.8733520507812,
          959.402587890625,
          964.601318359375,
          968.7015991210938,
          971.912109375,
          974.412841796875,
          976.3545532226562,
          977.8597412109375,
          979.026123046875,
          979.9304809570312,
          980.6321411132812,
          981.1771240234375,
          981.600341796875,
          981.9288330078125,
          982.18310546875,
          982.3789672851562,
          982.5286865234375,
          982.6417846679688,
          982.7257080078125,
          982.7864379882812,
          982.8286743164062,
          982.8562622070312,
          982.8723754882812,
          982.87939453125
         ],
         "y": [
          96.36432,
          97.69113,
          98.96521,
          100.21858,
          101.49149,
          102.83465,
          104.31025,
          105.99205,
          107.9605,
          110.28514,
          112.99677,
          116.0809,
          119.49435,
          123.18561,
          127.1144,
          131.26863,
          135.66771,
          140.35171,
          145.36669,
          150.75399,
          156.54488,
          162.75891,
          169.4047,
          176.48172,
          183.98288,
          191.89784,
          200.21538,
          208.92486,
          218.01702,
          227.48388,
          237.31828,
          247.51354,
          258.0632,
          268.96082,
          280.19986,
          291.77326,
          303.6734,
          315.89174,
          328.419,
          341.2452,
          354.35996,
          367.75308,
          381.41508,
          395.33784,
          409.5154,
          423.9448,
          438.62676,
          453.56656,
          468.7752,
          484.27028,
          500.07764,
          516.23308,
          532.7848,
          549.7966,
          567.35232,
          585.562,
          603.77168
         ]
        }
       ],
       "layout": {
        "height": 750,
        "template": {
         "data": {
          "bar": [
           {
            "error_x": {
             "color": "#2a3f5f"
            },
            "error_y": {
             "color": "#2a3f5f"
            },
            "marker": {
             "line": {
              "color": "#E5ECF6",
              "width": 0.5
             }
            },
            "type": "bar"
           }
          ],
          "barpolar": [
           {
            "marker": {
             "line": {
              "color": "#E5ECF6",
              "width": 0.5
             }
            },
            "type": "barpolar"
           }
          ],
          "carpet": [
           {
            "aaxis": {
             "endlinecolor": "#2a3f5f",
             "gridcolor": "white",
             "linecolor": "white",
             "minorgridcolor": "white",
             "startlinecolor": "#2a3f5f"
            },
            "baxis": {
             "endlinecolor": "#2a3f5f",
             "gridcolor": "white",
             "linecolor": "white",
             "minorgridcolor": "white",
             "startlinecolor": "#2a3f5f"
            },
            "type": "carpet"
           }
          ],
          "choropleth": [
           {
            "colorbar": {
             "outlinewidth": 0,
             "ticks": ""
            },
            "type": "choropleth"
           }
          ],
          "contour": [
           {
            "colorbar": {
             "outlinewidth": 0,
             "ticks": ""
            },
            "colorscale": [
             [
              0,
              "#0d0887"
             ],
             [
              0.1111111111111111,
              "#46039f"
             ],
             [
              0.2222222222222222,
              "#7201a8"
             ],
             [
              0.3333333333333333,
              "#9c179e"
             ],
             [
              0.4444444444444444,
              "#bd3786"
             ],
             [
              0.5555555555555556,
              "#d8576b"
             ],
             [
              0.6666666666666666,
              "#ed7953"
             ],
             [
              0.7777777777777778,
              "#fb9f3a"
             ],
             [
              0.8888888888888888,
              "#fdca26"
             ],
             [
              1,
              "#f0f921"
             ]
            ],
            "type": "contour"
           }
          ],
          "contourcarpet": [
           {
            "colorbar": {
             "outlinewidth": 0,
             "ticks": ""
            },
            "type": "contourcarpet"
           }
          ],
          "heatmap": [
           {
            "colorbar": {
             "outlinewidth": 0,
             "ticks": ""
            },
            "colorscale": [
             [
              0,
              "#0d0887"
             ],
             [
              0.1111111111111111,
              "#46039f"
             ],
             [
              0.2222222222222222,
              "#7201a8"
             ],
             [
              0.3333333333333333,
              "#9c179e"
             ],
             [
              0.4444444444444444,
              "#bd3786"
             ],
             [
              0.5555555555555556,
              "#d8576b"
             ],
             [
              0.6666666666666666,
              "#ed7953"
             ],
             [
              0.7777777777777778,
              "#fb9f3a"
             ],
             [
              0.8888888888888888,
              "#fdca26"
             ],
             [
              1,
              "#f0f921"
             ]
            ],
            "type": "heatmap"
           }
          ],
          "heatmapgl": [
           {
            "colorbar": {
             "outlinewidth": 0,
             "ticks": ""
            },
            "colorscale": [
             [
              0,
              "#0d0887"
             ],
             [
              0.1111111111111111,
              "#46039f"
             ],
             [
              0.2222222222222222,
              "#7201a8"
             ],
             [
              0.3333333333333333,
              "#9c179e"
             ],
             [
              0.4444444444444444,
              "#bd3786"
             ],
             [
              0.5555555555555556,
              "#d8576b"
             ],
             [
              0.6666666666666666,
              "#ed7953"
             ],
             [
              0.7777777777777778,
              "#fb9f3a"
             ],
             [
              0.8888888888888888,
              "#fdca26"
             ],
             [
              1,
              "#f0f921"
             ]
            ],
            "type": "heatmapgl"
           }
          ],
          "histogram": [
           {
            "marker": {
             "colorbar": {
              "outlinewidth": 0,
              "ticks": ""
             }
            },
            "type": "histogram"
           }
          ],
          "histogram2d": [
           {
            "colorbar": {
             "outlinewidth": 0,
             "ticks": ""
            },
            "colorscale": [
             [
              0,
              "#0d0887"
             ],
             [
              0.1111111111111111,
              "#46039f"
             ],
             [
              0.2222222222222222,
              "#7201a8"
             ],
             [
              0.3333333333333333,
              "#9c179e"
             ],
             [
              0.4444444444444444,
              "#bd3786"
             ],
             [
              0.5555555555555556,
              "#d8576b"
             ],
             [
              0.6666666666666666,
              "#ed7953"
             ],
             [
              0.7777777777777778,
              "#fb9f3a"
             ],
             [
              0.8888888888888888,
              "#fdca26"
             ],
             [
              1,
              "#f0f921"
             ]
            ],
            "type": "histogram2d"
           }
          ],
          "histogram2dcontour": [
           {
            "colorbar": {
             "outlinewidth": 0,
             "ticks": ""
            },
            "colorscale": [
             [
              0,
              "#0d0887"
             ],
             [
              0.1111111111111111,
              "#46039f"
             ],
             [
              0.2222222222222222,
              "#7201a8"
             ],
             [
              0.3333333333333333,
              "#9c179e"
             ],
             [
              0.4444444444444444,
              "#bd3786"
             ],
             [
              0.5555555555555556,
              "#d8576b"
             ],
             [
              0.6666666666666666,
              "#ed7953"
             ],
             [
              0.7777777777777778,
              "#fb9f3a"
             ],
             [
              0.8888888888888888,
              "#fdca26"
             ],
             [
              1,
              "#f0f921"
             ]
            ],
            "type": "histogram2dcontour"
           }
          ],
          "mesh3d": [
           {
            "colorbar": {
             "outlinewidth": 0,
             "ticks": ""
            },
            "type": "mesh3d"
           }
          ],
          "parcoords": [
           {
            "line": {
             "colorbar": {
              "outlinewidth": 0,
              "ticks": ""
             }
            },
            "type": "parcoords"
           }
          ],
          "pie": [
           {
            "automargin": true,
            "type": "pie"
           }
          ],
          "scatter": [
           {
            "marker": {
             "colorbar": {
              "outlinewidth": 0,
              "ticks": ""
             }
            },
            "type": "scatter"
           }
          ],
          "scatter3d": [
           {
            "line": {
             "colorbar": {
              "outlinewidth": 0,
              "ticks": ""
             }
            },
            "marker": {
             "colorbar": {
              "outlinewidth": 0,
              "ticks": ""
             }
            },
            "type": "scatter3d"
           }
          ],
          "scattercarpet": [
           {
            "marker": {
             "colorbar": {
              "outlinewidth": 0,
              "ticks": ""
             }
            },
            "type": "scattercarpet"
           }
          ],
          "scattergeo": [
           {
            "marker": {
             "colorbar": {
              "outlinewidth": 0,
              "ticks": ""
             }
            },
            "type": "scattergeo"
           }
          ],
          "scattergl": [
           {
            "marker": {
             "colorbar": {
              "outlinewidth": 0,
              "ticks": ""
             }
            },
            "type": "scattergl"
           }
          ],
          "scattermapbox": [
           {
            "marker": {
             "colorbar": {
              "outlinewidth": 0,
              "ticks": ""
             }
            },
            "type": "scattermapbox"
           }
          ],
          "scatterpolar": [
           {
            "marker": {
             "colorbar": {
              "outlinewidth": 0,
              "ticks": ""
             }
            },
            "type": "scatterpolar"
           }
          ],
          "scatterpolargl": [
           {
            "marker": {
             "colorbar": {
              "outlinewidth": 0,
              "ticks": ""
             }
            },
            "type": "scatterpolargl"
           }
          ],
          "scatterternary": [
           {
            "marker": {
             "colorbar": {
              "outlinewidth": 0,
              "ticks": ""
             }
            },
            "type": "scatterternary"
           }
          ],
          "surface": [
           {
            "colorbar": {
             "outlinewidth": 0,
             "ticks": ""
            },
            "colorscale": [
             [
              0,
              "#0d0887"
             ],
             [
              0.1111111111111111,
              "#46039f"
             ],
             [
              0.2222222222222222,
              "#7201a8"
             ],
             [
              0.3333333333333333,
              "#9c179e"
             ],
             [
              0.4444444444444444,
              "#bd3786"
             ],
             [
              0.5555555555555556,
              "#d8576b"
             ],
             [
              0.6666666666666666,
              "#ed7953"
             ],
             [
              0.7777777777777778,
              "#fb9f3a"
             ],
             [
              0.8888888888888888,
              "#fdca26"
             ],
             [
              1,
              "#f0f921"
             ]
            ],
            "type": "surface"
           }
          ],
          "table": [
           {
            "cells": {
             "fill": {
              "color": "#EBF0F8"
             },
             "line": {
              "color": "white"
             }
            },
            "header": {
             "fill": {
              "color": "#C8D4E3"
             },
             "line": {
              "color": "white"
             }
            },
            "type": "table"
           }
          ]
         },
         "layout": {
          "annotationdefaults": {
           "arrowcolor": "#2a3f5f",
           "arrowhead": 0,
           "arrowwidth": 1
          },
          "coloraxis": {
           "colorbar": {
            "outlinewidth": 0,
            "ticks": ""
           }
          },
          "colorscale": {
           "diverging": [
            [
             0,
             "#8e0152"
            ],
            [
             0.1,
             "#c51b7d"
            ],
            [
             0.2,
             "#de77ae"
            ],
            [
             0.3,
             "#f1b6da"
            ],
            [
             0.4,
             "#fde0ef"
            ],
            [
             0.5,
             "#f7f7f7"
            ],
            [
             0.6,
             "#e6f5d0"
            ],
            [
             0.7,
             "#b8e186"
            ],
            [
             0.8,
             "#7fbc41"
            ],
            [
             0.9,
             "#4d9221"
            ],
            [
             1,
             "#276419"
            ]
           ],
           "sequential": [
            [
             0,
             "#0d0887"
            ],
            [
             0.1111111111111111,
             "#46039f"
            ],
            [
             0.2222222222222222,
             "#7201a8"
            ],
            [
             0.3333333333333333,
             "#9c179e"
            ],
            [
             0.4444444444444444,
             "#bd3786"
            ],
            [
             0.5555555555555556,
             "#d8576b"
            ],
            [
             0.6666666666666666,
             "#ed7953"
            ],
            [
             0.7777777777777778,
             "#fb9f3a"
            ],
            [
             0.8888888888888888,
             "#fdca26"
            ],
            [
             1,
             "#f0f921"
            ]
           ],
           "sequentialminus": [
            [
             0,
             "#0d0887"
            ],
            [
             0.1111111111111111,
             "#46039f"
            ],
            [
             0.2222222222222222,
             "#7201a8"
            ],
            [
             0.3333333333333333,
             "#9c179e"
            ],
            [
             0.4444444444444444,
             "#bd3786"
            ],
            [
             0.5555555555555556,
             "#d8576b"
            ],
            [
             0.6666666666666666,
             "#ed7953"
            ],
            [
             0.7777777777777778,
             "#fb9f3a"
            ],
            [
             0.8888888888888888,
             "#fdca26"
            ],
            [
             1,
             "#f0f921"
            ]
           ]
          },
          "colorway": [
           "#636efa",
           "#EF553B",
           "#00cc96",
           "#ab63fa",
           "#FFA15A",
           "#19d3f3",
           "#FF6692",
           "#B6E880",
           "#FF97FF",
           "#FECB52"
          ],
          "font": {
           "color": "#2a3f5f"
          },
          "geo": {
           "bgcolor": "white",
           "lakecolor": "white",
           "landcolor": "#E5ECF6",
           "showlakes": true,
           "showland": true,
           "subunitcolor": "white"
          },
          "hoverlabel": {
           "align": "left"
          },
          "hovermode": "closest",
          "mapbox": {
           "style": "light"
          },
          "paper_bgcolor": "white",
          "plot_bgcolor": "#E5ECF6",
          "polar": {
           "angularaxis": {
            "gridcolor": "white",
            "linecolor": "white",
            "ticks": ""
           },
           "bgcolor": "#E5ECF6",
           "radialaxis": {
            "gridcolor": "white",
            "linecolor": "white",
            "ticks": ""
           }
          },
          "scene": {
           "xaxis": {
            "backgroundcolor": "#E5ECF6",
            "gridcolor": "white",
            "gridwidth": 2,
            "linecolor": "white",
            "showbackground": true,
            "ticks": "",
            "zerolinecolor": "white"
           },
           "yaxis": {
            "backgroundcolor": "#E5ECF6",
            "gridcolor": "white",
            "gridwidth": 2,
            "linecolor": "white",
            "showbackground": true,
            "ticks": "",
            "zerolinecolor": "white"
           },
           "zaxis": {
            "backgroundcolor": "#E5ECF6",
            "gridcolor": "white",
            "gridwidth": 2,
            "linecolor": "white",
            "showbackground": true,
            "ticks": "",
            "zerolinecolor": "white"
           }
          },
          "shapedefaults": {
           "line": {
            "color": "#2a3f5f"
           }
          },
          "ternary": {
           "aaxis": {
            "gridcolor": "white",
            "linecolor": "white",
            "ticks": ""
           },
           "baxis": {
            "gridcolor": "white",
            "linecolor": "white",
            "ticks": ""
           },
           "bgcolor": "#E5ECF6",
           "caxis": {
            "gridcolor": "white",
            "linecolor": "white",
            "ticks": ""
           }
          },
          "title": {
           "x": 0.05
          },
          "xaxis": {
           "automargin": true,
           "gridcolor": "white",
           "linecolor": "white",
           "ticks": "",
           "title": {
            "standoff": 15
           },
           "zerolinecolor": "white",
           "zerolinewidth": 2
          },
          "yaxis": {
           "automargin": true,
           "gridcolor": "white",
           "linecolor": "white",
           "ticks": "",
           "title": {
            "standoff": 15
           },
           "zerolinecolor": "white",
           "zerolinewidth": 2
          }
         }
        },
        "title": {
         "text": "Temperature",
         "x": 0.5,
         "xanchor": "center",
         "y": 0.9,
         "yanchor": "top"
        },
        "width": 750,
        "xaxis": {
         "exponentformat": "power",
         "gridcolor": "grey",
         "gridwidth": 0.5,
         "linecolor": "black",
         "linewidth": 2,
         "mirror": true,
         "showexponent": "all",
         "showgrid": true,
         "showline": true,
         "title": {
          "text": "$K$"
         }
        },
        "yaxis": {
         "dtick": 20,
         "gridcolor": "grey",
         "gridwidth": 0.5,
         "linecolor": "black",
         "linewidth": 2,
         "mirror": true,
         "showgrid": true,
         "showline": true,
         "tick0": 60,
         "title": {
          "text": "Altitude (km)"
         }
        }
       }
      },
      "text/html": [
       "<div>\n",
       "        \n",
       "        \n",
       "            <div id=\"7c7ceab1-13b8-4732-b446-ea3a53383a2f\" class=\"plotly-graph-div\" style=\"height:750px; width:750px;\"></div>\n",
       "            <script type=\"text/javascript\">\n",
       "                require([\"plotly\"], function(Plotly) {\n",
       "                    window.PLOTLYENV=window.PLOTLYENV || {};\n",
       "                    \n",
       "                if (document.getElementById(\"7c7ceab1-13b8-4732-b446-ea3a53383a2f\")) {\n",
       "                    Plotly.newPlot(\n",
       "                        '7c7ceab1-13b8-4732-b446-ea3a53383a2f',\n",
       "                        [{\"marker\": {\"color\": \"blue\"}, \"mode\": \"lines\", \"name\": \"Electron T\", \"type\": \"scatter\", \"x\": [175.23721313476562, 168.0525360107422, 165.03700256347656, 167.2252197265625, 175.90919494628906, 192.47694396972656, 218.27293395996094, 253.97647094726562, 298.0662841796875, 345.649169921875, 391.291259765625, 431.7337341308594, 466.2668151855469, 496.7655029296875, 527.3798828125, 562.6328125, 605.783935546875, 659.0555419921875, 725.35009765625, 809.8073120117188, 918.4658203125, 1053.226318359375, 1208.797607421875, 1379.6453857421875, 1556.7012939453125, 1726.462158203125, 1880.2034912109375, 2014.5867919921875, 2128.427001953125, 2229.92529296875, 2323.748779296875, 2412.331787109375, 2496.740966796875, 2577.29443359375, 2653.99560546875, 2726.799072265625, 2795.746337890625, 2861.008056640625, 2922.871826171875, 2981.699951171875, 3037.8857421875, 3091.81201171875, 3143.822998046875, 3194.21044921875, 3243.209716796875, 3291.00634765625, 3337.7470703125, 3383.552001953125, 3428.528076171875, 3472.779052734375, 3516.41357421875, 3559.553466796875, 3602.33935546875, 3644.9365234375, 3687.54345703125, 3730.4013671875], \"y\": [96.36432, 97.69113, 98.96521, 100.21858, 101.49149, 102.83465, 104.31025, 105.99205, 107.9605, 110.28514, 112.99677, 116.0809, 119.49435, 123.18561, 127.1144, 131.26863, 135.66771, 140.35171, 145.36669, 150.75399, 156.54488, 162.75891, 169.4047, 176.48172, 183.98288, 191.89784, 200.21538, 208.92486, 218.01702, 227.48388, 237.31828, 247.51354, 258.0632, 268.96082, 280.19986, 291.77326, 303.6734, 315.89174, 328.419, 341.2452, 354.35996, 367.75308, 381.41508, 395.33784, 409.5154, 423.9448, 438.62676, 453.56656, 468.7752, 484.27028, 500.07764, 516.23308, 532.7848, 549.7966, 567.35232, 585.562, 603.77168]}, {\"marker\": {\"color\": \"green\"}, \"mode\": \"lines\", \"name\": \"Ion T\", \"type\": \"scatter\", \"x\": [175.26893615722656, 168.09080505371094, 165.0892333984375, 167.3022918701172, 176.03822326660156, 192.7221221923828, 218.78688049316406, 255.0889434814453, 300.3444519042969, 349.8345031738281, 397.87957763671875, 440.4219665527344, 476.0841064453125, 506.2169494628906, 533.4437255859375, 560.3035278320312, 588.6522216796875, 619.3764038085938, 652.4862060546875, 687.3609619140625, 722.9774780273438, 758.556884765625, 791.5186767578125, 823.3320922851562, 852.0952758789062, 878.0990600585938, 901.42529296875, 922.2557373046875, 940.8037109375, 957.3104858398438, 972.0238037109375, 985.2018432617188, 997.1109619140625, 1008.0304565429688, 1018.2546997070312, 1028.09033203125, 1037.852783203125, 1047.8646240234375, 1058.4564208984375, 1069.9708251953125, 1082.7685546875, 1097.23681640625, 1113.797607421875, 1132.91796875, 1155.12158203125, 1181.001220703125, 1211.232421875, 1246.5889892578125, 1287.9576416015625, 1336.3526611328125, 1392.9285888671875, 1458.99169921875, 1536.009033203125, 1625.6138916015625, 1729.593994140625, 1850.3013916015625], \"y\": [96.36432, 97.69113, 98.96521, 100.21858, 101.49149, 102.83465, 104.31025, 105.99205, 107.9605, 110.28514, 112.99677, 116.0809, 119.49435, 123.18561, 127.1144, 131.26863, 135.66771, 140.35171, 145.36669, 150.75399, 156.54488, 162.75891, 169.4047, 176.48172, 183.98288, 191.89784, 200.21538, 208.92486, 218.01702, 227.48388, 237.31828, 247.51354, 258.0632, 268.96082, 280.19986, 291.77326, 303.6734, 315.89174, 328.419, 341.2452, 354.35996, 367.75308, 381.41508, 395.33784, 409.5154, 423.9448, 438.62676, 453.56656, 468.7752, 484.27028, 500.07764, 516.23308, 532.7848, 549.7966, 567.35232, 585.562, 603.77168]}, {\"marker\": {\"color\": \"red\"}, \"mode\": \"lines\", \"name\": \"Neutral T\", \"type\": \"scatter\", \"x\": [175.23423767089844, 168.05067443847656, 165.03689575195312, 167.2268524169922, 175.91375732421875, 192.4862518310547, 218.28736877441406, 253.97210693359375, 297.88946533203125, 344.8592224121094, 389.0071716308594, 426.6631774902344, 456.82421875, 481.07147216796875, 503.0917663574219, 526.707275390625, 554.1460571289062, 585.7767333984375, 620.7152099609375, 657.5272827148438, 694.69873046875, 730.89599609375, 765.06982421875, 796.5181274414062, 824.906494140625, 850.1744995117188, 872.4168090820312, 891.8114624023438, 908.557373046875, 922.8355712890625, 934.8334350585938, 944.7666625976562, 952.8733520507812, 959.402587890625, 964.601318359375, 968.7015991210938, 971.912109375, 974.412841796875, 976.3545532226562, 977.8597412109375, 979.026123046875, 979.9304809570312, 980.6321411132812, 981.1771240234375, 981.600341796875, 981.9288330078125, 982.18310546875, 982.3789672851562, 982.5286865234375, 982.6417846679688, 982.7257080078125, 982.7864379882812, 982.8286743164062, 982.8562622070312, 982.8723754882812, 982.87939453125], \"y\": [96.36432, 97.69113, 98.96521, 100.21858, 101.49149, 102.83465, 104.31025, 105.99205, 107.9605, 110.28514, 112.99677, 116.0809, 119.49435, 123.18561, 127.1144, 131.26863, 135.66771, 140.35171, 145.36669, 150.75399, 156.54488, 162.75891, 169.4047, 176.48172, 183.98288, 191.89784, 200.21538, 208.92486, 218.01702, 227.48388, 237.31828, 247.51354, 258.0632, 268.96082, 280.19986, 291.77326, 303.6734, 315.89174, 328.419, 341.2452, 354.35996, 367.75308, 381.41508, 395.33784, 409.5154, 423.9448, 438.62676, 453.56656, 468.7752, 484.27028, 500.07764, 516.23308, 532.7848, 549.7966, 567.35232, 585.562, 603.77168]}],\n",
       "                        {\"height\": 750, \"template\": {\"data\": {\"bar\": [{\"error_x\": {\"color\": \"#2a3f5f\"}, \"error_y\": {\"color\": \"#2a3f5f\"}, \"marker\": {\"line\": {\"color\": \"#E5ECF6\", \"width\": 0.5}}, \"type\": \"bar\"}], \"barpolar\": [{\"marker\": {\"line\": {\"color\": \"#E5ECF6\", \"width\": 0.5}}, \"type\": \"barpolar\"}], \"carpet\": [{\"aaxis\": {\"endlinecolor\": \"#2a3f5f\", \"gridcolor\": \"white\", \"linecolor\": \"white\", \"minorgridcolor\": \"white\", \"startlinecolor\": \"#2a3f5f\"}, \"baxis\": {\"endlinecolor\": \"#2a3f5f\", \"gridcolor\": \"white\", \"linecolor\": \"white\", \"minorgridcolor\": \"white\", \"startlinecolor\": \"#2a3f5f\"}, \"type\": \"carpet\"}], \"choropleth\": [{\"colorbar\": {\"outlinewidth\": 0, \"ticks\": \"\"}, \"type\": \"choropleth\"}], \"contour\": [{\"colorbar\": {\"outlinewidth\": 0, \"ticks\": \"\"}, \"colorscale\": [[0.0, \"#0d0887\"], [0.1111111111111111, \"#46039f\"], [0.2222222222222222, \"#7201a8\"], [0.3333333333333333, \"#9c179e\"], [0.4444444444444444, \"#bd3786\"], [0.5555555555555556, \"#d8576b\"], [0.6666666666666666, \"#ed7953\"], [0.7777777777777778, \"#fb9f3a\"], [0.8888888888888888, \"#fdca26\"], [1.0, \"#f0f921\"]], \"type\": \"contour\"}], \"contourcarpet\": [{\"colorbar\": {\"outlinewidth\": 0, \"ticks\": \"\"}, \"type\": \"contourcarpet\"}], \"heatmap\": [{\"colorbar\": {\"outlinewidth\": 0, \"ticks\": \"\"}, \"colorscale\": [[0.0, \"#0d0887\"], [0.1111111111111111, \"#46039f\"], [0.2222222222222222, \"#7201a8\"], [0.3333333333333333, \"#9c179e\"], [0.4444444444444444, \"#bd3786\"], [0.5555555555555556, \"#d8576b\"], [0.6666666666666666, \"#ed7953\"], [0.7777777777777778, \"#fb9f3a\"], [0.8888888888888888, \"#fdca26\"], [1.0, \"#f0f921\"]], \"type\": \"heatmap\"}], \"heatmapgl\": [{\"colorbar\": {\"outlinewidth\": 0, \"ticks\": \"\"}, \"colorscale\": [[0.0, \"#0d0887\"], [0.1111111111111111, \"#46039f\"], [0.2222222222222222, \"#7201a8\"], [0.3333333333333333, \"#9c179e\"], [0.4444444444444444, \"#bd3786\"], [0.5555555555555556, \"#d8576b\"], [0.6666666666666666, \"#ed7953\"], [0.7777777777777778, \"#fb9f3a\"], [0.8888888888888888, \"#fdca26\"], [1.0, \"#f0f921\"]], \"type\": \"heatmapgl\"}], \"histogram\": [{\"marker\": {\"colorbar\": {\"outlinewidth\": 0, \"ticks\": \"\"}}, \"type\": \"histogram\"}], \"histogram2d\": [{\"colorbar\": {\"outlinewidth\": 0, \"ticks\": \"\"}, \"colorscale\": [[0.0, \"#0d0887\"], [0.1111111111111111, \"#46039f\"], [0.2222222222222222, \"#7201a8\"], [0.3333333333333333, \"#9c179e\"], [0.4444444444444444, \"#bd3786\"], [0.5555555555555556, \"#d8576b\"], [0.6666666666666666, \"#ed7953\"], [0.7777777777777778, \"#fb9f3a\"], [0.8888888888888888, \"#fdca26\"], [1.0, \"#f0f921\"]], \"type\": \"histogram2d\"}], \"histogram2dcontour\": [{\"colorbar\": {\"outlinewidth\": 0, \"ticks\": \"\"}, \"colorscale\": [[0.0, \"#0d0887\"], [0.1111111111111111, \"#46039f\"], [0.2222222222222222, \"#7201a8\"], [0.3333333333333333, \"#9c179e\"], [0.4444444444444444, \"#bd3786\"], [0.5555555555555556, \"#d8576b\"], [0.6666666666666666, \"#ed7953\"], [0.7777777777777778, \"#fb9f3a\"], [0.8888888888888888, \"#fdca26\"], [1.0, \"#f0f921\"]], \"type\": \"histogram2dcontour\"}], \"mesh3d\": [{\"colorbar\": {\"outlinewidth\": 0, \"ticks\": \"\"}, \"type\": \"mesh3d\"}], \"parcoords\": [{\"line\": {\"colorbar\": {\"outlinewidth\": 0, \"ticks\": \"\"}}, \"type\": \"parcoords\"}], \"pie\": [{\"automargin\": true, \"type\": \"pie\"}], \"scatter\": [{\"marker\": {\"colorbar\": {\"outlinewidth\": 0, \"ticks\": \"\"}}, \"type\": \"scatter\"}], \"scatter3d\": [{\"line\": {\"colorbar\": {\"outlinewidth\": 0, \"ticks\": \"\"}}, \"marker\": {\"colorbar\": {\"outlinewidth\": 0, \"ticks\": \"\"}}, \"type\": \"scatter3d\"}], \"scattercarpet\": [{\"marker\": {\"colorbar\": {\"outlinewidth\": 0, \"ticks\": \"\"}}, \"type\": \"scattercarpet\"}], \"scattergeo\": [{\"marker\": {\"colorbar\": {\"outlinewidth\": 0, \"ticks\": \"\"}}, \"type\": \"scattergeo\"}], \"scattergl\": [{\"marker\": {\"colorbar\": {\"outlinewidth\": 0, \"ticks\": \"\"}}, \"type\": \"scattergl\"}], \"scattermapbox\": [{\"marker\": {\"colorbar\": {\"outlinewidth\": 0, \"ticks\": \"\"}}, \"type\": \"scattermapbox\"}], \"scatterpolar\": [{\"marker\": {\"colorbar\": {\"outlinewidth\": 0, \"ticks\": \"\"}}, \"type\": \"scatterpolar\"}], \"scatterpolargl\": [{\"marker\": {\"colorbar\": {\"outlinewidth\": 0, \"ticks\": \"\"}}, \"type\": \"scatterpolargl\"}], \"scatterternary\": [{\"marker\": {\"colorbar\": {\"outlinewidth\": 0, \"ticks\": \"\"}}, \"type\": \"scatterternary\"}], \"surface\": [{\"colorbar\": {\"outlinewidth\": 0, \"ticks\": \"\"}, \"colorscale\": [[0.0, \"#0d0887\"], [0.1111111111111111, \"#46039f\"], [0.2222222222222222, \"#7201a8\"], [0.3333333333333333, \"#9c179e\"], [0.4444444444444444, \"#bd3786\"], [0.5555555555555556, \"#d8576b\"], [0.6666666666666666, \"#ed7953\"], [0.7777777777777778, \"#fb9f3a\"], [0.8888888888888888, \"#fdca26\"], [1.0, \"#f0f921\"]], \"type\": \"surface\"}], \"table\": [{\"cells\": {\"fill\": {\"color\": \"#EBF0F8\"}, \"line\": {\"color\": \"white\"}}, \"header\": {\"fill\": {\"color\": \"#C8D4E3\"}, \"line\": {\"color\": \"white\"}}, \"type\": \"table\"}]}, \"layout\": {\"annotationdefaults\": {\"arrowcolor\": \"#2a3f5f\", \"arrowhead\": 0, \"arrowwidth\": 1}, \"coloraxis\": {\"colorbar\": {\"outlinewidth\": 0, \"ticks\": \"\"}}, \"colorscale\": {\"diverging\": [[0, \"#8e0152\"], [0.1, \"#c51b7d\"], [0.2, \"#de77ae\"], [0.3, \"#f1b6da\"], [0.4, \"#fde0ef\"], [0.5, \"#f7f7f7\"], [0.6, \"#e6f5d0\"], [0.7, \"#b8e186\"], [0.8, \"#7fbc41\"], [0.9, \"#4d9221\"], [1, \"#276419\"]], \"sequential\": [[0.0, \"#0d0887\"], [0.1111111111111111, \"#46039f\"], [0.2222222222222222, \"#7201a8\"], [0.3333333333333333, \"#9c179e\"], [0.4444444444444444, \"#bd3786\"], [0.5555555555555556, \"#d8576b\"], [0.6666666666666666, \"#ed7953\"], [0.7777777777777778, \"#fb9f3a\"], [0.8888888888888888, \"#fdca26\"], [1.0, \"#f0f921\"]], \"sequentialminus\": [[0.0, \"#0d0887\"], [0.1111111111111111, \"#46039f\"], [0.2222222222222222, \"#7201a8\"], [0.3333333333333333, \"#9c179e\"], [0.4444444444444444, \"#bd3786\"], [0.5555555555555556, \"#d8576b\"], [0.6666666666666666, \"#ed7953\"], [0.7777777777777778, \"#fb9f3a\"], [0.8888888888888888, \"#fdca26\"], [1.0, \"#f0f921\"]]}, \"colorway\": [\"#636efa\", \"#EF553B\", \"#00cc96\", \"#ab63fa\", \"#FFA15A\", \"#19d3f3\", \"#FF6692\", \"#B6E880\", \"#FF97FF\", \"#FECB52\"], \"font\": {\"color\": \"#2a3f5f\"}, \"geo\": {\"bgcolor\": \"white\", \"lakecolor\": \"white\", \"landcolor\": \"#E5ECF6\", \"showlakes\": true, \"showland\": true, \"subunitcolor\": \"white\"}, \"hoverlabel\": {\"align\": \"left\"}, \"hovermode\": \"closest\", \"mapbox\": {\"style\": \"light\"}, \"paper_bgcolor\": \"white\", \"plot_bgcolor\": \"#E5ECF6\", \"polar\": {\"angularaxis\": {\"gridcolor\": \"white\", \"linecolor\": \"white\", \"ticks\": \"\"}, \"bgcolor\": \"#E5ECF6\", \"radialaxis\": {\"gridcolor\": \"white\", \"linecolor\": \"white\", \"ticks\": \"\"}}, \"scene\": {\"xaxis\": {\"backgroundcolor\": \"#E5ECF6\", \"gridcolor\": \"white\", \"gridwidth\": 2, \"linecolor\": \"white\", \"showbackground\": true, \"ticks\": \"\", \"zerolinecolor\": \"white\"}, \"yaxis\": {\"backgroundcolor\": \"#E5ECF6\", \"gridcolor\": \"white\", \"gridwidth\": 2, \"linecolor\": \"white\", \"showbackground\": true, \"ticks\": \"\", \"zerolinecolor\": \"white\"}, \"zaxis\": {\"backgroundcolor\": \"#E5ECF6\", \"gridcolor\": \"white\", \"gridwidth\": 2, \"linecolor\": \"white\", \"showbackground\": true, \"ticks\": \"\", \"zerolinecolor\": \"white\"}}, \"shapedefaults\": {\"line\": {\"color\": \"#2a3f5f\"}}, \"ternary\": {\"aaxis\": {\"gridcolor\": \"white\", \"linecolor\": \"white\", \"ticks\": \"\"}, \"baxis\": {\"gridcolor\": \"white\", \"linecolor\": \"white\", \"ticks\": \"\"}, \"bgcolor\": \"#E5ECF6\", \"caxis\": {\"gridcolor\": \"white\", \"linecolor\": \"white\", \"ticks\": \"\"}}, \"title\": {\"x\": 0.05}, \"xaxis\": {\"automargin\": true, \"gridcolor\": \"white\", \"linecolor\": \"white\", \"ticks\": \"\", \"title\": {\"standoff\": 15}, \"zerolinecolor\": \"white\", \"zerolinewidth\": 2}, \"yaxis\": {\"automargin\": true, \"gridcolor\": \"white\", \"linecolor\": \"white\", \"ticks\": \"\", \"title\": {\"standoff\": 15}, \"zerolinecolor\": \"white\", \"zerolinewidth\": 2}}}, \"title\": {\"text\": \"Temperature\", \"x\": 0.5, \"xanchor\": \"center\", \"y\": 0.9, \"yanchor\": \"top\"}, \"width\": 750, \"xaxis\": {\"exponentformat\": \"power\", \"gridcolor\": \"grey\", \"gridwidth\": 0.5, \"linecolor\": \"black\", \"linewidth\": 2, \"mirror\": true, \"showexponent\": \"all\", \"showgrid\": true, \"showline\": true, \"title\": {\"text\": \"$K$\"}}, \"yaxis\": {\"dtick\": 20, \"gridcolor\": \"grey\", \"gridwidth\": 0.5, \"linecolor\": \"black\", \"linewidth\": 2, \"mirror\": true, \"showgrid\": true, \"showline\": true, \"tick0\": 60, \"title\": {\"text\": \"Altitude (km)\"}}},\n",
       "                        {\"responsive\": true}\n",
       "                    ).then(function(){\n",
       "                            \n",
       "var gd = document.getElementById('7c7ceab1-13b8-4732-b446-ea3a53383a2f');\n",
       "var x = new MutationObserver(function (mutations, observer) {{\n",
       "        var display = window.getComputedStyle(gd).display;\n",
       "        if (!display || display === 'none') {{\n",
       "            console.log([gd, 'removed!']);\n",
       "            Plotly.purge(gd);\n",
       "            observer.disconnect();\n",
       "        }}\n",
       "}});\n",
       "\n",
       "// Listen for the removal of the full notebook cells\n",
       "var notebookContainer = gd.closest('#notebook-container');\n",
       "if (notebookContainer) {{\n",
       "    x.observe(notebookContainer, {childList: true});\n",
       "}}\n",
       "\n",
       "// Listen for the clearing of the current output cell\n",
       "var outputEl = gd.closest('.output');\n",
       "if (outputEl) {{\n",
       "    x.observe(outputEl, {childList: true});\n",
       "}}\n",
       "\n",
       "                        })\n",
       "                };\n",
       "                });\n",
       "            </script>\n",
       "        </div>"
      ]
     },
     "metadata": {},
     "output_type": "display_data"
    },
    {
     "name": "stdout",
     "output_type": "stream",
     "text": [
      "Plotting cross sections...\n"
     ]
    },
    {
     "data": {
      "application/vnd.plotly.v1+json": {
       "config": {
        "plotlyServerURL": "https://plot.ly"
       },
       "data": [
        {
         "marker": {
          "color": "blue"
         },
         "mode": "lines",
         "name": "Cross Section",
         "type": "scatter",
         "x": [
          1.094074442792844e-21,
          1.116730776489829e-21,
          1.1262158490117296e-21,
          1.117981115962071e-21,
          1.0891153699291714e-21,
          1.0404050096319752e-21,
          9.766431966238958e-22,
          9.057207844339171e-22,
          8.371488824517129e-22,
          7.791342199895789e-22,
          7.346810258638839e-22,
          7.027695658816077e-22,
          6.806583348894839e-22,
          6.650373277589248e-22,
          6.531145505515683e-22,
          6.431131444148211e-22,
          6.34150941661815e-22,
          6.260023563230267e-22,
          6.188076963889022e-22,
          6.128401747633891e-22,
          6.083692736312763e-22,
          6.05450035343223e-22,
          6.046362539447271e-22,
          6.051585805642819e-22,
          6.073504792752924e-22,
          6.109167969567656e-22,
          6.156770167418265e-22,
          6.214545725884962e-22,
          6.280787868567878e-22,
          6.353729565220022e-22,
          6.431564823374744e-22,
          6.512451043378982e-22,
          6.594537032848371e-22,
          6.675991441198431e-22,
          6.755046653435035e-22,
          6.830051362462791e-22,
          6.899519597529538e-22,
          6.962168384085655e-22,
          7.01693652891635e-22,
          7.0629834523291335e-22,
          7.099675860627269e-22,
          7.126556910267144e-22,
          7.143313343795472e-22,
          7.149739949409183e-22,
          7.145702321133819e-22,
          7.131112939877499e-22,
          7.105908782143289e-22,
          7.070043011631264e-22,
          7.023482289671956e-22,
          6.96621326044013e-22,
          6.898248919345083e-22,
          6.819627455761468e-22,
          6.73039509258894e-22,
          6.630559601786407e-22,
          6.520012322477977e-22,
          6.398047987844344e-22
         ],
         "y": [
          96.36432,
          97.69113,
          98.96521,
          100.21858,
          101.49149,
          102.83465,
          104.31025,
          105.99205,
          107.9605,
          110.28514,
          112.99677,
          116.0809,
          119.49435,
          123.18561,
          127.1144,
          131.26863,
          135.66771,
          140.35171,
          145.36669,
          150.75399,
          156.54488,
          162.75891,
          169.4047,
          176.48172,
          183.98288,
          191.89784,
          200.21538,
          208.92486,
          218.01702,
          227.48388,
          237.31828,
          247.51354,
          258.0632,
          268.96082,
          280.19986,
          291.77326,
          303.6734,
          315.89174,
          328.419,
          341.2452,
          354.35996,
          367.75308,
          381.41508,
          395.33784,
          409.5154,
          423.9448,
          438.62676,
          453.56656,
          468.7752,
          484.27028,
          500.07764,
          516.23308,
          532.7848,
          549.7966,
          567.35232,
          585.562
         ]
        }
       ],
       "layout": {
        "height": 750,
        "template": {
         "data": {
          "bar": [
           {
            "error_x": {
             "color": "#2a3f5f"
            },
            "error_y": {
             "color": "#2a3f5f"
            },
            "marker": {
             "line": {
              "color": "#E5ECF6",
              "width": 0.5
             }
            },
            "type": "bar"
           }
          ],
          "barpolar": [
           {
            "marker": {
             "line": {
              "color": "#E5ECF6",
              "width": 0.5
             }
            },
            "type": "barpolar"
           }
          ],
          "carpet": [
           {
            "aaxis": {
             "endlinecolor": "#2a3f5f",
             "gridcolor": "white",
             "linecolor": "white",
             "minorgridcolor": "white",
             "startlinecolor": "#2a3f5f"
            },
            "baxis": {
             "endlinecolor": "#2a3f5f",
             "gridcolor": "white",
             "linecolor": "white",
             "minorgridcolor": "white",
             "startlinecolor": "#2a3f5f"
            },
            "type": "carpet"
           }
          ],
          "choropleth": [
           {
            "colorbar": {
             "outlinewidth": 0,
             "ticks": ""
            },
            "type": "choropleth"
           }
          ],
          "contour": [
           {
            "colorbar": {
             "outlinewidth": 0,
             "ticks": ""
            },
            "colorscale": [
             [
              0,
              "#0d0887"
             ],
             [
              0.1111111111111111,
              "#46039f"
             ],
             [
              0.2222222222222222,
              "#7201a8"
             ],
             [
              0.3333333333333333,
              "#9c179e"
             ],
             [
              0.4444444444444444,
              "#bd3786"
             ],
             [
              0.5555555555555556,
              "#d8576b"
             ],
             [
              0.6666666666666666,
              "#ed7953"
             ],
             [
              0.7777777777777778,
              "#fb9f3a"
             ],
             [
              0.8888888888888888,
              "#fdca26"
             ],
             [
              1,
              "#f0f921"
             ]
            ],
            "type": "contour"
           }
          ],
          "contourcarpet": [
           {
            "colorbar": {
             "outlinewidth": 0,
             "ticks": ""
            },
            "type": "contourcarpet"
           }
          ],
          "heatmap": [
           {
            "colorbar": {
             "outlinewidth": 0,
             "ticks": ""
            },
            "colorscale": [
             [
              0,
              "#0d0887"
             ],
             [
              0.1111111111111111,
              "#46039f"
             ],
             [
              0.2222222222222222,
              "#7201a8"
             ],
             [
              0.3333333333333333,
              "#9c179e"
             ],
             [
              0.4444444444444444,
              "#bd3786"
             ],
             [
              0.5555555555555556,
              "#d8576b"
             ],
             [
              0.6666666666666666,
              "#ed7953"
             ],
             [
              0.7777777777777778,
              "#fb9f3a"
             ],
             [
              0.8888888888888888,
              "#fdca26"
             ],
             [
              1,
              "#f0f921"
             ]
            ],
            "type": "heatmap"
           }
          ],
          "heatmapgl": [
           {
            "colorbar": {
             "outlinewidth": 0,
             "ticks": ""
            },
            "colorscale": [
             [
              0,
              "#0d0887"
             ],
             [
              0.1111111111111111,
              "#46039f"
             ],
             [
              0.2222222222222222,
              "#7201a8"
             ],
             [
              0.3333333333333333,
              "#9c179e"
             ],
             [
              0.4444444444444444,
              "#bd3786"
             ],
             [
              0.5555555555555556,
              "#d8576b"
             ],
             [
              0.6666666666666666,
              "#ed7953"
             ],
             [
              0.7777777777777778,
              "#fb9f3a"
             ],
             [
              0.8888888888888888,
              "#fdca26"
             ],
             [
              1,
              "#f0f921"
             ]
            ],
            "type": "heatmapgl"
           }
          ],
          "histogram": [
           {
            "marker": {
             "colorbar": {
              "outlinewidth": 0,
              "ticks": ""
             }
            },
            "type": "histogram"
           }
          ],
          "histogram2d": [
           {
            "colorbar": {
             "outlinewidth": 0,
             "ticks": ""
            },
            "colorscale": [
             [
              0,
              "#0d0887"
             ],
             [
              0.1111111111111111,
              "#46039f"
             ],
             [
              0.2222222222222222,
              "#7201a8"
             ],
             [
              0.3333333333333333,
              "#9c179e"
             ],
             [
              0.4444444444444444,
              "#bd3786"
             ],
             [
              0.5555555555555556,
              "#d8576b"
             ],
             [
              0.6666666666666666,
              "#ed7953"
             ],
             [
              0.7777777777777778,
              "#fb9f3a"
             ],
             [
              0.8888888888888888,
              "#fdca26"
             ],
             [
              1,
              "#f0f921"
             ]
            ],
            "type": "histogram2d"
           }
          ],
          "histogram2dcontour": [
           {
            "colorbar": {
             "outlinewidth": 0,
             "ticks": ""
            },
            "colorscale": [
             [
              0,
              "#0d0887"
             ],
             [
              0.1111111111111111,
              "#46039f"
             ],
             [
              0.2222222222222222,
              "#7201a8"
             ],
             [
              0.3333333333333333,
              "#9c179e"
             ],
             [
              0.4444444444444444,
              "#bd3786"
             ],
             [
              0.5555555555555556,
              "#d8576b"
             ],
             [
              0.6666666666666666,
              "#ed7953"
             ],
             [
              0.7777777777777778,
              "#fb9f3a"
             ],
             [
              0.8888888888888888,
              "#fdca26"
             ],
             [
              1,
              "#f0f921"
             ]
            ],
            "type": "histogram2dcontour"
           }
          ],
          "mesh3d": [
           {
            "colorbar": {
             "outlinewidth": 0,
             "ticks": ""
            },
            "type": "mesh3d"
           }
          ],
          "parcoords": [
           {
            "line": {
             "colorbar": {
              "outlinewidth": 0,
              "ticks": ""
             }
            },
            "type": "parcoords"
           }
          ],
          "pie": [
           {
            "automargin": true,
            "type": "pie"
           }
          ],
          "scatter": [
           {
            "marker": {
             "colorbar": {
              "outlinewidth": 0,
              "ticks": ""
             }
            },
            "type": "scatter"
           }
          ],
          "scatter3d": [
           {
            "line": {
             "colorbar": {
              "outlinewidth": 0,
              "ticks": ""
             }
            },
            "marker": {
             "colorbar": {
              "outlinewidth": 0,
              "ticks": ""
             }
            },
            "type": "scatter3d"
           }
          ],
          "scattercarpet": [
           {
            "marker": {
             "colorbar": {
              "outlinewidth": 0,
              "ticks": ""
             }
            },
            "type": "scattercarpet"
           }
          ],
          "scattergeo": [
           {
            "marker": {
             "colorbar": {
              "outlinewidth": 0,
              "ticks": ""
             }
            },
            "type": "scattergeo"
           }
          ],
          "scattergl": [
           {
            "marker": {
             "colorbar": {
              "outlinewidth": 0,
              "ticks": ""
             }
            },
            "type": "scattergl"
           }
          ],
          "scattermapbox": [
           {
            "marker": {
             "colorbar": {
              "outlinewidth": 0,
              "ticks": ""
             }
            },
            "type": "scattermapbox"
           }
          ],
          "scatterpolar": [
           {
            "marker": {
             "colorbar": {
              "outlinewidth": 0,
              "ticks": ""
             }
            },
            "type": "scatterpolar"
           }
          ],
          "scatterpolargl": [
           {
            "marker": {
             "colorbar": {
              "outlinewidth": 0,
              "ticks": ""
             }
            },
            "type": "scatterpolargl"
           }
          ],
          "scatterternary": [
           {
            "marker": {
             "colorbar": {
              "outlinewidth": 0,
              "ticks": ""
             }
            },
            "type": "scatterternary"
           }
          ],
          "surface": [
           {
            "colorbar": {
             "outlinewidth": 0,
             "ticks": ""
            },
            "colorscale": [
             [
              0,
              "#0d0887"
             ],
             [
              0.1111111111111111,
              "#46039f"
             ],
             [
              0.2222222222222222,
              "#7201a8"
             ],
             [
              0.3333333333333333,
              "#9c179e"
             ],
             [
              0.4444444444444444,
              "#bd3786"
             ],
             [
              0.5555555555555556,
              "#d8576b"
             ],
             [
              0.6666666666666666,
              "#ed7953"
             ],
             [
              0.7777777777777778,
              "#fb9f3a"
             ],
             [
              0.8888888888888888,
              "#fdca26"
             ],
             [
              1,
              "#f0f921"
             ]
            ],
            "type": "surface"
           }
          ],
          "table": [
           {
            "cells": {
             "fill": {
              "color": "#EBF0F8"
             },
             "line": {
              "color": "white"
             }
            },
            "header": {
             "fill": {
              "color": "#C8D4E3"
             },
             "line": {
              "color": "white"
             }
            },
            "type": "table"
           }
          ]
         },
         "layout": {
          "annotationdefaults": {
           "arrowcolor": "#2a3f5f",
           "arrowhead": 0,
           "arrowwidth": 1
          },
          "coloraxis": {
           "colorbar": {
            "outlinewidth": 0,
            "ticks": ""
           }
          },
          "colorscale": {
           "diverging": [
            [
             0,
             "#8e0152"
            ],
            [
             0.1,
             "#c51b7d"
            ],
            [
             0.2,
             "#de77ae"
            ],
            [
             0.3,
             "#f1b6da"
            ],
            [
             0.4,
             "#fde0ef"
            ],
            [
             0.5,
             "#f7f7f7"
            ],
            [
             0.6,
             "#e6f5d0"
            ],
            [
             0.7,
             "#b8e186"
            ],
            [
             0.8,
             "#7fbc41"
            ],
            [
             0.9,
             "#4d9221"
            ],
            [
             1,
             "#276419"
            ]
           ],
           "sequential": [
            [
             0,
             "#0d0887"
            ],
            [
             0.1111111111111111,
             "#46039f"
            ],
            [
             0.2222222222222222,
             "#7201a8"
            ],
            [
             0.3333333333333333,
             "#9c179e"
            ],
            [
             0.4444444444444444,
             "#bd3786"
            ],
            [
             0.5555555555555556,
             "#d8576b"
            ],
            [
             0.6666666666666666,
             "#ed7953"
            ],
            [
             0.7777777777777778,
             "#fb9f3a"
            ],
            [
             0.8888888888888888,
             "#fdca26"
            ],
            [
             1,
             "#f0f921"
            ]
           ],
           "sequentialminus": [
            [
             0,
             "#0d0887"
            ],
            [
             0.1111111111111111,
             "#46039f"
            ],
            [
             0.2222222222222222,
             "#7201a8"
            ],
            [
             0.3333333333333333,
             "#9c179e"
            ],
            [
             0.4444444444444444,
             "#bd3786"
            ],
            [
             0.5555555555555556,
             "#d8576b"
            ],
            [
             0.6666666666666666,
             "#ed7953"
            ],
            [
             0.7777777777777778,
             "#fb9f3a"
            ],
            [
             0.8888888888888888,
             "#fdca26"
            ],
            [
             1,
             "#f0f921"
            ]
           ]
          },
          "colorway": [
           "#636efa",
           "#EF553B",
           "#00cc96",
           "#ab63fa",
           "#FFA15A",
           "#19d3f3",
           "#FF6692",
           "#B6E880",
           "#FF97FF",
           "#FECB52"
          ],
          "font": {
           "color": "#2a3f5f"
          },
          "geo": {
           "bgcolor": "white",
           "lakecolor": "white",
           "landcolor": "#E5ECF6",
           "showlakes": true,
           "showland": true,
           "subunitcolor": "white"
          },
          "hoverlabel": {
           "align": "left"
          },
          "hovermode": "closest",
          "mapbox": {
           "style": "light"
          },
          "paper_bgcolor": "white",
          "plot_bgcolor": "#E5ECF6",
          "polar": {
           "angularaxis": {
            "gridcolor": "white",
            "linecolor": "white",
            "ticks": ""
           },
           "bgcolor": "#E5ECF6",
           "radialaxis": {
            "gridcolor": "white",
            "linecolor": "white",
            "ticks": ""
           }
          },
          "scene": {
           "xaxis": {
            "backgroundcolor": "#E5ECF6",
            "gridcolor": "white",
            "gridwidth": 2,
            "linecolor": "white",
            "showbackground": true,
            "ticks": "",
            "zerolinecolor": "white"
           },
           "yaxis": {
            "backgroundcolor": "#E5ECF6",
            "gridcolor": "white",
            "gridwidth": 2,
            "linecolor": "white",
            "showbackground": true,
            "ticks": "",
            "zerolinecolor": "white"
           },
           "zaxis": {
            "backgroundcolor": "#E5ECF6",
            "gridcolor": "white",
            "gridwidth": 2,
            "linecolor": "white",
            "showbackground": true,
            "ticks": "",
            "zerolinecolor": "white"
           }
          },
          "shapedefaults": {
           "line": {
            "color": "#2a3f5f"
           }
          },
          "ternary": {
           "aaxis": {
            "gridcolor": "white",
            "linecolor": "white",
            "ticks": ""
           },
           "baxis": {
            "gridcolor": "white",
            "linecolor": "white",
            "ticks": ""
           },
           "bgcolor": "#E5ECF6",
           "caxis": {
            "gridcolor": "white",
            "linecolor": "white",
            "ticks": ""
           }
          },
          "title": {
           "x": 0.05
          },
          "xaxis": {
           "automargin": true,
           "gridcolor": "white",
           "linecolor": "white",
           "ticks": "",
           "title": {
            "standoff": 15
           },
           "zerolinecolor": "white",
           "zerolinewidth": 2
          },
          "yaxis": {
           "automargin": true,
           "gridcolor": "white",
           "linecolor": "white",
           "ticks": "",
           "title": {
            "standoff": 15
           },
           "zerolinecolor": "white",
           "zerolinewidth": 2
          }
         }
        },
        "title": {
         "text": "Cross Section ",
         "x": 0.5,
         "xanchor": "center",
         "y": 0.9,
         "yanchor": "top"
        },
        "width": 750,
        "xaxis": {
         "exponentformat": "power",
         "gridcolor": "grey",
         "gridwidth": 0.5,
         "linecolor": "black",
         "linewidth": 2,
         "mirror": true,
         "showexponent": "all",
         "showgrid": true,
         "showline": true,
         "title": {
          "text": "$m^{2}$"
         }
        },
        "yaxis": {
         "dtick": 20,
         "gridcolor": "grey",
         "gridwidth": 0.5,
         "linecolor": "black",
         "linewidth": 2,
         "mirror": true,
         "showgrid": true,
         "showline": true,
         "tick0": 60,
         "title": {
          "text": "Altitude (km)"
         }
        }
       }
      },
      "text/html": [
       "<div>\n",
       "        \n",
       "        \n",
       "            <div id=\"f340a1ef-0a07-4ac4-aaf4-e16c04bb3c5e\" class=\"plotly-graph-div\" style=\"height:750px; width:750px;\"></div>\n",
       "            <script type=\"text/javascript\">\n",
       "                require([\"plotly\"], function(Plotly) {\n",
       "                    window.PLOTLYENV=window.PLOTLYENV || {};\n",
       "                    \n",
       "                if (document.getElementById(\"f340a1ef-0a07-4ac4-aaf4-e16c04bb3c5e\")) {\n",
       "                    Plotly.newPlot(\n",
       "                        'f340a1ef-0a07-4ac4-aaf4-e16c04bb3c5e',\n",
       "                        [{\"marker\": {\"color\": \"blue\"}, \"mode\": \"lines\", \"name\": \"Cross Section\", \"type\": \"scatter\", \"x\": [1.094074442792844e-21, 1.116730776489829e-21, 1.1262158490117296e-21, 1.117981115962071e-21, 1.0891153699291714e-21, 1.0404050096319752e-21, 9.766431966238958e-22, 9.057207844339171e-22, 8.371488824517129e-22, 7.791342199895789e-22, 7.346810258638839e-22, 7.027695658816077e-22, 6.806583348894839e-22, 6.650373277589248e-22, 6.531145505515683e-22, 6.431131444148211e-22, 6.34150941661815e-22, 6.260023563230267e-22, 6.188076963889022e-22, 6.128401747633891e-22, 6.083692736312763e-22, 6.05450035343223e-22, 6.046362539447271e-22, 6.051585805642819e-22, 6.073504792752924e-22, 6.109167969567656e-22, 6.156770167418265e-22, 6.214545725884962e-22, 6.280787868567878e-22, 6.353729565220022e-22, 6.431564823374744e-22, 6.512451043378982e-22, 6.594537032848371e-22, 6.675991441198431e-22, 6.755046653435035e-22, 6.830051362462791e-22, 6.899519597529538e-22, 6.962168384085655e-22, 7.01693652891635e-22, 7.0629834523291335e-22, 7.099675860627269e-22, 7.126556910267144e-22, 7.143313343795472e-22, 7.149739949409183e-22, 7.145702321133819e-22, 7.131112939877499e-22, 7.105908782143289e-22, 7.070043011631264e-22, 7.023482289671956e-22, 6.96621326044013e-22, 6.898248919345083e-22, 6.819627455761468e-22, 6.73039509258894e-22, 6.630559601786407e-22, 6.520012322477977e-22, 6.398047987844344e-22], \"y\": [96.36432, 97.69113, 98.96521, 100.21858, 101.49149, 102.83465, 104.31025, 105.99205, 107.9605, 110.28514, 112.99677, 116.0809, 119.49435, 123.18561, 127.1144, 131.26863, 135.66771, 140.35171, 145.36669, 150.75399, 156.54488, 162.75891, 169.4047, 176.48172, 183.98288, 191.89784, 200.21538, 208.92486, 218.01702, 227.48388, 237.31828, 247.51354, 258.0632, 268.96082, 280.19986, 291.77326, 303.6734, 315.89174, 328.419, 341.2452, 354.35996, 367.75308, 381.41508, 395.33784, 409.5154, 423.9448, 438.62676, 453.56656, 468.7752, 484.27028, 500.07764, 516.23308, 532.7848, 549.7966, 567.35232, 585.562]}],\n",
       "                        {\"height\": 750, \"template\": {\"data\": {\"bar\": [{\"error_x\": {\"color\": \"#2a3f5f\"}, \"error_y\": {\"color\": \"#2a3f5f\"}, \"marker\": {\"line\": {\"color\": \"#E5ECF6\", \"width\": 0.5}}, \"type\": \"bar\"}], \"barpolar\": [{\"marker\": {\"line\": {\"color\": \"#E5ECF6\", \"width\": 0.5}}, \"type\": \"barpolar\"}], \"carpet\": [{\"aaxis\": {\"endlinecolor\": \"#2a3f5f\", \"gridcolor\": \"white\", \"linecolor\": \"white\", \"minorgridcolor\": \"white\", \"startlinecolor\": \"#2a3f5f\"}, \"baxis\": {\"endlinecolor\": \"#2a3f5f\", \"gridcolor\": \"white\", \"linecolor\": \"white\", \"minorgridcolor\": \"white\", \"startlinecolor\": \"#2a3f5f\"}, \"type\": \"carpet\"}], \"choropleth\": [{\"colorbar\": {\"outlinewidth\": 0, \"ticks\": \"\"}, \"type\": \"choropleth\"}], \"contour\": [{\"colorbar\": {\"outlinewidth\": 0, \"ticks\": \"\"}, \"colorscale\": [[0.0, \"#0d0887\"], [0.1111111111111111, \"#46039f\"], [0.2222222222222222, \"#7201a8\"], [0.3333333333333333, \"#9c179e\"], [0.4444444444444444, \"#bd3786\"], [0.5555555555555556, \"#d8576b\"], [0.6666666666666666, \"#ed7953\"], [0.7777777777777778, \"#fb9f3a\"], [0.8888888888888888, \"#fdca26\"], [1.0, \"#f0f921\"]], \"type\": \"contour\"}], \"contourcarpet\": [{\"colorbar\": {\"outlinewidth\": 0, \"ticks\": \"\"}, \"type\": \"contourcarpet\"}], \"heatmap\": [{\"colorbar\": {\"outlinewidth\": 0, \"ticks\": \"\"}, \"colorscale\": [[0.0, \"#0d0887\"], [0.1111111111111111, \"#46039f\"], [0.2222222222222222, \"#7201a8\"], [0.3333333333333333, \"#9c179e\"], [0.4444444444444444, \"#bd3786\"], [0.5555555555555556, \"#d8576b\"], [0.6666666666666666, \"#ed7953\"], [0.7777777777777778, \"#fb9f3a\"], [0.8888888888888888, \"#fdca26\"], [1.0, \"#f0f921\"]], \"type\": \"heatmap\"}], \"heatmapgl\": [{\"colorbar\": {\"outlinewidth\": 0, \"ticks\": \"\"}, \"colorscale\": [[0.0, \"#0d0887\"], [0.1111111111111111, \"#46039f\"], [0.2222222222222222, \"#7201a8\"], [0.3333333333333333, \"#9c179e\"], [0.4444444444444444, \"#bd3786\"], [0.5555555555555556, \"#d8576b\"], [0.6666666666666666, \"#ed7953\"], [0.7777777777777778, \"#fb9f3a\"], [0.8888888888888888, \"#fdca26\"], [1.0, \"#f0f921\"]], \"type\": \"heatmapgl\"}], \"histogram\": [{\"marker\": {\"colorbar\": {\"outlinewidth\": 0, \"ticks\": \"\"}}, \"type\": \"histogram\"}], \"histogram2d\": [{\"colorbar\": {\"outlinewidth\": 0, \"ticks\": \"\"}, \"colorscale\": [[0.0, \"#0d0887\"], [0.1111111111111111, \"#46039f\"], [0.2222222222222222, \"#7201a8\"], [0.3333333333333333, \"#9c179e\"], [0.4444444444444444, \"#bd3786\"], [0.5555555555555556, \"#d8576b\"], [0.6666666666666666, \"#ed7953\"], [0.7777777777777778, \"#fb9f3a\"], [0.8888888888888888, \"#fdca26\"], [1.0, \"#f0f921\"]], \"type\": \"histogram2d\"}], \"histogram2dcontour\": [{\"colorbar\": {\"outlinewidth\": 0, \"ticks\": \"\"}, \"colorscale\": [[0.0, \"#0d0887\"], [0.1111111111111111, \"#46039f\"], [0.2222222222222222, \"#7201a8\"], [0.3333333333333333, \"#9c179e\"], [0.4444444444444444, \"#bd3786\"], [0.5555555555555556, \"#d8576b\"], [0.6666666666666666, \"#ed7953\"], [0.7777777777777778, \"#fb9f3a\"], [0.8888888888888888, \"#fdca26\"], [1.0, \"#f0f921\"]], \"type\": \"histogram2dcontour\"}], \"mesh3d\": [{\"colorbar\": {\"outlinewidth\": 0, \"ticks\": \"\"}, \"type\": \"mesh3d\"}], \"parcoords\": [{\"line\": {\"colorbar\": {\"outlinewidth\": 0, \"ticks\": \"\"}}, \"type\": \"parcoords\"}], \"pie\": [{\"automargin\": true, \"type\": \"pie\"}], \"scatter\": [{\"marker\": {\"colorbar\": {\"outlinewidth\": 0, \"ticks\": \"\"}}, \"type\": \"scatter\"}], \"scatter3d\": [{\"line\": {\"colorbar\": {\"outlinewidth\": 0, \"ticks\": \"\"}}, \"marker\": {\"colorbar\": {\"outlinewidth\": 0, \"ticks\": \"\"}}, \"type\": \"scatter3d\"}], \"scattercarpet\": [{\"marker\": {\"colorbar\": {\"outlinewidth\": 0, \"ticks\": \"\"}}, \"type\": \"scattercarpet\"}], \"scattergeo\": [{\"marker\": {\"colorbar\": {\"outlinewidth\": 0, \"ticks\": \"\"}}, \"type\": \"scattergeo\"}], \"scattergl\": [{\"marker\": {\"colorbar\": {\"outlinewidth\": 0, \"ticks\": \"\"}}, \"type\": \"scattergl\"}], \"scattermapbox\": [{\"marker\": {\"colorbar\": {\"outlinewidth\": 0, \"ticks\": \"\"}}, \"type\": \"scattermapbox\"}], \"scatterpolar\": [{\"marker\": {\"colorbar\": {\"outlinewidth\": 0, \"ticks\": \"\"}}, \"type\": \"scatterpolar\"}], \"scatterpolargl\": [{\"marker\": {\"colorbar\": {\"outlinewidth\": 0, \"ticks\": \"\"}}, \"type\": \"scatterpolargl\"}], \"scatterternary\": [{\"marker\": {\"colorbar\": {\"outlinewidth\": 0, \"ticks\": \"\"}}, \"type\": \"scatterternary\"}], \"surface\": [{\"colorbar\": {\"outlinewidth\": 0, \"ticks\": \"\"}, \"colorscale\": [[0.0, \"#0d0887\"], [0.1111111111111111, \"#46039f\"], [0.2222222222222222, \"#7201a8\"], [0.3333333333333333, \"#9c179e\"], [0.4444444444444444, \"#bd3786\"], [0.5555555555555556, \"#d8576b\"], [0.6666666666666666, \"#ed7953\"], [0.7777777777777778, \"#fb9f3a\"], [0.8888888888888888, \"#fdca26\"], [1.0, \"#f0f921\"]], \"type\": \"surface\"}], \"table\": [{\"cells\": {\"fill\": {\"color\": \"#EBF0F8\"}, \"line\": {\"color\": \"white\"}}, \"header\": {\"fill\": {\"color\": \"#C8D4E3\"}, \"line\": {\"color\": \"white\"}}, \"type\": \"table\"}]}, \"layout\": {\"annotationdefaults\": {\"arrowcolor\": \"#2a3f5f\", \"arrowhead\": 0, \"arrowwidth\": 1}, \"coloraxis\": {\"colorbar\": {\"outlinewidth\": 0, \"ticks\": \"\"}}, \"colorscale\": {\"diverging\": [[0, \"#8e0152\"], [0.1, \"#c51b7d\"], [0.2, \"#de77ae\"], [0.3, \"#f1b6da\"], [0.4, \"#fde0ef\"], [0.5, \"#f7f7f7\"], [0.6, \"#e6f5d0\"], [0.7, \"#b8e186\"], [0.8, \"#7fbc41\"], [0.9, \"#4d9221\"], [1, \"#276419\"]], \"sequential\": [[0.0, \"#0d0887\"], [0.1111111111111111, \"#46039f\"], [0.2222222222222222, \"#7201a8\"], [0.3333333333333333, \"#9c179e\"], [0.4444444444444444, \"#bd3786\"], [0.5555555555555556, \"#d8576b\"], [0.6666666666666666, \"#ed7953\"], [0.7777777777777778, \"#fb9f3a\"], [0.8888888888888888, \"#fdca26\"], [1.0, \"#f0f921\"]], \"sequentialminus\": [[0.0, \"#0d0887\"], [0.1111111111111111, \"#46039f\"], [0.2222222222222222, \"#7201a8\"], [0.3333333333333333, \"#9c179e\"], [0.4444444444444444, \"#bd3786\"], [0.5555555555555556, \"#d8576b\"], [0.6666666666666666, \"#ed7953\"], [0.7777777777777778, \"#fb9f3a\"], [0.8888888888888888, \"#fdca26\"], [1.0, \"#f0f921\"]]}, \"colorway\": [\"#636efa\", \"#EF553B\", \"#00cc96\", \"#ab63fa\", \"#FFA15A\", \"#19d3f3\", \"#FF6692\", \"#B6E880\", \"#FF97FF\", \"#FECB52\"], \"font\": {\"color\": \"#2a3f5f\"}, \"geo\": {\"bgcolor\": \"white\", \"lakecolor\": \"white\", \"landcolor\": \"#E5ECF6\", \"showlakes\": true, \"showland\": true, \"subunitcolor\": \"white\"}, \"hoverlabel\": {\"align\": \"left\"}, \"hovermode\": \"closest\", \"mapbox\": {\"style\": \"light\"}, \"paper_bgcolor\": \"white\", \"plot_bgcolor\": \"#E5ECF6\", \"polar\": {\"angularaxis\": {\"gridcolor\": \"white\", \"linecolor\": \"white\", \"ticks\": \"\"}, \"bgcolor\": \"#E5ECF6\", \"radialaxis\": {\"gridcolor\": \"white\", \"linecolor\": \"white\", \"ticks\": \"\"}}, \"scene\": {\"xaxis\": {\"backgroundcolor\": \"#E5ECF6\", \"gridcolor\": \"white\", \"gridwidth\": 2, \"linecolor\": \"white\", \"showbackground\": true, \"ticks\": \"\", \"zerolinecolor\": \"white\"}, \"yaxis\": {\"backgroundcolor\": \"#E5ECF6\", \"gridcolor\": \"white\", \"gridwidth\": 2, \"linecolor\": \"white\", \"showbackground\": true, \"ticks\": \"\", \"zerolinecolor\": \"white\"}, \"zaxis\": {\"backgroundcolor\": \"#E5ECF6\", \"gridcolor\": \"white\", \"gridwidth\": 2, \"linecolor\": \"white\", \"showbackground\": true, \"ticks\": \"\", \"zerolinecolor\": \"white\"}}, \"shapedefaults\": {\"line\": {\"color\": \"#2a3f5f\"}}, \"ternary\": {\"aaxis\": {\"gridcolor\": \"white\", \"linecolor\": \"white\", \"ticks\": \"\"}, \"baxis\": {\"gridcolor\": \"white\", \"linecolor\": \"white\", \"ticks\": \"\"}, \"bgcolor\": \"#E5ECF6\", \"caxis\": {\"gridcolor\": \"white\", \"linecolor\": \"white\", \"ticks\": \"\"}}, \"title\": {\"x\": 0.05}, \"xaxis\": {\"automargin\": true, \"gridcolor\": \"white\", \"linecolor\": \"white\", \"ticks\": \"\", \"title\": {\"standoff\": 15}, \"zerolinecolor\": \"white\", \"zerolinewidth\": 2}, \"yaxis\": {\"automargin\": true, \"gridcolor\": \"white\", \"linecolor\": \"white\", \"ticks\": \"\", \"title\": {\"standoff\": 15}, \"zerolinecolor\": \"white\", \"zerolinewidth\": 2}}}, \"title\": {\"text\": \"Cross Section \", \"x\": 0.5, \"xanchor\": \"center\", \"y\": 0.9, \"yanchor\": \"top\"}, \"width\": 750, \"xaxis\": {\"exponentformat\": \"power\", \"gridcolor\": \"grey\", \"gridwidth\": 0.5, \"linecolor\": \"black\", \"linewidth\": 2, \"mirror\": true, \"showexponent\": \"all\", \"showgrid\": true, \"showline\": true, \"title\": {\"text\": \"$m^{2}$\"}}, \"yaxis\": {\"dtick\": 20, \"gridcolor\": \"grey\", \"gridwidth\": 0.5, \"linecolor\": \"black\", \"linewidth\": 2, \"mirror\": true, \"showgrid\": true, \"showline\": true, \"tick0\": 60, \"title\": {\"text\": \"Altitude (km)\"}}},\n",
       "                        {\"responsive\": true}\n",
       "                    ).then(function(){\n",
       "                            \n",
       "var gd = document.getElementById('f340a1ef-0a07-4ac4-aaf4-e16c04bb3c5e');\n",
       "var x = new MutationObserver(function (mutations, observer) {{\n",
       "        var display = window.getComputedStyle(gd).display;\n",
       "        if (!display || display === 'none') {{\n",
       "            console.log([gd, 'removed!']);\n",
       "            Plotly.purge(gd);\n",
       "            observer.disconnect();\n",
       "        }}\n",
       "}});\n",
       "\n",
       "// Listen for the removal of the full notebook cells\n",
       "var notebookContainer = gd.closest('#notebook-container');\n",
       "if (notebookContainer) {{\n",
       "    x.observe(notebookContainer, {childList: true});\n",
       "}}\n",
       "\n",
       "// Listen for the clearing of the current output cell\n",
       "var outputEl = gd.closest('.output');\n",
       "if (outputEl) {{\n",
       "    x.observe(outputEl, {childList: true});\n",
       "}}\n",
       "\n",
       "                        })\n",
       "                };\n",
       "                });\n",
       "            </script>\n",
       "        </div>"
      ]
     },
     "metadata": {},
     "output_type": "display_data"
    }
   ],
   "source": [
    "#import required packages\n",
    "import sys\n",
    "sys.path.insert(1, \"../SourceCode\")\n",
    "import DaedalusGlobals as DaedalusGlobals\n",
    "from netCDF4 import Dataset\n",
    "import numpy as np\n",
    "import datetime\n",
    "import pyglow\n",
    "from ipywidgets import*\n",
    "import ipywidgets as widgets\n",
    "import warnings\n",
    "import glob\n",
    "import matplotlib.pyplot as plt\n",
    "import plotly.graph_objects as go\n",
    "from mpl_toolkits.basemap import Basemap, shiftgrid, addcyclic\n",
    "import matplotlib.mlab as mlab\n",
    "from mpl_toolkits.axes_grid1 import make_axes_locatable\n",
    "from scipy.interpolate import griddata\n",
    "from pylab import *\n",
    "from matplotlib.patches import Polygon\n",
    "import time\n",
    "import pandas as pd\n",
    "import image\n",
    "\n",
    "\n",
    "#Allocations\n",
    "Ohmic1=[]\n",
    "zg1=[]\n",
    "Joule1=[]\n",
    "Frictional1=[]\n",
    "nO1=[]\n",
    "nO21=[]\n",
    "nN21=[]\n",
    "Ne1=[]\n",
    "NOp1=[]\n",
    "NO2p1=[]\n",
    "sigmaHall1=[]\n",
    "sigmaPed1=[]\n",
    "sigma01=[]\n",
    "omega_e1=[]\n",
    "omega_Op1=[]\n",
    "vOp1=[]\n",
    "ven1=[]\n",
    "omega_O2p1=[]\n",
    "vO2p1=[]\n",
    "vin1=[]\n",
    "vi_x1=[]\n",
    "vi_y1=[]\n",
    "vi_z1=[]\n",
    "unvx1=[]\n",
    "unvy1=[]\n",
    "unvz1=[]\n",
    "ExBx1=[]\n",
    "ExBy1=[]\n",
    "ExBz1=[]\n",
    "ve_x1=[]\n",
    "ve_y1=[]\n",
    "ve_z1=[]\n",
    "E_e=[]\n",
    "E_n=[]\n",
    "E_u=[]\n",
    "J_pe=[]\n",
    "J_pn=[]\n",
    "J_pu=[]\n",
    "J_he=[]\n",
    "J_hn=[]\n",
    "J_hu=[]\n",
    "T_e=[]\n",
    "T_i=[]\n",
    "T_n=[]\n",
    "cross_sectionf=[]\n",
    "Nef=np.zeros((72, 144),order='F')\n",
    "NOf=np.zeros((72, 144),order='F')\n",
    "NO2f=np.zeros((72, 144),order='F')\n",
    "NN2f=np.zeros((72, 144),order='F')\n",
    "Evert=np.zeros((72, 144),order='F')\n",
    "Evertx=np.zeros((72, 144),order='F')\n",
    "Everty=np.zeros((72, 144),order='F')\n",
    "Evertz=np.zeros((72, 144),order='F')\n",
    "NOpf=np.zeros((72, 144),order='F')\n",
    "Omega_ef=np.zeros((72, 144),order='F')\n",
    "Omega_Opf=np.zeros((72, 144),order='F')\n",
    "vOpf=np.zeros((72, 144),order='F')\n",
    "venf=np.zeros((72, 144),order='F')\n",
    "sigmaPedf=np.zeros((72, 144),order='F')\n",
    "sigmaHallf=np.zeros((72, 144),order='F')\n",
    "TIEGCM_PEDf=np.zeros((72, 144),order='F')\n",
    "TIEGCM_HALLf=np.zeros((72, 144),order='F')\n",
    "Potf=np.zeros((72, 144),order='F')\n",
    "vi_starxf=np.zeros((72, 144),order='F')\n",
    "vi_staryf=np.zeros((72, 144),order='F')\n",
    "vi_starzf=np.zeros((72, 144),order='F')\n",
    "Bxf=np.zeros((72, 144),order='F')\n",
    "Byf=np.zeros((72, 144),order='F')\n",
    "Bzf=np.zeros((72, 144),order='F')\n",
    "zgf=np.zeros((72, 144),order='F')\n",
    "Ohmic=np.zeros((72, 144),order='F')\n",
    "Joule=np.zeros((72, 144),order='F')\n",
    "Frictional=np.zeros((72, 144),order='F')\n",
    "Ohmic_TIEGCM=np.zeros((72, 144),order='F')\n",
    "unvertxf=np.zeros((72, 144),order='F')\n",
    "unvertyf=np.zeros((72, 144),order='F')\n",
    "unvertzf=np.zeros((72, 144),order='F')\n",
    "ExB_x=np.zeros((72, 144),order='F')\n",
    "ExB_y=np.zeros((72, 144),order='F')\n",
    "ExB_z=np.zeros((72, 144),order='F')\n",
    "ExBx_calc=np.zeros((72, 144),order='F')\n",
    "ExBy_calc=np.zeros((72, 144),order='F')\n",
    "ExBz_calc=np.zeros((72, 144),order='F')\n",
    "NO2pf=np.zeros((72, 144),order='F')\n",
    "Omega_O2pf=np.zeros((72, 144),order='F')\n",
    "vO2pf=np.zeros((72, 144),order='F')\n",
    "vinf=np.zeros((72, 144),order='F')\n",
    "JH_rho=np.zeros((72, 144),order='F')\n",
    "sigma_par=np.zeros((72, 144),order='F')\n",
    "J_densx=np.zeros((72, 144),order='F')\n",
    "J_densy=np.zeros((72, 144),order='F')\n",
    "J_densz=np.zeros((72, 144),order='F')\n",
    "J_Ohmx=np.zeros((72, 144),order='F')\n",
    "J_Ohmy=np.zeros((72, 144),order='F')\n",
    "J_Ohmz=np.zeros((72, 144),order='F')\n",
    "vee=np.zeros((72, 144),order='F')\n",
    "ven=np.zeros((72, 144),order='F')\n",
    "veu=np.zeros((72, 144),order='F')\n",
    "maplat=np.zeros((72),order='F')\n",
    "maplon=np.zeros((144),order='F')\n",
    "maptime=np.zeros((24),order='F')\n",
    "J_Pede=np.zeros((72, 144),order='F')\n",
    "J_Pedn=np.zeros((72, 144),order='F')\n",
    "J_Pedu=np.zeros((72, 144),order='F')\n",
    "J_Halle=np.zeros((72, 144),order='F')\n",
    "J_Halln=np.zeros((72, 144),order='F')\n",
    "J_Hallu=np.zeros((72, 144),order='F')\n",
    "J_Ohme=np.zeros((72, 144),order='F')\n",
    "J_Ohmn=np.zeros((72, 144),order='F')\n",
    "J_Ohmu=np.zeros((72, 144),order='F')\n",
    "vi_mag=np.zeros((72, 144),order='F')\n",
    "J_mag=np.zeros((72, 144),order='F')\n",
    "Unef=np.zeros((72, 144),order='F')\n",
    "Unnf=np.zeros((72, 144),order='F')\n",
    "Unuf=np.zeros((72, 144),order='F')\n",
    "JxBe=np.zeros((72, 144),order='F')\n",
    "JxBn=np.zeros((72, 144),order='F')\n",
    "JxBu=np.zeros((72, 144),order='F')\n",
    "Ti_Out=np.zeros((72, 144),order='F')\n",
    "Te_Out=np.zeros((72, 144),order='F')\n",
    "Tn_Out=np.zeros((72, 144),order='F')\n",
    "cross_section=np.zeros((72, 144),order='F')\n",
    "Convenction_heating_Out=np.zeros((72, 144),order='F')\n",
    "Wind_heating_Out=np.zeros((72, 144),order='F')\n",
    "Ohmic_heating_OhmsLaw_Out=np.zeros((72, 144),order='F')\n",
    "Mechanical_power_Out=np.zeros((72, 144),order='F')\n",
    "Energy_Out=np.zeros((72, 144),order='F')\n",
    "\n",
    "#Transformation from ENU to ECEF\n",
    "def enu_ecef(lat_phi, lon_lmd, Fe, Fn, Fup):\n",
    "    fac = np.pi / 180\n",
    "    lat_phi = lat_phi * fac\n",
    "    lon_lmd = lon_lmd * fac\n",
    "\n",
    "    north_temp_unit = [-np.cos(lon_lmd) * np.sin(lat_phi), - np.sin(lon_lmd) * np.sin(lat_phi), np.cos(lat_phi)]\n",
    "    east_temp_unit = [-np.sin(lon_lmd), np.cos(lon_lmd), 0]\n",
    "    up_temp_unit = [np.cos(lon_lmd) * np.cos(lat_phi), np.sin(lon_lmd) * np.cos(lat_phi), np.sin(lat_phi)]\n",
    "\n",
    "    Fnorth_vector = [Fn * north_temp_unit[0], Fn * north_temp_unit[1], Fn * north_temp_unit[2]]\n",
    "    Feast_vector = [Fe * east_temp_unit[0], Fe * east_temp_unit[1], Fe * east_temp_unit[2]]\n",
    "    Fup_vector = [Fup * up_temp_unit[0], Fup * up_temp_unit[1], Fup * up_temp_unit[2]]\n",
    "\n",
    "    Fx = Fnorth_vector[0] + Feast_vector[0] + Fup_vector[0]\n",
    "    Fy = Fnorth_vector[1] + Feast_vector[1] + Fup_vector[1]\n",
    "    Fz = Fnorth_vector[2] + Feast_vector[2] + Fup_vector[2]\n",
    "\n",
    "    return Fx, Fy, Fz\n",
    "\n",
    "#Transformation from ECEF to ENU\n",
    "def ecef_enu(lat_phi, lon_lmd, Fx, Fy, Fz):\n",
    "    fac = np.pi / 180\n",
    "    lat_phi = lat_phi * fac\n",
    "    lon_lmd = lon_lmd * fac\n",
    "    \n",
    "    x_temp_unit=[-np.sin(lon_lmd), -np.cos(lon_lmd)*np.sin(lat_phi),np.cos(lon_lmd)*np.cos(lat_phi)]\n",
    "    y_temp_unit=[np.cos(lon_lmd),-np.sin(lon_lmd)*np.sin(lat_phi),np.sin(lon_lmd)*np.cos(lat_phi)]\n",
    "    z_temp_unit=[0, np.cos(lat_phi),np.sin(lat_phi)]\n",
    "\n",
    "    Fx_vector = [Fx * x_temp_unit[0], Fx * x_temp_unit[1], Fx * x_temp_unit[2]]\n",
    "    Fy_vector = [Fy * y_temp_unit[0], Fy * y_temp_unit[1], Fy * y_temp_unit[2]]\n",
    "    Fz_vector = [Fz * z_temp_unit[0], Fz * z_temp_unit[1], Fz * z_temp_unit[2]]\n",
    "\n",
    "    Fe = Fx_vector[0] + Fy_vector[0] + Fz_vector[0]\n",
    "    Fn = Fx_vector[1] + Fy_vector[1] + Fz_vector[1]\n",
    "    Fu = Fx_vector[2] + Fy_vector[2] + Fz_vector[2]\n",
    "\n",
    "    return Fe, Fn, Fu\n",
    "\n",
    " # calculate geocentric latitude from geodetic latitude (WGS84)\n",
    "def geo_lat2geod_lat(phi):\n",
    "    a = 6378137  # meter semi major axis of earth\n",
    "    f = 1 / 298.257  # flattening\n",
    "    b = a - f * a  # semi minor axis\n",
    "    e = ((a ** 2 - b ** 2) ** (1 / 2)) / a\n",
    "    phi_rad = np.deg2rad(phi)\n",
    "    geod_lat = np.arctan(np.tan(phi_rad) / (1 - e ** 2))\n",
    "    geod_lat = np.rad2deg(geod_lat)\n",
    "    return geod_lat  # in degrees\n",
    "\n",
    "#Geographic to Geodetic transformation\n",
    "def geo2geod(lat_geo_phi, lon_geo_lmd, alt_geo):\n",
    "    lat_geod_phi = geo_lat2geod_lat(lat_geo_phi)  # degrees\n",
    "    lon_geod_lmd = lon_geo_lmd  # degrees\n",
    "    alt_geod = alt_geo  # km\n",
    "    return lat_geod_phi, lon_geod_lmd, alt_geod\n",
    "\n",
    "#Calculation of products for map plotting\n",
    "def run_map(tiegcm_file,timer_value,pressure_level):\n",
    "    # Initializations\n",
    "    start_time = time.time()\n",
    "    time_igrf = datetime.datetime(2015, 3, 15, 0, 0, 0)  # first time step of the TIEGCM run\n",
    "    timer = 0  # counter used for incrementing TIEGCM timestep\n",
    "    deltalmd = 2.5  # TIEGCM grid resolution in deg\n",
    "    deltaphi = 2.5  # TIEGCM grid resolution in deg\n",
    "    Re = 6378.1370  # Earths Radius (km)\n",
    "    electron = 1.602176565 * 10 ** (- 19) #electron charge in C\n",
    "    boltzmann=1.380645852 * 10 ** (-16) #Boltzmann constant in cm^2*g*s^(-2)*K^(-1)\n",
    "    me=9.10938356 * 10 ** (- 31) #electron mass in kg\n",
    "    mO=16 # Oxygen atomic mass in g/mol\n",
    "    mN2=28  #N2 molecular mass in g/mol\n",
    "    mO2=32 #O2 molecular mass in g/mol\n",
    "    mNO=30 #NO molecular mass in g/mol\n",
    "    NA=6.02214086 * 10 ** 23 #Avogadro's constant in mol^-1\n",
    "    fcor=1.5 #Burnside facor (default=1.5)\n",
    "    \n",
    "    #Input file\n",
    "    TIEGCM = Dataset(tiegcm_file)\n",
    "\n",
    "    # Get data from TIEGCM Model file\n",
    "    glat = TIEGCM.variables['lat'][:] #geographic latitude in deg\n",
    "    glon = TIEGCM.variables['lon'][:] #geographic longitude in deg\n",
    "    glev = TIEGCM.variables['ilev'][:] #interface levels\n",
    "    gtime = TIEGCM.variables['time'][:] #time in minutes since 2015 March 15 00:00:00\n",
    "    zg = TIEGCM.variables['ZG'][:] #Geometric height in cm\n",
    "    Ne_all = TIEGCM.variables['NE'][:]  # electron density in cm^-3\n",
    "    PED_all = TIEGCM.variables['PEDERSEN'][:] #Pedersen conductivity in Si/m\n",
    "    HALL_all= TIEGCM.variables['HALL'][:] #Hall conductivity in Si/m\n",
    "    Un_east = TIEGCM.variables['UN'][:]  # neutral zonal wind (+East) in cm/s\n",
    "    Un_north = TIEGCM.variables['VN'][:]  # neutral meridional wind (+North) in cm/s\n",
    "    Un_up = TIEGCM.variables['WN'][:]  # neutral vertical wind (+Up) in cm/s\n",
    "    Ui_east = TIEGCM.variables['UI_ExB'][:]  # zonal ExB velocity in cm/s\n",
    "    Ui_north = TIEGCM.variables['VI_ExB'][:]  # meridional ExB velocity in cm/s\n",
    "    Ui_up = TIEGCM.variables['WI_ExB'][:]  # vertical ExB velocity in cm/s\n",
    "    Poten_all=TIEGCM.variables['POTEN'][:] #electric potential in V\n",
    "    barm_all=TIEGCM.variables['BARM'][:] #Mean molecular weight in g/mol\n",
    "    P0=TIEGCM.variables['p0'][:] #Reference pressure in millibar\n",
    "    Zh=TIEGCM.variables['Z'][:] #dimensionless variable (for pressure calculations)\n",
    "    Tn_all=TIEGCM.variables['TN'][:] #Neutral Temperature in K\n",
    "    Te_all=TIEGCM.variables['TE'][:] #Electron Temperature in K\n",
    "    Ti_all=TIEGCM.variables['TI'][:] #Ion Temperature in K\n",
    "    nO_all=TIEGCM.variables['O1'][:] #neutral atomic oxygen density in mmr\n",
    "    nO2_all=TIEGCM.variables['O2'][:] #neutral molecular oxygen density in mmr\n",
    "    NOp_all=TIEGCM.variables['OP'][:] #O+ density in cm^-3\n",
    "    den_all=TIEGCM.variables['DEN'][:] #Density\n",
    "    TIEGCM.close() #close input file\n",
    "\n",
    "\n",
    "    for timer in range(timer_value,timer_value+1):\n",
    "        time_plot=gtime[timer]\n",
    "        maptime[timer]=time_plot\n",
    "        \n",
    "        for lev in range(pressure_level, pressure_level+1):\n",
    "        \n",
    "            for lat in range(0, len(glat)):\n",
    "\n",
    "                for lon in range(0, len(glon)):\n",
    "                    \n",
    "                    # GEO coordinates of desired point\n",
    "                    alt_p = zg[timer, lev, lat, lon] / 1e5 #cm to km\n",
    "                    zgf[lat, lon]=alt_p #output \n",
    "                    lat_p = glat[lat]   #deg\n",
    "                    lon_p = glon[lon]   #deg\n",
    "                    maplat[lat]=glat[lat] #output \n",
    "                    maplon[lon]=glon[lon] #output \n",
    "                    timeg=gtime[timer] #minutes\n",
    "                   \n",
    "\n",
    "                    #Pressure levels\n",
    "                    Z=glev[lev]\n",
    "\n",
    "                    #Temperatures\n",
    "                    Tn=Tn_all[timer, lev, lat, lon]     #Kelvin\n",
    "                    Te=Te_all[timer, lev, lat, lon]     #Kelvin\n",
    "                    Ti=Ti_all[timer, lev, lat, lon]     #Kelvin\n",
    "                    \n",
    "                    Ti_Out[lat,lon]=Ti\n",
    "                    Te_Out[lat,lon]=Te\n",
    "                    Tn_Out[lat,lon]=Tn\n",
    "                    \n",
    "\n",
    "                    #mean molecular mass g/mol\n",
    "                    barm=barm_all[timer, lev, lat, lon]\n",
    "\n",
    "                    #time\n",
    "                    time_p = time_igrf + datetime.timedelta(minutes=timeg)\n",
    "                    \n",
    "                    #neutral Densities (mmr)\n",
    "                    nO=nO_all[timer, lev, lat, lon]  #mmr\n",
    "                    nO2=nO2_all[timer, lev, lat, lon]  #mmr\n",
    "                    nN2=1-nO-nO2 #calculate N2 density from O and O2 in mmr\n",
    "\n",
    "                    # electron density\n",
    "                    Ne = Ne_all[timer, lev, lat, lon] * (10 ** 6)  # m^-3\n",
    "                    Nef[lat, lon]=Ne #output m^-3\n",
    "                    Necm=Ne_all[timer, lev, lat, lon] #Output file (cm^-3)\n",
    "\n",
    "                    #ion Densities\n",
    "                    NOp=NOp_all[timer, lev, lat, lon]  #cm^-3\n",
    "                    NOpf[lat, lon]=NOp #output \n",
    "                    \n",
    "                    ###Necm=NOp+NO2p+NNOp if O2+ density is available in the input file\n",
    "                    \n",
    "                    NO2p=Necm-NOp #assuming only ion population of O+ and O2+ (and not NO+)\n",
    "                    NO2pf[lat, lon]=NO2p #output \n",
    "\n",
    "                    #neutral wind \n",
    "                    Une=Un_east[timer, lev, lat, lon]\n",
    "                    Unn=Un_north[timer, lev, lat, lon]\n",
    "                    Unu=Un_up[timer, lev, lat, lon]\n",
    "\n",
    "                    Un_x = Une / 100  # m/s\n",
    "                    Un_y = Unn / 100  # m/s\n",
    "                    Un_z = Unu / 100  # m/s\n",
    "                    Un = [Un_x, Un_y, Un_z] # neutral wind in ENU in m/s\n",
    "                    \n",
    "                    Unef[lat,lon]=Un_x #output (ENU)\n",
    "                    Unnf[lat,lon]=Un_y #output (ENU)  \n",
    "                    Unuf[lat,lon]=Un_z #output (ENU)  \n",
    "                    \n",
    "\n",
    "                    # ExB velocity from ENU to ECEF\n",
    "                    Uie=Ui_east[timer, lev, lat, lon]\n",
    "                    Uin=Ui_north[timer, lev, lat, lon]\n",
    "                    Uiu=Ui_up[timer, lev, lat, lon]\n",
    "\n",
    "                    Ui_x = Uie / 100  # m/sec\n",
    "                    Ui_y = Uin / 100  # m/sec\n",
    "                    Ui_z = Uiu / 100  # m/sec\n",
    "                    Ui = [Ui_x, Ui_y, Ui_z]  # ExB in ENU in m/s\n",
    "                    \n",
    "                    # Magnetic Field from ENU to ECEF\n",
    "                    pt = pyglow.Point(time_p, lat_p, lon_p, alt_p) # pyglow igrf\n",
    "                    pt.run_igrf()\n",
    "                    Be = pt.Bx\n",
    "                    Bn = pt.By\n",
    "                    Bu = pt.Bz\n",
    "                    B = [Be, Bn, Bu]  # vector of magnetic field ENU in Telsa\n",
    "                    Bxf[lat, lon]=Be #output (ENU)\n",
    "                    Byf[lat, lon]=Bn #output (ENU)\n",
    "                    Bzf[lat, lon]=Bu #output (ENU)\n",
    "\n",
    "                    # Magnetic field unit vector\n",
    "                    bnorm = np.sqrt(Be * Be + Bn * Bn + Bu * Bu) #ENU\n",
    "                    b_unit = [Be / bnorm, Bn / bnorm, Bu / bnorm] #ENU\n",
    "\n",
    "                    #neutral wind perpendicular to the magnetic field\n",
    "                    Unvert=np.cross(Un,b_unit)\n",
    "                    Unvertx=Unvert[0]\n",
    "                    Unverty=Unvert[1]\n",
    "                    Unvertz=Unvert[2]\n",
    "                    Unvertmag=np.sqrt(Unvert[0] * Unvert[0] + Unvert[1] * Unvert[1] + Unvert[2] * Unvert[2])\n",
    "                    \n",
    "                    unvertxf[lat, lon]=Unvertx #output\n",
    "                    unvertyf[lat, lon]=Unverty #output\n",
    "                    unvertzf[lat, lon]=Unvertz #output\n",
    "\n",
    "                    #Electric Field perpendicular to the magnetic field\n",
    "                    Evert=-np.cross(Ui,B)  #V/m\n",
    "                    Ee=Evert[0]\n",
    "                    En=Evert[1]\n",
    "                    Eu=Evert[2]\n",
    "                    \n",
    "                    ########################\n",
    "                    enorm=np.sqrt(En*En+Eu*Eu+Ee*Ee)\n",
    "                    e_unit=[Ee / enorm, En / enorm, Eu / enorm]\n",
    "                    \n",
    "                    Evertx[lat, lon]=Ee #ENU\n",
    "                    Everty[lat, lon]=En #ENU\n",
    "                    Evertz[lat, lon]=Eu #ENU\n",
    "                    \n",
    "                    #Perpendicular electric field in neutral atmosphere reference frame\n",
    "                    Estar=Evert+np.cross(Unvert,B)  #V/m\n",
    "\n",
    "                    #Calculate ExB velocities \n",
    "                    ExBcalc=np.cross(Evert,b_unit)/(bnorm)\n",
    "                    ExBx_calc[lat, lon]=ExBcalc[0]\n",
    "                    ExBy_calc[lat, lon]=ExBcalc[1]\n",
    "                    ExBz_calc[lat, lon]=ExBcalc[2]\n",
    "\n",
    "                    #Conversion factor (mmr->cm^(-3))\n",
    "                    Nbarm=(P0*np.exp(-Z)*barm*1000)/(boltzmann*Tn)\n",
    "\n",
    "                    #conversion from mmr to cm^-3\n",
    "                    NO=(Nbarm*nO)/mO #cm^-3\n",
    "                    NO2=(Nbarm*nO2)/mO2 #cm^-3\n",
    "                    NN2=(Nbarm*nN2)/mN2 #cm^-3\n",
    "                    NOf[lat, lon]=NO* (10 ** 6) #output m^-3\n",
    "                    NO2f[lat, lon]=NO2* (10 ** 6) #output m^-3\n",
    "                    NN2f[lat, lon]=NN2* (10 ** 6) #output m^-3\n",
    "\n",
    "                    #gyrofrequencies (Hz)\n",
    "                    Omega_e=(electron*bnorm)/me #electron gyrofrequency\n",
    "                    Omega_ef[lat, lon]=Omega_e #output\n",
    "                    MO=mO/(NA*1000)  # Atomic oxygen mass in kg\n",
    "                    MO2=(2*mO)/(NA*1000) # Molecular oxygen mass in kg\n",
    "                    # MNO=(mNO)/(NA*1000) #Nitric oxide mass in kg\n",
    "                    Omega_Op=(electron*bnorm)/MO #O+ gyrofrequency\n",
    "                    Omega_O2p=(electron*bnorm)/MO2 #O2+ gyrofrequency\n",
    "                    ###Omega_NOp=(electron*bnorm)/MNO #NO+ gyrofrequency\n",
    "                    Omega_Opf[lat, lon]=Omega_Op #output\n",
    "                    Omega_O2pf[lat, lon]=Omega_O2p #output\n",
    "\n",
    "                    #collision frequencies (Hz)\n",
    "                    temps=(Ti+Tn)/2\n",
    "\n",
    "                    vOp_O2=6.64 * (10**(-10))*NO2 #O+-O2 collision frequency\n",
    "                    vOp_N2=6.82 * (10**(-10))*NN2 #O+-N2 collision frequency\n",
    "                    vOp_O=3.67 * (10**(-11))*NO * np.sqrt(temps)*((1-0.064*np.log10(temps))**2)*fcor #O+-O collision frequency\n",
    "                    vOp=vOp_O2+vOp_N2+vOp_O #O+-neutral collision frequency\n",
    "                    \n",
    "                    \n",
    "                    ven=(2.33 * (10**(-11))*NN2*Te*(1-(1.21*(10**(-4)*Te))) \\\n",
    "                        + 1.82 * (10**(-10))*NO2*np.sqrt(Te)*(1+(3.6*(10**(-2)*np.sqrt(Te)))) \\\n",
    "                        +8.9 * (10**(-11))*NO*np.sqrt(Te)*(1+(5.7*(10**(-4)*Te)))) #electron-neutral collision frequency\n",
    "\n",
    "                    vO2p_O2=2.59 * (10**(-11))*NO2 * np.sqrt(temps)*((1-0.073*np.log10(temps))**2) #O2+-O2 collision frequency\n",
    "                    vO2p_O=2.31*(10**(-10))*NO #O2+-O collision frequency\n",
    "                    vO2p_N2=4.13*(10**(-10))*NN2 #O2+-N2 collision frequency\n",
    "                    vO2p=vO2p_O2+vO2p_O+vO2p_N2 #O2+-neutral collision frequency\n",
    "\n",
    "                    # vNOp_O2=4.27 * (10**(-10))*NO2 #NO+-O2 collision frequency\n",
    "                    # vNOp_O=2.44 * (10**(-11))*NO  #NO+-O collision frequency\n",
    "                    # vNOp_N2=4.34*(10**(-10))*NN2  #NO+-N2 collision frequency\n",
    "                    # vNOp=vNOp_O2+vNOp_O+vNOp_N2  #NO+-neutral collision frequency\n",
    "\n",
    "                    vin=vOp+vO2p #ion-neutral collision frequency\n",
    "                    vOpf[lat, lon]=vOp #Output file\n",
    "                    venf[lat, lon]=ven #Output file\n",
    "                    vO2pf[lat, lon]=vO2p #Output file\n",
    "                    vinf[lat, lon]=vin #Output file\n",
    "\n",
    "                    #frequency ratios\n",
    "                    rOp=vOp/Omega_Op #O+ ratio\n",
    "                    rO2p=vO2p/Omega_O2p #O2+ ratio\n",
    "                    ###rNOp=vNOp/Omega_NOp #NO+ ratio\n",
    "                    rel=ven/Omega_e #electron ratio\n",
    "\n",
    "                    ### full conductivity formulas (when NO+ and O2+ densitites are available)\n",
    "                    NOp_cubicmeter=NOp*(10**(6))\n",
    "                    NO2p_cubicmeter=NO2p*(10**(6))\n",
    "                    alpha=NOp_cubicmeter * (rOp/(1+rOp**2))\n",
    "                    beta=Ne * (rel/(1+rel**2))\n",
    "                    gamma=NO2p_cubicmeter * (rO2p/(1+rO2p**2))\n",
    "                    # delta=NNOp * (rNOp/(1+rNOp**2))\n",
    "                    sigmaPed=(electron/bnorm)*(alpha+beta+gamma)\n",
    "                    alpha2= NOp_cubicmeter * (1/(1+rOp**2))\n",
    "                    beta2=Ne * (1/(1+rel**2))\n",
    "                    gamma2=NO2p_cubicmeter * (1/(1+rO2p**2))\n",
    "                    # delta2=NNOp * (1/(1+rNOp**2))\n",
    "                    sigmaHall=(electron/bnorm)*(beta2-alpha2-gamma2)\n",
    "\n",
    "                    # reduced conductivity formulas (only O+) in S/m\n",
    "                    # NOp_cubicmeter=NOp*(10**(6)) #O+ density in m^-3\n",
    "                    # sigmaPed=(electron/bnorm)* \\\n",
    "                    #     ((NOp_cubicmeter * (1/(1+rOp**2))) +\\\n",
    "                    #     (Ne * (rel/(1+rel**2))))\n",
    "                    #\n",
    "                    # sigmaHall= (electron/bnorm)* \\\n",
    "                    #     (-(NOp_cubicmeter * (1/(1+rOp**2))) +\\\n",
    "                    #     (Ne * (1/(1+rel**2))))\n",
    "\n",
    "                    sigmaPedf[lat, lon]=sigmaPed*10**(5) #output 10^-5 Si/m\n",
    "                    sigmaHallf[lat, lon]=sigmaHall*10**(5) #output 10^-5 Si/m\n",
    "\n",
    "                    #Parallel conductivity\n",
    "                    sigma0=(Ne*electron*electron)/(me*ven)*10**(5) #output 10^-5 Si/m\n",
    "                    sigma_par[lat, lon]=sigma0\n",
    "\n",
    "                    #Ion Velocity in neutral reference frame (formula derived through ion momentum equation)\n",
    "                    vi_star=(vOp*Omega_Op*Estar+Omega_Op**2*(np.cross(Estar,b_unit)))/(bnorm*(vOp**2+Omega_Op**2))\n",
    "                    vi_starx=vi_star[0] #m/s\n",
    "                    vi_stary=vi_star[1] #m/s\n",
    "                    vi_starz=vi_star[2] #m/s\n",
    "                    vi_starmag=np.sqrt(vi_star[0] * vi_star[0] + vi_star[1] * vi_star[1] + vi_star[2] * vi_star[2])\n",
    "\n",
    "                    vie=vi_starx+Unvertx #from neutral frame to ENU\n",
    "                    vin=vi_stary+Unverty #from neutral frame to ENU\n",
    "                    viu=vi_starz+Unvertz #from neutral frame to ENU\n",
    "\n",
    "                                       \n",
    "                    vinorm=np.sqrt(vie*vie+vin*vin+viu*viu)\n",
    "                    e_unit=[vie / vinorm, vin / vinorm, viu / vinorm]\n",
    "                    \n",
    "                    vi_mag[lat, lon]=vinorm\n",
    "                    vi_starxf[lat, lon]=vie #output\n",
    "                    vi_staryf[lat, lon]=vin #output\n",
    "                    vi_starzf[lat, lon]=viu #output\n",
    "\n",
    "                    #Electron Velocity in neutral reference frame (formula derived through electron momentum equation)\n",
    "                    ve_star=(-ven*Omega_e*Estar+Omega_e**2*(np.cross(Estar,b_unit)))/(bnorm*(ven**2+Omega_e**2))\n",
    "                    ve_starx=ve_star[0] #m/s\n",
    "                    ve_stary=ve_star[1] #m/s\n",
    "                    ve_starz=ve_star[2] #m/s\n",
    "                    ve_starmag=np.sqrt(ve_star[0] * ve_star[0] + ve_star[1] * ve_star[1] + ve_star[2] * ve_star[2])\n",
    "\n",
    "                    ve_xtemp=ve_starx+Unvertx #from neutral frame to ENU\n",
    "                    ve_ytemp=ve_stary+Unverty #from neutral frame to ENU\n",
    "                    ve_ztemp=ve_starz+Unvertz #from neutral frame to ENU\n",
    "\n",
    "#                     vee[lat, lon]=ve_xtemp\n",
    "#                     ven[lat, lon]=ve_ytemp\n",
    "#                     veu[lat, lon]=ve_ztemp\n",
    "\n",
    "                    #Electric Potential (V)\n",
    "                    Pot=Poten_all[timer, lev, lat, lon]\n",
    "                    Potf[lat, lon]=Pot #output \n",
    "                    \n",
    "                    # heating rates (W/m^3)\n",
    "                    \n",
    "                    #Ohmic\n",
    "                    A=Evert+np.cross(Unvert,B)\n",
    "                    L=np.sqrt(A[0] * A[0] + A[1] * A[1] + A[2] * A[2])\n",
    "                    Ohmic2=sigmaPed*L*L\n",
    "                    UNxB=np.cross(Unvert,B)\n",
    "                    UNxBmag=np.sqrt(UNxB[0] * UNxB[0] + UNxB[1] * UNxB[1] + UNxB[2] * UNxB[2])\n",
    "                    ExB=np.cross(Evert,B)\n",
    "                    \n",
    "\n",
    "                    Ohmic[lat, lon]=Ohmic2*1000 #mW/m^3\n",
    "                    Joule[lat, lon]=electron*Ne*np.dot(vi_star,A)*1000 #mW/m^3\n",
    "                    Frictional[lat, lon]=MO*Ne*vOp*vi_starmag*vi_starmag*1000 #mW/m^3\n",
    "                    rho=den_all[timer, lev, lat, lon]*1000\n",
    "                    JH_rho[lat, lon]=(Ohmic2/rho)*1000 #mW/kg\n",
    "                    \n",
    "                    Convenction_heating=sigmaPed*np.dot(Evert,Evert)\n",
    "                    Convenction_heating_Out[lat, lon]=Convenction_heating*1000 #mW/m^3\n",
    "                    Wind_heating=sigmaPed*UNxBmag*UNxBmag-2*sigmaPed*np.dot(Un,ExB)\n",
    "                    Wind_heating_Out[lat, lon]=Wind_heating*1000 #mW/m^3\n",
    "                    Ohmic_heating_OhmsLaw=Convenction_heating+Wind_heating\n",
    "                    Ohmic_heating_OhmsLaw_Out[lat, lon]=Ohmic_heating_OhmsLaw*1000 #mW/m^3\n",
    "\n",
    "                    #perpendicular electric current density (A/m^2) (Ohm's LaW)\n",
    "                    J_p_Ohmic=sigmaPed*Estar+sigmaHall*np.cross(b_unit,Estar)\n",
    "                    J_p_Ohmicx=J_p_Ohmic[0]\n",
    "                    J_p_Ohmicy=J_p_Ohmic[1]\n",
    "                    J_p_Ohmicz=J_p_Ohmic[2]\n",
    "                    \n",
    "                    #Pedersen and Hall currents\n",
    "                    J_Pedersen=sigmaPed*Estar\n",
    "                    J_Hall=sigmaHall*np.cross(b_unit,Estar)\n",
    "                    \n",
    "                    Jpe=J_Pedersen[0]\n",
    "                    Jpn=J_Pedersen[1]\n",
    "                    Jpu=J_Pedersen[2]\n",
    "                    Jhe=J_Hall[0]\n",
    "                    Jhn=J_Hall[1]\n",
    "                    Jhu=J_Hall[2]\n",
    "\n",
    "                    \n",
    "                    #####################\n",
    "                    Jpnorm=np.sqrt(Jpn*Jpn+Jpu*Jpu+Jpe*Jpe)\n",
    "                    Jp_unit=[Jpe / Jpnorm, Jpn / Jpnorm, Jpu / Jpnorm]\n",
    "                    \n",
    "                    Jhnorm=np.sqrt(Jhn*Jhn+Jhu*Jhu+Jhe*Jhe)\n",
    "                    Jh_unit=[Jhe / Jhnorm, Jhn / Jhnorm, Jhu / Jhnorm]\n",
    "                    \n",
    "                    J_Pede[lat,lon]=Jpe #output \n",
    "                    J_Pedn[lat,lon]=Jpn #output  \n",
    "                    J_Pedu[lat,lon]=Jpu #output \n",
    "                    J_Halle[lat,lon]=Jhe #output \n",
    "                    J_Halln[lat,lon]=Jhn #output \n",
    "                    J_Hallu[lat,lon]=Jhu #output \n",
    "                    J_Ohme[lat, lon]=Jpe+Jhe #output \n",
    "                    J_Ohmn[lat, lon]=Jpn+Jhn #output \n",
    "                    J_Ohmu[lat, lon]=Jpu+Jhu #output \n",
    "                    \n",
    "                    J_mag[lat,lon]=np.sqrt((Jpe+Jhe)**2+(Jpn+Jhn)**2+(Jpu+Jhu)**2) #output \n",
    "\n",
    "                    #perpendicular electric current density (A/m^2) (densities)\n",
    "                    J_den=electron*Ne*(vi_star-ve_star)\n",
    "                    J_denx=J_den[0]\n",
    "                    J_deny=J_den[1]\n",
    "                    J_denz=J_den[2]\n",
    "\n",
    "                    #JxB forcing\n",
    "                    JxB=np.cross(J_p_Ohmic,B)\n",
    "                    JxBe[lat, lon]=JxB[0]\n",
    "                    JxBn[lat, lon]=JxB[1]\n",
    "                    JxBu[lat, lon]=JxB[2]\n",
    "                    \n",
    "                    Mechanical_power=np.dot(Un,JxB)\n",
    "                    Mechanical_power_Out[lat, lon]=Mechanical_power\n",
    "                    Energy=Ohmic_heating_OhmsLaw+Mechanical_power\n",
    "                    Energy_Out[lat, lon]=Energy\n",
    "                    \n",
    "                    #Cross sections\n",
    "                    N_neutral=(NO2+NN2+NO)*10**6\n",
    "                    MN2=(mN2)/(NA*1000)\n",
    "                    M_ion=MO+MO2+MN2\n",
    "                    \n",
    "                    cross=(vOp/N_neutral)/(np.sqrt((2*boltzmann*Ti)/M_ion))\n",
    "                    cross_section[lat,lon]=cross\n",
    "                    \n",
    "                    warnings.simplefilter('ignore')\n",
    "\n",
    "                    \n",
    "    print(\"Calculation executed!\")\n",
    "    print(\"Total run time: %s seconds\" % (time.time() - start_time))\n",
    "  \n",
    "    \n",
    "    \n",
    "    \n",
    "    \n",
    "    \n",
    "def run(tiegcm_file,lat_value,lon_value,timer_value):\n",
    "    # Initializations\n",
    "    start_time = time.time()\n",
    "    time_igrf = datetime.datetime(2015, 3, 15, 0, 0, 0)  # first time step of the TIEGCM run\n",
    "    timer = 0  # counter used for incrementing TIEGCM timestep\n",
    "    deltalmd = 2.5  # TIEGCM grid resolution in deg\n",
    "    deltaphi = 2.5  # TIEGCM grid resolution in deg\n",
    "    Re = 6378.1370  # Earths Radius (km)\n",
    "    electron = 1.602176565 * 10 ** (- 19) #electron charge in C\n",
    "    boltzmann=1.380645852 * 10 ** (-16) #Boltzmann constant in cm^2*g*s^(-2)*K^(-1)\n",
    "    me=9.10938356 * 10 ** (- 31) #electron mass in kg\n",
    "    mO=16 # Oxygen atomic mass in g/mol\n",
    "    mN2=28  #N2 molecular mass in g/mol\n",
    "    mO2=32 #O2 molecular mass in g/mol\n",
    "    mNO=30 #NO molecular mass in g/mol\n",
    "    NA=6.02214086 * 10 ** 23 #Avogadro's constant in mol^-1\n",
    "    fcor=1.5 #Burnside facor (default=1.5)\n",
    "    #TIEGCM = Dataset(DaedalusGlobals.TIEGCM_Files_Path +\"TIEGCM_EVT1_2015_StPatricksDay_HAO/tiegcm_dres.s_mar2015_amie_v1_31.nc\")\n",
    "    TIEGCM = Dataset(tiegcm_file)\n",
    "    # Get data from TIEGCM Model file\n",
    "    glat = TIEGCM.variables['lat'][:] #geographic latitude in deg\n",
    "    glon = TIEGCM.variables['lon'][:] #geographic longitude in deg\n",
    "    glev = TIEGCM.variables['ilev'][:] #interface levels\n",
    "    gtime = TIEGCM.variables['time'][:]\n",
    "    zg = TIEGCM.variables['ZG'][:] #Geometric height in cm\n",
    "    Ne_all = TIEGCM.variables['NE'][:]  # electron density in cm^-3\n",
    "    PED_all = TIEGCM.variables['PEDERSEN'][:] #Pedersen conductivity in Si/m\n",
    "    HALL_all= TIEGCM.variables['HALL'][:] #Hall conductivity in Si/m\n",
    "    Un_east = TIEGCM.variables['UN'][:]  # neutral zonal wind (+East) in cm/s\n",
    "    Un_north = TIEGCM.variables['VN'][:]  # neutral meridional wind (+North) in cm/s\n",
    "    Un_up = TIEGCM.variables['WN'][:]  # neutral vertical wind (+Up) in cm/s\n",
    "    Ui_east = TIEGCM.variables['UI_ExB'][:]  # zonal ExB velocity in cm/s\n",
    "    Ui_north = TIEGCM.variables['VI_ExB'][:]  # meridional ExB velocity in cm/s\n",
    "    Ui_up = TIEGCM.variables['WI_ExB'][:]  # vertical ExB velocity in cm/s\n",
    "    Poten_all=TIEGCM.variables['POTEN'][:] #electric potential in V\n",
    "    barm_all=TIEGCM.variables['BARM'][:] #Mean molecular weight in g/mol\n",
    "    P0=TIEGCM.variables['p0'][:] #Reference pressure in millibar\n",
    "    Zh=TIEGCM.variables['Z'][:] #dimensionless variable (for pressure calculations)\n",
    "    Tn_all=TIEGCM.variables['TN'][:] #Neutral Temperature in K\n",
    "    Te_all=TIEGCM.variables['TE'][:] #Electron Temperature in K\n",
    "    Ti_all=TIEGCM.variables['TI'][:] #Ion Temperature in K\n",
    "    nO_all=TIEGCM.variables['O1'][:] #neutral atomic oxygen density in mmr\n",
    "    nO2_all=TIEGCM.variables['O2'][:] #neutral molecular oxygen density in mmr\n",
    "    NOp_all=TIEGCM.variables['OP'][:] #O+ density in cm^-3\n",
    "    den_all=TIEGCM.variables['DEN'][:]\n",
    "    TIEGCM.close() #close input file\n",
    "    \n",
    "\n",
    "\n",
    "\n",
    "    #for timer in range(0, len(gtime)):\n",
    "    for timer in range(timer_value,timer_value+1):\n",
    "\n",
    "        for lev in range(0, len(glev)):\n",
    "        #for lev in range(53, 54):\n",
    "            \n",
    "            #for lat in range(0, len(glat)):\n",
    "            for lat in range(lat_value, lat_value+1):\n",
    "\n",
    "                #for lon in range(0, len(glon)):\n",
    "                for lon in range(lon_value, lon_value+1):\n",
    "                    \n",
    "                    # GEO coordinates of desired point\n",
    "                    alt_p = zg[timer, lev, lat, lon] / 1e5 #cm to km\n",
    "                    lat_p=glat[lat]\n",
    "                    lon_p = glon[lon]   #deg\n",
    "                    zg1.append(alt_p)\n",
    "                    timeg=gtime[timer]\n",
    "\n",
    "                    #Pressure levels\n",
    "                    Z=glev[lev]\n",
    "\n",
    "                    #Temperatures\n",
    "                    Tn=Tn_all[timer, lev, lat, lon]     #Kelvin\n",
    "                    Te=Te_all[timer, lev, lat, lon]     #Kelvin\n",
    "                    Ti=Ti_all[timer, lev, lat, lon]     #Kelvin\n",
    "                    \n",
    "                    T_e.append(Te)\n",
    "                    T_i.append(Ti)\n",
    "                    T_n.append(Tn)\n",
    "\n",
    "                    #mean molecular mass g/mol\n",
    "                    barm=barm_all[timer, lev, lat, lon]\n",
    "\n",
    "                    #time\n",
    "                    time_p = time_igrf + datetime.timedelta(minutes=timeg)\n",
    "\n",
    "                    #neutral Densities (mmr)\n",
    "                    nO=nO_all[timer, lev, lat, lon]  #mmr\n",
    "                    nO2=nO2_all[timer, lev, lat, lon]  #mmr\n",
    "                    nN2=1-nO-nO2 #calculate N2 density from O and O2 in mmr\n",
    "\n",
    "                    # electron density\n",
    "                    Ne = Ne_all[timer, lev, lat, lon] * (10 ** 6)  # m^-3\n",
    "                    Necm=Ne_all[timer, lev, lat, lon] \n",
    "                    Ne1.append(Ne*(10**(-6)))\n",
    "                    \n",
    "                    #ion Densities\n",
    "                    NOp=NOp_all[timer, lev, lat, lon]  #cm^-3\n",
    "                    NOp1.append(NOp)\n",
    "                    ###Necm=NOp+NO2p+NNOp if O2+ density is available in the input file\n",
    "                    NO2p=Necm-NOp #assuming only O2+ and not NO+\n",
    "                    NO2p1.append(NO2p)\n",
    "\n",
    "                    #neutral wind from ENU to ECEF\n",
    "                    Un_x, Un_y, Un_z = enu_ecef(lat_p, lon_p, Un_east[timer, lev, lat, lon], Un_north[timer, lev, lat, lon],\n",
    "                                                Un_up[timer, lev, lat, lon])  # cm/s on ECEF\n",
    "                    Un_x = Un_x / 100  # m/s\n",
    "                    Un_y = Un_y / 100  # m/s\n",
    "                    Un_z = Un_z / 100  # m/s\n",
    "                    Un = [Un_x, Un_y, Un_z] # neutral wind in ECEF in m/s\n",
    "\n",
    "                    # ExB velocity from ENU to ECEF\n",
    "                    Ui_x, Ui_y, Ui_z = enu_ecef(lat_p, lon_p, Ui_east[timer, lev, lat, lon], Ui_north[timer, lev, lat, lon],\n",
    "                                                Ui_up[timer, lev, lat, lon])  # cm/s on ECEF\n",
    "                    Ui_x = Ui_x / 100  # m/sec\n",
    "                    Ui_y = Ui_y / 100  # m/sec\n",
    "                    Ui_z = Ui_z / 100  # m/sec\n",
    "                    Ui = [Ui_x, Ui_y, Ui_z]  # ExB in ECEF in m/s\n",
    "                    \n",
    "                    # Magnetic Field from ENU to ECEF\n",
    "                    pt = pyglow.Point(time_p, lat_p, lon_p, alt_p)\n",
    "                    pt.run_igrf()\n",
    "                    Be = pt.Bx\n",
    "                    Bn = pt.By\n",
    "                    Bu = pt.Bz\n",
    "                    Bx, By, Bz = enu_ecef(lat_p, lon_p, Be, Bn, Bu)  # Tesla in ECEF\n",
    "                    B = [Bx, By, Bz]  # vector of magnetic field ECEF in Telsa\n",
    "               \n",
    "                    # Magnetic field unit vector\n",
    "                    bnorm = np.sqrt(Bx * Bx + By * By + Bz * Bz)\n",
    "                    b_unit = [Bx / bnorm, By / bnorm, Bz / bnorm]\n",
    "\n",
    "                    #neutral wind perpendicular to the magnetic field\n",
    "                    Unvert=np.cross(Un,b_unit)\n",
    "                    Unvertx=Unvert[0]\n",
    "                    Unverty=Unvert[1]\n",
    "                    Unvertz=Unvert[2]\n",
    "                    Unvertmag=np.sqrt(Unvert[0] * Unvert[0] + Unvert[1] * Unvert[1] + Unvert[2] * Unvert[2])\n",
    "                    unvx1.append(Unvertx)\n",
    "                    unvy1.append(Unverty)\n",
    "                    unvz1.append(Unvertz)\n",
    "\n",
    "                    #Electric Field perpendicular to the magnetic field\n",
    "                    Evert=-np.cross(Ui,B)  #V/m\n",
    "                    \n",
    "                    Ee,En,Eu = ecef_enu(lat_p, lon_p, Evert[0], Evert[1], Evert[2])\n",
    "                    E_e.append(Ee)\n",
    "                    E_n.append(En)\n",
    "                    E_u.append(Eu)\n",
    "                    \n",
    "                    \n",
    "                    \n",
    "                    #Perpendicular electric field in neutral atmosphere reference frame\n",
    "                    Estar=Evert+np.cross(Unvert,B)  #V/m\n",
    "\n",
    "                    #Calculate ExB velocities in ECEF\n",
    "                    ExBcalc=np.cross(Evert,b_unit)/(bnorm)\n",
    "                    ExBx1.append(ExBcalc[0])\n",
    "                    ExBy1.append(ExBcalc[1])\n",
    "                    ExBz1.append(ExBcalc[2])\n",
    "\n",
    "                    #Conversion factor (mmr->cm^(-3))\n",
    "                    Nbarm=(P0*np.exp(-Z)*barm*1000)/(boltzmann*Tn)\n",
    "\n",
    "                    #conversion from mmr to cm^-3\n",
    "                    NO=(Nbarm*nO)/mO #cm^-3\n",
    "                    nO1.append(NO)\n",
    "                    NO2=(Nbarm*nO2)/mO2 #cm^-3\n",
    "                    nO21.append(NO2)\n",
    "                    NN2=(Nbarm*nN2)/mN2 #cm^-3\n",
    "                    nN21.append(NN2)\n",
    "                   \n",
    "                    #gyrofrequencies (Hz)\n",
    "                    Omega_e=(electron*bnorm)/me #electron gyrofrequency\n",
    "                    omega_e1.append(Omega_e)\n",
    "                    #Omega_ef[timer, lev, lat, lon]=Omega_e #Output file\n",
    "                    MO=mO/(NA*1000)  # Atomic oxygen mass in kg\n",
    "                    MO2=(2*mO)/(NA*1000) # Molecular oxygen mass in kg\n",
    "                    # MNO=(mNO)/(NA*1000) #Nitric oxide mass in kg\n",
    "                    Omega_Op=(electron*bnorm)/MO #O+ gyrofrequency\n",
    "                    omega_Op1.append(Omega_Op)\n",
    "                    Omega_O2p=(electron*bnorm)/MO2 #O2+ gyrofrequency\n",
    "                    omega_O2p1.append(Omega_O2p)\n",
    "                    ###Omega_NOp=(electron*bnorm)/MNO #NO+ gyrofrequency\n",
    "                  \n",
    "                    #collision frequencies (Hz)\n",
    "                    temps=(Ti+Tn)/2\n",
    "\n",
    "                    vOp_O2=6.64 * (10**(-10))*NO2 #O+-O2 collision frequency\n",
    "                    vOp_N2=6.82 * (10**(-10))*NN2 #O+-N2 collision frequency\n",
    "                    vOp_O=3.67 * (10**(-11))*NO * np.sqrt(temps)*((1-0.064*np.log10(temps))**2)*fcor #O+-O collision frequency\n",
    "                    vOp=vOp_O2+vOp_N2+vOp_O #O+-neutral collision frequency\n",
    "                    vOp1.append(vOp)\n",
    "\n",
    "                    ven=(2.33 * (10**(-11))*NN2*Te*(1-(1.21*(10**(-4)*Te))) \\\n",
    "                        + 1.82 * (10**(-10))*NO2*np.sqrt(Te)*(1+(3.6*(10**(-2)*np.sqrt(Te)))) \\\n",
    "                        +8.9 * (10**(-11))*NO*np.sqrt(Te)*(1+(5.7*(10**(-4)*Te)))) #electron-neutral collision frequency\n",
    "                    ven1.append(ven)\n",
    "\n",
    "                    vO2p_O2=2.59 * (10**(-11))*NO2 * np.sqrt(temps)*((1-0.073*np.log10(temps))**2) #O2+-O2 collision frequency\n",
    "                    vO2p_O=2.31*(10**(-10))*NO #O2+-O collision frequency\n",
    "                    vO2p_N2=4.13*(10**(-10))*NN2 #O2+-N2 collision frequency\n",
    "                    vO2p=vO2p_O2+vO2p_O+vO2p_N2 #O2+-neutral collision frequency\n",
    "                    vO2p1.append(vO2p)\n",
    "\n",
    "                    # vNOp_O2=4.27 * (10**(-10))*NO2 #NO+-O2 collision frequency\n",
    "                    # vNOp_O=2.44 * (10**(-11))*NO  #NO+-O collision frequency\n",
    "                    # vNOp_N2=4.34*(10**(-10))*NN2  #NO+-N2 collision frequency\n",
    "                    # vNOp=vNOp_O2+vNOp_O+vNOp_N2  #NO+-neutral collision frequency\n",
    "\n",
    "                    vin=vOp+vO2p #ion-neutral collision frequency\n",
    "                    vin1.append(vin)\n",
    "                    \n",
    "                    #frequency ratios\n",
    "                    rOp=vOp/Omega_Op #O+ ratio\n",
    "                    rO2p=vO2p/Omega_O2p #O2+ ratio\n",
    "                    ###rNOp=vNOp/Omega_NOp #NO+ ratio\n",
    "                    rel=ven/Omega_e #electron ratio\n",
    "\n",
    "                    ### full conductivity formulas (when NO+ and O2+ densitites are available)\n",
    "                    NOp_cubicmeter=NOp*(10**(6))\n",
    "                    NO2p_cubicmeter=NO2p*(10**(6))\n",
    "                    alpha=NOp_cubicmeter * (rOp/(1+rOp**2))\n",
    "                    beta=Ne * (rel/(1+rel**2))\n",
    "                    gamma=NO2p_cubicmeter * (rO2p/(1+rO2p**2))\n",
    "                    # delta=NNOp * (rNOp/(1+rNOp**2))\n",
    "                    sigmaPed=(electron/bnorm)*(alpha+beta+gamma)\n",
    "                    sigmaPed1.append(sigmaPed)\n",
    "                    alpha2= NOp_cubicmeter * (1/(1+rOp**2))\n",
    "                    beta2=Ne * (1/(1+rel**2))\n",
    "                    gamma2=NO2p_cubicmeter * (1/(1+rO2p**2))\n",
    "                    # delta2=NNOp * (1/(1+rNOp**2))\n",
    "                    sigmaHall=(electron/bnorm)*(beta2-alpha2-gamma2)\n",
    "                    sigmaHall1.append(sigmaHall)\n",
    "\n",
    "                    # reduced conductivity formulas (only O+) in S/m\n",
    "                    # NOp_cubicmeter=NOp*(10**(6)) #O+ density in m^-3\n",
    "                    # sigmaPed=(electron/bnorm)* \\\n",
    "                    #     ((NOp_cubicmeter * (1/(1+rOp**2))) +\\\n",
    "                    #     (Ne * (rel/(1+rel**2))))\n",
    "                    #\n",
    "                    # sigmaHall= (electron/bnorm)* \\\n",
    "                    #     (-(NOp_cubicmeter * (1/(1+rOp**2))) +\\\n",
    "                    #     (Ne * (1/(1+rel**2))))\n",
    "\n",
    "                    #sigmaPedf[timer, lev, lat, lon]=sigmaPed #Output file\n",
    "                    #sigmaHallf[timer, lev, lat, lon]=sigmaHall #Output file\n",
    "\n",
    "                    #Parallel conductivity\n",
    "                    sigma0=(Ne*electron*electron)/(me*ven)\n",
    "                    sigma01.append(sigma0)\n",
    "                    #sigma_par[timer, lev, lat, lon]=sigma0\n",
    "\n",
    "                    #Ion Velocity in neutral reference frame (formula derived through ion momentum equation)\n",
    "                    vi_star=(vOp*Omega_Op*Estar+Omega_Op**2*(np.cross(Estar,b_unit)))/(bnorm*(vOp**2+Omega_Op**2))\n",
    "                    vi_starx=vi_star[0] #m/s\n",
    "                    vi_stary=vi_star[1] #m/s\n",
    "                    vi_starz=vi_star[2] #m/s\n",
    "                    vi_starmag=np.sqrt(vi_star[0] * vi_star[0] + vi_star[1] * vi_star[1] + vi_star[2] * vi_star[2])\n",
    "\n",
    "                    vi_x=vi_starx+Unvertx #from neutral frame to ECEF\n",
    "                    vi_y=vi_stary+Unverty #from neutral frame to ECEF\n",
    "                    vi_z=vi_starz+Unvertz #from neutral frame to ECEF\n",
    "                    vi_x1.append(vi_x)\n",
    "                    vi_y1.append(vi_y)\n",
    "                    vi_z1.append(vi_z)\n",
    "\n",
    "                    #Electron Velocity in neutral reference frame (formula derived through electron momentum equation)\n",
    "                    ve_star=(-ven*Omega_e*Estar+Omega_e**2*(np.cross(Estar,b_unit)))/(bnorm*(ven**2+Omega_e**2))\n",
    "                    ve_starx=ve_star[0] #m/s\n",
    "                    ve_stary=ve_star[1] #m/s\n",
    "                    ve_starz=ve_star[2] #m/s\n",
    "                    ve_starmag=np.sqrt(ve_star[0] * ve_star[0] + ve_star[1] * ve_star[1] + ve_star[2] * ve_star[2])\n",
    "\n",
    "                    ve_xtemp=ve_starx+Unvertx #from neutral frame to ECEF\n",
    "                    ve_ytemp=ve_stary+Unverty #from neutral frame to ECEF\n",
    "                    ve_ztemp=ve_starz+Unvertz #from neutral frame to ECEF\n",
    "\n",
    "                                      \n",
    "                    ve_x1.append(ve_xtemp)\n",
    "                    ve_y1.append(ve_ytemp)\n",
    "                    ve_z1.append(ve_ztemp)\n",
    "\n",
    "                    #Electric Potential (V)\n",
    "                    Pot=Poten_all[timer, lev, lat, lon]\n",
    "                   \n",
    "                    # heating rates (W/m^3)\n",
    "                    A=Evert+np.cross(Unvert,B)\n",
    "                    L=np.sqrt(A[0] * A[0] + A[1] * A[1] + A[2] * A[2])\n",
    "\n",
    "                    Ohmic=sigmaPed*L*L\n",
    "                    Ohmic1.append(Ohmic)\n",
    "                    Ohmic2=sigmaPed*L*L\n",
    "                    Joule=electron*Ne*np.dot(vi_star,A)\n",
    "                    Joule1.append(Joule)\n",
    "                    Frictional=MO*Ne*vOp*vi_starmag*vi_starmag\n",
    "                    Frictional1.append(Frictional)\n",
    "                    # Ohmic_TIEGCM[timer, lev, lat, lon]=TIEGCM_PED*L*L\n",
    "                    rho=den_all[timer, lev, lat, lon]*1000\n",
    "                    JH_rho=Ohmic2/rho #W/kg\n",
    "                    \n",
    "                    J_Pedersen=sigmaPed*Estar\n",
    "                    J_Hall=sigmaHall*np.cross(b_unit,Estar)\n",
    "                    \n",
    "                    Jpe,Jpn,Jpu = ecef_enu(lat_p, lon_p, J_Pedersen[0], J_Pedersen[1],J_Pedersen[2])\n",
    "                    Jhe,Jhn,Jhu = ecef_enu(lat_p, lon_p, J_Hall[0], J_Hall[1],J_Hall[2])\n",
    "                    \n",
    "                    J_pe.append(Jpe)\n",
    "                    J_pn.append(Jpn)\n",
    "                    J_pu.append(Jpu)\n",
    "                    J_he.append(Jhe)\n",
    "                    J_hn.append(Jhn)\n",
    "                    J_hu.append(Jhu)\n",
    "\n",
    "                    #perpendicular electric current density (A/m^2) (Ohm's LaW)\n",
    "                    J_p_Ohmic=sigmaPed*Estar+sigmaHall*np.cross(b_unit,Estar)\n",
    "                    J_p_Ohmicx=J_p_Ohmic[0]\n",
    "                    J_p_Ohmicy=J_p_Ohmic[1]\n",
    "                    J_p_Ohmicz=J_p_Ohmic[2]\n",
    "\n",
    "                    #perpendicular electric current density (A/m^2) (densities)\n",
    "                    J_den=electron*Ne*(vi_star-ve_star)\n",
    "                    J_denx=J_den[0]\n",
    "                    J_deny=J_den[1]\n",
    "                    J_denz=J_den[2]\n",
    "\n",
    "                    #JxB forcing\n",
    "                    # JxB=np.cross(J_p_Ohmic,B)\n",
    "                    # JxBx=JxB[0]\n",
    "                    # JxBy=JxB[1]\n",
    "                    # JxBz=JxB[2]\n",
    "                    \n",
    "                    ###############Col cross section#############\n",
    "                    N_neutral=(NO2+NN2+NO)*10**6\n",
    "                    MN2=(mN2)/(NA*1000)\n",
    "                    M_ion=MO+MO2+MN2\n",
    "                    \n",
    "                    cross=(vOp/N_neutral)/(np.sqrt((2*boltzmann*Ti)/M_ion))\n",
    "                    cross_sectionf.append(cross)\n",
    "                    \n",
    "                    warnings.simplefilter('ignore')\n",
    "\n",
    "                    \n",
    "    print(\"Calculation executed!\")\n",
    "    print(\"Total run time: %s seconds\" % (time.time() - start_time))\n",
    "\n",
    "\n",
    "warnings.simplefilter('ignore')\n",
    "\n",
    "#window creation            \n",
    "style = {'description_width': '150px'}\n",
    "layout1stcolumn = {'width': '300px'}\n",
    "layout2ndcolumn= {'width': '250px'}\n",
    "layout3rdcolumn= {'width': '100px'}\n",
    "button_layout={'width': '150px'}\n",
    "style1 = {'description_width':'150px'}\n",
    "layout1 = {'width':'850px'}\n",
    "style2 = {'description_width':'95px'}\n",
    "layout2 = {'width':'160px'}\n",
    "layout3 = {'width':'350px'}\n",
    "style3 = {'description_width':'60px'}\n",
    "layout4 = {'width':'215px'}\n",
    "\n",
    "tiegcm_file=widgets.Dropdown(options=sorted(glob.glob(DaedalusGlobals.TIEGCM_Files_Path +\"TIEGCM_EVT1_2015_StPatricksDay_HAO/tiegcm_dres.s_mar2015_amie_v1_*.nc\")), description='TIE-GCM files: ', style=style1, layout=layout1)\n",
    "orbit_file=widgets.Dropdown(options=sorted(glob.glob(DaedalusGlobals.Orbit_Files_Path +\"DAED_ORB_Evt0_LLA*.csv\")), description='Orbit files: ', style=style1, layout=layout1)\n",
    "lat_value=widgets.Dropdown(\n",
    "                        options=[('-88.75', 0), ('-86.25', 1), ('-83.75', 2),('-81.25', 3), ('-78.75', 4),('-76.25', 5), ('-73.75', 6),('-71.25', 7),\n",
    "                        ('-68.75', 8), ('-66.25', 9), ('-63.75', 10),('-61.25', 11), ('-58.75', 12),('-56.25', 13), ('-53.75', 14),('-51.25', 15),\n",
    "                        ('-48.75', 16), ('-46.25', 17), ('-43.75', 18),('-41.25', 19), ('-38.75', 20),('-36.25', 21), ('-33.75', 22),('-31.25', 23),\n",
    "                        ('-28.75', 24), ('-26.25', 25), ('-23.75', 26),('-21.25', 27), ('-18.75', 28),('-16.25', 29), ('-13.75', 30),('-11.25', 31),\n",
    "                        ('-8.75', 32), ('-6.25', 33), ('-3.75', 34),('-1.25', 35), ('1.25', 36),('3.75', 37), ('6.25', 38),('8.75', 39),\n",
    "                        ('11.25', 40), ('13.75', 41), ('16.25', 42),('18.75', 43), ('21.25', 44),('23.75', 45), ('26.25', 46),('28.75', 47),\n",
    "                        ('31.25', 48),('33.75', 49), ('36.25', 50),('38.75', 51), ('41.25', 52),('43.75', 53),\n",
    "                        ('46.25', 54),('48.75', 55), ('51.25', 56),('53.75', 57), ('56.25', 58),('58.75', 59),\n",
    "                        ('61.25', 60),('63.75', 61), ('66.25', 62),('68.75', 63), ('71.25', 64),('73.75', 65),\n",
    "                        ('76.25', 66),('78.75', 67), ('81.25', 68),('83.75', 69), ('84.25', 70),('87.75', 71)],\n",
    "                        value=2,\n",
    "                        description='Latitude (deg):',\n",
    "                        layout=layout1stcolumn, \n",
    "                        style=style\n",
    "                        )\n",
    "lon_value=widgets.Dropdown(\n",
    "                        options=[('-180.0', 0), \n",
    "                                 ('-177.5', 1), ('-175.0', 2),('-172.5', 3), ('-170.0', 4),('-167.5', 5), ('-165.0', 6),('-162.5', 7), ('-160.0', 8), \n",
    "                                 ('-157.5', 9), ('-155.0', 10),('-152.5', 11), ('-150.0', 12),('-147.5', 13),('-145.0', 14),('-142.5', 15),('-140.0', 16), \n",
    "                                 ('-137.5', 17), ('-135.0', 18),('-132.5', 19), ('-130.0', 20),('-127.5', 21), ('-125.0', 22),('-122.5', 23),('-120.0', 24), \n",
    "                                 ('-117.5', 25), ('-115.0', 26),('-112.5', 27), ('-110.0', 28),('-107.5', 29), ('-105.0', 30),('-102.5', 31),('-100.0', 32), \n",
    "                                 ('-97.5', 33), ('-95.0', 34),('-92.5', 35),('-90.0', 36),('-87.5', 37),('-85.0', 38),('-82.5', 39),('-80.0', 40), \n",
    "                                 ('-77.5', 41), ('-75.0', 42),('-72.5', 43),('-70.0', 44),('-67.5', 45),('-65.0', 46),('-62.5', 47),('-60.0', 48),\n",
    "                                 ('-57.5', 49), ('-55.0', 50),('-52.5', 51),('-50.0', 52),('-47.5', 53),('-45.0', 54),('-42.5', 55),('-40.0', 56),\n",
    "                                 ('-37.5', 57), ('-35.0', 58),('-32.5', 59),('-30.0', 60),('-27.5', 61),('-25.0', 62),('-22.5', 63),('-20.0', 64),\n",
    "                                 ('-17.5', 65), ('-15.0', 66),('-12.5', 67),('-10.0', 68),('-7.5', 69), ('-5.0', 70),('-2.5', 71),('0.0', 72),\n",
    "                                 ('2.5', 73), ('5.0', 74),('7.5', 75),('10.0', 76),('12.5', 77), ('15.0', 78),('17.5', 79),('20.0', 80),('22.5', 81),\n",
    "                                 ('25.0', 82), ('27.5', 83),('30.0', 84),('32.5', 85),('35.0', 86), ('37.5', 87),('40.0', 88),('42.5', 89),('45.0', 90),\n",
    "                                 ('47.5', 91),('50.0', 92),('52.5', 93),('55.0', 94), ('57.5', 95),('60.0', 96),('62.5', 97),('65.0', 98),\n",
    "                                 ('67.5', 99),('70.0', 100),('72.5', 101),('75.0', 102), ('77.5', 103),('80.0', 104),('82.5', 105),('85.0', 106),\n",
    "                                 ('87.5', 107),('90.0', 108),('92.5', 109),('95.0', 110), ('97.5', 111),('100.0', 112),('102.5', 113),('105.0', 114),\n",
    "                                 ('107.5', 115),('110.0', 116),('112.5', 117),('115.0', 118), ('117.5', 119),('120.0', 120),\n",
    "                                 ('122.5', 121),('125.0', 122),('127.5', 123),('130.0', 124), ('132.5', 125),('135.0', 126),\n",
    "                                 ('137.5', 127),('140.0', 128),('142.5', 129),('145.0', 130), ('147.5', 131),('150.0', 132),\n",
    "                                 ('152.5', 133),('155.0', 134),('157.5', 135),('160.0', 136), ('162.5', 137),('165.0', 138),\n",
    "                                 ('167.5', 139),('170.0', 140),('172.5', 141),('175.0', 142), ('177.5', 143),\n",
    "                                ],\n",
    "                        value=2,\n",
    "                        description='Longitude (deg):',\n",
    "                        layout=layout1stcolumn, \n",
    "                        style=style\n",
    "                        )\n",
    "plot_param=widgets.Dropdown(\n",
    "            options=['Joule Heating','Frictional Heating','Ohmic Heating','Convenction Heating',\n",
    "                     'Wind Heating', 'Mechanical Power', 'Energy','Pedersen', 'Hall', 'Parallel','O','O2','N2', 'Ne', \n",
    "                     'Ti','Tn','Te','νO+n','νO2+n','νin','νen','σO+n','Potential'],\n",
    "            value='Joule Heating',\n",
    "            description='Parameter to Plot:',\n",
    "            disabled=False,\n",
    "            style=style, \n",
    "            layout=layout1stcolumn\n",
    "            )\n",
    "\n",
    "quiver_back_param=widgets.Dropdown(\n",
    "            options=['Potential', 'Joule Heating','Frictional Heating','Ohmic Heating','Convenction Heating',\n",
    "                     'Wind Heating', 'Mechanical Power', 'Energy','Current','Pedersen','Hall','Parallel','Ion Drift'],\n",
    "            value='Potential',\n",
    "            description='Background:',\n",
    "            disabled=False,\n",
    "            style=style, \n",
    "            layout=layout1stcolumn\n",
    "            )\n",
    "\n",
    "quiver_vec_param=widgets.Dropdown(\n",
    "            options=['Electric Field', 'Magnetic Field', 'Pedersen Current', 'Hall Current', 'Perpendicular Current', 'Ion Velocity',\n",
    "                    'Neutral Winds','JxB'],\n",
    "            value='Electric Field',\n",
    "            description='Vector Field:',\n",
    "            disabled=False,\n",
    "            style=style, \n",
    "            layout=layout1stcolumn\n",
    "            )\n",
    "quiver_plot_param=widgets.Dropdown(\n",
    "            options=['Vector','Streamplot','Divergence'],\n",
    "            value='Vector',\n",
    "            description='Projection:',\n",
    "            disabled=False,\n",
    "            style=style, \n",
    "            layout=layout1stcolumn\n",
    "            )\n",
    "\n",
    "timer_value= widgets.Dropdown( value=0, options=range(0,24),  description='TimeStep:', style=style, layout=layout1stcolumn)\n",
    "pressure_level= widgets.Dropdown( value=0, options=range(0,57),  description='Pressure Level:', style=style, layout=layout1stcolumn)\n",
    "heatings_checkbox   = widgets.Checkbox(value=True,  description=\"Plot Heating Rates\", style=style1, layout=layout1 )\n",
    "conductivities_checkbox   = widgets.Checkbox(value=False,  description=\"Plot Conductivities\", style=style1, layout=layout1 )\n",
    "frequencies_checkbox   = widgets.Checkbox(value=False,  description=\"Plot Frequencies\", style=style1, layout=layout1 )\n",
    "cross_checkbox   = widgets.Checkbox(value=False,  description=\"Plot Cross Sections\", style=style1, layout=layout1 )\n",
    "densities_checkbox   = widgets.Checkbox(value=False,  description=\"Plot Densities\", style=style1, layout=layout1 )\n",
    "temperatures_checkbox   = widgets.Checkbox(value=False,  description=\"Plot Temperatures\", style=style1, layout=layout1 )\n",
    "currents_checkbox   = widgets.Checkbox(value=False,  description=\"Plot Currents\", style=style1, layout=layout1 )\n",
    "efield_checkbox   = widgets.Checkbox(value=False,  description=\"Plot E field\", style=style1, layout=layout1 )\n",
    "velocities_checkbox   = widgets.Checkbox(value=False,  description=\"Plot Velocities\", style=style1, layout=layout1 )\n",
    "Joule_checkbox= widgets.Checkbox(value=True,  description=\"Map Plot\",style=style1, layout=layout1 )\n",
    "Joule_polar= widgets.Checkbox(value=True,  description=\"Polar Plot\",style=style1, layout=layout1 )\n",
    "Joule_ortho= widgets.Checkbox(value=True,  description=\"Orthographic Plot\",style=style1, layout=layout3 )\n",
    "Bounding_lat  = widgets.BoundedIntText(value=40, min=10, max=180, description='Bounding Latitude:', style=style1, layout=layout4)\n",
    "North_plot= widgets.Checkbox(value=True,  description=\"Plot North Pole\",style=style3, layout=layout3 )\n",
    "South_plot= widgets.Checkbox(value=False,  description=\"Plot South Pole\",style=style3, layout=layout3 )\n",
    "center_lat  = widgets.BoundedIntText(value=45, min=-90, max=90, description='Center Latitude:', style=style1, layout=layout4)\n",
    "center_lon  = widgets.BoundedIntText(value=45, min=-180, max=180, description='Center Longitude:', style=style1, layout=layout4)\n",
    "quiver_checkbox= widgets.Checkbox(value=True,  description=\"Quiver Plot\",style=style1, layout=layout1 )\n",
    "orbit_checkbox= widgets.Checkbox(value=True,  description=\"Add Orbit\",style=style1, layout=layout1 )\n",
    "night_checkbox= widgets.Checkbox(value=True,  description=\"Add Nightshade\",style=style1, layout=layout1)\n",
    "\n",
    "def plot_heatings():\n",
    "    fig1 = go.Figure()\n",
    "    fig1.add_trace(go.Scatter(x=Ohmic1[0:-1], y=zg1,name=\"Ohmic\",mode='lines',marker=dict(color='blue'))) \n",
    "    fig1.add_trace(go.Scatter(x=Joule1[0:-1], y=zg1,name=\"Joule\",mode='lines',marker=dict(color='green')))\n",
    "    fig1.add_trace(go.Scatter(x=Frictional1[0:-1], y=zg1,name=\"Frictional\",mode='lines',marker=dict(color='red')))\n",
    "    \n",
    "    fig1.update_layout(xaxis_type=\"log\",xaxis_showexponent='all', xaxis_exponentformat = 'power',\n",
    "    yaxis_tick0 = 60,yaxis_dtick = 20,xaxis_title=\"$W/m^{3}$\",yaxis_title=\"Altitude (km)\",width=750,height=750,\n",
    "    title={'text':'Heating Rates','y':0.9,'x':0.5,'xanchor': 'center','yanchor': 'top'})\n",
    "    fig1.update_xaxes(showgrid=True, gridwidth=0.5, gridcolor='grey')\n",
    "    fig1.update_yaxes(showgrid=True, gridwidth=0.5, gridcolor='grey')\n",
    "    fig1.update_xaxes(showline=True, linewidth=2, linecolor='black', mirror=True)\n",
    "    fig1.update_yaxes(showline=True, linewidth=2, linecolor='black', mirror=True)\n",
    "    fig1.show()\n",
    "    \n",
    "def plot_efield():\n",
    "    fig1 = go.Figure()\n",
    "    fig1.add_trace(go.Scatter(x=E_e[0:-1], y=zg1,name=\"East\",mode='lines',marker=dict(color='blue'))) \n",
    "    fig1.add_trace(go.Scatter(x=E_n[0:-1], y=zg1,name=\"North\",mode='lines',marker=dict(color='green')))\n",
    "    fig1.add_trace(go.Scatter(x=E_u[0:-1], y=zg1,name=\"Up\",mode='lines',marker=dict(color='red')))\n",
    "    \n",
    "    fig1.update_layout(xaxis_showexponent='all', xaxis_exponentformat = 'power',\n",
    "    yaxis_tick0 = 60,yaxis_dtick = 20,xaxis_title=\"$V/m$\",yaxis_title=\"Altitude (km)\",width=750,height=750,\n",
    "    title={'text':'Electric FIeld (ENU)','y':0.9,'x':0.5,'xanchor': 'center','yanchor': 'top'})\n",
    "    fig1.update_xaxes(showgrid=True, gridwidth=0.5, gridcolor='grey')\n",
    "    fig1.update_yaxes(showgrid=True, gridwidth=0.5, gridcolor='grey')\n",
    "    fig1.update_xaxes(showline=True, linewidth=2, linecolor='black', mirror=True)\n",
    "    fig1.update_yaxes(showline=True, linewidth=2, linecolor='black', mirror=True)\n",
    "    fig1.show()\n",
    "    \n",
    "def plot_temperatures():\n",
    "    fig1 = go.Figure()\n",
    "    fig1.add_trace(go.Scatter(x=T_e[0:-1], y=zg1,name=\"Electron T\",mode='lines',marker=dict(color='blue'))) \n",
    "    fig1.add_trace(go.Scatter(x=T_i[0:-1], y=zg1,name=\"Ion T\",mode='lines',marker=dict(color='green')))\n",
    "    fig1.add_trace(go.Scatter(x=T_n[0:-1], y=zg1,name=\"Neutral T\",mode='lines',marker=dict(color='red')))\n",
    "    \n",
    "    fig1.update_layout(xaxis_showexponent='all', xaxis_exponentformat = 'power',\n",
    "    yaxis_tick0 = 60,yaxis_dtick = 20,xaxis_title=\"$K$\",yaxis_title=\"Altitude (km)\",width=750,height=750,\n",
    "    title={'text':'Temperature','y':0.9,'x':0.5,'xanchor': 'center','yanchor': 'top'})\n",
    "    fig1.update_xaxes(showgrid=True, gridwidth=0.5, gridcolor='grey')\n",
    "    fig1.update_yaxes(showgrid=True, gridwidth=0.5, gridcolor='grey')\n",
    "    fig1.update_xaxes(showline=True, linewidth=2, linecolor='black', mirror=True)\n",
    "    fig1.update_yaxes(showline=True, linewidth=2, linecolor='black', mirror=True)\n",
    "    fig1.show()\n",
    "    \n",
    "      \n",
    "    \n",
    "def plot_currents():\n",
    "    fig1 = go.Figure()\n",
    "    fig1.add_trace(go.Scatter(x=J_pe[0:-1], y=zg1,name=\"East\",mode='lines',marker=dict(color='blue'))) \n",
    "    fig1.add_trace(go.Scatter(x=J_pn[0:-1], y=zg1,name=\"North\",mode='lines',marker=dict(color='green')))\n",
    "    fig1.add_trace(go.Scatter(x=J_pu[0:-1], y=zg1,name=\"Up\",mode='lines',marker=dict(color='red')))\n",
    "    \n",
    "    fig1.update_layout(xaxis_showexponent='all', xaxis_exponentformat = 'power',\n",
    "    yaxis_tick0 = 60,yaxis_dtick = 20,xaxis_title=\"$A/m^{2}$\",yaxis_title=\"Altitude (km)\",width=750,height=750,\n",
    "    title={'text':'Pedersen Currents (ENU)','y':0.9,'x':0.5,'xanchor': 'center','yanchor': 'top'})\n",
    "    fig1.update_xaxes(showgrid=True, gridwidth=0.5, gridcolor='grey')\n",
    "    fig1.update_yaxes(showgrid=True, gridwidth=0.5, gridcolor='grey')\n",
    "    fig1.update_xaxes(showline=True, linewidth=2, linecolor='black', mirror=True)\n",
    "    fig1.update_yaxes(showline=True, linewidth=2, linecolor='black', mirror=True)\n",
    "    fig1.show()\n",
    "    \n",
    "    fig2 = go.Figure()\n",
    "    fig2.add_trace(go.Scatter(x=J_he[0:-1], y=zg1,name=\"East\",mode='lines',marker=dict(color='blue'))) \n",
    "    fig2.add_trace(go.Scatter(x=J_hn[0:-1], y=zg1,name=\"North\",mode='lines',marker=dict(color='green')))\n",
    "    fig2.add_trace(go.Scatter(x=J_hu[0:-1], y=zg1,name=\"Up\",mode='lines',marker=dict(color='red')))\n",
    "    \n",
    "    fig2.update_layout(xaxis_showexponent='all', xaxis_exponentformat = 'power',\n",
    "    yaxis_tick0 = 60,yaxis_dtick = 20,xaxis_title=\"$A/m^{2}$\",yaxis_title=\"Altitude (km)\",width=750,height=750,\n",
    "    title={'text':'Hall Currents (ENU)','y':0.9,'x':0.5,'xanchor': 'center','yanchor': 'top'})\n",
    "    fig2.update_xaxes(showgrid=True, gridwidth=0.5, gridcolor='grey')\n",
    "    fig2.update_yaxes(showgrid=True, gridwidth=0.5, gridcolor='grey')\n",
    "    fig2.update_xaxes(showline=True, linewidth=2, linecolor='black', mirror=True)\n",
    "    fig2.update_yaxes(showline=True, linewidth=2, linecolor='black', mirror=True)\n",
    "    fig2.show()\n",
    "\n",
    "def plot_conductivities():\n",
    "    fig1 = go.Figure()\n",
    "    fig1.add_trace(go.Scatter(x=sigmaPed1[0:-1], y=zg1[0:-1],name=\"Pedersen\",mode='lines',marker=dict(color='blue'))) \n",
    "    fig1.add_trace(go.Scatter(x=sigmaHall1[0:-1], y=zg1[0:-1],name=\"Hall\",mode='lines',marker=dict(color='green')))\n",
    "    fig1.add_trace(go.Scatter(x=sigma01[0:-1], y=zg1[0:-1],name=\"Parallel\",mode='lines',marker=dict(color='red')))\n",
    "\n",
    "    fig1.update_layout(xaxis_type=\"log\",xaxis_showexponent='all', xaxis_exponentformat = 'power',\n",
    "    yaxis_tick0 = 60,yaxis_dtick = 20,xaxis_title=\"$Si/m$\",yaxis_title=\"Altitude (km)\",width=750,height=750,\n",
    "    title={'text':'Conductivities ','y':0.9,'x':0.5,'xanchor': 'center','yanchor': 'top'})\n",
    "    fig1.update_xaxes(showgrid=True, gridwidth=0.5, gridcolor='grey')\n",
    "    fig1.update_yaxes(showgrid=True, gridwidth=0.5, gridcolor='grey')\n",
    "    fig1.update_xaxes(showline=True, linewidth=2, linecolor='black', mirror=True)\n",
    "    fig1.update_yaxes(showline=True, linewidth=2, linecolor='black', mirror=True)\n",
    "    fig1.show()\n",
    "    \n",
    "def plot_frequencies():\n",
    "    fig1 = go.Figure()\n",
    "    fig1.add_trace(go.Scatter(x=omega_e1[0:-1], y=zg1[0:-1],name=\"$$\\Omega_{e}$$\",mode='lines',marker=dict(color='blue'))) \n",
    "    fig1.add_trace(go.Scatter(x=omega_Op1[0:-1], y=zg1[0:-1],name=\"$$\\Omega_{O+}$$\",mode='lines',marker=dict(color='green')))\n",
    "    fig1.add_trace(go.Scatter(x=vOp1[0:-1], y=zg1[0:-1],name=\"$$v_{O+}$$\",mode='lines',marker=dict(color='red')))\n",
    "    fig1.add_trace(go.Scatter(x=ven1[0:-1], y=zg1[0:-1],name=\"$$v_{en}$$\",mode='lines',marker=dict(color='yellow')))\n",
    "    fig1.add_trace(go.Scatter(x=omega_O2p1[0:-1], y=zg1[0:-1],name=\"$$\\Omega_{O2+}$$+\",mode='lines',marker=dict(color='orange')))\n",
    "    fig1.add_trace(go.Scatter(x=vO2p1[0:-1], y=zg1[0:-1],name=\"$$v_{O2+}$$+\",mode='lines',marker=dict(color='purple')))\n",
    "    fig1.add_trace(go.Scatter(x=vin1[0:-1], y=zg1[0:-1],name=\"$$v_{in}$$+\",mode='lines',marker=dict(color='mediumvioletred')))\n",
    "     \n",
    "    fig1.update_layout(xaxis_type=\"log\",xaxis_showexponent='all', xaxis_exponentformat = 'power',\n",
    "    yaxis_tick0 = 60,yaxis_dtick = 20,xaxis_title=\"Frequency (Hz)\",yaxis_title=\"Altitude (km)\",width=750,height=750,\n",
    "    title={'text':'Frequencies ','y':0.9,'x':0.5,'xanchor': 'center','yanchor': 'top'})\n",
    "    fig1.update_xaxes(showgrid=True, gridwidth=0.5, gridcolor='grey')\n",
    "    fig1.update_yaxes(showgrid=True, gridwidth=0.5, gridcolor='grey')\n",
    "    fig1.update_xaxes(showline=True, linewidth=2, linecolor='black', mirror=True)\n",
    "    fig1.update_yaxes(showline=True, linewidth=2, linecolor='black', mirror=True)\n",
    "    fig1.show()   \n",
    "    \n",
    "    \n",
    "def plot_cross_section():\n",
    "    fig1 = go.Figure()\n",
    "    fig1.add_trace(go.Scatter(x=cross_sectionf[0:-1], y=zg1[0:-1],name=\"Cross Section\",mode='lines',marker=dict(color='blue'))) \n",
    "\n",
    "\n",
    "    fig1.update_layout(xaxis_showexponent='all', xaxis_exponentformat = 'power',\n",
    "    yaxis_tick0 = 60,yaxis_dtick = 20,xaxis_title=\"$m^{2}$\",yaxis_title=\"Altitude (km)\",width=750,height=750,\n",
    "    title={'text':'Cross Section ','y':0.9,'x':0.5,'xanchor': 'center','yanchor': 'top'})\n",
    "    fig1.update_xaxes(showgrid=True, gridwidth=0.5, gridcolor='grey')\n",
    "    fig1.update_yaxes(showgrid=True, gridwidth=0.5, gridcolor='grey')\n",
    "    fig1.update_xaxes(showline=True, linewidth=2, linecolor='black', mirror=True)\n",
    "    fig1.update_yaxes(showline=True, linewidth=2, linecolor='black', mirror=True)\n",
    "    fig1.show()   \n",
    "    \n",
    "    \n",
    "    \n",
    "def plot_densities():\n",
    "    fig1 = go.Figure()\n",
    "    fig1.add_trace(go.Scatter(x=nO1[0:-1], y=zg1[0:-1],name=\"O\",mode='lines',marker=dict(color='blue'))) \n",
    "    fig1.add_trace(go.Scatter(x=nO21[0:-1], y=zg1[0:-1],name=\"O2\",mode='lines',marker=dict(color='green')))\n",
    "    fig1.add_trace(go.Scatter(x=nN21[0:-1], y=zg1[0:-1],name=\"N2\",mode='lines',marker=dict(color='red')))\n",
    "    fig1.add_trace(go.Scatter(x=Ne1[0:-1], y=zg1[0:-1],name=\"Ne\",mode='lines',marker=dict(color='yellow')))\n",
    "    fig1.add_trace(go.Scatter(x=NOp1[0:-1], y=zg1[0:-1],name=\"O+\",mode='lines',marker=dict(color='orange')))\n",
    "    fig1.add_trace(go.Scatter(x=NO2p1[0:-1], y=zg1[0:-1],name=\"O2+\",mode='lines',marker=dict(color='purple')))\n",
    "       \n",
    "    fig1.update_layout(xaxis_type=\"log\",xaxis_showexponent='all', xaxis_exponentformat = 'power',\n",
    "    yaxis_tick0 = 60,yaxis_dtick = 20,xaxis_title=\"$cm^{-3}$\",yaxis_title=\"Altitude (km)\",width=750,height=750,\n",
    "    title={'text':'Densities ','y':0.9,'x':0.5,'xanchor': 'center','yanchor': 'top'})\n",
    "    fig1.update_xaxes(showgrid=True, gridwidth=0.5, gridcolor='grey')\n",
    "    fig1.update_yaxes(showgrid=True, gridwidth=0.5, gridcolor='grey')\n",
    "    fig1.update_xaxes(showline=True, linewidth=2, linecolor='black', mirror=True)\n",
    "    fig1.update_yaxes(showline=True, linewidth=2, linecolor='black', mirror=True)\n",
    "    fig1.show()\n",
    "    \n",
    "def plot_velocities():\n",
    "    fig1 = go.Figure()\n",
    "    fig1.add_trace(go.Scatter(x=vi_x1[0:-1], y=zg1[0:-1],name=\"Perpendicular Ion velocity (x)\",mode='lines',marker=dict(color='blue'))) \n",
    "    fig1.add_trace(go.Scatter(x=unvx1[0:-1], y=zg1[0:-1],name=\"Perpendicular Neutral velocity (x)\",mode='lines',marker=dict(color='green')))\n",
    "    fig1.add_trace(go.Scatter(x=ExBx1[0:-1], y=zg1[0:-1],name=\"ExB drift velocity (x)\",mode='lines',marker=dict(color='red')))\n",
    "     \n",
    "    fig1.update_layout(xaxis_showexponent='all', xaxis_exponentformat = 'power',\n",
    "    yaxis_tick0 = 60,yaxis_dtick = 20,xaxis_title=\"$m/s$\",yaxis_title=\"Altitude (km)\",width=750,height=750,\n",
    "    title={'text':'Velocities ','y':0.9,'x':0.5,'xanchor': 'center','yanchor': 'top'})\n",
    "    fig1.update_xaxes(showgrid=True, gridwidth=0.5, gridcolor='grey')\n",
    "    fig1.update_yaxes(showgrid=True, gridwidth=0.5, gridcolor='grey')\n",
    "    fig1.update_xaxes(showline=True, linewidth=2, linecolor='black', mirror=True)\n",
    "    fig1.update_yaxes(showline=True, linewidth=2, linecolor='black', mirror=True)\n",
    "    fig1.show() \n",
    "    \n",
    "    fig2 = go.Figure()\n",
    "    fig2.add_trace(go.Scatter(x=vi_y1[0:-1], y=zg1[0:-1],name=\"Perpendicular Ion velocity (y)\",mode='lines',marker=dict(color='blue'))) \n",
    "    fig2.add_trace(go.Scatter(x=unvy1[0:-1], y=zg1[0:-1],name=\"Perpendicular Neutral velocity (y)\",mode='lines',marker=dict(color='green')))\n",
    "    fig2.add_trace(go.Scatter(x=ExBy1[0:-1], y=zg1[0:-1],name=\"ExB drift velocity (y)\",mode='lines',marker=dict(color='red')))\n",
    "       \n",
    "    fig2.update_layout(xaxis_showexponent='all', xaxis_exponentformat = 'power',\n",
    "    yaxis_tick0 = 60,yaxis_dtick = 20,xaxis_title=\"$m/s$\",yaxis_title=\"Altitude (km)\",width=750,height=750,\n",
    "    title={'text':'Velocities ','y':0.9,'x':0.5,'xanchor': 'center','yanchor': 'top'})\n",
    "    fig2.update_xaxes(showgrid=True, gridwidth=0.5, gridcolor='grey')\n",
    "    fig2.update_yaxes(showgrid=True, gridwidth=0.5, gridcolor='grey')\n",
    "    fig2.update_xaxes(showline=True, linewidth=2, linecolor='black', mirror=True)\n",
    "    fig2.update_yaxes(showline=True, linewidth=2, linecolor='black', mirror=True)\n",
    "    fig2.show()\n",
    "    \n",
    "    fig3 = go.Figure()\n",
    "    fig3.add_trace(go.Scatter(x=vi_z1[0:-1], y=zg1[0:-1],name=\"Perpendicular Ion velocity (z)\",mode='lines',marker=dict(color='blue'))) \n",
    "    fig3.add_trace(go.Scatter(x=unvz1[0:-1], y=zg1[0:-1],name=\"Perpendicular Neutral velocity (z)\",mode='lines',marker=dict(color='green')))\n",
    "    fig3.add_trace(go.Scatter(x=ExBz1[0:-1], y=zg1[0:-1],name=\"ExB drift velocity (z)\",mode='lines',marker=dict(color='red')))\n",
    "      \n",
    "    fig3.update_layout(xaxis_showexponent='all', xaxis_exponentformat = 'power',\n",
    "    yaxis_tick0 = 60,yaxis_dtick = 20,xaxis_title=\"$m/s$\",yaxis_title=\"Altitude (km)\",width=750,height=750,\n",
    "    title={'text':'Velocities ','y':0.9,'x':0.5,'xanchor': 'center','yanchor': 'top'})\n",
    "    fig3.update_xaxes(showgrid=True, gridwidth=0.5, gridcolor='grey')\n",
    "    fig3.update_yaxes(showgrid=True, gridwidth=0.5, gridcolor='grey')\n",
    "    fig3.update_xaxes(showline=True, linewidth=2, linecolor='black', mirror=True)\n",
    "    fig3.update_yaxes(showline=True, linewidth=2, linecolor='black', mirror=True)\n",
    "    fig3.show()\n",
    "    \n",
    "def Joule_map(param,timer):\n",
    "\n",
    "    x_value=maplon[:]\n",
    "    y_value=maplat[:][::-1]\n",
    "    time_begin=datetime.datetime(2015,3,15,0,0,0)\n",
    "    time_plot=time_begin+datetime.timedelta(minutes=maptime[timer])\n",
    "    if param == 'Pedersen':\n",
    "        parameter = sigmaPedf\n",
    "    if param == 'Joule Heating':\n",
    "        parameter = Joule\n",
    "        \n",
    "    if param == 'Frictional Heating':\n",
    "        parameter = Frictional\n",
    "    if param == 'Ohmic Heating':\n",
    "        parameter = Ohmic_heating_Out\n",
    "    if param == 'Convenction Heating':\n",
    "        parameter = Convenction_heating_Out\n",
    "    if param == 'Wind Heating':\n",
    "        parameter = Wind_heating_Out\n",
    "    if param == 'Energy':\n",
    "        parameter = Energy_Out\n",
    "    if param == 'Mechanical Power':\n",
    "        parameter = Mechanical_power_Out\n",
    "        \n",
    "    if param == 'Ti':\n",
    "        parameter = Ti_Out\n",
    "    if param == 'Te':\n",
    "        parameter = Te_Out\n",
    "    if param == 'Tn':\n",
    "        parameter = Tn_Out\n",
    "    if param == 'νO+n':\n",
    "        parameter = vOpf\n",
    "    if param == 'νO2+n':\n",
    "        parameter = vO2pf\n",
    "    if param == 'νin':\n",
    "        parameter = vinf\n",
    "    if param == 'νen':\n",
    "        parameter = venf\n",
    "    if param == 'σO+n':\n",
    "        parameter = cross_section\n",
    "    if param == 'Parallel':\n",
    "        parameter = sigma_par\n",
    "        \n",
    "    if param == 'Hall':\n",
    "        parameter = sigmaHallf\n",
    "    if param == 'O':\n",
    "        parameter = NOf\n",
    "    if param == 'O2':\n",
    "        parameter = NO2f\n",
    "    if param == 'N2':\n",
    "        parameter = NN2f\n",
    "    if param == 'Ne':\n",
    "        parameter = Nef\n",
    "    if param == 'Potential':\n",
    "        parameter = Potf\n",
    "        \n",
    "    plt.rcParams['figure.figsize'] = (15, 15)\n",
    "    fig = plt.figure()\n",
    "    ax1 = fig.add_subplot(1, 1, 1,  aspect='equal')\n",
    "  \n",
    "    # llcrnrlat,llcrnrlon,urcrnrlat,urcrnrlon\n",
    "    # are the lat/lon values of the lower left and upper right corners\n",
    "    # of the map.\n",
    "    # resolution = 'c' means use crude resolution coastlines.\n",
    "    m = Basemap(projection='cyl',llcrnrlat=-90,urcrnrlat=90,\\\n",
    "                llcrnrlon=-180,urcrnrlon=180,resolution='c')\n",
    "    m.drawcoastlines()\n",
    "    if param == 'Pedersen':\n",
    "        sc=m.imshow(parameter,cmap='afmhot',interpolation = 'bicubic')\n",
    "    if param == 'Joule Heating':\n",
    "        sc=m.imshow(parameter,cmap='jet',interpolation = 'bicubic')\n",
    "    if param == 'Frictional Heating':\n",
    "        sc=m.imshow(parameter,cmap='jet',interpolation = 'bicubic')\n",
    "    if param == 'Ohmic Heating':\n",
    "        sc=m.imshow(parameter,cmap='jet',interpolation = 'bicubic')\n",
    "    if param == 'Convenction Heating':\n",
    "        sc=m.imshow(parameter,cmap='jet',interpolation = 'bicubic')\n",
    "    if param == 'Wind Heating':\n",
    "        sc=m.imshow(parameter,cmap='jet',interpolation = 'bicubic')\n",
    "    if param == 'Energy':\n",
    "        sc=m.imshow(parameter,cmap='jet',interpolation = 'bicubic')\n",
    "    if param == 'Mechanical Power':\n",
    "        sc=m.imshow(parameter,cmap='jet',interpolation = 'bicubic')\n",
    "        \n",
    "    if param == 'Ti':\n",
    "        sc=m.imshow(parameter,cmap='gnuplot',interpolation = 'bicubic')\n",
    "    if param == 'Te':\n",
    "        sc=m.imshow(parameter,cmap='gnuplot',interpolation = 'bicubic')\n",
    "    if param == 'Tn':\n",
    "        sc=m.imshow(parameter,cmap='gnuplot',interpolation = 'bicubic')\n",
    "    if param == 'νO+n':\n",
    "        sc=m.imshow(parameter,cmap='CMRmap',interpolation = 'bicubic')\n",
    "    if param == 'νO2+n':\n",
    "        sc=m.imshow(parameter,cmap='CMRmap',interpolation = 'bicubic')\n",
    "    if param == 'νin':\n",
    "        sc=m.imshow(parameter,cmap='CMRmap',interpolation = 'bicubic')\n",
    "    if param == 'νen':\n",
    "        sc=m.imshow(parameter,cmap='CMRmap',interpolation = 'bicubic')\n",
    "    if param == 'σO+n':\n",
    "        sc=m.imshow(parameter,cmap='CMRmap',interpolation = 'bicubic')\n",
    "    if param == 'Parallel':\n",
    "        sc=m.imshow(parameter,cmap='afmhot',interpolation = 'bicubic')\n",
    "        \n",
    "    if param == 'Ne':\n",
    "        sc=m.imshow(parameter,cmap='cubehelix',interpolation = 'bicubic')\n",
    "    if param == 'Hall':\n",
    "        sc=m.imshow(parameter,cmap='afmhot',interpolation = 'bicubic')\n",
    "    if param == 'O':\n",
    "        sc=m.imshow(parameter,cmap='cubehelix',interpolation = 'bicubic')\n",
    "    if param == 'O2':\n",
    "        sc=m.imshow(parameter,cmap='cubehelix',interpolation = 'bicubic')\n",
    "    if param == 'N2':\n",
    "        sc=m.imshow(parameter,cmap='cubehelix',interpolation = 'bicubic')\n",
    "    if param == 'Potential':\n",
    "        sc=m.imshow(parameter,cmap='BrBG',interpolation = 'bicubic')\n",
    "        \n",
    "        \n",
    "        \n",
    "    if night_checkbox.value == True:\n",
    "        CS=m.nightshade(time_plot, alpha=0.3)\n",
    "        \n",
    "    #m.fillcontinents(color='coral',lake_color='aqua')\n",
    "    # draw parallels and meridians.\n",
    "    m.drawparallels(np.arange(-90.,91.,30.))\n",
    "    m.drawmeridians(np.arange(-180.,181.,60.))\n",
    "    #m.drawmapboundary(fill_color='aqua')\n",
    "    plt.xticks(np.arange(-180.,181.,60.))\n",
    "    plt.yticks(np.arange(-90.,91.,30.))\n",
    "    plt.xlabel('Lon (deg)')\n",
    "    plt.ylabel('Lat (deg)')\n",
    "    \n",
    "  \n",
    "    if param == 'Joule Heating':\n",
    "        plt.title(\"Joule Heating Rate (mW/m^3) - %s\" % time_plot.strftime(\"%d %b %Y %H:%M:%S\"))\n",
    "    if param == 'Frictional Heating':\n",
    "        plt.title(\"Frictional Heating Rate (mW/m^3) - %s\" % time_plot.strftime(\"%d %b %Y %H:%M:%S\"))\n",
    "    if param == 'Ohmic Heating':\n",
    "        plt.title(\"Ohmic Heating Rate (mW/m^3) - %s\" % time_plot.strftime(\"%d %b %Y %H:%M:%S\"))\n",
    "    if param == 'Convenction Heating':\n",
    "        plt.title(\"Convenction Heating Rate (mW/m^3) - %s\" % time_plot.strftime(\"%d %b %Y %H:%M:%S\"))\n",
    "    if param == 'Wind Heating':\n",
    "        plt.title(\"Wind Heating Rate (mW/m^3) - %s\" % time_plot.strftime(\"%d %b %Y %H:%M:%S\"))\n",
    "    if param == 'Energy':\n",
    "        plt.title(\"Energy Dissipation/Generation (mW/m^3) - %s\" % time_plot.strftime(\"%d %b %Y %H:%M:%S\"))\n",
    "    if param == 'Mechanical Power':\n",
    "        plt.title(\"Mechanical Power (mW/m^3) - %s\" % time_plot.strftime(\"%d %b %Y %H:%M:%S\"))\n",
    "    \n",
    "    if param == 'Ti':\n",
    "        plt.title(\"Ion Temperature (K) - %s\" % time_plot.strftime(\"%d %b %Y %H:%M:%S\"))\n",
    "    if param == 'Te':\n",
    "        plt.title(\"Electron Temeperature (K) - %s\" % time_plot.strftime(\"%d %b %Y %H:%M:%S\"))\n",
    "    if param == 'Tn':\n",
    "        plt.title(\"Neutral Temperature (K) - %s\" % time_plot.strftime(\"%d %b %Y %H:%M:%S\"))\n",
    "    if param == 'νO+n':\n",
    "        plt.title(\"O+-Neutral collision frequency (Hz) - %s\" % time_plot.strftime(\"%d %b %Y %H:%M:%S\"))\n",
    "    if param == 'νO2+n':\n",
    "        plt.title(\"O2+-Neutral collision frequency (Hz) - %s\" % time_plot.strftime(\"%d %b %Y %H:%M:%S\"))\n",
    "    if param == 'νin':\n",
    "        plt.title(\"Ion-Neutral collision frequency (Hz) - %s\" % time_plot.strftime(\"%d %b %Y %H:%M:%S\"))\n",
    "    if param == 'νen':\n",
    "        plt.title(\"Electron-Neutral collision frequency (Hz) - %s\" % time_plot.strftime(\"%d %b %Y %H:%M:%S\"))\n",
    "    if param == 'σO+n':\n",
    "        plt.title(\"O+ cross section (m^2) - %s\" % time_plot.strftime(\"%d %b %Y %H:%M:%S\"))\n",
    "    if param == 'Parallel':\n",
    "        plt.title(\"Parallel Conductivity (Si/m) - %s\" % time_plot.strftime(\"%d %b %Y %H:%M:%S\"))\n",
    "\n",
    "    if param == 'Pedersen':\n",
    "        plt.title(\"Pendersen Conductivity ($10^{-5}$ mho/m) - %s\" % time_plot.strftime(\"%d %b %Y %H:%M:%S\"))\n",
    "    if param == 'Hall':\n",
    "        plt.title(\"Hall Conductivity (Si/m) - %s\" % time_plot.strftime(\"%d %b %Y %H:%M:%S\"))\n",
    "    if param == 'O':\n",
    "        plt.title(\"O ($m^{-3}$) - %s\" % time_plot.strftime(\"%d %b %Y %H:%M:%S\"))\n",
    "    if param == 'O2':\n",
    "        plt.title(\"$O_{2}$ ($m^{-3}$) - %s\" % time_plot.strftime(\"%d %b %Y %H:%M:%S\"))\n",
    "    if param == 'N2':\n",
    "        plt.title(\"$N_{2}$ ($m^{-3}$) - %s\" % time_plot.strftime(\"%d %b %Y %H:%M:%S\"))\n",
    "    if param == 'Ne':\n",
    "        plt.title(\"Electron Density ($m^{-3}$) - %s\" % time_plot.strftime(\"%d %b %Y %H:%M:%S\"))\n",
    "    if param == 'Potential':\n",
    "        plt.title(\"Electirc Potential (kV) - %s\" % time_plot.strftime(\"%d %b %Y %H:%M:%S\"))\n",
    "    \n",
    "        \n",
    "    divider = make_axes_locatable(ax1)\n",
    "    cax1 = divider.append_axes(\"right\", size=\"5%\", pad=0.2, aspect=20, label='[w/m^3]')\n",
    "    cbar = plt.colorbar(sc, cax = cax1)\n",
    "    plt.show()\n",
    "    \n",
    "\n",
    "   \n",
    "    \n",
    "def quiver_plot(ploting,back,vec,timer):\n",
    "    x_value=maplon[:]\n",
    "    y_value=maplat[:]\n",
    "    \n",
    "    time_begin=datetime.datetime(2015,3,15,0,0,0)\n",
    "    time_plot=time_begin+datetime.timedelta(minutes=maptime[timer])\n",
    "    \n",
    "    m = Basemap(projection='npstere',boundinglat=40,lon_0=0,resolution='l', round=True,)\n",
    "        \n",
    "    if back == 'Potential':\n",
    "        background=Potf\n",
    "        cmap='BrBG'\n",
    "    if back == 'Joule Heating':\n",
    "        background = Joule\n",
    "        cmap='jet'\n",
    "    if back == 'Pedersen':\n",
    "        background = sigmaPedf\n",
    "        cmap='afmhot'\n",
    "    if back == 'Hall':\n",
    "        background = sigmaHallf\n",
    "        cmap='afmhot'\n",
    "    if back == 'Current':\n",
    "        background = J_mag\n",
    "        cmap='viridis'\n",
    "    if back == 'Frictional Heating':\n",
    "        background = Frictional\n",
    "        cmap='jet'\n",
    "    if back == 'Ohmic Heating':\n",
    "        background = Ohmic_heating_Out\n",
    "        cmap='jet'\n",
    "    if back == 'Convenction Heating':\n",
    "        background = Convenction_heating_Out\n",
    "        cmap='jet'\n",
    "    if back == 'Wind Heating':\n",
    "        background = Wind_heating_Out\n",
    "        cmap='jet'\n",
    "    if back == 'Energy':\n",
    "        background = Energy_Out\n",
    "        cmap='jet'\n",
    "    if back == 'Mechanical Power':\n",
    "        background = Mechanical_power_Out\n",
    "        cmap='jet'\n",
    "    if back == 'Ion Drift':\n",
    "        background = vi_mag\n",
    "        cmap='ocean'\n",
    "    if back == 'Parallel':\n",
    "        background = sigma_par\n",
    "        cmap='afmhot'\n",
    "\n",
    "    \n",
    "    if vec == 'Electric Field':\n",
    "        Veast=Evertx\n",
    "        Vnorth=Everty\n",
    "    if vec == 'Magnetic Field':\n",
    "        Veast=Bxf\n",
    "        Vnorth=Byf\n",
    "    if vec == 'Pedersen Current':\n",
    "        Veast=J_Pede\n",
    "        Vnorth=J_Pedn\n",
    "    if vec == 'Hall Current':\n",
    "        Veast=J_Halle\n",
    "        Vnorth=J_Halln\n",
    "    if vec == 'Perpendicular Current':\n",
    "        Veast=J_Ohme\n",
    "        Vnorth=J_Ohmn\n",
    "    if vec == 'Ion Velocity':\n",
    "        Veast=vi_starxf\n",
    "        Vnorth=vi_staryf\n",
    "    if vec == 'Neutral Winds':\n",
    "        Veast=Unef\n",
    "        Vnorth=Unnf\n",
    "    if vec == 'JxB':\n",
    "        Veast=JxBe\n",
    "        Vnorth=JxBn\n",
    "    \n",
    "        \n",
    "    Ee2,lonsout=addcyclic(Veast,x_value)\n",
    "    En2,lonsout=addcyclic(Vnorth,x_value)\n",
    "    \n",
    "    \n",
    "    \n",
    "    \n",
    "    Potf2, lonsout=addcyclic(background,x_value)\n",
    "    lonsout,parameter=m.shiftdata(lonsout, datain = Potf2, lon_0=0)\n",
    "    \n",
    "    lon, lat = np.meshgrid(lonsout,y_value)\n",
    "    \n",
    "    \n",
    "\n",
    "    x, y = m(lon, lat)\n",
    "\n",
    "    \n",
    "    fig = plt.figure(figsize=(15,15))\n",
    "    m.drawcoastlines()\n",
    "    m.drawparallels(np.arange(-80.,81.,20.))\n",
    "    m.drawmeridians(np.arange(-180.,181.,20.))\n",
    "    m.drawmapboundary(fill_color='white')\n",
    " \n",
    "    \n",
    "    Eeproj,Enproj,xx,yy = m.transform_vector(Ee2,En2,lonsout,y_value,144,72,returnxy=True,masked=True)\n",
    "    \n",
    "    Emag=np.sqrt(Eeproj**2+Enproj**2)\n",
    "    \n",
    "    if ploting == 'Streamplot':\n",
    "        cf=m.contourf(x,y,Potf2,50,cmap=cmap)\n",
    "        cbar=plt.colorbar(cf,fraction=0.046, pad=0.04)\n",
    "        if back == 'Potential':\n",
    "            cbar.ax.set_ylabel('Electric Potential (V)', rotation=270, size=20, labelpad=30)\n",
    "        if back == 'Joule Heating':\n",
    "            cbar.ax.set_ylabel('Joule Heating ($mW/m^{3}$)', rotation=270, size=20, labelpad=30)\n",
    "        if back == 'Frictional Heating':\n",
    "            cbar.ax.set_ylabel('Frictional Heating ($mW/m^{3}$)', rotation=270, size=20, labelpad=30)\n",
    "        if back == 'Ohmic Heating':\n",
    "            cbar.ax.set_ylabel('Ohmic Heating ($mW/m^{3}$)', rotation=270, size=20, labelpad=30)\n",
    "        if back == 'Convenction Heating':\n",
    "            cbar.ax.set_ylabel('Convenction Heating ($mW/m^{3}$)', rotation=270, size=20, labelpad=30)\n",
    "        if back == 'Wind Heating':\n",
    "            cbar.ax.set_ylabel('Wind Heating ($mW/m^{3}$)', rotation=270, size=20, labelpad=30)\n",
    "        if back == 'Mechanical Power':\n",
    "            cbar.ax.set_ylabel('Mechanical Power ($mW/m^{3}$)', rotation=270, size=20, labelpad=30)\n",
    "        if back == 'Energy':\n",
    "            cbar.ax.set_ylabel('Energy Dissipation/Generation ($mW/m^{3}$)', rotation=270, size=20, labelpad=30)\n",
    "        if back == 'Ion Drift':\n",
    "            cbar.ax.set_ylabel('Ion Drift($m/s$)', rotation=270, size=20, labelpad=30)\n",
    "        if back == 'Pedersen':\n",
    "            cbar.ax.set_ylabel('Penersen Conductivity ($10^{-5} mho/m$)', rotation=270, size=20, labelpad=30)\n",
    "        if back == 'Hall':\n",
    "            cbar.ax.set_ylabel('Hall Conductivity ($10^{-5} mho/m$)', rotation=270, size=20, labelpad=30)\n",
    "        if back == 'Parallel':\n",
    "            cbar.ax.set_ylabel('Parallel Conductivity ($10^{-5} mho/m$)', rotation=270, size=20, labelpad=30)\n",
    "        if back == 'Current':\n",
    "            cbar.ax.set_ylabel('Current Density ($A/m^{2}$)', rotation=270, size=20, labelpad=30)\n",
    "            \n",
    "            \n",
    "            \n",
    "            \n",
    "    if ploting == 'Vector':\n",
    "        cf=m.contourf(x,y,Potf2,50,cmap=cmap)\n",
    "        cbar=plt.colorbar(cf,fraction=0.046, pad=0.04)\n",
    "        if back == 'Potential':\n",
    "            cbar.ax.set_ylabel('Electric Potential (V)', rotation=270, size=20, labelpad=30)\n",
    "        if back == 'Joule Heating':\n",
    "            cbar.ax.set_ylabel('Joule Heating ($mW/m^{3}$)', rotation=270, size=20, labelpad=30)\n",
    "        if back == 'Frictional Heating':\n",
    "            cbar.ax.set_ylabel('Frictional Heating ($mW/m^{3}$)', rotation=270, size=20, labelpad=30)\n",
    "        if back == 'Ohmic Heating':\n",
    "            cbar.ax.set_ylabel('Ohmic Heating ($mW/m^{3}$)', rotation=270, size=20, labelpad=30)\n",
    "        if back == 'Convenction Heating':\n",
    "            cbar.ax.set_ylabel('Convenction Heating ($mW/m^{3}$)', rotation=270, size=20, labelpad=30)\n",
    "        if back == 'Wind Heating':\n",
    "            cbar.ax.set_ylabel('Wind Heating ($mW/m^{3}$)', rotation=270, size=20, labelpad=30)\n",
    "        if back == 'Mechanical Power':\n",
    "            cbar.ax.set_ylabel('Mechanical Power ($mW/m^{3}$)', rotation=270, size=20, labelpad=30)\n",
    "        if back == 'Energy':\n",
    "            cbar.ax.set_ylabel('Energy Dissipation/Generation ($mW/m^{3}$)', rotation=270, size=20, labelpad=30)\n",
    "        if back == 'Ion Drift':\n",
    "            cbar.ax.set_ylabel('Ion Drift($m/s$)', rotation=270, size=20, labelpad=30)\n",
    "        if back == 'Pedersen':\n",
    "            cbar.ax.set_ylabel('Penersen Conductivity ($10^{-5} mho/m$)', rotation=270, size=20, labelpad=30)\n",
    "        if back == 'Hall':\n",
    "            cbar.ax.set_ylabel('Hall Conductivity ($10^{-5} mho/m$)', rotation=270, size=20, labelpad=30)\n",
    "        if back == 'Parallel':\n",
    "            cbar.ax.set_ylabel('Parallel Conductivity ($10^{-5} mho/m$)', rotation=270, size=20, labelpad=30)\n",
    "        if back == 'Current':\n",
    "            cbar.ax.set_ylabel('Current Density ($A/m^{2}$)', rotation=270, size=20, labelpad=30)\n",
    "    \n",
    "   \n",
    "    if ploting == 'Vector':\n",
    "        vecplot=m.quiver(xx[::2],yy[::2],Eeproj[::2],Enproj[::2],units='width')\n",
    "        if vec == 'Neutral Winds':\n",
    "            qk = plt.quiverkey(vecplot, 0.1, 0.01, 200, '200 m/s', labelpos='W',fontproperties={'size': 20})\n",
    "            fig.text(0.1, 0.85, 'Neutral Winds', fontsize=25, fontweight='bold')\n",
    "        if vec == 'Ion Velocity':\n",
    "            qk = plt.quiverkey(vecplot, 0.1, 0.01, 200, '200 m/s', labelpos='W',fontproperties={'size': 20})\n",
    "            fig.text(0.1, 0.85, 'Ion Velocity', fontsize=25, fontweight='bold')\n",
    "        if vec == 'Electric Field':\n",
    "            qk = plt.quiverkey(vecplot, 0.1, 0.01, 0.1, '0.1 V/m', labelpos='W',fontproperties={'size': 20})\n",
    "            fig.text(0.1, 0.85, 'Electric Field', fontsize=25, fontweight='bold')\n",
    "        if vec == 'Pedersen Current':\n",
    "            qk = plt.quiverkey(vecplot, 0.1, 0.01, 10**(-5), '$10^{-5}$ $A/m^{2}$', labelpos='W',fontproperties={'size': 20})\n",
    "            fig.text(0.1, 0.87, 'Pedersen current density', fontsize=25, fontweight='bold')\n",
    "        if vec == 'Hall Current':\n",
    "            qk = plt.quiverkey(vecplot, 0.1, 0.01, 10**(-6), '$10^{-6}$ $A/m^{2}$', labelpos='W',fontproperties={'size': 20})\n",
    "            fig.text(0.1, 0.87, 'Hall current density', fontsize=25, fontweight='bold')\n",
    "        if vec == 'Peprendicular Current':\n",
    "#             qk = plt.quiverkey(vecplot, 0.1, 0.01, 10**(-6), '$10^{-6}$ $A/m^{2}$', labelpos='W',fontproperties={'size': 20})\n",
    "            fig.text(0.1, 0.87, 'Perpendicular current density', fontsize=25, fontweight='bold')\n",
    "        if vec == 'JxB':\n",
    "#             qk = plt.quiverkey(vecplot, 0.1, 0.01, 10**(-6), '$10^{-6}$ $N/m^{3}$', labelpos='W',fontproperties={'size': 20})\n",
    "            fig.text(0.1, 0.87, 'JxB', fontsize=25, fontweight='bold')\n",
    "        if vec == 'Magnetic Field':\n",
    "#             qk = plt.quiverkey(vecplot, 0.1, 0.01, 10**(-9), '$10^{-9}$ $T$', labelpos='W',fontproperties={'size': 20})\n",
    "            fig.text(0.1, 0.87, 'Magnetic Field', fontsize=25, fontweight='bold')\n",
    "\n",
    "\n",
    "    if ploting == 'Streamplot':\n",
    "        m.streamplot(xx,yy,Eeproj,Enproj, density=[3, 3],linewidth=2)\n",
    "        if vec == 'Neutral Winds':\n",
    "            fig.text(0.1, 0.85, 'Neutral Winds', fontsize=25, fontweight='bold')\n",
    "        if vec == 'Ion Velocity':\n",
    "             fig.text(0.1, 0.85, 'Ion Velocity', fontsize=25, fontweight='bold')\n",
    "        if vec == 'Electric Field':\n",
    "             fig.text(0.1, 0.85, 'Electric Field', fontsize=25, fontweight='bold')\n",
    "        if vec == 'Pedersen Current':\n",
    "             fig.text(0.1, 0.87, 'Pedersen current density', fontsize=25, fontweight='bold')\n",
    "        if vec == 'Hall Current':\n",
    "             fig.text(0.1, 0.87, 'Hall current density', fontsize=25, fontweight='bold')\n",
    "        if vec == 'Peprendicular Current':\n",
    "             fig.text(0.1, 0.87, 'Perpendicular current density', fontsize=25, fontweight='bold')\n",
    "        if vec == 'JxB':\n",
    "             fig.text(0.1, 0.87, 'JxB', fontsize=25, fontweight='bold')\n",
    "        if vec == 'Magnetic Field':\n",
    "             fig.text(0.1, 0.87, 'Magnetic Field', fontsize=25, fontweight='bold')\n",
    "        \n",
    "    if night_checkbox.value == True:\n",
    "        m.nightshade(time_plot)\n",
    "    \n",
    "def Joule_ortho_plot(param, center_lat,center_lon,timer):\n",
    "    x_value=maplon[:]\n",
    "    y_value=maplat[:]\n",
    "    \n",
    "    time_begin=datetime.datetime(2015,3,15,0,0,0)\n",
    "    time_plot=time_begin+datetime.timedelta(minutes=maptime[timer])\n",
    "    \n",
    "    \n",
    "    if param == 'Pedersen':\n",
    "        parameter = sigmaPedf\n",
    "    if param == 'Joule Heating':\n",
    "        parameter = Joule\n",
    "    if param == 'Hall':\n",
    "        parameter = sigmaHallf\n",
    "    if param == 'O':\n",
    "        parameter = NOf\n",
    "    if param == 'O2':\n",
    "        parameter = NO2f\n",
    "    if param == 'N2':\n",
    "        parameter = NN2f\n",
    "    if param == 'Ne':\n",
    "        parameter = Nef\n",
    "    if param == 'Potential':\n",
    "        parameter = Potf\n",
    "    if param == 'Frictional Heating':\n",
    "        parameter = Frictional\n",
    "    if param == 'Ohmic Heating':\n",
    "        parameter = Ohmic_heating_Out\n",
    "    if param == 'Convenction Heating':\n",
    "        parameter = Convenction_heating_Out\n",
    "    if param == 'Wind Heating':\n",
    "        parameter = Wind_heating_Out\n",
    "    if param == 'Energy':\n",
    "        parameter = Energy_Out\n",
    "    if param == 'Mechanical Power':\n",
    "        parameter = Mechanical_power_Out\n",
    "    if param == 'Ti':\n",
    "        parameter = Ti_Out\n",
    "    if param == 'Te':\n",
    "        parameter = Te_Out\n",
    "    if param == 'Tn':\n",
    "        parameter = Tn_Out\n",
    "    if param == 'νO+n':\n",
    "        parameter = vOpf\n",
    "    if param == 'νO2+n':\n",
    "        parameter = vO2pf\n",
    "    if param == 'νin':\n",
    "        parameter = vinf\n",
    "    if param == 'νen':\n",
    "        parameter = venf\n",
    "    if param == 'σO+n':\n",
    "        parameter = cross_section \n",
    "    if param == 'Parallel':\n",
    "        parameter = sigma_par\n",
    "               \n",
    "\n",
    "    m = Basemap(projection='ortho',lat_0=center_lat,lon_0=center_lon,resolution='l')\n",
    "    parameter, lons=addcyclic(parameter,x_value)\n",
    "    lons, parameter = m.shiftdata(lons, datain = parameter, lon_0=0)\n",
    "    \n",
    "    lon, lat = np.meshgrid(lons,y_value)\n",
    "    x, y = m(lon, lat)\n",
    "    fig = plt.figure(figsize=(17,7))\n",
    "#     m.fillcontinents(color='gray',lake_color='gray')\n",
    "    m.drawcoastlines()\n",
    "#     m.bluemarble()\n",
    "    m.drawparallels(np.arange(-80.,81.,20.))\n",
    "    m.drawmeridians(np.arange(-180.,181.,20.))\n",
    "    m.drawmapboundary(fill_color='white')\n",
    "    m.bluemarble()\n",
    "    if night_checkbox.value == True:\n",
    "        CS=m.nightshade(time_plot)\n",
    "    if param == 'Joule Heating':\n",
    "        cs = m.contourf(x,y,parameter,60,cmap='jet')\n",
    "        plt.title(\"Joule Heating Rate (mW/m^3)- %s\" % time_plot.strftime(\"%d %b %Y %H:%M:%S\"))\n",
    "        \n",
    "    if param == 'Frictional Heating':\n",
    "        cs = m.contourf(x,y,parameter,60,cmap='jet')\n",
    "        plt.title(\"Frictional Heating Rate (mW/m^3) - %s\" % time_plot.strftime(\"%d %b %Y %H:%M:%S\"))\n",
    "    if param == 'Ohmic Heating':\n",
    "        cs = m.contourf(x,y,parameter,60,cmap='jet')\n",
    "        plt.title(\"Ohmic Heating Rate (mW/m^3) - %s\" % time_plot.strftime(\"%d %b %Y %H:%M:%S\"))\n",
    "    if param == 'Convenction Heating':\n",
    "        cs = m.contourf(x,y,parameter,60,cmap='jet')\n",
    "        plt.title(\"Convenction Heating Rate (mW/m^3) - %s\" % time_plot.strftime(\"%d %b %Y %H:%M:%S\"))\n",
    "    if param == 'Wind Heating':\n",
    "        cs = m.contourf(x,y,parameter,60,cmap='jet')\n",
    "        plt.title(\"Wind Heating Rate (mW/m^3) - %s\" % time_plot.strftime(\"%d %b %Y %H:%M:%S\"))\n",
    "    if param == 'Energy':\n",
    "        cs = m.contourf(x,y,parameter,60,cmap='jet')\n",
    "        plt.title(\"Energy Dissipation/Generation (mW/m^3) - %s\" % time_plot.strftime(\"%d %b %Y %H:%M:%S\"))\n",
    "    if param == 'Mechanical Power':\n",
    "        cs = m.contourf(x,y,parameter,60,cmap='jet')\n",
    "        plt.title(\"Mechanical Power (mW/m^3) - %s\" % time_plot.strftime(\"%d %b %Y %H:%M:%S\")) \n",
    "        \n",
    "    if param == 'Ti':\n",
    "        cs = m.contourf(x,y,parameter,60,cmap='gnuplot')\n",
    "        plt.title(\"Ion Temperature (K) - %s\" % time_plot.strftime(\"%d %b %Y %H:%M:%S\"))\n",
    "    if param == 'Te':\n",
    "        cs = m.contourf(x,y,parameter,60,cmap='gnuplot')\n",
    "        plt.title(\"Electron Temeperature (K) - %s\" % time_plot.strftime(\"%d %b %Y %H:%M:%S\"))\n",
    "    if param == 'Tn':\n",
    "        cs = m.contourf(x,y,parameter,60,cmap='gnuplot')\n",
    "        plt.title(\"Neutral Temperature (K) - %s\" % time_plot.strftime(\"%d %b %Y %H:%M:%S\"))\n",
    "    if param == 'νO+n':\n",
    "        cs = m.contourf(x,y,parameter,60,cmap='CMRmap')\n",
    "        plt.title(\"O+-Neutral collision frequency (Hz) - %s\" % time_plot.strftime(\"%d %b %Y %H:%M:%S\"))\n",
    "    if param == 'νO2+n':\n",
    "        cs = m.contourf(x,y,parameter,60,cmap='CMRmap')\n",
    "        plt.title(\"O2+-Neutral collision frequency (Hz) - %s\" % time_plot.strftime(\"%d %b %Y %H:%M:%S\"))\n",
    "    if param == 'νin':\n",
    "        cs = m.contourf(x,y,parameter,60,cmap='CMRmap')\n",
    "        plt.title(\"Ion-Neutral collision frequency (Hz) - %s\" % time_plot.strftime(\"%d %b %Y %H:%M:%S\"))\n",
    "    if param == 'νen':\n",
    "        cs = m.contourf(x,y,parameter,60,cmap='CMRmap')\n",
    "        plt.title(\"Electron-Neutral collision frequency (Hz) - %s\" % time_plot.strftime(\"%d %b %Y %H:%M:%S\"))\n",
    "    if param == 'σO+n':\n",
    "        cs = m.contourf(x,y,parameter,60,cmap='CMRmap')\n",
    "        plt.title(\"O+ cross section (m^2) - %s\" % time_plot.strftime(\"%d %b %Y %H:%M:%S\"))\n",
    "    if param == 'Parallel':\n",
    "        cs = m.contourf(x,y,parameter,60,cmap='afmhot')\n",
    "        plt.title(\"Parallel Conductivity (Si/m) - %s\" % time_plot.strftime(\"%d %b %Y %H:%M:%S\"))\n",
    "        \n",
    "    if param == 'Pedersen':\n",
    "        cs = m.contourf(x,y,parameter,60,cmap='afmhot')\n",
    "        plt.title(\"Pendersen Conductivity ($10^{-5}$ mho/m)- %s\" % time_plot.strftime(\"%d %b %Y %H:%M:%S\"))\n",
    "    if param == 'Hall':\n",
    "        cs = m.contourf(x,y,parameter,60,cmap='afmhot')\n",
    "        plt.title(\"Hall Conductivity ($10^{-5}$ mho/m)- %s\" % time_plot.strftime(\"%d %b %Y %H:%M:%S\"))\n",
    "    if param == 'O':\n",
    "        cs = m.contourf(x,y,parameter,60,cmap='cubehelix')\n",
    "        plt.title(\"O ($m_{-3}$)- %s\" % time_plot.strftime(\"%d %b %Y %H:%M:%S\"))\n",
    "    if param == 'O2':\n",
    "        cs = m.contourf(x,y,parameter,60,cmap='cubehelix')\n",
    "        plt.title(\"$O_{2}$ ($m^{-3}$)- %s\" % time_plot.strftime(\"%d %b %Y %H:%M:%S\"))\n",
    "    if param == 'N2':\n",
    "        cs = m.contourf(x,y,parameter,60,cmap='cubehelix')\n",
    "        plt.title(\"$N_{2}$ ($m^{-3}$)- %s\" % time_plot.strftime(\"%d %b %Y %H:%M:%S\"))\n",
    "    if param == 'Ne':\n",
    "        cs = m.contourf(x,y,parameter,60,cmap='cubehelix')\n",
    "        plt.title(\"Electron Density ($m^{-3}$)- %s\" % time_plot.strftime(\"%d %b %Y %H:%M:%S\"))\n",
    "    if param == 'Potential':\n",
    "        cs = m.contourf(x,y,parameter,60,cmap='BrBG')\n",
    "        plt.title(\"Electirc Potential (kV)- %s\" % time_plot.strftime(\"%d %b %Y %H:%M:%S\"))\n",
    "        \n",
    "    plt.colorbar();\n",
    "\n",
    "def Joule_polar_plot(param, Bound_lat, orbit_file,timer):\n",
    "    \n",
    "    x_value=maplon[:]\n",
    "    y_value=maplat[:]\n",
    "    time_begin=datetime.datetime(2015,3,15,0,0,0)\n",
    "    time_plot=time_begin+datetime.timedelta(minutes=maptime[timer])\n",
    "    \n",
    "    if param == 'Pedersen':\n",
    "        parameter = sigmaPedf\n",
    "    if param == 'Joule Heating':\n",
    "        parameter = Joule\n",
    "    if param == 'Hall':\n",
    "        parameter = sigmaHallf\n",
    "    if param == 'O':\n",
    "        parameter = NOf\n",
    "    if param == 'O2':\n",
    "        parameter = NO2f\n",
    "    if param == 'N2':\n",
    "        parameter = NN2f\n",
    "    if param == 'Ne':\n",
    "        parameter = Nef\n",
    "    if param == 'Potential':\n",
    "        parameter = Potf\n",
    "    if param == 'Frictional Heating':\n",
    "        parameter = Frictional\n",
    "    if param == 'Ohmic Heating':\n",
    "        parameter = Ohmic_heating_Out\n",
    "    if param == 'Convenction Heating':\n",
    "        parameter = Convenction_heating_Out\n",
    "    if param == 'Wind Heating':\n",
    "        parameter = Wind_heating_Out\n",
    "    if param == 'Energy':\n",
    "        parameter = Energy_Out\n",
    "    if param == 'Mechanical Power':\n",
    "        parameter = Mechanical_power_Out       \n",
    "    if param == 'Ti':\n",
    "        parameter = Ti_Out\n",
    "    if param == 'Te':\n",
    "        parameter = Te_Out\n",
    "    if param == 'Tn':\n",
    "        parameter = Tn_Out\n",
    "    if param == 'νO+n':\n",
    "        parameter = vOpf\n",
    "    if param == 'νO2+n':\n",
    "        parameter = vO2pf\n",
    "    if param == 'νin':\n",
    "        parameter = vinf\n",
    "    if param == 'νen':\n",
    "        parameter = venf\n",
    "    if param == 'σO+n':\n",
    "        parameter = cross_section  \n",
    "    if param == 'Parallel':\n",
    "        parameter = sigma_par\n",
    "        \n",
    "    \n",
    "    #m.fillcontinents(color='gray',lake_color='gray')\n",
    "    m = Basemap(projection='npstere',boundinglat=Bound_lat,lon_0=0,resolution='l', round=True,)\n",
    "    parameter, lons=addcyclic(parameter,x_value)\n",
    "    lons, parameter = m.shiftdata(lons, datain = parameter, lon_0=0)\n",
    "    \n",
    "    lon, lat = np.meshgrid(lons,y_value)\n",
    "    x, y = m(lon, lat)\n",
    "    fig = plt.figure(figsize=(15,7))\n",
    "    #m.fillcontinents(color='gray',lake_color='gray')\n",
    "    m.drawcoastlines()\n",
    "    m.drawparallels(np.arange(-80.,81.,20.))\n",
    "    m.drawmeridians(np.arange(-180.,181.,20.))\n",
    "    m.drawmapboundary(fill_color='white')\n",
    "    \n",
    "   \n",
    "    if param == 'Joule Heating':\n",
    "        cs = m.contourf(x,y,parameter,60,cmap='jet')\n",
    "        plt.colorbar();\n",
    "        \n",
    "    if param == 'Frictional Heating':\n",
    "        cs = m.contourf(x,y,parameter,60,cmap='jet')\n",
    "        plt.colorbar();\n",
    "    if param == 'Ohmic Heating':\n",
    "        cs = m.contourf(x,y,parameter,60,cmap='jet')\n",
    "        plt.colorbar();\n",
    "    if param == 'Convenction Heating':\n",
    "        cs = m.contourf(x,y,parameter,60,cmap='jet')\n",
    "        plt.colorbar();\n",
    "    if param == 'Wind Heating':\n",
    "        cs = m.contourf(x,y,parameter,60,cmap='jet')\n",
    "        plt.colorbar();\n",
    "    if param == 'Energy':\n",
    "        cs = m.contourf(x,y,parameter,60,cmap='jet')\n",
    "        plt.colorbar();\n",
    "    if param == 'Mechanical Power':\n",
    "        cs = m.contourf(x,y,parameter,60,cmap='jet')\n",
    "        plt.colorbar(); \n",
    "    if param == 'Ti':\n",
    "        cs = m.contourf(x,y,parameter,60,cmap='gnuplot')\n",
    "        plt.colorbar(); \n",
    "    if param == 'Te':\n",
    "        cs = m.contourf(x,y,parameter,60,cmap='gnuplot')\n",
    "        plt.colorbar(); \n",
    "    if param == 'Tn':\n",
    "        cs = m.contourf(x,y,parameter,60,cmap='gnuplot')\n",
    "        plt.colorbar(); \n",
    "    if param == 'νO+n':\n",
    "        cs = m.contourf(x,y,parameter,60,cmap='CMRmap')\n",
    "        plt.colorbar(); \n",
    "    if param == 'νO2+n':\n",
    "        cs = m.contourf(x,y,parameter,60,cmap='CMRmap')\n",
    "        plt.colorbar(); \n",
    "    if param == 'νin':\n",
    "        cs = m.contourf(x,y,parameter,60,cmap='CMRmap')\n",
    "        plt.colorbar(); \n",
    "    if param == 'νen':\n",
    "        cs = m.contourf(x,y,parameter,60,cmap='CMRmap')\n",
    "        plt.colorbar(); \n",
    "    if param == 'σO+n':\n",
    "        cs = m.contourf(x,y,parameter,60,cmap='CMRmap')\n",
    "        plt.colorbar(); \n",
    "    if param == 'Parallel':\n",
    "        cs = m.contourf(x,y,parameter,60,cmap='afmhot')\n",
    "        plt.colorbar(); \n",
    "\n",
    "    if param == 'Pedersen':\n",
    "        cs = m.contourf(x,y,parameter,60,cmap='afmhot')\n",
    "        plt.colorbar();\n",
    "    if param == 'Hall':\n",
    "        cs = m.contourf(x,y,parameter,60,cmap='afmhot')\n",
    "        plt.colorbar();\n",
    "    if param == 'O':\n",
    "        cs = m.contourf(x,y,parameter,60,cmap='cubehelix')\n",
    "        plt.colorbar();\n",
    "    if param == 'O2':\n",
    "        cs = m.contourf(x,y,parameter,60,cmap='cubehelix')\n",
    "        plt.colorbar();\n",
    "    if param == 'N2':\n",
    "        cs = m.contourf(x,y,parameter,60,cmap='cubehelix')\n",
    "        plt.colorbar();\n",
    "    if param == 'Ne':\n",
    "        cs = m.contourf(x,y,parameter,60,cmap='cubehelix')\n",
    "        plt.colorbar();\n",
    "    if param == 'Potential':\n",
    "        cs = m.contourf(x,y,parameter,60,cmap='BrBG')\n",
    "        plt.colorbar();\n",
    "        m.contour(x,y,parameter,20,alpha=0.7, colors='k')\n",
    "   \n",
    "  \n",
    "   \n",
    "    if night_checkbox.value == True:\n",
    "        CS=m.nightshade(time_plot, alpha=0.3)\n",
    "#     cbJH=plt.colorbar();\n",
    "    \n",
    "    if orbit_checkbox.value == True:\n",
    "        input_file=pd.read_csv(orbit_file,sep=',')\n",
    "        daed_lat=np.array(input_file['Lat_GEOD(deg)'], dtype=float)\n",
    "        daed_lon=np.array(input_file['Lon_GEOD(deg)'], dtype=float)\n",
    "        daed_alt=np.array(input_file['Height_WGS84 (km)'], dtype=float)\n",
    "        daed_x,daed_y=m(daed_lon,daed_lat)\n",
    "        m.scatter(daed_x,daed_y,c='k', s=7,marker='o')\n",
    "        \n",
    "#         plt.scatter(daed_x,daed_y,c=daed_alt, cmap='afmhot', s=10,marker='o')\n",
    "#         cb=plt.colorbar();\n",
    "#         cb.set_label('Daedalus Altitude (km)')\n",
    "        \n",
    "    if param == 'Joule Heating':\n",
    "#         plt.title(\"Joule Heating Rate (mW/m^3)_North Pole- %s\" % time_plot.strftime(\"%d %b %Y %H:%M:%S\"))\n",
    "#         cbJH.set_label('Joule Heating Rate [$mW/m^{3}$]')\n",
    "        fig.text(0.35, 0.90, 'Joule Heating Rate', fontsize=17, fontweight='bold')\n",
    "        fig.text(0.35, 0.13, \"%s\" % time_plot.strftime(\"%d %b %Y\"), fontsize=15)\n",
    "        fig.text(0.68, 0.13, \"%s\" % time_plot.strftime(\"%H:%M:%S\"), fontsize=15)\n",
    "        fig.text(0.68, 0.90, \"[$mW/m^{3}$]\" , fontsize=17)\n",
    "        \n",
    "    if param == 'Frictional Heating':\n",
    "        fig.text(0.35, 0.90, 'Frictional Heating Rate', fontsize=17, fontweight='bold')\n",
    "        fig.text(0.35, 0.13, \"%s\" % time_plot.strftime(\"%d %b %Y\"), fontsize=15)\n",
    "        fig.text(0.68, 0.13, \"%s\" % time_plot.strftime(\"%H:%M:%S\"), fontsize=15)\n",
    "        fig.text(0.68, 0.90, \"[$mW/m^{3}$]\" , fontsize=17)\n",
    "    if param == 'Ohmic Heating':\n",
    "        fig.text(0.35, 0.90, 'Ohmic Heating Rate', fontsize=17, fontweight='bold')\n",
    "        fig.text(0.35, 0.13, \"%s\" % time_plot.strftime(\"%d %b %Y\"), fontsize=15)\n",
    "        fig.text(0.68, 0.13, \"%s\" % time_plot.strftime(\"%H:%M:%S\"), fontsize=15)\n",
    "        fig.text(0.68, 0.90, \"[$mW/m^{3}$]\" , fontsize=17)\n",
    "    if param == 'Convenction Heating':\n",
    "        fig.text(0.35, 0.90, 'Convenction Heating Rate', fontsize=17, fontweight='bold')\n",
    "        fig.text(0.35, 0.13, \"%s\" % time_plot.strftime(\"%d %b %Y\"), fontsize=15)\n",
    "        fig.text(0.68, 0.13, \"%s\" % time_plot.strftime(\"%H:%M:%S\"), fontsize=15)\n",
    "        fig.text(0.68, 0.90, \"[$mW/m^{3}$]\" , fontsize=17)\n",
    "    if param == 'Wind Heating':\n",
    "        fig.text(0.35, 0.90, 'Wind Heating Rate', fontsize=17, fontweight='bold')\n",
    "        fig.text(0.35, 0.13, \"%s\" % time_plot.strftime(\"%d %b %Y\"), fontsize=15)\n",
    "        fig.text(0.68, 0.13, \"%s\" % time_plot.strftime(\"%H:%M:%S\"), fontsize=15)\n",
    "        fig.text(0.68, 0.90, \"[$mW/m^{3}$]\" , fontsize=17)\n",
    "    if param == 'Energy':\n",
    "        fig.text(0.35, 0.90, 'Energy Dissipation/Generation', fontsize=17, fontweight='bold')\n",
    "        fig.text(0.35, 0.13, \"%s\" % time_plot.strftime(\"%d %b %Y\"), fontsize=15)\n",
    "        fig.text(0.68, 0.13, \"%s\" % time_plot.strftime(\"%H:%M:%S\"), fontsize=15)\n",
    "        fig.text(0.68, 0.90, \"[$mW/m^{3}$]\" , fontsize=17)\n",
    "    if param == 'Mechanical Power':\n",
    "        fig.text(0.35, 0.90, 'Mechanical Power Rate', fontsize=17, fontweight='bold')\n",
    "        fig.text(0.35, 0.13, \"%s\" % time_plot.strftime(\"%d %b %Y\"), fontsize=15)\n",
    "        fig.text(0.68, 0.13, \"%s\" % time_plot.strftime(\"%H:%M:%S\"), fontsize=15)\n",
    "        fig.text(0.68, 0.90, \"[$mW/m^{3}$]\" , fontsize=17)  \n",
    "        \n",
    "    if param == 'Ti':\n",
    "        fig.text(0.35, 0.90, 'Ion Temperature', fontsize=17, fontweight='bold')\n",
    "        fig.text(0.35, 0.13, \"%s\" % time_plot.strftime(\"%d %b %Y\"), fontsize=15)\n",
    "        fig.text(0.68, 0.13, \"%s\" % time_plot.strftime(\"%H:%M:%S\"), fontsize=15)\n",
    "        fig.text(0.68, 0.90, \"[$K$]\" , fontsize=17)  \n",
    "    if param == 'Te':\n",
    "        fig.text(0.35, 0.90, 'Electron Temperature', fontsize=17, fontweight='bold')\n",
    "        fig.text(0.35, 0.13, \"%s\" % time_plot.strftime(\"%d %b %Y\"), fontsize=15)\n",
    "        fig.text(0.68, 0.13, \"%s\" % time_plot.strftime(\"%H:%M:%S\"), fontsize=15)\n",
    "        fig.text(0.68, 0.90, \"[$K$]\" , fontsize=17)  \n",
    "    if param == 'Tn':\n",
    "        fig.text(0.35, 0.90, 'Neutral Temperature', fontsize=17, fontweight='bold')\n",
    "        fig.text(0.35, 0.13, \"%s\" % time_plot.strftime(\"%d %b %Y\"), fontsize=15)\n",
    "        fig.text(0.68, 0.13, \"%s\" % time_plot.strftime(\"%H:%M:%S\"), fontsize=15)\n",
    "        fig.text(0.68, 0.90, \"[$mW/m^{3}$]\" , fontsize=17)  \n",
    "    if param == 'νO+n':\n",
    "        fig.text(0.35, 0.90, 'O+ Collision Frequency', fontsize=17, fontweight='bold')\n",
    "        fig.text(0.35, 0.13, \"%s\" % time_plot.strftime(\"%d %b %Y\"), fontsize=15)\n",
    "        fig.text(0.68, 0.13, \"%s\" % time_plot.strftime(\"%H:%M:%S\"), fontsize=15)\n",
    "        fig.text(0.68, 0.90, \"[$Hz$]\" , fontsize=17)  \n",
    "    if param == 'νO2+n':\n",
    "        fig.text(0.35, 0.90, 'O2+ Collision Frequency', fontsize=17, fontweight='bold')\n",
    "        fig.text(0.35, 0.13, \"%s\" % time_plot.strftime(\"%d %b %Y\"), fontsize=15)\n",
    "        fig.text(0.68, 0.13, \"%s\" % time_plot.strftime(\"%H:%M:%S\"), fontsize=15)\n",
    "        fig.text(0.68, 0.90, \"[$Hz$]\" , fontsize=17)  \n",
    "    if param == 'νin':\n",
    "        fig.text(0.35, 0.90, 'Ion-Neutral Collision Frequency', fontsize=17, fontweight='bold')\n",
    "        fig.text(0.35, 0.13, \"%s\" % time_plot.strftime(\"%d %b %Y\"), fontsize=15)\n",
    "        fig.text(0.68, 0.13, \"%s\" % time_plot.strftime(\"%H:%M:%S\"), fontsize=15)\n",
    "        fig.text(0.68, 0.90, \"[$Hz$]\" , fontsize=17)  \n",
    "    if param == 'νen':\n",
    "        fig.text(0.35, 0.90, 'Electron-Neutral Collision Frequency', fontsize=17, fontweight='bold')\n",
    "        fig.text(0.35, 0.13, \"%s\" % time_plot.strftime(\"%d %b %Y\"), fontsize=15)\n",
    "        fig.text(0.68, 0.13, \"%s\" % time_plot.strftime(\"%H:%M:%S\"), fontsize=15)\n",
    "        fig.text(0.68, 0.90, \"[$Hz$]\" , fontsize=17)  \n",
    "    if param == 'σO+n':\n",
    "        fig.text(0.35, 0.90, 'O+ Cross Section', fontsize=17, fontweight='bold')\n",
    "        fig.text(0.35, 0.13, \"%s\" % time_plot.strftime(\"%d %b %Y\"), fontsize=15)\n",
    "        fig.text(0.68, 0.13, \"%s\" % time_plot.strftime(\"%H:%M:%S\"), fontsize=15)\n",
    "        fig.text(0.68, 0.90, \"[$m^{2}$]\" , fontsize=17)  \n",
    "    if param == 'Parallel':\n",
    "        fig.text(0.35, 0.90, 'Pendersen Conductivity', fontsize=17, fontweight='bold')\n",
    "        fig.text(0.35, 0.13, \"%s\" % time_plot.strftime(\"%d %b %Y\"), fontsize=15)\n",
    "        fig.text(0.68, 0.13, \"%s\" % time_plot.strftime(\"%H:%M:%S\"), fontsize=15)\n",
    "        fig.text(0.68, 0.90, \"[$10^{-5} mho/m$]\" , fontsize=17)  \n",
    "    \n",
    "     \n",
    "    if param == 'Pedersen':\n",
    "#         plt.title(\"Pendersen Conductivity ($10^{-5}$ mho/m)_North Pole- %s\" % time_plot.strftime(\"%d %b %Y %H:%M:%S\"))\n",
    "#         cbJH.set_label('Pendersen Conductivity ($10^{-5}$ mho/m)')\n",
    "        fig.text(0.35, 0.90, 'Pendersen Conductivity', fontsize=17, fontweight='bold')\n",
    "        fig.text(0.35, 0.13, \"%s\" % time_plot.strftime(\"%d %b %Y\"), fontsize=15)\n",
    "        fig.text(0.68, 0.13, \"%s\" % time_plot.strftime(\"%H:%M:%S\"), fontsize=15)\n",
    "        fig.text(0.64, 0.90, \"[$10^{-5} mho/m$]\" , fontsize=17)\n",
    "        \n",
    "    if param == 'Hall':\n",
    "#         plt.title(\"Hall Conductivity (Si/m)_North Pole- %s\" % time_plot.strftime(\"%d %b %Y %H:%M:%S\"))\n",
    "#         cbJH.set_label('Hall Conductivity (Si/m)')\n",
    "        fig.text(0.35, 0.90, 'Hall Conductivity', fontsize=17, fontweight='bold')\n",
    "        fig.text(0.35, 0.13, \"%s\" % time_plot.strftime(\"%d %b %Y\"), fontsize=15)\n",
    "        fig.text(0.68, 0.13, \"%s\" % time_plot.strftime(\"%H:%M:%S\"), fontsize=15)\n",
    "        fig.text(0.64, 0.90, \"[$10^{-5} mho/m$]\" , fontsize=17)\n",
    "        \n",
    "    if param == 'O':\n",
    "#         plt.title(\"O ($cm_{-3}$)_North Pole- %s\" % time_plot.strftime(\"%d %b %Y %H:%M:%S\"))\n",
    "#         cbJH.set_label('O ($cm^{-3}$)')\n",
    "        fig.text(0.35, 0.90, 'Atomic Oxygen', fontsize=17, fontweight='bold')\n",
    "        fig.text(0.35, 0.13, \"%s\" % time_plot.strftime(\"%d %b %Y\"), fontsize=15)\n",
    "        fig.text(0.68, 0.13, \"%s\" % time_plot.strftime(\"%H:%M:%S\"), fontsize=15)\n",
    "        fig.text(0.70, 0.90, \"[$m^{-3}$]\" , fontsize=17)\n",
    "        \n",
    "    if param == 'O2':\n",
    "#         plt.title(\"$O_{2}$ ($cm^{-3}$)_North Pole- %s\" % time_plot.strftime(\"%d %b %Y %H:%M:%S\"))\n",
    "#         cbJH.set_label('$O_{2}$ ($cm^{-3}$)')\n",
    "        fig.text(0.35, 0.90, 'Molecular Oxygen', fontsize=17, fontweight='bold')\n",
    "        fig.text(0.35, 0.13, \"%s\" % time_plot.strftime(\"%d %b %Y\"), fontsize=15)\n",
    "        fig.text(0.68, 0.13, \"%s\" % time_plot.strftime(\"%H:%M:%S\"), fontsize=15)\n",
    "        fig.text(0.70, 0.90, \"[$m^{-3}$]\" , fontsize=17)\n",
    "        \n",
    "    if param == 'N2':\n",
    "#         plt.title(\"$N_{2}$ ($cm^{-3}$)_North Pole- %s\" % time_plot.strftime(\"%d %b %Y %H:%M:%S\"))\n",
    "#         cbJH.set_label('$N_{2}$ ($cm^{-3}$)')\n",
    "        fig.text(0.35, 0.90, 'Molecular Nitrogen', fontsize=17, fontweight='bold')\n",
    "        fig.text(0.35, 0.13, \"%s\" % time_plot.strftime(\"%d %b %Y\"), fontsize=15)\n",
    "        fig.text(0.68, 0.13, \"%s\" % time_plot.strftime(\"%H:%M:%S\"), fontsize=15)\n",
    "        fig.text(0.70, 0.90, \"[$m^{-3}$]\" , fontsize=17)\n",
    "        \n",
    "    if param == 'Ne':\n",
    "#         plt.title(\"Electron Density ($m^{-3}$)_North Pole- %s\" % time_plot.strftime(\"%d %b %Y %H:%M:%S\"))\n",
    "#         cbJH.set_label('$N_{e}$ ($m^{-3}$)')\n",
    "        fig.text(0.35, 0.90, 'Electron Density', fontsize=17, fontweight='bold')\n",
    "        fig.text(0.35, 0.13, \"%s\" % time_plot.strftime(\"%d %b %Y\"), fontsize=15)\n",
    "        fig.text(0.68, 0.13, \"%s\" % time_plot.strftime(\"%H:%M:%S\"), fontsize=15)\n",
    "        fig.text(0.70, 0.90, \"[$m^{-3}$]\" , fontsize=17)\n",
    "    if param == 'Potential':\n",
    "        fig.text(0.35, 0.90, 'Electric Potential', fontsize=17, fontweight='bold')\n",
    "        fig.text(0.35, 0.13, \"%s\" % time_plot.strftime(\"%d %b %Y\"), fontsize=15)\n",
    "        fig.text(0.68, 0.13, \"%s\" % time_plot.strftime(\"%H:%M:%S\"), fontsize=15)\n",
    "        fig.text(0.70, 0.90, \"[$kV$]\" , fontsize=17)\n",
    "        \n",
    "   \n",
    "\n",
    "def Joule_polar_plot_South(param,Bound_lat,timer):\n",
    "    \n",
    "    x_value=maplon[:]\n",
    "    y_value=maplat[:]\n",
    "    \n",
    "    time_begin=datetime.datetime(2015,3,15,0,0,0)\n",
    "    time_plot=time_begin+datetime.timedelta(minutes=maptime[timer])\n",
    "    \n",
    "    X,Y = np.meshgrid(x_value,y_value)\n",
    "    if param == 'Pedersen':\n",
    "        parameter = sigmaPedf\n",
    "    if param == 'Joule Heating':\n",
    "        parameter = Joule\n",
    "    \n",
    "    if param == 'Hall':\n",
    "        parameter = sigmaHallf\n",
    "    if param == 'O':\n",
    "        parameter = NOf\n",
    "    if param == 'O2':\n",
    "        parameter = NO2f\n",
    "    if param == 'N2':\n",
    "        parameter = NN2f \n",
    "    if param == 'Ne':\n",
    "        parameter = Nef\n",
    "    if param == 'Potential':\n",
    "        parameter = Potf\n",
    "    if param == 'Frictional Heating':\n",
    "        parameter = Frictional\n",
    "    if param == 'Ohmic Heating':\n",
    "        parameter = Ohmic_heating_Out\n",
    "    if param == 'Convenction Heating':\n",
    "        parameter = Convenction_heating_Out\n",
    "    if param == 'Wind Heating':\n",
    "        parameter = Wind_heating_Out\n",
    "    if param == 'Energy':\n",
    "        parameter = Energy_Out\n",
    "    if param == 'Mechanical Power':\n",
    "        parameter = Mechanical_power_Out  \n",
    "    if param == 'Ti':\n",
    "        parameter = Ti_Out\n",
    "    if param == 'Te':\n",
    "        parameter = Te_Out\n",
    "    if param == 'Tn':\n",
    "        parameter = Tn_Out\n",
    "    if param == 'νO+n':\n",
    "        parameter = vOpf\n",
    "    if param == 'νO2+n':\n",
    "        parameter = vO2pf\n",
    "    if param == 'νin':\n",
    "        parameter = vinf\n",
    "    if param == 'νen':\n",
    "        parameter = venf\n",
    "    if param == 'σO+n':\n",
    "        parameter = cross_section\n",
    "    if param == 'Parallel':\n",
    "        parameter = sigma_par\n",
    "        \n",
    "   \n",
    "    fig = plt.figure(figsize=(15,7))\n",
    "    #m.fillcontinents(color='gray',lake_color='gray')\n",
    "    m = Basemap(projection='spstere',boundinglat=-Bound_lat,lon_0=0,resolution='l', round=True,)\n",
    "    parameter, lons=addcyclic(parameter,x_value)\n",
    "    lons, parameter = m.shiftdata(lons, datain = parameter, lon_0=0)\n",
    "    \n",
    "    lon, lat = np.meshgrid(lons,y_value)\n",
    "    x, y = m(lon, lat)\n",
    "    fig = plt.figure(figsize=(15,7))\n",
    "    #m.fillcontinents(color='gray',lake_color='gray')\n",
    "    m.drawcoastlines()\n",
    "    m.drawparallels(np.arange(-80.,81.,20.))\n",
    "    m.drawmeridians(np.arange(-180.,181.,20.))\n",
    "    m.drawmapboundary(fill_color='white')\n",
    "    \n",
    "       \n",
    "    if param == 'Joule Heating':\n",
    "        cs = m.contourf(x,y,parameter,60,cmap='jet')\n",
    "        plt.colorbar();\n",
    "    if param == 'Frictional Heating':\n",
    "        cs = m.contourf(x,y,parameter,60,cmap='jet')\n",
    "        plt.colorbar();\n",
    "    if param == 'Ohmic Heating':\n",
    "        cs = m.contourf(x,y,parameter,60,cmap='jet')\n",
    "        plt.colorbar();\n",
    "    if param == 'Convenction Heating':\n",
    "        cs = m.contourf(x,y,parameter,60,cmap='jet')\n",
    "        plt.colorbar();\n",
    "    if param == 'Wind Heating':\n",
    "        cs = m.contourf(x,y,parameter,60,cmap='jet')\n",
    "        plt.colorbar();\n",
    "    if param == 'Energy':\n",
    "        cs = m.contourf(x,y,parameter,60,cmap='jet')\n",
    "        plt.colorbar();\n",
    "    if param == 'Mechanical Power':\n",
    "        cs = m.contourf(x,y,parameter,60,cmap='jet')\n",
    "        plt.colorbar();  \n",
    "    if param == 'Pedersen':\n",
    "        cs = m.contourf(x,y,parameter,60,cmap='afmhot')\n",
    "        plt.colorbar();\n",
    "    if param == 'Hall':\n",
    "        cs = m.contourf(x,y,parameter,60,cmap='afmhot')\n",
    "        plt.colorbar();\n",
    "    if param == 'O':\n",
    "        cs = m.contourf(x,y,parameter,60,cmap='cubehelix')\n",
    "        plt.colorbar();\n",
    "    if param == 'O2':\n",
    "        cs = m.contourf(x,y,parameter,60,cmap='cubehelix')\n",
    "        plt.colorbar();\n",
    "    if param == 'N2':\n",
    "        cs = m.contourf(x,y,parameter,60,cmap='cubehelix')\n",
    "        plt.colorbar();\n",
    "    if param == 'Ne':\n",
    "        cs = m.contourf(x,y,parameter,60,cmap='cubehelix')\n",
    "        plt.colorbar();\n",
    "    if param == 'Potential':\n",
    "        cs = m.contourf(x,y,parameter,60,cmap='BrBG')\n",
    "        plt.colorbar();\n",
    "        m.contour(x,y,parameter,20,alpha=0.7, colors='k')\n",
    "    if param == 'Ti':\n",
    "        cs = m.contourf(x,y,parameter,60,cmap='gnuplot')\n",
    "        plt.colorbar(); \n",
    "    if param == 'Te':\n",
    "        cs = m.contourf(x,y,parameter,60,cmap='gnuplot')\n",
    "        plt.colorbar(); \n",
    "    if param == 'Tn':\n",
    "        cs = m.contourf(x,y,parameter,60,cmap='gnuplot')\n",
    "        plt.colorbar(); \n",
    "    if param == 'νO+n':\n",
    "        cs = m.contourf(x,y,parameter,60,cmap='CMRmap')\n",
    "        plt.colorbar(); \n",
    "    if param == 'νO2+n':\n",
    "        cs = m.contourf(x,y,parameter,60,cmap='CMRmap')\n",
    "        plt.colorbar(); \n",
    "    if param == 'νin':\n",
    "        cs = m.contourf(x,y,parameter,60,cmap='CMRmap')\n",
    "        plt.colorbar(); \n",
    "    if param == 'νen':\n",
    "        cs = m.contourf(x,y,parameter,60,cmap='CMRmap')\n",
    "        plt.colorbar(); \n",
    "    if param == 'σO+n':\n",
    "        cs = m.contourf(x,y,parameter,60,cmap='CMRmap')\n",
    "        plt.colorbar(); \n",
    "    if param == 'Parallel':\n",
    "        cs = m.contourf(x,y,parameter,60,cmap='afmhot')\n",
    "        plt.colorbar(); \n",
    "    \n",
    "    \n",
    "    \n",
    "    if night_checkbox.value == True:\n",
    "        CS=m.nightshade(time_plot)\n",
    "        \n",
    "        \n",
    "    if param == 'Joule Heating':\n",
    "#         plt.title(\"Joule Heating Rate (mW/m^3)_North Pole- %s\" % time_plot.strftime(\"%d %b %Y %H:%M:%S\"))\n",
    "#         cbJH.set_label('Joule Heating Rate [$mW/m^{3}$]')\n",
    "        fig.text(0.35, 0.90, 'Joule Heating Rate', fontsize=17, fontweight='bold')\n",
    "        fig.text(0.35, 0.13, \"%s\" % time_plot.strftime(\"%d %b %Y\"), fontsize=15)\n",
    "        fig.text(0.68, 0.13, \"%s\" % time_plot.strftime(\"%H:%M:%S\"), fontsize=15)\n",
    "        fig.text(0.68, 0.90, \"[$mW/m^{3}$]\" , fontsize=17)\n",
    "    \n",
    "    if param == 'Frictional Heating':\n",
    "        fig.text(0.35, 0.90, 'Frictional Heating Rate', fontsize=17, fontweight='bold')\n",
    "        fig.text(0.35, 0.13, \"%s\" % time_plot.strftime(\"%d %b %Y\"), fontsize=15)\n",
    "        fig.text(0.68, 0.13, \"%s\" % time_plot.strftime(\"%H:%M:%S\"), fontsize=15)\n",
    "        fig.text(0.68, 0.90, \"[$mW/m^{3}$]\" , fontsize=17)\n",
    "    if param == 'Ohmic Heating':\n",
    "        fig.text(0.35, 0.90, 'Ohmic Heating Rate', fontsize=17, fontweight='bold')\n",
    "        fig.text(0.35, 0.13, \"%s\" % time_plot.strftime(\"%d %b %Y\"), fontsize=15)\n",
    "        fig.text(0.68, 0.13, \"%s\" % time_plot.strftime(\"%H:%M:%S\"), fontsize=15)\n",
    "        fig.text(0.68, 0.90, \"[$mW/m^{3}$]\" , fontsize=17)\n",
    "    if param == 'Convenction Heating':\n",
    "        fig.text(0.35, 0.90, 'Convenction Heating Rate', fontsize=17, fontweight='bold')\n",
    "        fig.text(0.35, 0.13, \"%s\" % time_plot.strftime(\"%d %b %Y\"), fontsize=15)\n",
    "        fig.text(0.68, 0.13, \"%s\" % time_plot.strftime(\"%H:%M:%S\"), fontsize=15)\n",
    "        fig.text(0.68, 0.90, \"[$mW/m^{3}$]\" , fontsize=17)\n",
    "    if param == 'Wind Heating':\n",
    "        fig.text(0.35, 0.90, 'Wind Heating Rate', fontsize=17, fontweight='bold')\n",
    "        fig.text(0.35, 0.13, \"%s\" % time_plot.strftime(\"%d %b %Y\"), fontsize=15)\n",
    "        fig.text(0.68, 0.13, \"%s\" % time_plot.strftime(\"%H:%M:%S\"), fontsize=15)\n",
    "        fig.text(0.68, 0.90, \"[$mW/m^{3}$]\" , fontsize=17)\n",
    "    if param == 'Energy':\n",
    "        fig.text(0.35, 0.90, 'Energy Dissipation/Generation', fontsize=17, fontweight='bold')\n",
    "        fig.text(0.35, 0.13, \"%s\" % time_plot.strftime(\"%d %b %Y\"), fontsize=15)\n",
    "        fig.text(0.68, 0.13, \"%s\" % time_plot.strftime(\"%H:%M:%S\"), fontsize=15)\n",
    "        fig.text(0.68, 0.90, \"[$mW/m^{3}$]\" , fontsize=17)\n",
    "    if param == 'Mechanical Power':\n",
    "        fig.text(0.35, 0.90, 'Mechanical Power Rate', fontsize=17, fontweight='bold')\n",
    "        fig.text(0.35, 0.13, \"%s\" % time_plot.strftime(\"%d %b %Y\"), fontsize=15)\n",
    "        fig.text(0.68, 0.13, \"%s\" % time_plot.strftime(\"%H:%M:%S\"), fontsize=15)\n",
    "        fig.text(0.68, 0.90, \"[$mW/m^{3}$]\" , fontsize=17)   \n",
    "        \n",
    "    if param == 'Ti':\n",
    "        fig.text(0.35, 0.90, 'Ion Temperature', fontsize=17, fontweight='bold')\n",
    "        fig.text(0.35, 0.13, \"%s\" % time_plot.strftime(\"%d %b %Y\"), fontsize=15)\n",
    "        fig.text(0.68, 0.13, \"%s\" % time_plot.strftime(\"%H:%M:%S\"), fontsize=15)\n",
    "        fig.text(0.68, 0.90, \"[$K$]\" , fontsize=17)  \n",
    "    if param == 'Te':\n",
    "        fig.text(0.35, 0.90, 'Electron Temperature', fontsize=17, fontweight='bold')\n",
    "        fig.text(0.35, 0.13, \"%s\" % time_plot.strftime(\"%d %b %Y\"), fontsize=15)\n",
    "        fig.text(0.68, 0.13, \"%s\" % time_plot.strftime(\"%H:%M:%S\"), fontsize=15)\n",
    "        fig.text(0.68, 0.90, \"[$K$]\" , fontsize=17)  \n",
    "    if param == 'Tn':\n",
    "        fig.text(0.35, 0.90, 'Neutral Temperature', fontsize=17, fontweight='bold')\n",
    "        fig.text(0.35, 0.13, \"%s\" % time_plot.strftime(\"%d %b %Y\"), fontsize=15)\n",
    "        fig.text(0.68, 0.13, \"%s\" % time_plot.strftime(\"%H:%M:%S\"), fontsize=15)\n",
    "        fig.text(0.68, 0.90, \"[$mW/m^{3}$]\" , fontsize=17)  \n",
    "    if param == 'νO+n':\n",
    "        fig.text(0.35, 0.90, 'O+ Collision Frequency', fontsize=17, fontweight='bold')\n",
    "        fig.text(0.35, 0.13, \"%s\" % time_plot.strftime(\"%d %b %Y\"), fontsize=15)\n",
    "        fig.text(0.68, 0.13, \"%s\" % time_plot.strftime(\"%H:%M:%S\"), fontsize=15)\n",
    "        fig.text(0.68, 0.90, \"[$Hz$]\" , fontsize=17)  \n",
    "    if param == 'νO2+n':\n",
    "        fig.text(0.35, 0.90, 'O2+ Collision Frequency', fontsize=17, fontweight='bold')\n",
    "        fig.text(0.35, 0.13, \"%s\" % time_plot.strftime(\"%d %b %Y\"), fontsize=15)\n",
    "        fig.text(0.68, 0.13, \"%s\" % time_plot.strftime(\"%H:%M:%S\"), fontsize=15)\n",
    "        fig.text(0.68, 0.90, \"[$Hz$]\" , fontsize=17)  \n",
    "    if param == 'νin':\n",
    "        fig.text(0.35, 0.90, 'Ion-Neutral Collision Frequency', fontsize=17, fontweight='bold')\n",
    "        fig.text(0.35, 0.13, \"%s\" % time_plot.strftime(\"%d %b %Y\"), fontsize=15)\n",
    "        fig.text(0.68, 0.13, \"%s\" % time_plot.strftime(\"%H:%M:%S\"), fontsize=15)\n",
    "        fig.text(0.68, 0.90, \"[$Hz$]\" , fontsize=17)  \n",
    "    if param == 'νen':\n",
    "        fig.text(0.35, 0.90, 'Electron-Neutral Collision Frequency', fontsize=17, fontweight='bold')\n",
    "        fig.text(0.35, 0.13, \"%s\" % time_plot.strftime(\"%d %b %Y\"), fontsize=15)\n",
    "        fig.text(0.68, 0.13, \"%s\" % time_plot.strftime(\"%H:%M:%S\"), fontsize=15)\n",
    "        fig.text(0.68, 0.90, \"[$Hz$]\" , fontsize=17)  \n",
    "    if param == 'σO+n':\n",
    "        fig.text(0.35, 0.90, 'O+ Cross Section', fontsize=17, fontweight='bold')\n",
    "        fig.text(0.35, 0.13, \"%s\" % time_plot.strftime(\"%d %b %Y\"), fontsize=15)\n",
    "        fig.text(0.68, 0.13, \"%s\" % time_plot.strftime(\"%H:%M:%S\"), fontsize=15)\n",
    "        fig.text(0.68, 0.90, \"[$m^{2}$]\" , fontsize=17)  \n",
    "    if param == 'Parallel':\n",
    "        fig.text(0.35, 0.90, 'Pendersen Conductivity', fontsize=17, fontweight='bold')\n",
    "        fig.text(0.35, 0.13, \"%s\" % time_plot.strftime(\"%d %b %Y\"), fontsize=15)\n",
    "        fig.text(0.68, 0.13, \"%s\" % time_plot.strftime(\"%H:%M:%S\"), fontsize=15)\n",
    "        fig.text(0.68, 0.90, \"[$10^{-5} mho/m$]\" , fontsize=17)  \n",
    "     \n",
    "    if param == 'Pedersen':\n",
    "#         plt.title(\"Pendersen Conductivity ($10^{-5}$ mho/m)_North Pole- %s\" % time_plot.strftime(\"%d %b %Y %H:%M:%S\"))\n",
    "#         cbJH.set_label('Pendersen Conductivity ($10^{-5}$ mho/m)')\n",
    "        fig.text(0.35, 0.90, 'Pendersen Conductivity', fontsize=17, fontweight='bold')\n",
    "        fig.text(0.35, 0.13, \"%s\" % time_plot.strftime(\"%d %b %Y\"), fontsize=15)\n",
    "        fig.text(0.68, 0.13, \"%s\" % time_plot.strftime(\"%H:%M:%S\"), fontsize=15)\n",
    "        fig.text(0.64, 0.90, \"[$10^{-5} mho/m$]\" , fontsize=17)\n",
    "        \n",
    "    if param == 'Hall':\n",
    "#         plt.title(\"Hall Conductivity (Si/m)_North Pole- %s\" % time_plot.strftime(\"%d %b %Y %H:%M:%S\"))\n",
    "#         cbJH.set_label('Hall Conductivity (Si/m)')\n",
    "        fig.text(0.35, 0.90, 'Hall Conductivity', fontsize=17, fontweight='bold')\n",
    "        fig.text(0.35, 0.13, \"%s\" % time_plot.strftime(\"%d %b %Y\"), fontsize=15)\n",
    "        fig.text(0.68, 0.13, \"%s\" % time_plot.strftime(\"%H:%M:%S\"), fontsize=15)\n",
    "        fig.text(0.64, 0.90, \"[$10^{-5} mho/m$]\" , fontsize=17)\n",
    "        \n",
    "    if param == 'O':\n",
    "#         plt.title(\"O ($cm_{-3}$)_North Pole- %s\" % time_plot.strftime(\"%d %b %Y %H:%M:%S\"))\n",
    "#         cbJH.set_label('O ($cm^{-3}$)')\n",
    "        fig.text(0.35, 0.90, 'Atomic Oxygen', fontsize=17, fontweight='bold')\n",
    "        fig.text(0.35, 0.13, \"%s\" % time_plot.strftime(\"%d %b %Y\"), fontsize=15)\n",
    "        fig.text(0.68, 0.13, \"%s\" % time_plot.strftime(\"%H:%M:%S\"), fontsize=15)\n",
    "        fig.text(0.70, 0.90, \"[$m^{-3}$]\" , fontsize=17)\n",
    "        \n",
    "    if param == 'O2':\n",
    "#         plt.title(\"$O_{2}$ ($cm^{-3}$)_North Pole- %s\" % time_plot.strftime(\"%d %b %Y %H:%M:%S\"))\n",
    "#         cbJH.set_label('$O_{2}$ ($cm^{-3}$)')\n",
    "        fig.text(0.35, 0.90, 'Molecular Oxygen', fontsize=17, fontweight='bold')\n",
    "        fig.text(0.35, 0.13, \"%s\" % time_plot.strftime(\"%d %b %Y\"), fontsize=15)\n",
    "        fig.text(0.68, 0.13, \"%s\" % time_plot.strftime(\"%H:%M:%S\"), fontsize=15)\n",
    "        fig.text(0.70, 0.90, \"[$m^{-3}$]\" , fontsize=17)\n",
    "        \n",
    "    if param == 'N2':\n",
    "#         plt.title(\"$N_{2}$ ($cm^{-3}$)_North Pole- %s\" % time_plot.strftime(\"%d %b %Y %H:%M:%S\"))\n",
    "#         cbJH.set_label('$N_{2}$ ($cm^{-3}$)')\n",
    "        fig.text(0.35, 0.90, 'Molecular Nitrogen', fontsize=17, fontweight='bold')\n",
    "        fig.text(0.35, 0.13, \"%s\" % time_plot.strftime(\"%d %b %Y\"), fontsize=15)\n",
    "        fig.text(0.68, 0.13, \"%s\" % time_plot.strftime(\"%H:%M:%S\"), fontsize=15)\n",
    "        fig.text(0.70, 0.90, \"[$m^{-3}$]\" , fontsize=17)\n",
    "        \n",
    "    if param == 'Ne':\n",
    "#         plt.title(\"Electron Density ($m^{-3}$)_North Pole- %s\" % time_plot.strftime(\"%d %b %Y %H:%M:%S\"))\n",
    "#         cbJH.set_label('$N_{e}$ ($m^{-3}$)')\n",
    "        fig.text(0.35, 0.90, 'Electron Density', fontsize=17, fontweight='bold')\n",
    "        fig.text(0.35, 0.13, \"%s\" % time_plot.strftime(\"%d %b %Y\"), fontsize=15)\n",
    "        fig.text(0.68, 0.13, \"%s\" % time_plot.strftime(\"%H:%M:%S\"), fontsize=15)\n",
    "        fig.text(0.70, 0.90, \"[$m^{-3}$]\" , fontsize=17)\n",
    "        \n",
    "    if param == 'Potential':\n",
    "        fig.text(0.35, 0.90, 'Electric Potential', fontsize=17, fontweight='bold')\n",
    "        fig.text(0.35, 0.13, \"%s\" % time_plot.strftime(\"%d %b %Y\"), fontsize=15)\n",
    "        fig.text(0.68, 0.13, \"%s\" % time_plot.strftime(\"%H:%M:%S\"), fontsize=15)\n",
    "        fig.text(0.70, 0.90, \"[$kV$]\" , fontsize=17)\n",
    "        \n",
    "\n",
    "    \n",
    "def Exec_Btn_Clicked( b ):\n",
    "    print( \"Calculation started...\" )\n",
    "    run(tiegcm_file.value,lat_value.value,lon_value.value,timer_value.value)\n",
    "    if heatings_checkbox.value == True:\n",
    "        print( \"Plotting heating rates...\" )\n",
    "        plot_heatings()\n",
    "    if conductivities_checkbox.value == True:\n",
    "        print( \"Plotting conductivities...\" )\n",
    "        plot_conductivities()\n",
    "    if frequencies_checkbox.value == True:\n",
    "        print( \"Plotting frequencies...\" )\n",
    "        plot_frequencies()\n",
    "    if densities_checkbox.value == True:\n",
    "        print( \"Plotting densities...\" )\n",
    "        plot_densities()\n",
    "    if velocities_checkbox.value == True:\n",
    "        print( \"Plotting velocities...\" )\n",
    "        plot_velocities()\n",
    "        efield_checkbox\n",
    "    if efield_checkbox.value == True:\n",
    "        print( \"Plotting electric fields...\" )\n",
    "        plot_efield()\n",
    "    if currents_checkbox.value == True:\n",
    "        print( \"Plotting electric currents...\" )\n",
    "        plot_currents()\n",
    "    if temperatures_checkbox.value == True:\n",
    "        print( \"Plotting temperatures...\" )\n",
    "        plot_temperatures()\n",
    "    if cross_checkbox.value == True:\n",
    "        print( \"Plotting cross sections...\" )\n",
    "        plot_cross_section()\n",
    "        \n",
    "        \n",
    "        \n",
    "        \n",
    "        \n",
    "def Exec_Map_Clicked( b ):\n",
    "    print( \"Calculation started...\" )\n",
    "    run_map(tiegcm_file.value,timer_value.value,pressure_level.value)\n",
    "    if Joule_checkbox.value == True:\n",
    "        print (\"Ploting Map...\")\n",
    "        Joule_map(plot_param.value,timer_value.value)    \n",
    "    if Joule_polar.value == True:\n",
    "        if North_plot.value == True:\n",
    "            print (\"Plotting Polar Plot (North)\")\n",
    "            Joule_polar_plot(plot_param.value, Bounding_lat.value, orbit_file.value,timer_value.value)\n",
    "        if South_plot.value == True:\n",
    "            print (\"Plotting Polar Plot (South)\")\n",
    "            Joule_polar_plot_South(plot_param.value,Bounding_lat.value,timer_value.value)\n",
    "    if Joule_ortho.value == True:\n",
    "        print (\"Plotting Ortho Plot\")\n",
    "        Joule_ortho_plot(plot_param.value,center_lat.value,center_lon.value,timer_value.value)\n",
    "    if quiver_checkbox.value == True:\n",
    "        print (\"Plotting Quiver Plot\")\n",
    "        quiver_plot(quiver_plot_param.value,quiver_back_param.value, quiver_vec_param.value,timer_value.value)\n",
    "\n",
    "\n",
    "def createGUI():\n",
    "    ## the top level visual elements\n",
    "    MainPanel = widgets.VBox() \n",
    "    MainTab = widgets.Tab() \n",
    "    VerticalPanel = widgets.VBox()\n",
    "    MapPanel = widgets.VBox()\n",
    "    \n",
    "    MainTab.children = [ VerticalPanel,    MapPanel ]\n",
    "    MainTab.set_title(0, 'Vertical Profiles')\n",
    "    MainTab.set_title(1, 'Maps')\n",
    "    MainPanel.children = [MainTab ]   \n",
    "    \n",
    "\n",
    "    PlotVerticalPanel = widgets.VBox()\n",
    "    PlotVerticalPanel.children = [lat_value,lon_value,timer_value,widgets.VBox([heatings_checkbox,conductivities_checkbox,frequencies_checkbox,temperatures_checkbox,\n",
    "                                 densities_checkbox,velocities_checkbox,efield_checkbox,currents_checkbox,cross_checkbox])]\n",
    "    \n",
    "    QuiverPanel = widgets.HBox()\n",
    "    QuiverPanel.children =[quiver_checkbox,quiver_plot_param,quiver_back_param,quiver_vec_param]\n",
    "    \n",
    "    Exec_Btn = widgets.Button (description='Calculate Products',tooltip=\"Click here to calculate Daedalus products\",)\n",
    "    Exec_Btn.style.button_color = 'MediumTurquoise'\n",
    "    Exec_Btn.on_click( Exec_Btn_Clicked )\n",
    "    VerticalPanel.children = [tiegcm_file, PlotVerticalPanel, Exec_Btn ]\n",
    "    \n",
    "    PlotMapPanel = widgets.VBox()\n",
    "    PlotMapPanel.children = [pressure_level,timer_value, plot_param]\n",
    "    Map_Btn = widgets.Button (description='Calculate Products',tooltip=\"Click here to calculate Daedalus products\",)\n",
    "    Map_Btn.style.button_color = 'YellowGreen'\n",
    "    Map_Btn.on_click( Exec_Map_Clicked )\n",
    "    MapPanel.children = [ tiegcm_file, PlotMapPanel,Joule_checkbox, widgets.HBox([Joule_polar, North_plot, South_plot, Bounding_lat]), widgets.HBox([Joule_ortho,center_lat,center_lon]),QuiverPanel,widgets.HBox([orbit_checkbox,orbit_file]), night_checkbox, Map_Btn ]\n",
    "    \n",
    "    return MainPanel\n",
    "display( createGUI() )\n"
   ]
  },
  {
   "cell_type": "code",
   "execution_count": null,
   "metadata": {},
   "outputs": [],
   "source": []
  },
  {
   "cell_type": "code",
   "execution_count": null,
   "metadata": {},
   "outputs": [],
   "source": []
  }
 ],
 "metadata": {
  "kernelspec": {
   "display_name": "Python 3",
   "language": "python",
   "name": "python3"
  },
  "language_info": {
   "codemirror_mode": {
    "name": "ipython",
    "version": 3
   },
   "file_extension": ".py",
   "mimetype": "text/x-python",
   "name": "python",
   "nbconvert_exporter": "python",
   "pygments_lexer": "ipython3",
   "version": "3.6.7"
  }
 },
 "nbformat": 4,
 "nbformat_minor": 2
}
