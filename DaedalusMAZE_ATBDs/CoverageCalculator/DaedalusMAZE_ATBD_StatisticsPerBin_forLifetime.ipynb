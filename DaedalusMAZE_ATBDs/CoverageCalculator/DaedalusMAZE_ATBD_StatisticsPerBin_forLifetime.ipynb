{
 "cells": [
  {
   "cell_type": "markdown",
   "metadata": {},
   "source": [
    "\n",
    "# Joule Heating Statistics per Bin\n",
    "\n",
    "## Introduction\n",
    "Joule Heating is an observable which Daedalus satelite will be able to measure and is indicative of the phenomena we want to study. That is why we use it to check if Daedalus will be able to measure adequately the Thermosphere along his orbit.\n",
    "Our purpose is to compare the sparse Joule Heating measurements which Daedalus will take while he passes along areas of interest with the dense measurements across a space-time grid of the whole area of interest.\n",
    "The measurements data for the grid come from TIEGCM simulations for the 3 years of the mission (2015-7). The data measured along the orbit come from the same source, but are interpolated for each satellite position.\n",
    "In order to compare the results we employ several plots and calculate mean, variance and standard deviation values.\n",
    "\n",
    "#### Areas of interest\n",
    "We have defined large areas called \"regions\" and we devide them in smaller ones called 'bins'. The bin boundaries are defined by ranges of:\n",
    "1. Magnetic Local Time (MLT)\n",
    "2. Magnetic Latitude (MagLat)\n",
    "3. Altitude\n",
    "4. Geomagnetic Kp index\n",
    "For example, we have defined a region called \"AEM - Auroral E region, midnight sector\". AEM's boundaries are:\n",
    "     60 <  Magnetic Latitude  < 75\n",
    "  22:00 < Magnetic Local Time < 02:00\n",
    "    115 < Altitude            < 140\n",
    "      0 < Kp index            < 9\n",
    "AEM is divided in 9 bins according to smaller ranges of altitude and Kp index.\n",
    "\n",
    "## Data\n",
    "#### TIEGCM grid data \n",
    "The Thermosphere is described in several TIEGCM files of netCDF type. Each file contains simulated data for 5 days and we have files for the satellite's 3 years lifetime. Inside the file there are data for every 2.5 degrees of Latitude, for every 2.5 degrees of Longitude, for every 2 hours and for 57 pressure levels.\n",
    "#### Orbit data\n",
    "A simulated orbit provides data about each position of the satellite stored in netCDF format. These include time, latitude, longitude, altitude Magnetic Latitude, Magnetic Local Time, Kp index and interpolated Joule Heating value.\n",
    "#### Result data\n",
    "The result data are stored in order to be ploted easier without the time intensive calculation.\n",
    "The execution and ploting is separated in regions to make calculations easier to handle and plot more clear.\n",
    "The result data are stored in both netCDF and plain text format and contain Joule Heating measurements across the area of interest. \n",
    "\n",
    "\n",
    "## Algorithms Description\n",
    "The algorithm seperates into Areas-of-Interest the values of Joule Heating, Pedersen Conductivity, Hall Conductivity, Convection Heating, Wind Correction, JH/mass, JH/pressure and Electric Field strength.\n",
    "This can be done for both TIEGCM data and Orbit data. The user selects, through the GUI, the type of calculation he desires. The calculation creates result files which the notebook reads when the user wants to plot them.\n",
    "The plots can display how the values of the selected variable (JH, Pedersen etc) is distributed in relation with Altitude, Magnetic Local Time, Magnetic Latitude and Kp index.\n",
    "\n",
    "Firstly the Areas-of-Interest are initialized.\n",
    "\n",
    "If the user selects to work with TIEGCM grid data then the function AssignValuesPerBin_MultipleResultFiles() is called:\n",
    "- A) For the user-selected area of interest:\n",
    "     - parse all TIEGCM files and for every point of the space-time grid:\n",
    "        - check if the point lies inside any of the pre-defined bins.\n",
    "        - if it does, then assign the Joule Heating value of this point to the correct bin.\n",
    "     - all the generated data constitute the TIEGCM-grid results\n",
    "     - the results are stored by the functions CreateResults_CDF() and SaveResults_CDF()\n",
    "     \n",
    "If the user selects to work with the orbit data then the function AssignJouleHeatingValuesToBins_AlongOrbit() is called.\n",
    "- B) For the user-selected area of interest:\n",
    "    - For every satellite position check if the satellite position lies inside any of the pre-defined bins:\n",
    "\t\t1. read Altitude, Magnetic-Latitude, Magnetic-Local-Time.\n",
    "\t\t2. Check if the above values lie inside the ranges of a bin.\n",
    "\t   \t   If they do then we have to check the Kp-value following the next step. \t\t   \n",
    "\t\t4. Kp index is stored in a TIEGCM file. \n",
    "           Read the time of the satellite position and locate the corresponding TIEGCM file.\n",
    "\t\t5. Read the Kp-value according to the current time.\n",
    "\t\t6. Now we can check if the satellite position really lies inside a bin.\n",
    "\t\t   If it does, then assign the Joule Heating value to the correct bin.\n",
    "    - all the generated data constitute the along-Orbit results\n",
    "    - the results are stored by the functions CreateResults_CDF() and SaveResults_CDF()\n",
    "\n",
    "If the user selects to plot the results he must choose a variable as well.\n",
    "Then the result files are read by the function LoadResults_CDF() and mean, variance etc of the variable are calculated for each Area-of-Interest by the function CalculateStatsOnData().\n",
    "\n",
    "The user can also select to execute statistical tests. They are executed by the function executeStatTest().\n",
    "\n",
    "## Plots\n",
    "We have constructed several plots to display different aspects of the multi-dimensional data which result from the algorithm.\n",
    "Both TIEGCM-grid and along-Orbit results are demonstrated using the same plots as described below.\n",
    "#### Joule Heating versus Magnetic Latitude / Magnetic Local Time / Altitude\n",
    "function plotAll():\n",
    "In these scatter plots each dot represents an instance of a measurement which was taken inside the area of interest. \n",
    "The plot usually does not display all the measurements because of their vast number. The plot also contains lines which indicate the Joule Heating mean and standard deviation calculated on all the values of the area of interest. The mean is displayed as a horizontal line and the standard deviation as a vertical line. \n",
    "function plotAll_perKp():\n",
    "The same plots are also available in a divided-by-Kp form. The Joule Heating versus Altiude plot display lines which connect the measurements which are successive along the orbit of the satellite (applies only on orbit data).\n",
    "#### Joule Heating distribution\n",
    "function Plot_JH_Distribution_perBin():\n",
    "We provide a Joule Heating distribution plot for each area of interest and each bin. This plot can also display fitting functions along the data (An Euler function is usually the best fit).\n",
    "#### Altitude versus Magnetic Latitude\n",
    "There is also a scatter plot of Altitude versus Magnetic Latitude where each dot represents a measuremnt inside the area of interest and its color corresponds to its Joule Heating value.\n",
    "#### Altitude Profiles\n",
    "functions plotAltProfilesCanonical_perKpRange() and plotAltProfilesNatural_perKpRange():\n",
    "Plots several percentiles of the variable versus altitude. There are different graphs per Kp-range and MLT-range\n",
    "#### Height-Integration Distribution\n",
    "function plotHeightIntegrated_perKpRange():\n",
    "This function creates similar to altitude profiles plots by reading height-intergrated results created by other software.\n",
    "#### Color Spreads\n",
    "function plotColorSpread_perKpRange():\n",
    "This function creates one plot for each of the mean, standard deviation, 10th percentile, 90th percentile of the variable.\n",
    "The plot contains several sub-plots, one for each Kp-range and one per 10km of altitude. The value is displayed as a color spot on a Magnetic Latitude - Magnetic Local Time grid.\n",
    "#### Probability Density \n",
    "function plotPDFperSubBin():\n",
    "Plots two curves for each Kp-range and for Altitude-range. One curve for the TIEGCM-grid (continuous) and one for the Orbit (dotted). The curves represent the number of points which lie in a range of values of the selected variable."
   ]
  },
  {
   "cell_type": "code",
   "execution_count": 15,
   "metadata": {
    "scrolled": false
   },
   "outputs": [
    {
     "data": {
      "application/vnd.jupyter.widget-view+json": {
       "model_id": "b55d8a9187ce4078acee4505eace831f",
       "version_major": 2,
       "version_minor": 0
      },
      "text/plain": [
       "VBox(children=(Tab(children=(VBox(children=(Dropdown(description='TIEGCM files: ', layout=Layout(width='780px'…"
      ]
     },
     "metadata": {},
     "output_type": "display_data"
    },
    {
     "name": "stdout",
     "output_type": "stream",
     "text": [
      "Started Loading /home/NAS/Data_Files/CoverageResults/AED.TIEGCM_Lifetime_2015_to_2018_JH_QD.Lifetime_10sTrilinear.ValuesPerBinResults.nc 2020-10-27 15:52:55.632382\n",
      "Now Loading /home/NAS/Data_Files/CoverageResults/AED.TIEGCM_Lifetime_2015_to_2018_JH_QD.Lifetime_10sTrilinear.ValuesPerBinResults.nc\n",
      "DateOfCreation: 25-10-2020 11:03:33  LastExecDurationSec : 458 sec\n",
      "Region: AED\n",
      "OrbitFile: /home/NAS/Data_Files/InterpolatedData/Lifetime_10sTrilinear/\n",
      "TIEGCM data path: /home/NAS/TIEGCM_DATA_2/TIEGCM_Lifetime_2015_to_2018_JH_QD/ \n",
      "\n",
      "ALL LENGTH BEFORE: 12427\n",
      "Globaly : huge values = 954 negative values = 79 nan values = 1353\n",
      "ALL LENGTH AFTER: 10041\n",
      "Results loaded for Joule Heating      2020-10-27 15:53:32.075811 \n",
      "\n",
      "Ohmic\n",
      "Parsing 10041 values. 27-10-2020 15:53:32\n",
      "Thread: 0 - 1004  of  10041 positions\n",
      "Thread: 1004 - 2008  of  10041 positions\n",
      "Thread: 2008 - 3012  of  10041 positions\n",
      "Thread: 3012 - 4016  of  10041 positions\n",
      "Thread: 4016 - 5020  of  10041 positions\n",
      "Thread: 5020 - 6024  of  10041 positions\n",
      "Thread: 6024 - 7028  of  10041 positions\n",
      "Thread: 7028 - 8032  of  10041 positions\n",
      "Thread: 8032 - 9036  of  10041 positions\n",
      "Thread: 9036 - 10040  of  10041 positions\n",
      "Thread: 10040 - 10040  of  10041 positions\n",
      "   100 km     hits = 0\n",
      "   105 km     hits = 0\n",
      "   110 km     hits = 0\n",
      "   115 km     hits = 0\n",
      "   120 km     hits = 1681\n",
      "   125 km     hits = 669\n",
      "   130 km     hits = 424\n",
      "   135 km     hits = 294\n",
      "   140 km     hits = 424\n",
      "   145 km     hits = 1628\n",
      "   150 km     hits = 1389\n",
      "   155 km     hits = 1107\n",
      "Kp =  0 MLT = 3    Hits = 7616    27-10-2020 15:53:32\n",
      "   100 km     hits = 0\n",
      "   105 km     hits = 0\n",
      "   110 km     hits = 0\n",
      "   115 km     hits = 0\n",
      "   120 km     hits = 470\n",
      "   125 km     hits = 227\n",
      "   130 km     hits = 148\n",
      "   135 km     hits = 119\n",
      "   140 km     hits = 154\n",
      "   145 km     hits = 433\n",
      "   150 km     hits = 406\n",
      "   155 km     hits = 321\n",
      "Kp =  3 MLT = 3    Hits = 2278    27-10-2020 15:53:32\n"
     ]
    },
    {
     "data": {
      "text/html": [
       "        <script type=\"text/javascript\">\n",
       "        window.PlotlyConfig = {MathJaxConfig: 'local'};\n",
       "        if (window.MathJax) {MathJax.Hub.Config({SVG: {font: \"STIX-Web\"}});}\n",
       "        if (typeof require !== 'undefined') {\n",
       "        require.undef(\"plotly\");\n",
       "        requirejs.config({\n",
       "            paths: {\n",
       "                'plotly': ['https://cdn.plot.ly/plotly-latest.min']\n",
       "            }\n",
       "        });\n",
       "        require(['plotly'], function(Plotly) {\n",
       "            window._Plotly = Plotly;\n",
       "        });\n",
       "        }\n",
       "        </script>\n",
       "        "
      ]
     },
     "metadata": {},
     "output_type": "display_data"
    },
    {
     "data": {
      "application/vnd.plotly.v1+json": {
       "config": {
        "linkText": "Export to plot.ly",
        "plotlyServerURL": "https://plot.ly",
        "showLink": false
       },
       "data": [
        {
         "fill": "tonexty",
         "fillcolor": "#c4dfe6",
         "line": {
          "color": "gray",
          "width": 1
         },
         "mode": "lines",
         "showlegend": false,
         "type": "scatter",
         "x": [
          0,
          0,
          0,
          0,
          0,
          0,
          0,
          0
         ],
         "xaxis": "x",
         "y": [
          120,
          125,
          130,
          135,
          140,
          145,
          150,
          160
         ],
         "yaxis": "y"
        },
        {
         "fill": "tonexty",
         "fillcolor": "#c4dfe6",
         "line": {
          "color": "gray",
          "width": 1
         },
         "mode": "lines",
         "showlegend": false,
         "type": "scatter",
         "x": [
          0.01720631692680996,
          0.016452385565024485,
          0.015575080808405417,
          0.01331534243975696,
          0.009972380837774962,
          0.009830938771382414,
          0.00707694625123878,
          0.0051467893141809995
         ],
         "xaxis": "x",
         "y": [
          120,
          125,
          130,
          135,
          140,
          145,
          150,
          160
         ],
         "yaxis": "y"
        },
        {
         "fill": "tonexty",
         "fillcolor": "#a1d6e2",
         "line": {
          "color": "gray",
          "width": 1
         },
         "mode": "lines",
         "showlegend": false,
         "type": "scatter",
         "x": [
          0.05037902317539533,
          0.04677697673649561,
          0.049596346474167774,
          0.041392735766754285,
          0.029337787060823572,
          0.02996350806361292,
          0.020519959342824023,
          0.015757962296136796
         ],
         "xaxis": "x",
         "y": [
          120,
          125,
          130,
          135,
          140,
          145,
          150,
          160
         ],
         "yaxis": "y"
        },
        {
         "fill": "tonexty",
         "fillcolor": "#1995ad",
         "line": {
          "color": "black",
          "width": 2
         },
         "mode": "lines",
         "showlegend": false,
         "type": "scatter",
         "x": [
          0.2096374851490168,
          0.22581820857681123,
          0.15276805931385695,
          0.14294707639805893,
          0.08145197294417983,
          0.07258161849321709,
          0.06203475511057377,
          0.04673161857482455
         ],
         "xaxis": "x",
         "y": [
          120,
          125,
          130,
          135,
          140,
          145,
          150,
          160
         ],
         "yaxis": "y"
        },
        {
         "fill": "tonexty",
         "fillcolor": "#a1d6e2",
         "line": {
          "color": "gray",
          "width": 1
         },
         "mode": "lines",
         "showlegend": false,
         "type": "scatter",
         "x": [
          0.7490338127524865,
          0.6086815496075815,
          0.46080254056946046,
          0.35486663052530787,
          0.3093306777390836,
          0.18256560985197012,
          0.16509524858321356,
          0.12114625969061876
         ],
         "xaxis": "x",
         "y": [
          120,
          125,
          130,
          135,
          140,
          145,
          150,
          160
         ],
         "yaxis": "y"
        },
        {
         "fill": "tonexty",
         "fillcolor": "#c4dfe6",
         "line": {
          "color": "gray",
          "width": 1
         },
         "mode": "lines",
         "showlegend": false,
         "type": "scatter",
         "x": [
          2.4782664809208654,
          1.85103473882009,
          1.2876896793301282,
          1.0745605472095576,
          1.3146232014094037,
          0.33558547496426167,
          0.3273901327816021,
          0.26584346279889803
         ],
         "xaxis": "x",
         "y": [
          120,
          125,
          130,
          135,
          140,
          145,
          150,
          160
         ],
         "yaxis": "y"
        },
        {
         "showlegend": false,
         "type": "scatter",
         "x": [
          -1000
         ],
         "xaxis": "x",
         "y": [
          -1000
         ],
         "yaxis": "y2"
        },
        {
         "fill": "tonexty",
         "fillcolor": "#c4dfe6",
         "line": {
          "color": "gray",
          "width": 1
         },
         "mode": "lines",
         "showlegend": false,
         "type": "scatter",
         "x": [
          0,
          0,
          0,
          0,
          0,
          0,
          0,
          0
         ],
         "xaxis": "x2",
         "y": [
          120,
          125,
          130,
          135,
          140,
          145,
          150,
          160
         ],
         "yaxis": "y3"
        },
        {
         "fill": "tonexty",
         "fillcolor": "#c4dfe6",
         "line": {
          "color": "gray",
          "width": 1
         },
         "mode": "lines",
         "showlegend": false,
         "type": "scatter",
         "x": [
          0.021358196045095923,
          0.015723483348661915,
          0.02904191276353885,
          0.023611856636573947,
          0.015797939484363258,
          0.010292948715573404,
          0.007011254424260649,
          0.005036535077884707
         ],
         "xaxis": "x2",
         "y": [
          120,
          125,
          130,
          135,
          140,
          145,
          150,
          160
         ],
         "yaxis": "y3"
        },
        {
         "fill": "tonexty",
         "fillcolor": "#a1d6e2",
         "line": {
          "color": "gray",
          "width": 1
         },
         "mode": "lines",
         "showlegend": false,
         "type": "scatter",
         "x": [
          0.06379658884503314,
          0.04114565632651335,
          0.04864652430880412,
          0.04337821490896232,
          0.0352434734174345,
          0.027615601472241735,
          0.021181136705683556,
          0.015203319159162731
         ],
         "xaxis": "x2",
         "y": [
          120,
          125,
          130,
          135,
          140,
          145,
          150,
          160
         ],
         "yaxis": "y3"
        },
        {
         "fill": "tonexty",
         "fillcolor": "#1995ad",
         "line": {
          "color": "black",
          "width": 2
         },
         "mode": "lines",
         "showlegend": false,
         "type": "scatter",
         "x": [
          0.17708279287376172,
          0.12402336935224412,
          0.1352087553030401,
          0.09226228669945158,
          0.1212609124223718,
          0.09071041695563054,
          0.07008266189600931,
          0.05514318446309119
         ],
         "xaxis": "x2",
         "y": [
          120,
          125,
          130,
          135,
          140,
          145,
          150,
          160
         ],
         "yaxis": "y3"
        },
        {
         "fill": "tonexty",
         "fillcolor": "#a1d6e2",
         "line": {
          "color": "gray",
          "width": 1
         },
         "mode": "lines",
         "showlegend": false,
         "type": "scatter",
         "x": [
          0.9253682264898089,
          0.8637633275299095,
          0.642903996705968,
          0.3233986078932105,
          0.5693754023816666,
          0.19106383142286631,
          0.1778741626212721,
          0.1619615108694461
         ],
         "xaxis": "x2",
         "y": [
          120,
          125,
          130,
          135,
          140,
          145,
          150,
          160
         ],
         "yaxis": "y3"
        },
        {
         "fill": "tonexty",
         "fillcolor": "#c4dfe6",
         "line": {
          "color": "gray",
          "width": 1
         },
         "mode": "lines",
         "showlegend": false,
         "type": "scatter",
         "x": [
          2.068235787078266,
          1.4764680145162865,
          1.1590981596754093,
          0.7123520351370871,
          3.32130239755203,
          0.45193972120216597,
          0.28945624785947643,
          0.31110172216131105
         ],
         "xaxis": "x2",
         "y": [
          120,
          125,
          130,
          135,
          140,
          145,
          150,
          160
         ],
         "yaxis": "y3"
        },
        {
         "showlegend": false,
         "type": "scatter",
         "x": [
          -1000
         ],
         "xaxis": "x2",
         "y": [
          -1000
         ],
         "yaxis": "y4"
        },
        {
         "fill": "tonexty",
         "fillcolor": "#c4dfe6",
         "line": {
          "color": "gray",
          "width": 1
         },
         "mode": "lines",
         "name": "10th Perc.",
         "showlegend": true,
         "type": "scatter",
         "x": [
          0.021358196045095923,
          0.015723483348661915,
          0.02904191276353885,
          0.023611856636573947,
          0.015797939484363258,
          0.010292948715573404,
          0.007011254424260649,
          0.005036535077884707
         ],
         "xaxis": "x2",
         "y": [
          120,
          125,
          130,
          135,
          140,
          145,
          150,
          160
         ],
         "yaxis": "y3"
        },
        {
         "fill": "tonexty",
         "fillcolor": "#a1d6e2",
         "line": {
          "color": "gray",
          "width": 1
         },
         "mode": "lines",
         "name": "25th Perc.",
         "showlegend": true,
         "type": "scatter",
         "x": [
          0.06379658884503314,
          0.04114565632651335,
          0.04864652430880412,
          0.04337821490896232,
          0.0352434734174345,
          0.027615601472241735,
          0.021181136705683556,
          0.015203319159162731
         ],
         "xaxis": "x2",
         "y": [
          120,
          125,
          130,
          135,
          140,
          145,
          150,
          160
         ],
         "yaxis": "y3"
        },
        {
         "fill": "tonexty",
         "fillcolor": "#1995ad",
         "line": {
          "color": "black",
          "width": 2
         },
         "mode": "lines",
         "name": "50th Perc.",
         "showlegend": true,
         "type": "scatter",
         "x": [
          0.17708279287376172,
          0.12402336935224412,
          0.1352087553030401,
          0.09226228669945158,
          0.1212609124223718,
          0.09071041695563054,
          0.07008266189600931,
          0.05514318446309119
         ],
         "xaxis": "x2",
         "y": [
          120,
          125,
          130,
          135,
          140,
          145,
          150,
          160
         ],
         "yaxis": "y3"
        },
        {
         "fill": "tonexty",
         "fillcolor": "#a1d6e2",
         "line": {
          "color": "gray",
          "width": 1
         },
         "mode": "lines",
         "name": "75th Perc.",
         "showlegend": true,
         "type": "scatter",
         "x": [
          0.9253682264898089,
          0.8637633275299095,
          0.642903996705968,
          0.3233986078932105,
          0.5693754023816666,
          0.19106383142286631,
          0.1778741626212721,
          0.1619615108694461
         ],
         "xaxis": "x2",
         "y": [
          120,
          125,
          130,
          135,
          140,
          145,
          150,
          160
         ],
         "yaxis": "y3"
        },
        {
         "fill": "tonexty",
         "fillcolor": "#c4dfe6",
         "line": {
          "color": "gray",
          "width": 1
         },
         "mode": "lines",
         "name": "90th Perc.",
         "showlegend": true,
         "type": "scatter",
         "x": [
          2.068235787078266,
          1.4764680145162865,
          1.1590981596754093,
          0.7123520351370871,
          3.32130239755203,
          0.45193972120216597,
          0.28945624785947643,
          0.31110172216131105
         ],
         "xaxis": "x2",
         "y": [
          120,
          125,
          130,
          135,
          140,
          145,
          150,
          160
         ],
         "yaxis": "y3"
        }
       ],
       "layout": {
        "annotations": [
         {
          "font": {
           "size": 16
          },
          "showarrow": false,
          "text": "MLT 3-9",
          "x": 0.47,
          "xanchor": "center",
          "xref": "paper",
          "y": 1,
          "yanchor": "bottom",
          "yref": "paper"
         }
        ],
        "height": 1000,
        "legend": {
         "orientation": "h",
         "y": -0.04
        },
        "showlegend": true,
        "template": {
         "data": {
          "bar": [
           {
            "error_x": {
             "color": "#2a3f5f"
            },
            "error_y": {
             "color": "#2a3f5f"
            },
            "marker": {
             "line": {
              "color": "#E5ECF6",
              "width": 0.5
             }
            },
            "type": "bar"
           }
          ],
          "barpolar": [
           {
            "marker": {
             "line": {
              "color": "#E5ECF6",
              "width": 0.5
             }
            },
            "type": "barpolar"
           }
          ],
          "carpet": [
           {
            "aaxis": {
             "endlinecolor": "#2a3f5f",
             "gridcolor": "white",
             "linecolor": "white",
             "minorgridcolor": "white",
             "startlinecolor": "#2a3f5f"
            },
            "baxis": {
             "endlinecolor": "#2a3f5f",
             "gridcolor": "white",
             "linecolor": "white",
             "minorgridcolor": "white",
             "startlinecolor": "#2a3f5f"
            },
            "type": "carpet"
           }
          ],
          "choropleth": [
           {
            "colorbar": {
             "outlinewidth": 0,
             "ticks": ""
            },
            "type": "choropleth"
           }
          ],
          "contour": [
           {
            "colorbar": {
             "outlinewidth": 0,
             "ticks": ""
            },
            "colorscale": [
             [
              0,
              "#0d0887"
             ],
             [
              0.1111111111111111,
              "#46039f"
             ],
             [
              0.2222222222222222,
              "#7201a8"
             ],
             [
              0.3333333333333333,
              "#9c179e"
             ],
             [
              0.4444444444444444,
              "#bd3786"
             ],
             [
              0.5555555555555556,
              "#d8576b"
             ],
             [
              0.6666666666666666,
              "#ed7953"
             ],
             [
              0.7777777777777778,
              "#fb9f3a"
             ],
             [
              0.8888888888888888,
              "#fdca26"
             ],
             [
              1,
              "#f0f921"
             ]
            ],
            "type": "contour"
           }
          ],
          "contourcarpet": [
           {
            "colorbar": {
             "outlinewidth": 0,
             "ticks": ""
            },
            "type": "contourcarpet"
           }
          ],
          "heatmap": [
           {
            "colorbar": {
             "outlinewidth": 0,
             "ticks": ""
            },
            "colorscale": [
             [
              0,
              "#0d0887"
             ],
             [
              0.1111111111111111,
              "#46039f"
             ],
             [
              0.2222222222222222,
              "#7201a8"
             ],
             [
              0.3333333333333333,
              "#9c179e"
             ],
             [
              0.4444444444444444,
              "#bd3786"
             ],
             [
              0.5555555555555556,
              "#d8576b"
             ],
             [
              0.6666666666666666,
              "#ed7953"
             ],
             [
              0.7777777777777778,
              "#fb9f3a"
             ],
             [
              0.8888888888888888,
              "#fdca26"
             ],
             [
              1,
              "#f0f921"
             ]
            ],
            "type": "heatmap"
           }
          ],
          "heatmapgl": [
           {
            "colorbar": {
             "outlinewidth": 0,
             "ticks": ""
            },
            "colorscale": [
             [
              0,
              "#0d0887"
             ],
             [
              0.1111111111111111,
              "#46039f"
             ],
             [
              0.2222222222222222,
              "#7201a8"
             ],
             [
              0.3333333333333333,
              "#9c179e"
             ],
             [
              0.4444444444444444,
              "#bd3786"
             ],
             [
              0.5555555555555556,
              "#d8576b"
             ],
             [
              0.6666666666666666,
              "#ed7953"
             ],
             [
              0.7777777777777778,
              "#fb9f3a"
             ],
             [
              0.8888888888888888,
              "#fdca26"
             ],
             [
              1,
              "#f0f921"
             ]
            ],
            "type": "heatmapgl"
           }
          ],
          "histogram": [
           {
            "marker": {
             "colorbar": {
              "outlinewidth": 0,
              "ticks": ""
             }
            },
            "type": "histogram"
           }
          ],
          "histogram2d": [
           {
            "colorbar": {
             "outlinewidth": 0,
             "ticks": ""
            },
            "colorscale": [
             [
              0,
              "#0d0887"
             ],
             [
              0.1111111111111111,
              "#46039f"
             ],
             [
              0.2222222222222222,
              "#7201a8"
             ],
             [
              0.3333333333333333,
              "#9c179e"
             ],
             [
              0.4444444444444444,
              "#bd3786"
             ],
             [
              0.5555555555555556,
              "#d8576b"
             ],
             [
              0.6666666666666666,
              "#ed7953"
             ],
             [
              0.7777777777777778,
              "#fb9f3a"
             ],
             [
              0.8888888888888888,
              "#fdca26"
             ],
             [
              1,
              "#f0f921"
             ]
            ],
            "type": "histogram2d"
           }
          ],
          "histogram2dcontour": [
           {
            "colorbar": {
             "outlinewidth": 0,
             "ticks": ""
            },
            "colorscale": [
             [
              0,
              "#0d0887"
             ],
             [
              0.1111111111111111,
              "#46039f"
             ],
             [
              0.2222222222222222,
              "#7201a8"
             ],
             [
              0.3333333333333333,
              "#9c179e"
             ],
             [
              0.4444444444444444,
              "#bd3786"
             ],
             [
              0.5555555555555556,
              "#d8576b"
             ],
             [
              0.6666666666666666,
              "#ed7953"
             ],
             [
              0.7777777777777778,
              "#fb9f3a"
             ],
             [
              0.8888888888888888,
              "#fdca26"
             ],
             [
              1,
              "#f0f921"
             ]
            ],
            "type": "histogram2dcontour"
           }
          ],
          "mesh3d": [
           {
            "colorbar": {
             "outlinewidth": 0,
             "ticks": ""
            },
            "type": "mesh3d"
           }
          ],
          "parcoords": [
           {
            "line": {
             "colorbar": {
              "outlinewidth": 0,
              "ticks": ""
             }
            },
            "type": "parcoords"
           }
          ],
          "pie": [
           {
            "automargin": true,
            "type": "pie"
           }
          ],
          "scatter": [
           {
            "marker": {
             "colorbar": {
              "outlinewidth": 0,
              "ticks": ""
             }
            },
            "type": "scatter"
           }
          ],
          "scatter3d": [
           {
            "line": {
             "colorbar": {
              "outlinewidth": 0,
              "ticks": ""
             }
            },
            "marker": {
             "colorbar": {
              "outlinewidth": 0,
              "ticks": ""
             }
            },
            "type": "scatter3d"
           }
          ],
          "scattercarpet": [
           {
            "marker": {
             "colorbar": {
              "outlinewidth": 0,
              "ticks": ""
             }
            },
            "type": "scattercarpet"
           }
          ],
          "scattergeo": [
           {
            "marker": {
             "colorbar": {
              "outlinewidth": 0,
              "ticks": ""
             }
            },
            "type": "scattergeo"
           }
          ],
          "scattergl": [
           {
            "marker": {
             "colorbar": {
              "outlinewidth": 0,
              "ticks": ""
             }
            },
            "type": "scattergl"
           }
          ],
          "scattermapbox": [
           {
            "marker": {
             "colorbar": {
              "outlinewidth": 0,
              "ticks": ""
             }
            },
            "type": "scattermapbox"
           }
          ],
          "scatterpolar": [
           {
            "marker": {
             "colorbar": {
              "outlinewidth": 0,
              "ticks": ""
             }
            },
            "type": "scatterpolar"
           }
          ],
          "scatterpolargl": [
           {
            "marker": {
             "colorbar": {
              "outlinewidth": 0,
              "ticks": ""
             }
            },
            "type": "scatterpolargl"
           }
          ],
          "scatterternary": [
           {
            "marker": {
             "colorbar": {
              "outlinewidth": 0,
              "ticks": ""
             }
            },
            "type": "scatterternary"
           }
          ],
          "surface": [
           {
            "colorbar": {
             "outlinewidth": 0,
             "ticks": ""
            },
            "colorscale": [
             [
              0,
              "#0d0887"
             ],
             [
              0.1111111111111111,
              "#46039f"
             ],
             [
              0.2222222222222222,
              "#7201a8"
             ],
             [
              0.3333333333333333,
              "#9c179e"
             ],
             [
              0.4444444444444444,
              "#bd3786"
             ],
             [
              0.5555555555555556,
              "#d8576b"
             ],
             [
              0.6666666666666666,
              "#ed7953"
             ],
             [
              0.7777777777777778,
              "#fb9f3a"
             ],
             [
              0.8888888888888888,
              "#fdca26"
             ],
             [
              1,
              "#f0f921"
             ]
            ],
            "type": "surface"
           }
          ],
          "table": [
           {
            "cells": {
             "fill": {
              "color": "#EBF0F8"
             },
             "line": {
              "color": "white"
             }
            },
            "header": {
             "fill": {
              "color": "#C8D4E3"
             },
             "line": {
              "color": "white"
             }
            },
            "type": "table"
           }
          ]
         },
         "layout": {
          "annotationdefaults": {
           "arrowcolor": "#2a3f5f",
           "arrowhead": 0,
           "arrowwidth": 1
          },
          "coloraxis": {
           "colorbar": {
            "outlinewidth": 0,
            "ticks": ""
           }
          },
          "colorscale": {
           "diverging": [
            [
             0,
             "#8e0152"
            ],
            [
             0.1,
             "#c51b7d"
            ],
            [
             0.2,
             "#de77ae"
            ],
            [
             0.3,
             "#f1b6da"
            ],
            [
             0.4,
             "#fde0ef"
            ],
            [
             0.5,
             "#f7f7f7"
            ],
            [
             0.6,
             "#e6f5d0"
            ],
            [
             0.7,
             "#b8e186"
            ],
            [
             0.8,
             "#7fbc41"
            ],
            [
             0.9,
             "#4d9221"
            ],
            [
             1,
             "#276419"
            ]
           ],
           "sequential": [
            [
             0,
             "#0d0887"
            ],
            [
             0.1111111111111111,
             "#46039f"
            ],
            [
             0.2222222222222222,
             "#7201a8"
            ],
            [
             0.3333333333333333,
             "#9c179e"
            ],
            [
             0.4444444444444444,
             "#bd3786"
            ],
            [
             0.5555555555555556,
             "#d8576b"
            ],
            [
             0.6666666666666666,
             "#ed7953"
            ],
            [
             0.7777777777777778,
             "#fb9f3a"
            ],
            [
             0.8888888888888888,
             "#fdca26"
            ],
            [
             1,
             "#f0f921"
            ]
           ],
           "sequentialminus": [
            [
             0,
             "#0d0887"
            ],
            [
             0.1111111111111111,
             "#46039f"
            ],
            [
             0.2222222222222222,
             "#7201a8"
            ],
            [
             0.3333333333333333,
             "#9c179e"
            ],
            [
             0.4444444444444444,
             "#bd3786"
            ],
            [
             0.5555555555555556,
             "#d8576b"
            ],
            [
             0.6666666666666666,
             "#ed7953"
            ],
            [
             0.7777777777777778,
             "#fb9f3a"
            ],
            [
             0.8888888888888888,
             "#fdca26"
            ],
            [
             1,
             "#f0f921"
            ]
           ]
          },
          "colorway": [
           "#636efa",
           "#EF553B",
           "#00cc96",
           "#ab63fa",
           "#FFA15A",
           "#19d3f3",
           "#FF6692",
           "#B6E880",
           "#FF97FF",
           "#FECB52"
          ],
          "font": {
           "color": "#2a3f5f"
          },
          "geo": {
           "bgcolor": "white",
           "lakecolor": "white",
           "landcolor": "#E5ECF6",
           "showlakes": true,
           "showland": true,
           "subunitcolor": "white"
          },
          "hoverlabel": {
           "align": "left"
          },
          "hovermode": "closest",
          "mapbox": {
           "style": "light"
          },
          "paper_bgcolor": "white",
          "plot_bgcolor": "#E5ECF6",
          "polar": {
           "angularaxis": {
            "gridcolor": "white",
            "linecolor": "white",
            "ticks": ""
           },
           "bgcolor": "#E5ECF6",
           "radialaxis": {
            "gridcolor": "white",
            "linecolor": "white",
            "ticks": ""
           }
          },
          "scene": {
           "xaxis": {
            "backgroundcolor": "#E5ECF6",
            "gridcolor": "white",
            "gridwidth": 2,
            "linecolor": "white",
            "showbackground": true,
            "ticks": "",
            "zerolinecolor": "white"
           },
           "yaxis": {
            "backgroundcolor": "#E5ECF6",
            "gridcolor": "white",
            "gridwidth": 2,
            "linecolor": "white",
            "showbackground": true,
            "ticks": "",
            "zerolinecolor": "white"
           },
           "zaxis": {
            "backgroundcolor": "#E5ECF6",
            "gridcolor": "white",
            "gridwidth": 2,
            "linecolor": "white",
            "showbackground": true,
            "ticks": "",
            "zerolinecolor": "white"
           }
          },
          "shapedefaults": {
           "line": {
            "color": "#2a3f5f"
           }
          },
          "ternary": {
           "aaxis": {
            "gridcolor": "white",
            "linecolor": "white",
            "ticks": ""
           },
           "baxis": {
            "gridcolor": "white",
            "linecolor": "white",
            "ticks": ""
           },
           "bgcolor": "#E5ECF6",
           "caxis": {
            "gridcolor": "white",
            "linecolor": "white",
            "ticks": ""
           }
          },
          "title": {
           "x": 0.05
          },
          "xaxis": {
           "automargin": true,
           "gridcolor": "white",
           "linecolor": "white",
           "ticks": "",
           "title": {
            "standoff": 15
           },
           "zerolinecolor": "white",
           "zerolinewidth": 2
          },
          "yaxis": {
           "automargin": true,
           "gridcolor": "white",
           "linecolor": "white",
           "ticks": "",
           "title": {
            "standoff": 15
           },
           "zerolinecolor": "white",
           "zerolinewidth": 2
          }
         }
        },
        "title": {
         "text": "Auroral E region, dawn sector<br>Alt.Prof. of Joule Heating (10^-8 W/m3)"
        },
        "width": 1100,
        "xaxis": {
         "anchor": "y",
         "domain": [
          0,
          0.94
         ],
         "matches": "x2",
         "range": [
          0,
          6
         ],
         "showticklabels": false
        },
        "xaxis2": {
         "anchor": "y3",
         "domain": [
          0,
          0.94
         ],
         "range": [
          0,
          6
         ]
        },
        "yaxis": {
         "anchor": "x",
         "domain": [
          0.5175,
          1
         ],
         "dtick": 10,
         "range": [
          80,
          160
         ],
         "side": "left",
         "title": {
          "text": "Altitude (km)"
         }
        },
        "yaxis2": {
         "anchor": "x",
         "dtick": 10,
         "overlaying": "y",
         "range": [
          80,
          160
         ],
         "showticklabels": false,
         "side": "right",
         "title": {
          "text": "Kp 0 - 3"
         }
        },
        "yaxis3": {
         "anchor": "x2",
         "domain": [
          0,
          0.4825
         ],
         "dtick": 10,
         "range": [
          80,
          160
         ],
         "side": "left",
         "title": {
          "text": "Altitude (km)"
         }
        },
        "yaxis4": {
         "anchor": "x2",
         "dtick": 10,
         "overlaying": "y3",
         "range": [
          80,
          160
         ],
         "showticklabels": false,
         "side": "right",
         "title": {
          "text": "Kp 3 - 9"
         }
        }
       }
      },
      "text/html": [
       "<div>\n",
       "        \n",
       "        \n",
       "            <div id=\"f6f31d42-59e2-40e8-9bbe-5b8828694cd9\" class=\"plotly-graph-div\" style=\"height:1000px; width:1100px;\"></div>\n",
       "            <script type=\"text/javascript\">\n",
       "                require([\"plotly\"], function(Plotly) {\n",
       "                    window.PLOTLYENV=window.PLOTLYENV || {};\n",
       "                    \n",
       "                if (document.getElementById(\"f6f31d42-59e2-40e8-9bbe-5b8828694cd9\")) {\n",
       "                    Plotly.newPlot(\n",
       "                        'f6f31d42-59e2-40e8-9bbe-5b8828694cd9',\n",
       "                        [{\"fill\": \"tonexty\", \"fillcolor\": \"#c4dfe6\", \"line\": {\"color\": \"gray\", \"width\": 1}, \"mode\": \"lines\", \"showlegend\": false, \"type\": \"scatter\", \"x\": [0, 0, 0, 0, 0, 0, 0, 0], \"xaxis\": \"x\", \"y\": [120, 125, 130, 135, 140, 145, 150, 160], \"yaxis\": \"y\"}, {\"fill\": \"tonexty\", \"fillcolor\": \"#c4dfe6\", \"line\": {\"color\": \"gray\", \"width\": 1}, \"mode\": \"lines\", \"showlegend\": false, \"type\": \"scatter\", \"x\": [0.01720631692680996, 0.016452385565024485, 0.015575080808405417, 0.01331534243975696, 0.009972380837774962, 0.009830938771382414, 0.00707694625123878, 0.0051467893141809995], \"xaxis\": \"x\", \"y\": [120, 125, 130, 135, 140, 145, 150, 160], \"yaxis\": \"y\"}, {\"fill\": \"tonexty\", \"fillcolor\": \"#a1d6e2\", \"line\": {\"color\": \"gray\", \"width\": 1}, \"mode\": \"lines\", \"showlegend\": false, \"type\": \"scatter\", \"x\": [0.05037902317539533, 0.04677697673649561, 0.049596346474167774, 0.041392735766754285, 0.029337787060823572, 0.02996350806361292, 0.020519959342824023, 0.015757962296136796], \"xaxis\": \"x\", \"y\": [120, 125, 130, 135, 140, 145, 150, 160], \"yaxis\": \"y\"}, {\"fill\": \"tonexty\", \"fillcolor\": \"#1995ad\", \"line\": {\"color\": \"black\", \"width\": 2}, \"mode\": \"lines\", \"showlegend\": false, \"type\": \"scatter\", \"x\": [0.2096374851490168, 0.22581820857681123, 0.15276805931385695, 0.14294707639805893, 0.08145197294417983, 0.07258161849321709, 0.06203475511057377, 0.04673161857482455], \"xaxis\": \"x\", \"y\": [120, 125, 130, 135, 140, 145, 150, 160], \"yaxis\": \"y\"}, {\"fill\": \"tonexty\", \"fillcolor\": \"#a1d6e2\", \"line\": {\"color\": \"gray\", \"width\": 1}, \"mode\": \"lines\", \"showlegend\": false, \"type\": \"scatter\", \"x\": [0.7490338127524865, 0.6086815496075815, 0.46080254056946046, 0.35486663052530787, 0.3093306777390836, 0.18256560985197012, 0.16509524858321356, 0.12114625969061876], \"xaxis\": \"x\", \"y\": [120, 125, 130, 135, 140, 145, 150, 160], \"yaxis\": \"y\"}, {\"fill\": \"tonexty\", \"fillcolor\": \"#c4dfe6\", \"line\": {\"color\": \"gray\", \"width\": 1}, \"mode\": \"lines\", \"showlegend\": false, \"type\": \"scatter\", \"x\": [2.4782664809208654, 1.85103473882009, 1.2876896793301282, 1.0745605472095576, 1.3146232014094037, 0.33558547496426167, 0.3273901327816021, 0.26584346279889803], \"xaxis\": \"x\", \"y\": [120, 125, 130, 135, 140, 145, 150, 160], \"yaxis\": \"y\"}, {\"showlegend\": false, \"type\": \"scatter\", \"x\": [-1000], \"xaxis\": \"x\", \"y\": [-1000], \"yaxis\": \"y2\"}, {\"fill\": \"tonexty\", \"fillcolor\": \"#c4dfe6\", \"line\": {\"color\": \"gray\", \"width\": 1}, \"mode\": \"lines\", \"showlegend\": false, \"type\": \"scatter\", \"x\": [0, 0, 0, 0, 0, 0, 0, 0], \"xaxis\": \"x2\", \"y\": [120, 125, 130, 135, 140, 145, 150, 160], \"yaxis\": \"y3\"}, {\"fill\": \"tonexty\", \"fillcolor\": \"#c4dfe6\", \"line\": {\"color\": \"gray\", \"width\": 1}, \"mode\": \"lines\", \"showlegend\": false, \"type\": \"scatter\", \"x\": [0.021358196045095923, 0.015723483348661915, 0.02904191276353885, 0.023611856636573947, 0.015797939484363258, 0.010292948715573404, 0.007011254424260649, 0.005036535077884707], \"xaxis\": \"x2\", \"y\": [120, 125, 130, 135, 140, 145, 150, 160], \"yaxis\": \"y3\"}, {\"fill\": \"tonexty\", \"fillcolor\": \"#a1d6e2\", \"line\": {\"color\": \"gray\", \"width\": 1}, \"mode\": \"lines\", \"showlegend\": false, \"type\": \"scatter\", \"x\": [0.06379658884503314, 0.04114565632651335, 0.04864652430880412, 0.04337821490896232, 0.0352434734174345, 0.027615601472241735, 0.021181136705683556, 0.015203319159162731], \"xaxis\": \"x2\", \"y\": [120, 125, 130, 135, 140, 145, 150, 160], \"yaxis\": \"y3\"}, {\"fill\": \"tonexty\", \"fillcolor\": \"#1995ad\", \"line\": {\"color\": \"black\", \"width\": 2}, \"mode\": \"lines\", \"showlegend\": false, \"type\": \"scatter\", \"x\": [0.17708279287376172, 0.12402336935224412, 0.1352087553030401, 0.09226228669945158, 0.1212609124223718, 0.09071041695563054, 0.07008266189600931, 0.05514318446309119], \"xaxis\": \"x2\", \"y\": [120, 125, 130, 135, 140, 145, 150, 160], \"yaxis\": \"y3\"}, {\"fill\": \"tonexty\", \"fillcolor\": \"#a1d6e2\", \"line\": {\"color\": \"gray\", \"width\": 1}, \"mode\": \"lines\", \"showlegend\": false, \"type\": \"scatter\", \"x\": [0.9253682264898089, 0.8637633275299095, 0.642903996705968, 0.3233986078932105, 0.5693754023816666, 0.19106383142286631, 0.1778741626212721, 0.1619615108694461], \"xaxis\": \"x2\", \"y\": [120, 125, 130, 135, 140, 145, 150, 160], \"yaxis\": \"y3\"}, {\"fill\": \"tonexty\", \"fillcolor\": \"#c4dfe6\", \"line\": {\"color\": \"gray\", \"width\": 1}, \"mode\": \"lines\", \"showlegend\": false, \"type\": \"scatter\", \"x\": [2.068235787078266, 1.4764680145162865, 1.1590981596754093, 0.7123520351370871, 3.32130239755203, 0.45193972120216597, 0.28945624785947643, 0.31110172216131105], \"xaxis\": \"x2\", \"y\": [120, 125, 130, 135, 140, 145, 150, 160], \"yaxis\": \"y3\"}, {\"showlegend\": false, \"type\": \"scatter\", \"x\": [-1000], \"xaxis\": \"x2\", \"y\": [-1000], \"yaxis\": \"y4\"}, {\"fill\": \"tonexty\", \"fillcolor\": \"#c4dfe6\", \"line\": {\"color\": \"gray\", \"width\": 1}, \"mode\": \"lines\", \"name\": \"10th Perc.\", \"showlegend\": true, \"type\": \"scatter\", \"x\": [0.021358196045095923, 0.015723483348661915, 0.02904191276353885, 0.023611856636573947, 0.015797939484363258, 0.010292948715573404, 0.007011254424260649, 0.005036535077884707], \"xaxis\": \"x2\", \"y\": [120, 125, 130, 135, 140, 145, 150, 160], \"yaxis\": \"y3\"}, {\"fill\": \"tonexty\", \"fillcolor\": \"#a1d6e2\", \"line\": {\"color\": \"gray\", \"width\": 1}, \"mode\": \"lines\", \"name\": \"25th Perc.\", \"showlegend\": true, \"type\": \"scatter\", \"x\": [0.06379658884503314, 0.04114565632651335, 0.04864652430880412, 0.04337821490896232, 0.0352434734174345, 0.027615601472241735, 0.021181136705683556, 0.015203319159162731], \"xaxis\": \"x2\", \"y\": [120, 125, 130, 135, 140, 145, 150, 160], \"yaxis\": \"y3\"}, {\"fill\": \"tonexty\", \"fillcolor\": \"#1995ad\", \"line\": {\"color\": \"black\", \"width\": 2}, \"mode\": \"lines\", \"name\": \"50th Perc.\", \"showlegend\": true, \"type\": \"scatter\", \"x\": [0.17708279287376172, 0.12402336935224412, 0.1352087553030401, 0.09226228669945158, 0.1212609124223718, 0.09071041695563054, 0.07008266189600931, 0.05514318446309119], \"xaxis\": \"x2\", \"y\": [120, 125, 130, 135, 140, 145, 150, 160], \"yaxis\": \"y3\"}, {\"fill\": \"tonexty\", \"fillcolor\": \"#a1d6e2\", \"line\": {\"color\": \"gray\", \"width\": 1}, \"mode\": \"lines\", \"name\": \"75th Perc.\", \"showlegend\": true, \"type\": \"scatter\", \"x\": [0.9253682264898089, 0.8637633275299095, 0.642903996705968, 0.3233986078932105, 0.5693754023816666, 0.19106383142286631, 0.1778741626212721, 0.1619615108694461], \"xaxis\": \"x2\", \"y\": [120, 125, 130, 135, 140, 145, 150, 160], \"yaxis\": \"y3\"}, {\"fill\": \"tonexty\", \"fillcolor\": \"#c4dfe6\", \"line\": {\"color\": \"gray\", \"width\": 1}, \"mode\": \"lines\", \"name\": \"90th Perc.\", \"showlegend\": true, \"type\": \"scatter\", \"x\": [2.068235787078266, 1.4764680145162865, 1.1590981596754093, 0.7123520351370871, 3.32130239755203, 0.45193972120216597, 0.28945624785947643, 0.31110172216131105], \"xaxis\": \"x2\", \"y\": [120, 125, 130, 135, 140, 145, 150, 160], \"yaxis\": \"y3\"}],\n",
       "                        {\"annotations\": [{\"font\": {\"size\": 16}, \"showarrow\": false, \"text\": \"MLT 3-9\", \"x\": 0.47, \"xanchor\": \"center\", \"xref\": \"paper\", \"y\": 1.0, \"yanchor\": \"bottom\", \"yref\": \"paper\"}], \"height\": 1000, \"legend\": {\"orientation\": \"h\", \"y\": -0.04}, \"showlegend\": true, \"template\": {\"data\": {\"bar\": [{\"error_x\": {\"color\": \"#2a3f5f\"}, \"error_y\": {\"color\": \"#2a3f5f\"}, \"marker\": {\"line\": {\"color\": \"#E5ECF6\", \"width\": 0.5}}, \"type\": \"bar\"}], \"barpolar\": [{\"marker\": {\"line\": {\"color\": \"#E5ECF6\", \"width\": 0.5}}, \"type\": \"barpolar\"}], \"carpet\": [{\"aaxis\": {\"endlinecolor\": \"#2a3f5f\", \"gridcolor\": \"white\", \"linecolor\": \"white\", \"minorgridcolor\": \"white\", \"startlinecolor\": \"#2a3f5f\"}, \"baxis\": {\"endlinecolor\": \"#2a3f5f\", \"gridcolor\": \"white\", \"linecolor\": \"white\", \"minorgridcolor\": \"white\", \"startlinecolor\": \"#2a3f5f\"}, \"type\": \"carpet\"}], \"choropleth\": [{\"colorbar\": {\"outlinewidth\": 0, \"ticks\": \"\"}, \"type\": \"choropleth\"}], \"contour\": [{\"colorbar\": {\"outlinewidth\": 0, \"ticks\": \"\"}, \"colorscale\": [[0.0, \"#0d0887\"], [0.1111111111111111, \"#46039f\"], [0.2222222222222222, \"#7201a8\"], [0.3333333333333333, \"#9c179e\"], [0.4444444444444444, \"#bd3786\"], [0.5555555555555556, \"#d8576b\"], [0.6666666666666666, \"#ed7953\"], [0.7777777777777778, \"#fb9f3a\"], [0.8888888888888888, \"#fdca26\"], [1.0, \"#f0f921\"]], \"type\": \"contour\"}], \"contourcarpet\": [{\"colorbar\": {\"outlinewidth\": 0, \"ticks\": \"\"}, \"type\": \"contourcarpet\"}], \"heatmap\": [{\"colorbar\": {\"outlinewidth\": 0, \"ticks\": \"\"}, \"colorscale\": [[0.0, \"#0d0887\"], [0.1111111111111111, \"#46039f\"], [0.2222222222222222, \"#7201a8\"], [0.3333333333333333, \"#9c179e\"], [0.4444444444444444, \"#bd3786\"], [0.5555555555555556, \"#d8576b\"], [0.6666666666666666, \"#ed7953\"], [0.7777777777777778, \"#fb9f3a\"], [0.8888888888888888, \"#fdca26\"], [1.0, \"#f0f921\"]], \"type\": \"heatmap\"}], \"heatmapgl\": [{\"colorbar\": {\"outlinewidth\": 0, \"ticks\": \"\"}, \"colorscale\": [[0.0, \"#0d0887\"], [0.1111111111111111, \"#46039f\"], [0.2222222222222222, \"#7201a8\"], [0.3333333333333333, \"#9c179e\"], [0.4444444444444444, \"#bd3786\"], [0.5555555555555556, \"#d8576b\"], [0.6666666666666666, \"#ed7953\"], [0.7777777777777778, \"#fb9f3a\"], [0.8888888888888888, \"#fdca26\"], [1.0, \"#f0f921\"]], \"type\": \"heatmapgl\"}], \"histogram\": [{\"marker\": {\"colorbar\": {\"outlinewidth\": 0, \"ticks\": \"\"}}, \"type\": \"histogram\"}], \"histogram2d\": [{\"colorbar\": {\"outlinewidth\": 0, \"ticks\": \"\"}, \"colorscale\": [[0.0, \"#0d0887\"], [0.1111111111111111, \"#46039f\"], [0.2222222222222222, \"#7201a8\"], [0.3333333333333333, \"#9c179e\"], [0.4444444444444444, \"#bd3786\"], [0.5555555555555556, \"#d8576b\"], [0.6666666666666666, \"#ed7953\"], [0.7777777777777778, \"#fb9f3a\"], [0.8888888888888888, \"#fdca26\"], [1.0, \"#f0f921\"]], \"type\": \"histogram2d\"}], \"histogram2dcontour\": [{\"colorbar\": {\"outlinewidth\": 0, \"ticks\": \"\"}, \"colorscale\": [[0.0, \"#0d0887\"], [0.1111111111111111, \"#46039f\"], [0.2222222222222222, \"#7201a8\"], [0.3333333333333333, \"#9c179e\"], [0.4444444444444444, \"#bd3786\"], [0.5555555555555556, \"#d8576b\"], [0.6666666666666666, \"#ed7953\"], [0.7777777777777778, \"#fb9f3a\"], [0.8888888888888888, \"#fdca26\"], [1.0, \"#f0f921\"]], \"type\": \"histogram2dcontour\"}], \"mesh3d\": [{\"colorbar\": {\"outlinewidth\": 0, \"ticks\": \"\"}, \"type\": \"mesh3d\"}], \"parcoords\": [{\"line\": {\"colorbar\": {\"outlinewidth\": 0, \"ticks\": \"\"}}, \"type\": \"parcoords\"}], \"pie\": [{\"automargin\": true, \"type\": \"pie\"}], \"scatter\": [{\"marker\": {\"colorbar\": {\"outlinewidth\": 0, \"ticks\": \"\"}}, \"type\": \"scatter\"}], \"scatter3d\": [{\"line\": {\"colorbar\": {\"outlinewidth\": 0, \"ticks\": \"\"}}, \"marker\": {\"colorbar\": {\"outlinewidth\": 0, \"ticks\": \"\"}}, \"type\": \"scatter3d\"}], \"scattercarpet\": [{\"marker\": {\"colorbar\": {\"outlinewidth\": 0, \"ticks\": \"\"}}, \"type\": \"scattercarpet\"}], \"scattergeo\": [{\"marker\": {\"colorbar\": {\"outlinewidth\": 0, \"ticks\": \"\"}}, \"type\": \"scattergeo\"}], \"scattergl\": [{\"marker\": {\"colorbar\": {\"outlinewidth\": 0, \"ticks\": \"\"}}, \"type\": \"scattergl\"}], \"scattermapbox\": [{\"marker\": {\"colorbar\": {\"outlinewidth\": 0, \"ticks\": \"\"}}, \"type\": \"scattermapbox\"}], \"scatterpolar\": [{\"marker\": {\"colorbar\": {\"outlinewidth\": 0, \"ticks\": \"\"}}, \"type\": \"scatterpolar\"}], \"scatterpolargl\": [{\"marker\": {\"colorbar\": {\"outlinewidth\": 0, \"ticks\": \"\"}}, \"type\": \"scatterpolargl\"}], \"scatterternary\": [{\"marker\": {\"colorbar\": {\"outlinewidth\": 0, \"ticks\": \"\"}}, \"type\": \"scatterternary\"}], \"surface\": [{\"colorbar\": {\"outlinewidth\": 0, \"ticks\": \"\"}, \"colorscale\": [[0.0, \"#0d0887\"], [0.1111111111111111, \"#46039f\"], [0.2222222222222222, \"#7201a8\"], [0.3333333333333333, \"#9c179e\"], [0.4444444444444444, \"#bd3786\"], [0.5555555555555556, \"#d8576b\"], [0.6666666666666666, \"#ed7953\"], [0.7777777777777778, \"#fb9f3a\"], [0.8888888888888888, \"#fdca26\"], [1.0, \"#f0f921\"]], \"type\": \"surface\"}], \"table\": [{\"cells\": {\"fill\": {\"color\": \"#EBF0F8\"}, \"line\": {\"color\": \"white\"}}, \"header\": {\"fill\": {\"color\": \"#C8D4E3\"}, \"line\": {\"color\": \"white\"}}, \"type\": \"table\"}]}, \"layout\": {\"annotationdefaults\": {\"arrowcolor\": \"#2a3f5f\", \"arrowhead\": 0, \"arrowwidth\": 1}, \"coloraxis\": {\"colorbar\": {\"outlinewidth\": 0, \"ticks\": \"\"}}, \"colorscale\": {\"diverging\": [[0, \"#8e0152\"], [0.1, \"#c51b7d\"], [0.2, \"#de77ae\"], [0.3, \"#f1b6da\"], [0.4, \"#fde0ef\"], [0.5, \"#f7f7f7\"], [0.6, \"#e6f5d0\"], [0.7, \"#b8e186\"], [0.8, \"#7fbc41\"], [0.9, \"#4d9221\"], [1, \"#276419\"]], \"sequential\": [[0.0, \"#0d0887\"], [0.1111111111111111, \"#46039f\"], [0.2222222222222222, \"#7201a8\"], [0.3333333333333333, \"#9c179e\"], [0.4444444444444444, \"#bd3786\"], [0.5555555555555556, \"#d8576b\"], [0.6666666666666666, \"#ed7953\"], [0.7777777777777778, \"#fb9f3a\"], [0.8888888888888888, \"#fdca26\"], [1.0, \"#f0f921\"]], \"sequentialminus\": [[0.0, \"#0d0887\"], [0.1111111111111111, \"#46039f\"], [0.2222222222222222, \"#7201a8\"], [0.3333333333333333, \"#9c179e\"], [0.4444444444444444, \"#bd3786\"], [0.5555555555555556, \"#d8576b\"], [0.6666666666666666, \"#ed7953\"], [0.7777777777777778, \"#fb9f3a\"], [0.8888888888888888, \"#fdca26\"], [1.0, \"#f0f921\"]]}, \"colorway\": [\"#636efa\", \"#EF553B\", \"#00cc96\", \"#ab63fa\", \"#FFA15A\", \"#19d3f3\", \"#FF6692\", \"#B6E880\", \"#FF97FF\", \"#FECB52\"], \"font\": {\"color\": \"#2a3f5f\"}, \"geo\": {\"bgcolor\": \"white\", \"lakecolor\": \"white\", \"landcolor\": \"#E5ECF6\", \"showlakes\": true, \"showland\": true, \"subunitcolor\": \"white\"}, \"hoverlabel\": {\"align\": \"left\"}, \"hovermode\": \"closest\", \"mapbox\": {\"style\": \"light\"}, \"paper_bgcolor\": \"white\", \"plot_bgcolor\": \"#E5ECF6\", \"polar\": {\"angularaxis\": {\"gridcolor\": \"white\", \"linecolor\": \"white\", \"ticks\": \"\"}, \"bgcolor\": \"#E5ECF6\", \"radialaxis\": {\"gridcolor\": \"white\", \"linecolor\": \"white\", \"ticks\": \"\"}}, \"scene\": {\"xaxis\": {\"backgroundcolor\": \"#E5ECF6\", \"gridcolor\": \"white\", \"gridwidth\": 2, \"linecolor\": \"white\", \"showbackground\": true, \"ticks\": \"\", \"zerolinecolor\": \"white\"}, \"yaxis\": {\"backgroundcolor\": \"#E5ECF6\", \"gridcolor\": \"white\", \"gridwidth\": 2, \"linecolor\": \"white\", \"showbackground\": true, \"ticks\": \"\", \"zerolinecolor\": \"white\"}, \"zaxis\": {\"backgroundcolor\": \"#E5ECF6\", \"gridcolor\": \"white\", \"gridwidth\": 2, \"linecolor\": \"white\", \"showbackground\": true, \"ticks\": \"\", \"zerolinecolor\": \"white\"}}, \"shapedefaults\": {\"line\": {\"color\": \"#2a3f5f\"}}, \"ternary\": {\"aaxis\": {\"gridcolor\": \"white\", \"linecolor\": \"white\", \"ticks\": \"\"}, \"baxis\": {\"gridcolor\": \"white\", \"linecolor\": \"white\", \"ticks\": \"\"}, \"bgcolor\": \"#E5ECF6\", \"caxis\": {\"gridcolor\": \"white\", \"linecolor\": \"white\", \"ticks\": \"\"}}, \"title\": {\"x\": 0.05}, \"xaxis\": {\"automargin\": true, \"gridcolor\": \"white\", \"linecolor\": \"white\", \"ticks\": \"\", \"title\": {\"standoff\": 15}, \"zerolinecolor\": \"white\", \"zerolinewidth\": 2}, \"yaxis\": {\"automargin\": true, \"gridcolor\": \"white\", \"linecolor\": \"white\", \"ticks\": \"\", \"title\": {\"standoff\": 15}, \"zerolinecolor\": \"white\", \"zerolinewidth\": 2}}}, \"title\": {\"text\": \"Auroral E region, dawn sector<br>Alt.Prof. of Joule Heating (10^-8 W/m3)\"}, \"width\": 1100, \"xaxis\": {\"anchor\": \"y\", \"domain\": [0.0, 0.94], \"matches\": \"x2\", \"range\": [0, 6], \"showticklabels\": false}, \"xaxis2\": {\"anchor\": \"y3\", \"domain\": [0.0, 0.94], \"range\": [0, 6]}, \"yaxis\": {\"anchor\": \"x\", \"domain\": [0.5175, 1.0], \"dtick\": 10, \"range\": [80, 160], \"side\": \"left\", \"title\": {\"text\": \"Altitude (km)\"}}, \"yaxis2\": {\"anchor\": \"x\", \"dtick\": 10, \"overlaying\": \"y\", \"range\": [80, 160], \"showticklabels\": false, \"side\": \"right\", \"title\": {\"text\": \"Kp 0 - 3\"}}, \"yaxis3\": {\"anchor\": \"x2\", \"domain\": [0.0, 0.4825], \"dtick\": 10, \"range\": [80, 160], \"side\": \"left\", \"title\": {\"text\": \"Altitude (km)\"}}, \"yaxis4\": {\"anchor\": \"x2\", \"dtick\": 10, \"overlaying\": \"y3\", \"range\": [80, 160], \"showticklabels\": false, \"side\": \"right\", \"title\": {\"text\": \"Kp 3 - 9\"}}},\n",
       "                        {\"responsive\": true}\n",
       "                    ).then(function(){\n",
       "                            \n",
       "var gd = document.getElementById('f6f31d42-59e2-40e8-9bbe-5b8828694cd9');\n",
       "var x = new MutationObserver(function (mutations, observer) {{\n",
       "        var display = window.getComputedStyle(gd).display;\n",
       "        if (!display || display === 'none') {{\n",
       "            console.log([gd, 'removed!']);\n",
       "            Plotly.purge(gd);\n",
       "            observer.disconnect();\n",
       "        }}\n",
       "}});\n",
       "\n",
       "// Listen for the removal of the full notebook cells\n",
       "var notebookContainer = gd.closest('#notebook-container');\n",
       "if (notebookContainer) {{\n",
       "    x.observe(notebookContainer, {childList: true});\n",
       "}}\n",
       "\n",
       "// Listen for the clearing of the current output cell\n",
       "var outputEl = gd.closest('.output');\n",
       "if (outputEl) {{\n",
       "    x.observe(outputEl, {childList: true});\n",
       "}}\n",
       "\n",
       "                        })\n",
       "                };\n",
       "                });\n",
       "            </script>\n",
       "        </div>"
      ]
     },
     "metadata": {},
     "output_type": "display_data"
    },
    {
     "data": {
      "application/vnd.plotly.v1+json": {
       "config": {
        "linkText": "Export to plot.ly",
        "plotlyServerURL": "https://plot.ly",
        "showLink": false
       },
       "data": [
        {
         "fill": "tonexty",
         "fillcolor": "#c4dfe6",
         "line": {
          "color": "gray",
          "width": 1
         },
         "mode": "lines",
         "showlegend": false,
         "type": "scatter",
         "x": [
          0,
          0,
          0,
          0,
          0,
          0,
          0,
          0
         ],
         "xaxis": "x",
         "y": [
          120,
          125,
          130,
          135,
          140,
          145,
          150,
          160
         ],
         "yaxis": "y"
        },
        {
         "fill": "tonexty",
         "fillcolor": "#c4dfe6",
         "line": {
          "color": "gray",
          "width": 1
         },
         "mode": "lines",
         "showlegend": false,
         "type": "scatter",
         "x": [
          0.01720631692680996,
          0.016452385565024485,
          0.015575080808405417,
          0.01331534243975696,
          0.009972380837774962,
          0.009830938771382414,
          0.00707694625123878,
          0.0051467893141809995
         ],
         "xaxis": "x",
         "y": [
          120,
          125,
          130,
          135,
          140,
          145,
          150,
          160
         ],
         "yaxis": "y"
        },
        {
         "fill": "tonexty",
         "fillcolor": "#a1d6e2",
         "line": {
          "color": "gray",
          "width": 1
         },
         "mode": "lines",
         "showlegend": false,
         "type": "scatter",
         "x": [
          0.05037902317539533,
          0.04677697673649561,
          0.049596346474167774,
          0.041392735766754285,
          0.029337787060823572,
          0.02996350806361292,
          0.020519959342824023,
          0.015757962296136796
         ],
         "xaxis": "x",
         "y": [
          120,
          125,
          130,
          135,
          140,
          145,
          150,
          160
         ],
         "yaxis": "y"
        },
        {
         "fill": "tonexty",
         "fillcolor": "#1995ad",
         "line": {
          "color": "black",
          "width": 2
         },
         "mode": "lines",
         "showlegend": false,
         "type": "scatter",
         "x": [
          0.2096374851490168,
          0.22581820857681123,
          0.15276805931385695,
          0.14294707639805893,
          0.08145197294417983,
          0.07258161849321709,
          0.06203475511057377,
          0.04673161857482455
         ],
         "xaxis": "x",
         "y": [
          120,
          125,
          130,
          135,
          140,
          145,
          150,
          160
         ],
         "yaxis": "y"
        },
        {
         "fill": "tonexty",
         "fillcolor": "#a1d6e2",
         "line": {
          "color": "gray",
          "width": 1
         },
         "mode": "lines",
         "showlegend": false,
         "type": "scatter",
         "x": [
          0.7490338127524865,
          0.6086815496075815,
          0.46080254056946046,
          0.35486663052530787,
          0.3093306777390836,
          0.18256560985197012,
          0.16509524858321356,
          0.12114625969061876
         ],
         "xaxis": "x",
         "y": [
          120,
          125,
          130,
          135,
          140,
          145,
          150,
          160
         ],
         "yaxis": "y"
        },
        {
         "fill": "tonexty",
         "fillcolor": "#c4dfe6",
         "line": {
          "color": "gray",
          "width": 1
         },
         "mode": "lines",
         "showlegend": false,
         "type": "scatter",
         "x": [
          2.4782664809208654,
          1.85103473882009,
          1.2876896793301282,
          1.0745605472095576,
          1.3146232014094037,
          0.33558547496426167,
          0.3273901327816021,
          0.26584346279889803
         ],
         "xaxis": "x",
         "y": [
          120,
          125,
          130,
          135,
          140,
          145,
          150,
          160
         ],
         "yaxis": "y"
        },
        {
         "showlegend": false,
         "type": "scatter",
         "x": [
          -1000
         ],
         "xaxis": "x",
         "y": [
          -1000
         ],
         "yaxis": "y2"
        },
        {
         "fill": "tonexty",
         "fillcolor": "#c4dfe6",
         "line": {
          "color": "gray",
          "width": 1
         },
         "mode": "lines",
         "showlegend": false,
         "type": "scatter",
         "x": [
          0,
          0,
          0,
          0,
          0,
          0,
          0,
          0
         ],
         "xaxis": "x2",
         "y": [
          120,
          125,
          130,
          135,
          140,
          145,
          150,
          160
         ],
         "yaxis": "y3"
        },
        {
         "fill": "tonexty",
         "fillcolor": "#c4dfe6",
         "line": {
          "color": "gray",
          "width": 1
         },
         "mode": "lines",
         "showlegend": false,
         "type": "scatter",
         "x": [
          0.021358196045095923,
          0.015723483348661915,
          0.02904191276353885,
          0.023611856636573947,
          0.015797939484363258,
          0.010292948715573404,
          0.007011254424260649,
          0.005036535077884707
         ],
         "xaxis": "x2",
         "y": [
          120,
          125,
          130,
          135,
          140,
          145,
          150,
          160
         ],
         "yaxis": "y3"
        },
        {
         "fill": "tonexty",
         "fillcolor": "#a1d6e2",
         "line": {
          "color": "gray",
          "width": 1
         },
         "mode": "lines",
         "showlegend": false,
         "type": "scatter",
         "x": [
          0.06379658884503314,
          0.04114565632651335,
          0.04864652430880412,
          0.04337821490896232,
          0.0352434734174345,
          0.027615601472241735,
          0.021181136705683556,
          0.015203319159162731
         ],
         "xaxis": "x2",
         "y": [
          120,
          125,
          130,
          135,
          140,
          145,
          150,
          160
         ],
         "yaxis": "y3"
        },
        {
         "fill": "tonexty",
         "fillcolor": "#1995ad",
         "line": {
          "color": "black",
          "width": 2
         },
         "mode": "lines",
         "showlegend": false,
         "type": "scatter",
         "x": [
          0.17708279287376172,
          0.12402336935224412,
          0.1352087553030401,
          0.09226228669945158,
          0.1212609124223718,
          0.09071041695563054,
          0.07008266189600931,
          0.05514318446309119
         ],
         "xaxis": "x2",
         "y": [
          120,
          125,
          130,
          135,
          140,
          145,
          150,
          160
         ],
         "yaxis": "y3"
        },
        {
         "fill": "tonexty",
         "fillcolor": "#a1d6e2",
         "line": {
          "color": "gray",
          "width": 1
         },
         "mode": "lines",
         "showlegend": false,
         "type": "scatter",
         "x": [
          0.9253682264898089,
          0.8637633275299095,
          0.642903996705968,
          0.3233986078932105,
          0.5693754023816666,
          0.19106383142286631,
          0.1778741626212721,
          0.1619615108694461
         ],
         "xaxis": "x2",
         "y": [
          120,
          125,
          130,
          135,
          140,
          145,
          150,
          160
         ],
         "yaxis": "y3"
        },
        {
         "fill": "tonexty",
         "fillcolor": "#c4dfe6",
         "line": {
          "color": "gray",
          "width": 1
         },
         "mode": "lines",
         "showlegend": false,
         "type": "scatter",
         "x": [
          2.068235787078266,
          1.4764680145162865,
          1.1590981596754093,
          0.7123520351370871,
          3.32130239755203,
          0.45193972120216597,
          0.28945624785947643,
          0.31110172216131105
         ],
         "xaxis": "x2",
         "y": [
          120,
          125,
          130,
          135,
          140,
          145,
          150,
          160
         ],
         "yaxis": "y3"
        },
        {
         "showlegend": false,
         "type": "scatter",
         "x": [
          -1000
         ],
         "xaxis": "x2",
         "y": [
          -1000
         ],
         "yaxis": "y4"
        },
        {
         "fill": "tonexty",
         "fillcolor": "#c4dfe6",
         "line": {
          "color": "gray",
          "width": 1
         },
         "mode": "lines",
         "name": "10th Perc.",
         "showlegend": true,
         "type": "scatter",
         "x": [
          0.021358196045095923,
          0.015723483348661915,
          0.02904191276353885,
          0.023611856636573947,
          0.015797939484363258,
          0.010292948715573404,
          0.007011254424260649,
          0.005036535077884707
         ],
         "xaxis": "x2",
         "y": [
          120,
          125,
          130,
          135,
          140,
          145,
          150,
          160
         ],
         "yaxis": "y3"
        },
        {
         "fill": "tonexty",
         "fillcolor": "#a1d6e2",
         "line": {
          "color": "gray",
          "width": 1
         },
         "mode": "lines",
         "name": "25th Perc.",
         "showlegend": true,
         "type": "scatter",
         "x": [
          0.06379658884503314,
          0.04114565632651335,
          0.04864652430880412,
          0.04337821490896232,
          0.0352434734174345,
          0.027615601472241735,
          0.021181136705683556,
          0.015203319159162731
         ],
         "xaxis": "x2",
         "y": [
          120,
          125,
          130,
          135,
          140,
          145,
          150,
          160
         ],
         "yaxis": "y3"
        },
        {
         "fill": "tonexty",
         "fillcolor": "#1995ad",
         "line": {
          "color": "black",
          "width": 2
         },
         "mode": "lines",
         "name": "50th Perc.",
         "showlegend": true,
         "type": "scatter",
         "x": [
          0.17708279287376172,
          0.12402336935224412,
          0.1352087553030401,
          0.09226228669945158,
          0.1212609124223718,
          0.09071041695563054,
          0.07008266189600931,
          0.05514318446309119
         ],
         "xaxis": "x2",
         "y": [
          120,
          125,
          130,
          135,
          140,
          145,
          150,
          160
         ],
         "yaxis": "y3"
        },
        {
         "fill": "tonexty",
         "fillcolor": "#a1d6e2",
         "line": {
          "color": "gray",
          "width": 1
         },
         "mode": "lines",
         "name": "75th Perc.",
         "showlegend": true,
         "type": "scatter",
         "x": [
          0.9253682264898089,
          0.8637633275299095,
          0.642903996705968,
          0.3233986078932105,
          0.5693754023816666,
          0.19106383142286631,
          0.1778741626212721,
          0.1619615108694461
         ],
         "xaxis": "x2",
         "y": [
          120,
          125,
          130,
          135,
          140,
          145,
          150,
          160
         ],
         "yaxis": "y3"
        },
        {
         "fill": "tonexty",
         "fillcolor": "#c4dfe6",
         "line": {
          "color": "gray",
          "width": 1
         },
         "mode": "lines",
         "name": "90th Perc.",
         "showlegend": true,
         "type": "scatter",
         "x": [
          2.068235787078266,
          1.4764680145162865,
          1.1590981596754093,
          0.7123520351370871,
          3.32130239755203,
          0.45193972120216597,
          0.28945624785947643,
          0.31110172216131105
         ],
         "xaxis": "x2",
         "y": [
          120,
          125,
          130,
          135,
          140,
          145,
          150,
          160
         ],
         "yaxis": "y3"
        }
       ],
       "layout": {
        "annotations": [
         {
          "font": {
           "size": 16
          },
          "showarrow": false,
          "text": "MLT 3-9",
          "x": 0.47,
          "xanchor": "center",
          "xref": "paper",
          "y": 1,
          "yanchor": "bottom",
          "yref": "paper"
         }
        ],
        "height": 1000,
        "legend": {
         "orientation": "h",
         "y": -0.04
        },
        "showlegend": true,
        "template": {
         "data": {
          "bar": [
           {
            "error_x": {
             "color": "#2a3f5f"
            },
            "error_y": {
             "color": "#2a3f5f"
            },
            "marker": {
             "line": {
              "color": "#E5ECF6",
              "width": 0.5
             }
            },
            "type": "bar"
           }
          ],
          "barpolar": [
           {
            "marker": {
             "line": {
              "color": "#E5ECF6",
              "width": 0.5
             }
            },
            "type": "barpolar"
           }
          ],
          "carpet": [
           {
            "aaxis": {
             "endlinecolor": "#2a3f5f",
             "gridcolor": "white",
             "linecolor": "white",
             "minorgridcolor": "white",
             "startlinecolor": "#2a3f5f"
            },
            "baxis": {
             "endlinecolor": "#2a3f5f",
             "gridcolor": "white",
             "linecolor": "white",
             "minorgridcolor": "white",
             "startlinecolor": "#2a3f5f"
            },
            "type": "carpet"
           }
          ],
          "choropleth": [
           {
            "colorbar": {
             "outlinewidth": 0,
             "ticks": ""
            },
            "type": "choropleth"
           }
          ],
          "contour": [
           {
            "colorbar": {
             "outlinewidth": 0,
             "ticks": ""
            },
            "colorscale": [
             [
              0,
              "#0d0887"
             ],
             [
              0.1111111111111111,
              "#46039f"
             ],
             [
              0.2222222222222222,
              "#7201a8"
             ],
             [
              0.3333333333333333,
              "#9c179e"
             ],
             [
              0.4444444444444444,
              "#bd3786"
             ],
             [
              0.5555555555555556,
              "#d8576b"
             ],
             [
              0.6666666666666666,
              "#ed7953"
             ],
             [
              0.7777777777777778,
              "#fb9f3a"
             ],
             [
              0.8888888888888888,
              "#fdca26"
             ],
             [
              1,
              "#f0f921"
             ]
            ],
            "type": "contour"
           }
          ],
          "contourcarpet": [
           {
            "colorbar": {
             "outlinewidth": 0,
             "ticks": ""
            },
            "type": "contourcarpet"
           }
          ],
          "heatmap": [
           {
            "colorbar": {
             "outlinewidth": 0,
             "ticks": ""
            },
            "colorscale": [
             [
              0,
              "#0d0887"
             ],
             [
              0.1111111111111111,
              "#46039f"
             ],
             [
              0.2222222222222222,
              "#7201a8"
             ],
             [
              0.3333333333333333,
              "#9c179e"
             ],
             [
              0.4444444444444444,
              "#bd3786"
             ],
             [
              0.5555555555555556,
              "#d8576b"
             ],
             [
              0.6666666666666666,
              "#ed7953"
             ],
             [
              0.7777777777777778,
              "#fb9f3a"
             ],
             [
              0.8888888888888888,
              "#fdca26"
             ],
             [
              1,
              "#f0f921"
             ]
            ],
            "type": "heatmap"
           }
          ],
          "heatmapgl": [
           {
            "colorbar": {
             "outlinewidth": 0,
             "ticks": ""
            },
            "colorscale": [
             [
              0,
              "#0d0887"
             ],
             [
              0.1111111111111111,
              "#46039f"
             ],
             [
              0.2222222222222222,
              "#7201a8"
             ],
             [
              0.3333333333333333,
              "#9c179e"
             ],
             [
              0.4444444444444444,
              "#bd3786"
             ],
             [
              0.5555555555555556,
              "#d8576b"
             ],
             [
              0.6666666666666666,
              "#ed7953"
             ],
             [
              0.7777777777777778,
              "#fb9f3a"
             ],
             [
              0.8888888888888888,
              "#fdca26"
             ],
             [
              1,
              "#f0f921"
             ]
            ],
            "type": "heatmapgl"
           }
          ],
          "histogram": [
           {
            "marker": {
             "colorbar": {
              "outlinewidth": 0,
              "ticks": ""
             }
            },
            "type": "histogram"
           }
          ],
          "histogram2d": [
           {
            "colorbar": {
             "outlinewidth": 0,
             "ticks": ""
            },
            "colorscale": [
             [
              0,
              "#0d0887"
             ],
             [
              0.1111111111111111,
              "#46039f"
             ],
             [
              0.2222222222222222,
              "#7201a8"
             ],
             [
              0.3333333333333333,
              "#9c179e"
             ],
             [
              0.4444444444444444,
              "#bd3786"
             ],
             [
              0.5555555555555556,
              "#d8576b"
             ],
             [
              0.6666666666666666,
              "#ed7953"
             ],
             [
              0.7777777777777778,
              "#fb9f3a"
             ],
             [
              0.8888888888888888,
              "#fdca26"
             ],
             [
              1,
              "#f0f921"
             ]
            ],
            "type": "histogram2d"
           }
          ],
          "histogram2dcontour": [
           {
            "colorbar": {
             "outlinewidth": 0,
             "ticks": ""
            },
            "colorscale": [
             [
              0,
              "#0d0887"
             ],
             [
              0.1111111111111111,
              "#46039f"
             ],
             [
              0.2222222222222222,
              "#7201a8"
             ],
             [
              0.3333333333333333,
              "#9c179e"
             ],
             [
              0.4444444444444444,
              "#bd3786"
             ],
             [
              0.5555555555555556,
              "#d8576b"
             ],
             [
              0.6666666666666666,
              "#ed7953"
             ],
             [
              0.7777777777777778,
              "#fb9f3a"
             ],
             [
              0.8888888888888888,
              "#fdca26"
             ],
             [
              1,
              "#f0f921"
             ]
            ],
            "type": "histogram2dcontour"
           }
          ],
          "mesh3d": [
           {
            "colorbar": {
             "outlinewidth": 0,
             "ticks": ""
            },
            "type": "mesh3d"
           }
          ],
          "parcoords": [
           {
            "line": {
             "colorbar": {
              "outlinewidth": 0,
              "ticks": ""
             }
            },
            "type": "parcoords"
           }
          ],
          "pie": [
           {
            "automargin": true,
            "type": "pie"
           }
          ],
          "scatter": [
           {
            "marker": {
             "colorbar": {
              "outlinewidth": 0,
              "ticks": ""
             }
            },
            "type": "scatter"
           }
          ],
          "scatter3d": [
           {
            "line": {
             "colorbar": {
              "outlinewidth": 0,
              "ticks": ""
             }
            },
            "marker": {
             "colorbar": {
              "outlinewidth": 0,
              "ticks": ""
             }
            },
            "type": "scatter3d"
           }
          ],
          "scattercarpet": [
           {
            "marker": {
             "colorbar": {
              "outlinewidth": 0,
              "ticks": ""
             }
            },
            "type": "scattercarpet"
           }
          ],
          "scattergeo": [
           {
            "marker": {
             "colorbar": {
              "outlinewidth": 0,
              "ticks": ""
             }
            },
            "type": "scattergeo"
           }
          ],
          "scattergl": [
           {
            "marker": {
             "colorbar": {
              "outlinewidth": 0,
              "ticks": ""
             }
            },
            "type": "scattergl"
           }
          ],
          "scattermapbox": [
           {
            "marker": {
             "colorbar": {
              "outlinewidth": 0,
              "ticks": ""
             }
            },
            "type": "scattermapbox"
           }
          ],
          "scatterpolar": [
           {
            "marker": {
             "colorbar": {
              "outlinewidth": 0,
              "ticks": ""
             }
            },
            "type": "scatterpolar"
           }
          ],
          "scatterpolargl": [
           {
            "marker": {
             "colorbar": {
              "outlinewidth": 0,
              "ticks": ""
             }
            },
            "type": "scatterpolargl"
           }
          ],
          "scatterternary": [
           {
            "marker": {
             "colorbar": {
              "outlinewidth": 0,
              "ticks": ""
             }
            },
            "type": "scatterternary"
           }
          ],
          "surface": [
           {
            "colorbar": {
             "outlinewidth": 0,
             "ticks": ""
            },
            "colorscale": [
             [
              0,
              "#0d0887"
             ],
             [
              0.1111111111111111,
              "#46039f"
             ],
             [
              0.2222222222222222,
              "#7201a8"
             ],
             [
              0.3333333333333333,
              "#9c179e"
             ],
             [
              0.4444444444444444,
              "#bd3786"
             ],
             [
              0.5555555555555556,
              "#d8576b"
             ],
             [
              0.6666666666666666,
              "#ed7953"
             ],
             [
              0.7777777777777778,
              "#fb9f3a"
             ],
             [
              0.8888888888888888,
              "#fdca26"
             ],
             [
              1,
              "#f0f921"
             ]
            ],
            "type": "surface"
           }
          ],
          "table": [
           {
            "cells": {
             "fill": {
              "color": "#EBF0F8"
             },
             "line": {
              "color": "white"
             }
            },
            "header": {
             "fill": {
              "color": "#C8D4E3"
             },
             "line": {
              "color": "white"
             }
            },
            "type": "table"
           }
          ]
         },
         "layout": {
          "annotationdefaults": {
           "arrowcolor": "#2a3f5f",
           "arrowhead": 0,
           "arrowwidth": 1
          },
          "coloraxis": {
           "colorbar": {
            "outlinewidth": 0,
            "ticks": ""
           }
          },
          "colorscale": {
           "diverging": [
            [
             0,
             "#8e0152"
            ],
            [
             0.1,
             "#c51b7d"
            ],
            [
             0.2,
             "#de77ae"
            ],
            [
             0.3,
             "#f1b6da"
            ],
            [
             0.4,
             "#fde0ef"
            ],
            [
             0.5,
             "#f7f7f7"
            ],
            [
             0.6,
             "#e6f5d0"
            ],
            [
             0.7,
             "#b8e186"
            ],
            [
             0.8,
             "#7fbc41"
            ],
            [
             0.9,
             "#4d9221"
            ],
            [
             1,
             "#276419"
            ]
           ],
           "sequential": [
            [
             0,
             "#0d0887"
            ],
            [
             0.1111111111111111,
             "#46039f"
            ],
            [
             0.2222222222222222,
             "#7201a8"
            ],
            [
             0.3333333333333333,
             "#9c179e"
            ],
            [
             0.4444444444444444,
             "#bd3786"
            ],
            [
             0.5555555555555556,
             "#d8576b"
            ],
            [
             0.6666666666666666,
             "#ed7953"
            ],
            [
             0.7777777777777778,
             "#fb9f3a"
            ],
            [
             0.8888888888888888,
             "#fdca26"
            ],
            [
             1,
             "#f0f921"
            ]
           ],
           "sequentialminus": [
            [
             0,
             "#0d0887"
            ],
            [
             0.1111111111111111,
             "#46039f"
            ],
            [
             0.2222222222222222,
             "#7201a8"
            ],
            [
             0.3333333333333333,
             "#9c179e"
            ],
            [
             0.4444444444444444,
             "#bd3786"
            ],
            [
             0.5555555555555556,
             "#d8576b"
            ],
            [
             0.6666666666666666,
             "#ed7953"
            ],
            [
             0.7777777777777778,
             "#fb9f3a"
            ],
            [
             0.8888888888888888,
             "#fdca26"
            ],
            [
             1,
             "#f0f921"
            ]
           ]
          },
          "colorway": [
           "#636efa",
           "#EF553B",
           "#00cc96",
           "#ab63fa",
           "#FFA15A",
           "#19d3f3",
           "#FF6692",
           "#B6E880",
           "#FF97FF",
           "#FECB52"
          ],
          "font": {
           "color": "#2a3f5f"
          },
          "geo": {
           "bgcolor": "white",
           "lakecolor": "white",
           "landcolor": "#E5ECF6",
           "showlakes": true,
           "showland": true,
           "subunitcolor": "white"
          },
          "hoverlabel": {
           "align": "left"
          },
          "hovermode": "closest",
          "mapbox": {
           "style": "light"
          },
          "paper_bgcolor": "white",
          "plot_bgcolor": "#E5ECF6",
          "polar": {
           "angularaxis": {
            "gridcolor": "white",
            "linecolor": "white",
            "ticks": ""
           },
           "bgcolor": "#E5ECF6",
           "radialaxis": {
            "gridcolor": "white",
            "linecolor": "white",
            "ticks": ""
           }
          },
          "scene": {
           "xaxis": {
            "backgroundcolor": "#E5ECF6",
            "gridcolor": "white",
            "gridwidth": 2,
            "linecolor": "white",
            "showbackground": true,
            "ticks": "",
            "zerolinecolor": "white"
           },
           "yaxis": {
            "backgroundcolor": "#E5ECF6",
            "gridcolor": "white",
            "gridwidth": 2,
            "linecolor": "white",
            "showbackground": true,
            "ticks": "",
            "zerolinecolor": "white"
           },
           "zaxis": {
            "backgroundcolor": "#E5ECF6",
            "gridcolor": "white",
            "gridwidth": 2,
            "linecolor": "white",
            "showbackground": true,
            "ticks": "",
            "zerolinecolor": "white"
           }
          },
          "shapedefaults": {
           "line": {
            "color": "#2a3f5f"
           }
          },
          "ternary": {
           "aaxis": {
            "gridcolor": "white",
            "linecolor": "white",
            "ticks": ""
           },
           "baxis": {
            "gridcolor": "white",
            "linecolor": "white",
            "ticks": ""
           },
           "bgcolor": "#E5ECF6",
           "caxis": {
            "gridcolor": "white",
            "linecolor": "white",
            "ticks": ""
           }
          },
          "title": {
           "x": 0.05
          },
          "xaxis": {
           "automargin": true,
           "gridcolor": "white",
           "linecolor": "white",
           "ticks": "",
           "title": {
            "standoff": 15
           },
           "zerolinecolor": "white",
           "zerolinewidth": 2
          },
          "yaxis": {
           "automargin": true,
           "gridcolor": "white",
           "linecolor": "white",
           "ticks": "",
           "title": {
            "standoff": 15
           },
           "zerolinecolor": "white",
           "zerolinewidth": 2
          }
         }
        },
        "title": {
         "text": "Auroral E region, dawn sector<br>Alt.Prof. of Joule Heating (10^-8 W/m3)"
        },
        "width": 1100,
        "xaxis": {
         "anchor": "y",
         "domain": [
          0,
          0.94
         ],
         "matches": "x2",
         "range": [
          0,
          4
         ],
         "showticklabels": false
        },
        "xaxis2": {
         "anchor": "y3",
         "domain": [
          0,
          0.94
         ],
         "range": [
          0,
          4
         ]
        },
        "yaxis": {
         "anchor": "x",
         "domain": [
          0.5175,
          1
         ],
         "dtick": 10,
         "range": [
          80,
          160
         ],
         "side": "left",
         "title": {
          "text": "Altitude (km)"
         }
        },
        "yaxis2": {
         "anchor": "x",
         "dtick": 10,
         "overlaying": "y",
         "range": [
          80,
          160
         ],
         "showticklabels": false,
         "side": "right",
         "title": {
          "text": "Kp 0 - 3"
         }
        },
        "yaxis3": {
         "anchor": "x2",
         "domain": [
          0,
          0.4825
         ],
         "dtick": 10,
         "range": [
          80,
          160
         ],
         "side": "left",
         "title": {
          "text": "Altitude (km)"
         }
        },
        "yaxis4": {
         "anchor": "x2",
         "dtick": 10,
         "overlaying": "y3",
         "range": [
          80,
          160
         ],
         "showticklabels": false,
         "side": "right",
         "title": {
          "text": "Kp 3 - 9"
         }
        }
       }
      },
      "text/html": [
       "<div>\n",
       "        \n",
       "        \n",
       "            <div id=\"c30602ea-ca69-4184-a3ab-67c22989f1f0\" class=\"plotly-graph-div\" style=\"height:1000px; width:1100px;\"></div>\n",
       "            <script type=\"text/javascript\">\n",
       "                require([\"plotly\"], function(Plotly) {\n",
       "                    window.PLOTLYENV=window.PLOTLYENV || {};\n",
       "                    \n",
       "                if (document.getElementById(\"c30602ea-ca69-4184-a3ab-67c22989f1f0\")) {\n",
       "                    Plotly.newPlot(\n",
       "                        'c30602ea-ca69-4184-a3ab-67c22989f1f0',\n",
       "                        [{\"fill\": \"tonexty\", \"fillcolor\": \"#c4dfe6\", \"line\": {\"color\": \"gray\", \"width\": 1}, \"mode\": \"lines\", \"showlegend\": false, \"type\": \"scatter\", \"x\": [0, 0, 0, 0, 0, 0, 0, 0], \"xaxis\": \"x\", \"y\": [120, 125, 130, 135, 140, 145, 150, 160], \"yaxis\": \"y\"}, {\"fill\": \"tonexty\", \"fillcolor\": \"#c4dfe6\", \"line\": {\"color\": \"gray\", \"width\": 1}, \"mode\": \"lines\", \"showlegend\": false, \"type\": \"scatter\", \"x\": [0.01720631692680996, 0.016452385565024485, 0.015575080808405417, 0.01331534243975696, 0.009972380837774962, 0.009830938771382414, 0.00707694625123878, 0.0051467893141809995], \"xaxis\": \"x\", \"y\": [120, 125, 130, 135, 140, 145, 150, 160], \"yaxis\": \"y\"}, {\"fill\": \"tonexty\", \"fillcolor\": \"#a1d6e2\", \"line\": {\"color\": \"gray\", \"width\": 1}, \"mode\": \"lines\", \"showlegend\": false, \"type\": \"scatter\", \"x\": [0.05037902317539533, 0.04677697673649561, 0.049596346474167774, 0.041392735766754285, 0.029337787060823572, 0.02996350806361292, 0.020519959342824023, 0.015757962296136796], \"xaxis\": \"x\", \"y\": [120, 125, 130, 135, 140, 145, 150, 160], \"yaxis\": \"y\"}, {\"fill\": \"tonexty\", \"fillcolor\": \"#1995ad\", \"line\": {\"color\": \"black\", \"width\": 2}, \"mode\": \"lines\", \"showlegend\": false, \"type\": \"scatter\", \"x\": [0.2096374851490168, 0.22581820857681123, 0.15276805931385695, 0.14294707639805893, 0.08145197294417983, 0.07258161849321709, 0.06203475511057377, 0.04673161857482455], \"xaxis\": \"x\", \"y\": [120, 125, 130, 135, 140, 145, 150, 160], \"yaxis\": \"y\"}, {\"fill\": \"tonexty\", \"fillcolor\": \"#a1d6e2\", \"line\": {\"color\": \"gray\", \"width\": 1}, \"mode\": \"lines\", \"showlegend\": false, \"type\": \"scatter\", \"x\": [0.7490338127524865, 0.6086815496075815, 0.46080254056946046, 0.35486663052530787, 0.3093306777390836, 0.18256560985197012, 0.16509524858321356, 0.12114625969061876], \"xaxis\": \"x\", \"y\": [120, 125, 130, 135, 140, 145, 150, 160], \"yaxis\": \"y\"}, {\"fill\": \"tonexty\", \"fillcolor\": \"#c4dfe6\", \"line\": {\"color\": \"gray\", \"width\": 1}, \"mode\": \"lines\", \"showlegend\": false, \"type\": \"scatter\", \"x\": [2.4782664809208654, 1.85103473882009, 1.2876896793301282, 1.0745605472095576, 1.3146232014094037, 0.33558547496426167, 0.3273901327816021, 0.26584346279889803], \"xaxis\": \"x\", \"y\": [120, 125, 130, 135, 140, 145, 150, 160], \"yaxis\": \"y\"}, {\"showlegend\": false, \"type\": \"scatter\", \"x\": [-1000], \"xaxis\": \"x\", \"y\": [-1000], \"yaxis\": \"y2\"}, {\"fill\": \"tonexty\", \"fillcolor\": \"#c4dfe6\", \"line\": {\"color\": \"gray\", \"width\": 1}, \"mode\": \"lines\", \"showlegend\": false, \"type\": \"scatter\", \"x\": [0, 0, 0, 0, 0, 0, 0, 0], \"xaxis\": \"x2\", \"y\": [120, 125, 130, 135, 140, 145, 150, 160], \"yaxis\": \"y3\"}, {\"fill\": \"tonexty\", \"fillcolor\": \"#c4dfe6\", \"line\": {\"color\": \"gray\", \"width\": 1}, \"mode\": \"lines\", \"showlegend\": false, \"type\": \"scatter\", \"x\": [0.021358196045095923, 0.015723483348661915, 0.02904191276353885, 0.023611856636573947, 0.015797939484363258, 0.010292948715573404, 0.007011254424260649, 0.005036535077884707], \"xaxis\": \"x2\", \"y\": [120, 125, 130, 135, 140, 145, 150, 160], \"yaxis\": \"y3\"}, {\"fill\": \"tonexty\", \"fillcolor\": \"#a1d6e2\", \"line\": {\"color\": \"gray\", \"width\": 1}, \"mode\": \"lines\", \"showlegend\": false, \"type\": \"scatter\", \"x\": [0.06379658884503314, 0.04114565632651335, 0.04864652430880412, 0.04337821490896232, 0.0352434734174345, 0.027615601472241735, 0.021181136705683556, 0.015203319159162731], \"xaxis\": \"x2\", \"y\": [120, 125, 130, 135, 140, 145, 150, 160], \"yaxis\": \"y3\"}, {\"fill\": \"tonexty\", \"fillcolor\": \"#1995ad\", \"line\": {\"color\": \"black\", \"width\": 2}, \"mode\": \"lines\", \"showlegend\": false, \"type\": \"scatter\", \"x\": [0.17708279287376172, 0.12402336935224412, 0.1352087553030401, 0.09226228669945158, 0.1212609124223718, 0.09071041695563054, 0.07008266189600931, 0.05514318446309119], \"xaxis\": \"x2\", \"y\": [120, 125, 130, 135, 140, 145, 150, 160], \"yaxis\": \"y3\"}, {\"fill\": \"tonexty\", \"fillcolor\": \"#a1d6e2\", \"line\": {\"color\": \"gray\", \"width\": 1}, \"mode\": \"lines\", \"showlegend\": false, \"type\": \"scatter\", \"x\": [0.9253682264898089, 0.8637633275299095, 0.642903996705968, 0.3233986078932105, 0.5693754023816666, 0.19106383142286631, 0.1778741626212721, 0.1619615108694461], \"xaxis\": \"x2\", \"y\": [120, 125, 130, 135, 140, 145, 150, 160], \"yaxis\": \"y3\"}, {\"fill\": \"tonexty\", \"fillcolor\": \"#c4dfe6\", \"line\": {\"color\": \"gray\", \"width\": 1}, \"mode\": \"lines\", \"showlegend\": false, \"type\": \"scatter\", \"x\": [2.068235787078266, 1.4764680145162865, 1.1590981596754093, 0.7123520351370871, 3.32130239755203, 0.45193972120216597, 0.28945624785947643, 0.31110172216131105], \"xaxis\": \"x2\", \"y\": [120, 125, 130, 135, 140, 145, 150, 160], \"yaxis\": \"y3\"}, {\"showlegend\": false, \"type\": \"scatter\", \"x\": [-1000], \"xaxis\": \"x2\", \"y\": [-1000], \"yaxis\": \"y4\"}, {\"fill\": \"tonexty\", \"fillcolor\": \"#c4dfe6\", \"line\": {\"color\": \"gray\", \"width\": 1}, \"mode\": \"lines\", \"name\": \"10th Perc.\", \"showlegend\": true, \"type\": \"scatter\", \"x\": [0.021358196045095923, 0.015723483348661915, 0.02904191276353885, 0.023611856636573947, 0.015797939484363258, 0.010292948715573404, 0.007011254424260649, 0.005036535077884707], \"xaxis\": \"x2\", \"y\": [120, 125, 130, 135, 140, 145, 150, 160], \"yaxis\": \"y3\"}, {\"fill\": \"tonexty\", \"fillcolor\": \"#a1d6e2\", \"line\": {\"color\": \"gray\", \"width\": 1}, \"mode\": \"lines\", \"name\": \"25th Perc.\", \"showlegend\": true, \"type\": \"scatter\", \"x\": [0.06379658884503314, 0.04114565632651335, 0.04864652430880412, 0.04337821490896232, 0.0352434734174345, 0.027615601472241735, 0.021181136705683556, 0.015203319159162731], \"xaxis\": \"x2\", \"y\": [120, 125, 130, 135, 140, 145, 150, 160], \"yaxis\": \"y3\"}, {\"fill\": \"tonexty\", \"fillcolor\": \"#1995ad\", \"line\": {\"color\": \"black\", \"width\": 2}, \"mode\": \"lines\", \"name\": \"50th Perc.\", \"showlegend\": true, \"type\": \"scatter\", \"x\": [0.17708279287376172, 0.12402336935224412, 0.1352087553030401, 0.09226228669945158, 0.1212609124223718, 0.09071041695563054, 0.07008266189600931, 0.05514318446309119], \"xaxis\": \"x2\", \"y\": [120, 125, 130, 135, 140, 145, 150, 160], \"yaxis\": \"y3\"}, {\"fill\": \"tonexty\", \"fillcolor\": \"#a1d6e2\", \"line\": {\"color\": \"gray\", \"width\": 1}, \"mode\": \"lines\", \"name\": \"75th Perc.\", \"showlegend\": true, \"type\": \"scatter\", \"x\": [0.9253682264898089, 0.8637633275299095, 0.642903996705968, 0.3233986078932105, 0.5693754023816666, 0.19106383142286631, 0.1778741626212721, 0.1619615108694461], \"xaxis\": \"x2\", \"y\": [120, 125, 130, 135, 140, 145, 150, 160], \"yaxis\": \"y3\"}, {\"fill\": \"tonexty\", \"fillcolor\": \"#c4dfe6\", \"line\": {\"color\": \"gray\", \"width\": 1}, \"mode\": \"lines\", \"name\": \"90th Perc.\", \"showlegend\": true, \"type\": \"scatter\", \"x\": [2.068235787078266, 1.4764680145162865, 1.1590981596754093, 0.7123520351370871, 3.32130239755203, 0.45193972120216597, 0.28945624785947643, 0.31110172216131105], \"xaxis\": \"x2\", \"y\": [120, 125, 130, 135, 140, 145, 150, 160], \"yaxis\": \"y3\"}],\n",
       "                        {\"annotations\": [{\"font\": {\"size\": 16}, \"showarrow\": false, \"text\": \"MLT 3-9\", \"x\": 0.47, \"xanchor\": \"center\", \"xref\": \"paper\", \"y\": 1.0, \"yanchor\": \"bottom\", \"yref\": \"paper\"}], \"height\": 1000, \"legend\": {\"orientation\": \"h\", \"y\": -0.04}, \"showlegend\": true, \"template\": {\"data\": {\"bar\": [{\"error_x\": {\"color\": \"#2a3f5f\"}, \"error_y\": {\"color\": \"#2a3f5f\"}, \"marker\": {\"line\": {\"color\": \"#E5ECF6\", \"width\": 0.5}}, \"type\": \"bar\"}], \"barpolar\": [{\"marker\": {\"line\": {\"color\": \"#E5ECF6\", \"width\": 0.5}}, \"type\": \"barpolar\"}], \"carpet\": [{\"aaxis\": {\"endlinecolor\": \"#2a3f5f\", \"gridcolor\": \"white\", \"linecolor\": \"white\", \"minorgridcolor\": \"white\", \"startlinecolor\": \"#2a3f5f\"}, \"baxis\": {\"endlinecolor\": \"#2a3f5f\", \"gridcolor\": \"white\", \"linecolor\": \"white\", \"minorgridcolor\": \"white\", \"startlinecolor\": \"#2a3f5f\"}, \"type\": \"carpet\"}], \"choropleth\": [{\"colorbar\": {\"outlinewidth\": 0, \"ticks\": \"\"}, \"type\": \"choropleth\"}], \"contour\": [{\"colorbar\": {\"outlinewidth\": 0, \"ticks\": \"\"}, \"colorscale\": [[0.0, \"#0d0887\"], [0.1111111111111111, \"#46039f\"], [0.2222222222222222, \"#7201a8\"], [0.3333333333333333, \"#9c179e\"], [0.4444444444444444, \"#bd3786\"], [0.5555555555555556, \"#d8576b\"], [0.6666666666666666, \"#ed7953\"], [0.7777777777777778, \"#fb9f3a\"], [0.8888888888888888, \"#fdca26\"], [1.0, \"#f0f921\"]], \"type\": \"contour\"}], \"contourcarpet\": [{\"colorbar\": {\"outlinewidth\": 0, \"ticks\": \"\"}, \"type\": \"contourcarpet\"}], \"heatmap\": [{\"colorbar\": {\"outlinewidth\": 0, \"ticks\": \"\"}, \"colorscale\": [[0.0, \"#0d0887\"], [0.1111111111111111, \"#46039f\"], [0.2222222222222222, \"#7201a8\"], [0.3333333333333333, \"#9c179e\"], [0.4444444444444444, \"#bd3786\"], [0.5555555555555556, \"#d8576b\"], [0.6666666666666666, \"#ed7953\"], [0.7777777777777778, \"#fb9f3a\"], [0.8888888888888888, \"#fdca26\"], [1.0, \"#f0f921\"]], \"type\": \"heatmap\"}], \"heatmapgl\": [{\"colorbar\": {\"outlinewidth\": 0, \"ticks\": \"\"}, \"colorscale\": [[0.0, \"#0d0887\"], [0.1111111111111111, \"#46039f\"], [0.2222222222222222, \"#7201a8\"], [0.3333333333333333, \"#9c179e\"], [0.4444444444444444, \"#bd3786\"], [0.5555555555555556, \"#d8576b\"], [0.6666666666666666, \"#ed7953\"], [0.7777777777777778, \"#fb9f3a\"], [0.8888888888888888, \"#fdca26\"], [1.0, \"#f0f921\"]], \"type\": \"heatmapgl\"}], \"histogram\": [{\"marker\": {\"colorbar\": {\"outlinewidth\": 0, \"ticks\": \"\"}}, \"type\": \"histogram\"}], \"histogram2d\": [{\"colorbar\": {\"outlinewidth\": 0, \"ticks\": \"\"}, \"colorscale\": [[0.0, \"#0d0887\"], [0.1111111111111111, \"#46039f\"], [0.2222222222222222, \"#7201a8\"], [0.3333333333333333, \"#9c179e\"], [0.4444444444444444, \"#bd3786\"], [0.5555555555555556, \"#d8576b\"], [0.6666666666666666, \"#ed7953\"], [0.7777777777777778, \"#fb9f3a\"], [0.8888888888888888, \"#fdca26\"], [1.0, \"#f0f921\"]], \"type\": \"histogram2d\"}], \"histogram2dcontour\": [{\"colorbar\": {\"outlinewidth\": 0, \"ticks\": \"\"}, \"colorscale\": [[0.0, \"#0d0887\"], [0.1111111111111111, \"#46039f\"], [0.2222222222222222, \"#7201a8\"], [0.3333333333333333, \"#9c179e\"], [0.4444444444444444, \"#bd3786\"], [0.5555555555555556, \"#d8576b\"], [0.6666666666666666, \"#ed7953\"], [0.7777777777777778, \"#fb9f3a\"], [0.8888888888888888, \"#fdca26\"], [1.0, \"#f0f921\"]], \"type\": \"histogram2dcontour\"}], \"mesh3d\": [{\"colorbar\": {\"outlinewidth\": 0, \"ticks\": \"\"}, \"type\": \"mesh3d\"}], \"parcoords\": [{\"line\": {\"colorbar\": {\"outlinewidth\": 0, \"ticks\": \"\"}}, \"type\": \"parcoords\"}], \"pie\": [{\"automargin\": true, \"type\": \"pie\"}], \"scatter\": [{\"marker\": {\"colorbar\": {\"outlinewidth\": 0, \"ticks\": \"\"}}, \"type\": \"scatter\"}], \"scatter3d\": [{\"line\": {\"colorbar\": {\"outlinewidth\": 0, \"ticks\": \"\"}}, \"marker\": {\"colorbar\": {\"outlinewidth\": 0, \"ticks\": \"\"}}, \"type\": \"scatter3d\"}], \"scattercarpet\": [{\"marker\": {\"colorbar\": {\"outlinewidth\": 0, \"ticks\": \"\"}}, \"type\": \"scattercarpet\"}], \"scattergeo\": [{\"marker\": {\"colorbar\": {\"outlinewidth\": 0, \"ticks\": \"\"}}, \"type\": \"scattergeo\"}], \"scattergl\": [{\"marker\": {\"colorbar\": {\"outlinewidth\": 0, \"ticks\": \"\"}}, \"type\": \"scattergl\"}], \"scattermapbox\": [{\"marker\": {\"colorbar\": {\"outlinewidth\": 0, \"ticks\": \"\"}}, \"type\": \"scattermapbox\"}], \"scatterpolar\": [{\"marker\": {\"colorbar\": {\"outlinewidth\": 0, \"ticks\": \"\"}}, \"type\": \"scatterpolar\"}], \"scatterpolargl\": [{\"marker\": {\"colorbar\": {\"outlinewidth\": 0, \"ticks\": \"\"}}, \"type\": \"scatterpolargl\"}], \"scatterternary\": [{\"marker\": {\"colorbar\": {\"outlinewidth\": 0, \"ticks\": \"\"}}, \"type\": \"scatterternary\"}], \"surface\": [{\"colorbar\": {\"outlinewidth\": 0, \"ticks\": \"\"}, \"colorscale\": [[0.0, \"#0d0887\"], [0.1111111111111111, \"#46039f\"], [0.2222222222222222, \"#7201a8\"], [0.3333333333333333, \"#9c179e\"], [0.4444444444444444, \"#bd3786\"], [0.5555555555555556, \"#d8576b\"], [0.6666666666666666, \"#ed7953\"], [0.7777777777777778, \"#fb9f3a\"], [0.8888888888888888, \"#fdca26\"], [1.0, \"#f0f921\"]], \"type\": \"surface\"}], \"table\": [{\"cells\": {\"fill\": {\"color\": \"#EBF0F8\"}, \"line\": {\"color\": \"white\"}}, \"header\": {\"fill\": {\"color\": \"#C8D4E3\"}, \"line\": {\"color\": \"white\"}}, \"type\": \"table\"}]}, \"layout\": {\"annotationdefaults\": {\"arrowcolor\": \"#2a3f5f\", \"arrowhead\": 0, \"arrowwidth\": 1}, \"coloraxis\": {\"colorbar\": {\"outlinewidth\": 0, \"ticks\": \"\"}}, \"colorscale\": {\"diverging\": [[0, \"#8e0152\"], [0.1, \"#c51b7d\"], [0.2, \"#de77ae\"], [0.3, \"#f1b6da\"], [0.4, \"#fde0ef\"], [0.5, \"#f7f7f7\"], [0.6, \"#e6f5d0\"], [0.7, \"#b8e186\"], [0.8, \"#7fbc41\"], [0.9, \"#4d9221\"], [1, \"#276419\"]], \"sequential\": [[0.0, \"#0d0887\"], [0.1111111111111111, \"#46039f\"], [0.2222222222222222, \"#7201a8\"], [0.3333333333333333, \"#9c179e\"], [0.4444444444444444, \"#bd3786\"], [0.5555555555555556, \"#d8576b\"], [0.6666666666666666, \"#ed7953\"], [0.7777777777777778, \"#fb9f3a\"], [0.8888888888888888, \"#fdca26\"], [1.0, \"#f0f921\"]], \"sequentialminus\": [[0.0, \"#0d0887\"], [0.1111111111111111, \"#46039f\"], [0.2222222222222222, \"#7201a8\"], [0.3333333333333333, \"#9c179e\"], [0.4444444444444444, \"#bd3786\"], [0.5555555555555556, \"#d8576b\"], [0.6666666666666666, \"#ed7953\"], [0.7777777777777778, \"#fb9f3a\"], [0.8888888888888888, \"#fdca26\"], [1.0, \"#f0f921\"]]}, \"colorway\": [\"#636efa\", \"#EF553B\", \"#00cc96\", \"#ab63fa\", \"#FFA15A\", \"#19d3f3\", \"#FF6692\", \"#B6E880\", \"#FF97FF\", \"#FECB52\"], \"font\": {\"color\": \"#2a3f5f\"}, \"geo\": {\"bgcolor\": \"white\", \"lakecolor\": \"white\", \"landcolor\": \"#E5ECF6\", \"showlakes\": true, \"showland\": true, \"subunitcolor\": \"white\"}, \"hoverlabel\": {\"align\": \"left\"}, \"hovermode\": \"closest\", \"mapbox\": {\"style\": \"light\"}, \"paper_bgcolor\": \"white\", \"plot_bgcolor\": \"#E5ECF6\", \"polar\": {\"angularaxis\": {\"gridcolor\": \"white\", \"linecolor\": \"white\", \"ticks\": \"\"}, \"bgcolor\": \"#E5ECF6\", \"radialaxis\": {\"gridcolor\": \"white\", \"linecolor\": \"white\", \"ticks\": \"\"}}, \"scene\": {\"xaxis\": {\"backgroundcolor\": \"#E5ECF6\", \"gridcolor\": \"white\", \"gridwidth\": 2, \"linecolor\": \"white\", \"showbackground\": true, \"ticks\": \"\", \"zerolinecolor\": \"white\"}, \"yaxis\": {\"backgroundcolor\": \"#E5ECF6\", \"gridcolor\": \"white\", \"gridwidth\": 2, \"linecolor\": \"white\", \"showbackground\": true, \"ticks\": \"\", \"zerolinecolor\": \"white\"}, \"zaxis\": {\"backgroundcolor\": \"#E5ECF6\", \"gridcolor\": \"white\", \"gridwidth\": 2, \"linecolor\": \"white\", \"showbackground\": true, \"ticks\": \"\", \"zerolinecolor\": \"white\"}}, \"shapedefaults\": {\"line\": {\"color\": \"#2a3f5f\"}}, \"ternary\": {\"aaxis\": {\"gridcolor\": \"white\", \"linecolor\": \"white\", \"ticks\": \"\"}, \"baxis\": {\"gridcolor\": \"white\", \"linecolor\": \"white\", \"ticks\": \"\"}, \"bgcolor\": \"#E5ECF6\", \"caxis\": {\"gridcolor\": \"white\", \"linecolor\": \"white\", \"ticks\": \"\"}}, \"title\": {\"x\": 0.05}, \"xaxis\": {\"automargin\": true, \"gridcolor\": \"white\", \"linecolor\": \"white\", \"ticks\": \"\", \"title\": {\"standoff\": 15}, \"zerolinecolor\": \"white\", \"zerolinewidth\": 2}, \"yaxis\": {\"automargin\": true, \"gridcolor\": \"white\", \"linecolor\": \"white\", \"ticks\": \"\", \"title\": {\"standoff\": 15}, \"zerolinecolor\": \"white\", \"zerolinewidth\": 2}}}, \"title\": {\"text\": \"Auroral E region, dawn sector<br>Alt.Prof. of Joule Heating (10^-8 W/m3)\"}, \"width\": 1100, \"xaxis\": {\"anchor\": \"y\", \"domain\": [0.0, 0.94], \"matches\": \"x2\", \"range\": [0.0, 4.0], \"showticklabels\": false}, \"xaxis2\": {\"anchor\": \"y3\", \"domain\": [0.0, 0.94], \"range\": [0.0, 4.0]}, \"yaxis\": {\"anchor\": \"x\", \"domain\": [0.5175, 1.0], \"dtick\": 10, \"range\": [80, 160], \"side\": \"left\", \"title\": {\"text\": \"Altitude (km)\"}}, \"yaxis2\": {\"anchor\": \"x\", \"dtick\": 10, \"overlaying\": \"y\", \"range\": [80, 160], \"showticklabels\": false, \"side\": \"right\", \"title\": {\"text\": \"Kp 0 - 3\"}}, \"yaxis3\": {\"anchor\": \"x2\", \"domain\": [0.0, 0.4825], \"dtick\": 10, \"range\": [80, 160], \"side\": \"left\", \"title\": {\"text\": \"Altitude (km)\"}}, \"yaxis4\": {\"anchor\": \"x2\", \"dtick\": 10, \"overlaying\": \"y3\", \"range\": [80, 160], \"showticklabels\": false, \"side\": \"right\", \"title\": {\"text\": \"Kp 3 - 9\"}}},\n",
       "                        {\"responsive\": true}\n",
       "                    ).then(function(){\n",
       "                            \n",
       "var gd = document.getElementById('c30602ea-ca69-4184-a3ab-67c22989f1f0');\n",
       "var x = new MutationObserver(function (mutations, observer) {{\n",
       "        var display = window.getComputedStyle(gd).display;\n",
       "        if (!display || display === 'none') {{\n",
       "            console.log([gd, 'removed!']);\n",
       "            Plotly.purge(gd);\n",
       "            observer.disconnect();\n",
       "        }}\n",
       "}});\n",
       "\n",
       "// Listen for the removal of the full notebook cells\n",
       "var notebookContainer = gd.closest('#notebook-container');\n",
       "if (notebookContainer) {{\n",
       "    x.observe(notebookContainer, {childList: true});\n",
       "}}\n",
       "\n",
       "// Listen for the clearing of the current output cell\n",
       "var outputEl = gd.closest('.output');\n",
       "if (outputEl) {{\n",
       "    x.observe(outputEl, {childList: true});\n",
       "}}\n",
       "\n",
       "                        })\n",
       "                };\n",
       "                });\n",
       "            </script>\n",
       "        </div>"
      ]
     },
     "metadata": {},
     "output_type": "display_data"
    },
    {
     "data": {
      "application/vnd.plotly.v1+json": {
       "config": {
        "linkText": "Export to plot.ly",
        "plotlyServerURL": "https://plot.ly",
        "showLink": false
       },
       "data": [
        {
         "fill": "tonexty",
         "fillcolor": "#c4dfe6",
         "line": {
          "color": "gray",
          "width": 1
         },
         "mode": "lines",
         "showlegend": false,
         "type": "scatter",
         "x": [
          0,
          0,
          0,
          0,
          0,
          0,
          0,
          0
         ],
         "xaxis": "x",
         "y": [
          120,
          125,
          130,
          135,
          140,
          145,
          150,
          160
         ],
         "yaxis": "y"
        },
        {
         "fill": "tonexty",
         "fillcolor": "#c4dfe6",
         "line": {
          "color": "gray",
          "width": 1
         },
         "mode": "lines",
         "showlegend": false,
         "type": "scatter",
         "x": [
          0.01720631692680996,
          0.016452385565024485,
          0.015575080808405417,
          0.01331534243975696,
          0.009972380837774962,
          0.009830938771382414,
          0.00707694625123878,
          0.0051467893141809995
         ],
         "xaxis": "x",
         "y": [
          120,
          125,
          130,
          135,
          140,
          145,
          150,
          160
         ],
         "yaxis": "y"
        },
        {
         "fill": "tonexty",
         "fillcolor": "#a1d6e2",
         "line": {
          "color": "gray",
          "width": 1
         },
         "mode": "lines",
         "showlegend": false,
         "type": "scatter",
         "x": [
          0.05037902317539533,
          0.04677697673649561,
          0.049596346474167774,
          0.041392735766754285,
          0.029337787060823572,
          0.02996350806361292,
          0.020519959342824023,
          0.015757962296136796
         ],
         "xaxis": "x",
         "y": [
          120,
          125,
          130,
          135,
          140,
          145,
          150,
          160
         ],
         "yaxis": "y"
        },
        {
         "fill": "tonexty",
         "fillcolor": "#1995ad",
         "line": {
          "color": "black",
          "width": 2
         },
         "mode": "lines",
         "showlegend": false,
         "type": "scatter",
         "x": [
          0.2096374851490168,
          0.22581820857681123,
          0.15276805931385695,
          0.14294707639805893,
          0.08145197294417983,
          0.07258161849321709,
          0.06203475511057377,
          0.04673161857482455
         ],
         "xaxis": "x",
         "y": [
          120,
          125,
          130,
          135,
          140,
          145,
          150,
          160
         ],
         "yaxis": "y"
        },
        {
         "fill": "tonexty",
         "fillcolor": "#a1d6e2",
         "line": {
          "color": "gray",
          "width": 1
         },
         "mode": "lines",
         "showlegend": false,
         "type": "scatter",
         "x": [
          0.7490338127524865,
          0.6086815496075815,
          0.46080254056946046,
          0.35486663052530787,
          0.3093306777390836,
          0.18256560985197012,
          0.16509524858321356,
          0.12114625969061876
         ],
         "xaxis": "x",
         "y": [
          120,
          125,
          130,
          135,
          140,
          145,
          150,
          160
         ],
         "yaxis": "y"
        },
        {
         "fill": "tonexty",
         "fillcolor": "#c4dfe6",
         "line": {
          "color": "gray",
          "width": 1
         },
         "mode": "lines",
         "showlegend": false,
         "type": "scatter",
         "x": [
          2.4782664809208654,
          1.85103473882009,
          1.2876896793301282,
          1.0745605472095576,
          1.3146232014094037,
          0.33558547496426167,
          0.3273901327816021,
          0.26584346279889803
         ],
         "xaxis": "x",
         "y": [
          120,
          125,
          130,
          135,
          140,
          145,
          150,
          160
         ],
         "yaxis": "y"
        },
        {
         "showlegend": false,
         "type": "scatter",
         "x": [
          -1000
         ],
         "xaxis": "x",
         "y": [
          -1000
         ],
         "yaxis": "y2"
        },
        {
         "fill": "tonexty",
         "fillcolor": "#c4dfe6",
         "line": {
          "color": "gray",
          "width": 1
         },
         "mode": "lines",
         "showlegend": false,
         "type": "scatter",
         "x": [
          0,
          0,
          0,
          0,
          0,
          0,
          0,
          0
         ],
         "xaxis": "x2",
         "y": [
          120,
          125,
          130,
          135,
          140,
          145,
          150,
          160
         ],
         "yaxis": "y3"
        },
        {
         "fill": "tonexty",
         "fillcolor": "#c4dfe6",
         "line": {
          "color": "gray",
          "width": 1
         },
         "mode": "lines",
         "showlegend": false,
         "type": "scatter",
         "x": [
          0.021358196045095923,
          0.015723483348661915,
          0.02904191276353885,
          0.023611856636573947,
          0.015797939484363258,
          0.010292948715573404,
          0.007011254424260649,
          0.005036535077884707
         ],
         "xaxis": "x2",
         "y": [
          120,
          125,
          130,
          135,
          140,
          145,
          150,
          160
         ],
         "yaxis": "y3"
        },
        {
         "fill": "tonexty",
         "fillcolor": "#a1d6e2",
         "line": {
          "color": "gray",
          "width": 1
         },
         "mode": "lines",
         "showlegend": false,
         "type": "scatter",
         "x": [
          0.06379658884503314,
          0.04114565632651335,
          0.04864652430880412,
          0.04337821490896232,
          0.0352434734174345,
          0.027615601472241735,
          0.021181136705683556,
          0.015203319159162731
         ],
         "xaxis": "x2",
         "y": [
          120,
          125,
          130,
          135,
          140,
          145,
          150,
          160
         ],
         "yaxis": "y3"
        },
        {
         "fill": "tonexty",
         "fillcolor": "#1995ad",
         "line": {
          "color": "black",
          "width": 2
         },
         "mode": "lines",
         "showlegend": false,
         "type": "scatter",
         "x": [
          0.17708279287376172,
          0.12402336935224412,
          0.1352087553030401,
          0.09226228669945158,
          0.1212609124223718,
          0.09071041695563054,
          0.07008266189600931,
          0.05514318446309119
         ],
         "xaxis": "x2",
         "y": [
          120,
          125,
          130,
          135,
          140,
          145,
          150,
          160
         ],
         "yaxis": "y3"
        },
        {
         "fill": "tonexty",
         "fillcolor": "#a1d6e2",
         "line": {
          "color": "gray",
          "width": 1
         },
         "mode": "lines",
         "showlegend": false,
         "type": "scatter",
         "x": [
          0.9253682264898089,
          0.8637633275299095,
          0.642903996705968,
          0.3233986078932105,
          0.5693754023816666,
          0.19106383142286631,
          0.1778741626212721,
          0.1619615108694461
         ],
         "xaxis": "x2",
         "y": [
          120,
          125,
          130,
          135,
          140,
          145,
          150,
          160
         ],
         "yaxis": "y3"
        },
        {
         "fill": "tonexty",
         "fillcolor": "#c4dfe6",
         "line": {
          "color": "gray",
          "width": 1
         },
         "mode": "lines",
         "showlegend": false,
         "type": "scatter",
         "x": [
          2.068235787078266,
          1.4764680145162865,
          1.1590981596754093,
          0.7123520351370871,
          3.32130239755203,
          0.45193972120216597,
          0.28945624785947643,
          0.31110172216131105
         ],
         "xaxis": "x2",
         "y": [
          120,
          125,
          130,
          135,
          140,
          145,
          150,
          160
         ],
         "yaxis": "y3"
        },
        {
         "showlegend": false,
         "type": "scatter",
         "x": [
          -1000
         ],
         "xaxis": "x2",
         "y": [
          -1000
         ],
         "yaxis": "y4"
        },
        {
         "fill": "tonexty",
         "fillcolor": "#c4dfe6",
         "line": {
          "color": "gray",
          "width": 1
         },
         "mode": "lines",
         "name": "10th Perc.",
         "showlegend": true,
         "type": "scatter",
         "x": [
          0.021358196045095923,
          0.015723483348661915,
          0.02904191276353885,
          0.023611856636573947,
          0.015797939484363258,
          0.010292948715573404,
          0.007011254424260649,
          0.005036535077884707
         ],
         "xaxis": "x2",
         "y": [
          120,
          125,
          130,
          135,
          140,
          145,
          150,
          160
         ],
         "yaxis": "y3"
        },
        {
         "fill": "tonexty",
         "fillcolor": "#a1d6e2",
         "line": {
          "color": "gray",
          "width": 1
         },
         "mode": "lines",
         "name": "25th Perc.",
         "showlegend": true,
         "type": "scatter",
         "x": [
          0.06379658884503314,
          0.04114565632651335,
          0.04864652430880412,
          0.04337821490896232,
          0.0352434734174345,
          0.027615601472241735,
          0.021181136705683556,
          0.015203319159162731
         ],
         "xaxis": "x2",
         "y": [
          120,
          125,
          130,
          135,
          140,
          145,
          150,
          160
         ],
         "yaxis": "y3"
        },
        {
         "fill": "tonexty",
         "fillcolor": "#1995ad",
         "line": {
          "color": "black",
          "width": 2
         },
         "mode": "lines",
         "name": "50th Perc.",
         "showlegend": true,
         "type": "scatter",
         "x": [
          0.17708279287376172,
          0.12402336935224412,
          0.1352087553030401,
          0.09226228669945158,
          0.1212609124223718,
          0.09071041695563054,
          0.07008266189600931,
          0.05514318446309119
         ],
         "xaxis": "x2",
         "y": [
          120,
          125,
          130,
          135,
          140,
          145,
          150,
          160
         ],
         "yaxis": "y3"
        },
        {
         "fill": "tonexty",
         "fillcolor": "#a1d6e2",
         "line": {
          "color": "gray",
          "width": 1
         },
         "mode": "lines",
         "name": "75th Perc.",
         "showlegend": true,
         "type": "scatter",
         "x": [
          0.9253682264898089,
          0.8637633275299095,
          0.642903996705968,
          0.3233986078932105,
          0.5693754023816666,
          0.19106383142286631,
          0.1778741626212721,
          0.1619615108694461
         ],
         "xaxis": "x2",
         "y": [
          120,
          125,
          130,
          135,
          140,
          145,
          150,
          160
         ],
         "yaxis": "y3"
        },
        {
         "fill": "tonexty",
         "fillcolor": "#c4dfe6",
         "line": {
          "color": "gray",
          "width": 1
         },
         "mode": "lines",
         "name": "90th Perc.",
         "showlegend": true,
         "type": "scatter",
         "x": [
          2.068235787078266,
          1.4764680145162865,
          1.1590981596754093,
          0.7123520351370871,
          3.32130239755203,
          0.45193972120216597,
          0.28945624785947643,
          0.31110172216131105
         ],
         "xaxis": "x2",
         "y": [
          120,
          125,
          130,
          135,
          140,
          145,
          150,
          160
         ],
         "yaxis": "y3"
        }
       ],
       "layout": {
        "annotations": [
         {
          "font": {
           "size": 16
          },
          "showarrow": false,
          "text": "MLT 3-9",
          "x": 0.47,
          "xanchor": "center",
          "xref": "paper",
          "y": 1,
          "yanchor": "bottom",
          "yref": "paper"
         }
        ],
        "height": 1000,
        "legend": {
         "orientation": "h",
         "y": -0.04
        },
        "showlegend": true,
        "template": {
         "data": {
          "bar": [
           {
            "error_x": {
             "color": "#2a3f5f"
            },
            "error_y": {
             "color": "#2a3f5f"
            },
            "marker": {
             "line": {
              "color": "#E5ECF6",
              "width": 0.5
             }
            },
            "type": "bar"
           }
          ],
          "barpolar": [
           {
            "marker": {
             "line": {
              "color": "#E5ECF6",
              "width": 0.5
             }
            },
            "type": "barpolar"
           }
          ],
          "carpet": [
           {
            "aaxis": {
             "endlinecolor": "#2a3f5f",
             "gridcolor": "white",
             "linecolor": "white",
             "minorgridcolor": "white",
             "startlinecolor": "#2a3f5f"
            },
            "baxis": {
             "endlinecolor": "#2a3f5f",
             "gridcolor": "white",
             "linecolor": "white",
             "minorgridcolor": "white",
             "startlinecolor": "#2a3f5f"
            },
            "type": "carpet"
           }
          ],
          "choropleth": [
           {
            "colorbar": {
             "outlinewidth": 0,
             "ticks": ""
            },
            "type": "choropleth"
           }
          ],
          "contour": [
           {
            "colorbar": {
             "outlinewidth": 0,
             "ticks": ""
            },
            "colorscale": [
             [
              0,
              "#0d0887"
             ],
             [
              0.1111111111111111,
              "#46039f"
             ],
             [
              0.2222222222222222,
              "#7201a8"
             ],
             [
              0.3333333333333333,
              "#9c179e"
             ],
             [
              0.4444444444444444,
              "#bd3786"
             ],
             [
              0.5555555555555556,
              "#d8576b"
             ],
             [
              0.6666666666666666,
              "#ed7953"
             ],
             [
              0.7777777777777778,
              "#fb9f3a"
             ],
             [
              0.8888888888888888,
              "#fdca26"
             ],
             [
              1,
              "#f0f921"
             ]
            ],
            "type": "contour"
           }
          ],
          "contourcarpet": [
           {
            "colorbar": {
             "outlinewidth": 0,
             "ticks": ""
            },
            "type": "contourcarpet"
           }
          ],
          "heatmap": [
           {
            "colorbar": {
             "outlinewidth": 0,
             "ticks": ""
            },
            "colorscale": [
             [
              0,
              "#0d0887"
             ],
             [
              0.1111111111111111,
              "#46039f"
             ],
             [
              0.2222222222222222,
              "#7201a8"
             ],
             [
              0.3333333333333333,
              "#9c179e"
             ],
             [
              0.4444444444444444,
              "#bd3786"
             ],
             [
              0.5555555555555556,
              "#d8576b"
             ],
             [
              0.6666666666666666,
              "#ed7953"
             ],
             [
              0.7777777777777778,
              "#fb9f3a"
             ],
             [
              0.8888888888888888,
              "#fdca26"
             ],
             [
              1,
              "#f0f921"
             ]
            ],
            "type": "heatmap"
           }
          ],
          "heatmapgl": [
           {
            "colorbar": {
             "outlinewidth": 0,
             "ticks": ""
            },
            "colorscale": [
             [
              0,
              "#0d0887"
             ],
             [
              0.1111111111111111,
              "#46039f"
             ],
             [
              0.2222222222222222,
              "#7201a8"
             ],
             [
              0.3333333333333333,
              "#9c179e"
             ],
             [
              0.4444444444444444,
              "#bd3786"
             ],
             [
              0.5555555555555556,
              "#d8576b"
             ],
             [
              0.6666666666666666,
              "#ed7953"
             ],
             [
              0.7777777777777778,
              "#fb9f3a"
             ],
             [
              0.8888888888888888,
              "#fdca26"
             ],
             [
              1,
              "#f0f921"
             ]
            ],
            "type": "heatmapgl"
           }
          ],
          "histogram": [
           {
            "marker": {
             "colorbar": {
              "outlinewidth": 0,
              "ticks": ""
             }
            },
            "type": "histogram"
           }
          ],
          "histogram2d": [
           {
            "colorbar": {
             "outlinewidth": 0,
             "ticks": ""
            },
            "colorscale": [
             [
              0,
              "#0d0887"
             ],
             [
              0.1111111111111111,
              "#46039f"
             ],
             [
              0.2222222222222222,
              "#7201a8"
             ],
             [
              0.3333333333333333,
              "#9c179e"
             ],
             [
              0.4444444444444444,
              "#bd3786"
             ],
             [
              0.5555555555555556,
              "#d8576b"
             ],
             [
              0.6666666666666666,
              "#ed7953"
             ],
             [
              0.7777777777777778,
              "#fb9f3a"
             ],
             [
              0.8888888888888888,
              "#fdca26"
             ],
             [
              1,
              "#f0f921"
             ]
            ],
            "type": "histogram2d"
           }
          ],
          "histogram2dcontour": [
           {
            "colorbar": {
             "outlinewidth": 0,
             "ticks": ""
            },
            "colorscale": [
             [
              0,
              "#0d0887"
             ],
             [
              0.1111111111111111,
              "#46039f"
             ],
             [
              0.2222222222222222,
              "#7201a8"
             ],
             [
              0.3333333333333333,
              "#9c179e"
             ],
             [
              0.4444444444444444,
              "#bd3786"
             ],
             [
              0.5555555555555556,
              "#d8576b"
             ],
             [
              0.6666666666666666,
              "#ed7953"
             ],
             [
              0.7777777777777778,
              "#fb9f3a"
             ],
             [
              0.8888888888888888,
              "#fdca26"
             ],
             [
              1,
              "#f0f921"
             ]
            ],
            "type": "histogram2dcontour"
           }
          ],
          "mesh3d": [
           {
            "colorbar": {
             "outlinewidth": 0,
             "ticks": ""
            },
            "type": "mesh3d"
           }
          ],
          "parcoords": [
           {
            "line": {
             "colorbar": {
              "outlinewidth": 0,
              "ticks": ""
             }
            },
            "type": "parcoords"
           }
          ],
          "pie": [
           {
            "automargin": true,
            "type": "pie"
           }
          ],
          "scatter": [
           {
            "marker": {
             "colorbar": {
              "outlinewidth": 0,
              "ticks": ""
             }
            },
            "type": "scatter"
           }
          ],
          "scatter3d": [
           {
            "line": {
             "colorbar": {
              "outlinewidth": 0,
              "ticks": ""
             }
            },
            "marker": {
             "colorbar": {
              "outlinewidth": 0,
              "ticks": ""
             }
            },
            "type": "scatter3d"
           }
          ],
          "scattercarpet": [
           {
            "marker": {
             "colorbar": {
              "outlinewidth": 0,
              "ticks": ""
             }
            },
            "type": "scattercarpet"
           }
          ],
          "scattergeo": [
           {
            "marker": {
             "colorbar": {
              "outlinewidth": 0,
              "ticks": ""
             }
            },
            "type": "scattergeo"
           }
          ],
          "scattergl": [
           {
            "marker": {
             "colorbar": {
              "outlinewidth": 0,
              "ticks": ""
             }
            },
            "type": "scattergl"
           }
          ],
          "scattermapbox": [
           {
            "marker": {
             "colorbar": {
              "outlinewidth": 0,
              "ticks": ""
             }
            },
            "type": "scattermapbox"
           }
          ],
          "scatterpolar": [
           {
            "marker": {
             "colorbar": {
              "outlinewidth": 0,
              "ticks": ""
             }
            },
            "type": "scatterpolar"
           }
          ],
          "scatterpolargl": [
           {
            "marker": {
             "colorbar": {
              "outlinewidth": 0,
              "ticks": ""
             }
            },
            "type": "scatterpolargl"
           }
          ],
          "scatterternary": [
           {
            "marker": {
             "colorbar": {
              "outlinewidth": 0,
              "ticks": ""
             }
            },
            "type": "scatterternary"
           }
          ],
          "surface": [
           {
            "colorbar": {
             "outlinewidth": 0,
             "ticks": ""
            },
            "colorscale": [
             [
              0,
              "#0d0887"
             ],
             [
              0.1111111111111111,
              "#46039f"
             ],
             [
              0.2222222222222222,
              "#7201a8"
             ],
             [
              0.3333333333333333,
              "#9c179e"
             ],
             [
              0.4444444444444444,
              "#bd3786"
             ],
             [
              0.5555555555555556,
              "#d8576b"
             ],
             [
              0.6666666666666666,
              "#ed7953"
             ],
             [
              0.7777777777777778,
              "#fb9f3a"
             ],
             [
              0.8888888888888888,
              "#fdca26"
             ],
             [
              1,
              "#f0f921"
             ]
            ],
            "type": "surface"
           }
          ],
          "table": [
           {
            "cells": {
             "fill": {
              "color": "#EBF0F8"
             },
             "line": {
              "color": "white"
             }
            },
            "header": {
             "fill": {
              "color": "#C8D4E3"
             },
             "line": {
              "color": "white"
             }
            },
            "type": "table"
           }
          ]
         },
         "layout": {
          "annotationdefaults": {
           "arrowcolor": "#2a3f5f",
           "arrowhead": 0,
           "arrowwidth": 1
          },
          "coloraxis": {
           "colorbar": {
            "outlinewidth": 0,
            "ticks": ""
           }
          },
          "colorscale": {
           "diverging": [
            [
             0,
             "#8e0152"
            ],
            [
             0.1,
             "#c51b7d"
            ],
            [
             0.2,
             "#de77ae"
            ],
            [
             0.3,
             "#f1b6da"
            ],
            [
             0.4,
             "#fde0ef"
            ],
            [
             0.5,
             "#f7f7f7"
            ],
            [
             0.6,
             "#e6f5d0"
            ],
            [
             0.7,
             "#b8e186"
            ],
            [
             0.8,
             "#7fbc41"
            ],
            [
             0.9,
             "#4d9221"
            ],
            [
             1,
             "#276419"
            ]
           ],
           "sequential": [
            [
             0,
             "#0d0887"
            ],
            [
             0.1111111111111111,
             "#46039f"
            ],
            [
             0.2222222222222222,
             "#7201a8"
            ],
            [
             0.3333333333333333,
             "#9c179e"
            ],
            [
             0.4444444444444444,
             "#bd3786"
            ],
            [
             0.5555555555555556,
             "#d8576b"
            ],
            [
             0.6666666666666666,
             "#ed7953"
            ],
            [
             0.7777777777777778,
             "#fb9f3a"
            ],
            [
             0.8888888888888888,
             "#fdca26"
            ],
            [
             1,
             "#f0f921"
            ]
           ],
           "sequentialminus": [
            [
             0,
             "#0d0887"
            ],
            [
             0.1111111111111111,
             "#46039f"
            ],
            [
             0.2222222222222222,
             "#7201a8"
            ],
            [
             0.3333333333333333,
             "#9c179e"
            ],
            [
             0.4444444444444444,
             "#bd3786"
            ],
            [
             0.5555555555555556,
             "#d8576b"
            ],
            [
             0.6666666666666666,
             "#ed7953"
            ],
            [
             0.7777777777777778,
             "#fb9f3a"
            ],
            [
             0.8888888888888888,
             "#fdca26"
            ],
            [
             1,
             "#f0f921"
            ]
           ]
          },
          "colorway": [
           "#636efa",
           "#EF553B",
           "#00cc96",
           "#ab63fa",
           "#FFA15A",
           "#19d3f3",
           "#FF6692",
           "#B6E880",
           "#FF97FF",
           "#FECB52"
          ],
          "font": {
           "color": "#2a3f5f"
          },
          "geo": {
           "bgcolor": "white",
           "lakecolor": "white",
           "landcolor": "#E5ECF6",
           "showlakes": true,
           "showland": true,
           "subunitcolor": "white"
          },
          "hoverlabel": {
           "align": "left"
          },
          "hovermode": "closest",
          "mapbox": {
           "style": "light"
          },
          "paper_bgcolor": "white",
          "plot_bgcolor": "#E5ECF6",
          "polar": {
           "angularaxis": {
            "gridcolor": "white",
            "linecolor": "white",
            "ticks": ""
           },
           "bgcolor": "#E5ECF6",
           "radialaxis": {
            "gridcolor": "white",
            "linecolor": "white",
            "ticks": ""
           }
          },
          "scene": {
           "xaxis": {
            "backgroundcolor": "#E5ECF6",
            "gridcolor": "white",
            "gridwidth": 2,
            "linecolor": "white",
            "showbackground": true,
            "ticks": "",
            "zerolinecolor": "white"
           },
           "yaxis": {
            "backgroundcolor": "#E5ECF6",
            "gridcolor": "white",
            "gridwidth": 2,
            "linecolor": "white",
            "showbackground": true,
            "ticks": "",
            "zerolinecolor": "white"
           },
           "zaxis": {
            "backgroundcolor": "#E5ECF6",
            "gridcolor": "white",
            "gridwidth": 2,
            "linecolor": "white",
            "showbackground": true,
            "ticks": "",
            "zerolinecolor": "white"
           }
          },
          "shapedefaults": {
           "line": {
            "color": "#2a3f5f"
           }
          },
          "ternary": {
           "aaxis": {
            "gridcolor": "white",
            "linecolor": "white",
            "ticks": ""
           },
           "baxis": {
            "gridcolor": "white",
            "linecolor": "white",
            "ticks": ""
           },
           "bgcolor": "#E5ECF6",
           "caxis": {
            "gridcolor": "white",
            "linecolor": "white",
            "ticks": ""
           }
          },
          "title": {
           "x": 0.05
          },
          "xaxis": {
           "automargin": true,
           "gridcolor": "white",
           "linecolor": "white",
           "ticks": "",
           "title": {
            "standoff": 15
           },
           "zerolinecolor": "white",
           "zerolinewidth": 2
          },
          "yaxis": {
           "automargin": true,
           "gridcolor": "white",
           "linecolor": "white",
           "ticks": "",
           "title": {
            "standoff": 15
           },
           "zerolinecolor": "white",
           "zerolinewidth": 2
          }
         }
        },
        "title": {
         "text": "Auroral E region, dawn sector<br>Alt.Prof. of Joule Heating (10^-8 W/m3)"
        },
        "width": 1100,
        "xaxis": {
         "anchor": "y",
         "domain": [
          0,
          0.94
         ],
         "matches": "x2",
         "range": [
          0,
          3
         ],
         "showticklabels": false
        },
        "xaxis2": {
         "anchor": "y3",
         "domain": [
          0,
          0.94
         ],
         "range": [
          0,
          3
         ]
        },
        "yaxis": {
         "anchor": "x",
         "domain": [
          0.5175,
          1
         ],
         "dtick": 10,
         "range": [
          80,
          160
         ],
         "side": "left",
         "title": {
          "text": "Altitude (km)"
         }
        },
        "yaxis2": {
         "anchor": "x",
         "dtick": 10,
         "overlaying": "y",
         "range": [
          80,
          160
         ],
         "showticklabels": false,
         "side": "right",
         "title": {
          "text": "Kp 0 - 3"
         }
        },
        "yaxis3": {
         "anchor": "x2",
         "domain": [
          0,
          0.4825
         ],
         "dtick": 10,
         "range": [
          80,
          160
         ],
         "side": "left",
         "title": {
          "text": "Altitude (km)"
         }
        },
        "yaxis4": {
         "anchor": "x2",
         "dtick": 10,
         "overlaying": "y3",
         "range": [
          80,
          160
         ],
         "showticklabels": false,
         "side": "right",
         "title": {
          "text": "Kp 3 - 9"
         }
        }
       }
      },
      "text/html": [
       "<div>\n",
       "        \n",
       "        \n",
       "            <div id=\"54505f05-71a5-4e31-aec5-356738169166\" class=\"plotly-graph-div\" style=\"height:1000px; width:1100px;\"></div>\n",
       "            <script type=\"text/javascript\">\n",
       "                require([\"plotly\"], function(Plotly) {\n",
       "                    window.PLOTLYENV=window.PLOTLYENV || {};\n",
       "                    \n",
       "                if (document.getElementById(\"54505f05-71a5-4e31-aec5-356738169166\")) {\n",
       "                    Plotly.newPlot(\n",
       "                        '54505f05-71a5-4e31-aec5-356738169166',\n",
       "                        [{\"fill\": \"tonexty\", \"fillcolor\": \"#c4dfe6\", \"line\": {\"color\": \"gray\", \"width\": 1}, \"mode\": \"lines\", \"showlegend\": false, \"type\": \"scatter\", \"x\": [0, 0, 0, 0, 0, 0, 0, 0], \"xaxis\": \"x\", \"y\": [120, 125, 130, 135, 140, 145, 150, 160], \"yaxis\": \"y\"}, {\"fill\": \"tonexty\", \"fillcolor\": \"#c4dfe6\", \"line\": {\"color\": \"gray\", \"width\": 1}, \"mode\": \"lines\", \"showlegend\": false, \"type\": \"scatter\", \"x\": [0.01720631692680996, 0.016452385565024485, 0.015575080808405417, 0.01331534243975696, 0.009972380837774962, 0.009830938771382414, 0.00707694625123878, 0.0051467893141809995], \"xaxis\": \"x\", \"y\": [120, 125, 130, 135, 140, 145, 150, 160], \"yaxis\": \"y\"}, {\"fill\": \"tonexty\", \"fillcolor\": \"#a1d6e2\", \"line\": {\"color\": \"gray\", \"width\": 1}, \"mode\": \"lines\", \"showlegend\": false, \"type\": \"scatter\", \"x\": [0.05037902317539533, 0.04677697673649561, 0.049596346474167774, 0.041392735766754285, 0.029337787060823572, 0.02996350806361292, 0.020519959342824023, 0.015757962296136796], \"xaxis\": \"x\", \"y\": [120, 125, 130, 135, 140, 145, 150, 160], \"yaxis\": \"y\"}, {\"fill\": \"tonexty\", \"fillcolor\": \"#1995ad\", \"line\": {\"color\": \"black\", \"width\": 2}, \"mode\": \"lines\", \"showlegend\": false, \"type\": \"scatter\", \"x\": [0.2096374851490168, 0.22581820857681123, 0.15276805931385695, 0.14294707639805893, 0.08145197294417983, 0.07258161849321709, 0.06203475511057377, 0.04673161857482455], \"xaxis\": \"x\", \"y\": [120, 125, 130, 135, 140, 145, 150, 160], \"yaxis\": \"y\"}, {\"fill\": \"tonexty\", \"fillcolor\": \"#a1d6e2\", \"line\": {\"color\": \"gray\", \"width\": 1}, \"mode\": \"lines\", \"showlegend\": false, \"type\": \"scatter\", \"x\": [0.7490338127524865, 0.6086815496075815, 0.46080254056946046, 0.35486663052530787, 0.3093306777390836, 0.18256560985197012, 0.16509524858321356, 0.12114625969061876], \"xaxis\": \"x\", \"y\": [120, 125, 130, 135, 140, 145, 150, 160], \"yaxis\": \"y\"}, {\"fill\": \"tonexty\", \"fillcolor\": \"#c4dfe6\", \"line\": {\"color\": \"gray\", \"width\": 1}, \"mode\": \"lines\", \"showlegend\": false, \"type\": \"scatter\", \"x\": [2.4782664809208654, 1.85103473882009, 1.2876896793301282, 1.0745605472095576, 1.3146232014094037, 0.33558547496426167, 0.3273901327816021, 0.26584346279889803], \"xaxis\": \"x\", \"y\": [120, 125, 130, 135, 140, 145, 150, 160], \"yaxis\": \"y\"}, {\"showlegend\": false, \"type\": \"scatter\", \"x\": [-1000], \"xaxis\": \"x\", \"y\": [-1000], \"yaxis\": \"y2\"}, {\"fill\": \"tonexty\", \"fillcolor\": \"#c4dfe6\", \"line\": {\"color\": \"gray\", \"width\": 1}, \"mode\": \"lines\", \"showlegend\": false, \"type\": \"scatter\", \"x\": [0, 0, 0, 0, 0, 0, 0, 0], \"xaxis\": \"x2\", \"y\": [120, 125, 130, 135, 140, 145, 150, 160], \"yaxis\": \"y3\"}, {\"fill\": \"tonexty\", \"fillcolor\": \"#c4dfe6\", \"line\": {\"color\": \"gray\", \"width\": 1}, \"mode\": \"lines\", \"showlegend\": false, \"type\": \"scatter\", \"x\": [0.021358196045095923, 0.015723483348661915, 0.02904191276353885, 0.023611856636573947, 0.015797939484363258, 0.010292948715573404, 0.007011254424260649, 0.005036535077884707], \"xaxis\": \"x2\", \"y\": [120, 125, 130, 135, 140, 145, 150, 160], \"yaxis\": \"y3\"}, {\"fill\": \"tonexty\", \"fillcolor\": \"#a1d6e2\", \"line\": {\"color\": \"gray\", \"width\": 1}, \"mode\": \"lines\", \"showlegend\": false, \"type\": \"scatter\", \"x\": [0.06379658884503314, 0.04114565632651335, 0.04864652430880412, 0.04337821490896232, 0.0352434734174345, 0.027615601472241735, 0.021181136705683556, 0.015203319159162731], \"xaxis\": \"x2\", \"y\": [120, 125, 130, 135, 140, 145, 150, 160], \"yaxis\": \"y3\"}, {\"fill\": \"tonexty\", \"fillcolor\": \"#1995ad\", \"line\": {\"color\": \"black\", \"width\": 2}, \"mode\": \"lines\", \"showlegend\": false, \"type\": \"scatter\", \"x\": [0.17708279287376172, 0.12402336935224412, 0.1352087553030401, 0.09226228669945158, 0.1212609124223718, 0.09071041695563054, 0.07008266189600931, 0.05514318446309119], \"xaxis\": \"x2\", \"y\": [120, 125, 130, 135, 140, 145, 150, 160], \"yaxis\": \"y3\"}, {\"fill\": \"tonexty\", \"fillcolor\": \"#a1d6e2\", \"line\": {\"color\": \"gray\", \"width\": 1}, \"mode\": \"lines\", \"showlegend\": false, \"type\": \"scatter\", \"x\": [0.9253682264898089, 0.8637633275299095, 0.642903996705968, 0.3233986078932105, 0.5693754023816666, 0.19106383142286631, 0.1778741626212721, 0.1619615108694461], \"xaxis\": \"x2\", \"y\": [120, 125, 130, 135, 140, 145, 150, 160], \"yaxis\": \"y3\"}, {\"fill\": \"tonexty\", \"fillcolor\": \"#c4dfe6\", \"line\": {\"color\": \"gray\", \"width\": 1}, \"mode\": \"lines\", \"showlegend\": false, \"type\": \"scatter\", \"x\": [2.068235787078266, 1.4764680145162865, 1.1590981596754093, 0.7123520351370871, 3.32130239755203, 0.45193972120216597, 0.28945624785947643, 0.31110172216131105], \"xaxis\": \"x2\", \"y\": [120, 125, 130, 135, 140, 145, 150, 160], \"yaxis\": \"y3\"}, {\"showlegend\": false, \"type\": \"scatter\", \"x\": [-1000], \"xaxis\": \"x2\", \"y\": [-1000], \"yaxis\": \"y4\"}, {\"fill\": \"tonexty\", \"fillcolor\": \"#c4dfe6\", \"line\": {\"color\": \"gray\", \"width\": 1}, \"mode\": \"lines\", \"name\": \"10th Perc.\", \"showlegend\": true, \"type\": \"scatter\", \"x\": [0.021358196045095923, 0.015723483348661915, 0.02904191276353885, 0.023611856636573947, 0.015797939484363258, 0.010292948715573404, 0.007011254424260649, 0.005036535077884707], \"xaxis\": \"x2\", \"y\": [120, 125, 130, 135, 140, 145, 150, 160], \"yaxis\": \"y3\"}, {\"fill\": \"tonexty\", \"fillcolor\": \"#a1d6e2\", \"line\": {\"color\": \"gray\", \"width\": 1}, \"mode\": \"lines\", \"name\": \"25th Perc.\", \"showlegend\": true, \"type\": \"scatter\", \"x\": [0.06379658884503314, 0.04114565632651335, 0.04864652430880412, 0.04337821490896232, 0.0352434734174345, 0.027615601472241735, 0.021181136705683556, 0.015203319159162731], \"xaxis\": \"x2\", \"y\": [120, 125, 130, 135, 140, 145, 150, 160], \"yaxis\": \"y3\"}, {\"fill\": \"tonexty\", \"fillcolor\": \"#1995ad\", \"line\": {\"color\": \"black\", \"width\": 2}, \"mode\": \"lines\", \"name\": \"50th Perc.\", \"showlegend\": true, \"type\": \"scatter\", \"x\": [0.17708279287376172, 0.12402336935224412, 0.1352087553030401, 0.09226228669945158, 0.1212609124223718, 0.09071041695563054, 0.07008266189600931, 0.05514318446309119], \"xaxis\": \"x2\", \"y\": [120, 125, 130, 135, 140, 145, 150, 160], \"yaxis\": \"y3\"}, {\"fill\": \"tonexty\", \"fillcolor\": \"#a1d6e2\", \"line\": {\"color\": \"gray\", \"width\": 1}, \"mode\": \"lines\", \"name\": \"75th Perc.\", \"showlegend\": true, \"type\": \"scatter\", \"x\": [0.9253682264898089, 0.8637633275299095, 0.642903996705968, 0.3233986078932105, 0.5693754023816666, 0.19106383142286631, 0.1778741626212721, 0.1619615108694461], \"xaxis\": \"x2\", \"y\": [120, 125, 130, 135, 140, 145, 150, 160], \"yaxis\": \"y3\"}, {\"fill\": \"tonexty\", \"fillcolor\": \"#c4dfe6\", \"line\": {\"color\": \"gray\", \"width\": 1}, \"mode\": \"lines\", \"name\": \"90th Perc.\", \"showlegend\": true, \"type\": \"scatter\", \"x\": [2.068235787078266, 1.4764680145162865, 1.1590981596754093, 0.7123520351370871, 3.32130239755203, 0.45193972120216597, 0.28945624785947643, 0.31110172216131105], \"xaxis\": \"x2\", \"y\": [120, 125, 130, 135, 140, 145, 150, 160], \"yaxis\": \"y3\"}],\n",
       "                        {\"annotations\": [{\"font\": {\"size\": 16}, \"showarrow\": false, \"text\": \"MLT 3-9\", \"x\": 0.47, \"xanchor\": \"center\", \"xref\": \"paper\", \"y\": 1.0, \"yanchor\": \"bottom\", \"yref\": \"paper\"}], \"height\": 1000, \"legend\": {\"orientation\": \"h\", \"y\": -0.04}, \"showlegend\": true, \"template\": {\"data\": {\"bar\": [{\"error_x\": {\"color\": \"#2a3f5f\"}, \"error_y\": {\"color\": \"#2a3f5f\"}, \"marker\": {\"line\": {\"color\": \"#E5ECF6\", \"width\": 0.5}}, \"type\": \"bar\"}], \"barpolar\": [{\"marker\": {\"line\": {\"color\": \"#E5ECF6\", \"width\": 0.5}}, \"type\": \"barpolar\"}], \"carpet\": [{\"aaxis\": {\"endlinecolor\": \"#2a3f5f\", \"gridcolor\": \"white\", \"linecolor\": \"white\", \"minorgridcolor\": \"white\", \"startlinecolor\": \"#2a3f5f\"}, \"baxis\": {\"endlinecolor\": \"#2a3f5f\", \"gridcolor\": \"white\", \"linecolor\": \"white\", \"minorgridcolor\": \"white\", \"startlinecolor\": \"#2a3f5f\"}, \"type\": \"carpet\"}], \"choropleth\": [{\"colorbar\": {\"outlinewidth\": 0, \"ticks\": \"\"}, \"type\": \"choropleth\"}], \"contour\": [{\"colorbar\": {\"outlinewidth\": 0, \"ticks\": \"\"}, \"colorscale\": [[0.0, \"#0d0887\"], [0.1111111111111111, \"#46039f\"], [0.2222222222222222, \"#7201a8\"], [0.3333333333333333, \"#9c179e\"], [0.4444444444444444, \"#bd3786\"], [0.5555555555555556, \"#d8576b\"], [0.6666666666666666, \"#ed7953\"], [0.7777777777777778, \"#fb9f3a\"], [0.8888888888888888, \"#fdca26\"], [1.0, \"#f0f921\"]], \"type\": \"contour\"}], \"contourcarpet\": [{\"colorbar\": {\"outlinewidth\": 0, \"ticks\": \"\"}, \"type\": \"contourcarpet\"}], \"heatmap\": [{\"colorbar\": {\"outlinewidth\": 0, \"ticks\": \"\"}, \"colorscale\": [[0.0, \"#0d0887\"], [0.1111111111111111, \"#46039f\"], [0.2222222222222222, \"#7201a8\"], [0.3333333333333333, \"#9c179e\"], [0.4444444444444444, \"#bd3786\"], [0.5555555555555556, \"#d8576b\"], [0.6666666666666666, \"#ed7953\"], [0.7777777777777778, \"#fb9f3a\"], [0.8888888888888888, \"#fdca26\"], [1.0, \"#f0f921\"]], \"type\": \"heatmap\"}], \"heatmapgl\": [{\"colorbar\": {\"outlinewidth\": 0, \"ticks\": \"\"}, \"colorscale\": [[0.0, \"#0d0887\"], [0.1111111111111111, \"#46039f\"], [0.2222222222222222, \"#7201a8\"], [0.3333333333333333, \"#9c179e\"], [0.4444444444444444, \"#bd3786\"], [0.5555555555555556, \"#d8576b\"], [0.6666666666666666, \"#ed7953\"], [0.7777777777777778, \"#fb9f3a\"], [0.8888888888888888, \"#fdca26\"], [1.0, \"#f0f921\"]], \"type\": \"heatmapgl\"}], \"histogram\": [{\"marker\": {\"colorbar\": {\"outlinewidth\": 0, \"ticks\": \"\"}}, \"type\": \"histogram\"}], \"histogram2d\": [{\"colorbar\": {\"outlinewidth\": 0, \"ticks\": \"\"}, \"colorscale\": [[0.0, \"#0d0887\"], [0.1111111111111111, \"#46039f\"], [0.2222222222222222, \"#7201a8\"], [0.3333333333333333, \"#9c179e\"], [0.4444444444444444, \"#bd3786\"], [0.5555555555555556, \"#d8576b\"], [0.6666666666666666, \"#ed7953\"], [0.7777777777777778, \"#fb9f3a\"], [0.8888888888888888, \"#fdca26\"], [1.0, \"#f0f921\"]], \"type\": \"histogram2d\"}], \"histogram2dcontour\": [{\"colorbar\": {\"outlinewidth\": 0, \"ticks\": \"\"}, \"colorscale\": [[0.0, \"#0d0887\"], [0.1111111111111111, \"#46039f\"], [0.2222222222222222, \"#7201a8\"], [0.3333333333333333, \"#9c179e\"], [0.4444444444444444, \"#bd3786\"], [0.5555555555555556, \"#d8576b\"], [0.6666666666666666, \"#ed7953\"], [0.7777777777777778, \"#fb9f3a\"], [0.8888888888888888, \"#fdca26\"], [1.0, \"#f0f921\"]], \"type\": \"histogram2dcontour\"}], \"mesh3d\": [{\"colorbar\": {\"outlinewidth\": 0, \"ticks\": \"\"}, \"type\": \"mesh3d\"}], \"parcoords\": [{\"line\": {\"colorbar\": {\"outlinewidth\": 0, \"ticks\": \"\"}}, \"type\": \"parcoords\"}], \"pie\": [{\"automargin\": true, \"type\": \"pie\"}], \"scatter\": [{\"marker\": {\"colorbar\": {\"outlinewidth\": 0, \"ticks\": \"\"}}, \"type\": \"scatter\"}], \"scatter3d\": [{\"line\": {\"colorbar\": {\"outlinewidth\": 0, \"ticks\": \"\"}}, \"marker\": {\"colorbar\": {\"outlinewidth\": 0, \"ticks\": \"\"}}, \"type\": \"scatter3d\"}], \"scattercarpet\": [{\"marker\": {\"colorbar\": {\"outlinewidth\": 0, \"ticks\": \"\"}}, \"type\": \"scattercarpet\"}], \"scattergeo\": [{\"marker\": {\"colorbar\": {\"outlinewidth\": 0, \"ticks\": \"\"}}, \"type\": \"scattergeo\"}], \"scattergl\": [{\"marker\": {\"colorbar\": {\"outlinewidth\": 0, \"ticks\": \"\"}}, \"type\": \"scattergl\"}], \"scattermapbox\": [{\"marker\": {\"colorbar\": {\"outlinewidth\": 0, \"ticks\": \"\"}}, \"type\": \"scattermapbox\"}], \"scatterpolar\": [{\"marker\": {\"colorbar\": {\"outlinewidth\": 0, \"ticks\": \"\"}}, \"type\": \"scatterpolar\"}], \"scatterpolargl\": [{\"marker\": {\"colorbar\": {\"outlinewidth\": 0, \"ticks\": \"\"}}, \"type\": \"scatterpolargl\"}], \"scatterternary\": [{\"marker\": {\"colorbar\": {\"outlinewidth\": 0, \"ticks\": \"\"}}, \"type\": \"scatterternary\"}], \"surface\": [{\"colorbar\": {\"outlinewidth\": 0, \"ticks\": \"\"}, \"colorscale\": [[0.0, \"#0d0887\"], [0.1111111111111111, \"#46039f\"], [0.2222222222222222, \"#7201a8\"], [0.3333333333333333, \"#9c179e\"], [0.4444444444444444, \"#bd3786\"], [0.5555555555555556, \"#d8576b\"], [0.6666666666666666, \"#ed7953\"], [0.7777777777777778, \"#fb9f3a\"], [0.8888888888888888, \"#fdca26\"], [1.0, \"#f0f921\"]], \"type\": \"surface\"}], \"table\": [{\"cells\": {\"fill\": {\"color\": \"#EBF0F8\"}, \"line\": {\"color\": \"white\"}}, \"header\": {\"fill\": {\"color\": \"#C8D4E3\"}, \"line\": {\"color\": \"white\"}}, \"type\": \"table\"}]}, \"layout\": {\"annotationdefaults\": {\"arrowcolor\": \"#2a3f5f\", \"arrowhead\": 0, \"arrowwidth\": 1}, \"coloraxis\": {\"colorbar\": {\"outlinewidth\": 0, \"ticks\": \"\"}}, \"colorscale\": {\"diverging\": [[0, \"#8e0152\"], [0.1, \"#c51b7d\"], [0.2, \"#de77ae\"], [0.3, \"#f1b6da\"], [0.4, \"#fde0ef\"], [0.5, \"#f7f7f7\"], [0.6, \"#e6f5d0\"], [0.7, \"#b8e186\"], [0.8, \"#7fbc41\"], [0.9, \"#4d9221\"], [1, \"#276419\"]], \"sequential\": [[0.0, \"#0d0887\"], [0.1111111111111111, \"#46039f\"], [0.2222222222222222, \"#7201a8\"], [0.3333333333333333, \"#9c179e\"], [0.4444444444444444, \"#bd3786\"], [0.5555555555555556, \"#d8576b\"], [0.6666666666666666, \"#ed7953\"], [0.7777777777777778, \"#fb9f3a\"], [0.8888888888888888, \"#fdca26\"], [1.0, \"#f0f921\"]], \"sequentialminus\": [[0.0, \"#0d0887\"], [0.1111111111111111, \"#46039f\"], [0.2222222222222222, \"#7201a8\"], [0.3333333333333333, \"#9c179e\"], [0.4444444444444444, \"#bd3786\"], [0.5555555555555556, \"#d8576b\"], [0.6666666666666666, \"#ed7953\"], [0.7777777777777778, \"#fb9f3a\"], [0.8888888888888888, \"#fdca26\"], [1.0, \"#f0f921\"]]}, \"colorway\": [\"#636efa\", \"#EF553B\", \"#00cc96\", \"#ab63fa\", \"#FFA15A\", \"#19d3f3\", \"#FF6692\", \"#B6E880\", \"#FF97FF\", \"#FECB52\"], \"font\": {\"color\": \"#2a3f5f\"}, \"geo\": {\"bgcolor\": \"white\", \"lakecolor\": \"white\", \"landcolor\": \"#E5ECF6\", \"showlakes\": true, \"showland\": true, \"subunitcolor\": \"white\"}, \"hoverlabel\": {\"align\": \"left\"}, \"hovermode\": \"closest\", \"mapbox\": {\"style\": \"light\"}, \"paper_bgcolor\": \"white\", \"plot_bgcolor\": \"#E5ECF6\", \"polar\": {\"angularaxis\": {\"gridcolor\": \"white\", \"linecolor\": \"white\", \"ticks\": \"\"}, \"bgcolor\": \"#E5ECF6\", \"radialaxis\": {\"gridcolor\": \"white\", \"linecolor\": \"white\", \"ticks\": \"\"}}, \"scene\": {\"xaxis\": {\"backgroundcolor\": \"#E5ECF6\", \"gridcolor\": \"white\", \"gridwidth\": 2, \"linecolor\": \"white\", \"showbackground\": true, \"ticks\": \"\", \"zerolinecolor\": \"white\"}, \"yaxis\": {\"backgroundcolor\": \"#E5ECF6\", \"gridcolor\": \"white\", \"gridwidth\": 2, \"linecolor\": \"white\", \"showbackground\": true, \"ticks\": \"\", \"zerolinecolor\": \"white\"}, \"zaxis\": {\"backgroundcolor\": \"#E5ECF6\", \"gridcolor\": \"white\", \"gridwidth\": 2, \"linecolor\": \"white\", \"showbackground\": true, \"ticks\": \"\", \"zerolinecolor\": \"white\"}}, \"shapedefaults\": {\"line\": {\"color\": \"#2a3f5f\"}}, \"ternary\": {\"aaxis\": {\"gridcolor\": \"white\", \"linecolor\": \"white\", \"ticks\": \"\"}, \"baxis\": {\"gridcolor\": \"white\", \"linecolor\": \"white\", \"ticks\": \"\"}, \"bgcolor\": \"#E5ECF6\", \"caxis\": {\"gridcolor\": \"white\", \"linecolor\": \"white\", \"ticks\": \"\"}}, \"title\": {\"x\": 0.05}, \"xaxis\": {\"automargin\": true, \"gridcolor\": \"white\", \"linecolor\": \"white\", \"ticks\": \"\", \"title\": {\"standoff\": 15}, \"zerolinecolor\": \"white\", \"zerolinewidth\": 2}, \"yaxis\": {\"automargin\": true, \"gridcolor\": \"white\", \"linecolor\": \"white\", \"ticks\": \"\", \"title\": {\"standoff\": 15}, \"zerolinecolor\": \"white\", \"zerolinewidth\": 2}}}, \"title\": {\"text\": \"Auroral E region, dawn sector<br>Alt.Prof. of Joule Heating (10^-8 W/m3)\"}, \"width\": 1100, \"xaxis\": {\"anchor\": \"y\", \"domain\": [0.0, 0.94], \"matches\": \"x2\", \"range\": [0.0, 3.0], \"showticklabels\": false}, \"xaxis2\": {\"anchor\": \"y3\", \"domain\": [0.0, 0.94], \"range\": [0.0, 3.0]}, \"yaxis\": {\"anchor\": \"x\", \"domain\": [0.5175, 1.0], \"dtick\": 10, \"range\": [80, 160], \"side\": \"left\", \"title\": {\"text\": \"Altitude (km)\"}}, \"yaxis2\": {\"anchor\": \"x\", \"dtick\": 10, \"overlaying\": \"y\", \"range\": [80, 160], \"showticklabels\": false, \"side\": \"right\", \"title\": {\"text\": \"Kp 0 - 3\"}}, \"yaxis3\": {\"anchor\": \"x2\", \"domain\": [0.0, 0.4825], \"dtick\": 10, \"range\": [80, 160], \"side\": \"left\", \"title\": {\"text\": \"Altitude (km)\"}}, \"yaxis4\": {\"anchor\": \"x2\", \"dtick\": 10, \"overlaying\": \"y3\", \"range\": [80, 160], \"showticklabels\": false, \"side\": \"right\", \"title\": {\"text\": \"Kp 3 - 9\"}}},\n",
       "                        {\"responsive\": true}\n",
       "                    ).then(function(){\n",
       "                            \n",
       "var gd = document.getElementById('54505f05-71a5-4e31-aec5-356738169166');\n",
       "var x = new MutationObserver(function (mutations, observer) {{\n",
       "        var display = window.getComputedStyle(gd).display;\n",
       "        if (!display || display === 'none') {{\n",
       "            console.log([gd, 'removed!']);\n",
       "            Plotly.purge(gd);\n",
       "            observer.disconnect();\n",
       "        }}\n",
       "}});\n",
       "\n",
       "// Listen for the removal of the full notebook cells\n",
       "var notebookContainer = gd.closest('#notebook-container');\n",
       "if (notebookContainer) {{\n",
       "    x.observe(notebookContainer, {childList: true});\n",
       "}}\n",
       "\n",
       "// Listen for the clearing of the current output cell\n",
       "var outputEl = gd.closest('.output');\n",
       "if (outputEl) {{\n",
       "    x.observe(outputEl, {childList: true});\n",
       "}}\n",
       "\n",
       "                        })\n",
       "                };\n",
       "                });\n",
       "            </script>\n",
       "        </div>"
      ]
     },
     "metadata": {},
     "output_type": "display_data"
    },
    {
     "data": {
      "application/vnd.plotly.v1+json": {
       "config": {
        "linkText": "Export to plot.ly",
        "plotlyServerURL": "https://plot.ly",
        "showLink": false
       },
       "data": [
        {
         "fill": "tonexty",
         "fillcolor": "#c4dfe6",
         "line": {
          "color": "gray",
          "width": 1
         },
         "mode": "lines",
         "showlegend": false,
         "type": "scatter",
         "x": [
          0,
          0,
          0,
          0,
          0,
          0,
          0,
          0
         ],
         "xaxis": "x",
         "y": [
          120,
          125,
          130,
          135,
          140,
          145,
          150,
          160
         ],
         "yaxis": "y"
        },
        {
         "fill": "tonexty",
         "fillcolor": "#c4dfe6",
         "line": {
          "color": "gray",
          "width": 1
         },
         "mode": "lines",
         "showlegend": false,
         "type": "scatter",
         "x": [
          0.01720631692680996,
          0.016452385565024485,
          0.015575080808405417,
          0.01331534243975696,
          0.009972380837774962,
          0.009830938771382414,
          0.00707694625123878,
          0.0051467893141809995
         ],
         "xaxis": "x",
         "y": [
          120,
          125,
          130,
          135,
          140,
          145,
          150,
          160
         ],
         "yaxis": "y"
        },
        {
         "fill": "tonexty",
         "fillcolor": "#a1d6e2",
         "line": {
          "color": "gray",
          "width": 1
         },
         "mode": "lines",
         "showlegend": false,
         "type": "scatter",
         "x": [
          0.05037902317539533,
          0.04677697673649561,
          0.049596346474167774,
          0.041392735766754285,
          0.029337787060823572,
          0.02996350806361292,
          0.020519959342824023,
          0.015757962296136796
         ],
         "xaxis": "x",
         "y": [
          120,
          125,
          130,
          135,
          140,
          145,
          150,
          160
         ],
         "yaxis": "y"
        },
        {
         "fill": "tonexty",
         "fillcolor": "#1995ad",
         "line": {
          "color": "black",
          "width": 2
         },
         "mode": "lines",
         "showlegend": false,
         "type": "scatter",
         "x": [
          0.2096374851490168,
          0.22581820857681123,
          0.15276805931385695,
          0.14294707639805893,
          0.08145197294417983,
          0.07258161849321709,
          0.06203475511057377,
          0.04673161857482455
         ],
         "xaxis": "x",
         "y": [
          120,
          125,
          130,
          135,
          140,
          145,
          150,
          160
         ],
         "yaxis": "y"
        },
        {
         "fill": "tonexty",
         "fillcolor": "#a1d6e2",
         "line": {
          "color": "gray",
          "width": 1
         },
         "mode": "lines",
         "showlegend": false,
         "type": "scatter",
         "x": [
          0.7490338127524865,
          0.6086815496075815,
          0.46080254056946046,
          0.35486663052530787,
          0.3093306777390836,
          0.18256560985197012,
          0.16509524858321356,
          0.12114625969061876
         ],
         "xaxis": "x",
         "y": [
          120,
          125,
          130,
          135,
          140,
          145,
          150,
          160
         ],
         "yaxis": "y"
        },
        {
         "fill": "tonexty",
         "fillcolor": "#c4dfe6",
         "line": {
          "color": "gray",
          "width": 1
         },
         "mode": "lines",
         "showlegend": false,
         "type": "scatter",
         "x": [
          2.4782664809208654,
          1.85103473882009,
          1.2876896793301282,
          1.0745605472095576,
          1.3146232014094037,
          0.33558547496426167,
          0.3273901327816021,
          0.26584346279889803
         ],
         "xaxis": "x",
         "y": [
          120,
          125,
          130,
          135,
          140,
          145,
          150,
          160
         ],
         "yaxis": "y"
        },
        {
         "showlegend": false,
         "type": "scatter",
         "x": [
          -1000
         ],
         "xaxis": "x",
         "y": [
          -1000
         ],
         "yaxis": "y2"
        },
        {
         "fill": "tonexty",
         "fillcolor": "#c4dfe6",
         "line": {
          "color": "gray",
          "width": 1
         },
         "mode": "lines",
         "showlegend": false,
         "type": "scatter",
         "x": [
          0,
          0,
          0,
          0,
          0,
          0,
          0,
          0
         ],
         "xaxis": "x2",
         "y": [
          120,
          125,
          130,
          135,
          140,
          145,
          150,
          160
         ],
         "yaxis": "y3"
        },
        {
         "fill": "tonexty",
         "fillcolor": "#c4dfe6",
         "line": {
          "color": "gray",
          "width": 1
         },
         "mode": "lines",
         "showlegend": false,
         "type": "scatter",
         "x": [
          0.021358196045095923,
          0.015723483348661915,
          0.02904191276353885,
          0.023611856636573947,
          0.015797939484363258,
          0.010292948715573404,
          0.007011254424260649,
          0.005036535077884707
         ],
         "xaxis": "x2",
         "y": [
          120,
          125,
          130,
          135,
          140,
          145,
          150,
          160
         ],
         "yaxis": "y3"
        },
        {
         "fill": "tonexty",
         "fillcolor": "#a1d6e2",
         "line": {
          "color": "gray",
          "width": 1
         },
         "mode": "lines",
         "showlegend": false,
         "type": "scatter",
         "x": [
          0.06379658884503314,
          0.04114565632651335,
          0.04864652430880412,
          0.04337821490896232,
          0.0352434734174345,
          0.027615601472241735,
          0.021181136705683556,
          0.015203319159162731
         ],
         "xaxis": "x2",
         "y": [
          120,
          125,
          130,
          135,
          140,
          145,
          150,
          160
         ],
         "yaxis": "y3"
        },
        {
         "fill": "tonexty",
         "fillcolor": "#1995ad",
         "line": {
          "color": "black",
          "width": 2
         },
         "mode": "lines",
         "showlegend": false,
         "type": "scatter",
         "x": [
          0.17708279287376172,
          0.12402336935224412,
          0.1352087553030401,
          0.09226228669945158,
          0.1212609124223718,
          0.09071041695563054,
          0.07008266189600931,
          0.05514318446309119
         ],
         "xaxis": "x2",
         "y": [
          120,
          125,
          130,
          135,
          140,
          145,
          150,
          160
         ],
         "yaxis": "y3"
        },
        {
         "fill": "tonexty",
         "fillcolor": "#a1d6e2",
         "line": {
          "color": "gray",
          "width": 1
         },
         "mode": "lines",
         "showlegend": false,
         "type": "scatter",
         "x": [
          0.9253682264898089,
          0.8637633275299095,
          0.642903996705968,
          0.3233986078932105,
          0.5693754023816666,
          0.19106383142286631,
          0.1778741626212721,
          0.1619615108694461
         ],
         "xaxis": "x2",
         "y": [
          120,
          125,
          130,
          135,
          140,
          145,
          150,
          160
         ],
         "yaxis": "y3"
        },
        {
         "fill": "tonexty",
         "fillcolor": "#c4dfe6",
         "line": {
          "color": "gray",
          "width": 1
         },
         "mode": "lines",
         "showlegend": false,
         "type": "scatter",
         "x": [
          2.068235787078266,
          1.4764680145162865,
          1.1590981596754093,
          0.7123520351370871,
          3.32130239755203,
          0.45193972120216597,
          0.28945624785947643,
          0.31110172216131105
         ],
         "xaxis": "x2",
         "y": [
          120,
          125,
          130,
          135,
          140,
          145,
          150,
          160
         ],
         "yaxis": "y3"
        },
        {
         "showlegend": false,
         "type": "scatter",
         "x": [
          -1000
         ],
         "xaxis": "x2",
         "y": [
          -1000
         ],
         "yaxis": "y4"
        },
        {
         "fill": "tonexty",
         "fillcolor": "#c4dfe6",
         "line": {
          "color": "gray",
          "width": 1
         },
         "mode": "lines",
         "name": "10th Perc.",
         "showlegend": true,
         "type": "scatter",
         "x": [
          0.021358196045095923,
          0.015723483348661915,
          0.02904191276353885,
          0.023611856636573947,
          0.015797939484363258,
          0.010292948715573404,
          0.007011254424260649,
          0.005036535077884707
         ],
         "xaxis": "x2",
         "y": [
          120,
          125,
          130,
          135,
          140,
          145,
          150,
          160
         ],
         "yaxis": "y3"
        },
        {
         "fill": "tonexty",
         "fillcolor": "#a1d6e2",
         "line": {
          "color": "gray",
          "width": 1
         },
         "mode": "lines",
         "name": "25th Perc.",
         "showlegend": true,
         "type": "scatter",
         "x": [
          0.06379658884503314,
          0.04114565632651335,
          0.04864652430880412,
          0.04337821490896232,
          0.0352434734174345,
          0.027615601472241735,
          0.021181136705683556,
          0.015203319159162731
         ],
         "xaxis": "x2",
         "y": [
          120,
          125,
          130,
          135,
          140,
          145,
          150,
          160
         ],
         "yaxis": "y3"
        },
        {
         "fill": "tonexty",
         "fillcolor": "#1995ad",
         "line": {
          "color": "black",
          "width": 2
         },
         "mode": "lines",
         "name": "50th Perc.",
         "showlegend": true,
         "type": "scatter",
         "x": [
          0.17708279287376172,
          0.12402336935224412,
          0.1352087553030401,
          0.09226228669945158,
          0.1212609124223718,
          0.09071041695563054,
          0.07008266189600931,
          0.05514318446309119
         ],
         "xaxis": "x2",
         "y": [
          120,
          125,
          130,
          135,
          140,
          145,
          150,
          160
         ],
         "yaxis": "y3"
        },
        {
         "fill": "tonexty",
         "fillcolor": "#a1d6e2",
         "line": {
          "color": "gray",
          "width": 1
         },
         "mode": "lines",
         "name": "75th Perc.",
         "showlegend": true,
         "type": "scatter",
         "x": [
          0.9253682264898089,
          0.8637633275299095,
          0.642903996705968,
          0.3233986078932105,
          0.5693754023816666,
          0.19106383142286631,
          0.1778741626212721,
          0.1619615108694461
         ],
         "xaxis": "x2",
         "y": [
          120,
          125,
          130,
          135,
          140,
          145,
          150,
          160
         ],
         "yaxis": "y3"
        },
        {
         "fill": "tonexty",
         "fillcolor": "#c4dfe6",
         "line": {
          "color": "gray",
          "width": 1
         },
         "mode": "lines",
         "name": "90th Perc.",
         "showlegend": true,
         "type": "scatter",
         "x": [
          2.068235787078266,
          1.4764680145162865,
          1.1590981596754093,
          0.7123520351370871,
          3.32130239755203,
          0.45193972120216597,
          0.28945624785947643,
          0.31110172216131105
         ],
         "xaxis": "x2",
         "y": [
          120,
          125,
          130,
          135,
          140,
          145,
          150,
          160
         ],
         "yaxis": "y3"
        }
       ],
       "layout": {
        "annotations": [
         {
          "font": {
           "size": 16
          },
          "showarrow": false,
          "text": "MLT 3-9",
          "x": 0.47,
          "xanchor": "center",
          "xref": "paper",
          "y": 1,
          "yanchor": "bottom",
          "yref": "paper"
         }
        ],
        "height": 1000,
        "legend": {
         "orientation": "h",
         "y": -0.04
        },
        "showlegend": true,
        "template": {
         "data": {
          "bar": [
           {
            "error_x": {
             "color": "#2a3f5f"
            },
            "error_y": {
             "color": "#2a3f5f"
            },
            "marker": {
             "line": {
              "color": "#E5ECF6",
              "width": 0.5
             }
            },
            "type": "bar"
           }
          ],
          "barpolar": [
           {
            "marker": {
             "line": {
              "color": "#E5ECF6",
              "width": 0.5
             }
            },
            "type": "barpolar"
           }
          ],
          "carpet": [
           {
            "aaxis": {
             "endlinecolor": "#2a3f5f",
             "gridcolor": "white",
             "linecolor": "white",
             "minorgridcolor": "white",
             "startlinecolor": "#2a3f5f"
            },
            "baxis": {
             "endlinecolor": "#2a3f5f",
             "gridcolor": "white",
             "linecolor": "white",
             "minorgridcolor": "white",
             "startlinecolor": "#2a3f5f"
            },
            "type": "carpet"
           }
          ],
          "choropleth": [
           {
            "colorbar": {
             "outlinewidth": 0,
             "ticks": ""
            },
            "type": "choropleth"
           }
          ],
          "contour": [
           {
            "colorbar": {
             "outlinewidth": 0,
             "ticks": ""
            },
            "colorscale": [
             [
              0,
              "#0d0887"
             ],
             [
              0.1111111111111111,
              "#46039f"
             ],
             [
              0.2222222222222222,
              "#7201a8"
             ],
             [
              0.3333333333333333,
              "#9c179e"
             ],
             [
              0.4444444444444444,
              "#bd3786"
             ],
             [
              0.5555555555555556,
              "#d8576b"
             ],
             [
              0.6666666666666666,
              "#ed7953"
             ],
             [
              0.7777777777777778,
              "#fb9f3a"
             ],
             [
              0.8888888888888888,
              "#fdca26"
             ],
             [
              1,
              "#f0f921"
             ]
            ],
            "type": "contour"
           }
          ],
          "contourcarpet": [
           {
            "colorbar": {
             "outlinewidth": 0,
             "ticks": ""
            },
            "type": "contourcarpet"
           }
          ],
          "heatmap": [
           {
            "colorbar": {
             "outlinewidth": 0,
             "ticks": ""
            },
            "colorscale": [
             [
              0,
              "#0d0887"
             ],
             [
              0.1111111111111111,
              "#46039f"
             ],
             [
              0.2222222222222222,
              "#7201a8"
             ],
             [
              0.3333333333333333,
              "#9c179e"
             ],
             [
              0.4444444444444444,
              "#bd3786"
             ],
             [
              0.5555555555555556,
              "#d8576b"
             ],
             [
              0.6666666666666666,
              "#ed7953"
             ],
             [
              0.7777777777777778,
              "#fb9f3a"
             ],
             [
              0.8888888888888888,
              "#fdca26"
             ],
             [
              1,
              "#f0f921"
             ]
            ],
            "type": "heatmap"
           }
          ],
          "heatmapgl": [
           {
            "colorbar": {
             "outlinewidth": 0,
             "ticks": ""
            },
            "colorscale": [
             [
              0,
              "#0d0887"
             ],
             [
              0.1111111111111111,
              "#46039f"
             ],
             [
              0.2222222222222222,
              "#7201a8"
             ],
             [
              0.3333333333333333,
              "#9c179e"
             ],
             [
              0.4444444444444444,
              "#bd3786"
             ],
             [
              0.5555555555555556,
              "#d8576b"
             ],
             [
              0.6666666666666666,
              "#ed7953"
             ],
             [
              0.7777777777777778,
              "#fb9f3a"
             ],
             [
              0.8888888888888888,
              "#fdca26"
             ],
             [
              1,
              "#f0f921"
             ]
            ],
            "type": "heatmapgl"
           }
          ],
          "histogram": [
           {
            "marker": {
             "colorbar": {
              "outlinewidth": 0,
              "ticks": ""
             }
            },
            "type": "histogram"
           }
          ],
          "histogram2d": [
           {
            "colorbar": {
             "outlinewidth": 0,
             "ticks": ""
            },
            "colorscale": [
             [
              0,
              "#0d0887"
             ],
             [
              0.1111111111111111,
              "#46039f"
             ],
             [
              0.2222222222222222,
              "#7201a8"
             ],
             [
              0.3333333333333333,
              "#9c179e"
             ],
             [
              0.4444444444444444,
              "#bd3786"
             ],
             [
              0.5555555555555556,
              "#d8576b"
             ],
             [
              0.6666666666666666,
              "#ed7953"
             ],
             [
              0.7777777777777778,
              "#fb9f3a"
             ],
             [
              0.8888888888888888,
              "#fdca26"
             ],
             [
              1,
              "#f0f921"
             ]
            ],
            "type": "histogram2d"
           }
          ],
          "histogram2dcontour": [
           {
            "colorbar": {
             "outlinewidth": 0,
             "ticks": ""
            },
            "colorscale": [
             [
              0,
              "#0d0887"
             ],
             [
              0.1111111111111111,
              "#46039f"
             ],
             [
              0.2222222222222222,
              "#7201a8"
             ],
             [
              0.3333333333333333,
              "#9c179e"
             ],
             [
              0.4444444444444444,
              "#bd3786"
             ],
             [
              0.5555555555555556,
              "#d8576b"
             ],
             [
              0.6666666666666666,
              "#ed7953"
             ],
             [
              0.7777777777777778,
              "#fb9f3a"
             ],
             [
              0.8888888888888888,
              "#fdca26"
             ],
             [
              1,
              "#f0f921"
             ]
            ],
            "type": "histogram2dcontour"
           }
          ],
          "mesh3d": [
           {
            "colorbar": {
             "outlinewidth": 0,
             "ticks": ""
            },
            "type": "mesh3d"
           }
          ],
          "parcoords": [
           {
            "line": {
             "colorbar": {
              "outlinewidth": 0,
              "ticks": ""
             }
            },
            "type": "parcoords"
           }
          ],
          "pie": [
           {
            "automargin": true,
            "type": "pie"
           }
          ],
          "scatter": [
           {
            "marker": {
             "colorbar": {
              "outlinewidth": 0,
              "ticks": ""
             }
            },
            "type": "scatter"
           }
          ],
          "scatter3d": [
           {
            "line": {
             "colorbar": {
              "outlinewidth": 0,
              "ticks": ""
             }
            },
            "marker": {
             "colorbar": {
              "outlinewidth": 0,
              "ticks": ""
             }
            },
            "type": "scatter3d"
           }
          ],
          "scattercarpet": [
           {
            "marker": {
             "colorbar": {
              "outlinewidth": 0,
              "ticks": ""
             }
            },
            "type": "scattercarpet"
           }
          ],
          "scattergeo": [
           {
            "marker": {
             "colorbar": {
              "outlinewidth": 0,
              "ticks": ""
             }
            },
            "type": "scattergeo"
           }
          ],
          "scattergl": [
           {
            "marker": {
             "colorbar": {
              "outlinewidth": 0,
              "ticks": ""
             }
            },
            "type": "scattergl"
           }
          ],
          "scattermapbox": [
           {
            "marker": {
             "colorbar": {
              "outlinewidth": 0,
              "ticks": ""
             }
            },
            "type": "scattermapbox"
           }
          ],
          "scatterpolar": [
           {
            "marker": {
             "colorbar": {
              "outlinewidth": 0,
              "ticks": ""
             }
            },
            "type": "scatterpolar"
           }
          ],
          "scatterpolargl": [
           {
            "marker": {
             "colorbar": {
              "outlinewidth": 0,
              "ticks": ""
             }
            },
            "type": "scatterpolargl"
           }
          ],
          "scatterternary": [
           {
            "marker": {
             "colorbar": {
              "outlinewidth": 0,
              "ticks": ""
             }
            },
            "type": "scatterternary"
           }
          ],
          "surface": [
           {
            "colorbar": {
             "outlinewidth": 0,
             "ticks": ""
            },
            "colorscale": [
             [
              0,
              "#0d0887"
             ],
             [
              0.1111111111111111,
              "#46039f"
             ],
             [
              0.2222222222222222,
              "#7201a8"
             ],
             [
              0.3333333333333333,
              "#9c179e"
             ],
             [
              0.4444444444444444,
              "#bd3786"
             ],
             [
              0.5555555555555556,
              "#d8576b"
             ],
             [
              0.6666666666666666,
              "#ed7953"
             ],
             [
              0.7777777777777778,
              "#fb9f3a"
             ],
             [
              0.8888888888888888,
              "#fdca26"
             ],
             [
              1,
              "#f0f921"
             ]
            ],
            "type": "surface"
           }
          ],
          "table": [
           {
            "cells": {
             "fill": {
              "color": "#EBF0F8"
             },
             "line": {
              "color": "white"
             }
            },
            "header": {
             "fill": {
              "color": "#C8D4E3"
             },
             "line": {
              "color": "white"
             }
            },
            "type": "table"
           }
          ]
         },
         "layout": {
          "annotationdefaults": {
           "arrowcolor": "#2a3f5f",
           "arrowhead": 0,
           "arrowwidth": 1
          },
          "coloraxis": {
           "colorbar": {
            "outlinewidth": 0,
            "ticks": ""
           }
          },
          "colorscale": {
           "diverging": [
            [
             0,
             "#8e0152"
            ],
            [
             0.1,
             "#c51b7d"
            ],
            [
             0.2,
             "#de77ae"
            ],
            [
             0.3,
             "#f1b6da"
            ],
            [
             0.4,
             "#fde0ef"
            ],
            [
             0.5,
             "#f7f7f7"
            ],
            [
             0.6,
             "#e6f5d0"
            ],
            [
             0.7,
             "#b8e186"
            ],
            [
             0.8,
             "#7fbc41"
            ],
            [
             0.9,
             "#4d9221"
            ],
            [
             1,
             "#276419"
            ]
           ],
           "sequential": [
            [
             0,
             "#0d0887"
            ],
            [
             0.1111111111111111,
             "#46039f"
            ],
            [
             0.2222222222222222,
             "#7201a8"
            ],
            [
             0.3333333333333333,
             "#9c179e"
            ],
            [
             0.4444444444444444,
             "#bd3786"
            ],
            [
             0.5555555555555556,
             "#d8576b"
            ],
            [
             0.6666666666666666,
             "#ed7953"
            ],
            [
             0.7777777777777778,
             "#fb9f3a"
            ],
            [
             0.8888888888888888,
             "#fdca26"
            ],
            [
             1,
             "#f0f921"
            ]
           ],
           "sequentialminus": [
            [
             0,
             "#0d0887"
            ],
            [
             0.1111111111111111,
             "#46039f"
            ],
            [
             0.2222222222222222,
             "#7201a8"
            ],
            [
             0.3333333333333333,
             "#9c179e"
            ],
            [
             0.4444444444444444,
             "#bd3786"
            ],
            [
             0.5555555555555556,
             "#d8576b"
            ],
            [
             0.6666666666666666,
             "#ed7953"
            ],
            [
             0.7777777777777778,
             "#fb9f3a"
            ],
            [
             0.8888888888888888,
             "#fdca26"
            ],
            [
             1,
             "#f0f921"
            ]
           ]
          },
          "colorway": [
           "#636efa",
           "#EF553B",
           "#00cc96",
           "#ab63fa",
           "#FFA15A",
           "#19d3f3",
           "#FF6692",
           "#B6E880",
           "#FF97FF",
           "#FECB52"
          ],
          "font": {
           "color": "#2a3f5f"
          },
          "geo": {
           "bgcolor": "white",
           "lakecolor": "white",
           "landcolor": "#E5ECF6",
           "showlakes": true,
           "showland": true,
           "subunitcolor": "white"
          },
          "hoverlabel": {
           "align": "left"
          },
          "hovermode": "closest",
          "mapbox": {
           "style": "light"
          },
          "paper_bgcolor": "white",
          "plot_bgcolor": "#E5ECF6",
          "polar": {
           "angularaxis": {
            "gridcolor": "white",
            "linecolor": "white",
            "ticks": ""
           },
           "bgcolor": "#E5ECF6",
           "radialaxis": {
            "gridcolor": "white",
            "linecolor": "white",
            "ticks": ""
           }
          },
          "scene": {
           "xaxis": {
            "backgroundcolor": "#E5ECF6",
            "gridcolor": "white",
            "gridwidth": 2,
            "linecolor": "white",
            "showbackground": true,
            "ticks": "",
            "zerolinecolor": "white"
           },
           "yaxis": {
            "backgroundcolor": "#E5ECF6",
            "gridcolor": "white",
            "gridwidth": 2,
            "linecolor": "white",
            "showbackground": true,
            "ticks": "",
            "zerolinecolor": "white"
           },
           "zaxis": {
            "backgroundcolor": "#E5ECF6",
            "gridcolor": "white",
            "gridwidth": 2,
            "linecolor": "white",
            "showbackground": true,
            "ticks": "",
            "zerolinecolor": "white"
           }
          },
          "shapedefaults": {
           "line": {
            "color": "#2a3f5f"
           }
          },
          "ternary": {
           "aaxis": {
            "gridcolor": "white",
            "linecolor": "white",
            "ticks": ""
           },
           "baxis": {
            "gridcolor": "white",
            "linecolor": "white",
            "ticks": ""
           },
           "bgcolor": "#E5ECF6",
           "caxis": {
            "gridcolor": "white",
            "linecolor": "white",
            "ticks": ""
           }
          },
          "title": {
           "x": 0.05
          },
          "xaxis": {
           "automargin": true,
           "gridcolor": "white",
           "linecolor": "white",
           "ticks": "",
           "title": {
            "standoff": 15
           },
           "zerolinecolor": "white",
           "zerolinewidth": 2
          },
          "yaxis": {
           "automargin": true,
           "gridcolor": "white",
           "linecolor": "white",
           "ticks": "",
           "title": {
            "standoff": 15
           },
           "zerolinecolor": "white",
           "zerolinewidth": 2
          }
         }
        },
        "title": {
         "text": "Auroral E region, dawn sector<br>Alt.Prof. of Joule Heating (10^-8 W/m3)"
        },
        "width": 1100,
        "xaxis": {
         "anchor": "y",
         "domain": [
          0,
          0.94
         ],
         "matches": "x2",
         "range": [
          0,
          9
         ],
         "showticklabels": false
        },
        "xaxis2": {
         "anchor": "y3",
         "domain": [
          0,
          0.94
         ],
         "range": [
          0,
          9
         ]
        },
        "yaxis": {
         "anchor": "x",
         "domain": [
          0.5175,
          1
         ],
         "dtick": 10,
         "range": [
          80,
          160
         ],
         "side": "left",
         "title": {
          "text": "Altitude (km)"
         }
        },
        "yaxis2": {
         "anchor": "x",
         "dtick": 10,
         "overlaying": "y",
         "range": [
          80,
          160
         ],
         "showticklabels": false,
         "side": "right",
         "title": {
          "text": "Kp 0 - 3"
         }
        },
        "yaxis3": {
         "anchor": "x2",
         "domain": [
          0,
          0.4825
         ],
         "dtick": 10,
         "range": [
          80,
          160
         ],
         "side": "left",
         "title": {
          "text": "Altitude (km)"
         }
        },
        "yaxis4": {
         "anchor": "x2",
         "dtick": 10,
         "overlaying": "y3",
         "range": [
          80,
          160
         ],
         "showticklabels": false,
         "side": "right",
         "title": {
          "text": "Kp 3 - 9"
         }
        }
       }
      },
      "text/html": [
       "<div>\n",
       "        \n",
       "        \n",
       "            <div id=\"3b4d0357-5f95-43a0-a091-e07764608a51\" class=\"plotly-graph-div\" style=\"height:1000px; width:1100px;\"></div>\n",
       "            <script type=\"text/javascript\">\n",
       "                require([\"plotly\"], function(Plotly) {\n",
       "                    window.PLOTLYENV=window.PLOTLYENV || {};\n",
       "                    \n",
       "                if (document.getElementById(\"3b4d0357-5f95-43a0-a091-e07764608a51\")) {\n",
       "                    Plotly.newPlot(\n",
       "                        '3b4d0357-5f95-43a0-a091-e07764608a51',\n",
       "                        [{\"fill\": \"tonexty\", \"fillcolor\": \"#c4dfe6\", \"line\": {\"color\": \"gray\", \"width\": 1}, \"mode\": \"lines\", \"showlegend\": false, \"type\": \"scatter\", \"x\": [0, 0, 0, 0, 0, 0, 0, 0], \"xaxis\": \"x\", \"y\": [120, 125, 130, 135, 140, 145, 150, 160], \"yaxis\": \"y\"}, {\"fill\": \"tonexty\", \"fillcolor\": \"#c4dfe6\", \"line\": {\"color\": \"gray\", \"width\": 1}, \"mode\": \"lines\", \"showlegend\": false, \"type\": \"scatter\", \"x\": [0.01720631692680996, 0.016452385565024485, 0.015575080808405417, 0.01331534243975696, 0.009972380837774962, 0.009830938771382414, 0.00707694625123878, 0.0051467893141809995], \"xaxis\": \"x\", \"y\": [120, 125, 130, 135, 140, 145, 150, 160], \"yaxis\": \"y\"}, {\"fill\": \"tonexty\", \"fillcolor\": \"#a1d6e2\", \"line\": {\"color\": \"gray\", \"width\": 1}, \"mode\": \"lines\", \"showlegend\": false, \"type\": \"scatter\", \"x\": [0.05037902317539533, 0.04677697673649561, 0.049596346474167774, 0.041392735766754285, 0.029337787060823572, 0.02996350806361292, 0.020519959342824023, 0.015757962296136796], \"xaxis\": \"x\", \"y\": [120, 125, 130, 135, 140, 145, 150, 160], \"yaxis\": \"y\"}, {\"fill\": \"tonexty\", \"fillcolor\": \"#1995ad\", \"line\": {\"color\": \"black\", \"width\": 2}, \"mode\": \"lines\", \"showlegend\": false, \"type\": \"scatter\", \"x\": [0.2096374851490168, 0.22581820857681123, 0.15276805931385695, 0.14294707639805893, 0.08145197294417983, 0.07258161849321709, 0.06203475511057377, 0.04673161857482455], \"xaxis\": \"x\", \"y\": [120, 125, 130, 135, 140, 145, 150, 160], \"yaxis\": \"y\"}, {\"fill\": \"tonexty\", \"fillcolor\": \"#a1d6e2\", \"line\": {\"color\": \"gray\", \"width\": 1}, \"mode\": \"lines\", \"showlegend\": false, \"type\": \"scatter\", \"x\": [0.7490338127524865, 0.6086815496075815, 0.46080254056946046, 0.35486663052530787, 0.3093306777390836, 0.18256560985197012, 0.16509524858321356, 0.12114625969061876], \"xaxis\": \"x\", \"y\": [120, 125, 130, 135, 140, 145, 150, 160], \"yaxis\": \"y\"}, {\"fill\": \"tonexty\", \"fillcolor\": \"#c4dfe6\", \"line\": {\"color\": \"gray\", \"width\": 1}, \"mode\": \"lines\", \"showlegend\": false, \"type\": \"scatter\", \"x\": [2.4782664809208654, 1.85103473882009, 1.2876896793301282, 1.0745605472095576, 1.3146232014094037, 0.33558547496426167, 0.3273901327816021, 0.26584346279889803], \"xaxis\": \"x\", \"y\": [120, 125, 130, 135, 140, 145, 150, 160], \"yaxis\": \"y\"}, {\"showlegend\": false, \"type\": \"scatter\", \"x\": [-1000], \"xaxis\": \"x\", \"y\": [-1000], \"yaxis\": \"y2\"}, {\"fill\": \"tonexty\", \"fillcolor\": \"#c4dfe6\", \"line\": {\"color\": \"gray\", \"width\": 1}, \"mode\": \"lines\", \"showlegend\": false, \"type\": \"scatter\", \"x\": [0, 0, 0, 0, 0, 0, 0, 0], \"xaxis\": \"x2\", \"y\": [120, 125, 130, 135, 140, 145, 150, 160], \"yaxis\": \"y3\"}, {\"fill\": \"tonexty\", \"fillcolor\": \"#c4dfe6\", \"line\": {\"color\": \"gray\", \"width\": 1}, \"mode\": \"lines\", \"showlegend\": false, \"type\": \"scatter\", \"x\": [0.021358196045095923, 0.015723483348661915, 0.02904191276353885, 0.023611856636573947, 0.015797939484363258, 0.010292948715573404, 0.007011254424260649, 0.005036535077884707], \"xaxis\": \"x2\", \"y\": [120, 125, 130, 135, 140, 145, 150, 160], \"yaxis\": \"y3\"}, {\"fill\": \"tonexty\", \"fillcolor\": \"#a1d6e2\", \"line\": {\"color\": \"gray\", \"width\": 1}, \"mode\": \"lines\", \"showlegend\": false, \"type\": \"scatter\", \"x\": [0.06379658884503314, 0.04114565632651335, 0.04864652430880412, 0.04337821490896232, 0.0352434734174345, 0.027615601472241735, 0.021181136705683556, 0.015203319159162731], \"xaxis\": \"x2\", \"y\": [120, 125, 130, 135, 140, 145, 150, 160], \"yaxis\": \"y3\"}, {\"fill\": \"tonexty\", \"fillcolor\": \"#1995ad\", \"line\": {\"color\": \"black\", \"width\": 2}, \"mode\": \"lines\", \"showlegend\": false, \"type\": \"scatter\", \"x\": [0.17708279287376172, 0.12402336935224412, 0.1352087553030401, 0.09226228669945158, 0.1212609124223718, 0.09071041695563054, 0.07008266189600931, 0.05514318446309119], \"xaxis\": \"x2\", \"y\": [120, 125, 130, 135, 140, 145, 150, 160], \"yaxis\": \"y3\"}, {\"fill\": \"tonexty\", \"fillcolor\": \"#a1d6e2\", \"line\": {\"color\": \"gray\", \"width\": 1}, \"mode\": \"lines\", \"showlegend\": false, \"type\": \"scatter\", \"x\": [0.9253682264898089, 0.8637633275299095, 0.642903996705968, 0.3233986078932105, 0.5693754023816666, 0.19106383142286631, 0.1778741626212721, 0.1619615108694461], \"xaxis\": \"x2\", \"y\": [120, 125, 130, 135, 140, 145, 150, 160], \"yaxis\": \"y3\"}, {\"fill\": \"tonexty\", \"fillcolor\": \"#c4dfe6\", \"line\": {\"color\": \"gray\", \"width\": 1}, \"mode\": \"lines\", \"showlegend\": false, \"type\": \"scatter\", \"x\": [2.068235787078266, 1.4764680145162865, 1.1590981596754093, 0.7123520351370871, 3.32130239755203, 0.45193972120216597, 0.28945624785947643, 0.31110172216131105], \"xaxis\": \"x2\", \"y\": [120, 125, 130, 135, 140, 145, 150, 160], \"yaxis\": \"y3\"}, {\"showlegend\": false, \"type\": \"scatter\", \"x\": [-1000], \"xaxis\": \"x2\", \"y\": [-1000], \"yaxis\": \"y4\"}, {\"fill\": \"tonexty\", \"fillcolor\": \"#c4dfe6\", \"line\": {\"color\": \"gray\", \"width\": 1}, \"mode\": \"lines\", \"name\": \"10th Perc.\", \"showlegend\": true, \"type\": \"scatter\", \"x\": [0.021358196045095923, 0.015723483348661915, 0.02904191276353885, 0.023611856636573947, 0.015797939484363258, 0.010292948715573404, 0.007011254424260649, 0.005036535077884707], \"xaxis\": \"x2\", \"y\": [120, 125, 130, 135, 140, 145, 150, 160], \"yaxis\": \"y3\"}, {\"fill\": \"tonexty\", \"fillcolor\": \"#a1d6e2\", \"line\": {\"color\": \"gray\", \"width\": 1}, \"mode\": \"lines\", \"name\": \"25th Perc.\", \"showlegend\": true, \"type\": \"scatter\", \"x\": [0.06379658884503314, 0.04114565632651335, 0.04864652430880412, 0.04337821490896232, 0.0352434734174345, 0.027615601472241735, 0.021181136705683556, 0.015203319159162731], \"xaxis\": \"x2\", \"y\": [120, 125, 130, 135, 140, 145, 150, 160], \"yaxis\": \"y3\"}, {\"fill\": \"tonexty\", \"fillcolor\": \"#1995ad\", \"line\": {\"color\": \"black\", \"width\": 2}, \"mode\": \"lines\", \"name\": \"50th Perc.\", \"showlegend\": true, \"type\": \"scatter\", \"x\": [0.17708279287376172, 0.12402336935224412, 0.1352087553030401, 0.09226228669945158, 0.1212609124223718, 0.09071041695563054, 0.07008266189600931, 0.05514318446309119], \"xaxis\": \"x2\", \"y\": [120, 125, 130, 135, 140, 145, 150, 160], \"yaxis\": \"y3\"}, {\"fill\": \"tonexty\", \"fillcolor\": \"#a1d6e2\", \"line\": {\"color\": \"gray\", \"width\": 1}, \"mode\": \"lines\", \"name\": \"75th Perc.\", \"showlegend\": true, \"type\": \"scatter\", \"x\": [0.9253682264898089, 0.8637633275299095, 0.642903996705968, 0.3233986078932105, 0.5693754023816666, 0.19106383142286631, 0.1778741626212721, 0.1619615108694461], \"xaxis\": \"x2\", \"y\": [120, 125, 130, 135, 140, 145, 150, 160], \"yaxis\": \"y3\"}, {\"fill\": \"tonexty\", \"fillcolor\": \"#c4dfe6\", \"line\": {\"color\": \"gray\", \"width\": 1}, \"mode\": \"lines\", \"name\": \"90th Perc.\", \"showlegend\": true, \"type\": \"scatter\", \"x\": [2.068235787078266, 1.4764680145162865, 1.1590981596754093, 0.7123520351370871, 3.32130239755203, 0.45193972120216597, 0.28945624785947643, 0.31110172216131105], \"xaxis\": \"x2\", \"y\": [120, 125, 130, 135, 140, 145, 150, 160], \"yaxis\": \"y3\"}],\n",
       "                        {\"annotations\": [{\"font\": {\"size\": 16}, \"showarrow\": false, \"text\": \"MLT 3-9\", \"x\": 0.47, \"xanchor\": \"center\", \"xref\": \"paper\", \"y\": 1.0, \"yanchor\": \"bottom\", \"yref\": \"paper\"}], \"height\": 1000, \"legend\": {\"orientation\": \"h\", \"y\": -0.04}, \"showlegend\": true, \"template\": {\"data\": {\"bar\": [{\"error_x\": {\"color\": \"#2a3f5f\"}, \"error_y\": {\"color\": \"#2a3f5f\"}, \"marker\": {\"line\": {\"color\": \"#E5ECF6\", \"width\": 0.5}}, \"type\": \"bar\"}], \"barpolar\": [{\"marker\": {\"line\": {\"color\": \"#E5ECF6\", \"width\": 0.5}}, \"type\": \"barpolar\"}], \"carpet\": [{\"aaxis\": {\"endlinecolor\": \"#2a3f5f\", \"gridcolor\": \"white\", \"linecolor\": \"white\", \"minorgridcolor\": \"white\", \"startlinecolor\": \"#2a3f5f\"}, \"baxis\": {\"endlinecolor\": \"#2a3f5f\", \"gridcolor\": \"white\", \"linecolor\": \"white\", \"minorgridcolor\": \"white\", \"startlinecolor\": \"#2a3f5f\"}, \"type\": \"carpet\"}], \"choropleth\": [{\"colorbar\": {\"outlinewidth\": 0, \"ticks\": \"\"}, \"type\": \"choropleth\"}], \"contour\": [{\"colorbar\": {\"outlinewidth\": 0, \"ticks\": \"\"}, \"colorscale\": [[0.0, \"#0d0887\"], [0.1111111111111111, \"#46039f\"], [0.2222222222222222, \"#7201a8\"], [0.3333333333333333, \"#9c179e\"], [0.4444444444444444, \"#bd3786\"], [0.5555555555555556, \"#d8576b\"], [0.6666666666666666, \"#ed7953\"], [0.7777777777777778, \"#fb9f3a\"], [0.8888888888888888, \"#fdca26\"], [1.0, \"#f0f921\"]], \"type\": \"contour\"}], \"contourcarpet\": [{\"colorbar\": {\"outlinewidth\": 0, \"ticks\": \"\"}, \"type\": \"contourcarpet\"}], \"heatmap\": [{\"colorbar\": {\"outlinewidth\": 0, \"ticks\": \"\"}, \"colorscale\": [[0.0, \"#0d0887\"], [0.1111111111111111, \"#46039f\"], [0.2222222222222222, \"#7201a8\"], [0.3333333333333333, \"#9c179e\"], [0.4444444444444444, \"#bd3786\"], [0.5555555555555556, \"#d8576b\"], [0.6666666666666666, \"#ed7953\"], [0.7777777777777778, \"#fb9f3a\"], [0.8888888888888888, \"#fdca26\"], [1.0, \"#f0f921\"]], \"type\": \"heatmap\"}], \"heatmapgl\": [{\"colorbar\": {\"outlinewidth\": 0, \"ticks\": \"\"}, \"colorscale\": [[0.0, \"#0d0887\"], [0.1111111111111111, \"#46039f\"], [0.2222222222222222, \"#7201a8\"], [0.3333333333333333, \"#9c179e\"], [0.4444444444444444, \"#bd3786\"], [0.5555555555555556, \"#d8576b\"], [0.6666666666666666, \"#ed7953\"], [0.7777777777777778, \"#fb9f3a\"], [0.8888888888888888, \"#fdca26\"], [1.0, \"#f0f921\"]], \"type\": \"heatmapgl\"}], \"histogram\": [{\"marker\": {\"colorbar\": {\"outlinewidth\": 0, \"ticks\": \"\"}}, \"type\": \"histogram\"}], \"histogram2d\": [{\"colorbar\": {\"outlinewidth\": 0, \"ticks\": \"\"}, \"colorscale\": [[0.0, \"#0d0887\"], [0.1111111111111111, \"#46039f\"], [0.2222222222222222, \"#7201a8\"], [0.3333333333333333, \"#9c179e\"], [0.4444444444444444, \"#bd3786\"], [0.5555555555555556, \"#d8576b\"], [0.6666666666666666, \"#ed7953\"], [0.7777777777777778, \"#fb9f3a\"], [0.8888888888888888, \"#fdca26\"], [1.0, \"#f0f921\"]], \"type\": \"histogram2d\"}], \"histogram2dcontour\": [{\"colorbar\": {\"outlinewidth\": 0, \"ticks\": \"\"}, \"colorscale\": [[0.0, \"#0d0887\"], [0.1111111111111111, \"#46039f\"], [0.2222222222222222, \"#7201a8\"], [0.3333333333333333, \"#9c179e\"], [0.4444444444444444, \"#bd3786\"], [0.5555555555555556, \"#d8576b\"], [0.6666666666666666, \"#ed7953\"], [0.7777777777777778, \"#fb9f3a\"], [0.8888888888888888, \"#fdca26\"], [1.0, \"#f0f921\"]], \"type\": \"histogram2dcontour\"}], \"mesh3d\": [{\"colorbar\": {\"outlinewidth\": 0, \"ticks\": \"\"}, \"type\": \"mesh3d\"}], \"parcoords\": [{\"line\": {\"colorbar\": {\"outlinewidth\": 0, \"ticks\": \"\"}}, \"type\": \"parcoords\"}], \"pie\": [{\"automargin\": true, \"type\": \"pie\"}], \"scatter\": [{\"marker\": {\"colorbar\": {\"outlinewidth\": 0, \"ticks\": \"\"}}, \"type\": \"scatter\"}], \"scatter3d\": [{\"line\": {\"colorbar\": {\"outlinewidth\": 0, \"ticks\": \"\"}}, \"marker\": {\"colorbar\": {\"outlinewidth\": 0, \"ticks\": \"\"}}, \"type\": \"scatter3d\"}], \"scattercarpet\": [{\"marker\": {\"colorbar\": {\"outlinewidth\": 0, \"ticks\": \"\"}}, \"type\": \"scattercarpet\"}], \"scattergeo\": [{\"marker\": {\"colorbar\": {\"outlinewidth\": 0, \"ticks\": \"\"}}, \"type\": \"scattergeo\"}], \"scattergl\": [{\"marker\": {\"colorbar\": {\"outlinewidth\": 0, \"ticks\": \"\"}}, \"type\": \"scattergl\"}], \"scattermapbox\": [{\"marker\": {\"colorbar\": {\"outlinewidth\": 0, \"ticks\": \"\"}}, \"type\": \"scattermapbox\"}], \"scatterpolar\": [{\"marker\": {\"colorbar\": {\"outlinewidth\": 0, \"ticks\": \"\"}}, \"type\": \"scatterpolar\"}], \"scatterpolargl\": [{\"marker\": {\"colorbar\": {\"outlinewidth\": 0, \"ticks\": \"\"}}, \"type\": \"scatterpolargl\"}], \"scatterternary\": [{\"marker\": {\"colorbar\": {\"outlinewidth\": 0, \"ticks\": \"\"}}, \"type\": \"scatterternary\"}], \"surface\": [{\"colorbar\": {\"outlinewidth\": 0, \"ticks\": \"\"}, \"colorscale\": [[0.0, \"#0d0887\"], [0.1111111111111111, \"#46039f\"], [0.2222222222222222, \"#7201a8\"], [0.3333333333333333, \"#9c179e\"], [0.4444444444444444, \"#bd3786\"], [0.5555555555555556, \"#d8576b\"], [0.6666666666666666, \"#ed7953\"], [0.7777777777777778, \"#fb9f3a\"], [0.8888888888888888, \"#fdca26\"], [1.0, \"#f0f921\"]], \"type\": \"surface\"}], \"table\": [{\"cells\": {\"fill\": {\"color\": \"#EBF0F8\"}, \"line\": {\"color\": \"white\"}}, \"header\": {\"fill\": {\"color\": \"#C8D4E3\"}, \"line\": {\"color\": \"white\"}}, \"type\": \"table\"}]}, \"layout\": {\"annotationdefaults\": {\"arrowcolor\": \"#2a3f5f\", \"arrowhead\": 0, \"arrowwidth\": 1}, \"coloraxis\": {\"colorbar\": {\"outlinewidth\": 0, \"ticks\": \"\"}}, \"colorscale\": {\"diverging\": [[0, \"#8e0152\"], [0.1, \"#c51b7d\"], [0.2, \"#de77ae\"], [0.3, \"#f1b6da\"], [0.4, \"#fde0ef\"], [0.5, \"#f7f7f7\"], [0.6, \"#e6f5d0\"], [0.7, \"#b8e186\"], [0.8, \"#7fbc41\"], [0.9, \"#4d9221\"], [1, \"#276419\"]], \"sequential\": [[0.0, \"#0d0887\"], [0.1111111111111111, \"#46039f\"], [0.2222222222222222, \"#7201a8\"], [0.3333333333333333, \"#9c179e\"], [0.4444444444444444, \"#bd3786\"], [0.5555555555555556, \"#d8576b\"], [0.6666666666666666, \"#ed7953\"], [0.7777777777777778, \"#fb9f3a\"], [0.8888888888888888, \"#fdca26\"], [1.0, \"#f0f921\"]], \"sequentialminus\": [[0.0, \"#0d0887\"], [0.1111111111111111, \"#46039f\"], [0.2222222222222222, \"#7201a8\"], [0.3333333333333333, \"#9c179e\"], [0.4444444444444444, \"#bd3786\"], [0.5555555555555556, \"#d8576b\"], [0.6666666666666666, \"#ed7953\"], [0.7777777777777778, \"#fb9f3a\"], [0.8888888888888888, \"#fdca26\"], [1.0, \"#f0f921\"]]}, \"colorway\": [\"#636efa\", \"#EF553B\", \"#00cc96\", \"#ab63fa\", \"#FFA15A\", \"#19d3f3\", \"#FF6692\", \"#B6E880\", \"#FF97FF\", \"#FECB52\"], \"font\": {\"color\": \"#2a3f5f\"}, \"geo\": {\"bgcolor\": \"white\", \"lakecolor\": \"white\", \"landcolor\": \"#E5ECF6\", \"showlakes\": true, \"showland\": true, \"subunitcolor\": \"white\"}, \"hoverlabel\": {\"align\": \"left\"}, \"hovermode\": \"closest\", \"mapbox\": {\"style\": \"light\"}, \"paper_bgcolor\": \"white\", \"plot_bgcolor\": \"#E5ECF6\", \"polar\": {\"angularaxis\": {\"gridcolor\": \"white\", \"linecolor\": \"white\", \"ticks\": \"\"}, \"bgcolor\": \"#E5ECF6\", \"radialaxis\": {\"gridcolor\": \"white\", \"linecolor\": \"white\", \"ticks\": \"\"}}, \"scene\": {\"xaxis\": {\"backgroundcolor\": \"#E5ECF6\", \"gridcolor\": \"white\", \"gridwidth\": 2, \"linecolor\": \"white\", \"showbackground\": true, \"ticks\": \"\", \"zerolinecolor\": \"white\"}, \"yaxis\": {\"backgroundcolor\": \"#E5ECF6\", \"gridcolor\": \"white\", \"gridwidth\": 2, \"linecolor\": \"white\", \"showbackground\": true, \"ticks\": \"\", \"zerolinecolor\": \"white\"}, \"zaxis\": {\"backgroundcolor\": \"#E5ECF6\", \"gridcolor\": \"white\", \"gridwidth\": 2, \"linecolor\": \"white\", \"showbackground\": true, \"ticks\": \"\", \"zerolinecolor\": \"white\"}}, \"shapedefaults\": {\"line\": {\"color\": \"#2a3f5f\"}}, \"ternary\": {\"aaxis\": {\"gridcolor\": \"white\", \"linecolor\": \"white\", \"ticks\": \"\"}, \"baxis\": {\"gridcolor\": \"white\", \"linecolor\": \"white\", \"ticks\": \"\"}, \"bgcolor\": \"#E5ECF6\", \"caxis\": {\"gridcolor\": \"white\", \"linecolor\": \"white\", \"ticks\": \"\"}}, \"title\": {\"x\": 0.05}, \"xaxis\": {\"automargin\": true, \"gridcolor\": \"white\", \"linecolor\": \"white\", \"ticks\": \"\", \"title\": {\"standoff\": 15}, \"zerolinecolor\": \"white\", \"zerolinewidth\": 2}, \"yaxis\": {\"automargin\": true, \"gridcolor\": \"white\", \"linecolor\": \"white\", \"ticks\": \"\", \"title\": {\"standoff\": 15}, \"zerolinecolor\": \"white\", \"zerolinewidth\": 2}}}, \"title\": {\"text\": \"Auroral E region, dawn sector<br>Alt.Prof. of Joule Heating (10^-8 W/m3)\"}, \"width\": 1100, \"xaxis\": {\"anchor\": \"y\", \"domain\": [0.0, 0.94], \"matches\": \"x2\", \"range\": [0.0, 9.0], \"showticklabels\": false}, \"xaxis2\": {\"anchor\": \"y3\", \"domain\": [0.0, 0.94], \"range\": [0.0, 9.0]}, \"yaxis\": {\"anchor\": \"x\", \"domain\": [0.5175, 1.0], \"dtick\": 10, \"range\": [80, 160], \"side\": \"left\", \"title\": {\"text\": \"Altitude (km)\"}}, \"yaxis2\": {\"anchor\": \"x\", \"dtick\": 10, \"overlaying\": \"y\", \"range\": [80, 160], \"showticklabels\": false, \"side\": \"right\", \"title\": {\"text\": \"Kp 0 - 3\"}}, \"yaxis3\": {\"anchor\": \"x2\", \"domain\": [0.0, 0.4825], \"dtick\": 10, \"range\": [80, 160], \"side\": \"left\", \"title\": {\"text\": \"Altitude (km)\"}}, \"yaxis4\": {\"anchor\": \"x2\", \"dtick\": 10, \"overlaying\": \"y3\", \"range\": [80, 160], \"showticklabels\": false, \"side\": \"right\", \"title\": {\"text\": \"Kp 3 - 9\"}}},\n",
       "                        {\"responsive\": true}\n",
       "                    ).then(function(){\n",
       "                            \n",
       "var gd = document.getElementById('3b4d0357-5f95-43a0-a091-e07764608a51');\n",
       "var x = new MutationObserver(function (mutations, observer) {{\n",
       "        var display = window.getComputedStyle(gd).display;\n",
       "        if (!display || display === 'none') {{\n",
       "            console.log([gd, 'removed!']);\n",
       "            Plotly.purge(gd);\n",
       "            observer.disconnect();\n",
       "        }}\n",
       "}});\n",
       "\n",
       "// Listen for the removal of the full notebook cells\n",
       "var notebookContainer = gd.closest('#notebook-container');\n",
       "if (notebookContainer) {{\n",
       "    x.observe(notebookContainer, {childList: true});\n",
       "}}\n",
       "\n",
       "// Listen for the clearing of the current output cell\n",
       "var outputEl = gd.closest('.output');\n",
       "if (outputEl) {{\n",
       "    x.observe(outputEl, {childList: true});\n",
       "}}\n",
       "\n",
       "                        })\n",
       "                };\n",
       "                });\n",
       "            </script>\n",
       "        </div>"
      ]
     },
     "metadata": {},
     "output_type": "display_data"
    },
    {
     "data": {
      "application/vnd.plotly.v1+json": {
       "config": {
        "linkText": "Export to plot.ly",
        "plotlyServerURL": "https://plot.ly",
        "showLink": false
       },
       "data": [
        {
         "fill": "tonexty",
         "fillcolor": "#c4dfe6",
         "line": {
          "color": "gray",
          "width": 1
         },
         "mode": "lines",
         "showlegend": false,
         "type": "scatter",
         "x": [
          0,
          0,
          0,
          0,
          0,
          0,
          0,
          0
         ],
         "xaxis": "x",
         "y": [
          120,
          125,
          130,
          135,
          140,
          145,
          150,
          160
         ],
         "yaxis": "y"
        },
        {
         "fill": "tonexty",
         "fillcolor": "#c4dfe6",
         "line": {
          "color": "gray",
          "width": 1
         },
         "mode": "lines",
         "showlegend": false,
         "type": "scatter",
         "x": [
          0.01720631692680996,
          0.016452385565024485,
          0.015575080808405417,
          0.01331534243975696,
          0.009972380837774962,
          0.009830938771382414,
          0.00707694625123878,
          0.0051467893141809995
         ],
         "xaxis": "x",
         "y": [
          120,
          125,
          130,
          135,
          140,
          145,
          150,
          160
         ],
         "yaxis": "y"
        },
        {
         "fill": "tonexty",
         "fillcolor": "#a1d6e2",
         "line": {
          "color": "gray",
          "width": 1
         },
         "mode": "lines",
         "showlegend": false,
         "type": "scatter",
         "x": [
          0.05037902317539533,
          0.04677697673649561,
          0.049596346474167774,
          0.041392735766754285,
          0.029337787060823572,
          0.02996350806361292,
          0.020519959342824023,
          0.015757962296136796
         ],
         "xaxis": "x",
         "y": [
          120,
          125,
          130,
          135,
          140,
          145,
          150,
          160
         ],
         "yaxis": "y"
        },
        {
         "fill": "tonexty",
         "fillcolor": "#1995ad",
         "line": {
          "color": "black",
          "width": 2
         },
         "mode": "lines",
         "showlegend": false,
         "type": "scatter",
         "x": [
          0.2096374851490168,
          0.22581820857681123,
          0.15276805931385695,
          0.14294707639805893,
          0.08145197294417983,
          0.07258161849321709,
          0.06203475511057377,
          0.04673161857482455
         ],
         "xaxis": "x",
         "y": [
          120,
          125,
          130,
          135,
          140,
          145,
          150,
          160
         ],
         "yaxis": "y"
        },
        {
         "fill": "tonexty",
         "fillcolor": "#a1d6e2",
         "line": {
          "color": "gray",
          "width": 1
         },
         "mode": "lines",
         "showlegend": false,
         "type": "scatter",
         "x": [
          0.7490338127524865,
          0.6086815496075815,
          0.46080254056946046,
          0.35486663052530787,
          0.3093306777390836,
          0.18256560985197012,
          0.16509524858321356,
          0.12114625969061876
         ],
         "xaxis": "x",
         "y": [
          120,
          125,
          130,
          135,
          140,
          145,
          150,
          160
         ],
         "yaxis": "y"
        },
        {
         "fill": "tonexty",
         "fillcolor": "#c4dfe6",
         "line": {
          "color": "gray",
          "width": 1
         },
         "mode": "lines",
         "showlegend": false,
         "type": "scatter",
         "x": [
          2.4782664809208654,
          1.85103473882009,
          1.2876896793301282,
          1.0745605472095576,
          1.3146232014094037,
          0.33558547496426167,
          0.3273901327816021,
          0.26584346279889803
         ],
         "xaxis": "x",
         "y": [
          120,
          125,
          130,
          135,
          140,
          145,
          150,
          160
         ],
         "yaxis": "y"
        },
        {
         "showlegend": false,
         "type": "scatter",
         "x": [
          -1000
         ],
         "xaxis": "x",
         "y": [
          -1000
         ],
         "yaxis": "y2"
        },
        {
         "fill": "tonexty",
         "fillcolor": "#c4dfe6",
         "line": {
          "color": "gray",
          "width": 1
         },
         "mode": "lines",
         "showlegend": false,
         "type": "scatter",
         "x": [
          0,
          0,
          0,
          0,
          0,
          0,
          0,
          0
         ],
         "xaxis": "x2",
         "y": [
          120,
          125,
          130,
          135,
          140,
          145,
          150,
          160
         ],
         "yaxis": "y3"
        },
        {
         "fill": "tonexty",
         "fillcolor": "#c4dfe6",
         "line": {
          "color": "gray",
          "width": 1
         },
         "mode": "lines",
         "showlegend": false,
         "type": "scatter",
         "x": [
          0.021358196045095923,
          0.015723483348661915,
          0.02904191276353885,
          0.023611856636573947,
          0.015797939484363258,
          0.010292948715573404,
          0.007011254424260649,
          0.005036535077884707
         ],
         "xaxis": "x2",
         "y": [
          120,
          125,
          130,
          135,
          140,
          145,
          150,
          160
         ],
         "yaxis": "y3"
        },
        {
         "fill": "tonexty",
         "fillcolor": "#a1d6e2",
         "line": {
          "color": "gray",
          "width": 1
         },
         "mode": "lines",
         "showlegend": false,
         "type": "scatter",
         "x": [
          0.06379658884503314,
          0.04114565632651335,
          0.04864652430880412,
          0.04337821490896232,
          0.0352434734174345,
          0.027615601472241735,
          0.021181136705683556,
          0.015203319159162731
         ],
         "xaxis": "x2",
         "y": [
          120,
          125,
          130,
          135,
          140,
          145,
          150,
          160
         ],
         "yaxis": "y3"
        },
        {
         "fill": "tonexty",
         "fillcolor": "#1995ad",
         "line": {
          "color": "black",
          "width": 2
         },
         "mode": "lines",
         "showlegend": false,
         "type": "scatter",
         "x": [
          0.17708279287376172,
          0.12402336935224412,
          0.1352087553030401,
          0.09226228669945158,
          0.1212609124223718,
          0.09071041695563054,
          0.07008266189600931,
          0.05514318446309119
         ],
         "xaxis": "x2",
         "y": [
          120,
          125,
          130,
          135,
          140,
          145,
          150,
          160
         ],
         "yaxis": "y3"
        },
        {
         "fill": "tonexty",
         "fillcolor": "#a1d6e2",
         "line": {
          "color": "gray",
          "width": 1
         },
         "mode": "lines",
         "showlegend": false,
         "type": "scatter",
         "x": [
          0.9253682264898089,
          0.8637633275299095,
          0.642903996705968,
          0.3233986078932105,
          0.5693754023816666,
          0.19106383142286631,
          0.1778741626212721,
          0.1619615108694461
         ],
         "xaxis": "x2",
         "y": [
          120,
          125,
          130,
          135,
          140,
          145,
          150,
          160
         ],
         "yaxis": "y3"
        },
        {
         "fill": "tonexty",
         "fillcolor": "#c4dfe6",
         "line": {
          "color": "gray",
          "width": 1
         },
         "mode": "lines",
         "showlegend": false,
         "type": "scatter",
         "x": [
          2.068235787078266,
          1.4764680145162865,
          1.1590981596754093,
          0.7123520351370871,
          3.32130239755203,
          0.45193972120216597,
          0.28945624785947643,
          0.31110172216131105
         ],
         "xaxis": "x2",
         "y": [
          120,
          125,
          130,
          135,
          140,
          145,
          150,
          160
         ],
         "yaxis": "y3"
        },
        {
         "showlegend": false,
         "type": "scatter",
         "x": [
          -1000
         ],
         "xaxis": "x2",
         "y": [
          -1000
         ],
         "yaxis": "y4"
        },
        {
         "fill": "tonexty",
         "fillcolor": "#c4dfe6",
         "line": {
          "color": "gray",
          "width": 1
         },
         "mode": "lines",
         "name": "10th Perc.",
         "showlegend": true,
         "type": "scatter",
         "x": [
          0.021358196045095923,
          0.015723483348661915,
          0.02904191276353885,
          0.023611856636573947,
          0.015797939484363258,
          0.010292948715573404,
          0.007011254424260649,
          0.005036535077884707
         ],
         "xaxis": "x2",
         "y": [
          120,
          125,
          130,
          135,
          140,
          145,
          150,
          160
         ],
         "yaxis": "y3"
        },
        {
         "fill": "tonexty",
         "fillcolor": "#a1d6e2",
         "line": {
          "color": "gray",
          "width": 1
         },
         "mode": "lines",
         "name": "25th Perc.",
         "showlegend": true,
         "type": "scatter",
         "x": [
          0.06379658884503314,
          0.04114565632651335,
          0.04864652430880412,
          0.04337821490896232,
          0.0352434734174345,
          0.027615601472241735,
          0.021181136705683556,
          0.015203319159162731
         ],
         "xaxis": "x2",
         "y": [
          120,
          125,
          130,
          135,
          140,
          145,
          150,
          160
         ],
         "yaxis": "y3"
        },
        {
         "fill": "tonexty",
         "fillcolor": "#1995ad",
         "line": {
          "color": "black",
          "width": 2
         },
         "mode": "lines",
         "name": "50th Perc.",
         "showlegend": true,
         "type": "scatter",
         "x": [
          0.17708279287376172,
          0.12402336935224412,
          0.1352087553030401,
          0.09226228669945158,
          0.1212609124223718,
          0.09071041695563054,
          0.07008266189600931,
          0.05514318446309119
         ],
         "xaxis": "x2",
         "y": [
          120,
          125,
          130,
          135,
          140,
          145,
          150,
          160
         ],
         "yaxis": "y3"
        },
        {
         "fill": "tonexty",
         "fillcolor": "#a1d6e2",
         "line": {
          "color": "gray",
          "width": 1
         },
         "mode": "lines",
         "name": "75th Perc.",
         "showlegend": true,
         "type": "scatter",
         "x": [
          0.9253682264898089,
          0.8637633275299095,
          0.642903996705968,
          0.3233986078932105,
          0.5693754023816666,
          0.19106383142286631,
          0.1778741626212721,
          0.1619615108694461
         ],
         "xaxis": "x2",
         "y": [
          120,
          125,
          130,
          135,
          140,
          145,
          150,
          160
         ],
         "yaxis": "y3"
        },
        {
         "fill": "tonexty",
         "fillcolor": "#c4dfe6",
         "line": {
          "color": "gray",
          "width": 1
         },
         "mode": "lines",
         "name": "90th Perc.",
         "showlegend": true,
         "type": "scatter",
         "x": [
          2.068235787078266,
          1.4764680145162865,
          1.1590981596754093,
          0.7123520351370871,
          3.32130239755203,
          0.45193972120216597,
          0.28945624785947643,
          0.31110172216131105
         ],
         "xaxis": "x2",
         "y": [
          120,
          125,
          130,
          135,
          140,
          145,
          150,
          160
         ],
         "yaxis": "y3"
        }
       ],
       "layout": {
        "annotations": [
         {
          "font": {
           "size": 16
          },
          "showarrow": false,
          "text": "MLT 3-9",
          "x": 0.47,
          "xanchor": "center",
          "xref": "paper",
          "y": 1,
          "yanchor": "bottom",
          "yref": "paper"
         }
        ],
        "height": 1000,
        "legend": {
         "orientation": "h",
         "y": -0.04
        },
        "showlegend": true,
        "template": {
         "data": {
          "bar": [
           {
            "error_x": {
             "color": "#2a3f5f"
            },
            "error_y": {
             "color": "#2a3f5f"
            },
            "marker": {
             "line": {
              "color": "#E5ECF6",
              "width": 0.5
             }
            },
            "type": "bar"
           }
          ],
          "barpolar": [
           {
            "marker": {
             "line": {
              "color": "#E5ECF6",
              "width": 0.5
             }
            },
            "type": "barpolar"
           }
          ],
          "carpet": [
           {
            "aaxis": {
             "endlinecolor": "#2a3f5f",
             "gridcolor": "white",
             "linecolor": "white",
             "minorgridcolor": "white",
             "startlinecolor": "#2a3f5f"
            },
            "baxis": {
             "endlinecolor": "#2a3f5f",
             "gridcolor": "white",
             "linecolor": "white",
             "minorgridcolor": "white",
             "startlinecolor": "#2a3f5f"
            },
            "type": "carpet"
           }
          ],
          "choropleth": [
           {
            "colorbar": {
             "outlinewidth": 0,
             "ticks": ""
            },
            "type": "choropleth"
           }
          ],
          "contour": [
           {
            "colorbar": {
             "outlinewidth": 0,
             "ticks": ""
            },
            "colorscale": [
             [
              0,
              "#0d0887"
             ],
             [
              0.1111111111111111,
              "#46039f"
             ],
             [
              0.2222222222222222,
              "#7201a8"
             ],
             [
              0.3333333333333333,
              "#9c179e"
             ],
             [
              0.4444444444444444,
              "#bd3786"
             ],
             [
              0.5555555555555556,
              "#d8576b"
             ],
             [
              0.6666666666666666,
              "#ed7953"
             ],
             [
              0.7777777777777778,
              "#fb9f3a"
             ],
             [
              0.8888888888888888,
              "#fdca26"
             ],
             [
              1,
              "#f0f921"
             ]
            ],
            "type": "contour"
           }
          ],
          "contourcarpet": [
           {
            "colorbar": {
             "outlinewidth": 0,
             "ticks": ""
            },
            "type": "contourcarpet"
           }
          ],
          "heatmap": [
           {
            "colorbar": {
             "outlinewidth": 0,
             "ticks": ""
            },
            "colorscale": [
             [
              0,
              "#0d0887"
             ],
             [
              0.1111111111111111,
              "#46039f"
             ],
             [
              0.2222222222222222,
              "#7201a8"
             ],
             [
              0.3333333333333333,
              "#9c179e"
             ],
             [
              0.4444444444444444,
              "#bd3786"
             ],
             [
              0.5555555555555556,
              "#d8576b"
             ],
             [
              0.6666666666666666,
              "#ed7953"
             ],
             [
              0.7777777777777778,
              "#fb9f3a"
             ],
             [
              0.8888888888888888,
              "#fdca26"
             ],
             [
              1,
              "#f0f921"
             ]
            ],
            "type": "heatmap"
           }
          ],
          "heatmapgl": [
           {
            "colorbar": {
             "outlinewidth": 0,
             "ticks": ""
            },
            "colorscale": [
             [
              0,
              "#0d0887"
             ],
             [
              0.1111111111111111,
              "#46039f"
             ],
             [
              0.2222222222222222,
              "#7201a8"
             ],
             [
              0.3333333333333333,
              "#9c179e"
             ],
             [
              0.4444444444444444,
              "#bd3786"
             ],
             [
              0.5555555555555556,
              "#d8576b"
             ],
             [
              0.6666666666666666,
              "#ed7953"
             ],
             [
              0.7777777777777778,
              "#fb9f3a"
             ],
             [
              0.8888888888888888,
              "#fdca26"
             ],
             [
              1,
              "#f0f921"
             ]
            ],
            "type": "heatmapgl"
           }
          ],
          "histogram": [
           {
            "marker": {
             "colorbar": {
              "outlinewidth": 0,
              "ticks": ""
             }
            },
            "type": "histogram"
           }
          ],
          "histogram2d": [
           {
            "colorbar": {
             "outlinewidth": 0,
             "ticks": ""
            },
            "colorscale": [
             [
              0,
              "#0d0887"
             ],
             [
              0.1111111111111111,
              "#46039f"
             ],
             [
              0.2222222222222222,
              "#7201a8"
             ],
             [
              0.3333333333333333,
              "#9c179e"
             ],
             [
              0.4444444444444444,
              "#bd3786"
             ],
             [
              0.5555555555555556,
              "#d8576b"
             ],
             [
              0.6666666666666666,
              "#ed7953"
             ],
             [
              0.7777777777777778,
              "#fb9f3a"
             ],
             [
              0.8888888888888888,
              "#fdca26"
             ],
             [
              1,
              "#f0f921"
             ]
            ],
            "type": "histogram2d"
           }
          ],
          "histogram2dcontour": [
           {
            "colorbar": {
             "outlinewidth": 0,
             "ticks": ""
            },
            "colorscale": [
             [
              0,
              "#0d0887"
             ],
             [
              0.1111111111111111,
              "#46039f"
             ],
             [
              0.2222222222222222,
              "#7201a8"
             ],
             [
              0.3333333333333333,
              "#9c179e"
             ],
             [
              0.4444444444444444,
              "#bd3786"
             ],
             [
              0.5555555555555556,
              "#d8576b"
             ],
             [
              0.6666666666666666,
              "#ed7953"
             ],
             [
              0.7777777777777778,
              "#fb9f3a"
             ],
             [
              0.8888888888888888,
              "#fdca26"
             ],
             [
              1,
              "#f0f921"
             ]
            ],
            "type": "histogram2dcontour"
           }
          ],
          "mesh3d": [
           {
            "colorbar": {
             "outlinewidth": 0,
             "ticks": ""
            },
            "type": "mesh3d"
           }
          ],
          "parcoords": [
           {
            "line": {
             "colorbar": {
              "outlinewidth": 0,
              "ticks": ""
             }
            },
            "type": "parcoords"
           }
          ],
          "pie": [
           {
            "automargin": true,
            "type": "pie"
           }
          ],
          "scatter": [
           {
            "marker": {
             "colorbar": {
              "outlinewidth": 0,
              "ticks": ""
             }
            },
            "type": "scatter"
           }
          ],
          "scatter3d": [
           {
            "line": {
             "colorbar": {
              "outlinewidth": 0,
              "ticks": ""
             }
            },
            "marker": {
             "colorbar": {
              "outlinewidth": 0,
              "ticks": ""
             }
            },
            "type": "scatter3d"
           }
          ],
          "scattercarpet": [
           {
            "marker": {
             "colorbar": {
              "outlinewidth": 0,
              "ticks": ""
             }
            },
            "type": "scattercarpet"
           }
          ],
          "scattergeo": [
           {
            "marker": {
             "colorbar": {
              "outlinewidth": 0,
              "ticks": ""
             }
            },
            "type": "scattergeo"
           }
          ],
          "scattergl": [
           {
            "marker": {
             "colorbar": {
              "outlinewidth": 0,
              "ticks": ""
             }
            },
            "type": "scattergl"
           }
          ],
          "scattermapbox": [
           {
            "marker": {
             "colorbar": {
              "outlinewidth": 0,
              "ticks": ""
             }
            },
            "type": "scattermapbox"
           }
          ],
          "scatterpolar": [
           {
            "marker": {
             "colorbar": {
              "outlinewidth": 0,
              "ticks": ""
             }
            },
            "type": "scatterpolar"
           }
          ],
          "scatterpolargl": [
           {
            "marker": {
             "colorbar": {
              "outlinewidth": 0,
              "ticks": ""
             }
            },
            "type": "scatterpolargl"
           }
          ],
          "scatterternary": [
           {
            "marker": {
             "colorbar": {
              "outlinewidth": 0,
              "ticks": ""
             }
            },
            "type": "scatterternary"
           }
          ],
          "surface": [
           {
            "colorbar": {
             "outlinewidth": 0,
             "ticks": ""
            },
            "colorscale": [
             [
              0,
              "#0d0887"
             ],
             [
              0.1111111111111111,
              "#46039f"
             ],
             [
              0.2222222222222222,
              "#7201a8"
             ],
             [
              0.3333333333333333,
              "#9c179e"
             ],
             [
              0.4444444444444444,
              "#bd3786"
             ],
             [
              0.5555555555555556,
              "#d8576b"
             ],
             [
              0.6666666666666666,
              "#ed7953"
             ],
             [
              0.7777777777777778,
              "#fb9f3a"
             ],
             [
              0.8888888888888888,
              "#fdca26"
             ],
             [
              1,
              "#f0f921"
             ]
            ],
            "type": "surface"
           }
          ],
          "table": [
           {
            "cells": {
             "fill": {
              "color": "#EBF0F8"
             },
             "line": {
              "color": "white"
             }
            },
            "header": {
             "fill": {
              "color": "#C8D4E3"
             },
             "line": {
              "color": "white"
             }
            },
            "type": "table"
           }
          ]
         },
         "layout": {
          "annotationdefaults": {
           "arrowcolor": "#2a3f5f",
           "arrowhead": 0,
           "arrowwidth": 1
          },
          "coloraxis": {
           "colorbar": {
            "outlinewidth": 0,
            "ticks": ""
           }
          },
          "colorscale": {
           "diverging": [
            [
             0,
             "#8e0152"
            ],
            [
             0.1,
             "#c51b7d"
            ],
            [
             0.2,
             "#de77ae"
            ],
            [
             0.3,
             "#f1b6da"
            ],
            [
             0.4,
             "#fde0ef"
            ],
            [
             0.5,
             "#f7f7f7"
            ],
            [
             0.6,
             "#e6f5d0"
            ],
            [
             0.7,
             "#b8e186"
            ],
            [
             0.8,
             "#7fbc41"
            ],
            [
             0.9,
             "#4d9221"
            ],
            [
             1,
             "#276419"
            ]
           ],
           "sequential": [
            [
             0,
             "#0d0887"
            ],
            [
             0.1111111111111111,
             "#46039f"
            ],
            [
             0.2222222222222222,
             "#7201a8"
            ],
            [
             0.3333333333333333,
             "#9c179e"
            ],
            [
             0.4444444444444444,
             "#bd3786"
            ],
            [
             0.5555555555555556,
             "#d8576b"
            ],
            [
             0.6666666666666666,
             "#ed7953"
            ],
            [
             0.7777777777777778,
             "#fb9f3a"
            ],
            [
             0.8888888888888888,
             "#fdca26"
            ],
            [
             1,
             "#f0f921"
            ]
           ],
           "sequentialminus": [
            [
             0,
             "#0d0887"
            ],
            [
             0.1111111111111111,
             "#46039f"
            ],
            [
             0.2222222222222222,
             "#7201a8"
            ],
            [
             0.3333333333333333,
             "#9c179e"
            ],
            [
             0.4444444444444444,
             "#bd3786"
            ],
            [
             0.5555555555555556,
             "#d8576b"
            ],
            [
             0.6666666666666666,
             "#ed7953"
            ],
            [
             0.7777777777777778,
             "#fb9f3a"
            ],
            [
             0.8888888888888888,
             "#fdca26"
            ],
            [
             1,
             "#f0f921"
            ]
           ]
          },
          "colorway": [
           "#636efa",
           "#EF553B",
           "#00cc96",
           "#ab63fa",
           "#FFA15A",
           "#19d3f3",
           "#FF6692",
           "#B6E880",
           "#FF97FF",
           "#FECB52"
          ],
          "font": {
           "color": "#2a3f5f"
          },
          "geo": {
           "bgcolor": "white",
           "lakecolor": "white",
           "landcolor": "#E5ECF6",
           "showlakes": true,
           "showland": true,
           "subunitcolor": "white"
          },
          "hoverlabel": {
           "align": "left"
          },
          "hovermode": "closest",
          "mapbox": {
           "style": "light"
          },
          "paper_bgcolor": "white",
          "plot_bgcolor": "#E5ECF6",
          "polar": {
           "angularaxis": {
            "gridcolor": "white",
            "linecolor": "white",
            "ticks": ""
           },
           "bgcolor": "#E5ECF6",
           "radialaxis": {
            "gridcolor": "white",
            "linecolor": "white",
            "ticks": ""
           }
          },
          "scene": {
           "xaxis": {
            "backgroundcolor": "#E5ECF6",
            "gridcolor": "white",
            "gridwidth": 2,
            "linecolor": "white",
            "showbackground": true,
            "ticks": "",
            "zerolinecolor": "white"
           },
           "yaxis": {
            "backgroundcolor": "#E5ECF6",
            "gridcolor": "white",
            "gridwidth": 2,
            "linecolor": "white",
            "showbackground": true,
            "ticks": "",
            "zerolinecolor": "white"
           },
           "zaxis": {
            "backgroundcolor": "#E5ECF6",
            "gridcolor": "white",
            "gridwidth": 2,
            "linecolor": "white",
            "showbackground": true,
            "ticks": "",
            "zerolinecolor": "white"
           }
          },
          "shapedefaults": {
           "line": {
            "color": "#2a3f5f"
           }
          },
          "ternary": {
           "aaxis": {
            "gridcolor": "white",
            "linecolor": "white",
            "ticks": ""
           },
           "baxis": {
            "gridcolor": "white",
            "linecolor": "white",
            "ticks": ""
           },
           "bgcolor": "#E5ECF6",
           "caxis": {
            "gridcolor": "white",
            "linecolor": "white",
            "ticks": ""
           }
          },
          "title": {
           "x": 0.05
          },
          "xaxis": {
           "automargin": true,
           "gridcolor": "white",
           "linecolor": "white",
           "ticks": "",
           "title": {
            "standoff": 15
           },
           "zerolinecolor": "white",
           "zerolinewidth": 2
          },
          "yaxis": {
           "automargin": true,
           "gridcolor": "white",
           "linecolor": "white",
           "ticks": "",
           "title": {
            "standoff": 15
           },
           "zerolinecolor": "white",
           "zerolinewidth": 2
          }
         }
        },
        "title": {
         "text": "Auroral E region, dawn sector<br>Alt.Prof. of Joule Heating (10^-8 W/m3)"
        },
        "width": 1100,
        "xaxis": {
         "anchor": "y",
         "domain": [
          0,
          0.94
         ],
         "matches": "x2",
         "range": [
          0,
          15
         ],
         "showticklabels": false
        },
        "xaxis2": {
         "anchor": "y3",
         "domain": [
          0,
          0.94
         ],
         "range": [
          0,
          15
         ]
        },
        "yaxis": {
         "anchor": "x",
         "domain": [
          0.5175,
          1
         ],
         "dtick": 10,
         "range": [
          80,
          160
         ],
         "side": "left",
         "title": {
          "text": "Altitude (km)"
         }
        },
        "yaxis2": {
         "anchor": "x",
         "dtick": 10,
         "overlaying": "y",
         "range": [
          80,
          160
         ],
         "showticklabels": false,
         "side": "right",
         "title": {
          "text": "Kp 0 - 3"
         }
        },
        "yaxis3": {
         "anchor": "x2",
         "domain": [
          0,
          0.4825
         ],
         "dtick": 10,
         "range": [
          80,
          160
         ],
         "side": "left",
         "title": {
          "text": "Altitude (km)"
         }
        },
        "yaxis4": {
         "anchor": "x2",
         "dtick": 10,
         "overlaying": "y3",
         "range": [
          80,
          160
         ],
         "showticklabels": false,
         "side": "right",
         "title": {
          "text": "Kp 3 - 9"
         }
        }
       }
      },
      "text/html": [
       "<div>\n",
       "        \n",
       "        \n",
       "            <div id=\"6fa3eadd-18fa-4f4b-8744-add9c4cbcab1\" class=\"plotly-graph-div\" style=\"height:1000px; width:1100px;\"></div>\n",
       "            <script type=\"text/javascript\">\n",
       "                require([\"plotly\"], function(Plotly) {\n",
       "                    window.PLOTLYENV=window.PLOTLYENV || {};\n",
       "                    \n",
       "                if (document.getElementById(\"6fa3eadd-18fa-4f4b-8744-add9c4cbcab1\")) {\n",
       "                    Plotly.newPlot(\n",
       "                        '6fa3eadd-18fa-4f4b-8744-add9c4cbcab1',\n",
       "                        [{\"fill\": \"tonexty\", \"fillcolor\": \"#c4dfe6\", \"line\": {\"color\": \"gray\", \"width\": 1}, \"mode\": \"lines\", \"showlegend\": false, \"type\": \"scatter\", \"x\": [0, 0, 0, 0, 0, 0, 0, 0], \"xaxis\": \"x\", \"y\": [120, 125, 130, 135, 140, 145, 150, 160], \"yaxis\": \"y\"}, {\"fill\": \"tonexty\", \"fillcolor\": \"#c4dfe6\", \"line\": {\"color\": \"gray\", \"width\": 1}, \"mode\": \"lines\", \"showlegend\": false, \"type\": \"scatter\", \"x\": [0.01720631692680996, 0.016452385565024485, 0.015575080808405417, 0.01331534243975696, 0.009972380837774962, 0.009830938771382414, 0.00707694625123878, 0.0051467893141809995], \"xaxis\": \"x\", \"y\": [120, 125, 130, 135, 140, 145, 150, 160], \"yaxis\": \"y\"}, {\"fill\": \"tonexty\", \"fillcolor\": \"#a1d6e2\", \"line\": {\"color\": \"gray\", \"width\": 1}, \"mode\": \"lines\", \"showlegend\": false, \"type\": \"scatter\", \"x\": [0.05037902317539533, 0.04677697673649561, 0.049596346474167774, 0.041392735766754285, 0.029337787060823572, 0.02996350806361292, 0.020519959342824023, 0.015757962296136796], \"xaxis\": \"x\", \"y\": [120, 125, 130, 135, 140, 145, 150, 160], \"yaxis\": \"y\"}, {\"fill\": \"tonexty\", \"fillcolor\": \"#1995ad\", \"line\": {\"color\": \"black\", \"width\": 2}, \"mode\": \"lines\", \"showlegend\": false, \"type\": \"scatter\", \"x\": [0.2096374851490168, 0.22581820857681123, 0.15276805931385695, 0.14294707639805893, 0.08145197294417983, 0.07258161849321709, 0.06203475511057377, 0.04673161857482455], \"xaxis\": \"x\", \"y\": [120, 125, 130, 135, 140, 145, 150, 160], \"yaxis\": \"y\"}, {\"fill\": \"tonexty\", \"fillcolor\": \"#a1d6e2\", \"line\": {\"color\": \"gray\", \"width\": 1}, \"mode\": \"lines\", \"showlegend\": false, \"type\": \"scatter\", \"x\": [0.7490338127524865, 0.6086815496075815, 0.46080254056946046, 0.35486663052530787, 0.3093306777390836, 0.18256560985197012, 0.16509524858321356, 0.12114625969061876], \"xaxis\": \"x\", \"y\": [120, 125, 130, 135, 140, 145, 150, 160], \"yaxis\": \"y\"}, {\"fill\": \"tonexty\", \"fillcolor\": \"#c4dfe6\", \"line\": {\"color\": \"gray\", \"width\": 1}, \"mode\": \"lines\", \"showlegend\": false, \"type\": \"scatter\", \"x\": [2.4782664809208654, 1.85103473882009, 1.2876896793301282, 1.0745605472095576, 1.3146232014094037, 0.33558547496426167, 0.3273901327816021, 0.26584346279889803], \"xaxis\": \"x\", \"y\": [120, 125, 130, 135, 140, 145, 150, 160], \"yaxis\": \"y\"}, {\"showlegend\": false, \"type\": \"scatter\", \"x\": [-1000], \"xaxis\": \"x\", \"y\": [-1000], \"yaxis\": \"y2\"}, {\"fill\": \"tonexty\", \"fillcolor\": \"#c4dfe6\", \"line\": {\"color\": \"gray\", \"width\": 1}, \"mode\": \"lines\", \"showlegend\": false, \"type\": \"scatter\", \"x\": [0, 0, 0, 0, 0, 0, 0, 0], \"xaxis\": \"x2\", \"y\": [120, 125, 130, 135, 140, 145, 150, 160], \"yaxis\": \"y3\"}, {\"fill\": \"tonexty\", \"fillcolor\": \"#c4dfe6\", \"line\": {\"color\": \"gray\", \"width\": 1}, \"mode\": \"lines\", \"showlegend\": false, \"type\": \"scatter\", \"x\": [0.021358196045095923, 0.015723483348661915, 0.02904191276353885, 0.023611856636573947, 0.015797939484363258, 0.010292948715573404, 0.007011254424260649, 0.005036535077884707], \"xaxis\": \"x2\", \"y\": [120, 125, 130, 135, 140, 145, 150, 160], \"yaxis\": \"y3\"}, {\"fill\": \"tonexty\", \"fillcolor\": \"#a1d6e2\", \"line\": {\"color\": \"gray\", \"width\": 1}, \"mode\": \"lines\", \"showlegend\": false, \"type\": \"scatter\", \"x\": [0.06379658884503314, 0.04114565632651335, 0.04864652430880412, 0.04337821490896232, 0.0352434734174345, 0.027615601472241735, 0.021181136705683556, 0.015203319159162731], \"xaxis\": \"x2\", \"y\": [120, 125, 130, 135, 140, 145, 150, 160], \"yaxis\": \"y3\"}, {\"fill\": \"tonexty\", \"fillcolor\": \"#1995ad\", \"line\": {\"color\": \"black\", \"width\": 2}, \"mode\": \"lines\", \"showlegend\": false, \"type\": \"scatter\", \"x\": [0.17708279287376172, 0.12402336935224412, 0.1352087553030401, 0.09226228669945158, 0.1212609124223718, 0.09071041695563054, 0.07008266189600931, 0.05514318446309119], \"xaxis\": \"x2\", \"y\": [120, 125, 130, 135, 140, 145, 150, 160], \"yaxis\": \"y3\"}, {\"fill\": \"tonexty\", \"fillcolor\": \"#a1d6e2\", \"line\": {\"color\": \"gray\", \"width\": 1}, \"mode\": \"lines\", \"showlegend\": false, \"type\": \"scatter\", \"x\": [0.9253682264898089, 0.8637633275299095, 0.642903996705968, 0.3233986078932105, 0.5693754023816666, 0.19106383142286631, 0.1778741626212721, 0.1619615108694461], \"xaxis\": \"x2\", \"y\": [120, 125, 130, 135, 140, 145, 150, 160], \"yaxis\": \"y3\"}, {\"fill\": \"tonexty\", \"fillcolor\": \"#c4dfe6\", \"line\": {\"color\": \"gray\", \"width\": 1}, \"mode\": \"lines\", \"showlegend\": false, \"type\": \"scatter\", \"x\": [2.068235787078266, 1.4764680145162865, 1.1590981596754093, 0.7123520351370871, 3.32130239755203, 0.45193972120216597, 0.28945624785947643, 0.31110172216131105], \"xaxis\": \"x2\", \"y\": [120, 125, 130, 135, 140, 145, 150, 160], \"yaxis\": \"y3\"}, {\"showlegend\": false, \"type\": \"scatter\", \"x\": [-1000], \"xaxis\": \"x2\", \"y\": [-1000], \"yaxis\": \"y4\"}, {\"fill\": \"tonexty\", \"fillcolor\": \"#c4dfe6\", \"line\": {\"color\": \"gray\", \"width\": 1}, \"mode\": \"lines\", \"name\": \"10th Perc.\", \"showlegend\": true, \"type\": \"scatter\", \"x\": [0.021358196045095923, 0.015723483348661915, 0.02904191276353885, 0.023611856636573947, 0.015797939484363258, 0.010292948715573404, 0.007011254424260649, 0.005036535077884707], \"xaxis\": \"x2\", \"y\": [120, 125, 130, 135, 140, 145, 150, 160], \"yaxis\": \"y3\"}, {\"fill\": \"tonexty\", \"fillcolor\": \"#a1d6e2\", \"line\": {\"color\": \"gray\", \"width\": 1}, \"mode\": \"lines\", \"name\": \"25th Perc.\", \"showlegend\": true, \"type\": \"scatter\", \"x\": [0.06379658884503314, 0.04114565632651335, 0.04864652430880412, 0.04337821490896232, 0.0352434734174345, 0.027615601472241735, 0.021181136705683556, 0.015203319159162731], \"xaxis\": \"x2\", \"y\": [120, 125, 130, 135, 140, 145, 150, 160], \"yaxis\": \"y3\"}, {\"fill\": \"tonexty\", \"fillcolor\": \"#1995ad\", \"line\": {\"color\": \"black\", \"width\": 2}, \"mode\": \"lines\", \"name\": \"50th Perc.\", \"showlegend\": true, \"type\": \"scatter\", \"x\": [0.17708279287376172, 0.12402336935224412, 0.1352087553030401, 0.09226228669945158, 0.1212609124223718, 0.09071041695563054, 0.07008266189600931, 0.05514318446309119], \"xaxis\": \"x2\", \"y\": [120, 125, 130, 135, 140, 145, 150, 160], \"yaxis\": \"y3\"}, {\"fill\": \"tonexty\", \"fillcolor\": \"#a1d6e2\", \"line\": {\"color\": \"gray\", \"width\": 1}, \"mode\": \"lines\", \"name\": \"75th Perc.\", \"showlegend\": true, \"type\": \"scatter\", \"x\": [0.9253682264898089, 0.8637633275299095, 0.642903996705968, 0.3233986078932105, 0.5693754023816666, 0.19106383142286631, 0.1778741626212721, 0.1619615108694461], \"xaxis\": \"x2\", \"y\": [120, 125, 130, 135, 140, 145, 150, 160], \"yaxis\": \"y3\"}, {\"fill\": \"tonexty\", \"fillcolor\": \"#c4dfe6\", \"line\": {\"color\": \"gray\", \"width\": 1}, \"mode\": \"lines\", \"name\": \"90th Perc.\", \"showlegend\": true, \"type\": \"scatter\", \"x\": [2.068235787078266, 1.4764680145162865, 1.1590981596754093, 0.7123520351370871, 3.32130239755203, 0.45193972120216597, 0.28945624785947643, 0.31110172216131105], \"xaxis\": \"x2\", \"y\": [120, 125, 130, 135, 140, 145, 150, 160], \"yaxis\": \"y3\"}],\n",
       "                        {\"annotations\": [{\"font\": {\"size\": 16}, \"showarrow\": false, \"text\": \"MLT 3-9\", \"x\": 0.47, \"xanchor\": \"center\", \"xref\": \"paper\", \"y\": 1.0, \"yanchor\": \"bottom\", \"yref\": \"paper\"}], \"height\": 1000, \"legend\": {\"orientation\": \"h\", \"y\": -0.04}, \"showlegend\": true, \"template\": {\"data\": {\"bar\": [{\"error_x\": {\"color\": \"#2a3f5f\"}, \"error_y\": {\"color\": \"#2a3f5f\"}, \"marker\": {\"line\": {\"color\": \"#E5ECF6\", \"width\": 0.5}}, \"type\": \"bar\"}], \"barpolar\": [{\"marker\": {\"line\": {\"color\": \"#E5ECF6\", \"width\": 0.5}}, \"type\": \"barpolar\"}], \"carpet\": [{\"aaxis\": {\"endlinecolor\": \"#2a3f5f\", \"gridcolor\": \"white\", \"linecolor\": \"white\", \"minorgridcolor\": \"white\", \"startlinecolor\": \"#2a3f5f\"}, \"baxis\": {\"endlinecolor\": \"#2a3f5f\", \"gridcolor\": \"white\", \"linecolor\": \"white\", \"minorgridcolor\": \"white\", \"startlinecolor\": \"#2a3f5f\"}, \"type\": \"carpet\"}], \"choropleth\": [{\"colorbar\": {\"outlinewidth\": 0, \"ticks\": \"\"}, \"type\": \"choropleth\"}], \"contour\": [{\"colorbar\": {\"outlinewidth\": 0, \"ticks\": \"\"}, \"colorscale\": [[0.0, \"#0d0887\"], [0.1111111111111111, \"#46039f\"], [0.2222222222222222, \"#7201a8\"], [0.3333333333333333, \"#9c179e\"], [0.4444444444444444, \"#bd3786\"], [0.5555555555555556, \"#d8576b\"], [0.6666666666666666, \"#ed7953\"], [0.7777777777777778, \"#fb9f3a\"], [0.8888888888888888, \"#fdca26\"], [1.0, \"#f0f921\"]], \"type\": \"contour\"}], \"contourcarpet\": [{\"colorbar\": {\"outlinewidth\": 0, \"ticks\": \"\"}, \"type\": \"contourcarpet\"}], \"heatmap\": [{\"colorbar\": {\"outlinewidth\": 0, \"ticks\": \"\"}, \"colorscale\": [[0.0, \"#0d0887\"], [0.1111111111111111, \"#46039f\"], [0.2222222222222222, \"#7201a8\"], [0.3333333333333333, \"#9c179e\"], [0.4444444444444444, \"#bd3786\"], [0.5555555555555556, \"#d8576b\"], [0.6666666666666666, \"#ed7953\"], [0.7777777777777778, \"#fb9f3a\"], [0.8888888888888888, \"#fdca26\"], [1.0, \"#f0f921\"]], \"type\": \"heatmap\"}], \"heatmapgl\": [{\"colorbar\": {\"outlinewidth\": 0, \"ticks\": \"\"}, \"colorscale\": [[0.0, \"#0d0887\"], [0.1111111111111111, \"#46039f\"], [0.2222222222222222, \"#7201a8\"], [0.3333333333333333, \"#9c179e\"], [0.4444444444444444, \"#bd3786\"], [0.5555555555555556, \"#d8576b\"], [0.6666666666666666, \"#ed7953\"], [0.7777777777777778, \"#fb9f3a\"], [0.8888888888888888, \"#fdca26\"], [1.0, \"#f0f921\"]], \"type\": \"heatmapgl\"}], \"histogram\": [{\"marker\": {\"colorbar\": {\"outlinewidth\": 0, \"ticks\": \"\"}}, \"type\": \"histogram\"}], \"histogram2d\": [{\"colorbar\": {\"outlinewidth\": 0, \"ticks\": \"\"}, \"colorscale\": [[0.0, \"#0d0887\"], [0.1111111111111111, \"#46039f\"], [0.2222222222222222, \"#7201a8\"], [0.3333333333333333, \"#9c179e\"], [0.4444444444444444, \"#bd3786\"], [0.5555555555555556, \"#d8576b\"], [0.6666666666666666, \"#ed7953\"], [0.7777777777777778, \"#fb9f3a\"], [0.8888888888888888, \"#fdca26\"], [1.0, \"#f0f921\"]], \"type\": \"histogram2d\"}], \"histogram2dcontour\": [{\"colorbar\": {\"outlinewidth\": 0, \"ticks\": \"\"}, \"colorscale\": [[0.0, \"#0d0887\"], [0.1111111111111111, \"#46039f\"], [0.2222222222222222, \"#7201a8\"], [0.3333333333333333, \"#9c179e\"], [0.4444444444444444, \"#bd3786\"], [0.5555555555555556, \"#d8576b\"], [0.6666666666666666, \"#ed7953\"], [0.7777777777777778, \"#fb9f3a\"], [0.8888888888888888, \"#fdca26\"], [1.0, \"#f0f921\"]], \"type\": \"histogram2dcontour\"}], \"mesh3d\": [{\"colorbar\": {\"outlinewidth\": 0, \"ticks\": \"\"}, \"type\": \"mesh3d\"}], \"parcoords\": [{\"line\": {\"colorbar\": {\"outlinewidth\": 0, \"ticks\": \"\"}}, \"type\": \"parcoords\"}], \"pie\": [{\"automargin\": true, \"type\": \"pie\"}], \"scatter\": [{\"marker\": {\"colorbar\": {\"outlinewidth\": 0, \"ticks\": \"\"}}, \"type\": \"scatter\"}], \"scatter3d\": [{\"line\": {\"colorbar\": {\"outlinewidth\": 0, \"ticks\": \"\"}}, \"marker\": {\"colorbar\": {\"outlinewidth\": 0, \"ticks\": \"\"}}, \"type\": \"scatter3d\"}], \"scattercarpet\": [{\"marker\": {\"colorbar\": {\"outlinewidth\": 0, \"ticks\": \"\"}}, \"type\": \"scattercarpet\"}], \"scattergeo\": [{\"marker\": {\"colorbar\": {\"outlinewidth\": 0, \"ticks\": \"\"}}, \"type\": \"scattergeo\"}], \"scattergl\": [{\"marker\": {\"colorbar\": {\"outlinewidth\": 0, \"ticks\": \"\"}}, \"type\": \"scattergl\"}], \"scattermapbox\": [{\"marker\": {\"colorbar\": {\"outlinewidth\": 0, \"ticks\": \"\"}}, \"type\": \"scattermapbox\"}], \"scatterpolar\": [{\"marker\": {\"colorbar\": {\"outlinewidth\": 0, \"ticks\": \"\"}}, \"type\": \"scatterpolar\"}], \"scatterpolargl\": [{\"marker\": {\"colorbar\": {\"outlinewidth\": 0, \"ticks\": \"\"}}, \"type\": \"scatterpolargl\"}], \"scatterternary\": [{\"marker\": {\"colorbar\": {\"outlinewidth\": 0, \"ticks\": \"\"}}, \"type\": \"scatterternary\"}], \"surface\": [{\"colorbar\": {\"outlinewidth\": 0, \"ticks\": \"\"}, \"colorscale\": [[0.0, \"#0d0887\"], [0.1111111111111111, \"#46039f\"], [0.2222222222222222, \"#7201a8\"], [0.3333333333333333, \"#9c179e\"], [0.4444444444444444, \"#bd3786\"], [0.5555555555555556, \"#d8576b\"], [0.6666666666666666, \"#ed7953\"], [0.7777777777777778, \"#fb9f3a\"], [0.8888888888888888, \"#fdca26\"], [1.0, \"#f0f921\"]], \"type\": \"surface\"}], \"table\": [{\"cells\": {\"fill\": {\"color\": \"#EBF0F8\"}, \"line\": {\"color\": \"white\"}}, \"header\": {\"fill\": {\"color\": \"#C8D4E3\"}, \"line\": {\"color\": \"white\"}}, \"type\": \"table\"}]}, \"layout\": {\"annotationdefaults\": {\"arrowcolor\": \"#2a3f5f\", \"arrowhead\": 0, \"arrowwidth\": 1}, \"coloraxis\": {\"colorbar\": {\"outlinewidth\": 0, \"ticks\": \"\"}}, \"colorscale\": {\"diverging\": [[0, \"#8e0152\"], [0.1, \"#c51b7d\"], [0.2, \"#de77ae\"], [0.3, \"#f1b6da\"], [0.4, \"#fde0ef\"], [0.5, \"#f7f7f7\"], [0.6, \"#e6f5d0\"], [0.7, \"#b8e186\"], [0.8, \"#7fbc41\"], [0.9, \"#4d9221\"], [1, \"#276419\"]], \"sequential\": [[0.0, \"#0d0887\"], [0.1111111111111111, \"#46039f\"], [0.2222222222222222, \"#7201a8\"], [0.3333333333333333, \"#9c179e\"], [0.4444444444444444, \"#bd3786\"], [0.5555555555555556, \"#d8576b\"], [0.6666666666666666, \"#ed7953\"], [0.7777777777777778, \"#fb9f3a\"], [0.8888888888888888, \"#fdca26\"], [1.0, \"#f0f921\"]], \"sequentialminus\": [[0.0, \"#0d0887\"], [0.1111111111111111, \"#46039f\"], [0.2222222222222222, \"#7201a8\"], [0.3333333333333333, \"#9c179e\"], [0.4444444444444444, \"#bd3786\"], [0.5555555555555556, \"#d8576b\"], [0.6666666666666666, \"#ed7953\"], [0.7777777777777778, \"#fb9f3a\"], [0.8888888888888888, \"#fdca26\"], [1.0, \"#f0f921\"]]}, \"colorway\": [\"#636efa\", \"#EF553B\", \"#00cc96\", \"#ab63fa\", \"#FFA15A\", \"#19d3f3\", \"#FF6692\", \"#B6E880\", \"#FF97FF\", \"#FECB52\"], \"font\": {\"color\": \"#2a3f5f\"}, \"geo\": {\"bgcolor\": \"white\", \"lakecolor\": \"white\", \"landcolor\": \"#E5ECF6\", \"showlakes\": true, \"showland\": true, \"subunitcolor\": \"white\"}, \"hoverlabel\": {\"align\": \"left\"}, \"hovermode\": \"closest\", \"mapbox\": {\"style\": \"light\"}, \"paper_bgcolor\": \"white\", \"plot_bgcolor\": \"#E5ECF6\", \"polar\": {\"angularaxis\": {\"gridcolor\": \"white\", \"linecolor\": \"white\", \"ticks\": \"\"}, \"bgcolor\": \"#E5ECF6\", \"radialaxis\": {\"gridcolor\": \"white\", \"linecolor\": \"white\", \"ticks\": \"\"}}, \"scene\": {\"xaxis\": {\"backgroundcolor\": \"#E5ECF6\", \"gridcolor\": \"white\", \"gridwidth\": 2, \"linecolor\": \"white\", \"showbackground\": true, \"ticks\": \"\", \"zerolinecolor\": \"white\"}, \"yaxis\": {\"backgroundcolor\": \"#E5ECF6\", \"gridcolor\": \"white\", \"gridwidth\": 2, \"linecolor\": \"white\", \"showbackground\": true, \"ticks\": \"\", \"zerolinecolor\": \"white\"}, \"zaxis\": {\"backgroundcolor\": \"#E5ECF6\", \"gridcolor\": \"white\", \"gridwidth\": 2, \"linecolor\": \"white\", \"showbackground\": true, \"ticks\": \"\", \"zerolinecolor\": \"white\"}}, \"shapedefaults\": {\"line\": {\"color\": \"#2a3f5f\"}}, \"ternary\": {\"aaxis\": {\"gridcolor\": \"white\", \"linecolor\": \"white\", \"ticks\": \"\"}, \"baxis\": {\"gridcolor\": \"white\", \"linecolor\": \"white\", \"ticks\": \"\"}, \"bgcolor\": \"#E5ECF6\", \"caxis\": {\"gridcolor\": \"white\", \"linecolor\": \"white\", \"ticks\": \"\"}}, \"title\": {\"x\": 0.05}, \"xaxis\": {\"automargin\": true, \"gridcolor\": \"white\", \"linecolor\": \"white\", \"ticks\": \"\", \"title\": {\"standoff\": 15}, \"zerolinecolor\": \"white\", \"zerolinewidth\": 2}, \"yaxis\": {\"automargin\": true, \"gridcolor\": \"white\", \"linecolor\": \"white\", \"ticks\": \"\", \"title\": {\"standoff\": 15}, \"zerolinecolor\": \"white\", \"zerolinewidth\": 2}}}, \"title\": {\"text\": \"Auroral E region, dawn sector<br>Alt.Prof. of Joule Heating (10^-8 W/m3)\"}, \"width\": 1100, \"xaxis\": {\"anchor\": \"y\", \"domain\": [0.0, 0.94], \"matches\": \"x2\", \"range\": [0.0, 15.0], \"showticklabels\": false}, \"xaxis2\": {\"anchor\": \"y3\", \"domain\": [0.0, 0.94], \"range\": [0.0, 15.0]}, \"yaxis\": {\"anchor\": \"x\", \"domain\": [0.5175, 1.0], \"dtick\": 10, \"range\": [80, 160], \"side\": \"left\", \"title\": {\"text\": \"Altitude (km)\"}}, \"yaxis2\": {\"anchor\": \"x\", \"dtick\": 10, \"overlaying\": \"y\", \"range\": [80, 160], \"showticklabels\": false, \"side\": \"right\", \"title\": {\"text\": \"Kp 0 - 3\"}}, \"yaxis3\": {\"anchor\": \"x2\", \"domain\": [0.0, 0.4825], \"dtick\": 10, \"range\": [80, 160], \"side\": \"left\", \"title\": {\"text\": \"Altitude (km)\"}}, \"yaxis4\": {\"anchor\": \"x2\", \"dtick\": 10, \"overlaying\": \"y3\", \"range\": [80, 160], \"showticklabels\": false, \"side\": \"right\", \"title\": {\"text\": \"Kp 3 - 9\"}}},\n",
       "                        {\"responsive\": true}\n",
       "                    ).then(function(){\n",
       "                            \n",
       "var gd = document.getElementById('6fa3eadd-18fa-4f4b-8744-add9c4cbcab1');\n",
       "var x = new MutationObserver(function (mutations, observer) {{\n",
       "        var display = window.getComputedStyle(gd).display;\n",
       "        if (!display || display === 'none') {{\n",
       "            console.log([gd, 'removed!']);\n",
       "            Plotly.purge(gd);\n",
       "            observer.disconnect();\n",
       "        }}\n",
       "}});\n",
       "\n",
       "// Listen for the removal of the full notebook cells\n",
       "var notebookContainer = gd.closest('#notebook-container');\n",
       "if (notebookContainer) {{\n",
       "    x.observe(notebookContainer, {childList: true});\n",
       "}}\n",
       "\n",
       "// Listen for the clearing of the current output cell\n",
       "var outputEl = gd.closest('.output');\n",
       "if (outputEl) {{\n",
       "    x.observe(outputEl, {childList: true});\n",
       "}}\n",
       "\n",
       "                        })\n",
       "                };\n",
       "                });\n",
       "            </script>\n",
       "        </div>"
      ]
     },
     "metadata": {},
     "output_type": "display_data"
    }
   ],
   "source": [
    "import sys\n",
    "sys.path.insert(1, '../../SourceCode/')\n",
    "import DaedalusGlobals as DaedalusGlobals\n",
    "import Conversions as Conversions\n",
    "from scicolorscales import *\n",
    "\n",
    "import os\n",
    "from os import path\n",
    "import statistics\n",
    "import random \n",
    "import copy\n",
    "from scipy.optimize import curve_fit\n",
    "from scipy.stats import ranksums\n",
    "from scipy.stats import mannwhitneyu\n",
    "\n",
    "import csv\n",
    "import glob\n",
    "import math\n",
    "import time\n",
    "from datetime import datetime\n",
    "from datetime import timezone\n",
    "from dateutil.relativedelta import relativedelta\n",
    "import calendar\n",
    "import numpy as np \n",
    "import pandas as pd\n",
    "import ipywidgets as w\n",
    "import netCDF4\n",
    "from netCDF4 import Dataset \n",
    "from numba import cuda\n",
    "import threading\n",
    "\n",
    "import plotly\n",
    "import chart_studio.plotly as py \n",
    "import plotly.graph_objects as go\n",
    "import plotly.figure_factory as ff\n",
    "from plotly.subplots import make_subplots\n",
    "import seaborn as sns\n",
    "import matplotlib.cm\n",
    "import matplotlib.pyplot as matplt\n",
    "\n",
    "\n",
    "# colors used at plotting\n",
    "MyColors = [\"#217ca3\", \"#e29930\", \"#919636\", \"#af1c1c\", \"#e7552c\", \"#1b4b5a\", \"#e4535e\", \"#aebd38\", \"#ffbb00\", \"#2c7873\"]\n",
    "def Hex_to_RGB(  HexColor ): # \"#e29930\" -->\n",
    "    RGB = tuple(int(HexColor.lstrip('#')[i:i+2], 16) for i in (0, 2, 4))\n",
    "    return str(RGB).strip('(').strip(')').strip()\n",
    "\n",
    "# GUI elements with global scope\n",
    "style1 = {'description_width':'170px'}\n",
    "layout1 = {'width':'780px'}\n",
    "style2 = {'description_width':'95px'}\n",
    "layout2 = {'width':'160px'}\n",
    "OrbitPreviewImage = w.Image( format='png', visible=False )\n",
    "OrbitPreviewImage.layout.visibility = 'hidden'\n",
    "ExecutionTitle_Text = w.Text(value=\"\", description='Execution title:', style=style1, layout=layout1)\n",
    "ExecutionDescr_Text = w.Text(value=\"\", description='Execution description:', style=style1, layout=layout1)\n",
    "Warning_HTML = w.HTML( value =\"\", color=\"Red\", visible=False )\n",
    "tiegcmFolder_Dropdown    = w.Dropdown( options=[\"/home/NAS/TIEGCM_DATA_2/TIEGCM_Lifetime_2015_to_2018_JH_QD/\"], description='TIEGCM files: ', style=style1, layout=layout1)\n",
    "BinGroups_Dropdown       = w.Dropdown( options=[\"AEM\", \"AFM\", \"AEE\", \"AED\", \"EEJ\", \"EPB\", \"SQ\", \"CF\", \"PCF\"], description='Area of study: ', style=style1, layout=layout1)\n",
    "#OrbitFilename_Dropdown  = w.Dropdown( options=sorted(glob.glob(DaedalusGlobals.Orbit_Files_Path + \"DAED_ORB_Lifetime*.csv\")), description='Along orbit filename: ', style=style1, layout=layout1)\n",
    "OrbitFilesPath_Dropdown  = w.Dropdown( options=list(), description='Orbit Files Path: ', style=style1, layout=layout1)\n",
    "SavedFilenames_Dropdown  = w.Dropdown( options=list(),  description='', style=style1, layout=layout1)\n",
    "SavedFilenames2_Dropdown = w.Dropdown( options=sorted(glob.glob(DaedalusGlobals.CoverageResults_Files_Path + \"*.ValuesPerBinResults.nc\")),  description='', style=style1, layout=layout1)\n",
    "Variable_DropDown         = w.Dropdown( options=[\"Joule Heating\", \"Electric Field North\", \"Electric Field East\", \"Pedersen Conductivity\", \"Hall Conductivity\", \"Convection Heating\", \"Wind Correction\", \"JH/mass\", \"JH/pressure\" ],  description='Variable', style=style1, layout=layout1)\n",
    "Plot_JHvsMagLat_Checkbox       = w.Checkbox(value=True, description=\"Plot variable vs Magnetic Latitude\", style=style1, layout=layout1 )\n",
    "Plot_JHvsMLT_Checkbox          = w.Checkbox(value=True, description=\"Plot variable vs Magnetic Local Time\", style=style1, layout=layout1 )\n",
    "Plot_JHvsAltitude_Checkbox     = w.Checkbox(value=True, description=\"Plot variable vs Altitude\", style=style1, layout=layout1 )\n",
    "Plot_AltitudeVsMagLat_Checkbox = w.Checkbox(value=True, description=\"Plot Altitude vs Magnetic Latitude\", style=style1, layout=layout1 )\n",
    "Plot_JHdistribution_Checkbox   = w.Checkbox(value=True, description=\"Plot distribution per bin\", style=style1, layout=layout1 )\n",
    "Plot_AltProfilesCanonical_Checkbox = w.Checkbox(value=True, description=\"Plot Altitude profiles (canonical binning)\", style=style1, layout=layout1 )\n",
    "Plot_AltProfilesNatural_Checkbox   = w.Checkbox(value=True, description=\"Plot Altitude profiles (natural binning)\", style=style1, layout=layout1 )\n",
    "Plot_HeightIntegrated_Checkbox = w.Checkbox(value=True, description=\"Plot height-integated distribution (result filename just denotes the region)\", style=style1, layout=layout1 )\n",
    "Plot_ColorSpreads_Checkbox     = w.Checkbox(value=True, description=\"Plot color-spread plots\", style=style1, layout=layout1 )\n",
    "Plot_PDFperSubBin_Checkbox     = w.Checkbox(value=True, description=\"Plot Probability Density per sub-bin\", style=style1, layout=layout1 )\n",
    "Test_statistical_Checkbox   = w.Checkbox(value=True, description=\"Execute statistical test for the 2 data sets, tiegcm & orbit\", style=style1, layout=layout1 )\n",
    "RegressionOptions_Dropdown  = w.Dropdown( options=[\"None\", \"Polynomial - degree 1\", \"Polynomial - degree 2\", \"Polynomial - degree 3\", \"Polynomial - degree 4\", \"Polynomial - degree 5\", \"Polynomial - degree 6\", \"Power law\", \"Logarithmic\", \"Euler\", \"Maxwell\"], value=\"Euler\", description='Regression Analysis', style=style1, layout=layout1)\n",
    "\n",
    "# set options for the saved result files\n",
    "L = glob.glob(DaedalusGlobals.CoverageResults_Files_Path + \"*.ValuesPerBinResults.nc\")\n",
    "L += glob.glob(DaedalusGlobals.CoverageResults_Files_Path + \"*MultiFileResults/\")\n",
    "L += [\"/home/balukid/old_onlyOhmic.TRO.TIEGCM_Lifetime_2015_to_2018_JH_QD.MultiFileResults/\"]\n",
    "L = sorted(L)\n",
    "SavedFilenames_Dropdown.options = L\n",
    "SavedFilenamesDuplicate_Dropdown = w.Dropdown( options=L,  description='Orbit results', style=style1, layout=layout1)\n",
    "\n",
    "# set options for orbit locations\n",
    "L = list()\n",
    "L.append( \"/home/NAS/Data_Files/InterpolatedData/TIEGCM_Lifetime_2015_to_2018_CAMP03/1HzIntepolatedDATA/\" )\n",
    "L.append( \"/home/NAS/Data_Files/InterpolatedData/TIEGCM_Lifetime_2015_to_2018_CAMP02_115km/\" )\n",
    "L.append( \"/home/NAS/Data_Files/InterpolatedData/Lifetime_10sTricubic/\" )\n",
    "L.append( \"/home/NAS/Data_Files/InterpolatedData/Lifetime_10sTricubic_2sats/\" )\n",
    "L.append( \"/home/NAS/Data_Files/InterpolatedData/Lifetime_10sTrilinear/\" )\n",
    "L.append( \"/home/NAS/Data_Files/InterpolatedData/Lifetime_10sTrilinear_2sats/\" )\n",
    "L.append( \"/home/NAS/Data_Files/InterpolatedData/Lifetime_10sTrilinear_2ndSatOnly/\" )\n",
    "OrbitFilesPath_Dropdown.options = L\n",
    "\n",
    "\n",
    "# Properties of the current calculation\n",
    "CALCULATIONS_Title = \"\"\n",
    "CALCULATIONS_Description =\"\"\n",
    "CALCULATIONS_RegionName = \"\"\n",
    "CALCULATIONS_OrbitFilesPath = \"\"\n",
    "CALCULATIONS_ResultsFilename = \"\"\n",
    "CALCULATIONS_TIEGCMfolder = \"\"\n",
    "CALCULATIONS_ExecutionDuration = 0\n",
    "SELECTED_VARIABLE           = \"\"\n",
    "SELECTED_VARIABLE_longname  = \"\"\n",
    "SELECTED_VARIABLE_shortname = \"\"\n",
    "SELECTED_VARIABLE_units     = \"\"\n",
    "# The following lists store data about each hit\n",
    "all_JH_values       = list()\n",
    "all_MagLat_values   = list()\n",
    "all_MLT_values      = list()\n",
    "all_Altitude_values = list()\n",
    "all_Lat_values      = list()\n",
    "all_Kp_values       = list() \n",
    "all_Time_values     = list()\n",
    "all_HittedBin_IDs   = list()\n",
    "all_EEX_values      = list()\n",
    "all_EEY_values      = list()\n",
    "all_Pedersen_values = list()\n",
    "all_Density_values  = list()\n",
    "all_Lev_values      = list()\n",
    "all_Hall_values     = list()\n",
    "all_ConvectionHeating_values = list()\n",
    "all_WindHeating_values = list()\n",
    "\n",
    "# utility: converts a number to its 2-digit string representation\n",
    "def num_to_2digit_str( n ):\n",
    "    s = str(n)\n",
    "    if len(s) == 1:\n",
    "        s = '0' + s\n",
    "    return s\n",
    "\n",
    "# utility: takes a string containing numbers and places spaces instead of the leading zeros \n",
    "def ConvertLeadingZerosToSpaces( str ):\n",
    "    result = \"\"\n",
    "    leading_zone = True\n",
    "    for c in str:\n",
    "        if leading_zone:\n",
    "            if c == '0':\n",
    "                result = result + ' '\n",
    "            else:\n",
    "                result = result + c\n",
    "                leading_zone = False\n",
    "        else:\n",
    "            result = result + c\n",
    "    if result.strip().startswith('.')  and  result.startswith(' '): result = result[:result.rfind(' ')] + '0' + result.strip()\n",
    "    if result.strip() == \"\": result = result[ :-1 ] + '0'\n",
    "    if (result.startswith('.')) : result = '0' + result            \n",
    "    return result\n",
    "\n",
    "# Parses a string representing a date and returns a corresponding datetime object. Example: Jan 01 2015 00:01:10.000000000\n",
    "def parseDaedalusDate( dateString ):\n",
    "    result = None\n",
    "    try:\n",
    "        result = datetime.strptime(dateString[0:24], '%b %d %Y %H:%M:%S.%f')\n",
    "    except:\n",
    "        try:\n",
    "            result = datetime.strptime(dateString, '%b %d %Y %H:%M:%S.%f')\n",
    "        except:\n",
    "            try:\n",
    "                result = datetime.strptime(dateString, '%d %b %Y %H:%M:%S.%f')\n",
    "            except:\n",
    "                result = None\n",
    "    return result\n",
    "        \n",
    "\n",
    "# utility: returns a color of a colormap as list of r,g,b,a values representing a value inside a range\n",
    "def getColor( Value, minValue, maxValue, ColormapName ):\n",
    "    cmap = matplotlib.cm.get_cmap( ColormapName )\n",
    "    norm = matplotlib.colors.Normalize(vmin=minValue, vmax=maxValue)\n",
    "    rgba = cmap( norm(Value) )\n",
    "    s = \"rgba\" + str(rgba) \n",
    "    return s\n",
    "\n",
    "# Define a class which can describe a bin\n",
    "class Bin:\n",
    "    ID             = \"\"\n",
    "    Description    = \"\"\n",
    "    MLT_min        = 0 # Magnetic Local Time (hour & min of the 24-hour day) (string)\n",
    "    MLT_max        = 0 # Magnetic Local Time (hour & min of the 24-hour day) (string)\n",
    "    MagLat_min     = 0 # Magnetic Latitude (degrees)\n",
    "    MagLat_max     = 0 # Magnetic Latitude (degrees)\n",
    "    Altitude_min   = 0 # Satellite's Altitude measured from Earth's surface (km)\n",
    "    Altitude_max   = 0 # Satellite's Altitude measured from Earth's surface (km)\n",
    "    Kp_min         = 0 #\n",
    "    Kp_max         = 0 #\n",
    "    Lat_min        = 0\n",
    "    Lat_max        = 0\n",
    "    NumOfBins      = 0 # How many parts will the Altitude range be splitted in\n",
    "    CumulativeTime = 0 # (sec)\n",
    "    DesirableCumulativeTime = 0 # (sec)\n",
    "    JH_min      = 99999 # the minimum JH value inside the bin\n",
    "    JH_max      = 0     # the maximum JH value inside the bin\n",
    "    JH_mean     = 0     # the mean JH value inside the bin\n",
    "    JH_median   = 0     # the median JH value inside the bin (=50th percentile)\n",
    "    JH_variance = 0     # the variance of JH value inside the bin (variance = (1/(N-1)) * Sum{1->N}(X-MeanVariance)^2  )\n",
    "    JH_medianVariance = 0\n",
    "    JH_medianAbsDev = 0\n",
    "    # Data:\n",
    "    JH_values         = list() # here will be stored all Joule Heating values in order to calculate the variance at the end\n",
    "    JH_distribution   = list() # the item 0 holds the number of points which have 0<JH<JH_max/100 etc\n",
    "    MagLat_values     = list() #  these values correspond to the JH_values\n",
    "    MLT_values        = list() #  these values correspond to the JH_values\n",
    "    Altitude_values   = list() #  these values correspond to the JH_values\n",
    "    Kp_values         = list() #  these values correspond to the JH_values\n",
    "    Time_values       = list() #  these values correspond to the JH_values\n",
    "    EEX_values        = list()\n",
    "    EEY_values        = list()\n",
    "    Pedersen_values   = list()\n",
    "    Density_values    = list()\n",
    "    Lev_values        = list()\n",
    "    Hall_values       = list()\n",
    "    ConvectionHeating_values = list()\n",
    "    WindHeating_values = list()\n",
    "    \n",
    "    def __init__(self, ID, Description, MLT_min, MLT_max, MagLat_min, MagLat_max, Altitude_min, Altitude_max, Lat_min, Lat_max, Kp_min, Kp_max, DesirableCumulativeTime):\n",
    "        self.ID             = ID\n",
    "        self.Description    = Description\n",
    "        self.MLT_min        = MLT_min \n",
    "        self.MLT_max        = MLT_max\n",
    "        self.MagLat_min     = MagLat_min\n",
    "        self.MagLat_max     = MagLat_max\n",
    "        self.Altitude_min   = Altitude_min\n",
    "        self.Altitude_max   = Altitude_max\n",
    "        self.Lat_min        = Lat_min\n",
    "        self.Lat_max        = Lat_max                \n",
    "        self.Kp_min         = Kp_min\n",
    "        self.Kp_max         = Kp_max\n",
    "        self.DesirableCumulativeTime = DesirableCumulativeTime\n",
    "        self.JH_values       = list()\n",
    "        self.JH_distribution = [0] * 100\n",
    "        self.MagLat_values   = list()\n",
    "        self.MLT_values      = list()\n",
    "        self.Altitude_values = list()\n",
    "        self.Lat_values       = list()\n",
    "        self.Kp_values       = list()\n",
    "        self.Time_values     = list()\n",
    "        self.EEX_values        = list()\n",
    "        self.EEY_values        = list()\n",
    "        self.Pedersen_values   = list()\n",
    "        self.Density_values    = list()\n",
    "        self.Lev_values        = list()\n",
    "        self.Hall_values       = list()\n",
    "        self.ConvectionHeating_values = list()\n",
    "        self.WindHeating_values = list()\n",
    "\n",
    "    def reset(self):\n",
    "        self.JH_min      = 99999\n",
    "        self.JH_mean     = 0\n",
    "        self.JH_median   = 0\n",
    "        self.JH_variance = 0\n",
    "        self.JH_medianVariance = 0\n",
    "        self.JH_medianAbsDev = 0\n",
    "        self.JH_values       = list()\n",
    "        self.MagLat_values   = list()\n",
    "        self.MLT_values      = list()\n",
    "        self.Altitude_values = list()\n",
    "        self.Lat_values       = list()\n",
    "        self.Kp_values       = list()\n",
    "        self.Time_values     = list()\n",
    "        self.EEX_values        = list()\n",
    "        self.EEY_values        = list()\n",
    "        self.Pedersen_values   = list()\n",
    "        self.Density_values    = list()\n",
    "        self.Lev_values        = list()\n",
    "        self.Hall_values       = list()        \n",
    "        self.ConvectionHeating_values = list()\n",
    "        self.WindHeating_values = list()\n",
    "        \n",
    "    def getInfo(self):\n",
    "        s  = self.ID.ljust(8, ' ') + \": \"\n",
    "        s += \"{:02.0f}\".format(self.MLT_min)      + \"<MLT<=\"    + \"{:02.0f}\".format(self.MLT_max)      + \" \"\n",
    "        s += \"{:03.0f}\".format(self.MagLat_min)   + \"<MagLat<=\" + \"{:03.0f}\".format(self.MagLat_max)   + \" \"\n",
    "        s += \"{:03.0f}\".format(self.Altitude_min) + \"<Alt<=\"    + \"{:03.0f}\".format(self.Altitude_max) + \" \"\n",
    "        s += str(self.Kp_min)             + \"<Kp<=\"     + str(self.Kp_max)       + \" \"\n",
    "        if self.JH_min == 99999:\n",
    "            s += \" JHmin=\" + \"         \"\n",
    "        else:\n",
    "            s += \" JHmin=\" + \"{:.3e}\".format(self.JH_min) #ConvertLeadingZerosToSpaces( \"{:09.3f}\".format(self.JH_min) )\n",
    "        s += \" JHmean=\" + \"{:.3e}\".format(self.JH_mean) #ConvertLeadingZerosToSpaces( \"{:09.3f}\".format(self.JH_mean) )\n",
    "        s += \" JHvariance=\" + \"{:.3e}\".format(self.JH_variance) #ConvertLeadingZerosToSpaces( \"{:09.3f}\".format(self.JH_variance) )\n",
    "        ##\n",
    "        str_JH = \"\"\n",
    "        for i in range(0, len(self.JH_values) ):            \n",
    "            str_JH += str( self.JH_values[i] )\n",
    "            if i < len(self.JH_values)-1: str_JH += ','\n",
    "        s += \" JH_values=\" + str_JH # ''.join(str(e) for e in self.JH_values)\n",
    "        ##\n",
    "        return s\n",
    "    \n",
    "    def printMe(self):\n",
    "        print( self.getInfo()[:220] )\n",
    "\n",
    "\n",
    "Bins = list() # this list holds the definitions of all bins\n",
    "def InitializeBins():\n",
    "    global Bins\n",
    "    Bins = list()\n",
    "    #                ID        Description                          MLT      MagLat    Altitude                Lat      Kp       DesiredTime(sec)\n",
    "    Bins.append( Bin(\"AEM_00\", \"Auroral E region, midnight sector\", 21, 3,   60, 75,   100, 105,               -90,90,  0, 3,   50*60 ) )\n",
    "    Bins.append( Bin(\"AEM_01\", \"Auroral E region, midnight sector\", 21, 3,   60, 75,   105, 110,               -90,90,  0, 3,   50*60 ) )\n",
    "    Bins.append( Bin(\"AEM_02\", \"Auroral E region, midnight sector\", 21, 3,   60, 75,   110, 115,               -90,90,  0, 3,   50*60 ) )\n",
    "    Bins.append( Bin(\"AEM_03\", \"Auroral E region, midnight sector\", 21, 3,   60, 75,   115, 120,               -90,90,  0, 3,   50*60 ) )\n",
    "    Bins.append( Bin(\"AEM_04\", \"Auroral E region, midnight sector\", 21, 3,   60, 75,   120, 125,               -90,90,  0, 3,   50*60 ) )\n",
    "    Bins.append( Bin(\"AEM_05\", \"Auroral E region, midnight sector\", 21, 3,   60, 75,   125, 130,               -90,90,  0, 3,   50*60 ) )\n",
    "    Bins.append( Bin(\"AEM_06\", \"Auroral E region, midnight sector\", 21, 3,   60, 75,   130, 135,               -90,90,  0, 3,   50*60 ) )\n",
    "    Bins.append( Bin(\"AEM_07\", \"Auroral E region, midnight sector\", 21, 3,   60, 75,   135, 140,               -90,90,  0, 3,   50*60 ) )\n",
    "    Bins.append( Bin(\"AEM_08\", \"Auroral E region, midnight sector\", 21, 3,   60, 75,   140, 145,               -90,90,  0, 3,   50*60 ) )    \n",
    "    Bins.append( Bin(\"AEM_09\", \"Auroral E region, midnight sector\", 21, 3,   60, 75,   145, 150,               -90,90,  0, 3,   50*60 ) )\n",
    "    Bins.append( Bin(\"AEM_10\", \"Auroral E region, midnight sector\", 21, 3,   60, 75,   150, 155,               -90,90,  0, 3,   50*60 ) )\n",
    "    Bins.append( Bin(\"AEM_11\", \"Auroral E region, midnight sector\", 21, 3,   60, 75,   155, 160,               -90,90,  0, 3,   50*60 ) )\n",
    "    Bins.append( Bin(\"AEM_20\", \"Auroral E region, midnight sector\", 21, 3,   60, 75,   100, 105,               -90,90,  3, 9,   30*60 ) )\n",
    "    Bins.append( Bin(\"AEM_21\", \"Auroral E region, midnight sector\", 21, 3,   60, 75,   105, 110,               -90,90,  3, 9,   30*60 ) )\n",
    "    Bins.append( Bin(\"AEM_22\", \"Auroral E region, midnight sector\", 21, 3,   60, 75,   110, 115,               -90,90,  3, 9,   30*60 ) )\n",
    "    Bins.append( Bin(\"AEM_23\", \"Auroral E region, midnight sector\", 21, 3,   60, 75,   115, 120,               -90,90,  3, 9,   30*60 ) )\n",
    "    Bins.append( Bin(\"AEM_24\", \"Auroral E region, midnight sector\", 21, 3,   60, 75,   120, 125,               -90,90,  3, 9,   30*60 ) )\n",
    "    Bins.append( Bin(\"AEM_25\", \"Auroral E region, midnight sector\", 21, 3,   60, 75,   125, 130,               -90,90,  3, 9,   30*60 ) )    \n",
    "    Bins.append( Bin(\"AEM_26\", \"Auroral E region, midnight sector\", 21, 3,   60, 75,   130, 135,               -90,90,  3, 9,   30*60 ) )    \n",
    "    Bins.append( Bin(\"AEM_27\", \"Auroral E region, midnight sector\", 21, 3,   60, 75,   135, 140,               -90,90,  3, 9,   20*60 ) )\n",
    "    Bins.append( Bin(\"AEM_28\", \"Auroral E region, midnight sector\", 21, 3,   60, 75,   140, 145,               -90,90,  3, 9,   20*60 ) )\n",
    "    Bins.append( Bin(\"AEM_29\", \"Auroral E region, midnight sector\", 21, 3,   60, 75,   145, 150,               -90,90,  3, 9,   20*60 ) )\n",
    "    Bins.append( Bin(\"AEM_30\", \"Auroral E region, midnight sector\", 21, 3,   60, 75,   150, 155,               -90,90,  3, 9,   20*60 ) )\n",
    "    Bins.append( Bin(\"AEM_31\", \"Auroral E region, midnight sector\", 21, 3,   60, 75,   155, 160,               -90,90,  3, 9,   20*60 ) )\n",
    "\n",
    "    Bins.append( Bin(\"AAA_L1\", \"Auroral E region, midnight sector\", 12, 12,   50, 90,   100, 105,               -90,90,  0, 3,   50*60 ) )\n",
    "    Bins.append( Bin(\"AAA_L2\", \"Auroral E region, midnight sector\", 12, 12,   50, 90,   105, 110,               -90,90,  0, 3,   50*60 ) )\n",
    "    Bins.append( Bin(\"AAA_L3\", \"Auroral E region, midnight sector\", 12, 12,   50, 90,   110, 115,               -90,90,  0, 3,   50*60 ) )\n",
    "    Bins.append( Bin(\"AAA_L4\", \"Auroral E region, midnight sector\", 12, 12,   50, 90,   115, 120,               -90,90,  0, 3,   50*60 ) )\n",
    "    Bins.append( Bin(\"AAA_L5\", \"Auroral E region, midnight sector\", 12, 12,   50, 90,   120, 125,               -90,90,  0, 3,   50*60 ) )\n",
    "    Bins.append( Bin(\"AAA_L6\", \"Auroral E region, midnight sector\", 12, 12,   50, 90,   125, 130,               -90,90,  0, 3,   50*60 ) )\n",
    "    Bins.append( Bin(\"AAA_L7\", \"Auroral E region, midnight sector\", 12, 12,   50, 90,   130, 135,               -90,90,  0, 3,   50*60 ) )\n",
    "    Bins.append( Bin(\"AAA_L8\", \"Auroral E region, midnight sector\", 12, 12,   50, 90,   135, 140,               -90,90,  0, 3,   50*60 ) )\n",
    "    Bins.append( Bin(\"AAA_L9\", \"Auroral E region, midnight sector\", 12, 12,   50, 90,   140, 145,               -90,90,  0, 3,   50*60 ) )    \n",
    "    Bins.append( Bin(\"AAA_La\", \"Auroral E region, midnight sector\", 12, 12,   50, 90,   145, 150,               -90,90,  0, 3,   50*60 ) )\n",
    "    Bins.append( Bin(\"AAA_Lb\", \"Auroral E region, midnight sector\", 12, 12,   50, 90,   150, 155,               -90,90,  0, 3,   50*60 ) )\n",
    "    Bins.append( Bin(\"AAA_Lc\", \"Auroral E region, midnight sector\", 12, 12,   50, 90,   155, 160,               -90,90,  0, 3,   50*60 ) )\n",
    "    Bins.append( Bin(\"AAA_M1\", \"Auroral E region, midnight sector\", 12, 12,   50, 90,   100, 105,               -90,90,  3, 9,   50*60 ) )\n",
    "    Bins.append( Bin(\"AAA_M2\", \"Auroral E region, midnight sector\", 12, 12,   50, 90,   105, 110,               -90,90,  3, 9,   50*60 ) )\n",
    "    Bins.append( Bin(\"AAA_M3\", \"Auroral E region, midnight sector\", 12, 12,   50, 90,   110, 115,               -90,90,  3, 9,   50*60 ) )\n",
    "    Bins.append( Bin(\"AAA_M4\", \"Auroral E region, midnight sector\", 12, 12,   50, 90,   115, 120,               -90,90,  3, 9,   50*60 ) )\n",
    "    Bins.append( Bin(\"AAA_M5\", \"Auroral E region, midnight sector\", 12, 12,   50, 90,   120, 125,               -90,90,  3, 9,   50*60 ) )\n",
    "    Bins.append( Bin(\"AAA_M6\", \"Auroral E region, midnight sector\", 12, 12,   50, 90,   125, 130,               -90,90,  3, 9,   50*60 ) )\n",
    "    Bins.append( Bin(\"AAA_M7\", \"Auroral E region, midnight sector\", 12, 12,   50, 90,   130, 135,               -90,90,  3, 9,   50*60 ) )\n",
    "    Bins.append( Bin(\"AAA_M8\", \"Auroral E region, midnight sector\", 12, 12,   50, 90,   135, 140,               -90,90,  3, 9,   50*60 ) )\n",
    "    Bins.append( Bin(\"AAA_M9\", \"Auroral E region, midnight sector\", 12, 12,   50, 90,   140, 145,               -90,90,  3, 9,   50*60 ) )    \n",
    "    Bins.append( Bin(\"AAA_Ma\", \"Auroral E region, midnight sector\", 12, 12,   50, 90,   145, 150,               -90,90,  3, 9,   50*60 ) )\n",
    "    Bins.append( Bin(\"AAA_Mb\", \"Auroral E region, midnight sector\", 12, 12,   50, 90,   150, 155,               -90,90,  3, 9,   50*60 ) )\n",
    "    Bins.append( Bin(\"AAA_Mc\", \"Auroral E region, midnight sector\", 12, 12,   50, 90,   155, 160,               -90,90,  3, 9,   50*60 ) )    \n",
    "    \n",
    "    Bins.append( Bin(\"AFM_L1\", \"Auroral F region, midnight sector\", 21, 3,   60, 75,   150, 185,               -90,90,  0, 2,   50*60 ) )\n",
    "    Bins.append( Bin(\"AFM_L2\", \"Auroral F region, midnight sector\", 21, 3,   60, 75,   185, 220,               -90,90,  0, 2,   50*60 ) )\n",
    "    Bins.append( Bin(\"AFM_L3\", \"Auroral F region, midnight sector\", 21, 3,   60, 75,   220, 255,               -90,90,  0, 2,   50*60 ) )\n",
    "    Bins.append( Bin(\"AFM_L4\", \"Auroral F region, midnight sector\", 21, 3,   60, 75,   255, 290,               -90,90,  0, 2,   50*60 ) )\n",
    "    Bins.append( Bin(\"AFM_L5\", \"Auroral F region, midnight sector\", 21, 3,   60, 75,   290, 325,               -90,90,  0, 2,   50*60 ) )\n",
    "    Bins.append( Bin(\"AFM_L6\", \"Auroral F region, midnight sector\", 21, 3,   60, 75,   325, 360,               -90,90,  0, 2,   50*60 ) )\n",
    "    Bins.append( Bin(\"AFM_L7\", \"Auroral F region, midnight sector\", 21, 3,   60, 75,   360, 395,               -90,90,  0, 2,   50*60 ) )\n",
    "    Bins.append( Bin(\"AFM_L8\", \"Auroral F region, midnight sector\", 21, 3,   60, 75,   395, 430,               -90,90,  0, 2,   50*60 ) )\n",
    "    Bins.append( Bin(\"AFM_L9\", \"Auroral F region, midnight sector\", 21, 3,   60, 75,   430, 465,               -90,90,  0, 2,   50*60 ) )\n",
    "    Bins.append( Bin(\"AFM_L10\",\"Auroral F region, midnight sector\", 21, 3,   60, 75,   465, 500,               -90,90,  0, 2,   50*60 ) )\n",
    "    Bins.append( Bin(\"AFM_M1\", \"Auroral F region, midnight sector\", 21, 3,   60, 75,   150.0, 237.5,           -90,90,  2, 4,   30*60 ) )\n",
    "    Bins.append( Bin(\"AFM_M2\", \"Auroral F region, midnight sector\", 21, 3,   60, 75,   237.5, 325.0,           -90,90,  2, 4,   30*60 ) )\n",
    "    Bins.append( Bin(\"AFM_M3\", \"Auroral F region, midnight sector\", 21, 3,   60, 75,   325.0, 412.5,           -90,90,  2, 4,   30*60 ) )\n",
    "    Bins.append( Bin(\"AFM_M4\", \"Auroral F region, midnight sector\", 21, 3,   60, 75,   412.5, 500.0,           -90,90,  2, 4,   30*60 ) )\n",
    "    Bins.append( Bin(\"AFM_H1\", \"Auroral F region, midnight sector\", 21, 3,   60, 75,   150, 265,               -90,90,  4, 9,   20*60 ) )\n",
    "    Bins.append( Bin(\"AFM_H2\", \"Auroral F region, midnight sector\", 21, 3,   60, 75,   265, 380,               -90,90,  4, 9,   20*60 ) )\n",
    "    Bins.append( Bin(\"AFM_H3\", \"Auroral F region, midnight sector\", 21, 3,   60, 75,   380, 500,               -90,90,  4, 9,   20*60 ) )\n",
    "    \n",
    "    Bins.append( Bin(\"AEE_00\", \"Auroral E region, evening sector\",  15, 21,  60, 75,   100, 105,               -90,90,  0, 3,   50*60 ) )\n",
    "    Bins.append( Bin(\"AEE_01\", \"Auroral E region, evening sector\",  15, 21,  60, 75,   105, 110,               -90,90,  0, 3,   50*60 ) )\n",
    "    Bins.append( Bin(\"AEE_02\", \"Auroral E region, evening sector\",  15, 21,  60, 75,   110, 115,               -90,90,  0, 3,   50*60 ) )\n",
    "    Bins.append( Bin(\"AEE_03\", \"Auroral E region, evening sector\",  15, 21,  60, 75,   115, 120,               -90,90,  0, 3,   50*60 ) )\n",
    "    Bins.append( Bin(\"AEE_04\", \"Auroral E region, evening sector\",  15, 21,  60, 75,   120, 125,               -90,90,  0, 3,   50*60 ) )\n",
    "    Bins.append( Bin(\"AEE_05\", \"Auroral E region, evening sector\",  15, 21,  60, 75,   125, 130,               -90,90,  0, 3,   50*60 ) )\n",
    "    Bins.append( Bin(\"AEE_06\", \"Auroral E region, evening sector\",  15, 21,  60, 75,   130, 135,               -90,90,  0, 3,   50*60 ) )\n",
    "    Bins.append( Bin(\"AEE_07\", \"Auroral E region, evening sector\",  15, 21,  60, 75,   135, 140,               -90,90,  0, 3,   50*60 ) )\n",
    "    Bins.append( Bin(\"AEE_08\", \"Auroral E region, evening sector\",  15, 21,  60, 75,   140, 145,               -90,90,  0, 3,   50*60 ) )\n",
    "    Bins.append( Bin(\"AEE_09\", \"Auroral E region, evening sector\",  15, 21,  60, 75,   145, 150,               -90,90,  0, 3,   50*60 ) )\n",
    "    Bins.append( Bin(\"AEE_10\", \"Auroral E region, evening sector\",  15, 21,  60, 75,   150, 155,               -90,90,  0, 3,   50*60 ) )\n",
    "    Bins.append( Bin(\"AEE_11\", \"Auroral E region, evening sector\",  15, 21,  60, 75,   155, 160,               -90,90,  0, 3,   50*60 ) )\n",
    "    Bins.append( Bin(\"AEE_20\", \"Auroral E region, evening sector\",  15, 21,  60, 75,   100, 105,               -90,90,  3, 9,   50*60 ) )\n",
    "    Bins.append( Bin(\"AEE_21\", \"Auroral E region, evening sector\",  15, 21,  60, 75,   105, 110,               -90,90,  3, 9,   50*60 ) )\n",
    "    Bins.append( Bin(\"AEE_22\", \"Auroral E region, evening sector\",  15, 21,  60, 75,   110, 115,               -90,90,  3, 9,   50*60 ) )\n",
    "    Bins.append( Bin(\"AEE_23\", \"Auroral E region, evening sector\",  15, 21,  60, 75,   115, 120,               -90,90,  3, 9,   50*60 ) )\n",
    "    Bins.append( Bin(\"AEE_24\", \"Auroral E region, evening sector\",  15, 21,  60, 75,   120, 125,               -90,90,  3, 9,   50*60 ) )\n",
    "    Bins.append( Bin(\"AEE_25\", \"Auroral E region, evening sector\",  15, 21,  60, 75,   125, 130,               -90,90,  3, 9,   50*60 ) )\n",
    "    Bins.append( Bin(\"AEE_26\", \"Auroral E region, evening sector\",  15, 21,  60, 75,   130, 135,               -90,90,  3, 9,   50*60 ) )\n",
    "    Bins.append( Bin(\"AEE_27\", \"Auroral E region, evening sector\",  15, 21,  60, 75,   135, 140,               -90,90,  3, 9,   50*60 ) )\n",
    "    Bins.append( Bin(\"AEE_28\", \"Auroral E region, evening sector\",  15, 21,  60, 75,   140, 145,               -90,90,  3, 9,   50*60 ) )\n",
    "    Bins.append( Bin(\"AEE_29\", \"Auroral E region, evening sector\",  15, 21,  60, 75,   145, 150,               -90,90,  3, 9,   50*60 ) )\n",
    "    Bins.append( Bin(\"AEE_30\", \"Auroral E region, evening sector\",  15, 21,  60, 75,   150, 155,               -90,90,  3, 9,   50*60 ) )\n",
    "    Bins.append( Bin(\"AEE_31\", \"Auroral E region, evening sector\",  15, 21,  60, 75,   155, 160,               -90,90,  3, 9,   50*60 ) )\n",
    "\n",
    "    Bins.append( Bin(\"AED_00\", \"Auroral E region, dawn sector\",   3,  9,  60, 75,   100, 105,               -90,90,  0, 3,   50*60 ) )\n",
    "    Bins.append( Bin(\"AED_01\", \"Auroral E region, dawn sector\",   3,  9,  60, 75,   105, 110,               -90,90,  0, 3,   50*60 ) )\n",
    "    Bins.append( Bin(\"AED_02\", \"Auroral E region, dawn sector\",   3,  9,  60, 75,   110, 115,               -90,90,  0, 3,   50*60 ) )\n",
    "    Bins.append( Bin(\"AED_03\", \"Auroral E region, dawn sector\",   3,  9,  60, 75,   115, 120,               -90,90,  0, 3,   50*60 ) )\n",
    "    Bins.append( Bin(\"AED_04\", \"Auroral E region, dawn sector\",   3,  9,  60, 75,   120, 125,               -90,90,  0, 3,   50*60 ) )\n",
    "    Bins.append( Bin(\"AED_05\", \"Auroral E region, dawn sector\",   3,  9,  60, 75,   125, 130,               -90,90,  0, 3,   50*60 ) )\n",
    "    Bins.append( Bin(\"AED_06\", \"Auroral E region, dawn sector\",   3,  9,  60, 75,   130, 135,               -90,90,  0, 3,   50*60 ) )\n",
    "    Bins.append( Bin(\"AED_07\", \"Auroral E region, dawn sector\",   3,  9,  60, 75,   135, 140,               -90,90,  0, 3,   50*60 ) )\n",
    "    Bins.append( Bin(\"AED_08\", \"Auroral E region, dawn sector\",   3,  9,  60, 75,   140, 145,               -90,90,  0, 3,   50*60 ) )\n",
    "    Bins.append( Bin(\"AED_09\", \"Auroral E region, dawn sector\",   3,  9,  60, 75,   145, 150,               -90,90,  0, 3,   50*60 ) )\n",
    "    Bins.append( Bin(\"AED_10\", \"Auroral E region, dawn sector\",   3,  9,  60, 75,   150, 155,               -90,90,  0, 3,   50*60 ) )\n",
    "    Bins.append( Bin(\"AED_11\", \"Auroral E region, dawn sector\",   3,  9,  60, 75,   155, 160,               -90,90,  0, 3,   50*60 ) )\n",
    "    Bins.append( Bin(\"AED_20\", \"Auroral E region, dawn sector\",   3,  9,  60, 75,   100, 105,               -90,90,  3, 9,   50*60 ) )\n",
    "    Bins.append( Bin(\"AED_21\", \"Auroral E region, dawn sector\",   3,  9,  60, 75,   105, 110,               -90,90,  3, 9,   50*60 ) )\n",
    "    Bins.append( Bin(\"AED_22\", \"Auroral E region, dawn sector\",   3,  9,  60, 75,   110, 115,               -90,90,  3, 9,   50*60 ) )\n",
    "    Bins.append( Bin(\"AED_23\", \"Auroral E region, dawn sector\",   3,  9,  60, 75,   115, 120,               -90,90,  3, 9,   50*60 ) )\n",
    "    Bins.append( Bin(\"AED_24\", \"Auroral E region, dawn sector\",   3,  9,  60, 75,   120, 125,               -90,90,  3, 9,   50*60 ) )\n",
    "    Bins.append( Bin(\"AED_25\", \"Auroral E region, dawn sector\",   3,  9,  60, 75,   125, 130,               -90,90,  3, 9,   50*60 ) )\n",
    "    Bins.append( Bin(\"AED_26\", \"Auroral E region, dawn sector\",   3,  9,  60, 75,   130, 135,               -90,90,  3, 9,   50*60 ) )\n",
    "    Bins.append( Bin(\"AED_27\", \"Auroral E region, dawn sector\",   3,  9,  60, 75,   135, 140,               -90,90,  3, 9,   50*60 ) )\n",
    "    Bins.append( Bin(\"AED_28\", \"Auroral E region, dawn sector\",   3,  9,  60, 75,   140, 145,               -90,90,  3, 9,   50*60 ) )\n",
    "    Bins.append( Bin(\"AED_29\", \"Auroral E region, dawn sector\",   3,  9,  60, 75,   145, 150,               -90,90,  3, 9,   50*60 ) )\n",
    "    Bins.append( Bin(\"AED_30\", \"Auroral E region, dawn sector\",   3,  9,  60, 75,   150, 155,               -90,90,  3, 9,   50*60 ) )\n",
    "    Bins.append( Bin(\"AED_31\", \"Auroral E region, dawn sector\",   3,  9,  60, 75,   155, 160,               -90,90,  3, 9,   50*60 ) )\n",
    "    \n",
    "    Bins.append( Bin(\"EEJ_A1\", \"Equatorial E-region\",             10, 13,  -7,  7,   115,   127,                -90,90,  0, 9,   10*60 ) )\n",
    "    Bins.append( Bin(\"EEJ_A2\", \"Equatorial E-region\",             10, 13,  -7,  7,   127,   139,                -90,90,  0, 9,   10*60 ) )\n",
    "    Bins.append( Bin(\"EEJ_A3\", \"Equatorial E-region\",             10, 13,  -7,  7,   139,   150,                -90,90,  0, 9,   10*60 ) )\n",
    "\n",
    "    Bins.append( Bin(\"EPB_A1\", \"Equatorial Plasma Bubbles\",       18,  4, -30, 30,   150, 185,                  -90,90,  0, 9,   150*60 ) )\n",
    "    Bins.append( Bin(\"EPB_A2\", \"Equatorial Plasma Bubbles\",       18,  4, -30, 30,   185, 220,                  -90,90,  0, 9,   150*60 ) )\n",
    "    Bins.append( Bin(\"EPB_A3\", \"Equatorial Plasma Bubbles\",       18,  4, -30, 30,   220, 255,                  -90,90,  0, 9,   150*60 ) )\n",
    "    Bins.append( Bin(\"EPB_A4\", \"Equatorial Plasma Bubbles\",       18,  4, -30, 30,   255, 290,                  -90,90,  0, 9,   150*60 ) )\n",
    "    Bins.append( Bin(\"EPB_A5\", \"Equatorial Plasma Bubbles\",       18,  4, -30, 30,   290, 325,                  -90,90,  0, 9,   150*60 ) )\n",
    "    Bins.append( Bin(\"EPB_A6\", \"Equatorial Plasma Bubbles\",       18,  4, -30, 30,   325, 360,                  -90,90,  0, 9,   150*60 ) )\n",
    "    Bins.append( Bin(\"EPB_A7\", \"Equatorial Plasma Bubbles\",       18,  4, -30, 30,   360, 395,                  -90,90,  0, 9,   150*60 ) )\n",
    "    Bins.append( Bin(\"EPB_A8\", \"Equatorial Plasma Bubbles\",       18,  4, -30, 30,   395, 430,                  -90,90,  0, 9,   150*60 ) )\n",
    "    Bins.append( Bin(\"EPB_A9\", \"Equatorial Plasma Bubbles\",       18,  4, -30, 30,   430, 465,                  -90,90,  0, 9,   150*60 ) )\n",
    "    Bins.append( Bin(\"EPB_A10\",\"Equatorial Plasma Bubbles\",       18,  4, -30, 30,   465, 500,                  -90,90,  0, 9,   150*60 ) )\n",
    "\n",
    "    Bins.append( Bin(\"SQ_A1\",  \"Sq & midlat F region currents\",    6, 19, -60, 60,   150, 185,                  -90,90,  0, 3,   150*60 ) )\n",
    "    Bins.append( Bin(\"SQ_A2\",  \"Sq & midlat F region currents\",    6, 19, -60, 60,   185, 220,                  -90,90,  0, 3,   150*60 ) )\n",
    "    Bins.append( Bin(\"SQ_A3\",  \"Sq & midlat F region currents\",    6, 19, -60, 60,   220, 255,                  -90,90,  0, 3,   150*60 ) )\n",
    "    Bins.append( Bin(\"SQ_A4\",  \"Sq & midlat F region currents\",    6, 19, -60, 60,   255, 290,                  -90,90,  0, 3,   150*60 ) )\n",
    "    Bins.append( Bin(\"SQ_A5\",  \"Sq & midlat F region currents\",    6, 19, -60, 60,   290, 325,                  -90,90,  0, 3,   150*60 ) )\n",
    "    Bins.append( Bin(\"SQ_A6\",  \"Sq & midlat F region currents\",    6, 19, -60, 60,   325, 360,                  -90,90,  0, 3,   150*60 ) )\n",
    "    Bins.append( Bin(\"SQ_A7\",  \"Sq & midlat F region currents\",    6, 19, -60, 60,   360, 395,                  -90,90,  0, 3,   150*60 ) )\n",
    "    Bins.append( Bin(\"SQ_A8\",  \"Sq & midlat F region currents\",    6, 19, -60, 60,   395, 430,                  -90,90,  0, 3,   150*60 ) )\n",
    "    Bins.append( Bin(\"SQ_A9\",  \"Sq & midlat F region currents\",    6, 19, -60, 60,   430, 465,                  -90,90,  0, 3,   150*60 ) )\n",
    "    Bins.append( Bin(\"SQ_A10\", \"Sq & midlat F region currents\",    6, 19, -60, 60,   465, 500,                  -90,90,  0, 3,   150*60 ) )\n",
    "    \n",
    "    Bins.append( Bin(\"CF_L1\", \"Dayside Cusp F-region\",            10, 14,   70,  80,   140, 185,                -90,90,  0, 2,   50*60 ) )\n",
    "    Bins.append( Bin(\"CF_L2\", \"Dayside Cusp F-region\",            10, 14,   70,  80,   185, 230,                -90,90,  0, 2,   50*60 ) )\n",
    "    Bins.append( Bin(\"CF_L3\", \"Dayside Cusp F-region\",            10, 14,   70,  80,   230, 275,                -90,90,  0, 2,   50*60 ) )\n",
    "    Bins.append( Bin(\"CF_L4\", \"Dayside Cusp F-region\",            10, 14,   70,  80,   275, 320,                -90,90,  0, 2,   50*60 ) )\n",
    "    Bins.append( Bin(\"CF_L5\", \"Dayside Cusp F-region\",            10, 14,   70,  80,   320, 365,                -90,90,  0, 2,   50*60 ) )\n",
    "    Bins.append( Bin(\"CF_L6\", \"Dayside Cusp F-region\",            10, 14,   70,  80,   365, 410,                -90,90,  0, 2,   50*60 ) )\n",
    "    Bins.append( Bin(\"CF_L7\", \"Dayside Cusp F-region\",            10, 14,   70,  80,   410, 455,                -90,90,  0, 2,   50*60 ) )\n",
    "    Bins.append( Bin(\"CF_L8\", \"Dayside Cusp F-region\",            10, 14,   70,  80,   455, 500,                -90,90,  0, 2,   50*60 ) )\n",
    "    Bins.append( Bin(\"CF_M1\", \"Dayside Cusp F-region\",            10, 14,   70,  80,   140, 230,               -90,90,  2, 4,   30*60 ) )\n",
    "    Bins.append( Bin(\"CF_M2\", \"Dayside Cusp F-region\",            10, 14,   70,  80,   230, 320,               -90,90,  2, 4,   30*60 ) )\n",
    "    Bins.append( Bin(\"CF_M3\", \"Dayside Cusp F-region\",            10, 14,   70,  80,   320, 410,               -90,90,  2, 4,   30*60 ) )\n",
    "    Bins.append( Bin(\"CF_M4\", \"Dayside Cusp F-region\",            10, 14,   70,  80,   410, 500,               -90,90,  2, 4,   30*60 ) )\n",
    "    Bins.append( Bin(\"CF_H1\", \"Dayside Cusp F-region\",            10, 14,   70,  80,   140, 260,               -90,90,  4, 9,   20*60 ) )\n",
    "    Bins.append( Bin(\"CF_H2\", \"Dayside Cusp F-region\",            10, 14,   70,  80,   260, 380,               -90,90,  4, 9,   20*60 ) )\n",
    "    Bins.append( Bin(\"CF_H3\", \"Dayside Cusp F-region\",            10, 14,   70,  80,   380, 500,               -90,90,  4, 9,   20*60 ) )\n",
    "    \n",
    "    Bins.append( Bin(\"PCF_L1\", \"Polar cap F-region\",              14, 10,   70,  90,   140, 185,               -90,90,  0, 2,   50*60 ) )\n",
    "    Bins.append( Bin(\"PCF_L2\", \"Polar cap F-region\",              14, 10,   70,  90,   185, 230,               -90,90,  0, 2,   50*60 ) )\n",
    "    Bins.append( Bin(\"PCF_L3\", \"Polar cap F-region\",              14, 10,   70,  90,   230, 275,               -90,90,  0, 2,   50*60 ) )\n",
    "    Bins.append( Bin(\"PCF_L4\", \"Polar cap F-region\",              14, 10,   70,  90,   275, 320,               -90,90,  0, 2,   50*60 ) )\n",
    "    Bins.append( Bin(\"PCF_L5\", \"Polar cap F-region\",              14, 10,   70,  90,   320, 365,               -90,90,  0, 2,   50*60 ) )\n",
    "    Bins.append( Bin(\"PCF_L6\", \"Polar cap F-region\",              14, 10,   70,  90,   365, 410,               -90,90,  0, 2,   50*60 ) )\n",
    "    Bins.append( Bin(\"PCF_L7\", \"Polar cap F-region\",              14, 10,   70,  90,   410, 455,               -90,90,  0, 2,   50*60 ) )\n",
    "    Bins.append( Bin(\"PCF_L8\", \"Polar cap F-region\",              14, 10,   70,  90,   455, 500,               -90,90,  0, 2,   50*60 ) )\n",
    "    Bins.append( Bin(\"PCF_M1\", \"Polar cap F-region\",              14, 10,   70,  90,   140, 230,               -90,90,  2, 4,   30*60 ) )\n",
    "    Bins.append( Bin(\"PCF_M2\", \"Polar cap F-region\",              14, 10,   70,  90,   230, 320,               -90,90,  2, 4,   30*60 ) )\n",
    "    Bins.append( Bin(\"PCF_M3\", \"Polar cap F-region\",              14, 10,   70,  90,   320, 410,               -90,90,  2, 4,   30*60 ) )\n",
    "    Bins.append( Bin(\"PCF_M4\", \"Polar cap F-region\",              14, 10,   70,  90,   410, 500,               -90,90,  2, 4,   30*60 ) )\n",
    "    Bins.append( Bin(\"PCF_H1\", \"Polar cap F-region\",              14, 10,   70,  90,   140, 260,               -90,90,  4, 9,   20*60 ) )\n",
    "    Bins.append( Bin(\"PCF_H2\", \"Polar cap F-region\",              14, 10,   70,  90,   260, 380,               -90,90,  4, 9,   20*60 ) )\n",
    "    Bins.append( Bin(\"PCF_H3\", \"Polar cap F-region\",              14, 10,   70,  90,   380, 500,               -90,90,  4, 9,   20*60 ) )\n",
    "    \n",
    "    Bins.append( Bin(\"TRO_01\", \"EISCAT Tromso radar scan region\",  0, 24,  -90,  90,   80,  85,                 60,90,  0, 2,   20*60 ) )\n",
    "    Bins.append( Bin(\"TRO_02\", \"EISCAT Tromso radar scan region\",  0, 24,  -90,  90,   85,  90,                 60,90,  0, 2,   20*60 ) )\n",
    "    Bins.append( Bin(\"TRO_03\", \"EISCAT Tromso radar scan region\",  0, 24,  -90,  90,   90,  95,                 60,90,  0, 2,   20*60 ) )\n",
    "    Bins.append( Bin(\"TRO_04\", \"EISCAT Tromso radar scan region\",  0, 24,  -90,  90,   95, 100,                 60,90,  0, 2,   20*60 ) )\n",
    "    Bins.append( Bin(\"TRO_05\", \"EISCAT Tromso radar scan region\",  0, 24,  -90,  90,  100, 105,                 60,90,  0, 2,   20*60 ) )\n",
    "    Bins.append( Bin(\"TRO_06\", \"EISCAT Tromso radar scan region\",  0, 24,  -90,  90,  105, 110,                 60,90,  0, 2,   20*60 ) )\n",
    "    Bins.append( Bin(\"TRO_07\", \"EISCAT Tromso radar scan region\",  0, 24,  -90,  90,  110, 115,                 60,90,  0, 2,   20*60 ) )\n",
    "    Bins.append( Bin(\"TRO_08\", \"EISCAT Tromso radar scan region\",  0, 24,  -90,  90,  115, 120,                 60,90,  0, 2,   20*60 ) )\n",
    "    Bins.append( Bin(\"TRO_09\", \"EISCAT Tromso radar scan region\",  0, 24,  -90,  90,  120, 125,                 60,90,  0, 2,   20*60 ) )\n",
    "    Bins.append( Bin(\"TRO_10\", \"EISCAT Tromso radar scan region\",  0, 24,  -90,  90,  125, 130,                 60,90,  0, 2,   20*60 ) )\n",
    "    Bins.append( Bin(\"TRO_11\", \"EISCAT Tromso radar scan region\",  0, 24,  -90,  90,  130, 135,                 60,90,  0, 2,   20*60 ) )\n",
    "    Bins.append( Bin(\"TRO_12\", \"EISCAT Tromso radar scan region\",  0, 24,  -90,  90,  135, 140,                 60,90,  0, 2,   20*60 ) )\n",
    "    Bins.append( Bin(\"TRO_13\", \"EISCAT Tromso radar scan region\",  0, 24,  -90,  90,  140, 145,                 60,90,  0, 2,   20*60 ) )\n",
    "    Bins.append( Bin(\"TRO_14\", \"EISCAT Tromso radar scan region\",  0, 24,  -90,  90,  145, 150,                 60,90,  0, 2,   20*60 ) )\n",
    "    Bins.append( Bin(\"TRO_15\", \"EISCAT Tromso radar scan region\",  0, 24,  -90,  90,   80,  87,                 60,90,  2, 4,   20*60 ) )\n",
    "    Bins.append( Bin(\"TRO_16\", \"EISCAT Tromso radar scan region\",  0, 24,  -90,  90,   87,  94,                 60,90,  2, 4,   20*60 ) )\n",
    "    Bins.append( Bin(\"TRO_17\", \"EISCAT Tromso radar scan region\",  0, 24,  -90,  90,   94, 101,                 60,90,  2, 4,   20*60 ) )\n",
    "    Bins.append( Bin(\"TRO_18\", \"EISCAT Tromso radar scan region\",  0, 24,  -90,  90,  101, 108,                 60,90,  2, 4,   20*60 ) )\n",
    "    Bins.append( Bin(\"TRO_19\", \"EISCAT Tromso radar scan region\",  0, 24,  -90,  90,  108, 115,                 60,90,  2, 4,   20*60 ) )\n",
    "    Bins.append( Bin(\"TRO_20\", \"EISCAT Tromso radar scan region\",  0, 24,  -90,  90,  115, 122,                 60,90,  2, 4,   20*60 ) )\n",
    "    Bins.append( Bin(\"TRO_21\", \"EISCAT Tromso radar scan region\",  0, 24,  -90,  90,  122, 129,                 60,90,  2, 4,   20*60 ) )\n",
    "    Bins.append( Bin(\"TRO_22\", \"EISCAT Tromso radar scan region\",  0, 24,  -90,  90,  129, 136,                 60,90,  2, 4,   20*60 ) )\n",
    "    Bins.append( Bin(\"TRO_23\", \"EISCAT Tromso radar scan region\",  0, 24,  -90,  90,  136, 143,                 60,90,  2, 4,   20*60 ) )\n",
    "    Bins.append( Bin(\"TRO_24\", \"EISCAT Tromso radar scan region\",  0, 24,  -90,  90,  143, 150,                 60,90,  2, 4,   20*60 ) )\n",
    "    Bins.append( Bin(\"TRO_25\", \"EISCAT Tromso radar scan region\",  0, 24,  -90,  90,   80, 150,                 60,90,  4, 9,   20*60 ) )\n",
    "    \n",
    "    #Bins.append( Bin(\"TST_00\", \"Test region\",                      0, 24,  -90,  90,   80, 150,                 60,90,  0, 9,   20*60 ) )\n",
    "    binGroupNames = list()\n",
    "    for B in Bins:\n",
    "        aGroupName = B.ID[ : B.ID.find(\"_\") ]\n",
    "        if aGroupName not in binGroupNames: binGroupNames.append( aGroupName )\n",
    "    BinGroups_Dropdown.options = binGroupNames\n",
    "    \n",
    "InitializeBins()\n",
    "\n",
    "# tries to identify the bin according to the given argument and returns its description. If it fails it returns the argument.\n",
    "# examples: \"PCF_H2\"->\"Polar cap F-region\"   \"PCF\"->\"Polar cap F-region\"\n",
    "def getBinDescription( str ):\n",
    "    result = \"\"\n",
    "    for B in Bins:\n",
    "        if B.ID == str: result = B.Description\n",
    "    if len(result)==0:\n",
    "        for B in Bins:\n",
    "            if B.ID.startswith( str ): result = B.Description\n",
    "    if len(result)==0: result = str\n",
    "    #\n",
    "    return result\n",
    "\n",
    "\n",
    "def createBinsForTheWholeEarth():\n",
    "    n = 1\n",
    "    for Kp_min in [0, 2, 4]:\n",
    "        if Kp_min == 0:\n",
    "            Kp_max = 2\n",
    "        elif Kp_min == 2:\n",
    "            Kp_max = 4\n",
    "        elif Kp_min == 4:\n",
    "            Kp_max = 9\n",
    "        ####matc\n",
    "        for MLT_min in range(0, 24, 4):\n",
    "            for MagLat_min in range(-180, 180, 20):\n",
    "                for Alt_min in range(115, 250, 25):\n",
    "                    n = n + 1\n",
    "                    Bins.append( Bin(\"E\"+str(n), \"\",            MLT_min, MLT_min+4,   MagLat_min, MagLat_min+15,   Alt_min, Alt_min+25,               Kp_min, Kp_max,   20*60 ) )                    \n",
    "    print ( len(Bins) + \" Bins covering the whole Earth.\")    \n",
    "#createBinsForTheWholeEarth()\n",
    "\n",
    "# cheks if certain MLT lies in a certain range. Created in order to take account ranges like 22-2\n",
    "def is_MLT_inside_range( MLT, MLT_min, MLT_max ):\n",
    "    if MLT_min < MLT_max: # example: from 13 to 18 hour\n",
    "        return (MLT > MLT_min  and  MLT <= MLT_max)\n",
    "    elif MLT_min == MLT_max: # example: from 12 until 12 the other day\n",
    "        return True\n",
    "    else: # example: from 22 to 3 hour\n",
    "        return (MLT > MLT_min  or   MLT <= MLT_max)\n",
    "\n",
    "    \n",
    "    \n",
    "# returns: the bin object which matches the arguments\n",
    "def GetMatchedBin( MLT, MagLat, Altitude, Kp, Latitude ):\n",
    "    MatchedBin = None\n",
    "    for B in Bins:\n",
    "        if Latitude >= B.Lat_min  and  Latitude <= B.Lat_max:\n",
    "            if is_MLT_inside_range(MLT, B.MLT_min, B.MLT_max):\n",
    "                if MagLat   > B.MagLat_min    and  MagLat   <= B.MagLat_max:\n",
    "                    if Altitude > B.Altitude_min  and  Altitude <= B.Altitude_max:\n",
    "                        Kp_min_to_check = B.Kp_min\n",
    "                        if Kp_min_to_check == 0: Kp_min_to_check = -1\n",
    "                        if Kp       > Kp_min_to_check and  Kp       <= B.Kp_max:\n",
    "                            MatchedBin = B\n",
    "                            break\n",
    "    return MatchedBin\n",
    "\n",
    "\n",
    "# returns: the bin object which matches the arguments\n",
    "def getBinByItsProperties( MLT_min, MLT_max, MagLat_min, MagLat_max, Altitude_min, Altitude_max, Kp_min, Kp_max ):\n",
    "    CorrectBin = None\n",
    "    for B in Bins:\n",
    "        if             MLT_min      == B.MLT_min       and  MLT_max      == B.MLT_max:\n",
    "            if         MagLat_min   == B.MagLat_min    and  MagLat_max   == B.MagLat_max:\n",
    "                if     Altitude_min == B.Altitude_min  and  Altitude_max == B.Altitude_max:\n",
    "                    if Kp_min       == B.Kp_min        and  Kp_max       == B.Kp_max:\n",
    "                        CorrectBin = B\n",
    "                        break\n",
    "    return CorrectBin\n",
    "\n",
    "# returns: the bin object which matches the arguments\n",
    "def getBinByItsID( aBinID ):\n",
    "    CorrectBin = None\n",
    "    for B in Bins:\n",
    "        if  B.ID == aBinID:\n",
    "            CorrectBin = B\n",
    "            break\n",
    "    return CorrectBin\n",
    "\n",
    "\n",
    "        \n",
    "# Save the results in a text file        \n",
    "def SaveResults_TXT( ResultsFilename ):\n",
    "    global CALCULATIONS_Title, CALCULATIONS_Description, CALCULATIONS_RegionName, CALCULATIONS_OrbitFilesPath, CALCULATIONS_TIEGCMfolder, CALCULATIONS_ExecutionDuration\n",
    "    global all_JH_values, all_MagLat_values, all_MLT_values, all_Altitude_values\n",
    "    nowstr = datetime.now().strftime(\"%d-%m-%Y %H:%M:%S\")    \n",
    "    F = open(ResultsFilename, 'w')\n",
    "    F.write( \"# -- JOULE HEATING per BIN RESULTS -- \" + \"\\n\"  )\n",
    "    F.write( \"# Date of execution: \" + nowstr + \"\\n\" )\n",
    "    F.write( \"# Title: \" + CALCULATIONS_Title + \"\\n\" )\n",
    "    F.write( \"# Region: \" + CALCULATIONS_RegionName + \"\\n\" )\n",
    "    F.write( \"# Orbit Filename: \" + CALCULATIONS_OrbitFilesPath + \"\\n\" )\n",
    "    F.write( \"# Description: \" + CALCULATIONS_Description + \"\\n\")\n",
    "    F.write( \"# DataPath: \" + CALCULATIONS_TIEGCMfolder + \"\\n\")\n",
    "    F.write( \"# Duration of execution: \" + ConvertLeadingZerosToSpaces(\"{0:.0f}\".format(CALCULATIONS_ExecutionDuration)) + \" seconds  or  \" + ConvertLeadingZerosToSpaces(\"{0:.2f}\".format(CALCULATIONS_ExecutionDuration/60))  + \" minutes\" + \"\\n\" )\n",
    "    F.write( \"# \" + \"\\n\")    \n",
    "    for B in Bins:\n",
    "        F.write( B.getInfo() + \"\\n\" )\n",
    "    ##\n",
    "    F.write( \"\\nAll JH values: \" ) \n",
    "    for i in range(0, len(all_JH_values) ):\n",
    "        F.write( str( all_JH_values[i]) )\n",
    "        if i < len(all_JH_values)-1: F.write( ',' )\n",
    "    F.write( \"\\nAll MagLat values: \" ) \n",
    "    for i in range(0, len(all_MagLat_values) ):\n",
    "        F.write( \"{:.4g}\".format( all_MagLat_values[i]) )\n",
    "        if i < len(all_MagLat_values)-1: F.write( ',' )   \n",
    "    F.write( \"\\nAll MLT values: \" ) \n",
    "    for i in range(0, len(all_MLT_values) ):\n",
    "        F.write( \"{:.4g}\".format( all_MLT_values[i]) )\n",
    "        if i < len(all_MLT_values)-1: F.write( ',' ) \n",
    "    F.write( \"\\nAll Altitude values: \" ) \n",
    "    for i in range(0, len(all_Altitude_values) ):\n",
    "        F.write( \"{:.4g}\".format( all_Altitude_values[i]) )\n",
    "        if i < len(all_Altitude_values)-1: F.write( ',' )             \n",
    "    ## write all data separated at bins\n",
    "    F.write(\"\\n\")\n",
    "    for B in Bins:\n",
    "        F.write(\"\\n\")\n",
    "        F.write( \"BIN \" + B.ID + \": MagLat values = \" )\n",
    "        for i in range(0, len(B.MagLat_values) ):\n",
    "            F.write(  \"{:.5g}\".format(B.MagLat_values[i])  )\n",
    "            if i < len(B.MagLat_values)-1: F.write( ',' )\n",
    "        F.write(\"\\n\")\n",
    "        F.write( \"BIN \" + B.ID + \": MLT values = \" )\n",
    "        for i in range(0, len(B.MLT_values) ):\n",
    "            F.write(  \"{:.5g}\".format(B.MLT_values[i])  )\n",
    "            if i < len(B.MLT_values)-1: F.write( ',' )\n",
    "        F.write(\"\\n\")\n",
    "        F.write( \"BIN \" + B.ID + \": Altitude values = \" )\n",
    "        for i in range(0, len(B.Altitude_values) ):\n",
    "            F.write(  \"{:.5g}\".format(B.Altitude_values[i])  )\n",
    "            if i < len(B.Altitude_values)-1: F.write( ',' )\n",
    "    ##\n",
    "    F.close()\n",
    "    \n",
    "    \n",
    "    \n",
    "    \n",
    "    \n",
    "# creates a results NetCDF file and its structure\n",
    "def CreateResults_CDF( ResultsFilename ):\n",
    "    global CALCULATIONS_Title, CALCULATIONS_Description, CALCULATIONS_RegionName, CALCULATIONS_OrbitFilesPath, CALCULATIONS_TIEGCMfolder, CALCULATIONS_ExecutionDuration\n",
    "    global all_JH_values, all_MagLat_values, all_MLT_values, all_Altitude_values, all_Kp_values, all_Time_values, all_EEX_values, all_EEY_values, all_Pedersen_values, all_Density_values, all_Lev_values, all_Hall_values\n",
    "    # save general info\n",
    "    resultsCDF = Dataset( ResultsFilename, 'w' )\n",
    "    resultsCDF.Content         = \"JOULE HEATING per BIN RESULTS. This file contains information about the bins in which the thermosphere is divided according to Magnetic Latitude, Magnetic Local Time, Altitude and Kp-index. We say there is a hit inside a bin when a satellite position or TIEGCM-grid position lies inside the above boundaries. The file contains data for each hit inside a bin. That is the position's MagLat, MLT, Alt, Kp and Joule-Heating value\"\n",
    "    resultsCDF.DateOfCreation  = datetime.now().strftime(\"%d-%m-%Y %H:%M:%S\")\n",
    "    resultsCDF.DateOfUpdate    = datetime.now().strftime(\"%d-%m-%Y %H:%M:%S\")\n",
    "    resultsCDF.Title           = CALCULATIONS_Title\n",
    "    resultsCDF.Region          = CALCULATIONS_RegionName\n",
    "    resultsCDF.OrbitFile       = CALCULATIONS_OrbitFilesPath\n",
    "    resultsCDF.Description     = CALCULATIONS_Description\n",
    "    resultsCDF.DataPath        = CALCULATIONS_TIEGCMfolder\n",
    "    resultsCDF.LastExecDurationSec = 0\n",
    "    resultsCDF.Progress        = \"\"\n",
    "    # save data for each bin spearately \n",
    "    resultsCDF.createDimension( \"SingleSpaceFooDimension\", 1 )\n",
    "    resultsCDF.createDimension('char8', 8)\n",
    "    for B in Bins:\n",
    "        # save general info about the bin\n",
    "        VAR_BinInfo = resultsCDF.createVariable( B.ID, \"S1\", (\"SingleSpaceFooDimension\",) )\n",
    "        VAR_BinInfo.long_name    = \"Information about the bin \" + B.ID + \" (\" + B.Description + \")\"\n",
    "        VAR_BinInfo.MagLat_min   = \"{:02.0f}\".format(B.MagLat_min)\n",
    "        VAR_BinInfo.MagLat_max   = \"{:02.0f}\".format(B.MagLat_max)\n",
    "        VAR_BinInfo.MLT_min      = \"{:02.0f}\".format(B.MLT_min)\n",
    "        VAR_BinInfo.MLT_max      = \"{:02.0f}\".format(B.MLT_max)\n",
    "        VAR_BinInfo.Altitude_min = \"{:02.0f}\".format(B.Altitude_min)\n",
    "        VAR_BinInfo.Altitude_max = \"{:02.0f}\".format(B.Altitude_max)\n",
    "        VAR_BinInfo.Lat_min       = \"{:02.0f}\".format(B.Lat_min)\n",
    "        VAR_BinInfo.Lat_max       = \"{:02.0f}\".format(B.Lat_max)\n",
    "        VAR_BinInfo.Kp_min       = \"{:02.0f}\".format(B.Kp_min)\n",
    "        VAR_BinInfo.Kp_max       = \"{:02.0f}\".format(B.Kp_max)\n",
    "        VAR_BinInfo.JH_mean      = \"{:.3e}\".format(B.JH_mean)\n",
    "        VAR_BinInfo.JH_variance  = \"{:.3e}\".format(B.JH_variance)\n",
    "        VAR_BinInfo.DesirableCumulativeTime = str(B.DesirableCumulativeTime) + \"sec\"\n",
    "        if B.JH_min == 99999: \n",
    "            VAR_BinInfo.JH_min = \"\"\n",
    "        else:\n",
    "            VAR_BinInfo.JH_min = \"{:.3e}\".format(B.JH_min)\n",
    "        # create structure for each bin\n",
    "        resultsCDF.createDimension( B.ID+\"_time_dim\", None )\n",
    "        VAR_BinTimeValues             = resultsCDF.createVariable( B.ID+\"_TimeValues\", \"f4\", (B.ID+\"_time_dim\",) )\n",
    "        VAR_BinTimeValues.description = \"UTC timestamp\"\n",
    "        VAR_BinTimeValues.units       = \"seconds\"\n",
    "        resultsCDF.createDimension( B.ID+\"_jh_dim\", None )\n",
    "        VAR_BinJHvalues = resultsCDF.createVariable( B.ID+\"_JHValues\", \"f4\", (B.ID+\"_jh_dim\",) )\n",
    "        VAR_BinJHvalues.description = \"Ohmic\"\n",
    "        VAR_BinJHvalues.units       = \"W/m3\"\n",
    "        resultsCDF.createDimension( B.ID+\"_maglat_dim\", None )\n",
    "        VAR_BinMagLatValues = resultsCDF.createVariable( B.ID+\"_MagLatValues\", \"f4\", (B.ID+\"_maglat_dim\",) )\n",
    "        VAR_BinMagLatValues.description = \"Magnetic Latitude\"\n",
    "        VAR_BinMagLatValues.units       = \"degrees\"\n",
    "        resultsCDF.createDimension( B.ID+\"_mlt_dim\", None )\n",
    "        VAR_BinMLTValues = resultsCDF.createVariable( B.ID+\"_MLTValues\", \"f4\", (B.ID+\"_mlt_dim\",) )\n",
    "        VAR_BinMLTValues.description = \"Magnetic Local Time\"\n",
    "        VAR_BinMLTValues.units       = \"hours\"\n",
    "        resultsCDF.createDimension( B.ID+\"_alt_dim\", None )\n",
    "        VAR_BinAltitudeValues = resultsCDF.createVariable( B.ID+\"_AltitudeValues\", \"f4\", (B.ID+\"_alt_dim\",) )\n",
    "        VAR_BinAltitudeValues.description = \"Altitude from the surface of the Earth\"\n",
    "        VAR_BinAltitudeValues.units       = \"km\"\n",
    "        resultsCDF.createDimension( B.ID+\"_lat_dim\", None )\n",
    "        VAR_BinLatValues = resultsCDF.createVariable( B.ID+\"_LatValues\", \"f4\", (B.ID+\"_lat_dim\",) )\n",
    "        VAR_BinLatValues.description = \"Latitude\"\n",
    "        VAR_BinLatValues.units       = \"degrees\"\n",
    "        resultsCDF.createDimension( B.ID+\"_kp_dim\", None )\n",
    "        VAR_BinKpValues = resultsCDF.createVariable( B.ID+\"_KpValues\", \"f4\", (B.ID+\"_kp_dim\",) )\n",
    "        VAR_BinKpValues.description = \"Kp index of Sun activity\"\n",
    "        VAR_BinKpValues.units       = \"-\"\n",
    "        resultsCDF.createDimension( B.ID+\"_eex_dim\", None )\n",
    "        VAR_BinEEXValues = resultsCDF.createVariable( B.ID+\"_EEXValues\", \"f4\", (B.ID+\"_eex_dim\",) )\n",
    "        VAR_BinEEXValues.description = \"Electric field strength East. (SI)\"\n",
    "        VAR_BinEEXValues.units       = \"V/m\"\n",
    "        resultsCDF.createDimension( B.ID+\"_eey_dim\", None )\n",
    "        VAR_BinEEYValues = resultsCDF.createVariable( B.ID+\"_EEYValues\", \"f4\", (B.ID+\"_eey_dim\",) )\n",
    "        VAR_BinEEYValues.description = \"Electric field strength North. (SI)\"\n",
    "        VAR_BinEEYValues.units       = \"V/m\"\n",
    "        resultsCDF.createDimension( B.ID+\"_ped_dim\", None )\n",
    "        VAR_BinPedersenValues = resultsCDF.createVariable( B.ID+\"_PedersenValues\", \"f4\", (B.ID+\"_ped_dim\",) )\n",
    "        VAR_BinPedersenValues.description = \"SIGMA_PED\"\n",
    "        VAR_BinPedersenValues.units       = \"S/m\"\n",
    "        resultsCDF.createDimension( B.ID+\"_den_dim\", None )\n",
    "        VAR_BinDensityValues = resultsCDF.createVariable( B.ID+\"_DensityValues\", \"f4\", (B.ID+\"_den_dim\",) )\n",
    "        VAR_BinDensityValues.description = \"Total Density\"\n",
    "        VAR_BinDensityValues.units       = \"g/cm3\"\n",
    "        resultsCDF.createDimension( B.ID+\"_lev_dim\", None )\n",
    "        VAR_BinLevValues = resultsCDF.createVariable( B.ID+\"_LevValues\", \"f4\", (B.ID+\"_lev_dim\",) )\n",
    "        VAR_BinLevValues.description = \"midpoint levels\"\n",
    "        VAR_BinLevValues.units       = \"\"\n",
    "        resultsCDF.createDimension( B.ID+\"_hal_dim\", None )\n",
    "        VAR_BinHallValues = resultsCDF.createVariable( B.ID+\"_HallValues\", \"f4\", (B.ID+\"_hal_dim\",) )\n",
    "        VAR_BinHallValues.description = \"SIGMA_HAL\"\n",
    "        VAR_BinHallValues.units       = \"S/m\"\n",
    "        resultsCDF.createDimension( B.ID+\"_convh_dim\", None )\n",
    "        VAR_BinConvhValues = resultsCDF.createVariable( B.ID+\"_ConvectionHeatingValues\", \"f4\", (B.ID+\"_convh_dim\",) )\n",
    "        VAR_BinConvhValues.description = \"Convection Heating\"\n",
    "        VAR_BinConvhValues.units       = \"W/m3\"\n",
    "        resultsCDF.createDimension( B.ID+\"_windh_dim\", None )\n",
    "        VAR_BinWindhValues = resultsCDF.createVariable( B.ID+\"_WindHeatingValues\", \"f4\", (B.ID+\"_windh_dim\",) )\n",
    "        VAR_BinWindhValues.description = \"Wind Correction\"\n",
    "        VAR_BinWindhValues.units       = \"W/m3\"\n",
    "    ## save data for all hits\n",
    "    resultsCDF.createDimension( \"time_dim\", None )\n",
    "    VAR_TimeValues         = resultsCDF.createVariable(\"allTimeValues\", \"f4\", (\"time_dim\",) )\n",
    "    VAR_TimeValues.description = \"UTC timestamp\"\n",
    "    VAR_TimeValues.units       = \"seconds\"\n",
    "    resultsCDF.createDimension( \"jh_dim\", None )\n",
    "    VAR_JHvalues = resultsCDF.createVariable(\"allJHValues\", \"f4\", (\"jh_dim\",) )\n",
    "    VAR_JHvalues.description = \"Ohmic\"\n",
    "    VAR_JHvalues.units       = \"W/m3\"\n",
    "    resultsCDF.createDimension( \"maglat_dim\", None )\n",
    "    VAR_MagLatValues = resultsCDF.createVariable(\"allMagLatValues\", \"f4\", (\"maglat_dim\",) )\n",
    "    VAR_MagLatValues.description = \"Magnetic Latitude\"\n",
    "    VAR_MagLatValues.units       = \"degrees\"\n",
    "    resultsCDF.createDimension( \"mlt_dim\", None )\n",
    "    VAR_MLTValues = resultsCDF.createVariable(\"allMLTValues\", \"f4\", (\"mlt_dim\",) )\n",
    "    VAR_MLTValues.description = \"Magnetic Local Time\"\n",
    "    VAR_MLTValues.units       = \"hours\"\n",
    "    resultsCDF.createDimension( \"alt_dim\", None )\n",
    "    VAR_AltitudeValues = resultsCDF.createVariable(\"allAltitudeValues\", \"f4\", (\"alt_dim\",) )\n",
    "    VAR_AltitudeValues.description = \"Altitude from the surface of the Earth\"\n",
    "    VAR_AltitudeValues.units       = \"km\"\n",
    "    resultsCDF.createDimension( \"lat_dim\", None )\n",
    "    VAR_LatValues = resultsCDF.createVariable(\"allLatValues\", \"f4\", (\"lat_dim\",) )\n",
    "    VAR_LatValues.description = \"Latitude\"\n",
    "    VAR_LatValues.units       = \"degrees\"\n",
    "    resultsCDF.createDimension( \"kp_dim\", None )\n",
    "    VAR_KpValues = resultsCDF.createVariable(\"allKpValues\", \"f4\", (\"kp_dim\",) )\n",
    "    VAR_KpValues.description = \"Kp index of Sun activity\"\n",
    "    VAR_KpValues.units       = \"-\"\n",
    "    resultsCDF.createDimension( \"bins_dim\", None )\n",
    "    VAR_HittedBinIDs = resultsCDF.createVariable(\"allHittedBinIDs\", \"S1\", (\"bins_dim\",\"char8\",) )\n",
    "    VAR_HittedBinIDs.description = \"The ID of the bin, where the hit occured\"\n",
    "    resultsCDF.createDimension( \"eex_dim\", None )\n",
    "    VAR_EEXvalues = resultsCDF.createVariable(\"allEEXValues\", \"f4\", (\"eex_dim\",) )\n",
    "    VAR_EEXvalues.description = \"Electric field strength East. (SI)\"\n",
    "    VAR_EEXvalues.units       = \"V/m\"\n",
    "    resultsCDF.createDimension( \"eey_dim\", None )\n",
    "    VAR_EEYvalues = resultsCDF.createVariable(\"allEEYValues\", \"f4\", (\"eey_dim\",) )\n",
    "    VAR_EEYvalues.description = \"Electric field strength North. (SI)\"\n",
    "    VAR_EEYvalues.units       = \"V/m\"\n",
    "    resultsCDF.createDimension( \"ped_dim\", None )\n",
    "    VAR_Pedersenvalues = resultsCDF.createVariable(\"allPedersenValues\", \"f4\", (\"ped_dim\",) )\n",
    "    VAR_Pedersenvalues.description = \"Pedersen Conductivity\"\n",
    "    VAR_Pedersenvalues.units       = \"S/m\"\n",
    "    resultsCDF.createDimension( \"den_dim\", None )\n",
    "    VAR_Densityvalues = resultsCDF.createVariable(\"allDensityValues\", \"f4\", (\"den_dim\",) )\n",
    "    VAR_Densityvalues.description = \"Total Density\"\n",
    "    VAR_Densityvalues.units       = \"g/cm3\"\n",
    "    resultsCDF.createDimension( \"lev_dim\", None )\n",
    "    VAR_LevValues = resultsCDF.createVariable(\"allLevValues\", \"f4\", (\"lev_dim\",) )\n",
    "    VAR_LevValues.description = \"midpoint levels\"\n",
    "    VAR_LevValues.units       = \"\"\n",
    "    resultsCDF.createDimension( \"hal_dim\", None )\n",
    "    VAR_Hallvalues = resultsCDF.createVariable(\"allHallValues\", \"f4\", (\"hal_dim\",) )\n",
    "    VAR_Hallvalues.description = \"Hall Conductivity\"\n",
    "    VAR_Hallvalues.units       = \"S/m\"\n",
    "    resultsCDF.createDimension( \"convh_dim\", None )\n",
    "    VAR_ConvhValues = resultsCDF.createVariable(\"allConvectionHeatingValues\", \"f4\", (\"convh_dim\",) )\n",
    "    VAR_ConvhValues.description = \"Convection Heating\"\n",
    "    VAR_ConvhValues.units       = \"W/m3\"\n",
    "    resultsCDF.createDimension( \"windh_dim\", None )\n",
    "    VAR_WindhValues = resultsCDF.createVariable(\"allWindHeatingValues\", \"f4\", (\"windh_dim\",) )\n",
    "    VAR_WindhValues.description = \"Wind Correction\"\n",
    "    VAR_WindhValues.units       = \"W/m3\"\n",
    "    resultsCDF.close()\n",
    "    \n",
    "    \n",
    "# Append the results in a NetCDF file. The data will be saved in ResultsFilename and they come from DataFilename.\n",
    "# DataFilename is needed to check if the file contains already the results of the DataFilename\n",
    "def SaveResults_CDF( ResultsFilename, DataFilename ):\n",
    "    if path.exists( ResultsFilename ) == False:\n",
    "        CreateResults_CDF( ResultsFilename )\n",
    "    # save general info\n",
    "    ErrorMsg = \"\"\n",
    "    resultsCDF = Dataset( ResultsFilename, 'a' )\n",
    "    resultsCDF.DateOfUpdate = datetime.now().strftime(\"%d-%m-%Y %H:%M:%S\")\n",
    "    if resultsCDF.Region    != CALCULATIONS_RegionName: ErrorMsg = \"Save aborted: NetCDF file has already data about region \" + resultsCDF.Region + \" and you tried to save data about region \" + CALCULATIONS_RegionName        \n",
    "    if resultsCDF.OrbitFile != CALCULATIONS_OrbitFilesPath: ErrorMsg = \"Save aborted: NetCDF file has already data about orbit \" + resultsCDF.OrbitFile + \" and you tried to save data about orbit \" + CALCULATIONS_OrbitFilesPath\n",
    "    if resultsCDF.DataPath  != CALCULATIONS_TIEGCMfolder: ErrorMsg = \"Save aborted: NetCDF file has already data about TIEGCM file \" + resultsCDF.DataPath  + \"and you tried to save data about TIEGCM file \" + CALCULATIONS_TIEGCMfolder        \n",
    "    if len(DataFilename)>0 and resultsCDF.Progress > DataFilename: ErrorMsg = \"Save aborted: NetCDF file contains data about file: \" + resultsCDF.Progress + \" which is later than \" + DataFilename\n",
    "    if len(ErrorMsg) > 0:\n",
    "        print( ErrorMsg )\n",
    "        resultsCDF.close()\n",
    "        return\n",
    "    resultsCDF.LastExecDurationSec = ConvertLeadingZerosToSpaces(\"{0:.0f}\".format(CALCULATIONS_ExecutionDuration)).strip()\n",
    "    # save data for each bin spearately \n",
    "    for B in Bins:\n",
    "        # save data about the hits inside the bin\n",
    "        if len(B.Time_values) > 0:\n",
    "            resultsCDF.variables[B.ID+\"_TimeValues\"][:]      = resultsCDF.variables[B.ID+\"_TimeValues\"][:].tolist() + B.Time_values\n",
    "            resultsCDF.variables[B.ID+\"_JHValues\"][:]        = resultsCDF.variables[B.ID+\"_JHValues\"][:].tolist() + B.JH_values        \n",
    "            resultsCDF.variables[B.ID+\"_MagLatValues\"][:]    = resultsCDF.variables[B.ID+\"_MagLatValues\"][:].tolist() + B.MagLat_values\n",
    "            resultsCDF.variables[B.ID+\"_MLTValues\"][:]       = resultsCDF.variables[B.ID+\"_MLTValues\"][:].tolist() + B.MLT_values\n",
    "            resultsCDF.variables[B.ID+\"_AltitudeValues\"][:]  = resultsCDF.variables[B.ID+\"_AltitudeValues\"][:].tolist() + B.Altitude_values\n",
    "            resultsCDF.variables[B.ID+\"_LatValues\"][:]       = resultsCDF.variables[B.ID+\"_LatValues\"][:].tolist() + B.Lat_values\n",
    "            resultsCDF.variables[B.ID+\"_KpValues\"][:]        = resultsCDF.variables[B.ID+\"_KpValues\"][:].tolist() + B.Kp_values\n",
    "            resultsCDF.variables[B.ID+\"_EEXValues\"][:]       = resultsCDF.variables[B.ID+\"_EEXValues\"][:].tolist() + B.EEX_values        \n",
    "            resultsCDF.variables[B.ID+\"_EEYValues\"][:]       = resultsCDF.variables[B.ID+\"_EEYValues\"][:].tolist() + B.EEY_values\n",
    "            resultsCDF.variables[B.ID+\"_PedersenValues\"][:]  = resultsCDF.variables[B.ID+\"_PedersenValues\"][:].tolist() + B.Pedersen_values\n",
    "            resultsCDF.variables[B.ID+\"_DensityValues\"][:]   = resultsCDF.variables[B.ID+\"_DensityValues\"][:].tolist() + B.Density_values\n",
    "            resultsCDF.variables[B.ID+\"_LevValues\"][:]       = resultsCDF.variables[B.ID+\"_LevValues\"][:].tolist() + B.Lev_values\n",
    "            resultsCDF.variables[B.ID+\"_HallValues\"][:]      = resultsCDF.variables[B.ID+\"_HallValues\"][:].tolist() + B.Hall_values\n",
    "            resultsCDF.variables[B.ID+\"_ConvectionHeatingValues\"][:] = resultsCDF.variables[B.ID+\"_ConvectionHeatingValues\"][:].tolist() + B.ConvectionHeating_values\n",
    "            resultsCDF.variables[B.ID+\"_WindHeatingValues\"][:] = resultsCDF.variables[B.ID+\"_WindHeatingValues\"][:].tolist() + B.WindHeating_values\n",
    "    ## save data for all hits\n",
    "    if len(all_Time_values) > 0:\n",
    "        resultsCDF.variables[\"allTimeValues\"][:]     = resultsCDF.variables[\"allTimeValues\"][:].tolist() + all_Time_values\n",
    "        resultsCDF.variables[\"allJHValues\"][:]       = resultsCDF.variables[\"allJHValues\"][:].tolist() + all_JH_values    \n",
    "        resultsCDF.variables[\"allMagLatValues\"][:]   = resultsCDF.variables[\"allMagLatValues\"][:].tolist() + all_MagLat_values\n",
    "        resultsCDF.variables[\"allMLTValues\"][:]      = resultsCDF.variables[\"allMLTValues\"][:].tolist() + all_MLT_values\n",
    "        resultsCDF.variables[\"allAltitudeValues\"][:] = resultsCDF.variables[\"allAltitudeValues\"][:].tolist() + all_Altitude_values\n",
    "        resultsCDF.variables[\"allLatValues\"][:]      = resultsCDF.variables[\"allLatValues\"][:].tolist() + all_Lat_values\n",
    "        resultsCDF.variables[\"allKpValues\"][:]       = resultsCDF.variables[\"allKpValues\"][:].tolist() + all_Kp_values\n",
    "        #resultsCDF.variables[\"allHittedBinIDs\"][:]   = resultsCDF.variables[\"allHittedBinIDs\"][:].tolist() + netCDF4.stringtochar(np.array(all_HittedBin_IDs[:], 'S8'))\n",
    "        resultsCDF.variables[\"allEEXValues\"][:]      = resultsCDF.variables[\"allEEXValues\"][:].tolist() + all_EEX_values\n",
    "        resultsCDF.variables[\"allEEYValues\"][:]      = resultsCDF.variables[\"allEEYValues\"][:].tolist() + all_EEY_values\n",
    "        resultsCDF.variables[\"allPedersenValues\"][:] = resultsCDF.variables[\"allPedersenValues\"][:].tolist() + all_Pedersen_values\n",
    "        resultsCDF.variables[\"allDensityValues\"][:]  = resultsCDF.variables[\"allDensityValues\"][:].tolist() + all_Density_values\n",
    "        resultsCDF.variables[\"allLevValues\"][:]      = resultsCDF.variables[\"allLevValues\"][:].tolist() + all_Lev_values\n",
    "        resultsCDF.variables[\"allHallValues\"][:]     = resultsCDF.variables[\"allHallValues\"][:].tolist() + all_Hall_values\n",
    "        resultsCDF.variables[\"allConvectionHeatingValues\"][:] = resultsCDF.variables[\"allConvectionHeatingValues\"][:].tolist() + all_ConvectionHeating_values\n",
    "        resultsCDF.variables[\"allWindHeatingValues\"][:] = resultsCDF.variables[\"allWindHeatingValues\"][:].tolist() + all_WindHeating_values\n",
    "    #\n",
    "    resultsCDF.close()    \n",
    "    \n",
    "\n",
    "\n",
    "\n",
    "    \n",
    "\n",
    "\n",
    "def LoadResults_CDF( filepath, loadBinValues=True, loadGlobalValues=True, loadTimeValues=True, loadMagLatValues=True, loadMLTvalues=True, loadAltValues=True, loadLatValues=True, loadKpValues=True ):\n",
    "    global CALCULATIONS_Title, CALCULATIONS_Description, CALCULATIONS_RegionName, CALCULATIONS_OrbitFilesPath, CALCULATIONS_TIEGCMfolder, CALCULATIONS_ExecutionDuration\n",
    "    global all_JH_values, all_MagLat_values, all_MLT_values, all_Altitude_values, all_Kp_values, all_Time_values, all_EEX_values, all_EEY_values, all_Pedersen_values, all_Density_values, all_Lev_values, all_Hall_values\n",
    "\n",
    "    # reset values\n",
    "    for B in Bins:\n",
    "        B.reset()\n",
    "    all_JH_values       = list()\n",
    "    all_MagLat_values   = list()\n",
    "    all_MLT_values      = list()\n",
    "    all_Altitude_values = list()\n",
    "    all_Lat_values      = list()\n",
    "    all_Kp_values       = list() \n",
    "    all_Time_values     = list()\n",
    "    all_HittedBin_IDs   = list()\n",
    "    all_EEX_values      = list()\n",
    "    all_EEY_values      = list()\n",
    "    all_Pedersen_values = list()\n",
    "    all_Density_values  = list()\n",
    "    all_Lev_values      = list()\n",
    "    all_Hall_values     = list()\n",
    "    all_ConvectionHeating_values = list()\n",
    "    all_WindHeating_values = list()\n",
    "    \n",
    "    print( \"Started Loading\", filepath, datetime.now() )\n",
    "\n",
    "    # make a list of all the files we are going to load\n",
    "    All_ResultFilenames = list()\n",
    "    if filepath[-1] == '/':\n",
    "        All_ResultFilenames = sorted( glob.glob(filepath+\"*.nc\") )\n",
    "    else:\n",
    "        All_ResultFilenames.append( filepath )\n",
    "    \n",
    "    # load each file into memory\n",
    "    for file_idx in range(0, len(All_ResultFilenames)):\n",
    "        if file_idx % 10 == 0: print( \"Now Loading\", All_ResultFilenames[file_idx] )\n",
    "        #if file_idx == 30: break\n",
    "        resultsCDF = Dataset( All_ResultFilenames[file_idx], 'r' )\n",
    "        #### load general information\n",
    "        if file_idx == 0:\n",
    "            try:\n",
    "                print( \"DateOfCreation:\", resultsCDF.DateOfCreation, \" LastExecDurationSec :\", resultsCDF.LastExecDurationSec , \"sec\" )\n",
    "                #print( \"Title:\", resultsCDF.Title, \" Description:\", resultsCDF.Description )\n",
    "                print( \"Region:\", resultsCDF.Region )\n",
    "                print( \"OrbitFile:\", resultsCDF.OrbitFile )\n",
    "                print( \"TIEGCM data path:\", resultsCDF.DataPath, \"\\n\" )\n",
    "                #print( \"Progress:\", resultsCDF.Progress, \"\\n\" )\n",
    "            except:\n",
    "                pass\n",
    "            CALCULATIONS_Title = resultsCDF.Title\n",
    "            CALCULATIONS_Description = resultsCDF.Description\n",
    "            #CALCULATIONS_ExecutionDuration = resultsCDF.LastExecDurationSec\n",
    "            CALCULATIONS_RegionName = resultsCDF.Region\n",
    "            CALCULATIONS_OrbitFilesPath = resultsCDF.OrbitFile.split()\n",
    "            CALCULATIONS_TIEGCMfolder = resultsCDF.DataPath\n",
    "        #### load data for each bin\n",
    "        if loadBinValues:\n",
    "            for B in Bins:\n",
    "                try:\n",
    "                    if loadTimeValues and len(CALCULATIONS_OrbitFilesPath) > 0: concatLists( B.Time_values, list(resultsCDF.variables[ B.ID+\"_TimeValues\" ][:]) )\n",
    "                    if loadMagLatValues: concatLists( B.MagLat_values, list(resultsCDF.variables[ B.ID+\"_MagLatValues\" ][:]) )\n",
    "                    if loadMLTvalues: concatLists( B.MLT_values, list(resultsCDF.variables[ B.ID+\"_MLTValues\" ][:]) )\n",
    "                    if loadAltValues: concatLists( B.Altitude_values, list(resultsCDF.variables[ B.ID+\"_AltitudeValues\" ][:]) )\n",
    "                    try:\n",
    "                        if loadLatValues: concatLists(B.Lat_values, list(resultsCDF.variables[ B.ID+\"_LatValues\" ][:]) )\n",
    "                    except:\n",
    "                        pass\n",
    "                    if loadKpValues: concatLists(B.Kp_values, list(resultsCDF.variables[ B.ID+\"_KpValues\" ][:]) )\n",
    "                    if SELECTED_VARIABLE == \"Ohmic\":    \n",
    "                        Ohmics = resultsCDF.variables[ B.ID+\"_ConvectionHeatingValues\" ][:] + resultsCDF.variables[ B.ID+\"_WindHeatingValues\" ][:]\n",
    "                        concatLists( B.JH_values, list(Ohmics) ) #    if SELECTED_VARIABLE == \"Ohmic\":     concatLists( B.JH_values, list(resultsCDF.variables[ B.ID+\"_ConvenctionHeatingValues\" ][:]+resultsCDF.variables[ B.ID+\"_WindHeatingValues\" ][:]) )\n",
    "                    if SELECTED_VARIABLE == \"EEX_si\":    concatLists( B.JH_values, list(resultsCDF.variables[ B.ID+\"_EEXValues\" ][:])*1000 ) #if SELECTED_VARIABLE == \"EEX_si\":    B.EEX_values = list(resultsCDF.variables[ B.ID+\"_EEXValues\" ][:])\n",
    "                    if SELECTED_VARIABLE == \"EEY_si\":    concatLists( B.JH_values, list(resultsCDF.variables[ B.ID+\"_EEYValues\" ][:])*1000 ) #if SELECTED_VARIABLE == \"EEY_si\":    B.EEY_values = list(resultsCDF.variables[ B.ID+\"_EEYValues\" ][:])\n",
    "                    if SELECTED_VARIABLE == \"SIGMA_PED\": concatLists( B.JH_values, list(resultsCDF.variables[ B.ID+\"_PedersenValues\" ][:]) ) #if SELECTED_VARIABLE == \"SIGMA_PED\": B.Pedersen_values = list(resultsCDF.variables[ B.ID+\"_PedersenValues\" ][:])\n",
    "                    if SELECTED_VARIABLE == \"SIGMA_HAL\": concatLists( B.JH_values, list(resultsCDF.variables[ B.ID+\"_HallValues\" ][:]) ) #if SELECTED_VARIABLE == \"SIGMA_HAL\": B.Hall_values = list(resultsCDF.variables[ B.ID+\"_HallValues\" ][:])\n",
    "                    try:\n",
    "                        if SELECTED_VARIABLE == \"Convection_heating\": concatLists( B.JH_values, list(resultsCDF.variables[ B.ID+\"_ConvectionHeatingValues\" ][:]) )\n",
    "                    except:\n",
    "                        if SELECTED_VARIABLE == \"Convection_heating\": concatLists( B.JH_values, list(resultsCDF.variables[ B.ID+\"_ConvenctionHeatingValues\" ][:]) )\n",
    "                    if SELECTED_VARIABLE == \"Wind_heating\": concatLists( B.JH_values, list(resultsCDF.variables[ B.ID+\"_WindHeatingValues\" ][:]) )\n",
    "                except: # data about this region do not exist inside this netcdf file\n",
    "                    continue\n",
    "        #### load collective data about all bins\n",
    "        if loadGlobalValues:\n",
    "            if loadTimeValues and len(CALCULATIONS_OrbitFilesPath) > 0: concatLists( all_Time_values, list(resultsCDF.variables[ \"allTimeValues\" ][:]) )\n",
    "            if loadMagLatValues:  concatLists( all_MagLat_values, list(resultsCDF.variables[ \"allMagLatValues\" ][:]) )\n",
    "            if loadMLTvalues: concatLists( all_MLT_values, list(resultsCDF.variables[ \"allMLTValues\" ][:]) )\n",
    "            if loadAltValues: concatLists( all_Altitude_values, list(resultsCDF.variables[ \"allAltitudeValues\" ][:]) )\n",
    "            try:\n",
    "                if loadLatValues: concatLists( all_Lat_values, list(resultsCDF.variables[ \"allLatValues\" ][:]) )\n",
    "            except:\n",
    "                pass\n",
    "            if loadKpValues: concatLists( all_Kp_values, list(resultsCDF.variables[ \"allKpValues\" ][:]) )\n",
    "            if SELECTED_VARIABLE == \"Ohmic\": \n",
    "                Ohmics = resultsCDF.variables[ \"allConvectionHeatingValues\" ][:] + resultsCDF.variables[ \"allWindHeatingValues\" ][:]\n",
    "                concatLists( all_JH_values, list(Ohmics) ) #if SELECTED_VARIABLE == \"Ohmic\":     concatLists( all_JH_values, list(resultsCDF.variables[ \"allConvenctionHeatingValues\" ][:] + resultsCDF.variables[ \"allWindHeatingValues\" ][:]) )\n",
    "            if SELECTED_VARIABLE == \"EEX_si\":    concatLists( all_JH_values, list(resultsCDF.variables[ \"allEEXValues\" ][:]*1000) )#if SELECTED_VARIABLE == \"EEX_si\":    all_EEX_values = list(resultsCDF.variables[ \"allEEXValues\" ][:])\n",
    "            if SELECTED_VARIABLE == \"EEY_si\":    concatLists( all_JH_values, list(resultsCDF.variables[ \"allEEYValues\" ][:]*1000) )#if SELECTED_VARIABLE == \"EEY_si\":    all_EEY_values = list(resultsCDF.variables[ \"allEEYValues\" ][:])\n",
    "            if SELECTED_VARIABLE == \"SIGMA_PED\": concatLists( all_JH_values, list(resultsCDF.variables[ \"allPedersenValues\" ][:]) )#if SELECTED_VARIABLE == \"SIGMA_PED\": all_Pedersen_values = list(resultsCDF.variables[ \"allPedersenValues\" ][:])\n",
    "            if SELECTED_VARIABLE == \"SIGMA_HAL\": concatLists( all_JH_values, list(resultsCDF.variables[ \"allHallValues\" ][:]) )#if SELECTED_VARIABLE == \"SIGMA_HAL\": all_Hall_values = list(resultsCDF.variables[ \"allHallValues\" ][:])\n",
    "            if SELECTED_VARIABLE == \"JH/mass\":   concatLists( all_JH_values, list(resultsCDF.variables[ \"allJHValues\" ][:]/(1000*resultsCDF.variables[ \"allDensityValues\" ][:]) ) )\n",
    "            if SELECTED_VARIABLE == \"JH/pressure\": \n",
    "                #newVals = np.zeros( len(resultsCDF.variables[ \"allJHValues\" ]) )\n",
    "                #for i in range( 0, len(resultsCDF.variables[ \"allJHValues\" ]) ):\n",
    "                #    newVals[i] = resultsCDF.variables[ \"allJHValues\" ][i]/(0.00005*math.exp(-resultsCDF.variables[ \"allLevValues\" ][i]) )  \n",
    "                #concatLists( all_JH_values, list(newVals) )\n",
    "                #print( \"QQQQ \", resultsCDF.variables[ \"allJHValues\" ][1], resultsCDF.variables[ \"allJHValues\" ][1000] )\n",
    "                #print( \"QQQQ \", resultsCDF.variables[ \"allAltitudeValues\" ][1],  resultsCDF.variables[ \"allAltitudeValues\" ][1000] )\n",
    "                concatLists( all_JH_values, list(resultsCDF.variables[ \"allJHValues\" ][:]/(0.00005*np.exp(-resultsCDF.variables[ \"allLevValues\" ][:]) ) ) )\n",
    "            try:\n",
    "                if SELECTED_VARIABLE == \"Convection_heating\": concatLists( all_JH_values, list(resultsCDF.variables[ \"allConvectionHeatingValues\" ][:]) )\n",
    "            except:\n",
    "                if SELECTED_VARIABLE == \"Convection_heating\": concatLists( all_JH_values, list(resultsCDF.variables[ \"allConvenctionHeatingValues\" ][:]) )\n",
    "            if SELECTED_VARIABLE == \"Wind_heating\": concatLists( all_JH_values, list(resultsCDF.variables[ \"allWindHeatingValues\" ][:]) )\n",
    "        #### close and go on\n",
    "        resultsCDF.close()\n",
    "    ########\n",
    "    # !!!! remove incorrect huge or negative Ohmic values\n",
    "    if (SELECTED_VARIABLE == \"Ohmic\")  and  (\"Hz\" in filepath or \"Tri\" in filepath):\n",
    "        # for each bin\n",
    "        for B in Bins:\n",
    "            if len(B.JH_values): print(B.ID, \"LENGTH BEFORE:\", len(B.JH_values))\n",
    "            huge_values = 0\n",
    "            negative_values = 0\n",
    "            nan_values = 0\n",
    "            found_at_current_round = True\n",
    "            while found_at_current_round:\n",
    "                found_at_current_round = False\n",
    "                for t in range(0, len(B.JH_values)):\n",
    "                    if B.JH_values[t] > 100 or B.JH_values[t] == float(\"inf\"):  huge_values += 1\n",
    "                    if B.JH_values[t] < 0   or B.JH_values[t] == float(\"-inf\"): negative_values += 1\n",
    "                    if np.isnan(B.JH_values[t]): nan_values += 1\n",
    "                    if B.JH_values[t]>100 or B.JH_values[t]<0 or np.isnan(B.JH_values[t]) or B.JH_values[t]==float(\"inf\") or B.JH_values[t]==float(\"-inf\"):\n",
    "                        found_at_current_round = True\n",
    "                        del B.JH_values[t]\n",
    "                        if len(B.Time_values) > 0: del B.Time_values[t]\n",
    "                        if len(B.MagLat_values) > 0: del B.MagLat_values[t]\n",
    "                        if len(B.MLT_values) > 0: del B.MLT_values[t]\n",
    "                        if len(B.Altitude_values) > 0: del B.Altitude_values[t]\n",
    "                        if len(B.Lat_values) > 0: del B.Lat_values[t]\n",
    "                        if len(B.Kp_values) > 0: del B.Kp_values[t]\n",
    "                        break\n",
    "            if len(B.JH_values): print( B.ID, \":\",  \"huge values =\", huge_values, \"negative values =\", negative_values, \"nan values =\", nan_values )\n",
    "            if len(B.JH_values): print(B.ID, \"LENGTH AFTER:\", len(B.JH_values))\n",
    "        # for arrays with all the data\n",
    "        print(\"ALL\", \"LENGTH BEFORE:\", len(all_JH_values))\n",
    "        huge_values = 0\n",
    "        negative_values = 0\n",
    "        nan_values = 0\n",
    "        found_at_current_round = True\n",
    "        while found_at_current_round:\n",
    "            found_at_current_round = False\n",
    "            for t in range(0, len(all_JH_values)):\n",
    "                if all_JH_values[t] > 100 or all_JH_values[t] == float(\"inf\"):  huge_values += 1\n",
    "                if all_JH_values[t] < 0   or all_JH_values[t] == float(\"-inf\"): negative_values += 1\n",
    "                if np.isnan(all_JH_values[t]): nan_values += 1\n",
    "                if all_JH_values[t]>100 or all_JH_values[t]<0 or np.isnan(all_JH_values[t]) or all_JH_values[t]==float(\"inf\") or all_JH_values[t]==float(\"-inf\"):\n",
    "                    found_at_current_round = True\n",
    "                    del all_JH_values[t]\n",
    "                    if len(all_Time_values) > 0: del all_Time_values[t]\n",
    "                    if len(all_MagLat_values) > 0: del all_MagLat_values[t]\n",
    "                    if len(all_MLT_values) > 0: del all_MLT_values[t]\n",
    "                    if len(all_Altitude_values) > 0: del all_Altitude_values[t]\n",
    "                    if len(all_Lat_values) > 0: del all_Lat_values[t]\n",
    "                    if len(all_Kp_values) > 0: del all_Kp_values[t]\n",
    "                    break\n",
    "        print( \"Globaly\", \":\",  \"huge values =\", huge_values, \"negative values =\", negative_values, \"nan values =\", nan_values )\n",
    "        print(\"ALL\", \"LENGTH AFTER:\", len(all_JH_values))\n",
    "    else:\n",
    "        print( \"NO correct value check:\", SELECTED_VARIABLE , filepath )\n",
    "    ########\n",
    "    CalculateStatsOnData()\n",
    "    print( \"Results loaded for\", SELECTED_VARIABLE_longname, \"    \", datetime.now(), \"\\n\" )\n",
    "\n",
    "    \n",
    "def concatLists( a, b ):\n",
    "    for item in b:\n",
    "        a.append( item )    \n",
    "    \n",
    "    \n",
    "    \n",
    "def LoadResults( filename ):\n",
    "    global CALCULATIONS_Title, CALCULATIONS_Description, CALCULATIONS_RegionName, CALCULATIONS_OrbitFilesPath, CALCULATIONS_TIEGCMfolder, CALCULATIONS_ExecutionDuration\n",
    "    global all_JH_values, all_MagLat_values, all_MLT_values, all_Altitude_values\n",
    "    if len(filename) > 0:\n",
    "        CALCULATIONS_ResultsFilename = ResultsFilename = filename\n",
    "        with open(CALCULATIONS_ResultsFilename, 'r') as F:\n",
    "            for line in F:\n",
    "                if line[0:1] == '#': # this line contains a comment, print it as it is.\n",
    "                    print ( line[1:len(line)-1] )\n",
    "                    if line.startswith(\"# Title:\"): CALCULATIONS_Title = line[8:].strip()\n",
    "                    if line.startswith(\"# Description:\"): CALCULATIONS_Description = line[14:].strip()\n",
    "                    if line.startswith(\"# Region:\"): CALCULATIONS_RegionName = line[9:].strip()\n",
    "                    if line.startswith(\"# Orbit Filename:\"): CALCULATIONS_OrbitFilesPath = line[17:].strip()\n",
    "                    if line.startswith(\"# DataPath\"): CALCULATIONS_TIEGCMfolder = line[10:].strip()\n",
    "                elif line.startswith( \"All JH values\" ) :\n",
    "                    all_JH_values = line[line.find(\":\")+1:].split(',')\n",
    "                    all_JH_values = [float(i) for i in all_JH_values]\n",
    "                elif line.startswith( \"All MagLat values\" ) :\n",
    "                    all_MagLat_values = line[line.find(\":\")+1:].split(',')\n",
    "                    all_MagLat_values = [float(i) for i in all_MagLat_values]\n",
    "                elif line.startswith( \"All MLT values\" ) :\n",
    "                    all_MLT_values = line[line.find(\":\")+1:].split(',')\n",
    "                    all_MLT_values = [float(i) for i in all_MLT_values]\n",
    "                elif line.startswith( \"All Altitude values\" ) :\n",
    "                    all_Altitude_values = line[line.find(\":\")+1:].split(',')\n",
    "                    all_Altitude_values = [float(i) for i in all_Altitude_values]                    \n",
    "                elif line.startswith( \"BIN\" ):\n",
    "                    head_of_line = line[0:20]\n",
    "                    bin_id = head_of_line[ 4: head_of_line.find(':') ]\n",
    "                    B = getBinByItsID( bin_id )\n",
    "                    data_str = line[line.find(\"=\")+1:-1].strip()\n",
    "                    if len( data_str ) > 0:\n",
    "                        values = data_str.split(',')\n",
    "                        values = [float(i) for i in values]\n",
    "                    else:\n",
    "                        values = list()\n",
    "                    if   \"MagLat\"   in head_of_line: \n",
    "                        B.MagLat_values   = values\n",
    "                    elif \"MLT\"      in head_of_line: \n",
    "                        B.MLT_values      = values\n",
    "                    elif \"Altitude\" in head_of_line: \n",
    "                        B.Altitude_values = values    \n",
    "                else: # this line contains bin info, print it and store them in the correct bin.\n",
    "                    s = line[:220]\n",
    "                    if s[-1] == '\\n': s = s[:-1]\n",
    "                    print ( s )\n",
    "                    aBinID = line[:line.find(\":\")].strip()\n",
    "                    ##\n",
    "                    str_JH = line[line.find(\"JH_values=\")+10:-1]\n",
    "                    if len( str_JH.strip() ) > 0:\n",
    "                        aBinJH_values = str_JH.split(',')\n",
    "                        aBinJH_values = [float(i) for i in aBinJH_values]\n",
    "                        for B in Bins:\n",
    "                            if B.ID == aBinID:\n",
    "                                B.JH_values = aBinJH_values\n",
    "                                break\n",
    "        F.close()\n",
    "        CalculateStatsOnData()\n",
    "    \n",
    "    \n",
    "    \n",
    "    \n",
    "    \n",
    "    \n",
    "@cuda.jit\n",
    "def Match(MAGLATs, MLTs, ALTs, KPs, JHs,   MagLat_min, MagLat_max, MLT_min,MLT_max, Altitude_min,Altitude_max, Kp_min,Kp_max,   out):\n",
    "    length_time =  60\n",
    "    length_lev  =  57\n",
    "    length_lat  =  72\n",
    "    length_lon  = 144\n",
    "    num_of_blocks  = cuda.gridDim.x   # number of blocks in the grid\n",
    "    num_of_threads = cuda.blockDim.x  # number of threads per block\n",
    "    BlockIDX  = cuda.blockIdx.x  # this is the unique block ID within the 1D grid\n",
    "    ThreadIDX = cuda.threadIdx.x # this is the unique thread ID within a 1D block\n",
    "    #start = tx + ty * block_size\n",
    "    #stride = block_size * grid_size\n",
    "    BlockStep  = int(length_lat/num_of_blocks)+1\n",
    "    ThreadStep = int(length_lon/num_of_threads)+1\n",
    "    for idx_lat in range( BlockIDX*BlockStep,  BlockIDX*BlockStep + BlockStep):\n",
    "        if idx_lat >= length_lat: continue\n",
    "        for idx_lon in range( ThreadIDX*ThreadStep,  ThreadIDX*ThreadStep + ThreadStep):\n",
    "            if idx_lon >= length_lon: continue\n",
    "            for idx_lev in range(0, length_lev):\n",
    "                if idx_lev >= length_lev: continue\n",
    "                for idx_time in range(0, length_time):\n",
    "                    if idx_time >= length_time: continue\n",
    "                    if MAGLATs[idx_time, idx_lev, idx_lat, idx_lon]      >= MagLat_min       and MAGLATs[idx_time, idx_lev, idx_lat, idx_lon] <= MagLat_max:\n",
    "                        if ALTs[idx_time, idx_lev, idx_lat, idx_lon] >= Altitude_min     and ALTs[idx_time, idx_lev, idx_lat, idx_lon]    <= Altitude_max:\n",
    "                            if KPs[idx_time] >= Kp_min and KPs[idx_time] <= Kp_max:\n",
    "                                is_MLT_in_range = False\n",
    "                                if MLT_min <= MLT_max: # example: from 13 to 18 hour\n",
    "                                    if MLTs[idx_time, idx_lev, idx_lat, idx_lon] >= MLT_min and MLTs[idx_time, idx_lev, idx_lat, idx_lon] <= MLT_max: is_MLT_in_range = True\n",
    "                                else: # example: from 22 to 3 hour\n",
    "                                    if MLTs[idx_time, idx_lev, idx_lat, idx_lon] > MLT_min or MLTs[idx_time, idx_lev, idx_lat, idx_lon] <= MLT_max: is_MLT_in_range = True\n",
    "                                if is_MLT_in_range: out[idx_time, idx_lev, idx_lat, idx_lon] = JHs[idx_time, idx_lev, idx_lat, idx_lon]\n",
    "\n",
    "def AssignJouleHeatingValuesToBins_CUDA( DataFilesPath ): # MagLat MagLoacalTime Kp Alt\n",
    "    startSecs = time.time()        \n",
    "    MagLat_min =  1000\n",
    "    MagLat_max = -1000\n",
    "    MLT_min    =  1000\n",
    "    MLT_max    = -1000\n",
    "    Altitude_min    =  1000\n",
    "    Altitude_max    = -1000\n",
    "    Lat_min     =  1000\n",
    "    Lat_max     = -1000\n",
    "    Kp_min     =  1000\n",
    "    Kp_max     = -1000\n",
    "    for B in Bins:\n",
    "        B.reset()\n",
    "        if B.MagLat_min < MagLat_min: MagLat_min = B.MagLat_min \n",
    "        if B.MagLat_max > MagLat_max: MagLat_max = B.MagLat_max\n",
    "        if B.MLT_min < MLT_min: MLT_min = B.MLT_min \n",
    "        if B.MLT_max > MLT_max: MLT_max = B.MLT_max\n",
    "        if B.Altitude_min < Altitude_min: Altitude_min = B.Altitude_min \n",
    "        if B.Altitude_max > Altitude_max: Altitude_max = B.Altitude_max\n",
    "        if B.Kp_min < Kp_min: Kp_min = B.Kp_min \n",
    "        if B.Kp_max > Kp_max: Kp_max = B.Kp_max            \n",
    "        \n",
    "    Matches = 0\n",
    "    \n",
    "    AllDataFiles = sorted( glob.glob( DataFilesPath + \"*/*.nc\", recursive=True ) )\n",
    "    for currentDataFile in AllDataFiles:\n",
    "        print( \"Reading\", currentDataFile )\n",
    "        try:\n",
    "            CDFroot = Dataset( currentDataFile, 'r' )\n",
    "        except:\n",
    "            print ( \"WRONG FORMAT:\", currentDataFile )\n",
    "            continue\n",
    "        try:\n",
    "            FileStartTimeStamp = calendar.timegm( datetime.strptime( CDFroot.variables['time'].units[14:],  \"%Y-%m-%d %H:%M:%S\" ).utctimetuple() ) # ex: \"minutes since 2015-1-1 0:0:0\"    FileStartTimeStamp = calendar.timegm( datetime.strptime( \"minutes since 2015-1-1 0:0:0\"[14:],  \"%Y-%m-%d %H:%M:%S\" ).utctimetuple() )\n",
    "        except:\n",
    "            print ( \"WRONG CONTENTS:\", currentDataFile )\n",
    "            continue            \n",
    "        length_time = CDFroot.variables['Ohmic'].shape[0]\n",
    "        length_lev  = CDFroot.variables['Ohmic'].shape[1]\n",
    "        length_lat  = CDFroot.variables['Ohmic'].shape[2]\n",
    "        length_lon  = CDFroot.variables['Ohmic'].shape[3]\n",
    "        \n",
    "        # Load or calculate all basic values from the netcdf file\n",
    "        print (\"Loading file into memory\")\n",
    "        TIMEs   = CDFroot.variables['time'][:] # minutes since the start time\n",
    "        LATs    = CDFroot.variables['lat'][:] \n",
    "        MAGLATs = CDFroot.variables['mlat_qdf'][:, :, :, :] \n",
    "        MLTs    = CDFroot.variables['mlt_qdf'][:, :, :, :]         \n",
    "        ALTs    = CDFroot.variables['ZGMID'][:, :, :, :] / 100000 # it is stored in cm inside the file\n",
    "        KPs     = CDFroot.variables['Kp'][:]\n",
    "        JHs     = CDFroot.variables['Ohmic'][:, :, :, :]\n",
    "        EEXs    = CDFroot.variables['EEX_si'][:, :, :, :] \n",
    "        EEYs    = CDFroot.variables['EEY_si'][:, :, :, :] \n",
    "        PEDs    = CDFroot.variables['SIGMA_PED'][:, :, :, :] \n",
    "        HALs    = CDFroot.variables['SIGMA_HAL'][:, :, :, :] \n",
    "\n",
    "        \n",
    "        print( \"Invoking CUDA\" )\n",
    "        MAGLATs = np.array( MAGLATs, dtype=\"float32\" )\n",
    "        MLTs = np.array( MLTs, dtype=\"float32\" )        \n",
    "        ALTs = np.array( ALTs, dtype=\"float32\" )\n",
    "        KPs = np.array( KPs, dtype=\"float32\" )\n",
    "        JHs = np.array( JHs, dtype=\"float32\" )\n",
    "        out = np.zeros(  [length_time, length_lev, length_lat, length_lon]  )\n",
    "        blocks_per_grid = (16)\n",
    "        threads_per_block = (32)\n",
    "        Match[blocks_per_grid, threads_per_block](MAGLATs, MLTs, ALTs, KPs, JHs,   MagLat_min, MagLat_max, MLT_min,MLT_max, Altitude_min,Altitude_max, Kp_min,Kp_max,   out)\n",
    "        #device_out.copy_to_host()\n",
    "        print( \"Positions in Bins:\", np.count_nonzero(out), \"/\" , out.size)\n",
    "        \n",
    "        for idx_lat in range(0, length_lat):\n",
    "            for idx_lon in range(0, length_lon):\n",
    "                for idx_lev in range(0, length_lev):\n",
    "                    for idx_time in range(0, length_time):\n",
    "                        if out[idx_time, idx_lev, idx_lat ,idx_lon] != 0:\n",
    "                            current_MLT      = MLTs[idx_time, idx_lev, idx_lat ,idx_lon]\n",
    "                            current_MagLat   = MAGLATs[idx_time, idx_lev, idx_lat ,idx_lon]\n",
    "                            current_Altitude = ALTs[idx_time, idx_lev, idx_lat ,idx_lon]\n",
    "                            current_Kp       = KPs[idx_time]\n",
    "                            current_Lat      = LATs[ idx_lat ]\n",
    "                            matchedBin = GetMatchedBin( current_MLT, current_MagLat, current_Altitude, current_Kp, current_Lat )\n",
    "                            if matchedBin is not None:\n",
    "                                current_timestamp = FileStartTimeStamp + TIMEs[idx_time]*120*60\n",
    "                                current_JH = JHs[idx_time, idx_lev, idx_lat ,idx_lon] #CDFroot.variables['Joule Heating'][idx_time, idx_lev, idx_lat, idx_lon]\n",
    "                                matchedBin.JH_values.append( current_JH )\n",
    "                                matchedBin.MagLat_values.append( current_MagLat )\n",
    "                                matchedBin.MLT_values.append( current_MLT )\n",
    "                                matchedBin.Altitude_values.append( current_Altitude )\n",
    "                                matchedBin.Kp_values.append( current_Kp )\n",
    "                                matchedBin.Time_values.append( current_timestamp )    \n",
    "                                matchedBin.EEX_values.append( EEXs[ idx_time, idx_lev, idx_lat, idx_lon ] ) \n",
    "                                matchedBin.EEY_values.append( EEYs[ idx_time, idx_lev, idx_lat, idx_lon ] ) \n",
    "                                matchedBin.Pedersen_values.append( PEDs[ idx_time, idx_lev, idx_lat, idx_lon ] ) \n",
    "                                matchedBin.Hall_values.append( HALs[ idx_time, idx_lev, idx_lat, idx_lon ] )                                 \n",
    "                                all_JH_values.append( current_JH )\n",
    "                                all_MagLat_values.append( current_MagLat )\n",
    "                                all_MLT_values.append( current_MLT )\n",
    "                                all_Altitude_values.append( current_Altitude )\n",
    "                                all_Kp_values.append( current_Kp )\n",
    "                                all_Time_values.append( current_timestamp )                                \n",
    "                                all_HittedBin_IDs.append( matchedBin.ID )\n",
    "                                all_EEX_values.append( EEXs[ idx_time, idx_lev, idx_lat, idx_lon ] )\n",
    "                                all_EEY_values.append( EEYs[ idx_time, idx_lev, idx_lat, idx_lon ] )\n",
    "                                all_Pedersen_values.append( PEDs[ idx_time, idx_lev, idx_lat, idx_lon ] )\n",
    "                                all_Hall_values.append( HALs[ idx_time, idx_lev, idx_lat, idx_lon ] )                                \n",
    "                                Matches += 1\n",
    "        \n",
    "        CDFroot.close()\n",
    "        print( Matches, \" matches so far.\" )\n",
    "    finishSecs = time.time()\n",
    "    print( finishSecs-startSecs, \" sec\")    \n",
    "    print( Matches, \"points have been assigned into bins\" )\n",
    "\n",
    "            \n",
    "#######################            #######################            #######################            \n",
    "                    #######################            #######################            \n",
    "def AssignJouleHeatingValuesToBins( DataFilesPath ):\n",
    "    global all_JH_values, all_MagLat_values, all_MLT_values, all_Altitude_values, all_Lat_values, all_Kp_values, all_Time_values, all_HittedBin_IDs  , all_EEX_values, all_EEY_values, all_Pedersen_values, all_Hall_values\n",
    "    startSecs = time.time()\n",
    "    MagLat_min =  1000\n",
    "    MagLat_max = -1000\n",
    "    MLT_min    =  1000\n",
    "    MLT_max    = -1000\n",
    "    Altitude_min    =  1000\n",
    "    Altitude_max    = -1000\n",
    "    Lat_min     =  1000\n",
    "    Lat_max     = -1000    \n",
    "    Kp_min     =  1000\n",
    "    Kp_max     = -1000\n",
    "    for B in Bins:\n",
    "        B.reset()\n",
    "        if B.MagLat_min < MagLat_min: MagLat_min = B.MagLat_min \n",
    "        if B.MagLat_max > MagLat_max: MagLat_max = B.MagLat_max\n",
    "        if B.MLT_min < MLT_min: MLT_min = B.MLT_min \n",
    "        if B.MLT_max > MLT_max: MLT_max = B.MLT_max\n",
    "        if B.Altitude_min < Altitude_min: Altitude_min = B.Altitude_min \n",
    "        if B.Altitude_max > Altitude_max: Altitude_max = B.Altitude_max\n",
    "        if B.Lat_min < Lat_min: Lat_min = B.Lat_min \n",
    "        if B.Lat_max > Lat_max: Lat_max = B.Lat_max                        \n",
    "        if B.Kp_min < Kp_min: Kp_min = B.Kp_min \n",
    "        if B.Kp_max > Kp_max: Kp_max = B.Kp_max            \n",
    "        \n",
    "    Matches = 0\n",
    "\n",
    "    # read the results file and find out until which TIEGCM file's data have been processed into it\n",
    "    ResultsFilename = DaedalusGlobals.CoverageResults_Files_Path + BinGroups_Dropdown.value + \".\" + CALCULATIONS_TIEGCMfolder[CALCULATIONS_TIEGCMfolder[:-1].rfind('/')+1:-1] + \".ValuesPerBinResults.nc\"\n",
    "    if path.exists( ResultsFilename ):\n",
    "        resultsCDF = Dataset( ResultsFilename, 'r' )\n",
    "        Progress = resultsCDF.Progress.strip()\n",
    "        resultsCDF.close()\n",
    "        if len(Progress) == 0:\n",
    "            skip = False\n",
    "        else:\n",
    "            skip = True\n",
    "    else:\n",
    "        CreateResults_CDF( ResultsFilename )\n",
    "        skip = False\n",
    "    \n",
    "    AllDataFiles = sorted( glob.glob( DataFilesPath + \"*/*.nc\", recursive=True ) )\n",
    "    for currentDataFile in AllDataFiles:\n",
    "        # skip the files which have already been processed inti the results file\n",
    "        if skip == True: \n",
    "            if currentDataFile.strip()==Progress: skip = False\n",
    "            print( \"\\nSkiping Data file:\", currentDataFile)\n",
    "            continue # <<< this file has been parsed, go on\n",
    "        # reset state\n",
    "        all_JH_values       = list()\n",
    "        all_MagLat_values   = list() \n",
    "        all_MLT_values      = list() \n",
    "        all_Altitude_values = list() \n",
    "        all_Lat_values      = list()\n",
    "        all_Kp_values       = list() \n",
    "        all_Time_values     = list()\n",
    "        all_HittedBin_IDs   = list()\n",
    "        all_EEX_values      = list()\n",
    "        all_EEY_values      = list()\n",
    "        all_Pedersen_values = list()\n",
    "        all_Hall_values     = list()\n",
    "        for B in Bins:\n",
    "            B.reset()\n",
    "            \n",
    "        # parse TIEGCM file\n",
    "        print( \"Reading\", currentDataFile )\n",
    "        try:\n",
    "            CDFroot = Dataset( currentDataFile, 'r' )\n",
    "        except:\n",
    "            print ( \"WRONG FORMAT:\", currentDataFile )\n",
    "            continue\n",
    "        try:\n",
    "            FileStartTimeStamp = calendar.timegm( datetime.strptime( CDFroot.variables['time'].units[14:],  \"%Y-%m-%d %H:%M:%S\" ).utctimetuple() ) # ex: \"minutes since 2015-1-1 0:0:0\"\n",
    "        except:\n",
    "            print ( \"WRONG CONTENTS:\", currentDataFile )\n",
    "            continue                    \n",
    "        length_time = CDFroot.variables['Ohmic'].shape[0]\n",
    "        length_lev  = CDFroot.variables['Ohmic'].shape[1]\n",
    "        length_lat  = CDFroot.variables['Ohmic'].shape[2]\n",
    "        length_lon  = CDFroot.variables['Ohmic'].shape[3]\n",
    "        # Load or calculate all basic values from the netcdf file\n",
    "        print (\"Loading file into memory\")\n",
    "        TIMEs   = CDFroot.variables['time'][:] # minutes since the start time\n",
    "        LATs    = CDFroot.variables['lat'][:] \n",
    "        ALTs    = CDFroot.variables['ZGMID'][:, :, :, :] / 100000 # it is stored in cm inside the file\n",
    "        JHs     = CDFroot.variables['Ohmic'][:, :, :, :]\n",
    "        KPs     = CDFroot.variables['Kp'][:]\n",
    "        MAGLATs = CDFroot.variables['mlat_qdf'][:, :, :, :] \n",
    "        MLTs    = CDFroot.variables['mlt_qdf'][:, :, :, :] \n",
    "        EEXs    = CDFroot.variables['EEX_si'][:, :, :, :] \n",
    "        EEYs    = CDFroot.variables['EEY_si'][:, :, :, :] \n",
    "        PEDs    = CDFroot.variables['SIGMA_PED'][:, :, :, :] \n",
    "        HALs    = CDFroot.variables['SIGMA_HAL'][:, :, :, :] \n",
    "\n",
    "        step = 1\n",
    "        for idx_lat in range(0, length_lat, step):\n",
    "            if idx_lat%30==0: print(\"Calculating Lat\",  idx_lat)\n",
    "            for idx_lon in range(0, length_lon, step):\n",
    "                for idx_lev in range(0, length_lev, step):\n",
    "                    for idx_time in range(0, length_time, step):\n",
    "                        in_Altitude_range = in_MagLat_range = in_MLT_range = in_Kp_range = in_Lat_range = False\n",
    "                        \n",
    "                        current_Altitude = ALTs[idx_time, idx_lev, idx_lat, idx_lon]\n",
    "                        if current_Altitude >= Altitude_min and current_Altitude <= Altitude_max:\n",
    "                                in_Altitude_range = True\n",
    "                        \n",
    "                        if in_Altitude_range:\n",
    "                            #current_Latitude  = LATs[ idx_lat ]    current_Longitude = LONs[ idx_lon ]     geodetic_Latitude = Conversions.geo_lat2geod_lat( current_Latitude )    TimeObj = datetime.fromtimestamp( FileStartTimeStamp + 60*TIMEs[idx_time], tz=timezone.utc )       current_MagLat, current_MagLon, current_MLT = Conversions.getMagneticProperties( TimeObj, geodetic_Latitude, current_Longitude, current_Altitude )\n",
    "                            current_MagLat = MAGLATs[ idx_time, idx_lev, idx_lat, idx_lon ]\n",
    "                            if current_MagLat >= MagLat_min and current_MagLat <= MagLat_max:\n",
    "                                in_MagLat_range = True\n",
    "                                \n",
    "                        if in_MagLat_range:\n",
    "                            current_MLT = MLTs[ idx_time, idx_lev, idx_lat, idx_lon ]\n",
    "                            if in_MagLat_range:\n",
    "                                in_MLT_range = is_MLT_inside_range( current_MLT, MLT_min, MLT_max )\n",
    "                        \n",
    "                        if in_MLT_range:\n",
    "                            current_Kp = KPs[idx_time]\n",
    "                            if current_Kp >= Kp_min and current_Kp <= Kp_max:\n",
    "                                in_Kp_range = True   \n",
    "                                \n",
    "                        if in_Kp_range: \n",
    "                            current_Lat = LATs[ idx_lat ]\n",
    "                            if current_Lat >= Lat_min and current_Lat <= Lat_max: in_Lat_range = True   \n",
    "                        ##\n",
    "                        if in_Lat_range:\n",
    "                            matchedBin = GetMatchedBin( current_MLT, current_MagLat, current_Altitude, current_Kp, current_Lat )\n",
    "                            if matchedBin is not None:\n",
    "                                current_time = int( FileStartTimeStamp + TIMEs[idx_time]*120*60 )\n",
    "                                current_JH = JHs[idx_time, idx_lev, idx_lat ,idx_lon] #CDFroot.variables['Joule Heating'][idx_time, idx_lev, idx_lat, idx_lon]\n",
    "                                matchedBin.JH_values.append( current_JH )\n",
    "                                matchedBin.MagLat_values.append( current_MagLat )\n",
    "                                matchedBin.MLT_values.append( current_MLT )\n",
    "                                matchedBin.Altitude_values.append( current_Altitude )\n",
    "                                matchedBin.Kp_values.append( current_Kp )\n",
    "                                matchedBin.Time_values.append( current_time )\n",
    "                                matchedBin.EEX_values.append( EEXs[ idx_time, idx_lev, idx_lat, idx_lon ] ) \n",
    "                                matchedBin.EEY_values.append( EEYs[ idx_time, idx_lev, idx_lat, idx_lon ] ) \n",
    "                                matchedBin.Pedersen_values.append( PEDs[ idx_time, idx_lev, idx_lat, idx_lon ] ) \n",
    "                                matchedBin.Hall_values.append( HALs[ idx_time, idx_lev, idx_lat, idx_lon ] ) \n",
    "                                all_JH_values.append( current_JH )\n",
    "                                all_MagLat_values.append( current_MagLat )\n",
    "                                all_MLT_values.append( current_MLT )\n",
    "                                all_Altitude_values.append( current_Altitude )\n",
    "                                all_Kp_values.append( current_Kp )\n",
    "                                all_Time_values.append( current_time )\n",
    "                                all_HittedBin_IDs.append( matchedBin.ID )\n",
    "                                all_EEX_values.append( EEXs[ idx_time, idx_lev, idx_lat, idx_lon ] )\n",
    "                                all_EEY_values.append( EEYs[ idx_time, idx_lev, idx_lat, idx_lon ] )\n",
    "                                all_Pedersen_values.append( PEDs[ idx_time, idx_lev, idx_lat, idx_lon ] )\n",
    "                                all_Hall_values.append( HALs[ idx_time, idx_lev, idx_lat, idx_lon ] )\n",
    "                                Matches += 1\n",
    "                            else:\n",
    "                                print( \"PARADOX at:\", current_MLT, current_MagLat, current_Altitude, current_Kp, \" :: \", idx_time, idx_lev, idx_lat, idx_lon )\n",
    "                #break\n",
    "            #break\n",
    "        CDFroot.close()\n",
    "        SaveResults_CDF( ResultsFilename, currentDataFile )\n",
    "    finishSecs = time.time()\n",
    "    print( finishSecs-startSecs, \" sec\")    \n",
    "    print( Matches, \"points have been assigned into bins\" )\n",
    "    return ResultsFilename\n",
    "    \n",
    "    \n",
    "    \n",
    "    \n",
    "'''\n",
    "TIEGCM_filesPath: the folder which has all TIEGCM netcdf files describing Earth's enviroment during the orbit's duration\n",
    "OrbitFilesPath: the folder which has all netCDF files which contain all the positions of the satellite \n",
    "'''    \n",
    "def AssignJouleHeatingValuesToBins_AlongOrbit( TIEGCM_filesPath, Orbit_filesPath ): # MagLat MagLoacalTime Kp Alt \n",
    "    # initialize\n",
    "    MagLat_min =  1000\n",
    "    MagLat_max = -1000\n",
    "    MLT_min    =  1000\n",
    "    MLT_max    = -1000\n",
    "    Altitude_min    =  1000\n",
    "    Altitude_max    = -1000\n",
    "    Lat_min     =  1000\n",
    "    Lat_max     = -1000\n",
    "    Kp_min     =  1000\n",
    "    Kp_max     = -1000\n",
    "    for B in Bins:\n",
    "        B.reset()\n",
    "        if B.MagLat_min < MagLat_min: MagLat_min = B.MagLat_min \n",
    "        if B.MagLat_max > MagLat_max: MagLat_max = B.MagLat_max\n",
    "        if B.MLT_min < MLT_min: MLT_min = B.MLT_min \n",
    "        if B.MLT_max > MLT_max: MLT_max = B.MLT_max\n",
    "        if B.Altitude_min < Altitude_min: Altitude_min = B.Altitude_min \n",
    "        if B.Altitude_max > Altitude_max: Altitude_max = B.Altitude_max\n",
    "        if B.Lat_min < Lat_min: Lat_min = B.Lat_min \n",
    "        if B.Lat_max > Lat_max: Lat_max = B.Lat_max                                \n",
    "        if B.Kp_min < Kp_min: Kp_min = B.Kp_min \n",
    "        if B.Kp_max > Kp_max: Kp_max = B.Kp_max                    \n",
    "            \n",
    "    # miscellaneous\n",
    "    currentfilenumber = -1        \n",
    "    Matches = 0\n",
    "    Errors  = 0\n",
    "    # information about the TIEGCM files\n",
    "    TIEGCMfilenamePrefix  = \"tiegcm2.0_res2.5_3years_sech_\" \n",
    "    TIEGCMfilenamePostfix = \"_JH_QD_AllVars_new\"\n",
    "\n",
    "    # read orbit file\n",
    "    current_timestamp_offset = 0 # increases after each satellite position is parsed\n",
    "    AllOrbitFiles = sorted( glob.glob( Orbit_filesPath + \"*Batch*.nc\" ) )\n",
    "    for currentOrbitFile in AllOrbitFiles:\n",
    "        current_timestamp_offset = 0 # reseted ONLY when the orbits of 2 satellites are inside the folder (one file each)\n",
    "        print( \"\\nReading Orbit file:\", currentOrbitFile )\n",
    "        try:\n",
    "            Orbit_CDF = Dataset( currentOrbitFile, 'r' )\n",
    "        except:\n",
    "            print ( \"WRONG FORMAT:\", currentDataFile )\n",
    "            continue\n",
    "        # Load data from the netCDF file\n",
    "        ORBIT_Times      = Orbit_CDF.variables['time'][:]\n",
    "        ORBIT_MagLats    = Orbit_CDF.variables['DaedalusMagneticLatitude'][:]\n",
    "        ORBIT_MLTs       = Orbit_CDF.variables['DaedalusMLT'][:]\n",
    "        ORBIT_Altitudes  = Orbit_CDF.variables['ZGMID'][:] / 100000\n",
    "        ORBIT_Lats       = Orbit_CDF.variables['lat'][:]\n",
    "        ORBIT_Ohmic      = Orbit_CDF.variables['Ohmic'][:]\n",
    "        ORBIT_Density    = Orbit_CDF.variables['DEN'][:]\n",
    "        try:\n",
    "            ORBIT_Lev    = Orbit_CDF.variables['lev'][:]\n",
    "        except:\n",
    "            ORBIT_Lev    = list()\n",
    "        try:\n",
    "            ORBIT_ConvH  = Orbit_CDF.variables['Convection_heating'][:]\n",
    "        except:\n",
    "            ORBIT_ConvH  = Orbit_CDF.variables['Convenction_heating'][:]\n",
    "        ORBIT_WindH      = Orbit_CDF.variables['Wind_heating'][:]\n",
    "        try: \n",
    "            ORBIT_EEX    = Orbit_CDF.variables['EEX_si'][:] \n",
    "        except: \n",
    "            ORBIT_EEX    = list()\n",
    "        try: \n",
    "            ORBIT_EEY    = Orbit_CDF.variables['EEY_si'][:] \n",
    "        except: \n",
    "            ORBIT_EEY    = list()  \n",
    "        try: \n",
    "            ORBIT_Pedersen = Orbit_CDF.variables['SIGMA_PED'][:] \n",
    "        except: \n",
    "            ORBIT_Pedersen = list()            \n",
    "        try: \n",
    "            ORBIT_Hall    = Orbit_CDF.variables['SIGMA_HAL'][:] \n",
    "        except: \n",
    "            ORBIT_Hall    = list()\n",
    "            \n",
    "        try:\n",
    "            orbit_start_datetime = datetime.strptime(Orbit_CDF.variables['time'].UNITS[14:], '%d %b %Y %H:%M:%S.%f')\n",
    "        except:\n",
    "            orbit_start_datetime = datetime.strptime(\"Seconds Since 1 Jan 2015 00:00:00.000\"[14:], '%d %b %Y %H:%M:%S.%f')\n",
    "            print(\"!!! ERROR while reading units of time inside NetCDF file. Assumed default value: 'Seconds Since 1 Jan 2015 00:00:00.000'\")\n",
    "        orbit_start_timestamp = calendar.timegm(orbit_start_datetime.utctimetuple())\n",
    "        orbit_timestamp_step = ORBIT_Times[1] - ORBIT_Times[0]\n",
    "        print( \"orbit_timestamp_step =\", orbit_timestamp_step )\n",
    "        num_of_positions =  len(ORBIT_Times)\n",
    "        # read the satellite positions and try to fill the bins\n",
    "        for idx in range(0, num_of_positions): # for each satellite position\n",
    "            if idx % 200000 == 0: print (\"Checking sat position No\", idx, \"of\", num_of_positions)\n",
    "            in_Altitude_range = in_MagLat_range = in_MLT_range = in_Lat_range = in_Kp_range = False\n",
    "                      \n",
    "            # check if this position lies inside some bin\n",
    "            current_Altitude = ORBIT_Altitudes[ idx ]\n",
    "            if current_Altitude >= Altitude_min and current_Altitude <= Altitude_max: in_Altitude_range = True\n",
    "            #\n",
    "            if in_Altitude_range:\n",
    "                current_MagLat = ORBIT_MagLats[ idx ]\n",
    "                if current_MagLat >= MagLat_min and current_MagLat <= MagLat_max: in_MagLat_range = True\n",
    "            #\n",
    "            if in_MagLat_range:\n",
    "                current_MLT = ORBIT_MLTs[ idx ]\n",
    "                in_MLT_range = is_MLT_inside_range( current_MLT, MLT_min, MLT_max )\n",
    "                \n",
    "            # \n",
    "            if in_MLT_range: \n",
    "                current_Lat = ORBIT_Lats[ idx ]\n",
    "                if current_Lat >= Lat_min and current_Lat <= Lat_max: in_Lat_range = True\n",
    "                    \n",
    "            if in_Lat_range==False:\n",
    "                current_MagLat = ORBIT_MagLats[ idx ]\n",
    "                current_MLT = ORBIT_MLTs[ idx ]\n",
    "                current_Lat = ORBIT_Lats[ idx ]\n",
    "                if idx % 200000 == 0: print( \"ALT:\",current_Altitude, \"MAGLAT:\", current_MagLat, \"MLT:\", current_MLT, \"LAT:\",current_Lat )\n",
    "\n",
    "            # The position is probably inside a bin (only kp remains to be checked). \n",
    "            # Open the corresponding TIEGCM file to read the kp and if position is in bin then calculate JH\n",
    "            if in_Lat_range:\n",
    "                current_timestamp = orbit_start_timestamp + current_timestamp_offset\n",
    "                current_datetime  = datetime.utcfromtimestamp( current_timestamp )\n",
    "                \n",
    "                # Locate the corresponding TIEGCM file and timestep inside the file\n",
    "                # one TIEGCM file contains 60 timesteps, 1 per 120min. The file's duration is 5 days. Each year consists of 74 files (the last file is smaller)\n",
    "                start_of_current_year_datetime  = datetime.strptime(\"01 Jan \" + str(current_datetime.year) + \" 00:00:00\", '%d %b %Y %H:%M:%S')\n",
    "                start_of_current_year_timestamp = calendar.timegm(start_of_current_year_datetime.utctimetuple())\n",
    "                newfilenumber = int(  ( (current_timestamp - start_of_current_year_timestamp)/(60*120) ) / 60  ) \n",
    "                tmp = (current_timestamp - start_of_current_year_timestamp)/(60*120) - newfilenumber*60 \n",
    "                timestep_number = int( tmp )\n",
    "                if tmp - float(timestep_number) > 0.5: timestep_number += 1 # select the nearest neighbor\n",
    "                if  ( current_timestamp==start_of_current_year_timestamp  or  (current_timestamp - start_of_current_year_timestamp)/(60*120) ) % 60  !=  0: newfilenumber += 1 # file numbers start from 1\n",
    "                if current_datetime.year == 2016: newfilenumber += 74\n",
    "                if current_datetime.year == 2017: newfilenumber += 148\n",
    "                \n",
    "                # open the TIEGCM file if necessary\n",
    "                if currentfilenumber < 0   or   currentfilenumber != newfilenumber:\n",
    "                    if currentfilenumber >= 0: \n",
    "                        try:\n",
    "                            tiegcm_CDF.close()\n",
    "                        except:\n",
    "                            print(\"Error closing tiegcm file no\", currentfilenumber )\n",
    "                    TIEGCMfilename = TIEGCM_filesPath + \"TIEGCM_\" + str(current_datetime.year) + \"/\" + TIEGCMfilenamePrefix + \"{:03.0f}\".format(newfilenumber) + TIEGCMfilenamePostfix + \".nc\"\n",
    "                    currentfilenumber = newfilenumber\n",
    "                    print(  \"Opening TIEGCMfile:\", TIEGCMfilename)\n",
    "                    try:\n",
    "                        tiegcm_CDF = Dataset( TIEGCMfilename, 'r' )\n",
    "                    except Exception as ex:\n",
    "                        print ( \"FILE NOT FOUND OR WRONG FORMAT:\", TIEGCMfilename )\n",
    "                        print(ex,\"\\n--------------\")\n",
    "                        continue\n",
    "                        \n",
    "                # read Kp from the tiegcm file\n",
    "                try:\n",
    "                    current_Kp = tiegcm_CDF.variables['Kp'][timestep_number]\n",
    "                except:\n",
    "                    #print(\"%%%%%%%%%%%%%%%%%%%%%\")\n",
    "                    #print(len(tiegcm_CDF.variables['Kp']), timestep_number)\n",
    "                    #print( current_datetime, current_timestamp, start_of_current_year_timestamp )\n",
    "                    #print(TIEGCMfilename)\n",
    "                    #print(\"%%%%%%%%%%%%%%%%%%%%%\")\n",
    "                    try:\n",
    "                        current_Kp = tiegcm_CDF.variables['Kp'][timestep_number-1]\n",
    "                    except:\n",
    "                        print( \"!!!! !!!! Timestep Error\",  timestep_number) # \"of\", len(tiegcm_CDF.variables['Kp']) )\n",
    "                        continue\n",
    "                    \n",
    "                if current_Kp >= Kp_min and current_Kp <= Kp_max:\n",
    "                    in_Kp_range = True \n",
    "                    \n",
    "                # if the satellite position matches a bin then mark it as a hit and remember the JH values \n",
    "                if in_MagLat_range and in_MLT_range and in_Altitude_range and in_Kp_range:\n",
    "                    matchedBin = GetMatchedBin( current_MLT, current_MagLat, current_Altitude, current_Kp, current_Lat )\n",
    "                    if matchedBin is not None:\n",
    "                        # for this position locate the neighbor latitudes at the TIEGCM file. \n",
    "                        #lat1_idx, lat2_idx, lat1_val, lat2_val = findNeighborValues( TIEGCM_Lats, current_GeogLat )\n",
    "                        # for this position locate the neighbor longitudes at the TIEGCM file.\n",
    "                        #lon1_idx, lon2_idx, lon1_val, lon2_val = findNeighborValues( TIEGCM_Lons, current_Lon )\n",
    "                        # for this position locate the neighbor Altitudes at the TIEGCM file. \n",
    "                        #lev1_idx, lev2_idx, lev1_val, lev2_val = findNeighborValues( CDFroot.variables['ZGMID'][time_idx, :, lat_idx, lon_idx], current_Altitude )\n",
    "                        current_JH = ORBIT_Ohmic[ idx ]\n",
    "                        #if math.isnan(current_JH): \n",
    "                        #    print( \"Found JH equal with None at file \", TIEGCMfilename, \"timestep=\", timestep_number, \"altitude=\", ORBIT_Altitudes[idx], idx )\n",
    "                        #    Errors += 1\n",
    "                        #    if Errors > 20 *100000:\n",
    "                        #        print(\"Too many errors. Aborting\")\n",
    "                        #        return\n",
    "                        #    else:\n",
    "                        #        continue\n",
    "                        # save \n",
    "                        matchedBin.JH_values.append( current_JH )\n",
    "                        matchedBin.MagLat_values.append( current_MagLat )\n",
    "                        matchedBin.MLT_values.append( current_MLT )\n",
    "                        matchedBin.Altitude_values.append( current_Altitude )\n",
    "                        matchedBin.Lat_values.append( current_Lat )\n",
    "                        matchedBin.Kp_values.append( current_Kp )\n",
    "                        matchedBin.Time_values.append( current_timestamp )\n",
    "                        matchedBin.EEX_values.append( ORBIT_EEX[ idx ] ) \n",
    "                        matchedBin.EEY_values.append( ORBIT_EEY[ idx ] ) \n",
    "                        matchedBin.Pedersen_values.append( ORBIT_Pedersen[ idx ] ) \n",
    "                        matchedBin.Density_values.append( ORBIT_Density[ idx ] ) \n",
    "                        if len(ORBIT_Lev) > 0: matchedBin.Lev_values.append( ORBIT_Lev[ idx ] )\n",
    "                        matchedBin.ConvectionHeating_values.append( ORBIT_ConvH[ idx ] )\n",
    "                        matchedBin.WindHeating_values.append( ORBIT_WindH[ idx ] )\n",
    "                        if len(ORBIT_Hall) > 0: \n",
    "                            matchedBin.Hall_values.append( ORBIT_Hall[ idx ] ) \n",
    "                        all_JH_values.append( current_JH )\n",
    "                        all_MagLat_values.append( current_MagLat )\n",
    "                        all_MLT_values.append( current_MLT )\n",
    "                        all_Altitude_values.append( current_Altitude )\n",
    "                        all_Lat_values.append( current_Lat )\n",
    "                        all_Kp_values.append( current_Kp )\n",
    "                        all_Time_values.append( current_timestamp )\n",
    "                        all_HittedBin_IDs.append( matchedBin.ID )\n",
    "                        all_EEX_values.append( ORBIT_EEX[ idx ] )\n",
    "                        all_EEY_values.append( ORBIT_EEY[ idx ] )\n",
    "                        all_Pedersen_values.append( ORBIT_Pedersen[ idx ] )\n",
    "                        all_Density_values.append( ORBIT_Density[ idx ] )\n",
    "                        if len(ORBIT_Lev) > 0: all_Lev_values.append( ORBIT_Lev[ idx ] )\n",
    "                        all_ConvectionHeating_values.append( ORBIT_ConvH[ idx ] )\n",
    "                        all_WindHeating_values.append( ORBIT_WindH[ idx ] )\n",
    "                        if len(ORBIT_Hall) > 0: all_Hall_values.append( ORBIT_Hall[ idx ] )\n",
    "                        Matches += 1\n",
    "                    else:\n",
    "                        print( \"PARADOX at:\", current_MLT, current_MagLat, current_Altitude, current_Kp, \" :: \", time_idx, lev_idx, lat_idx, lon_idx )\n",
    "            current_timestamp_offset += orbit_timestamp_step\n",
    "    # clean up\n",
    "    print( Matches, \"satellite positions where matched inside bins.\" )\n",
    "    try:\n",
    "        CDFroot.close()\n",
    "    except:\n",
    "        print (\".\")\n",
    "    \n",
    "    \n",
    "    \n",
    "'''\n",
    "TIEGCM_filesPath: the folder which has all TIEGCM netcdf files describing Earth's enviroment during the orbit's duration\n",
    "OrbitFilename: csv file containing all the positions of the satellite \n",
    "'''    \n",
    "def AssignJouleHeatingValuesToBins_AlongOrbit_forCSVorbit( TIEGCM_filesPath, OrbitFilename ): # MagLat MagLoacalTime Kp Alt \n",
    "    # initialize\n",
    "    MagLat_min =  1000\n",
    "    MagLat_max = -1000\n",
    "    MLT_min    =  1000\n",
    "    MLT_max    = -1000\n",
    "    Altitude_min    =  1000\n",
    "    Altitude_max    = -1000\n",
    "    Kp_min     =  1000\n",
    "    Kp_max     = -1000\n",
    "    for B in Bins:\n",
    "        B.reset()\n",
    "        if B.MagLat_min < MagLat_min: MagLat_min = B.MagLat_min \n",
    "        if B.MagLat_max > MagLat_max: MagLat_max = B.MagLat_max\n",
    "        if B.MLT_min < MLT_min: MLT_min = B.MLT_min \n",
    "        if B.MLT_max > MLT_max: MLT_max = B.MLT_max\n",
    "        if B.Altitude_min < Altitude_min: Altitude_min = B.Altitude_min \n",
    "        if B.Altitude_max > Altitude_max: Altitude_max = B.Altitude_max\n",
    "        if B.Kp_min < Kp_min: Kp_min = B.Kp_min \n",
    "        if B.Kp_max > Kp_max: Kp_max = B.Kp_max            \n",
    "        \n",
    "    # information about the TIEGCM files\n",
    "    TIEGCMfilenamePrefix  = \"tiegcm2.0_res2.5_3years_sech_\" \n",
    "    TIEGCMfilenamePostfix = \"_JH_QD_AllVars\"\n",
    "    CDFroot = Dataset( TIEGCM_filesPath + TIEGCMfilenamePrefix + \"002\" + TIEGCMfilenamePostfix + \".nc\", 'r' )  # open a tiegcm file\n",
    "    TIEGCM_StartTimeStamp  = calendar.timegm( datetime.strptime( CDFroot.variables['time'].units[14:],  \"%Y-%m-%d %H:%M:%S\" ).utctimetuple() ) # ex: \"minutes since 2015-1-1 0:0:0\"\n",
    "    #TIEGCM_StartTimeStamp  = calendar.timegm( datetime.strptime( \"minutes since 2015-1-1 0:0:0\"[14:],  \"%Y-%m-%d %H:%M:%S\" ).utctimetuple() ) \n",
    "    TIEGCM_TimeStep_sec    = (CDFroot.variables['time'][1] - CDFroot.variables['time'][0]) * 60 # every how many seconds a measurement is stored in the file\n",
    "    TIEGCM_NumOfTimeSteps  = len( CDFroot.variables['time'][:] ) # the number of timesteps stored in the file\n",
    "    TIEGCM_Lats = CDFroot.variables['lat'][:]\n",
    "    TIEGCM_Lons = CDFroot.variables['lon'][:]\n",
    "    CDFroot.close()\n",
    "    # miscellaneous\n",
    "    currentfilenumber = -1\n",
    "    Matches = 0\n",
    "    time_idx = lat_idx = lon_idx = lev_idx = -1\n",
    "    print( \"TIEGCM UNIVERSE:\")\n",
    "    print( \"    Start Time =\", \"(UTC:\"+str(TIEGCM_StartTimeStamp)+\")\", datetime.fromtimestamp(TIEGCM_StartTimeStamp) )\n",
    "    print( \"    Time-step  =\", str(TIEGCM_TimeStep_sec)+\"sec\" + \" #steps/file =\", TIEGCM_NumOfTimeSteps, \" Duration/file =\", str(TIEGCM_NumOfTimeSteps*TIEGCM_TimeStep_sec/(60*60))+\"hours\", \"\\n\" )\n",
    "    \n",
    "    # read orbit file\n",
    "    with open( OrbitFilename ) as CSVfile:        \n",
    "        CSVreader = csv.reader( CSVfile )\n",
    "        # locate the column numnbers of interest inside the csv file\n",
    "        CSVheader = next( CSVreader )\n",
    "        Time_col     = CSVheader.index( \"Epoch(UTCG)\" ) #CSVheader.index( \"Daedalus.EpochText\" )\n",
    "        Lat_col      = CSVheader.index( \"Lat_GEOD(deg)\" ) #CSVheader.index( \"Daedalus.Latitude\" )\n",
    "        Lon_col      = CSVheader.index( \"Lon_GEOD(deg)\" ) #CSVheader.index( \"Daedalus.Longitude\" )\n",
    "        Altitude_col = CSVheader.index( \"Height_WGS84 (km)\" ) #CSVheader.index( \"Daedalus.Height\" )\n",
    "        MagLat_col   = CSVheader.index( \"Daedalus.Magnetic Latitude\" )\n",
    "        MLT_col      = CSVheader.index( \"Daedalus.MLT\" )\n",
    "        # read the satellite positions and try to fill the bins\n",
    "        line_count = 0\n",
    "        for row in CSVreader: # for each satellite position\n",
    "            line_count += 1\n",
    "            if line_count % 200000 == 0: print (\"Checking sat position No\", line_count, \"of\", row[Time_col])\n",
    "            current_GeodLat = float( row[Lat_col] )\n",
    "            current_GeogLat = float( row[Lat_col] ) # TODO: read correct column from orbit file\n",
    "            current_Lon = float( row[Lon_col] )\n",
    "            current_Altitude = float( row[Altitude_col] )\n",
    "            in_Altitude_range = in_MagLat_range = in_MLT_range = in_Kp_range = False\n",
    "                      \n",
    "            # check if this position lies inside some bin\n",
    "            current_Altitude = float( row[Altitude_col] )\n",
    "            if current_Altitude >= Altitude_min and current_Altitude <= Altitude_max:\n",
    "                in_Altitude_range = True\n",
    "            #\n",
    "            if in_Altitude_range:\n",
    "                current_MagLat = float( row[MagLat_col] )\n",
    "                if current_MagLat >= MagLat_min and current_MagLat <= MagLat_max:\n",
    "                    in_MagLat_range = True\n",
    "            #\n",
    "            if in_MagLat_range:\n",
    "                current_MLT = float( row[MLT_col] )\n",
    "                in_MLT_range = is_MLT_inside_range( current_MLT, MLT_min, MLT_max )\n",
    "\n",
    "            # The position is probably inside a bin (only kp remains to be checked). \n",
    "            # Open the corresponding TIEGCM file to read the kp and if position is in bin then calculate JH\n",
    "            if in_MLT_range:\n",
    "                current_time = parseDaedalusDate( row[Time_col] )\n",
    "                current_timestamp = calendar.timegm(current_time.utctimetuple())\n",
    "                if current_time == None:\n",
    "                    print( \"ERROR during coverage calculation while reading\", OrbitFilename, \": Wrong time format:\", row[Time_col], \"at line\", line_count )\n",
    "                    return # <<<<\n",
    "                # TODO remove after testing:\n",
    "                if current_time.year > 2024:  current_time = current_time - relativedelta(years=13)\n",
    "                # open the correct TIEGCM file according to time\n",
    "                current_timestep_number = (current_timestamp - TIEGCM_StartTimeStamp) / TIEGCM_TimeStep_sec\n",
    "                newfilenumber = int(( current_timestep_number ) / TIEGCM_NumOfTimeSteps) + 1\n",
    "                \n",
    "                #print( \"ZAZA\", \"orbit t=\", current_time , \"timestep_num=\", current_timestep_number, \"  filenum=\", newfilenumber )\n",
    "                if newfilenumber<=1 or newfilenumber > 73: continue # TODO del this line\n",
    "                    \n",
    "                if currentfilenumber < 0   or   currentfilenumber != newfilenumber:\n",
    "                    if currentfilenumber >= 0: CDFroot.close()\n",
    "                    TIEGCMfilename = TIEGCM_filesPath + TIEGCMfilenamePrefix + \"{:03.0f}\".format(newfilenumber) + TIEGCMfilenamePostfix + \".nc\"\n",
    "                    currentfilenumber = newfilenumber\n",
    "                    print(  \"Opening TIEGCMfile:\", TIEGCMfilename)\n",
    "                    try:\n",
    "                        CDFroot = Dataset( TIEGCMfilename, 'r' )\n",
    "                    except:\n",
    "                        print ( \"FILE NOT FOUND OR WRONG FORMAT:\", TIEGCMfilename )\n",
    "                        continue\n",
    "                # calculate the time-step inside the TIEGCM which corresponds to the satellite time \n",
    "                time_idx = int(  current_timestep_number - (newfilenumber-1)*TIEGCM_NumOfTimeSteps  )\n",
    "                # read Kp from the tiegcm file\n",
    "                \n",
    "                current_Kp = CDFroot.variables['Kp'][time_idx]\n",
    "                if current_Kp >= Kp_min and current_Kp <= Kp_max:\n",
    "                    in_Kp_range = True \n",
    "                # if the satellite position matches a bin then mark it as a hit and remember the JH values \n",
    "                if in_MagLat_range and in_MLT_range and in_Altitude_range and in_Kp_range:\n",
    "                    matchedBin = GetMatchedBin( current_MLT, current_MagLat, current_Altitude, current_Kp )\n",
    "                    if matchedBin is not None:\n",
    "                        # for this position locate the neighbor latitudes at the TIEGCM file. \n",
    "                        lat1_idx, lat2_idx, lat1_val, lat2_val = findNeighborValues( TIEGCM_Lats, current_GeogLat )\n",
    "                        # for this position locate the neighbor longitudes at the TIEGCM file.\n",
    "                        lon1_idx, lon2_idx, lon1_val, lon2_val = findNeighborValues( TIEGCM_Lons, current_Lon )\n",
    "                        # for this position locate the neighbor Altitudes at the TIEGCM file. \n",
    "                        lev1_idx, lev2_idx, lev1_val, lev2_val = findNeighborValues( CDFroot.variables['ZGMID'][time_idx, :, lat_idx, lon_idx], current_Altitude )\n",
    "                        # TODO: TRILINEAR INTERPOLATION\n",
    "                        current_JH  = CDFroot.variables['Ohmic'][time_idx, lev1_idx, lat1_idx, lon1_idx] \n",
    "                        current_EEX = CDFroot.variables['EEX_si'][time_idx, lev1_idx, lat1_idx, lon1_idx] \n",
    "                        current_EEY = CDFroot.variables['EEY_si'][time_idx, lev1_idx, lat1_idx, lon1_idx] \n",
    "                        current_PED = CDFroot.variables['SIGMA_PED'][time_idx, lev1_idx, lat1_idx, lon1_idx] \n",
    "                        current_HAL = CDFroot.variables['SIGMA_HAL'][time_idx, lev1_idx, lat1_idx, lon1_idx] \n",
    "                        # save \n",
    "                        matchedBin.JH_values.append( current_JH )\n",
    "                        matchedBin.MagLat_values.append( current_MagLat )\n",
    "                        matchedBin.MLT_values.append( current_MLT )\n",
    "                        matchedBin.Altitude_values.append( current_Altitude )\n",
    "                        matchedBin.Kp_values.append( current_Kp )\n",
    "                        matchedBin.Time_values.append( current_timestamp )\n",
    "                        matchedBin.EEX_values.append( current_EEX ) \n",
    "                        matchedBin.EEY_values.append( current_EEY ) \n",
    "                        matchedBin.Pedersen_values.append( current_PED ) \n",
    "                        matchedBin.Hall_values.append( current_HAL )                         \n",
    "                        all_JH_values.append( current_JH )\n",
    "                        all_MagLat_values.append( current_MagLat )\n",
    "                        all_MLT_values.append( current_MLT )\n",
    "                        all_Altitude_values.append( current_Altitude )\n",
    "                        all_Kp_values.append( current_Kp )\n",
    "                        all_Time_values.append( current_timestamp )\n",
    "                        all_HittedBin_IDs.append( matchedBin.ID )\n",
    "                        all_EEX_values.append( current_EEX )\n",
    "                        all_EEY_values.append( current_EEY )\n",
    "                        all_Pedersen_values.append( current_PED )\n",
    "                        all_Hall_values.append( current_HAL )                        \n",
    "                        Matches += 1\n",
    "                    else:\n",
    "                        print( \"PARADOX at:\", current_MLT, current_MagLat, current_Altitude, current_Kp, \" :: \", time_idx, lev_idx, lat_idx, lon_idx )\n",
    "                        \n",
    "    # clean up\n",
    "    print( Matches, \"satellite positions where matched inside bins.\" )\n",
    "    try:\n",
    "        CDFroot.close()\n",
    "    except:\n",
    "        print (\".\")\n",
    "    \n",
    "\n",
    "    \n",
    "\n",
    "# Finds the neighbor values of <aValue> inside the list.    \n",
    "# aList: a list of floats, with ascending sorting\n",
    "# aValue: a float value\n",
    "# RETURNS:\n",
    "#    the value of the lesser Neighbor, the value of the greater Neighbor, the index of the lesser Neighbor, the index of the greater Neighbor, \n",
    "def findNeighborValues( aList, aValue ):\n",
    "    listlength = len(aList)\n",
    "    stop_idx = -1\n",
    "    for i in range( 0, listlength ):\n",
    "        if aValue < aList[i]:\n",
    "            stop_idx = i\n",
    "            break\n",
    "    if stop_idx == -1: # <aValue> is greater than all the values of the list\n",
    "        LesserNeighborIdx  = listlength - 1\n",
    "        GreaterNeighborIdx = 0\n",
    "    elif stop_idx == 0: # <aValue> is lesser than all the values of the list\n",
    "        LesserNeighborIdx  = listlength - 1\n",
    "        GreaterNeighborIdx = 0\n",
    "    else:\n",
    "        LesserNeighborIdx  = stop_idx-1\n",
    "        GreaterNeighborIdx = stop_idx\n",
    "    #\n",
    "    return LesserNeighborIdx, GreaterNeighborIdx, aList[LesserNeighborIdx], aList[GreaterNeighborIdx]\n",
    "        \n",
    "    \n",
    "    \n",
    "def CalculateStatsOnData():\n",
    "    for B in Bins:\n",
    "        if len(B.JH_values) > 0:\n",
    "            # calculate the mean value\n",
    "            for aJHvalue in B.JH_values:\n",
    "                if B.JH_min > aJHvalue: B.JH_min = aJHvalue\n",
    "                if B.JH_max < aJHvalue: B.JH_max = aJHvalue\n",
    "                B.JH_mean += aJHvalue\n",
    "            B.JH_mean = B.JH_mean / len(B.JH_values)\n",
    "            \n",
    "            # calculate the median value\n",
    "            B.JH_median = np.percentile(B.JH_values, 50)\n",
    "            \n",
    "            # for Variance (around mean):\n",
    "            for aJHvalue in B.JH_values:\n",
    "                B.JH_variance += abs(aJHvalue - B.JH_mean)**2\n",
    "            B.JH_variance = B.JH_variance / len(B.JH_values)\n",
    "            \n",
    "            # for Median Variance (around median):\n",
    "            for aJHvalue in B.JH_values:\n",
    "                B.JH_medianVariance += abs(aJHvalue - B.JH_median)**2\n",
    "            B.JH_medianVariance = B.JH_medianVariance / len(B.JH_values)\n",
    "            \n",
    "            # for Median absolute deviation\n",
    "            AbsoluteDeviations = B.JH_values.copy()\n",
    "            for i in range(0, len(AbsoluteDeviations)):\n",
    "                AbsoluteDeviations[i] = abs(B.JH_median - AbsoluteDeviations[i])\n",
    "            B.JH_medianAbsDev = np.percentile(AbsoluteDeviations, 50)\n",
    "            \n",
    "\n",
    "        \n",
    "        \n",
    "\n",
    "#################### EVENT LISTENERS ###########################\n",
    "def Exec_Btn_Clicked( b ):\n",
    "    global Bins\n",
    "    global CALCULATIONS_Title, CALCULATIONS_Description, CALCULATIONS_RegionName, CALCULATIONS_OrbitFilesPath, CALCULATIONS_TIEGCMfolder, CALCULATIONS_ExecutionDuration\n",
    "    CALCULATIONS_Title         = ExecutionTitle_Text.value\n",
    "    CALCULATIONS_Description   = ExecutionDescr_Text.value\n",
    "    CALCULATIONS_RegionName    = BinGroups_Dropdown.value\n",
    "    CALCULATIONS_OrbitFilesPath = \"\"\n",
    "    CALCULATIONS_TIEGCMfolder      = tiegcmFolder_Dropdown.value\n",
    "    # remove all other bin-groups so that calculation is faster\n",
    "    newBins = list()\n",
    "    for B in Bins:\n",
    "        if B.ID.startswith( BinGroups_Dropdown.value ): newBins.append( B )\n",
    "    Bins = newBins\n",
    "    CALCULATIONS_RegionName = Bins[0].Description + \" (\" + Bins[0].ID[:3] + \")\"\n",
    "    # do it\n",
    "    startSecs = time.time()\n",
    "    print( \"Calculation for TIEGCM grid started.\", datetime.now() )\n",
    "    ResultsFilename = AssignValuesPerBin_MultipleResultFiles(CALCULATIONS_TIEGCMfolder)  #AssignJouleHeatingValuesToBins( CALCULATIONS_TIEGCMfolder )\n",
    "    CalculateStatsOnData()\n",
    "    finishSecs = time.time()   \n",
    "    CALCULATIONS_ExecutionDuration = finishSecs-startSecs\n",
    "    # print info\n",
    "    print( \"Duration\", CALCULATIONS_ExecutionDuration, \"seconds.\" )\n",
    "    print( \"Calculation for TIEGCM grid finshed in \" + str(CALCULATIONS_ExecutionDuration) + \" seconds.\" )\n",
    "    print( \"RESULTS (stored in \" + ResultsFilename + \"):\" )\n",
    "    for B in Bins:\n",
    "        B.printMe()\n",
    "    # re-initialize the bins\n",
    "    InitializeBins()\n",
    "    print( \"Please re-run the notebook and load the results in order to plot them.\" )\n",
    "\n",
    "        \n",
    "def Exec_Btn_alongOrbit_Clicked( b ):\n",
    "    global Bins\n",
    "    global CALCULATIONS_Title, CALCULATIONS_Description, CALCULATIONS_RegionName, CALCULATIONS_OrbitFilesPath, CALCULATIONS_TIEGCMfolder, CALCULATIONS_ExecutionDuration\n",
    "    CALCULATIONS_Title          = ExecutionTitle_Text.value\n",
    "    CALCULATIONS_Description    = ExecutionDescr_Text.value\n",
    "    CALCULATIONS_RegionName     = BinGroups_Dropdown.value\n",
    "    CALCULATIONS_OrbitFilesPath = OrbitFilesPath_Dropdown.value\n",
    "    CALCULATIONS_TIEGCMfolder       = tiegcmFolder_Dropdown.value\n",
    "    ResultsFilename = DaedalusGlobals.CoverageResults_Files_Path + BinGroups_Dropdown.value + \".\" + CALCULATIONS_TIEGCMfolder[CALCULATIONS_TIEGCMfolder[:-1].rfind('/')+1:-1] + \".\" + CALCULATIONS_OrbitFilesPath[CALCULATIONS_OrbitFilesPath[:-1].rfind('/')+1:-1] + \".ValuesPerBinResults.nc\"\n",
    "    if path.exists( ResultsFilename ):\n",
    "        print( \"File \" + ResultsFilename + \" already exists. Cannot continue in order to prevent overwriting useful data.\" )\n",
    "    else:\n",
    "        # remove all other bin-groups so that calculation is faster\n",
    "        newBins = list()\n",
    "        for B in Bins:\n",
    "            if B.ID.startswith( BinGroups_Dropdown.value ): newBins.append( B )\n",
    "        Bins = newBins\n",
    "        # calculate\n",
    "        print( \"Joule-Heating-per-Bin-Along-Orbit calculation started.\", datetime.now() )\n",
    "        print( \"Reading TIEGCM file from\", CALCULATIONS_TIEGCMfolder )\n",
    "        print( \"Results will be stored in\", ResultsFilename, \"\\n\" )\n",
    "        startSecs = time.time()\n",
    "        AssignJouleHeatingValuesToBins_AlongOrbit( CALCULATIONS_TIEGCMfolder, CALCULATIONS_OrbitFilesPath )\n",
    "        CalculateStatsOnData()\n",
    "        finishSecs = time.time()   \n",
    "        CALCULATIONS_ExecutionDuration = finishSecs-startSecs\n",
    "        #SaveResults_TXT( ResultsFilename ) \n",
    "        SaveResults_CDF( ResultsFilename.replace(\".txt\", \".nc\"), \"\" ) \n",
    "        # print info\n",
    "        print( \"Duration\", CALCULATIONS_ExecutionDuration, \"seconds.\" )\n",
    "        print( \"Joule-Heating-per-Bin Calculation finshed in \" + str(CALCULATIONS_ExecutionDuration) + \" seconds.\" )\n",
    "        print( \"RESULTS (stored in \" + ResultsFilename + \"):\" )\n",
    "        for B in Bins:\n",
    "            B.printMe()\n",
    "        # re-initialize the bins\n",
    "        InitializeBins()\n",
    "\n",
    "\n",
    "\n",
    "\n",
    "        \n",
    "def Load_Btn_Clicked( b ):\n",
    "    global SELECTED_VARIABLE, SELECTED_VARIABLE_longname, SELECTED_VARIABLE_shortname, SELECTED_VARIABLE_units  \n",
    "    # set the selected variable as user has chosen\n",
    "    if Variable_DropDown.value == \"Joule Heating\":\n",
    "        SELECTED_VARIABLE = \"Ohmic\"\n",
    "        SELECTED_VARIABLE_longname  = \"Joule Heating\"\n",
    "        SELECTED_VARIABLE_shortname = \"JH\"\n",
    "        SELECTED_VARIABLE_units     = \"W/m3\"        \n",
    "    elif Variable_DropDown.value == \"Electric Field North\":\n",
    "        SELECTED_VARIABLE = \"EEY_si\"\n",
    "        SELECTED_VARIABLE_longname  = \"Electric Field North\"\n",
    "        SELECTED_VARIABLE_shortname = \"EF(N)\"\n",
    "        SELECTED_VARIABLE_units     = \"mV/m\"\n",
    "    elif Variable_DropDown.value == \"Electric Field East\":\n",
    "        SELECTED_VARIABLE = \"EEX_si\"\n",
    "        SELECTED_VARIABLE_longname  = \"Electric Field East\"\n",
    "        SELECTED_VARIABLE_shortname = \"ED(E)\"\n",
    "        SELECTED_VARIABLE_units     = \"mV/m\"\n",
    "    elif Variable_DropDown.value == \"Pedersen Conductivity\":\n",
    "        SELECTED_VARIABLE = \"SIGMA_PED\"\n",
    "        SELECTED_VARIABLE_longname  = \"Pedersen Conductivity\"\n",
    "        SELECTED_VARIABLE_shortname = \"Pedersen\"\n",
    "        SELECTED_VARIABLE_units     = \"S/m\"\n",
    "    elif Variable_DropDown.value == \"Hall Conductivity\":\n",
    "        SELECTED_VARIABLE = \"SIGMA_HAL\"\n",
    "        SELECTED_VARIABLE_longname  = \"Hall Conductivity\"\n",
    "        SELECTED_VARIABLE_shortname = \"Hall\"\n",
    "        SELECTED_VARIABLE_units     = \"S/m\"\n",
    "    elif Variable_DropDown.value == \"Convection Heating\":\n",
    "        SELECTED_VARIABLE = \"Convection_heating\"\n",
    "        SELECTED_VARIABLE_longname  = \"Convection Heating\"\n",
    "        SELECTED_VARIABLE_shortname = \"Conv.h.\"\n",
    "        SELECTED_VARIABLE_units     = \"W/m3\"\n",
    "    elif Variable_DropDown.value == \"Wind Correction\":\n",
    "        SELECTED_VARIABLE = \"Wind_heating\"\n",
    "        SELECTED_VARIABLE_longname  = \"Wind Correction\"\n",
    "        SELECTED_VARIABLE_shortname = \"Wind.Cor.\"\n",
    "        SELECTED_VARIABLE_units     = \"W/m3\"            \n",
    "    elif Variable_DropDown.value == \"JH/mass\":\n",
    "        SELECTED_VARIABLE = \"JH/mass\"\n",
    "        SELECTED_VARIABLE_longname  = \"JH/mass\"\n",
    "        SELECTED_VARIABLE_shortname = \"JH/mass\"\n",
    "        SELECTED_VARIABLE_units     = \"W/kg\"            \n",
    "    elif Variable_DropDown.value == \"JH/pressure\":\n",
    "        SELECTED_VARIABLE = \"JH/pressure\"\n",
    "        SELECTED_VARIABLE_longname  = \"JH/pressure\"\n",
    "        SELECTED_VARIABLE_shortname = \"JH/pressure\"\n",
    "        SELECTED_VARIABLE_units     = \"sec^-1\"            \n",
    "        \n",
    "    #### Load\n",
    "    if SavedFilenames_Dropdown.value.endswith( \".txt\" ):\n",
    "        LoadResults( SavedFilenames_Dropdown.value )\n",
    "    #### Plot\n",
    "    if Plot_JHdistribution_Checkbox.value == True:\n",
    "        if SavedFilenames_Dropdown.value.endswith( \".nc\" ) or SavedFilenames_Dropdown.value.endswith( \"/\" ): \n",
    "            LoadResults_CDF( SavedFilenames_Dropdown.value, loadTimeValues=False, loadMagLatValues=False, loadMLTvalues=False, loadAltValues=False, loadLatValues=False, loadKpValues=False )\n",
    "        Plot_Alex_Distribution()\n",
    "        Plot_JH_Distribution_perBin()\n",
    "    elif Plot_JHvsMagLat_Checkbox.value==True or Plot_JHvsMLT_Checkbox.value==True or Plot_JHvsAltitude_Checkbox.value==True or Plot_AltitudeVsMagLat_Checkbox.value==True:\n",
    "        if SavedFilenames_Dropdown.value.endswith( \".nc\" )  or SavedFilenames_Dropdown.value.endswith( \"/\" ): \n",
    "            LoadResults_CDF( SavedFilenames_Dropdown.value )\n",
    "        plotAll()        \n",
    "        plotAll_perKp()\n",
    "    elif Plot_AltProfilesCanonical_Checkbox.value == True:\n",
    "        if SavedFilenames_Dropdown.value.endswith( \".nc\" ) or SavedFilenames_Dropdown.value.endswith( \"/\" ): \n",
    "            LoadResults_CDF( SavedFilenames_Dropdown.value, loadBinValues=False, loadTimeValues=False, loadMagLatValues=False, loadAltValues=True, loadLatValues=False )\n",
    "        #plotAltitudeProfiles_perSeason( False )\n",
    "        #plotAltitudeProfiles_perSeason( True )\n",
    "        plotAltProfilesCanonical_perKpRange()\n",
    "    elif Plot_AltProfilesNatural_Checkbox.value == True:\n",
    "        if SavedFilenames_Dropdown.value.endswith( \".nc\" ) or SavedFilenames_Dropdown.value.endswith( \"/\" ): \n",
    "            LoadResults_CDF( SavedFilenames_Dropdown.value, loadBinValues=True, loadGlobalValues=False, loadTimeValues=False, loadMagLatValues=False, loadAltValues=True, loadLatValues=False )\n",
    "        plotAltProfilesNatural_perKpRange()        \n",
    "    elif Plot_ColorSpreads_Checkbox.value == True:\n",
    "        if SavedFilenames_Dropdown.value.endswith( \".nc\" ) or SavedFilenames_Dropdown.value.endswith( \"/\" ): \n",
    "            LoadResults_CDF( SavedFilenames_Dropdown.value, loadBinValues=False, loadTimeValues=False, loadMagLatValues=True, loadMLTvalues=True, loadAltValues=True, loadLatValues=False )\n",
    "        plotColorSpread_perKpRange()\n",
    "    elif Plot_PDFperSubBin_Checkbox.value == True:\n",
    "        plotPDFperSubBin()\n",
    "    elif Plot_HeightIntegrated_Checkbox.value == True:\n",
    "        plotHeightIntegrated_perKpRange()\n",
    "    elif Test_statistical_Checkbox.value == True:\n",
    "        executeStatTest( SavedFilenames_Dropdown.value, SavedFilenamesDuplicate_Dropdown.value )\n",
    "        \n",
    "def CompareResults_Btn_Clicked( b ):\n",
    "    plotComparisonOfResults()\n",
    "            \n",
    "################################################################\n",
    "\n",
    "def tiegcmFolder_Dropdown_onChange(change):\n",
    "    if change['type']=='change' and change['name']=='value' and len(change['new'])>0:\n",
    "        return\n",
    "\n",
    "        \n",
    "def SavedFilenames_Dropdown_onChange(change):\n",
    "    if change['type']=='change' and change['name']=='value' and len(change['new'])>0:\n",
    "        file_size_in_Gigabytes = os.stat(change['new']).st_size / 1024 / 1024 / 1024\n",
    "        if file_size_in_Gigabytes > 5:\n",
    "            Warning_HTML.value= \"<b><font color='red'>File size is \" + '{0:.1f}'.format(file_size_in_Gigabytes) + \" Gigabyte. Ploting will take several minutes.</b>\" \n",
    "            Warning_HTML.visible=True\n",
    "        elif file_size_in_Gigabytes > 1:\n",
    "            Warning_HTML.value= \"<b><font color='red'>File size is \" + '{0:.1f}'.format(file_size_in_Gigabytes) + \" Gigabyte. Ploting will take several seconds.</b>\" \n",
    "            Warning_HTML.visible=True            \n",
    "        else:\n",
    "            Warning_HTML.visible=False\n",
    "\n",
    "\n",
    "\n",
    "def MainTab_Changed( change ):\n",
    "    if change['type']=='change' and change['name']=='selected_index':\n",
    "        if change['new'] == 0:\n",
    "            change = {'type':'change', 'name':'value', 'new':tiegcmFolder_Dropdown.value}\n",
    "        else:\n",
    "            change = {'type':'change', 'name':'value', 'new':SavedFilenames_Dropdown.value}\n",
    "        tiegcmFolder_Dropdown_onChange( change )  \n",
    "            \n",
    "def createGUI():\n",
    "    ## the top level visual elements\n",
    "    MainPanel = w.VBox()    \n",
    "    MainTab = w.Tab() \n",
    "    LoadCoveragePanel           = w.VBox()\n",
    "    CalcCoveragePanel           = w.VBox()\n",
    "    CalcCoverageAlongOrbitPanel = w.VBox()\n",
    "    CompareResultsPanel         = w.VBox()\n",
    "    ## the checkboxes which allow user to select which plots he wants to create\n",
    "    PlotSelectionPanel = w.VBox()\n",
    "    PlotSelectionPanel.children = [Plot_JHvsMagLat_Checkbox, Plot_JHvsMLT_Checkbox, Plot_JHvsAltitude_Checkbox, Plot_AltitudeVsMagLat_Checkbox, w.HBox([Plot_JHdistribution_Checkbox, RegressionOptions_Dropdown]), Plot_AltProfilesCanonical_Checkbox, Plot_AltProfilesNatural_Checkbox, Plot_HeightIntegrated_Checkbox, Plot_ColorSpreads_Checkbox, Plot_PDFperSubBin_Checkbox,Test_statistical_Checkbox ]\n",
    "    ##\n",
    "    MainTab.children = [ CalcCoverageAlongOrbitPanel, CalcCoveragePanel, LoadCoveragePanel ]\n",
    "    MainTab.set_title(0, 'Calc along Orbit')\n",
    "    MainTab.set_title(1, 'Calc for TIEGCMgrid')\n",
    "    MainTab.set_title(2, 'Load Results')\n",
    "    MainTab.set_title(3, 'Compare Results')\n",
    "    MainPanel.children = [ MainTab, OrbitPreviewImage ]    \n",
    "    ## \n",
    "    Exec_Btn = w.Button (description='Calculate for TIEGCM grid',tooltip=\"Click here to calculate\",)\n",
    "    Exec_Btn.style.button_color = 'MediumTurquoise'\n",
    "    Exec_Btn.on_click( Exec_Btn_Clicked )\n",
    "    CalcCoveragePanel.children = [tiegcmFolder_Dropdown, BinGroups_Dropdown, ExecutionTitle_Text, ExecutionDescr_Text, Exec_Btn ] # I removed PlotSelectionPanel\n",
    "    ##\n",
    "    ExecAlongOrbit_Btn = w.Button (description='Calc along Orbit',tooltip=\"Click here to calculate\",)\n",
    "    ExecAlongOrbit_Btn.style.button_color = 'Coral'\n",
    "    ExecAlongOrbit_Btn.on_click( Exec_Btn_alongOrbit_Clicked )\n",
    "    CalcCoverageAlongOrbitPanel.children = [tiegcmFolder_Dropdown, BinGroups_Dropdown, OrbitFilesPath_Dropdown, ExecutionTitle_Text, ExecutionDescr_Text, ExecAlongOrbit_Btn ] # I removed PlotSelectionPanel\n",
    "    ##\n",
    "    Load_Btn = w.Button (description='Load Results from',tooltip=\"Click here to plot\",)\n",
    "    Load_Btn.style.button_color = 'YellowGreen'\n",
    "    Load_Btn.on_click( Load_Btn_Clicked )\n",
    "    L2_horizontal = w.HBox()\n",
    "    L2_horizontal.children = [Load_Btn, SavedFilenames_Dropdown]\n",
    "    LoadCoveragePanel.children = [ w.HBox([Load_Btn, SavedFilenames_Dropdown]), SavedFilenamesDuplicate_Dropdown, Variable_DropDown, Warning_HTML, PlotSelectionPanel ]\n",
    "    ##\n",
    "    CompareResults_Btn = w.Button (description='Compare Results',tooltip=\"Click here to plot\",)\n",
    "    CompareResults_Btn.style.button_color = 'Gold'\n",
    "    CompareResults_Btn.on_click( CompareResults_Btn_Clicked )\n",
    "    CompareResultsPanel.children = [ w.HBox([w.HTML(value=\"TIEGCM results:\"),SavedFilenames_Dropdown]), w.HBox([w.HTML(value=\"Orbit results:\"),SavedFilenames2_Dropdown]), CompareResults_Btn ]\n",
    "    ## Assign event listeners\n",
    "    tiegcmFolder_Dropdown.observe( tiegcmFolder_Dropdown_onChange )\n",
    "    SavedFilenames_Dropdown.observe( SavedFilenames_Dropdown_onChange )\n",
    "    MainTab.observe( MainTab_Changed )\n",
    "    ## display orbit-related image\n",
    "    change = {'type':'change', 'name':'value', 'new':tiegcmFolder_Dropdown.value}\n",
    "    tiegcmFolder_Dropdown_onChange( change )        \n",
    "    return MainPanel\n",
    "# PLOT PLOT PLOT PLOT PLOT PLOT PLOT PLOT PLOT PLOT PLOT PLOT PLOT PLOT PLOT PLOT PLOT PLOT PLOT PLOT PLOT PLOT PLOT \n",
    "# PLOT PLOT PLOT PLOT PLOT PLOT PLOT PLOT PLOT PLOT PLOT PLOT PLOT PLOT PLOT PLOT PLOT PLOT PLOT PLOT PLOT PLOT PLOT \n",
    "# PLOT PLOT PLOT PLOT PLOT PLOT PLOT PLOT PLOT PLOT PLOT PLOT PLOT PLOT PLOT PLOT PLOT PLOT PLOT PLOT PLOT PLOT PLOT \n",
    "\n",
    "def plotAll():\n",
    "    # choose which bins we are going to work with\n",
    "    if \"(\" in CALCULATIONS_RegionName:\n",
    "        RegionID = CALCULATIONS_RegionName[ CALCULATIONS_RegionName.find('(')+1 : CALCULATIONS_RegionName.rfind(')') ]\n",
    "    else:\n",
    "        RegionID = CALCULATIONS_RegionName\n",
    "    BinsIncludedAtPlot = list()\n",
    "    for B in Bins:\n",
    "        if B.ID.startswith(RegionID): BinsIncludedAtPlot.append( B )\n",
    "\n",
    "    # remember the Kp ranges of these bins. Each Kp-range will have its own sub-plot\n",
    "    TMP_KpRanges = list()\n",
    "    for B in BinsIncludedAtPlot:\n",
    "        if [B.Kp_min, B.Kp_max] not in TMP_KpRanges: TMP_KpRanges.append( [B.Kp_min, B.Kp_max] )  \n",
    "            \n",
    "    # --- init various plotting parameters ---\n",
    "    max_num_of_points = 10000\n",
    "    plot_step = int(  len(all_JH_values) / max_num_of_points  )\n",
    "    if plot_step <= 0: plot_step = 1\n",
    "    n = max_num_of_points\n",
    "    if n > len(all_JH_values):  n = len(all_JH_values)\n",
    "    print( \"I will plot\", n, \"out of\", len(all_JH_values), \"points (1 per\", plot_step, \")\")\n",
    "    TMP_JH_values       = list()\n",
    "    TMP_MagLat_values   = list()\n",
    "    TMP_MLT_values      = list()\n",
    "    TMP_Altitude_values = list()\n",
    "    for idx in range( 0, len(all_JH_values) ):\n",
    "        if int(idx / 1) % int(plot_step) == 0: \n",
    "            TMP_JH_values.append( all_JH_values[idx] )\n",
    "            TMP_MagLat_values.append( all_MagLat_values[idx] )\n",
    "            TMP_MLT_values.append( all_MLT_values[idx] )\n",
    "            TMP_Altitude_values.append( all_Altitude_values[idx] )\n",
    "    \n",
    "    # handle MLT ranges like 22:00-02:00\n",
    "    MLT_min_toPlot = BinsIncludedAtPlot[0].MLT_min\n",
    "    MLT_max_toPlot = BinsIncludedAtPlot[0].MLT_max\n",
    "    if BinsIncludedAtPlot[0].MLT_min > BinsIncludedAtPlot[0].MLT_max:\n",
    "        MLT_max_toPlot += 24\n",
    "        for i in range(0, len(TMP_MLT_values)):\n",
    "            if TMP_MLT_values[i] < BinsIncludedAtPlot[0].MLT_min: TMP_MLT_values[i] += 24\n",
    "    # define altitude range for X-axis\n",
    "    Altitude_max_toPlot = max(all_Altitude_values)\n",
    "    if Altitude_max_toPlot < 140: Altitude_max_toPlot = 140\n",
    "                \n",
    "    # define max JH value to be plotted\n",
    "    if SELECTED_VARIABLE == \"Ohmic\" or SELECTED_VARIABLE == \"Convection_heating\":\n",
    "        JHmax = 1.4e-7\n",
    "        if CALCULATIONS_RegionName.startswith( \"SQ\" ): JHmax = max(all_JH_values)\n",
    "    else:\n",
    "        JHmax = max(all_JH_values)\n",
    "        \n",
    "    if len(all_MagLat_values) > 0  and  Plot_JHvsMagLat_Checkbox.value==True:\n",
    "        print( \"Plotting \", len(TMP_MagLat_values), \"points\" )\n",
    "        MyColorsIndex = 0\n",
    "        fig = go.Figure()        \n",
    "        fig.add_trace( go.Scatter(name=SELECTED_VARIABLE_longname, x=TMP_MagLat_values, y=TMP_JH_values, mode='markers', marker_size=2) )\n",
    "        BinAnnotations = list()\n",
    "        prevKpMin = -1\n",
    "        BinIdx = 0\n",
    "        for B in BinsIncludedAtPlot:\n",
    "            if len(B.JH_values) > 0:\n",
    "                # choose color for mean line\n",
    "                if prevKpMin >= 0 and prevKpMin != B.Kp_min:\n",
    "                    MyColorsIndex += 1\n",
    "                    if MyColorsIndex>len(MyColors)-1: MyColorsIndex = 0\n",
    "                prevKpMin = B.Kp_min                        \n",
    "                # add visuals for the mean line\n",
    "                fig.add_shape( type=\"line\", x0=B.MagLat_min, y0=B.JH_mean,     x1=B.MagLat_max, y1=B.JH_mean,     line=dict( color=MyColors[MyColorsIndex], width=2, ), )    \n",
    "                # add info as legend for this bin\n",
    "                fig.add_trace( go.Scatter(name=B.ID + \":  \" + str(B.Altitude_min) + \"<Alt<\"+ str(B.Altitude_max) + \"  <b>\" + str(B.Kp_min) + \"<Kp<\" + str(B.Kp_max) + \"</b>\" + \"  Mean=\" + \"{:.3e}\".format(B.JH_mean) + \"  \" + \"Variance=\" + \"{:.3e}\".format(B.JH_variance) + \"  St.Deviation=\" + \"{:.3e}\".format(B.JH_variance**(1/2)) , x=[-1], y=[-1], mode='markers', marker_size=1, marker_color=MyColors[MyColorsIndex]) )\n",
    "                # add bin name above the mean line\n",
    "                BinAnnotations.append( dict( x=B.MagLat_min+((BinIdx+1)/len(BinsIncludedAtPlot))*(B.MagLat_max-B.MagLat_min)*3/4, y=B.JH_mean, xref=\"x\", yref=\"y\", text=B.ID, showarrow=False, yshift=8, font=dict(color=MyColors[MyColorsIndex])) )\n",
    "                # add visuals for standard deviation\n",
    "                fig.add_shape( type=\"line\", x0=B.MagLat_min+((BinIdx+1)/len(BinsIncludedAtPlot))*(B.MagLat_max-B.MagLat_min)*7/8, y0=B.JH_mean+(B.JH_variance)**(1/2)/2,     x1=B.MagLat_min+((BinIdx+1)/len(BinsIncludedAtPlot))*(B.MagLat_max-B.MagLat_min)*7/8, y1=B.JH_mean-(B.JH_variance)**(1/2)/2,     line=dict( color=MyColors[MyColorsIndex], width=1, ), ) \n",
    "                #\n",
    "                BinIdx += 1\n",
    "        fig.update_layout( annotations=BinAnnotations )\n",
    "        fig.update_layout( title=SELECTED_VARIABLE_longname+\" vs Magnetic Latitude - \" + getBinDescription(CALCULATIONS_RegionName), \n",
    "                           width=1000, height=1300, legend_orientation=\"h\", legend= {'itemsizing': 'constant'}) \n",
    "        fig.update_xaxes(range=[min(all_MagLat_values), max(all_MagLat_values)], title=\"Magnetic Latitude (degrees)\")\n",
    "        fig.update_yaxes(range=[min(all_JH_values), JHmax], title=SELECTED_VARIABLE_shortname+\" (\"+SELECTED_VARIABLE_units+\")\", showexponent = 'all', exponentformat = 'e')\n",
    "        plotly.offline.init_notebook_mode(connected=True)\n",
    "        plotly.offline.iplot(fig)\n",
    "    else:\n",
    "        pass\n",
    "        #print( \"There are no points for MagLat plot\" )                \n",
    "\n",
    "    if len(all_MLT_values) > 0  and  Plot_JHvsMLT_Checkbox.value == True:\n",
    "        MyColorsIndex = 0\n",
    "        fig = go.Figure()\n",
    "        print( \"Plotting \", len(TMP_MLT_values), \"points\" )\n",
    "        fig.add_trace( go.Scatter(name=SELECTED_VARIABLE_longname, x=TMP_MLT_values, y=TMP_JH_values, mode='markers', marker_size=2) )\n",
    "        prevKpMin = -1\n",
    "        BinAnnotations = list()\n",
    "        BinIdx = 0\n",
    "        for B in BinsIncludedAtPlot:\n",
    "            if len(B.JH_values) > 0:\n",
    "                # choose color for mean line\n",
    "                if prevKpMin >= 0 and prevKpMin != B.Kp_min:\n",
    "                    MyColorsIndex += 1\n",
    "                    if MyColorsIndex>len(MyColors)-1: MyColorsIndex = 0\n",
    "                prevKpMin = B.Kp_min                        \n",
    "                # add visuals for the mean line             \n",
    "                fig.add_shape( type=\"line\", x0=MLT_min_toPlot, y0=B.JH_mean,     x1=MLT_max_toPlot, y1=B.JH_mean,     line=dict( color=MyColors[MyColorsIndex], width=2, ), )    \n",
    "                # add info as legend for this bin\n",
    "                fig.add_trace( go.Scatter(name=B.ID + \":  \" + str(B.Altitude_min) + \"<Alt<\"+ str(B.Altitude_max) + \"  <b>\" + str(B.Kp_min) + \"<Kp<\" + str(B.Kp_max) + \"</b>\" + \"  Mean=\" + \"{:.3e}\".format(B.JH_mean) + \"  \" + \"Variance=\" + \"{:.3e}\".format(B.JH_variance) + \"St.Deviation=\" + \"{:.3e}\".format(B.JH_variance**(1/2)), x=[-1], y=[-1], mode='markers', marker_size=1, marker_color=MyColors[MyColorsIndex]) )\n",
    "                # add bin name above the mean line\n",
    "                BinAnnotations.append( dict( x=MLT_min_toPlot+((BinIdx+1)/len(BinsIncludedAtPlot))*(MLT_max_toPlot-MLT_min_toPlot)*3/4, y=B.JH_mean, xref=\"x\", yref=\"y\", text=B.ID, showarrow=False, yshift=8, font=dict(color=MyColors[MyColorsIndex])) )\n",
    "                # add visuals for standard deviation\n",
    "                fig.add_shape( type=\"line\", x0=MLT_min_toPlot+((BinIdx+1)/len(BinsIncludedAtPlot))*(MLT_max_toPlot-MLT_min_toPlot)*7/8, y0=B.JH_mean+(B.JH_variance)**(1/2)/2,     x1=MLT_min_toPlot+((BinIdx+1)/len(BinsIncludedAtPlot))*(MLT_max_toPlot-MLT_min_toPlot)*7/8, y1=B.JH_mean-(B.JH_variance)**(1/2)/2,     line=dict( color=MyColors[MyColorsIndex], width=1, ), )\n",
    "                #\n",
    "                BinIdx += 1\n",
    "        fig.update_layout( annotations=BinAnnotations )\n",
    "        fig.update_layout( title=SELECTED_VARIABLE_longname+\" vs Magnetic Local Time - \" + getBinDescription(CALCULATIONS_RegionName), \n",
    "                           width=1000, height=1300, legend_orientation=\"h\", legend= {'itemsizing': 'constant'}) \n",
    "        fig.update_xaxes(range=[MLT_min_toPlot, MLT_max_toPlot], title=\"Magnetic Local Time (hours)\") #fig.update_xaxes(range=[min(TMP_MLT_values), max(TMP_MLT_values)], title=\"Magnetic Local Time (hours)\")\n",
    "        fig.update_yaxes(range=[min(all_JH_values), JHmax], title=SELECTED_VARIABLE_shortname+\" (\"+SELECTED_VARIABLE_units+\")\", showexponent = 'all', exponentformat = 'e')\n",
    "        plotly.offline.init_notebook_mode(connected=True)\n",
    "        plotly.offline.iplot(fig)\n",
    "    else:\n",
    "        pass\n",
    "        #print( \"There are no points for MLT plot\" )        \n",
    "    \n",
    "    if len(TMP_Altitude_values) > 0  and  Plot_JHvsAltitude_Checkbox.value == True:\n",
    "        MyColorsIndex = 0\n",
    "        fig = go.Figure()\n",
    "        print( \"Plotting \", len(TMP_Altitude_values), \"points\" )\n",
    "        fig.add_trace( go.Scatter(name=SELECTED_VARIABLE_longname, x=TMP_Altitude_values, y=TMP_JH_values, mode='markers', marker_size=2) )\n",
    "        prevKpMin = -1\n",
    "        BinAnnotations = list()\n",
    "        BinIdx = 0\n",
    "        for B in BinsIncludedAtPlot:\n",
    "            if len(B.JH_values) > 0:\n",
    "                # choose color for mean line\n",
    "                if prevKpMin >= 0 and prevKpMin != B.Kp_min:\n",
    "                    MyColorsIndex += 1\n",
    "                    if MyColorsIndex>len(MyColors)-1: MyColorsIndex = 0\n",
    "                prevKpMin = B.Kp_min                        \n",
    "                # add visuals for the mean line\n",
    "                fig.add_shape( type=\"line\", x0=B.Altitude_min, y0=B.JH_mean,     x1=B.Altitude_max, y1=B.JH_mean,     line=dict( color=MyColors[MyColorsIndex], width=2, ), )    \n",
    "                # add info as legend for this bin\n",
    "                fig.add_trace( go.Scatter(name=B.ID + \":  \" + str(B.Altitude_min) + \"<Alt<\"+ str(B.Altitude_max) + \"  <b>\" + str(B.Kp_min) + \"<Kp<\" + str(B.Kp_max) + \"</b>\" + \"  Mean=\" + \"{:.3e}\".format(B.JH_mean) + \"  \" + \"Variance=\" + \"{:.3e}\".format(B.JH_variance) + \"  St.Deviation=\" + \"{:.3e}\".format(B.JH_variance**(1/2)), x=[-1], y=[-1], mode='markers', marker_size=1, marker_color=MyColors[MyColorsIndex]) )\n",
    "                # add bin name above the mean line\n",
    "                BinAnnotations.append( dict( x=B.Altitude_min+((BinIdx+1)/len(BinsIncludedAtPlot))*(B.Altitude_max-B.Altitude_min)*3/4, y=B.JH_mean, xref=\"x\", yref=\"y\", text=B.ID, showarrow=False, yshift=8, font=dict(color=MyColors[MyColorsIndex])) )\n",
    "                # add visuals for standard deviation\n",
    "                fig.add_shape( type=\"line\", x0=B.Altitude_min+((BinIdx+1)/len(BinsIncludedAtPlot))*(B.Altitude_max-B.Altitude_min)*7/8, y0=B.JH_mean+(B.JH_variance)**(1/2)/2,     x1=B.Altitude_min+((BinIdx+1)/len(BinsIncludedAtPlot))*(B.Altitude_max-B.Altitude_min)*7/8, y1=B.JH_mean-(B.JH_variance)**(1/2)/2,     line=dict( color=MyColors[MyColorsIndex], width=1, ), )\n",
    "                #\n",
    "                BinIdx += 1\n",
    "        fig.update_layout( annotations=BinAnnotations )\n",
    "        fig.update_layout( title=SELECTED_VARIABLE_longname+\" vs Altitude - \" + getBinDescription(CALCULATIONS_RegionName), \n",
    "                           width=1000, height=1300, legend_orientation=\"h\", legend= {'itemsizing': 'constant'}) \n",
    "        fig.update_xaxes(range=[115, Altitude_max_toPlot], title=\"Altitude (km)\")\n",
    "        fig.update_yaxes(range=[min(all_JH_values), JHmax], title=SELECTED_VARIABLE_shortname+\" (\"+SELECTED_VARIABLE_units+\")\", showexponent = 'all', exponentformat = 'e')\n",
    "        plotly.offline.init_notebook_mode(connected=True)\n",
    "        plotly.offline.iplot(fig)\n",
    "    else:\n",
    "        pass\n",
    "        #print( \"There are no points for Altitude plot\" )\n",
    "    \n",
    "    \n",
    "    if len(TMP_JH_values) > 0  and  Plot_AltitudeVsMagLat_Checkbox.value == True:\n",
    "        MyColorsIndex = 0\n",
    "        fig = go.Figure()\n",
    "        print( \"Plotting \", len(TMP_JH_values), \"points\" )\n",
    "        \n",
    "        colorMean = 0\n",
    "        for n in TMP_JH_values: colorMean += n\n",
    "        colorMean = float( colorMean / len(TMP_JH_values) )\n",
    "        colorMin = float(colorMean / 10)\n",
    "        colorMax = float(colorMean * 10)\n",
    "        fig.add_trace( go.Scatter(name=SELECTED_VARIABLE_longname, x=TMP_MagLat_values, y=TMP_Altitude_values, mode='markers', \n",
    "                       marker=dict( size=2, color=TMP_JH_values, colorscale=\"Jet\", cmin=colorMin, cmax=colorMax, colorbar=dict(title=SELECTED_VARIABLE_shortname+\" (\"+SELECTED_VARIABLE_units+\")\" )) ) )\n",
    "        for B in BinsIncludedAtPlot:\n",
    "            if len(B.JH_values) > 0:\n",
    "                #fig.add_shape( type=\"line\", x0=B.MagLat_min, y0=B.JH_mean,     x1=B.MagLat_max, y1=B.JH_mean,     line=dict( color=MyColors[MyColorsIndex], width=1, ), )    \n",
    "                #fig.add_trace( go.Scatter(name=\"Bin Mean: \" + str(B.Altitude_min) + \"<Alt<\"+ str(B.Altitude_max) + \" <b>\" + str(B.Kp_min) + \"<Kp<\" + str(B.Kp_max) + \"</b> Variance=\" + str(B.JH_variance), x=[-1], y=[-1], mode='markers', marker_size=1, marker_color=MyColors[MyColorsIndex]) )\n",
    "                MyColorsIndex += 1\n",
    "                if MyColorsIndex>len(MyColors)-1: MyColorsIndex = 0\n",
    "        fig.update_layout( title=\"Altitude vs Magnetic Latitude - \" + CALCULATIONS_RegionName, \n",
    "                           width=1000, height=1300, legend_orientation=\"h\", legend= {'itemsizing': 'constant'}) \n",
    "        fig.update_xaxes(range=[min(all_MagLat_values), max(all_MagLat_values)], title=\"Magnetic Latitude (degrees)\" )\n",
    "        fig.update_yaxes(range=[min(all_Altitude_values), max(all_Altitude_values)], title=\"Altitude(km)\")\n",
    "        plotly.offline.init_notebook_mode(connected=True)\n",
    "        plotly.offline.iplot(fig)\n",
    "    else:\n",
    "        pass\n",
    "        #print( \"There are no points for Altitude-MagLat plot\" )                \n",
    "\n",
    "    \n",
    "\n",
    "# PERKP PERKP PERKP PERKP PERKP PERKP PERKP PERKP PERKP PERKP PERKP PERKP PERKP PERKP PERKP PERKP PERKP PERKP PERKP \n",
    "# PERKP PERKP PERKP PERKP PERKP PERKP PERKP PERKP PERKP PERKP PERKP PERKP PERKP PERKP PERKP PERKP PERKP PERKP PERKP \n",
    "# PERKP PERKP PERKP PERKP PERKP PERKP PERKP PERKP PERKP PERKP PERKP PERKP PERKP PERKP PERKP PERKP PERKP PERKP PERKP \n",
    "\n",
    "def plotAll_perKp():\n",
    "    # choose which bins we are going to work with\n",
    "    if \"(\" in CALCULATIONS_RegionName:\n",
    "        RegionID = CALCULATIONS_RegionName[ CALCULATIONS_RegionName.find('(')+1 : CALCULATIONS_RegionName.rfind(')') ]\n",
    "    else:\n",
    "        RegionID = CALCULATIONS_RegionName\n",
    "    BinsIncludedAtPlot = list()\n",
    "    for B in Bins:\n",
    "        if B.ID.startswith(RegionID): BinsIncludedAtPlot.append( B )          \n",
    "\n",
    "    # --- init various plotting parameters ---\n",
    "    # handle MLT ranges like 22:00-02:00\n",
    "    MLT_min_toPlot = BinsIncludedAtPlot[0].MLT_min\n",
    "    MLT_max_toPlot = BinsIncludedAtPlot[0].MLT_max\n",
    "    if BinsIncludedAtPlot[0].MLT_min > BinsIncludedAtPlot[0].MLT_max:\n",
    "        MLT_max_toPlot += 24\n",
    "        for i in range(0, len(all_MLT_values)):\n",
    "            if all_MLT_values[i] < BinsIncludedAtPlot[0].MLT_min: all_MLT_values[i] += 24\n",
    "        for B in BinsIncludedAtPlot:\n",
    "            for i in range(0, len(B.MLT_values)):\n",
    "                if B.MLT_values[i] < BinsIncludedAtPlot[0].MLT_min: B.MLT_values[i] += 24\n",
    "    # define altitude range for X-axis\n",
    "    Altitude_max_toPlot = max(all_Altitude_values)\n",
    "    if Altitude_max_toPlot < 140: Altitude_max_toPlot = 140\n",
    "    # define max JH value to be plotted\n",
    "    if SELECTED_VARIABLE == \"Ohmic\" or SELECTED_VARIABLE == \"Convection_heating\":\n",
    "        JHmax = 1.4e-7\n",
    "        if CALCULATIONS_RegionName.startswith( \"SQ\" ): JHmax = max(all_JH_values)\n",
    "    else:\n",
    "        JHmax = max(all_JH_values)\n",
    "\n",
    "    # CONSTRUCT DATA per Kp-range\n",
    "    # remember the Kp ranges of the plot's bins. Each Kp-range will have its own sub-plot\n",
    "    All_KpRanges = list()\n",
    "    for B in BinsIncludedAtPlot:\n",
    "        if [B.Kp_min, B.Kp_max] not in All_KpRanges: \n",
    "            All_KpRanges.append( [B.Kp_min, B.Kp_max] )  \n",
    "    # group data according to Kp-range\n",
    "    JH_values_perKp       = list() # 2d-list: one row for each Kp-range\n",
    "    MagLat_values_perKp   = list() # 2d-list: one row for each Kp-range\n",
    "    MLT_values_perKp      = list() # 2d-list: one row for each Kp-range\n",
    "    Altitude_values_perKp = list() # 2d-list: one row for each Kp-range\n",
    "    Time_values_perKp     = list()\n",
    "    for i in range(0, len(All_KpRanges)): \n",
    "        JH_values_perKp.append( list() )\n",
    "        MagLat_values_perKp.append( list() )\n",
    "        MLT_values_perKp.append( list() )\n",
    "        Altitude_values_perKp.append( list() )\n",
    "        Time_values_perKp.append( list() )\n",
    "        for B in BinsIncludedAtPlot:\n",
    "            if B.Kp_min==All_KpRanges[i][0] and B.Kp_max==All_KpRanges[i][1]: \n",
    "                JH_values_perKp[i]       += B.JH_values\n",
    "                MagLat_values_perKp[i]   += B.MagLat_values\n",
    "                MLT_values_perKp[i]      += B.MLT_values\n",
    "                Altitude_values_perKp[i] += B.Altitude_values\n",
    "                Time_values_perKp[i]     += B.Time_values\n",
    "    # make the data set smaller so that it can be plotted\n",
    "    max_num_of_points = 80000\n",
    "    print( \"\\n\" ) \n",
    "    for i in range(0, len(All_KpRanges)):\n",
    "        plot_step = int(  len(JH_values_perKp[i]) / max_num_of_points  )\n",
    "        n = max_num_of_points \n",
    "        if n > len(JH_values_perKp[i]):  n = len(JH_values_perKp[i])\n",
    "        print( \"I will plot\", n, \"out of\", len(JH_values_perKp[i]), \"points (1 per\", plot_step, \")\" + \" for \" + str(All_KpRanges[i][0]) + \"<Kp<\" + str(All_KpRanges[i][1]) )\n",
    "        if plot_step > 0:\n",
    "            #JH_values_perKp[i]       = JH_values_perKp[i][0::plot_step]\n",
    "            #MagLat_values_perKp[i]   = MagLat_values_perKp[i][0::plot_step]\n",
    "            #MLT_values_perKp[i]      = MLT_values_perKp[i][0::plot_step]\n",
    "            #Altitude_values_perKp[i] = Altitude_values_perKp[i][0::plot_step]\n",
    "            TMP_JH_values       = list()\n",
    "            TMP_MagLat_values   = list()\n",
    "            TMP_MLT_values      = list()\n",
    "            TMP_Altitude_values = list()\n",
    "            TMP_Time_values     = list()\n",
    "            for idx in range( 0, len(JH_values_perKp[i]) ):\n",
    "                if int(idx / 1) % int(plot_step) == 0: \n",
    "                    TMP_JH_values.append( JH_values_perKp[i][idx] )\n",
    "                    TMP_MagLat_values.append( MagLat_values_perKp[i][idx] )\n",
    "                    TMP_MLT_values.append( MLT_values_perKp[i][idx] )\n",
    "                    TMP_Altitude_values.append( Altitude_values_perKp[i][idx] )\n",
    "                    try:\n",
    "                        TMP_Time_values.append( Time_values_perKp[i][idx] )\n",
    "                    except:\n",
    "                        pass\n",
    "            JH_values_perKp[i]       = TMP_JH_values\n",
    "            MagLat_values_perKp[i]   = TMP_MagLat_values\n",
    "            MLT_values_perKp[i]      = TMP_MLT_values\n",
    "            Altitude_values_perKp[i] = TMP_Altitude_values\n",
    "            Time_values_perKp[i] = TMP_Time_values\n",
    "            \n",
    "    # PLOT\n",
    "    if len(all_MagLat_values) > 0  and  Plot_JHvsMagLat_Checkbox.value==True:\n",
    "        fig = make_subplots(rows=len(All_KpRanges), cols=1, shared_xaxes=False, vertical_spacing=0.05)\n",
    "        for i in range(0, len(All_KpRanges)):\n",
    "            fig.append_trace( go.Scatter(name=SELECTED_VARIABLE_longname, x=MagLat_values_perKp[i], y=JH_values_perKp[i], mode='markers', marker_size=2, marker_color=MyColors[i]), row=i+1, col=1 )\n",
    "        #\n",
    "        BinAnnotations = list()\n",
    "        FigureShapes = list()\n",
    "        MyColorsIndex = 0\n",
    "        BinIdx = 0\n",
    "        for B in BinsIncludedAtPlot:\n",
    "            if len(B.JH_values) > 0:\n",
    "                # choose which sub-plot will host this Bin's data\n",
    "                SubPlotIdx = 1\n",
    "                for i in range(0, len(All_KpRanges)):\n",
    "                    if B.Kp_min==All_KpRanges[i][0] and B.Kp_max==All_KpRanges[i][1]: SubPlotIdx = i+1\n",
    "                # choose color for mean line\n",
    "                MyColorsIndex = SubPlotIdx - 1\n",
    "                # add visuals for the mean line\n",
    "                FigureShapes.append( dict(type=\"line\", x0=B.MagLat_min, y0=B.JH_mean,     x1=B.MagLat_max, y1=B.JH_mean,   line=dict( color=MyColors[MyColorsIndex], width=2, ),  xref= 'x'+str(SubPlotIdx), yref= 'y'+str(SubPlotIdx))  )  #fig.append_shape( dict(type=\"line\", x0=B.MagLat_min, y0=B.JH_mean,     x1=B.MagLat_max, y1=B.JH_mean,   line=dict( color=MyColors[MyColorsIndex], width=2, )), row=SubPlotIdx, col=1 )    \n",
    "                # add info as legend for this bin\n",
    "                fig.append_trace( go.Scatter(name=B.ID + \":  \" + str(B.Altitude_min) + \"<Alt<\"+ str(B.Altitude_max) + \"  <b>\" + str(B.Kp_min) + \"<Kp<\" + str(B.Kp_max) + \"</b>\" + \"  Mean=\" + \"{:.3e}\".format(B.JH_mean) + \"  \" + \"Variance=\" + \"{:.3e}\".format(B.JH_variance) + \"  St.Deviation=\" + \"{:.3e}\".format(B.JH_variance**(1/2)), x=[-1], y=[-1], mode='markers', marker_size=1, marker_color=MyColors[MyColorsIndex]), row=SubPlotIdx, col=1 )\n",
    "                # add bin name above the mean line\n",
    "                BinAnnotations.append( dict( x=B.MagLat_min+((BinIdx+1)/len(BinsIncludedAtPlot))*(B.MagLat_max-B.MagLat_min)*3/4, y=B.JH_mean, text=B.ID, showarrow=False, yshift=8, font=dict(color=MyColors[MyColorsIndex]), xref='x1', yref='y'+str(SubPlotIdx) ) )\n",
    "                # add visuals for standard deviation\n",
    "                FigureShapes.append( dict(type=\"line\", x0=B.MagLat_min+((BinIdx+1)/len(BinsIncludedAtPlot))*(B.MagLat_max-B.MagLat_min)*7/8, y0=B.JH_mean+(B.JH_variance)**(1/2)/2,     x1=B.MagLat_min+((BinIdx+1)/len(BinsIncludedAtPlot))*(B.MagLat_max-B.MagLat_min)*7/8, y1=B.JH_mean-(B.JH_variance)**(1/2)/2,     line=dict( color=MyColors[MyColorsIndex], width=2, ), xref= 'x1', yref='y'+str(SubPlotIdx) )  )\n",
    "                #\n",
    "                BinIdx += 1\n",
    "        fig.update_layout( annotations=BinAnnotations )\n",
    "        fig.update_layout(shapes=FigureShapes)\n",
    "        fig.update_layout( title=SELECTED_VARIABLE_longname+\" vs Magnetic Latitude - \" + getBinDescription(CALCULATIONS_RegionName), \n",
    "                           width=1000, height=1500, legend_orientation=\"h\", legend= {'itemsizing': 'constant'}) \n",
    "        for i in range(0, len(All_KpRanges)):\n",
    "            fig.update_xaxes(range=[min(all_MagLat_values), max(all_MagLat_values)], title=\"Magnetic Latitude (degrees) for \" + str(All_KpRanges[i][0]) + \"<Kp<\"+  str(All_KpRanges[i][1]), row=i+1, col=1 )\n",
    "        fig.update_yaxes(range=[min(all_JH_values), JHmax], title=SELECTED_VARIABLE_shortname+\" (\"+SELECTED_VARIABLE_units+\")\", showexponent = 'all', exponentformat = 'e')\n",
    "        plotly.offline.init_notebook_mode(connected=True)\n",
    "        plotly.offline.iplot(fig)\n",
    "    else:\n",
    "        print( \"There are no points for MagLat per-Kp-range plot\" )                \n",
    "    \n",
    "    ##\n",
    "    if len(all_MLT_values) > 0  and  Plot_JHvsMLT_Checkbox.value == True:\n",
    "        fig = make_subplots(rows=len(All_KpRanges), cols=1, shared_xaxes=False, vertical_spacing=0.05)\n",
    "        for i in range(0, len(All_KpRanges)):\n",
    "            fig.append_trace( go.Scatter(name=SELECTED_VARIABLE_longname, x=MLT_values_perKp[i], y=JH_values_perKp[i], mode='markers', marker_size=2, marker_color=MyColors[i]), row=i+1, col=1 )\n",
    "        #\n",
    "        BinAnnotations = list()\n",
    "        FigureShapes = list()\n",
    "        MyColorsIndex = 0\n",
    "        BinIdx = 0\n",
    "        for B in BinsIncludedAtPlot:\n",
    "            if len(B.JH_values) > 0:\n",
    "                # choose which sub-plot will host this Bin's data\n",
    "                SubPlotIdx = 1\n",
    "                for i in range(0, len(All_KpRanges)):\n",
    "                    if B.Kp_min==All_KpRanges[i][0] and B.Kp_max==All_KpRanges[i][1]: SubPlotIdx = i+1\n",
    "                    #fig.update_xaxes(range=[min(MLT_values_perKp), max(MLT_values_perKp)], title=\"Magnetic Local Time (hours) for \" + str(All_KpRanges[i][0]) + \"<Kp<\"+  str(All_KpRanges[i][1]), row=SubPlotIdx, col=1 )                \n",
    "                # choose color for mean line\n",
    "                MyColorsIndex = SubPlotIdx - 1\n",
    "                # add visuals for the mean line             \n",
    "                FigureShapes.append( dict(type=\"line\", x0=MLT_min_toPlot, y0=B.JH_mean,     x1=MLT_max_toPlot, y1=B.JH_mean,   line=dict( color=MyColors[MyColorsIndex], width=2, ),  xref= 'x'+str(SubPlotIdx), yref= 'y'+str(SubPlotIdx))  ) \n",
    "                # add info as legend for this bin\n",
    "                fig.append_trace( go.Scatter(name=B.ID + \":  \" + str(B.Altitude_min) + \"<Alt<\"+ str(B.Altitude_max) + \"  <b>\" + str(B.Kp_min) + \"<Kp<\" + str(B.Kp_max) + \"</b>\" + \"  Mean=\" + \"{:.3e}\".format(B.JH_mean) + \"  \" + \"Variance=\" + \"{:.3e}\".format(B.JH_variance) + \"  St.Deviation=\" + \"{:.3e}\".format(B.JH_variance**(1/2)), x=[-1], y=[-1], mode='markers', marker_size=1, marker_color=MyColors[MyColorsIndex]), row=SubPlotIdx, col=1 )\n",
    "                # add bin name above the mean line\n",
    "                BinAnnotations.append(          dict( x=MLT_min_toPlot+((BinIdx+1)/len(BinsIncludedAtPlot))*(MLT_max_toPlot-MLT_min_toPlot)*3/4, y=B.JH_mean, text=B.ID, showarrow=False, yshift=8, font=dict(color=MyColors[MyColorsIndex]), xref='x1', yref='y'+str(SubPlotIdx)) )\n",
    "                FigureShapes.append( dict(type=\"line\", x0=MLT_min_toPlot+((BinIdx+1)/len(BinsIncludedAtPlot))*(MLT_max_toPlot-MLT_min_toPlot)*7/8, y0=B.JH_mean+(B.JH_variance)**(1/2)/2,     x1=MLT_min_toPlot+((BinIdx+1)/len(BinsIncludedAtPlot))*(MLT_max_toPlot-MLT_min_toPlot)*7/8, y1=B.JH_mean-(B.JH_variance)**(1/2)/2,     line=dict( color=MyColors[MyColorsIndex], width=2, ), xref= 'x1', yref= 'y'+str(SubPlotIdx) )  )\n",
    "                #\n",
    "                BinIdx += 1\n",
    "        fig.update_layout( annotations=BinAnnotations )\n",
    "        fig.update_layout( shapes=FigureShapes )\n",
    "        fig.update_layout( title=SELECTED_VARIABLE_longname+\" vs Magnetic Local Time - \" + getBinDescription(CALCULATIONS_RegionName), \n",
    "                           width=1000, height=1500, legend_orientation=\"h\", legend= {'itemsizing': 'constant'}) \n",
    "        #fig.update_xaxes(range=[MLT_min_toPlot, MLT_max_toPlot], title=\"Magnetic Local Time (hours)\")\n",
    "        for i in range(0, len(All_KpRanges)):\n",
    "            fig.update_xaxes(range=[MLT_min_toPlot, MLT_max_toPlot], title=\"Magnetic Local Time (hours) for \" + str(All_KpRanges[i][0]) + \"<Kp<\"+  str(All_KpRanges[i][1]), row=i+1, col=1 )\n",
    "        fig.update_yaxes(range=[min(all_JH_values), JHmax], title=SELECTED_VARIABLE_shortname+\" (\"+SELECTED_VARIABLE_units+\")\", showexponent = 'all', exponentformat = 'e')\n",
    "        plotly.offline.init_notebook_mode(connected=True)\n",
    "        plotly.offline.iplot(fig)\n",
    "    else:\n",
    "        print( \"There are no points for MLT per-Kp-range plot\" )        \n",
    "    \n",
    "    if len(all_Altitude_values) > 0  and  Plot_JHvsAltitude_Checkbox.value == True:\n",
    "        # the main scatter plot\n",
    "        fig = make_subplots(rows=len(All_KpRanges), cols=1, shared_xaxes=False, vertical_spacing=0.05)\n",
    "        for i in range(0, len(All_KpRanges)):\n",
    "            fig.append_trace( go.Scatter(name=SELECTED_VARIABLE_longname, x=Altitude_values_perKp[i], y=JH_values_perKp[i], mode='markers', marker_size=2, marker_color=MyColors[i]), row=i+1, col=1 )\n",
    "        # lines along neighbor points (according to time, only for orbit results)\n",
    "        if len(CALCULATIONS_OrbitFilesPath) > 0: \n",
    "            neighbors_JH   = list()\n",
    "            neighbors_Alt = list()\n",
    "            for i in range(0, len(All_KpRanges)):\n",
    "                for t in range(0, len(Time_values_perKp[i])):\n",
    "                    if t>0 and Time_values_perKp[i][t]-Time_values_perKp[i][t-1]<=10: # orbit file has 1 entry per 10 sec\n",
    "                        if len(neighbors_JH)==0:\n",
    "                            neighbors_JH.append( JH_values_perKp[i][t-1] )\n",
    "                            neighbors_Alt.append( Altitude_values_perKp[i][t-1] )\n",
    "                        neighbors_JH.append( JH_values_perKp[i][t] )\n",
    "                        neighbors_Alt.append( Altitude_values_perKp[i][t] )\n",
    "                    else:\n",
    "                        fig.append_trace( go.Scatter(x=neighbors_Alt, y=neighbors_JH, mode='lines', line_width=1, line_color=\"rgba(\"+Hex_to_RGB(MyColors[i])+\", 0.18)\", showlegend=False ), row=i+1, col=1)\n",
    "                        neighbors_JH   = list()\n",
    "                        neighbors_Alt = list()\n",
    "        # annotations, shapes etc\n",
    "        BinAnnotations = list()\n",
    "        FigureShapes = list()\n",
    "        MyColorsIndex = 0\n",
    "        BinIdx = 0\n",
    "        for B in BinsIncludedAtPlot:\n",
    "            if len(B.JH_values) > 0:\n",
    "                # choose which sub-plot will host this Bin's data\n",
    "                SubPlotIdx = 0\n",
    "                for i in range(0, len(All_KpRanges)):\n",
    "                    if B.Kp_min==All_KpRanges[i][0] and B.Kp_max==All_KpRanges[i][1]: SubPlotIdx = i+1\n",
    "                    fig.update_xaxes(range=[115, Altitude_max_toPlot], title=\"Altitude (km) for \" + str(All_KpRanges[i][0]) + \"<Kp<\"+  str(All_KpRanges[i][1]), row=i+1, col=1 )\n",
    "                # choose color for mean line\n",
    "                MyColorsIndex = SubPlotIdx - 1                \n",
    "                # add visuals for the mean line\n",
    "                FigureShapes.append( dict(type=\"line\", x0=B.Altitude_min, y0=B.JH_mean,     x1=B.Altitude_max, y1=B.JH_mean,   line=dict( color=MyColors[MyColorsIndex], width=2, ),  xref= 'x'+str(SubPlotIdx), yref= 'y'+str(SubPlotIdx))  )                \n",
    "                # add info as legend for this bin\n",
    "                fig.append_trace( go.Scatter(name=B.ID + \":  \" + str(B.Altitude_min) + \"<Alt<\"+ str(B.Altitude_max) + \"  <b>\" + str(B.Kp_min) + \"<Kp<\" + str(B.Kp_max) + \"</b>\" + \"  Mean=\" + \"{:.3e}\".format(B.JH_mean) + \"  \" + \"Variance=\" + \"{:.3e}\".format(B.JH_variance) + \"  St.Deviation=\" + \"{:.3e}\".format(B.JH_variance**(1/2)), x=[-1], y=[-1], mode='markers', marker_size=1, marker_color=MyColors[MyColorsIndex]), row=SubPlotIdx, col=1 )\n",
    "                # add bin name above the mean line\n",
    "                BinAnnotations.append( dict( x=B.Altitude_min+((BinIdx+1)/len(BinsIncludedAtPlot))*(B.Altitude_max-B.Altitude_min)*3/4, y=B.JH_mean, text=B.ID, showarrow=False, yshift=8, font=dict(color=MyColors[MyColorsIndex]), xref='x1', yref='y'+str(SubPlotIdx) ) )\n",
    "                # add visuals for standard deviation\n",
    "                FigureShapes.append( dict(type=\"line\", x0=B.Altitude_min+((BinIdx+1)/len(BinsIncludedAtPlot))*(B.Altitude_max-B.Altitude_min)*7/8, y0=B.JH_mean+(B.JH_variance)**(1/2)/2,     x1=B.Altitude_min+((BinIdx+1)/len(BinsIncludedAtPlot))*(B.Altitude_max-B.Altitude_min)*7/8, y1=B.JH_mean-(B.JH_variance)**(1/2)/2,     line=dict( color=MyColors[MyColorsIndex], width=2, ), xref= 'x1', yref= 'y'+str(SubPlotIdx) )  )\n",
    "                #\n",
    "                BinIdx += 1\n",
    "        fig.update_layout( annotations=BinAnnotations )\n",
    "        fig.update_layout( shapes=FigureShapes )\n",
    "        fig.update_layout( title=SELECTED_VARIABLE_longname+\" vs Altitude - \" + getBinDescription(CALCULATIONS_RegionName), \n",
    "                           width=1000, height=1500, legend_orientation=\"h\", legend= {'itemsizing': 'constant'}) \n",
    "        #fig.update_xaxes(range=[115, Altitude_max_toPlot], title=\"Altitude (km)\")\n",
    "        fig.update_yaxes(range=[min(all_JH_values), JHmax], title=SELECTED_VARIABLE_shortname+\" (\"+SELECTED_VARIABLE_units+\")\", showexponent = 'all', exponentformat = 'e')\n",
    "        plotly.offline.init_notebook_mode(connected=True)\n",
    "        plotly.offline.iplot(fig)\n",
    "    else:\n",
    "        print( \"There are no points for Altitude per-Kp-range plot\" )\n",
    "    \n",
    "    \n",
    "\n",
    "    \n",
    "    \n",
    "    \n",
    "    \n",
    "    \n",
    "# Y = a*X^k + c\n",
    "def func_powerlaw(x,  a, k, c):\n",
    "    return a * (x**k)  +  c\n",
    "\n",
    "# Y = a * log(X) + c\n",
    "def func_logarithmic(x,  a, c):\n",
    "    return [ (a * math.log(x_i) + c)  for x_i in x ]\n",
    "\n",
    "# Y = a / e ^ (bx) + c\n",
    "def func_euler(x,  a, b, c):\n",
    "    return [ (a / (math.e**(b*x_i)) + c) for x_i in x ]\n",
    "\n",
    "def func_maxwellian(x,  a, b, c):\n",
    "    return [ (a * x_i*x_i * (math.e**(-b*x_i)) + c) for x_i in x ]\n",
    "\n",
    "def Plot_JH_Distribution_perBin():\n",
    "    num_of_slots = 20\n",
    "    # choose which bins we are going to work with\n",
    "    if \"(\" in CALCULATIONS_RegionName:\n",
    "        RegionID = CALCULATIONS_RegionName[ CALCULATIONS_RegionName.find('(')+1 : CALCULATIONS_RegionName.rfind(')') ]\n",
    "    else:\n",
    "        RegionID = CALCULATIONS_RegionName\n",
    "    BinsIncludedAtPlot = list()\n",
    "    for B in Bins:\n",
    "        if B.ID.startswith(RegionID): BinsIncludedAtPlot.append( B )\n",
    "    \n",
    "    # init \n",
    "    #generalMean = sum(all_JH_values) / len(all_JH_values)\n",
    "    upper_value = (2)*BinsIncludedAtPlot[0].JH_mean\n",
    "    lower_value = 0\n",
    "    #upper_value = max(all_JH_values)\n",
    "    #lower_value = min(all_JH_values)\n",
    "    if lower_value > upper_value: # negative mean\n",
    "        tmp = lower_value\n",
    "        lower_value = upper_value\n",
    "        upper_value = tmp\n",
    "    slot_length = (upper_value - lower_value) / num_of_slots\n",
    "    if slot_length == 0: \n",
    "        print( \"No values for Distribution Plot\" )\n",
    "        return\n",
    "    \n",
    "    # calculate distribution for each bin\n",
    "    for B in BinsIncludedAtPlot:\n",
    "        B.JH_distribution = [0] * num_of_slots\n",
    "        #print(B.ID, \"distribution:\")\n",
    "        for aJHval in B.JH_values:\n",
    "            if aJHval >= lower_value  and    aJHval <= upper_value:\n",
    "                slot_idx = int(   (aJHval - lower_value) / slot_length  )\n",
    "            else:\n",
    "                continue\n",
    "            #print( \">>>>>> \", slot_idx, len(B.JH_distribution) )\n",
    "            if  slot_idx >= len(B.JH_distribution): slot_idx = num_of_slots-1\n",
    "            B.JH_distribution[ slot_idx ] += 1\n",
    "        #print(B.JH_distribution, \"\\n\")    \n",
    "    \n",
    "    # Normalize the distribution to [0,1] at y-axis\n",
    "    #for B in BinsIncludedAtPlot:\n",
    "    #    num_of_all_points_in_bin_distribution = sum(B.JH_distribution)\n",
    "    #    for slot_idx in range(0, len(B.JH_distribution)):\n",
    "    #        B.JH_distribution[ slot_idx ]  /=  num_of_all_points_in_bin_distribution\n",
    "    \n",
    "    # plot the distribution of all bins on the same figure\n",
    "    if len(all_JH_values) > 0  and  Plot_JHdistribution_Checkbox.value == True:\n",
    "        MyColorsIndex = 0\n",
    "        prevKpMin = -1\n",
    "        BinAnnotations = list()\n",
    "        BinIdx = 0\n",
    "        fig = go.Figure()        \n",
    "        print( \"Plotting \" + SELECTED_VARIABLE_longname + \" Distribution\" )\n",
    "        for B in BinsIncludedAtPlot:\n",
    "            if len(B.JH_values) > 0:\n",
    "                # choose color for this bin's points\n",
    "                if prevKpMin >= 0 and prevKpMin != B.Kp_min:\n",
    "                    MyColorsIndex += 1\n",
    "                    if MyColorsIndex>len(MyColors)-1: MyColorsIndex = 0\n",
    "                prevKpMin = B.Kp_min                        \n",
    "\n",
    "                if RegressionOptions_Dropdown.value.startswith( \"Polynomial\" ):\n",
    "                    # calculate the Polynomial Regression\n",
    "                    degree = int( RegressionOptions_Dropdown.value[-1] )\n",
    "                    myPolynomial = np.polyfit( list(range(0,num_of_slots)), B.JH_distribution, degree )\n",
    "                    # construct the equation to display\n",
    "                    poly_str = \"y = \"\n",
    "                    for i in range(0, len(myPolynomial)): \n",
    "                        if i>0 and myPolynomial[i] > 0: poly_str += \"+ \"\n",
    "                        poly_str += \"{:.2e}\".format(myPolynomial[i])\n",
    "                        if i < len(myPolynomial)-1: poly_str += \"x^\" + str(len(myPolynomial)-1-i) + \" \"\n",
    "                    # draw the Polynomial Regression\n",
    "                    mymodel = np.poly1d(myPolynomial)\n",
    "                    myline = np.linspace(1, num_of_slots, num_of_slots)\n",
    "                    fig.add_trace( go.Scatter(name=B.ID+\":  \"+poly_str, mode='lines', x=myline, y=mymodel(myline), line=dict(color=MyColors[MyColorsIndex], width=1) ) )\n",
    "                elif RegressionOptions_Dropdown.value == \"Power law\":\n",
    "                    try:\n",
    "                        OptimalParams, OptParamsCovariance = curve_fit(func_powerlaw, list(range(0,num_of_slots)), B.JH_distribution)\n",
    "                        poly_str = \"y = \" + \"{:.2e}\".format(OptimalParams[0]) + \" * x^\" + \"{:.2e}\".format(OptimalParams[1]) + \" + \" + \"{:.2e}\".format(OptimalParams[2])\n",
    "                        fig.add_trace( go.Scatter(name=B.ID+\":  \"+poly_str, mode='lines', x=list(range(0,num_of_slots)), y=func_powerlaw(list(range(0,num_of_slots)), *OptimalParams), line=dict(color=MyColors[MyColorsIndex], width=1) ) )\n",
    "                    except:\n",
    "                        print( \"Warning: Curve fit failed for\", B.ID )                                               \n",
    "                elif RegressionOptions_Dropdown.value == \"Logarithmic\":\n",
    "                    try:\n",
    "                        OptimalParams, OptParamsCovariance = curve_fit(func_logarithmic, list(range(1,num_of_slots)), B.JH_distribution[1:])\n",
    "                        poly_str = \"y = \" + \"{:.2e}\".format(OptimalParams[0]) + \" * log(x) +\" + \"{:.2e}\".format(OptimalParams[1])\n",
    "                        fig.add_trace( go.Scatter(name=B.ID+\":  \"+poly_str, mode='lines', x=list(range(1,num_of_slots)), y=func_logarithmic(list(range(1,num_of_slots)), *OptimalParams), line=dict(color=MyColors[MyColorsIndex], width=1) ) )\n",
    "                    except:\n",
    "                        print( \"Warning: Curve fit failed for\", B.ID )                        \n",
    "                elif RegressionOptions_Dropdown.value == \"Euler\":\n",
    "                    try:\n",
    "                        OptimalParams, OptParamsCovariance = curve_fit(func_euler, list(range(1,num_of_slots)), B.JH_distribution[1:])\n",
    "                        poly_str = \"y = \" + \"{:.2e}\".format(OptimalParams[0]) + \" / e^(\" + \"{:.2e}\".format(OptimalParams[1]) + \"*x) + \" + \"{:.2e}\".format(OptimalParams[2])\n",
    "                        fig.add_trace( go.Scatter(name=B.ID+\":  \"+poly_str, mode='lines', x=list(range(1,num_of_slots)), y=func_euler(list(range(1,num_of_slots)), *OptimalParams), line=dict(color=MyColors[MyColorsIndex], width=1) ) )\n",
    "                    except:\n",
    "                        print( \"Warning: Curve fit failed for\", B.ID )                        \n",
    "                elif RegressionOptions_Dropdown.value == \"Maxwell\":\n",
    "                    try:\n",
    "                        OptimalParams, OptParamsCovariance = curve_fit(func_maxwellian, list(range(1,num_of_slots)), B.JH_distribution[1:])\n",
    "                        poly_str = \"y = \" + \"{:.2e}\".format(OptimalParams[0]) + \" * x^2 * e^(-\" + \"{:.2e}\".format(OptimalParams[1]) + \"*x) + \" + \"{:.2e}\".format(OptimalParams[2])\n",
    "                        fig.add_trace( go.Scatter(name=B.ID+\":  \"+poly_str, mode='lines', x=list(range(1,num_of_slots)), y=func_maxwellian(list(range(1,num_of_slots)), *OptimalParams), line=dict(color=MyColors[MyColorsIndex], width=1) ) )                    \n",
    "                    except:\n",
    "                        print( \"Warning: Curve fit failed for\", B.ID )                        \n",
    "\n",
    "                # draw the distribution\n",
    "                bin_desciption = B.ID + \":  \" + str(B.Altitude_min) + \"<Alt<\"+ str(B.Altitude_max) + \"  <b>\" + str(B.Kp_min) + \"<Kp<\" + str(B.Kp_max) + \"</b>\" + \"  Mean=\" + \"{:.3e}\".format(B.JH_mean) + \"  \" + \"Variance=\" + \"{:.3e}\".format(B.JH_variance) + \"  St.Deviation=\" + \"{:.3e}\".format(B.JH_variance**(1/2))\n",
    "                fig.add_trace( go.Scatter(name=bin_desciption, x=list(range(0,num_of_slots)), y=B.JH_distribution, mode='markers', marker_size=3, marker_color=MyColors[MyColorsIndex]  ) )\n",
    "                \n",
    "                # add visuals for the mean line                \n",
    "                mean_slot_idx = int(   (B.JH_mean - lower_value) / slot_length  )\n",
    "                fig.add_shape( type=\"line\", x0=mean_slot_idx, y0=0,     x1=mean_slot_idx, y1=(95/100)*max(B.JH_distribution),     line=dict( color=MyColors[MyColorsIndex], width=1, ), )    \n",
    "                # add bin name above the mean line\n",
    "                BinAnnotations.append( dict( x=mean_slot_idx, y=(95/100)*max(B.JH_distribution), xref=\"x\", yref=\"y\", text=B.ID, showarrow=False, yshift=8, font=dict(color=MyColors[MyColorsIndex])) )\n",
    "                \n",
    "                # add visuals for standard deviation\n",
    "                #StDev_slots_width = int(   ((B.JH_variance)**(1/2)/2) / slot_length  )\n",
    "                #fig.add_shape( type=\"line\", x0=mean_slot_idx-StDev_slots_width, y0=(95/100)*max(B.JH_distribution),     x1=mean_slot_idx+StDev_slots_width, y1=(95/100)*max(B.JH_distribution),     line=dict( color=MyColors[MyColorsIndex], width=1, ), )\n",
    "                \n",
    "                BinIdx += 1\n",
    "                \n",
    "        # draw correct ticks at the x-axis, containing the JH values\n",
    "        XaxisTickPositions = list()\n",
    "        XaxisTickLabels = list()\n",
    "        for i in range( 0, num_of_slots, int(num_of_slots/5) ):\n",
    "            XaxisTickPositions.append( i )\n",
    "            XaxisTickLabels.append(  \"{:.3e}\".format(lower_value + i*slot_length)  )            \n",
    "        XaxisTickPositions.append( num_of_slots-1 )\n",
    "        XaxisTickLabels.append(  \"{:.3e}\".format(upper_value)  )\n",
    "        fig.update_xaxes( tickmode = 'array', tickvals=XaxisTickPositions,  ticktext=XaxisTickLabels )\n",
    "                \n",
    "        fig.update_layout( annotations=BinAnnotations )\n",
    "        fig.update_layout( title=SELECTED_VARIABLE_longname+\" Distribution per Bin - \" + getBinDescription(CALCULATIONS_RegionName), \n",
    "                           width=1000, height=900, legend_orientation=\"h\", legend= {'itemsizing': 'constant'}) \n",
    "        fig.update_xaxes(range=[0,num_of_slots-1], title=SELECTED_VARIABLE_shortname+\" (\"+SELECTED_VARIABLE_units+\")\", showexponent = 'all', exponentformat = 'e')\n",
    "        fig.update_yaxes(title=\"Number of hits inside the bin\") #rangemode='nonnegative'\n",
    "        plotly.offline.init_notebook_mode(connected=True)\n",
    "        plotly.offline.iplot(fig)\n",
    "\n",
    "\n",
    "        \n",
    "\n",
    "        \n",
    "        \n",
    "# slack msg: May 26\n",
    "def Plot_Alex_Distribution():\n",
    "    num_of_slots = 25\n",
    "    # choose which bins we are going to work with\n",
    "    if \"(\" in CALCULATIONS_RegionName:\n",
    "        RegionID = CALCULATIONS_RegionName[ CALCULATIONS_RegionName.find('(')+1 : CALCULATIONS_RegionName.rfind(')') ]\n",
    "    else:\n",
    "        RegionID = CALCULATIONS_RegionName\n",
    "    BinsIncludedAtPlot = list()\n",
    "    for B in Bins:\n",
    "        if B.ID.startswith(RegionID): BinsIncludedAtPlot.append( B )\n",
    "\n",
    "\n",
    "    print( \"%%%%%%%%\")\n",
    "    print( len(BinsIncludedAtPlot) )\n",
    "    print( BinsIncludedAtPlot[0].JH_mean )\n",
    "    print( len(BinsIncludedAtPlot[0].JH_values) )\n",
    "            \n",
    "            \n",
    "    # merge all into one bin # TODO: remove after orbit calculation with correct sub-bins\n",
    "    if ( len(BinsIncludedAtPlot) == 3 ):\n",
    "        print( \"MERGING\" )\n",
    "        #BinsIncludedAtPlot[0].JH_values += BinsIncludedAtPlot[1].JH_values\n",
    "        #BinsIncludedAtPlot[0].JH_values += BinsIncludedAtPlot[2].JH_values\n",
    "        concatLists( BinsIncludedAtPlot[0].JH_values, BinsIncludedAtPlot[1].JH_values )\n",
    "        concatLists( BinsIncludedAtPlot[0].JH_values, BinsIncludedAtPlot[2].JH_values )\n",
    "        BinsIncludedAtPlot[0].JH_mean = sum(BinsIncludedAtPlot[0].JH_values) / len(BinsIncludedAtPlot[0].JH_values)\n",
    "        del BinsIncludedAtPlot[-1]\n",
    "        del BinsIncludedAtPlot[-1]\n",
    "            \n",
    "    \n",
    "    print( \"%%%%%%%%\")\n",
    "    print( len(BinsIncludedAtPlot) )\n",
    "    print( BinsIncludedAtPlot[0].JH_mean )\n",
    "    print( len(BinsIncludedAtPlot[0].JH_values) )\n",
    "    print( \"%%%%%%%%\")\n",
    "    \n",
    "    # init \n",
    "    #generalMean = sum(all_JH_values) / len(all_JH_values)\n",
    "    upper_value = (2)*BinsIncludedAtPlot[0].JH_mean\n",
    "    lower_value = 0\n",
    "    #upper_value = max(all_JH_values)\n",
    "    #lower_value = min(all_JH_values)\n",
    "    if lower_value > upper_value: # negative mean\n",
    "        tmp = lower_value\n",
    "        lower_value = upper_value\n",
    "        upper_value = tmp\n",
    "        \n",
    "    upper_value = 1.3e-8\n",
    "    \n",
    "    slot_length = (upper_value - lower_value) / num_of_slots\n",
    "    if slot_length == 0: \n",
    "        print( \"No values for Distribution Plot\" )\n",
    "        return\n",
    "    \n",
    "    # calculate distribution for each bin\n",
    "    for B in BinsIncludedAtPlot:\n",
    "        B.JH_distribution = [0] * num_of_slots\n",
    "        #print(B.ID, \"distribution:\")\n",
    "        for aJHval in B.JH_values:\n",
    "            if aJHval >= lower_value  and    aJHval <= upper_value:\n",
    "                slot_idx = int(   (aJHval - lower_value) / slot_length  )\n",
    "            else:\n",
    "                continue\n",
    "            #print( \">>>>>> \", slot_idx, len(B.JH_distribution) )\n",
    "            if  slot_idx >= len(B.JH_distribution): slot_idx = num_of_slots-1\n",
    "            B.JH_distribution[ slot_idx ] += 1\n",
    "        #print(B.JH_distribution, \"\\n\")    \n",
    "    \n",
    "    # Normalize the distribution to [0,1] at y-axis\n",
    "    #for B in BinsIncludedAtPlot:\n",
    "    #    num_of_all_points_in_bin_distribution = sum(B.JH_distribution)\n",
    "    #    for slot_idx in range(0, len(B.JH_distribution)):\n",
    "    #        B.JH_distribution[ slot_idx ]  /=  num_of_all_points_in_bin_distribution\n",
    "    \n",
    "    # plot the distribution of all bins on the same figure\n",
    "    if len(all_JH_values) > 0  and  Plot_JHdistribution_Checkbox.value == True:\n",
    "        MyColorsIndex = 0\n",
    "        prevKpMin = -1\n",
    "        BinAnnotations = list()\n",
    "        BinIdx = 0\n",
    "        fig = go.Figure()        \n",
    "        print( \"Plotting \" + SELECTED_VARIABLE_longname + \" Distribution\" )\n",
    "        for B in BinsIncludedAtPlot:\n",
    "            if len(B.JH_values) > 0:\n",
    "                # choose color for this bin's points\n",
    "                if prevKpMin >= 0 and prevKpMin != B.Kp_min:\n",
    "                    MyColorsIndex += 1\n",
    "                    if MyColorsIndex>len(MyColors)-1: MyColorsIndex = 0\n",
    "                prevKpMin = B.Kp_min                        \n",
    "\n",
    "                if RegressionOptions_Dropdown.value.startswith( \"Polynomial\" ):\n",
    "                    # calculate the Polynomial Regression\n",
    "                    degree = int( RegressionOptions_Dropdown.value[-1] )\n",
    "                    myPolynomial = np.polyfit( list(range(0,num_of_slots)), B.JH_distribution, degree )\n",
    "                    # construct the equation to display\n",
    "                    poly_str = \"y = \"\n",
    "                    for i in range(0, len(myPolynomial)): \n",
    "                        if i>0 and myPolynomial[i] > 0: poly_str += \"+ \"\n",
    "                        poly_str += \"{:.2e}\".format(myPolynomial[i])\n",
    "                        if i < len(myPolynomial)-1: poly_str += \"x^\" + str(len(myPolynomial)-1-i) + \" \"\n",
    "                    # draw the Polynomial Regression\n",
    "                    mymodel = np.poly1d(myPolynomial)\n",
    "                    myline = np.linspace(1, num_of_slots, num_of_slots)\n",
    "                    fig.add_trace( go.Scatter(name=B.ID+\":  \"+poly_str, mode='lines', x=myline, y=mymodel(myline), line=dict(color=MyColors[MyColorsIndex], width=1) ) )\n",
    "                elif RegressionOptions_Dropdown.value == \"Power law\":\n",
    "                    try:\n",
    "                        OptimalParams, OptParamsCovariance = curve_fit(func_powerlaw, list(range(0,num_of_slots)), B.JH_distribution)\n",
    "                        poly_str = \"y = \" + \"{:.2e}\".format(OptimalParams[0]) + \" * x^\" + \"{:.2e}\".format(OptimalParams[1]) + \" + \" + \"{:.2e}\".format(OptimalParams[2])\n",
    "                        fig.add_trace( go.Scatter(name=B.ID+\":  \"+poly_str, mode='lines', x=list(range(0,num_of_slots)), y=func_powerlaw(list(range(0,num_of_slots)), *OptimalParams), line=dict(color=MyColors[MyColorsIndex], width=1) ) )\n",
    "                    except:\n",
    "                        print( \"Warning: Curve fit failed for\", B.ID )                                               \n",
    "                elif RegressionOptions_Dropdown.value == \"Logarithmic\":\n",
    "                    try:\n",
    "                        OptimalParams, OptParamsCovariance = curve_fit(func_logarithmic, list(range(1,num_of_slots)), B.JH_distribution[1:])\n",
    "                        poly_str = \"y = \" + \"{:.2e}\".format(OptimalParams[0]) + \" * log(x) +\" + \"{:.2e}\".format(OptimalParams[1])\n",
    "                        fig.add_trace( go.Scatter(name=B.ID+\":  \"+poly_str, mode='lines', x=list(range(1,num_of_slots)), y=func_logarithmic(list(range(1,num_of_slots)), *OptimalParams), line=dict(color=MyColors[MyColorsIndex], width=1) ) )\n",
    "                    except:\n",
    "                        print( \"Warning: Curve fit failed for\", B.ID )                        \n",
    "                elif RegressionOptions_Dropdown.value == \"Euler\":\n",
    "                    try:\n",
    "                        OptimalParams, OptParamsCovariance = curve_fit(func_euler, list(range(1,num_of_slots)), B.JH_distribution[1:])\n",
    "                        poly_str = \"y = \" + \"{:.2e}\".format(OptimalParams[0]) + \" / e^(\" + \"{:.2e}\".format(OptimalParams[1]) + \"*x) + \" + \"{:.2e}\".format(OptimalParams[2])\n",
    "                        fig.add_trace( go.Scatter(name=B.ID+\":  \"+poly_str, mode='lines', x=list(range(1,num_of_slots)), y=func_euler(list(range(1,num_of_slots)), *OptimalParams), line=dict(color=MyColors[MyColorsIndex], width=3) ) )\n",
    "                    except:\n",
    "                        print( \"Warning: Curve fit failed for\", B.ID )                        \n",
    "                elif RegressionOptions_Dropdown.value == \"Maxwell\":\n",
    "                    try:\n",
    "                        OptimalParams, OptParamsCovariance = curve_fit(func_maxwellian, list(range(1,num_of_slots)), B.JH_distribution[1:])\n",
    "                        poly_str = \"y = \" + \"{:.2e}\".format(OptimalParams[0]) + \" * x^2 * e^(-\" + \"{:.2e}\".format(OptimalParams[1]) + \"*x) + \" + \"{:.2e}\".format(OptimalParams[2])\n",
    "                        fig.add_trace( go.Scatter(name=B.ID+\":  \"+poly_str, mode='lines', x=list(range(1,num_of_slots)), y=func_maxwellian(list(range(1,num_of_slots)), *OptimalParams), line=dict(color=MyColors[MyColorsIndex], width=1) ) )                    \n",
    "                    except:\n",
    "                        print( \"Warning: Curve fit failed for\", B.ID )                        \n",
    "\n",
    "                # draw the distribution\n",
    "                bin_desciption = B.ID + \":  \" + str(B.Altitude_min) + \"<Alt<\"+ str(B.Altitude_max) + \"  <b>\" + str(B.Kp_min) + \"<Kp<\" + str(B.Kp_max) + \"</b>\" + \"  Mean=\" + \"{:.3e}\".format(B.JH_mean) + \"  \" + \"Variance=\" + \"{:.3e}\".format(B.JH_variance) + \"  St.Deviation=\" + \"{:.3e}\".format(B.JH_variance**(1/2))\n",
    "                #fig.add_trace( go.Scatter(name=bin_desciption, x=list(range(0,num_of_slots)), y=B.JH_distribution, mode='markers', marker_size=3, marker_color=MyColors[MyColorsIndex]  ) )\n",
    "                #fig.add_trace( go.Bar(name=bin_desciption, x=list(range(0,num_of_slots)), y=B.JH_distribution, marker_color=\"LightSkyBlue\" ) )\n",
    "                \n",
    "                # add visuals for the mean line                \n",
    "                mean_slot_idx = int(   (B.JH_mean - lower_value) / slot_length  )\n",
    "                fig.add_shape( type=\"line\", x0=mean_slot_idx, y0=0,     x1=mean_slot_idx, y1=(95/100)*max(B.JH_distribution),     line=dict( color=MyColors[MyColorsIndex], width=1, ), )    \n",
    "                # add bin name above the mean line\n",
    "                BinAnnotations.append( dict( x=mean_slot_idx, y=(95/100)*max(B.JH_distribution), xref=\"x\", yref=\"y\", text=B.ID, showarrow=False, yshift=8, font=dict(color=MyColors[MyColorsIndex])) )\n",
    "                \n",
    "                # add visuals for standard deviation\n",
    "                #StDev_slots_width = int(   ((B.JH_variance)**(1/2)/2) / slot_length  )\n",
    "                #fig.add_shape( type=\"line\", x0=mean_slot_idx-StDev_slots_width, y0=(95/100)*max(B.JH_distribution),     x1=mean_slot_idx+StDev_slots_width, y1=(95/100)*max(B.JH_distribution),     line=dict( color=MyColors[MyColorsIndex], width=1, ), )\n",
    "                \n",
    "                BinIdx += 1\n",
    "                \n",
    "        # draw correct ticks at the x-axis, containing the JH values\n",
    "        XaxisTickPositions = list()\n",
    "        XaxisTickLabels = list()\n",
    "        for i in range( 0, num_of_slots, int(num_of_slots/5) ):\n",
    "            XaxisTickPositions.append( i )\n",
    "            XaxisTickLabels.append(  \"{:.3e}\".format(lower_value + i*slot_length)  )            \n",
    "        XaxisTickPositions.append( num_of_slots-1 )\n",
    "        XaxisTickLabels.append(  \"{:.3e}\".format(upper_value)  )\n",
    "        fig.update_xaxes( tickmode = 'array', tickvals=XaxisTickPositions,  ticktext=XaxisTickLabels )\n",
    "                \n",
    "        fig.update_layout( annotations=BinAnnotations )\n",
    "        fig.update_layout( title=SELECTED_VARIABLE_longname+\" Distribution per Bin - \" + getBinDescription(CALCULATIONS_RegionName), \n",
    "                           width=1000, height=900, legend_orientation=\"h\", legend= {'itemsizing': 'constant'}) \n",
    "        fig.update_xaxes(range=[0,num_of_slots-1], title=SELECTED_VARIABLE_shortname+\" (\"+SELECTED_VARIABLE_units+\")\", showexponent = 'all', exponentformat = 'e')\n",
    "        fig.update_yaxes(title=\"Number of hits inside the bin\") #rangemode='nonnegative'\n",
    "        plotly.offline.init_notebook_mode(connected=True)\n",
    "        plotly.offline.iplot(fig)\n",
    "        \n",
    "\n",
    "        \n",
    "        \n",
    "def plotComparisonOfResults():\n",
    "    ColorTriplet = [\"#EEEEEE\", \"#FF4447\", \"#257985\"] # white red petrol\n",
    "    # init\n",
    "    BinIDs = list()\n",
    "    Means1 = list()\n",
    "    Means2 = list()\n",
    "    StDev1 = list()\n",
    "    StDev2 = list()\n",
    "    RegionDescription = \"\"\n",
    "    # load results no1\n",
    "    if SavedFilenames_Dropdown.value.endswith( \".nc\" ):\n",
    "        LoadResults_CDF( SavedFilenames_Dropdown.value )\n",
    "    else:\n",
    "        LoadResults( SavedFilenames_Dropdown.value )\n",
    "    for B in Bins:\n",
    "        if B.JH_mean != 0:\n",
    "            RegionDescription = B.Description\n",
    "            BinIDs.append( B.ID )\n",
    "            Means1.append( B.JH_mean )\n",
    "            StDev1.append( math.sqrt(B.JH_variance) )\n",
    "            print( B.ID, B.JH_mean, math.sqrt(B.JH_variance), B.JH_variance**(1/2) )\n",
    "    # load results no2\n",
    "    if SavedFilenames2_Dropdown.value.endswith( \".nc\" ):\n",
    "        LoadResults_CDF( SavedFilenames2_Dropdown.value )\n",
    "    else:\n",
    "        LoadResults( SavedFilenames2_Dropdown.value )\n",
    "\n",
    "    for B in Bins:\n",
    "        if B.JH_mean != 0:\n",
    "            Means2.append( B.JH_mean )\n",
    "            StDev2.append( math.sqrt(B.JH_variance) )\n",
    "    # plot bars chart\n",
    "    Bars = list()\n",
    "    fig = go.Figure(data=[\n",
    "        go.Bar(name='TIEGCM - JH Mean', x=BinIDs, y=Means1, marker_color=ColorTriplet[1], offsetgroup=0),\n",
    "        go.Bar(name='Orbit  - JH Mean', x=BinIDs, y=Means2, marker_color=ColorTriplet[2], offsetgroup=1),\n",
    "        #go.Bar(name='JH StDv 1', x=BinIDs, y=StDev1, marker_color=\"red\",  offsetgroup=0, base=Means1),\n",
    "        #go.Bar(name='JH StDv 2', x=BinIDs, y=StDev2, marker_color=\"cyan\", offsetgroup=1, base=Means2)\n",
    "    ])\n",
    "    fig.update_layout(barmode='group', title='Statistics Comparison - '+RegionDescription , plot_bgcolor=ColorTriplet[0], yaxis = dict(showexponent = 'all',exponentformat = 'e'))\n",
    "    plotly.offline.init_notebook_mode(connected=True)\n",
    "    plotly.offline.iplot(fig) \n",
    "    print(\"Comparison plots finished.\")\n",
    "\n",
    "    \n",
    "\n",
    "# Returns \"Winter\", \"Spring\", \"Summer\" or \"Autumn\", depending on a UTC timestamp. Works for years 2015-2017\n",
    "#                                                                                                          1417392000=12/01/2014@12:00am(UTC)  \n",
    "# 1425168000=03/01/2015@12:00am(UTC) 1433116800=06/01/2015@12:00am(UTC) 1441065600=09/01/2015@12:00am(UTC) 1448928000=12/01/2015@12:00am(UTC)\n",
    "# 1456790400=03/01/2016@12:00am(UTC) 1464739200=06/01/2016@12:00am(UTC) 1472688000=09/01/2016@12:00am(UTC) 1480550400=12/01/2016@12:00am(UTC)\n",
    "# 1488326400=03/01/2017@12:00am(UTC) 1496275200=06/01/2017@12:00am(UTC) 1504224000=09/01/2017@12:00am(UTC) 1512086400=12/01/2017@12:00am(UTC)\n",
    "# 1519862400=03/01/2018@12:00am(UTC)\n",
    "def getSeason( UTCtimestamp ):\n",
    "    result = \"UTC timestamp exceed range of 20015-2017\"\n",
    "    if   UTCtimestamp>=1417392000 and UTCtimestamp<1425168000: \n",
    "        result = \"Winter\"\n",
    "    elif UTCtimestamp>=1425168000 and UTCtimestamp<1433116800: \n",
    "        result = \"Spring\"\n",
    "    elif UTCtimestamp>=1433116800 and UTCtimestamp<1441065600: \n",
    "        result = \"Summer\"        \n",
    "    elif UTCtimestamp>=1441065600 and UTCtimestamp<1448928000: \n",
    "        result = \"Autumn\"\n",
    "    elif UTCtimestamp>=1448928000 and UTCtimestamp<1456790400: \n",
    "        result = \"Winter\"\n",
    "    elif UTCtimestamp>=1456790400 and UTCtimestamp<1464739200: \n",
    "        result = \"Spring\"\n",
    "    elif UTCtimestamp>=1464739200 and UTCtimestamp<1472688000: \n",
    "        result = \"Summer\"\n",
    "    elif UTCtimestamp>=1472688000 and UTCtimestamp<1480550400: \n",
    "        result = \"Autumn\"        \n",
    "    elif UTCtimestamp>=1480550400 and UTCtimestamp<1488326400: \n",
    "        result = \"Winter\"                \n",
    "    elif UTCtimestamp>=1488326400 and UTCtimestamp<1496275200: \n",
    "        result = \"Spring\"        \n",
    "    elif UTCtimestamp>=1496275200 and UTCtimestamp<1504224000: \n",
    "        result = \"Summer\"                \n",
    "    elif UTCtimestamp>=1504224000 and UTCtimestamp<1512086400: \n",
    "        result = \"Autumn\"                \n",
    "    elif UTCtimestamp>=1512086400 and UTCtimestamp<1519862400: \n",
    "        result = \"Winter\"\n",
    "    #    \n",
    "    return result\n",
    "    \n",
    "    \n",
    "'''    \n",
    "def plotAltitudeProfiles_perSeason( plot_all_seasons_together ):\n",
    "    if Plot_AltProfilesCanonical_Checkbox.value == False: return # <<<\n",
    "    # init parameters\n",
    "    if SELECTED_VARIABLE == \"Ohmic\":\n",
    "        x_axes_range=[0, 6] # JH\n",
    "        MultiplicationFactor = 10**8 \n",
    "        new_units = \"10^-8 W/m3\"\n",
    "    elif SELECTED_VARIABLE == \"SIGMA_PED\":\n",
    "        x_axes_range=[0, 0.3]\n",
    "        MultiplicationFactor = 10**3 \n",
    "        new_units = \"mS/m\"\n",
    "    elif SELECTED_VARIABLE == \"SIGMA_HAL\":\n",
    "        x_axes_range=[0, 1.5]\n",
    "        MultiplicationFactor = 10**3 \n",
    "        new_units = \"mS/m\"        \n",
    "    else:\n",
    "        x_axes_range=[0, 100] \n",
    "        MultiplicationFactor = 1\n",
    "        new_units = \"?\"\n",
    "        \n",
    "    # init data structures\n",
    "    Profiles = dict()\n",
    "    MLT_duration_of_a_profile = 3\n",
    "    ALT_distance_of_a_bucket  = 4\n",
    "    MLTsequence     = list( range( 0,  24, MLT_duration_of_a_profile) )\n",
    "    ALTsequence     = list( range(80, 150, ALT_distance_of_a_bucket ) )\n",
    "    if plot_all_seasons_together:\n",
    "        SEASONSsequence = [ \"All Seasons\" ]\n",
    "    else:\n",
    "        SEASONSsequence = [ \"Spring\", \"Summer\", \"Autumn\", \"Winter\" ] \n",
    "    if len(SEASONSsequence) > 1: x_axes_range[1] *= 1.4\n",
    "    for aMLT in MLTsequence:\n",
    "        for anALT in ALTsequence:\n",
    "            for aSEASON in SEASONSsequence:\n",
    "                Profiles[(aSEASON, aMLT, anALT)] = list()\n",
    "        \n",
    "    # parse all values and decide into which sum they must fall\n",
    "    for i in range( 0, len(all_Time_values) ):\n",
    "        mlt_to_fall = alt_to_fall = -1        \n",
    "        # find correct season\n",
    "        if SEASONSsequence[0] == \"All Seasons\":\n",
    "            season_to_fall = \"All Seasons\"\n",
    "        else:\n",
    "            season_to_fall = getSeason( all_Time_values[i] )     \n",
    "        if len(season_to_fall) > 15: print(\"Error: wrong season for idx =\", i, \"  UTC =\",  all_Time_values[i], season_to_fall )        \n",
    "        # find correct MLT\n",
    "        for seq_idx in range(1, len(MLTsequence)):\n",
    "            if all_MLT_values[i] < MLTsequence[seq_idx]: \n",
    "                mlt_to_fall=MLTsequence[seq_idx-1]\n",
    "                break\n",
    "        if mlt_to_fall == -1: mlt_to_fall = MLTsequence[len(MLTsequence)-1] # for hour=24                \n",
    "        # find correct Alt\n",
    "        for seq_idx in range(1, len(ALTsequence)):\n",
    "            if all_Altitude_values[i] < ALTsequence[seq_idx]: \n",
    "                alt_to_fall=ALTsequence[seq_idx-1]\n",
    "                break\n",
    "        if alt_to_fall == -1: continue # ignore highest altitudes\n",
    "        # store the value at the right place\n",
    "        Profiles[ (season_to_fall, mlt_to_fall, alt_to_fall) ].append( all_JH_values[ i ] )\n",
    "    \n",
    "    # plot\n",
    "    fig = make_subplots(rows=len(SEASONSsequence), cols=8, shared_xaxes=True, shared_yaxes=True, vertical_spacing=0.02, subplot_titles=(\"0-3\", \"3-6\", \"6-9\", \"9-12\", \"12-15\", \"15-18\", \"18-21\", \"21-24\"))\n",
    "    for aSEASON in SEASONSsequence:\n",
    "        for aMLT in MLTsequence:\n",
    "            Means = list()\n",
    "            Percentiles10 = list()\n",
    "            Percentiles25 = list()\n",
    "            Percentiles50 = list()\n",
    "            Percentiles75 = list()\n",
    "            Percentiles90 = list()\n",
    "            hits  = 0\n",
    "            for anALT in ALTsequence:\n",
    "                hits += len(Profiles[(aSEASON, aMLT, anALT)])\n",
    "                if len(Profiles[(aSEASON, aMLT, anALT)]) > 0:\n",
    "                    Means.append(  sum(Profiles[(aSEASON, aMLT, anALT)]) / len(Profiles[(aSEASON, aMLT, anALT)]) )\n",
    "                    Percentiles10.append( np.percentile(Profiles[(aSEASON, aMLT, anALT)], 10) )\n",
    "                    Percentiles25.append( np.percentile(Profiles[(aSEASON, aMLT, anALT)], 25) )\n",
    "                    Percentiles50.append( np.percentile(Profiles[(aSEASON, aMLT, anALT)], 50) )\n",
    "                    Percentiles75.append( np.percentile(Profiles[(aSEASON, aMLT, anALT)], 75) )\n",
    "                    Percentiles90.append( np.percentile(Profiles[(aSEASON, aMLT, anALT)], 90) )\n",
    "                else:\n",
    "                    Means.append( 0 )\n",
    "                    Percentiles10.append( 0 )\n",
    "                    Percentiles25.append( 0 )\n",
    "                    Percentiles50.append( 0 )\n",
    "                    Percentiles75.append( 0 )\n",
    "                    Percentiles90.append( 0 )\n",
    "            print( aSEASON, \"MLT =\", aMLT, \"  Hits =\", hits )\n",
    "            \n",
    "            # change units\n",
    "            for i in range(0,len(Means)): \n",
    "                Means[i] *= MultiplicationFactor\n",
    "                Percentiles75[i] *= MultiplicationFactor\n",
    "                Percentiles90[i] *= MultiplicationFactor\n",
    "            \n",
    "            # plot percentiles 10th, 25th, 50th\n",
    "            fig.add_trace( go.Scatter(x=Percentiles10, y=ALTsequence, mode='lines', fill='tonexty', fillcolor='red', line=dict(color='gray',width=1,), showlegend=False), row=SEASONSsequence.index(aSEASON)+1, col=MLTsequence.index(aMLT)+1 )\n",
    "            fig.add_trace( go.Scatter(x=Percentiles25, y=ALTsequence, mode='lines', fill='tonexty', fillcolor='yellow', line=dict(color='gray',width=1,), showlegend=False), row=SEASONSsequence.index(aSEASON)+1, col=MLTsequence.index(aMLT)+1 )\n",
    "            fig.add_trace( go.Scatter(x=Percentiles50, y=ALTsequence, mode='lines', fill='tonexty', fillcolor='green', line=dict(color='gray',width=1,), showlegend=False), row=SEASONSsequence.index(aSEASON)+1, col=MLTsequence.index(aMLT)+1 )\n",
    "            # plot mean\n",
    "            fig.add_trace( go.Scatter(x=Means, y=ALTsequence, mode='lines', fill='tonexty', fillcolor='#1995ad', line=dict(color='black',width=1,), showlegend=False), row=SEASONSsequence.index(aSEASON)+1, col=MLTsequence.index(aMLT)+1 )\n",
    "            # plot percentiles 75th, 90th\n",
    "            fig.add_trace( go.Scatter(x=Percentiles75, y=ALTsequence, mode='lines', fill='tonexty', fillcolor='#a1d6e2', line=dict(color='gray',width=1,), showlegend=False), row=SEASONSsequence.index(aSEASON)+1, col=MLTsequence.index(aMLT)+1 )\n",
    "            fig.add_trace( go.Scatter(x=Percentiles90, y=ALTsequence, mode='lines', fill='tonexty', fillcolor='#c4dfe6', line=dict(color='gray',width=1,), showlegend=False), row=SEASONSsequence.index(aSEASON)+1, col=MLTsequence.index(aMLT)+1 )\n",
    "\n",
    "    fig.add_trace( go.Scatter(name='Mean value', x=Means, y=ALTsequence, mode='lines', fill='tonexty', fillcolor='#5cc5ef', line=dict(color='black',width=1,), showlegend=True), row=SEASONSsequence.index(aSEASON)+1, col=MLTsequence.index(aMLT)+1 )            \n",
    "    fig.add_trace( go.Scatter(name='75th Percentile', x=Percentiles75, y=ALTsequence, mode='lines', fill='tonexty', fillcolor='#a1d6e2', line=dict(color='gray',width=1,), showlegend=True), row=SEASONSsequence.index(aSEASON)+1, col=MLTsequence.index(aMLT)+1 )\n",
    "    fig.add_trace( go.Scatter(name='90th Percentile', x=Percentiles90, y=ALTsequence, mode='lines', fill='tonexty', fillcolor='#c4dfe6', line=dict(color='gray',width=1,), showlegend=True), row=SEASONSsequence.index(aSEASON)+1, col=MLTsequence.index(aMLT)+1 )\n",
    "            \n",
    "    #fig.update_yaxes( title=\"Altitude(km)\" )\n",
    "    for aSEASON in SEASONSsequence:\n",
    "        fig.update_yaxes( title_text=\"Altitude (km)\", row=SEASONSsequence.index(aSEASON)+1, col=1)\n",
    "        fig.update_yaxes( title_text=aSEASON, row=SEASONSsequence.index(aSEASON)+1, col=8, side='right' )\n",
    "    fig.update_xaxes( range=x_axes_range )        \n",
    "    fig.update_yaxes( range=[80, 150] )  \n",
    "    fig.update_layout( title = getBinDescription(CALCULATIONS_RegionName) + \" - \" + \"Altitude Profile of \" + SELECTED_VARIABLE_longname + \" (\" + new_units + \")\",\n",
    "                       width=1000, height=200+200*len(SEASONSsequence), showlegend=True) \n",
    "    plotly.offline.init_notebook_mode(connected=True)\n",
    "    plotly.offline.iplot(fig) \n",
    "'''\n",
    "\n",
    "    \n",
    "    \n",
    "    \n",
    "    \n",
    "    \n",
    "    \n",
    "    \n",
    "    \n",
    "    \n",
    "Profiles = dict()    \n",
    "MLTsequence = list()\n",
    "ALTsequence = list()\n",
    "MLT_duration_of_a_profile = 0\n",
    "ALT_distance_of_a_bucket = 0\n",
    "regionMLTmax = 0\n",
    "regionMLTmin = 0\n",
    "ProfilesUpdateLock = threading.Lock()   \n",
    "class Thread_AltProfBinner (threading.Thread):\n",
    "    def __init__(self, from_idx, to_idx):\n",
    "        threading.Thread.__init__(self)\n",
    "        self.from_idx = from_idx\n",
    "        self.to_idx = to_idx\n",
    "    def run(self):\n",
    "        global Profiles\n",
    "        for i in range( self.from_idx, self.to_idx ):\n",
    "            mlt_to_fall = alt_to_fall = -1  \n",
    "            # find correct Alt\n",
    "            for seq_idx in range(0, len(ALTsequence)):\n",
    "                if all_Altitude_values[i]>=ALTsequence[seq_idx] and all_Altitude_values[i]<ALTsequence[seq_idx]+ALT_distance_of_a_bucket:\n",
    "                    alt_to_fall=ALTsequence[seq_idx]\n",
    "                    break\n",
    "            if alt_to_fall == -1: continue # ignore highest altitudes        \n",
    "            # find correct kp\n",
    "            if all_Kp_values[i] < 3: \n",
    "                kp_to_fall = 0\n",
    "            else:\n",
    "                kp_to_fall = 3\n",
    "            # find correct MLT\n",
    "            MLT_tocheck = all_MLT_values[i]\n",
    "            if regionMLTmax>24  and  MLT_tocheck<=regionMLTmax-24:\n",
    "                MLT_tocheck += 24\n",
    "            for seq_idx in range(0, len(MLTsequence)):\n",
    "                if MLT_tocheck>=MLTsequence[seq_idx] and MLT_tocheck<MLTsequence[seq_idx]+MLT_duration_of_a_profile: \n",
    "                    mlt_to_fall=MLTsequence[seq_idx]\n",
    "                    break\n",
    "            if MLT_tocheck == MLTsequence[len(MLTsequence)-1]+MLT_duration_of_a_profile: mlt_to_fall = MLTsequence[len(MLTsequence)-1] # for last MLT position\n",
    "            # store the value at the right place\n",
    "            #ProfilesUpdateLock.acquire()\n",
    "            if all_JH_values[ i ] > 10: print(\"!!!!!!!!!!!!!!!! JH=\",all_JH_values[ i ], \"at\",i, kp_to_fall, mlt_to_fall, alt_to_fall)\n",
    "            if \"MultiFileResults\" in SavedFilenames_Dropdown.value: # it is results of tiegcm\n",
    "                Profiles[ (kp_to_fall, mlt_to_fall, alt_to_fall) ].append( all_JH_values[ i ] )\n",
    "            else: # it is results of orbit\n",
    "                if alt_to_fall >= 120:\n",
    "                    Profiles[ (kp_to_fall, mlt_to_fall, alt_to_fall) ].append( all_JH_values[ i ] )\n",
    "            #ProfilesUpdateLock.release()   \n",
    "\n",
    "    \n",
    "def plotAltProfilesCanonical_perKpRange( ):\n",
    "    global Profiles, MLTsequence, ALTsequence, MLT_duration_of_a_profile, ALT_distance_of_a_bucket, regionMLTmax, regionMLTmin\n",
    "    if Plot_AltProfilesCanonical_Checkbox.value == False: return # <<<\n",
    "    # init parameters\n",
    "    if SELECTED_VARIABLE == \"Ohmic\":\n",
    "        x_axes_range=[0, 6]\n",
    "        MultiplicationFactor = 10**8 \n",
    "        new_units = \"10^-8 W/m3\"\n",
    "    elif SELECTED_VARIABLE == \"SIGMA_PED\":\n",
    "        x_axes_range=[0, 0.15]\n",
    "        MultiplicationFactor = 10**3 \n",
    "        new_units = \"mS/m\"\n",
    "    elif SELECTED_VARIABLE == \"SIGMA_HAL\":\n",
    "        x_axes_range=[0, 0.4] \n",
    "        MultiplicationFactor = 10**3 \n",
    "        new_units = \"mS/m\"        \n",
    "    elif SELECTED_VARIABLE == \"Convection_heating\":\n",
    "        x_axes_range=[0, 6] \n",
    "        MultiplicationFactor = 10**8 \n",
    "        new_units = \"10^-8 W/m3\"           \n",
    "    elif SELECTED_VARIABLE == \"Wind_heating\":\n",
    "        x_axes_range=[0, 6] \n",
    "        MultiplicationFactor = 10**8 \n",
    "        new_units = \"10^-8 W/m3\"                   \n",
    "    elif SELECTED_VARIABLE == \"EEX_si\" or SELECTED_VARIABLE == \"EEY_si\":\n",
    "        x_axes_range=[-24, 0] \n",
    "        MultiplicationFactor = 1\n",
    "        new_units = \"mV/m\"        \n",
    "    else:\n",
    "        x_axes_range=[0, 100] \n",
    "        MultiplicationFactor = 1\n",
    "        new_units = \"?\" \n",
    "        \n",
    "    print(SELECTED_VARIABLE)\n",
    "\n",
    "    # Region specific binning:\n",
    "    if \"(\" in CALCULATIONS_RegionName:\n",
    "        RegionID = CALCULATIONS_RegionName[ CALCULATIONS_RegionName.find('(')+1 : CALCULATIONS_RegionName.rfind(')') ]\n",
    "    else:\n",
    "        RegionID = CALCULATIONS_RegionName\n",
    "    regionMLTmin = 999\n",
    "    regionMLTmax = -999\n",
    "    regionALTmin = 999\n",
    "    regionALTmax = -999\n",
    "    for B in Bins:\n",
    "        if B.ID.startswith( RegionID ):\n",
    "            if regionMLTmin>B.MLT_min: regionMLTmin = B.MLT_min\n",
    "            if regionMLTmax<B.MLT_max: regionMLTmax = B.MLT_max\n",
    "            if regionALTmin>B.Altitude_min: regionALTmin = B.Altitude_min\n",
    "            if regionALTmax<B.Altitude_max: regionALTmax = B.Altitude_max\n",
    "    if regionMLTmax < regionMLTmin: regionMLTmax += 24\n",
    "        \n",
    "    # find lowest altitude\n",
    "    LowestAltitude = 999999\n",
    "    for i in range(0, len(all_Altitude_values)):\n",
    "        if LowestAltitude > all_Altitude_values[i]: LowestAltitude = all_Altitude_values[i]\n",
    "    \n",
    "    # init data structures\n",
    "    Profiles = dict()\n",
    "    if \"TRO\" in RegionID:\n",
    "        MLT_duration_of_a_profile = 3        \n",
    "    else:\n",
    "        MLT_duration_of_a_profile = 6\n",
    "    ALT_distance_of_a_bucket  = 5\n",
    "    MLTsequence     = list( range( regionMLTmin, regionMLTmax, MLT_duration_of_a_profile) )\n",
    "    ALTsequence     = list( range( regionALTmin, regionALTmax, ALT_distance_of_a_bucket ) )\n",
    "    KPsequence      = [ 0, 3 ] \n",
    "    for aMLT in MLTsequence:\n",
    "        for anALT in ALTsequence:\n",
    "            for aKP in KPsequence:\n",
    "                Profiles[(aKP, aMLT, anALT)] = list()\n",
    "    \n",
    "    print( \"Parsing\", len(all_JH_values), \"values.\", datetime.now().strftime(\"%d-%m-%Y %H:%M:%S\") )\n",
    "    # parse all values and decide into which sum they must fall\n",
    "    AllThreads = list()\n",
    "    positions_per_thread = int ( len(all_JH_values) / 10 )\n",
    "    from_pos = 0\n",
    "    while from_pos < len(all_JH_values):\n",
    "        # calculate boundaries for thread\n",
    "        to_pos = from_pos + positions_per_thread\n",
    "        if to_pos >= len(all_JH_values): to_pos = len(all_JH_values)-1\n",
    "        if len(all_JH_values)-to_pos<positions_per_thread : to_pos = len(all_JH_values)-1\n",
    "        # spawn new thread\n",
    "        print(\"Thread:\", from_pos, \"-\", to_pos, \" of \" ,len(all_JH_values), \"positions\")\n",
    "        T = Thread_AltProfBinner(from_pos, to_pos)\n",
    "        AllThreads.append(T)\n",
    "        T.start()\n",
    "        # go on\n",
    "        from_pos += positions_per_thread\n",
    "        \n",
    "    # wait for all threads to terminate\n",
    "    for T in AllThreads: T.join()\n",
    "\n",
    "    # plot\n",
    "    Color10 = '#c4dfe6'\n",
    "    Color25 = '#a1d6e2'\n",
    "    Color50 = '#1995ad'\n",
    "    Color75 = '#a1d6e2'\n",
    "    Color90 = '#c4dfe6'\n",
    "    \n",
    "    # construct the column MLT titles #(\"0-3\", \"3-6\", \"6-9\", \"9-12\", \"12-15\", \"15-18\", \"18-21\", \"21-24\")\n",
    "    ColumnTitles = list()\n",
    "    \n",
    "    for i in range(0, len(MLTsequence)):\n",
    "        ColumnTitles.append( \"MLT \" + str(MLTsequence[i]) + \"-\"  + str(MLTsequence[i]+MLT_duration_of_a_profile) )\n",
    "    # define secondary y-axis at the right of the plot\n",
    "    mySpecs = list()\n",
    "    for row in range(0, len(KPsequence)):\n",
    "        mySpecs.append( list() )\n",
    "        for col in range(0, len(MLTsequence)):\n",
    "            mySpecs[row].append( {\"secondary_y\": True} )\n",
    "        \n",
    "    #make plot\n",
    "    fig = make_subplots(rows=len(KPsequence), cols=len(MLTsequence), shared_xaxes=True, shared_yaxes=True, vertical_spacing=0.035, horizontal_spacing=0.01, subplot_titles=ColumnTitles, specs=mySpecs)\n",
    "    for aKP in KPsequence:\n",
    "        for aMLT in MLTsequence:\n",
    "            #Means = list()\n",
    "            Percentiles10 = list()\n",
    "            Percentiles25 = list()\n",
    "            Percentiles50 = list()            \n",
    "            Percentiles75 = list()\n",
    "            Percentiles90 = list()\n",
    "            visibleALTsequence = list()\n",
    "            hits  = 0\n",
    "            for anALT in ALTsequence:\n",
    "                print(\"  \", anALT, \"km     hits =\",  len(Profiles[(aKP, aMLT, anALT)]))\n",
    "                hits += len(Profiles[(aKP, aMLT, anALT)])\n",
    "                if len(Profiles[(aKP, aMLT, anALT)]) > 0:\n",
    "                    #Means.append(  sum(Profiles[(aKP, aMLT, anALT)]) / len(Profiles[(aKP, aMLT, anALT)]) )\n",
    "                    Percentiles10.append( np.percentile(Profiles[(aKP, aMLT, anALT)], 10) )\n",
    "                    Percentiles25.append( np.percentile(Profiles[(aKP, aMLT, anALT)], 25) )\n",
    "                    Percentiles50.append( np.percentile(Profiles[(aKP, aMLT, anALT)], 50) )                    \n",
    "                    Percentiles75.append( np.percentile(Profiles[(aKP, aMLT, anALT)], 75) )\n",
    "                    Percentiles90.append( np.percentile(Profiles[(aKP, aMLT, anALT)], 90) )\n",
    "                    visibleALTsequence.append( anALT )\n",
    "                #else:\n",
    "                    #Means.append( 0 )\n",
    "                    #Percentiles10.append( 0 )\n",
    "                    #Percentiles25.append( 0 )\n",
    "                    #Percentiles50.append( 0 )                    \n",
    "                    #Percentiles75.append( 0 )\n",
    "                    #Percentiles90.append( 0 )\n",
    "            print( \"Kp = \", aKP, \"MLT =\", aMLT, \"   Hits =\", hits, \"  \", datetime.now().strftime(\"%d-%m-%Y %H:%M:%S\") )\n",
    "            \n",
    "            # change units\n",
    "            for i in range(0,len(Percentiles50)): \n",
    "                #Means[i] *= MultiplicationFactor\n",
    "                Percentiles10[i] *= MultiplicationFactor\n",
    "                Percentiles25[i] *= MultiplicationFactor\n",
    "                Percentiles50[i] *= MultiplicationFactor\n",
    "                Percentiles75[i] *= MultiplicationFactor\n",
    "                Percentiles90[i] *= MultiplicationFactor\n",
    "            \n",
    "            # alter visibleALTsequence so that data are displayed correctly\n",
    "            #print(ALTsequence)\n",
    "            #print( Profiles[(aKP, aMLT, anALT)] )\n",
    "            #print( visibleALTsequence )\n",
    "            #print( Percentiles50 )            \n",
    "            '''\n",
    "            for i in range(0, len(visibleALTsequence)):\n",
    "                visibleALTsequence[i] += ALT_distance_of_a_bucket/2\n",
    "            qqqqqq'''                \n",
    "            #for anALT in ALTsequence:\n",
    "            #    if len(Profiles[(aKP, aMLT, anALT)]) > 0:\n",
    "            #        visibleALTsequence[0]  = anALT #regionALTmin\n",
    "            #        break\n",
    "            '''\n",
    "            visibleALTsequence[0] = LowestAltitude\n",
    "            '''\n",
    "            visibleALTsequence[-1] = regionALTmax\n",
    "            #print( visibleALTsequence )\n",
    "            \n",
    "            fig.add_trace( go.Scatter(x=[0]*len(visibleALTsequence), y=visibleALTsequence, mode='lines', fill='tonexty', fillcolor=Color10, line=dict(color='gray',width=1,), showlegend=False), row=KPsequence.index(aKP)+1, col=MLTsequence.index(aMLT)+1 )\n",
    "            fig.add_trace( go.Scatter(x=Percentiles10, y=visibleALTsequence, mode='lines', fill='tonexty', fillcolor=Color10, line=dict(color='gray',width=1,), showlegend=False), row=KPsequence.index(aKP)+1, col=MLTsequence.index(aMLT)+1 )\n",
    "            fig.add_trace( go.Scatter(x=Percentiles25, y=visibleALTsequence, mode='lines', fill='tonexty', fillcolor=Color25, line=dict(color='gray',width=1,), showlegend=False), row=KPsequence.index(aKP)+1, col=MLTsequence.index(aMLT)+1 )\n",
    "            fig.add_trace( go.Scatter(x=Percentiles50, y=visibleALTsequence, mode='lines', fill='tonexty', fillcolor=Color50, line=dict(color='black',width=2,), showlegend=False), row=KPsequence.index(aKP)+1, col=MLTsequence.index(aMLT)+1 )\n",
    "            # plot mean\n",
    "            #fig.add_trace( go.Scatter(x=Means, y=visibleALTsequence, mode='lines', fill='tonexty', fillcolor='black', line=dict(color='black',width=1,), showlegend=False), row=KPsequence.index(aKP)+1, col=MLTsequence.index(aMLT)+1 )\n",
    "            # plot percentiles\n",
    "            fig.add_trace( go.Scatter(x=Percentiles75, y=visibleALTsequence, mode='lines', fill='tonexty', fillcolor=Color75, line=dict(color='gray',width=1,), showlegend=False), row=KPsequence.index(aKP)+1, col=MLTsequence.index(aMLT)+1 )\n",
    "            fig.add_trace( go.Scatter(x=Percentiles90, y=visibleALTsequence, mode='lines', fill='tonexty', fillcolor=Color90, line=dict(color='gray',width=1,), showlegend=False), row=KPsequence.index(aKP)+1, col=MLTsequence.index(aMLT)+1,  )\n",
    "            # add a trace in order to display secondary y-axis at the right\n",
    "            fig.add_trace( go.Scatter(x=[-1000], y=[-1000], showlegend=False), row=KPsequence.index(aKP)+1, col=MLTsequence.index(aMLT)+1, secondary_y=True )\n",
    "            \n",
    "    # display legends\n",
    "    fig.add_trace( go.Scatter(name='10th Perc.', x=Percentiles10, y=visibleALTsequence, mode='lines', fill='tonexty', fillcolor=Color10, line=dict(color='gray',width=1,), showlegend=True), row=KPsequence.index(aKP)+1, col=MLTsequence.index(aMLT)+1 )\n",
    "    fig.add_trace( go.Scatter(name='25th Perc.', x=Percentiles25, y=visibleALTsequence, mode='lines', fill='tonexty', fillcolor=Color25, line=dict(color='gray',width=1,), showlegend=True), row=KPsequence.index(aKP)+1, col=MLTsequence.index(aMLT)+1 )\n",
    "    fig.add_trace( go.Scatter(name='50th Perc.', x=Percentiles50, y=visibleALTsequence, mode='lines', fill='tonexty', fillcolor=Color50, line=dict(color='black',width=2,), showlegend=True), row=KPsequence.index(aKP)+1, col=MLTsequence.index(aMLT)+1 )\n",
    "    #fig.add_trace( go.Scatter(name='Mean value', x=Means, y=visibleALTsequence, mode='lines', fill='tonexty', fillcolor='#5cc5ef', line=dict(color='black',width=1,), showlegend=True), row=KPsequence.index(aKP)+1, col=MLTsequence.index(aMLT)+1 )            \n",
    "    fig.add_trace( go.Scatter(name='75th Perc.', x=Percentiles75, y=visibleALTsequence, mode='lines', fill='tonexty', fillcolor=Color75, line=dict(color='gray',width=1,), showlegend=True), row=KPsequence.index(aKP)+1, col=MLTsequence.index(aMLT)+1 )\n",
    "    fig.add_trace( go.Scatter(name='90th Perc.', x=Percentiles90, y=visibleALTsequence, mode='lines', fill='tonexty', fillcolor=Color90, line=dict(color='gray',width=1,), showlegend=True), row=KPsequence.index(aKP)+1, col=MLTsequence.index(aMLT)+1 )\n",
    "    \n",
    "    \n",
    "    #fig.update_yaxes( title=\"Altitude(km)\" )\n",
    "    for aKP in KPsequence:\n",
    "        fig.update_yaxes( title_text=\"Altitude (km)\", row=KPsequence.index(aKP)+1, col=1, side='left', secondary_y=False)\n",
    "        row_title = \"Kp \" + str(aKP) + \" - \"\n",
    "        if aKP == 0:\n",
    "            row_title +=  \"3\"\n",
    "        elif aKP == 3:\n",
    "            row_title +=  \"9\"\n",
    "        else:\n",
    "            row_title +=  \"?\"\n",
    "        fig.update_yaxes( title_text=row_title, row=KPsequence.index(aKP)+1, col=len(MLTsequence),  side='right', secondary_y=True, showticklabels=False )\n",
    "        for aMLT in MLTsequence:\n",
    "            fig.update_yaxes( row=KPsequence.index(aKP)+1, col=MLTsequence.index(aMLT)+1, secondary_y=True, showticklabels=False )\n",
    "    fig.update_xaxes( range=x_axes_range )\n",
    "    fig.update_yaxes( range=[80, 160], dtick=10 )  \n",
    "    fig.update_layout( title = getBinDescription(CALCULATIONS_RegionName) + \"<br>\" + \"Alt.Prof. of \" + SELECTED_VARIABLE_longname + \" (\" + new_units + \")\",\n",
    "                       width=280+len(MLTsequence)*820, height=200+400*len(KPsequence), showlegend=True, legend_orientation=\"h\", legend_y=-0.04) \n",
    "    plotly.offline.init_notebook_mode(connected=True)\n",
    "    plotly.offline.iplot(fig) \n",
    "    \n",
    "    # plot more zoom versions\n",
    "    new_x_axes_range = [x * (2/3) for x in x_axes_range]\n",
    "    fig.update_xaxes( range=new_x_axes_range )\n",
    "    plotly.offline.iplot(fig) \n",
    "    new_x_axes_range = [x * (1/2) for x in x_axes_range]\n",
    "    fig.update_xaxes( range=new_x_axes_range )\n",
    "    plotly.offline.iplot(fig) \n",
    "    new_x_axes_range = [x * (3/2) for x in x_axes_range]\n",
    "    fig.update_xaxes( range=new_x_axes_range )\n",
    "    plotly.offline.iplot(fig) \n",
    "    new_x_axes_range = [x * (2.5) for x in x_axes_range]\n",
    "    fig.update_xaxes( range=new_x_axes_range )\n",
    "    plotly.offline.iplot(fig) \n",
    "    \n",
    "    \n",
    "DiskAccessLock = threading.Lock()   \n",
    "class Thread_ValueAssigner (threading.Thread):\n",
    "    def __init__(self, DataFilename, ResultsFilename):\n",
    "        threading.Thread.__init__(self)\n",
    "        self.DataFilename = DataFilename\n",
    "        self.ResultsFilename = ResultsFilename\n",
    "    def run(self):\n",
    "        DataFilename = self.DataFilename\n",
    "        ResultsFilename = self.ResultsFilename\n",
    "        print( \"Thread start\",  datetime.now().strftime(\"%d-%m-%Y %H:%M:%S\"), ResultsFilename, \"\\n\" )\n",
    "        MagLat_min =  1000\n",
    "        MagLat_max = -1000\n",
    "        MLT_min    =  1000\n",
    "        MLT_max    = -1000\n",
    "        Altitude_min    =  1000\n",
    "        Altitude_max    = -1000\n",
    "        Lat_min     =  1000\n",
    "        Lat_max     = -1000    \n",
    "        Kp_min     =  1000\n",
    "        Kp_max     = -1000\n",
    "        localBins = copy.deepcopy(Bins)\n",
    "        for B in localBins:\n",
    "            B.reset()\n",
    "            if B.MagLat_min < MagLat_min: MagLat_min = B.MagLat_min \n",
    "            if B.MagLat_max > MagLat_max: MagLat_max = B.MagLat_max\n",
    "            if B.MLT_min < MLT_min: MLT_min = B.MLT_min \n",
    "            if B.MLT_max > MLT_max: MLT_max = B.MLT_max\n",
    "            if B.Altitude_min < Altitude_min: Altitude_min = B.Altitude_min \n",
    "            if B.Altitude_max > Altitude_max: Altitude_max = B.Altitude_max\n",
    "            if B.Lat_min < Lat_min: Lat_min = B.Lat_min \n",
    "            if B.Lat_max > Lat_max: Lat_max = B.Lat_max                        \n",
    "            if B.Kp_min < Kp_min: Kp_min = B.Kp_min \n",
    "            if B.Kp_max > Kp_max: Kp_max = B.Kp_max            \n",
    "        all_JH_values       = list()\n",
    "        all_MagLat_values   = list() \n",
    "        all_MLT_values      = list() \n",
    "        all_Altitude_values = list() \n",
    "        all_Lat_values      = list()\n",
    "        all_Kp_values       = list() \n",
    "        all_Time_values     = list()\n",
    "        all_HittedBin_IDs   = list()\n",
    "        all_EEX_values      = list()\n",
    "        all_EEY_values      = list()\n",
    "        all_Pedersen_values = list()\n",
    "        all_Density_values  = list()\n",
    "        all_Lev_values      = list()\n",
    "        all_Hall_values     = list()\n",
    "        all_ConvectionHeating_values = list()\n",
    "        all_WindHeating_values = list()\n",
    "        Matches = 0\n",
    "        \n",
    "        # parse TIEGCM file\n",
    "        try:\n",
    "            CDFroot = Dataset( DataFilename, 'r' )\n",
    "        except:\n",
    "            print ( \"WRONG FORMAT:\", DataFilename )\n",
    "            return\n",
    "        try:\n",
    "            FileStartTimeStamp = calendar.timegm( datetime.strptime( CDFroot.variables['time'].units[14:],  \"%Y-%m-%d %H:%M:%S\" ).utctimetuple() ) # ex: \"minutes since 2015-1-1 0:0:0\"\n",
    "        except:\n",
    "            print ( \"WRONG CONTENTS:\", DataFilename )\n",
    "            return\n",
    "        length_time = CDFroot.variables['Ohmic'].shape[0]\n",
    "        length_lev  = CDFroot.variables['Ohmic'].shape[1]\n",
    "        length_lat  = CDFroot.variables['Ohmic'].shape[2]\n",
    "        length_lon  = CDFroot.variables['Ohmic'].shape[3]\n",
    "        # wait until disk is released\n",
    "        DiskAccessLock.acquire()\n",
    "        # Load or calculate all basic values from the netcdf file\n",
    "        try:\n",
    "            TIMEs   = CDFroot.variables['time'][:] # minutes since the start time\n",
    "            LATs    = CDFroot.variables['lat'][:] \n",
    "            ALTs    = CDFroot.variables['ZGMID'][:, :, :, :] / 100000 # it is stored in cm inside the file\n",
    "            JHs     = CDFroot.variables['Ohmic'][:, :, :, :]\n",
    "            KPs     = CDFroot.variables['Kp'][:]\n",
    "            MAGLATs = CDFroot.variables['mlat_qdf'][:, :, :, :] \n",
    "            MLTs    = CDFroot.variables['mlt_qdf'][:, :, :, :] \n",
    "            EEXs    = CDFroot.variables['EEX_si'][:, :, :, :] \n",
    "            EEYs    = CDFroot.variables['EEY_si'][:, :, :, :] \n",
    "            PEDs    = CDFroot.variables['SIGMA_PED'][:, :, :, :] \n",
    "            HALs    = CDFroot.variables['SIGMA_HAL'][:, :, :, :]\n",
    "            DENs    = CDFroot.variables['DEN'][:, :, :, :] \n",
    "            LEVs    = CDFroot.variables['lev'][:] \n",
    "            try:\n",
    "                CONV_H  = CDFroot.variables['Convection_heating'][:, :, :, :]\n",
    "            except:\n",
    "                CONV_H  = CDFroot.variables['Convenction_heating'][:, :, :, :]\n",
    "            WIND_H  = CDFroot.variables['Wind_heating'][:, :, :, :]\n",
    "        except:\n",
    "            print( \"Thread aborted while reading\",  datetime.now().strftime(\"%d-%m-%Y %H:%M:%S\"), ResultsFilename[-26:], \"\\n\" )\n",
    "            DiskAccessLock.release()\n",
    "            return \n",
    "        DiskAccessLock.release()\n",
    "        print( \"Thread file read done\",  datetime.now().strftime(\"%d-%m-%Y %H:%M:%S\"), ResultsFilename[-26:], \"\\n\" )\n",
    "    \n",
    "        step = 1\n",
    "        for idx_lat in range(0, length_lat, step):\n",
    "            if idx_lat%30==0: print(\"Thread Calculating Lat\",  idx_lat, ResultsFilename[-26:])\n",
    "            current_Lat = LATs[idx_lat] \n",
    "            if current_Lat < Lat_min  or  current_Lat > Lat_max: continue\n",
    "            for idx_lon in range(0, length_lon, step):\n",
    "                for idx_lev in range(0, length_lev, step):\n",
    "                    for idx_time in range(0, length_time, step):                    \n",
    "                        in_Altitude_range = in_MagLat_range = in_MLT_range = in_Kp_range = False\n",
    "                            \n",
    "                        current_Altitude = ALTs[idx_time, idx_lev, idx_lat, idx_lon]\n",
    "                        if current_Altitude >= Altitude_min and current_Altitude <= Altitude_max:\n",
    "                            in_Altitude_range = True\n",
    "                        \n",
    "                        if in_Altitude_range:\n",
    "                            current_MagLat = MAGLATs[ idx_time, idx_lev, idx_lat, idx_lon ]\n",
    "                            if current_MagLat >= MagLat_min and current_MagLat <= MagLat_max:\n",
    "                                in_MagLat_range = True\n",
    "                                \n",
    "                        if in_MagLat_range:\n",
    "                            current_MLT = MLTs[ idx_time, idx_lev, idx_lat, idx_lon ]\n",
    "                            if in_MagLat_range:\n",
    "                                in_MLT_range = is_MLT_inside_range( current_MLT, MLT_min, MLT_max )\n",
    "                        \n",
    "                        if in_MLT_range:\n",
    "                            current_Kp = KPs[idx_time]\n",
    "                            if current_Kp >= Kp_min and current_Kp <= Kp_max:\n",
    "                                in_Kp_range = True   \n",
    "                                \n",
    "                        if in_Kp_range:                    \n",
    "                            matchedBin = GetMatchedBin( current_MLT, current_MagLat, current_Altitude, current_Kp, current_Lat )\n",
    "                            if matchedBin is not None:\n",
    "                                for B in localBins:\n",
    "                                    if B.ID == matchedBin.ID:\n",
    "                                        matchedBin = B\n",
    "                                current_time = int( FileStartTimeStamp + TIMEs[idx_time]*120*60 )\n",
    "                                current_JH = JHs[idx_time, idx_lev, idx_lat ,idx_lon] #CDFroot.variables['Joule Heating'][idx_time, idx_lev, idx_lat, idx_lon]\n",
    "                                matchedBin.JH_values.append( current_JH )\n",
    "                                matchedBin.MagLat_values.append( current_MagLat )\n",
    "                                matchedBin.MLT_values.append( current_MLT )\n",
    "                                matchedBin.Altitude_values.append( current_Altitude )\n",
    "                                matchedBin.Kp_values.append( current_Kp )\n",
    "                                matchedBin.Time_values.append( current_time )\n",
    "                                matchedBin.EEX_values.append( EEXs[ idx_time, idx_lev, idx_lat, idx_lon ] ) \n",
    "                                matchedBin.EEY_values.append( EEYs[ idx_time, idx_lev, idx_lat, idx_lon ] ) \n",
    "                                matchedBin.Pedersen_values.append( PEDs[ idx_time, idx_lev, idx_lat, idx_lon ] ) \n",
    "                                matchedBin.Hall_values.append( HALs[ idx_time, idx_lev, idx_lat, idx_lon ] ) \n",
    "                                matchedBin.Density_values.append( DENs[ idx_time, idx_lev, idx_lat, idx_lon ] ) \n",
    "                                matchedBin.Lev_values.append( LEVs[ idx_lev ] ) \n",
    "                                matchedBin.ConvectionHeating_values.append( CONV_H[ idx_time, idx_lev, idx_lat, idx_lon ] ) \n",
    "                                matchedBin.WindHeating_values.append( WIND_H[ idx_time, idx_lev, idx_lat, idx_lon ] ) \n",
    "                                all_JH_values.append( current_JH )\n",
    "                                all_MagLat_values.append( current_MagLat )\n",
    "                                all_MLT_values.append( current_MLT )\n",
    "                                all_Altitude_values.append( current_Altitude )\n",
    "                                all_Kp_values.append( current_Kp )\n",
    "                                all_Time_values.append( current_time )\n",
    "                                all_HittedBin_IDs.append( matchedBin.ID )\n",
    "                                all_EEX_values.append( EEXs[ idx_time, idx_lev, idx_lat, idx_lon ] )\n",
    "                                all_EEY_values.append( EEYs[ idx_time, idx_lev, idx_lat, idx_lon ] )\n",
    "                                all_Pedersen_values.append( PEDs[ idx_time, idx_lev, idx_lat, idx_lon ] )\n",
    "                                all_Hall_values.append( HALs[ idx_time, idx_lev, idx_lat, idx_lon ] )\n",
    "                                all_Density_values.append( DENs[ idx_time, idx_lev, idx_lat, idx_lon ] )\n",
    "                                all_Lev_values.append( LEVs[ idx_lev ] )\n",
    "                                all_ConvectionHeating_values.append( CONV_H[ idx_time, idx_lev, idx_lat, idx_lon ] ) \n",
    "                                all_WindHeating_values.append( WIND_H[ idx_time, idx_lev, idx_lat, idx_lon ] )\n",
    "                                Matches += 1\n",
    "                    #break\n",
    "                #break\n",
    "        CDFroot.close()\n",
    "        # wait until disk is released\n",
    "        #DiskAccessLock.acquire()\n",
    "        #### SAVE Results ####\n",
    "        try:\n",
    "            # save general info\n",
    "            resultsCDF = Dataset( ResultsFilename, 'a' )\n",
    "            resultsCDF.DateOfUpdate = datetime.now().strftime(\"%d-%m-%Y %H:%M:%S\")\n",
    "            resultsCDF.Region = CALCULATIONS_RegionName\n",
    "            resultsCDF.DataPath = CALCULATIONS_TIEGCMfolder\n",
    "            # save data for each bin seperately \n",
    "            for B in localBins:\n",
    "                # save data about the hits inside the bin\n",
    "                if len(B.Time_values) > 0:\n",
    "                    resultsCDF.variables[B.ID+\"_TimeValues\"][:]      = B.Time_values\n",
    "                    resultsCDF.variables[B.ID+\"_JHValues\"][:]        = B.JH_values        \n",
    "                    resultsCDF.variables[B.ID+\"_MagLatValues\"][:]    = B.MagLat_values\n",
    "                    resultsCDF.variables[B.ID+\"_MLTValues\"][:]       = B.MLT_values\n",
    "                    resultsCDF.variables[B.ID+\"_AltitudeValues\"][:]  = B.Altitude_values\n",
    "                    resultsCDF.variables[B.ID+\"_LatValues\"][:]       = B.Lat_values\n",
    "                    resultsCDF.variables[B.ID+\"_KpValues\"][:]        = B.Kp_values\n",
    "                    resultsCDF.variables[B.ID+\"_EEXValues\"][:]       = B.EEX_values        \n",
    "                    resultsCDF.variables[B.ID+\"_EEYValues\"][:]       = B.EEY_values\n",
    "                    resultsCDF.variables[B.ID+\"_PedersenValues\"][:]  = B.Pedersen_values\n",
    "                    resultsCDF.variables[B.ID+\"_HallValues\"][:]      = B.Hall_values\n",
    "                    resultsCDF.variables[B.ID+\"_DensityValues\"][:]   = B.Density_values\n",
    "                    resultsCDF.variables[B.ID+\"_LevValues\"][:]       = B.Lev_values\n",
    "                    resultsCDF.variables[B.ID+\"_ConvectionHeatingValues\"][:] = B.ConvectionHeating_values\n",
    "                    resultsCDF.variables[B.ID+\"_WindHeatingValues\"][:] = B.WindHeating_values\n",
    "            ## save data for all hits\n",
    "            resultsCDF.variables[\"allTimeValues\"][:]     = all_Time_values\n",
    "            resultsCDF.variables[\"allJHValues\"][:]       = all_JH_values    \n",
    "            resultsCDF.variables[\"allMagLatValues\"][:]   = all_MagLat_values\n",
    "            resultsCDF.variables[\"allMLTValues\"][:]      = all_MLT_values\n",
    "            resultsCDF.variables[\"allAltitudeValues\"][:] = all_Altitude_values\n",
    "            resultsCDF.variables[\"allLatValues\"][:]      = all_Lat_values\n",
    "            resultsCDF.variables[\"allKpValues\"][:]       = all_Kp_values\n",
    "            #resultsCDF.variables[\"allHittedBinIDs\"][:]   = netCDF4.stringtochar(np.array(all_HittedBin_IDs[:], 'S8'))\n",
    "            resultsCDF.variables[\"allEEXValues\"][:]      = all_EEX_values\n",
    "            resultsCDF.variables[\"allEEYValues\"][:]      = all_EEY_values\n",
    "            resultsCDF.variables[\"allPedersenValues\"][:] = all_Pedersen_values\n",
    "            resultsCDF.variables[\"allHallValues\"][:]     = all_Hall_values\n",
    "            resultsCDF.variables[\"allDensityValues\"][:]  = all_Density_values\n",
    "            resultsCDF.variables[\"allLevValues\"][:]      = all_Lev_values\n",
    "            resultsCDF.variables[\"allConvectionHeatingValues\"][:] = all_ConvectionHeating_values\n",
    "            resultsCDF.variables[\"allWindHeatingValues\"][:] = all_WindHeating_values\n",
    "            #\n",
    "            resultsCDF.close()    \n",
    "        except Exception as e:\n",
    "            print( \"!!!! Thread error while writing\",  datetime.now().strftime(\"%d-%m-%Y %H:%M:%S\"), ResultsFilename[-26:], \"\\n\" )\n",
    "            print( e )\n",
    "            #DiskAccessLock.release()\n",
    "        #DiskAccessLock.release()\n",
    "    \n",
    "        print( \"Thread finish\",  datetime.now().strftime(\"%d-%m-%Y %H:%M:%S\"), ResultsFilename[-26:], \"\\n\", Matches, \"matches\", len(localBins[0].JH_values), len(Bins[0].JH_values) )\n",
    "        print( \"\" )\n",
    "    \n",
    "    \n",
    "def AssignValuesPerBin_MultipleResultFiles( DataFilesPath ):\n",
    "    startSecs = time.time()\n",
    "\n",
    "    ResultsFolder = DaedalusGlobals.CoverageResults_Files_Path + BinGroups_Dropdown.value + \".\" + CALCULATIONS_TIEGCMfolder[CALCULATIONS_TIEGCMfolder[:-1].rfind('/')+1:-1] + \".MultiFileResults/\"\n",
    "    CALCULATIONS_ResultsFolder = ResultsFolder\n",
    "    if path.exists( ResultsFolder ) == False:\n",
    "        os.mkdir( ResultsFolder )\n",
    "    \n",
    "    AllThreads = list()\n",
    "    AllDataFiles = sorted( glob.glob( DataFilesPath + \"TIEGCM*/*.nc\", recursive=True ) )\n",
    "    for currentDataFile in AllDataFiles:\n",
    "        ResultsFilename = ResultsFolder + currentDataFile[ currentDataFile.rfind('/')+1 : -3 ] + \".nc\"\n",
    "        if path.exists( ResultsFilename ): \n",
    "            print(\"Skipping because exists:\", ResultsFilename)\n",
    "            continue\n",
    "        else:\n",
    "            # wait if there are plenty alive threads\n",
    "            alive_counter = 0\n",
    "            for aThread in AllThreads:\n",
    "                if aThread.is_alive():\n",
    "                    alive_counter += 1\n",
    "            while alive_counter >= 5:\n",
    "                time.sleep(random.randint(10, 15))\n",
    "                alive_counter = 0\n",
    "                for aThread in AllThreads:\n",
    "                    if aThread.is_alive():\n",
    "                        alive_counter += 1\n",
    "            # spawn new thread\n",
    "            CreateResults_CDF( ResultsFilename )\n",
    "            T = Thread_ValueAssigner(currentDataFile, ResultsFilename)\n",
    "            AllThreads.append(T)\n",
    "            T.start()\n",
    "            time.sleep(2)\n",
    "\n",
    "    # wait for all threads to terminate\n",
    "    for T in AllThreads: T.join()\n",
    "    # finish it\n",
    "    finishSecs = time.time()\n",
    "    print( finishSecs-startSecs, \" sec\")    \n",
    "    return ResultsFolder\n",
    "    \n",
    "    \n",
    "    \n",
    "    \n",
    "    \n",
    "    \n",
    "    \n",
    "def plotHeightIntegrated_perKpRange():\n",
    "    print( \"Height-integration plot started\", datetime.now().strftime(\"%d-%m-%Y %H:%M:%S\") )\n",
    "    # init parameters\n",
    "    if SELECTED_VARIABLE == \"Ohmic\":\n",
    "        SELECTED_VARIABLE_longname = \"Joule Heating\"\n",
    "        MultiplicationFactor = 1000\n",
    "        new_units = \"mW/m3\"\n",
    "    elif SELECTED_VARIABLE == \"SIGMA_PED\":\n",
    "        SELECTED_VARIABLE_longname = \"Pedersen Conductivity\"\n",
    "        MultiplicationFactor = 1\n",
    "        new_units = \"S/m\"\n",
    "    elif SELECTED_VARIABLE == \"SIGMA_HAL\":\n",
    "        SELECTED_VARIABLE_longname = \"Hall Conductivity\"\n",
    "        MultiplicationFactor = 1\n",
    "        new_units = \"S/m\"        \n",
    "    elif SELECTED_VARIABLE == \"Convection_heating\":\n",
    "        SELECTED_VARIABLE_longname = \"Convection Heating\"\n",
    "        MultiplicationFactor = 1000\n",
    "        new_units = \"mW/m3\"           \n",
    "    elif SELECTED_VARIABLE == \"Wind_heating\":\n",
    "        SELECTED_VARIABLE_longname = \"Wind Correction\"\n",
    "        MultiplicationFactor = 1000\n",
    "        new_units = \"mW/m3\"                   \n",
    "    elif SELECTED_VARIABLE == \"EEX_si\" or SELECTED_VARIABLE == \"EEY_si\":\n",
    "        MultiplicationFactor = 1\n",
    "        new_units = \"mV/m\"        \n",
    "    else:\n",
    "        MultiplicationFactor = 1\n",
    "        new_units = \"?\" \n",
    "        \n",
    "    print( \"Variable\" , SELECTED_VARIABLE)\n",
    "\n",
    "    # Region specific binning:\n",
    "    s = SavedFilenames_Dropdown.value[:-1]\n",
    "    s = s[ s.rfind('/')+1 : ]\n",
    "    RegionID = s[ 0 : s.find('.')]\n",
    "    print( \"Region\", RegionID )\n",
    "    regionMagLatmin = 999\n",
    "    regionMagLatmax = -999\n",
    "    regionMLTmin = 999\n",
    "    regionMLTmax = -999\n",
    "    regionLATmin = 999\n",
    "    regionLATmax = -999\n",
    "    for B in Bins:\n",
    "        if B.ID.startswith( RegionID ):\n",
    "            if regionMagLatmin>B.MagLat_min: regionMagLatmin = B.MagLat_min\n",
    "            if regionMagLatmax<B.MagLat_max: regionMagLatmax = B.MagLat_max            \n",
    "            if regionMLTmin>B.MLT_min: regionMLTmin = B.MLT_min\n",
    "            if regionMLTmax<B.MLT_max: regionMLTmax = B.MLT_max\n",
    "            if regionLATmin>B.Lat_min: regionLATmin = B.Lat_min\n",
    "            if regionLATmax<B.Lat_max: regionLATmax = B.Lat_max\n",
    "    if regionMLTmax < regionMLTmin: regionMLTmax += 24\n",
    "        \n",
    "    # init data structures\n",
    "    MLTsequence     = list( range( regionMLTmin,  regionMLTmax, 1) )\n",
    "    KPsequence      = [ 0, 2, 4 ] \n",
    "    Distribution    = dict()\n",
    "    for aKP in KPsequence:\n",
    "        for aMLT in MLTsequence:\n",
    "            Distribution[ (aKP, aMLT) ] = list()\n",
    "        \n",
    "    # read data and put them into the data structures\n",
    "    AllDataFilenames = sorted( glob.glob(\"/home/NAS/TIEGCM_DATA_2/Height_Integrated_Products/*.nc\") )\n",
    "    for file_idx in range(0, len(AllDataFilenames)):\n",
    "        if file_idx%10==0: print( \"Reading\", AllDataFilenames[file_idx] )\n",
    "        CDFroot = Dataset( AllDataFilenames[file_idx], 'r' )\n",
    "        length_time = CDFroot.variables['mlt_qdf'].shape[0]\n",
    "        length_lat  = CDFroot.variables['mlt_qdf'].shape[1]\n",
    "        length_lon  = CDFroot.variables['mlt_qdf'].shape[2]\n",
    "        MAGLAT_values = CDFroot.variables['mlat_qdf'][:, :, :] \n",
    "        MLT_values    = CDFroot.variables['mlt_qdf'][:, :, :] \n",
    "        LAT_values    = CDFroot.variables['lat'][:] \n",
    "        KP_values     = CDFroot.variables['Kp'][:] \n",
    "        if SELECTED_VARIABLE == \"Ohmic\":\n",
    "            try:\n",
    "                VAR_values = CDFroot.variables['Convection_heating'][:, :, :] + CDFroot.variables['Wind_heating'][:, :, :]\n",
    "            except:\n",
    "                VAR_values = CDFroot.variables['Convenction_heating'][:, :, :] + CDFroot.variables['Wind_heating'][:, :, :]\n",
    "        elif SELECTED_VARIABLE == \"SIGMA_PED\":\n",
    "            VAR_values = CDFroot.variables['SigmaP_HI'][:, :, :] \n",
    "        elif SELECTED_VARIABLE == \"SIGMA_HAL\":\n",
    "            VAR_values = CDFroot.variables['SigmaH_HI'][:, :, :] \n",
    "        elif SELECTED_VARIABLE == \"Convection_heating\":\n",
    "            try:\n",
    "                VAR_values = CDFroot.variables['Convection_heating'][:, :, :] \n",
    "            except:\n",
    "                VAR_values = CDFroot.variables['Convenction_heating'][:, :, :] \n",
    "        elif SELECTED_VARIABLE == \"Wind_heating\":\n",
    "            VAR_values = CDFroot.variables['Wind_heating'][:, :, :] \n",
    "        VAR_values *= MultiplicationFactor\n",
    "        CDFroot.close()\n",
    "        # parse data into the structrures\n",
    "        for idx_time in range(0, length_time, 1):\n",
    "            for idx_lat in range(0, length_lat, 1):\n",
    "                for idx_lon in range(0, length_lon, 1):\n",
    "                    in_MagLat_range = in_MLT_range = in_Lat_range = False\n",
    "                    \n",
    "                    currentMagLat = MAGLAT_values[ idx_time, idx_lat, idx_lon ]\n",
    "                    if currentMagLat>=regionMagLatmin and currentMagLat<=regionMagLatmax: in_MagLat_range = True\n",
    "                        \n",
    "                    if in_MagLat_range:\n",
    "                        currentLAT = LAT_values[ idx_lat ]    \n",
    "                        if currentLAT>=regionLATmin and currentLAT<=regionLATmax: in_Lat_range = True\n",
    "                        \n",
    "                    if in_Lat_range:\n",
    "                        currentMLT = MLT_values[ idx_time, idx_lat, idx_lon ]\n",
    "                        MLT_toCheck = currentMLT\n",
    "                        if regionMLTmax > 24  and  currentMLT<=regionMLTmax-24: MLT_toCheck += 24\n",
    "                        if MLT_toCheck>=regionMLTmin and MLT_toCheck<=regionMLTmax: in_MLT_range = True\n",
    "                            \n",
    "                    if in_MLT_range:\n",
    "                        currentKP = KP_values[ idx_time ]\n",
    "                        # find correct kp\n",
    "                        if currentKP < 2: \n",
    "                            kp_to_fall = 0\n",
    "                        elif currentKP < 4:  \n",
    "                            kp_to_fall = 2\n",
    "                        else:\n",
    "                            kp_to_fall = 4\n",
    "                        # find correct MLT\n",
    "                        for seq_idx in range(0, len(MLTsequence)):\n",
    "                            if MLT_toCheck>=MLTsequence[seq_idx] and MLT_toCheck<MLTsequence[seq_idx]+1: \n",
    "                                mlt_to_fall=MLTsequence[seq_idx]\n",
    "                                break\n",
    "                        if MLT_toCheck == MLTsequence[len(MLTsequence)-1]+1: mlt_to_fall = MLTsequence[len(MLTsequence)-1] # for last MLT position\n",
    "                        # store the value at the right place\n",
    "                        Distribution[ (kp_to_fall, mlt_to_fall) ].append( VAR_values[ idx_time, idx_lat, idx_lon ] )\n",
    "        #break # <<< zoro\n",
    "        \n",
    "    Color10 = '#c4dfe6'\n",
    "    Color25 = '#a1d6e2'\n",
    "    Color50 = '#1995ad'\n",
    "    Color75 = '#a1d6e2'\n",
    "    Color90 = '#c4dfe6'\n",
    "    # define secondary y-axis at the right of the plot\n",
    "    mySpecs = list()\n",
    "    for row in range(0, len(KPsequence)):\n",
    "        mySpecs.append( {\"secondary_y\": True} )\n",
    "    # init figure            \n",
    "    fig = make_subplots(rows=len(KPsequence), cols=1, shared_xaxes=True, vertical_spacing=0.03, specs=[[{\"secondary_y\": True}]]*len(KPsequence))\n",
    "\n",
    "    # calculate Percentiles\n",
    "    hits = 0\n",
    "    Ymax = -10000\n",
    "    for aKP in KPsequence:\n",
    "        Percentiles10 = list()\n",
    "        Percentiles25 = list()\n",
    "        Percentiles50 = list()\n",
    "        Percentiles75 = list()\n",
    "        Percentiles90 = list()\n",
    "        Xaxis_values= list()\n",
    "        for aMLT in MLTsequence:\n",
    "            hits += len(Distribution[(aKP, aMLT)])\n",
    "            print( \"Kp = \", aKP, \"MLT =\", aMLT, \"   Hits =\", len(Distribution[(aKP, aMLT)]) )\n",
    "            Xaxis_values.append( aMLT )\n",
    "            Xaxis_values.append( aMLT + 1 )\n",
    "            if len(Distribution[(aKP, aMLT)]):\n",
    "                n = np.percentile(Distribution[(aKP, aMLT)], 10)\n",
    "                Percentiles10.append( n )\n",
    "                Percentiles10.append( n )\n",
    "                n = np.percentile(Distribution[(aKP, aMLT)], 25)\n",
    "                Percentiles25.append( n )\n",
    "                Percentiles25.append( n )\n",
    "                n = np.percentile(Distribution[(aKP, aMLT)], 50)\n",
    "                Percentiles50.append( n )\n",
    "                Percentiles50.append( n )\n",
    "                n = np.percentile(Distribution[(aKP, aMLT)], 75)\n",
    "                Percentiles75.append( n )\n",
    "                Percentiles75.append( n )\n",
    "                n = np.percentile(Distribution[(aKP, aMLT)], 90)\n",
    "                Percentiles90.append( n )\n",
    "                Percentiles90.append( n )\n",
    "        # add traces for percentiles\n",
    "        DisplayThisLegend = False\n",
    "        if KPsequence.index(aKP) == 0: DisplayThisLegend = True\n",
    "        fig.add_trace( go.Scatter(x=Xaxis_values, y=[0]*len(Percentiles10), mode='lines', fill='tonexty', fillcolor=Color10, line=dict(color='gray',width=1,), showlegend=False), row=KPsequence.index(aKP)+1, col=1 )\n",
    "        fig.add_trace( go.Scatter(name='10th Perc.', x=Xaxis_values, y=Percentiles10, mode='lines', fill='tonexty', fillcolor=Color10, line=dict(color='gray', width=1,), showlegend=DisplayThisLegend), row=KPsequence.index(aKP)+1, col=1 )\n",
    "        fig.add_trace( go.Scatter(name='25th Perc.', x=Xaxis_values, y=Percentiles25, mode='lines', fill='tonexty', fillcolor=Color25, line=dict(color='gray', width=1,), showlegend=DisplayThisLegend), row=KPsequence.index(aKP)+1, col=1 )\n",
    "        fig.add_trace( go.Scatter(name='50th Perc.', x=Xaxis_values, y=Percentiles50, mode='lines', fill='tonexty', fillcolor=Color50, line=dict(color='black',width=2,), showlegend=DisplayThisLegend), row=KPsequence.index(aKP)+1, col=1 )\n",
    "        fig.add_trace( go.Scatter(name='75th Perc.', x=Xaxis_values, y=Percentiles75, mode='lines', fill='tonexty', fillcolor=Color75, line=dict(color='gray', width=1,), showlegend=DisplayThisLegend), row=KPsequence.index(aKP)+1, col=1 )\n",
    "        fig.add_trace( go.Scatter(name='90th Perc.', x=Xaxis_values, y=Percentiles90, mode='lines', fill='tonexty', fillcolor=Color90, line=dict(color='gray', width=1,), showlegend=DisplayThisLegend), row=KPsequence.index(aKP)+1, col=1 )\n",
    "        # add a trace in order to display secondary y-axis at the right\n",
    "        fig.add_trace( go.Scatter(x=[-10], y=[-10], showlegend=False, marker_size=0), row=KPsequence.index(aKP)+1, col=1, secondary_y=True )\n",
    "        #\n",
    "        if Ymax < max(Percentiles90): Ymax = max(Percentiles90)\n",
    "    Ymax = Ymax * 1.05\n",
    "    print( \"Total Hits =\", hits, \"   Ymax =\", Ymax )\n",
    "        \n",
    "    # set layout\n",
    "    for aKP in KPsequence:\n",
    "        fig.update_yaxes( title_text=new_units, row=KPsequence.index(aKP)+1, col=1, side='left', secondary_y=False)\n",
    "        row_title = \"Kp \" + str(aKP) + \" - \"\n",
    "        if aKP == 0:\n",
    "            row_title +=  \"2\"\n",
    "        elif aKP == 2:\n",
    "            row_title +=  \"4\"\n",
    "        else:\n",
    "            row_title +=  \"9\"\n",
    "        fig.update_yaxes( title_text=row_title, row=KPsequence.index(aKP)+1, col=1,  side='right', secondary_y=True, showticklabels=False )\n",
    "        ####\n",
    "    fig.update_xaxes( range=[MLTsequence[0],MLTsequence[-1]+1], dtick=1 )\n",
    "    fig.update_xaxes( title_text=\"Magnetic Local Time (hours)\", row=len(KPsequence), col=1 )\n",
    "    fig.update_yaxes( range=[0, Ymax ] )\n",
    "    fig.update_layout( title = getBinDescription(RegionID) + \"<br>\" + \"Height-integrated Dsitribution of \" + SELECTED_VARIABLE_longname + \" (\" + new_units + \")\",\n",
    "                       width=800, height=200+200*len(KPsequence), showlegend=True, legend_orientation=\"h\", legend_y=-0.06) \n",
    "    plotly.offline.init_notebook_mode(connected=True)\n",
    "    plotly.offline.iplot(fig)\n",
    "    print( \"Height-integration plot finished\", datetime.now().strftime(\"%d-%m-%Y %H:%M:%S\") )\n",
    "    \n",
    "    \n",
    "\n",
    "    \n",
    "    \n",
    "    \n",
    "    \n",
    "    \n",
    "    \n",
    "    \n",
    "\n",
    "    \n",
    "    \n",
    "    \n",
    "    \n",
    "# takes a list of real numbers and returns their standard deviation\n",
    "def CalculateStandardDeviation( Data ):\n",
    "    mean = sum(Data) / len(Data)\n",
    "    variance = 0 \n",
    "    for n in Data:\n",
    "        variance += abs(n - mean)**2\n",
    "    stdev = variance / len(Data)\n",
    "    return stdev\n",
    "\n",
    "\n",
    "def plotColorSpread_perKpRange( ):\n",
    "    if Plot_ColorSpreads_Checkbox.value == False: return # <<<\n",
    "    # init parameters\n",
    "    if SELECTED_VARIABLE == \"Ohmic\":\n",
    "        MultiplicationFactor = 10**8 \n",
    "        new_units = \"10^-8 W/m3\"\n",
    "    elif SELECTED_VARIABLE == \"SIGMA_PED\":\n",
    "        MultiplicationFactor = 10**3 \n",
    "        new_units = \"mS/m\"\n",
    "    elif SELECTED_VARIABLE == \"SIGMA_HAL\":\n",
    "        MultiplicationFactor = 10**3 \n",
    "        new_units = \"mS/m\"        \n",
    "    elif SELECTED_VARIABLE == \"Convection_heating\":\n",
    "        MultiplicationFactor = 10**8 \n",
    "        new_units = \"10^-8 W/m3\"           \n",
    "    elif SELECTED_VARIABLE == \"Wind_heating\":\n",
    "        MultiplicationFactor = 10**8 \n",
    "        new_units = \"10^-8 W/m3\"                   \n",
    "    elif SELECTED_VARIABLE == \"EEX_si\" or SELECTED_VARIABLE == \"EEY_si\":\n",
    "        MultiplicationFactor = 1\n",
    "        new_units = \"mV/m\"      \n",
    "    elif SELECTED_VARIABLE == \"JH/mass\":\n",
    "        MultiplicationFactor = 1 \n",
    "        new_units = \"W/kg\"\n",
    "    elif SELECTED_VARIABLE == \"JH/pressure\":\n",
    "        MultiplicationFactor = 1 \n",
    "        new_units = \"sec^-1\"        \n",
    "    else:\n",
    "        MultiplicationFactor = 1\n",
    "        new_units = \"?\" \n",
    "        \n",
    "    print(\"SELECTED_VARIABLE=\", SELECTED_VARIABLE)\n",
    "\n",
    "    # Region specific binning:\n",
    "    if \"(\" in CALCULATIONS_RegionName:\n",
    "        RegionID = CALCULATIONS_RegionName[ CALCULATIONS_RegionName.find('(')+1 : CALCULATIONS_RegionName.rfind(')') ]\n",
    "    else:\n",
    "        RegionID = CALCULATIONS_RegionName\n",
    "    regionMLTmin = 999\n",
    "    regionMLTmax = -999\n",
    "    regionMagLatMin = 999\n",
    "    regionMagLatMax = -999\n",
    "    regionAltMin = 999\n",
    "    regionAltMax = -999\n",
    "    for B in Bins:\n",
    "        if B.ID.startswith( RegionID ):\n",
    "            if regionMLTmin>B.MLT_min: regionMLTmin = B.MLT_min\n",
    "            if regionMLTmax<B.MLT_max: regionMLTmax = B.MLT_max\n",
    "            if regionMagLatMin>B.MagLat_min: regionMagLatMin = B.MagLat_min\n",
    "            if regionMagLatMax<B.MagLat_max: regionMagLatMax = B.MagLat_max\n",
    "            if regionAltMin>B.Altitude_min: regionAltMin = B.Altitude_min\n",
    "            if regionAltMax<B.Altitude_max: regionAltMax = B.Altitude_max\n",
    "    if regionMLTmax <= regionMLTmin: regionMLTmax += 24\n",
    "    x_axes_range = [regionMLTmin, regionMLTmax]\n",
    "    print(\"REGION=\",RegionID)\n",
    "    # init data structures\n",
    "    Buckets = dict()\n",
    "    MLT_duration_of_a_bucket   = 1\n",
    "    MagLat_degrees_of_a_bucket = 1\n",
    "    ALT_distance_of_a_bucket   = 10\n",
    "    ALTsequence     = list( range( regionAltMin, regionAltMax, ALT_distance_of_a_bucket ) )\n",
    "    MLTsequence     = list( range( regionMLTmin,  regionMLTmax, MLT_duration_of_a_bucket) )\n",
    "    MagLatSequence  = list( range( regionMagLatMin,  regionMagLatMax, MagLat_degrees_of_a_bucket) )\n",
    "    KPsequence      = [ 0, 3 ] \n",
    "    for aMLT in MLTsequence:\n",
    "        for aMagLat in MagLatSequence:\n",
    "            for anALT in ALTsequence:\n",
    "                for aKP in KPsequence:\n",
    "                    Buckets[(aKP, anALT, aMagLat, aMLT)] = list()\n",
    "    \n",
    "    print(\"Processing\", len(all_JH_values), \"values\")\n",
    "    for i in range( 0, len(all_JH_values) ):\n",
    "        if all_JH_values[i] < 0: print(\"NEGATIF at\", i, all_JH_values[i])\n",
    "        if i % 10000000 == 0: print( \"Processing value No\", i, datetime.now().strftime(\"%d-%m-%Y %H:%M:%S\") )\n",
    "        mlt_to_fall = alt_to_fall = maglat_to_fall = -1  \n",
    "        # find correct Alt\n",
    "        for seq_idx in range(0, len(ALTsequence)):\n",
    "            if all_Altitude_values[i]>=ALTsequence[seq_idx] and all_Altitude_values[i]<ALTsequence[seq_idx]+ALT_distance_of_a_bucket:\n",
    "                alt_to_fall=ALTsequence[seq_idx]\n",
    "                break\n",
    "        if alt_to_fall == -1: continue # ignore highest altitudes        \n",
    "        # find correct kp\n",
    "        if all_Kp_values[i] < 3: \n",
    "            kp_to_fall = 0\n",
    "        else:\n",
    "            kp_to_fall = 3\n",
    "        # find correct MLT\n",
    "        MLT_tocheck = all_MLT_values[i]\n",
    "        if regionMLTmax>24  and  MLT_tocheck<=regionMLTmax-24:\n",
    "            MLT_tocheck += 24\n",
    "        for seq_idx in range(0, len(MLTsequence)):\n",
    "            if MLT_tocheck>=MLTsequence[seq_idx] and MLT_tocheck<MLTsequence[seq_idx]+MLT_duration_of_a_bucket: \n",
    "                mlt_to_fall=MLTsequence[seq_idx]\n",
    "                break\n",
    "        if MLT_tocheck == MLTsequence[len(MLTsequence)-1]+MLT_duration_of_a_bucket: mlt_to_fall = MLTsequence[len(MLTsequence)-1] # for last MLT position\n",
    "        # find correct MagLat\n",
    "        for seq_idx in range(0, len(MagLatSequence)):\n",
    "            if all_MagLat_values[i]>=MagLatSequence[seq_idx] and all_MagLat_values[i]<MagLatSequence[seq_idx]+MagLat_degrees_of_a_bucket:\n",
    "                maglat_to_fall=MagLatSequence[seq_idx]\n",
    "                break\n",
    "        if maglat_to_fall == -1: continue # ignore \n",
    "        # store the value at the right place\n",
    "        Buckets[ (kp_to_fall, alt_to_fall, maglat_to_fall, mlt_to_fall) ].append( all_JH_values[ i ] )\n",
    "\n",
    "    # plot\n",
    "    \n",
    "    # construct the column titles \n",
    "    ColumnTitles = list()    \n",
    "    for i in range(0, len(ALTsequence)):\n",
    "        ColumnTitles.append( \"<b>\" + str(ALTsequence[i]) + \"-\"  + str(ALTsequence[i]+ALT_distance_of_a_bucket) + \"km\" + \"</b>\")\n",
    "        \n",
    "    #make plot\n",
    "    HitsStr = \"\"\n",
    "    fig1 = make_subplots(rows=len(KPsequence), cols=len(ALTsequence), shared_xaxes=True, shared_yaxes=True, vertical_spacing=0.035, horizontal_spacing=0.01, subplot_titles=ColumnTitles)\n",
    "    fig2 = make_subplots(rows=len(KPsequence), cols=len(ALTsequence), shared_xaxes=True, shared_yaxes=True, vertical_spacing=0.035, horizontal_spacing=0.01, subplot_titles=ColumnTitles)\n",
    "    fig3 = make_subplots(rows=len(KPsequence), cols=len(ALTsequence), shared_xaxes=True, shared_yaxes=True, vertical_spacing=0.035, horizontal_spacing=0.01, subplot_titles=ColumnTitles)\n",
    "    fig4 = make_subplots(rows=len(KPsequence), cols=len(ALTsequence), shared_xaxes=True, shared_yaxes=True, vertical_spacing=0.035, horizontal_spacing=0.01, subplot_titles=ColumnTitles)\n",
    "    figs = [fig1, fig2, fig3, fig4]\n",
    "    \n",
    "    # bundle data, min and max values\n",
    "    allPercentiles10_min = allPercentiles10_logscale_min = 999999\n",
    "    allPercentiles10_max = allPercentiles10_logscale_max = -99999\n",
    "    allPercentiles90_min = allPercentiles90_logscale_min = 999999\n",
    "    allPercentiles90_max = allPercentiles90_logscale_max = -99999\n",
    "    allMeans_min = allMeans_logscale_min = 999999\n",
    "    allMeans_max = allMeans_logscale_max = -99999\n",
    "    allStDevs_min = allStDevs_logscale_min = 999999\n",
    "    allStDevs_max = allStDevs_logscale_max = -99999    \n",
    "    for aKP in KPsequence:\n",
    "        for anALT in ALTsequence:\n",
    "            Percentiles10 = np.zeros( ( len(MagLatSequence), len(MLTsequence)) )\n",
    "            Percentiles90 = np.zeros( ( len(MagLatSequence), len(MLTsequence)) )\n",
    "            Means         = np.zeros( ( len(MagLatSequence), len(MLTsequence)) )\n",
    "            StDevs        = np.zeros( ( len(MagLatSequence), len(MLTsequence)) )\n",
    "            hits  = 0\n",
    "\n",
    "            for aMLT in MLTsequence:\n",
    "                for aMagLat in MagLatSequence:\n",
    "                    hits += len(Buckets[(aKP, anALT, aMagLat, aMLT)])\n",
    "                    i = MagLatSequence.index(aMagLat)\n",
    "                    j = MLTsequence.index(aMLT)\n",
    "                    if len(Buckets[(aKP, anALT, aMagLat, aMLT)]) > 0: \n",
    "                        Percentiles10[ i, j ] = np.percentile(Buckets[(aKP, anALT, aMagLat, aMLT)], 10) \n",
    "                        Percentiles90[ i, j ] = np.percentile(Buckets[(aKP, anALT, aMagLat, aMLT)], 90)\n",
    "                        Means        [ i, j ] = sum(Buckets[(aKP, anALT, aMagLat, aMLT)]) / len(Buckets[(aKP, anALT, aMagLat, aMLT)]) \n",
    "                        StDevs       [ i, j ] = CalculateStandardDeviation( Buckets[(aKP, anALT, aMagLat, aMLT)] )\n",
    "                        \n",
    "            print( \"Kp = \", aKP, \"ALT =\", anALT, \"   Hits =\", hits)\n",
    "            HitsStr += \"Kp=\" + str(aKP) + \" ALT=\" + str(anALT) + \"   Hits=\" + str(hits) + \"\\n\"\n",
    "            \n",
    "            # change units\n",
    "            Percentiles10 *= MultiplicationFactor\n",
    "            Percentiles90 *= MultiplicationFactor\n",
    "            Means         *= MultiplicationFactor\n",
    "            StDevs        *= MultiplicationFactor\n",
    "            \n",
    "            # logScale\n",
    "            Percentiles10_logscale = np.log10(Percentiles10)\n",
    "            #for i in range(0, len(Percentiles10_logscale)):\n",
    "            #    for j in range(0, len(Percentiles10_logscale[i])):\n",
    "            #        if np.isnan( Percentiles10_logscale[i, j] ):\n",
    "            #            print( i, j, Percentiles10[i, j] )\n",
    "            Percentiles10_logscale_min = np.nanmin(Percentiles10_logscale)\n",
    "            Percentiles10_logscale_max = np.nanmax(Percentiles10_logscale)\n",
    "            Percentiles10_min = np.nanmin(Percentiles10)\n",
    "            Percentiles10_max = np.nanmax(Percentiles10)\n",
    "            if Percentiles10_logscale_min==float(\"-inf\"): Percentiles10_logscale_min = 0\n",
    "            if Percentiles10_logscale_max==float(\"-inf\"): Percentiles10_logscale_max = 0\n",
    "            if allPercentiles10_min > Percentiles10_min: allPercentiles10_min = Percentiles10_min\n",
    "            if allPercentiles10_max < Percentiles10_max: allPercentiles10_max = Percentiles10_max\n",
    "            if allPercentiles10_logscale_min > Percentiles10_logscale_min: allPercentiles10_logscale_min = Percentiles10_logscale_min\n",
    "            if allPercentiles10_logscale_max < Percentiles10_logscale_max: allPercentiles10_logscale_max = Percentiles10_logscale_max                            \n",
    "            #Percentiles10_logscale = np.nan_to_num( Percentiles10_logscale, nan=np.nan, posinf=Percentiles10_logscale_max, neginf=Percentiles10_logscale_min )\n",
    "            #\n",
    "            Percentiles90_logscale = np.log10(Percentiles90)\n",
    "            Percentiles90_logscale_min = np.nanmin(Percentiles90_logscale)\n",
    "            Percentiles90_logscale_max = np.nanmax(Percentiles90_logscale)\n",
    "            Percentiles90_min = np.nanmin(Percentiles90)\n",
    "            Percentiles90_max = np.nanmax(Percentiles90)\n",
    "            if Percentiles90_logscale_min==float(\"-inf\"): Percentiles90_logscale_min = 0\n",
    "            if Percentiles90_logscale_max==float(\"-inf\"): Percentiles90_logscale_max = 0\n",
    "            if allPercentiles90_min > Percentiles90_min: allPercentiles90_min = Percentiles90_min\n",
    "            if allPercentiles90_max < Percentiles90_max: allPercentiles90_max = Percentiles90_max\n",
    "            if allPercentiles90_logscale_min > Percentiles90_logscale_min: allPercentiles90_logscale_min = Percentiles90_logscale_min\n",
    "            if allPercentiles90_logscale_max < Percentiles90_logscale_max: allPercentiles90_logscale_max = Percentiles90_logscale_max                \n",
    "            #Percentiles90_logscale = np.nan_to_num( Percentiles90_logscale, nan=np.nan, posinf=Percentiles90_logscale_max, neginf=Percentiles90_logscale_min )\n",
    "            #\n",
    "            Means_logscale = np.log10(Means)\n",
    "            Means_logscale_min = np.nanmin(Means_logscale)\n",
    "            Means_logscale_max = np.nanmax(Means_logscale)\n",
    "            \n",
    "            Means_min =  999999\n",
    "            Means_max = -999999\n",
    "            for i in range(0, len(Means)):\n",
    "                for j in range(0, len(Means[i])):\n",
    "                    if Means[i][j] is not None and Means[i][j]!=0 and Means_min>Means[i][j]: Means_min = Means[i][j]\n",
    "                    if Means[i][j] is not None and Means[i][j]!=0 and Means_max<Means[i][j]: Means_max = Means[i][j]\n",
    "                        \n",
    "            if Means_logscale_min==float(\"-inf\"): Means_logscale_min = 0\n",
    "            if Means_logscale_max==float(\"-inf\"): Means_logscale_max = 0\n",
    "            if allMeans_min > Means_min: allMeans_min = Means_min\n",
    "            if allMeans_max < Means_max: allMeans_max = Means_max\n",
    "            if allMeans_logscale_min > Means_logscale_min: allMeans_logscale_min = Means_logscale_min\n",
    "            if allMeans_logscale_max < Means_logscale_max: allMeans_logscale_max = Means_logscale_max                \n",
    "            #Means_logscale = np.nan_to_num( Means_logscale, nan=np.nan, posinf=Means_logscale_max, neginf=Means_logscale_min )\n",
    "            #\n",
    "            StDevs_logscale = np.log10(StDevs)\n",
    "            StDevs_logscale_min = np.nanmin(StDevs_logscale)\n",
    "            StDevs_logscale_max = np.nanmax(StDevs_logscale)\n",
    "            StDevs_min = np.nanmin(StDevs)\n",
    "            StDevs_max = np.nanmax(StDevs)\n",
    "            if StDevs_logscale_min==float(\"-inf\"): StDevs_logscale_min = 0\n",
    "            if StDevs_logscale_max==float(\"-inf\"): StDevs_logscale_max = 0\n",
    "            if allStDevs_min > StDevs_min: allStDevs_min = StDevs_min\n",
    "            if allStDevs_max < StDevs_max: allStDevs_max = StDevs_max\n",
    "            if allStDevs_logscale_min > StDevs_logscale_min: allStDevs_logscale_min = StDevs_logscale_min\n",
    "            if allStDevs_logscale_max < StDevs_logscale_max: allStDevs_logscale_max = StDevs_logscale_max                \n",
    "            #StDevs_logscale = np.nan_to_num( StDevs_logscale, nan=np.nan, posinf=StDevs_logscale_max, neginf=StDevs_logscale_min )\n",
    "\n",
    "            print(\"tt Means \", allMeans_logscale_min, allMeans_logscale_max, allMeans_min, allMeans_max )\n",
    "            print(\"ttttt \", Means_logscale_min, Means_logscale_max, Means_min, Means_max )\n",
    "            #print(\"yyyyy\", StDevs_logscale_min, StDevs_logscale_max, StDevs_min, StDevs_max )\n",
    "            \n",
    "            # force all min/max equal to tiegcm's\n",
    "            '''\n",
    "            allPercentiles10_logscale_min = -3.4149059296149056\n",
    "            allPercentiles10_logscale_max = 0.564702317445891\n",
    "            allPercentiles10_min = 0.0\n",
    "            allPercentiles10_max = 3.6703063699405902\n",
    "            allPercentiles90_logscale_min = -1.4281194745464154 \n",
    "            allPercentiles90_logscale_max = 1.5500688891821217 \n",
    "            allPercentiles90_min = 0.0\n",
    "            allPercentiles90_max = 35.486967533415736\n",
    "            allMeans_logscale_min = -1.801815958043412 \n",
    "            allMeans_logscale_max = 1.1062579615522905 \n",
    "            allMeans_min = 0.000001\n",
    "            allMeans_max = 12.771972111394563\n",
    "            allStDevs_logscale_min = -10.866333742303075\n",
    "            allStDevs_logscale_max = 0.0\n",
    "            allStDevs_min = 0.0\n",
    "            allStDevs_max = 2.616035496454226e-06\n",
    "            '''\n",
    "            # plot heatmap\n",
    "            #print(\"aaaaaaaas \", len(MLTsequence),len(MagLatSequence) , \"  \", Means.shape)\n",
    "            figs[0].add_trace( go.Heatmap(z=Percentiles10_logscale.tolist(), x=MLTsequence, y=MagLatSequence, showlegend=False, coloraxis=\"coloraxis1\"), row=KPsequence.index(aKP)+1, col=ALTsequence.index(anALT)+1,  )\n",
    "            figs[1].add_trace( go.Heatmap(z=Percentiles90_logscale.tolist(), x=MLTsequence, y=MagLatSequence, showlegend=False, coloraxis=\"coloraxis1\"), row=KPsequence.index(aKP)+1, col=ALTsequence.index(anALT)+1,  )\n",
    "            figs[2].add_trace( go.Heatmap(z=Means_logscale.tolist(),         x=MLTsequence, y=MagLatSequence, showlegend=False, coloraxis=\"coloraxis1\"), row=KPsequence.index(aKP)+1, col=ALTsequence.index(anALT)+1,  )\n",
    "            figs[3].add_trace( go.Heatmap(z=StDevs_logscale.tolist(),        x=MLTsequence, y=MagLatSequence, showlegend=False, coloraxis=\"coloraxis1\"), row=KPsequence.index(aKP)+1, col=ALTsequence.index(anALT)+1,  )\n",
    "\n",
    "    print(\"iiiii Percentiles10 \", allPercentiles10_logscale_min, allPercentiles10_logscale_max, allPercentiles10_min, allPercentiles10_max )\n",
    "    print(\"iiiii Percentiles90 \", allPercentiles90_logscale_min, allPercentiles90_logscale_max, allPercentiles90_min, allPercentiles90_max )            \n",
    "    print(\"iiiii Means \", allMeans_logscale_min, allMeans_logscale_max, allMeans_min, allMeans_max )\n",
    "    print(\"iiiii StDevs \", allStDevs_logscale_min, allStDevs_logscale_max, allStDevs_min, allStDevs_max )\n",
    "    \n",
    "    for i in range(0,  len(figs)):\n",
    "        figs[i].update_layout(coloraxis=dict(colorscale=allojal), showlegend=False) #fig.update_traces(zmin=0.07687949e-02, zmax=3.07687949e-01, selector=dict(type=\"heatmap\"))\n",
    "        # display titles\n",
    "        figs[i].update_yaxes( title_text=\"<b>\" + \"Kp 0-3\" + \"</b>\" + \"<br><br>\" + \"Magnetic Latitude (deg)\", row=1, col=1, side='left', secondary_y=False)\n",
    "        figs[i].update_yaxes( title_text=\"<b>\" + \"Kp 3-9\" + \"</b>\" + \"<br><br>\" + \"Magnetic Latitude (deg)\", row=2, col=1, side='left', secondary_y=False)\n",
    "        for aMLT in MLTsequence: figs[i].update_xaxes( title_text=\"MLT (hours)\", row=len(KPsequence), col=MLTsequence.index(aMLT)+1)\n",
    "        #\n",
    "        mainTitle = getBinDescription(CALCULATIONS_RegionName) + \"<br>\" \n",
    "        if   i == 0: \n",
    "            figs[i].update_traces(zmin=allPercentiles10_min, zmax=allPercentiles10_max)\n",
    "            mainTitle += \"10th Percentile of \"\n",
    "            #figs[i].update_layout(coloraxis_colorbar=dict( title=\"Log scale<br>colors\",  tickvals=[Percentiles10_logscale_min, Percentiles10_logscale_max],  ticktext=[\"{:.3e}\".format(Percentiles10_min) , \"{:.3e}\".format(Percentiles10_max) ], ))\n",
    "            my_Tickvals    = np.linspace(allPercentiles10_min, allPercentiles10_max, 5, endpoint=True)\n",
    "        elif i == 1:\n",
    "            figs[i].update_traces(zmin=allPercentiles90_min, zmax=allPercentiles90_max)\n",
    "            mainTitle += \"90th Percentile of \"\n",
    "            #figs[i].update_layout(coloraxis_colorbar=dict( title=\"Log scale<br>colors\",  tickvals=[Percentiles90_logscale_min, Percentiles90_logscale_max],  ticktext=[\"{:.3e}\".format(Percentiles90_min) , \"{:.3e}\".format(Percentiles90_max) ], ))\n",
    "            my_Tickvals    = np.linspace(allPercentiles90_min, allPercentiles90_max, 5, endpoint=True)\n",
    "        elif i == 2:\n",
    "            figs[i].update_traces(zmin=allMeans_min, zmax=allMeans_max)\n",
    "            mainTitle += \"Mean of \"\n",
    "            #figs[i].update_layout(coloraxis_colorbar=dict( title=\"Log scale<br>colors\",  tickvals=[Means_logscale_min, Means_logscale_max],  ticktext=[\"{:.3e}\".format(Means_min) , \"{:.3e}\".format(Means_max) ], ))\n",
    "            my_Tickvals    = np.linspace(allMeans_min, allMeans_max, 5, endpoint=True)\n",
    "        elif i == 3:\n",
    "            figs[i].update_traces(zmin=allStDevs_min, zmax=allStDevs_max)\n",
    "            mainTitle += \"Standard Deviation of \"\n",
    "            #figs[i].update_layout(coloraxis_colorbar=dict( title=\"Log scale<br>colors\",  tickvals=[StDevs_logscale_min, StDevs_logscale_max],  ticktext=[\"{:.3e}\".format(StDevs_min) , \"{:.3e}\".format(StDevs_max) ], ))\n",
    "            my_Tickvals    = np.linspace(allStDevs_min, allStDevs_max, 5, endpoint=True)\n",
    "        # tick values at the color bar\n",
    "        print( \"}}}}} color bar tick values:\", my_Tickvals)\n",
    "        my_logTickvals = list()\n",
    "        my_Ticktexts   = list()\n",
    "        for t in range( 0, len(my_Tickvals) ):\n",
    "            try:\n",
    "                my_logTickvals.append( math.log10(my_Tickvals[t]) )\n",
    "                my_Ticktexts.append( \"{:.3e}\".format(my_Tickvals[t]) )                \n",
    "            except Exception as ex:\n",
    "                #print(ex)\n",
    "                pass\n",
    "        figs[i].update_layout(coloraxis_colorbar=dict( title=\"Log scale<br>colors\",  tickvals=my_logTickvals,  ticktext=my_Ticktexts, ))\n",
    "        #\n",
    "        figs[i].update_yaxes( range=[regionMagLatMin,  regionMagLatMax] )\n",
    "        mainTitle += SELECTED_VARIABLE_longname + \" (\" + new_units + \")\"\n",
    "        figs[i].update_layout( title = mainTitle, width=400+len(ALTsequence)*150, height=220+200*len(KPsequence), showlegend=True, legend_orientation=\"h\", legend_y=-0.04) \n",
    "        plotly.offline.init_notebook_mode(connected=True)\n",
    "        plotly.offline.iplot(figs[i])\n",
    "        \n",
    "    print( HitsStr )    \n",
    "    \n",
    "    \n",
    "    \n",
    "    \n",
    "    \n",
    "    \n",
    "\n",
    "def plotPDFperSubBin():\n",
    "    # init parameters\n",
    "    if SELECTED_VARIABLE == \"Ohmic\":\n",
    "        MultiplicationFactor = 10**8 \n",
    "        new_units = \"10^-8 W/m3\"\n",
    "        JH_min = 0\n",
    "        JH_max = 7 #197 #1.538087e-06 * 10**8 / 10 #1.4e-7\n",
    "    elif SELECTED_VARIABLE == \"SIGMA_PED\":\n",
    "        MultiplicationFactor = 10**3 \n",
    "        new_units = \"mS/m\"\n",
    "    elif SELECTED_VARIABLE == \"SIGMA_HAL\":\n",
    "        MultiplicationFactor = 10**3 \n",
    "        new_units = \"mS/m\"        \n",
    "    elif SELECTED_VARIABLE == \"Convection_heating\":\n",
    "        MultiplicationFactor = 10**8 \n",
    "        new_units = \"10^-8 W/m3\"           \n",
    "    elif SELECTED_VARIABLE == \"Wind_heating\":\n",
    "        MultiplicationFactor = 10**8 \n",
    "        new_units = \"10^-8 W/m3\"                   \n",
    "    elif SELECTED_VARIABLE == \"EEX_si\" or SELECTED_VARIABLE == \"EEY_si\":\n",
    "        MultiplicationFactor = 1\n",
    "        new_units = \"mV/m\"      \n",
    "    elif SELECTED_VARIABLE == \"JH/mass\":\n",
    "        MultiplicationFactor = 1 \n",
    "        new_units = \"W/kg\"\n",
    "    elif SELECTED_VARIABLE == \"JH/pressure\":\n",
    "        MultiplicationFactor = 1 \n",
    "        new_units = \"sec^-1\"        \n",
    "    else:\n",
    "        MultiplicationFactor = 1\n",
    "        new_units = \"?\"         \n",
    "    print(\"SELECTED_VARIABLE=\", SELECTED_VARIABLE)\n",
    "\n",
    "    \n",
    "    # Region info:\n",
    "    RegionID = SavedFilenames_Dropdown.value[ : -1 ]\n",
    "    RegionID = RegionID[ RegionID.rfind('/')+1 : ]\n",
    "    RegionID = RegionID[ : RegionID.find('.') ]\n",
    "    regionAltMin = regionMLTmin = regionMagLatMin =  99999\n",
    "    regionAltMax = regionMLTmax = regionMagLatMax = -99999\n",
    "    All_KpRanges = list()        \n",
    "    for B in Bins:\n",
    "        if B.ID.startswith( RegionID ):\n",
    "            if [B.Kp_min, B.Kp_max] not in All_KpRanges: \n",
    "                All_KpRanges.append( [B.Kp_min, B.Kp_max] )  \n",
    "            if regionAltMin>B.Altitude_min: regionAltMin = B.Altitude_min\n",
    "            if regionAltMax<B.Altitude_max: regionAltMax = B.Altitude_max\n",
    "            if regionMLTmin>B.MLT_min: regionMLTmin = B.MLT_min\n",
    "            if regionMLTmax<B.MLT_max: regionMLTmax = B.MLT_max\n",
    "            if regionMagLatMin>B.MagLat_min: regionMagLatMin = B.MagLat_min\n",
    "            if regionMagLatMax<B.MagLat_max: regionMagLatMax = B.MagLat_max\n",
    "    if regionMLTmax <= regionMLTmin: regionMLTmax += 24    \n",
    "    print(\"REGION=\", RegionID, \"    (\", regionAltMin, regionAltMax, \") (\", regionMLTmin,  regionMLTmax, \") (\", regionMagLatMin,  regionMagLatMax, \")\" )\n",
    "\n",
    "    \n",
    "    DataFolders = [ SavedFilenames_Dropdown.value, SavedFilenamesDuplicate_Dropdown.value ]\n",
    "    fig_log = make_subplots(rows=1, cols=len(All_KpRanges), shared_yaxes=True, horizontal_spacing=0.015)\n",
    "    fig_lin = make_subplots(rows=1, cols=len(All_KpRanges), shared_yaxes=True, horizontal_spacing=0.015)\n",
    "\n",
    "    for aDataFolder in DataFolders:\n",
    "        LoadResults_CDF( aDataFolder, loadGlobalValues=False, loadTimeValues=False, loadMagLatValues=True, loadMLTvalues=True, loadAltValues=True, loadLatValues=False )\n",
    "        \n",
    "        # decide line type and opacity\n",
    "        if \"Hz\" in aDataFolder or \"Tricubic\" in aDataFolder: # it is orbit data\n",
    "            LineType = \"dot\"\n",
    "            LineFade = 0.5\n",
    "        else: # it is tiegcm-grid data\n",
    "            LineType = \"solid\"\n",
    "            LineFade = 0\n",
    "            \n",
    "        #### apply the MultiplicationFactor to fix the variable's units and the log-scale if necessary\n",
    "        num_of_subBins = 0\n",
    "        for B in Bins:\n",
    "            if B.ID.startswith(RegionID) and len(B.JH_values)>0:\n",
    "                num_of_subBins += 1\n",
    "                for i in range(0, len(B.JH_values)):\n",
    "                    B.JH_values[i] *= MultiplicationFactor\n",
    "        CalculateStatsOnData()            \n",
    "    \n",
    "        #### Plot \n",
    "        BinAnnotations = list()\n",
    "        FigureShapes = list()\n",
    "        MyColorsIndex = 0\n",
    "        SubPlotIdx = 0\n",
    "        BinIdx = 0\n",
    "        Npercentage = 0\n",
    "        for B in Bins:\n",
    "            if B.ID.startswith(RegionID) and len(B.JH_values)>0:\n",
    "                \n",
    "                Tmin = \"{:.3f}\".format( min(B.JH_values) )\n",
    "                Tmax = \"{:.3f}\".format( max(B.JH_values) )\n",
    "                Tmean = \"{:.3f}\".format( np.mean(B.JH_values) )\n",
    "                Tmedian = \"{:.3f}\".format( np.percentile(B.JH_values, 50) )\n",
    "                Tper10 = \"{:.3f}\".format( np.percentile(B.JH_values, 10) )\n",
    "                Tper90 = \"{:.3f}\".format( np.percentile(B.JH_values, 90) )\n",
    "                print(B.ID, B.Kp_min,\"<Kp<\",B.Kp_max, B.Altitude_min,\"<Alt<\",B.Altitude_max)\n",
    "                print( \"    min =\", Tmin, \" max=\", Tmax, \" mean =\", Tmean, \" median =\", Tmedian, \" percentile10 =\", Tper10, \" percentile90 =\", Tper90)\n",
    "                \n",
    "                # choose which sub-plot will host this Bin's data\n",
    "                #SubPlotIdx += 1\n",
    "                # find out the plot team\n",
    "                for i in range(0, len(All_KpRanges)):\n",
    "                    if B.Kp_min==All_KpRanges[i][0] and B.Kp_max==All_KpRanges[i][1]: PlotTeam = i+1 \n",
    "                SubPlotIdx = PlotTeam\n",
    "                # decide  color\n",
    "                MyColorsIndex = PlotTeam - 1\n",
    "                #if \"Hz\" in aDataFolder or \"Tricubic\" in aDataFolder: MyColorsIndex += 5\n",
    "                currentColor = MyColors[MyColorsIndex]\n",
    "                # decide how many data points will be plotted \n",
    "                #if Npercentage == 0: Npercentage = 2000 / len(B.JH_values)\n",
    "                #num_of_points_to_plot = int( len(B.JH_values) * Npercentage )\n",
    "                #step_per_subBin = int ( len(B.JH_values) / num_of_points_to_plot )\n",
    "                #print( \"Alt\", B.Altitude_min, B.Altitude_max, \" Kp\", B.Kp_min, B.Kp_max, \"  Ploting\", num_of_points_to_plot, \" out of \", len(B.JH_values), \"points\" )\n",
    "                # **** add info as legend for this bin\n",
    "                if \"Hz\" in aDataFolder or \"Tricubic\" in aDataFolder:\n",
    "                    prefix = \"Orbit \"\n",
    "                else:\n",
    "                    prefix = \"TIEGCM \"\n",
    "                fig_log.append_trace( go.Scatter(name=prefix + B.ID + \": \" + str(B.Altitude_min) + \"<Alt<\"+ str(B.Altitude_max) + \" <b>\" + str(B.Kp_min) + \"<Kp<\" + str(B.Kp_max) + \"</b>\" + \" Median=\" + \"{:.3f}\".format(B.JH_mean) + \" Variance=\" + \"{:.3f}\".format(B.JH_variance) + \" St.Dev.=\" + \"{:.3f}\".format(B.JH_variance**(1/2)), x=[-1], y=[-1], mode='markers', marker_size=1, marker_color=currentColor), row=1, col=SubPlotIdx )\n",
    "                fig_lin.append_trace( go.Scatter(name=prefix + B.ID + \": \" + str(B.Altitude_min) + \"<Alt<\"+ str(B.Altitude_max) + \" <b>\" + str(B.Kp_min) + \"<Kp<\" + str(B.Kp_max) + \"</b>\" + \" Median=\" + \"{:.3f}\".format(B.JH_mean) + \" Variance=\" + \"{:.3f}\".format(B.JH_variance) + \" St.Dev.=\" + \"{:.3f}\".format(B.JH_variance**(1/2)), x=[-1], y=[-1], mode='markers', marker_size=1, marker_color=currentColor), row=1, col=SubPlotIdx )\n",
    "                # **** plot data points\n",
    "                #fig_log.append_trace( go.Scatter(name=SELECTED_VARIABLE_longname, x=B.JH_values[::step_per_subBin], y=B.Altitude_values[::step_per_subBin], mode='markers', marker_size=2, marker_color=currentColor, opacity=0.5, showlegend=False), row=1, col=SubPlotIdx )\n",
    "                #fig_lin.append_trace( go.Scatter(name=SELECTED_VARIABLE_longname, x=B.JH_values[::step_per_subBin], y=B.Altitude_values[::step_per_subBin], mode='markers', marker_size=2, marker_color=currentColor, opacity=0.5, showlegend=False), row=1, col=SubPlotIdx )\n",
    "                #################\n",
    "                # find the values which fall in this bin\n",
    "                num_of_buckets = 150\n",
    "                bucket_widths  = list()\n",
    "                bucket_starts  = list()\n",
    "                Buckets        = [0] * num_of_buckets\n",
    "                factor1 = 1.2 # 1.085\n",
    "                factor2 = 2.2 # 1\n",
    "                for j in range( 0, num_of_buckets ):\n",
    "                    bucket_widths.append( 0.02 + factor1**((j+1)/factor2) - factor1**(j/factor2) )\n",
    "                bucket_widths = [0.020, 0.024, 0.029, 0.035, 0.041, 0.050, 0.060, 0.072, 0.086, 0.103, 0.124, 0.149, 0.178, 0.214, 0.257, 0.308, 0.370, 0.444, 0.532, 0.639, 0.767, 0.920, 1.104, 1.325, 1.590, 1.908, 2.290, 2.747, 3.297]\n",
    "                bucket_widths = [JH_max/num_of_buckets] * (num_of_buckets-1)\n",
    "                \n",
    "                for j in range( 0, num_of_buckets ):\n",
    "                    if j == 0:\n",
    "                        bucket_starts.append( JH_min )\n",
    "                    else:\n",
    "                        bucket_starts.append( bucket_starts[-1] + bucket_widths[j-1] )\n",
    "                        \n",
    "                #if '1' in B.ID:\n",
    "                #    print( \"bucket_widths\", bucket_widths )\n",
    "                #    print( \"bucket_starts\", bucket_starts )\n",
    "                    \n",
    "                # calculate Probability Density\n",
    "                for i in range(0, len(B.JH_values)):\n",
    "                    dropped = False\n",
    "                    for j in range( 1, num_of_buckets ):\n",
    "                        if B.JH_values[i] < bucket_starts[j]:\n",
    "                            Buckets[ j-1 ] += 1\n",
    "                            dropped = True\n",
    "                            break\n",
    "                    if dropped==False and B.JH_values[i]<bucket_starts[-1]+bucket_widths[-1]: # this goes into the last bucket\n",
    "                        Buckets[-1] += 1\n",
    "                #print( \"Buckets\", Buckets )\n",
    "                # normalize to [0,1] * Bin Altitude\n",
    "                localMax = max( Buckets )\n",
    "                for j in range( 0, num_of_buckets ):\n",
    "                    Buckets[j] = (Buckets[j] / localMax) * (B.Altitude_max-B.Altitude_min) + B.Altitude_min\n",
    "                # eliminate zero values in case of log scale - only for plotting reasons\n",
    "                bucket_starts_logscale = bucket_starts.copy()\n",
    "                Buckets_logscale = Buckets.copy()\n",
    "                if bucket_starts_logscale[0] <= 0: \n",
    "                    #del bucket_starts_logscale[0:2]\n",
    "                    #del Buckets_logscale[0:2]\n",
    "                    bucket_starts_logscale[0] = (JH_max / num_of_buckets) / 2\n",
    "                # expand end of line\n",
    "                #bucket_starts[num_of_buckets-1] = JH_max                    \n",
    "                # **** plot Probability Density Function for this bin\n",
    "                fig_log.add_trace( go.Scatter(x=bucket_starts_logscale, y=Buckets_logscale, mode='lines', line=dict(color=currentColor,width=6,dash=LineType), opacity=1-LineFade, showlegend=False), row=1, col=SubPlotIdx)\n",
    "                fig_lin.add_trace( go.Scatter(x=bucket_starts,          y=Buckets,          mode='lines', line=dict(color=currentColor,width=6,dash=LineType), opacity=1-LineFade, showlegend=False), row=1, col=SubPlotIdx)\n",
    "                #print( \">>>> bucket values: \", Buckets[0], Buckets[1] )\n",
    "            \n",
    "                # **** add visuals for the median line\n",
    "                Percentile50 = B.JH_median #np.percentile(B.JH_values, 50)\n",
    "                fig_log.add_trace( go.Scatter(x=[Percentile50,Percentile50], y=[B.Altitude_min,B.Altitude_max], mode='lines', line=dict(color=currentColor,width=6,dash=LineType), opacity=1-LineFade, showlegend=False), row=1, col=SubPlotIdx)\n",
    "                fig_lin.add_trace( go.Scatter(x=[Percentile50,Percentile50], y=[B.Altitude_min,B.Altitude_max], mode='lines', line=dict(color=currentColor,width=6,dash=LineType), opacity=1-LineFade, showlegend=False), row=1, col=SubPlotIdx)\n",
    "                # **** add visuals for standard deviation\n",
    "                fig_log.add_trace( go.Scatter(x=[Percentile50-(B.JH_medianVariance)**(1/2)/2,Percentile50+(B.JH_medianVariance)**(1/2)/2], y=[B.Altitude_min+(B.Altitude_max-B.Altitude_min)/2, B.Altitude_min+(B.Altitude_max-B.Altitude_min)/2], mode='lines', line=dict(color=currentColor,width=4,dash=LineType), opacity=1-LineFade, showlegend=False), row=1, col=SubPlotIdx)            \n",
    "                fig_lin.add_trace( go.Scatter(x=[Percentile50-(B.JH_medianVariance)**(1/2)/2,Percentile50+(B.JH_medianVariance)**(1/2)/2], y=[B.Altitude_min+(B.Altitude_max-B.Altitude_min)/2, B.Altitude_min+(B.Altitude_max-B.Altitude_min)/2], mode='lines', line=dict(color=currentColor,width=4,dash=LineType), opacity=1-LineFade, showlegend=False), row=1, col=SubPlotIdx)            \n",
    "\n",
    "    # update layout\n",
    "    fig_log.update_layout( annotations=BinAnnotations )\n",
    "    fig_log.update_layout( shapes=FigureShapes )\n",
    "    fig_log.update_layout( title=getBinDescription(CALCULATIONS_RegionName) + \"<br>\" + SELECTED_VARIABLE_longname + \" (\" + new_units + \"). Probability Density for TIEGCM grid (solid) and Daedalus orbit (dotted) \", width=4800, height=1800, legend_orientation=\"h\", legend= {'itemsizing': 'constant'}) \n",
    "    fig_log.update_yaxes(title=\"Altitude (km)\", row=1, col=1)\n",
    "    fig_lin.update_layout( annotations=BinAnnotations )\n",
    "    fig_lin.update_layout( shapes=FigureShapes )\n",
    "    fig_lin.update_layout( title=getBinDescription(CALCULATIONS_RegionName) + \"<br>\" + SELECTED_VARIABLE_longname + \" (\" + new_units + \"). Probability Density for TIEGCM grid (solid) and Daedalus orbit (dotted) \", width=4800, height=1800, legend_orientation=\"h\", legend= {'itemsizing': 'constant'}) \n",
    "    fig_lin.update_yaxes(title=\"Altitude (km)\", row=1, col=1)\n",
    "    # increase font size\n",
    "    fig_log.update_xaxes( tickfont=dict(size=34) )\n",
    "    fig_log.update_yaxes( tickfont=dict(size=34) )\n",
    "    fig_lin.update_xaxes( tickfont=dict(size=34) )\n",
    "    fig_lin.update_yaxes( tickfont=dict(size=34) )\n",
    "    # ======== plot log scale\n",
    "    i = 0\n",
    "    for B in Bins:\n",
    "        if B.ID.startswith(RegionID) and len(B.JH_values)>0:\n",
    "            fig_log.update_yaxes(range=[regionAltMin, regionAltMax], row=1, col=i+1)\n",
    "            fig_log.update_xaxes(type=\"log\", row=1, col=i+1 )\n",
    "            i = i + 1\n",
    "    plotly.offline.init_notebook_mode(connected=True)\n",
    "    plotly.offline.iplot(fig_log)    \n",
    "    # ======== plot linear scale\n",
    "    i = 0\n",
    "    for B in Bins:\n",
    "        if B.ID.startswith(RegionID) and len(B.JH_values)>0:\n",
    "            fig_lin.update_yaxes(range=[regionAltMin, regionAltMax], row=1, col=i+1)\n",
    "            fig_lin.update_xaxes(range=[JH_min, JH_max], row=1, col=i+1 )\n",
    "            i = i + 1\n",
    "    plotly.offline.init_notebook_mode(connected=True)\n",
    "    plotly.offline.iplot(fig_lin)\n",
    "    \n",
    "    \n",
    "\n",
    "    \n",
    "    \n",
    "    \n",
    "def plotAltProfilesNatural_perKpRange( ):\n",
    "    #global Profiles, MLTsequence, MLT_duration_of_a_profile, ALT_distance_of_a_bucket, regionMLTmax, regionMLTmin\n",
    "    # init parameters\n",
    "    if SELECTED_VARIABLE == \"Ohmic\":\n",
    "        x_axes_range=[0, 6]\n",
    "        MultiplicationFactor = 10**8 \n",
    "        new_units = \"10^-8 W/m3\"\n",
    "    elif SELECTED_VARIABLE == \"SIGMA_PED\":\n",
    "        x_axes_range=[0, 0.15]\n",
    "        MultiplicationFactor = 10**3 \n",
    "        new_units = \"mS/m\"\n",
    "    elif SELECTED_VARIABLE == \"SIGMA_HAL\":\n",
    "        x_axes_range=[0, 0.4] \n",
    "        MultiplicationFactor = 10**3 \n",
    "        new_units = \"mS/m\"        \n",
    "    elif SELECTED_VARIABLE == \"Convection_heating\":\n",
    "        x_axes_range=[0, 6] \n",
    "        MultiplicationFactor = 10**8 \n",
    "        new_units = \"10^-8 W/m3\"           \n",
    "    elif SELECTED_VARIABLE == \"Wind_heating\":\n",
    "        x_axes_range=[0, 6] \n",
    "        MultiplicationFactor = 10**8 \n",
    "        new_units = \"10^-8 W/m3\"                   \n",
    "    elif SELECTED_VARIABLE == \"EEX_si\" or SELECTED_VARIABLE == \"EEY_si\":\n",
    "        x_axes_range=[-24, 0] \n",
    "        MultiplicationFactor = 1\n",
    "        new_units = \"mV/m\"        \n",
    "    else:\n",
    "        x_axes_range=[0, 100] \n",
    "        MultiplicationFactor = 1\n",
    "        new_units = \"?\" \n",
    "        \n",
    "    print(SELECTED_VARIABLE)\n",
    "\n",
    "    # Region specific binning:\n",
    "    if \"(\" in CALCULATIONS_RegionName:\n",
    "        RegionID = CALCULATIONS_RegionName[ CALCULATIONS_RegionName.find('(')+1 : CALCULATIONS_RegionName.rfind(')') ]\n",
    "    else:\n",
    "        RegionID = CALCULATIONS_RegionName\n",
    "    regionMLTmin = 999\n",
    "    regionMLTmax = -999\n",
    "    regionALTmin = 999\n",
    "    regionALTmax = -999\n",
    "    for B in Bins:\n",
    "        if B.ID.startswith( RegionID ):\n",
    "            if regionMLTmin>B.MLT_min: regionMLTmin = B.MLT_min\n",
    "            if regionMLTmax<B.MLT_max: regionMLTmax = B.MLT_max\n",
    "            if regionALTmin>B.Altitude_min: regionALTmin = B.Altitude_min\n",
    "            if regionALTmax<B.Altitude_max: regionALTmax = B.Altitude_max\n",
    "    if regionMLTmax < regionMLTmin: regionMLTmax += 24\n",
    "        \n",
    "    # init data structures\n",
    "    Profiles = dict()\n",
    "    if \"TRO\" in RegionID:\n",
    "        MLT_duration_of_a_profile = 3        \n",
    "    else:\n",
    "        MLT_duration_of_a_profile = 6\n",
    "    ALT_distance_of_a_bucket  = 5\n",
    "    MLTsequence     = list( range( regionMLTmin, regionMLTmax, MLT_duration_of_a_profile) )\n",
    "    KPsequence      = [ 0, 3 ] \n",
    "    for B in Bins:\n",
    "        if B.ID.startswith( RegionID ):\n",
    "            print( B.ID )\n",
    "            for aMLT in MLTsequence:\n",
    "                Profiles[(B.Kp_min, aMLT, B.Altitude_min)] = list()\n",
    "      \n",
    "    # Binning: put data in the profiles\n",
    "    for B in Bins:\n",
    "        if B.ID.startswith( RegionID ):\n",
    "            for i in range( 0, len(B.JH_values) ):\n",
    "                # find the MLT to fall\n",
    "                MLT_tocheck = B.MLT_values[i]\n",
    "                if regionMLTmax>24  and  MLT_tocheck<=regionMLTmax-24:\n",
    "                    MLT_tocheck += 24\n",
    "                for seq_idx in range(0, len(MLTsequence)):\n",
    "                    if MLT_tocheck>=MLTsequence[seq_idx] and MLT_tocheck<MLTsequence[seq_idx]+MLT_duration_of_a_profile: \n",
    "                        mlt_to_fall=MLTsequence[seq_idx]\n",
    "                        break\n",
    "                if MLT_tocheck == MLTsequence[len(MLTsequence)-1]+MLT_duration_of_a_profile: mlt_to_fall = MLTsequence[len(MLTsequence)-1] # for last MLT position\n",
    "                # store it into the correct profile\n",
    "                Profiles[ B.Kp_min, mlt_to_fall, B.Altitude_min].append( B.JH_values[i] )      \n",
    "\n",
    "    # plot\n",
    "    Color10 = '#c4dfe6'\n",
    "    Color25 = '#a1d6e2'\n",
    "    Color50 = '#1995ad'\n",
    "    Color75 = '#a1d6e2'\n",
    "    Color90 = '#c4dfe6'\n",
    "    \n",
    "    # construct the column MLT titles #(\"0-3\", \"3-6\", \"6-9\", \"9-12\", \"12-15\", \"15-18\", \"18-21\", \"21-24\")\n",
    "    ColumnTitles = list()\n",
    "    \n",
    "    for i in range(0, len(MLTsequence)):\n",
    "        ColumnTitles.append( \"MLT \" + str(MLTsequence[i]) + \"-\"  + str(MLTsequence[i]+MLT_duration_of_a_profile) )\n",
    "    # define secondary y-axis at the right of the plot\n",
    "    mySpecs = list()\n",
    "    for row in range(0, len(KPsequence)):\n",
    "        mySpecs.append( list() )\n",
    "        for col in range(0, len(MLTsequence)):\n",
    "            mySpecs[row].append( {\"secondary_y\": True} )\n",
    "\n",
    "    #make plot\n",
    "    fig = make_subplots(rows=len(KPsequence), cols=len(MLTsequence), shared_xaxes=True, shared_yaxes=True, vertical_spacing=0.035, horizontal_spacing=0.01, subplot_titles=ColumnTitles, specs=mySpecs)\n",
    "    for aKP in KPsequence:\n",
    "        for aMLT in MLTsequence:\n",
    "            #Means = list()\n",
    "            Percentiles10 = list()\n",
    "            Percentiles25 = list()\n",
    "            Percentiles50 = list()            \n",
    "            Percentiles75 = list()\n",
    "            Percentiles90 = list()\n",
    "            visibleALTsequence = list()\n",
    "            hits  = 0\n",
    "            \n",
    "            # find the ALTsequence of this bin\n",
    "            ALTsequence = list()\n",
    "            for B in Bins:\n",
    "                if B.ID.startswith( RegionID ) and B.Kp_min==aKP:\n",
    "                    ALTsequence.append( B.Altitude_min )\n",
    "            print( \"    >>>\", ALTsequence )\n",
    "             \n",
    "            # compute percentiles\n",
    "            for anALT in ALTsequence:\n",
    "                print(\"  \", anALT, \"km     hits =\",  len(Profiles[(aKP, aMLT, anALT)]))\n",
    "                hits += len(Profiles[(aKP, aMLT, anALT)])\n",
    "                if len(Profiles[(aKP, aMLT, anALT)]) > 0:\n",
    "                    #Means.append(  sum(Profiles[(aKP, aMLT, anALT)]) / len(Profiles[(aKP, aMLT, anALT)]) )\n",
    "                    Percentiles10.append( np.percentile(Profiles[(aKP, aMLT, anALT)], 10) )\n",
    "                    Percentiles25.append( np.percentile(Profiles[(aKP, aMLT, anALT)], 25) )\n",
    "                    Percentiles50.append( np.percentile(Profiles[(aKP, aMLT, anALT)], 50) )                    \n",
    "                    Percentiles75.append( np.percentile(Profiles[(aKP, aMLT, anALT)], 75) )\n",
    "                    Percentiles90.append( np.percentile(Profiles[(aKP, aMLT, anALT)], 90) )\n",
    "                    visibleALTsequence.append( anALT )\n",
    "            print( \"Kp = \", aKP, \"MLT =\", aMLT, \"   Hits =\", hits, \"  \", datetime.now().strftime(\"%d-%m-%Y %H:%M:%S\") )\n",
    "            \n",
    "            # change units\n",
    "            for i in range(0,len(Percentiles50)): \n",
    "                #Means[i] *= MultiplicationFactor\n",
    "                Percentiles10[i] *= MultiplicationFactor\n",
    "                Percentiles25[i] *= MultiplicationFactor\n",
    "                Percentiles50[i] *= MultiplicationFactor\n",
    "                Percentiles75[i] *= MultiplicationFactor\n",
    "                Percentiles90[i] *= MultiplicationFactor\n",
    "            \n",
    "            # alter visibleALTsequence so that data are displayed correctly\n",
    "            # set the point in the middle of the altitude sub-bin\n",
    "            #print(ALTsequence) print( \"Data length =\", len( Profiles[(aKP, aMLT, anALT)]) ) print( visibleALTsequence ) print( Percentiles50 )\n",
    "            for i in range(0, len(visibleALTsequence)):\n",
    "                visibleALTsequence[i] += ALT_distance_of_a_bucket/2\n",
    "            # find lowest altitude for this sub-region and set it as the first in the plot\n",
    "            LowestAltitude = 999999\n",
    "            for B in Bins:\n",
    "                if B.ID.startswith( RegionID ) and B.Kp_min==aKP:\n",
    "                    for i in range(0, len(B.Altitude_values)):\n",
    "                        if LowestAltitude > B.Altitude_values[i]: LowestAltitude = B.Altitude_values[i]\n",
    "            print(\"Kp = \", aKP, \"MLT =\", aMLT, \"  LowestAltitude=\", LowestAltitude)\n",
    "            if LowestAltitude < 10000:\n",
    "                for anALT in ALTsequence:\n",
    "                    if len(Profiles[(aKP, aMLT, anALT)]) > 0:\n",
    "                        visibleALTsequence[0] = LowestAltitude\n",
    "                        break\n",
    "            # stretch the plot to the maximum altitude\n",
    "            if len(visibleALTsequence) == 1:\n",
    "                visibleALTsequence.append( regionALTmax )\n",
    "                Percentiles10.append( Percentiles10[0] )\n",
    "                Percentiles25.append( Percentiles25[0] )\n",
    "                Percentiles50.append( Percentiles50[0] )\n",
    "                Percentiles75.append( Percentiles75[0] )\n",
    "                Percentiles90.append( Percentiles90[0] )\n",
    "            elif len(visibleALTsequence) > 1:\n",
    "                visibleALTsequence[-1] = regionALTmax\n",
    "            \n",
    "            fig.add_trace( go.Scatter(x=[0]*len(visibleALTsequence), y=visibleALTsequence, mode='lines', fill='tonexty', fillcolor=Color10, line=dict(color='gray',width=1,), showlegend=False), row=KPsequence.index(aKP)+1, col=MLTsequence.index(aMLT)+1 )\n",
    "            fig.add_trace( go.Scatter(x=Percentiles10, y=visibleALTsequence, mode='lines', fill='tonexty', fillcolor=Color10, line=dict(color='gray',width=1,), showlegend=False), row=KPsequence.index(aKP)+1, col=MLTsequence.index(aMLT)+1 )\n",
    "            fig.add_trace( go.Scatter(x=Percentiles25, y=visibleALTsequence, mode='lines', fill='tonexty', fillcolor=Color25, line=dict(color='gray',width=1,), showlegend=False), row=KPsequence.index(aKP)+1, col=MLTsequence.index(aMLT)+1 )\n",
    "            fig.add_trace( go.Scatter(x=Percentiles50, y=visibleALTsequence, mode='lines', fill='tonexty', fillcolor=Color50, line=dict(color='black',width=2,), showlegend=False), row=KPsequence.index(aKP)+1, col=MLTsequence.index(aMLT)+1 )\n",
    "            # plot mean\n",
    "            #fig.add_trace( go.Scatter(x=Means, y=visibleALTsequence, mode='lines', fill='tonexty', fillcolor='black', line=dict(color='black',width=1,), showlegend=False), row=KPsequence.index(aKP)+1, col=MLTsequence.index(aMLT)+1 )\n",
    "            # plot percentiles\n",
    "            fig.add_trace( go.Scatter(x=Percentiles75, y=visibleALTsequence, mode='lines', fill='tonexty', fillcolor=Color75, line=dict(color='gray',width=1,), showlegend=False), row=KPsequence.index(aKP)+1, col=MLTsequence.index(aMLT)+1 )\n",
    "            fig.add_trace( go.Scatter(x=Percentiles90, y=visibleALTsequence, mode='lines', fill='tonexty', fillcolor=Color90, line=dict(color='gray',width=1,), showlegend=False), row=KPsequence.index(aKP)+1, col=MLTsequence.index(aMLT)+1,  )\n",
    "            # add a trace in order to display secondary y-axis at the right\n",
    "            fig.add_trace( go.Scatter(x=[-1000], y=[-1000], showlegend=False), row=KPsequence.index(aKP)+1, col=MLTsequence.index(aMLT)+1, secondary_y=True )\n",
    "            \n",
    "    # display legends\n",
    "    fig.add_trace( go.Scatter(name='10th Perc.', x=Percentiles10, y=visibleALTsequence, mode='lines', fill='tonexty', fillcolor=Color10, line=dict(color='gray',width=1,), showlegend=True), row=KPsequence.index(aKP)+1, col=MLTsequence.index(aMLT)+1 )\n",
    "    fig.add_trace( go.Scatter(name='25th Perc.', x=Percentiles25, y=visibleALTsequence, mode='lines', fill='tonexty', fillcolor=Color25, line=dict(color='gray',width=1,), showlegend=True), row=KPsequence.index(aKP)+1, col=MLTsequence.index(aMLT)+1 )\n",
    "    fig.add_trace( go.Scatter(name='50th Perc.', x=Percentiles50, y=visibleALTsequence, mode='lines', fill='tonexty', fillcolor=Color50, line=dict(color='black',width=2,), showlegend=True), row=KPsequence.index(aKP)+1, col=MLTsequence.index(aMLT)+1 )\n",
    "    #fig.add_trace( go.Scatter(name='Mean value', x=Means, y=visibleALTsequence, mode='lines', fill='tonexty', fillcolor='#5cc5ef', line=dict(color='black',width=1,), showlegend=True), row=KPsequence.index(aKP)+1, col=MLTsequence.index(aMLT)+1 )            \n",
    "    fig.add_trace( go.Scatter(name='75th Perc.', x=Percentiles75, y=visibleALTsequence, mode='lines', fill='tonexty', fillcolor=Color75, line=dict(color='gray',width=1,), showlegend=True), row=KPsequence.index(aKP)+1, col=MLTsequence.index(aMLT)+1 )\n",
    "    fig.add_trace( go.Scatter(name='90th Perc.', x=Percentiles90, y=visibleALTsequence, mode='lines', fill='tonexty', fillcolor=Color90, line=dict(color='gray',width=1,), showlegend=True), row=KPsequence.index(aKP)+1, col=MLTsequence.index(aMLT)+1 )\n",
    "    \n",
    "    \n",
    "    #fig.update_yaxes( title=\"Altitude(km)\" )\n",
    "    for aKP in KPsequence:\n",
    "        fig.update_yaxes( title_text=\"Altitude (km)\", row=KPsequence.index(aKP)+1, col=1, side='left', secondary_y=False)\n",
    "        row_title = \"Kp \" + str(aKP) + \" - \"\n",
    "        if aKP == 0:\n",
    "            row_title +=  \"3\"\n",
    "        elif aKP == 3:\n",
    "            row_title +=  \"9\"\n",
    "        else:\n",
    "            row_title +=  \"?\"\n",
    "        fig.update_yaxes( title_text=row_title, row=KPsequence.index(aKP)+1, col=len(MLTsequence),  side='right', secondary_y=True, showticklabels=False )\n",
    "        for aMLT in MLTsequence:\n",
    "            fig.update_yaxes( row=KPsequence.index(aKP)+1, col=MLTsequence.index(aMLT)+1, secondary_y=True, showticklabels=False )\n",
    "    fig.update_xaxes( range=x_axes_range )\n",
    "    fig.update_yaxes( range=[80, 160], dtick=10 )  \n",
    "    fig.update_layout( title = getBinDescription(CALCULATIONS_RegionName) + \"<br>\" + \"Alt.Prof. of \" + SELECTED_VARIABLE_longname + \" (\" + new_units + \")\",\n",
    "                       width=280+len(MLTsequence)*820, height=200+400*len(KPsequence), showlegend=True, legend_orientation=\"h\", legend_y=-0.04) \n",
    "    plotly.offline.init_notebook_mode(connected=True)\n",
    "    plotly.offline.iplot(fig) \n",
    "    \n",
    "    # plot more zoom versions\n",
    "    new_x_axes_range = [x * (2/3) for x in x_axes_range]\n",
    "    fig.update_xaxes( range=new_x_axes_range )\n",
    "    plotly.offline.iplot(fig) \n",
    "    new_x_axes_range = [x * (1/2) for x in x_axes_range]\n",
    "    fig.update_xaxes( range=new_x_axes_range )\n",
    "    plotly.offline.iplot(fig) \n",
    "    new_x_axes_range = [x * (3/2) for x in x_axes_range]\n",
    "    fig.update_xaxes( range=new_x_axes_range )\n",
    "    plotly.offline.iplot(fig) \n",
    "    new_x_axes_range = [x * (2.5) for x in x_axes_range]\n",
    "    fig.update_xaxes( range=new_x_axes_range )\n",
    "    plotly.offline.iplot(fig) \n",
    "    \n",
    "        \n",
    "    \n",
    "\n",
    "    \n",
    "    \n",
    "    \n",
    "    \n",
    "def WriteListToTextFile(TheList, TheFilename):\n",
    "    fd = open(TheFilename, \"w\") \n",
    "    for i in range(0, len(TheList)):\n",
    "        fd.write( str(TheList[i]) + \"\\n\" )\n",
    "    fd.close() \n",
    "\n",
    "\n",
    "'''\n",
    "executes several statistical tests in order to compare the distributions of two data sets\n",
    "'''\n",
    "def executeStatTest( DataPath1, DataPath2 ):\n",
    "    # Region info:\n",
    "    RegionID = SavedFilenames_Dropdown.value[ : -1 ]\n",
    "    RegionID = RegionID[ RegionID.rfind('/')+1 : ]\n",
    "    RegionID = RegionID[ : RegionID.find('.') ]\n",
    "    print(\"REGION =\", RegionID )\n",
    "\n",
    "    # number of samples to be taken from each data set. Set to -1 in order to take account all data\n",
    "    k = 50\n",
    "    \n",
    "    # init data structures to hold the statistical calculations\n",
    "    Stats1 = dict()\n",
    "    Stats2 = dict()\n",
    "    Ztest_means = dict()\n",
    "    Ztest_medians = dict()\n",
    "    for B in Bins:\n",
    "        if B.ID.startswith(RegionID):\n",
    "            Stats1[( B.ID, \"AllData\" )] = list()            \n",
    "            Stats1[( B.ID, \"Sample\" )] = list()\n",
    "            Stats1[( B.ID, \"Median\" )] = 0\n",
    "            Stats1[( B.ID, \"MAD\" )] = 0\n",
    "            Stats1[( B.ID, \"Mean\" )] = 0\n",
    "            Stats1[( B.ID, \"StDev\" )] = 0\n",
    "            Stats1[( B.ID, \"num_of_datapoints\" )] = 0\n",
    "            Stats2[( B.ID, \"AllData\" )] = list()            \n",
    "            Stats2[( B.ID, \"Sample\" )] = list()\n",
    "            Stats2[( B.ID, \"Median\" )] = 0\n",
    "            Stats2[( B.ID, \"MAD\" )] = 0\n",
    "            Stats2[( B.ID, \"Mean\" )] = 0\n",
    "            Stats2[( B.ID, \"StDev\" )] = 0\n",
    "            Stats2[( B.ID, \"num_of_datapoints\" )] = 0\n",
    "            Ztest_means[( B.ID, \"Z\" )] = 0\n",
    "            Ztest_medians[( B.ID, \"Z\" )] = 0\n",
    "    \n",
    "    # ---------------- Load data set 1\n",
    "    print(\"Loading data set 1:\", DataPath1)\n",
    "    LoadResults_CDF( DataPath1, loadGlobalValues=False, loadTimeValues=False, loadMagLatValues=False, loadMLTvalues=False, loadAltValues=False, loadLatValues=False )\n",
    "    for B in Bins:\n",
    "        if B.ID.startswith(RegionID):\n",
    "            if len(B.JH_values) > 0: WriteListToTextFile(B.JH_values, \"Data/dataset1_\"+B.ID+\".txt\")\n",
    "            Stats1[( B.ID, \"AllData\" )] = B.JH_values.copy()\n",
    "    # reduce data to samples\n",
    "    if k > 0:\n",
    "        for B in Bins:\n",
    "            if B.ID.startswith(RegionID):\n",
    "                if len(B.JH_values) > k:\n",
    "                    B.JH_values = random.sample(B.JH_values, k) \n",
    "                    Stats1[( B.ID, \"Sample\" )] = B.JH_values.copy()\n",
    "                    print(\"-------- TIEGCM\", B.ID, \"--------\")\n",
    "                    print( Stats1[( B.ID, \"Sample\" )] )\n",
    "                else:\n",
    "                    print( B.ID, \"has a only\", len(B.JH_values), \"items\" )\n",
    "        CalculateStatsOnData()\n",
    "        print(\"Data reduced to a sample of\", k)\n",
    "    print(\"TIEGCM\")\n",
    "    for B in Bins:\n",
    "        if B.ID.startswith(RegionID):\n",
    "            Stats1[( B.ID, \"Median\" )] = B.JH_median\n",
    "            Stats1[( B.ID, \"Mean\" )] = B.JH_mean\n",
    "            Stats1[( B.ID, \"StDev\" )] = math.sqrt( B.JH_variance )\n",
    "            Stats1[( B.ID, \"MAD\" )] = B.JH_medianAbsDev\n",
    "            Stats1[( B.ID, \"num_of_datapoints\" )] = len( B.JH_values )\n",
    "            print( \" \", B.ID, \" Mean =\", \"{:.3e}\".format(Stats1[( B.ID, \"Mean\" )]), \" StDev =\", \"{:.3e}\".format(Stats1[( B.ID, \"StDev\" )]), \" Median =\", \"{:.3e}\".format(Stats1[( B.ID, \"Median\" )]), \" MAD =\",\"{:.3e}\".format(Stats1[( B.ID, \"MAD\" )]), \" points =\",Stats1[(B.ID, \"num_of_datapoints\" )] )\n",
    "            \n",
    "            \n",
    "    # ---------------- Load data set 2\n",
    "    print(\"Loading data set 2:\", DataPath2)\n",
    "    LoadResults_CDF( DataPath2, loadGlobalValues=False, loadTimeValues=False, loadMagLatValues=False, loadMLTvalues=False, loadAltValues=False, loadLatValues=False )\n",
    "    for B in Bins:\n",
    "        if B.ID.startswith(RegionID):\n",
    "            if len(B.JH_values) > 0: WriteListToTextFile(B.JH_values, \"Data/dataset2_\"+B.ID+\".txt\")\n",
    "            Stats2[( B.ID, \"AllData\" )] = B.JH_values.copy()\n",
    "    # reduce data to samples\n",
    "    if k > 0:\n",
    "        for B in Bins:\n",
    "            if B.ID.startswith(RegionID):\n",
    "                if len(B.JH_values) > k:\n",
    "                    B.JH_values = random.sample(B.JH_values, k) \n",
    "                    Stats2[( B.ID, \"Sample\" )] = B.JH_values.copy()\n",
    "                    print(\"-------- Orbit\", B.ID, \"--------\")\n",
    "                    print( Stats2[( B.ID, \"Sample\" )] )\n",
    "                else:\n",
    "                    print( B.ID, \"has a only\", len(B.JH_values), \"items\" )\n",
    "        CalculateStatsOnData()\n",
    "        print(\"Data reduces to a sample of\", k)\n",
    "    print(\"ORBIT\")\n",
    "    for B in Bins:\n",
    "        if B.ID.startswith(RegionID):\n",
    "            Stats2[( B.ID, \"Median\" )] = B.JH_median\n",
    "            Stats2[( B.ID, \"Mean\" )] = B.JH_mean\n",
    "            Stats2[( B.ID, \"StDev\" )] = math.sqrt( B.JH_variance )\n",
    "            Stats2[( B.ID, \"MAD\" )] = B.JH_medianAbsDev\n",
    "            Stats2[( B.ID, \"num_of_datapoints\" )] = len( B.JH_values )\n",
    "            print( \" \", B.ID, \" Mean =\", \"{:.3e}\".format(Stats2[( B.ID, \"Mean\" )]), \" StDev =\", \"{:.3e}\".format(Stats2[( B.ID, \"StDev\" )]), \" Median =\", \"{:.3e}\".format(Stats2[( B.ID, \"Median\" )]), \" MAD =\",\"{:.3e}\".format(Stats2[( B.ID, \"MAD\" )]), \" points =\", Stats2[(B.ID, \"num_of_datapoints\" )] )\n",
    "            \n",
    "    ''' testing with numbers from the example\n",
    "    for B in Bins:\n",
    "        if B.ID.startswith(RegionID):            \n",
    "            Stats1[( B.ID, \"Mean\" )] = 51.5 \n",
    "            Stats2[( B.ID, \"Mean\" )] = 39.5 \n",
    "    \n",
    "            Stats1[( B.ID, \"StDev\" )] = 8\n",
    "            Stats2[( B.ID, \"StDev\" )] = 7\n",
    "\n",
    "            Stats1[( B.ID, \"num_of_datapoints\" )] = 25\n",
    "            Stats2[( B.ID, \"num_of_datapoints\" )] = 25\n",
    "    '''\n",
    "    \n",
    "    # ######## Execute the Z-test http://homework.uoregon.edu/pub/class/es202/ztest.html\n",
    "    for B in Bins:\n",
    "        if B.ID.startswith(RegionID):\n",
    "            # ------------ for mean values\n",
    "            a = Stats1[( B.ID, \"Mean\" )] - Stats2[( B.ID, \"Mean\" )]\n",
    "            try:\n",
    "                s1 = Stats1[( B.ID, \"StDev\" )] / math.sqrt( Stats1[( B.ID, \"num_of_datapoints\" )] )\n",
    "            except:\n",
    "                s1 = 0\n",
    "            try:\n",
    "                s2 = Stats2[( B.ID, \"StDev\" )] / math.sqrt( Stats2[( B.ID, \"num_of_datapoints\" )] )\n",
    "            except:\n",
    "                s2 = 0\n",
    "            b = math.sqrt( s1**2 + s2**2 )\n",
    "            if b!=0: Ztest_means[( B.ID, \"Z\" )] = a / b\n",
    "            #if b!=0: print(\"s1=\",s1, \"  s2=\",s2, \"  a=\",a, \"  b=\",b, \" z=\", a/b)\n",
    "            # ------------ for median values\n",
    "            a = Stats1[( B.ID, \"Median\" )] - Stats2[( B.ID, \"Median\" )]\n",
    "            try:\n",
    "                s1 = Stats1[( B.ID, \"MAD\" )] / math.sqrt( Stats1[( B.ID, \"num_of_datapoints\" )] )\n",
    "            except:\n",
    "                s1 = 0\n",
    "            try:\n",
    "                s2 = Stats2[( B.ID, \"MAD\" )] / math.sqrt( Stats2[( B.ID, \"num_of_datapoints\" )] )\n",
    "            except:\n",
    "                s2 = 0\n",
    "            b = math.sqrt( s1**2 + s2**2 )\n",
    "            if b!=0 : Ztest_medians[( B.ID, \"Z\" )] = a / b\n",
    "            # ----------------- from wikipedia\n",
    "            try:\n",
    "                SE = Stats1[( B.ID, \"StDev\" )] / math.sqrt( Stats2[( B.ID, \"num_of_datapoints\" )] )\n",
    "                z = (Stats2[( B.ID, \"Mean\" )] - Stats1[( B.ID, \"Mean\" )]) / SE\n",
    "                print( B.ID, \"WikipediaZ =\", z )\n",
    "            except:\n",
    "                print( B.ID, \"WikipediaZ = NaN\",  )\n",
    "            \n",
    "    # display results of the z-test\n",
    "    print(\"\\nZ-test results for region\", RegionID, \":\")\n",
    "    for B in Bins:\n",
    "        if B.ID.startswith(RegionID) and len(B.JH_values)>0:\n",
    "            print(\"   \", B.ID, \"  \", B.Kp_min,\"<Kp<\",B.Kp_max, \"  \", B.Altitude_min,\"<Alt<\",B.Altitude_max, \"   Z of means =\", \"{:.3f}\".format(Ztest_means[( B.ID, \"Z\" )]), \"   Z of medians =\", \"{:.3f}\".format(Ztest_medians[( B.ID, \"Z\" )]) )\n",
    "        \n",
    "    # ############ execute Wilcoxon test\n",
    "    #Stats1[( \"AEM_L2\", \"Sample\" )] = [2.5951188e-08, 5.3817932e-09, 4.5183768e-08, 1.551039e-10, 1.0724093e-09, 4.962505e-09, 5.4119514e-10, 3.945805e-09, 5.9539945e-10, 1.8923414e-08, 1.960878e-09, 4.055865e-09, 1.7519519e-10, 1.3301345e-08, 1.2372746e-07, 1.2138809e-08, 8.16415e-09, 3.289174e-10, 8.7328536e-09, 3.827526e-08, 5.4933094e-09, 3.4882688e-09, 1.7631713e-08, 4.8599507e-09, 1.0905276e-09, 6.7475585e-09, 5.2583008e-08, 1.3054376e-08, 2.8305527e-09, 3.3543217e-09, 6.1289263e-09, 2.352899e-08, 2.0256745e-09, 6.2435213e-09, 1.1858019e-08, 8.533459e-09, 2.687838e-09, 1.875761e-08, 9.90745e-12, 4.014579e-10, 5.657707e-10, 4.473683e-09, 4.9620965e-09, 1.695748e-09, 1.5530714e-08, 5.283186e-10, 2.5974272e-09, 1.3884176e-08, 5.4488223e-09, 1.8228039e-09]\n",
    "    #Stats1[( \"AEM_L3\", \"Sample\" )] = [2.925222e-08, 2.8446618e-09, 1.2962599e-08, 4.0733735e-08, 1.13316e-08, 3.9474628e-08, 1.04909297e-10, 1.15847726e-07, 1.0136927e-09, 1.9383768e-10, 6.831934e-09, 1.0782474e-08, 1.2424795e-10, 4.196759e-09, 5.1174908e-08, 1.7030825e-08, 1.0095899e-08, 1.1140663e-08, 4.077417e-09, 9.559168e-09, 4.920846e-08, 2.398426e-08, 1.690071e-08, 2.2489953e-08, 9.672096e-12, 1.4901229e-10, 1.8795976e-09, 3.1964256e-10, 1.7421792e-09, 4.656256e-09, 7.853907e-09, 1.7165107e-08, 9.6540695e-09, 3.952511e-09, 1.9861e-09, 5.2326378e-08, 6.117663e-09, 1.224011e-08, 7.4337563e-09, 5.351637e-08, 1.4914312e-08, 5.9796363e-09, 2.1843855e-08, 2.0803566e-10, 9.217002e-09, 1.5518825e-08, 3.8406185e-09, 3.002403e-08, 2.3402782e-08, 1.03541e-08]\n",
    "    #Stats2[( \"AEM_L2\", \"Sample\" )] = [2.0343393e-08, 2.32117e-09, 2.813346e-08, 1.3160446e-08, 3.800517e-11, 7.743971e-09, 6.345863e-10, 2.7468875e-08, 4.077262e-08, 4.4672564e-08, 5.474968e-10, 1.2188225e-10, 3.517082e-08, 8.0183016e-10, 6.559348e-10, 5.1463047e-09, 1.8888866e-08, 1.3424133e-09, 1.0823237e-08, 4.31503e-10, 2.7409655e-08, 1.0387256e-08, 1.2501109e-08, 1.1267671e-09, 5.51157e-10, 4.859329e-09, 2.7400797e-09, 2.6947452e-08, 4.282332e-09, 1.0266081e-10, 1.7017069e-08, 3.041313e-10, 1.6484906e-08, 1.4166748e-09, 1.649007e-09, 1.0126844e-09, 6.2378396e-09, 8.235802e-11, 6.797095e-09, 5.0539932e-09, 5.7199996e-09, 1.6371768e-09, 3.067749e-10, 2.7308031e-09, 2.9056872e-09, 1.0407587e-09, 5.1806275e-09, 4.0906154e-09, 4.3983903e-08, 2.6597846e-10]\n",
    "    #Stats2[( \"AEM_L3\", \"Sample\" )] = [9.518898e-09, 1.27464e-09, 3.8833985e-08, 1.4651571e-09, 2.8009433e-09, 1.3584062e-09, 6.11956e-09, 3.107995e-09, 4.24684e-09, 3.2873103e-08, 8.475515e-09, 4.165824e-09, 3.908122e-08, 7.2805566e-09, 4.0665938e-08, 1.7837495e-08, 1.8128925e-09, 5.285636e-08, 6.3407826e-09, 5.5626117e-09, 1.4412362e-07, 1.7359745e-09, 2.1320249e-08, 1.463807e-08, 2.950494e-09, 5.9469514e-08, 1.0799843e-08, 8.250815e-09, 4.218044e-08, 6.5836275e-10, 5.35778e-10, 1.9661668e-08, 1.4192106e-07, 4.732321e-09, 1.7882544e-10, 1.223656e-08, 6.950843e-11, 6.5227748e-09, 8.1680875e-09, 7.553436e-09, 7.1417494e-10, 1.8003114e-08, 3.772138e-09, 1.3795659e-08, 8.2685325e-09, 2.240433e-10, 9.484356e-09, 3.31965e-08, 2.0636206e-08, 4.9476892e-08]\n",
    "    print(\"\\nWilcoxon-test results for region\", RegionID, \":\")\n",
    "    for B in Bins:\n",
    "        if B.ID.startswith(RegionID) and len(B.JH_values)>0:\n",
    "            # calculate diference of each pair\n",
    "            Diffs = list()\n",
    "            Signs = list()\n",
    "            for i in range(0, k):\n",
    "                n = Stats2[( B.ID, \"Sample\" )][i] - Stats1[( B.ID, \"Sample\" )][i]\n",
    "                if n > 0:\n",
    "                    Diffs.append( abs(n) )\n",
    "                    Signs.append( 1 )\n",
    "                elif n < 0:\n",
    "                    Diffs.append( abs(n) )\n",
    "                    Signs.append( -1 ) \n",
    "            # sort diferrences\n",
    "            zipped = list(zip(Diffs, Signs))\n",
    "            zipped.sort()\n",
    "            Diffs, Signs = zip(*zipped)\n",
    "            Diffs = list(Diffs)\n",
    "            Signs = list(Signs)\n",
    "            #  calculate W\n",
    "            W = 0\n",
    "            Wplus = 0\n",
    "            Wminus = 0\n",
    "            for i in range(0, len(Diffs)):\n",
    "                W += Signs[i] * (i+1)\n",
    "                if Signs[i] == +1: Wplus  += (i+1)\n",
    "                if Signs[i] == -1: Wminus += (i+1)\n",
    "            # calculate variance etc for the W distribution\n",
    "            N = len(Diffs)\n",
    "            W_variance = N*(N+1)*(2*N+1)/6\n",
    "            W_stdev = math.sqrt(W_variance)\n",
    "            W_score = W / W_stdev\n",
    "            # display\n",
    "            print(\"   \", B.ID, \" \", B.Kp_min,\"<Kp<\",B.Kp_max, \" \", B.Altitude_min,\"<Alt<\",B.Altitude_max, \"  Wplus =\", Wplus, \" Wminus =\", Wminus, \"  W =\", W, \" W-score =\", W_score )\n",
    "\n",
    "    # ############ execute scipy-ranksums test (Compute the Wilcoxon rank-sum statistic for two samples) https://docs.scipy.org/doc/scipy/reference/generated/scipy.stats.ranksums.html\n",
    "    print(\"\\nscipy-ranksums-test results for region\", RegionID, \":\")\n",
    "    for B in Bins:\n",
    "        if B.ID.startswith(RegionID) and len(B.JH_values)>0:\n",
    "            TestStatistic, Pvalue = ranksums( Stats1[( B.ID, \"AllData\" )], Stats2[( B.ID, \"AllData\" )] )\n",
    "            print(\" \", B.ID, B.Kp_min,\"<Kp<\",B.Kp_max, B.Altitude_min,\"<Alt<\",B.Altitude_max, \"DataLen:\", len(Stats1[( B.ID, \"AllData\" )]), \"&\" ,len(Stats2[( B.ID, \"AllData\" )]) ,\"TestStatistic =\", TestStatistic, \"Pvalue =\", Pvalue)\n",
    "    # ############ execute mannwhitneyu-test. Mann–Whitney U test, also called Mann–Whitney–Wilcoxon.  https://docs.scipy.org/doc/scipy/reference/generated/scipy.stats.mannwhitneyu.html#scipy.stats.mannwhitneyu\n",
    "    print(\"\\nmannwhitneyu-test results for region\", RegionID, \":\")\n",
    "    for B in Bins:\n",
    "        if B.ID.startswith(RegionID) and len(B.JH_values)>0:\n",
    "            print(\" \", B.ID, B.Kp_min,\"<Kp<\",B.Kp_max, B.Altitude_min,\"<Alt<\",B.Altitude_max, \"DataLen:\", len(Stats1[( B.ID, \"AllData\" )]), \"&\" ,len(Stats2[( B.ID, \"AllData\" )]))\n",
    "            TestStatistic, Pvalue = mannwhitneyu( Stats1[( B.ID, \"AllData\" )], Stats2[( B.ID, \"AllData\" )], use_continuity=True, alternative='two-sided' )\n",
    "            print( \"     Continuity=True Alternative=two-sided:\",  \"  TestStatistic =\", TestStatistic, \"Pvalue =\", Pvalue)\n",
    "            TestStatistic, Pvalue = mannwhitneyu( Stats1[( B.ID, \"AllData\" )], Stats2[( B.ID, \"AllData\" )], use_continuity=True, alternative='less' )\n",
    "            print( \"     Continuity=True Alternative=less:     \",  \"  TestStatistic =\", TestStatistic, \"Pvalue =\", Pvalue)\n",
    "            TestStatistic, Pvalue = mannwhitneyu( Stats1[( B.ID, \"AllData\" )], Stats2[( B.ID, \"AllData\" )], use_continuity=True, alternative='greater' )\n",
    "            print( \"     Continuity=True Alternative=greater:  \",  \"  TestStatistic =\", TestStatistic, \"Pvalue =\", Pvalue)\n",
    "            TestStatistic, Pvalue = mannwhitneyu( Stats1[( B.ID, \"AllData\" )], Stats2[( B.ID, \"AllData\" )], use_continuity=False, alternative='two-sided' )\n",
    "            print( \"     Continuity=False Alternative=two-sided:\",  \"  TestStatistic =\", TestStatistic, \"Pvalue =\", Pvalue)\n",
    "            TestStatistic, Pvalue = mannwhitneyu( Stats1[( B.ID, \"AllData\" )], Stats2[( B.ID, \"AllData\" )], use_continuity=False, alternative='less' )\n",
    "            print( \"     Continuity=False Alternative=less:     \",  \"  TestStatistic =\", TestStatistic, \"Pvalue =\", Pvalue)\n",
    "            TestStatistic, Pvalue = mannwhitneyu( Stats1[( B.ID, \"AllData\" )], Stats2[( B.ID, \"AllData\" )], use_continuity=False, alternative='greater' )\n",
    "            print( \"     Continuity=False Alternative=greater:  \",  \"  TestStatistic =\", TestStatistic, \"Pvalue =\", Pvalue)\n",
    "\n",
    "            \n",
    "display( createGUI() )\n",
    "Plot_JHvsMagLat_Checkbox.value = False\n",
    "Plot_JHvsMLT_Checkbox.value = False\n",
    "Plot_JHvsAltitude_Checkbox.value = False\n",
    "Plot_AltitudeVsMagLat_Checkbox.value = False\n",
    "Plot_JHdistribution_Checkbox.value = False\n",
    "#Plot_AltProfilesCanonical_Checkbox.value = False\n",
    "Plot_AltProfilesNatural_Checkbox.value = False\n",
    "Plot_HeightIntegrated_Checkbox.value = False\n",
    "Plot_ColorSpreads_Checkbox.value = False\n",
    "Plot_PDFperSubBin_Checkbox.value = False\n",
    "Test_statistical_Checkbox.value = False\n",
    "#SavedFilenamesDuplicate_Dropdown.value = \"/home/NAS/Data_Files/CoverageResults/AEM.TIEGCM_Lifetime_2015_to_2018_JH_QD.1HzIntepolatedDATA.ValuesPerBinResults.nc\"\n",
    "#SavedFilenames_Dropdown.value = \"/home/NAS/Data_Files/CoverageResults/TRO.TIEGCM_Lifetime_2015_to_2018_JH_QD.TIEGCM_Lifetime_2015_to_2018_CAMP03.ValuesPerBinResults.nc\"\n",
    "#SavedFilenames_Dropdown.value = \"/home/NAS/Data_Files/CoverageResults/old_noSubBins.TRO.TIEGCM_Lifetime_2015_to_2018_JH_QD.TIEGCM_Lifetime_2015_to_2018_CAMP03.ValuesPerBinResults.nc\"\n",
    "#SavedFilenames_Dropdown.value = \"/home/balukid/old_onlyOhmic.TRO.TIEGCM_Lifetime_2015_to_2018_JH_QD.MultiFileResults/\"\n",
    "SavedFilenames_Dropdown.value = \"/home/NAS/Data_Files/CoverageResults/AEM.TIEGCM_Lifetime_2015_to_2018_JH_QD.Lifetime_10sTricubic.ValuesPerBinResults.nc\"\n",
    "#SavedFilenames_Dropdown.value = \"/home/NAS/Data_Files/CoverageResults/AEM.TIEGCM_Lifetime_2015_to_2018_JH_QD.1HzIntepolatedDATA.ValuesPerBinResults.nc\"\n",
    "BinGroups_Dropdown.value = \"AEM\"\n",
    "\n"
   ]
  },
  {
   "cell_type": "markdown",
   "metadata": {},
   "source": []
  },
  {
   "cell_type": "code",
   "execution_count": null,
   "metadata": {},
   "outputs": [],
   "source": []
  }
 ],
 "metadata": {
  "kernelspec": {
   "display_name": "Python 3",
   "language": "python",
   "name": "python3"
  },
  "language_info": {
   "codemirror_mode": {
    "name": "ipython",
    "version": 3
   },
   "file_extension": ".py",
   "mimetype": "text/x-python",
   "name": "python",
   "nbconvert_exporter": "python",
   "pygments_lexer": "ipython3",
   "version": "3.7.4"
  }
 },
 "nbformat": 4,
 "nbformat_minor": 2
}
