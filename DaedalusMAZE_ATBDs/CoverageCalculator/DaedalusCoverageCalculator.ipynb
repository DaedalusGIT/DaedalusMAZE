{
 "cells": [
  {
   "cell_type": "markdown",
   "metadata": {},
   "source": [
    "# Daedalus Coverage\n",
    "\n",
    "## Introduction\n",
    "\n",
    "## Data\n",
    "\n",
    "### Geomagnetic Kp Indices\n",
    "We used Kp indices from previous years as they are recorded from NOAA web site:\n",
    "* Explanation: https://www.ngdc.noaa.gov/stp/GEOMAG/kp_ap.html\n",
    "* Download location: ftp://ftp.ngdc.noaa.gov/STP/GEOMAGNETIC_DATA/INDICES/KP_AP\n",
    "There are available data for the years 1932-2018. The user can select which of these years' values to use for calculating the coverage for Daedalus.\n",
    "\n",
    "\n",
    "![Solar Cycle](SolarCycle.png)\n",
    "\n",
    "## Pseudocode"
   ]
  },
  {
   "cell_type": "code",
   "execution_count": null,
   "metadata": {},
   "outputs": [],
   "source": []
  },
  {
   "cell_type": "code",
   "execution_count": 11,
   "metadata": {
    "scrolled": false
   },
   "outputs": [
    {
     "data": {
      "application/vnd.jupyter.widget-view+json": {
       "model_id": "f3cb499b7b6241bdad500f73e2c90180",
       "version_major": 2,
       "version_minor": 0
      },
      "text/plain": [
       "Tab(children=(VBox(children=(Dropdown(description='Orbit files: ', layout=Layout(width='780px'), options=('/ho…"
      ]
     },
     "metadata": {},
     "output_type": "display_data"
    },
    {
     "name": "stdout",
     "output_type": "stream",
     "text": [
      "Coverage Calculation started.\n",
      "File DAED_ORB_Lifetime_LLA_MLT_MLat_RAAN00_180s already exists. Cannot continue in order to prevent overwriting useful data.\n",
      "Coverage Calculation finshed in 0 seconds, with 0 bin misses, 0 bin hits.\n",
      "RESULTS (stored in ):\n",
      "AEM_L1  : 22<MLT<=02 060<MagLat<=075 115<Alt<=120 0<Kp<=2 Coverage=000000/050min\n",
      "AEM_L2  : 22<MLT<=02 060<MagLat<=075 120<Alt<=125 0<Kp<=2 Coverage=000000/050min\n",
      "AEM_L3  : 22<MLT<=02 060<MagLat<=075 125<Alt<=130 0<Kp<=2 Coverage=000000/050min\n",
      "AEM_L4  : 22<MLT<=02 060<MagLat<=075 130<Alt<=135 0<Kp<=2 Coverage=000000/050min\n",
      "AEM_L5  : 22<MLT<=02 060<MagLat<=075 135<Alt<=140 0<Kp<=2 Coverage=000000/050min\n",
      "AEM_M1  : 22<MLT<=02 060<MagLat<=075 115<Alt<=123 2<Kp<=4 Coverage=000000/030min\n",
      "AEM_M2  : 22<MLT<=02 060<MagLat<=075 123<Alt<=132 2<Kp<=4 Coverage=000000/030min\n",
      "AEM_M3  : 22<MLT<=02 060<MagLat<=075 132<Alt<=140 2<Kp<=4 Coverage=000000/030min\n",
      "AEM_H1  : 22<MLT<=02 060<MagLat<=075 115<Alt<=140 4<Kp<=9 Coverage=000000/020min\n",
      "AFM_L1  : 22<MLT<=02 060<MagLat<=075 140<Alt<=185 0<Kp<=2 Coverage=000000/050min\n",
      "AFM_L2  : 22<MLT<=02 060<MagLat<=075 185<Alt<=230 0<Kp<=2 Coverage=000000/050min\n",
      "AFM_L3  : 22<MLT<=02 060<MagLat<=075 230<Alt<=275 0<Kp<=2 Coverage=000000/050min\n",
      "AFM_L4  : 22<MLT<=02 060<MagLat<=075 275<Alt<=320 0<Kp<=2 Coverage=000000/050min\n",
      "AFM_L5  : 22<MLT<=02 060<MagLat<=075 320<Alt<=365 0<Kp<=2 Coverage=000000/050min\n",
      "AFM_L6  : 22<MLT<=02 060<MagLat<=075 365<Alt<=410 0<Kp<=2 Coverage=000000/050min\n",
      "AFM_L7  : 22<MLT<=02 060<MagLat<=075 410<Alt<=455 0<Kp<=2 Coverage=000000/050min\n",
      "AFM_L8  : 22<MLT<=02 060<MagLat<=075 455<Alt<=500 0<Kp<=2 Coverage=000000/050min\n",
      "AFM_M1  : 22<MLT<=02 060<MagLat<=075 140<Alt<=230 2<Kp<=4 Coverage=000000/030min\n",
      "AFM_M2  : 22<MLT<=02 060<MagLat<=075 230<Alt<=320 2<Kp<=4 Coverage=000000/030min\n",
      "AFM_M3  : 22<MLT<=02 060<MagLat<=075 320<Alt<=410 2<Kp<=4 Coverage=000000/030min\n",
      "AFM_M4  : 22<MLT<=02 060<MagLat<=075 410<Alt<=500 2<Kp<=4 Coverage=000000/030min\n",
      "AFM_H1  : 22<MLT<=02 060<MagLat<=075 140<Alt<=260 4<Kp<=9 Coverage=000000/020min\n",
      "AFM_H2  : 22<MLT<=02 060<MagLat<=075 260<Alt<=380 4<Kp<=9 Coverage=000000/020min\n",
      "AFM_H3  : 22<MLT<=02 060<MagLat<=075 380<Alt<=500 4<Kp<=9 Coverage=000000/020min\n",
      "AEE_L1  : 16<MLT<=20 060<MagLat<=075 115<Alt<=120 0<Kp<=2 Coverage=000000/050min\n",
      "AEE_L2  : 16<MLT<=20 060<MagLat<=075 120<Alt<=125 0<Kp<=2 Coverage=000000/050min\n",
      "AEE_L3  : 16<MLT<=20 060<MagLat<=075 125<Alt<=130 0<Kp<=2 Coverage=000000/050min\n",
      "AEE_L4  : 16<MLT<=20 060<MagLat<=075 130<Alt<=135 0<Kp<=2 Coverage=000000/050min\n",
      "AEE_L5  : 16<MLT<=20 060<MagLat<=075 135<Alt<=140 0<Kp<=2 Coverage=000000/050min\n",
      "AEE_M1  : 16<MLT<=20 060<MagLat<=075 115<Alt<=123 2<Kp<=4 Coverage=000000/030min\n",
      "AEE_M2  : 16<MLT<=20 060<MagLat<=075 123<Alt<=132 2<Kp<=4 Coverage=000000/030min\n",
      "AEE_M3  : 16<MLT<=20 060<MagLat<=075 132<Alt<=140 2<Kp<=4 Coverage=000000/030min\n",
      "AEE_H1  : 16<MLT<=20 060<MagLat<=075 115<Alt<=140 4<Kp<=9 Coverage=000000/020min\n",
      "AED_L1  : 04<MLT<=08 060<MagLat<=075 115<Alt<=120 0<Kp<=2 Coverage=000000/050min\n",
      "AED_L2  : 04<MLT<=08 060<MagLat<=075 120<Alt<=125 0<Kp<=2 Coverage=000000/050min\n",
      "AED_L3  : 04<MLT<=08 060<MagLat<=075 125<Alt<=130 0<Kp<=2 Coverage=000000/050min\n",
      "AED_L4  : 04<MLT<=08 060<MagLat<=075 130<Alt<=135 0<Kp<=2 Coverage=000000/050min\n",
      "AED_L5  : 04<MLT<=08 060<MagLat<=075 135<Alt<=140 0<Kp<=2 Coverage=000000/050min\n",
      "AED_M1  : 04<MLT<=08 060<MagLat<=075 115<Alt<=123 2<Kp<=4 Coverage=000000/030min\n",
      "AED_M2  : 04<MLT<=08 060<MagLat<=075 123<Alt<=132 2<Kp<=4 Coverage=000000/030min\n",
      "AED_M3  : 04<MLT<=08 060<MagLat<=075 132<Alt<=140 2<Kp<=4 Coverage=000000/030min\n",
      "AED_H1  : 04<MLT<=08 060<MagLat<=075 115<Alt<=140 4<Kp<=9 Coverage=000000/020min\n",
      "EEJ_A1  : 10<MLT<=13 -07<MagLat<=007 115<Alt<=123 0<Kp<=9 Coverage=000000/010min\n",
      "EEJ_A2  : 10<MLT<=13 -07<MagLat<=007 123<Alt<=132 0<Kp<=9 Coverage=000000/010min\n",
      "EEJ_A3  : 10<MLT<=13 -07<MagLat<=007 132<Alt<=140 0<Kp<=9 Coverage=000000/010min\n",
      "EPB_A1  : 18<MLT<=04 -30<MagLat<=030 140<Alt<=185 0<Kp<=9 Coverage=000000/150min\n",
      "EPB_A2  : 18<MLT<=04 -30<MagLat<=030 185<Alt<=230 0<Kp<=9 Coverage=000000/150min\n",
      "EPB_A3  : 18<MLT<=04 -30<MagLat<=030 230<Alt<=275 0<Kp<=9 Coverage=000000/150min\n",
      "EPB_A4  : 18<MLT<=04 -30<MagLat<=030 275<Alt<=320 0<Kp<=9 Coverage=000000/150min\n",
      "EPB_A5  : 18<MLT<=04 -30<MagLat<=030 320<Alt<=365 0<Kp<=9 Coverage=000000/150min\n",
      "EPB_A6  : 18<MLT<=04 -30<MagLat<=030 365<Alt<=410 0<Kp<=9 Coverage=000000/150min\n",
      "EPB_A7  : 18<MLT<=04 -30<MagLat<=030 410<Alt<=455 0<Kp<=9 Coverage=000000/150min\n",
      "EPB_A8  : 18<MLT<=04 -30<MagLat<=030 455<Alt<=500 0<Kp<=9 Coverage=000000/150min\n",
      "SQ_A1   : 06<MLT<=19 -60<MagLat<=060 140<Alt<=185 0<Kp<=3 Coverage=000000/150min\n",
      "SQ_A2   : 06<MLT<=19 -60<MagLat<=060 185<Alt<=230 0<Kp<=3 Coverage=000000/150min\n",
      "SQ_A3   : 06<MLT<=19 -60<MagLat<=060 230<Alt<=275 0<Kp<=3 Coverage=000000/150min\n",
      "SQ_A4   : 06<MLT<=19 -60<MagLat<=060 275<Alt<=320 0<Kp<=3 Coverage=000000/150min\n",
      "SQ_A5   : 06<MLT<=19 -60<MagLat<=060 320<Alt<=365 0<Kp<=3 Coverage=000000/150min\n",
      "SQ_A6   : 06<MLT<=19 -60<MagLat<=060 365<Alt<=410 0<Kp<=3 Coverage=000000/150min\n",
      "SQ_A7   : 06<MLT<=19 -60<MagLat<=060 410<Alt<=455 0<Kp<=3 Coverage=000000/150min\n",
      "SQ_A8   : 06<MLT<=19 -60<MagLat<=060 455<Alt<=500 0<Kp<=3 Coverage=000000/150min\n",
      "CF_L1   : 10<MLT<=14 070<MagLat<=080 140<Alt<=185 0<Kp<=2 Coverage=000000/050min\n",
      "CF_L2   : 10<MLT<=14 070<MagLat<=080 185<Alt<=230 0<Kp<=2 Coverage=000000/050min\n",
      "CF_L3   : 10<MLT<=14 070<MagLat<=080 230<Alt<=275 0<Kp<=2 Coverage=000000/050min\n",
      "CF_L4   : 10<MLT<=14 070<MagLat<=080 275<Alt<=320 0<Kp<=2 Coverage=000000/050min\n",
      "CF_L5   : 10<MLT<=14 070<MagLat<=080 320<Alt<=365 0<Kp<=2 Coverage=000000/050min\n",
      "CF_L6   : 10<MLT<=14 070<MagLat<=080 365<Alt<=410 0<Kp<=2 Coverage=000000/050min\n",
      "CF_L7   : 10<MLT<=14 070<MagLat<=080 410<Alt<=455 0<Kp<=2 Coverage=000000/050min\n",
      "CF_L8   : 10<MLT<=14 070<MagLat<=080 455<Alt<=500 0<Kp<=2 Coverage=000000/050min\n",
      "CF_M1   : 10<MLT<=14 070<MagLat<=080 140<Alt<=230 2<Kp<=4 Coverage=000000/030min\n",
      "CF_M2   : 10<MLT<=14 070<MagLat<=080 230<Alt<=320 2<Kp<=4 Coverage=000000/030min\n",
      "CF_M3   : 10<MLT<=14 070<MagLat<=080 320<Alt<=410 2<Kp<=4 Coverage=000000/030min\n",
      "CF_M4   : 10<MLT<=14 070<MagLat<=080 410<Alt<=500 2<Kp<=4 Coverage=000000/030min\n",
      "CF_H1   : 10<MLT<=14 070<MagLat<=080 140<Alt<=260 4<Kp<=9 Coverage=000000/020min\n",
      "CF_H2   : 10<MLT<=14 070<MagLat<=080 260<Alt<=380 4<Kp<=9 Coverage=000000/020min\n",
      "CF_H3   : 10<MLT<=14 070<MagLat<=080 380<Alt<=500 4<Kp<=9 Coverage=000000/020min\n",
      "PCF_L1  : 14<MLT<=10 070<MagLat<=090 140<Alt<=185 0<Kp<=2 Coverage=000000/050min\n",
      "PCF_L2  : 14<MLT<=10 070<MagLat<=090 185<Alt<=230 0<Kp<=2 Coverage=000000/050min\n",
      "PCF_L3  : 14<MLT<=10 070<MagLat<=090 230<Alt<=275 0<Kp<=2 Coverage=000000/050min\n",
      "PCF_L4  : 14<MLT<=10 070<MagLat<=090 275<Alt<=320 0<Kp<=2 Coverage=000000/050min\n",
      "PCF_L5  : 14<MLT<=10 070<MagLat<=090 320<Alt<=365 0<Kp<=2 Coverage=000000/050min\n",
      "PCF_L6  : 14<MLT<=10 070<MagLat<=090 365<Alt<=410 0<Kp<=2 Coverage=000000/050min\n",
      "PCF_L7  : 14<MLT<=10 070<MagLat<=090 410<Alt<=455 0<Kp<=2 Coverage=000000/050min\n",
      "PCF_L8  : 14<MLT<=10 070<MagLat<=090 455<Alt<=500 0<Kp<=2 Coverage=000000/050min\n",
      "PCF_M1  : 14<MLT<=10 070<MagLat<=090 140<Alt<=230 2<Kp<=4 Coverage=000000/030min\n",
      "PCF_M2  : 14<MLT<=10 070<MagLat<=090 230<Alt<=320 2<Kp<=4 Coverage=000000/030min\n",
      "PCF_M3  : 14<MLT<=10 070<MagLat<=090 320<Alt<=410 2<Kp<=4 Coverage=000000/030min\n",
      "PCF_M4  : 14<MLT<=10 070<MagLat<=090 410<Alt<=500 2<Kp<=4 Coverage=000000/030min\n",
      "PCF_H1  : 14<MLT<=10 070<MagLat<=090 140<Alt<=260 4<Kp<=9 Coverage=000000/020min\n",
      "PCF_H2  : 14<MLT<=10 070<MagLat<=090 260<Alt<=380 4<Kp<=9 Coverage=000000/020min\n",
      "PCF_H3  : 14<MLT<=10 070<MagLat<=090 380<Alt<=500 4<Kp<=9 Coverage=000000/020min\n",
      "AEM_L1 22-2 Kp:0-2  >>  115::120\n",
      "AEM_L2 22-2 Kp:0-2  >>  120::125\n",
      "AEM_L3 22-2 Kp:0-2  >>  125::130\n",
      "AEM_L4 22-2 Kp:0-2  >>  130::135\n",
      "AEM_L5 22-2 Kp:0-2  >>  135::140\n",
      "AFM_L1 22-2 Kp:0-2  >>  140::185\n",
      "AFM_L2 22-2 Kp:0-2  >>  185::230\n",
      "AFM_L3 22-2 Kp:0-2  >>  230::275\n",
      "AFM_L4 22-2 Kp:0-2  >>  275::320\n",
      "AFM_L5 22-2 Kp:0-2  >>  320::365\n",
      "AFM_L6 22-2 Kp:0-2  >>  365::410\n",
      "AFM_L7 22-2 Kp:0-2  >>  410::455\n",
      "AFM_L8 22-2 Kp:0-2  >>  455::500\n",
      "AEM_M1 22-2 Kp:2-4  >>  115::123.33333\n",
      "AEM_M2 22-2 Kp:2-4  >>  123.33333::131.66666\n",
      "AEM_M3 22-2 Kp:2-4  >>  131.66666::140\n",
      "AFM_M1 22-2 Kp:2-4  >>  140::230\n",
      "AFM_M2 22-2 Kp:2-4  >>  230::320\n",
      "AFM_M3 22-2 Kp:2-4  >>  320::410\n",
      "AFM_M4 22-2 Kp:2-4  >>  410::500\n",
      "AEM_H1 22-2 Kp:4-9  >>  115::140\n",
      "AFM_H1 22-2 Kp:4-9  >>  140::260\n"
     ]
    },
    {
     "name": "stdout",
     "output_type": "stream",
     "text": [
      "AFM_H2 22-2 Kp:4-9  >>  260::380\n",
      "AFM_H3 22-2 Kp:4-9  >>  380::500\n",
      "AEE_L1 16-20 Kp:0-2  >>  115::120\n",
      "AEE_L2 16-20 Kp:0-2  >>  120::125\n",
      "AEE_L3 16-20 Kp:0-2  >>  125::130\n",
      "AEE_L4 16-20 Kp:0-2  >>  130::135\n",
      "AEE_L5 16-20 Kp:0-2  >>  135::140\n",
      "AEE_M1 16-20 Kp:2-4  >>  115::123.33333\n",
      "AEE_M2 16-20 Kp:2-4  >>  123.33333::131.66666\n",
      "AEE_M3 16-20 Kp:2-4  >>  131.66666::140\n",
      "AEE_H1 16-20 Kp:4-9  >>  115::140\n",
      "AED_L1 4-8 Kp:0-2  >>  115::120\n",
      "AED_L2 4-8 Kp:0-2  >>  120::125\n",
      "AED_L3 4-8 Kp:0-2  >>  125::130\n",
      "AED_L4 4-8 Kp:0-2  >>  130::135\n",
      "AED_L5 4-8 Kp:0-2  >>  135::140\n",
      "AED_M1 4-8 Kp:2-4  >>  115::123.33333\n",
      "AED_M2 4-8 Kp:2-4  >>  123.33333::131.66666\n",
      "AED_M3 4-8 Kp:2-4  >>  131.66666::140\n",
      "AED_H1 4-8 Kp:4-9  >>  115::140\n"
     ]
    },
    {
     "data": {
      "text/html": [
       "        <script type=\"text/javascript\">\n",
       "        window.PlotlyConfig = {MathJaxConfig: 'local'};\n",
       "        if (window.MathJax) {MathJax.Hub.Config({SVG: {font: \"STIX-Web\"}});}\n",
       "        if (typeof require !== 'undefined') {\n",
       "        require.undef(\"plotly\");\n",
       "        requirejs.config({\n",
       "            paths: {\n",
       "                'plotly': ['https://cdn.plot.ly/plotly-latest.min']\n",
       "            }\n",
       "        });\n",
       "        require(['plotly'], function(Plotly) {\n",
       "            window._Plotly = Plotly;\n",
       "        });\n",
       "        }\n",
       "        </script>\n",
       "        "
      ]
     },
     "metadata": {},
     "output_type": "display_data"
    },
    {
     "data": {
      "application/vnd.plotly.v1+json": {
       "config": {
        "linkText": "Export to plot.ly",
        "plotlyServerURL": "https://plot.ly",
        "showLink": false
       },
       "data": [
        {
         "mode": "text",
         "text": [
          "AEM_L1 22-2 Kp:0-2"
         ],
         "type": "scatter",
         "x": [
          55
         ],
         "y": [
          125
         ]
        },
        {
         "mode": "text",
         "text": [
          "AEM_L2 22-2 Kp:0-2"
         ],
         "type": "scatter",
         "x": [
          55
         ],
         "y": [
          130
         ]
        },
        {
         "mode": "text",
         "text": [
          "AEM_L3 22-2 Kp:0-2"
         ],
         "type": "scatter",
         "x": [
          55
         ],
         "y": [
          135
         ]
        },
        {
         "mode": "text",
         "text": [
          "AEM_L4 22-2 Kp:0-2"
         ],
         "type": "scatter",
         "x": [
          55
         ],
         "y": [
          140
         ]
        },
        {
         "mode": "text",
         "text": [
          "AEM_L5 22-2 Kp:0-2"
         ],
         "type": "scatter",
         "x": [
          55
         ],
         "y": [
          145
         ]
        },
        {
         "mode": "text",
         "text": [
          "AFM_L1 22-2 Kp:0-2"
         ],
         "type": "scatter",
         "x": [
          55
         ],
         "y": [
          150
         ]
        },
        {
         "mode": "text",
         "text": [
          "AFM_L2 22-2 Kp:0-2"
         ],
         "type": "scatter",
         "x": [
          55
         ],
         "y": [
          195
         ]
        },
        {
         "mode": "text",
         "text": [
          "AFM_L3 22-2 Kp:0-2"
         ],
         "type": "scatter",
         "x": [
          55
         ],
         "y": [
          240
         ]
        },
        {
         "mode": "text",
         "text": [
          "AFM_L4 22-2 Kp:0-2"
         ],
         "type": "scatter",
         "x": [
          55
         ],
         "y": [
          285
         ]
        },
        {
         "mode": "text",
         "text": [
          "AFM_L5 22-2 Kp:0-2"
         ],
         "type": "scatter",
         "x": [
          55
         ],
         "y": [
          330
         ]
        },
        {
         "mode": "text",
         "text": [
          "AFM_L6 22-2 Kp:0-2"
         ],
         "type": "scatter",
         "x": [
          55
         ],
         "y": [
          375
         ]
        },
        {
         "mode": "text",
         "text": [
          "AFM_L7 22-2 Kp:0-2"
         ],
         "type": "scatter",
         "x": [
          55
         ],
         "y": [
          420
         ]
        },
        {
         "mode": "text",
         "text": [
          "AFM_L8 22-2 Kp:0-2"
         ],
         "type": "scatter",
         "x": [
          55
         ],
         "y": [
          465
         ]
        },
        {
         "mode": "text",
         "text": [
          "AEM_M1 22-2 Kp:2-4"
         ],
         "type": "scatter",
         "x": [
          110
         ],
         "y": [
          125
         ]
        },
        {
         "mode": "text",
         "text": [
          "AEM_M2 22-2 Kp:2-4"
         ],
         "type": "scatter",
         "x": [
          110
         ],
         "y": [
          133.33333
         ]
        },
        {
         "mode": "text",
         "text": [
          "AEM_M3 22-2 Kp:2-4"
         ],
         "type": "scatter",
         "x": [
          110
         ],
         "y": [
          141.66666
         ]
        },
        {
         "mode": "text",
         "text": [
          "AFM_M1 22-2 Kp:2-4"
         ],
         "type": "scatter",
         "x": [
          110
         ],
         "y": [
          150
         ]
        },
        {
         "mode": "text",
         "text": [
          "AFM_M2 22-2 Kp:2-4"
         ],
         "type": "scatter",
         "x": [
          110
         ],
         "y": [
          240
         ]
        },
        {
         "mode": "text",
         "text": [
          "AFM_M3 22-2 Kp:2-4"
         ],
         "type": "scatter",
         "x": [
          110
         ],
         "y": [
          330
         ]
        },
        {
         "mode": "text",
         "text": [
          "AFM_M4 22-2 Kp:2-4"
         ],
         "type": "scatter",
         "x": [
          110
         ],
         "y": [
          420
         ]
        },
        {
         "mode": "text",
         "text": [
          "AEM_H1 22-2 Kp:4-9"
         ],
         "type": "scatter",
         "x": [
          165
         ],
         "y": [
          125
         ]
        },
        {
         "mode": "text",
         "text": [
          "AFM_H1 22-2 Kp:4-9"
         ],
         "type": "scatter",
         "x": [
          165
         ],
         "y": [
          150
         ]
        },
        {
         "mode": "text",
         "text": [
          "AFM_H2 22-2 Kp:4-9"
         ],
         "type": "scatter",
         "x": [
          165
         ],
         "y": [
          270
         ]
        },
        {
         "mode": "text",
         "text": [
          "AFM_H3 22-2 Kp:4-9"
         ],
         "type": "scatter",
         "x": [
          165
         ],
         "y": [
          390
         ]
        },
        {
         "mode": "text",
         "text": [
          "AEE_L1 16-20 Kp:0-2"
         ],
         "type": "scatter",
         "x": [
          275
         ],
         "y": [
          125
         ]
        },
        {
         "mode": "text",
         "text": [
          "AEE_L2 16-20 Kp:0-2"
         ],
         "type": "scatter",
         "x": [
          275
         ],
         "y": [
          130
         ]
        },
        {
         "mode": "text",
         "text": [
          "AEE_L3 16-20 Kp:0-2"
         ],
         "type": "scatter",
         "x": [
          275
         ],
         "y": [
          135
         ]
        },
        {
         "mode": "text",
         "text": [
          "AEE_L4 16-20 Kp:0-2"
         ],
         "type": "scatter",
         "x": [
          275
         ],
         "y": [
          140
         ]
        },
        {
         "mode": "text",
         "text": [
          "AEE_L5 16-20 Kp:0-2"
         ],
         "type": "scatter",
         "x": [
          275
         ],
         "y": [
          145
         ]
        },
        {
         "mode": "text",
         "text": [
          "AEE_M1 16-20 Kp:2-4"
         ],
         "type": "scatter",
         "x": [
          330
         ],
         "y": [
          125
         ]
        },
        {
         "mode": "text",
         "text": [
          "AEE_M2 16-20 Kp:2-4"
         ],
         "type": "scatter",
         "x": [
          330
         ],
         "y": [
          133.33333
         ]
        },
        {
         "mode": "text",
         "text": [
          "AEE_M3 16-20 Kp:2-4"
         ],
         "type": "scatter",
         "x": [
          330
         ],
         "y": [
          141.66666
         ]
        },
        {
         "mode": "text",
         "text": [
          "AEE_H1 16-20 Kp:4-9"
         ],
         "type": "scatter",
         "x": [
          385
         ],
         "y": [
          125
         ]
        },
        {
         "mode": "text",
         "text": [
          "AED_L1 4-8 Kp:0-2"
         ],
         "type": "scatter",
         "x": [
          495
         ],
         "y": [
          125
         ]
        },
        {
         "mode": "text",
         "text": [
          "AED_L2 4-8 Kp:0-2"
         ],
         "type": "scatter",
         "x": [
          495
         ],
         "y": [
          130
         ]
        },
        {
         "mode": "text",
         "text": [
          "AED_L3 4-8 Kp:0-2"
         ],
         "type": "scatter",
         "x": [
          495
         ],
         "y": [
          135
         ]
        },
        {
         "mode": "text",
         "text": [
          "AED_L4 4-8 Kp:0-2"
         ],
         "type": "scatter",
         "x": [
          495
         ],
         "y": [
          140
         ]
        },
        {
         "mode": "text",
         "text": [
          "AED_L5 4-8 Kp:0-2"
         ],
         "type": "scatter",
         "x": [
          495
         ],
         "y": [
          145
         ]
        },
        {
         "mode": "text",
         "text": [
          "AED_M1 4-8 Kp:2-4"
         ],
         "type": "scatter",
         "x": [
          550
         ],
         "y": [
          125
         ]
        },
        {
         "mode": "text",
         "text": [
          "AED_M2 4-8 Kp:2-4"
         ],
         "type": "scatter",
         "x": [
          550
         ],
         "y": [
          133.33333
         ]
        },
        {
         "mode": "text",
         "text": [
          "AED_M3 4-8 Kp:2-4"
         ],
         "type": "scatter",
         "x": [
          550
         ],
         "y": [
          141.66666
         ]
        },
        {
         "mode": "text",
         "text": [
          "AED_H1 4-8 Kp:4-9"
         ],
         "type": "scatter",
         "x": [
          605
         ],
         "y": [
          125
         ]
        }
       ],
       "layout": {
        "height": 1600,
        "shapes": [
         {
          "fillcolor": "rgba(0.0, 0.0, 0.5, 1.0)",
          "line": {
           "color": "RoyalBlue",
           "width": 3
          },
          "opacity": 0.5,
          "type": "rect",
          "x0": 55,
          "x1": 100,
          "xref": "x",
          "y0": 115,
          "y1": 120,
          "yref": "y"
         },
         {
          "fillcolor": "rgba(0.0, 0.0, 0.5, 1.0)",
          "line": {
           "color": "RoyalBlue",
           "width": 3
          },
          "opacity": 0.5,
          "type": "rect",
          "x0": 55,
          "x1": 100,
          "xref": "x",
          "y0": 120,
          "y1": 125,
          "yref": "y"
         },
         {
          "fillcolor": "rgba(0.0, 0.0, 0.5, 1.0)",
          "line": {
           "color": "RoyalBlue",
           "width": 3
          },
          "opacity": 0.5,
          "type": "rect",
          "x0": 55,
          "x1": 100,
          "xref": "x",
          "y0": 125,
          "y1": 130,
          "yref": "y"
         },
         {
          "fillcolor": "rgba(0.0, 0.0, 0.5, 1.0)",
          "line": {
           "color": "RoyalBlue",
           "width": 3
          },
          "opacity": 0.5,
          "type": "rect",
          "x0": 55,
          "x1": 100,
          "xref": "x",
          "y0": 130,
          "y1": 135,
          "yref": "y"
         },
         {
          "fillcolor": "rgba(0.0, 0.0, 0.5, 1.0)",
          "line": {
           "color": "RoyalBlue",
           "width": 3
          },
          "opacity": 0.5,
          "type": "rect",
          "x0": 55,
          "x1": 100,
          "xref": "x",
          "y0": 135,
          "y1": 140,
          "yref": "y"
         },
         {
          "fillcolor": "rgba(0.0, 0.0, 0.5, 1.0)",
          "line": {
           "color": "RoyalBlue",
           "width": 3
          },
          "opacity": 0.5,
          "type": "rect",
          "x0": 55,
          "x1": 100,
          "xref": "x",
          "y0": 140,
          "y1": 185,
          "yref": "y"
         },
         {
          "fillcolor": "rgba(0.0, 0.0, 0.5, 1.0)",
          "line": {
           "color": "RoyalBlue",
           "width": 3
          },
          "opacity": 0.5,
          "type": "rect",
          "x0": 55,
          "x1": 100,
          "xref": "x",
          "y0": 185,
          "y1": 230,
          "yref": "y"
         },
         {
          "fillcolor": "rgba(0.0, 0.0, 0.5, 1.0)",
          "line": {
           "color": "RoyalBlue",
           "width": 3
          },
          "opacity": 0.5,
          "type": "rect",
          "x0": 55,
          "x1": 100,
          "xref": "x",
          "y0": 230,
          "y1": 275,
          "yref": "y"
         },
         {
          "fillcolor": "rgba(0.0, 0.0, 0.5, 1.0)",
          "line": {
           "color": "RoyalBlue",
           "width": 3
          },
          "opacity": 0.5,
          "type": "rect",
          "x0": 55,
          "x1": 100,
          "xref": "x",
          "y0": 275,
          "y1": 320,
          "yref": "y"
         },
         {
          "fillcolor": "rgba(0.0, 0.0, 0.5, 1.0)",
          "line": {
           "color": "RoyalBlue",
           "width": 3
          },
          "opacity": 0.5,
          "type": "rect",
          "x0": 55,
          "x1": 100,
          "xref": "x",
          "y0": 320,
          "y1": 365,
          "yref": "y"
         },
         {
          "fillcolor": "rgba(0.0, 0.0, 0.5, 1.0)",
          "line": {
           "color": "RoyalBlue",
           "width": 3
          },
          "opacity": 0.5,
          "type": "rect",
          "x0": 55,
          "x1": 100,
          "xref": "x",
          "y0": 365,
          "y1": 410,
          "yref": "y"
         },
         {
          "fillcolor": "rgba(0.0, 0.0, 0.5, 1.0)",
          "line": {
           "color": "RoyalBlue",
           "width": 3
          },
          "opacity": 0.5,
          "type": "rect",
          "x0": 55,
          "x1": 100,
          "xref": "x",
          "y0": 410,
          "y1": 455,
          "yref": "y"
         },
         {
          "fillcolor": "rgba(0.0, 0.0, 0.5, 1.0)",
          "line": {
           "color": "RoyalBlue",
           "width": 3
          },
          "opacity": 0.5,
          "type": "rect",
          "x0": 55,
          "x1": 100,
          "xref": "x",
          "y0": 455,
          "y1": 500,
          "yref": "y"
         },
         {
          "fillcolor": "rgba(0.0, 0.0, 0.5, 1.0)",
          "line": {
           "color": "RoyalBlue",
           "width": 3
          },
          "opacity": 0.5,
          "type": "rect",
          "x0": 110,
          "x1": 155,
          "xref": "x",
          "y0": 115,
          "y1": 123.33333,
          "yref": "y"
         },
         {
          "fillcolor": "rgba(0.0, 0.0, 0.5, 1.0)",
          "line": {
           "color": "RoyalBlue",
           "width": 3
          },
          "opacity": 0.5,
          "type": "rect",
          "x0": 110,
          "x1": 155,
          "xref": "x",
          "y0": 123.33333,
          "y1": 131.66666,
          "yref": "y"
         },
         {
          "fillcolor": "rgba(0.0, 0.0, 0.5, 1.0)",
          "line": {
           "color": "RoyalBlue",
           "width": 3
          },
          "opacity": 0.5,
          "type": "rect",
          "x0": 110,
          "x1": 155,
          "xref": "x",
          "y0": 131.66666,
          "y1": 140,
          "yref": "y"
         },
         {
          "fillcolor": "rgba(0.0, 0.0, 0.5, 1.0)",
          "line": {
           "color": "RoyalBlue",
           "width": 3
          },
          "opacity": 0.5,
          "type": "rect",
          "x0": 110,
          "x1": 155,
          "xref": "x",
          "y0": 140,
          "y1": 230,
          "yref": "y"
         },
         {
          "fillcolor": "rgba(0.0, 0.0, 0.5, 1.0)",
          "line": {
           "color": "RoyalBlue",
           "width": 3
          },
          "opacity": 0.5,
          "type": "rect",
          "x0": 110,
          "x1": 155,
          "xref": "x",
          "y0": 230,
          "y1": 320,
          "yref": "y"
         },
         {
          "fillcolor": "rgba(0.0, 0.0, 0.5, 1.0)",
          "line": {
           "color": "RoyalBlue",
           "width": 3
          },
          "opacity": 0.5,
          "type": "rect",
          "x0": 110,
          "x1": 155,
          "xref": "x",
          "y0": 320,
          "y1": 410,
          "yref": "y"
         },
         {
          "fillcolor": "rgba(0.0, 0.0, 0.5, 1.0)",
          "line": {
           "color": "RoyalBlue",
           "width": 3
          },
          "opacity": 0.5,
          "type": "rect",
          "x0": 110,
          "x1": 155,
          "xref": "x",
          "y0": 410,
          "y1": 500,
          "yref": "y"
         },
         {
          "fillcolor": "rgba(0.0, 0.0, 0.5, 1.0)",
          "line": {
           "color": "RoyalBlue",
           "width": 3
          },
          "opacity": 0.5,
          "type": "rect",
          "x0": 165,
          "x1": 210,
          "xref": "x",
          "y0": 115,
          "y1": 140,
          "yref": "y"
         },
         {
          "fillcolor": "rgba(0.0, 0.0, 0.5, 1.0)",
          "line": {
           "color": "RoyalBlue",
           "width": 3
          },
          "opacity": 0.5,
          "type": "rect",
          "x0": 165,
          "x1": 210,
          "xref": "x",
          "y0": 140,
          "y1": 260,
          "yref": "y"
         },
         {
          "fillcolor": "rgba(0.0, 0.0, 0.5, 1.0)",
          "line": {
           "color": "RoyalBlue",
           "width": 3
          },
          "opacity": 0.5,
          "type": "rect",
          "x0": 165,
          "x1": 210,
          "xref": "x",
          "y0": 260,
          "y1": 380,
          "yref": "y"
         },
         {
          "fillcolor": "rgba(0.0, 0.0, 0.5, 1.0)",
          "line": {
           "color": "RoyalBlue",
           "width": 3
          },
          "opacity": 0.5,
          "type": "rect",
          "x0": 165,
          "x1": 210,
          "xref": "x",
          "y0": 380,
          "y1": 500,
          "yref": "y"
         },
         {
          "fillcolor": "rgba(0.0, 0.0, 0.5, 1.0)",
          "line": {
           "color": "RoyalBlue",
           "width": 3
          },
          "opacity": 0.5,
          "type": "rect",
          "x0": 275,
          "x1": 320,
          "xref": "x",
          "y0": 115,
          "y1": 120,
          "yref": "y"
         },
         {
          "fillcolor": "rgba(0.0, 0.0, 0.5, 1.0)",
          "line": {
           "color": "RoyalBlue",
           "width": 3
          },
          "opacity": 0.5,
          "type": "rect",
          "x0": 275,
          "x1": 320,
          "xref": "x",
          "y0": 120,
          "y1": 125,
          "yref": "y"
         },
         {
          "fillcolor": "rgba(0.0, 0.0, 0.5, 1.0)",
          "line": {
           "color": "RoyalBlue",
           "width": 3
          },
          "opacity": 0.5,
          "type": "rect",
          "x0": 275,
          "x1": 320,
          "xref": "x",
          "y0": 125,
          "y1": 130,
          "yref": "y"
         },
         {
          "fillcolor": "rgba(0.0, 0.0, 0.5, 1.0)",
          "line": {
           "color": "RoyalBlue",
           "width": 3
          },
          "opacity": 0.5,
          "type": "rect",
          "x0": 275,
          "x1": 320,
          "xref": "x",
          "y0": 130,
          "y1": 135,
          "yref": "y"
         },
         {
          "fillcolor": "rgba(0.0, 0.0, 0.5, 1.0)",
          "line": {
           "color": "RoyalBlue",
           "width": 3
          },
          "opacity": 0.5,
          "type": "rect",
          "x0": 275,
          "x1": 320,
          "xref": "x",
          "y0": 135,
          "y1": 140,
          "yref": "y"
         },
         {
          "fillcolor": "rgba(0.0, 0.0, 0.5, 1.0)",
          "line": {
           "color": "RoyalBlue",
           "width": 3
          },
          "opacity": 0.5,
          "type": "rect",
          "x0": 330,
          "x1": 375,
          "xref": "x",
          "y0": 115,
          "y1": 123.33333,
          "yref": "y"
         },
         {
          "fillcolor": "rgba(0.0, 0.0, 0.5, 1.0)",
          "line": {
           "color": "RoyalBlue",
           "width": 3
          },
          "opacity": 0.5,
          "type": "rect",
          "x0": 330,
          "x1": 375,
          "xref": "x",
          "y0": 123.33333,
          "y1": 131.66666,
          "yref": "y"
         },
         {
          "fillcolor": "rgba(0.0, 0.0, 0.5, 1.0)",
          "line": {
           "color": "RoyalBlue",
           "width": 3
          },
          "opacity": 0.5,
          "type": "rect",
          "x0": 330,
          "x1": 375,
          "xref": "x",
          "y0": 131.66666,
          "y1": 140,
          "yref": "y"
         },
         {
          "fillcolor": "rgba(0.0, 0.0, 0.5, 1.0)",
          "line": {
           "color": "RoyalBlue",
           "width": 3
          },
          "opacity": 0.5,
          "type": "rect",
          "x0": 385,
          "x1": 430,
          "xref": "x",
          "y0": 115,
          "y1": 140,
          "yref": "y"
         },
         {
          "fillcolor": "rgba(0.0, 0.0, 0.5, 1.0)",
          "line": {
           "color": "RoyalBlue",
           "width": 3
          },
          "opacity": 0.5,
          "type": "rect",
          "x0": 495,
          "x1": 540,
          "xref": "x",
          "y0": 115,
          "y1": 120,
          "yref": "y"
         },
         {
          "fillcolor": "rgba(0.0, 0.0, 0.5, 1.0)",
          "line": {
           "color": "RoyalBlue",
           "width": 3
          },
          "opacity": 0.5,
          "type": "rect",
          "x0": 495,
          "x1": 540,
          "xref": "x",
          "y0": 120,
          "y1": 125,
          "yref": "y"
         },
         {
          "fillcolor": "rgba(0.0, 0.0, 0.5, 1.0)",
          "line": {
           "color": "RoyalBlue",
           "width": 3
          },
          "opacity": 0.5,
          "type": "rect",
          "x0": 495,
          "x1": 540,
          "xref": "x",
          "y0": 125,
          "y1": 130,
          "yref": "y"
         },
         {
          "fillcolor": "rgba(0.0, 0.0, 0.5, 1.0)",
          "line": {
           "color": "RoyalBlue",
           "width": 3
          },
          "opacity": 0.5,
          "type": "rect",
          "x0": 495,
          "x1": 540,
          "xref": "x",
          "y0": 130,
          "y1": 135,
          "yref": "y"
         },
         {
          "fillcolor": "rgba(0.0, 0.0, 0.5, 1.0)",
          "line": {
           "color": "RoyalBlue",
           "width": 3
          },
          "opacity": 0.5,
          "type": "rect",
          "x0": 495,
          "x1": 540,
          "xref": "x",
          "y0": 135,
          "y1": 140,
          "yref": "y"
         },
         {
          "fillcolor": "rgba(0.0, 0.0, 0.5, 1.0)",
          "line": {
           "color": "RoyalBlue",
           "width": 3
          },
          "opacity": 0.5,
          "type": "rect",
          "x0": 550,
          "x1": 595,
          "xref": "x",
          "y0": 115,
          "y1": 123.33333,
          "yref": "y"
         },
         {
          "fillcolor": "rgba(0.0, 0.0, 0.5, 1.0)",
          "line": {
           "color": "RoyalBlue",
           "width": 3
          },
          "opacity": 0.5,
          "type": "rect",
          "x0": 550,
          "x1": 595,
          "xref": "x",
          "y0": 123.33333,
          "y1": 131.66666,
          "yref": "y"
         },
         {
          "fillcolor": "rgba(0.0, 0.0, 0.5, 1.0)",
          "line": {
           "color": "RoyalBlue",
           "width": 3
          },
          "opacity": 0.5,
          "type": "rect",
          "x0": 550,
          "x1": 595,
          "xref": "x",
          "y0": 131.66666,
          "y1": 140,
          "yref": "y"
         },
         {
          "fillcolor": "rgba(0.0, 0.0, 0.5, 1.0)",
          "line": {
           "color": "RoyalBlue",
           "width": 3
          },
          "opacity": 0.5,
          "type": "rect",
          "x0": 605,
          "x1": 650,
          "xref": "x",
          "y0": 115,
          "y1": 140,
          "yref": "y"
         }
        ],
        "template": {
         "data": {
          "bar": [
           {
            "error_x": {
             "color": "#2a3f5f"
            },
            "error_y": {
             "color": "#2a3f5f"
            },
            "marker": {
             "line": {
              "color": "#E5ECF6",
              "width": 0.5
             }
            },
            "type": "bar"
           }
          ],
          "barpolar": [
           {
            "marker": {
             "line": {
              "color": "#E5ECF6",
              "width": 0.5
             }
            },
            "type": "barpolar"
           }
          ],
          "carpet": [
           {
            "aaxis": {
             "endlinecolor": "#2a3f5f",
             "gridcolor": "white",
             "linecolor": "white",
             "minorgridcolor": "white",
             "startlinecolor": "#2a3f5f"
            },
            "baxis": {
             "endlinecolor": "#2a3f5f",
             "gridcolor": "white",
             "linecolor": "white",
             "minorgridcolor": "white",
             "startlinecolor": "#2a3f5f"
            },
            "type": "carpet"
           }
          ],
          "choropleth": [
           {
            "colorbar": {
             "outlinewidth": 0,
             "ticks": ""
            },
            "type": "choropleth"
           }
          ],
          "contour": [
           {
            "colorbar": {
             "outlinewidth": 0,
             "ticks": ""
            },
            "colorscale": [
             [
              0,
              "#0d0887"
             ],
             [
              0.1111111111111111,
              "#46039f"
             ],
             [
              0.2222222222222222,
              "#7201a8"
             ],
             [
              0.3333333333333333,
              "#9c179e"
             ],
             [
              0.4444444444444444,
              "#bd3786"
             ],
             [
              0.5555555555555556,
              "#d8576b"
             ],
             [
              0.6666666666666666,
              "#ed7953"
             ],
             [
              0.7777777777777778,
              "#fb9f3a"
             ],
             [
              0.8888888888888888,
              "#fdca26"
             ],
             [
              1,
              "#f0f921"
             ]
            ],
            "type": "contour"
           }
          ],
          "contourcarpet": [
           {
            "colorbar": {
             "outlinewidth": 0,
             "ticks": ""
            },
            "type": "contourcarpet"
           }
          ],
          "heatmap": [
           {
            "colorbar": {
             "outlinewidth": 0,
             "ticks": ""
            },
            "colorscale": [
             [
              0,
              "#0d0887"
             ],
             [
              0.1111111111111111,
              "#46039f"
             ],
             [
              0.2222222222222222,
              "#7201a8"
             ],
             [
              0.3333333333333333,
              "#9c179e"
             ],
             [
              0.4444444444444444,
              "#bd3786"
             ],
             [
              0.5555555555555556,
              "#d8576b"
             ],
             [
              0.6666666666666666,
              "#ed7953"
             ],
             [
              0.7777777777777778,
              "#fb9f3a"
             ],
             [
              0.8888888888888888,
              "#fdca26"
             ],
             [
              1,
              "#f0f921"
             ]
            ],
            "type": "heatmap"
           }
          ],
          "heatmapgl": [
           {
            "colorbar": {
             "outlinewidth": 0,
             "ticks": ""
            },
            "colorscale": [
             [
              0,
              "#0d0887"
             ],
             [
              0.1111111111111111,
              "#46039f"
             ],
             [
              0.2222222222222222,
              "#7201a8"
             ],
             [
              0.3333333333333333,
              "#9c179e"
             ],
             [
              0.4444444444444444,
              "#bd3786"
             ],
             [
              0.5555555555555556,
              "#d8576b"
             ],
             [
              0.6666666666666666,
              "#ed7953"
             ],
             [
              0.7777777777777778,
              "#fb9f3a"
             ],
             [
              0.8888888888888888,
              "#fdca26"
             ],
             [
              1,
              "#f0f921"
             ]
            ],
            "type": "heatmapgl"
           }
          ],
          "histogram": [
           {
            "marker": {
             "colorbar": {
              "outlinewidth": 0,
              "ticks": ""
             }
            },
            "type": "histogram"
           }
          ],
          "histogram2d": [
           {
            "colorbar": {
             "outlinewidth": 0,
             "ticks": ""
            },
            "colorscale": [
             [
              0,
              "#0d0887"
             ],
             [
              0.1111111111111111,
              "#46039f"
             ],
             [
              0.2222222222222222,
              "#7201a8"
             ],
             [
              0.3333333333333333,
              "#9c179e"
             ],
             [
              0.4444444444444444,
              "#bd3786"
             ],
             [
              0.5555555555555556,
              "#d8576b"
             ],
             [
              0.6666666666666666,
              "#ed7953"
             ],
             [
              0.7777777777777778,
              "#fb9f3a"
             ],
             [
              0.8888888888888888,
              "#fdca26"
             ],
             [
              1,
              "#f0f921"
             ]
            ],
            "type": "histogram2d"
           }
          ],
          "histogram2dcontour": [
           {
            "colorbar": {
             "outlinewidth": 0,
             "ticks": ""
            },
            "colorscale": [
             [
              0,
              "#0d0887"
             ],
             [
              0.1111111111111111,
              "#46039f"
             ],
             [
              0.2222222222222222,
              "#7201a8"
             ],
             [
              0.3333333333333333,
              "#9c179e"
             ],
             [
              0.4444444444444444,
              "#bd3786"
             ],
             [
              0.5555555555555556,
              "#d8576b"
             ],
             [
              0.6666666666666666,
              "#ed7953"
             ],
             [
              0.7777777777777778,
              "#fb9f3a"
             ],
             [
              0.8888888888888888,
              "#fdca26"
             ],
             [
              1,
              "#f0f921"
             ]
            ],
            "type": "histogram2dcontour"
           }
          ],
          "mesh3d": [
           {
            "colorbar": {
             "outlinewidth": 0,
             "ticks": ""
            },
            "type": "mesh3d"
           }
          ],
          "parcoords": [
           {
            "line": {
             "colorbar": {
              "outlinewidth": 0,
              "ticks": ""
             }
            },
            "type": "parcoords"
           }
          ],
          "pie": [
           {
            "automargin": true,
            "type": "pie"
           }
          ],
          "scatter": [
           {
            "marker": {
             "colorbar": {
              "outlinewidth": 0,
              "ticks": ""
             }
            },
            "type": "scatter"
           }
          ],
          "scatter3d": [
           {
            "line": {
             "colorbar": {
              "outlinewidth": 0,
              "ticks": ""
             }
            },
            "marker": {
             "colorbar": {
              "outlinewidth": 0,
              "ticks": ""
             }
            },
            "type": "scatter3d"
           }
          ],
          "scattercarpet": [
           {
            "marker": {
             "colorbar": {
              "outlinewidth": 0,
              "ticks": ""
             }
            },
            "type": "scattercarpet"
           }
          ],
          "scattergeo": [
           {
            "marker": {
             "colorbar": {
              "outlinewidth": 0,
              "ticks": ""
             }
            },
            "type": "scattergeo"
           }
          ],
          "scattergl": [
           {
            "marker": {
             "colorbar": {
              "outlinewidth": 0,
              "ticks": ""
             }
            },
            "type": "scattergl"
           }
          ],
          "scattermapbox": [
           {
            "marker": {
             "colorbar": {
              "outlinewidth": 0,
              "ticks": ""
             }
            },
            "type": "scattermapbox"
           }
          ],
          "scatterpolar": [
           {
            "marker": {
             "colorbar": {
              "outlinewidth": 0,
              "ticks": ""
             }
            },
            "type": "scatterpolar"
           }
          ],
          "scatterpolargl": [
           {
            "marker": {
             "colorbar": {
              "outlinewidth": 0,
              "ticks": ""
             }
            },
            "type": "scatterpolargl"
           }
          ],
          "scatterternary": [
           {
            "marker": {
             "colorbar": {
              "outlinewidth": 0,
              "ticks": ""
             }
            },
            "type": "scatterternary"
           }
          ],
          "surface": [
           {
            "colorbar": {
             "outlinewidth": 0,
             "ticks": ""
            },
            "colorscale": [
             [
              0,
              "#0d0887"
             ],
             [
              0.1111111111111111,
              "#46039f"
             ],
             [
              0.2222222222222222,
              "#7201a8"
             ],
             [
              0.3333333333333333,
              "#9c179e"
             ],
             [
              0.4444444444444444,
              "#bd3786"
             ],
             [
              0.5555555555555556,
              "#d8576b"
             ],
             [
              0.6666666666666666,
              "#ed7953"
             ],
             [
              0.7777777777777778,
              "#fb9f3a"
             ],
             [
              0.8888888888888888,
              "#fdca26"
             ],
             [
              1,
              "#f0f921"
             ]
            ],
            "type": "surface"
           }
          ],
          "table": [
           {
            "cells": {
             "fill": {
              "color": "#EBF0F8"
             },
             "line": {
              "color": "white"
             }
            },
            "header": {
             "fill": {
              "color": "#C8D4E3"
             },
             "line": {
              "color": "white"
             }
            },
            "type": "table"
           }
          ]
         },
         "layout": {
          "annotationdefaults": {
           "arrowcolor": "#2a3f5f",
           "arrowhead": 0,
           "arrowwidth": 1
          },
          "coloraxis": {
           "colorbar": {
            "outlinewidth": 0,
            "ticks": ""
           }
          },
          "colorscale": {
           "diverging": [
            [
             0,
             "#8e0152"
            ],
            [
             0.1,
             "#c51b7d"
            ],
            [
             0.2,
             "#de77ae"
            ],
            [
             0.3,
             "#f1b6da"
            ],
            [
             0.4,
             "#fde0ef"
            ],
            [
             0.5,
             "#f7f7f7"
            ],
            [
             0.6,
             "#e6f5d0"
            ],
            [
             0.7,
             "#b8e186"
            ],
            [
             0.8,
             "#7fbc41"
            ],
            [
             0.9,
             "#4d9221"
            ],
            [
             1,
             "#276419"
            ]
           ],
           "sequential": [
            [
             0,
             "#0d0887"
            ],
            [
             0.1111111111111111,
             "#46039f"
            ],
            [
             0.2222222222222222,
             "#7201a8"
            ],
            [
             0.3333333333333333,
             "#9c179e"
            ],
            [
             0.4444444444444444,
             "#bd3786"
            ],
            [
             0.5555555555555556,
             "#d8576b"
            ],
            [
             0.6666666666666666,
             "#ed7953"
            ],
            [
             0.7777777777777778,
             "#fb9f3a"
            ],
            [
             0.8888888888888888,
             "#fdca26"
            ],
            [
             1,
             "#f0f921"
            ]
           ],
           "sequentialminus": [
            [
             0,
             "#0d0887"
            ],
            [
             0.1111111111111111,
             "#46039f"
            ],
            [
             0.2222222222222222,
             "#7201a8"
            ],
            [
             0.3333333333333333,
             "#9c179e"
            ],
            [
             0.4444444444444444,
             "#bd3786"
            ],
            [
             0.5555555555555556,
             "#d8576b"
            ],
            [
             0.6666666666666666,
             "#ed7953"
            ],
            [
             0.7777777777777778,
             "#fb9f3a"
            ],
            [
             0.8888888888888888,
             "#fdca26"
            ],
            [
             1,
             "#f0f921"
            ]
           ]
          },
          "colorway": [
           "#636efa",
           "#EF553B",
           "#00cc96",
           "#ab63fa",
           "#FFA15A",
           "#19d3f3",
           "#FF6692",
           "#B6E880",
           "#FF97FF",
           "#FECB52"
          ],
          "font": {
           "color": "#2a3f5f"
          },
          "geo": {
           "bgcolor": "white",
           "lakecolor": "white",
           "landcolor": "#E5ECF6",
           "showlakes": true,
           "showland": true,
           "subunitcolor": "white"
          },
          "hoverlabel": {
           "align": "left"
          },
          "hovermode": "closest",
          "mapbox": {
           "style": "light"
          },
          "paper_bgcolor": "white",
          "plot_bgcolor": "#E5ECF6",
          "polar": {
           "angularaxis": {
            "gridcolor": "white",
            "linecolor": "white",
            "ticks": ""
           },
           "bgcolor": "#E5ECF6",
           "radialaxis": {
            "gridcolor": "white",
            "linecolor": "white",
            "ticks": ""
           }
          },
          "scene": {
           "xaxis": {
            "backgroundcolor": "#E5ECF6",
            "gridcolor": "white",
            "gridwidth": 2,
            "linecolor": "white",
            "showbackground": true,
            "ticks": "",
            "zerolinecolor": "white"
           },
           "yaxis": {
            "backgroundcolor": "#E5ECF6",
            "gridcolor": "white",
            "gridwidth": 2,
            "linecolor": "white",
            "showbackground": true,
            "ticks": "",
            "zerolinecolor": "white"
           },
           "zaxis": {
            "backgroundcolor": "#E5ECF6",
            "gridcolor": "white",
            "gridwidth": 2,
            "linecolor": "white",
            "showbackground": true,
            "ticks": "",
            "zerolinecolor": "white"
           }
          },
          "shapedefaults": {
           "line": {
            "color": "#2a3f5f"
           }
          },
          "ternary": {
           "aaxis": {
            "gridcolor": "white",
            "linecolor": "white",
            "ticks": ""
           },
           "baxis": {
            "gridcolor": "white",
            "linecolor": "white",
            "ticks": ""
           },
           "bgcolor": "#E5ECF6",
           "caxis": {
            "gridcolor": "white",
            "linecolor": "white",
            "ticks": ""
           }
          },
          "title": {
           "x": 0.05
          },
          "xaxis": {
           "automargin": true,
           "gridcolor": "white",
           "linecolor": "white",
           "ticks": "",
           "title": {
            "standoff": 15
           },
           "zerolinecolor": "white",
           "zerolinewidth": 2
          },
          "yaxis": {
           "automargin": true,
           "gridcolor": "white",
           "linecolor": "white",
           "ticks": "",
           "title": {
            "standoff": 15
           },
           "zerolinecolor": "white",
           "zerolinewidth": 2
          }
         }
        },
        "width": 1000,
        "xaxis": {
         "range": [
          0,
          680
         ],
         "showgrid": false
        },
        "yaxis": {
         "range": [
          110,
          520
         ]
        }
       }
      },
      "text/html": [
       "<div>\n",
       "        \n",
       "        \n",
       "            <div id=\"329d69e6-6315-476b-abc4-87ba4005dfab\" class=\"plotly-graph-div\" style=\"height:1600px; width:1000px;\"></div>\n",
       "            <script type=\"text/javascript\">\n",
       "                require([\"plotly\"], function(Plotly) {\n",
       "                    window.PLOTLYENV=window.PLOTLYENV || {};\n",
       "                    \n",
       "                if (document.getElementById(\"329d69e6-6315-476b-abc4-87ba4005dfab\")) {\n",
       "                    Plotly.newPlot(\n",
       "                        '329d69e6-6315-476b-abc4-87ba4005dfab',\n",
       "                        [{\"mode\": \"text\", \"text\": [\"AEM_L1 22-2 Kp:0-2\"], \"type\": \"scatter\", \"x\": [55], \"y\": [125]}, {\"mode\": \"text\", \"text\": [\"AEM_L2 22-2 Kp:0-2\"], \"type\": \"scatter\", \"x\": [55], \"y\": [130]}, {\"mode\": \"text\", \"text\": [\"AEM_L3 22-2 Kp:0-2\"], \"type\": \"scatter\", \"x\": [55], \"y\": [135]}, {\"mode\": \"text\", \"text\": [\"AEM_L4 22-2 Kp:0-2\"], \"type\": \"scatter\", \"x\": [55], \"y\": [140]}, {\"mode\": \"text\", \"text\": [\"AEM_L5 22-2 Kp:0-2\"], \"type\": \"scatter\", \"x\": [55], \"y\": [145]}, {\"mode\": \"text\", \"text\": [\"AFM_L1 22-2 Kp:0-2\"], \"type\": \"scatter\", \"x\": [55], \"y\": [150]}, {\"mode\": \"text\", \"text\": [\"AFM_L2 22-2 Kp:0-2\"], \"type\": \"scatter\", \"x\": [55], \"y\": [195]}, {\"mode\": \"text\", \"text\": [\"AFM_L3 22-2 Kp:0-2\"], \"type\": \"scatter\", \"x\": [55], \"y\": [240]}, {\"mode\": \"text\", \"text\": [\"AFM_L4 22-2 Kp:0-2\"], \"type\": \"scatter\", \"x\": [55], \"y\": [285]}, {\"mode\": \"text\", \"text\": [\"AFM_L5 22-2 Kp:0-2\"], \"type\": \"scatter\", \"x\": [55], \"y\": [330]}, {\"mode\": \"text\", \"text\": [\"AFM_L6 22-2 Kp:0-2\"], \"type\": \"scatter\", \"x\": [55], \"y\": [375]}, {\"mode\": \"text\", \"text\": [\"AFM_L7 22-2 Kp:0-2\"], \"type\": \"scatter\", \"x\": [55], \"y\": [420]}, {\"mode\": \"text\", \"text\": [\"AFM_L8 22-2 Kp:0-2\"], \"type\": \"scatter\", \"x\": [55], \"y\": [465]}, {\"mode\": \"text\", \"text\": [\"AEM_M1 22-2 Kp:2-4\"], \"type\": \"scatter\", \"x\": [110], \"y\": [125]}, {\"mode\": \"text\", \"text\": [\"AEM_M2 22-2 Kp:2-4\"], \"type\": \"scatter\", \"x\": [110], \"y\": [133.33333]}, {\"mode\": \"text\", \"text\": [\"AEM_M3 22-2 Kp:2-4\"], \"type\": \"scatter\", \"x\": [110], \"y\": [141.66666]}, {\"mode\": \"text\", \"text\": [\"AFM_M1 22-2 Kp:2-4\"], \"type\": \"scatter\", \"x\": [110], \"y\": [150]}, {\"mode\": \"text\", \"text\": [\"AFM_M2 22-2 Kp:2-4\"], \"type\": \"scatter\", \"x\": [110], \"y\": [240]}, {\"mode\": \"text\", \"text\": [\"AFM_M3 22-2 Kp:2-4\"], \"type\": \"scatter\", \"x\": [110], \"y\": [330]}, {\"mode\": \"text\", \"text\": [\"AFM_M4 22-2 Kp:2-4\"], \"type\": \"scatter\", \"x\": [110], \"y\": [420]}, {\"mode\": \"text\", \"text\": [\"AEM_H1 22-2 Kp:4-9\"], \"type\": \"scatter\", \"x\": [165], \"y\": [125]}, {\"mode\": \"text\", \"text\": [\"AFM_H1 22-2 Kp:4-9\"], \"type\": \"scatter\", \"x\": [165], \"y\": [150]}, {\"mode\": \"text\", \"text\": [\"AFM_H2 22-2 Kp:4-9\"], \"type\": \"scatter\", \"x\": [165], \"y\": [270]}, {\"mode\": \"text\", \"text\": [\"AFM_H3 22-2 Kp:4-9\"], \"type\": \"scatter\", \"x\": [165], \"y\": [390]}, {\"mode\": \"text\", \"text\": [\"AEE_L1 16-20 Kp:0-2\"], \"type\": \"scatter\", \"x\": [275], \"y\": [125]}, {\"mode\": \"text\", \"text\": [\"AEE_L2 16-20 Kp:0-2\"], \"type\": \"scatter\", \"x\": [275], \"y\": [130]}, {\"mode\": \"text\", \"text\": [\"AEE_L3 16-20 Kp:0-2\"], \"type\": \"scatter\", \"x\": [275], \"y\": [135]}, {\"mode\": \"text\", \"text\": [\"AEE_L4 16-20 Kp:0-2\"], \"type\": \"scatter\", \"x\": [275], \"y\": [140]}, {\"mode\": \"text\", \"text\": [\"AEE_L5 16-20 Kp:0-2\"], \"type\": \"scatter\", \"x\": [275], \"y\": [145]}, {\"mode\": \"text\", \"text\": [\"AEE_M1 16-20 Kp:2-4\"], \"type\": \"scatter\", \"x\": [330], \"y\": [125]}, {\"mode\": \"text\", \"text\": [\"AEE_M2 16-20 Kp:2-4\"], \"type\": \"scatter\", \"x\": [330], \"y\": [133.33333]}, {\"mode\": \"text\", \"text\": [\"AEE_M3 16-20 Kp:2-4\"], \"type\": \"scatter\", \"x\": [330], \"y\": [141.66666]}, {\"mode\": \"text\", \"text\": [\"AEE_H1 16-20 Kp:4-9\"], \"type\": \"scatter\", \"x\": [385], \"y\": [125]}, {\"mode\": \"text\", \"text\": [\"AED_L1 4-8 Kp:0-2\"], \"type\": \"scatter\", \"x\": [495], \"y\": [125]}, {\"mode\": \"text\", \"text\": [\"AED_L2 4-8 Kp:0-2\"], \"type\": \"scatter\", \"x\": [495], \"y\": [130]}, {\"mode\": \"text\", \"text\": [\"AED_L3 4-8 Kp:0-2\"], \"type\": \"scatter\", \"x\": [495], \"y\": [135]}, {\"mode\": \"text\", \"text\": [\"AED_L4 4-8 Kp:0-2\"], \"type\": \"scatter\", \"x\": [495], \"y\": [140]}, {\"mode\": \"text\", \"text\": [\"AED_L5 4-8 Kp:0-2\"], \"type\": \"scatter\", \"x\": [495], \"y\": [145]}, {\"mode\": \"text\", \"text\": [\"AED_M1 4-8 Kp:2-4\"], \"type\": \"scatter\", \"x\": [550], \"y\": [125]}, {\"mode\": \"text\", \"text\": [\"AED_M2 4-8 Kp:2-4\"], \"type\": \"scatter\", \"x\": [550], \"y\": [133.33333]}, {\"mode\": \"text\", \"text\": [\"AED_M3 4-8 Kp:2-4\"], \"type\": \"scatter\", \"x\": [550], \"y\": [141.66666]}, {\"mode\": \"text\", \"text\": [\"AED_H1 4-8 Kp:4-9\"], \"type\": \"scatter\", \"x\": [605], \"y\": [125]}],\n",
       "                        {\"height\": 1600, \"shapes\": [{\"fillcolor\": \"rgba(0.0, 0.0, 0.5, 1.0)\", \"line\": {\"color\": \"RoyalBlue\", \"width\": 3}, \"opacity\": 0.5, \"type\": \"rect\", \"x0\": 55, \"x1\": 100, \"xref\": \"x\", \"y0\": 115, \"y1\": 120, \"yref\": \"y\"}, {\"fillcolor\": \"rgba(0.0, 0.0, 0.5, 1.0)\", \"line\": {\"color\": \"RoyalBlue\", \"width\": 3}, \"opacity\": 0.5, \"type\": \"rect\", \"x0\": 55, \"x1\": 100, \"xref\": \"x\", \"y0\": 120, \"y1\": 125, \"yref\": \"y\"}, {\"fillcolor\": \"rgba(0.0, 0.0, 0.5, 1.0)\", \"line\": {\"color\": \"RoyalBlue\", \"width\": 3}, \"opacity\": 0.5, \"type\": \"rect\", \"x0\": 55, \"x1\": 100, \"xref\": \"x\", \"y0\": 125, \"y1\": 130, \"yref\": \"y\"}, {\"fillcolor\": \"rgba(0.0, 0.0, 0.5, 1.0)\", \"line\": {\"color\": \"RoyalBlue\", \"width\": 3}, \"opacity\": 0.5, \"type\": \"rect\", \"x0\": 55, \"x1\": 100, \"xref\": \"x\", \"y0\": 130, \"y1\": 135, \"yref\": \"y\"}, {\"fillcolor\": \"rgba(0.0, 0.0, 0.5, 1.0)\", \"line\": {\"color\": \"RoyalBlue\", \"width\": 3}, \"opacity\": 0.5, \"type\": \"rect\", \"x0\": 55, \"x1\": 100, \"xref\": \"x\", \"y0\": 135, \"y1\": 140, \"yref\": \"y\"}, {\"fillcolor\": \"rgba(0.0, 0.0, 0.5, 1.0)\", \"line\": {\"color\": \"RoyalBlue\", \"width\": 3}, \"opacity\": 0.5, \"type\": \"rect\", \"x0\": 55, \"x1\": 100, \"xref\": \"x\", \"y0\": 140, \"y1\": 185, \"yref\": \"y\"}, {\"fillcolor\": \"rgba(0.0, 0.0, 0.5, 1.0)\", \"line\": {\"color\": \"RoyalBlue\", \"width\": 3}, \"opacity\": 0.5, \"type\": \"rect\", \"x0\": 55, \"x1\": 100, \"xref\": \"x\", \"y0\": 185, \"y1\": 230, \"yref\": \"y\"}, {\"fillcolor\": \"rgba(0.0, 0.0, 0.5, 1.0)\", \"line\": {\"color\": \"RoyalBlue\", \"width\": 3}, \"opacity\": 0.5, \"type\": \"rect\", \"x0\": 55, \"x1\": 100, \"xref\": \"x\", \"y0\": 230, \"y1\": 275, \"yref\": \"y\"}, {\"fillcolor\": \"rgba(0.0, 0.0, 0.5, 1.0)\", \"line\": {\"color\": \"RoyalBlue\", \"width\": 3}, \"opacity\": 0.5, \"type\": \"rect\", \"x0\": 55, \"x1\": 100, \"xref\": \"x\", \"y0\": 275, \"y1\": 320, \"yref\": \"y\"}, {\"fillcolor\": \"rgba(0.0, 0.0, 0.5, 1.0)\", \"line\": {\"color\": \"RoyalBlue\", \"width\": 3}, \"opacity\": 0.5, \"type\": \"rect\", \"x0\": 55, \"x1\": 100, \"xref\": \"x\", \"y0\": 320, \"y1\": 365, \"yref\": \"y\"}, {\"fillcolor\": \"rgba(0.0, 0.0, 0.5, 1.0)\", \"line\": {\"color\": \"RoyalBlue\", \"width\": 3}, \"opacity\": 0.5, \"type\": \"rect\", \"x0\": 55, \"x1\": 100, \"xref\": \"x\", \"y0\": 365, \"y1\": 410, \"yref\": \"y\"}, {\"fillcolor\": \"rgba(0.0, 0.0, 0.5, 1.0)\", \"line\": {\"color\": \"RoyalBlue\", \"width\": 3}, \"opacity\": 0.5, \"type\": \"rect\", \"x0\": 55, \"x1\": 100, \"xref\": \"x\", \"y0\": 410, \"y1\": 455, \"yref\": \"y\"}, {\"fillcolor\": \"rgba(0.0, 0.0, 0.5, 1.0)\", \"line\": {\"color\": \"RoyalBlue\", \"width\": 3}, \"opacity\": 0.5, \"type\": \"rect\", \"x0\": 55, \"x1\": 100, \"xref\": \"x\", \"y0\": 455, \"y1\": 500, \"yref\": \"y\"}, {\"fillcolor\": \"rgba(0.0, 0.0, 0.5, 1.0)\", \"line\": {\"color\": \"RoyalBlue\", \"width\": 3}, \"opacity\": 0.5, \"type\": \"rect\", \"x0\": 110, \"x1\": 155, \"xref\": \"x\", \"y0\": 115, \"y1\": 123.33333, \"yref\": \"y\"}, {\"fillcolor\": \"rgba(0.0, 0.0, 0.5, 1.0)\", \"line\": {\"color\": \"RoyalBlue\", \"width\": 3}, \"opacity\": 0.5, \"type\": \"rect\", \"x0\": 110, \"x1\": 155, \"xref\": \"x\", \"y0\": 123.33333, \"y1\": 131.66666, \"yref\": \"y\"}, {\"fillcolor\": \"rgba(0.0, 0.0, 0.5, 1.0)\", \"line\": {\"color\": \"RoyalBlue\", \"width\": 3}, \"opacity\": 0.5, \"type\": \"rect\", \"x0\": 110, \"x1\": 155, \"xref\": \"x\", \"y0\": 131.66666, \"y1\": 140, \"yref\": \"y\"}, {\"fillcolor\": \"rgba(0.0, 0.0, 0.5, 1.0)\", \"line\": {\"color\": \"RoyalBlue\", \"width\": 3}, \"opacity\": 0.5, \"type\": \"rect\", \"x0\": 110, \"x1\": 155, \"xref\": \"x\", \"y0\": 140, \"y1\": 230, \"yref\": \"y\"}, {\"fillcolor\": \"rgba(0.0, 0.0, 0.5, 1.0)\", \"line\": {\"color\": \"RoyalBlue\", \"width\": 3}, \"opacity\": 0.5, \"type\": \"rect\", \"x0\": 110, \"x1\": 155, \"xref\": \"x\", \"y0\": 230, \"y1\": 320, \"yref\": \"y\"}, {\"fillcolor\": \"rgba(0.0, 0.0, 0.5, 1.0)\", \"line\": {\"color\": \"RoyalBlue\", \"width\": 3}, \"opacity\": 0.5, \"type\": \"rect\", \"x0\": 110, \"x1\": 155, \"xref\": \"x\", \"y0\": 320, \"y1\": 410, \"yref\": \"y\"}, {\"fillcolor\": \"rgba(0.0, 0.0, 0.5, 1.0)\", \"line\": {\"color\": \"RoyalBlue\", \"width\": 3}, \"opacity\": 0.5, \"type\": \"rect\", \"x0\": 110, \"x1\": 155, \"xref\": \"x\", \"y0\": 410, \"y1\": 500, \"yref\": \"y\"}, {\"fillcolor\": \"rgba(0.0, 0.0, 0.5, 1.0)\", \"line\": {\"color\": \"RoyalBlue\", \"width\": 3}, \"opacity\": 0.5, \"type\": \"rect\", \"x0\": 165, \"x1\": 210, \"xref\": \"x\", \"y0\": 115, \"y1\": 140, \"yref\": \"y\"}, {\"fillcolor\": \"rgba(0.0, 0.0, 0.5, 1.0)\", \"line\": {\"color\": \"RoyalBlue\", \"width\": 3}, \"opacity\": 0.5, \"type\": \"rect\", \"x0\": 165, \"x1\": 210, \"xref\": \"x\", \"y0\": 140, \"y1\": 260, \"yref\": \"y\"}, {\"fillcolor\": \"rgba(0.0, 0.0, 0.5, 1.0)\", \"line\": {\"color\": \"RoyalBlue\", \"width\": 3}, \"opacity\": 0.5, \"type\": \"rect\", \"x0\": 165, \"x1\": 210, \"xref\": \"x\", \"y0\": 260, \"y1\": 380, \"yref\": \"y\"}, {\"fillcolor\": \"rgba(0.0, 0.0, 0.5, 1.0)\", \"line\": {\"color\": \"RoyalBlue\", \"width\": 3}, \"opacity\": 0.5, \"type\": \"rect\", \"x0\": 165, \"x1\": 210, \"xref\": \"x\", \"y0\": 380, \"y1\": 500, \"yref\": \"y\"}, {\"fillcolor\": \"rgba(0.0, 0.0, 0.5, 1.0)\", \"line\": {\"color\": \"RoyalBlue\", \"width\": 3}, \"opacity\": 0.5, \"type\": \"rect\", \"x0\": 275, \"x1\": 320, \"xref\": \"x\", \"y0\": 115, \"y1\": 120, \"yref\": \"y\"}, {\"fillcolor\": \"rgba(0.0, 0.0, 0.5, 1.0)\", \"line\": {\"color\": \"RoyalBlue\", \"width\": 3}, \"opacity\": 0.5, \"type\": \"rect\", \"x0\": 275, \"x1\": 320, \"xref\": \"x\", \"y0\": 120, \"y1\": 125, \"yref\": \"y\"}, {\"fillcolor\": \"rgba(0.0, 0.0, 0.5, 1.0)\", \"line\": {\"color\": \"RoyalBlue\", \"width\": 3}, \"opacity\": 0.5, \"type\": \"rect\", \"x0\": 275, \"x1\": 320, \"xref\": \"x\", \"y0\": 125, \"y1\": 130, \"yref\": \"y\"}, {\"fillcolor\": \"rgba(0.0, 0.0, 0.5, 1.0)\", \"line\": {\"color\": \"RoyalBlue\", \"width\": 3}, \"opacity\": 0.5, \"type\": \"rect\", \"x0\": 275, \"x1\": 320, \"xref\": \"x\", \"y0\": 130, \"y1\": 135, \"yref\": \"y\"}, {\"fillcolor\": \"rgba(0.0, 0.0, 0.5, 1.0)\", \"line\": {\"color\": \"RoyalBlue\", \"width\": 3}, \"opacity\": 0.5, \"type\": \"rect\", \"x0\": 275, \"x1\": 320, \"xref\": \"x\", \"y0\": 135, \"y1\": 140, \"yref\": \"y\"}, {\"fillcolor\": \"rgba(0.0, 0.0, 0.5, 1.0)\", \"line\": {\"color\": \"RoyalBlue\", \"width\": 3}, \"opacity\": 0.5, \"type\": \"rect\", \"x0\": 330, \"x1\": 375, \"xref\": \"x\", \"y0\": 115, \"y1\": 123.33333, \"yref\": \"y\"}, {\"fillcolor\": \"rgba(0.0, 0.0, 0.5, 1.0)\", \"line\": {\"color\": \"RoyalBlue\", \"width\": 3}, \"opacity\": 0.5, \"type\": \"rect\", \"x0\": 330, \"x1\": 375, \"xref\": \"x\", \"y0\": 123.33333, \"y1\": 131.66666, \"yref\": \"y\"}, {\"fillcolor\": \"rgba(0.0, 0.0, 0.5, 1.0)\", \"line\": {\"color\": \"RoyalBlue\", \"width\": 3}, \"opacity\": 0.5, \"type\": \"rect\", \"x0\": 330, \"x1\": 375, \"xref\": \"x\", \"y0\": 131.66666, \"y1\": 140, \"yref\": \"y\"}, {\"fillcolor\": \"rgba(0.0, 0.0, 0.5, 1.0)\", \"line\": {\"color\": \"RoyalBlue\", \"width\": 3}, \"opacity\": 0.5, \"type\": \"rect\", \"x0\": 385, \"x1\": 430, \"xref\": \"x\", \"y0\": 115, \"y1\": 140, \"yref\": \"y\"}, {\"fillcolor\": \"rgba(0.0, 0.0, 0.5, 1.0)\", \"line\": {\"color\": \"RoyalBlue\", \"width\": 3}, \"opacity\": 0.5, \"type\": \"rect\", \"x0\": 495, \"x1\": 540, \"xref\": \"x\", \"y0\": 115, \"y1\": 120, \"yref\": \"y\"}, {\"fillcolor\": \"rgba(0.0, 0.0, 0.5, 1.0)\", \"line\": {\"color\": \"RoyalBlue\", \"width\": 3}, \"opacity\": 0.5, \"type\": \"rect\", \"x0\": 495, \"x1\": 540, \"xref\": \"x\", \"y0\": 120, \"y1\": 125, \"yref\": \"y\"}, {\"fillcolor\": \"rgba(0.0, 0.0, 0.5, 1.0)\", \"line\": {\"color\": \"RoyalBlue\", \"width\": 3}, \"opacity\": 0.5, \"type\": \"rect\", \"x0\": 495, \"x1\": 540, \"xref\": \"x\", \"y0\": 125, \"y1\": 130, \"yref\": \"y\"}, {\"fillcolor\": \"rgba(0.0, 0.0, 0.5, 1.0)\", \"line\": {\"color\": \"RoyalBlue\", \"width\": 3}, \"opacity\": 0.5, \"type\": \"rect\", \"x0\": 495, \"x1\": 540, \"xref\": \"x\", \"y0\": 130, \"y1\": 135, \"yref\": \"y\"}, {\"fillcolor\": \"rgba(0.0, 0.0, 0.5, 1.0)\", \"line\": {\"color\": \"RoyalBlue\", \"width\": 3}, \"opacity\": 0.5, \"type\": \"rect\", \"x0\": 495, \"x1\": 540, \"xref\": \"x\", \"y0\": 135, \"y1\": 140, \"yref\": \"y\"}, {\"fillcolor\": \"rgba(0.0, 0.0, 0.5, 1.0)\", \"line\": {\"color\": \"RoyalBlue\", \"width\": 3}, \"opacity\": 0.5, \"type\": \"rect\", \"x0\": 550, \"x1\": 595, \"xref\": \"x\", \"y0\": 115, \"y1\": 123.33333, \"yref\": \"y\"}, {\"fillcolor\": \"rgba(0.0, 0.0, 0.5, 1.0)\", \"line\": {\"color\": \"RoyalBlue\", \"width\": 3}, \"opacity\": 0.5, \"type\": \"rect\", \"x0\": 550, \"x1\": 595, \"xref\": \"x\", \"y0\": 123.33333, \"y1\": 131.66666, \"yref\": \"y\"}, {\"fillcolor\": \"rgba(0.0, 0.0, 0.5, 1.0)\", \"line\": {\"color\": \"RoyalBlue\", \"width\": 3}, \"opacity\": 0.5, \"type\": \"rect\", \"x0\": 550, \"x1\": 595, \"xref\": \"x\", \"y0\": 131.66666, \"y1\": 140, \"yref\": \"y\"}, {\"fillcolor\": \"rgba(0.0, 0.0, 0.5, 1.0)\", \"line\": {\"color\": \"RoyalBlue\", \"width\": 3}, \"opacity\": 0.5, \"type\": \"rect\", \"x0\": 605, \"x1\": 650, \"xref\": \"x\", \"y0\": 115, \"y1\": 140, \"yref\": \"y\"}], \"template\": {\"data\": {\"bar\": [{\"error_x\": {\"color\": \"#2a3f5f\"}, \"error_y\": {\"color\": \"#2a3f5f\"}, \"marker\": {\"line\": {\"color\": \"#E5ECF6\", \"width\": 0.5}}, \"type\": \"bar\"}], \"barpolar\": [{\"marker\": {\"line\": {\"color\": \"#E5ECF6\", \"width\": 0.5}}, \"type\": \"barpolar\"}], \"carpet\": [{\"aaxis\": {\"endlinecolor\": \"#2a3f5f\", \"gridcolor\": \"white\", \"linecolor\": \"white\", \"minorgridcolor\": \"white\", \"startlinecolor\": \"#2a3f5f\"}, \"baxis\": {\"endlinecolor\": \"#2a3f5f\", \"gridcolor\": \"white\", \"linecolor\": \"white\", \"minorgridcolor\": \"white\", \"startlinecolor\": \"#2a3f5f\"}, \"type\": \"carpet\"}], \"choropleth\": [{\"colorbar\": {\"outlinewidth\": 0, \"ticks\": \"\"}, \"type\": \"choropleth\"}], \"contour\": [{\"colorbar\": {\"outlinewidth\": 0, \"ticks\": \"\"}, \"colorscale\": [[0.0, \"#0d0887\"], [0.1111111111111111, \"#46039f\"], [0.2222222222222222, \"#7201a8\"], [0.3333333333333333, \"#9c179e\"], [0.4444444444444444, \"#bd3786\"], [0.5555555555555556, \"#d8576b\"], [0.6666666666666666, \"#ed7953\"], [0.7777777777777778, \"#fb9f3a\"], [0.8888888888888888, \"#fdca26\"], [1.0, \"#f0f921\"]], \"type\": \"contour\"}], \"contourcarpet\": [{\"colorbar\": {\"outlinewidth\": 0, \"ticks\": \"\"}, \"type\": \"contourcarpet\"}], \"heatmap\": [{\"colorbar\": {\"outlinewidth\": 0, \"ticks\": \"\"}, \"colorscale\": [[0.0, \"#0d0887\"], [0.1111111111111111, \"#46039f\"], [0.2222222222222222, \"#7201a8\"], [0.3333333333333333, \"#9c179e\"], [0.4444444444444444, \"#bd3786\"], [0.5555555555555556, \"#d8576b\"], [0.6666666666666666, \"#ed7953\"], [0.7777777777777778, \"#fb9f3a\"], [0.8888888888888888, \"#fdca26\"], [1.0, \"#f0f921\"]], \"type\": \"heatmap\"}], \"heatmapgl\": [{\"colorbar\": {\"outlinewidth\": 0, \"ticks\": \"\"}, \"colorscale\": [[0.0, \"#0d0887\"], [0.1111111111111111, \"#46039f\"], [0.2222222222222222, \"#7201a8\"], [0.3333333333333333, \"#9c179e\"], [0.4444444444444444, \"#bd3786\"], [0.5555555555555556, \"#d8576b\"], [0.6666666666666666, \"#ed7953\"], [0.7777777777777778, \"#fb9f3a\"], [0.8888888888888888, \"#fdca26\"], [1.0, \"#f0f921\"]], \"type\": \"heatmapgl\"}], \"histogram\": [{\"marker\": {\"colorbar\": {\"outlinewidth\": 0, \"ticks\": \"\"}}, \"type\": \"histogram\"}], \"histogram2d\": [{\"colorbar\": {\"outlinewidth\": 0, \"ticks\": \"\"}, \"colorscale\": [[0.0, \"#0d0887\"], [0.1111111111111111, \"#46039f\"], [0.2222222222222222, \"#7201a8\"], [0.3333333333333333, \"#9c179e\"], [0.4444444444444444, \"#bd3786\"], [0.5555555555555556, \"#d8576b\"], [0.6666666666666666, \"#ed7953\"], [0.7777777777777778, \"#fb9f3a\"], [0.8888888888888888, \"#fdca26\"], [1.0, \"#f0f921\"]], \"type\": \"histogram2d\"}], \"histogram2dcontour\": [{\"colorbar\": {\"outlinewidth\": 0, \"ticks\": \"\"}, \"colorscale\": [[0.0, \"#0d0887\"], [0.1111111111111111, \"#46039f\"], [0.2222222222222222, \"#7201a8\"], [0.3333333333333333, \"#9c179e\"], [0.4444444444444444, \"#bd3786\"], [0.5555555555555556, \"#d8576b\"], [0.6666666666666666, \"#ed7953\"], [0.7777777777777778, \"#fb9f3a\"], [0.8888888888888888, \"#fdca26\"], [1.0, \"#f0f921\"]], \"type\": \"histogram2dcontour\"}], \"mesh3d\": [{\"colorbar\": {\"outlinewidth\": 0, \"ticks\": \"\"}, \"type\": \"mesh3d\"}], \"parcoords\": [{\"line\": {\"colorbar\": {\"outlinewidth\": 0, \"ticks\": \"\"}}, \"type\": \"parcoords\"}], \"pie\": [{\"automargin\": true, \"type\": \"pie\"}], \"scatter\": [{\"marker\": {\"colorbar\": {\"outlinewidth\": 0, \"ticks\": \"\"}}, \"type\": \"scatter\"}], \"scatter3d\": [{\"line\": {\"colorbar\": {\"outlinewidth\": 0, \"ticks\": \"\"}}, \"marker\": {\"colorbar\": {\"outlinewidth\": 0, \"ticks\": \"\"}}, \"type\": \"scatter3d\"}], \"scattercarpet\": [{\"marker\": {\"colorbar\": {\"outlinewidth\": 0, \"ticks\": \"\"}}, \"type\": \"scattercarpet\"}], \"scattergeo\": [{\"marker\": {\"colorbar\": {\"outlinewidth\": 0, \"ticks\": \"\"}}, \"type\": \"scattergeo\"}], \"scattergl\": [{\"marker\": {\"colorbar\": {\"outlinewidth\": 0, \"ticks\": \"\"}}, \"type\": \"scattergl\"}], \"scattermapbox\": [{\"marker\": {\"colorbar\": {\"outlinewidth\": 0, \"ticks\": \"\"}}, \"type\": \"scattermapbox\"}], \"scatterpolar\": [{\"marker\": {\"colorbar\": {\"outlinewidth\": 0, \"ticks\": \"\"}}, \"type\": \"scatterpolar\"}], \"scatterpolargl\": [{\"marker\": {\"colorbar\": {\"outlinewidth\": 0, \"ticks\": \"\"}}, \"type\": \"scatterpolargl\"}], \"scatterternary\": [{\"marker\": {\"colorbar\": {\"outlinewidth\": 0, \"ticks\": \"\"}}, \"type\": \"scatterternary\"}], \"surface\": [{\"colorbar\": {\"outlinewidth\": 0, \"ticks\": \"\"}, \"colorscale\": [[0.0, \"#0d0887\"], [0.1111111111111111, \"#46039f\"], [0.2222222222222222, \"#7201a8\"], [0.3333333333333333, \"#9c179e\"], [0.4444444444444444, \"#bd3786\"], [0.5555555555555556, \"#d8576b\"], [0.6666666666666666, \"#ed7953\"], [0.7777777777777778, \"#fb9f3a\"], [0.8888888888888888, \"#fdca26\"], [1.0, \"#f0f921\"]], \"type\": \"surface\"}], \"table\": [{\"cells\": {\"fill\": {\"color\": \"#EBF0F8\"}, \"line\": {\"color\": \"white\"}}, \"header\": {\"fill\": {\"color\": \"#C8D4E3\"}, \"line\": {\"color\": \"white\"}}, \"type\": \"table\"}]}, \"layout\": {\"annotationdefaults\": {\"arrowcolor\": \"#2a3f5f\", \"arrowhead\": 0, \"arrowwidth\": 1}, \"coloraxis\": {\"colorbar\": {\"outlinewidth\": 0, \"ticks\": \"\"}}, \"colorscale\": {\"diverging\": [[0, \"#8e0152\"], [0.1, \"#c51b7d\"], [0.2, \"#de77ae\"], [0.3, \"#f1b6da\"], [0.4, \"#fde0ef\"], [0.5, \"#f7f7f7\"], [0.6, \"#e6f5d0\"], [0.7, \"#b8e186\"], [0.8, \"#7fbc41\"], [0.9, \"#4d9221\"], [1, \"#276419\"]], \"sequential\": [[0.0, \"#0d0887\"], [0.1111111111111111, \"#46039f\"], [0.2222222222222222, \"#7201a8\"], [0.3333333333333333, \"#9c179e\"], [0.4444444444444444, \"#bd3786\"], [0.5555555555555556, \"#d8576b\"], [0.6666666666666666, \"#ed7953\"], [0.7777777777777778, \"#fb9f3a\"], [0.8888888888888888, \"#fdca26\"], [1.0, \"#f0f921\"]], \"sequentialminus\": [[0.0, \"#0d0887\"], [0.1111111111111111, \"#46039f\"], [0.2222222222222222, \"#7201a8\"], [0.3333333333333333, \"#9c179e\"], [0.4444444444444444, \"#bd3786\"], [0.5555555555555556, \"#d8576b\"], [0.6666666666666666, \"#ed7953\"], [0.7777777777777778, \"#fb9f3a\"], [0.8888888888888888, \"#fdca26\"], [1.0, \"#f0f921\"]]}, \"colorway\": [\"#636efa\", \"#EF553B\", \"#00cc96\", \"#ab63fa\", \"#FFA15A\", \"#19d3f3\", \"#FF6692\", \"#B6E880\", \"#FF97FF\", \"#FECB52\"], \"font\": {\"color\": \"#2a3f5f\"}, \"geo\": {\"bgcolor\": \"white\", \"lakecolor\": \"white\", \"landcolor\": \"#E5ECF6\", \"showlakes\": true, \"showland\": true, \"subunitcolor\": \"white\"}, \"hoverlabel\": {\"align\": \"left\"}, \"hovermode\": \"closest\", \"mapbox\": {\"style\": \"light\"}, \"paper_bgcolor\": \"white\", \"plot_bgcolor\": \"#E5ECF6\", \"polar\": {\"angularaxis\": {\"gridcolor\": \"white\", \"linecolor\": \"white\", \"ticks\": \"\"}, \"bgcolor\": \"#E5ECF6\", \"radialaxis\": {\"gridcolor\": \"white\", \"linecolor\": \"white\", \"ticks\": \"\"}}, \"scene\": {\"xaxis\": {\"backgroundcolor\": \"#E5ECF6\", \"gridcolor\": \"white\", \"gridwidth\": 2, \"linecolor\": \"white\", \"showbackground\": true, \"ticks\": \"\", \"zerolinecolor\": \"white\"}, \"yaxis\": {\"backgroundcolor\": \"#E5ECF6\", \"gridcolor\": \"white\", \"gridwidth\": 2, \"linecolor\": \"white\", \"showbackground\": true, \"ticks\": \"\", \"zerolinecolor\": \"white\"}, \"zaxis\": {\"backgroundcolor\": \"#E5ECF6\", \"gridcolor\": \"white\", \"gridwidth\": 2, \"linecolor\": \"white\", \"showbackground\": true, \"ticks\": \"\", \"zerolinecolor\": \"white\"}}, \"shapedefaults\": {\"line\": {\"color\": \"#2a3f5f\"}}, \"ternary\": {\"aaxis\": {\"gridcolor\": \"white\", \"linecolor\": \"white\", \"ticks\": \"\"}, \"baxis\": {\"gridcolor\": \"white\", \"linecolor\": \"white\", \"ticks\": \"\"}, \"bgcolor\": \"#E5ECF6\", \"caxis\": {\"gridcolor\": \"white\", \"linecolor\": \"white\", \"ticks\": \"\"}}, \"title\": {\"x\": 0.05}, \"xaxis\": {\"automargin\": true, \"gridcolor\": \"white\", \"linecolor\": \"white\", \"ticks\": \"\", \"title\": {\"standoff\": 15}, \"zerolinecolor\": \"white\", \"zerolinewidth\": 2}, \"yaxis\": {\"automargin\": true, \"gridcolor\": \"white\", \"linecolor\": \"white\", \"ticks\": \"\", \"title\": {\"standoff\": 15}, \"zerolinecolor\": \"white\", \"zerolinewidth\": 2}}}, \"width\": 1000, \"xaxis\": {\"range\": [0, 680], \"showgrid\": false}, \"yaxis\": {\"range\": [110, 520]}},\n",
       "                        {\"responsive\": true}\n",
       "                    ).then(function(){\n",
       "                            \n",
       "var gd = document.getElementById('329d69e6-6315-476b-abc4-87ba4005dfab');\n",
       "var x = new MutationObserver(function (mutations, observer) {{\n",
       "        var display = window.getComputedStyle(gd).display;\n",
       "        if (!display || display === 'none') {{\n",
       "            console.log([gd, 'removed!']);\n",
       "            Plotly.purge(gd);\n",
       "            observer.disconnect();\n",
       "        }}\n",
       "}});\n",
       "\n",
       "// Listen for the removal of the full notebook cells\n",
       "var notebookContainer = gd.closest('#notebook-container');\n",
       "if (notebookContainer) {{\n",
       "    x.observe(notebookContainer, {childList: true});\n",
       "}}\n",
       "\n",
       "// Listen for the clearing of the current output cell\n",
       "var outputEl = gd.closest('.output');\n",
       "if (outputEl) {{\n",
       "    x.observe(outputEl, {childList: true});\n",
       "}}\n",
       "\n",
       "                        })\n",
       "                };\n",
       "                });\n",
       "            </script>\n",
       "        </div>"
      ]
     },
     "metadata": {},
     "output_type": "display_data"
    },
    {
     "name": "stdout",
     "output_type": "stream",
     "text": [
      " -- COVERAGE RESULTS -- \n",
      " Date of execution: 03-02-2020_22-15-36\n",
      " Title: 180\n",
      " Description: \n",
      " Parsed 634937 lines from orbit file /home/NAS/Data_Files/OrbitData/CSV_Data_Lifetime_Daedalus_LLA_180s.csv\n",
      " Used Kp indices starting from year 2011\n",
      " Bin Misses: 72710     Bin Hits: 11847\n",
      " Duration of execution: 26.159502267837524 seconds = 0.43599170446395874 minutes\n",
      " \n",
      "AEM_L1  : 22<MLT<=02 060<MagLat<=075 115<Alt<=120 0<Kp<=2 Coverage=000000/050min\n",
      "AEM_L2  : 22<MLT<=02 060<MagLat<=075 120<Alt<=125 0<Kp<=2 Coverage=000000/050min\n",
      "AEM_L3  : 22<MLT<=02 060<MagLat<=075 125<Alt<=130 0<Kp<=2 Coverage=000000/050min\n",
      "AEM_L4  : 22<MLT<=02 060<MagLat<=075 130<Alt<=135 0<Kp<=2 Coverage=000003/050min\n",
      "AEM_L5  : 22<MLT<=02 060<MagLat<=075 135<Alt<=140 0<Kp<=2 Coverage=000000/050min\n",
      "AEM_M1  : 22<MLT<=02 060<MagLat<=075 115<Alt<=123 2<Kp<=4 Coverage=000000/030min\n",
      "AEM_M2  : 22<MLT<=02 060<MagLat<=075 123<Alt<=132 2<Kp<=4 Coverage=000000/030min\n",
      "AEM_M3  : 22<MLT<=02 060<MagLat<=075 132<Alt<=140 2<Kp<=4 Coverage=000000/030min\n",
      "AEM_H1  : 22<MLT<=02 060<MagLat<=075 115<Alt<=140 4<Kp<=9 Coverage=000000/020min\n",
      "AFM_L1  : 22<MLT<=02 060<MagLat<=075 140<Alt<=185 0<Kp<=2 Coverage=000027/050min\n",
      "AFM_L2  : 22<MLT<=02 060<MagLat<=075 185<Alt<=230 0<Kp<=2 Coverage=000009/050min\n",
      "AFM_L3  : 22<MLT<=02 060<MagLat<=075 230<Alt<=275 0<Kp<=2 Coverage=000003/050min\n",
      "AFM_L4  : 22<MLT<=02 060<MagLat<=075 275<Alt<=320 0<Kp<=2 Coverage=000000/050min\n",
      "AFM_L5  : 22<MLT<=02 060<MagLat<=075 320<Alt<=365 0<Kp<=2 Coverage=000000/050min\n",
      "AFM_L6  : 22<MLT<=02 060<MagLat<=075 365<Alt<=410 0<Kp<=2 Coverage=000000/050min\n",
      "AFM_L7  : 22<MLT<=02 060<MagLat<=075 410<Alt<=455 0<Kp<=2 Coverage=000000/050min\n",
      "AFM_L8  : 22<MLT<=02 060<MagLat<=075 455<Alt<=500 0<Kp<=2 Coverage=000000/050min\n",
      "AFM_M1  : 22<MLT<=02 060<MagLat<=075 140<Alt<=230 2<Kp<=4 Coverage=000006/030min\n",
      "AFM_M2  : 22<MLT<=02 060<MagLat<=075 230<Alt<=320 2<Kp<=4 Coverage=000006/030min\n",
      "AFM_M3  : 22<MLT<=02 060<MagLat<=075 320<Alt<=410 2<Kp<=4 Coverage=000000/030min\n",
      "AFM_M4  : 22<MLT<=02 060<MagLat<=075 410<Alt<=500 2<Kp<=4 Coverage=000000/030min\n",
      "AFM_H1  : 22<MLT<=02 060<MagLat<=075 140<Alt<=260 4<Kp<=9 Coverage=000000/020min\n",
      "AFM_H2  : 22<MLT<=02 060<MagLat<=075 260<Alt<=380 4<Kp<=9 Coverage=000000/020min\n",
      "AFM_H3  : 22<MLT<=02 060<MagLat<=075 380<Alt<=500 4<Kp<=9 Coverage=000000/020min\n",
      "AEE_L1  : 16<MLT<=20 060<MagLat<=075 115<Alt<=120 0<Kp<=2 Coverage=000000/050min\n",
      "AEE_L2  : 16<MLT<=20 060<MagLat<=075 120<Alt<=125 0<Kp<=2 Coverage=000000/050min\n",
      "AEE_L3  : 16<MLT<=20 060<MagLat<=075 125<Alt<=130 0<Kp<=2 Coverage=000000/050min\n",
      "AEE_L4  : 16<MLT<=20 060<MagLat<=075 130<Alt<=135 0<Kp<=2 Coverage=000000/050min\n",
      "AEE_L5  : 16<MLT<=20 060<MagLat<=075 135<Alt<=140 0<Kp<=2 Coverage=000000/050min\n",
      "AEE_M1  : 16<MLT<=20 060<MagLat<=075 115<Alt<=123 2<Kp<=4 Coverage=000000/030min\n",
      "AEE_M2  : 16<MLT<=20 060<MagLat<=075 123<Alt<=132 2<Kp<=4 Coverage=000000/030min\n",
      "AEE_M3  : 16<MLT<=20 060<MagLat<=075 132<Alt<=140 2<Kp<=4 Coverage=000000/030min\n",
      "AEE_H1  : 16<MLT<=20 060<MagLat<=075 115<Alt<=140 4<Kp<=9 Coverage=000000/020min\n",
      "AED_L1  : 04<MLT<=08 060<MagLat<=075 115<Alt<=120 0<Kp<=2 Coverage=000000/050min\n",
      "AED_L2  : 04<MLT<=08 060<MagLat<=075 120<Alt<=125 0<Kp<=2 Coverage=000000/050min\n",
      "AED_L3  : 04<MLT<=08 060<MagLat<=075 125<Alt<=130 0<Kp<=2 Coverage=000000/050min\n",
      "AED_L4  : 04<MLT<=08 060<MagLat<=075 130<Alt<=135 0<Kp<=2 Coverage=000000/050min\n",
      "AED_L5  : 04<MLT<=08 060<MagLat<=075 135<Alt<=140 0<Kp<=2 Coverage=000000/050min\n",
      "AED_M1  : 04<MLT<=08 060<MagLat<=075 115<Alt<=123 2<Kp<=4 Coverage=000000/030min\n",
      "AED_M2  : 04<MLT<=08 060<MagLat<=075 123<Alt<=132 2<Kp<=4 Coverage=000000/030min\n",
      "AED_M3  : 04<MLT<=08 060<MagLat<=075 132<Alt<=140 2<Kp<=4 Coverage=000000/030min\n",
      "AED_H1  : 04<MLT<=08 060<MagLat<=075 115<Alt<=140 4<Kp<=9 Coverage=000000/020min\n",
      "EEJ_A1  : 10<MLT<=13 -07<MagLat<=007 115<Alt<=123 0<Kp<=9 Coverage=000000/010min\n",
      "EEJ_A2  : 10<MLT<=13 -07<MagLat<=007 123<Alt<=132 0<Kp<=9 Coverage=000000/010min\n",
      "EEJ_A3  : 10<MLT<=13 -07<MagLat<=007 132<Alt<=140 0<Kp<=9 Coverage=000000/010min\n",
      "EPB_A1  : 18<MLT<=04 -30<MagLat<=030 140<Alt<=185 0<Kp<=9 Coverage=007599/150min\n",
      "EPB_A2  : 18<MLT<=04 -30<MagLat<=030 185<Alt<=230 0<Kp<=9 Coverage=000156/150min\n",
      "EPB_A3  : 18<MLT<=04 -30<MagLat<=030 230<Alt<=275 0<Kp<=9 Coverage=000150/150min\n",
      "EPB_A4  : 18<MLT<=04 -30<MagLat<=030 275<Alt<=320 0<Kp<=9 Coverage=000111/150min\n",
      "EPB_A5  : 18<MLT<=04 -30<MagLat<=030 320<Alt<=365 0<Kp<=9 Coverage=000144/150min\n",
      "EPB_A6  : 18<MLT<=04 -30<MagLat<=030 365<Alt<=410 0<Kp<=9 Coverage=000102/150min\n",
      "EPB_A7  : 18<MLT<=04 -30<MagLat<=030 410<Alt<=455 0<Kp<=9 Coverage=000114/150min\n",
      "EPB_A8  : 18<MLT<=04 -30<MagLat<=030 455<Alt<=500 0<Kp<=9 Coverage=000123/150min\n",
      "SQ_A1   : 06<MLT<=19 -60<MagLat<=060 140<Alt<=185 0<Kp<=3 Coverage=022767/150min\n",
      "SQ_A2   : 06<MLT<=19 -60<MagLat<=060 185<Alt<=230 0<Kp<=3 Coverage=000690/150min\n",
      "SQ_A3   : 06<MLT<=19 -60<MagLat<=060 230<Alt<=275 0<Kp<=3 Coverage=000264/150min\n",
      "SQ_A4   : 06<MLT<=19 -60<MagLat<=060 275<Alt<=320 0<Kp<=3 Coverage=000141/150min\n",
      "SQ_A5   : 06<MLT<=19 -60<MagLat<=060 320<Alt<=365 0<Kp<=3 Coverage=000060/150min\n",
      "SQ_A6   : 06<MLT<=19 -60<MagLat<=060 365<Alt<=410 0<Kp<=3 Coverage=000039/150min\n",
      "SQ_A7   : 06<MLT<=19 -60<MagLat<=060 410<Alt<=455 0<Kp<=3 Coverage=000000/150min\n",
      "SQ_A8   : 06<MLT<=19 -60<MagLat<=060 455<Alt<=500 0<Kp<=3 Coverage=000000/150min\n",
      "CF_L1   : 10<MLT<=14 070<MagLat<=080 140<Alt<=185 0<Kp<=2 Coverage=000000/050min\n",
      "CF_L2   : 10<MLT<=14 070<MagLat<=080 185<Alt<=230 0<Kp<=2 Coverage=000000/050min\n",
      "CF_L3   : 10<MLT<=14 070<MagLat<=080 230<Alt<=275 0<Kp<=2 Coverage=000000/050min\n",
      "CF_L4   : 10<MLT<=14 070<MagLat<=080 275<Alt<=320 0<Kp<=2 Coverage=000000/050min\n",
      "CF_L5   : 10<MLT<=14 070<MagLat<=080 320<Alt<=365 0<Kp<=2 Coverage=000000/050min\n",
      "CF_L6   : 10<MLT<=14 070<MagLat<=080 365<Alt<=410 0<Kp<=2 Coverage=000000/050min\n",
      "CF_L7   : 10<MLT<=14 070<MagLat<=080 410<Alt<=455 0<Kp<=2 Coverage=000000/050min\n",
      "CF_L8   : 10<MLT<=14 070<MagLat<=080 455<Alt<=500 0<Kp<=2 Coverage=000000/050min\n",
      "CF_M1   : 10<MLT<=14 070<MagLat<=080 140<Alt<=230 2<Kp<=4 Coverage=000000/030min\n",
      "CF_M2   : 10<MLT<=14 070<MagLat<=080 230<Alt<=320 2<Kp<=4 Coverage=000000/030min\n",
      "CF_M3   : 10<MLT<=14 070<MagLat<=080 320<Alt<=410 2<Kp<=4 Coverage=000000/030min\n",
      "CF_M4   : 10<MLT<=14 070<MagLat<=080 410<Alt<=500 2<Kp<=4 Coverage=000000/030min\n",
      "CF_H1   : 10<MLT<=14 070<MagLat<=080 140<Alt<=260 4<Kp<=9 Coverage=000000/020min\n",
      "CF_H2   : 10<MLT<=14 070<MagLat<=080 260<Alt<=380 4<Kp<=9 Coverage=000000/020min\n",
      "CF_H3   : 10<MLT<=14 070<MagLat<=080 380<Alt<=500 4<Kp<=9 Coverage=000000/020min\n",
      "PCF_L1  : 14<MLT<=10 070<MagLat<=090 140<Alt<=185 0<Kp<=2 Coverage=001602/050min\n",
      "PCF_L2  : 14<MLT<=10 070<MagLat<=090 185<Alt<=230 0<Kp<=2 Coverage=000030/050min\n",
      "PCF_L3  : 14<MLT<=10 070<MagLat<=090 230<Alt<=275 0<Kp<=2 Coverage=000009/050min\n",
      "PCF_L4  : 14<MLT<=10 070<MagLat<=090 275<Alt<=320 0<Kp<=2 Coverage=000000/050min\n",
      "PCF_L5  : 14<MLT<=10 070<MagLat<=090 320<Alt<=365 0<Kp<=2 Coverage=000000/050min\n",
      "PCF_L6  : 14<MLT<=10 070<MagLat<=090 365<Alt<=410 0<Kp<=2 Coverage=000000/050min\n",
      "PCF_L7  : 14<MLT<=10 070<MagLat<=090 410<Alt<=455 0<Kp<=2 Coverage=000000/050min\n",
      "PCF_L8  : 14<MLT<=10 070<MagLat<=090 455<Alt<=500 0<Kp<=2 Coverage=000000/050min\n",
      "PCF_M1  : 14<MLT<=10 070<MagLat<=090 140<Alt<=230 2<Kp<=4 Coverage=001113/030min\n",
      "PCF_M2  : 14<MLT<=10 070<MagLat<=090 230<Alt<=320 2<Kp<=4 Coverage=000060/030min\n",
      "PCF_M3  : 14<MLT<=10 070<MagLat<=090 320<Alt<=410 2<Kp<=4 Coverage=000006/030min\n",
      "PCF_M4  : 14<MLT<=10 070<MagLat<=090 410<Alt<=500 2<Kp<=4 Coverage=000012/030min\n",
      "PCF_H1  : 14<MLT<=10 070<MagLat<=090 140<Alt<=260 4<Kp<=9 Coverage=000171/020min\n",
      "PCF_H2  : 14<MLT<=10 070<MagLat<=090 260<Alt<=380 4<Kp<=9 Coverage=000021/020min\n",
      "PCF_H3  : 14<MLT<=10 070<MagLat<=090 380<Alt<=500 4<Kp<=9 Coverage=000003/020min\n",
      "AEM_L1 22-2 Kp:0-2  >>  115::120\n",
      "AEM_L2 22-2 Kp:0-2  >>  120::125\n",
      "AEM_L3 22-2 Kp:0-2  >>  125::130\n",
      "AEM_L4 22-2 Kp:0-2  >>  130::135\n",
      "AEM_L5 22-2 Kp:0-2  >>  135::140\n",
      "AFM_L1 22-2 Kp:0-2  >>  140::185\n",
      "AFM_L2 22-2 Kp:0-2  >>  185::230\n",
      "AFM_L3 22-2 Kp:0-2  >>  230::275\n",
      "AFM_L4 22-2 Kp:0-2  >>  275::320\n",
      "AFM_L5 22-2 Kp:0-2  >>  320::365\n",
      "AFM_L6 22-2 Kp:0-2  >>  365::410\n",
      "AFM_L7 22-2 Kp:0-2  >>  410::455\n",
      "AFM_L8 22-2 Kp:0-2  >>  455::500\n",
      "AEM_M1 22-2 Kp:2-4  >>  115::123.33333\n",
      "AEM_M2 22-2 Kp:2-4  >>  123.33333::131.66666\n",
      "AEM_M3 22-2 Kp:2-4  >>  131.66666::140\n",
      "AFM_M1 22-2 Kp:2-4  >>  140::230\n",
      "AFM_M2 22-2 Kp:2-4  >>  230::320\n",
      "AFM_M3 22-2 Kp:2-4  >>  320::410\n",
      "AFM_M4 22-2 Kp:2-4  >>  410::500\n",
      "AEM_H1 22-2 Kp:4-9  >>  115::140\n"
     ]
    },
    {
     "name": "stdout",
     "output_type": "stream",
     "text": [
      "AFM_H1 22-2 Kp:4-9  >>  140::260\n",
      "AFM_H2 22-2 Kp:4-9  >>  260::380\n",
      "AFM_H3 22-2 Kp:4-9  >>  380::500\n",
      "AEE_L1 16-20 Kp:0-2  >>  115::120\n",
      "AEE_L2 16-20 Kp:0-2  >>  120::125\n",
      "AEE_L3 16-20 Kp:0-2  >>  125::130\n",
      "AEE_L4 16-20 Kp:0-2  >>  130::135\n",
      "AEE_L5 16-20 Kp:0-2  >>  135::140\n",
      "AEE_M1 16-20 Kp:2-4  >>  115::123.33333\n",
      "AEE_M2 16-20 Kp:2-4  >>  123.33333::131.66666\n",
      "AEE_M3 16-20 Kp:2-4  >>  131.66666::140\n",
      "AEE_H1 16-20 Kp:4-9  >>  115::140\n",
      "AED_L1 4-8 Kp:0-2  >>  115::120\n",
      "AED_L2 4-8 Kp:0-2  >>  120::125\n",
      "AED_L3 4-8 Kp:0-2  >>  125::130\n",
      "AED_L4 4-8 Kp:0-2  >>  130::135\n",
      "AED_L5 4-8 Kp:0-2  >>  135::140\n",
      "AED_M1 4-8 Kp:2-4  >>  115::123.33333\n",
      "AED_M2 4-8 Kp:2-4  >>  123.33333::131.66666\n",
      "AED_M3 4-8 Kp:2-4  >>  131.66666::140\n",
      "AED_H1 4-8 Kp:4-9  >>  115::140\n"
     ]
    },
    {
     "data": {
      "text/html": [
       "        <script type=\"text/javascript\">\n",
       "        window.PlotlyConfig = {MathJaxConfig: 'local'};\n",
       "        if (window.MathJax) {MathJax.Hub.Config({SVG: {font: \"STIX-Web\"}});}\n",
       "        if (typeof require !== 'undefined') {\n",
       "        require.undef(\"plotly\");\n",
       "        requirejs.config({\n",
       "            paths: {\n",
       "                'plotly': ['https://cdn.plot.ly/plotly-latest.min']\n",
       "            }\n",
       "        });\n",
       "        require(['plotly'], function(Plotly) {\n",
       "            window._Plotly = Plotly;\n",
       "        });\n",
       "        }\n",
       "        </script>\n",
       "        "
      ]
     },
     "metadata": {},
     "output_type": "display_data"
    },
    {
     "data": {
      "application/vnd.plotly.v1+json": {
       "config": {
        "linkText": "Export to plot.ly",
        "plotlyServerURL": "https://plot.ly",
        "showLink": false
       },
       "data": [
        {
         "mode": "text",
         "text": [
          "AEM_L1 22-2 Kp:0-2"
         ],
         "type": "scatter",
         "x": [
          55
         ],
         "y": [
          125
         ]
        },
        {
         "mode": "text",
         "text": [
          "AEM_L2 22-2 Kp:0-2"
         ],
         "type": "scatter",
         "x": [
          55
         ],
         "y": [
          130
         ]
        },
        {
         "mode": "text",
         "text": [
          "AEM_L3 22-2 Kp:0-2"
         ],
         "type": "scatter",
         "x": [
          55
         ],
         "y": [
          135
         ]
        },
        {
         "mode": "text",
         "text": [
          "AEM_L4 22-2 Kp:0-2"
         ],
         "type": "scatter",
         "x": [
          55
         ],
         "y": [
          140
         ]
        },
        {
         "mode": "text",
         "text": [
          "AEM_L5 22-2 Kp:0-2"
         ],
         "type": "scatter",
         "x": [
          55
         ],
         "y": [
          145
         ]
        },
        {
         "mode": "text",
         "text": [
          "AFM_L1 22-2 Kp:0-2"
         ],
         "type": "scatter",
         "x": [
          55
         ],
         "y": [
          150
         ]
        },
        {
         "mode": "text",
         "text": [
          "AFM_L2 22-2 Kp:0-2"
         ],
         "type": "scatter",
         "x": [
          55
         ],
         "y": [
          195
         ]
        },
        {
         "mode": "text",
         "text": [
          "AFM_L3 22-2 Kp:0-2"
         ],
         "type": "scatter",
         "x": [
          55
         ],
         "y": [
          240
         ]
        },
        {
         "mode": "text",
         "text": [
          "AFM_L4 22-2 Kp:0-2"
         ],
         "type": "scatter",
         "x": [
          55
         ],
         "y": [
          285
         ]
        },
        {
         "mode": "text",
         "text": [
          "AFM_L5 22-2 Kp:0-2"
         ],
         "type": "scatter",
         "x": [
          55
         ],
         "y": [
          330
         ]
        },
        {
         "mode": "text",
         "text": [
          "AFM_L6 22-2 Kp:0-2"
         ],
         "type": "scatter",
         "x": [
          55
         ],
         "y": [
          375
         ]
        },
        {
         "mode": "text",
         "text": [
          "AFM_L7 22-2 Kp:0-2"
         ],
         "type": "scatter",
         "x": [
          55
         ],
         "y": [
          420
         ]
        },
        {
         "mode": "text",
         "text": [
          "AFM_L8 22-2 Kp:0-2"
         ],
         "type": "scatter",
         "x": [
          55
         ],
         "y": [
          465
         ]
        },
        {
         "mode": "text",
         "text": [
          "AEM_M1 22-2 Kp:2-4"
         ],
         "type": "scatter",
         "x": [
          110
         ],
         "y": [
          125
         ]
        },
        {
         "mode": "text",
         "text": [
          "AEM_M2 22-2 Kp:2-4"
         ],
         "type": "scatter",
         "x": [
          110
         ],
         "y": [
          133.33333
         ]
        },
        {
         "mode": "text",
         "text": [
          "AEM_M3 22-2 Kp:2-4"
         ],
         "type": "scatter",
         "x": [
          110
         ],
         "y": [
          141.66666
         ]
        },
        {
         "mode": "text",
         "text": [
          "AFM_M1 22-2 Kp:2-4"
         ],
         "type": "scatter",
         "x": [
          110
         ],
         "y": [
          150
         ]
        },
        {
         "mode": "text",
         "text": [
          "AFM_M2 22-2 Kp:2-4"
         ],
         "type": "scatter",
         "x": [
          110
         ],
         "y": [
          240
         ]
        },
        {
         "mode": "text",
         "text": [
          "AFM_M3 22-2 Kp:2-4"
         ],
         "type": "scatter",
         "x": [
          110
         ],
         "y": [
          330
         ]
        },
        {
         "mode": "text",
         "text": [
          "AFM_M4 22-2 Kp:2-4"
         ],
         "type": "scatter",
         "x": [
          110
         ],
         "y": [
          420
         ]
        },
        {
         "mode": "text",
         "text": [
          "AEM_H1 22-2 Kp:4-9"
         ],
         "type": "scatter",
         "x": [
          165
         ],
         "y": [
          125
         ]
        },
        {
         "mode": "text",
         "text": [
          "AFM_H1 22-2 Kp:4-9"
         ],
         "type": "scatter",
         "x": [
          165
         ],
         "y": [
          150
         ]
        },
        {
         "mode": "text",
         "text": [
          "AFM_H2 22-2 Kp:4-9"
         ],
         "type": "scatter",
         "x": [
          165
         ],
         "y": [
          270
         ]
        },
        {
         "mode": "text",
         "text": [
          "AFM_H3 22-2 Kp:4-9"
         ],
         "type": "scatter",
         "x": [
          165
         ],
         "y": [
          390
         ]
        },
        {
         "mode": "text",
         "text": [
          "AEE_L1 16-20 Kp:0-2"
         ],
         "type": "scatter",
         "x": [
          275
         ],
         "y": [
          125
         ]
        },
        {
         "mode": "text",
         "text": [
          "AEE_L2 16-20 Kp:0-2"
         ],
         "type": "scatter",
         "x": [
          275
         ],
         "y": [
          130
         ]
        },
        {
         "mode": "text",
         "text": [
          "AEE_L3 16-20 Kp:0-2"
         ],
         "type": "scatter",
         "x": [
          275
         ],
         "y": [
          135
         ]
        },
        {
         "mode": "text",
         "text": [
          "AEE_L4 16-20 Kp:0-2"
         ],
         "type": "scatter",
         "x": [
          275
         ],
         "y": [
          140
         ]
        },
        {
         "mode": "text",
         "text": [
          "AEE_L5 16-20 Kp:0-2"
         ],
         "type": "scatter",
         "x": [
          275
         ],
         "y": [
          145
         ]
        },
        {
         "mode": "text",
         "text": [
          "AEE_M1 16-20 Kp:2-4"
         ],
         "type": "scatter",
         "x": [
          330
         ],
         "y": [
          125
         ]
        },
        {
         "mode": "text",
         "text": [
          "AEE_M2 16-20 Kp:2-4"
         ],
         "type": "scatter",
         "x": [
          330
         ],
         "y": [
          133.33333
         ]
        },
        {
         "mode": "text",
         "text": [
          "AEE_M3 16-20 Kp:2-4"
         ],
         "type": "scatter",
         "x": [
          330
         ],
         "y": [
          141.66666
         ]
        },
        {
         "mode": "text",
         "text": [
          "AEE_H1 16-20 Kp:4-9"
         ],
         "type": "scatter",
         "x": [
          385
         ],
         "y": [
          125
         ]
        },
        {
         "mode": "text",
         "text": [
          "AED_L1 4-8 Kp:0-2"
         ],
         "type": "scatter",
         "x": [
          495
         ],
         "y": [
          125
         ]
        },
        {
         "mode": "text",
         "text": [
          "AED_L2 4-8 Kp:0-2"
         ],
         "type": "scatter",
         "x": [
          495
         ],
         "y": [
          130
         ]
        },
        {
         "mode": "text",
         "text": [
          "AED_L3 4-8 Kp:0-2"
         ],
         "type": "scatter",
         "x": [
          495
         ],
         "y": [
          135
         ]
        },
        {
         "mode": "text",
         "text": [
          "AED_L4 4-8 Kp:0-2"
         ],
         "type": "scatter",
         "x": [
          495
         ],
         "y": [
          140
         ]
        },
        {
         "mode": "text",
         "text": [
          "AED_L5 4-8 Kp:0-2"
         ],
         "type": "scatter",
         "x": [
          495
         ],
         "y": [
          145
         ]
        },
        {
         "mode": "text",
         "text": [
          "AED_M1 4-8 Kp:2-4"
         ],
         "type": "scatter",
         "x": [
          550
         ],
         "y": [
          125
         ]
        },
        {
         "mode": "text",
         "text": [
          "AED_M2 4-8 Kp:2-4"
         ],
         "type": "scatter",
         "x": [
          550
         ],
         "y": [
          133.33333
         ]
        },
        {
         "mode": "text",
         "text": [
          "AED_M3 4-8 Kp:2-4"
         ],
         "type": "scatter",
         "x": [
          550
         ],
         "y": [
          141.66666
         ]
        },
        {
         "mode": "text",
         "text": [
          "AED_H1 4-8 Kp:4-9"
         ],
         "type": "scatter",
         "x": [
          605
         ],
         "y": [
          125
         ]
        }
       ],
       "layout": {
        "height": 1600,
        "shapes": [
         {
          "fillcolor": "rgba(0.0, 0.0, 0.5, 1.0)",
          "line": {
           "color": "RoyalBlue",
           "width": 3
          },
          "opacity": 0.5,
          "type": "rect",
          "x0": 55,
          "x1": 100,
          "xref": "x",
          "y0": 115,
          "y1": 120,
          "yref": "y"
         },
         {
          "fillcolor": "rgba(0.0, 0.0, 0.5, 1.0)",
          "line": {
           "color": "RoyalBlue",
           "width": 3
          },
          "opacity": 0.5,
          "type": "rect",
          "x0": 55,
          "x1": 100,
          "xref": "x",
          "y0": 120,
          "y1": 125,
          "yref": "y"
         },
         {
          "fillcolor": "rgba(0.0, 0.0, 0.5, 1.0)",
          "line": {
           "color": "RoyalBlue",
           "width": 3
          },
          "opacity": 0.5,
          "type": "rect",
          "x0": 55,
          "x1": 100,
          "xref": "x",
          "y0": 125,
          "y1": 130,
          "yref": "y"
         },
         {
          "fillcolor": "rgba(0.0, 0.0, 0.5, 1.0)",
          "line": {
           "color": "RoyalBlue",
           "width": 3
          },
          "opacity": 0.5,
          "type": "rect",
          "x0": 55,
          "x1": 100,
          "xref": "x",
          "y0": 130,
          "y1": 135,
          "yref": "y"
         },
         {
          "fillcolor": "rgba(0.0, 0.0, 0.5, 1.0)",
          "line": {
           "color": "RoyalBlue",
           "width": 3
          },
          "opacity": 0.5,
          "type": "rect",
          "x0": 55,
          "x1": 100,
          "xref": "x",
          "y0": 135,
          "y1": 140,
          "yref": "y"
         },
         {
          "fillcolor": "rgba(0.0, 0.0, 0.5, 1.0)",
          "line": {
           "color": "RoyalBlue",
           "width": 3
          },
          "opacity": 0.5,
          "type": "rect",
          "x0": 55,
          "x1": 100,
          "xref": "x",
          "y0": 140,
          "y1": 185,
          "yref": "y"
         },
         {
          "fillcolor": "rgba(0.0, 0.0, 0.5, 1.0)",
          "line": {
           "color": "RoyalBlue",
           "width": 3
          },
          "opacity": 0.5,
          "type": "rect",
          "x0": 55,
          "x1": 100,
          "xref": "x",
          "y0": 185,
          "y1": 230,
          "yref": "y"
         },
         {
          "fillcolor": "rgba(0.0, 0.0, 0.5, 1.0)",
          "line": {
           "color": "RoyalBlue",
           "width": 3
          },
          "opacity": 0.5,
          "type": "rect",
          "x0": 55,
          "x1": 100,
          "xref": "x",
          "y0": 230,
          "y1": 275,
          "yref": "y"
         },
         {
          "fillcolor": "rgba(0.0, 0.0, 0.5, 1.0)",
          "line": {
           "color": "RoyalBlue",
           "width": 3
          },
          "opacity": 0.5,
          "type": "rect",
          "x0": 55,
          "x1": 100,
          "xref": "x",
          "y0": 275,
          "y1": 320,
          "yref": "y"
         },
         {
          "fillcolor": "rgba(0.0, 0.0, 0.5, 1.0)",
          "line": {
           "color": "RoyalBlue",
           "width": 3
          },
          "opacity": 0.5,
          "type": "rect",
          "x0": 55,
          "x1": 100,
          "xref": "x",
          "y0": 320,
          "y1": 365,
          "yref": "y"
         },
         {
          "fillcolor": "rgba(0.0, 0.0, 0.5, 1.0)",
          "line": {
           "color": "RoyalBlue",
           "width": 3
          },
          "opacity": 0.5,
          "type": "rect",
          "x0": 55,
          "x1": 100,
          "xref": "x",
          "y0": 365,
          "y1": 410,
          "yref": "y"
         },
         {
          "fillcolor": "rgba(0.0, 0.0, 0.5, 1.0)",
          "line": {
           "color": "RoyalBlue",
           "width": 3
          },
          "opacity": 0.5,
          "type": "rect",
          "x0": 55,
          "x1": 100,
          "xref": "x",
          "y0": 410,
          "y1": 455,
          "yref": "y"
         },
         {
          "fillcolor": "rgba(0.0, 0.0, 0.5, 1.0)",
          "line": {
           "color": "RoyalBlue",
           "width": 3
          },
          "opacity": 0.5,
          "type": "rect",
          "x0": 55,
          "x1": 100,
          "xref": "x",
          "y0": 455,
          "y1": 500,
          "yref": "y"
         },
         {
          "fillcolor": "rgba(0.0, 0.0, 0.5, 1.0)",
          "line": {
           "color": "RoyalBlue",
           "width": 3
          },
          "opacity": 0.5,
          "type": "rect",
          "x0": 110,
          "x1": 155,
          "xref": "x",
          "y0": 115,
          "y1": 123.33333,
          "yref": "y"
         },
         {
          "fillcolor": "rgba(0.0, 0.0, 0.5, 1.0)",
          "line": {
           "color": "RoyalBlue",
           "width": 3
          },
          "opacity": 0.5,
          "type": "rect",
          "x0": 110,
          "x1": 155,
          "xref": "x",
          "y0": 123.33333,
          "y1": 131.66666,
          "yref": "y"
         },
         {
          "fillcolor": "rgba(0.0, 0.0, 0.5, 1.0)",
          "line": {
           "color": "RoyalBlue",
           "width": 3
          },
          "opacity": 0.5,
          "type": "rect",
          "x0": 110,
          "x1": 155,
          "xref": "x",
          "y0": 131.66666,
          "y1": 140,
          "yref": "y"
         },
         {
          "fillcolor": "rgba(0.0, 0.0, 0.5, 1.0)",
          "line": {
           "color": "RoyalBlue",
           "width": 3
          },
          "opacity": 0.5,
          "type": "rect",
          "x0": 110,
          "x1": 155,
          "xref": "x",
          "y0": 140,
          "y1": 230,
          "yref": "y"
         },
         {
          "fillcolor": "rgba(0.0, 0.0, 0.5, 1.0)",
          "line": {
           "color": "RoyalBlue",
           "width": 3
          },
          "opacity": 0.5,
          "type": "rect",
          "x0": 110,
          "x1": 155,
          "xref": "x",
          "y0": 230,
          "y1": 320,
          "yref": "y"
         },
         {
          "fillcolor": "rgba(0.0, 0.0, 0.5, 1.0)",
          "line": {
           "color": "RoyalBlue",
           "width": 3
          },
          "opacity": 0.5,
          "type": "rect",
          "x0": 110,
          "x1": 155,
          "xref": "x",
          "y0": 320,
          "y1": 410,
          "yref": "y"
         },
         {
          "fillcolor": "rgba(0.0, 0.0, 0.5, 1.0)",
          "line": {
           "color": "RoyalBlue",
           "width": 3
          },
          "opacity": 0.5,
          "type": "rect",
          "x0": 110,
          "x1": 155,
          "xref": "x",
          "y0": 410,
          "y1": 500,
          "yref": "y"
         },
         {
          "fillcolor": "rgba(0.0, 0.0, 0.5, 1.0)",
          "line": {
           "color": "RoyalBlue",
           "width": 3
          },
          "opacity": 0.5,
          "type": "rect",
          "x0": 165,
          "x1": 210,
          "xref": "x",
          "y0": 115,
          "y1": 140,
          "yref": "y"
         },
         {
          "fillcolor": "rgba(0.0, 0.0, 0.5, 1.0)",
          "line": {
           "color": "RoyalBlue",
           "width": 3
          },
          "opacity": 0.5,
          "type": "rect",
          "x0": 165,
          "x1": 210,
          "xref": "x",
          "y0": 140,
          "y1": 260,
          "yref": "y"
         },
         {
          "fillcolor": "rgba(0.0, 0.0, 0.5, 1.0)",
          "line": {
           "color": "RoyalBlue",
           "width": 3
          },
          "opacity": 0.5,
          "type": "rect",
          "x0": 165,
          "x1": 210,
          "xref": "x",
          "y0": 260,
          "y1": 380,
          "yref": "y"
         },
         {
          "fillcolor": "rgba(0.0, 0.0, 0.5, 1.0)",
          "line": {
           "color": "RoyalBlue",
           "width": 3
          },
          "opacity": 0.5,
          "type": "rect",
          "x0": 165,
          "x1": 210,
          "xref": "x",
          "y0": 380,
          "y1": 500,
          "yref": "y"
         },
         {
          "fillcolor": "rgba(0.0, 0.0, 0.5, 1.0)",
          "line": {
           "color": "RoyalBlue",
           "width": 3
          },
          "opacity": 0.5,
          "type": "rect",
          "x0": 275,
          "x1": 320,
          "xref": "x",
          "y0": 115,
          "y1": 120,
          "yref": "y"
         },
         {
          "fillcolor": "rgba(0.0, 0.0, 0.5, 1.0)",
          "line": {
           "color": "RoyalBlue",
           "width": 3
          },
          "opacity": 0.5,
          "type": "rect",
          "x0": 275,
          "x1": 320,
          "xref": "x",
          "y0": 120,
          "y1": 125,
          "yref": "y"
         },
         {
          "fillcolor": "rgba(0.0, 0.0, 0.5, 1.0)",
          "line": {
           "color": "RoyalBlue",
           "width": 3
          },
          "opacity": 0.5,
          "type": "rect",
          "x0": 275,
          "x1": 320,
          "xref": "x",
          "y0": 125,
          "y1": 130,
          "yref": "y"
         },
         {
          "fillcolor": "rgba(0.0, 0.0, 0.5, 1.0)",
          "line": {
           "color": "RoyalBlue",
           "width": 3
          },
          "opacity": 0.5,
          "type": "rect",
          "x0": 275,
          "x1": 320,
          "xref": "x",
          "y0": 130,
          "y1": 135,
          "yref": "y"
         },
         {
          "fillcolor": "rgba(0.0, 0.0, 0.5, 1.0)",
          "line": {
           "color": "RoyalBlue",
           "width": 3
          },
          "opacity": 0.5,
          "type": "rect",
          "x0": 275,
          "x1": 320,
          "xref": "x",
          "y0": 135,
          "y1": 140,
          "yref": "y"
         },
         {
          "fillcolor": "rgba(0.0, 0.0, 0.5, 1.0)",
          "line": {
           "color": "RoyalBlue",
           "width": 3
          },
          "opacity": 0.5,
          "type": "rect",
          "x0": 330,
          "x1": 375,
          "xref": "x",
          "y0": 115,
          "y1": 123.33333,
          "yref": "y"
         },
         {
          "fillcolor": "rgba(0.0, 0.0, 0.5, 1.0)",
          "line": {
           "color": "RoyalBlue",
           "width": 3
          },
          "opacity": 0.5,
          "type": "rect",
          "x0": 330,
          "x1": 375,
          "xref": "x",
          "y0": 123.33333,
          "y1": 131.66666,
          "yref": "y"
         },
         {
          "fillcolor": "rgba(0.0, 0.0, 0.5, 1.0)",
          "line": {
           "color": "RoyalBlue",
           "width": 3
          },
          "opacity": 0.5,
          "type": "rect",
          "x0": 330,
          "x1": 375,
          "xref": "x",
          "y0": 131.66666,
          "y1": 140,
          "yref": "y"
         },
         {
          "fillcolor": "rgba(0.0, 0.0, 0.5, 1.0)",
          "line": {
           "color": "RoyalBlue",
           "width": 3
          },
          "opacity": 0.5,
          "type": "rect",
          "x0": 385,
          "x1": 430,
          "xref": "x",
          "y0": 115,
          "y1": 140,
          "yref": "y"
         },
         {
          "fillcolor": "rgba(0.0, 0.0, 0.5, 1.0)",
          "line": {
           "color": "RoyalBlue",
           "width": 3
          },
          "opacity": 0.5,
          "type": "rect",
          "x0": 495,
          "x1": 540,
          "xref": "x",
          "y0": 115,
          "y1": 120,
          "yref": "y"
         },
         {
          "fillcolor": "rgba(0.0, 0.0, 0.5, 1.0)",
          "line": {
           "color": "RoyalBlue",
           "width": 3
          },
          "opacity": 0.5,
          "type": "rect",
          "x0": 495,
          "x1": 540,
          "xref": "x",
          "y0": 120,
          "y1": 125,
          "yref": "y"
         },
         {
          "fillcolor": "rgba(0.0, 0.0, 0.5, 1.0)",
          "line": {
           "color": "RoyalBlue",
           "width": 3
          },
          "opacity": 0.5,
          "type": "rect",
          "x0": 495,
          "x1": 540,
          "xref": "x",
          "y0": 125,
          "y1": 130,
          "yref": "y"
         },
         {
          "fillcolor": "rgba(0.0, 0.0, 0.5, 1.0)",
          "line": {
           "color": "RoyalBlue",
           "width": 3
          },
          "opacity": 0.5,
          "type": "rect",
          "x0": 495,
          "x1": 540,
          "xref": "x",
          "y0": 130,
          "y1": 135,
          "yref": "y"
         },
         {
          "fillcolor": "rgba(0.0, 0.0, 0.5, 1.0)",
          "line": {
           "color": "RoyalBlue",
           "width": 3
          },
          "opacity": 0.5,
          "type": "rect",
          "x0": 495,
          "x1": 540,
          "xref": "x",
          "y0": 135,
          "y1": 140,
          "yref": "y"
         },
         {
          "fillcolor": "rgba(0.0, 0.0, 0.5, 1.0)",
          "line": {
           "color": "RoyalBlue",
           "width": 3
          },
          "opacity": 0.5,
          "type": "rect",
          "x0": 550,
          "x1": 595,
          "xref": "x",
          "y0": 115,
          "y1": 123.33333,
          "yref": "y"
         },
         {
          "fillcolor": "rgba(0.0, 0.0, 0.5, 1.0)",
          "line": {
           "color": "RoyalBlue",
           "width": 3
          },
          "opacity": 0.5,
          "type": "rect",
          "x0": 550,
          "x1": 595,
          "xref": "x",
          "y0": 123.33333,
          "y1": 131.66666,
          "yref": "y"
         },
         {
          "fillcolor": "rgba(0.0, 0.0, 0.5, 1.0)",
          "line": {
           "color": "RoyalBlue",
           "width": 3
          },
          "opacity": 0.5,
          "type": "rect",
          "x0": 550,
          "x1": 595,
          "xref": "x",
          "y0": 131.66666,
          "y1": 140,
          "yref": "y"
         },
         {
          "fillcolor": "rgba(0.0, 0.0, 0.5, 1.0)",
          "line": {
           "color": "RoyalBlue",
           "width": 3
          },
          "opacity": 0.5,
          "type": "rect",
          "x0": 605,
          "x1": 650,
          "xref": "x",
          "y0": 115,
          "y1": 140,
          "yref": "y"
         }
        ],
        "template": {
         "data": {
          "bar": [
           {
            "error_x": {
             "color": "#2a3f5f"
            },
            "error_y": {
             "color": "#2a3f5f"
            },
            "marker": {
             "line": {
              "color": "#E5ECF6",
              "width": 0.5
             }
            },
            "type": "bar"
           }
          ],
          "barpolar": [
           {
            "marker": {
             "line": {
              "color": "#E5ECF6",
              "width": 0.5
             }
            },
            "type": "barpolar"
           }
          ],
          "carpet": [
           {
            "aaxis": {
             "endlinecolor": "#2a3f5f",
             "gridcolor": "white",
             "linecolor": "white",
             "minorgridcolor": "white",
             "startlinecolor": "#2a3f5f"
            },
            "baxis": {
             "endlinecolor": "#2a3f5f",
             "gridcolor": "white",
             "linecolor": "white",
             "minorgridcolor": "white",
             "startlinecolor": "#2a3f5f"
            },
            "type": "carpet"
           }
          ],
          "choropleth": [
           {
            "colorbar": {
             "outlinewidth": 0,
             "ticks": ""
            },
            "type": "choropleth"
           }
          ],
          "contour": [
           {
            "colorbar": {
             "outlinewidth": 0,
             "ticks": ""
            },
            "colorscale": [
             [
              0,
              "#0d0887"
             ],
             [
              0.1111111111111111,
              "#46039f"
             ],
             [
              0.2222222222222222,
              "#7201a8"
             ],
             [
              0.3333333333333333,
              "#9c179e"
             ],
             [
              0.4444444444444444,
              "#bd3786"
             ],
             [
              0.5555555555555556,
              "#d8576b"
             ],
             [
              0.6666666666666666,
              "#ed7953"
             ],
             [
              0.7777777777777778,
              "#fb9f3a"
             ],
             [
              0.8888888888888888,
              "#fdca26"
             ],
             [
              1,
              "#f0f921"
             ]
            ],
            "type": "contour"
           }
          ],
          "contourcarpet": [
           {
            "colorbar": {
             "outlinewidth": 0,
             "ticks": ""
            },
            "type": "contourcarpet"
           }
          ],
          "heatmap": [
           {
            "colorbar": {
             "outlinewidth": 0,
             "ticks": ""
            },
            "colorscale": [
             [
              0,
              "#0d0887"
             ],
             [
              0.1111111111111111,
              "#46039f"
             ],
             [
              0.2222222222222222,
              "#7201a8"
             ],
             [
              0.3333333333333333,
              "#9c179e"
             ],
             [
              0.4444444444444444,
              "#bd3786"
             ],
             [
              0.5555555555555556,
              "#d8576b"
             ],
             [
              0.6666666666666666,
              "#ed7953"
             ],
             [
              0.7777777777777778,
              "#fb9f3a"
             ],
             [
              0.8888888888888888,
              "#fdca26"
             ],
             [
              1,
              "#f0f921"
             ]
            ],
            "type": "heatmap"
           }
          ],
          "heatmapgl": [
           {
            "colorbar": {
             "outlinewidth": 0,
             "ticks": ""
            },
            "colorscale": [
             [
              0,
              "#0d0887"
             ],
             [
              0.1111111111111111,
              "#46039f"
             ],
             [
              0.2222222222222222,
              "#7201a8"
             ],
             [
              0.3333333333333333,
              "#9c179e"
             ],
             [
              0.4444444444444444,
              "#bd3786"
             ],
             [
              0.5555555555555556,
              "#d8576b"
             ],
             [
              0.6666666666666666,
              "#ed7953"
             ],
             [
              0.7777777777777778,
              "#fb9f3a"
             ],
             [
              0.8888888888888888,
              "#fdca26"
             ],
             [
              1,
              "#f0f921"
             ]
            ],
            "type": "heatmapgl"
           }
          ],
          "histogram": [
           {
            "marker": {
             "colorbar": {
              "outlinewidth": 0,
              "ticks": ""
             }
            },
            "type": "histogram"
           }
          ],
          "histogram2d": [
           {
            "colorbar": {
             "outlinewidth": 0,
             "ticks": ""
            },
            "colorscale": [
             [
              0,
              "#0d0887"
             ],
             [
              0.1111111111111111,
              "#46039f"
             ],
             [
              0.2222222222222222,
              "#7201a8"
             ],
             [
              0.3333333333333333,
              "#9c179e"
             ],
             [
              0.4444444444444444,
              "#bd3786"
             ],
             [
              0.5555555555555556,
              "#d8576b"
             ],
             [
              0.6666666666666666,
              "#ed7953"
             ],
             [
              0.7777777777777778,
              "#fb9f3a"
             ],
             [
              0.8888888888888888,
              "#fdca26"
             ],
             [
              1,
              "#f0f921"
             ]
            ],
            "type": "histogram2d"
           }
          ],
          "histogram2dcontour": [
           {
            "colorbar": {
             "outlinewidth": 0,
             "ticks": ""
            },
            "colorscale": [
             [
              0,
              "#0d0887"
             ],
             [
              0.1111111111111111,
              "#46039f"
             ],
             [
              0.2222222222222222,
              "#7201a8"
             ],
             [
              0.3333333333333333,
              "#9c179e"
             ],
             [
              0.4444444444444444,
              "#bd3786"
             ],
             [
              0.5555555555555556,
              "#d8576b"
             ],
             [
              0.6666666666666666,
              "#ed7953"
             ],
             [
              0.7777777777777778,
              "#fb9f3a"
             ],
             [
              0.8888888888888888,
              "#fdca26"
             ],
             [
              1,
              "#f0f921"
             ]
            ],
            "type": "histogram2dcontour"
           }
          ],
          "mesh3d": [
           {
            "colorbar": {
             "outlinewidth": 0,
             "ticks": ""
            },
            "type": "mesh3d"
           }
          ],
          "parcoords": [
           {
            "line": {
             "colorbar": {
              "outlinewidth": 0,
              "ticks": ""
             }
            },
            "type": "parcoords"
           }
          ],
          "pie": [
           {
            "automargin": true,
            "type": "pie"
           }
          ],
          "scatter": [
           {
            "marker": {
             "colorbar": {
              "outlinewidth": 0,
              "ticks": ""
             }
            },
            "type": "scatter"
           }
          ],
          "scatter3d": [
           {
            "line": {
             "colorbar": {
              "outlinewidth": 0,
              "ticks": ""
             }
            },
            "marker": {
             "colorbar": {
              "outlinewidth": 0,
              "ticks": ""
             }
            },
            "type": "scatter3d"
           }
          ],
          "scattercarpet": [
           {
            "marker": {
             "colorbar": {
              "outlinewidth": 0,
              "ticks": ""
             }
            },
            "type": "scattercarpet"
           }
          ],
          "scattergeo": [
           {
            "marker": {
             "colorbar": {
              "outlinewidth": 0,
              "ticks": ""
             }
            },
            "type": "scattergeo"
           }
          ],
          "scattergl": [
           {
            "marker": {
             "colorbar": {
              "outlinewidth": 0,
              "ticks": ""
             }
            },
            "type": "scattergl"
           }
          ],
          "scattermapbox": [
           {
            "marker": {
             "colorbar": {
              "outlinewidth": 0,
              "ticks": ""
             }
            },
            "type": "scattermapbox"
           }
          ],
          "scatterpolar": [
           {
            "marker": {
             "colorbar": {
              "outlinewidth": 0,
              "ticks": ""
             }
            },
            "type": "scatterpolar"
           }
          ],
          "scatterpolargl": [
           {
            "marker": {
             "colorbar": {
              "outlinewidth": 0,
              "ticks": ""
             }
            },
            "type": "scatterpolargl"
           }
          ],
          "scatterternary": [
           {
            "marker": {
             "colorbar": {
              "outlinewidth": 0,
              "ticks": ""
             }
            },
            "type": "scatterternary"
           }
          ],
          "surface": [
           {
            "colorbar": {
             "outlinewidth": 0,
             "ticks": ""
            },
            "colorscale": [
             [
              0,
              "#0d0887"
             ],
             [
              0.1111111111111111,
              "#46039f"
             ],
             [
              0.2222222222222222,
              "#7201a8"
             ],
             [
              0.3333333333333333,
              "#9c179e"
             ],
             [
              0.4444444444444444,
              "#bd3786"
             ],
             [
              0.5555555555555556,
              "#d8576b"
             ],
             [
              0.6666666666666666,
              "#ed7953"
             ],
             [
              0.7777777777777778,
              "#fb9f3a"
             ],
             [
              0.8888888888888888,
              "#fdca26"
             ],
             [
              1,
              "#f0f921"
             ]
            ],
            "type": "surface"
           }
          ],
          "table": [
           {
            "cells": {
             "fill": {
              "color": "#EBF0F8"
             },
             "line": {
              "color": "white"
             }
            },
            "header": {
             "fill": {
              "color": "#C8D4E3"
             },
             "line": {
              "color": "white"
             }
            },
            "type": "table"
           }
          ]
         },
         "layout": {
          "annotationdefaults": {
           "arrowcolor": "#2a3f5f",
           "arrowhead": 0,
           "arrowwidth": 1
          },
          "coloraxis": {
           "colorbar": {
            "outlinewidth": 0,
            "ticks": ""
           }
          },
          "colorscale": {
           "diverging": [
            [
             0,
             "#8e0152"
            ],
            [
             0.1,
             "#c51b7d"
            ],
            [
             0.2,
             "#de77ae"
            ],
            [
             0.3,
             "#f1b6da"
            ],
            [
             0.4,
             "#fde0ef"
            ],
            [
             0.5,
             "#f7f7f7"
            ],
            [
             0.6,
             "#e6f5d0"
            ],
            [
             0.7,
             "#b8e186"
            ],
            [
             0.8,
             "#7fbc41"
            ],
            [
             0.9,
             "#4d9221"
            ],
            [
             1,
             "#276419"
            ]
           ],
           "sequential": [
            [
             0,
             "#0d0887"
            ],
            [
             0.1111111111111111,
             "#46039f"
            ],
            [
             0.2222222222222222,
             "#7201a8"
            ],
            [
             0.3333333333333333,
             "#9c179e"
            ],
            [
             0.4444444444444444,
             "#bd3786"
            ],
            [
             0.5555555555555556,
             "#d8576b"
            ],
            [
             0.6666666666666666,
             "#ed7953"
            ],
            [
             0.7777777777777778,
             "#fb9f3a"
            ],
            [
             0.8888888888888888,
             "#fdca26"
            ],
            [
             1,
             "#f0f921"
            ]
           ],
           "sequentialminus": [
            [
             0,
             "#0d0887"
            ],
            [
             0.1111111111111111,
             "#46039f"
            ],
            [
             0.2222222222222222,
             "#7201a8"
            ],
            [
             0.3333333333333333,
             "#9c179e"
            ],
            [
             0.4444444444444444,
             "#bd3786"
            ],
            [
             0.5555555555555556,
             "#d8576b"
            ],
            [
             0.6666666666666666,
             "#ed7953"
            ],
            [
             0.7777777777777778,
             "#fb9f3a"
            ],
            [
             0.8888888888888888,
             "#fdca26"
            ],
            [
             1,
             "#f0f921"
            ]
           ]
          },
          "colorway": [
           "#636efa",
           "#EF553B",
           "#00cc96",
           "#ab63fa",
           "#FFA15A",
           "#19d3f3",
           "#FF6692",
           "#B6E880",
           "#FF97FF",
           "#FECB52"
          ],
          "font": {
           "color": "#2a3f5f"
          },
          "geo": {
           "bgcolor": "white",
           "lakecolor": "white",
           "landcolor": "#E5ECF6",
           "showlakes": true,
           "showland": true,
           "subunitcolor": "white"
          },
          "hoverlabel": {
           "align": "left"
          },
          "hovermode": "closest",
          "mapbox": {
           "style": "light"
          },
          "paper_bgcolor": "white",
          "plot_bgcolor": "#E5ECF6",
          "polar": {
           "angularaxis": {
            "gridcolor": "white",
            "linecolor": "white",
            "ticks": ""
           },
           "bgcolor": "#E5ECF6",
           "radialaxis": {
            "gridcolor": "white",
            "linecolor": "white",
            "ticks": ""
           }
          },
          "scene": {
           "xaxis": {
            "backgroundcolor": "#E5ECF6",
            "gridcolor": "white",
            "gridwidth": 2,
            "linecolor": "white",
            "showbackground": true,
            "ticks": "",
            "zerolinecolor": "white"
           },
           "yaxis": {
            "backgroundcolor": "#E5ECF6",
            "gridcolor": "white",
            "gridwidth": 2,
            "linecolor": "white",
            "showbackground": true,
            "ticks": "",
            "zerolinecolor": "white"
           },
           "zaxis": {
            "backgroundcolor": "#E5ECF6",
            "gridcolor": "white",
            "gridwidth": 2,
            "linecolor": "white",
            "showbackground": true,
            "ticks": "",
            "zerolinecolor": "white"
           }
          },
          "shapedefaults": {
           "line": {
            "color": "#2a3f5f"
           }
          },
          "ternary": {
           "aaxis": {
            "gridcolor": "white",
            "linecolor": "white",
            "ticks": ""
           },
           "baxis": {
            "gridcolor": "white",
            "linecolor": "white",
            "ticks": ""
           },
           "bgcolor": "#E5ECF6",
           "caxis": {
            "gridcolor": "white",
            "linecolor": "white",
            "ticks": ""
           }
          },
          "title": {
           "x": 0.05
          },
          "xaxis": {
           "automargin": true,
           "gridcolor": "white",
           "linecolor": "white",
           "ticks": "",
           "title": {
            "standoff": 15
           },
           "zerolinecolor": "white",
           "zerolinewidth": 2
          },
          "yaxis": {
           "automargin": true,
           "gridcolor": "white",
           "linecolor": "white",
           "ticks": "",
           "title": {
            "standoff": 15
           },
           "zerolinecolor": "white",
           "zerolinewidth": 2
          }
         }
        },
        "width": 1000,
        "xaxis": {
         "range": [
          0,
          680
         ],
         "showgrid": false
        },
        "yaxis": {
         "range": [
          110,
          520
         ]
        }
       }
      },
      "text/html": [
       "<div>\n",
       "        \n",
       "        \n",
       "            <div id=\"f95a98e4-6875-40ca-b012-2b1b60626158\" class=\"plotly-graph-div\" style=\"height:1600px; width:1000px;\"></div>\n",
       "            <script type=\"text/javascript\">\n",
       "                require([\"plotly\"], function(Plotly) {\n",
       "                    window.PLOTLYENV=window.PLOTLYENV || {};\n",
       "                    \n",
       "                if (document.getElementById(\"f95a98e4-6875-40ca-b012-2b1b60626158\")) {\n",
       "                    Plotly.newPlot(\n",
       "                        'f95a98e4-6875-40ca-b012-2b1b60626158',\n",
       "                        [{\"mode\": \"text\", \"text\": [\"AEM_L1 22-2 Kp:0-2\"], \"type\": \"scatter\", \"x\": [55], \"y\": [125]}, {\"mode\": \"text\", \"text\": [\"AEM_L2 22-2 Kp:0-2\"], \"type\": \"scatter\", \"x\": [55], \"y\": [130]}, {\"mode\": \"text\", \"text\": [\"AEM_L3 22-2 Kp:0-2\"], \"type\": \"scatter\", \"x\": [55], \"y\": [135]}, {\"mode\": \"text\", \"text\": [\"AEM_L4 22-2 Kp:0-2\"], \"type\": \"scatter\", \"x\": [55], \"y\": [140]}, {\"mode\": \"text\", \"text\": [\"AEM_L5 22-2 Kp:0-2\"], \"type\": \"scatter\", \"x\": [55], \"y\": [145]}, {\"mode\": \"text\", \"text\": [\"AFM_L1 22-2 Kp:0-2\"], \"type\": \"scatter\", \"x\": [55], \"y\": [150]}, {\"mode\": \"text\", \"text\": [\"AFM_L2 22-2 Kp:0-2\"], \"type\": \"scatter\", \"x\": [55], \"y\": [195]}, {\"mode\": \"text\", \"text\": [\"AFM_L3 22-2 Kp:0-2\"], \"type\": \"scatter\", \"x\": [55], \"y\": [240]}, {\"mode\": \"text\", \"text\": [\"AFM_L4 22-2 Kp:0-2\"], \"type\": \"scatter\", \"x\": [55], \"y\": [285]}, {\"mode\": \"text\", \"text\": [\"AFM_L5 22-2 Kp:0-2\"], \"type\": \"scatter\", \"x\": [55], \"y\": [330]}, {\"mode\": \"text\", \"text\": [\"AFM_L6 22-2 Kp:0-2\"], \"type\": \"scatter\", \"x\": [55], \"y\": [375]}, {\"mode\": \"text\", \"text\": [\"AFM_L7 22-2 Kp:0-2\"], \"type\": \"scatter\", \"x\": [55], \"y\": [420]}, {\"mode\": \"text\", \"text\": [\"AFM_L8 22-2 Kp:0-2\"], \"type\": \"scatter\", \"x\": [55], \"y\": [465]}, {\"mode\": \"text\", \"text\": [\"AEM_M1 22-2 Kp:2-4\"], \"type\": \"scatter\", \"x\": [110], \"y\": [125]}, {\"mode\": \"text\", \"text\": [\"AEM_M2 22-2 Kp:2-4\"], \"type\": \"scatter\", \"x\": [110], \"y\": [133.33333]}, {\"mode\": \"text\", \"text\": [\"AEM_M3 22-2 Kp:2-4\"], \"type\": \"scatter\", \"x\": [110], \"y\": [141.66666]}, {\"mode\": \"text\", \"text\": [\"AFM_M1 22-2 Kp:2-4\"], \"type\": \"scatter\", \"x\": [110], \"y\": [150]}, {\"mode\": \"text\", \"text\": [\"AFM_M2 22-2 Kp:2-4\"], \"type\": \"scatter\", \"x\": [110], \"y\": [240]}, {\"mode\": \"text\", \"text\": [\"AFM_M3 22-2 Kp:2-4\"], \"type\": \"scatter\", \"x\": [110], \"y\": [330]}, {\"mode\": \"text\", \"text\": [\"AFM_M4 22-2 Kp:2-4\"], \"type\": \"scatter\", \"x\": [110], \"y\": [420]}, {\"mode\": \"text\", \"text\": [\"AEM_H1 22-2 Kp:4-9\"], \"type\": \"scatter\", \"x\": [165], \"y\": [125]}, {\"mode\": \"text\", \"text\": [\"AFM_H1 22-2 Kp:4-9\"], \"type\": \"scatter\", \"x\": [165], \"y\": [150]}, {\"mode\": \"text\", \"text\": [\"AFM_H2 22-2 Kp:4-9\"], \"type\": \"scatter\", \"x\": [165], \"y\": [270]}, {\"mode\": \"text\", \"text\": [\"AFM_H3 22-2 Kp:4-9\"], \"type\": \"scatter\", \"x\": [165], \"y\": [390]}, {\"mode\": \"text\", \"text\": [\"AEE_L1 16-20 Kp:0-2\"], \"type\": \"scatter\", \"x\": [275], \"y\": [125]}, {\"mode\": \"text\", \"text\": [\"AEE_L2 16-20 Kp:0-2\"], \"type\": \"scatter\", \"x\": [275], \"y\": [130]}, {\"mode\": \"text\", \"text\": [\"AEE_L3 16-20 Kp:0-2\"], \"type\": \"scatter\", \"x\": [275], \"y\": [135]}, {\"mode\": \"text\", \"text\": [\"AEE_L4 16-20 Kp:0-2\"], \"type\": \"scatter\", \"x\": [275], \"y\": [140]}, {\"mode\": \"text\", \"text\": [\"AEE_L5 16-20 Kp:0-2\"], \"type\": \"scatter\", \"x\": [275], \"y\": [145]}, {\"mode\": \"text\", \"text\": [\"AEE_M1 16-20 Kp:2-4\"], \"type\": \"scatter\", \"x\": [330], \"y\": [125]}, {\"mode\": \"text\", \"text\": [\"AEE_M2 16-20 Kp:2-4\"], \"type\": \"scatter\", \"x\": [330], \"y\": [133.33333]}, {\"mode\": \"text\", \"text\": [\"AEE_M3 16-20 Kp:2-4\"], \"type\": \"scatter\", \"x\": [330], \"y\": [141.66666]}, {\"mode\": \"text\", \"text\": [\"AEE_H1 16-20 Kp:4-9\"], \"type\": \"scatter\", \"x\": [385], \"y\": [125]}, {\"mode\": \"text\", \"text\": [\"AED_L1 4-8 Kp:0-2\"], \"type\": \"scatter\", \"x\": [495], \"y\": [125]}, {\"mode\": \"text\", \"text\": [\"AED_L2 4-8 Kp:0-2\"], \"type\": \"scatter\", \"x\": [495], \"y\": [130]}, {\"mode\": \"text\", \"text\": [\"AED_L3 4-8 Kp:0-2\"], \"type\": \"scatter\", \"x\": [495], \"y\": [135]}, {\"mode\": \"text\", \"text\": [\"AED_L4 4-8 Kp:0-2\"], \"type\": \"scatter\", \"x\": [495], \"y\": [140]}, {\"mode\": \"text\", \"text\": [\"AED_L5 4-8 Kp:0-2\"], \"type\": \"scatter\", \"x\": [495], \"y\": [145]}, {\"mode\": \"text\", \"text\": [\"AED_M1 4-8 Kp:2-4\"], \"type\": \"scatter\", \"x\": [550], \"y\": [125]}, {\"mode\": \"text\", \"text\": [\"AED_M2 4-8 Kp:2-4\"], \"type\": \"scatter\", \"x\": [550], \"y\": [133.33333]}, {\"mode\": \"text\", \"text\": [\"AED_M3 4-8 Kp:2-4\"], \"type\": \"scatter\", \"x\": [550], \"y\": [141.66666]}, {\"mode\": \"text\", \"text\": [\"AED_H1 4-8 Kp:4-9\"], \"type\": \"scatter\", \"x\": [605], \"y\": [125]}],\n",
       "                        {\"height\": 1600, \"shapes\": [{\"fillcolor\": \"rgba(0.0, 0.0, 0.5, 1.0)\", \"line\": {\"color\": \"RoyalBlue\", \"width\": 3}, \"opacity\": 0.5, \"type\": \"rect\", \"x0\": 55, \"x1\": 100, \"xref\": \"x\", \"y0\": 115, \"y1\": 120, \"yref\": \"y\"}, {\"fillcolor\": \"rgba(0.0, 0.0, 0.5, 1.0)\", \"line\": {\"color\": \"RoyalBlue\", \"width\": 3}, \"opacity\": 0.5, \"type\": \"rect\", \"x0\": 55, \"x1\": 100, \"xref\": \"x\", \"y0\": 120, \"y1\": 125, \"yref\": \"y\"}, {\"fillcolor\": \"rgba(0.0, 0.0, 0.5, 1.0)\", \"line\": {\"color\": \"RoyalBlue\", \"width\": 3}, \"opacity\": 0.5, \"type\": \"rect\", \"x0\": 55, \"x1\": 100, \"xref\": \"x\", \"y0\": 125, \"y1\": 130, \"yref\": \"y\"}, {\"fillcolor\": \"rgba(0.0, 0.0, 0.5, 1.0)\", \"line\": {\"color\": \"RoyalBlue\", \"width\": 3}, \"opacity\": 0.5, \"type\": \"rect\", \"x0\": 55, \"x1\": 100, \"xref\": \"x\", \"y0\": 130, \"y1\": 135, \"yref\": \"y\"}, {\"fillcolor\": \"rgba(0.0, 0.0, 0.5, 1.0)\", \"line\": {\"color\": \"RoyalBlue\", \"width\": 3}, \"opacity\": 0.5, \"type\": \"rect\", \"x0\": 55, \"x1\": 100, \"xref\": \"x\", \"y0\": 135, \"y1\": 140, \"yref\": \"y\"}, {\"fillcolor\": \"rgba(0.0, 0.0, 0.5, 1.0)\", \"line\": {\"color\": \"RoyalBlue\", \"width\": 3}, \"opacity\": 0.5, \"type\": \"rect\", \"x0\": 55, \"x1\": 100, \"xref\": \"x\", \"y0\": 140, \"y1\": 185, \"yref\": \"y\"}, {\"fillcolor\": \"rgba(0.0, 0.0, 0.5, 1.0)\", \"line\": {\"color\": \"RoyalBlue\", \"width\": 3}, \"opacity\": 0.5, \"type\": \"rect\", \"x0\": 55, \"x1\": 100, \"xref\": \"x\", \"y0\": 185, \"y1\": 230, \"yref\": \"y\"}, {\"fillcolor\": \"rgba(0.0, 0.0, 0.5, 1.0)\", \"line\": {\"color\": \"RoyalBlue\", \"width\": 3}, \"opacity\": 0.5, \"type\": \"rect\", \"x0\": 55, \"x1\": 100, \"xref\": \"x\", \"y0\": 230, \"y1\": 275, \"yref\": \"y\"}, {\"fillcolor\": \"rgba(0.0, 0.0, 0.5, 1.0)\", \"line\": {\"color\": \"RoyalBlue\", \"width\": 3}, \"opacity\": 0.5, \"type\": \"rect\", \"x0\": 55, \"x1\": 100, \"xref\": \"x\", \"y0\": 275, \"y1\": 320, \"yref\": \"y\"}, {\"fillcolor\": \"rgba(0.0, 0.0, 0.5, 1.0)\", \"line\": {\"color\": \"RoyalBlue\", \"width\": 3}, \"opacity\": 0.5, \"type\": \"rect\", \"x0\": 55, \"x1\": 100, \"xref\": \"x\", \"y0\": 320, \"y1\": 365, \"yref\": \"y\"}, {\"fillcolor\": \"rgba(0.0, 0.0, 0.5, 1.0)\", \"line\": {\"color\": \"RoyalBlue\", \"width\": 3}, \"opacity\": 0.5, \"type\": \"rect\", \"x0\": 55, \"x1\": 100, \"xref\": \"x\", \"y0\": 365, \"y1\": 410, \"yref\": \"y\"}, {\"fillcolor\": \"rgba(0.0, 0.0, 0.5, 1.0)\", \"line\": {\"color\": \"RoyalBlue\", \"width\": 3}, \"opacity\": 0.5, \"type\": \"rect\", \"x0\": 55, \"x1\": 100, \"xref\": \"x\", \"y0\": 410, \"y1\": 455, \"yref\": \"y\"}, {\"fillcolor\": \"rgba(0.0, 0.0, 0.5, 1.0)\", \"line\": {\"color\": \"RoyalBlue\", \"width\": 3}, \"opacity\": 0.5, \"type\": \"rect\", \"x0\": 55, \"x1\": 100, \"xref\": \"x\", \"y0\": 455, \"y1\": 500, \"yref\": \"y\"}, {\"fillcolor\": \"rgba(0.0, 0.0, 0.5, 1.0)\", \"line\": {\"color\": \"RoyalBlue\", \"width\": 3}, \"opacity\": 0.5, \"type\": \"rect\", \"x0\": 110, \"x1\": 155, \"xref\": \"x\", \"y0\": 115, \"y1\": 123.33333, \"yref\": \"y\"}, {\"fillcolor\": \"rgba(0.0, 0.0, 0.5, 1.0)\", \"line\": {\"color\": \"RoyalBlue\", \"width\": 3}, \"opacity\": 0.5, \"type\": \"rect\", \"x0\": 110, \"x1\": 155, \"xref\": \"x\", \"y0\": 123.33333, \"y1\": 131.66666, \"yref\": \"y\"}, {\"fillcolor\": \"rgba(0.0, 0.0, 0.5, 1.0)\", \"line\": {\"color\": \"RoyalBlue\", \"width\": 3}, \"opacity\": 0.5, \"type\": \"rect\", \"x0\": 110, \"x1\": 155, \"xref\": \"x\", \"y0\": 131.66666, \"y1\": 140, \"yref\": \"y\"}, {\"fillcolor\": \"rgba(0.0, 0.0, 0.5, 1.0)\", \"line\": {\"color\": \"RoyalBlue\", \"width\": 3}, \"opacity\": 0.5, \"type\": \"rect\", \"x0\": 110, \"x1\": 155, \"xref\": \"x\", \"y0\": 140, \"y1\": 230, \"yref\": \"y\"}, {\"fillcolor\": \"rgba(0.0, 0.0, 0.5, 1.0)\", \"line\": {\"color\": \"RoyalBlue\", \"width\": 3}, \"opacity\": 0.5, \"type\": \"rect\", \"x0\": 110, \"x1\": 155, \"xref\": \"x\", \"y0\": 230, \"y1\": 320, \"yref\": \"y\"}, {\"fillcolor\": \"rgba(0.0, 0.0, 0.5, 1.0)\", \"line\": {\"color\": \"RoyalBlue\", \"width\": 3}, \"opacity\": 0.5, \"type\": \"rect\", \"x0\": 110, \"x1\": 155, \"xref\": \"x\", \"y0\": 320, \"y1\": 410, \"yref\": \"y\"}, {\"fillcolor\": \"rgba(0.0, 0.0, 0.5, 1.0)\", \"line\": {\"color\": \"RoyalBlue\", \"width\": 3}, \"opacity\": 0.5, \"type\": \"rect\", \"x0\": 110, \"x1\": 155, \"xref\": \"x\", \"y0\": 410, \"y1\": 500, \"yref\": \"y\"}, {\"fillcolor\": \"rgba(0.0, 0.0, 0.5, 1.0)\", \"line\": {\"color\": \"RoyalBlue\", \"width\": 3}, \"opacity\": 0.5, \"type\": \"rect\", \"x0\": 165, \"x1\": 210, \"xref\": \"x\", \"y0\": 115, \"y1\": 140, \"yref\": \"y\"}, {\"fillcolor\": \"rgba(0.0, 0.0, 0.5, 1.0)\", \"line\": {\"color\": \"RoyalBlue\", \"width\": 3}, \"opacity\": 0.5, \"type\": \"rect\", \"x0\": 165, \"x1\": 210, \"xref\": \"x\", \"y0\": 140, \"y1\": 260, \"yref\": \"y\"}, {\"fillcolor\": \"rgba(0.0, 0.0, 0.5, 1.0)\", \"line\": {\"color\": \"RoyalBlue\", \"width\": 3}, \"opacity\": 0.5, \"type\": \"rect\", \"x0\": 165, \"x1\": 210, \"xref\": \"x\", \"y0\": 260, \"y1\": 380, \"yref\": \"y\"}, {\"fillcolor\": \"rgba(0.0, 0.0, 0.5, 1.0)\", \"line\": {\"color\": \"RoyalBlue\", \"width\": 3}, \"opacity\": 0.5, \"type\": \"rect\", \"x0\": 165, \"x1\": 210, \"xref\": \"x\", \"y0\": 380, \"y1\": 500, \"yref\": \"y\"}, {\"fillcolor\": \"rgba(0.0, 0.0, 0.5, 1.0)\", \"line\": {\"color\": \"RoyalBlue\", \"width\": 3}, \"opacity\": 0.5, \"type\": \"rect\", \"x0\": 275, \"x1\": 320, \"xref\": \"x\", \"y0\": 115, \"y1\": 120, \"yref\": \"y\"}, {\"fillcolor\": \"rgba(0.0, 0.0, 0.5, 1.0)\", \"line\": {\"color\": \"RoyalBlue\", \"width\": 3}, \"opacity\": 0.5, \"type\": \"rect\", \"x0\": 275, \"x1\": 320, \"xref\": \"x\", \"y0\": 120, \"y1\": 125, \"yref\": \"y\"}, {\"fillcolor\": \"rgba(0.0, 0.0, 0.5, 1.0)\", \"line\": {\"color\": \"RoyalBlue\", \"width\": 3}, \"opacity\": 0.5, \"type\": \"rect\", \"x0\": 275, \"x1\": 320, \"xref\": \"x\", \"y0\": 125, \"y1\": 130, \"yref\": \"y\"}, {\"fillcolor\": \"rgba(0.0, 0.0, 0.5, 1.0)\", \"line\": {\"color\": \"RoyalBlue\", \"width\": 3}, \"opacity\": 0.5, \"type\": \"rect\", \"x0\": 275, \"x1\": 320, \"xref\": \"x\", \"y0\": 130, \"y1\": 135, \"yref\": \"y\"}, {\"fillcolor\": \"rgba(0.0, 0.0, 0.5, 1.0)\", \"line\": {\"color\": \"RoyalBlue\", \"width\": 3}, \"opacity\": 0.5, \"type\": \"rect\", \"x0\": 275, \"x1\": 320, \"xref\": \"x\", \"y0\": 135, \"y1\": 140, \"yref\": \"y\"}, {\"fillcolor\": \"rgba(0.0, 0.0, 0.5, 1.0)\", \"line\": {\"color\": \"RoyalBlue\", \"width\": 3}, \"opacity\": 0.5, \"type\": \"rect\", \"x0\": 330, \"x1\": 375, \"xref\": \"x\", \"y0\": 115, \"y1\": 123.33333, \"yref\": \"y\"}, {\"fillcolor\": \"rgba(0.0, 0.0, 0.5, 1.0)\", \"line\": {\"color\": \"RoyalBlue\", \"width\": 3}, \"opacity\": 0.5, \"type\": \"rect\", \"x0\": 330, \"x1\": 375, \"xref\": \"x\", \"y0\": 123.33333, \"y1\": 131.66666, \"yref\": \"y\"}, {\"fillcolor\": \"rgba(0.0, 0.0, 0.5, 1.0)\", \"line\": {\"color\": \"RoyalBlue\", \"width\": 3}, \"opacity\": 0.5, \"type\": \"rect\", \"x0\": 330, \"x1\": 375, \"xref\": \"x\", \"y0\": 131.66666, \"y1\": 140, \"yref\": \"y\"}, {\"fillcolor\": \"rgba(0.0, 0.0, 0.5, 1.0)\", \"line\": {\"color\": \"RoyalBlue\", \"width\": 3}, \"opacity\": 0.5, \"type\": \"rect\", \"x0\": 385, \"x1\": 430, \"xref\": \"x\", \"y0\": 115, \"y1\": 140, \"yref\": \"y\"}, {\"fillcolor\": \"rgba(0.0, 0.0, 0.5, 1.0)\", \"line\": {\"color\": \"RoyalBlue\", \"width\": 3}, \"opacity\": 0.5, \"type\": \"rect\", \"x0\": 495, \"x1\": 540, \"xref\": \"x\", \"y0\": 115, \"y1\": 120, \"yref\": \"y\"}, {\"fillcolor\": \"rgba(0.0, 0.0, 0.5, 1.0)\", \"line\": {\"color\": \"RoyalBlue\", \"width\": 3}, \"opacity\": 0.5, \"type\": \"rect\", \"x0\": 495, \"x1\": 540, \"xref\": \"x\", \"y0\": 120, \"y1\": 125, \"yref\": \"y\"}, {\"fillcolor\": \"rgba(0.0, 0.0, 0.5, 1.0)\", \"line\": {\"color\": \"RoyalBlue\", \"width\": 3}, \"opacity\": 0.5, \"type\": \"rect\", \"x0\": 495, \"x1\": 540, \"xref\": \"x\", \"y0\": 125, \"y1\": 130, \"yref\": \"y\"}, {\"fillcolor\": \"rgba(0.0, 0.0, 0.5, 1.0)\", \"line\": {\"color\": \"RoyalBlue\", \"width\": 3}, \"opacity\": 0.5, \"type\": \"rect\", \"x0\": 495, \"x1\": 540, \"xref\": \"x\", \"y0\": 130, \"y1\": 135, \"yref\": \"y\"}, {\"fillcolor\": \"rgba(0.0, 0.0, 0.5, 1.0)\", \"line\": {\"color\": \"RoyalBlue\", \"width\": 3}, \"opacity\": 0.5, \"type\": \"rect\", \"x0\": 495, \"x1\": 540, \"xref\": \"x\", \"y0\": 135, \"y1\": 140, \"yref\": \"y\"}, {\"fillcolor\": \"rgba(0.0, 0.0, 0.5, 1.0)\", \"line\": {\"color\": \"RoyalBlue\", \"width\": 3}, \"opacity\": 0.5, \"type\": \"rect\", \"x0\": 550, \"x1\": 595, \"xref\": \"x\", \"y0\": 115, \"y1\": 123.33333, \"yref\": \"y\"}, {\"fillcolor\": \"rgba(0.0, 0.0, 0.5, 1.0)\", \"line\": {\"color\": \"RoyalBlue\", \"width\": 3}, \"opacity\": 0.5, \"type\": \"rect\", \"x0\": 550, \"x1\": 595, \"xref\": \"x\", \"y0\": 123.33333, \"y1\": 131.66666, \"yref\": \"y\"}, {\"fillcolor\": \"rgba(0.0, 0.0, 0.5, 1.0)\", \"line\": {\"color\": \"RoyalBlue\", \"width\": 3}, \"opacity\": 0.5, \"type\": \"rect\", \"x0\": 550, \"x1\": 595, \"xref\": \"x\", \"y0\": 131.66666, \"y1\": 140, \"yref\": \"y\"}, {\"fillcolor\": \"rgba(0.0, 0.0, 0.5, 1.0)\", \"line\": {\"color\": \"RoyalBlue\", \"width\": 3}, \"opacity\": 0.5, \"type\": \"rect\", \"x0\": 605, \"x1\": 650, \"xref\": \"x\", \"y0\": 115, \"y1\": 140, \"yref\": \"y\"}], \"template\": {\"data\": {\"bar\": [{\"error_x\": {\"color\": \"#2a3f5f\"}, \"error_y\": {\"color\": \"#2a3f5f\"}, \"marker\": {\"line\": {\"color\": \"#E5ECF6\", \"width\": 0.5}}, \"type\": \"bar\"}], \"barpolar\": [{\"marker\": {\"line\": {\"color\": \"#E5ECF6\", \"width\": 0.5}}, \"type\": \"barpolar\"}], \"carpet\": [{\"aaxis\": {\"endlinecolor\": \"#2a3f5f\", \"gridcolor\": \"white\", \"linecolor\": \"white\", \"minorgridcolor\": \"white\", \"startlinecolor\": \"#2a3f5f\"}, \"baxis\": {\"endlinecolor\": \"#2a3f5f\", \"gridcolor\": \"white\", \"linecolor\": \"white\", \"minorgridcolor\": \"white\", \"startlinecolor\": \"#2a3f5f\"}, \"type\": \"carpet\"}], \"choropleth\": [{\"colorbar\": {\"outlinewidth\": 0, \"ticks\": \"\"}, \"type\": \"choropleth\"}], \"contour\": [{\"colorbar\": {\"outlinewidth\": 0, \"ticks\": \"\"}, \"colorscale\": [[0.0, \"#0d0887\"], [0.1111111111111111, \"#46039f\"], [0.2222222222222222, \"#7201a8\"], [0.3333333333333333, \"#9c179e\"], [0.4444444444444444, \"#bd3786\"], [0.5555555555555556, \"#d8576b\"], [0.6666666666666666, \"#ed7953\"], [0.7777777777777778, \"#fb9f3a\"], [0.8888888888888888, \"#fdca26\"], [1.0, \"#f0f921\"]], \"type\": \"contour\"}], \"contourcarpet\": [{\"colorbar\": {\"outlinewidth\": 0, \"ticks\": \"\"}, \"type\": \"contourcarpet\"}], \"heatmap\": [{\"colorbar\": {\"outlinewidth\": 0, \"ticks\": \"\"}, \"colorscale\": [[0.0, \"#0d0887\"], [0.1111111111111111, \"#46039f\"], [0.2222222222222222, \"#7201a8\"], [0.3333333333333333, \"#9c179e\"], [0.4444444444444444, \"#bd3786\"], [0.5555555555555556, \"#d8576b\"], [0.6666666666666666, \"#ed7953\"], [0.7777777777777778, \"#fb9f3a\"], [0.8888888888888888, \"#fdca26\"], [1.0, \"#f0f921\"]], \"type\": \"heatmap\"}], \"heatmapgl\": [{\"colorbar\": {\"outlinewidth\": 0, \"ticks\": \"\"}, \"colorscale\": [[0.0, \"#0d0887\"], [0.1111111111111111, \"#46039f\"], [0.2222222222222222, \"#7201a8\"], [0.3333333333333333, \"#9c179e\"], [0.4444444444444444, \"#bd3786\"], [0.5555555555555556, \"#d8576b\"], [0.6666666666666666, \"#ed7953\"], [0.7777777777777778, \"#fb9f3a\"], [0.8888888888888888, \"#fdca26\"], [1.0, \"#f0f921\"]], \"type\": \"heatmapgl\"}], \"histogram\": [{\"marker\": {\"colorbar\": {\"outlinewidth\": 0, \"ticks\": \"\"}}, \"type\": \"histogram\"}], \"histogram2d\": [{\"colorbar\": {\"outlinewidth\": 0, \"ticks\": \"\"}, \"colorscale\": [[0.0, \"#0d0887\"], [0.1111111111111111, \"#46039f\"], [0.2222222222222222, \"#7201a8\"], [0.3333333333333333, \"#9c179e\"], [0.4444444444444444, \"#bd3786\"], [0.5555555555555556, \"#d8576b\"], [0.6666666666666666, \"#ed7953\"], [0.7777777777777778, \"#fb9f3a\"], [0.8888888888888888, \"#fdca26\"], [1.0, \"#f0f921\"]], \"type\": \"histogram2d\"}], \"histogram2dcontour\": [{\"colorbar\": {\"outlinewidth\": 0, \"ticks\": \"\"}, \"colorscale\": [[0.0, \"#0d0887\"], [0.1111111111111111, \"#46039f\"], [0.2222222222222222, \"#7201a8\"], [0.3333333333333333, \"#9c179e\"], [0.4444444444444444, \"#bd3786\"], [0.5555555555555556, \"#d8576b\"], [0.6666666666666666, \"#ed7953\"], [0.7777777777777778, \"#fb9f3a\"], [0.8888888888888888, \"#fdca26\"], [1.0, \"#f0f921\"]], \"type\": \"histogram2dcontour\"}], \"mesh3d\": [{\"colorbar\": {\"outlinewidth\": 0, \"ticks\": \"\"}, \"type\": \"mesh3d\"}], \"parcoords\": [{\"line\": {\"colorbar\": {\"outlinewidth\": 0, \"ticks\": \"\"}}, \"type\": \"parcoords\"}], \"pie\": [{\"automargin\": true, \"type\": \"pie\"}], \"scatter\": [{\"marker\": {\"colorbar\": {\"outlinewidth\": 0, \"ticks\": \"\"}}, \"type\": \"scatter\"}], \"scatter3d\": [{\"line\": {\"colorbar\": {\"outlinewidth\": 0, \"ticks\": \"\"}}, \"marker\": {\"colorbar\": {\"outlinewidth\": 0, \"ticks\": \"\"}}, \"type\": \"scatter3d\"}], \"scattercarpet\": [{\"marker\": {\"colorbar\": {\"outlinewidth\": 0, \"ticks\": \"\"}}, \"type\": \"scattercarpet\"}], \"scattergeo\": [{\"marker\": {\"colorbar\": {\"outlinewidth\": 0, \"ticks\": \"\"}}, \"type\": \"scattergeo\"}], \"scattergl\": [{\"marker\": {\"colorbar\": {\"outlinewidth\": 0, \"ticks\": \"\"}}, \"type\": \"scattergl\"}], \"scattermapbox\": [{\"marker\": {\"colorbar\": {\"outlinewidth\": 0, \"ticks\": \"\"}}, \"type\": \"scattermapbox\"}], \"scatterpolar\": [{\"marker\": {\"colorbar\": {\"outlinewidth\": 0, \"ticks\": \"\"}}, \"type\": \"scatterpolar\"}], \"scatterpolargl\": [{\"marker\": {\"colorbar\": {\"outlinewidth\": 0, \"ticks\": \"\"}}, \"type\": \"scatterpolargl\"}], \"scatterternary\": [{\"marker\": {\"colorbar\": {\"outlinewidth\": 0, \"ticks\": \"\"}}, \"type\": \"scatterternary\"}], \"surface\": [{\"colorbar\": {\"outlinewidth\": 0, \"ticks\": \"\"}, \"colorscale\": [[0.0, \"#0d0887\"], [0.1111111111111111, \"#46039f\"], [0.2222222222222222, \"#7201a8\"], [0.3333333333333333, \"#9c179e\"], [0.4444444444444444, \"#bd3786\"], [0.5555555555555556, \"#d8576b\"], [0.6666666666666666, \"#ed7953\"], [0.7777777777777778, \"#fb9f3a\"], [0.8888888888888888, \"#fdca26\"], [1.0, \"#f0f921\"]], \"type\": \"surface\"}], \"table\": [{\"cells\": {\"fill\": {\"color\": \"#EBF0F8\"}, \"line\": {\"color\": \"white\"}}, \"header\": {\"fill\": {\"color\": \"#C8D4E3\"}, \"line\": {\"color\": \"white\"}}, \"type\": \"table\"}]}, \"layout\": {\"annotationdefaults\": {\"arrowcolor\": \"#2a3f5f\", \"arrowhead\": 0, \"arrowwidth\": 1}, \"coloraxis\": {\"colorbar\": {\"outlinewidth\": 0, \"ticks\": \"\"}}, \"colorscale\": {\"diverging\": [[0, \"#8e0152\"], [0.1, \"#c51b7d\"], [0.2, \"#de77ae\"], [0.3, \"#f1b6da\"], [0.4, \"#fde0ef\"], [0.5, \"#f7f7f7\"], [0.6, \"#e6f5d0\"], [0.7, \"#b8e186\"], [0.8, \"#7fbc41\"], [0.9, \"#4d9221\"], [1, \"#276419\"]], \"sequential\": [[0.0, \"#0d0887\"], [0.1111111111111111, \"#46039f\"], [0.2222222222222222, \"#7201a8\"], [0.3333333333333333, \"#9c179e\"], [0.4444444444444444, \"#bd3786\"], [0.5555555555555556, \"#d8576b\"], [0.6666666666666666, \"#ed7953\"], [0.7777777777777778, \"#fb9f3a\"], [0.8888888888888888, \"#fdca26\"], [1.0, \"#f0f921\"]], \"sequentialminus\": [[0.0, \"#0d0887\"], [0.1111111111111111, \"#46039f\"], [0.2222222222222222, \"#7201a8\"], [0.3333333333333333, \"#9c179e\"], [0.4444444444444444, \"#bd3786\"], [0.5555555555555556, \"#d8576b\"], [0.6666666666666666, \"#ed7953\"], [0.7777777777777778, \"#fb9f3a\"], [0.8888888888888888, \"#fdca26\"], [1.0, \"#f0f921\"]]}, \"colorway\": [\"#636efa\", \"#EF553B\", \"#00cc96\", \"#ab63fa\", \"#FFA15A\", \"#19d3f3\", \"#FF6692\", \"#B6E880\", \"#FF97FF\", \"#FECB52\"], \"font\": {\"color\": \"#2a3f5f\"}, \"geo\": {\"bgcolor\": \"white\", \"lakecolor\": \"white\", \"landcolor\": \"#E5ECF6\", \"showlakes\": true, \"showland\": true, \"subunitcolor\": \"white\"}, \"hoverlabel\": {\"align\": \"left\"}, \"hovermode\": \"closest\", \"mapbox\": {\"style\": \"light\"}, \"paper_bgcolor\": \"white\", \"plot_bgcolor\": \"#E5ECF6\", \"polar\": {\"angularaxis\": {\"gridcolor\": \"white\", \"linecolor\": \"white\", \"ticks\": \"\"}, \"bgcolor\": \"#E5ECF6\", \"radialaxis\": {\"gridcolor\": \"white\", \"linecolor\": \"white\", \"ticks\": \"\"}}, \"scene\": {\"xaxis\": {\"backgroundcolor\": \"#E5ECF6\", \"gridcolor\": \"white\", \"gridwidth\": 2, \"linecolor\": \"white\", \"showbackground\": true, \"ticks\": \"\", \"zerolinecolor\": \"white\"}, \"yaxis\": {\"backgroundcolor\": \"#E5ECF6\", \"gridcolor\": \"white\", \"gridwidth\": 2, \"linecolor\": \"white\", \"showbackground\": true, \"ticks\": \"\", \"zerolinecolor\": \"white\"}, \"zaxis\": {\"backgroundcolor\": \"#E5ECF6\", \"gridcolor\": \"white\", \"gridwidth\": 2, \"linecolor\": \"white\", \"showbackground\": true, \"ticks\": \"\", \"zerolinecolor\": \"white\"}}, \"shapedefaults\": {\"line\": {\"color\": \"#2a3f5f\"}}, \"ternary\": {\"aaxis\": {\"gridcolor\": \"white\", \"linecolor\": \"white\", \"ticks\": \"\"}, \"baxis\": {\"gridcolor\": \"white\", \"linecolor\": \"white\", \"ticks\": \"\"}, \"bgcolor\": \"#E5ECF6\", \"caxis\": {\"gridcolor\": \"white\", \"linecolor\": \"white\", \"ticks\": \"\"}}, \"title\": {\"x\": 0.05}, \"xaxis\": {\"automargin\": true, \"gridcolor\": \"white\", \"linecolor\": \"white\", \"ticks\": \"\", \"title\": {\"standoff\": 15}, \"zerolinecolor\": \"white\", \"zerolinewidth\": 2}, \"yaxis\": {\"automargin\": true, \"gridcolor\": \"white\", \"linecolor\": \"white\", \"ticks\": \"\", \"title\": {\"standoff\": 15}, \"zerolinecolor\": \"white\", \"zerolinewidth\": 2}}}, \"width\": 1000, \"xaxis\": {\"range\": [0, 680], \"showgrid\": false}, \"yaxis\": {\"range\": [110, 520]}},\n",
       "                        {\"responsive\": true}\n",
       "                    ).then(function(){\n",
       "                            \n",
       "var gd = document.getElementById('f95a98e4-6875-40ca-b012-2b1b60626158');\n",
       "var x = new MutationObserver(function (mutations, observer) {{\n",
       "        var display = window.getComputedStyle(gd).display;\n",
       "        if (!display || display === 'none') {{\n",
       "            console.log([gd, 'removed!']);\n",
       "            Plotly.purge(gd);\n",
       "            observer.disconnect();\n",
       "        }}\n",
       "}});\n",
       "\n",
       "// Listen for the removal of the full notebook cells\n",
       "var notebookContainer = gd.closest('#notebook-container');\n",
       "if (notebookContainer) {{\n",
       "    x.observe(notebookContainer, {childList: true});\n",
       "}}\n",
       "\n",
       "// Listen for the clearing of the current output cell\n",
       "var outputEl = gd.closest('.output');\n",
       "if (outputEl) {{\n",
       "    x.observe(outputEl, {childList: true});\n",
       "}}\n",
       "\n",
       "                        })\n",
       "                };\n",
       "                });\n",
       "            </script>\n",
       "        </div>"
      ]
     },
     "metadata": {},
     "output_type": "display_data"
    }
   ],
   "source": [
    "import sys\n",
    "sys.path.insert(1, '../../SourceCode/')\n",
    "import DaedalusGlobals as DaedalusGlobals\n",
    "\n",
    "from os import path\n",
    "\n",
    "import csv\n",
    "import glob\n",
    "import time\n",
    "import datetime\n",
    "import numpy as np \n",
    "import ipywidgets as w\n",
    "\n",
    "import plotly\n",
    "import chart_studio.plotly as py \n",
    "import plotly.graph_objects as go\n",
    "import matplotlib.cm\n",
    "\n",
    "# Holds the Geomagnetic kp Indices. \n",
    "# Accessing examples: GeomagneticIndices[(\"23\", \"05\", \"2011\", \"0\")] stores the kp index for 23-05-2001 00:00-03:00\n",
    "#                     GeomagneticIndices[(\"23\", \"05\", \"2011\", \"3\")] stores the kp index for 23-05-2001 09:00-12:00\n",
    "GeomagneticIndices = dict()\n",
    "\n",
    "# GUI elements with global scope\n",
    "style1 = {'description_width':'170px'}\n",
    "layout1 = {'width':'780px'}\n",
    "ExecutionTitle_Text = w.Text(value=\"\", description='Execution title:', style=style1, layout=layout1)\n",
    "ExecutionDescr_Text = w.Text(value=\"\", description='Execution description:', style=style1, layout=layout1)\n",
    "OrbitFilenames_Dropdown = w.Dropdown( options=glob.glob( DaedalusGlobals.Orbit_Files_Path + \"DAED_ORB_Lifetime*.csv\" ), description='Orbit files: ', style=style1, layout=layout1)\n",
    "Years_Dropdown = w.Dropdown( value=2011, options=range(1932,2016),  description='Use Kp indices from year:', style=style1, layout=layout1)\n",
    "SavedFilenames_Dropdown = w.Dropdown( options=glob.glob( DaedalusGlobals.CoverageResults_Files_Path + \"*.CoverageResults.txt\" ),  description='', style=style1, layout=layout1)\n",
    "\n",
    "\n",
    "# utility: converts a number to its 2-digit string representation\n",
    "def num_to_2digit_str( n ):\n",
    "    s = str(n)\n",
    "    if len(s) == 1:\n",
    "        s = '0' + s\n",
    "    return s\n",
    "\n",
    "# utility: returns a color of a colormap as list of r,g,b,a values representing a value inside a range\n",
    "def getColor( Value, minValue, maxValue, ColormapName ):\n",
    "    cmap = matplotlib.cm.get_cmap( ColormapName )\n",
    "    norm = matplotlib.colors.Normalize(vmin=minValue, vmax=maxValue)\n",
    "    rgba = cmap( norm(Value) )\n",
    "    s = \"rgba\" + str(rgba) \n",
    "    return s\n",
    "\n",
    "# Define a class which can describe a bin\n",
    "class Bin:\n",
    "    ID             = \"\"\n",
    "    Description    = \"\"\n",
    "    MLT_min        = 0 # Mean Local Time (hour & min of the 24-hour day) (string)\n",
    "    MLT_max        = 0 # Mean Local Time (hour & min of the 24-hour day) (string)\n",
    "    MagLat_min     = 0 # Magnetic Latitude (degrees)\n",
    "    MagLat_max     = 0 # Magnetic Latitude (degrees)\n",
    "    Altitude_min   = 0 # Satellite's Altitude measured from Earth's surface (km)\n",
    "    Altitude_max   = 0 # Satellite's Altitude measured from Earth's surface (km)\n",
    "    Kp_min         = 0 #\n",
    "    Kp_max         = 0 #\n",
    "    NumOfBins      = 0 # How many parts will the Altitude range be splitted in\n",
    "    CumulativeTime = 0 # (sec)\n",
    "    DesirableCumulativeTime = 0 # (sec)\n",
    "    \n",
    "    def __init__(self, ID, Description, MLT_min, MLT_max, MagLat_min, MagLat_max, Altitude_min, Altitude_max, Kp_min, Kp_max, DesirableCumulativeTime):\n",
    "        self.ID             = ID\n",
    "        self.Description    = Description\n",
    "        self.MLT_min        = MLT_min \n",
    "        self.MLT_max        = MLT_max\n",
    "        self.MagLat_min     = MagLat_min\n",
    "        self.MagLat_max     = MagLat_max\n",
    "        self.Altitude_min   = Altitude_min\n",
    "        self.Altitude_max   = Altitude_max\n",
    "        self.Kp_min         = Kp_min\n",
    "        self.Kp_max         = Kp_max\n",
    "        self.DesirableCumulativeTime = DesirableCumulativeTime\n",
    "        \n",
    "    def getInfo(self):\n",
    "        s  = self.ID.ljust(8, ' ') + \": \"\n",
    "        s += \"%02.0f\"%(self.MLT_min)      + \"<MLT<=\"    + \"%02.0f\"%(self.MLT_max)      + \" \"\n",
    "        s += \"%03.0f\"%(self.MagLat_min)   + \"<MagLat<=\" + \"%03.0f\"%(self.MagLat_max)   + \" \"\n",
    "        s += \"%03.0f\"%(self.Altitude_min) + \"<Alt<=\"    + \"%03.0f\"%(self.Altitude_max) + \" \"\n",
    "        s += str(self.Kp_min)             + \"<Kp<=\"     + str(self.Kp_max)       + \" \"\n",
    "        s += \"Coverage=\" + \"%06.0f\"%(self.CumulativeTime/60) + \"/\" + \"%03.0f\"%(self.DesirableCumulativeTime/60) + \"min\"\n",
    "        return s\n",
    "    \n",
    "    def printMe(self):\n",
    "        print( self.getInfo() )\n",
    "\n",
    "# this list holds the definitions of all bins\n",
    "Bins = list()\n",
    "#                ID        Description                          MLT      MagLat    Altitude                Kp       DesiredTime(sec)\n",
    "Bins.append( Bin(\"AEM_L1\", \"Auroral E region, midnight sector\", 22, 2,   60, 75,   115, 120,               0, 2,   50*60 ) )\n",
    "Bins.append( Bin(\"AEM_L2\", \"Auroral E region, midnight sector\", 22, 2,   60, 75,   120, 125,               0, 2,   50*60 ) )\n",
    "Bins.append( Bin(\"AEM_L3\", \"Auroral E region, midnight sector\", 22, 2,   60, 75,   125, 130,               0, 2,   50*60 ) )\n",
    "Bins.append( Bin(\"AEM_L4\", \"Auroral E region, midnight sector\", 22, 2,   60, 75,   130, 135,               0, 2,   50*60 ) )\n",
    "Bins.append( Bin(\"AEM_L5\", \"Auroral E region, midnight sector\", 22, 2,   60, 75,   135, 140,               0, 2,   50*60 ) )\n",
    "Bins.append( Bin(\"AEM_M1\", \"Auroral E region, midnight sector\", 22, 2,   60, 75,   115,       123.33333,   2, 4,   30*60 ) )\n",
    "Bins.append( Bin(\"AEM_M2\", \"Auroral E region, midnight sector\", 22, 2,   60, 75,   123.33333, 131.66666,   2, 4,   30*60 ) )\n",
    "Bins.append( Bin(\"AEM_M3\", \"Auroral E region, midnight sector\", 22, 2,   60, 75,   131.66666, 140,         2, 4,   30*60 ) )\n",
    "Bins.append( Bin(\"AEM_H1\", \"Auroral E region, midnight sector\", 22, 2,   60, 75,   115, 140,               4, 9,   20*60 ) )\n",
    "\n",
    "Bins.append( Bin(\"AFM_L1\", \"Auroral F region, midnight sector\", 22, 2,   60, 75,   140, 185,               0, 2,   50*60 ) )\n",
    "Bins.append( Bin(\"AFM_L2\", \"Auroral F region, midnight sector\", 22, 2,   60, 75,   185, 230,               0, 2,   50*60 ) )\n",
    "Bins.append( Bin(\"AFM_L3\", \"Auroral F region, midnight sector\", 22, 2,   60, 75,   230, 275,               0, 2,   50*60 ) )\n",
    "Bins.append( Bin(\"AFM_L4\", \"Auroral F region, midnight sector\", 22, 2,   60, 75,   275, 320,               0, 2,   50*60 ) )\n",
    "Bins.append( Bin(\"AFM_L5\", \"Auroral F region, midnight sector\", 22, 2,   60, 75,   320, 365,               0, 2,   50*60 ) )\n",
    "Bins.append( Bin(\"AFM_L6\", \"Auroral F region, midnight sector\", 22, 2,   60, 75,   365, 410,               0, 2,   50*60 ) )\n",
    "Bins.append( Bin(\"AFM_L7\", \"Auroral F region, midnight sector\", 22, 2,   60, 75,   410, 455,               0, 2,   50*60 ) )\n",
    "Bins.append( Bin(\"AFM_L8\", \"Auroral F region, midnight sector\", 22, 2,   60, 75,   455, 500,               0, 2,   50*60 ) )\n",
    "Bins.append( Bin(\"AFM_M1\", \"Auroral F region, midnight sector\", 22, 2,   60, 75,   140, 230,               2, 4,   30*60 ) )\n",
    "Bins.append( Bin(\"AFM_M2\", \"Auroral F region, midnight sector\", 22, 2,   60, 75,   230, 320,               2, 4,   30*60 ) )\n",
    "Bins.append( Bin(\"AFM_M3\", \"Auroral F region, midnight sector\", 22, 2,   60, 75,   320, 410,               2, 4,   30*60 ) )\n",
    "Bins.append( Bin(\"AFM_M4\", \"Auroral F region, midnight sector\", 22, 2,   60, 75,   410, 500,               2, 4,   30*60 ) )\n",
    "Bins.append( Bin(\"AFM_H1\", \"Auroral F region, midnight sector\", 22, 2,   60, 75,   140, 260,               4, 9,   20*60 ) )\n",
    "Bins.append( Bin(\"AFM_H2\", \"Auroral F region, midnight sector\", 22, 2,   60, 75,   260, 380,               4, 9,   20*60 ) )\n",
    "Bins.append( Bin(\"AFM_H3\", \"Auroral F region, midnight sector\", 22, 2,   60, 75,   380, 500,               4, 9,   20*60 ) )\n",
    "\n",
    "Bins.append( Bin(\"AEE_L1\", \"Auroral E region, evening sector\",  16, 20,  60, 75,   115, 120,               0, 2,   50*60 ) )\n",
    "Bins.append( Bin(\"AEE_L2\", \"Auroral E region, evening sector\",  16, 20,  60, 75,   120, 125,               0, 2,   50*60 ) )\n",
    "Bins.append( Bin(\"AEE_L3\", \"Auroral E region, evening sector\",  16, 20,  60, 75,   125, 130,               0, 2,   50*60 ) )\n",
    "Bins.append( Bin(\"AEE_L4\", \"Auroral E region, evening sector\",  16, 20,  60, 75,   130, 135,               0, 2,   50*60 ) )\n",
    "Bins.append( Bin(\"AEE_L5\", \"Auroral E region, evening sector\",  16, 20,  60, 75,   135, 140,               0, 2,   50*60 ) )\n",
    "Bins.append( Bin(\"AEE_M1\", \"Auroral E region, evening sector\",  16, 20,  60, 75,   115,       123.33333,   2, 4,   30*60 ) )\n",
    "Bins.append( Bin(\"AEE_M2\", \"Auroral E region, evening sector\",  16, 20,  60, 75,   123.33333, 131.66666,   2, 4,   30*60 ) )\n",
    "Bins.append( Bin(\"AEE_M3\", \"Auroral E region, evening sector\",  16, 20,  60, 75,   131.66666, 140,         2, 4,   30*60 ) )\n",
    "Bins.append( Bin(\"AEE_H1\", \"Auroral E region, evening sector\",  16, 20,  60, 75,   115, 140,               4, 9,   20*60 ) )\n",
    "\n",
    "Bins.append( Bin(\"AED_L1\", \"Auroral E region, dawn sector\",     4, 8,  60, 75,   115, 120,                 0, 2,   50*60 ) )\n",
    "Bins.append( Bin(\"AED_L2\", \"Auroral E region, dawn sector\",     4, 8,  60, 75,   120, 125,                 0, 2,   50*60 ) )\n",
    "Bins.append( Bin(\"AED_L3\", \"Auroral E region, dawn sector\",     4, 8,  60, 75,   125, 130,                 0, 2,   50*60 ) )\n",
    "Bins.append( Bin(\"AED_L4\", \"Auroral E region, dawn sector\",     4, 8,  60, 75,   130, 135,                 0, 2,   50*60 ) )\n",
    "Bins.append( Bin(\"AED_L5\", \"Auroral E region, dawn sector\",     4, 8,  60, 75,   135, 140,                 0, 2,   50*60 ) )\n",
    "Bins.append( Bin(\"AED_M1\", \"Auroral E region, dawn sector\",     4, 8,  60, 75,   115,       123.33333,     2, 4,   30*60 ) )\n",
    "Bins.append( Bin(\"AED_M2\", \"Auroral E region, dawn sector\",     4, 8,  60, 75,   123.33333, 131.66666,     2, 4,   30*60 ) )\n",
    "Bins.append( Bin(\"AED_M3\", \"Auroral E region, dawn sector\",     4, 8,  60, 75,   131.66666, 140,           2, 4,   30*60 ) )\n",
    "Bins.append( Bin(\"AED_H1\", \"Auroral E region, dawn sector\",     4, 8,  60, 75,   115, 140,                 4, 9,   20*60 ) )\n",
    "\n",
    "Bins.append( Bin(\"EEJ_A1\", \"Equatorial E-region\",             10, 13,  -7,  7,   115,       123.33333,     0, 9,   10*60 ) )\n",
    "Bins.append( Bin(\"EEJ_A2\", \"Equatorial E-region\",             10, 13,  -7,  7,   123.33333, 131.66666,     0, 9,   10*60 ) )\n",
    "Bins.append( Bin(\"EEJ_A3\", \"Equatorial E-region\",             10, 13,  -7,  7,   131.66666, 140,           0, 9,   10*60 ) )\n",
    "\n",
    "Bins.append( Bin(\"EPB_A1\", \"Equatorial Plasma Bubbles\",       18,  4, -30, 30,   140, 185,                  0, 9,   150*60 ) )\n",
    "Bins.append( Bin(\"EPB_A2\", \"Equatorial Plasma Bubbles\",       18,  4, -30, 30,   185, 230,                  0, 9,   150*60 ) )\n",
    "Bins.append( Bin(\"EPB_A3\", \"Equatorial Plasma Bubbles\",       18,  4, -30, 30,   230, 275,                  0, 9,   150*60 ) )\n",
    "Bins.append( Bin(\"EPB_A4\", \"Equatorial Plasma Bubbles\",       18,  4, -30, 30,   275, 320,                  0, 9,   150*60 ) )\n",
    "Bins.append( Bin(\"EPB_A5\", \"Equatorial Plasma Bubbles\",       18,  4, -30, 30,   320, 365,                  0, 9,   150*60 ) )\n",
    "Bins.append( Bin(\"EPB_A6\", \"Equatorial Plasma Bubbles\",       18,  4, -30, 30,   365, 410,                  0, 9,   150*60 ) )\n",
    "Bins.append( Bin(\"EPB_A7\", \"Equatorial Plasma Bubbles\",       18,  4, -30, 30,   410, 455,                  0, 9,   150*60 ) )\n",
    "Bins.append( Bin(\"EPB_A8\", \"Equatorial Plasma Bubbles\",       18,  4, -30, 30,   455, 500,                  0, 9,   150*60 ) )\n",
    "\n",
    "Bins.append( Bin(\"SQ_A1\",  \"Sq & midlat F region currents\",    6, 19, -60, 60,   140, 185,                  0, 3,   150*60 ) )\n",
    "Bins.append( Bin(\"SQ_A2\",  \"Sq & midlat F region currents\",    6, 19, -60, 60,   185, 230,                  0, 3,   150*60 ) )\n",
    "Bins.append( Bin(\"SQ_A3\",  \"Sq & midlat F region currents\",    6, 19, -60, 60,   230, 275,                  0, 3,   150*60 ) )\n",
    "Bins.append( Bin(\"SQ_A4\",  \"Sq & midlat F region currents\",    6, 19, -60, 60,   275, 320,                  0, 3,   150*60 ) )\n",
    "Bins.append( Bin(\"SQ_A5\",  \"Sq & midlat F region currents\",    6, 19, -60, 60,   320, 365,                  0, 3,   150*60 ) )\n",
    "Bins.append( Bin(\"SQ_A6\",  \"Sq & midlat F region currents\",    6, 19, -60, 60,   365, 410,                  0, 3,   150*60 ) )\n",
    "Bins.append( Bin(\"SQ_A7\",  \"Sq & midlat F region currents\",    6, 19, -60, 60,   410, 455,                  0, 3,   150*60 ) )\n",
    "Bins.append( Bin(\"SQ_A8\",  \"Sq & midlat F region currents\",    6, 19, -60, 60,   455, 500,                  0, 3,   150*60 ) )\n",
    "\n",
    "Bins.append( Bin(\"CF_L1\", \"Dayside Cusp F-region\",            10, 14,   70,  80,   140, 185,                0, 2,   50*60 ) )\n",
    "Bins.append( Bin(\"CF_L2\", \"Dayside Cusp F-region\",            10, 14,   70,  80,   185, 230,                0, 2,   50*60 ) )\n",
    "Bins.append( Bin(\"CF_L3\", \"Dayside Cusp F-region\",            10, 14,   70,  80,   230, 275,                0, 2,   50*60 ) )\n",
    "Bins.append( Bin(\"CF_L4\", \"Dayside Cusp F-region\",            10, 14,   70,  80,   275, 320,                0, 2,   50*60 ) )\n",
    "Bins.append( Bin(\"CF_L5\", \"Dayside Cusp F-region\",            10, 14,   70,  80,   320, 365,                0, 2,   50*60 ) )\n",
    "Bins.append( Bin(\"CF_L6\", \"Dayside Cusp F-region\",            10, 14,   70,  80,   365, 410,                0, 2,   50*60 ) )\n",
    "Bins.append( Bin(\"CF_L7\", \"Dayside Cusp F-region\",            10, 14,   70,  80,   410, 455,                0, 2,   50*60 ) )\n",
    "Bins.append( Bin(\"CF_L8\", \"Dayside Cusp F-region\",            10, 14,   70,  80,   455, 500,                0, 2,   50*60 ) )\n",
    "Bins.append( Bin(\"CF_M1\", \"Dayside Cusp F-region\",            10, 14,   70,  80,   140, 230,               2, 4,   30*60 ) )\n",
    "Bins.append( Bin(\"CF_M2\", \"Dayside Cusp F-region\",            10, 14,   70,  80,   230, 320,               2, 4,   30*60 ) )\n",
    "Bins.append( Bin(\"CF_M3\", \"Dayside Cusp F-region\",            10, 14,   70,  80,   320, 410,               2, 4,   30*60 ) )\n",
    "Bins.append( Bin(\"CF_M4\", \"Dayside Cusp F-region\",            10, 14,   70,  80,   410, 500,               2, 4,   30*60 ) )\n",
    "Bins.append( Bin(\"CF_H1\", \"Dayside Cusp F-region\",            10, 14,   70,  80,   140, 260,               4, 9,   20*60 ) )\n",
    "Bins.append( Bin(\"CF_H2\", \"Dayside Cusp F-region\",            10, 14,   70,  80,   260, 380,               4, 9,   20*60 ) )\n",
    "Bins.append( Bin(\"CF_H3\", \"Dayside Cusp F-region\",            10, 14,   70,  80,   380, 500,               4, 9,   20*60 ) )\n",
    "\n",
    "Bins.append( Bin(\"PCF_L1\", \"Polar cap F-region\",              14, 10,   70,  90,   140, 185,               0, 2,   50*60 ) )\n",
    "Bins.append( Bin(\"PCF_L2\", \"Polar cap F-region\",              14, 10,   70,  90,   185, 230,               0, 2,   50*60 ) )\n",
    "Bins.append( Bin(\"PCF_L3\", \"Polar cap F-region\",              14, 10,   70,  90,   230, 275,               0, 2,   50*60 ) )\n",
    "Bins.append( Bin(\"PCF_L4\", \"Polar cap F-region\",              14, 10,   70,  90,   275, 320,               0, 2,   50*60 ) )\n",
    "Bins.append( Bin(\"PCF_L5\", \"Polar cap F-region\",              14, 10,   70,  90,   320, 365,               0, 2,   50*60 ) )\n",
    "Bins.append( Bin(\"PCF_L6\", \"Polar cap F-region\",              14, 10,   70,  90,   365, 410,               0, 2,   50*60 ) )\n",
    "Bins.append( Bin(\"PCF_L7\", \"Polar cap F-region\",              14, 10,   70,  90,   410, 455,               0, 2,   50*60 ) )\n",
    "Bins.append( Bin(\"PCF_L8\", \"Polar cap F-region\",              14, 10,   70,  90,   455, 500,               0, 2,   50*60 ) )\n",
    "Bins.append( Bin(\"PCF_M1\", \"Polar cap F-region\",              14, 10,   70,  90,   140, 230,               2, 4,   30*60 ) )\n",
    "Bins.append( Bin(\"PCF_M2\", \"Polar cap F-region\",              14, 10,   70,  90,   230, 320,               2, 4,   30*60 ) )\n",
    "Bins.append( Bin(\"PCF_M3\", \"Polar cap F-region\",              14, 10,   70,  90,   320, 410,               2, 4,   30*60 ) )\n",
    "Bins.append( Bin(\"PCF_M4\", \"Polar cap F-region\",              14, 10,   70,  90,   410, 500,               2, 4,   30*60 ) )\n",
    "Bins.append( Bin(\"PCF_H1\", \"Polar cap F-region\",              14, 10,   70,  90,   140, 260,               4, 9,   20*60 ) )\n",
    "Bins.append( Bin(\"PCF_H2\", \"Polar cap F-region\",              14, 10,   70,  90,   260, 380,               4, 9,   20*60 ) )\n",
    "Bins.append( Bin(\"PCF_H3\", \"Polar cap F-region\",              14, 10,   70,  90,   380, 500,               4, 9,   20*60 ) )\n",
    "\n",
    "\n",
    "\n",
    "def createBinsForTheWholeEarth():\n",
    "    n = 1\n",
    "    for Kp_min in [0, 2, 4]:\n",
    "        if Kp_min == 0:\n",
    "            Kp_max = 2\n",
    "        elif Kp_min == 2:\n",
    "            Kp_max = 4\n",
    "        elif Kp_min == 4:\n",
    "            Kp_max = 9\n",
    "        ####\n",
    "        for MLT_min in range(0, 24, 4):\n",
    "            for MagLat_min in range(-180, 180, 20):\n",
    "                for Alt_min in range(115, 250, 25):\n",
    "                    n = n + 1\n",
    "                    Bins.append( Bin(\"E\"+str(n), \"\",            MLT_min, MLT_min+4,   MagLat_min, MagLat_min+15,   Alt_min, Alt_min+25,               Kp_min, Kp_max,   20*60 ) )                    \n",
    "    print ( len(Bins) + \" Bins covering the whole Earth.\")\n",
    "    \n",
    "#createBinsForTheWholeEarth()\n",
    "\n",
    "# cheks if certain MLT lies in a certain range. Created in order to take account ranges like 22-2\n",
    "def is_MLT_inside_range( MLT, MLT_min, MLT_max ):\n",
    "    if MLT_min <= MLT_max: # example from 13 to 18 hour\n",
    "        return (MLT > MLT_min  and  MLT <= MLT_max)\n",
    "    else: # example from 22 to 3 hour\n",
    "        return (MLT > MLT_min  or   MLT <= MLT_max)\n",
    "\n",
    "# returns: the bin object which matches the arguments\n",
    "def GetMatchedBin( MLT, MagLat, Altitude, Kp, Duration ):\n",
    "    for B in Bins:\n",
    "        Kp_min_to_check = B.Kp_min\n",
    "        if Kp_min_to_check == 0:\n",
    "            Kp_min_to_check = -1\n",
    "        ####\n",
    "        if is_MLT_inside_range(MLT, B.MLT_min, B.MLT_max):\n",
    "            if         MagLat   > B.MagLat_min    and  MagLat   <= B.MagLat_max:\n",
    "                if     Altitude > B.Altitude_min  and  Altitude <= B.Altitude_max:\n",
    "                    if Kp       > Kp_min_to_check and  Kp       <= B.Kp_max:\n",
    "                        B.CumulativeTime = B.CumulativeTime + Duration \n",
    "                        return B\n",
    "    return B\n",
    "\n",
    "\n",
    "# returns: the bin object which matches the arguments\n",
    "def getBinByItsProperties( MLT_min, MLT_max, MagLat_min, MagLat_max, Altitude_min, Altitude_max, Kp_min, Kp_max ):\n",
    "    CorrectBin = None\n",
    "    for B in Bins:\n",
    "        if             MLT_min      == B.MLT_min       and  MLT_max      == B.MLT_max:\n",
    "            if         MagLat_min   == B.MagLat_min    and  MagLat_max   == B.MagLat_max:\n",
    "                if     Altitude_min == B.Altitude_min  and  Altitude_max == B.Altitude_max:\n",
    "                    if Kp_min       == B.Kp_min        and  Kp_max       == B.Kp_max:\n",
    "                        CorrectBin = B\n",
    "                        return CorrectBin\n",
    "    return CorrectBin\n",
    "\n",
    "\n",
    "# Reads the Geomagnetic kp Indices from text files and stores them in a dictionary.\n",
    "# Data Source (explanation): https://www.ngdc.noaa.gov/stp/GEOMAG/kp_ap.html\n",
    "# Data Source (download)   : ftp://ftp.ngdc.noaa.gov/STP/GEOMAGNETIC_DATA/INDICES/KP_AP\n",
    "def readGeomagneticIndices():\n",
    "    global GeomagneticIndices\n",
    "    for Y in range(Years_Dropdown.value, Years_Dropdown.value+4): # this range should be small for execution speed\n",
    "        with open(DaedalusGlobals.GeomagneticIndices_Files_Path + str(Y)) as fp:\n",
    "            for line in fp:\n",
    "                year  = \"20\" + line[0:2]\n",
    "                month = line[2:4]\n",
    "                day   = line[4:6]\n",
    "                kp00  = float(line[12:14]) / 10\n",
    "                kp03  = float(line[14:16]) / 10\n",
    "                kp06  = float(line[16:18]) / 10\n",
    "                kp09  = float(line[18:20]) / 10\n",
    "                kp12  = float(line[20:22]) / 10\n",
    "                kp15  = float(line[22:24]) / 10\n",
    "                kp18  = float(line[24:26]) / 10\n",
    "                kp21  = float(line[26:28]) / 10\n",
    "                GeomagneticIndices[(day, month, year, \"0\")] = kp00\n",
    "                GeomagneticIndices[(day, month, year, \"1\")] = kp03\n",
    "                GeomagneticIndices[(day, month, year, \"2\")] = kp06\n",
    "                GeomagneticIndices[(day, month, year, \"3\")] = kp09\n",
    "                GeomagneticIndices[(day, month, year, \"4\")] = kp12\n",
    "                GeomagneticIndices[(day, month, year, \"5\")] = kp15\n",
    "                GeomagneticIndices[(day, month, year, \"6\")] = kp18\n",
    "                GeomagneticIndices[(day, month, year, \"7\")] = kp21\n",
    "            fp.close()\n",
    "        \n",
    "# returns: 1. how many bin misses occured\n",
    "#          2. how many bin hits occured\n",
    "#          3. the filename where the coverage results are stored\n",
    "#          4. the duration of execution in seconds\n",
    "def CalculateCoverage():\n",
    "    Kp = 0\n",
    "    startSecs = time.time()\n",
    "    BinMisses = BinHits = 0\n",
    "    PREV_time  = CURR_time  = None\n",
    "    PREV_BinID = CURR_BinID = \"\"\n",
    "    SelectedOrbit_OnlyFilename = OrbitFilenames_Dropdown.value[OrbitFilenames_Dropdown.value.rfind(\"/\")+1:OrbitFilenames_Dropdown.value.rfind(\".\")]\n",
    "    if path.exists( OrbitFilenames_Dropdown.value ):\n",
    "        print( \"File \" + SelectedOrbit_OnlyFilename + \" already exists. Cannot continue in order to prevent overwriting useful data.\" )\n",
    "        return 0, 0, \"\", 0 # <<<<\n",
    "    with open( OrbitFilenames_Dropdown.value ) as CSVfile:        \n",
    "        CSVreader = csv.reader( CSVfile )\n",
    "        # locate the column numnbers of interest inside the csv file\n",
    "        CSVheader = next( CSVreader )\n",
    "        Time_idx     = CSVheader.index( \"Time (UTCG)\" ) #CSVheader.index( \"Daedalus.EpochText\" )\n",
    "        Lat_idx      = CSVheader.index( \"Lat (deg)\" ) #CSVheader.index( \"Daedalus.Latitude\" )\n",
    "        Lon_idx      = CSVheader.index( \"Lon (deg)\" ) #CSVheader.index( \"Daedalus.Longitude\" )\n",
    "        Altitude_idx = CSVheader.index( \"Alt (km)\" ) #CSVheader.index( \"Daedalus.Height\" )\n",
    "        MagLat_idx   = CSVheader.index( \"Daedalus.Magnetic Latitude\" )\n",
    "        MLT_idx      = CSVheader.index( \"Daedalus.MLT\" )\n",
    "        # read the satellite positions and try to fill the bins\n",
    "        n = 0\n",
    "        for row in CSVreader: # for each satellite position\n",
    "            n = n + 1\n",
    "            PREV_time = CURR_time\n",
    "            # find out the date-time of this satellite position\n",
    "            CURR_time = datetime.datetime.strptime(row[Time_idx], '%d %b %Y %H:%M:%S.%f')\n",
    "            year  = CURR_time.year\n",
    "            month = CURR_time.month\n",
    "            day   = CURR_time.day\n",
    "            hour  = CURR_time.hour\n",
    "            # calculate the Kp index for this particular time\n",
    "            try:\n",
    "                Kp = GeomagneticIndices[(num_to_2digit_str(day), num_to_2digit_str(month), num_to_2digit_str(Years_Dropdown.value), str(hour//3))]\n",
    "            except:\n",
    "                if month==2 and day==29: # the leap years may correspond to non-leap years at the selected range of years for Kp calculation\n",
    "                    Kp = GeomagneticIndices[(num_to_2digit_str(28), num_to_2digit_str(month), num_to_2digit_str(Years_Dropdown.value), str(hour//3))]\n",
    "            # find out some useful properties of this satellite position\n",
    "            MLT      = float( row[MLT_idx] )\n",
    "            MagLat   = float( row[MagLat_idx] )\n",
    "            Altitude = float( row[Altitude_idx] )\n",
    "            # Check if the satellite position can be assigned to a bin\n",
    "            mathedBin = GetMatchedBin( MLT, MagLat, Altitude, Kp, 0 )\n",
    "            PREV_BinID = CURR_BinID\n",
    "            CURR_BinID = mathedBin.ID\n",
    "            # If the satellite is inside a bin then calculate the duration\n",
    "            if len(CURR_BinID) > 0  and  CURR_BinID == PREV_BinID:\n",
    "                BinHits = BinHits + 1\n",
    "                DurationInsideBin = (CURR_time - PREV_time).seconds\n",
    "                mathedBin.CumulativeTime = mathedBin.CumulativeTime + DurationInsideBin \n",
    "            elif len(CURR_BinID) > 0:\n",
    "                BinMisses = BinMisses + 1\n",
    "    # calculate duration of execution\n",
    "    finishSecs = time.time()\n",
    "    DurationOfExecution = finishSecs-startSecs\n",
    "    # Save the results in a text file\n",
    "    nowstr = datetime.datetime.now().strftime(\"%d-%m-%Y %H:%M:%S\")\n",
    "    filename = DaedalusGlobals.CoverageResults_Files_Path + SelectedOrbit_OnlyFilename + \".CoverageResults.txt\"\n",
    "    F = open(filename, 'w')\n",
    "    F.write( \"# -- COVERAGE RESULTS -- \" + \"\\n\"  )\n",
    "    F.write( \"# Date of execution: \" + nowstr + \"\\n\" )\n",
    "    F.write( \"# Title: \" + ExecutionTitle_Text.value + \"\\n\" )\n",
    "    F.write( \"# Description: \" + ExecutionDescr_Text.value + \"\\n\")\n",
    "    F.write( \"# Parsed \" + str(n) + \" lines from orbit file \" + OrbitFilenames_Dropdown.value + \"\\n\")\n",
    "    F.write( \"# Used Kp indices starting from year \" + str(Years_Dropdown.value) + \"\\n\")\n",
    "    F.write( \"# Bin Misses: \" + str(BinMisses) + \"     Bin Hits: \" + str(BinHits) + \"\\n\")\n",
    "    F.write( \"# Duration of execution: \" + str(DurationOfExecution) + \" seconds = \" + str(DurationOfExecution/60) + \" minutes\" + \"\\n\" )\n",
    "    F.write( \"# \" + \"\\n\")\n",
    "    for B in Bins:\n",
    "        F.write( B.getInfo() + \"\\n\" )\n",
    "    F.close()\n",
    "    #\n",
    "    return BinMisses, BinHits, filename, DurationOfExecution\n",
    "\n",
    "        \n",
    "\n",
    "#################### EVENT LISTENERS ###########################\n",
    "def Exec_Btn_Clicked( b ):\n",
    "    print( \"Coverage Calculation started.\" )\n",
    "    readGeomagneticIndices()\n",
    "    BinMisses, BinHits, filename, Duration = CalculateCoverage()\n",
    "    print( \"Coverage Calculation finshed in \" + str(Duration) + \" seconds, with \" + str(BinMisses) + \" bin misses, \" + str(BinHits) + \" bin hits.\" )\n",
    "    print( \"RESULTS (stored in \" + filename + \"):\" )\n",
    "    for B in Bins:\n",
    "        B.printMe()\n",
    "    PlotBins_Rectangles()\n",
    "def Load_Btn_Clicked( b ):\n",
    "    if len(SavedFilenames_Dropdown.value) > 0:\n",
    "        with open(SavedFilenames_Dropdown.value, 'r') as F:\n",
    "            for line in F:\n",
    "                if line[0:1] == '#': # this line contains a comment, print it as it is.\n",
    "                    print ( line[1:len(line)-1] )\n",
    "                else: # this line contains bin info, print it and store them in the correct bin.\n",
    "                    print ( line[:len(line)-1] )\n",
    "                    aBinID = line[:line.find(\":\")]\n",
    "                    aCoverageValue = line[line.rfind(\"=\")+1:line.rfind(\"/\")]\n",
    "                    for B in Bins:\n",
    "                        if B.ID == aBinID:\n",
    "                            B.CumulativeTime = aCoverageValue\n",
    "        F.close()\n",
    "        PlotBins_Rectangles()\n",
    "################################################################\n",
    "def createGUI():\n",
    "    MainTab = w.Tab() # the top level visual element\n",
    "    CalcCoveragePanel = w.VBox()\n",
    "    LoadCoveragePanel = w.HBox()\n",
    "    MainTab.children = [ CalcCoveragePanel,    LoadCoveragePanel ]\n",
    "    MainTab.set_title(0, 'Calculate Coverage')\n",
    "    MainTab.set_title(1, 'Load Coverage')\n",
    "    ## \n",
    "    Exec_Btn = w.Button (description='Calculate Coverage',tooltip=\"Click here to calculate the Daedalus coverage results\",)\n",
    "    Exec_Btn.style.button_color = 'MediumTurquoise'\n",
    "    Exec_Btn.on_click( Exec_Btn_Clicked )\n",
    "    CalcCoveragePanel.children = [OrbitFilenames_Dropdown, ExecutionTitle_Text, ExecutionDescr_Text, Years_Dropdown, Exec_Btn ]\n",
    "    ##\n",
    "    Load_Btn = w.Button (description='Load Coverage from',tooltip=\"Click here to plot the Daedalus coverage results\",)\n",
    "    Load_Btn.style.button_color = 'YellowGreen'\n",
    "    Load_Btn.on_click( Load_Btn_Clicked )\n",
    "    LoadCoveragePanel.children += (Load_Btn,)\n",
    "    LoadCoveragePanel.children += (SavedFilenames_Dropdown,)\n",
    "    return MainTab\n",
    "        \n",
    "    \n",
    "\n",
    "\n",
    "def PlotBins_Rectangles():\n",
    "    All_MagLatRanges = list()\n",
    "    for B in Bins:\n",
    "        if [B.MagLat_min, B.MagLat_max] not in All_MagLatRanges:\n",
    "            All_MagLatRanges.append( [B.MagLat_min, B.MagLat_max] )\n",
    "    \n",
    "    for aMagLatRange in All_MagLatRanges:\n",
    "        # We will create one plot for each MagLatRange \n",
    "        fig = go.Figure()\n",
    "        \n",
    "        # find out all MLT ranges for this MagLat range\n",
    "        All_MLTRanges = list()\n",
    "        for B in Bins:\n",
    "            if B.MagLat_min==aMagLatRange[0] and  B.MagLat_max==aMagLatRange[1]:\n",
    "                if [B.MLT_min, B.MLT_max] not in All_MLTRanges:\n",
    "                    All_MLTRanges.append( [B.MLT_min, B.MLT_max] )\n",
    "        \n",
    "        # find out all Kp ranges for this MagLat range and this MLTrange \n",
    "        ColumnIDX = 0\n",
    "        for aMLTrange in All_MLTRanges:\n",
    "            All_KpRanges = list()\n",
    "            for B in Bins:\n",
    "                if B.MagLat_min==aMagLatRange[0] and  B.MagLat_max==aMagLatRange[1]:\n",
    "                    if B.MLT_min==aMLTrange[0] and  B.MLT_max==aMLTrange[1]:\n",
    "                        if [B.Kp_min, B.Kp_max] not in All_KpRanges:\n",
    "                            All_KpRanges.append( [B.Kp_min, B.Kp_max] )\n",
    "\n",
    "            # find out all Altitude ranges for this MagLat range, this MLT range and this Kp range\n",
    "            for aKpRange in All_KpRanges:\n",
    "                ColumnIDX += 1\n",
    "                All_AltitudeRanges = list()\n",
    "                for B in Bins:\n",
    "                    if B.MagLat_min==aMagLatRange[0] and  B.MagLat_max==aMagLatRange[1]:\n",
    "                        if B.MLT_min==aMLTrange[0] and  B.MLT_max==aMLTrange[1]:\n",
    "                            if B.Kp_min==aKpRange[0] and  B.Kp_max==aKpRange[1]:\n",
    "                                All_AltitudeRanges.append( [B.Altitude_min, B.Altitude_max] )\n",
    "                                    \n",
    "                # plot\n",
    "                group_title = \"\"\n",
    "                bar_title = \"Kp:\" + str(aKpRange[0]) + \"-\" + str(aKpRange[1])\n",
    "                for anAltitudeRange in All_AltitudeRanges:\n",
    "                    #print( \"Looking for\", aMLTrange[0], aMLTrange[1], aMagLatRange[0], aMagLatRange[1], anAltitudeRange[0], anAltitudeRange[1], aKpRange[0], aKpRange[1])\n",
    "                    currentBin = getBinByItsProperties( aMLTrange[0], aMLTrange[1], aMagLatRange[0], aMagLatRange[1], anAltitudeRange[0], anAltitudeRange[1], aKpRange[0], aKpRange[1] )\n",
    "                    fig.add_shape(go.layout.Shape(\n",
    "                        type=\"rect\", xref=\"x\", yref=\"y\",\n",
    "                        x0=ColumnIDX*55, y0=currentBin.Altitude_min, x1=(ColumnIDX+1)*55-10, y1=currentBin.Altitude_max,\n",
    "                        #line=dict( color=\"RoyalBlue\", width=3,), fillcolor=\"LightSkyBlue\", opacity=0.5,\n",
    "                        line=dict( color=\"RoyalBlue\", width=3,), fillcolor=getColor(currentBin.CumulativeTime, 0, currentBin.DesirableCumulativeTime, \"jet\"), opacity=0.5,\n",
    "                    ))             \n",
    "                    #BinTitle = str(currentBin.CumulativeTime) +  \" / \" + str(currentBin.DesirableCumulativeTime)  # currentBin.ID + \" \" + str(currentBin.MLT_min) + \"-\" + str(currentBin.MLT_max) + \" \" + \"Kp:\" + str(currentBin.Kp_min) + \"-\" + str(currentBin.Kp_max)\n",
    "                    BinTitle = currentBin.ID + \" \" + str(currentBin.MLT_min) + \"-\" + str(currentBin.MLT_max) + \" \" + \"Kp:\" + str(currentBin.Kp_min) + \"-\" + str(currentBin.Kp_max)\n",
    "                    print (BinTitle + \"  >>  \" + str(currentBin.Altitude_min) + \"::\" + str(currentBin.Altitude_max) )\n",
    "                    fig.add_trace(go.Scatter(x=[ColumnIDX*55],y=[currentBin.Altitude_min+10],text=[BinTitle],mode=\"text\",))\n",
    "            ColumnIDX += 1\n",
    "        \n",
    "        \n",
    "        fig.update_xaxes(range=[0, ColumnIDX*55 + 20], showgrid=False)\n",
    "        fig.update_yaxes(range=[110, 520])\n",
    "        fig.update_layout( width=1000, height=1600, )\n",
    "        plotly.offline.init_notebook_mode(connected=True)\n",
    "        plotly.offline.iplot(fig) \n",
    "        break\n",
    "    \n",
    "    \n",
    "display( createGUI() )\n",
    "\n"
   ]
  },
  {
   "cell_type": "code",
   "execution_count": null,
   "metadata": {},
   "outputs": [],
   "source": []
  },
  {
   "cell_type": "code",
   "execution_count": null,
   "metadata": {},
   "outputs": [],
   "source": []
  }
 ],
 "metadata": {
  "kernelspec": {
   "display_name": "Python 3",
   "language": "python",
   "name": "python3"
  },
  "language_info": {
   "codemirror_mode": {
    "name": "ipython",
    "version": 3
   },
   "file_extension": ".py",
   "mimetype": "text/x-python",
   "name": "python",
   "nbconvert_exporter": "python",
   "pygments_lexer": "ipython3",
   "version": "3.6.7"
  }
 },
 "nbformat": 4,
 "nbformat_minor": 2
}
