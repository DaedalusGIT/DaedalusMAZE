{
 "cells": [
  {
   "cell_type": "markdown",
   "metadata": {},
   "source": [
    "\n",
    "# Daedalus Coverage\n",
    "## Introduction\n",
    "## Data\n",
    "## Geomagnetic Kp Indices\n",
    "\n",
    "We used Kp indices from previous years as they are recorded from NOAA web site:\n",
    "\n",
    "    * Explanation: https://www.ngdc.noaa.gov/stp/GEOMAG/kp_ap.html\n",
    "    * Download location: ftp://ftp.ngdc.noaa.gov/STP/GEOMAGNETIC_DATA/INDICES/KP_AP There are available data for the years 1932-2018. The user can select which of these years' values to use for calculating the coverage for Daedalus.\n"
   ]
  },
  {
   "cell_type": "code",
   "execution_count": 1,
   "metadata": {
    "scrolled": false
   },
   "outputs": [
    {
     "data": {
      "application/vnd.jupyter.widget-view+json": {
       "model_id": "262fe05a720242dcb5ef3647ab42a037",
       "version_major": 2,
       "version_minor": 0
      },
      "text/plain": [
       "Tab(children=(VBox(children=(Dropdown(description='Orbit files: ', layout=Layout(width='780px'), options=('/ho…"
      ]
     },
     "metadata": {},
     "output_type": "display_data"
    },
    {
     "name": "stdout",
     "output_type": "stream",
     "text": [
      " -- COVERAGE RESULTS -- \n",
      " Date of execution: 10-02-2020 00:21:05\n",
      " Title: \n",
      " Description: \n",
      " Parsed 11428845 lines from orbit file /home/NAS/Data_Files/OrbitData/DAED_ORB_Lifetime_LLA_MLT_MLat_RAAN00_010s.csv\n",
      " Used Kp indices starting from year 2011\n",
      " Bin Misses: 159780     Bin Hits: 1361372\n",
      " Duration of execution: 1049 seconds  or  17.49 minutes\n",
      " \n",
      "AEM_L1  : 22<MLT<=02 060<MagLat<=075 115<Alt<=120 0<Kp<=2 Coverage=    5.000/ 50.00min      300/ 3000sec\n",
      "AEM_L2  : 22<MLT<=02 060<MagLat<=075 120<Alt<=125 0<Kp<=2 Coverage=   10.167/ 50.00min      610/ 3000sec\n",
      "AEM_L3  : 22<MLT<=02 060<MagLat<=075 125<Alt<=130 0<Kp<=2 Coverage=   17.000/ 50.00min     1020/ 3000sec\n",
      "AEM_L4  : 22<MLT<=02 060<MagLat<=075 130<Alt<=135 0<Kp<=2 Coverage=   32.500/ 50.00min     1950/ 3000sec\n",
      "AEM_L5  : 22<MLT<=02 060<MagLat<=075 135<Alt<=140 0<Kp<=2 Coverage=   25.333/ 50.00min     1520/ 3000sec\n",
      "AEM_M1  : 22<MLT<=02 060<MagLat<=075 115<Alt<=123 2<Kp<=4 Coverage=    0.000/ 30.00min        0/ 1800sec\n",
      "AEM_M2  : 22<MLT<=02 060<MagLat<=075 123<Alt<=132 2<Kp<=4 Coverage=    0.000/ 30.00min        0/ 1800sec\n",
      "AEM_M3  : 22<MLT<=02 060<MagLat<=075 132<Alt<=140 2<Kp<=4 Coverage=    0.000/ 30.00min        0/ 1800sec\n",
      "AEM_H1  : 22<MLT<=02 060<MagLat<=075 115<Alt<=140 4<Kp<=9 Coverage=    0.000/ 20.00min        0/ 1200sec\n",
      "AFM_L1  : 22<MLT<=02 060<MagLat<=075 140<Alt<=185 0<Kp<=2 Coverage=  256.667/ 50.00min    15400/ 3000sec\n",
      "AFM_L2  : 22<MLT<=02 060<MagLat<=075 185<Alt<=230 0<Kp<=2 Coverage=  160.667/ 50.00min     9640/ 3000sec\n",
      "AFM_L3  : 22<MLT<=02 060<MagLat<=075 230<Alt<=275 0<Kp<=2 Coverage=  102.000/ 50.00min     6120/ 3000sec\n",
      "AFM_L4  : 22<MLT<=02 060<MagLat<=075 275<Alt<=320 0<Kp<=2 Coverage=   71.333/ 50.00min     4280/ 3000sec\n",
      "AFM_L5  : 22<MLT<=02 060<MagLat<=075 320<Alt<=365 0<Kp<=2 Coverage=   72.667/ 50.00min     4360/ 3000sec\n",
      "AFM_L6  : 22<MLT<=02 060<MagLat<=075 365<Alt<=410 0<Kp<=2 Coverage=   58.667/ 50.00min     3520/ 3000sec\n",
      "AFM_L7  : 22<MLT<=02 060<MagLat<=075 410<Alt<=455 0<Kp<=2 Coverage=   52.000/ 50.00min     3120/ 3000sec\n",
      "AFM_L8  : 22<MLT<=02 060<MagLat<=075 455<Alt<=500 0<Kp<=2 Coverage=   52.667/ 50.00min     3160/ 3000sec\n",
      "AFM_M1  : 22<MLT<=02 060<MagLat<=075 140<Alt<=230 2<Kp<=4 Coverage=   96.500/ 30.00min     5790/ 1800sec\n",
      "AFM_M2  : 22<MLT<=02 060<MagLat<=075 230<Alt<=320 2<Kp<=4 Coverage=   78.500/ 30.00min     4710/ 1800sec\n",
      "AFM_M3  : 22<MLT<=02 060<MagLat<=075 320<Alt<=410 2<Kp<=4 Coverage=   53.833/ 30.00min     3230/ 1800sec\n",
      "AFM_M4  : 22<MLT<=02 060<MagLat<=075 410<Alt<=500 2<Kp<=4 Coverage=   62.500/ 30.00min     3750/ 1800sec\n",
      "AFM_H1  : 22<MLT<=02 060<MagLat<=075 140<Alt<=260 4<Kp<=9 Coverage=    7.500/ 20.00min      450/ 1200sec\n",
      "AFM_H2  : 22<MLT<=02 060<MagLat<=075 260<Alt<=380 4<Kp<=9 Coverage=    1.167/ 20.00min       70/ 1200sec\n",
      "AFM_H3  : 22<MLT<=02 060<MagLat<=075 380<Alt<=500 4<Kp<=9 Coverage=    7.833/ 20.00min      470/ 1200sec\n",
      "AEE_L1  : 16<MLT<=20 060<MagLat<=075 115<Alt<=120 0<Kp<=2 Coverage=    0.000/ 50.00min        0/ 3000sec\n",
      "AEE_L2  : 16<MLT<=20 060<MagLat<=075 120<Alt<=125 0<Kp<=2 Coverage=    0.000/ 50.00min        0/ 3000sec\n",
      "AEE_L3  : 16<MLT<=20 060<MagLat<=075 125<Alt<=130 0<Kp<=2 Coverage=    0.000/ 50.00min        0/ 3000sec\n",
      "AEE_L4  : 16<MLT<=20 060<MagLat<=075 130<Alt<=135 0<Kp<=2 Coverage=   54.833/ 50.00min     3290/ 3000sec\n",
      "AEE_L5  : 16<MLT<=20 060<MagLat<=075 135<Alt<=140 0<Kp<=2 Coverage=   53.500/ 50.00min     3210/ 3000sec\n",
      "AEE_M1  : 16<MLT<=20 060<MagLat<=075 115<Alt<=123 2<Kp<=4 Coverage=    0.000/ 30.00min        0/ 1800sec\n",
      "AEE_M2  : 16<MLT<=20 060<MagLat<=075 123<Alt<=132 2<Kp<=4 Coverage=    0.000/ 30.00min        0/ 1800sec\n",
      "AEE_M3  : 16<MLT<=20 060<MagLat<=075 132<Alt<=140 2<Kp<=4 Coverage=   55.500/ 30.00min     3330/ 1800sec\n",
      "AEE_H1  : 16<MLT<=20 060<MagLat<=075 115<Alt<=140 4<Kp<=9 Coverage=    6.167/ 20.00min      370/ 1200sec\n",
      "AED_L1  : 04<MLT<=08 060<MagLat<=075 115<Alt<=120 0<Kp<=2 Coverage=    0.000/ 50.00min        0/ 3000sec\n",
      "AED_L2  : 04<MLT<=08 060<MagLat<=075 120<Alt<=125 0<Kp<=2 Coverage=    0.000/ 50.00min        0/ 3000sec\n",
      "AED_L3  : 04<MLT<=08 060<MagLat<=075 125<Alt<=130 0<Kp<=2 Coverage=    0.000/ 50.00min        0/ 3000sec\n",
      "AED_L4  : 04<MLT<=08 060<MagLat<=075 130<Alt<=135 0<Kp<=2 Coverage=   63.000/ 50.00min     3780/ 3000sec\n",
      "AED_L5  : 04<MLT<=08 060<MagLat<=075 135<Alt<=140 0<Kp<=2 Coverage=   59.833/ 50.00min     3590/ 3000sec\n",
      "AED_M1  : 04<MLT<=08 060<MagLat<=075 115<Alt<=123 2<Kp<=4 Coverage=    0.000/ 30.00min        0/ 1800sec\n",
      "AED_M2  : 04<MLT<=08 060<MagLat<=075 123<Alt<=132 2<Kp<=4 Coverage=    0.000/ 30.00min        0/ 1800sec\n",
      "AED_M3  : 04<MLT<=08 060<MagLat<=075 132<Alt<=140 2<Kp<=4 Coverage=   51.167/ 30.00min     3070/ 1800sec\n",
      "AED_H1  : 04<MLT<=08 060<MagLat<=075 115<Alt<=140 4<Kp<=9 Coverage=    7.167/ 20.00min      430/ 1200sec\n",
      "EEJ_A1  : 10<MLT<=13 -07<MagLat<=007 115<Alt<=123 0<Kp<=9 Coverage=    0.000/ 10.00min        0/  600sec\n",
      "EEJ_A2  : 10<MLT<=13 -07<MagLat<=007 123<Alt<=132 0<Kp<=9 Coverage=    0.000/ 10.00min        0/  600sec\n",
      "EEJ_A3  : 10<MLT<=13 -07<MagLat<=007 132<Alt<=140 0<Kp<=9 Coverage=    1.667/ 10.00min      100/  600sec\n",
      "EPB_A1  : 18<MLT<=04 -30<MagLat<=030 140<Alt<=185 0<Kp<=9 Coverage=17449.667/150.00min  1046980/ 9000sec\n",
      "EPB_A2  : 18<MLT<=04 -30<MagLat<=030 185<Alt<=230 0<Kp<=9 Coverage= 8849.000/150.00min   530940/ 9000sec\n",
      "EPB_A3  : 18<MLT<=04 -30<MagLat<=030 230<Alt<=275 0<Kp<=9 Coverage= 6514.833/150.00min   390890/ 9000sec\n",
      "EPB_A4  : 18<MLT<=04 -30<MagLat<=030 275<Alt<=320 0<Kp<=9 Coverage= 5404.500/150.00min   324270/ 9000sec\n",
      "EPB_A5  : 18<MLT<=04 -30<MagLat<=030 320<Alt<=365 0<Kp<=9 Coverage= 4721.167/150.00min   283270/ 9000sec\n",
      "EPB_A6  : 18<MLT<=04 -30<MagLat<=030 365<Alt<=410 0<Kp<=9 Coverage= 4250.167/150.00min   255010/ 9000sec\n",
      "EPB_A7  : 18<MLT<=04 -30<MagLat<=030 410<Alt<=455 0<Kp<=9 Coverage= 3922.833/150.00min   235370/ 9000sec\n",
      "EPB_A8  : 18<MLT<=04 -30<MagLat<=030 455<Alt<=500 0<Kp<=9 Coverage= 3729.167/150.00min   223750/ 9000sec\n",
      "SQ_A1   : 06<MLT<=19 -60<MagLat<=060 140<Alt<=185 0<Kp<=3 Coverage=43748.167/150.00min  2624890/ 9000sec\n",
      "SQ_A2   : 06<MLT<=19 -60<MagLat<=060 185<Alt<=230 0<Kp<=3 Coverage=22908.167/150.00min  1374490/ 9000sec\n",
      "SQ_A3   : 06<MLT<=19 -60<MagLat<=060 230<Alt<=275 0<Kp<=3 Coverage=16268.833/150.00min   976130/ 9000sec\n",
      "SQ_A4   : 06<MLT<=19 -60<MagLat<=060 275<Alt<=320 0<Kp<=3 Coverage=13171.500/150.00min   790290/ 9000sec\n",
      "SQ_A5   : 06<MLT<=19 -60<MagLat<=060 320<Alt<=365 0<Kp<=3 Coverage=11192.333/150.00min   671540/ 9000sec\n",
      "SQ_A6   : 06<MLT<=19 -60<MagLat<=060 365<Alt<=410 0<Kp<=3 Coverage= 9765.667/150.00min   585940/ 9000sec\n",
      "SQ_A7   : 06<MLT<=19 -60<MagLat<=060 410<Alt<=455 0<Kp<=3 Coverage= 8737.833/150.00min   524270/ 9000sec\n",
      "SQ_A8   : 06<MLT<=19 -60<MagLat<=060 455<Alt<=500 0<Kp<=3 Coverage= 8150.000/150.00min   489000/ 9000sec\n",
      "CF_L1   : 10<MLT<=14 070<MagLat<=080 140<Alt<=185 0<Kp<=2 Coverage=  342.667/ 50.00min    20560/ 3000sec\n",
      "CF_L2   : 10<MLT<=14 070<MagLat<=080 185<Alt<=230 0<Kp<=2 Coverage=  151.833/ 50.00min     9110/ 3000sec\n",
      "CF_L3   : 10<MLT<=14 070<MagLat<=080 230<Alt<=275 0<Kp<=2 Coverage=  128.333/ 50.00min     7700/ 3000sec\n",
      "CF_L4   : 10<MLT<=14 070<MagLat<=080 275<Alt<=320 0<Kp<=2 Coverage=  101.167/ 50.00min     6070/ 3000sec\n",
      "CF_L5   : 10<MLT<=14 070<MagLat<=080 320<Alt<=365 0<Kp<=2 Coverage=   94.500/ 50.00min     5670/ 3000sec\n",
      "CF_L6   : 10<MLT<=14 070<MagLat<=080 365<Alt<=410 0<Kp<=2 Coverage=   89.667/ 50.00min     5380/ 3000sec\n",
      "CF_L7   : 10<MLT<=14 070<MagLat<=080 410<Alt<=455 0<Kp<=2 Coverage=   96.167/ 50.00min     5770/ 3000sec\n",
      "CF_L8   : 10<MLT<=14 070<MagLat<=080 455<Alt<=500 0<Kp<=2 Coverage=   99.833/ 50.00min     5990/ 3000sec\n",
      "CF_M1   : 10<MLT<=14 070<MagLat<=080 140<Alt<=230 2<Kp<=4 Coverage=  129.500/ 30.00min     7770/ 1800sec\n",
      "CF_M2   : 10<MLT<=14 070<MagLat<=080 230<Alt<=320 2<Kp<=4 Coverage=   56.167/ 30.00min     3370/ 1800sec\n",
      "CF_M3   : 10<MLT<=14 070<MagLat<=080 320<Alt<=410 2<Kp<=4 Coverage=   60.667/ 30.00min     3640/ 1800sec\n",
      "CF_M4   : 10<MLT<=14 070<MagLat<=080 410<Alt<=500 2<Kp<=4 Coverage=   30.667/ 30.00min     1840/ 1800sec\n",
      "CF_H1   : 10<MLT<=14 070<MagLat<=080 140<Alt<=260 4<Kp<=9 Coverage=   10.833/ 20.00min      650/ 1200sec\n",
      "CF_H2   : 10<MLT<=14 070<MagLat<=080 260<Alt<=380 4<Kp<=9 Coverage=    8.000/ 20.00min      480/ 1200sec\n",
      "CF_H3   : 10<MLT<=14 070<MagLat<=080 380<Alt<=500 4<Kp<=9 Coverage=    3.833/ 20.00min      230/ 1200sec\n",
      "PCF_L1  : 14<MLT<=10 070<MagLat<=090 140<Alt<=185 0<Kp<=2 Coverage= 7330.000/ 50.00min   439800/ 3000sec\n",
      "PCF_L2  : 14<MLT<=10 070<MagLat<=090 185<Alt<=230 0<Kp<=2 Coverage= 4292.000/ 50.00min   257520/ 3000sec\n",
      "PCF_L3  : 14<MLT<=10 070<MagLat<=090 230<Alt<=275 0<Kp<=2 Coverage= 3110.500/ 50.00min   186630/ 3000sec\n",
      "PCF_L4  : 14<MLT<=10 070<MagLat<=090 275<Alt<=320 0<Kp<=2 Coverage= 2637.500/ 50.00min   158250/ 3000sec\n",
      "PCF_L5  : 14<MLT<=10 070<MagLat<=090 320<Alt<=365 0<Kp<=2 Coverage= 2309.167/ 50.00min   138550/ 3000sec\n",
      "PCF_L6  : 14<MLT<=10 070<MagLat<=090 365<Alt<=410 0<Kp<=2 Coverage= 2081.667/ 50.00min   124900/ 3000sec\n",
      "PCF_L7  : 14<MLT<=10 070<MagLat<=090 410<Alt<=455 0<Kp<=2 Coverage= 1917.500/ 50.00min   115050/ 3000sec\n",
      "PCF_L8  : 14<MLT<=10 070<MagLat<=090 455<Alt<=500 0<Kp<=2 Coverage= 1786.500/ 50.00min   107190/ 3000sec\n",
      "PCF_M1  : 14<MLT<=10 070<MagLat<=090 140<Alt<=230 2<Kp<=4 Coverage= 3316.333/ 30.00min   198980/ 1800sec\n",
      "PCF_M2  : 14<MLT<=10 070<MagLat<=090 230<Alt<=320 2<Kp<=4 Coverage= 1920.667/ 30.00min   115240/ 1800sec\n",
      "PCF_M3  : 14<MLT<=10 070<MagLat<=090 320<Alt<=410 2<Kp<=4 Coverage= 1542.500/ 30.00min    92550/ 1800sec\n",
      "PCF_M4  : 14<MLT<=10 070<MagLat<=090 410<Alt<=500 2<Kp<=4 Coverage= 1376.500/ 30.00min    82590/ 1800sec\n",
      "PCF_H1  : 14<MLT<=10 070<MagLat<=090 140<Alt<=260 4<Kp<=9 Coverage=  666.333/ 20.00min    39980/ 1200sec\n",
      "PCF_H2  : 14<MLT<=10 070<MagLat<=090 260<Alt<=380 4<Kp<=9 Coverage=  459.000/ 20.00min    27540/ 1200sec\n",
      "PCF_H3  : 14<MLT<=10 070<MagLat<=090 380<Alt<=500 4<Kp<=9 Coverage=  384.167/ 20.00min    23050/ 1200sec\n"
     ]
    },
    {
     "data": {
      "text/html": [
       "        <script type=\"text/javascript\">\n",
       "        window.PlotlyConfig = {MathJaxConfig: 'local'};\n",
       "        if (window.MathJax) {MathJax.Hub.Config({SVG: {font: \"STIX-Web\"}});}\n",
       "        if (typeof require !== 'undefined') {\n",
       "        require.undef(\"plotly\");\n",
       "        requirejs.config({\n",
       "            paths: {\n",
       "                'plotly': ['https://cdn.plot.ly/plotly-latest.min']\n",
       "            }\n",
       "        });\n",
       "        require(['plotly'], function(Plotly) {\n",
       "            window._Plotly = Plotly;\n",
       "        });\n",
       "        }\n",
       "        </script>\n",
       "        "
      ]
     },
     "metadata": {},
     "output_type": "display_data"
    },
    {
     "data": {
      "application/vnd.plotly.v1+json": {
       "config": {
        "linkText": "Export to plot.ly",
        "plotlyServerURL": "https://plot.ly",
        "showLink": false
       },
       "data": [
        {
         "mode": "text",
         "text": [
          "AEM_L1<br>  5 / 50"
         ],
         "type": "scatter",
         "x": [
          60
         ],
         "y": [
          117.5
         ]
        },
        {
         "mode": "text",
         "text": [
          "AEM_L2<br> 10 / 50"
         ],
         "type": "scatter",
         "x": [
          60
         ],
         "y": [
          122.5
         ]
        },
        {
         "mode": "text",
         "text": [
          "AEM_L3<br> 17 / 50"
         ],
         "type": "scatter",
         "x": [
          60
         ],
         "y": [
          127.5
         ]
        },
        {
         "mode": "text",
         "text": [
          "AEM_L4<br> 32 / 50"
         ],
         "type": "scatter",
         "x": [
          60
         ],
         "y": [
          132.5
         ]
        },
        {
         "mode": "text",
         "text": [
          "AEM_L5<br> 25 / 50"
         ],
         "type": "scatter",
         "x": [
          60
         ],
         "y": [
          137.5
         ]
        },
        {
         "mode": "text",
         "text": [
          "AFM_L1<br>257 / 50"
         ],
         "type": "scatter",
         "x": [
          60
         ],
         "y": [
          162.5
         ]
        },
        {
         "mode": "text",
         "text": [
          "AFM_L2<br>161 / 50"
         ],
         "type": "scatter",
         "x": [
          60
         ],
         "y": [
          207.5
         ]
        },
        {
         "mode": "text",
         "text": [
          "AFM_L3<br>102 / 50"
         ],
         "type": "scatter",
         "x": [
          60
         ],
         "y": [
          252.5
         ]
        },
        {
         "mode": "text",
         "text": [
          "AFM_L4<br> 71 / 50"
         ],
         "type": "scatter",
         "x": [
          60
         ],
         "y": [
          297.5
         ]
        },
        {
         "mode": "text",
         "text": [
          "AFM_L5<br> 73 / 50"
         ],
         "type": "scatter",
         "x": [
          60
         ],
         "y": [
          342.5
         ]
        },
        {
         "mode": "text",
         "text": [
          "AFM_L6<br> 59 / 50"
         ],
         "type": "scatter",
         "x": [
          60
         ],
         "y": [
          387.5
         ]
        },
        {
         "mode": "text",
         "text": [
          "AFM_L7<br> 52 / 50"
         ],
         "type": "scatter",
         "x": [
          60
         ],
         "y": [
          432.5
         ]
        },
        {
         "mode": "text",
         "text": [
          "AFM_L8<br> 53 / 50"
         ],
         "type": "scatter",
         "x": [
          60
         ],
         "y": [
          477.5
         ]
        },
        {
         "mode": "text",
         "text": [
          "AEM_M1<br>  0 / 30"
         ],
         "type": "scatter",
         "x": [
          150
         ],
         "y": [
          119.166665
         ]
        },
        {
         "mode": "text",
         "text": [
          "AEM_M2<br>  0 / 30"
         ],
         "type": "scatter",
         "x": [
          150
         ],
         "y": [
          127.49999500000001
         ]
        },
        {
         "mode": "text",
         "text": [
          "AEM_M3<br>  0 / 30"
         ],
         "type": "scatter",
         "x": [
          150
         ],
         "y": [
          135.83333
         ]
        },
        {
         "mode": "text",
         "text": [
          "AFM_M1<br> 96 / 30"
         ],
         "type": "scatter",
         "x": [
          150
         ],
         "y": [
          185
         ]
        },
        {
         "mode": "text",
         "text": [
          "AFM_M2<br> 78 / 30"
         ],
         "type": "scatter",
         "x": [
          150
         ],
         "y": [
          275
         ]
        },
        {
         "mode": "text",
         "text": [
          "AFM_M3<br> 54 / 30"
         ],
         "type": "scatter",
         "x": [
          150
         ],
         "y": [
          365
         ]
        },
        {
         "mode": "text",
         "text": [
          "AFM_M4<br> 62 / 30"
         ],
         "type": "scatter",
         "x": [
          150
         ],
         "y": [
          455
         ]
        },
        {
         "mode": "text",
         "text": [
          "AEM_H1<br>  0 / 20"
         ],
         "type": "scatter",
         "x": [
          240
         ],
         "y": [
          127.5
         ]
        },
        {
         "mode": "text",
         "text": [
          "AFM_H1<br>  8 / 20"
         ],
         "type": "scatter",
         "x": [
          240
         ],
         "y": [
          200
         ]
        },
        {
         "mode": "text",
         "text": [
          "AFM_H2<br>  1 / 20"
         ],
         "type": "scatter",
         "x": [
          240
         ],
         "y": [
          320
         ]
        },
        {
         "mode": "text",
         "text": [
          "AFM_H3<br>  8 / 20"
         ],
         "type": "scatter",
         "x": [
          240
         ],
         "y": [
          440
         ]
        },
        {
         "mode": "text",
         "text": [
          "AEE_L1<br>  0 / 50"
         ],
         "type": "scatter",
         "x": [
          358
         ],
         "y": [
          117.5
         ]
        },
        {
         "mode": "text",
         "text": [
          "AEE_L2<br>  0 / 50"
         ],
         "type": "scatter",
         "x": [
          358
         ],
         "y": [
          122.5
         ]
        },
        {
         "mode": "text",
         "text": [
          "AEE_L3<br>  0 / 50"
         ],
         "type": "scatter",
         "x": [
          358
         ],
         "y": [
          127.5
         ]
        },
        {
         "mode": "text",
         "text": [
          "AEE_L4<br> 55 / 50"
         ],
         "type": "scatter",
         "x": [
          358
         ],
         "y": [
          132.5
         ]
        },
        {
         "mode": "text",
         "text": [
          "AEE_L5<br> 54 / 50"
         ],
         "type": "scatter",
         "x": [
          358
         ],
         "y": [
          137.5
         ]
        },
        {
         "mode": "text",
         "text": [
          "AEE_M1<br>  0 / 30"
         ],
         "type": "scatter",
         "x": [
          448
         ],
         "y": [
          119.166665
         ]
        },
        {
         "mode": "text",
         "text": [
          "AEE_M2<br>  0 / 30"
         ],
         "type": "scatter",
         "x": [
          448
         ],
         "y": [
          127.49999500000001
         ]
        },
        {
         "mode": "text",
         "text": [
          "AEE_M3<br> 56 / 30"
         ],
         "type": "scatter",
         "x": [
          448
         ],
         "y": [
          135.83333
         ]
        },
        {
         "mode": "text",
         "text": [
          "AEE_H1<br>  6 / 20"
         ],
         "type": "scatter",
         "x": [
          538
         ],
         "y": [
          127.5
         ]
        },
        {
         "mode": "text",
         "text": [
          "AED_L1<br>  0 / 50"
         ],
         "type": "scatter",
         "x": [
          656
         ],
         "y": [
          117.5
         ]
        },
        {
         "mode": "text",
         "text": [
          "AED_L2<br>  0 / 50"
         ],
         "type": "scatter",
         "x": [
          656
         ],
         "y": [
          122.5
         ]
        },
        {
         "mode": "text",
         "text": [
          "AED_L3<br>  0 / 50"
         ],
         "type": "scatter",
         "x": [
          656
         ],
         "y": [
          127.5
         ]
        },
        {
         "mode": "text",
         "text": [
          "AED_L4<br> 63 / 50"
         ],
         "type": "scatter",
         "x": [
          656
         ],
         "y": [
          132.5
         ]
        },
        {
         "mode": "text",
         "text": [
          "AED_L5<br> 60 / 50"
         ],
         "type": "scatter",
         "x": [
          656
         ],
         "y": [
          137.5
         ]
        },
        {
         "mode": "text",
         "text": [
          "AED_M1<br>  0 / 30"
         ],
         "type": "scatter",
         "x": [
          746
         ],
         "y": [
          119.166665
         ]
        },
        {
         "mode": "text",
         "text": [
          "AED_M2<br>  0 / 30"
         ],
         "type": "scatter",
         "x": [
          746
         ],
         "y": [
          127.49999500000001
         ]
        },
        {
         "mode": "text",
         "text": [
          "AED_M3<br> 51 / 30"
         ],
         "type": "scatter",
         "x": [
          746
         ],
         "y": [
          135.83333
         ]
        },
        {
         "mode": "text",
         "text": [
          "AED_H1<br>  7 / 20"
         ],
         "type": "scatter",
         "x": [
          836
         ],
         "y": [
          127.5
         ]
        },
        {
         "marker": {
          "color": [
           0,
           100
          ],
          "colorbar": {
           "ticktext": [
            "empty",
            "full"
           ],
           "tickvals": [
            0,
            100
           ]
          },
          "colorscale": [
           [
            0,
            "rgb(247,251,255)"
           ],
           [
            0.125,
            "rgb(222,235,247)"
           ],
           [
            0.25,
            "rgb(198,219,239)"
           ],
           [
            0.375,
            "rgb(158,202,225)"
           ],
           [
            0.5,
            "rgb(107,174,214)"
           ],
           [
            0.625,
            "rgb(66,146,198)"
           ],
           [
            0.75,
            "rgb(33,113,181)"
           ],
           [
            0.875,
            "rgb(8,81,156)"
           ],
           [
            1,
            "rgb(8,48,107)"
           ]
          ]
         },
         "mode": "markers",
         "opacity": 0,
         "type": "scatter",
         "x": [
          0,
          0
         ],
         "y": [
          0,
          0
         ]
        }
       ],
       "layout": {
        "colorscale": {
         "sequential": [
          [
           0,
           "rgb(247,251,255)"
          ],
          [
           0.125,
           "rgb(222,235,247)"
          ],
          [
           0.25,
           "rgb(198,219,239)"
          ],
          [
           0.375,
           "rgb(158,202,225)"
          ],
          [
           0.5,
           "rgb(107,174,214)"
          ],
          [
           0.625,
           "rgb(66,146,198)"
          ],
          [
           0.75,
           "rgb(33,113,181)"
          ],
          [
           0.875,
           "rgb(8,81,156)"
          ],
          [
           1,
           "rgb(8,48,107)"
          ]
         ]
        },
        "height": 1640,
        "margin": {
         "b": 150,
         "t": 150
        },
        "shapes": [
         {
          "fillcolor": "rgba(0.8917339484813533, 0.9351018838908112, 0.9753940792003075, 1.0)",
          "line": {
           "color": "RoyalBlue",
           "width": 3
          },
          "opacity": 0.8,
          "type": "rect",
          "x0": 20,
          "x1": 100,
          "xref": "x",
          "y0": 115,
          "y1": 120,
          "yref": "y"
         },
         {
          "fillcolor": "rgba(0.8111649365628605, 0.8819530949634755, 0.9488196847366398, 1.0)",
          "line": {
           "color": "RoyalBlue",
           "width": 3
          },
          "opacity": 0.8,
          "type": "rect",
          "x0": 20,
          "x1": 100,
          "xref": "x",
          "y0": 120,
          "y1": 125,
          "yref": "y"
         },
         {
          "fillcolor": "rgba(0.6620530565167244, 0.8101960784313725, 0.8972087658592849, 1.0)",
          "line": {
           "color": "RoyalBlue",
           "width": 3
          },
          "opacity": 0.8,
          "type": "rect",
          "x0": 20,
          "x1": 100,
          "xref": "x",
          "y0": 125,
          "y1": 130,
          "yref": "y"
         },
         {
          "fillcolor": "rgba(0.23192618223760095, 0.5456516724336793, 0.7626143790849673, 1.0)",
          "line": {
           "color": "RoyalBlue",
           "width": 3
          },
          "opacity": 0.8,
          "type": "rect",
          "x0": 20,
          "x1": 100,
          "xref": "x",
          "y0": 130,
          "y1": 135,
          "yref": "y"
         },
         {
          "fillcolor": "rgba(0.4120415224913495, 0.6771856978085352, 0.8362629757785467, 1.0)",
          "line": {
           "color": "RoyalBlue",
           "width": 3
          },
          "opacity": 0.8,
          "type": "rect",
          "x0": 20,
          "x1": 100,
          "xref": "x",
          "y0": 135,
          "y1": 140,
          "yref": "y"
         },
         {
          "fillcolor": "rgba(0.03137254901960784, 0.18823529411764706, 0.4196078431372549, 1.0)",
          "line": {
           "color": "RoyalBlue",
           "width": 3
          },
          "opacity": 0.8,
          "type": "rect",
          "x0": 20,
          "x1": 100,
          "xref": "x",
          "y0": 140,
          "y1": 185,
          "yref": "y"
         },
         {
          "fillcolor": "rgba(0.03137254901960784, 0.18823529411764706, 0.4196078431372549, 1.0)",
          "line": {
           "color": "RoyalBlue",
           "width": 3
          },
          "opacity": 0.8,
          "type": "rect",
          "x0": 20,
          "x1": 100,
          "xref": "x",
          "y0": 185,
          "y1": 230,
          "yref": "y"
         },
         {
          "fillcolor": "rgba(0.03137254901960784, 0.18823529411764706, 0.4196078431372549, 1.0)",
          "line": {
           "color": "RoyalBlue",
           "width": 3
          },
          "opacity": 0.8,
          "type": "rect",
          "x0": 20,
          "x1": 100,
          "xref": "x",
          "y0": 230,
          "y1": 275,
          "yref": "y"
         },
         {
          "fillcolor": "rgba(0.03137254901960784, 0.18823529411764706, 0.4196078431372549, 1.0)",
          "line": {
           "color": "RoyalBlue",
           "width": 3
          },
          "opacity": 0.8,
          "type": "rect",
          "x0": 20,
          "x1": 100,
          "xref": "x",
          "y0": 275,
          "y1": 320,
          "yref": "y"
         },
         {
          "fillcolor": "rgba(0.03137254901960784, 0.18823529411764706, 0.4196078431372549, 1.0)",
          "line": {
           "color": "RoyalBlue",
           "width": 3
          },
          "opacity": 0.8,
          "type": "rect",
          "x0": 20,
          "x1": 100,
          "xref": "x",
          "y0": 320,
          "y1": 365,
          "yref": "y"
         },
         {
          "fillcolor": "rgba(0.03137254901960784, 0.18823529411764706, 0.4196078431372549, 1.0)",
          "line": {
           "color": "RoyalBlue",
           "width": 3
          },
          "opacity": 0.8,
          "type": "rect",
          "x0": 20,
          "x1": 100,
          "xref": "x",
          "y0": 365,
          "y1": 410,
          "yref": "y"
         },
         {
          "fillcolor": "rgba(0.03137254901960784, 0.18823529411764706, 0.4196078431372549, 1.0)",
          "line": {
           "color": "RoyalBlue",
           "width": 3
          },
          "opacity": 0.8,
          "type": "rect",
          "x0": 20,
          "x1": 100,
          "xref": "x",
          "y0": 410,
          "y1": 455,
          "yref": "y"
         },
         {
          "fillcolor": "rgba(0.03137254901960784, 0.18823529411764706, 0.4196078431372549, 1.0)",
          "line": {
           "color": "RoyalBlue",
           "width": 3
          },
          "opacity": 0.8,
          "type": "rect",
          "x0": 20,
          "x1": 100,
          "xref": "x",
          "y0": 455,
          "y1": 500,
          "yref": "y"
         },
         {
          "fillcolor": "rgba(0.9686274509803922, 0.984313725490196, 1.0, 1.0)",
          "line": {
           "color": "RoyalBlue",
           "width": 3
          },
          "opacity": 0.8,
          "type": "rect",
          "x0": 110,
          "x1": 190,
          "xref": "x",
          "y0": 115,
          "y1": 123.33333,
          "yref": "y"
         },
         {
          "fillcolor": "rgba(0.9686274509803922, 0.984313725490196, 1.0, 1.0)",
          "line": {
           "color": "RoyalBlue",
           "width": 3
          },
          "opacity": 0.8,
          "type": "rect",
          "x0": 110,
          "x1": 190,
          "xref": "x",
          "y0": 123.33333,
          "y1": 131.66666,
          "yref": "y"
         },
         {
          "fillcolor": "rgba(0.9686274509803922, 0.984313725490196, 1.0, 1.0)",
          "line": {
           "color": "RoyalBlue",
           "width": 3
          },
          "opacity": 0.8,
          "type": "rect",
          "x0": 110,
          "x1": 190,
          "xref": "x",
          "y0": 131.66666,
          "y1": 140,
          "yref": "y"
         },
         {
          "fillcolor": "rgba(0.03137254901960784, 0.18823529411764706, 0.4196078431372549, 1.0)",
          "line": {
           "color": "RoyalBlue",
           "width": 3
          },
          "opacity": 0.8,
          "type": "rect",
          "x0": 110,
          "x1": 190,
          "xref": "x",
          "y0": 140,
          "y1": 230,
          "yref": "y"
         },
         {
          "fillcolor": "rgba(0.03137254901960784, 0.18823529411764706, 0.4196078431372549, 1.0)",
          "line": {
           "color": "RoyalBlue",
           "width": 3
          },
          "opacity": 0.8,
          "type": "rect",
          "x0": 110,
          "x1": 190,
          "xref": "x",
          "y0": 230,
          "y1": 320,
          "yref": "y"
         },
         {
          "fillcolor": "rgba(0.03137254901960784, 0.18823529411764706, 0.4196078431372549, 1.0)",
          "line": {
           "color": "RoyalBlue",
           "width": 3
          },
          "opacity": 0.8,
          "type": "rect",
          "x0": 110,
          "x1": 190,
          "xref": "x",
          "y0": 320,
          "y1": 410,
          "yref": "y"
         },
         {
          "fillcolor": "rgba(0.03137254901960784, 0.18823529411764706, 0.4196078431372549, 1.0)",
          "line": {
           "color": "RoyalBlue",
           "width": 3
          },
          "opacity": 0.8,
          "type": "rect",
          "x0": 110,
          "x1": 190,
          "xref": "x",
          "y0": 410,
          "y1": 500,
          "yref": "y"
         },
         {
          "fillcolor": "rgba(0.9686274509803922, 0.984313725490196, 1.0, 1.0)",
          "line": {
           "color": "RoyalBlue",
           "width": 3
          },
          "opacity": 0.8,
          "type": "rect",
          "x0": 200,
          "x1": 280,
          "xref": "x",
          "y0": 115,
          "y1": 140,
          "yref": "y"
         },
         {
          "fillcolor": "rgba(0.6172549019607844, 0.7908650519031142, 0.8818454440599769, 1.0)",
          "line": {
           "color": "RoyalBlue",
           "width": 3
          },
          "opacity": 0.8,
          "type": "rect",
          "x0": 200,
          "x1": 280,
          "xref": "x",
          "y0": 140,
          "y1": 260,
          "yref": "y"
         },
         {
          "fillcolor": "rgba(0.9255670895809304, 0.9567550941945405, 0.9862206843521722, 1.0)",
          "line": {
           "color": "RoyalBlue",
           "width": 3
          },
          "opacity": 0.8,
          "type": "rect",
          "x0": 200,
          "x1": 280,
          "xref": "x",
          "y0": 260,
          "y1": 380,
          "yref": "y"
         },
         {
          "fillcolor": "rgba(0.592156862745098, 0.7770857362552864, 0.8764321414840446, 1.0)",
          "line": {
           "color": "RoyalBlue",
           "width": 3
          },
          "opacity": 0.8,
          "type": "rect",
          "x0": 200,
          "x1": 280,
          "xref": "x",
          "y0": 380,
          "y1": 500,
          "yref": "y"
         },
         {
          "fillcolor": "rgba(0.9686274509803922, 0.984313725490196, 1.0, 1.0)",
          "line": {
           "color": "RoyalBlue",
           "width": 3
          },
          "opacity": 0.8,
          "type": "rect",
          "x0": 318,
          "x1": 398,
          "xref": "x",
          "y0": 115,
          "y1": 120,
          "yref": "y"
         },
         {
          "fillcolor": "rgba(0.9686274509803922, 0.984313725490196, 1.0, 1.0)",
          "line": {
           "color": "RoyalBlue",
           "width": 3
          },
          "opacity": 0.8,
          "type": "rect",
          "x0": 318,
          "x1": 398,
          "xref": "x",
          "y0": 120,
          "y1": 125,
          "yref": "y"
         },
         {
          "fillcolor": "rgba(0.9686274509803922, 0.984313725490196, 1.0, 1.0)",
          "line": {
           "color": "RoyalBlue",
           "width": 3
          },
          "opacity": 0.8,
          "type": "rect",
          "x0": 318,
          "x1": 398,
          "xref": "x",
          "y0": 125,
          "y1": 130,
          "yref": "y"
         },
         {
          "fillcolor": "rgba(0.03137254901960784, 0.18823529411764706, 0.4196078431372549, 1.0)",
          "line": {
           "color": "RoyalBlue",
           "width": 3
          },
          "opacity": 0.8,
          "type": "rect",
          "x0": 318,
          "x1": 398,
          "xref": "x",
          "y0": 130,
          "y1": 135,
          "yref": "y"
         },
         {
          "fillcolor": "rgba(0.03137254901960784, 0.18823529411764706, 0.4196078431372549, 1.0)",
          "line": {
           "color": "RoyalBlue",
           "width": 3
          },
          "opacity": 0.8,
          "type": "rect",
          "x0": 318,
          "x1": 398,
          "xref": "x",
          "y0": 135,
          "y1": 140,
          "yref": "y"
         },
         {
          "fillcolor": "rgba(0.9686274509803922, 0.984313725490196, 1.0, 1.0)",
          "line": {
           "color": "RoyalBlue",
           "width": 3
          },
          "opacity": 0.8,
          "type": "rect",
          "x0": 408,
          "x1": 488,
          "xref": "x",
          "y0": 115,
          "y1": 123.33333,
          "yref": "y"
         },
         {
          "fillcolor": "rgba(0.9686274509803922, 0.984313725490196, 1.0, 1.0)",
          "line": {
           "color": "RoyalBlue",
           "width": 3
          },
          "opacity": 0.8,
          "type": "rect",
          "x0": 408,
          "x1": 488,
          "xref": "x",
          "y0": 123.33333,
          "y1": 131.66666,
          "yref": "y"
         },
         {
          "fillcolor": "rgba(0.03137254901960784, 0.18823529411764706, 0.4196078431372549, 1.0)",
          "line": {
           "color": "RoyalBlue",
           "width": 3
          },
          "opacity": 0.8,
          "type": "rect",
          "x0": 408,
          "x1": 488,
          "xref": "x",
          "y0": 131.66666,
          "y1": 140,
          "yref": "y"
         },
         {
          "fillcolor": "rgba(0.7063437139561707, 0.8290196078431372, 0.9127104959630911, 1.0)",
          "line": {
           "color": "RoyalBlue",
           "width": 3
          },
          "opacity": 0.8,
          "type": "rect",
          "x0": 498,
          "x1": 578,
          "xref": "x",
          "y0": 115,
          "y1": 140,
          "yref": "y"
         },
         {
          "fillcolor": "rgba(0.9686274509803922, 0.984313725490196, 1.0, 1.0)",
          "line": {
           "color": "RoyalBlue",
           "width": 3
          },
          "opacity": 0.8,
          "type": "rect",
          "x0": 616,
          "x1": 696,
          "xref": "x",
          "y0": 115,
          "y1": 120,
          "yref": "y"
         },
         {
          "fillcolor": "rgba(0.9686274509803922, 0.984313725490196, 1.0, 1.0)",
          "line": {
           "color": "RoyalBlue",
           "width": 3
          },
          "opacity": 0.8,
          "type": "rect",
          "x0": 616,
          "x1": 696,
          "xref": "x",
          "y0": 120,
          "y1": 125,
          "yref": "y"
         },
         {
          "fillcolor": "rgba(0.9686274509803922, 0.984313725490196, 1.0, 1.0)",
          "line": {
           "color": "RoyalBlue",
           "width": 3
          },
          "opacity": 0.8,
          "type": "rect",
          "x0": 616,
          "x1": 696,
          "xref": "x",
          "y0": 125,
          "y1": 130,
          "yref": "y"
         },
         {
          "fillcolor": "rgba(0.03137254901960784, 0.18823529411764706, 0.4196078431372549, 1.0)",
          "line": {
           "color": "RoyalBlue",
           "width": 3
          },
          "opacity": 0.8,
          "type": "rect",
          "x0": 616,
          "x1": 696,
          "xref": "x",
          "y0": 130,
          "y1": 135,
          "yref": "y"
         },
         {
          "fillcolor": "rgba(0.03137254901960784, 0.18823529411764706, 0.4196078431372549, 1.0)",
          "line": {
           "color": "RoyalBlue",
           "width": 3
          },
          "opacity": 0.8,
          "type": "rect",
          "x0": 616,
          "x1": 696,
          "xref": "x",
          "y0": 135,
          "y1": 140,
          "yref": "y"
         },
         {
          "fillcolor": "rgba(0.9686274509803922, 0.984313725490196, 1.0, 1.0)",
          "line": {
           "color": "RoyalBlue",
           "width": 3
          },
          "opacity": 0.8,
          "type": "rect",
          "x0": 706,
          "x1": 786,
          "xref": "x",
          "y0": 115,
          "y1": 123.33333,
          "yref": "y"
         },
         {
          "fillcolor": "rgba(0.9686274509803922, 0.984313725490196, 1.0, 1.0)",
          "line": {
           "color": "RoyalBlue",
           "width": 3
          },
          "opacity": 0.8,
          "type": "rect",
          "x0": 706,
          "x1": 786,
          "xref": "x",
          "y0": 123.33333,
          "y1": 131.66666,
          "yref": "y"
         },
         {
          "fillcolor": "rgba(0.03137254901960784, 0.18823529411764706, 0.4196078431372549, 1.0)",
          "line": {
           "color": "RoyalBlue",
           "width": 3
          },
          "opacity": 0.8,
          "type": "rect",
          "x0": 706,
          "x1": 786,
          "xref": "x",
          "y0": 131.66666,
          "y1": 140,
          "yref": "y"
         },
         {
          "fillcolor": "rgba(0.6423683198769704, 0.8018300653594771, 0.890319108035371, 1.0)",
          "line": {
           "color": "RoyalBlue",
           "width": 3
          },
          "opacity": 0.8,
          "type": "rect",
          "x0": 796,
          "x1": 876,
          "xref": "x",
          "y0": 115,
          "y1": 140,
          "yref": "y"
         }
        ],
        "showlegend": false,
        "template": {
         "data": {
          "bar": [
           {
            "error_x": {
             "color": "#2a3f5f"
            },
            "error_y": {
             "color": "#2a3f5f"
            },
            "marker": {
             "line": {
              "color": "#E5ECF6",
              "width": 0.5
             }
            },
            "type": "bar"
           }
          ],
          "barpolar": [
           {
            "marker": {
             "line": {
              "color": "#E5ECF6",
              "width": 0.5
             }
            },
            "type": "barpolar"
           }
          ],
          "carpet": [
           {
            "aaxis": {
             "endlinecolor": "#2a3f5f",
             "gridcolor": "white",
             "linecolor": "white",
             "minorgridcolor": "white",
             "startlinecolor": "#2a3f5f"
            },
            "baxis": {
             "endlinecolor": "#2a3f5f",
             "gridcolor": "white",
             "linecolor": "white",
             "minorgridcolor": "white",
             "startlinecolor": "#2a3f5f"
            },
            "type": "carpet"
           }
          ],
          "choropleth": [
           {
            "colorbar": {
             "outlinewidth": 0,
             "ticks": ""
            },
            "type": "choropleth"
           }
          ],
          "contour": [
           {
            "colorbar": {
             "outlinewidth": 0,
             "ticks": ""
            },
            "colorscale": [
             [
              0,
              "#0d0887"
             ],
             [
              0.1111111111111111,
              "#46039f"
             ],
             [
              0.2222222222222222,
              "#7201a8"
             ],
             [
              0.3333333333333333,
              "#9c179e"
             ],
             [
              0.4444444444444444,
              "#bd3786"
             ],
             [
              0.5555555555555556,
              "#d8576b"
             ],
             [
              0.6666666666666666,
              "#ed7953"
             ],
             [
              0.7777777777777778,
              "#fb9f3a"
             ],
             [
              0.8888888888888888,
              "#fdca26"
             ],
             [
              1,
              "#f0f921"
             ]
            ],
            "type": "contour"
           }
          ],
          "contourcarpet": [
           {
            "colorbar": {
             "outlinewidth": 0,
             "ticks": ""
            },
            "type": "contourcarpet"
           }
          ],
          "heatmap": [
           {
            "colorbar": {
             "outlinewidth": 0,
             "ticks": ""
            },
            "colorscale": [
             [
              0,
              "#0d0887"
             ],
             [
              0.1111111111111111,
              "#46039f"
             ],
             [
              0.2222222222222222,
              "#7201a8"
             ],
             [
              0.3333333333333333,
              "#9c179e"
             ],
             [
              0.4444444444444444,
              "#bd3786"
             ],
             [
              0.5555555555555556,
              "#d8576b"
             ],
             [
              0.6666666666666666,
              "#ed7953"
             ],
             [
              0.7777777777777778,
              "#fb9f3a"
             ],
             [
              0.8888888888888888,
              "#fdca26"
             ],
             [
              1,
              "#f0f921"
             ]
            ],
            "type": "heatmap"
           }
          ],
          "heatmapgl": [
           {
            "colorbar": {
             "outlinewidth": 0,
             "ticks": ""
            },
            "colorscale": [
             [
              0,
              "#0d0887"
             ],
             [
              0.1111111111111111,
              "#46039f"
             ],
             [
              0.2222222222222222,
              "#7201a8"
             ],
             [
              0.3333333333333333,
              "#9c179e"
             ],
             [
              0.4444444444444444,
              "#bd3786"
             ],
             [
              0.5555555555555556,
              "#d8576b"
             ],
             [
              0.6666666666666666,
              "#ed7953"
             ],
             [
              0.7777777777777778,
              "#fb9f3a"
             ],
             [
              0.8888888888888888,
              "#fdca26"
             ],
             [
              1,
              "#f0f921"
             ]
            ],
            "type": "heatmapgl"
           }
          ],
          "histogram": [
           {
            "marker": {
             "colorbar": {
              "outlinewidth": 0,
              "ticks": ""
             }
            },
            "type": "histogram"
           }
          ],
          "histogram2d": [
           {
            "colorbar": {
             "outlinewidth": 0,
             "ticks": ""
            },
            "colorscale": [
             [
              0,
              "#0d0887"
             ],
             [
              0.1111111111111111,
              "#46039f"
             ],
             [
              0.2222222222222222,
              "#7201a8"
             ],
             [
              0.3333333333333333,
              "#9c179e"
             ],
             [
              0.4444444444444444,
              "#bd3786"
             ],
             [
              0.5555555555555556,
              "#d8576b"
             ],
             [
              0.6666666666666666,
              "#ed7953"
             ],
             [
              0.7777777777777778,
              "#fb9f3a"
             ],
             [
              0.8888888888888888,
              "#fdca26"
             ],
             [
              1,
              "#f0f921"
             ]
            ],
            "type": "histogram2d"
           }
          ],
          "histogram2dcontour": [
           {
            "colorbar": {
             "outlinewidth": 0,
             "ticks": ""
            },
            "colorscale": [
             [
              0,
              "#0d0887"
             ],
             [
              0.1111111111111111,
              "#46039f"
             ],
             [
              0.2222222222222222,
              "#7201a8"
             ],
             [
              0.3333333333333333,
              "#9c179e"
             ],
             [
              0.4444444444444444,
              "#bd3786"
             ],
             [
              0.5555555555555556,
              "#d8576b"
             ],
             [
              0.6666666666666666,
              "#ed7953"
             ],
             [
              0.7777777777777778,
              "#fb9f3a"
             ],
             [
              0.8888888888888888,
              "#fdca26"
             ],
             [
              1,
              "#f0f921"
             ]
            ],
            "type": "histogram2dcontour"
           }
          ],
          "mesh3d": [
           {
            "colorbar": {
             "outlinewidth": 0,
             "ticks": ""
            },
            "type": "mesh3d"
           }
          ],
          "parcoords": [
           {
            "line": {
             "colorbar": {
              "outlinewidth": 0,
              "ticks": ""
             }
            },
            "type": "parcoords"
           }
          ],
          "pie": [
           {
            "automargin": true,
            "type": "pie"
           }
          ],
          "scatter": [
           {
            "marker": {
             "colorbar": {
              "outlinewidth": 0,
              "ticks": ""
             }
            },
            "type": "scatter"
           }
          ],
          "scatter3d": [
           {
            "line": {
             "colorbar": {
              "outlinewidth": 0,
              "ticks": ""
             }
            },
            "marker": {
             "colorbar": {
              "outlinewidth": 0,
              "ticks": ""
             }
            },
            "type": "scatter3d"
           }
          ],
          "scattercarpet": [
           {
            "marker": {
             "colorbar": {
              "outlinewidth": 0,
              "ticks": ""
             }
            },
            "type": "scattercarpet"
           }
          ],
          "scattergeo": [
           {
            "marker": {
             "colorbar": {
              "outlinewidth": 0,
              "ticks": ""
             }
            },
            "type": "scattergeo"
           }
          ],
          "scattergl": [
           {
            "marker": {
             "colorbar": {
              "outlinewidth": 0,
              "ticks": ""
             }
            },
            "type": "scattergl"
           }
          ],
          "scattermapbox": [
           {
            "marker": {
             "colorbar": {
              "outlinewidth": 0,
              "ticks": ""
             }
            },
            "type": "scattermapbox"
           }
          ],
          "scatterpolar": [
           {
            "marker": {
             "colorbar": {
              "outlinewidth": 0,
              "ticks": ""
             }
            },
            "type": "scatterpolar"
           }
          ],
          "scatterpolargl": [
           {
            "marker": {
             "colorbar": {
              "outlinewidth": 0,
              "ticks": ""
             }
            },
            "type": "scatterpolargl"
           }
          ],
          "scatterternary": [
           {
            "marker": {
             "colorbar": {
              "outlinewidth": 0,
              "ticks": ""
             }
            },
            "type": "scatterternary"
           }
          ],
          "surface": [
           {
            "colorbar": {
             "outlinewidth": 0,
             "ticks": ""
            },
            "colorscale": [
             [
              0,
              "#0d0887"
             ],
             [
              0.1111111111111111,
              "#46039f"
             ],
             [
              0.2222222222222222,
              "#7201a8"
             ],
             [
              0.3333333333333333,
              "#9c179e"
             ],
             [
              0.4444444444444444,
              "#bd3786"
             ],
             [
              0.5555555555555556,
              "#d8576b"
             ],
             [
              0.6666666666666666,
              "#ed7953"
             ],
             [
              0.7777777777777778,
              "#fb9f3a"
             ],
             [
              0.8888888888888888,
              "#fdca26"
             ],
             [
              1,
              "#f0f921"
             ]
            ],
            "type": "surface"
           }
          ],
          "table": [
           {
            "cells": {
             "fill": {
              "color": "#EBF0F8"
             },
             "line": {
              "color": "white"
             }
            },
            "header": {
             "fill": {
              "color": "#C8D4E3"
             },
             "line": {
              "color": "white"
             }
            },
            "type": "table"
           }
          ]
         },
         "layout": {
          "annotationdefaults": {
           "arrowcolor": "#2a3f5f",
           "arrowhead": 0,
           "arrowwidth": 1
          },
          "coloraxis": {
           "colorbar": {
            "outlinewidth": 0,
            "ticks": ""
           }
          },
          "colorscale": {
           "diverging": [
            [
             0,
             "#8e0152"
            ],
            [
             0.1,
             "#c51b7d"
            ],
            [
             0.2,
             "#de77ae"
            ],
            [
             0.3,
             "#f1b6da"
            ],
            [
             0.4,
             "#fde0ef"
            ],
            [
             0.5,
             "#f7f7f7"
            ],
            [
             0.6,
             "#e6f5d0"
            ],
            [
             0.7,
             "#b8e186"
            ],
            [
             0.8,
             "#7fbc41"
            ],
            [
             0.9,
             "#4d9221"
            ],
            [
             1,
             "#276419"
            ]
           ],
           "sequential": [
            [
             0,
             "#0d0887"
            ],
            [
             0.1111111111111111,
             "#46039f"
            ],
            [
             0.2222222222222222,
             "#7201a8"
            ],
            [
             0.3333333333333333,
             "#9c179e"
            ],
            [
             0.4444444444444444,
             "#bd3786"
            ],
            [
             0.5555555555555556,
             "#d8576b"
            ],
            [
             0.6666666666666666,
             "#ed7953"
            ],
            [
             0.7777777777777778,
             "#fb9f3a"
            ],
            [
             0.8888888888888888,
             "#fdca26"
            ],
            [
             1,
             "#f0f921"
            ]
           ],
           "sequentialminus": [
            [
             0,
             "#0d0887"
            ],
            [
             0.1111111111111111,
             "#46039f"
            ],
            [
             0.2222222222222222,
             "#7201a8"
            ],
            [
             0.3333333333333333,
             "#9c179e"
            ],
            [
             0.4444444444444444,
             "#bd3786"
            ],
            [
             0.5555555555555556,
             "#d8576b"
            ],
            [
             0.6666666666666666,
             "#ed7953"
            ],
            [
             0.7777777777777778,
             "#fb9f3a"
            ],
            [
             0.8888888888888888,
             "#fdca26"
            ],
            [
             1,
             "#f0f921"
            ]
           ]
          },
          "colorway": [
           "#636efa",
           "#EF553B",
           "#00cc96",
           "#ab63fa",
           "#FFA15A",
           "#19d3f3",
           "#FF6692",
           "#B6E880",
           "#FF97FF",
           "#FECB52"
          ],
          "font": {
           "color": "#2a3f5f"
          },
          "geo": {
           "bgcolor": "white",
           "lakecolor": "white",
           "landcolor": "#E5ECF6",
           "showlakes": true,
           "showland": true,
           "subunitcolor": "white"
          },
          "hoverlabel": {
           "align": "left"
          },
          "hovermode": "closest",
          "mapbox": {
           "style": "light"
          },
          "paper_bgcolor": "white",
          "plot_bgcolor": "#E5ECF6",
          "polar": {
           "angularaxis": {
            "gridcolor": "white",
            "linecolor": "white",
            "ticks": ""
           },
           "bgcolor": "#E5ECF6",
           "radialaxis": {
            "gridcolor": "white",
            "linecolor": "white",
            "ticks": ""
           }
          },
          "scene": {
           "xaxis": {
            "backgroundcolor": "#E5ECF6",
            "gridcolor": "white",
            "gridwidth": 2,
            "linecolor": "white",
            "showbackground": true,
            "ticks": "",
            "zerolinecolor": "white"
           },
           "yaxis": {
            "backgroundcolor": "#E5ECF6",
            "gridcolor": "white",
            "gridwidth": 2,
            "linecolor": "white",
            "showbackground": true,
            "ticks": "",
            "zerolinecolor": "white"
           },
           "zaxis": {
            "backgroundcolor": "#E5ECF6",
            "gridcolor": "white",
            "gridwidth": 2,
            "linecolor": "white",
            "showbackground": true,
            "ticks": "",
            "zerolinecolor": "white"
           }
          },
          "shapedefaults": {
           "line": {
            "color": "#2a3f5f"
           }
          },
          "ternary": {
           "aaxis": {
            "gridcolor": "white",
            "linecolor": "white",
            "ticks": ""
           },
           "baxis": {
            "gridcolor": "white",
            "linecolor": "white",
            "ticks": ""
           },
           "bgcolor": "#E5ECF6",
           "caxis": {
            "gridcolor": "white",
            "linecolor": "white",
            "ticks": ""
           }
          },
          "title": {
           "x": 0.05
          },
          "xaxis": {
           "automargin": true,
           "gridcolor": "white",
           "linecolor": "white",
           "ticks": "",
           "title": {
            "standoff": 15
           },
           "zerolinecolor": "white",
           "zerolinewidth": 2
          },
          "yaxis": {
           "automargin": true,
           "gridcolor": "white",
           "linecolor": "white",
           "ticks": "",
           "title": {
            "standoff": 15
           },
           "zerolinecolor": "white",
           "zerolinewidth": 2
          }
         }
        },
        "title": {
         "text": "Kp indices start from year 2011<br>Orbit file:DAED_ORB_Lifetime_LLA_MLT_MLat_RAAN00_010s.csv<br>Results file:DAED_ORB_Lifetime_LLA_MLT_MLat_RAAN00_010s_Kp2011.CoverageResults.txt<br><b>Magnetic Latitudes from 60&#176; to 75&#176;</b><br>"
        },
        "width": 1100,
        "xaxis": {
         "range": [
          0,
          904
         ],
         "showgrid": false,
         "tickmode": "array",
         "ticktext": [
          "Kp 0-2<br>22-2",
          "Kp 2-4<br>22-2",
          "Kp 4-9<br>22-2",
          "Kp 0-2<br>16-20",
          "Kp 2-4<br>16-20",
          "Kp 4-9<br>16-20",
          "Kp 0-2<br>4-8",
          "Kp 2-4<br>4-8",
          "Kp 4-9<br>4-8"
         ],
         "tickvals": [
          60,
          150,
          240,
          358,
          448,
          538,
          656,
          746,
          836
         ],
         "title": {
          "text": "Kp index range<br>Magnetic Local Time range"
         }
        },
        "yaxis": {
         "range": [
          2.0566978403536114,
          2.7069700043360183
         ],
         "tickvals": [
          115,
          120,
          125,
          130,
          135,
          140,
          123.33333,
          131.66666,
          185,
          230,
          275,
          320,
          365,
          410,
          455,
          500,
          260,
          380
         ],
         "title": {
          "text": "Altitude (km)"
         },
         "type": "log"
        }
       }
      },
      "text/html": [
       "<div>\n",
       "        \n",
       "        \n",
       "            <div id=\"93ba4fb2-23f9-409a-b005-0a8a415a86d0\" class=\"plotly-graph-div\" style=\"height:1640px; width:1100px;\"></div>\n",
       "            <script type=\"text/javascript\">\n",
       "                require([\"plotly\"], function(Plotly) {\n",
       "                    window.PLOTLYENV=window.PLOTLYENV || {};\n",
       "                    \n",
       "                if (document.getElementById(\"93ba4fb2-23f9-409a-b005-0a8a415a86d0\")) {\n",
       "                    Plotly.newPlot(\n",
       "                        '93ba4fb2-23f9-409a-b005-0a8a415a86d0',\n",
       "                        [{\"mode\": \"text\", \"text\": [\"AEM_L1<br>  5 / 50\"], \"type\": \"scatter\", \"x\": [60.0], \"y\": [117.5]}, {\"mode\": \"text\", \"text\": [\"AEM_L2<br> 10 / 50\"], \"type\": \"scatter\", \"x\": [60.0], \"y\": [122.5]}, {\"mode\": \"text\", \"text\": [\"AEM_L3<br> 17 / 50\"], \"type\": \"scatter\", \"x\": [60.0], \"y\": [127.5]}, {\"mode\": \"text\", \"text\": [\"AEM_L4<br> 32 / 50\"], \"type\": \"scatter\", \"x\": [60.0], \"y\": [132.5]}, {\"mode\": \"text\", \"text\": [\"AEM_L5<br> 25 / 50\"], \"type\": \"scatter\", \"x\": [60.0], \"y\": [137.5]}, {\"mode\": \"text\", \"text\": [\"AFM_L1<br>257 / 50\"], \"type\": \"scatter\", \"x\": [60.0], \"y\": [162.5]}, {\"mode\": \"text\", \"text\": [\"AFM_L2<br>161 / 50\"], \"type\": \"scatter\", \"x\": [60.0], \"y\": [207.5]}, {\"mode\": \"text\", \"text\": [\"AFM_L3<br>102 / 50\"], \"type\": \"scatter\", \"x\": [60.0], \"y\": [252.5]}, {\"mode\": \"text\", \"text\": [\"AFM_L4<br> 71 / 50\"], \"type\": \"scatter\", \"x\": [60.0], \"y\": [297.5]}, {\"mode\": \"text\", \"text\": [\"AFM_L5<br> 73 / 50\"], \"type\": \"scatter\", \"x\": [60.0], \"y\": [342.5]}, {\"mode\": \"text\", \"text\": [\"AFM_L6<br> 59 / 50\"], \"type\": \"scatter\", \"x\": [60.0], \"y\": [387.5]}, {\"mode\": \"text\", \"text\": [\"AFM_L7<br> 52 / 50\"], \"type\": \"scatter\", \"x\": [60.0], \"y\": [432.5]}, {\"mode\": \"text\", \"text\": [\"AFM_L8<br> 53 / 50\"], \"type\": \"scatter\", \"x\": [60.0], \"y\": [477.5]}, {\"mode\": \"text\", \"text\": [\"AEM_M1<br>  0 / 30\"], \"type\": \"scatter\", \"x\": [150.0], \"y\": [119.166665]}, {\"mode\": \"text\", \"text\": [\"AEM_M2<br>  0 / 30\"], \"type\": \"scatter\", \"x\": [150.0], \"y\": [127.49999500000001]}, {\"mode\": \"text\", \"text\": [\"AEM_M3<br>  0 / 30\"], \"type\": \"scatter\", \"x\": [150.0], \"y\": [135.83333]}, {\"mode\": \"text\", \"text\": [\"AFM_M1<br> 96 / 30\"], \"type\": \"scatter\", \"x\": [150.0], \"y\": [185.0]}, {\"mode\": \"text\", \"text\": [\"AFM_M2<br> 78 / 30\"], \"type\": \"scatter\", \"x\": [150.0], \"y\": [275.0]}, {\"mode\": \"text\", \"text\": [\"AFM_M3<br> 54 / 30\"], \"type\": \"scatter\", \"x\": [150.0], \"y\": [365.0]}, {\"mode\": \"text\", \"text\": [\"AFM_M4<br> 62 / 30\"], \"type\": \"scatter\", \"x\": [150.0], \"y\": [455.0]}, {\"mode\": \"text\", \"text\": [\"AEM_H1<br>  0 / 20\"], \"type\": \"scatter\", \"x\": [240.0], \"y\": [127.5]}, {\"mode\": \"text\", \"text\": [\"AFM_H1<br>  8 / 20\"], \"type\": \"scatter\", \"x\": [240.0], \"y\": [200.0]}, {\"mode\": \"text\", \"text\": [\"AFM_H2<br>  1 / 20\"], \"type\": \"scatter\", \"x\": [240.0], \"y\": [320.0]}, {\"mode\": \"text\", \"text\": [\"AFM_H3<br>  8 / 20\"], \"type\": \"scatter\", \"x\": [240.0], \"y\": [440.0]}, {\"mode\": \"text\", \"text\": [\"AEE_L1<br>  0 / 50\"], \"type\": \"scatter\", \"x\": [358.0], \"y\": [117.5]}, {\"mode\": \"text\", \"text\": [\"AEE_L2<br>  0 / 50\"], \"type\": \"scatter\", \"x\": [358.0], \"y\": [122.5]}, {\"mode\": \"text\", \"text\": [\"AEE_L3<br>  0 / 50\"], \"type\": \"scatter\", \"x\": [358.0], \"y\": [127.5]}, {\"mode\": \"text\", \"text\": [\"AEE_L4<br> 55 / 50\"], \"type\": \"scatter\", \"x\": [358.0], \"y\": [132.5]}, {\"mode\": \"text\", \"text\": [\"AEE_L5<br> 54 / 50\"], \"type\": \"scatter\", \"x\": [358.0], \"y\": [137.5]}, {\"mode\": \"text\", \"text\": [\"AEE_M1<br>  0 / 30\"], \"type\": \"scatter\", \"x\": [448.0], \"y\": [119.166665]}, {\"mode\": \"text\", \"text\": [\"AEE_M2<br>  0 / 30\"], \"type\": \"scatter\", \"x\": [448.0], \"y\": [127.49999500000001]}, {\"mode\": \"text\", \"text\": [\"AEE_M3<br> 56 / 30\"], \"type\": \"scatter\", \"x\": [448.0], \"y\": [135.83333]}, {\"mode\": \"text\", \"text\": [\"AEE_H1<br>  6 / 20\"], \"type\": \"scatter\", \"x\": [538.0], \"y\": [127.5]}, {\"mode\": \"text\", \"text\": [\"AED_L1<br>  0 / 50\"], \"type\": \"scatter\", \"x\": [656.0], \"y\": [117.5]}, {\"mode\": \"text\", \"text\": [\"AED_L2<br>  0 / 50\"], \"type\": \"scatter\", \"x\": [656.0], \"y\": [122.5]}, {\"mode\": \"text\", \"text\": [\"AED_L3<br>  0 / 50\"], \"type\": \"scatter\", \"x\": [656.0], \"y\": [127.5]}, {\"mode\": \"text\", \"text\": [\"AED_L4<br> 63 / 50\"], \"type\": \"scatter\", \"x\": [656.0], \"y\": [132.5]}, {\"mode\": \"text\", \"text\": [\"AED_L5<br> 60 / 50\"], \"type\": \"scatter\", \"x\": [656.0], \"y\": [137.5]}, {\"mode\": \"text\", \"text\": [\"AED_M1<br>  0 / 30\"], \"type\": \"scatter\", \"x\": [746.0], \"y\": [119.166665]}, {\"mode\": \"text\", \"text\": [\"AED_M2<br>  0 / 30\"], \"type\": \"scatter\", \"x\": [746.0], \"y\": [127.49999500000001]}, {\"mode\": \"text\", \"text\": [\"AED_M3<br> 51 / 30\"], \"type\": \"scatter\", \"x\": [746.0], \"y\": [135.83333]}, {\"mode\": \"text\", \"text\": [\"AED_H1<br>  7 / 20\"], \"type\": \"scatter\", \"x\": [836.0], \"y\": [127.5]}, {\"marker\": {\"color\": [0, 100], \"colorbar\": {\"ticktext\": [\"empty\", \"full\"], \"tickvals\": [0, 100]}, \"colorscale\": [[0.0, \"rgb(247,251,255)\"], [0.125, \"rgb(222,235,247)\"], [0.25, \"rgb(198,219,239)\"], [0.375, \"rgb(158,202,225)\"], [0.5, \"rgb(107,174,214)\"], [0.625, \"rgb(66,146,198)\"], [0.75, \"rgb(33,113,181)\"], [0.875, \"rgb(8,81,156)\"], [1.0, \"rgb(8,48,107)\"]]}, \"mode\": \"markers\", \"opacity\": 0, \"type\": \"scatter\", \"x\": [0, 0], \"y\": [0, 0]}],\n",
       "                        {\"colorscale\": {\"sequential\": [[0.0, \"rgb(247,251,255)\"], [0.125, \"rgb(222,235,247)\"], [0.25, \"rgb(198,219,239)\"], [0.375, \"rgb(158,202,225)\"], [0.5, \"rgb(107,174,214)\"], [0.625, \"rgb(66,146,198)\"], [0.75, \"rgb(33,113,181)\"], [0.875, \"rgb(8,81,156)\"], [1.0, \"rgb(8,48,107)\"]]}, \"height\": 1640, \"margin\": {\"b\": 150, \"t\": 150}, \"shapes\": [{\"fillcolor\": \"rgba(0.8917339484813533, 0.9351018838908112, 0.9753940792003075, 1.0)\", \"line\": {\"color\": \"RoyalBlue\", \"width\": 3}, \"opacity\": 0.8, \"type\": \"rect\", \"x0\": 20, \"x1\": 100, \"xref\": \"x\", \"y0\": 115, \"y1\": 120, \"yref\": \"y\"}, {\"fillcolor\": \"rgba(0.8111649365628605, 0.8819530949634755, 0.9488196847366398, 1.0)\", \"line\": {\"color\": \"RoyalBlue\", \"width\": 3}, \"opacity\": 0.8, \"type\": \"rect\", \"x0\": 20, \"x1\": 100, \"xref\": \"x\", \"y0\": 120, \"y1\": 125, \"yref\": \"y\"}, {\"fillcolor\": \"rgba(0.6620530565167244, 0.8101960784313725, 0.8972087658592849, 1.0)\", \"line\": {\"color\": \"RoyalBlue\", \"width\": 3}, \"opacity\": 0.8, \"type\": \"rect\", \"x0\": 20, \"x1\": 100, \"xref\": \"x\", \"y0\": 125, \"y1\": 130, \"yref\": \"y\"}, {\"fillcolor\": \"rgba(0.23192618223760095, 0.5456516724336793, 0.7626143790849673, 1.0)\", \"line\": {\"color\": \"RoyalBlue\", \"width\": 3}, \"opacity\": 0.8, \"type\": \"rect\", \"x0\": 20, \"x1\": 100, \"xref\": \"x\", \"y0\": 130, \"y1\": 135, \"yref\": \"y\"}, {\"fillcolor\": \"rgba(0.4120415224913495, 0.6771856978085352, 0.8362629757785467, 1.0)\", \"line\": {\"color\": \"RoyalBlue\", \"width\": 3}, \"opacity\": 0.8, \"type\": \"rect\", \"x0\": 20, \"x1\": 100, \"xref\": \"x\", \"y0\": 135, \"y1\": 140, \"yref\": \"y\"}, {\"fillcolor\": \"rgba(0.03137254901960784, 0.18823529411764706, 0.4196078431372549, 1.0)\", \"line\": {\"color\": \"RoyalBlue\", \"width\": 3}, \"opacity\": 0.8, \"type\": \"rect\", \"x0\": 20, \"x1\": 100, \"xref\": \"x\", \"y0\": 140, \"y1\": 185, \"yref\": \"y\"}, {\"fillcolor\": \"rgba(0.03137254901960784, 0.18823529411764706, 0.4196078431372549, 1.0)\", \"line\": {\"color\": \"RoyalBlue\", \"width\": 3}, \"opacity\": 0.8, \"type\": \"rect\", \"x0\": 20, \"x1\": 100, \"xref\": \"x\", \"y0\": 185, \"y1\": 230, \"yref\": \"y\"}, {\"fillcolor\": \"rgba(0.03137254901960784, 0.18823529411764706, 0.4196078431372549, 1.0)\", \"line\": {\"color\": \"RoyalBlue\", \"width\": 3}, \"opacity\": 0.8, \"type\": \"rect\", \"x0\": 20, \"x1\": 100, \"xref\": \"x\", \"y0\": 230, \"y1\": 275, \"yref\": \"y\"}, {\"fillcolor\": \"rgba(0.03137254901960784, 0.18823529411764706, 0.4196078431372549, 1.0)\", \"line\": {\"color\": \"RoyalBlue\", \"width\": 3}, \"opacity\": 0.8, \"type\": \"rect\", \"x0\": 20, \"x1\": 100, \"xref\": \"x\", \"y0\": 275, \"y1\": 320, \"yref\": \"y\"}, {\"fillcolor\": \"rgba(0.03137254901960784, 0.18823529411764706, 0.4196078431372549, 1.0)\", \"line\": {\"color\": \"RoyalBlue\", \"width\": 3}, \"opacity\": 0.8, \"type\": \"rect\", \"x0\": 20, \"x1\": 100, \"xref\": \"x\", \"y0\": 320, \"y1\": 365, \"yref\": \"y\"}, {\"fillcolor\": \"rgba(0.03137254901960784, 0.18823529411764706, 0.4196078431372549, 1.0)\", \"line\": {\"color\": \"RoyalBlue\", \"width\": 3}, \"opacity\": 0.8, \"type\": \"rect\", \"x0\": 20, \"x1\": 100, \"xref\": \"x\", \"y0\": 365, \"y1\": 410, \"yref\": \"y\"}, {\"fillcolor\": \"rgba(0.03137254901960784, 0.18823529411764706, 0.4196078431372549, 1.0)\", \"line\": {\"color\": \"RoyalBlue\", \"width\": 3}, \"opacity\": 0.8, \"type\": \"rect\", \"x0\": 20, \"x1\": 100, \"xref\": \"x\", \"y0\": 410, \"y1\": 455, \"yref\": \"y\"}, {\"fillcolor\": \"rgba(0.03137254901960784, 0.18823529411764706, 0.4196078431372549, 1.0)\", \"line\": {\"color\": \"RoyalBlue\", \"width\": 3}, \"opacity\": 0.8, \"type\": \"rect\", \"x0\": 20, \"x1\": 100, \"xref\": \"x\", \"y0\": 455, \"y1\": 500, \"yref\": \"y\"}, {\"fillcolor\": \"rgba(0.9686274509803922, 0.984313725490196, 1.0, 1.0)\", \"line\": {\"color\": \"RoyalBlue\", \"width\": 3}, \"opacity\": 0.8, \"type\": \"rect\", \"x0\": 110, \"x1\": 190, \"xref\": \"x\", \"y0\": 115, \"y1\": 123.33333, \"yref\": \"y\"}, {\"fillcolor\": \"rgba(0.9686274509803922, 0.984313725490196, 1.0, 1.0)\", \"line\": {\"color\": \"RoyalBlue\", \"width\": 3}, \"opacity\": 0.8, \"type\": \"rect\", \"x0\": 110, \"x1\": 190, \"xref\": \"x\", \"y0\": 123.33333, \"y1\": 131.66666, \"yref\": \"y\"}, {\"fillcolor\": \"rgba(0.9686274509803922, 0.984313725490196, 1.0, 1.0)\", \"line\": {\"color\": \"RoyalBlue\", \"width\": 3}, \"opacity\": 0.8, \"type\": \"rect\", \"x0\": 110, \"x1\": 190, \"xref\": \"x\", \"y0\": 131.66666, \"y1\": 140, \"yref\": \"y\"}, {\"fillcolor\": \"rgba(0.03137254901960784, 0.18823529411764706, 0.4196078431372549, 1.0)\", \"line\": {\"color\": \"RoyalBlue\", \"width\": 3}, \"opacity\": 0.8, \"type\": \"rect\", \"x0\": 110, \"x1\": 190, \"xref\": \"x\", \"y0\": 140, \"y1\": 230, \"yref\": \"y\"}, {\"fillcolor\": \"rgba(0.03137254901960784, 0.18823529411764706, 0.4196078431372549, 1.0)\", \"line\": {\"color\": \"RoyalBlue\", \"width\": 3}, \"opacity\": 0.8, \"type\": \"rect\", \"x0\": 110, \"x1\": 190, \"xref\": \"x\", \"y0\": 230, \"y1\": 320, \"yref\": \"y\"}, {\"fillcolor\": \"rgba(0.03137254901960784, 0.18823529411764706, 0.4196078431372549, 1.0)\", \"line\": {\"color\": \"RoyalBlue\", \"width\": 3}, \"opacity\": 0.8, \"type\": \"rect\", \"x0\": 110, \"x1\": 190, \"xref\": \"x\", \"y0\": 320, \"y1\": 410, \"yref\": \"y\"}, {\"fillcolor\": \"rgba(0.03137254901960784, 0.18823529411764706, 0.4196078431372549, 1.0)\", \"line\": {\"color\": \"RoyalBlue\", \"width\": 3}, \"opacity\": 0.8, \"type\": \"rect\", \"x0\": 110, \"x1\": 190, \"xref\": \"x\", \"y0\": 410, \"y1\": 500, \"yref\": \"y\"}, {\"fillcolor\": \"rgba(0.9686274509803922, 0.984313725490196, 1.0, 1.0)\", \"line\": {\"color\": \"RoyalBlue\", \"width\": 3}, \"opacity\": 0.8, \"type\": \"rect\", \"x0\": 200, \"x1\": 280, \"xref\": \"x\", \"y0\": 115, \"y1\": 140, \"yref\": \"y\"}, {\"fillcolor\": \"rgba(0.6172549019607844, 0.7908650519031142, 0.8818454440599769, 1.0)\", \"line\": {\"color\": \"RoyalBlue\", \"width\": 3}, \"opacity\": 0.8, \"type\": \"rect\", \"x0\": 200, \"x1\": 280, \"xref\": \"x\", \"y0\": 140, \"y1\": 260, \"yref\": \"y\"}, {\"fillcolor\": \"rgba(0.9255670895809304, 0.9567550941945405, 0.9862206843521722, 1.0)\", \"line\": {\"color\": \"RoyalBlue\", \"width\": 3}, \"opacity\": 0.8, \"type\": \"rect\", \"x0\": 200, \"x1\": 280, \"xref\": \"x\", \"y0\": 260, \"y1\": 380, \"yref\": \"y\"}, {\"fillcolor\": \"rgba(0.592156862745098, 0.7770857362552864, 0.8764321414840446, 1.0)\", \"line\": {\"color\": \"RoyalBlue\", \"width\": 3}, \"opacity\": 0.8, \"type\": \"rect\", \"x0\": 200, \"x1\": 280, \"xref\": \"x\", \"y0\": 380, \"y1\": 500, \"yref\": \"y\"}, {\"fillcolor\": \"rgba(0.9686274509803922, 0.984313725490196, 1.0, 1.0)\", \"line\": {\"color\": \"RoyalBlue\", \"width\": 3}, \"opacity\": 0.8, \"type\": \"rect\", \"x0\": 318, \"x1\": 398, \"xref\": \"x\", \"y0\": 115, \"y1\": 120, \"yref\": \"y\"}, {\"fillcolor\": \"rgba(0.9686274509803922, 0.984313725490196, 1.0, 1.0)\", \"line\": {\"color\": \"RoyalBlue\", \"width\": 3}, \"opacity\": 0.8, \"type\": \"rect\", \"x0\": 318, \"x1\": 398, \"xref\": \"x\", \"y0\": 120, \"y1\": 125, \"yref\": \"y\"}, {\"fillcolor\": \"rgba(0.9686274509803922, 0.984313725490196, 1.0, 1.0)\", \"line\": {\"color\": \"RoyalBlue\", \"width\": 3}, \"opacity\": 0.8, \"type\": \"rect\", \"x0\": 318, \"x1\": 398, \"xref\": \"x\", \"y0\": 125, \"y1\": 130, \"yref\": \"y\"}, {\"fillcolor\": \"rgba(0.03137254901960784, 0.18823529411764706, 0.4196078431372549, 1.0)\", \"line\": {\"color\": \"RoyalBlue\", \"width\": 3}, \"opacity\": 0.8, \"type\": \"rect\", \"x0\": 318, \"x1\": 398, \"xref\": \"x\", \"y0\": 130, \"y1\": 135, \"yref\": \"y\"}, {\"fillcolor\": \"rgba(0.03137254901960784, 0.18823529411764706, 0.4196078431372549, 1.0)\", \"line\": {\"color\": \"RoyalBlue\", \"width\": 3}, \"opacity\": 0.8, \"type\": \"rect\", \"x0\": 318, \"x1\": 398, \"xref\": \"x\", \"y0\": 135, \"y1\": 140, \"yref\": \"y\"}, {\"fillcolor\": \"rgba(0.9686274509803922, 0.984313725490196, 1.0, 1.0)\", \"line\": {\"color\": \"RoyalBlue\", \"width\": 3}, \"opacity\": 0.8, \"type\": \"rect\", \"x0\": 408, \"x1\": 488, \"xref\": \"x\", \"y0\": 115, \"y1\": 123.33333, \"yref\": \"y\"}, {\"fillcolor\": \"rgba(0.9686274509803922, 0.984313725490196, 1.0, 1.0)\", \"line\": {\"color\": \"RoyalBlue\", \"width\": 3}, \"opacity\": 0.8, \"type\": \"rect\", \"x0\": 408, \"x1\": 488, \"xref\": \"x\", \"y0\": 123.33333, \"y1\": 131.66666, \"yref\": \"y\"}, {\"fillcolor\": \"rgba(0.03137254901960784, 0.18823529411764706, 0.4196078431372549, 1.0)\", \"line\": {\"color\": \"RoyalBlue\", \"width\": 3}, \"opacity\": 0.8, \"type\": \"rect\", \"x0\": 408, \"x1\": 488, \"xref\": \"x\", \"y0\": 131.66666, \"y1\": 140, \"yref\": \"y\"}, {\"fillcolor\": \"rgba(0.7063437139561707, 0.8290196078431372, 0.9127104959630911, 1.0)\", \"line\": {\"color\": \"RoyalBlue\", \"width\": 3}, \"opacity\": 0.8, \"type\": \"rect\", \"x0\": 498, \"x1\": 578, \"xref\": \"x\", \"y0\": 115, \"y1\": 140, \"yref\": \"y\"}, {\"fillcolor\": \"rgba(0.9686274509803922, 0.984313725490196, 1.0, 1.0)\", \"line\": {\"color\": \"RoyalBlue\", \"width\": 3}, \"opacity\": 0.8, \"type\": \"rect\", \"x0\": 616, \"x1\": 696, \"xref\": \"x\", \"y0\": 115, \"y1\": 120, \"yref\": \"y\"}, {\"fillcolor\": \"rgba(0.9686274509803922, 0.984313725490196, 1.0, 1.0)\", \"line\": {\"color\": \"RoyalBlue\", \"width\": 3}, \"opacity\": 0.8, \"type\": \"rect\", \"x0\": 616, \"x1\": 696, \"xref\": \"x\", \"y0\": 120, \"y1\": 125, \"yref\": \"y\"}, {\"fillcolor\": \"rgba(0.9686274509803922, 0.984313725490196, 1.0, 1.0)\", \"line\": {\"color\": \"RoyalBlue\", \"width\": 3}, \"opacity\": 0.8, \"type\": \"rect\", \"x0\": 616, \"x1\": 696, \"xref\": \"x\", \"y0\": 125, \"y1\": 130, \"yref\": \"y\"}, {\"fillcolor\": \"rgba(0.03137254901960784, 0.18823529411764706, 0.4196078431372549, 1.0)\", \"line\": {\"color\": \"RoyalBlue\", \"width\": 3}, \"opacity\": 0.8, \"type\": \"rect\", \"x0\": 616, \"x1\": 696, \"xref\": \"x\", \"y0\": 130, \"y1\": 135, \"yref\": \"y\"}, {\"fillcolor\": \"rgba(0.03137254901960784, 0.18823529411764706, 0.4196078431372549, 1.0)\", \"line\": {\"color\": \"RoyalBlue\", \"width\": 3}, \"opacity\": 0.8, \"type\": \"rect\", \"x0\": 616, \"x1\": 696, \"xref\": \"x\", \"y0\": 135, \"y1\": 140, \"yref\": \"y\"}, {\"fillcolor\": \"rgba(0.9686274509803922, 0.984313725490196, 1.0, 1.0)\", \"line\": {\"color\": \"RoyalBlue\", \"width\": 3}, \"opacity\": 0.8, \"type\": \"rect\", \"x0\": 706, \"x1\": 786, \"xref\": \"x\", \"y0\": 115, \"y1\": 123.33333, \"yref\": \"y\"}, {\"fillcolor\": \"rgba(0.9686274509803922, 0.984313725490196, 1.0, 1.0)\", \"line\": {\"color\": \"RoyalBlue\", \"width\": 3}, \"opacity\": 0.8, \"type\": \"rect\", \"x0\": 706, \"x1\": 786, \"xref\": \"x\", \"y0\": 123.33333, \"y1\": 131.66666, \"yref\": \"y\"}, {\"fillcolor\": \"rgba(0.03137254901960784, 0.18823529411764706, 0.4196078431372549, 1.0)\", \"line\": {\"color\": \"RoyalBlue\", \"width\": 3}, \"opacity\": 0.8, \"type\": \"rect\", \"x0\": 706, \"x1\": 786, \"xref\": \"x\", \"y0\": 131.66666, \"y1\": 140, \"yref\": \"y\"}, {\"fillcolor\": \"rgba(0.6423683198769704, 0.8018300653594771, 0.890319108035371, 1.0)\", \"line\": {\"color\": \"RoyalBlue\", \"width\": 3}, \"opacity\": 0.8, \"type\": \"rect\", \"x0\": 796, \"x1\": 876, \"xref\": \"x\", \"y0\": 115, \"y1\": 140, \"yref\": \"y\"}], \"showlegend\": false, \"template\": {\"data\": {\"bar\": [{\"error_x\": {\"color\": \"#2a3f5f\"}, \"error_y\": {\"color\": \"#2a3f5f\"}, \"marker\": {\"line\": {\"color\": \"#E5ECF6\", \"width\": 0.5}}, \"type\": \"bar\"}], \"barpolar\": [{\"marker\": {\"line\": {\"color\": \"#E5ECF6\", \"width\": 0.5}}, \"type\": \"barpolar\"}], \"carpet\": [{\"aaxis\": {\"endlinecolor\": \"#2a3f5f\", \"gridcolor\": \"white\", \"linecolor\": \"white\", \"minorgridcolor\": \"white\", \"startlinecolor\": \"#2a3f5f\"}, \"baxis\": {\"endlinecolor\": \"#2a3f5f\", \"gridcolor\": \"white\", \"linecolor\": \"white\", \"minorgridcolor\": \"white\", \"startlinecolor\": \"#2a3f5f\"}, \"type\": \"carpet\"}], \"choropleth\": [{\"colorbar\": {\"outlinewidth\": 0, \"ticks\": \"\"}, \"type\": \"choropleth\"}], \"contour\": [{\"colorbar\": {\"outlinewidth\": 0, \"ticks\": \"\"}, \"colorscale\": [[0.0, \"#0d0887\"], [0.1111111111111111, \"#46039f\"], [0.2222222222222222, \"#7201a8\"], [0.3333333333333333, \"#9c179e\"], [0.4444444444444444, \"#bd3786\"], [0.5555555555555556, \"#d8576b\"], [0.6666666666666666, \"#ed7953\"], [0.7777777777777778, \"#fb9f3a\"], [0.8888888888888888, \"#fdca26\"], [1.0, \"#f0f921\"]], \"type\": \"contour\"}], \"contourcarpet\": [{\"colorbar\": {\"outlinewidth\": 0, \"ticks\": \"\"}, \"type\": \"contourcarpet\"}], \"heatmap\": [{\"colorbar\": {\"outlinewidth\": 0, \"ticks\": \"\"}, \"colorscale\": [[0.0, \"#0d0887\"], [0.1111111111111111, \"#46039f\"], [0.2222222222222222, \"#7201a8\"], [0.3333333333333333, \"#9c179e\"], [0.4444444444444444, \"#bd3786\"], [0.5555555555555556, \"#d8576b\"], [0.6666666666666666, \"#ed7953\"], [0.7777777777777778, \"#fb9f3a\"], [0.8888888888888888, \"#fdca26\"], [1.0, \"#f0f921\"]], \"type\": \"heatmap\"}], \"heatmapgl\": [{\"colorbar\": {\"outlinewidth\": 0, \"ticks\": \"\"}, \"colorscale\": [[0.0, \"#0d0887\"], [0.1111111111111111, \"#46039f\"], [0.2222222222222222, \"#7201a8\"], [0.3333333333333333, \"#9c179e\"], [0.4444444444444444, \"#bd3786\"], [0.5555555555555556, \"#d8576b\"], [0.6666666666666666, \"#ed7953\"], [0.7777777777777778, \"#fb9f3a\"], [0.8888888888888888, \"#fdca26\"], [1.0, \"#f0f921\"]], \"type\": \"heatmapgl\"}], \"histogram\": [{\"marker\": {\"colorbar\": {\"outlinewidth\": 0, \"ticks\": \"\"}}, \"type\": \"histogram\"}], \"histogram2d\": [{\"colorbar\": {\"outlinewidth\": 0, \"ticks\": \"\"}, \"colorscale\": [[0.0, \"#0d0887\"], [0.1111111111111111, \"#46039f\"], [0.2222222222222222, \"#7201a8\"], [0.3333333333333333, \"#9c179e\"], [0.4444444444444444, \"#bd3786\"], [0.5555555555555556, \"#d8576b\"], [0.6666666666666666, \"#ed7953\"], [0.7777777777777778, \"#fb9f3a\"], [0.8888888888888888, \"#fdca26\"], [1.0, \"#f0f921\"]], \"type\": \"histogram2d\"}], \"histogram2dcontour\": [{\"colorbar\": {\"outlinewidth\": 0, \"ticks\": \"\"}, \"colorscale\": [[0.0, \"#0d0887\"], [0.1111111111111111, \"#46039f\"], [0.2222222222222222, \"#7201a8\"], [0.3333333333333333, \"#9c179e\"], [0.4444444444444444, \"#bd3786\"], [0.5555555555555556, \"#d8576b\"], [0.6666666666666666, \"#ed7953\"], [0.7777777777777778, \"#fb9f3a\"], [0.8888888888888888, \"#fdca26\"], [1.0, \"#f0f921\"]], \"type\": \"histogram2dcontour\"}], \"mesh3d\": [{\"colorbar\": {\"outlinewidth\": 0, \"ticks\": \"\"}, \"type\": \"mesh3d\"}], \"parcoords\": [{\"line\": {\"colorbar\": {\"outlinewidth\": 0, \"ticks\": \"\"}}, \"type\": \"parcoords\"}], \"pie\": [{\"automargin\": true, \"type\": \"pie\"}], \"scatter\": [{\"marker\": {\"colorbar\": {\"outlinewidth\": 0, \"ticks\": \"\"}}, \"type\": \"scatter\"}], \"scatter3d\": [{\"line\": {\"colorbar\": {\"outlinewidth\": 0, \"ticks\": \"\"}}, \"marker\": {\"colorbar\": {\"outlinewidth\": 0, \"ticks\": \"\"}}, \"type\": \"scatter3d\"}], \"scattercarpet\": [{\"marker\": {\"colorbar\": {\"outlinewidth\": 0, \"ticks\": \"\"}}, \"type\": \"scattercarpet\"}], \"scattergeo\": [{\"marker\": {\"colorbar\": {\"outlinewidth\": 0, \"ticks\": \"\"}}, \"type\": \"scattergeo\"}], \"scattergl\": [{\"marker\": {\"colorbar\": {\"outlinewidth\": 0, \"ticks\": \"\"}}, \"type\": \"scattergl\"}], \"scattermapbox\": [{\"marker\": {\"colorbar\": {\"outlinewidth\": 0, \"ticks\": \"\"}}, \"type\": \"scattermapbox\"}], \"scatterpolar\": [{\"marker\": {\"colorbar\": {\"outlinewidth\": 0, \"ticks\": \"\"}}, \"type\": \"scatterpolar\"}], \"scatterpolargl\": [{\"marker\": {\"colorbar\": {\"outlinewidth\": 0, \"ticks\": \"\"}}, \"type\": \"scatterpolargl\"}], \"scatterternary\": [{\"marker\": {\"colorbar\": {\"outlinewidth\": 0, \"ticks\": \"\"}}, \"type\": \"scatterternary\"}], \"surface\": [{\"colorbar\": {\"outlinewidth\": 0, \"ticks\": \"\"}, \"colorscale\": [[0.0, \"#0d0887\"], [0.1111111111111111, \"#46039f\"], [0.2222222222222222, \"#7201a8\"], [0.3333333333333333, \"#9c179e\"], [0.4444444444444444, \"#bd3786\"], [0.5555555555555556, \"#d8576b\"], [0.6666666666666666, \"#ed7953\"], [0.7777777777777778, \"#fb9f3a\"], [0.8888888888888888, \"#fdca26\"], [1.0, \"#f0f921\"]], \"type\": \"surface\"}], \"table\": [{\"cells\": {\"fill\": {\"color\": \"#EBF0F8\"}, \"line\": {\"color\": \"white\"}}, \"header\": {\"fill\": {\"color\": \"#C8D4E3\"}, \"line\": {\"color\": \"white\"}}, \"type\": \"table\"}]}, \"layout\": {\"annotationdefaults\": {\"arrowcolor\": \"#2a3f5f\", \"arrowhead\": 0, \"arrowwidth\": 1}, \"coloraxis\": {\"colorbar\": {\"outlinewidth\": 0, \"ticks\": \"\"}}, \"colorscale\": {\"diverging\": [[0, \"#8e0152\"], [0.1, \"#c51b7d\"], [0.2, \"#de77ae\"], [0.3, \"#f1b6da\"], [0.4, \"#fde0ef\"], [0.5, \"#f7f7f7\"], [0.6, \"#e6f5d0\"], [0.7, \"#b8e186\"], [0.8, \"#7fbc41\"], [0.9, \"#4d9221\"], [1, \"#276419\"]], \"sequential\": [[0.0, \"#0d0887\"], [0.1111111111111111, \"#46039f\"], [0.2222222222222222, \"#7201a8\"], [0.3333333333333333, \"#9c179e\"], [0.4444444444444444, \"#bd3786\"], [0.5555555555555556, \"#d8576b\"], [0.6666666666666666, \"#ed7953\"], [0.7777777777777778, \"#fb9f3a\"], [0.8888888888888888, \"#fdca26\"], [1.0, \"#f0f921\"]], \"sequentialminus\": [[0.0, \"#0d0887\"], [0.1111111111111111, \"#46039f\"], [0.2222222222222222, \"#7201a8\"], [0.3333333333333333, \"#9c179e\"], [0.4444444444444444, \"#bd3786\"], [0.5555555555555556, \"#d8576b\"], [0.6666666666666666, \"#ed7953\"], [0.7777777777777778, \"#fb9f3a\"], [0.8888888888888888, \"#fdca26\"], [1.0, \"#f0f921\"]]}, \"colorway\": [\"#636efa\", \"#EF553B\", \"#00cc96\", \"#ab63fa\", \"#FFA15A\", \"#19d3f3\", \"#FF6692\", \"#B6E880\", \"#FF97FF\", \"#FECB52\"], \"font\": {\"color\": \"#2a3f5f\"}, \"geo\": {\"bgcolor\": \"white\", \"lakecolor\": \"white\", \"landcolor\": \"#E5ECF6\", \"showlakes\": true, \"showland\": true, \"subunitcolor\": \"white\"}, \"hoverlabel\": {\"align\": \"left\"}, \"hovermode\": \"closest\", \"mapbox\": {\"style\": \"light\"}, \"paper_bgcolor\": \"white\", \"plot_bgcolor\": \"#E5ECF6\", \"polar\": {\"angularaxis\": {\"gridcolor\": \"white\", \"linecolor\": \"white\", \"ticks\": \"\"}, \"bgcolor\": \"#E5ECF6\", \"radialaxis\": {\"gridcolor\": \"white\", \"linecolor\": \"white\", \"ticks\": \"\"}}, \"scene\": {\"xaxis\": {\"backgroundcolor\": \"#E5ECF6\", \"gridcolor\": \"white\", \"gridwidth\": 2, \"linecolor\": \"white\", \"showbackground\": true, \"ticks\": \"\", \"zerolinecolor\": \"white\"}, \"yaxis\": {\"backgroundcolor\": \"#E5ECF6\", \"gridcolor\": \"white\", \"gridwidth\": 2, \"linecolor\": \"white\", \"showbackground\": true, \"ticks\": \"\", \"zerolinecolor\": \"white\"}, \"zaxis\": {\"backgroundcolor\": \"#E5ECF6\", \"gridcolor\": \"white\", \"gridwidth\": 2, \"linecolor\": \"white\", \"showbackground\": true, \"ticks\": \"\", \"zerolinecolor\": \"white\"}}, \"shapedefaults\": {\"line\": {\"color\": \"#2a3f5f\"}}, \"ternary\": {\"aaxis\": {\"gridcolor\": \"white\", \"linecolor\": \"white\", \"ticks\": \"\"}, \"baxis\": {\"gridcolor\": \"white\", \"linecolor\": \"white\", \"ticks\": \"\"}, \"bgcolor\": \"#E5ECF6\", \"caxis\": {\"gridcolor\": \"white\", \"linecolor\": \"white\", \"ticks\": \"\"}}, \"title\": {\"x\": 0.05}, \"xaxis\": {\"automargin\": true, \"gridcolor\": \"white\", \"linecolor\": \"white\", \"ticks\": \"\", \"title\": {\"standoff\": 15}, \"zerolinecolor\": \"white\", \"zerolinewidth\": 2}, \"yaxis\": {\"automargin\": true, \"gridcolor\": \"white\", \"linecolor\": \"white\", \"ticks\": \"\", \"title\": {\"standoff\": 15}, \"zerolinecolor\": \"white\", \"zerolinewidth\": 2}}}, \"title\": {\"text\": \"Kp indices start from year 2011<br>Orbit file:DAED_ORB_Lifetime_LLA_MLT_MLat_RAAN00_010s.csv<br>Results file:DAED_ORB_Lifetime_LLA_MLT_MLat_RAAN00_010s_Kp2011.CoverageResults.txt<br><b>Magnetic Latitudes from 60&#176; to 75&#176;</b><br>\"}, \"width\": 1100, \"xaxis\": {\"range\": [0, 904], \"showgrid\": false, \"tickmode\": \"array\", \"ticktext\": [\"Kp 0-2<br>22-2\", \"Kp 2-4<br>22-2\", \"Kp 4-9<br>22-2\", \"Kp 0-2<br>16-20\", \"Kp 2-4<br>16-20\", \"Kp 4-9<br>16-20\", \"Kp 0-2<br>4-8\", \"Kp 2-4<br>4-8\", \"Kp 4-9<br>4-8\"], \"tickvals\": [60.0, 150.0, 240.0, 358.0, 448.0, 538.0, 656.0, 746.0, 836.0], \"title\": {\"text\": \"Kp index range<br>Magnetic Local Time range\"}}, \"yaxis\": {\"range\": [2.0566978403536114, 2.7069700043360183], \"tickvals\": [115, 120, 125, 130, 135, 140, 123.33333, 131.66666, 185, 230, 275, 320, 365, 410, 455, 500, 260, 380], \"title\": {\"text\": \"Altitude (km)\"}, \"type\": \"log\"}},\n",
       "                        {\"responsive\": true}\n",
       "                    ).then(function(){\n",
       "                            \n",
       "var gd = document.getElementById('93ba4fb2-23f9-409a-b005-0a8a415a86d0');\n",
       "var x = new MutationObserver(function (mutations, observer) {{\n",
       "        var display = window.getComputedStyle(gd).display;\n",
       "        if (!display || display === 'none') {{\n",
       "            console.log([gd, 'removed!']);\n",
       "            Plotly.purge(gd);\n",
       "            observer.disconnect();\n",
       "        }}\n",
       "}});\n",
       "\n",
       "// Listen for the removal of the full notebook cells\n",
       "var notebookContainer = gd.closest('#notebook-container');\n",
       "if (notebookContainer) {{\n",
       "    x.observe(notebookContainer, {childList: true});\n",
       "}}\n",
       "\n",
       "// Listen for the clearing of the current output cell\n",
       "var outputEl = gd.closest('.output');\n",
       "if (outputEl) {{\n",
       "    x.observe(outputEl, {childList: true});\n",
       "}}\n",
       "\n",
       "                        })\n",
       "                };\n",
       "                });\n",
       "            </script>\n",
       "        </div>"
      ]
     },
     "metadata": {},
     "output_type": "display_data"
    },
    {
     "data": {
      "text/html": [
       "        <script type=\"text/javascript\">\n",
       "        window.PlotlyConfig = {MathJaxConfig: 'local'};\n",
       "        if (window.MathJax) {MathJax.Hub.Config({SVG: {font: \"STIX-Web\"}});}\n",
       "        if (typeof require !== 'undefined') {\n",
       "        require.undef(\"plotly\");\n",
       "        requirejs.config({\n",
       "            paths: {\n",
       "                'plotly': ['https://cdn.plot.ly/plotly-latest.min']\n",
       "            }\n",
       "        });\n",
       "        require(['plotly'], function(Plotly) {\n",
       "            window._Plotly = Plotly;\n",
       "        });\n",
       "        }\n",
       "        </script>\n",
       "        "
      ]
     },
     "metadata": {},
     "output_type": "display_data"
    },
    {
     "data": {
      "application/vnd.plotly.v1+json": {
       "config": {
        "linkText": "Export to plot.ly",
        "plotlyServerURL": "https://plot.ly",
        "showLink": false
       },
       "data": [
        {
         "mode": "text",
         "text": [
          "EEJ_A1<br>  0 / 10"
         ],
         "type": "scatter",
         "x": [
          60
         ],
         "y": [
          119.166665
         ]
        },
        {
         "mode": "text",
         "text": [
          "EEJ_A2<br>  0 / 10"
         ],
         "type": "scatter",
         "x": [
          60
         ],
         "y": [
          127.49999500000001
         ]
        },
        {
         "mode": "text",
         "text": [
          "EEJ_A3<br>  2 / 10"
         ],
         "type": "scatter",
         "x": [
          60
         ],
         "y": [
          135.83333
         ]
        },
        {
         "marker": {
          "color": [
           0,
           100
          ],
          "colorbar": {
           "ticktext": [
            "empty",
            "full"
           ],
           "tickvals": [
            0,
            100
           ]
          },
          "colorscale": [
           [
            0,
            "rgb(247,251,255)"
           ],
           [
            0.125,
            "rgb(222,235,247)"
           ],
           [
            0.25,
            "rgb(198,219,239)"
           ],
           [
            0.375,
            "rgb(158,202,225)"
           ],
           [
            0.5,
            "rgb(107,174,214)"
           ],
           [
            0.625,
            "rgb(66,146,198)"
           ],
           [
            0.75,
            "rgb(33,113,181)"
           ],
           [
            0.875,
            "rgb(8,81,156)"
           ],
           [
            1,
            "rgb(8,48,107)"
           ]
          ]
         },
         "mode": "markers",
         "opacity": 0,
         "type": "scatter",
         "x": [
          0,
          0
         ],
         "y": [
          0,
          0
         ]
        }
       ],
       "layout": {
        "colorscale": {
         "sequential": [
          [
           0,
           "rgb(247,251,255)"
          ],
          [
           0.125,
           "rgb(222,235,247)"
          ],
          [
           0.25,
           "rgb(198,219,239)"
          ],
          [
           0.375,
           "rgb(158,202,225)"
          ],
          [
           0.5,
           "rgb(107,174,214)"
          ],
          [
           0.625,
           "rgb(66,146,198)"
          ],
          [
           0.75,
           "rgb(33,113,181)"
          ],
          [
           0.875,
           "rgb(8,81,156)"
          ],
          [
           1,
           "rgb(8,48,107)"
          ]
         ]
        },
        "height": 1640,
        "margin": {
         "b": 150,
         "t": 150
        },
        "shapes": [
         {
          "fillcolor": "rgba(0.9686274509803922, 0.984313725490196, 1.0, 1.0)",
          "line": {
           "color": "RoyalBlue",
           "width": 3
          },
          "opacity": 0.8,
          "type": "rect",
          "x0": 20,
          "x1": 100,
          "xref": "x",
          "y0": 115,
          "y1": 123.33333,
          "yref": "y"
         },
         {
          "fillcolor": "rgba(0.9686274509803922, 0.984313725490196, 1.0, 1.0)",
          "line": {
           "color": "RoyalBlue",
           "width": 3
          },
          "opacity": 0.8,
          "type": "rect",
          "x0": 20,
          "x1": 100,
          "xref": "x",
          "y0": 123.33333,
          "y1": 131.66666,
          "yref": "y"
         },
         {
          "fillcolor": "rgba(0.8406920415224913, 0.9016378316032295, 0.9586620530565167, 1.0)",
          "line": {
           "color": "RoyalBlue",
           "width": 3
          },
          "opacity": 0.8,
          "type": "rect",
          "x0": 20,
          "x1": 100,
          "xref": "x",
          "y0": 131.66666,
          "y1": 140,
          "yref": "y"
         }
        ],
        "showlegend": false,
        "template": {
         "data": {
          "bar": [
           {
            "error_x": {
             "color": "#2a3f5f"
            },
            "error_y": {
             "color": "#2a3f5f"
            },
            "marker": {
             "line": {
              "color": "#E5ECF6",
              "width": 0.5
             }
            },
            "type": "bar"
           }
          ],
          "barpolar": [
           {
            "marker": {
             "line": {
              "color": "#E5ECF6",
              "width": 0.5
             }
            },
            "type": "barpolar"
           }
          ],
          "carpet": [
           {
            "aaxis": {
             "endlinecolor": "#2a3f5f",
             "gridcolor": "white",
             "linecolor": "white",
             "minorgridcolor": "white",
             "startlinecolor": "#2a3f5f"
            },
            "baxis": {
             "endlinecolor": "#2a3f5f",
             "gridcolor": "white",
             "linecolor": "white",
             "minorgridcolor": "white",
             "startlinecolor": "#2a3f5f"
            },
            "type": "carpet"
           }
          ],
          "choropleth": [
           {
            "colorbar": {
             "outlinewidth": 0,
             "ticks": ""
            },
            "type": "choropleth"
           }
          ],
          "contour": [
           {
            "colorbar": {
             "outlinewidth": 0,
             "ticks": ""
            },
            "colorscale": [
             [
              0,
              "#0d0887"
             ],
             [
              0.1111111111111111,
              "#46039f"
             ],
             [
              0.2222222222222222,
              "#7201a8"
             ],
             [
              0.3333333333333333,
              "#9c179e"
             ],
             [
              0.4444444444444444,
              "#bd3786"
             ],
             [
              0.5555555555555556,
              "#d8576b"
             ],
             [
              0.6666666666666666,
              "#ed7953"
             ],
             [
              0.7777777777777778,
              "#fb9f3a"
             ],
             [
              0.8888888888888888,
              "#fdca26"
             ],
             [
              1,
              "#f0f921"
             ]
            ],
            "type": "contour"
           }
          ],
          "contourcarpet": [
           {
            "colorbar": {
             "outlinewidth": 0,
             "ticks": ""
            },
            "type": "contourcarpet"
           }
          ],
          "heatmap": [
           {
            "colorbar": {
             "outlinewidth": 0,
             "ticks": ""
            },
            "colorscale": [
             [
              0,
              "#0d0887"
             ],
             [
              0.1111111111111111,
              "#46039f"
             ],
             [
              0.2222222222222222,
              "#7201a8"
             ],
             [
              0.3333333333333333,
              "#9c179e"
             ],
             [
              0.4444444444444444,
              "#bd3786"
             ],
             [
              0.5555555555555556,
              "#d8576b"
             ],
             [
              0.6666666666666666,
              "#ed7953"
             ],
             [
              0.7777777777777778,
              "#fb9f3a"
             ],
             [
              0.8888888888888888,
              "#fdca26"
             ],
             [
              1,
              "#f0f921"
             ]
            ],
            "type": "heatmap"
           }
          ],
          "heatmapgl": [
           {
            "colorbar": {
             "outlinewidth": 0,
             "ticks": ""
            },
            "colorscale": [
             [
              0,
              "#0d0887"
             ],
             [
              0.1111111111111111,
              "#46039f"
             ],
             [
              0.2222222222222222,
              "#7201a8"
             ],
             [
              0.3333333333333333,
              "#9c179e"
             ],
             [
              0.4444444444444444,
              "#bd3786"
             ],
             [
              0.5555555555555556,
              "#d8576b"
             ],
             [
              0.6666666666666666,
              "#ed7953"
             ],
             [
              0.7777777777777778,
              "#fb9f3a"
             ],
             [
              0.8888888888888888,
              "#fdca26"
             ],
             [
              1,
              "#f0f921"
             ]
            ],
            "type": "heatmapgl"
           }
          ],
          "histogram": [
           {
            "marker": {
             "colorbar": {
              "outlinewidth": 0,
              "ticks": ""
             }
            },
            "type": "histogram"
           }
          ],
          "histogram2d": [
           {
            "colorbar": {
             "outlinewidth": 0,
             "ticks": ""
            },
            "colorscale": [
             [
              0,
              "#0d0887"
             ],
             [
              0.1111111111111111,
              "#46039f"
             ],
             [
              0.2222222222222222,
              "#7201a8"
             ],
             [
              0.3333333333333333,
              "#9c179e"
             ],
             [
              0.4444444444444444,
              "#bd3786"
             ],
             [
              0.5555555555555556,
              "#d8576b"
             ],
             [
              0.6666666666666666,
              "#ed7953"
             ],
             [
              0.7777777777777778,
              "#fb9f3a"
             ],
             [
              0.8888888888888888,
              "#fdca26"
             ],
             [
              1,
              "#f0f921"
             ]
            ],
            "type": "histogram2d"
           }
          ],
          "histogram2dcontour": [
           {
            "colorbar": {
             "outlinewidth": 0,
             "ticks": ""
            },
            "colorscale": [
             [
              0,
              "#0d0887"
             ],
             [
              0.1111111111111111,
              "#46039f"
             ],
             [
              0.2222222222222222,
              "#7201a8"
             ],
             [
              0.3333333333333333,
              "#9c179e"
             ],
             [
              0.4444444444444444,
              "#bd3786"
             ],
             [
              0.5555555555555556,
              "#d8576b"
             ],
             [
              0.6666666666666666,
              "#ed7953"
             ],
             [
              0.7777777777777778,
              "#fb9f3a"
             ],
             [
              0.8888888888888888,
              "#fdca26"
             ],
             [
              1,
              "#f0f921"
             ]
            ],
            "type": "histogram2dcontour"
           }
          ],
          "mesh3d": [
           {
            "colorbar": {
             "outlinewidth": 0,
             "ticks": ""
            },
            "type": "mesh3d"
           }
          ],
          "parcoords": [
           {
            "line": {
             "colorbar": {
              "outlinewidth": 0,
              "ticks": ""
             }
            },
            "type": "parcoords"
           }
          ],
          "pie": [
           {
            "automargin": true,
            "type": "pie"
           }
          ],
          "scatter": [
           {
            "marker": {
             "colorbar": {
              "outlinewidth": 0,
              "ticks": ""
             }
            },
            "type": "scatter"
           }
          ],
          "scatter3d": [
           {
            "line": {
             "colorbar": {
              "outlinewidth": 0,
              "ticks": ""
             }
            },
            "marker": {
             "colorbar": {
              "outlinewidth": 0,
              "ticks": ""
             }
            },
            "type": "scatter3d"
           }
          ],
          "scattercarpet": [
           {
            "marker": {
             "colorbar": {
              "outlinewidth": 0,
              "ticks": ""
             }
            },
            "type": "scattercarpet"
           }
          ],
          "scattergeo": [
           {
            "marker": {
             "colorbar": {
              "outlinewidth": 0,
              "ticks": ""
             }
            },
            "type": "scattergeo"
           }
          ],
          "scattergl": [
           {
            "marker": {
             "colorbar": {
              "outlinewidth": 0,
              "ticks": ""
             }
            },
            "type": "scattergl"
           }
          ],
          "scattermapbox": [
           {
            "marker": {
             "colorbar": {
              "outlinewidth": 0,
              "ticks": ""
             }
            },
            "type": "scattermapbox"
           }
          ],
          "scatterpolar": [
           {
            "marker": {
             "colorbar": {
              "outlinewidth": 0,
              "ticks": ""
             }
            },
            "type": "scatterpolar"
           }
          ],
          "scatterpolargl": [
           {
            "marker": {
             "colorbar": {
              "outlinewidth": 0,
              "ticks": ""
             }
            },
            "type": "scatterpolargl"
           }
          ],
          "scatterternary": [
           {
            "marker": {
             "colorbar": {
              "outlinewidth": 0,
              "ticks": ""
             }
            },
            "type": "scatterternary"
           }
          ],
          "surface": [
           {
            "colorbar": {
             "outlinewidth": 0,
             "ticks": ""
            },
            "colorscale": [
             [
              0,
              "#0d0887"
             ],
             [
              0.1111111111111111,
              "#46039f"
             ],
             [
              0.2222222222222222,
              "#7201a8"
             ],
             [
              0.3333333333333333,
              "#9c179e"
             ],
             [
              0.4444444444444444,
              "#bd3786"
             ],
             [
              0.5555555555555556,
              "#d8576b"
             ],
             [
              0.6666666666666666,
              "#ed7953"
             ],
             [
              0.7777777777777778,
              "#fb9f3a"
             ],
             [
              0.8888888888888888,
              "#fdca26"
             ],
             [
              1,
              "#f0f921"
             ]
            ],
            "type": "surface"
           }
          ],
          "table": [
           {
            "cells": {
             "fill": {
              "color": "#EBF0F8"
             },
             "line": {
              "color": "white"
             }
            },
            "header": {
             "fill": {
              "color": "#C8D4E3"
             },
             "line": {
              "color": "white"
             }
            },
            "type": "table"
           }
          ]
         },
         "layout": {
          "annotationdefaults": {
           "arrowcolor": "#2a3f5f",
           "arrowhead": 0,
           "arrowwidth": 1
          },
          "coloraxis": {
           "colorbar": {
            "outlinewidth": 0,
            "ticks": ""
           }
          },
          "colorscale": {
           "diverging": [
            [
             0,
             "#8e0152"
            ],
            [
             0.1,
             "#c51b7d"
            ],
            [
             0.2,
             "#de77ae"
            ],
            [
             0.3,
             "#f1b6da"
            ],
            [
             0.4,
             "#fde0ef"
            ],
            [
             0.5,
             "#f7f7f7"
            ],
            [
             0.6,
             "#e6f5d0"
            ],
            [
             0.7,
             "#b8e186"
            ],
            [
             0.8,
             "#7fbc41"
            ],
            [
             0.9,
             "#4d9221"
            ],
            [
             1,
             "#276419"
            ]
           ],
           "sequential": [
            [
             0,
             "#0d0887"
            ],
            [
             0.1111111111111111,
             "#46039f"
            ],
            [
             0.2222222222222222,
             "#7201a8"
            ],
            [
             0.3333333333333333,
             "#9c179e"
            ],
            [
             0.4444444444444444,
             "#bd3786"
            ],
            [
             0.5555555555555556,
             "#d8576b"
            ],
            [
             0.6666666666666666,
             "#ed7953"
            ],
            [
             0.7777777777777778,
             "#fb9f3a"
            ],
            [
             0.8888888888888888,
             "#fdca26"
            ],
            [
             1,
             "#f0f921"
            ]
           ],
           "sequentialminus": [
            [
             0,
             "#0d0887"
            ],
            [
             0.1111111111111111,
             "#46039f"
            ],
            [
             0.2222222222222222,
             "#7201a8"
            ],
            [
             0.3333333333333333,
             "#9c179e"
            ],
            [
             0.4444444444444444,
             "#bd3786"
            ],
            [
             0.5555555555555556,
             "#d8576b"
            ],
            [
             0.6666666666666666,
             "#ed7953"
            ],
            [
             0.7777777777777778,
             "#fb9f3a"
            ],
            [
             0.8888888888888888,
             "#fdca26"
            ],
            [
             1,
             "#f0f921"
            ]
           ]
          },
          "colorway": [
           "#636efa",
           "#EF553B",
           "#00cc96",
           "#ab63fa",
           "#FFA15A",
           "#19d3f3",
           "#FF6692",
           "#B6E880",
           "#FF97FF",
           "#FECB52"
          ],
          "font": {
           "color": "#2a3f5f"
          },
          "geo": {
           "bgcolor": "white",
           "lakecolor": "white",
           "landcolor": "#E5ECF6",
           "showlakes": true,
           "showland": true,
           "subunitcolor": "white"
          },
          "hoverlabel": {
           "align": "left"
          },
          "hovermode": "closest",
          "mapbox": {
           "style": "light"
          },
          "paper_bgcolor": "white",
          "plot_bgcolor": "#E5ECF6",
          "polar": {
           "angularaxis": {
            "gridcolor": "white",
            "linecolor": "white",
            "ticks": ""
           },
           "bgcolor": "#E5ECF6",
           "radialaxis": {
            "gridcolor": "white",
            "linecolor": "white",
            "ticks": ""
           }
          },
          "scene": {
           "xaxis": {
            "backgroundcolor": "#E5ECF6",
            "gridcolor": "white",
            "gridwidth": 2,
            "linecolor": "white",
            "showbackground": true,
            "ticks": "",
            "zerolinecolor": "white"
           },
           "yaxis": {
            "backgroundcolor": "#E5ECF6",
            "gridcolor": "white",
            "gridwidth": 2,
            "linecolor": "white",
            "showbackground": true,
            "ticks": "",
            "zerolinecolor": "white"
           },
           "zaxis": {
            "backgroundcolor": "#E5ECF6",
            "gridcolor": "white",
            "gridwidth": 2,
            "linecolor": "white",
            "showbackground": true,
            "ticks": "",
            "zerolinecolor": "white"
           }
          },
          "shapedefaults": {
           "line": {
            "color": "#2a3f5f"
           }
          },
          "ternary": {
           "aaxis": {
            "gridcolor": "white",
            "linecolor": "white",
            "ticks": ""
           },
           "baxis": {
            "gridcolor": "white",
            "linecolor": "white",
            "ticks": ""
           },
           "bgcolor": "#E5ECF6",
           "caxis": {
            "gridcolor": "white",
            "linecolor": "white",
            "ticks": ""
           }
          },
          "title": {
           "x": 0.05
          },
          "xaxis": {
           "automargin": true,
           "gridcolor": "white",
           "linecolor": "white",
           "ticks": "",
           "title": {
            "standoff": 15
           },
           "zerolinecolor": "white",
           "zerolinewidth": 2
          },
          "yaxis": {
           "automargin": true,
           "gridcolor": "white",
           "linecolor": "white",
           "ticks": "",
           "title": {
            "standoff": 15
           },
           "zerolinecolor": "white",
           "zerolinewidth": 2
          }
         }
        },
        "title": {
         "text": "Kp indices start from year 2011<br>Orbit file:DAED_ORB_Lifetime_LLA_MLT_MLat_RAAN00_010s.csv<br>Results file:DAED_ORB_Lifetime_LLA_MLT_MLat_RAAN00_010s_Kp2011.CoverageResults.txt<br><b>Magnetic Latitudes from -7&#176; to 7&#176;</b><br>"
        },
        "width": 1100,
        "xaxis": {
         "range": [
          0,
          128
         ],
         "showgrid": false,
         "tickmode": "array",
         "ticktext": [
          "Kp 0-9<br>10-13"
         ],
         "tickvals": [
          60
         ],
         "title": {
          "text": "Kp index range<br>Magnetic Local Time range"
         }
        },
        "yaxis": {
         "range": [
          2.0566978403536114,
          2.1541280356782377
         ],
         "tickvals": [
          115,
          123.33333,
          131.66666,
          140
         ],
         "title": {
          "text": "Altitude (km)"
         },
         "type": "log"
        }
       }
      },
      "text/html": [
       "<div>\n",
       "        \n",
       "        \n",
       "            <div id=\"dd5b17d9-9010-4518-9be9-0fcadbdfb0b5\" class=\"plotly-graph-div\" style=\"height:1640px; width:1100px;\"></div>\n",
       "            <script type=\"text/javascript\">\n",
       "                require([\"plotly\"], function(Plotly) {\n",
       "                    window.PLOTLYENV=window.PLOTLYENV || {};\n",
       "                    \n",
       "                if (document.getElementById(\"dd5b17d9-9010-4518-9be9-0fcadbdfb0b5\")) {\n",
       "                    Plotly.newPlot(\n",
       "                        'dd5b17d9-9010-4518-9be9-0fcadbdfb0b5',\n",
       "                        [{\"mode\": \"text\", \"text\": [\"EEJ_A1<br>  0 / 10\"], \"type\": \"scatter\", \"x\": [60.0], \"y\": [119.166665]}, {\"mode\": \"text\", \"text\": [\"EEJ_A2<br>  0 / 10\"], \"type\": \"scatter\", \"x\": [60.0], \"y\": [127.49999500000001]}, {\"mode\": \"text\", \"text\": [\"EEJ_A3<br>  2 / 10\"], \"type\": \"scatter\", \"x\": [60.0], \"y\": [135.83333]}, {\"marker\": {\"color\": [0, 100], \"colorbar\": {\"ticktext\": [\"empty\", \"full\"], \"tickvals\": [0, 100]}, \"colorscale\": [[0.0, \"rgb(247,251,255)\"], [0.125, \"rgb(222,235,247)\"], [0.25, \"rgb(198,219,239)\"], [0.375, \"rgb(158,202,225)\"], [0.5, \"rgb(107,174,214)\"], [0.625, \"rgb(66,146,198)\"], [0.75, \"rgb(33,113,181)\"], [0.875, \"rgb(8,81,156)\"], [1.0, \"rgb(8,48,107)\"]]}, \"mode\": \"markers\", \"opacity\": 0, \"type\": \"scatter\", \"x\": [0, 0], \"y\": [0, 0]}],\n",
       "                        {\"colorscale\": {\"sequential\": [[0.0, \"rgb(247,251,255)\"], [0.125, \"rgb(222,235,247)\"], [0.25, \"rgb(198,219,239)\"], [0.375, \"rgb(158,202,225)\"], [0.5, \"rgb(107,174,214)\"], [0.625, \"rgb(66,146,198)\"], [0.75, \"rgb(33,113,181)\"], [0.875, \"rgb(8,81,156)\"], [1.0, \"rgb(8,48,107)\"]]}, \"height\": 1640, \"margin\": {\"b\": 150, \"t\": 150}, \"shapes\": [{\"fillcolor\": \"rgba(0.9686274509803922, 0.984313725490196, 1.0, 1.0)\", \"line\": {\"color\": \"RoyalBlue\", \"width\": 3}, \"opacity\": 0.8, \"type\": \"rect\", \"x0\": 20, \"x1\": 100, \"xref\": \"x\", \"y0\": 115, \"y1\": 123.33333, \"yref\": \"y\"}, {\"fillcolor\": \"rgba(0.9686274509803922, 0.984313725490196, 1.0, 1.0)\", \"line\": {\"color\": \"RoyalBlue\", \"width\": 3}, \"opacity\": 0.8, \"type\": \"rect\", \"x0\": 20, \"x1\": 100, \"xref\": \"x\", \"y0\": 123.33333, \"y1\": 131.66666, \"yref\": \"y\"}, {\"fillcolor\": \"rgba(0.8406920415224913, 0.9016378316032295, 0.9586620530565167, 1.0)\", \"line\": {\"color\": \"RoyalBlue\", \"width\": 3}, \"opacity\": 0.8, \"type\": \"rect\", \"x0\": 20, \"x1\": 100, \"xref\": \"x\", \"y0\": 131.66666, \"y1\": 140, \"yref\": \"y\"}], \"showlegend\": false, \"template\": {\"data\": {\"bar\": [{\"error_x\": {\"color\": \"#2a3f5f\"}, \"error_y\": {\"color\": \"#2a3f5f\"}, \"marker\": {\"line\": {\"color\": \"#E5ECF6\", \"width\": 0.5}}, \"type\": \"bar\"}], \"barpolar\": [{\"marker\": {\"line\": {\"color\": \"#E5ECF6\", \"width\": 0.5}}, \"type\": \"barpolar\"}], \"carpet\": [{\"aaxis\": {\"endlinecolor\": \"#2a3f5f\", \"gridcolor\": \"white\", \"linecolor\": \"white\", \"minorgridcolor\": \"white\", \"startlinecolor\": \"#2a3f5f\"}, \"baxis\": {\"endlinecolor\": \"#2a3f5f\", \"gridcolor\": \"white\", \"linecolor\": \"white\", \"minorgridcolor\": \"white\", \"startlinecolor\": \"#2a3f5f\"}, \"type\": \"carpet\"}], \"choropleth\": [{\"colorbar\": {\"outlinewidth\": 0, \"ticks\": \"\"}, \"type\": \"choropleth\"}], \"contour\": [{\"colorbar\": {\"outlinewidth\": 0, \"ticks\": \"\"}, \"colorscale\": [[0.0, \"#0d0887\"], [0.1111111111111111, \"#46039f\"], [0.2222222222222222, \"#7201a8\"], [0.3333333333333333, \"#9c179e\"], [0.4444444444444444, \"#bd3786\"], [0.5555555555555556, \"#d8576b\"], [0.6666666666666666, \"#ed7953\"], [0.7777777777777778, \"#fb9f3a\"], [0.8888888888888888, \"#fdca26\"], [1.0, \"#f0f921\"]], \"type\": \"contour\"}], \"contourcarpet\": [{\"colorbar\": {\"outlinewidth\": 0, \"ticks\": \"\"}, \"type\": \"contourcarpet\"}], \"heatmap\": [{\"colorbar\": {\"outlinewidth\": 0, \"ticks\": \"\"}, \"colorscale\": [[0.0, \"#0d0887\"], [0.1111111111111111, \"#46039f\"], [0.2222222222222222, \"#7201a8\"], [0.3333333333333333, \"#9c179e\"], [0.4444444444444444, \"#bd3786\"], [0.5555555555555556, \"#d8576b\"], [0.6666666666666666, \"#ed7953\"], [0.7777777777777778, \"#fb9f3a\"], [0.8888888888888888, \"#fdca26\"], [1.0, \"#f0f921\"]], \"type\": \"heatmap\"}], \"heatmapgl\": [{\"colorbar\": {\"outlinewidth\": 0, \"ticks\": \"\"}, \"colorscale\": [[0.0, \"#0d0887\"], [0.1111111111111111, \"#46039f\"], [0.2222222222222222, \"#7201a8\"], [0.3333333333333333, \"#9c179e\"], [0.4444444444444444, \"#bd3786\"], [0.5555555555555556, \"#d8576b\"], [0.6666666666666666, \"#ed7953\"], [0.7777777777777778, \"#fb9f3a\"], [0.8888888888888888, \"#fdca26\"], [1.0, \"#f0f921\"]], \"type\": \"heatmapgl\"}], \"histogram\": [{\"marker\": {\"colorbar\": {\"outlinewidth\": 0, \"ticks\": \"\"}}, \"type\": \"histogram\"}], \"histogram2d\": [{\"colorbar\": {\"outlinewidth\": 0, \"ticks\": \"\"}, \"colorscale\": [[0.0, \"#0d0887\"], [0.1111111111111111, \"#46039f\"], [0.2222222222222222, \"#7201a8\"], [0.3333333333333333, \"#9c179e\"], [0.4444444444444444, \"#bd3786\"], [0.5555555555555556, \"#d8576b\"], [0.6666666666666666, \"#ed7953\"], [0.7777777777777778, \"#fb9f3a\"], [0.8888888888888888, \"#fdca26\"], [1.0, \"#f0f921\"]], \"type\": \"histogram2d\"}], \"histogram2dcontour\": [{\"colorbar\": {\"outlinewidth\": 0, \"ticks\": \"\"}, \"colorscale\": [[0.0, \"#0d0887\"], [0.1111111111111111, \"#46039f\"], [0.2222222222222222, \"#7201a8\"], [0.3333333333333333, \"#9c179e\"], [0.4444444444444444, \"#bd3786\"], [0.5555555555555556, \"#d8576b\"], [0.6666666666666666, \"#ed7953\"], [0.7777777777777778, \"#fb9f3a\"], [0.8888888888888888, \"#fdca26\"], [1.0, \"#f0f921\"]], \"type\": \"histogram2dcontour\"}], \"mesh3d\": [{\"colorbar\": {\"outlinewidth\": 0, \"ticks\": \"\"}, \"type\": \"mesh3d\"}], \"parcoords\": [{\"line\": {\"colorbar\": {\"outlinewidth\": 0, \"ticks\": \"\"}}, \"type\": \"parcoords\"}], \"pie\": [{\"automargin\": true, \"type\": \"pie\"}], \"scatter\": [{\"marker\": {\"colorbar\": {\"outlinewidth\": 0, \"ticks\": \"\"}}, \"type\": \"scatter\"}], \"scatter3d\": [{\"line\": {\"colorbar\": {\"outlinewidth\": 0, \"ticks\": \"\"}}, \"marker\": {\"colorbar\": {\"outlinewidth\": 0, \"ticks\": \"\"}}, \"type\": \"scatter3d\"}], \"scattercarpet\": [{\"marker\": {\"colorbar\": {\"outlinewidth\": 0, \"ticks\": \"\"}}, \"type\": \"scattercarpet\"}], \"scattergeo\": [{\"marker\": {\"colorbar\": {\"outlinewidth\": 0, \"ticks\": \"\"}}, \"type\": \"scattergeo\"}], \"scattergl\": [{\"marker\": {\"colorbar\": {\"outlinewidth\": 0, \"ticks\": \"\"}}, \"type\": \"scattergl\"}], \"scattermapbox\": [{\"marker\": {\"colorbar\": {\"outlinewidth\": 0, \"ticks\": \"\"}}, \"type\": \"scattermapbox\"}], \"scatterpolar\": [{\"marker\": {\"colorbar\": {\"outlinewidth\": 0, \"ticks\": \"\"}}, \"type\": \"scatterpolar\"}], \"scatterpolargl\": [{\"marker\": {\"colorbar\": {\"outlinewidth\": 0, \"ticks\": \"\"}}, \"type\": \"scatterpolargl\"}], \"scatterternary\": [{\"marker\": {\"colorbar\": {\"outlinewidth\": 0, \"ticks\": \"\"}}, \"type\": \"scatterternary\"}], \"surface\": [{\"colorbar\": {\"outlinewidth\": 0, \"ticks\": \"\"}, \"colorscale\": [[0.0, \"#0d0887\"], [0.1111111111111111, \"#46039f\"], [0.2222222222222222, \"#7201a8\"], [0.3333333333333333, \"#9c179e\"], [0.4444444444444444, \"#bd3786\"], [0.5555555555555556, \"#d8576b\"], [0.6666666666666666, \"#ed7953\"], [0.7777777777777778, \"#fb9f3a\"], [0.8888888888888888, \"#fdca26\"], [1.0, \"#f0f921\"]], \"type\": \"surface\"}], \"table\": [{\"cells\": {\"fill\": {\"color\": \"#EBF0F8\"}, \"line\": {\"color\": \"white\"}}, \"header\": {\"fill\": {\"color\": \"#C8D4E3\"}, \"line\": {\"color\": \"white\"}}, \"type\": \"table\"}]}, \"layout\": {\"annotationdefaults\": {\"arrowcolor\": \"#2a3f5f\", \"arrowhead\": 0, \"arrowwidth\": 1}, \"coloraxis\": {\"colorbar\": {\"outlinewidth\": 0, \"ticks\": \"\"}}, \"colorscale\": {\"diverging\": [[0, \"#8e0152\"], [0.1, \"#c51b7d\"], [0.2, \"#de77ae\"], [0.3, \"#f1b6da\"], [0.4, \"#fde0ef\"], [0.5, \"#f7f7f7\"], [0.6, \"#e6f5d0\"], [0.7, \"#b8e186\"], [0.8, \"#7fbc41\"], [0.9, \"#4d9221\"], [1, \"#276419\"]], \"sequential\": [[0.0, \"#0d0887\"], [0.1111111111111111, \"#46039f\"], [0.2222222222222222, \"#7201a8\"], [0.3333333333333333, \"#9c179e\"], [0.4444444444444444, \"#bd3786\"], [0.5555555555555556, \"#d8576b\"], [0.6666666666666666, \"#ed7953\"], [0.7777777777777778, \"#fb9f3a\"], [0.8888888888888888, \"#fdca26\"], [1.0, \"#f0f921\"]], \"sequentialminus\": [[0.0, \"#0d0887\"], [0.1111111111111111, \"#46039f\"], [0.2222222222222222, \"#7201a8\"], [0.3333333333333333, \"#9c179e\"], [0.4444444444444444, \"#bd3786\"], [0.5555555555555556, \"#d8576b\"], [0.6666666666666666, \"#ed7953\"], [0.7777777777777778, \"#fb9f3a\"], [0.8888888888888888, \"#fdca26\"], [1.0, \"#f0f921\"]]}, \"colorway\": [\"#636efa\", \"#EF553B\", \"#00cc96\", \"#ab63fa\", \"#FFA15A\", \"#19d3f3\", \"#FF6692\", \"#B6E880\", \"#FF97FF\", \"#FECB52\"], \"font\": {\"color\": \"#2a3f5f\"}, \"geo\": {\"bgcolor\": \"white\", \"lakecolor\": \"white\", \"landcolor\": \"#E5ECF6\", \"showlakes\": true, \"showland\": true, \"subunitcolor\": \"white\"}, \"hoverlabel\": {\"align\": \"left\"}, \"hovermode\": \"closest\", \"mapbox\": {\"style\": \"light\"}, \"paper_bgcolor\": \"white\", \"plot_bgcolor\": \"#E5ECF6\", \"polar\": {\"angularaxis\": {\"gridcolor\": \"white\", \"linecolor\": \"white\", \"ticks\": \"\"}, \"bgcolor\": \"#E5ECF6\", \"radialaxis\": {\"gridcolor\": \"white\", \"linecolor\": \"white\", \"ticks\": \"\"}}, \"scene\": {\"xaxis\": {\"backgroundcolor\": \"#E5ECF6\", \"gridcolor\": \"white\", \"gridwidth\": 2, \"linecolor\": \"white\", \"showbackground\": true, \"ticks\": \"\", \"zerolinecolor\": \"white\"}, \"yaxis\": {\"backgroundcolor\": \"#E5ECF6\", \"gridcolor\": \"white\", \"gridwidth\": 2, \"linecolor\": \"white\", \"showbackground\": true, \"ticks\": \"\", \"zerolinecolor\": \"white\"}, \"zaxis\": {\"backgroundcolor\": \"#E5ECF6\", \"gridcolor\": \"white\", \"gridwidth\": 2, \"linecolor\": \"white\", \"showbackground\": true, \"ticks\": \"\", \"zerolinecolor\": \"white\"}}, \"shapedefaults\": {\"line\": {\"color\": \"#2a3f5f\"}}, \"ternary\": {\"aaxis\": {\"gridcolor\": \"white\", \"linecolor\": \"white\", \"ticks\": \"\"}, \"baxis\": {\"gridcolor\": \"white\", \"linecolor\": \"white\", \"ticks\": \"\"}, \"bgcolor\": \"#E5ECF6\", \"caxis\": {\"gridcolor\": \"white\", \"linecolor\": \"white\", \"ticks\": \"\"}}, \"title\": {\"x\": 0.05}, \"xaxis\": {\"automargin\": true, \"gridcolor\": \"white\", \"linecolor\": \"white\", \"ticks\": \"\", \"title\": {\"standoff\": 15}, \"zerolinecolor\": \"white\", \"zerolinewidth\": 2}, \"yaxis\": {\"automargin\": true, \"gridcolor\": \"white\", \"linecolor\": \"white\", \"ticks\": \"\", \"title\": {\"standoff\": 15}, \"zerolinecolor\": \"white\", \"zerolinewidth\": 2}}}, \"title\": {\"text\": \"Kp indices start from year 2011<br>Orbit file:DAED_ORB_Lifetime_LLA_MLT_MLat_RAAN00_010s.csv<br>Results file:DAED_ORB_Lifetime_LLA_MLT_MLat_RAAN00_010s_Kp2011.CoverageResults.txt<br><b>Magnetic Latitudes from -7&#176; to 7&#176;</b><br>\"}, \"width\": 1100, \"xaxis\": {\"range\": [0, 128], \"showgrid\": false, \"tickmode\": \"array\", \"ticktext\": [\"Kp 0-9<br>10-13\"], \"tickvals\": [60.0], \"title\": {\"text\": \"Kp index range<br>Magnetic Local Time range\"}}, \"yaxis\": {\"range\": [2.0566978403536114, 2.1541280356782377], \"tickvals\": [115, 123.33333, 131.66666, 140], \"title\": {\"text\": \"Altitude (km)\"}, \"type\": \"log\"}},\n",
       "                        {\"responsive\": true}\n",
       "                    ).then(function(){\n",
       "                            \n",
       "var gd = document.getElementById('dd5b17d9-9010-4518-9be9-0fcadbdfb0b5');\n",
       "var x = new MutationObserver(function (mutations, observer) {{\n",
       "        var display = window.getComputedStyle(gd).display;\n",
       "        if (!display || display === 'none') {{\n",
       "            console.log([gd, 'removed!']);\n",
       "            Plotly.purge(gd);\n",
       "            observer.disconnect();\n",
       "        }}\n",
       "}});\n",
       "\n",
       "// Listen for the removal of the full notebook cells\n",
       "var notebookContainer = gd.closest('#notebook-container');\n",
       "if (notebookContainer) {{\n",
       "    x.observe(notebookContainer, {childList: true});\n",
       "}}\n",
       "\n",
       "// Listen for the clearing of the current output cell\n",
       "var outputEl = gd.closest('.output');\n",
       "if (outputEl) {{\n",
       "    x.observe(outputEl, {childList: true});\n",
       "}}\n",
       "\n",
       "                        })\n",
       "                };\n",
       "                });\n",
       "            </script>\n",
       "        </div>"
      ]
     },
     "metadata": {},
     "output_type": "display_data"
    },
    {
     "data": {
      "text/html": [
       "        <script type=\"text/javascript\">\n",
       "        window.PlotlyConfig = {MathJaxConfig: 'local'};\n",
       "        if (window.MathJax) {MathJax.Hub.Config({SVG: {font: \"STIX-Web\"}});}\n",
       "        if (typeof require !== 'undefined') {\n",
       "        require.undef(\"plotly\");\n",
       "        requirejs.config({\n",
       "            paths: {\n",
       "                'plotly': ['https://cdn.plot.ly/plotly-latest.min']\n",
       "            }\n",
       "        });\n",
       "        require(['plotly'], function(Plotly) {\n",
       "            window._Plotly = Plotly;\n",
       "        });\n",
       "        }\n",
       "        </script>\n",
       "        "
      ]
     },
     "metadata": {},
     "output_type": "display_data"
    },
    {
     "data": {
      "application/vnd.plotly.v1+json": {
       "config": {
        "linkText": "Export to plot.ly",
        "plotlyServerURL": "https://plot.ly",
        "showLink": false
       },
       "data": [
        {
         "mode": "text",
         "text": [
          "EPB_A1<br>17450 / 150"
         ],
         "type": "scatter",
         "x": [
          60
         ],
         "y": [
          162.5
         ]
        },
        {
         "mode": "text",
         "text": [
          "EPB_A2<br>8849 / 150"
         ],
         "type": "scatter",
         "x": [
          60
         ],
         "y": [
          207.5
         ]
        },
        {
         "mode": "text",
         "text": [
          "EPB_A3<br>6515 / 150"
         ],
         "type": "scatter",
         "x": [
          60
         ],
         "y": [
          252.5
         ]
        },
        {
         "mode": "text",
         "text": [
          "EPB_A4<br>5404 / 150"
         ],
         "type": "scatter",
         "x": [
          60
         ],
         "y": [
          297.5
         ]
        },
        {
         "mode": "text",
         "text": [
          "EPB_A5<br>4721 / 150"
         ],
         "type": "scatter",
         "x": [
          60
         ],
         "y": [
          342.5
         ]
        },
        {
         "mode": "text",
         "text": [
          "EPB_A6<br>4250 / 150"
         ],
         "type": "scatter",
         "x": [
          60
         ],
         "y": [
          387.5
         ]
        },
        {
         "mode": "text",
         "text": [
          "EPB_A7<br>3923 / 150"
         ],
         "type": "scatter",
         "x": [
          60
         ],
         "y": [
          432.5
         ]
        },
        {
         "mode": "text",
         "text": [
          "EPB_A8<br>3729 / 150"
         ],
         "type": "scatter",
         "x": [
          60
         ],
         "y": [
          477.5
         ]
        },
        {
         "marker": {
          "color": [
           0,
           100
          ],
          "colorbar": {
           "ticktext": [
            "empty",
            "full"
           ],
           "tickvals": [
            0,
            100
           ]
          },
          "colorscale": [
           [
            0,
            "rgb(247,251,255)"
           ],
           [
            0.125,
            "rgb(222,235,247)"
           ],
           [
            0.25,
            "rgb(198,219,239)"
           ],
           [
            0.375,
            "rgb(158,202,225)"
           ],
           [
            0.5,
            "rgb(107,174,214)"
           ],
           [
            0.625,
            "rgb(66,146,198)"
           ],
           [
            0.75,
            "rgb(33,113,181)"
           ],
           [
            0.875,
            "rgb(8,81,156)"
           ],
           [
            1,
            "rgb(8,48,107)"
           ]
          ]
         },
         "mode": "markers",
         "opacity": 0,
         "type": "scatter",
         "x": [
          0,
          0
         ],
         "y": [
          0,
          0
         ]
        }
       ],
       "layout": {
        "colorscale": {
         "sequential": [
          [
           0,
           "rgb(247,251,255)"
          ],
          [
           0.125,
           "rgb(222,235,247)"
          ],
          [
           0.25,
           "rgb(198,219,239)"
          ],
          [
           0.375,
           "rgb(158,202,225)"
          ],
          [
           0.5,
           "rgb(107,174,214)"
          ],
          [
           0.625,
           "rgb(66,146,198)"
          ],
          [
           0.75,
           "rgb(33,113,181)"
          ],
          [
           0.875,
           "rgb(8,81,156)"
          ],
          [
           1,
           "rgb(8,48,107)"
          ]
         ]
        },
        "height": 1640,
        "margin": {
         "b": 150,
         "t": 150
        },
        "shapes": [
         {
          "fillcolor": "rgba(0.03137254901960784, 0.18823529411764706, 0.4196078431372549, 1.0)",
          "line": {
           "color": "RoyalBlue",
           "width": 3
          },
          "opacity": 0.8,
          "type": "rect",
          "x0": 20,
          "x1": 100,
          "xref": "x",
          "y0": 140,
          "y1": 185,
          "yref": "y"
         },
         {
          "fillcolor": "rgba(0.03137254901960784, 0.18823529411764706, 0.4196078431372549, 1.0)",
          "line": {
           "color": "RoyalBlue",
           "width": 3
          },
          "opacity": 0.8,
          "type": "rect",
          "x0": 20,
          "x1": 100,
          "xref": "x",
          "y0": 185,
          "y1": 230,
          "yref": "y"
         },
         {
          "fillcolor": "rgba(0.03137254901960784, 0.18823529411764706, 0.4196078431372549, 1.0)",
          "line": {
           "color": "RoyalBlue",
           "width": 3
          },
          "opacity": 0.8,
          "type": "rect",
          "x0": 20,
          "x1": 100,
          "xref": "x",
          "y0": 230,
          "y1": 275,
          "yref": "y"
         },
         {
          "fillcolor": "rgba(0.03137254901960784, 0.18823529411764706, 0.4196078431372549, 1.0)",
          "line": {
           "color": "RoyalBlue",
           "width": 3
          },
          "opacity": 0.8,
          "type": "rect",
          "x0": 20,
          "x1": 100,
          "xref": "x",
          "y0": 275,
          "y1": 320,
          "yref": "y"
         },
         {
          "fillcolor": "rgba(0.03137254901960784, 0.18823529411764706, 0.4196078431372549, 1.0)",
          "line": {
           "color": "RoyalBlue",
           "width": 3
          },
          "opacity": 0.8,
          "type": "rect",
          "x0": 20,
          "x1": 100,
          "xref": "x",
          "y0": 320,
          "y1": 365,
          "yref": "y"
         },
         {
          "fillcolor": "rgba(0.03137254901960784, 0.18823529411764706, 0.4196078431372549, 1.0)",
          "line": {
           "color": "RoyalBlue",
           "width": 3
          },
          "opacity": 0.8,
          "type": "rect",
          "x0": 20,
          "x1": 100,
          "xref": "x",
          "y0": 365,
          "y1": 410,
          "yref": "y"
         },
         {
          "fillcolor": "rgba(0.03137254901960784, 0.18823529411764706, 0.4196078431372549, 1.0)",
          "line": {
           "color": "RoyalBlue",
           "width": 3
          },
          "opacity": 0.8,
          "type": "rect",
          "x0": 20,
          "x1": 100,
          "xref": "x",
          "y0": 410,
          "y1": 455,
          "yref": "y"
         },
         {
          "fillcolor": "rgba(0.03137254901960784, 0.18823529411764706, 0.4196078431372549, 1.0)",
          "line": {
           "color": "RoyalBlue",
           "width": 3
          },
          "opacity": 0.8,
          "type": "rect",
          "x0": 20,
          "x1": 100,
          "xref": "x",
          "y0": 455,
          "y1": 500,
          "yref": "y"
         }
        ],
        "showlegend": false,
        "template": {
         "data": {
          "bar": [
           {
            "error_x": {
             "color": "#2a3f5f"
            },
            "error_y": {
             "color": "#2a3f5f"
            },
            "marker": {
             "line": {
              "color": "#E5ECF6",
              "width": 0.5
             }
            },
            "type": "bar"
           }
          ],
          "barpolar": [
           {
            "marker": {
             "line": {
              "color": "#E5ECF6",
              "width": 0.5
             }
            },
            "type": "barpolar"
           }
          ],
          "carpet": [
           {
            "aaxis": {
             "endlinecolor": "#2a3f5f",
             "gridcolor": "white",
             "linecolor": "white",
             "minorgridcolor": "white",
             "startlinecolor": "#2a3f5f"
            },
            "baxis": {
             "endlinecolor": "#2a3f5f",
             "gridcolor": "white",
             "linecolor": "white",
             "minorgridcolor": "white",
             "startlinecolor": "#2a3f5f"
            },
            "type": "carpet"
           }
          ],
          "choropleth": [
           {
            "colorbar": {
             "outlinewidth": 0,
             "ticks": ""
            },
            "type": "choropleth"
           }
          ],
          "contour": [
           {
            "colorbar": {
             "outlinewidth": 0,
             "ticks": ""
            },
            "colorscale": [
             [
              0,
              "#0d0887"
             ],
             [
              0.1111111111111111,
              "#46039f"
             ],
             [
              0.2222222222222222,
              "#7201a8"
             ],
             [
              0.3333333333333333,
              "#9c179e"
             ],
             [
              0.4444444444444444,
              "#bd3786"
             ],
             [
              0.5555555555555556,
              "#d8576b"
             ],
             [
              0.6666666666666666,
              "#ed7953"
             ],
             [
              0.7777777777777778,
              "#fb9f3a"
             ],
             [
              0.8888888888888888,
              "#fdca26"
             ],
             [
              1,
              "#f0f921"
             ]
            ],
            "type": "contour"
           }
          ],
          "contourcarpet": [
           {
            "colorbar": {
             "outlinewidth": 0,
             "ticks": ""
            },
            "type": "contourcarpet"
           }
          ],
          "heatmap": [
           {
            "colorbar": {
             "outlinewidth": 0,
             "ticks": ""
            },
            "colorscale": [
             [
              0,
              "#0d0887"
             ],
             [
              0.1111111111111111,
              "#46039f"
             ],
             [
              0.2222222222222222,
              "#7201a8"
             ],
             [
              0.3333333333333333,
              "#9c179e"
             ],
             [
              0.4444444444444444,
              "#bd3786"
             ],
             [
              0.5555555555555556,
              "#d8576b"
             ],
             [
              0.6666666666666666,
              "#ed7953"
             ],
             [
              0.7777777777777778,
              "#fb9f3a"
             ],
             [
              0.8888888888888888,
              "#fdca26"
             ],
             [
              1,
              "#f0f921"
             ]
            ],
            "type": "heatmap"
           }
          ],
          "heatmapgl": [
           {
            "colorbar": {
             "outlinewidth": 0,
             "ticks": ""
            },
            "colorscale": [
             [
              0,
              "#0d0887"
             ],
             [
              0.1111111111111111,
              "#46039f"
             ],
             [
              0.2222222222222222,
              "#7201a8"
             ],
             [
              0.3333333333333333,
              "#9c179e"
             ],
             [
              0.4444444444444444,
              "#bd3786"
             ],
             [
              0.5555555555555556,
              "#d8576b"
             ],
             [
              0.6666666666666666,
              "#ed7953"
             ],
             [
              0.7777777777777778,
              "#fb9f3a"
             ],
             [
              0.8888888888888888,
              "#fdca26"
             ],
             [
              1,
              "#f0f921"
             ]
            ],
            "type": "heatmapgl"
           }
          ],
          "histogram": [
           {
            "marker": {
             "colorbar": {
              "outlinewidth": 0,
              "ticks": ""
             }
            },
            "type": "histogram"
           }
          ],
          "histogram2d": [
           {
            "colorbar": {
             "outlinewidth": 0,
             "ticks": ""
            },
            "colorscale": [
             [
              0,
              "#0d0887"
             ],
             [
              0.1111111111111111,
              "#46039f"
             ],
             [
              0.2222222222222222,
              "#7201a8"
             ],
             [
              0.3333333333333333,
              "#9c179e"
             ],
             [
              0.4444444444444444,
              "#bd3786"
             ],
             [
              0.5555555555555556,
              "#d8576b"
             ],
             [
              0.6666666666666666,
              "#ed7953"
             ],
             [
              0.7777777777777778,
              "#fb9f3a"
             ],
             [
              0.8888888888888888,
              "#fdca26"
             ],
             [
              1,
              "#f0f921"
             ]
            ],
            "type": "histogram2d"
           }
          ],
          "histogram2dcontour": [
           {
            "colorbar": {
             "outlinewidth": 0,
             "ticks": ""
            },
            "colorscale": [
             [
              0,
              "#0d0887"
             ],
             [
              0.1111111111111111,
              "#46039f"
             ],
             [
              0.2222222222222222,
              "#7201a8"
             ],
             [
              0.3333333333333333,
              "#9c179e"
             ],
             [
              0.4444444444444444,
              "#bd3786"
             ],
             [
              0.5555555555555556,
              "#d8576b"
             ],
             [
              0.6666666666666666,
              "#ed7953"
             ],
             [
              0.7777777777777778,
              "#fb9f3a"
             ],
             [
              0.8888888888888888,
              "#fdca26"
             ],
             [
              1,
              "#f0f921"
             ]
            ],
            "type": "histogram2dcontour"
           }
          ],
          "mesh3d": [
           {
            "colorbar": {
             "outlinewidth": 0,
             "ticks": ""
            },
            "type": "mesh3d"
           }
          ],
          "parcoords": [
           {
            "line": {
             "colorbar": {
              "outlinewidth": 0,
              "ticks": ""
             }
            },
            "type": "parcoords"
           }
          ],
          "pie": [
           {
            "automargin": true,
            "type": "pie"
           }
          ],
          "scatter": [
           {
            "marker": {
             "colorbar": {
              "outlinewidth": 0,
              "ticks": ""
             }
            },
            "type": "scatter"
           }
          ],
          "scatter3d": [
           {
            "line": {
             "colorbar": {
              "outlinewidth": 0,
              "ticks": ""
             }
            },
            "marker": {
             "colorbar": {
              "outlinewidth": 0,
              "ticks": ""
             }
            },
            "type": "scatter3d"
           }
          ],
          "scattercarpet": [
           {
            "marker": {
             "colorbar": {
              "outlinewidth": 0,
              "ticks": ""
             }
            },
            "type": "scattercarpet"
           }
          ],
          "scattergeo": [
           {
            "marker": {
             "colorbar": {
              "outlinewidth": 0,
              "ticks": ""
             }
            },
            "type": "scattergeo"
           }
          ],
          "scattergl": [
           {
            "marker": {
             "colorbar": {
              "outlinewidth": 0,
              "ticks": ""
             }
            },
            "type": "scattergl"
           }
          ],
          "scattermapbox": [
           {
            "marker": {
             "colorbar": {
              "outlinewidth": 0,
              "ticks": ""
             }
            },
            "type": "scattermapbox"
           }
          ],
          "scatterpolar": [
           {
            "marker": {
             "colorbar": {
              "outlinewidth": 0,
              "ticks": ""
             }
            },
            "type": "scatterpolar"
           }
          ],
          "scatterpolargl": [
           {
            "marker": {
             "colorbar": {
              "outlinewidth": 0,
              "ticks": ""
             }
            },
            "type": "scatterpolargl"
           }
          ],
          "scatterternary": [
           {
            "marker": {
             "colorbar": {
              "outlinewidth": 0,
              "ticks": ""
             }
            },
            "type": "scatterternary"
           }
          ],
          "surface": [
           {
            "colorbar": {
             "outlinewidth": 0,
             "ticks": ""
            },
            "colorscale": [
             [
              0,
              "#0d0887"
             ],
             [
              0.1111111111111111,
              "#46039f"
             ],
             [
              0.2222222222222222,
              "#7201a8"
             ],
             [
              0.3333333333333333,
              "#9c179e"
             ],
             [
              0.4444444444444444,
              "#bd3786"
             ],
             [
              0.5555555555555556,
              "#d8576b"
             ],
             [
              0.6666666666666666,
              "#ed7953"
             ],
             [
              0.7777777777777778,
              "#fb9f3a"
             ],
             [
              0.8888888888888888,
              "#fdca26"
             ],
             [
              1,
              "#f0f921"
             ]
            ],
            "type": "surface"
           }
          ],
          "table": [
           {
            "cells": {
             "fill": {
              "color": "#EBF0F8"
             },
             "line": {
              "color": "white"
             }
            },
            "header": {
             "fill": {
              "color": "#C8D4E3"
             },
             "line": {
              "color": "white"
             }
            },
            "type": "table"
           }
          ]
         },
         "layout": {
          "annotationdefaults": {
           "arrowcolor": "#2a3f5f",
           "arrowhead": 0,
           "arrowwidth": 1
          },
          "coloraxis": {
           "colorbar": {
            "outlinewidth": 0,
            "ticks": ""
           }
          },
          "colorscale": {
           "diverging": [
            [
             0,
             "#8e0152"
            ],
            [
             0.1,
             "#c51b7d"
            ],
            [
             0.2,
             "#de77ae"
            ],
            [
             0.3,
             "#f1b6da"
            ],
            [
             0.4,
             "#fde0ef"
            ],
            [
             0.5,
             "#f7f7f7"
            ],
            [
             0.6,
             "#e6f5d0"
            ],
            [
             0.7,
             "#b8e186"
            ],
            [
             0.8,
             "#7fbc41"
            ],
            [
             0.9,
             "#4d9221"
            ],
            [
             1,
             "#276419"
            ]
           ],
           "sequential": [
            [
             0,
             "#0d0887"
            ],
            [
             0.1111111111111111,
             "#46039f"
            ],
            [
             0.2222222222222222,
             "#7201a8"
            ],
            [
             0.3333333333333333,
             "#9c179e"
            ],
            [
             0.4444444444444444,
             "#bd3786"
            ],
            [
             0.5555555555555556,
             "#d8576b"
            ],
            [
             0.6666666666666666,
             "#ed7953"
            ],
            [
             0.7777777777777778,
             "#fb9f3a"
            ],
            [
             0.8888888888888888,
             "#fdca26"
            ],
            [
             1,
             "#f0f921"
            ]
           ],
           "sequentialminus": [
            [
             0,
             "#0d0887"
            ],
            [
             0.1111111111111111,
             "#46039f"
            ],
            [
             0.2222222222222222,
             "#7201a8"
            ],
            [
             0.3333333333333333,
             "#9c179e"
            ],
            [
             0.4444444444444444,
             "#bd3786"
            ],
            [
             0.5555555555555556,
             "#d8576b"
            ],
            [
             0.6666666666666666,
             "#ed7953"
            ],
            [
             0.7777777777777778,
             "#fb9f3a"
            ],
            [
             0.8888888888888888,
             "#fdca26"
            ],
            [
             1,
             "#f0f921"
            ]
           ]
          },
          "colorway": [
           "#636efa",
           "#EF553B",
           "#00cc96",
           "#ab63fa",
           "#FFA15A",
           "#19d3f3",
           "#FF6692",
           "#B6E880",
           "#FF97FF",
           "#FECB52"
          ],
          "font": {
           "color": "#2a3f5f"
          },
          "geo": {
           "bgcolor": "white",
           "lakecolor": "white",
           "landcolor": "#E5ECF6",
           "showlakes": true,
           "showland": true,
           "subunitcolor": "white"
          },
          "hoverlabel": {
           "align": "left"
          },
          "hovermode": "closest",
          "mapbox": {
           "style": "light"
          },
          "paper_bgcolor": "white",
          "plot_bgcolor": "#E5ECF6",
          "polar": {
           "angularaxis": {
            "gridcolor": "white",
            "linecolor": "white",
            "ticks": ""
           },
           "bgcolor": "#E5ECF6",
           "radialaxis": {
            "gridcolor": "white",
            "linecolor": "white",
            "ticks": ""
           }
          },
          "scene": {
           "xaxis": {
            "backgroundcolor": "#E5ECF6",
            "gridcolor": "white",
            "gridwidth": 2,
            "linecolor": "white",
            "showbackground": true,
            "ticks": "",
            "zerolinecolor": "white"
           },
           "yaxis": {
            "backgroundcolor": "#E5ECF6",
            "gridcolor": "white",
            "gridwidth": 2,
            "linecolor": "white",
            "showbackground": true,
            "ticks": "",
            "zerolinecolor": "white"
           },
           "zaxis": {
            "backgroundcolor": "#E5ECF6",
            "gridcolor": "white",
            "gridwidth": 2,
            "linecolor": "white",
            "showbackground": true,
            "ticks": "",
            "zerolinecolor": "white"
           }
          },
          "shapedefaults": {
           "line": {
            "color": "#2a3f5f"
           }
          },
          "ternary": {
           "aaxis": {
            "gridcolor": "white",
            "linecolor": "white",
            "ticks": ""
           },
           "baxis": {
            "gridcolor": "white",
            "linecolor": "white",
            "ticks": ""
           },
           "bgcolor": "#E5ECF6",
           "caxis": {
            "gridcolor": "white",
            "linecolor": "white",
            "ticks": ""
           }
          },
          "title": {
           "x": 0.05
          },
          "xaxis": {
           "automargin": true,
           "gridcolor": "white",
           "linecolor": "white",
           "ticks": "",
           "title": {
            "standoff": 15
           },
           "zerolinecolor": "white",
           "zerolinewidth": 2
          },
          "yaxis": {
           "automargin": true,
           "gridcolor": "white",
           "linecolor": "white",
           "ticks": "",
           "title": {
            "standoff": 15
           },
           "zerolinecolor": "white",
           "zerolinewidth": 2
          }
         }
        },
        "title": {
         "text": "Kp indices start from year 2011<br>Orbit file:DAED_ORB_Lifetime_LLA_MLT_MLat_RAAN00_010s.csv<br>Results file:DAED_ORB_Lifetime_LLA_MLT_MLat_RAAN00_010s_Kp2011.CoverageResults.txt<br><b>Magnetic Latitudes from -30&#176; to 30&#176;</b><br>"
        },
        "width": 1100,
        "xaxis": {
         "range": [
          0,
          128
         ],
         "showgrid": false,
         "tickmode": "array",
         "ticktext": [
          "Kp 0-9<br>18-4"
         ],
         "tickvals": [
          60
         ],
         "title": {
          "text": "Kp index range<br>Magnetic Local Time range"
         }
        },
        "yaxis": {
         "range": [
          2.1421280356782377,
          2.7069700043360183
         ],
         "tickvals": [
          140,
          185,
          230,
          275,
          320,
          365,
          410,
          455,
          500
         ],
         "title": {
          "text": "Altitude (km)"
         },
         "type": "log"
        }
       }
      },
      "text/html": [
       "<div>\n",
       "        \n",
       "        \n",
       "            <div id=\"74cff73d-e617-45f5-ae36-a5b4c3095cd1\" class=\"plotly-graph-div\" style=\"height:1640px; width:1100px;\"></div>\n",
       "            <script type=\"text/javascript\">\n",
       "                require([\"plotly\"], function(Plotly) {\n",
       "                    window.PLOTLYENV=window.PLOTLYENV || {};\n",
       "                    \n",
       "                if (document.getElementById(\"74cff73d-e617-45f5-ae36-a5b4c3095cd1\")) {\n",
       "                    Plotly.newPlot(\n",
       "                        '74cff73d-e617-45f5-ae36-a5b4c3095cd1',\n",
       "                        [{\"mode\": \"text\", \"text\": [\"EPB_A1<br>17450 / 150\"], \"type\": \"scatter\", \"x\": [60.0], \"y\": [162.5]}, {\"mode\": \"text\", \"text\": [\"EPB_A2<br>8849 / 150\"], \"type\": \"scatter\", \"x\": [60.0], \"y\": [207.5]}, {\"mode\": \"text\", \"text\": [\"EPB_A3<br>6515 / 150\"], \"type\": \"scatter\", \"x\": [60.0], \"y\": [252.5]}, {\"mode\": \"text\", \"text\": [\"EPB_A4<br>5404 / 150\"], \"type\": \"scatter\", \"x\": [60.0], \"y\": [297.5]}, {\"mode\": \"text\", \"text\": [\"EPB_A5<br>4721 / 150\"], \"type\": \"scatter\", \"x\": [60.0], \"y\": [342.5]}, {\"mode\": \"text\", \"text\": [\"EPB_A6<br>4250 / 150\"], \"type\": \"scatter\", \"x\": [60.0], \"y\": [387.5]}, {\"mode\": \"text\", \"text\": [\"EPB_A7<br>3923 / 150\"], \"type\": \"scatter\", \"x\": [60.0], \"y\": [432.5]}, {\"mode\": \"text\", \"text\": [\"EPB_A8<br>3729 / 150\"], \"type\": \"scatter\", \"x\": [60.0], \"y\": [477.5]}, {\"marker\": {\"color\": [0, 100], \"colorbar\": {\"ticktext\": [\"empty\", \"full\"], \"tickvals\": [0, 100]}, \"colorscale\": [[0.0, \"rgb(247,251,255)\"], [0.125, \"rgb(222,235,247)\"], [0.25, \"rgb(198,219,239)\"], [0.375, \"rgb(158,202,225)\"], [0.5, \"rgb(107,174,214)\"], [0.625, \"rgb(66,146,198)\"], [0.75, \"rgb(33,113,181)\"], [0.875, \"rgb(8,81,156)\"], [1.0, \"rgb(8,48,107)\"]]}, \"mode\": \"markers\", \"opacity\": 0, \"type\": \"scatter\", \"x\": [0, 0], \"y\": [0, 0]}],\n",
       "                        {\"colorscale\": {\"sequential\": [[0.0, \"rgb(247,251,255)\"], [0.125, \"rgb(222,235,247)\"], [0.25, \"rgb(198,219,239)\"], [0.375, \"rgb(158,202,225)\"], [0.5, \"rgb(107,174,214)\"], [0.625, \"rgb(66,146,198)\"], [0.75, \"rgb(33,113,181)\"], [0.875, \"rgb(8,81,156)\"], [1.0, \"rgb(8,48,107)\"]]}, \"height\": 1640, \"margin\": {\"b\": 150, \"t\": 150}, \"shapes\": [{\"fillcolor\": \"rgba(0.03137254901960784, 0.18823529411764706, 0.4196078431372549, 1.0)\", \"line\": {\"color\": \"RoyalBlue\", \"width\": 3}, \"opacity\": 0.8, \"type\": \"rect\", \"x0\": 20, \"x1\": 100, \"xref\": \"x\", \"y0\": 140, \"y1\": 185, \"yref\": \"y\"}, {\"fillcolor\": \"rgba(0.03137254901960784, 0.18823529411764706, 0.4196078431372549, 1.0)\", \"line\": {\"color\": \"RoyalBlue\", \"width\": 3}, \"opacity\": 0.8, \"type\": \"rect\", \"x0\": 20, \"x1\": 100, \"xref\": \"x\", \"y0\": 185, \"y1\": 230, \"yref\": \"y\"}, {\"fillcolor\": \"rgba(0.03137254901960784, 0.18823529411764706, 0.4196078431372549, 1.0)\", \"line\": {\"color\": \"RoyalBlue\", \"width\": 3}, \"opacity\": 0.8, \"type\": \"rect\", \"x0\": 20, \"x1\": 100, \"xref\": \"x\", \"y0\": 230, \"y1\": 275, \"yref\": \"y\"}, {\"fillcolor\": \"rgba(0.03137254901960784, 0.18823529411764706, 0.4196078431372549, 1.0)\", \"line\": {\"color\": \"RoyalBlue\", \"width\": 3}, \"opacity\": 0.8, \"type\": \"rect\", \"x0\": 20, \"x1\": 100, \"xref\": \"x\", \"y0\": 275, \"y1\": 320, \"yref\": \"y\"}, {\"fillcolor\": \"rgba(0.03137254901960784, 0.18823529411764706, 0.4196078431372549, 1.0)\", \"line\": {\"color\": \"RoyalBlue\", \"width\": 3}, \"opacity\": 0.8, \"type\": \"rect\", \"x0\": 20, \"x1\": 100, \"xref\": \"x\", \"y0\": 320, \"y1\": 365, \"yref\": \"y\"}, {\"fillcolor\": \"rgba(0.03137254901960784, 0.18823529411764706, 0.4196078431372549, 1.0)\", \"line\": {\"color\": \"RoyalBlue\", \"width\": 3}, \"opacity\": 0.8, \"type\": \"rect\", \"x0\": 20, \"x1\": 100, \"xref\": \"x\", \"y0\": 365, \"y1\": 410, \"yref\": \"y\"}, {\"fillcolor\": \"rgba(0.03137254901960784, 0.18823529411764706, 0.4196078431372549, 1.0)\", \"line\": {\"color\": \"RoyalBlue\", \"width\": 3}, \"opacity\": 0.8, \"type\": \"rect\", \"x0\": 20, \"x1\": 100, \"xref\": \"x\", \"y0\": 410, \"y1\": 455, \"yref\": \"y\"}, {\"fillcolor\": \"rgba(0.03137254901960784, 0.18823529411764706, 0.4196078431372549, 1.0)\", \"line\": {\"color\": \"RoyalBlue\", \"width\": 3}, \"opacity\": 0.8, \"type\": \"rect\", \"x0\": 20, \"x1\": 100, \"xref\": \"x\", \"y0\": 455, \"y1\": 500, \"yref\": \"y\"}], \"showlegend\": false, \"template\": {\"data\": {\"bar\": [{\"error_x\": {\"color\": \"#2a3f5f\"}, \"error_y\": {\"color\": \"#2a3f5f\"}, \"marker\": {\"line\": {\"color\": \"#E5ECF6\", \"width\": 0.5}}, \"type\": \"bar\"}], \"barpolar\": [{\"marker\": {\"line\": {\"color\": \"#E5ECF6\", \"width\": 0.5}}, \"type\": \"barpolar\"}], \"carpet\": [{\"aaxis\": {\"endlinecolor\": \"#2a3f5f\", \"gridcolor\": \"white\", \"linecolor\": \"white\", \"minorgridcolor\": \"white\", \"startlinecolor\": \"#2a3f5f\"}, \"baxis\": {\"endlinecolor\": \"#2a3f5f\", \"gridcolor\": \"white\", \"linecolor\": \"white\", \"minorgridcolor\": \"white\", \"startlinecolor\": \"#2a3f5f\"}, \"type\": \"carpet\"}], \"choropleth\": [{\"colorbar\": {\"outlinewidth\": 0, \"ticks\": \"\"}, \"type\": \"choropleth\"}], \"contour\": [{\"colorbar\": {\"outlinewidth\": 0, \"ticks\": \"\"}, \"colorscale\": [[0.0, \"#0d0887\"], [0.1111111111111111, \"#46039f\"], [0.2222222222222222, \"#7201a8\"], [0.3333333333333333, \"#9c179e\"], [0.4444444444444444, \"#bd3786\"], [0.5555555555555556, \"#d8576b\"], [0.6666666666666666, \"#ed7953\"], [0.7777777777777778, \"#fb9f3a\"], [0.8888888888888888, \"#fdca26\"], [1.0, \"#f0f921\"]], \"type\": \"contour\"}], \"contourcarpet\": [{\"colorbar\": {\"outlinewidth\": 0, \"ticks\": \"\"}, \"type\": \"contourcarpet\"}], \"heatmap\": [{\"colorbar\": {\"outlinewidth\": 0, \"ticks\": \"\"}, \"colorscale\": [[0.0, \"#0d0887\"], [0.1111111111111111, \"#46039f\"], [0.2222222222222222, \"#7201a8\"], [0.3333333333333333, \"#9c179e\"], [0.4444444444444444, \"#bd3786\"], [0.5555555555555556, \"#d8576b\"], [0.6666666666666666, \"#ed7953\"], [0.7777777777777778, \"#fb9f3a\"], [0.8888888888888888, \"#fdca26\"], [1.0, \"#f0f921\"]], \"type\": \"heatmap\"}], \"heatmapgl\": [{\"colorbar\": {\"outlinewidth\": 0, \"ticks\": \"\"}, \"colorscale\": [[0.0, \"#0d0887\"], [0.1111111111111111, \"#46039f\"], [0.2222222222222222, \"#7201a8\"], [0.3333333333333333, \"#9c179e\"], [0.4444444444444444, \"#bd3786\"], [0.5555555555555556, \"#d8576b\"], [0.6666666666666666, \"#ed7953\"], [0.7777777777777778, \"#fb9f3a\"], [0.8888888888888888, \"#fdca26\"], [1.0, \"#f0f921\"]], \"type\": \"heatmapgl\"}], \"histogram\": [{\"marker\": {\"colorbar\": {\"outlinewidth\": 0, \"ticks\": \"\"}}, \"type\": \"histogram\"}], \"histogram2d\": [{\"colorbar\": {\"outlinewidth\": 0, \"ticks\": \"\"}, \"colorscale\": [[0.0, \"#0d0887\"], [0.1111111111111111, \"#46039f\"], [0.2222222222222222, \"#7201a8\"], [0.3333333333333333, \"#9c179e\"], [0.4444444444444444, \"#bd3786\"], [0.5555555555555556, \"#d8576b\"], [0.6666666666666666, \"#ed7953\"], [0.7777777777777778, \"#fb9f3a\"], [0.8888888888888888, \"#fdca26\"], [1.0, \"#f0f921\"]], \"type\": \"histogram2d\"}], \"histogram2dcontour\": [{\"colorbar\": {\"outlinewidth\": 0, \"ticks\": \"\"}, \"colorscale\": [[0.0, \"#0d0887\"], [0.1111111111111111, \"#46039f\"], [0.2222222222222222, \"#7201a8\"], [0.3333333333333333, \"#9c179e\"], [0.4444444444444444, \"#bd3786\"], [0.5555555555555556, \"#d8576b\"], [0.6666666666666666, \"#ed7953\"], [0.7777777777777778, \"#fb9f3a\"], [0.8888888888888888, \"#fdca26\"], [1.0, \"#f0f921\"]], \"type\": \"histogram2dcontour\"}], \"mesh3d\": [{\"colorbar\": {\"outlinewidth\": 0, \"ticks\": \"\"}, \"type\": \"mesh3d\"}], \"parcoords\": [{\"line\": {\"colorbar\": {\"outlinewidth\": 0, \"ticks\": \"\"}}, \"type\": \"parcoords\"}], \"pie\": [{\"automargin\": true, \"type\": \"pie\"}], \"scatter\": [{\"marker\": {\"colorbar\": {\"outlinewidth\": 0, \"ticks\": \"\"}}, \"type\": \"scatter\"}], \"scatter3d\": [{\"line\": {\"colorbar\": {\"outlinewidth\": 0, \"ticks\": \"\"}}, \"marker\": {\"colorbar\": {\"outlinewidth\": 0, \"ticks\": \"\"}}, \"type\": \"scatter3d\"}], \"scattercarpet\": [{\"marker\": {\"colorbar\": {\"outlinewidth\": 0, \"ticks\": \"\"}}, \"type\": \"scattercarpet\"}], \"scattergeo\": [{\"marker\": {\"colorbar\": {\"outlinewidth\": 0, \"ticks\": \"\"}}, \"type\": \"scattergeo\"}], \"scattergl\": [{\"marker\": {\"colorbar\": {\"outlinewidth\": 0, \"ticks\": \"\"}}, \"type\": \"scattergl\"}], \"scattermapbox\": [{\"marker\": {\"colorbar\": {\"outlinewidth\": 0, \"ticks\": \"\"}}, \"type\": \"scattermapbox\"}], \"scatterpolar\": [{\"marker\": {\"colorbar\": {\"outlinewidth\": 0, \"ticks\": \"\"}}, \"type\": \"scatterpolar\"}], \"scatterpolargl\": [{\"marker\": {\"colorbar\": {\"outlinewidth\": 0, \"ticks\": \"\"}}, \"type\": \"scatterpolargl\"}], \"scatterternary\": [{\"marker\": {\"colorbar\": {\"outlinewidth\": 0, \"ticks\": \"\"}}, \"type\": \"scatterternary\"}], \"surface\": [{\"colorbar\": {\"outlinewidth\": 0, \"ticks\": \"\"}, \"colorscale\": [[0.0, \"#0d0887\"], [0.1111111111111111, \"#46039f\"], [0.2222222222222222, \"#7201a8\"], [0.3333333333333333, \"#9c179e\"], [0.4444444444444444, \"#bd3786\"], [0.5555555555555556, \"#d8576b\"], [0.6666666666666666, \"#ed7953\"], [0.7777777777777778, \"#fb9f3a\"], [0.8888888888888888, \"#fdca26\"], [1.0, \"#f0f921\"]], \"type\": \"surface\"}], \"table\": [{\"cells\": {\"fill\": {\"color\": \"#EBF0F8\"}, \"line\": {\"color\": \"white\"}}, \"header\": {\"fill\": {\"color\": \"#C8D4E3\"}, \"line\": {\"color\": \"white\"}}, \"type\": \"table\"}]}, \"layout\": {\"annotationdefaults\": {\"arrowcolor\": \"#2a3f5f\", \"arrowhead\": 0, \"arrowwidth\": 1}, \"coloraxis\": {\"colorbar\": {\"outlinewidth\": 0, \"ticks\": \"\"}}, \"colorscale\": {\"diverging\": [[0, \"#8e0152\"], [0.1, \"#c51b7d\"], [0.2, \"#de77ae\"], [0.3, \"#f1b6da\"], [0.4, \"#fde0ef\"], [0.5, \"#f7f7f7\"], [0.6, \"#e6f5d0\"], [0.7, \"#b8e186\"], [0.8, \"#7fbc41\"], [0.9, \"#4d9221\"], [1, \"#276419\"]], \"sequential\": [[0.0, \"#0d0887\"], [0.1111111111111111, \"#46039f\"], [0.2222222222222222, \"#7201a8\"], [0.3333333333333333, \"#9c179e\"], [0.4444444444444444, \"#bd3786\"], [0.5555555555555556, \"#d8576b\"], [0.6666666666666666, \"#ed7953\"], [0.7777777777777778, \"#fb9f3a\"], [0.8888888888888888, \"#fdca26\"], [1.0, \"#f0f921\"]], \"sequentialminus\": [[0.0, \"#0d0887\"], [0.1111111111111111, \"#46039f\"], [0.2222222222222222, \"#7201a8\"], [0.3333333333333333, \"#9c179e\"], [0.4444444444444444, \"#bd3786\"], [0.5555555555555556, \"#d8576b\"], [0.6666666666666666, \"#ed7953\"], [0.7777777777777778, \"#fb9f3a\"], [0.8888888888888888, \"#fdca26\"], [1.0, \"#f0f921\"]]}, \"colorway\": [\"#636efa\", \"#EF553B\", \"#00cc96\", \"#ab63fa\", \"#FFA15A\", \"#19d3f3\", \"#FF6692\", \"#B6E880\", \"#FF97FF\", \"#FECB52\"], \"font\": {\"color\": \"#2a3f5f\"}, \"geo\": {\"bgcolor\": \"white\", \"lakecolor\": \"white\", \"landcolor\": \"#E5ECF6\", \"showlakes\": true, \"showland\": true, \"subunitcolor\": \"white\"}, \"hoverlabel\": {\"align\": \"left\"}, \"hovermode\": \"closest\", \"mapbox\": {\"style\": \"light\"}, \"paper_bgcolor\": \"white\", \"plot_bgcolor\": \"#E5ECF6\", \"polar\": {\"angularaxis\": {\"gridcolor\": \"white\", \"linecolor\": \"white\", \"ticks\": \"\"}, \"bgcolor\": \"#E5ECF6\", \"radialaxis\": {\"gridcolor\": \"white\", \"linecolor\": \"white\", \"ticks\": \"\"}}, \"scene\": {\"xaxis\": {\"backgroundcolor\": \"#E5ECF6\", \"gridcolor\": \"white\", \"gridwidth\": 2, \"linecolor\": \"white\", \"showbackground\": true, \"ticks\": \"\", \"zerolinecolor\": \"white\"}, \"yaxis\": {\"backgroundcolor\": \"#E5ECF6\", \"gridcolor\": \"white\", \"gridwidth\": 2, \"linecolor\": \"white\", \"showbackground\": true, \"ticks\": \"\", \"zerolinecolor\": \"white\"}, \"zaxis\": {\"backgroundcolor\": \"#E5ECF6\", \"gridcolor\": \"white\", \"gridwidth\": 2, \"linecolor\": \"white\", \"showbackground\": true, \"ticks\": \"\", \"zerolinecolor\": \"white\"}}, \"shapedefaults\": {\"line\": {\"color\": \"#2a3f5f\"}}, \"ternary\": {\"aaxis\": {\"gridcolor\": \"white\", \"linecolor\": \"white\", \"ticks\": \"\"}, \"baxis\": {\"gridcolor\": \"white\", \"linecolor\": \"white\", \"ticks\": \"\"}, \"bgcolor\": \"#E5ECF6\", \"caxis\": {\"gridcolor\": \"white\", \"linecolor\": \"white\", \"ticks\": \"\"}}, \"title\": {\"x\": 0.05}, \"xaxis\": {\"automargin\": true, \"gridcolor\": \"white\", \"linecolor\": \"white\", \"ticks\": \"\", \"title\": {\"standoff\": 15}, \"zerolinecolor\": \"white\", \"zerolinewidth\": 2}, \"yaxis\": {\"automargin\": true, \"gridcolor\": \"white\", \"linecolor\": \"white\", \"ticks\": \"\", \"title\": {\"standoff\": 15}, \"zerolinecolor\": \"white\", \"zerolinewidth\": 2}}}, \"title\": {\"text\": \"Kp indices start from year 2011<br>Orbit file:DAED_ORB_Lifetime_LLA_MLT_MLat_RAAN00_010s.csv<br>Results file:DAED_ORB_Lifetime_LLA_MLT_MLat_RAAN00_010s_Kp2011.CoverageResults.txt<br><b>Magnetic Latitudes from -30&#176; to 30&#176;</b><br>\"}, \"width\": 1100, \"xaxis\": {\"range\": [0, 128], \"showgrid\": false, \"tickmode\": \"array\", \"ticktext\": [\"Kp 0-9<br>18-4\"], \"tickvals\": [60.0], \"title\": {\"text\": \"Kp index range<br>Magnetic Local Time range\"}}, \"yaxis\": {\"range\": [2.1421280356782377, 2.7069700043360183], \"tickvals\": [140, 185, 230, 275, 320, 365, 410, 455, 500], \"title\": {\"text\": \"Altitude (km)\"}, \"type\": \"log\"}},\n",
       "                        {\"responsive\": true}\n",
       "                    ).then(function(){\n",
       "                            \n",
       "var gd = document.getElementById('74cff73d-e617-45f5-ae36-a5b4c3095cd1');\n",
       "var x = new MutationObserver(function (mutations, observer) {{\n",
       "        var display = window.getComputedStyle(gd).display;\n",
       "        if (!display || display === 'none') {{\n",
       "            console.log([gd, 'removed!']);\n",
       "            Plotly.purge(gd);\n",
       "            observer.disconnect();\n",
       "        }}\n",
       "}});\n",
       "\n",
       "// Listen for the removal of the full notebook cells\n",
       "var notebookContainer = gd.closest('#notebook-container');\n",
       "if (notebookContainer) {{\n",
       "    x.observe(notebookContainer, {childList: true});\n",
       "}}\n",
       "\n",
       "// Listen for the clearing of the current output cell\n",
       "var outputEl = gd.closest('.output');\n",
       "if (outputEl) {{\n",
       "    x.observe(outputEl, {childList: true});\n",
       "}}\n",
       "\n",
       "                        })\n",
       "                };\n",
       "                });\n",
       "            </script>\n",
       "        </div>"
      ]
     },
     "metadata": {},
     "output_type": "display_data"
    },
    {
     "data": {
      "text/html": [
       "        <script type=\"text/javascript\">\n",
       "        window.PlotlyConfig = {MathJaxConfig: 'local'};\n",
       "        if (window.MathJax) {MathJax.Hub.Config({SVG: {font: \"STIX-Web\"}});}\n",
       "        if (typeof require !== 'undefined') {\n",
       "        require.undef(\"plotly\");\n",
       "        requirejs.config({\n",
       "            paths: {\n",
       "                'plotly': ['https://cdn.plot.ly/plotly-latest.min']\n",
       "            }\n",
       "        });\n",
       "        require(['plotly'], function(Plotly) {\n",
       "            window._Plotly = Plotly;\n",
       "        });\n",
       "        }\n",
       "        </script>\n",
       "        "
      ]
     },
     "metadata": {},
     "output_type": "display_data"
    },
    {
     "data": {
      "application/vnd.plotly.v1+json": {
       "config": {
        "linkText": "Export to plot.ly",
        "plotlyServerURL": "https://plot.ly",
        "showLink": false
       },
       "data": [
        {
         "mode": "text",
         "text": [
          "SQ_A1<br>43748 / 150"
         ],
         "type": "scatter",
         "x": [
          60
         ],
         "y": [
          162.5
         ]
        },
        {
         "mode": "text",
         "text": [
          "SQ_A2<br>22908 / 150"
         ],
         "type": "scatter",
         "x": [
          60
         ],
         "y": [
          207.5
         ]
        },
        {
         "mode": "text",
         "text": [
          "SQ_A3<br>16269 / 150"
         ],
         "type": "scatter",
         "x": [
          60
         ],
         "y": [
          252.5
         ]
        },
        {
         "mode": "text",
         "text": [
          "SQ_A4<br>13172 / 150"
         ],
         "type": "scatter",
         "x": [
          60
         ],
         "y": [
          297.5
         ]
        },
        {
         "mode": "text",
         "text": [
          "SQ_A5<br>11192 / 150"
         ],
         "type": "scatter",
         "x": [
          60
         ],
         "y": [
          342.5
         ]
        },
        {
         "mode": "text",
         "text": [
          "SQ_A6<br>9766 / 150"
         ],
         "type": "scatter",
         "x": [
          60
         ],
         "y": [
          387.5
         ]
        },
        {
         "mode": "text",
         "text": [
          "SQ_A7<br>8738 / 150"
         ],
         "type": "scatter",
         "x": [
          60
         ],
         "y": [
          432.5
         ]
        },
        {
         "mode": "text",
         "text": [
          "SQ_A8<br>8150 / 150"
         ],
         "type": "scatter",
         "x": [
          60
         ],
         "y": [
          477.5
         ]
        },
        {
         "marker": {
          "color": [
           0,
           100
          ],
          "colorbar": {
           "ticktext": [
            "empty",
            "full"
           ],
           "tickvals": [
            0,
            100
           ]
          },
          "colorscale": [
           [
            0,
            "rgb(247,251,255)"
           ],
           [
            0.125,
            "rgb(222,235,247)"
           ],
           [
            0.25,
            "rgb(198,219,239)"
           ],
           [
            0.375,
            "rgb(158,202,225)"
           ],
           [
            0.5,
            "rgb(107,174,214)"
           ],
           [
            0.625,
            "rgb(66,146,198)"
           ],
           [
            0.75,
            "rgb(33,113,181)"
           ],
           [
            0.875,
            "rgb(8,81,156)"
           ],
           [
            1,
            "rgb(8,48,107)"
           ]
          ]
         },
         "mode": "markers",
         "opacity": 0,
         "type": "scatter",
         "x": [
          0,
          0
         ],
         "y": [
          0,
          0
         ]
        }
       ],
       "layout": {
        "colorscale": {
         "sequential": [
          [
           0,
           "rgb(247,251,255)"
          ],
          [
           0.125,
           "rgb(222,235,247)"
          ],
          [
           0.25,
           "rgb(198,219,239)"
          ],
          [
           0.375,
           "rgb(158,202,225)"
          ],
          [
           0.5,
           "rgb(107,174,214)"
          ],
          [
           0.625,
           "rgb(66,146,198)"
          ],
          [
           0.75,
           "rgb(33,113,181)"
          ],
          [
           0.875,
           "rgb(8,81,156)"
          ],
          [
           1,
           "rgb(8,48,107)"
          ]
         ]
        },
        "height": 1640,
        "margin": {
         "b": 150,
         "t": 150
        },
        "shapes": [
         {
          "fillcolor": "rgba(0.03137254901960784, 0.18823529411764706, 0.4196078431372549, 1.0)",
          "line": {
           "color": "RoyalBlue",
           "width": 3
          },
          "opacity": 0.8,
          "type": "rect",
          "x0": 20,
          "x1": 100,
          "xref": "x",
          "y0": 140,
          "y1": 185,
          "yref": "y"
         },
         {
          "fillcolor": "rgba(0.03137254901960784, 0.18823529411764706, 0.4196078431372549, 1.0)",
          "line": {
           "color": "RoyalBlue",
           "width": 3
          },
          "opacity": 0.8,
          "type": "rect",
          "x0": 20,
          "x1": 100,
          "xref": "x",
          "y0": 185,
          "y1": 230,
          "yref": "y"
         },
         {
          "fillcolor": "rgba(0.03137254901960784, 0.18823529411764706, 0.4196078431372549, 1.0)",
          "line": {
           "color": "RoyalBlue",
           "width": 3
          },
          "opacity": 0.8,
          "type": "rect",
          "x0": 20,
          "x1": 100,
          "xref": "x",
          "y0": 230,
          "y1": 275,
          "yref": "y"
         },
         {
          "fillcolor": "rgba(0.03137254901960784, 0.18823529411764706, 0.4196078431372549, 1.0)",
          "line": {
           "color": "RoyalBlue",
           "width": 3
          },
          "opacity": 0.8,
          "type": "rect",
          "x0": 20,
          "x1": 100,
          "xref": "x",
          "y0": 275,
          "y1": 320,
          "yref": "y"
         },
         {
          "fillcolor": "rgba(0.03137254901960784, 0.18823529411764706, 0.4196078431372549, 1.0)",
          "line": {
           "color": "RoyalBlue",
           "width": 3
          },
          "opacity": 0.8,
          "type": "rect",
          "x0": 20,
          "x1": 100,
          "xref": "x",
          "y0": 320,
          "y1": 365,
          "yref": "y"
         },
         {
          "fillcolor": "rgba(0.03137254901960784, 0.18823529411764706, 0.4196078431372549, 1.0)",
          "line": {
           "color": "RoyalBlue",
           "width": 3
          },
          "opacity": 0.8,
          "type": "rect",
          "x0": 20,
          "x1": 100,
          "xref": "x",
          "y0": 365,
          "y1": 410,
          "yref": "y"
         },
         {
          "fillcolor": "rgba(0.03137254901960784, 0.18823529411764706, 0.4196078431372549, 1.0)",
          "line": {
           "color": "RoyalBlue",
           "width": 3
          },
          "opacity": 0.8,
          "type": "rect",
          "x0": 20,
          "x1": 100,
          "xref": "x",
          "y0": 410,
          "y1": 455,
          "yref": "y"
         },
         {
          "fillcolor": "rgba(0.03137254901960784, 0.18823529411764706, 0.4196078431372549, 1.0)",
          "line": {
           "color": "RoyalBlue",
           "width": 3
          },
          "opacity": 0.8,
          "type": "rect",
          "x0": 20,
          "x1": 100,
          "xref": "x",
          "y0": 455,
          "y1": 500,
          "yref": "y"
         }
        ],
        "showlegend": false,
        "template": {
         "data": {
          "bar": [
           {
            "error_x": {
             "color": "#2a3f5f"
            },
            "error_y": {
             "color": "#2a3f5f"
            },
            "marker": {
             "line": {
              "color": "#E5ECF6",
              "width": 0.5
             }
            },
            "type": "bar"
           }
          ],
          "barpolar": [
           {
            "marker": {
             "line": {
              "color": "#E5ECF6",
              "width": 0.5
             }
            },
            "type": "barpolar"
           }
          ],
          "carpet": [
           {
            "aaxis": {
             "endlinecolor": "#2a3f5f",
             "gridcolor": "white",
             "linecolor": "white",
             "minorgridcolor": "white",
             "startlinecolor": "#2a3f5f"
            },
            "baxis": {
             "endlinecolor": "#2a3f5f",
             "gridcolor": "white",
             "linecolor": "white",
             "minorgridcolor": "white",
             "startlinecolor": "#2a3f5f"
            },
            "type": "carpet"
           }
          ],
          "choropleth": [
           {
            "colorbar": {
             "outlinewidth": 0,
             "ticks": ""
            },
            "type": "choropleth"
           }
          ],
          "contour": [
           {
            "colorbar": {
             "outlinewidth": 0,
             "ticks": ""
            },
            "colorscale": [
             [
              0,
              "#0d0887"
             ],
             [
              0.1111111111111111,
              "#46039f"
             ],
             [
              0.2222222222222222,
              "#7201a8"
             ],
             [
              0.3333333333333333,
              "#9c179e"
             ],
             [
              0.4444444444444444,
              "#bd3786"
             ],
             [
              0.5555555555555556,
              "#d8576b"
             ],
             [
              0.6666666666666666,
              "#ed7953"
             ],
             [
              0.7777777777777778,
              "#fb9f3a"
             ],
             [
              0.8888888888888888,
              "#fdca26"
             ],
             [
              1,
              "#f0f921"
             ]
            ],
            "type": "contour"
           }
          ],
          "contourcarpet": [
           {
            "colorbar": {
             "outlinewidth": 0,
             "ticks": ""
            },
            "type": "contourcarpet"
           }
          ],
          "heatmap": [
           {
            "colorbar": {
             "outlinewidth": 0,
             "ticks": ""
            },
            "colorscale": [
             [
              0,
              "#0d0887"
             ],
             [
              0.1111111111111111,
              "#46039f"
             ],
             [
              0.2222222222222222,
              "#7201a8"
             ],
             [
              0.3333333333333333,
              "#9c179e"
             ],
             [
              0.4444444444444444,
              "#bd3786"
             ],
             [
              0.5555555555555556,
              "#d8576b"
             ],
             [
              0.6666666666666666,
              "#ed7953"
             ],
             [
              0.7777777777777778,
              "#fb9f3a"
             ],
             [
              0.8888888888888888,
              "#fdca26"
             ],
             [
              1,
              "#f0f921"
             ]
            ],
            "type": "heatmap"
           }
          ],
          "heatmapgl": [
           {
            "colorbar": {
             "outlinewidth": 0,
             "ticks": ""
            },
            "colorscale": [
             [
              0,
              "#0d0887"
             ],
             [
              0.1111111111111111,
              "#46039f"
             ],
             [
              0.2222222222222222,
              "#7201a8"
             ],
             [
              0.3333333333333333,
              "#9c179e"
             ],
             [
              0.4444444444444444,
              "#bd3786"
             ],
             [
              0.5555555555555556,
              "#d8576b"
             ],
             [
              0.6666666666666666,
              "#ed7953"
             ],
             [
              0.7777777777777778,
              "#fb9f3a"
             ],
             [
              0.8888888888888888,
              "#fdca26"
             ],
             [
              1,
              "#f0f921"
             ]
            ],
            "type": "heatmapgl"
           }
          ],
          "histogram": [
           {
            "marker": {
             "colorbar": {
              "outlinewidth": 0,
              "ticks": ""
             }
            },
            "type": "histogram"
           }
          ],
          "histogram2d": [
           {
            "colorbar": {
             "outlinewidth": 0,
             "ticks": ""
            },
            "colorscale": [
             [
              0,
              "#0d0887"
             ],
             [
              0.1111111111111111,
              "#46039f"
             ],
             [
              0.2222222222222222,
              "#7201a8"
             ],
             [
              0.3333333333333333,
              "#9c179e"
             ],
             [
              0.4444444444444444,
              "#bd3786"
             ],
             [
              0.5555555555555556,
              "#d8576b"
             ],
             [
              0.6666666666666666,
              "#ed7953"
             ],
             [
              0.7777777777777778,
              "#fb9f3a"
             ],
             [
              0.8888888888888888,
              "#fdca26"
             ],
             [
              1,
              "#f0f921"
             ]
            ],
            "type": "histogram2d"
           }
          ],
          "histogram2dcontour": [
           {
            "colorbar": {
             "outlinewidth": 0,
             "ticks": ""
            },
            "colorscale": [
             [
              0,
              "#0d0887"
             ],
             [
              0.1111111111111111,
              "#46039f"
             ],
             [
              0.2222222222222222,
              "#7201a8"
             ],
             [
              0.3333333333333333,
              "#9c179e"
             ],
             [
              0.4444444444444444,
              "#bd3786"
             ],
             [
              0.5555555555555556,
              "#d8576b"
             ],
             [
              0.6666666666666666,
              "#ed7953"
             ],
             [
              0.7777777777777778,
              "#fb9f3a"
             ],
             [
              0.8888888888888888,
              "#fdca26"
             ],
             [
              1,
              "#f0f921"
             ]
            ],
            "type": "histogram2dcontour"
           }
          ],
          "mesh3d": [
           {
            "colorbar": {
             "outlinewidth": 0,
             "ticks": ""
            },
            "type": "mesh3d"
           }
          ],
          "parcoords": [
           {
            "line": {
             "colorbar": {
              "outlinewidth": 0,
              "ticks": ""
             }
            },
            "type": "parcoords"
           }
          ],
          "pie": [
           {
            "automargin": true,
            "type": "pie"
           }
          ],
          "scatter": [
           {
            "marker": {
             "colorbar": {
              "outlinewidth": 0,
              "ticks": ""
             }
            },
            "type": "scatter"
           }
          ],
          "scatter3d": [
           {
            "line": {
             "colorbar": {
              "outlinewidth": 0,
              "ticks": ""
             }
            },
            "marker": {
             "colorbar": {
              "outlinewidth": 0,
              "ticks": ""
             }
            },
            "type": "scatter3d"
           }
          ],
          "scattercarpet": [
           {
            "marker": {
             "colorbar": {
              "outlinewidth": 0,
              "ticks": ""
             }
            },
            "type": "scattercarpet"
           }
          ],
          "scattergeo": [
           {
            "marker": {
             "colorbar": {
              "outlinewidth": 0,
              "ticks": ""
             }
            },
            "type": "scattergeo"
           }
          ],
          "scattergl": [
           {
            "marker": {
             "colorbar": {
              "outlinewidth": 0,
              "ticks": ""
             }
            },
            "type": "scattergl"
           }
          ],
          "scattermapbox": [
           {
            "marker": {
             "colorbar": {
              "outlinewidth": 0,
              "ticks": ""
             }
            },
            "type": "scattermapbox"
           }
          ],
          "scatterpolar": [
           {
            "marker": {
             "colorbar": {
              "outlinewidth": 0,
              "ticks": ""
             }
            },
            "type": "scatterpolar"
           }
          ],
          "scatterpolargl": [
           {
            "marker": {
             "colorbar": {
              "outlinewidth": 0,
              "ticks": ""
             }
            },
            "type": "scatterpolargl"
           }
          ],
          "scatterternary": [
           {
            "marker": {
             "colorbar": {
              "outlinewidth": 0,
              "ticks": ""
             }
            },
            "type": "scatterternary"
           }
          ],
          "surface": [
           {
            "colorbar": {
             "outlinewidth": 0,
             "ticks": ""
            },
            "colorscale": [
             [
              0,
              "#0d0887"
             ],
             [
              0.1111111111111111,
              "#46039f"
             ],
             [
              0.2222222222222222,
              "#7201a8"
             ],
             [
              0.3333333333333333,
              "#9c179e"
             ],
             [
              0.4444444444444444,
              "#bd3786"
             ],
             [
              0.5555555555555556,
              "#d8576b"
             ],
             [
              0.6666666666666666,
              "#ed7953"
             ],
             [
              0.7777777777777778,
              "#fb9f3a"
             ],
             [
              0.8888888888888888,
              "#fdca26"
             ],
             [
              1,
              "#f0f921"
             ]
            ],
            "type": "surface"
           }
          ],
          "table": [
           {
            "cells": {
             "fill": {
              "color": "#EBF0F8"
             },
             "line": {
              "color": "white"
             }
            },
            "header": {
             "fill": {
              "color": "#C8D4E3"
             },
             "line": {
              "color": "white"
             }
            },
            "type": "table"
           }
          ]
         },
         "layout": {
          "annotationdefaults": {
           "arrowcolor": "#2a3f5f",
           "arrowhead": 0,
           "arrowwidth": 1
          },
          "coloraxis": {
           "colorbar": {
            "outlinewidth": 0,
            "ticks": ""
           }
          },
          "colorscale": {
           "diverging": [
            [
             0,
             "#8e0152"
            ],
            [
             0.1,
             "#c51b7d"
            ],
            [
             0.2,
             "#de77ae"
            ],
            [
             0.3,
             "#f1b6da"
            ],
            [
             0.4,
             "#fde0ef"
            ],
            [
             0.5,
             "#f7f7f7"
            ],
            [
             0.6,
             "#e6f5d0"
            ],
            [
             0.7,
             "#b8e186"
            ],
            [
             0.8,
             "#7fbc41"
            ],
            [
             0.9,
             "#4d9221"
            ],
            [
             1,
             "#276419"
            ]
           ],
           "sequential": [
            [
             0,
             "#0d0887"
            ],
            [
             0.1111111111111111,
             "#46039f"
            ],
            [
             0.2222222222222222,
             "#7201a8"
            ],
            [
             0.3333333333333333,
             "#9c179e"
            ],
            [
             0.4444444444444444,
             "#bd3786"
            ],
            [
             0.5555555555555556,
             "#d8576b"
            ],
            [
             0.6666666666666666,
             "#ed7953"
            ],
            [
             0.7777777777777778,
             "#fb9f3a"
            ],
            [
             0.8888888888888888,
             "#fdca26"
            ],
            [
             1,
             "#f0f921"
            ]
           ],
           "sequentialminus": [
            [
             0,
             "#0d0887"
            ],
            [
             0.1111111111111111,
             "#46039f"
            ],
            [
             0.2222222222222222,
             "#7201a8"
            ],
            [
             0.3333333333333333,
             "#9c179e"
            ],
            [
             0.4444444444444444,
             "#bd3786"
            ],
            [
             0.5555555555555556,
             "#d8576b"
            ],
            [
             0.6666666666666666,
             "#ed7953"
            ],
            [
             0.7777777777777778,
             "#fb9f3a"
            ],
            [
             0.8888888888888888,
             "#fdca26"
            ],
            [
             1,
             "#f0f921"
            ]
           ]
          },
          "colorway": [
           "#636efa",
           "#EF553B",
           "#00cc96",
           "#ab63fa",
           "#FFA15A",
           "#19d3f3",
           "#FF6692",
           "#B6E880",
           "#FF97FF",
           "#FECB52"
          ],
          "font": {
           "color": "#2a3f5f"
          },
          "geo": {
           "bgcolor": "white",
           "lakecolor": "white",
           "landcolor": "#E5ECF6",
           "showlakes": true,
           "showland": true,
           "subunitcolor": "white"
          },
          "hoverlabel": {
           "align": "left"
          },
          "hovermode": "closest",
          "mapbox": {
           "style": "light"
          },
          "paper_bgcolor": "white",
          "plot_bgcolor": "#E5ECF6",
          "polar": {
           "angularaxis": {
            "gridcolor": "white",
            "linecolor": "white",
            "ticks": ""
           },
           "bgcolor": "#E5ECF6",
           "radialaxis": {
            "gridcolor": "white",
            "linecolor": "white",
            "ticks": ""
           }
          },
          "scene": {
           "xaxis": {
            "backgroundcolor": "#E5ECF6",
            "gridcolor": "white",
            "gridwidth": 2,
            "linecolor": "white",
            "showbackground": true,
            "ticks": "",
            "zerolinecolor": "white"
           },
           "yaxis": {
            "backgroundcolor": "#E5ECF6",
            "gridcolor": "white",
            "gridwidth": 2,
            "linecolor": "white",
            "showbackground": true,
            "ticks": "",
            "zerolinecolor": "white"
           },
           "zaxis": {
            "backgroundcolor": "#E5ECF6",
            "gridcolor": "white",
            "gridwidth": 2,
            "linecolor": "white",
            "showbackground": true,
            "ticks": "",
            "zerolinecolor": "white"
           }
          },
          "shapedefaults": {
           "line": {
            "color": "#2a3f5f"
           }
          },
          "ternary": {
           "aaxis": {
            "gridcolor": "white",
            "linecolor": "white",
            "ticks": ""
           },
           "baxis": {
            "gridcolor": "white",
            "linecolor": "white",
            "ticks": ""
           },
           "bgcolor": "#E5ECF6",
           "caxis": {
            "gridcolor": "white",
            "linecolor": "white",
            "ticks": ""
           }
          },
          "title": {
           "x": 0.05
          },
          "xaxis": {
           "automargin": true,
           "gridcolor": "white",
           "linecolor": "white",
           "ticks": "",
           "title": {
            "standoff": 15
           },
           "zerolinecolor": "white",
           "zerolinewidth": 2
          },
          "yaxis": {
           "automargin": true,
           "gridcolor": "white",
           "linecolor": "white",
           "ticks": "",
           "title": {
            "standoff": 15
           },
           "zerolinecolor": "white",
           "zerolinewidth": 2
          }
         }
        },
        "title": {
         "text": "Kp indices start from year 2011<br>Orbit file:DAED_ORB_Lifetime_LLA_MLT_MLat_RAAN00_010s.csv<br>Results file:DAED_ORB_Lifetime_LLA_MLT_MLat_RAAN00_010s_Kp2011.CoverageResults.txt<br><b>Magnetic Latitudes from -60&#176; to 60&#176;</b><br>"
        },
        "width": 1100,
        "xaxis": {
         "range": [
          0,
          128
         ],
         "showgrid": false,
         "tickmode": "array",
         "ticktext": [
          "Kp 0-3<br>6-19"
         ],
         "tickvals": [
          60
         ],
         "title": {
          "text": "Kp index range<br>Magnetic Local Time range"
         }
        },
        "yaxis": {
         "range": [
          2.1421280356782377,
          2.7069700043360183
         ],
         "tickvals": [
          140,
          185,
          230,
          275,
          320,
          365,
          410,
          455,
          500
         ],
         "title": {
          "text": "Altitude (km)"
         },
         "type": "log"
        }
       }
      },
      "text/html": [
       "<div>\n",
       "        \n",
       "        \n",
       "            <div id=\"0b61eda0-ef95-4462-a3da-dc92842da571\" class=\"plotly-graph-div\" style=\"height:1640px; width:1100px;\"></div>\n",
       "            <script type=\"text/javascript\">\n",
       "                require([\"plotly\"], function(Plotly) {\n",
       "                    window.PLOTLYENV=window.PLOTLYENV || {};\n",
       "                    \n",
       "                if (document.getElementById(\"0b61eda0-ef95-4462-a3da-dc92842da571\")) {\n",
       "                    Plotly.newPlot(\n",
       "                        '0b61eda0-ef95-4462-a3da-dc92842da571',\n",
       "                        [{\"mode\": \"text\", \"text\": [\"SQ_A1<br>43748 / 150\"], \"type\": \"scatter\", \"x\": [60.0], \"y\": [162.5]}, {\"mode\": \"text\", \"text\": [\"SQ_A2<br>22908 / 150\"], \"type\": \"scatter\", \"x\": [60.0], \"y\": [207.5]}, {\"mode\": \"text\", \"text\": [\"SQ_A3<br>16269 / 150\"], \"type\": \"scatter\", \"x\": [60.0], \"y\": [252.5]}, {\"mode\": \"text\", \"text\": [\"SQ_A4<br>13172 / 150\"], \"type\": \"scatter\", \"x\": [60.0], \"y\": [297.5]}, {\"mode\": \"text\", \"text\": [\"SQ_A5<br>11192 / 150\"], \"type\": \"scatter\", \"x\": [60.0], \"y\": [342.5]}, {\"mode\": \"text\", \"text\": [\"SQ_A6<br>9766 / 150\"], \"type\": \"scatter\", \"x\": [60.0], \"y\": [387.5]}, {\"mode\": \"text\", \"text\": [\"SQ_A7<br>8738 / 150\"], \"type\": \"scatter\", \"x\": [60.0], \"y\": [432.5]}, {\"mode\": \"text\", \"text\": [\"SQ_A8<br>8150 / 150\"], \"type\": \"scatter\", \"x\": [60.0], \"y\": [477.5]}, {\"marker\": {\"color\": [0, 100], \"colorbar\": {\"ticktext\": [\"empty\", \"full\"], \"tickvals\": [0, 100]}, \"colorscale\": [[0.0, \"rgb(247,251,255)\"], [0.125, \"rgb(222,235,247)\"], [0.25, \"rgb(198,219,239)\"], [0.375, \"rgb(158,202,225)\"], [0.5, \"rgb(107,174,214)\"], [0.625, \"rgb(66,146,198)\"], [0.75, \"rgb(33,113,181)\"], [0.875, \"rgb(8,81,156)\"], [1.0, \"rgb(8,48,107)\"]]}, \"mode\": \"markers\", \"opacity\": 0, \"type\": \"scatter\", \"x\": [0, 0], \"y\": [0, 0]}],\n",
       "                        {\"colorscale\": {\"sequential\": [[0.0, \"rgb(247,251,255)\"], [0.125, \"rgb(222,235,247)\"], [0.25, \"rgb(198,219,239)\"], [0.375, \"rgb(158,202,225)\"], [0.5, \"rgb(107,174,214)\"], [0.625, \"rgb(66,146,198)\"], [0.75, \"rgb(33,113,181)\"], [0.875, \"rgb(8,81,156)\"], [1.0, \"rgb(8,48,107)\"]]}, \"height\": 1640, \"margin\": {\"b\": 150, \"t\": 150}, \"shapes\": [{\"fillcolor\": \"rgba(0.03137254901960784, 0.18823529411764706, 0.4196078431372549, 1.0)\", \"line\": {\"color\": \"RoyalBlue\", \"width\": 3}, \"opacity\": 0.8, \"type\": \"rect\", \"x0\": 20, \"x1\": 100, \"xref\": \"x\", \"y0\": 140, \"y1\": 185, \"yref\": \"y\"}, {\"fillcolor\": \"rgba(0.03137254901960784, 0.18823529411764706, 0.4196078431372549, 1.0)\", \"line\": {\"color\": \"RoyalBlue\", \"width\": 3}, \"opacity\": 0.8, \"type\": \"rect\", \"x0\": 20, \"x1\": 100, \"xref\": \"x\", \"y0\": 185, \"y1\": 230, \"yref\": \"y\"}, {\"fillcolor\": \"rgba(0.03137254901960784, 0.18823529411764706, 0.4196078431372549, 1.0)\", \"line\": {\"color\": \"RoyalBlue\", \"width\": 3}, \"opacity\": 0.8, \"type\": \"rect\", \"x0\": 20, \"x1\": 100, \"xref\": \"x\", \"y0\": 230, \"y1\": 275, \"yref\": \"y\"}, {\"fillcolor\": \"rgba(0.03137254901960784, 0.18823529411764706, 0.4196078431372549, 1.0)\", \"line\": {\"color\": \"RoyalBlue\", \"width\": 3}, \"opacity\": 0.8, \"type\": \"rect\", \"x0\": 20, \"x1\": 100, \"xref\": \"x\", \"y0\": 275, \"y1\": 320, \"yref\": \"y\"}, {\"fillcolor\": \"rgba(0.03137254901960784, 0.18823529411764706, 0.4196078431372549, 1.0)\", \"line\": {\"color\": \"RoyalBlue\", \"width\": 3}, \"opacity\": 0.8, \"type\": \"rect\", \"x0\": 20, \"x1\": 100, \"xref\": \"x\", \"y0\": 320, \"y1\": 365, \"yref\": \"y\"}, {\"fillcolor\": \"rgba(0.03137254901960784, 0.18823529411764706, 0.4196078431372549, 1.0)\", \"line\": {\"color\": \"RoyalBlue\", \"width\": 3}, \"opacity\": 0.8, \"type\": \"rect\", \"x0\": 20, \"x1\": 100, \"xref\": \"x\", \"y0\": 365, \"y1\": 410, \"yref\": \"y\"}, {\"fillcolor\": \"rgba(0.03137254901960784, 0.18823529411764706, 0.4196078431372549, 1.0)\", \"line\": {\"color\": \"RoyalBlue\", \"width\": 3}, \"opacity\": 0.8, \"type\": \"rect\", \"x0\": 20, \"x1\": 100, \"xref\": \"x\", \"y0\": 410, \"y1\": 455, \"yref\": \"y\"}, {\"fillcolor\": \"rgba(0.03137254901960784, 0.18823529411764706, 0.4196078431372549, 1.0)\", \"line\": {\"color\": \"RoyalBlue\", \"width\": 3}, \"opacity\": 0.8, \"type\": \"rect\", \"x0\": 20, \"x1\": 100, \"xref\": \"x\", \"y0\": 455, \"y1\": 500, \"yref\": \"y\"}], \"showlegend\": false, \"template\": {\"data\": {\"bar\": [{\"error_x\": {\"color\": \"#2a3f5f\"}, \"error_y\": {\"color\": \"#2a3f5f\"}, \"marker\": {\"line\": {\"color\": \"#E5ECF6\", \"width\": 0.5}}, \"type\": \"bar\"}], \"barpolar\": [{\"marker\": {\"line\": {\"color\": \"#E5ECF6\", \"width\": 0.5}}, \"type\": \"barpolar\"}], \"carpet\": [{\"aaxis\": {\"endlinecolor\": \"#2a3f5f\", \"gridcolor\": \"white\", \"linecolor\": \"white\", \"minorgridcolor\": \"white\", \"startlinecolor\": \"#2a3f5f\"}, \"baxis\": {\"endlinecolor\": \"#2a3f5f\", \"gridcolor\": \"white\", \"linecolor\": \"white\", \"minorgridcolor\": \"white\", \"startlinecolor\": \"#2a3f5f\"}, \"type\": \"carpet\"}], \"choropleth\": [{\"colorbar\": {\"outlinewidth\": 0, \"ticks\": \"\"}, \"type\": \"choropleth\"}], \"contour\": [{\"colorbar\": {\"outlinewidth\": 0, \"ticks\": \"\"}, \"colorscale\": [[0.0, \"#0d0887\"], [0.1111111111111111, \"#46039f\"], [0.2222222222222222, \"#7201a8\"], [0.3333333333333333, \"#9c179e\"], [0.4444444444444444, \"#bd3786\"], [0.5555555555555556, \"#d8576b\"], [0.6666666666666666, \"#ed7953\"], [0.7777777777777778, \"#fb9f3a\"], [0.8888888888888888, \"#fdca26\"], [1.0, \"#f0f921\"]], \"type\": \"contour\"}], \"contourcarpet\": [{\"colorbar\": {\"outlinewidth\": 0, \"ticks\": \"\"}, \"type\": \"contourcarpet\"}], \"heatmap\": [{\"colorbar\": {\"outlinewidth\": 0, \"ticks\": \"\"}, \"colorscale\": [[0.0, \"#0d0887\"], [0.1111111111111111, \"#46039f\"], [0.2222222222222222, \"#7201a8\"], [0.3333333333333333, \"#9c179e\"], [0.4444444444444444, \"#bd3786\"], [0.5555555555555556, \"#d8576b\"], [0.6666666666666666, \"#ed7953\"], [0.7777777777777778, \"#fb9f3a\"], [0.8888888888888888, \"#fdca26\"], [1.0, \"#f0f921\"]], \"type\": \"heatmap\"}], \"heatmapgl\": [{\"colorbar\": {\"outlinewidth\": 0, \"ticks\": \"\"}, \"colorscale\": [[0.0, \"#0d0887\"], [0.1111111111111111, \"#46039f\"], [0.2222222222222222, \"#7201a8\"], [0.3333333333333333, \"#9c179e\"], [0.4444444444444444, \"#bd3786\"], [0.5555555555555556, \"#d8576b\"], [0.6666666666666666, \"#ed7953\"], [0.7777777777777778, \"#fb9f3a\"], [0.8888888888888888, \"#fdca26\"], [1.0, \"#f0f921\"]], \"type\": \"heatmapgl\"}], \"histogram\": [{\"marker\": {\"colorbar\": {\"outlinewidth\": 0, \"ticks\": \"\"}}, \"type\": \"histogram\"}], \"histogram2d\": [{\"colorbar\": {\"outlinewidth\": 0, \"ticks\": \"\"}, \"colorscale\": [[0.0, \"#0d0887\"], [0.1111111111111111, \"#46039f\"], [0.2222222222222222, \"#7201a8\"], [0.3333333333333333, \"#9c179e\"], [0.4444444444444444, \"#bd3786\"], [0.5555555555555556, \"#d8576b\"], [0.6666666666666666, \"#ed7953\"], [0.7777777777777778, \"#fb9f3a\"], [0.8888888888888888, \"#fdca26\"], [1.0, \"#f0f921\"]], \"type\": \"histogram2d\"}], \"histogram2dcontour\": [{\"colorbar\": {\"outlinewidth\": 0, \"ticks\": \"\"}, \"colorscale\": [[0.0, \"#0d0887\"], [0.1111111111111111, \"#46039f\"], [0.2222222222222222, \"#7201a8\"], [0.3333333333333333, \"#9c179e\"], [0.4444444444444444, \"#bd3786\"], [0.5555555555555556, \"#d8576b\"], [0.6666666666666666, \"#ed7953\"], [0.7777777777777778, \"#fb9f3a\"], [0.8888888888888888, \"#fdca26\"], [1.0, \"#f0f921\"]], \"type\": \"histogram2dcontour\"}], \"mesh3d\": [{\"colorbar\": {\"outlinewidth\": 0, \"ticks\": \"\"}, \"type\": \"mesh3d\"}], \"parcoords\": [{\"line\": {\"colorbar\": {\"outlinewidth\": 0, \"ticks\": \"\"}}, \"type\": \"parcoords\"}], \"pie\": [{\"automargin\": true, \"type\": \"pie\"}], \"scatter\": [{\"marker\": {\"colorbar\": {\"outlinewidth\": 0, \"ticks\": \"\"}}, \"type\": \"scatter\"}], \"scatter3d\": [{\"line\": {\"colorbar\": {\"outlinewidth\": 0, \"ticks\": \"\"}}, \"marker\": {\"colorbar\": {\"outlinewidth\": 0, \"ticks\": \"\"}}, \"type\": \"scatter3d\"}], \"scattercarpet\": [{\"marker\": {\"colorbar\": {\"outlinewidth\": 0, \"ticks\": \"\"}}, \"type\": \"scattercarpet\"}], \"scattergeo\": [{\"marker\": {\"colorbar\": {\"outlinewidth\": 0, \"ticks\": \"\"}}, \"type\": \"scattergeo\"}], \"scattergl\": [{\"marker\": {\"colorbar\": {\"outlinewidth\": 0, \"ticks\": \"\"}}, \"type\": \"scattergl\"}], \"scattermapbox\": [{\"marker\": {\"colorbar\": {\"outlinewidth\": 0, \"ticks\": \"\"}}, \"type\": \"scattermapbox\"}], \"scatterpolar\": [{\"marker\": {\"colorbar\": {\"outlinewidth\": 0, \"ticks\": \"\"}}, \"type\": \"scatterpolar\"}], \"scatterpolargl\": [{\"marker\": {\"colorbar\": {\"outlinewidth\": 0, \"ticks\": \"\"}}, \"type\": \"scatterpolargl\"}], \"scatterternary\": [{\"marker\": {\"colorbar\": {\"outlinewidth\": 0, \"ticks\": \"\"}}, \"type\": \"scatterternary\"}], \"surface\": [{\"colorbar\": {\"outlinewidth\": 0, \"ticks\": \"\"}, \"colorscale\": [[0.0, \"#0d0887\"], [0.1111111111111111, \"#46039f\"], [0.2222222222222222, \"#7201a8\"], [0.3333333333333333, \"#9c179e\"], [0.4444444444444444, \"#bd3786\"], [0.5555555555555556, \"#d8576b\"], [0.6666666666666666, \"#ed7953\"], [0.7777777777777778, \"#fb9f3a\"], [0.8888888888888888, \"#fdca26\"], [1.0, \"#f0f921\"]], \"type\": \"surface\"}], \"table\": [{\"cells\": {\"fill\": {\"color\": \"#EBF0F8\"}, \"line\": {\"color\": \"white\"}}, \"header\": {\"fill\": {\"color\": \"#C8D4E3\"}, \"line\": {\"color\": \"white\"}}, \"type\": \"table\"}]}, \"layout\": {\"annotationdefaults\": {\"arrowcolor\": \"#2a3f5f\", \"arrowhead\": 0, \"arrowwidth\": 1}, \"coloraxis\": {\"colorbar\": {\"outlinewidth\": 0, \"ticks\": \"\"}}, \"colorscale\": {\"diverging\": [[0, \"#8e0152\"], [0.1, \"#c51b7d\"], [0.2, \"#de77ae\"], [0.3, \"#f1b6da\"], [0.4, \"#fde0ef\"], [0.5, \"#f7f7f7\"], [0.6, \"#e6f5d0\"], [0.7, \"#b8e186\"], [0.8, \"#7fbc41\"], [0.9, \"#4d9221\"], [1, \"#276419\"]], \"sequential\": [[0.0, \"#0d0887\"], [0.1111111111111111, \"#46039f\"], [0.2222222222222222, \"#7201a8\"], [0.3333333333333333, \"#9c179e\"], [0.4444444444444444, \"#bd3786\"], [0.5555555555555556, \"#d8576b\"], [0.6666666666666666, \"#ed7953\"], [0.7777777777777778, \"#fb9f3a\"], [0.8888888888888888, \"#fdca26\"], [1.0, \"#f0f921\"]], \"sequentialminus\": [[0.0, \"#0d0887\"], [0.1111111111111111, \"#46039f\"], [0.2222222222222222, \"#7201a8\"], [0.3333333333333333, \"#9c179e\"], [0.4444444444444444, \"#bd3786\"], [0.5555555555555556, \"#d8576b\"], [0.6666666666666666, \"#ed7953\"], [0.7777777777777778, \"#fb9f3a\"], [0.8888888888888888, \"#fdca26\"], [1.0, \"#f0f921\"]]}, \"colorway\": [\"#636efa\", \"#EF553B\", \"#00cc96\", \"#ab63fa\", \"#FFA15A\", \"#19d3f3\", \"#FF6692\", \"#B6E880\", \"#FF97FF\", \"#FECB52\"], \"font\": {\"color\": \"#2a3f5f\"}, \"geo\": {\"bgcolor\": \"white\", \"lakecolor\": \"white\", \"landcolor\": \"#E5ECF6\", \"showlakes\": true, \"showland\": true, \"subunitcolor\": \"white\"}, \"hoverlabel\": {\"align\": \"left\"}, \"hovermode\": \"closest\", \"mapbox\": {\"style\": \"light\"}, \"paper_bgcolor\": \"white\", \"plot_bgcolor\": \"#E5ECF6\", \"polar\": {\"angularaxis\": {\"gridcolor\": \"white\", \"linecolor\": \"white\", \"ticks\": \"\"}, \"bgcolor\": \"#E5ECF6\", \"radialaxis\": {\"gridcolor\": \"white\", \"linecolor\": \"white\", \"ticks\": \"\"}}, \"scene\": {\"xaxis\": {\"backgroundcolor\": \"#E5ECF6\", \"gridcolor\": \"white\", \"gridwidth\": 2, \"linecolor\": \"white\", \"showbackground\": true, \"ticks\": \"\", \"zerolinecolor\": \"white\"}, \"yaxis\": {\"backgroundcolor\": \"#E5ECF6\", \"gridcolor\": \"white\", \"gridwidth\": 2, \"linecolor\": \"white\", \"showbackground\": true, \"ticks\": \"\", \"zerolinecolor\": \"white\"}, \"zaxis\": {\"backgroundcolor\": \"#E5ECF6\", \"gridcolor\": \"white\", \"gridwidth\": 2, \"linecolor\": \"white\", \"showbackground\": true, \"ticks\": \"\", \"zerolinecolor\": \"white\"}}, \"shapedefaults\": {\"line\": {\"color\": \"#2a3f5f\"}}, \"ternary\": {\"aaxis\": {\"gridcolor\": \"white\", \"linecolor\": \"white\", \"ticks\": \"\"}, \"baxis\": {\"gridcolor\": \"white\", \"linecolor\": \"white\", \"ticks\": \"\"}, \"bgcolor\": \"#E5ECF6\", \"caxis\": {\"gridcolor\": \"white\", \"linecolor\": \"white\", \"ticks\": \"\"}}, \"title\": {\"x\": 0.05}, \"xaxis\": {\"automargin\": true, \"gridcolor\": \"white\", \"linecolor\": \"white\", \"ticks\": \"\", \"title\": {\"standoff\": 15}, \"zerolinecolor\": \"white\", \"zerolinewidth\": 2}, \"yaxis\": {\"automargin\": true, \"gridcolor\": \"white\", \"linecolor\": \"white\", \"ticks\": \"\", \"title\": {\"standoff\": 15}, \"zerolinecolor\": \"white\", \"zerolinewidth\": 2}}}, \"title\": {\"text\": \"Kp indices start from year 2011<br>Orbit file:DAED_ORB_Lifetime_LLA_MLT_MLat_RAAN00_010s.csv<br>Results file:DAED_ORB_Lifetime_LLA_MLT_MLat_RAAN00_010s_Kp2011.CoverageResults.txt<br><b>Magnetic Latitudes from -60&#176; to 60&#176;</b><br>\"}, \"width\": 1100, \"xaxis\": {\"range\": [0, 128], \"showgrid\": false, \"tickmode\": \"array\", \"ticktext\": [\"Kp 0-3<br>6-19\"], \"tickvals\": [60.0], \"title\": {\"text\": \"Kp index range<br>Magnetic Local Time range\"}}, \"yaxis\": {\"range\": [2.1421280356782377, 2.7069700043360183], \"tickvals\": [140, 185, 230, 275, 320, 365, 410, 455, 500], \"title\": {\"text\": \"Altitude (km)\"}, \"type\": \"log\"}},\n",
       "                        {\"responsive\": true}\n",
       "                    ).then(function(){\n",
       "                            \n",
       "var gd = document.getElementById('0b61eda0-ef95-4462-a3da-dc92842da571');\n",
       "var x = new MutationObserver(function (mutations, observer) {{\n",
       "        var display = window.getComputedStyle(gd).display;\n",
       "        if (!display || display === 'none') {{\n",
       "            console.log([gd, 'removed!']);\n",
       "            Plotly.purge(gd);\n",
       "            observer.disconnect();\n",
       "        }}\n",
       "}});\n",
       "\n",
       "// Listen for the removal of the full notebook cells\n",
       "var notebookContainer = gd.closest('#notebook-container');\n",
       "if (notebookContainer) {{\n",
       "    x.observe(notebookContainer, {childList: true});\n",
       "}}\n",
       "\n",
       "// Listen for the clearing of the current output cell\n",
       "var outputEl = gd.closest('.output');\n",
       "if (outputEl) {{\n",
       "    x.observe(outputEl, {childList: true});\n",
       "}}\n",
       "\n",
       "                        })\n",
       "                };\n",
       "                });\n",
       "            </script>\n",
       "        </div>"
      ]
     },
     "metadata": {},
     "output_type": "display_data"
    },
    {
     "data": {
      "text/html": [
       "        <script type=\"text/javascript\">\n",
       "        window.PlotlyConfig = {MathJaxConfig: 'local'};\n",
       "        if (window.MathJax) {MathJax.Hub.Config({SVG: {font: \"STIX-Web\"}});}\n",
       "        if (typeof require !== 'undefined') {\n",
       "        require.undef(\"plotly\");\n",
       "        requirejs.config({\n",
       "            paths: {\n",
       "                'plotly': ['https://cdn.plot.ly/plotly-latest.min']\n",
       "            }\n",
       "        });\n",
       "        require(['plotly'], function(Plotly) {\n",
       "            window._Plotly = Plotly;\n",
       "        });\n",
       "        }\n",
       "        </script>\n",
       "        "
      ]
     },
     "metadata": {},
     "output_type": "display_data"
    },
    {
     "data": {
      "application/vnd.plotly.v1+json": {
       "config": {
        "linkText": "Export to plot.ly",
        "plotlyServerURL": "https://plot.ly",
        "showLink": false
       },
       "data": [
        {
         "mode": "text",
         "text": [
          "CF_L1<br>343 / 50"
         ],
         "type": "scatter",
         "x": [
          60
         ],
         "y": [
          162.5
         ]
        },
        {
         "mode": "text",
         "text": [
          "CF_L2<br>152 / 50"
         ],
         "type": "scatter",
         "x": [
          60
         ],
         "y": [
          207.5
         ]
        },
        {
         "mode": "text",
         "text": [
          "CF_L3<br>128 / 50"
         ],
         "type": "scatter",
         "x": [
          60
         ],
         "y": [
          252.5
         ]
        },
        {
         "mode": "text",
         "text": [
          "CF_L4<br>101 / 50"
         ],
         "type": "scatter",
         "x": [
          60
         ],
         "y": [
          297.5
         ]
        },
        {
         "mode": "text",
         "text": [
          "CF_L5<br> 94 / 50"
         ],
         "type": "scatter",
         "x": [
          60
         ],
         "y": [
          342.5
         ]
        },
        {
         "mode": "text",
         "text": [
          "CF_L6<br> 90 / 50"
         ],
         "type": "scatter",
         "x": [
          60
         ],
         "y": [
          387.5
         ]
        },
        {
         "mode": "text",
         "text": [
          "CF_L7<br> 96 / 50"
         ],
         "type": "scatter",
         "x": [
          60
         ],
         "y": [
          432.5
         ]
        },
        {
         "mode": "text",
         "text": [
          "CF_L8<br>100 / 50"
         ],
         "type": "scatter",
         "x": [
          60
         ],
         "y": [
          477.5
         ]
        },
        {
         "mode": "text",
         "text": [
          "CF_M1<br>130 / 30"
         ],
         "type": "scatter",
         "x": [
          150
         ],
         "y": [
          185
         ]
        },
        {
         "mode": "text",
         "text": [
          "CF_M2<br> 56 / 30"
         ],
         "type": "scatter",
         "x": [
          150
         ],
         "y": [
          275
         ]
        },
        {
         "mode": "text",
         "text": [
          "CF_M3<br> 61 / 30"
         ],
         "type": "scatter",
         "x": [
          150
         ],
         "y": [
          365
         ]
        },
        {
         "mode": "text",
         "text": [
          "CF_M4<br> 31 / 30"
         ],
         "type": "scatter",
         "x": [
          150
         ],
         "y": [
          455
         ]
        },
        {
         "mode": "text",
         "text": [
          "CF_H1<br> 11 / 20"
         ],
         "type": "scatter",
         "x": [
          240
         ],
         "y": [
          200
         ]
        },
        {
         "mode": "text",
         "text": [
          "CF_H2<br>  8 / 20"
         ],
         "type": "scatter",
         "x": [
          240
         ],
         "y": [
          320
         ]
        },
        {
         "mode": "text",
         "text": [
          "CF_H3<br>  4 / 20"
         ],
         "type": "scatter",
         "x": [
          240
         ],
         "y": [
          440
         ]
        },
        {
         "marker": {
          "color": [
           0,
           100
          ],
          "colorbar": {
           "ticktext": [
            "empty",
            "full"
           ],
           "tickvals": [
            0,
            100
           ]
          },
          "colorscale": [
           [
            0,
            "rgb(247,251,255)"
           ],
           [
            0.125,
            "rgb(222,235,247)"
           ],
           [
            0.25,
            "rgb(198,219,239)"
           ],
           [
            0.375,
            "rgb(158,202,225)"
           ],
           [
            0.5,
            "rgb(107,174,214)"
           ],
           [
            0.625,
            "rgb(66,146,198)"
           ],
           [
            0.75,
            "rgb(33,113,181)"
           ],
           [
            0.875,
            "rgb(8,81,156)"
           ],
           [
            1,
            "rgb(8,48,107)"
           ]
          ]
         },
         "mode": "markers",
         "opacity": 0,
         "type": "scatter",
         "x": [
          0,
          0
         ],
         "y": [
          0,
          0
         ]
        }
       ],
       "layout": {
        "colorscale": {
         "sequential": [
          [
           0,
           "rgb(247,251,255)"
          ],
          [
           0.125,
           "rgb(222,235,247)"
          ],
          [
           0.25,
           "rgb(198,219,239)"
          ],
          [
           0.375,
           "rgb(158,202,225)"
          ],
          [
           0.5,
           "rgb(107,174,214)"
          ],
          [
           0.625,
           "rgb(66,146,198)"
          ],
          [
           0.75,
           "rgb(33,113,181)"
          ],
          [
           0.875,
           "rgb(8,81,156)"
          ],
          [
           1,
           "rgb(8,48,107)"
          ]
         ]
        },
        "height": 1640,
        "margin": {
         "b": 150,
         "t": 150
        },
        "shapes": [
         {
          "fillcolor": "rgba(0.03137254901960784, 0.18823529411764706, 0.4196078431372549, 1.0)",
          "line": {
           "color": "RoyalBlue",
           "width": 3
          },
          "opacity": 0.8,
          "type": "rect",
          "x0": 20,
          "x1": 100,
          "xref": "x",
          "y0": 140,
          "y1": 185,
          "yref": "y"
         },
         {
          "fillcolor": "rgba(0.03137254901960784, 0.18823529411764706, 0.4196078431372549, 1.0)",
          "line": {
           "color": "RoyalBlue",
           "width": 3
          },
          "opacity": 0.8,
          "type": "rect",
          "x0": 20,
          "x1": 100,
          "xref": "x",
          "y0": 185,
          "y1": 230,
          "yref": "y"
         },
         {
          "fillcolor": "rgba(0.03137254901960784, 0.18823529411764706, 0.4196078431372549, 1.0)",
          "line": {
           "color": "RoyalBlue",
           "width": 3
          },
          "opacity": 0.8,
          "type": "rect",
          "x0": 20,
          "x1": 100,
          "xref": "x",
          "y0": 230,
          "y1": 275,
          "yref": "y"
         },
         {
          "fillcolor": "rgba(0.03137254901960784, 0.18823529411764706, 0.4196078431372549, 1.0)",
          "line": {
           "color": "RoyalBlue",
           "width": 3
          },
          "opacity": 0.8,
          "type": "rect",
          "x0": 20,
          "x1": 100,
          "xref": "x",
          "y0": 275,
          "y1": 320,
          "yref": "y"
         },
         {
          "fillcolor": "rgba(0.03137254901960784, 0.18823529411764706, 0.4196078431372549, 1.0)",
          "line": {
           "color": "RoyalBlue",
           "width": 3
          },
          "opacity": 0.8,
          "type": "rect",
          "x0": 20,
          "x1": 100,
          "xref": "x",
          "y0": 320,
          "y1": 365,
          "yref": "y"
         },
         {
          "fillcolor": "rgba(0.03137254901960784, 0.18823529411764706, 0.4196078431372549, 1.0)",
          "line": {
           "color": "RoyalBlue",
           "width": 3
          },
          "opacity": 0.8,
          "type": "rect",
          "x0": 20,
          "x1": 100,
          "xref": "x",
          "y0": 365,
          "y1": 410,
          "yref": "y"
         },
         {
          "fillcolor": "rgba(0.03137254901960784, 0.18823529411764706, 0.4196078431372549, 1.0)",
          "line": {
           "color": "RoyalBlue",
           "width": 3
          },
          "opacity": 0.8,
          "type": "rect",
          "x0": 20,
          "x1": 100,
          "xref": "x",
          "y0": 410,
          "y1": 455,
          "yref": "y"
         },
         {
          "fillcolor": "rgba(0.03137254901960784, 0.18823529411764706, 0.4196078431372549, 1.0)",
          "line": {
           "color": "RoyalBlue",
           "width": 3
          },
          "opacity": 0.8,
          "type": "rect",
          "x0": 20,
          "x1": 100,
          "xref": "x",
          "y0": 455,
          "y1": 500,
          "yref": "y"
         },
         {
          "fillcolor": "rgba(0.03137254901960784, 0.18823529411764706, 0.4196078431372549, 1.0)",
          "line": {
           "color": "RoyalBlue",
           "width": 3
          },
          "opacity": 0.8,
          "type": "rect",
          "x0": 110,
          "x1": 190,
          "xref": "x",
          "y0": 140,
          "y1": 230,
          "yref": "y"
         },
         {
          "fillcolor": "rgba(0.03137254901960784, 0.18823529411764706, 0.4196078431372549, 1.0)",
          "line": {
           "color": "RoyalBlue",
           "width": 3
          },
          "opacity": 0.8,
          "type": "rect",
          "x0": 110,
          "x1": 190,
          "xref": "x",
          "y0": 230,
          "y1": 320,
          "yref": "y"
         },
         {
          "fillcolor": "rgba(0.03137254901960784, 0.18823529411764706, 0.4196078431372549, 1.0)",
          "line": {
           "color": "RoyalBlue",
           "width": 3
          },
          "opacity": 0.8,
          "type": "rect",
          "x0": 110,
          "x1": 190,
          "xref": "x",
          "y0": 320,
          "y1": 410,
          "yref": "y"
         },
         {
          "fillcolor": "rgba(0.03137254901960784, 0.18823529411764706, 0.4196078431372549, 1.0)",
          "line": {
           "color": "RoyalBlue",
           "width": 3
          },
          "opacity": 0.8,
          "type": "rect",
          "x0": 110,
          "x1": 190,
          "xref": "x",
          "y0": 410,
          "y1": 500,
          "yref": "y"
         },
         {
          "fillcolor": "rgba(0.366643598615917, 0.6461822376009227, 0.8185467128027681, 1.0)",
          "line": {
           "color": "RoyalBlue",
           "width": 3
          },
          "opacity": 0.8,
          "type": "rect",
          "x0": 200,
          "x1": 280,
          "xref": "x",
          "y0": 140,
          "y1": 260,
          "yref": "y"
         },
         {
          "fillcolor": "rgba(0.5796078431372549, 0.7701960784313725, 0.8737254901960784, 1.0)",
          "line": {
           "color": "RoyalBlue",
           "width": 3
          },
          "opacity": 0.8,
          "type": "rect",
          "x0": 200,
          "x1": 280,
          "xref": "x",
          "y0": 260,
          "y1": 380,
          "yref": "y"
         },
         {
          "fillcolor": "rgba(0.8200230680507498, 0.8878585159554018, 0.9517723952326028, 1.0)",
          "line": {
           "color": "RoyalBlue",
           "width": 3
          },
          "opacity": 0.8,
          "type": "rect",
          "x0": 200,
          "x1": 280,
          "xref": "x",
          "y0": 380,
          "y1": 500,
          "yref": "y"
         }
        ],
        "showlegend": false,
        "template": {
         "data": {
          "bar": [
           {
            "error_x": {
             "color": "#2a3f5f"
            },
            "error_y": {
             "color": "#2a3f5f"
            },
            "marker": {
             "line": {
              "color": "#E5ECF6",
              "width": 0.5
             }
            },
            "type": "bar"
           }
          ],
          "barpolar": [
           {
            "marker": {
             "line": {
              "color": "#E5ECF6",
              "width": 0.5
             }
            },
            "type": "barpolar"
           }
          ],
          "carpet": [
           {
            "aaxis": {
             "endlinecolor": "#2a3f5f",
             "gridcolor": "white",
             "linecolor": "white",
             "minorgridcolor": "white",
             "startlinecolor": "#2a3f5f"
            },
            "baxis": {
             "endlinecolor": "#2a3f5f",
             "gridcolor": "white",
             "linecolor": "white",
             "minorgridcolor": "white",
             "startlinecolor": "#2a3f5f"
            },
            "type": "carpet"
           }
          ],
          "choropleth": [
           {
            "colorbar": {
             "outlinewidth": 0,
             "ticks": ""
            },
            "type": "choropleth"
           }
          ],
          "contour": [
           {
            "colorbar": {
             "outlinewidth": 0,
             "ticks": ""
            },
            "colorscale": [
             [
              0,
              "#0d0887"
             ],
             [
              0.1111111111111111,
              "#46039f"
             ],
             [
              0.2222222222222222,
              "#7201a8"
             ],
             [
              0.3333333333333333,
              "#9c179e"
             ],
             [
              0.4444444444444444,
              "#bd3786"
             ],
             [
              0.5555555555555556,
              "#d8576b"
             ],
             [
              0.6666666666666666,
              "#ed7953"
             ],
             [
              0.7777777777777778,
              "#fb9f3a"
             ],
             [
              0.8888888888888888,
              "#fdca26"
             ],
             [
              1,
              "#f0f921"
             ]
            ],
            "type": "contour"
           }
          ],
          "contourcarpet": [
           {
            "colorbar": {
             "outlinewidth": 0,
             "ticks": ""
            },
            "type": "contourcarpet"
           }
          ],
          "heatmap": [
           {
            "colorbar": {
             "outlinewidth": 0,
             "ticks": ""
            },
            "colorscale": [
             [
              0,
              "#0d0887"
             ],
             [
              0.1111111111111111,
              "#46039f"
             ],
             [
              0.2222222222222222,
              "#7201a8"
             ],
             [
              0.3333333333333333,
              "#9c179e"
             ],
             [
              0.4444444444444444,
              "#bd3786"
             ],
             [
              0.5555555555555556,
              "#d8576b"
             ],
             [
              0.6666666666666666,
              "#ed7953"
             ],
             [
              0.7777777777777778,
              "#fb9f3a"
             ],
             [
              0.8888888888888888,
              "#fdca26"
             ],
             [
              1,
              "#f0f921"
             ]
            ],
            "type": "heatmap"
           }
          ],
          "heatmapgl": [
           {
            "colorbar": {
             "outlinewidth": 0,
             "ticks": ""
            },
            "colorscale": [
             [
              0,
              "#0d0887"
             ],
             [
              0.1111111111111111,
              "#46039f"
             ],
             [
              0.2222222222222222,
              "#7201a8"
             ],
             [
              0.3333333333333333,
              "#9c179e"
             ],
             [
              0.4444444444444444,
              "#bd3786"
             ],
             [
              0.5555555555555556,
              "#d8576b"
             ],
             [
              0.6666666666666666,
              "#ed7953"
             ],
             [
              0.7777777777777778,
              "#fb9f3a"
             ],
             [
              0.8888888888888888,
              "#fdca26"
             ],
             [
              1,
              "#f0f921"
             ]
            ],
            "type": "heatmapgl"
           }
          ],
          "histogram": [
           {
            "marker": {
             "colorbar": {
              "outlinewidth": 0,
              "ticks": ""
             }
            },
            "type": "histogram"
           }
          ],
          "histogram2d": [
           {
            "colorbar": {
             "outlinewidth": 0,
             "ticks": ""
            },
            "colorscale": [
             [
              0,
              "#0d0887"
             ],
             [
              0.1111111111111111,
              "#46039f"
             ],
             [
              0.2222222222222222,
              "#7201a8"
             ],
             [
              0.3333333333333333,
              "#9c179e"
             ],
             [
              0.4444444444444444,
              "#bd3786"
             ],
             [
              0.5555555555555556,
              "#d8576b"
             ],
             [
              0.6666666666666666,
              "#ed7953"
             ],
             [
              0.7777777777777778,
              "#fb9f3a"
             ],
             [
              0.8888888888888888,
              "#fdca26"
             ],
             [
              1,
              "#f0f921"
             ]
            ],
            "type": "histogram2d"
           }
          ],
          "histogram2dcontour": [
           {
            "colorbar": {
             "outlinewidth": 0,
             "ticks": ""
            },
            "colorscale": [
             [
              0,
              "#0d0887"
             ],
             [
              0.1111111111111111,
              "#46039f"
             ],
             [
              0.2222222222222222,
              "#7201a8"
             ],
             [
              0.3333333333333333,
              "#9c179e"
             ],
             [
              0.4444444444444444,
              "#bd3786"
             ],
             [
              0.5555555555555556,
              "#d8576b"
             ],
             [
              0.6666666666666666,
              "#ed7953"
             ],
             [
              0.7777777777777778,
              "#fb9f3a"
             ],
             [
              0.8888888888888888,
              "#fdca26"
             ],
             [
              1,
              "#f0f921"
             ]
            ],
            "type": "histogram2dcontour"
           }
          ],
          "mesh3d": [
           {
            "colorbar": {
             "outlinewidth": 0,
             "ticks": ""
            },
            "type": "mesh3d"
           }
          ],
          "parcoords": [
           {
            "line": {
             "colorbar": {
              "outlinewidth": 0,
              "ticks": ""
             }
            },
            "type": "parcoords"
           }
          ],
          "pie": [
           {
            "automargin": true,
            "type": "pie"
           }
          ],
          "scatter": [
           {
            "marker": {
             "colorbar": {
              "outlinewidth": 0,
              "ticks": ""
             }
            },
            "type": "scatter"
           }
          ],
          "scatter3d": [
           {
            "line": {
             "colorbar": {
              "outlinewidth": 0,
              "ticks": ""
             }
            },
            "marker": {
             "colorbar": {
              "outlinewidth": 0,
              "ticks": ""
             }
            },
            "type": "scatter3d"
           }
          ],
          "scattercarpet": [
           {
            "marker": {
             "colorbar": {
              "outlinewidth": 0,
              "ticks": ""
             }
            },
            "type": "scattercarpet"
           }
          ],
          "scattergeo": [
           {
            "marker": {
             "colorbar": {
              "outlinewidth": 0,
              "ticks": ""
             }
            },
            "type": "scattergeo"
           }
          ],
          "scattergl": [
           {
            "marker": {
             "colorbar": {
              "outlinewidth": 0,
              "ticks": ""
             }
            },
            "type": "scattergl"
           }
          ],
          "scattermapbox": [
           {
            "marker": {
             "colorbar": {
              "outlinewidth": 0,
              "ticks": ""
             }
            },
            "type": "scattermapbox"
           }
          ],
          "scatterpolar": [
           {
            "marker": {
             "colorbar": {
              "outlinewidth": 0,
              "ticks": ""
             }
            },
            "type": "scatterpolar"
           }
          ],
          "scatterpolargl": [
           {
            "marker": {
             "colorbar": {
              "outlinewidth": 0,
              "ticks": ""
             }
            },
            "type": "scatterpolargl"
           }
          ],
          "scatterternary": [
           {
            "marker": {
             "colorbar": {
              "outlinewidth": 0,
              "ticks": ""
             }
            },
            "type": "scatterternary"
           }
          ],
          "surface": [
           {
            "colorbar": {
             "outlinewidth": 0,
             "ticks": ""
            },
            "colorscale": [
             [
              0,
              "#0d0887"
             ],
             [
              0.1111111111111111,
              "#46039f"
             ],
             [
              0.2222222222222222,
              "#7201a8"
             ],
             [
              0.3333333333333333,
              "#9c179e"
             ],
             [
              0.4444444444444444,
              "#bd3786"
             ],
             [
              0.5555555555555556,
              "#d8576b"
             ],
             [
              0.6666666666666666,
              "#ed7953"
             ],
             [
              0.7777777777777778,
              "#fb9f3a"
             ],
             [
              0.8888888888888888,
              "#fdca26"
             ],
             [
              1,
              "#f0f921"
             ]
            ],
            "type": "surface"
           }
          ],
          "table": [
           {
            "cells": {
             "fill": {
              "color": "#EBF0F8"
             },
             "line": {
              "color": "white"
             }
            },
            "header": {
             "fill": {
              "color": "#C8D4E3"
             },
             "line": {
              "color": "white"
             }
            },
            "type": "table"
           }
          ]
         },
         "layout": {
          "annotationdefaults": {
           "arrowcolor": "#2a3f5f",
           "arrowhead": 0,
           "arrowwidth": 1
          },
          "coloraxis": {
           "colorbar": {
            "outlinewidth": 0,
            "ticks": ""
           }
          },
          "colorscale": {
           "diverging": [
            [
             0,
             "#8e0152"
            ],
            [
             0.1,
             "#c51b7d"
            ],
            [
             0.2,
             "#de77ae"
            ],
            [
             0.3,
             "#f1b6da"
            ],
            [
             0.4,
             "#fde0ef"
            ],
            [
             0.5,
             "#f7f7f7"
            ],
            [
             0.6,
             "#e6f5d0"
            ],
            [
             0.7,
             "#b8e186"
            ],
            [
             0.8,
             "#7fbc41"
            ],
            [
             0.9,
             "#4d9221"
            ],
            [
             1,
             "#276419"
            ]
           ],
           "sequential": [
            [
             0,
             "#0d0887"
            ],
            [
             0.1111111111111111,
             "#46039f"
            ],
            [
             0.2222222222222222,
             "#7201a8"
            ],
            [
             0.3333333333333333,
             "#9c179e"
            ],
            [
             0.4444444444444444,
             "#bd3786"
            ],
            [
             0.5555555555555556,
             "#d8576b"
            ],
            [
             0.6666666666666666,
             "#ed7953"
            ],
            [
             0.7777777777777778,
             "#fb9f3a"
            ],
            [
             0.8888888888888888,
             "#fdca26"
            ],
            [
             1,
             "#f0f921"
            ]
           ],
           "sequentialminus": [
            [
             0,
             "#0d0887"
            ],
            [
             0.1111111111111111,
             "#46039f"
            ],
            [
             0.2222222222222222,
             "#7201a8"
            ],
            [
             0.3333333333333333,
             "#9c179e"
            ],
            [
             0.4444444444444444,
             "#bd3786"
            ],
            [
             0.5555555555555556,
             "#d8576b"
            ],
            [
             0.6666666666666666,
             "#ed7953"
            ],
            [
             0.7777777777777778,
             "#fb9f3a"
            ],
            [
             0.8888888888888888,
             "#fdca26"
            ],
            [
             1,
             "#f0f921"
            ]
           ]
          },
          "colorway": [
           "#636efa",
           "#EF553B",
           "#00cc96",
           "#ab63fa",
           "#FFA15A",
           "#19d3f3",
           "#FF6692",
           "#B6E880",
           "#FF97FF",
           "#FECB52"
          ],
          "font": {
           "color": "#2a3f5f"
          },
          "geo": {
           "bgcolor": "white",
           "lakecolor": "white",
           "landcolor": "#E5ECF6",
           "showlakes": true,
           "showland": true,
           "subunitcolor": "white"
          },
          "hoverlabel": {
           "align": "left"
          },
          "hovermode": "closest",
          "mapbox": {
           "style": "light"
          },
          "paper_bgcolor": "white",
          "plot_bgcolor": "#E5ECF6",
          "polar": {
           "angularaxis": {
            "gridcolor": "white",
            "linecolor": "white",
            "ticks": ""
           },
           "bgcolor": "#E5ECF6",
           "radialaxis": {
            "gridcolor": "white",
            "linecolor": "white",
            "ticks": ""
           }
          },
          "scene": {
           "xaxis": {
            "backgroundcolor": "#E5ECF6",
            "gridcolor": "white",
            "gridwidth": 2,
            "linecolor": "white",
            "showbackground": true,
            "ticks": "",
            "zerolinecolor": "white"
           },
           "yaxis": {
            "backgroundcolor": "#E5ECF6",
            "gridcolor": "white",
            "gridwidth": 2,
            "linecolor": "white",
            "showbackground": true,
            "ticks": "",
            "zerolinecolor": "white"
           },
           "zaxis": {
            "backgroundcolor": "#E5ECF6",
            "gridcolor": "white",
            "gridwidth": 2,
            "linecolor": "white",
            "showbackground": true,
            "ticks": "",
            "zerolinecolor": "white"
           }
          },
          "shapedefaults": {
           "line": {
            "color": "#2a3f5f"
           }
          },
          "ternary": {
           "aaxis": {
            "gridcolor": "white",
            "linecolor": "white",
            "ticks": ""
           },
           "baxis": {
            "gridcolor": "white",
            "linecolor": "white",
            "ticks": ""
           },
           "bgcolor": "#E5ECF6",
           "caxis": {
            "gridcolor": "white",
            "linecolor": "white",
            "ticks": ""
           }
          },
          "title": {
           "x": 0.05
          },
          "xaxis": {
           "automargin": true,
           "gridcolor": "white",
           "linecolor": "white",
           "ticks": "",
           "title": {
            "standoff": 15
           },
           "zerolinecolor": "white",
           "zerolinewidth": 2
          },
          "yaxis": {
           "automargin": true,
           "gridcolor": "white",
           "linecolor": "white",
           "ticks": "",
           "title": {
            "standoff": 15
           },
           "zerolinecolor": "white",
           "zerolinewidth": 2
          }
         }
        },
        "title": {
         "text": "Kp indices start from year 2011<br>Orbit file:DAED_ORB_Lifetime_LLA_MLT_MLat_RAAN00_010s.csv<br>Results file:DAED_ORB_Lifetime_LLA_MLT_MLat_RAAN00_010s_Kp2011.CoverageResults.txt<br><b>Magnetic Latitudes from 70&#176; to 80&#176;</b><br>"
        },
        "width": 1100,
        "xaxis": {
         "range": [
          0,
          308
         ],
         "showgrid": false,
         "tickmode": "array",
         "ticktext": [
          "Kp 0-2<br>10-14",
          "Kp 2-4<br>10-14",
          "Kp 4-9<br>10-14"
         ],
         "tickvals": [
          60,
          150,
          240
         ],
         "title": {
          "text": "Kp index range<br>Magnetic Local Time range"
         }
        },
        "yaxis": {
         "range": [
          2.1421280356782377,
          2.7069700043360183
         ],
         "tickvals": [
          140,
          185,
          230,
          275,
          320,
          365,
          410,
          455,
          500,
          260,
          380
         ],
         "title": {
          "text": "Altitude (km)"
         },
         "type": "log"
        }
       }
      },
      "text/html": [
       "<div>\n",
       "        \n",
       "        \n",
       "            <div id=\"fe91d6ad-41a4-49d1-8e60-31e12d51c5dc\" class=\"plotly-graph-div\" style=\"height:1640px; width:1100px;\"></div>\n",
       "            <script type=\"text/javascript\">\n",
       "                require([\"plotly\"], function(Plotly) {\n",
       "                    window.PLOTLYENV=window.PLOTLYENV || {};\n",
       "                    \n",
       "                if (document.getElementById(\"fe91d6ad-41a4-49d1-8e60-31e12d51c5dc\")) {\n",
       "                    Plotly.newPlot(\n",
       "                        'fe91d6ad-41a4-49d1-8e60-31e12d51c5dc',\n",
       "                        [{\"mode\": \"text\", \"text\": [\"CF_L1<br>343 / 50\"], \"type\": \"scatter\", \"x\": [60.0], \"y\": [162.5]}, {\"mode\": \"text\", \"text\": [\"CF_L2<br>152 / 50\"], \"type\": \"scatter\", \"x\": [60.0], \"y\": [207.5]}, {\"mode\": \"text\", \"text\": [\"CF_L3<br>128 / 50\"], \"type\": \"scatter\", \"x\": [60.0], \"y\": [252.5]}, {\"mode\": \"text\", \"text\": [\"CF_L4<br>101 / 50\"], \"type\": \"scatter\", \"x\": [60.0], \"y\": [297.5]}, {\"mode\": \"text\", \"text\": [\"CF_L5<br> 94 / 50\"], \"type\": \"scatter\", \"x\": [60.0], \"y\": [342.5]}, {\"mode\": \"text\", \"text\": [\"CF_L6<br> 90 / 50\"], \"type\": \"scatter\", \"x\": [60.0], \"y\": [387.5]}, {\"mode\": \"text\", \"text\": [\"CF_L7<br> 96 / 50\"], \"type\": \"scatter\", \"x\": [60.0], \"y\": [432.5]}, {\"mode\": \"text\", \"text\": [\"CF_L8<br>100 / 50\"], \"type\": \"scatter\", \"x\": [60.0], \"y\": [477.5]}, {\"mode\": \"text\", \"text\": [\"CF_M1<br>130 / 30\"], \"type\": \"scatter\", \"x\": [150.0], \"y\": [185.0]}, {\"mode\": \"text\", \"text\": [\"CF_M2<br> 56 / 30\"], \"type\": \"scatter\", \"x\": [150.0], \"y\": [275.0]}, {\"mode\": \"text\", \"text\": [\"CF_M3<br> 61 / 30\"], \"type\": \"scatter\", \"x\": [150.0], \"y\": [365.0]}, {\"mode\": \"text\", \"text\": [\"CF_M4<br> 31 / 30\"], \"type\": \"scatter\", \"x\": [150.0], \"y\": [455.0]}, {\"mode\": \"text\", \"text\": [\"CF_H1<br> 11 / 20\"], \"type\": \"scatter\", \"x\": [240.0], \"y\": [200.0]}, {\"mode\": \"text\", \"text\": [\"CF_H2<br>  8 / 20\"], \"type\": \"scatter\", \"x\": [240.0], \"y\": [320.0]}, {\"mode\": \"text\", \"text\": [\"CF_H3<br>  4 / 20\"], \"type\": \"scatter\", \"x\": [240.0], \"y\": [440.0]}, {\"marker\": {\"color\": [0, 100], \"colorbar\": {\"ticktext\": [\"empty\", \"full\"], \"tickvals\": [0, 100]}, \"colorscale\": [[0.0, \"rgb(247,251,255)\"], [0.125, \"rgb(222,235,247)\"], [0.25, \"rgb(198,219,239)\"], [0.375, \"rgb(158,202,225)\"], [0.5, \"rgb(107,174,214)\"], [0.625, \"rgb(66,146,198)\"], [0.75, \"rgb(33,113,181)\"], [0.875, \"rgb(8,81,156)\"], [1.0, \"rgb(8,48,107)\"]]}, \"mode\": \"markers\", \"opacity\": 0, \"type\": \"scatter\", \"x\": [0, 0], \"y\": [0, 0]}],\n",
       "                        {\"colorscale\": {\"sequential\": [[0.0, \"rgb(247,251,255)\"], [0.125, \"rgb(222,235,247)\"], [0.25, \"rgb(198,219,239)\"], [0.375, \"rgb(158,202,225)\"], [0.5, \"rgb(107,174,214)\"], [0.625, \"rgb(66,146,198)\"], [0.75, \"rgb(33,113,181)\"], [0.875, \"rgb(8,81,156)\"], [1.0, \"rgb(8,48,107)\"]]}, \"height\": 1640, \"margin\": {\"b\": 150, \"t\": 150}, \"shapes\": [{\"fillcolor\": \"rgba(0.03137254901960784, 0.18823529411764706, 0.4196078431372549, 1.0)\", \"line\": {\"color\": \"RoyalBlue\", \"width\": 3}, \"opacity\": 0.8, \"type\": \"rect\", \"x0\": 20, \"x1\": 100, \"xref\": \"x\", \"y0\": 140, \"y1\": 185, \"yref\": \"y\"}, {\"fillcolor\": \"rgba(0.03137254901960784, 0.18823529411764706, 0.4196078431372549, 1.0)\", \"line\": {\"color\": \"RoyalBlue\", \"width\": 3}, \"opacity\": 0.8, \"type\": \"rect\", \"x0\": 20, \"x1\": 100, \"xref\": \"x\", \"y0\": 185, \"y1\": 230, \"yref\": \"y\"}, {\"fillcolor\": \"rgba(0.03137254901960784, 0.18823529411764706, 0.4196078431372549, 1.0)\", \"line\": {\"color\": \"RoyalBlue\", \"width\": 3}, \"opacity\": 0.8, \"type\": \"rect\", \"x0\": 20, \"x1\": 100, \"xref\": \"x\", \"y0\": 230, \"y1\": 275, \"yref\": \"y\"}, {\"fillcolor\": \"rgba(0.03137254901960784, 0.18823529411764706, 0.4196078431372549, 1.0)\", \"line\": {\"color\": \"RoyalBlue\", \"width\": 3}, \"opacity\": 0.8, \"type\": \"rect\", \"x0\": 20, \"x1\": 100, \"xref\": \"x\", \"y0\": 275, \"y1\": 320, \"yref\": \"y\"}, {\"fillcolor\": \"rgba(0.03137254901960784, 0.18823529411764706, 0.4196078431372549, 1.0)\", \"line\": {\"color\": \"RoyalBlue\", \"width\": 3}, \"opacity\": 0.8, \"type\": \"rect\", \"x0\": 20, \"x1\": 100, \"xref\": \"x\", \"y0\": 320, \"y1\": 365, \"yref\": \"y\"}, {\"fillcolor\": \"rgba(0.03137254901960784, 0.18823529411764706, 0.4196078431372549, 1.0)\", \"line\": {\"color\": \"RoyalBlue\", \"width\": 3}, \"opacity\": 0.8, \"type\": \"rect\", \"x0\": 20, \"x1\": 100, \"xref\": \"x\", \"y0\": 365, \"y1\": 410, \"yref\": \"y\"}, {\"fillcolor\": \"rgba(0.03137254901960784, 0.18823529411764706, 0.4196078431372549, 1.0)\", \"line\": {\"color\": \"RoyalBlue\", \"width\": 3}, \"opacity\": 0.8, \"type\": \"rect\", \"x0\": 20, \"x1\": 100, \"xref\": \"x\", \"y0\": 410, \"y1\": 455, \"yref\": \"y\"}, {\"fillcolor\": \"rgba(0.03137254901960784, 0.18823529411764706, 0.4196078431372549, 1.0)\", \"line\": {\"color\": \"RoyalBlue\", \"width\": 3}, \"opacity\": 0.8, \"type\": \"rect\", \"x0\": 20, \"x1\": 100, \"xref\": \"x\", \"y0\": 455, \"y1\": 500, \"yref\": \"y\"}, {\"fillcolor\": \"rgba(0.03137254901960784, 0.18823529411764706, 0.4196078431372549, 1.0)\", \"line\": {\"color\": \"RoyalBlue\", \"width\": 3}, \"opacity\": 0.8, \"type\": \"rect\", \"x0\": 110, \"x1\": 190, \"xref\": \"x\", \"y0\": 140, \"y1\": 230, \"yref\": \"y\"}, {\"fillcolor\": \"rgba(0.03137254901960784, 0.18823529411764706, 0.4196078431372549, 1.0)\", \"line\": {\"color\": \"RoyalBlue\", \"width\": 3}, \"opacity\": 0.8, \"type\": \"rect\", \"x0\": 110, \"x1\": 190, \"xref\": \"x\", \"y0\": 230, \"y1\": 320, \"yref\": \"y\"}, {\"fillcolor\": \"rgba(0.03137254901960784, 0.18823529411764706, 0.4196078431372549, 1.0)\", \"line\": {\"color\": \"RoyalBlue\", \"width\": 3}, \"opacity\": 0.8, \"type\": \"rect\", \"x0\": 110, \"x1\": 190, \"xref\": \"x\", \"y0\": 320, \"y1\": 410, \"yref\": \"y\"}, {\"fillcolor\": \"rgba(0.03137254901960784, 0.18823529411764706, 0.4196078431372549, 1.0)\", \"line\": {\"color\": \"RoyalBlue\", \"width\": 3}, \"opacity\": 0.8, \"type\": \"rect\", \"x0\": 110, \"x1\": 190, \"xref\": \"x\", \"y0\": 410, \"y1\": 500, \"yref\": \"y\"}, {\"fillcolor\": \"rgba(0.366643598615917, 0.6461822376009227, 0.8185467128027681, 1.0)\", \"line\": {\"color\": \"RoyalBlue\", \"width\": 3}, \"opacity\": 0.8, \"type\": \"rect\", \"x0\": 200, \"x1\": 280, \"xref\": \"x\", \"y0\": 140, \"y1\": 260, \"yref\": \"y\"}, {\"fillcolor\": \"rgba(0.5796078431372549, 0.7701960784313725, 0.8737254901960784, 1.0)\", \"line\": {\"color\": \"RoyalBlue\", \"width\": 3}, \"opacity\": 0.8, \"type\": \"rect\", \"x0\": 200, \"x1\": 280, \"xref\": \"x\", \"y0\": 260, \"y1\": 380, \"yref\": \"y\"}, {\"fillcolor\": \"rgba(0.8200230680507498, 0.8878585159554018, 0.9517723952326028, 1.0)\", \"line\": {\"color\": \"RoyalBlue\", \"width\": 3}, \"opacity\": 0.8, \"type\": \"rect\", \"x0\": 200, \"x1\": 280, \"xref\": \"x\", \"y0\": 380, \"y1\": 500, \"yref\": \"y\"}], \"showlegend\": false, \"template\": {\"data\": {\"bar\": [{\"error_x\": {\"color\": \"#2a3f5f\"}, \"error_y\": {\"color\": \"#2a3f5f\"}, \"marker\": {\"line\": {\"color\": \"#E5ECF6\", \"width\": 0.5}}, \"type\": \"bar\"}], \"barpolar\": [{\"marker\": {\"line\": {\"color\": \"#E5ECF6\", \"width\": 0.5}}, \"type\": \"barpolar\"}], \"carpet\": [{\"aaxis\": {\"endlinecolor\": \"#2a3f5f\", \"gridcolor\": \"white\", \"linecolor\": \"white\", \"minorgridcolor\": \"white\", \"startlinecolor\": \"#2a3f5f\"}, \"baxis\": {\"endlinecolor\": \"#2a3f5f\", \"gridcolor\": \"white\", \"linecolor\": \"white\", \"minorgridcolor\": \"white\", \"startlinecolor\": \"#2a3f5f\"}, \"type\": \"carpet\"}], \"choropleth\": [{\"colorbar\": {\"outlinewidth\": 0, \"ticks\": \"\"}, \"type\": \"choropleth\"}], \"contour\": [{\"colorbar\": {\"outlinewidth\": 0, \"ticks\": \"\"}, \"colorscale\": [[0.0, \"#0d0887\"], [0.1111111111111111, \"#46039f\"], [0.2222222222222222, \"#7201a8\"], [0.3333333333333333, \"#9c179e\"], [0.4444444444444444, \"#bd3786\"], [0.5555555555555556, \"#d8576b\"], [0.6666666666666666, \"#ed7953\"], [0.7777777777777778, \"#fb9f3a\"], [0.8888888888888888, \"#fdca26\"], [1.0, \"#f0f921\"]], \"type\": \"contour\"}], \"contourcarpet\": [{\"colorbar\": {\"outlinewidth\": 0, \"ticks\": \"\"}, \"type\": \"contourcarpet\"}], \"heatmap\": [{\"colorbar\": {\"outlinewidth\": 0, \"ticks\": \"\"}, \"colorscale\": [[0.0, \"#0d0887\"], [0.1111111111111111, \"#46039f\"], [0.2222222222222222, \"#7201a8\"], [0.3333333333333333, \"#9c179e\"], [0.4444444444444444, \"#bd3786\"], [0.5555555555555556, \"#d8576b\"], [0.6666666666666666, \"#ed7953\"], [0.7777777777777778, \"#fb9f3a\"], [0.8888888888888888, \"#fdca26\"], [1.0, \"#f0f921\"]], \"type\": \"heatmap\"}], \"heatmapgl\": [{\"colorbar\": {\"outlinewidth\": 0, \"ticks\": \"\"}, \"colorscale\": [[0.0, \"#0d0887\"], [0.1111111111111111, \"#46039f\"], [0.2222222222222222, \"#7201a8\"], [0.3333333333333333, \"#9c179e\"], [0.4444444444444444, \"#bd3786\"], [0.5555555555555556, \"#d8576b\"], [0.6666666666666666, \"#ed7953\"], [0.7777777777777778, \"#fb9f3a\"], [0.8888888888888888, \"#fdca26\"], [1.0, \"#f0f921\"]], \"type\": \"heatmapgl\"}], \"histogram\": [{\"marker\": {\"colorbar\": {\"outlinewidth\": 0, \"ticks\": \"\"}}, \"type\": \"histogram\"}], \"histogram2d\": [{\"colorbar\": {\"outlinewidth\": 0, \"ticks\": \"\"}, \"colorscale\": [[0.0, \"#0d0887\"], [0.1111111111111111, \"#46039f\"], [0.2222222222222222, \"#7201a8\"], [0.3333333333333333, \"#9c179e\"], [0.4444444444444444, \"#bd3786\"], [0.5555555555555556, \"#d8576b\"], [0.6666666666666666, \"#ed7953\"], [0.7777777777777778, \"#fb9f3a\"], [0.8888888888888888, \"#fdca26\"], [1.0, \"#f0f921\"]], \"type\": \"histogram2d\"}], \"histogram2dcontour\": [{\"colorbar\": {\"outlinewidth\": 0, \"ticks\": \"\"}, \"colorscale\": [[0.0, \"#0d0887\"], [0.1111111111111111, \"#46039f\"], [0.2222222222222222, \"#7201a8\"], [0.3333333333333333, \"#9c179e\"], [0.4444444444444444, \"#bd3786\"], [0.5555555555555556, \"#d8576b\"], [0.6666666666666666, \"#ed7953\"], [0.7777777777777778, \"#fb9f3a\"], [0.8888888888888888, \"#fdca26\"], [1.0, \"#f0f921\"]], \"type\": \"histogram2dcontour\"}], \"mesh3d\": [{\"colorbar\": {\"outlinewidth\": 0, \"ticks\": \"\"}, \"type\": \"mesh3d\"}], \"parcoords\": [{\"line\": {\"colorbar\": {\"outlinewidth\": 0, \"ticks\": \"\"}}, \"type\": \"parcoords\"}], \"pie\": [{\"automargin\": true, \"type\": \"pie\"}], \"scatter\": [{\"marker\": {\"colorbar\": {\"outlinewidth\": 0, \"ticks\": \"\"}}, \"type\": \"scatter\"}], \"scatter3d\": [{\"line\": {\"colorbar\": {\"outlinewidth\": 0, \"ticks\": \"\"}}, \"marker\": {\"colorbar\": {\"outlinewidth\": 0, \"ticks\": \"\"}}, \"type\": \"scatter3d\"}], \"scattercarpet\": [{\"marker\": {\"colorbar\": {\"outlinewidth\": 0, \"ticks\": \"\"}}, \"type\": \"scattercarpet\"}], \"scattergeo\": [{\"marker\": {\"colorbar\": {\"outlinewidth\": 0, \"ticks\": \"\"}}, \"type\": \"scattergeo\"}], \"scattergl\": [{\"marker\": {\"colorbar\": {\"outlinewidth\": 0, \"ticks\": \"\"}}, \"type\": \"scattergl\"}], \"scattermapbox\": [{\"marker\": {\"colorbar\": {\"outlinewidth\": 0, \"ticks\": \"\"}}, \"type\": \"scattermapbox\"}], \"scatterpolar\": [{\"marker\": {\"colorbar\": {\"outlinewidth\": 0, \"ticks\": \"\"}}, \"type\": \"scatterpolar\"}], \"scatterpolargl\": [{\"marker\": {\"colorbar\": {\"outlinewidth\": 0, \"ticks\": \"\"}}, \"type\": \"scatterpolargl\"}], \"scatterternary\": [{\"marker\": {\"colorbar\": {\"outlinewidth\": 0, \"ticks\": \"\"}}, \"type\": \"scatterternary\"}], \"surface\": [{\"colorbar\": {\"outlinewidth\": 0, \"ticks\": \"\"}, \"colorscale\": [[0.0, \"#0d0887\"], [0.1111111111111111, \"#46039f\"], [0.2222222222222222, \"#7201a8\"], [0.3333333333333333, \"#9c179e\"], [0.4444444444444444, \"#bd3786\"], [0.5555555555555556, \"#d8576b\"], [0.6666666666666666, \"#ed7953\"], [0.7777777777777778, \"#fb9f3a\"], [0.8888888888888888, \"#fdca26\"], [1.0, \"#f0f921\"]], \"type\": \"surface\"}], \"table\": [{\"cells\": {\"fill\": {\"color\": \"#EBF0F8\"}, \"line\": {\"color\": \"white\"}}, \"header\": {\"fill\": {\"color\": \"#C8D4E3\"}, \"line\": {\"color\": \"white\"}}, \"type\": \"table\"}]}, \"layout\": {\"annotationdefaults\": {\"arrowcolor\": \"#2a3f5f\", \"arrowhead\": 0, \"arrowwidth\": 1}, \"coloraxis\": {\"colorbar\": {\"outlinewidth\": 0, \"ticks\": \"\"}}, \"colorscale\": {\"diverging\": [[0, \"#8e0152\"], [0.1, \"#c51b7d\"], [0.2, \"#de77ae\"], [0.3, \"#f1b6da\"], [0.4, \"#fde0ef\"], [0.5, \"#f7f7f7\"], [0.6, \"#e6f5d0\"], [0.7, \"#b8e186\"], [0.8, \"#7fbc41\"], [0.9, \"#4d9221\"], [1, \"#276419\"]], \"sequential\": [[0.0, \"#0d0887\"], [0.1111111111111111, \"#46039f\"], [0.2222222222222222, \"#7201a8\"], [0.3333333333333333, \"#9c179e\"], [0.4444444444444444, \"#bd3786\"], [0.5555555555555556, \"#d8576b\"], [0.6666666666666666, \"#ed7953\"], [0.7777777777777778, \"#fb9f3a\"], [0.8888888888888888, \"#fdca26\"], [1.0, \"#f0f921\"]], \"sequentialminus\": [[0.0, \"#0d0887\"], [0.1111111111111111, \"#46039f\"], [0.2222222222222222, \"#7201a8\"], [0.3333333333333333, \"#9c179e\"], [0.4444444444444444, \"#bd3786\"], [0.5555555555555556, \"#d8576b\"], [0.6666666666666666, \"#ed7953\"], [0.7777777777777778, \"#fb9f3a\"], [0.8888888888888888, \"#fdca26\"], [1.0, \"#f0f921\"]]}, \"colorway\": [\"#636efa\", \"#EF553B\", \"#00cc96\", \"#ab63fa\", \"#FFA15A\", \"#19d3f3\", \"#FF6692\", \"#B6E880\", \"#FF97FF\", \"#FECB52\"], \"font\": {\"color\": \"#2a3f5f\"}, \"geo\": {\"bgcolor\": \"white\", \"lakecolor\": \"white\", \"landcolor\": \"#E5ECF6\", \"showlakes\": true, \"showland\": true, \"subunitcolor\": \"white\"}, \"hoverlabel\": {\"align\": \"left\"}, \"hovermode\": \"closest\", \"mapbox\": {\"style\": \"light\"}, \"paper_bgcolor\": \"white\", \"plot_bgcolor\": \"#E5ECF6\", \"polar\": {\"angularaxis\": {\"gridcolor\": \"white\", \"linecolor\": \"white\", \"ticks\": \"\"}, \"bgcolor\": \"#E5ECF6\", \"radialaxis\": {\"gridcolor\": \"white\", \"linecolor\": \"white\", \"ticks\": \"\"}}, \"scene\": {\"xaxis\": {\"backgroundcolor\": \"#E5ECF6\", \"gridcolor\": \"white\", \"gridwidth\": 2, \"linecolor\": \"white\", \"showbackground\": true, \"ticks\": \"\", \"zerolinecolor\": \"white\"}, \"yaxis\": {\"backgroundcolor\": \"#E5ECF6\", \"gridcolor\": \"white\", \"gridwidth\": 2, \"linecolor\": \"white\", \"showbackground\": true, \"ticks\": \"\", \"zerolinecolor\": \"white\"}, \"zaxis\": {\"backgroundcolor\": \"#E5ECF6\", \"gridcolor\": \"white\", \"gridwidth\": 2, \"linecolor\": \"white\", \"showbackground\": true, \"ticks\": \"\", \"zerolinecolor\": \"white\"}}, \"shapedefaults\": {\"line\": {\"color\": \"#2a3f5f\"}}, \"ternary\": {\"aaxis\": {\"gridcolor\": \"white\", \"linecolor\": \"white\", \"ticks\": \"\"}, \"baxis\": {\"gridcolor\": \"white\", \"linecolor\": \"white\", \"ticks\": \"\"}, \"bgcolor\": \"#E5ECF6\", \"caxis\": {\"gridcolor\": \"white\", \"linecolor\": \"white\", \"ticks\": \"\"}}, \"title\": {\"x\": 0.05}, \"xaxis\": {\"automargin\": true, \"gridcolor\": \"white\", \"linecolor\": \"white\", \"ticks\": \"\", \"title\": {\"standoff\": 15}, \"zerolinecolor\": \"white\", \"zerolinewidth\": 2}, \"yaxis\": {\"automargin\": true, \"gridcolor\": \"white\", \"linecolor\": \"white\", \"ticks\": \"\", \"title\": {\"standoff\": 15}, \"zerolinecolor\": \"white\", \"zerolinewidth\": 2}}}, \"title\": {\"text\": \"Kp indices start from year 2011<br>Orbit file:DAED_ORB_Lifetime_LLA_MLT_MLat_RAAN00_010s.csv<br>Results file:DAED_ORB_Lifetime_LLA_MLT_MLat_RAAN00_010s_Kp2011.CoverageResults.txt<br><b>Magnetic Latitudes from 70&#176; to 80&#176;</b><br>\"}, \"width\": 1100, \"xaxis\": {\"range\": [0, 308], \"showgrid\": false, \"tickmode\": \"array\", \"ticktext\": [\"Kp 0-2<br>10-14\", \"Kp 2-4<br>10-14\", \"Kp 4-9<br>10-14\"], \"tickvals\": [60.0, 150.0, 240.0], \"title\": {\"text\": \"Kp index range<br>Magnetic Local Time range\"}}, \"yaxis\": {\"range\": [2.1421280356782377, 2.7069700043360183], \"tickvals\": [140, 185, 230, 275, 320, 365, 410, 455, 500, 260, 380], \"title\": {\"text\": \"Altitude (km)\"}, \"type\": \"log\"}},\n",
       "                        {\"responsive\": true}\n",
       "                    ).then(function(){\n",
       "                            \n",
       "var gd = document.getElementById('fe91d6ad-41a4-49d1-8e60-31e12d51c5dc');\n",
       "var x = new MutationObserver(function (mutations, observer) {{\n",
       "        var display = window.getComputedStyle(gd).display;\n",
       "        if (!display || display === 'none') {{\n",
       "            console.log([gd, 'removed!']);\n",
       "            Plotly.purge(gd);\n",
       "            observer.disconnect();\n",
       "        }}\n",
       "}});\n",
       "\n",
       "// Listen for the removal of the full notebook cells\n",
       "var notebookContainer = gd.closest('#notebook-container');\n",
       "if (notebookContainer) {{\n",
       "    x.observe(notebookContainer, {childList: true});\n",
       "}}\n",
       "\n",
       "// Listen for the clearing of the current output cell\n",
       "var outputEl = gd.closest('.output');\n",
       "if (outputEl) {{\n",
       "    x.observe(outputEl, {childList: true});\n",
       "}}\n",
       "\n",
       "                        })\n",
       "                };\n",
       "                });\n",
       "            </script>\n",
       "        </div>"
      ]
     },
     "metadata": {},
     "output_type": "display_data"
    },
    {
     "data": {
      "text/html": [
       "        <script type=\"text/javascript\">\n",
       "        window.PlotlyConfig = {MathJaxConfig: 'local'};\n",
       "        if (window.MathJax) {MathJax.Hub.Config({SVG: {font: \"STIX-Web\"}});}\n",
       "        if (typeof require !== 'undefined') {\n",
       "        require.undef(\"plotly\");\n",
       "        requirejs.config({\n",
       "            paths: {\n",
       "                'plotly': ['https://cdn.plot.ly/plotly-latest.min']\n",
       "            }\n",
       "        });\n",
       "        require(['plotly'], function(Plotly) {\n",
       "            window._Plotly = Plotly;\n",
       "        });\n",
       "        }\n",
       "        </script>\n",
       "        "
      ]
     },
     "metadata": {},
     "output_type": "display_data"
    },
    {
     "data": {
      "application/vnd.plotly.v1+json": {
       "config": {
        "linkText": "Export to plot.ly",
        "plotlyServerURL": "https://plot.ly",
        "showLink": false
       },
       "data": [
        {
         "mode": "text",
         "text": [
          "PCF_L1<br>7330 / 50"
         ],
         "type": "scatter",
         "x": [
          60
         ],
         "y": [
          162.5
         ]
        },
        {
         "mode": "text",
         "text": [
          "PCF_L2<br>4292 / 50"
         ],
         "type": "scatter",
         "x": [
          60
         ],
         "y": [
          207.5
         ]
        },
        {
         "mode": "text",
         "text": [
          "PCF_L3<br>3110 / 50"
         ],
         "type": "scatter",
         "x": [
          60
         ],
         "y": [
          252.5
         ]
        },
        {
         "mode": "text",
         "text": [
          "PCF_L4<br>2638 / 50"
         ],
         "type": "scatter",
         "x": [
          60
         ],
         "y": [
          297.5
         ]
        },
        {
         "mode": "text",
         "text": [
          "PCF_L5<br>2309 / 50"
         ],
         "type": "scatter",
         "x": [
          60
         ],
         "y": [
          342.5
         ]
        },
        {
         "mode": "text",
         "text": [
          "PCF_L6<br>2082 / 50"
         ],
         "type": "scatter",
         "x": [
          60
         ],
         "y": [
          387.5
         ]
        },
        {
         "mode": "text",
         "text": [
          "PCF_L7<br>1918 / 50"
         ],
         "type": "scatter",
         "x": [
          60
         ],
         "y": [
          432.5
         ]
        },
        {
         "mode": "text",
         "text": [
          "PCF_L8<br>1786 / 50"
         ],
         "type": "scatter",
         "x": [
          60
         ],
         "y": [
          477.5
         ]
        },
        {
         "mode": "text",
         "text": [
          "PCF_M1<br>3316 / 30"
         ],
         "type": "scatter",
         "x": [
          150
         ],
         "y": [
          185
         ]
        },
        {
         "mode": "text",
         "text": [
          "PCF_M2<br>1921 / 30"
         ],
         "type": "scatter",
         "x": [
          150
         ],
         "y": [
          275
         ]
        },
        {
         "mode": "text",
         "text": [
          "PCF_M3<br>1542 / 30"
         ],
         "type": "scatter",
         "x": [
          150
         ],
         "y": [
          365
         ]
        },
        {
         "mode": "text",
         "text": [
          "PCF_M4<br>1376 / 30"
         ],
         "type": "scatter",
         "x": [
          150
         ],
         "y": [
          455
         ]
        },
        {
         "mode": "text",
         "text": [
          "PCF_H1<br>666 / 20"
         ],
         "type": "scatter",
         "x": [
          240
         ],
         "y": [
          200
         ]
        },
        {
         "mode": "text",
         "text": [
          "PCF_H2<br>459 / 20"
         ],
         "type": "scatter",
         "x": [
          240
         ],
         "y": [
          320
         ]
        },
        {
         "mode": "text",
         "text": [
          "PCF_H3<br>384 / 20"
         ],
         "type": "scatter",
         "x": [
          240
         ],
         "y": [
          440
         ]
        },
        {
         "marker": {
          "color": [
           0,
           100
          ],
          "colorbar": {
           "ticktext": [
            "empty",
            "full"
           ],
           "tickvals": [
            0,
            100
           ]
          },
          "colorscale": [
           [
            0,
            "rgb(247,251,255)"
           ],
           [
            0.125,
            "rgb(222,235,247)"
           ],
           [
            0.25,
            "rgb(198,219,239)"
           ],
           [
            0.375,
            "rgb(158,202,225)"
           ],
           [
            0.5,
            "rgb(107,174,214)"
           ],
           [
            0.625,
            "rgb(66,146,198)"
           ],
           [
            0.75,
            "rgb(33,113,181)"
           ],
           [
            0.875,
            "rgb(8,81,156)"
           ],
           [
            1,
            "rgb(8,48,107)"
           ]
          ]
         },
         "mode": "markers",
         "opacity": 0,
         "type": "scatter",
         "x": [
          0,
          0
         ],
         "y": [
          0,
          0
         ]
        }
       ],
       "layout": {
        "colorscale": {
         "sequential": [
          [
           0,
           "rgb(247,251,255)"
          ],
          [
           0.125,
           "rgb(222,235,247)"
          ],
          [
           0.25,
           "rgb(198,219,239)"
          ],
          [
           0.375,
           "rgb(158,202,225)"
          ],
          [
           0.5,
           "rgb(107,174,214)"
          ],
          [
           0.625,
           "rgb(66,146,198)"
          ],
          [
           0.75,
           "rgb(33,113,181)"
          ],
          [
           0.875,
           "rgb(8,81,156)"
          ],
          [
           1,
           "rgb(8,48,107)"
          ]
         ]
        },
        "height": 1640,
        "margin": {
         "b": 150,
         "t": 150
        },
        "shapes": [
         {
          "fillcolor": "rgba(0.03137254901960784, 0.18823529411764706, 0.4196078431372549, 1.0)",
          "line": {
           "color": "RoyalBlue",
           "width": 3
          },
          "opacity": 0.8,
          "type": "rect",
          "x0": 20,
          "x1": 100,
          "xref": "x",
          "y0": 140,
          "y1": 185,
          "yref": "y"
         },
         {
          "fillcolor": "rgba(0.03137254901960784, 0.18823529411764706, 0.4196078431372549, 1.0)",
          "line": {
           "color": "RoyalBlue",
           "width": 3
          },
          "opacity": 0.8,
          "type": "rect",
          "x0": 20,
          "x1": 100,
          "xref": "x",
          "y0": 185,
          "y1": 230,
          "yref": "y"
         },
         {
          "fillcolor": "rgba(0.03137254901960784, 0.18823529411764706, 0.4196078431372549, 1.0)",
          "line": {
           "color": "RoyalBlue",
           "width": 3
          },
          "opacity": 0.8,
          "type": "rect",
          "x0": 20,
          "x1": 100,
          "xref": "x",
          "y0": 230,
          "y1": 275,
          "yref": "y"
         },
         {
          "fillcolor": "rgba(0.03137254901960784, 0.18823529411764706, 0.4196078431372549, 1.0)",
          "line": {
           "color": "RoyalBlue",
           "width": 3
          },
          "opacity": 0.8,
          "type": "rect",
          "x0": 20,
          "x1": 100,
          "xref": "x",
          "y0": 275,
          "y1": 320,
          "yref": "y"
         },
         {
          "fillcolor": "rgba(0.03137254901960784, 0.18823529411764706, 0.4196078431372549, 1.0)",
          "line": {
           "color": "RoyalBlue",
           "width": 3
          },
          "opacity": 0.8,
          "type": "rect",
          "x0": 20,
          "x1": 100,
          "xref": "x",
          "y0": 320,
          "y1": 365,
          "yref": "y"
         },
         {
          "fillcolor": "rgba(0.03137254901960784, 0.18823529411764706, 0.4196078431372549, 1.0)",
          "line": {
           "color": "RoyalBlue",
           "width": 3
          },
          "opacity": 0.8,
          "type": "rect",
          "x0": 20,
          "x1": 100,
          "xref": "x",
          "y0": 365,
          "y1": 410,
          "yref": "y"
         },
         {
          "fillcolor": "rgba(0.03137254901960784, 0.18823529411764706, 0.4196078431372549, 1.0)",
          "line": {
           "color": "RoyalBlue",
           "width": 3
          },
          "opacity": 0.8,
          "type": "rect",
          "x0": 20,
          "x1": 100,
          "xref": "x",
          "y0": 410,
          "y1": 455,
          "yref": "y"
         },
         {
          "fillcolor": "rgba(0.03137254901960784, 0.18823529411764706, 0.4196078431372549, 1.0)",
          "line": {
           "color": "RoyalBlue",
           "width": 3
          },
          "opacity": 0.8,
          "type": "rect",
          "x0": 20,
          "x1": 100,
          "xref": "x",
          "y0": 455,
          "y1": 500,
          "yref": "y"
         },
         {
          "fillcolor": "rgba(0.03137254901960784, 0.18823529411764706, 0.4196078431372549, 1.0)",
          "line": {
           "color": "RoyalBlue",
           "width": 3
          },
          "opacity": 0.8,
          "type": "rect",
          "x0": 110,
          "x1": 190,
          "xref": "x",
          "y0": 140,
          "y1": 230,
          "yref": "y"
         },
         {
          "fillcolor": "rgba(0.03137254901960784, 0.18823529411764706, 0.4196078431372549, 1.0)",
          "line": {
           "color": "RoyalBlue",
           "width": 3
          },
          "opacity": 0.8,
          "type": "rect",
          "x0": 110,
          "x1": 190,
          "xref": "x",
          "y0": 230,
          "y1": 320,
          "yref": "y"
         },
         {
          "fillcolor": "rgba(0.03137254901960784, 0.18823529411764706, 0.4196078431372549, 1.0)",
          "line": {
           "color": "RoyalBlue",
           "width": 3
          },
          "opacity": 0.8,
          "type": "rect",
          "x0": 110,
          "x1": 190,
          "xref": "x",
          "y0": 320,
          "y1": 410,
          "yref": "y"
         },
         {
          "fillcolor": "rgba(0.03137254901960784, 0.18823529411764706, 0.4196078431372549, 1.0)",
          "line": {
           "color": "RoyalBlue",
           "width": 3
          },
          "opacity": 0.8,
          "type": "rect",
          "x0": 110,
          "x1": 190,
          "xref": "x",
          "y0": 410,
          "y1": 500,
          "yref": "y"
         },
         {
          "fillcolor": "rgba(0.03137254901960784, 0.18823529411764706, 0.4196078431372549, 1.0)",
          "line": {
           "color": "RoyalBlue",
           "width": 3
          },
          "opacity": 0.8,
          "type": "rect",
          "x0": 200,
          "x1": 280,
          "xref": "x",
          "y0": 140,
          "y1": 260,
          "yref": "y"
         },
         {
          "fillcolor": "rgba(0.03137254901960784, 0.18823529411764706, 0.4196078431372549, 1.0)",
          "line": {
           "color": "RoyalBlue",
           "width": 3
          },
          "opacity": 0.8,
          "type": "rect",
          "x0": 200,
          "x1": 280,
          "xref": "x",
          "y0": 260,
          "y1": 380,
          "yref": "y"
         },
         {
          "fillcolor": "rgba(0.03137254901960784, 0.18823529411764706, 0.4196078431372549, 1.0)",
          "line": {
           "color": "RoyalBlue",
           "width": 3
          },
          "opacity": 0.8,
          "type": "rect",
          "x0": 200,
          "x1": 280,
          "xref": "x",
          "y0": 380,
          "y1": 500,
          "yref": "y"
         }
        ],
        "showlegend": false,
        "template": {
         "data": {
          "bar": [
           {
            "error_x": {
             "color": "#2a3f5f"
            },
            "error_y": {
             "color": "#2a3f5f"
            },
            "marker": {
             "line": {
              "color": "#E5ECF6",
              "width": 0.5
             }
            },
            "type": "bar"
           }
          ],
          "barpolar": [
           {
            "marker": {
             "line": {
              "color": "#E5ECF6",
              "width": 0.5
             }
            },
            "type": "barpolar"
           }
          ],
          "carpet": [
           {
            "aaxis": {
             "endlinecolor": "#2a3f5f",
             "gridcolor": "white",
             "linecolor": "white",
             "minorgridcolor": "white",
             "startlinecolor": "#2a3f5f"
            },
            "baxis": {
             "endlinecolor": "#2a3f5f",
             "gridcolor": "white",
             "linecolor": "white",
             "minorgridcolor": "white",
             "startlinecolor": "#2a3f5f"
            },
            "type": "carpet"
           }
          ],
          "choropleth": [
           {
            "colorbar": {
             "outlinewidth": 0,
             "ticks": ""
            },
            "type": "choropleth"
           }
          ],
          "contour": [
           {
            "colorbar": {
             "outlinewidth": 0,
             "ticks": ""
            },
            "colorscale": [
             [
              0,
              "#0d0887"
             ],
             [
              0.1111111111111111,
              "#46039f"
             ],
             [
              0.2222222222222222,
              "#7201a8"
             ],
             [
              0.3333333333333333,
              "#9c179e"
             ],
             [
              0.4444444444444444,
              "#bd3786"
             ],
             [
              0.5555555555555556,
              "#d8576b"
             ],
             [
              0.6666666666666666,
              "#ed7953"
             ],
             [
              0.7777777777777778,
              "#fb9f3a"
             ],
             [
              0.8888888888888888,
              "#fdca26"
             ],
             [
              1,
              "#f0f921"
             ]
            ],
            "type": "contour"
           }
          ],
          "contourcarpet": [
           {
            "colorbar": {
             "outlinewidth": 0,
             "ticks": ""
            },
            "type": "contourcarpet"
           }
          ],
          "heatmap": [
           {
            "colorbar": {
             "outlinewidth": 0,
             "ticks": ""
            },
            "colorscale": [
             [
              0,
              "#0d0887"
             ],
             [
              0.1111111111111111,
              "#46039f"
             ],
             [
              0.2222222222222222,
              "#7201a8"
             ],
             [
              0.3333333333333333,
              "#9c179e"
             ],
             [
              0.4444444444444444,
              "#bd3786"
             ],
             [
              0.5555555555555556,
              "#d8576b"
             ],
             [
              0.6666666666666666,
              "#ed7953"
             ],
             [
              0.7777777777777778,
              "#fb9f3a"
             ],
             [
              0.8888888888888888,
              "#fdca26"
             ],
             [
              1,
              "#f0f921"
             ]
            ],
            "type": "heatmap"
           }
          ],
          "heatmapgl": [
           {
            "colorbar": {
             "outlinewidth": 0,
             "ticks": ""
            },
            "colorscale": [
             [
              0,
              "#0d0887"
             ],
             [
              0.1111111111111111,
              "#46039f"
             ],
             [
              0.2222222222222222,
              "#7201a8"
             ],
             [
              0.3333333333333333,
              "#9c179e"
             ],
             [
              0.4444444444444444,
              "#bd3786"
             ],
             [
              0.5555555555555556,
              "#d8576b"
             ],
             [
              0.6666666666666666,
              "#ed7953"
             ],
             [
              0.7777777777777778,
              "#fb9f3a"
             ],
             [
              0.8888888888888888,
              "#fdca26"
             ],
             [
              1,
              "#f0f921"
             ]
            ],
            "type": "heatmapgl"
           }
          ],
          "histogram": [
           {
            "marker": {
             "colorbar": {
              "outlinewidth": 0,
              "ticks": ""
             }
            },
            "type": "histogram"
           }
          ],
          "histogram2d": [
           {
            "colorbar": {
             "outlinewidth": 0,
             "ticks": ""
            },
            "colorscale": [
             [
              0,
              "#0d0887"
             ],
             [
              0.1111111111111111,
              "#46039f"
             ],
             [
              0.2222222222222222,
              "#7201a8"
             ],
             [
              0.3333333333333333,
              "#9c179e"
             ],
             [
              0.4444444444444444,
              "#bd3786"
             ],
             [
              0.5555555555555556,
              "#d8576b"
             ],
             [
              0.6666666666666666,
              "#ed7953"
             ],
             [
              0.7777777777777778,
              "#fb9f3a"
             ],
             [
              0.8888888888888888,
              "#fdca26"
             ],
             [
              1,
              "#f0f921"
             ]
            ],
            "type": "histogram2d"
           }
          ],
          "histogram2dcontour": [
           {
            "colorbar": {
             "outlinewidth": 0,
             "ticks": ""
            },
            "colorscale": [
             [
              0,
              "#0d0887"
             ],
             [
              0.1111111111111111,
              "#46039f"
             ],
             [
              0.2222222222222222,
              "#7201a8"
             ],
             [
              0.3333333333333333,
              "#9c179e"
             ],
             [
              0.4444444444444444,
              "#bd3786"
             ],
             [
              0.5555555555555556,
              "#d8576b"
             ],
             [
              0.6666666666666666,
              "#ed7953"
             ],
             [
              0.7777777777777778,
              "#fb9f3a"
             ],
             [
              0.8888888888888888,
              "#fdca26"
             ],
             [
              1,
              "#f0f921"
             ]
            ],
            "type": "histogram2dcontour"
           }
          ],
          "mesh3d": [
           {
            "colorbar": {
             "outlinewidth": 0,
             "ticks": ""
            },
            "type": "mesh3d"
           }
          ],
          "parcoords": [
           {
            "line": {
             "colorbar": {
              "outlinewidth": 0,
              "ticks": ""
             }
            },
            "type": "parcoords"
           }
          ],
          "pie": [
           {
            "automargin": true,
            "type": "pie"
           }
          ],
          "scatter": [
           {
            "marker": {
             "colorbar": {
              "outlinewidth": 0,
              "ticks": ""
             }
            },
            "type": "scatter"
           }
          ],
          "scatter3d": [
           {
            "line": {
             "colorbar": {
              "outlinewidth": 0,
              "ticks": ""
             }
            },
            "marker": {
             "colorbar": {
              "outlinewidth": 0,
              "ticks": ""
             }
            },
            "type": "scatter3d"
           }
          ],
          "scattercarpet": [
           {
            "marker": {
             "colorbar": {
              "outlinewidth": 0,
              "ticks": ""
             }
            },
            "type": "scattercarpet"
           }
          ],
          "scattergeo": [
           {
            "marker": {
             "colorbar": {
              "outlinewidth": 0,
              "ticks": ""
             }
            },
            "type": "scattergeo"
           }
          ],
          "scattergl": [
           {
            "marker": {
             "colorbar": {
              "outlinewidth": 0,
              "ticks": ""
             }
            },
            "type": "scattergl"
           }
          ],
          "scattermapbox": [
           {
            "marker": {
             "colorbar": {
              "outlinewidth": 0,
              "ticks": ""
             }
            },
            "type": "scattermapbox"
           }
          ],
          "scatterpolar": [
           {
            "marker": {
             "colorbar": {
              "outlinewidth": 0,
              "ticks": ""
             }
            },
            "type": "scatterpolar"
           }
          ],
          "scatterpolargl": [
           {
            "marker": {
             "colorbar": {
              "outlinewidth": 0,
              "ticks": ""
             }
            },
            "type": "scatterpolargl"
           }
          ],
          "scatterternary": [
           {
            "marker": {
             "colorbar": {
              "outlinewidth": 0,
              "ticks": ""
             }
            },
            "type": "scatterternary"
           }
          ],
          "surface": [
           {
            "colorbar": {
             "outlinewidth": 0,
             "ticks": ""
            },
            "colorscale": [
             [
              0,
              "#0d0887"
             ],
             [
              0.1111111111111111,
              "#46039f"
             ],
             [
              0.2222222222222222,
              "#7201a8"
             ],
             [
              0.3333333333333333,
              "#9c179e"
             ],
             [
              0.4444444444444444,
              "#bd3786"
             ],
             [
              0.5555555555555556,
              "#d8576b"
             ],
             [
              0.6666666666666666,
              "#ed7953"
             ],
             [
              0.7777777777777778,
              "#fb9f3a"
             ],
             [
              0.8888888888888888,
              "#fdca26"
             ],
             [
              1,
              "#f0f921"
             ]
            ],
            "type": "surface"
           }
          ],
          "table": [
           {
            "cells": {
             "fill": {
              "color": "#EBF0F8"
             },
             "line": {
              "color": "white"
             }
            },
            "header": {
             "fill": {
              "color": "#C8D4E3"
             },
             "line": {
              "color": "white"
             }
            },
            "type": "table"
           }
          ]
         },
         "layout": {
          "annotationdefaults": {
           "arrowcolor": "#2a3f5f",
           "arrowhead": 0,
           "arrowwidth": 1
          },
          "coloraxis": {
           "colorbar": {
            "outlinewidth": 0,
            "ticks": ""
           }
          },
          "colorscale": {
           "diverging": [
            [
             0,
             "#8e0152"
            ],
            [
             0.1,
             "#c51b7d"
            ],
            [
             0.2,
             "#de77ae"
            ],
            [
             0.3,
             "#f1b6da"
            ],
            [
             0.4,
             "#fde0ef"
            ],
            [
             0.5,
             "#f7f7f7"
            ],
            [
             0.6,
             "#e6f5d0"
            ],
            [
             0.7,
             "#b8e186"
            ],
            [
             0.8,
             "#7fbc41"
            ],
            [
             0.9,
             "#4d9221"
            ],
            [
             1,
             "#276419"
            ]
           ],
           "sequential": [
            [
             0,
             "#0d0887"
            ],
            [
             0.1111111111111111,
             "#46039f"
            ],
            [
             0.2222222222222222,
             "#7201a8"
            ],
            [
             0.3333333333333333,
             "#9c179e"
            ],
            [
             0.4444444444444444,
             "#bd3786"
            ],
            [
             0.5555555555555556,
             "#d8576b"
            ],
            [
             0.6666666666666666,
             "#ed7953"
            ],
            [
             0.7777777777777778,
             "#fb9f3a"
            ],
            [
             0.8888888888888888,
             "#fdca26"
            ],
            [
             1,
             "#f0f921"
            ]
           ],
           "sequentialminus": [
            [
             0,
             "#0d0887"
            ],
            [
             0.1111111111111111,
             "#46039f"
            ],
            [
             0.2222222222222222,
             "#7201a8"
            ],
            [
             0.3333333333333333,
             "#9c179e"
            ],
            [
             0.4444444444444444,
             "#bd3786"
            ],
            [
             0.5555555555555556,
             "#d8576b"
            ],
            [
             0.6666666666666666,
             "#ed7953"
            ],
            [
             0.7777777777777778,
             "#fb9f3a"
            ],
            [
             0.8888888888888888,
             "#fdca26"
            ],
            [
             1,
             "#f0f921"
            ]
           ]
          },
          "colorway": [
           "#636efa",
           "#EF553B",
           "#00cc96",
           "#ab63fa",
           "#FFA15A",
           "#19d3f3",
           "#FF6692",
           "#B6E880",
           "#FF97FF",
           "#FECB52"
          ],
          "font": {
           "color": "#2a3f5f"
          },
          "geo": {
           "bgcolor": "white",
           "lakecolor": "white",
           "landcolor": "#E5ECF6",
           "showlakes": true,
           "showland": true,
           "subunitcolor": "white"
          },
          "hoverlabel": {
           "align": "left"
          },
          "hovermode": "closest",
          "mapbox": {
           "style": "light"
          },
          "paper_bgcolor": "white",
          "plot_bgcolor": "#E5ECF6",
          "polar": {
           "angularaxis": {
            "gridcolor": "white",
            "linecolor": "white",
            "ticks": ""
           },
           "bgcolor": "#E5ECF6",
           "radialaxis": {
            "gridcolor": "white",
            "linecolor": "white",
            "ticks": ""
           }
          },
          "scene": {
           "xaxis": {
            "backgroundcolor": "#E5ECF6",
            "gridcolor": "white",
            "gridwidth": 2,
            "linecolor": "white",
            "showbackground": true,
            "ticks": "",
            "zerolinecolor": "white"
           },
           "yaxis": {
            "backgroundcolor": "#E5ECF6",
            "gridcolor": "white",
            "gridwidth": 2,
            "linecolor": "white",
            "showbackground": true,
            "ticks": "",
            "zerolinecolor": "white"
           },
           "zaxis": {
            "backgroundcolor": "#E5ECF6",
            "gridcolor": "white",
            "gridwidth": 2,
            "linecolor": "white",
            "showbackground": true,
            "ticks": "",
            "zerolinecolor": "white"
           }
          },
          "shapedefaults": {
           "line": {
            "color": "#2a3f5f"
           }
          },
          "ternary": {
           "aaxis": {
            "gridcolor": "white",
            "linecolor": "white",
            "ticks": ""
           },
           "baxis": {
            "gridcolor": "white",
            "linecolor": "white",
            "ticks": ""
           },
           "bgcolor": "#E5ECF6",
           "caxis": {
            "gridcolor": "white",
            "linecolor": "white",
            "ticks": ""
           }
          },
          "title": {
           "x": 0.05
          },
          "xaxis": {
           "automargin": true,
           "gridcolor": "white",
           "linecolor": "white",
           "ticks": "",
           "title": {
            "standoff": 15
           },
           "zerolinecolor": "white",
           "zerolinewidth": 2
          },
          "yaxis": {
           "automargin": true,
           "gridcolor": "white",
           "linecolor": "white",
           "ticks": "",
           "title": {
            "standoff": 15
           },
           "zerolinecolor": "white",
           "zerolinewidth": 2
          }
         }
        },
        "title": {
         "text": "Kp indices start from year 2011<br>Orbit file:DAED_ORB_Lifetime_LLA_MLT_MLat_RAAN00_010s.csv<br>Results file:DAED_ORB_Lifetime_LLA_MLT_MLat_RAAN00_010s_Kp2011.CoverageResults.txt<br><b>Magnetic Latitudes from 70&#176; to 90&#176;</b><br>"
        },
        "width": 1100,
        "xaxis": {
         "range": [
          0,
          308
         ],
         "showgrid": false,
         "tickmode": "array",
         "ticktext": [
          "Kp 0-2<br>14-10",
          "Kp 2-4<br>14-10",
          "Kp 4-9<br>14-10"
         ],
         "tickvals": [
          60,
          150,
          240
         ],
         "title": {
          "text": "Kp index range<br>Magnetic Local Time range"
         }
        },
        "yaxis": {
         "range": [
          2.1421280356782377,
          2.7069700043360183
         ],
         "tickvals": [
          140,
          185,
          230,
          275,
          320,
          365,
          410,
          455,
          500,
          260,
          380
         ],
         "title": {
          "text": "Altitude (km)"
         },
         "type": "log"
        }
       }
      },
      "text/html": [
       "<div>\n",
       "        \n",
       "        \n",
       "            <div id=\"9527f08d-7ff3-41dc-b765-f60f8272fa3f\" class=\"plotly-graph-div\" style=\"height:1640px; width:1100px;\"></div>\n",
       "            <script type=\"text/javascript\">\n",
       "                require([\"plotly\"], function(Plotly) {\n",
       "                    window.PLOTLYENV=window.PLOTLYENV || {};\n",
       "                    \n",
       "                if (document.getElementById(\"9527f08d-7ff3-41dc-b765-f60f8272fa3f\")) {\n",
       "                    Plotly.newPlot(\n",
       "                        '9527f08d-7ff3-41dc-b765-f60f8272fa3f',\n",
       "                        [{\"mode\": \"text\", \"text\": [\"PCF_L1<br>7330 / 50\"], \"type\": \"scatter\", \"x\": [60.0], \"y\": [162.5]}, {\"mode\": \"text\", \"text\": [\"PCF_L2<br>4292 / 50\"], \"type\": \"scatter\", \"x\": [60.0], \"y\": [207.5]}, {\"mode\": \"text\", \"text\": [\"PCF_L3<br>3110 / 50\"], \"type\": \"scatter\", \"x\": [60.0], \"y\": [252.5]}, {\"mode\": \"text\", \"text\": [\"PCF_L4<br>2638 / 50\"], \"type\": \"scatter\", \"x\": [60.0], \"y\": [297.5]}, {\"mode\": \"text\", \"text\": [\"PCF_L5<br>2309 / 50\"], \"type\": \"scatter\", \"x\": [60.0], \"y\": [342.5]}, {\"mode\": \"text\", \"text\": [\"PCF_L6<br>2082 / 50\"], \"type\": \"scatter\", \"x\": [60.0], \"y\": [387.5]}, {\"mode\": \"text\", \"text\": [\"PCF_L7<br>1918 / 50\"], \"type\": \"scatter\", \"x\": [60.0], \"y\": [432.5]}, {\"mode\": \"text\", \"text\": [\"PCF_L8<br>1786 / 50\"], \"type\": \"scatter\", \"x\": [60.0], \"y\": [477.5]}, {\"mode\": \"text\", \"text\": [\"PCF_M1<br>3316 / 30\"], \"type\": \"scatter\", \"x\": [150.0], \"y\": [185.0]}, {\"mode\": \"text\", \"text\": [\"PCF_M2<br>1921 / 30\"], \"type\": \"scatter\", \"x\": [150.0], \"y\": [275.0]}, {\"mode\": \"text\", \"text\": [\"PCF_M3<br>1542 / 30\"], \"type\": \"scatter\", \"x\": [150.0], \"y\": [365.0]}, {\"mode\": \"text\", \"text\": [\"PCF_M4<br>1376 / 30\"], \"type\": \"scatter\", \"x\": [150.0], \"y\": [455.0]}, {\"mode\": \"text\", \"text\": [\"PCF_H1<br>666 / 20\"], \"type\": \"scatter\", \"x\": [240.0], \"y\": [200.0]}, {\"mode\": \"text\", \"text\": [\"PCF_H2<br>459 / 20\"], \"type\": \"scatter\", \"x\": [240.0], \"y\": [320.0]}, {\"mode\": \"text\", \"text\": [\"PCF_H3<br>384 / 20\"], \"type\": \"scatter\", \"x\": [240.0], \"y\": [440.0]}, {\"marker\": {\"color\": [0, 100], \"colorbar\": {\"ticktext\": [\"empty\", \"full\"], \"tickvals\": [0, 100]}, \"colorscale\": [[0.0, \"rgb(247,251,255)\"], [0.125, \"rgb(222,235,247)\"], [0.25, \"rgb(198,219,239)\"], [0.375, \"rgb(158,202,225)\"], [0.5, \"rgb(107,174,214)\"], [0.625, \"rgb(66,146,198)\"], [0.75, \"rgb(33,113,181)\"], [0.875, \"rgb(8,81,156)\"], [1.0, \"rgb(8,48,107)\"]]}, \"mode\": \"markers\", \"opacity\": 0, \"type\": \"scatter\", \"x\": [0, 0], \"y\": [0, 0]}],\n",
       "                        {\"colorscale\": {\"sequential\": [[0.0, \"rgb(247,251,255)\"], [0.125, \"rgb(222,235,247)\"], [0.25, \"rgb(198,219,239)\"], [0.375, \"rgb(158,202,225)\"], [0.5, \"rgb(107,174,214)\"], [0.625, \"rgb(66,146,198)\"], [0.75, \"rgb(33,113,181)\"], [0.875, \"rgb(8,81,156)\"], [1.0, \"rgb(8,48,107)\"]]}, \"height\": 1640, \"margin\": {\"b\": 150, \"t\": 150}, \"shapes\": [{\"fillcolor\": \"rgba(0.03137254901960784, 0.18823529411764706, 0.4196078431372549, 1.0)\", \"line\": {\"color\": \"RoyalBlue\", \"width\": 3}, \"opacity\": 0.8, \"type\": \"rect\", \"x0\": 20, \"x1\": 100, \"xref\": \"x\", \"y0\": 140, \"y1\": 185, \"yref\": \"y\"}, {\"fillcolor\": \"rgba(0.03137254901960784, 0.18823529411764706, 0.4196078431372549, 1.0)\", \"line\": {\"color\": \"RoyalBlue\", \"width\": 3}, \"opacity\": 0.8, \"type\": \"rect\", \"x0\": 20, \"x1\": 100, \"xref\": \"x\", \"y0\": 185, \"y1\": 230, \"yref\": \"y\"}, {\"fillcolor\": \"rgba(0.03137254901960784, 0.18823529411764706, 0.4196078431372549, 1.0)\", \"line\": {\"color\": \"RoyalBlue\", \"width\": 3}, \"opacity\": 0.8, \"type\": \"rect\", \"x0\": 20, \"x1\": 100, \"xref\": \"x\", \"y0\": 230, \"y1\": 275, \"yref\": \"y\"}, {\"fillcolor\": \"rgba(0.03137254901960784, 0.18823529411764706, 0.4196078431372549, 1.0)\", \"line\": {\"color\": \"RoyalBlue\", \"width\": 3}, \"opacity\": 0.8, \"type\": \"rect\", \"x0\": 20, \"x1\": 100, \"xref\": \"x\", \"y0\": 275, \"y1\": 320, \"yref\": \"y\"}, {\"fillcolor\": \"rgba(0.03137254901960784, 0.18823529411764706, 0.4196078431372549, 1.0)\", \"line\": {\"color\": \"RoyalBlue\", \"width\": 3}, \"opacity\": 0.8, \"type\": \"rect\", \"x0\": 20, \"x1\": 100, \"xref\": \"x\", \"y0\": 320, \"y1\": 365, \"yref\": \"y\"}, {\"fillcolor\": \"rgba(0.03137254901960784, 0.18823529411764706, 0.4196078431372549, 1.0)\", \"line\": {\"color\": \"RoyalBlue\", \"width\": 3}, \"opacity\": 0.8, \"type\": \"rect\", \"x0\": 20, \"x1\": 100, \"xref\": \"x\", \"y0\": 365, \"y1\": 410, \"yref\": \"y\"}, {\"fillcolor\": \"rgba(0.03137254901960784, 0.18823529411764706, 0.4196078431372549, 1.0)\", \"line\": {\"color\": \"RoyalBlue\", \"width\": 3}, \"opacity\": 0.8, \"type\": \"rect\", \"x0\": 20, \"x1\": 100, \"xref\": \"x\", \"y0\": 410, \"y1\": 455, \"yref\": \"y\"}, {\"fillcolor\": \"rgba(0.03137254901960784, 0.18823529411764706, 0.4196078431372549, 1.0)\", \"line\": {\"color\": \"RoyalBlue\", \"width\": 3}, \"opacity\": 0.8, \"type\": \"rect\", \"x0\": 20, \"x1\": 100, \"xref\": \"x\", \"y0\": 455, \"y1\": 500, \"yref\": \"y\"}, {\"fillcolor\": \"rgba(0.03137254901960784, 0.18823529411764706, 0.4196078431372549, 1.0)\", \"line\": {\"color\": \"RoyalBlue\", \"width\": 3}, \"opacity\": 0.8, \"type\": \"rect\", \"x0\": 110, \"x1\": 190, \"xref\": \"x\", \"y0\": 140, \"y1\": 230, \"yref\": \"y\"}, {\"fillcolor\": \"rgba(0.03137254901960784, 0.18823529411764706, 0.4196078431372549, 1.0)\", \"line\": {\"color\": \"RoyalBlue\", \"width\": 3}, \"opacity\": 0.8, \"type\": \"rect\", \"x0\": 110, \"x1\": 190, \"xref\": \"x\", \"y0\": 230, \"y1\": 320, \"yref\": \"y\"}, {\"fillcolor\": \"rgba(0.03137254901960784, 0.18823529411764706, 0.4196078431372549, 1.0)\", \"line\": {\"color\": \"RoyalBlue\", \"width\": 3}, \"opacity\": 0.8, \"type\": \"rect\", \"x0\": 110, \"x1\": 190, \"xref\": \"x\", \"y0\": 320, \"y1\": 410, \"yref\": \"y\"}, {\"fillcolor\": \"rgba(0.03137254901960784, 0.18823529411764706, 0.4196078431372549, 1.0)\", \"line\": {\"color\": \"RoyalBlue\", \"width\": 3}, \"opacity\": 0.8, \"type\": \"rect\", \"x0\": 110, \"x1\": 190, \"xref\": \"x\", \"y0\": 410, \"y1\": 500, \"yref\": \"y\"}, {\"fillcolor\": \"rgba(0.03137254901960784, 0.18823529411764706, 0.4196078431372549, 1.0)\", \"line\": {\"color\": \"RoyalBlue\", \"width\": 3}, \"opacity\": 0.8, \"type\": \"rect\", \"x0\": 200, \"x1\": 280, \"xref\": \"x\", \"y0\": 140, \"y1\": 260, \"yref\": \"y\"}, {\"fillcolor\": \"rgba(0.03137254901960784, 0.18823529411764706, 0.4196078431372549, 1.0)\", \"line\": {\"color\": \"RoyalBlue\", \"width\": 3}, \"opacity\": 0.8, \"type\": \"rect\", \"x0\": 200, \"x1\": 280, \"xref\": \"x\", \"y0\": 260, \"y1\": 380, \"yref\": \"y\"}, {\"fillcolor\": \"rgba(0.03137254901960784, 0.18823529411764706, 0.4196078431372549, 1.0)\", \"line\": {\"color\": \"RoyalBlue\", \"width\": 3}, \"opacity\": 0.8, \"type\": \"rect\", \"x0\": 200, \"x1\": 280, \"xref\": \"x\", \"y0\": 380, \"y1\": 500, \"yref\": \"y\"}], \"showlegend\": false, \"template\": {\"data\": {\"bar\": [{\"error_x\": {\"color\": \"#2a3f5f\"}, \"error_y\": {\"color\": \"#2a3f5f\"}, \"marker\": {\"line\": {\"color\": \"#E5ECF6\", \"width\": 0.5}}, \"type\": \"bar\"}], \"barpolar\": [{\"marker\": {\"line\": {\"color\": \"#E5ECF6\", \"width\": 0.5}}, \"type\": \"barpolar\"}], \"carpet\": [{\"aaxis\": {\"endlinecolor\": \"#2a3f5f\", \"gridcolor\": \"white\", \"linecolor\": \"white\", \"minorgridcolor\": \"white\", \"startlinecolor\": \"#2a3f5f\"}, \"baxis\": {\"endlinecolor\": \"#2a3f5f\", \"gridcolor\": \"white\", \"linecolor\": \"white\", \"minorgridcolor\": \"white\", \"startlinecolor\": \"#2a3f5f\"}, \"type\": \"carpet\"}], \"choropleth\": [{\"colorbar\": {\"outlinewidth\": 0, \"ticks\": \"\"}, \"type\": \"choropleth\"}], \"contour\": [{\"colorbar\": {\"outlinewidth\": 0, \"ticks\": \"\"}, \"colorscale\": [[0.0, \"#0d0887\"], [0.1111111111111111, \"#46039f\"], [0.2222222222222222, \"#7201a8\"], [0.3333333333333333, \"#9c179e\"], [0.4444444444444444, \"#bd3786\"], [0.5555555555555556, \"#d8576b\"], [0.6666666666666666, \"#ed7953\"], [0.7777777777777778, \"#fb9f3a\"], [0.8888888888888888, \"#fdca26\"], [1.0, \"#f0f921\"]], \"type\": \"contour\"}], \"contourcarpet\": [{\"colorbar\": {\"outlinewidth\": 0, \"ticks\": \"\"}, \"type\": \"contourcarpet\"}], \"heatmap\": [{\"colorbar\": {\"outlinewidth\": 0, \"ticks\": \"\"}, \"colorscale\": [[0.0, \"#0d0887\"], [0.1111111111111111, \"#46039f\"], [0.2222222222222222, \"#7201a8\"], [0.3333333333333333, \"#9c179e\"], [0.4444444444444444, \"#bd3786\"], [0.5555555555555556, \"#d8576b\"], [0.6666666666666666, \"#ed7953\"], [0.7777777777777778, \"#fb9f3a\"], [0.8888888888888888, \"#fdca26\"], [1.0, \"#f0f921\"]], \"type\": \"heatmap\"}], \"heatmapgl\": [{\"colorbar\": {\"outlinewidth\": 0, \"ticks\": \"\"}, \"colorscale\": [[0.0, \"#0d0887\"], [0.1111111111111111, \"#46039f\"], [0.2222222222222222, \"#7201a8\"], [0.3333333333333333, \"#9c179e\"], [0.4444444444444444, \"#bd3786\"], [0.5555555555555556, \"#d8576b\"], [0.6666666666666666, \"#ed7953\"], [0.7777777777777778, \"#fb9f3a\"], [0.8888888888888888, \"#fdca26\"], [1.0, \"#f0f921\"]], \"type\": \"heatmapgl\"}], \"histogram\": [{\"marker\": {\"colorbar\": {\"outlinewidth\": 0, \"ticks\": \"\"}}, \"type\": \"histogram\"}], \"histogram2d\": [{\"colorbar\": {\"outlinewidth\": 0, \"ticks\": \"\"}, \"colorscale\": [[0.0, \"#0d0887\"], [0.1111111111111111, \"#46039f\"], [0.2222222222222222, \"#7201a8\"], [0.3333333333333333, \"#9c179e\"], [0.4444444444444444, \"#bd3786\"], [0.5555555555555556, \"#d8576b\"], [0.6666666666666666, \"#ed7953\"], [0.7777777777777778, \"#fb9f3a\"], [0.8888888888888888, \"#fdca26\"], [1.0, \"#f0f921\"]], \"type\": \"histogram2d\"}], \"histogram2dcontour\": [{\"colorbar\": {\"outlinewidth\": 0, \"ticks\": \"\"}, \"colorscale\": [[0.0, \"#0d0887\"], [0.1111111111111111, \"#46039f\"], [0.2222222222222222, \"#7201a8\"], [0.3333333333333333, \"#9c179e\"], [0.4444444444444444, \"#bd3786\"], [0.5555555555555556, \"#d8576b\"], [0.6666666666666666, \"#ed7953\"], [0.7777777777777778, \"#fb9f3a\"], [0.8888888888888888, \"#fdca26\"], [1.0, \"#f0f921\"]], \"type\": \"histogram2dcontour\"}], \"mesh3d\": [{\"colorbar\": {\"outlinewidth\": 0, \"ticks\": \"\"}, \"type\": \"mesh3d\"}], \"parcoords\": [{\"line\": {\"colorbar\": {\"outlinewidth\": 0, \"ticks\": \"\"}}, \"type\": \"parcoords\"}], \"pie\": [{\"automargin\": true, \"type\": \"pie\"}], \"scatter\": [{\"marker\": {\"colorbar\": {\"outlinewidth\": 0, \"ticks\": \"\"}}, \"type\": \"scatter\"}], \"scatter3d\": [{\"line\": {\"colorbar\": {\"outlinewidth\": 0, \"ticks\": \"\"}}, \"marker\": {\"colorbar\": {\"outlinewidth\": 0, \"ticks\": \"\"}}, \"type\": \"scatter3d\"}], \"scattercarpet\": [{\"marker\": {\"colorbar\": {\"outlinewidth\": 0, \"ticks\": \"\"}}, \"type\": \"scattercarpet\"}], \"scattergeo\": [{\"marker\": {\"colorbar\": {\"outlinewidth\": 0, \"ticks\": \"\"}}, \"type\": \"scattergeo\"}], \"scattergl\": [{\"marker\": {\"colorbar\": {\"outlinewidth\": 0, \"ticks\": \"\"}}, \"type\": \"scattergl\"}], \"scattermapbox\": [{\"marker\": {\"colorbar\": {\"outlinewidth\": 0, \"ticks\": \"\"}}, \"type\": \"scattermapbox\"}], \"scatterpolar\": [{\"marker\": {\"colorbar\": {\"outlinewidth\": 0, \"ticks\": \"\"}}, \"type\": \"scatterpolar\"}], \"scatterpolargl\": [{\"marker\": {\"colorbar\": {\"outlinewidth\": 0, \"ticks\": \"\"}}, \"type\": \"scatterpolargl\"}], \"scatterternary\": [{\"marker\": {\"colorbar\": {\"outlinewidth\": 0, \"ticks\": \"\"}}, \"type\": \"scatterternary\"}], \"surface\": [{\"colorbar\": {\"outlinewidth\": 0, \"ticks\": \"\"}, \"colorscale\": [[0.0, \"#0d0887\"], [0.1111111111111111, \"#46039f\"], [0.2222222222222222, \"#7201a8\"], [0.3333333333333333, \"#9c179e\"], [0.4444444444444444, \"#bd3786\"], [0.5555555555555556, \"#d8576b\"], [0.6666666666666666, \"#ed7953\"], [0.7777777777777778, \"#fb9f3a\"], [0.8888888888888888, \"#fdca26\"], [1.0, \"#f0f921\"]], \"type\": \"surface\"}], \"table\": [{\"cells\": {\"fill\": {\"color\": \"#EBF0F8\"}, \"line\": {\"color\": \"white\"}}, \"header\": {\"fill\": {\"color\": \"#C8D4E3\"}, \"line\": {\"color\": \"white\"}}, \"type\": \"table\"}]}, \"layout\": {\"annotationdefaults\": {\"arrowcolor\": \"#2a3f5f\", \"arrowhead\": 0, \"arrowwidth\": 1}, \"coloraxis\": {\"colorbar\": {\"outlinewidth\": 0, \"ticks\": \"\"}}, \"colorscale\": {\"diverging\": [[0, \"#8e0152\"], [0.1, \"#c51b7d\"], [0.2, \"#de77ae\"], [0.3, \"#f1b6da\"], [0.4, \"#fde0ef\"], [0.5, \"#f7f7f7\"], [0.6, \"#e6f5d0\"], [0.7, \"#b8e186\"], [0.8, \"#7fbc41\"], [0.9, \"#4d9221\"], [1, \"#276419\"]], \"sequential\": [[0.0, \"#0d0887\"], [0.1111111111111111, \"#46039f\"], [0.2222222222222222, \"#7201a8\"], [0.3333333333333333, \"#9c179e\"], [0.4444444444444444, \"#bd3786\"], [0.5555555555555556, \"#d8576b\"], [0.6666666666666666, \"#ed7953\"], [0.7777777777777778, \"#fb9f3a\"], [0.8888888888888888, \"#fdca26\"], [1.0, \"#f0f921\"]], \"sequentialminus\": [[0.0, \"#0d0887\"], [0.1111111111111111, \"#46039f\"], [0.2222222222222222, \"#7201a8\"], [0.3333333333333333, \"#9c179e\"], [0.4444444444444444, \"#bd3786\"], [0.5555555555555556, \"#d8576b\"], [0.6666666666666666, \"#ed7953\"], [0.7777777777777778, \"#fb9f3a\"], [0.8888888888888888, \"#fdca26\"], [1.0, \"#f0f921\"]]}, \"colorway\": [\"#636efa\", \"#EF553B\", \"#00cc96\", \"#ab63fa\", \"#FFA15A\", \"#19d3f3\", \"#FF6692\", \"#B6E880\", \"#FF97FF\", \"#FECB52\"], \"font\": {\"color\": \"#2a3f5f\"}, \"geo\": {\"bgcolor\": \"white\", \"lakecolor\": \"white\", \"landcolor\": \"#E5ECF6\", \"showlakes\": true, \"showland\": true, \"subunitcolor\": \"white\"}, \"hoverlabel\": {\"align\": \"left\"}, \"hovermode\": \"closest\", \"mapbox\": {\"style\": \"light\"}, \"paper_bgcolor\": \"white\", \"plot_bgcolor\": \"#E5ECF6\", \"polar\": {\"angularaxis\": {\"gridcolor\": \"white\", \"linecolor\": \"white\", \"ticks\": \"\"}, \"bgcolor\": \"#E5ECF6\", \"radialaxis\": {\"gridcolor\": \"white\", \"linecolor\": \"white\", \"ticks\": \"\"}}, \"scene\": {\"xaxis\": {\"backgroundcolor\": \"#E5ECF6\", \"gridcolor\": \"white\", \"gridwidth\": 2, \"linecolor\": \"white\", \"showbackground\": true, \"ticks\": \"\", \"zerolinecolor\": \"white\"}, \"yaxis\": {\"backgroundcolor\": \"#E5ECF6\", \"gridcolor\": \"white\", \"gridwidth\": 2, \"linecolor\": \"white\", \"showbackground\": true, \"ticks\": \"\", \"zerolinecolor\": \"white\"}, \"zaxis\": {\"backgroundcolor\": \"#E5ECF6\", \"gridcolor\": \"white\", \"gridwidth\": 2, \"linecolor\": \"white\", \"showbackground\": true, \"ticks\": \"\", \"zerolinecolor\": \"white\"}}, \"shapedefaults\": {\"line\": {\"color\": \"#2a3f5f\"}}, \"ternary\": {\"aaxis\": {\"gridcolor\": \"white\", \"linecolor\": \"white\", \"ticks\": \"\"}, \"baxis\": {\"gridcolor\": \"white\", \"linecolor\": \"white\", \"ticks\": \"\"}, \"bgcolor\": \"#E5ECF6\", \"caxis\": {\"gridcolor\": \"white\", \"linecolor\": \"white\", \"ticks\": \"\"}}, \"title\": {\"x\": 0.05}, \"xaxis\": {\"automargin\": true, \"gridcolor\": \"white\", \"linecolor\": \"white\", \"ticks\": \"\", \"title\": {\"standoff\": 15}, \"zerolinecolor\": \"white\", \"zerolinewidth\": 2}, \"yaxis\": {\"automargin\": true, \"gridcolor\": \"white\", \"linecolor\": \"white\", \"ticks\": \"\", \"title\": {\"standoff\": 15}, \"zerolinecolor\": \"white\", \"zerolinewidth\": 2}}}, \"title\": {\"text\": \"Kp indices start from year 2011<br>Orbit file:DAED_ORB_Lifetime_LLA_MLT_MLat_RAAN00_010s.csv<br>Results file:DAED_ORB_Lifetime_LLA_MLT_MLat_RAAN00_010s_Kp2011.CoverageResults.txt<br><b>Magnetic Latitudes from 70&#176; to 90&#176;</b><br>\"}, \"width\": 1100, \"xaxis\": {\"range\": [0, 308], \"showgrid\": false, \"tickmode\": \"array\", \"ticktext\": [\"Kp 0-2<br>14-10\", \"Kp 2-4<br>14-10\", \"Kp 4-9<br>14-10\"], \"tickvals\": [60.0, 150.0, 240.0], \"title\": {\"text\": \"Kp index range<br>Magnetic Local Time range\"}}, \"yaxis\": {\"range\": [2.1421280356782377, 2.7069700043360183], \"tickvals\": [140, 185, 230, 275, 320, 365, 410, 455, 500, 260, 380], \"title\": {\"text\": \"Altitude (km)\"}, \"type\": \"log\"}},\n",
       "                        {\"responsive\": true}\n",
       "                    ).then(function(){\n",
       "                            \n",
       "var gd = document.getElementById('9527f08d-7ff3-41dc-b765-f60f8272fa3f');\n",
       "var x = new MutationObserver(function (mutations, observer) {{\n",
       "        var display = window.getComputedStyle(gd).display;\n",
       "        if (!display || display === 'none') {{\n",
       "            console.log([gd, 'removed!']);\n",
       "            Plotly.purge(gd);\n",
       "            observer.disconnect();\n",
       "        }}\n",
       "}});\n",
       "\n",
       "// Listen for the removal of the full notebook cells\n",
       "var notebookContainer = gd.closest('#notebook-container');\n",
       "if (notebookContainer) {{\n",
       "    x.observe(notebookContainer, {childList: true});\n",
       "}}\n",
       "\n",
       "// Listen for the clearing of the current output cell\n",
       "var outputEl = gd.closest('.output');\n",
       "if (outputEl) {{\n",
       "    x.observe(outputEl, {childList: true});\n",
       "}}\n",
       "\n",
       "                        })\n",
       "                };\n",
       "                });\n",
       "            </script>\n",
       "        </div>"
      ]
     },
     "metadata": {},
     "output_type": "display_data"
    },
    {
     "data": {
      "text/html": [
       "        <script type=\"text/javascript\">\n",
       "        window.PlotlyConfig = {MathJaxConfig: 'local'};\n",
       "        if (window.MathJax) {MathJax.Hub.Config({SVG: {font: \"STIX-Web\"}});}\n",
       "        if (typeof require !== 'undefined') {\n",
       "        require.undef(\"plotly\");\n",
       "        requirejs.config({\n",
       "            paths: {\n",
       "                'plotly': ['https://cdn.plot.ly/plotly-latest.min']\n",
       "            }\n",
       "        });\n",
       "        require(['plotly'], function(Plotly) {\n",
       "            window._Plotly = Plotly;\n",
       "        });\n",
       "        }\n",
       "        </script>\n",
       "        "
      ]
     },
     "metadata": {},
     "output_type": "display_data"
    },
    {
     "data": {
      "application/vnd.plotly.v1+json": {
       "config": {
        "linkText": "Export to plot.ly",
        "plotlyServerURL": "https://plot.ly",
        "showLink": false
       },
       "data": [
        {
         "base": [
          60
         ],
         "marker": {
          "color": [
           "#217ca3"
          ]
         },
         "name": "<b>Auroral E region, midnight sector</b><br>115-120km : Kp0-2:   5/ 50min<br>120-125km : Kp0-2:  10/ 50min<br>125-130km : Kp0-2:  17/ 50min<br>130-135km : Kp0-2:  32/ 50min<br>135-140km : Kp0-2:  25/ 50min<br>115-123km : Kp2-4:   0/ 30min<br>123-132km : Kp2-4:   0/ 30min<br>132-140km : Kp2-4:   0/ 30min<br>115-140km : Kp4-9:   0/ 20min<br>",
         "opacity": 0.84,
         "r": [
          15
         ],
         "text": [
          "AEM_L1"
         ],
         "theta": [
          270
         ],
         "type": "barpolar",
         "width": [
          60
         ]
        },
        {
         "base": [
          60
         ],
         "marker": {
          "color": [
           "#e29930"
          ]
         },
         "name": "<b>Auroral E region, evening sector</b><br>115-120km : Kp0-2:   0/ 50min<br>120-125km : Kp0-2:   0/ 50min<br>125-130km : Kp0-2:   0/ 50min<br>130-135km : Kp0-2: <b> 55</b>/ 50min<br>135-140km : Kp0-2: <b> 54</b>/ 50min<br>115-123km : Kp2-4:   0/ 30min<br>123-132km : Kp2-4:   0/ 30min<br>132-140km : Kp2-4: <b> 56</b>/ 30min<br>115-140km : Kp4-9:   6/ 20min<br>",
         "opacity": 0.84,
         "r": [
          15
         ],
         "text": [
          "AEE_L1"
         ],
         "theta": [
          180
         ],
         "type": "barpolar",
         "width": [
          60
         ]
        },
        {
         "base": [
          60
         ],
         "marker": {
          "color": [
           "#919636"
          ]
         },
         "name": "<b>Auroral E region, dawn sector</b><br>115-120km : Kp0-2:   0/ 50min<br>120-125km : Kp0-2:   0/ 50min<br>125-130km : Kp0-2:   0/ 50min<br>130-135km : Kp0-2: <b> 63</b>/ 50min<br>135-140km : Kp0-2: <b> 60</b>/ 50min<br>115-123km : Kp2-4:   0/ 30min<br>123-132km : Kp2-4:   0/ 30min<br>132-140km : Kp2-4: <b> 51</b>/ 30min<br>115-140km : Kp4-9:   7/ 20min<br>",
         "opacity": 0.84,
         "r": [
          15
         ],
         "text": [
          "AED_L1"
         ],
         "theta": [
          0
         ],
         "type": "barpolar",
         "width": [
          60
         ]
        },
        {
         "base": [
          -7
         ],
         "marker": {
          "color": [
           "#af1c1c"
          ]
         },
         "name": "<b>Equatorial E-region</b><br>115-123km : Kp0-9:   0/ 10min<br>123-132km : Kp0-9:   0/ 10min<br>132-140km : Kp0-9:   2/ 10min<br>",
         "opacity": 0.84,
         "r": [
          14
         ],
         "text": [
          "EEJ_A1"
         ],
         "theta": [
          82.5
         ],
         "type": "barpolar",
         "width": [
          45
         ]
        }
       ],
       "layout": {
        "height": 1020,
        "margin": {
         "b": 150,
         "t": 150
        },
        "polar": {
         "angularaxis": {
          "ticktext": [
           "06:00",
           "08:00",
           "10:00",
           "12:00",
           "14:00",
           "16:00",
           "18:00",
           "20:00",
           "22:00",
           "00:00",
           "02:00",
           "04:00"
          ],
          "tickvals": [
           0,
           30,
           60,
           90,
           120,
           150,
           180,
           210,
           240,
           270,
           300,
           330
          ]
         },
         "bgcolor": "Gainsboro",
         "radialaxis": {
          "categoryorder": "category descending",
          "range": [
           90,
           -7
          ],
          "tickangle": 90,
          "ticktext": [
           "60&#176;",
           "75&#176;",
           "-7&#176;",
           "7&#176;",
           "90&#176;"
          ],
          "tickvals": [
           60,
           75,
           -7,
           7,
           90
          ]
         }
        },
        "showlegend": true,
        "template": {
         "data": {
          "bar": [
           {
            "error_x": {
             "color": "#2a3f5f"
            },
            "error_y": {
             "color": "#2a3f5f"
            },
            "marker": {
             "line": {
              "color": "#E5ECF6",
              "width": 0.5
             }
            },
            "type": "bar"
           }
          ],
          "barpolar": [
           {
            "marker": {
             "line": {
              "color": "#E5ECF6",
              "width": 0.5
             }
            },
            "type": "barpolar"
           }
          ],
          "carpet": [
           {
            "aaxis": {
             "endlinecolor": "#2a3f5f",
             "gridcolor": "white",
             "linecolor": "white",
             "minorgridcolor": "white",
             "startlinecolor": "#2a3f5f"
            },
            "baxis": {
             "endlinecolor": "#2a3f5f",
             "gridcolor": "white",
             "linecolor": "white",
             "minorgridcolor": "white",
             "startlinecolor": "#2a3f5f"
            },
            "type": "carpet"
           }
          ],
          "choropleth": [
           {
            "colorbar": {
             "outlinewidth": 0,
             "ticks": ""
            },
            "type": "choropleth"
           }
          ],
          "contour": [
           {
            "colorbar": {
             "outlinewidth": 0,
             "ticks": ""
            },
            "colorscale": [
             [
              0,
              "#0d0887"
             ],
             [
              0.1111111111111111,
              "#46039f"
             ],
             [
              0.2222222222222222,
              "#7201a8"
             ],
             [
              0.3333333333333333,
              "#9c179e"
             ],
             [
              0.4444444444444444,
              "#bd3786"
             ],
             [
              0.5555555555555556,
              "#d8576b"
             ],
             [
              0.6666666666666666,
              "#ed7953"
             ],
             [
              0.7777777777777778,
              "#fb9f3a"
             ],
             [
              0.8888888888888888,
              "#fdca26"
             ],
             [
              1,
              "#f0f921"
             ]
            ],
            "type": "contour"
           }
          ],
          "contourcarpet": [
           {
            "colorbar": {
             "outlinewidth": 0,
             "ticks": ""
            },
            "type": "contourcarpet"
           }
          ],
          "heatmap": [
           {
            "colorbar": {
             "outlinewidth": 0,
             "ticks": ""
            },
            "colorscale": [
             [
              0,
              "#0d0887"
             ],
             [
              0.1111111111111111,
              "#46039f"
             ],
             [
              0.2222222222222222,
              "#7201a8"
             ],
             [
              0.3333333333333333,
              "#9c179e"
             ],
             [
              0.4444444444444444,
              "#bd3786"
             ],
             [
              0.5555555555555556,
              "#d8576b"
             ],
             [
              0.6666666666666666,
              "#ed7953"
             ],
             [
              0.7777777777777778,
              "#fb9f3a"
             ],
             [
              0.8888888888888888,
              "#fdca26"
             ],
             [
              1,
              "#f0f921"
             ]
            ],
            "type": "heatmap"
           }
          ],
          "heatmapgl": [
           {
            "colorbar": {
             "outlinewidth": 0,
             "ticks": ""
            },
            "colorscale": [
             [
              0,
              "#0d0887"
             ],
             [
              0.1111111111111111,
              "#46039f"
             ],
             [
              0.2222222222222222,
              "#7201a8"
             ],
             [
              0.3333333333333333,
              "#9c179e"
             ],
             [
              0.4444444444444444,
              "#bd3786"
             ],
             [
              0.5555555555555556,
              "#d8576b"
             ],
             [
              0.6666666666666666,
              "#ed7953"
             ],
             [
              0.7777777777777778,
              "#fb9f3a"
             ],
             [
              0.8888888888888888,
              "#fdca26"
             ],
             [
              1,
              "#f0f921"
             ]
            ],
            "type": "heatmapgl"
           }
          ],
          "histogram": [
           {
            "marker": {
             "colorbar": {
              "outlinewidth": 0,
              "ticks": ""
             }
            },
            "type": "histogram"
           }
          ],
          "histogram2d": [
           {
            "colorbar": {
             "outlinewidth": 0,
             "ticks": ""
            },
            "colorscale": [
             [
              0,
              "#0d0887"
             ],
             [
              0.1111111111111111,
              "#46039f"
             ],
             [
              0.2222222222222222,
              "#7201a8"
             ],
             [
              0.3333333333333333,
              "#9c179e"
             ],
             [
              0.4444444444444444,
              "#bd3786"
             ],
             [
              0.5555555555555556,
              "#d8576b"
             ],
             [
              0.6666666666666666,
              "#ed7953"
             ],
             [
              0.7777777777777778,
              "#fb9f3a"
             ],
             [
              0.8888888888888888,
              "#fdca26"
             ],
             [
              1,
              "#f0f921"
             ]
            ],
            "type": "histogram2d"
           }
          ],
          "histogram2dcontour": [
           {
            "colorbar": {
             "outlinewidth": 0,
             "ticks": ""
            },
            "colorscale": [
             [
              0,
              "#0d0887"
             ],
             [
              0.1111111111111111,
              "#46039f"
             ],
             [
              0.2222222222222222,
              "#7201a8"
             ],
             [
              0.3333333333333333,
              "#9c179e"
             ],
             [
              0.4444444444444444,
              "#bd3786"
             ],
             [
              0.5555555555555556,
              "#d8576b"
             ],
             [
              0.6666666666666666,
              "#ed7953"
             ],
             [
              0.7777777777777778,
              "#fb9f3a"
             ],
             [
              0.8888888888888888,
              "#fdca26"
             ],
             [
              1,
              "#f0f921"
             ]
            ],
            "type": "histogram2dcontour"
           }
          ],
          "mesh3d": [
           {
            "colorbar": {
             "outlinewidth": 0,
             "ticks": ""
            },
            "type": "mesh3d"
           }
          ],
          "parcoords": [
           {
            "line": {
             "colorbar": {
              "outlinewidth": 0,
              "ticks": ""
             }
            },
            "type": "parcoords"
           }
          ],
          "pie": [
           {
            "automargin": true,
            "type": "pie"
           }
          ],
          "scatter": [
           {
            "marker": {
             "colorbar": {
              "outlinewidth": 0,
              "ticks": ""
             }
            },
            "type": "scatter"
           }
          ],
          "scatter3d": [
           {
            "line": {
             "colorbar": {
              "outlinewidth": 0,
              "ticks": ""
             }
            },
            "marker": {
             "colorbar": {
              "outlinewidth": 0,
              "ticks": ""
             }
            },
            "type": "scatter3d"
           }
          ],
          "scattercarpet": [
           {
            "marker": {
             "colorbar": {
              "outlinewidth": 0,
              "ticks": ""
             }
            },
            "type": "scattercarpet"
           }
          ],
          "scattergeo": [
           {
            "marker": {
             "colorbar": {
              "outlinewidth": 0,
              "ticks": ""
             }
            },
            "type": "scattergeo"
           }
          ],
          "scattergl": [
           {
            "marker": {
             "colorbar": {
              "outlinewidth": 0,
              "ticks": ""
             }
            },
            "type": "scattergl"
           }
          ],
          "scattermapbox": [
           {
            "marker": {
             "colorbar": {
              "outlinewidth": 0,
              "ticks": ""
             }
            },
            "type": "scattermapbox"
           }
          ],
          "scatterpolar": [
           {
            "marker": {
             "colorbar": {
              "outlinewidth": 0,
              "ticks": ""
             }
            },
            "type": "scatterpolar"
           }
          ],
          "scatterpolargl": [
           {
            "marker": {
             "colorbar": {
              "outlinewidth": 0,
              "ticks": ""
             }
            },
            "type": "scatterpolargl"
           }
          ],
          "scatterternary": [
           {
            "marker": {
             "colorbar": {
              "outlinewidth": 0,
              "ticks": ""
             }
            },
            "type": "scatterternary"
           }
          ],
          "surface": [
           {
            "colorbar": {
             "outlinewidth": 0,
             "ticks": ""
            },
            "colorscale": [
             [
              0,
              "#0d0887"
             ],
             [
              0.1111111111111111,
              "#46039f"
             ],
             [
              0.2222222222222222,
              "#7201a8"
             ],
             [
              0.3333333333333333,
              "#9c179e"
             ],
             [
              0.4444444444444444,
              "#bd3786"
             ],
             [
              0.5555555555555556,
              "#d8576b"
             ],
             [
              0.6666666666666666,
              "#ed7953"
             ],
             [
              0.7777777777777778,
              "#fb9f3a"
             ],
             [
              0.8888888888888888,
              "#fdca26"
             ],
             [
              1,
              "#f0f921"
             ]
            ],
            "type": "surface"
           }
          ],
          "table": [
           {
            "cells": {
             "fill": {
              "color": "#EBF0F8"
             },
             "line": {
              "color": "white"
             }
            },
            "header": {
             "fill": {
              "color": "#C8D4E3"
             },
             "line": {
              "color": "white"
             }
            },
            "type": "table"
           }
          ]
         },
         "layout": {
          "annotationdefaults": {
           "arrowcolor": "#2a3f5f",
           "arrowhead": 0,
           "arrowwidth": 1
          },
          "coloraxis": {
           "colorbar": {
            "outlinewidth": 0,
            "ticks": ""
           }
          },
          "colorscale": {
           "diverging": [
            [
             0,
             "#8e0152"
            ],
            [
             0.1,
             "#c51b7d"
            ],
            [
             0.2,
             "#de77ae"
            ],
            [
             0.3,
             "#f1b6da"
            ],
            [
             0.4,
             "#fde0ef"
            ],
            [
             0.5,
             "#f7f7f7"
            ],
            [
             0.6,
             "#e6f5d0"
            ],
            [
             0.7,
             "#b8e186"
            ],
            [
             0.8,
             "#7fbc41"
            ],
            [
             0.9,
             "#4d9221"
            ],
            [
             1,
             "#276419"
            ]
           ],
           "sequential": [
            [
             0,
             "#0d0887"
            ],
            [
             0.1111111111111111,
             "#46039f"
            ],
            [
             0.2222222222222222,
             "#7201a8"
            ],
            [
             0.3333333333333333,
             "#9c179e"
            ],
            [
             0.4444444444444444,
             "#bd3786"
            ],
            [
             0.5555555555555556,
             "#d8576b"
            ],
            [
             0.6666666666666666,
             "#ed7953"
            ],
            [
             0.7777777777777778,
             "#fb9f3a"
            ],
            [
             0.8888888888888888,
             "#fdca26"
            ],
            [
             1,
             "#f0f921"
            ]
           ],
           "sequentialminus": [
            [
             0,
             "#0d0887"
            ],
            [
             0.1111111111111111,
             "#46039f"
            ],
            [
             0.2222222222222222,
             "#7201a8"
            ],
            [
             0.3333333333333333,
             "#9c179e"
            ],
            [
             0.4444444444444444,
             "#bd3786"
            ],
            [
             0.5555555555555556,
             "#d8576b"
            ],
            [
             0.6666666666666666,
             "#ed7953"
            ],
            [
             0.7777777777777778,
             "#fb9f3a"
            ],
            [
             0.8888888888888888,
             "#fdca26"
            ],
            [
             1,
             "#f0f921"
            ]
           ]
          },
          "colorway": [
           "#636efa",
           "#EF553B",
           "#00cc96",
           "#ab63fa",
           "#FFA15A",
           "#19d3f3",
           "#FF6692",
           "#B6E880",
           "#FF97FF",
           "#FECB52"
          ],
          "font": {
           "color": "#2a3f5f"
          },
          "geo": {
           "bgcolor": "white",
           "lakecolor": "white",
           "landcolor": "#E5ECF6",
           "showlakes": true,
           "showland": true,
           "subunitcolor": "white"
          },
          "hoverlabel": {
           "align": "left"
          },
          "hovermode": "closest",
          "mapbox": {
           "style": "light"
          },
          "paper_bgcolor": "white",
          "plot_bgcolor": "#E5ECF6",
          "polar": {
           "angularaxis": {
            "gridcolor": "white",
            "linecolor": "white",
            "ticks": ""
           },
           "bgcolor": "#E5ECF6",
           "radialaxis": {
            "gridcolor": "white",
            "linecolor": "white",
            "ticks": ""
           }
          },
          "scene": {
           "xaxis": {
            "backgroundcolor": "#E5ECF6",
            "gridcolor": "white",
            "gridwidth": 2,
            "linecolor": "white",
            "showbackground": true,
            "ticks": "",
            "zerolinecolor": "white"
           },
           "yaxis": {
            "backgroundcolor": "#E5ECF6",
            "gridcolor": "white",
            "gridwidth": 2,
            "linecolor": "white",
            "showbackground": true,
            "ticks": "",
            "zerolinecolor": "white"
           },
           "zaxis": {
            "backgroundcolor": "#E5ECF6",
            "gridcolor": "white",
            "gridwidth": 2,
            "linecolor": "white",
            "showbackground": true,
            "ticks": "",
            "zerolinecolor": "white"
           }
          },
          "shapedefaults": {
           "line": {
            "color": "#2a3f5f"
           }
          },
          "ternary": {
           "aaxis": {
            "gridcolor": "white",
            "linecolor": "white",
            "ticks": ""
           },
           "baxis": {
            "gridcolor": "white",
            "linecolor": "white",
            "ticks": ""
           },
           "bgcolor": "#E5ECF6",
           "caxis": {
            "gridcolor": "white",
            "linecolor": "white",
            "ticks": ""
           }
          },
          "title": {
           "x": 0.05
          },
          "xaxis": {
           "automargin": true,
           "gridcolor": "white",
           "linecolor": "white",
           "ticks": "",
           "title": {
            "standoff": 15
           },
           "zerolinecolor": "white",
           "zerolinewidth": 2
          },
          "yaxis": {
           "automargin": true,
           "gridcolor": "white",
           "linecolor": "white",
           "ticks": "",
           "title": {
            "standoff": 15
           },
           "zerolinecolor": "white",
           "zerolinewidth": 2
          }
         }
        },
        "title": {
         "text": "Orbit file:DAED_ORB_Lifetime_LLA_MLT_MLat_RAAN00_010s.csv<br>Results file:DAED_ORB_Lifetime_LLA_MLT_MLat_RAAN00_010s_Kp2011.CoverageResults.txt<br><b>Altitude from 115 to 140</b><br>"
        },
        "width": 1200
       }
      },
      "text/html": [
       "<div>\n",
       "        \n",
       "        \n",
       "            <div id=\"117d273c-9fce-4f33-a090-777901847529\" class=\"plotly-graph-div\" style=\"height:1020px; width:1200px;\"></div>\n",
       "            <script type=\"text/javascript\">\n",
       "                require([\"plotly\"], function(Plotly) {\n",
       "                    window.PLOTLYENV=window.PLOTLYENV || {};\n",
       "                    \n",
       "                if (document.getElementById(\"117d273c-9fce-4f33-a090-777901847529\")) {\n",
       "                    Plotly.newPlot(\n",
       "                        '117d273c-9fce-4f33-a090-777901847529',\n",
       "                        [{\"base\": [60], \"marker\": {\"color\": [\"#217ca3\"]}, \"name\": \"<b>Auroral E region, midnight sector</b><br>115-120km : Kp0-2:   5/ 50min<br>120-125km : Kp0-2:  10/ 50min<br>125-130km : Kp0-2:  17/ 50min<br>130-135km : Kp0-2:  32/ 50min<br>135-140km : Kp0-2:  25/ 50min<br>115-123km : Kp2-4:   0/ 30min<br>123-132km : Kp2-4:   0/ 30min<br>132-140km : Kp2-4:   0/ 30min<br>115-140km : Kp4-9:   0/ 20min<br>\", \"opacity\": 0.84, \"r\": [15], \"text\": [\"AEM_L1\"], \"theta\": [270.0], \"type\": \"barpolar\", \"width\": [60]}, {\"base\": [60], \"marker\": {\"color\": [\"#e29930\"]}, \"name\": \"<b>Auroral E region, evening sector</b><br>115-120km : Kp0-2:   0/ 50min<br>120-125km : Kp0-2:   0/ 50min<br>125-130km : Kp0-2:   0/ 50min<br>130-135km : Kp0-2: <b> 55</b>/ 50min<br>135-140km : Kp0-2: <b> 54</b>/ 50min<br>115-123km : Kp2-4:   0/ 30min<br>123-132km : Kp2-4:   0/ 30min<br>132-140km : Kp2-4: <b> 56</b>/ 30min<br>115-140km : Kp4-9:   6/ 20min<br>\", \"opacity\": 0.84, \"r\": [15], \"text\": [\"AEE_L1\"], \"theta\": [180.0], \"type\": \"barpolar\", \"width\": [60]}, {\"base\": [60], \"marker\": {\"color\": [\"#919636\"]}, \"name\": \"<b>Auroral E region, dawn sector</b><br>115-120km : Kp0-2:   0/ 50min<br>120-125km : Kp0-2:   0/ 50min<br>125-130km : Kp0-2:   0/ 50min<br>130-135km : Kp0-2: <b> 63</b>/ 50min<br>135-140km : Kp0-2: <b> 60</b>/ 50min<br>115-123km : Kp2-4:   0/ 30min<br>123-132km : Kp2-4:   0/ 30min<br>132-140km : Kp2-4: <b> 51</b>/ 30min<br>115-140km : Kp4-9:   7/ 20min<br>\", \"opacity\": 0.84, \"r\": [15], \"text\": [\"AED_L1\"], \"theta\": [0.0], \"type\": \"barpolar\", \"width\": [60]}, {\"base\": [-7], \"marker\": {\"color\": [\"#af1c1c\"]}, \"name\": \"<b>Equatorial E-region</b><br>115-123km : Kp0-9:   0/ 10min<br>123-132km : Kp0-9:   0/ 10min<br>132-140km : Kp0-9:   2/ 10min<br>\", \"opacity\": 0.84, \"r\": [14], \"text\": [\"EEJ_A1\"], \"theta\": [82.5], \"type\": \"barpolar\", \"width\": [45]}],\n",
       "                        {\"height\": 1020, \"margin\": {\"b\": 150, \"t\": 150}, \"polar\": {\"angularaxis\": {\"ticktext\": [\"06:00\", \"08:00\", \"10:00\", \"12:00\", \"14:00\", \"16:00\", \"18:00\", \"20:00\", \"22:00\", \"00:00\", \"02:00\", \"04:00\"], \"tickvals\": [0, 30, 60, 90, 120, 150, 180, 210, 240, 270, 300, 330]}, \"bgcolor\": \"Gainsboro\", \"radialaxis\": {\"categoryorder\": \"category descending\", \"range\": [90, -7], \"tickangle\": 90, \"ticktext\": [\"60&#176;\", \"75&#176;\", \"-7&#176;\", \"7&#176;\", \"90&#176;\"], \"tickvals\": [60, 75, -7, 7, 90]}}, \"showlegend\": true, \"template\": {\"data\": {\"bar\": [{\"error_x\": {\"color\": \"#2a3f5f\"}, \"error_y\": {\"color\": \"#2a3f5f\"}, \"marker\": {\"line\": {\"color\": \"#E5ECF6\", \"width\": 0.5}}, \"type\": \"bar\"}], \"barpolar\": [{\"marker\": {\"line\": {\"color\": \"#E5ECF6\", \"width\": 0.5}}, \"type\": \"barpolar\"}], \"carpet\": [{\"aaxis\": {\"endlinecolor\": \"#2a3f5f\", \"gridcolor\": \"white\", \"linecolor\": \"white\", \"minorgridcolor\": \"white\", \"startlinecolor\": \"#2a3f5f\"}, \"baxis\": {\"endlinecolor\": \"#2a3f5f\", \"gridcolor\": \"white\", \"linecolor\": \"white\", \"minorgridcolor\": \"white\", \"startlinecolor\": \"#2a3f5f\"}, \"type\": \"carpet\"}], \"choropleth\": [{\"colorbar\": {\"outlinewidth\": 0, \"ticks\": \"\"}, \"type\": \"choropleth\"}], \"contour\": [{\"colorbar\": {\"outlinewidth\": 0, \"ticks\": \"\"}, \"colorscale\": [[0.0, \"#0d0887\"], [0.1111111111111111, \"#46039f\"], [0.2222222222222222, \"#7201a8\"], [0.3333333333333333, \"#9c179e\"], [0.4444444444444444, \"#bd3786\"], [0.5555555555555556, \"#d8576b\"], [0.6666666666666666, \"#ed7953\"], [0.7777777777777778, \"#fb9f3a\"], [0.8888888888888888, \"#fdca26\"], [1.0, \"#f0f921\"]], \"type\": \"contour\"}], \"contourcarpet\": [{\"colorbar\": {\"outlinewidth\": 0, \"ticks\": \"\"}, \"type\": \"contourcarpet\"}], \"heatmap\": [{\"colorbar\": {\"outlinewidth\": 0, \"ticks\": \"\"}, \"colorscale\": [[0.0, \"#0d0887\"], [0.1111111111111111, \"#46039f\"], [0.2222222222222222, \"#7201a8\"], [0.3333333333333333, \"#9c179e\"], [0.4444444444444444, \"#bd3786\"], [0.5555555555555556, \"#d8576b\"], [0.6666666666666666, \"#ed7953\"], [0.7777777777777778, \"#fb9f3a\"], [0.8888888888888888, \"#fdca26\"], [1.0, \"#f0f921\"]], \"type\": \"heatmap\"}], \"heatmapgl\": [{\"colorbar\": {\"outlinewidth\": 0, \"ticks\": \"\"}, \"colorscale\": [[0.0, \"#0d0887\"], [0.1111111111111111, \"#46039f\"], [0.2222222222222222, \"#7201a8\"], [0.3333333333333333, \"#9c179e\"], [0.4444444444444444, \"#bd3786\"], [0.5555555555555556, \"#d8576b\"], [0.6666666666666666, \"#ed7953\"], [0.7777777777777778, \"#fb9f3a\"], [0.8888888888888888, \"#fdca26\"], [1.0, \"#f0f921\"]], \"type\": \"heatmapgl\"}], \"histogram\": [{\"marker\": {\"colorbar\": {\"outlinewidth\": 0, \"ticks\": \"\"}}, \"type\": \"histogram\"}], \"histogram2d\": [{\"colorbar\": {\"outlinewidth\": 0, \"ticks\": \"\"}, \"colorscale\": [[0.0, \"#0d0887\"], [0.1111111111111111, \"#46039f\"], [0.2222222222222222, \"#7201a8\"], [0.3333333333333333, \"#9c179e\"], [0.4444444444444444, \"#bd3786\"], [0.5555555555555556, \"#d8576b\"], [0.6666666666666666, \"#ed7953\"], [0.7777777777777778, \"#fb9f3a\"], [0.8888888888888888, \"#fdca26\"], [1.0, \"#f0f921\"]], \"type\": \"histogram2d\"}], \"histogram2dcontour\": [{\"colorbar\": {\"outlinewidth\": 0, \"ticks\": \"\"}, \"colorscale\": [[0.0, \"#0d0887\"], [0.1111111111111111, \"#46039f\"], [0.2222222222222222, \"#7201a8\"], [0.3333333333333333, \"#9c179e\"], [0.4444444444444444, \"#bd3786\"], [0.5555555555555556, \"#d8576b\"], [0.6666666666666666, \"#ed7953\"], [0.7777777777777778, \"#fb9f3a\"], [0.8888888888888888, \"#fdca26\"], [1.0, \"#f0f921\"]], \"type\": \"histogram2dcontour\"}], \"mesh3d\": [{\"colorbar\": {\"outlinewidth\": 0, \"ticks\": \"\"}, \"type\": \"mesh3d\"}], \"parcoords\": [{\"line\": {\"colorbar\": {\"outlinewidth\": 0, \"ticks\": \"\"}}, \"type\": \"parcoords\"}], \"pie\": [{\"automargin\": true, \"type\": \"pie\"}], \"scatter\": [{\"marker\": {\"colorbar\": {\"outlinewidth\": 0, \"ticks\": \"\"}}, \"type\": \"scatter\"}], \"scatter3d\": [{\"line\": {\"colorbar\": {\"outlinewidth\": 0, \"ticks\": \"\"}}, \"marker\": {\"colorbar\": {\"outlinewidth\": 0, \"ticks\": \"\"}}, \"type\": \"scatter3d\"}], \"scattercarpet\": [{\"marker\": {\"colorbar\": {\"outlinewidth\": 0, \"ticks\": \"\"}}, \"type\": \"scattercarpet\"}], \"scattergeo\": [{\"marker\": {\"colorbar\": {\"outlinewidth\": 0, \"ticks\": \"\"}}, \"type\": \"scattergeo\"}], \"scattergl\": [{\"marker\": {\"colorbar\": {\"outlinewidth\": 0, \"ticks\": \"\"}}, \"type\": \"scattergl\"}], \"scattermapbox\": [{\"marker\": {\"colorbar\": {\"outlinewidth\": 0, \"ticks\": \"\"}}, \"type\": \"scattermapbox\"}], \"scatterpolar\": [{\"marker\": {\"colorbar\": {\"outlinewidth\": 0, \"ticks\": \"\"}}, \"type\": \"scatterpolar\"}], \"scatterpolargl\": [{\"marker\": {\"colorbar\": {\"outlinewidth\": 0, \"ticks\": \"\"}}, \"type\": \"scatterpolargl\"}], \"scatterternary\": [{\"marker\": {\"colorbar\": {\"outlinewidth\": 0, \"ticks\": \"\"}}, \"type\": \"scatterternary\"}], \"surface\": [{\"colorbar\": {\"outlinewidth\": 0, \"ticks\": \"\"}, \"colorscale\": [[0.0, \"#0d0887\"], [0.1111111111111111, \"#46039f\"], [0.2222222222222222, \"#7201a8\"], [0.3333333333333333, \"#9c179e\"], [0.4444444444444444, \"#bd3786\"], [0.5555555555555556, \"#d8576b\"], [0.6666666666666666, \"#ed7953\"], [0.7777777777777778, \"#fb9f3a\"], [0.8888888888888888, \"#fdca26\"], [1.0, \"#f0f921\"]], \"type\": \"surface\"}], \"table\": [{\"cells\": {\"fill\": {\"color\": \"#EBF0F8\"}, \"line\": {\"color\": \"white\"}}, \"header\": {\"fill\": {\"color\": \"#C8D4E3\"}, \"line\": {\"color\": \"white\"}}, \"type\": \"table\"}]}, \"layout\": {\"annotationdefaults\": {\"arrowcolor\": \"#2a3f5f\", \"arrowhead\": 0, \"arrowwidth\": 1}, \"coloraxis\": {\"colorbar\": {\"outlinewidth\": 0, \"ticks\": \"\"}}, \"colorscale\": {\"diverging\": [[0, \"#8e0152\"], [0.1, \"#c51b7d\"], [0.2, \"#de77ae\"], [0.3, \"#f1b6da\"], [0.4, \"#fde0ef\"], [0.5, \"#f7f7f7\"], [0.6, \"#e6f5d0\"], [0.7, \"#b8e186\"], [0.8, \"#7fbc41\"], [0.9, \"#4d9221\"], [1, \"#276419\"]], \"sequential\": [[0.0, \"#0d0887\"], [0.1111111111111111, \"#46039f\"], [0.2222222222222222, \"#7201a8\"], [0.3333333333333333, \"#9c179e\"], [0.4444444444444444, \"#bd3786\"], [0.5555555555555556, \"#d8576b\"], [0.6666666666666666, \"#ed7953\"], [0.7777777777777778, \"#fb9f3a\"], [0.8888888888888888, \"#fdca26\"], [1.0, \"#f0f921\"]], \"sequentialminus\": [[0.0, \"#0d0887\"], [0.1111111111111111, \"#46039f\"], [0.2222222222222222, \"#7201a8\"], [0.3333333333333333, \"#9c179e\"], [0.4444444444444444, \"#bd3786\"], [0.5555555555555556, \"#d8576b\"], [0.6666666666666666, \"#ed7953\"], [0.7777777777777778, \"#fb9f3a\"], [0.8888888888888888, \"#fdca26\"], [1.0, \"#f0f921\"]]}, \"colorway\": [\"#636efa\", \"#EF553B\", \"#00cc96\", \"#ab63fa\", \"#FFA15A\", \"#19d3f3\", \"#FF6692\", \"#B6E880\", \"#FF97FF\", \"#FECB52\"], \"font\": {\"color\": \"#2a3f5f\"}, \"geo\": {\"bgcolor\": \"white\", \"lakecolor\": \"white\", \"landcolor\": \"#E5ECF6\", \"showlakes\": true, \"showland\": true, \"subunitcolor\": \"white\"}, \"hoverlabel\": {\"align\": \"left\"}, \"hovermode\": \"closest\", \"mapbox\": {\"style\": \"light\"}, \"paper_bgcolor\": \"white\", \"plot_bgcolor\": \"#E5ECF6\", \"polar\": {\"angularaxis\": {\"gridcolor\": \"white\", \"linecolor\": \"white\", \"ticks\": \"\"}, \"bgcolor\": \"#E5ECF6\", \"radialaxis\": {\"gridcolor\": \"white\", \"linecolor\": \"white\", \"ticks\": \"\"}}, \"scene\": {\"xaxis\": {\"backgroundcolor\": \"#E5ECF6\", \"gridcolor\": \"white\", \"gridwidth\": 2, \"linecolor\": \"white\", \"showbackground\": true, \"ticks\": \"\", \"zerolinecolor\": \"white\"}, \"yaxis\": {\"backgroundcolor\": \"#E5ECF6\", \"gridcolor\": \"white\", \"gridwidth\": 2, \"linecolor\": \"white\", \"showbackground\": true, \"ticks\": \"\", \"zerolinecolor\": \"white\"}, \"zaxis\": {\"backgroundcolor\": \"#E5ECF6\", \"gridcolor\": \"white\", \"gridwidth\": 2, \"linecolor\": \"white\", \"showbackground\": true, \"ticks\": \"\", \"zerolinecolor\": \"white\"}}, \"shapedefaults\": {\"line\": {\"color\": \"#2a3f5f\"}}, \"ternary\": {\"aaxis\": {\"gridcolor\": \"white\", \"linecolor\": \"white\", \"ticks\": \"\"}, \"baxis\": {\"gridcolor\": \"white\", \"linecolor\": \"white\", \"ticks\": \"\"}, \"bgcolor\": \"#E5ECF6\", \"caxis\": {\"gridcolor\": \"white\", \"linecolor\": \"white\", \"ticks\": \"\"}}, \"title\": {\"x\": 0.05}, \"xaxis\": {\"automargin\": true, \"gridcolor\": \"white\", \"linecolor\": \"white\", \"ticks\": \"\", \"title\": {\"standoff\": 15}, \"zerolinecolor\": \"white\", \"zerolinewidth\": 2}, \"yaxis\": {\"automargin\": true, \"gridcolor\": \"white\", \"linecolor\": \"white\", \"ticks\": \"\", \"title\": {\"standoff\": 15}, \"zerolinecolor\": \"white\", \"zerolinewidth\": 2}}}, \"title\": {\"text\": \"Orbit file:DAED_ORB_Lifetime_LLA_MLT_MLat_RAAN00_010s.csv<br>Results file:DAED_ORB_Lifetime_LLA_MLT_MLat_RAAN00_010s_Kp2011.CoverageResults.txt<br><b>Altitude from 115 to 140</b><br>\"}, \"width\": 1200},\n",
       "                        {\"responsive\": true}\n",
       "                    ).then(function(){\n",
       "                            \n",
       "var gd = document.getElementById('117d273c-9fce-4f33-a090-777901847529');\n",
       "var x = new MutationObserver(function (mutations, observer) {{\n",
       "        var display = window.getComputedStyle(gd).display;\n",
       "        if (!display || display === 'none') {{\n",
       "            console.log([gd, 'removed!']);\n",
       "            Plotly.purge(gd);\n",
       "            observer.disconnect();\n",
       "        }}\n",
       "}});\n",
       "\n",
       "// Listen for the removal of the full notebook cells\n",
       "var notebookContainer = gd.closest('#notebook-container');\n",
       "if (notebookContainer) {{\n",
       "    x.observe(notebookContainer, {childList: true});\n",
       "}}\n",
       "\n",
       "// Listen for the clearing of the current output cell\n",
       "var outputEl = gd.closest('.output');\n",
       "if (outputEl) {{\n",
       "    x.observe(outputEl, {childList: true});\n",
       "}}\n",
       "\n",
       "                        })\n",
       "                };\n",
       "                });\n",
       "            </script>\n",
       "        </div>"
      ]
     },
     "metadata": {},
     "output_type": "display_data"
    },
    {
     "data": {
      "text/html": [
       "        <script type=\"text/javascript\">\n",
       "        window.PlotlyConfig = {MathJaxConfig: 'local'};\n",
       "        if (window.MathJax) {MathJax.Hub.Config({SVG: {font: \"STIX-Web\"}});}\n",
       "        if (typeof require !== 'undefined') {\n",
       "        require.undef(\"plotly\");\n",
       "        requirejs.config({\n",
       "            paths: {\n",
       "                'plotly': ['https://cdn.plot.ly/plotly-latest.min']\n",
       "            }\n",
       "        });\n",
       "        require(['plotly'], function(Plotly) {\n",
       "            window._Plotly = Plotly;\n",
       "        });\n",
       "        }\n",
       "        </script>\n",
       "        "
      ]
     },
     "metadata": {},
     "output_type": "display_data"
    },
    {
     "data": {
      "application/vnd.plotly.v1+json": {
       "config": {
        "linkText": "Export to plot.ly",
        "plotlyServerURL": "https://plot.ly",
        "showLink": false
       },
       "data": [
        {
         "base": [
          60
         ],
         "marker": {
          "color": [
           "#217ca3"
          ]
         },
         "name": "<b>Auroral F region, midnight sector</b><br>140-185km : Kp0-2: <b>257</b>/ 50min<br>185-230km : Kp0-2: <b>161</b>/ 50min<br>230-275km : Kp0-2: <b>102</b>/ 50min<br>275-320km : Kp0-2: <b> 71</b>/ 50min<br>320-365km : Kp0-2: <b> 73</b>/ 50min<br>365-410km : Kp0-2: <b> 59</b>/ 50min<br>410-455km : Kp0-2: <b> 52</b>/ 50min<br>455-500km : Kp0-2: <b> 53</b>/ 50min<br>140-230km : Kp2-4: <b> 96</b>/ 30min<br>230-320km : Kp2-4: <b> 78</b>/ 30min<br>320-410km : Kp2-4: <b> 54</b>/ 30min<br>410-500km : Kp2-4: <b> 62</b>/ 30min<br>140-260km : Kp4-9:   8/ 20min<br>260-380km : Kp4-9:   1/ 20min<br>380-500km : Kp4-9:   8/ 20min<br>",
         "opacity": 0.84,
         "r": [
          15
         ],
         "text": [
          "AFM_L1"
         ],
         "theta": [
          270
         ],
         "type": "barpolar",
         "width": [
          60
         ]
        },
        {
         "base": [
          -30
         ],
         "marker": {
          "color": [
           "#e29930"
          ]
         },
         "name": "<b>Equatorial Plasma Bubbles</b><br>140-185km : Kp0-9: <b>17450</b>/150min<br>185-230km : Kp0-9: <b>8849</b>/150min<br>230-275km : Kp0-9: <b>6515</b>/150min<br>275-320km : Kp0-9: <b>5404</b>/150min<br>320-365km : Kp0-9: <b>4721</b>/150min<br>365-410km : Kp0-9: <b>4250</b>/150min<br>410-455km : Kp0-9: <b>3923</b>/150min<br>455-500km : Kp0-9: <b>3729</b>/150min<br>",
         "opacity": 0.84,
         "r": [
          60
         ],
         "text": [
          "EPB_A1"
         ],
         "theta": [
          255
         ],
         "type": "barpolar",
         "width": [
          150
         ]
        },
        {
         "base": [
          -60
         ],
         "marker": {
          "color": [
           "#919636"
          ]
         },
         "name": "<b>Sq & midlat F region currents</b><br>140-185km : Kp0-3: <b>43748</b>/150min<br>185-230km : Kp0-3: <b>22908</b>/150min<br>230-275km : Kp0-3: <b>16269</b>/150min<br>275-320km : Kp0-3: <b>13172</b>/150min<br>320-365km : Kp0-3: <b>11192</b>/150min<br>365-410km : Kp0-3: <b>9766</b>/150min<br>410-455km : Kp0-3: <b>8738</b>/150min<br>455-500km : Kp0-3: <b>8150</b>/150min<br>",
         "opacity": 0.84,
         "r": [
          120
         ],
         "text": [
          "SQ_A1"
         ],
         "theta": [
          97.5
         ],
         "type": "barpolar",
         "width": [
          195
         ]
        },
        {
         "base": [
          70
         ],
         "marker": {
          "color": [
           "#af1c1c"
          ]
         },
         "name": "<b>Dayside Cusp F-region</b><br>140-185km : Kp0-2: <b>343</b>/ 50min<br>185-230km : Kp0-2: <b>152</b>/ 50min<br>230-275km : Kp0-2: <b>128</b>/ 50min<br>275-320km : Kp0-2: <b>101</b>/ 50min<br>320-365km : Kp0-2: <b> 94</b>/ 50min<br>365-410km : Kp0-2: <b> 90</b>/ 50min<br>410-455km : Kp0-2: <b> 96</b>/ 50min<br>455-500km : Kp0-2: <b>100</b>/ 50min<br>140-230km : Kp2-4: <b>130</b>/ 30min<br>230-320km : Kp2-4: <b> 56</b>/ 30min<br>320-410km : Kp2-4: <b> 61</b>/ 30min<br>410-500km : Kp2-4: <b> 31</b>/ 30min<br>140-260km : Kp4-9:  11/ 20min<br>260-380km : Kp4-9:   8/ 20min<br>380-500km : Kp4-9:   4/ 20min<br>",
         "opacity": 0.84,
         "r": [
          10
         ],
         "text": [
          "CF_L1"
         ],
         "theta": [
          90
         ],
         "type": "barpolar",
         "width": [
          60
         ]
        },
        {
         "base": [
          70
         ],
         "marker": {
          "color": [
           "#e7552c"
          ]
         },
         "name": "<b>Polar cap F-region</b><br>140-185km : Kp0-2: <b>7330</b>/ 50min<br>185-230km : Kp0-2: <b>4292</b>/ 50min<br>230-275km : Kp0-2: <b>3110</b>/ 50min<br>275-320km : Kp0-2: <b>2638</b>/ 50min<br>320-365km : Kp0-2: <b>2309</b>/ 50min<br>365-410km : Kp0-2: <b>2082</b>/ 50min<br>410-455km : Kp0-2: <b>1918</b>/ 50min<br>455-500km : Kp0-2: <b>1786</b>/ 50min<br>140-230km : Kp2-4: <b>3316</b>/ 30min<br>230-320km : Kp2-4: <b>1921</b>/ 30min<br>320-410km : Kp2-4: <b>1542</b>/ 30min<br>410-500km : Kp2-4: <b>1376</b>/ 30min<br>140-260km : Kp4-9: <b>666</b>/ 20min<br>260-380km : Kp4-9: <b>459</b>/ 20min<br>380-500km : Kp4-9: <b>384</b>/ 20min<br>",
         "opacity": 0.84,
         "r": [
          20
         ],
         "text": [
          "PCF_L1"
         ],
         "theta": [
          270
         ],
         "type": "barpolar",
         "width": [
          300
         ]
        }
       ],
       "layout": {
        "height": 1020,
        "margin": {
         "b": 150,
         "t": 150
        },
        "polar": {
         "angularaxis": {
          "ticktext": [
           "06:00",
           "08:00",
           "10:00",
           "12:00",
           "14:00",
           "16:00",
           "18:00",
           "20:00",
           "22:00",
           "00:00",
           "02:00",
           "04:00"
          ],
          "tickvals": [
           0,
           30,
           60,
           90,
           120,
           150,
           180,
           210,
           240,
           270,
           300,
           330
          ]
         },
         "bgcolor": "Gainsboro",
         "radialaxis": {
          "categoryorder": "category descending",
          "range": [
           90,
           -60
          ],
          "tickangle": 90,
          "ticktext": [
           "60&#176;",
           "75&#176;",
           "-30&#176;",
           "30&#176;",
           "-60&#176;",
           "70&#176;",
           "80&#176;",
           "90&#176;"
          ],
          "tickvals": [
           60,
           75,
           -30,
           30,
           -60,
           70,
           80,
           90
          ]
         }
        },
        "showlegend": true,
        "template": {
         "data": {
          "bar": [
           {
            "error_x": {
             "color": "#2a3f5f"
            },
            "error_y": {
             "color": "#2a3f5f"
            },
            "marker": {
             "line": {
              "color": "#E5ECF6",
              "width": 0.5
             }
            },
            "type": "bar"
           }
          ],
          "barpolar": [
           {
            "marker": {
             "line": {
              "color": "#E5ECF6",
              "width": 0.5
             }
            },
            "type": "barpolar"
           }
          ],
          "carpet": [
           {
            "aaxis": {
             "endlinecolor": "#2a3f5f",
             "gridcolor": "white",
             "linecolor": "white",
             "minorgridcolor": "white",
             "startlinecolor": "#2a3f5f"
            },
            "baxis": {
             "endlinecolor": "#2a3f5f",
             "gridcolor": "white",
             "linecolor": "white",
             "minorgridcolor": "white",
             "startlinecolor": "#2a3f5f"
            },
            "type": "carpet"
           }
          ],
          "choropleth": [
           {
            "colorbar": {
             "outlinewidth": 0,
             "ticks": ""
            },
            "type": "choropleth"
           }
          ],
          "contour": [
           {
            "colorbar": {
             "outlinewidth": 0,
             "ticks": ""
            },
            "colorscale": [
             [
              0,
              "#0d0887"
             ],
             [
              0.1111111111111111,
              "#46039f"
             ],
             [
              0.2222222222222222,
              "#7201a8"
             ],
             [
              0.3333333333333333,
              "#9c179e"
             ],
             [
              0.4444444444444444,
              "#bd3786"
             ],
             [
              0.5555555555555556,
              "#d8576b"
             ],
             [
              0.6666666666666666,
              "#ed7953"
             ],
             [
              0.7777777777777778,
              "#fb9f3a"
             ],
             [
              0.8888888888888888,
              "#fdca26"
             ],
             [
              1,
              "#f0f921"
             ]
            ],
            "type": "contour"
           }
          ],
          "contourcarpet": [
           {
            "colorbar": {
             "outlinewidth": 0,
             "ticks": ""
            },
            "type": "contourcarpet"
           }
          ],
          "heatmap": [
           {
            "colorbar": {
             "outlinewidth": 0,
             "ticks": ""
            },
            "colorscale": [
             [
              0,
              "#0d0887"
             ],
             [
              0.1111111111111111,
              "#46039f"
             ],
             [
              0.2222222222222222,
              "#7201a8"
             ],
             [
              0.3333333333333333,
              "#9c179e"
             ],
             [
              0.4444444444444444,
              "#bd3786"
             ],
             [
              0.5555555555555556,
              "#d8576b"
             ],
             [
              0.6666666666666666,
              "#ed7953"
             ],
             [
              0.7777777777777778,
              "#fb9f3a"
             ],
             [
              0.8888888888888888,
              "#fdca26"
             ],
             [
              1,
              "#f0f921"
             ]
            ],
            "type": "heatmap"
           }
          ],
          "heatmapgl": [
           {
            "colorbar": {
             "outlinewidth": 0,
             "ticks": ""
            },
            "colorscale": [
             [
              0,
              "#0d0887"
             ],
             [
              0.1111111111111111,
              "#46039f"
             ],
             [
              0.2222222222222222,
              "#7201a8"
             ],
             [
              0.3333333333333333,
              "#9c179e"
             ],
             [
              0.4444444444444444,
              "#bd3786"
             ],
             [
              0.5555555555555556,
              "#d8576b"
             ],
             [
              0.6666666666666666,
              "#ed7953"
             ],
             [
              0.7777777777777778,
              "#fb9f3a"
             ],
             [
              0.8888888888888888,
              "#fdca26"
             ],
             [
              1,
              "#f0f921"
             ]
            ],
            "type": "heatmapgl"
           }
          ],
          "histogram": [
           {
            "marker": {
             "colorbar": {
              "outlinewidth": 0,
              "ticks": ""
             }
            },
            "type": "histogram"
           }
          ],
          "histogram2d": [
           {
            "colorbar": {
             "outlinewidth": 0,
             "ticks": ""
            },
            "colorscale": [
             [
              0,
              "#0d0887"
             ],
             [
              0.1111111111111111,
              "#46039f"
             ],
             [
              0.2222222222222222,
              "#7201a8"
             ],
             [
              0.3333333333333333,
              "#9c179e"
             ],
             [
              0.4444444444444444,
              "#bd3786"
             ],
             [
              0.5555555555555556,
              "#d8576b"
             ],
             [
              0.6666666666666666,
              "#ed7953"
             ],
             [
              0.7777777777777778,
              "#fb9f3a"
             ],
             [
              0.8888888888888888,
              "#fdca26"
             ],
             [
              1,
              "#f0f921"
             ]
            ],
            "type": "histogram2d"
           }
          ],
          "histogram2dcontour": [
           {
            "colorbar": {
             "outlinewidth": 0,
             "ticks": ""
            },
            "colorscale": [
             [
              0,
              "#0d0887"
             ],
             [
              0.1111111111111111,
              "#46039f"
             ],
             [
              0.2222222222222222,
              "#7201a8"
             ],
             [
              0.3333333333333333,
              "#9c179e"
             ],
             [
              0.4444444444444444,
              "#bd3786"
             ],
             [
              0.5555555555555556,
              "#d8576b"
             ],
             [
              0.6666666666666666,
              "#ed7953"
             ],
             [
              0.7777777777777778,
              "#fb9f3a"
             ],
             [
              0.8888888888888888,
              "#fdca26"
             ],
             [
              1,
              "#f0f921"
             ]
            ],
            "type": "histogram2dcontour"
           }
          ],
          "mesh3d": [
           {
            "colorbar": {
             "outlinewidth": 0,
             "ticks": ""
            },
            "type": "mesh3d"
           }
          ],
          "parcoords": [
           {
            "line": {
             "colorbar": {
              "outlinewidth": 0,
              "ticks": ""
             }
            },
            "type": "parcoords"
           }
          ],
          "pie": [
           {
            "automargin": true,
            "type": "pie"
           }
          ],
          "scatter": [
           {
            "marker": {
             "colorbar": {
              "outlinewidth": 0,
              "ticks": ""
             }
            },
            "type": "scatter"
           }
          ],
          "scatter3d": [
           {
            "line": {
             "colorbar": {
              "outlinewidth": 0,
              "ticks": ""
             }
            },
            "marker": {
             "colorbar": {
              "outlinewidth": 0,
              "ticks": ""
             }
            },
            "type": "scatter3d"
           }
          ],
          "scattercarpet": [
           {
            "marker": {
             "colorbar": {
              "outlinewidth": 0,
              "ticks": ""
             }
            },
            "type": "scattercarpet"
           }
          ],
          "scattergeo": [
           {
            "marker": {
             "colorbar": {
              "outlinewidth": 0,
              "ticks": ""
             }
            },
            "type": "scattergeo"
           }
          ],
          "scattergl": [
           {
            "marker": {
             "colorbar": {
              "outlinewidth": 0,
              "ticks": ""
             }
            },
            "type": "scattergl"
           }
          ],
          "scattermapbox": [
           {
            "marker": {
             "colorbar": {
              "outlinewidth": 0,
              "ticks": ""
             }
            },
            "type": "scattermapbox"
           }
          ],
          "scatterpolar": [
           {
            "marker": {
             "colorbar": {
              "outlinewidth": 0,
              "ticks": ""
             }
            },
            "type": "scatterpolar"
           }
          ],
          "scatterpolargl": [
           {
            "marker": {
             "colorbar": {
              "outlinewidth": 0,
              "ticks": ""
             }
            },
            "type": "scatterpolargl"
           }
          ],
          "scatterternary": [
           {
            "marker": {
             "colorbar": {
              "outlinewidth": 0,
              "ticks": ""
             }
            },
            "type": "scatterternary"
           }
          ],
          "surface": [
           {
            "colorbar": {
             "outlinewidth": 0,
             "ticks": ""
            },
            "colorscale": [
             [
              0,
              "#0d0887"
             ],
             [
              0.1111111111111111,
              "#46039f"
             ],
             [
              0.2222222222222222,
              "#7201a8"
             ],
             [
              0.3333333333333333,
              "#9c179e"
             ],
             [
              0.4444444444444444,
              "#bd3786"
             ],
             [
              0.5555555555555556,
              "#d8576b"
             ],
             [
              0.6666666666666666,
              "#ed7953"
             ],
             [
              0.7777777777777778,
              "#fb9f3a"
             ],
             [
              0.8888888888888888,
              "#fdca26"
             ],
             [
              1,
              "#f0f921"
             ]
            ],
            "type": "surface"
           }
          ],
          "table": [
           {
            "cells": {
             "fill": {
              "color": "#EBF0F8"
             },
             "line": {
              "color": "white"
             }
            },
            "header": {
             "fill": {
              "color": "#C8D4E3"
             },
             "line": {
              "color": "white"
             }
            },
            "type": "table"
           }
          ]
         },
         "layout": {
          "annotationdefaults": {
           "arrowcolor": "#2a3f5f",
           "arrowhead": 0,
           "arrowwidth": 1
          },
          "coloraxis": {
           "colorbar": {
            "outlinewidth": 0,
            "ticks": ""
           }
          },
          "colorscale": {
           "diverging": [
            [
             0,
             "#8e0152"
            ],
            [
             0.1,
             "#c51b7d"
            ],
            [
             0.2,
             "#de77ae"
            ],
            [
             0.3,
             "#f1b6da"
            ],
            [
             0.4,
             "#fde0ef"
            ],
            [
             0.5,
             "#f7f7f7"
            ],
            [
             0.6,
             "#e6f5d0"
            ],
            [
             0.7,
             "#b8e186"
            ],
            [
             0.8,
             "#7fbc41"
            ],
            [
             0.9,
             "#4d9221"
            ],
            [
             1,
             "#276419"
            ]
           ],
           "sequential": [
            [
             0,
             "#0d0887"
            ],
            [
             0.1111111111111111,
             "#46039f"
            ],
            [
             0.2222222222222222,
             "#7201a8"
            ],
            [
             0.3333333333333333,
             "#9c179e"
            ],
            [
             0.4444444444444444,
             "#bd3786"
            ],
            [
             0.5555555555555556,
             "#d8576b"
            ],
            [
             0.6666666666666666,
             "#ed7953"
            ],
            [
             0.7777777777777778,
             "#fb9f3a"
            ],
            [
             0.8888888888888888,
             "#fdca26"
            ],
            [
             1,
             "#f0f921"
            ]
           ],
           "sequentialminus": [
            [
             0,
             "#0d0887"
            ],
            [
             0.1111111111111111,
             "#46039f"
            ],
            [
             0.2222222222222222,
             "#7201a8"
            ],
            [
             0.3333333333333333,
             "#9c179e"
            ],
            [
             0.4444444444444444,
             "#bd3786"
            ],
            [
             0.5555555555555556,
             "#d8576b"
            ],
            [
             0.6666666666666666,
             "#ed7953"
            ],
            [
             0.7777777777777778,
             "#fb9f3a"
            ],
            [
             0.8888888888888888,
             "#fdca26"
            ],
            [
             1,
             "#f0f921"
            ]
           ]
          },
          "colorway": [
           "#636efa",
           "#EF553B",
           "#00cc96",
           "#ab63fa",
           "#FFA15A",
           "#19d3f3",
           "#FF6692",
           "#B6E880",
           "#FF97FF",
           "#FECB52"
          ],
          "font": {
           "color": "#2a3f5f"
          },
          "geo": {
           "bgcolor": "white",
           "lakecolor": "white",
           "landcolor": "#E5ECF6",
           "showlakes": true,
           "showland": true,
           "subunitcolor": "white"
          },
          "hoverlabel": {
           "align": "left"
          },
          "hovermode": "closest",
          "mapbox": {
           "style": "light"
          },
          "paper_bgcolor": "white",
          "plot_bgcolor": "#E5ECF6",
          "polar": {
           "angularaxis": {
            "gridcolor": "white",
            "linecolor": "white",
            "ticks": ""
           },
           "bgcolor": "#E5ECF6",
           "radialaxis": {
            "gridcolor": "white",
            "linecolor": "white",
            "ticks": ""
           }
          },
          "scene": {
           "xaxis": {
            "backgroundcolor": "#E5ECF6",
            "gridcolor": "white",
            "gridwidth": 2,
            "linecolor": "white",
            "showbackground": true,
            "ticks": "",
            "zerolinecolor": "white"
           },
           "yaxis": {
            "backgroundcolor": "#E5ECF6",
            "gridcolor": "white",
            "gridwidth": 2,
            "linecolor": "white",
            "showbackground": true,
            "ticks": "",
            "zerolinecolor": "white"
           },
           "zaxis": {
            "backgroundcolor": "#E5ECF6",
            "gridcolor": "white",
            "gridwidth": 2,
            "linecolor": "white",
            "showbackground": true,
            "ticks": "",
            "zerolinecolor": "white"
           }
          },
          "shapedefaults": {
           "line": {
            "color": "#2a3f5f"
           }
          },
          "ternary": {
           "aaxis": {
            "gridcolor": "white",
            "linecolor": "white",
            "ticks": ""
           },
           "baxis": {
            "gridcolor": "white",
            "linecolor": "white",
            "ticks": ""
           },
           "bgcolor": "#E5ECF6",
           "caxis": {
            "gridcolor": "white",
            "linecolor": "white",
            "ticks": ""
           }
          },
          "title": {
           "x": 0.05
          },
          "xaxis": {
           "automargin": true,
           "gridcolor": "white",
           "linecolor": "white",
           "ticks": "",
           "title": {
            "standoff": 15
           },
           "zerolinecolor": "white",
           "zerolinewidth": 2
          },
          "yaxis": {
           "automargin": true,
           "gridcolor": "white",
           "linecolor": "white",
           "ticks": "",
           "title": {
            "standoff": 15
           },
           "zerolinecolor": "white",
           "zerolinewidth": 2
          }
         }
        },
        "title": {
         "text": "Orbit file:DAED_ORB_Lifetime_LLA_MLT_MLat_RAAN00_010s.csv<br>Results file:DAED_ORB_Lifetime_LLA_MLT_MLat_RAAN00_010s_Kp2011.CoverageResults.txt<br><b>Altitude from 140 to 500</b><br>"
        },
        "width": 1200
       }
      },
      "text/html": [
       "<div>\n",
       "        \n",
       "        \n",
       "            <div id=\"21e932d2-9ae8-4729-8144-9c8d5be8607c\" class=\"plotly-graph-div\" style=\"height:1020px; width:1200px;\"></div>\n",
       "            <script type=\"text/javascript\">\n",
       "                require([\"plotly\"], function(Plotly) {\n",
       "                    window.PLOTLYENV=window.PLOTLYENV || {};\n",
       "                    \n",
       "                if (document.getElementById(\"21e932d2-9ae8-4729-8144-9c8d5be8607c\")) {\n",
       "                    Plotly.newPlot(\n",
       "                        '21e932d2-9ae8-4729-8144-9c8d5be8607c',\n",
       "                        [{\"base\": [60], \"marker\": {\"color\": [\"#217ca3\"]}, \"name\": \"<b>Auroral F region, midnight sector</b><br>140-185km : Kp0-2: <b>257</b>/ 50min<br>185-230km : Kp0-2: <b>161</b>/ 50min<br>230-275km : Kp0-2: <b>102</b>/ 50min<br>275-320km : Kp0-2: <b> 71</b>/ 50min<br>320-365km : Kp0-2: <b> 73</b>/ 50min<br>365-410km : Kp0-2: <b> 59</b>/ 50min<br>410-455km : Kp0-2: <b> 52</b>/ 50min<br>455-500km : Kp0-2: <b> 53</b>/ 50min<br>140-230km : Kp2-4: <b> 96</b>/ 30min<br>230-320km : Kp2-4: <b> 78</b>/ 30min<br>320-410km : Kp2-4: <b> 54</b>/ 30min<br>410-500km : Kp2-4: <b> 62</b>/ 30min<br>140-260km : Kp4-9:   8/ 20min<br>260-380km : Kp4-9:   1/ 20min<br>380-500km : Kp4-9:   8/ 20min<br>\", \"opacity\": 0.84, \"r\": [15], \"text\": [\"AFM_L1\"], \"theta\": [270.0], \"type\": \"barpolar\", \"width\": [60]}, {\"base\": [-30], \"marker\": {\"color\": [\"#e29930\"]}, \"name\": \"<b>Equatorial Plasma Bubbles</b><br>140-185km : Kp0-9: <b>17450</b>/150min<br>185-230km : Kp0-9: <b>8849</b>/150min<br>230-275km : Kp0-9: <b>6515</b>/150min<br>275-320km : Kp0-9: <b>5404</b>/150min<br>320-365km : Kp0-9: <b>4721</b>/150min<br>365-410km : Kp0-9: <b>4250</b>/150min<br>410-455km : Kp0-9: <b>3923</b>/150min<br>455-500km : Kp0-9: <b>3729</b>/150min<br>\", \"opacity\": 0.84, \"r\": [60], \"text\": [\"EPB_A1\"], \"theta\": [255.0], \"type\": \"barpolar\", \"width\": [150]}, {\"base\": [-60], \"marker\": {\"color\": [\"#919636\"]}, \"name\": \"<b>Sq & midlat F region currents</b><br>140-185km : Kp0-3: <b>43748</b>/150min<br>185-230km : Kp0-3: <b>22908</b>/150min<br>230-275km : Kp0-3: <b>16269</b>/150min<br>275-320km : Kp0-3: <b>13172</b>/150min<br>320-365km : Kp0-3: <b>11192</b>/150min<br>365-410km : Kp0-3: <b>9766</b>/150min<br>410-455km : Kp0-3: <b>8738</b>/150min<br>455-500km : Kp0-3: <b>8150</b>/150min<br>\", \"opacity\": 0.84, \"r\": [120], \"text\": [\"SQ_A1\"], \"theta\": [97.5], \"type\": \"barpolar\", \"width\": [195]}, {\"base\": [70], \"marker\": {\"color\": [\"#af1c1c\"]}, \"name\": \"<b>Dayside Cusp F-region</b><br>140-185km : Kp0-2: <b>343</b>/ 50min<br>185-230km : Kp0-2: <b>152</b>/ 50min<br>230-275km : Kp0-2: <b>128</b>/ 50min<br>275-320km : Kp0-2: <b>101</b>/ 50min<br>320-365km : Kp0-2: <b> 94</b>/ 50min<br>365-410km : Kp0-2: <b> 90</b>/ 50min<br>410-455km : Kp0-2: <b> 96</b>/ 50min<br>455-500km : Kp0-2: <b>100</b>/ 50min<br>140-230km : Kp2-4: <b>130</b>/ 30min<br>230-320km : Kp2-4: <b> 56</b>/ 30min<br>320-410km : Kp2-4: <b> 61</b>/ 30min<br>410-500km : Kp2-4: <b> 31</b>/ 30min<br>140-260km : Kp4-9:  11/ 20min<br>260-380km : Kp4-9:   8/ 20min<br>380-500km : Kp4-9:   4/ 20min<br>\", \"opacity\": 0.84, \"r\": [10], \"text\": [\"CF_L1\"], \"theta\": [90.0], \"type\": \"barpolar\", \"width\": [60]}, {\"base\": [70], \"marker\": {\"color\": [\"#e7552c\"]}, \"name\": \"<b>Polar cap F-region</b><br>140-185km : Kp0-2: <b>7330</b>/ 50min<br>185-230km : Kp0-2: <b>4292</b>/ 50min<br>230-275km : Kp0-2: <b>3110</b>/ 50min<br>275-320km : Kp0-2: <b>2638</b>/ 50min<br>320-365km : Kp0-2: <b>2309</b>/ 50min<br>365-410km : Kp0-2: <b>2082</b>/ 50min<br>410-455km : Kp0-2: <b>1918</b>/ 50min<br>455-500km : Kp0-2: <b>1786</b>/ 50min<br>140-230km : Kp2-4: <b>3316</b>/ 30min<br>230-320km : Kp2-4: <b>1921</b>/ 30min<br>320-410km : Kp2-4: <b>1542</b>/ 30min<br>410-500km : Kp2-4: <b>1376</b>/ 30min<br>140-260km : Kp4-9: <b>666</b>/ 20min<br>260-380km : Kp4-9: <b>459</b>/ 20min<br>380-500km : Kp4-9: <b>384</b>/ 20min<br>\", \"opacity\": 0.84, \"r\": [20], \"text\": [\"PCF_L1\"], \"theta\": [270.0], \"type\": \"barpolar\", \"width\": [300]}],\n",
       "                        {\"height\": 1020, \"margin\": {\"b\": 150, \"t\": 150}, \"polar\": {\"angularaxis\": {\"ticktext\": [\"06:00\", \"08:00\", \"10:00\", \"12:00\", \"14:00\", \"16:00\", \"18:00\", \"20:00\", \"22:00\", \"00:00\", \"02:00\", \"04:00\"], \"tickvals\": [0, 30, 60, 90, 120, 150, 180, 210, 240, 270, 300, 330]}, \"bgcolor\": \"Gainsboro\", \"radialaxis\": {\"categoryorder\": \"category descending\", \"range\": [90, -60], \"tickangle\": 90, \"ticktext\": [\"60&#176;\", \"75&#176;\", \"-30&#176;\", \"30&#176;\", \"-60&#176;\", \"70&#176;\", \"80&#176;\", \"90&#176;\"], \"tickvals\": [60, 75, -30, 30, -60, 70, 80, 90]}}, \"showlegend\": true, \"template\": {\"data\": {\"bar\": [{\"error_x\": {\"color\": \"#2a3f5f\"}, \"error_y\": {\"color\": \"#2a3f5f\"}, \"marker\": {\"line\": {\"color\": \"#E5ECF6\", \"width\": 0.5}}, \"type\": \"bar\"}], \"barpolar\": [{\"marker\": {\"line\": {\"color\": \"#E5ECF6\", \"width\": 0.5}}, \"type\": \"barpolar\"}], \"carpet\": [{\"aaxis\": {\"endlinecolor\": \"#2a3f5f\", \"gridcolor\": \"white\", \"linecolor\": \"white\", \"minorgridcolor\": \"white\", \"startlinecolor\": \"#2a3f5f\"}, \"baxis\": {\"endlinecolor\": \"#2a3f5f\", \"gridcolor\": \"white\", \"linecolor\": \"white\", \"minorgridcolor\": \"white\", \"startlinecolor\": \"#2a3f5f\"}, \"type\": \"carpet\"}], \"choropleth\": [{\"colorbar\": {\"outlinewidth\": 0, \"ticks\": \"\"}, \"type\": \"choropleth\"}], \"contour\": [{\"colorbar\": {\"outlinewidth\": 0, \"ticks\": \"\"}, \"colorscale\": [[0.0, \"#0d0887\"], [0.1111111111111111, \"#46039f\"], [0.2222222222222222, \"#7201a8\"], [0.3333333333333333, \"#9c179e\"], [0.4444444444444444, \"#bd3786\"], [0.5555555555555556, \"#d8576b\"], [0.6666666666666666, \"#ed7953\"], [0.7777777777777778, \"#fb9f3a\"], [0.8888888888888888, \"#fdca26\"], [1.0, \"#f0f921\"]], \"type\": \"contour\"}], \"contourcarpet\": [{\"colorbar\": {\"outlinewidth\": 0, \"ticks\": \"\"}, \"type\": \"contourcarpet\"}], \"heatmap\": [{\"colorbar\": {\"outlinewidth\": 0, \"ticks\": \"\"}, \"colorscale\": [[0.0, \"#0d0887\"], [0.1111111111111111, \"#46039f\"], [0.2222222222222222, \"#7201a8\"], [0.3333333333333333, \"#9c179e\"], [0.4444444444444444, \"#bd3786\"], [0.5555555555555556, \"#d8576b\"], [0.6666666666666666, \"#ed7953\"], [0.7777777777777778, \"#fb9f3a\"], [0.8888888888888888, \"#fdca26\"], [1.0, \"#f0f921\"]], \"type\": \"heatmap\"}], \"heatmapgl\": [{\"colorbar\": {\"outlinewidth\": 0, \"ticks\": \"\"}, \"colorscale\": [[0.0, \"#0d0887\"], [0.1111111111111111, \"#46039f\"], [0.2222222222222222, \"#7201a8\"], [0.3333333333333333, \"#9c179e\"], [0.4444444444444444, \"#bd3786\"], [0.5555555555555556, \"#d8576b\"], [0.6666666666666666, \"#ed7953\"], [0.7777777777777778, \"#fb9f3a\"], [0.8888888888888888, \"#fdca26\"], [1.0, \"#f0f921\"]], \"type\": \"heatmapgl\"}], \"histogram\": [{\"marker\": {\"colorbar\": {\"outlinewidth\": 0, \"ticks\": \"\"}}, \"type\": \"histogram\"}], \"histogram2d\": [{\"colorbar\": {\"outlinewidth\": 0, \"ticks\": \"\"}, \"colorscale\": [[0.0, \"#0d0887\"], [0.1111111111111111, \"#46039f\"], [0.2222222222222222, \"#7201a8\"], [0.3333333333333333, \"#9c179e\"], [0.4444444444444444, \"#bd3786\"], [0.5555555555555556, \"#d8576b\"], [0.6666666666666666, \"#ed7953\"], [0.7777777777777778, \"#fb9f3a\"], [0.8888888888888888, \"#fdca26\"], [1.0, \"#f0f921\"]], \"type\": \"histogram2d\"}], \"histogram2dcontour\": [{\"colorbar\": {\"outlinewidth\": 0, \"ticks\": \"\"}, \"colorscale\": [[0.0, \"#0d0887\"], [0.1111111111111111, \"#46039f\"], [0.2222222222222222, \"#7201a8\"], [0.3333333333333333, \"#9c179e\"], [0.4444444444444444, \"#bd3786\"], [0.5555555555555556, \"#d8576b\"], [0.6666666666666666, \"#ed7953\"], [0.7777777777777778, \"#fb9f3a\"], [0.8888888888888888, \"#fdca26\"], [1.0, \"#f0f921\"]], \"type\": \"histogram2dcontour\"}], \"mesh3d\": [{\"colorbar\": {\"outlinewidth\": 0, \"ticks\": \"\"}, \"type\": \"mesh3d\"}], \"parcoords\": [{\"line\": {\"colorbar\": {\"outlinewidth\": 0, \"ticks\": \"\"}}, \"type\": \"parcoords\"}], \"pie\": [{\"automargin\": true, \"type\": \"pie\"}], \"scatter\": [{\"marker\": {\"colorbar\": {\"outlinewidth\": 0, \"ticks\": \"\"}}, \"type\": \"scatter\"}], \"scatter3d\": [{\"line\": {\"colorbar\": {\"outlinewidth\": 0, \"ticks\": \"\"}}, \"marker\": {\"colorbar\": {\"outlinewidth\": 0, \"ticks\": \"\"}}, \"type\": \"scatter3d\"}], \"scattercarpet\": [{\"marker\": {\"colorbar\": {\"outlinewidth\": 0, \"ticks\": \"\"}}, \"type\": \"scattercarpet\"}], \"scattergeo\": [{\"marker\": {\"colorbar\": {\"outlinewidth\": 0, \"ticks\": \"\"}}, \"type\": \"scattergeo\"}], \"scattergl\": [{\"marker\": {\"colorbar\": {\"outlinewidth\": 0, \"ticks\": \"\"}}, \"type\": \"scattergl\"}], \"scattermapbox\": [{\"marker\": {\"colorbar\": {\"outlinewidth\": 0, \"ticks\": \"\"}}, \"type\": \"scattermapbox\"}], \"scatterpolar\": [{\"marker\": {\"colorbar\": {\"outlinewidth\": 0, \"ticks\": \"\"}}, \"type\": \"scatterpolar\"}], \"scatterpolargl\": [{\"marker\": {\"colorbar\": {\"outlinewidth\": 0, \"ticks\": \"\"}}, \"type\": \"scatterpolargl\"}], \"scatterternary\": [{\"marker\": {\"colorbar\": {\"outlinewidth\": 0, \"ticks\": \"\"}}, \"type\": \"scatterternary\"}], \"surface\": [{\"colorbar\": {\"outlinewidth\": 0, \"ticks\": \"\"}, \"colorscale\": [[0.0, \"#0d0887\"], [0.1111111111111111, \"#46039f\"], [0.2222222222222222, \"#7201a8\"], [0.3333333333333333, \"#9c179e\"], [0.4444444444444444, \"#bd3786\"], [0.5555555555555556, \"#d8576b\"], [0.6666666666666666, \"#ed7953\"], [0.7777777777777778, \"#fb9f3a\"], [0.8888888888888888, \"#fdca26\"], [1.0, \"#f0f921\"]], \"type\": \"surface\"}], \"table\": [{\"cells\": {\"fill\": {\"color\": \"#EBF0F8\"}, \"line\": {\"color\": \"white\"}}, \"header\": {\"fill\": {\"color\": \"#C8D4E3\"}, \"line\": {\"color\": \"white\"}}, \"type\": \"table\"}]}, \"layout\": {\"annotationdefaults\": {\"arrowcolor\": \"#2a3f5f\", \"arrowhead\": 0, \"arrowwidth\": 1}, \"coloraxis\": {\"colorbar\": {\"outlinewidth\": 0, \"ticks\": \"\"}}, \"colorscale\": {\"diverging\": [[0, \"#8e0152\"], [0.1, \"#c51b7d\"], [0.2, \"#de77ae\"], [0.3, \"#f1b6da\"], [0.4, \"#fde0ef\"], [0.5, \"#f7f7f7\"], [0.6, \"#e6f5d0\"], [0.7, \"#b8e186\"], [0.8, \"#7fbc41\"], [0.9, \"#4d9221\"], [1, \"#276419\"]], \"sequential\": [[0.0, \"#0d0887\"], [0.1111111111111111, \"#46039f\"], [0.2222222222222222, \"#7201a8\"], [0.3333333333333333, \"#9c179e\"], [0.4444444444444444, \"#bd3786\"], [0.5555555555555556, \"#d8576b\"], [0.6666666666666666, \"#ed7953\"], [0.7777777777777778, \"#fb9f3a\"], [0.8888888888888888, \"#fdca26\"], [1.0, \"#f0f921\"]], \"sequentialminus\": [[0.0, \"#0d0887\"], [0.1111111111111111, \"#46039f\"], [0.2222222222222222, \"#7201a8\"], [0.3333333333333333, \"#9c179e\"], [0.4444444444444444, \"#bd3786\"], [0.5555555555555556, \"#d8576b\"], [0.6666666666666666, \"#ed7953\"], [0.7777777777777778, \"#fb9f3a\"], [0.8888888888888888, \"#fdca26\"], [1.0, \"#f0f921\"]]}, \"colorway\": [\"#636efa\", \"#EF553B\", \"#00cc96\", \"#ab63fa\", \"#FFA15A\", \"#19d3f3\", \"#FF6692\", \"#B6E880\", \"#FF97FF\", \"#FECB52\"], \"font\": {\"color\": \"#2a3f5f\"}, \"geo\": {\"bgcolor\": \"white\", \"lakecolor\": \"white\", \"landcolor\": \"#E5ECF6\", \"showlakes\": true, \"showland\": true, \"subunitcolor\": \"white\"}, \"hoverlabel\": {\"align\": \"left\"}, \"hovermode\": \"closest\", \"mapbox\": {\"style\": \"light\"}, \"paper_bgcolor\": \"white\", \"plot_bgcolor\": \"#E5ECF6\", \"polar\": {\"angularaxis\": {\"gridcolor\": \"white\", \"linecolor\": \"white\", \"ticks\": \"\"}, \"bgcolor\": \"#E5ECF6\", \"radialaxis\": {\"gridcolor\": \"white\", \"linecolor\": \"white\", \"ticks\": \"\"}}, \"scene\": {\"xaxis\": {\"backgroundcolor\": \"#E5ECF6\", \"gridcolor\": \"white\", \"gridwidth\": 2, \"linecolor\": \"white\", \"showbackground\": true, \"ticks\": \"\", \"zerolinecolor\": \"white\"}, \"yaxis\": {\"backgroundcolor\": \"#E5ECF6\", \"gridcolor\": \"white\", \"gridwidth\": 2, \"linecolor\": \"white\", \"showbackground\": true, \"ticks\": \"\", \"zerolinecolor\": \"white\"}, \"zaxis\": {\"backgroundcolor\": \"#E5ECF6\", \"gridcolor\": \"white\", \"gridwidth\": 2, \"linecolor\": \"white\", \"showbackground\": true, \"ticks\": \"\", \"zerolinecolor\": \"white\"}}, \"shapedefaults\": {\"line\": {\"color\": \"#2a3f5f\"}}, \"ternary\": {\"aaxis\": {\"gridcolor\": \"white\", \"linecolor\": \"white\", \"ticks\": \"\"}, \"baxis\": {\"gridcolor\": \"white\", \"linecolor\": \"white\", \"ticks\": \"\"}, \"bgcolor\": \"#E5ECF6\", \"caxis\": {\"gridcolor\": \"white\", \"linecolor\": \"white\", \"ticks\": \"\"}}, \"title\": {\"x\": 0.05}, \"xaxis\": {\"automargin\": true, \"gridcolor\": \"white\", \"linecolor\": \"white\", \"ticks\": \"\", \"title\": {\"standoff\": 15}, \"zerolinecolor\": \"white\", \"zerolinewidth\": 2}, \"yaxis\": {\"automargin\": true, \"gridcolor\": \"white\", \"linecolor\": \"white\", \"ticks\": \"\", \"title\": {\"standoff\": 15}, \"zerolinecolor\": \"white\", \"zerolinewidth\": 2}}}, \"title\": {\"text\": \"Orbit file:DAED_ORB_Lifetime_LLA_MLT_MLat_RAAN00_010s.csv<br>Results file:DAED_ORB_Lifetime_LLA_MLT_MLat_RAAN00_010s_Kp2011.CoverageResults.txt<br><b>Altitude from 140 to 500</b><br>\"}, \"width\": 1200},\n",
       "                        {\"responsive\": true}\n",
       "                    ).then(function(){\n",
       "                            \n",
       "var gd = document.getElementById('21e932d2-9ae8-4729-8144-9c8d5be8607c');\n",
       "var x = new MutationObserver(function (mutations, observer) {{\n",
       "        var display = window.getComputedStyle(gd).display;\n",
       "        if (!display || display === 'none') {{\n",
       "            console.log([gd, 'removed!']);\n",
       "            Plotly.purge(gd);\n",
       "            observer.disconnect();\n",
       "        }}\n",
       "}});\n",
       "\n",
       "// Listen for the removal of the full notebook cells\n",
       "var notebookContainer = gd.closest('#notebook-container');\n",
       "if (notebookContainer) {{\n",
       "    x.observe(notebookContainer, {childList: true});\n",
       "}}\n",
       "\n",
       "// Listen for the clearing of the current output cell\n",
       "var outputEl = gd.closest('.output');\n",
       "if (outputEl) {{\n",
       "    x.observe(outputEl, {childList: true});\n",
       "}}\n",
       "\n",
       "                        })\n",
       "                };\n",
       "                });\n",
       "            </script>\n",
       "        </div>"
      ]
     },
     "metadata": {},
     "output_type": "display_data"
    }
   ],
   "source": [
    "import sys\n",
    "sys.path.insert(1, '../../SourceCode/')\n",
    "import DaedalusGlobals as DaedalusGlobals\n",
    "\n",
    "from os import path\n",
    "\n",
    "import csv\n",
    "import glob\n",
    "import math\n",
    "import time\n",
    "import datetime\n",
    "import numpy as np \n",
    "import pandas as pd\n",
    "import ipywidgets as w\n",
    "\n",
    "import plotly\n",
    "import chart_studio.plotly as py \n",
    "import plotly.graph_objects as go\n",
    "import matplotlib.cm\n",
    "\n",
    "# Holds the Geomagnetic kp Indices. \n",
    "# Accessing examples: GeomagneticIndices[(\"23\", \"05\", \"2011\", \"0\")] stores the kp index for 23-05-2001 00:00-03:00\n",
    "#                     GeomagneticIndices[(\"23\", \"05\", \"2011\", \"3\")] stores the kp index for 23-05-2001 09:00-12:00\n",
    "GeomagneticIndices = dict()\n",
    "\n",
    "# colors used at plotting\n",
    "MyColors = [\"#217ca3\", \"#e29930\", \"#919636\", \"#af1c1c\", \"#e7552c\", \"#1b4b5a\", \"#e4535e\", \"#aebd38\", \"#ffbb00\", \"#2c7873\"]\n",
    "\n",
    "# GUI elements with global scope\n",
    "style1 = {'description_width':'170px'}\n",
    "layout1 = {'width':'780px'}\n",
    "style2 = {'description_width':'95px'}\n",
    "layout2 = {'width':'160px'}\n",
    "ExecutionTitle_Text = w.Text(value=\"\", description='Execution title:', style=style1, layout=layout1)\n",
    "ExecutionDescr_Text = w.Text(value=\"\", description='Execution description:', style=style1, layout=layout1)\n",
    "OrbitFilenames_Dropdown = w.Dropdown( options=sorted(glob.glob(DaedalusGlobals.Orbit_Files_Path + \"DAED_ORB_Lifetime*.csv\")), description='Orbit files: ', style=style1, layout=layout1)\n",
    "Years_Dropdown = w.Dropdown( value=2011, options=range(1932,2016),  description='Use Kp indices from year:', style=style1, layout=layout1)\n",
    "SavedFilenames_Dropdown = w.Dropdown( options=sorted(glob.glob(DaedalusGlobals.CoverageResults_Files_Path + \"*.CoverageResults.txt\")),  description='', style=style1, layout=layout1)\n",
    "PlotBars_Checkbox    = w.Checkbox(value=True,  description=\"Create Bars-Chart for each Magnetic Latitude\", style=style1, layout=layout1 )\n",
    "PlotPolar_Checkbox   = w.Checkbox(value=True,  description=\"Create Polar-Chart for each Altitude region\", style=style1, layout=layout1 )\n",
    "PlotKpScatter_Checkbox = w.Checkbox(value=False, description=\"Create Scatter-Chart of Kp-values for mission lifetime (Heavy)\", style=style1, layout=layout1 )\n",
    "PlotKpScatter_fromAlt  = w.IntText(value=0, description='From Alt.(km):', style=style2, layout=layout2)\n",
    "PlotKpScatter_toAlt    = w.IntText(value=200, description='To Alt.(km):', style=style2, layout=layout2)\n",
    "\n",
    "# Properties of the current coverage calculation\n",
    "COVERAGE_Title = \"\"\n",
    "COVERAGE_Description =\"\"\n",
    "COVERAGE_OrbitFilename = \"\"\n",
    "COVERAGE_ResultsFilename = \"\"\n",
    "COVERAGE_KpStartYear = \"\"\n",
    "\n",
    "\n",
    "# utility: converts a number to its 2-digit string representation\n",
    "def num_to_2digit_str( n ):\n",
    "    s = str(n)\n",
    "    if len(s) == 1:\n",
    "        s = '0' + s\n",
    "    return s\n",
    "\n",
    "# utility: takes a string containing numbers and places spaces instead of the leading zeros \n",
    "def ConvertLeadingZerosToSpaces( str ):\n",
    "    result = \"\"\n",
    "    leading_zone = True\n",
    "    for c in str:\n",
    "        if leading_zone:\n",
    "            if c == '0':\n",
    "                result = result + ' '\n",
    "            else:\n",
    "                result = result + c\n",
    "                leading_zone = False\n",
    "        else:\n",
    "            result = result + c\n",
    "    if result.strip().startswith('.')  and  result.startswith(' '): result = result[:result.rfind(' ')] + '0' + result.strip()\n",
    "    if result.strip() == \"\": result = result[ :-1 ] + '0'\n",
    "    if (result.startswith('.')) : result = '0' + result            \n",
    "    return result\n",
    "            \n",
    "        \n",
    "\n",
    "# utility: returns a color of a colormap as list of r,g,b,a values representing a value inside a range\n",
    "def getColor( Value, minValue, maxValue, ColormapName ):\n",
    "    cmap = matplotlib.cm.get_cmap( ColormapName )\n",
    "    norm = matplotlib.colors.Normalize(vmin=minValue, vmax=maxValue)\n",
    "    rgba = cmap( norm(Value) )\n",
    "    s = \"rgba\" + str(rgba) \n",
    "    return s\n",
    "\n",
    "# Define a class which can describe a bin\n",
    "class Bin:\n",
    "    ID             = \"\"\n",
    "    Description    = \"\"\n",
    "    MLT_min        = 0 # Mean Local Time (hour & min of the 24-hour day) (string)\n",
    "    MLT_max        = 0 # Mean Local Time (hour & min of the 24-hour day) (string)\n",
    "    MagLat_min     = 0 # Magnetic Latitude (degrees)\n",
    "    MagLat_max     = 0 # Magnetic Latitude (degrees)\n",
    "    Altitude_min   = 0 # Satellite's Altitude measured from Earth's surface (km)\n",
    "    Altitude_max   = 0 # Satellite's Altitude measured from Earth's surface (km)\n",
    "    Kp_min         = 0 #\n",
    "    Kp_max         = 0 #\n",
    "    NumOfBins      = 0 # How many parts will the Altitude range be splitted in\n",
    "    CumulativeTime = 0 # (sec)\n",
    "    DesirableCumulativeTime = 0 # (sec)\n",
    "    \n",
    "    def __init__(self, ID, Description, MLT_min, MLT_max, MagLat_min, MagLat_max, Altitude_min, Altitude_max, Kp_min, Kp_max, DesirableCumulativeTime):\n",
    "        self.ID             = ID\n",
    "        self.Description    = Description\n",
    "        self.MLT_min        = MLT_min \n",
    "        self.MLT_max        = MLT_max\n",
    "        self.MagLat_min     = MagLat_min\n",
    "        self.MagLat_max     = MagLat_max\n",
    "        self.Altitude_min   = Altitude_min\n",
    "        self.Altitude_max   = Altitude_max\n",
    "        self.Kp_min         = Kp_min\n",
    "        self.Kp_max         = Kp_max\n",
    "        self.DesirableCumulativeTime = DesirableCumulativeTime\n",
    "        \n",
    "    def getInfo(self):\n",
    "        s  = self.ID.ljust(8, ' ') + \": \"\n",
    "        s += \"{:02.0f}\".format(self.MLT_min)      + \"<MLT<=\"    + \"{:02.0f}\".format(self.MLT_max)      + \" \"\n",
    "        s += \"{:03.0f}\".format(self.MagLat_min)   + \"<MagLat<=\" + \"{:03.0f}\".format(self.MagLat_max)   + \" \"\n",
    "        s += \"{:03.0f}\".format(self.Altitude_min) + \"<Alt<=\"    + \"{:03.0f}\".format(self.Altitude_max) + \" \"\n",
    "        s += str(self.Kp_min)             + \"<Kp<=\"     + str(self.Kp_max)       + \" \"\n",
    "        s += \"Coverage=\" \n",
    "        s += ConvertLeadingZerosToSpaces( \"{:09.3f}\".format(self.CumulativeTime/60) ) + \"/\" \n",
    "        s += ConvertLeadingZerosToSpaces( \"{:06.2f}\".format(self.DesirableCumulativeTime/60) ) + \"min \"\n",
    "        s += ConvertLeadingZerosToSpaces( \"{:08.0f}\".format(self.CumulativeTime) ) + \"/\" \n",
    "        s += ConvertLeadingZerosToSpaces( \"{:05.0f}\".format(self.DesirableCumulativeTime) ) + \"sec\"\n",
    "        return s\n",
    "    \n",
    "    def printMe(self):\n",
    "        print( self.getInfo() )\n",
    "\n",
    "# this list holds the definitions of all bins\n",
    "Bins = list()\n",
    "#                ID        Description                          MLT      MagLat    Altitude                Kp       DesiredTime(sec)\n",
    "Bins.append( Bin(\"AEM_L1\", \"Auroral E region, midnight sector\", 22, 2,   60, 75,   115, 120,               0, 2,   50*60 ) )\n",
    "Bins.append( Bin(\"AEM_L2\", \"Auroral E region, midnight sector\", 22, 2,   60, 75,   120, 125,               0, 2,   50*60 ) )\n",
    "Bins.append( Bin(\"AEM_L3\", \"Auroral E region, midnight sector\", 22, 2,   60, 75,   125, 130,               0, 2,   50*60 ) )\n",
    "Bins.append( Bin(\"AEM_L4\", \"Auroral E region, midnight sector\", 22, 2,   60, 75,   130, 135,               0, 2,   50*60 ) )\n",
    "Bins.append( Bin(\"AEM_L5\", \"Auroral E region, midnight sector\", 22, 2,   60, 75,   135, 140,               0, 2,   50*60 ) )\n",
    "Bins.append( Bin(\"AEM_M1\", \"Auroral E region, midnight sector\", 22, 2,   60, 75,   115,       123.33333,   2, 4,   30*60 ) )\n",
    "Bins.append( Bin(\"AEM_M2\", \"Auroral E region, midnight sector\", 22, 2,   60, 75,   123.33333, 131.66666,   2, 4,   30*60 ) )\n",
    "Bins.append( Bin(\"AEM_M3\", \"Auroral E region, midnight sector\", 22, 2,   60, 75,   131.66666, 140,         2, 4,   30*60 ) )\n",
    "Bins.append( Bin(\"AEM_H1\", \"Auroral E region, midnight sector\", 22, 2,   60, 75,   115, 140,               4, 9,   20*60 ) )\n",
    "\n",
    "Bins.append( Bin(\"AFM_L1\", \"Auroral F region, midnight sector\", 22, 2,   60, 75,   140, 185,               0, 2,   50*60 ) )\n",
    "Bins.append( Bin(\"AFM_L2\", \"Auroral F region, midnight sector\", 22, 2,   60, 75,   185, 230,               0, 2,   50*60 ) )\n",
    "Bins.append( Bin(\"AFM_L3\", \"Auroral F region, midnight sector\", 22, 2,   60, 75,   230, 275,               0, 2,   50*60 ) )\n",
    "Bins.append( Bin(\"AFM_L4\", \"Auroral F region, midnight sector\", 22, 2,   60, 75,   275, 320,               0, 2,   50*60 ) )\n",
    "Bins.append( Bin(\"AFM_L5\", \"Auroral F region, midnight sector\", 22, 2,   60, 75,   320, 365,               0, 2,   50*60 ) )\n",
    "Bins.append( Bin(\"AFM_L6\", \"Auroral F region, midnight sector\", 22, 2,   60, 75,   365, 410,               0, 2,   50*60 ) )\n",
    "Bins.append( Bin(\"AFM_L7\", \"Auroral F region, midnight sector\", 22, 2,   60, 75,   410, 455,               0, 2,   50*60 ) )\n",
    "Bins.append( Bin(\"AFM_L8\", \"Auroral F region, midnight sector\", 22, 2,   60, 75,   455, 500,               0, 2,   50*60 ) )\n",
    "Bins.append( Bin(\"AFM_M1\", \"Auroral F region, midnight sector\", 22, 2,   60, 75,   140, 230,               2, 4,   30*60 ) )\n",
    "Bins.append( Bin(\"AFM_M2\", \"Auroral F region, midnight sector\", 22, 2,   60, 75,   230, 320,               2, 4,   30*60 ) )\n",
    "Bins.append( Bin(\"AFM_M3\", \"Auroral F region, midnight sector\", 22, 2,   60, 75,   320, 410,               2, 4,   30*60 ) )\n",
    "Bins.append( Bin(\"AFM_M4\", \"Auroral F region, midnight sector\", 22, 2,   60, 75,   410, 500,               2, 4,   30*60 ) )\n",
    "Bins.append( Bin(\"AFM_H1\", \"Auroral F region, midnight sector\", 22, 2,   60, 75,   140, 260,               4, 9,   20*60 ) )\n",
    "Bins.append( Bin(\"AFM_H2\", \"Auroral F region, midnight sector\", 22, 2,   60, 75,   260, 380,               4, 9,   20*60 ) )\n",
    "Bins.append( Bin(\"AFM_H3\", \"Auroral F region, midnight sector\", 22, 2,   60, 75,   380, 500,               4, 9,   20*60 ) )\n",
    "\n",
    "Bins.append( Bin(\"AEE_L1\", \"Auroral E region, evening sector\",  16, 20,  60, 75,   115, 120,               0, 2,   50*60 ) )\n",
    "Bins.append( Bin(\"AEE_L2\", \"Auroral E region, evening sector\",  16, 20,  60, 75,   120, 125,               0, 2,   50*60 ) )\n",
    "Bins.append( Bin(\"AEE_L3\", \"Auroral E region, evening sector\",  16, 20,  60, 75,   125, 130,               0, 2,   50*60 ) )\n",
    "Bins.append( Bin(\"AEE_L4\", \"Auroral E region, evening sector\",  16, 20,  60, 75,   130, 135,               0, 2,   50*60 ) )\n",
    "Bins.append( Bin(\"AEE_L5\", \"Auroral E region, evening sector\",  16, 20,  60, 75,   135, 140,               0, 2,   50*60 ) )\n",
    "Bins.append( Bin(\"AEE_M1\", \"Auroral E region, evening sector\",  16, 20,  60, 75,   115,       123.33333,   2, 4,   30*60 ) )\n",
    "Bins.append( Bin(\"AEE_M2\", \"Auroral E region, evening sector\",  16, 20,  60, 75,   123.33333, 131.66666,   2, 4,   30*60 ) )\n",
    "Bins.append( Bin(\"AEE_M3\", \"Auroral E region, evening sector\",  16, 20,  60, 75,   131.66666, 140,         2, 4,   30*60 ) )\n",
    "Bins.append( Bin(\"AEE_H1\", \"Auroral E region, evening sector\",  16, 20,  60, 75,   115, 140,               4, 9,   20*60 ) )\n",
    "\n",
    "Bins.append( Bin(\"AED_L1\", \"Auroral E region, dawn sector\",     4, 8,  60, 75,   115, 120,                 0, 2,   50*60 ) )\n",
    "Bins.append( Bin(\"AED_L2\", \"Auroral E region, dawn sector\",     4, 8,  60, 75,   120, 125,                 0, 2,   50*60 ) )\n",
    "Bins.append( Bin(\"AED_L3\", \"Auroral E region, dawn sector\",     4, 8,  60, 75,   125, 130,                 0, 2,   50*60 ) )\n",
    "Bins.append( Bin(\"AED_L4\", \"Auroral E region, dawn sector\",     4, 8,  60, 75,   130, 135,                 0, 2,   50*60 ) )\n",
    "Bins.append( Bin(\"AED_L5\", \"Auroral E region, dawn sector\",     4, 8,  60, 75,   135, 140,                 0, 2,   50*60 ) )\n",
    "Bins.append( Bin(\"AED_M1\", \"Auroral E region, dawn sector\",     4, 8,  60, 75,   115,       123.33333,     2, 4,   30*60 ) )\n",
    "Bins.append( Bin(\"AED_M2\", \"Auroral E region, dawn sector\",     4, 8,  60, 75,   123.33333, 131.66666,     2, 4,   30*60 ) )\n",
    "Bins.append( Bin(\"AED_M3\", \"Auroral E region, dawn sector\",     4, 8,  60, 75,   131.66666, 140,           2, 4,   30*60 ) )\n",
    "Bins.append( Bin(\"AED_H1\", \"Auroral E region, dawn sector\",     4, 8,  60, 75,   115, 140,                 4, 9,   20*60 ) )\n",
    "\n",
    "Bins.append( Bin(\"EEJ_A1\", \"Equatorial E-region\",             10, 13,  -7,  7,   115,       123.33333,     0, 9,   10*60 ) )\n",
    "Bins.append( Bin(\"EEJ_A2\", \"Equatorial E-region\",             10, 13,  -7,  7,   123.33333, 131.66666,     0, 9,   10*60 ) )\n",
    "Bins.append( Bin(\"EEJ_A3\", \"Equatorial E-region\",             10, 13,  -7,  7,   131.66666, 140,           0, 9,   10*60 ) )\n",
    "\n",
    "Bins.append( Bin(\"EPB_A1\", \"Equatorial Plasma Bubbles\",       18,  4, -30, 30,   140, 185,                  0, 9,   150*60 ) )\n",
    "Bins.append( Bin(\"EPB_A2\", \"Equatorial Plasma Bubbles\",       18,  4, -30, 30,   185, 230,                  0, 9,   150*60 ) )\n",
    "Bins.append( Bin(\"EPB_A3\", \"Equatorial Plasma Bubbles\",       18,  4, -30, 30,   230, 275,                  0, 9,   150*60 ) )\n",
    "Bins.append( Bin(\"EPB_A4\", \"Equatorial Plasma Bubbles\",       18,  4, -30, 30,   275, 320,                  0, 9,   150*60 ) )\n",
    "Bins.append( Bin(\"EPB_A5\", \"Equatorial Plasma Bubbles\",       18,  4, -30, 30,   320, 365,                  0, 9,   150*60 ) )\n",
    "Bins.append( Bin(\"EPB_A6\", \"Equatorial Plasma Bubbles\",       18,  4, -30, 30,   365, 410,                  0, 9,   150*60 ) )\n",
    "Bins.append( Bin(\"EPB_A7\", \"Equatorial Plasma Bubbles\",       18,  4, -30, 30,   410, 455,                  0, 9,   150*60 ) )\n",
    "Bins.append( Bin(\"EPB_A8\", \"Equatorial Plasma Bubbles\",       18,  4, -30, 30,   455, 500,                  0, 9,   150*60 ) )\n",
    "\n",
    "Bins.append( Bin(\"SQ_A1\",  \"Sq & midlat F region currents\",    6, 19, -60, 60,   140, 185,                  0, 3,   150*60 ) )\n",
    "Bins.append( Bin(\"SQ_A2\",  \"Sq & midlat F region currents\",    6, 19, -60, 60,   185, 230,                  0, 3,   150*60 ) )\n",
    "Bins.append( Bin(\"SQ_A3\",  \"Sq & midlat F region currents\",    6, 19, -60, 60,   230, 275,                  0, 3,   150*60 ) )\n",
    "Bins.append( Bin(\"SQ_A4\",  \"Sq & midlat F region currents\",    6, 19, -60, 60,   275, 320,                  0, 3,   150*60 ) )\n",
    "Bins.append( Bin(\"SQ_A5\",  \"Sq & midlat F region currents\",    6, 19, -60, 60,   320, 365,                  0, 3,   150*60 ) )\n",
    "Bins.append( Bin(\"SQ_A6\",  \"Sq & midlat F region currents\",    6, 19, -60, 60,   365, 410,                  0, 3,   150*60 ) )\n",
    "Bins.append( Bin(\"SQ_A7\",  \"Sq & midlat F region currents\",    6, 19, -60, 60,   410, 455,                  0, 3,   150*60 ) )\n",
    "Bins.append( Bin(\"SQ_A8\",  \"Sq & midlat F region currents\",    6, 19, -60, 60,   455, 500,                  0, 3,   150*60 ) )\n",
    "\n",
    "Bins.append( Bin(\"CF_L1\", \"Dayside Cusp F-region\",            10, 14,   70,  80,   140, 185,                0, 2,   50*60 ) )\n",
    "Bins.append( Bin(\"CF_L2\", \"Dayside Cusp F-region\",            10, 14,   70,  80,   185, 230,                0, 2,   50*60 ) )\n",
    "Bins.append( Bin(\"CF_L3\", \"Dayside Cusp F-region\",            10, 14,   70,  80,   230, 275,                0, 2,   50*60 ) )\n",
    "Bins.append( Bin(\"CF_L4\", \"Dayside Cusp F-region\",            10, 14,   70,  80,   275, 320,                0, 2,   50*60 ) )\n",
    "Bins.append( Bin(\"CF_L5\", \"Dayside Cusp F-region\",            10, 14,   70,  80,   320, 365,                0, 2,   50*60 ) )\n",
    "Bins.append( Bin(\"CF_L6\", \"Dayside Cusp F-region\",            10, 14,   70,  80,   365, 410,                0, 2,   50*60 ) )\n",
    "Bins.append( Bin(\"CF_L7\", \"Dayside Cusp F-region\",            10, 14,   70,  80,   410, 455,                0, 2,   50*60 ) )\n",
    "Bins.append( Bin(\"CF_L8\", \"Dayside Cusp F-region\",            10, 14,   70,  80,   455, 500,                0, 2,   50*60 ) )\n",
    "Bins.append( Bin(\"CF_M1\", \"Dayside Cusp F-region\",            10, 14,   70,  80,   140, 230,               2, 4,   30*60 ) )\n",
    "Bins.append( Bin(\"CF_M2\", \"Dayside Cusp F-region\",            10, 14,   70,  80,   230, 320,               2, 4,   30*60 ) )\n",
    "Bins.append( Bin(\"CF_M3\", \"Dayside Cusp F-region\",            10, 14,   70,  80,   320, 410,               2, 4,   30*60 ) )\n",
    "Bins.append( Bin(\"CF_M4\", \"Dayside Cusp F-region\",            10, 14,   70,  80,   410, 500,               2, 4,   30*60 ) )\n",
    "Bins.append( Bin(\"CF_H1\", \"Dayside Cusp F-region\",            10, 14,   70,  80,   140, 260,               4, 9,   20*60 ) )\n",
    "Bins.append( Bin(\"CF_H2\", \"Dayside Cusp F-region\",            10, 14,   70,  80,   260, 380,               4, 9,   20*60 ) )\n",
    "Bins.append( Bin(\"CF_H3\", \"Dayside Cusp F-region\",            10, 14,   70,  80,   380, 500,               4, 9,   20*60 ) )\n",
    "\n",
    "Bins.append( Bin(\"PCF_L1\", \"Polar cap F-region\",              14, 10,   70,  90,   140, 185,               0, 2,   50*60 ) )\n",
    "Bins.append( Bin(\"PCF_L2\", \"Polar cap F-region\",              14, 10,   70,  90,   185, 230,               0, 2,   50*60 ) )\n",
    "Bins.append( Bin(\"PCF_L3\", \"Polar cap F-region\",              14, 10,   70,  90,   230, 275,               0, 2,   50*60 ) )\n",
    "Bins.append( Bin(\"PCF_L4\", \"Polar cap F-region\",              14, 10,   70,  90,   275, 320,               0, 2,   50*60 ) )\n",
    "Bins.append( Bin(\"PCF_L5\", \"Polar cap F-region\",              14, 10,   70,  90,   320, 365,               0, 2,   50*60 ) )\n",
    "Bins.append( Bin(\"PCF_L6\", \"Polar cap F-region\",              14, 10,   70,  90,   365, 410,               0, 2,   50*60 ) )\n",
    "Bins.append( Bin(\"PCF_L7\", \"Polar cap F-region\",              14, 10,   70,  90,   410, 455,               0, 2,   50*60 ) )\n",
    "Bins.append( Bin(\"PCF_L8\", \"Polar cap F-region\",              14, 10,   70,  90,   455, 500,               0, 2,   50*60 ) )\n",
    "Bins.append( Bin(\"PCF_M1\", \"Polar cap F-region\",              14, 10,   70,  90,   140, 230,               2, 4,   30*60 ) )\n",
    "Bins.append( Bin(\"PCF_M2\", \"Polar cap F-region\",              14, 10,   70,  90,   230, 320,               2, 4,   30*60 ) )\n",
    "Bins.append( Bin(\"PCF_M3\", \"Polar cap F-region\",              14, 10,   70,  90,   320, 410,               2, 4,   30*60 ) )\n",
    "Bins.append( Bin(\"PCF_M4\", \"Polar cap F-region\",              14, 10,   70,  90,   410, 500,               2, 4,   30*60 ) )\n",
    "Bins.append( Bin(\"PCF_H1\", \"Polar cap F-region\",              14, 10,   70,  90,   140, 260,               4, 9,   20*60 ) )\n",
    "Bins.append( Bin(\"PCF_H2\", \"Polar cap F-region\",              14, 10,   70,  90,   260, 380,               4, 9,   20*60 ) )\n",
    "Bins.append( Bin(\"PCF_H3\", \"Polar cap F-region\",              14, 10,   70,  90,   380, 500,               4, 9,   20*60 ) )\n",
    "\n",
    "\n",
    "\n",
    "def createBinsForTheWholeEarth():\n",
    "    n = 1\n",
    "    for Kp_min in [0, 2, 4]:\n",
    "        if Kp_min == 0:\n",
    "            Kp_max = 2\n",
    "        elif Kp_min == 2:\n",
    "            Kp_max = 4\n",
    "        elif Kp_min == 4:\n",
    "            Kp_max = 9\n",
    "        ####\n",
    "        for MLT_min in range(0, 24, 4):\n",
    "            for MagLat_min in range(-180, 180, 20):\n",
    "                for Alt_min in range(115, 250, 25):\n",
    "                    n = n + 1\n",
    "                    Bins.append( Bin(\"E\"+str(n), \"\",            MLT_min, MLT_min+4,   MagLat_min, MagLat_min+15,   Alt_min, Alt_min+25,               Kp_min, Kp_max,   20*60 ) )                    \n",
    "    print ( len(Bins) + \" Bins covering the whole Earth.\")    \n",
    "#createBinsForTheWholeEarth()\n",
    "\n",
    "# cheks if certain MLT lies in a certain range. Created in order to take account ranges like 22-2\n",
    "def is_MLT_inside_range( MLT, MLT_min, MLT_max ):\n",
    "    if MLT_min <= MLT_max: # example: from 13 to 18 hour\n",
    "        return (MLT > MLT_min  and  MLT <= MLT_max)\n",
    "    else: # example: from 22 to 3 hour\n",
    "        return (MLT > MLT_min  or   MLT <= MLT_max)\n",
    "\n",
    "# returns: the bin object which matches the arguments\n",
    "def GetMatchedBin( MLT, MagLat, Altitude, Kp ):\n",
    "    MatchedBin = None\n",
    "    for B in Bins:\n",
    "        Kp_min_to_check = B.Kp_min\n",
    "        if Kp_min_to_check == 0: Kp_min_to_check = -1\n",
    "        ####\n",
    "        if is_MLT_inside_range(MLT, B.MLT_min, B.MLT_max):\n",
    "            if         MagLat   > B.MagLat_min    and  MagLat   <= B.MagLat_max:\n",
    "                if     Altitude > B.Altitude_min  and  Altitude <= B.Altitude_max:\n",
    "                    if Kp       > Kp_min_to_check and  Kp       <= B.Kp_max:\n",
    "                        MatchedBin = B\n",
    "                        break\n",
    "    return MatchedBin\n",
    "\n",
    "\n",
    "# returns: the bin object which matches the arguments\n",
    "def getBinByItsProperties( MLT_min, MLT_max, MagLat_min, MagLat_max, Altitude_min, Altitude_max, Kp_min, Kp_max ):\n",
    "    CorrectBin = None\n",
    "    for B in Bins:\n",
    "        if             MLT_min      == B.MLT_min       and  MLT_max      == B.MLT_max:\n",
    "            if         MagLat_min   == B.MagLat_min    and  MagLat_max   == B.MagLat_max:\n",
    "                if     Altitude_min == B.Altitude_min  and  Altitude_max == B.Altitude_max:\n",
    "                    if Kp_min       == B.Kp_min        and  Kp_max       == B.Kp_max:\n",
    "                        CorrectBin = B\n",
    "                        break\n",
    "    return CorrectBin\n",
    "\n",
    "\n",
    "# Reads the Geomagnetic kp Indices from text files and stores them in a dictionary.\n",
    "# Data Source (explanation): https://www.ngdc.noaa.gov/stp/GEOMAG/kp_ap.html\n",
    "# Data Source (download)   : ftp://ftp.ngdc.noaa.gov/STP/GEOMAGNETIC_DATA/INDICES/KP_AP\n",
    "def readGeomagneticIndices(fromYear, toYear):\n",
    "    global GeomagneticIndices\n",
    "    for Y in range(fromYear, toYear): # this range should be small for execution speed\n",
    "        with open(DaedalusGlobals.GeomagneticIndices_Files_Path + str(Y)) as fp:\n",
    "            for line in fp:\n",
    "                year  = \"20\" + line[0:2]\n",
    "                month = line[2:4]\n",
    "                day   = line[4:6]\n",
    "                kp00  = float(line[12:14]) / 10\n",
    "                kp03  = float(line[14:16]) / 10\n",
    "                kp06  = float(line[16:18]) / 10\n",
    "                kp09  = float(line[18:20]) / 10\n",
    "                kp12  = float(line[20:22]) / 10\n",
    "                kp15  = float(line[22:24]) / 10\n",
    "                kp18  = float(line[24:26]) / 10\n",
    "                kp21  = float(line[26:28]) / 10\n",
    "                GeomagneticIndices[(day, month, year, \"0\")] = kp00\n",
    "                GeomagneticIndices[(day, month, year, \"1\")] = kp03\n",
    "                GeomagneticIndices[(day, month, year, \"2\")] = kp06\n",
    "                GeomagneticIndices[(day, month, year, \"3\")] = kp09\n",
    "                GeomagneticIndices[(day, month, year, \"4\")] = kp12\n",
    "                GeomagneticIndices[(day, month, year, \"5\")] = kp15\n",
    "                GeomagneticIndices[(day, month, year, \"6\")] = kp18\n",
    "                GeomagneticIndices[(day, month, year, \"7\")] = kp21\n",
    "            fp.close()\n",
    "        \n",
    "# returns: 1. how many bin misses occured\n",
    "#          2. how many bin hits occured\n",
    "#          3. the filename where the coverage results are stored\n",
    "#          4. the duration of execution in seconds\n",
    "def CalculateCoverage():\n",
    "    SelectedOrbit_OnlyFilename = OrbitFilenames_Dropdown.value[OrbitFilenames_Dropdown.value.rfind(\"/\")+1:OrbitFilenames_Dropdown.value.rfind(\".\")]\n",
    "    ResultsFilename = DaedalusGlobals.CoverageResults_Files_Path + SelectedOrbit_OnlyFilename + \".CoverageResults.txt\"    \n",
    "    # init the properties of the current coverage calculation\n",
    "    global COVERAGE_Title, COVERAGE_Description, COVERAGE_OrbitFilename, COVERAGE_ResultsFilename, COVERAGE_KpStartYear\n",
    "    COVERAGE_Title           = ExecutionTitle_Text.value\n",
    "    COVERAGE_Description     = ExecutionDescr_Text.value\n",
    "    COVERAGE_OrbitFilename   = OrbitFilenames_Dropdown.value\n",
    "    COVERAGE_ResultsFilename = ResultsFilename\n",
    "    COVERAGE_KpStartYear     = str(Years_Dropdown.value)\n",
    "    ####\n",
    "    Kp = 0\n",
    "    startSecs = time.time()\n",
    "    BinMisses = BinHits = 0\n",
    "    PREV_time  = CURR_time  = None\n",
    "    PREV_BinID = CURR_BinID = \"\"\n",
    "    if path.exists( ResultsFilename ):\n",
    "        print( \"File \" + ResultsFilename + \" already exists. Cannot continue in order to prevent overwriting useful data.\" )\n",
    "        return 0, 0, \"\", 0 # <<<<\n",
    "    ########\n",
    "    with open( COVERAGE_OrbitFilename ) as CSVfile:        \n",
    "        CSVreader = csv.reader( CSVfile )\n",
    "        # locate the column numnbers of interest inside the csv file\n",
    "        CSVheader = next( CSVreader )\n",
    "        Time_idx     = CSVheader.index( \"Time (UTCG)\" ) #CSVheader.index( \"Daedalus.EpochText\" )\n",
    "        Lat_idx      = CSVheader.index( \"Lat (deg)\" ) #CSVheader.index( \"Daedalus.Latitude\" )\n",
    "        Lon_idx      = CSVheader.index( \"Lon (deg)\" ) #CSVheader.index( \"Daedalus.Longitude\" )\n",
    "        Altitude_idx = CSVheader.index( \"Alt (km)\" ) #CSVheader.index( \"Daedalus.Height\" )\n",
    "        MagLat_idx   = CSVheader.index( \"Daedalus.Magnetic Latitude\" )\n",
    "        MLT_idx      = CSVheader.index( \"Daedalus.MLT\" )\n",
    "        # read the satellite positions and try to fill the bins\n",
    "        n = 0\n",
    "        for row in CSVreader: # for each satellite position\n",
    "            n = n + 1\n",
    "            PREV_time = CURR_time\n",
    "            # parse the date-time of this satellite position\n",
    "            CURR_time = datetime.datetime.strptime(row[Time_idx], '%d %b %Y %H:%M:%S.%f')\n",
    "            year  = CURR_time.year\n",
    "            month = CURR_time.month\n",
    "            day   = CURR_time.day\n",
    "            hour  = CURR_time.hour\n",
    "            # calculate the Kp index for this particular time\n",
    "            try:\n",
    "                Kp = GeomagneticIndices[(num_to_2digit_str(day), num_to_2digit_str(month), num_to_2digit_str(Years_Dropdown.value+year-2028), str(hour//3))]\n",
    "            except:\n",
    "                if month==2 and day==29: # the leap years may correspond to non-leap years at the selected range of years for Kp calculation\n",
    "                    Kp = GeomagneticIndices[(num_to_2digit_str(28), num_to_2digit_str(month), num_to_2digit_str(Years_Dropdown.value+year-2028), str(hour//3))]\n",
    "            # remember some useful properties of this satellite position\n",
    "            MLT      = float( row[MLT_idx] )\n",
    "            MagLat   = float( row[MagLat_idx] )\n",
    "            Altitude = float( row[Altitude_idx] )\n",
    "            # Check if the satellite position can be assigned to a bin\n",
    "            mathedBin = GetMatchedBin( MLT, MagLat, Altitude, Kp )\n",
    "            # If the satellite is inside a bin during the last 2 positions then calculate the duration\n",
    "            PREV_BinID = CURR_BinID\n",
    "            if mathedBin is None:\n",
    "                CURR_BinID = \"\"\n",
    "            else:\n",
    "                CURR_BinID = mathedBin.ID            \n",
    "            if len(CURR_BinID) > 0  and  CURR_BinID == PREV_BinID:\n",
    "                BinHits = BinHits + 1\n",
    "                DurationInsideBin = (CURR_time - PREV_time).seconds\n",
    "                mathedBin.CumulativeTime += DurationInsideBin \n",
    "            elif len(CURR_BinID) > 0:\n",
    "                BinMisses = BinMisses + 1\n",
    "    # calculate duration of execution\n",
    "    finishSecs = time.time()\n",
    "    DurationOfExecution = finishSecs-startSecs\n",
    "    # Save the results in a text file\n",
    "    nowstr = datetime.datetime.now().strftime(\"%d-%m-%Y %H:%M:%S\")    \n",
    "    F = open(ResultsFilename, 'w')\n",
    "    F.write( \"# -- COVERAGE RESULTS -- \" + \"\\n\"  )\n",
    "    F.write( \"# Date of execution: \" + nowstr + \"\\n\" )\n",
    "    F.write( \"# Title: \" + COVERAGE_Title + \"\\n\" )\n",
    "    F.write( \"# Description: \" + COVERAGE_Description + \"\\n\")\n",
    "    F.write( \"# Parsed \" + str(n) + \" lines from orbit file \" + COVERAGE_OrbitFilename + \"\\n\")\n",
    "    F.write( \"# Used Kp indices starting from year \" + COVERAGE_KpStartYear + \"\\n\")\n",
    "    F.write( \"# Bin Misses: \" + str(BinMisses) + \"     Bin Hits: \" + str(BinHits) + \"\\n\")\n",
    "    F.write( \"# Duration of execution: \" + ConvertLeadingZerosToSpaces(\"{0:.0f}\".format(DurationOfExecution)) + \" seconds  or  \" + ConvertLeadingZerosToSpaces(\"{0:.2f}\".format(DurationOfExecution/60))  + \" minutes\" + \"\\n\" )\n",
    "    F.write( \"# \" + \"\\n\")    \n",
    "    for B in Bins:\n",
    "        F.write( B.getInfo() + \"\\n\" )\n",
    "    F.close()\n",
    "    #\n",
    "    return BinMisses, BinHits, ResultsFilename, DurationOfExecution\n",
    "\n",
    "        \n",
    "\n",
    "#################### EVENT LISTENERS ###########################\n",
    "def Exec_Btn_Clicked( b ):\n",
    "    print( \"Coverage Calculation started.\" )\n",
    "    readGeomagneticIndices( Years_Dropdown.value, Years_Dropdown.value+4 )\n",
    "    BinMisses, BinHits, ResultsFilename, Duration = CalculateCoverage()\n",
    "    if len(ResultsFilename) > 0:\n",
    "        print( \"Coverage Calculation finshed in \" + str(Duration) + \" seconds, with \" + str(BinMisses) + \" bin misses, \" + str(BinHits) + \" bin hits.\" )\n",
    "        print( \"RESULTS (stored in \" + ResultsFilename + \"):\" )\n",
    "        for B in Bins:\n",
    "            B.printMe()\n",
    "        if PlotBars_Checkbox.value      == True: PlotBins_Rectangles()\n",
    "        if PlotPolar_Checkbox.value     == True: PlotBins_Polar()\n",
    "        if PlotKpScatter_Checkbox.value == True: PlotBins_KpScatter(OrbitFilenames_Dropdown.value, int(Years_Dropdown.value), PlotKpScatter_fromAlt.value, PlotKpScatter_toAlt.value )\n",
    "def Load_Btn_Clicked( b ):\n",
    "    global COVERAGE_Title, COVERAGE_Description, COVERAGE_OrbitFilename, COVERAGE_ResultsFilename, COVERAGE_KpStartYear\n",
    "    if len(SavedFilenames_Dropdown.value) > 0:\n",
    "        COVERAGE_ResultsFilename = ResultsFilename = SavedFilenames_Dropdown.value\n",
    "        with open(COVERAGE_ResultsFilename, 'r') as F:\n",
    "            for line in F:\n",
    "                if line[0:1] == '#': # this line contains a comment, print it as it is.\n",
    "                    print ( line[1:len(line)-1] )\n",
    "                    if line.startswith(\"# Title:\"): COVERAGE_Title = line[8:].strip()\n",
    "                    if line.startswith(\"# Description:\"): COVERAGE_Description = line[14:].strip()\n",
    "                    if line.startswith(\"# Parsed\"): COVERAGE_OrbitFilename = line[line.find(\"orbit file\")+11:].strip()\n",
    "                    if line.startswith(\"# Used Kp\"): COVERAGE_KpStartYear = line[37:].strip()\n",
    "                else: # this line contains bin info, print it and store them in the correct bin.\n",
    "                    print ( line[:len(line)-1] )\n",
    "                    aBinID = line[:line.find(\":\")].strip()\n",
    "                    secondsInBin = float( line[line.rfind(\"min\")+3:line.rfind(\"/\")] )\n",
    "                    for B in Bins:\n",
    "                        if B.ID == aBinID:\n",
    "                            B.CumulativeTime = secondsInBin\n",
    "                            break\n",
    "        F.close()\n",
    "        ##\n",
    "        readGeomagneticIndices( int(COVERAGE_KpStartYear), int(COVERAGE_KpStartYear)+4)\n",
    "        if PlotBars_Checkbox.value      == True: PlotBins_Rectangles()\n",
    "        if PlotPolar_Checkbox.value     == True: PlotBins_Polar()\n",
    "        if PlotKpScatter_Checkbox.value == True: PlotBins_KpScatter(COVERAGE_OrbitFilename, int(COVERAGE_KpStartYear), PlotKpScatter_fromAlt.value, PlotKpScatter_toAlt.value)\n",
    "################################################################\n",
    "def createGUI():\n",
    "    ## the top level visual elements\n",
    "    MainTab = w.Tab() \n",
    "    CalcCoveragePanel = w.VBox()\n",
    "    LoadCoveragePanel = w.VBox()\n",
    "    ## the checkboxes which allow user to select which plots he wants to create\n",
    "    PlotSelectionPanel = w.VBox()\n",
    "    PlotSelectionPanel.children = [PlotBars_Checkbox, PlotPolar_Checkbox, w.HBox([PlotKpScatter_Checkbox,PlotKpScatter_fromAlt,PlotKpScatter_toAlt])]\n",
    "    ##\n",
    "    MainTab.children = [ CalcCoveragePanel,    LoadCoveragePanel ]\n",
    "    MainTab.set_title(0, 'Calculate Coverage')\n",
    "    MainTab.set_title(1, 'Load Coverage')\n",
    "    ## \n",
    "    Exec_Btn = w.Button (description='Calculate Coverage',tooltip=\"Click here to calculate the Daedalus coverage results\",)\n",
    "    Exec_Btn.style.button_color = 'MediumTurquoise'\n",
    "    Exec_Btn.on_click( Exec_Btn_Clicked )\n",
    "    CalcCoveragePanel.children = [OrbitFilenames_Dropdown, ExecutionTitle_Text, ExecutionDescr_Text, Years_Dropdown, PlotSelectionPanel, Exec_Btn ]\n",
    "    ##\n",
    "    Load_Btn = w.Button (description='Load Coverage from',tooltip=\"Click here to plot the Daedalus coverage results\",)\n",
    "    Load_Btn.style.button_color = 'YellowGreen'\n",
    "    Load_Btn.on_click( Load_Btn_Clicked )\n",
    "    L2_horizontal = w.HBox()\n",
    "    L2_horizontal.children = [Load_Btn, SavedFilenames_Dropdown]\n",
    "    LoadCoveragePanel.children = [ w.HBox([Load_Btn, SavedFilenames_Dropdown]), PlotSelectionPanel ]\n",
    "    return MainTab\n",
    "        \n",
    "    \n",
    "\n",
    "\n",
    "def PlotBins_Rectangles():\n",
    "    ColumnWidth = 80\n",
    "            \n",
    "    All_MagLatRanges = list()\n",
    "    for B in Bins:\n",
    "        if [B.MagLat_min, B.MagLat_max] not in All_MagLatRanges:\n",
    "            All_MagLatRanges.append( [B.MagLat_min, B.MagLat_max] )            \n",
    "    \n",
    "    for aMagLatRange in All_MagLatRanges:\n",
    "        # We will create one plot for each MagLatRange \n",
    "        fig = go.Figure()\n",
    "        # init\n",
    "        Xposition = 20\n",
    "        XaxisTickPositions = list()\n",
    "        XaxisTickLabels = list()\n",
    "        TheLowestAltitudeInThePlot  = 10000\n",
    "        TheHighestAltitudeInThePlot = 0\n",
    "        \n",
    "        # find out all MLT ranges for this MagLat range\n",
    "        All_MLTRanges = list()\n",
    "        tickValues = list()\n",
    "        for B in Bins:\n",
    "            if B.MagLat_min==aMagLatRange[0] and  B.MagLat_max==aMagLatRange[1]:\n",
    "                # remember all Latitudes in order to display them as tick values on the y axis\n",
    "                if B.Altitude_min not in tickValues: tickValues.append( B.Altitude_min )\n",
    "                if B.Altitude_max not in tickValues: tickValues.append( B.Altitude_max )\n",
    "                #\n",
    "                if [B.MLT_min, B.MLT_max] not in All_MLTRanges:\n",
    "                    All_MLTRanges.append( [B.MLT_min, B.MLT_max] )\n",
    "        \n",
    "        # find out all Kp ranges for this MagLat range and this MLTrange \n",
    "        for aMLTrange in All_MLTRanges:\n",
    "            All_KpRanges = list()\n",
    "            for B in Bins:\n",
    "                if B.MagLat_min==aMagLatRange[0] and  B.MagLat_max==aMagLatRange[1]:\n",
    "                    if B.MLT_min==aMLTrange[0] and  B.MLT_max==aMLTrange[1]:\n",
    "                        if [B.Kp_min, B.Kp_max] not in All_KpRanges:\n",
    "                            All_KpRanges.append( [B.Kp_min, B.Kp_max] )\n",
    "\n",
    "            # find out all Altitude ranges for this MagLat range, this MLT range and this Kp range            \n",
    "            for aKpRange in All_KpRanges:\n",
    "                XaxisTickPositions.append( Xposition + ColumnWidth/2 )\n",
    "                XaxisTickLabels.append( \"Kp \" + str(aKpRange[0]) + \"-\" + str(aKpRange[1]) + \"<br>\" + str(aMLTrange[0]) + \"-\" + str(aMLTrange[1]) )\n",
    "                ####\n",
    "                All_AltitudeRanges = list()\n",
    "                for B in Bins:\n",
    "                    if B.MagLat_min==aMagLatRange[0] and  B.MagLat_max==aMagLatRange[1]:\n",
    "                        if B.MLT_min==aMLTrange[0] and  B.MLT_max==aMLTrange[1]:\n",
    "                            if B.Kp_min==aKpRange[0] and  B.Kp_max==aKpRange[1]:\n",
    "                                All_AltitudeRanges.append( [B.Altitude_min, B.Altitude_max] )\n",
    "                                # calculate the range of the Y axis\n",
    "                                if B.Altitude_min<TheLowestAltitudeInThePlot: TheLowestAltitudeInThePlot=B.Altitude_min\n",
    "                                if B.Altitude_max>TheHighestAltitudeInThePlot: TheHighestAltitudeInThePlot=B.Altitude_max\n",
    "            \n",
    "                # create one figure per altitude range\n",
    "                for anAltitudeRange in All_AltitudeRanges:\n",
    "                    currentBin = getBinByItsProperties( aMLTrange[0], aMLTrange[1], aMagLatRange[0], aMagLatRange[1], anAltitudeRange[0], anAltitudeRange[1], aKpRange[0], aKpRange[1] )\n",
    "                    fig.add_shape(go.layout.Shape(\n",
    "                        type=\"rect\", xref=\"x\", yref=\"y\", \n",
    "                        x0=Xposition, y0=currentBin.Altitude_min, x1=Xposition+ColumnWidth, y1=currentBin.Altitude_max,\n",
    "                        line=dict( color=\"RoyalBlue\", width=3,), fillcolor=getColor(currentBin.CumulativeTime, 0, currentBin.DesirableCumulativeTime, \"Blues\"), opacity=0.8, \n",
    "                    ))\n",
    "                    BinTitle = currentBin.ID + \"<br>\" + \"{:3.0f}\".format(currentBin.CumulativeTime/60) +  \" / \" + \"{:2.0f}\".format(currentBin.DesirableCumulativeTime/60)\n",
    "                    fig.add_trace(go.Scatter(x=[Xposition + ColumnWidth/2],y=[(currentBin.Altitude_max+currentBin.Altitude_min)/2],text=[BinTitle],mode=\"text\", ))\n",
    "                Xposition += ColumnWidth + 10\n",
    "            Xposition += 28\n",
    "        \n",
    "        FigureTitle = \"\"\n",
    "        if COVERAGE_Title.strip() != \"\": FigureTitle += COVERAGE_Title + \"  -- \"\n",
    "        FigureTitle += \"Kp indices start from year \" + COVERAGE_KpStartYear + \"<br>\"\n",
    "        FigureTitle += \"Orbit file:\" + COVERAGE_OrbitFilename[COVERAGE_OrbitFilename.rfind('/')+1:] + \"<br>\" \n",
    "        FigureTitle += \"Results file:\" + COVERAGE_ResultsFilename[COVERAGE_ResultsFilename.rfind('/')+1:] + \"<br>\"\n",
    "        FigureTitle += \"<b>Magnetic Latitudes from \" + str(aMagLatRange[0]) + \"&#176; to \" + str(aMagLatRange[1]) + \"&#176;\" + \"</b>\" + \"<br>\"\n",
    "        #FigureTitle += \"(boxes contain minutes of cummulative time the satellite spends inside each bin)\"\n",
    "        fig.update_layout(width=1100, height=1640, showlegend=False, title=FigureTitle,\n",
    "                          xaxis_title=\"Kp index range<br>Magnetic Local Time range\", yaxis_title=\"Altitude (km)\", \n",
    "                          margin=go.layout.Margin(b=150,t=150), \n",
    "                          colorscale=dict(sequential='Blues') ) \n",
    "        # add a colorbar\n",
    "        fig.add_trace(go.Scatter( x=[0,0], y=[0,0], opacity=0,  mode=\"markers\",\n",
    "            marker=dict(colorscale=\"Blues\", color=[0,100], colorbar=dict(tickvals=[0,100], ticktext=['empty','full'] ),),\n",
    "        ))\n",
    "        \n",
    "        fig.update_xaxes(range=[0, Xposition-10], showgrid=False)\n",
    "        fig.update_xaxes( tickmode = 'array', tickvals=XaxisTickPositions,  ticktext=XaxisTickLabels )\n",
    "        #fig.update_yaxes(type=\"log\", range=[2.055, 2.71], tickvals=tickValues ) \n",
    "        fig.update_yaxes(type=\"log\", range=[ math.log(TheLowestAltitudeInThePlot,10)-0.004, math.log(TheHighestAltitudeInThePlot,10)+0.008], tickvals=tickValues ) \n",
    "        plotly.offline.init_notebook_mode(connected=True)\n",
    "        plotly.offline.iplot(fig) \n",
    "        \n",
    "        \n",
    "        \n",
    "        \n",
    "        \n",
    "def PlotBins_Polar():\n",
    "    PlotBackgroundColor = \"Gainsboro\"\n",
    "    MyColorsIndex = 0\n",
    "    AltitudeREGIONS = [ [115,140], [140,500] ]\n",
    "    \n",
    "    for anAltitudeREGION in AltitudeREGIONS:    \n",
    "        MyColorsIndex = 0\n",
    "        # Find out all Magnetic Latitude Values which will be displayed in the plot, at the radial axis\n",
    "        AllMagLatValues = list()\n",
    "        for B in Bins:\n",
    "            if B.Altitude_min>=anAltitudeREGION[0] and B.Altitude_max<=anAltitudeREGION[1]:\n",
    "                if B.MagLat_min not in AllMagLatValues: AllMagLatValues.append(B.MagLat_min)\n",
    "                if B.MagLat_max not in AllMagLatValues: AllMagLatValues.append(B.MagLat_max)\n",
    "                \n",
    "        # for each bin which belongs to the region\n",
    "        fig = go.Figure()\n",
    "        for B in Bins:\n",
    "            if B.Altitude_min>=anAltitudeREGION[0] and B.Altitude_max<=anAltitudeREGION[1]:\n",
    "                # convert bin values in order to be displayed on the polar plot\n",
    "                MLTmin = B.MLT_min\n",
    "                MLTmax = B.MLT_max\n",
    "                if MLTmin > MLTmax: MLTmax += 24 # takes account of durations like 22:00-02:00\n",
    "                SliceAngle  = 15*(MLTmin+(MLTmax - MLTmin)/2) -90 # 360degrees/24hours=15\n",
    "                SliceWidth  = 15*(MLTmax - MLTmin)\n",
    "                # construct the bin info string\n",
    "                BinInfo = \"{:3.0f}\".format(B.Altitude_min) + \"-\" + \"{:3.0f}\".format(B.Altitude_max) + \"km \" + \": Kp\"+ str(B.Kp_min) + \"-\" + str(B.Kp_max) + \": \" \n",
    "                if B.CumulativeTime > B.DesirableCumulativeTime: BinInfo += \"<b>\"\n",
    "                BinInfo += \"{:3.0f}\".format(B.CumulativeTime/60) \n",
    "                if B.CumulativeTime >= B.DesirableCumulativeTime: BinInfo += \"</b>\"\n",
    "                BinInfo += \"/\" + \"{:3.0f}\".format(B.DesirableCumulativeTime/60)  + \"min\"\n",
    "                    \n",
    "                # check if this slice has been already plotted\n",
    "                FoundFigureIndex = -1\n",
    "                for i in range( len(fig.data) ):\n",
    "                    if fig.data[i][\"theta\"][0]==SliceAngle and fig.data[i][\"width\"][0]==SliceWidth:\n",
    "                        FoundFigureIndex = i\n",
    "                        break\n",
    "\n",
    "                # plot a new slice for this bin or add info about this bin to the legend text\n",
    "                if FoundFigureIndex >= 0:\n",
    "                    fig.data[ FoundFigureIndex ][ \"name\" ] += BinInfo + \"<br>\"\n",
    "                else:\n",
    "                    fig.add_trace(go.Barpolar( base=[B.MagLat_min], r=[B.MagLat_max-B.MagLat_min], theta=[SliceAngle], width=[SliceWidth], \n",
    "                        text=[B.ID], marker_color=[MyColors[MyColorsIndex]],   opacity=0.84,\n",
    "                        name = \"<b>\" + B.Description + \"</b>\" + \"<br>\" + BinInfo + \"<br>\"\n",
    "                    ))\n",
    "                    MyColorsIndex += 1\n",
    "                    if MyColorsIndex >= len(MyColors): MyColorsIndex = 0\n",
    "            \n",
    "        # construct the radial axis values\n",
    "        if 90 not in AllMagLatValues: AllMagLatValues.append(90)\n",
    "        RadialAxisTickValues= list()\n",
    "        for i in range( len(AllMagLatValues) ):\n",
    "            RadialAxisTickValues.append( str(AllMagLatValues[i]) + \"&#176;\" )\n",
    "        \n",
    "        # Construct the plot's title\n",
    "        FigureTitle = \"\"\n",
    "        if COVERAGE_Title.strip() != \"\": FigureTitle += COVERAGE_Title + \"  -- \"\n",
    "        FigureTitle += \"Orbit file:\" + COVERAGE_OrbitFilename[COVERAGE_OrbitFilename.rfind('/')+1:] + \"<br>\" \n",
    "        FigureTitle += \"Results file:\" + COVERAGE_ResultsFilename[COVERAGE_ResultsFilename.rfind('/')+1:] + \"<br>\"\n",
    "        FigureTitle += \"<b>Altitude from \" + str(anAltitudeREGION[0]) + \" to \" + str(anAltitudeREGION[1]) + \"</b>\" + \"<br>\"\n",
    "        \n",
    "        # define the plot's layout\n",
    "        fig.update_layout(width=1200, height=1020, showlegend=True, title=FigureTitle,\n",
    "                          polar = dict(\n",
    "                            bgcolor=PlotBackgroundColor,\n",
    "                            radialaxis  =  dict(range = [90, min(AllMagLatValues)], tickvals=AllMagLatValues, ticktext=RadialAxisTickValues, tickangle=90, categoryorder = \"category descending\" ), \n",
    "                            angularaxis = dict(tickvals=[      0,      30,      60,      90,     120,     150,     180,     210,     240,     270,     300,     330], \n",
    "                                               ticktext=['06:00', '08:00', '10:00', '12:00', '14:00', '16:00', '18:00', '20:00', '22:00', '00:00', '02:00', '04:00'] )\n",
    "                         ),\n",
    "                         margin=go.layout.Margin(b=150,t=150), )\n",
    "        # plot it\n",
    "        plotly.offline.init_notebook_mode(connected=True)\n",
    "        plotly.offline.iplot(fig) \n",
    "        \n",
    "        \n",
    "def PlotBins_KpScatter(OrbitFileName, kp_startYear, from_Altitude, to_Altitude):\n",
    "    # read file\n",
    "    file_to_read = pd.read_csv( OrbitFileName )\n",
    "    x_axis_value_from_file = file_to_read[\"Daedalus.MLT\"]\n",
    "    y_axis_value_from_file = file_to_read [\"Daedalus.Magnetic Latitude\"]\n",
    "    altitude_from_file = file_to_read [\"Alt (km)\"]\n",
    "    Datetime_values = file_to_read[\"Time (UTCG)\"]\n",
    "    # init\n",
    "    new_x_axis = []\n",
    "    new_y_axis = []\n",
    "    new_time = []\n",
    "    df=pd.DataFrame(index=None)\n",
    "    kp_array=[]\n",
    "    # use only positions having the desired Altitude range\n",
    "    for i in range(0,len(y_axis_value_from_file)):\n",
    "        if altitude_from_file[i]>from_Altitude and altitude_from_file[i]<=to_Altitude:\n",
    "            new_x_axis.append(x_axis_value_from_file[i])\n",
    "            new_y_axis.append(y_axis_value_from_file[i])\n",
    "            new_time.append(Datetime_values[i])\n",
    "    df['Daedalus.MLT']=new_x_axis\n",
    "    df['Daedalus.Magnetic Latidude']=new_y_axis\n",
    "    #\n",
    "    for k in range(0,len(new_x_axis)):\n",
    "        # find out the date-time of this satellite position\n",
    "        CURR_time = datetime.datetime.strptime(new_time[k], '%d %b %Y %H:%M:%S.%f')\n",
    "        year  = CURR_time.year\n",
    "        month = CURR_time.month\n",
    "        day   = CURR_time.day\n",
    "        hour  = CURR_time.hour\n",
    "        # calculate the Kp index for this particular time\n",
    "        try:\n",
    "            kp_array.append(GeomagneticIndices[(num_to_2digit_str(day), num_to_2digit_str(month), num_to_2digit_str(kp_startYear+year-2028), str(hour//3))])\n",
    "        except:\n",
    "            if month==2 and day==29: # the leap years may correspond to non-leap years at the selected range of years for Kp calculation\n",
    "                kp_array.append(GeomagneticIndices[(num_to_2digit_str(28), num_to_2digit_str(month), num_to_2digit_str(kp_startYear+year-2028), str(hour//3))])\n",
    "    df['Kp']=kp_array\n",
    "    \n",
    "    #df['Daedalus.MLT'] = df['Daedalus.MLT'][0::50]\n",
    "    #df['Daedalus.Magnetic Latidude'] = df['Daedalus.Magnetic Latidude'][0::50]\n",
    "    #df['Kp'] = df['Kp'][0::50]\n",
    "    \n",
    "    # create the Kp scatter \n",
    "    fig = go.Figure()\n",
    "    fig.add_trace(go.Scatter( x=df['Daedalus.MLT'], y=df['Daedalus.Magnetic Latidude'],\n",
    "                              mode='markers', marker=dict(color=df['Kp'], size=3, colorscale='rainbow',showscale=True, colorbar=dict(xanchor=\"left\", x=-0.25, tickvals=[0,1,2,3,4,5,6,7,8,9]))\n",
    "                            \n",
    "                            ))\n",
    "    fig.update_layout( width=1200, height=800, coloraxis_showscale=False, title=\"Orbit file:\" + OrbitFileName + \"<br>\" + \"Kp values start year is \" + str(kp_startYear) + \"<br>\" + \"<b>Kp Indices during Mission Lifetime for Altitudes: \"+str(from_Altitude)+\"-\"+str(to_Altitude)+\" km</b>\")\n",
    "    fig.update_xaxes(title=\"Magnetic Local Time\", showgrid=True, gridwidth=0.5, gridcolor='grey')\n",
    "    fig.update_layout(xaxis = dict(tickmode = 'linear',tick0 = 0,dtick = 2))    \n",
    "    fig.update_yaxes(title=\"Magnetic Latitude (deg)\", showgrid=True, gridwidth=0.5, gridcolor='gray') \n",
    "    fig.update_layout(yaxis = dict(tickmode = 'linear',tick0 = -90,dtick =30), margin=go.layout.Margin(b=150,t=150), width=1000, height=800, showlegend=True)\n",
    "    fig.update_xaxes(range=[0, 24],  showline=True, linewidth=2, linecolor='gray', mirror=True)\n",
    "    fig.update_yaxes(range=[-90, 90],showline=True, linewidth=2, linecolor='gray', mirror=True)\n",
    "    # draw rectangles to represent the bins on the figure        \n",
    "    MyColorsIndex = 0\n",
    "    for B in Bins:\n",
    "        BinInfo = \"{:3.0f}\".format(B.Altitude_min) + \"-\" + \"{:3.0f}\".format(B.Altitude_max) + \"km \" + \": Kp\"+ str(B.Kp_min) + \"-\" + str(B.Kp_max) + \": \" \n",
    "        if B.CumulativeTime > B.DesirableCumulativeTime: BinInfo += \"<b>\"\n",
    "        BinInfo += \"{:3.0f}\".format(B.CumulativeTime/60) \n",
    "        if B.CumulativeTime > B.DesirableCumulativeTime: BinInfo += \"</b>\"\n",
    "        BinInfo += \"/\" + \"{:3.0f}\".format(B.DesirableCumulativeTime/60)  + \"min\"\n",
    "        if B.MLT_min < B.MLT_max:\n",
    "            FoundFigureIndex = -1 # check if this rectangle has been already plotted\n",
    "            for i in range( len(fig.layout['shapes']) ):\n",
    "                if fig.layout['shapes'][i][\"x0\"]==B.MLT_min and fig.layout['shapes'][i][\"y0\"]==B.MagLat_min and fig.layout['shapes'][i][\"x1\"]==B.MLT_max and fig.layout['shapes'][i][\"y1\"]==B.MagLat_max:\n",
    "                    FoundFigureIndex = i\n",
    "                    break\n",
    "            if FoundFigureIndex >= 0: # add info about this bin to the legend text\n",
    "                for i in range( len(fig['data']) ):\n",
    "                    if fig['data'][i]['name'] is not None  and   B.Description in fig['data'][i]['name']:\n",
    "                        fig['data'][i]['name'] += BinInfo + \"<br>\"\n",
    "            else: # draw a new rectangle\n",
    "                fig.add_shape(go.layout.Shape( type=\"rect\", xref=\"x\", yref=\"y\",\n",
    "                    x0=B.MLT_min, y0=B.MagLat_min, x1=B.MLT_max, y1=B.MagLat_max,\n",
    "                    line=dict( color=\"RoyalBlue\", width=3,), fillcolor=MyColors[MyColorsIndex], opacity=0.1, \n",
    "                ))\n",
    "                fig.add_trace(go.Scatter( x=[0], y=[0], marker=dict(color=[MyColors[MyColorsIndex]], size=0, opacity=0), \n",
    "                                        name=\"<b>\" + B.Description + \"</b>\" + \"<br>\" + BinInfo + \"<br>\" ))\n",
    "                MyColorsIndex += 1\n",
    "    # plot it\n",
    "    plotly.offline.init_notebook_mode(connected=True)\n",
    "    plotly.offline.iplot(fig) \n",
    "\n",
    "        \n",
    "display( createGUI() )\n",
    "\n"
   ]
  },
  {
   "cell_type": "code",
   "execution_count": null,
   "metadata": {},
   "outputs": [],
   "source": []
  }
 ],
 "metadata": {
  "kernelspec": {
   "display_name": "Python 3",
   "language": "python",
   "name": "python3"
  },
  "language_info": {
   "codemirror_mode": {
    "name": "ipython",
    "version": 3
   },
   "file_extension": ".py",
   "mimetype": "text/x-python",
   "name": "python",
   "nbconvert_exporter": "python",
   "pygments_lexer": "ipython3",
   "version": "3.6.7"
  }
 },
 "nbformat": 4,
 "nbformat_minor": 2
}
