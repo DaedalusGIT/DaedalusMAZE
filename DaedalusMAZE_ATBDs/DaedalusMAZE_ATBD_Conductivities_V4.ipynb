{
 "cells": [
  {
   "cell_type": "markdown",
   "metadata": {},
   "source": [
    "# Daedalus Conductivity Estimations Based on TIEGCM\n",
    "\n",
    "### Table of Contents\n",
    "* [1. Theoretical Description](#Theoretical-Description)\n",
    "    * [1.1 Introduction](#Introduction)\n",
    "    * [1.2 Conductivity estimation methodology](#Conductivity-estimation-methodology)\n",
    "    * [1.3 Modeling of Conductivity estimates](#Modeling-of-Conductivity-estimates)\n",
    "* [2. Error Analysis for Conductivity estimates](#Error-Analysis_Code)\n",
    "    * [2.1 Pederden Conductivity Error Analysis](#Pedersen-Error-Analysis)\n",
    "    * [2.2 Hall Conductivity Error Analysis](#Hall-Error-Analysis)\n",
    "* [Code and Plots](#Code-and-Plots)\n",
    "* [References](#References)\n",
    "    \n",
    "\n",
    "    \n",
    "\n",
    "\n",
    "### Theoretical Description\n",
    "<a class=\"anchor\" id=\"Theoretical-Description\"></a>\n",
    "\n",
    "#### 1.1 Introduction\n",
    "<a class=\"anchor\" id=\"Introduction\"></a>\n",
    "<p style='text-align: justify;'>\n",
    "Pedersen conductivity ($σ_P$) is required in Joule heating calculations, but is also extremely important in ionospheric and magnetospheric modelling. Pedersen conductivity cannot be obtained by direct measurement, as it depends on a large number of terms, such as composition of different ion species (in number densities $N_i$) and the various collision rates between ion species and neutral species. These, in turn, depend on the ion and electron temperatures ($T_i$ and $T_n$), the neutral densities of the neutral species ($N_n$), and the ion species. The collision rate will depend on the species’ density, thus neutral composition needs to be measured independently through mass spectrometry.\n",
    "\n",
    "#### 1.2 Conductivity estimation methodology\n",
    "<a class=\"anchor\" id=\"Conductivity-estimation-methodology\"></a>\n",
    "$  \\sigma_{P} = \\frac{q_{e}}{B} \\left(N_e 10^6 \\frac{r_{e}}{r_{e}^{2} + 1} + N_{O^+} 10^6 \\frac{ r_{O^+}}{r_{O^+}^{2} + 1} + N_{O_2^+} 10^6 \\frac{ r_{O_2^+}}{r_{O_2^+}^{2} + 1}\\right) \\label{eq:Pedersen}\\tag{1.1}$\n",
    "\n",
    "\n",
    "$ \\sigma_{H}=\\frac{q_{e}}{B} \\left(N_e 10^6 \\frac{1}{r_{O_2^+}^{2} + 1} +O_{O_2^+} 10^6 \\frac{1}{r_{O_2}^{2} + 1} + O^+ 10^6 \\frac{1}{r_{O^+}^{2} + 1}\\right)\\label{eq:Hall} \\tag{1.2}$\n",
    "\n",
    "$ \\sigma_{\\parallel}=N_e 10^6 \\frac{ q_{e}^{2}}{\\nu_{en} m_{e}}\\label{eq:Parallel} \\tag{1.3}$ \n",
    "\n",
    "<p style='text-align: justify;'>\n",
    "Where $$r_{j}=\\frac{\\Omega_{j}}{m_j}\\label{eq:ratio} \\tag{1.4}$$ \n",
    "represents the various ratios of each species' collision rate versus gyrofrequency, and these are known quantities\n",
    "\n",
    "and $$\\Omega_{j}=\\frac{eB}{m_j}\\label{eq:Omega} \\tag{1.5}$$ is the gyrofrequency with the subscript $j$ denoting electrons ($j=e$) or ions ($j=i$), $e$ is the elementary electric charge ($1.602176634 \\times 10^{-19} C $) and $N_{j}$ denotes the electron ($j=e$) or ion ($j=i$) density (in $cm^{-3}$),and $\\nu$ is the collision frequency.\n",
    "</p>\n",
    "\n",
    "<p style='text-align: justify;'>\n",
    "The collision rates depend on a number of terms, such as: on the density and composition of the ion and neutral species, which need to be measured independently through mass spectrometry; on the ion and electron temperatures; and on the values for collision cross sections. The latter are calculated primarily through laboratory experiments of ion-neutral collisions. However, these may have systematic uncertainties in the upper atmosphere, and their accuracy has never been evaluated in-situ. These measurements, through the comparison of the two methodologies described above, will also allow a new estimate of collisional cross sections, which are needed and widely used in simulations, analysis of radar data etc. An overview of the various parameters used in conductivity calculations is given in the following tables:\n",
    "</p>\n",
    "\n",
    "Table D1.3: Overview of the parameters used in conductivity calculations.\n",
    "\n",
    "\n",
    "$ \\nu_{O_2^+-n}=\\nu_{O_2^+-O_2}+\\nu_{O_2^+-O}+\\nu_{O_2^+-N_2}\\label{eq:VO2p} \\tag{1.6}$\n",
    "\n",
    "$$\\nu_{O_2^+-O}=2.31 \\cdot 10^{-10} N_{O} \\label{eq:VO2p_Ο} \\tag{1.7}$$\n",
    "$$\\nu_{O_2^+-O_2}=2.59 \\cdot 10^{-11} N_{O_2} \\sqrt{\\frac{T_{i}}{2} + \\frac{T_{n}}{2}} \\left(- 0.073 \\log_{10}{\\left(\\frac{T_{i}}{2} + \\frac{T_{n}}{2} \\right)} + 1\\right)^{2}\\label{eq:VO2p_Ο2} \\tag{1.8}$$\n",
    "$$\\nu_{O_2^+-N_2}=4.31 \\cdot 10^{-10} N_{N_2}             \\label{eq:VO2p_Ν2} \\tag{1.9}$$\n",
    "\n",
    "$$\\nu_{O^+-n }=v_{O^+-O_2}+v_{O^+-O}+v_{O^+-N_2}\\label{eq:VOp} \\tag{1.10}$$\n",
    "\n",
    "$$\\nu_{O^+-O}=3.67 \\cdot 10^{-11} N_{O}  \\sqrt{\\frac{T_{i}}{2} + \\frac{T_{n}}{2}} \\left(- 0.064 \\log_{10}{\\left(\\frac{T_{i}}{2} + \\frac{T_{n}}{2} \\right)} + 1\\right)^{2} fb             \\label{eq:VOp_Ο} \\tag{1.11}$$\n",
    "\n",
    "$$\\nu_{O^+-O_2}=6.64 \\cdot 10^{-10} N_{O2}\\label{eq:VOp_Ο2} \\tag{1.12}$$\n",
    "\n",
    "$$\\nu_{O^+-N_2}=6.82 \\cdot 10^{-10} N_{N2}\\label{eq:VOp_N2} \\tag{1.13}$$\n",
    "\n",
    "$$\\nu_{en}=2.33 \\cdot 10^{-11} N_{N_2} T_{e} \\left(1 - 0.000121 T_{e}\\right) + \\\\8.9 \\cdot 10^{-11} N_{O} \\sqrt{T_{e}} \\left(0.00057 T_{e} + 1\\right) +\\\\ 1.82 \\cdot 10^{-10} N_{O_2} \\sqrt{T_{e}} \\left(0.036 \\sqrt{T_{e}} + 1\\right)\\label{eq:Ven} \\tag{1.14}$$\n",
    "\n",
    "$$R_i=\\frac{T_i+T_n}{2}\\label{eq:Ri} \\tag{1.15}$$\n",
    "\n",
    "$$\\Omega_{O^+}=\\frac{eB}{m_{O^+}}\\label{eq:Omega_Op} \\tag{1.16}$$\n",
    "$$\\Omega_{O_2^+}=\\frac{eB}{m_{O_2^+}}\\label{eq:Omega_O2p} \\tag{1.17}$$\n",
    "$$\\Omega_{e}=\\frac{eB}{m_{e}}\\label{eq:Omega_e} \\tag{1.18}$$\n",
    "\n",
    "$$r_{O^+}=\\frac{eB}{\\Omega_{O^+}}\\label{eq:r_Op} \\tag{1.19}$$\n",
    "$$r_{O_2^+}=\\frac{eB}{\\Omega_{O_2^+}}\\label{eq:r_O2p} \\tag{1.20}$$\n",
    "$$r_{e}=\\frac{eB}{\\Omega_{e}}\\label{eq:r_e} \\tag{1.21}$$\n",
    "\n",
    "\n",
    "\n",
    "<p style='text-align: justify;'>\n",
    "So, if we want to evaluate every parameter that goes into a Joule heating calculation in a local volume of space, the geophysical observables required are total density, the neutral winds, the ion drifts, the ion density, ion temperature, electron temperature, ion composition, the total neutral composition which is a separate measurement that can be used as a check, the magnetic field and the DC electric fields.\n",
    "In the system of the neutral atmosphere, conductivities will be estimated by Eq. (1) to (3) listed above.\n",
    "\n",
    "\n",
    "The error of both quantities can be computed by error propagation formula, applied first to Eq. (5), to derive the error in conductivity, and then to Eq. (4), to derive the error in Joule heating. The error in the higher level, L3, products depend on the individual errors of the observed quantities, L2 products (δE, δvn, δB, the constituents of δσ), to be provided by instrument teams (WP2.1, WP3.4) in relation to state of the art resolution and accuracy (WP1.1), consolidated product requirements (WP1.4), and performance metrics (WP3.4). \n",
    "</p>\n",
    "\n",
    "#### 1.3 Modeling of Conductivity estimates\n",
    "<a class=\"anchor\" id=\"Modeling-of-Conductivity-estimates\"></a>\n",
    "<p style='text-align: justify;'>\n",
    "As part of the sensitivity analysis in this study, the above parameters for Joule heating and for conductivity are calculated using TIEGCM and IGRF models. In the following, TIEGCM gives the electron density, electron temperature, ion temperature, ion density, neutral temperature and neutral density.The N2 neutral density is calculated indirectly, because it is not given from the model such as the ion density O2+.The IGRF model provides the total magnetic field component. \n",
    "\n",
    "Below these models and the corresponding variables that are outputs of these models are listed, with variables that are involved in Joule Heating and Conductivity calculations: \n",
    "</p>\n",
    "•\tTIEGCM (Ne, Te, Ti, Tn, O, O2, N2, O+, O2+)\n",
    "\n",
    "•\tIGRF (B)\n",
    "\n",
    "#### 2. Error Analysis for Conductivity estimates\n",
    "<a class=\"anchor\" id=\"Error-Analysis_Code\"></a>\n",
    "\n",
    "\n",
    "<p style='text-align: justify;'>\n",
    "    Generally, if R is function of one or more observables, e.g. X and Y, then R can be written as R(X,Y). The uncertainty in R is obtained by taking the partial derivatives of R with repsect to each variable, multiplication with the uncertainty in that variable, and addition of these individual terms in quadrature. So, the uncertainty in any general function is:\n",
    "    $$R=R(X,Y,...)$$\n",
    "    $$ \\delta R=\\sqrt{\\left(\\frac{\\partial R}{\\partial X}\\delta X\\right)^2+\\left(\\frac{\\partial R}{\\partial Y}\\delta Y\\right)^2+...}\\tag{2.1}$$\n",
    "</p>\n",
    "\n",
    "##### 2.1 Error Analysis for Pedersen Conductivity\n",
    "<a class=\"anchor\" id=\"Pedersen-Error-Analysis\"></a>\n",
    "<p style='text-align: justify;'>\n",
    "According to the previous general equation $2.1$ for error propagation, the error propagation for eq. $1.1$ is the following:\n",
    "\n",
    "$$ \\begin{aligned} d\\sigma_{P}^2=\\mid\\frac{\\partial\\sigma_{P}}{\\partial B}\\mid^2 dB^2+\\mid\\frac{\\partial\\sigma_{P}}{\\partial N_e}\\mid^2 d(N_{e} 10^6)^{2}+\\mid\\frac{\\partial\\sigma_{P}}{\\partial N_{O^+}}\\mid^2 d (N_{O^+} 10^6)^2+\n",
    "\\mid\\frac{\\partial\\sigma_{P}}{\\partial N_{O_2^+}}\\mid^2 d (N_{O_2^+} 10^6)^2+ \\mid\\frac{\\partial\\sigma_{P}}{\\partial r_{e}}\\mid^2 d r_{e}^2 +\\\\ \\mid\\frac{\\partial\\sigma_{P}}{\\partial r_{O^+}}\\mid^2 dr_{O^+}^2+\\mid\\frac{\\partial\\sigma_{P}}{\\partial r_{O_2^+}}\\mid^2 dr_{O_2^+}^2\\end{aligned}\\tag{2.1.1}$$\n",
    "\n",
    "In order to calculate $d\\sigma_{P}$, every term of eq. $2.1.1$ should be calculated. By implementing all the necessary derivations the following equations are obtained.\n",
    "\n",
    "------------------\n",
    "* $$ \\begin{aligned} \\mid\\frac{\\partial\\sigma_{P}}{\\partial B}\\mid^2=\\left( - \\frac{q_{e}}{B^{2}} \\left(\\frac{(N_e 10^6) r_{e}}{r_{e}^{2} + 1} + \\frac{(O_2^+ 10^6) r_{O_2^+}}{r_{O_2^+}^{2} + 1} + \\frac{(O^+ 10^6) r_{O^+}}{r_{O^+}^{2} + 1}\\right)\\right)^2 \\end{aligned} \\tag{2.1.2} $$\n",
    "-----------------\n",
    "* $$\\mid\\frac{\\partial\\sigma_{P}}{\\partial N_e}\\mid^2=\\left(\\frac{q_{e}}{B}\\frac{r_{e}}{ r_{e}^{2} + 1} \\right)^2\\tag{2.1.3} $$\n",
    "------------------\n",
    "* $$\\mid\\frac{\\partial\\sigma_{P}}{\\partial N_{O^+} }\\mid^2=\\left(\\frac{q_{e}}{B}\\frac{ r_{O^+}}{ r_{O^+}^{2} + 1} \\right)^2\\tag{2.1.4} $$\n",
    "-----------------------------\n",
    "* $$\\mid\\frac{\\partial\\sigma_{P}}{\\partial N_{O_2^+} }\\mid^2=\\left(\\frac{q_{e}}{B}\\frac{ r_{O_2^+}}{ r_{O_2^+}^{2} + 1} \\right)^2\\tag{2.1.5} $$\n",
    "---------------------------\n",
    "* $$\\mid\\frac{\\partial\\sigma_{P}}{\\partial r_e}\\mid^2=\\left( \\frac{q_{e} (N_e 10^6)}{B} \\left(- \\frac{2  r_{e}^{2}}{\\left(r_{e}^{2} + 1\\right)^{2}} + \\frac{1}{r_{e}^{2} + 1}\\right)   \\right)^2\\tag{2.1.6} $$\n",
    "---------------\n",
    "* $$\\mid\\frac{\\partial\\sigma_{P}}{\\partial r_{O^+} }\\mid^2=\\left(\\frac{q_{e} (N_{O^+} 10^6)}{B}  \\left(- \\frac{2  r_{O^+}^{2}}{\\left(r_{O^+}^{2} + 1\\right)^{2}} + \\frac{1}{r_{O^+}^{2} + 1}\\right) \\right)^2\\tag{2.1.7} $$\n",
    "-------------------\n",
    "* $$\\mid\\frac{\\partial\\sigma_{P}}{\\partial r_{O_2^+} }\\mid^2=\\left(\\frac{q_{e} (N_{O_2^+} 10^6)}{B}  \\left(- \\frac{2  r_{O_2^+}^{2}}{\\left(r_{O_2^+}^{2} + 1\\right)^{2}} + \\frac{1}{r_{O_2^+}^{2} + 1}\\right) \\right)^2\\tag{2.1.8} $$\n",
    "-----------------\n",
    "* $${d r_{e}}^2=\\mid\\frac{\\partial r_{e}}{\\partial \\nu_{en}}\\mid^2 d \\nu_{en}^2 + \\mid\\frac{\\partial r_{e}}{\\partial \\Omega_{e}}\\mid^2 d \\Omega_{e}^2 \\tag{2.1.9}$$\n",
    "\n",
    "* $$\\mid\\frac{\\partial r_{e}}{\\partial \\nu_{e}}\\mid^2=\\left(\\frac{1}{\\Omega_{e}}\\right)^2 \\tag{2.1.10}$$ \n",
    "\n",
    "* $$d \\nu_{en}^2= \\mid\\frac{\\partial \\nu_{en}}{\\partial N_{N_2}}\\mid^2 d N_{N_2}^2 + \\mid\\frac{\\partial \\nu_{en}}{\\partial N_{O_2}}\\mid^2 d N_{O_2}^2 + \\mid\\frac{\\partial \\nu_{en}}{\\partial N_{O}}\\mid^2 d N_{O}^2 +\\mid\\frac{\\partial \\nu_{en}}{\\partial T_{e}}\\mid^2 d T_{e}^2\\tag{2.1.11}$$ \n",
    "\n",
    "* $$ \\mid\\frac{\\partial \\nu_{en}}{\\partial N_{N_2}}\\mid^2=\\left( 2.33 \\cdot 10^{-11} T_{e} \\left(1 - 0.000121 T_{e}\\right)\\right)^2 \\tag{2.1.12}$$\n",
    "\n",
    "* $$ \\mid\\frac{\\partial \\nu_{en}}{\\partial N_{O_2}}\\mid^2=\\left(1.82 \\cdot 10^{-10} \\sqrt{T_{e}} \\left(0.036 \\sqrt{T_{e}} + 1\\right) \\right)^2 \\tag{2.1.13}$$\n",
    "\n",
    "* $$ \\mid\\frac{\\partial \\nu_{en}}{\\partial N_{O}}\\mid^2=\\left( 8.9 \\cdot 10^{-11} \\sqrt{T_{e}} \\left(0.00057 T_{e} + 1\\right)\\right)^2 \\tag{2.1.14}$$\n",
    "\n",
    "* $$ \\mid\\frac{\\partial \\nu_{en}}{\\partial T_{e}}\\mid^2=\\left( - 2.8193 \\cdot 10^{-15} N_{N_2} T_{e} + 2.33 \\cdot 10^{-11} N_{N_2} \\left(1 - 0.000121 T_{e}\\right) + \\\\5.073 \\cdot 10^{-14} N_{O} \\sqrt{T_{e}} + \\frac{4.45 \\cdot 10^{-11} N_{O} \\left(0.00057 T_{e} + 1\\right)}{\\sqrt{T_{e}}} +\\\\ 3.276 \\cdot 10^{-12} N_{O_2} + \\frac{9.1 \\cdot 10^{-11} N_{O_2} \\left(0.036 \\sqrt{T_{e}} + 1\\right)}{\\sqrt{T_{e}}}\\right)^2 \\tag{2.1.15}$$\n",
    "\n",
    "* $$ \\mid\\frac{\\partial r_{e}}{\\partial \\Omega_{e}}\\mid^2=\\left(- \\frac{\\nu_{en}}{\\Omega_{e}^{2}} \\right)^2 \\tag{2.1.16}$$ \n",
    "\n",
    "* $$ d\\Omega_{e}^2= \\mid\\frac{\\partial\\Omega_{e}}{\\partial B}\\mid^2 d B^2\\tag{2.1.17}$$ \n",
    "\n",
    "* $$\\mid\\frac{\\partial\\Omega_{e}}{\\partial B}\\mid^2=\\left(\\frac{q_{e}}{m_{e}} \\right)^2 \\tag{2.1.18}$$\n",
    "_______________________________________\n",
    "\n",
    "* $${d r_{O^+}}^2=\\mid\\frac{\\partial r_{O^+}}{\\partial \\nu_{O^+}}\\mid^2 d \\nu_{O^+}^2 + \\mid\\frac{\\partial r_{O^+}}{\\partial \\Omega_{O^+}}\\mid^2 d \\Omega_{O^+}^2 \\tag{2.1.19}$$\n",
    "\n",
    "* $$\\mid\\frac{\\partial r_{O^+}}{\\partial \\nu_{O^+}}\\mid^2=\\left(\\frac{1}{\\Omega_{O^+}}\\right)^2 \\tag{2.1.20}$$ \n",
    "\n",
    "* $$ d\\nu_{O^{+}}^2= {d\\nu_{O^{+}-O}}^2+{d\\nu_{O^{+}-O_2}}^2+{d\\nu_{O^{+}-N_2}}^2 \\tag{2.1.21}$$\n",
    "\n",
    "* $$ {d\\nu_{O^{+}-O}}^2= \\mid\\frac{\\partial \\nu_{O^{+}-O}}{\\partial N_{O}}\\mid^2 d N_{O}^2 +\\mid\\frac{\\partial \\nu_{O^{+}-O}}{\\partial T_{i}}\\mid^2 d T_{i}^2 +\\mid\\frac{\\partial \\nu_{O^{+}-O}}{\\partial T_{e}}\\mid^2 d T_{e}^2   \\tag{2.1.22}$$\n",
    "\n",
    "* $$ \\mid\\frac{\\partial \\nu_{O^{+}-O}}{\\partial N_{O}}\\mid^2= \\left(3.67 \\cdot 10^{-11} fb \\sqrt{\\frac{T_{i}}{2} + \\frac{T_{n}}{2}} \\left(- \\frac{0.064 \\ln{\\left(\\frac{T_{i}}{2} + \\frac{T_{n}}{2} \\right)}}{\\ln{\\left(10 \\right)}} + 1\\right)^{2} \\right)^2   \\tag{2.1.23}$$\n",
    "\n",
    "* $$ \\mid\\frac{\\partial \\nu_{O^{+}-O}}{\\partial T_{i}}\\mid^2= \\left(\\frac{9.175 \\cdot 10^{-12} N_{O} fb \\left(- \\frac{0.064 \\ln{\\left(\\frac{T_{i}}{2} + \\frac{T_{n}}{2} \\right)}}{\\ln{\\left(10 \\right)}} + 1\\right)^{2}}{\\sqrt{\\frac{T_{i}}{2} + \\frac{T_{n}}{2}}} - \\\\ \\frac{2.3488 \\cdot 10^{-12} N_{O} fb \\left(- \\frac{0.064 \\ln{\\left(\\frac{T_{i}}{2} + \\frac{T_{n}}{2} \\right)}}{\\ln{\\left(10 \\right)}} + 1\\right)}{\\sqrt{\\frac{T_{i}}{2} + \\frac{T_{n}}{2}} \\ln{\\left(10 \\right)}} \\right)^2  \\tag{2.1.24}$$\n",
    "\n",
    "* $$ \\mid\\frac{\\partial \\nu_{O^{+}-O}}{\\partial T_{e}}\\mid^2= \\left(\\frac{9.175 \\cdot 10^{-12} N_{O} fb \\left(- \\frac{0.064 \\ln{\\left(\\frac{T_{i}}{2} + \\frac{T_{n}}{2} \\right)}}{\\ln{\\left(10 \\right)}} + 1\\right)^{2}}{\\sqrt{\\frac{T_{i}}{2} + \\frac{T_{n}}{2}}} - \\\\ \\frac{2.3488 \\cdot 10^{-12} N_{O} fb \\left(- \\frac{0.064 \\ln{\\left(\\frac{T_{i}}{2} + \\frac{T_{n}}{2} \\right)}}{\\ln{\\left(10 \\right)}} + 1\\right)}{\\sqrt{\\frac{T_{i}}{2} + \\frac{T_{n}}{2}} \\ln{\\left(10 \\right)}} \\right)^2   \\tag{2.1.25}$$\n",
    "\n",
    "* $$ {d\\nu_{O^{+}-O_2}}^2= \\mid\\frac{\\partial \\nu_{O^{+}-O_2}}{\\partial N_{O_2}}\\mid^2 d N_{O_2}^2  \\tag{2.1.26}$$\n",
    "\n",
    "* $$ \\mid\\frac{\\partial \\nu_{O^{+}-O_2}}{\\partial N_{O_2}}\\mid^2= \\left(6.64 \\cdot 10^{-10} \\right)^2\\tag{2.1.27}$$\n",
    "\n",
    "* $$ {d\\nu_{O^{+}-N_2}}^2=\\mid\\frac{\\partial \\nu_{O^{+}-N_2}}{\\partial N_{N_2}}\\mid^2 d N_{N_2}^2   \\tag{2.1.28}$$\n",
    "\n",
    "* $$ \\mid\\frac{\\partial \\nu_{O^{+}-N_2}}{\\partial N_{N_2}}\\mid^2 =\\left( 6.82 \\cdot 10^{-10}\\right)^2   \\tag{2.1.29}$$\n",
    "\n",
    "* $$ \\mid\\frac{\\partial r_{O^{+}}}{\\partial \\Omega_{O^{+}}}\\mid^2=\\left(- \\frac{\\nu_{O^{+}}}{\\Omega_{O^{+}}^{2}} \\right)^2 \\tag{2.1.30}$$ \n",
    "\n",
    "* $$ d\\Omega_{O^{+}}^2= \\mid\\frac{\\partial\\Omega_{O^{+}}}{\\partial B}\\mid^2 d B^2\\tag{2.1.31}$$ \n",
    "\n",
    "* $$\\mid\\frac{\\partial\\Omega_{O^{+}}}{\\partial B}\\mid^2=\\left(\\frac{q_{e}}{m_{O^{+}}} \\right)^2 \\tag{2.1.32}$$\n",
    "\n",
    "------------\n",
    "* $${d r_{O_2^+}}^2=\\mid\\frac{\\partial r_{O_2^+}}{\\partial \\nu_{O_2^+}}\\mid^2 d \\nu_{O_2^+}^2 + \\mid\\frac{\\partial r_{O_2^+}}{\\partial \\Omega_{O_2^+}}\\mid^2 d \\Omega_{O_2^+}^2 \\tag{2.1.33}$$\n",
    "\n",
    "* $$\\mid\\frac{\\partial r_{O_{2}^+}}{\\partial \\nu_{O_{2}^+}}\\mid^2=\\left(\\frac{1}{\\Omega_{O_{2}^+}}\\right)^2 \\tag{2.1.34}$$ \n",
    "\n",
    "* $$ d\\nu_{O_{2}^{+}}^2= {d\\nu_{O_{2}^{+}-O}}^2+{d\\nu_{O_{2}^{+}-O}}^2+{d\\nu_{O_{2}^{+}-N_2}}^2 \\tag{2.1.35}$$\n",
    "\n",
    "* $$ {d\\nu_{O_{2}^{+}-O}}^2= \\mid\\frac{\\partial \\nu_{O_{2}^{+}-O}}{\\partial N_{O}}\\mid^2 d N_{O}^2   \\tag{2.1.36}$$\n",
    "\n",
    "* $$ \\mid\\frac{\\partial \\nu_{O^{+}-O}}{\\partial N_{O}}\\mid^2= \\left(2.31 \\cdot 10^{-10}\\right)^2   \\tag{2.1.37}$$\n",
    "\n",
    "* $$ {d\\nu_{O_2^{+}-O_2}}^2=\\mid\\frac{\\partial \\nu_{O_{2}^{+}-O_2}}{\\partial N_{O_2}}\\mid^2 d N_{O_2}^2 +\\mid\\frac{\\partial \\nu_{O_{2}^{+}-O_2}}{\\partial T_{i}}\\mid^2 d T_{i}^2 +\\mid\\frac{\\partial \\nu_{O_{2}^{+}-O_2}}{\\partial T_{n}}\\mid^2 d T_{n}^2   \\tag{2.1.38}$$\n",
    "\n",
    "* $$ \\mid\\frac{\\partial \\nu_{O_2^{+}-O_2}}{\\partial N_{O_2}}\\mid^2= \\left(2.59 \\cdot 10^{-11} \\sqrt{\\frac{T_{i}}{2} + \\frac{T_{n}}{2}} \\left(- \\frac{0.073 \\ln{\\left(\\frac{T_{i}}{2} + \\frac{T_{n}}{2} \\right)}}{\\ln{\\left(10 \\right)}} + 1\\right)^{2} \\right)^2\\tag{2.1.39}$$\n",
    "\n",
    "* $$ \\mid\\frac{\\partial \\nu_{O_2^{+}-O}}{\\partial T_{i}}\\mid^2= \\left(\\frac{6.475 \\cdot 10^{-12} N_{O_2} \\left(- \\frac{0.073 \\ln{\\left(\\frac{T_{i}}{2} + \\frac{T_{n}}{2} \\right)}}{\\ln{\\left(10 \\right)}} + 1\\right)^{2}}{\\sqrt{\\frac{T_{i}}{2} + \\frac{T_{n}}{2}}} -\\\\ \\frac{1.8907 \\cdot 10^{-12} N_{O_2} \\left(- \\frac{0.073 \\ln{\\left(\\frac{T_{i}}{2} + \\frac{T_{n}}{2} \\right)}}{\\ln{\\left(10 \\right)}} + 1\\right)}{\\sqrt{\\frac{T_{i}}{2} + \\frac{T_{n}}{2}} \\ln{\\left(10 \\right)}} \\right)^2  \\tag{2.1.40}$$\n",
    "\n",
    "* $$ \\mid\\frac{\\partial \\nu_{O^{+}-O}}{\\partial T_{n}}\\mid^2= \\left(\\frac{6.475 \\cdot 10^{-12} N_{O_2} \\left(- \\frac{0.073 \\ln{\\left(\\frac{T_{i}}{2} + \\frac{T_{n}}{2} \\right)}}{\\ln{\\left(10 \\right)}} + 1\\right)^{2}}{\\sqrt{\\frac{T_{i}}{2} + \\frac{T_{n}}{2}}} -\\\\ \\frac{1.8907 \\cdot 10^{-12} N_{O_2} \\left(- \\frac{0.073 \\ln{\\left(\\frac{T_{i}}{2} + \\frac{T_{n}}{2} \\right)}}{\\ln{\\left(10 \\right)}} + 1\\right)}{\\sqrt{\\frac{T_{i}}{2} + \\frac{T_{n}}{2}} \\ln{\\left(10 \\right)}} \\right)^2   \\tag{2.1.41}$$\n",
    "\n",
    "* $$ {d\\nu_{O^{+}-N_2}}^2=\\mid\\frac{\\partial \\nu_{O^{+}-N_2}}{\\partial N_{N_2}}\\mid^2 d N_{N_2}^2   \\tag{2.1.42}$$\n",
    "\n",
    "* $$ \\mid\\frac{\\partial \\nu_{O^{+}-N_2}}{\\partial N_{N_2}}\\mid^2 =\\left( 4.31 \\cdot 10^{-10}\\right)^2   \\tag{2.1.43}$$\n",
    "\n",
    "* $$ \\mid\\frac{\\partial r_{O_2^{+}}}{\\partial \\Omega_{O_2^{+}}}\\mid^2=\\left(- \\frac{\\nu_{O_2^{+}}}{\\Omega_{O_2^{+}}^{2}} \\right)^2 \\tag{2.1.44}$$ \n",
    "\n",
    "* $$ d\\Omega_{O_2^{+}}^2= \\mid\\frac{\\partial\\Omega_{O_2^{+}}}{\\partial B}\\mid^2 d B^2\\tag{2.1.45}$$ \n",
    "\n",
    "* $$\\mid\\frac{\\partial\\Omega_{O_2^{+}}}{\\partial B}\\mid^2=\\left(\\frac{q_{e}}{m_{O_2^{+}}} \\right)^2 \\tag{2.1.46}$$\n",
    "\n",
    "\n",
    "</p>\n",
    "\n",
    "##### 2.2 Error Analysis for Hall Conductivity\n",
    "<a class=\"anchor\" id=\"Hall-Error-Analysis\"></a>\n",
    "Again, ccording to the general equation $2.1$ for error propagation, the uncertainty for eq. $1.2$ is calculated by the following equation:\n",
    "\n",
    "$$ \\begin{aligned} d\\sigma_{H}^2=\\mid\\frac{\\partial\\sigma_{H}}{\\partial B}\\mid^2 dB^2+\\mid\\frac{\\partial\\sigma_{H}}{\\partial N_e}\\mid^2 d(N_{e} 10^6)^{2}+\\mid\\frac{\\partial\\sigma_{H}}{\\partial N_{O^+}}\\mid^2 d (N_{O^+} 10^6)^2+\n",
    "\\mid\\frac{\\partial\\sigma_{H}}{\\partial N_{O_2^+}}\\mid^2 d (N_{O_2^+} 10^6)^2+\\\\ \\mid\\frac{\\partial\\sigma_{H}}{\\partial r_{e}}\\mid^2 d r_{e}^2 +\\mid\\frac{\\partial\\sigma_{H}}{\\partial r_{O^+}}\\mid^2 dr_{O^+}^2+\\mid\\frac{\\partial\\sigma_{H}}{\\partial r_{O_2^+}}\\mid^2 dr_{O_2^+}^2\\end{aligned}\\tag{2.2.1}$$\n",
    "\n",
    "In order to calculate $d\\sigma_{H}$, every term of eq. $2.2.1$ should be calculated. Many of the terms of equation $2.2.1$ are the same with the terms of equation $2.1.1$, so it isn't necessary to calculated again. By implementing all the rest necessary derivations the following equations are obtained.\n",
    "\n",
    "------------\n",
    "$$\\mid\\frac{\\partial\\sigma_{H}}{\\partial B}\\mid^2= \\left( - \\frac{q_{e}}{B^{2}} \\left(N_e 10^6\\frac{1}{r_{e}^{2} + 1} + N_{O_{2}^{+}} 10^6\\frac{1}{r_{O_2^+}^{2} + 1} + N_{O^+} 10^6 \\frac{1}{r_{O^+}^{2} + 1}\\right)\\right)^2 \\tag{2.2.2}$$\n",
    "\n",
    "------------\n",
    "$$\\mid\\frac{\\partial\\sigma_{H}}{\\partial N_e}\\mid^2= \\left(\\frac{q_{e}}{B} \\frac{1}{r_{e}^{2} + 1}    \\right)^2 \\tag{2.2.3}$$\n",
    "\n",
    "------------\n",
    "$$\\mid\\frac{\\partial\\sigma_{H}}{\\partial N_{O^+}}\\mid^2= \\left( \\frac{q_{e}}{B} \\frac{1}{ r_{O^+}^{2} + 1}   \\right)^2 \\tag{2.2.4}$$\n",
    "\n",
    "------------\n",
    "$$\\mid\\frac{\\partial\\sigma_{H}}{\\partial N_{O_2^+}}\\mid^2= \\left(\\frac{q_{e}}{B} \\frac{1}{r_{O_2^+}^{2} + 1}    \\right)^2 \\tag{2.2.5}$$\n",
    "\n",
    "------------\n",
    "$$\\mid\\frac{\\partial\\sigma_{H}}{\\partial r_{e}}\\mid^2= \\left(- 2 N_e 10^6\\frac{q_{e}}{B}\\frac{r_{e}}{ \\left(r_{e}^{2} + 1\\right)^{2}}\\right)^2 \\tag{2.2.6}$$\n",
    "\n",
    "------------\n",
    "$$\\mid\\frac{\\partial\\sigma_{H}}{\\partial r_{O^+}}\\mid^2= \\left(- 2 N_{O^+} 10^6 \\frac{q_{e}}{B}\\frac{r_{Op}}{ \\left(r_{O^+}^{2} + 1\\right)^{2}}\\right)^2 \\tag{2.2.7}$$\n",
    "\n",
    "------------\n",
    "$$\\mid\\frac{\\partial\\sigma_{H}}{\\partial r_{O_2^+}}\\mid^2= \\left(-2 N_{O_2^+} 10^6 \\frac{q_{e}}{B} \\frac{  r_{O2p}}{\\left(r_{O_2^+}^{2} + 1\\right)^{2}}    \\right)^2 \\tag{2.2.8}$$\n",
    "### References\n",
    "<a class=\"anchor\" id=\"References\"></a>\n",
    "[1] Robert Schunk and Andrew Nagy.Physics, Plasma Physics, and Chemistry.Second Edition.[Chapter 4 : Collisions]<br/>\n",
    "[2]  Kirchner, James. \"Data Analysis Toolkit #5: Uncertainty Analysis and Error Propagation\" (PDF). Berkeley Seismology Laboratory. University of California. Retrieved 22 April 2016."
   ]
  },
  {
   "cell_type": "code",
   "execution_count": 2,
   "metadata": {
    "scrolled": false
   },
   "outputs": [
    {
     "data": {
      "application/vnd.jupyter.widget-view+json": {
       "model_id": "20dd2fa0f8ab4ef4a1f4423218097d03",
       "version_major": 2,
       "version_minor": 0
      },
      "text/plain": [
       "VBox(children=(Tab(children=(VBox(children=(Dropdown(description='TIE-GCM files: ', layout=Layout(width='850px…"
      ]
     },
     "metadata": {},
     "output_type": "display_data"
    },
    {
     "name": "stdout",
     "output_type": "stream",
     "text": [
      "Calculation started...\n"
     ]
    },
    {
     "data": {
      "application/vnd.plotly.v1+json": {
       "config": {
        "plotlyServerURL": "https://plot.ly"
       },
       "data": [
        {
         "line": {
          "color": "red"
         },
         "mode": "lines",
         "name": "Pedersen",
         "type": "scatter",
         "x": [
          5.451261219032726e-07,
          9.776301692909383e-07,
          1.7334016415233363e-06,
          2.964692769092841e-06,
          5.100086415682325e-06,
          8.83366100802052e-06,
          1.5342040853969594e-05,
          2.6364677024158402e-05,
          4.367472993619077e-05,
          6.727808509992074e-05,
          9.339848123835e-05,
          0.00011476835937843341,
          0.00012447837813765527,
          0.00012051188335607851,
          0.00010612185567652452,
          8.673684619290014e-05,
          6.715965838979379e-05,
          5.0300627886487056e-05,
          3.718888510614842e-05,
          2.7643938520474514e-05,
          2.0975266088582447e-05,
          1.6414867265001553e-05,
          1.3661533456760114e-05,
          1.1768477970043176e-05,
          1.0261261295655393e-05,
          9.303856634889812e-06,
          8.672118409421414e-06,
          8.147204422677979e-06,
          7.558722543441675e-06,
          6.821066508347635e-06,
          5.944554690252999e-06,
          5.001495451917567e-06,
          4.077574853800289e-06,
          3.23848222842071e-06,
          2.5193444141356287e-06,
          1.9290484248933097e-06,
          1.459600432651866e-06,
          1.0947270022161331e-06,
          8.157771884019263e-07,
          6.050270634244947e-07,
          4.471495114359715e-07,
          3.2960111523915145e-07,
          2.424670870291568e-07,
          1.7808627990235161e-07,
          1.3062963529652233e-07,
          9.570881102270042e-08,
          7.004511518202231e-08,
          5.1202204602290476e-08,
          3.737687390350989e-08,
          2.723847769180575e-08,
          1.9807266412251222e-08,
          1.4363034367895485e-08,
          1.0376986742732365e-08,
          7.461172303391292e-09,
          5.331091467104859e-09,
          3.77810816306716e-09
         ],
         "y": [
          96.36432,
          97.69113,
          98.96521,
          100.21858,
          101.49149,
          102.83465,
          104.31025,
          105.99205,
          107.9605,
          110.28514,
          112.99677,
          116.0809,
          119.49435,
          123.18561,
          127.1144,
          131.26863,
          135.66771,
          140.35171,
          145.36669,
          150.75399,
          156.54488,
          162.75891,
          169.4047,
          176.48172,
          183.98288,
          191.89784,
          200.21538,
          208.92486,
          218.01702,
          227.48388,
          237.31828,
          247.51354,
          258.0632,
          268.96082,
          280.19986,
          291.77326,
          303.6734,
          315.89174,
          328.419,
          341.2452,
          354.35996,
          367.75308,
          381.41508,
          395.33784,
          409.5154,
          423.9448,
          438.62676,
          453.56656,
          468.7752,
          484.27028,
          500.07764,
          516.23308,
          532.7848,
          549.7966,
          567.35232,
          585.562
         ]
        },
        {
         "line": {
          "color": "blue"
         },
         "mode": "lines",
         "name": "Hall",
         "type": "scatter",
         "x": [
          1.89297824389326e-05,
          3.1053795445924626e-05,
          4.769240702551937e-05,
          6.680730355839512e-05,
          8.898715082216843e-05,
          0.00011320948873572487,
          0.0001380930168131294,
          0.00016148970142891033,
          0.00017980778467320739,
          0.0001879203163022175,
          0.0001810358594317331,
          0.00015829580023422947,
          0.00012483257690680508,
          8.916704139907126e-05,
          5.826432759720028e-05,
          3.5272932436803066e-05,
          2.0120579499353584e-05,
          1.1044294513975095e-05,
          5.967659056570655e-06,
          3.243524921822949e-06,
          1.806550781303769e-06,
          1.0458275001965883e-06,
          6.513234453877247e-07,
          4.269699296985612e-07,
          2.8993288783158147e-07,
          2.0916091842412284e-07,
          1.5714108558323068e-07,
          1.1925352307956832e-07,
          8.900485198178425e-08,
          6.42560048655845e-08,
          4.4618105097485015e-08,
          2.984392852288447e-08,
          1.9324033773414828e-08,
          1.2184529387717349e-08,
          7.523508958011284e-09,
          4.570836103341935e-09,
          2.7427078698294864e-09,
          1.6301772186532042e-09,
          9.618522244907984e-10,
          5.642904884273587e-10,
          3.2956353630344456e-10,
          1.9178070604911544e-10,
          1.112724631149369e-10,
          6.440130994160302e-11,
          3.719326603829111e-11,
          2.1437196186223862e-11,
          1.2331312764994924e-11,
          7.078126404164312e-12,
          4.052680278787453e-12,
          2.3133065535904093e-12,
          1.3153157875661111e-12,
          7.441076221354393e-13,
          4.1820099613140683e-13,
          2.3302460964992793e-13,
          1.283927165373132e-13,
          6.971578293041449e-14
         ],
         "y": [
          96.36432,
          97.69113,
          98.96521,
          100.21858,
          101.49149,
          102.83465,
          104.31025,
          105.99205,
          107.9605,
          110.28514,
          112.99677,
          116.0809,
          119.49435,
          123.18561,
          127.1144,
          131.26863,
          135.66771,
          140.35171,
          145.36669,
          150.75399,
          156.54488,
          162.75891,
          169.4047,
          176.48172,
          183.98288,
          191.89784,
          200.21538,
          208.92486,
          218.01702,
          227.48388,
          237.31828,
          247.51354,
          258.0632,
          268.96082,
          280.19986,
          291.77326,
          303.6734,
          315.89174,
          328.419,
          341.2452,
          354.35996,
          367.75308,
          381.41508,
          395.33784,
          409.5154,
          423.9448,
          438.62676,
          453.56656,
          468.7752,
          484.27028,
          500.07764,
          516.23308,
          532.7848,
          549.7966,
          567.35232,
          585.562
         ]
        },
        {
         "line": {
          "color": "black"
         },
         "mode": "lines",
         "name": "Parallel",
         "type": "scatter",
         "x": [
          0.0021198924059909747,
          0.004452153239219026,
          0.00877470542474327,
          0.015828202483362076,
          0.02726941599321133,
          0.04511473048829586,
          0.0720639711250359,
          0.1115177445955024,
          0.16728099092542412,
          0.24297194373883987,
          0.3417644109615152,
          0.46693105169392496,
          0.6222780738915517,
          0.8122068173572494,
          1.0424511420047466,
          1.3217240071970355,
          1.6636453769096045,
          2.0888428215497106,
          2.626798554908206,
          3.3189801524207554,
          4.2319046524437365,
          5.486902434202785,
          7.486830377537843,
          10.462754236544546,
          14.618460346010584,
          21.056314792001118,
          31.083552656526788,
          46.48104919349141,
          69.43069463243975,
          101.99470537464722,
          145.9318064034383,
          202.68493932178302,
          273.6470204490117,
          360.51917812814656,
          465.6058441832832,
          591.9990927081124,
          743.6707578154153,
          925.5095458966726,
          1143.340970083265,
          1403.960011621721,
          1715.201846512334,
          2086.0713877250773,
          2526.9439429612376,
          3049.865461826953,
          3668.9582398839925,
          4400.9702389951335,
          5265.976873147184,
          6288.273167785339,
          7497.467711456556,
          8929.844974305184,
          10630.050561924385,
          12653.24906121408,
          15067.936955707644,
          17959.743827560276,
          21436.64191272005,
          25634.65995754778
         ],
         "y": [
          96.36432,
          97.69113,
          98.96521,
          100.21858,
          101.49149,
          102.83465,
          104.31025,
          105.99205,
          107.9605,
          110.28514,
          112.99677,
          116.0809,
          119.49435,
          123.18561,
          127.1144,
          131.26863,
          135.66771,
          140.35171,
          145.36669,
          150.75399,
          156.54488,
          162.75891,
          169.4047,
          176.48172,
          183.98288,
          191.89784,
          200.21538,
          208.92486,
          218.01702,
          227.48388,
          237.31828,
          247.51354,
          258.0632,
          268.96082,
          280.19986,
          291.77326,
          303.6734,
          315.89174,
          328.419,
          341.2452,
          354.35996,
          367.75308,
          381.41508,
          395.33784,
          409.5154,
          423.9448,
          438.62676,
          453.56656,
          468.7752,
          484.27028,
          500.07764,
          516.23308,
          532.7848,
          549.7966,
          567.35232,
          585.562
         ]
        }
       ],
       "layout": {
        "height": 750,
        "template": {
         "data": {
          "bar": [
           {
            "error_x": {
             "color": "#2a3f5f"
            },
            "error_y": {
             "color": "#2a3f5f"
            },
            "marker": {
             "line": {
              "color": "#E5ECF6",
              "width": 0.5
             }
            },
            "type": "bar"
           }
          ],
          "barpolar": [
           {
            "marker": {
             "line": {
              "color": "#E5ECF6",
              "width": 0.5
             }
            },
            "type": "barpolar"
           }
          ],
          "carpet": [
           {
            "aaxis": {
             "endlinecolor": "#2a3f5f",
             "gridcolor": "white",
             "linecolor": "white",
             "minorgridcolor": "white",
             "startlinecolor": "#2a3f5f"
            },
            "baxis": {
             "endlinecolor": "#2a3f5f",
             "gridcolor": "white",
             "linecolor": "white",
             "minorgridcolor": "white",
             "startlinecolor": "#2a3f5f"
            },
            "type": "carpet"
           }
          ],
          "choropleth": [
           {
            "colorbar": {
             "outlinewidth": 0,
             "ticks": ""
            },
            "type": "choropleth"
           }
          ],
          "contour": [
           {
            "colorbar": {
             "outlinewidth": 0,
             "ticks": ""
            },
            "colorscale": [
             [
              0,
              "#0d0887"
             ],
             [
              0.1111111111111111,
              "#46039f"
             ],
             [
              0.2222222222222222,
              "#7201a8"
             ],
             [
              0.3333333333333333,
              "#9c179e"
             ],
             [
              0.4444444444444444,
              "#bd3786"
             ],
             [
              0.5555555555555556,
              "#d8576b"
             ],
             [
              0.6666666666666666,
              "#ed7953"
             ],
             [
              0.7777777777777778,
              "#fb9f3a"
             ],
             [
              0.8888888888888888,
              "#fdca26"
             ],
             [
              1,
              "#f0f921"
             ]
            ],
            "type": "contour"
           }
          ],
          "contourcarpet": [
           {
            "colorbar": {
             "outlinewidth": 0,
             "ticks": ""
            },
            "type": "contourcarpet"
           }
          ],
          "heatmap": [
           {
            "colorbar": {
             "outlinewidth": 0,
             "ticks": ""
            },
            "colorscale": [
             [
              0,
              "#0d0887"
             ],
             [
              0.1111111111111111,
              "#46039f"
             ],
             [
              0.2222222222222222,
              "#7201a8"
             ],
             [
              0.3333333333333333,
              "#9c179e"
             ],
             [
              0.4444444444444444,
              "#bd3786"
             ],
             [
              0.5555555555555556,
              "#d8576b"
             ],
             [
              0.6666666666666666,
              "#ed7953"
             ],
             [
              0.7777777777777778,
              "#fb9f3a"
             ],
             [
              0.8888888888888888,
              "#fdca26"
             ],
             [
              1,
              "#f0f921"
             ]
            ],
            "type": "heatmap"
           }
          ],
          "heatmapgl": [
           {
            "colorbar": {
             "outlinewidth": 0,
             "ticks": ""
            },
            "colorscale": [
             [
              0,
              "#0d0887"
             ],
             [
              0.1111111111111111,
              "#46039f"
             ],
             [
              0.2222222222222222,
              "#7201a8"
             ],
             [
              0.3333333333333333,
              "#9c179e"
             ],
             [
              0.4444444444444444,
              "#bd3786"
             ],
             [
              0.5555555555555556,
              "#d8576b"
             ],
             [
              0.6666666666666666,
              "#ed7953"
             ],
             [
              0.7777777777777778,
              "#fb9f3a"
             ],
             [
              0.8888888888888888,
              "#fdca26"
             ],
             [
              1,
              "#f0f921"
             ]
            ],
            "type": "heatmapgl"
           }
          ],
          "histogram": [
           {
            "marker": {
             "colorbar": {
              "outlinewidth": 0,
              "ticks": ""
             }
            },
            "type": "histogram"
           }
          ],
          "histogram2d": [
           {
            "colorbar": {
             "outlinewidth": 0,
             "ticks": ""
            },
            "colorscale": [
             [
              0,
              "#0d0887"
             ],
             [
              0.1111111111111111,
              "#46039f"
             ],
             [
              0.2222222222222222,
              "#7201a8"
             ],
             [
              0.3333333333333333,
              "#9c179e"
             ],
             [
              0.4444444444444444,
              "#bd3786"
             ],
             [
              0.5555555555555556,
              "#d8576b"
             ],
             [
              0.6666666666666666,
              "#ed7953"
             ],
             [
              0.7777777777777778,
              "#fb9f3a"
             ],
             [
              0.8888888888888888,
              "#fdca26"
             ],
             [
              1,
              "#f0f921"
             ]
            ],
            "type": "histogram2d"
           }
          ],
          "histogram2dcontour": [
           {
            "colorbar": {
             "outlinewidth": 0,
             "ticks": ""
            },
            "colorscale": [
             [
              0,
              "#0d0887"
             ],
             [
              0.1111111111111111,
              "#46039f"
             ],
             [
              0.2222222222222222,
              "#7201a8"
             ],
             [
              0.3333333333333333,
              "#9c179e"
             ],
             [
              0.4444444444444444,
              "#bd3786"
             ],
             [
              0.5555555555555556,
              "#d8576b"
             ],
             [
              0.6666666666666666,
              "#ed7953"
             ],
             [
              0.7777777777777778,
              "#fb9f3a"
             ],
             [
              0.8888888888888888,
              "#fdca26"
             ],
             [
              1,
              "#f0f921"
             ]
            ],
            "type": "histogram2dcontour"
           }
          ],
          "mesh3d": [
           {
            "colorbar": {
             "outlinewidth": 0,
             "ticks": ""
            },
            "type": "mesh3d"
           }
          ],
          "parcoords": [
           {
            "line": {
             "colorbar": {
              "outlinewidth": 0,
              "ticks": ""
             }
            },
            "type": "parcoords"
           }
          ],
          "pie": [
           {
            "automargin": true,
            "type": "pie"
           }
          ],
          "scatter": [
           {
            "marker": {
             "colorbar": {
              "outlinewidth": 0,
              "ticks": ""
             }
            },
            "type": "scatter"
           }
          ],
          "scatter3d": [
           {
            "line": {
             "colorbar": {
              "outlinewidth": 0,
              "ticks": ""
             }
            },
            "marker": {
             "colorbar": {
              "outlinewidth": 0,
              "ticks": ""
             }
            },
            "type": "scatter3d"
           }
          ],
          "scattercarpet": [
           {
            "marker": {
             "colorbar": {
              "outlinewidth": 0,
              "ticks": ""
             }
            },
            "type": "scattercarpet"
           }
          ],
          "scattergeo": [
           {
            "marker": {
             "colorbar": {
              "outlinewidth": 0,
              "ticks": ""
             }
            },
            "type": "scattergeo"
           }
          ],
          "scattergl": [
           {
            "marker": {
             "colorbar": {
              "outlinewidth": 0,
              "ticks": ""
             }
            },
            "type": "scattergl"
           }
          ],
          "scattermapbox": [
           {
            "marker": {
             "colorbar": {
              "outlinewidth": 0,
              "ticks": ""
             }
            },
            "type": "scattermapbox"
           }
          ],
          "scatterpolar": [
           {
            "marker": {
             "colorbar": {
              "outlinewidth": 0,
              "ticks": ""
             }
            },
            "type": "scatterpolar"
           }
          ],
          "scatterpolargl": [
           {
            "marker": {
             "colorbar": {
              "outlinewidth": 0,
              "ticks": ""
             }
            },
            "type": "scatterpolargl"
           }
          ],
          "scatterternary": [
           {
            "marker": {
             "colorbar": {
              "outlinewidth": 0,
              "ticks": ""
             }
            },
            "type": "scatterternary"
           }
          ],
          "surface": [
           {
            "colorbar": {
             "outlinewidth": 0,
             "ticks": ""
            },
            "colorscale": [
             [
              0,
              "#0d0887"
             ],
             [
              0.1111111111111111,
              "#46039f"
             ],
             [
              0.2222222222222222,
              "#7201a8"
             ],
             [
              0.3333333333333333,
              "#9c179e"
             ],
             [
              0.4444444444444444,
              "#bd3786"
             ],
             [
              0.5555555555555556,
              "#d8576b"
             ],
             [
              0.6666666666666666,
              "#ed7953"
             ],
             [
              0.7777777777777778,
              "#fb9f3a"
             ],
             [
              0.8888888888888888,
              "#fdca26"
             ],
             [
              1,
              "#f0f921"
             ]
            ],
            "type": "surface"
           }
          ],
          "table": [
           {
            "cells": {
             "fill": {
              "color": "#EBF0F8"
             },
             "line": {
              "color": "white"
             }
            },
            "header": {
             "fill": {
              "color": "#C8D4E3"
             },
             "line": {
              "color": "white"
             }
            },
            "type": "table"
           }
          ]
         },
         "layout": {
          "annotationdefaults": {
           "arrowcolor": "#2a3f5f",
           "arrowhead": 0,
           "arrowwidth": 1
          },
          "coloraxis": {
           "colorbar": {
            "outlinewidth": 0,
            "ticks": ""
           }
          },
          "colorscale": {
           "diverging": [
            [
             0,
             "#8e0152"
            ],
            [
             0.1,
             "#c51b7d"
            ],
            [
             0.2,
             "#de77ae"
            ],
            [
             0.3,
             "#f1b6da"
            ],
            [
             0.4,
             "#fde0ef"
            ],
            [
             0.5,
             "#f7f7f7"
            ],
            [
             0.6,
             "#e6f5d0"
            ],
            [
             0.7,
             "#b8e186"
            ],
            [
             0.8,
             "#7fbc41"
            ],
            [
             0.9,
             "#4d9221"
            ],
            [
             1,
             "#276419"
            ]
           ],
           "sequential": [
            [
             0,
             "#0d0887"
            ],
            [
             0.1111111111111111,
             "#46039f"
            ],
            [
             0.2222222222222222,
             "#7201a8"
            ],
            [
             0.3333333333333333,
             "#9c179e"
            ],
            [
             0.4444444444444444,
             "#bd3786"
            ],
            [
             0.5555555555555556,
             "#d8576b"
            ],
            [
             0.6666666666666666,
             "#ed7953"
            ],
            [
             0.7777777777777778,
             "#fb9f3a"
            ],
            [
             0.8888888888888888,
             "#fdca26"
            ],
            [
             1,
             "#f0f921"
            ]
           ],
           "sequentialminus": [
            [
             0,
             "#0d0887"
            ],
            [
             0.1111111111111111,
             "#46039f"
            ],
            [
             0.2222222222222222,
             "#7201a8"
            ],
            [
             0.3333333333333333,
             "#9c179e"
            ],
            [
             0.4444444444444444,
             "#bd3786"
            ],
            [
             0.5555555555555556,
             "#d8576b"
            ],
            [
             0.6666666666666666,
             "#ed7953"
            ],
            [
             0.7777777777777778,
             "#fb9f3a"
            ],
            [
             0.8888888888888888,
             "#fdca26"
            ],
            [
             1,
             "#f0f921"
            ]
           ]
          },
          "colorway": [
           "#636efa",
           "#EF553B",
           "#00cc96",
           "#ab63fa",
           "#FFA15A",
           "#19d3f3",
           "#FF6692",
           "#B6E880",
           "#FF97FF",
           "#FECB52"
          ],
          "font": {
           "color": "#2a3f5f"
          },
          "geo": {
           "bgcolor": "white",
           "lakecolor": "white",
           "landcolor": "#E5ECF6",
           "showlakes": true,
           "showland": true,
           "subunitcolor": "white"
          },
          "hoverlabel": {
           "align": "left"
          },
          "hovermode": "closest",
          "mapbox": {
           "style": "light"
          },
          "paper_bgcolor": "white",
          "plot_bgcolor": "#E5ECF6",
          "polar": {
           "angularaxis": {
            "gridcolor": "white",
            "linecolor": "white",
            "ticks": ""
           },
           "bgcolor": "#E5ECF6",
           "radialaxis": {
            "gridcolor": "white",
            "linecolor": "white",
            "ticks": ""
           }
          },
          "scene": {
           "xaxis": {
            "backgroundcolor": "#E5ECF6",
            "gridcolor": "white",
            "gridwidth": 2,
            "linecolor": "white",
            "showbackground": true,
            "ticks": "",
            "zerolinecolor": "white"
           },
           "yaxis": {
            "backgroundcolor": "#E5ECF6",
            "gridcolor": "white",
            "gridwidth": 2,
            "linecolor": "white",
            "showbackground": true,
            "ticks": "",
            "zerolinecolor": "white"
           },
           "zaxis": {
            "backgroundcolor": "#E5ECF6",
            "gridcolor": "white",
            "gridwidth": 2,
            "linecolor": "white",
            "showbackground": true,
            "ticks": "",
            "zerolinecolor": "white"
           }
          },
          "shapedefaults": {
           "line": {
            "color": "#2a3f5f"
           }
          },
          "ternary": {
           "aaxis": {
            "gridcolor": "white",
            "linecolor": "white",
            "ticks": ""
           },
           "baxis": {
            "gridcolor": "white",
            "linecolor": "white",
            "ticks": ""
           },
           "bgcolor": "#E5ECF6",
           "caxis": {
            "gridcolor": "white",
            "linecolor": "white",
            "ticks": ""
           }
          },
          "title": {
           "x": 0.05
          },
          "xaxis": {
           "automargin": true,
           "gridcolor": "white",
           "linecolor": "white",
           "ticks": "",
           "title": {
            "standoff": 15
           },
           "zerolinecolor": "white",
           "zerolinewidth": 2
          },
          "yaxis": {
           "automargin": true,
           "gridcolor": "white",
           "linecolor": "white",
           "ticks": "",
           "title": {
            "standoff": 15
           },
           "zerolinecolor": "white",
           "zerolinewidth": 2
          }
         }
        },
        "title": {
         "text": "Conductivities ,Lat: -83.75, Lon: -175.0, 2015-03-15 00:05:00",
         "x": 0.5,
         "xanchor": "center",
         "y": 0.9,
         "yanchor": "top"
        },
        "width": 750,
        "xaxis": {
         "exponentformat": "power",
         "gridcolor": "grey",
         "gridwidth": 0.5,
         "linecolor": "black",
         "linewidth": 2,
         "mirror": true,
         "showexponent": "all",
         "showgrid": true,
         "showline": true,
         "title": {
          "text": "Conductivity S/m"
         },
         "type": "log"
        },
        "yaxis": {
         "dtick": 20,
         "gridcolor": "grey",
         "gridwidth": 0.5,
         "linecolor": "black",
         "linewidth": 2,
         "mirror": true,
         "showgrid": true,
         "showline": true,
         "tick0": 60,
         "title": {
          "text": "Altitude (km)"
         }
        }
       }
      },
      "text/html": [
       "<div>\n",
       "        \n",
       "        \n",
       "            <div id=\"aa3772c7-2dc6-4fc9-95dd-75b80128d236\" class=\"plotly-graph-div\" style=\"height:750px; width:750px;\"></div>\n",
       "            <script type=\"text/javascript\">\n",
       "                require([\"plotly\"], function(Plotly) {\n",
       "                    window.PLOTLYENV=window.PLOTLYENV || {};\n",
       "                    \n",
       "                if (document.getElementById(\"aa3772c7-2dc6-4fc9-95dd-75b80128d236\")) {\n",
       "                    Plotly.newPlot(\n",
       "                        'aa3772c7-2dc6-4fc9-95dd-75b80128d236',\n",
       "                        [{\"line\": {\"color\": \"red\"}, \"mode\": \"lines\", \"name\": \"Pedersen\", \"type\": \"scatter\", \"x\": [5.451261219032726e-07, 9.776301692909383e-07, 1.7334016415233363e-06, 2.964692769092841e-06, 5.100086415682325e-06, 8.83366100802052e-06, 1.5342040853969594e-05, 2.6364677024158402e-05, 4.367472993619077e-05, 6.727808509992074e-05, 9.339848123835e-05, 0.00011476835937843341, 0.00012447837813765527, 0.00012051188335607851, 0.00010612185567652452, 8.673684619290014e-05, 6.715965838979379e-05, 5.0300627886487056e-05, 3.718888510614842e-05, 2.7643938520474514e-05, 2.0975266088582447e-05, 1.6414867265001553e-05, 1.3661533456760114e-05, 1.1768477970043176e-05, 1.0261261295655393e-05, 9.303856634889812e-06, 8.672118409421414e-06, 8.147204422677979e-06, 7.558722543441675e-06, 6.821066508347635e-06, 5.944554690252999e-06, 5.001495451917567e-06, 4.077574853800289e-06, 3.23848222842071e-06, 2.5193444141356287e-06, 1.9290484248933097e-06, 1.459600432651866e-06, 1.0947270022161331e-06, 8.157771884019263e-07, 6.050270634244947e-07, 4.471495114359715e-07, 3.2960111523915145e-07, 2.424670870291568e-07, 1.7808627990235161e-07, 1.3062963529652233e-07, 9.570881102270042e-08, 7.004511518202231e-08, 5.1202204602290476e-08, 3.737687390350989e-08, 2.723847769180575e-08, 1.9807266412251222e-08, 1.4363034367895485e-08, 1.0376986742732365e-08, 7.461172303391292e-09, 5.331091467104859e-09, 3.77810816306716e-09], \"y\": [96.36432, 97.69113, 98.96521, 100.21858, 101.49149, 102.83465, 104.31025, 105.99205, 107.9605, 110.28514, 112.99677, 116.0809, 119.49435, 123.18561, 127.1144, 131.26863, 135.66771, 140.35171, 145.36669, 150.75399, 156.54488, 162.75891, 169.4047, 176.48172, 183.98288, 191.89784, 200.21538, 208.92486, 218.01702, 227.48388, 237.31828, 247.51354, 258.0632, 268.96082, 280.19986, 291.77326, 303.6734, 315.89174, 328.419, 341.2452, 354.35996, 367.75308, 381.41508, 395.33784, 409.5154, 423.9448, 438.62676, 453.56656, 468.7752, 484.27028, 500.07764, 516.23308, 532.7848, 549.7966, 567.35232, 585.562]}, {\"line\": {\"color\": \"blue\"}, \"mode\": \"lines\", \"name\": \"Hall\", \"type\": \"scatter\", \"x\": [1.89297824389326e-05, 3.1053795445924626e-05, 4.769240702551937e-05, 6.680730355839512e-05, 8.898715082216843e-05, 0.00011320948873572487, 0.0001380930168131294, 0.00016148970142891033, 0.00017980778467320739, 0.0001879203163022175, 0.0001810358594317331, 0.00015829580023422947, 0.00012483257690680508, 8.916704139907126e-05, 5.826432759720028e-05, 3.5272932436803066e-05, 2.0120579499353584e-05, 1.1044294513975095e-05, 5.967659056570655e-06, 3.243524921822949e-06, 1.806550781303769e-06, 1.0458275001965883e-06, 6.513234453877247e-07, 4.269699296985612e-07, 2.8993288783158147e-07, 2.0916091842412284e-07, 1.5714108558323068e-07, 1.1925352307956832e-07, 8.900485198178425e-08, 6.42560048655845e-08, 4.4618105097485015e-08, 2.984392852288447e-08, 1.9324033773414828e-08, 1.2184529387717349e-08, 7.523508958011284e-09, 4.570836103341935e-09, 2.7427078698294864e-09, 1.6301772186532042e-09, 9.618522244907984e-10, 5.642904884273587e-10, 3.2956353630344456e-10, 1.9178070604911544e-10, 1.112724631149369e-10, 6.440130994160302e-11, 3.719326603829111e-11, 2.1437196186223862e-11, 1.2331312764994924e-11, 7.078126404164312e-12, 4.052680278787453e-12, 2.3133065535904093e-12, 1.3153157875661111e-12, 7.441076221354393e-13, 4.1820099613140683e-13, 2.3302460964992793e-13, 1.283927165373132e-13, 6.971578293041449e-14], \"y\": [96.36432, 97.69113, 98.96521, 100.21858, 101.49149, 102.83465, 104.31025, 105.99205, 107.9605, 110.28514, 112.99677, 116.0809, 119.49435, 123.18561, 127.1144, 131.26863, 135.66771, 140.35171, 145.36669, 150.75399, 156.54488, 162.75891, 169.4047, 176.48172, 183.98288, 191.89784, 200.21538, 208.92486, 218.01702, 227.48388, 237.31828, 247.51354, 258.0632, 268.96082, 280.19986, 291.77326, 303.6734, 315.89174, 328.419, 341.2452, 354.35996, 367.75308, 381.41508, 395.33784, 409.5154, 423.9448, 438.62676, 453.56656, 468.7752, 484.27028, 500.07764, 516.23308, 532.7848, 549.7966, 567.35232, 585.562]}, {\"line\": {\"color\": \"black\"}, \"mode\": \"lines\", \"name\": \"Parallel\", \"type\": \"scatter\", \"x\": [0.0021198924059909747, 0.004452153239219026, 0.00877470542474327, 0.015828202483362076, 0.02726941599321133, 0.04511473048829586, 0.0720639711250359, 0.1115177445955024, 0.16728099092542412, 0.24297194373883987, 0.3417644109615152, 0.46693105169392496, 0.6222780738915517, 0.8122068173572494, 1.0424511420047466, 1.3217240071970355, 1.6636453769096045, 2.0888428215497106, 2.626798554908206, 3.3189801524207554, 4.2319046524437365, 5.486902434202785, 7.486830377537843, 10.462754236544546, 14.618460346010584, 21.056314792001118, 31.083552656526788, 46.48104919349141, 69.43069463243975, 101.99470537464722, 145.9318064034383, 202.68493932178302, 273.6470204490117, 360.51917812814656, 465.6058441832832, 591.9990927081124, 743.6707578154153, 925.5095458966726, 1143.340970083265, 1403.960011621721, 1715.201846512334, 2086.0713877250773, 2526.9439429612376, 3049.865461826953, 3668.9582398839925, 4400.9702389951335, 5265.976873147184, 6288.273167785339, 7497.467711456556, 8929.844974305184, 10630.050561924385, 12653.24906121408, 15067.936955707644, 17959.743827560276, 21436.64191272005, 25634.65995754778], \"y\": [96.36432, 97.69113, 98.96521, 100.21858, 101.49149, 102.83465, 104.31025, 105.99205, 107.9605, 110.28514, 112.99677, 116.0809, 119.49435, 123.18561, 127.1144, 131.26863, 135.66771, 140.35171, 145.36669, 150.75399, 156.54488, 162.75891, 169.4047, 176.48172, 183.98288, 191.89784, 200.21538, 208.92486, 218.01702, 227.48388, 237.31828, 247.51354, 258.0632, 268.96082, 280.19986, 291.77326, 303.6734, 315.89174, 328.419, 341.2452, 354.35996, 367.75308, 381.41508, 395.33784, 409.5154, 423.9448, 438.62676, 453.56656, 468.7752, 484.27028, 500.07764, 516.23308, 532.7848, 549.7966, 567.35232, 585.562]}],\n",
       "                        {\"height\": 750, \"template\": {\"data\": {\"bar\": [{\"error_x\": {\"color\": \"#2a3f5f\"}, \"error_y\": {\"color\": \"#2a3f5f\"}, \"marker\": {\"line\": {\"color\": \"#E5ECF6\", \"width\": 0.5}}, \"type\": \"bar\"}], \"barpolar\": [{\"marker\": {\"line\": {\"color\": \"#E5ECF6\", \"width\": 0.5}}, \"type\": \"barpolar\"}], \"carpet\": [{\"aaxis\": {\"endlinecolor\": \"#2a3f5f\", \"gridcolor\": \"white\", \"linecolor\": \"white\", \"minorgridcolor\": \"white\", \"startlinecolor\": \"#2a3f5f\"}, \"baxis\": {\"endlinecolor\": \"#2a3f5f\", \"gridcolor\": \"white\", \"linecolor\": \"white\", \"minorgridcolor\": \"white\", \"startlinecolor\": \"#2a3f5f\"}, \"type\": \"carpet\"}], \"choropleth\": [{\"colorbar\": {\"outlinewidth\": 0, \"ticks\": \"\"}, \"type\": \"choropleth\"}], \"contour\": [{\"colorbar\": {\"outlinewidth\": 0, \"ticks\": \"\"}, \"colorscale\": [[0.0, \"#0d0887\"], [0.1111111111111111, \"#46039f\"], [0.2222222222222222, \"#7201a8\"], [0.3333333333333333, \"#9c179e\"], [0.4444444444444444, \"#bd3786\"], [0.5555555555555556, \"#d8576b\"], [0.6666666666666666, \"#ed7953\"], [0.7777777777777778, \"#fb9f3a\"], [0.8888888888888888, \"#fdca26\"], [1.0, \"#f0f921\"]], \"type\": \"contour\"}], \"contourcarpet\": [{\"colorbar\": {\"outlinewidth\": 0, \"ticks\": \"\"}, \"type\": \"contourcarpet\"}], \"heatmap\": [{\"colorbar\": {\"outlinewidth\": 0, \"ticks\": \"\"}, \"colorscale\": [[0.0, \"#0d0887\"], [0.1111111111111111, \"#46039f\"], [0.2222222222222222, \"#7201a8\"], [0.3333333333333333, \"#9c179e\"], [0.4444444444444444, \"#bd3786\"], [0.5555555555555556, \"#d8576b\"], [0.6666666666666666, \"#ed7953\"], [0.7777777777777778, \"#fb9f3a\"], [0.8888888888888888, \"#fdca26\"], [1.0, \"#f0f921\"]], \"type\": \"heatmap\"}], \"heatmapgl\": [{\"colorbar\": {\"outlinewidth\": 0, \"ticks\": \"\"}, \"colorscale\": [[0.0, \"#0d0887\"], [0.1111111111111111, \"#46039f\"], [0.2222222222222222, \"#7201a8\"], [0.3333333333333333, \"#9c179e\"], [0.4444444444444444, \"#bd3786\"], [0.5555555555555556, \"#d8576b\"], [0.6666666666666666, \"#ed7953\"], [0.7777777777777778, \"#fb9f3a\"], [0.8888888888888888, \"#fdca26\"], [1.0, \"#f0f921\"]], \"type\": \"heatmapgl\"}], \"histogram\": [{\"marker\": {\"colorbar\": {\"outlinewidth\": 0, \"ticks\": \"\"}}, \"type\": \"histogram\"}], \"histogram2d\": [{\"colorbar\": {\"outlinewidth\": 0, \"ticks\": \"\"}, \"colorscale\": [[0.0, \"#0d0887\"], [0.1111111111111111, \"#46039f\"], [0.2222222222222222, \"#7201a8\"], [0.3333333333333333, \"#9c179e\"], [0.4444444444444444, \"#bd3786\"], [0.5555555555555556, \"#d8576b\"], [0.6666666666666666, \"#ed7953\"], [0.7777777777777778, \"#fb9f3a\"], [0.8888888888888888, \"#fdca26\"], [1.0, \"#f0f921\"]], \"type\": \"histogram2d\"}], \"histogram2dcontour\": [{\"colorbar\": {\"outlinewidth\": 0, \"ticks\": \"\"}, \"colorscale\": [[0.0, \"#0d0887\"], [0.1111111111111111, \"#46039f\"], [0.2222222222222222, \"#7201a8\"], [0.3333333333333333, \"#9c179e\"], [0.4444444444444444, \"#bd3786\"], [0.5555555555555556, \"#d8576b\"], [0.6666666666666666, \"#ed7953\"], [0.7777777777777778, \"#fb9f3a\"], [0.8888888888888888, \"#fdca26\"], [1.0, \"#f0f921\"]], \"type\": \"histogram2dcontour\"}], \"mesh3d\": [{\"colorbar\": {\"outlinewidth\": 0, \"ticks\": \"\"}, \"type\": \"mesh3d\"}], \"parcoords\": [{\"line\": {\"colorbar\": {\"outlinewidth\": 0, \"ticks\": \"\"}}, \"type\": \"parcoords\"}], \"pie\": [{\"automargin\": true, \"type\": \"pie\"}], \"scatter\": [{\"marker\": {\"colorbar\": {\"outlinewidth\": 0, \"ticks\": \"\"}}, \"type\": \"scatter\"}], \"scatter3d\": [{\"line\": {\"colorbar\": {\"outlinewidth\": 0, \"ticks\": \"\"}}, \"marker\": {\"colorbar\": {\"outlinewidth\": 0, \"ticks\": \"\"}}, \"type\": \"scatter3d\"}], \"scattercarpet\": [{\"marker\": {\"colorbar\": {\"outlinewidth\": 0, \"ticks\": \"\"}}, \"type\": \"scattercarpet\"}], \"scattergeo\": [{\"marker\": {\"colorbar\": {\"outlinewidth\": 0, \"ticks\": \"\"}}, \"type\": \"scattergeo\"}], \"scattergl\": [{\"marker\": {\"colorbar\": {\"outlinewidth\": 0, \"ticks\": \"\"}}, \"type\": \"scattergl\"}], \"scattermapbox\": [{\"marker\": {\"colorbar\": {\"outlinewidth\": 0, \"ticks\": \"\"}}, \"type\": \"scattermapbox\"}], \"scatterpolar\": [{\"marker\": {\"colorbar\": {\"outlinewidth\": 0, \"ticks\": \"\"}}, \"type\": \"scatterpolar\"}], \"scatterpolargl\": [{\"marker\": {\"colorbar\": {\"outlinewidth\": 0, \"ticks\": \"\"}}, \"type\": \"scatterpolargl\"}], \"scatterternary\": [{\"marker\": {\"colorbar\": {\"outlinewidth\": 0, \"ticks\": \"\"}}, \"type\": \"scatterternary\"}], \"surface\": [{\"colorbar\": {\"outlinewidth\": 0, \"ticks\": \"\"}, \"colorscale\": [[0.0, \"#0d0887\"], [0.1111111111111111, \"#46039f\"], [0.2222222222222222, \"#7201a8\"], [0.3333333333333333, \"#9c179e\"], [0.4444444444444444, \"#bd3786\"], [0.5555555555555556, \"#d8576b\"], [0.6666666666666666, \"#ed7953\"], [0.7777777777777778, \"#fb9f3a\"], [0.8888888888888888, \"#fdca26\"], [1.0, \"#f0f921\"]], \"type\": \"surface\"}], \"table\": [{\"cells\": {\"fill\": {\"color\": \"#EBF0F8\"}, \"line\": {\"color\": \"white\"}}, \"header\": {\"fill\": {\"color\": \"#C8D4E3\"}, \"line\": {\"color\": \"white\"}}, \"type\": \"table\"}]}, \"layout\": {\"annotationdefaults\": {\"arrowcolor\": \"#2a3f5f\", \"arrowhead\": 0, \"arrowwidth\": 1}, \"coloraxis\": {\"colorbar\": {\"outlinewidth\": 0, \"ticks\": \"\"}}, \"colorscale\": {\"diverging\": [[0, \"#8e0152\"], [0.1, \"#c51b7d\"], [0.2, \"#de77ae\"], [0.3, \"#f1b6da\"], [0.4, \"#fde0ef\"], [0.5, \"#f7f7f7\"], [0.6, \"#e6f5d0\"], [0.7, \"#b8e186\"], [0.8, \"#7fbc41\"], [0.9, \"#4d9221\"], [1, \"#276419\"]], \"sequential\": [[0.0, \"#0d0887\"], [0.1111111111111111, \"#46039f\"], [0.2222222222222222, \"#7201a8\"], [0.3333333333333333, \"#9c179e\"], [0.4444444444444444, \"#bd3786\"], [0.5555555555555556, \"#d8576b\"], [0.6666666666666666, \"#ed7953\"], [0.7777777777777778, \"#fb9f3a\"], [0.8888888888888888, \"#fdca26\"], [1.0, \"#f0f921\"]], \"sequentialminus\": [[0.0, \"#0d0887\"], [0.1111111111111111, \"#46039f\"], [0.2222222222222222, \"#7201a8\"], [0.3333333333333333, \"#9c179e\"], [0.4444444444444444, \"#bd3786\"], [0.5555555555555556, \"#d8576b\"], [0.6666666666666666, \"#ed7953\"], [0.7777777777777778, \"#fb9f3a\"], [0.8888888888888888, \"#fdca26\"], [1.0, \"#f0f921\"]]}, \"colorway\": [\"#636efa\", \"#EF553B\", \"#00cc96\", \"#ab63fa\", \"#FFA15A\", \"#19d3f3\", \"#FF6692\", \"#B6E880\", \"#FF97FF\", \"#FECB52\"], \"font\": {\"color\": \"#2a3f5f\"}, \"geo\": {\"bgcolor\": \"white\", \"lakecolor\": \"white\", \"landcolor\": \"#E5ECF6\", \"showlakes\": true, \"showland\": true, \"subunitcolor\": \"white\"}, \"hoverlabel\": {\"align\": \"left\"}, \"hovermode\": \"closest\", \"mapbox\": {\"style\": \"light\"}, \"paper_bgcolor\": \"white\", \"plot_bgcolor\": \"#E5ECF6\", \"polar\": {\"angularaxis\": {\"gridcolor\": \"white\", \"linecolor\": \"white\", \"ticks\": \"\"}, \"bgcolor\": \"#E5ECF6\", \"radialaxis\": {\"gridcolor\": \"white\", \"linecolor\": \"white\", \"ticks\": \"\"}}, \"scene\": {\"xaxis\": {\"backgroundcolor\": \"#E5ECF6\", \"gridcolor\": \"white\", \"gridwidth\": 2, \"linecolor\": \"white\", \"showbackground\": true, \"ticks\": \"\", \"zerolinecolor\": \"white\"}, \"yaxis\": {\"backgroundcolor\": \"#E5ECF6\", \"gridcolor\": \"white\", \"gridwidth\": 2, \"linecolor\": \"white\", \"showbackground\": true, \"ticks\": \"\", \"zerolinecolor\": \"white\"}, \"zaxis\": {\"backgroundcolor\": \"#E5ECF6\", \"gridcolor\": \"white\", \"gridwidth\": 2, \"linecolor\": \"white\", \"showbackground\": true, \"ticks\": \"\", \"zerolinecolor\": \"white\"}}, \"shapedefaults\": {\"line\": {\"color\": \"#2a3f5f\"}}, \"ternary\": {\"aaxis\": {\"gridcolor\": \"white\", \"linecolor\": \"white\", \"ticks\": \"\"}, \"baxis\": {\"gridcolor\": \"white\", \"linecolor\": \"white\", \"ticks\": \"\"}, \"bgcolor\": \"#E5ECF6\", \"caxis\": {\"gridcolor\": \"white\", \"linecolor\": \"white\", \"ticks\": \"\"}}, \"title\": {\"x\": 0.05}, \"xaxis\": {\"automargin\": true, \"gridcolor\": \"white\", \"linecolor\": \"white\", \"ticks\": \"\", \"title\": {\"standoff\": 15}, \"zerolinecolor\": \"white\", \"zerolinewidth\": 2}, \"yaxis\": {\"automargin\": true, \"gridcolor\": \"white\", \"linecolor\": \"white\", \"ticks\": \"\", \"title\": {\"standoff\": 15}, \"zerolinecolor\": \"white\", \"zerolinewidth\": 2}}}, \"title\": {\"text\": \"Conductivities ,Lat: -83.75, Lon: -175.0, 2015-03-15 00:05:00\", \"x\": 0.5, \"xanchor\": \"center\", \"y\": 0.9, \"yanchor\": \"top\"}, \"width\": 750, \"xaxis\": {\"exponentformat\": \"power\", \"gridcolor\": \"grey\", \"gridwidth\": 0.5, \"linecolor\": \"black\", \"linewidth\": 2, \"mirror\": true, \"showexponent\": \"all\", \"showgrid\": true, \"showline\": true, \"title\": {\"text\": \"Conductivity S/m\"}, \"type\": \"log\"}, \"yaxis\": {\"dtick\": 20, \"gridcolor\": \"grey\", \"gridwidth\": 0.5, \"linecolor\": \"black\", \"linewidth\": 2, \"mirror\": true, \"showgrid\": true, \"showline\": true, \"tick0\": 60, \"title\": {\"text\": \"Altitude (km)\"}}},\n",
       "                        {\"responsive\": true}\n",
       "                    ).then(function(){\n",
       "                            \n",
       "var gd = document.getElementById('aa3772c7-2dc6-4fc9-95dd-75b80128d236');\n",
       "var x = new MutationObserver(function (mutations, observer) {{\n",
       "        var display = window.getComputedStyle(gd).display;\n",
       "        if (!display || display === 'none') {{\n",
       "            console.log([gd, 'removed!']);\n",
       "            Plotly.purge(gd);\n",
       "            observer.disconnect();\n",
       "        }}\n",
       "}});\n",
       "\n",
       "// Listen for the removal of the full notebook cells\n",
       "var notebookContainer = gd.closest('#notebook-container');\n",
       "if (notebookContainer) {{\n",
       "    x.observe(notebookContainer, {childList: true});\n",
       "}}\n",
       "\n",
       "// Listen for the clearing of the current output cell\n",
       "var outputEl = gd.closest('.output');\n",
       "if (outputEl) {{\n",
       "    x.observe(outputEl, {childList: true});\n",
       "}}\n",
       "\n",
       "                        })\n",
       "                };\n",
       "                });\n",
       "            </script>\n",
       "        </div>"
      ]
     },
     "metadata": {},
     "output_type": "display_data"
    },
    {
     "data": {
      "application/vnd.plotly.v1+json": {
       "config": {
        "plotlyServerURL": "https://plot.ly"
       },
       "data": [
        {
         "line": {
          "color": "orange"
         },
         "mode": "lines",
         "name": "Ve",
         "type": "scatter",
         "x": [
          88239.47033410447,
          68891.47728034902,
          53667.16597176581,
          41676.765300557694,
          32243.529165593725,
          24846.572347862828,
          19077.043690053364,
          14607.227539046284,
          11172.413666321001,
          8553.66528407478,
          6565.6127431754285,
          5055.17024253432,
          3903.468928904494,
          3022.097231641143,
          2345.396029498541,
          1823.9878613788276,
          1421.041144506114,
          1109.8928182496284,
          871.5164543025403,
          691.2394009350365,
          555.4801354759068,
          450.8304383518924,
          366.4982055678466,
          296.87027627003425,
          238.45639664883345,
          189.08445829650174,
          147.9513836183,
          114.43430324066865,
          87.6506358288991,
          66.76964231847104,
          50.69925215002101,
          38.41912649427087,
          29.075257725190447,
          21.986008380171878,
          16.619253781106526,
          12.563911048982215,
          9.50403900777102,
          7.197642514754215,
          5.45997103980095,
          4.150497036157136,
          3.16277282316228,
          2.4165049240734726,
          1.85137100824116,
          1.4221977779089032,
          1.0952378525273845,
          0.8453059456647412,
          0.6536046329311798,
          0.5060842425055655,
          0.39221721703210854,
          0.3040879838237565,
          0.23572056967485058,
          0.18258322530768098,
          0.1412237184412935,
          0.10900031816977038,
          0.08388314848307007,
          0.06430661916011558
         ],
         "y": [
          96.36432,
          97.69113,
          98.96521,
          100.21858,
          101.49149,
          102.83465,
          104.31025,
          105.99205,
          107.9605,
          110.28514,
          112.99677,
          116.0809,
          119.49435,
          123.18561,
          127.1144,
          131.26863,
          135.66771,
          140.35171,
          145.36669,
          150.75399,
          156.54488,
          162.75891,
          169.4047,
          176.48172,
          183.98288,
          191.89784,
          200.21538,
          208.92486,
          218.01702,
          227.48388,
          237.31828,
          247.51354,
          258.0632,
          268.96082,
          280.19986,
          291.77326,
          303.6734,
          315.89174,
          328.419,
          341.2452,
          354.35996,
          367.75308,
          381.41508,
          395.33784,
          409.5154,
          423.9448,
          438.62676,
          453.56656,
          468.7752,
          484.27028,
          500.07764,
          516.23308,
          532.7848,
          549.7966,
          567.35232,
          585.562
         ]
        },
        {
         "line": {
          "color": "cyan"
         },
         "mode": "lines",
         "name": "VO2+",
         "type": "scatter",
         "x": [
          8527.430601511353,
          6908.18504531887,
          5473.434831761244,
          4210.534054183966,
          3126.270804834349,
          2236.031441812019,
          1545.5647052141562,
          1042.0814989936232,
          696.6703820454735,
          471.08636210930024,
          326.12372392375664,
          231.59183600359785,
          168.0648142656869,
          123.76083607447403,
          91.65324738385627,
          67.74562697155366,
          49.7944919426045,
          36.39643594639188,
          26.511304755340234,
          19.294788166949218,
          14.062896776239374,
          10.281129146564659,
          7.546502815158594,
          5.563866658687404,
          4.119851135644867,
          3.0626622128366643,
          2.2846519257615707,
          1.7093543844126349,
          1.282189269747068,
          0.9639255437158727,
          0.7261099939382744,
          0.547955723065565,
          0.4141982363227987,
          0.3135775529069248,
          0.237753508745903,
          0.1805262174668572,
          0.13727178299477433,
          0.104532308501807,
          0.07971621467861406,
          0.06087798157632407,
          0.046555278901062605,
          0.03564788311959921,
          0.027327371730688832,
          0.020969370734280752,
          0.016102844952225675,
          0.012371940159897269,
          0.009507407850137624,
          0.007305148650164047,
          0.005610129824835818,
          0.004304334475832596,
          0.003297724680938227,
          0.002521456865995431,
          0.001922783884701039,
          0.0014612118007824822,
          0.0011055999837655604,
          0.0008319648338075562
         ],
         "y": [
          96.36432,
          97.69113,
          98.96521,
          100.21858,
          101.49149,
          102.83465,
          104.31025,
          105.99205,
          107.9605,
          110.28514,
          112.99677,
          116.0809,
          119.49435,
          123.18561,
          127.1144,
          131.26863,
          135.66771,
          140.35171,
          145.36669,
          150.75399,
          156.54488,
          162.75891,
          169.4047,
          176.48172,
          183.98288,
          191.89784,
          200.21538,
          208.92486,
          218.01702,
          227.48388,
          237.31828,
          247.51354,
          258.0632,
          268.96082,
          280.19986,
          291.77326,
          303.6734,
          315.89174,
          328.419,
          341.2452,
          354.35996,
          367.75308,
          381.41508,
          395.33784,
          409.5154,
          423.9448,
          438.62676,
          453.56656,
          468.7752,
          484.27028,
          500.07764,
          516.23308,
          532.7848,
          549.7966,
          567.35232,
          585.562
         ]
        },
        {
         "line": {
          "color": "yellow"
         },
         "mode": "lines",
         "name": "VO+",
         "type": "scatter",
         "x": [
          15369.908527748,
          12478.629722368278,
          9894.820592874941,
          7604.991885833562,
          5631.523376825705,
          4011.258222808457,
          2759.5214151215173,
          1853.160239465715,
          1236.7809168629265,
          837.7784192032836,
          583.2355596554944,
          418.04624625084887,
          307.2209855607745,
          229.68953458686832,
          173.0278053714363,
          130.3479735357237,
          97.89341013089529,
          73.3360811485787,
          54.93173972834738,
          41.245266377422126,
          31.103338925838116,
          23.584741907619275,
          17.987039131731006,
          13.800406528550642,
          10.645448250315852,
          8.251674090028832,
          6.4232179715022335,
          5.01794611026172,
          3.931960535405199,
          3.0886806809504037,
          2.431062272685767,
          1.9162671088571908,
          1.5119397852931897,
          1.1935075362027392,
          0.9421978728569412,
          0.7435779256482957,
          0.5864758853597521,
          0.4621859812425952,
          0.3638815462296844,
          0.28618048105014876,
          0.224821654348527,
          0.17642122383365202,
          0.1382877663878559,
          0.10827922036488827,
          0.08469160251290006,
          0.06617071426798639,
          0.05164206855673866,
          0.04025460783162488,
          0.03133547852886574,
          0.024353701779227268,
          0.01889099630690935,
          0.014618400732144403,
          0.011277610477296965,
          0.008666098710941306,
          0.00662529757605827,
          0.005031569913801302
         ],
         "y": [
          96.36432,
          97.69113,
          98.96521,
          100.21858,
          101.49149,
          102.83465,
          104.31025,
          105.99205,
          107.9605,
          110.28514,
          112.99677,
          116.0809,
          119.49435,
          123.18561,
          127.1144,
          131.26863,
          135.66771,
          140.35171,
          145.36669,
          150.75399,
          156.54488,
          162.75891,
          169.4047,
          176.48172,
          183.98288,
          191.89784,
          200.21538,
          208.92486,
          218.01702,
          227.48388,
          237.31828,
          247.51354,
          258.0632,
          268.96082,
          280.19986,
          291.77326,
          303.6734,
          315.89174,
          328.419,
          341.2452,
          354.35996,
          367.75308,
          381.41508,
          395.33784,
          409.5154,
          423.9448,
          438.62676,
          453.56656,
          468.7752,
          484.27028,
          500.07764,
          516.23308,
          532.7848,
          549.7966,
          567.35232,
          585.562
         ]
        }
       ],
       "layout": {
        "height": 750,
        "template": {
         "data": {
          "bar": [
           {
            "error_x": {
             "color": "#2a3f5f"
            },
            "error_y": {
             "color": "#2a3f5f"
            },
            "marker": {
             "line": {
              "color": "#E5ECF6",
              "width": 0.5
             }
            },
            "type": "bar"
           }
          ],
          "barpolar": [
           {
            "marker": {
             "line": {
              "color": "#E5ECF6",
              "width": 0.5
             }
            },
            "type": "barpolar"
           }
          ],
          "carpet": [
           {
            "aaxis": {
             "endlinecolor": "#2a3f5f",
             "gridcolor": "white",
             "linecolor": "white",
             "minorgridcolor": "white",
             "startlinecolor": "#2a3f5f"
            },
            "baxis": {
             "endlinecolor": "#2a3f5f",
             "gridcolor": "white",
             "linecolor": "white",
             "minorgridcolor": "white",
             "startlinecolor": "#2a3f5f"
            },
            "type": "carpet"
           }
          ],
          "choropleth": [
           {
            "colorbar": {
             "outlinewidth": 0,
             "ticks": ""
            },
            "type": "choropleth"
           }
          ],
          "contour": [
           {
            "colorbar": {
             "outlinewidth": 0,
             "ticks": ""
            },
            "colorscale": [
             [
              0,
              "#0d0887"
             ],
             [
              0.1111111111111111,
              "#46039f"
             ],
             [
              0.2222222222222222,
              "#7201a8"
             ],
             [
              0.3333333333333333,
              "#9c179e"
             ],
             [
              0.4444444444444444,
              "#bd3786"
             ],
             [
              0.5555555555555556,
              "#d8576b"
             ],
             [
              0.6666666666666666,
              "#ed7953"
             ],
             [
              0.7777777777777778,
              "#fb9f3a"
             ],
             [
              0.8888888888888888,
              "#fdca26"
             ],
             [
              1,
              "#f0f921"
             ]
            ],
            "type": "contour"
           }
          ],
          "contourcarpet": [
           {
            "colorbar": {
             "outlinewidth": 0,
             "ticks": ""
            },
            "type": "contourcarpet"
           }
          ],
          "heatmap": [
           {
            "colorbar": {
             "outlinewidth": 0,
             "ticks": ""
            },
            "colorscale": [
             [
              0,
              "#0d0887"
             ],
             [
              0.1111111111111111,
              "#46039f"
             ],
             [
              0.2222222222222222,
              "#7201a8"
             ],
             [
              0.3333333333333333,
              "#9c179e"
             ],
             [
              0.4444444444444444,
              "#bd3786"
             ],
             [
              0.5555555555555556,
              "#d8576b"
             ],
             [
              0.6666666666666666,
              "#ed7953"
             ],
             [
              0.7777777777777778,
              "#fb9f3a"
             ],
             [
              0.8888888888888888,
              "#fdca26"
             ],
             [
              1,
              "#f0f921"
             ]
            ],
            "type": "heatmap"
           }
          ],
          "heatmapgl": [
           {
            "colorbar": {
             "outlinewidth": 0,
             "ticks": ""
            },
            "colorscale": [
             [
              0,
              "#0d0887"
             ],
             [
              0.1111111111111111,
              "#46039f"
             ],
             [
              0.2222222222222222,
              "#7201a8"
             ],
             [
              0.3333333333333333,
              "#9c179e"
             ],
             [
              0.4444444444444444,
              "#bd3786"
             ],
             [
              0.5555555555555556,
              "#d8576b"
             ],
             [
              0.6666666666666666,
              "#ed7953"
             ],
             [
              0.7777777777777778,
              "#fb9f3a"
             ],
             [
              0.8888888888888888,
              "#fdca26"
             ],
             [
              1,
              "#f0f921"
             ]
            ],
            "type": "heatmapgl"
           }
          ],
          "histogram": [
           {
            "marker": {
             "colorbar": {
              "outlinewidth": 0,
              "ticks": ""
             }
            },
            "type": "histogram"
           }
          ],
          "histogram2d": [
           {
            "colorbar": {
             "outlinewidth": 0,
             "ticks": ""
            },
            "colorscale": [
             [
              0,
              "#0d0887"
             ],
             [
              0.1111111111111111,
              "#46039f"
             ],
             [
              0.2222222222222222,
              "#7201a8"
             ],
             [
              0.3333333333333333,
              "#9c179e"
             ],
             [
              0.4444444444444444,
              "#bd3786"
             ],
             [
              0.5555555555555556,
              "#d8576b"
             ],
             [
              0.6666666666666666,
              "#ed7953"
             ],
             [
              0.7777777777777778,
              "#fb9f3a"
             ],
             [
              0.8888888888888888,
              "#fdca26"
             ],
             [
              1,
              "#f0f921"
             ]
            ],
            "type": "histogram2d"
           }
          ],
          "histogram2dcontour": [
           {
            "colorbar": {
             "outlinewidth": 0,
             "ticks": ""
            },
            "colorscale": [
             [
              0,
              "#0d0887"
             ],
             [
              0.1111111111111111,
              "#46039f"
             ],
             [
              0.2222222222222222,
              "#7201a8"
             ],
             [
              0.3333333333333333,
              "#9c179e"
             ],
             [
              0.4444444444444444,
              "#bd3786"
             ],
             [
              0.5555555555555556,
              "#d8576b"
             ],
             [
              0.6666666666666666,
              "#ed7953"
             ],
             [
              0.7777777777777778,
              "#fb9f3a"
             ],
             [
              0.8888888888888888,
              "#fdca26"
             ],
             [
              1,
              "#f0f921"
             ]
            ],
            "type": "histogram2dcontour"
           }
          ],
          "mesh3d": [
           {
            "colorbar": {
             "outlinewidth": 0,
             "ticks": ""
            },
            "type": "mesh3d"
           }
          ],
          "parcoords": [
           {
            "line": {
             "colorbar": {
              "outlinewidth": 0,
              "ticks": ""
             }
            },
            "type": "parcoords"
           }
          ],
          "pie": [
           {
            "automargin": true,
            "type": "pie"
           }
          ],
          "scatter": [
           {
            "marker": {
             "colorbar": {
              "outlinewidth": 0,
              "ticks": ""
             }
            },
            "type": "scatter"
           }
          ],
          "scatter3d": [
           {
            "line": {
             "colorbar": {
              "outlinewidth": 0,
              "ticks": ""
             }
            },
            "marker": {
             "colorbar": {
              "outlinewidth": 0,
              "ticks": ""
             }
            },
            "type": "scatter3d"
           }
          ],
          "scattercarpet": [
           {
            "marker": {
             "colorbar": {
              "outlinewidth": 0,
              "ticks": ""
             }
            },
            "type": "scattercarpet"
           }
          ],
          "scattergeo": [
           {
            "marker": {
             "colorbar": {
              "outlinewidth": 0,
              "ticks": ""
             }
            },
            "type": "scattergeo"
           }
          ],
          "scattergl": [
           {
            "marker": {
             "colorbar": {
              "outlinewidth": 0,
              "ticks": ""
             }
            },
            "type": "scattergl"
           }
          ],
          "scattermapbox": [
           {
            "marker": {
             "colorbar": {
              "outlinewidth": 0,
              "ticks": ""
             }
            },
            "type": "scattermapbox"
           }
          ],
          "scatterpolar": [
           {
            "marker": {
             "colorbar": {
              "outlinewidth": 0,
              "ticks": ""
             }
            },
            "type": "scatterpolar"
           }
          ],
          "scatterpolargl": [
           {
            "marker": {
             "colorbar": {
              "outlinewidth": 0,
              "ticks": ""
             }
            },
            "type": "scatterpolargl"
           }
          ],
          "scatterternary": [
           {
            "marker": {
             "colorbar": {
              "outlinewidth": 0,
              "ticks": ""
             }
            },
            "type": "scatterternary"
           }
          ],
          "surface": [
           {
            "colorbar": {
             "outlinewidth": 0,
             "ticks": ""
            },
            "colorscale": [
             [
              0,
              "#0d0887"
             ],
             [
              0.1111111111111111,
              "#46039f"
             ],
             [
              0.2222222222222222,
              "#7201a8"
             ],
             [
              0.3333333333333333,
              "#9c179e"
             ],
             [
              0.4444444444444444,
              "#bd3786"
             ],
             [
              0.5555555555555556,
              "#d8576b"
             ],
             [
              0.6666666666666666,
              "#ed7953"
             ],
             [
              0.7777777777777778,
              "#fb9f3a"
             ],
             [
              0.8888888888888888,
              "#fdca26"
             ],
             [
              1,
              "#f0f921"
             ]
            ],
            "type": "surface"
           }
          ],
          "table": [
           {
            "cells": {
             "fill": {
              "color": "#EBF0F8"
             },
             "line": {
              "color": "white"
             }
            },
            "header": {
             "fill": {
              "color": "#C8D4E3"
             },
             "line": {
              "color": "white"
             }
            },
            "type": "table"
           }
          ]
         },
         "layout": {
          "annotationdefaults": {
           "arrowcolor": "#2a3f5f",
           "arrowhead": 0,
           "arrowwidth": 1
          },
          "coloraxis": {
           "colorbar": {
            "outlinewidth": 0,
            "ticks": ""
           }
          },
          "colorscale": {
           "diverging": [
            [
             0,
             "#8e0152"
            ],
            [
             0.1,
             "#c51b7d"
            ],
            [
             0.2,
             "#de77ae"
            ],
            [
             0.3,
             "#f1b6da"
            ],
            [
             0.4,
             "#fde0ef"
            ],
            [
             0.5,
             "#f7f7f7"
            ],
            [
             0.6,
             "#e6f5d0"
            ],
            [
             0.7,
             "#b8e186"
            ],
            [
             0.8,
             "#7fbc41"
            ],
            [
             0.9,
             "#4d9221"
            ],
            [
             1,
             "#276419"
            ]
           ],
           "sequential": [
            [
             0,
             "#0d0887"
            ],
            [
             0.1111111111111111,
             "#46039f"
            ],
            [
             0.2222222222222222,
             "#7201a8"
            ],
            [
             0.3333333333333333,
             "#9c179e"
            ],
            [
             0.4444444444444444,
             "#bd3786"
            ],
            [
             0.5555555555555556,
             "#d8576b"
            ],
            [
             0.6666666666666666,
             "#ed7953"
            ],
            [
             0.7777777777777778,
             "#fb9f3a"
            ],
            [
             0.8888888888888888,
             "#fdca26"
            ],
            [
             1,
             "#f0f921"
            ]
           ],
           "sequentialminus": [
            [
             0,
             "#0d0887"
            ],
            [
             0.1111111111111111,
             "#46039f"
            ],
            [
             0.2222222222222222,
             "#7201a8"
            ],
            [
             0.3333333333333333,
             "#9c179e"
            ],
            [
             0.4444444444444444,
             "#bd3786"
            ],
            [
             0.5555555555555556,
             "#d8576b"
            ],
            [
             0.6666666666666666,
             "#ed7953"
            ],
            [
             0.7777777777777778,
             "#fb9f3a"
            ],
            [
             0.8888888888888888,
             "#fdca26"
            ],
            [
             1,
             "#f0f921"
            ]
           ]
          },
          "colorway": [
           "#636efa",
           "#EF553B",
           "#00cc96",
           "#ab63fa",
           "#FFA15A",
           "#19d3f3",
           "#FF6692",
           "#B6E880",
           "#FF97FF",
           "#FECB52"
          ],
          "font": {
           "color": "#2a3f5f"
          },
          "geo": {
           "bgcolor": "white",
           "lakecolor": "white",
           "landcolor": "#E5ECF6",
           "showlakes": true,
           "showland": true,
           "subunitcolor": "white"
          },
          "hoverlabel": {
           "align": "left"
          },
          "hovermode": "closest",
          "mapbox": {
           "style": "light"
          },
          "paper_bgcolor": "white",
          "plot_bgcolor": "#E5ECF6",
          "polar": {
           "angularaxis": {
            "gridcolor": "white",
            "linecolor": "white",
            "ticks": ""
           },
           "bgcolor": "#E5ECF6",
           "radialaxis": {
            "gridcolor": "white",
            "linecolor": "white",
            "ticks": ""
           }
          },
          "scene": {
           "xaxis": {
            "backgroundcolor": "#E5ECF6",
            "gridcolor": "white",
            "gridwidth": 2,
            "linecolor": "white",
            "showbackground": true,
            "ticks": "",
            "zerolinecolor": "white"
           },
           "yaxis": {
            "backgroundcolor": "#E5ECF6",
            "gridcolor": "white",
            "gridwidth": 2,
            "linecolor": "white",
            "showbackground": true,
            "ticks": "",
            "zerolinecolor": "white"
           },
           "zaxis": {
            "backgroundcolor": "#E5ECF6",
            "gridcolor": "white",
            "gridwidth": 2,
            "linecolor": "white",
            "showbackground": true,
            "ticks": "",
            "zerolinecolor": "white"
           }
          },
          "shapedefaults": {
           "line": {
            "color": "#2a3f5f"
           }
          },
          "ternary": {
           "aaxis": {
            "gridcolor": "white",
            "linecolor": "white",
            "ticks": ""
           },
           "baxis": {
            "gridcolor": "white",
            "linecolor": "white",
            "ticks": ""
           },
           "bgcolor": "#E5ECF6",
           "caxis": {
            "gridcolor": "white",
            "linecolor": "white",
            "ticks": ""
           }
          },
          "title": {
           "x": 0.05
          },
          "xaxis": {
           "automargin": true,
           "gridcolor": "white",
           "linecolor": "white",
           "ticks": "",
           "title": {
            "standoff": 15
           },
           "zerolinecolor": "white",
           "zerolinewidth": 2
          },
          "yaxis": {
           "automargin": true,
           "gridcolor": "white",
           "linecolor": "white",
           "ticks": "",
           "title": {
            "standoff": 15
           },
           "zerolinecolor": "white",
           "zerolinewidth": 2
          }
         }
        },
        "title": {
         "text": "Conductivities ,Lat: -83.75, Lon: -175.0, 2015-03-15 00:05:00",
         "x": 0.5,
         "xanchor": "center",
         "y": 0.9,
         "yanchor": "top"
        },
        "width": 750,
        "xaxis": {
         "exponentformat": "power",
         "gridcolor": "grey",
         "gridwidth": 0.5,
         "linecolor": "black",
         "linewidth": 2,
         "mirror": true,
         "showexponent": "all",
         "showgrid": true,
         "showline": true,
         "title": {
          "text": "Collisions sec^(-1)"
         },
         "type": "log"
        },
        "yaxis": {
         "dtick": 20,
         "gridcolor": "grey",
         "gridwidth": 0.5,
         "linecolor": "black",
         "linewidth": 2,
         "mirror": true,
         "showgrid": true,
         "showline": true,
         "tick0": 60,
         "title": {
          "text": "Altitude (km)"
         }
        }
       }
      },
      "text/html": [
       "<div>\n",
       "        \n",
       "        \n",
       "            <div id=\"f673ede7-c8cd-4343-9445-3170cdcd146c\" class=\"plotly-graph-div\" style=\"height:750px; width:750px;\"></div>\n",
       "            <script type=\"text/javascript\">\n",
       "                require([\"plotly\"], function(Plotly) {\n",
       "                    window.PLOTLYENV=window.PLOTLYENV || {};\n",
       "                    \n",
       "                if (document.getElementById(\"f673ede7-c8cd-4343-9445-3170cdcd146c\")) {\n",
       "                    Plotly.newPlot(\n",
       "                        'f673ede7-c8cd-4343-9445-3170cdcd146c',\n",
       "                        [{\"line\": {\"color\": \"orange\"}, \"mode\": \"lines\", \"name\": \"Ve\", \"type\": \"scatter\", \"x\": [88239.47033410447, 68891.47728034902, 53667.16597176581, 41676.765300557694, 32243.529165593725, 24846.572347862828, 19077.043690053364, 14607.227539046284, 11172.413666321001, 8553.66528407478, 6565.6127431754285, 5055.17024253432, 3903.468928904494, 3022.097231641143, 2345.396029498541, 1823.9878613788276, 1421.041144506114, 1109.8928182496284, 871.5164543025403, 691.2394009350365, 555.4801354759068, 450.8304383518924, 366.4982055678466, 296.87027627003425, 238.45639664883345, 189.08445829650174, 147.9513836183, 114.43430324066865, 87.6506358288991, 66.76964231847104, 50.69925215002101, 38.41912649427087, 29.075257725190447, 21.986008380171878, 16.619253781106526, 12.563911048982215, 9.50403900777102, 7.197642514754215, 5.45997103980095, 4.150497036157136, 3.16277282316228, 2.4165049240734726, 1.85137100824116, 1.4221977779089032, 1.0952378525273845, 0.8453059456647412, 0.6536046329311798, 0.5060842425055655, 0.39221721703210854, 0.3040879838237565, 0.23572056967485058, 0.18258322530768098, 0.1412237184412935, 0.10900031816977038, 0.08388314848307007, 0.06430661916011558], \"y\": [96.36432, 97.69113, 98.96521, 100.21858, 101.49149, 102.83465, 104.31025, 105.99205, 107.9605, 110.28514, 112.99677, 116.0809, 119.49435, 123.18561, 127.1144, 131.26863, 135.66771, 140.35171, 145.36669, 150.75399, 156.54488, 162.75891, 169.4047, 176.48172, 183.98288, 191.89784, 200.21538, 208.92486, 218.01702, 227.48388, 237.31828, 247.51354, 258.0632, 268.96082, 280.19986, 291.77326, 303.6734, 315.89174, 328.419, 341.2452, 354.35996, 367.75308, 381.41508, 395.33784, 409.5154, 423.9448, 438.62676, 453.56656, 468.7752, 484.27028, 500.07764, 516.23308, 532.7848, 549.7966, 567.35232, 585.562]}, {\"line\": {\"color\": \"cyan\"}, \"mode\": \"lines\", \"name\": \"VO2+\", \"type\": \"scatter\", \"x\": [8527.430601511353, 6908.18504531887, 5473.434831761244, 4210.534054183966, 3126.270804834349, 2236.031441812019, 1545.5647052141562, 1042.0814989936232, 696.6703820454735, 471.08636210930024, 326.12372392375664, 231.59183600359785, 168.0648142656869, 123.76083607447403, 91.65324738385627, 67.74562697155366, 49.7944919426045, 36.39643594639188, 26.511304755340234, 19.294788166949218, 14.062896776239374, 10.281129146564659, 7.546502815158594, 5.563866658687404, 4.119851135644867, 3.0626622128366643, 2.2846519257615707, 1.7093543844126349, 1.282189269747068, 0.9639255437158727, 0.7261099939382744, 0.547955723065565, 0.4141982363227987, 0.3135775529069248, 0.237753508745903, 0.1805262174668572, 0.13727178299477433, 0.104532308501807, 0.07971621467861406, 0.06087798157632407, 0.046555278901062605, 0.03564788311959921, 0.027327371730688832, 0.020969370734280752, 0.016102844952225675, 0.012371940159897269, 0.009507407850137624, 0.007305148650164047, 0.005610129824835818, 0.004304334475832596, 0.003297724680938227, 0.002521456865995431, 0.001922783884701039, 0.0014612118007824822, 0.0011055999837655604, 0.0008319648338075562], \"y\": [96.36432, 97.69113, 98.96521, 100.21858, 101.49149, 102.83465, 104.31025, 105.99205, 107.9605, 110.28514, 112.99677, 116.0809, 119.49435, 123.18561, 127.1144, 131.26863, 135.66771, 140.35171, 145.36669, 150.75399, 156.54488, 162.75891, 169.4047, 176.48172, 183.98288, 191.89784, 200.21538, 208.92486, 218.01702, 227.48388, 237.31828, 247.51354, 258.0632, 268.96082, 280.19986, 291.77326, 303.6734, 315.89174, 328.419, 341.2452, 354.35996, 367.75308, 381.41508, 395.33784, 409.5154, 423.9448, 438.62676, 453.56656, 468.7752, 484.27028, 500.07764, 516.23308, 532.7848, 549.7966, 567.35232, 585.562]}, {\"line\": {\"color\": \"yellow\"}, \"mode\": \"lines\", \"name\": \"VO+\", \"type\": \"scatter\", \"x\": [15369.908527748, 12478.629722368278, 9894.820592874941, 7604.991885833562, 5631.523376825705, 4011.258222808457, 2759.5214151215173, 1853.160239465715, 1236.7809168629265, 837.7784192032836, 583.2355596554944, 418.04624625084887, 307.2209855607745, 229.68953458686832, 173.0278053714363, 130.3479735357237, 97.89341013089529, 73.3360811485787, 54.93173972834738, 41.245266377422126, 31.103338925838116, 23.584741907619275, 17.987039131731006, 13.800406528550642, 10.645448250315852, 8.251674090028832, 6.4232179715022335, 5.01794611026172, 3.931960535405199, 3.0886806809504037, 2.431062272685767, 1.9162671088571908, 1.5119397852931897, 1.1935075362027392, 0.9421978728569412, 0.7435779256482957, 0.5864758853597521, 0.4621859812425952, 0.3638815462296844, 0.28618048105014876, 0.224821654348527, 0.17642122383365202, 0.1382877663878559, 0.10827922036488827, 0.08469160251290006, 0.06617071426798639, 0.05164206855673866, 0.04025460783162488, 0.03133547852886574, 0.024353701779227268, 0.01889099630690935, 0.014618400732144403, 0.011277610477296965, 0.008666098710941306, 0.00662529757605827, 0.005031569913801302], \"y\": [96.36432, 97.69113, 98.96521, 100.21858, 101.49149, 102.83465, 104.31025, 105.99205, 107.9605, 110.28514, 112.99677, 116.0809, 119.49435, 123.18561, 127.1144, 131.26863, 135.66771, 140.35171, 145.36669, 150.75399, 156.54488, 162.75891, 169.4047, 176.48172, 183.98288, 191.89784, 200.21538, 208.92486, 218.01702, 227.48388, 237.31828, 247.51354, 258.0632, 268.96082, 280.19986, 291.77326, 303.6734, 315.89174, 328.419, 341.2452, 354.35996, 367.75308, 381.41508, 395.33784, 409.5154, 423.9448, 438.62676, 453.56656, 468.7752, 484.27028, 500.07764, 516.23308, 532.7848, 549.7966, 567.35232, 585.562]}],\n",
       "                        {\"height\": 750, \"template\": {\"data\": {\"bar\": [{\"error_x\": {\"color\": \"#2a3f5f\"}, \"error_y\": {\"color\": \"#2a3f5f\"}, \"marker\": {\"line\": {\"color\": \"#E5ECF6\", \"width\": 0.5}}, \"type\": \"bar\"}], \"barpolar\": [{\"marker\": {\"line\": {\"color\": \"#E5ECF6\", \"width\": 0.5}}, \"type\": \"barpolar\"}], \"carpet\": [{\"aaxis\": {\"endlinecolor\": \"#2a3f5f\", \"gridcolor\": \"white\", \"linecolor\": \"white\", \"minorgridcolor\": \"white\", \"startlinecolor\": \"#2a3f5f\"}, \"baxis\": {\"endlinecolor\": \"#2a3f5f\", \"gridcolor\": \"white\", \"linecolor\": \"white\", \"minorgridcolor\": \"white\", \"startlinecolor\": \"#2a3f5f\"}, \"type\": \"carpet\"}], \"choropleth\": [{\"colorbar\": {\"outlinewidth\": 0, \"ticks\": \"\"}, \"type\": \"choropleth\"}], \"contour\": [{\"colorbar\": {\"outlinewidth\": 0, \"ticks\": \"\"}, \"colorscale\": [[0.0, \"#0d0887\"], [0.1111111111111111, \"#46039f\"], [0.2222222222222222, \"#7201a8\"], [0.3333333333333333, \"#9c179e\"], [0.4444444444444444, \"#bd3786\"], [0.5555555555555556, \"#d8576b\"], [0.6666666666666666, \"#ed7953\"], [0.7777777777777778, \"#fb9f3a\"], [0.8888888888888888, \"#fdca26\"], [1.0, \"#f0f921\"]], \"type\": \"contour\"}], \"contourcarpet\": [{\"colorbar\": {\"outlinewidth\": 0, \"ticks\": \"\"}, \"type\": \"contourcarpet\"}], \"heatmap\": [{\"colorbar\": {\"outlinewidth\": 0, \"ticks\": \"\"}, \"colorscale\": [[0.0, \"#0d0887\"], [0.1111111111111111, \"#46039f\"], [0.2222222222222222, \"#7201a8\"], [0.3333333333333333, \"#9c179e\"], [0.4444444444444444, \"#bd3786\"], [0.5555555555555556, \"#d8576b\"], [0.6666666666666666, \"#ed7953\"], [0.7777777777777778, \"#fb9f3a\"], [0.8888888888888888, \"#fdca26\"], [1.0, \"#f0f921\"]], \"type\": \"heatmap\"}], \"heatmapgl\": [{\"colorbar\": {\"outlinewidth\": 0, \"ticks\": \"\"}, \"colorscale\": [[0.0, \"#0d0887\"], [0.1111111111111111, \"#46039f\"], [0.2222222222222222, \"#7201a8\"], [0.3333333333333333, \"#9c179e\"], [0.4444444444444444, \"#bd3786\"], [0.5555555555555556, \"#d8576b\"], [0.6666666666666666, \"#ed7953\"], [0.7777777777777778, \"#fb9f3a\"], [0.8888888888888888, \"#fdca26\"], [1.0, \"#f0f921\"]], \"type\": \"heatmapgl\"}], \"histogram\": [{\"marker\": {\"colorbar\": {\"outlinewidth\": 0, \"ticks\": \"\"}}, \"type\": \"histogram\"}], \"histogram2d\": [{\"colorbar\": {\"outlinewidth\": 0, \"ticks\": \"\"}, \"colorscale\": [[0.0, \"#0d0887\"], [0.1111111111111111, \"#46039f\"], [0.2222222222222222, \"#7201a8\"], [0.3333333333333333, \"#9c179e\"], [0.4444444444444444, \"#bd3786\"], [0.5555555555555556, \"#d8576b\"], [0.6666666666666666, \"#ed7953\"], [0.7777777777777778, \"#fb9f3a\"], [0.8888888888888888, \"#fdca26\"], [1.0, \"#f0f921\"]], \"type\": \"histogram2d\"}], \"histogram2dcontour\": [{\"colorbar\": {\"outlinewidth\": 0, \"ticks\": \"\"}, \"colorscale\": [[0.0, \"#0d0887\"], [0.1111111111111111, \"#46039f\"], [0.2222222222222222, \"#7201a8\"], [0.3333333333333333, \"#9c179e\"], [0.4444444444444444, \"#bd3786\"], [0.5555555555555556, \"#d8576b\"], [0.6666666666666666, \"#ed7953\"], [0.7777777777777778, \"#fb9f3a\"], [0.8888888888888888, \"#fdca26\"], [1.0, \"#f0f921\"]], \"type\": \"histogram2dcontour\"}], \"mesh3d\": [{\"colorbar\": {\"outlinewidth\": 0, \"ticks\": \"\"}, \"type\": \"mesh3d\"}], \"parcoords\": [{\"line\": {\"colorbar\": {\"outlinewidth\": 0, \"ticks\": \"\"}}, \"type\": \"parcoords\"}], \"pie\": [{\"automargin\": true, \"type\": \"pie\"}], \"scatter\": [{\"marker\": {\"colorbar\": {\"outlinewidth\": 0, \"ticks\": \"\"}}, \"type\": \"scatter\"}], \"scatter3d\": [{\"line\": {\"colorbar\": {\"outlinewidth\": 0, \"ticks\": \"\"}}, \"marker\": {\"colorbar\": {\"outlinewidth\": 0, \"ticks\": \"\"}}, \"type\": \"scatter3d\"}], \"scattercarpet\": [{\"marker\": {\"colorbar\": {\"outlinewidth\": 0, \"ticks\": \"\"}}, \"type\": \"scattercarpet\"}], \"scattergeo\": [{\"marker\": {\"colorbar\": {\"outlinewidth\": 0, \"ticks\": \"\"}}, \"type\": \"scattergeo\"}], \"scattergl\": [{\"marker\": {\"colorbar\": {\"outlinewidth\": 0, \"ticks\": \"\"}}, \"type\": \"scattergl\"}], \"scattermapbox\": [{\"marker\": {\"colorbar\": {\"outlinewidth\": 0, \"ticks\": \"\"}}, \"type\": \"scattermapbox\"}], \"scatterpolar\": [{\"marker\": {\"colorbar\": {\"outlinewidth\": 0, \"ticks\": \"\"}}, \"type\": \"scatterpolar\"}], \"scatterpolargl\": [{\"marker\": {\"colorbar\": {\"outlinewidth\": 0, \"ticks\": \"\"}}, \"type\": \"scatterpolargl\"}], \"scatterternary\": [{\"marker\": {\"colorbar\": {\"outlinewidth\": 0, \"ticks\": \"\"}}, \"type\": \"scatterternary\"}], \"surface\": [{\"colorbar\": {\"outlinewidth\": 0, \"ticks\": \"\"}, \"colorscale\": [[0.0, \"#0d0887\"], [0.1111111111111111, \"#46039f\"], [0.2222222222222222, \"#7201a8\"], [0.3333333333333333, \"#9c179e\"], [0.4444444444444444, \"#bd3786\"], [0.5555555555555556, \"#d8576b\"], [0.6666666666666666, \"#ed7953\"], [0.7777777777777778, \"#fb9f3a\"], [0.8888888888888888, \"#fdca26\"], [1.0, \"#f0f921\"]], \"type\": \"surface\"}], \"table\": [{\"cells\": {\"fill\": {\"color\": \"#EBF0F8\"}, \"line\": {\"color\": \"white\"}}, \"header\": {\"fill\": {\"color\": \"#C8D4E3\"}, \"line\": {\"color\": \"white\"}}, \"type\": \"table\"}]}, \"layout\": {\"annotationdefaults\": {\"arrowcolor\": \"#2a3f5f\", \"arrowhead\": 0, \"arrowwidth\": 1}, \"coloraxis\": {\"colorbar\": {\"outlinewidth\": 0, \"ticks\": \"\"}}, \"colorscale\": {\"diverging\": [[0, \"#8e0152\"], [0.1, \"#c51b7d\"], [0.2, \"#de77ae\"], [0.3, \"#f1b6da\"], [0.4, \"#fde0ef\"], [0.5, \"#f7f7f7\"], [0.6, \"#e6f5d0\"], [0.7, \"#b8e186\"], [0.8, \"#7fbc41\"], [0.9, \"#4d9221\"], [1, \"#276419\"]], \"sequential\": [[0.0, \"#0d0887\"], [0.1111111111111111, \"#46039f\"], [0.2222222222222222, \"#7201a8\"], [0.3333333333333333, \"#9c179e\"], [0.4444444444444444, \"#bd3786\"], [0.5555555555555556, \"#d8576b\"], [0.6666666666666666, \"#ed7953\"], [0.7777777777777778, \"#fb9f3a\"], [0.8888888888888888, \"#fdca26\"], [1.0, \"#f0f921\"]], \"sequentialminus\": [[0.0, \"#0d0887\"], [0.1111111111111111, \"#46039f\"], [0.2222222222222222, \"#7201a8\"], [0.3333333333333333, \"#9c179e\"], [0.4444444444444444, \"#bd3786\"], [0.5555555555555556, \"#d8576b\"], [0.6666666666666666, \"#ed7953\"], [0.7777777777777778, \"#fb9f3a\"], [0.8888888888888888, \"#fdca26\"], [1.0, \"#f0f921\"]]}, \"colorway\": [\"#636efa\", \"#EF553B\", \"#00cc96\", \"#ab63fa\", \"#FFA15A\", \"#19d3f3\", \"#FF6692\", \"#B6E880\", \"#FF97FF\", \"#FECB52\"], \"font\": {\"color\": \"#2a3f5f\"}, \"geo\": {\"bgcolor\": \"white\", \"lakecolor\": \"white\", \"landcolor\": \"#E5ECF6\", \"showlakes\": true, \"showland\": true, \"subunitcolor\": \"white\"}, \"hoverlabel\": {\"align\": \"left\"}, \"hovermode\": \"closest\", \"mapbox\": {\"style\": \"light\"}, \"paper_bgcolor\": \"white\", \"plot_bgcolor\": \"#E5ECF6\", \"polar\": {\"angularaxis\": {\"gridcolor\": \"white\", \"linecolor\": \"white\", \"ticks\": \"\"}, \"bgcolor\": \"#E5ECF6\", \"radialaxis\": {\"gridcolor\": \"white\", \"linecolor\": \"white\", \"ticks\": \"\"}}, \"scene\": {\"xaxis\": {\"backgroundcolor\": \"#E5ECF6\", \"gridcolor\": \"white\", \"gridwidth\": 2, \"linecolor\": \"white\", \"showbackground\": true, \"ticks\": \"\", \"zerolinecolor\": \"white\"}, \"yaxis\": {\"backgroundcolor\": \"#E5ECF6\", \"gridcolor\": \"white\", \"gridwidth\": 2, \"linecolor\": \"white\", \"showbackground\": true, \"ticks\": \"\", \"zerolinecolor\": \"white\"}, \"zaxis\": {\"backgroundcolor\": \"#E5ECF6\", \"gridcolor\": \"white\", \"gridwidth\": 2, \"linecolor\": \"white\", \"showbackground\": true, \"ticks\": \"\", \"zerolinecolor\": \"white\"}}, \"shapedefaults\": {\"line\": {\"color\": \"#2a3f5f\"}}, \"ternary\": {\"aaxis\": {\"gridcolor\": \"white\", \"linecolor\": \"white\", \"ticks\": \"\"}, \"baxis\": {\"gridcolor\": \"white\", \"linecolor\": \"white\", \"ticks\": \"\"}, \"bgcolor\": \"#E5ECF6\", \"caxis\": {\"gridcolor\": \"white\", \"linecolor\": \"white\", \"ticks\": \"\"}}, \"title\": {\"x\": 0.05}, \"xaxis\": {\"automargin\": true, \"gridcolor\": \"white\", \"linecolor\": \"white\", \"ticks\": \"\", \"title\": {\"standoff\": 15}, \"zerolinecolor\": \"white\", \"zerolinewidth\": 2}, \"yaxis\": {\"automargin\": true, \"gridcolor\": \"white\", \"linecolor\": \"white\", \"ticks\": \"\", \"title\": {\"standoff\": 15}, \"zerolinecolor\": \"white\", \"zerolinewidth\": 2}}}, \"title\": {\"text\": \"Conductivities ,Lat: -83.75, Lon: -175.0, 2015-03-15 00:05:00\", \"x\": 0.5, \"xanchor\": \"center\", \"y\": 0.9, \"yanchor\": \"top\"}, \"width\": 750, \"xaxis\": {\"exponentformat\": \"power\", \"gridcolor\": \"grey\", \"gridwidth\": 0.5, \"linecolor\": \"black\", \"linewidth\": 2, \"mirror\": true, \"showexponent\": \"all\", \"showgrid\": true, \"showline\": true, \"title\": {\"text\": \"Collisions sec^(-1)\"}, \"type\": \"log\"}, \"yaxis\": {\"dtick\": 20, \"gridcolor\": \"grey\", \"gridwidth\": 0.5, \"linecolor\": \"black\", \"linewidth\": 2, \"mirror\": true, \"showgrid\": true, \"showline\": true, \"tick0\": 60, \"title\": {\"text\": \"Altitude (km)\"}}},\n",
       "                        {\"responsive\": true}\n",
       "                    ).then(function(){\n",
       "                            \n",
       "var gd = document.getElementById('f673ede7-c8cd-4343-9445-3170cdcd146c');\n",
       "var x = new MutationObserver(function (mutations, observer) {{\n",
       "        var display = window.getComputedStyle(gd).display;\n",
       "        if (!display || display === 'none') {{\n",
       "            console.log([gd, 'removed!']);\n",
       "            Plotly.purge(gd);\n",
       "            observer.disconnect();\n",
       "        }}\n",
       "}});\n",
       "\n",
       "// Listen for the removal of the full notebook cells\n",
       "var notebookContainer = gd.closest('#notebook-container');\n",
       "if (notebookContainer) {{\n",
       "    x.observe(notebookContainer, {childList: true});\n",
       "}}\n",
       "\n",
       "// Listen for the clearing of the current output cell\n",
       "var outputEl = gd.closest('.output');\n",
       "if (outputEl) {{\n",
       "    x.observe(outputEl, {childList: true});\n",
       "}}\n",
       "\n",
       "                        })\n",
       "                };\n",
       "                });\n",
       "            </script>\n",
       "        </div>"
      ]
     },
     "metadata": {},
     "output_type": "display_data"
    },
    {
     "data": {
      "application/vnd.plotly.v1+json": {
       "config": {
        "plotlyServerURL": "https://plot.ly"
       },
       "data": [
        {
         "line": {
          "color": "blue"
         },
         "mode": "lines",
         "name": "Heating Rate",
         "type": "scatter",
         "x": [
          4.297105179534065e-11,
          7.653330036089699e-11,
          1.351260687753162e-10,
          2.3067774247004836e-10,
          3.9949351636465624e-10,
          7.106569193470686e-10,
          1.3083964065588274e-09,
          2.4604757970982265e-09,
          4.502046126844219e-09,
          7.392917623127319e-09,
          1.0012962642749873e-08,
          1.0643079926638659e-08,
          9.089426170835547e-09,
          6.808772934476557e-09,
          4.91928383206295e-09,
          3.6337486239104966e-09,
          2.781957464884149e-09,
          2.1833201579373666e-09,
          1.7335382952368325e-09,
          1.3863822846228839e-09,
          1.121424268258226e-09,
          9.243176731493951e-10,
          8.02019501732656e-10,
          7.149486114778704e-10,
          6.405883674459206e-10,
          5.923672010744453e-10,
          5.591717351715867e-10,
          5.293851139920324e-10,
          4.941398551337065e-10,
          4.4949930372578095e-10,
          3.967188791427089e-10,
          3.400212280222157e-10,
          2.839991396579263e-10,
          2.3210277123530875e-10,
          1.8628496399210536e-10,
          1.4725997170770335e-10,
          1.1491796306690194e-10,
          8.86847594937641e-11,
          6.777485123539767e-11,
          5.134970070851769e-11,
          3.860777410303612e-11,
          2.8830046325511752e-11,
          2.139811733709909e-11,
          1.5796267523230534e-11,
          1.160469426989346e-11,
          8.488338149403482e-12,
          6.184206528720791e-12,
          4.48875965081526e-12,
          3.246360504667712e-12,
          2.3392185247504667e-12,
          1.6789650394736156e-12,
          1.199793002453101e-12,
          8.529987071597715e-13,
          6.027197124011607e-13,
          4.2265802347371557e-13,
          2.9359034336387514e-13
         ],
         "y": [
          96.36432,
          97.69113,
          98.96521,
          100.21858,
          101.49149,
          102.83465,
          104.31025,
          105.99205,
          107.9605,
          110.28514,
          112.99677,
          116.0809,
          119.49435,
          123.18561,
          127.1144,
          131.26863,
          135.66771,
          140.35171,
          145.36669,
          150.75399,
          156.54488,
          162.75891,
          169.4047,
          176.48172,
          183.98288,
          191.89784,
          200.21538,
          208.92486,
          218.01702,
          227.48388,
          237.31828,
          247.51354,
          258.0632,
          268.96082,
          280.19986,
          291.77326,
          303.6734,
          315.89174,
          328.419,
          341.2452,
          354.35996,
          367.75308,
          381.41508,
          395.33784,
          409.5154,
          423.9448,
          438.62676,
          453.56656,
          468.7752,
          484.27028,
          500.07764,
          516.23308,
          532.7848,
          549.7966,
          567.35232,
          585.562
         ]
        }
       ],
       "layout": {
        "height": 750,
        "template": {
         "data": {
          "bar": [
           {
            "error_x": {
             "color": "#2a3f5f"
            },
            "error_y": {
             "color": "#2a3f5f"
            },
            "marker": {
             "line": {
              "color": "#E5ECF6",
              "width": 0.5
             }
            },
            "type": "bar"
           }
          ],
          "barpolar": [
           {
            "marker": {
             "line": {
              "color": "#E5ECF6",
              "width": 0.5
             }
            },
            "type": "barpolar"
           }
          ],
          "carpet": [
           {
            "aaxis": {
             "endlinecolor": "#2a3f5f",
             "gridcolor": "white",
             "linecolor": "white",
             "minorgridcolor": "white",
             "startlinecolor": "#2a3f5f"
            },
            "baxis": {
             "endlinecolor": "#2a3f5f",
             "gridcolor": "white",
             "linecolor": "white",
             "minorgridcolor": "white",
             "startlinecolor": "#2a3f5f"
            },
            "type": "carpet"
           }
          ],
          "choropleth": [
           {
            "colorbar": {
             "outlinewidth": 0,
             "ticks": ""
            },
            "type": "choropleth"
           }
          ],
          "contour": [
           {
            "colorbar": {
             "outlinewidth": 0,
             "ticks": ""
            },
            "colorscale": [
             [
              0,
              "#0d0887"
             ],
             [
              0.1111111111111111,
              "#46039f"
             ],
             [
              0.2222222222222222,
              "#7201a8"
             ],
             [
              0.3333333333333333,
              "#9c179e"
             ],
             [
              0.4444444444444444,
              "#bd3786"
             ],
             [
              0.5555555555555556,
              "#d8576b"
             ],
             [
              0.6666666666666666,
              "#ed7953"
             ],
             [
              0.7777777777777778,
              "#fb9f3a"
             ],
             [
              0.8888888888888888,
              "#fdca26"
             ],
             [
              1,
              "#f0f921"
             ]
            ],
            "type": "contour"
           }
          ],
          "contourcarpet": [
           {
            "colorbar": {
             "outlinewidth": 0,
             "ticks": ""
            },
            "type": "contourcarpet"
           }
          ],
          "heatmap": [
           {
            "colorbar": {
             "outlinewidth": 0,
             "ticks": ""
            },
            "colorscale": [
             [
              0,
              "#0d0887"
             ],
             [
              0.1111111111111111,
              "#46039f"
             ],
             [
              0.2222222222222222,
              "#7201a8"
             ],
             [
              0.3333333333333333,
              "#9c179e"
             ],
             [
              0.4444444444444444,
              "#bd3786"
             ],
             [
              0.5555555555555556,
              "#d8576b"
             ],
             [
              0.6666666666666666,
              "#ed7953"
             ],
             [
              0.7777777777777778,
              "#fb9f3a"
             ],
             [
              0.8888888888888888,
              "#fdca26"
             ],
             [
              1,
              "#f0f921"
             ]
            ],
            "type": "heatmap"
           }
          ],
          "heatmapgl": [
           {
            "colorbar": {
             "outlinewidth": 0,
             "ticks": ""
            },
            "colorscale": [
             [
              0,
              "#0d0887"
             ],
             [
              0.1111111111111111,
              "#46039f"
             ],
             [
              0.2222222222222222,
              "#7201a8"
             ],
             [
              0.3333333333333333,
              "#9c179e"
             ],
             [
              0.4444444444444444,
              "#bd3786"
             ],
             [
              0.5555555555555556,
              "#d8576b"
             ],
             [
              0.6666666666666666,
              "#ed7953"
             ],
             [
              0.7777777777777778,
              "#fb9f3a"
             ],
             [
              0.8888888888888888,
              "#fdca26"
             ],
             [
              1,
              "#f0f921"
             ]
            ],
            "type": "heatmapgl"
           }
          ],
          "histogram": [
           {
            "marker": {
             "colorbar": {
              "outlinewidth": 0,
              "ticks": ""
             }
            },
            "type": "histogram"
           }
          ],
          "histogram2d": [
           {
            "colorbar": {
             "outlinewidth": 0,
             "ticks": ""
            },
            "colorscale": [
             [
              0,
              "#0d0887"
             ],
             [
              0.1111111111111111,
              "#46039f"
             ],
             [
              0.2222222222222222,
              "#7201a8"
             ],
             [
              0.3333333333333333,
              "#9c179e"
             ],
             [
              0.4444444444444444,
              "#bd3786"
             ],
             [
              0.5555555555555556,
              "#d8576b"
             ],
             [
              0.6666666666666666,
              "#ed7953"
             ],
             [
              0.7777777777777778,
              "#fb9f3a"
             ],
             [
              0.8888888888888888,
              "#fdca26"
             ],
             [
              1,
              "#f0f921"
             ]
            ],
            "type": "histogram2d"
           }
          ],
          "histogram2dcontour": [
           {
            "colorbar": {
             "outlinewidth": 0,
             "ticks": ""
            },
            "colorscale": [
             [
              0,
              "#0d0887"
             ],
             [
              0.1111111111111111,
              "#46039f"
             ],
             [
              0.2222222222222222,
              "#7201a8"
             ],
             [
              0.3333333333333333,
              "#9c179e"
             ],
             [
              0.4444444444444444,
              "#bd3786"
             ],
             [
              0.5555555555555556,
              "#d8576b"
             ],
             [
              0.6666666666666666,
              "#ed7953"
             ],
             [
              0.7777777777777778,
              "#fb9f3a"
             ],
             [
              0.8888888888888888,
              "#fdca26"
             ],
             [
              1,
              "#f0f921"
             ]
            ],
            "type": "histogram2dcontour"
           }
          ],
          "mesh3d": [
           {
            "colorbar": {
             "outlinewidth": 0,
             "ticks": ""
            },
            "type": "mesh3d"
           }
          ],
          "parcoords": [
           {
            "line": {
             "colorbar": {
              "outlinewidth": 0,
              "ticks": ""
             }
            },
            "type": "parcoords"
           }
          ],
          "pie": [
           {
            "automargin": true,
            "type": "pie"
           }
          ],
          "scatter": [
           {
            "marker": {
             "colorbar": {
              "outlinewidth": 0,
              "ticks": ""
             }
            },
            "type": "scatter"
           }
          ],
          "scatter3d": [
           {
            "line": {
             "colorbar": {
              "outlinewidth": 0,
              "ticks": ""
             }
            },
            "marker": {
             "colorbar": {
              "outlinewidth": 0,
              "ticks": ""
             }
            },
            "type": "scatter3d"
           }
          ],
          "scattercarpet": [
           {
            "marker": {
             "colorbar": {
              "outlinewidth": 0,
              "ticks": ""
             }
            },
            "type": "scattercarpet"
           }
          ],
          "scattergeo": [
           {
            "marker": {
             "colorbar": {
              "outlinewidth": 0,
              "ticks": ""
             }
            },
            "type": "scattergeo"
           }
          ],
          "scattergl": [
           {
            "marker": {
             "colorbar": {
              "outlinewidth": 0,
              "ticks": ""
             }
            },
            "type": "scattergl"
           }
          ],
          "scattermapbox": [
           {
            "marker": {
             "colorbar": {
              "outlinewidth": 0,
              "ticks": ""
             }
            },
            "type": "scattermapbox"
           }
          ],
          "scatterpolar": [
           {
            "marker": {
             "colorbar": {
              "outlinewidth": 0,
              "ticks": ""
             }
            },
            "type": "scatterpolar"
           }
          ],
          "scatterpolargl": [
           {
            "marker": {
             "colorbar": {
              "outlinewidth": 0,
              "ticks": ""
             }
            },
            "type": "scatterpolargl"
           }
          ],
          "scatterternary": [
           {
            "marker": {
             "colorbar": {
              "outlinewidth": 0,
              "ticks": ""
             }
            },
            "type": "scatterternary"
           }
          ],
          "surface": [
           {
            "colorbar": {
             "outlinewidth": 0,
             "ticks": ""
            },
            "colorscale": [
             [
              0,
              "#0d0887"
             ],
             [
              0.1111111111111111,
              "#46039f"
             ],
             [
              0.2222222222222222,
              "#7201a8"
             ],
             [
              0.3333333333333333,
              "#9c179e"
             ],
             [
              0.4444444444444444,
              "#bd3786"
             ],
             [
              0.5555555555555556,
              "#d8576b"
             ],
             [
              0.6666666666666666,
              "#ed7953"
             ],
             [
              0.7777777777777778,
              "#fb9f3a"
             ],
             [
              0.8888888888888888,
              "#fdca26"
             ],
             [
              1,
              "#f0f921"
             ]
            ],
            "type": "surface"
           }
          ],
          "table": [
           {
            "cells": {
             "fill": {
              "color": "#EBF0F8"
             },
             "line": {
              "color": "white"
             }
            },
            "header": {
             "fill": {
              "color": "#C8D4E3"
             },
             "line": {
              "color": "white"
             }
            },
            "type": "table"
           }
          ]
         },
         "layout": {
          "annotationdefaults": {
           "arrowcolor": "#2a3f5f",
           "arrowhead": 0,
           "arrowwidth": 1
          },
          "coloraxis": {
           "colorbar": {
            "outlinewidth": 0,
            "ticks": ""
           }
          },
          "colorscale": {
           "diverging": [
            [
             0,
             "#8e0152"
            ],
            [
             0.1,
             "#c51b7d"
            ],
            [
             0.2,
             "#de77ae"
            ],
            [
             0.3,
             "#f1b6da"
            ],
            [
             0.4,
             "#fde0ef"
            ],
            [
             0.5,
             "#f7f7f7"
            ],
            [
             0.6,
             "#e6f5d0"
            ],
            [
             0.7,
             "#b8e186"
            ],
            [
             0.8,
             "#7fbc41"
            ],
            [
             0.9,
             "#4d9221"
            ],
            [
             1,
             "#276419"
            ]
           ],
           "sequential": [
            [
             0,
             "#0d0887"
            ],
            [
             0.1111111111111111,
             "#46039f"
            ],
            [
             0.2222222222222222,
             "#7201a8"
            ],
            [
             0.3333333333333333,
             "#9c179e"
            ],
            [
             0.4444444444444444,
             "#bd3786"
            ],
            [
             0.5555555555555556,
             "#d8576b"
            ],
            [
             0.6666666666666666,
             "#ed7953"
            ],
            [
             0.7777777777777778,
             "#fb9f3a"
            ],
            [
             0.8888888888888888,
             "#fdca26"
            ],
            [
             1,
             "#f0f921"
            ]
           ],
           "sequentialminus": [
            [
             0,
             "#0d0887"
            ],
            [
             0.1111111111111111,
             "#46039f"
            ],
            [
             0.2222222222222222,
             "#7201a8"
            ],
            [
             0.3333333333333333,
             "#9c179e"
            ],
            [
             0.4444444444444444,
             "#bd3786"
            ],
            [
             0.5555555555555556,
             "#d8576b"
            ],
            [
             0.6666666666666666,
             "#ed7953"
            ],
            [
             0.7777777777777778,
             "#fb9f3a"
            ],
            [
             0.8888888888888888,
             "#fdca26"
            ],
            [
             1,
             "#f0f921"
            ]
           ]
          },
          "colorway": [
           "#636efa",
           "#EF553B",
           "#00cc96",
           "#ab63fa",
           "#FFA15A",
           "#19d3f3",
           "#FF6692",
           "#B6E880",
           "#FF97FF",
           "#FECB52"
          ],
          "font": {
           "color": "#2a3f5f"
          },
          "geo": {
           "bgcolor": "white",
           "lakecolor": "white",
           "landcolor": "#E5ECF6",
           "showlakes": true,
           "showland": true,
           "subunitcolor": "white"
          },
          "hoverlabel": {
           "align": "left"
          },
          "hovermode": "closest",
          "mapbox": {
           "style": "light"
          },
          "paper_bgcolor": "white",
          "plot_bgcolor": "#E5ECF6",
          "polar": {
           "angularaxis": {
            "gridcolor": "white",
            "linecolor": "white",
            "ticks": ""
           },
           "bgcolor": "#E5ECF6",
           "radialaxis": {
            "gridcolor": "white",
            "linecolor": "white",
            "ticks": ""
           }
          },
          "scene": {
           "xaxis": {
            "backgroundcolor": "#E5ECF6",
            "gridcolor": "white",
            "gridwidth": 2,
            "linecolor": "white",
            "showbackground": true,
            "ticks": "",
            "zerolinecolor": "white"
           },
           "yaxis": {
            "backgroundcolor": "#E5ECF6",
            "gridcolor": "white",
            "gridwidth": 2,
            "linecolor": "white",
            "showbackground": true,
            "ticks": "",
            "zerolinecolor": "white"
           },
           "zaxis": {
            "backgroundcolor": "#E5ECF6",
            "gridcolor": "white",
            "gridwidth": 2,
            "linecolor": "white",
            "showbackground": true,
            "ticks": "",
            "zerolinecolor": "white"
           }
          },
          "shapedefaults": {
           "line": {
            "color": "#2a3f5f"
           }
          },
          "ternary": {
           "aaxis": {
            "gridcolor": "white",
            "linecolor": "white",
            "ticks": ""
           },
           "baxis": {
            "gridcolor": "white",
            "linecolor": "white",
            "ticks": ""
           },
           "bgcolor": "#E5ECF6",
           "caxis": {
            "gridcolor": "white",
            "linecolor": "white",
            "ticks": ""
           }
          },
          "title": {
           "x": 0.05
          },
          "xaxis": {
           "automargin": true,
           "gridcolor": "white",
           "linecolor": "white",
           "ticks": "",
           "title": {
            "standoff": 15
           },
           "zerolinecolor": "white",
           "zerolinewidth": 2
          },
          "yaxis": {
           "automargin": true,
           "gridcolor": "white",
           "linecolor": "white",
           "ticks": "",
           "title": {
            "standoff": 15
           },
           "zerolinecolor": "white",
           "zerolinewidth": 2
          }
         }
        },
        "title": {
         "text": "Heating Rate ,Lat: -83.75, Lon: -175.0, 2015-03-15 00:05:00",
         "x": 0.5,
         "xanchor": "center",
         "y": 0.9,
         "yanchor": "top"
        },
        "width": 750,
        "xaxis": {
         "exponentformat": "power",
         "gridcolor": "grey",
         "gridwidth": 0.5,
         "linecolor": "black",
         "linewidth": 2,
         "mirror": true,
         "showexponent": "all",
         "showgrid": true,
         "showline": true,
         "title": {
          "text": "Heating Rate W/m^3"
         },
         "type": "log"
        },
        "yaxis": {
         "dtick": 20,
         "gridcolor": "grey",
         "gridwidth": 0.5,
         "linecolor": "black",
         "linewidth": 2,
         "mirror": true,
         "showgrid": true,
         "showline": true,
         "tick0": 60,
         "title": {
          "text": "Altitude (km)"
         }
        }
       }
      },
      "text/html": [
       "<div>\n",
       "        \n",
       "        \n",
       "            <div id=\"fc0ba621-1eed-4b53-b614-8307ef19b37f\" class=\"plotly-graph-div\" style=\"height:750px; width:750px;\"></div>\n",
       "            <script type=\"text/javascript\">\n",
       "                require([\"plotly\"], function(Plotly) {\n",
       "                    window.PLOTLYENV=window.PLOTLYENV || {};\n",
       "                    \n",
       "                if (document.getElementById(\"fc0ba621-1eed-4b53-b614-8307ef19b37f\")) {\n",
       "                    Plotly.newPlot(\n",
       "                        'fc0ba621-1eed-4b53-b614-8307ef19b37f',\n",
       "                        [{\"line\": {\"color\": \"blue\"}, \"mode\": \"lines\", \"name\": \"Heating Rate\", \"type\": \"scatter\", \"x\": [4.297105179534065e-11, 7.653330036089699e-11, 1.351260687753162e-10, 2.3067774247004836e-10, 3.9949351636465624e-10, 7.106569193470686e-10, 1.3083964065588274e-09, 2.4604757970982265e-09, 4.502046126844219e-09, 7.392917623127319e-09, 1.0012962642749873e-08, 1.0643079926638659e-08, 9.089426170835547e-09, 6.808772934476557e-09, 4.91928383206295e-09, 3.6337486239104966e-09, 2.781957464884149e-09, 2.1833201579373666e-09, 1.7335382952368325e-09, 1.3863822846228839e-09, 1.121424268258226e-09, 9.243176731493951e-10, 8.02019501732656e-10, 7.149486114778704e-10, 6.405883674459206e-10, 5.923672010744453e-10, 5.591717351715867e-10, 5.293851139920324e-10, 4.941398551337065e-10, 4.4949930372578095e-10, 3.967188791427089e-10, 3.400212280222157e-10, 2.839991396579263e-10, 2.3210277123530875e-10, 1.8628496399210536e-10, 1.4725997170770335e-10, 1.1491796306690194e-10, 8.86847594937641e-11, 6.777485123539767e-11, 5.134970070851769e-11, 3.860777410303612e-11, 2.8830046325511752e-11, 2.139811733709909e-11, 1.5796267523230534e-11, 1.160469426989346e-11, 8.488338149403482e-12, 6.184206528720791e-12, 4.48875965081526e-12, 3.246360504667712e-12, 2.3392185247504667e-12, 1.6789650394736156e-12, 1.199793002453101e-12, 8.529987071597715e-13, 6.027197124011607e-13, 4.2265802347371557e-13, 2.9359034336387514e-13], \"y\": [96.36432, 97.69113, 98.96521, 100.21858, 101.49149, 102.83465, 104.31025, 105.99205, 107.9605, 110.28514, 112.99677, 116.0809, 119.49435, 123.18561, 127.1144, 131.26863, 135.66771, 140.35171, 145.36669, 150.75399, 156.54488, 162.75891, 169.4047, 176.48172, 183.98288, 191.89784, 200.21538, 208.92486, 218.01702, 227.48388, 237.31828, 247.51354, 258.0632, 268.96082, 280.19986, 291.77326, 303.6734, 315.89174, 328.419, 341.2452, 354.35996, 367.75308, 381.41508, 395.33784, 409.5154, 423.9448, 438.62676, 453.56656, 468.7752, 484.27028, 500.07764, 516.23308, 532.7848, 549.7966, 567.35232, 585.562]}],\n",
       "                        {\"height\": 750, \"template\": {\"data\": {\"bar\": [{\"error_x\": {\"color\": \"#2a3f5f\"}, \"error_y\": {\"color\": \"#2a3f5f\"}, \"marker\": {\"line\": {\"color\": \"#E5ECF6\", \"width\": 0.5}}, \"type\": \"bar\"}], \"barpolar\": [{\"marker\": {\"line\": {\"color\": \"#E5ECF6\", \"width\": 0.5}}, \"type\": \"barpolar\"}], \"carpet\": [{\"aaxis\": {\"endlinecolor\": \"#2a3f5f\", \"gridcolor\": \"white\", \"linecolor\": \"white\", \"minorgridcolor\": \"white\", \"startlinecolor\": \"#2a3f5f\"}, \"baxis\": {\"endlinecolor\": \"#2a3f5f\", \"gridcolor\": \"white\", \"linecolor\": \"white\", \"minorgridcolor\": \"white\", \"startlinecolor\": \"#2a3f5f\"}, \"type\": \"carpet\"}], \"choropleth\": [{\"colorbar\": {\"outlinewidth\": 0, \"ticks\": \"\"}, \"type\": \"choropleth\"}], \"contour\": [{\"colorbar\": {\"outlinewidth\": 0, \"ticks\": \"\"}, \"colorscale\": [[0.0, \"#0d0887\"], [0.1111111111111111, \"#46039f\"], [0.2222222222222222, \"#7201a8\"], [0.3333333333333333, \"#9c179e\"], [0.4444444444444444, \"#bd3786\"], [0.5555555555555556, \"#d8576b\"], [0.6666666666666666, \"#ed7953\"], [0.7777777777777778, \"#fb9f3a\"], [0.8888888888888888, \"#fdca26\"], [1.0, \"#f0f921\"]], \"type\": \"contour\"}], \"contourcarpet\": [{\"colorbar\": {\"outlinewidth\": 0, \"ticks\": \"\"}, \"type\": \"contourcarpet\"}], \"heatmap\": [{\"colorbar\": {\"outlinewidth\": 0, \"ticks\": \"\"}, \"colorscale\": [[0.0, \"#0d0887\"], [0.1111111111111111, \"#46039f\"], [0.2222222222222222, \"#7201a8\"], [0.3333333333333333, \"#9c179e\"], [0.4444444444444444, \"#bd3786\"], [0.5555555555555556, \"#d8576b\"], [0.6666666666666666, \"#ed7953\"], [0.7777777777777778, \"#fb9f3a\"], [0.8888888888888888, \"#fdca26\"], [1.0, \"#f0f921\"]], \"type\": \"heatmap\"}], \"heatmapgl\": [{\"colorbar\": {\"outlinewidth\": 0, \"ticks\": \"\"}, \"colorscale\": [[0.0, \"#0d0887\"], [0.1111111111111111, \"#46039f\"], [0.2222222222222222, \"#7201a8\"], [0.3333333333333333, \"#9c179e\"], [0.4444444444444444, \"#bd3786\"], [0.5555555555555556, \"#d8576b\"], [0.6666666666666666, \"#ed7953\"], [0.7777777777777778, \"#fb9f3a\"], [0.8888888888888888, \"#fdca26\"], [1.0, \"#f0f921\"]], \"type\": \"heatmapgl\"}], \"histogram\": [{\"marker\": {\"colorbar\": {\"outlinewidth\": 0, \"ticks\": \"\"}}, \"type\": \"histogram\"}], \"histogram2d\": [{\"colorbar\": {\"outlinewidth\": 0, \"ticks\": \"\"}, \"colorscale\": [[0.0, \"#0d0887\"], [0.1111111111111111, \"#46039f\"], [0.2222222222222222, \"#7201a8\"], [0.3333333333333333, \"#9c179e\"], [0.4444444444444444, \"#bd3786\"], [0.5555555555555556, \"#d8576b\"], [0.6666666666666666, \"#ed7953\"], [0.7777777777777778, \"#fb9f3a\"], [0.8888888888888888, \"#fdca26\"], [1.0, \"#f0f921\"]], \"type\": \"histogram2d\"}], \"histogram2dcontour\": [{\"colorbar\": {\"outlinewidth\": 0, \"ticks\": \"\"}, \"colorscale\": [[0.0, \"#0d0887\"], [0.1111111111111111, \"#46039f\"], [0.2222222222222222, \"#7201a8\"], [0.3333333333333333, \"#9c179e\"], [0.4444444444444444, \"#bd3786\"], [0.5555555555555556, \"#d8576b\"], [0.6666666666666666, \"#ed7953\"], [0.7777777777777778, \"#fb9f3a\"], [0.8888888888888888, \"#fdca26\"], [1.0, \"#f0f921\"]], \"type\": \"histogram2dcontour\"}], \"mesh3d\": [{\"colorbar\": {\"outlinewidth\": 0, \"ticks\": \"\"}, \"type\": \"mesh3d\"}], \"parcoords\": [{\"line\": {\"colorbar\": {\"outlinewidth\": 0, \"ticks\": \"\"}}, \"type\": \"parcoords\"}], \"pie\": [{\"automargin\": true, \"type\": \"pie\"}], \"scatter\": [{\"marker\": {\"colorbar\": {\"outlinewidth\": 0, \"ticks\": \"\"}}, \"type\": \"scatter\"}], \"scatter3d\": [{\"line\": {\"colorbar\": {\"outlinewidth\": 0, \"ticks\": \"\"}}, \"marker\": {\"colorbar\": {\"outlinewidth\": 0, \"ticks\": \"\"}}, \"type\": \"scatter3d\"}], \"scattercarpet\": [{\"marker\": {\"colorbar\": {\"outlinewidth\": 0, \"ticks\": \"\"}}, \"type\": \"scattercarpet\"}], \"scattergeo\": [{\"marker\": {\"colorbar\": {\"outlinewidth\": 0, \"ticks\": \"\"}}, \"type\": \"scattergeo\"}], \"scattergl\": [{\"marker\": {\"colorbar\": {\"outlinewidth\": 0, \"ticks\": \"\"}}, \"type\": \"scattergl\"}], \"scattermapbox\": [{\"marker\": {\"colorbar\": {\"outlinewidth\": 0, \"ticks\": \"\"}}, \"type\": \"scattermapbox\"}], \"scatterpolar\": [{\"marker\": {\"colorbar\": {\"outlinewidth\": 0, \"ticks\": \"\"}}, \"type\": \"scatterpolar\"}], \"scatterpolargl\": [{\"marker\": {\"colorbar\": {\"outlinewidth\": 0, \"ticks\": \"\"}}, \"type\": \"scatterpolargl\"}], \"scatterternary\": [{\"marker\": {\"colorbar\": {\"outlinewidth\": 0, \"ticks\": \"\"}}, \"type\": \"scatterternary\"}], \"surface\": [{\"colorbar\": {\"outlinewidth\": 0, \"ticks\": \"\"}, \"colorscale\": [[0.0, \"#0d0887\"], [0.1111111111111111, \"#46039f\"], [0.2222222222222222, \"#7201a8\"], [0.3333333333333333, \"#9c179e\"], [0.4444444444444444, \"#bd3786\"], [0.5555555555555556, \"#d8576b\"], [0.6666666666666666, \"#ed7953\"], [0.7777777777777778, \"#fb9f3a\"], [0.8888888888888888, \"#fdca26\"], [1.0, \"#f0f921\"]], \"type\": \"surface\"}], \"table\": [{\"cells\": {\"fill\": {\"color\": \"#EBF0F8\"}, \"line\": {\"color\": \"white\"}}, \"header\": {\"fill\": {\"color\": \"#C8D4E3\"}, \"line\": {\"color\": \"white\"}}, \"type\": \"table\"}]}, \"layout\": {\"annotationdefaults\": {\"arrowcolor\": \"#2a3f5f\", \"arrowhead\": 0, \"arrowwidth\": 1}, \"coloraxis\": {\"colorbar\": {\"outlinewidth\": 0, \"ticks\": \"\"}}, \"colorscale\": {\"diverging\": [[0, \"#8e0152\"], [0.1, \"#c51b7d\"], [0.2, \"#de77ae\"], [0.3, \"#f1b6da\"], [0.4, \"#fde0ef\"], [0.5, \"#f7f7f7\"], [0.6, \"#e6f5d0\"], [0.7, \"#b8e186\"], [0.8, \"#7fbc41\"], [0.9, \"#4d9221\"], [1, \"#276419\"]], \"sequential\": [[0.0, \"#0d0887\"], [0.1111111111111111, \"#46039f\"], [0.2222222222222222, \"#7201a8\"], [0.3333333333333333, \"#9c179e\"], [0.4444444444444444, \"#bd3786\"], [0.5555555555555556, \"#d8576b\"], [0.6666666666666666, \"#ed7953\"], [0.7777777777777778, \"#fb9f3a\"], [0.8888888888888888, \"#fdca26\"], [1.0, \"#f0f921\"]], \"sequentialminus\": [[0.0, \"#0d0887\"], [0.1111111111111111, \"#46039f\"], [0.2222222222222222, \"#7201a8\"], [0.3333333333333333, \"#9c179e\"], [0.4444444444444444, \"#bd3786\"], [0.5555555555555556, \"#d8576b\"], [0.6666666666666666, \"#ed7953\"], [0.7777777777777778, \"#fb9f3a\"], [0.8888888888888888, \"#fdca26\"], [1.0, \"#f0f921\"]]}, \"colorway\": [\"#636efa\", \"#EF553B\", \"#00cc96\", \"#ab63fa\", \"#FFA15A\", \"#19d3f3\", \"#FF6692\", \"#B6E880\", \"#FF97FF\", \"#FECB52\"], \"font\": {\"color\": \"#2a3f5f\"}, \"geo\": {\"bgcolor\": \"white\", \"lakecolor\": \"white\", \"landcolor\": \"#E5ECF6\", \"showlakes\": true, \"showland\": true, \"subunitcolor\": \"white\"}, \"hoverlabel\": {\"align\": \"left\"}, \"hovermode\": \"closest\", \"mapbox\": {\"style\": \"light\"}, \"paper_bgcolor\": \"white\", \"plot_bgcolor\": \"#E5ECF6\", \"polar\": {\"angularaxis\": {\"gridcolor\": \"white\", \"linecolor\": \"white\", \"ticks\": \"\"}, \"bgcolor\": \"#E5ECF6\", \"radialaxis\": {\"gridcolor\": \"white\", \"linecolor\": \"white\", \"ticks\": \"\"}}, \"scene\": {\"xaxis\": {\"backgroundcolor\": \"#E5ECF6\", \"gridcolor\": \"white\", \"gridwidth\": 2, \"linecolor\": \"white\", \"showbackground\": true, \"ticks\": \"\", \"zerolinecolor\": \"white\"}, \"yaxis\": {\"backgroundcolor\": \"#E5ECF6\", \"gridcolor\": \"white\", \"gridwidth\": 2, \"linecolor\": \"white\", \"showbackground\": true, \"ticks\": \"\", \"zerolinecolor\": \"white\"}, \"zaxis\": {\"backgroundcolor\": \"#E5ECF6\", \"gridcolor\": \"white\", \"gridwidth\": 2, \"linecolor\": \"white\", \"showbackground\": true, \"ticks\": \"\", \"zerolinecolor\": \"white\"}}, \"shapedefaults\": {\"line\": {\"color\": \"#2a3f5f\"}}, \"ternary\": {\"aaxis\": {\"gridcolor\": \"white\", \"linecolor\": \"white\", \"ticks\": \"\"}, \"baxis\": {\"gridcolor\": \"white\", \"linecolor\": \"white\", \"ticks\": \"\"}, \"bgcolor\": \"#E5ECF6\", \"caxis\": {\"gridcolor\": \"white\", \"linecolor\": \"white\", \"ticks\": \"\"}}, \"title\": {\"x\": 0.05}, \"xaxis\": {\"automargin\": true, \"gridcolor\": \"white\", \"linecolor\": \"white\", \"ticks\": \"\", \"title\": {\"standoff\": 15}, \"zerolinecolor\": \"white\", \"zerolinewidth\": 2}, \"yaxis\": {\"automargin\": true, \"gridcolor\": \"white\", \"linecolor\": \"white\", \"ticks\": \"\", \"title\": {\"standoff\": 15}, \"zerolinecolor\": \"white\", \"zerolinewidth\": 2}}}, \"title\": {\"text\": \"Heating Rate ,Lat: -83.75, Lon: -175.0, 2015-03-15 00:05:00\", \"x\": 0.5, \"xanchor\": \"center\", \"y\": 0.9, \"yanchor\": \"top\"}, \"width\": 750, \"xaxis\": {\"exponentformat\": \"power\", \"gridcolor\": \"grey\", \"gridwidth\": 0.5, \"linecolor\": \"black\", \"linewidth\": 2, \"mirror\": true, \"showexponent\": \"all\", \"showgrid\": true, \"showline\": true, \"title\": {\"text\": \"Heating Rate W/m^3\"}, \"type\": \"log\"}, \"yaxis\": {\"dtick\": 20, \"gridcolor\": \"grey\", \"gridwidth\": 0.5, \"linecolor\": \"black\", \"linewidth\": 2, \"mirror\": true, \"showgrid\": true, \"showline\": true, \"tick0\": 60, \"title\": {\"text\": \"Altitude (km)\"}}},\n",
       "                        {\"responsive\": true}\n",
       "                    ).then(function(){\n",
       "                            \n",
       "var gd = document.getElementById('fc0ba621-1eed-4b53-b614-8307ef19b37f');\n",
       "var x = new MutationObserver(function (mutations, observer) {{\n",
       "        var display = window.getComputedStyle(gd).display;\n",
       "        if (!display || display === 'none') {{\n",
       "            console.log([gd, 'removed!']);\n",
       "            Plotly.purge(gd);\n",
       "            observer.disconnect();\n",
       "        }}\n",
       "}});\n",
       "\n",
       "// Listen for the removal of the full notebook cells\n",
       "var notebookContainer = gd.closest('#notebook-container');\n",
       "if (notebookContainer) {{\n",
       "    x.observe(notebookContainer, {childList: true});\n",
       "}}\n",
       "\n",
       "// Listen for the clearing of the current output cell\n",
       "var outputEl = gd.closest('.output');\n",
       "if (outputEl) {{\n",
       "    x.observe(outputEl, {childList: true});\n",
       "}}\n",
       "\n",
       "                        })\n",
       "                };\n",
       "                });\n",
       "            </script>\n",
       "        </div>"
      ]
     },
     "metadata": {},
     "output_type": "display_data"
    },
    {
     "name": "stdout",
     "output_type": "stream",
     "text": [
      "Error Calculation started...\n"
     ]
    },
    {
     "data": {
      "application/vnd.plotly.v1+json": {
       "config": {
        "plotlyServerURL": "https://plot.ly"
       },
       "data": [
        {
         "line": {
          "color": "red"
         },
         "mode": "lines",
         "name": "Pedersen Error (%))",
         "type": "scatter",
         "x": [
          8.146305889688987,
          8.437631676403063,
          8.769383175320032,
          9.065891932011358,
          9.286084064529835,
          9.415908480467262,
          9.450937594155521,
          9.373897665576132,
          9.136662541885531,
          8.677248575339096,
          8.00820340189904,
          7.344830920868512,
          7.057959168733329,
          7.299848714367883,
          7.842208580487629,
          8.389789901477005,
          8.791974770474047,
          9.023712523545626,
          9.111965882337362,
          9.08600529826113,
          8.957887470343563,
          8.722203943487694,
          8.394922014983248,
          7.991608896913877,
          7.613945208708708,
          7.520278291734704,
          7.799278490179084,
          8.260041932792225,
          8.680269666661252,
          8.97417150185857,
          9.158456254408016,
          9.27424580500994,
          9.353484791362957,
          9.414653201184013,
          9.466844215020263,
          9.51389756107946,
          9.557068744434238,
          9.596529077951153,
          9.632142303629978,
          9.663838973150119,
          9.691755711812773,
          9.71624934971757,
          9.737844770798123,
          9.757150762196245,
          9.774767188494222,
          9.791201933287361,
          9.80681200814381,
          9.821769840310392,
          9.836069847011583,
          9.84955296468218,
          9.861951896942616,
          9.872931512130618,
          9.882118211466175,
          9.889112691338617,
          9.893478833175832,
          9.894689119214418
         ],
         "y": [
          96.36432,
          97.69113,
          98.96521,
          100.21858,
          101.49149,
          102.83465,
          104.31025,
          105.99205,
          107.9605,
          110.28514,
          112.99677,
          116.0809,
          119.49435,
          123.18561,
          127.1144,
          131.26863,
          135.66771,
          140.35171,
          145.36669,
          150.75399,
          156.54488,
          162.75891,
          169.4047,
          176.48172,
          183.98288,
          191.89784,
          200.21538,
          208.92486,
          218.01702,
          227.48388,
          237.31828,
          247.51354,
          258.0632,
          268.96082,
          280.19986,
          291.77326,
          303.6734,
          315.89174,
          328.419,
          341.2452,
          354.35996,
          367.75308,
          381.41508,
          395.33784,
          409.5154,
          423.9448,
          438.62676,
          453.56656,
          468.7752,
          484.27028,
          500.07764,
          516.23308,
          532.7848,
          549.7966,
          567.35232,
          585.562
         ]
        }
       ],
       "layout": {
        "height": 750,
        "template": {
         "data": {
          "bar": [
           {
            "error_x": {
             "color": "#2a3f5f"
            },
            "error_y": {
             "color": "#2a3f5f"
            },
            "marker": {
             "line": {
              "color": "#E5ECF6",
              "width": 0.5
             }
            },
            "type": "bar"
           }
          ],
          "barpolar": [
           {
            "marker": {
             "line": {
              "color": "#E5ECF6",
              "width": 0.5
             }
            },
            "type": "barpolar"
           }
          ],
          "carpet": [
           {
            "aaxis": {
             "endlinecolor": "#2a3f5f",
             "gridcolor": "white",
             "linecolor": "white",
             "minorgridcolor": "white",
             "startlinecolor": "#2a3f5f"
            },
            "baxis": {
             "endlinecolor": "#2a3f5f",
             "gridcolor": "white",
             "linecolor": "white",
             "minorgridcolor": "white",
             "startlinecolor": "#2a3f5f"
            },
            "type": "carpet"
           }
          ],
          "choropleth": [
           {
            "colorbar": {
             "outlinewidth": 0,
             "ticks": ""
            },
            "type": "choropleth"
           }
          ],
          "contour": [
           {
            "colorbar": {
             "outlinewidth": 0,
             "ticks": ""
            },
            "colorscale": [
             [
              0,
              "#0d0887"
             ],
             [
              0.1111111111111111,
              "#46039f"
             ],
             [
              0.2222222222222222,
              "#7201a8"
             ],
             [
              0.3333333333333333,
              "#9c179e"
             ],
             [
              0.4444444444444444,
              "#bd3786"
             ],
             [
              0.5555555555555556,
              "#d8576b"
             ],
             [
              0.6666666666666666,
              "#ed7953"
             ],
             [
              0.7777777777777778,
              "#fb9f3a"
             ],
             [
              0.8888888888888888,
              "#fdca26"
             ],
             [
              1,
              "#f0f921"
             ]
            ],
            "type": "contour"
           }
          ],
          "contourcarpet": [
           {
            "colorbar": {
             "outlinewidth": 0,
             "ticks": ""
            },
            "type": "contourcarpet"
           }
          ],
          "heatmap": [
           {
            "colorbar": {
             "outlinewidth": 0,
             "ticks": ""
            },
            "colorscale": [
             [
              0,
              "#0d0887"
             ],
             [
              0.1111111111111111,
              "#46039f"
             ],
             [
              0.2222222222222222,
              "#7201a8"
             ],
             [
              0.3333333333333333,
              "#9c179e"
             ],
             [
              0.4444444444444444,
              "#bd3786"
             ],
             [
              0.5555555555555556,
              "#d8576b"
             ],
             [
              0.6666666666666666,
              "#ed7953"
             ],
             [
              0.7777777777777778,
              "#fb9f3a"
             ],
             [
              0.8888888888888888,
              "#fdca26"
             ],
             [
              1,
              "#f0f921"
             ]
            ],
            "type": "heatmap"
           }
          ],
          "heatmapgl": [
           {
            "colorbar": {
             "outlinewidth": 0,
             "ticks": ""
            },
            "colorscale": [
             [
              0,
              "#0d0887"
             ],
             [
              0.1111111111111111,
              "#46039f"
             ],
             [
              0.2222222222222222,
              "#7201a8"
             ],
             [
              0.3333333333333333,
              "#9c179e"
             ],
             [
              0.4444444444444444,
              "#bd3786"
             ],
             [
              0.5555555555555556,
              "#d8576b"
             ],
             [
              0.6666666666666666,
              "#ed7953"
             ],
             [
              0.7777777777777778,
              "#fb9f3a"
             ],
             [
              0.8888888888888888,
              "#fdca26"
             ],
             [
              1,
              "#f0f921"
             ]
            ],
            "type": "heatmapgl"
           }
          ],
          "histogram": [
           {
            "marker": {
             "colorbar": {
              "outlinewidth": 0,
              "ticks": ""
             }
            },
            "type": "histogram"
           }
          ],
          "histogram2d": [
           {
            "colorbar": {
             "outlinewidth": 0,
             "ticks": ""
            },
            "colorscale": [
             [
              0,
              "#0d0887"
             ],
             [
              0.1111111111111111,
              "#46039f"
             ],
             [
              0.2222222222222222,
              "#7201a8"
             ],
             [
              0.3333333333333333,
              "#9c179e"
             ],
             [
              0.4444444444444444,
              "#bd3786"
             ],
             [
              0.5555555555555556,
              "#d8576b"
             ],
             [
              0.6666666666666666,
              "#ed7953"
             ],
             [
              0.7777777777777778,
              "#fb9f3a"
             ],
             [
              0.8888888888888888,
              "#fdca26"
             ],
             [
              1,
              "#f0f921"
             ]
            ],
            "type": "histogram2d"
           }
          ],
          "histogram2dcontour": [
           {
            "colorbar": {
             "outlinewidth": 0,
             "ticks": ""
            },
            "colorscale": [
             [
              0,
              "#0d0887"
             ],
             [
              0.1111111111111111,
              "#46039f"
             ],
             [
              0.2222222222222222,
              "#7201a8"
             ],
             [
              0.3333333333333333,
              "#9c179e"
             ],
             [
              0.4444444444444444,
              "#bd3786"
             ],
             [
              0.5555555555555556,
              "#d8576b"
             ],
             [
              0.6666666666666666,
              "#ed7953"
             ],
             [
              0.7777777777777778,
              "#fb9f3a"
             ],
             [
              0.8888888888888888,
              "#fdca26"
             ],
             [
              1,
              "#f0f921"
             ]
            ],
            "type": "histogram2dcontour"
           }
          ],
          "mesh3d": [
           {
            "colorbar": {
             "outlinewidth": 0,
             "ticks": ""
            },
            "type": "mesh3d"
           }
          ],
          "parcoords": [
           {
            "line": {
             "colorbar": {
              "outlinewidth": 0,
              "ticks": ""
             }
            },
            "type": "parcoords"
           }
          ],
          "pie": [
           {
            "automargin": true,
            "type": "pie"
           }
          ],
          "scatter": [
           {
            "marker": {
             "colorbar": {
              "outlinewidth": 0,
              "ticks": ""
             }
            },
            "type": "scatter"
           }
          ],
          "scatter3d": [
           {
            "line": {
             "colorbar": {
              "outlinewidth": 0,
              "ticks": ""
             }
            },
            "marker": {
             "colorbar": {
              "outlinewidth": 0,
              "ticks": ""
             }
            },
            "type": "scatter3d"
           }
          ],
          "scattercarpet": [
           {
            "marker": {
             "colorbar": {
              "outlinewidth": 0,
              "ticks": ""
             }
            },
            "type": "scattercarpet"
           }
          ],
          "scattergeo": [
           {
            "marker": {
             "colorbar": {
              "outlinewidth": 0,
              "ticks": ""
             }
            },
            "type": "scattergeo"
           }
          ],
          "scattergl": [
           {
            "marker": {
             "colorbar": {
              "outlinewidth": 0,
              "ticks": ""
             }
            },
            "type": "scattergl"
           }
          ],
          "scattermapbox": [
           {
            "marker": {
             "colorbar": {
              "outlinewidth": 0,
              "ticks": ""
             }
            },
            "type": "scattermapbox"
           }
          ],
          "scatterpolar": [
           {
            "marker": {
             "colorbar": {
              "outlinewidth": 0,
              "ticks": ""
             }
            },
            "type": "scatterpolar"
           }
          ],
          "scatterpolargl": [
           {
            "marker": {
             "colorbar": {
              "outlinewidth": 0,
              "ticks": ""
             }
            },
            "type": "scatterpolargl"
           }
          ],
          "scatterternary": [
           {
            "marker": {
             "colorbar": {
              "outlinewidth": 0,
              "ticks": ""
             }
            },
            "type": "scatterternary"
           }
          ],
          "surface": [
           {
            "colorbar": {
             "outlinewidth": 0,
             "ticks": ""
            },
            "colorscale": [
             [
              0,
              "#0d0887"
             ],
             [
              0.1111111111111111,
              "#46039f"
             ],
             [
              0.2222222222222222,
              "#7201a8"
             ],
             [
              0.3333333333333333,
              "#9c179e"
             ],
             [
              0.4444444444444444,
              "#bd3786"
             ],
             [
              0.5555555555555556,
              "#d8576b"
             ],
             [
              0.6666666666666666,
              "#ed7953"
             ],
             [
              0.7777777777777778,
              "#fb9f3a"
             ],
             [
              0.8888888888888888,
              "#fdca26"
             ],
             [
              1,
              "#f0f921"
             ]
            ],
            "type": "surface"
           }
          ],
          "table": [
           {
            "cells": {
             "fill": {
              "color": "#EBF0F8"
             },
             "line": {
              "color": "white"
             }
            },
            "header": {
             "fill": {
              "color": "#C8D4E3"
             },
             "line": {
              "color": "white"
             }
            },
            "type": "table"
           }
          ]
         },
         "layout": {
          "annotationdefaults": {
           "arrowcolor": "#2a3f5f",
           "arrowhead": 0,
           "arrowwidth": 1
          },
          "coloraxis": {
           "colorbar": {
            "outlinewidth": 0,
            "ticks": ""
           }
          },
          "colorscale": {
           "diverging": [
            [
             0,
             "#8e0152"
            ],
            [
             0.1,
             "#c51b7d"
            ],
            [
             0.2,
             "#de77ae"
            ],
            [
             0.3,
             "#f1b6da"
            ],
            [
             0.4,
             "#fde0ef"
            ],
            [
             0.5,
             "#f7f7f7"
            ],
            [
             0.6,
             "#e6f5d0"
            ],
            [
             0.7,
             "#b8e186"
            ],
            [
             0.8,
             "#7fbc41"
            ],
            [
             0.9,
             "#4d9221"
            ],
            [
             1,
             "#276419"
            ]
           ],
           "sequential": [
            [
             0,
             "#0d0887"
            ],
            [
             0.1111111111111111,
             "#46039f"
            ],
            [
             0.2222222222222222,
             "#7201a8"
            ],
            [
             0.3333333333333333,
             "#9c179e"
            ],
            [
             0.4444444444444444,
             "#bd3786"
            ],
            [
             0.5555555555555556,
             "#d8576b"
            ],
            [
             0.6666666666666666,
             "#ed7953"
            ],
            [
             0.7777777777777778,
             "#fb9f3a"
            ],
            [
             0.8888888888888888,
             "#fdca26"
            ],
            [
             1,
             "#f0f921"
            ]
           ],
           "sequentialminus": [
            [
             0,
             "#0d0887"
            ],
            [
             0.1111111111111111,
             "#46039f"
            ],
            [
             0.2222222222222222,
             "#7201a8"
            ],
            [
             0.3333333333333333,
             "#9c179e"
            ],
            [
             0.4444444444444444,
             "#bd3786"
            ],
            [
             0.5555555555555556,
             "#d8576b"
            ],
            [
             0.6666666666666666,
             "#ed7953"
            ],
            [
             0.7777777777777778,
             "#fb9f3a"
            ],
            [
             0.8888888888888888,
             "#fdca26"
            ],
            [
             1,
             "#f0f921"
            ]
           ]
          },
          "colorway": [
           "#636efa",
           "#EF553B",
           "#00cc96",
           "#ab63fa",
           "#FFA15A",
           "#19d3f3",
           "#FF6692",
           "#B6E880",
           "#FF97FF",
           "#FECB52"
          ],
          "font": {
           "color": "#2a3f5f"
          },
          "geo": {
           "bgcolor": "white",
           "lakecolor": "white",
           "landcolor": "#E5ECF6",
           "showlakes": true,
           "showland": true,
           "subunitcolor": "white"
          },
          "hoverlabel": {
           "align": "left"
          },
          "hovermode": "closest",
          "mapbox": {
           "style": "light"
          },
          "paper_bgcolor": "white",
          "plot_bgcolor": "#E5ECF6",
          "polar": {
           "angularaxis": {
            "gridcolor": "white",
            "linecolor": "white",
            "ticks": ""
           },
           "bgcolor": "#E5ECF6",
           "radialaxis": {
            "gridcolor": "white",
            "linecolor": "white",
            "ticks": ""
           }
          },
          "scene": {
           "xaxis": {
            "backgroundcolor": "#E5ECF6",
            "gridcolor": "white",
            "gridwidth": 2,
            "linecolor": "white",
            "showbackground": true,
            "ticks": "",
            "zerolinecolor": "white"
           },
           "yaxis": {
            "backgroundcolor": "#E5ECF6",
            "gridcolor": "white",
            "gridwidth": 2,
            "linecolor": "white",
            "showbackground": true,
            "ticks": "",
            "zerolinecolor": "white"
           },
           "zaxis": {
            "backgroundcolor": "#E5ECF6",
            "gridcolor": "white",
            "gridwidth": 2,
            "linecolor": "white",
            "showbackground": true,
            "ticks": "",
            "zerolinecolor": "white"
           }
          },
          "shapedefaults": {
           "line": {
            "color": "#2a3f5f"
           }
          },
          "ternary": {
           "aaxis": {
            "gridcolor": "white",
            "linecolor": "white",
            "ticks": ""
           },
           "baxis": {
            "gridcolor": "white",
            "linecolor": "white",
            "ticks": ""
           },
           "bgcolor": "#E5ECF6",
           "caxis": {
            "gridcolor": "white",
            "linecolor": "white",
            "ticks": ""
           }
          },
          "title": {
           "x": 0.05
          },
          "xaxis": {
           "automargin": true,
           "gridcolor": "white",
           "linecolor": "white",
           "ticks": "",
           "title": {
            "standoff": 15
           },
           "zerolinecolor": "white",
           "zerolinewidth": 2
          },
          "yaxis": {
           "automargin": true,
           "gridcolor": "white",
           "linecolor": "white",
           "ticks": "",
           "title": {
            "standoff": 15
           },
           "zerolinecolor": "white",
           "zerolinewidth": 2
          }
         }
        },
        "title": {
         "text": "Pedersen Error Percentage ,Lat: -83.75, Lon: -175.0, 2015-03-15 00:05:00",
         "x": 0.5,
         "xanchor": "center",
         "y": 0.9,
         "yanchor": "top"
        },
        "width": 750,
        "xaxis": {
         "exponentformat": "power",
         "gridcolor": "grey",
         "gridwidth": 0.5,
         "linecolor": "black",
         "linewidth": 2,
         "mirror": true,
         "showexponent": "all",
         "showgrid": true,
         "showline": true,
         "title": {
          "text": "Percentage %"
         }
        },
        "yaxis": {
         "dtick": 20,
         "gridcolor": "grey",
         "gridwidth": 0.5,
         "linecolor": "black",
         "linewidth": 2,
         "mirror": true,
         "showgrid": true,
         "showline": true,
         "tick0": 60,
         "title": {
          "text": "Altitude (km)"
         }
        }
       }
      },
      "text/html": [
       "<div>\n",
       "        \n",
       "        \n",
       "            <div id=\"8753fa74-0f0b-457d-b34f-56df90c1cd44\" class=\"plotly-graph-div\" style=\"height:750px; width:750px;\"></div>\n",
       "            <script type=\"text/javascript\">\n",
       "                require([\"plotly\"], function(Plotly) {\n",
       "                    window.PLOTLYENV=window.PLOTLYENV || {};\n",
       "                    \n",
       "                if (document.getElementById(\"8753fa74-0f0b-457d-b34f-56df90c1cd44\")) {\n",
       "                    Plotly.newPlot(\n",
       "                        '8753fa74-0f0b-457d-b34f-56df90c1cd44',\n",
       "                        [{\"line\": {\"color\": \"red\"}, \"mode\": \"lines\", \"name\": \"Pedersen Error (%))\", \"type\": \"scatter\", \"x\": [8.146305889688987, 8.437631676403063, 8.769383175320032, 9.065891932011358, 9.286084064529835, 9.415908480467262, 9.450937594155521, 9.373897665576132, 9.136662541885531, 8.677248575339096, 8.00820340189904, 7.344830920868512, 7.057959168733329, 7.299848714367883, 7.842208580487629, 8.389789901477005, 8.791974770474047, 9.023712523545626, 9.111965882337362, 9.08600529826113, 8.957887470343563, 8.722203943487694, 8.394922014983248, 7.991608896913877, 7.613945208708708, 7.520278291734704, 7.799278490179084, 8.260041932792225, 8.680269666661252, 8.97417150185857, 9.158456254408016, 9.27424580500994, 9.353484791362957, 9.414653201184013, 9.466844215020263, 9.51389756107946, 9.557068744434238, 9.596529077951153, 9.632142303629978, 9.663838973150119, 9.691755711812773, 9.71624934971757, 9.737844770798123, 9.757150762196245, 9.774767188494222, 9.791201933287361, 9.80681200814381, 9.821769840310392, 9.836069847011583, 9.84955296468218, 9.861951896942616, 9.872931512130618, 9.882118211466175, 9.889112691338617, 9.893478833175832, 9.894689119214418], \"y\": [96.36432, 97.69113, 98.96521, 100.21858, 101.49149, 102.83465, 104.31025, 105.99205, 107.9605, 110.28514, 112.99677, 116.0809, 119.49435, 123.18561, 127.1144, 131.26863, 135.66771, 140.35171, 145.36669, 150.75399, 156.54488, 162.75891, 169.4047, 176.48172, 183.98288, 191.89784, 200.21538, 208.92486, 218.01702, 227.48388, 237.31828, 247.51354, 258.0632, 268.96082, 280.19986, 291.77326, 303.6734, 315.89174, 328.419, 341.2452, 354.35996, 367.75308, 381.41508, 395.33784, 409.5154, 423.9448, 438.62676, 453.56656, 468.7752, 484.27028, 500.07764, 516.23308, 532.7848, 549.7966, 567.35232, 585.562]}],\n",
       "                        {\"height\": 750, \"template\": {\"data\": {\"bar\": [{\"error_x\": {\"color\": \"#2a3f5f\"}, \"error_y\": {\"color\": \"#2a3f5f\"}, \"marker\": {\"line\": {\"color\": \"#E5ECF6\", \"width\": 0.5}}, \"type\": \"bar\"}], \"barpolar\": [{\"marker\": {\"line\": {\"color\": \"#E5ECF6\", \"width\": 0.5}}, \"type\": \"barpolar\"}], \"carpet\": [{\"aaxis\": {\"endlinecolor\": \"#2a3f5f\", \"gridcolor\": \"white\", \"linecolor\": \"white\", \"minorgridcolor\": \"white\", \"startlinecolor\": \"#2a3f5f\"}, \"baxis\": {\"endlinecolor\": \"#2a3f5f\", \"gridcolor\": \"white\", \"linecolor\": \"white\", \"minorgridcolor\": \"white\", \"startlinecolor\": \"#2a3f5f\"}, \"type\": \"carpet\"}], \"choropleth\": [{\"colorbar\": {\"outlinewidth\": 0, \"ticks\": \"\"}, \"type\": \"choropleth\"}], \"contour\": [{\"colorbar\": {\"outlinewidth\": 0, \"ticks\": \"\"}, \"colorscale\": [[0.0, \"#0d0887\"], [0.1111111111111111, \"#46039f\"], [0.2222222222222222, \"#7201a8\"], [0.3333333333333333, \"#9c179e\"], [0.4444444444444444, \"#bd3786\"], [0.5555555555555556, \"#d8576b\"], [0.6666666666666666, \"#ed7953\"], [0.7777777777777778, \"#fb9f3a\"], [0.8888888888888888, \"#fdca26\"], [1.0, \"#f0f921\"]], \"type\": \"contour\"}], \"contourcarpet\": [{\"colorbar\": {\"outlinewidth\": 0, \"ticks\": \"\"}, \"type\": \"contourcarpet\"}], \"heatmap\": [{\"colorbar\": {\"outlinewidth\": 0, \"ticks\": \"\"}, \"colorscale\": [[0.0, \"#0d0887\"], [0.1111111111111111, \"#46039f\"], [0.2222222222222222, \"#7201a8\"], [0.3333333333333333, \"#9c179e\"], [0.4444444444444444, \"#bd3786\"], [0.5555555555555556, \"#d8576b\"], [0.6666666666666666, \"#ed7953\"], [0.7777777777777778, \"#fb9f3a\"], [0.8888888888888888, \"#fdca26\"], [1.0, \"#f0f921\"]], \"type\": \"heatmap\"}], \"heatmapgl\": [{\"colorbar\": {\"outlinewidth\": 0, \"ticks\": \"\"}, \"colorscale\": [[0.0, \"#0d0887\"], [0.1111111111111111, \"#46039f\"], [0.2222222222222222, \"#7201a8\"], [0.3333333333333333, \"#9c179e\"], [0.4444444444444444, \"#bd3786\"], [0.5555555555555556, \"#d8576b\"], [0.6666666666666666, \"#ed7953\"], [0.7777777777777778, \"#fb9f3a\"], [0.8888888888888888, \"#fdca26\"], [1.0, \"#f0f921\"]], \"type\": \"heatmapgl\"}], \"histogram\": [{\"marker\": {\"colorbar\": {\"outlinewidth\": 0, \"ticks\": \"\"}}, \"type\": \"histogram\"}], \"histogram2d\": [{\"colorbar\": {\"outlinewidth\": 0, \"ticks\": \"\"}, \"colorscale\": [[0.0, \"#0d0887\"], [0.1111111111111111, \"#46039f\"], [0.2222222222222222, \"#7201a8\"], [0.3333333333333333, \"#9c179e\"], [0.4444444444444444, \"#bd3786\"], [0.5555555555555556, \"#d8576b\"], [0.6666666666666666, \"#ed7953\"], [0.7777777777777778, \"#fb9f3a\"], [0.8888888888888888, \"#fdca26\"], [1.0, \"#f0f921\"]], \"type\": \"histogram2d\"}], \"histogram2dcontour\": [{\"colorbar\": {\"outlinewidth\": 0, \"ticks\": \"\"}, \"colorscale\": [[0.0, \"#0d0887\"], [0.1111111111111111, \"#46039f\"], [0.2222222222222222, \"#7201a8\"], [0.3333333333333333, \"#9c179e\"], [0.4444444444444444, \"#bd3786\"], [0.5555555555555556, \"#d8576b\"], [0.6666666666666666, \"#ed7953\"], [0.7777777777777778, \"#fb9f3a\"], [0.8888888888888888, \"#fdca26\"], [1.0, \"#f0f921\"]], \"type\": \"histogram2dcontour\"}], \"mesh3d\": [{\"colorbar\": {\"outlinewidth\": 0, \"ticks\": \"\"}, \"type\": \"mesh3d\"}], \"parcoords\": [{\"line\": {\"colorbar\": {\"outlinewidth\": 0, \"ticks\": \"\"}}, \"type\": \"parcoords\"}], \"pie\": [{\"automargin\": true, \"type\": \"pie\"}], \"scatter\": [{\"marker\": {\"colorbar\": {\"outlinewidth\": 0, \"ticks\": \"\"}}, \"type\": \"scatter\"}], \"scatter3d\": [{\"line\": {\"colorbar\": {\"outlinewidth\": 0, \"ticks\": \"\"}}, \"marker\": {\"colorbar\": {\"outlinewidth\": 0, \"ticks\": \"\"}}, \"type\": \"scatter3d\"}], \"scattercarpet\": [{\"marker\": {\"colorbar\": {\"outlinewidth\": 0, \"ticks\": \"\"}}, \"type\": \"scattercarpet\"}], \"scattergeo\": [{\"marker\": {\"colorbar\": {\"outlinewidth\": 0, \"ticks\": \"\"}}, \"type\": \"scattergeo\"}], \"scattergl\": [{\"marker\": {\"colorbar\": {\"outlinewidth\": 0, \"ticks\": \"\"}}, \"type\": \"scattergl\"}], \"scattermapbox\": [{\"marker\": {\"colorbar\": {\"outlinewidth\": 0, \"ticks\": \"\"}}, \"type\": \"scattermapbox\"}], \"scatterpolar\": [{\"marker\": {\"colorbar\": {\"outlinewidth\": 0, \"ticks\": \"\"}}, \"type\": \"scatterpolar\"}], \"scatterpolargl\": [{\"marker\": {\"colorbar\": {\"outlinewidth\": 0, \"ticks\": \"\"}}, \"type\": \"scatterpolargl\"}], \"scatterternary\": [{\"marker\": {\"colorbar\": {\"outlinewidth\": 0, \"ticks\": \"\"}}, \"type\": \"scatterternary\"}], \"surface\": [{\"colorbar\": {\"outlinewidth\": 0, \"ticks\": \"\"}, \"colorscale\": [[0.0, \"#0d0887\"], [0.1111111111111111, \"#46039f\"], [0.2222222222222222, \"#7201a8\"], [0.3333333333333333, \"#9c179e\"], [0.4444444444444444, \"#bd3786\"], [0.5555555555555556, \"#d8576b\"], [0.6666666666666666, \"#ed7953\"], [0.7777777777777778, \"#fb9f3a\"], [0.8888888888888888, \"#fdca26\"], [1.0, \"#f0f921\"]], \"type\": \"surface\"}], \"table\": [{\"cells\": {\"fill\": {\"color\": \"#EBF0F8\"}, \"line\": {\"color\": \"white\"}}, \"header\": {\"fill\": {\"color\": \"#C8D4E3\"}, \"line\": {\"color\": \"white\"}}, \"type\": \"table\"}]}, \"layout\": {\"annotationdefaults\": {\"arrowcolor\": \"#2a3f5f\", \"arrowhead\": 0, \"arrowwidth\": 1}, \"coloraxis\": {\"colorbar\": {\"outlinewidth\": 0, \"ticks\": \"\"}}, \"colorscale\": {\"diverging\": [[0, \"#8e0152\"], [0.1, \"#c51b7d\"], [0.2, \"#de77ae\"], [0.3, \"#f1b6da\"], [0.4, \"#fde0ef\"], [0.5, \"#f7f7f7\"], [0.6, \"#e6f5d0\"], [0.7, \"#b8e186\"], [0.8, \"#7fbc41\"], [0.9, \"#4d9221\"], [1, \"#276419\"]], \"sequential\": [[0.0, \"#0d0887\"], [0.1111111111111111, \"#46039f\"], [0.2222222222222222, \"#7201a8\"], [0.3333333333333333, \"#9c179e\"], [0.4444444444444444, \"#bd3786\"], [0.5555555555555556, \"#d8576b\"], [0.6666666666666666, \"#ed7953\"], [0.7777777777777778, \"#fb9f3a\"], [0.8888888888888888, \"#fdca26\"], [1.0, \"#f0f921\"]], \"sequentialminus\": [[0.0, \"#0d0887\"], [0.1111111111111111, \"#46039f\"], [0.2222222222222222, \"#7201a8\"], [0.3333333333333333, \"#9c179e\"], [0.4444444444444444, \"#bd3786\"], [0.5555555555555556, \"#d8576b\"], [0.6666666666666666, \"#ed7953\"], [0.7777777777777778, \"#fb9f3a\"], [0.8888888888888888, \"#fdca26\"], [1.0, \"#f0f921\"]]}, \"colorway\": [\"#636efa\", \"#EF553B\", \"#00cc96\", \"#ab63fa\", \"#FFA15A\", \"#19d3f3\", \"#FF6692\", \"#B6E880\", \"#FF97FF\", \"#FECB52\"], \"font\": {\"color\": \"#2a3f5f\"}, \"geo\": {\"bgcolor\": \"white\", \"lakecolor\": \"white\", \"landcolor\": \"#E5ECF6\", \"showlakes\": true, \"showland\": true, \"subunitcolor\": \"white\"}, \"hoverlabel\": {\"align\": \"left\"}, \"hovermode\": \"closest\", \"mapbox\": {\"style\": \"light\"}, \"paper_bgcolor\": \"white\", \"plot_bgcolor\": \"#E5ECF6\", \"polar\": {\"angularaxis\": {\"gridcolor\": \"white\", \"linecolor\": \"white\", \"ticks\": \"\"}, \"bgcolor\": \"#E5ECF6\", \"radialaxis\": {\"gridcolor\": \"white\", \"linecolor\": \"white\", \"ticks\": \"\"}}, \"scene\": {\"xaxis\": {\"backgroundcolor\": \"#E5ECF6\", \"gridcolor\": \"white\", \"gridwidth\": 2, \"linecolor\": \"white\", \"showbackground\": true, \"ticks\": \"\", \"zerolinecolor\": \"white\"}, \"yaxis\": {\"backgroundcolor\": \"#E5ECF6\", \"gridcolor\": \"white\", \"gridwidth\": 2, \"linecolor\": \"white\", \"showbackground\": true, \"ticks\": \"\", \"zerolinecolor\": \"white\"}, \"zaxis\": {\"backgroundcolor\": \"#E5ECF6\", \"gridcolor\": \"white\", \"gridwidth\": 2, \"linecolor\": \"white\", \"showbackground\": true, \"ticks\": \"\", \"zerolinecolor\": \"white\"}}, \"shapedefaults\": {\"line\": {\"color\": \"#2a3f5f\"}}, \"ternary\": {\"aaxis\": {\"gridcolor\": \"white\", \"linecolor\": \"white\", \"ticks\": \"\"}, \"baxis\": {\"gridcolor\": \"white\", \"linecolor\": \"white\", \"ticks\": \"\"}, \"bgcolor\": \"#E5ECF6\", \"caxis\": {\"gridcolor\": \"white\", \"linecolor\": \"white\", \"ticks\": \"\"}}, \"title\": {\"x\": 0.05}, \"xaxis\": {\"automargin\": true, \"gridcolor\": \"white\", \"linecolor\": \"white\", \"ticks\": \"\", \"title\": {\"standoff\": 15}, \"zerolinecolor\": \"white\", \"zerolinewidth\": 2}, \"yaxis\": {\"automargin\": true, \"gridcolor\": \"white\", \"linecolor\": \"white\", \"ticks\": \"\", \"title\": {\"standoff\": 15}, \"zerolinecolor\": \"white\", \"zerolinewidth\": 2}}}, \"title\": {\"text\": \"Pedersen Error Percentage ,Lat: -83.75, Lon: -175.0, 2015-03-15 00:05:00\", \"x\": 0.5, \"xanchor\": \"center\", \"y\": 0.9, \"yanchor\": \"top\"}, \"width\": 750, \"xaxis\": {\"exponentformat\": \"power\", \"gridcolor\": \"grey\", \"gridwidth\": 0.5, \"linecolor\": \"black\", \"linewidth\": 2, \"mirror\": true, \"showexponent\": \"all\", \"showgrid\": true, \"showline\": true, \"title\": {\"text\": \"Percentage %\"}}, \"yaxis\": {\"dtick\": 20, \"gridcolor\": \"grey\", \"gridwidth\": 0.5, \"linecolor\": \"black\", \"linewidth\": 2, \"mirror\": true, \"showgrid\": true, \"showline\": true, \"tick0\": 60, \"title\": {\"text\": \"Altitude (km)\"}}},\n",
       "                        {\"responsive\": true}\n",
       "                    ).then(function(){\n",
       "                            \n",
       "var gd = document.getElementById('8753fa74-0f0b-457d-b34f-56df90c1cd44');\n",
       "var x = new MutationObserver(function (mutations, observer) {{\n",
       "        var display = window.getComputedStyle(gd).display;\n",
       "        if (!display || display === 'none') {{\n",
       "            console.log([gd, 'removed!']);\n",
       "            Plotly.purge(gd);\n",
       "            observer.disconnect();\n",
       "        }}\n",
       "}});\n",
       "\n",
       "// Listen for the removal of the full notebook cells\n",
       "var notebookContainer = gd.closest('#notebook-container');\n",
       "if (notebookContainer) {{\n",
       "    x.observe(notebookContainer, {childList: true});\n",
       "}}\n",
       "\n",
       "// Listen for the clearing of the current output cell\n",
       "var outputEl = gd.closest('.output');\n",
       "if (outputEl) {{\n",
       "    x.observe(outputEl, {childList: true});\n",
       "}}\n",
       "\n",
       "                        })\n",
       "                };\n",
       "                });\n",
       "            </script>\n",
       "        </div>"
      ]
     },
     "metadata": {},
     "output_type": "display_data"
    },
    {
     "data": {
      "application/vnd.plotly.v1+json": {
       "config": {
        "plotlyServerURL": "https://plot.ly"
       },
       "data": [
        {
         "line": {
          "color": "red"
         },
         "mode": "lines",
         "name": "Pedersen",
         "type": "scatter",
         "x": [
          5.451261219032726e-07,
          9.776301692909383e-07,
          1.7334016415233363e-06,
          2.964692769092841e-06,
          5.100086415682325e-06,
          8.83366100802052e-06,
          1.5342040853969594e-05,
          2.6364677024158402e-05,
          4.367472993619077e-05,
          6.727808509992074e-05,
          9.339848123835e-05,
          0.00011476835937843341,
          0.00012447837813765527,
          0.00012051188335607851,
          0.00010612185567652452,
          8.673684619290014e-05,
          6.715965838979379e-05,
          5.0300627886487056e-05,
          3.718888510614842e-05,
          2.7643938520474514e-05,
          2.0975266088582447e-05,
          1.6414867265001553e-05,
          1.3661533456760114e-05,
          1.1768477970043176e-05,
          1.0261261295655393e-05,
          9.303856634889812e-06,
          8.672118409421414e-06,
          8.147204422677979e-06,
          7.558722543441675e-06,
          6.821066508347635e-06,
          5.944554690252999e-06,
          5.001495451917567e-06,
          4.077574853800289e-06,
          3.23848222842071e-06,
          2.5193444141356287e-06,
          1.9290484248933097e-06,
          1.459600432651866e-06,
          1.0947270022161331e-06,
          8.157771884019263e-07,
          6.050270634244947e-07,
          4.471495114359715e-07,
          3.2960111523915145e-07,
          2.424670870291568e-07,
          1.7808627990235161e-07,
          1.3062963529652233e-07,
          9.570881102270042e-08,
          7.004511518202231e-08,
          5.1202204602290476e-08,
          3.737687390350989e-08,
          2.723847769180575e-08,
          1.9807266412251222e-08,
          1.4363034367895485e-08,
          1.0376986742732365e-08,
          7.461172303391292e-09,
          5.331091467104859e-09,
          3.77810816306716e-09
         ],
         "y": [
          96.36432,
          97.69113,
          98.96521,
          100.21858,
          101.49149,
          102.83465,
          104.31025,
          105.99205,
          107.9605,
          110.28514,
          112.99677,
          116.0809,
          119.49435,
          123.18561,
          127.1144,
          131.26863,
          135.66771,
          140.35171,
          145.36669,
          150.75399,
          156.54488,
          162.75891,
          169.4047,
          176.48172,
          183.98288,
          191.89784,
          200.21538,
          208.92486,
          218.01702,
          227.48388,
          237.31828,
          247.51354,
          258.0632,
          268.96082,
          280.19986,
          291.77326,
          303.6734,
          315.89174,
          328.419,
          341.2452,
          354.35996,
          367.75308,
          381.41508,
          395.33784,
          409.5154,
          423.9448,
          438.62676,
          453.56656,
          468.7752,
          484.27028,
          500.07764,
          516.23308,
          532.7848,
          549.7966,
          567.35232,
          585.562
         ]
        },
        {
         "line": {
          "color": "purple",
          "dash": "dot"
         },
         "mode": "lines",
         "name": "Pedersen max With Error",
         "type": "scatter",
         "x": [
          5.89533763278112e-07,
          1.0601190021331033e-06,
          1.8854102734358049e-06,
          3.2334686116549528e-06,
          5.573684727606252e-06,
          9.665430444010454e-06,
          1.6792007560748107e-05,
          2.883607486826267e-05,
          4.766514262654038e-05,
          7.311597178076903e-05,
          0.00010087802159020157,
          0.0001231979013254341,
          0.00013326401124051244,
          0.00012930906852390772,
          0.00011444415294816163,
          9.401388535565172e-05,
          7.306431861136101e-05,
          5.483961194450207e-05,
          4.05775236290423e-05,
          3.0155668239092877e-05,
          2.2854206821402796e-05,
          1.784660546490779e-05,
          1.4808408536505972e-05,
          1.2708968702528497e-05,
          1.1042548108429027e-05,
          1.000353254569755e-05,
          9.34848107517028e-06,
          8.820166924341483e-06,
          8.214840043567129e-06,
          7.433200715062588e-06,
          6.48898413107918e-06,
          5.465346434054795e-06,
          4.45897019760694e-06,
          3.543374099208496e-06,
          2.7578468250616636e-06,
          2.112576115941276e-06,
          1.5990954493944645e-06,
          1.1997827973079874e-06,
          8.943540080693514e-07,
          6.634959045778167e-07,
          4.904861497509102e-07,
          3.6162598145523735e-07,
          2.6607815558433207e-07,
          1.9546242671921085e-07,
          1.4339837802593646e-07,
          1.0507985397788141e-07,
          7.691430794881103e-08,
          5.623116729149226e-08,
          4.105328932728857e-08,
          2.99213459788333e-08,
          2.176064949792671e-08,
          1.5781086914101587e-08,
          1.1402452839437352e-08,
          8.199016040568601e-09,
          5.858521872980122e-09,
          4.151940220390318e-09
         ],
         "y": [
          96.36432,
          97.69113,
          98.96521,
          100.21858,
          101.49149,
          102.83465,
          104.31025,
          105.99205,
          107.9605,
          110.28514,
          112.99677,
          116.0809,
          119.49435,
          123.18561,
          127.1144,
          131.26863,
          135.66771,
          140.35171,
          145.36669,
          150.75399,
          156.54488,
          162.75891,
          169.4047,
          176.48172,
          183.98288,
          191.89784,
          200.21538,
          208.92486,
          218.01702,
          227.48388,
          237.31828,
          247.51354,
          258.0632,
          268.96082,
          280.19986,
          291.77326,
          303.6734,
          315.89174,
          328.419,
          341.2452,
          354.35996,
          367.75308,
          381.41508,
          395.33784,
          409.5154,
          423.9448,
          438.62676,
          453.56656,
          468.7752,
          484.27028,
          500.07764,
          516.23308,
          532.7848,
          549.7966,
          567.35232,
          585.562
         ]
        },
        {
         "line": {
          "color": "green",
          "dash": "dot"
         },
         "mode": "lines",
         "name": "Pedersen min With Error",
         "type": "scatter",
         "x": [
          5.007184805284332e-07,
          8.951413364487731e-07,
          1.5813930096108676e-06,
          2.695916926530729e-06,
          4.626488103758398e-06,
          8.001891572030585e-06,
          1.3892074147191083e-05,
          2.3893279180054132e-05,
          3.9684317245841164e-05,
          6.144019841907244e-05,
          8.591894088649842e-05,
          0.00010633881743143273,
          0.00011569274503479809,
          0.00011171469818824929,
          9.779955840488741e-05,
          7.945980703014856e-05,
          6.125499816822656e-05,
          4.576164382847204e-05,
          3.3800246583254536e-05,
          2.5132208801856152e-05,
          1.90963253557621e-05,
          1.4983129065095317e-05,
          1.2514658377014257e-05,
          1.0827987237557856e-05,
          9.479974482881758e-06,
          8.604180724082075e-06,
          7.995755743672548e-06,
          7.474241921014475e-06,
          6.902605043316221e-06,
          6.208932301632682e-06,
          5.400125249426818e-06,
          4.537644469780339e-06,
          3.696179509993639e-06,
          2.9335903576329244e-06,
          2.280842003209594e-06,
          1.7455207338453433e-06,
          1.3201054159092676e-06,
          9.896712071242789e-07,
          7.372003687345011e-07,
          5.465582222711728e-07,
          4.0381287312103286e-07,
          2.9757624902306555e-07,
          2.188560184739815e-07,
          1.6071013308549238e-07,
          1.178608925671082e-07,
          8.633776806751943e-08,
          6.317592241523358e-08,
          4.617324191308869e-08,
          3.370045847973121e-08,
          2.4555609404778202e-08,
          1.7853883326575735e-08,
          1.294498182168938e-08,
          9.35152064602738e-09,
          6.723328566213981e-09,
          4.803661061229597e-09,
          3.4042761057440015e-09
         ],
         "y": [
          96.36432,
          97.69113,
          98.96521,
          100.21858,
          101.49149,
          102.83465,
          104.31025,
          105.99205,
          107.9605,
          110.28514,
          112.99677,
          116.0809,
          119.49435,
          123.18561,
          127.1144,
          131.26863,
          135.66771,
          140.35171,
          145.36669,
          150.75399,
          156.54488,
          162.75891,
          169.4047,
          176.48172,
          183.98288,
          191.89784,
          200.21538,
          208.92486,
          218.01702,
          227.48388,
          237.31828,
          247.51354,
          258.0632,
          268.96082,
          280.19986,
          291.77326,
          303.6734,
          315.89174,
          328.419,
          341.2452,
          354.35996,
          367.75308,
          381.41508,
          395.33784,
          409.5154,
          423.9448,
          438.62676,
          453.56656,
          468.7752,
          484.27028,
          500.07764,
          516.23308,
          532.7848,
          549.7966,
          567.35232,
          585.562
         ]
        },
        {
         "marker": {
          "color": "blue"
         },
         "mode": "lines",
         "name": "Hall",
         "type": "scatter",
         "x": [
          1.89297824389326e-05,
          3.1053795445924626e-05,
          4.769240702551937e-05,
          6.680730355839512e-05,
          8.898715082216843e-05,
          0.00011320948873572487,
          0.0001380930168131294,
          0.00016148970142891033,
          0.00017980778467320739,
          0.0001879203163022175,
          0.0001810358594317331,
          0.00015829580023422947,
          0.00012483257690680508,
          8.916704139907126e-05,
          5.826432759720028e-05,
          3.5272932436803066e-05,
          2.0120579499353584e-05,
          1.1044294513975095e-05,
          5.967659056570655e-06,
          3.243524921822949e-06,
          1.806550781303769e-06,
          1.0458275001965883e-06,
          6.513234453877247e-07,
          4.269699296985612e-07,
          2.8993288783158147e-07,
          2.0916091842412284e-07,
          1.5714108558323068e-07,
          1.1925352307956832e-07,
          8.900485198178425e-08,
          6.42560048655845e-08,
          4.4618105097485015e-08,
          2.984392852288447e-08,
          1.9324033773414828e-08,
          1.2184529387717349e-08,
          7.523508958011284e-09,
          4.570836103341935e-09,
          2.7427078698294864e-09,
          1.6301772186532042e-09,
          9.618522244907984e-10,
          5.642904884273587e-10,
          3.2956353630344456e-10,
          1.9178070604911544e-10,
          1.112724631149369e-10,
          6.440130994160302e-11,
          3.719326603829111e-11,
          2.1437196186223862e-11,
          1.2331312764994924e-11,
          7.078126404164312e-12,
          4.052680278787453e-12,
          2.3133065535904093e-12,
          1.3153157875661111e-12,
          7.441076221354393e-13,
          4.1820099613140683e-13,
          2.3302460964992793e-13,
          1.283927165373132e-13,
          6.971578293041449e-14
         ],
         "y": [
          96.36432,
          97.69113,
          98.96521,
          100.21858,
          101.49149,
          102.83465,
          104.31025,
          105.99205,
          107.9605,
          110.28514,
          112.99677,
          116.0809,
          119.49435,
          123.18561,
          127.1144,
          131.26863,
          135.66771,
          140.35171,
          145.36669,
          150.75399,
          156.54488,
          162.75891,
          169.4047,
          176.48172,
          183.98288,
          191.89784,
          200.21538,
          208.92486,
          218.01702,
          227.48388,
          237.31828,
          247.51354,
          258.0632,
          268.96082,
          280.19986,
          291.77326,
          303.6734,
          315.89174,
          328.419,
          341.2452,
          354.35996,
          367.75308,
          381.41508,
          395.33784,
          409.5154,
          423.9448,
          438.62676,
          453.56656,
          468.7752,
          484.27028,
          500.07764,
          516.23308,
          532.7848,
          549.7966,
          567.35232,
          585.562
         ]
        },
        {
         "line": {
          "color": "black"
         },
         "mode": "lines",
         "name": "Parallel",
         "type": "scatter",
         "x": [
          0.0021198924059909747,
          0.004452153239219026,
          0.00877470542474327,
          0.015828202483362076,
          0.02726941599321133,
          0.04511473048829586,
          0.0720639711250359,
          0.1115177445955024,
          0.16728099092542412,
          0.24297194373883987,
          0.3417644109615152,
          0.46693105169392496,
          0.6222780738915517,
          0.8122068173572494,
          1.0424511420047466,
          1.3217240071970355,
          1.6636453769096045,
          2.0888428215497106,
          2.626798554908206,
          3.3189801524207554,
          4.2319046524437365,
          5.486902434202785,
          7.486830377537843,
          10.462754236544546,
          14.618460346010584,
          21.056314792001118,
          31.083552656526788,
          46.48104919349141,
          69.43069463243975,
          101.99470537464722,
          145.9318064034383,
          202.68493932178302,
          273.6470204490117,
          360.51917812814656,
          465.6058441832832,
          591.9990927081124,
          743.6707578154153,
          925.5095458966726,
          1143.340970083265,
          1403.960011621721,
          1715.201846512334,
          2086.0713877250773,
          2526.9439429612376,
          3049.865461826953,
          3668.9582398839925,
          4400.9702389951335,
          5265.976873147184,
          6288.273167785339,
          7497.467711456556,
          8929.844974305184,
          10630.050561924385,
          12653.24906121408,
          15067.936955707644,
          17959.743827560276,
          21436.64191272005,
          25634.65995754778
         ],
         "y": [
          96.36432,
          97.69113,
          98.96521,
          100.21858,
          101.49149,
          102.83465,
          104.31025,
          105.99205,
          107.9605,
          110.28514,
          112.99677,
          116.0809,
          119.49435,
          123.18561,
          127.1144,
          131.26863,
          135.66771,
          140.35171,
          145.36669,
          150.75399,
          156.54488,
          162.75891,
          169.4047,
          176.48172,
          183.98288,
          191.89784,
          200.21538,
          208.92486,
          218.01702,
          227.48388,
          237.31828,
          247.51354,
          258.0632,
          268.96082,
          280.19986,
          291.77326,
          303.6734,
          315.89174,
          328.419,
          341.2452,
          354.35996,
          367.75308,
          381.41508,
          395.33784,
          409.5154,
          423.9448,
          438.62676,
          453.56656,
          468.7752,
          484.27028,
          500.07764,
          516.23308,
          532.7848,
          549.7966,
          567.35232,
          585.562
         ]
        }
       ],
       "layout": {
        "height": 750,
        "template": {
         "data": {
          "bar": [
           {
            "error_x": {
             "color": "#2a3f5f"
            },
            "error_y": {
             "color": "#2a3f5f"
            },
            "marker": {
             "line": {
              "color": "#E5ECF6",
              "width": 0.5
             }
            },
            "type": "bar"
           }
          ],
          "barpolar": [
           {
            "marker": {
             "line": {
              "color": "#E5ECF6",
              "width": 0.5
             }
            },
            "type": "barpolar"
           }
          ],
          "carpet": [
           {
            "aaxis": {
             "endlinecolor": "#2a3f5f",
             "gridcolor": "white",
             "linecolor": "white",
             "minorgridcolor": "white",
             "startlinecolor": "#2a3f5f"
            },
            "baxis": {
             "endlinecolor": "#2a3f5f",
             "gridcolor": "white",
             "linecolor": "white",
             "minorgridcolor": "white",
             "startlinecolor": "#2a3f5f"
            },
            "type": "carpet"
           }
          ],
          "choropleth": [
           {
            "colorbar": {
             "outlinewidth": 0,
             "ticks": ""
            },
            "type": "choropleth"
           }
          ],
          "contour": [
           {
            "colorbar": {
             "outlinewidth": 0,
             "ticks": ""
            },
            "colorscale": [
             [
              0,
              "#0d0887"
             ],
             [
              0.1111111111111111,
              "#46039f"
             ],
             [
              0.2222222222222222,
              "#7201a8"
             ],
             [
              0.3333333333333333,
              "#9c179e"
             ],
             [
              0.4444444444444444,
              "#bd3786"
             ],
             [
              0.5555555555555556,
              "#d8576b"
             ],
             [
              0.6666666666666666,
              "#ed7953"
             ],
             [
              0.7777777777777778,
              "#fb9f3a"
             ],
             [
              0.8888888888888888,
              "#fdca26"
             ],
             [
              1,
              "#f0f921"
             ]
            ],
            "type": "contour"
           }
          ],
          "contourcarpet": [
           {
            "colorbar": {
             "outlinewidth": 0,
             "ticks": ""
            },
            "type": "contourcarpet"
           }
          ],
          "heatmap": [
           {
            "colorbar": {
             "outlinewidth": 0,
             "ticks": ""
            },
            "colorscale": [
             [
              0,
              "#0d0887"
             ],
             [
              0.1111111111111111,
              "#46039f"
             ],
             [
              0.2222222222222222,
              "#7201a8"
             ],
             [
              0.3333333333333333,
              "#9c179e"
             ],
             [
              0.4444444444444444,
              "#bd3786"
             ],
             [
              0.5555555555555556,
              "#d8576b"
             ],
             [
              0.6666666666666666,
              "#ed7953"
             ],
             [
              0.7777777777777778,
              "#fb9f3a"
             ],
             [
              0.8888888888888888,
              "#fdca26"
             ],
             [
              1,
              "#f0f921"
             ]
            ],
            "type": "heatmap"
           }
          ],
          "heatmapgl": [
           {
            "colorbar": {
             "outlinewidth": 0,
             "ticks": ""
            },
            "colorscale": [
             [
              0,
              "#0d0887"
             ],
             [
              0.1111111111111111,
              "#46039f"
             ],
             [
              0.2222222222222222,
              "#7201a8"
             ],
             [
              0.3333333333333333,
              "#9c179e"
             ],
             [
              0.4444444444444444,
              "#bd3786"
             ],
             [
              0.5555555555555556,
              "#d8576b"
             ],
             [
              0.6666666666666666,
              "#ed7953"
             ],
             [
              0.7777777777777778,
              "#fb9f3a"
             ],
             [
              0.8888888888888888,
              "#fdca26"
             ],
             [
              1,
              "#f0f921"
             ]
            ],
            "type": "heatmapgl"
           }
          ],
          "histogram": [
           {
            "marker": {
             "colorbar": {
              "outlinewidth": 0,
              "ticks": ""
             }
            },
            "type": "histogram"
           }
          ],
          "histogram2d": [
           {
            "colorbar": {
             "outlinewidth": 0,
             "ticks": ""
            },
            "colorscale": [
             [
              0,
              "#0d0887"
             ],
             [
              0.1111111111111111,
              "#46039f"
             ],
             [
              0.2222222222222222,
              "#7201a8"
             ],
             [
              0.3333333333333333,
              "#9c179e"
             ],
             [
              0.4444444444444444,
              "#bd3786"
             ],
             [
              0.5555555555555556,
              "#d8576b"
             ],
             [
              0.6666666666666666,
              "#ed7953"
             ],
             [
              0.7777777777777778,
              "#fb9f3a"
             ],
             [
              0.8888888888888888,
              "#fdca26"
             ],
             [
              1,
              "#f0f921"
             ]
            ],
            "type": "histogram2d"
           }
          ],
          "histogram2dcontour": [
           {
            "colorbar": {
             "outlinewidth": 0,
             "ticks": ""
            },
            "colorscale": [
             [
              0,
              "#0d0887"
             ],
             [
              0.1111111111111111,
              "#46039f"
             ],
             [
              0.2222222222222222,
              "#7201a8"
             ],
             [
              0.3333333333333333,
              "#9c179e"
             ],
             [
              0.4444444444444444,
              "#bd3786"
             ],
             [
              0.5555555555555556,
              "#d8576b"
             ],
             [
              0.6666666666666666,
              "#ed7953"
             ],
             [
              0.7777777777777778,
              "#fb9f3a"
             ],
             [
              0.8888888888888888,
              "#fdca26"
             ],
             [
              1,
              "#f0f921"
             ]
            ],
            "type": "histogram2dcontour"
           }
          ],
          "mesh3d": [
           {
            "colorbar": {
             "outlinewidth": 0,
             "ticks": ""
            },
            "type": "mesh3d"
           }
          ],
          "parcoords": [
           {
            "line": {
             "colorbar": {
              "outlinewidth": 0,
              "ticks": ""
             }
            },
            "type": "parcoords"
           }
          ],
          "pie": [
           {
            "automargin": true,
            "type": "pie"
           }
          ],
          "scatter": [
           {
            "marker": {
             "colorbar": {
              "outlinewidth": 0,
              "ticks": ""
             }
            },
            "type": "scatter"
           }
          ],
          "scatter3d": [
           {
            "line": {
             "colorbar": {
              "outlinewidth": 0,
              "ticks": ""
             }
            },
            "marker": {
             "colorbar": {
              "outlinewidth": 0,
              "ticks": ""
             }
            },
            "type": "scatter3d"
           }
          ],
          "scattercarpet": [
           {
            "marker": {
             "colorbar": {
              "outlinewidth": 0,
              "ticks": ""
             }
            },
            "type": "scattercarpet"
           }
          ],
          "scattergeo": [
           {
            "marker": {
             "colorbar": {
              "outlinewidth": 0,
              "ticks": ""
             }
            },
            "type": "scattergeo"
           }
          ],
          "scattergl": [
           {
            "marker": {
             "colorbar": {
              "outlinewidth": 0,
              "ticks": ""
             }
            },
            "type": "scattergl"
           }
          ],
          "scattermapbox": [
           {
            "marker": {
             "colorbar": {
              "outlinewidth": 0,
              "ticks": ""
             }
            },
            "type": "scattermapbox"
           }
          ],
          "scatterpolar": [
           {
            "marker": {
             "colorbar": {
              "outlinewidth": 0,
              "ticks": ""
             }
            },
            "type": "scatterpolar"
           }
          ],
          "scatterpolargl": [
           {
            "marker": {
             "colorbar": {
              "outlinewidth": 0,
              "ticks": ""
             }
            },
            "type": "scatterpolargl"
           }
          ],
          "scatterternary": [
           {
            "marker": {
             "colorbar": {
              "outlinewidth": 0,
              "ticks": ""
             }
            },
            "type": "scatterternary"
           }
          ],
          "surface": [
           {
            "colorbar": {
             "outlinewidth": 0,
             "ticks": ""
            },
            "colorscale": [
             [
              0,
              "#0d0887"
             ],
             [
              0.1111111111111111,
              "#46039f"
             ],
             [
              0.2222222222222222,
              "#7201a8"
             ],
             [
              0.3333333333333333,
              "#9c179e"
             ],
             [
              0.4444444444444444,
              "#bd3786"
             ],
             [
              0.5555555555555556,
              "#d8576b"
             ],
             [
              0.6666666666666666,
              "#ed7953"
             ],
             [
              0.7777777777777778,
              "#fb9f3a"
             ],
             [
              0.8888888888888888,
              "#fdca26"
             ],
             [
              1,
              "#f0f921"
             ]
            ],
            "type": "surface"
           }
          ],
          "table": [
           {
            "cells": {
             "fill": {
              "color": "#EBF0F8"
             },
             "line": {
              "color": "white"
             }
            },
            "header": {
             "fill": {
              "color": "#C8D4E3"
             },
             "line": {
              "color": "white"
             }
            },
            "type": "table"
           }
          ]
         },
         "layout": {
          "annotationdefaults": {
           "arrowcolor": "#2a3f5f",
           "arrowhead": 0,
           "arrowwidth": 1
          },
          "coloraxis": {
           "colorbar": {
            "outlinewidth": 0,
            "ticks": ""
           }
          },
          "colorscale": {
           "diverging": [
            [
             0,
             "#8e0152"
            ],
            [
             0.1,
             "#c51b7d"
            ],
            [
             0.2,
             "#de77ae"
            ],
            [
             0.3,
             "#f1b6da"
            ],
            [
             0.4,
             "#fde0ef"
            ],
            [
             0.5,
             "#f7f7f7"
            ],
            [
             0.6,
             "#e6f5d0"
            ],
            [
             0.7,
             "#b8e186"
            ],
            [
             0.8,
             "#7fbc41"
            ],
            [
             0.9,
             "#4d9221"
            ],
            [
             1,
             "#276419"
            ]
           ],
           "sequential": [
            [
             0,
             "#0d0887"
            ],
            [
             0.1111111111111111,
             "#46039f"
            ],
            [
             0.2222222222222222,
             "#7201a8"
            ],
            [
             0.3333333333333333,
             "#9c179e"
            ],
            [
             0.4444444444444444,
             "#bd3786"
            ],
            [
             0.5555555555555556,
             "#d8576b"
            ],
            [
             0.6666666666666666,
             "#ed7953"
            ],
            [
             0.7777777777777778,
             "#fb9f3a"
            ],
            [
             0.8888888888888888,
             "#fdca26"
            ],
            [
             1,
             "#f0f921"
            ]
           ],
           "sequentialminus": [
            [
             0,
             "#0d0887"
            ],
            [
             0.1111111111111111,
             "#46039f"
            ],
            [
             0.2222222222222222,
             "#7201a8"
            ],
            [
             0.3333333333333333,
             "#9c179e"
            ],
            [
             0.4444444444444444,
             "#bd3786"
            ],
            [
             0.5555555555555556,
             "#d8576b"
            ],
            [
             0.6666666666666666,
             "#ed7953"
            ],
            [
             0.7777777777777778,
             "#fb9f3a"
            ],
            [
             0.8888888888888888,
             "#fdca26"
            ],
            [
             1,
             "#f0f921"
            ]
           ]
          },
          "colorway": [
           "#636efa",
           "#EF553B",
           "#00cc96",
           "#ab63fa",
           "#FFA15A",
           "#19d3f3",
           "#FF6692",
           "#B6E880",
           "#FF97FF",
           "#FECB52"
          ],
          "font": {
           "color": "#2a3f5f"
          },
          "geo": {
           "bgcolor": "white",
           "lakecolor": "white",
           "landcolor": "#E5ECF6",
           "showlakes": true,
           "showland": true,
           "subunitcolor": "white"
          },
          "hoverlabel": {
           "align": "left"
          },
          "hovermode": "closest",
          "mapbox": {
           "style": "light"
          },
          "paper_bgcolor": "white",
          "plot_bgcolor": "#E5ECF6",
          "polar": {
           "angularaxis": {
            "gridcolor": "white",
            "linecolor": "white",
            "ticks": ""
           },
           "bgcolor": "#E5ECF6",
           "radialaxis": {
            "gridcolor": "white",
            "linecolor": "white",
            "ticks": ""
           }
          },
          "scene": {
           "xaxis": {
            "backgroundcolor": "#E5ECF6",
            "gridcolor": "white",
            "gridwidth": 2,
            "linecolor": "white",
            "showbackground": true,
            "ticks": "",
            "zerolinecolor": "white"
           },
           "yaxis": {
            "backgroundcolor": "#E5ECF6",
            "gridcolor": "white",
            "gridwidth": 2,
            "linecolor": "white",
            "showbackground": true,
            "ticks": "",
            "zerolinecolor": "white"
           },
           "zaxis": {
            "backgroundcolor": "#E5ECF6",
            "gridcolor": "white",
            "gridwidth": 2,
            "linecolor": "white",
            "showbackground": true,
            "ticks": "",
            "zerolinecolor": "white"
           }
          },
          "shapedefaults": {
           "line": {
            "color": "#2a3f5f"
           }
          },
          "ternary": {
           "aaxis": {
            "gridcolor": "white",
            "linecolor": "white",
            "ticks": ""
           },
           "baxis": {
            "gridcolor": "white",
            "linecolor": "white",
            "ticks": ""
           },
           "bgcolor": "#E5ECF6",
           "caxis": {
            "gridcolor": "white",
            "linecolor": "white",
            "ticks": ""
           }
          },
          "title": {
           "x": 0.05
          },
          "xaxis": {
           "automargin": true,
           "gridcolor": "white",
           "linecolor": "white",
           "ticks": "",
           "title": {
            "standoff": 15
           },
           "zerolinecolor": "white",
           "zerolinewidth": 2
          },
          "yaxis": {
           "automargin": true,
           "gridcolor": "white",
           "linecolor": "white",
           "ticks": "",
           "title": {
            "standoff": 15
           },
           "zerolinecolor": "white",
           "zerolinewidth": 2
          }
         }
        },
        "title": {
         "text": "Conductivities ,Lat: -83.75, Lon: -175.0, 2015-03-15 00:05:00",
         "x": 0.5,
         "xanchor": "center",
         "y": 0.9,
         "yanchor": "top"
        },
        "width": 850,
        "xaxis": {
         "exponentformat": "power",
         "gridcolor": "grey",
         "gridwidth": 0.5,
         "linecolor": "black",
         "linewidth": 2,
         "mirror": true,
         "showexponent": "all",
         "showgrid": true,
         "showline": true,
         "title": {
          "text": "Conductivity S/m"
         },
         "type": "log"
        },
        "yaxis": {
         "dtick": 20,
         "gridcolor": "grey",
         "gridwidth": 0.5,
         "linecolor": "black",
         "linewidth": 2,
         "mirror": true,
         "showgrid": true,
         "showline": true,
         "tick0": 60,
         "title": {
          "text": "Altitude (km)"
         }
        }
       }
      },
      "text/html": [
       "<div>\n",
       "        \n",
       "        \n",
       "            <div id=\"0165c69c-6f15-4d17-900b-0c56e9c5df3f\" class=\"plotly-graph-div\" style=\"height:750px; width:850px;\"></div>\n",
       "            <script type=\"text/javascript\">\n",
       "                require([\"plotly\"], function(Plotly) {\n",
       "                    window.PLOTLYENV=window.PLOTLYENV || {};\n",
       "                    \n",
       "                if (document.getElementById(\"0165c69c-6f15-4d17-900b-0c56e9c5df3f\")) {\n",
       "                    Plotly.newPlot(\n",
       "                        '0165c69c-6f15-4d17-900b-0c56e9c5df3f',\n",
       "                        [{\"line\": {\"color\": \"red\"}, \"mode\": \"lines\", \"name\": \"Pedersen\", \"type\": \"scatter\", \"x\": [5.451261219032726e-07, 9.776301692909383e-07, 1.7334016415233363e-06, 2.964692769092841e-06, 5.100086415682325e-06, 8.83366100802052e-06, 1.5342040853969594e-05, 2.6364677024158402e-05, 4.367472993619077e-05, 6.727808509992074e-05, 9.339848123835e-05, 0.00011476835937843341, 0.00012447837813765527, 0.00012051188335607851, 0.00010612185567652452, 8.673684619290014e-05, 6.715965838979379e-05, 5.0300627886487056e-05, 3.718888510614842e-05, 2.7643938520474514e-05, 2.0975266088582447e-05, 1.6414867265001553e-05, 1.3661533456760114e-05, 1.1768477970043176e-05, 1.0261261295655393e-05, 9.303856634889812e-06, 8.672118409421414e-06, 8.147204422677979e-06, 7.558722543441675e-06, 6.821066508347635e-06, 5.944554690252999e-06, 5.001495451917567e-06, 4.077574853800289e-06, 3.23848222842071e-06, 2.5193444141356287e-06, 1.9290484248933097e-06, 1.459600432651866e-06, 1.0947270022161331e-06, 8.157771884019263e-07, 6.050270634244947e-07, 4.471495114359715e-07, 3.2960111523915145e-07, 2.424670870291568e-07, 1.7808627990235161e-07, 1.3062963529652233e-07, 9.570881102270042e-08, 7.004511518202231e-08, 5.1202204602290476e-08, 3.737687390350989e-08, 2.723847769180575e-08, 1.9807266412251222e-08, 1.4363034367895485e-08, 1.0376986742732365e-08, 7.461172303391292e-09, 5.331091467104859e-09, 3.77810816306716e-09], \"y\": [96.36432, 97.69113, 98.96521, 100.21858, 101.49149, 102.83465, 104.31025, 105.99205, 107.9605, 110.28514, 112.99677, 116.0809, 119.49435, 123.18561, 127.1144, 131.26863, 135.66771, 140.35171, 145.36669, 150.75399, 156.54488, 162.75891, 169.4047, 176.48172, 183.98288, 191.89784, 200.21538, 208.92486, 218.01702, 227.48388, 237.31828, 247.51354, 258.0632, 268.96082, 280.19986, 291.77326, 303.6734, 315.89174, 328.419, 341.2452, 354.35996, 367.75308, 381.41508, 395.33784, 409.5154, 423.9448, 438.62676, 453.56656, 468.7752, 484.27028, 500.07764, 516.23308, 532.7848, 549.7966, 567.35232, 585.562]}, {\"line\": {\"color\": \"purple\", \"dash\": \"dot\"}, \"mode\": \"lines\", \"name\": \"Pedersen max With Error\", \"type\": \"scatter\", \"x\": [5.89533763278112e-07, 1.0601190021331033e-06, 1.8854102734358049e-06, 3.2334686116549528e-06, 5.573684727606252e-06, 9.665430444010454e-06, 1.6792007560748107e-05, 2.883607486826267e-05, 4.766514262654038e-05, 7.311597178076903e-05, 0.00010087802159020157, 0.0001231979013254341, 0.00013326401124051244, 0.00012930906852390772, 0.00011444415294816163, 9.401388535565172e-05, 7.306431861136101e-05, 5.483961194450207e-05, 4.05775236290423e-05, 3.0155668239092877e-05, 2.2854206821402796e-05, 1.784660546490779e-05, 1.4808408536505972e-05, 1.2708968702528497e-05, 1.1042548108429027e-05, 1.000353254569755e-05, 9.34848107517028e-06, 8.820166924341483e-06, 8.214840043567129e-06, 7.433200715062588e-06, 6.48898413107918e-06, 5.465346434054795e-06, 4.45897019760694e-06, 3.543374099208496e-06, 2.7578468250616636e-06, 2.112576115941276e-06, 1.5990954493944645e-06, 1.1997827973079874e-06, 8.943540080693514e-07, 6.634959045778167e-07, 4.904861497509102e-07, 3.6162598145523735e-07, 2.6607815558433207e-07, 1.9546242671921085e-07, 1.4339837802593646e-07, 1.0507985397788141e-07, 7.691430794881103e-08, 5.623116729149226e-08, 4.105328932728857e-08, 2.99213459788333e-08, 2.176064949792671e-08, 1.5781086914101587e-08, 1.1402452839437352e-08, 8.199016040568601e-09, 5.858521872980122e-09, 4.151940220390318e-09], \"y\": [96.36432, 97.69113, 98.96521, 100.21858, 101.49149, 102.83465, 104.31025, 105.99205, 107.9605, 110.28514, 112.99677, 116.0809, 119.49435, 123.18561, 127.1144, 131.26863, 135.66771, 140.35171, 145.36669, 150.75399, 156.54488, 162.75891, 169.4047, 176.48172, 183.98288, 191.89784, 200.21538, 208.92486, 218.01702, 227.48388, 237.31828, 247.51354, 258.0632, 268.96082, 280.19986, 291.77326, 303.6734, 315.89174, 328.419, 341.2452, 354.35996, 367.75308, 381.41508, 395.33784, 409.5154, 423.9448, 438.62676, 453.56656, 468.7752, 484.27028, 500.07764, 516.23308, 532.7848, 549.7966, 567.35232, 585.562]}, {\"line\": {\"color\": \"green\", \"dash\": \"dot\"}, \"mode\": \"lines\", \"name\": \"Pedersen min With Error\", \"type\": \"scatter\", \"x\": [5.007184805284332e-07, 8.951413364487731e-07, 1.5813930096108676e-06, 2.695916926530729e-06, 4.626488103758398e-06, 8.001891572030585e-06, 1.3892074147191083e-05, 2.3893279180054132e-05, 3.9684317245841164e-05, 6.144019841907244e-05, 8.591894088649842e-05, 0.00010633881743143273, 0.00011569274503479809, 0.00011171469818824929, 9.779955840488741e-05, 7.945980703014856e-05, 6.125499816822656e-05, 4.576164382847204e-05, 3.3800246583254536e-05, 2.5132208801856152e-05, 1.90963253557621e-05, 1.4983129065095317e-05, 1.2514658377014257e-05, 1.0827987237557856e-05, 9.479974482881758e-06, 8.604180724082075e-06, 7.995755743672548e-06, 7.474241921014475e-06, 6.902605043316221e-06, 6.208932301632682e-06, 5.400125249426818e-06, 4.537644469780339e-06, 3.696179509993639e-06, 2.9335903576329244e-06, 2.280842003209594e-06, 1.7455207338453433e-06, 1.3201054159092676e-06, 9.896712071242789e-07, 7.372003687345011e-07, 5.465582222711728e-07, 4.0381287312103286e-07, 2.9757624902306555e-07, 2.188560184739815e-07, 1.6071013308549238e-07, 1.178608925671082e-07, 8.633776806751943e-08, 6.317592241523358e-08, 4.617324191308869e-08, 3.370045847973121e-08, 2.4555609404778202e-08, 1.7853883326575735e-08, 1.294498182168938e-08, 9.35152064602738e-09, 6.723328566213981e-09, 4.803661061229597e-09, 3.4042761057440015e-09], \"y\": [96.36432, 97.69113, 98.96521, 100.21858, 101.49149, 102.83465, 104.31025, 105.99205, 107.9605, 110.28514, 112.99677, 116.0809, 119.49435, 123.18561, 127.1144, 131.26863, 135.66771, 140.35171, 145.36669, 150.75399, 156.54488, 162.75891, 169.4047, 176.48172, 183.98288, 191.89784, 200.21538, 208.92486, 218.01702, 227.48388, 237.31828, 247.51354, 258.0632, 268.96082, 280.19986, 291.77326, 303.6734, 315.89174, 328.419, 341.2452, 354.35996, 367.75308, 381.41508, 395.33784, 409.5154, 423.9448, 438.62676, 453.56656, 468.7752, 484.27028, 500.07764, 516.23308, 532.7848, 549.7966, 567.35232, 585.562]}, {\"marker\": {\"color\": \"blue\"}, \"mode\": \"lines\", \"name\": \"Hall\", \"type\": \"scatter\", \"x\": [1.89297824389326e-05, 3.1053795445924626e-05, 4.769240702551937e-05, 6.680730355839512e-05, 8.898715082216843e-05, 0.00011320948873572487, 0.0001380930168131294, 0.00016148970142891033, 0.00017980778467320739, 0.0001879203163022175, 0.0001810358594317331, 0.00015829580023422947, 0.00012483257690680508, 8.916704139907126e-05, 5.826432759720028e-05, 3.5272932436803066e-05, 2.0120579499353584e-05, 1.1044294513975095e-05, 5.967659056570655e-06, 3.243524921822949e-06, 1.806550781303769e-06, 1.0458275001965883e-06, 6.513234453877247e-07, 4.269699296985612e-07, 2.8993288783158147e-07, 2.0916091842412284e-07, 1.5714108558323068e-07, 1.1925352307956832e-07, 8.900485198178425e-08, 6.42560048655845e-08, 4.4618105097485015e-08, 2.984392852288447e-08, 1.9324033773414828e-08, 1.2184529387717349e-08, 7.523508958011284e-09, 4.570836103341935e-09, 2.7427078698294864e-09, 1.6301772186532042e-09, 9.618522244907984e-10, 5.642904884273587e-10, 3.2956353630344456e-10, 1.9178070604911544e-10, 1.112724631149369e-10, 6.440130994160302e-11, 3.719326603829111e-11, 2.1437196186223862e-11, 1.2331312764994924e-11, 7.078126404164312e-12, 4.052680278787453e-12, 2.3133065535904093e-12, 1.3153157875661111e-12, 7.441076221354393e-13, 4.1820099613140683e-13, 2.3302460964992793e-13, 1.283927165373132e-13, 6.971578293041449e-14], \"y\": [96.36432, 97.69113, 98.96521, 100.21858, 101.49149, 102.83465, 104.31025, 105.99205, 107.9605, 110.28514, 112.99677, 116.0809, 119.49435, 123.18561, 127.1144, 131.26863, 135.66771, 140.35171, 145.36669, 150.75399, 156.54488, 162.75891, 169.4047, 176.48172, 183.98288, 191.89784, 200.21538, 208.92486, 218.01702, 227.48388, 237.31828, 247.51354, 258.0632, 268.96082, 280.19986, 291.77326, 303.6734, 315.89174, 328.419, 341.2452, 354.35996, 367.75308, 381.41508, 395.33784, 409.5154, 423.9448, 438.62676, 453.56656, 468.7752, 484.27028, 500.07764, 516.23308, 532.7848, 549.7966, 567.35232, 585.562]}, {\"line\": {\"color\": \"black\"}, \"mode\": \"lines\", \"name\": \"Parallel\", \"type\": \"scatter\", \"x\": [0.0021198924059909747, 0.004452153239219026, 0.00877470542474327, 0.015828202483362076, 0.02726941599321133, 0.04511473048829586, 0.0720639711250359, 0.1115177445955024, 0.16728099092542412, 0.24297194373883987, 0.3417644109615152, 0.46693105169392496, 0.6222780738915517, 0.8122068173572494, 1.0424511420047466, 1.3217240071970355, 1.6636453769096045, 2.0888428215497106, 2.626798554908206, 3.3189801524207554, 4.2319046524437365, 5.486902434202785, 7.486830377537843, 10.462754236544546, 14.618460346010584, 21.056314792001118, 31.083552656526788, 46.48104919349141, 69.43069463243975, 101.99470537464722, 145.9318064034383, 202.68493932178302, 273.6470204490117, 360.51917812814656, 465.6058441832832, 591.9990927081124, 743.6707578154153, 925.5095458966726, 1143.340970083265, 1403.960011621721, 1715.201846512334, 2086.0713877250773, 2526.9439429612376, 3049.865461826953, 3668.9582398839925, 4400.9702389951335, 5265.976873147184, 6288.273167785339, 7497.467711456556, 8929.844974305184, 10630.050561924385, 12653.24906121408, 15067.936955707644, 17959.743827560276, 21436.64191272005, 25634.65995754778], \"y\": [96.36432, 97.69113, 98.96521, 100.21858, 101.49149, 102.83465, 104.31025, 105.99205, 107.9605, 110.28514, 112.99677, 116.0809, 119.49435, 123.18561, 127.1144, 131.26863, 135.66771, 140.35171, 145.36669, 150.75399, 156.54488, 162.75891, 169.4047, 176.48172, 183.98288, 191.89784, 200.21538, 208.92486, 218.01702, 227.48388, 237.31828, 247.51354, 258.0632, 268.96082, 280.19986, 291.77326, 303.6734, 315.89174, 328.419, 341.2452, 354.35996, 367.75308, 381.41508, 395.33784, 409.5154, 423.9448, 438.62676, 453.56656, 468.7752, 484.27028, 500.07764, 516.23308, 532.7848, 549.7966, 567.35232, 585.562]}],\n",
       "                        {\"height\": 750, \"template\": {\"data\": {\"bar\": [{\"error_x\": {\"color\": \"#2a3f5f\"}, \"error_y\": {\"color\": \"#2a3f5f\"}, \"marker\": {\"line\": {\"color\": \"#E5ECF6\", \"width\": 0.5}}, \"type\": \"bar\"}], \"barpolar\": [{\"marker\": {\"line\": {\"color\": \"#E5ECF6\", \"width\": 0.5}}, \"type\": \"barpolar\"}], \"carpet\": [{\"aaxis\": {\"endlinecolor\": \"#2a3f5f\", \"gridcolor\": \"white\", \"linecolor\": \"white\", \"minorgridcolor\": \"white\", \"startlinecolor\": \"#2a3f5f\"}, \"baxis\": {\"endlinecolor\": \"#2a3f5f\", \"gridcolor\": \"white\", \"linecolor\": \"white\", \"minorgridcolor\": \"white\", \"startlinecolor\": \"#2a3f5f\"}, \"type\": \"carpet\"}], \"choropleth\": [{\"colorbar\": {\"outlinewidth\": 0, \"ticks\": \"\"}, \"type\": \"choropleth\"}], \"contour\": [{\"colorbar\": {\"outlinewidth\": 0, \"ticks\": \"\"}, \"colorscale\": [[0.0, \"#0d0887\"], [0.1111111111111111, \"#46039f\"], [0.2222222222222222, \"#7201a8\"], [0.3333333333333333, \"#9c179e\"], [0.4444444444444444, \"#bd3786\"], [0.5555555555555556, \"#d8576b\"], [0.6666666666666666, \"#ed7953\"], [0.7777777777777778, \"#fb9f3a\"], [0.8888888888888888, \"#fdca26\"], [1.0, \"#f0f921\"]], \"type\": \"contour\"}], \"contourcarpet\": [{\"colorbar\": {\"outlinewidth\": 0, \"ticks\": \"\"}, \"type\": \"contourcarpet\"}], \"heatmap\": [{\"colorbar\": {\"outlinewidth\": 0, \"ticks\": \"\"}, \"colorscale\": [[0.0, \"#0d0887\"], [0.1111111111111111, \"#46039f\"], [0.2222222222222222, \"#7201a8\"], [0.3333333333333333, \"#9c179e\"], [0.4444444444444444, \"#bd3786\"], [0.5555555555555556, \"#d8576b\"], [0.6666666666666666, \"#ed7953\"], [0.7777777777777778, \"#fb9f3a\"], [0.8888888888888888, \"#fdca26\"], [1.0, \"#f0f921\"]], \"type\": \"heatmap\"}], \"heatmapgl\": [{\"colorbar\": {\"outlinewidth\": 0, \"ticks\": \"\"}, \"colorscale\": [[0.0, \"#0d0887\"], [0.1111111111111111, \"#46039f\"], [0.2222222222222222, \"#7201a8\"], [0.3333333333333333, \"#9c179e\"], [0.4444444444444444, \"#bd3786\"], [0.5555555555555556, \"#d8576b\"], [0.6666666666666666, \"#ed7953\"], [0.7777777777777778, \"#fb9f3a\"], [0.8888888888888888, \"#fdca26\"], [1.0, \"#f0f921\"]], \"type\": \"heatmapgl\"}], \"histogram\": [{\"marker\": {\"colorbar\": {\"outlinewidth\": 0, \"ticks\": \"\"}}, \"type\": \"histogram\"}], \"histogram2d\": [{\"colorbar\": {\"outlinewidth\": 0, \"ticks\": \"\"}, \"colorscale\": [[0.0, \"#0d0887\"], [0.1111111111111111, \"#46039f\"], [0.2222222222222222, \"#7201a8\"], [0.3333333333333333, \"#9c179e\"], [0.4444444444444444, \"#bd3786\"], [0.5555555555555556, \"#d8576b\"], [0.6666666666666666, \"#ed7953\"], [0.7777777777777778, \"#fb9f3a\"], [0.8888888888888888, \"#fdca26\"], [1.0, \"#f0f921\"]], \"type\": \"histogram2d\"}], \"histogram2dcontour\": [{\"colorbar\": {\"outlinewidth\": 0, \"ticks\": \"\"}, \"colorscale\": [[0.0, \"#0d0887\"], [0.1111111111111111, \"#46039f\"], [0.2222222222222222, \"#7201a8\"], [0.3333333333333333, \"#9c179e\"], [0.4444444444444444, \"#bd3786\"], [0.5555555555555556, \"#d8576b\"], [0.6666666666666666, \"#ed7953\"], [0.7777777777777778, \"#fb9f3a\"], [0.8888888888888888, \"#fdca26\"], [1.0, \"#f0f921\"]], \"type\": \"histogram2dcontour\"}], \"mesh3d\": [{\"colorbar\": {\"outlinewidth\": 0, \"ticks\": \"\"}, \"type\": \"mesh3d\"}], \"parcoords\": [{\"line\": {\"colorbar\": {\"outlinewidth\": 0, \"ticks\": \"\"}}, \"type\": \"parcoords\"}], \"pie\": [{\"automargin\": true, \"type\": \"pie\"}], \"scatter\": [{\"marker\": {\"colorbar\": {\"outlinewidth\": 0, \"ticks\": \"\"}}, \"type\": \"scatter\"}], \"scatter3d\": [{\"line\": {\"colorbar\": {\"outlinewidth\": 0, \"ticks\": \"\"}}, \"marker\": {\"colorbar\": {\"outlinewidth\": 0, \"ticks\": \"\"}}, \"type\": \"scatter3d\"}], \"scattercarpet\": [{\"marker\": {\"colorbar\": {\"outlinewidth\": 0, \"ticks\": \"\"}}, \"type\": \"scattercarpet\"}], \"scattergeo\": [{\"marker\": {\"colorbar\": {\"outlinewidth\": 0, \"ticks\": \"\"}}, \"type\": \"scattergeo\"}], \"scattergl\": [{\"marker\": {\"colorbar\": {\"outlinewidth\": 0, \"ticks\": \"\"}}, \"type\": \"scattergl\"}], \"scattermapbox\": [{\"marker\": {\"colorbar\": {\"outlinewidth\": 0, \"ticks\": \"\"}}, \"type\": \"scattermapbox\"}], \"scatterpolar\": [{\"marker\": {\"colorbar\": {\"outlinewidth\": 0, \"ticks\": \"\"}}, \"type\": \"scatterpolar\"}], \"scatterpolargl\": [{\"marker\": {\"colorbar\": {\"outlinewidth\": 0, \"ticks\": \"\"}}, \"type\": \"scatterpolargl\"}], \"scatterternary\": [{\"marker\": {\"colorbar\": {\"outlinewidth\": 0, \"ticks\": \"\"}}, \"type\": \"scatterternary\"}], \"surface\": [{\"colorbar\": {\"outlinewidth\": 0, \"ticks\": \"\"}, \"colorscale\": [[0.0, \"#0d0887\"], [0.1111111111111111, \"#46039f\"], [0.2222222222222222, \"#7201a8\"], [0.3333333333333333, \"#9c179e\"], [0.4444444444444444, \"#bd3786\"], [0.5555555555555556, \"#d8576b\"], [0.6666666666666666, \"#ed7953\"], [0.7777777777777778, \"#fb9f3a\"], [0.8888888888888888, \"#fdca26\"], [1.0, \"#f0f921\"]], \"type\": \"surface\"}], \"table\": [{\"cells\": {\"fill\": {\"color\": \"#EBF0F8\"}, \"line\": {\"color\": \"white\"}}, \"header\": {\"fill\": {\"color\": \"#C8D4E3\"}, \"line\": {\"color\": \"white\"}}, \"type\": \"table\"}]}, \"layout\": {\"annotationdefaults\": {\"arrowcolor\": \"#2a3f5f\", \"arrowhead\": 0, \"arrowwidth\": 1}, \"coloraxis\": {\"colorbar\": {\"outlinewidth\": 0, \"ticks\": \"\"}}, \"colorscale\": {\"diverging\": [[0, \"#8e0152\"], [0.1, \"#c51b7d\"], [0.2, \"#de77ae\"], [0.3, \"#f1b6da\"], [0.4, \"#fde0ef\"], [0.5, \"#f7f7f7\"], [0.6, \"#e6f5d0\"], [0.7, \"#b8e186\"], [0.8, \"#7fbc41\"], [0.9, \"#4d9221\"], [1, \"#276419\"]], \"sequential\": [[0.0, \"#0d0887\"], [0.1111111111111111, \"#46039f\"], [0.2222222222222222, \"#7201a8\"], [0.3333333333333333, \"#9c179e\"], [0.4444444444444444, \"#bd3786\"], [0.5555555555555556, \"#d8576b\"], [0.6666666666666666, \"#ed7953\"], [0.7777777777777778, \"#fb9f3a\"], [0.8888888888888888, \"#fdca26\"], [1.0, \"#f0f921\"]], \"sequentialminus\": [[0.0, \"#0d0887\"], [0.1111111111111111, \"#46039f\"], [0.2222222222222222, \"#7201a8\"], [0.3333333333333333, \"#9c179e\"], [0.4444444444444444, \"#bd3786\"], [0.5555555555555556, \"#d8576b\"], [0.6666666666666666, \"#ed7953\"], [0.7777777777777778, \"#fb9f3a\"], [0.8888888888888888, \"#fdca26\"], [1.0, \"#f0f921\"]]}, \"colorway\": [\"#636efa\", \"#EF553B\", \"#00cc96\", \"#ab63fa\", \"#FFA15A\", \"#19d3f3\", \"#FF6692\", \"#B6E880\", \"#FF97FF\", \"#FECB52\"], \"font\": {\"color\": \"#2a3f5f\"}, \"geo\": {\"bgcolor\": \"white\", \"lakecolor\": \"white\", \"landcolor\": \"#E5ECF6\", \"showlakes\": true, \"showland\": true, \"subunitcolor\": \"white\"}, \"hoverlabel\": {\"align\": \"left\"}, \"hovermode\": \"closest\", \"mapbox\": {\"style\": \"light\"}, \"paper_bgcolor\": \"white\", \"plot_bgcolor\": \"#E5ECF6\", \"polar\": {\"angularaxis\": {\"gridcolor\": \"white\", \"linecolor\": \"white\", \"ticks\": \"\"}, \"bgcolor\": \"#E5ECF6\", \"radialaxis\": {\"gridcolor\": \"white\", \"linecolor\": \"white\", \"ticks\": \"\"}}, \"scene\": {\"xaxis\": {\"backgroundcolor\": \"#E5ECF6\", \"gridcolor\": \"white\", \"gridwidth\": 2, \"linecolor\": \"white\", \"showbackground\": true, \"ticks\": \"\", \"zerolinecolor\": \"white\"}, \"yaxis\": {\"backgroundcolor\": \"#E5ECF6\", \"gridcolor\": \"white\", \"gridwidth\": 2, \"linecolor\": \"white\", \"showbackground\": true, \"ticks\": \"\", \"zerolinecolor\": \"white\"}, \"zaxis\": {\"backgroundcolor\": \"#E5ECF6\", \"gridcolor\": \"white\", \"gridwidth\": 2, \"linecolor\": \"white\", \"showbackground\": true, \"ticks\": \"\", \"zerolinecolor\": \"white\"}}, \"shapedefaults\": {\"line\": {\"color\": \"#2a3f5f\"}}, \"ternary\": {\"aaxis\": {\"gridcolor\": \"white\", \"linecolor\": \"white\", \"ticks\": \"\"}, \"baxis\": {\"gridcolor\": \"white\", \"linecolor\": \"white\", \"ticks\": \"\"}, \"bgcolor\": \"#E5ECF6\", \"caxis\": {\"gridcolor\": \"white\", \"linecolor\": \"white\", \"ticks\": \"\"}}, \"title\": {\"x\": 0.05}, \"xaxis\": {\"automargin\": true, \"gridcolor\": \"white\", \"linecolor\": \"white\", \"ticks\": \"\", \"title\": {\"standoff\": 15}, \"zerolinecolor\": \"white\", \"zerolinewidth\": 2}, \"yaxis\": {\"automargin\": true, \"gridcolor\": \"white\", \"linecolor\": \"white\", \"ticks\": \"\", \"title\": {\"standoff\": 15}, \"zerolinecolor\": \"white\", \"zerolinewidth\": 2}}}, \"title\": {\"text\": \"Conductivities ,Lat: -83.75, Lon: -175.0, 2015-03-15 00:05:00\", \"x\": 0.5, \"xanchor\": \"center\", \"y\": 0.9, \"yanchor\": \"top\"}, \"width\": 850, \"xaxis\": {\"exponentformat\": \"power\", \"gridcolor\": \"grey\", \"gridwidth\": 0.5, \"linecolor\": \"black\", \"linewidth\": 2, \"mirror\": true, \"showexponent\": \"all\", \"showgrid\": true, \"showline\": true, \"title\": {\"text\": \"Conductivity S/m\"}, \"type\": \"log\"}, \"yaxis\": {\"dtick\": 20, \"gridcolor\": \"grey\", \"gridwidth\": 0.5, \"linecolor\": \"black\", \"linewidth\": 2, \"mirror\": true, \"showgrid\": true, \"showline\": true, \"tick0\": 60, \"title\": {\"text\": \"Altitude (km)\"}}},\n",
       "                        {\"responsive\": true}\n",
       "                    ).then(function(){\n",
       "                            \n",
       "var gd = document.getElementById('0165c69c-6f15-4d17-900b-0c56e9c5df3f');\n",
       "var x = new MutationObserver(function (mutations, observer) {{\n",
       "        var display = window.getComputedStyle(gd).display;\n",
       "        if (!display || display === 'none') {{\n",
       "            console.log([gd, 'removed!']);\n",
       "            Plotly.purge(gd);\n",
       "            observer.disconnect();\n",
       "        }}\n",
       "}});\n",
       "\n",
       "// Listen for the removal of the full notebook cells\n",
       "var notebookContainer = gd.closest('#notebook-container');\n",
       "if (notebookContainer) {{\n",
       "    x.observe(notebookContainer, {childList: true});\n",
       "}}\n",
       "\n",
       "// Listen for the clearing of the current output cell\n",
       "var outputEl = gd.closest('.output');\n",
       "if (outputEl) {{\n",
       "    x.observe(outputEl, {childList: true});\n",
       "}}\n",
       "\n",
       "                        })\n",
       "                };\n",
       "                });\n",
       "            </script>\n",
       "        </div>"
      ]
     },
     "metadata": {},
     "output_type": "display_data"
    },
    {
     "data": {
      "application/vnd.plotly.v1+json": {
       "config": {
        "plotlyServerURL": "https://plot.ly"
       },
       "data": [
        {
         "line": {
          "color": "orange"
         },
         "mode": "lines",
         "name": "Ve",
         "type": "scatter",
         "x": [
          88239.47033410447,
          68891.47728034902,
          53667.16597176581,
          41676.765300557694,
          32243.529165593725,
          24846.572347862828,
          19077.043690053364,
          14607.227539046284,
          11172.413666321001,
          8553.66528407478,
          6565.6127431754285,
          5055.17024253432,
          3903.468928904494,
          3022.097231641143,
          2345.396029498541,
          1823.9878613788276,
          1421.041144506114,
          1109.8928182496284,
          871.5164543025403,
          691.2394009350365,
          555.4801354759068,
          450.8304383518924,
          366.4982055678466,
          296.87027627003425,
          238.45639664883345,
          189.08445829650174,
          147.9513836183,
          114.43430324066865,
          87.6506358288991,
          66.76964231847104,
          50.69925215002101,
          38.41912649427087,
          29.075257725190447,
          21.986008380171878,
          16.619253781106526,
          12.563911048982215,
          9.50403900777102,
          7.197642514754215,
          5.45997103980095,
          4.150497036157136,
          3.16277282316228,
          2.4165049240734726,
          1.85137100824116,
          1.4221977779089032,
          1.0952378525273845,
          0.8453059456647412,
          0.6536046329311798,
          0.5060842425055655,
          0.39221721703210854,
          0.3040879838237565,
          0.23572056967485058,
          0.18258322530768098,
          0.1412237184412935,
          0.10900031816977038,
          0.08388314848307007,
          0.06430661916011558
         ],
         "y": [
          96.36432,
          97.69113,
          98.96521,
          100.21858,
          101.49149,
          102.83465,
          104.31025,
          105.99205,
          107.9605,
          110.28514,
          112.99677,
          116.0809,
          119.49435,
          123.18561,
          127.1144,
          131.26863,
          135.66771,
          140.35171,
          145.36669,
          150.75399,
          156.54488,
          162.75891,
          169.4047,
          176.48172,
          183.98288,
          191.89784,
          200.21538,
          208.92486,
          218.01702,
          227.48388,
          237.31828,
          247.51354,
          258.0632,
          268.96082,
          280.19986,
          291.77326,
          303.6734,
          315.89174,
          328.419,
          341.2452,
          354.35996,
          367.75308,
          381.41508,
          395.33784,
          409.5154,
          423.9448,
          438.62676,
          453.56656,
          468.7752,
          484.27028,
          500.07764,
          516.23308,
          532.7848,
          549.7966,
          567.35232,
          585.562
         ]
        },
        {
         "line": {
          "color": "orange",
          "dash": "dot"
         },
         "mode": "lines",
         "name": "Ve min",
         "type": "scatter",
         "x": [
          82779.63292896409,
          64632.20626994102,
          50349.3155031849,
          39097.60841449589,
          30243.62532318809,
          23300.119417047612,
          17884.635069840897,
          13690.251525994878,
          10468.499558529338,
          8013.374200862183,
          6150.282139943261,
          4735.167386713196,
          3656.333489362073,
          2830.8161659944735,
          2197.0634349919305,
          1708.802794384314,
          1331.5166385097307,
          1040.2148510351328,
          817.0688852395145,
          648.3391992645002,
          521.3107833816186,
          423.4175397525586,
          344.527245540937,
          279.3664784325053,
          224.65266767951272,
          178.34327674453155,
          139.69843745394962,
          108.15694587287375,
          82.91223622227182,
          63.205579011714555,
          48.021512870729325,
          36.40616150433251,
          27.559061918949062,
          20.84031207819773,
          15.749775198738023,
          11.900625906229278,
          8.99515444437484,
          6.804943448668202,
          5.155261620030007,
          3.9129149743870406,
          2.976793821945177,
          2.270483942308095,
          1.7364899861165108,
          1.3317136171244965,
          1.0239460801532032,
          0.7891570031408556,
          0.6094265973413082,
          0.4713798836500132,
          0.3650131560325463,
          0.28282084761076165,
          0.21914984192211215,
          0.16972372109627998,
          0.13129275765034537,
          0.10137610136153903,
          0.07807177098372561,
          0.05991584062487456
         ],
         "y": [
          96.36432,
          97.69113,
          98.96521,
          100.21858,
          101.49149,
          102.83465,
          104.31025,
          105.99205,
          107.9605,
          110.28514,
          112.99677,
          116.0809,
          119.49435,
          123.18561,
          127.1144,
          131.26863,
          135.66771,
          140.35171,
          145.36669,
          150.75399,
          156.54488,
          162.75891,
          169.4047,
          176.48172,
          183.98288,
          191.89784,
          200.21538,
          208.92486,
          218.01702,
          227.48388,
          237.31828,
          247.51354,
          258.0632,
          268.96082,
          280.19986,
          291.77326,
          303.6734,
          315.89174,
          328.419,
          341.2452,
          354.35996,
          367.75308,
          381.41508,
          395.33784,
          409.5154,
          423.9448,
          438.62676,
          453.56656,
          468.7752,
          484.27028,
          500.07764,
          516.23308,
          532.7848,
          549.7966,
          567.35232,
          585.562
         ]
        },
        {
         "line": {
          "color": "orange",
          "dash": "dot"
         },
         "mode": "lines",
         "name": "Ve max",
         "type": "scatter",
         "x": [
          93699.30773924485,
          73150.74829075701,
          56985.01644034672,
          44255.9221866195,
          34243.43300799936,
          26393.025278678044,
          20269.45231026583,
          15524.20355209769,
          11876.327774112664,
          9093.956367287376,
          6980.9433464075955,
          5375.173098355444,
          4150.604368446915,
          3213.3782972878125,
          2493.7286240051512,
          1939.1729283733412,
          1510.5656505024974,
          1179.570785464124,
          925.964023365566,
          734.1396026055729,
          589.6494875701949,
          478.2433369512262,
          388.4691655947562,
          314.3740741075632,
          252.26012561815418,
          199.82563984847192,
          156.2043297826504,
          120.71166060846356,
          92.38903543552638,
          70.33370562522754,
          53.376991429312696,
          40.43209148420923,
          30.59145353143183,
          23.131704682146026,
          17.488732363475027,
          13.227196191735151,
          10.0129235711672,
          7.590341580840229,
          5.764680459571894,
          4.388079097927231,
          3.348751824379383,
          2.56252590583885,
          1.9662520303658093,
          1.51268193869331,
          1.1665296249015658,
          0.9014548881886267,
          0.6977826685210513,
          0.5407886013611178,
          0.4194212780316708,
          0.3253551200367514,
          0.25229129742758905,
          0.19544272951908198,
          0.15115467923224163,
          0.11662453497800172,
          0.08969452598241454,
          0.06869739769535661
         ],
         "y": [
          96.36432,
          97.69113,
          98.96521,
          100.21858,
          101.49149,
          102.83465,
          104.31025,
          105.99205,
          107.9605,
          110.28514,
          112.99677,
          116.0809,
          119.49435,
          123.18561,
          127.1144,
          131.26863,
          135.66771,
          140.35171,
          145.36669,
          150.75399,
          156.54488,
          162.75891,
          169.4047,
          176.48172,
          183.98288,
          191.89784,
          200.21538,
          208.92486,
          218.01702,
          227.48388,
          237.31828,
          247.51354,
          258.0632,
          268.96082,
          280.19986,
          291.77326,
          303.6734,
          315.89174,
          328.419,
          341.2452,
          354.35996,
          367.75308,
          381.41508,
          395.33784,
          409.5154,
          423.9448,
          438.62676,
          453.56656,
          468.7752,
          484.27028,
          500.07764,
          516.23308,
          532.7848,
          549.7966,
          567.35232,
          585.562
         ]
        },
        {
         "line": {
          "color": "cyan"
         },
         "mode": "lines",
         "name": "VO2+",
         "type": "scatter",
         "x": [
          8527.430601511353,
          6908.18504531887,
          5473.434831761244,
          4210.534054183966,
          3126.270804834349,
          2236.031441812019,
          1545.5647052141562,
          1042.0814989936232,
          696.6703820454735,
          471.08636210930024,
          326.12372392375664,
          231.59183600359785,
          168.0648142656869,
          123.76083607447403,
          91.65324738385627,
          67.74562697155366,
          49.7944919426045,
          36.39643594639188,
          26.511304755340234,
          19.294788166949218,
          14.062896776239374,
          10.281129146564659,
          7.546502815158594,
          5.563866658687404,
          4.119851135644867,
          3.0626622128366643,
          2.2846519257615707,
          1.7093543844126349,
          1.282189269747068,
          0.9639255437158727,
          0.7261099939382744,
          0.547955723065565,
          0.4141982363227987,
          0.3135775529069248,
          0.237753508745903,
          0.1805262174668572,
          0.13727178299477433,
          0.104532308501807,
          0.07971621467861406,
          0.06087798157632407,
          0.046555278901062605,
          0.03564788311959921,
          0.027327371730688832,
          0.020969370734280752,
          0.016102844952225675,
          0.012371940159897269,
          0.009507407850137624,
          0.007305148650164047,
          0.005610129824835818,
          0.004304334475832596,
          0.003297724680938227,
          0.002521456865995431,
          0.001922783884701039,
          0.0014612118007824822,
          0.0011055999837655604,
          0.0008319648338075562
         ],
         "y": [
          96.36432,
          97.69113,
          98.96521,
          100.21858,
          101.49149,
          102.83465,
          104.31025,
          105.99205,
          107.9605,
          110.28514,
          112.99677,
          116.0809,
          119.49435,
          123.18561,
          127.1144,
          131.26863,
          135.66771,
          140.35171,
          145.36669,
          150.75399,
          156.54488,
          162.75891,
          169.4047,
          176.48172,
          183.98288,
          191.89784,
          200.21538,
          208.92486,
          218.01702,
          227.48388,
          237.31828,
          247.51354,
          258.0632,
          268.96082,
          280.19986,
          291.77326,
          303.6734,
          315.89174,
          328.419,
          341.2452,
          354.35996,
          367.75308,
          381.41508,
          395.33784,
          409.5154,
          423.9448,
          438.62676,
          453.56656,
          468.7752,
          484.27028,
          500.07764,
          516.23308,
          532.7848,
          549.7966,
          567.35232,
          585.562
         ]
        },
        {
         "line": {
          "color": "cyan",
          "dash": "dot"
         },
         "mode": "lines",
         "name": "VO2+ min",
         "type": "scatter",
         "x": [
          8154.150355837473,
          6605.297353517031,
          5233.350171910734,
          4026.042796062624,
          2989.673285521326,
          2138.7798574582307,
          1478.759699046976,
          997.3720893389822,
          667.0176489500665,
          451.18886238249974,
          312.44509847941606,
          221.94019034380196,
          161.10338173065657,
          118.66579881376173,
          87.90431271892966,
          64.99444184979772,
          47.788949912148084,
          34.944416427933405,
          25.465014737254617,
          18.542360932188398,
          13.521536511722198,
          9.890718152666649,
          7.263952892052055,
          5.358521630634791,
          3.969963675738181,
          2.9527823036162455,
          2.203757573375871,
          1.6495422792432664,
          1.2377632070624087,
          0.9307621080695733,
          0.7012159862503831,
          0.529155105884361,
          0.39990759514681923,
          0.30264366047073593,
          0.22933508770742134,
          0.17400761757895325,
          0.13220007367544068,
          0.10057170030281927,
          0.07661532844128591,
          0.05844656046809203,
          0.04464773103462511,
          0.03415167433200911,
          0.026154794448187434,
          0.020051641895356066,
          0.015385797155485109,
          0.011812815241901753,
          0.00907242092114638,
          0.00696760648380222,
          0.0053489579829850255,
          0.004102913777178694,
          0.003142967176521939,
          0.0024030702890852048,
          0.0018326857649773186,
          0.00139306326036974,
          0.0010544352290161206,
          0.0007938972399488856
         ],
         "y": [
          96.36432,
          97.69113,
          98.96521,
          100.21858,
          101.49149,
          102.83465,
          104.31025,
          105.99205,
          107.9605,
          110.28514,
          112.99677,
          116.0809,
          119.49435,
          123.18561,
          127.1144,
          131.26863,
          135.66771,
          140.35171,
          145.36669,
          150.75399,
          156.54488,
          162.75891,
          169.4047,
          176.48172,
          183.98288,
          191.89784,
          200.21538,
          208.92486,
          218.01702,
          227.48388,
          237.31828,
          247.51354,
          258.0632,
          268.96082,
          280.19986,
          291.77326,
          303.6734,
          315.89174,
          328.419,
          341.2452,
          354.35996,
          367.75308,
          381.41508,
          395.33784,
          409.5154,
          423.9448,
          438.62676,
          453.56656,
          468.7752,
          484.27028,
          500.07764,
          516.23308,
          532.7848,
          549.7966,
          567.35232,
          585.562
         ]
        },
        {
         "line": {
          "color": "cyan",
          "dash": "dot"
         },
         "mode": "lines",
         "name": "VO2+ max",
         "type": "scatter",
         "x": [
          8900.710847185232,
          7211.072737120709,
          5713.519491611753,
          4395.025312305308,
          3262.868324147372,
          2333.283026165807,
          1612.3697113813364,
          1086.7909086482643,
          726.3231151408805,
          490.98386183610074,
          339.8023493680972,
          241.24348166339374,
          175.02624680071722,
          128.85587333518632,
          95.40218204878288,
          70.4968120933096,
          51.80003397306092,
          37.84845546485036,
          27.55759477342585,
          20.047215401710037,
          14.604257040756549,
          10.67154014046267,
          7.829052738265133,
          5.769211686740017,
          4.269738595551552,
          3.172542122057083,
          2.3655462781472703,
          1.7691664895820034,
          1.3266153324317274,
          0.9970889793621721,
          0.7510040016261657,
          0.5667563402467689,
          0.4284888774987781,
          0.32451144534311366,
          0.24617192978438468,
          0.18704481735476117,
          0.14234349231410798,
          0.10849291670079474,
          0.08281710091594222,
          0.06330940268455611,
          0.0484628267675001,
          0.037144091907189314,
          0.02849994901319023,
          0.021887099573205438,
          0.016819892748966243,
          0.012931065077892785,
          0.009942394779128868,
          0.0076426908165258736,
          0.00587130166668661,
          0.004505755174486498,
          0.003452482185354515,
          0.002639843442905657,
          0.0020128820044247593,
          0.0015293603411952244,
          0.0011567647385150003,
          0.0008700324276662268
         ],
         "y": [
          96.36432,
          97.69113,
          98.96521,
          100.21858,
          101.49149,
          102.83465,
          104.31025,
          105.99205,
          107.9605,
          110.28514,
          112.99677,
          116.0809,
          119.49435,
          123.18561,
          127.1144,
          131.26863,
          135.66771,
          140.35171,
          145.36669,
          150.75399,
          156.54488,
          162.75891,
          169.4047,
          176.48172,
          183.98288,
          191.89784,
          200.21538,
          208.92486,
          218.01702,
          227.48388,
          237.31828,
          247.51354,
          258.0632,
          268.96082,
          280.19986,
          291.77326,
          303.6734,
          315.89174,
          328.419,
          341.2452,
          354.35996,
          367.75308,
          381.41508,
          395.33784,
          409.5154,
          423.9448,
          438.62676,
          453.56656,
          468.7752,
          484.27028,
          500.07764,
          516.23308,
          532.7848,
          549.7966,
          567.35232,
          585.562
         ]
        },
        {
         "line": {
          "color": "yellow"
         },
         "mode": "lines",
         "name": "VO+",
         "type": "scatter",
         "x": [
          15369.908527748,
          12478.629722368278,
          9894.820592874941,
          7604.991885833562,
          5631.523376825705,
          4011.258222808457,
          2759.5214151215173,
          1853.160239465715,
          1236.7809168629265,
          837.7784192032836,
          583.2355596554944,
          418.04624625084887,
          307.2209855607745,
          229.68953458686832,
          173.0278053714363,
          130.3479735357237,
          97.89341013089529,
          73.3360811485787,
          54.93173972834738,
          41.245266377422126,
          31.103338925838116,
          23.584741907619275,
          17.987039131731006,
          13.800406528550642,
          10.645448250315852,
          8.251674090028832,
          6.4232179715022335,
          5.01794611026172,
          3.931960535405199,
          3.0886806809504037,
          2.431062272685767,
          1.9162671088571908,
          1.5119397852931897,
          1.1935075362027392,
          0.9421978728569412,
          0.7435779256482957,
          0.5864758853597521,
          0.4621859812425952,
          0.3638815462296844,
          0.28618048105014876,
          0.224821654348527,
          0.17642122383365202,
          0.1382877663878559,
          0.10827922036488827,
          0.08469160251290006,
          0.06617071426798639,
          0.05164206855673866,
          0.04025460783162488,
          0.03133547852886574,
          0.024353701779227268,
          0.01889099630690935,
          0.014618400732144403,
          0.011277610477296965,
          0.008666098710941306,
          0.00662529757605827,
          0.005031569913801302
         ],
         "y": [
          96.36432,
          97.69113,
          98.96521,
          100.21858,
          101.49149,
          102.83465,
          104.31025,
          105.99205,
          107.9605,
          110.28514,
          112.99677,
          116.0809,
          119.49435,
          123.18561,
          127.1144,
          131.26863,
          135.66771,
          140.35171,
          145.36669,
          150.75399,
          156.54488,
          162.75891,
          169.4047,
          176.48172,
          183.98288,
          191.89784,
          200.21538,
          208.92486,
          218.01702,
          227.48388,
          237.31828,
          247.51354,
          258.0632,
          268.96082,
          280.19986,
          291.77326,
          303.6734,
          315.89174,
          328.419,
          341.2452,
          354.35996,
          367.75308,
          381.41508,
          395.33784,
          409.5154,
          423.9448,
          438.62676,
          453.56656,
          468.7752,
          484.27028,
          500.07764,
          516.23308,
          532.7848,
          549.7966,
          567.35232,
          585.562
         ]
        },
        {
         "line": {
          "color": "yellow",
          "dash": "dot"
         },
         "mode": "lines",
         "name": "VO+ min",
         "type": "scatter",
         "x": [
          14741.45793303936,
          11968.596139269144,
          9490.619321781533,
          7294.593089324577,
          5401.98053121812,
          3848.113667958066,
          2647.68156438223,
          1778.4624825346255,
          1187.3134399000014,
          804.5997926382088,
          560.4036401833001,
          401.89121832207024,
          295.51256251987706,
          221.05971437591847,
          166.6181201789071,
          125.5864692263253,
          94.36664068305919,
          70.72884302815086,
          53.001663602847536,
          39.809265978927826,
          30.0263401935731,
          22.76895333509298,
          17.36261920696178,
          13.317389506117095,
          10.268227918294196,
          7.954572762195968,
          6.187522532932692,
          4.82984577313822,
          3.7811295190422043,
          2.967298645161725,
          2.3331356668096803,
          1.8371502804652822,
          1.4479913720417694,
          1.1418421559721568,
          0.9005059930822473,
          0.7099947072074092,
          0.5594851243560786,
          0.4405490068961108,
          0.3465837563826208,
          0.2723902929425116,
          0.2138582176820006,
          0.16772844065110207,
          0.13141293184070765,
          0.10285522955540313,
          0.08042198699659536,
          0.0628170428640658,
          0.04901334566223952,
          0.03819840127971515,
          0.0297305423532605,
          0.023103884118174118,
          0.017920244647891784,
          0.013866694505607185,
          0.010697668412633553,
          0.008220728252679393,
          0.006285271178835061,
          0.004773911958700419
         ],
         "y": [
          96.36432,
          97.69113,
          98.96521,
          100.21858,
          101.49149,
          102.83465,
          104.31025,
          105.99205,
          107.9605,
          110.28514,
          112.99677,
          116.0809,
          119.49435,
          123.18561,
          127.1144,
          131.26863,
          135.66771,
          140.35171,
          145.36669,
          150.75399,
          156.54488,
          162.75891,
          169.4047,
          176.48172,
          183.98288,
          191.89784,
          200.21538,
          208.92486,
          218.01702,
          227.48388,
          237.31828,
          247.51354,
          258.0632,
          268.96082,
          280.19986,
          291.77326,
          303.6734,
          315.89174,
          328.419,
          341.2452,
          354.35996,
          367.75308,
          381.41508,
          395.33784,
          409.5154,
          423.9448,
          438.62676,
          453.56656,
          468.7752,
          484.27028,
          500.07764,
          516.23308,
          532.7848,
          549.7966,
          567.35232,
          585.562
         ]
        },
        {
         "line": {
          "color": "yellow",
          "dash": "dot"
         },
         "mode": "lines",
         "name": "VO+ max",
         "type": "scatter",
         "x": [
          15998.35912245664,
          12988.663305467411,
          10299.02186396835,
          7915.390682342548,
          5861.06622243329,
          4174.402777658848,
          2871.3612658608045,
          1927.8579963968045,
          1286.2483938258515,
          870.9570457683585,
          606.0674791276887,
          434.2012741796275,
          318.929408601672,
          238.31935479781816,
          179.4374905639655,
          135.1094778451221,
          101.42017957873139,
          75.94331926900654,
          56.861815853847226,
          42.68126677591643,
          32.180337658103134,
          24.40053048014557,
          18.61145905650023,
          14.283423550984189,
          11.022668582337507,
          8.548775417861695,
          6.658913410071775,
          5.20604644738522,
          4.082791551768193,
          3.2100627167390825,
          2.528988878561854,
          1.9953839372490993,
          1.57588819854461,
          1.2451729164333216,
          0.9838897526316351,
          0.7771611440891822,
          0.6134666463634257,
          0.48382295558907956,
          0.381179336076748,
          0.2999706691577859,
          0.23578509101505338,
          0.18511400701620198,
          0.14516260093500413,
          0.1137032111743734,
          0.08896121802920476,
          0.06952438567190698,
          0.0542707914512378,
          0.04231081438353461,
          0.03294041470447098,
          0.025603519440280418,
          0.019861747965926914,
          0.01537010695868162,
          0.011857552541960376,
          0.00911146916920322,
          0.0069653239732814795,
          0.005289227868902184
         ],
         "y": [
          96.36432,
          97.69113,
          98.96521,
          100.21858,
          101.49149,
          102.83465,
          104.31025,
          105.99205,
          107.9605,
          110.28514,
          112.99677,
          116.0809,
          119.49435,
          123.18561,
          127.1144,
          131.26863,
          135.66771,
          140.35171,
          145.36669,
          150.75399,
          156.54488,
          162.75891,
          169.4047,
          176.48172,
          183.98288,
          191.89784,
          200.21538,
          208.92486,
          218.01702,
          227.48388,
          237.31828,
          247.51354,
          258.0632,
          268.96082,
          280.19986,
          291.77326,
          303.6734,
          315.89174,
          328.419,
          341.2452,
          354.35996,
          367.75308,
          381.41508,
          395.33784,
          409.5154,
          423.9448,
          438.62676,
          453.56656,
          468.7752,
          484.27028,
          500.07764,
          516.23308,
          532.7848,
          549.7966,
          567.35232,
          585.562
         ]
        }
       ],
       "layout": {
        "height": 750,
        "template": {
         "data": {
          "bar": [
           {
            "error_x": {
             "color": "#2a3f5f"
            },
            "error_y": {
             "color": "#2a3f5f"
            },
            "marker": {
             "line": {
              "color": "#E5ECF6",
              "width": 0.5
             }
            },
            "type": "bar"
           }
          ],
          "barpolar": [
           {
            "marker": {
             "line": {
              "color": "#E5ECF6",
              "width": 0.5
             }
            },
            "type": "barpolar"
           }
          ],
          "carpet": [
           {
            "aaxis": {
             "endlinecolor": "#2a3f5f",
             "gridcolor": "white",
             "linecolor": "white",
             "minorgridcolor": "white",
             "startlinecolor": "#2a3f5f"
            },
            "baxis": {
             "endlinecolor": "#2a3f5f",
             "gridcolor": "white",
             "linecolor": "white",
             "minorgridcolor": "white",
             "startlinecolor": "#2a3f5f"
            },
            "type": "carpet"
           }
          ],
          "choropleth": [
           {
            "colorbar": {
             "outlinewidth": 0,
             "ticks": ""
            },
            "type": "choropleth"
           }
          ],
          "contour": [
           {
            "colorbar": {
             "outlinewidth": 0,
             "ticks": ""
            },
            "colorscale": [
             [
              0,
              "#0d0887"
             ],
             [
              0.1111111111111111,
              "#46039f"
             ],
             [
              0.2222222222222222,
              "#7201a8"
             ],
             [
              0.3333333333333333,
              "#9c179e"
             ],
             [
              0.4444444444444444,
              "#bd3786"
             ],
             [
              0.5555555555555556,
              "#d8576b"
             ],
             [
              0.6666666666666666,
              "#ed7953"
             ],
             [
              0.7777777777777778,
              "#fb9f3a"
             ],
             [
              0.8888888888888888,
              "#fdca26"
             ],
             [
              1,
              "#f0f921"
             ]
            ],
            "type": "contour"
           }
          ],
          "contourcarpet": [
           {
            "colorbar": {
             "outlinewidth": 0,
             "ticks": ""
            },
            "type": "contourcarpet"
           }
          ],
          "heatmap": [
           {
            "colorbar": {
             "outlinewidth": 0,
             "ticks": ""
            },
            "colorscale": [
             [
              0,
              "#0d0887"
             ],
             [
              0.1111111111111111,
              "#46039f"
             ],
             [
              0.2222222222222222,
              "#7201a8"
             ],
             [
              0.3333333333333333,
              "#9c179e"
             ],
             [
              0.4444444444444444,
              "#bd3786"
             ],
             [
              0.5555555555555556,
              "#d8576b"
             ],
             [
              0.6666666666666666,
              "#ed7953"
             ],
             [
              0.7777777777777778,
              "#fb9f3a"
             ],
             [
              0.8888888888888888,
              "#fdca26"
             ],
             [
              1,
              "#f0f921"
             ]
            ],
            "type": "heatmap"
           }
          ],
          "heatmapgl": [
           {
            "colorbar": {
             "outlinewidth": 0,
             "ticks": ""
            },
            "colorscale": [
             [
              0,
              "#0d0887"
             ],
             [
              0.1111111111111111,
              "#46039f"
             ],
             [
              0.2222222222222222,
              "#7201a8"
             ],
             [
              0.3333333333333333,
              "#9c179e"
             ],
             [
              0.4444444444444444,
              "#bd3786"
             ],
             [
              0.5555555555555556,
              "#d8576b"
             ],
             [
              0.6666666666666666,
              "#ed7953"
             ],
             [
              0.7777777777777778,
              "#fb9f3a"
             ],
             [
              0.8888888888888888,
              "#fdca26"
             ],
             [
              1,
              "#f0f921"
             ]
            ],
            "type": "heatmapgl"
           }
          ],
          "histogram": [
           {
            "marker": {
             "colorbar": {
              "outlinewidth": 0,
              "ticks": ""
             }
            },
            "type": "histogram"
           }
          ],
          "histogram2d": [
           {
            "colorbar": {
             "outlinewidth": 0,
             "ticks": ""
            },
            "colorscale": [
             [
              0,
              "#0d0887"
             ],
             [
              0.1111111111111111,
              "#46039f"
             ],
             [
              0.2222222222222222,
              "#7201a8"
             ],
             [
              0.3333333333333333,
              "#9c179e"
             ],
             [
              0.4444444444444444,
              "#bd3786"
             ],
             [
              0.5555555555555556,
              "#d8576b"
             ],
             [
              0.6666666666666666,
              "#ed7953"
             ],
             [
              0.7777777777777778,
              "#fb9f3a"
             ],
             [
              0.8888888888888888,
              "#fdca26"
             ],
             [
              1,
              "#f0f921"
             ]
            ],
            "type": "histogram2d"
           }
          ],
          "histogram2dcontour": [
           {
            "colorbar": {
             "outlinewidth": 0,
             "ticks": ""
            },
            "colorscale": [
             [
              0,
              "#0d0887"
             ],
             [
              0.1111111111111111,
              "#46039f"
             ],
             [
              0.2222222222222222,
              "#7201a8"
             ],
             [
              0.3333333333333333,
              "#9c179e"
             ],
             [
              0.4444444444444444,
              "#bd3786"
             ],
             [
              0.5555555555555556,
              "#d8576b"
             ],
             [
              0.6666666666666666,
              "#ed7953"
             ],
             [
              0.7777777777777778,
              "#fb9f3a"
             ],
             [
              0.8888888888888888,
              "#fdca26"
             ],
             [
              1,
              "#f0f921"
             ]
            ],
            "type": "histogram2dcontour"
           }
          ],
          "mesh3d": [
           {
            "colorbar": {
             "outlinewidth": 0,
             "ticks": ""
            },
            "type": "mesh3d"
           }
          ],
          "parcoords": [
           {
            "line": {
             "colorbar": {
              "outlinewidth": 0,
              "ticks": ""
             }
            },
            "type": "parcoords"
           }
          ],
          "pie": [
           {
            "automargin": true,
            "type": "pie"
           }
          ],
          "scatter": [
           {
            "marker": {
             "colorbar": {
              "outlinewidth": 0,
              "ticks": ""
             }
            },
            "type": "scatter"
           }
          ],
          "scatter3d": [
           {
            "line": {
             "colorbar": {
              "outlinewidth": 0,
              "ticks": ""
             }
            },
            "marker": {
             "colorbar": {
              "outlinewidth": 0,
              "ticks": ""
             }
            },
            "type": "scatter3d"
           }
          ],
          "scattercarpet": [
           {
            "marker": {
             "colorbar": {
              "outlinewidth": 0,
              "ticks": ""
             }
            },
            "type": "scattercarpet"
           }
          ],
          "scattergeo": [
           {
            "marker": {
             "colorbar": {
              "outlinewidth": 0,
              "ticks": ""
             }
            },
            "type": "scattergeo"
           }
          ],
          "scattergl": [
           {
            "marker": {
             "colorbar": {
              "outlinewidth": 0,
              "ticks": ""
             }
            },
            "type": "scattergl"
           }
          ],
          "scattermapbox": [
           {
            "marker": {
             "colorbar": {
              "outlinewidth": 0,
              "ticks": ""
             }
            },
            "type": "scattermapbox"
           }
          ],
          "scatterpolar": [
           {
            "marker": {
             "colorbar": {
              "outlinewidth": 0,
              "ticks": ""
             }
            },
            "type": "scatterpolar"
           }
          ],
          "scatterpolargl": [
           {
            "marker": {
             "colorbar": {
              "outlinewidth": 0,
              "ticks": ""
             }
            },
            "type": "scatterpolargl"
           }
          ],
          "scatterternary": [
           {
            "marker": {
             "colorbar": {
              "outlinewidth": 0,
              "ticks": ""
             }
            },
            "type": "scatterternary"
           }
          ],
          "surface": [
           {
            "colorbar": {
             "outlinewidth": 0,
             "ticks": ""
            },
            "colorscale": [
             [
              0,
              "#0d0887"
             ],
             [
              0.1111111111111111,
              "#46039f"
             ],
             [
              0.2222222222222222,
              "#7201a8"
             ],
             [
              0.3333333333333333,
              "#9c179e"
             ],
             [
              0.4444444444444444,
              "#bd3786"
             ],
             [
              0.5555555555555556,
              "#d8576b"
             ],
             [
              0.6666666666666666,
              "#ed7953"
             ],
             [
              0.7777777777777778,
              "#fb9f3a"
             ],
             [
              0.8888888888888888,
              "#fdca26"
             ],
             [
              1,
              "#f0f921"
             ]
            ],
            "type": "surface"
           }
          ],
          "table": [
           {
            "cells": {
             "fill": {
              "color": "#EBF0F8"
             },
             "line": {
              "color": "white"
             }
            },
            "header": {
             "fill": {
              "color": "#C8D4E3"
             },
             "line": {
              "color": "white"
             }
            },
            "type": "table"
           }
          ]
         },
         "layout": {
          "annotationdefaults": {
           "arrowcolor": "#2a3f5f",
           "arrowhead": 0,
           "arrowwidth": 1
          },
          "coloraxis": {
           "colorbar": {
            "outlinewidth": 0,
            "ticks": ""
           }
          },
          "colorscale": {
           "diverging": [
            [
             0,
             "#8e0152"
            ],
            [
             0.1,
             "#c51b7d"
            ],
            [
             0.2,
             "#de77ae"
            ],
            [
             0.3,
             "#f1b6da"
            ],
            [
             0.4,
             "#fde0ef"
            ],
            [
             0.5,
             "#f7f7f7"
            ],
            [
             0.6,
             "#e6f5d0"
            ],
            [
             0.7,
             "#b8e186"
            ],
            [
             0.8,
             "#7fbc41"
            ],
            [
             0.9,
             "#4d9221"
            ],
            [
             1,
             "#276419"
            ]
           ],
           "sequential": [
            [
             0,
             "#0d0887"
            ],
            [
             0.1111111111111111,
             "#46039f"
            ],
            [
             0.2222222222222222,
             "#7201a8"
            ],
            [
             0.3333333333333333,
             "#9c179e"
            ],
            [
             0.4444444444444444,
             "#bd3786"
            ],
            [
             0.5555555555555556,
             "#d8576b"
            ],
            [
             0.6666666666666666,
             "#ed7953"
            ],
            [
             0.7777777777777778,
             "#fb9f3a"
            ],
            [
             0.8888888888888888,
             "#fdca26"
            ],
            [
             1,
             "#f0f921"
            ]
           ],
           "sequentialminus": [
            [
             0,
             "#0d0887"
            ],
            [
             0.1111111111111111,
             "#46039f"
            ],
            [
             0.2222222222222222,
             "#7201a8"
            ],
            [
             0.3333333333333333,
             "#9c179e"
            ],
            [
             0.4444444444444444,
             "#bd3786"
            ],
            [
             0.5555555555555556,
             "#d8576b"
            ],
            [
             0.6666666666666666,
             "#ed7953"
            ],
            [
             0.7777777777777778,
             "#fb9f3a"
            ],
            [
             0.8888888888888888,
             "#fdca26"
            ],
            [
             1,
             "#f0f921"
            ]
           ]
          },
          "colorway": [
           "#636efa",
           "#EF553B",
           "#00cc96",
           "#ab63fa",
           "#FFA15A",
           "#19d3f3",
           "#FF6692",
           "#B6E880",
           "#FF97FF",
           "#FECB52"
          ],
          "font": {
           "color": "#2a3f5f"
          },
          "geo": {
           "bgcolor": "white",
           "lakecolor": "white",
           "landcolor": "#E5ECF6",
           "showlakes": true,
           "showland": true,
           "subunitcolor": "white"
          },
          "hoverlabel": {
           "align": "left"
          },
          "hovermode": "closest",
          "mapbox": {
           "style": "light"
          },
          "paper_bgcolor": "white",
          "plot_bgcolor": "#E5ECF6",
          "polar": {
           "angularaxis": {
            "gridcolor": "white",
            "linecolor": "white",
            "ticks": ""
           },
           "bgcolor": "#E5ECF6",
           "radialaxis": {
            "gridcolor": "white",
            "linecolor": "white",
            "ticks": ""
           }
          },
          "scene": {
           "xaxis": {
            "backgroundcolor": "#E5ECF6",
            "gridcolor": "white",
            "gridwidth": 2,
            "linecolor": "white",
            "showbackground": true,
            "ticks": "",
            "zerolinecolor": "white"
           },
           "yaxis": {
            "backgroundcolor": "#E5ECF6",
            "gridcolor": "white",
            "gridwidth": 2,
            "linecolor": "white",
            "showbackground": true,
            "ticks": "",
            "zerolinecolor": "white"
           },
           "zaxis": {
            "backgroundcolor": "#E5ECF6",
            "gridcolor": "white",
            "gridwidth": 2,
            "linecolor": "white",
            "showbackground": true,
            "ticks": "",
            "zerolinecolor": "white"
           }
          },
          "shapedefaults": {
           "line": {
            "color": "#2a3f5f"
           }
          },
          "ternary": {
           "aaxis": {
            "gridcolor": "white",
            "linecolor": "white",
            "ticks": ""
           },
           "baxis": {
            "gridcolor": "white",
            "linecolor": "white",
            "ticks": ""
           },
           "bgcolor": "#E5ECF6",
           "caxis": {
            "gridcolor": "white",
            "linecolor": "white",
            "ticks": ""
           }
          },
          "title": {
           "x": 0.05
          },
          "xaxis": {
           "automargin": true,
           "gridcolor": "white",
           "linecolor": "white",
           "ticks": "",
           "title": {
            "standoff": 15
           },
           "zerolinecolor": "white",
           "zerolinewidth": 2
          },
          "yaxis": {
           "automargin": true,
           "gridcolor": "white",
           "linecolor": "white",
           "ticks": "",
           "title": {
            "standoff": 15
           },
           "zerolinecolor": "white",
           "zerolinewidth": 2
          }
         }
        },
        "title": {
         "text": "Conductivities ,Lat: -83.75, Lon: -175.0, 2015-03-15 00:05:00",
         "x": 0.5,
         "xanchor": "center",
         "y": 0.9,
         "yanchor": "top"
        },
        "width": 750,
        "xaxis": {
         "exponentformat": "power",
         "gridcolor": "grey",
         "gridwidth": 0.5,
         "linecolor": "black",
         "linewidth": 2,
         "mirror": true,
         "showexponent": "all",
         "showgrid": true,
         "showline": true,
         "title": {
          "text": "Collisions sec^(-1)"
         },
         "type": "log"
        },
        "yaxis": {
         "dtick": 20,
         "gridcolor": "grey",
         "gridwidth": 0.5,
         "linecolor": "black",
         "linewidth": 2,
         "mirror": true,
         "showgrid": true,
         "showline": true,
         "tick0": 60,
         "title": {
          "text": "Altitude (km)"
         }
        }
       }
      },
      "text/html": [
       "<div>\n",
       "        \n",
       "        \n",
       "            <div id=\"9d84e5bf-b7f8-4cef-971c-2c4604e211b2\" class=\"plotly-graph-div\" style=\"height:750px; width:750px;\"></div>\n",
       "            <script type=\"text/javascript\">\n",
       "                require([\"plotly\"], function(Plotly) {\n",
       "                    window.PLOTLYENV=window.PLOTLYENV || {};\n",
       "                    \n",
       "                if (document.getElementById(\"9d84e5bf-b7f8-4cef-971c-2c4604e211b2\")) {\n",
       "                    Plotly.newPlot(\n",
       "                        '9d84e5bf-b7f8-4cef-971c-2c4604e211b2',\n",
       "                        [{\"line\": {\"color\": \"orange\"}, \"mode\": \"lines\", \"name\": \"Ve\", \"type\": \"scatter\", \"x\": [88239.47033410447, 68891.47728034902, 53667.16597176581, 41676.765300557694, 32243.529165593725, 24846.572347862828, 19077.043690053364, 14607.227539046284, 11172.413666321001, 8553.66528407478, 6565.6127431754285, 5055.17024253432, 3903.468928904494, 3022.097231641143, 2345.396029498541, 1823.9878613788276, 1421.041144506114, 1109.8928182496284, 871.5164543025403, 691.2394009350365, 555.4801354759068, 450.8304383518924, 366.4982055678466, 296.87027627003425, 238.45639664883345, 189.08445829650174, 147.9513836183, 114.43430324066865, 87.6506358288991, 66.76964231847104, 50.69925215002101, 38.41912649427087, 29.075257725190447, 21.986008380171878, 16.619253781106526, 12.563911048982215, 9.50403900777102, 7.197642514754215, 5.45997103980095, 4.150497036157136, 3.16277282316228, 2.4165049240734726, 1.85137100824116, 1.4221977779089032, 1.0952378525273845, 0.8453059456647412, 0.6536046329311798, 0.5060842425055655, 0.39221721703210854, 0.3040879838237565, 0.23572056967485058, 0.18258322530768098, 0.1412237184412935, 0.10900031816977038, 0.08388314848307007, 0.06430661916011558], \"y\": [96.36432, 97.69113, 98.96521, 100.21858, 101.49149, 102.83465, 104.31025, 105.99205, 107.9605, 110.28514, 112.99677, 116.0809, 119.49435, 123.18561, 127.1144, 131.26863, 135.66771, 140.35171, 145.36669, 150.75399, 156.54488, 162.75891, 169.4047, 176.48172, 183.98288, 191.89784, 200.21538, 208.92486, 218.01702, 227.48388, 237.31828, 247.51354, 258.0632, 268.96082, 280.19986, 291.77326, 303.6734, 315.89174, 328.419, 341.2452, 354.35996, 367.75308, 381.41508, 395.33784, 409.5154, 423.9448, 438.62676, 453.56656, 468.7752, 484.27028, 500.07764, 516.23308, 532.7848, 549.7966, 567.35232, 585.562]}, {\"line\": {\"color\": \"orange\", \"dash\": \"dot\"}, \"mode\": \"lines\", \"name\": \"Ve min\", \"type\": \"scatter\", \"x\": [82779.63292896409, 64632.20626994102, 50349.3155031849, 39097.60841449589, 30243.62532318809, 23300.119417047612, 17884.635069840897, 13690.251525994878, 10468.499558529338, 8013.374200862183, 6150.282139943261, 4735.167386713196, 3656.333489362073, 2830.8161659944735, 2197.0634349919305, 1708.802794384314, 1331.5166385097307, 1040.2148510351328, 817.0688852395145, 648.3391992645002, 521.3107833816186, 423.4175397525586, 344.527245540937, 279.3664784325053, 224.65266767951272, 178.34327674453155, 139.69843745394962, 108.15694587287375, 82.91223622227182, 63.205579011714555, 48.021512870729325, 36.40616150433251, 27.559061918949062, 20.84031207819773, 15.749775198738023, 11.900625906229278, 8.99515444437484, 6.804943448668202, 5.155261620030007, 3.9129149743870406, 2.976793821945177, 2.270483942308095, 1.7364899861165108, 1.3317136171244965, 1.0239460801532032, 0.7891570031408556, 0.6094265973413082, 0.4713798836500132, 0.3650131560325463, 0.28282084761076165, 0.21914984192211215, 0.16972372109627998, 0.13129275765034537, 0.10137610136153903, 0.07807177098372561, 0.05991584062487456], \"y\": [96.36432, 97.69113, 98.96521, 100.21858, 101.49149, 102.83465, 104.31025, 105.99205, 107.9605, 110.28514, 112.99677, 116.0809, 119.49435, 123.18561, 127.1144, 131.26863, 135.66771, 140.35171, 145.36669, 150.75399, 156.54488, 162.75891, 169.4047, 176.48172, 183.98288, 191.89784, 200.21538, 208.92486, 218.01702, 227.48388, 237.31828, 247.51354, 258.0632, 268.96082, 280.19986, 291.77326, 303.6734, 315.89174, 328.419, 341.2452, 354.35996, 367.75308, 381.41508, 395.33784, 409.5154, 423.9448, 438.62676, 453.56656, 468.7752, 484.27028, 500.07764, 516.23308, 532.7848, 549.7966, 567.35232, 585.562]}, {\"line\": {\"color\": \"orange\", \"dash\": \"dot\"}, \"mode\": \"lines\", \"name\": \"Ve max\", \"type\": \"scatter\", \"x\": [93699.30773924485, 73150.74829075701, 56985.01644034672, 44255.9221866195, 34243.43300799936, 26393.025278678044, 20269.45231026583, 15524.20355209769, 11876.327774112664, 9093.956367287376, 6980.9433464075955, 5375.173098355444, 4150.604368446915, 3213.3782972878125, 2493.7286240051512, 1939.1729283733412, 1510.5656505024974, 1179.570785464124, 925.964023365566, 734.1396026055729, 589.6494875701949, 478.2433369512262, 388.4691655947562, 314.3740741075632, 252.26012561815418, 199.82563984847192, 156.2043297826504, 120.71166060846356, 92.38903543552638, 70.33370562522754, 53.376991429312696, 40.43209148420923, 30.59145353143183, 23.131704682146026, 17.488732363475027, 13.227196191735151, 10.0129235711672, 7.590341580840229, 5.764680459571894, 4.388079097927231, 3.348751824379383, 2.56252590583885, 1.9662520303658093, 1.51268193869331, 1.1665296249015658, 0.9014548881886267, 0.6977826685210513, 0.5407886013611178, 0.4194212780316708, 0.3253551200367514, 0.25229129742758905, 0.19544272951908198, 0.15115467923224163, 0.11662453497800172, 0.08969452598241454, 0.06869739769535661], \"y\": [96.36432, 97.69113, 98.96521, 100.21858, 101.49149, 102.83465, 104.31025, 105.99205, 107.9605, 110.28514, 112.99677, 116.0809, 119.49435, 123.18561, 127.1144, 131.26863, 135.66771, 140.35171, 145.36669, 150.75399, 156.54488, 162.75891, 169.4047, 176.48172, 183.98288, 191.89784, 200.21538, 208.92486, 218.01702, 227.48388, 237.31828, 247.51354, 258.0632, 268.96082, 280.19986, 291.77326, 303.6734, 315.89174, 328.419, 341.2452, 354.35996, 367.75308, 381.41508, 395.33784, 409.5154, 423.9448, 438.62676, 453.56656, 468.7752, 484.27028, 500.07764, 516.23308, 532.7848, 549.7966, 567.35232, 585.562]}, {\"line\": {\"color\": \"cyan\"}, \"mode\": \"lines\", \"name\": \"VO2+\", \"type\": \"scatter\", \"x\": [8527.430601511353, 6908.18504531887, 5473.434831761244, 4210.534054183966, 3126.270804834349, 2236.031441812019, 1545.5647052141562, 1042.0814989936232, 696.6703820454735, 471.08636210930024, 326.12372392375664, 231.59183600359785, 168.0648142656869, 123.76083607447403, 91.65324738385627, 67.74562697155366, 49.7944919426045, 36.39643594639188, 26.511304755340234, 19.294788166949218, 14.062896776239374, 10.281129146564659, 7.546502815158594, 5.563866658687404, 4.119851135644867, 3.0626622128366643, 2.2846519257615707, 1.7093543844126349, 1.282189269747068, 0.9639255437158727, 0.7261099939382744, 0.547955723065565, 0.4141982363227987, 0.3135775529069248, 0.237753508745903, 0.1805262174668572, 0.13727178299477433, 0.104532308501807, 0.07971621467861406, 0.06087798157632407, 0.046555278901062605, 0.03564788311959921, 0.027327371730688832, 0.020969370734280752, 0.016102844952225675, 0.012371940159897269, 0.009507407850137624, 0.007305148650164047, 0.005610129824835818, 0.004304334475832596, 0.003297724680938227, 0.002521456865995431, 0.001922783884701039, 0.0014612118007824822, 0.0011055999837655604, 0.0008319648338075562], \"y\": [96.36432, 97.69113, 98.96521, 100.21858, 101.49149, 102.83465, 104.31025, 105.99205, 107.9605, 110.28514, 112.99677, 116.0809, 119.49435, 123.18561, 127.1144, 131.26863, 135.66771, 140.35171, 145.36669, 150.75399, 156.54488, 162.75891, 169.4047, 176.48172, 183.98288, 191.89784, 200.21538, 208.92486, 218.01702, 227.48388, 237.31828, 247.51354, 258.0632, 268.96082, 280.19986, 291.77326, 303.6734, 315.89174, 328.419, 341.2452, 354.35996, 367.75308, 381.41508, 395.33784, 409.5154, 423.9448, 438.62676, 453.56656, 468.7752, 484.27028, 500.07764, 516.23308, 532.7848, 549.7966, 567.35232, 585.562]}, {\"line\": {\"color\": \"cyan\", \"dash\": \"dot\"}, \"mode\": \"lines\", \"name\": \"VO2+ min\", \"type\": \"scatter\", \"x\": [8154.150355837473, 6605.297353517031, 5233.350171910734, 4026.042796062624, 2989.673285521326, 2138.7798574582307, 1478.759699046976, 997.3720893389822, 667.0176489500665, 451.18886238249974, 312.44509847941606, 221.94019034380196, 161.10338173065657, 118.66579881376173, 87.90431271892966, 64.99444184979772, 47.788949912148084, 34.944416427933405, 25.465014737254617, 18.542360932188398, 13.521536511722198, 9.890718152666649, 7.263952892052055, 5.358521630634791, 3.969963675738181, 2.9527823036162455, 2.203757573375871, 1.6495422792432664, 1.2377632070624087, 0.9307621080695733, 0.7012159862503831, 0.529155105884361, 0.39990759514681923, 0.30264366047073593, 0.22933508770742134, 0.17400761757895325, 0.13220007367544068, 0.10057170030281927, 0.07661532844128591, 0.05844656046809203, 0.04464773103462511, 0.03415167433200911, 0.026154794448187434, 0.020051641895356066, 0.015385797155485109, 0.011812815241901753, 0.00907242092114638, 0.00696760648380222, 0.0053489579829850255, 0.004102913777178694, 0.003142967176521939, 0.0024030702890852048, 0.0018326857649773186, 0.00139306326036974, 0.0010544352290161206, 0.0007938972399488856], \"y\": [96.36432, 97.69113, 98.96521, 100.21858, 101.49149, 102.83465, 104.31025, 105.99205, 107.9605, 110.28514, 112.99677, 116.0809, 119.49435, 123.18561, 127.1144, 131.26863, 135.66771, 140.35171, 145.36669, 150.75399, 156.54488, 162.75891, 169.4047, 176.48172, 183.98288, 191.89784, 200.21538, 208.92486, 218.01702, 227.48388, 237.31828, 247.51354, 258.0632, 268.96082, 280.19986, 291.77326, 303.6734, 315.89174, 328.419, 341.2452, 354.35996, 367.75308, 381.41508, 395.33784, 409.5154, 423.9448, 438.62676, 453.56656, 468.7752, 484.27028, 500.07764, 516.23308, 532.7848, 549.7966, 567.35232, 585.562]}, {\"line\": {\"color\": \"cyan\", \"dash\": \"dot\"}, \"mode\": \"lines\", \"name\": \"VO2+ max\", \"type\": \"scatter\", \"x\": [8900.710847185232, 7211.072737120709, 5713.519491611753, 4395.025312305308, 3262.868324147372, 2333.283026165807, 1612.3697113813364, 1086.7909086482643, 726.3231151408805, 490.98386183610074, 339.8023493680972, 241.24348166339374, 175.02624680071722, 128.85587333518632, 95.40218204878288, 70.4968120933096, 51.80003397306092, 37.84845546485036, 27.55759477342585, 20.047215401710037, 14.604257040756549, 10.67154014046267, 7.829052738265133, 5.769211686740017, 4.269738595551552, 3.172542122057083, 2.3655462781472703, 1.7691664895820034, 1.3266153324317274, 0.9970889793621721, 0.7510040016261657, 0.5667563402467689, 0.4284888774987781, 0.32451144534311366, 0.24617192978438468, 0.18704481735476117, 0.14234349231410798, 0.10849291670079474, 0.08281710091594222, 0.06330940268455611, 0.0484628267675001, 0.037144091907189314, 0.02849994901319023, 0.021887099573205438, 0.016819892748966243, 0.012931065077892785, 0.009942394779128868, 0.0076426908165258736, 0.00587130166668661, 0.004505755174486498, 0.003452482185354515, 0.002639843442905657, 0.0020128820044247593, 0.0015293603411952244, 0.0011567647385150003, 0.0008700324276662268], \"y\": [96.36432, 97.69113, 98.96521, 100.21858, 101.49149, 102.83465, 104.31025, 105.99205, 107.9605, 110.28514, 112.99677, 116.0809, 119.49435, 123.18561, 127.1144, 131.26863, 135.66771, 140.35171, 145.36669, 150.75399, 156.54488, 162.75891, 169.4047, 176.48172, 183.98288, 191.89784, 200.21538, 208.92486, 218.01702, 227.48388, 237.31828, 247.51354, 258.0632, 268.96082, 280.19986, 291.77326, 303.6734, 315.89174, 328.419, 341.2452, 354.35996, 367.75308, 381.41508, 395.33784, 409.5154, 423.9448, 438.62676, 453.56656, 468.7752, 484.27028, 500.07764, 516.23308, 532.7848, 549.7966, 567.35232, 585.562]}, {\"line\": {\"color\": \"yellow\"}, \"mode\": \"lines\", \"name\": \"VO+\", \"type\": \"scatter\", \"x\": [15369.908527748, 12478.629722368278, 9894.820592874941, 7604.991885833562, 5631.523376825705, 4011.258222808457, 2759.5214151215173, 1853.160239465715, 1236.7809168629265, 837.7784192032836, 583.2355596554944, 418.04624625084887, 307.2209855607745, 229.68953458686832, 173.0278053714363, 130.3479735357237, 97.89341013089529, 73.3360811485787, 54.93173972834738, 41.245266377422126, 31.103338925838116, 23.584741907619275, 17.987039131731006, 13.800406528550642, 10.645448250315852, 8.251674090028832, 6.4232179715022335, 5.01794611026172, 3.931960535405199, 3.0886806809504037, 2.431062272685767, 1.9162671088571908, 1.5119397852931897, 1.1935075362027392, 0.9421978728569412, 0.7435779256482957, 0.5864758853597521, 0.4621859812425952, 0.3638815462296844, 0.28618048105014876, 0.224821654348527, 0.17642122383365202, 0.1382877663878559, 0.10827922036488827, 0.08469160251290006, 0.06617071426798639, 0.05164206855673866, 0.04025460783162488, 0.03133547852886574, 0.024353701779227268, 0.01889099630690935, 0.014618400732144403, 0.011277610477296965, 0.008666098710941306, 0.00662529757605827, 0.005031569913801302], \"y\": [96.36432, 97.69113, 98.96521, 100.21858, 101.49149, 102.83465, 104.31025, 105.99205, 107.9605, 110.28514, 112.99677, 116.0809, 119.49435, 123.18561, 127.1144, 131.26863, 135.66771, 140.35171, 145.36669, 150.75399, 156.54488, 162.75891, 169.4047, 176.48172, 183.98288, 191.89784, 200.21538, 208.92486, 218.01702, 227.48388, 237.31828, 247.51354, 258.0632, 268.96082, 280.19986, 291.77326, 303.6734, 315.89174, 328.419, 341.2452, 354.35996, 367.75308, 381.41508, 395.33784, 409.5154, 423.9448, 438.62676, 453.56656, 468.7752, 484.27028, 500.07764, 516.23308, 532.7848, 549.7966, 567.35232, 585.562]}, {\"line\": {\"color\": \"yellow\", \"dash\": \"dot\"}, \"mode\": \"lines\", \"name\": \"VO+ min\", \"type\": \"scatter\", \"x\": [14741.45793303936, 11968.596139269144, 9490.619321781533, 7294.593089324577, 5401.98053121812, 3848.113667958066, 2647.68156438223, 1778.4624825346255, 1187.3134399000014, 804.5997926382088, 560.4036401833001, 401.89121832207024, 295.51256251987706, 221.05971437591847, 166.6181201789071, 125.5864692263253, 94.36664068305919, 70.72884302815086, 53.001663602847536, 39.809265978927826, 30.0263401935731, 22.76895333509298, 17.36261920696178, 13.317389506117095, 10.268227918294196, 7.954572762195968, 6.187522532932692, 4.82984577313822, 3.7811295190422043, 2.967298645161725, 2.3331356668096803, 1.8371502804652822, 1.4479913720417694, 1.1418421559721568, 0.9005059930822473, 0.7099947072074092, 0.5594851243560786, 0.4405490068961108, 0.3465837563826208, 0.2723902929425116, 0.2138582176820006, 0.16772844065110207, 0.13141293184070765, 0.10285522955540313, 0.08042198699659536, 0.0628170428640658, 0.04901334566223952, 0.03819840127971515, 0.0297305423532605, 0.023103884118174118, 0.017920244647891784, 0.013866694505607185, 0.010697668412633553, 0.008220728252679393, 0.006285271178835061, 0.004773911958700419], \"y\": [96.36432, 97.69113, 98.96521, 100.21858, 101.49149, 102.83465, 104.31025, 105.99205, 107.9605, 110.28514, 112.99677, 116.0809, 119.49435, 123.18561, 127.1144, 131.26863, 135.66771, 140.35171, 145.36669, 150.75399, 156.54488, 162.75891, 169.4047, 176.48172, 183.98288, 191.89784, 200.21538, 208.92486, 218.01702, 227.48388, 237.31828, 247.51354, 258.0632, 268.96082, 280.19986, 291.77326, 303.6734, 315.89174, 328.419, 341.2452, 354.35996, 367.75308, 381.41508, 395.33784, 409.5154, 423.9448, 438.62676, 453.56656, 468.7752, 484.27028, 500.07764, 516.23308, 532.7848, 549.7966, 567.35232, 585.562]}, {\"line\": {\"color\": \"yellow\", \"dash\": \"dot\"}, \"mode\": \"lines\", \"name\": \"VO+ max\", \"type\": \"scatter\", \"x\": [15998.35912245664, 12988.663305467411, 10299.02186396835, 7915.390682342548, 5861.06622243329, 4174.402777658848, 2871.3612658608045, 1927.8579963968045, 1286.2483938258515, 870.9570457683585, 606.0674791276887, 434.2012741796275, 318.929408601672, 238.31935479781816, 179.4374905639655, 135.1094778451221, 101.42017957873139, 75.94331926900654, 56.861815853847226, 42.68126677591643, 32.180337658103134, 24.40053048014557, 18.61145905650023, 14.283423550984189, 11.022668582337507, 8.548775417861695, 6.658913410071775, 5.20604644738522, 4.082791551768193, 3.2100627167390825, 2.528988878561854, 1.9953839372490993, 1.57588819854461, 1.2451729164333216, 0.9838897526316351, 0.7771611440891822, 0.6134666463634257, 0.48382295558907956, 0.381179336076748, 0.2999706691577859, 0.23578509101505338, 0.18511400701620198, 0.14516260093500413, 0.1137032111743734, 0.08896121802920476, 0.06952438567190698, 0.0542707914512378, 0.04231081438353461, 0.03294041470447098, 0.025603519440280418, 0.019861747965926914, 0.01537010695868162, 0.011857552541960376, 0.00911146916920322, 0.0069653239732814795, 0.005289227868902184], \"y\": [96.36432, 97.69113, 98.96521, 100.21858, 101.49149, 102.83465, 104.31025, 105.99205, 107.9605, 110.28514, 112.99677, 116.0809, 119.49435, 123.18561, 127.1144, 131.26863, 135.66771, 140.35171, 145.36669, 150.75399, 156.54488, 162.75891, 169.4047, 176.48172, 183.98288, 191.89784, 200.21538, 208.92486, 218.01702, 227.48388, 237.31828, 247.51354, 258.0632, 268.96082, 280.19986, 291.77326, 303.6734, 315.89174, 328.419, 341.2452, 354.35996, 367.75308, 381.41508, 395.33784, 409.5154, 423.9448, 438.62676, 453.56656, 468.7752, 484.27028, 500.07764, 516.23308, 532.7848, 549.7966, 567.35232, 585.562]}],\n",
       "                        {\"height\": 750, \"template\": {\"data\": {\"bar\": [{\"error_x\": {\"color\": \"#2a3f5f\"}, \"error_y\": {\"color\": \"#2a3f5f\"}, \"marker\": {\"line\": {\"color\": \"#E5ECF6\", \"width\": 0.5}}, \"type\": \"bar\"}], \"barpolar\": [{\"marker\": {\"line\": {\"color\": \"#E5ECF6\", \"width\": 0.5}}, \"type\": \"barpolar\"}], \"carpet\": [{\"aaxis\": {\"endlinecolor\": \"#2a3f5f\", \"gridcolor\": \"white\", \"linecolor\": \"white\", \"minorgridcolor\": \"white\", \"startlinecolor\": \"#2a3f5f\"}, \"baxis\": {\"endlinecolor\": \"#2a3f5f\", \"gridcolor\": \"white\", \"linecolor\": \"white\", \"minorgridcolor\": \"white\", \"startlinecolor\": \"#2a3f5f\"}, \"type\": \"carpet\"}], \"choropleth\": [{\"colorbar\": {\"outlinewidth\": 0, \"ticks\": \"\"}, \"type\": \"choropleth\"}], \"contour\": [{\"colorbar\": {\"outlinewidth\": 0, \"ticks\": \"\"}, \"colorscale\": [[0.0, \"#0d0887\"], [0.1111111111111111, \"#46039f\"], [0.2222222222222222, \"#7201a8\"], [0.3333333333333333, \"#9c179e\"], [0.4444444444444444, \"#bd3786\"], [0.5555555555555556, \"#d8576b\"], [0.6666666666666666, \"#ed7953\"], [0.7777777777777778, \"#fb9f3a\"], [0.8888888888888888, \"#fdca26\"], [1.0, \"#f0f921\"]], \"type\": \"contour\"}], \"contourcarpet\": [{\"colorbar\": {\"outlinewidth\": 0, \"ticks\": \"\"}, \"type\": \"contourcarpet\"}], \"heatmap\": [{\"colorbar\": {\"outlinewidth\": 0, \"ticks\": \"\"}, \"colorscale\": [[0.0, \"#0d0887\"], [0.1111111111111111, \"#46039f\"], [0.2222222222222222, \"#7201a8\"], [0.3333333333333333, \"#9c179e\"], [0.4444444444444444, \"#bd3786\"], [0.5555555555555556, \"#d8576b\"], [0.6666666666666666, \"#ed7953\"], [0.7777777777777778, \"#fb9f3a\"], [0.8888888888888888, \"#fdca26\"], [1.0, \"#f0f921\"]], \"type\": \"heatmap\"}], \"heatmapgl\": [{\"colorbar\": {\"outlinewidth\": 0, \"ticks\": \"\"}, \"colorscale\": [[0.0, \"#0d0887\"], [0.1111111111111111, \"#46039f\"], [0.2222222222222222, \"#7201a8\"], [0.3333333333333333, \"#9c179e\"], [0.4444444444444444, \"#bd3786\"], [0.5555555555555556, \"#d8576b\"], [0.6666666666666666, \"#ed7953\"], [0.7777777777777778, \"#fb9f3a\"], [0.8888888888888888, \"#fdca26\"], [1.0, \"#f0f921\"]], \"type\": \"heatmapgl\"}], \"histogram\": [{\"marker\": {\"colorbar\": {\"outlinewidth\": 0, \"ticks\": \"\"}}, \"type\": \"histogram\"}], \"histogram2d\": [{\"colorbar\": {\"outlinewidth\": 0, \"ticks\": \"\"}, \"colorscale\": [[0.0, \"#0d0887\"], [0.1111111111111111, \"#46039f\"], [0.2222222222222222, \"#7201a8\"], [0.3333333333333333, \"#9c179e\"], [0.4444444444444444, \"#bd3786\"], [0.5555555555555556, \"#d8576b\"], [0.6666666666666666, \"#ed7953\"], [0.7777777777777778, \"#fb9f3a\"], [0.8888888888888888, \"#fdca26\"], [1.0, \"#f0f921\"]], \"type\": \"histogram2d\"}], \"histogram2dcontour\": [{\"colorbar\": {\"outlinewidth\": 0, \"ticks\": \"\"}, \"colorscale\": [[0.0, \"#0d0887\"], [0.1111111111111111, \"#46039f\"], [0.2222222222222222, \"#7201a8\"], [0.3333333333333333, \"#9c179e\"], [0.4444444444444444, \"#bd3786\"], [0.5555555555555556, \"#d8576b\"], [0.6666666666666666, \"#ed7953\"], [0.7777777777777778, \"#fb9f3a\"], [0.8888888888888888, \"#fdca26\"], [1.0, \"#f0f921\"]], \"type\": \"histogram2dcontour\"}], \"mesh3d\": [{\"colorbar\": {\"outlinewidth\": 0, \"ticks\": \"\"}, \"type\": \"mesh3d\"}], \"parcoords\": [{\"line\": {\"colorbar\": {\"outlinewidth\": 0, \"ticks\": \"\"}}, \"type\": \"parcoords\"}], \"pie\": [{\"automargin\": true, \"type\": \"pie\"}], \"scatter\": [{\"marker\": {\"colorbar\": {\"outlinewidth\": 0, \"ticks\": \"\"}}, \"type\": \"scatter\"}], \"scatter3d\": [{\"line\": {\"colorbar\": {\"outlinewidth\": 0, \"ticks\": \"\"}}, \"marker\": {\"colorbar\": {\"outlinewidth\": 0, \"ticks\": \"\"}}, \"type\": \"scatter3d\"}], \"scattercarpet\": [{\"marker\": {\"colorbar\": {\"outlinewidth\": 0, \"ticks\": \"\"}}, \"type\": \"scattercarpet\"}], \"scattergeo\": [{\"marker\": {\"colorbar\": {\"outlinewidth\": 0, \"ticks\": \"\"}}, \"type\": \"scattergeo\"}], \"scattergl\": [{\"marker\": {\"colorbar\": {\"outlinewidth\": 0, \"ticks\": \"\"}}, \"type\": \"scattergl\"}], \"scattermapbox\": [{\"marker\": {\"colorbar\": {\"outlinewidth\": 0, \"ticks\": \"\"}}, \"type\": \"scattermapbox\"}], \"scatterpolar\": [{\"marker\": {\"colorbar\": {\"outlinewidth\": 0, \"ticks\": \"\"}}, \"type\": \"scatterpolar\"}], \"scatterpolargl\": [{\"marker\": {\"colorbar\": {\"outlinewidth\": 0, \"ticks\": \"\"}}, \"type\": \"scatterpolargl\"}], \"scatterternary\": [{\"marker\": {\"colorbar\": {\"outlinewidth\": 0, \"ticks\": \"\"}}, \"type\": \"scatterternary\"}], \"surface\": [{\"colorbar\": {\"outlinewidth\": 0, \"ticks\": \"\"}, \"colorscale\": [[0.0, \"#0d0887\"], [0.1111111111111111, \"#46039f\"], [0.2222222222222222, \"#7201a8\"], [0.3333333333333333, \"#9c179e\"], [0.4444444444444444, \"#bd3786\"], [0.5555555555555556, \"#d8576b\"], [0.6666666666666666, \"#ed7953\"], [0.7777777777777778, \"#fb9f3a\"], [0.8888888888888888, \"#fdca26\"], [1.0, \"#f0f921\"]], \"type\": \"surface\"}], \"table\": [{\"cells\": {\"fill\": {\"color\": \"#EBF0F8\"}, \"line\": {\"color\": \"white\"}}, \"header\": {\"fill\": {\"color\": \"#C8D4E3\"}, \"line\": {\"color\": \"white\"}}, \"type\": \"table\"}]}, \"layout\": {\"annotationdefaults\": {\"arrowcolor\": \"#2a3f5f\", \"arrowhead\": 0, \"arrowwidth\": 1}, \"coloraxis\": {\"colorbar\": {\"outlinewidth\": 0, \"ticks\": \"\"}}, \"colorscale\": {\"diverging\": [[0, \"#8e0152\"], [0.1, \"#c51b7d\"], [0.2, \"#de77ae\"], [0.3, \"#f1b6da\"], [0.4, \"#fde0ef\"], [0.5, \"#f7f7f7\"], [0.6, \"#e6f5d0\"], [0.7, \"#b8e186\"], [0.8, \"#7fbc41\"], [0.9, \"#4d9221\"], [1, \"#276419\"]], \"sequential\": [[0.0, \"#0d0887\"], [0.1111111111111111, \"#46039f\"], [0.2222222222222222, \"#7201a8\"], [0.3333333333333333, \"#9c179e\"], [0.4444444444444444, \"#bd3786\"], [0.5555555555555556, \"#d8576b\"], [0.6666666666666666, \"#ed7953\"], [0.7777777777777778, \"#fb9f3a\"], [0.8888888888888888, \"#fdca26\"], [1.0, \"#f0f921\"]], \"sequentialminus\": [[0.0, \"#0d0887\"], [0.1111111111111111, \"#46039f\"], [0.2222222222222222, \"#7201a8\"], [0.3333333333333333, \"#9c179e\"], [0.4444444444444444, \"#bd3786\"], [0.5555555555555556, \"#d8576b\"], [0.6666666666666666, \"#ed7953\"], [0.7777777777777778, \"#fb9f3a\"], [0.8888888888888888, \"#fdca26\"], [1.0, \"#f0f921\"]]}, \"colorway\": [\"#636efa\", \"#EF553B\", \"#00cc96\", \"#ab63fa\", \"#FFA15A\", \"#19d3f3\", \"#FF6692\", \"#B6E880\", \"#FF97FF\", \"#FECB52\"], \"font\": {\"color\": \"#2a3f5f\"}, \"geo\": {\"bgcolor\": \"white\", \"lakecolor\": \"white\", \"landcolor\": \"#E5ECF6\", \"showlakes\": true, \"showland\": true, \"subunitcolor\": \"white\"}, \"hoverlabel\": {\"align\": \"left\"}, \"hovermode\": \"closest\", \"mapbox\": {\"style\": \"light\"}, \"paper_bgcolor\": \"white\", \"plot_bgcolor\": \"#E5ECF6\", \"polar\": {\"angularaxis\": {\"gridcolor\": \"white\", \"linecolor\": \"white\", \"ticks\": \"\"}, \"bgcolor\": \"#E5ECF6\", \"radialaxis\": {\"gridcolor\": \"white\", \"linecolor\": \"white\", \"ticks\": \"\"}}, \"scene\": {\"xaxis\": {\"backgroundcolor\": \"#E5ECF6\", \"gridcolor\": \"white\", \"gridwidth\": 2, \"linecolor\": \"white\", \"showbackground\": true, \"ticks\": \"\", \"zerolinecolor\": \"white\"}, \"yaxis\": {\"backgroundcolor\": \"#E5ECF6\", \"gridcolor\": \"white\", \"gridwidth\": 2, \"linecolor\": \"white\", \"showbackground\": true, \"ticks\": \"\", \"zerolinecolor\": \"white\"}, \"zaxis\": {\"backgroundcolor\": \"#E5ECF6\", \"gridcolor\": \"white\", \"gridwidth\": 2, \"linecolor\": \"white\", \"showbackground\": true, \"ticks\": \"\", \"zerolinecolor\": \"white\"}}, \"shapedefaults\": {\"line\": {\"color\": \"#2a3f5f\"}}, \"ternary\": {\"aaxis\": {\"gridcolor\": \"white\", \"linecolor\": \"white\", \"ticks\": \"\"}, \"baxis\": {\"gridcolor\": \"white\", \"linecolor\": \"white\", \"ticks\": \"\"}, \"bgcolor\": \"#E5ECF6\", \"caxis\": {\"gridcolor\": \"white\", \"linecolor\": \"white\", \"ticks\": \"\"}}, \"title\": {\"x\": 0.05}, \"xaxis\": {\"automargin\": true, \"gridcolor\": \"white\", \"linecolor\": \"white\", \"ticks\": \"\", \"title\": {\"standoff\": 15}, \"zerolinecolor\": \"white\", \"zerolinewidth\": 2}, \"yaxis\": {\"automargin\": true, \"gridcolor\": \"white\", \"linecolor\": \"white\", \"ticks\": \"\", \"title\": {\"standoff\": 15}, \"zerolinecolor\": \"white\", \"zerolinewidth\": 2}}}, \"title\": {\"text\": \"Conductivities ,Lat: -83.75, Lon: -175.0, 2015-03-15 00:05:00\", \"x\": 0.5, \"xanchor\": \"center\", \"y\": 0.9, \"yanchor\": \"top\"}, \"width\": 750, \"xaxis\": {\"exponentformat\": \"power\", \"gridcolor\": \"grey\", \"gridwidth\": 0.5, \"linecolor\": \"black\", \"linewidth\": 2, \"mirror\": true, \"showexponent\": \"all\", \"showgrid\": true, \"showline\": true, \"title\": {\"text\": \"Collisions sec^(-1)\"}, \"type\": \"log\"}, \"yaxis\": {\"dtick\": 20, \"gridcolor\": \"grey\", \"gridwidth\": 0.5, \"linecolor\": \"black\", \"linewidth\": 2, \"mirror\": true, \"showgrid\": true, \"showline\": true, \"tick0\": 60, \"title\": {\"text\": \"Altitude (km)\"}}},\n",
       "                        {\"responsive\": true}\n",
       "                    ).then(function(){\n",
       "                            \n",
       "var gd = document.getElementById('9d84e5bf-b7f8-4cef-971c-2c4604e211b2');\n",
       "var x = new MutationObserver(function (mutations, observer) {{\n",
       "        var display = window.getComputedStyle(gd).display;\n",
       "        if (!display || display === 'none') {{\n",
       "            console.log([gd, 'removed!']);\n",
       "            Plotly.purge(gd);\n",
       "            observer.disconnect();\n",
       "        }}\n",
       "}});\n",
       "\n",
       "// Listen for the removal of the full notebook cells\n",
       "var notebookContainer = gd.closest('#notebook-container');\n",
       "if (notebookContainer) {{\n",
       "    x.observe(notebookContainer, {childList: true});\n",
       "}}\n",
       "\n",
       "// Listen for the clearing of the current output cell\n",
       "var outputEl = gd.closest('.output');\n",
       "if (outputEl) {{\n",
       "    x.observe(outputEl, {childList: true});\n",
       "}}\n",
       "\n",
       "                        })\n",
       "                };\n",
       "                });\n",
       "            </script>\n",
       "        </div>"
      ]
     },
     "metadata": {},
     "output_type": "display_data"
    },
    {
     "data": {
      "application/vnd.plotly.v1+json": {
       "config": {
        "plotlyServerURL": "https://plot.ly"
       },
       "data": [
        {
         "line": {
          "color": "orange"
         },
         "mode": "lines",
         "name": "Ve Error (%)",
         "type": "scatter",
         "x": [
          6.187522867564356,
          6.182580456324358,
          6.1822725469170985,
          6.188476642709347,
          6.202496730846956,
          6.224009127553695,
          6.2504895390797985,
          6.277550004614198,
          6.30046585111323,
          6.3164861526497935,
          6.325846794175903,
          6.330209280166521,
          6.331174758749254,
          6.329414674153116,
          6.324415691038947,
          6.315012804276039,
          6.299923569595012,
          6.277900538574714,
          6.24745164525886,
          6.2062726187924895,
          6.1513184562421,
          6.08053411378956,
          5.994834270161887,
          5.896109929714703,
          5.788785355860676,
          5.680626344830002,
          5.578147336318388,
          5.485555633255262,
          5.406007112004304,
          5.337849931495787,
          5.281614946445668,
          5.23948661414397,
          5.214728689843292,
          5.211024585105662,
          5.231754649278914,
          5.279288751464605,
          5.354403143548623,
          5.455940125965307,
          5.580788204731063,
          5.724183385758243,
          5.880251653078035,
          6.04265194375155,
          6.205186405818712,
          6.362276906201335,
          6.509250224475674,
          6.64244026814818,
          6.759137460784062,
          6.857427270158616,
          6.935968085596615,
          6.993744358317322,
          7.0298183037635855,
          7.043091822773281,
          7.032077118884532,
          6.994673902104092,
          6.927943936817487,
          6.827879606465591
         ],
         "y": [
          96.36432,
          97.69113,
          98.96521,
          100.21858,
          101.49149,
          102.83465,
          104.31025,
          105.99205,
          107.9605,
          110.28514,
          112.99677,
          116.0809,
          119.49435,
          123.18561,
          127.1144,
          131.26863,
          135.66771,
          140.35171,
          145.36669,
          150.75399,
          156.54488,
          162.75891,
          169.4047,
          176.48172,
          183.98288,
          191.89784,
          200.21538,
          208.92486,
          218.01702,
          227.48388,
          237.31828,
          247.51354,
          258.0632,
          268.96082,
          280.19986,
          291.77326,
          303.6734,
          315.89174,
          328.419,
          341.2452,
          354.35996,
          367.75308,
          381.41508,
          395.33784,
          409.5154,
          423.9448,
          438.62676,
          453.56656,
          468.7752,
          484.27028,
          500.07764,
          516.23308,
          532.7848,
          549.7966,
          567.35232,
          585.562
         ]
        },
        {
         "line": {
          "color": "cyan"
         },
         "mode": "lines",
         "name": "VO2p Error (%)",
         "type": "scatter",
         "x": [
          4.377405846114079,
          4.384475659161472,
          4.386361895776063,
          4.381659327467377,
          4.369343791388564,
          4.349294134924062,
          4.322368771867336,
          4.29039472419562,
          4.256350472133542,
          4.223747772639604,
          4.1943055475284705,
          4.1675241348516066,
          4.14211181885179,
          4.116841338762709,
          4.0903457018010085,
          4.06105197448562,
          4.0276383033852445,
          3.9894552329166184,
          3.946580629438324,
          3.8996397796669284,
          3.8495643758962705,
          3.7973552158758936,
          3.7441173749910113,
          3.6906892391460837,
          3.6381765984179046,
          3.58772537042689,
          3.5407736064098274,
          3.499105025545717,
          3.4648599651300436,
          3.440456149595998,
          3.4284072517541393,
          3.4310467780175813,
          3.450193632606939,
          3.486822425530641,
          3.540818843384048,
          3.610888201931507,
          3.694648097873622,
          3.7888842748739857,
          3.8899065263319006,
          3.9939252998782613,
          4.097382534194104,
          4.197188322712734,
          4.290852753997507,
          4.376520643151123,
          4.452926168437452,
          4.519298596414799,
          4.575242125380652,
          4.62060640414548,
          4.655361818804891,
          4.679485290578874,
          4.692857026871584,
          4.695165660249707,
          4.685816250104942,
          4.663837260022712,
          4.6277817927581575,
          4.575625352390325
         ],
         "y": [
          96.36432,
          97.69113,
          98.96521,
          100.21858,
          101.49149,
          102.83465,
          104.31025,
          105.99205,
          107.9605,
          110.28514,
          112.99677,
          116.0809,
          119.49435,
          123.18561,
          127.1144,
          131.26863,
          135.66771,
          140.35171,
          145.36669,
          150.75399,
          156.54488,
          162.75891,
          169.4047,
          176.48172,
          183.98288,
          191.89784,
          200.21538,
          208.92486,
          218.01702,
          227.48388,
          237.31828,
          247.51354,
          258.0632,
          268.96082,
          280.19986,
          291.77326,
          303.6734,
          315.89174,
          328.419,
          341.2452,
          354.35996,
          367.75308,
          381.41508,
          395.33784,
          409.5154,
          423.9448,
          438.62676,
          453.56656,
          468.7752,
          484.27028,
          500.07764,
          516.23308,
          532.7848,
          549.7966,
          567.35232,
          585.562
         ]
        },
        {
         "line": {
          "color": "yellow"
         },
         "mode": "lines",
         "name": "VOp Error (%)",
         "type": "scatter",
         "x": [
          4.08883757228659,
          4.087256328993274,
          4.084978270191833,
          4.081513842075102,
          4.0760346756648,
          4.067166604302186,
          4.052871274215569,
          4.03083097404602,
          3.999696008279169,
          3.96031048360344,
          3.9146994887761357,
          3.86441167063722,
          3.8110752816985887,
          3.757167354826113,
          3.704424949949294,
          3.65291778632326,
          3.602662776912555,
          3.5551914959098774,
          3.5135900210781617,
          3.4816126179279023,
          3.462646678650749,
          3.4589675635277772,
          3.47149922895137,
          3.500020245304146,
          3.5434894158680805,
          3.6004976031697002,
          3.669429242713647,
          3.7485523556905904,
          3.8360256926498133,
          3.9298991487630506,
          4.028140577736015,
          4.128695213011914,
          4.229560851130044,
          4.328869208062217,
          4.4249600827770275,
          4.5164356394263105,
          4.602194510882087,
          4.681443233806655,
          4.753687024333216,
          4.818703238261964,
          4.876503866273685,
          4.927288788533965,
          4.971397489974918,
          5.00926289569404,
          5.041368198995125,
          5.068210976744903,
          5.090274204665113,
          5.108002940956062,
          5.121786074295311,
          5.131941223486587,
          5.138700168304595,
          5.142191955952407,
          5.142419715868866,
          5.139226693778761,
          5.132243394650788,
          5.1208262930848285
         ],
         "y": [
          96.36432,
          97.69113,
          98.96521,
          100.21858,
          101.49149,
          102.83465,
          104.31025,
          105.99205,
          107.9605,
          110.28514,
          112.99677,
          116.0809,
          119.49435,
          123.18561,
          127.1144,
          131.26863,
          135.66771,
          140.35171,
          145.36669,
          150.75399,
          156.54488,
          162.75891,
          169.4047,
          176.48172,
          183.98288,
          191.89784,
          200.21538,
          208.92486,
          218.01702,
          227.48388,
          237.31828,
          247.51354,
          258.0632,
          268.96082,
          280.19986,
          291.77326,
          303.6734,
          315.89174,
          328.419,
          341.2452,
          354.35996,
          367.75308,
          381.41508,
          395.33784,
          409.5154,
          423.9448,
          438.62676,
          453.56656,
          468.7752,
          484.27028,
          500.07764,
          516.23308,
          532.7848,
          549.7966,
          567.35232,
          585.562
         ]
        }
       ],
       "layout": {
        "height": 750,
        "template": {
         "data": {
          "bar": [
           {
            "error_x": {
             "color": "#2a3f5f"
            },
            "error_y": {
             "color": "#2a3f5f"
            },
            "marker": {
             "line": {
              "color": "#E5ECF6",
              "width": 0.5
             }
            },
            "type": "bar"
           }
          ],
          "barpolar": [
           {
            "marker": {
             "line": {
              "color": "#E5ECF6",
              "width": 0.5
             }
            },
            "type": "barpolar"
           }
          ],
          "carpet": [
           {
            "aaxis": {
             "endlinecolor": "#2a3f5f",
             "gridcolor": "white",
             "linecolor": "white",
             "minorgridcolor": "white",
             "startlinecolor": "#2a3f5f"
            },
            "baxis": {
             "endlinecolor": "#2a3f5f",
             "gridcolor": "white",
             "linecolor": "white",
             "minorgridcolor": "white",
             "startlinecolor": "#2a3f5f"
            },
            "type": "carpet"
           }
          ],
          "choropleth": [
           {
            "colorbar": {
             "outlinewidth": 0,
             "ticks": ""
            },
            "type": "choropleth"
           }
          ],
          "contour": [
           {
            "colorbar": {
             "outlinewidth": 0,
             "ticks": ""
            },
            "colorscale": [
             [
              0,
              "#0d0887"
             ],
             [
              0.1111111111111111,
              "#46039f"
             ],
             [
              0.2222222222222222,
              "#7201a8"
             ],
             [
              0.3333333333333333,
              "#9c179e"
             ],
             [
              0.4444444444444444,
              "#bd3786"
             ],
             [
              0.5555555555555556,
              "#d8576b"
             ],
             [
              0.6666666666666666,
              "#ed7953"
             ],
             [
              0.7777777777777778,
              "#fb9f3a"
             ],
             [
              0.8888888888888888,
              "#fdca26"
             ],
             [
              1,
              "#f0f921"
             ]
            ],
            "type": "contour"
           }
          ],
          "contourcarpet": [
           {
            "colorbar": {
             "outlinewidth": 0,
             "ticks": ""
            },
            "type": "contourcarpet"
           }
          ],
          "heatmap": [
           {
            "colorbar": {
             "outlinewidth": 0,
             "ticks": ""
            },
            "colorscale": [
             [
              0,
              "#0d0887"
             ],
             [
              0.1111111111111111,
              "#46039f"
             ],
             [
              0.2222222222222222,
              "#7201a8"
             ],
             [
              0.3333333333333333,
              "#9c179e"
             ],
             [
              0.4444444444444444,
              "#bd3786"
             ],
             [
              0.5555555555555556,
              "#d8576b"
             ],
             [
              0.6666666666666666,
              "#ed7953"
             ],
             [
              0.7777777777777778,
              "#fb9f3a"
             ],
             [
              0.8888888888888888,
              "#fdca26"
             ],
             [
              1,
              "#f0f921"
             ]
            ],
            "type": "heatmap"
           }
          ],
          "heatmapgl": [
           {
            "colorbar": {
             "outlinewidth": 0,
             "ticks": ""
            },
            "colorscale": [
             [
              0,
              "#0d0887"
             ],
             [
              0.1111111111111111,
              "#46039f"
             ],
             [
              0.2222222222222222,
              "#7201a8"
             ],
             [
              0.3333333333333333,
              "#9c179e"
             ],
             [
              0.4444444444444444,
              "#bd3786"
             ],
             [
              0.5555555555555556,
              "#d8576b"
             ],
             [
              0.6666666666666666,
              "#ed7953"
             ],
             [
              0.7777777777777778,
              "#fb9f3a"
             ],
             [
              0.8888888888888888,
              "#fdca26"
             ],
             [
              1,
              "#f0f921"
             ]
            ],
            "type": "heatmapgl"
           }
          ],
          "histogram": [
           {
            "marker": {
             "colorbar": {
              "outlinewidth": 0,
              "ticks": ""
             }
            },
            "type": "histogram"
           }
          ],
          "histogram2d": [
           {
            "colorbar": {
             "outlinewidth": 0,
             "ticks": ""
            },
            "colorscale": [
             [
              0,
              "#0d0887"
             ],
             [
              0.1111111111111111,
              "#46039f"
             ],
             [
              0.2222222222222222,
              "#7201a8"
             ],
             [
              0.3333333333333333,
              "#9c179e"
             ],
             [
              0.4444444444444444,
              "#bd3786"
             ],
             [
              0.5555555555555556,
              "#d8576b"
             ],
             [
              0.6666666666666666,
              "#ed7953"
             ],
             [
              0.7777777777777778,
              "#fb9f3a"
             ],
             [
              0.8888888888888888,
              "#fdca26"
             ],
             [
              1,
              "#f0f921"
             ]
            ],
            "type": "histogram2d"
           }
          ],
          "histogram2dcontour": [
           {
            "colorbar": {
             "outlinewidth": 0,
             "ticks": ""
            },
            "colorscale": [
             [
              0,
              "#0d0887"
             ],
             [
              0.1111111111111111,
              "#46039f"
             ],
             [
              0.2222222222222222,
              "#7201a8"
             ],
             [
              0.3333333333333333,
              "#9c179e"
             ],
             [
              0.4444444444444444,
              "#bd3786"
             ],
             [
              0.5555555555555556,
              "#d8576b"
             ],
             [
              0.6666666666666666,
              "#ed7953"
             ],
             [
              0.7777777777777778,
              "#fb9f3a"
             ],
             [
              0.8888888888888888,
              "#fdca26"
             ],
             [
              1,
              "#f0f921"
             ]
            ],
            "type": "histogram2dcontour"
           }
          ],
          "mesh3d": [
           {
            "colorbar": {
             "outlinewidth": 0,
             "ticks": ""
            },
            "type": "mesh3d"
           }
          ],
          "parcoords": [
           {
            "line": {
             "colorbar": {
              "outlinewidth": 0,
              "ticks": ""
             }
            },
            "type": "parcoords"
           }
          ],
          "pie": [
           {
            "automargin": true,
            "type": "pie"
           }
          ],
          "scatter": [
           {
            "marker": {
             "colorbar": {
              "outlinewidth": 0,
              "ticks": ""
             }
            },
            "type": "scatter"
           }
          ],
          "scatter3d": [
           {
            "line": {
             "colorbar": {
              "outlinewidth": 0,
              "ticks": ""
             }
            },
            "marker": {
             "colorbar": {
              "outlinewidth": 0,
              "ticks": ""
             }
            },
            "type": "scatter3d"
           }
          ],
          "scattercarpet": [
           {
            "marker": {
             "colorbar": {
              "outlinewidth": 0,
              "ticks": ""
             }
            },
            "type": "scattercarpet"
           }
          ],
          "scattergeo": [
           {
            "marker": {
             "colorbar": {
              "outlinewidth": 0,
              "ticks": ""
             }
            },
            "type": "scattergeo"
           }
          ],
          "scattergl": [
           {
            "marker": {
             "colorbar": {
              "outlinewidth": 0,
              "ticks": ""
             }
            },
            "type": "scattergl"
           }
          ],
          "scattermapbox": [
           {
            "marker": {
             "colorbar": {
              "outlinewidth": 0,
              "ticks": ""
             }
            },
            "type": "scattermapbox"
           }
          ],
          "scatterpolar": [
           {
            "marker": {
             "colorbar": {
              "outlinewidth": 0,
              "ticks": ""
             }
            },
            "type": "scatterpolar"
           }
          ],
          "scatterpolargl": [
           {
            "marker": {
             "colorbar": {
              "outlinewidth": 0,
              "ticks": ""
             }
            },
            "type": "scatterpolargl"
           }
          ],
          "scatterternary": [
           {
            "marker": {
             "colorbar": {
              "outlinewidth": 0,
              "ticks": ""
             }
            },
            "type": "scatterternary"
           }
          ],
          "surface": [
           {
            "colorbar": {
             "outlinewidth": 0,
             "ticks": ""
            },
            "colorscale": [
             [
              0,
              "#0d0887"
             ],
             [
              0.1111111111111111,
              "#46039f"
             ],
             [
              0.2222222222222222,
              "#7201a8"
             ],
             [
              0.3333333333333333,
              "#9c179e"
             ],
             [
              0.4444444444444444,
              "#bd3786"
             ],
             [
              0.5555555555555556,
              "#d8576b"
             ],
             [
              0.6666666666666666,
              "#ed7953"
             ],
             [
              0.7777777777777778,
              "#fb9f3a"
             ],
             [
              0.8888888888888888,
              "#fdca26"
             ],
             [
              1,
              "#f0f921"
             ]
            ],
            "type": "surface"
           }
          ],
          "table": [
           {
            "cells": {
             "fill": {
              "color": "#EBF0F8"
             },
             "line": {
              "color": "white"
             }
            },
            "header": {
             "fill": {
              "color": "#C8D4E3"
             },
             "line": {
              "color": "white"
             }
            },
            "type": "table"
           }
          ]
         },
         "layout": {
          "annotationdefaults": {
           "arrowcolor": "#2a3f5f",
           "arrowhead": 0,
           "arrowwidth": 1
          },
          "coloraxis": {
           "colorbar": {
            "outlinewidth": 0,
            "ticks": ""
           }
          },
          "colorscale": {
           "diverging": [
            [
             0,
             "#8e0152"
            ],
            [
             0.1,
             "#c51b7d"
            ],
            [
             0.2,
             "#de77ae"
            ],
            [
             0.3,
             "#f1b6da"
            ],
            [
             0.4,
             "#fde0ef"
            ],
            [
             0.5,
             "#f7f7f7"
            ],
            [
             0.6,
             "#e6f5d0"
            ],
            [
             0.7,
             "#b8e186"
            ],
            [
             0.8,
             "#7fbc41"
            ],
            [
             0.9,
             "#4d9221"
            ],
            [
             1,
             "#276419"
            ]
           ],
           "sequential": [
            [
             0,
             "#0d0887"
            ],
            [
             0.1111111111111111,
             "#46039f"
            ],
            [
             0.2222222222222222,
             "#7201a8"
            ],
            [
             0.3333333333333333,
             "#9c179e"
            ],
            [
             0.4444444444444444,
             "#bd3786"
            ],
            [
             0.5555555555555556,
             "#d8576b"
            ],
            [
             0.6666666666666666,
             "#ed7953"
            ],
            [
             0.7777777777777778,
             "#fb9f3a"
            ],
            [
             0.8888888888888888,
             "#fdca26"
            ],
            [
             1,
             "#f0f921"
            ]
           ],
           "sequentialminus": [
            [
             0,
             "#0d0887"
            ],
            [
             0.1111111111111111,
             "#46039f"
            ],
            [
             0.2222222222222222,
             "#7201a8"
            ],
            [
             0.3333333333333333,
             "#9c179e"
            ],
            [
             0.4444444444444444,
             "#bd3786"
            ],
            [
             0.5555555555555556,
             "#d8576b"
            ],
            [
             0.6666666666666666,
             "#ed7953"
            ],
            [
             0.7777777777777778,
             "#fb9f3a"
            ],
            [
             0.8888888888888888,
             "#fdca26"
            ],
            [
             1,
             "#f0f921"
            ]
           ]
          },
          "colorway": [
           "#636efa",
           "#EF553B",
           "#00cc96",
           "#ab63fa",
           "#FFA15A",
           "#19d3f3",
           "#FF6692",
           "#B6E880",
           "#FF97FF",
           "#FECB52"
          ],
          "font": {
           "color": "#2a3f5f"
          },
          "geo": {
           "bgcolor": "white",
           "lakecolor": "white",
           "landcolor": "#E5ECF6",
           "showlakes": true,
           "showland": true,
           "subunitcolor": "white"
          },
          "hoverlabel": {
           "align": "left"
          },
          "hovermode": "closest",
          "mapbox": {
           "style": "light"
          },
          "paper_bgcolor": "white",
          "plot_bgcolor": "#E5ECF6",
          "polar": {
           "angularaxis": {
            "gridcolor": "white",
            "linecolor": "white",
            "ticks": ""
           },
           "bgcolor": "#E5ECF6",
           "radialaxis": {
            "gridcolor": "white",
            "linecolor": "white",
            "ticks": ""
           }
          },
          "scene": {
           "xaxis": {
            "backgroundcolor": "#E5ECF6",
            "gridcolor": "white",
            "gridwidth": 2,
            "linecolor": "white",
            "showbackground": true,
            "ticks": "",
            "zerolinecolor": "white"
           },
           "yaxis": {
            "backgroundcolor": "#E5ECF6",
            "gridcolor": "white",
            "gridwidth": 2,
            "linecolor": "white",
            "showbackground": true,
            "ticks": "",
            "zerolinecolor": "white"
           },
           "zaxis": {
            "backgroundcolor": "#E5ECF6",
            "gridcolor": "white",
            "gridwidth": 2,
            "linecolor": "white",
            "showbackground": true,
            "ticks": "",
            "zerolinecolor": "white"
           }
          },
          "shapedefaults": {
           "line": {
            "color": "#2a3f5f"
           }
          },
          "ternary": {
           "aaxis": {
            "gridcolor": "white",
            "linecolor": "white",
            "ticks": ""
           },
           "baxis": {
            "gridcolor": "white",
            "linecolor": "white",
            "ticks": ""
           },
           "bgcolor": "#E5ECF6",
           "caxis": {
            "gridcolor": "white",
            "linecolor": "white",
            "ticks": ""
           }
          },
          "title": {
           "x": 0.05
          },
          "xaxis": {
           "automargin": true,
           "gridcolor": "white",
           "linecolor": "white",
           "ticks": "",
           "title": {
            "standoff": 15
           },
           "zerolinecolor": "white",
           "zerolinewidth": 2
          },
          "yaxis": {
           "automargin": true,
           "gridcolor": "white",
           "linecolor": "white",
           "ticks": "",
           "title": {
            "standoff": 15
           },
           "zerolinecolor": "white",
           "zerolinewidth": 2
          }
         }
        },
        "title": {
         "text": "Collision frequency Error Percentage ,Lat: -83.75, Lon: -175.0, 2015-03-15 00:05:00",
         "x": 0.5,
         "xanchor": "center",
         "y": 0.9,
         "yanchor": "top"
        },
        "width": 750,
        "xaxis": {
         "exponentformat": "power",
         "gridcolor": "grey",
         "gridwidth": 0.5,
         "linecolor": "black",
         "linewidth": 2,
         "mirror": true,
         "showexponent": "all",
         "showgrid": true,
         "showline": true,
         "title": {
          "text": "Percentage %"
         }
        },
        "yaxis": {
         "dtick": 20,
         "gridcolor": "grey",
         "gridwidth": 0.5,
         "linecolor": "black",
         "linewidth": 2,
         "mirror": true,
         "showgrid": true,
         "showline": true,
         "tick0": 60,
         "title": {
          "text": "Altitude (km)"
         }
        }
       }
      },
      "text/html": [
       "<div>\n",
       "        \n",
       "        \n",
       "            <div id=\"5d5ec7ba-de71-4752-99ea-7fed36f61f27\" class=\"plotly-graph-div\" style=\"height:750px; width:750px;\"></div>\n",
       "            <script type=\"text/javascript\">\n",
       "                require([\"plotly\"], function(Plotly) {\n",
       "                    window.PLOTLYENV=window.PLOTLYENV || {};\n",
       "                    \n",
       "                if (document.getElementById(\"5d5ec7ba-de71-4752-99ea-7fed36f61f27\")) {\n",
       "                    Plotly.newPlot(\n",
       "                        '5d5ec7ba-de71-4752-99ea-7fed36f61f27',\n",
       "                        [{\"line\": {\"color\": \"orange\"}, \"mode\": \"lines\", \"name\": \"Ve Error (%)\", \"type\": \"scatter\", \"x\": [6.187522867564356, 6.182580456324358, 6.1822725469170985, 6.188476642709347, 6.202496730846956, 6.224009127553695, 6.2504895390797985, 6.277550004614198, 6.30046585111323, 6.3164861526497935, 6.325846794175903, 6.330209280166521, 6.331174758749254, 6.329414674153116, 6.324415691038947, 6.315012804276039, 6.299923569595012, 6.277900538574714, 6.24745164525886, 6.2062726187924895, 6.1513184562421, 6.08053411378956, 5.994834270161887, 5.896109929714703, 5.788785355860676, 5.680626344830002, 5.578147336318388, 5.485555633255262, 5.406007112004304, 5.337849931495787, 5.281614946445668, 5.23948661414397, 5.214728689843292, 5.211024585105662, 5.231754649278914, 5.279288751464605, 5.354403143548623, 5.455940125965307, 5.580788204731063, 5.724183385758243, 5.880251653078035, 6.04265194375155, 6.205186405818712, 6.362276906201335, 6.509250224475674, 6.64244026814818, 6.759137460784062, 6.857427270158616, 6.935968085596615, 6.993744358317322, 7.0298183037635855, 7.043091822773281, 7.032077118884532, 6.994673902104092, 6.927943936817487, 6.827879606465591], \"y\": [96.36432, 97.69113, 98.96521, 100.21858, 101.49149, 102.83465, 104.31025, 105.99205, 107.9605, 110.28514, 112.99677, 116.0809, 119.49435, 123.18561, 127.1144, 131.26863, 135.66771, 140.35171, 145.36669, 150.75399, 156.54488, 162.75891, 169.4047, 176.48172, 183.98288, 191.89784, 200.21538, 208.92486, 218.01702, 227.48388, 237.31828, 247.51354, 258.0632, 268.96082, 280.19986, 291.77326, 303.6734, 315.89174, 328.419, 341.2452, 354.35996, 367.75308, 381.41508, 395.33784, 409.5154, 423.9448, 438.62676, 453.56656, 468.7752, 484.27028, 500.07764, 516.23308, 532.7848, 549.7966, 567.35232, 585.562]}, {\"line\": {\"color\": \"cyan\"}, \"mode\": \"lines\", \"name\": \"VO2p Error (%)\", \"type\": \"scatter\", \"x\": [4.377405846114079, 4.384475659161472, 4.386361895776063, 4.381659327467377, 4.369343791388564, 4.349294134924062, 4.322368771867336, 4.29039472419562, 4.256350472133542, 4.223747772639604, 4.1943055475284705, 4.1675241348516066, 4.14211181885179, 4.116841338762709, 4.0903457018010085, 4.06105197448562, 4.0276383033852445, 3.9894552329166184, 3.946580629438324, 3.8996397796669284, 3.8495643758962705, 3.7973552158758936, 3.7441173749910113, 3.6906892391460837, 3.6381765984179046, 3.58772537042689, 3.5407736064098274, 3.499105025545717, 3.4648599651300436, 3.440456149595998, 3.4284072517541393, 3.4310467780175813, 3.450193632606939, 3.486822425530641, 3.540818843384048, 3.610888201931507, 3.694648097873622, 3.7888842748739857, 3.8899065263319006, 3.9939252998782613, 4.097382534194104, 4.197188322712734, 4.290852753997507, 4.376520643151123, 4.452926168437452, 4.519298596414799, 4.575242125380652, 4.62060640414548, 4.655361818804891, 4.679485290578874, 4.692857026871584, 4.695165660249707, 4.685816250104942, 4.663837260022712, 4.6277817927581575, 4.575625352390325], \"y\": [96.36432, 97.69113, 98.96521, 100.21858, 101.49149, 102.83465, 104.31025, 105.99205, 107.9605, 110.28514, 112.99677, 116.0809, 119.49435, 123.18561, 127.1144, 131.26863, 135.66771, 140.35171, 145.36669, 150.75399, 156.54488, 162.75891, 169.4047, 176.48172, 183.98288, 191.89784, 200.21538, 208.92486, 218.01702, 227.48388, 237.31828, 247.51354, 258.0632, 268.96082, 280.19986, 291.77326, 303.6734, 315.89174, 328.419, 341.2452, 354.35996, 367.75308, 381.41508, 395.33784, 409.5154, 423.9448, 438.62676, 453.56656, 468.7752, 484.27028, 500.07764, 516.23308, 532.7848, 549.7966, 567.35232, 585.562]}, {\"line\": {\"color\": \"yellow\"}, \"mode\": \"lines\", \"name\": \"VOp Error (%)\", \"type\": \"scatter\", \"x\": [4.08883757228659, 4.087256328993274, 4.084978270191833, 4.081513842075102, 4.0760346756648, 4.067166604302186, 4.052871274215569, 4.03083097404602, 3.999696008279169, 3.96031048360344, 3.9146994887761357, 3.86441167063722, 3.8110752816985887, 3.757167354826113, 3.704424949949294, 3.65291778632326, 3.602662776912555, 3.5551914959098774, 3.5135900210781617, 3.4816126179279023, 3.462646678650749, 3.4589675635277772, 3.47149922895137, 3.500020245304146, 3.5434894158680805, 3.6004976031697002, 3.669429242713647, 3.7485523556905904, 3.8360256926498133, 3.9298991487630506, 4.028140577736015, 4.128695213011914, 4.229560851130044, 4.328869208062217, 4.4249600827770275, 4.5164356394263105, 4.602194510882087, 4.681443233806655, 4.753687024333216, 4.818703238261964, 4.876503866273685, 4.927288788533965, 4.971397489974918, 5.00926289569404, 5.041368198995125, 5.068210976744903, 5.090274204665113, 5.108002940956062, 5.121786074295311, 5.131941223486587, 5.138700168304595, 5.142191955952407, 5.142419715868866, 5.139226693778761, 5.132243394650788, 5.1208262930848285], \"y\": [96.36432, 97.69113, 98.96521, 100.21858, 101.49149, 102.83465, 104.31025, 105.99205, 107.9605, 110.28514, 112.99677, 116.0809, 119.49435, 123.18561, 127.1144, 131.26863, 135.66771, 140.35171, 145.36669, 150.75399, 156.54488, 162.75891, 169.4047, 176.48172, 183.98288, 191.89784, 200.21538, 208.92486, 218.01702, 227.48388, 237.31828, 247.51354, 258.0632, 268.96082, 280.19986, 291.77326, 303.6734, 315.89174, 328.419, 341.2452, 354.35996, 367.75308, 381.41508, 395.33784, 409.5154, 423.9448, 438.62676, 453.56656, 468.7752, 484.27028, 500.07764, 516.23308, 532.7848, 549.7966, 567.35232, 585.562]}],\n",
       "                        {\"height\": 750, \"template\": {\"data\": {\"bar\": [{\"error_x\": {\"color\": \"#2a3f5f\"}, \"error_y\": {\"color\": \"#2a3f5f\"}, \"marker\": {\"line\": {\"color\": \"#E5ECF6\", \"width\": 0.5}}, \"type\": \"bar\"}], \"barpolar\": [{\"marker\": {\"line\": {\"color\": \"#E5ECF6\", \"width\": 0.5}}, \"type\": \"barpolar\"}], \"carpet\": [{\"aaxis\": {\"endlinecolor\": \"#2a3f5f\", \"gridcolor\": \"white\", \"linecolor\": \"white\", \"minorgridcolor\": \"white\", \"startlinecolor\": \"#2a3f5f\"}, \"baxis\": {\"endlinecolor\": \"#2a3f5f\", \"gridcolor\": \"white\", \"linecolor\": \"white\", \"minorgridcolor\": \"white\", \"startlinecolor\": \"#2a3f5f\"}, \"type\": \"carpet\"}], \"choropleth\": [{\"colorbar\": {\"outlinewidth\": 0, \"ticks\": \"\"}, \"type\": \"choropleth\"}], \"contour\": [{\"colorbar\": {\"outlinewidth\": 0, \"ticks\": \"\"}, \"colorscale\": [[0.0, \"#0d0887\"], [0.1111111111111111, \"#46039f\"], [0.2222222222222222, \"#7201a8\"], [0.3333333333333333, \"#9c179e\"], [0.4444444444444444, \"#bd3786\"], [0.5555555555555556, \"#d8576b\"], [0.6666666666666666, \"#ed7953\"], [0.7777777777777778, \"#fb9f3a\"], [0.8888888888888888, \"#fdca26\"], [1.0, \"#f0f921\"]], \"type\": \"contour\"}], \"contourcarpet\": [{\"colorbar\": {\"outlinewidth\": 0, \"ticks\": \"\"}, \"type\": \"contourcarpet\"}], \"heatmap\": [{\"colorbar\": {\"outlinewidth\": 0, \"ticks\": \"\"}, \"colorscale\": [[0.0, \"#0d0887\"], [0.1111111111111111, \"#46039f\"], [0.2222222222222222, \"#7201a8\"], [0.3333333333333333, \"#9c179e\"], [0.4444444444444444, \"#bd3786\"], [0.5555555555555556, \"#d8576b\"], [0.6666666666666666, \"#ed7953\"], [0.7777777777777778, \"#fb9f3a\"], [0.8888888888888888, \"#fdca26\"], [1.0, \"#f0f921\"]], \"type\": \"heatmap\"}], \"heatmapgl\": [{\"colorbar\": {\"outlinewidth\": 0, \"ticks\": \"\"}, \"colorscale\": [[0.0, \"#0d0887\"], [0.1111111111111111, \"#46039f\"], [0.2222222222222222, \"#7201a8\"], [0.3333333333333333, \"#9c179e\"], [0.4444444444444444, \"#bd3786\"], [0.5555555555555556, \"#d8576b\"], [0.6666666666666666, \"#ed7953\"], [0.7777777777777778, \"#fb9f3a\"], [0.8888888888888888, \"#fdca26\"], [1.0, \"#f0f921\"]], \"type\": \"heatmapgl\"}], \"histogram\": [{\"marker\": {\"colorbar\": {\"outlinewidth\": 0, \"ticks\": \"\"}}, \"type\": \"histogram\"}], \"histogram2d\": [{\"colorbar\": {\"outlinewidth\": 0, \"ticks\": \"\"}, \"colorscale\": [[0.0, \"#0d0887\"], [0.1111111111111111, \"#46039f\"], [0.2222222222222222, \"#7201a8\"], [0.3333333333333333, \"#9c179e\"], [0.4444444444444444, \"#bd3786\"], [0.5555555555555556, \"#d8576b\"], [0.6666666666666666, \"#ed7953\"], [0.7777777777777778, \"#fb9f3a\"], [0.8888888888888888, \"#fdca26\"], [1.0, \"#f0f921\"]], \"type\": \"histogram2d\"}], \"histogram2dcontour\": [{\"colorbar\": {\"outlinewidth\": 0, \"ticks\": \"\"}, \"colorscale\": [[0.0, \"#0d0887\"], [0.1111111111111111, \"#46039f\"], [0.2222222222222222, \"#7201a8\"], [0.3333333333333333, \"#9c179e\"], [0.4444444444444444, \"#bd3786\"], [0.5555555555555556, \"#d8576b\"], [0.6666666666666666, \"#ed7953\"], [0.7777777777777778, \"#fb9f3a\"], [0.8888888888888888, \"#fdca26\"], [1.0, \"#f0f921\"]], \"type\": \"histogram2dcontour\"}], \"mesh3d\": [{\"colorbar\": {\"outlinewidth\": 0, \"ticks\": \"\"}, \"type\": \"mesh3d\"}], \"parcoords\": [{\"line\": {\"colorbar\": {\"outlinewidth\": 0, \"ticks\": \"\"}}, \"type\": \"parcoords\"}], \"pie\": [{\"automargin\": true, \"type\": \"pie\"}], \"scatter\": [{\"marker\": {\"colorbar\": {\"outlinewidth\": 0, \"ticks\": \"\"}}, \"type\": \"scatter\"}], \"scatter3d\": [{\"line\": {\"colorbar\": {\"outlinewidth\": 0, \"ticks\": \"\"}}, \"marker\": {\"colorbar\": {\"outlinewidth\": 0, \"ticks\": \"\"}}, \"type\": \"scatter3d\"}], \"scattercarpet\": [{\"marker\": {\"colorbar\": {\"outlinewidth\": 0, \"ticks\": \"\"}}, \"type\": \"scattercarpet\"}], \"scattergeo\": [{\"marker\": {\"colorbar\": {\"outlinewidth\": 0, \"ticks\": \"\"}}, \"type\": \"scattergeo\"}], \"scattergl\": [{\"marker\": {\"colorbar\": {\"outlinewidth\": 0, \"ticks\": \"\"}}, \"type\": \"scattergl\"}], \"scattermapbox\": [{\"marker\": {\"colorbar\": {\"outlinewidth\": 0, \"ticks\": \"\"}}, \"type\": \"scattermapbox\"}], \"scatterpolar\": [{\"marker\": {\"colorbar\": {\"outlinewidth\": 0, \"ticks\": \"\"}}, \"type\": \"scatterpolar\"}], \"scatterpolargl\": [{\"marker\": {\"colorbar\": {\"outlinewidth\": 0, \"ticks\": \"\"}}, \"type\": \"scatterpolargl\"}], \"scatterternary\": [{\"marker\": {\"colorbar\": {\"outlinewidth\": 0, \"ticks\": \"\"}}, \"type\": \"scatterternary\"}], \"surface\": [{\"colorbar\": {\"outlinewidth\": 0, \"ticks\": \"\"}, \"colorscale\": [[0.0, \"#0d0887\"], [0.1111111111111111, \"#46039f\"], [0.2222222222222222, \"#7201a8\"], [0.3333333333333333, \"#9c179e\"], [0.4444444444444444, \"#bd3786\"], [0.5555555555555556, \"#d8576b\"], [0.6666666666666666, \"#ed7953\"], [0.7777777777777778, \"#fb9f3a\"], [0.8888888888888888, \"#fdca26\"], [1.0, \"#f0f921\"]], \"type\": \"surface\"}], \"table\": [{\"cells\": {\"fill\": {\"color\": \"#EBF0F8\"}, \"line\": {\"color\": \"white\"}}, \"header\": {\"fill\": {\"color\": \"#C8D4E3\"}, \"line\": {\"color\": \"white\"}}, \"type\": \"table\"}]}, \"layout\": {\"annotationdefaults\": {\"arrowcolor\": \"#2a3f5f\", \"arrowhead\": 0, \"arrowwidth\": 1}, \"coloraxis\": {\"colorbar\": {\"outlinewidth\": 0, \"ticks\": \"\"}}, \"colorscale\": {\"diverging\": [[0, \"#8e0152\"], [0.1, \"#c51b7d\"], [0.2, \"#de77ae\"], [0.3, \"#f1b6da\"], [0.4, \"#fde0ef\"], [0.5, \"#f7f7f7\"], [0.6, \"#e6f5d0\"], [0.7, \"#b8e186\"], [0.8, \"#7fbc41\"], [0.9, \"#4d9221\"], [1, \"#276419\"]], \"sequential\": [[0.0, \"#0d0887\"], [0.1111111111111111, \"#46039f\"], [0.2222222222222222, \"#7201a8\"], [0.3333333333333333, \"#9c179e\"], [0.4444444444444444, \"#bd3786\"], [0.5555555555555556, \"#d8576b\"], [0.6666666666666666, \"#ed7953\"], [0.7777777777777778, \"#fb9f3a\"], [0.8888888888888888, \"#fdca26\"], [1.0, \"#f0f921\"]], \"sequentialminus\": [[0.0, \"#0d0887\"], [0.1111111111111111, \"#46039f\"], [0.2222222222222222, \"#7201a8\"], [0.3333333333333333, \"#9c179e\"], [0.4444444444444444, \"#bd3786\"], [0.5555555555555556, \"#d8576b\"], [0.6666666666666666, \"#ed7953\"], [0.7777777777777778, \"#fb9f3a\"], [0.8888888888888888, \"#fdca26\"], [1.0, \"#f0f921\"]]}, \"colorway\": [\"#636efa\", \"#EF553B\", \"#00cc96\", \"#ab63fa\", \"#FFA15A\", \"#19d3f3\", \"#FF6692\", \"#B6E880\", \"#FF97FF\", \"#FECB52\"], \"font\": {\"color\": \"#2a3f5f\"}, \"geo\": {\"bgcolor\": \"white\", \"lakecolor\": \"white\", \"landcolor\": \"#E5ECF6\", \"showlakes\": true, \"showland\": true, \"subunitcolor\": \"white\"}, \"hoverlabel\": {\"align\": \"left\"}, \"hovermode\": \"closest\", \"mapbox\": {\"style\": \"light\"}, \"paper_bgcolor\": \"white\", \"plot_bgcolor\": \"#E5ECF6\", \"polar\": {\"angularaxis\": {\"gridcolor\": \"white\", \"linecolor\": \"white\", \"ticks\": \"\"}, \"bgcolor\": \"#E5ECF6\", \"radialaxis\": {\"gridcolor\": \"white\", \"linecolor\": \"white\", \"ticks\": \"\"}}, \"scene\": {\"xaxis\": {\"backgroundcolor\": \"#E5ECF6\", \"gridcolor\": \"white\", \"gridwidth\": 2, \"linecolor\": \"white\", \"showbackground\": true, \"ticks\": \"\", \"zerolinecolor\": \"white\"}, \"yaxis\": {\"backgroundcolor\": \"#E5ECF6\", \"gridcolor\": \"white\", \"gridwidth\": 2, \"linecolor\": \"white\", \"showbackground\": true, \"ticks\": \"\", \"zerolinecolor\": \"white\"}, \"zaxis\": {\"backgroundcolor\": \"#E5ECF6\", \"gridcolor\": \"white\", \"gridwidth\": 2, \"linecolor\": \"white\", \"showbackground\": true, \"ticks\": \"\", \"zerolinecolor\": \"white\"}}, \"shapedefaults\": {\"line\": {\"color\": \"#2a3f5f\"}}, \"ternary\": {\"aaxis\": {\"gridcolor\": \"white\", \"linecolor\": \"white\", \"ticks\": \"\"}, \"baxis\": {\"gridcolor\": \"white\", \"linecolor\": \"white\", \"ticks\": \"\"}, \"bgcolor\": \"#E5ECF6\", \"caxis\": {\"gridcolor\": \"white\", \"linecolor\": \"white\", \"ticks\": \"\"}}, \"title\": {\"x\": 0.05}, \"xaxis\": {\"automargin\": true, \"gridcolor\": \"white\", \"linecolor\": \"white\", \"ticks\": \"\", \"title\": {\"standoff\": 15}, \"zerolinecolor\": \"white\", \"zerolinewidth\": 2}, \"yaxis\": {\"automargin\": true, \"gridcolor\": \"white\", \"linecolor\": \"white\", \"ticks\": \"\", \"title\": {\"standoff\": 15}, \"zerolinecolor\": \"white\", \"zerolinewidth\": 2}}}, \"title\": {\"text\": \"Collision frequency Error Percentage ,Lat: -83.75, Lon: -175.0, 2015-03-15 00:05:00\", \"x\": 0.5, \"xanchor\": \"center\", \"y\": 0.9, \"yanchor\": \"top\"}, \"width\": 750, \"xaxis\": {\"exponentformat\": \"power\", \"gridcolor\": \"grey\", \"gridwidth\": 0.5, \"linecolor\": \"black\", \"linewidth\": 2, \"mirror\": true, \"showexponent\": \"all\", \"showgrid\": true, \"showline\": true, \"title\": {\"text\": \"Percentage %\"}}, \"yaxis\": {\"dtick\": 20, \"gridcolor\": \"grey\", \"gridwidth\": 0.5, \"linecolor\": \"black\", \"linewidth\": 2, \"mirror\": true, \"showgrid\": true, \"showline\": true, \"tick0\": 60, \"title\": {\"text\": \"Altitude (km)\"}}},\n",
       "                        {\"responsive\": true}\n",
       "                    ).then(function(){\n",
       "                            \n",
       "var gd = document.getElementById('5d5ec7ba-de71-4752-99ea-7fed36f61f27');\n",
       "var x = new MutationObserver(function (mutations, observer) {{\n",
       "        var display = window.getComputedStyle(gd).display;\n",
       "        if (!display || display === 'none') {{\n",
       "            console.log([gd, 'removed!']);\n",
       "            Plotly.purge(gd);\n",
       "            observer.disconnect();\n",
       "        }}\n",
       "}});\n",
       "\n",
       "// Listen for the removal of the full notebook cells\n",
       "var notebookContainer = gd.closest('#notebook-container');\n",
       "if (notebookContainer) {{\n",
       "    x.observe(notebookContainer, {childList: true});\n",
       "}}\n",
       "\n",
       "// Listen for the clearing of the current output cell\n",
       "var outputEl = gd.closest('.output');\n",
       "if (outputEl) {{\n",
       "    x.observe(outputEl, {childList: true});\n",
       "}}\n",
       "\n",
       "                        })\n",
       "                };\n",
       "                });\n",
       "            </script>\n",
       "        </div>"
      ]
     },
     "metadata": {},
     "output_type": "display_data"
    },
    {
     "data": {
      "application/vnd.plotly.v1+json": {
       "config": {
        "plotlyServerURL": "https://plot.ly"
       },
       "data": [
        {
         "line": {
          "color": "red"
         },
         "mode": "lines",
         "name": "Ohmic Error (%))",
         "type": "scatter",
         "x": [
          15.920946757684298,
          16.07092046878252,
          16.246417619594826,
          16.404731393647378,
          16.520516901629115,
          16.58721059115577,
          16.61593365939607,
          16.62155881594318,
          16.5808393342622,
          16.409444295267136,
          16.035451978975253,
          15.554076124411282,
          15.294984283317294,
          15.538316540522953,
          16.12470669018497,
          16.63859512611333,
          16.869828033441788,
          16.8673494797451,
          16.752410470938532,
          16.601621476565498,
          16.434855562941163,
          16.2424071772225,
          16.02441708676845,
          15.785875589325778,
          15.577822830633782,
          15.520437120237757,
          15.65140470178793,
          15.883247271137968,
          16.105090987617405,
          16.266757207295328,
          16.3736659338353,
          16.44821879128801,
          16.509498948624394,
          16.568992715221285,
          16.63189103878013,
          16.699223345750564,
          16.769678699114678,
          16.84095664256972,
          16.910658207961745,
          16.976788992833306,
          17.037963227480944,
          17.093416093955614,
          17.142910281509536,
          17.186596847469115,
          17.224869933944696,
          17.258238731287598,
          17.287228053591512,
          17.312310131879745,
          17.333872406347474,
          17.352206637376053,
          17.367518902940006,
          17.37994265242068,
          17.38955092220194,
          17.39636067315856,
          17.40032681540586,
          17.401311368465116
         ],
         "y": [
          96.36432,
          97.69113,
          98.96521,
          100.21858,
          101.49149,
          102.83465,
          104.31025,
          105.99205,
          107.9605,
          110.28514,
          112.99677,
          116.0809,
          119.49435,
          123.18561,
          127.1144,
          131.26863,
          135.66771,
          140.35171,
          145.36669,
          150.75399,
          156.54488,
          162.75891,
          169.4047,
          176.48172,
          183.98288,
          191.89784,
          200.21538,
          208.92486,
          218.01702,
          227.48388,
          237.31828,
          247.51354,
          258.0632,
          268.96082,
          280.19986,
          291.77326,
          303.6734,
          315.89174,
          328.419,
          341.2452,
          354.35996,
          367.75308,
          381.41508,
          395.33784,
          409.5154,
          423.9448,
          438.62676,
          453.56656,
          468.7752,
          484.27028,
          500.07764,
          516.23308,
          532.7848,
          549.7966,
          567.35232,
          585.562
         ]
        }
       ],
       "layout": {
        "height": 750,
        "template": {
         "data": {
          "bar": [
           {
            "error_x": {
             "color": "#2a3f5f"
            },
            "error_y": {
             "color": "#2a3f5f"
            },
            "marker": {
             "line": {
              "color": "#E5ECF6",
              "width": 0.5
             }
            },
            "type": "bar"
           }
          ],
          "barpolar": [
           {
            "marker": {
             "line": {
              "color": "#E5ECF6",
              "width": 0.5
             }
            },
            "type": "barpolar"
           }
          ],
          "carpet": [
           {
            "aaxis": {
             "endlinecolor": "#2a3f5f",
             "gridcolor": "white",
             "linecolor": "white",
             "minorgridcolor": "white",
             "startlinecolor": "#2a3f5f"
            },
            "baxis": {
             "endlinecolor": "#2a3f5f",
             "gridcolor": "white",
             "linecolor": "white",
             "minorgridcolor": "white",
             "startlinecolor": "#2a3f5f"
            },
            "type": "carpet"
           }
          ],
          "choropleth": [
           {
            "colorbar": {
             "outlinewidth": 0,
             "ticks": ""
            },
            "type": "choropleth"
           }
          ],
          "contour": [
           {
            "colorbar": {
             "outlinewidth": 0,
             "ticks": ""
            },
            "colorscale": [
             [
              0,
              "#0d0887"
             ],
             [
              0.1111111111111111,
              "#46039f"
             ],
             [
              0.2222222222222222,
              "#7201a8"
             ],
             [
              0.3333333333333333,
              "#9c179e"
             ],
             [
              0.4444444444444444,
              "#bd3786"
             ],
             [
              0.5555555555555556,
              "#d8576b"
             ],
             [
              0.6666666666666666,
              "#ed7953"
             ],
             [
              0.7777777777777778,
              "#fb9f3a"
             ],
             [
              0.8888888888888888,
              "#fdca26"
             ],
             [
              1,
              "#f0f921"
             ]
            ],
            "type": "contour"
           }
          ],
          "contourcarpet": [
           {
            "colorbar": {
             "outlinewidth": 0,
             "ticks": ""
            },
            "type": "contourcarpet"
           }
          ],
          "heatmap": [
           {
            "colorbar": {
             "outlinewidth": 0,
             "ticks": ""
            },
            "colorscale": [
             [
              0,
              "#0d0887"
             ],
             [
              0.1111111111111111,
              "#46039f"
             ],
             [
              0.2222222222222222,
              "#7201a8"
             ],
             [
              0.3333333333333333,
              "#9c179e"
             ],
             [
              0.4444444444444444,
              "#bd3786"
             ],
             [
              0.5555555555555556,
              "#d8576b"
             ],
             [
              0.6666666666666666,
              "#ed7953"
             ],
             [
              0.7777777777777778,
              "#fb9f3a"
             ],
             [
              0.8888888888888888,
              "#fdca26"
             ],
             [
              1,
              "#f0f921"
             ]
            ],
            "type": "heatmap"
           }
          ],
          "heatmapgl": [
           {
            "colorbar": {
             "outlinewidth": 0,
             "ticks": ""
            },
            "colorscale": [
             [
              0,
              "#0d0887"
             ],
             [
              0.1111111111111111,
              "#46039f"
             ],
             [
              0.2222222222222222,
              "#7201a8"
             ],
             [
              0.3333333333333333,
              "#9c179e"
             ],
             [
              0.4444444444444444,
              "#bd3786"
             ],
             [
              0.5555555555555556,
              "#d8576b"
             ],
             [
              0.6666666666666666,
              "#ed7953"
             ],
             [
              0.7777777777777778,
              "#fb9f3a"
             ],
             [
              0.8888888888888888,
              "#fdca26"
             ],
             [
              1,
              "#f0f921"
             ]
            ],
            "type": "heatmapgl"
           }
          ],
          "histogram": [
           {
            "marker": {
             "colorbar": {
              "outlinewidth": 0,
              "ticks": ""
             }
            },
            "type": "histogram"
           }
          ],
          "histogram2d": [
           {
            "colorbar": {
             "outlinewidth": 0,
             "ticks": ""
            },
            "colorscale": [
             [
              0,
              "#0d0887"
             ],
             [
              0.1111111111111111,
              "#46039f"
             ],
             [
              0.2222222222222222,
              "#7201a8"
             ],
             [
              0.3333333333333333,
              "#9c179e"
             ],
             [
              0.4444444444444444,
              "#bd3786"
             ],
             [
              0.5555555555555556,
              "#d8576b"
             ],
             [
              0.6666666666666666,
              "#ed7953"
             ],
             [
              0.7777777777777778,
              "#fb9f3a"
             ],
             [
              0.8888888888888888,
              "#fdca26"
             ],
             [
              1,
              "#f0f921"
             ]
            ],
            "type": "histogram2d"
           }
          ],
          "histogram2dcontour": [
           {
            "colorbar": {
             "outlinewidth": 0,
             "ticks": ""
            },
            "colorscale": [
             [
              0,
              "#0d0887"
             ],
             [
              0.1111111111111111,
              "#46039f"
             ],
             [
              0.2222222222222222,
              "#7201a8"
             ],
             [
              0.3333333333333333,
              "#9c179e"
             ],
             [
              0.4444444444444444,
              "#bd3786"
             ],
             [
              0.5555555555555556,
              "#d8576b"
             ],
             [
              0.6666666666666666,
              "#ed7953"
             ],
             [
              0.7777777777777778,
              "#fb9f3a"
             ],
             [
              0.8888888888888888,
              "#fdca26"
             ],
             [
              1,
              "#f0f921"
             ]
            ],
            "type": "histogram2dcontour"
           }
          ],
          "mesh3d": [
           {
            "colorbar": {
             "outlinewidth": 0,
             "ticks": ""
            },
            "type": "mesh3d"
           }
          ],
          "parcoords": [
           {
            "line": {
             "colorbar": {
              "outlinewidth": 0,
              "ticks": ""
             }
            },
            "type": "parcoords"
           }
          ],
          "pie": [
           {
            "automargin": true,
            "type": "pie"
           }
          ],
          "scatter": [
           {
            "marker": {
             "colorbar": {
              "outlinewidth": 0,
              "ticks": ""
             }
            },
            "type": "scatter"
           }
          ],
          "scatter3d": [
           {
            "line": {
             "colorbar": {
              "outlinewidth": 0,
              "ticks": ""
             }
            },
            "marker": {
             "colorbar": {
              "outlinewidth": 0,
              "ticks": ""
             }
            },
            "type": "scatter3d"
           }
          ],
          "scattercarpet": [
           {
            "marker": {
             "colorbar": {
              "outlinewidth": 0,
              "ticks": ""
             }
            },
            "type": "scattercarpet"
           }
          ],
          "scattergeo": [
           {
            "marker": {
             "colorbar": {
              "outlinewidth": 0,
              "ticks": ""
             }
            },
            "type": "scattergeo"
           }
          ],
          "scattergl": [
           {
            "marker": {
             "colorbar": {
              "outlinewidth": 0,
              "ticks": ""
             }
            },
            "type": "scattergl"
           }
          ],
          "scattermapbox": [
           {
            "marker": {
             "colorbar": {
              "outlinewidth": 0,
              "ticks": ""
             }
            },
            "type": "scattermapbox"
           }
          ],
          "scatterpolar": [
           {
            "marker": {
             "colorbar": {
              "outlinewidth": 0,
              "ticks": ""
             }
            },
            "type": "scatterpolar"
           }
          ],
          "scatterpolargl": [
           {
            "marker": {
             "colorbar": {
              "outlinewidth": 0,
              "ticks": ""
             }
            },
            "type": "scatterpolargl"
           }
          ],
          "scatterternary": [
           {
            "marker": {
             "colorbar": {
              "outlinewidth": 0,
              "ticks": ""
             }
            },
            "type": "scatterternary"
           }
          ],
          "surface": [
           {
            "colorbar": {
             "outlinewidth": 0,
             "ticks": ""
            },
            "colorscale": [
             [
              0,
              "#0d0887"
             ],
             [
              0.1111111111111111,
              "#46039f"
             ],
             [
              0.2222222222222222,
              "#7201a8"
             ],
             [
              0.3333333333333333,
              "#9c179e"
             ],
             [
              0.4444444444444444,
              "#bd3786"
             ],
             [
              0.5555555555555556,
              "#d8576b"
             ],
             [
              0.6666666666666666,
              "#ed7953"
             ],
             [
              0.7777777777777778,
              "#fb9f3a"
             ],
             [
              0.8888888888888888,
              "#fdca26"
             ],
             [
              1,
              "#f0f921"
             ]
            ],
            "type": "surface"
           }
          ],
          "table": [
           {
            "cells": {
             "fill": {
              "color": "#EBF0F8"
             },
             "line": {
              "color": "white"
             }
            },
            "header": {
             "fill": {
              "color": "#C8D4E3"
             },
             "line": {
              "color": "white"
             }
            },
            "type": "table"
           }
          ]
         },
         "layout": {
          "annotationdefaults": {
           "arrowcolor": "#2a3f5f",
           "arrowhead": 0,
           "arrowwidth": 1
          },
          "coloraxis": {
           "colorbar": {
            "outlinewidth": 0,
            "ticks": ""
           }
          },
          "colorscale": {
           "diverging": [
            [
             0,
             "#8e0152"
            ],
            [
             0.1,
             "#c51b7d"
            ],
            [
             0.2,
             "#de77ae"
            ],
            [
             0.3,
             "#f1b6da"
            ],
            [
             0.4,
             "#fde0ef"
            ],
            [
             0.5,
             "#f7f7f7"
            ],
            [
             0.6,
             "#e6f5d0"
            ],
            [
             0.7,
             "#b8e186"
            ],
            [
             0.8,
             "#7fbc41"
            ],
            [
             0.9,
             "#4d9221"
            ],
            [
             1,
             "#276419"
            ]
           ],
           "sequential": [
            [
             0,
             "#0d0887"
            ],
            [
             0.1111111111111111,
             "#46039f"
            ],
            [
             0.2222222222222222,
             "#7201a8"
            ],
            [
             0.3333333333333333,
             "#9c179e"
            ],
            [
             0.4444444444444444,
             "#bd3786"
            ],
            [
             0.5555555555555556,
             "#d8576b"
            ],
            [
             0.6666666666666666,
             "#ed7953"
            ],
            [
             0.7777777777777778,
             "#fb9f3a"
            ],
            [
             0.8888888888888888,
             "#fdca26"
            ],
            [
             1,
             "#f0f921"
            ]
           ],
           "sequentialminus": [
            [
             0,
             "#0d0887"
            ],
            [
             0.1111111111111111,
             "#46039f"
            ],
            [
             0.2222222222222222,
             "#7201a8"
            ],
            [
             0.3333333333333333,
             "#9c179e"
            ],
            [
             0.4444444444444444,
             "#bd3786"
            ],
            [
             0.5555555555555556,
             "#d8576b"
            ],
            [
             0.6666666666666666,
             "#ed7953"
            ],
            [
             0.7777777777777778,
             "#fb9f3a"
            ],
            [
             0.8888888888888888,
             "#fdca26"
            ],
            [
             1,
             "#f0f921"
            ]
           ]
          },
          "colorway": [
           "#636efa",
           "#EF553B",
           "#00cc96",
           "#ab63fa",
           "#FFA15A",
           "#19d3f3",
           "#FF6692",
           "#B6E880",
           "#FF97FF",
           "#FECB52"
          ],
          "font": {
           "color": "#2a3f5f"
          },
          "geo": {
           "bgcolor": "white",
           "lakecolor": "white",
           "landcolor": "#E5ECF6",
           "showlakes": true,
           "showland": true,
           "subunitcolor": "white"
          },
          "hoverlabel": {
           "align": "left"
          },
          "hovermode": "closest",
          "mapbox": {
           "style": "light"
          },
          "paper_bgcolor": "white",
          "plot_bgcolor": "#E5ECF6",
          "polar": {
           "angularaxis": {
            "gridcolor": "white",
            "linecolor": "white",
            "ticks": ""
           },
           "bgcolor": "#E5ECF6",
           "radialaxis": {
            "gridcolor": "white",
            "linecolor": "white",
            "ticks": ""
           }
          },
          "scene": {
           "xaxis": {
            "backgroundcolor": "#E5ECF6",
            "gridcolor": "white",
            "gridwidth": 2,
            "linecolor": "white",
            "showbackground": true,
            "ticks": "",
            "zerolinecolor": "white"
           },
           "yaxis": {
            "backgroundcolor": "#E5ECF6",
            "gridcolor": "white",
            "gridwidth": 2,
            "linecolor": "white",
            "showbackground": true,
            "ticks": "",
            "zerolinecolor": "white"
           },
           "zaxis": {
            "backgroundcolor": "#E5ECF6",
            "gridcolor": "white",
            "gridwidth": 2,
            "linecolor": "white",
            "showbackground": true,
            "ticks": "",
            "zerolinecolor": "white"
           }
          },
          "shapedefaults": {
           "line": {
            "color": "#2a3f5f"
           }
          },
          "ternary": {
           "aaxis": {
            "gridcolor": "white",
            "linecolor": "white",
            "ticks": ""
           },
           "baxis": {
            "gridcolor": "white",
            "linecolor": "white",
            "ticks": ""
           },
           "bgcolor": "#E5ECF6",
           "caxis": {
            "gridcolor": "white",
            "linecolor": "white",
            "ticks": ""
           }
          },
          "title": {
           "x": 0.05
          },
          "xaxis": {
           "automargin": true,
           "gridcolor": "white",
           "linecolor": "white",
           "ticks": "",
           "title": {
            "standoff": 15
           },
           "zerolinecolor": "white",
           "zerolinewidth": 2
          },
          "yaxis": {
           "automargin": true,
           "gridcolor": "white",
           "linecolor": "white",
           "ticks": "",
           "title": {
            "standoff": 15
           },
           "zerolinecolor": "white",
           "zerolinewidth": 2
          }
         }
        },
        "title": {
         "text": "Ohmic Heating Error Percentage ,Lat: -83.75, Lon: -175.0, 2015-03-15 00:05:00",
         "x": 0.5,
         "xanchor": "center",
         "y": 0.9,
         "yanchor": "top"
        },
        "width": 750,
        "xaxis": {
         "exponentformat": "power",
         "gridcolor": "grey",
         "gridwidth": 0.5,
         "linecolor": "black",
         "linewidth": 2,
         "mirror": true,
         "showexponent": "all",
         "showgrid": true,
         "showline": true,
         "title": {
          "text": "Percentage %"
         }
        },
        "yaxis": {
         "dtick": 20,
         "gridcolor": "grey",
         "gridwidth": 0.5,
         "linecolor": "black",
         "linewidth": 2,
         "mirror": true,
         "showgrid": true,
         "showline": true,
         "tick0": 60,
         "title": {
          "text": "Altitude (km)"
         }
        }
       }
      },
      "text/html": [
       "<div>\n",
       "        \n",
       "        \n",
       "            <div id=\"92507c4a-af85-45c6-846b-71a639229380\" class=\"plotly-graph-div\" style=\"height:750px; width:750px;\"></div>\n",
       "            <script type=\"text/javascript\">\n",
       "                require([\"plotly\"], function(Plotly) {\n",
       "                    window.PLOTLYENV=window.PLOTLYENV || {};\n",
       "                    \n",
       "                if (document.getElementById(\"92507c4a-af85-45c6-846b-71a639229380\")) {\n",
       "                    Plotly.newPlot(\n",
       "                        '92507c4a-af85-45c6-846b-71a639229380',\n",
       "                        [{\"line\": {\"color\": \"red\"}, \"mode\": \"lines\", \"name\": \"Ohmic Error (%))\", \"type\": \"scatter\", \"x\": [15.920946757684298, 16.07092046878252, 16.246417619594826, 16.404731393647378, 16.520516901629115, 16.58721059115577, 16.61593365939607, 16.62155881594318, 16.5808393342622, 16.409444295267136, 16.035451978975253, 15.554076124411282, 15.294984283317294, 15.538316540522953, 16.12470669018497, 16.63859512611333, 16.869828033441788, 16.8673494797451, 16.752410470938532, 16.601621476565498, 16.434855562941163, 16.2424071772225, 16.02441708676845, 15.785875589325778, 15.577822830633782, 15.520437120237757, 15.65140470178793, 15.883247271137968, 16.105090987617405, 16.266757207295328, 16.3736659338353, 16.44821879128801, 16.509498948624394, 16.568992715221285, 16.63189103878013, 16.699223345750564, 16.769678699114678, 16.84095664256972, 16.910658207961745, 16.976788992833306, 17.037963227480944, 17.093416093955614, 17.142910281509536, 17.186596847469115, 17.224869933944696, 17.258238731287598, 17.287228053591512, 17.312310131879745, 17.333872406347474, 17.352206637376053, 17.367518902940006, 17.37994265242068, 17.38955092220194, 17.39636067315856, 17.40032681540586, 17.401311368465116], \"y\": [96.36432, 97.69113, 98.96521, 100.21858, 101.49149, 102.83465, 104.31025, 105.99205, 107.9605, 110.28514, 112.99677, 116.0809, 119.49435, 123.18561, 127.1144, 131.26863, 135.66771, 140.35171, 145.36669, 150.75399, 156.54488, 162.75891, 169.4047, 176.48172, 183.98288, 191.89784, 200.21538, 208.92486, 218.01702, 227.48388, 237.31828, 247.51354, 258.0632, 268.96082, 280.19986, 291.77326, 303.6734, 315.89174, 328.419, 341.2452, 354.35996, 367.75308, 381.41508, 395.33784, 409.5154, 423.9448, 438.62676, 453.56656, 468.7752, 484.27028, 500.07764, 516.23308, 532.7848, 549.7966, 567.35232, 585.562]}],\n",
       "                        {\"height\": 750, \"template\": {\"data\": {\"bar\": [{\"error_x\": {\"color\": \"#2a3f5f\"}, \"error_y\": {\"color\": \"#2a3f5f\"}, \"marker\": {\"line\": {\"color\": \"#E5ECF6\", \"width\": 0.5}}, \"type\": \"bar\"}], \"barpolar\": [{\"marker\": {\"line\": {\"color\": \"#E5ECF6\", \"width\": 0.5}}, \"type\": \"barpolar\"}], \"carpet\": [{\"aaxis\": {\"endlinecolor\": \"#2a3f5f\", \"gridcolor\": \"white\", \"linecolor\": \"white\", \"minorgridcolor\": \"white\", \"startlinecolor\": \"#2a3f5f\"}, \"baxis\": {\"endlinecolor\": \"#2a3f5f\", \"gridcolor\": \"white\", \"linecolor\": \"white\", \"minorgridcolor\": \"white\", \"startlinecolor\": \"#2a3f5f\"}, \"type\": \"carpet\"}], \"choropleth\": [{\"colorbar\": {\"outlinewidth\": 0, \"ticks\": \"\"}, \"type\": \"choropleth\"}], \"contour\": [{\"colorbar\": {\"outlinewidth\": 0, \"ticks\": \"\"}, \"colorscale\": [[0.0, \"#0d0887\"], [0.1111111111111111, \"#46039f\"], [0.2222222222222222, \"#7201a8\"], [0.3333333333333333, \"#9c179e\"], [0.4444444444444444, \"#bd3786\"], [0.5555555555555556, \"#d8576b\"], [0.6666666666666666, \"#ed7953\"], [0.7777777777777778, \"#fb9f3a\"], [0.8888888888888888, \"#fdca26\"], [1.0, \"#f0f921\"]], \"type\": \"contour\"}], \"contourcarpet\": [{\"colorbar\": {\"outlinewidth\": 0, \"ticks\": \"\"}, \"type\": \"contourcarpet\"}], \"heatmap\": [{\"colorbar\": {\"outlinewidth\": 0, \"ticks\": \"\"}, \"colorscale\": [[0.0, \"#0d0887\"], [0.1111111111111111, \"#46039f\"], [0.2222222222222222, \"#7201a8\"], [0.3333333333333333, \"#9c179e\"], [0.4444444444444444, \"#bd3786\"], [0.5555555555555556, \"#d8576b\"], [0.6666666666666666, \"#ed7953\"], [0.7777777777777778, \"#fb9f3a\"], [0.8888888888888888, \"#fdca26\"], [1.0, \"#f0f921\"]], \"type\": \"heatmap\"}], \"heatmapgl\": [{\"colorbar\": {\"outlinewidth\": 0, \"ticks\": \"\"}, \"colorscale\": [[0.0, \"#0d0887\"], [0.1111111111111111, \"#46039f\"], [0.2222222222222222, \"#7201a8\"], [0.3333333333333333, \"#9c179e\"], [0.4444444444444444, \"#bd3786\"], [0.5555555555555556, \"#d8576b\"], [0.6666666666666666, \"#ed7953\"], [0.7777777777777778, \"#fb9f3a\"], [0.8888888888888888, \"#fdca26\"], [1.0, \"#f0f921\"]], \"type\": \"heatmapgl\"}], \"histogram\": [{\"marker\": {\"colorbar\": {\"outlinewidth\": 0, \"ticks\": \"\"}}, \"type\": \"histogram\"}], \"histogram2d\": [{\"colorbar\": {\"outlinewidth\": 0, \"ticks\": \"\"}, \"colorscale\": [[0.0, \"#0d0887\"], [0.1111111111111111, \"#46039f\"], [0.2222222222222222, \"#7201a8\"], [0.3333333333333333, \"#9c179e\"], [0.4444444444444444, \"#bd3786\"], [0.5555555555555556, \"#d8576b\"], [0.6666666666666666, \"#ed7953\"], [0.7777777777777778, \"#fb9f3a\"], [0.8888888888888888, \"#fdca26\"], [1.0, \"#f0f921\"]], \"type\": \"histogram2d\"}], \"histogram2dcontour\": [{\"colorbar\": {\"outlinewidth\": 0, \"ticks\": \"\"}, \"colorscale\": [[0.0, \"#0d0887\"], [0.1111111111111111, \"#46039f\"], [0.2222222222222222, \"#7201a8\"], [0.3333333333333333, \"#9c179e\"], [0.4444444444444444, \"#bd3786\"], [0.5555555555555556, \"#d8576b\"], [0.6666666666666666, \"#ed7953\"], [0.7777777777777778, \"#fb9f3a\"], [0.8888888888888888, \"#fdca26\"], [1.0, \"#f0f921\"]], \"type\": \"histogram2dcontour\"}], \"mesh3d\": [{\"colorbar\": {\"outlinewidth\": 0, \"ticks\": \"\"}, \"type\": \"mesh3d\"}], \"parcoords\": [{\"line\": {\"colorbar\": {\"outlinewidth\": 0, \"ticks\": \"\"}}, \"type\": \"parcoords\"}], \"pie\": [{\"automargin\": true, \"type\": \"pie\"}], \"scatter\": [{\"marker\": {\"colorbar\": {\"outlinewidth\": 0, \"ticks\": \"\"}}, \"type\": \"scatter\"}], \"scatter3d\": [{\"line\": {\"colorbar\": {\"outlinewidth\": 0, \"ticks\": \"\"}}, \"marker\": {\"colorbar\": {\"outlinewidth\": 0, \"ticks\": \"\"}}, \"type\": \"scatter3d\"}], \"scattercarpet\": [{\"marker\": {\"colorbar\": {\"outlinewidth\": 0, \"ticks\": \"\"}}, \"type\": \"scattercarpet\"}], \"scattergeo\": [{\"marker\": {\"colorbar\": {\"outlinewidth\": 0, \"ticks\": \"\"}}, \"type\": \"scattergeo\"}], \"scattergl\": [{\"marker\": {\"colorbar\": {\"outlinewidth\": 0, \"ticks\": \"\"}}, \"type\": \"scattergl\"}], \"scattermapbox\": [{\"marker\": {\"colorbar\": {\"outlinewidth\": 0, \"ticks\": \"\"}}, \"type\": \"scattermapbox\"}], \"scatterpolar\": [{\"marker\": {\"colorbar\": {\"outlinewidth\": 0, \"ticks\": \"\"}}, \"type\": \"scatterpolar\"}], \"scatterpolargl\": [{\"marker\": {\"colorbar\": {\"outlinewidth\": 0, \"ticks\": \"\"}}, \"type\": \"scatterpolargl\"}], \"scatterternary\": [{\"marker\": {\"colorbar\": {\"outlinewidth\": 0, \"ticks\": \"\"}}, \"type\": \"scatterternary\"}], \"surface\": [{\"colorbar\": {\"outlinewidth\": 0, \"ticks\": \"\"}, \"colorscale\": [[0.0, \"#0d0887\"], [0.1111111111111111, \"#46039f\"], [0.2222222222222222, \"#7201a8\"], [0.3333333333333333, \"#9c179e\"], [0.4444444444444444, \"#bd3786\"], [0.5555555555555556, \"#d8576b\"], [0.6666666666666666, \"#ed7953\"], [0.7777777777777778, \"#fb9f3a\"], [0.8888888888888888, \"#fdca26\"], [1.0, \"#f0f921\"]], \"type\": \"surface\"}], \"table\": [{\"cells\": {\"fill\": {\"color\": \"#EBF0F8\"}, \"line\": {\"color\": \"white\"}}, \"header\": {\"fill\": {\"color\": \"#C8D4E3\"}, \"line\": {\"color\": \"white\"}}, \"type\": \"table\"}]}, \"layout\": {\"annotationdefaults\": {\"arrowcolor\": \"#2a3f5f\", \"arrowhead\": 0, \"arrowwidth\": 1}, \"coloraxis\": {\"colorbar\": {\"outlinewidth\": 0, \"ticks\": \"\"}}, \"colorscale\": {\"diverging\": [[0, \"#8e0152\"], [0.1, \"#c51b7d\"], [0.2, \"#de77ae\"], [0.3, \"#f1b6da\"], [0.4, \"#fde0ef\"], [0.5, \"#f7f7f7\"], [0.6, \"#e6f5d0\"], [0.7, \"#b8e186\"], [0.8, \"#7fbc41\"], [0.9, \"#4d9221\"], [1, \"#276419\"]], \"sequential\": [[0.0, \"#0d0887\"], [0.1111111111111111, \"#46039f\"], [0.2222222222222222, \"#7201a8\"], [0.3333333333333333, \"#9c179e\"], [0.4444444444444444, \"#bd3786\"], [0.5555555555555556, \"#d8576b\"], [0.6666666666666666, \"#ed7953\"], [0.7777777777777778, \"#fb9f3a\"], [0.8888888888888888, \"#fdca26\"], [1.0, \"#f0f921\"]], \"sequentialminus\": [[0.0, \"#0d0887\"], [0.1111111111111111, \"#46039f\"], [0.2222222222222222, \"#7201a8\"], [0.3333333333333333, \"#9c179e\"], [0.4444444444444444, \"#bd3786\"], [0.5555555555555556, \"#d8576b\"], [0.6666666666666666, \"#ed7953\"], [0.7777777777777778, \"#fb9f3a\"], [0.8888888888888888, \"#fdca26\"], [1.0, \"#f0f921\"]]}, \"colorway\": [\"#636efa\", \"#EF553B\", \"#00cc96\", \"#ab63fa\", \"#FFA15A\", \"#19d3f3\", \"#FF6692\", \"#B6E880\", \"#FF97FF\", \"#FECB52\"], \"font\": {\"color\": \"#2a3f5f\"}, \"geo\": {\"bgcolor\": \"white\", \"lakecolor\": \"white\", \"landcolor\": \"#E5ECF6\", \"showlakes\": true, \"showland\": true, \"subunitcolor\": \"white\"}, \"hoverlabel\": {\"align\": \"left\"}, \"hovermode\": \"closest\", \"mapbox\": {\"style\": \"light\"}, \"paper_bgcolor\": \"white\", \"plot_bgcolor\": \"#E5ECF6\", \"polar\": {\"angularaxis\": {\"gridcolor\": \"white\", \"linecolor\": \"white\", \"ticks\": \"\"}, \"bgcolor\": \"#E5ECF6\", \"radialaxis\": {\"gridcolor\": \"white\", \"linecolor\": \"white\", \"ticks\": \"\"}}, \"scene\": {\"xaxis\": {\"backgroundcolor\": \"#E5ECF6\", \"gridcolor\": \"white\", \"gridwidth\": 2, \"linecolor\": \"white\", \"showbackground\": true, \"ticks\": \"\", \"zerolinecolor\": \"white\"}, \"yaxis\": {\"backgroundcolor\": \"#E5ECF6\", \"gridcolor\": \"white\", \"gridwidth\": 2, \"linecolor\": \"white\", \"showbackground\": true, \"ticks\": \"\", \"zerolinecolor\": \"white\"}, \"zaxis\": {\"backgroundcolor\": \"#E5ECF6\", \"gridcolor\": \"white\", \"gridwidth\": 2, \"linecolor\": \"white\", \"showbackground\": true, \"ticks\": \"\", \"zerolinecolor\": \"white\"}}, \"shapedefaults\": {\"line\": {\"color\": \"#2a3f5f\"}}, \"ternary\": {\"aaxis\": {\"gridcolor\": \"white\", \"linecolor\": \"white\", \"ticks\": \"\"}, \"baxis\": {\"gridcolor\": \"white\", \"linecolor\": \"white\", \"ticks\": \"\"}, \"bgcolor\": \"#E5ECF6\", \"caxis\": {\"gridcolor\": \"white\", \"linecolor\": \"white\", \"ticks\": \"\"}}, \"title\": {\"x\": 0.05}, \"xaxis\": {\"automargin\": true, \"gridcolor\": \"white\", \"linecolor\": \"white\", \"ticks\": \"\", \"title\": {\"standoff\": 15}, \"zerolinecolor\": \"white\", \"zerolinewidth\": 2}, \"yaxis\": {\"automargin\": true, \"gridcolor\": \"white\", \"linecolor\": \"white\", \"ticks\": \"\", \"title\": {\"standoff\": 15}, \"zerolinecolor\": \"white\", \"zerolinewidth\": 2}}}, \"title\": {\"text\": \"Ohmic Heating Error Percentage ,Lat: -83.75, Lon: -175.0, 2015-03-15 00:05:00\", \"x\": 0.5, \"xanchor\": \"center\", \"y\": 0.9, \"yanchor\": \"top\"}, \"width\": 750, \"xaxis\": {\"exponentformat\": \"power\", \"gridcolor\": \"grey\", \"gridwidth\": 0.5, \"linecolor\": \"black\", \"linewidth\": 2, \"mirror\": true, \"showexponent\": \"all\", \"showgrid\": true, \"showline\": true, \"title\": {\"text\": \"Percentage %\"}}, \"yaxis\": {\"dtick\": 20, \"gridcolor\": \"grey\", \"gridwidth\": 0.5, \"linecolor\": \"black\", \"linewidth\": 2, \"mirror\": true, \"showgrid\": true, \"showline\": true, \"tick0\": 60, \"title\": {\"text\": \"Altitude (km)\"}}},\n",
       "                        {\"responsive\": true}\n",
       "                    ).then(function(){\n",
       "                            \n",
       "var gd = document.getElementById('92507c4a-af85-45c6-846b-71a639229380');\n",
       "var x = new MutationObserver(function (mutations, observer) {{\n",
       "        var display = window.getComputedStyle(gd).display;\n",
       "        if (!display || display === 'none') {{\n",
       "            console.log([gd, 'removed!']);\n",
       "            Plotly.purge(gd);\n",
       "            observer.disconnect();\n",
       "        }}\n",
       "}});\n",
       "\n",
       "// Listen for the removal of the full notebook cells\n",
       "var notebookContainer = gd.closest('#notebook-container');\n",
       "if (notebookContainer) {{\n",
       "    x.observe(notebookContainer, {childList: true});\n",
       "}}\n",
       "\n",
       "// Listen for the clearing of the current output cell\n",
       "var outputEl = gd.closest('.output');\n",
       "if (outputEl) {{\n",
       "    x.observe(outputEl, {childList: true});\n",
       "}}\n",
       "\n",
       "                        })\n",
       "                };\n",
       "                });\n",
       "            </script>\n",
       "        </div>"
      ]
     },
     "metadata": {},
     "output_type": "display_data"
    },
    {
     "data": {
      "application/vnd.plotly.v1+json": {
       "config": {
        "plotlyServerURL": "https://plot.ly"
       },
       "data": [
        {
         "line": {
          "color": "red"
         },
         "mode": "lines",
         "name": "Ohmic",
         "type": "scatter",
         "x": [
          4.297105179534065e-11,
          7.653330036089699e-11,
          1.351260687753162e-10,
          2.3067774247004836e-10,
          3.9949351636465624e-10,
          7.106569193470686e-10,
          1.3083964065588274e-09,
          2.4604757970982265e-09,
          4.502046126844219e-09,
          7.392917623127319e-09,
          1.0012962642749873e-08,
          1.0643079926638659e-08,
          9.089426170835547e-09,
          6.808772934476557e-09,
          4.91928383206295e-09,
          3.6337486239104966e-09,
          2.781957464884149e-09,
          2.1833201579373666e-09,
          1.7335382952368325e-09,
          1.3863822846228839e-09,
          1.121424268258226e-09,
          9.243176731493951e-10,
          8.02019501732656e-10,
          7.149486114778704e-10,
          6.405883674459206e-10,
          5.923672010744453e-10,
          5.591717351715867e-10,
          5.293851139920324e-10,
          4.941398551337065e-10,
          4.4949930372578095e-10,
          3.967188791427089e-10,
          3.400212280222157e-10,
          2.839991396579263e-10,
          2.3210277123530875e-10,
          1.8628496399210536e-10,
          1.4725997170770335e-10,
          1.1491796306690194e-10,
          8.86847594937641e-11,
          6.777485123539767e-11,
          5.134970070851769e-11,
          3.860777410303612e-11,
          2.8830046325511752e-11,
          2.139811733709909e-11,
          1.5796267523230534e-11,
          1.160469426989346e-11,
          8.488338149403482e-12,
          6.184206528720791e-12,
          4.48875965081526e-12,
          3.246360504667712e-12,
          2.3392185247504667e-12,
          1.6789650394736156e-12,
          1.199793002453101e-12,
          8.529987071597715e-13,
          6.027197124011607e-13,
          4.2265802347371557e-13,
          2.9359034336387514e-13
         ],
         "y": [
          96.36432,
          97.69113,
          98.96521,
          100.21858,
          101.49149,
          102.83465,
          104.31025,
          105.99205,
          107.9605,
          110.28514,
          112.99677,
          116.0809,
          119.49435,
          123.18561,
          127.1144,
          131.26863,
          135.66771,
          140.35171,
          145.36669,
          150.75399,
          156.54488,
          162.75891,
          169.4047,
          176.48172,
          183.98288,
          191.89784,
          200.21538,
          208.92486,
          218.01702,
          227.48388,
          237.31828,
          247.51354,
          258.0632,
          268.96082,
          280.19986,
          291.77326,
          303.6734,
          315.89174,
          328.419,
          341.2452,
          354.35996,
          367.75308,
          381.41508,
          395.33784,
          409.5154,
          423.9448,
          438.62676,
          453.56656,
          468.7752,
          484.27028,
          500.07764,
          516.23308,
          532.7848,
          549.7966,
          567.35232,
          585.562
         ]
        },
        {
         "line": {
          "color": "purple",
          "dash": "dot"
         },
         "mode": "lines",
         "name": "Ohmic max With Error",
         "type": "scatter",
         "x": [
          4.981245007289377e-11,
          8.883290619403119e-11,
          1.57079214221495e-10,
          2.6851980650718944e-10,
          4.6549191025659173e-10,
          8.285350791397869e-10,
          1.5257986854745644e-09,
          2.869445228864955e-09,
          5.2485231618906325e-09,
          8.606054322289383e-09,
          1.1618586459000762e-08,
          1.2298512680409973e-08,
          1.0479652475108572e-08,
          7.866741625560977e-09,
          5.712503921240792e-09,
          4.2383533453436785e-09,
          3.251268905173602e-09,
          2.551588399238385e-09,
          2.023947746125817e-09,
          1.616544223734136e-09,
          1.3057287269942355e-09,
          1.0744491132333484e-09,
          9.305384518075189e-10,
          8.278095098133791e-10,
          7.403780884002954e-10,
          6.843051800381169e-10,
          6.466899664213017e-10,
          6.134686606639825e-10,
          5.737215284090708e-10,
          5.226182641113367e-10,
          4.6167630310999185e-10,
          3.95948663544134e-10,
          3.308859746338539e-10,
          2.705598624931138e-10,
          2.172676762249031e-10,
          1.7185124328206182e-10,
          1.3418933624078867e-10,
          1.0362012138867614e-10,
          7.92360246787703e-11,
          6.006723104625417e-11,
          4.518575245766033e-11,
          3.375808610401164e-11,
          2.5066377394130126e-11,
          1.8511108339395862e-11,
          1.3603587764114542e-11,
          9.953275811546494e-12,
          7.253284414645849e-12,
          5.26586764263908e-12,
          3.809080492396871e-12,
          2.7451245568649473e-12,
          1.97055961007795e-12,
          1.4083163382272062e-12,
          1.0013313517070442e-12,
          7.075710074186906e-13,
          4.962019008696769e-13,
          3.446789131603689e-13
         ],
         "y": [
          96.36432,
          97.69113,
          98.96521,
          100.21858,
          101.49149,
          102.83465,
          104.31025,
          105.99205,
          107.9605,
          110.28514,
          112.99677,
          116.0809,
          119.49435,
          123.18561,
          127.1144,
          131.26863,
          135.66771,
          140.35171,
          145.36669,
          150.75399,
          156.54488,
          162.75891,
          169.4047,
          176.48172,
          183.98288,
          191.89784,
          200.21538,
          208.92486,
          218.01702,
          227.48388,
          237.31828,
          247.51354,
          258.0632,
          268.96082,
          280.19986,
          291.77326,
          303.6734,
          315.89174,
          328.419,
          341.2452,
          354.35996,
          367.75308,
          381.41508,
          395.33784,
          409.5154,
          423.9448,
          438.62676,
          453.56656,
          468.7752,
          484.27028,
          500.07764,
          516.23308,
          532.7848,
          549.7966,
          567.35232,
          585.562
         ]
        },
        {
         "line": {
          "color": "orange",
          "dash": "dot"
         },
         "mode": "lines",
         "name": "Ohmic min With Error",
         "type": "scatter",
         "x": [
          3.612965351778752e-11,
          6.423369452776278e-11,
          1.131729233291374e-10,
          1.9283567843290728e-10,
          3.3349512247272074e-10,
          5.927787595543504e-10,
          1.0909941276430905e-09,
          2.051506365331498e-09,
          3.755569091797805e-09,
          6.179780923965254e-09,
          8.407338826498985e-09,
          8.987647172867345e-09,
          7.699199866562522e-09,
          5.750804243392136e-09,
          4.126063742885108e-09,
          3.0291439024773147e-09,
          2.3126460245946962e-09,
          1.8150519166363481e-09,
          1.443128844347848e-09,
          1.1562203455116318e-09,
          9.371198095222167e-10,
          7.741862330654418e-10,
          6.735005516577931e-10,
          6.020877131423616e-10,
          5.407986464915457e-10,
          5.004292221107737e-10,
          4.716535039218718e-10,
          4.453015673200823e-10,
          4.1455818185834223e-10,
          3.7638034334022517e-10,
          3.3176145517542595e-10,
          2.8409379250029736e-10,
          2.3711230468199864e-10,
          1.9364567997750372e-10,
          1.553022517593076e-10,
          1.2266870013334488e-10,
          9.564658989301521e-11,
          7.374939759885206e-11,
          5.631367779202503e-11,
          4.263217037078121e-11,
          3.2029795748411915e-11,
          2.3902006547011868e-11,
          1.7729857280068054e-11,
          1.3081426707065208e-11,
          9.60580077567238e-12,
          7.023400487260469e-12,
          5.1151286427957325e-12,
          3.71165165899144e-12,
          2.683640516938553e-12,
          1.933312492635986e-12,
          1.3873704688692813e-12,
          9.91269666678996e-13,
          7.046660626124988e-13,
          4.978684173836308e-13,
          3.4911414607775423e-13,
          2.425017735673814e-13
         ],
         "y": [
          96.36432,
          97.69113,
          98.96521,
          100.21858,
          101.49149,
          102.83465,
          104.31025,
          105.99205,
          107.9605,
          110.28514,
          112.99677,
          116.0809,
          119.49435,
          123.18561,
          127.1144,
          131.26863,
          135.66771,
          140.35171,
          145.36669,
          150.75399,
          156.54488,
          162.75891,
          169.4047,
          176.48172,
          183.98288,
          191.89784,
          200.21538,
          208.92486,
          218.01702,
          227.48388,
          237.31828,
          247.51354,
          258.0632,
          268.96082,
          280.19986,
          291.77326,
          303.6734,
          315.89174,
          328.419,
          341.2452,
          354.35996,
          367.75308,
          381.41508,
          395.33784,
          409.5154,
          423.9448,
          438.62676,
          453.56656,
          468.7752,
          484.27028,
          500.07764,
          516.23308,
          532.7848,
          549.7966,
          567.35232,
          585.562
         ]
        }
       ],
       "layout": {
        "height": 850,
        "template": {
         "data": {
          "bar": [
           {
            "error_x": {
             "color": "#2a3f5f"
            },
            "error_y": {
             "color": "#2a3f5f"
            },
            "marker": {
             "line": {
              "color": "#E5ECF6",
              "width": 0.5
             }
            },
            "type": "bar"
           }
          ],
          "barpolar": [
           {
            "marker": {
             "line": {
              "color": "#E5ECF6",
              "width": 0.5
             }
            },
            "type": "barpolar"
           }
          ],
          "carpet": [
           {
            "aaxis": {
             "endlinecolor": "#2a3f5f",
             "gridcolor": "white",
             "linecolor": "white",
             "minorgridcolor": "white",
             "startlinecolor": "#2a3f5f"
            },
            "baxis": {
             "endlinecolor": "#2a3f5f",
             "gridcolor": "white",
             "linecolor": "white",
             "minorgridcolor": "white",
             "startlinecolor": "#2a3f5f"
            },
            "type": "carpet"
           }
          ],
          "choropleth": [
           {
            "colorbar": {
             "outlinewidth": 0,
             "ticks": ""
            },
            "type": "choropleth"
           }
          ],
          "contour": [
           {
            "colorbar": {
             "outlinewidth": 0,
             "ticks": ""
            },
            "colorscale": [
             [
              0,
              "#0d0887"
             ],
             [
              0.1111111111111111,
              "#46039f"
             ],
             [
              0.2222222222222222,
              "#7201a8"
             ],
             [
              0.3333333333333333,
              "#9c179e"
             ],
             [
              0.4444444444444444,
              "#bd3786"
             ],
             [
              0.5555555555555556,
              "#d8576b"
             ],
             [
              0.6666666666666666,
              "#ed7953"
             ],
             [
              0.7777777777777778,
              "#fb9f3a"
             ],
             [
              0.8888888888888888,
              "#fdca26"
             ],
             [
              1,
              "#f0f921"
             ]
            ],
            "type": "contour"
           }
          ],
          "contourcarpet": [
           {
            "colorbar": {
             "outlinewidth": 0,
             "ticks": ""
            },
            "type": "contourcarpet"
           }
          ],
          "heatmap": [
           {
            "colorbar": {
             "outlinewidth": 0,
             "ticks": ""
            },
            "colorscale": [
             [
              0,
              "#0d0887"
             ],
             [
              0.1111111111111111,
              "#46039f"
             ],
             [
              0.2222222222222222,
              "#7201a8"
             ],
             [
              0.3333333333333333,
              "#9c179e"
             ],
             [
              0.4444444444444444,
              "#bd3786"
             ],
             [
              0.5555555555555556,
              "#d8576b"
             ],
             [
              0.6666666666666666,
              "#ed7953"
             ],
             [
              0.7777777777777778,
              "#fb9f3a"
             ],
             [
              0.8888888888888888,
              "#fdca26"
             ],
             [
              1,
              "#f0f921"
             ]
            ],
            "type": "heatmap"
           }
          ],
          "heatmapgl": [
           {
            "colorbar": {
             "outlinewidth": 0,
             "ticks": ""
            },
            "colorscale": [
             [
              0,
              "#0d0887"
             ],
             [
              0.1111111111111111,
              "#46039f"
             ],
             [
              0.2222222222222222,
              "#7201a8"
             ],
             [
              0.3333333333333333,
              "#9c179e"
             ],
             [
              0.4444444444444444,
              "#bd3786"
             ],
             [
              0.5555555555555556,
              "#d8576b"
             ],
             [
              0.6666666666666666,
              "#ed7953"
             ],
             [
              0.7777777777777778,
              "#fb9f3a"
             ],
             [
              0.8888888888888888,
              "#fdca26"
             ],
             [
              1,
              "#f0f921"
             ]
            ],
            "type": "heatmapgl"
           }
          ],
          "histogram": [
           {
            "marker": {
             "colorbar": {
              "outlinewidth": 0,
              "ticks": ""
             }
            },
            "type": "histogram"
           }
          ],
          "histogram2d": [
           {
            "colorbar": {
             "outlinewidth": 0,
             "ticks": ""
            },
            "colorscale": [
             [
              0,
              "#0d0887"
             ],
             [
              0.1111111111111111,
              "#46039f"
             ],
             [
              0.2222222222222222,
              "#7201a8"
             ],
             [
              0.3333333333333333,
              "#9c179e"
             ],
             [
              0.4444444444444444,
              "#bd3786"
             ],
             [
              0.5555555555555556,
              "#d8576b"
             ],
             [
              0.6666666666666666,
              "#ed7953"
             ],
             [
              0.7777777777777778,
              "#fb9f3a"
             ],
             [
              0.8888888888888888,
              "#fdca26"
             ],
             [
              1,
              "#f0f921"
             ]
            ],
            "type": "histogram2d"
           }
          ],
          "histogram2dcontour": [
           {
            "colorbar": {
             "outlinewidth": 0,
             "ticks": ""
            },
            "colorscale": [
             [
              0,
              "#0d0887"
             ],
             [
              0.1111111111111111,
              "#46039f"
             ],
             [
              0.2222222222222222,
              "#7201a8"
             ],
             [
              0.3333333333333333,
              "#9c179e"
             ],
             [
              0.4444444444444444,
              "#bd3786"
             ],
             [
              0.5555555555555556,
              "#d8576b"
             ],
             [
              0.6666666666666666,
              "#ed7953"
             ],
             [
              0.7777777777777778,
              "#fb9f3a"
             ],
             [
              0.8888888888888888,
              "#fdca26"
             ],
             [
              1,
              "#f0f921"
             ]
            ],
            "type": "histogram2dcontour"
           }
          ],
          "mesh3d": [
           {
            "colorbar": {
             "outlinewidth": 0,
             "ticks": ""
            },
            "type": "mesh3d"
           }
          ],
          "parcoords": [
           {
            "line": {
             "colorbar": {
              "outlinewidth": 0,
              "ticks": ""
             }
            },
            "type": "parcoords"
           }
          ],
          "pie": [
           {
            "automargin": true,
            "type": "pie"
           }
          ],
          "scatter": [
           {
            "marker": {
             "colorbar": {
              "outlinewidth": 0,
              "ticks": ""
             }
            },
            "type": "scatter"
           }
          ],
          "scatter3d": [
           {
            "line": {
             "colorbar": {
              "outlinewidth": 0,
              "ticks": ""
             }
            },
            "marker": {
             "colorbar": {
              "outlinewidth": 0,
              "ticks": ""
             }
            },
            "type": "scatter3d"
           }
          ],
          "scattercarpet": [
           {
            "marker": {
             "colorbar": {
              "outlinewidth": 0,
              "ticks": ""
             }
            },
            "type": "scattercarpet"
           }
          ],
          "scattergeo": [
           {
            "marker": {
             "colorbar": {
              "outlinewidth": 0,
              "ticks": ""
             }
            },
            "type": "scattergeo"
           }
          ],
          "scattergl": [
           {
            "marker": {
             "colorbar": {
              "outlinewidth": 0,
              "ticks": ""
             }
            },
            "type": "scattergl"
           }
          ],
          "scattermapbox": [
           {
            "marker": {
             "colorbar": {
              "outlinewidth": 0,
              "ticks": ""
             }
            },
            "type": "scattermapbox"
           }
          ],
          "scatterpolar": [
           {
            "marker": {
             "colorbar": {
              "outlinewidth": 0,
              "ticks": ""
             }
            },
            "type": "scatterpolar"
           }
          ],
          "scatterpolargl": [
           {
            "marker": {
             "colorbar": {
              "outlinewidth": 0,
              "ticks": ""
             }
            },
            "type": "scatterpolargl"
           }
          ],
          "scatterternary": [
           {
            "marker": {
             "colorbar": {
              "outlinewidth": 0,
              "ticks": ""
             }
            },
            "type": "scatterternary"
           }
          ],
          "surface": [
           {
            "colorbar": {
             "outlinewidth": 0,
             "ticks": ""
            },
            "colorscale": [
             [
              0,
              "#0d0887"
             ],
             [
              0.1111111111111111,
              "#46039f"
             ],
             [
              0.2222222222222222,
              "#7201a8"
             ],
             [
              0.3333333333333333,
              "#9c179e"
             ],
             [
              0.4444444444444444,
              "#bd3786"
             ],
             [
              0.5555555555555556,
              "#d8576b"
             ],
             [
              0.6666666666666666,
              "#ed7953"
             ],
             [
              0.7777777777777778,
              "#fb9f3a"
             ],
             [
              0.8888888888888888,
              "#fdca26"
             ],
             [
              1,
              "#f0f921"
             ]
            ],
            "type": "surface"
           }
          ],
          "table": [
           {
            "cells": {
             "fill": {
              "color": "#EBF0F8"
             },
             "line": {
              "color": "white"
             }
            },
            "header": {
             "fill": {
              "color": "#C8D4E3"
             },
             "line": {
              "color": "white"
             }
            },
            "type": "table"
           }
          ]
         },
         "layout": {
          "annotationdefaults": {
           "arrowcolor": "#2a3f5f",
           "arrowhead": 0,
           "arrowwidth": 1
          },
          "coloraxis": {
           "colorbar": {
            "outlinewidth": 0,
            "ticks": ""
           }
          },
          "colorscale": {
           "diverging": [
            [
             0,
             "#8e0152"
            ],
            [
             0.1,
             "#c51b7d"
            ],
            [
             0.2,
             "#de77ae"
            ],
            [
             0.3,
             "#f1b6da"
            ],
            [
             0.4,
             "#fde0ef"
            ],
            [
             0.5,
             "#f7f7f7"
            ],
            [
             0.6,
             "#e6f5d0"
            ],
            [
             0.7,
             "#b8e186"
            ],
            [
             0.8,
             "#7fbc41"
            ],
            [
             0.9,
             "#4d9221"
            ],
            [
             1,
             "#276419"
            ]
           ],
           "sequential": [
            [
             0,
             "#0d0887"
            ],
            [
             0.1111111111111111,
             "#46039f"
            ],
            [
             0.2222222222222222,
             "#7201a8"
            ],
            [
             0.3333333333333333,
             "#9c179e"
            ],
            [
             0.4444444444444444,
             "#bd3786"
            ],
            [
             0.5555555555555556,
             "#d8576b"
            ],
            [
             0.6666666666666666,
             "#ed7953"
            ],
            [
             0.7777777777777778,
             "#fb9f3a"
            ],
            [
             0.8888888888888888,
             "#fdca26"
            ],
            [
             1,
             "#f0f921"
            ]
           ],
           "sequentialminus": [
            [
             0,
             "#0d0887"
            ],
            [
             0.1111111111111111,
             "#46039f"
            ],
            [
             0.2222222222222222,
             "#7201a8"
            ],
            [
             0.3333333333333333,
             "#9c179e"
            ],
            [
             0.4444444444444444,
             "#bd3786"
            ],
            [
             0.5555555555555556,
             "#d8576b"
            ],
            [
             0.6666666666666666,
             "#ed7953"
            ],
            [
             0.7777777777777778,
             "#fb9f3a"
            ],
            [
             0.8888888888888888,
             "#fdca26"
            ],
            [
             1,
             "#f0f921"
            ]
           ]
          },
          "colorway": [
           "#636efa",
           "#EF553B",
           "#00cc96",
           "#ab63fa",
           "#FFA15A",
           "#19d3f3",
           "#FF6692",
           "#B6E880",
           "#FF97FF",
           "#FECB52"
          ],
          "font": {
           "color": "#2a3f5f"
          },
          "geo": {
           "bgcolor": "white",
           "lakecolor": "white",
           "landcolor": "#E5ECF6",
           "showlakes": true,
           "showland": true,
           "subunitcolor": "white"
          },
          "hoverlabel": {
           "align": "left"
          },
          "hovermode": "closest",
          "mapbox": {
           "style": "light"
          },
          "paper_bgcolor": "white",
          "plot_bgcolor": "#E5ECF6",
          "polar": {
           "angularaxis": {
            "gridcolor": "white",
            "linecolor": "white",
            "ticks": ""
           },
           "bgcolor": "#E5ECF6",
           "radialaxis": {
            "gridcolor": "white",
            "linecolor": "white",
            "ticks": ""
           }
          },
          "scene": {
           "xaxis": {
            "backgroundcolor": "#E5ECF6",
            "gridcolor": "white",
            "gridwidth": 2,
            "linecolor": "white",
            "showbackground": true,
            "ticks": "",
            "zerolinecolor": "white"
           },
           "yaxis": {
            "backgroundcolor": "#E5ECF6",
            "gridcolor": "white",
            "gridwidth": 2,
            "linecolor": "white",
            "showbackground": true,
            "ticks": "",
            "zerolinecolor": "white"
           },
           "zaxis": {
            "backgroundcolor": "#E5ECF6",
            "gridcolor": "white",
            "gridwidth": 2,
            "linecolor": "white",
            "showbackground": true,
            "ticks": "",
            "zerolinecolor": "white"
           }
          },
          "shapedefaults": {
           "line": {
            "color": "#2a3f5f"
           }
          },
          "ternary": {
           "aaxis": {
            "gridcolor": "white",
            "linecolor": "white",
            "ticks": ""
           },
           "baxis": {
            "gridcolor": "white",
            "linecolor": "white",
            "ticks": ""
           },
           "bgcolor": "#E5ECF6",
           "caxis": {
            "gridcolor": "white",
            "linecolor": "white",
            "ticks": ""
           }
          },
          "title": {
           "x": 0.05
          },
          "xaxis": {
           "automargin": true,
           "gridcolor": "white",
           "linecolor": "white",
           "ticks": "",
           "title": {
            "standoff": 15
           },
           "zerolinecolor": "white",
           "zerolinewidth": 2
          },
          "yaxis": {
           "automargin": true,
           "gridcolor": "white",
           "linecolor": "white",
           "ticks": "",
           "title": {
            "standoff": 15
           },
           "zerolinecolor": "white",
           "zerolinewidth": 2
          }
         }
        },
        "title": {
         "text": "Ohmic Heating ,Lat: -83.75, Lon: -175.0, 2015-03-15 00:05:00",
         "x": 0.5,
         "xanchor": "center",
         "y": 0.9,
         "yanchor": "top"
        },
        "width": 750,
        "xaxis": {
         "exponentformat": "power",
         "gridcolor": "grey",
         "gridwidth": 0.5,
         "linecolor": "black",
         "linewidth": 2,
         "mirror": true,
         "showexponent": "all",
         "showgrid": true,
         "showline": true,
         "title": {
          "text": ""
         },
         "type": "log"
        },
        "yaxis": {
         "dtick": 20,
         "gridcolor": "grey",
         "gridwidth": 0.5,
         "linecolor": "black",
         "linewidth": 2,
         "mirror": true,
         "showgrid": true,
         "showline": true,
         "tick0": 60,
         "title": {
          "text": "Altitude (km)"
         }
        }
       }
      },
      "text/html": [
       "<div>\n",
       "        \n",
       "        \n",
       "            <div id=\"f731fae9-8f63-43fd-8664-958589fa52e3\" class=\"plotly-graph-div\" style=\"height:850px; width:750px;\"></div>\n",
       "            <script type=\"text/javascript\">\n",
       "                require([\"plotly\"], function(Plotly) {\n",
       "                    window.PLOTLYENV=window.PLOTLYENV || {};\n",
       "                    \n",
       "                if (document.getElementById(\"f731fae9-8f63-43fd-8664-958589fa52e3\")) {\n",
       "                    Plotly.newPlot(\n",
       "                        'f731fae9-8f63-43fd-8664-958589fa52e3',\n",
       "                        [{\"line\": {\"color\": \"red\"}, \"mode\": \"lines\", \"name\": \"Ohmic\", \"type\": \"scatter\", \"x\": [4.297105179534065e-11, 7.653330036089699e-11, 1.351260687753162e-10, 2.3067774247004836e-10, 3.9949351636465624e-10, 7.106569193470686e-10, 1.3083964065588274e-09, 2.4604757970982265e-09, 4.502046126844219e-09, 7.392917623127319e-09, 1.0012962642749873e-08, 1.0643079926638659e-08, 9.089426170835547e-09, 6.808772934476557e-09, 4.91928383206295e-09, 3.6337486239104966e-09, 2.781957464884149e-09, 2.1833201579373666e-09, 1.7335382952368325e-09, 1.3863822846228839e-09, 1.121424268258226e-09, 9.243176731493951e-10, 8.02019501732656e-10, 7.149486114778704e-10, 6.405883674459206e-10, 5.923672010744453e-10, 5.591717351715867e-10, 5.293851139920324e-10, 4.941398551337065e-10, 4.4949930372578095e-10, 3.967188791427089e-10, 3.400212280222157e-10, 2.839991396579263e-10, 2.3210277123530875e-10, 1.8628496399210536e-10, 1.4725997170770335e-10, 1.1491796306690194e-10, 8.86847594937641e-11, 6.777485123539767e-11, 5.134970070851769e-11, 3.860777410303612e-11, 2.8830046325511752e-11, 2.139811733709909e-11, 1.5796267523230534e-11, 1.160469426989346e-11, 8.488338149403482e-12, 6.184206528720791e-12, 4.48875965081526e-12, 3.246360504667712e-12, 2.3392185247504667e-12, 1.6789650394736156e-12, 1.199793002453101e-12, 8.529987071597715e-13, 6.027197124011607e-13, 4.2265802347371557e-13, 2.9359034336387514e-13], \"y\": [96.36432, 97.69113, 98.96521, 100.21858, 101.49149, 102.83465, 104.31025, 105.99205, 107.9605, 110.28514, 112.99677, 116.0809, 119.49435, 123.18561, 127.1144, 131.26863, 135.66771, 140.35171, 145.36669, 150.75399, 156.54488, 162.75891, 169.4047, 176.48172, 183.98288, 191.89784, 200.21538, 208.92486, 218.01702, 227.48388, 237.31828, 247.51354, 258.0632, 268.96082, 280.19986, 291.77326, 303.6734, 315.89174, 328.419, 341.2452, 354.35996, 367.75308, 381.41508, 395.33784, 409.5154, 423.9448, 438.62676, 453.56656, 468.7752, 484.27028, 500.07764, 516.23308, 532.7848, 549.7966, 567.35232, 585.562]}, {\"line\": {\"color\": \"purple\", \"dash\": \"dot\"}, \"mode\": \"lines\", \"name\": \"Ohmic max With Error\", \"type\": \"scatter\", \"x\": [4.981245007289377e-11, 8.883290619403119e-11, 1.57079214221495e-10, 2.6851980650718944e-10, 4.6549191025659173e-10, 8.285350791397869e-10, 1.5257986854745644e-09, 2.869445228864955e-09, 5.2485231618906325e-09, 8.606054322289383e-09, 1.1618586459000762e-08, 1.2298512680409973e-08, 1.0479652475108572e-08, 7.866741625560977e-09, 5.712503921240792e-09, 4.2383533453436785e-09, 3.251268905173602e-09, 2.551588399238385e-09, 2.023947746125817e-09, 1.616544223734136e-09, 1.3057287269942355e-09, 1.0744491132333484e-09, 9.305384518075189e-10, 8.278095098133791e-10, 7.403780884002954e-10, 6.843051800381169e-10, 6.466899664213017e-10, 6.134686606639825e-10, 5.737215284090708e-10, 5.226182641113367e-10, 4.6167630310999185e-10, 3.95948663544134e-10, 3.308859746338539e-10, 2.705598624931138e-10, 2.172676762249031e-10, 1.7185124328206182e-10, 1.3418933624078867e-10, 1.0362012138867614e-10, 7.92360246787703e-11, 6.006723104625417e-11, 4.518575245766033e-11, 3.375808610401164e-11, 2.5066377394130126e-11, 1.8511108339395862e-11, 1.3603587764114542e-11, 9.953275811546494e-12, 7.253284414645849e-12, 5.26586764263908e-12, 3.809080492396871e-12, 2.7451245568649473e-12, 1.97055961007795e-12, 1.4083163382272062e-12, 1.0013313517070442e-12, 7.075710074186906e-13, 4.962019008696769e-13, 3.446789131603689e-13], \"y\": [96.36432, 97.69113, 98.96521, 100.21858, 101.49149, 102.83465, 104.31025, 105.99205, 107.9605, 110.28514, 112.99677, 116.0809, 119.49435, 123.18561, 127.1144, 131.26863, 135.66771, 140.35171, 145.36669, 150.75399, 156.54488, 162.75891, 169.4047, 176.48172, 183.98288, 191.89784, 200.21538, 208.92486, 218.01702, 227.48388, 237.31828, 247.51354, 258.0632, 268.96082, 280.19986, 291.77326, 303.6734, 315.89174, 328.419, 341.2452, 354.35996, 367.75308, 381.41508, 395.33784, 409.5154, 423.9448, 438.62676, 453.56656, 468.7752, 484.27028, 500.07764, 516.23308, 532.7848, 549.7966, 567.35232, 585.562]}, {\"line\": {\"color\": \"orange\", \"dash\": \"dot\"}, \"mode\": \"lines\", \"name\": \"Ohmic min With Error\", \"type\": \"scatter\", \"x\": [3.612965351778752e-11, 6.423369452776278e-11, 1.131729233291374e-10, 1.9283567843290728e-10, 3.3349512247272074e-10, 5.927787595543504e-10, 1.0909941276430905e-09, 2.051506365331498e-09, 3.755569091797805e-09, 6.179780923965254e-09, 8.407338826498985e-09, 8.987647172867345e-09, 7.699199866562522e-09, 5.750804243392136e-09, 4.126063742885108e-09, 3.0291439024773147e-09, 2.3126460245946962e-09, 1.8150519166363481e-09, 1.443128844347848e-09, 1.1562203455116318e-09, 9.371198095222167e-10, 7.741862330654418e-10, 6.735005516577931e-10, 6.020877131423616e-10, 5.407986464915457e-10, 5.004292221107737e-10, 4.716535039218718e-10, 4.453015673200823e-10, 4.1455818185834223e-10, 3.7638034334022517e-10, 3.3176145517542595e-10, 2.8409379250029736e-10, 2.3711230468199864e-10, 1.9364567997750372e-10, 1.553022517593076e-10, 1.2266870013334488e-10, 9.564658989301521e-11, 7.374939759885206e-11, 5.631367779202503e-11, 4.263217037078121e-11, 3.2029795748411915e-11, 2.3902006547011868e-11, 1.7729857280068054e-11, 1.3081426707065208e-11, 9.60580077567238e-12, 7.023400487260469e-12, 5.1151286427957325e-12, 3.71165165899144e-12, 2.683640516938553e-12, 1.933312492635986e-12, 1.3873704688692813e-12, 9.91269666678996e-13, 7.046660626124988e-13, 4.978684173836308e-13, 3.4911414607775423e-13, 2.425017735673814e-13], \"y\": [96.36432, 97.69113, 98.96521, 100.21858, 101.49149, 102.83465, 104.31025, 105.99205, 107.9605, 110.28514, 112.99677, 116.0809, 119.49435, 123.18561, 127.1144, 131.26863, 135.66771, 140.35171, 145.36669, 150.75399, 156.54488, 162.75891, 169.4047, 176.48172, 183.98288, 191.89784, 200.21538, 208.92486, 218.01702, 227.48388, 237.31828, 247.51354, 258.0632, 268.96082, 280.19986, 291.77326, 303.6734, 315.89174, 328.419, 341.2452, 354.35996, 367.75308, 381.41508, 395.33784, 409.5154, 423.9448, 438.62676, 453.56656, 468.7752, 484.27028, 500.07764, 516.23308, 532.7848, 549.7966, 567.35232, 585.562]}],\n",
       "                        {\"height\": 850, \"template\": {\"data\": {\"bar\": [{\"error_x\": {\"color\": \"#2a3f5f\"}, \"error_y\": {\"color\": \"#2a3f5f\"}, \"marker\": {\"line\": {\"color\": \"#E5ECF6\", \"width\": 0.5}}, \"type\": \"bar\"}], \"barpolar\": [{\"marker\": {\"line\": {\"color\": \"#E5ECF6\", \"width\": 0.5}}, \"type\": \"barpolar\"}], \"carpet\": [{\"aaxis\": {\"endlinecolor\": \"#2a3f5f\", \"gridcolor\": \"white\", \"linecolor\": \"white\", \"minorgridcolor\": \"white\", \"startlinecolor\": \"#2a3f5f\"}, \"baxis\": {\"endlinecolor\": \"#2a3f5f\", \"gridcolor\": \"white\", \"linecolor\": \"white\", \"minorgridcolor\": \"white\", \"startlinecolor\": \"#2a3f5f\"}, \"type\": \"carpet\"}], \"choropleth\": [{\"colorbar\": {\"outlinewidth\": 0, \"ticks\": \"\"}, \"type\": \"choropleth\"}], \"contour\": [{\"colorbar\": {\"outlinewidth\": 0, \"ticks\": \"\"}, \"colorscale\": [[0.0, \"#0d0887\"], [0.1111111111111111, \"#46039f\"], [0.2222222222222222, \"#7201a8\"], [0.3333333333333333, \"#9c179e\"], [0.4444444444444444, \"#bd3786\"], [0.5555555555555556, \"#d8576b\"], [0.6666666666666666, \"#ed7953\"], [0.7777777777777778, \"#fb9f3a\"], [0.8888888888888888, \"#fdca26\"], [1.0, \"#f0f921\"]], \"type\": \"contour\"}], \"contourcarpet\": [{\"colorbar\": {\"outlinewidth\": 0, \"ticks\": \"\"}, \"type\": \"contourcarpet\"}], \"heatmap\": [{\"colorbar\": {\"outlinewidth\": 0, \"ticks\": \"\"}, \"colorscale\": [[0.0, \"#0d0887\"], [0.1111111111111111, \"#46039f\"], [0.2222222222222222, \"#7201a8\"], [0.3333333333333333, \"#9c179e\"], [0.4444444444444444, \"#bd3786\"], [0.5555555555555556, \"#d8576b\"], [0.6666666666666666, \"#ed7953\"], [0.7777777777777778, \"#fb9f3a\"], [0.8888888888888888, \"#fdca26\"], [1.0, \"#f0f921\"]], \"type\": \"heatmap\"}], \"heatmapgl\": [{\"colorbar\": {\"outlinewidth\": 0, \"ticks\": \"\"}, \"colorscale\": [[0.0, \"#0d0887\"], [0.1111111111111111, \"#46039f\"], [0.2222222222222222, \"#7201a8\"], [0.3333333333333333, \"#9c179e\"], [0.4444444444444444, \"#bd3786\"], [0.5555555555555556, \"#d8576b\"], [0.6666666666666666, \"#ed7953\"], [0.7777777777777778, \"#fb9f3a\"], [0.8888888888888888, \"#fdca26\"], [1.0, \"#f0f921\"]], \"type\": \"heatmapgl\"}], \"histogram\": [{\"marker\": {\"colorbar\": {\"outlinewidth\": 0, \"ticks\": \"\"}}, \"type\": \"histogram\"}], \"histogram2d\": [{\"colorbar\": {\"outlinewidth\": 0, \"ticks\": \"\"}, \"colorscale\": [[0.0, \"#0d0887\"], [0.1111111111111111, \"#46039f\"], [0.2222222222222222, \"#7201a8\"], [0.3333333333333333, \"#9c179e\"], [0.4444444444444444, \"#bd3786\"], [0.5555555555555556, \"#d8576b\"], [0.6666666666666666, \"#ed7953\"], [0.7777777777777778, \"#fb9f3a\"], [0.8888888888888888, \"#fdca26\"], [1.0, \"#f0f921\"]], \"type\": \"histogram2d\"}], \"histogram2dcontour\": [{\"colorbar\": {\"outlinewidth\": 0, \"ticks\": \"\"}, \"colorscale\": [[0.0, \"#0d0887\"], [0.1111111111111111, \"#46039f\"], [0.2222222222222222, \"#7201a8\"], [0.3333333333333333, \"#9c179e\"], [0.4444444444444444, \"#bd3786\"], [0.5555555555555556, \"#d8576b\"], [0.6666666666666666, \"#ed7953\"], [0.7777777777777778, \"#fb9f3a\"], [0.8888888888888888, \"#fdca26\"], [1.0, \"#f0f921\"]], \"type\": \"histogram2dcontour\"}], \"mesh3d\": [{\"colorbar\": {\"outlinewidth\": 0, \"ticks\": \"\"}, \"type\": \"mesh3d\"}], \"parcoords\": [{\"line\": {\"colorbar\": {\"outlinewidth\": 0, \"ticks\": \"\"}}, \"type\": \"parcoords\"}], \"pie\": [{\"automargin\": true, \"type\": \"pie\"}], \"scatter\": [{\"marker\": {\"colorbar\": {\"outlinewidth\": 0, \"ticks\": \"\"}}, \"type\": \"scatter\"}], \"scatter3d\": [{\"line\": {\"colorbar\": {\"outlinewidth\": 0, \"ticks\": \"\"}}, \"marker\": {\"colorbar\": {\"outlinewidth\": 0, \"ticks\": \"\"}}, \"type\": \"scatter3d\"}], \"scattercarpet\": [{\"marker\": {\"colorbar\": {\"outlinewidth\": 0, \"ticks\": \"\"}}, \"type\": \"scattercarpet\"}], \"scattergeo\": [{\"marker\": {\"colorbar\": {\"outlinewidth\": 0, \"ticks\": \"\"}}, \"type\": \"scattergeo\"}], \"scattergl\": [{\"marker\": {\"colorbar\": {\"outlinewidth\": 0, \"ticks\": \"\"}}, \"type\": \"scattergl\"}], \"scattermapbox\": [{\"marker\": {\"colorbar\": {\"outlinewidth\": 0, \"ticks\": \"\"}}, \"type\": \"scattermapbox\"}], \"scatterpolar\": [{\"marker\": {\"colorbar\": {\"outlinewidth\": 0, \"ticks\": \"\"}}, \"type\": \"scatterpolar\"}], \"scatterpolargl\": [{\"marker\": {\"colorbar\": {\"outlinewidth\": 0, \"ticks\": \"\"}}, \"type\": \"scatterpolargl\"}], \"scatterternary\": [{\"marker\": {\"colorbar\": {\"outlinewidth\": 0, \"ticks\": \"\"}}, \"type\": \"scatterternary\"}], \"surface\": [{\"colorbar\": {\"outlinewidth\": 0, \"ticks\": \"\"}, \"colorscale\": [[0.0, \"#0d0887\"], [0.1111111111111111, \"#46039f\"], [0.2222222222222222, \"#7201a8\"], [0.3333333333333333, \"#9c179e\"], [0.4444444444444444, \"#bd3786\"], [0.5555555555555556, \"#d8576b\"], [0.6666666666666666, \"#ed7953\"], [0.7777777777777778, \"#fb9f3a\"], [0.8888888888888888, \"#fdca26\"], [1.0, \"#f0f921\"]], \"type\": \"surface\"}], \"table\": [{\"cells\": {\"fill\": {\"color\": \"#EBF0F8\"}, \"line\": {\"color\": \"white\"}}, \"header\": {\"fill\": {\"color\": \"#C8D4E3\"}, \"line\": {\"color\": \"white\"}}, \"type\": \"table\"}]}, \"layout\": {\"annotationdefaults\": {\"arrowcolor\": \"#2a3f5f\", \"arrowhead\": 0, \"arrowwidth\": 1}, \"coloraxis\": {\"colorbar\": {\"outlinewidth\": 0, \"ticks\": \"\"}}, \"colorscale\": {\"diverging\": [[0, \"#8e0152\"], [0.1, \"#c51b7d\"], [0.2, \"#de77ae\"], [0.3, \"#f1b6da\"], [0.4, \"#fde0ef\"], [0.5, \"#f7f7f7\"], [0.6, \"#e6f5d0\"], [0.7, \"#b8e186\"], [0.8, \"#7fbc41\"], [0.9, \"#4d9221\"], [1, \"#276419\"]], \"sequential\": [[0.0, \"#0d0887\"], [0.1111111111111111, \"#46039f\"], [0.2222222222222222, \"#7201a8\"], [0.3333333333333333, \"#9c179e\"], [0.4444444444444444, \"#bd3786\"], [0.5555555555555556, \"#d8576b\"], [0.6666666666666666, \"#ed7953\"], [0.7777777777777778, \"#fb9f3a\"], [0.8888888888888888, \"#fdca26\"], [1.0, \"#f0f921\"]], \"sequentialminus\": [[0.0, \"#0d0887\"], [0.1111111111111111, \"#46039f\"], [0.2222222222222222, \"#7201a8\"], [0.3333333333333333, \"#9c179e\"], [0.4444444444444444, \"#bd3786\"], [0.5555555555555556, \"#d8576b\"], [0.6666666666666666, \"#ed7953\"], [0.7777777777777778, \"#fb9f3a\"], [0.8888888888888888, \"#fdca26\"], [1.0, \"#f0f921\"]]}, \"colorway\": [\"#636efa\", \"#EF553B\", \"#00cc96\", \"#ab63fa\", \"#FFA15A\", \"#19d3f3\", \"#FF6692\", \"#B6E880\", \"#FF97FF\", \"#FECB52\"], \"font\": {\"color\": \"#2a3f5f\"}, \"geo\": {\"bgcolor\": \"white\", \"lakecolor\": \"white\", \"landcolor\": \"#E5ECF6\", \"showlakes\": true, \"showland\": true, \"subunitcolor\": \"white\"}, \"hoverlabel\": {\"align\": \"left\"}, \"hovermode\": \"closest\", \"mapbox\": {\"style\": \"light\"}, \"paper_bgcolor\": \"white\", \"plot_bgcolor\": \"#E5ECF6\", \"polar\": {\"angularaxis\": {\"gridcolor\": \"white\", \"linecolor\": \"white\", \"ticks\": \"\"}, \"bgcolor\": \"#E5ECF6\", \"radialaxis\": {\"gridcolor\": \"white\", \"linecolor\": \"white\", \"ticks\": \"\"}}, \"scene\": {\"xaxis\": {\"backgroundcolor\": \"#E5ECF6\", \"gridcolor\": \"white\", \"gridwidth\": 2, \"linecolor\": \"white\", \"showbackground\": true, \"ticks\": \"\", \"zerolinecolor\": \"white\"}, \"yaxis\": {\"backgroundcolor\": \"#E5ECF6\", \"gridcolor\": \"white\", \"gridwidth\": 2, \"linecolor\": \"white\", \"showbackground\": true, \"ticks\": \"\", \"zerolinecolor\": \"white\"}, \"zaxis\": {\"backgroundcolor\": \"#E5ECF6\", \"gridcolor\": \"white\", \"gridwidth\": 2, \"linecolor\": \"white\", \"showbackground\": true, \"ticks\": \"\", \"zerolinecolor\": \"white\"}}, \"shapedefaults\": {\"line\": {\"color\": \"#2a3f5f\"}}, \"ternary\": {\"aaxis\": {\"gridcolor\": \"white\", \"linecolor\": \"white\", \"ticks\": \"\"}, \"baxis\": {\"gridcolor\": \"white\", \"linecolor\": \"white\", \"ticks\": \"\"}, \"bgcolor\": \"#E5ECF6\", \"caxis\": {\"gridcolor\": \"white\", \"linecolor\": \"white\", \"ticks\": \"\"}}, \"title\": {\"x\": 0.05}, \"xaxis\": {\"automargin\": true, \"gridcolor\": \"white\", \"linecolor\": \"white\", \"ticks\": \"\", \"title\": {\"standoff\": 15}, \"zerolinecolor\": \"white\", \"zerolinewidth\": 2}, \"yaxis\": {\"automargin\": true, \"gridcolor\": \"white\", \"linecolor\": \"white\", \"ticks\": \"\", \"title\": {\"standoff\": 15}, \"zerolinecolor\": \"white\", \"zerolinewidth\": 2}}}, \"title\": {\"text\": \"Ohmic Heating ,Lat: -83.75, Lon: -175.0, 2015-03-15 00:05:00\", \"x\": 0.5, \"xanchor\": \"center\", \"y\": 0.9, \"yanchor\": \"top\"}, \"width\": 750, \"xaxis\": {\"exponentformat\": \"power\", \"gridcolor\": \"grey\", \"gridwidth\": 0.5, \"linecolor\": \"black\", \"linewidth\": 2, \"mirror\": true, \"showexponent\": \"all\", \"showgrid\": true, \"showline\": true, \"title\": {\"text\": \"\"}, \"type\": \"log\"}, \"yaxis\": {\"dtick\": 20, \"gridcolor\": \"grey\", \"gridwidth\": 0.5, \"linecolor\": \"black\", \"linewidth\": 2, \"mirror\": true, \"showgrid\": true, \"showline\": true, \"tick0\": 60, \"title\": {\"text\": \"Altitude (km)\"}}},\n",
       "                        {\"responsive\": true}\n",
       "                    ).then(function(){\n",
       "                            \n",
       "var gd = document.getElementById('f731fae9-8f63-43fd-8664-958589fa52e3');\n",
       "var x = new MutationObserver(function (mutations, observer) {{\n",
       "        var display = window.getComputedStyle(gd).display;\n",
       "        if (!display || display === 'none') {{\n",
       "            console.log([gd, 'removed!']);\n",
       "            Plotly.purge(gd);\n",
       "            observer.disconnect();\n",
       "        }}\n",
       "}});\n",
       "\n",
       "// Listen for the removal of the full notebook cells\n",
       "var notebookContainer = gd.closest('#notebook-container');\n",
       "if (notebookContainer) {{\n",
       "    x.observe(notebookContainer, {childList: true});\n",
       "}}\n",
       "\n",
       "// Listen for the clearing of the current output cell\n",
       "var outputEl = gd.closest('.output');\n",
       "if (outputEl) {{\n",
       "    x.observe(outputEl, {childList: true});\n",
       "}}\n",
       "\n",
       "                        })\n",
       "                };\n",
       "                });\n",
       "            </script>\n",
       "        </div>"
      ]
     },
     "metadata": {},
     "output_type": "display_data"
    }
   ],
   "source": [
    "import sys\n",
    "sys.path.insert(1, \"../SourceCode\")\n",
    "import DaedalusGlobals as DaedalusGlobals\n",
    "from netCDF4 import Dataset\n",
    "import numpy as np\n",
    "from datetime import datetime\n",
    "import pyglow\n",
    "from ipywidgets import*\n",
    "import ipywidgets as widgets\n",
    "import warnings\n",
    "import glob\n",
    "import matplotlib.pyplot as plt\n",
    "import plotly.graph_objects as go\n",
    "from mpl_toolkits.basemap import Basemap, shiftgrid, addcyclic\n",
    "import matplotlib.mlab as mlab\n",
    "from mpl_toolkits.axes_grid1 import make_axes_locatable\n",
    "from scipy.interpolate import griddata\n",
    "from pylab import *\n",
    "from matplotlib.patches import Polygon\n",
    "import time\n",
    "import pandas as pd\n",
    "import sympy as sy\n",
    "import image\n",
    "\n",
    "# factors needed\n",
    "ArO = 15.9994  # atomic mass O=16\n",
    "ArN = 14.0067  # atomic mass N=14\n",
    "\n",
    "NAvog = 6.02214076e23\n",
    "\n",
    "q_e = 1.60217657e-19  # Coulomb\n",
    "\n",
    "m_NOplus = (ArO + ArN) / (NAvog * 1000)\n",
    "m_O2plus = 2 * ArO / (NAvog * 1000)\n",
    "m_Oplus = 1 * ArO / (NAvog * 1000)  # kg\n",
    "\n",
    "mO = 16   # Oxygen atomic mass in g/mol\n",
    "mN2 = 28  # N2 molecular mass in g/mol\n",
    "mO2 = 32  # O2 molecular mass in g/mol\n",
    "mNO = 30  # NO molecular mass in g/mol\n",
    "m_e = 9.11e-31  # kg\n",
    "CubicCm2CubicM = 10 ** (6)\n",
    "boltzmann = 1.380645852 * 10 ** (-16)  # Boltzmann constant in cm^2*g*s^(-2)*K^(-1)\n",
    "\n",
    "fb = 1.7  # Burnside Factor, the factor that connect theoretical and practical estimations of Oplus [from 1.7-0.3 to 1.7+0.7]\n",
    "\n",
    "# range for emphirical models in km\n",
    "min_IGRF_alt = 0\n",
    "max_IGRF_alt = 30000\n",
    "\n",
    "# global variables for empirical models\n",
    "geod_lats = np.zeros((72, 144, 57), order='F')  # degrees\n",
    "geod_lons = np.zeros((72, 144, 57), order='F')  # degrees\n",
    "geog_lats = np.zeros((72, 144, 57), order='F')  # degrees\n",
    "geog_lons = np.zeros((72, 144, 57), order='F')  # degrees\n",
    "date_array = np.zeros((72, 144, 57), order='F') # type of datetime\n",
    "heights = np.zeros((72, 144, 57), order='F')    # in km\n",
    "\n",
    "peder_TIEGCM = np.zeros((72, 144, 57), order='F')\n",
    "Te_TIEGCM = np.zeros((72, 144, 57), order='F')  # kelvin\n",
    "Ti_TIEGCM = np.zeros((72, 144, 57), order='F')  # kelvin\n",
    "Tn_TIEGCM = np.zeros((72, 144, 57), order='F')  # kelvin\n",
    "O_TIEGCM = np.zeros((72, 144, 57), order='F')   # cm^-3\n",
    "O2_TIEGCM = np.zeros((72, 144, 57), order='F')  # cm^-3\n",
    "Op_TIEGCM = np.zeros((72, 144, 57), order='F')  # cm^-3\n",
    "O2p_TIEGCM = np.zeros((72, 144, 57), order='F') # cm^-3\n",
    "Ne_TIEGCM = np.zeros((72, 144, 57), order='F')  # cm^-3\n",
    "NO_TIEGCM = np.zeros((72, 144, 57), order='F')  # cm^-3\n",
    "N2_TIEGCM = np.zeros((72, 144, 57), order='F')  # cm^-3\n",
    "# Un_vector\n",
    "Un_x_TIEGCM = np.zeros((72, 144, 57), order='F')  # m/s\n",
    "Un_y_TIEGCM = np.zeros((72, 144, 57), order='F')  # m/s\n",
    "Un_z_TIEGCM = np.zeros((72, 144, 57), order='F')  # m/s\n",
    "# Ui_vector\n",
    "Ui_x_TIEGCM = np.zeros((72, 144, 57), order='F')  # m/s\n",
    "Ui_y_TIEGCM = np.zeros((72, 144, 57), order='F')  # m/s\n",
    "Ui_z_TIEGCM = np.zeros((72, 144, 57), order='F')  # m/s\n",
    "# IGRF\n",
    "B_IGRF = np.zeros((72, 144, 57), order='F')   # tesla\n",
    "Be_IGRF = np.zeros((72, 144, 57), order='F')  # tesla\n",
    "Bn_IGRF = np.zeros((72, 144, 57), order='F')  # tesla\n",
    "Bu_IGRF = np.zeros((72, 144, 57), order='F')  # tesla\n",
    "# B_vector_IGRF \n",
    "Bx_IGRF = np.zeros((72, 144, 57), order='F')  # tesla\n",
    "By_IGRF = np.zeros((72, 144, 57), order='F')  # tesla\n",
    "Bz_IGRF = np.zeros((72, 144, 57), order='F')  # tesla\n",
    "bnorm = np.zeros((72, 144, 57), order='F')    # tesla\n",
    "\n",
    "\n",
    "# Conductivities Variables for TIEGCM\n",
    "VO2p_TIEGCM = np.zeros((72, 144, 57), order='F')     # sec^-1\n",
    "VO2p_TIEGCM_error_per = np.zeros((72, 144, 57), order='F') # array to store error %\n",
    "VO2p_TIEGCM_error_min = np.zeros((72, 144, 57), order='F') # sec^-1\n",
    "VO2p_TIEGCM_error_max = np.zeros((72, 144, 57), order='F') # sec^-1\n",
    "VO2p_O2_TIEGCM = np.zeros((72, 144, 57), order='F')  # sec^-1\n",
    "VO2p_O_TIEGCM = np.zeros((72, 144, 57), order='F')   # sec^-1\n",
    "VO2p_N2_TIEGCM = np.zeros((72, 144, 57), order='F')  # sec^-1\n",
    "\n",
    "VOp_TIEGCM = np.zeros((72, 144, 57), order='F')     # sec^-1\n",
    "VOp_TIEGCM_error_per = np.zeros((72, 144, 57), order='F') # array to store error %\n",
    "VOp_TIEGCM_error_min = np.zeros((72, 144, 57), order='F') # sec^-1\n",
    "VOp_TIEGCM_error_max = np.zeros((72, 144, 57), order='F') # sec^-1\n",
    "VOp_O_TIEGCM = np.zeros((72, 144, 57), order='F')   # sec^-1\n",
    "VOp_O2_TIEGCM = np.zeros((72, 144, 57), order='F')  # sec^-1\n",
    "VOp_N2_TIEGCM = np.zeros((72, 144, 57), order='F')  # sec^-1\n",
    "\n",
    "VNOp_TIEGCM = np.zeros((72, 144, 57), order='F')    # sec^-1\n",
    "VNOp_TIEGCM_error_per = np.zeros((72, 144, 57), order='F') # array to store error %\n",
    "VNOp_TIEGCM_error_min = np.zeros((72, 144, 57), order='F') # sec^-1\n",
    "VNOp_TIEGCM_errormax = np.zeros((72, 144, 57), order='F') # sec^-1\n",
    "VNOp_O2_TIEGCM = np.zeros((72, 144, 57), order='F') # sec^-1\n",
    "VNOp_O_TIEGCM = np.zeros((72, 144, 57), order='F')  # sec^-1\n",
    "VNOp_N2_TIEGCM = np.zeros((72, 144, 57), order='F') # sec^-1\n",
    "\n",
    "Ve_TIEGCM = np.zeros((72, 144, 57), order='F')\n",
    "Ve_TIEGCM_error_per = np.zeros((72, 144, 57), order='F') # array to store error %\n",
    "Ve_TIEGCM_error_min = np.zeros((72, 144, 57), order='F') # sec^-1\n",
    "Ve_TIEGCM_error_max = np.zeros((72, 144, 57), order='F') # sec^-1\n",
    "Ve_ver_TIEGCM = np.zeros((72, 144, 57), order='F')     # sec^-1\n",
    "Ve_N2_ver_TIEGCM = np.zeros((72, 144, 57), order='F')  # sec^-1\n",
    "Ve_O2_ver_TIEGCM = np.zeros((72, 144, 57), order='F')  # sec^-1\n",
    "Ve_O_ver_TIEGCM = np.zeros((72, 144, 57), order='F')   # sec^-1\n",
    "\n",
    "Ve_par_TIEGCM = np.zeros((72, 144, 57), order='F')     # sec^-1\n",
    "Ve_N2_par_TIEGCM = np.zeros((72, 144, 57), order='F')  # sec^-1\n",
    "Ve_O2_par_TIEGCM = np.zeros((72, 144, 57), order='F')  # sec^-1\n",
    "Ve_O_par_TIEGCM = np.zeros((72, 144, 57), order='F')   # sec^-1\n",
    "Ve_i_par_TIEGCM = np.zeros((72, 144, 57), order='F')   # sec^-1\n",
    "Ve_n_par_TIEGCM = np.zeros((72, 144, 57), order='F')   # sec^-1\n",
    "\n",
    "Omega_e_TIEGCM = np.zeros((72, 144, 57), order='F')    # sec^-1\n",
    "Omega_i_TIEGCM = np.zeros((72, 144, 57), order='F')    # sec^-1\n",
    "Omega_Op_TIEGCM = np.zeros((72, 144, 57), order='F')   # sec^-1\n",
    "Omega_O2p_TIEGCM = np.zeros((72, 144, 57), order='F')  # sec^-1\n",
    "Omega_NOp_TIEGCM = np.zeros((72, 144, 57), order='F')  # sec^-1\n",
    "\n",
    "ratio_e_TIEGCM = np.zeros((72, 144, 57), order='F')\n",
    "ratio_Op_TIEGCM = np.zeros((72, 144, 57), order='F')\n",
    "ratio_O2p_TIEGCM = np.zeros((72, 144, 57), order='F')\n",
    "ratio_NOP_TIEGCM = np.zeros((72, 144, 57), order='F')\n",
    "\n",
    "Pedersen_TIEGCM = np.zeros((72, 144, 57), order='F')            # Pedersen Conductivity S/m\n",
    "Pedersen_TIEGCM_error_max = np.zeros((72, 144, 57), order='F')  # Pedersen Conductivity S/m\n",
    "Pedersen_TIEGCM_error_min = np.zeros((72, 144, 57), order='F')  # Pedersen Conductivity S/m\n",
    "OH_error_max = np.zeros((72, 144, 57), order='F')     # Ohmic Heating W/m^3\n",
    "OH_error_min = np.zeros((72, 144, 57), order='F')     # Ohmic Heating W/m^3\n",
    "Peder_error_per = np.zeros((72, 144, 57), order='F')  # array to store error %\n",
    "Hall_TIEGCM = np.zeros((72, 144, 57), order='F')      # Hall Conductivity S/m\n",
    "Hall_error_per= np.zeros((72, 144, 57), order='F')  # array to store error %\n",
    "Hall_TIEGCM_error_max= np.zeros((72, 144, 57), order='F')      # Hall Conductivity S/m\n",
    "Hall_TIEGCM_error_min= np.zeros((72, 144, 57), order='F')      # Hall Conductivity S/m\n",
    "Parallel_TIEGCM = np.zeros((72, 144, 57), order='F')  # Parallel Conductivity S/m\n",
    "Parallel_error_per= np.zeros((72, 144, 57), order='F')  # array to store error %\n",
    "Parallel_TIEGCM_error_max= np.zeros((72, 144, 57), order='F')      # Hall Conductivity S/m\n",
    "Parallel_TIEGCM_error_min= np.zeros((72, 144, 57), order='F')      # Hall Conductivity S/m\n",
    "\n",
    "Ohmin_Heating = np.zeros((72, 144, 57), order='F')\n",
    "OH_error_per = np.zeros((72, 144, 57), order='F')\n",
    "\n",
    "unvertxf = np.zeros((72, 144, 57), order='F')\n",
    "unvertyf = np.zeros((72, 144, 57), order='F')\n",
    "unvertzf = np.zeros((72, 144, 57), order='F')\n",
    "\n",
    "co_date_time_title = []\n",
    "\n",
    "def geod_lat2geog_lat(phi):\n",
    "    # calculate geocentric latitude from geodetic latitude\n",
    "    # according to WGS 84\n",
    "    a = 6378137      # meter semi major axis of earth\n",
    "    f = 1 / 298.257  # flattening\n",
    "    b = a - f * a    # semi minor axis\n",
    "    e = ((a ** 2 - b ** 2) ** (1 / 2)) / a\n",
    "    phi_rad = np.deg2rad(phi)\n",
    "    geo_lat = np.arctan((1 - e ** 2) * np.tan(phi_rad))\n",
    "    geo_lat = np.rad2deg(geo_lat)\n",
    "    return geo_lat  # in degrees\n",
    "\n",
    "\n",
    "def geog_lat2geod_lat(phi):\n",
    "    # calculate geocentric latitude from geodetic latitude\n",
    "    # according to WGS 84\n",
    "    a = 6378137      # meter semi major axis of earth\n",
    "    f = 1 / 298.257  # flattening\n",
    "    b = a - f * a    # semi minor axis\n",
    "    e = ((a ** 2 - b ** 2) ** (1 / 2)) / a\n",
    "    phi_rad = np.deg2rad(phi)\n",
    "    geod_lat = np.arctan(np.tan(phi_rad) / (1 - e ** 2))\n",
    "    geod_lat = np.rad2deg(geod_lat)\n",
    "    return geod_lat  # in degrees\n",
    "\n",
    "\n",
    "def enu_ecef(lat_phi, lon_lmd, Fe, Fn, Fup):\n",
    "    fac = np.pi / 180\n",
    "    lat_phi = lat_phi * fac\n",
    "    lon_lmd = lon_lmd * fac\n",
    "\n",
    "    north_temp_unit = [-np.cos(lon_lmd) * np.sin(lat_phi), - np.sin(lon_lmd) * np.sin(lat_phi), np.cos(lat_phi)]\n",
    "    east_temp_unit = [-np.sin(lon_lmd), np.cos(lon_lmd), 0]\n",
    "    up_temp_unit = [np.cos(lon_lmd) * np.cos(lat_phi), np.sin(lon_lmd) * np.cos(lat_phi), np.sin(lat_phi)]\n",
    "\n",
    "    Fnorth_vector = [Fn * north_temp_unit[0], Fn * north_temp_unit[1], Fn * north_temp_unit[2]]\n",
    "    Feast_vector = [Fe * east_temp_unit[0], Fe * east_temp_unit[1], Fe * east_temp_unit[2]]\n",
    "    Fup_vector = [Fup * up_temp_unit[0], Fup * up_temp_unit[1], Fup * up_temp_unit[2]]\n",
    "\n",
    "    Fx = Fnorth_vector[0] + Feast_vector[0] + Fup_vector[0]\n",
    "    Fy = Fnorth_vector[1] + Feast_vector[1] + Fup_vector[1]\n",
    "    Fz = Fnorth_vector[2] + Feast_vector[2] + Fup_vector[2]\n",
    "\n",
    "    return Fx, Fy, Fz\n",
    "\n",
    "\n",
    "\n",
    "def plotting_Conductivities(): #Function to plot Conductivities\n",
    "    heights_plot=[]\n",
    "    Pedersen_TIEGCM_plot = []\n",
    "    Pedersen_TIEGCM_error_plot = []\n",
    "    Hall_TIEGCM_plot=[]\n",
    "    Parallel_TIEGCM_plot=[]\n",
    "    for lev in range(0, len(glev) - 1):\n",
    "        heights_plot.append(heights[lat, lon, lev])\n",
    "        Pedersen_TIEGCM_plot.append(Pedersen_TIEGCM[lat, lon, lev])\n",
    "        Hall_TIEGCM_plot.append(Hall_TIEGCM[lat, lon, lev])\n",
    "        Parallel_TIEGCM_plot.append(Parallel_TIEGCM[lat, lon, lev])\n",
    "        Pedersen_TIEGCM_error_plot.append(Pedersen_TIEGCM_error_max[lat, lon, lev])\n",
    "    \n",
    "    #from here starts plotly\n",
    "    fig1 = go.Figure()\n",
    "    \n",
    "    #adding the various plots\n",
    "    fig1.add_trace(go.Scatter(x=Pedersen_TIEGCM_plot, y=heights_plot,name=\"Pedersen\",mode='lines',line=dict(color='red'))) \n",
    "    fig1.add_trace(go.Scatter(x=Hall_TIEGCM_plot, y=heights_plot,name=\"Hall\",mode='lines',line=dict(color='blue')))\n",
    "    fig1.add_trace(go.Scatter(x=Parallel_TIEGCM_plot, y=heights_plot,name=\"Parallel\",mode='lines',line=dict(color='black')))\n",
    "    \n",
    "    \n",
    "    #updating the layout of the figure. All the parameters concerning graph are put here    \n",
    "    fig1.update_layout(xaxis_type=\"log\",xaxis_showexponent='all', xaxis_exponentformat = 'power',\n",
    "    yaxis_tick0 = 60,yaxis_dtick = 20,xaxis_title=\"Conductivity S/m\",yaxis_title=\"Altitude (km)\",width=750,height=750,\n",
    "    title={'text':'Conductivities ' + co_date_time_title[0], 'y':0.9,'x':0.5,'xanchor': 'center','yanchor': 'top'})\n",
    "    fig1.update_xaxes(showgrid=True, gridwidth=0.5, gridcolor='grey')\n",
    "    fig1.update_yaxes(showgrid=True, gridwidth=0.5, gridcolor='grey')\n",
    "    fig1.update_xaxes(showline=True, linewidth=2, linecolor='black', mirror=True)\n",
    "    fig1.update_yaxes(showline=True, linewidth=2, linecolor='black', mirror=True)\n",
    "    \n",
    "    fig1.show()\n",
    "    \n",
    "def plotting_Ohmic(): #function to plot Ohmic Heating\n",
    "    heights_plot=[]\n",
    "    OH_plot = []\n",
    "    \n",
    "    for lev in range(0, len(glev) - 1):\n",
    "        heights_plot.append(heights[lat, lon, lev])\n",
    "        OH_plot.append(Ohmin_Heating[lat, lon, lev])\n",
    "        \n",
    "    #from here starts plotly\n",
    "    fig2 = go.Figure()\n",
    "    #adding the various plots\n",
    "    fig2.add_trace(go.Scatter(x=OH_plot, y=heights_plot, name=\"Heating Rate\",mode='lines',line=dict(color='blue'))) \n",
    "    \n",
    "    #updating the layout of the figure. All the parameters concerning graph are put here    \n",
    "    fig2.update_layout(xaxis_type=\"log\",xaxis_showexponent='all', xaxis_exponentformat = 'power',\n",
    "    yaxis_tick0 = 60,yaxis_dtick = 20,xaxis_title=\"Heating Rate W/m^3\",yaxis_title=\"Altitude (km)\",width=750,height=750,\n",
    "    title={'text':'Heating Rate ' + co_date_time_title[0],'y':0.9,'x':0.5,'xanchor': 'center','yanchor': 'top'})\n",
    "    fig2.update_xaxes(showgrid=True, gridwidth=0.5, gridcolor='grey')\n",
    "    fig2.update_yaxes(showgrid=True, gridwidth=0.5, gridcolor='grey')\n",
    "    fig2.update_xaxes(showline=True, linewidth=2, linecolor='black', mirror=True)\n",
    "    fig2.update_yaxes(showline=True, linewidth=2, linecolor='black', mirror=True)\n",
    "    fig2.show()\n",
    "  \n",
    "    \n",
    "def plotting_Error_Per():  #function to plot Pedersen erro percentage and actual\n",
    "    heights_plot=[]\n",
    "    Pedersen_Error_per_plot=[]\n",
    "    for lev in range(0, len(glev) - 1):\n",
    "        heights_plot.append(heights[lat, lon, lev])\n",
    "        Pedersen_Error_per_plot.append(Peder_error_per[lat, lon, lev])\n",
    "        \n",
    "    fig3 = go.Figure()\n",
    "    #adding the various plots\n",
    "    fig3.add_trace(go.Scatter(x=Pedersen_Error_per_plot, y=heights_plot,name=\"Pedersen Error (%))\",mode='lines',line=dict(color='red')))     \n",
    "    \n",
    "    #updating the layout of the figure. All the parameters concerning graph are put here    \n",
    "    fig3.update_layout(xaxis_showexponent='all', xaxis_exponentformat = 'power',\n",
    "    yaxis_tick0 = 60,yaxis_dtick = 20,xaxis_title=\"Percentage %\",yaxis_title=\"Altitude (km)\",width=750,height=750,\n",
    "    title={'text':'Pedersen Error Percentage ' + co_date_time_title[0],'y':0.9,'x':0.5,'xanchor': 'center','yanchor': 'top'})\n",
    "    fig3.update_xaxes(showgrid=True, gridwidth=0.5, gridcolor='grey')\n",
    "    fig3.update_yaxes(showgrid=True, gridwidth=0.5, gridcolor='grey')\n",
    "    fig3.update_xaxes(showline=True, linewidth=2, linecolor='black', mirror=True)\n",
    "    fig3.update_yaxes(showline=True, linewidth=2, linecolor='black', mirror=True)\n",
    "    fig3.show()\n",
    "    \n",
    "    heights_plot=[]\n",
    "    Pedersen_TIEGCM_plot = []\n",
    "    Pedersen_TIEGCM_error_max_plot = []\n",
    "    Pedersen_TIEGCM_error_min_plot = []\n",
    "    Hall_TIEGCM_plot=[]\n",
    "    Parallel_TIEGCM_plot=[]\n",
    "    for lev in range(0, len(glev) - 1):\n",
    "        heights_plot.append(heights[lat, lon, lev])\n",
    "        Pedersen_TIEGCM_plot.append(Pedersen_TIEGCM[lat, lon, lev])\n",
    "        Hall_TIEGCM_plot.append(Hall_TIEGCM[lat, lon, lev])\n",
    "        Parallel_TIEGCM_plot.append(Parallel_TIEGCM[lat, lon, lev])\n",
    "        Pedersen_TIEGCM_error_max_plot.append(Pedersen_TIEGCM_error_max[lat, lon, lev])\n",
    "        Pedersen_TIEGCM_error_min_plot.append(Pedersen_TIEGCM_error_min[lat, lon, lev])\n",
    "\n",
    "    \n",
    "    #from here starts plotly\n",
    "    fig4 = go.Figure()\n",
    "    #adding the various plots\n",
    "    fig4.add_trace(go.Scatter(x=Pedersen_TIEGCM_plot, y=heights_plot,name=\"Pedersen\",mode='lines',line=dict(color='red'))) \n",
    "    fig4.add_trace(go.Scatter(x=Pedersen_TIEGCM_error_max_plot, y=heights_plot,name=\"Pedersen max With Error\",mode='lines',line=dict(dash=\"dot\",color='purple'))) \n",
    "    fig4.add_trace(go.Scatter(x=Pedersen_TIEGCM_error_min_plot, y=heights_plot,name=\"Pedersen min With Error\",mode='lines',line=dict(dash=\"dot\",color='green'))) \n",
    "    \n",
    "    fig4.add_trace(go.Scatter(x=Hall_TIEGCM_plot, y=heights_plot,name=\"Hall\",mode='lines',marker=dict(color='blue')))\n",
    "    fig4.add_trace(go.Scatter(x=Parallel_TIEGCM_plot, y=heights_plot,name=\"Parallel\",mode='lines',line=dict(color='black')))\n",
    "    \n",
    "    \n",
    "    #updating the layout of the figure. All the parameters concerning graph are put here    \n",
    "    fig4.update_layout(xaxis_type=\"log\",xaxis_showexponent='all', xaxis_exponentformat = 'power',\n",
    "    yaxis_tick0 = 60,yaxis_dtick = 20,xaxis_title=\"Conductivity S/m\",yaxis_title=\"Altitude (km)\",width=850,height=750,\n",
    "    title={'text':'Conductivities ' + co_date_time_title[0],'y':0.9,'x':0.5,'xanchor': 'center','yanchor': 'top'})\n",
    "    fig4.update_xaxes(showgrid=True, gridwidth=0.5, gridcolor='grey')\n",
    "    fig4.update_yaxes(showgrid=True, gridwidth=0.5, gridcolor='grey')\n",
    "    fig4.update_xaxes(showline=True, linewidth=2, linecolor='black', mirror=True)\n",
    "    fig4.update_yaxes(showline=True, linewidth=2, linecolor='black', mirror=True)\n",
    "    fig4.show()\n",
    "\n",
    "    \n",
    "def plotting_OHM_error(): #function to plot Ohmic Heating Error Percentage and actual\n",
    "    heights_plot=[]\n",
    "    Ohmic_Error_per_plot=[]\n",
    "    \n",
    "    for lev in range(0, len(glev) - 1):\n",
    "        heights_plot.append(heights[lat, lon, lev])\n",
    "        Ohmic_Error_per_plot.append(OH_error_per[lat, lon, lev])\n",
    "        \n",
    "    fig5 = go.Figure()\n",
    "    #adding the various plots\n",
    "    fig5.add_trace(go.Scatter(x=Ohmic_Error_per_plot, y=heights_plot,name=\"Ohmic Error (%))\",mode='lines',line=dict(color='red'))) \n",
    "    \n",
    "    #updating the layout of the figure. All the parameters concerning graph are put here    \n",
    "    fig5.update_layout(xaxis_showexponent='all', xaxis_exponentformat = 'power',\n",
    "    yaxis_tick0 = 60,yaxis_dtick = 20,xaxis_title=\"Percentage %\",yaxis_title=\"Altitude (km)\",width=750,height=750,\n",
    "    title={'text':'Ohmic Heating Error Percentage ' + co_date_time_title[0],'y':0.9,'x':0.5,'xanchor': 'center','yanchor': 'top'})\n",
    "    fig5.update_xaxes(showgrid=True, gridwidth=0.5, gridcolor='grey')\n",
    "    fig5.update_yaxes(showgrid=True, gridwidth=0.5, gridcolor='grey')\n",
    "    fig5.update_xaxes(showline=True, linewidth=2, linecolor='black', mirror=True)\n",
    "    fig5.update_yaxes(showline=True, linewidth=2, linecolor='black', mirror=True)\n",
    "    fig5.show()\n",
    "    \n",
    "    \n",
    "    Ohmin_Heating_plot = []\n",
    "    OH_error_max_plot = []\n",
    "    OH_error_min_plot = []\n",
    "    \n",
    "    for lev in range(0, len(glev) - 1):\n",
    "        Ohmin_Heating_plot.append(Ohmin_Heating[lat, lon, lev])\n",
    "        OH_error_max_plot.append(OH_error_max[lat, lon, lev])\n",
    "        OH_error_min_plot.append(OH_error_min[lat, lon, lev])\n",
    "    \n",
    "    #from here starts plotly\n",
    "    fig6 = go.Figure()\n",
    "    #adding the various plots\n",
    "    fig6.add_trace(go.Scatter(x=Ohmin_Heating_plot, y=heights_plot,name=\"Ohmic\",mode='lines',line=dict(color='red'))) \n",
    "    fig6.add_trace(go.Scatter(x=OH_error_max_plot, y=heights_plot,name=\"Ohmic max With Error\",mode='lines',line=dict(dash=\"dot\",color='purple'))) \n",
    "    fig6.add_trace(go.Scatter(x=OH_error_min_plot, y=heights_plot,name=\"Ohmic min With Error\",mode='lines',line=dict(dash=\"dot\",color='orange'))) \n",
    "    \n",
    "    \n",
    "    #updating the layout of the figure. All the parameters concerning graph are put here    \n",
    "    fig6.update_layout(xaxis_type=\"log\",xaxis_showexponent='all', xaxis_exponentformat = 'power',\n",
    "    yaxis_tick0 = 60,yaxis_dtick = 20,xaxis_title=\"\",yaxis_title=\"Altitude (km)\",width=750,height=850,\n",
    "    title={'text':'Ohmic Heating ' + co_date_time_title[0],'y':0.9,'x':0.5,'xanchor': 'center','yanchor': 'top'})\n",
    "    fig6.update_xaxes(showgrid=True, gridwidth=0.5, gridcolor='grey')\n",
    "    fig6.update_yaxes(showgrid=True, gridwidth=0.5, gridcolor='grey')\n",
    "    fig6.update_xaxes(showline=True, linewidth=2, linecolor='black', mirror=True)\n",
    "    fig6.update_yaxes(showline=True, linewidth=2, linecolor='black', mirror=True)\n",
    "    fig6.show()\n",
    "    \n",
    "def plotting_Collis_freq(): #Function to plot Collision Frquencies\n",
    "    heights_plot=[]\n",
    "    Ve_plot = []\n",
    "    VO2p_plot = []\n",
    "    VOp_plot = []\n",
    "\n",
    "    for lev in range(0, len(glev) - 1):\n",
    "        heights_plot.append(heights[lat, lon, lev])\n",
    "        Ve_plot.append(Ve_TIEGCM[lat, lon, lev])\n",
    "        VO2p_plot.append(VO2p_TIEGCM[lat, lon, lev])\n",
    "        VOp_plot.append(VOp_TIEGCM[lat, lon, lev])\n",
    "    \n",
    "    #from here starts plotly\n",
    "    fig7 = go.Figure()\n",
    "    \n",
    "    #adding the various plots\n",
    "    fig7.add_trace(go.Scatter(x=Ve_plot, y=heights_plot,name=\"Ve\",mode='lines',line=dict(color='orange'))) \n",
    "    fig7.add_trace(go.Scatter(x=VO2p_plot, y=heights_plot,name=\"VO2+\",mode='lines',line=dict(color='cyan')))\n",
    "    fig7.add_trace(go.Scatter(x=VOp_plot, y=heights_plot,name=\"VO+\",mode='lines',line=dict(color='yellow')))\n",
    "    \n",
    "    \n",
    "    #updating the layout of the figure. All the parameters concerning graph are put here    \n",
    "    fig7.update_layout(xaxis_type=\"log\",xaxis_showexponent='all', xaxis_exponentformat = 'power',\n",
    "    yaxis_tick0 = 60,yaxis_dtick = 20,xaxis_title=\"Collisions sec^(-1)\",yaxis_title=\"Altitude (km)\",width=750,height=750,\n",
    "    title={'text':'Conductivities ' + co_date_time_title[0], 'y':0.9,'x':0.5,'xanchor': 'center','yanchor': 'top'})\n",
    "    fig7.update_xaxes(showgrid=True, gridwidth=0.5, gridcolor='grey')\n",
    "    fig7.update_yaxes(showgrid=True, gridwidth=0.5, gridcolor='grey')\n",
    "    fig7.update_xaxes(showline=True, linewidth=2, linecolor='black', mirror=True)\n",
    "    fig7.update_yaxes(showline=True, linewidth=2, linecolor='black', mirror=True)\n",
    "    \n",
    "    fig7.show()\n",
    "    \n",
    "def plotting_Collis_freq_Error(): #Function to plot Collision Frquencies Error Percentage and real\n",
    "    heights_plot=[]\n",
    "    Ve_plot = []\n",
    "    VO2p_plot = []\n",
    "    VOp_plot = []\n",
    "    Ve_error_per_plot = []\n",
    "    Ve_error_min_plot = []\n",
    "    Ve_error_max_plot = []\n",
    "    VO2p_error_per_plot = []\n",
    "    VO2p_error_min_plot = []\n",
    "    VO2p_error_max_plot = []\n",
    "    VOp_error_per_plot = []\n",
    "    VOp_error_min_plot = []\n",
    "    VOp_error_max_plot = []\n",
    "\n",
    "    for lev in range(0, len(glev) - 1):\n",
    "        heights_plot.append(heights[lat, lon, lev])\n",
    "        Ve_plot.append(Ve_TIEGCM[lat, lon, lev])\n",
    "        Ve_error_per_plot.append(Ve_TIEGCM_error_per[lat, lon, lev])\n",
    "        Ve_error_min_plot.append(Ve_TIEGCM_error_min[lat, lon, lev])\n",
    "        Ve_error_max_plot.append(Ve_TIEGCM_error_max[lat, lon, lev])\n",
    "        VO2p_plot.append(VO2p_TIEGCM[lat, lon, lev])\n",
    "        VO2p_error_per_plot.append(VO2p_TIEGCM_error_per[lat, lon, lev])\n",
    "        VO2p_error_min_plot.append(VO2p_TIEGCM_error_min[lat, lon, lev])\n",
    "        VO2p_error_max_plot.append(VO2p_TIEGCM_error_max[lat, lon, lev])\n",
    "        VOp_plot.append(VOp_TIEGCM[lat, lon, lev])\n",
    "        VOp_error_per_plot.append(VOp_TIEGCM_error_per[lat, lon, lev])\n",
    "        VOp_error_min_plot.append(VOp_TIEGCM_error_min[lat, lon, lev])\n",
    "        VOp_error_max_plot.append(VOp_TIEGCM_error_max[lat, lon, lev])\n",
    "        \n",
    "\n",
    "\n",
    "    \n",
    "    #from here starts plotly\n",
    "    fig8 = go.Figure()\n",
    "    \n",
    "    #adding the various plots\n",
    "    fig8.add_trace(go.Scatter(x=Ve_plot, y=heights_plot,name=\"Ve\",mode='lines',line=dict(color='orange'))) \n",
    "    fig8.add_trace(go.Scatter(x=Ve_error_min_plot, y=heights_plot,name=\"Ve min\",mode='lines',line=dict(dash=\"dot\",color='orange')))\n",
    "    fig8.add_trace(go.Scatter(x=Ve_error_max_plot, y=heights_plot,name=\"Ve max\",mode='lines',line=dict(dash=\"dot\",color='orange')))\n",
    "    fig8.add_trace(go.Scatter(x=VO2p_plot, y=heights_plot,name=\"VO2+\",mode='lines',line=dict(color='cyan')))\n",
    "    fig8.add_trace(go.Scatter(x=VO2p_error_min_plot, y=heights_plot,name=\"VO2+ min\",mode='lines',line=dict(dash=\"dot\",color='cyan')))\n",
    "    fig8.add_trace(go.Scatter(x=VO2p_error_max_plot, y=heights_plot,name=\"VO2+ max\",mode='lines',line=dict(dash=\"dot\",color='cyan')))\n",
    "    fig8.add_trace(go.Scatter(x=VOp_plot, y=heights_plot,name=\"VO+\",mode='lines',line=dict(color='yellow')))\n",
    "    fig8.add_trace(go.Scatter(x=VOp_error_min_plot, y=heights_plot,name=\"VO+ min\",mode='lines',line=dict(dash=\"dot\",color='yellow')))\n",
    "    fig8.add_trace(go.Scatter(x=VOp_error_max_plot, y=heights_plot,name=\"VO+ max\",mode='lines',line=dict(dash=\"dot\",color='yellow')))\n",
    "    \n",
    "    \n",
    "    #updating the layout of the figure. All the parameters concerning graph are put here    \n",
    "    fig8.update_layout(xaxis_type=\"log\",xaxis_showexponent='all', xaxis_exponentformat = 'power',\n",
    "    yaxis_tick0 = 60,yaxis_dtick = 20,xaxis_title=\"Collisions sec^(-1)\",yaxis_title=\"Altitude (km)\",width=750,height=750,\n",
    "    title={'text':'Conductivities ' + co_date_time_title[0], 'y':0.9,'x':0.5,'xanchor': 'center','yanchor': 'top'})\n",
    "    fig8.update_xaxes(showgrid=True, gridwidth=0.5, gridcolor='grey')\n",
    "    fig8.update_yaxes(showgrid=True, gridwidth=0.5, gridcolor='grey')\n",
    "    fig8.update_xaxes(showline=True, linewidth=2, linecolor='black', mirror=True)\n",
    "    fig8.update_yaxes(showline=True, linewidth=2, linecolor='black', mirror=True)\n",
    "    \n",
    "    fig8.show()\n",
    "    \n",
    "    fig10 = go.Figure()\n",
    "    #adding the various plots\n",
    "    fig10.add_trace(go.Scatter(x= Ve_error_per_plot, y=heights_plot,name=\"Ve Error (%)\",mode='lines',line=dict(color='orange'))) \n",
    "    fig10.add_trace(go.Scatter(x= VO2p_error_per_plot, y=heights_plot,name=\"VO2p Error (%)\",mode='lines',line=dict(color='cyan'))) \n",
    "    fig10.add_trace(go.Scatter(x= VOp_error_per_plot, y=heights_plot,name=\"VOp Error (%)\",mode='lines',line=dict(color='yellow'))) \n",
    "    \n",
    "    #updating the layout of the figure. All the parameters concerning graph are put here    \n",
    "    fig10.update_layout(xaxis_showexponent='all', xaxis_exponentformat = 'power',\n",
    "    yaxis_tick0 = 60,yaxis_dtick = 20,xaxis_title=\"Percentage %\",yaxis_title=\"Altitude (km)\",width=750,height=750,\n",
    "    title={'text':'Collision frequency Error Percentage ' + co_date_time_title[0],'y':0.9,'x':0.5,'xanchor': 'center','yanchor': 'top'})\n",
    "    fig10.update_xaxes(showgrid=True, gridwidth=0.5, gridcolor='grey')\n",
    "    fig10.update_yaxes(showgrid=True, gridwidth=0.5, gridcolor='grey')\n",
    "    fig10.update_xaxes(showline=True, linewidth=2, linecolor='black', mirror=True)\n",
    "    fig10.update_yaxes(showline=True, linewidth=2, linecolor='black', mirror=True)\n",
    "    fig10.show()\n",
    "    \n",
    "    \n",
    "\n",
    "\n",
    "def conductivities_TIEMGCM_calc():\n",
    "\n",
    "    for lev in range(0, len(glev) - 1):\n",
    "        # collision frequencies\n",
    "        # VO2p=VO2p_O2+VO2p_O+VO2p_N2\n",
    "        Ri = (Ti_TIEGCM[lat, lon, lev] + Tn_TIEGCM[lat, lon, lev]) / 2\n",
    "        VO2p_O2_TIEGCM[lat, lon, lev] = 2.59 * (10 ** (-11)) * O2_TIEGCM[lat, lon, lev] * np.sqrt(Ri) * (\n",
    "                (1 - 0.073 * np.log10(Ri)) ** 2)  # O2+-O2 collision frequency\n",
    "        VO2p_O_TIEGCM[lat, lon, lev] = 2.31 * (10 ** (-10)) * O_TIEGCM[lat, lon, lev] # O2+-O collision frequency\n",
    "        VO2p_N2_TIEGCM[lat, lon, lev] = 4.13 * (10 ** (-10)) * N2_TIEGCM[lat, lon, lev]  # O2+-N2 collision frequency\n",
    "        VO2p_TIEGCM[lat, lon, lev] = VO2p_O2_TIEGCM[lat, lon, lev] + VO2p_O_TIEGCM[lat, lon, lev] + VO2p_N2_TIEGCM[\n",
    "            lat, lon, lev]\n",
    "\n",
    "        # VOp=VOp_O+VOp_O2+VOp_N\n",
    "        VOp_O_TIEGCM[lat, lon, lev] = 3.67 * (10 ** (-11)) * O_TIEGCM[lat, lon, lev] * np.sqrt(Ri) * (\n",
    "                (1 - 0.064 * np.log10(Ri)) ** 2) * fb  # O+-O2 collision frequency\n",
    "        VOp_O2_TIEGCM[lat, lon, lev] = 6.64 * (10 ** (-10)) * O2_TIEGCM[lat, lon, lev]  # O+-O collision frequency\n",
    "        VOp_N2_TIEGCM[lat, lon, lev] = 6.82 * (10 ** (-10)) * N2_TIEGCM[lat, lon, lev]  # O+-N2 collision frequency\n",
    "        VOp_TIEGCM[lat, lon, lev] = VOp_O_TIEGCM[lat, lon, lev] + VOp_O2_TIEGCM[lat, lon, lev] + VOp_N2_TIEGCM[\n",
    "            lat, lon, lev]\n",
    "\n",
    "        # Not enough inputs from TIEGCM\n",
    "        # VNOp=VNOp_O2+VNOp_O+VNOp_N2\n",
    "        # VNOp_O2_TIEGCM.append(4.27 * 10 ** (-10) * O2_TIEGCM[i])\n",
    "        # VNOp_O_TIEGCM.append(2.4 * 10 ** (-10) * O_TIEGCM[i])\n",
    "        # VNOp_N2_TIEGCM.append(6.82 * 10 ** (-10) * N2_TIEGCM[i])\n",
    "        # VNOp_TIEGCM.append(VNOp_O2_TIEGCM[i] + VNOp_O_TIEGCM[i] + VNOp_N2_TIEGCM[i])\n",
    "\n",
    "        # Ve\n",
    "        Ve_TIEGCM[lat, lon, lev] = 2.33 * (10 ** (-11)) * N2_TIEGCM[lat, lon, lev] * Te_TIEGCM[lat, lon, lev] * (\n",
    "                1 - 1.21 * 10 ** (-4) * Te_TIEGCM[lat, lon, lev]) + 1.82 * (\n",
    "                                           10 ** (-10)) * O2_TIEGCM[lat, lon, lev] * np.sqrt(\n",
    "            Te_TIEGCM[lat, lon, lev]) * (\n",
    "                                           1 + (3.6 * 10 ** (-2) * np.sqrt(Te_TIEGCM[lat, lon, lev]))) + \\\n",
    "                                   8.9 * (10 ** (-11)) * O_TIEGCM[lat, lon, lev] * np.sqrt(Te_TIEGCM[lat, lon, lev]) * (\n",
    "                                           1 + (5.7 * ((10 ** (-4)) * Te_TIEGCM[lat, lon, lev])))\n",
    "\n",
    "        # GyroFrequencies eq 4\n",
    "        Omega_e_TIEGCM[lat, lon, lev] = q_e * B_IGRF[lat, lon, lev] / m_e\n",
    "        Omega_Op_TIEGCM[lat, lon, lev] = q_e * B_IGRF[lat, lon, lev] / m_Oplus\n",
    "        Omega_O2p_TIEGCM[lat, lon, lev] = q_e * B_IGRF[lat, lon, lev] / m_O2plus\n",
    "        Omega_NOp_TIEGCM[lat, lon, lev] = q_e * B_IGRF[lat, lon, lev] / m_NOplus\n",
    "\n",
    "        # ratios\n",
    "        ratio_e_TIEGCM[lat, lon, lev] = Ve_TIEGCM[lat, lon, lev] / Omega_e_TIEGCM[lat, lon, lev]\n",
    "        ratio_Op_TIEGCM[lat, lon, lev] = VOp_TIEGCM[lat, lon, lev] / Omega_Op_TIEGCM[lat, lon, lev]\n",
    "        ratio_O2p_TIEGCM[lat, lon, lev] = VO2p_TIEGCM[lat, lon, lev] / Omega_O2p_TIEGCM[lat, lon, lev]\n",
    "        # ratio_NOP_TIEGCM[lat, lon, lev]=VNOp_TIEGCM[lat, lon, lev] / Omega_NOp_TIEGCM[lat, lon, lev]\n",
    "\n",
    "        # pedersen Conductivity eq 1\n",
    "\n",
    "        alpha = (Op_TIEGCM[lat, lon, lev] * CubicCm2CubicM) * (\n",
    "                ratio_Op_TIEGCM[lat, lon, lev] / (1 + ratio_Op_TIEGCM[lat, lon, lev] ** 2))\n",
    "        beta = (Ne_TIEGCM[lat, lon, lev] * CubicCm2CubicM) * (\n",
    "                ratio_e_TIEGCM[lat, lon, lev] / (1 + ratio_e_TIEGCM[lat, lon, lev] ** 2))\n",
    "        gamma = (O2p_TIEGCM[lat, lon, lev] * CubicCm2CubicM) * (\n",
    "                ratio_O2p_TIEGCM[lat, lon, lev] / (1 + ratio_O2p_TIEGCM[lat, lon, lev] ** 2))\n",
    "        pedersden_temp = (q_e / (B_IGRF[lat, lon, lev])) * (alpha + beta + gamma)\n",
    "\n",
    "        Pedersen_TIEGCM[lat, lon, lev] = pedersden_temp\n",
    "\n",
    "        # Hall Conductivity\n",
    "\n",
    "        alpha1 = (Op_TIEGCM[lat, lon, lev] * CubicCm2CubicM) * (1 / (1 + ratio_Op_TIEGCM[lat, lon, lev] ** 2))\n",
    "        beta1 = (Ne_TIEGCM[lat, lon, lev] * CubicCm2CubicM) * (1 / (1 + ratio_e_TIEGCM[lat, lon, lev] ** 2))\n",
    "        gamma1 = (O2p_TIEGCM[lat, lon, lev] * CubicCm2CubicM) * (1 / (1 + ratio_O2p_TIEGCM[lat, lon, lev] ** 2))\n",
    "        hall_temp = (q_e / B_IGRF[lat, lon, lev]) * (beta1 - alpha1 - gamma1)\n",
    "        Hall_TIEGCM[lat, lon, lev] = hall_temp\n",
    "\n",
    "        # Parallel Conductivity\n",
    "\n",
    "        parallel_temp = ((Ne_TIEGCM[lat, lon, lev] * CubicCm2CubicM) * q_e * q_e) / (m_e * Ve_TIEGCM[lat, lon, lev])\n",
    "        Parallel_TIEGCM[lat, lon, lev] = parallel_temp\n",
    "        \n",
    "        #magnetic Field Vector\n",
    "        B_vector_IGRF=[Bx_IGRF[lat, lon, lev],By_IGRF[lat, lon, lev],Bz_IGRF[lat, lon, lev]]\n",
    "        # Magnetic field unit vector\n",
    "        bnorm[lat, lon, lev] = np.sqrt(\n",
    "            Bx_IGRF[lat, lon, lev] * Bx_IGRF[lat, lon, lev] + By_IGRF[lat, lon, lev] * By_IGRF[lat, lon, lev] + Bz_IGRF[\n",
    "                lat, lon, lev] * Bz_IGRF[lat, lon, lev])\n",
    "        b_unit = [Bx_IGRF[lat, lon, lev] / bnorm[lat, lon, lev], By_IGRF[lat, lon, lev] / bnorm[lat, lon, lev],\n",
    "                  Bz_IGRF[lat, lon, lev] / bnorm[lat, lon, lev]]\n",
    "\n",
    "        Un_vector_TIEGCM = [Un_x_TIEGCM[lat, lon, lev], Un_y_TIEGCM[lat, lon, lev],\n",
    "                            Un_z_TIEGCM[lat, lon, lev]]  # neutral wind in ECEF in m/s\n",
    "        \n",
    "        # neutral wind perpendicular to the magnetic field\n",
    "        Unvert = np.cross(Un_vector_TIEGCM, b_unit)\n",
    "        Unvertx = Unvert[0]\n",
    "        Unverty = Unvert[1]\n",
    "        Unvertz = Unvert[2]\n",
    "        Unvertmag = np.sqrt(Unvert[0] * Unvert[0] + Unvert[1] * Unvert[1] + Unvert[2] * Unvert[2])\n",
    "        unvertxf[lat, lon, lev] = Unvertx  # Output file\n",
    "        unvertyf[lat, lon, lev] = Unverty  # Output file\n",
    "        unvertzf[lat, lon, lev] = Unvertz  # Output file\n",
    "\n",
    "        Ui_vector_TIEGCM = [Ui_x_TIEGCM[lat, lon, lev], Ui_y_TIEGCM[lat, lon, lev],\n",
    "                            Ui_z_TIEGCM[lat, lon, lev]]  # ExB in ECEF in m/s\n",
    "        \n",
    "        # Electric Field perpendicular to the magnetic field\n",
    "        Evert = -np.cross(Ui_vector_TIEGCM, B_vector_IGRF)\n",
    "        \n",
    "        # heating rates (W/m^3), Ohmic_heat=Pedersen_con*|Evert+np.cros(UnVert,B)|**2\n",
    "        A = Evert + np.cross(Unvert, B_vector_IGRF)\n",
    "#         print(Evert,\"|\",Unvert,\"|\",Ui_vector_TIEGCM,\"|\",B_vector_IGRF,A)\n",
    "        Anorm = np.sqrt(A[0] * A[0] + A[1] * A[1] + A[2] * A[2])\n",
    "        Ohmin_Heating[lat, lon, lev] = Pedersen_TIEGCM[lat, lon, lev] * Anorm * Anorm\n",
    "#         print(Ohmin_Heating[lat, lon, lev])\n",
    "\n",
    "        \n",
    "def error_Cond_calculation(B_error=1.0, Ne_error=1.0, Op_error=1.0, O2p_error=1.0, O_error=1.0, O2_error=1.0,\n",
    "                           N2_error=1.0,\n",
    "                           Te_error=1.0, Tn_error=1.0, Ti_error=1.0):  # errors are in percentage\n",
    "    for lev in range(0, len(glev) - 1):\n",
    "        Bx_error_act = (B_error / 100) * Bx_IGRF[lat, lon, lev]\n",
    "\n",
    "        By_error_act = (B_error / 100) * By_IGRF[lat, lon, lev]\n",
    "        Bz_error_act = (B_error / 100) * Bz_IGRF[lat, lon, lev]\n",
    "        B_error_act = (B_error / 100) * bnorm[lat, lon, lev]\n",
    "        Ne_error_act = (Ne_error / 100) * Ne_TIEGCM[lat, lon, lev]\n",
    "\n",
    "        Op_error_act = (Op_error / 100) * Op_TIEGCM[lat, lon, lev]\n",
    "        O2p_error_act = (O2p_error / 100) * O2p_TIEGCM[lat, lon, lev]\n",
    "        O_error_act = (O_error / 100) * O_TIEGCM[lat, lon, lev]\n",
    "        O2_error_act = (O2_error / 100) * O2_TIEGCM[lat, lon, lev]\n",
    "        N2_error_act = (N2_error / 100) * N2_TIEGCM[lat, lon, lev]\n",
    "        Te_error_act = (Te_error / 100) * Te_TIEGCM[lat, lon, lev]\n",
    "        Tn_error_act = (Tn_error / 100) * Tn_TIEGCM[lat, lon, lev]\n",
    "        Ti_error_act = (Ti_error / 100) * Ti_TIEGCM[lat, lon, lev]\n",
    "        \n",
    "        #*********** Pedersen Error Calculation************\n",
    "        eq2_1_46 = (q_e / m_O2plus) ** 2\n",
    "        eq2_1_45 = eq2_1_46 * B_error_act ** 2\n",
    "        eq2_1_44 = (-VO2p_TIEGCM[lat, lon, lev] / (Omega_O2p_TIEGCM[lat, lon, lev] ** 2)) ** 2\n",
    "        eq2_1_43 = (4.13 * 10 ** (-10)) ** 2\n",
    "        eq2_1_42 = eq2_1_43 * N2_error_act ** 2\n",
    "        eq2_1_40 = (6.475 * 10 ** (-12) * O2_TIEGCM[lat, lon, lev] * (\n",
    "                -0.073 * sy.log(Ti_TIEGCM[lat, lon, lev] / 2 + Tn_TIEGCM[lat, lon, lev] / 2) / sy.log(\n",
    "            10) + 1) ** 2 / sy.sqrt(\n",
    "            Ti_TIEGCM[lat, lon, lev] / 2 + Tn_TIEGCM[lat, lon, lev] / 2) - 1.8907 * 10 ** (-12) * O2_TIEGCM[\n",
    "                    lat, lon, lev] * (\n",
    "                        -0.073 * sy.log(Ti_TIEGCM[lat, lon, lev] / 2 + Tn_TIEGCM[lat, lon, lev] / 2) / sy.log(\n",
    "                    10) + 1) / (\n",
    "                        sy.sqrt(Ti_TIEGCM[lat, lon, lev] / 2 + Tn_TIEGCM[lat, lon, lev] / 2) * sy.log(10))) ** 2\n",
    "        eq2_1_39 = (2.59 * 10 ** (-11) * sy.sqrt(Ti_TIEGCM[lat, lon, lev] / 2 + Tn_TIEGCM[lat, lon, lev] / 2) * (\n",
    "                -0.073 * sy.log(Ti_TIEGCM[lat, lon, lev] / 2 + Tn_TIEGCM[lat, lon, lev] / 2) / sy.log(\n",
    "            10) + 1) ** 2) ** 2\n",
    "        eq2_1_41 = eq2_1_40\n",
    "        eq2_1_38 = eq2_1_39 * O2_error_act ** 2 + eq2_1_40 * Ti_error_act ** 2 + eq2_1_41 * Tn_error_act ** 2\n",
    "        eq2_1_37 = (2.31 * 10 ** (-10)) ** 2\n",
    "        eq2_1_36 = eq2_1_37 * O_error_act ** 2\n",
    "        eq2_1_35 = eq2_1_36 + eq2_1_38 + eq2_1_42\n",
    "        VO2p_TIEGCM_error_per[lat,lon,lev]=(sy.sqrt(eq2_1_35)/VO2p_TIEGCM[lat,lon,lev])*100 #error percentage of VO2p\n",
    "        VO2p_TIEGCM_error_min[lat,lon,lev]=VO2p_TIEGCM[lat,lon,lev]-sy.sqrt(eq2_1_35)#VO2p with error (min)\n",
    "        VO2p_TIEGCM_error_max[lat,lon,lev]=VO2p_TIEGCM[lat,lon,lev]+sy.sqrt(eq2_1_35)#VO2p with error (max)\n",
    "        \n",
    "        eq2_1_34 = (1 / (Omega_O2p_TIEGCM[lat, lon, lev])) ** 2\n",
    "        eq2_1_33 = eq2_1_34 * eq2_1_35 + eq2_1_44 * eq2_1_45\n",
    "        # *********************************************\n",
    "        eq2_1_32 = (q_e / m_Oplus) ** 2\n",
    "        eq2_1_31 = eq2_1_32 * B_error_act ** 2\n",
    "        eq2_1_30 = (-VOp_TIEGCM[lat, lon, lev] / (Omega_Op_TIEGCM[lat, lon, lev] ** 2)) ** 2\n",
    "        eq2_1_29 = (6.82 * 10 ** (-10)) ** 2\n",
    "        eq2_1_28 = eq2_1_29 * N2_error_act ** 2\n",
    "        eq2_1_27 = (6.64 * 10 ** (-10)) ** 2\n",
    "        eq2_1_26 = eq2_1_27 * O2_error_act ** 2\n",
    "        eq2_1_24 = (9.175 * 10 ** (-12) * O_TIEGCM[lat, lon, lev] * fb * (\n",
    "                -0.064 * sy.log(Ti_TIEGCM[lat, lon, lev] / 2 + Tn_TIEGCM[lat, lon, lev] / 2) / sy.log(\n",
    "            10) + 1) ** 2 / sy.sqrt(\n",
    "            Ti_TIEGCM[lat, lon, lev] / 2 + Tn_TIEGCM[lat, lon, lev] / 2) - 2.3488 * 10 ** (-12) * O_TIEGCM[\n",
    "                    lat, lon, lev] * fb * (\n",
    "                        -0.064 * sy.log(Ti_TIEGCM[lat, lon, lev] / 2 + Tn_TIEGCM[lat, lon, lev] / 2) / sy.log(\n",
    "                    10) + 1) / (\n",
    "                        sy.sqrt(Ti_TIEGCM[lat, lon, lev] / 2 + Tn_TIEGCM[lat, lon, lev] / 2) * sy.log(10))) ** 2\n",
    "        eq2_1_25 = eq2_1_24\n",
    "        eq2_1_23 = (3.67 * 10 ** (-11) * fb * sy.sqrt(Ti_TIEGCM[lat, lon, lev] / 2 + Tn_TIEGCM[lat, lon, lev] / 2) * (\n",
    "                -0.064 * sy.log(Ti_TIEGCM[lat, lon, lev] / 2 + Tn_TIEGCM[lat, lon, lev] / 2) / sy.log(\n",
    "            10) + 1) ** 2) ** 2\n",
    "        eq2_1_22 = eq2_1_23 * O_error_act ** 2 + eq2_1_24 * Ti_error_act ** 2 + eq2_1_25 * Tn_error_act ** 2\n",
    "        eq2_1_21 = eq2_1_22 + eq2_1_26 + eq2_1_28\n",
    "        VOp_TIEGCM_error_per[lat,lon,lev]=(sy.sqrt(eq2_1_21)/VOp_TIEGCM[lat,lon,lev])*100 #error percentage of VOp\n",
    "        VOp_TIEGCM_error_min[lat,lon,lev]=VOp_TIEGCM[lat,lon,lev]-sy.sqrt(eq2_1_21)#VOp with error (min)\n",
    "        VOp_TIEGCM_error_max[lat,lon,lev]=VOp_TIEGCM[lat,lon,lev]+sy.sqrt(eq2_1_21)#VOp with error (max\n",
    "        eq2_1_20 = (1 / (Omega_Op_TIEGCM[lat, lon, lev])) ** 2\n",
    "        eq2_1_19 = eq2_1_20 * eq2_1_21 + eq2_1_30 * eq2_1_31\n",
    "        # *********************************************\n",
    "        eq2_1_18 = (q_e / m_e) ** 2\n",
    "        eq2_1_17 = eq2_1_18 * B_error_act ** 2\n",
    "        eq2_1_16 = (-Ve_TIEGCM[lat, lon, lev] / (Omega_e_TIEGCM[lat, lon, lev]) ** 2) ** 2\n",
    "        eq2_1_15 = (2.33 * N2_TIEGCM[lat, lon, lev] * 10 ** (-11) -\n",
    "                5.6386 * N2_TIEGCM[lat, lon, lev] * Te_TIEGCM[lat, lon, lev] * 10 ** (-15) +\n",
    "                (0.91 * O2_TIEGCM[lat, lon, lev] * 10 ** (-10)) / sy.sqrt(Te_TIEGCM[lat, lon, lev]) +\n",
    "                6.552 * O2_TIEGCM[lat, lon, lev] * 10 ** (-12) +\n",
    "                (4.45 * O_TIEGCM[lat, lon, lev] * 10 ** (-11)) / sy.sqrt(Te_TIEGCM[lat, lon, lev]) +\n",
    "                76.095 * O_TIEGCM[lat, lon, lev] * sy.sqrt(Te_TIEGCM[lat, lon, lev]) * 10 ** (-15)) ** 2\n",
    "\n",
    "        eq2_1_14 = (8.9 * 10 ** (-11) * sy.sqrt(Te_TIEGCM[lat, lon, lev]) * (0.00057 * Te_TIEGCM[lat, lon, lev] + 1)) ** 2\n",
    "        eq2_1_13 = (1.82 * 10 ** (-10) * sy.sqrt(Te_TIEGCM[lat, lon, lev]) *\n",
    "                (0.036 * sy.sqrt(Te_TIEGCM[lat, lon, lev]) + 1)) ** 2\n",
    "        eq2_1_12 = (2.33 * 10 ** (-11) * Te_TIEGCM[lat, lon, lev] * (1 - 0.000121 * Te_TIEGCM[lat, lon, lev])) ** 2\n",
    "        eq2_1_11 = eq2_1_12 * N2_error_act ** 2 + eq2_1_13 * O2_error_act ** 2 + eq2_1_14 * O_error_act ** 2 + eq2_1_15 * Te_error_act ** 2\n",
    "        Ve_TIEGCM_error_per[lat,lon,lev]=(sy.sqrt(eq2_1_11)/Ve_TIEGCM[lat,lon,lev])*100 # error percentage of Ve\n",
    "        Ve_TIEGCM_error_min[lat,lon,lev]=Ve_TIEGCM[lat,lon,lev]-sy.sqrt(eq2_1_11) #Ve with error (min)\n",
    "        Ve_TIEGCM_error_max[lat,lon,lev]=Ve_TIEGCM[lat,lon,lev]+sy.sqrt(eq2_1_11)#Ve with error (max)\n",
    "        eq2_1_10 = (1 / Omega_e_TIEGCM[lat, lon, lev]) ** 2\n",
    "        eq2_1_9 = eq2_1_10 * eq2_1_11 + eq2_1_16 * eq2_1_17\n",
    "        # *********************************************\n",
    "        eq2_1_8 = ((q_e * (O2p_TIEGCM[lat, lon, lev]*CubicCm2CubicM) / bnorm[lat, lon, lev]) *\n",
    "                ((1 - ratio_O2p_TIEGCM[lat, lon, lev] ** 2) / (1 + ratio_O2p_TIEGCM[lat, lon, lev] ** 2) ** 2)) ** 2\n",
    "        # *********************************************\n",
    "        eq2_1_7 = ((q_e * (Op_TIEGCM[lat, lon, lev]*CubicCm2CubicM / bnorm[lat, lon, lev])) *\n",
    "                ((1 - ratio_Op_TIEGCM[lat, lon, lev] ** 2) / (1 + ratio_Op_TIEGCM[lat, lon, lev] ** 2) ** 2)) ** 2\n",
    "        # *********************************************\n",
    "        eq2_1_6 = ((q_e * (Ne_TIEGCM[lat, lon, lev]*CubicCm2CubicM) / bnorm[lat, lon, lev]) *\n",
    "                ((1 - ratio_e_TIEGCM[lat, lon, lev] ** 2) / (1 + ratio_e_TIEGCM[lat, lon, lev] ** 2) ** 2)) ** 2\n",
    "        # *********************************************\n",
    "        eq2_1_5 = (q_e * ratio_O2p_TIEGCM[lat, lon, lev] / (\n",
    "                bnorm[lat, lon, lev] * (ratio_O2p_TIEGCM[lat, lon, lev] ** 2 + 1))) ** 2\n",
    "        # *********************************************\n",
    "        eq2_1_4 = (q_e * ratio_Op_TIEGCM[lat, lon, lev] / (\n",
    "                bnorm[lat, lon, lev] * (ratio_Op_TIEGCM[lat, lon, lev] ** 2 + 1))) ** 2\n",
    "        # *********************************************\n",
    "        eq2_1_3 = (q_e * ratio_e_TIEGCM[lat, lon, lev] / (\n",
    "                bnorm[lat, lon, lev] * (ratio_e_TIEGCM[lat, lon, lev] ** 2 + 1))) ** 2\n",
    "        # *********************************************\n",
    "        eq2_1_2 = (-q_e * ((Ne_TIEGCM[lat, lon, lev]*CubicCm2CubicM) * ratio_e_TIEGCM[lat, lon, lev] /\n",
    "                        (ratio_e_TIEGCM[lat, lon, lev] ** 2 + 1) +\n",
    "                        (O2p_TIEGCM[lat, lon, lev]*CubicCm2CubicM) * ratio_O2p_TIEGCM[lat, lon, lev] /\n",
    "                        (ratio_O2p_TIEGCM[lat, lon, lev] ** 2 + 1) +\n",
    "                        (Op_TIEGCM[lat, lon, lev]*CubicCm2CubicM) * ratio_Op_TIEGCM[lat, lon, lev] /\n",
    "                        (ratio_Op_TIEGCM[lat, lon, lev] ** 2 + 1)) / bnorm[lat, lon, lev] ** 2) ** 2\n",
    "        # *********************************************\n",
    "        eq2_1_1 = eq2_1_2 * B_error_act ** 2 + eq2_1_3 * (Ne_error_act*CubicCm2CubicM) ** 2 + eq2_1_4 * (Op_error_act*CubicCm2CubicM) ** 2 + \\\n",
    "               eq2_1_5 * (O2p_error_act*CubicCm2CubicM) ** 2 + eq2_1_6 * eq2_1_9 + eq2_1_7 * eq2_1_19 + eq2_1_8 * eq2_1_33\n",
    "        \n",
    "        Peder_error_per[lat, lon, lev] = (sy.sqrt(eq2_1_1) / Pedersen_TIEGCM[lat, lon, lev]) * 100\n",
    "        \n",
    "        ERROR = sy.sqrt(eq2_1_21.evalf())\n",
    "        Pedersen_TIEGCM_error_max[lat, lon, lev] = sy.sqrt(eq2_1_1) + Pedersen_TIEGCM[lat, lon, lev]\n",
    "        Pedersen_TIEGCM_error_min[lat, lon, lev] = - sy.sqrt(eq2_1_1) + Pedersen_TIEGCM[lat, lon, lev]\n",
    "        \n",
    "        #*********** Hall Error Calculation************\n",
    "        #put the correct values\n",
    "#         eq2_2_2=q_e**2*(Ne/(r_e**2 + 1) + O_2p/(r_O2p**2 + 1) + Op/(r_Op**2 + 1))**2/B**4\n",
    "        # *********************************************\n",
    "#         eq2_2_3=q_e**2/(B**2*(r_e**2 + 1)**2)\n",
    "        # *********************************************\n",
    "#         eq2_2_4=q_e**2/(B**2*(r_Op**2 + 1)**2)\n",
    "        # *********************************************\n",
    "#         eq2_2_5=q_e**2/(B**2*(r_O2p**2 + 1)**2)\n",
    "        # *********************************************\n",
    "#         eq2_2_6=4*Ne**2*q_e**2*r_e**2/(B**2*(r_e**2 + 1)**4)\n",
    "        # *********************************************\n",
    "#         eq2_2_7=4*Op**2*q_e**2*r_Op**2/(B**2*(r_Op**2 + 1)**4)\n",
    "        # *********************************************\n",
    "#         eq2_2_8=4*O_2p**2*q_e**2*r_O2p**2/(B**2*(r_O2p**2 + 1)**4)\n",
    "        # *********************************************\n",
    "#         eq2_2_1 = eq2_2_2 * B_error_act ** 2 + eq2_2_3 * (Ne_error_act*CubicCm2CubicM) ** 2 + eq2_2_4 * (Op_error_act*CubicCm2CubicM) ** 2 + \\\n",
    "#                eq2_2_5 * (O2p_error_act*CubicCm2CubicM) ** 2 + eq2_2_6 * eq2_1_9 + eq2_2_7 * eq2_1_19 + eq2_2_8 * eq2_1_33\n",
    "#         Hall_error_per[lat, lon, lev] = (sy.sqrt(eq2_2_1) / Hall_TIEGCM[lat, lon, lev]) * 100\n",
    "#         Hall_TIEGCM_error_max[lat, lon, lev] = sy.sqrt(eq2_2_1) + Hall_TIEGCM[lat, lon, lev]\n",
    "#         Hall_TIEGCM_error_min[lat, lon, lev] = - sy.sqrt(eq2_2_1) + Hall_TIEGCM[lat, lon, lev]\n",
    "        \n",
    "    plotting_Error_Per() #plot Pedersen Conductivity Error Calculations\n",
    "    plotting_Collis_freq_Error() #plot Collision Frequencies Error Calculations\n",
    "\n",
    "# ******************* OHMIC HEATING ERROR ************************************************    \n",
    "def error_OH_calculation(Ui_error=1.0, Un_error=1.0,\n",
    "                         B_error=1.0):  # errors are in percentage\n",
    "    for lev in range(0, len(glev) - 1):\n",
    "        Bx_error_act = (B_error / 100) * Bx_IGRF[lat, lon, lev]\n",
    "        By_error_act = (B_error / 100) * By_IGRF[lat, lon, lev]\n",
    "        Bz_error_act = (B_error / 100) * Bz_IGRF[lat, lon, lev]\n",
    "        B_error_act = (B_error / 100) * bnorm[lat, lon, lev]\n",
    "        Uix_error_act = (Ui_error / 100) * Ui_x_TIEGCM[lat, lon, lev]\n",
    "        Uiy_error_act = (Ui_error / 100) * Ui_y_TIEGCM[lat, lon, lev]\n",
    "        Uiz_error_act = (Ui_error / 100) * Ui_z_TIEGCM[lat, lon, lev]\n",
    "        Unx_error_act = (Un_error / 100) * Un_x_TIEGCM[lat, lon, lev]\n",
    "        Uny_error_act = (Un_error / 100) * Un_y_TIEGCM[lat, lon, lev]\n",
    "        Unz_error_act = (Un_error / 100) * Un_z_TIEGCM[lat, lon, lev]\n",
    "        \n",
    "        Peder_error_act = (Peder_error_per[lat, lon, lev] / 100) * Pedersen_TIEGCM[lat, lon, lev]\n",
    "        \n",
    "        # Ohmic Heating Error Propagation\n",
    "        eqOH2  = ((Bx_IGRF[lat, lon, lev] * Ui_y_TIEGCM[lat, lon, lev] - Bx_IGRF[lat, lon, lev] * \n",
    "          (Bx_IGRF[lat, lon, lev] * Un_z_TIEGCM[lat, lon, lev] / bnorm[lat, lon, lev] - \n",
    "           Bz_IGRF[lat, lon, lev] * Un_x_TIEGCM[lat, lon, lev] / bnorm[lat, lon, lev]) - \n",
    "          By_IGRF[lat, lon, lev] * Ui_x_TIEGCM[lat, lon, lev] + By_IGRF[lat, lon, lev] * \n",
    "          (-By_IGRF[lat, lon, lev] * Un_z_TIEGCM[lat, lon, lev] / bnorm[lat, lon, lev] + \n",
    "           Bz_IGRF[lat, lon, lev] * Un_y_TIEGCM[lat, lon, lev] / bnorm[lat, lon, lev])) ** 2 + \n",
    "         (-Bx_IGRF[lat, lon, lev] * Ui_z_TIEGCM[lat, lon, lev] + Bx_IGRF[lat, lon, lev] * \n",
    "          (-Bx_IGRF[lat, lon, lev] * Un_y_TIEGCM[lat, lon, lev] / bnorm[lat, lon, lev] + \n",
    "           By_IGRF[lat, lon, lev] * Un_x_TIEGCM[lat, lon, lev] / bnorm[lat, lon, lev]) + \n",
    "          Bz_IGRF[lat, lon, lev] * Ui_x_TIEGCM[lat, lon, lev] - Bz_IGRF[lat, lon, lev] * \n",
    "          (-By_IGRF[lat, lon, lev] * Un_z_TIEGCM[lat, lon, lev] / bnorm[lat, lon, lev] + \n",
    "           Bz_IGRF[lat, lon, lev] * Un_y_TIEGCM[lat, lon, lev] / bnorm[lat, lon, lev])) ** 2 + \n",
    "         (By_IGRF[lat, lon, lev] * Ui_z_TIEGCM[lat, lon, lev] - By_IGRF[lat, lon, lev] * \n",
    "          (-Bx_IGRF[lat, lon, lev] * Un_y_TIEGCM[lat, lon, lev] / bnorm[lat, lon, lev] + \n",
    "           By_IGRF[lat, lon, lev] * Un_x_TIEGCM[lat, lon, lev] / bnorm[lat, lon, lev]) - \n",
    "          Bz_IGRF[ lat, lon, lev] * Ui_y_TIEGCM[lat, lon, lev] + Bz_IGRF[lat, lon, lev] * \n",
    "          (Bx_IGRF[lat, lon, lev] * Un_z_TIEGCM[lat, lon, lev] / bnorm[lat, lon, lev] - \n",
    "           Bz_IGRF[lat, lon, lev] * Un_x_TIEGCM[lat, lon, lev] / bnorm[lat, lon, lev])) ** 2) ** 2\n",
    "\n",
    "        # *********************************\n",
    "        eqOH3 = Pedersen_TIEGCM[lat, lon, lev] ** 2 * \\\n",
    "                (-2 * By_IGRF[lat, lon, lev] *\n",
    "                 (Bx_IGRF[lat, lon, lev] * Ui_y_TIEGCM[lat, lon, lev] - Bx_IGRF[lat, lon, lev] *\n",
    "                  (Bx_IGRF[lat, lon, lev] * Un_z_TIEGCM[lat, lon, lev] / bnorm[lat, lon, lev] -\n",
    "                   Bz_IGRF[lat, lon, lev] * Un_x_TIEGCM[lat, lon, lev] / bnorm[lat, lon, lev]) -\n",
    "                  By_IGRF[lat, lon, lev] * Ui_x_TIEGCM[lat, lon, lev] + By_IGRF[lat, lon, lev] *\n",
    "                  (-By_IGRF[lat, lon, lev] * Un_z_TIEGCM[lat, lon, lev] / bnorm[lat, lon, lev] +\n",
    "                   Bz_IGRF[lat, lon, lev] * Un_y_TIEGCM[lat, lon, lev] / bnorm[lat, lon, lev])) +\n",
    "                 2 * Bz_IGRF[lat, lon, lev] * (-Bx_IGRF[lat, lon, lev] * Ui_z_TIEGCM[lat, lon, lev] +\n",
    "                                               Bx_IGRF[lat, lon, lev] * (-Bx_IGRF[lat, lon, lev] *\n",
    "                                                                         Un_y_TIEGCM[lat, lon, lev] /\n",
    "                                                                         bnorm[lat, lon, lev] +\n",
    "                                                                         By_IGRF[lat, lon, lev] *\n",
    "                                                                         Un_x_TIEGCM[lat, lon, lev] /\n",
    "                                                                         bnorm[lat, lon, lev]) +\n",
    "                                               Bz_IGRF[lat, lon, lev] * Ui_x_TIEGCM[lat, lon, lev] -\n",
    "                                               Bz_IGRF[lat, lon, lev] * (-By_IGRF[lat, lon, lev] *\n",
    "                                                                         Un_z_TIEGCM[lat, lon, lev] /\n",
    "                                                                         bnorm[lat, lon, lev] +\n",
    "                                                                         Bz_IGRF[lat, lon, lev] *\n",
    "                                                                         Un_y_TIEGCM[lat, lon, lev] /\n",
    "                                                                         bnorm[lat, lon, lev]))) ** 2\n",
    "        # *********************************\n",
    "        eqOH4 = Pedersen_TIEGCM[lat, lon, lev] ** 2 * \\\n",
    "                (2 * Bx_IGRF[lat, lon, lev] * (Bx_IGRF[lat, lon, lev] * Ui_y_TIEGCM[lat, lon, lev] - \n",
    "                                               Bx_IGRF[lat, lon, lev] * (Bx_IGRF[lat, lon, lev] * \n",
    "                                                                         Un_z_TIEGCM[lat, lon, lev] / \n",
    "                                                                         bnorm[lat, lon, lev] - \n",
    "                                                                         Bz_IGRF[lat, lon, lev] * \n",
    "                                                                         Un_x_TIEGCM[lat, lon, lev] / \n",
    "                                                                         bnorm[lat, lon, lev]) - \n",
    "                                               By_IGRF[lat, lon, lev] * Ui_x_TIEGCM[lat, lon, lev] + \n",
    "                                               By_IGRF[lat, lon, lev] * (-By_IGRF[lat, lon, lev] * \n",
    "                                                                         Un_z_TIEGCM[lat, lon, lev] / \n",
    "                                                                         bnorm[lat, lon, lev] + \n",
    "                                                                         Bz_IGRF[lat, lon, lev] * \n",
    "                                                                         Un_y_TIEGCM[lat, lon, lev] / \n",
    "                                                                         bnorm[lat, lon, lev])) - \n",
    "                 2 * Bz_IGRF[lat, lon, lev] * (By_IGRF[lat, lon, lev] * Ui_z_TIEGCM[lat, lon, lev] - \n",
    "                                               By_IGRF[lat, lon, lev] * (-Bx_IGRF[lat, lon, lev] * \n",
    "                                                                         Un_y_TIEGCM[lat, lon, lev] / \n",
    "                                                                         bnorm[lat, lon, lev] + \n",
    "                                                                         By_IGRF[lat, lon, lev] * \n",
    "                                                                         Un_x_TIEGCM[lat, lon, lev] / \n",
    "                                                                         bnorm[lat, lon, lev]) - \n",
    "                                               Bz_IGRF[lat, lon, lev] * Ui_y_TIEGCM[lat, lon, lev] + \n",
    "                                               Bz_IGRF[lat, lon, lev] * (Bx_IGRF[lat, lon, lev] * \n",
    "                                                                         Un_z_TIEGCM[lat, lon, lev] / \n",
    "                                                                         bnorm[lat, lon, lev] - \n",
    "                                                                         Bz_IGRF[lat, lon, lev] * \n",
    "                                                                         Un_x_TIEGCM[lat, lon, lev] / \n",
    "                                                                         bnorm[lat, lon, lev]))) ** 2\n",
    "\n",
    "        # *********************************\n",
    "        eqOH5 = Pedersen_TIEGCM[lat, lon, lev] ** 2 * \\\n",
    "                (-2 * Bx_IGRF[lat, lon, lev] * (-Bx_IGRF[lat, lon, lev] * Ui_z_TIEGCM[lat, lon, lev] + \n",
    "                                                Bx_IGRF[lat, lon, lev] * (-Bx_IGRF[lat, lon, lev] * \n",
    "                                                                          Un_y_TIEGCM[lat, lon, lev] / \n",
    "                                                                          bnorm[lat, lon, lev] + \n",
    "                                                                          By_IGRF[lat, lon, lev] * \n",
    "                                                                          Un_x_TIEGCM[lat, lon, lev] / \n",
    "                                                                          bnorm[lat, lon, lev]) + \n",
    "                                                Bz_IGRF[lat, lon, lev] * Ui_x_TIEGCM[lat, lon, lev] - \n",
    "                                                Bz_IGRF[lat, lon, lev] * (-By_IGRF[lat, lon, lev] * \n",
    "                                                                          Un_z_TIEGCM[lat, lon, lev] / \n",
    "                                                                          bnorm[lat, lon, lev] + \n",
    "                                                                          Bz_IGRF[lat, lon, lev] * \n",
    "                                                                          Un_y_TIEGCM[lat, lon, lev] / \n",
    "                                                                          bnorm[lat, lon, lev])) + \n",
    "                 2 * By_IGRF[lat, lon, lev] * (By_IGRF[lat, lon, lev] * Ui_z_TIEGCM[lat, lon, lev] - \n",
    "                                               By_IGRF[lat, lon, lev] * (-Bx_IGRF[lat, lon, lev] * \n",
    "                                                                         Un_y_TIEGCM[lat, lon, lev] / \n",
    "                                                                         bnorm[lat, lon, lev] + \n",
    "                                                                         By_IGRF[lat, lon, lev] * \n",
    "                                                                         Un_x_TIEGCM[lat, lon, lev] / \n",
    "                                                                         bnorm[lat, lon, lev]) - \n",
    "                                               Bz_IGRF[lat, lon, lev] * Ui_y_TIEGCM[lat, lon, lev] + \n",
    "                                               Bz_IGRF[lat, lon, lev] * (Bx_IGRF[lat, lon, lev] * \n",
    "                                                                         Un_z_TIEGCM[lat, lon, lev] / \n",
    "                                                                         bnorm[lat, lon, lev] - \n",
    "                                                                         Bz_IGRF[lat, lon, lev] * \n",
    "                                                                         Un_x_TIEGCM[lat, lon, lev] / \n",
    "                                                                         bnorm[lat, lon, lev]))) ** 2\n",
    "\n",
    "        # *********************************\n",
    "        eqOH6 = Pedersen_TIEGCM[lat, lon, lev] ** 2 * \\\n",
    "                (2 * Bx_IGRF[lat, lon, lev] * By_IGRF[lat, lon, lev] * \n",
    "                 (-Bx_IGRF[lat, lon, lev] * Ui_z_TIEGCM[lat, lon, lev] + Bx_IGRF[lat, lon, lev] * \n",
    "                  (-Bx_IGRF[lat, lon, lev] * Un_y_TIEGCM[lat, lon, lev] / bnorm[lat, lon, lev] + \n",
    "                   By_IGRF[lat, lon, lev] * Un_x_TIEGCM[lat, lon, lev] / bnorm[lat, lon, lev]) + \n",
    "                  Bz_IGRF[lat, lon, lev] * Ui_x_TIEGCM[lat, lon, lev] - Bz_IGRF[lat, lon, lev] * \n",
    "                  (-By_IGRF[lat, lon, lev] * Un_z_TIEGCM[lat, lon, lev] / bnorm[lat, lon, lev] + \n",
    "                   Bz_IGRF[lat, lon, lev] * Un_y_TIEGCM[lat, lon, lev] / bnorm[lat, lon, lev])) / \n",
    "                 bnorm[lat, lon, lev] + 2 * Bx_IGRF[lat, lon, lev] * Bz_IGRF[lat, lon, lev] * \n",
    "                 (Bx_IGRF[lat, lon, lev] * Ui_y_TIEGCM[lat, lon, lev] - Bx_IGRF[lat, lon, lev] * \n",
    "                  (Bx_IGRF[lat, lon, lev] * Un_z_TIEGCM[lat, lon, lev] / bnorm[lat, lon, lev] - \n",
    "                   Bz_IGRF[lat, lon, lev] * Un_x_TIEGCM[lat, lon, lev] / bnorm[lat, lon, lev]) - \n",
    "                  By_IGRF[lat, lon, lev] * Ui_x_TIEGCM[lat, lon, lev] + By_IGRF[lat, lon, lev] * \n",
    "                  (-By_IGRF[lat, lon, lev] * Un_z_TIEGCM[lat, lon, lev] / bnorm[lat, lon, lev] + \n",
    "                   Bz_IGRF[lat, lon, lev] * Un_y_TIEGCM[lat, lon, lev] / bnorm[lat, lon, lev])) / \n",
    "                 bnorm[lat, lon, lev] + (-2 * By_IGRF[lat, lon, lev] ** 2 / bnorm[lat, lon, lev] - \n",
    "                                         2 * Bz_IGRF[lat, lon, lev] ** 2 / bnorm[lat, lon, lev]) * \n",
    "                 (By_IGRF[lat, lon, lev] * Ui_z_TIEGCM[lat, lon, lev] - By_IGRF[lat, lon, lev] * \n",
    "                  (-Bx_IGRF[lat, lon, lev] * Un_y_TIEGCM[lat, lon, lev] / bnorm[lat, lon, lev] + \n",
    "                   By_IGRF[lat, lon, lev] * Un_x_TIEGCM[lat, lon, lev] / bnorm[lat, lon, lev]) - \n",
    "                  Bz_IGRF[lat, lon, lev] * Ui_y_TIEGCM[lat, lon, lev] + Bz_IGRF[lat, lon, lev] * \n",
    "                  (Bx_IGRF[lat, lon, lev] * Un_z_TIEGCM[lat, lon, lev] / bnorm[lat, lon, lev] - \n",
    "                   Bz_IGRF[lat, lon, lev] * Un_x_TIEGCM[lat, lon, lev] / bnorm[lat, lon, lev]))) ** 2\n",
    "        # *********************************\n",
    "        eqOH7 = Pedersen_TIEGCM[lat, lon, lev] ** 2 * \\\n",
    "                (2 * Bx_IGRF[lat, lon, lev] * By_IGRF[lat, lon, lev] * \n",
    "                 (By_IGRF[lat, lon, lev] * Ui_z_TIEGCM[lat, lon, lev] - By_IGRF[lat, lon, lev] * \n",
    "                  (-Bx_IGRF[lat, lon, lev] * Un_y_TIEGCM[lat, lon, lev] / bnorm[lat, lon, lev] + \n",
    "                   By_IGRF[lat, lon, lev] * Un_x_TIEGCM[lat, lon, lev] / bnorm[lat, lon, lev]) - \n",
    "                  Bz_IGRF[lat, lon, lev] * Ui_y_TIEGCM[lat, lon, lev] + Bz_IGRF[lat, lon, lev] * \n",
    "                  (Bx_IGRF[lat, lon, lev] * Un_z_TIEGCM[lat, lon, lev] / bnorm[lat, lon, lev] - \n",
    "                   Bz_IGRF[lat, lon, lev] * Un_x_TIEGCM[lat, lon, lev] / bnorm[lat, lon, lev])) / \n",
    "                 bnorm[lat, lon, lev] + 2 * By_IGRF[lat, lon, lev] * Bz_IGRF[lat, lon, lev] * \n",
    "                 (Bx_IGRF[lat, lon, lev] * Ui_y_TIEGCM[lat, lon, lev] - Bx_IGRF[lat, lon, lev] * \n",
    "                  (Bx_IGRF[lat, lon, lev] * Un_z_TIEGCM[lat, lon, lev] / bnorm[lat, lon, lev] - \n",
    "                   Bz_IGRF[lat, lon, lev] * Un_x_TIEGCM[lat, lon, lev] / bnorm[lat, lon, lev]) - \n",
    "                  By_IGRF[lat, lon, lev] * Ui_x_TIEGCM[lat, lon, lev] + By_IGRF[lat, lon, lev] * \n",
    "                  (-By_IGRF[lat, lon, lev] * Un_z_TIEGCM[lat, lon, lev] / bnorm[lat, lon, lev] + \n",
    "                   Bz_IGRF[lat, lon, lev] * Un_y_TIEGCM[lat, lon, lev] / bnorm[lat, lon, lev])) / \n",
    "                 bnorm[lat, lon, lev] + (-2 * Bx_IGRF[lat, lon, lev] ** 2 / bnorm[lat, lon, lev] - \n",
    "                                         2 * Bz_IGRF[lat, lon, lev] ** 2 / bnorm[lat, lon, lev]) * \n",
    "                 (-Bx_IGRF[lat, lon, lev] * Ui_z_TIEGCM[lat, lon, lev] + Bx_IGRF[lat, lon, lev] * \n",
    "                  (-Bx_IGRF[lat, lon, lev] * Un_y_TIEGCM[lat, lon, lev] / bnorm[lat, lon, lev] + \n",
    "                   By_IGRF[lat, lon, lev] * Un_x_TIEGCM[lat, lon, lev] / bnorm[lat, lon, lev]) + \n",
    "                  Bz_IGRF[lat, lon, lev] * Ui_x_TIEGCM[lat, lon, lev] - Bz_IGRF[lat, lon, lev] * \n",
    "                  (-By_IGRF[lat, lon, lev] * Un_z_TIEGCM[lat, lon, lev] / bnorm[lat, lon, lev] + \n",
    "                   Bz_IGRF[lat, lon, lev] * Un_y_TIEGCM[lat, lon, lev] / bnorm[lat, lon, lev]))) ** 2\n",
    "\n",
    "        # *********************************\n",
    "        eqOH8 = Pedersen_TIEGCM[lat, lon, lev] ** 2 * \\\n",
    "                (2 * Bx_IGRF[lat, lon, lev] * Bz_IGRF[lat, lon, lev] *\n",
    "                 (By_IGRF[lat, lon, lev] * Ui_z_TIEGCM[lat, lon, lev] -\n",
    "                  By_IGRF[lat, lon, lev] * (-Bx_IGRF[lat, lon, lev] * Un_y_TIEGCM[lat, lon, lev] /\n",
    "                                            bnorm[lat, lon, lev] + By_IGRF[lat, lon, lev] *\n",
    "                                            Un_x_TIEGCM[lat, lon, lev] / bnorm[lat, lon, lev]) -\n",
    "                  Bz_IGRF[lat, lon, lev] * Ui_y_TIEGCM[lat, lon, lev] + Bz_IGRF[lat, lon, lev] *\n",
    "                  (Bx_IGRF[lat, lon, lev] * Un_z_TIEGCM[lat, lon, lev] / bnorm[lat, lon, lev] -\n",
    "                   Bz_IGRF[lat, lon, lev] * Un_x_TIEGCM[lat, lon, lev] / bnorm[lat, lon, lev])) /\n",
    "                 bnorm[lat, lon, lev] + 2 * By_IGRF[lat, lon, lev] * Bz_IGRF[lat, lon, lev] *\n",
    "                 (-Bx_IGRF[lat, lon, lev] * Ui_z_TIEGCM[lat, lon, lev] + Bx_IGRF[lat, lon, lev] *\n",
    "                  (-Bx_IGRF[lat, lon, lev] * Un_y_TIEGCM[lat, lon, lev] / bnorm[lat, lon, lev] +\n",
    "                   By_IGRF[lat, lon, lev] * Un_x_TIEGCM[lat, lon, lev] / bnorm[lat, lon, lev]) +\n",
    "                  Bz_IGRF[lat, lon, lev] * Ui_x_TIEGCM[lat, lon, lev] - Bz_IGRF[lat, lon, lev] *\n",
    "                  (-By_IGRF[lat, lon, lev] * Un_z_TIEGCM[lat, lon, lev] / bnorm[lat, lon, lev] +\n",
    "                   Bz_IGRF[lat, lon, lev] * Un_y_TIEGCM[lat, lon, lev] / bnorm[lat, lon, lev])) /\n",
    "                 bnorm[lat, lon, lev] + (-2 * Bx_IGRF[lat, lon, lev] ** 2 / bnorm[lat, lon, lev] -\n",
    "                                         2 * By_IGRF[lat, lon, lev] ** 2 / bnorm[lat, lon, lev]) *\n",
    "                 (Bx_IGRF[lat, lon, lev] * Ui_y_TIEGCM[lat, lon, lev] - Bx_IGRF[lat, lon, lev] *\n",
    "                  (Bx_IGRF[lat, lon, lev] * Un_z_TIEGCM[lat, lon, lev] / bnorm[lat, lon, lev] -\n",
    "                   Bz_IGRF[lat, lon, lev] * Un_x_TIEGCM[lat, lon, lev] / bnorm[lat, lon, lev]) -\n",
    "                  By_IGRF[lat, lon, lev] * Ui_x_TIEGCM[lat, lon, lev] + By_IGRF[lat, lon, lev] *\n",
    "                  (-By_IGRF[lat, lon, lev] * Un_z_TIEGCM[lat, lon, lev] / bnorm[lat, lon, lev] +\n",
    "                   Bz_IGRF[lat, lon, lev] * Un_y_TIEGCM[lat, lon, lev] / bnorm[lat, lon, lev]))) ** 2\n",
    "\n",
    "        # *********************************\n",
    "        eqOH9 = Pedersen_TIEGCM[lat, lon, lev] ** 2 * \\\n",
    "                ((2 * By_IGRF[lat, lon, lev] * Un_y_TIEGCM[lat, lon, lev] / bnorm[lat, lon, lev] +\n",
    "                  2 * Bz_IGRF[lat, lon, lev] * Un_z_TIEGCM[lat, lon, lev] / bnorm[lat, lon, lev]) *\n",
    "                 (By_IGRF[lat, lon, lev] * Ui_z_TIEGCM[lat, lon, lev] - By_IGRF[lat, lon, lev] *\n",
    "                  (-Bx_IGRF[lat, lon, lev] * Un_y_TIEGCM[lat, lon, lev] / bnorm[lat, lon, lev] +\n",
    "                   By_IGRF[lat, lon, lev] * Un_x_TIEGCM[lat, lon, lev] / bnorm[lat, lon, lev]) -\n",
    "                  Bz_IGRF[lat, lon, lev] * Ui_y_TIEGCM[lat, lon, lev] + Bz_IGRF[lat, lon, lev] *\n",
    "                  (Bx_IGRF[lat, lon, lev] * Un_z_TIEGCM[lat, lon, lev] / bnorm[lat, lon, lev] -\n",
    "                   Bz_IGRF[lat, lon, lev] * Un_x_TIEGCM[lat, lon, lev] / bnorm[lat, lon, lev])) +\n",
    "                 (-4 * Bx_IGRF[lat, lon, lev] * Un_y_TIEGCM[lat, lon, lev] / bnorm[lat, lon, lev] +\n",
    "                  2 * By_IGRF[lat, lon, lev] * Un_x_TIEGCM[lat, lon, lev] / bnorm[lat, lon, lev] -\n",
    "                  2 * Ui_z_TIEGCM[lat, lon, lev]) * (-Bx_IGRF[lat, lon, lev] * Ui_z_TIEGCM[lat, lon, lev] +\n",
    "                                                     Bx_IGRF[lat, lon, lev] * (-Bx_IGRF[lat, lon, lev] *\n",
    "                                                                               Un_y_TIEGCM[lat, lon, lev] /\n",
    "                                                                               bnorm[lat, lon, lev] +\n",
    "                                                                               By_IGRF[lat, lon, lev] *\n",
    "                                                                               Un_x_TIEGCM[lat, lon, lev] /\n",
    "                                                                               bnorm[lat, lon, lev]) +\n",
    "                                                     Bz_IGRF[lat, lon, lev] * Ui_x_TIEGCM[lat, lon, lev] -\n",
    "                                                     Bz_IGRF[lat, lon, lev] * (-By_IGRF[lat, lon, lev] *\n",
    "                                                                               Un_z_TIEGCM[lat, lon, lev] /\n",
    "                                                                               bnorm[lat, lon, lev] +\n",
    "                                                                               Bz_IGRF[lat, lon, lev] *\n",
    "                                                                               Un_y_TIEGCM[lat, lon, lev] /\n",
    "                                                                               bnorm[lat, lon, lev])) +\n",
    "                 (-4 * Bx_IGRF[lat, lon, lev] * Un_z_TIEGCM[lat, lon, lev] / bnorm[lat, lon, lev] +\n",
    "                  2 * Bz_IGRF[lat, lon, lev] * Un_x_TIEGCM[lat, lon, lev] /bnorm[lat, lon, lev] +\n",
    "                  2 * Ui_y_TIEGCM[lat, lon, lev]) * (Bx_IGRF[lat, lon, lev] * Ui_y_TIEGCM[lat, lon, lev] -\n",
    "                                                     Bx_IGRF[lat, lon, lev] * (Bx_IGRF[lat, lon, lev] *\n",
    "                                                                               Un_z_TIEGCM[lat, lon, lev] /\n",
    "                                                                               bnorm[lat, lon, lev] -\n",
    "                                                                               Bz_IGRF[lat, lon, lev] *\n",
    "                                                                               Un_x_TIEGCM[lat, lon, lev] /\n",
    "                                                                               bnorm[lat, lon, lev]) -\n",
    "                                                     By_IGRF[lat, lon, lev] * Ui_x_TIEGCM[lat, lon, lev] +\n",
    "                                                     By_IGRF[lat, lon, lev] * (-By_IGRF[lat, lon, lev] *\n",
    "                                                                               Un_z_TIEGCM[lat, lon, lev] /\n",
    "                                                                               bnorm[lat, lon, lev] +\n",
    "                                                                               Bz_IGRF[lat, lon, lev] *\n",
    "                                                                               Un_y_TIEGCM[lat, lon, lev] /\n",
    "                                                                               bnorm[lat, lon, lev]))) ** 2\n",
    "        # *********************************\n",
    "        eqOH10 = Pedersen_TIEGCM[lat, lon, lev] ** 2 * \\\n",
    "                 ((2 * Bx_IGRF[lat, lon, lev] * Un_x_TIEGCM[lat, lon, lev] / bnorm[lat, lon, lev] + \n",
    "                   2 * Bz_IGRF[lat, lon, lev] * Un_z_TIEGCM[lat, lon, lev] / bnorm[lat, lon, lev]) * \n",
    "                  (-Bx_IGRF[lat, lon, lev] * Ui_z_TIEGCM[lat, lon, lev] + Bx_IGRF[lat, lon, lev] * \n",
    "                   (-Bx_IGRF[lat, lon, lev] * Un_y_TIEGCM[lat, lon, lev] / bnorm[lat, lon, lev] + \n",
    "                    By_IGRF[lat, lon, lev] * Un_x_TIEGCM[lat, lon, lev] / bnorm[lat, lon, lev]) + \n",
    "                   Bz_IGRF[lat, lon, lev] * Ui_x_TIEGCM[lat, lon, lev] - Bz_IGRF[lat, lon, lev] * \n",
    "                   (-By_IGRF[lat, lon, lev] * Un_z_TIEGCM[lat, lon, lev] / bnorm[lat, lon, lev] + \n",
    "                    Bz_IGRF[lat, lon, lev] * Un_y_TIEGCM[lat, lon, lev] / bnorm[lat, lon, lev])) + \n",
    "                  (2 * Bx_IGRF[lat, lon, lev] * Un_y_TIEGCM[lat, lon, lev] / bnorm[lat, lon, lev] - \n",
    "                   4 * By_IGRF[lat, lon, lev] * Un_x_TIEGCM[lat, lon, lev] / bnorm[lat, lon, lev] + \n",
    "                   2 * Ui_z_TIEGCM[lat, lon, lev]) * (By_IGRF[lat, lon, lev] * Ui_z_TIEGCM[lat, lon, lev] - \n",
    "                                                      By_IGRF[lat, lon, lev] * (-Bx_IGRF[lat, lon, lev] * \n",
    "                                                                                Un_y_TIEGCM[lat, lon, lev] / \n",
    "                                                                                bnorm[lat, lon, lev] + \n",
    "                                                                                By_IGRF[lat, lon, lev] * \n",
    "                                                                                Un_x_TIEGCM[lat, lon, lev] / \n",
    "                                                                                bnorm[lat, lon, lev]) - \n",
    "                                                      Bz_IGRF[lat, lon, lev] * Ui_y_TIEGCM[lat, lon, lev] + \n",
    "                                                      Bz_IGRF[lat, lon, lev] * (Bx_IGRF[lat, lon, lev] * \n",
    "                                                                                Un_z_TIEGCM[lat, lon, lev] / \n",
    "                                                                                bnorm[lat, lon, lev] - \n",
    "                                                                                Bz_IGRF[lat, lon, lev] * \n",
    "                                                                                Un_x_TIEGCM[lat, lon, lev] / \n",
    "                                                                                bnorm[lat, lon, lev])) + \n",
    "                  (-4 * By_IGRF[lat, lon, lev] * Un_z_TIEGCM[lat, lon, lev] / bnorm[lat, lon, lev] + \n",
    "                   2 * Bz_IGRF[lat, lon, lev] * Un_y_TIEGCM[lat, lon, lev] / bnorm[lat, lon, lev] - \n",
    "                   2 * Ui_x_TIEGCM[lat, lon, lev]) * (Bx_IGRF[lat, lon, lev] * Ui_y_TIEGCM[lat, lon, lev] - \n",
    "                                                      Bx_IGRF[lat, lon, lev] * (Bx_IGRF[lat, lon, lev] * \n",
    "                                                                                Un_z_TIEGCM[lat, lon, lev] / \n",
    "                                                                                bnorm[lat, lon, lev] - \n",
    "                                                                                Bz_IGRF[lat, lon, lev] * \n",
    "                                                                                Un_x_TIEGCM[lat, lon, lev] / \n",
    "                                                                                bnorm[lat, lon, lev]) - \n",
    "                                                      By_IGRF[lat, lon, lev] * Ui_x_TIEGCM[lat, lon, lev] + \n",
    "                                                      By_IGRF[lat, lon, lev] * (-By_IGRF[lat, lon, lev] * \n",
    "                                                                                Un_z_TIEGCM[lat, lon, lev] / \n",
    "                                                                                bnorm[lat, lon, lev] + \n",
    "                                                                                Bz_IGRF[lat, lon, lev] * \n",
    "                                                                                Un_y_TIEGCM[lat, lon, lev] / \n",
    "                                                                                bnorm[lat, lon, lev]))) ** 2\n",
    "        # *********************************\n",
    "        eqOH11 = Pedersen_TIEGCM[lat, lon, lev] ** 2 * \\\n",
    "                 ((2 * Bx_IGRF[lat, lon, lev] * Un_x_TIEGCM[lat, lon, lev] / bnorm[lat, lon, lev] +\n",
    "                   2 * By_IGRF[lat, lon, lev] * Un_y_TIEGCM[lat, lon, lev] / bnorm[lat, lon, lev]) *\n",
    "                  (Bx_IGRF[lat, lon, lev] * Ui_y_TIEGCM[lat, lon, lev] - Bx_IGRF[lat, lon, lev] *\n",
    "                   (Bx_IGRF[lat, lon, lev] * Un_z_TIEGCM[lat, lon, lev] / bnorm[lat, lon, lev] -\n",
    "                    Bz_IGRF[lat, lon, lev] * Un_x_TIEGCM[lat, lon, lev] / bnorm[lat, lon, lev]) -\n",
    "                   By_IGRF[lat, lon, lev] * Ui_x_TIEGCM[lat, lon, lev] + By_IGRF[lat, lon, lev] *\n",
    "                   (-By_IGRF[lat, lon, lev] * Un_z_TIEGCM[lat, lon, lev] / bnorm[lat, lon, lev] +\n",
    "                    Bz_IGRF[lat, lon, lev] * Un_y_TIEGCM[lat, lon, lev] / bnorm[lat, lon, lev])) +\n",
    "                  (2 * Bx_IGRF[lat, lon, lev] * Un_z_TIEGCM[lat, lon, lev] / bnorm[lat, lon, lev] -\n",
    "                   4 * Bz_IGRF[lat, lon, lev] * Un_x_TIEGCM[lat, lon, lev] / bnorm[lat, lon, lev] -\n",
    "                   2 * Ui_y_TIEGCM[lat, lon, lev]) * (By_IGRF[lat, lon, lev] * Ui_z_TIEGCM[lat, lon, lev] -\n",
    "                                                      By_IGRF[lat, lon, lev] * (-Bx_IGRF[lat, lon, lev] *\n",
    "                                                                                Un_y_TIEGCM[lat, lon, lev] /\n",
    "                                                                                bnorm[lat, lon, lev] +\n",
    "                                                                                By_IGRF[lat, lon, lev] *\n",
    "                                                                                Un_x_TIEGCM[lat, lon, lev] /\n",
    "                                                                                bnorm[lat, lon, lev]) -\n",
    "                                                      Bz_IGRF[lat, lon, lev] * Ui_y_TIEGCM[lat, lon, lev] +\n",
    "                                                      Bz_IGRF[lat, lon, lev] * (Bx_IGRF[lat, lon, lev] *\n",
    "                                                                                Un_z_TIEGCM[lat, lon, lev] /\n",
    "                                                                                bnorm[lat, lon, lev] -\n",
    "                                                                                Bz_IGRF[lat, lon, lev] *\n",
    "                                                                                Un_x_TIEGCM[lat, lon, lev] /\n",
    "                                                                                bnorm[lat, lon, lev])) +\n",
    "                  (2 * By_IGRF[lat, lon, lev] * Un_z_TIEGCM[lat, lon, lev] / bnorm[lat, lon, lev] -\n",
    "                   4 * Bz_IGRF[lat, lon, lev] * Un_y_TIEGCM[lat, lon, lev] / bnorm[lat, lon, lev] +\n",
    "                   2 * Ui_x_TIEGCM[lat, lon, lev]) * (-Bx_IGRF[lat, lon, lev] * Ui_z_TIEGCM[lat, lon, lev] +\n",
    "                                                      Bx_IGRF[lat, lon, lev] * (-Bx_IGRF[lat, lon, lev] *\n",
    "                                                                                Un_y_TIEGCM[lat, lon, lev] /\n",
    "                                                                                bnorm[lat, lon, lev] +\n",
    "                                                                                By_IGRF[lat, lon, lev] *\n",
    "                                                                                Un_x_TIEGCM[lat, lon, lev] /\n",
    "                                                                                bnorm[lat, lon, lev]) +\n",
    "                                                      Bz_IGRF[lat, lon, lev] * Ui_x_TIEGCM[lat, lon, lev] -\n",
    "                                                      Bz_IGRF[lat, lon, lev] * (-By_IGRF[lat, lon, lev] *\n",
    "                                                                                Un_z_TIEGCM[lat, lon, lev] /\n",
    "                                                                                bnorm[lat, lon, lev] +\n",
    "                                                                                Bz_IGRF[lat, lon, lev] *\n",
    "                                                                                Un_y_TIEGCM[lat, lon, lev] /\n",
    "                                                                                bnorm[lat, lon, lev]))) ** 2\n",
    "        # *********************************\n",
    "        eqOH1 = eqOH2 * Peder_error_act ** 2 + eqOH3 * Uix_error_act ** 2 + eqOH4 * Uiy_error_act ** 2 + \\\n",
    "                eqOH5 * Uiz_error_act ** 2 + eqOH6 * Unx_error_act ** 2 + eqOH7 * Uny_error_act ** 2 + \\\n",
    "                eqOH8 * Unz_error_act ** 2 + eqOH9 * Bx_error_act ** 2 + eqOH10 * By_error_act ** 2 + \\\n",
    "                eqOH11 * Bz_error_act ** 2\n",
    "        # *********************************\n",
    "        OH_error = sy.sqrt(eqOH1)\n",
    "        OH_error_per[lat, lon, lev] = (OH_error / Ohmin_Heating[lat, lon, lev]) * 100\n",
    "        OH_error_max[lat, lon, lev] = OH_error + Ohmin_Heating[lat, lon, lev]\n",
    "        OH_error_min[lat, lon, lev] = Ohmin_Heating[lat, lon, lev] - OH_error \n",
    "   \n",
    "    plotting_OHM_error()\n",
    "\n",
    "def run(tiegcm_file, lat_value, lon_value, timer_value):\n",
    "    model_data_file = tiegcm_file     # Data file insertion\n",
    "    TIEGCM = Dataset(model_data_file)\n",
    "    \n",
    "    glat = TIEGCM.variables['lat'][:]\n",
    "    glon = TIEGCM.variables['lon'][:]\n",
    "    global glev\n",
    "    glev= TIEGCM.variables['ilev'][:]\n",
    "    gtime = TIEGCM.variables['time'][:]\n",
    "    zg = TIEGCM.variables['ZG'][:]\n",
    "    p = TIEGCM.variables['PEDERSEN'][:]\n",
    "    barm_all = TIEGCM.variables['BARM'][:]  # Mean molecular weight in g/mol\n",
    "    date_all = TIEGCM.variables[\"mtime\"][:]\n",
    "    year = TIEGCM.variables[\"year\"][0]\n",
    "    # NOt = TIEGCM.variables['NO'][:]\n",
    "\n",
    "    Net = TIEGCM.variables['NE'][:]  # electron density in cm^-3\n",
    "    Ot = TIEGCM.variables['O1'][:]   # neutral atomic oxygen density in mmr\n",
    "    O2t = TIEGCM.variables['O2'][:]  # neutral molecular oxygen density in mmr\n",
    "    Opt = TIEGCM.variables['OP'][:]  # O+ density in cm^-3\n",
    "    Tet = TIEGCM.variables['TE'][:]\n",
    "    Tit = TIEGCM.variables['TI'][:]\n",
    "    Tnt = TIEGCM.variables['TN'][:]\n",
    "    P0 = TIEGCM.variables['p0'][:]  # Reference pressure in millibar\n",
    "\n",
    "    Un_east = TIEGCM.variables['UN'][:]       # neutral zonal wind (+East) in cm/s\n",
    "    Un_north = TIEGCM.variables['VN'][:]      # neutral meridional wind (+North) in cm/s\n",
    "    Un_up = TIEGCM.variables['WN'][:]         # neutral vertical wind (+Up) in cm/s\n",
    "    Ui_east = TIEGCM.variables['UI_ExB'][:]   # zonal ExB velocity in cm/s\n",
    "    Ui_north = TIEGCM.variables['VI_ExB'][:]  # meridional ExB velocity in cm/s\n",
    "    Ui_up = TIEGCM.variables['WI_ExB'][:]     # vertical ExB velocity in cm/s\n",
    "    TIEGCM.close()\n",
    "    \n",
    "    # not real lat nor lon but indexes for lat/lon tables\n",
    "    global lat \n",
    "    lat = lat_value  # integer for geog lat in TIEGCM\n",
    "    global lon \n",
    "    lon = lon_value  # integer for geog lon in TIEGCM\n",
    "    \n",
    "    global timer\n",
    "    timer = timer_value # index that  corresponds to a value that expesses minutes passed since file's initial time\n",
    "\n",
    "    \n",
    "    for lev in range(0, len(glev) - 1):\n",
    "        # Pressure level\n",
    "        Z = glev[lev]\n",
    "        # mean molecular mass g/mol\n",
    "        barm = barm_all[timer, lev, lat, lon]\n",
    "        # Conversion factor (mmr->cm^(-3))\n",
    "        Nbarm = (P0 * np.exp(-Z) * barm * 1000) / (boltzmann * Tnt[timer, lev, lat, lon])\n",
    "        ALT = zg[timer, lev, lat, lon] / 1e5  # alt in km\n",
    "        # print(ALT)\n",
    "        heights[lat, lon, lev] = ALT  # in km\n",
    "        geog_lats[lat, lon, lev] = glat[lat]\n",
    "        geog_lons[lat, lon, lev] = glon[lon]\n",
    "        geod_lats[lat, lon, lev] = geog_lat2geod_lat(geog_lats[lat, lon, lev])\n",
    "        geod_lons[lat, lon, lev] = geog_lons[lat, lon, lev]\n",
    "        # print(geog_lats[lev],geog_lons[lev])\n",
    "        peder_TIEGCM[lat, lon, lev] = p[timer, lev, lat, lon]\n",
    "        # @@@@@@@@@@@@@@@@@@@@@@@@@@@@@@@@@@@@@ DATE/TIME EXPORT @@@@@@@@@@@@@@@@@@@@@@@@@@@@@@@@@@@@\n",
    "        hour = date_all[timer, 1]\n",
    "        minutes = date_all[timer, 2]\n",
    "\n",
    "        DD = datetime.datetime.strptime(str(year) + ' ' + str(date_all[0, 0]), '%Y %j')\n",
    "\n",
    "        month = DD.month\n",
    "        day = DD.day\n",
    "\n",
    "        time_igrf = datetime.datetime(year, month, day, hour, minutes)\n",
    "        # @@@@@@@@@@@@@@@@@@@@@@@@@@@@@@@@@@@@@@@@@@@@@@@@@@@@@@@@@@@@@@@@@@@@@@@@@@@@@@@@@@@@@@@@@@@@@@@\n",
    "\n",
    "        Te_TIEGCM[lat, lon, lev] = Tet[timer, lev, lat, lon]  # K\n",
    "        Ti_TIEGCM[lat, lon, lev] = Tit[timer, lev, lat, lon]  # K\n",
    "        Tn_TIEGCM[lat, lon, lev] = Tnt[timer, lev, lat, lon]  # K\n",
    "        O_TIEGCM[lat, lon, lev] = (Nbarm * Ot[timer, lev, lat, lon]) / mO     # in cm^-3\n",
    "        O2_TIEGCM[lat, lon, lev] = (Nbarm * O2t[timer, lev, lat, lon]) / mO2  # in cm^-3\n",
    "        N2_TIEGCM[lat, lon, lev] = Nbarm * (1 - O2t[timer, lev, lat, lon] - Ot[timer, lev, lat, lon]) / mN2  # in cm^-3\n",
    "        Op_TIEGCM[lat, lon, lev] = Opt[timer, lev, lat, lon]  # O+ in cm^-3\n",
    "        Ne_TIEGCM[lat, lon, lev] = Net[timer, lev, lat, lon]  # electron density in cm^-3\n",
    "        O2p_TIEGCM[lat, lon, lev] = Ne_TIEGCM[lat, lon, lev] - Op_TIEGCM[lat, lon, lev]  # assuming there is only O2+ and not NO+\n",
    "\n",
    "        # neutral wind from ENU to ECEF\n",
    "        Un_x_temp, Un_y_temp, Un_z_temp = enu_ecef(geog_lats[lat, lon, lev], geog_lons[lat, lon, lev],\n",
    "                                                   Un_east[timer, lev, lat, lon],\n",
    "                                                   Un_north[timer, lev, lat, lon],\n",
    "                                                   Un_up[timer, lev, lat, lon])  # cm/s on ECEF\n",
    "\n",
    "        Un_x_TIEGCM[lat, lon, lev] = Un_x_temp / 100  # m/s\n",
    "        Un_y_TIEGCM[lat, lon, lev] = Un_y_temp / 100  # m/s\n",
    "        Un_z_TIEGCM[lat, lon, lev] = Un_z_temp / 100  # m/s\n",
    "\n",
    "        # ExB velocity from ENU to ECEF\n",
    "        Ui_x_temp, Ui_y_temp, Ui_z_temp = enu_ecef(geog_lats[lat, lon, lev], geog_lons[lat, lon, lev],\n",
    "                                                   Ui_east[timer, lev, lat, lon],\n",
    "                                                   Ui_north[timer, lev, lat, lon],\n",
    "                                                   Ui_up[timer, lev, lat, lon])  # cm/s on ECEF\n",
    "        \n",
    "        Ui_x_TIEGCM[lat, lon, lev] = Ui_x_temp / 100  # m/sec\n",
    "        Ui_y_TIEGCM[lat, lon, lev] = Ui_y_temp / 100  # m/sec\n",
    "        Ui_z_TIEGCM[lat, lon, lev] = Ui_z_temp / 100  # m/sec\n",
    "\n",
    "        # Ui_vector_TIEGCM[lat, lon, lev] = [Ui_x_TIEGCM[lat, lon, lev], Ui_y_TIEGCM[lat, lon, lev], Ui_z_TIEGCM[lat, lon, lev]]  # ExB in ECEF in m/s\n",
    "\n",
    "        # IGRF\n",
    "#         pt = pyglow.Point(time_igrf, float(geod_lats[lat, lon, lev]), float(geod_lons[lat, lon, lev]),\n",
    "#                           float(heights[lat, lon, lev]),\n",
    "#                           user_ind=False)\n",
    "        pt = pyglow.Point(time_igrf, float(geod_lats[lat, lon, lev]), float(geod_lons[lat, lon, lev]),\n",
    "                          float(heights[lat, lon, lev]),\n",
    "                          user_ind=False)\n",
    "        pt.run_igrf()\n",
    "        if (heights[lat, lon, lev] <= max_IGRF_alt) & (heights[lat, lon, lev] >= min_IGRF_alt):\n",
    "            B_IGRF[lat, lon, lev] = pt.B    # tesla\n",
    "            Be_IGRF[lat, lon, lev] = pt.Bx  # tesla\n",
    "            Bn_IGRF[lat, lon, lev] = pt.By  # tesla\n",
    "            Bu_IGRF[lat, lon, lev] = pt.Bz  # tesla\n",
    "            \n",
    "            Bx_temp, By_temp, Bz_temp = enu_ecef(geog_lats[lat, lon, lev], geog_lons[lat, lon, lev], Be_IGRF[lat, lon, lev],\n",
    "                                                 Bn_IGRF[lat, lon, lev], Bu_IGRF[lat, lon, lev])\n",
    "            Bx_IGRF[lat, lon, lev] = Bx_temp  # tesla\n",
    "            By_IGRF[lat, lon, lev] = By_temp  # tesla\n",
    "            Bz_IGRF[lat, lon, lev] = Bz_temp  # tesla\n",
    "            \n",
    "            global B_vector_IGRF \n",
    "            B_vector_IGRF = [Bx_temp, By_temp, Bz_temp]  # tesla\n",
    "\n",
    "\n",
    "\n",
    "\n",
    "        else:\n",
    "            B_IGRF[lat, lon, lev] = None\n",
    "            Be_IGRF[lat, lon, lev] = None\n",
    "            Bn_IGRF[lat, lon, lev] = None\n",
    "            Bu_IGRF[lat, lon, lev] = None\n",
    "            Bx_IGRF[lat, lon, lev] = None  # tesla\n",
    "            By_IGRF[lat, lon, lev] = None  # tesla\n",
    "            Bz_IGRF[lat, lon, lev] = None  # tesla\n",
    "    \n",
    "    co_date_time_title.append(',Lat: ' + str(glat[lat]) + ', ' + 'Lon: ' + str(glon[lon]) + ', ' + str(time_igrf))\n",
    "     \n",
    "    conductivities_TIEMGCM_calc() #call function to calculate conductivities\n",
    "    plotting_Conductivities()#call function to plot conductivities\n",
    "    plotting_Collis_freq()#call function to plot Collision Frequencies\n",
    "    plotting_Ohmic()#call function to plot Ohmic Heating\n",
    "    \n",
    "\n",
    "\n",
    "warnings.simplefilter('ignore')\n",
    "\n",
    "#window creation            \n",
    "style = {'description_width': '150px'}\n",
    "layout1stcolumn = {'width': '300px'}\n",
    "layout2ndcolumn= {'width': '250px'}\n",
    "layout3rdcolumn= {'width': '100px'}\n",
    "button_layout={'width': '150px'}\n",
    "style1 = {'description_width':'150px'}\n",
    "layout1 = {'width':'850px'}\n",
    "style2 = {'description_width':'95px'}\n",
    "layout2 = {'width':'160px'}\n",
    "layout3 = {'width':'350px'}\n",
    "style3 = {'description_width':'60px'}\n",
    "layout4 = {'width':'215px'}\n",
    "\n",
    "\n",
    "tiegcm_file=widgets.Dropdown(options=sorted(glob.glob(DaedalusGlobals.TIEGCM_Files_Path +\"TIEGCM_EVT1_2015_StPatricksDay_HAO/tiegcm_dres.s_mar2015_amie_v1_*.nc\")), description='TIE-GCM files: ', style=style1, layout=layout1)\n",
    "\n",
    "lat_value=widgets.Dropdown(\n",
    "                        options=[('-88.75', 0), ('-86.25', 1), ('-83.75', 2),('-81.25', 3), ('-78.75', 4),('-76.25', 5), ('-73.75', 6),('-71.25', 7),\n",
    "                        ('-68.75', 8), ('-66.25', 9), ('-63.75', 10),('-61.25', 11), ('-58.75', 12),('-56.25', 13), ('-53.75', 14),('-51.25', 15),\n",
    "                        ('-48.75', 16), ('-46.25', 17), ('-43.75', 18),('-41.25', 19), ('-38.75', 20),('-36.25', 21), ('-33.75', 22),('-31.25', 23),\n",
    "                        ('-28.75', 24), ('-26.25', 25), ('-23.75', 26),('-21.25', 27), ('-18.75', 28),('-16.25', 29), ('-13.75', 30),('-11.25', 31),\n",
    "                        ('-8.75', 32), ('-6.25', 33), ('-3.75', 34),('-1.25', 35), ('1.25', 36),('3.75', 37), ('6.25', 38),('8.75', 39),\n",
    "                        ('11.25', 40), ('13.75', 41), ('16.25', 42),('18.75', 43), ('21.25', 44),('23.75', 45), ('26.25', 46),('28.75', 47),\n",
    "                        ('31.25', 48),('33.75', 49), ('36.25', 50),('38.75', 51), ('41.25', 52),('43.75', 53),\n",
    "                        ('46.25', 54),('48.75', 55), ('51.25', 56),('53.75', 57), ('56.25', 58),('58.75', 59),\n",
    "                        ('61.25', 60),('63.75', 61), ('66.25', 62),('68.75', 63), ('71.25', 64),('73.75', 65),\n",
    "                        ('76.25', 66),('78.75', 67), ('81.25', 68),('83.75', 69), ('84.25', 70),('87.75', 71)],\n",
    "                        value=2,\n",
    "                        description='Latitude (deg):',\n",
    "                        layout=layout1stcolumn, \n",
    "                        style=style\n",
    "                        )\n",
    "lon_value=widgets.Dropdown(\n",
    "                        options=[('-180.0', 0), \n",
    "                                 ('-177.5', 1), ('-175.0', 2),('-172.5', 3), ('-170.0', 4),('-167.5', 5), ('-165.0', 6),('-162.5', 7), ('-160.0', 8), \n",
    "                                 ('-157.5', 9), ('-155.0', 10),('-152.5', 11), ('-150.0', 12),('-147.5', 13),('-145.0', 14),('-142.5', 15),('-140.0', 16), \n",
    "                                 ('-137.5', 17), ('-135.0', 18),('-132.5', 19), ('-130.0', 20),('-127.5', 21), ('-125.0', 22),('-122.5', 23),('-120.0', 24), \n",
    "                                 ('-117.5', 25), ('-115.0', 26),('-112.5', 27), ('-110.0', 28),('-107.5', 29), ('-105.0', 30),('-102.5', 31),('-100.0', 32), \n",
    "                                 ('-97.5', 33), ('-95.0', 34),('-92.5', 35),('-90.0', 36),('-87.5', 37),('-85.0', 38),('-82.5', 39),('-80.0', 40), \n",
    "                                 ('-77.5', 41), ('-75.0', 42),('-72.5', 43),('-70.0', 44),('-67.5', 45),('-65.0', 46),('-62.5', 47),('-60.0', 48),\n",
    "                                 ('-57.5', 49), ('-55.0', 50),('-52.5', 51),('-50.0', 52),('-47.5', 53),('-45.0', 54),('-42.5', 55),('-40.0', 56),\n",
    "                                 ('-37.5', 57), ('-35.0', 58),('-32.5', 59),('-30.0', 60),('-27.5', 61),('-25.0', 62),('-22.5', 63),('-20.0', 64),\n",
    "                                 ('-17.5', 65), ('-15.0', 66),('-12.5', 67),('-10.0', 68),('-7.5', 69), ('-5.0', 70),('-2.5', 71),('0.0', 72),\n",
    "                                 ('2.5', 73), ('5.0', 74),('7.5', 75),('10.0', 76),('12.5', 77), ('15.0', 78),('17.5', 79),('20.0', 80),('22.5', 81),\n",
    "                                 ('25.0', 82), ('27.5', 83),('30.0', 84),('32.5', 85),('35.0', 86), ('37.5', 87),('40.0', 88),('42.5', 89),('45.0', 90),\n",
    "                                 ('47.5', 91),('50.0', 92),('52.5', 93),('55.0', 94), ('57.5', 95),('60.0', 96),('62.5', 97),('65.0', 98),\n",
    "                                 ('67.5', 99),('70.0', 100),('72.5', 101),('75.0', 102), ('77.5', 103),('80.0', 104),('82.5', 105),('85.0', 106),\n",
    "                                 ('87.5', 107),('90.0', 108),('92.5', 109),('95.0', 110), ('97.5', 111),('100.0', 112),('102.5', 113),('105.0', 114),\n",
    "                                 ('107.5', 115),('110.0', 116),('112.5', 117),('115.0', 118), ('117.5', 119),('120.0', 120),\n",
    "                                 ('122.5', 121),('125.0', 122),('127.5', 123),('130.0', 124), ('132.5', 125),('135.0', 126),\n",
    "                                 ('137.5', 127),('140.0', 128),('142.5', 129),('145.0', 130), ('147.5', 131),('150.0', 132),\n",
    "                                 ('152.5', 133),('155.0', 134),('157.5', 135),('160.0', 136), ('162.5', 137),('165.0', 138),\n",
    "                                 ('167.5', 139),('170.0', 140),('172.5', 141),('175.0', 142), ('177.5', 143),\n",
    "                                ],\n",
    "                        value=2,\n",
    "                        description='Longitude (deg):',\n",
    "                        layout=layout1stcolumn, \n",
    "                        style=style\n",
    "                        )\n",
    "\n",
    "timer_value= widgets.Dropdown( value=0, options=range(0,24),  description='TimeStep:', style=style, layout=layout1stcolumn)\n",
    "\n",
    "#B_error widget\n",
    "B_error=widgets.BoundedFloatText(\n",
    "    value=5,\n",
    "    min=0,\n",
    "    max=100,\n",
    "    step=0.01,\n",
    "    description='Error Of ($B$) %:',\n",
    "    description_tooltip='Insert the % percentage of Magnetic Field',\n",
    "    disabled=False,\n",
    "    layout=layout1stcolumn,\n",
    "    style=style,   \n",
    ")\n",
    "\n",
    "#Ti_error widget\n",
    "Ti_error=widgets.BoundedFloatText(\n",
    "    value=5,\n",
    "    min=0,\n",
    "    max=100,\n",
    "    step=0.01,\n",
    "    description='Error Of ($T_i$) %:',\n",
    "    description_tooltip='Insert the % percentage of Ion Temperature ($T_i$)',\n",
    "    disabled=False,\n",
    "    layout=layout1stcolumn,\n",
    "    style=style,   \n",
    ")\n",
    "\n",
    "#Te_error widget\n",
    "Te_error=widgets.BoundedFloatText(\n",
    "    value=5,\n",
    "    min=0,\n",
    "    max=100,\n",
    "    step=0.01,\n",
    "    description='Error Of ($T_e$) %:',\n",
    "    description_tooltip='Insert the % percentage of Electron Temperature ($T_e$)',\n",
    "    disabled=False,\n",
    "    layout=layout1stcolumn,\n",
    "    style=style,   \n",
    ")\n",
    "\n",
    "#Tn_error widget\n",
    "Tn_error=widgets.BoundedFloatText(\n",
    "    value=5,\n",
    "    min=0,\n",
    "    max=100,\n",
    "    step=0.01,\n",
    "    description='Error Of ($T_n$) %:',\n",
    "    description_tooltip='Insert the % percentage of Neutral Temperature ($T_n$)',\n",
    "    disabled=False,\n",
    "    layout=layout1stcolumn,\n",
    "    style=style,   \n",
    ")\n",
    "\n",
    "#Ne_error widget\n",
    "Ne_error=widgets.BoundedFloatText(\n",
    "    value=5,\n",
    "    min=0,\n",
    "    max=100,\n",
    "    step=0.01,\n",
    "    description='Error Of Density ($N_e$) %:',\n",
    "    description_tooltip='Insert the % percentage of Electron Density ($N_e$)',\n",
    "    disabled=False,\n",
    "    layout=layout1stcolumn,\n",
    "    style=style,   \n",
    ")\n",
    "\n",
    "#O_error widget\n",
    "O_error=widgets.BoundedFloatText(\n",
    "    value=5,\n",
    "    min=0,\n",
    "    max=100,\n",
    "    step=0.01,\n",
    "    description='Error Of Density ($O$) %:',\n",
    "    description_tooltip='Insert the % percentage of Atomic Oxygen Density ($O$)',\n",
    "    disabled=False,\n",
    "    layout=layout1stcolumn,\n",
    "    style=style,   \n",
    ")\n",
    "\n",
    "#O2_error widget\n",
    "O2_error=widgets.BoundedFloatText(\n",
    "    value=5,\n",
    "    min=0,\n",
    "    max=100,\n",
    "    step=0.01,\n",
    "    description='Error Of Density ($O_2$) %:',\n",
    "    description_tooltip='Insert the % percentage of Molecule Oxygen Density ($O_2$)',\n",
    "    disabled=False,\n",
    "    layout=layout1stcolumn,\n",
    "    style=style,   \n",
    ")\n",
    "\n",
    "#N2_error widget\n",
    "N2_error=widgets.BoundedFloatText(\n",
    "    value=5,\n",
    "    min=0,\n",
    "    max=100,\n",
    "    step=0.01,\n",
    "    description='Error Of Density ($N_2$) %:',\n",
    "    description_tooltip='Insert the % percentage of Nitrogen Density ($N_2$)',\n",
    "    disabled=False,\n",
    "    layout=layout1stcolumn,\n",
    "    style=style,   \n",
    ")\n",
    "                       \n",
    "\n",
    "#O2p_error widget\n",
    "O2p_error=widgets.BoundedFloatText(\n",
    "    value=5,\n",
    "    min=0,\n",
    "    max=100,\n",
    "    step=0.01,\n",
    "    description='Error Of Density ($O^{+}_{2}$) %:',\n",
    "    description_tooltip='Insert the % percentage of Density ($O^{+}_{2}$)',\n",
    "    disabled=False,\n",
    "    layout=layout1stcolumn,\n",
    "    style=style,   \n",
    ") \n",
    "\n",
    "#Op_error widget\n",
    "Op_error=widgets.BoundedFloatText(\n",
    "    value=5,\n",
    "    min=0,\n",
    "    max=100,\n",
    "    step=0.01,\n",
    "    description='Error Of Density ($O^{+}$) %:',\n",
    "    description_tooltip='Insert the % percentage of Density ($O^{+}$)',\n",
    "    disabled=False,\n",
    "    layout=layout1stcolumn,\n",
    "    style=style,   \n",
    ") \n",
    "\n",
    "#Ui_error widget\n",
    "Ui_error=widgets.BoundedFloatText(\n",
    "    value=5,\n",
    "    min=0,\n",
    "    max=100,\n",
    "    step=0.01,\n",
    "    description='Error of ($Ui$) %:',\n",
    "    description_tooltip='Insert the % percentage of ($Ui$)',\n",
    "    disabled=False,\n",
    "    layout=layout1stcolumn,\n",
    "    style=style,\n",
    ")\n",
    "\n",
    "#Un_error widget\n",
    "Un_error=widgets.BoundedFloatText(\n",
    "    value=5,\n",
    "    min=0,\n",
    "    max=100,\n",
    "    step=0.01,\n",
    "    description='Error of ($Un$) %:',\n",
    "    description_tooltip='Insert the % percentage of ($Un$)',\n",
    "    disabled=False,\n",
    "    layout=layout1stcolumn,\n",
    "    style=style,\n",
    ")\n",
    "\n",
    "run_error_button=widgets.Button(\n",
    "    value=False,\n",
    "    description='Error Calculation',\n",
    "    disabled=False,\n",
    "    button_style='success', # 'success', 'info', 'warning', 'danger' or ''\n",
    "    tooltip='Press to start Error Propagation Calculations, First you must hit \"Calculate Products Button\"',\n",
    "    icon='check',\n",
    "    layout=button_layout,\n",
    "    style=style,\n",
    "    \n",
    ")\n",
    "\n",
    "def Error_Btn_Clicked( b ):\n",
    "    print( \"Error Calculation started...\" )\n",
    "    error_Cond_calculation(B_error=B_error.value,Ti_error=Ti_error.value,Te_error=Te_error.value,Tn_error=Tn_error.value,\n",
    "                           Ne_error=Ne_error.value,O_error=O_error.value,O2_error=O2_error.value,N2_error=N2_error.value,\n",
    "                           Op_error=Op_error.value,O2p_error=O2p_error.value)\n",
    "    \n",
    "    error_OH_calculation(Ui_error=Ui_error.value, Un_error=Un_error.value,\n",
    "                         B_error=B_error.value)\n",
    "\n",
    "def Exec_Btn_Clicked( b ):\n",
    "    print( \"Calculation started...\" )\n",
    "    run(tiegcm_file.value, lat_value.value, lon_value.value, timer_value.value)\n",
    "\n",
    "\n",
    "def createGUI():\n",
    "    ## the top level visual elements\n",
    "    MainPanel = widgets.VBox()    \n",
    "    MainTab = widgets.Tab() \n",
    "    VerticalPanel = widgets.VBox()\n",
    "    PlotVerticalPanel = widgets.VBox()\n",
    "    PlotVerticalPanel.children = [lat_value,lon_value,timer_value]\n",
    "    PlotErrorPanel1 = widgets.VBox()\n",
    "    PlotErrorPanel1.children=[O_error,O2_error,N2_error,Op_error,O2p_error]\n",
    "    PlotErrorPanel2 = widgets.VBox()\n",
    "    PlotErrorPanel2.children=[B_error,Ti_error,Te_error,Tn_error,Ne_error]\n",
    "    PlotErrorPanel3= widgets.VBox()\n",
    "    PlotErrorPanel3.children=[Ui_error, Un_error]\n",
    "    Btn_panel= widgets.VBox()\n",
    "    ##\n",
    "    MainTab.children = [VerticalPanel]\n",
    "    MainTab.set_title(0, 'Vertical Profiles') \n",
    "    MainPanel.children = [MainTab ]\n",
    "    ## \n",
    "    Exec_Btn = widgets.Button (description='Calculate Products',tooltip=\"Click here to calculate Daedalus products\",)\n",
    "    Exec_Btn.style.button_color = 'MediumTurquoise'\n",
    "    Exec_Btn.on_click( Exec_Btn_Clicked )\n",
    "    run_error_button.on_click(Error_Btn_Clicked)\n",
    "    Btn_panel.children=[Exec_Btn,run_error_button]\n",
    "    VerticalPanel.children = [tiegcm_file, PlotVerticalPanel,PlotErrorPanel1,PlotErrorPanel2, PlotErrorPanel3, Btn_panel]\n",
    "    \n",
    "    return MainPanel\n",
    "\n",
    "display( createGUI() )"
   ]
  },
  {
   "cell_type": "code",
   "execution_count": null,
   "metadata": {},
   "outputs": [],
   "source": []
  }
 ],
 "metadata": {
  "kernelspec": {
   "display_name": "Python 3",
   "language": "python",
   "name": "python3"
  },
  "language_info": {
   "codemirror_mode": {
    "name": "ipython",
    "version": 3
   },
   "file_extension": ".py",
   "mimetype": "text/x-python",
   "name": "python",
   "nbconvert_exporter": "python",
   "pygments_lexer": "ipython3",
   "version": "3.6.7"
  }
 },
 "nbformat": 4,
 "nbformat_minor": 2
}
