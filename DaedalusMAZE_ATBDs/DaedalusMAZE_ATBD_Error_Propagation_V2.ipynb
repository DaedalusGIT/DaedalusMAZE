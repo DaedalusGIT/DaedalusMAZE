{
 "cells": [
  {
   "cell_type": "markdown",
   "metadata": {},
   "source": [
    "# Daedalus Conductivity Estimations Based on TIEGCM\n",
    "\n",
    "### Table of Contents\n",
    "* [1. Theoretical Description](#Theoretical-Description)\n",
    "    * [1.1 Introduction](#Introduction)\n",
    "    * [1.2 Conductivity estimation methodology](#Conductivity-estimation-methodology)\n",
    "    * [1.3 Heating Rates estimation methodology](#Modeling-of-HeatingRates-estimates)\n",
    "    * [1.4 Cross Section estimation methodology](#Modeling-of-CrossSection-estimates)\n",
    "    * [1.5 Perpendicular currents estimation methodology](#Perpendicular-currents)\n",
    "    * [1.6 Field Aligned Currents estimation methodology](#FAC's)\n",
    "    * [1.7 Modeling of Conductivity estimates](#Modeling-of-CrossSection-estimates)\n",
    "* [2. Error Analysis for Conductivity estimates](#Error-Analysis_Code)\n",
    "    * [2.1 Pederden Conductivity Error Analysis](#Pedersen-Error-Analysis)\n",
    "    * [2.2 Hall Conductivity Error Analysis](#Hall-Error-Analysis)\n",
    "    * [2.3 Parallel Conductivity Error Analysis](#Parallel-Error-Analysis)\n",
    "* [3. Error Analysis for Heating Rates estimates](#Error-Analysis_Code)\n",
    "    * [3.1 Error Analysis for Ohmic Heating Rate](#OHR-Error-Analysis)\n",
    "    * [3.2 Error Analysis for Joule Heating Rate](#JHR-Error-Analysis)\n",
    "    * [3.3 Error Analysis for Frictional Heating Rate](#FHR-Error-Analysis)\n",
    "* [4. Error Analysis for Cross Section estimates](#CS-Error-Analysis)\n",
    "* [5. Error Analysis for Perpendicular Currents](#PC-Error_Analysis)\n",
    "    * [5.1 Error Analysis for Pedersen Current](#PEDC-Error-Analysis)\n",
    "    * [5.2 Error Analysis for Hall Current](HALC-Error-Analysis)\n",
    "* [6. Code and Plots](#Code-and-Plots)\n",
    "* [References](#References)\n",
    "    \n",
    "\n",
    "\n",
    "### Theoretical Description\n",
    "<a class=\"anchor\" id=\"Theoretical-Description\"></a>\n",
    "\n",
    "#### 1.1 Introduction\n",
    "<a class=\"anchor\" id=\"Introduction\"></a>\n",
    "<p style='text-align: justify;'>\n",
    "Pedersen conductivity ($σ_P$) is required in Joule heating calculations, but is also extremely important in ionospheric and magnetospheric modelling. Pedersen conductivity cannot be obtained by direct measurement, as it depends on a large number of terms, such as composition of different ion species (in number densities $N_i$) and the various collision rates between ion species and neutral species. These, in turn, depend on the ion and electron temperatures ($T_i$ and $T_n$), the neutral densities of the neutral species ($N_n$), and the ion species. The collision rate will depend on the species’ density, thus neutral composition needs to be measured independently through mass spectrometry.\n",
    "\n",
    "#### 1.2 Conductivity estimation methodology\n",
    "<a class=\"anchor\" id=\"Conductivity-estimation-methodology\"></a>\n",
    "$  \\sigma_{P} = \\frac{q_{e}}{B} \\left(N_e 10^6 \\frac{r_{e}}{r_{e}^{2} + 1} + N_{O^+} 10^6 \\frac{ r_{O^+}}{r_{O^+}^{2} + 1} + N_{O_2^+} 10^6 \\frac{ r_{O_2^+}}{r_{O_2^+}^{2} + 1}\\right) \\label{eq:Pedersen}\\tag{1.1}$\n",
    "\n",
    "\n",
    "$ \\sigma_{H}=\\frac{q_{e}}{B} \\left(N_e 10^6 \\frac{1}{r_{e}^{2} + 1} -N_{O_2^+} 10^6 \\frac{1}{r_{O_2^+}^{2} + 1} - N_{O^+} 10^6 \\frac{1}{r_{O^+}^{2} + 1}\\right)\\label{eq:Hall} \\tag{1.2}$\n",
    "\n",
    "$ \\sigma_{\\parallel}=N_e 10^6 \\frac{ q_{e}^{2}}{\\nu_{en} m_{e}}\\label{eq:Parallel} \\tag{1.3}$ \n",
    "\n",
    "<p style='text-align: justify;'>\n",
    "Where $$r_{j}=\\frac{\\nu_{j}}{\\Omega_{j}}\\label{eq:ratio} \\tag{1.4}$$ \n",
    "represents the various ratios of each species' collision rate versus gyrofrequency, and these are known quantities\n",
    "\n",
    "and $$\\Omega_{j}=\\frac{eB}{m_j}\\label{eq:Omega} \\tag{1.5}$$ is the gyrofrequency with the subscript $j$ denoting electrons ($j=e$) or ions ($j=i$), $e$ is the elementary electric charge ($1.602176634 \\times 10^{-19} C $) and $N_{j}$ denotes the electron ($j=e$) or ion ($j=i$) density (in $cm^{-3}$),and $\\nu$ is the collision frequency.\n",
    "</p>\n",
    "\n",
    "<p style='text-align: justify;'>\n",
    "The collision rates depend on a number of terms, such as: on the density and composition of the ion and neutral species, which need to be measured independently through mass spectrometry; on the ion and electron temperatures; and on the values for collision cross sections. The latter are calculated primarily through laboratory experiments of ion-neutral collisions. However, these may have systematic uncertainties in the upper atmosphere, and their accuracy has never been evaluated in-situ. These measurements, through the comparison of the two methodologies described above, will also allow a new estimate of collisional cross sections, which are needed and widely used in simulations, analysis of radar data etc. An overview of the various parameters used in conductivity calculations is given in the following tables:\n",
    "</p>\n",
    "\n",
    "Table D1.3: Overview of the parameters used in conductivity calculations.\n",
    "\n",
    "\n",
    "$ \\nu_{O_2^+-n}=\\nu_{O_2^+-O_2}+\\nu_{O_2^+-O}+\\nu_{O_2^+-N_2}\\label{eq:VO2p} \\tag{1.6}$\n",
    "\n",
    "$$\\nu_{O_2^+-O}=2.31 \\cdot 10^{-10} N_{O} \\label{eq:VO2p_Ο} \\tag{1.7}$$\n",
    "$$\\nu_{O_2^+-O_2}=2.59 \\cdot 10^{-11} N_{O_2} \\sqrt{\\frac{T_{i}}{2} + \\frac{T_{n}}{2}} \\left(- 0.073 \\log_{10}{\\left(\\frac{T_{i}}{2} + \\frac{T_{n}}{2} \\right)} + 1\\right)^{2}\\label{eq:VO2p_Ο2} \\tag{1.8}$$\n",
    "$$\\nu_{O_2^+-N_2}=4.31 \\cdot 10^{-10} N_{N_2}             \\label{eq:VO2p_Ν2} \\tag{1.9}$$\n",
    "\n",
    "$$\\nu_{O^+-n }=v_{O^+-O_2}+v_{O^+-O}+v_{O^+-N_2}\\label{eq:VOp} \\tag{1.10}$$\n",
    "\n",
    "$$\\nu_{O^+-O}=3.67 \\cdot 10^{-11} N_{O}  \\sqrt{\\frac{T_{i}}{2} + \\frac{T_{n}}{2}} \\left(- 0.064 \\log_{10}{\\left(\\frac{T_{i}}{2} + \\frac{T_{n}}{2} \\right)} + 1\\right)^{2} fb             \\label{eq:VOp_Ο} \\tag{1.11}$$\n",
    "\n",
    "$$\\nu_{O^+-O_2}=6.64 \\cdot 10^{-10} N_{O2}\\label{eq:VOp_Ο2} \\tag{1.12}$$\n",
    "\n",
    "$$\\nu_{O^+-N_2}=6.82 \\cdot 10^{-10} N_{N2}\\label{eq:VOp_N2} \\tag{1.13}$$\n",
    "\n",
    "$$\\nu_{en}=2.33 \\cdot 10^{-11} N_{N_2} T_{e} \\left(1 - 0.000121 T_{e}\\right) + \\\\8.9 \\cdot 10^{-11} N_{O} \\sqrt{T_{e}} \\left(0.00057 T_{e} + 1\\right) +\\\\ 1.82 \\cdot 10^{-10} N_{O_2} \\sqrt{T_{e}} \\left(0.036 \\sqrt{T_{e}} + 1\\right)\\label{eq:Ven} \\tag{1.14}$$\n",
    "\n",
    "$$R_i=\\frac{T_i+T_n}{2}\\label{eq:Ri} \\tag{1.15}$$\n",
    "\n",
    "$$\\Omega_{O^+}=\\frac{eB}{m_{O^+}}\\label{eq:Omega_Op} \\tag{1.16}$$\n",
    "$$\\Omega_{O_2^+}=\\frac{eB}{m_{O_2^+}}\\label{eq:Omega_O2p} \\tag{1.17}$$\n",
    "$$\\Omega_{e}=\\frac{eB}{m_{e}}\\label{eq:Omega_e} \\tag{1.18}$$\n",
    "\n",
    "$$r_{O^+}=\\frac{\\nu_{O^+}}{\\Omega_{O^+}}\\label{eq:r_Op} \\tag{1.19}$$\n",
    "$$r_{O_2^+}=\\frac{\\nu_{O_2^+}}{\\Omega_{O_2^+}}\\label{eq:r_O2p} \\tag{1.20}$$\n",
    "$$r_{e}=\\frac{\\nu_{e}}{\\Omega_{e}}\\label{eq:r_e} \\tag{1.21}$$\n",
    "\n",
    "\n",
    "\n",
    "<p style='text-align: justify;'>\n",
    "So, if we want to evaluate every parameter that goes into a Joule heating calculation in a local volume of space, the geophysical observables required are total density, the neutral winds, the ion drifts, the ion density, ion temperature, electron temperature, ion composition, the total neutral composition which is a separate measurement that can be used as a check, the magnetic field and the DC electric fields.\n",
    "In the system of the neutral atmosphere, conductivities will be estimated by Eq. (1) to (3) listed above.\n",
    "\n",
    "\n",
    "The error of both quantities can be computed by error propagation formula, applied first to Eq. (5), to derive the error in conductivity, and then to Eq. (4), to derive the error in Joule heating. The error in the higher level, L3, products depend on the individual errors of the observed quantities, L2 products (δE, δvn, δB, the constituents of δσ), to be provided by instrument teams (WP2.1, WP3.4) in relation to state of the art resolution and accuracy (WP1.1), consolidated product requirements (WP1.4), and performance metrics (WP3.4). \n",
    "</p>\n",
    "\n",
    "#### 1.3 Heating Rates estimation methodology\n",
    "<a class=\"anchor\" id=\"Modeling-of-HeatingRates-estimates\"></a>\n",
    "The first three derived products Joule, Ohmic, and Frictional heating, in this context designate three different methods to measure the same physical process, the local dissipation of energy in the magnetized, partially ionized upper atmosphere. Because Daedalus provides the complete set of neutral wind, ion drift and electric field vectors, plus the electron density and ion composition, there are actually three such methods to derive the dissipation (Joule heating) from the combined instrument data. The methods are expected to perform differently depending on altitude and instrument characterstics, therefore all three products will be derived.\n",
    "The Equations which are used in order to calculate Heating Rates are the following and are expained in detail in the Daedalus Products ATBD.\n",
    "\n",
    "Ohmic Heating $ q_{Ω} = \\sigma_{P}  | \\vec{E}+ \\vec{u_{n}}⨯ \\vec{B} | ^{2} \\tag {1.22} $\n",
    "Joule Heating $ q_{j}=\\vec{j}·(\\vec{E}+ \\vec{u_{n}}⨯\\vec{B}) \\tag {1.23}$\n",
    "Frictional Heating $ q_{f} =m_{i} ν_{in} N_{e} |v_{i} - u_{n}|^{2} \\tag {1.24}$\n",
    "\n",
    "#### 1.4 Cross Section estimation methodology\n",
    "<a class=\"anchor\" id=\"Modeling-of-CrossSection-estimates\"></a>\n",
    "Ion-Neutral Cross Section is derived by the following equation\n",
    "$$ \\sigma_{in}= \\frac{\\nu_{in}}{N_{n} \\sqrt{2 k_{B} T_{i} / m_{i}}} \\tag{1.25}$$\n",
    "\n",
    "where $N_{n}$ is the neutral number density, $k_{B}$ is Boltzmann's constant, $T_{i}$ is the ion temperature and $m_{i}$ is the ion mass.\n",
    "\n",
    "#### 1.5 Perpendicular currents estimation methodology\n",
    "<a class=\"anchor\" id=\"Perpendicular-currents\"></a>\n",
    "From the ionospheric Ohm's law:\n",
    "\n",
    "$$ \\vec{J_{\\bot}}= \\sigma_{P} \\vec{E_{\\bot}^*} + \\sigma_{H} \\hat{b} \\times \\vec{E_{\\bot}^*}   \\tag{1.26}$$\n",
    "\n",
    "where: <br> \n",
    "\n",
    "$$ \\vec{J_{P}}= \\sigma_{P} \\vec{E_{\\bot}^*}   \\tag{1.27}$$\n",
    "\n",
    "is the Pedersen current density, and: \n",
    "\n",
    "$$ \\vec{J_{H}}=  \\sigma_{H} \\hat{b} \\times \\vec{E_{\\bot}^{*}} \\tag{1.28}$$\n",
    "\n",
    "is the Hall current density.\n",
    "\n",
    "From the above $\\vec{E_{\\bot}^{*}}$ is the electric field perpendicular to magnetic field, expressed in the reference frame of the neutrals and is given by: $$\\vec{E_{\\bot}^{*}}=\\vec{E_{\\bot}}+\\vec{u_{n}}\\times \\vec{B}$$\n",
    "\n",
    "Also, the component of the electric field perpendicular to the magnetic field is derived from the ExB ion drifts, provided by TIE-GCM according to equation:\n",
    "\n",
    "$$\\vec{E_{\\bot}}=-\\vec{v_{i}}x\\vec{B}$$\n",
    "\n",
    "The magnetic field unit vector ($\\hat{b}$) is given by: \n",
    "$$ \\hat{b} =\\ \\frac{B_{x}}{\\mid{B}\\mid}. \\hat{x} + \\frac{B_{y}}{\\mid{B}\\mid}. \\hat{y} + \\frac{B_{z}}{\\mid{B}\\mid}. \\hat{z}$$\n",
    "\n",
    "where: $\\mid{B}\\mid = \\sqrt{B_{x}^{2} + B_{y}^{2} + B_{z}^{2}}$\n",
    "\n",
    "#### 1.6 Field Aligned Currents estimation methodology\n",
    "<a class=\"anchor\" id=\"FAC's\"></a>\n",
    "Field-aligned currents are a standard product of satellites possessing a magnetometer, and methods to derive FACs are well established. Daedalus will adopt the single spacecraft method used for the corresponding Swarm products.\n",
    "\n",
    "FAC : $\\Delta\\vec{B}/(μ_{0}\\Delta x)$, where $\\Delta B$ is magnetic field's perturbations due to the field aligned currents.$\\Delta B = Bobs - Bmod$ , where $Bobs$ is the magnetic field measured by Daedalus and $Bmod$ is the magnetic field given by the IGRF model.\n",
    "\n",
    "\n",
    "\n",
    "#### 1.7 Modeling of Conductivity estimates\n",
    "<a class=\"anchor\" id=\"Modeling-of-Conductivity-estimates\"></a>\n",
    "<p style='text-align: justify;'>\n",
    "As part of the sensitivity analysis in this study, the above parameters for Joule heating and for conductivity are calculated using TIEGCM and IGRF models. In the following, TIEGCM gives the electron density, electron temperature, ion temperature, ion density, neutral temperature and neutral density.The N2 neutral density is calculated indirectly, because it is not given from the model such as the ion density O2+.The IGRF model provides the total magnetic field component. \n",
    "\n",
    "Below these models and the corresponding variables that are outputs of these models are listed, with variables that are involved in Joule Heating and Conductivity calculations: \n",
    "</p>\n",
    "•\tTIEGCM (Ne, Te, Ti, Tn, O, O2, N2, O+, O2+)\n",
    "\n",
    "•\tIGRF (B)\n",
    "\n",
    "### 2. Error Analysis for Conductivity estimates\n",
    "<a class=\"anchor\" id=\"Error-Analysis_Code\"></a>\n",
    "\n",
    "\n",
    "<p style='text-align: justify;'>\n",
    "    Generally, if R is function of one or more observables, e.g. X and Y, then R can be written as R(X,Y). The uncertainty in R is obtained by taking the partial derivatives of R with repsect to each variable, multiplication with the uncertainty in that variable, and addition of these individual terms in quadrature. So, the uncertainty in any general function is:\n",
    "    $$R=R(X,Y,...)$$\n",
    "    $$ \\delta R=\\sqrt{\\left(\\frac{\\partial R}{\\partial X}\\delta X\\right)^2+\\left(\\frac{\\partial R}{\\partial Y}\\delta Y\\right)^2+...}\\tag{2.1}$$\n",
    "</p>\n",
    "\n",
    "#### 2.1 Error Analysis for Pedersen Conductivity\n",
    "<a class=\"anchor\" id=\"Pedersen-Error-Analysis\"></a>\n",
    "<p style='text-align: justify;'>\n",
    "According to the previous general equation $2.1$ for error propagation, the error propagation for eq. $1.1$ is the following:\n",
    "\n",
    "$$ \\begin{aligned} d\\sigma_{P}^2=\\mid\\frac{\\partial\\sigma_{P}}{\\partial B}\\mid^2 dB^2+\\mid\\frac{\\partial\\sigma_{P}}{\\partial N_e}\\mid^2 d(N_{e} 10^6)^{2}+\\mid\\frac{\\partial\\sigma_{P}}{\\partial N_{O^+}}\\mid^2 d (N_{O^+} 10^6)^2+\n",
    "\\mid\\frac{\\partial\\sigma_{P}}{\\partial N_{O_2^+}}\\mid^2 d (N_{O_2^+} 10^6)^2+ \\mid\\frac{\\partial\\sigma_{P}}{\\partial r_{e}}\\mid^2 d r_{e}^2 +\\\\ \\mid\\frac{\\partial\\sigma_{P}}{\\partial r_{O^+}}\\mid^2 dr_{O^+}^2+\\mid\\frac{\\partial\\sigma_{P}}{\\partial r_{O_2^+}}\\mid^2 dr_{O_2^+}^2\\end{aligned}\\tag{2.1.1}$$\n",
    "\n",
    "In order to calculate $d\\sigma_{P}$, every term of eq. $2.1.1$ should be calculated. By implementing all the necessary derivations the following equations are obtained.\n",
    "\n",
    "------------------\n",
    "* $$ \\begin{aligned} \\mid\\frac{\\partial\\sigma_{P}}{\\partial B}\\mid^2=\\left( - \\frac{q_{e}}{B^{2}} \\left(\\frac{(N_e 10^6) r_{e}}{r_{e}^{2} + 1} + \\frac{(O_2^+ 10^6) r_{O_2^+}}{r_{O_2^+}^{2} + 1} + \\frac{(O^+ 10^6) r_{O^+}}{r_{O^+}^{2} + 1}\\right)\\right)^2 \\end{aligned} \\tag{2.1.2} $$\n",
    "-----------------\n",
    "* $$\\mid\\frac{\\partial\\sigma_{P}}{\\partial N_e}\\mid^2=\\left(\\frac{q_{e}}{B}\\frac{r_{e}}{ r_{e}^{2} + 1} \\right)^2\\tag{2.1.3} $$\n",
    "------------------\n",
    "* $$\\mid\\frac{\\partial\\sigma_{P}}{\\partial N_{O^+} }\\mid^2=\\left(\\frac{q_{e}}{B}\\frac{ r_{O^+}}{ r_{O^+}^{2} + 1} \\right)^2\\tag{2.1.4} $$\n",
    "-----------------------------\n",
    "* $$\\mid\\frac{\\partial\\sigma_{P}}{\\partial N_{O_2^+} }\\mid^2=\\left(\\frac{q_{e}}{B}\\frac{ r_{O_2^+}}{ r_{O_2^+}^{2} + 1} \\right)^2\\tag{2.1.5} $$\n",
    "---------------------------\n",
    "* $$\\mid\\frac{\\partial\\sigma_{P}}{\\partial r_e}\\mid^2=\\left( \\frac{q_{e} (N_e 10^6)}{B} \\left(- \\frac{2  r_{e}^{2}}{\\left(r_{e}^{2} + 1\\right)^{2}} + \\frac{1}{r_{e}^{2} + 1}\\right)   \\right)^2\\tag{2.1.6} $$\n",
    "---------------\n",
    "* $$\\mid\\frac{\\partial\\sigma_{P}}{\\partial r_{O^+} }\\mid^2=\\left(\\frac{q_{e} (N_{O^+} 10^6)}{B}  \\left(- \\frac{2  r_{O^+}^{2}}{\\left(r_{O^+}^{2} + 1\\right)^{2}} + \\frac{1}{r_{O^+}^{2} + 1}\\right) \\right)^2\\tag{2.1.7} $$\n",
    "-------------------\n",
    "* $$\\mid\\frac{\\partial\\sigma_{P}}{\\partial r_{O_2^+} }\\mid^2=\\left(\\frac{q_{e} (N_{O_2^+} 10^6)}{B}  \\left(- \\frac{2  r_{O_2^+}^{2}}{\\left(r_{O_2^+}^{2} + 1\\right)^{2}} + \\frac{1}{r_{O_2^+}^{2} + 1}\\right) \\right)^2\\tag{2.1.8} $$\n",
    "-----------------\n",
    "* $${d r_{e}}^2=\\mid\\frac{\\partial r_{e}}{\\partial \\nu_{en}}\\mid^2 d \\nu_{en}^2 + \\mid\\frac{\\partial r_{e}}{\\partial \\Omega_{e}}\\mid^2 d \\Omega_{e}^2 \\tag{2.1.9}$$\n",
    "\n",
    "* $$\\mid\\frac{\\partial r_{e}}{\\partial \\nu_{e}}\\mid^2=\\left(\\frac{1}{\\Omega_{e}}\\right)^2 \\tag{2.1.10}$$ \n",
    "\n",
    "* $$d \\nu_{en}^2= \\mid\\frac{\\partial \\nu_{en}}{\\partial N_{N_2}}\\mid^2 d N_{N_2}^2 + \\mid\\frac{\\partial \\nu_{en}}{\\partial N_{O_2}}\\mid^2 d N_{O_2}^2 + \\mid\\frac{\\partial \\nu_{en}}{\\partial N_{O}}\\mid^2 d N_{O}^2 +\\mid\\frac{\\partial \\nu_{en}}{\\partial T_{e}}\\mid^2 d T_{e}^2\\tag{2.1.11}$$ \n",
    "\n",
    "* $$ \\mid\\frac{\\partial \\nu_{en}}{\\partial N_{N_2}}\\mid^2=\\left( 2.33 \\cdot 10^{-11} T_{e} \\left(1 - 0.000121 T_{e}\\right)\\right)^2 \\tag{2.1.12}$$\n",
    "\n",
    "* $$ \\mid\\frac{\\partial \\nu_{en}}{\\partial N_{O_2}}\\mid^2=\\left(1.82 \\cdot 10^{-10} \\sqrt{T_{e}} \\left(0.036 \\sqrt{T_{e}} + 1\\right) \\right)^2 \\tag{2.1.13}$$\n",
    "\n",
    "* $$ \\mid\\frac{\\partial \\nu_{en}}{\\partial N_{O}}\\mid^2=\\left( 8.9 \\cdot 10^{-11} \\sqrt{T_{e}} \\left(0.00057 T_{e} + 1\\right)\\right)^2 \\tag{2.1.14}$$\n",
    "\n",
    "* $$ \\mid\\frac{\\partial \\nu_{en}}{\\partial T_{e}}\\mid^2=\\left( - 2.8193 \\cdot 10^{-15} N_{N_2} T_{e} + 2.33 \\cdot 10^{-11} N_{N_2} \\left(1 - 0.000121 T_{e}\\right) + \\\\5.073 \\cdot 10^{-14} N_{O} \\sqrt{T_{e}} + \\frac{4.45 \\cdot 10^{-11} N_{O} \\left(0.00057 T_{e} + 1\\right)}{\\sqrt{T_{e}}} +\\\\ 3.276 \\cdot 10^{-12} N_{O_2} + \\frac{9.1 \\cdot 10^{-11} N_{O_2} \\left(0.036 \\sqrt{T_{e}} + 1\\right)}{\\sqrt{T_{e}}}\\right)^2 \\tag{2.1.15}$$\n",
    "\n",
    "* $$ \\mid\\frac{\\partial r_{e}}{\\partial \\Omega_{e}}\\mid^2=\\left(- \\frac{\\nu_{en}}{\\Omega_{e}^{2}} \\right)^2 \\tag{2.1.16}$$ \n",
    "\n",
    "* $$ d\\Omega_{e}^2= \\mid\\frac{\\partial\\Omega_{e}}{\\partial B}\\mid^2 d B^2\\tag{2.1.17}$$ \n",
    "\n",
    "* $$\\mid\\frac{\\partial\\Omega_{e}}{\\partial B}\\mid^2=\\left(\\frac{q_{e}}{m_{e}} \\right)^2 \\tag{2.1.18}$$\n",
    "_______________________________________\n",
    "\n",
    "* $${d r_{O^+}}^2=\\mid\\frac{\\partial r_{O^+}}{\\partial \\nu_{O^+}}\\mid^2 d \\nu_{O^+}^2 + \\mid\\frac{\\partial r_{O^+}}{\\partial \\Omega_{O^+}}\\mid^2 d \\Omega_{O^+}^2 \\tag{2.1.19}$$\n",
    "\n",
    "* $$\\mid\\frac{\\partial r_{O^+}}{\\partial \\nu_{O^+}}\\mid^2=\\left(\\frac{1}{\\Omega_{O^+}}\\right)^2 \\tag{2.1.20}$$ \n",
    "\n",
    "* $$ d\\nu_{O^{+}}^2= {d\\nu_{O^{+}-O}}^2+{d\\nu_{O^{+}-O_2}}^2+{d\\nu_{O^{+}-N_2}}^2 \\tag{2.1.21}$$\n",
    "\n",
    "* $$ {d\\nu_{O^{+}-O}}^2= \\mid\\frac{\\partial \\nu_{O^{+}-O}}{\\partial N_{O}}\\mid^2 d N_{O}^2 +\\mid\\frac{\\partial \\nu_{O^{+}-O}}{\\partial T_{i}}\\mid^2 d T_{i}^2 +\\mid\\frac{\\partial \\nu_{O^{+}-O}}{\\partial T_{e}}\\mid^2 d T_{e}^2   \\tag{2.1.22}$$\n",
    "\n",
    "* $$ \\mid\\frac{\\partial \\nu_{O^{+}-O}}{\\partial N_{O}}\\mid^2= \\left(3.67 \\cdot 10^{-11} fb \\sqrt{\\frac{T_{i}}{2} + \\frac{T_{n}}{2}} \\left(- \\frac{0.064 \\ln{\\left(\\frac{T_{i}}{2} + \\frac{T_{n}}{2} \\right)}}{\\ln{\\left(10 \\right)}} + 1\\right)^{2} \\right)^2   \\tag{2.1.23}$$\n",
    "\n",
    "* $$ \\mid\\frac{\\partial \\nu_{O^{+}-O}}{\\partial T_{i}}\\mid^2= \\left(\\frac{9.175 \\cdot 10^{-12} N_{O} fb \\left(- \\frac{0.064 \\ln{\\left(\\frac{T_{i}}{2} + \\frac{T_{n}}{2} \\right)}}{\\ln{\\left(10 \\right)}} + 1\\right)^{2}}{\\sqrt{\\frac{T_{i}}{2} + \\frac{T_{n}}{2}}} - \\\\ \\frac{2.3488 \\cdot 10^{-12} N_{O} fb \\left(- \\frac{0.064 \\ln{\\left(\\frac{T_{i}}{2} + \\frac{T_{n}}{2} \\right)}}{\\ln{\\left(10 \\right)}} + 1\\right)}{\\sqrt{\\frac{T_{i}}{2} + \\frac{T_{n}}{2}} \\ln{\\left(10 \\right)}} \\right)^2  \\tag{2.1.24}$$\n",
    "\n",
    "* $$ \\mid\\frac{\\partial \\nu_{O^{+}-O}}{\\partial T_{e}}\\mid^2= \\left(\\frac{9.175 \\cdot 10^{-12} N_{O} fb \\left(- \\frac{0.064 \\ln{\\left(\\frac{T_{i}}{2} + \\frac{T_{n}}{2} \\right)}}{\\ln{\\left(10 \\right)}} + 1\\right)^{2}}{\\sqrt{\\frac{T_{i}}{2} + \\frac{T_{n}}{2}}} - \\\\ \\frac{2.3488 \\cdot 10^{-12} N_{O} fb \\left(- \\frac{0.064 \\ln{\\left(\\frac{T_{i}}{2} + \\frac{T_{n}}{2} \\right)}}{\\ln{\\left(10 \\right)}} + 1\\right)}{\\sqrt{\\frac{T_{i}}{2} + \\frac{T_{n}}{2}} \\ln{\\left(10 \\right)}} \\right)^2   \\tag{2.1.25}$$\n",
    "\n",
    "* $$ {d\\nu_{O^{+}-O_2}}^2= \\mid\\frac{\\partial \\nu_{O^{+}-O_2}}{\\partial N_{O_2}}\\mid^2 d N_{O_2}^2  \\tag{2.1.26}$$\n",
    "\n",
    "* $$ \\mid\\frac{\\partial \\nu_{O^{+}-O_2}}{\\partial N_{O_2}}\\mid^2= \\left(6.64 \\cdot 10^{-10} \\right)^2\\tag{2.1.27}$$\n",
    "\n",
    "* $$ {d\\nu_{O^{+}-N_2}}^2=\\mid\\frac{\\partial \\nu_{O^{+}-N_2}}{\\partial N_{N_2}}\\mid^2 d N_{N_2}^2   \\tag{2.1.28}$$\n",
    "\n",
    "* $$ \\mid\\frac{\\partial \\nu_{O^{+}-N_2}}{\\partial N_{N_2}}\\mid^2 =\\left( 6.82 \\cdot 10^{-10}\\right)^2   \\tag{2.1.29}$$\n",
    "\n",
    "* $$ \\mid\\frac{\\partial r_{O^{+}}}{\\partial \\Omega_{O^{+}}}\\mid^2=\\left(- \\frac{\\nu_{O^{+}}}{\\Omega_{O^{+}}^{2}} \\right)^2 \\tag{2.1.30}$$ \n",
    "\n",
    "* $$ d\\Omega_{O^{+}}^2= \\mid\\frac{\\partial\\Omega_{O^{+}}}{\\partial B}\\mid^2 d B^2\\tag{2.1.31}$$ \n",
    "\n",
    "* $$\\mid\\frac{\\partial\\Omega_{O^{+}}}{\\partial B}\\mid^2=\\left(\\frac{q_{e}}{m_{O^{+}}} \\right)^2 \\tag{2.1.32}$$\n",
    "\n",
    "------------\n",
    "* $${d r_{O_2^+}}^2=\\mid\\frac{\\partial r_{O_2^+}}{\\partial \\nu_{O_2^+}}\\mid^2 d \\nu_{O_2^+}^2 + \\mid\\frac{\\partial r_{O_2^+}}{\\partial \\Omega_{O_2^+}}\\mid^2 d \\Omega_{O_2^+}^2 \\tag{2.1.33}$$\n",
    "\n",
    "* $$\\mid\\frac{\\partial r_{O_{2}^+}}{\\partial \\nu_{O_{2}^+}}\\mid^2=\\left(\\frac{1}{\\Omega_{O_{2}^+}}\\right)^2 \\tag{2.1.34}$$ \n",
    "\n",
    "* $$ d\\nu_{O_{2}^{+}}^2= {d\\nu_{O_{2}^{+}-O}}^2+{d\\nu_{O_{2}^{+}-O}}^2+{d\\nu_{O_{2}^{+}-N_2}}^2 \\tag{2.1.35}$$\n",
    "\n",
    "* $$ {d\\nu_{O_{2}^{+}-O}}^2= \\mid\\frac{\\partial \\nu_{O_{2}^{+}-O}}{\\partial N_{O}}\\mid^2 d N_{O}^2   \\tag{2.1.36}$$\n",
    "\n",
    "* $$ \\mid\\frac{\\partial \\nu_{O_{2}^{+}-O}}{\\partial N_{O}}\\mid^2= \\left(2.31 \\cdot 10^{-10}\\right)^2   \\tag{2.1.37}$$\n",
    "\n",
    "* $$ {d\\nu_{O_2^{+}-O_2}}^2=\\mid\\frac{\\partial \\nu_{O_{2}^{+}-O_2}}{\\partial N_{O_2}}\\mid^2 d N_{O_2}^2 +\\mid\\frac{\\partial \\nu_{O_{2}^{+}-O_2}}{\\partial T_{i}}\\mid^2 d T_{i}^2 +\\mid\\frac{\\partial \\nu_{O_{2}^{+}-O_2}}{\\partial T_{n}}\\mid^2 d T_{n}^2   \\tag{2.1.38}$$\n",
    "\n",
    "* $$ \\mid\\frac{\\partial \\nu_{O_2^{+}-O_2}}{\\partial N_{O_2}}\\mid^2= \\left(2.59 \\cdot 10^{-11} \\sqrt{\\frac{T_{i}}{2} + \\frac{T_{n}}{2}} \\left(- \\frac{0.073 \\ln{\\left(\\frac{T_{i}}{2} + \\frac{T_{n}}{2} \\right)}}{\\ln{\\left(10 \\right)}} + 1\\right)^{2} \\right)^2\\tag{2.1.39}$$\n",
    "\n",
    "* $$ \\mid\\frac{\\partial \\nu_{O_2^{+}-O_{2}}}{\\partial T_{i}}\\mid^2= \\left(\\frac{6.475 \\cdot 10^{-12} N_{O_2} \\left(- \\frac{0.073 \\ln{\\left(\\frac{T_{i}}{2} + \\frac{T_{n}}{2} \\right)}}{\\ln{\\left(10 \\right)}} + 1\\right)^{2}}{\\sqrt{\\frac{T_{i}}{2} + \\frac{T_{n}}{2}}} -\\\\ \\frac{1.8907 \\cdot 10^{-12} N_{O_2} \\left(- \\frac{0.073 \\ln{\\left(\\frac{T_{i}}{2} + \\frac{T_{n}}{2} \\right)}}{\\ln{\\left(10 \\right)}} + 1\\right)}{\\sqrt{\\frac{T_{i}}{2} + \\frac{T_{n}}{2}} \\ln{\\left(10 \\right)}} \\right)^2  \\tag{2.1.40}$$\n",
    "\n",
    "* $$ \\mid\\frac{\\partial \\nu_{O_{2}^{+}-O_{2}}}{\\partial T_{n}}\\mid^2= \\left(\\frac{6.475 \\cdot 10^{-12} N_{O_2} \\left(- \\frac{0.073 \\ln{\\left(\\frac{T_{i}}{2} + \\frac{T_{n}}{2} \\right)}}{\\ln{\\left(10 \\right)}} + 1\\right)^{2}}{\\sqrt{\\frac{T_{i}}{2} + \\frac{T_{n}}{2}}} -\\\\ \\frac{1.8907 \\cdot 10^{-12} N_{O_2} \\left(- \\frac{0.073 \\ln{\\left(\\frac{T_{i}}{2} + \\frac{T_{n}}{2} \\right)}}{\\ln{\\left(10 \\right)}} + 1\\right)}{\\sqrt{\\frac{T_{i}}{2} + \\frac{T_{n}}{2}} \\ln{\\left(10 \\right)}} \\right)^2   \\tag{2.1.41}$$\n",
    "\n",
    "* $$ {d\\nu_{O_{2}^{+}-N_2}}^2=\\mid\\frac{\\partial \\nu_{O^{+}-N_2}}{\\partial N_{N_2}}\\mid^2 d N_{N_2}^2   \\tag{2.1.42}$$\n",
    "\n",
    "* $$ \\mid\\frac{\\partial \\nu_{O_{2}^{+}-N_2}}{\\partial N_{N_2}}\\mid^2 =\\left( 4.31 \\cdot 10^{-10}\\right)^2   \\tag{2.1.43}$$\n",
    "\n",
    "* $$ \\mid\\frac{\\partial r_{O_2^{+}}}{\\partial \\Omega_{O_2^{+}}}\\mid^2=\\left(- \\frac{\\nu_{O_2^{+}}}{\\Omega_{O_2^{+}}^{2}} \\right)^2 \\tag{2.1.44}$$ \n",
    "\n",
    "* $$ d\\Omega_{O_2^{+}}^2= \\mid\\frac{\\partial\\Omega_{O_2^{+}}}{\\partial B}\\mid^2 d B^2\\tag{2.1.45}$$ \n",
    "\n",
    "* $$\\mid\\frac{\\partial\\Omega_{O_2^{+}}}{\\partial B}\\mid^2=\\left(\\frac{q_{e}}{m_{O_2^{+}}} \\right)^2 \\tag{2.1.46}$$\n",
    "\n",
    "\n",
    "</p>\n",
    "\n",
    "#### 2.2 Error Analysis for Hall Conductivity\n",
    "<a class=\"anchor\" id=\"Hall-Error-Analysis\"></a>\n",
    "According to the general equation $2.1$ for error propagation, the uncertainty for eq. $1.2$ is calculated by the following equation:\n",
    "\n",
    "$$ \\begin{aligned} d\\sigma_{H}^2=\\mid\\frac{\\partial\\sigma_{H}}{\\partial B}\\mid^2 dB^2+\\mid\\frac{\\partial\\sigma_{H}}{\\partial N_e}\\mid^2 d(N_{e} 10^6)^{2}+\\mid\\frac{\\partial\\sigma_{H}}{\\partial N_{O^+}}\\mid^2 d (N_{O^+} 10^6)^2+\n",
    "\\mid\\frac{\\partial\\sigma_{H}}{\\partial N_{O_2^+}}\\mid^2 d (N_{O_2^+} 10^6)^2+\\\\ \\mid\\frac{\\partial\\sigma_{H}}{\\partial r_{e}}\\mid^2 d r_{e}^2 +\\mid\\frac{\\partial\\sigma_{H}}{\\partial r_{O^+}}\\mid^2 dr_{O^+}^2+\\mid\\frac{\\partial\\sigma_{H}}{\\partial r_{O_2^+}}\\mid^2 dr_{O_2^+}^2\\end{aligned}\\tag{2.2.1}$$\n",
    "\n",
    "In order to calculate $d\\sigma_{H}$, every term of eq. $2.2.1$ should be calculated. Many of the terms of equation $2.2.1$ are the same with the terms of equation $2.1.1$, so it isn't necessary to calculated again. By implementing all the rest necessary derivations the following equations are obtained.\n",
    "\n",
    "------------\n",
    "$$\\mid\\frac{\\partial\\sigma_{H}}{\\partial B}\\mid^2= \\left( - \\frac{q_{e}}{B^{2}} \\left(N_e 10^6\\frac{1}{r_{e}^{2} + 1} - N_{O_2^+} 10^6\\frac{1}{r_{O_2^+}^{2} + 1} -N_{O^+} 10^6\\frac{1}{r_{O^+}^{2} + 1}\\right)\\right)^2 \\tag{2.2.2}$$\n",
    "\n",
    "------------\n",
    "$$\\mid\\frac{\\partial\\sigma_{H}}{\\partial N_e}\\mid^2= \\left(\\frac{q_{e}}{B}\\frac{1}{ \\left(r_{e}^{2} + 1\\right)}    \\right)^2 \\tag{2.2.3}$$\n",
    "\n",
    "------------\n",
    "$$\\mid\\frac{\\partial\\sigma_{H}}{\\partial N_{O^+}}\\mid^2= \\left( - \\frac{q_{e}}{B}\\frac{1}{ \\left(r_{O^+}^{2} + 1\\right)}   \\right)^2 \\tag{2.2.4}$$\n",
    "\n",
    "------------\n",
    "$$\\mid\\frac{\\partial\\sigma_{H}}{\\partial N_{O_2^+}}\\mid^2= \\left(- \\frac{q_{e}}{B}\\frac{1}{ \\left(r_{O_2^+}^{2} + 1\\right)}    \\right)^2 \\tag{2.2.5}$$\n",
    "\n",
    "------------\n",
    "$$\\mid\\frac{\\partial\\sigma_{H}}{\\partial r_{e}}\\mid^2= \\left(-2 Ne 10^6 \\frac{q_{e}}{B} \\frac{  r_{e}}{ \\left(r_{e}^{2} + 1\\right)^{2}}\\right)^2 \\tag{2.2.6}$$\n",
    "\n",
    "------------\n",
    "$$\\mid\\frac{\\partial\\sigma_{H}}{\\partial r_{O^+}}\\mid^2= \\left(2 N_{O^+} 10^6 \\frac{q_{e}}{B}\\frac{  r_{O^+}}{ \\left(r_{O^+}^{2} + 1\\right)^{2}}\\right)^2 \\tag{2.2.7}$$\n",
    "\n",
    "------------\n",
    "$$\\mid\\frac{\\partial\\sigma_{H}}{\\partial r_{O_2^+}}\\mid^2= \\left(2 N_{O_2^+}\\frac{q_{e}}{B}\\frac{  r_{O_2^+}}{\\left(r_{O_2^+}^{2} + 1\\right)^{2}}    \\right)^2 \\tag{2.2.8}$$\n",
    "\n",
    "</p>\n",
    "\n",
    "#### 2.3 Error Analysis for Parallel Conductivity\n",
    "<a class=\"anchor\" id=\"Parallel-Error-Analysis\"></a>\n",
    "According to the previous general equation $2.1$ for error propagation, the error propagation for eq. $1.3$ is the following:\n",
    "    \n",
    "$$  \\begin{aligned} d\\sigma_{\\parallel}^2 = \\mid \\frac{\\partial \\sigma_{\\parallel}}{\\partial N_{e}} \\mid^{2} . d{N_{e}}^{2} +  \\mid \\frac{\\partial \\sigma_{\\parallel}}{\\partial\\nu_{en}} \\mid^{2} . d{\\nu_{en}}^{2}\\end{aligned}\\tag{2.3.1}$$\n",
    "\n",
    "    \n",
    "* $$ \\mid \\frac{\\partial \\sigma_{\\parallel}}{\\partial N_{e}} \\mid^{2} = (\\frac{q_{e}^{2}}{\\nu_{en}.m_{e}})^{2}\\tag{2.3.2} $$\n",
    "\n",
    "\n",
    "\n",
    "* $$ \\mid \\frac{\\partial \\sigma_{\\parallel}}{\\partial \\nu_{en}} \\mid^{2} = (\\frac{N_{e}.q_{e}^{2}}{\\nu_{en}^{2}.m_{e}})^{2}\\tag{2.3.3} $$\n",
    "\n",
    "In order to calculate $d\\sigma_{\\parallel}$, every term of eq. $2.3.1$ should be calculated. Many of the terms of equation $2.3.1$ are the same with the terms of equation $2.1.1$, so it isn't necessary to calculated again. By implementing all the rest necessary derivations the following equations are obtained.\n",
    "\n",
    "### 3. Error Analysis for Heating Rates estimates\n",
    "<a class=\"anchor\" id=\"HR-Error-Analysis\"></a>\n",
    "The uncertainty for Heating Rates calculation could be calculated according to the general equation $2.1$ for error propagation.\n",
    "\n",
    "#### 3.1 Error Analysis for Ohmic Heating Rate\n",
    "<a class=\"anchor\" id=\"OHR-Error-Analysis\"></a>\n",
    "Using equation $2.1$ uncertainty in Ohmic Heating Rate can be calculated by equation $3.1$ as follows\n",
    "\n",
    "$$\\begin{aligned} {dq_{\\Omega}}^2=\\mid\\frac{\\partial q_{\\Omega}}{\\partial \\sigma_{P}}\\mid^2 {d\\sigma_{P}}^2+\\mid\\frac{\\partial q_{\\Omega}}{\\partial Un_x}\\mid^2 {dUn_x}^{2}+\\mid\\frac{\\partial q_{\\Omega}}{\\partial Un_y}\\mid^2 {dUn_y}^{2}+\\mid\\frac{\\partial q_{\\Omega}}{\\partial Un_z}\\mid^2 {dUn_z}^{2}+\\\\ \\mid\\frac{\\partial q_{\\Omega}}{\\partial B_x}\\mid^2 {dB_x}^{2}+\\mid\\frac{\\partial q_{\\Omega}}{\\partial B_y}\\mid^2 {dB_y}^{2}+ \\mid\\frac{\\partial q_{\\Omega}}{\\partial B_z}\\mid^2 {dB_z}^{2}+\\\\ \\mid\\frac{\\partial q_{\\Omega}}{\\partial E_x}\\mid^2 {dE_x}^{2}+\\mid\\frac{\\partial q_{\\Omega}}{\\partial E_y}\\mid^2 {dE_y}^{2}+\\mid\\frac{\\partial q_{\\Omega}}{\\partial E_z}\\mid^2 {dE_z}^{2} \\end{aligned}\\tag{3.1}$$\n",
    "\n",
    "\n",
    "#### 3.2 Error Analysis for Joule Heating Rate\n",
    "<a class=\"anchor\" id=\"JHR-Error-Analysis\"></a>\n",
    "Using equation $2.1$ uncertainty in Joule Heating Rate can be calculated by equation $3.2$ as follows\n",
    "\n",
    "$$\\begin{aligned} {dq_{j}}^2=\\mid\\frac{\\partial q_{j}}{\\partial N_{e}}\\mid^2 ({dN_e 10^6})^2+\\mid\\frac{\\partial q_{j}}{\\partial \\nu_{O^+}}\\mid^2 {d\\nu_{O^+}}^2+\\mid\\frac{\\partial q_{j}}{\\partial \\Omega_{O^+}}\\mid^2 {d\\Omega_{O^+}}^2+\\\\ \\mid\\frac{\\partial q_{j}}{\\partial E_x}\\mid^2 {dE_x}^{2}+\\mid\\frac{\\partial q_{j}}{\\partial E_y}\\mid^2 {dE_y}^{2}+\\mid\\frac{\\partial q_{j}}{\\partial E_z}\\mid^2 {dE_z}^{2}+\\\\\\mid\\frac{\\partial q_{j}}{\\partial B_x}\\mid^2 {dB_x}^{2}+\\mid\\frac{\\partial q_{j}}{\\partial B_y}\\mid^2 {dB_y}^{2}+ \\mid\\frac{\\partial q_{j}}{\\partial B_z}\\mid^2 {dB_z}^{2}+\\\\\n",
    "\\mid\\frac{\\partial q_{j}}{\\partial Un_x}\\mid^2 {dUn_x}^{2}+\\mid\\frac{\\partial q_{j}}{\\partial Un_y}\\mid^2 {dUn_y}^{2}+\\mid\\frac{\\partial q_{j}}{\\partial Un_z}\\mid^2 {dUn_z}^{2} \\end{aligned}\\tag{3.2}$$\n",
    "\n",
    "\n",
    "#### 3.3 Error Analysis for Frictional Heating Rate\n",
    "<a class=\"anchor\" id=\"FHR-Error-Analysis\"></a>\n",
    "Using equation $2.1$ uncertainty in Frictional Heating Rate can be calculated by equation $3.3$ as follows\n",
    "\n",
    "$$\\begin{aligned} {dq_{f}}^2=\\mid\\frac{\\partial q_{f}}{\\partial N_{e}}\\mid^2 ({dN_e 10^6})^2+\\mid\\frac{\\partial q_{f}}{\\partial \\nu_{O^+}}\\mid^2 {d\\nu_{O^+}}^2+\\mid\\frac{\\partial q_{f}}{\\partial \\Omega_{O^+}}\\mid^2 {d\\Omega_{O^+}}^2+\\\\ \\mid\\frac{\\partial q_{f}}{\\partial E_x}\\mid^2 {dE_x}^{2}+\\mid\\frac{\\partial q_{f}}{\\partial E_y}\\mid^2 {dE_y}^{2}+\\mid\\frac{\\partial q_{f}}{\\partial E_z}\\mid^2 {dE_z}^{2}+\\\\\\mid\\frac{\\partial q_{f}}{\\partial B_x}\\mid^2 {dB_x}^{2}+\\mid\\frac{\\partial q_{f}}{\\partial B_y}\\mid^2 {dB_y}^{2}+ \\mid\\frac{\\partial q_{f}}{\\partial B_z}\\mid^2 {dB_z}^{2}+\\\\\n",
    "\\mid\\frac{\\partial q_{f}}{\\partial Un_x}\\mid^2 {dUn_x}^{2}+\\mid\\frac{\\partial q_{f}}{\\partial Un_y}\\mid^2 {dUn_y}^{2}+\\mid\\frac{\\partial q_{f}}{\\partial Un_z}\\mid^2 {dUn_z}^{2} \\end{aligned}\\tag{3.2}$$\n",
    "\n",
    "### 4. Error Analysis for Cross Sections estimates\n",
    "<a class=\"anchor\" id=\"CS-Error-Analysis\"></a>\n",
    "The uncertainty for Cross Sections calculation could be calculated according to the general equation $2.1$ for error propagation as follows.\n",
    "\n",
    "$$\\begin{aligned} {d\\sigma_{O^+}}^2=\\mid\\frac{\\partial \\sigma_{O^+}}{\\partial N_{N_2}}\\mid^2 ({dN_{N_2} 10^6})^2+ \\mid\\frac{\\partial \\sigma_{O^+}}{\\partial N_{O}}\\mid^2 ({dN_{O} 10^6})^2+\\mid\\frac{\\partial \\sigma_{O^+}}{\\partial N_{O_2}}\\mid^2 ({dN_{O_2} 10^6})^2+\\\\ \\mid\\frac{\\partial \\sigma_{O^+}}{\\partial \\nu_{O^+}}\\mid^2 {d\\nu_{O^+}}^2+\\mid\\frac{\\partial \\sigma_{O^+}}{\\partial T_{i}}\\mid^2 {dT_{i}}^2\\end{aligned}\\tag{4.1}$$\n",
    "\n",
    "all densities are in $cm^{-3}$\n",
    "\n",
    "### 5. Error Analysis for Perpendicular Currents\n",
    "<a class=\"anchor\" id=\"PC-Error-Analysis\"></a>\n",
    "As seen in section $1.5$ the currents are depended on the Pedersen and Hall conductivities, the magnetic field components ($B_{x}$,$B_{y}$,$B_{z}$), the vertical to magnetic field components ($E_{\\bot x}$,$E_{\\bot y}$,$E_{\\bot z}$), the B norm ($\\mid{B}\\mid = \\sqrt{B_{x}^{2} + B_{y}^{2} + B_{z}^{2}}$) and the neutral drifts components ($U_{nx}$,$U_{ny}$,$U_{nz}$).The conductivities are in $S/m$, the magnetic field is measured in $T$ and the drifts are in $m/s$.\n",
    "\n",
    "#### 5.1 Error Analysis for Pedersen Current\n",
    "<a class=\"anchor\" id=\"PEDC-Error-Analysis\"></a>\n",
    "\n",
    "From the Pedersen current equation $1.27$ and according to the general equation $2.1$ for error propagation, the error is given as follows:\n",
    "\n",
    "$$\\begin{aligned}\n",
    "    \\mid{d J_{p}}\\mid^{2} = \\mid\\frac{\\partial J_{p}}{\\partial \\sigma_{p}}\\mid^{2}\\ .\\mid d\\sigma_{p}\\mid^{2} + \\mid\\frac{\\partial J_{p}}{\\partial E_{\\bot x}}\\mid^{2}\\ .\\mid dE_{\\bot x}\\mid^{2} + \\mid\\frac{\\partial J_{p}}{\\partial E_{\\bot y}}\\mid^{2}\\ .\\mid dE_{\\bot y}\\mid^{2} + \\mid\\frac{\\partial J_{p}}{\\partial E_{\\bot z}}\\mid^{2}\\ .\\mid dE_{\\bot z}\\mid^{2} + \\\\ + \\mid\\frac{\\partial J_{p}}{\\partial B_{x}}\\mid^{2}\\ .\\mid dB_{x}\\mid^{2} + \\mid\\frac{\\partial J_{p}}{\\partial B_{y}}\\mid^{2}\\ .\\mid dB_{y}\\mid^{2} + \\mid\\frac{\\partial J_{p}}{\\partial B_{z}}\\mid^{2}\\ .\\mid dB_{z}\\mid^{2} + \\\\ + \\mid\\frac{\\partial J_{p}}{\\partial U_{nx}}\\mid^{2}\\ .\\mid dU_{nx}\\mid^{2} + \\mid\\frac{\\partial J_{p}}{\\partial U_{ny}}\\mid^{2}\\ .\\mid dU_{ny}\\mid^{2} + \\mid\\frac{\\partial J_{p}}{\\partial U_{nz}}\\mid^{2}\\ .\\mid dU_{nz}\\mid^{2} + \\mid\\frac{\\partial J_{p}}{\\partial \\mid{B}\\mid}\\mid^{2}\\ .\\mid d{\\mid{B}\\mid} \\mid^{2}\n",
    "\\end{aligned}\\tag{5.1}$$\n",
    "\n",
    "\n",
    "$$\\begin{aligned} \\mid d \\mid{B}\\mid \\mid^{2} = \\mid\\frac{\\partial{\\mid{B}\\mid}}{\\partial B_{x}}\\mid^{2} .\\mid dB_{x}\\mid^{2} + \\mid\\frac{\\partial{\\mid{B}\\mid}}{\\partial B_{y}}\\mid^{2} .\\mid dB_{y}\\mid^{2}  + \\mid\\frac{\\partial{\\mid{B}\\mid}}{\\partial B_{z}}\\mid^{2} .\\mid dB_{z}\\mid^{2} \\end{aligned}\\tag{5.1.1}$$\n",
    "\n",
    "\n",
    "* $$\\mid\\frac{\\partial{\\mid{B}\\mid}}{\\partial B_{x}}\\mid^{2} = \\frac{B_{x}^{2}}{(B_{x}^{2} + B_{y}^{2} + B_{z}^{2})} $$\n",
    "\n",
    "\n",
    "* $$\\mid\\frac{\\partial{\\mid{B}\\mid}}{\\partial B_{y}}\\mid^{2} = \\frac{B_{y}^{2}}{(B_{x}^{2} + B_{y}^{2} + B_{z}^{2})} $$\n",
    "\n",
    "\n",
    "* $$\\mid\\frac{\\partial{\\mid{B}\\mid}}{\\partial B_{z}}\\mid^{2} = \\frac{B_{z}^{2}}{(B_{x}^{2} + B_{y}^{2} + B_{z}^{2})} $$\n",
    "\n",
    "#### 5.2 Error Analysis for Pedersen Current\n",
    "<a class=\"anchor\" id=\"HALC-Error-Analysis\"></a>\n",
    "\n",
    "In the same way using equation $1.28$ and equation $2.1$ the error for the Hall current is:\n",
    "\n",
    "$$\\begin{aligned}\n",
    "    \\mid{d J_{h}}\\mid^{2} = \\mid\\frac{\\partial J_{h}}{\\partial \\sigma_{h}}\\mid^{2}\\ .\\mid d\\sigma_{h}\\mid^{2} + \\mid\\frac{\\partial J_{h}}{\\partial E_{\\bot x}}\\mid^{2}\\ .\\mid dE_{\\bot x}\\mid^{2} + \\mid\\frac{\\partial J_{h}}{\\partial E_{\\bot y}}\\mid^{2}\\ .\\mid dE_{\\bot y}\\mid^{2} + \\mid\\frac{\\partial J_{h}}{\\partial E_{\\bot z}}\\mid^{2}\\ .\\mid dE_{\\bot z}\\mid^{2} + \\\\ + \\mid\\frac{\\partial J_{h}}{\\partial B_{x}}\\mid^{2}\\ .\\mid dB_{x}\\mid^{2} + \\mid\\frac{\\partial J_{h}}{\\partial B_{y}}\\mid^{2}\\ .\\mid dB_{y}\\mid^{2} + \\mid\\frac{\\partial J_{h}}{\\partial B_{z}}\\mid^{2}\\ .\\mid dB_{z}\\mid^{2} + \\\\ + \\mid\\frac{\\partial J_{h}}{\\partial U_{nx}}\\mid^{2}\\ .\\mid dU_{nx}\\mid^{2} + \\mid\\frac{\\partial J_{h}}{\\partial U_{ny}}\\mid^{2}\\ .\\mid dU_{ny}\\mid^{2} + \\mid\\frac{\\partial J_{h}}{\\partial U_{nz}}\\mid^{2}\\ .\\mid dU_{nz}\\mid^{2} + \\mid\\frac{\\partial J_{h}}{\\partial \\mid{B}\\mid}\\mid^{2}\\ .\\mid d{\\mid{B}\\mid} \\mid^{2}\n",
    "\\end{aligned}\\tag{5.2}$$\n",
    "\n",
    "Finally, the total current error is:\n",
    "$$\\begin{aligned}\n",
    "    \\mid{dJ}\\mid^{2} = \\mid\\frac{\\partial J}{\\partial \\sigma_{p}}\\mid^{2}\\ .\\mid d\\sigma_{p}\\mid^{2} + \\mid\\frac{\\partial J}{\\partial \\sigma_{h}}\\mid^{2}\\ .\\mid d\\sigma_{h}\\mid^{2} + \\mid\\frac{\\partial J}{\\partial E_{\\bot x}}\\mid^{2}\\ .\\mid dE_{\\bot x}\\mid^{2} + \\mid\\frac{\\partial J}{\\partial E_{\\bot y}}\\mid^{2}\\ .\\mid dE_{\\bot y}\\mid^{2} + \\mid\\frac{\\partial J}{\\partial E_{\\bot z}}\\mid^{2}\\ .\\mid dE_{\\bot z}\\mid^{2} + \\\\ + \\mid\\frac{\\partial J}{\\partial B_{x}}\\mid^{2}\\ .\\mid dB_{x}\\mid^{2} + \\mid\\frac{\\partial J}{\\partial B_{y}}\\mid^{2}\\ .\\mid dB_{y}\\mid^{2} + \\mid\\frac{\\partial J}{\\partial B_{z}}\\mid^{2}\\ .\\mid dB_{z}\\mid^{2} + \\\\ + \\mid\\frac{\\partial J}{\\partial U_{nx}}\\mid^{2}\\ .\\mid dU_{nx}\\mid^{2} + \\mid\\frac{\\partial J}{\\partial U_{ny}}\\mid^{2}\\ .\\mid dU_{ny}\\mid^{2} + \\mid\\frac{\\partial J}{\\partial U_{nz}}\\mid^{2}\\ .\\mid dU_{nz}\\mid^{2} + \\mid\\frac{\\partial J}{\\partial \\mid{B}\\mid}\\mid^{2}\\ .\\mid d{\\mid{B}\\mid} \\mid^{2}\n",
    "\\end{aligned}\\tag{5.3}$$\n",
    "\n",
    "\n",
    "\n",
    "### References\n",
    "<a class=\"anchor\" id=\"References\"></a>\n",
    "[1]Qian, Liying, et al. \"The NCAR TIE-GCM: A community model of the coupled thermosphere/ionosphere system.\" Modeling the ionosphere-thermosphere system 201 (2014): 73-83.<br>\n",
    "[2]Thébault, Erwan, et al. \"International geomagnetic reference field: the 12th generation.\" Earth, Planets and Space 67.1 (2015): 79.<br>\n",
    "[3]Schunk, R., & Nagy, A. (2000). Ionospheres: Physics, Plasma Physics, and Chemistry (Cambridge Atmospheric and Space Science Series). Cambridge: Cambridge University Press. doi:10.1017/CBO9780511551772<br>\n",
    "[4]Lu, G., Richmond, A. D., Emery, B. A., & Roble, R. G. (1995). Magnetosphere-ionosphere-thermosphere coupling: Effect of neutral winds on energy-transfer and field-aligned current. Journal Of Geophysical Research-Space Physics, 100, 19643-19659. doi:10.1029/95JA00766<br>\n",
    "[5]  Kirchner, James. \"Data Analysis Toolkit #5: Uncertainty Analysis and Error Propagation\" (PDF). Berkeley Seismology Laboratory. University of California. Retrieved 22 April 2016.<br>\n",
    "\n",
    "### 6. Code and Plots\n",
    "<a class=\"anchor\" id=\"Code-and-Plots\"></a>\n",
    "Run the following shell and make the desired choices to run the Code and see Plots"
   ]
  },
  {
   "cell_type": "code",
   "execution_count": 15,
   "metadata": {
    "scrolled": false
   },
   "outputs": [
    {
     "name": "stdout",
     "output_type": "stream",
     "text": [
      "GUI creating...\n"
     ]
    },
    {
     "data": {
      "application/vnd.jupyter.widget-view+json": {
       "model_id": "8333804245214055a6a67fbfb8159641",
       "version_major": 2,
       "version_minor": 0
      },
      "text/plain": [
       "VBox(children=(Tab(children=(VBox(children=(Dropdown(description='TIE-GCM files: ', layout=Layout(width='850px…"
      ]
     },
     "metadata": {},
     "output_type": "display_data"
    },
    {
     "name": "stdout",
     "output_type": "stream",
     "text": [
      "Calculation started...\n"
     ]
    },
    {
     "data": {
      "application/vnd.plotly.v1+json": {
       "config": {
        "plotlyServerURL": "https://plot.ly"
       },
       "data": [
        {
         "line": {
          "color": "red"
         },
         "mode": "lines",
         "name": "Pedersen",
         "type": "scatter",
         "x": [
          3.129376591671835e-05,
          5.025128834715226e-05,
          7.681525585250866e-05,
          0.00010995551430193197,
          0.00014388067871350848,
          0.00016771241879534382,
          0.00017153172077849057,
          0.0001546874287912542,
          0.00012588734824931226,
          9.53897186707874e-05,
          6.924699943991456e-05,
          4.916978617841179e-05,
          3.461443619994204e-05,
          2.4375247376666724e-05,
          1.727648785531728e-05,
          1.2362384799878445e-05,
          8.917745579713404e-06,
          6.598517198805413e-06,
          4.851441749737314e-06,
          3.4741654065510837e-06,
          2.529642795052231e-06,
          1.942193866553565e-06,
          1.631861996589706e-06,
          1.5068178653913172e-06,
          1.4759173826849361e-06,
          1.4637744628490817e-06,
          1.4215429150393839e-06,
          1.3305647559812434e-06,
          1.1961439149494677e-06
         ],
         "y": [
          105.98968,
          107.89062,
          110.03647,
          112.45457,
          115.16966,
          118.2009,
          121.56061,
          125.26039,
          129.31769,
          133.75335,
          138.58257,
          143.80797,
          149.41922,
          155.39804,
          161.72389,
          168.37786,
          175.34424,
          182.61102,
          190.16946,
          198.01382,
          206.14078,
          214.54912,
          223.2389,
          232.21076,
          241.46514,
          251.0014,
          260.8174,
          270.90916,
          281.27086
         ]
        },
        {
         "line": {
          "color": "blue"
         },
         "mode": "lines",
         "name": "Hall",
         "type": "scatter",
         "x": [
          0.0002229766559848735,
          0.00025127954078744036,
          0.0002692970500237738,
          0.00027070287409127424,
          0.00024976604235074,
          0.00020651176405596803,
          0.00015067165981540076,
          9.730204628272183e-05,
          5.687714498308881e-05,
          3.108723909267987e-05,
          1.6385161730205915e-05,
          8.519971601666261e-06,
          4.434901560947847e-06,
          2.3325600646150335e-06,
          1.247406156371852e-06,
          6.802312127601038e-07,
          3.774141791130442e-07,
          2.1599764348728593e-07,
          1.2355945200028106e-07,
          6.955826983136054e-08,
          4.0382218471306186e-08,
          2.5315983521201922e-08,
          1.7776034458362682e-08,
          1.377144532548967e-08,
          1.1141997100426142e-08,
          8.94746406811384e-09,
          6.934120860125169e-09,
          5.1366869822914365e-09,
          3.63935654557975e-09
         ],
         "y": [
          105.98968,
          107.89062,
          110.03647,
          112.45457,
          115.16966,
          118.2009,
          121.56061,
          125.26039,
          129.31769,
          133.75335,
          138.58257,
          143.80797,
          149.41922,
          155.39804,
          161.72389,
          168.37786,
          175.34424,
          182.61102,
          190.16946,
          198.01382,
          206.14078,
          214.54912,
          223.2389,
          232.21076,
          241.46514,
          251.0014,
          260.8174,
          270.90916,
          281.27086
         ]
        },
        {
         "line": {
          "color": "black"
         },
         "mode": "lines",
         "name": "Parallel",
         "type": "scatter",
         "x": [
          0.1378312537305549,
          0.20667895625439575,
          0.3004557819857581,
          0.4240666320634569,
          0.5817771317219258,
          0.7774252233739974,
          1.0153513484072993,
          1.301564194159542,
          1.644134301227685,
          2.052732907362724,
          2.537919294065649,
          3.110160364811448,
          3.7772061609436687,
          4.539509593858856,
          5.3895045914403,
          6.321157177002687,
          7.339033670895487,
          8.669895245608878,
          10.15480644069229,
          11.556461849213736,
          13.338465552154103,
          16.034830127681875,
          20.707228913577335,
          29.20774817397402,
          44.472774185718684,
          70.65301294039752,
          112.78670554919816,
          176.24110238645235,
          266.35667612807964
         ],
         "y": [
          105.98968,
          107.89062,
          110.03647,
          112.45457,
          115.16966,
          118.2009,
          121.56061,
          125.26039,
          129.31769,
          133.75335,
          138.58257,
          143.80797,
          149.41922,
          155.39804,
          161.72389,
          168.37786,
          175.34424,
          182.61102,
          190.16946,
          198.01382,
          206.14078,
          214.54912,
          223.2389,
          232.21076,
          241.46514,
          251.0014,
          260.8174,
          270.90916,
          281.27086
         ]
        }
       ],
       "layout": {
        "height": 750,
        "template": {
         "data": {
          "bar": [
           {
            "error_x": {
             "color": "#2a3f5f"
            },
            "error_y": {
             "color": "#2a3f5f"
            },
            "marker": {
             "line": {
              "color": "#E5ECF6",
              "width": 0.5
             }
            },
            "type": "bar"
           }
          ],
          "barpolar": [
           {
            "marker": {
             "line": {
              "color": "#E5ECF6",
              "width": 0.5
             }
            },
            "type": "barpolar"
           }
          ],
          "carpet": [
           {
            "aaxis": {
             "endlinecolor": "#2a3f5f",
             "gridcolor": "white",
             "linecolor": "white",
             "minorgridcolor": "white",
             "startlinecolor": "#2a3f5f"
            },
            "baxis": {
             "endlinecolor": "#2a3f5f",
             "gridcolor": "white",
             "linecolor": "white",
             "minorgridcolor": "white",
             "startlinecolor": "#2a3f5f"
            },
            "type": "carpet"
           }
          ],
          "choropleth": [
           {
            "colorbar": {
             "outlinewidth": 0,
             "ticks": ""
            },
            "type": "choropleth"
           }
          ],
          "contour": [
           {
            "colorbar": {
             "outlinewidth": 0,
             "ticks": ""
            },
            "colorscale": [
             [
              0,
              "#0d0887"
             ],
             [
              0.1111111111111111,
              "#46039f"
             ],
             [
              0.2222222222222222,
              "#7201a8"
             ],
             [
              0.3333333333333333,
              "#9c179e"
             ],
             [
              0.4444444444444444,
              "#bd3786"
             ],
             [
              0.5555555555555556,
              "#d8576b"
             ],
             [
              0.6666666666666666,
              "#ed7953"
             ],
             [
              0.7777777777777778,
              "#fb9f3a"
             ],
             [
              0.8888888888888888,
              "#fdca26"
             ],
             [
              1,
              "#f0f921"
             ]
            ],
            "type": "contour"
           }
          ],
          "contourcarpet": [
           {
            "colorbar": {
             "outlinewidth": 0,
             "ticks": ""
            },
            "type": "contourcarpet"
           }
          ],
          "heatmap": [
           {
            "colorbar": {
             "outlinewidth": 0,
             "ticks": ""
            },
            "colorscale": [
             [
              0,
              "#0d0887"
             ],
             [
              0.1111111111111111,
              "#46039f"
             ],
             [
              0.2222222222222222,
              "#7201a8"
             ],
             [
              0.3333333333333333,
              "#9c179e"
             ],
             [
              0.4444444444444444,
              "#bd3786"
             ],
             [
              0.5555555555555556,
              "#d8576b"
             ],
             [
              0.6666666666666666,
              "#ed7953"
             ],
             [
              0.7777777777777778,
              "#fb9f3a"
             ],
             [
              0.8888888888888888,
              "#fdca26"
             ],
             [
              1,
              "#f0f921"
             ]
            ],
            "type": "heatmap"
           }
          ],
          "heatmapgl": [
           {
            "colorbar": {
             "outlinewidth": 0,
             "ticks": ""
            },
            "colorscale": [
             [
              0,
              "#0d0887"
             ],
             [
              0.1111111111111111,
              "#46039f"
             ],
             [
              0.2222222222222222,
              "#7201a8"
             ],
             [
              0.3333333333333333,
              "#9c179e"
             ],
             [
              0.4444444444444444,
              "#bd3786"
             ],
             [
              0.5555555555555556,
              "#d8576b"
             ],
             [
              0.6666666666666666,
              "#ed7953"
             ],
             [
              0.7777777777777778,
              "#fb9f3a"
             ],
             [
              0.8888888888888888,
              "#fdca26"
             ],
             [
              1,
              "#f0f921"
             ]
            ],
            "type": "heatmapgl"
           }
          ],
          "histogram": [
           {
            "marker": {
             "colorbar": {
              "outlinewidth": 0,
              "ticks": ""
             }
            },
            "type": "histogram"
           }
          ],
          "histogram2d": [
           {
            "colorbar": {
             "outlinewidth": 0,
             "ticks": ""
            },
            "colorscale": [
             [
              0,
              "#0d0887"
             ],
             [
              0.1111111111111111,
              "#46039f"
             ],
             [
              0.2222222222222222,
              "#7201a8"
             ],
             [
              0.3333333333333333,
              "#9c179e"
             ],
             [
              0.4444444444444444,
              "#bd3786"
             ],
             [
              0.5555555555555556,
              "#d8576b"
             ],
             [
              0.6666666666666666,
              "#ed7953"
             ],
             [
              0.7777777777777778,
              "#fb9f3a"
             ],
             [
              0.8888888888888888,
              "#fdca26"
             ],
             [
              1,
              "#f0f921"
             ]
            ],
            "type": "histogram2d"
           }
          ],
          "histogram2dcontour": [
           {
            "colorbar": {
             "outlinewidth": 0,
             "ticks": ""
            },
            "colorscale": [
             [
              0,
              "#0d0887"
             ],
             [
              0.1111111111111111,
              "#46039f"
             ],
             [
              0.2222222222222222,
              "#7201a8"
             ],
             [
              0.3333333333333333,
              "#9c179e"
             ],
             [
              0.4444444444444444,
              "#bd3786"
             ],
             [
              0.5555555555555556,
              "#d8576b"
             ],
             [
              0.6666666666666666,
              "#ed7953"
             ],
             [
              0.7777777777777778,
              "#fb9f3a"
             ],
             [
              0.8888888888888888,
              "#fdca26"
             ],
             [
              1,
              "#f0f921"
             ]
            ],
            "type": "histogram2dcontour"
           }
          ],
          "mesh3d": [
           {
            "colorbar": {
             "outlinewidth": 0,
             "ticks": ""
            },
            "type": "mesh3d"
           }
          ],
          "parcoords": [
           {
            "line": {
             "colorbar": {
              "outlinewidth": 0,
              "ticks": ""
             }
            },
            "type": "parcoords"
           }
          ],
          "pie": [
           {
            "automargin": true,
            "type": "pie"
           }
          ],
          "scatter": [
           {
            "marker": {
             "colorbar": {
              "outlinewidth": 0,
              "ticks": ""
             }
            },
            "type": "scatter"
           }
          ],
          "scatter3d": [
           {
            "line": {
             "colorbar": {
              "outlinewidth": 0,
              "ticks": ""
             }
            },
            "marker": {
             "colorbar": {
              "outlinewidth": 0,
              "ticks": ""
             }
            },
            "type": "scatter3d"
           }
          ],
          "scattercarpet": [
           {
            "marker": {
             "colorbar": {
              "outlinewidth": 0,
              "ticks": ""
             }
            },
            "type": "scattercarpet"
           }
          ],
          "scattergeo": [
           {
            "marker": {
             "colorbar": {
              "outlinewidth": 0,
              "ticks": ""
             }
            },
            "type": "scattergeo"
           }
          ],
          "scattergl": [
           {
            "marker": {
             "colorbar": {
              "outlinewidth": 0,
              "ticks": ""
             }
            },
            "type": "scattergl"
           }
          ],
          "scattermapbox": [
           {
            "marker": {
             "colorbar": {
              "outlinewidth": 0,
              "ticks": ""
             }
            },
            "type": "scattermapbox"
           }
          ],
          "scatterpolar": [
           {
            "marker": {
             "colorbar": {
              "outlinewidth": 0,
              "ticks": ""
             }
            },
            "type": "scatterpolar"
           }
          ],
          "scatterpolargl": [
           {
            "marker": {
             "colorbar": {
              "outlinewidth": 0,
              "ticks": ""
             }
            },
            "type": "scatterpolargl"
           }
          ],
          "scatterternary": [
           {
            "marker": {
             "colorbar": {
              "outlinewidth": 0,
              "ticks": ""
             }
            },
            "type": "scatterternary"
           }
          ],
          "surface": [
           {
            "colorbar": {
             "outlinewidth": 0,
             "ticks": ""
            },
            "colorscale": [
             [
              0,
              "#0d0887"
             ],
             [
              0.1111111111111111,
              "#46039f"
             ],
             [
              0.2222222222222222,
              "#7201a8"
             ],
             [
              0.3333333333333333,
              "#9c179e"
             ],
             [
              0.4444444444444444,
              "#bd3786"
             ],
             [
              0.5555555555555556,
              "#d8576b"
             ],
             [
              0.6666666666666666,
              "#ed7953"
             ],
             [
              0.7777777777777778,
              "#fb9f3a"
             ],
             [
              0.8888888888888888,
              "#fdca26"
             ],
             [
              1,
              "#f0f921"
             ]
            ],
            "type": "surface"
           }
          ],
          "table": [
           {
            "cells": {
             "fill": {
              "color": "#EBF0F8"
             },
             "line": {
              "color": "white"
             }
            },
            "header": {
             "fill": {
              "color": "#C8D4E3"
             },
             "line": {
              "color": "white"
             }
            },
            "type": "table"
           }
          ]
         },
         "layout": {
          "annotationdefaults": {
           "arrowcolor": "#2a3f5f",
           "arrowhead": 0,
           "arrowwidth": 1
          },
          "coloraxis": {
           "colorbar": {
            "outlinewidth": 0,
            "ticks": ""
           }
          },
          "colorscale": {
           "diverging": [
            [
             0,
             "#8e0152"
            ],
            [
             0.1,
             "#c51b7d"
            ],
            [
             0.2,
             "#de77ae"
            ],
            [
             0.3,
             "#f1b6da"
            ],
            [
             0.4,
             "#fde0ef"
            ],
            [
             0.5,
             "#f7f7f7"
            ],
            [
             0.6,
             "#e6f5d0"
            ],
            [
             0.7,
             "#b8e186"
            ],
            [
             0.8,
             "#7fbc41"
            ],
            [
             0.9,
             "#4d9221"
            ],
            [
             1,
             "#276419"
            ]
           ],
           "sequential": [
            [
             0,
             "#0d0887"
            ],
            [
             0.1111111111111111,
             "#46039f"
            ],
            [
             0.2222222222222222,
             "#7201a8"
            ],
            [
             0.3333333333333333,
             "#9c179e"
            ],
            [
             0.4444444444444444,
             "#bd3786"
            ],
            [
             0.5555555555555556,
             "#d8576b"
            ],
            [
             0.6666666666666666,
             "#ed7953"
            ],
            [
             0.7777777777777778,
             "#fb9f3a"
            ],
            [
             0.8888888888888888,
             "#fdca26"
            ],
            [
             1,
             "#f0f921"
            ]
           ],
           "sequentialminus": [
            [
             0,
             "#0d0887"
            ],
            [
             0.1111111111111111,
             "#46039f"
            ],
            [
             0.2222222222222222,
             "#7201a8"
            ],
            [
             0.3333333333333333,
             "#9c179e"
            ],
            [
             0.4444444444444444,
             "#bd3786"
            ],
            [
             0.5555555555555556,
             "#d8576b"
            ],
            [
             0.6666666666666666,
             "#ed7953"
            ],
            [
             0.7777777777777778,
             "#fb9f3a"
            ],
            [
             0.8888888888888888,
             "#fdca26"
            ],
            [
             1,
             "#f0f921"
            ]
           ]
          },
          "colorway": [
           "#636efa",
           "#EF553B",
           "#00cc96",
           "#ab63fa",
           "#FFA15A",
           "#19d3f3",
           "#FF6692",
           "#B6E880",
           "#FF97FF",
           "#FECB52"
          ],
          "font": {
           "color": "#2a3f5f"
          },
          "geo": {
           "bgcolor": "white",
           "lakecolor": "white",
           "landcolor": "#E5ECF6",
           "showlakes": true,
           "showland": true,
           "subunitcolor": "white"
          },
          "hoverlabel": {
           "align": "left"
          },
          "hovermode": "closest",
          "mapbox": {
           "style": "light"
          },
          "paper_bgcolor": "white",
          "plot_bgcolor": "#E5ECF6",
          "polar": {
           "angularaxis": {
            "gridcolor": "white",
            "linecolor": "white",
            "ticks": ""
           },
           "bgcolor": "#E5ECF6",
           "radialaxis": {
            "gridcolor": "white",
            "linecolor": "white",
            "ticks": ""
           }
          },
          "scene": {
           "xaxis": {
            "backgroundcolor": "#E5ECF6",
            "gridcolor": "white",
            "gridwidth": 2,
            "linecolor": "white",
            "showbackground": true,
            "ticks": "",
            "zerolinecolor": "white"
           },
           "yaxis": {
            "backgroundcolor": "#E5ECF6",
            "gridcolor": "white",
            "gridwidth": 2,
            "linecolor": "white",
            "showbackground": true,
            "ticks": "",
            "zerolinecolor": "white"
           },
           "zaxis": {
            "backgroundcolor": "#E5ECF6",
            "gridcolor": "white",
            "gridwidth": 2,
            "linecolor": "white",
            "showbackground": true,
            "ticks": "",
            "zerolinecolor": "white"
           }
          },
          "shapedefaults": {
           "line": {
            "color": "#2a3f5f"
           }
          },
          "ternary": {
           "aaxis": {
            "gridcolor": "white",
            "linecolor": "white",
            "ticks": ""
           },
           "baxis": {
            "gridcolor": "white",
            "linecolor": "white",
            "ticks": ""
           },
           "bgcolor": "#E5ECF6",
           "caxis": {
            "gridcolor": "white",
            "linecolor": "white",
            "ticks": ""
           }
          },
          "title": {
           "x": 0.05
          },
          "xaxis": {
           "automargin": true,
           "gridcolor": "white",
           "linecolor": "white",
           "ticks": "",
           "title": {
            "standoff": 15
           },
           "zerolinecolor": "white",
           "zerolinewidth": 2
          },
          "yaxis": {
           "automargin": true,
           "gridcolor": "white",
           "linecolor": "white",
           "ticks": "",
           "title": {
            "standoff": 15
           },
           "zerolinecolor": "white",
           "zerolinewidth": 2
          }
         }
        },
        "title": {
         "text": "Conductivities ,Lat: 63.75, Lon: 15.0, 2015-03-15 00:05:00",
         "x": 0.5,
         "xanchor": "center",
         "y": 0.9,
         "yanchor": "top"
        },
        "width": 750,
        "xaxis": {
         "exponentformat": "power",
         "gridcolor": "grey",
         "gridwidth": 0.5,
         "linecolor": "black",
         "linewidth": 2,
         "mirror": true,
         "showexponent": "all",
         "showgrid": true,
         "showline": true,
         "title": {
          "text": "Conductivity S/m"
         },
         "type": "log"
        },
        "yaxis": {
         "gridcolor": "grey",
         "gridwidth": 0.5,
         "linecolor": "black",
         "linewidth": 2,
         "mirror": true,
         "showgrid": true,
         "showline": true,
         "tickmode": "array",
         "tickvals": [
          100,
          120,
          140,
          160,
          180,
          200,
          220,
          240,
          260,
          280,
          300,
          320,
          340,
          360,
          380,
          400,
          420,
          440,
          460,
          480,
          500
         ],
         "title": {
          "text": "Altitude (km)"
         }
        }
       }
      },
      "text/html": [
       "<div>\n",
       "        \n",
       "        \n",
       "            <div id=\"367f6cff-a153-4e8a-a3c9-88fd042a6776\" class=\"plotly-graph-div\" style=\"height:750px; width:750px;\"></div>\n",
       "            <script type=\"text/javascript\">\n",
       "                require([\"plotly\"], function(Plotly) {\n",
       "                    window.PLOTLYENV=window.PLOTLYENV || {};\n",
       "                    \n",
       "                if (document.getElementById(\"367f6cff-a153-4e8a-a3c9-88fd042a6776\")) {\n",
       "                    Plotly.newPlot(\n",
       "                        '367f6cff-a153-4e8a-a3c9-88fd042a6776',\n",
       "                        [{\"line\": {\"color\": \"red\"}, \"mode\": \"lines\", \"name\": \"Pedersen\", \"type\": \"scatter\", \"x\": [3.129376591671835e-05, 5.025128834715226e-05, 7.681525585250866e-05, 0.00010995551430193197, 0.00014388067871350848, 0.00016771241879534382, 0.00017153172077849057, 0.0001546874287912542, 0.00012588734824931226, 9.53897186707874e-05, 6.924699943991456e-05, 4.916978617841179e-05, 3.461443619994204e-05, 2.4375247376666724e-05, 1.727648785531728e-05, 1.2362384799878445e-05, 8.917745579713404e-06, 6.598517198805413e-06, 4.851441749737314e-06, 3.4741654065510837e-06, 2.529642795052231e-06, 1.942193866553565e-06, 1.631861996589706e-06, 1.5068178653913172e-06, 1.4759173826849361e-06, 1.4637744628490817e-06, 1.4215429150393839e-06, 1.3305647559812434e-06, 1.1961439149494677e-06], \"y\": [105.98968, 107.89062, 110.03647, 112.45457, 115.16966, 118.2009, 121.56061, 125.26039, 129.31769, 133.75335, 138.58257, 143.80797, 149.41922, 155.39804, 161.72389, 168.37786, 175.34424, 182.61102, 190.16946, 198.01382, 206.14078, 214.54912, 223.2389, 232.21076, 241.46514, 251.0014, 260.8174, 270.90916, 281.27086]}, {\"line\": {\"color\": \"blue\"}, \"mode\": \"lines\", \"name\": \"Hall\", \"type\": \"scatter\", \"x\": [0.0002229766559848735, 0.00025127954078744036, 0.0002692970500237738, 0.00027070287409127424, 0.00024976604235074, 0.00020651176405596803, 0.00015067165981540076, 9.730204628272183e-05, 5.687714498308881e-05, 3.108723909267987e-05, 1.6385161730205915e-05, 8.519971601666261e-06, 4.434901560947847e-06, 2.3325600646150335e-06, 1.247406156371852e-06, 6.802312127601038e-07, 3.774141791130442e-07, 2.1599764348728593e-07, 1.2355945200028106e-07, 6.955826983136054e-08, 4.0382218471306186e-08, 2.5315983521201922e-08, 1.7776034458362682e-08, 1.377144532548967e-08, 1.1141997100426142e-08, 8.94746406811384e-09, 6.934120860125169e-09, 5.1366869822914365e-09, 3.63935654557975e-09], \"y\": [105.98968, 107.89062, 110.03647, 112.45457, 115.16966, 118.2009, 121.56061, 125.26039, 129.31769, 133.75335, 138.58257, 143.80797, 149.41922, 155.39804, 161.72389, 168.37786, 175.34424, 182.61102, 190.16946, 198.01382, 206.14078, 214.54912, 223.2389, 232.21076, 241.46514, 251.0014, 260.8174, 270.90916, 281.27086]}, {\"line\": {\"color\": \"black\"}, \"mode\": \"lines\", \"name\": \"Parallel\", \"type\": \"scatter\", \"x\": [0.1378312537305549, 0.20667895625439575, 0.3004557819857581, 0.4240666320634569, 0.5817771317219258, 0.7774252233739974, 1.0153513484072993, 1.301564194159542, 1.644134301227685, 2.052732907362724, 2.537919294065649, 3.110160364811448, 3.7772061609436687, 4.539509593858856, 5.3895045914403, 6.321157177002687, 7.339033670895487, 8.669895245608878, 10.15480644069229, 11.556461849213736, 13.338465552154103, 16.034830127681875, 20.707228913577335, 29.20774817397402, 44.472774185718684, 70.65301294039752, 112.78670554919816, 176.24110238645235, 266.35667612807964], \"y\": [105.98968, 107.89062, 110.03647, 112.45457, 115.16966, 118.2009, 121.56061, 125.26039, 129.31769, 133.75335, 138.58257, 143.80797, 149.41922, 155.39804, 161.72389, 168.37786, 175.34424, 182.61102, 190.16946, 198.01382, 206.14078, 214.54912, 223.2389, 232.21076, 241.46514, 251.0014, 260.8174, 270.90916, 281.27086]}],\n",
       "                        {\"height\": 750, \"template\": {\"data\": {\"bar\": [{\"error_x\": {\"color\": \"#2a3f5f\"}, \"error_y\": {\"color\": \"#2a3f5f\"}, \"marker\": {\"line\": {\"color\": \"#E5ECF6\", \"width\": 0.5}}, \"type\": \"bar\"}], \"barpolar\": [{\"marker\": {\"line\": {\"color\": \"#E5ECF6\", \"width\": 0.5}}, \"type\": \"barpolar\"}], \"carpet\": [{\"aaxis\": {\"endlinecolor\": \"#2a3f5f\", \"gridcolor\": \"white\", \"linecolor\": \"white\", \"minorgridcolor\": \"white\", \"startlinecolor\": \"#2a3f5f\"}, \"baxis\": {\"endlinecolor\": \"#2a3f5f\", \"gridcolor\": \"white\", \"linecolor\": \"white\", \"minorgridcolor\": \"white\", \"startlinecolor\": \"#2a3f5f\"}, \"type\": \"carpet\"}], \"choropleth\": [{\"colorbar\": {\"outlinewidth\": 0, \"ticks\": \"\"}, \"type\": \"choropleth\"}], \"contour\": [{\"colorbar\": {\"outlinewidth\": 0, \"ticks\": \"\"}, \"colorscale\": [[0.0, \"#0d0887\"], [0.1111111111111111, \"#46039f\"], [0.2222222222222222, \"#7201a8\"], [0.3333333333333333, \"#9c179e\"], [0.4444444444444444, \"#bd3786\"], [0.5555555555555556, \"#d8576b\"], [0.6666666666666666, \"#ed7953\"], [0.7777777777777778, \"#fb9f3a\"], [0.8888888888888888, \"#fdca26\"], [1.0, \"#f0f921\"]], \"type\": \"contour\"}], \"contourcarpet\": [{\"colorbar\": {\"outlinewidth\": 0, \"ticks\": \"\"}, \"type\": \"contourcarpet\"}], \"heatmap\": [{\"colorbar\": {\"outlinewidth\": 0, \"ticks\": \"\"}, \"colorscale\": [[0.0, \"#0d0887\"], [0.1111111111111111, \"#46039f\"], [0.2222222222222222, \"#7201a8\"], [0.3333333333333333, \"#9c179e\"], [0.4444444444444444, \"#bd3786\"], [0.5555555555555556, \"#d8576b\"], [0.6666666666666666, \"#ed7953\"], [0.7777777777777778, \"#fb9f3a\"], [0.8888888888888888, \"#fdca26\"], [1.0, \"#f0f921\"]], \"type\": \"heatmap\"}], \"heatmapgl\": [{\"colorbar\": {\"outlinewidth\": 0, \"ticks\": \"\"}, \"colorscale\": [[0.0, \"#0d0887\"], [0.1111111111111111, \"#46039f\"], [0.2222222222222222, \"#7201a8\"], [0.3333333333333333, \"#9c179e\"], [0.4444444444444444, \"#bd3786\"], [0.5555555555555556, \"#d8576b\"], [0.6666666666666666, \"#ed7953\"], [0.7777777777777778, \"#fb9f3a\"], [0.8888888888888888, \"#fdca26\"], [1.0, \"#f0f921\"]], \"type\": \"heatmapgl\"}], \"histogram\": [{\"marker\": {\"colorbar\": {\"outlinewidth\": 0, \"ticks\": \"\"}}, \"type\": \"histogram\"}], \"histogram2d\": [{\"colorbar\": {\"outlinewidth\": 0, \"ticks\": \"\"}, \"colorscale\": [[0.0, \"#0d0887\"], [0.1111111111111111, \"#46039f\"], [0.2222222222222222, \"#7201a8\"], [0.3333333333333333, \"#9c179e\"], [0.4444444444444444, \"#bd3786\"], [0.5555555555555556, \"#d8576b\"], [0.6666666666666666, \"#ed7953\"], [0.7777777777777778, \"#fb9f3a\"], [0.8888888888888888, \"#fdca26\"], [1.0, \"#f0f921\"]], \"type\": \"histogram2d\"}], \"histogram2dcontour\": [{\"colorbar\": {\"outlinewidth\": 0, \"ticks\": \"\"}, \"colorscale\": [[0.0, \"#0d0887\"], [0.1111111111111111, \"#46039f\"], [0.2222222222222222, \"#7201a8\"], [0.3333333333333333, \"#9c179e\"], [0.4444444444444444, \"#bd3786\"], [0.5555555555555556, \"#d8576b\"], [0.6666666666666666, \"#ed7953\"], [0.7777777777777778, \"#fb9f3a\"], [0.8888888888888888, \"#fdca26\"], [1.0, \"#f0f921\"]], \"type\": \"histogram2dcontour\"}], \"mesh3d\": [{\"colorbar\": {\"outlinewidth\": 0, \"ticks\": \"\"}, \"type\": \"mesh3d\"}], \"parcoords\": [{\"line\": {\"colorbar\": {\"outlinewidth\": 0, \"ticks\": \"\"}}, \"type\": \"parcoords\"}], \"pie\": [{\"automargin\": true, \"type\": \"pie\"}], \"scatter\": [{\"marker\": {\"colorbar\": {\"outlinewidth\": 0, \"ticks\": \"\"}}, \"type\": \"scatter\"}], \"scatter3d\": [{\"line\": {\"colorbar\": {\"outlinewidth\": 0, \"ticks\": \"\"}}, \"marker\": {\"colorbar\": {\"outlinewidth\": 0, \"ticks\": \"\"}}, \"type\": \"scatter3d\"}], \"scattercarpet\": [{\"marker\": {\"colorbar\": {\"outlinewidth\": 0, \"ticks\": \"\"}}, \"type\": \"scattercarpet\"}], \"scattergeo\": [{\"marker\": {\"colorbar\": {\"outlinewidth\": 0, \"ticks\": \"\"}}, \"type\": \"scattergeo\"}], \"scattergl\": [{\"marker\": {\"colorbar\": {\"outlinewidth\": 0, \"ticks\": \"\"}}, \"type\": \"scattergl\"}], \"scattermapbox\": [{\"marker\": {\"colorbar\": {\"outlinewidth\": 0, \"ticks\": \"\"}}, \"type\": \"scattermapbox\"}], \"scatterpolar\": [{\"marker\": {\"colorbar\": {\"outlinewidth\": 0, \"ticks\": \"\"}}, \"type\": \"scatterpolar\"}], \"scatterpolargl\": [{\"marker\": {\"colorbar\": {\"outlinewidth\": 0, \"ticks\": \"\"}}, \"type\": \"scatterpolargl\"}], \"scatterternary\": [{\"marker\": {\"colorbar\": {\"outlinewidth\": 0, \"ticks\": \"\"}}, \"type\": \"scatterternary\"}], \"surface\": [{\"colorbar\": {\"outlinewidth\": 0, \"ticks\": \"\"}, \"colorscale\": [[0.0, \"#0d0887\"], [0.1111111111111111, \"#46039f\"], [0.2222222222222222, \"#7201a8\"], [0.3333333333333333, \"#9c179e\"], [0.4444444444444444, \"#bd3786\"], [0.5555555555555556, \"#d8576b\"], [0.6666666666666666, \"#ed7953\"], [0.7777777777777778, \"#fb9f3a\"], [0.8888888888888888, \"#fdca26\"], [1.0, \"#f0f921\"]], \"type\": \"surface\"}], \"table\": [{\"cells\": {\"fill\": {\"color\": \"#EBF0F8\"}, \"line\": {\"color\": \"white\"}}, \"header\": {\"fill\": {\"color\": \"#C8D4E3\"}, \"line\": {\"color\": \"white\"}}, \"type\": \"table\"}]}, \"layout\": {\"annotationdefaults\": {\"arrowcolor\": \"#2a3f5f\", \"arrowhead\": 0, \"arrowwidth\": 1}, \"coloraxis\": {\"colorbar\": {\"outlinewidth\": 0, \"ticks\": \"\"}}, \"colorscale\": {\"diverging\": [[0, \"#8e0152\"], [0.1, \"#c51b7d\"], [0.2, \"#de77ae\"], [0.3, \"#f1b6da\"], [0.4, \"#fde0ef\"], [0.5, \"#f7f7f7\"], [0.6, \"#e6f5d0\"], [0.7, \"#b8e186\"], [0.8, \"#7fbc41\"], [0.9, \"#4d9221\"], [1, \"#276419\"]], \"sequential\": [[0.0, \"#0d0887\"], [0.1111111111111111, \"#46039f\"], [0.2222222222222222, \"#7201a8\"], [0.3333333333333333, \"#9c179e\"], [0.4444444444444444, \"#bd3786\"], [0.5555555555555556, \"#d8576b\"], [0.6666666666666666, \"#ed7953\"], [0.7777777777777778, \"#fb9f3a\"], [0.8888888888888888, \"#fdca26\"], [1.0, \"#f0f921\"]], \"sequentialminus\": [[0.0, \"#0d0887\"], [0.1111111111111111, \"#46039f\"], [0.2222222222222222, \"#7201a8\"], [0.3333333333333333, \"#9c179e\"], [0.4444444444444444, \"#bd3786\"], [0.5555555555555556, \"#d8576b\"], [0.6666666666666666, \"#ed7953\"], [0.7777777777777778, \"#fb9f3a\"], [0.8888888888888888, \"#fdca26\"], [1.0, \"#f0f921\"]]}, \"colorway\": [\"#636efa\", \"#EF553B\", \"#00cc96\", \"#ab63fa\", \"#FFA15A\", \"#19d3f3\", \"#FF6692\", \"#B6E880\", \"#FF97FF\", \"#FECB52\"], \"font\": {\"color\": \"#2a3f5f\"}, \"geo\": {\"bgcolor\": \"white\", \"lakecolor\": \"white\", \"landcolor\": \"#E5ECF6\", \"showlakes\": true, \"showland\": true, \"subunitcolor\": \"white\"}, \"hoverlabel\": {\"align\": \"left\"}, \"hovermode\": \"closest\", \"mapbox\": {\"style\": \"light\"}, \"paper_bgcolor\": \"white\", \"plot_bgcolor\": \"#E5ECF6\", \"polar\": {\"angularaxis\": {\"gridcolor\": \"white\", \"linecolor\": \"white\", \"ticks\": \"\"}, \"bgcolor\": \"#E5ECF6\", \"radialaxis\": {\"gridcolor\": \"white\", \"linecolor\": \"white\", \"ticks\": \"\"}}, \"scene\": {\"xaxis\": {\"backgroundcolor\": \"#E5ECF6\", \"gridcolor\": \"white\", \"gridwidth\": 2, \"linecolor\": \"white\", \"showbackground\": true, \"ticks\": \"\", \"zerolinecolor\": \"white\"}, \"yaxis\": {\"backgroundcolor\": \"#E5ECF6\", \"gridcolor\": \"white\", \"gridwidth\": 2, \"linecolor\": \"white\", \"showbackground\": true, \"ticks\": \"\", \"zerolinecolor\": \"white\"}, \"zaxis\": {\"backgroundcolor\": \"#E5ECF6\", \"gridcolor\": \"white\", \"gridwidth\": 2, \"linecolor\": \"white\", \"showbackground\": true, \"ticks\": \"\", \"zerolinecolor\": \"white\"}}, \"shapedefaults\": {\"line\": {\"color\": \"#2a3f5f\"}}, \"ternary\": {\"aaxis\": {\"gridcolor\": \"white\", \"linecolor\": \"white\", \"ticks\": \"\"}, \"baxis\": {\"gridcolor\": \"white\", \"linecolor\": \"white\", \"ticks\": \"\"}, \"bgcolor\": \"#E5ECF6\", \"caxis\": {\"gridcolor\": \"white\", \"linecolor\": \"white\", \"ticks\": \"\"}}, \"title\": {\"x\": 0.05}, \"xaxis\": {\"automargin\": true, \"gridcolor\": \"white\", \"linecolor\": \"white\", \"ticks\": \"\", \"title\": {\"standoff\": 15}, \"zerolinecolor\": \"white\", \"zerolinewidth\": 2}, \"yaxis\": {\"automargin\": true, \"gridcolor\": \"white\", \"linecolor\": \"white\", \"ticks\": \"\", \"title\": {\"standoff\": 15}, \"zerolinecolor\": \"white\", \"zerolinewidth\": 2}}}, \"title\": {\"text\": \"Conductivities ,Lat: 63.75, Lon: 15.0, 2015-03-15 00:05:00\", \"x\": 0.5, \"xanchor\": \"center\", \"y\": 0.9, \"yanchor\": \"top\"}, \"width\": 750, \"xaxis\": {\"exponentformat\": \"power\", \"gridcolor\": \"grey\", \"gridwidth\": 0.5, \"linecolor\": \"black\", \"linewidth\": 2, \"mirror\": true, \"showexponent\": \"all\", \"showgrid\": true, \"showline\": true, \"title\": {\"text\": \"Conductivity S/m\"}, \"type\": \"log\"}, \"yaxis\": {\"gridcolor\": \"grey\", \"gridwidth\": 0.5, \"linecolor\": \"black\", \"linewidth\": 2, \"mirror\": true, \"showgrid\": true, \"showline\": true, \"tickmode\": \"array\", \"tickvals\": [100, 120, 140, 160, 180, 200, 220, 240, 260, 280, 300, 320, 340, 360, 380, 400, 420, 440, 460, 480, 500], \"title\": {\"text\": \"Altitude (km)\"}}},\n",
       "                        {\"responsive\": true}\n",
       "                    ).then(function(){\n",
       "                            \n",
       "var gd = document.getElementById('367f6cff-a153-4e8a-a3c9-88fd042a6776');\n",
       "var x = new MutationObserver(function (mutations, observer) {{\n",
       "        var display = window.getComputedStyle(gd).display;\n",
       "        if (!display || display === 'none') {{\n",
       "            console.log([gd, 'removed!']);\n",
       "            Plotly.purge(gd);\n",
       "            observer.disconnect();\n",
       "        }}\n",
       "}});\n",
       "\n",
       "// Listen for the removal of the full notebook cells\n",
       "var notebookContainer = gd.closest('#notebook-container');\n",
       "if (notebookContainer) {{\n",
       "    x.observe(notebookContainer, {childList: true});\n",
       "}}\n",
       "\n",
       "// Listen for the clearing of the current output cell\n",
       "var outputEl = gd.closest('.output');\n",
       "if (outputEl) {{\n",
       "    x.observe(outputEl, {childList: true});\n",
       "}}\n",
       "\n",
       "                        })\n",
       "                };\n",
       "                });\n",
       "            </script>\n",
       "        </div>"
      ]
     },
     "metadata": {},
     "output_type": "display_data"
    },
    {
     "data": {
      "application/vnd.plotly.v1+json": {
       "config": {
        "plotlyServerURL": "https://plot.ly"
       },
       "data": [
        {
         "line": {
          "color": "orange"
         },
         "mode": "lines",
         "name": "$ν_e$",
         "type": "scatter",
         "x": [
          14440.633404319284,
          11059.30049913659,
          8469.277851378041,
          6491.413247641607,
          4985.076344534048,
          3838.2818053860387,
          2962.255008513483,
          2288.8885674805947,
          1768.1229656298729,
          1364.1048585865872,
          1050.9870793203563,
          809.5748722920032,
          625.2490944799792,
          486.4919108904431,
          383.365970421304,
          306.57586637832446,
          247.94699933343213,
          201.31894683567512,
          163.0725653366467,
          131.26711560919318,
          104.56766713905996,
          82.24643923197505,
          63.82058692097809,
          48.90383565365258,
          37.11771307226595,
          27.999340601436074,
          21.05460854086172,
          15.818717304517879,
          11.893847281295187
         ],
         "y": [
          105.98968,
          107.89062,
          110.03647,
          112.45457,
          115.16966,
          118.2009,
          121.56061,
          125.26039,
          129.31769,
          133.75335,
          138.58257,
          143.80797,
          149.41922,
          155.39804,
          161.72389,
          168.37786,
          175.34424,
          182.61102,
          190.16946,
          198.01382,
          206.14078,
          214.54912,
          223.2389,
          232.21076,
          241.46514,
          251.0014,
          260.8174,
          270.90916,
          281.27086
         ]
        },
        {
         "line": {
          "color": "cyan"
         },
         "mode": "lines",
         "name": "$ν_{O_2^+}$",
         "type": "scatter",
         "x": [
          1082.9176480693648,
          755.266589815398,
          527.5163570835934,
          369.520715306944,
          260.0583807455106,
          184.16375710339057,
          131.16288126689454,
          93.76400897000985,
          67.2107536726687,
          48.35371690308476,
          34.98154054514383,
          25.484770448900992,
          18.7012604553815,
          13.814201086777382,
          10.260948920871499,
          7.65575728881905,
          5.732209162232088,
          4.30383413393709,
          3.2384043039457544,
          2.4408081743666648,
          1.8420512313103137,
          1.3916259648681395,
          1.05228419757939,
          0.7963745807008764,
          0.6032518635226478,
          0.45743053673317724,
          0.3472602130311433,
          0.2639630516952437,
          0.20092372576527276
         ],
         "y": [
          105.98968,
          107.89062,
          110.03647,
          112.45457,
          115.16966,
          118.2009,
          121.56061,
          125.26039,
          129.31769,
          133.75335,
          138.58257,
          143.80797,
          149.41922,
          155.39804,
          161.72389,
          168.37786,
          175.34424,
          182.61102,
          190.16946,
          198.01382,
          206.14078,
          214.54912,
          223.2389,
          232.21076,
          241.46514,
          251.0014,
          260.8174,
          270.90916,
          281.27086
         ]
        },
        {
         "line": {
          "color": "yellow"
         },
         "mode": "lines",
         "name": "$ν_{O^+}$",
         "type": "scatter",
         "x": [
          1945.3424775874805,
          1360.3078750584834,
          955.6548281608294,
          675.6720820413124,
          481.5377786504768,
          346.34206613631403,
          251.25807939529844,
          183.5722087215142,
          134.99027387463252,
          99.99644359501747,
          74.71710197215197,
          56.34472642271342,
          42.860808334992385,
          32.848696280910225,
          25.329802908893583,
          19.627940496868064,
          15.270109933099977,
          11.917290551881704,
          9.326055466676088,
          7.313692016312766,
          5.745097953977074,
          4.518339775403264,
          3.556220615163347,
          2.799938224934057,
          2.2044486238193812,
          1.735063766295047,
          1.364895636875921,
          1.0729517623977172,
          0.8427572060182283
         ],
         "y": [
          105.98968,
          107.89062,
          110.03647,
          112.45457,
          115.16966,
          118.2009,
          121.56061,
          125.26039,
          129.31769,
          133.75335,
          138.58257,
          143.80797,
          149.41922,
          155.39804,
          161.72389,
          168.37786,
          175.34424,
          182.61102,
          190.16946,
          198.01382,
          206.14078,
          214.54912,
          223.2389,
          232.21076,
          241.46514,
          251.0014,
          260.8174,
          270.90916,
          281.27086
         ]
        },
        {
         "line": {
          "color": "purple"
         },
         "mode": "lines",
         "name": "$Ω_{e}$",
         "type": "scatter",
         "x": [
          8757941.009033017,
          8750934.70309793,
          8743033.928729085,
          8734141.167411393,
          8724169.325781798,
          8713052.724232491,
          8700751.667959854,
          8687229.974386105,
          8672431.077119706,
          8656287.2773324,
          8638752.751047073,
          8619828.511938775,
          8599563.188329335,
          8578034.336728938,
          8555327.506319145,
          8531522.082542362,
          8506685.673963593,
          8480872.438836869,
          8454124.767780697,
          8426474.397713033,
          8397944.613114735,
          8368551.509424364,
          8338306.979513324,
          8307221.220831991,
          8275305.45733409,
          8242574.928966972,
          8209050.2222162755,
          8174758.278806844,
          8139732.213135719
         ],
         "y": [
          105.98968,
          107.89062,
          110.03647,
          112.45457,
          115.16966,
          118.2009,
          121.56061,
          125.26039,
          129.31769,
          133.75335,
          138.58257,
          143.80797,
          149.41922,
          155.39804,
          161.72389,
          168.37786,
          175.34424,
          182.61102,
          190.16946,
          198.01382,
          206.14078,
          214.54912,
          223.2389,
          232.21076,
          241.46514,
          251.0014,
          260.8174,
          270.90916,
          281.27086
         ]
        },
        {
         "line": {
          "color": "red"
         },
         "mode": "lines",
         "name": "$Ω_{O_2^+}$",
         "type": "scatter",
         "x": [
          150.15424097316722,
          150.03411838400802,
          149.89866020071693,
          149.74619447567534,
          149.57522799971343,
          149.38463470088718,
          149.17373401476922,
          148.9419055937803,
          148.6881796113851,
          148.41139537625662,
          148.11076723974807,
          147.7863125812421,
          147.43886512966503,
          147.06975458556022,
          146.68044768322187,
          146.27230548009894,
          145.84648711996178,
          145.403921142009,
          144.94533433021195,
          144.47127081164572,
          143.98212979698636,
          143.47818724131935,
          142.9596470470318,
          142.42668404864483,
          141.8794906800022,
          141.31832822885684,
          140.74354964895926,
          140.1556168541588,
          139.55509758830632
         ],
         "y": [
          105.98968,
          107.89062,
          110.03647,
          112.45457,
          115.16966,
          118.2009,
          121.56061,
          125.26039,
          129.31769,
          133.75335,
          138.58257,
          143.80797,
          149.41922,
          155.39804,
          161.72389,
          168.37786,
          175.34424,
          182.61102,
          190.16946,
          198.01382,
          206.14078,
          214.54912,
          223.2389,
          232.21076,
          241.46514,
          251.0014,
          260.8174,
          270.90916,
          281.27086
         ]
        },
        {
         "line": {
          "color": "green"
         },
         "mode": "lines",
         "name": "$Ω_{O^+}$",
         "type": "scatter",
         "x": [
          300.30848194633444,
          300.06823676801605,
          299.79732040143386,
          299.4923889513507,
          299.15045599942687,
          298.76926940177435,
          298.34746802953845,
          297.8838111875606,
          297.3763592227702,
          296.82279075251324,
          296.22153447949614,
          295.5726251624842,
          294.87773025933006,
          294.13950917112044,
          293.36089536644374,
          292.5446109601979,
          291.69297423992356,
          290.807842284018,
          289.8906686604239,
          288.94254162329145,
          287.9642595939727,
          286.9563744826387,
          285.9192940940636,
          284.85336809728966,
          283.7589813600044,
          282.6366564577137,
          281.4870992979185,
          280.3112337083176,
          279.11019517661265
         ],
         "y": [
          105.98968,
          107.89062,
          110.03647,
          112.45457,
          115.16966,
          118.2009,
          121.56061,
          125.26039,
          129.31769,
          133.75335,
          138.58257,
          143.80797,
          149.41922,
          155.39804,
          161.72389,
          168.37786,
          175.34424,
          182.61102,
          190.16946,
          198.01382,
          206.14078,
          214.54912,
          223.2389,
          232.21076,
          241.46514,
          251.0014,
          260.8174,
          270.90916,
          281.27086
         ]
        }
       ],
       "layout": {
        "height": 750,
        "template": {
         "data": {
          "bar": [
           {
            "error_x": {
             "color": "#2a3f5f"
            },
            "error_y": {
             "color": "#2a3f5f"
            },
            "marker": {
             "line": {
              "color": "#E5ECF6",
              "width": 0.5
             }
            },
            "type": "bar"
           }
          ],
          "barpolar": [
           {
            "marker": {
             "line": {
              "color": "#E5ECF6",
              "width": 0.5
             }
            },
            "type": "barpolar"
           }
          ],
          "carpet": [
           {
            "aaxis": {
             "endlinecolor": "#2a3f5f",
             "gridcolor": "white",
             "linecolor": "white",
             "minorgridcolor": "white",
             "startlinecolor": "#2a3f5f"
            },
            "baxis": {
             "endlinecolor": "#2a3f5f",
             "gridcolor": "white",
             "linecolor": "white",
             "minorgridcolor": "white",
             "startlinecolor": "#2a3f5f"
            },
            "type": "carpet"
           }
          ],
          "choropleth": [
           {
            "colorbar": {
             "outlinewidth": 0,
             "ticks": ""
            },
            "type": "choropleth"
           }
          ],
          "contour": [
           {
            "colorbar": {
             "outlinewidth": 0,
             "ticks": ""
            },
            "colorscale": [
             [
              0,
              "#0d0887"
             ],
             [
              0.1111111111111111,
              "#46039f"
             ],
             [
              0.2222222222222222,
              "#7201a8"
             ],
             [
              0.3333333333333333,
              "#9c179e"
             ],
             [
              0.4444444444444444,
              "#bd3786"
             ],
             [
              0.5555555555555556,
              "#d8576b"
             ],
             [
              0.6666666666666666,
              "#ed7953"
             ],
             [
              0.7777777777777778,
              "#fb9f3a"
             ],
             [
              0.8888888888888888,
              "#fdca26"
             ],
             [
              1,
              "#f0f921"
             ]
            ],
            "type": "contour"
           }
          ],
          "contourcarpet": [
           {
            "colorbar": {
             "outlinewidth": 0,
             "ticks": ""
            },
            "type": "contourcarpet"
           }
          ],
          "heatmap": [
           {
            "colorbar": {
             "outlinewidth": 0,
             "ticks": ""
            },
            "colorscale": [
             [
              0,
              "#0d0887"
             ],
             [
              0.1111111111111111,
              "#46039f"
             ],
             [
              0.2222222222222222,
              "#7201a8"
             ],
             [
              0.3333333333333333,
              "#9c179e"
             ],
             [
              0.4444444444444444,
              "#bd3786"
             ],
             [
              0.5555555555555556,
              "#d8576b"
             ],
             [
              0.6666666666666666,
              "#ed7953"
             ],
             [
              0.7777777777777778,
              "#fb9f3a"
             ],
             [
              0.8888888888888888,
              "#fdca26"
             ],
             [
              1,
              "#f0f921"
             ]
            ],
            "type": "heatmap"
           }
          ],
          "heatmapgl": [
           {
            "colorbar": {
             "outlinewidth": 0,
             "ticks": ""
            },
            "colorscale": [
             [
              0,
              "#0d0887"
             ],
             [
              0.1111111111111111,
              "#46039f"
             ],
             [
              0.2222222222222222,
              "#7201a8"
             ],
             [
              0.3333333333333333,
              "#9c179e"
             ],
             [
              0.4444444444444444,
              "#bd3786"
             ],
             [
              0.5555555555555556,
              "#d8576b"
             ],
             [
              0.6666666666666666,
              "#ed7953"
             ],
             [
              0.7777777777777778,
              "#fb9f3a"
             ],
             [
              0.8888888888888888,
              "#fdca26"
             ],
             [
              1,
              "#f0f921"
             ]
            ],
            "type": "heatmapgl"
           }
          ],
          "histogram": [
           {
            "marker": {
             "colorbar": {
              "outlinewidth": 0,
              "ticks": ""
             }
            },
            "type": "histogram"
           }
          ],
          "histogram2d": [
           {
            "colorbar": {
             "outlinewidth": 0,
             "ticks": ""
            },
            "colorscale": [
             [
              0,
              "#0d0887"
             ],
             [
              0.1111111111111111,
              "#46039f"
             ],
             [
              0.2222222222222222,
              "#7201a8"
             ],
             [
              0.3333333333333333,
              "#9c179e"
             ],
             [
              0.4444444444444444,
              "#bd3786"
             ],
             [
              0.5555555555555556,
              "#d8576b"
             ],
             [
              0.6666666666666666,
              "#ed7953"
             ],
             [
              0.7777777777777778,
              "#fb9f3a"
             ],
             [
              0.8888888888888888,
              "#fdca26"
             ],
             [
              1,
              "#f0f921"
             ]
            ],
            "type": "histogram2d"
           }
          ],
          "histogram2dcontour": [
           {
            "colorbar": {
             "outlinewidth": 0,
             "ticks": ""
            },
            "colorscale": [
             [
              0,
              "#0d0887"
             ],
             [
              0.1111111111111111,
              "#46039f"
             ],
             [
              0.2222222222222222,
              "#7201a8"
             ],
             [
              0.3333333333333333,
              "#9c179e"
             ],
             [
              0.4444444444444444,
              "#bd3786"
             ],
             [
              0.5555555555555556,
              "#d8576b"
             ],
             [
              0.6666666666666666,
              "#ed7953"
             ],
             [
              0.7777777777777778,
              "#fb9f3a"
             ],
             [
              0.8888888888888888,
              "#fdca26"
             ],
             [
              1,
              "#f0f921"
             ]
            ],
            "type": "histogram2dcontour"
           }
          ],
          "mesh3d": [
           {
            "colorbar": {
             "outlinewidth": 0,
             "ticks": ""
            },
            "type": "mesh3d"
           }
          ],
          "parcoords": [
           {
            "line": {
             "colorbar": {
              "outlinewidth": 0,
              "ticks": ""
             }
            },
            "type": "parcoords"
           }
          ],
          "pie": [
           {
            "automargin": true,
            "type": "pie"
           }
          ],
          "scatter": [
           {
            "marker": {
             "colorbar": {
              "outlinewidth": 0,
              "ticks": ""
             }
            },
            "type": "scatter"
           }
          ],
          "scatter3d": [
           {
            "line": {
             "colorbar": {
              "outlinewidth": 0,
              "ticks": ""
             }
            },
            "marker": {
             "colorbar": {
              "outlinewidth": 0,
              "ticks": ""
             }
            },
            "type": "scatter3d"
           }
          ],
          "scattercarpet": [
           {
            "marker": {
             "colorbar": {
              "outlinewidth": 0,
              "ticks": ""
             }
            },
            "type": "scattercarpet"
           }
          ],
          "scattergeo": [
           {
            "marker": {
             "colorbar": {
              "outlinewidth": 0,
              "ticks": ""
             }
            },
            "type": "scattergeo"
           }
          ],
          "scattergl": [
           {
            "marker": {
             "colorbar": {
              "outlinewidth": 0,
              "ticks": ""
             }
            },
            "type": "scattergl"
           }
          ],
          "scattermapbox": [
           {
            "marker": {
             "colorbar": {
              "outlinewidth": 0,
              "ticks": ""
             }
            },
            "type": "scattermapbox"
           }
          ],
          "scatterpolar": [
           {
            "marker": {
             "colorbar": {
              "outlinewidth": 0,
              "ticks": ""
             }
            },
            "type": "scatterpolar"
           }
          ],
          "scatterpolargl": [
           {
            "marker": {
             "colorbar": {
              "outlinewidth": 0,
              "ticks": ""
             }
            },
            "type": "scatterpolargl"
           }
          ],
          "scatterternary": [
           {
            "marker": {
             "colorbar": {
              "outlinewidth": 0,
              "ticks": ""
             }
            },
            "type": "scatterternary"
           }
          ],
          "surface": [
           {
            "colorbar": {
             "outlinewidth": 0,
             "ticks": ""
            },
            "colorscale": [
             [
              0,
              "#0d0887"
             ],
             [
              0.1111111111111111,
              "#46039f"
             ],
             [
              0.2222222222222222,
              "#7201a8"
             ],
             [
              0.3333333333333333,
              "#9c179e"
             ],
             [
              0.4444444444444444,
              "#bd3786"
             ],
             [
              0.5555555555555556,
              "#d8576b"
             ],
             [
              0.6666666666666666,
              "#ed7953"
             ],
             [
              0.7777777777777778,
              "#fb9f3a"
             ],
             [
              0.8888888888888888,
              "#fdca26"
             ],
             [
              1,
              "#f0f921"
             ]
            ],
            "type": "surface"
           }
          ],
          "table": [
           {
            "cells": {
             "fill": {
              "color": "#EBF0F8"
             },
             "line": {
              "color": "white"
             }
            },
            "header": {
             "fill": {
              "color": "#C8D4E3"
             },
             "line": {
              "color": "white"
             }
            },
            "type": "table"
           }
          ]
         },
         "layout": {
          "annotationdefaults": {
           "arrowcolor": "#2a3f5f",
           "arrowhead": 0,
           "arrowwidth": 1
          },
          "coloraxis": {
           "colorbar": {
            "outlinewidth": 0,
            "ticks": ""
           }
          },
          "colorscale": {
           "diverging": [
            [
             0,
             "#8e0152"
            ],
            [
             0.1,
             "#c51b7d"
            ],
            [
             0.2,
             "#de77ae"
            ],
            [
             0.3,
             "#f1b6da"
            ],
            [
             0.4,
             "#fde0ef"
            ],
            [
             0.5,
             "#f7f7f7"
            ],
            [
             0.6,
             "#e6f5d0"
            ],
            [
             0.7,
             "#b8e186"
            ],
            [
             0.8,
             "#7fbc41"
            ],
            [
             0.9,
             "#4d9221"
            ],
            [
             1,
             "#276419"
            ]
           ],
           "sequential": [
            [
             0,
             "#0d0887"
            ],
            [
             0.1111111111111111,
             "#46039f"
            ],
            [
             0.2222222222222222,
             "#7201a8"
            ],
            [
             0.3333333333333333,
             "#9c179e"
            ],
            [
             0.4444444444444444,
             "#bd3786"
            ],
            [
             0.5555555555555556,
             "#d8576b"
            ],
            [
             0.6666666666666666,
             "#ed7953"
            ],
            [
             0.7777777777777778,
             "#fb9f3a"
            ],
            [
             0.8888888888888888,
             "#fdca26"
            ],
            [
             1,
             "#f0f921"
            ]
           ],
           "sequentialminus": [
            [
             0,
             "#0d0887"
            ],
            [
             0.1111111111111111,
             "#46039f"
            ],
            [
             0.2222222222222222,
             "#7201a8"
            ],
            [
             0.3333333333333333,
             "#9c179e"
            ],
            [
             0.4444444444444444,
             "#bd3786"
            ],
            [
             0.5555555555555556,
             "#d8576b"
            ],
            [
             0.6666666666666666,
             "#ed7953"
            ],
            [
             0.7777777777777778,
             "#fb9f3a"
            ],
            [
             0.8888888888888888,
             "#fdca26"
            ],
            [
             1,
             "#f0f921"
            ]
           ]
          },
          "colorway": [
           "#636efa",
           "#EF553B",
           "#00cc96",
           "#ab63fa",
           "#FFA15A",
           "#19d3f3",
           "#FF6692",
           "#B6E880",
           "#FF97FF",
           "#FECB52"
          ],
          "font": {
           "color": "#2a3f5f"
          },
          "geo": {
           "bgcolor": "white",
           "lakecolor": "white",
           "landcolor": "#E5ECF6",
           "showlakes": true,
           "showland": true,
           "subunitcolor": "white"
          },
          "hoverlabel": {
           "align": "left"
          },
          "hovermode": "closest",
          "mapbox": {
           "style": "light"
          },
          "paper_bgcolor": "white",
          "plot_bgcolor": "#E5ECF6",
          "polar": {
           "angularaxis": {
            "gridcolor": "white",
            "linecolor": "white",
            "ticks": ""
           },
           "bgcolor": "#E5ECF6",
           "radialaxis": {
            "gridcolor": "white",
            "linecolor": "white",
            "ticks": ""
           }
          },
          "scene": {
           "xaxis": {
            "backgroundcolor": "#E5ECF6",
            "gridcolor": "white",
            "gridwidth": 2,
            "linecolor": "white",
            "showbackground": true,
            "ticks": "",
            "zerolinecolor": "white"
           },
           "yaxis": {
            "backgroundcolor": "#E5ECF6",
            "gridcolor": "white",
            "gridwidth": 2,
            "linecolor": "white",
            "showbackground": true,
            "ticks": "",
            "zerolinecolor": "white"
           },
           "zaxis": {
            "backgroundcolor": "#E5ECF6",
            "gridcolor": "white",
            "gridwidth": 2,
            "linecolor": "white",
            "showbackground": true,
            "ticks": "",
            "zerolinecolor": "white"
           }
          },
          "shapedefaults": {
           "line": {
            "color": "#2a3f5f"
           }
          },
          "ternary": {
           "aaxis": {
            "gridcolor": "white",
            "linecolor": "white",
            "ticks": ""
           },
           "baxis": {
            "gridcolor": "white",
            "linecolor": "white",
            "ticks": ""
           },
           "bgcolor": "#E5ECF6",
           "caxis": {
            "gridcolor": "white",
            "linecolor": "white",
            "ticks": ""
           }
          },
          "title": {
           "x": 0.05
          },
          "xaxis": {
           "automargin": true,
           "gridcolor": "white",
           "linecolor": "white",
           "ticks": "",
           "title": {
            "standoff": 15
           },
           "zerolinecolor": "white",
           "zerolinewidth": 2
          },
          "yaxis": {
           "automargin": true,
           "gridcolor": "white",
           "linecolor": "white",
           "ticks": "",
           "title": {
            "standoff": 15
           },
           "zerolinecolor": "white",
           "zerolinewidth": 2
          }
         }
        },
        "title": {
         "text": "Collision frequencies/Gyrofrequencies ,Lat: 63.75, Lon: 15.0, 2015-03-15 00:05:00",
         "x": 0.5,
         "xanchor": "center",
         "y": 0.9,
         "yanchor": "top"
        },
        "width": 900,
        "xaxis": {
         "exponentformat": "power",
         "gridcolor": "grey",
         "gridwidth": 0.5,
         "linecolor": "black",
         "linewidth": 2,
         "mirror": true,
         "showexponent": "all",
         "showgrid": true,
         "showline": true,
         "title": {
          "text": "Collisions/Gyrofrequencies sec^(-1)"
         },
         "type": "log"
        },
        "yaxis": {
         "gridcolor": "grey",
         "gridwidth": 0.5,
         "linecolor": "black",
         "linewidth": 2,
         "mirror": true,
         "showgrid": true,
         "showline": true,
         "tickmode": "array",
         "tickvals": [
          60,
          80,
          100,
          120,
          140,
          160,
          180,
          200,
          220,
          240,
          260,
          280,
          300,
          320,
          340,
          360,
          380,
          400,
          420,
          440,
          460,
          480,
          500
         ],
         "title": {
          "text": "Altitude (km)"
         }
        }
       }
      },
      "text/html": [
       "<div>\n",
       "        \n",
       "        \n",
       "            <div id=\"2d76058a-41c8-4f98-b4e8-f51bfdbabda7\" class=\"plotly-graph-div\" style=\"height:750px; width:900px;\"></div>\n",
       "            <script type=\"text/javascript\">\n",
       "                require([\"plotly\"], function(Plotly) {\n",
       "                    window.PLOTLYENV=window.PLOTLYENV || {};\n",
       "                    \n",
       "                if (document.getElementById(\"2d76058a-41c8-4f98-b4e8-f51bfdbabda7\")) {\n",
       "                    Plotly.newPlot(\n",
       "                        '2d76058a-41c8-4f98-b4e8-f51bfdbabda7',\n",
       "                        [{\"line\": {\"color\": \"orange\"}, \"mode\": \"lines\", \"name\": \"$\\u03bd_e$\", \"type\": \"scatter\", \"x\": [14440.633404319284, 11059.30049913659, 8469.277851378041, 6491.413247641607, 4985.076344534048, 3838.2818053860387, 2962.255008513483, 2288.8885674805947, 1768.1229656298729, 1364.1048585865872, 1050.9870793203563, 809.5748722920032, 625.2490944799792, 486.4919108904431, 383.365970421304, 306.57586637832446, 247.94699933343213, 201.31894683567512, 163.0725653366467, 131.26711560919318, 104.56766713905996, 82.24643923197505, 63.82058692097809, 48.90383565365258, 37.11771307226595, 27.999340601436074, 21.05460854086172, 15.818717304517879, 11.893847281295187], \"y\": [105.98968, 107.89062, 110.03647, 112.45457, 115.16966, 118.2009, 121.56061, 125.26039, 129.31769, 133.75335, 138.58257, 143.80797, 149.41922, 155.39804, 161.72389, 168.37786, 175.34424, 182.61102, 190.16946, 198.01382, 206.14078, 214.54912, 223.2389, 232.21076, 241.46514, 251.0014, 260.8174, 270.90916, 281.27086]}, {\"line\": {\"color\": \"cyan\"}, \"mode\": \"lines\", \"name\": \"$\\u03bd_{O_2^+}$\", \"type\": \"scatter\", \"x\": [1082.9176480693648, 755.266589815398, 527.5163570835934, 369.520715306944, 260.0583807455106, 184.16375710339057, 131.16288126689454, 93.76400897000985, 67.2107536726687, 48.35371690308476, 34.98154054514383, 25.484770448900992, 18.7012604553815, 13.814201086777382, 10.260948920871499, 7.65575728881905, 5.732209162232088, 4.30383413393709, 3.2384043039457544, 2.4408081743666648, 1.8420512313103137, 1.3916259648681395, 1.05228419757939, 0.7963745807008764, 0.6032518635226478, 0.45743053673317724, 0.3472602130311433, 0.2639630516952437, 0.20092372576527276], \"y\": [105.98968, 107.89062, 110.03647, 112.45457, 115.16966, 118.2009, 121.56061, 125.26039, 129.31769, 133.75335, 138.58257, 143.80797, 149.41922, 155.39804, 161.72389, 168.37786, 175.34424, 182.61102, 190.16946, 198.01382, 206.14078, 214.54912, 223.2389, 232.21076, 241.46514, 251.0014, 260.8174, 270.90916, 281.27086]}, {\"line\": {\"color\": \"yellow\"}, \"mode\": \"lines\", \"name\": \"$\\u03bd_{O^+}$\", \"type\": \"scatter\", \"x\": [1945.3424775874805, 1360.3078750584834, 955.6548281608294, 675.6720820413124, 481.5377786504768, 346.34206613631403, 251.25807939529844, 183.5722087215142, 134.99027387463252, 99.99644359501747, 74.71710197215197, 56.34472642271342, 42.860808334992385, 32.848696280910225, 25.329802908893583, 19.627940496868064, 15.270109933099977, 11.917290551881704, 9.326055466676088, 7.313692016312766, 5.745097953977074, 4.518339775403264, 3.556220615163347, 2.799938224934057, 2.2044486238193812, 1.735063766295047, 1.364895636875921, 1.0729517623977172, 0.8427572060182283], \"y\": [105.98968, 107.89062, 110.03647, 112.45457, 115.16966, 118.2009, 121.56061, 125.26039, 129.31769, 133.75335, 138.58257, 143.80797, 149.41922, 155.39804, 161.72389, 168.37786, 175.34424, 182.61102, 190.16946, 198.01382, 206.14078, 214.54912, 223.2389, 232.21076, 241.46514, 251.0014, 260.8174, 270.90916, 281.27086]}, {\"line\": {\"color\": \"purple\"}, \"mode\": \"lines\", \"name\": \"$\\u03a9_{e}$\", \"type\": \"scatter\", \"x\": [8757941.009033017, 8750934.70309793, 8743033.928729085, 8734141.167411393, 8724169.325781798, 8713052.724232491, 8700751.667959854, 8687229.974386105, 8672431.077119706, 8656287.2773324, 8638752.751047073, 8619828.511938775, 8599563.188329335, 8578034.336728938, 8555327.506319145, 8531522.082542362, 8506685.673963593, 8480872.438836869, 8454124.767780697, 8426474.397713033, 8397944.613114735, 8368551.509424364, 8338306.979513324, 8307221.220831991, 8275305.45733409, 8242574.928966972, 8209050.2222162755, 8174758.278806844, 8139732.213135719], \"y\": [105.98968, 107.89062, 110.03647, 112.45457, 115.16966, 118.2009, 121.56061, 125.26039, 129.31769, 133.75335, 138.58257, 143.80797, 149.41922, 155.39804, 161.72389, 168.37786, 175.34424, 182.61102, 190.16946, 198.01382, 206.14078, 214.54912, 223.2389, 232.21076, 241.46514, 251.0014, 260.8174, 270.90916, 281.27086]}, {\"line\": {\"color\": \"red\"}, \"mode\": \"lines\", \"name\": \"$\\u03a9_{O_2^+}$\", \"type\": \"scatter\", \"x\": [150.15424097316722, 150.03411838400802, 149.89866020071693, 149.74619447567534, 149.57522799971343, 149.38463470088718, 149.17373401476922, 148.9419055937803, 148.6881796113851, 148.41139537625662, 148.11076723974807, 147.7863125812421, 147.43886512966503, 147.06975458556022, 146.68044768322187, 146.27230548009894, 145.84648711996178, 145.403921142009, 144.94533433021195, 144.47127081164572, 143.98212979698636, 143.47818724131935, 142.9596470470318, 142.42668404864483, 141.8794906800022, 141.31832822885684, 140.74354964895926, 140.1556168541588, 139.55509758830632], \"y\": [105.98968, 107.89062, 110.03647, 112.45457, 115.16966, 118.2009, 121.56061, 125.26039, 129.31769, 133.75335, 138.58257, 143.80797, 149.41922, 155.39804, 161.72389, 168.37786, 175.34424, 182.61102, 190.16946, 198.01382, 206.14078, 214.54912, 223.2389, 232.21076, 241.46514, 251.0014, 260.8174, 270.90916, 281.27086]}, {\"line\": {\"color\": \"green\"}, \"mode\": \"lines\", \"name\": \"$\\u03a9_{O^+}$\", \"type\": \"scatter\", \"x\": [300.30848194633444, 300.06823676801605, 299.79732040143386, 299.4923889513507, 299.15045599942687, 298.76926940177435, 298.34746802953845, 297.8838111875606, 297.3763592227702, 296.82279075251324, 296.22153447949614, 295.5726251624842, 294.87773025933006, 294.13950917112044, 293.36089536644374, 292.5446109601979, 291.69297423992356, 290.807842284018, 289.8906686604239, 288.94254162329145, 287.9642595939727, 286.9563744826387, 285.9192940940636, 284.85336809728966, 283.7589813600044, 282.6366564577137, 281.4870992979185, 280.3112337083176, 279.11019517661265], \"y\": [105.98968, 107.89062, 110.03647, 112.45457, 115.16966, 118.2009, 121.56061, 125.26039, 129.31769, 133.75335, 138.58257, 143.80797, 149.41922, 155.39804, 161.72389, 168.37786, 175.34424, 182.61102, 190.16946, 198.01382, 206.14078, 214.54912, 223.2389, 232.21076, 241.46514, 251.0014, 260.8174, 270.90916, 281.27086]}],\n",
       "                        {\"height\": 750, \"template\": {\"data\": {\"bar\": [{\"error_x\": {\"color\": \"#2a3f5f\"}, \"error_y\": {\"color\": \"#2a3f5f\"}, \"marker\": {\"line\": {\"color\": \"#E5ECF6\", \"width\": 0.5}}, \"type\": \"bar\"}], \"barpolar\": [{\"marker\": {\"line\": {\"color\": \"#E5ECF6\", \"width\": 0.5}}, \"type\": \"barpolar\"}], \"carpet\": [{\"aaxis\": {\"endlinecolor\": \"#2a3f5f\", \"gridcolor\": \"white\", \"linecolor\": \"white\", \"minorgridcolor\": \"white\", \"startlinecolor\": \"#2a3f5f\"}, \"baxis\": {\"endlinecolor\": \"#2a3f5f\", \"gridcolor\": \"white\", \"linecolor\": \"white\", \"minorgridcolor\": \"white\", \"startlinecolor\": \"#2a3f5f\"}, \"type\": \"carpet\"}], \"choropleth\": [{\"colorbar\": {\"outlinewidth\": 0, \"ticks\": \"\"}, \"type\": \"choropleth\"}], \"contour\": [{\"colorbar\": {\"outlinewidth\": 0, \"ticks\": \"\"}, \"colorscale\": [[0.0, \"#0d0887\"], [0.1111111111111111, \"#46039f\"], [0.2222222222222222, \"#7201a8\"], [0.3333333333333333, \"#9c179e\"], [0.4444444444444444, \"#bd3786\"], [0.5555555555555556, \"#d8576b\"], [0.6666666666666666, \"#ed7953\"], [0.7777777777777778, \"#fb9f3a\"], [0.8888888888888888, \"#fdca26\"], [1.0, \"#f0f921\"]], \"type\": \"contour\"}], \"contourcarpet\": [{\"colorbar\": {\"outlinewidth\": 0, \"ticks\": \"\"}, \"type\": \"contourcarpet\"}], \"heatmap\": [{\"colorbar\": {\"outlinewidth\": 0, \"ticks\": \"\"}, \"colorscale\": [[0.0, \"#0d0887\"], [0.1111111111111111, \"#46039f\"], [0.2222222222222222, \"#7201a8\"], [0.3333333333333333, \"#9c179e\"], [0.4444444444444444, \"#bd3786\"], [0.5555555555555556, \"#d8576b\"], [0.6666666666666666, \"#ed7953\"], [0.7777777777777778, \"#fb9f3a\"], [0.8888888888888888, \"#fdca26\"], [1.0, \"#f0f921\"]], \"type\": \"heatmap\"}], \"heatmapgl\": [{\"colorbar\": {\"outlinewidth\": 0, \"ticks\": \"\"}, \"colorscale\": [[0.0, \"#0d0887\"], [0.1111111111111111, \"#46039f\"], [0.2222222222222222, \"#7201a8\"], [0.3333333333333333, \"#9c179e\"], [0.4444444444444444, \"#bd3786\"], [0.5555555555555556, \"#d8576b\"], [0.6666666666666666, \"#ed7953\"], [0.7777777777777778, \"#fb9f3a\"], [0.8888888888888888, \"#fdca26\"], [1.0, \"#f0f921\"]], \"type\": \"heatmapgl\"}], \"histogram\": [{\"marker\": {\"colorbar\": {\"outlinewidth\": 0, \"ticks\": \"\"}}, \"type\": \"histogram\"}], \"histogram2d\": [{\"colorbar\": {\"outlinewidth\": 0, \"ticks\": \"\"}, \"colorscale\": [[0.0, \"#0d0887\"], [0.1111111111111111, \"#46039f\"], [0.2222222222222222, \"#7201a8\"], [0.3333333333333333, \"#9c179e\"], [0.4444444444444444, \"#bd3786\"], [0.5555555555555556, \"#d8576b\"], [0.6666666666666666, \"#ed7953\"], [0.7777777777777778, \"#fb9f3a\"], [0.8888888888888888, \"#fdca26\"], [1.0, \"#f0f921\"]], \"type\": \"histogram2d\"}], \"histogram2dcontour\": [{\"colorbar\": {\"outlinewidth\": 0, \"ticks\": \"\"}, \"colorscale\": [[0.0, \"#0d0887\"], [0.1111111111111111, \"#46039f\"], [0.2222222222222222, \"#7201a8\"], [0.3333333333333333, \"#9c179e\"], [0.4444444444444444, \"#bd3786\"], [0.5555555555555556, \"#d8576b\"], [0.6666666666666666, \"#ed7953\"], [0.7777777777777778, \"#fb9f3a\"], [0.8888888888888888, \"#fdca26\"], [1.0, \"#f0f921\"]], \"type\": \"histogram2dcontour\"}], \"mesh3d\": [{\"colorbar\": {\"outlinewidth\": 0, \"ticks\": \"\"}, \"type\": \"mesh3d\"}], \"parcoords\": [{\"line\": {\"colorbar\": {\"outlinewidth\": 0, \"ticks\": \"\"}}, \"type\": \"parcoords\"}], \"pie\": [{\"automargin\": true, \"type\": \"pie\"}], \"scatter\": [{\"marker\": {\"colorbar\": {\"outlinewidth\": 0, \"ticks\": \"\"}}, \"type\": \"scatter\"}], \"scatter3d\": [{\"line\": {\"colorbar\": {\"outlinewidth\": 0, \"ticks\": \"\"}}, \"marker\": {\"colorbar\": {\"outlinewidth\": 0, \"ticks\": \"\"}}, \"type\": \"scatter3d\"}], \"scattercarpet\": [{\"marker\": {\"colorbar\": {\"outlinewidth\": 0, \"ticks\": \"\"}}, \"type\": \"scattercarpet\"}], \"scattergeo\": [{\"marker\": {\"colorbar\": {\"outlinewidth\": 0, \"ticks\": \"\"}}, \"type\": \"scattergeo\"}], \"scattergl\": [{\"marker\": {\"colorbar\": {\"outlinewidth\": 0, \"ticks\": \"\"}}, \"type\": \"scattergl\"}], \"scattermapbox\": [{\"marker\": {\"colorbar\": {\"outlinewidth\": 0, \"ticks\": \"\"}}, \"type\": \"scattermapbox\"}], \"scatterpolar\": [{\"marker\": {\"colorbar\": {\"outlinewidth\": 0, \"ticks\": \"\"}}, \"type\": \"scatterpolar\"}], \"scatterpolargl\": [{\"marker\": {\"colorbar\": {\"outlinewidth\": 0, \"ticks\": \"\"}}, \"type\": \"scatterpolargl\"}], \"scatterternary\": [{\"marker\": {\"colorbar\": {\"outlinewidth\": 0, \"ticks\": \"\"}}, \"type\": \"scatterternary\"}], \"surface\": [{\"colorbar\": {\"outlinewidth\": 0, \"ticks\": \"\"}, \"colorscale\": [[0.0, \"#0d0887\"], [0.1111111111111111, \"#46039f\"], [0.2222222222222222, \"#7201a8\"], [0.3333333333333333, \"#9c179e\"], [0.4444444444444444, \"#bd3786\"], [0.5555555555555556, \"#d8576b\"], [0.6666666666666666, \"#ed7953\"], [0.7777777777777778, \"#fb9f3a\"], [0.8888888888888888, \"#fdca26\"], [1.0, \"#f0f921\"]], \"type\": \"surface\"}], \"table\": [{\"cells\": {\"fill\": {\"color\": \"#EBF0F8\"}, \"line\": {\"color\": \"white\"}}, \"header\": {\"fill\": {\"color\": \"#C8D4E3\"}, \"line\": {\"color\": \"white\"}}, \"type\": \"table\"}]}, \"layout\": {\"annotationdefaults\": {\"arrowcolor\": \"#2a3f5f\", \"arrowhead\": 0, \"arrowwidth\": 1}, \"coloraxis\": {\"colorbar\": {\"outlinewidth\": 0, \"ticks\": \"\"}}, \"colorscale\": {\"diverging\": [[0, \"#8e0152\"], [0.1, \"#c51b7d\"], [0.2, \"#de77ae\"], [0.3, \"#f1b6da\"], [0.4, \"#fde0ef\"], [0.5, \"#f7f7f7\"], [0.6, \"#e6f5d0\"], [0.7, \"#b8e186\"], [0.8, \"#7fbc41\"], [0.9, \"#4d9221\"], [1, \"#276419\"]], \"sequential\": [[0.0, \"#0d0887\"], [0.1111111111111111, \"#46039f\"], [0.2222222222222222, \"#7201a8\"], [0.3333333333333333, \"#9c179e\"], [0.4444444444444444, \"#bd3786\"], [0.5555555555555556, \"#d8576b\"], [0.6666666666666666, \"#ed7953\"], [0.7777777777777778, \"#fb9f3a\"], [0.8888888888888888, \"#fdca26\"], [1.0, \"#f0f921\"]], \"sequentialminus\": [[0.0, \"#0d0887\"], [0.1111111111111111, \"#46039f\"], [0.2222222222222222, \"#7201a8\"], [0.3333333333333333, \"#9c179e\"], [0.4444444444444444, \"#bd3786\"], [0.5555555555555556, \"#d8576b\"], [0.6666666666666666, \"#ed7953\"], [0.7777777777777778, \"#fb9f3a\"], [0.8888888888888888, \"#fdca26\"], [1.0, \"#f0f921\"]]}, \"colorway\": [\"#636efa\", \"#EF553B\", \"#00cc96\", \"#ab63fa\", \"#FFA15A\", \"#19d3f3\", \"#FF6692\", \"#B6E880\", \"#FF97FF\", \"#FECB52\"], \"font\": {\"color\": \"#2a3f5f\"}, \"geo\": {\"bgcolor\": \"white\", \"lakecolor\": \"white\", \"landcolor\": \"#E5ECF6\", \"showlakes\": true, \"showland\": true, \"subunitcolor\": \"white\"}, \"hoverlabel\": {\"align\": \"left\"}, \"hovermode\": \"closest\", \"mapbox\": {\"style\": \"light\"}, \"paper_bgcolor\": \"white\", \"plot_bgcolor\": \"#E5ECF6\", \"polar\": {\"angularaxis\": {\"gridcolor\": \"white\", \"linecolor\": \"white\", \"ticks\": \"\"}, \"bgcolor\": \"#E5ECF6\", \"radialaxis\": {\"gridcolor\": \"white\", \"linecolor\": \"white\", \"ticks\": \"\"}}, \"scene\": {\"xaxis\": {\"backgroundcolor\": \"#E5ECF6\", \"gridcolor\": \"white\", \"gridwidth\": 2, \"linecolor\": \"white\", \"showbackground\": true, \"ticks\": \"\", \"zerolinecolor\": \"white\"}, \"yaxis\": {\"backgroundcolor\": \"#E5ECF6\", \"gridcolor\": \"white\", \"gridwidth\": 2, \"linecolor\": \"white\", \"showbackground\": true, \"ticks\": \"\", \"zerolinecolor\": \"white\"}, \"zaxis\": {\"backgroundcolor\": \"#E5ECF6\", \"gridcolor\": \"white\", \"gridwidth\": 2, \"linecolor\": \"white\", \"showbackground\": true, \"ticks\": \"\", \"zerolinecolor\": \"white\"}}, \"shapedefaults\": {\"line\": {\"color\": \"#2a3f5f\"}}, \"ternary\": {\"aaxis\": {\"gridcolor\": \"white\", \"linecolor\": \"white\", \"ticks\": \"\"}, \"baxis\": {\"gridcolor\": \"white\", \"linecolor\": \"white\", \"ticks\": \"\"}, \"bgcolor\": \"#E5ECF6\", \"caxis\": {\"gridcolor\": \"white\", \"linecolor\": \"white\", \"ticks\": \"\"}}, \"title\": {\"x\": 0.05}, \"xaxis\": {\"automargin\": true, \"gridcolor\": \"white\", \"linecolor\": \"white\", \"ticks\": \"\", \"title\": {\"standoff\": 15}, \"zerolinecolor\": \"white\", \"zerolinewidth\": 2}, \"yaxis\": {\"automargin\": true, \"gridcolor\": \"white\", \"linecolor\": \"white\", \"ticks\": \"\", \"title\": {\"standoff\": 15}, \"zerolinecolor\": \"white\", \"zerolinewidth\": 2}}}, \"title\": {\"text\": \"Collision frequencies/Gyrofrequencies ,Lat: 63.75, Lon: 15.0, 2015-03-15 00:05:00\", \"x\": 0.5, \"xanchor\": \"center\", \"y\": 0.9, \"yanchor\": \"top\"}, \"width\": 900, \"xaxis\": {\"exponentformat\": \"power\", \"gridcolor\": \"grey\", \"gridwidth\": 0.5, \"linecolor\": \"black\", \"linewidth\": 2, \"mirror\": true, \"showexponent\": \"all\", \"showgrid\": true, \"showline\": true, \"title\": {\"text\": \"Collisions/Gyrofrequencies sec^(-1)\"}, \"type\": \"log\"}, \"yaxis\": {\"gridcolor\": \"grey\", \"gridwidth\": 0.5, \"linecolor\": \"black\", \"linewidth\": 2, \"mirror\": true, \"showgrid\": true, \"showline\": true, \"tickmode\": \"array\", \"tickvals\": [60, 80, 100, 120, 140, 160, 180, 200, 220, 240, 260, 280, 300, 320, 340, 360, 380, 400, 420, 440, 460, 480, 500], \"title\": {\"text\": \"Altitude (km)\"}}},\n",
       "                        {\"responsive\": true}\n",
       "                    ).then(function(){\n",
       "                            \n",
       "var gd = document.getElementById('2d76058a-41c8-4f98-b4e8-f51bfdbabda7');\n",
       "var x = new MutationObserver(function (mutations, observer) {{\n",
       "        var display = window.getComputedStyle(gd).display;\n",
       "        if (!display || display === 'none') {{\n",
       "            console.log([gd, 'removed!']);\n",
       "            Plotly.purge(gd);\n",
       "            observer.disconnect();\n",
       "        }}\n",
       "}});\n",
       "\n",
       "// Listen for the removal of the full notebook cells\n",
       "var notebookContainer = gd.closest('#notebook-container');\n",
       "if (notebookContainer) {{\n",
       "    x.observe(notebookContainer, {childList: true});\n",
       "}}\n",
       "\n",
       "// Listen for the clearing of the current output cell\n",
       "var outputEl = gd.closest('.output');\n",
       "if (outputEl) {{\n",
       "    x.observe(outputEl, {childList: true});\n",
       "}}\n",
       "\n",
       "                        })\n",
       "                };\n",
       "                });\n",
       "            </script>\n",
       "        </div>"
      ]
     },
     "metadata": {},
     "output_type": "display_data"
    },
    {
     "data": {
      "application/vnd.plotly.v1+json": {
       "config": {
        "plotlyServerURL": "https://plot.ly"
       },
       "data": [
        {
         "line": {
          "color": "red"
         },
         "mode": "lines",
         "name": "Ohmic HR",
         "type": "scatter",
         "x": [
          2.384633197006949e-07,
          5.712420245276479e-07,
          1.0160371498195436e-06,
          1.3949071394012557e-06,
          1.5065315227029788e-06,
          1.303102656758167e-06,
          9.404022577841896e-07,
          5.96484222715584e-07,
          3.452347693021987e-07,
          1.9326584588765307e-07,
          1.1810713093670013e-07,
          8.46710259737844e-08,
          6.458031406364668e-08,
          4.595254817353381e-08,
          2.8663523014720094e-08,
          1.5839970744480728e-08,
          9.185873603789572e-09,
          8.322947317901318e-09,
          1.1030824828676939e-08,
          1.4604578600850746e-08,
          1.7698344093480112e-08,
          2.028493537151737e-08,
          2.3278323533414464e-08,
          2.7390179126112962e-08,
          3.240622483088979e-08,
          3.725563478018203e-08,
          4.0627983652963236e-08,
          4.1660759042632244e-08,
          4.024226539862666e-08
         ],
         "y": [
          105.98968,
          107.89062,
          110.03647,
          112.45457,
          115.16966,
          118.2009,
          121.56061,
          125.26039,
          129.31769,
          133.75335,
          138.58257,
          143.80797,
          149.41922,
          155.39804,
          161.72389,
          168.37786,
          175.34424,
          182.61102,
          190.16946,
          198.01382,
          206.14078,
          214.54912,
          223.2389,
          232.21076,
          241.46514,
          251.0014,
          260.8174,
          270.90916,
          281.27086
         ]
        },
        {
         "line": {
          "color": "green"
         },
         "mode": "lines",
         "name": "Joule HR",
         "type": "scatter",
         "x": [
          2.6111927123245406e-07,
          6.245839730835388e-07,
          1.0994812625117235e-06,
          1.4812517623878111e-06,
          1.560254069352778e-06,
          1.3160882906920702e-06,
          9.337808910998614e-07,
          5.906175676044376e-07,
          3.459941385872398e-07,
          1.9829023952055787e-07,
          1.2488647622086615e-07,
          9.252619908440624e-08,
          7.293381046680819e-08,
          5.3535169487716615e-08,
          3.4340271305658396e-08,
          1.9439816306706264e-08,
          1.1503509894174707e-08,
          1.0620169591310022e-08,
          1.4313161639748694e-08,
          1.9143462167208105e-08,
          2.3173399007172304e-08,
          2.5910009594580245e-08,
          2.811585028018069e-08,
          3.0718815612711026e-08,
          3.402373179972422e-08,
          3.749764345050591e-08,
          4.0087428897734206e-08,
          4.087220237974267e-08,
          3.9536446023615187e-08
         ],
         "y": [
          105.98968,
          107.89062,
          110.03647,
          112.45457,
          115.16966,
          118.2009,
          121.56061,
          125.26039,
          129.31769,
          133.75335,
          138.58257,
          143.80797,
          149.41922,
          155.39804,
          161.72389,
          168.37786,
          175.34424,
          182.61102,
          190.16946,
          198.01382,
          206.14078,
          214.54912,
          223.2389,
          232.21076,
          241.46514,
          251.0014,
          260.8174,
          270.90916,
          281.27086
         ]
        },
        {
         "line": {
          "color": "blue"
         },
         "mode": "lines",
         "name": "Frictional HR",
         "type": "scatter",
         "x": [
          2.6112906357233804e-07,
          6.246073958608837e-07,
          1.0995224946052714e-06,
          1.4813073114119893e-06,
          1.5603125810745685e-06,
          1.3161376458537896e-06,
          9.338159091964564e-07,
          5.906397165938097e-07,
          3.460071138540092e-07,
          1.9829767568339593e-07,
          1.2489115963935262e-07,
          9.252966894699168e-08,
          7.293654558726775e-08,
          5.3537177131859106e-08,
          3.434155911412513e-08,
          1.944054532715603e-08,
          1.1503941291973158e-08,
          1.0620567862604856e-08,
          1.4313698403438811e-08,
          1.9144180073960856e-08,
          2.3174268042223946e-08,
          2.5910981256377415e-08,
          2.811690466410571e-08,
          3.0719967611496404e-08,
          3.4025007737514156e-08,
          3.749904966486873e-08,
          4.008893223269307e-08,
          4.0873735144810444e-08,
          3.953792869594097e-08
         ],
         "y": [
          105.98968,
          107.89062,
          110.03647,
          112.45457,
          115.16966,
          118.2009,
          121.56061,
          125.26039,
          129.31769,
          133.75335,
          138.58257,
          143.80797,
          149.41922,
          155.39804,
          161.72389,
          168.37786,
          175.34424,
          182.61102,
          190.16946,
          198.01382,
          206.14078,
          214.54912,
          223.2389,
          232.21076,
          241.46514,
          251.0014,
          260.8174,
          270.90916,
          281.27086
         ]
        }
       ],
       "layout": {
        "height": 750,
        "template": {
         "data": {
          "bar": [
           {
            "error_x": {
             "color": "#2a3f5f"
            },
            "error_y": {
             "color": "#2a3f5f"
            },
            "marker": {
             "line": {
              "color": "#E5ECF6",
              "width": 0.5
             }
            },
            "type": "bar"
           }
          ],
          "barpolar": [
           {
            "marker": {
             "line": {
              "color": "#E5ECF6",
              "width": 0.5
             }
            },
            "type": "barpolar"
           }
          ],
          "carpet": [
           {
            "aaxis": {
             "endlinecolor": "#2a3f5f",
             "gridcolor": "white",
             "linecolor": "white",
             "minorgridcolor": "white",
             "startlinecolor": "#2a3f5f"
            },
            "baxis": {
             "endlinecolor": "#2a3f5f",
             "gridcolor": "white",
             "linecolor": "white",
             "minorgridcolor": "white",
             "startlinecolor": "#2a3f5f"
            },
            "type": "carpet"
           }
          ],
          "choropleth": [
           {
            "colorbar": {
             "outlinewidth": 0,
             "ticks": ""
            },
            "type": "choropleth"
           }
          ],
          "contour": [
           {
            "colorbar": {
             "outlinewidth": 0,
             "ticks": ""
            },
            "colorscale": [
             [
              0,
              "#0d0887"
             ],
             [
              0.1111111111111111,
              "#46039f"
             ],
             [
              0.2222222222222222,
              "#7201a8"
             ],
             [
              0.3333333333333333,
              "#9c179e"
             ],
             [
              0.4444444444444444,
              "#bd3786"
             ],
             [
              0.5555555555555556,
              "#d8576b"
             ],
             [
              0.6666666666666666,
              "#ed7953"
             ],
             [
              0.7777777777777778,
              "#fb9f3a"
             ],
             [
              0.8888888888888888,
              "#fdca26"
             ],
             [
              1,
              "#f0f921"
             ]
            ],
            "type": "contour"
           }
          ],
          "contourcarpet": [
           {
            "colorbar": {
             "outlinewidth": 0,
             "ticks": ""
            },
            "type": "contourcarpet"
           }
          ],
          "heatmap": [
           {
            "colorbar": {
             "outlinewidth": 0,
             "ticks": ""
            },
            "colorscale": [
             [
              0,
              "#0d0887"
             ],
             [
              0.1111111111111111,
              "#46039f"
             ],
             [
              0.2222222222222222,
              "#7201a8"
             ],
             [
              0.3333333333333333,
              "#9c179e"
             ],
             [
              0.4444444444444444,
              "#bd3786"
             ],
             [
              0.5555555555555556,
              "#d8576b"
             ],
             [
              0.6666666666666666,
              "#ed7953"
             ],
             [
              0.7777777777777778,
              "#fb9f3a"
             ],
             [
              0.8888888888888888,
              "#fdca26"
             ],
             [
              1,
              "#f0f921"
             ]
            ],
            "type": "heatmap"
           }
          ],
          "heatmapgl": [
           {
            "colorbar": {
             "outlinewidth": 0,
             "ticks": ""
            },
            "colorscale": [
             [
              0,
              "#0d0887"
             ],
             [
              0.1111111111111111,
              "#46039f"
             ],
             [
              0.2222222222222222,
              "#7201a8"
             ],
             [
              0.3333333333333333,
              "#9c179e"
             ],
             [
              0.4444444444444444,
              "#bd3786"
             ],
             [
              0.5555555555555556,
              "#d8576b"
             ],
             [
              0.6666666666666666,
              "#ed7953"
             ],
             [
              0.7777777777777778,
              "#fb9f3a"
             ],
             [
              0.8888888888888888,
              "#fdca26"
             ],
             [
              1,
              "#f0f921"
             ]
            ],
            "type": "heatmapgl"
           }
          ],
          "histogram": [
           {
            "marker": {
             "colorbar": {
              "outlinewidth": 0,
              "ticks": ""
             }
            },
            "type": "histogram"
           }
          ],
          "histogram2d": [
           {
            "colorbar": {
             "outlinewidth": 0,
             "ticks": ""
            },
            "colorscale": [
             [
              0,
              "#0d0887"
             ],
             [
              0.1111111111111111,
              "#46039f"
             ],
             [
              0.2222222222222222,
              "#7201a8"
             ],
             [
              0.3333333333333333,
              "#9c179e"
             ],
             [
              0.4444444444444444,
              "#bd3786"
             ],
             [
              0.5555555555555556,
              "#d8576b"
             ],
             [
              0.6666666666666666,
              "#ed7953"
             ],
             [
              0.7777777777777778,
              "#fb9f3a"
             ],
             [
              0.8888888888888888,
              "#fdca26"
             ],
             [
              1,
              "#f0f921"
             ]
            ],
            "type": "histogram2d"
           }
          ],
          "histogram2dcontour": [
           {
            "colorbar": {
             "outlinewidth": 0,
             "ticks": ""
            },
            "colorscale": [
             [
              0,
              "#0d0887"
             ],
             [
              0.1111111111111111,
              "#46039f"
             ],
             [
              0.2222222222222222,
              "#7201a8"
             ],
             [
              0.3333333333333333,
              "#9c179e"
             ],
             [
              0.4444444444444444,
              "#bd3786"
             ],
             [
              0.5555555555555556,
              "#d8576b"
             ],
             [
              0.6666666666666666,
              "#ed7953"
             ],
             [
              0.7777777777777778,
              "#fb9f3a"
             ],
             [
              0.8888888888888888,
              "#fdca26"
             ],
             [
              1,
              "#f0f921"
             ]
            ],
            "type": "histogram2dcontour"
           }
          ],
          "mesh3d": [
           {
            "colorbar": {
             "outlinewidth": 0,
             "ticks": ""
            },
            "type": "mesh3d"
           }
          ],
          "parcoords": [
           {
            "line": {
             "colorbar": {
              "outlinewidth": 0,
              "ticks": ""
             }
            },
            "type": "parcoords"
           }
          ],
          "pie": [
           {
            "automargin": true,
            "type": "pie"
           }
          ],
          "scatter": [
           {
            "marker": {
             "colorbar": {
              "outlinewidth": 0,
              "ticks": ""
             }
            },
            "type": "scatter"
           }
          ],
          "scatter3d": [
           {
            "line": {
             "colorbar": {
              "outlinewidth": 0,
              "ticks": ""
             }
            },
            "marker": {
             "colorbar": {
              "outlinewidth": 0,
              "ticks": ""
             }
            },
            "type": "scatter3d"
           }
          ],
          "scattercarpet": [
           {
            "marker": {
             "colorbar": {
              "outlinewidth": 0,
              "ticks": ""
             }
            },
            "type": "scattercarpet"
           }
          ],
          "scattergeo": [
           {
            "marker": {
             "colorbar": {
              "outlinewidth": 0,
              "ticks": ""
             }
            },
            "type": "scattergeo"
           }
          ],
          "scattergl": [
           {
            "marker": {
             "colorbar": {
              "outlinewidth": 0,
              "ticks": ""
             }
            },
            "type": "scattergl"
           }
          ],
          "scattermapbox": [
           {
            "marker": {
             "colorbar": {
              "outlinewidth": 0,
              "ticks": ""
             }
            },
            "type": "scattermapbox"
           }
          ],
          "scatterpolar": [
           {
            "marker": {
             "colorbar": {
              "outlinewidth": 0,
              "ticks": ""
             }
            },
            "type": "scatterpolar"
           }
          ],
          "scatterpolargl": [
           {
            "marker": {
             "colorbar": {
              "outlinewidth": 0,
              "ticks": ""
             }
            },
            "type": "scatterpolargl"
           }
          ],
          "scatterternary": [
           {
            "marker": {
             "colorbar": {
              "outlinewidth": 0,
              "ticks": ""
             }
            },
            "type": "scatterternary"
           }
          ],
          "surface": [
           {
            "colorbar": {
             "outlinewidth": 0,
             "ticks": ""
            },
            "colorscale": [
             [
              0,
              "#0d0887"
             ],
             [
              0.1111111111111111,
              "#46039f"
             ],
             [
              0.2222222222222222,
              "#7201a8"
             ],
             [
              0.3333333333333333,
              "#9c179e"
             ],
             [
              0.4444444444444444,
              "#bd3786"
             ],
             [
              0.5555555555555556,
              "#d8576b"
             ],
             [
              0.6666666666666666,
              "#ed7953"
             ],
             [
              0.7777777777777778,
              "#fb9f3a"
             ],
             [
              0.8888888888888888,
              "#fdca26"
             ],
             [
              1,
              "#f0f921"
             ]
            ],
            "type": "surface"
           }
          ],
          "table": [
           {
            "cells": {
             "fill": {
              "color": "#EBF0F8"
             },
             "line": {
              "color": "white"
             }
            },
            "header": {
             "fill": {
              "color": "#C8D4E3"
             },
             "line": {
              "color": "white"
             }
            },
            "type": "table"
           }
          ]
         },
         "layout": {
          "annotationdefaults": {
           "arrowcolor": "#2a3f5f",
           "arrowhead": 0,
           "arrowwidth": 1
          },
          "coloraxis": {
           "colorbar": {
            "outlinewidth": 0,
            "ticks": ""
           }
          },
          "colorscale": {
           "diverging": [
            [
             0,
             "#8e0152"
            ],
            [
             0.1,
             "#c51b7d"
            ],
            [
             0.2,
             "#de77ae"
            ],
            [
             0.3,
             "#f1b6da"
            ],
            [
             0.4,
             "#fde0ef"
            ],
            [
             0.5,
             "#f7f7f7"
            ],
            [
             0.6,
             "#e6f5d0"
            ],
            [
             0.7,
             "#b8e186"
            ],
            [
             0.8,
             "#7fbc41"
            ],
            [
             0.9,
             "#4d9221"
            ],
            [
             1,
             "#276419"
            ]
           ],
           "sequential": [
            [
             0,
             "#0d0887"
            ],
            [
             0.1111111111111111,
             "#46039f"
            ],
            [
             0.2222222222222222,
             "#7201a8"
            ],
            [
             0.3333333333333333,
             "#9c179e"
            ],
            [
             0.4444444444444444,
             "#bd3786"
            ],
            [
             0.5555555555555556,
             "#d8576b"
            ],
            [
             0.6666666666666666,
             "#ed7953"
            ],
            [
             0.7777777777777778,
             "#fb9f3a"
            ],
            [
             0.8888888888888888,
             "#fdca26"
            ],
            [
             1,
             "#f0f921"
            ]
           ],
           "sequentialminus": [
            [
             0,
             "#0d0887"
            ],
            [
             0.1111111111111111,
             "#46039f"
            ],
            [
             0.2222222222222222,
             "#7201a8"
            ],
            [
             0.3333333333333333,
             "#9c179e"
            ],
            [
             0.4444444444444444,
             "#bd3786"
            ],
            [
             0.5555555555555556,
             "#d8576b"
            ],
            [
             0.6666666666666666,
             "#ed7953"
            ],
            [
             0.7777777777777778,
             "#fb9f3a"
            ],
            [
             0.8888888888888888,
             "#fdca26"
            ],
            [
             1,
             "#f0f921"
            ]
           ]
          },
          "colorway": [
           "#636efa",
           "#EF553B",
           "#00cc96",
           "#ab63fa",
           "#FFA15A",
           "#19d3f3",
           "#FF6692",
           "#B6E880",
           "#FF97FF",
           "#FECB52"
          ],
          "font": {
           "color": "#2a3f5f"
          },
          "geo": {
           "bgcolor": "white",
           "lakecolor": "white",
           "landcolor": "#E5ECF6",
           "showlakes": true,
           "showland": true,
           "subunitcolor": "white"
          },
          "hoverlabel": {
           "align": "left"
          },
          "hovermode": "closest",
          "mapbox": {
           "style": "light"
          },
          "paper_bgcolor": "white",
          "plot_bgcolor": "#E5ECF6",
          "polar": {
           "angularaxis": {
            "gridcolor": "white",
            "linecolor": "white",
            "ticks": ""
           },
           "bgcolor": "#E5ECF6",
           "radialaxis": {
            "gridcolor": "white",
            "linecolor": "white",
            "ticks": ""
           }
          },
          "scene": {
           "xaxis": {
            "backgroundcolor": "#E5ECF6",
            "gridcolor": "white",
            "gridwidth": 2,
            "linecolor": "white",
            "showbackground": true,
            "ticks": "",
            "zerolinecolor": "white"
           },
           "yaxis": {
            "backgroundcolor": "#E5ECF6",
            "gridcolor": "white",
            "gridwidth": 2,
            "linecolor": "white",
            "showbackground": true,
            "ticks": "",
            "zerolinecolor": "white"
           },
           "zaxis": {
            "backgroundcolor": "#E5ECF6",
            "gridcolor": "white",
            "gridwidth": 2,
            "linecolor": "white",
            "showbackground": true,
            "ticks": "",
            "zerolinecolor": "white"
           }
          },
          "shapedefaults": {
           "line": {
            "color": "#2a3f5f"
           }
          },
          "ternary": {
           "aaxis": {
            "gridcolor": "white",
            "linecolor": "white",
            "ticks": ""
           },
           "baxis": {
            "gridcolor": "white",
            "linecolor": "white",
            "ticks": ""
           },
           "bgcolor": "#E5ECF6",
           "caxis": {
            "gridcolor": "white",
            "linecolor": "white",
            "ticks": ""
           }
          },
          "title": {
           "x": 0.05
          },
          "xaxis": {
           "automargin": true,
           "gridcolor": "white",
           "linecolor": "white",
           "ticks": "",
           "title": {
            "standoff": 15
           },
           "zerolinecolor": "white",
           "zerolinewidth": 2
          },
          "yaxis": {
           "automargin": true,
           "gridcolor": "white",
           "linecolor": "white",
           "ticks": "",
           "title": {
            "standoff": 15
           },
           "zerolinecolor": "white",
           "zerolinewidth": 2
          }
         }
        },
        "title": {
         "text": "Heating Rates ,Lat: 63.75, Lon: 15.0, 2015-03-15 00:05:00",
         "x": 0.5,
         "xanchor": "center",
         "y": 0.9,
         "yanchor": "top"
        },
        "width": 750,
        "xaxis": {
         "exponentformat": "power",
         "gridcolor": "grey",
         "gridwidth": 0.5,
         "linecolor": "black",
         "linewidth": 2,
         "mirror": true,
         "showexponent": "all",
         "showgrid": true,
         "showline": true,
         "title": {
          "text": "Heating Rate mW/m^3"
         },
         "type": "log"
        },
        "yaxis": {
         "gridcolor": "grey",
         "gridwidth": 0.5,
         "linecolor": "black",
         "linewidth": 2,
         "mirror": true,
         "showgrid": true,
         "showline": true,
         "tickmode": "array",
         "tickvals": [
          60,
          80,
          100,
          120,
          140,
          160,
          180,
          200,
          220,
          240,
          260,
          280,
          300,
          320,
          340,
          360,
          380,
          400,
          420,
          440,
          460,
          480,
          500
         ],
         "title": {
          "text": "Altitude (km)"
         }
        }
       }
      },
      "text/html": [
       "<div>\n",
       "        \n",
       "        \n",
       "            <div id=\"35d8a796-8ca3-4d70-9b7d-821fc44bb04b\" class=\"plotly-graph-div\" style=\"height:750px; width:750px;\"></div>\n",
       "            <script type=\"text/javascript\">\n",
       "                require([\"plotly\"], function(Plotly) {\n",
       "                    window.PLOTLYENV=window.PLOTLYENV || {};\n",
       "                    \n",
       "                if (document.getElementById(\"35d8a796-8ca3-4d70-9b7d-821fc44bb04b\")) {\n",
       "                    Plotly.newPlot(\n",
       "                        '35d8a796-8ca3-4d70-9b7d-821fc44bb04b',\n",
       "                        [{\"line\": {\"color\": \"red\"}, \"mode\": \"lines\", \"name\": \"Ohmic HR\", \"type\": \"scatter\", \"x\": [2.384633197006949e-07, 5.712420245276479e-07, 1.0160371498195436e-06, 1.3949071394012557e-06, 1.5065315227029788e-06, 1.303102656758167e-06, 9.404022577841896e-07, 5.96484222715584e-07, 3.452347693021987e-07, 1.9326584588765307e-07, 1.1810713093670013e-07, 8.46710259737844e-08, 6.458031406364668e-08, 4.595254817353381e-08, 2.8663523014720094e-08, 1.5839970744480728e-08, 9.185873603789572e-09, 8.322947317901318e-09, 1.1030824828676939e-08, 1.4604578600850746e-08, 1.7698344093480112e-08, 2.028493537151737e-08, 2.3278323533414464e-08, 2.7390179126112962e-08, 3.240622483088979e-08, 3.725563478018203e-08, 4.0627983652963236e-08, 4.1660759042632244e-08, 4.024226539862666e-08], \"y\": [105.98968, 107.89062, 110.03647, 112.45457, 115.16966, 118.2009, 121.56061, 125.26039, 129.31769, 133.75335, 138.58257, 143.80797, 149.41922, 155.39804, 161.72389, 168.37786, 175.34424, 182.61102, 190.16946, 198.01382, 206.14078, 214.54912, 223.2389, 232.21076, 241.46514, 251.0014, 260.8174, 270.90916, 281.27086]}, {\"line\": {\"color\": \"green\"}, \"mode\": \"lines\", \"name\": \"Joule HR\", \"type\": \"scatter\", \"x\": [2.6111927123245406e-07, 6.245839730835388e-07, 1.0994812625117235e-06, 1.4812517623878111e-06, 1.560254069352778e-06, 1.3160882906920702e-06, 9.337808910998614e-07, 5.906175676044376e-07, 3.459941385872398e-07, 1.9829023952055787e-07, 1.2488647622086615e-07, 9.252619908440624e-08, 7.293381046680819e-08, 5.3535169487716615e-08, 3.4340271305658396e-08, 1.9439816306706264e-08, 1.1503509894174707e-08, 1.0620169591310022e-08, 1.4313161639748694e-08, 1.9143462167208105e-08, 2.3173399007172304e-08, 2.5910009594580245e-08, 2.811585028018069e-08, 3.0718815612711026e-08, 3.402373179972422e-08, 3.749764345050591e-08, 4.0087428897734206e-08, 4.087220237974267e-08, 3.9536446023615187e-08], \"y\": [105.98968, 107.89062, 110.03647, 112.45457, 115.16966, 118.2009, 121.56061, 125.26039, 129.31769, 133.75335, 138.58257, 143.80797, 149.41922, 155.39804, 161.72389, 168.37786, 175.34424, 182.61102, 190.16946, 198.01382, 206.14078, 214.54912, 223.2389, 232.21076, 241.46514, 251.0014, 260.8174, 270.90916, 281.27086]}, {\"line\": {\"color\": \"blue\"}, \"mode\": \"lines\", \"name\": \"Frictional HR\", \"type\": \"scatter\", \"x\": [2.6112906357233804e-07, 6.246073958608837e-07, 1.0995224946052714e-06, 1.4813073114119893e-06, 1.5603125810745685e-06, 1.3161376458537896e-06, 9.338159091964564e-07, 5.906397165938097e-07, 3.460071138540092e-07, 1.9829767568339593e-07, 1.2489115963935262e-07, 9.252966894699168e-08, 7.293654558726775e-08, 5.3537177131859106e-08, 3.434155911412513e-08, 1.944054532715603e-08, 1.1503941291973158e-08, 1.0620567862604856e-08, 1.4313698403438811e-08, 1.9144180073960856e-08, 2.3174268042223946e-08, 2.5910981256377415e-08, 2.811690466410571e-08, 3.0719967611496404e-08, 3.4025007737514156e-08, 3.749904966486873e-08, 4.008893223269307e-08, 4.0873735144810444e-08, 3.953792869594097e-08], \"y\": [105.98968, 107.89062, 110.03647, 112.45457, 115.16966, 118.2009, 121.56061, 125.26039, 129.31769, 133.75335, 138.58257, 143.80797, 149.41922, 155.39804, 161.72389, 168.37786, 175.34424, 182.61102, 190.16946, 198.01382, 206.14078, 214.54912, 223.2389, 232.21076, 241.46514, 251.0014, 260.8174, 270.90916, 281.27086]}],\n",
       "                        {\"height\": 750, \"template\": {\"data\": {\"bar\": [{\"error_x\": {\"color\": \"#2a3f5f\"}, \"error_y\": {\"color\": \"#2a3f5f\"}, \"marker\": {\"line\": {\"color\": \"#E5ECF6\", \"width\": 0.5}}, \"type\": \"bar\"}], \"barpolar\": [{\"marker\": {\"line\": {\"color\": \"#E5ECF6\", \"width\": 0.5}}, \"type\": \"barpolar\"}], \"carpet\": [{\"aaxis\": {\"endlinecolor\": \"#2a3f5f\", \"gridcolor\": \"white\", \"linecolor\": \"white\", \"minorgridcolor\": \"white\", \"startlinecolor\": \"#2a3f5f\"}, \"baxis\": {\"endlinecolor\": \"#2a3f5f\", \"gridcolor\": \"white\", \"linecolor\": \"white\", \"minorgridcolor\": \"white\", \"startlinecolor\": \"#2a3f5f\"}, \"type\": \"carpet\"}], \"choropleth\": [{\"colorbar\": {\"outlinewidth\": 0, \"ticks\": \"\"}, \"type\": \"choropleth\"}], \"contour\": [{\"colorbar\": {\"outlinewidth\": 0, \"ticks\": \"\"}, \"colorscale\": [[0.0, \"#0d0887\"], [0.1111111111111111, \"#46039f\"], [0.2222222222222222, \"#7201a8\"], [0.3333333333333333, \"#9c179e\"], [0.4444444444444444, \"#bd3786\"], [0.5555555555555556, \"#d8576b\"], [0.6666666666666666, \"#ed7953\"], [0.7777777777777778, \"#fb9f3a\"], [0.8888888888888888, \"#fdca26\"], [1.0, \"#f0f921\"]], \"type\": \"contour\"}], \"contourcarpet\": [{\"colorbar\": {\"outlinewidth\": 0, \"ticks\": \"\"}, \"type\": \"contourcarpet\"}], \"heatmap\": [{\"colorbar\": {\"outlinewidth\": 0, \"ticks\": \"\"}, \"colorscale\": [[0.0, \"#0d0887\"], [0.1111111111111111, \"#46039f\"], [0.2222222222222222, \"#7201a8\"], [0.3333333333333333, \"#9c179e\"], [0.4444444444444444, \"#bd3786\"], [0.5555555555555556, \"#d8576b\"], [0.6666666666666666, \"#ed7953\"], [0.7777777777777778, \"#fb9f3a\"], [0.8888888888888888, \"#fdca26\"], [1.0, \"#f0f921\"]], \"type\": \"heatmap\"}], \"heatmapgl\": [{\"colorbar\": {\"outlinewidth\": 0, \"ticks\": \"\"}, \"colorscale\": [[0.0, \"#0d0887\"], [0.1111111111111111, \"#46039f\"], [0.2222222222222222, \"#7201a8\"], [0.3333333333333333, \"#9c179e\"], [0.4444444444444444, \"#bd3786\"], [0.5555555555555556, \"#d8576b\"], [0.6666666666666666, \"#ed7953\"], [0.7777777777777778, \"#fb9f3a\"], [0.8888888888888888, \"#fdca26\"], [1.0, \"#f0f921\"]], \"type\": \"heatmapgl\"}], \"histogram\": [{\"marker\": {\"colorbar\": {\"outlinewidth\": 0, \"ticks\": \"\"}}, \"type\": \"histogram\"}], \"histogram2d\": [{\"colorbar\": {\"outlinewidth\": 0, \"ticks\": \"\"}, \"colorscale\": [[0.0, \"#0d0887\"], [0.1111111111111111, \"#46039f\"], [0.2222222222222222, \"#7201a8\"], [0.3333333333333333, \"#9c179e\"], [0.4444444444444444, \"#bd3786\"], [0.5555555555555556, \"#d8576b\"], [0.6666666666666666, \"#ed7953\"], [0.7777777777777778, \"#fb9f3a\"], [0.8888888888888888, \"#fdca26\"], [1.0, \"#f0f921\"]], \"type\": \"histogram2d\"}], \"histogram2dcontour\": [{\"colorbar\": {\"outlinewidth\": 0, \"ticks\": \"\"}, \"colorscale\": [[0.0, \"#0d0887\"], [0.1111111111111111, \"#46039f\"], [0.2222222222222222, \"#7201a8\"], [0.3333333333333333, \"#9c179e\"], [0.4444444444444444, \"#bd3786\"], [0.5555555555555556, \"#d8576b\"], [0.6666666666666666, \"#ed7953\"], [0.7777777777777778, \"#fb9f3a\"], [0.8888888888888888, \"#fdca26\"], [1.0, \"#f0f921\"]], \"type\": \"histogram2dcontour\"}], \"mesh3d\": [{\"colorbar\": {\"outlinewidth\": 0, \"ticks\": \"\"}, \"type\": \"mesh3d\"}], \"parcoords\": [{\"line\": {\"colorbar\": {\"outlinewidth\": 0, \"ticks\": \"\"}}, \"type\": \"parcoords\"}], \"pie\": [{\"automargin\": true, \"type\": \"pie\"}], \"scatter\": [{\"marker\": {\"colorbar\": {\"outlinewidth\": 0, \"ticks\": \"\"}}, \"type\": \"scatter\"}], \"scatter3d\": [{\"line\": {\"colorbar\": {\"outlinewidth\": 0, \"ticks\": \"\"}}, \"marker\": {\"colorbar\": {\"outlinewidth\": 0, \"ticks\": \"\"}}, \"type\": \"scatter3d\"}], \"scattercarpet\": [{\"marker\": {\"colorbar\": {\"outlinewidth\": 0, \"ticks\": \"\"}}, \"type\": \"scattercarpet\"}], \"scattergeo\": [{\"marker\": {\"colorbar\": {\"outlinewidth\": 0, \"ticks\": \"\"}}, \"type\": \"scattergeo\"}], \"scattergl\": [{\"marker\": {\"colorbar\": {\"outlinewidth\": 0, \"ticks\": \"\"}}, \"type\": \"scattergl\"}], \"scattermapbox\": [{\"marker\": {\"colorbar\": {\"outlinewidth\": 0, \"ticks\": \"\"}}, \"type\": \"scattermapbox\"}], \"scatterpolar\": [{\"marker\": {\"colorbar\": {\"outlinewidth\": 0, \"ticks\": \"\"}}, \"type\": \"scatterpolar\"}], \"scatterpolargl\": [{\"marker\": {\"colorbar\": {\"outlinewidth\": 0, \"ticks\": \"\"}}, \"type\": \"scatterpolargl\"}], \"scatterternary\": [{\"marker\": {\"colorbar\": {\"outlinewidth\": 0, \"ticks\": \"\"}}, \"type\": \"scatterternary\"}], \"surface\": [{\"colorbar\": {\"outlinewidth\": 0, \"ticks\": \"\"}, \"colorscale\": [[0.0, \"#0d0887\"], [0.1111111111111111, \"#46039f\"], [0.2222222222222222, \"#7201a8\"], [0.3333333333333333, \"#9c179e\"], [0.4444444444444444, \"#bd3786\"], [0.5555555555555556, \"#d8576b\"], [0.6666666666666666, \"#ed7953\"], [0.7777777777777778, \"#fb9f3a\"], [0.8888888888888888, \"#fdca26\"], [1.0, \"#f0f921\"]], \"type\": \"surface\"}], \"table\": [{\"cells\": {\"fill\": {\"color\": \"#EBF0F8\"}, \"line\": {\"color\": \"white\"}}, \"header\": {\"fill\": {\"color\": \"#C8D4E3\"}, \"line\": {\"color\": \"white\"}}, \"type\": \"table\"}]}, \"layout\": {\"annotationdefaults\": {\"arrowcolor\": \"#2a3f5f\", \"arrowhead\": 0, \"arrowwidth\": 1}, \"coloraxis\": {\"colorbar\": {\"outlinewidth\": 0, \"ticks\": \"\"}}, \"colorscale\": {\"diverging\": [[0, \"#8e0152\"], [0.1, \"#c51b7d\"], [0.2, \"#de77ae\"], [0.3, \"#f1b6da\"], [0.4, \"#fde0ef\"], [0.5, \"#f7f7f7\"], [0.6, \"#e6f5d0\"], [0.7, \"#b8e186\"], [0.8, \"#7fbc41\"], [0.9, \"#4d9221\"], [1, \"#276419\"]], \"sequential\": [[0.0, \"#0d0887\"], [0.1111111111111111, \"#46039f\"], [0.2222222222222222, \"#7201a8\"], [0.3333333333333333, \"#9c179e\"], [0.4444444444444444, \"#bd3786\"], [0.5555555555555556, \"#d8576b\"], [0.6666666666666666, \"#ed7953\"], [0.7777777777777778, \"#fb9f3a\"], [0.8888888888888888, \"#fdca26\"], [1.0, \"#f0f921\"]], \"sequentialminus\": [[0.0, \"#0d0887\"], [0.1111111111111111, \"#46039f\"], [0.2222222222222222, \"#7201a8\"], [0.3333333333333333, \"#9c179e\"], [0.4444444444444444, \"#bd3786\"], [0.5555555555555556, \"#d8576b\"], [0.6666666666666666, \"#ed7953\"], [0.7777777777777778, \"#fb9f3a\"], [0.8888888888888888, \"#fdca26\"], [1.0, \"#f0f921\"]]}, \"colorway\": [\"#636efa\", \"#EF553B\", \"#00cc96\", \"#ab63fa\", \"#FFA15A\", \"#19d3f3\", \"#FF6692\", \"#B6E880\", \"#FF97FF\", \"#FECB52\"], \"font\": {\"color\": \"#2a3f5f\"}, \"geo\": {\"bgcolor\": \"white\", \"lakecolor\": \"white\", \"landcolor\": \"#E5ECF6\", \"showlakes\": true, \"showland\": true, \"subunitcolor\": \"white\"}, \"hoverlabel\": {\"align\": \"left\"}, \"hovermode\": \"closest\", \"mapbox\": {\"style\": \"light\"}, \"paper_bgcolor\": \"white\", \"plot_bgcolor\": \"#E5ECF6\", \"polar\": {\"angularaxis\": {\"gridcolor\": \"white\", \"linecolor\": \"white\", \"ticks\": \"\"}, \"bgcolor\": \"#E5ECF6\", \"radialaxis\": {\"gridcolor\": \"white\", \"linecolor\": \"white\", \"ticks\": \"\"}}, \"scene\": {\"xaxis\": {\"backgroundcolor\": \"#E5ECF6\", \"gridcolor\": \"white\", \"gridwidth\": 2, \"linecolor\": \"white\", \"showbackground\": true, \"ticks\": \"\", \"zerolinecolor\": \"white\"}, \"yaxis\": {\"backgroundcolor\": \"#E5ECF6\", \"gridcolor\": \"white\", \"gridwidth\": 2, \"linecolor\": \"white\", \"showbackground\": true, \"ticks\": \"\", \"zerolinecolor\": \"white\"}, \"zaxis\": {\"backgroundcolor\": \"#E5ECF6\", \"gridcolor\": \"white\", \"gridwidth\": 2, \"linecolor\": \"white\", \"showbackground\": true, \"ticks\": \"\", \"zerolinecolor\": \"white\"}}, \"shapedefaults\": {\"line\": {\"color\": \"#2a3f5f\"}}, \"ternary\": {\"aaxis\": {\"gridcolor\": \"white\", \"linecolor\": \"white\", \"ticks\": \"\"}, \"baxis\": {\"gridcolor\": \"white\", \"linecolor\": \"white\", \"ticks\": \"\"}, \"bgcolor\": \"#E5ECF6\", \"caxis\": {\"gridcolor\": \"white\", \"linecolor\": \"white\", \"ticks\": \"\"}}, \"title\": {\"x\": 0.05}, \"xaxis\": {\"automargin\": true, \"gridcolor\": \"white\", \"linecolor\": \"white\", \"ticks\": \"\", \"title\": {\"standoff\": 15}, \"zerolinecolor\": \"white\", \"zerolinewidth\": 2}, \"yaxis\": {\"automargin\": true, \"gridcolor\": \"white\", \"linecolor\": \"white\", \"ticks\": \"\", \"title\": {\"standoff\": 15}, \"zerolinecolor\": \"white\", \"zerolinewidth\": 2}}}, \"title\": {\"text\": \"Heating Rates ,Lat: 63.75, Lon: 15.0, 2015-03-15 00:05:00\", \"x\": 0.5, \"xanchor\": \"center\", \"y\": 0.9, \"yanchor\": \"top\"}, \"width\": 750, \"xaxis\": {\"exponentformat\": \"power\", \"gridcolor\": \"grey\", \"gridwidth\": 0.5, \"linecolor\": \"black\", \"linewidth\": 2, \"mirror\": true, \"showexponent\": \"all\", \"showgrid\": true, \"showline\": true, \"title\": {\"text\": \"Heating Rate mW/m^3\"}, \"type\": \"log\"}, \"yaxis\": {\"gridcolor\": \"grey\", \"gridwidth\": 0.5, \"linecolor\": \"black\", \"linewidth\": 2, \"mirror\": true, \"showgrid\": true, \"showline\": true, \"tickmode\": \"array\", \"tickvals\": [60, 80, 100, 120, 140, 160, 180, 200, 220, 240, 260, 280, 300, 320, 340, 360, 380, 400, 420, 440, 460, 480, 500], \"title\": {\"text\": \"Altitude (km)\"}}},\n",
       "                        {\"responsive\": true}\n",
       "                    ).then(function(){\n",
       "                            \n",
       "var gd = document.getElementById('35d8a796-8ca3-4d70-9b7d-821fc44bb04b');\n",
       "var x = new MutationObserver(function (mutations, observer) {{\n",
       "        var display = window.getComputedStyle(gd).display;\n",
       "        if (!display || display === 'none') {{\n",
       "            console.log([gd, 'removed!']);\n",
       "            Plotly.purge(gd);\n",
       "            observer.disconnect();\n",
       "        }}\n",
       "}});\n",
       "\n",
       "// Listen for the removal of the full notebook cells\n",
       "var notebookContainer = gd.closest('#notebook-container');\n",
       "if (notebookContainer) {{\n",
       "    x.observe(notebookContainer, {childList: true});\n",
       "}}\n",
       "\n",
       "// Listen for the clearing of the current output cell\n",
       "var outputEl = gd.closest('.output');\n",
       "if (outputEl) {{\n",
       "    x.observe(outputEl, {childList: true});\n",
       "}}\n",
       "\n",
       "                        })\n",
       "                };\n",
       "                });\n",
       "            </script>\n",
       "        </div>"
      ]
     },
     "metadata": {},
     "output_type": "display_data"
    },
    {
     "data": {
      "application/vnd.plotly.v1+json": {
       "config": {
        "plotlyServerURL": "https://plot.ly"
       },
       "data": [
        {
         "line": {
          "color": "red"
         },
         "mode": "lines",
         "name": "Sigma(O+)",
         "type": "scatter",
         "x": [
          1.3549712781814955e-14,
          1.28599879715793e-14,
          1.2243278217948898e-14,
          1.170680554763733e-14,
          1.1253513347618645e-14,
          1.0879600134239822e-14,
          1.0571429595069516e-14,
          1.031506094133465e-14,
          1.0105227567737375e-14,
          9.943902589560749e-15,
          9.83382369152453e-15,
          9.774130527170842e-15,
          9.759989509990502e-15,
          9.784480133677445e-15,
          9.840525434167292e-15,
          9.921924126347414e-15,
          1.0022952574806291e-14,
          1.0142472416965466e-14,
          1.0272814185298184e-14,
          1.041424074345516e-14,
          1.0563283063508017e-14,
          1.0717244686546703e-14,
          1.087339705586115e-14,
          1.1029095846493625e-14,
          1.1181785666793747e-14,
          1.1328688158013559e-14,
          1.1466840337856425e-14,
          1.1593560885395484e-14,
          1.170673139348044e-14
         ],
         "y": [
          105.98968,
          107.89062,
          110.03647,
          112.45457,
          115.16966,
          118.2009,
          121.56061,
          125.26039,
          129.31769,
          133.75335,
          138.58257,
          143.80797,
          149.41922,
          155.39804,
          161.72389,
          168.37786,
          175.34424,
          182.61102,
          190.16946,
          198.01382,
          206.14078,
          214.54912,
          223.2389,
          232.21076,
          241.46514,
          251.0014,
          260.8174,
          270.90916,
          281.27086
         ]
        }
       ],
       "layout": {
        "height": 750,
        "template": {
         "data": {
          "bar": [
           {
            "error_x": {
             "color": "#2a3f5f"
            },
            "error_y": {
             "color": "#2a3f5f"
            },
            "marker": {
             "line": {
              "color": "#E5ECF6",
              "width": 0.5
             }
            },
            "type": "bar"
           }
          ],
          "barpolar": [
           {
            "marker": {
             "line": {
              "color": "#E5ECF6",
              "width": 0.5
             }
            },
            "type": "barpolar"
           }
          ],
          "carpet": [
           {
            "aaxis": {
             "endlinecolor": "#2a3f5f",
             "gridcolor": "white",
             "linecolor": "white",
             "minorgridcolor": "white",
             "startlinecolor": "#2a3f5f"
            },
            "baxis": {
             "endlinecolor": "#2a3f5f",
             "gridcolor": "white",
             "linecolor": "white",
             "minorgridcolor": "white",
             "startlinecolor": "#2a3f5f"
            },
            "type": "carpet"
           }
          ],
          "choropleth": [
           {
            "colorbar": {
             "outlinewidth": 0,
             "ticks": ""
            },
            "type": "choropleth"
           }
          ],
          "contour": [
           {
            "colorbar": {
             "outlinewidth": 0,
             "ticks": ""
            },
            "colorscale": [
             [
              0,
              "#0d0887"
             ],
             [
              0.1111111111111111,
              "#46039f"
             ],
             [
              0.2222222222222222,
              "#7201a8"
             ],
             [
              0.3333333333333333,
              "#9c179e"
             ],
             [
              0.4444444444444444,
              "#bd3786"
             ],
             [
              0.5555555555555556,
              "#d8576b"
             ],
             [
              0.6666666666666666,
              "#ed7953"
             ],
             [
              0.7777777777777778,
              "#fb9f3a"
             ],
             [
              0.8888888888888888,
              "#fdca26"
             ],
             [
              1,
              "#f0f921"
             ]
            ],
            "type": "contour"
           }
          ],
          "contourcarpet": [
           {
            "colorbar": {
             "outlinewidth": 0,
             "ticks": ""
            },
            "type": "contourcarpet"
           }
          ],
          "heatmap": [
           {
            "colorbar": {
             "outlinewidth": 0,
             "ticks": ""
            },
            "colorscale": [
             [
              0,
              "#0d0887"
             ],
             [
              0.1111111111111111,
              "#46039f"
             ],
             [
              0.2222222222222222,
              "#7201a8"
             ],
             [
              0.3333333333333333,
              "#9c179e"
             ],
             [
              0.4444444444444444,
              "#bd3786"
             ],
             [
              0.5555555555555556,
              "#d8576b"
             ],
             [
              0.6666666666666666,
              "#ed7953"
             ],
             [
              0.7777777777777778,
              "#fb9f3a"
             ],
             [
              0.8888888888888888,
              "#fdca26"
             ],
             [
              1,
              "#f0f921"
             ]
            ],
            "type": "heatmap"
           }
          ],
          "heatmapgl": [
           {
            "colorbar": {
             "outlinewidth": 0,
             "ticks": ""
            },
            "colorscale": [
             [
              0,
              "#0d0887"
             ],
             [
              0.1111111111111111,
              "#46039f"
             ],
             [
              0.2222222222222222,
              "#7201a8"
             ],
             [
              0.3333333333333333,
              "#9c179e"
             ],
             [
              0.4444444444444444,
              "#bd3786"
             ],
             [
              0.5555555555555556,
              "#d8576b"
             ],
             [
              0.6666666666666666,
              "#ed7953"
             ],
             [
              0.7777777777777778,
              "#fb9f3a"
             ],
             [
              0.8888888888888888,
              "#fdca26"
             ],
             [
              1,
              "#f0f921"
             ]
            ],
            "type": "heatmapgl"
           }
          ],
          "histogram": [
           {
            "marker": {
             "colorbar": {
              "outlinewidth": 0,
              "ticks": ""
             }
            },
            "type": "histogram"
           }
          ],
          "histogram2d": [
           {
            "colorbar": {
             "outlinewidth": 0,
             "ticks": ""
            },
            "colorscale": [
             [
              0,
              "#0d0887"
             ],
             [
              0.1111111111111111,
              "#46039f"
             ],
             [
              0.2222222222222222,
              "#7201a8"
             ],
             [
              0.3333333333333333,
              "#9c179e"
             ],
             [
              0.4444444444444444,
              "#bd3786"
             ],
             [
              0.5555555555555556,
              "#d8576b"
             ],
             [
              0.6666666666666666,
              "#ed7953"
             ],
             [
              0.7777777777777778,
              "#fb9f3a"
             ],
             [
              0.8888888888888888,
              "#fdca26"
             ],
             [
              1,
              "#f0f921"
             ]
            ],
            "type": "histogram2d"
           }
          ],
          "histogram2dcontour": [
           {
            "colorbar": {
             "outlinewidth": 0,
             "ticks": ""
            },
            "colorscale": [
             [
              0,
              "#0d0887"
             ],
             [
              0.1111111111111111,
              "#46039f"
             ],
             [
              0.2222222222222222,
              "#7201a8"
             ],
             [
              0.3333333333333333,
              "#9c179e"
             ],
             [
              0.4444444444444444,
              "#bd3786"
             ],
             [
              0.5555555555555556,
              "#d8576b"
             ],
             [
              0.6666666666666666,
              "#ed7953"
             ],
             [
              0.7777777777777778,
              "#fb9f3a"
             ],
             [
              0.8888888888888888,
              "#fdca26"
             ],
             [
              1,
              "#f0f921"
             ]
            ],
            "type": "histogram2dcontour"
           }
          ],
          "mesh3d": [
           {
            "colorbar": {
             "outlinewidth": 0,
             "ticks": ""
            },
            "type": "mesh3d"
           }
          ],
          "parcoords": [
           {
            "line": {
             "colorbar": {
              "outlinewidth": 0,
              "ticks": ""
             }
            },
            "type": "parcoords"
           }
          ],
          "pie": [
           {
            "automargin": true,
            "type": "pie"
           }
          ],
          "scatter": [
           {
            "marker": {
             "colorbar": {
              "outlinewidth": 0,
              "ticks": ""
             }
            },
            "type": "scatter"
           }
          ],
          "scatter3d": [
           {
            "line": {
             "colorbar": {
              "outlinewidth": 0,
              "ticks": ""
             }
            },
            "marker": {
             "colorbar": {
              "outlinewidth": 0,
              "ticks": ""
             }
            },
            "type": "scatter3d"
           }
          ],
          "scattercarpet": [
           {
            "marker": {
             "colorbar": {
              "outlinewidth": 0,
              "ticks": ""
             }
            },
            "type": "scattercarpet"
           }
          ],
          "scattergeo": [
           {
            "marker": {
             "colorbar": {
              "outlinewidth": 0,
              "ticks": ""
             }
            },
            "type": "scattergeo"
           }
          ],
          "scattergl": [
           {
            "marker": {
             "colorbar": {
              "outlinewidth": 0,
              "ticks": ""
             }
            },
            "type": "scattergl"
           }
          ],
          "scattermapbox": [
           {
            "marker": {
             "colorbar": {
              "outlinewidth": 0,
              "ticks": ""
             }
            },
            "type": "scattermapbox"
           }
          ],
          "scatterpolar": [
           {
            "marker": {
             "colorbar": {
              "outlinewidth": 0,
              "ticks": ""
             }
            },
            "type": "scatterpolar"
           }
          ],
          "scatterpolargl": [
           {
            "marker": {
             "colorbar": {
              "outlinewidth": 0,
              "ticks": ""
             }
            },
            "type": "scatterpolargl"
           }
          ],
          "scatterternary": [
           {
            "marker": {
             "colorbar": {
              "outlinewidth": 0,
              "ticks": ""
             }
            },
            "type": "scatterternary"
           }
          ],
          "surface": [
           {
            "colorbar": {
             "outlinewidth": 0,
             "ticks": ""
            },
            "colorscale": [
             [
              0,
              "#0d0887"
             ],
             [
              0.1111111111111111,
              "#46039f"
             ],
             [
              0.2222222222222222,
              "#7201a8"
             ],
             [
              0.3333333333333333,
              "#9c179e"
             ],
             [
              0.4444444444444444,
              "#bd3786"
             ],
             [
              0.5555555555555556,
              "#d8576b"
             ],
             [
              0.6666666666666666,
              "#ed7953"
             ],
             [
              0.7777777777777778,
              "#fb9f3a"
             ],
             [
              0.8888888888888888,
              "#fdca26"
             ],
             [
              1,
              "#f0f921"
             ]
            ],
            "type": "surface"
           }
          ],
          "table": [
           {
            "cells": {
             "fill": {
              "color": "#EBF0F8"
             },
             "line": {
              "color": "white"
             }
            },
            "header": {
             "fill": {
              "color": "#C8D4E3"
             },
             "line": {
              "color": "white"
             }
            },
            "type": "table"
           }
          ]
         },
         "layout": {
          "annotationdefaults": {
           "arrowcolor": "#2a3f5f",
           "arrowhead": 0,
           "arrowwidth": 1
          },
          "coloraxis": {
           "colorbar": {
            "outlinewidth": 0,
            "ticks": ""
           }
          },
          "colorscale": {
           "diverging": [
            [
             0,
             "#8e0152"
            ],
            [
             0.1,
             "#c51b7d"
            ],
            [
             0.2,
             "#de77ae"
            ],
            [
             0.3,
             "#f1b6da"
            ],
            [
             0.4,
             "#fde0ef"
            ],
            [
             0.5,
             "#f7f7f7"
            ],
            [
             0.6,
             "#e6f5d0"
            ],
            [
             0.7,
             "#b8e186"
            ],
            [
             0.8,
             "#7fbc41"
            ],
            [
             0.9,
             "#4d9221"
            ],
            [
             1,
             "#276419"
            ]
           ],
           "sequential": [
            [
             0,
             "#0d0887"
            ],
            [
             0.1111111111111111,
             "#46039f"
            ],
            [
             0.2222222222222222,
             "#7201a8"
            ],
            [
             0.3333333333333333,
             "#9c179e"
            ],
            [
             0.4444444444444444,
             "#bd3786"
            ],
            [
             0.5555555555555556,
             "#d8576b"
            ],
            [
             0.6666666666666666,
             "#ed7953"
            ],
            [
             0.7777777777777778,
             "#fb9f3a"
            ],
            [
             0.8888888888888888,
             "#fdca26"
            ],
            [
             1,
             "#f0f921"
            ]
           ],
           "sequentialminus": [
            [
             0,
             "#0d0887"
            ],
            [
             0.1111111111111111,
             "#46039f"
            ],
            [
             0.2222222222222222,
             "#7201a8"
            ],
            [
             0.3333333333333333,
             "#9c179e"
            ],
            [
             0.4444444444444444,
             "#bd3786"
            ],
            [
             0.5555555555555556,
             "#d8576b"
            ],
            [
             0.6666666666666666,
             "#ed7953"
            ],
            [
             0.7777777777777778,
             "#fb9f3a"
            ],
            [
             0.8888888888888888,
             "#fdca26"
            ],
            [
             1,
             "#f0f921"
            ]
           ]
          },
          "colorway": [
           "#636efa",
           "#EF553B",
           "#00cc96",
           "#ab63fa",
           "#FFA15A",
           "#19d3f3",
           "#FF6692",
           "#B6E880",
           "#FF97FF",
           "#FECB52"
          ],
          "font": {
           "color": "#2a3f5f"
          },
          "geo": {
           "bgcolor": "white",
           "lakecolor": "white",
           "landcolor": "#E5ECF6",
           "showlakes": true,
           "showland": true,
           "subunitcolor": "white"
          },
          "hoverlabel": {
           "align": "left"
          },
          "hovermode": "closest",
          "mapbox": {
           "style": "light"
          },
          "paper_bgcolor": "white",
          "plot_bgcolor": "#E5ECF6",
          "polar": {
           "angularaxis": {
            "gridcolor": "white",
            "linecolor": "white",
            "ticks": ""
           },
           "bgcolor": "#E5ECF6",
           "radialaxis": {
            "gridcolor": "white",
            "linecolor": "white",
            "ticks": ""
           }
          },
          "scene": {
           "xaxis": {
            "backgroundcolor": "#E5ECF6",
            "gridcolor": "white",
            "gridwidth": 2,
            "linecolor": "white",
            "showbackground": true,
            "ticks": "",
            "zerolinecolor": "white"
           },
           "yaxis": {
            "backgroundcolor": "#E5ECF6",
            "gridcolor": "white",
            "gridwidth": 2,
            "linecolor": "white",
            "showbackground": true,
            "ticks": "",
            "zerolinecolor": "white"
           },
           "zaxis": {
            "backgroundcolor": "#E5ECF6",
            "gridcolor": "white",
            "gridwidth": 2,
            "linecolor": "white",
            "showbackground": true,
            "ticks": "",
            "zerolinecolor": "white"
           }
          },
          "shapedefaults": {
           "line": {
            "color": "#2a3f5f"
           }
          },
          "ternary": {
           "aaxis": {
            "gridcolor": "white",
            "linecolor": "white",
            "ticks": ""
           },
           "baxis": {
            "gridcolor": "white",
            "linecolor": "white",
            "ticks": ""
           },
           "bgcolor": "#E5ECF6",
           "caxis": {
            "gridcolor": "white",
            "linecolor": "white",
            "ticks": ""
           }
          },
          "title": {
           "x": 0.05
          },
          "xaxis": {
           "automargin": true,
           "gridcolor": "white",
           "linecolor": "white",
           "ticks": "",
           "title": {
            "standoff": 15
           },
           "zerolinecolor": "white",
           "zerolinewidth": 2
          },
          "yaxis": {
           "automargin": true,
           "gridcolor": "white",
           "linecolor": "white",
           "ticks": "",
           "title": {
            "standoff": 15
           },
           "zerolinecolor": "white",
           "zerolinewidth": 2
          }
         }
        },
        "title": {
         "text": "Cross sections(σΟ+),Lat: 63.75, Lon: 15.0, 2015-03-15 00:05:00",
         "x": 0.5,
         "xanchor": "center",
         "y": 0.9,
         "yanchor": "top"
        },
        "width": 750,
        "xaxis": {
         "exponentformat": "power",
         "gridcolor": "grey",
         "gridwidth": 0.5,
         "linecolor": "black",
         "linewidth": 2,
         "mirror": true,
         "showexponent": "all",
         "showgrid": true,
         "showline": true,
         "title": {
          "text": "cm^2"
         }
        },
        "yaxis": {
         "gridcolor": "grey",
         "gridwidth": 0.5,
         "linecolor": "black",
         "linewidth": 2,
         "mirror": true,
         "showgrid": true,
         "showline": true,
         "tickmode": "array",
         "tickvals": [
          60,
          80,
          100,
          120,
          140,
          160,
          180,
          200,
          220,
          240,
          260,
          280,
          300,
          320,
          340,
          360,
          380,
          400,
          420,
          440,
          460,
          480,
          500
         ],
         "title": {
          "text": "Altitude (km)"
         }
        }
       }
      },
      "text/html": [
       "<div>\n",
       "        \n",
       "        \n",
       "            <div id=\"e72583b7-01f2-44e7-b48d-d97f8fb74eda\" class=\"plotly-graph-div\" style=\"height:750px; width:750px;\"></div>\n",
       "            <script type=\"text/javascript\">\n",
       "                require([\"plotly\"], function(Plotly) {\n",
       "                    window.PLOTLYENV=window.PLOTLYENV || {};\n",
       "                    \n",
       "                if (document.getElementById(\"e72583b7-01f2-44e7-b48d-d97f8fb74eda\")) {\n",
       "                    Plotly.newPlot(\n",
       "                        'e72583b7-01f2-44e7-b48d-d97f8fb74eda',\n",
       "                        [{\"line\": {\"color\": \"red\"}, \"mode\": \"lines\", \"name\": \"Sigma(O+)\", \"type\": \"scatter\", \"x\": [1.3549712781814955e-14, 1.28599879715793e-14, 1.2243278217948898e-14, 1.170680554763733e-14, 1.1253513347618645e-14, 1.0879600134239822e-14, 1.0571429595069516e-14, 1.031506094133465e-14, 1.0105227567737375e-14, 9.943902589560749e-15, 9.83382369152453e-15, 9.774130527170842e-15, 9.759989509990502e-15, 9.784480133677445e-15, 9.840525434167292e-15, 9.921924126347414e-15, 1.0022952574806291e-14, 1.0142472416965466e-14, 1.0272814185298184e-14, 1.041424074345516e-14, 1.0563283063508017e-14, 1.0717244686546703e-14, 1.087339705586115e-14, 1.1029095846493625e-14, 1.1181785666793747e-14, 1.1328688158013559e-14, 1.1466840337856425e-14, 1.1593560885395484e-14, 1.170673139348044e-14], \"y\": [105.98968, 107.89062, 110.03647, 112.45457, 115.16966, 118.2009, 121.56061, 125.26039, 129.31769, 133.75335, 138.58257, 143.80797, 149.41922, 155.39804, 161.72389, 168.37786, 175.34424, 182.61102, 190.16946, 198.01382, 206.14078, 214.54912, 223.2389, 232.21076, 241.46514, 251.0014, 260.8174, 270.90916, 281.27086]}],\n",
       "                        {\"height\": 750, \"template\": {\"data\": {\"bar\": [{\"error_x\": {\"color\": \"#2a3f5f\"}, \"error_y\": {\"color\": \"#2a3f5f\"}, \"marker\": {\"line\": {\"color\": \"#E5ECF6\", \"width\": 0.5}}, \"type\": \"bar\"}], \"barpolar\": [{\"marker\": {\"line\": {\"color\": \"#E5ECF6\", \"width\": 0.5}}, \"type\": \"barpolar\"}], \"carpet\": [{\"aaxis\": {\"endlinecolor\": \"#2a3f5f\", \"gridcolor\": \"white\", \"linecolor\": \"white\", \"minorgridcolor\": \"white\", \"startlinecolor\": \"#2a3f5f\"}, \"baxis\": {\"endlinecolor\": \"#2a3f5f\", \"gridcolor\": \"white\", \"linecolor\": \"white\", \"minorgridcolor\": \"white\", \"startlinecolor\": \"#2a3f5f\"}, \"type\": \"carpet\"}], \"choropleth\": [{\"colorbar\": {\"outlinewidth\": 0, \"ticks\": \"\"}, \"type\": \"choropleth\"}], \"contour\": [{\"colorbar\": {\"outlinewidth\": 0, \"ticks\": \"\"}, \"colorscale\": [[0.0, \"#0d0887\"], [0.1111111111111111, \"#46039f\"], [0.2222222222222222, \"#7201a8\"], [0.3333333333333333, \"#9c179e\"], [0.4444444444444444, \"#bd3786\"], [0.5555555555555556, \"#d8576b\"], [0.6666666666666666, \"#ed7953\"], [0.7777777777777778, \"#fb9f3a\"], [0.8888888888888888, \"#fdca26\"], [1.0, \"#f0f921\"]], \"type\": \"contour\"}], \"contourcarpet\": [{\"colorbar\": {\"outlinewidth\": 0, \"ticks\": \"\"}, \"type\": \"contourcarpet\"}], \"heatmap\": [{\"colorbar\": {\"outlinewidth\": 0, \"ticks\": \"\"}, \"colorscale\": [[0.0, \"#0d0887\"], [0.1111111111111111, \"#46039f\"], [0.2222222222222222, \"#7201a8\"], [0.3333333333333333, \"#9c179e\"], [0.4444444444444444, \"#bd3786\"], [0.5555555555555556, \"#d8576b\"], [0.6666666666666666, \"#ed7953\"], [0.7777777777777778, \"#fb9f3a\"], [0.8888888888888888, \"#fdca26\"], [1.0, \"#f0f921\"]], \"type\": \"heatmap\"}], \"heatmapgl\": [{\"colorbar\": {\"outlinewidth\": 0, \"ticks\": \"\"}, \"colorscale\": [[0.0, \"#0d0887\"], [0.1111111111111111, \"#46039f\"], [0.2222222222222222, \"#7201a8\"], [0.3333333333333333, \"#9c179e\"], [0.4444444444444444, \"#bd3786\"], [0.5555555555555556, \"#d8576b\"], [0.6666666666666666, \"#ed7953\"], [0.7777777777777778, \"#fb9f3a\"], [0.8888888888888888, \"#fdca26\"], [1.0, \"#f0f921\"]], \"type\": \"heatmapgl\"}], \"histogram\": [{\"marker\": {\"colorbar\": {\"outlinewidth\": 0, \"ticks\": \"\"}}, \"type\": \"histogram\"}], \"histogram2d\": [{\"colorbar\": {\"outlinewidth\": 0, \"ticks\": \"\"}, \"colorscale\": [[0.0, \"#0d0887\"], [0.1111111111111111, \"#46039f\"], [0.2222222222222222, \"#7201a8\"], [0.3333333333333333, \"#9c179e\"], [0.4444444444444444, \"#bd3786\"], [0.5555555555555556, \"#d8576b\"], [0.6666666666666666, \"#ed7953\"], [0.7777777777777778, \"#fb9f3a\"], [0.8888888888888888, \"#fdca26\"], [1.0, \"#f0f921\"]], \"type\": \"histogram2d\"}], \"histogram2dcontour\": [{\"colorbar\": {\"outlinewidth\": 0, \"ticks\": \"\"}, \"colorscale\": [[0.0, \"#0d0887\"], [0.1111111111111111, \"#46039f\"], [0.2222222222222222, \"#7201a8\"], [0.3333333333333333, \"#9c179e\"], [0.4444444444444444, \"#bd3786\"], [0.5555555555555556, \"#d8576b\"], [0.6666666666666666, \"#ed7953\"], [0.7777777777777778, \"#fb9f3a\"], [0.8888888888888888, \"#fdca26\"], [1.0, \"#f0f921\"]], \"type\": \"histogram2dcontour\"}], \"mesh3d\": [{\"colorbar\": {\"outlinewidth\": 0, \"ticks\": \"\"}, \"type\": \"mesh3d\"}], \"parcoords\": [{\"line\": {\"colorbar\": {\"outlinewidth\": 0, \"ticks\": \"\"}}, \"type\": \"parcoords\"}], \"pie\": [{\"automargin\": true, \"type\": \"pie\"}], \"scatter\": [{\"marker\": {\"colorbar\": {\"outlinewidth\": 0, \"ticks\": \"\"}}, \"type\": \"scatter\"}], \"scatter3d\": [{\"line\": {\"colorbar\": {\"outlinewidth\": 0, \"ticks\": \"\"}}, \"marker\": {\"colorbar\": {\"outlinewidth\": 0, \"ticks\": \"\"}}, \"type\": \"scatter3d\"}], \"scattercarpet\": [{\"marker\": {\"colorbar\": {\"outlinewidth\": 0, \"ticks\": \"\"}}, \"type\": \"scattercarpet\"}], \"scattergeo\": [{\"marker\": {\"colorbar\": {\"outlinewidth\": 0, \"ticks\": \"\"}}, \"type\": \"scattergeo\"}], \"scattergl\": [{\"marker\": {\"colorbar\": {\"outlinewidth\": 0, \"ticks\": \"\"}}, \"type\": \"scattergl\"}], \"scattermapbox\": [{\"marker\": {\"colorbar\": {\"outlinewidth\": 0, \"ticks\": \"\"}}, \"type\": \"scattermapbox\"}], \"scatterpolar\": [{\"marker\": {\"colorbar\": {\"outlinewidth\": 0, \"ticks\": \"\"}}, \"type\": \"scatterpolar\"}], \"scatterpolargl\": [{\"marker\": {\"colorbar\": {\"outlinewidth\": 0, \"ticks\": \"\"}}, \"type\": \"scatterpolargl\"}], \"scatterternary\": [{\"marker\": {\"colorbar\": {\"outlinewidth\": 0, \"ticks\": \"\"}}, \"type\": \"scatterternary\"}], \"surface\": [{\"colorbar\": {\"outlinewidth\": 0, \"ticks\": \"\"}, \"colorscale\": [[0.0, \"#0d0887\"], [0.1111111111111111, \"#46039f\"], [0.2222222222222222, \"#7201a8\"], [0.3333333333333333, \"#9c179e\"], [0.4444444444444444, \"#bd3786\"], [0.5555555555555556, \"#d8576b\"], [0.6666666666666666, \"#ed7953\"], [0.7777777777777778, \"#fb9f3a\"], [0.8888888888888888, \"#fdca26\"], [1.0, \"#f0f921\"]], \"type\": \"surface\"}], \"table\": [{\"cells\": {\"fill\": {\"color\": \"#EBF0F8\"}, \"line\": {\"color\": \"white\"}}, \"header\": {\"fill\": {\"color\": \"#C8D4E3\"}, \"line\": {\"color\": \"white\"}}, \"type\": \"table\"}]}, \"layout\": {\"annotationdefaults\": {\"arrowcolor\": \"#2a3f5f\", \"arrowhead\": 0, \"arrowwidth\": 1}, \"coloraxis\": {\"colorbar\": {\"outlinewidth\": 0, \"ticks\": \"\"}}, \"colorscale\": {\"diverging\": [[0, \"#8e0152\"], [0.1, \"#c51b7d\"], [0.2, \"#de77ae\"], [0.3, \"#f1b6da\"], [0.4, \"#fde0ef\"], [0.5, \"#f7f7f7\"], [0.6, \"#e6f5d0\"], [0.7, \"#b8e186\"], [0.8, \"#7fbc41\"], [0.9, \"#4d9221\"], [1, \"#276419\"]], \"sequential\": [[0.0, \"#0d0887\"], [0.1111111111111111, \"#46039f\"], [0.2222222222222222, \"#7201a8\"], [0.3333333333333333, \"#9c179e\"], [0.4444444444444444, \"#bd3786\"], [0.5555555555555556, \"#d8576b\"], [0.6666666666666666, \"#ed7953\"], [0.7777777777777778, \"#fb9f3a\"], [0.8888888888888888, \"#fdca26\"], [1.0, \"#f0f921\"]], \"sequentialminus\": [[0.0, \"#0d0887\"], [0.1111111111111111, \"#46039f\"], [0.2222222222222222, \"#7201a8\"], [0.3333333333333333, \"#9c179e\"], [0.4444444444444444, \"#bd3786\"], [0.5555555555555556, \"#d8576b\"], [0.6666666666666666, \"#ed7953\"], [0.7777777777777778, \"#fb9f3a\"], [0.8888888888888888, \"#fdca26\"], [1.0, \"#f0f921\"]]}, \"colorway\": [\"#636efa\", \"#EF553B\", \"#00cc96\", \"#ab63fa\", \"#FFA15A\", \"#19d3f3\", \"#FF6692\", \"#B6E880\", \"#FF97FF\", \"#FECB52\"], \"font\": {\"color\": \"#2a3f5f\"}, \"geo\": {\"bgcolor\": \"white\", \"lakecolor\": \"white\", \"landcolor\": \"#E5ECF6\", \"showlakes\": true, \"showland\": true, \"subunitcolor\": \"white\"}, \"hoverlabel\": {\"align\": \"left\"}, \"hovermode\": \"closest\", \"mapbox\": {\"style\": \"light\"}, \"paper_bgcolor\": \"white\", \"plot_bgcolor\": \"#E5ECF6\", \"polar\": {\"angularaxis\": {\"gridcolor\": \"white\", \"linecolor\": \"white\", \"ticks\": \"\"}, \"bgcolor\": \"#E5ECF6\", \"radialaxis\": {\"gridcolor\": \"white\", \"linecolor\": \"white\", \"ticks\": \"\"}}, \"scene\": {\"xaxis\": {\"backgroundcolor\": \"#E5ECF6\", \"gridcolor\": \"white\", \"gridwidth\": 2, \"linecolor\": \"white\", \"showbackground\": true, \"ticks\": \"\", \"zerolinecolor\": \"white\"}, \"yaxis\": {\"backgroundcolor\": \"#E5ECF6\", \"gridcolor\": \"white\", \"gridwidth\": 2, \"linecolor\": \"white\", \"showbackground\": true, \"ticks\": \"\", \"zerolinecolor\": \"white\"}, \"zaxis\": {\"backgroundcolor\": \"#E5ECF6\", \"gridcolor\": \"white\", \"gridwidth\": 2, \"linecolor\": \"white\", \"showbackground\": true, \"ticks\": \"\", \"zerolinecolor\": \"white\"}}, \"shapedefaults\": {\"line\": {\"color\": \"#2a3f5f\"}}, \"ternary\": {\"aaxis\": {\"gridcolor\": \"white\", \"linecolor\": \"white\", \"ticks\": \"\"}, \"baxis\": {\"gridcolor\": \"white\", \"linecolor\": \"white\", \"ticks\": \"\"}, \"bgcolor\": \"#E5ECF6\", \"caxis\": {\"gridcolor\": \"white\", \"linecolor\": \"white\", \"ticks\": \"\"}}, \"title\": {\"x\": 0.05}, \"xaxis\": {\"automargin\": true, \"gridcolor\": \"white\", \"linecolor\": \"white\", \"ticks\": \"\", \"title\": {\"standoff\": 15}, \"zerolinecolor\": \"white\", \"zerolinewidth\": 2}, \"yaxis\": {\"automargin\": true, \"gridcolor\": \"white\", \"linecolor\": \"white\", \"ticks\": \"\", \"title\": {\"standoff\": 15}, \"zerolinecolor\": \"white\", \"zerolinewidth\": 2}}}, \"title\": {\"text\": \"Cross sections(\\u03c3\\u039f+),Lat: 63.75, Lon: 15.0, 2015-03-15 00:05:00\", \"x\": 0.5, \"xanchor\": \"center\", \"y\": 0.9, \"yanchor\": \"top\"}, \"width\": 750, \"xaxis\": {\"exponentformat\": \"power\", \"gridcolor\": \"grey\", \"gridwidth\": 0.5, \"linecolor\": \"black\", \"linewidth\": 2, \"mirror\": true, \"showexponent\": \"all\", \"showgrid\": true, \"showline\": true, \"title\": {\"text\": \"cm^2\"}}, \"yaxis\": {\"gridcolor\": \"grey\", \"gridwidth\": 0.5, \"linecolor\": \"black\", \"linewidth\": 2, \"mirror\": true, \"showgrid\": true, \"showline\": true, \"tickmode\": \"array\", \"tickvals\": [60, 80, 100, 120, 140, 160, 180, 200, 220, 240, 260, 280, 300, 320, 340, 360, 380, 400, 420, 440, 460, 480, 500], \"title\": {\"text\": \"Altitude (km)\"}}},\n",
       "                        {\"responsive\": true}\n",
       "                    ).then(function(){\n",
       "                            \n",
       "var gd = document.getElementById('e72583b7-01f2-44e7-b48d-d97f8fb74eda');\n",
       "var x = new MutationObserver(function (mutations, observer) {{\n",
       "        var display = window.getComputedStyle(gd).display;\n",
       "        if (!display || display === 'none') {{\n",
       "            console.log([gd, 'removed!']);\n",
       "            Plotly.purge(gd);\n",
       "            observer.disconnect();\n",
       "        }}\n",
       "}});\n",
       "\n",
       "// Listen for the removal of the full notebook cells\n",
       "var notebookContainer = gd.closest('#notebook-container');\n",
       "if (notebookContainer) {{\n",
       "    x.observe(notebookContainer, {childList: true});\n",
       "}}\n",
       "\n",
       "// Listen for the clearing of the current output cell\n",
       "var outputEl = gd.closest('.output');\n",
       "if (outputEl) {{\n",
       "    x.observe(outputEl, {childList: true});\n",
       "}}\n",
       "\n",
       "                        })\n",
       "                };\n",
       "                });\n",
       "            </script>\n",
       "        </div>"
      ]
     },
     "metadata": {},
     "output_type": "display_data"
    },
    {
     "data": {
      "application/vnd.plotly.v1+json": {
       "config": {
        "plotlyServerURL": "https://plot.ly"
       },
       "data": [
        {
         "line": {
          "color": "red"
         },
         "mode": "lines",
         "name": "Pedersen Current",
         "type": "scatter",
         "x": [
          8.638527250890116e-08,
          1.6942741127264461e-07,
          2.793692066406781e-07,
          3.9163469192131307e-07,
          4.655757489279268e-07,
          4.674895704756962e-07,
          4.0163268978221845e-07,
          3.037574867002021e-07,
          2.0847227544907949e-07,
          1.3577766630744167e-07,
          9.043541579394428e-08,
          6.452329999804513e-08,
          4.728013495040299e-08,
          3.346796571825185e-08,
          2.22532021797857e-08,
          1.3993563290387757e-08,
          9.050816743587314e-09,
          7.410742946690515e-09,
          7.3154223465144e-09,
          7.123111802599471e-09,
          6.6910752962754185e-09,
          6.276725026795144e-09,
          6.163360407967303e-09,
          6.424329633782451e-09,
          6.9158448894626346e-09,
          7.38470356808332e-09,
          7.599633038127945e-09,
          7.4452896310051864e-09,
          6.9379781550786676e-09
         ],
         "y": [
          105.98968,
          107.89062,
          110.03647,
          112.45457,
          115.16966,
          118.2009,
          121.56061,
          125.26039,
          129.31769,
          133.75335,
          138.58257,
          143.80797,
          149.41922,
          155.39804,
          161.72389,
          168.37786,
          175.34424,
          182.61102,
          190.16946,
          198.01382,
          206.14078,
          214.54912,
          223.2389,
          232.21076,
          241.46514,
          251.0014,
          260.8174,
          270.90916,
          281.27086
         ]
        },
        {
         "line": {
          "color": "blue"
         },
         "mode": "lines",
         "name": "Hall Current",
         "type": "scatter",
         "x": [
          6.155187343587289e-07,
          8.472149372028505e-07,
          9.794057492989487e-07,
          9.641775346149004e-07,
          8.08204501563089e-07,
          5.756407102714991e-07,
          3.5278993139558777e-07,
          1.910706336034037e-07,
          9.418982924470726e-08,
          4.4249556815583606e-08,
          2.1398745446117827e-08,
          1.1180375721676444e-08,
          6.057667473830418e-09,
          3.2026768414678e-09,
          1.6067375285138595e-09,
          7.699856202461296e-10,
          3.8304597737732075e-10,
          2.4258526040743915e-10,
          1.8631359973246537e-10,
          1.426159306836324e-10,
          1.06813683319496e-10,
          8.181545111530664e-11,
          6.713809575827839e-11,
          5.87146637537258e-11,
          5.220910371365877e-11,
          4.513972029576935e-11,
          3.7070125299396564e-11,
          2.8742774190475307e-11,
          2.110931293149752e-11
         ],
         "y": [
          105.98968,
          107.89062,
          110.03647,
          112.45457,
          115.16966,
          118.2009,
          121.56061,
          125.26039,
          129.31769,
          133.75335,
          138.58257,
          143.80797,
          149.41922,
          155.39804,
          161.72389,
          168.37786,
          175.34424,
          182.61102,
          190.16946,
          198.01382,
          206.14078,
          214.54912,
          223.2389,
          232.21076,
          241.46514,
          251.0014,
          260.8174,
          270.90916,
          281.27086
         ]
        },
        {
         "line": {
          "color": "black"
         },
         "mode": "lines",
         "name": "Total Current",
         "type": "scatter",
         "x": [
          6.215510660058501e-07,
          8.639900447980752e-07,
          1.0184708024184479e-06,
          1.0406805706711206e-06,
          9.327139402499788e-07,
          7.415583091203461e-07,
          5.345741793201419e-07,
          3.588545635101073e-07,
          2.28762788853572e-07,
          1.4280615514140328e-07,
          9.293261395490465e-08,
          6.548478482758862e-08,
          4.76666182579782e-08,
          3.3620854662976003e-08,
          2.2311132036271803e-08,
          1.4014731228870341e-08,
          9.058918696333764e-09,
          7.414712309354299e-09,
          7.317794535604803e-09,
          7.12453935746141e-09,
          6.691927807692747e-09,
          6.277258225534275e-09,
          6.163726068085839e-09,
          6.424597937243627e-09,
          6.916041955166049e-09,
          7.3848415272645426e-09,
          7.599723449468114e-09,
          7.445345111989203e-09,
          6.9380102683291864e-09
         ],
         "y": [
          105.98968,
          107.89062,
          110.03647,
          112.45457,
          115.16966,
          118.2009,
          121.56061,
          125.26039,
          129.31769,
          133.75335,
          138.58257,
          143.80797,
          149.41922,
          155.39804,
          161.72389,
          168.37786,
          175.34424,
          182.61102,
          190.16946,
          198.01382,
          206.14078,
          214.54912,
          223.2389,
          232.21076,
          241.46514,
          251.0014,
          260.8174,
          270.90916,
          281.27086
         ]
        }
       ],
       "layout": {
        "height": 750,
        "template": {
         "data": {
          "bar": [
           {
            "error_x": {
             "color": "#2a3f5f"
            },
            "error_y": {
             "color": "#2a3f5f"
            },
            "marker": {
             "line": {
              "color": "#E5ECF6",
              "width": 0.5
             }
            },
            "type": "bar"
           }
          ],
          "barpolar": [
           {
            "marker": {
             "line": {
              "color": "#E5ECF6",
              "width": 0.5
             }
            },
            "type": "barpolar"
           }
          ],
          "carpet": [
           {
            "aaxis": {
             "endlinecolor": "#2a3f5f",
             "gridcolor": "white",
             "linecolor": "white",
             "minorgridcolor": "white",
             "startlinecolor": "#2a3f5f"
            },
            "baxis": {
             "endlinecolor": "#2a3f5f",
             "gridcolor": "white",
             "linecolor": "white",
             "minorgridcolor": "white",
             "startlinecolor": "#2a3f5f"
            },
            "type": "carpet"
           }
          ],
          "choropleth": [
           {
            "colorbar": {
             "outlinewidth": 0,
             "ticks": ""
            },
            "type": "choropleth"
           }
          ],
          "contour": [
           {
            "colorbar": {
             "outlinewidth": 0,
             "ticks": ""
            },
            "colorscale": [
             [
              0,
              "#0d0887"
             ],
             [
              0.1111111111111111,
              "#46039f"
             ],
             [
              0.2222222222222222,
              "#7201a8"
             ],
             [
              0.3333333333333333,
              "#9c179e"
             ],
             [
              0.4444444444444444,
              "#bd3786"
             ],
             [
              0.5555555555555556,
              "#d8576b"
             ],
             [
              0.6666666666666666,
              "#ed7953"
             ],
             [
              0.7777777777777778,
              "#fb9f3a"
             ],
             [
              0.8888888888888888,
              "#fdca26"
             ],
             [
              1,
              "#f0f921"
             ]
            ],
            "type": "contour"
           }
          ],
          "contourcarpet": [
           {
            "colorbar": {
             "outlinewidth": 0,
             "ticks": ""
            },
            "type": "contourcarpet"
           }
          ],
          "heatmap": [
           {
            "colorbar": {
             "outlinewidth": 0,
             "ticks": ""
            },
            "colorscale": [
             [
              0,
              "#0d0887"
             ],
             [
              0.1111111111111111,
              "#46039f"
             ],
             [
              0.2222222222222222,
              "#7201a8"
             ],
             [
              0.3333333333333333,
              "#9c179e"
             ],
             [
              0.4444444444444444,
              "#bd3786"
             ],
             [
              0.5555555555555556,
              "#d8576b"
             ],
             [
              0.6666666666666666,
              "#ed7953"
             ],
             [
              0.7777777777777778,
              "#fb9f3a"
             ],
             [
              0.8888888888888888,
              "#fdca26"
             ],
             [
              1,
              "#f0f921"
             ]
            ],
            "type": "heatmap"
           }
          ],
          "heatmapgl": [
           {
            "colorbar": {
             "outlinewidth": 0,
             "ticks": ""
            },
            "colorscale": [
             [
              0,
              "#0d0887"
             ],
             [
              0.1111111111111111,
              "#46039f"
             ],
             [
              0.2222222222222222,
              "#7201a8"
             ],
             [
              0.3333333333333333,
              "#9c179e"
             ],
             [
              0.4444444444444444,
              "#bd3786"
             ],
             [
              0.5555555555555556,
              "#d8576b"
             ],
             [
              0.6666666666666666,
              "#ed7953"
             ],
             [
              0.7777777777777778,
              "#fb9f3a"
             ],
             [
              0.8888888888888888,
              "#fdca26"
             ],
             [
              1,
              "#f0f921"
             ]
            ],
            "type": "heatmapgl"
           }
          ],
          "histogram": [
           {
            "marker": {
             "colorbar": {
              "outlinewidth": 0,
              "ticks": ""
             }
            },
            "type": "histogram"
           }
          ],
          "histogram2d": [
           {
            "colorbar": {
             "outlinewidth": 0,
             "ticks": ""
            },
            "colorscale": [
             [
              0,
              "#0d0887"
             ],
             [
              0.1111111111111111,
              "#46039f"
             ],
             [
              0.2222222222222222,
              "#7201a8"
             ],
             [
              0.3333333333333333,
              "#9c179e"
             ],
             [
              0.4444444444444444,
              "#bd3786"
             ],
             [
              0.5555555555555556,
              "#d8576b"
             ],
             [
              0.6666666666666666,
              "#ed7953"
             ],
             [
              0.7777777777777778,
              "#fb9f3a"
             ],
             [
              0.8888888888888888,
              "#fdca26"
             ],
             [
              1,
              "#f0f921"
             ]
            ],
            "type": "histogram2d"
           }
          ],
          "histogram2dcontour": [
           {
            "colorbar": {
             "outlinewidth": 0,
             "ticks": ""
            },
            "colorscale": [
             [
              0,
              "#0d0887"
             ],
             [
              0.1111111111111111,
              "#46039f"
             ],
             [
              0.2222222222222222,
              "#7201a8"
             ],
             [
              0.3333333333333333,
              "#9c179e"
             ],
             [
              0.4444444444444444,
              "#bd3786"
             ],
             [
              0.5555555555555556,
              "#d8576b"
             ],
             [
              0.6666666666666666,
              "#ed7953"
             ],
             [
              0.7777777777777778,
              "#fb9f3a"
             ],
             [
              0.8888888888888888,
              "#fdca26"
             ],
             [
              1,
              "#f0f921"
             ]
            ],
            "type": "histogram2dcontour"
           }
          ],
          "mesh3d": [
           {
            "colorbar": {
             "outlinewidth": 0,
             "ticks": ""
            },
            "type": "mesh3d"
           }
          ],
          "parcoords": [
           {
            "line": {
             "colorbar": {
              "outlinewidth": 0,
              "ticks": ""
             }
            },
            "type": "parcoords"
           }
          ],
          "pie": [
           {
            "automargin": true,
            "type": "pie"
           }
          ],
          "scatter": [
           {
            "marker": {
             "colorbar": {
              "outlinewidth": 0,
              "ticks": ""
             }
            },
            "type": "scatter"
           }
          ],
          "scatter3d": [
           {
            "line": {
             "colorbar": {
              "outlinewidth": 0,
              "ticks": ""
             }
            },
            "marker": {
             "colorbar": {
              "outlinewidth": 0,
              "ticks": ""
             }
            },
            "type": "scatter3d"
           }
          ],
          "scattercarpet": [
           {
            "marker": {
             "colorbar": {
              "outlinewidth": 0,
              "ticks": ""
             }
            },
            "type": "scattercarpet"
           }
          ],
          "scattergeo": [
           {
            "marker": {
             "colorbar": {
              "outlinewidth": 0,
              "ticks": ""
             }
            },
            "type": "scattergeo"
           }
          ],
          "scattergl": [
           {
            "marker": {
             "colorbar": {
              "outlinewidth": 0,
              "ticks": ""
             }
            },
            "type": "scattergl"
           }
          ],
          "scattermapbox": [
           {
            "marker": {
             "colorbar": {
              "outlinewidth": 0,
              "ticks": ""
             }
            },
            "type": "scattermapbox"
           }
          ],
          "scatterpolar": [
           {
            "marker": {
             "colorbar": {
              "outlinewidth": 0,
              "ticks": ""
             }
            },
            "type": "scatterpolar"
           }
          ],
          "scatterpolargl": [
           {
            "marker": {
             "colorbar": {
              "outlinewidth": 0,
              "ticks": ""
             }
            },
            "type": "scatterpolargl"
           }
          ],
          "scatterternary": [
           {
            "marker": {
             "colorbar": {
              "outlinewidth": 0,
              "ticks": ""
             }
            },
            "type": "scatterternary"
           }
          ],
          "surface": [
           {
            "colorbar": {
             "outlinewidth": 0,
             "ticks": ""
            },
            "colorscale": [
             [
              0,
              "#0d0887"
             ],
             [
              0.1111111111111111,
              "#46039f"
             ],
             [
              0.2222222222222222,
              "#7201a8"
             ],
             [
              0.3333333333333333,
              "#9c179e"
             ],
             [
              0.4444444444444444,
              "#bd3786"
             ],
             [
              0.5555555555555556,
              "#d8576b"
             ],
             [
              0.6666666666666666,
              "#ed7953"
             ],
             [
              0.7777777777777778,
              "#fb9f3a"
             ],
             [
              0.8888888888888888,
              "#fdca26"
             ],
             [
              1,
              "#f0f921"
             ]
            ],
            "type": "surface"
           }
          ],
          "table": [
           {
            "cells": {
             "fill": {
              "color": "#EBF0F8"
             },
             "line": {
              "color": "white"
             }
            },
            "header": {
             "fill": {
              "color": "#C8D4E3"
             },
             "line": {
              "color": "white"
             }
            },
            "type": "table"
           }
          ]
         },
         "layout": {
          "annotationdefaults": {
           "arrowcolor": "#2a3f5f",
           "arrowhead": 0,
           "arrowwidth": 1
          },
          "coloraxis": {
           "colorbar": {
            "outlinewidth": 0,
            "ticks": ""
           }
          },
          "colorscale": {
           "diverging": [
            [
             0,
             "#8e0152"
            ],
            [
             0.1,
             "#c51b7d"
            ],
            [
             0.2,
             "#de77ae"
            ],
            [
             0.3,
             "#f1b6da"
            ],
            [
             0.4,
             "#fde0ef"
            ],
            [
             0.5,
             "#f7f7f7"
            ],
            [
             0.6,
             "#e6f5d0"
            ],
            [
             0.7,
             "#b8e186"
            ],
            [
             0.8,
             "#7fbc41"
            ],
            [
             0.9,
             "#4d9221"
            ],
            [
             1,
             "#276419"
            ]
           ],
           "sequential": [
            [
             0,
             "#0d0887"
            ],
            [
             0.1111111111111111,
             "#46039f"
            ],
            [
             0.2222222222222222,
             "#7201a8"
            ],
            [
             0.3333333333333333,
             "#9c179e"
            ],
            [
             0.4444444444444444,
             "#bd3786"
            ],
            [
             0.5555555555555556,
             "#d8576b"
            ],
            [
             0.6666666666666666,
             "#ed7953"
            ],
            [
             0.7777777777777778,
             "#fb9f3a"
            ],
            [
             0.8888888888888888,
             "#fdca26"
            ],
            [
             1,
             "#f0f921"
            ]
           ],
           "sequentialminus": [
            [
             0,
             "#0d0887"
            ],
            [
             0.1111111111111111,
             "#46039f"
            ],
            [
             0.2222222222222222,
             "#7201a8"
            ],
            [
             0.3333333333333333,
             "#9c179e"
            ],
            [
             0.4444444444444444,
             "#bd3786"
            ],
            [
             0.5555555555555556,
             "#d8576b"
            ],
            [
             0.6666666666666666,
             "#ed7953"
            ],
            [
             0.7777777777777778,
             "#fb9f3a"
            ],
            [
             0.8888888888888888,
             "#fdca26"
            ],
            [
             1,
             "#f0f921"
            ]
           ]
          },
          "colorway": [
           "#636efa",
           "#EF553B",
           "#00cc96",
           "#ab63fa",
           "#FFA15A",
           "#19d3f3",
           "#FF6692",
           "#B6E880",
           "#FF97FF",
           "#FECB52"
          ],
          "font": {
           "color": "#2a3f5f"
          },
          "geo": {
           "bgcolor": "white",
           "lakecolor": "white",
           "landcolor": "#E5ECF6",
           "showlakes": true,
           "showland": true,
           "subunitcolor": "white"
          },
          "hoverlabel": {
           "align": "left"
          },
          "hovermode": "closest",
          "mapbox": {
           "style": "light"
          },
          "paper_bgcolor": "white",
          "plot_bgcolor": "#E5ECF6",
          "polar": {
           "angularaxis": {
            "gridcolor": "white",
            "linecolor": "white",
            "ticks": ""
           },
           "bgcolor": "#E5ECF6",
           "radialaxis": {
            "gridcolor": "white",
            "linecolor": "white",
            "ticks": ""
           }
          },
          "scene": {
           "xaxis": {
            "backgroundcolor": "#E5ECF6",
            "gridcolor": "white",
            "gridwidth": 2,
            "linecolor": "white",
            "showbackground": true,
            "ticks": "",
            "zerolinecolor": "white"
           },
           "yaxis": {
            "backgroundcolor": "#E5ECF6",
            "gridcolor": "white",
            "gridwidth": 2,
            "linecolor": "white",
            "showbackground": true,
            "ticks": "",
            "zerolinecolor": "white"
           },
           "zaxis": {
            "backgroundcolor": "#E5ECF6",
            "gridcolor": "white",
            "gridwidth": 2,
            "linecolor": "white",
            "showbackground": true,
            "ticks": "",
            "zerolinecolor": "white"
           }
          },
          "shapedefaults": {
           "line": {
            "color": "#2a3f5f"
           }
          },
          "ternary": {
           "aaxis": {
            "gridcolor": "white",
            "linecolor": "white",
            "ticks": ""
           },
           "baxis": {
            "gridcolor": "white",
            "linecolor": "white",
            "ticks": ""
           },
           "bgcolor": "#E5ECF6",
           "caxis": {
            "gridcolor": "white",
            "linecolor": "white",
            "ticks": ""
           }
          },
          "title": {
           "x": 0.05
          },
          "xaxis": {
           "automargin": true,
           "gridcolor": "white",
           "linecolor": "white",
           "ticks": "",
           "title": {
            "standoff": 15
           },
           "zerolinecolor": "white",
           "zerolinewidth": 2
          },
          "yaxis": {
           "automargin": true,
           "gridcolor": "white",
           "linecolor": "white",
           "ticks": "",
           "title": {
            "standoff": 15
           },
           "zerolinecolor": "white",
           "zerolinewidth": 2
          }
         }
        },
        "title": {
         "text": "Currents ,Lat: 63.75, Lon: 15.0, 2015-03-15 00:05:00",
         "x": 0.5,
         "xanchor": "center",
         "y": 0.9,
         "yanchor": "top"
        },
        "width": 750,
        "xaxis": {
         "exponentformat": "power",
         "gridcolor": "grey",
         "gridwidth": 0.5,
         "linecolor": "black",
         "linewidth": 2,
         "mirror": true,
         "showexponent": "all",
         "showgrid": true,
         "showline": true,
         "title": {
          "text": "Current A/m^2"
         },
         "type": "log"
        },
        "yaxis": {
         "gridcolor": "grey",
         "gridwidth": 0.5,
         "linecolor": "black",
         "linewidth": 2,
         "mirror": true,
         "showgrid": true,
         "showline": true,
         "tickmode": "array",
         "tickvals": [
          60,
          80,
          100,
          120,
          140,
          160,
          180,
          200,
          220,
          240,
          260,
          280,
          300,
          320,
          340,
          360,
          380,
          400,
          420,
          440,
          460,
          480,
          500
         ],
         "title": {
          "text": "Altitude (km)"
         }
        }
       }
      },
      "text/html": [
       "<div>\n",
       "        \n",
       "        \n",
       "            <div id=\"06fd4876-2e1b-4cc1-8631-409c409aea95\" class=\"plotly-graph-div\" style=\"height:750px; width:750px;\"></div>\n",
       "            <script type=\"text/javascript\">\n",
       "                require([\"plotly\"], function(Plotly) {\n",
       "                    window.PLOTLYENV=window.PLOTLYENV || {};\n",
       "                    \n",
       "                if (document.getElementById(\"06fd4876-2e1b-4cc1-8631-409c409aea95\")) {\n",
       "                    Plotly.newPlot(\n",
       "                        '06fd4876-2e1b-4cc1-8631-409c409aea95',\n",
       "                        [{\"line\": {\"color\": \"red\"}, \"mode\": \"lines\", \"name\": \"Pedersen Current\", \"type\": \"scatter\", \"x\": [8.638527250890116e-08, 1.6942741127264461e-07, 2.793692066406781e-07, 3.9163469192131307e-07, 4.655757489279268e-07, 4.674895704756962e-07, 4.0163268978221845e-07, 3.037574867002021e-07, 2.0847227544907949e-07, 1.3577766630744167e-07, 9.043541579394428e-08, 6.452329999804513e-08, 4.728013495040299e-08, 3.346796571825185e-08, 2.22532021797857e-08, 1.3993563290387757e-08, 9.050816743587314e-09, 7.410742946690515e-09, 7.3154223465144e-09, 7.123111802599471e-09, 6.6910752962754185e-09, 6.276725026795144e-09, 6.163360407967303e-09, 6.424329633782451e-09, 6.9158448894626346e-09, 7.38470356808332e-09, 7.599633038127945e-09, 7.4452896310051864e-09, 6.9379781550786676e-09], \"y\": [105.98968, 107.89062, 110.03647, 112.45457, 115.16966, 118.2009, 121.56061, 125.26039, 129.31769, 133.75335, 138.58257, 143.80797, 149.41922, 155.39804, 161.72389, 168.37786, 175.34424, 182.61102, 190.16946, 198.01382, 206.14078, 214.54912, 223.2389, 232.21076, 241.46514, 251.0014, 260.8174, 270.90916, 281.27086]}, {\"line\": {\"color\": \"blue\"}, \"mode\": \"lines\", \"name\": \"Hall Current\", \"type\": \"scatter\", \"x\": [6.155187343587289e-07, 8.472149372028505e-07, 9.794057492989487e-07, 9.641775346149004e-07, 8.08204501563089e-07, 5.756407102714991e-07, 3.5278993139558777e-07, 1.910706336034037e-07, 9.418982924470726e-08, 4.4249556815583606e-08, 2.1398745446117827e-08, 1.1180375721676444e-08, 6.057667473830418e-09, 3.2026768414678e-09, 1.6067375285138595e-09, 7.699856202461296e-10, 3.8304597737732075e-10, 2.4258526040743915e-10, 1.8631359973246537e-10, 1.426159306836324e-10, 1.06813683319496e-10, 8.181545111530664e-11, 6.713809575827839e-11, 5.87146637537258e-11, 5.220910371365877e-11, 4.513972029576935e-11, 3.7070125299396564e-11, 2.8742774190475307e-11, 2.110931293149752e-11], \"y\": [105.98968, 107.89062, 110.03647, 112.45457, 115.16966, 118.2009, 121.56061, 125.26039, 129.31769, 133.75335, 138.58257, 143.80797, 149.41922, 155.39804, 161.72389, 168.37786, 175.34424, 182.61102, 190.16946, 198.01382, 206.14078, 214.54912, 223.2389, 232.21076, 241.46514, 251.0014, 260.8174, 270.90916, 281.27086]}, {\"line\": {\"color\": \"black\"}, \"mode\": \"lines\", \"name\": \"Total Current\", \"type\": \"scatter\", \"x\": [6.215510660058501e-07, 8.639900447980752e-07, 1.0184708024184479e-06, 1.0406805706711206e-06, 9.327139402499788e-07, 7.415583091203461e-07, 5.345741793201419e-07, 3.588545635101073e-07, 2.28762788853572e-07, 1.4280615514140328e-07, 9.293261395490465e-08, 6.548478482758862e-08, 4.76666182579782e-08, 3.3620854662976003e-08, 2.2311132036271803e-08, 1.4014731228870341e-08, 9.058918696333764e-09, 7.414712309354299e-09, 7.317794535604803e-09, 7.12453935746141e-09, 6.691927807692747e-09, 6.277258225534275e-09, 6.163726068085839e-09, 6.424597937243627e-09, 6.916041955166049e-09, 7.3848415272645426e-09, 7.599723449468114e-09, 7.445345111989203e-09, 6.9380102683291864e-09], \"y\": [105.98968, 107.89062, 110.03647, 112.45457, 115.16966, 118.2009, 121.56061, 125.26039, 129.31769, 133.75335, 138.58257, 143.80797, 149.41922, 155.39804, 161.72389, 168.37786, 175.34424, 182.61102, 190.16946, 198.01382, 206.14078, 214.54912, 223.2389, 232.21076, 241.46514, 251.0014, 260.8174, 270.90916, 281.27086]}],\n",
       "                        {\"height\": 750, \"template\": {\"data\": {\"bar\": [{\"error_x\": {\"color\": \"#2a3f5f\"}, \"error_y\": {\"color\": \"#2a3f5f\"}, \"marker\": {\"line\": {\"color\": \"#E5ECF6\", \"width\": 0.5}}, \"type\": \"bar\"}], \"barpolar\": [{\"marker\": {\"line\": {\"color\": \"#E5ECF6\", \"width\": 0.5}}, \"type\": \"barpolar\"}], \"carpet\": [{\"aaxis\": {\"endlinecolor\": \"#2a3f5f\", \"gridcolor\": \"white\", \"linecolor\": \"white\", \"minorgridcolor\": \"white\", \"startlinecolor\": \"#2a3f5f\"}, \"baxis\": {\"endlinecolor\": \"#2a3f5f\", \"gridcolor\": \"white\", \"linecolor\": \"white\", \"minorgridcolor\": \"white\", \"startlinecolor\": \"#2a3f5f\"}, \"type\": \"carpet\"}], \"choropleth\": [{\"colorbar\": {\"outlinewidth\": 0, \"ticks\": \"\"}, \"type\": \"choropleth\"}], \"contour\": [{\"colorbar\": {\"outlinewidth\": 0, \"ticks\": \"\"}, \"colorscale\": [[0.0, \"#0d0887\"], [0.1111111111111111, \"#46039f\"], [0.2222222222222222, \"#7201a8\"], [0.3333333333333333, \"#9c179e\"], [0.4444444444444444, \"#bd3786\"], [0.5555555555555556, \"#d8576b\"], [0.6666666666666666, \"#ed7953\"], [0.7777777777777778, \"#fb9f3a\"], [0.8888888888888888, \"#fdca26\"], [1.0, \"#f0f921\"]], \"type\": \"contour\"}], \"contourcarpet\": [{\"colorbar\": {\"outlinewidth\": 0, \"ticks\": \"\"}, \"type\": \"contourcarpet\"}], \"heatmap\": [{\"colorbar\": {\"outlinewidth\": 0, \"ticks\": \"\"}, \"colorscale\": [[0.0, \"#0d0887\"], [0.1111111111111111, \"#46039f\"], [0.2222222222222222, \"#7201a8\"], [0.3333333333333333, \"#9c179e\"], [0.4444444444444444, \"#bd3786\"], [0.5555555555555556, \"#d8576b\"], [0.6666666666666666, \"#ed7953\"], [0.7777777777777778, \"#fb9f3a\"], [0.8888888888888888, \"#fdca26\"], [1.0, \"#f0f921\"]], \"type\": \"heatmap\"}], \"heatmapgl\": [{\"colorbar\": {\"outlinewidth\": 0, \"ticks\": \"\"}, \"colorscale\": [[0.0, \"#0d0887\"], [0.1111111111111111, \"#46039f\"], [0.2222222222222222, \"#7201a8\"], [0.3333333333333333, \"#9c179e\"], [0.4444444444444444, \"#bd3786\"], [0.5555555555555556, \"#d8576b\"], [0.6666666666666666, \"#ed7953\"], [0.7777777777777778, \"#fb9f3a\"], [0.8888888888888888, \"#fdca26\"], [1.0, \"#f0f921\"]], \"type\": \"heatmapgl\"}], \"histogram\": [{\"marker\": {\"colorbar\": {\"outlinewidth\": 0, \"ticks\": \"\"}}, \"type\": \"histogram\"}], \"histogram2d\": [{\"colorbar\": {\"outlinewidth\": 0, \"ticks\": \"\"}, \"colorscale\": [[0.0, \"#0d0887\"], [0.1111111111111111, \"#46039f\"], [0.2222222222222222, \"#7201a8\"], [0.3333333333333333, \"#9c179e\"], [0.4444444444444444, \"#bd3786\"], [0.5555555555555556, \"#d8576b\"], [0.6666666666666666, \"#ed7953\"], [0.7777777777777778, \"#fb9f3a\"], [0.8888888888888888, \"#fdca26\"], [1.0, \"#f0f921\"]], \"type\": \"histogram2d\"}], \"histogram2dcontour\": [{\"colorbar\": {\"outlinewidth\": 0, \"ticks\": \"\"}, \"colorscale\": [[0.0, \"#0d0887\"], [0.1111111111111111, \"#46039f\"], [0.2222222222222222, \"#7201a8\"], [0.3333333333333333, \"#9c179e\"], [0.4444444444444444, \"#bd3786\"], [0.5555555555555556, \"#d8576b\"], [0.6666666666666666, \"#ed7953\"], [0.7777777777777778, \"#fb9f3a\"], [0.8888888888888888, \"#fdca26\"], [1.0, \"#f0f921\"]], \"type\": \"histogram2dcontour\"}], \"mesh3d\": [{\"colorbar\": {\"outlinewidth\": 0, \"ticks\": \"\"}, \"type\": \"mesh3d\"}], \"parcoords\": [{\"line\": {\"colorbar\": {\"outlinewidth\": 0, \"ticks\": \"\"}}, \"type\": \"parcoords\"}], \"pie\": [{\"automargin\": true, \"type\": \"pie\"}], \"scatter\": [{\"marker\": {\"colorbar\": {\"outlinewidth\": 0, \"ticks\": \"\"}}, \"type\": \"scatter\"}], \"scatter3d\": [{\"line\": {\"colorbar\": {\"outlinewidth\": 0, \"ticks\": \"\"}}, \"marker\": {\"colorbar\": {\"outlinewidth\": 0, \"ticks\": \"\"}}, \"type\": \"scatter3d\"}], \"scattercarpet\": [{\"marker\": {\"colorbar\": {\"outlinewidth\": 0, \"ticks\": \"\"}}, \"type\": \"scattercarpet\"}], \"scattergeo\": [{\"marker\": {\"colorbar\": {\"outlinewidth\": 0, \"ticks\": \"\"}}, \"type\": \"scattergeo\"}], \"scattergl\": [{\"marker\": {\"colorbar\": {\"outlinewidth\": 0, \"ticks\": \"\"}}, \"type\": \"scattergl\"}], \"scattermapbox\": [{\"marker\": {\"colorbar\": {\"outlinewidth\": 0, \"ticks\": \"\"}}, \"type\": \"scattermapbox\"}], \"scatterpolar\": [{\"marker\": {\"colorbar\": {\"outlinewidth\": 0, \"ticks\": \"\"}}, \"type\": \"scatterpolar\"}], \"scatterpolargl\": [{\"marker\": {\"colorbar\": {\"outlinewidth\": 0, \"ticks\": \"\"}}, \"type\": \"scatterpolargl\"}], \"scatterternary\": [{\"marker\": {\"colorbar\": {\"outlinewidth\": 0, \"ticks\": \"\"}}, \"type\": \"scatterternary\"}], \"surface\": [{\"colorbar\": {\"outlinewidth\": 0, \"ticks\": \"\"}, \"colorscale\": [[0.0, \"#0d0887\"], [0.1111111111111111, \"#46039f\"], [0.2222222222222222, \"#7201a8\"], [0.3333333333333333, \"#9c179e\"], [0.4444444444444444, \"#bd3786\"], [0.5555555555555556, \"#d8576b\"], [0.6666666666666666, \"#ed7953\"], [0.7777777777777778, \"#fb9f3a\"], [0.8888888888888888, \"#fdca26\"], [1.0, \"#f0f921\"]], \"type\": \"surface\"}], \"table\": [{\"cells\": {\"fill\": {\"color\": \"#EBF0F8\"}, \"line\": {\"color\": \"white\"}}, \"header\": {\"fill\": {\"color\": \"#C8D4E3\"}, \"line\": {\"color\": \"white\"}}, \"type\": \"table\"}]}, \"layout\": {\"annotationdefaults\": {\"arrowcolor\": \"#2a3f5f\", \"arrowhead\": 0, \"arrowwidth\": 1}, \"coloraxis\": {\"colorbar\": {\"outlinewidth\": 0, \"ticks\": \"\"}}, \"colorscale\": {\"diverging\": [[0, \"#8e0152\"], [0.1, \"#c51b7d\"], [0.2, \"#de77ae\"], [0.3, \"#f1b6da\"], [0.4, \"#fde0ef\"], [0.5, \"#f7f7f7\"], [0.6, \"#e6f5d0\"], [0.7, \"#b8e186\"], [0.8, \"#7fbc41\"], [0.9, \"#4d9221\"], [1, \"#276419\"]], \"sequential\": [[0.0, \"#0d0887\"], [0.1111111111111111, \"#46039f\"], [0.2222222222222222, \"#7201a8\"], [0.3333333333333333, \"#9c179e\"], [0.4444444444444444, \"#bd3786\"], [0.5555555555555556, \"#d8576b\"], [0.6666666666666666, \"#ed7953\"], [0.7777777777777778, \"#fb9f3a\"], [0.8888888888888888, \"#fdca26\"], [1.0, \"#f0f921\"]], \"sequentialminus\": [[0.0, \"#0d0887\"], [0.1111111111111111, \"#46039f\"], [0.2222222222222222, \"#7201a8\"], [0.3333333333333333, \"#9c179e\"], [0.4444444444444444, \"#bd3786\"], [0.5555555555555556, \"#d8576b\"], [0.6666666666666666, \"#ed7953\"], [0.7777777777777778, \"#fb9f3a\"], [0.8888888888888888, \"#fdca26\"], [1.0, \"#f0f921\"]]}, \"colorway\": [\"#636efa\", \"#EF553B\", \"#00cc96\", \"#ab63fa\", \"#FFA15A\", \"#19d3f3\", \"#FF6692\", \"#B6E880\", \"#FF97FF\", \"#FECB52\"], \"font\": {\"color\": \"#2a3f5f\"}, \"geo\": {\"bgcolor\": \"white\", \"lakecolor\": \"white\", \"landcolor\": \"#E5ECF6\", \"showlakes\": true, \"showland\": true, \"subunitcolor\": \"white\"}, \"hoverlabel\": {\"align\": \"left\"}, \"hovermode\": \"closest\", \"mapbox\": {\"style\": \"light\"}, \"paper_bgcolor\": \"white\", \"plot_bgcolor\": \"#E5ECF6\", \"polar\": {\"angularaxis\": {\"gridcolor\": \"white\", \"linecolor\": \"white\", \"ticks\": \"\"}, \"bgcolor\": \"#E5ECF6\", \"radialaxis\": {\"gridcolor\": \"white\", \"linecolor\": \"white\", \"ticks\": \"\"}}, \"scene\": {\"xaxis\": {\"backgroundcolor\": \"#E5ECF6\", \"gridcolor\": \"white\", \"gridwidth\": 2, \"linecolor\": \"white\", \"showbackground\": true, \"ticks\": \"\", \"zerolinecolor\": \"white\"}, \"yaxis\": {\"backgroundcolor\": \"#E5ECF6\", \"gridcolor\": \"white\", \"gridwidth\": 2, \"linecolor\": \"white\", \"showbackground\": true, \"ticks\": \"\", \"zerolinecolor\": \"white\"}, \"zaxis\": {\"backgroundcolor\": \"#E5ECF6\", \"gridcolor\": \"white\", \"gridwidth\": 2, \"linecolor\": \"white\", \"showbackground\": true, \"ticks\": \"\", \"zerolinecolor\": \"white\"}}, \"shapedefaults\": {\"line\": {\"color\": \"#2a3f5f\"}}, \"ternary\": {\"aaxis\": {\"gridcolor\": \"white\", \"linecolor\": \"white\", \"ticks\": \"\"}, \"baxis\": {\"gridcolor\": \"white\", \"linecolor\": \"white\", \"ticks\": \"\"}, \"bgcolor\": \"#E5ECF6\", \"caxis\": {\"gridcolor\": \"white\", \"linecolor\": \"white\", \"ticks\": \"\"}}, \"title\": {\"x\": 0.05}, \"xaxis\": {\"automargin\": true, \"gridcolor\": \"white\", \"linecolor\": \"white\", \"ticks\": \"\", \"title\": {\"standoff\": 15}, \"zerolinecolor\": \"white\", \"zerolinewidth\": 2}, \"yaxis\": {\"automargin\": true, \"gridcolor\": \"white\", \"linecolor\": \"white\", \"ticks\": \"\", \"title\": {\"standoff\": 15}, \"zerolinecolor\": \"white\", \"zerolinewidth\": 2}}}, \"title\": {\"text\": \"Currents ,Lat: 63.75, Lon: 15.0, 2015-03-15 00:05:00\", \"x\": 0.5, \"xanchor\": \"center\", \"y\": 0.9, \"yanchor\": \"top\"}, \"width\": 750, \"xaxis\": {\"exponentformat\": \"power\", \"gridcolor\": \"grey\", \"gridwidth\": 0.5, \"linecolor\": \"black\", \"linewidth\": 2, \"mirror\": true, \"showexponent\": \"all\", \"showgrid\": true, \"showline\": true, \"title\": {\"text\": \"Current A/m^2\"}, \"type\": \"log\"}, \"yaxis\": {\"gridcolor\": \"grey\", \"gridwidth\": 0.5, \"linecolor\": \"black\", \"linewidth\": 2, \"mirror\": true, \"showgrid\": true, \"showline\": true, \"tickmode\": \"array\", \"tickvals\": [60, 80, 100, 120, 140, 160, 180, 200, 220, 240, 260, 280, 300, 320, 340, 360, 380, 400, 420, 440, 460, 480, 500], \"title\": {\"text\": \"Altitude (km)\"}}},\n",
       "                        {\"responsive\": true}\n",
       "                    ).then(function(){\n",
       "                            \n",
       "var gd = document.getElementById('06fd4876-2e1b-4cc1-8631-409c409aea95');\n",
       "var x = new MutationObserver(function (mutations, observer) {{\n",
       "        var display = window.getComputedStyle(gd).display;\n",
       "        if (!display || display === 'none') {{\n",
       "            console.log([gd, 'removed!']);\n",
       "            Plotly.purge(gd);\n",
       "            observer.disconnect();\n",
       "        }}\n",
       "}});\n",
       "\n",
       "// Listen for the removal of the full notebook cells\n",
       "var notebookContainer = gd.closest('#notebook-container');\n",
       "if (notebookContainer) {{\n",
       "    x.observe(notebookContainer, {childList: true});\n",
       "}}\n",
       "\n",
       "// Listen for the clearing of the current output cell\n",
       "var outputEl = gd.closest('.output');\n",
       "if (outputEl) {{\n",
       "    x.observe(outputEl, {childList: true});\n",
       "}}\n",
       "\n",
       "                        })\n",
       "                };\n",
       "                });\n",
       "            </script>\n",
       "        </div>"
      ]
     },
     "metadata": {},
     "output_type": "display_data"
    }
   ],
   "source": [
    "import sys\n",
    "\n",
    "sys.path.insert(1, \"../SourceCode\")\n",
    "import DaedalusGlobals as DaedalusGlobals\n",
    "from netCDF4 import Dataset\n",
    "import numpy as np\n",
    "from datetime import datetime\n",
    "import pyglow\n",
    "from ipywidgets import *\n",
    "import ipywidgets as widgets\n",
    "import warnings\n",
    "import glob\n",
    "import matplotlib.pyplot as plt\n",
    "import plotly.graph_objects as go\n",
    "from mpl_toolkits.basemap import Basemap, shiftgrid, addcyclic\n",
    "import matplotlib.mlab as mlab\n",
    "from mpl_toolkits.axes_grid1 import make_axes_locatable\n",
    "from scipy.interpolate import griddata\n",
    "from pylab import *\n",
    "from matplotlib.patches import Polygon\n",
    "import time\n",
    "import pandas as pd\n",
    "import sympy as sy\n",
    "import image\n",
    "\n",
    "HE=[]\n",
    "OH=[]\n",
    "JH=[]\n",
    "FH=[]\n",
    "\n",
    "# factors needed\n",
    "ArO = 15.9994  # atomic mass O=16\n",
    "ArN = 14.0067  # atomic mass N=14\n",
    "\n",
    "NAvog = 6.02214076e23\n",
    "\n",
    "q_e = 1.60217657e-19  # Coulomb\n",
    "\n",
    "# kg\n",
    "m_NOplus = (ArO + ArN) / (NAvog * 1000)\n",
    "m_O2plus = 2 * ArO / (NAvog * 1000)\n",
    "m_Oplus = 1 * ArO / (NAvog * 1000)\n",
    "\n",
    "mO = 16   # Oxygen atomic mass in g/mol\n",
    "mN2 = 28  # N2 molecular mass in g/mol\n",
    "mO2 = 32  # O2 molecular mass in g/mol\n",
    "mNO = 30  # NO molecular mass in g/mol\n",
    "\n",
    "m_e = 9.11e-31  # kg\n",
    "\n",
    "CubicCm2CubicM = 10 ** 6\n",
    "MO = mO / (NAvog * 1000)               # Atomic oxygen mass in kg\n",
    "boltzmann = 1.380645852 * 10 ** (-16)  # Boltzmann constant in cm^2*g*s^(-2)*K^(-1)\n",
    "\n",
    "fb = 1.7  # Burnside Factor, the factor that connect theoretical and practical estimations of Oplus\n",
    "          # [from 1.7-0.3 to 1.7+0.7]\n",
    "\n",
    "# range for emphirical models in km\n",
    "min_IGRF_alt = 0\n",
    "max_IGRF_alt = 30000\n",
    "\n",
    "# global variables for empirical models\n",
    "geod_lats = np.zeros((72, 144, 57), order='F')   # degrees\n",
    "geod_lons = np.zeros((72, 144, 57), order='F')   # degrees\n",
    "geog_lats = np.zeros((72, 144, 57), order='F')   # degrees\n",
    "geog_lons = np.zeros((72, 144, 57), order='F')   # degrees\n",
    "date_array = np.zeros((72, 144, 57), order='F')  # type of datetime\n",
    "heights = np.zeros((72, 144, 57), order='F')     # in km\n",
    "\n",
    "# peder_TIEGCM = np.zeros((72, 144, 57), order='F')\n",
    "Te_TIEGCM = np.zeros((72, 144, 57), order='F')   # kelvin\n",
    "Ti_TIEGCM = np.zeros((72, 144, 57), order='F')   # kelvin\n",
    "Tn_TIEGCM = np.zeros((72, 144, 57), order='F')   # kelvin\n",
    "O_TIEGCM = np.zeros((72, 144, 57), order='F')    # cm^-3\n",
    "O2_TIEGCM = np.zeros((72, 144, 57), order='F')   # cm^-3\n",
    "Op_TIEGCM = np.zeros((72, 144, 57), order='F')   # cm^-3\n",
    "O2p_TIEGCM = np.zeros((72, 144, 57), order='F')  # cm^-3\n",
    "Ne_TIEGCM = np.zeros((72, 144, 57), order='F')   # cm^-3\n",
    "NO_TIEGCM = np.zeros((72, 144, 57), order='F')   # cm^-3\n",
    "N2_TIEGCM = np.zeros((72, 144, 57), order='F')   # cm^-3\n",
    "N_barm_TIEGCM = np.zeros((72, 144, 57), order='F')\n",
    "# Un_vector\n",
    "Un_x_TIEGCM = np.zeros((72, 144, 57), order='F')  # m/s\n",
    "Un_y_TIEGCM = np.zeros((72, 144, 57), order='F')  # m/s\n",
    "Un_z_TIEGCM = np.zeros((72, 144, 57), order='F')  # m/s\n",
    "# Ui_vector\n",
    "Ui_x_TIEGCM = np.zeros((72, 144, 57), order='F')  # m/s\n",
    "Ui_y_TIEGCM = np.zeros((72, 144, 57), order='F')  # m/s\n",
    "Ui_z_TIEGCM = np.zeros((72, 144, 57), order='F')  # m/s\n",
    "# IGRF\n",
    "B_IGRF = np.zeros((72, 144, 57), order='F')   # tesla\n",
    "Be_IGRF = np.zeros((72, 144, 57), order='F')  # tesla\n",
    "Bn_IGRF = np.zeros((72, 144, 57), order='F')  # tesla\n",
    "Bu_IGRF = np.zeros((72, 144, 57), order='F')  # tesla\n",
    "# B_vector_IGRF\n",
    "Bx_IGRF = np.zeros((72, 144, 57), order='F')  # tesla\n",
    "By_IGRF = np.zeros((72, 144, 57), order='F')  # tesla\n",
    "Bz_IGRF = np.zeros((72, 144, 57), order='F')  # tesla\n",
    "bnorm = np.zeros((72, 144, 57), order='F')    # tesla\n",
    "\n",
    "# Ε_vector\n",
    "Evertx = np.zeros((72, 144, 57), order='F')  # V/m\n",
    "Everty = np.zeros((72, 144, 57), order='F')  # V/m\n",
    "Evertz = np.zeros((72, 144, 57), order='F')  # V/m\n",
    "\n",
    "Estarx = np.zeros((72, 144, 57), order='F')  # V/m\n",
    "Estary = np.zeros((72, 144, 57), order='F')  # V/m\n",
    "Estarz = np.zeros((72, 144, 57), order='F')  # V/m\n",
    "\n",
    "# Conductivities Variables for TIEGCM\n",
    "nu_O2p_TIEGCM = np.zeros((72, 144, 57), order='F')            # sec^-1\n",
    "nu_O2p_TIEGCM_error = np.zeros((72, 144, 57), order='F')      # array to store error\n",
    "nu_O2p_TIEGCM_error_min = np.zeros((72, 144, 57), order='F')  # sec^-1\n",
    "nu_O2p_TIEGCM_error_max = np.zeros((72, 144, 57), order='F')  # sec^-1\n",
    "nu_O2p_O2_TIEGCM = np.zeros((72, 144, 57), order='F')         # sec^-1\n",
    "nu_O2p_O_TIEGCM = np.zeros((72, 144, 57), order='F')          # sec^-1\n",
    "nu_O2p_N2_TIEGCM = np.zeros((72, 144, 57), order='F')         # sec^-1\n",
    "\n",
    "nu_Op_TIEGCM = np.zeros((72, 144, 57), order='F')             # sec^-1\n",
    "nu_Op_TIEGCM_error = np.zeros((72, 144, 57), order='F')       # array to store error\n",
    "nu_Op_TIEGCM_error_min = np.zeros((72, 144, 57), order='F')   # sec^-1\n",
    "nu_Op_TIEGCM_error_max = np.zeros((72, 144, 57), order='F')   # sec^-1\n",
    "nu_Op_O_TIEGCM = np.zeros((72, 144, 57), order='F')           # sec^-1\n",
    "nu_Op_O2_TIEGCM = np.zeros((72, 144, 57), order='F')          # sec^-1\n",
    "nu_Op_N2_TIEGCM = np.zeros((72, 144, 57), order='F')          # sec^-1\n",
    "\n",
    "\n",
    "nu_NOp_TIEGCM = np.zeros((72, 144, 57), order='F')            # sec^-1\n",
    "nu_NOp_TIEGCM_error_per = np.zeros((72, 144, 57), order='F')  # array to store error\n",
    "nu_NOp_TIEGCM_error_min = np.zeros((72, 144, 57), order='F')  # sec^-1\n",
    "nu_NOp_TIEGCM_errormax = np.zeros((72, 144, 57), order='F')   # sec^-1\n",
    "nu_NOp_O2_TIEGCM = np.zeros((72, 144, 57), order='F')         # sec^-1\n",
    "nu_NOp_O_TIEGCM = np.zeros((72, 144, 57), order='F')          # sec^-1\n",
    "nu_NOp_N2_TIEGCM = np.zeros((72, 144, 57), order='F')         # sec^-1\n",
    "\n",
    "nu_e_TIEGCM = np.zeros((72, 144, 57), order='F')              # sec^-1\n",
    "nu_e_TIEGCM_error = np.zeros((72, 144, 57), order='F')        # array to store error\n",
    "nu_e_TIEGCM_error_min = np.zeros((72, 144, 57), order='F')    # sec^-1\n",
    "nu_e_TIEGCM_error_max = np.zeros((72, 144, 57), order='F')    # sec^-1\n",
    "nu_e_ver_TIEGCM = np.zeros((72, 144, 57), order='F')          # sec^-1\n",
    "nu_e_N2_ver_TIEGCM = np.zeros((72, 144, 57), order='F')       # sec^-1\n",
    "nu_e_O2_ver_TIEGCM = np.zeros((72, 144, 57), order='F')       # sec^-1\n",
    "nu_e_O_ver_TIEGCM = np.zeros((72, 144, 57), order='F')        # sec^-1\n",
    "\n",
    "Omega_e_TIEGCM = np.zeros((72, 144, 57), order='F')    # sec^-1\n",
    "Omega_i_TIEGCM = np.zeros((72, 144, 57), order='F')    # sec^-1\n",
    "Omega_Op_TIEGCM = np.zeros((72, 144, 57), order='F')   # sec^-1\n",
    "Omega_O2p_TIEGCM = np.zeros((72, 144, 57), order='F')  # sec^-1\n",
    "Omega_NOp_TIEGCM = np.zeros((72, 144, 57), order='F')  # sec^-1\n",
    "\n",
    "dOmega_e = np.zeros((72, 144, 57), order='F')    # sec^-1\n",
    "dOmega_Op = np.zeros((72, 144, 57), order='F')   # sec^-1\n",
    "dOmega_O2p = np.zeros((72, 144, 57), order='F')  # sec^-1\n",
    "\n",
    "ratio_e_TIEGCM = np.zeros((72, 144, 57), order='F')\n",
    "ratio_Op_TIEGCM = np.zeros((72, 144, 57), order='F')\n",
    "ratio_O2p_TIEGCM = np.zeros((72, 144, 57), order='F')\n",
    "ratio_NOP_TIEGCM = np.zeros((72, 144, 57), order='F')\n",
    "\n",
    "Pedersen_TIEGCM = np.zeros((72, 144, 57), order='F')            # Pedersen Conductivity S/m\n",
    "Pedersen_TIEGCM_error_max = np.zeros((72, 144, 57), order='F')  # Pedersen Conductivity with error S/m\n",
    "Pedersen_TIEGCM_error_min = np.zeros((72, 144, 57), order='F')  # Pedersen Conductivity with error S/m\n",
    "Peder_error = np.zeros((72, 144, 57), order='F')                # array to store error\n",
    "\n",
    "Hall_TIEGCM = np.zeros((72, 144, 57), order='F')            # Hall Conductivity S/m\n",
    "Hall_TIEGCM_error_max = np.zeros((72, 144, 57), order='F')  # Hall Conductivity with error S/m\n",
    "Hall_TIEGCM_error_min = np.zeros((72, 144, 57), order='F')  # Hall Conductivity with error S/m\n",
    "Hall_error = np.zeros((72, 144, 57), order='F')             # array to store error\n",
    "\n",
    "Parallel_TIEGCM = np.zeros((72, 144, 57), order='F')            # Parallel Conductivity S/m\n",
    "Parallel_TIEGCM_error_max = np.zeros((72, 144, 57), order='F')  # Parallel Conductivity with error S/m\n",
    "Parallel_TIEGCM_error_min = np.zeros((72, 144, 57), order='F')  # Parallel Conductivity with error S/m\n",
    "Parallel_error = np.zeros((72, 144, 57), order='F')             # array to store error\n",
    "\n",
    "Ohmic_Heating = np.zeros((72, 144, 57), order='F')  # Ohmic Heating mW/m^3\n",
    "OH_error = np.zeros((72, 144, 57), order='F')       # Ohmic Heating error mW/m^3\n",
    "OH_error_max = np.zeros((72, 144, 57), order='F')   # Ohmic Heating with error mW/m^3\n",
    "OH_error_min = np.zeros((72, 144, 57), order='F')   # Ohmic Heating with error mW/m^3\n",
    "\n",
    "Joule_Heating = np.zeros((72, 144, 57), order='F')  # Joule Heating mW/m^3\n",
    "JH_error = np.zeros((72, 144, 57), order='F')       # Joule Heating error mW/m^3\n",
    "JH_error_max = np.zeros((72, 144, 57), order='F')   # Joule Heating with error mW/m^3\n",
    "JH_error_min = np.zeros((72, 144, 57), order='F')   # Joule Heating with error mW/m^3\n",
    "\n",
    "Frictional_Heating = np.zeros((72, 144, 57), order='F')  # Frictional Heating mW/m^3\n",
    "FH_error = np.zeros((72, 144, 57), order='F')            # Frictional Heating error mW/m^3\n",
    "FH_error_max = np.zeros((72, 144, 57), order='F')        # Frictional Heating with error mW/m^3\n",
    "FH_error_min = np.zeros((72, 144, 57), order='F')        # Frictional Heating with error mW/m^3\n",
    "\n",
    "\n",
    "# Cross Sections\n",
    "cross_section = np.zeros((72, 144, 57), order='F')              # cross section cm^2\n",
    "cross_section_error = np.zeros((72, 144, 57), order='F')        # cross section error cm^2\n",
    "cross_section_error_min = np.zeros((72, 144, 57), order='F')    # cross section with error cm^2\n",
    "cross_section_error_max = np.zeros((72, 144, 57), order='F')    # cross section with error cm^2\n",
    "\n",
    "N_neutral = np.zeros((72, 144, 57), order='F')  # in cm^3\n",
    "\n",
    "# Variables for currents calculation (magnitudes)\n",
    "Pedersen_current = np.zeros((72, 144, 57), order='F')  # Pedersen current A/m^2\n",
    "Hall_current = np.zeros((72, 144, 57), order='F')      # Hall current A/m^2\n",
    "Total_current = np.zeros((72, 144, 57), order='F')     # Pedersen + Hall current A/m^2\n",
    "\n",
    "# Variables for currents error calculation (magnitudes)\n",
    "Pedersen_current_error = np.zeros((72, 144, 57), order='F')     # Pedersen current error A/m^2\n",
    "Hall_current_error = np.zeros((72, 144, 57), order='F')         # Hall currents error A/m^2\n",
    "Total_current_error = np.zeros((72, 144, 57), order='F')        # Total current error A/m^2\n",
    "\n",
    "Pedersen_current_error_max = np.zeros((72, 144, 57), order='F')  # Pedersen current with error A/m^2\n",
    "Pedersen_current_error_min = np.zeros((72, 144, 57), order='F')  # Pedersen current with error A/m^2\n",
    "\n",
    "Hall_current_error_max = np.zeros((72, 144, 57), order='F')  # Hall current with error A/m^2\n",
    "Hall_current_error_min = np.zeros((72, 144, 57), order='F')  # Hall current with error A/m^2\n",
    "\n",
    "Total_current_error_max = np.zeros((72, 144, 57), order='F')  # Total current with error A/m^2\n",
    "Total_current_error_min = np.zeros((72, 144, 57), order='F')  # Total current with error A/m^2\n",
    "\n",
    "# Variables used for date/time in plots\n",
    "co_date_time_title = []\n",
    "co_time = []\n",
    "co_time_str = []\n",
    "\n",
    "\n",
    "def geod_lat2geog_lat(phi):\n",
    "    # calculate geocentric latitude from geodetic latitude\n",
    "    # according to WGS 84\n",
    "    a = 6378137      # meter semi major axis of earth\n",
    "    f = 1 / 298.257  # flattening\n",
    "    b = a - f * a    # semi minor axis\n",
    "    e = ((a ** 2 - b ** 2) ** (1 / 2)) / a\n",
    "    phi_rad = np.deg2rad(phi)\n",
    "    geo_lat = np.arctan((1 - e ** 2) * np.tan(phi_rad))\n",
    "    geo_lat = np.rad2deg(geo_lat)\n",
    "    return geo_lat  # in degrees\n",
    "\n",
    "\n",
    "def geog_lat2geod_lat(phi):\n",
    "    # calculate geocentric latitude from geodetic latitude\n",
    "    # according to WGS 84\n",
    "    a = 6378137      # meter semi major axis of earth\n",
    "    f = 1 / 298.257  # flattening\n",
    "    b = a - f * a    # semi minor axis\n",
    "    e = ((a ** 2 - b ** 2) ** (1 / 2)) / a\n",
    "    phi_rad = np.deg2rad(phi)\n",
    "    geod_lat = np.arctan(np.tan(phi_rad) / (1 - e ** 2))\n",
    "    geod_lat = np.rad2deg(geod_lat)\n",
    "    return geod_lat  # in degrees\n",
    "\n",
    "\n",
    "def enu_ecef(lat_phi, lon_lmd, Fe, Fn, Fup):\n",
    "    fac = np.pi / 180\n",
    "    lat_phi = lat_phi * fac\n",
    "    lon_lmd = lon_lmd * fac\n",
    "\n",
    "    north_temp_unit = [-np.cos(lon_lmd) * np.sin(lat_phi), - np.sin(lon_lmd) * np.sin(lat_phi), np.cos(lat_phi)]\n",
    "    east_temp_unit = [-np.sin(lon_lmd), np.cos(lon_lmd), 0]\n",
    "    up_temp_unit = [np.cos(lon_lmd) * np.cos(lat_phi), np.sin(lon_lmd) * np.cos(lat_phi), np.sin(lat_phi)]\n",
    "\n",
    "    Fnorth_vector = [Fn * north_temp_unit[0], Fn * north_temp_unit[1], Fn * north_temp_unit[2]]\n",
    "    Feast_vector = [Fe * east_temp_unit[0], Fe * east_temp_unit[1], Fe * east_temp_unit[2]]\n",
    "    Fup_vector = [Fup * up_temp_unit[0], Fup * up_temp_unit[1], Fup * up_temp_unit[2]]\n",
    "\n",
    "    Fx = Fnorth_vector[0] + Feast_vector[0] + Fup_vector[0]\n",
    "    Fy = Fnorth_vector[1] + Feast_vector[1] + Fup_vector[1]\n",
    "    Fz = Fnorth_vector[2] + Feast_vector[2] + Fup_vector[2]\n",
    "\n",
    "    return Fx, Fy, Fz\n",
    "\n",
    "# @@@@@@@@@@@@@@@@@@@@@@@@ Conductivities plotting @@@@@@@@@@@@@@@@@@@@@@@@@@@@@@@@@@@@@@@@@@@@@@@@@@@@@@@@@@@@@@@@\n",
    "def plotting_Conductivities():\n",
    "    # from here starts plotly\n",
    "    lat=global_lat\n",
    "    lon=global_lon\n",
    "    lev=global_pres_lev\n",
    "    fig1 = go.Figure()\n",
    "    \n",
    "\n",
    "    # adding the various plots\n",
    "    fig1.add_trace(go.Scatter(x=Pedersen_TIEGCM[lat, lon, min_HP:max_HP], y=heights[lat, lon, min_HP:max_HP], name=\"Pedersen\", mode='lines',\n",
    "        line=dict(color='red')))\n",
    "    fig1.add_trace(go.Scatter(x=Hall_TIEGCM[lat, lon, min_HP:max_HP], y=heights[lat, lon, min_HP:max_HP], name=\"Hall\", mode='lines',\n",
    "        line=dict(color='blue')))\n",
    "    fig1.add_trace(go.Scatter(x=Parallel_TIEGCM[lat, lon, min_HP:max_HP], y=heights[lat, lon, min_HP:max_HP], name=\"Parallel\", mode='lines',\n",
    "        line=dict(color='black')))\n",
    "    fig1.update_layout(xaxis_type=\"log\", xaxis_showexponent='all', xaxis_exponentformat='power',\n",
    "                       yaxis=dict(tickmode='array', tickvals=np.arange(100, 510, 20)), xaxis_title=\"Conductivity S/m\",\n",
    "                       yaxis_title=\"Altitude (km)\", width=750, height=750,\n",
    "                       title={'text': 'Conductivities ' + co_date_time_title[0], 'y': 0.9, 'x': 0.5,\n",
    "                              'xanchor': 'center', 'yanchor': 'top'})\n",
    "    fig1.update_xaxes(showgrid=True, gridwidth=0.5, gridcolor='grey')\n",
    "    fig1.update_yaxes(showgrid=True, gridwidth=0.5, gridcolor='grey')\n",
    "    fig1.update_xaxes(showline=True, linewidth=2, linecolor='black', mirror=True)\n",
    "    fig1.update_yaxes(showline=True, linewidth=2, linecolor='black', mirror=True)\n",
    "\n",
    "    fig1.show()\n",
    "\n",
    "# @@@@@@@@@@@@@@@@@@@@@@@@@@@@@@@@@ Heating rates plotting @@@@@@@@@@@@@@@@@@@@@@@@@@@@@@@@@@@@@@@@@@@@@@@@@@@@@@@@\n",
    "def plotting_Heating_Rates():\n",
    "    lat=global_lat\n",
    "    lon=global_lon\n",
    "    lev=global_pres_lev\n",
    "    # from here starts plotly\n",
    "    fig2 = go.Figure()\n",
    "    # adding the various plots\n",
    "    fig2.add_trace(go.Scatter(x=Ohmic_Heating[lat, lon, min_HP:max_HP],y=heights[lat, lon, min_HP:max_HP],name=\"Ohmic HR\", mode='lines',\n",
    "        line=dict(color='red')))\n",
    "    fig2.add_trace(go.Scatter(x=Joule_Heating[lat, lon, min_HP:max_HP],y=heights[lat, lon, min_HP:max_HP],name=\"Joule HR\", mode='lines',\n",
    "        line=dict(color='green')))\n",
    "    fig2.add_trace(go.Scatter(x=Frictional_Heating[lat, lon, min_HP:max_HP],y=heights[lat, lon, min_HP:max_HP],name=\"Frictional HR\",\n",
    "        mode='lines', line=dict(color='blue')))\n",
    "\n",
    "    # updating the layout of the figure. All the parameters concerning graph are put here\n",
    "    fig2.update_layout(xaxis_type=\"log\", xaxis_showexponent='all', xaxis_exponentformat='power',\n",
    "                       yaxis=dict(tickmode='array', tickvals=np.arange(60, 510, 20)), xaxis_title=\"Heating Rate mW/m^3\",\n",
    "                       yaxis_title=\"Altitude (km)\", width=750, height=750,\n",
    "                       title={'text': 'Heating Rates ' + co_date_time_title[0], 'y': 0.9, 'x': 0.5, 'xanchor': 'center',\n",
    "                              'yanchor': 'top'})\n",
    "    fig2.update_xaxes(showgrid=True, gridwidth=0.5, gridcolor='grey')\n",
    "    fig2.update_yaxes(showgrid=True, gridwidth=0.5, gridcolor='grey')\n",
    "    fig2.update_xaxes(showline=True, linewidth=2, linecolor='black', mirror=True)\n",
    "    fig2.update_yaxes(showline=True, linewidth=2, linecolor='black', mirror=True)\n",
    "    fig2.show()\n",
    "\n",
    "# @@@@@@@@@@@@@@@@@@@@@@@@@@@@@@@ Conductivities Error plotting @@@@@@@@@@@@@@@@@@@@@@@@@@@@@@@@@@@@@@@@@@@@@@@@@@@\n",
    "def plotting_COND_Error(p_level=-500):\n",
    "    lat=global_lat\n",
    "    lon=global_lon\n",
    "    lev=global_pres_lev\n",
    "    if p_level == -500:\n",
    "        # from here starts plotly\n",
    "        fig3 = go.Figure()\n",
    "        # adding the various plots\n",
    "        fig3.add_trace(go.Scatter(x=Peder_error[lat, lon, min_HP:max_HP], y=heights[lat, lon, min_HP:max_HP], name=\"Pedersen Error \",\n",
    "            mode='lines', line=dict(color='red')))\n",
    "        fig3.add_trace(go.Scatter(x=Hall_error[lat, lon, min_HP:max_HP], y=heights[lat, lon, min_HP:max_HP], name=\"Hall Error \",\n",
    "            mode='lines', line=dict(color='blue'), visible=\"legendonly\"))\n",
    "        fig3.add_trace(go.Scatter(x=Parallel_error[lat, lon, min_HP:max_HP], y=heights[lat, lon, min_HP:max_HP], name=\"Parallel Error \",\n",
    "            mode='lines', line=dict(color='green'), visible=\"legendonly\"))\n",
    "\n",
    "        # updating the layout of the figure. All the parameters concerning graph are put here\n",
    "        fig3.update_layout(xaxis_showexponent='all', xaxis_exponentformat='power',\n",
    "                           yaxis=dict(tickmode='array', tickvals=np.arange(60, 510, 20)), xaxis_title=\"S/m\",\n",
    "                           yaxis_title=\"Altitude (km)\", width=950, height=750,\n",
    "                           title={'text': 'Conductivities Error  ' + co_date_time_title[0], 'y': 0.9, 'x': 0.5,\n",
    "                                  'xanchor': 'center', 'yanchor': 'top'})\n",
    "        fig3.update_xaxes(showgrid=True, gridwidth=0.5, gridcolor='grey')\n",
    "        fig3.update_yaxes(showgrid=True, gridwidth=0.5, gridcolor='grey')\n",
    "        fig3.update_xaxes(showline=True, linewidth=2, linecolor='black', mirror=True)\n",
    "        fig3.update_yaxes(showline=True, linewidth=2, linecolor='black', mirror=True)\n",
    "        fig3.show()\n",
    "\n",
    "        fig4 = go.Figure()\n",
    "\n",
    "        # adding the various plots\n",
    "        fig4.add_trace(go.Scatter(x=Pedersen_TIEGCM[lat, lon, min_HP:max_HP], y=heights[lat, lon, min_HP:max_HP], name=\"Pedersen\",\n",
    "            mode='lines', line=dict(color='red')))\n",
    "        fig4.add_trace(go.Scatter(x=Pedersen_TIEGCM_error_max[lat, lon, min_HP:max_HP], y=heights[lat, lon, min_HP:max_HP],\n",
    "            name=\"Pedersen max With Error\", mode='lines', line=dict(dash=\"dot\", color='purple')))\n",
    "        fig4.add_trace(go.Scatter(x=Pedersen_TIEGCM_error_min[lat, lon, min_HP:max_HP], y=heights[lat, lon, min_HP:max_HP],\n",
    "            name=\"Pedersen min With Error\", mode='lines', line=dict(dash=\"dot\", color='green')))\n",
    "\n",
    "        fig4.add_trace(go.Scatter(x=Hall_TIEGCM[lat, lon, min_HP:max_HP], y=heights[lat, lon, min_HP:max_HP], name=\"Hall\", mode='lines',\n",
    "            marker=dict(color='blue')))\n",
    "        # fig4.add_trace(go.Scatter(x=Hall_TIEGCM_error_max[lat, lon, :51], y=heights[lat, lon, :51],name=\"Hall max With Error\",mode='lines',line=dict(dash=\"dot\",color='purple')))\n",
    "        # fig4.add_trace(go.Scatter(x=Hall_TIEGCM_error_min[lat, lon, :51], y=heights[lat, lon, :51],name=\"Hall min With Error\",mode='lines',line=dict(dash=\"dot\",color='green')))\n",
    "\n",
    "        fig4.add_trace(go.Scatter(x=Parallel_TIEGCM[lat, lon, :51], y=heights[lat, lon, :51], name=\"Parallel\",\n",
    "            mode='lines', line=dict(color='black')))\n",
    "        fig4.add_trace(go.Scatter(x=Parallel_TIEGCM_error_max[lat, lon, :51], y=heights[lat, lon, :51],\n",
    "            name=\"Parallel max with error\", mode='lines', line=dict(dash=\"dot\", color='yellow')))\n",
    "        fig4.add_trace(go.Scatter(x=Parallel_TIEGCM_error_min[lat, lon, :51], y=heights[lat, lon, :51],\n",
    "            name=\"Parallel min with error\", mode='lines', line=dict(dash=\"dot\", color='brown')))\n",
    "\n",
    "        # updating the layout of the figure. All the parameters concerning graph are put here\n",
    "        fig4.update_layout(xaxis_type=\"log\", xaxis_showexponent='all', xaxis_exponentformat='power',\n",
    "                           yaxis=dict(tickmode='array', tickvals=np.arange(60, 510, 20)), xaxis_title=\"Conductivity S/m\",\n",
    "                           yaxis_title=\"Altitude (km)\", width=850, height=750,\n",
    "                           title={'text': 'Conductivities ' + co_date_time_title[0], 'y': 0.9, 'x': 0.5,\n",
    "                                  'xanchor': 'center', 'yanchor': 'top'})\n",
    "        fig4.update_xaxes(showgrid=True, gridwidth=0.5, gridcolor='grey')\n",
    "        fig4.update_yaxes(showgrid=True, gridwidth=0.5, gridcolor='grey')\n",
    "        fig4.update_xaxes(showline=True, linewidth=2, linecolor='black', mirror=True)\n",
    "        fig4.update_yaxes(showline=True, linewidth=2, linecolor='black', mirror=True)\n",
    "        fig4.show()\n",
    "    else:\n",
    "        plt.rcParams['figure.figsize'] = (12, 12)\n",
    "        fig1 = plt.figure()\n",
    "        ax1 = fig1.add_subplot(1, 1, 1, aspect='equal')\n",
    "\n",
    "        m1 = Basemap(projection='cyl', llcrnrlat=-90, urcrnrlat=90, llcrnrlon=-180, urcrnrlon=180, resolution='c')\n",
    "        m1.drawcoastlines()\n",
    "\n",
    "        sc1 = m1.imshow(Peder_error[:, :, p_level], cmap='jet', interpolation='bicubic')\n",
    "\n",
    "        if night_checkbox.value == True:\n",
    "            m1.nightshade(co_time[0], alpha=0.3)\n",
    "\n",
    "        m1.drawparallels(np.arange(-90., 91., 30.))\n",
    "        m1.drawmeridians(np.arange(-180., 181., 60.))\n",
    "\n",
    "        plt.xticks(np.arange(-180., 181., 60.))\n",
    "        plt.yticks(np.arange(-90., 91., 30.))\n",
    "        plt.xlabel('Lon (deg)')\n",
    "        plt.ylabel('Lat (deg)')\n",
    "\n",
    "        plt.title('Pedersen Conductivity Error (S/m) ' + co_time_str[0])\n",
    "\n",
    "        divider = make_axes_locatable(ax1)\n",
    "        cax1 = divider.append_axes(\"right\", size=\"5%\", pad=0.2, aspect=20, label='[S/m]')\n",
    "        cbar1 = plt.colorbar(sc1, cax=cax1)\n",
    "        # ################################################\n",
    "        fig2 = plt.figure()\n",
    "        ax2 = fig2.add_subplot(1, 1, 1, aspect='equal')\n",
    "\n",
    "        m2 = Basemap(projection='cyl', llcrnrlat=-90, urcrnrlat=90, llcrnrlon=-180, urcrnrlon=180, resolution='c')\n",
    "        m2.drawcoastlines()\n",
    "\n",
    "        sc2 = m2.imshow(Hall_error[:, :, p_level], cmap='jet', interpolation='bicubic')\n",
    "\n",
    "        if night_checkbox.value == True:\n",
    "            m2.nightshade(co_time[0], alpha=0.3)\n",
    "\n",
    "        m2.drawparallels(np.arange(-90., 91., 30.))\n",
    "        m2.drawmeridians(np.arange(-180., 181., 60.))\n",
    "\n",
    "        plt.xticks(np.arange(-180., 181., 60.))\n",
    "        plt.yticks(np.arange(-90., 91., 30.))\n",
    "        plt.xlabel('Lon (deg)')\n",
    "        plt.ylabel('Lat (deg)')\n",
    "\n",
    "        plt.title('Hall Conductivity Error (S/m) ' + co_time_str[0])\n",
    "\n",
    "        divider = make_axes_locatable(ax2)\n",
    "        cax2 = divider.append_axes(\"right\", size=\"5%\", pad=0.2, aspect=20, label='[S/m]')\n",
    "        cbar2 = plt.colorbar(sc2, cax=cax2)\n",
    "        # ########################################\n",
    "        fig3 = plt.figure()\n",
    "        ax3 = fig3.add_subplot(1, 1, 1, aspect='equal')\n",
    "\n",
    "        m3 = Basemap(projection='cyl', llcrnrlat=-90, urcrnrlat=90, llcrnrlon=-180, urcrnrlon=180, resolution='c')\n",
    "        m3.drawcoastlines()\n",
    "\n",
    "        sc3 = m3.imshow(Parallel_error[:, :, p_level], cmap='jet', interpolation='bicubic')\n",
    "\n",
    "        if night_checkbox.value == True:\n",
    "            m3.nightshade(co_time[0], alpha=0.3)\n",
    "\n",
    "        m3.drawparallels(np.arange(-90., 91., 30.))\n",
    "        m3.drawmeridians(np.arange(-180., 181., 60.))\n",
    "\n",
    "        plt.xticks(np.arange(-180., 181., 60.))\n",
    "        plt.yticks(np.arange(-90., 91., 30.))\n",
    "        plt.xlabel('Lon (deg)')\n",
    "        plt.ylabel('Lat (deg)')\n",
    "\n",
    "        plt.title('Parallel Conductivity Error (S/m) ' + co_time_str[0])\n",
    "\n",
    "        divider = make_axes_locatable(ax3)\n",
    "        cax3 = divider.append_axes(\"right\", size=\"5%\", pad=0.2, aspect=20, label='[S/m]')\n",
    "        cbar3 = plt.colorbar(sc3, cax=cax3)\n",
    "\n",
    "        plt.show()\n",
    "\n",
    "# @@@@@@@@@@@@@@@@@@@@@@@@@@@@@@ Heating Error plotting @@@@@@@@@@@@@@@@@@@@@@@@@@@@@@@@@@@@@@@@@@@@@@@@@@@@@@@@@\n",
    "def plotting_Heating_error(p_level=-500):\n",
    "    lat=global_lat\n",
    "    lon=global_lon\n",
    "    lev=global_pres_lev\n",
    "    if p_level == -500:\n",
    "        fig5 = go.Figure()\n",
    "        # adding the various plots\n",
    "        fig5.add_trace(go.Scatter(x=OH_error[lat, lon, min_HP:max_HP], y=heights[lat, lon, min_HP:max_HP], name=\"Ohmic Error\", mode='lines',\n",
    "            line=dict(color='red')))\n",
    "        fig5.add_trace(go.Scatter(x=JH_error[lat, lon, min_HP:max_HP], y=heights[lat, lon, min_HP:max_HP], name=\"Joule Error\", mode='lines',\n",
    "            line=dict(color='green')))\n",
    "        fig5.add_trace(go.Scatter(x=FH_error[lat, lon, min_HP:max_HP], y=heights[lat, lon, min_HP:max_HP], name=\"Frictional Error\",\n",
    "            mode='lines',line=dict(color='blue')))\n",
    "\n",
    "        # updating the layout of the figure. All the parameters concerning graph are put here\n",
    "        fig5.update_layout(xaxis_showexponent='all', xaxis_exponentformat='power',\n",
    "                           yaxis=dict(tickmode='array', tickvals=np.arange(60, 510, 20)), xaxis_title=\"mW/m^3\",\n",
    "                           yaxis_title=\"Altitude (km)\", width=870, height=750,\n",
    "                           title={'text': 'Heating Rates Absolute Error  ' + co_date_time_title[0], 'y': 0.9, 'x': 0.5,\n",
    "                                  'xanchor': 'center', 'yanchor': 'top'})\n",
    "        fig5.update_xaxes(showgrid=True, gridwidth=0.5, gridcolor='grey')\n",
    "        fig5.update_yaxes(showgrid=True, gridwidth=0.5, gridcolor='grey')\n",
    "        fig5.update_xaxes(showline=True, linewidth=2, linecolor='black', mirror=True)\n",
    "        fig5.update_yaxes(showline=True, linewidth=2, linecolor='black', mirror=True)\n",
    "        fig5.show()\n",
    "\n",
    "        # from here starts plotly\n",
    "        fig6 = go.Figure()\n",
    "        # adding the various plots\n",
    "        fig6.add_trace(go.Scatter(x=Ohmic_Heating[lat, lon, :51], y=heights[lat, lon, :51], name=\"Ohmic HR\",\n",
    "            mode='lines', line=dict(color='red')))\n",
    "        fig6.add_trace(go.Scatter(x=OH_error_max[lat, lon, :51], y=heights[lat, lon, :51],\n",
    "            name=\"Ohmic HR max With Error\", mode='lines', line=dict(dash=\"dot\", color='purple')))\n",
    "#         print(\"======\")\n",
    "#         print(Ohmic_Heating[lat, lon, :51])\n",
    "#         print(\"======\")\n",
    "#         print(OH_error[lat,lon,:51])\n",
    "#         print(\"======\")\n",
    "#         print(OH_error_min[lat,lon,:51])\n",
    "#         print(\"======\")\n",
    "#         print(OH_error_max[lat,lon,:51])\n",
    "#         print(\"======\")\n",
    "        fig6.add_trace(go.Scatter(x=OH_error_min[lat, lon, min_HP:max_HP], y=heights[lat, lon, min_HP:max_HP],\n",
    "            name=\"Ohmic HR min With Error\", mode='lines', line=dict(dash=\"dot\", color='orange')))\n",
    "\n",
    "        fig6.add_trace(go.Scatter(x=Joule_Heating[lat, lon, min_HP:max_HP], y=heights[lat, lon, min_HP:max_HP], name=\"Joule HR\",\n",
    "            mode='lines', line=dict(color='green')))\n",
    "        fig6.add_trace(go.Scatter(x=JH_error_max[lat, lon, min_HP:max_HP], y=heights[lat, lon, min_HP:max_HP],\n",
    "            name=\"Joule HR max With Error\", mode='lines', line=dict(dash=\"dot\", color='purple')))\n",
    "        fig6.add_trace(go.Scatter(x=JH_error_min[lat, lon, min_HP:max_HP], y=heights[lat, lon, min_HP:max_HP],\n",
    "            name=\"Joule HR min With Error\", mode='lines', line=dict(dash=\"dot\", color='orange')))\n",
    "\n",
    "        fig6.add_trace(go.Scatter(x=Frictional_Heating[lat, lon, min_HP:max_HP], y=heights[lat, lon, min_HP:max_HP], name=\"Frictional HR\", mode='lines',\n",
    "            line=dict(color='blue')))\n",
    "        fig6.add_trace(go.Scatter(x=FH_error_max[lat, lon, min_HP:max_HP], y=heights[lat, lon, min_HP:max_HP], name=\"Frictional HR max With Error\", mode='lines',\n",
    "            line=dict(dash=\"dot\", color='purple')))\n",
    "        fig6.add_trace(go.Scatter(x=FH_error_min[lat, lon, min_HP:max_HP], y=heights[lat, lon, min_HP:max_HP], name=\"Frictional HR min With Error\", mode='lines',\n",
    "            line=dict(dash=\"dot\", color='orange')))\n",
    "\n",
    "        # updating the layout of the figure. All the parameters concerning graph are put here\n",
    "        fig6.update_layout(xaxis_type=\"log\", xaxis_showexponent='all', xaxis_exponentformat='power',\n",
    "                           yaxis=dict(tickmode='array', tickvals=np.arange(60, 510, 20)), xaxis_title=\"mW/m^3\",\n",
    "                           yaxis_title=\"Altitude (km)\", width=900, height=850,\n",
    "                           title={'text': 'Heating Rates ' + co_date_time_title[0], 'y': 0.9, 'x': 0.5, 'xanchor': 'center',\n",
    "                                  'yanchor': 'top'})\n",
    "        fig6.update_xaxes(showgrid=True, gridwidth=0.5, gridcolor='grey')\n",
    "        fig6.update_yaxes(showgrid=True, gridwidth=0.5, gridcolor='grey')\n",
    "        fig6.update_xaxes(showline=True, linewidth=2, linecolor='black', mirror=True)\n",
    "        fig6.update_yaxes(showline=True, linewidth=2, linecolor='black', mirror=True)\n",
    "        fig6.show()\n",
    "    else:\n",
    "        plt.rcParams['figure.figsize'] = (12, 12)\n",
    "        fig1 = plt.figure()\n",
    "        ax1 = fig1.add_subplot(1, 1, 1, aspect='equal')\n",
    "\n",
    "        m1 = Basemap(projection='cyl', llcrnrlat=-90, urcrnrlat=90, llcrnrlon=-180, urcrnrlon=180, resolution='c')\n",
    "        m1.drawcoastlines()\n",
    "\n",
    "        sc1 = m1.imshow(OH_error[:, :, p_level], cmap='jet', interpolation='bicubic')\n",
    "\n",
    "        if night_checkbox.value == True:\n",
    "            m1.nightshade(co_time[0], alpha=0.3)\n",
    "\n",
    "        m1.drawparallels(np.arange(-90., 91., 30.))\n",
    "        m1.drawmeridians(np.arange(-180., 181., 60.))\n",
    "\n",
    "        plt.xticks(np.arange(-180., 181., 60.))\n",
    "        plt.yticks(np.arange(-90., 91., 30.))\n",
    "        plt.xlabel('Lon (deg)')\n",
    "        plt.ylabel('Lat (deg)')\n",
    "\n",
    "        plt.title('Ohmic Heating Error (mW/m^3) ' + co_time_str[0])\n",
    "\n",
    "        divider = make_axes_locatable(ax1)\n",
    "        cax1 = divider.append_axes(\"right\", size=\"5%\", pad=0.2, aspect=20, label='[mW/m^3]')\n",
    "        cbar1 = plt.colorbar(sc1, cax=cax1)\n",
    "        # ################################################\n",
    "        fig2 = plt.figure()\n",
    "        ax2 = fig2.add_subplot(1, 1, 1, aspect='equal')\n",
    "\n",
    "        m2 = Basemap(projection='cyl', llcrnrlat=-90, urcrnrlat=90, llcrnrlon=-180, urcrnrlon=180, resolution='c')\n",
    "        m2.drawcoastlines()\n",
    "\n",
    "        sc2 = m2.imshow(JH_error[:, :, p_level], cmap='jet', interpolation='bicubic')\n",
    "\n",
    "        if night_checkbox.value == True:\n",
    "            m2.nightshade(co_time[0], alpha=0.3)\n",
    "\n",
    "        m2.drawparallels(np.arange(-90., 91., 30.))\n",
    "        m2.drawmeridians(np.arange(-180., 181., 60.))\n",
    "\n",
    "        plt.xticks(np.arange(-180., 181., 60.))\n",
    "        plt.yticks(np.arange(-90., 91., 30.))\n",
    "        plt.xlabel('Lon (deg)')\n",
    "        plt.ylabel('Lat (deg)')\n",
    "\n",
    "        plt.title('Joule Heating Error (mW/m^3) ' + co_time_str[0])\n",
    "\n",
    "        divider = make_axes_locatable(ax2)\n",
    "        cax2 = divider.append_axes(\"right\", size=\"5%\", pad=0.2, aspect=20, label='[mW/m^3]')\n",
    "        cbar2 = plt.colorbar(sc2, cax=cax2)\n",
    "        # ########################################\n",
    "        fig3 = plt.figure()\n",
    "        ax3 = fig3.add_subplot(1, 1, 1, aspect='equal')\n",
    "\n",
    "        m3 = Basemap(projection='cyl', llcrnrlat=-90, urcrnrlat=90, llcrnrlon=-180, urcrnrlon=180, resolution='c')\n",
    "        m3.drawcoastlines()\n",
    "\n",
    "        sc3 = m3.imshow(FH_error[:, :, p_level], cmap='jet', interpolation='bicubic')\n",
    "\n",
    "        if night_checkbox.value == True:\n",
    "            m3.nightshade(co_time[0], alpha=0.3)\n",
    "\n",
    "        m3.drawparallels(np.arange(-90., 91., 30.))\n",
    "        m3.drawmeridians(np.arange(-180., 181., 60.))\n",
    "\n",
    "        plt.xticks(np.arange(-180., 181., 60.))\n",
    "        plt.yticks(np.arange(-90., 91., 30.))\n",
    "        plt.xlabel('Lon (deg)')\n",
    "        plt.ylabel('Lat (deg)')\n",
    "\n",
    "        plt.title('Frictional Heating Error (mW/m^3) ' + co_time_str[0])\n",
    "\n",
    "        divider = make_axes_locatable(ax3)\n",
    "        cax3 = divider.append_axes(\"right\", size=\"5%\", pad=0.2, aspect=20, label='[mW/m^3]')\n",
    "        cbar3 = plt.colorbar(sc3, cax=cax3)\n",
    "\n",
    "        plt.show()\n",
    "\n",
    "# @@@@@@@@@@@@@@@@@@@@@@@@@@@@@@ collision frequencies/gyrofrequencies plotting @@@@@@@@@@@@@@@@@@@@@@@@@@@@@@@@@@@@@\n",
    "def plotting_Collis_freq():\n",
    "    # from here starts plotly\n",
    "    lat=global_lat\n",
    "    lon=global_lon\n",
    "    lev=global_pres_lev\n",
    "    fig7 = go.Figure()\n",
    "\n",
    "    # adding the various plots\n",
    "    fig7.add_trace(go.Scatter(x=nu_e_TIEGCM[lat, lon, min_HP:max_HP], y=heights[lat, lon, min_HP:max_HP], name=\"$ν_e$\", mode='lines',\n",
    "        line=dict(color='orange')))\n",
    "    fig7.add_trace(go.Scatter(x=nu_O2p_TIEGCM[lat, lon, min_HP:max_HP], y=heights[lat, lon, min_HP:max_HP], name=\"$ν_{O_2^+}$\",\n",
    "        mode='lines', line=dict(color='cyan')))\n",
    "    fig7.add_trace(go.Scatter(x=nu_Op_TIEGCM[lat, lon, min_HP:max_HP], y=heights[lat, lon, min_HP:max_HP], name=\"$ν_{O^+}$\",\n",
    "        mode='lines', line=dict(color='yellow')))\n",
    "\n",
    "    fig7.add_trace(go.Scatter(x=Omega_e_TIEGCM[lat, lon, min_HP:max_HP], y=heights[lat, lon, min_HP:max_HP], name=\"$Ω_{e}$\",\n",
    "        mode='lines', line=dict(color='purple')))\n",
    "    fig7.add_trace(go.Scatter(x=Omega_O2p_TIEGCM[lat, lon, min_HP:max_HP], y=heights[lat, lon, min_HP:max_HP], name=\"$Ω_{O_2^+}$\",\n",
    "        mode='lines', line=dict(color='red')))\n",
    "    fig7.add_trace(go.Scatter(x=Omega_Op_TIEGCM[lat, lon, min_HP:max_HP], y=heights[lat, lon, min_HP:max_HP], name=\"$Ω_{O^+}$\",\n",
    "        mode='lines', line=dict(color='green')))\n",
    "\n",
    "    # updating the layout of the figure. All the parameters concerning graph are put here\n",
    "    fig7.update_layout(xaxis_type=\"log\", xaxis_showexponent='all', xaxis_exponentformat='power',\n",
    "                       yaxis=dict(tickmode='array', tickvals=np.arange(60, 510, 20)),\n",
    "                       xaxis_title=\"Collisions/Gyrofrequencies sec^(-1)\", yaxis_title=\"Altitude (km)\", width=900,\n",
    "                       height=750,\n",
    "                       title={'text': 'Collision frequencies/Gyrofrequencies ' + co_date_time_title[0], 'y': 0.9,\n",
    "                              'x': 0.5, 'xanchor': 'center', 'yanchor': 'top'})\n",
    "    fig7.update_xaxes(showgrid=True, gridwidth=0.5, gridcolor='grey')\n",
    "    fig7.update_yaxes(showgrid=True, gridwidth=0.5, gridcolor='grey')\n",
    "    fig7.update_xaxes(showline=True, linewidth=2, linecolor='black', mirror=True)\n",
    "    fig7.update_yaxes(showline=True, linewidth=2, linecolor='black', mirror=True)\n",
    "\n",
    "    fig7.show()\n",
    "\n",
    "# @@@@@@@@@@@@@@@@@@@@@@@@@@@@@@@@@ collision frequencies/gyrofrequencies Error plotting @@@@@@@@@@@@@@@@@@@@@@@@@@@@@\n",
    "def plotting_Collis_freq_Error(p_level=-500):\n",
    "    lat=global_lat\n",
    "    lon=global_lon\n",
    "    lev=global_pres_lev\n",
    "    if p_level==-500:\n",
    "        # from here starts plotly\n",
    "        fig8 = go.Figure()\n",
    "\n",
    "        # adding the various plots\n",
    "        fig8.add_trace(go.Scatter(x=nu_e_TIEGCM[lat, lon, min_HP:max_HP], y=heights[lat, lon, min_HP:max_HP], name=\"$ν_e$\", mode='lines',\n",
    "            line=dict(color='orange')))\n",
    "        fig8.add_trace(go.Scatter(x=nu_e_TIEGCM_error_min[lat, lon, min_HP:max_HP], y=heights[lat, lon, min_HP:max_HP], name=\"$ν_e min$\",\n",
    "            mode='lines', line=dict(dash=\"dot\", color='orange')))\n",
    "        fig8.add_trace(go.Scatter(x=nu_e_TIEGCM_error_max[lat, lon, min_HP:max_HP], y=heights[lat, lon, min_HP:max_HP], name=\"$ν_e max$\",\n",
    "            mode='lines', line=dict(dash=\"dot\", color='orange')))\n",
    "        fig8.add_trace(go.Scatter(x=nu_O2p_TIEGCM[lat, lon, min_HP:max_HP], y=heights[lat, lon, min_HP:max_HP], name=\"$ν_{O_2^+}$\",\n",
    "            mode='lines', line=dict(color='cyan')))\n",
    "        fig8.add_trace(go.Scatter(x=nu_O2p_TIEGCM_error_min[lat, lon, min_HP:max_HP], y=heights[lat, lon, min_HP:max_HP],\n",
    "            name=\"$ν_{O_2^+} min$\", mode='lines', line=dict(dash=\"dot\", color='cyan')))\n",
    "        fig8.add_trace(go.Scatter(x=nu_O2p_TIEGCM_error_max[lat, lon, min_HP:max_HP], y=heights[lat, lon, min_HP:max_HP],\n",
    "            name=\"$ν_{O_2^+} max$\", mode='lines', line=dict(dash=\"dot\", color='cyan')))\n",
    "        fig8.add_trace(go.Scatter(x=nu_Op_TIEGCM[lat, lon, min_HP:max_HP], y=heights[lat, lon, min_HP:max_HP], name=\"$ν_{O^+}$\",\n",
    "            mode='lines', line=dict(color='yellow')))\n",
    "        fig8.add_trace(go.Scatter(x=nu_Op_TIEGCM_error_min[lat, lon, min_HP:max_HP], y=heights[lat, lon, min_HP:max_HP],\n",
    "            name=\"$ν_{O^+} min$\", mode='lines', line=dict(dash=\"dot\", color='yellow')))\n",
    "        fig8.add_trace(go.Scatter(x=nu_Op_TIEGCM_error_max[lat, lon, min_HP:max_HP], y=heights[lat, lon, min_HP:max_HP],\n",
    "            name=\"$ν_{O^+} max$\", mode='lines', line=dict(dash=\"dot\", color='yellow')))\n",
    "        fig8.add_trace(go.Scatter(x=Omega_e_TIEGCM[lat, lon, min_HP:max_HP], y=heights[lat, lon, min_HP:max_HP], name=\"$Ω_e$\",\n",
    "            mode='lines', line=dict(color='purple')))\n",
    "        fig8.add_trace(go.Scatter(x=(Omega_e_TIEGCM[lat, lon, min_HP:max_HP] - dOmega_e[lat, lon, min_HP:max_HP]), y=heights[lat, lon, :51],\n",
    "            name=\"$Ω_e min$\", mode='lines', line=dict(dash=\"dot\", color='purple')))\n",
    "        fig8.add_trace(go.Scatter(x=(Omega_e_TIEGCM[lat, lon, min_HP:max_HP] + dOmega_e[lat, lon, min_HP:max_HP]), y=heights[lat, lon, :51],\n",
    "            name=\"$Ω_e max$\", mode='lines', line=dict(dash=\"dot\", color='purple')))\n",
    "        fig8.add_trace(go.Scatter(x=Omega_O2p_TIEGCM[lat, lon, min_HP:max_HP], y=heights[lat, lon, min_HP:max_HP], name=\"$Ω_{O_2^+}$\",\n",
    "            mode='lines', line=dict(color='red')))\n",
    "        fig8.add_trace(go.Scatter(x=(Omega_O2p_TIEGCM[lat, lon, min_HP:max_HP] - dOmega_O2p[lat, lon, min_HP:max_HP]),\n",
    "            y=heights[lat, lon, :51], name=\"$Ω_{O_2^+} min$\", mode='lines', line=dict(dash=\"dot\", color='red')))\n",
    "        fig8.add_trace(go.Scatter(x=(Omega_O2p_TIEGCM[lat, lon, min_HP:max_HP] + dOmega_O2p[lat, lon, min_HP:max_HP]),\n",
    "            y=heights[lat, lon, :51], name=\"$Ω_{O_2^+} max$\", mode='lines', line=dict(dash=\"dot\", color='red')))\n",
    "        fig8.add_trace(go.Scatter(x=Omega_Op_TIEGCM[lat, lon, min_HP:max_HP], y=heights[lat, lon, min_HP:max_HP], name=\"$Ω_{O^+}$\",\n",
    "            mode='lines', line=dict(color='green')))\n",
    "        fig8.add_trace(go.Scatter(x=(Omega_Op_TIEGCM[lat, lon, min_HP:max_HP] - dOmega_Op[min_HP:max_HP, lon, :51]),\n",
    "            y=heights[lat, lon, :51], name=\"$Ω_{O^+} min$\", mode='lines', line=dict(dash=\"dot\", color='green')))\n",
    "        fig8.add_trace(go.Scatter(x=(Omega_Op_TIEGCM[lat, lon, min_HP:max_HP] + dOmega_Op[lat, lon, min_HP:max_HP]),\n",
    "            y=heights[lat, lon, :51], name=\"$Ω_{O^+} max$\", mode='lines', line=dict(dash=\"dot\", color='green')))\n",
    "\n",
    "        # updating the layout of the figure. All the parameters concerning graph are put here\n",
    "        fig8.update_layout(xaxis_type=\"log\", xaxis_showexponent='all', xaxis_exponentformat='power',\n",
    "                           yaxis=dict(tickmode='array', tickvals=np.arange(60, 510, 20)),\n",
    "                           xaxis_title=\"Collisions/Gyrofrequencies sec^(-1)\", yaxis_title=\"Altitude (km)\", width=750,\n",
    "                           height=750,\n",
    "                           title={'text': 'Collision frequencies ' + co_date_time_title[0], 'y': 0.9, 'x': 0.5,\n",
    "                                  'xanchor': 'center', 'yanchor': 'top'})\n",
    "        fig8.update_xaxes(showgrid=True, gridwidth=0.5, gridcolor='grey')\n",
    "        fig8.update_yaxes(showgrid=True, gridwidth=0.5, gridcolor='grey')\n",
    "        fig8.update_xaxes(showline=True, linewidth=2, linecolor='black', mirror=True)\n",
    "        fig8.update_yaxes(showline=True, linewidth=2, linecolor='black', mirror=True)\n",
    "\n",
    "        fig8.show()       \n",
    "        fig10 = go.Figure()\n",
    "        # adding the various plots\n",
    "        fig10.add_trace(go.Scatter(x=nu_e_TIEGCM_error[lat, lon, min_HP:max_HP], y=heights[lat, lon, min_HP:max_HP], name=\"$ν_{e} Error$\",\n",
    "            mode='lines', line=dict(color='orange')))\n",
    "        fig10.add_trace(go.Scatter(x=nu_O2p_TIEGCM_error[lat, lon, min_HP:max_HP], y=heights[lat, lon, min_HP:max_HP],\n",
    "            name=\"$ν_{O_2^+} Error$\", mode='lines', line=dict(color='cyan')))\n",
    "        fig10.add_trace(go.Scatter(x=nu_Op_TIEGCM_error[lat, lon, min_HP:max_HP], y=heights[lat, lon, min_HP:max_HP], name=\"$ν_{O^+} Error$\",\n",
    "            mode='lines', line=dict(color='yellow')))\n",
    "        fig10.add_trace(go.Scatter(x=dOmega_e[lat, lon, min_HP:max_HP], y=heights[lat, lon, min_HP:max_HP], name=\"$Ω_{e} Error$\",\n",
    "            mode='lines', line=dict(color='purple')))\n",
    "        fig10.add_trace(go.Scatter(x=dOmega_O2p[lat, lon, min_HP:max_HP], y=heights[lat, lon, min_HP:max_HP], name=\"$Ω_{O_2^+} Error$\",\n",
    "            mode='lines', line=dict(color='red')))\n",
    "        fig10.add_trace(go.Scatter(x=dOmega_Op[lat, lon, min_HP:max_HP], y=heights[lat, lon, min_HP:max_HP], name=\"$Ω_{O^+} Error$\",\n",
    "            mode='lines', line=dict(color='green')))\n",
    "        # updating the layout of the figure. All the parameters concerning graph are put here\n",
    "        fig10.update_layout(xaxis_showexponent='all', xaxis_exponentformat='power',                          \n",
    "                            yaxis=dict(tickmode='array', tickvals=np.arange(60, 510, 20)), xaxis_title=\"sec^(-1)\",\n",
    "                            yaxis_title=\"Altitude (km)\", width=750, height=750,\n",
    "                            title={'text': 'Collision frequency Error' + co_date_time_title[0], 'y': 0.9, 'x': 0.5,\n",
    "                                   'xanchor': 'center', 'yanchor': 'top'})\n",
    "        fig10.update_xaxes(showgrid=True, gridwidth=0.5, gridcolor='grey')\n",
    "        fig10.update_yaxes(showgrid=True, gridwidth=0.5, gridcolor='grey')\n",
    "        fig10.update_xaxes(showline=True, linewidth=2, linecolor='black', mirror=True)\n",
    "        fig10.update_yaxes(showline=True, linewidth=2, linecolor='black', mirror=True)\n",
    "\n",
    "        fig10.show()\n",
    "    else:\n",
    "        plt.rcParams['figure.figsize'] = (12, 12)\n",
    "        fig1 = plt.figure()\n",
    "        ax1 = fig1.add_subplot(1, 1, 1, aspect='equal')\n",
    "\n",
    "        m1 = Basemap(projection='cyl', llcrnrlat=-90, urcrnrlat=90, llcrnrlon=-180, urcrnrlon=180, resolution='c')\n",
    "        m1.drawcoastlines()\n",
    "\n",
    "        sc1 = m1.imshow(nu_e_TIEGCM_error[:, :, p_level], cmap='jet', interpolation='bicubic')\n",
    "\n",
    "        if night_checkbox.value == True:\n",
    "            m1.nightshade(co_time[0], alpha=0.3)\n",
    "\n",
    "        m1.drawparallels(np.arange(-90., 91., 30.))\n",
    "        m1.drawmeridians(np.arange(-180., 181., 60.))\n",
    "\n",
    "        plt.xticks(np.arange(-180., 181., 60.))\n",
    "        plt.yticks(np.arange(-90., 91., 30.))\n",
    "        plt.xlabel('Lon (deg)')\n",
    "        plt.ylabel('Lat (deg)')\n",
    "\n",
    "        plt.title('Electron collision frequency Error (sec^(-1)) ' + co_time_str[0])\n",
    "\n",
    "        divider = make_axes_locatable(ax1)\n",
    "        cax1 = divider.append_axes(\"right\", size=\"5%\", pad=0.2, aspect=20, label='[sec^(-1)]')\n",
    "        cbar1 = plt.colorbar(sc1, cax=cax1)\n",
    "        # ################################################\n",
    "        fig2 = plt.figure()\n",
    "        ax2 = fig2.add_subplot(1, 1, 1, aspect='equal')\n",
    "\n",
    "        m2 = Basemap(projection='cyl', llcrnrlat=-90, urcrnrlat=90, llcrnrlon=-180, urcrnrlon=180, resolution='c')\n",
    "        m2.drawcoastlines()\n",
    "\n",
    "        sc2 = m2.imshow(nu_O2p_TIEGCM_error[:, :, p_level], cmap='jet', interpolation='bicubic')\n",
    "\n",
    "        if night_checkbox.value == True:\n",
    "            m2.nightshade(co_time[0], alpha=0.3)\n",
    "\n",
    "        m2.drawparallels(np.arange(-90., 91., 30.))\n",
    "        m2.drawmeridians(np.arange(-180., 181., 60.))\n",
    "\n",
    "        plt.xticks(np.arange(-180., 181., 60.))\n",
    "        plt.yticks(np.arange(-90., 91., 30.))\n",
    "        plt.xlabel('Lon (deg)')\n",
    "        plt.ylabel('Lat (deg)')\n",
    "\n",
    "        plt.title('O2+ collision frequency Error (sec^(-1)) ' + co_time_str[0])\n",
    "\n",
    "        divider = make_axes_locatable(ax2)\n",
    "        cax2 = divider.append_axes(\"right\", size=\"5%\", pad=0.2, aspect=20, label='[sec^(-1)]')\n",
    "        cbar2 = plt.colorbar(sc2, cax=cax2)\n",
    "        # ########################################\n",
    "        fig3 = plt.figure()\n",
    "        ax3 = fig3.add_subplot(1, 1, 1, aspect='equal')\n",
    "\n",
    "        m3 = Basemap(projection='cyl', llcrnrlat=-90, urcrnrlat=90, llcrnrlon=-180, urcrnrlon=180, resolution='c')\n",
    "        m3.drawcoastlines()\n",
    "\n",
    "        sc3 = m3.imshow(nu_Op_TIEGCM_error[:, :, p_level], cmap='jet', interpolation='bicubic')\n",
    "\n",
    "        if night_checkbox.value == True:\n",
    "            m3.nightshade(co_time[0], alpha=0.3)\n",
    "\n",
    "        m3.drawparallels(np.arange(-90., 91., 30.))\n",
    "        m3.drawmeridians(np.arange(-180., 181., 60.))\n",
    "\n",
    "        plt.xticks(np.arange(-180., 181., 60.))\n",
    "        plt.yticks(np.arange(-90., 91., 30.))\n",
    "        plt.xlabel('Lon (deg)')\n",
    "        plt.ylabel('Lat (deg)')\n",
    "\n",
    "        plt.title('O+ collision frequency Error (sec^(-1)) ' + co_time_str[0])\n",
    "\n",
    "        divider = make_axes_locatable(ax3)\n",
    "        cax3 = divider.append_axes(\"right\", size=\"5%\", pad=0.2, aspect=20, label='[sec^(-1)]')\n",
    "        cbar3 = plt.colorbar(sc3, cax=cax3)\n",
    "        # ###############################################################################\n",
    "        fig4 = plt.figure()\n",
    "        ax4 = fig4.add_subplot(1, 1, 1, aspect='equal')\n",
    "\n",
    "        m4 = Basemap(projection='cyl', llcrnrlat=-90, urcrnrlat=90, llcrnrlon=-180, urcrnrlon=180, resolution='c')\n",
    "        m4.drawcoastlines()\n",
    "\n",
    "        sc4 = m4.imshow(dOmega_e[:, :, p_level], cmap='jet', interpolation='bicubic')\n",
    "\n",
    "        if night_checkbox.value == True:\n",
    "            m4.nightshade(co_time[0], alpha=0.3)\n",
    "\n",
    "        m4.drawparallels(np.arange(-90., 91., 30.))\n",
    "        m4.drawmeridians(np.arange(-180., 181., 60.))\n",
    "\n",
    "        plt.xticks(np.arange(-180., 181., 60.))\n",
    "        plt.yticks(np.arange(-90., 91., 30.))\n",
    "        plt.xlabel('Lon (deg)')\n",
    "        plt.ylabel('Lat (deg)')\n",
    "\n",
    "        plt.title('Electron gyrofrequency Error (sec^(-1)) ' + co_time_str[0])\n",
    "\n",
    "        divider = make_axes_locatable(ax4)\n",
    "        cax4 = divider.append_axes(\"right\", size=\"5%\", pad=0.2, aspect=20, label='[sec^(-1)]')\n",
    "        cbar4 = plt.colorbar(sc4, cax=cax4)\n",
    "        # ####################################################################################\n",
    "        fig5 = plt.figure()\n",
    "        ax5 = fig5.add_subplot(1, 1, 1, aspect='equal')\n",
    "\n",
    "        m5 = Basemap(projection='cyl', llcrnrlat=-90, urcrnrlat=90, llcrnrlon=-180, urcrnrlon=180, resolution='c')\n",
    "        m5.drawcoastlines()\n",
    "\n",
    "        sc5 = m5.imshow(dOmega_O2p[:, :, p_level], cmap='jet', interpolation='bicubic')\n",
    "\n",
    "        if night_checkbox.value == True:\n",
    "            m5.nightshade(co_time[0], alpha=0.3)\n",
    "\n",
    "        m5.drawparallels(np.arange(-90., 91., 30.))\n",
    "        m5.drawmeridians(np.arange(-180., 181., 60.))\n",
    "\n",
    "        plt.xticks(np.arange(-180., 181., 60.))\n",
    "        plt.yticks(np.arange(-90., 91., 30.))\n",
    "        plt.xlabel('Lon (deg)')\n",
    "        plt.ylabel('Lat (deg)')\n",
    "\n",
    "        plt.title('O2+ gyrofrequency Error (sec^(-1)) ' + co_time_str[0])\n",
    "\n",
    "        divider = make_axes_locatable(ax5)\n",
    "        cax5 = divider.append_axes(\"right\", size=\"5%\", pad=0.2, aspect=20, label='[sec^(-1)]')\n",
    "        cbar5 = plt.colorbar(sc5, cax=cax5)\n",
    "        # ###################################################################################\n",
    "        fig6 = plt.figure()\n",
    "        ax6 = fig6.add_subplot(1, 1, 1, aspect='equal')\n",
    "\n",
    "        m6 = Basemap(projection='cyl', llcrnrlat=-90, urcrnrlat=90, llcrnrlon=-180, urcrnrlon=180, resolution='c')\n",
    "        m6.drawcoastlines()\n",
    "\n",
    "        sc6 = m6.imshow(dOmega_Op[:, :, p_level], cmap='jet', interpolation='bicubic')\n",
    "\n",
    "        if night_checkbox.value == True:\n",
    "            m6.nightshade(co_time[0], alpha=0.3)\n",
    "\n",
    "        m6.drawparallels(np.arange(-90., 91., 30.))\n",
    "        m6.drawmeridians(np.arange(-180., 181., 60.))\n",
    "\n",
    "        plt.xticks(np.arange(-180., 181., 60.))\n",
    "        plt.yticks(np.arange(-90., 91., 30.))\n",
    "        plt.xlabel('Lon (deg)')\n",
    "        plt.ylabel('Lat (deg)')\n",
    "\n",
    "        plt.title('O+ gyrofrequency Error (sec^(-1)) ' + co_time_str[0])\n",
    "\n",
    "        divider = make_axes_locatable(ax6)\n",
    "        cax6 = divider.append_axes(\"right\", size=\"5%\", pad=0.2, aspect=20, label='[sec^(-1)]')\n",
    "        cbar6 = plt.colorbar(sc6, cax=cax6)\n",
    "\n",
    "        plt.show()\n",
    "\n",
    "# @@@@@@@@@@@@@@@@@@@@@@@@@@@@@@@@ Cross sections plotting @@@@@@@@@@@@@@@@@@@@@@@@@@@@@@@@@@@@@@@@@@@@@@@@@@@@@@@@@\n",
    "def plotting_C_sections():\n",
    "    lat=global_lat\n",
    "    lon=global_lon\n",
    "    lev=global_pres_lev\n",
    "    # from here starts plotly\n",
    "    fig11 = go.Figure()\n",
    "\n",
    "    # adding the various plots\n",
    "    fig11.add_trace(go.Scatter(x=cross_section[lat, lon, min_HP:max_HP], y=heights[lat, lon, min_HP:max_HP], name=\"Sigma(O+)\",\n",
    "        mode='lines', line=dict(color='red')))\n",
    "\n",
    "    # updating the layout of the figure. All the parameters concerning graph are put here\n",
    "    fig11.update_layout(xaxis_showexponent='all', xaxis_exponentformat='power',\n",
    "                        yaxis=dict(tickmode='array', tickvals=np.arange(60, 510, 20)), xaxis_title=\"cm^2\",\n",
    "                        yaxis_title=\"Altitude (km)\", width=750, height=750,\n",
    "                        title={'text': 'Cross sections(σΟ+)' + co_date_time_title[0], 'y': 0.9, 'x': 0.5,\n",
    "                               'xanchor': 'center', 'yanchor': 'top'})\n",
    "    fig11.update_xaxes(showgrid=True, gridwidth=0.5, gridcolor='grey')\n",
    "    fig11.update_yaxes(showgrid=True, gridwidth=0.5, gridcolor='grey')\n",
    "    fig11.update_xaxes(showline=True, linewidth=2, linecolor='black', mirror=True)\n",
    "    fig11.update_yaxes(showline=True, linewidth=2, linecolor='black', mirror=True)\n",
    "    fig11.show()\n",
    "\n",
    "# @@@@@@@@@@@@@@@@@@@@@@@@@@@@@@@@@@@@@@@ Cross section Error plotting @@@@@@@@@@@@@@@@@@@@@@@@@@@@@@@@@@@@@@@@@@@@@\n",
    "def plotting_Csection_Error(p_level=-500):\n",
    "    lat=global_lat\n",
    "    lon=global_lon\n",
    "    lev=global_pres_lev\n",
    "    if p_level==-500:\n",
    "        fig12 = go.Figure()\n",
    "\n",
    "        # adding the various plots\n",
    "        fig12.add_trace(go.Scatter(x=cross_section_error[lat, lon, min_HP:max_HP], y=heights[lat, lon, min_HP:max_HP], name=\"σO+ error\",\n",
    "            mode='lines', line=dict(color='red')))\n",
    "\n",
    "        # updating the layout of the figure. All the parameters concerning graph are put here\n",
    "        fig12.update_layout(xaxis_showexponent='all', xaxis_exponentformat='power',\n",
    "                            yaxis=dict(tickmode='array', tickvals=np.arange(60, 510, 20)), xaxis_title=\"cm^2\",\n",
    "                            yaxis_title=\"Altitude (km)\", width=750, height=750,\n",
    "                            title={'text': 'Cross Section Absolute Error  ' + co_date_time_title[0], 'y': 0.9, 'x': 0.5,\n",
    "                                   'xanchor': 'center', 'yanchor': 'top'})\n",
    "        fig12.update_xaxes(showgrid=True, gridwidth=0.5, gridcolor='grey')\n",
    "        fig12.update_yaxes(showgrid=True, gridwidth=0.5, gridcolor='grey')\n",
    "        fig12.update_xaxes(showline=True, linewidth=2, linecolor='black', mirror=True)\n",
    "        fig12.update_yaxes(showline=True, linewidth=2, linecolor='black', mirror=True)\n",
    "        fig12.show()\n",
    "\n",
    "        # from here starts plotly\n",
    "        fig13 = go.Figure()\n",
    "        # adding the various plots\n",
    "        fig13.add_trace(go.Scatter(x=cross_section[lat, lon, min_HP:max_HP], y=heights[lat, lon, min_HP:max_HP], name=\"σO+\", mode='lines',\n",
    "            line=dict(color='red')))\n",
    "        fig13.add_trace(go.Scatter(x=cross_section_error_max[lat, lon, min_HP:max_HP], y=heights[lat, lon, min_HP:max_HP],\n",
    "            name=\"σO+ max With Error\", mode='lines', line=dict(dash=\"dot\", color='purple')))\n",
    "        fig13.add_trace(go.Scatter(x=cross_section_error_min[lat, lon, min_HP:max_HP], y=heights[lat, lon, min_HP:max_HP],\n",
    "            name=\"σO+ min With Error\", mode='lines', line=dict(dash=\"dot\", color='orange')))\n",
    "\n",
    "        # updating the layout of the figure. All the parameters concerning graph are put here\n",
    "        fig13.update_layout(xaxis_type=\"log\", xaxis_showexponent='all', xaxis_exponentformat='power',\n",
    "                            yaxis=dict(tickmode='array', tickvals=np.arange(60, 510, 20)), xaxis_title=\"cm^2\",\n",
    "                            yaxis_title=\"Altitude (km)\", width=900, height=850,\n",
    "                            title={'text': 'Cross section with error ' + co_date_time_title[0], 'y': 0.9, 'x': 0.5,\n",
    "                                   'xanchor': 'center', 'yanchor': 'top'})\n",
    "        fig13.update_xaxes(showgrid=True, gridwidth=0.5, gridcolor='grey')\n",
    "        fig13.update_yaxes(showgrid=True, gridwidth=0.5, gridcolor='grey')\n",
    "        fig13.update_xaxes(showline=True, linewidth=2, linecolor='black', mirror=True)\n",
    "        fig13.update_yaxes(showline=True, linewidth=2, linecolor='black', mirror=True)\n",
    "        fig13.show()\n",
    "    else:\n",
    "        fig1 = plt.figure()\n",
    "        ax1 = fig1.add_subplot(1, 1, 1, aspect='equal')\n",
    "\n",
    "        m1 = Basemap(projection='cyl', llcrnrlat=-90, urcrnrlat=90, llcrnrlon=-180, urcrnrlon=180, resolution='c')\n",
    "        m1.drawcoastlines()\n",
    "\n",
    "        sc1 = m1.imshow(cross_section_error[:, :, p_level], cmap='jet', interpolation='bicubic')\n",
    "\n",
    "        if night_checkbox.value == True:\n",
    "            m1.nightshade(co_time[0], alpha=0.3)\n",
    "\n",
    "        m1.drawparallels(np.arange(-90., 91., 30.))\n",
    "        m1.drawmeridians(np.arange(-180., 181., 60.))\n",
    "\n",
    "        plt.xticks(np.arange(-180., 181., 60.))\n",
    "        plt.yticks(np.arange(-90., 91., 30.))\n",
    "        plt.xlabel('Lon (deg)')\n",
    "        plt.ylabel('Lat (deg)')\n",
    "\n",
    "        plt.title('Cross section Error (cm^2) ' + co_time_str[0])\n",
    "\n",
    "        divider = make_axes_locatable(ax1)\n",
    "        cax1 = divider.append_axes(\"right\", size=\"5%\", pad=0.2, aspect=20, label='[cm^2]')\n",
    "        cbar1 = plt.colorbar(sc1, cax=cax1)\n",
    "\n",
    "        plt.show()\n",
    "\n",
    "# @@@@@@@@@@@@@@@@@@@@@@@@@@@@@@@@@@@@@@@@@ Perpendicular currents plotting @@@@@@@@@@@@@@@@@@@@@@@@@@@@@@@@@@@@@@@@@@\n",
    "def Currents_plot():\n",
    "    # from here starts plotly\n",
    "    lat=global_lat\n",
    "    lon=global_lon\n",
    "    lev=global_pres_lev\n",
    "    fig14 = go.Figure()\n",
    "\n",
    "    # adding the various plots\n",
    "    fig14.add_trace(go.Scatter(x=Pedersen_current[lat, lon, min_HP:max_HP], y=heights[lat, lon, min_HP:max_HP], name=\"Pedersen Current\",\n",
    "        mode='lines', line=dict(color='red')))\n",
    "    fig14.add_trace(go.Scatter(x=Hall_current[lat, lon, min_HP:max_HP], y=heights[lat, lon, min_HP:max_HP], name=\"Hall Current\",\n",
    "        mode='lines', line=dict(color='blue')))\n",
    "    fig14.add_trace(go.Scatter(x=Total_current[lat, lon, min_HP:max_HP], y=heights[lat, lon, min_HP:max_HP], name=\"Total Current\",\n",
    "        mode='lines', line=dict(color='black')))\n",
    "\n",
    "    fig14.update_layout(xaxis_type=\"log\", xaxis_showexponent='all', xaxis_exponentformat='power',\n",
    "                       yaxis=dict(tickmode='array', tickvals=np.arange(60, 510, 20)), xaxis_title=\"Current A/m^2\",\n",
    "                       yaxis_title=\"Altitude (km)\", width=750, height=750,\n",
    "                       title={'text': 'Currents ' + co_date_time_title[0], 'y': 0.9, 'x': 0.5,\n",
    "                              'xanchor': 'center', 'yanchor': 'top'})\n",
    "    fig14.update_xaxes(showgrid=True, gridwidth=0.5, gridcolor='grey')\n",
    "    fig14.update_yaxes(showgrid=True, gridwidth=0.5, gridcolor='grey')\n",
    "    fig14.update_xaxes(showline=True, linewidth=2, linecolor='black', mirror=True)\n",
    "    fig14.update_yaxes(showline=True, linewidth=2, linecolor='black', mirror=True)\n",
    "\n",
    "    fig14.show()\n",
    "\n",
    "# @@@@@@@@@@@@@@@@@@@@@@@@@@@@@@@@@@ Perpenducular currents Error plotting @@@@@@@@@@@@@@@@@@@@@@@@@@@@@@@@@@@@@@@@@@\n",
    "def plotting_Currents_error(p_level=-500):\n",
    "    lat=global_lat\n",
    "    lon=global_lon\n",
    "    lev=global_pres_lev\n",
    "    if p_level == -500:\n",
    "        fig15 = go.Figure()\n",
    "        # adding the various plots\n",
    "        fig15.add_trace(go.Scatter(x=Pedersen_current_error[lat, lon, min_HP:max_HP], y=heights[lat, lon, min_HP:max_HP],\n",
    "            name=\"Pedersen current Error\", mode='lines', line=dict(color='red')))\n",
    "        fig15.add_trace(go.Scatter(x=Hall_current_error[lat, lon, min_HP:max_HP], y=heights[lat, lon, min_HP:max_HP],\n",
    "            name=\"Hall current Error\", mode='lines', line=dict(color='green')))\n",
    "        fig15.add_trace(go.Scatter(x=Total_current_error[lat, lon, min_HP:max_HP], y=heights[lat, lon, min_HP:max_HP],\n",
    "            name=\"Total current Error\", mode='lines', line=dict(color='blue')))\n",
    "\n",
    "        # updating the layout of the figure. All the parameters concerning graph are put here\n",
    "        fig15.update_layout(xaxis_showexponent='all', xaxis_exponentformat='power',\n",
    "                           yaxis=dict(tickmode='array', tickvals=np.arange(60, 510, 20)), xaxis_title=\"A/m^2\",\n",
    "                           yaxis_title=\"Altitude (km)\", width=750, height=750,\n",
    "                           title={'text': 'Currents Absolute Error  ' + co_date_time_title[0], 'y': 0.9, 'x': 0.5,\n",
    "                                  'xanchor': 'center', 'yanchor': 'top'})\n",
    "        fig15.update_xaxes(showgrid=True, gridwidth=0.5, gridcolor='grey')\n",
    "        fig15.update_yaxes(showgrid=True, gridwidth=0.5, gridcolor='grey')\n",
    "        fig15.update_xaxes(showline=True, linewidth=2, linecolor='black', mirror=True)\n",
    "        fig15.update_yaxes(showline=True, linewidth=2, linecolor='black', mirror=True)\n",
    "        fig15.show()\n",
    "\n",
    "        # from here starts plotly\n",
    "        fig16 = go.Figure()\n",
    "        # adding the various plots\n",
    "        fig16.add_trace(go.Scatter(x=Pedersen_current[lat, lon, min_HP:max_HP], y=heights[lat, lon, min_HP:max_HP], name=\"Pedersen current\",\n",
    "            mode='lines', line=dict(color='red')))\n",
    "        fig16.add_trace(go.Scatter(x=Pedersen_current_error_max[lat, lon, min_HP:max_HP], y=heights[lat, lon, min_HP:max_HP],\n",
    "            name=\"Pedersen current max With Error\", mode='lines', line=dict(dash=\"dot\", color='black')))\n",
    "        fig16.add_trace(go.Scatter(x=Pedersen_current_error_min[lat, lon, min_HP:max_HP], y=heights[lat, lon, min_HP:max_HP],\n",
    "            name=\"Pedersen current min With Error\", mode='lines', line=dict(dash=\"dot\", color='green')))\n",
    "\n",
    "        fig16.add_trace(go.Scatter(x=Hall_current[lat, lon, min_HP:max_HP1], y=heights[lat, lon, min_HP:max_HP], name=\"Hall current\",\n",
    "            mode='lines', line=dict(color='green'), visible=\"legendonly\"))\n",
    "        fig16.add_trace(go.Scatter(x=Hall_current_error_max[lat, lon, min_HP:max_HP], y=heights[lat, lon, min_HP:max_HP],\n",
    "            name=\"Hall current max With Error\", mode='lines', line=dict(dash=\"dot\", color='purple'), visible=\"legendonly\"))\n",
    "        fig16.add_trace(go.Scatter(x=Hall_current_error_min[lat, lon, min_HP:max_HP], y=heights[lat, lon, min_HP:max_HP],\n",
    "            name=\"Hall current min With Error\", mode='lines', line=dict(dash=\"dot\", color='red'), visible=\"legendonly\"))\n",
    "\n",
    "        fig16.add_trace(go.Scatter(x=Total_current[lat, lon, min_HP:max_HP], y=heights[lat, lon, min_HP:max_HP], name=\"Total current\",\n",
    "            mode='lines', line=dict(color='blue'), visible=\"legendonly\"))\n",
    "        fig16.add_trace(go.Scatter(x=Total_current_error_max[lat, lon, min_HP:max_HP], y=heights[lat, lon, min_HP:max_HP],\n",
    "            name=\"Total current max With Error\", mode='lines', line=dict(dash=\"dot\", color='red'), visible=\"legendonly\"))\n",
    "        fig16.add_trace(go.Scatter(x=Total_current_error_min[lat, lon, min_HP:max_HP], y=heights[lat, lon, min_HP:max_HP],\n",
    "            name=\"Total current min With Error\", mode='lines', line=dict(dash=\"dot\", color='brown'), visible=\"legendonly\"))\n",
    "\n",
    "        # updating the layout of the figure. All the parameters concerning graph are put here\n",
    "        fig16.update_layout(xaxis_type=\"log\", xaxis_showexponent='all', xaxis_exponentformat='power',\n",
    "                           yaxis=dict(tickmode='array', tickvals=np.arange(60, 510, 20)), xaxis_title=\"A/m^2\",\n",
    "                           yaxis_title=\"Altitude (km)\", width=900, height=850,\n",
    "                           title={'text': 'Currents ' + co_date_time_title[0], 'y': 0.9, 'x': 0.5, 'xanchor': 'center',\n",
    "                                  'yanchor': 'top'})\n",
    "        fig16.update_xaxes(showgrid=True, gridwidth=0.5, gridcolor='grey')\n",
    "        fig16.update_yaxes(showgrid=True, gridwidth=0.5, gridcolor='grey')\n",
    "        fig16.update_xaxes(showline=True, linewidth=2, linecolor='black', mirror=True)\n",
    "        fig16.update_yaxes(showline=True, linewidth=2, linecolor='black', mirror=True)\n",
    "        fig16.show()\n",
    "    else:\n",
    "        plt.rcParams['figure.figsize'] = (12, 12)\n",
    "        fig1 = plt.figure()\n",
    "        ax1 = fig1.add_subplot(1, 1, 1, aspect='equal')\n",
    "\n",
    "        m1 = Basemap(projection='cyl', llcrnrlat=-90, urcrnrlat=90, llcrnrlon=-180, urcrnrlon=180, resolution='c')\n",
    "        m1.drawcoastlines()\n",
    "\n",
    "        sc1 = m1.imshow(Pedersen_current_error[:, :, p_level], cmap='jet', interpolation='bicubic')\n",
    "\n",
    "        if night_checkbox.value == True:\n",
    "            m1.nightshade(co_time[0], alpha=0.3)\n",
    "\n",
    "        m1.drawparallels(np.arange(-90., 91., 30.))\n",
    "        m1.drawmeridians(np.arange(-180., 181., 60.))\n",
    "\n",
    "        plt.xticks(np.arange(-180., 181., 60.))\n",
    "        plt.yticks(np.arange(-90., 91., 30.))\n",
    "        plt.xlabel('Lon (deg)')\n",
    "        plt.ylabel('Lat (deg)')\n",
    "\n",
    "        plt.title('Pedersen current Error (A/m^2) ' + co_time_str[0])\n",
    "\n",
    "        divider = make_axes_locatable(ax1)\n",
    "        cax1 = divider.append_axes(\"right\", size=\"5%\", pad=0.2, aspect=20, label='[A/m^2]')\n",
    "        cbar1 = plt.colorbar(sc1, cax=cax1)\n",
    "        # ################################################\n",
    "        fig2 = plt.figure()\n",
    "        ax2 = fig2.add_subplot(1, 1, 1, aspect='equal')\n",
    "\n",
    "        m2 = Basemap(projection='cyl', llcrnrlat=-90, urcrnrlat=90, llcrnrlon=-180, urcrnrlon=180, resolution='c')\n",
    "        m2.drawcoastlines()\n",
    "\n",
    "        sc2 = m2.imshow(Hall_current_error[:, :, p_level], cmap='jet', interpolation='bicubic')\n",
    "\n",
    "        if night_checkbox.value == True:\n",
    "            m2.nightshade(co_time[0], alpha=0.3)\n",
    "\n",
    "        m2.drawparallels(np.arange(-90., 91., 30.))\n",
    "        m2.drawmeridians(np.arange(-180., 181., 60.))\n",
    "\n",
    "        plt.xticks(np.arange(-180., 181., 60.))\n",
    "        plt.yticks(np.arange(-90., 91., 30.))\n",
    "        plt.xlabel('Lon (deg)')\n",
    "        plt.ylabel('Lat (deg)')\n",
    "\n",
    "        plt.title('Hall current Error (A/m^2) ' + co_time_str[0])\n",
    "\n",
    "        divider = make_axes_locatable(ax2)\n",
    "        cax2 = divider.append_axes(\"right\", size=\"5%\", pad=0.2, aspect=20, label='[A/m^2]')\n",
    "        cbar2 = plt.colorbar(sc2, cax=cax2)\n",
    "        # ########################################\n",
    "        fig3 = plt.figure()\n",
    "        ax3 = fig3.add_subplot(1, 1, 1, aspect='equal')\n",
    "\n",
    "        m3 = Basemap(projection='cyl', llcrnrlat=-90, urcrnrlat=90, llcrnrlon=-180, urcrnrlon=180, resolution='c')\n",
    "        m3.drawcoastlines()\n",
    "\n",
    "        sc3 = m3.imshow(Total_current_error[:, :, p_level], cmap='jet', interpolation='bicubic')\n",
    "\n",
    "        if night_checkbox.value == True:\n",
    "            m3.nightshade(co_time[0], alpha=0.3)\n",
    "\n",
    "        m3.drawparallels(np.arange(-90., 91., 30.))\n",
    "        m3.drawmeridians(np.arange(-180., 181., 60.))\n",
    "\n",
    "        plt.xticks(np.arange(-180., 181., 60.))\n",
    "        plt.yticks(np.arange(-90., 91., 30.))\n",
    "        plt.xlabel('Lon (deg)')\n",
    "        plt.ylabel('Lat (deg)')\n",
    "\n",
    "        plt.title('Total current Error (A/m^2) ' + co_time_str[0])\n",
    "\n",
    "        divider = make_axes_locatable(ax3)\n",
    "        cax3 = divider.append_axes(\"right\", size=\"5%\", pad=0.2, aspect=20, label='[A/m^2]')\n",
    "        cbar3 = plt.colorbar(sc3, cax=cax3)\n",
    "\n",
    "        plt.show()\n",
    "\n",
    "def Daedalus_products_calc(lat_value=-500, lon_value=-500, pressure_level=-500):\n",
    "    # distinguish Vertical from Map run\n",
    "    for_lat=0\n",
    "    for_lon=0\n",
    "    for_lev=0\n",
    "    if pressure_level == -500:  # Vertical Profile\n",
    "        glev_steps = len(glev) - 1\n",
    "        for_lat = global_lat #lat pointer according to TIEGCM file\n",
    "        for_lon = global_lon #lon pointer according to TIEGCM file\n",
    "    else:\n",
    "        glev_steps = 1\n",
    "\n",
    "    if lat_value == -500 and lon_value == -500:  # Map Profile\n",
    "        lat_steps = len(glat)-1\n",
    "        lon_steps = len(glon)-1\n",
    "        for_lev = global_lev\n",
    "    else:\n",
    "        lat_steps = 1\n",
    "        lon_steps = 1\n",
    "\n",
    "    for lev in range(for_lev,for_lev+ glev_steps):\n",
    "        for lat in range(for_lat,for_lat+ lat_steps):\n",
    "            for lon in range(for_lon,for_lon+ lon_steps):\n",
    "                # ############################# COLLISION FREQUENCIES ######################################\n",
    "                Ri = (Ti_TIEGCM[lat, lon, lev] + Tn_TIEGCM[lat, lon, lev]) / 2\n",
    "                # nu_O2p=nu_O2p_O2+nu_O2p_O+nu_O2p_N2\n",
    "                # O2+-O2 collision frequency\n",
    "                nu_O2p_O2_TIEGCM[lat, lon, lev] = 2.59 * (10 ** (-11)) * O2_TIEGCM[lat, lon, lev] * np.sqrt(Ri) * \\\n",
    "                                                  ((1 - 0.073 * np.log10(Ri)) ** 2)\n",
    "                # O2+-O collision frequency\n",
    "                nu_O2p_O_TIEGCM[lat, lon, lev] = 2.31 * (10 ** (-10)) * O_TIEGCM[lat, lon, lev]\n",
    "                # O2+-N2 collision frequency\n",
    "                nu_O2p_N2_TIEGCM[lat, lon, lev] = 4.13 * (10 ** (-10)) * N2_TIEGCM[lat, lon, lev]\n",
    "                # O2+ collision frequency\n",
    "                nu_O2p_TIEGCM[lat, lon, lev] = nu_O2p_O2_TIEGCM[lat, lon, lev] + nu_O2p_O_TIEGCM[lat, lon, lev] + \\\n",
    "                                               nu_O2p_N2_TIEGCM[lat, lon, lev]\n",
    "\n",
    "                # nu_Op=nu_Op_O+nu_Op_O2+nu_Op_N\n",
    "                # O+-O2 collision frequency\n",
    "                nu_Op_O_TIEGCM[lat, lon, lev] = 3.67 * (10 ** (-11)) * O_TIEGCM[lat, lon, lev] * np.sqrt(Ri) * \\\n",
    "                                                ((1 - 0.064 * np.log10(Ri)) ** 2) * fb\n",
    "                # O+-O collision frequency\n",
    "                nu_Op_O2_TIEGCM[lat, lon, lev] = 6.64 * (10 ** (-10)) * O2_TIEGCM[lat, lon, lev]\n",
    "                # O+-N2 collision frequency\n",
    "                nu_Op_N2_TIEGCM[lat, lon, lev] = 6.82 * (10 ** (-10)) * N2_TIEGCM[lat, lon, lev]\n",
    "                # O+ collision frequency\n",
    "                nu_Op_TIEGCM[lat, lon, lev] = nu_Op_O_TIEGCM[lat, lon, lev] + nu_Op_O2_TIEGCM[lat, lon, lev] + \\\n",
    "                                              nu_Op_N2_TIEGCM[lat, lon, lev]\n",
    "\n",
    "                # Not enough inputs from TIEGCM\n",
    "                # nu_NOp=nu_NOp_O2+nu_NOp_O+nu_NOp_N2\n",
    "                # nu_NOp_O2_TIEGCM.append(4.27 * 10 ** (-10) * O2_TIEGCM[i])\n",
    "                # nu_NOp_O_TIEGCM.append(2.4 * 10 ** (-10) * O_TIEGCM[i])\n",
    "                # nu_NOp_N2_TIEGCM.append(6.82 * 10 ** (-10) * N2_TIEGCM[i])\n",
    "                # nu_NOp_TIEGCM.append(nu_NOp_O2_TIEGCM[i] + nu_NOp_O_TIEGCM[i] + nu_NOp_N2_TIEGCM[i])\n",
    "\n",
    "                # nu_e\n",
    "                nu_e_TIEGCM[lat, lon, lev] = 2.33 * (10 ** (-11)) * N2_TIEGCM[lat, lon, lev] * \\\n",
    "                                             Te_TIEGCM[lat, lon, lev] * \\\n",
    "                                             (1 - 1.21 * 10 ** (-4) * Te_TIEGCM[lat, lon, lev]) + \\\n",
    "                                             1.82 * (10 ** (-10)) * O2_TIEGCM[lat, lon, lev] * \\\n",
    "                                             np.sqrt(Te_TIEGCM[lat, lon, lev]) * \\\n",
    "                                             (1 + (3.6 * 10 ** (-2) * np.sqrt(Te_TIEGCM[lat, lon, lev]))) + \\\n",
    "                                             8.9 * (10 ** (-11)) * O_TIEGCM[lat, lon, lev] * \\\n",
    "                                             np.sqrt(Te_TIEGCM[lat, lon, lev]) * \\\n",
    "                                             (1 + (5.7 * ((10 ** (-4)) * Te_TIEGCM[lat, lon, lev])))\n",
    "\n",
    "                # ######################### GyroFrequencies eq 4 ###########################################\n",
    "                Omega_e_TIEGCM[lat, lon, lev] = q_e * B_IGRF[lat, lon, lev] / m_e\n",
    "                Omega_Op_TIEGCM[lat, lon, lev] = q_e * B_IGRF[lat, lon, lev] / m_Oplus\n",
    "                Omega_O2p_TIEGCM[lat, lon, lev] = q_e * B_IGRF[lat, lon, lev] / m_O2plus\n",
    "                Omega_NOp_TIEGCM[lat, lon, lev] = q_e * B_IGRF[lat, lon, lev] / m_NOplus\n",
    "\n",
    "                # ############################### Ratios ######################################################\n",
    "                ratio_e_TIEGCM[lat, lon, lev] = nu_e_TIEGCM[lat, lon, lev] / Omega_e_TIEGCM[lat, lon, lev]\n",
    "                ratio_Op_TIEGCM[lat, lon, lev] = nu_Op_TIEGCM[lat, lon, lev] / Omega_Op_TIEGCM[lat, lon, lev]\n",
    "                ratio_O2p_TIEGCM[lat, lon, lev] = nu_O2p_TIEGCM[lat, lon, lev] / Omega_O2p_TIEGCM[lat, lon, lev]\n",
    "                # ratio_NOP_TIEGCM[lat, lon, lev]=nu_NOp_TIEGCM[lat, lon, lev] / Omega_NOp_TIEGCM[lat, lon, lev]\n",
    "\n",
    "                # $$$$$$$$$$$$$$$$$$$$$$$$$ Conductivities $$$$$$$$$$$$$$$$$$$$$$$$$$$$$$$$$$$$$$$$$$$$$$$$$$$$\n",
    "                # Pedersen Conductivity eq 1.1\n",
    "                alpha = (Op_TIEGCM[lat, lon, lev] * CubicCm2CubicM) * (ratio_Op_TIEGCM[lat, lon, lev] /\n",
    "                                                                       (1 + ratio_Op_TIEGCM[lat, lon, lev] ** 2))\n",
    "                beta = (Ne_TIEGCM[lat, lon, lev] * CubicCm2CubicM) * (ratio_e_TIEGCM[lat, lon, lev] /\n",
    "                                                                      (1 + ratio_e_TIEGCM[lat, lon, lev] ** 2))\n",
    "                gamma = (O2p_TIEGCM[lat, lon, lev] * CubicCm2CubicM) * (ratio_O2p_TIEGCM[lat, lon, lev] /\n",
    "                                                                        (1 + ratio_O2p_TIEGCM[lat, lon, lev] ** 2))\n",
    "                # #############################################################\n",
    "                Pedersen_TIEGCM[lat, lon, lev] = (q_e / (B_IGRF[lat, lon, lev])) * (alpha + beta + gamma)\n",
    "\n",
    "\n",
    "                # Hall Conductivity eq 1.2\n",
    "                alpha1 = (Op_TIEGCM[lat, lon, lev] * CubicCm2CubicM) * (1 / (1 + ratio_Op_TIEGCM[lat, lon, lev] ** 2))\n",
    "                beta1 = (Ne_TIEGCM[lat, lon, lev] * CubicCm2CubicM) * (1 / (1 + ratio_e_TIEGCM[lat, lon, lev] ** 2))\n",
    "                gamma1 = (O2p_TIEGCM[lat, lon, lev] * CubicCm2CubicM) * (1 / (1 + ratio_O2p_TIEGCM[lat, lon, lev] ** 2))\n",
    "                # ############################################################\n",
    "                Hall_TIEGCM[lat, lon, lev] = (q_e / B_IGRF[lat, lon, lev]) * (beta1 - alpha1 - gamma1)\n",
    "\n",
    "                # Parallel Conductivity eq 1.3\n",
    "                Parallel_TIEGCM[lat, lon, lev] = ((Ne_TIEGCM[lat, lon, lev] * CubicCm2CubicM) * q_e * q_e) / \\\n",
    "                                                 (m_e * nu_e_TIEGCM[lat, lon, lev])\n",
    "\n",
    "                # ################################ Magnetic Field Vector ###########################################\n",
    "                B_vector_IGRF = [Bx_IGRF[lat, lon, lev], By_IGRF[lat, lon, lev], Bz_IGRF[lat, lon, lev]]\n",
    "\n",
    "                # Magnetic field unit vector\n",
    "                bnorm[lat, lon, lev] = np.sqrt(Bx_IGRF[lat, lon, lev] ** 2 + By_IGRF[lat, lon, lev] ** 2 +\n",
    "                                               Bz_IGRF[lat, lon, lev] ** 2)\n",
    "\n",
    "                b_unit = [Bx_IGRF[lat, lon, lev] / bnorm[lat, lon, lev], By_IGRF[lat, lon, lev] / bnorm[lat, lon, lev],\n",
    "                          Bz_IGRF[lat, lon, lev] / bnorm[lat, lon, lev]]\n",
    "\n",
    "                # ############################# Neutral Winds ################################################\n",
    "                # neutral wind in ECEF in m/s\n",
    "                Un_vector_TIEGCM = [Un_x_TIEGCM[lat, lon, lev], Un_y_TIEGCM[lat, lon, lev],\n",
    "                                    Un_z_TIEGCM[lat, lon, lev]]\n",
    "\n",
    "                # neutral wind perpendicular to the magnetic field\n",
    "                Unvert = np.cross(Un_vector_TIEGCM, b_unit)\n",
    "                Unvertx = Unvert[0]\n",
    "                Unverty = Unvert[1]\n",
    "                Unvertz = Unvert[2]\n",
    "                Unvertmag = np.sqrt(Unvert[0] * Unvert[0] + Unvert[1] * Unvert[1] + Unvert[2] * Unvert[2])\n",
    "\n",
    "                # ############### Ion Wind ##################################\n",
    "                # ExB in ECEF in m/s\n",
    "                Ui_vector_TIEGCM = [Ui_x_TIEGCM[lat, lon, lev], Ui_y_TIEGCM[lat, lon, lev], Ui_z_TIEGCM[lat, lon, lev]]\n",
    "\n",
    "                # ############################### Electric Field ##################################\n",
    "                # Electric Field perpendicular to the magnetic field\n",
    "                Evert = -np.cross(Ui_vector_TIEGCM, B_vector_IGRF)\n",
    "                Evertx[lat, lon, lev] = Evert[0]\n",
    "                Everty[lat, lon, lev] = Evert[1]\n",
    "                Evertz[lat, lon, lev] = Evert[2]\n",
    "\n",
    "                # Perpendicular electric field in neutral atmosphere reference frame\n",
    "                Estar = Evert + np.cross(Unvert, B_vector_IGRF)  # V/m\n",
    "                Estarx[lat, lon, lev] = Estar[0]\n",
    "                Estary[lat, lon, lev] = Estar[1]\n",
    "                Estarz[lat, lon, lev] = Estar[2]\n",
    "\n",
    "                # Ion Velocity in neutral reference frame (formula derived through ion momentum equation)\n",
    "                Vi_star = (nu_Op_TIEGCM[lat, lon, lev] * Omega_Op_TIEGCM[lat, lon, lev] * Estar +\n",
    "                           Omega_Op_TIEGCM[lat, lon, lev] ** 2 * (np.cross(Estar, b_unit))) / \\\n",
    "                          (bnorm[lat, lon, lev] * (nu_Op_TIEGCM[lat, lon, lev] ** 2 +\n",
    "                                                   Omega_Op_TIEGCM[lat, lon, lev] ** 2))\n",
    "\n",
    "                Vi_starMag = np.sqrt(Vi_star[0] * Vi_star[0] + Vi_star[1] * Vi_star[1] + Vi_star[2] * Vi_star[2])\n",
    "\n",
    "                # %%%%%%%%%%%%%%%%%%%%%%%%%%%% Heating Rates %%%%%%%%%%%%%%%%%%%%%%%%%%%%%%%%%%%%%%%%%%%%%%%%%%%%%\n",
    "                # ################# Ohmic heating #####################\n",
    "                # mW/m^3\n",
    "                A = Evert + np.cross(Unvert, B_vector_IGRF)\n",
    "                Anorm = np.sqrt(A[0] * A[0] + A[1] * A[1] + A[2] * A[2])\n",
    "                Ohmic_Heating[lat, lon, lev] = (Pedersen_TIEGCM[lat, lon, lev] * Anorm * Anorm) * 1000\n",
    "\n",
    "                # ################ Joule heating #######################\n",
    "                # mW/m^3\n",
    "                Joule_Heating[lat, lon, lev] = (q_e * (Ne_TIEGCM[lat, lon, lev] * CubicCm2CubicM) *\n",
    "                                                np.dot(Vi_star, A)) * 1000\n",
    "\n",
    "                # ############### Frictional heating #########################################\n",
    "                # mW/m^3\n",
    "                Frictional_Heating[lat, lon, lev] = (MO * (Ne_TIEGCM[lat, lon, lev] * CubicCm2CubicM) *\n",
    "                                                     nu_Op_TIEGCM[lat, lon, lev] * Vi_starMag * Vi_starMag) * 1000\n",
    "\n",
    "                # ############################# Cross sections #############################################\n",
    "                N_neutral[lat, lon, lev] = (N2_TIEGCM[lat, lon, lev] + O_TIEGCM[lat, lon, lev] +\n",
    "                                            O2_TIEGCM[lat, lon, lev])  # in cm^-3\n",
    "\n",
    "                M_ion = m_Oplus * 10 ** 3  # in grams\n",
    "\n",
    "                cross_section[lat, lon, lev] = (nu_Op_TIEGCM[lat, lon, lev] / N_neutral[lat, lon, lev]) / \\\n",
    "                                               (np.sqrt((2 * boltzmann * Ti_TIEGCM[lat, lon, lev]) / M_ion))   # in cm^2\n",
    "\n",
    "                # ############################### Currents calculation ####################################\n",
    "                Jpedersen = Pedersen_TIEGCM[lat, lon, lev] * Estar\n",
    "                Pedersen_current[lat, lon, lev] = np.sqrt(Jpedersen[0] ** 2 + Jpedersen[1] ** 2 + Jpedersen[2] ** 2)\n",
    "\n",
    "                Jhall = Hall_TIEGCM[lat, lon, lev] * np.cross(b_unit, Estar)\n",
    "                Hall_current[lat, lon, lev] = np.sqrt(Jhall[0] ** 2 + Jhall[1] ** 2 + Jhall[2] ** 2)\n",
    "\n",
    "                Total_current[lat, lon, lev] = sy.sqrt((Jpedersen[0] + Jhall[0]) ** 2 + (Jpedersen[1] + Jhall[1]) ** 2 +\n",
    "                                  (Jpedersen[2] + Jhall[2]) ** 2).evalf()\n",
    "\n",
    "# ***************************** CONDUCTIVITIES ERROR CALCULATION **************************************************\n",
    "def error_Cond_calculation(B_error=1.0, Ne_error=1.0, Op_error=1.0, O2p_error=1.0, O_error=1.0, O2_error=1.0,\n",
    "                           N2_error=1.0, Te_error=1.0, Tn_error=1.0, Ti_error=1.0,lat_value=-500, lon_value=-500,\n",
    "                           pressure_level=-500):\n",
    "\n",
    "    # errors are in percentage/B is absolute\n",
    "    # distinguish Vertical from Map run\n",
    "    for_lat=0\n",
    "    for_lon=0\n",
    "    for_lev=0\n",
    "    if pressure_level == -500:  # Vertical Profile\n",
    "        glev_steps = len(glev) - 1\n",
    "        for_lat = global_lat #lat pointer according to TIEGCM file\n",
    "        for_lon = global_lon #lon pointer according to TIEGCM file\n",
    "    else:\n",
    "        glev_steps = 1\n",
    "\n",
    "    if lat_value == -500 and lon_value == -500:  # Map Profile\n",
    "        lat_steps = len(glat)-1\n",
    "        lon_steps = len(glon)-1\n",
    "        for_lev = global_lev\n",
    "    else:\n",
    "        lat_steps = 1\n",
    "        lon_steps = 1\n",
    "\n",
    "    for lev in range(for_lev,for_lev+ glev_steps):\n",
    "        for lat in range(for_lat,for_lat+ lat_steps):\n",
    "            for lon in range(for_lon,for_lon+ lon_steps):\n",
    "                if Error_Source.value == False:  # Errors from Boxes\n",
    "                    Bx_error_act = B_error\n",
    "                    By_error_act = B_error\n",
    "                    Bz_error_act = B_error\n",
    "                  # B_error_act = B_error\n",
    "\n",
    "                    Ne_error_act = (Ne_error / 100) * Ne_TIEGCM[lat, lon, lev]\n",
    "                    Op_error_act = (Op_error / 100) * Op_TIEGCM[lat, lon, lev]\n",
    "                    O2p_error_act = (O2p_error / 100) * O2p_TIEGCM[lat, lon, lev]\n",
    "\n",
    "                    # O2p_error_act = sy.sqrt( Ne_error_act ** 2 + Op_error_act ** 2)\n",
    "                    # due to the way of calculation of O2p density, if it is given as first order product then use\n",
    "                    # previous line\n",
    "\n",
    "                    O_error_act = (O_error / 100) * O_TIEGCM[lat, lon, lev]\n",
    "                    O2_error_act = (O2_error / 100) * O2_TIEGCM[lat, lon, lev]\n",
    "                    N2_error_act = (N2_error / 100) * N2_TIEGCM[lat, lon, lev]\n",
    "                    Te_error_act = (Te_error / 100) * Te_TIEGCM[lat, lon, lev]\n",
    "                    Tn_error_act = (Tn_error / 100) * Tn_TIEGCM[lat, lon, lev]\n",
    "                    Ti_error_act = (Ti_error / 100) * Ti_TIEGCM[lat, lon, lev]\n",
    "                else:  # Errors from Daedalus Science study\n",
    "                    Bx_error_act = 5 * 10 ** (-9)\n",
    "                    By_error_act = 5 * 10 ** (-9)\n",
    "                    Bz_error_act = 5 * 10 ** (-9)\n",
    "                  # B_error_act = 5 * 10 ** (-9)\n",
    "\n",
    "                    Ne_error_act = 0.05 * Ne_TIEGCM[lat, lon, lev]\n",
    "                    if Ne_error_act >= 10 ** 2:\n",
    "                        Ne_error_act = 10 ** 2\n",
    "\n",
    "                    Op_error_act = 0.05 * Op_TIEGCM[lat, lon, lev]\n",
    "                    if Op_error_act >= 10 ** 2:\n",
    "                        Op_error_act = 10 ** 2\n",
    "\n",
    "                    O2p_error_act = 0.05 * O2p_TIEGCM[lat, lon, lev]\n",
    "                    if O2p_error_act >= 10 ** 2:\n",
    "                        O2p_error_act = 10 ** 2\n",
    "\n",
    "                    O_error_act = 0.01 * O_TIEGCM[lat, lon, lev]\n",
    "                    O2_error_act = 0.01 * O2_TIEGCM[lat, lon, lev]\n",
    "                    N2_error_act = N2_error / 100 * N2_TIEGCM[lat, lon, lev]\n",
    "\n",
    "                    Te_error_act = 0.1 * Te_TIEGCM[lat, lon, lev]\n",
    "                    if Te_error_act >= 10:\n",
    "                        Te_error_act = 10\n",
    "\n",
    "                    Tn_error_act = 0.2 * Tn_TIEGCM[lat, lon, lev]\n",
    "\n",
    "                    Ti_error_act = (Ti_error / 100) * Ti_TIEGCM[lat, lon, lev]\n",
    "                    if Ti_error_act >= 10:\n",
    "                        Ti_error_act = 10\n",
    "\n",
    "                # ######################### Pedersen Error Calculation ###############################\n",
    "                # dbnorm^2\n",
    "                dbnorm_squared = ((Bx_IGRF[lat, lon, lev] ** 2) / (Bx_IGRF[lat, lon, lev] ** 2 +\n",
    "                                                                   By_IGRF[lat, lon, lev] ** 2 +\n",
    "                                                                   Bz_IGRF[lat, lon, lev] ** 2)) * (Bx_error_act) ** 2 + \\\n",
    "                                 ((By_IGRF[lat, lon, lev] ** 2) / (Bx_IGRF[lat, lon, lev] ** 2 +\n",
    "                                                                   By_IGRF[lat, lon, lev] ** 2 +\n",
    "                                                                   Bz_IGRF[lat, lon, lev] ** 2)) * (By_error_act) ** 2 + \\\n",
    "                                 ((Bz_IGRF[lat, lon, lev] ** 2) / (Bx_IGRF[lat, lon, lev] ** 2 +\n",
    "                                                                   By_IGRF[lat, lon, lev] ** 2 +\n",
    "                                                                   Bz_IGRF[lat, lon, lev] ** 2)) * (Bz_error_act) ** 2\n",
    "                # *****************************************************************\n",
    "                eq2_1_46 = (q_e / m_O2plus) ** 2\n",
    "                eq2_1_45 = eq2_1_46 * dbnorm_squared\n",
    "                dOmega_O2p[lat, lon, lev] = sy.sqrt(eq2_1_45).evalf()\n",
    "                eq2_1_44 = (-nu_O2p_TIEGCM[lat, lon, lev] / (Omega_O2p_TIEGCM[lat, lon, lev] ** 2)) ** 2\n",
    "                eq2_1_43 = (4.13 * 10 ** (-10)) ** 2\n",
    "                eq2_1_42 = eq2_1_43 * N2_error_act ** 2\n",
    "                eq2_1_40 = (6.475 * 10 ** (-12) * O2_TIEGCM[lat, lon, lev] *\n",
    "                            (-0.073 * sy.log(Ti_TIEGCM[lat, lon, lev] / 2 + Tn_TIEGCM[lat, lon, lev] / 2) /\n",
    "                             sy.log(10) + 1) ** 2 / sy.sqrt(Ti_TIEGCM[lat, lon, lev] / 2 +\n",
    "                                                            Tn_TIEGCM[lat, lon, lev] / 2) -\n",
    "                            1.8907 * 10 ** (-12) * O2_TIEGCM[lat, lon, lev] *\n",
    "                            (-0.073 * sy.log(Ti_TIEGCM[lat, lon, lev] / 2 + Tn_TIEGCM[lat, lon, lev] / 2) /\n",
    "                             sy.log(10) + 1) / (sy.sqrt(Ti_TIEGCM[lat, lon, lev] / 2 +\n",
    "                                                        Tn_TIEGCM[lat, lon, lev] / 2) * sy.log(10))) ** 2\n",
    "                eq2_1_39 = (2.59 * 10 ** (-11) * sy.sqrt(Ti_TIEGCM[lat, lon, lev] / 2 + Tn_TIEGCM[lat, lon, lev] / 2) *\n",
    "                            (-0.073 * sy.log(Ti_TIEGCM[lat, lon, lev] / 2 + Tn_TIEGCM[lat, lon, lev] / 2) /\n",
    "                             sy.log(10) + 1) ** 2) ** 2\n",
    "                eq2_1_41 = eq2_1_40\n",
    "                eq2_1_38 = eq2_1_39 * O2_error_act ** 2 + eq2_1_40 * Ti_error_act ** 2 + eq2_1_41 * Tn_error_act ** 2\n",
    "                eq2_1_37 = (2.31 * 10 ** (-10)) ** 2\n",
    "                eq2_1_36 = eq2_1_37 * O_error_act ** 2\n",
    "                eq2_1_35 = eq2_1_36 + eq2_1_38 + eq2_1_42\n",
    "\n",
    "                # ########## nu_O2p error ##############\n",
    "                nu_O2p_TIEGCM_error[lat, lon, lev] = sy.sqrt(eq2_1_35).evalf()\n",
    "                # nu_O2p with error (min)\n",
    "                nu_O2p_TIEGCM_error_min[lat, lon, lev] = nu_O2p_TIEGCM[lat, lon, lev] - sy.sqrt(eq2_1_35).evalf()\n",
    "                # nu_O2p with error (max)\n",
    "                nu_O2p_TIEGCM_error_max[lat, lon, lev] = nu_O2p_TIEGCM[lat, lon, lev] + sy.sqrt(eq2_1_35).evalf()\n",
    "\n",
    "                eq2_1_34 = (1 / (Omega_O2p_TIEGCM[lat, lon, lev])) ** 2\n",
    "                eq2_1_33 = eq2_1_34 * eq2_1_35 + eq2_1_44 * eq2_1_45\n",
    "                # *********************************************\n",
    "                eq2_1_32 = (q_e / m_Oplus) ** 2\n",
    "                eq2_1_31 = eq2_1_32 * dbnorm_squared\n",
    "                dOmega_Op[lat, lon, lev] = sy.sqrt(eq2_1_31).evalf()\n",
    "                eq2_1_30 = (-nu_Op_TIEGCM[lat, lon, lev] / (Omega_Op_TIEGCM[lat, lon, lev] ** 2)) ** 2\n",
    "                eq2_1_29 = (6.82 * 10 ** (-10)) ** 2\n",
    "                eq2_1_28 = eq2_1_29 * N2_error_act ** 2\n",
    "                eq2_1_27 = (6.64 * 10 ** (-10)) ** 2\n",
    "                eq2_1_26 = eq2_1_27 * O2_error_act ** 2\n",
    "                eq2_1_24 = (9.175 * 10 ** (-12) * O_TIEGCM[lat, lon, lev] * fb *\n",
    "                            (-0.064 * sy.log(Ti_TIEGCM[lat, lon, lev] / 2 + Tn_TIEGCM[lat, lon, lev] / 2) /\n",
    "                             sy.log(10) + 1) ** 2 / sy.sqrt(Ti_TIEGCM[lat, lon, lev] / 2 +\n",
    "                                                            Tn_TIEGCM[lat, lon, lev] / 2) -\n",
    "                            2.3488 * 10 ** (-12) * O_TIEGCM[lat, lon, lev] * fb *\n",
    "                            (-0.064 * sy.log(Ti_TIEGCM[lat, lon, lev] / 2 + Tn_TIEGCM[lat, lon, lev] / 2) /\n",
    "                             sy.log(10) + 1) / (sy.sqrt(Ti_TIEGCM[lat, lon, lev] / 2 +\n",
    "                                                        Tn_TIEGCM[lat, lon, lev] / 2) * sy.log(10))) ** 2\n",
    "                eq2_1_25 = eq2_1_24\n",
    "                eq2_1_23 = (3.67 * 10 ** (-11) * fb * sy.sqrt(Ti_TIEGCM[lat, lon, lev] / 2 +\n",
    "                                                              Tn_TIEGCM[lat, lon, lev] / 2) *\n",
    "                            (-0.064 * sy.log(Ti_TIEGCM[lat, lon, lev] / 2 + Tn_TIEGCM[lat, lon, lev] / 2) /\n",
    "                             sy.log(10) + 1) ** 2) ** 2\n",
    "                eq2_1_22 = eq2_1_23 * O_error_act ** 2 + eq2_1_24 * Ti_error_act ** 2 + eq2_1_25 * Tn_error_act ** 2\n",
    "                eq2_1_21 = eq2_1_22 + eq2_1_26 + eq2_1_28\n",
    "\n",
    "                # ############## nu_Op error #############################\n",
    "                nu_Op_TIEGCM_error[lat, lon, lev] = sy.sqrt(eq2_1_21).evalf()\n",
    "                # nu_Op with error (min)\n",
    "                nu_Op_TIEGCM_error_min[lat, lon, lev] = nu_Op_TIEGCM[lat, lon, lev] - sy.sqrt(eq2_1_21)\n",
    "                # nu_Op with error (max)\n",
    "                nu_Op_TIEGCM_error_max[lat, lon, lev] = nu_Op_TIEGCM[lat, lon, lev] + sy.sqrt(eq2_1_21)\n",
    "\n",
    "                eq2_1_20 = (1 / (Omega_Op_TIEGCM[lat, lon, lev])) ** 2\n",
    "                eq2_1_19 = eq2_1_20 * eq2_1_21 + eq2_1_30 * eq2_1_31\n",
    "                # *********************************************\n",
    "                eq2_1_18 = (q_e / m_e) ** 2\n",
    "                eq2_1_17 = eq2_1_18 * dbnorm_squared\n",
    "                dOmega_e[lat, lon, lev] = sy.sqrt(eq2_1_17).evalf()\n",
    "                eq2_1_16 = (-nu_e_TIEGCM[lat, lon, lev] / (Omega_e_TIEGCM[lat, lon, lev]) ** 2) ** 2\n",
    "                eq2_1_15 = (2.33 * N2_TIEGCM[lat, lon, lev] * 10 ** (-11) -\n",
    "                            5.6386 * N2_TIEGCM[lat, lon, lev] * Te_TIEGCM[lat, lon, lev] * 10 ** (-15) +\n",
    "                            (0.91 * O2_TIEGCM[lat, lon, lev] * 10 ** (-10)) / sy.sqrt(Te_TIEGCM[lat, lon, lev]) +\n",
    "                            6.552 * O2_TIEGCM[lat, lon, lev] * 10 ** (-12) +\n",
    "                            (4.45 * O_TIEGCM[lat, lon, lev] * 10 ** (-11)) / sy.sqrt(Te_TIEGCM[lat, lon, lev]) +\n",
    "                            76.095 * O_TIEGCM[lat, lon, lev] * sy.sqrt(Te_TIEGCM[lat, lon, lev]) * 10 ** (-15)) ** 2\n",
    "\n",
    "                eq2_1_14 = (8.9 * 10 ** (-11) * sy.sqrt(Te_TIEGCM[lat, lon, lev]) * (\n",
    "                        0.00057 * Te_TIEGCM[lat, lon, lev] + 1)) ** 2\n",
    "                eq2_1_13 = (1.82 * 10 ** (-10) * sy.sqrt(Te_TIEGCM[lat, lon, lev]) *\n",
    "                            (0.036 * sy.sqrt(Te_TIEGCM[lat, lon, lev]) + 1)) ** 2\n",
    "                eq2_1_12 = (2.33 * 10 ** (-11) * Te_TIEGCM[lat, lon, lev] * (\n",
    "                            1 - 0.000121 * Te_TIEGCM[lat, lon, lev])) ** 2\n",
    "                eq2_1_11 = eq2_1_12 * N2_error_act ** 2 + eq2_1_13 * O2_error_act ** 2 + eq2_1_14 * O_error_act ** 2 + \\\n",
    "                           eq2_1_15 * Te_error_act ** 2\n",
    "\n",
    "                # ######################## nu_e error #############################\n",
    "                nu_e_TIEGCM_error[lat, lon, lev] = sy.sqrt(eq2_1_11).evalf()\n",
    "                # nu_e with error (min)\n",
    "                nu_e_TIEGCM_error_min[lat, lon, lev] = nu_e_TIEGCM[lat, lon, lev] - sy.sqrt(eq2_1_11)\n",
    "                # nu_e with error (max)\n",
    "                nu_e_TIEGCM_error_max[lat, lon, lev] = nu_e_TIEGCM[lat, lon, lev] + sy.sqrt(eq2_1_11)\n",
    "\n",
    "                eq2_1_10 = (1 / Omega_e_TIEGCM[lat, lon, lev]) ** 2\n",
    "                eq2_1_9 = eq2_1_10 * eq2_1_11 + eq2_1_16 * eq2_1_17\n",
    "                # *********************************************\n",
    "                eq2_1_8 = ((q_e * (O2p_TIEGCM[lat, lon, lev] * CubicCm2CubicM) / bnorm[lat, lon, lev]) *\n",
    "                           ((1 - ratio_O2p_TIEGCM[lat, lon, lev] ** 2) /\n",
    "                            (1 + ratio_O2p_TIEGCM[lat, lon, lev] ** 2) ** 2)) ** 2\n",
    "                # *********************************************\n",
    "                eq2_1_7 = ((q_e * (Op_TIEGCM[lat, lon, lev] * CubicCm2CubicM / bnorm[lat, lon, lev])) *\n",
    "                           ((1 - ratio_Op_TIEGCM[lat, lon, lev] ** 2) /\n",
    "                            (1 + ratio_Op_TIEGCM[lat, lon, lev] ** 2) ** 2)) ** 2\n",
    "                # *********************************************\n",
    "                eq2_1_6 = ((q_e * (Ne_TIEGCM[lat, lon, lev] * CubicCm2CubicM) / bnorm[lat, lon, lev]) *\n",
    "                           ((1 - ratio_e_TIEGCM[lat, lon, lev] ** 2) /\n",
    "                            (1 + ratio_e_TIEGCM[lat, lon, lev] ** 2) ** 2)) ** 2\n",
    "                # *********************************************\n",
    "                eq2_1_5 = (q_e * ratio_O2p_TIEGCM[lat, lon, lev] / (bnorm[lat, lon, lev] *\n",
    "                                                                    (ratio_O2p_TIEGCM[lat, lon, lev] ** 2 + 1))) ** 2\n",
    "                # *********************************************\n",
    "                eq2_1_4 = (q_e * ratio_Op_TIEGCM[lat, lon, lev] / (bnorm[lat, lon, lev] *\n",
    "                                                                   (ratio_Op_TIEGCM[lat, lon, lev] ** 2 + 1))) ** 2\n",
    "                # *********************************************\n",
    "                eq2_1_3 = (q_e * ratio_e_TIEGCM[lat, lon, lev] / (bnorm[lat, lon, lev] *\n",
    "                                                                  (ratio_e_TIEGCM[lat, lon, lev] ** 2 + 1))) ** 2\n",
    "                # *********************************************\n",
    "                eq2_1_2 = (-q_e * ((Ne_TIEGCM[lat, lon, lev] * CubicCm2CubicM) * ratio_e_TIEGCM[lat, lon, lev] /\n",
    "                                   (ratio_e_TIEGCM[lat, lon, lev] ** 2 + 1) +\n",
    "                                   (O2p_TIEGCM[lat, lon, lev] * CubicCm2CubicM) * ratio_O2p_TIEGCM[lat, lon, lev] /\n",
    "                                   (ratio_O2p_TIEGCM[lat, lon, lev] ** 2 + 1) +\n",
    "                                   (Op_TIEGCM[lat, lon, lev] * CubicCm2CubicM) * ratio_Op_TIEGCM[lat, lon, lev] /\n",
    "                                   (ratio_Op_TIEGCM[lat, lon, lev] ** 2 + 1)) / bnorm[lat, lon, lev] ** 2) ** 2\n",
    "                # *********************************************\n",
    "                eq2_1_1 = eq2_1_2 * dbnorm_squared + eq2_1_3 * (Ne_error_act * CubicCm2CubicM) ** 2 + eq2_1_4 * \\\n",
    "                          (Op_error_act * CubicCm2CubicM) ** 2 + eq2_1_5 * (O2p_error_act * CubicCm2CubicM) ** 2 + \\\n",
    "                          eq2_1_6 * eq2_1_9 + eq2_1_7 * eq2_1_19 + eq2_1_8 * eq2_1_33\n",
    "\n",
    "                # ####################### Pedersen error ###########################\n",
    "                Peder_error[lat, lon, lev] = sy.sqrt(eq2_1_1).evalf()\n",
    "\n",
    "                Pedersen_TIEGCM_error_max[lat, lon, lev] = Peder_error[lat, lon, lev] + Pedersen_TIEGCM[lat, lon, lev]\n",
    "                Pedersen_TIEGCM_error_min[lat, lon, lev] = Pedersen_TIEGCM[lat, lon, lev] - Peder_error[lat, lon, lev]\n",
    "\n",
    "                # ############################ Hall Error Calculation ###########################################\n",
    "                eq2_2_2 = q_e ** 2 * ((Ne_TIEGCM[lat, lon, lev] * CubicCm2CubicM) /\n",
    "                                      (ratio_e_TIEGCM[lat, lon, lev] ** 2 + 1) -\n",
    "                                      (O2p_TIEGCM[lat, lon, lev] * CubicCm2CubicM) /\n",
    "                                      (ratio_O2p_TIEGCM[lat, lon, lev] ** 2 + 1) -\n",
    "                                      (Op_TIEGCM[lat, lon, lev] * CubicCm2CubicM) /\n",
    "                                      (ratio_Op_TIEGCM[lat, lon, lev] ** 2 + 1)) ** 2 / bnorm[lat, lon, lev] ** 4\n",
    "                # *********************************************\n",
    "                eq2_2_3 = q_e ** 2 / (bnorm[lat, lon, lev] ** 2 * (ratio_e_TIEGCM[lat, lon, lev] ** 2 + 1) ** 2)\n",
    "                # *********************************************\n",
    "                eq2_2_4 = q_e ** 2 / (bnorm[lat, lon, lev] ** 2 * (ratio_Op_TIEGCM[lat, lon, lev] ** 2 + 1) ** 2)\n",
    "                # *********************************************\n",
    "                eq2_2_5 = q_e ** 2 / (bnorm[lat, lon, lev] ** 2 * (ratio_O2p_TIEGCM[lat, lon, lev] ** 2 + 1) ** 2)\n",
    "                # *********************************************\n",
    "                eq2_2_6 = 4 * (Ne_TIEGCM[lat, lon, lev] * CubicCm2CubicM) ** 2 * q_e ** 2 * \\\n",
    "                          ratio_e_TIEGCM[lat, lon, lev] ** 2 / (bnorm[lat, lon, lev] ** 2 *\n",
    "                                                                (ratio_e_TIEGCM[lat, lon, lev] ** 2 + 1) ** 4)\n",
    "                # *********************************************\n",
    "                eq2_2_7 = 4 * (Op_TIEGCM[lat, lon, lev] * CubicCm2CubicM) ** 2 * q_e ** 2 * \\\n",
    "                          ratio_Op_TIEGCM[lat, lon, lev] ** 2 / (bnorm[lat, lon, lev] ** 2 *\n",
    "                                                                 (ratio_Op_TIEGCM[lat, lon, lev] ** 2 + 1) ** 4)\n",
    "                # *********************************************\n",
    "                eq2_2_8 = 4 * (O2p_TIEGCM[lat, lon, lev] * CubicCm2CubicM) ** 2 * q_e ** 2 * \\\n",
    "                          ratio_O2p_TIEGCM[lat, lon, lev] ** 2 / (bnorm[lat, lon, lev] ** 2 *\n",
    "                                                                  (ratio_O2p_TIEGCM[lat, lon, lev] ** 2 + 1) ** 4)\n",
    "                # *********************************************\n",
    "                eq2_2_1 = eq2_2_2 * dbnorm_squared + eq2_2_3 * (Ne_error_act * CubicCm2CubicM) ** 2 + eq2_2_4 * \\\n",
    "                          (Op_error_act * CubicCm2CubicM) ** 2 + eq2_2_5 * (O2p_error_act * CubicCm2CubicM) ** 2 + \\\n",
    "                          eq2_2_6 * eq2_1_9 + eq2_2_7 * eq2_1_19 + eq2_2_8 * eq2_1_33\n",
    "\n",
    "                # ############# Hall error #################\n",
    "                Hall_error[lat, lon, lev] = sy.sqrt(eq2_2_1).evalf()\n",
    "\n",
    "                Hall_TIEGCM_error_max[lat, lon, lev] = Hall_error[lat, lon, lev] + Hall_TIEGCM[lat, lon, lev]\n",
    "                Hall_TIEGCM_error_min[lat, lon, lev] = Hall_TIEGCM[lat, lon, lev] - Hall_error[lat, lon, lev]\n",
    "\n",
    "                # ######################## Parallel Error Calculation ##################################\n",
    "                eq2_3_2 = ((q_e ** 2) / (nu_e_TIEGCM[lat, lon, lev] * m_e)) ** 2\n",
    "                # ****************\n",
    "                eq2_3_3 = ((Ne_TIEGCM[lat, lon, lev] * CubicCm2CubicM * q_e ** 2) /\n",
    "                           (nu_e_TIEGCM[lat, lon, lev] ** 2 * m_e)) ** 2\n",
    "                # ****************\n",
    "                eq2_3_1 = eq2_3_2 * (Ne_error_act * CubicCm2CubicM) ** 2 + eq2_3_3 * eq2_1_11\n",
    "\n",
    "                # ##################### Parallel error ###############################\n",
    "                Parallel_error[lat, lon, lev] = sy.sqrt(eq2_3_1).evalf()\n",
    "\n",
    "                Parallel_TIEGCM_error_max[lat, lon, lev] = Parallel_error[lat, lon, lev] + Parallel_TIEGCM[lat, lon, lev]\n",
    "                Parallel_TIEGCM_error_min[lat, lon, lev] = Parallel_TIEGCM[lat, lon, lev] - Parallel_error[lat, lon, lev]\n",
    "\n",
    "\n",
    "# ******************* HEATING ERROR CALCULATIONS ************************************************\n",
    "def error_Heating_calculation(E_error=1.0, Un_error=1.0, B_error=1.0, Ne_error=1.0, lat_value=-500, lon_value=-500,\n",
    "                              pressure_level=-500):\n",
    "\n",
    "    # errors are in percentage/B error is absolute\n",
    "    # distinguish Vertical from Map run\n",
    "    for_lat=0\n",
    "    for_lon=0\n",
    "    for_lev=0\n",
    "    if pressure_level == -500:  # Vertical Profile\n",
    "        glev_steps = len(glev) - 1\n",
    "        for_lat = global_lat #lat pointer according to TIEGCM file\n",
    "        for_lon = global_lon #lon pointer according to TIEGCM file\n",
    "    else:\n",
    "        glev_steps = 1\n",
    "\n",
    "    if lat_value == -500 and lon_value == -500:  # Map Profile\n",
    "        lat_steps = len(glat)-1\n",
    "        lon_steps = len(glon)-1\n",
    "        for_lev = global_lev\n",
    "    else:\n",
    "        lat_steps = 1\n",
    "        lon_steps = 1\n",
    "\n",
    "    for lev in range(for_lev,for_lev+ glev_steps):\n",
    "        for lat in range(for_lat,for_lat+ lat_steps):\n",
    "            for lon in range(for_lon,for_lon+ lon_steps):\n",
    "                if Error_Source.value == False:  # Errors from Boxes\n",
    "                    Bx_error_act = B_error\n",
    "                    By_error_act = B_error\n",
    "                    Bz_error_act = B_error\n",
    "                  # B_error_act = B_error\n",
    "                    Ex_error_act = 0\n",
    "                    Ey_error_act = 0\n",
    "                    Ez_error_act = E_error\n",
    "                  # E_error_act = E_error\n",
    "                    Ne_error_act = (Ne_error / 100) * Ne_TIEGCM[lat, lon, lev]\n",
    "\n",
    "                    Unx_error_act = (Un_error / 100) * Un_x_TIEGCM[lat, lon, lev]\n",
    "                    Uny_error_act = (Un_error / 100) * Un_y_TIEGCM[lat, lon, lev]\n",
    "                    Unz_error_act = (Un_error / 100) * Un_z_TIEGCM[lat, lon, lev]\n",
    "                else:  # Errors from Daedalus Science study\n",
    "                    Bx_error_act = 5 * 10 ** (-9)\n",
    "                    By_error_act = 5 * 10 ** (-9)\n",
    "                    Bz_error_act = 5 * 10 ** (-9)\n",
    "                  # B_error_act = 5 * 10 ** (-9)\n",
    "                    Ex_error_act = 0\n",
    "                    Ey_error_act = 0\n",
    "                    Ez_error_act = 2 * 10 ** (-3)\n",
    "                  # E_error_act = 2 * 10 ** (-3)\n",
    "                    Ne_error_act = 0.05 * Ne_TIEGCM[lat, lon, lev]\n",
    "                    if Ne_error_act >= 10 ** 2:\n",
    "                        Ne_error_act = 10 ** 2\n",
    "                    Unx_error_act = 25 * sy.exp(-2 * sy.log(O_TIEGCM[lat, lon, lev] + O2_TIEGCM[lat, lon, lev] +\n",
    "                                                            N2_TIEGCM[lat, lon, lev], 10) - 12.5).evalf()\n",
    "                    if Unx_error_act >= 3.5:\n",
    "                        Unx_error_act = 3.5\n",
    "                    Uny_error_act = 25 * sy.exp(-2 * sy.log(O_TIEGCM[lat, lon, lev] + O2_TIEGCM[lat, lon, lev] +\n",
    "                                                            N2_TIEGCM[lat, lon, lev], 10) - 12.5).evalf()\n",
    "                    if Uny_error_act >= 3.5:\n",
    "                        Uny_error_act = 3.5\n",
    "                    Unz_error_act = 50 * sy.exp(-1.5 * sy.log(O_TIEGCM[lat, lon, lev] + O2_TIEGCM[lat, lon, lev] +\n",
    "                                                              N2_TIEGCM[lat, lon, lev], 10) - 12.5).evalf()\n",
    "                    if Unz_error_act >= 12.:\n",
    "                        Unz_error_act = 12.\n",
    "\n",
    "                Peder_error_act = Peder_error[lat, lon, lev]\n",
    "\n",
    "                # *******************************************************************************\n",
    "                # dbnorm^2\n",
    "                dbnorm_squared = ((Bx_IGRF[lat, lon, lev] ** 2) / (Bx_IGRF[lat, lon, lev] ** 2 +\n",
    "                                                                   By_IGRF[lat, lon, lev] ** 2 +\n",
    "                                                                   Bz_IGRF[lat, lon, lev] ** 2)) * (Bx_error_act) ** 2 + \\\n",
    "                                 ((By_IGRF[lat, lon, lev] ** 2) / (Bx_IGRF[lat, lon, lev] ** 2 +\n",
    "                                                                   By_IGRF[lat, lon, lev] ** 2 +\n",
    "                                                                   Bz_IGRF[lat, lon, lev] ** 2)) * (By_error_act) ** 2 + \\\n",
    "                                 ((Bz_IGRF[lat, lon, lev] ** 2) / (Bx_IGRF[lat, lon, lev] ** 2 +\n",
    "                                                                   By_IGRF[lat, lon, lev] ** 2 +\n",
    "                                                                   Bz_IGRF[lat, lon, lev] ** 2)) * (Bz_error_act) ** 2\n",
    "\n",
    "                # ######################### Ohmic Heating Error Propagation ###########################################\n",
    "                # dsigmaPedersen\n",
    "                eqOH2 = (1000*(Bx_IGRF[lat, lon, lev]*(-Bx_IGRF[lat, lon, lev]*Un_y_TIEGCM[lat, lon, lev]/bnorm[lat, lon, lev] + By_IGRF[lat, lon, lev]*Un_x_TIEGCM[lat, lon, lev]/bnorm[lat, lon, lev]) - Bz_IGRF[lat, lon, lev]*(-By_IGRF[lat, lon, lev]*Un_z_TIEGCM[lat, lon, lev]/bnorm[lat, lon, lev] + Bz_IGRF[lat, lon, lev]*Un_y_TIEGCM[lat, lon, lev]/bnorm[lat, lon, lev]) + Everty[lat, lon, lev])**2 + 1000*(-Bx_IGRF[lat, lon, lev]*(Bx_IGRF[lat, lon, lev]*Un_z_TIEGCM[lat, lon, lev]/bnorm[lat, lon, lev] - Bz_IGRF[lat, lon, lev]*Un_x_TIEGCM[lat, lon, lev]/bnorm[lat, lon, lev]) + By_IGRF[lat, lon, lev]*(-By_IGRF[lat, lon, lev]*Un_z_TIEGCM[lat, lon, lev]/bnorm[lat, lon, lev] + Bz_IGRF[lat, lon, lev]*Un_y_TIEGCM[lat, lon, lev]/bnorm[lat, lon, lev]) + Evertz[lat, lon, lev])**2 + 1000*(-By_IGRF[lat, lon, lev]*(-Bx_IGRF[lat, lon, lev]*Un_y_TIEGCM[lat, lon, lev]/bnorm[lat, lon, lev] + By_IGRF[lat, lon, lev]*Un_x_TIEGCM[lat, lon, lev]/bnorm[lat, lon, lev]) + Bz_IGRF[lat, lon, lev]*(Bx_IGRF[lat, lon, lev]*Un_z_TIEGCM[lat, lon, lev]/bnorm[lat, lon, lev] - Bz_IGRF[lat, lon, lev]*Un_x_TIEGCM[lat, lon, lev]/bnorm[lat, lon, lev]) + Evertx[lat, lon, lev])**2) ** 2\n",
    "                # **************************************************************************\n",
    "                # dUnx\n",
    "                eqOH3 = (1000*Pedersen_TIEGCM[lat, lon, lev]*(2*Bx_IGRF[lat, lon, lev]*By_IGRF[lat, lon, lev]*(Bx_IGRF[lat, lon, lev]*(-Bx_IGRF[lat, lon, lev]*Un_y_TIEGCM[lat, lon, lev]/bnorm[lat, lon, lev] + By_IGRF[lat, lon, lev]*Un_x_TIEGCM[lat, lon, lev]/bnorm[lat, lon, lev]) - Bz_IGRF[lat, lon, lev]*(-By_IGRF[lat, lon, lev]*Un_z_TIEGCM[lat, lon, lev]/bnorm[lat, lon, lev] + Bz_IGRF[lat, lon, lev]*Un_y_TIEGCM[lat, lon, lev]/bnorm[lat, lon, lev]) + Everty[lat, lon, lev])/bnorm[lat, lon, lev] + 2*Bx_IGRF[lat, lon, lev]*Bz_IGRF[lat, lon, lev]*(-Bx_IGRF[lat, lon, lev]*(Bx_IGRF[lat, lon, lev]*Un_z_TIEGCM[lat, lon, lev]/bnorm[lat, lon, lev] - Bz_IGRF[lat, lon, lev]*Un_x_TIEGCM[lat, lon, lev]/bnorm[lat, lon, lev]) + By_IGRF[lat, lon, lev]*(-By_IGRF[lat, lon, lev]*Un_z_TIEGCM[lat, lon, lev]/bnorm[lat, lon, lev] + Bz_IGRF[lat, lon, lev]*Un_y_TIEGCM[lat, lon, lev]/bnorm[lat, lon, lev]) + Evertz[lat, lon, lev])/bnorm[lat, lon, lev] + (-2*By_IGRF[lat, lon, lev]**2/bnorm[lat, lon, lev] - 2*Bz_IGRF[lat, lon, lev]**2/bnorm[lat, lon, lev])*(-By_IGRF[lat, lon, lev]*(-Bx_IGRF[lat, lon, lev]*Un_y_TIEGCM[lat, lon, lev]/bnorm[lat, lon, lev] + By_IGRF[lat, lon, lev]*Un_x_TIEGCM[lat, lon, lev]/bnorm[lat, lon, lev]) + Bz_IGRF[lat, lon, lev]*(Bx_IGRF[lat, lon, lev]*Un_z_TIEGCM[lat, lon, lev]/bnorm[lat, lon, lev] - Bz_IGRF[lat, lon, lev]*Un_x_TIEGCM[lat, lon, lev]/bnorm[lat, lon, lev]) + Evertx[lat, lon, lev]))) ** 2\n",
    "                # **************************************************************************\n",
    "                # dUny\n",
    "                eqOH4 = (1000*Pedersen_TIEGCM[lat, lon, lev]*(2*Bx_IGRF[lat, lon, lev]*By_IGRF[lat, lon, lev]*(-By_IGRF[lat, lon, lev]*(-Bx_IGRF[lat, lon, lev]*Un_y_TIEGCM[lat, lon, lev]/bnorm[lat, lon, lev] + By_IGRF[lat, lon, lev]*Un_x_TIEGCM[lat, lon, lev]/bnorm[lat, lon, lev]) + Bz_IGRF[lat, lon, lev]*(Bx_IGRF[lat, lon, lev]*Un_z_TIEGCM[lat, lon, lev]/bnorm[lat, lon, lev] - Bz_IGRF[lat, lon, lev]*Un_x_TIEGCM[lat, lon, lev]/bnorm[lat, lon, lev]) + Evertx[lat, lon, lev])/bnorm[lat, lon, lev] + 2*By_IGRF[lat, lon, lev]*Bz_IGRF[lat, lon, lev]*(-Bx_IGRF[lat, lon, lev]*(Bx_IGRF[lat, lon, lev]*Un_z_TIEGCM[lat, lon, lev]/bnorm[lat, lon, lev] - Bz_IGRF[lat, lon, lev]*Un_x_TIEGCM[lat, lon, lev]/bnorm[lat, lon, lev]) + By_IGRF[lat, lon, lev]*(-By_IGRF[lat, lon, lev]*Un_z_TIEGCM[lat, lon, lev]/bnorm[lat, lon, lev] + Bz_IGRF[lat, lon, lev]*Un_y_TIEGCM[lat, lon, lev]/bnorm[lat, lon, lev]) + Evertz[lat, lon, lev])/bnorm[lat, lon, lev] + (-2*Bx_IGRF[lat, lon, lev]**2/bnorm[lat, lon, lev] - 2*Bz_IGRF[lat, lon, lev]**2/bnorm[lat, lon, lev])*(Bx_IGRF[lat, lon, lev]*(-Bx_IGRF[lat, lon, lev]*Un_y_TIEGCM[lat, lon, lev]/bnorm[lat, lon, lev] + By_IGRF[lat, lon, lev]*Un_x_TIEGCM[lat, lon, lev]/bnorm[lat, lon, lev]) - Bz_IGRF[lat, lon, lev]*(-By_IGRF[lat, lon, lev]*Un_z_TIEGCM[lat, lon, lev]/bnorm[lat, lon, lev] + Bz_IGRF[lat, lon, lev]*Un_y_TIEGCM[lat, lon, lev]/bnorm[lat, lon, lev]) + Everty[lat, lon, lev]))) ** 2\n",
    "                # **************************************************************************\n",
    "                # dUnz\n",
    "                eqOH5 = (1000*Pedersen_TIEGCM[lat, lon, lev]*(2*Bx_IGRF[lat, lon, lev]*Bz_IGRF[lat, lon, lev]*(-By_IGRF[lat, lon, lev]*(-Bx_IGRF[lat, lon, lev]*Un_y_TIEGCM[lat, lon, lev]/bnorm[lat, lon, lev] + By_IGRF[lat, lon, lev]*Un_x_TIEGCM[lat, lon, lev]/bnorm[lat, lon, lev]) + Bz_IGRF[lat, lon, lev]*(Bx_IGRF[lat, lon, lev]*Un_z_TIEGCM[lat, lon, lev]/bnorm[lat, lon, lev] - Bz_IGRF[lat, lon, lev]*Un_x_TIEGCM[lat, lon, lev]/bnorm[lat, lon, lev]) + Evertx[lat, lon, lev])/bnorm[lat, lon, lev] + 2*By_IGRF[lat, lon, lev]*Bz_IGRF[lat, lon, lev]*(Bx_IGRF[lat, lon, lev]*(-Bx_IGRF[lat, lon, lev]*Un_y_TIEGCM[lat, lon, lev]/bnorm[lat, lon, lev] + By_IGRF[lat, lon, lev]*Un_x_TIEGCM[lat, lon, lev]/bnorm[lat, lon, lev]) - Bz_IGRF[lat, lon, lev]*(-By_IGRF[lat, lon, lev]*Un_z_TIEGCM[lat, lon, lev]/bnorm[lat, lon, lev] + Bz_IGRF[lat, lon, lev]*Un_y_TIEGCM[lat, lon, lev]/bnorm[lat, lon, lev]) + Everty[lat, lon, lev])/bnorm[lat, lon, lev] + (-2*Bx_IGRF[lat, lon, lev]**2/bnorm[lat, lon, lev] - 2*By_IGRF[lat, lon, lev]**2/bnorm[lat, lon, lev])*(-Bx_IGRF[lat, lon, lev]*(Bx_IGRF[lat, lon, lev]*Un_z_TIEGCM[lat, lon, lev]/bnorm[lat, lon, lev] - Bz_IGRF[lat, lon, lev]*Un_x_TIEGCM[lat, lon, lev]/bnorm[lat, lon, lev]) + By_IGRF[lat, lon, lev]*(-By_IGRF[lat, lon, lev]*Un_z_TIEGCM[lat, lon, lev]/bnorm[lat, lon, lev] + Bz_IGRF[lat, lon, lev]*Un_y_TIEGCM[lat, lon, lev]/bnorm[lat, lon, lev]) + Evertz[lat, lon, lev]))) ** 2\n",
    "                # **************************************************************************\n",
    "                # dBx\n",
    "                eqOH6 = (1000*Pedersen_TIEGCM[lat, lon, lev]*((-4*Bx_IGRF[lat, lon, lev]*Un_y_TIEGCM[lat, lon, lev]/bnorm[lat, lon, lev] + 2*By_IGRF[lat, lon, lev]*Un_x_TIEGCM[lat, lon, lev]/bnorm[lat, lon, lev])*(Bx_IGRF[lat, lon, lev]*(-Bx_IGRF[lat, lon, lev]*Un_y_TIEGCM[lat, lon, lev]/bnorm[lat, lon, lev] + By_IGRF[lat, lon, lev]*Un_x_TIEGCM[lat, lon, lev]/bnorm[lat, lon, lev]) - Bz_IGRF[lat, lon, lev]*(-By_IGRF[lat, lon, lev]*Un_z_TIEGCM[lat, lon, lev]/bnorm[lat, lon, lev] + Bz_IGRF[lat, lon, lev]*Un_y_TIEGCM[lat, lon, lev]/bnorm[lat, lon, lev]) + Everty[lat, lon, lev]) + (-4*Bx_IGRF[lat, lon, lev]*Un_z_TIEGCM[lat, lon, lev]/bnorm[lat, lon, lev] + 2*Bz_IGRF[lat, lon, lev]*Un_x_TIEGCM[lat, lon, lev]/bnorm[lat, lon, lev])*(-Bx_IGRF[lat, lon, lev]*(Bx_IGRF[lat, lon, lev]*Un_z_TIEGCM[lat, lon, lev]/bnorm[lat, lon, lev] - Bz_IGRF[lat, lon, lev]*Un_x_TIEGCM[lat, lon, lev]/bnorm[lat, lon, lev]) + By_IGRF[lat, lon, lev]*(-By_IGRF[lat, lon, lev]*Un_z_TIEGCM[lat, lon, lev]/bnorm[lat, lon, lev] + Bz_IGRF[lat, lon, lev]*Un_y_TIEGCM[lat, lon, lev]/bnorm[lat, lon, lev]) + Evertz[lat, lon, lev]) + (2*By_IGRF[lat, lon, lev]*Un_y_TIEGCM[lat, lon, lev]/bnorm[lat, lon, lev] + 2*Bz_IGRF[lat, lon, lev]*Un_z_TIEGCM[lat, lon, lev]/bnorm[lat, lon, lev])*(-By_IGRF[lat, lon, lev]*(-Bx_IGRF[lat, lon, lev]*Un_y_TIEGCM[lat, lon, lev]/bnorm[lat, lon, lev] + By_IGRF[lat, lon, lev]*Un_x_TIEGCM[lat, lon, lev]/bnorm[lat, lon, lev]) + Bz_IGRF[lat, lon, lev]*(Bx_IGRF[lat, lon, lev]*Un_z_TIEGCM[lat, lon, lev]/bnorm[lat, lon, lev] - Bz_IGRF[lat, lon, lev]*Un_x_TIEGCM[lat, lon, lev]/bnorm[lat, lon, lev]) + Evertx[lat, lon, lev]))) ** 2\n",
    "                # **************************************************************************\n",
    "                # dBy\n",
    "                eqOH7 = (1000*Pedersen_TIEGCM[lat, lon, lev]*((2*Bx_IGRF[lat, lon, lev]*Un_x_TIEGCM[lat, lon, lev]/bnorm[lat, lon, lev] + 2*Bz_IGRF[lat, lon, lev]*Un_z_TIEGCM[lat, lon, lev]/bnorm[lat, lon, lev])*(Bx_IGRF[lat, lon, lev]*(-Bx_IGRF[lat, lon, lev]*Un_y_TIEGCM[lat, lon, lev]/bnorm[lat, lon, lev] + By_IGRF[lat, lon, lev]*Un_x_TIEGCM[lat, lon, lev]/bnorm[lat, lon, lev]) - Bz_IGRF[lat, lon, lev]*(-By_IGRF[lat, lon, lev]*Un_z_TIEGCM[lat, lon, lev]/bnorm[lat, lon, lev] + Bz_IGRF[lat, lon, lev]*Un_y_TIEGCM[lat, lon, lev]/bnorm[lat, lon, lev]) + Everty[lat, lon, lev]) + (2*Bx_IGRF[lat, lon, lev]*Un_y_TIEGCM[lat, lon, lev]/bnorm[lat, lon, lev] - 4*By_IGRF[lat, lon, lev]*Un_x_TIEGCM[lat, lon, lev]/bnorm[lat, lon, lev])*(-By_IGRF[lat, lon, lev]*(-Bx_IGRF[lat, lon, lev]*Un_y_TIEGCM[lat, lon, lev]/bnorm[lat, lon, lev] + By_IGRF[lat, lon, lev]*Un_x_TIEGCM[lat, lon, lev]/bnorm[lat, lon, lev]) + Bz_IGRF[lat, lon, lev]*(Bx_IGRF[lat, lon, lev]*Un_z_TIEGCM[lat, lon, lev]/bnorm[lat, lon, lev] - Bz_IGRF[lat, lon, lev]*Un_x_TIEGCM[lat, lon, lev]/bnorm[lat, lon, lev]) + Evertx[lat, lon, lev]) + (-4*By_IGRF[lat, lon, lev]*Un_z_TIEGCM[lat, lon, lev]/bnorm[lat, lon, lev] + 2*Bz_IGRF[lat, lon, lev]*Un_y_TIEGCM[lat, lon, lev]/bnorm[lat, lon, lev])*(-Bx_IGRF[lat, lon, lev]*(Bx_IGRF[lat, lon, lev]*Un_z_TIEGCM[lat, lon, lev]/bnorm[lat, lon, lev] - Bz_IGRF[lat, lon, lev]*Un_x_TIEGCM[lat, lon, lev]/bnorm[lat, lon, lev]) + By_IGRF[lat, lon, lev]*(-By_IGRF[lat, lon, lev]*Un_z_TIEGCM[lat, lon, lev]/bnorm[lat, lon, lev] + Bz_IGRF[lat, lon, lev]*Un_y_TIEGCM[lat, lon, lev]/bnorm[lat, lon, lev]) + Evertz[lat, lon, lev]))) ** 2\n",
    "                # **************************************************************************\n",
    "                # dBz\n",
    "                eqOH8 = (1000*Pedersen_TIEGCM[lat, lon, lev]*((2*Bx_IGRF[lat, lon, lev]*Un_x_TIEGCM[lat, lon, lev]/bnorm[lat, lon, lev] + 2*By_IGRF[lat, lon, lev]*Un_y_TIEGCM[lat, lon, lev]/bnorm[lat, lon, lev])*(-Bx_IGRF[lat, lon, lev]*(Bx_IGRF[lat, lon, lev]*Un_z_TIEGCM[lat, lon, lev]/bnorm[lat, lon, lev] - Bz_IGRF[lat, lon, lev]*Un_x_TIEGCM[lat, lon, lev]/bnorm[lat, lon, lev]) + By_IGRF[lat, lon, lev]*(-By_IGRF[lat, lon, lev]*Un_z_TIEGCM[lat, lon, lev]/bnorm[lat, lon, lev] + Bz_IGRF[lat, lon, lev]*Un_y_TIEGCM[lat, lon, lev]/bnorm[lat, lon, lev]) + Evertz[lat, lon, lev]) + (2*Bx_IGRF[lat, lon, lev]*Un_z_TIEGCM[lat, lon, lev]/bnorm[lat, lon, lev] - 4*Bz_IGRF[lat, lon, lev]*Un_x_TIEGCM[lat, lon, lev]/bnorm[lat, lon, lev])*(-By_IGRF[lat, lon, lev]*(-Bx_IGRF[lat, lon, lev]*Un_y_TIEGCM[lat, lon, lev]/bnorm[lat, lon, lev] + By_IGRF[lat, lon, lev]*Un_x_TIEGCM[lat, lon, lev]/bnorm[lat, lon, lev]) + Bz_IGRF[lat, lon, lev]*(Bx_IGRF[lat, lon, lev]*Un_z_TIEGCM[lat, lon, lev]/bnorm[lat, lon, lev] - Bz_IGRF[lat, lon, lev]*Un_x_TIEGCM[lat, lon, lev]/bnorm[lat, lon, lev]) + Evertx[lat, lon, lev]) + (2*By_IGRF[lat, lon, lev]*Un_z_TIEGCM[lat, lon, lev]/bnorm[lat, lon, lev] - 4*Bz_IGRF[lat, lon, lev]*Un_y_TIEGCM[lat, lon, lev]/bnorm[lat, lon, lev])*(Bx_IGRF[lat, lon, lev]*(-Bx_IGRF[lat, lon, lev]*Un_y_TIEGCM[lat, lon, lev]/bnorm[lat, lon, lev] + By_IGRF[lat, lon, lev]*Un_x_TIEGCM[lat, lon, lev]/bnorm[lat, lon, lev]) - Bz_IGRF[lat, lon, lev]*(-By_IGRF[lat, lon, lev]*Un_z_TIEGCM[lat, lon, lev]/bnorm[lat, lon, lev] + Bz_IGRF[lat, lon, lev]*Un_y_TIEGCM[lat, lon, lev]/bnorm[lat, lon, lev]) + Everty[lat, lon, lev]))) ** 2\n",
    "                # **************************************************************************\n",
    "                # dEvertx\n",
    "                eqOH9 = (1000*Pedersen_TIEGCM[lat, lon, lev]*(-2*By_IGRF[lat, lon, lev]*(-Bx_IGRF[lat, lon, lev]*Un_y_TIEGCM[lat, lon, lev]/bnorm[lat, lon, lev] + By_IGRF[lat, lon, lev]*Un_x_TIEGCM[lat, lon, lev]/bnorm[lat, lon, lev]) + 2*Bz_IGRF[lat, lon, lev]*(Bx_IGRF[lat, lon, lev]*Un_z_TIEGCM[lat, lon, lev]/bnorm[lat, lon, lev] - Bz_IGRF[lat, lon, lev]*Un_x_TIEGCM[lat, lon, lev]/bnorm[lat, lon, lev]) + 2*Evertx[lat, lon, lev])) ** 2\n",
    "                # **************************************************************************\n",
    "                # dEverty\n",
    "                eqOH10 = (1000*Pedersen_TIEGCM[lat, lon, lev]*(2*Bx_IGRF[lat, lon, lev]*(-Bx_IGRF[lat, lon, lev]*Un_y_TIEGCM[lat, lon, lev]/bnorm[lat, lon, lev] + By_IGRF[lat, lon, lev]*Un_x_TIEGCM[lat, lon, lev]/bnorm[lat, lon, lev]) - 2*Bz_IGRF[lat, lon, lev]*(-By_IGRF[lat, lon, lev]*Un_z_TIEGCM[lat, lon, lev]/bnorm[lat, lon, lev] + Bz_IGRF[lat, lon, lev]*Un_y_TIEGCM[lat, lon, lev]/bnorm[lat, lon, lev]) + 2*Everty[lat, lon, lev])) ** 2\n",
    "                # **************************************************************************\n",
    "                # dEvertz\n",
    "                eqOH11 = (1000*Pedersen_TIEGCM[lat, lon, lev]*(-2*Bx_IGRF[lat, lon, lev]*(Bx_IGRF[lat, lon, lev]*Un_z_TIEGCM[lat, lon, lev]/bnorm[lat, lon, lev] - Bz_IGRF[lat, lon, lev]*Un_x_TIEGCM[lat, lon, lev]/bnorm[lat, lon, lev]) + 2*By_IGRF[lat, lon, lev]*(-By_IGRF[lat, lon, lev]*Un_z_TIEGCM[lat, lon, lev]/bnorm[lat, lon, lev] + Bz_IGRF[lat, lon, lev]*Un_y_TIEGCM[lat, lon, lev]/bnorm[lat, lon, lev]) + 2*Evertz[lat, lon, lev])) ** 2\n",
    "                # **************************************************************************\n",
    "                # dbnorm\n",
    "                eqOH12 = (1000*Pedersen_TIEGCM[lat, lon, lev]*((2*Bx_IGRF[lat, lon, lev]*(Bx_IGRF[lat, lon, lev]*Un_y_TIEGCM[lat, lon, lev]/bnorm[lat, lon, lev]**2 - By_IGRF[lat, lon, lev]*Un_x_TIEGCM[lat, lon, lev]/bnorm[lat, lon, lev]**2) - 2*Bz_IGRF[lat, lon, lev]*(By_IGRF[lat, lon, lev]*Un_z_TIEGCM[lat, lon, lev]/bnorm[lat, lon, lev]**2 - Bz_IGRF[lat, lon, lev]*Un_y_TIEGCM[lat, lon, lev]/bnorm[lat, lon, lev]**2))*(Bx_IGRF[lat, lon, lev]*(-Bx_IGRF[lat, lon, lev]*Un_y_TIEGCM[lat, lon, lev]/bnorm[lat, lon, lev] + By_IGRF[lat, lon, lev]*Un_x_TIEGCM[lat, lon, lev]/bnorm[lat, lon, lev]) - Bz_IGRF[lat, lon, lev]*(-By_IGRF[lat, lon, lev]*Un_z_TIEGCM[lat, lon, lev]/bnorm[lat, lon, lev] + Bz_IGRF[lat, lon, lev]*Un_y_TIEGCM[lat, lon, lev]/bnorm[lat, lon, lev]) + Everty[lat, lon, lev]) + (-2*Bx_IGRF[lat, lon, lev]*(-Bx_IGRF[lat, lon, lev]*Un_z_TIEGCM[lat, lon, lev]/bnorm[lat, lon, lev]**2 + Bz_IGRF[lat, lon, lev]*Un_x_TIEGCM[lat, lon, lev]/bnorm[lat, lon, lev]**2) + 2*By_IGRF[lat, lon, lev]*(By_IGRF[lat, lon, lev]*Un_z_TIEGCM[lat, lon, lev]/bnorm[lat, lon, lev]**2 - Bz_IGRF[lat, lon, lev]*Un_y_TIEGCM[lat, lon, lev]/bnorm[lat, lon, lev]**2))*(-Bx_IGRF[lat, lon, lev]*(Bx_IGRF[lat, lon, lev]*Un_z_TIEGCM[lat, lon, lev]/bnorm[lat, lon, lev] - Bz_IGRF[lat, lon, lev]*Un_x_TIEGCM[lat, lon, lev]/bnorm[lat, lon, lev]) + By_IGRF[lat, lon, lev]*(-By_IGRF[lat, lon, lev]*Un_z_TIEGCM[lat, lon, lev]/bnorm[lat, lon, lev] + Bz_IGRF[lat, lon, lev]*Un_y_TIEGCM[lat, lon, lev]/bnorm[lat, lon, lev]) + Evertz[lat, lon, lev]) + (-2*By_IGRF[lat, lon, lev]*(Bx_IGRF[lat, lon, lev]*Un_y_TIEGCM[lat, lon, lev]/bnorm[lat, lon, lev]**2 - By_IGRF[lat, lon, lev]*Un_x_TIEGCM[lat, lon, lev]/bnorm[lat, lon, lev]**2) + 2*Bz_IGRF[lat, lon, lev]*(-Bx_IGRF[lat, lon, lev]*Un_z_TIEGCM[lat, lon, lev]/bnorm[lat, lon, lev]**2 + Bz_IGRF[lat, lon, lev]*Un_x_TIEGCM[lat, lon, lev]/bnorm[lat, lon, lev]**2))*(-By_IGRF[lat, lon, lev]*(-Bx_IGRF[lat, lon, lev]*Un_y_TIEGCM[lat, lon, lev]/bnorm[lat, lon, lev] + By_IGRF[lat, lon, lev]*Un_x_TIEGCM[lat, lon, lev]/bnorm[lat, lon, lev]) + Bz_IGRF[lat, lon, lev]*(Bx_IGRF[lat, lon, lev]*Un_z_TIEGCM[lat, lon, lev]/bnorm[lat, lon, lev] - Bz_IGRF[lat, lon, lev]*Un_x_TIEGCM[lat, lon, lev]/bnorm[lat, lon, lev]) + Evertx[lat, lon, lev]))) ** 2\n",
    "                # *********************************\n",
    "                eqOH1 = eqOH2 * Peder_error_act ** 2 + eqOH3 * Unx_error_act ** 2 + eqOH4 * Uny_error_act ** 2 + \\\n",
    "                        eqOH5 * Unz_error_act ** 2 + eqOH6 * Bx_error_act ** 2 + eqOH7 * By_error_act ** 2 + \\\n",
    "                        eqOH8 * Bz_error_act ** 2 + eqOH9 * Ex_error_act ** 2 + eqOH10 * Ey_error_act ** 2 + \\\n",
    "                        eqOH11 * Ez_error_act ** 2 + eqOH12 * dbnorm_squared\n",
    "                # *********************************\n",
    "                OH_error[lat, lon, lev] = sy.sqrt(eqOH1).evalf()  # in mW/m^3\n",
    "                OH_error_max[lat, lon, lev] = OH_error[lat, lon, lev] + Ohmic_Heating[lat, lon, lev]  # in mW/m^3\n",
    "                OH_error_min[lat, lon, lev] = Ohmic_Heating[lat, lon, lev] - OH_error[lat, lon, lev]  # in mW/m^3\n",
    "\n",
    "                # ########################### Joule Heating Error Propagation #######################################\n",
    "                # dNe\n",
    "                eqJH2 = (1000*q_e*((Omega_Op_TIEGCM[lat, lon, lev]**2*(-Bx_IGRF[lat, lon, lev]*(Bx_IGRF[lat, lon, lev]*(-Bx_IGRF[lat, lon, lev]*Un_y_TIEGCM[lat, lon, lev]/bnorm[lat, lon, lev] + By_IGRF[lat, lon, lev]*Un_x_TIEGCM[lat, lon, lev]/bnorm[lat, lon, lev]) - Bz_IGRF[lat, lon, lev]*(-By_IGRF[lat, lon, lev]*Un_z_TIEGCM[lat, lon, lev]/bnorm[lat, lon, lev] + Bz_IGRF[lat, lon, lev]*Un_y_TIEGCM[lat, lon, lev]/bnorm[lat, lon, lev]) + Everty[lat, lon, lev])/bnorm[lat, lon, lev] + By_IGRF[lat, lon, lev]*(-By_IGRF[lat, lon, lev]*(-Bx_IGRF[lat, lon, lev]*Un_y_TIEGCM[lat, lon, lev]/bnorm[lat, lon, lev] + By_IGRF[lat, lon, lev]*Un_x_TIEGCM[lat, lon, lev]/bnorm[lat, lon, lev]) + Bz_IGRF[lat, lon, lev]*(Bx_IGRF[lat, lon, lev]*Un_z_TIEGCM[lat, lon, lev]/bnorm[lat, lon, lev] - Bz_IGRF[lat, lon, lev]*Un_x_TIEGCM[lat, lon, lev]/bnorm[lat, lon, lev]) + Evertx[lat, lon, lev])/bnorm[lat, lon, lev]) + Omega_Op_TIEGCM[lat, lon, lev]*nu_Op_TIEGCM[lat, lon, lev]*(-Bx_IGRF[lat, lon, lev]*(Bx_IGRF[lat, lon, lev]*Un_z_TIEGCM[lat, lon, lev]/bnorm[lat, lon, lev] - Bz_IGRF[lat, lon, lev]*Un_x_TIEGCM[lat, lon, lev]/bnorm[lat, lon, lev]) + By_IGRF[lat, lon, lev]*(-By_IGRF[lat, lon, lev]*Un_z_TIEGCM[lat, lon, lev]/bnorm[lat, lon, lev] + Bz_IGRF[lat, lon, lev]*Un_y_TIEGCM[lat, lon, lev]/bnorm[lat, lon, lev]) + Evertz[lat, lon, lev]))*(-Bx_IGRF[lat, lon, lev]*(Bx_IGRF[lat, lon, lev]*Un_z_TIEGCM[lat, lon, lev]/bnorm[lat, lon, lev] - Bz_IGRF[lat, lon, lev]*Un_x_TIEGCM[lat, lon, lev]/bnorm[lat, lon, lev]) + By_IGRF[lat, lon, lev]*(-By_IGRF[lat, lon, lev]*Un_z_TIEGCM[lat, lon, lev]/bnorm[lat, lon, lev] + Bz_IGRF[lat, lon, lev]*Un_y_TIEGCM[lat, lon, lev]/bnorm[lat, lon, lev]) + Evertz[lat, lon, lev])/(bnorm[lat, lon, lev]*(Omega_Op_TIEGCM[lat, lon, lev]**2 + nu_Op_TIEGCM[lat, lon, lev]**2)) + (Omega_Op_TIEGCM[lat, lon, lev]**2*(Bx_IGRF[lat, lon, lev]*(-Bx_IGRF[lat, lon, lev]*(Bx_IGRF[lat, lon, lev]*Un_z_TIEGCM[lat, lon, lev]/bnorm[lat, lon, lev] - Bz_IGRF[lat, lon, lev]*Un_x_TIEGCM[lat, lon, lev]/bnorm[lat, lon, lev]) + By_IGRF[lat, lon, lev]*(-By_IGRF[lat, lon, lev]*Un_z_TIEGCM[lat, lon, lev]/bnorm[lat, lon, lev] + Bz_IGRF[lat, lon, lev]*Un_y_TIEGCM[lat, lon, lev]/bnorm[lat, lon, lev]) + Evertz[lat, lon, lev])/bnorm[lat, lon, lev] - Bz_IGRF[lat, lon, lev]*(-By_IGRF[lat, lon, lev]*(-Bx_IGRF[lat, lon, lev]*Un_y_TIEGCM[lat, lon, lev]/bnorm[lat, lon, lev] + By_IGRF[lat, lon, lev]*Un_x_TIEGCM[lat, lon, lev]/bnorm[lat, lon, lev]) + Bz_IGRF[lat, lon, lev]*(Bx_IGRF[lat, lon, lev]*Un_z_TIEGCM[lat, lon, lev]/bnorm[lat, lon, lev] - Bz_IGRF[lat, lon, lev]*Un_x_TIEGCM[lat, lon, lev]/bnorm[lat, lon, lev]) + Evertx[lat, lon, lev])/bnorm[lat, lon, lev]) + Omega_Op_TIEGCM[lat, lon, lev]*nu_Op_TIEGCM[lat, lon, lev]*(Bx_IGRF[lat, lon, lev]*(-Bx_IGRF[lat, lon, lev]*Un_y_TIEGCM[lat, lon, lev]/bnorm[lat, lon, lev] + By_IGRF[lat, lon, lev]*Un_x_TIEGCM[lat, lon, lev]/bnorm[lat, lon, lev]) - Bz_IGRF[lat, lon, lev]*(-By_IGRF[lat, lon, lev]*Un_z_TIEGCM[lat, lon, lev]/bnorm[lat, lon, lev] + Bz_IGRF[lat, lon, lev]*Un_y_TIEGCM[lat, lon, lev]/bnorm[lat, lon, lev]) + Everty[lat, lon, lev]))*(Bx_IGRF[lat, lon, lev]*(-Bx_IGRF[lat, lon, lev]*Un_y_TIEGCM[lat, lon, lev]/bnorm[lat, lon, lev] + By_IGRF[lat, lon, lev]*Un_x_TIEGCM[lat, lon, lev]/bnorm[lat, lon, lev]) - Bz_IGRF[lat, lon, lev]*(-By_IGRF[lat, lon, lev]*Un_z_TIEGCM[lat, lon, lev]/bnorm[lat, lon, lev] + Bz_IGRF[lat, lon, lev]*Un_y_TIEGCM[lat, lon, lev]/bnorm[lat, lon, lev]) + Everty[lat, lon, lev])/(bnorm[lat, lon, lev]*(Omega_Op_TIEGCM[lat, lon, lev]**2 + nu_Op_TIEGCM[lat, lon, lev]**2)) + (Omega_Op_TIEGCM[lat, lon, lev]**2*(-By_IGRF[lat, lon, lev]*(-Bx_IGRF[lat, lon, lev]*(Bx_IGRF[lat, lon, lev]*Un_z_TIEGCM[lat, lon, lev]/bnorm[lat, lon, lev] - Bz_IGRF[lat, lon, lev]*Un_x_TIEGCM[lat, lon, lev]/bnorm[lat, lon, lev]) + By_IGRF[lat, lon, lev]*(-By_IGRF[lat, lon, lev]*Un_z_TIEGCM[lat, lon, lev]/bnorm[lat, lon, lev] + Bz_IGRF[lat, lon, lev]*Un_y_TIEGCM[lat, lon, lev]/bnorm[lat, lon, lev]) + Evertz[lat, lon, lev])/bnorm[lat, lon, lev] + Bz_IGRF[lat, lon, lev]*(Bx_IGRF[lat, lon, lev]*(-Bx_IGRF[lat, lon, lev]*Un_y_TIEGCM[lat, lon, lev]/bnorm[lat, lon, lev] + By_IGRF[lat, lon, lev]*Un_x_TIEGCM[lat, lon, lev]/bnorm[lat, lon, lev]) - Bz_IGRF[lat, lon, lev]*(-By_IGRF[lat, lon, lev]*Un_z_TIEGCM[lat, lon, lev]/bnorm[lat, lon, lev] + Bz_IGRF[lat, lon, lev]*Un_y_TIEGCM[lat, lon, lev]/bnorm[lat, lon, lev]) + Everty[lat, lon, lev])/bnorm[lat, lon, lev]) + Omega_Op_TIEGCM[lat, lon, lev]*nu_Op_TIEGCM[lat, lon, lev]*(-By_IGRF[lat, lon, lev]*(-Bx_IGRF[lat, lon, lev]*Un_y_TIEGCM[lat, lon, lev]/bnorm[lat, lon, lev] + By_IGRF[lat, lon, lev]*Un_x_TIEGCM[lat, lon, lev]/bnorm[lat, lon, lev]) + Bz_IGRF[lat, lon, lev]*(Bx_IGRF[lat, lon, lev]*Un_z_TIEGCM[lat, lon, lev]/bnorm[lat, lon, lev] - Bz_IGRF[lat, lon, lev]*Un_x_TIEGCM[lat, lon, lev]/bnorm[lat, lon, lev]) + Evertx[lat, lon, lev]))*(-By_IGRF[lat, lon, lev]*(-Bx_IGRF[lat, lon, lev]*Un_y_TIEGCM[lat, lon, lev]/bnorm[lat, lon, lev] + By_IGRF[lat, lon, lev]*Un_x_TIEGCM[lat, lon, lev]/bnorm[lat, lon, lev]) + Bz_IGRF[lat, lon, lev]*(Bx_IGRF[lat, lon, lev]*Un_z_TIEGCM[lat, lon, lev]/bnorm[lat, lon, lev] - Bz_IGRF[lat, lon, lev]*Un_x_TIEGCM[lat, lon, lev]/bnorm[lat, lon, lev]) + Evertx[lat, lon, lev])/(bnorm[lat, lon, lev]*(Omega_Op_TIEGCM[lat, lon, lev]**2 + nu_Op_TIEGCM[lat, lon, lev]**2)))) ** 2\n",
    "                # *************************************************************\n",
    "                # dnu_Op\n",
    "                eqJH3 = (1000*(Ne_TIEGCM[lat, lon, lev] * CubicCm2CubicM)*q_e*(Omega_Op_TIEGCM[lat, lon, lev]*(Bx_IGRF[lat, lon, lev]*(-Bx_IGRF[lat, lon, lev]*Un_y_TIEGCM[lat, lon, lev]/bnorm[lat, lon, lev] + By_IGRF[lat, lon, lev]*Un_x_TIEGCM[lat, lon, lev]/bnorm[lat, lon, lev]) - Bz_IGRF[lat, lon, lev]*(-By_IGRF[lat, lon, lev]*Un_z_TIEGCM[lat, lon, lev]/bnorm[lat, lon, lev] + Bz_IGRF[lat, lon, lev]*Un_y_TIEGCM[lat, lon, lev]/bnorm[lat, lon, lev]) + Everty[lat, lon, lev])**2/(bnorm[lat, lon, lev]*(Omega_Op_TIEGCM[lat, lon, lev]**2 + nu_Op_TIEGCM[lat, lon, lev]**2)) + Omega_Op_TIEGCM[lat, lon, lev]*(-Bx_IGRF[lat, lon, lev]*(Bx_IGRF[lat, lon, lev]*Un_z_TIEGCM[lat, lon, lev]/bnorm[lat, lon, lev] - Bz_IGRF[lat, lon, lev]*Un_x_TIEGCM[lat, lon, lev]/bnorm[lat, lon, lev]) + By_IGRF[lat, lon, lev]*(-By_IGRF[lat, lon, lev]*Un_z_TIEGCM[lat, lon, lev]/bnorm[lat, lon, lev] + Bz_IGRF[lat, lon, lev]*Un_y_TIEGCM[lat, lon, lev]/bnorm[lat, lon, lev]) + Evertz[lat, lon, lev])**2/(bnorm[lat, lon, lev]*(Omega_Op_TIEGCM[lat, lon, lev]**2 + nu_Op_TIEGCM[lat, lon, lev]**2)) + Omega_Op_TIEGCM[lat, lon, lev]*(-By_IGRF[lat, lon, lev]*(-Bx_IGRF[lat, lon, lev]*Un_y_TIEGCM[lat, lon, lev]/bnorm[lat, lon, lev] + By_IGRF[lat, lon, lev]*Un_x_TIEGCM[lat, lon, lev]/bnorm[lat, lon, lev]) + Bz_IGRF[lat, lon, lev]*(Bx_IGRF[lat, lon, lev]*Un_z_TIEGCM[lat, lon, lev]/bnorm[lat, lon, lev] - Bz_IGRF[lat, lon, lev]*Un_x_TIEGCM[lat, lon, lev]/bnorm[lat, lon, lev]) + Evertx[lat, lon, lev])**2/(bnorm[lat, lon, lev]*(Omega_Op_TIEGCM[lat, lon, lev]**2 + nu_Op_TIEGCM[lat, lon, lev]**2)) - 2*nu_Op_TIEGCM[lat, lon, lev]*(Omega_Op_TIEGCM[lat, lon, lev]**2*(-Bx_IGRF[lat, lon, lev]*(Bx_IGRF[lat, lon, lev]*(-Bx_IGRF[lat, lon, lev]*Un_y_TIEGCM[lat, lon, lev]/bnorm[lat, lon, lev] + By_IGRF[lat, lon, lev]*Un_x_TIEGCM[lat, lon, lev]/bnorm[lat, lon, lev]) - Bz_IGRF[lat, lon, lev]*(-By_IGRF[lat, lon, lev]*Un_z_TIEGCM[lat, lon, lev]/bnorm[lat, lon, lev] + Bz_IGRF[lat, lon, lev]*Un_y_TIEGCM[lat, lon, lev]/bnorm[lat, lon, lev]) + Everty[lat, lon, lev])/bnorm[lat, lon, lev] + By_IGRF[lat, lon, lev]*(-By_IGRF[lat, lon, lev]*(-Bx_IGRF[lat, lon, lev]*Un_y_TIEGCM[lat, lon, lev]/bnorm[lat, lon, lev] + By_IGRF[lat, lon, lev]*Un_x_TIEGCM[lat, lon, lev]/bnorm[lat, lon, lev]) + Bz_IGRF[lat, lon, lev]*(Bx_IGRF[lat, lon, lev]*Un_z_TIEGCM[lat, lon, lev]/bnorm[lat, lon, lev] - Bz_IGRF[lat, lon, lev]*Un_x_TIEGCM[lat, lon, lev]/bnorm[lat, lon, lev]) + Evertx[lat, lon, lev])/bnorm[lat, lon, lev]) + Omega_Op_TIEGCM[lat, lon, lev]*nu_Op_TIEGCM[lat, lon, lev]*(-Bx_IGRF[lat, lon, lev]*(Bx_IGRF[lat, lon, lev]*Un_z_TIEGCM[lat, lon, lev]/bnorm[lat, lon, lev] - Bz_IGRF[lat, lon, lev]*Un_x_TIEGCM[lat, lon, lev]/bnorm[lat, lon, lev]) + By_IGRF[lat, lon, lev]*(-By_IGRF[lat, lon, lev]*Un_z_TIEGCM[lat, lon, lev]/bnorm[lat, lon, lev] + Bz_IGRF[lat, lon, lev]*Un_y_TIEGCM[lat, lon, lev]/bnorm[lat, lon, lev]) + Evertz[lat, lon, lev]))*(-Bx_IGRF[lat, lon, lev]*(Bx_IGRF[lat, lon, lev]*Un_z_TIEGCM[lat, lon, lev]/bnorm[lat, lon, lev] - Bz_IGRF[lat, lon, lev]*Un_x_TIEGCM[lat, lon, lev]/bnorm[lat, lon, lev]) + By_IGRF[lat, lon, lev]*(-By_IGRF[lat, lon, lev]*Un_z_TIEGCM[lat, lon, lev]/bnorm[lat, lon, lev] + Bz_IGRF[lat, lon, lev]*Un_y_TIEGCM[lat, lon, lev]/bnorm[lat, lon, lev]) + Evertz[lat, lon, lev])/(bnorm[lat, lon, lev]*(Omega_Op_TIEGCM[lat, lon, lev]**2 + nu_Op_TIEGCM[lat, lon, lev]**2)**2) - 2*nu_Op_TIEGCM[lat, lon, lev]*(Omega_Op_TIEGCM[lat, lon, lev]**2*(Bx_IGRF[lat, lon, lev]*(-Bx_IGRF[lat, lon, lev]*(Bx_IGRF[lat, lon, lev]*Un_z_TIEGCM[lat, lon, lev]/bnorm[lat, lon, lev] - Bz_IGRF[lat, lon, lev]*Un_x_TIEGCM[lat, lon, lev]/bnorm[lat, lon, lev]) + By_IGRF[lat, lon, lev]*(-By_IGRF[lat, lon, lev]*Un_z_TIEGCM[lat, lon, lev]/bnorm[lat, lon, lev] + Bz_IGRF[lat, lon, lev]*Un_y_TIEGCM[lat, lon, lev]/bnorm[lat, lon, lev]) + Evertz[lat, lon, lev])/bnorm[lat, lon, lev] - Bz_IGRF[lat, lon, lev]*(-By_IGRF[lat, lon, lev]*(-Bx_IGRF[lat, lon, lev]*Un_y_TIEGCM[lat, lon, lev]/bnorm[lat, lon, lev] + By_IGRF[lat, lon, lev]*Un_x_TIEGCM[lat, lon, lev]/bnorm[lat, lon, lev]) + Bz_IGRF[lat, lon, lev]*(Bx_IGRF[lat, lon, lev]*Un_z_TIEGCM[lat, lon, lev]/bnorm[lat, lon, lev] - Bz_IGRF[lat, lon, lev]*Un_x_TIEGCM[lat, lon, lev]/bnorm[lat, lon, lev]) + Evertx[lat, lon, lev])/bnorm[lat, lon, lev]) + Omega_Op_TIEGCM[lat, lon, lev]*nu_Op_TIEGCM[lat, lon, lev]*(Bx_IGRF[lat, lon, lev]*(-Bx_IGRF[lat, lon, lev]*Un_y_TIEGCM[lat, lon, lev]/bnorm[lat, lon, lev] + By_IGRF[lat, lon, lev]*Un_x_TIEGCM[lat, lon, lev]/bnorm[lat, lon, lev]) - Bz_IGRF[lat, lon, lev]*(-By_IGRF[lat, lon, lev]*Un_z_TIEGCM[lat, lon, lev]/bnorm[lat, lon, lev] + Bz_IGRF[lat, lon, lev]*Un_y_TIEGCM[lat, lon, lev]/bnorm[lat, lon, lev]) + Everty[lat, lon, lev]))*(Bx_IGRF[lat, lon, lev]*(-Bx_IGRF[lat, lon, lev]*Un_y_TIEGCM[lat, lon, lev]/bnorm[lat, lon, lev] + By_IGRF[lat, lon, lev]*Un_x_TIEGCM[lat, lon, lev]/bnorm[lat, lon, lev]) - Bz_IGRF[lat, lon, lev]*(-By_IGRF[lat, lon, lev]*Un_z_TIEGCM[lat, lon, lev]/bnorm[lat, lon, lev] + Bz_IGRF[lat, lon, lev]*Un_y_TIEGCM[lat, lon, lev]/bnorm[lat, lon, lev]) + Everty[lat, lon, lev])/(bnorm[lat, lon, lev]*(Omega_Op_TIEGCM[lat, lon, lev]**2 + nu_Op_TIEGCM[lat, lon, lev]**2)**2) - 2*nu_Op_TIEGCM[lat, lon, lev]*(Omega_Op_TIEGCM[lat, lon, lev]**2*(-By_IGRF[lat, lon, lev]*(-Bx_IGRF[lat, lon, lev]*(Bx_IGRF[lat, lon, lev]*Un_z_TIEGCM[lat, lon, lev]/bnorm[lat, lon, lev] - Bz_IGRF[lat, lon, lev]*Un_x_TIEGCM[lat, lon, lev]/bnorm[lat, lon, lev]) + By_IGRF[lat, lon, lev]*(-By_IGRF[lat, lon, lev]*Un_z_TIEGCM[lat, lon, lev]/bnorm[lat, lon, lev] + Bz_IGRF[lat, lon, lev]*Un_y_TIEGCM[lat, lon, lev]/bnorm[lat, lon, lev]) + Evertz[lat, lon, lev])/bnorm[lat, lon, lev] + Bz_IGRF[lat, lon, lev]*(Bx_IGRF[lat, lon, lev]*(-Bx_IGRF[lat, lon, lev]*Un_y_TIEGCM[lat, lon, lev]/bnorm[lat, lon, lev] + By_IGRF[lat, lon, lev]*Un_x_TIEGCM[lat, lon, lev]/bnorm[lat, lon, lev]) - Bz_IGRF[lat, lon, lev]*(-By_IGRF[lat, lon, lev]*Un_z_TIEGCM[lat, lon, lev]/bnorm[lat, lon, lev] + Bz_IGRF[lat, lon, lev]*Un_y_TIEGCM[lat, lon, lev]/bnorm[lat, lon, lev]) + Everty[lat, lon, lev])/bnorm[lat, lon, lev]) + Omega_Op_TIEGCM[lat, lon, lev]*nu_Op_TIEGCM[lat, lon, lev]*(-By_IGRF[lat, lon, lev]*(-Bx_IGRF[lat, lon, lev]*Un_y_TIEGCM[lat, lon, lev]/bnorm[lat, lon, lev] + By_IGRF[lat, lon, lev]*Un_x_TIEGCM[lat, lon, lev]/bnorm[lat, lon, lev]) + Bz_IGRF[lat, lon, lev]*(Bx_IGRF[lat, lon, lev]*Un_z_TIEGCM[lat, lon, lev]/bnorm[lat, lon, lev] - Bz_IGRF[lat, lon, lev]*Un_x_TIEGCM[lat, lon, lev]/bnorm[lat, lon, lev]) + Evertx[lat, lon, lev]))*(-By_IGRF[lat, lon, lev]*(-Bx_IGRF[lat, lon, lev]*Un_y_TIEGCM[lat, lon, lev]/bnorm[lat, lon, lev] + By_IGRF[lat, lon, lev]*Un_x_TIEGCM[lat, lon, lev]/bnorm[lat, lon, lev]) + Bz_IGRF[lat, lon, lev]*(Bx_IGRF[lat, lon, lev]*Un_z_TIEGCM[lat, lon, lev]/bnorm[lat, lon, lev] - Bz_IGRF[lat, lon, lev]*Un_x_TIEGCM[lat, lon, lev]/bnorm[lat, lon, lev]) + Evertx[lat, lon, lev])/(bnorm[lat, lon, lev]*(Omega_Op_TIEGCM[lat, lon, lev]**2 + nu_Op_TIEGCM[lat, lon, lev]**2)**2))) ** 2\n",
    "                # *************************************************************\n",
    "                # dOmega_Op\n",
    "                eqJH4 = (1000*(Ne_TIEGCM[lat, lon, lev] * CubicCm2CubicM)*q_e*(-2*Omega_Op_TIEGCM[lat, lon, lev]*(Omega_Op_TIEGCM[lat, lon, lev]**2*(-Bx_IGRF[lat, lon, lev]*(Bx_IGRF[lat, lon, lev]*(-Bx_IGRF[lat, lon, lev]*Un_y_TIEGCM[lat, lon, lev]/bnorm[lat, lon, lev] + By_IGRF[lat, lon, lev]*Un_x_TIEGCM[lat, lon, lev]/bnorm[lat, lon, lev]) - Bz_IGRF[lat, lon, lev]*(-By_IGRF[lat, lon, lev]*Un_z_TIEGCM[lat, lon, lev]/bnorm[lat, lon, lev] + Bz_IGRF[lat, lon, lev]*Un_y_TIEGCM[lat, lon, lev]/bnorm[lat, lon, lev]) + Everty[lat, lon, lev])/bnorm[lat, lon, lev] + By_IGRF[lat, lon, lev]*(-By_IGRF[lat, lon, lev]*(-Bx_IGRF[lat, lon, lev]*Un_y_TIEGCM[lat, lon, lev]/bnorm[lat, lon, lev] + By_IGRF[lat, lon, lev]*Un_x_TIEGCM[lat, lon, lev]/bnorm[lat, lon, lev]) + Bz_IGRF[lat, lon, lev]*(Bx_IGRF[lat, lon, lev]*Un_z_TIEGCM[lat, lon, lev]/bnorm[lat, lon, lev] - Bz_IGRF[lat, lon, lev]*Un_x_TIEGCM[lat, lon, lev]/bnorm[lat, lon, lev]) + Evertx[lat, lon, lev])/bnorm[lat, lon, lev]) + Omega_Op_TIEGCM[lat, lon, lev]*nu_Op_TIEGCM[lat, lon, lev]*(-Bx_IGRF[lat, lon, lev]*(Bx_IGRF[lat, lon, lev]*Un_z_TIEGCM[lat, lon, lev]/bnorm[lat, lon, lev] - Bz_IGRF[lat, lon, lev]*Un_x_TIEGCM[lat, lon, lev]/bnorm[lat, lon, lev]) + By_IGRF[lat, lon, lev]*(-By_IGRF[lat, lon, lev]*Un_z_TIEGCM[lat, lon, lev]/bnorm[lat, lon, lev] + Bz_IGRF[lat, lon, lev]*Un_y_TIEGCM[lat, lon, lev]/bnorm[lat, lon, lev]) + Evertz[lat, lon, lev]))*(-Bx_IGRF[lat, lon, lev]*(Bx_IGRF[lat, lon, lev]*Un_z_TIEGCM[lat, lon, lev]/bnorm[lat, lon, lev] - Bz_IGRF[lat, lon, lev]*Un_x_TIEGCM[lat, lon, lev]/bnorm[lat, lon, lev]) + By_IGRF[lat, lon, lev]*(-By_IGRF[lat, lon, lev]*Un_z_TIEGCM[lat, lon, lev]/bnorm[lat, lon, lev] + Bz_IGRF[lat, lon, lev]*Un_y_TIEGCM[lat, lon, lev]/bnorm[lat, lon, lev]) + Evertz[lat, lon, lev])/(bnorm[lat, lon, lev]*(Omega_Op_TIEGCM[lat, lon, lev]**2 + nu_Op_TIEGCM[lat, lon, lev]**2)**2) - 2*Omega_Op_TIEGCM[lat, lon, lev]*(Omega_Op_TIEGCM[lat, lon, lev]**2*(Bx_IGRF[lat, lon, lev]*(-Bx_IGRF[lat, lon, lev]*(Bx_IGRF[lat, lon, lev]*Un_z_TIEGCM[lat, lon, lev]/bnorm[lat, lon, lev] - Bz_IGRF[lat, lon, lev]*Un_x_TIEGCM[lat, lon, lev]/bnorm[lat, lon, lev]) + By_IGRF[lat, lon, lev]*(-By_IGRF[lat, lon, lev]*Un_z_TIEGCM[lat, lon, lev]/bnorm[lat, lon, lev] + Bz_IGRF[lat, lon, lev]*Un_y_TIEGCM[lat, lon, lev]/bnorm[lat, lon, lev]) + Evertz[lat, lon, lev])/bnorm[lat, lon, lev] - Bz_IGRF[lat, lon, lev]*(-By_IGRF[lat, lon, lev]*(-Bx_IGRF[lat, lon, lev]*Un_y_TIEGCM[lat, lon, lev]/bnorm[lat, lon, lev] + By_IGRF[lat, lon, lev]*Un_x_TIEGCM[lat, lon, lev]/bnorm[lat, lon, lev]) + Bz_IGRF[lat, lon, lev]*(Bx_IGRF[lat, lon, lev]*Un_z_TIEGCM[lat, lon, lev]/bnorm[lat, lon, lev] - Bz_IGRF[lat, lon, lev]*Un_x_TIEGCM[lat, lon, lev]/bnorm[lat, lon, lev]) + Evertx[lat, lon, lev])/bnorm[lat, lon, lev]) + Omega_Op_TIEGCM[lat, lon, lev]*nu_Op_TIEGCM[lat, lon, lev]*(Bx_IGRF[lat, lon, lev]*(-Bx_IGRF[lat, lon, lev]*Un_y_TIEGCM[lat, lon, lev]/bnorm[lat, lon, lev] + By_IGRF[lat, lon, lev]*Un_x_TIEGCM[lat, lon, lev]/bnorm[lat, lon, lev]) - Bz_IGRF[lat, lon, lev]*(-By_IGRF[lat, lon, lev]*Un_z_TIEGCM[lat, lon, lev]/bnorm[lat, lon, lev] + Bz_IGRF[lat, lon, lev]*Un_y_TIEGCM[lat, lon, lev]/bnorm[lat, lon, lev]) + Everty[lat, lon, lev]))*(Bx_IGRF[lat, lon, lev]*(-Bx_IGRF[lat, lon, lev]*Un_y_TIEGCM[lat, lon, lev]/bnorm[lat, lon, lev] + By_IGRF[lat, lon, lev]*Un_x_TIEGCM[lat, lon, lev]/bnorm[lat, lon, lev]) - Bz_IGRF[lat, lon, lev]*(-By_IGRF[lat, lon, lev]*Un_z_TIEGCM[lat, lon, lev]/bnorm[lat, lon, lev] + Bz_IGRF[lat, lon, lev]*Un_y_TIEGCM[lat, lon, lev]/bnorm[lat, lon, lev]) + Everty[lat, lon, lev])/(bnorm[lat, lon, lev]*(Omega_Op_TIEGCM[lat, lon, lev]**2 + nu_Op_TIEGCM[lat, lon, lev]**2)**2) - 2*Omega_Op_TIEGCM[lat, lon, lev]*(Omega_Op_TIEGCM[lat, lon, lev]**2*(-By_IGRF[lat, lon, lev]*(-Bx_IGRF[lat, lon, lev]*(Bx_IGRF[lat, lon, lev]*Un_z_TIEGCM[lat, lon, lev]/bnorm[lat, lon, lev] - Bz_IGRF[lat, lon, lev]*Un_x_TIEGCM[lat, lon, lev]/bnorm[lat, lon, lev]) + By_IGRF[lat, lon, lev]*(-By_IGRF[lat, lon, lev]*Un_z_TIEGCM[lat, lon, lev]/bnorm[lat, lon, lev] + Bz_IGRF[lat, lon, lev]*Un_y_TIEGCM[lat, lon, lev]/bnorm[lat, lon, lev]) + Evertz[lat, lon, lev])/bnorm[lat, lon, lev] + Bz_IGRF[lat, lon, lev]*(Bx_IGRF[lat, lon, lev]*(-Bx_IGRF[lat, lon, lev]*Un_y_TIEGCM[lat, lon, lev]/bnorm[lat, lon, lev] + By_IGRF[lat, lon, lev]*Un_x_TIEGCM[lat, lon, lev]/bnorm[lat, lon, lev]) - Bz_IGRF[lat, lon, lev]*(-By_IGRF[lat, lon, lev]*Un_z_TIEGCM[lat, lon, lev]/bnorm[lat, lon, lev] + Bz_IGRF[lat, lon, lev]*Un_y_TIEGCM[lat, lon, lev]/bnorm[lat, lon, lev]) + Everty[lat, lon, lev])/bnorm[lat, lon, lev]) + Omega_Op_TIEGCM[lat, lon, lev]*nu_Op_TIEGCM[lat, lon, lev]*(-By_IGRF[lat, lon, lev]*(-Bx_IGRF[lat, lon, lev]*Un_y_TIEGCM[lat, lon, lev]/bnorm[lat, lon, lev] + By_IGRF[lat, lon, lev]*Un_x_TIEGCM[lat, lon, lev]/bnorm[lat, lon, lev]) + Bz_IGRF[lat, lon, lev]*(Bx_IGRF[lat, lon, lev]*Un_z_TIEGCM[lat, lon, lev]/bnorm[lat, lon, lev] - Bz_IGRF[lat, lon, lev]*Un_x_TIEGCM[lat, lon, lev]/bnorm[lat, lon, lev]) + Evertx[lat, lon, lev]))*(-By_IGRF[lat, lon, lev]*(-Bx_IGRF[lat, lon, lev]*Un_y_TIEGCM[lat, lon, lev]/bnorm[lat, lon, lev] + By_IGRF[lat, lon, lev]*Un_x_TIEGCM[lat, lon, lev]/bnorm[lat, lon, lev]) + Bz_IGRF[lat, lon, lev]*(Bx_IGRF[lat, lon, lev]*Un_z_TIEGCM[lat, lon, lev]/bnorm[lat, lon, lev] - Bz_IGRF[lat, lon, lev]*Un_x_TIEGCM[lat, lon, lev]/bnorm[lat, lon, lev]) + Evertx[lat, lon, lev])/(bnorm[lat, lon, lev]*(Omega_Op_TIEGCM[lat, lon, lev]**2 + nu_Op_TIEGCM[lat, lon, lev]**2)**2) + (2*Omega_Op_TIEGCM[lat, lon, lev]*(-Bx_IGRF[lat, lon, lev]*(Bx_IGRF[lat, lon, lev]*(-Bx_IGRF[lat, lon, lev]*Un_y_TIEGCM[lat, lon, lev]/bnorm[lat, lon, lev] + By_IGRF[lat, lon, lev]*Un_x_TIEGCM[lat, lon, lev]/bnorm[lat, lon, lev]) - Bz_IGRF[lat, lon, lev]*(-By_IGRF[lat, lon, lev]*Un_z_TIEGCM[lat, lon, lev]/bnorm[lat, lon, lev] + Bz_IGRF[lat, lon, lev]*Un_y_TIEGCM[lat, lon, lev]/bnorm[lat, lon, lev]) + Everty[lat, lon, lev])/bnorm[lat, lon, lev] + By_IGRF[lat, lon, lev]*(-By_IGRF[lat, lon, lev]*(-Bx_IGRF[lat, lon, lev]*Un_y_TIEGCM[lat, lon, lev]/bnorm[lat, lon, lev] + By_IGRF[lat, lon, lev]*Un_x_TIEGCM[lat, lon, lev]/bnorm[lat, lon, lev]) + Bz_IGRF[lat, lon, lev]*(Bx_IGRF[lat, lon, lev]*Un_z_TIEGCM[lat, lon, lev]/bnorm[lat, lon, lev] - Bz_IGRF[lat, lon, lev]*Un_x_TIEGCM[lat, lon, lev]/bnorm[lat, lon, lev]) + Evertx[lat, lon, lev])/bnorm[lat, lon, lev]) + nu_Op_TIEGCM[lat, lon, lev]*(-Bx_IGRF[lat, lon, lev]*(Bx_IGRF[lat, lon, lev]*Un_z_TIEGCM[lat, lon, lev]/bnorm[lat, lon, lev] - Bz_IGRF[lat, lon, lev]*Un_x_TIEGCM[lat, lon, lev]/bnorm[lat, lon, lev]) + By_IGRF[lat, lon, lev]*(-By_IGRF[lat, lon, lev]*Un_z_TIEGCM[lat, lon, lev]/bnorm[lat, lon, lev] + Bz_IGRF[lat, lon, lev]*Un_y_TIEGCM[lat, lon, lev]/bnorm[lat, lon, lev]) + Evertz[lat, lon, lev]))*(-Bx_IGRF[lat, lon, lev]*(Bx_IGRF[lat, lon, lev]*Un_z_TIEGCM[lat, lon, lev]/bnorm[lat, lon, lev] - Bz_IGRF[lat, lon, lev]*Un_x_TIEGCM[lat, lon, lev]/bnorm[lat, lon, lev]) + By_IGRF[lat, lon, lev]*(-By_IGRF[lat, lon, lev]*Un_z_TIEGCM[lat, lon, lev]/bnorm[lat, lon, lev] + Bz_IGRF[lat, lon, lev]*Un_y_TIEGCM[lat, lon, lev]/bnorm[lat, lon, lev]) + Evertz[lat, lon, lev])/(bnorm[lat, lon, lev]*(Omega_Op_TIEGCM[lat, lon, lev]**2 + nu_Op_TIEGCM[lat, lon, lev]**2)) + (2*Omega_Op_TIEGCM[lat, lon, lev]*(Bx_IGRF[lat, lon, lev]*(-Bx_IGRF[lat, lon, lev]*(Bx_IGRF[lat, lon, lev]*Un_z_TIEGCM[lat, lon, lev]/bnorm[lat, lon, lev] - Bz_IGRF[lat, lon, lev]*Un_x_TIEGCM[lat, lon, lev]/bnorm[lat, lon, lev]) + By_IGRF[lat, lon, lev]*(-By_IGRF[lat, lon, lev]*Un_z_TIEGCM[lat, lon, lev]/bnorm[lat, lon, lev] + Bz_IGRF[lat, lon, lev]*Un_y_TIEGCM[lat, lon, lev]/bnorm[lat, lon, lev]) + Evertz[lat, lon, lev])/bnorm[lat, lon, lev] - Bz_IGRF[lat, lon, lev]*(-By_IGRF[lat, lon, lev]*(-Bx_IGRF[lat, lon, lev]*Un_y_TIEGCM[lat, lon, lev]/bnorm[lat, lon, lev] + By_IGRF[lat, lon, lev]*Un_x_TIEGCM[lat, lon, lev]/bnorm[lat, lon, lev]) + Bz_IGRF[lat, lon, lev]*(Bx_IGRF[lat, lon, lev]*Un_z_TIEGCM[lat, lon, lev]/bnorm[lat, lon, lev] - Bz_IGRF[lat, lon, lev]*Un_x_TIEGCM[lat, lon, lev]/bnorm[lat, lon, lev]) + Evertx[lat, lon, lev])/bnorm[lat, lon, lev]) + nu_Op_TIEGCM[lat, lon, lev]*(Bx_IGRF[lat, lon, lev]*(-Bx_IGRF[lat, lon, lev]*Un_y_TIEGCM[lat, lon, lev]/bnorm[lat, lon, lev] + By_IGRF[lat, lon, lev]*Un_x_TIEGCM[lat, lon, lev]/bnorm[lat, lon, lev]) - Bz_IGRF[lat, lon, lev]*(-By_IGRF[lat, lon, lev]*Un_z_TIEGCM[lat, lon, lev]/bnorm[lat, lon, lev] + Bz_IGRF[lat, lon, lev]*Un_y_TIEGCM[lat, lon, lev]/bnorm[lat, lon, lev]) + Everty[lat, lon, lev]))*(Bx_IGRF[lat, lon, lev]*(-Bx_IGRF[lat, lon, lev]*Un_y_TIEGCM[lat, lon, lev]/bnorm[lat, lon, lev] + By_IGRF[lat, lon, lev]*Un_x_TIEGCM[lat, lon, lev]/bnorm[lat, lon, lev]) - Bz_IGRF[lat, lon, lev]*(-By_IGRF[lat, lon, lev]*Un_z_TIEGCM[lat, lon, lev]/bnorm[lat, lon, lev] + Bz_IGRF[lat, lon, lev]*Un_y_TIEGCM[lat, lon, lev]/bnorm[lat, lon, lev]) + Everty[lat, lon, lev])/(bnorm[lat, lon, lev]*(Omega_Op_TIEGCM[lat, lon, lev]**2 + nu_Op_TIEGCM[lat, lon, lev]**2)) + (2*Omega_Op_TIEGCM[lat, lon, lev]*(-By_IGRF[lat, lon, lev]*(-Bx_IGRF[lat, lon, lev]*(Bx_IGRF[lat, lon, lev]*Un_z_TIEGCM[lat, lon, lev]/bnorm[lat, lon, lev] - Bz_IGRF[lat, lon, lev]*Un_x_TIEGCM[lat, lon, lev]/bnorm[lat, lon, lev]) + By_IGRF[lat, lon, lev]*(-By_IGRF[lat, lon, lev]*Un_z_TIEGCM[lat, lon, lev]/bnorm[lat, lon, lev] + Bz_IGRF[lat, lon, lev]*Un_y_TIEGCM[lat, lon, lev]/bnorm[lat, lon, lev]) + Evertz[lat, lon, lev])/bnorm[lat, lon, lev] + Bz_IGRF[lat, lon, lev]*(Bx_IGRF[lat, lon, lev]*(-Bx_IGRF[lat, lon, lev]*Un_y_TIEGCM[lat, lon, lev]/bnorm[lat, lon, lev] + By_IGRF[lat, lon, lev]*Un_x_TIEGCM[lat, lon, lev]/bnorm[lat, lon, lev]) - Bz_IGRF[lat, lon, lev]*(-By_IGRF[lat, lon, lev]*Un_z_TIEGCM[lat, lon, lev]/bnorm[lat, lon, lev] + Bz_IGRF[lat, lon, lev]*Un_y_TIEGCM[lat, lon, lev]/bnorm[lat, lon, lev]) + Everty[lat, lon, lev])/bnorm[lat, lon, lev]) + nu_Op_TIEGCM[lat, lon, lev]*(-By_IGRF[lat, lon, lev]*(-Bx_IGRF[lat, lon, lev]*Un_y_TIEGCM[lat, lon, lev]/bnorm[lat, lon, lev] + By_IGRF[lat, lon, lev]*Un_x_TIEGCM[lat, lon, lev]/bnorm[lat, lon, lev]) + Bz_IGRF[lat, lon, lev]*(Bx_IGRF[lat, lon, lev]*Un_z_TIEGCM[lat, lon, lev]/bnorm[lat, lon, lev] - Bz_IGRF[lat, lon, lev]*Un_x_TIEGCM[lat, lon, lev]/bnorm[lat, lon, lev]) + Evertx[lat, lon, lev]))*(-By_IGRF[lat, lon, lev]*(-Bx_IGRF[lat, lon, lev]*Un_y_TIEGCM[lat, lon, lev]/bnorm[lat, lon, lev] + By_IGRF[lat, lon, lev]*Un_x_TIEGCM[lat, lon, lev]/bnorm[lat, lon, lev]) + Bz_IGRF[lat, lon, lev]*(Bx_IGRF[lat, lon, lev]*Un_z_TIEGCM[lat, lon, lev]/bnorm[lat, lon, lev] - Bz_IGRF[lat, lon, lev]*Un_x_TIEGCM[lat, lon, lev]/bnorm[lat, lon, lev]) + Evertx[lat, lon, lev])/(bnorm[lat, lon, lev]*(Omega_Op_TIEGCM[lat, lon, lev]**2 + nu_Op_TIEGCM[lat, lon, lev]**2)))) ** 2\n",
    "                # *************************************************************\n",
    "                # dEvertx\n",
    "                eqJH5 = (1000*(Ne_TIEGCM[lat, lon, lev] * CubicCm2CubicM)*q_e*(By_IGRF[lat, lon, lev]*Omega_Op_TIEGCM[lat, lon, lev]**2*(-Bx_IGRF[lat, lon, lev]*(Bx_IGRF[lat, lon, lev]*Un_z_TIEGCM[lat, lon, lev]/bnorm[lat, lon, lev] - Bz_IGRF[lat, lon, lev]*Un_x_TIEGCM[lat, lon, lev]/bnorm[lat, lon, lev]) + By_IGRF[lat, lon, lev]*(-By_IGRF[lat, lon, lev]*Un_z_TIEGCM[lat, lon, lev]/bnorm[lat, lon, lev] + Bz_IGRF[lat, lon, lev]*Un_y_TIEGCM[lat, lon, lev]/bnorm[lat, lon, lev]) + Evertz[lat, lon, lev])/(bnorm[lat, lon, lev]**2*(Omega_Op_TIEGCM[lat, lon, lev]**2 + nu_Op_TIEGCM[lat, lon, lev]**2)) - Bz_IGRF[lat, lon, lev]*Omega_Op_TIEGCM[lat, lon, lev]**2*(Bx_IGRF[lat, lon, lev]*(-Bx_IGRF[lat, lon, lev]*Un_y_TIEGCM[lat, lon, lev]/bnorm[lat, lon, lev] + By_IGRF[lat, lon, lev]*Un_x_TIEGCM[lat, lon, lev]/bnorm[lat, lon, lev]) - Bz_IGRF[lat, lon, lev]*(-By_IGRF[lat, lon, lev]*Un_z_TIEGCM[lat, lon, lev]/bnorm[lat, lon, lev] + Bz_IGRF[lat, lon, lev]*Un_y_TIEGCM[lat, lon, lev]/bnorm[lat, lon, lev]) + Everty[lat, lon, lev])/(bnorm[lat, lon, lev]**2*(Omega_Op_TIEGCM[lat, lon, lev]**2 + nu_Op_TIEGCM[lat, lon, lev]**2)) + Omega_Op_TIEGCM[lat, lon, lev]*nu_Op_TIEGCM[lat, lon, lev]*(-By_IGRF[lat, lon, lev]*(-Bx_IGRF[lat, lon, lev]*Un_y_TIEGCM[lat, lon, lev]/bnorm[lat, lon, lev] + By_IGRF[lat, lon, lev]*Un_x_TIEGCM[lat, lon, lev]/bnorm[lat, lon, lev]) + Bz_IGRF[lat, lon, lev]*(Bx_IGRF[lat, lon, lev]*Un_z_TIEGCM[lat, lon, lev]/bnorm[lat, lon, lev] - Bz_IGRF[lat, lon, lev]*Un_x_TIEGCM[lat, lon, lev]/bnorm[lat, lon, lev]) + Evertx[lat, lon, lev])/(bnorm[lat, lon, lev]*(Omega_Op_TIEGCM[lat, lon, lev]**2 + nu_Op_TIEGCM[lat, lon, lev]**2)) + (Omega_Op_TIEGCM[lat, lon, lev]**2*(-By_IGRF[lat, lon, lev]*(-Bx_IGRF[lat, lon, lev]*(Bx_IGRF[lat, lon, lev]*Un_z_TIEGCM[lat, lon, lev]/bnorm[lat, lon, lev] - Bz_IGRF[lat, lon, lev]*Un_x_TIEGCM[lat, lon, lev]/bnorm[lat, lon, lev]) + By_IGRF[lat, lon, lev]*(-By_IGRF[lat, lon, lev]*Un_z_TIEGCM[lat, lon, lev]/bnorm[lat, lon, lev] + Bz_IGRF[lat, lon, lev]*Un_y_TIEGCM[lat, lon, lev]/bnorm[lat, lon, lev]) + Evertz[lat, lon, lev])/bnorm[lat, lon, lev] + Bz_IGRF[lat, lon, lev]*(Bx_IGRF[lat, lon, lev]*(-Bx_IGRF[lat, lon, lev]*Un_y_TIEGCM[lat, lon, lev]/bnorm[lat, lon, lev] + By_IGRF[lat, lon, lev]*Un_x_TIEGCM[lat, lon, lev]/bnorm[lat, lon, lev]) - Bz_IGRF[lat, lon, lev]*(-By_IGRF[lat, lon, lev]*Un_z_TIEGCM[lat, lon, lev]/bnorm[lat, lon, lev] + Bz_IGRF[lat, lon, lev]*Un_y_TIEGCM[lat, lon, lev]/bnorm[lat, lon, lev]) + Everty[lat, lon, lev])/bnorm[lat, lon, lev]) + Omega_Op_TIEGCM[lat, lon, lev]*nu_Op_TIEGCM[lat, lon, lev]*(-By_IGRF[lat, lon, lev]*(-Bx_IGRF[lat, lon, lev]*Un_y_TIEGCM[lat, lon, lev]/bnorm[lat, lon, lev] + By_IGRF[lat, lon, lev]*Un_x_TIEGCM[lat, lon, lev]/bnorm[lat, lon, lev]) + Bz_IGRF[lat, lon, lev]*(Bx_IGRF[lat, lon, lev]*Un_z_TIEGCM[lat, lon, lev]/bnorm[lat, lon, lev] - Bz_IGRF[lat, lon, lev]*Un_x_TIEGCM[lat, lon, lev]/bnorm[lat, lon, lev]) + Evertx[lat, lon, lev]))/(bnorm[lat, lon, lev]*(Omega_Op_TIEGCM[lat, lon, lev]**2 + nu_Op_TIEGCM[lat, lon, lev]**2)))) ** 2\n",
    "                # *************************************************************\n",
    "                # dEverty\n",
    "                eqJH6 = (1000*(Ne_TIEGCM[lat, lon, lev] * CubicCm2CubicM)*q_e*(-Bx_IGRF[lat, lon, lev]*Omega_Op_TIEGCM[lat, lon, lev]**2*(-Bx_IGRF[lat, lon, lev]*(Bx_IGRF[lat, lon, lev]*Un_z_TIEGCM[lat, lon, lev]/bnorm[lat, lon, lev] - Bz_IGRF[lat, lon, lev]*Un_x_TIEGCM[lat, lon, lev]/bnorm[lat, lon, lev]) + By_IGRF[lat, lon, lev]*(-By_IGRF[lat, lon, lev]*Un_z_TIEGCM[lat, lon, lev]/bnorm[lat, lon, lev] + Bz_IGRF[lat, lon, lev]*Un_y_TIEGCM[lat, lon, lev]/bnorm[lat, lon, lev]) + Evertz[lat, lon, lev])/(bnorm[lat, lon, lev]**2*(Omega_Op_TIEGCM[lat, lon, lev]**2 + nu_Op_TIEGCM[lat, lon, lev]**2)) + Bz_IGRF[lat, lon, lev]*Omega_Op_TIEGCM[lat, lon, lev]**2*(-By_IGRF[lat, lon, lev]*(-Bx_IGRF[lat, lon, lev]*Un_y_TIEGCM[lat, lon, lev]/bnorm[lat, lon, lev] + By_IGRF[lat, lon, lev]*Un_x_TIEGCM[lat, lon, lev]/bnorm[lat, lon, lev]) + Bz_IGRF[lat, lon, lev]*(Bx_IGRF[lat, lon, lev]*Un_z_TIEGCM[lat, lon, lev]/bnorm[lat, lon, lev] - Bz_IGRF[lat, lon, lev]*Un_x_TIEGCM[lat, lon, lev]/bnorm[lat, lon, lev]) + Evertx[lat, lon, lev])/(bnorm[lat, lon, lev]**2*(Omega_Op_TIEGCM[lat, lon, lev]**2 + nu_Op_TIEGCM[lat, lon, lev]**2)) + Omega_Op_TIEGCM[lat, lon, lev]*nu_Op_TIEGCM[lat, lon, lev]*(Bx_IGRF[lat, lon, lev]*(-Bx_IGRF[lat, lon, lev]*Un_y_TIEGCM[lat, lon, lev]/bnorm[lat, lon, lev] + By_IGRF[lat, lon, lev]*Un_x_TIEGCM[lat, lon, lev]/bnorm[lat, lon, lev]) - Bz_IGRF[lat, lon, lev]*(-By_IGRF[lat, lon, lev]*Un_z_TIEGCM[lat, lon, lev]/bnorm[lat, lon, lev] + Bz_IGRF[lat, lon, lev]*Un_y_TIEGCM[lat, lon, lev]/bnorm[lat, lon, lev]) + Everty[lat, lon, lev])/(bnorm[lat, lon, lev]*(Omega_Op_TIEGCM[lat, lon, lev]**2 + nu_Op_TIEGCM[lat, lon, lev]**2)) + (Omega_Op_TIEGCM[lat, lon, lev]**2*(Bx_IGRF[lat, lon, lev]*(-Bx_IGRF[lat, lon, lev]*(Bx_IGRF[lat, lon, lev]*Un_z_TIEGCM[lat, lon, lev]/bnorm[lat, lon, lev] - Bz_IGRF[lat, lon, lev]*Un_x_TIEGCM[lat, lon, lev]/bnorm[lat, lon, lev]) + By_IGRF[lat, lon, lev]*(-By_IGRF[lat, lon, lev]*Un_z_TIEGCM[lat, lon, lev]/bnorm[lat, lon, lev] + Bz_IGRF[lat, lon, lev]*Un_y_TIEGCM[lat, lon, lev]/bnorm[lat, lon, lev]) + Evertz[lat, lon, lev])/bnorm[lat, lon, lev] - Bz_IGRF[lat, lon, lev]*(-By_IGRF[lat, lon, lev]*(-Bx_IGRF[lat, lon, lev]*Un_y_TIEGCM[lat, lon, lev]/bnorm[lat, lon, lev] + By_IGRF[lat, lon, lev]*Un_x_TIEGCM[lat, lon, lev]/bnorm[lat, lon, lev]) + Bz_IGRF[lat, lon, lev]*(Bx_IGRF[lat, lon, lev]*Un_z_TIEGCM[lat, lon, lev]/bnorm[lat, lon, lev] - Bz_IGRF[lat, lon, lev]*Un_x_TIEGCM[lat, lon, lev]/bnorm[lat, lon, lev]) + Evertx[lat, lon, lev])/bnorm[lat, lon, lev]) + Omega_Op_TIEGCM[lat, lon, lev]*nu_Op_TIEGCM[lat, lon, lev]*(Bx_IGRF[lat, lon, lev]*(-Bx_IGRF[lat, lon, lev]*Un_y_TIEGCM[lat, lon, lev]/bnorm[lat, lon, lev] + By_IGRF[lat, lon, lev]*Un_x_TIEGCM[lat, lon, lev]/bnorm[lat, lon, lev]) - Bz_IGRF[lat, lon, lev]*(-By_IGRF[lat, lon, lev]*Un_z_TIEGCM[lat, lon, lev]/bnorm[lat, lon, lev] + Bz_IGRF[lat, lon, lev]*Un_y_TIEGCM[lat, lon, lev]/bnorm[lat, lon, lev]) + Everty[lat, lon, lev]))/(bnorm[lat, lon, lev]*(Omega_Op_TIEGCM[lat, lon, lev]**2 + nu_Op_TIEGCM[lat, lon, lev]**2)))) ** 2\n",
    "                # *************************************************************\n",
    "                # dEvertz\n",
    "                eqJH7 = (1000*(Ne_TIEGCM[lat, lon, lev] * CubicCm2CubicM)*q_e*(Bx_IGRF[lat, lon, lev]*Omega_Op_TIEGCM[lat, lon, lev]**2*(Bx_IGRF[lat, lon, lev]*(-Bx_IGRF[lat, lon, lev]*Un_y_TIEGCM[lat, lon, lev]/bnorm[lat, lon, lev] + By_IGRF[lat, lon, lev]*Un_x_TIEGCM[lat, lon, lev]/bnorm[lat, lon, lev]) - Bz_IGRF[lat, lon, lev]*(-By_IGRF[lat, lon, lev]*Un_z_TIEGCM[lat, lon, lev]/bnorm[lat, lon, lev] + Bz_IGRF[lat, lon, lev]*Un_y_TIEGCM[lat, lon, lev]/bnorm[lat, lon, lev]) + Everty[lat, lon, lev])/(bnorm[lat, lon, lev]**2*(Omega_Op_TIEGCM[lat, lon, lev]**2 + nu_Op_TIEGCM[lat, lon, lev]**2)) - By_IGRF[lat, lon, lev]*Omega_Op_TIEGCM[lat, lon, lev]**2*(-By_IGRF[lat, lon, lev]*(-Bx_IGRF[lat, lon, lev]*Un_y_TIEGCM[lat, lon, lev]/bnorm[lat, lon, lev] + By_IGRF[lat, lon, lev]*Un_x_TIEGCM[lat, lon, lev]/bnorm[lat, lon, lev]) + Bz_IGRF[lat, lon, lev]*(Bx_IGRF[lat, lon, lev]*Un_z_TIEGCM[lat, lon, lev]/bnorm[lat, lon, lev] - Bz_IGRF[lat, lon, lev]*Un_x_TIEGCM[lat, lon, lev]/bnorm[lat, lon, lev]) + Evertx[lat, lon, lev])/(bnorm[lat, lon, lev]**2*(Omega_Op_TIEGCM[lat, lon, lev]**2 + nu_Op_TIEGCM[lat, lon, lev]**2)) + Omega_Op_TIEGCM[lat, lon, lev]*nu_Op_TIEGCM[lat, lon, lev]*(-Bx_IGRF[lat, lon, lev]*(Bx_IGRF[lat, lon, lev]*Un_z_TIEGCM[lat, lon, lev]/bnorm[lat, lon, lev] - Bz_IGRF[lat, lon, lev]*Un_x_TIEGCM[lat, lon, lev]/bnorm[lat, lon, lev]) + By_IGRF[lat, lon, lev]*(-By_IGRF[lat, lon, lev]*Un_z_TIEGCM[lat, lon, lev]/bnorm[lat, lon, lev] + Bz_IGRF[lat, lon, lev]*Un_y_TIEGCM[lat, lon, lev]/bnorm[lat, lon, lev]) + Evertz[lat, lon, lev])/(bnorm[lat, lon, lev]*(Omega_Op_TIEGCM[lat, lon, lev]**2 + nu_Op_TIEGCM[lat, lon, lev]**2)) + (Omega_Op_TIEGCM[lat, lon, lev]**2*(-Bx_IGRF[lat, lon, lev]*(Bx_IGRF[lat, lon, lev]*(-Bx_IGRF[lat, lon, lev]*Un_y_TIEGCM[lat, lon, lev]/bnorm[lat, lon, lev] + By_IGRF[lat, lon, lev]*Un_x_TIEGCM[lat, lon, lev]/bnorm[lat, lon, lev]) - Bz_IGRF[lat, lon, lev]*(-By_IGRF[lat, lon, lev]*Un_z_TIEGCM[lat, lon, lev]/bnorm[lat, lon, lev] + Bz_IGRF[lat, lon, lev]*Un_y_TIEGCM[lat, lon, lev]/bnorm[lat, lon, lev]) + Everty[lat, lon, lev])/bnorm[lat, lon, lev] + By_IGRF[lat, lon, lev]*(-By_IGRF[lat, lon, lev]*(-Bx_IGRF[lat, lon, lev]*Un_y_TIEGCM[lat, lon, lev]/bnorm[lat, lon, lev] + By_IGRF[lat, lon, lev]*Un_x_TIEGCM[lat, lon, lev]/bnorm[lat, lon, lev]) + Bz_IGRF[lat, lon, lev]*(Bx_IGRF[lat, lon, lev]*Un_z_TIEGCM[lat, lon, lev]/bnorm[lat, lon, lev] - Bz_IGRF[lat, lon, lev]*Un_x_TIEGCM[lat, lon, lev]/bnorm[lat, lon, lev]) + Evertx[lat, lon, lev])/bnorm[lat, lon, lev]) + Omega_Op_TIEGCM[lat, lon, lev]*nu_Op_TIEGCM[lat, lon, lev]*(-Bx_IGRF[lat, lon, lev]*(Bx_IGRF[lat, lon, lev]*Un_z_TIEGCM[lat, lon, lev]/bnorm[lat, lon, lev] - Bz_IGRF[lat, lon, lev]*Un_x_TIEGCM[lat, lon, lev]/bnorm[lat, lon, lev]) + By_IGRF[lat, lon, lev]*(-By_IGRF[lat, lon, lev]*Un_z_TIEGCM[lat, lon, lev]/bnorm[lat, lon, lev] + Bz_IGRF[lat, lon, lev]*Un_y_TIEGCM[lat, lon, lev]/bnorm[lat, lon, lev]) + Evertz[lat, lon, lev]))/(bnorm[lat, lon, lev]*(Omega_Op_TIEGCM[lat, lon, lev]**2 + nu_Op_TIEGCM[lat, lon, lev]**2)))) ** 2\n",
    "                # *************************************************************\n",
    "                # dBx\n",
    "                eqJH8 = (1000*(Ne_TIEGCM[lat, lon, lev] * CubicCm2CubicM)*q_e*((Omega_Op_TIEGCM[lat, lon, lev]**2*(-Bx_IGRF[lat, lon, lev]*(Bx_IGRF[lat, lon, lev]*(-Bx_IGRF[lat, lon, lev]*Un_y_TIEGCM[lat, lon, lev]/bnorm[lat, lon, lev] + By_IGRF[lat, lon, lev]*Un_x_TIEGCM[lat, lon, lev]/bnorm[lat, lon, lev]) - Bz_IGRF[lat, lon, lev]*(-By_IGRF[lat, lon, lev]*Un_z_TIEGCM[lat, lon, lev]/bnorm[lat, lon, lev] + Bz_IGRF[lat, lon, lev]*Un_y_TIEGCM[lat, lon, lev]/bnorm[lat, lon, lev]) + Everty[lat, lon, lev])/bnorm[lat, lon, lev] + By_IGRF[lat, lon, lev]*(-By_IGRF[lat, lon, lev]*(-Bx_IGRF[lat, lon, lev]*Un_y_TIEGCM[lat, lon, lev]/bnorm[lat, lon, lev] + By_IGRF[lat, lon, lev]*Un_x_TIEGCM[lat, lon, lev]/bnorm[lat, lon, lev]) + Bz_IGRF[lat, lon, lev]*(Bx_IGRF[lat, lon, lev]*Un_z_TIEGCM[lat, lon, lev]/bnorm[lat, lon, lev] - Bz_IGRF[lat, lon, lev]*Un_x_TIEGCM[lat, lon, lev]/bnorm[lat, lon, lev]) + Evertx[lat, lon, lev])/bnorm[lat, lon, lev]) + Omega_Op_TIEGCM[lat, lon, lev]*nu_Op_TIEGCM[lat, lon, lev]*(-Bx_IGRF[lat, lon, lev]*(Bx_IGRF[lat, lon, lev]*Un_z_TIEGCM[lat, lon, lev]/bnorm[lat, lon, lev] - Bz_IGRF[lat, lon, lev]*Un_x_TIEGCM[lat, lon, lev]/bnorm[lat, lon, lev]) + By_IGRF[lat, lon, lev]*(-By_IGRF[lat, lon, lev]*Un_z_TIEGCM[lat, lon, lev]/bnorm[lat, lon, lev] + Bz_IGRF[lat, lon, lev]*Un_y_TIEGCM[lat, lon, lev]/bnorm[lat, lon, lev]) + Evertz[lat, lon, lev]))*(-2*Bx_IGRF[lat, lon, lev]*Un_z_TIEGCM[lat, lon, lev]/bnorm[lat, lon, lev] + Bz_IGRF[lat, lon, lev]*Un_x_TIEGCM[lat, lon, lev]/bnorm[lat, lon, lev])/(bnorm[lat, lon, lev]*(Omega_Op_TIEGCM[lat, lon, lev]**2 + nu_Op_TIEGCM[lat, lon, lev]**2)) + (Omega_Op_TIEGCM[lat, lon, lev]**2*(Bx_IGRF[lat, lon, lev]*(-Bx_IGRF[lat, lon, lev]*(Bx_IGRF[lat, lon, lev]*Un_z_TIEGCM[lat, lon, lev]/bnorm[lat, lon, lev] - Bz_IGRF[lat, lon, lev]*Un_x_TIEGCM[lat, lon, lev]/bnorm[lat, lon, lev]) + By_IGRF[lat, lon, lev]*(-By_IGRF[lat, lon, lev]*Un_z_TIEGCM[lat, lon, lev]/bnorm[lat, lon, lev] + Bz_IGRF[lat, lon, lev]*Un_y_TIEGCM[lat, lon, lev]/bnorm[lat, lon, lev]) + Evertz[lat, lon, lev])/bnorm[lat, lon, lev] - Bz_IGRF[lat, lon, lev]*(-By_IGRF[lat, lon, lev]*(-Bx_IGRF[lat, lon, lev]*Un_y_TIEGCM[lat, lon, lev]/bnorm[lat, lon, lev] + By_IGRF[lat, lon, lev]*Un_x_TIEGCM[lat, lon, lev]/bnorm[lat, lon, lev]) + Bz_IGRF[lat, lon, lev]*(Bx_IGRF[lat, lon, lev]*Un_z_TIEGCM[lat, lon, lev]/bnorm[lat, lon, lev] - Bz_IGRF[lat, lon, lev]*Un_x_TIEGCM[lat, lon, lev]/bnorm[lat, lon, lev]) + Evertx[lat, lon, lev])/bnorm[lat, lon, lev]) + Omega_Op_TIEGCM[lat, lon, lev]*nu_Op_TIEGCM[lat, lon, lev]*(Bx_IGRF[lat, lon, lev]*(-Bx_IGRF[lat, lon, lev]*Un_y_TIEGCM[lat, lon, lev]/bnorm[lat, lon, lev] + By_IGRF[lat, lon, lev]*Un_x_TIEGCM[lat, lon, lev]/bnorm[lat, lon, lev]) - Bz_IGRF[lat, lon, lev]*(-By_IGRF[lat, lon, lev]*Un_z_TIEGCM[lat, lon, lev]/bnorm[lat, lon, lev] + Bz_IGRF[lat, lon, lev]*Un_y_TIEGCM[lat, lon, lev]/bnorm[lat, lon, lev]) + Everty[lat, lon, lev]))*(-2*Bx_IGRF[lat, lon, lev]*Un_y_TIEGCM[lat, lon, lev]/bnorm[lat, lon, lev] + By_IGRF[lat, lon, lev]*Un_x_TIEGCM[lat, lon, lev]/bnorm[lat, lon, lev])/(bnorm[lat, lon, lev]*(Omega_Op_TIEGCM[lat, lon, lev]**2 + nu_Op_TIEGCM[lat, lon, lev]**2)) + (Omega_Op_TIEGCM[lat, lon, lev]**2*(-By_IGRF[lat, lon, lev]*(-2*Bx_IGRF[lat, lon, lev]*Un_z_TIEGCM[lat, lon, lev]/bnorm[lat, lon, lev] + Bz_IGRF[lat, lon, lev]*Un_x_TIEGCM[lat, lon, lev]/bnorm[lat, lon, lev])/bnorm[lat, lon, lev] + Bz_IGRF[lat, lon, lev]*(-2*Bx_IGRF[lat, lon, lev]*Un_y_TIEGCM[lat, lon, lev]/bnorm[lat, lon, lev] + By_IGRF[lat, lon, lev]*Un_x_TIEGCM[lat, lon, lev]/bnorm[lat, lon, lev])/bnorm[lat, lon, lev]) + Omega_Op_TIEGCM[lat, lon, lev]*nu_Op_TIEGCM[lat, lon, lev]*(By_IGRF[lat, lon, lev]*Un_y_TIEGCM[lat, lon, lev]/bnorm[lat, lon, lev] + Bz_IGRF[lat, lon, lev]*Un_z_TIEGCM[lat, lon, lev]/bnorm[lat, lon, lev]))*(-By_IGRF[lat, lon, lev]*(-Bx_IGRF[lat, lon, lev]*Un_y_TIEGCM[lat, lon, lev]/bnorm[lat, lon, lev] + By_IGRF[lat, lon, lev]*Un_x_TIEGCM[lat, lon, lev]/bnorm[lat, lon, lev]) + Bz_IGRF[lat, lon, lev]*(Bx_IGRF[lat, lon, lev]*Un_z_TIEGCM[lat, lon, lev]/bnorm[lat, lon, lev] - Bz_IGRF[lat, lon, lev]*Un_x_TIEGCM[lat, lon, lev]/bnorm[lat, lon, lev]) + Evertx[lat, lon, lev])/(bnorm[lat, lon, lev]*(Omega_Op_TIEGCM[lat, lon, lev]**2 + nu_Op_TIEGCM[lat, lon, lev]**2)) + (Omega_Op_TIEGCM[lat, lon, lev]**2*(-By_IGRF[lat, lon, lev]*(-Bx_IGRF[lat, lon, lev]*(Bx_IGRF[lat, lon, lev]*Un_z_TIEGCM[lat, lon, lev]/bnorm[lat, lon, lev] - Bz_IGRF[lat, lon, lev]*Un_x_TIEGCM[lat, lon, lev]/bnorm[lat, lon, lev]) + By_IGRF[lat, lon, lev]*(-By_IGRF[lat, lon, lev]*Un_z_TIEGCM[lat, lon, lev]/bnorm[lat, lon, lev] + Bz_IGRF[lat, lon, lev]*Un_y_TIEGCM[lat, lon, lev]/bnorm[lat, lon, lev]) + Evertz[lat, lon, lev])/bnorm[lat, lon, lev] + Bz_IGRF[lat, lon, lev]*(Bx_IGRF[lat, lon, lev]*(-Bx_IGRF[lat, lon, lev]*Un_y_TIEGCM[lat, lon, lev]/bnorm[lat, lon, lev] + By_IGRF[lat, lon, lev]*Un_x_TIEGCM[lat, lon, lev]/bnorm[lat, lon, lev]) - Bz_IGRF[lat, lon, lev]*(-By_IGRF[lat, lon, lev]*Un_z_TIEGCM[lat, lon, lev]/bnorm[lat, lon, lev] + Bz_IGRF[lat, lon, lev]*Un_y_TIEGCM[lat, lon, lev]/bnorm[lat, lon, lev]) + Everty[lat, lon, lev])/bnorm[lat, lon, lev]) + Omega_Op_TIEGCM[lat, lon, lev]*nu_Op_TIEGCM[lat, lon, lev]*(-By_IGRF[lat, lon, lev]*(-Bx_IGRF[lat, lon, lev]*Un_y_TIEGCM[lat, lon, lev]/bnorm[lat, lon, lev] + By_IGRF[lat, lon, lev]*Un_x_TIEGCM[lat, lon, lev]/bnorm[lat, lon, lev]) + Bz_IGRF[lat, lon, lev]*(Bx_IGRF[lat, lon, lev]*Un_z_TIEGCM[lat, lon, lev]/bnorm[lat, lon, lev] - Bz_IGRF[lat, lon, lev]*Un_x_TIEGCM[lat, lon, lev]/bnorm[lat, lon, lev]) + Evertx[lat, lon, lev]))*(By_IGRF[lat, lon, lev]*Un_y_TIEGCM[lat, lon, lev]/bnorm[lat, lon, lev] + Bz_IGRF[lat, lon, lev]*Un_z_TIEGCM[lat, lon, lev]/bnorm[lat, lon, lev])/(bnorm[lat, lon, lev]*(Omega_Op_TIEGCM[lat, lon, lev]**2 + nu_Op_TIEGCM[lat, lon, lev]**2)) + (Omega_Op_TIEGCM[lat, lon, lev]**2*(-Bx_IGRF[lat, lon, lev]*(-2*Bx_IGRF[lat, lon, lev]*Un_y_TIEGCM[lat, lon, lev]/bnorm[lat, lon, lev] + By_IGRF[lat, lon, lev]*Un_x_TIEGCM[lat, lon, lev]/bnorm[lat, lon, lev])/bnorm[lat, lon, lev] + By_IGRF[lat, lon, lev]*(By_IGRF[lat, lon, lev]*Un_y_TIEGCM[lat, lon, lev]/bnorm[lat, lon, lev] + Bz_IGRF[lat, lon, lev]*Un_z_TIEGCM[lat, lon, lev]/bnorm[lat, lon, lev])/bnorm[lat, lon, lev] - (Bx_IGRF[lat, lon, lev]*(-Bx_IGRF[lat, lon, lev]*Un_y_TIEGCM[lat, lon, lev]/bnorm[lat, lon, lev] + By_IGRF[lat, lon, lev]*Un_x_TIEGCM[lat, lon, lev]/bnorm[lat, lon, lev]) - Bz_IGRF[lat, lon, lev]*(-By_IGRF[lat, lon, lev]*Un_z_TIEGCM[lat, lon, lev]/bnorm[lat, lon, lev] + Bz_IGRF[lat, lon, lev]*Un_y_TIEGCM[lat, lon, lev]/bnorm[lat, lon, lev]) + Everty[lat, lon, lev])/bnorm[lat, lon, lev]) + Omega_Op_TIEGCM[lat, lon, lev]*nu_Op_TIEGCM[lat, lon, lev]*(-2*Bx_IGRF[lat, lon, lev]*Un_z_TIEGCM[lat, lon, lev]/bnorm[lat, lon, lev] + Bz_IGRF[lat, lon, lev]*Un_x_TIEGCM[lat, lon, lev]/bnorm[lat, lon, lev]))*(-Bx_IGRF[lat, lon, lev]*(Bx_IGRF[lat, lon, lev]*Un_z_TIEGCM[lat, lon, lev]/bnorm[lat, lon, lev] - Bz_IGRF[lat, lon, lev]*Un_x_TIEGCM[lat, lon, lev]/bnorm[lat, lon, lev]) + By_IGRF[lat, lon, lev]*(-By_IGRF[lat, lon, lev]*Un_z_TIEGCM[lat, lon, lev]/bnorm[lat, lon, lev] + Bz_IGRF[lat, lon, lev]*Un_y_TIEGCM[lat, lon, lev]/bnorm[lat, lon, lev]) + Evertz[lat, lon, lev])/(bnorm[lat, lon, lev]*(Omega_Op_TIEGCM[lat, lon, lev]**2 + nu_Op_TIEGCM[lat, lon, lev]**2)) + (Omega_Op_TIEGCM[lat, lon, lev]**2*(Bx_IGRF[lat, lon, lev]*(-2*Bx_IGRF[lat, lon, lev]*Un_z_TIEGCM[lat, lon, lev]/bnorm[lat, lon, lev] + Bz_IGRF[lat, lon, lev]*Un_x_TIEGCM[lat, lon, lev]/bnorm[lat, lon, lev])/bnorm[lat, lon, lev] - Bz_IGRF[lat, lon, lev]*(By_IGRF[lat, lon, lev]*Un_y_TIEGCM[lat, lon, lev]/bnorm[lat, lon, lev] + Bz_IGRF[lat, lon, lev]*Un_z_TIEGCM[lat, lon, lev]/bnorm[lat, lon, lev])/bnorm[lat, lon, lev] + (-Bx_IGRF[lat, lon, lev]*(Bx_IGRF[lat, lon, lev]*Un_z_TIEGCM[lat, lon, lev]/bnorm[lat, lon, lev] - Bz_IGRF[lat, lon, lev]*Un_x_TIEGCM[lat, lon, lev]/bnorm[lat, lon, lev]) + By_IGRF[lat, lon, lev]*(-By_IGRF[lat, lon, lev]*Un_z_TIEGCM[lat, lon, lev]/bnorm[lat, lon, lev] + Bz_IGRF[lat, lon, lev]*Un_y_TIEGCM[lat, lon, lev]/bnorm[lat, lon, lev]) + Evertz[lat, lon, lev])/bnorm[lat, lon, lev]) + Omega_Op_TIEGCM[lat, lon, lev]*nu_Op_TIEGCM[lat, lon, lev]*(-2*Bx_IGRF[lat, lon, lev]*Un_y_TIEGCM[lat, lon, lev]/bnorm[lat, lon, lev] + By_IGRF[lat, lon, lev]*Un_x_TIEGCM[lat, lon, lev]/bnorm[lat, lon, lev]))*(Bx_IGRF[lat, lon, lev]*(-Bx_IGRF[lat, lon, lev]*Un_y_TIEGCM[lat, lon, lev]/bnorm[lat, lon, lev] + By_IGRF[lat, lon, lev]*Un_x_TIEGCM[lat, lon, lev]/bnorm[lat, lon, lev]) - Bz_IGRF[lat, lon, lev]*(-By_IGRF[lat, lon, lev]*Un_z_TIEGCM[lat, lon, lev]/bnorm[lat, lon, lev] + Bz_IGRF[lat, lon, lev]*Un_y_TIEGCM[lat, lon, lev]/bnorm[lat, lon, lev]) + Everty[lat, lon, lev])/(bnorm[lat, lon, lev]*(Omega_Op_TIEGCM[lat, lon, lev]**2 + nu_Op_TIEGCM[lat, lon, lev]**2)))) ** 2\n",
    "                # *************************************************************\n",
    "                # dBy\n",
    "                eqJH9 = (1000*(Ne_TIEGCM[lat, lon, lev] * CubicCm2CubicM)*q_e*((Omega_Op_TIEGCM[lat, lon, lev]**2*(Bx_IGRF[lat, lon, lev]*(-2*By_IGRF[lat, lon, lev]*Un_z_TIEGCM[lat, lon, lev]/bnorm[lat, lon, lev] + Bz_IGRF[lat, lon, lev]*Un_y_TIEGCM[lat, lon, lev]/bnorm[lat, lon, lev])/bnorm[lat, lon, lev] - Bz_IGRF[lat, lon, lev]*(Bx_IGRF[lat, lon, lev]*Un_y_TIEGCM[lat, lon, lev]/bnorm[lat, lon, lev] - 2*By_IGRF[lat, lon, lev]*Un_x_TIEGCM[lat, lon, lev]/bnorm[lat, lon, lev])/bnorm[lat, lon, lev]) + Omega_Op_TIEGCM[lat, lon, lev]*nu_Op_TIEGCM[lat, lon, lev]*(Bx_IGRF[lat, lon, lev]*Un_x_TIEGCM[lat, lon, lev]/bnorm[lat, lon, lev] + Bz_IGRF[lat, lon, lev]*Un_z_TIEGCM[lat, lon, lev]/bnorm[lat, lon, lev]))*(Bx_IGRF[lat, lon, lev]*(-Bx_IGRF[lat, lon, lev]*Un_y_TIEGCM[lat, lon, lev]/bnorm[lat, lon, lev] + By_IGRF[lat, lon, lev]*Un_x_TIEGCM[lat, lon, lev]/bnorm[lat, lon, lev]) - Bz_IGRF[lat, lon, lev]*(-By_IGRF[lat, lon, lev]*Un_z_TIEGCM[lat, lon, lev]/bnorm[lat, lon, lev] + Bz_IGRF[lat, lon, lev]*Un_y_TIEGCM[lat, lon, lev]/bnorm[lat, lon, lev]) + Everty[lat, lon, lev])/(bnorm[lat, lon, lev]*(Omega_Op_TIEGCM[lat, lon, lev]**2 + nu_Op_TIEGCM[lat, lon, lev]**2)) + (Omega_Op_TIEGCM[lat, lon, lev]**2*(-Bx_IGRF[lat, lon, lev]*(Bx_IGRF[lat, lon, lev]*(-Bx_IGRF[lat, lon, lev]*Un_y_TIEGCM[lat, lon, lev]/bnorm[lat, lon, lev] + By_IGRF[lat, lon, lev]*Un_x_TIEGCM[lat, lon, lev]/bnorm[lat, lon, lev]) - Bz_IGRF[lat, lon, lev]*(-By_IGRF[lat, lon, lev]*Un_z_TIEGCM[lat, lon, lev]/bnorm[lat, lon, lev] + Bz_IGRF[lat, lon, lev]*Un_y_TIEGCM[lat, lon, lev]/bnorm[lat, lon, lev]) + Everty[lat, lon, lev])/bnorm[lat, lon, lev] + By_IGRF[lat, lon, lev]*(-By_IGRF[lat, lon, lev]*(-Bx_IGRF[lat, lon, lev]*Un_y_TIEGCM[lat, lon, lev]/bnorm[lat, lon, lev] + By_IGRF[lat, lon, lev]*Un_x_TIEGCM[lat, lon, lev]/bnorm[lat, lon, lev]) + Bz_IGRF[lat, lon, lev]*(Bx_IGRF[lat, lon, lev]*Un_z_TIEGCM[lat, lon, lev]/bnorm[lat, lon, lev] - Bz_IGRF[lat, lon, lev]*Un_x_TIEGCM[lat, lon, lev]/bnorm[lat, lon, lev]) + Evertx[lat, lon, lev])/bnorm[lat, lon, lev]) + Omega_Op_TIEGCM[lat, lon, lev]*nu_Op_TIEGCM[lat, lon, lev]*(-Bx_IGRF[lat, lon, lev]*(Bx_IGRF[lat, lon, lev]*Un_z_TIEGCM[lat, lon, lev]/bnorm[lat, lon, lev] - Bz_IGRF[lat, lon, lev]*Un_x_TIEGCM[lat, lon, lev]/bnorm[lat, lon, lev]) + By_IGRF[lat, lon, lev]*(-By_IGRF[lat, lon, lev]*Un_z_TIEGCM[lat, lon, lev]/bnorm[lat, lon, lev] + Bz_IGRF[lat, lon, lev]*Un_y_TIEGCM[lat, lon, lev]/bnorm[lat, lon, lev]) + Evertz[lat, lon, lev]))*(-2*By_IGRF[lat, lon, lev]*Un_z_TIEGCM[lat, lon, lev]/bnorm[lat, lon, lev] + Bz_IGRF[lat, lon, lev]*Un_y_TIEGCM[lat, lon, lev]/bnorm[lat, lon, lev])/(bnorm[lat, lon, lev]*(Omega_Op_TIEGCM[lat, lon, lev]**2 + nu_Op_TIEGCM[lat, lon, lev]**2)) + (Omega_Op_TIEGCM[lat, lon, lev]**2*(Bx_IGRF[lat, lon, lev]*(-Bx_IGRF[lat, lon, lev]*(Bx_IGRF[lat, lon, lev]*Un_z_TIEGCM[lat, lon, lev]/bnorm[lat, lon, lev] - Bz_IGRF[lat, lon, lev]*Un_x_TIEGCM[lat, lon, lev]/bnorm[lat, lon, lev]) + By_IGRF[lat, lon, lev]*(-By_IGRF[lat, lon, lev]*Un_z_TIEGCM[lat, lon, lev]/bnorm[lat, lon, lev] + Bz_IGRF[lat, lon, lev]*Un_y_TIEGCM[lat, lon, lev]/bnorm[lat, lon, lev]) + Evertz[lat, lon, lev])/bnorm[lat, lon, lev] - Bz_IGRF[lat, lon, lev]*(-By_IGRF[lat, lon, lev]*(-Bx_IGRF[lat, lon, lev]*Un_y_TIEGCM[lat, lon, lev]/bnorm[lat, lon, lev] + By_IGRF[lat, lon, lev]*Un_x_TIEGCM[lat, lon, lev]/bnorm[lat, lon, lev]) + Bz_IGRF[lat, lon, lev]*(Bx_IGRF[lat, lon, lev]*Un_z_TIEGCM[lat, lon, lev]/bnorm[lat, lon, lev] - Bz_IGRF[lat, lon, lev]*Un_x_TIEGCM[lat, lon, lev]/bnorm[lat, lon, lev]) + Evertx[lat, lon, lev])/bnorm[lat, lon, lev]) + Omega_Op_TIEGCM[lat, lon, lev]*nu_Op_TIEGCM[lat, lon, lev]*(Bx_IGRF[lat, lon, lev]*(-Bx_IGRF[lat, lon, lev]*Un_y_TIEGCM[lat, lon, lev]/bnorm[lat, lon, lev] + By_IGRF[lat, lon, lev]*Un_x_TIEGCM[lat, lon, lev]/bnorm[lat, lon, lev]) - Bz_IGRF[lat, lon, lev]*(-By_IGRF[lat, lon, lev]*Un_z_TIEGCM[lat, lon, lev]/bnorm[lat, lon, lev] + Bz_IGRF[lat, lon, lev]*Un_y_TIEGCM[lat, lon, lev]/bnorm[lat, lon, lev]) + Everty[lat, lon, lev]))*(Bx_IGRF[lat, lon, lev]*Un_x_TIEGCM[lat, lon, lev]/bnorm[lat, lon, lev] + Bz_IGRF[lat, lon, lev]*Un_z_TIEGCM[lat, lon, lev]/bnorm[lat, lon, lev])/(bnorm[lat, lon, lev]*(Omega_Op_TIEGCM[lat, lon, lev]**2 + nu_Op_TIEGCM[lat, lon, lev]**2)) + (Omega_Op_TIEGCM[lat, lon, lev]**2*(-By_IGRF[lat, lon, lev]*(-Bx_IGRF[lat, lon, lev]*(Bx_IGRF[lat, lon, lev]*Un_z_TIEGCM[lat, lon, lev]/bnorm[lat, lon, lev] - Bz_IGRF[lat, lon, lev]*Un_x_TIEGCM[lat, lon, lev]/bnorm[lat, lon, lev]) + By_IGRF[lat, lon, lev]*(-By_IGRF[lat, lon, lev]*Un_z_TIEGCM[lat, lon, lev]/bnorm[lat, lon, lev] + Bz_IGRF[lat, lon, lev]*Un_y_TIEGCM[lat, lon, lev]/bnorm[lat, lon, lev]) + Evertz[lat, lon, lev])/bnorm[lat, lon, lev] + Bz_IGRF[lat, lon, lev]*(Bx_IGRF[lat, lon, lev]*(-Bx_IGRF[lat, lon, lev]*Un_y_TIEGCM[lat, lon, lev]/bnorm[lat, lon, lev] + By_IGRF[lat, lon, lev]*Un_x_TIEGCM[lat, lon, lev]/bnorm[lat, lon, lev]) - Bz_IGRF[lat, lon, lev]*(-By_IGRF[lat, lon, lev]*Un_z_TIEGCM[lat, lon, lev]/bnorm[lat, lon, lev] + Bz_IGRF[lat, lon, lev]*Un_y_TIEGCM[lat, lon, lev]/bnorm[lat, lon, lev]) + Everty[lat, lon, lev])/bnorm[lat, lon, lev]) + Omega_Op_TIEGCM[lat, lon, lev]*nu_Op_TIEGCM[lat, lon, lev]*(-By_IGRF[lat, lon, lev]*(-Bx_IGRF[lat, lon, lev]*Un_y_TIEGCM[lat, lon, lev]/bnorm[lat, lon, lev] + By_IGRF[lat, lon, lev]*Un_x_TIEGCM[lat, lon, lev]/bnorm[lat, lon, lev]) + Bz_IGRF[lat, lon, lev]*(Bx_IGRF[lat, lon, lev]*Un_z_TIEGCM[lat, lon, lev]/bnorm[lat, lon, lev] - Bz_IGRF[lat, lon, lev]*Un_x_TIEGCM[lat, lon, lev]/bnorm[lat, lon, lev]) + Evertx[lat, lon, lev]))*(Bx_IGRF[lat, lon, lev]*Un_y_TIEGCM[lat, lon, lev]/bnorm[lat, lon, lev] - 2*By_IGRF[lat, lon, lev]*Un_x_TIEGCM[lat, lon, lev]/bnorm[lat, lon, lev])/(bnorm[lat, lon, lev]*(Omega_Op_TIEGCM[lat, lon, lev]**2 + nu_Op_TIEGCM[lat, lon, lev]**2)) + (Omega_Op_TIEGCM[lat, lon, lev]**2*(-Bx_IGRF[lat, lon, lev]*(Bx_IGRF[lat, lon, lev]*Un_x_TIEGCM[lat, lon, lev]/bnorm[lat, lon, lev] + Bz_IGRF[lat, lon, lev]*Un_z_TIEGCM[lat, lon, lev]/bnorm[lat, lon, lev])/bnorm[lat, lon, lev] + By_IGRF[lat, lon, lev]*(Bx_IGRF[lat, lon, lev]*Un_y_TIEGCM[lat, lon, lev]/bnorm[lat, lon, lev] - 2*By_IGRF[lat, lon, lev]*Un_x_TIEGCM[lat, lon, lev]/bnorm[lat, lon, lev])/bnorm[lat, lon, lev] + (-By_IGRF[lat, lon, lev]*(-Bx_IGRF[lat, lon, lev]*Un_y_TIEGCM[lat, lon, lev]/bnorm[lat, lon, lev] + By_IGRF[lat, lon, lev]*Un_x_TIEGCM[lat, lon, lev]/bnorm[lat, lon, lev]) + Bz_IGRF[lat, lon, lev]*(Bx_IGRF[lat, lon, lev]*Un_z_TIEGCM[lat, lon, lev]/bnorm[lat, lon, lev] - Bz_IGRF[lat, lon, lev]*Un_x_TIEGCM[lat, lon, lev]/bnorm[lat, lon, lev]) + Evertx[lat, lon, lev])/bnorm[lat, lon, lev]) + Omega_Op_TIEGCM[lat, lon, lev]*nu_Op_TIEGCM[lat, lon, lev]*(-2*By_IGRF[lat, lon, lev]*Un_z_TIEGCM[lat, lon, lev]/bnorm[lat, lon, lev] + Bz_IGRF[lat, lon, lev]*Un_y_TIEGCM[lat, lon, lev]/bnorm[lat, lon, lev]))*(-Bx_IGRF[lat, lon, lev]*(Bx_IGRF[lat, lon, lev]*Un_z_TIEGCM[lat, lon, lev]/bnorm[lat, lon, lev] - Bz_IGRF[lat, lon, lev]*Un_x_TIEGCM[lat, lon, lev]/bnorm[lat, lon, lev]) + By_IGRF[lat, lon, lev]*(-By_IGRF[lat, lon, lev]*Un_z_TIEGCM[lat, lon, lev]/bnorm[lat, lon, lev] + Bz_IGRF[lat, lon, lev]*Un_y_TIEGCM[lat, lon, lev]/bnorm[lat, lon, lev]) + Evertz[lat, lon, lev])/(bnorm[lat, lon, lev]*(Omega_Op_TIEGCM[lat, lon, lev]**2 + nu_Op_TIEGCM[lat, lon, lev]**2)) + (Omega_Op_TIEGCM[lat, lon, lev]**2*(-By_IGRF[lat, lon, lev]*(-2*By_IGRF[lat, lon, lev]*Un_z_TIEGCM[lat, lon, lev]/bnorm[lat, lon, lev] + Bz_IGRF[lat, lon, lev]*Un_y_TIEGCM[lat, lon, lev]/bnorm[lat, lon, lev])/bnorm[lat, lon, lev] + Bz_IGRF[lat, lon, lev]*(Bx_IGRF[lat, lon, lev]*Un_x_TIEGCM[lat, lon, lev]/bnorm[lat, lon, lev] + Bz_IGRF[lat, lon, lev]*Un_z_TIEGCM[lat, lon, lev]/bnorm[lat, lon, lev])/bnorm[lat, lon, lev] - (-Bx_IGRF[lat, lon, lev]*(Bx_IGRF[lat, lon, lev]*Un_z_TIEGCM[lat, lon, lev]/bnorm[lat, lon, lev] - Bz_IGRF[lat, lon, lev]*Un_x_TIEGCM[lat, lon, lev]/bnorm[lat, lon, lev]) + By_IGRF[lat, lon, lev]*(-By_IGRF[lat, lon, lev]*Un_z_TIEGCM[lat, lon, lev]/bnorm[lat, lon, lev] + Bz_IGRF[lat, lon, lev]*Un_y_TIEGCM[lat, lon, lev]/bnorm[lat, lon, lev]) + Evertz[lat, lon, lev])/bnorm[lat, lon, lev]) + Omega_Op_TIEGCM[lat, lon, lev]*nu_Op_TIEGCM[lat, lon, lev]*(Bx_IGRF[lat, lon, lev]*Un_y_TIEGCM[lat, lon, lev]/bnorm[lat, lon, lev] - 2*By_IGRF[lat, lon, lev]*Un_x_TIEGCM[lat, lon, lev]/bnorm[lat, lon, lev]))*(-By_IGRF[lat, lon, lev]*(-Bx_IGRF[lat, lon, lev]*Un_y_TIEGCM[lat, lon, lev]/bnorm[lat, lon, lev] + By_IGRF[lat, lon, lev]*Un_x_TIEGCM[lat, lon, lev]/bnorm[lat, lon, lev]) + Bz_IGRF[lat, lon, lev]*(Bx_IGRF[lat, lon, lev]*Un_z_TIEGCM[lat, lon, lev]/bnorm[lat, lon, lev] - Bz_IGRF[lat, lon, lev]*Un_x_TIEGCM[lat, lon, lev]/bnorm[lat, lon, lev]) + Evertx[lat, lon, lev])/(bnorm[lat, lon, lev]*(Omega_Op_TIEGCM[lat, lon, lev]**2 + nu_Op_TIEGCM[lat, lon, lev]**2)))) ** 2\n",
    "                # *************************************************************\n",
    "                # dBz\n",
    "                eqJH10 = (1000*(Ne_TIEGCM[lat, lon, lev] * CubicCm2CubicM)*q_e*((Omega_Op_TIEGCM[lat, lon, lev]**2*(-Bx_IGRF[lat, lon, lev]*(By_IGRF[lat, lon, lev]*Un_z_TIEGCM[lat, lon, lev]/bnorm[lat, lon, lev] - 2*Bz_IGRF[lat, lon, lev]*Un_y_TIEGCM[lat, lon, lev]/bnorm[lat, lon, lev])/bnorm[lat, lon, lev] + By_IGRF[lat, lon, lev]*(Bx_IGRF[lat, lon, lev]*Un_z_TIEGCM[lat, lon, lev]/bnorm[lat, lon, lev] - 2*Bz_IGRF[lat, lon, lev]*Un_x_TIEGCM[lat, lon, lev]/bnorm[lat, lon, lev])/bnorm[lat, lon, lev]) + Omega_Op_TIEGCM[lat, lon, lev]*nu_Op_TIEGCM[lat, lon, lev]*(Bx_IGRF[lat, lon, lev]*Un_x_TIEGCM[lat, lon, lev]/bnorm[lat, lon, lev] + By_IGRF[lat, lon, lev]*Un_y_TIEGCM[lat, lon, lev]/bnorm[lat, lon, lev]))*(-Bx_IGRF[lat, lon, lev]*(Bx_IGRF[lat, lon, lev]*Un_z_TIEGCM[lat, lon, lev]/bnorm[lat, lon, lev] - Bz_IGRF[lat, lon, lev]*Un_x_TIEGCM[lat, lon, lev]/bnorm[lat, lon, lev]) + By_IGRF[lat, lon, lev]*(-By_IGRF[lat, lon, lev]*Un_z_TIEGCM[lat, lon, lev]/bnorm[lat, lon, lev] + Bz_IGRF[lat, lon, lev]*Un_y_TIEGCM[lat, lon, lev]/bnorm[lat, lon, lev]) + Evertz[lat, lon, lev])/(bnorm[lat, lon, lev]*(Omega_Op_TIEGCM[lat, lon, lev]**2 + nu_Op_TIEGCM[lat, lon, lev]**2)) + (Omega_Op_TIEGCM[lat, lon, lev]**2*(-Bx_IGRF[lat, lon, lev]*(Bx_IGRF[lat, lon, lev]*(-Bx_IGRF[lat, lon, lev]*Un_y_TIEGCM[lat, lon, lev]/bnorm[lat, lon, lev] + By_IGRF[lat, lon, lev]*Un_x_TIEGCM[lat, lon, lev]/bnorm[lat, lon, lev]) - Bz_IGRF[lat, lon, lev]*(-By_IGRF[lat, lon, lev]*Un_z_TIEGCM[lat, lon, lev]/bnorm[lat, lon, lev] + Bz_IGRF[lat, lon, lev]*Un_y_TIEGCM[lat, lon, lev]/bnorm[lat, lon, lev]) + Everty[lat, lon, lev])/bnorm[lat, lon, lev] + By_IGRF[lat, lon, lev]*(-By_IGRF[lat, lon, lev]*(-Bx_IGRF[lat, lon, lev]*Un_y_TIEGCM[lat, lon, lev]/bnorm[lat, lon, lev] + By_IGRF[lat, lon, lev]*Un_x_TIEGCM[lat, lon, lev]/bnorm[lat, lon, lev]) + Bz_IGRF[lat, lon, lev]*(Bx_IGRF[lat, lon, lev]*Un_z_TIEGCM[lat, lon, lev]/bnorm[lat, lon, lev] - Bz_IGRF[lat, lon, lev]*Un_x_TIEGCM[lat, lon, lev]/bnorm[lat, lon, lev]) + Evertx[lat, lon, lev])/bnorm[lat, lon, lev]) + Omega_Op_TIEGCM[lat, lon, lev]*nu_Op_TIEGCM[lat, lon, lev]*(-Bx_IGRF[lat, lon, lev]*(Bx_IGRF[lat, lon, lev]*Un_z_TIEGCM[lat, lon, lev]/bnorm[lat, lon, lev] - Bz_IGRF[lat, lon, lev]*Un_x_TIEGCM[lat, lon, lev]/bnorm[lat, lon, lev]) + By_IGRF[lat, lon, lev]*(-By_IGRF[lat, lon, lev]*Un_z_TIEGCM[lat, lon, lev]/bnorm[lat, lon, lev] + Bz_IGRF[lat, lon, lev]*Un_y_TIEGCM[lat, lon, lev]/bnorm[lat, lon, lev]) + Evertz[lat, lon, lev]))*(Bx_IGRF[lat, lon, lev]*Un_x_TIEGCM[lat, lon, lev]/bnorm[lat, lon, lev] + By_IGRF[lat, lon, lev]*Un_y_TIEGCM[lat, lon, lev]/bnorm[lat, lon, lev])/(bnorm[lat, lon, lev]*(Omega_Op_TIEGCM[lat, lon, lev]**2 + nu_Op_TIEGCM[lat, lon, lev]**2)) + (Omega_Op_TIEGCM[lat, lon, lev]**2*(Bx_IGRF[lat, lon, lev]*(-Bx_IGRF[lat, lon, lev]*(Bx_IGRF[lat, lon, lev]*Un_z_TIEGCM[lat, lon, lev]/bnorm[lat, lon, lev] - Bz_IGRF[lat, lon, lev]*Un_x_TIEGCM[lat, lon, lev]/bnorm[lat, lon, lev]) + By_IGRF[lat, lon, lev]*(-By_IGRF[lat, lon, lev]*Un_z_TIEGCM[lat, lon, lev]/bnorm[lat, lon, lev] + Bz_IGRF[lat, lon, lev]*Un_y_TIEGCM[lat, lon, lev]/bnorm[lat, lon, lev]) + Evertz[lat, lon, lev])/bnorm[lat, lon, lev] - Bz_IGRF[lat, lon, lev]*(-By_IGRF[lat, lon, lev]*(-Bx_IGRF[lat, lon, lev]*Un_y_TIEGCM[lat, lon, lev]/bnorm[lat, lon, lev] + By_IGRF[lat, lon, lev]*Un_x_TIEGCM[lat, lon, lev]/bnorm[lat, lon, lev]) + Bz_IGRF[lat, lon, lev]*(Bx_IGRF[lat, lon, lev]*Un_z_TIEGCM[lat, lon, lev]/bnorm[lat, lon, lev] - Bz_IGRF[lat, lon, lev]*Un_x_TIEGCM[lat, lon, lev]/bnorm[lat, lon, lev]) + Evertx[lat, lon, lev])/bnorm[lat, lon, lev]) + Omega_Op_TIEGCM[lat, lon, lev]*nu_Op_TIEGCM[lat, lon, lev]*(Bx_IGRF[lat, lon, lev]*(-Bx_IGRF[lat, lon, lev]*Un_y_TIEGCM[lat, lon, lev]/bnorm[lat, lon, lev] + By_IGRF[lat, lon, lev]*Un_x_TIEGCM[lat, lon, lev]/bnorm[lat, lon, lev]) - Bz_IGRF[lat, lon, lev]*(-By_IGRF[lat, lon, lev]*Un_z_TIEGCM[lat, lon, lev]/bnorm[lat, lon, lev] + Bz_IGRF[lat, lon, lev]*Un_y_TIEGCM[lat, lon, lev]/bnorm[lat, lon, lev]) + Everty[lat, lon, lev]))*(By_IGRF[lat, lon, lev]*Un_z_TIEGCM[lat, lon, lev]/bnorm[lat, lon, lev] - 2*Bz_IGRF[lat, lon, lev]*Un_y_TIEGCM[lat, lon, lev]/bnorm[lat, lon, lev])/(bnorm[lat, lon, lev]*(Omega_Op_TIEGCM[lat, lon, lev]**2 + nu_Op_TIEGCM[lat, lon, lev]**2)) + (Omega_Op_TIEGCM[lat, lon, lev]**2*(-By_IGRF[lat, lon, lev]*(-Bx_IGRF[lat, lon, lev]*(Bx_IGRF[lat, lon, lev]*Un_z_TIEGCM[lat, lon, lev]/bnorm[lat, lon, lev] - Bz_IGRF[lat, lon, lev]*Un_x_TIEGCM[lat, lon, lev]/bnorm[lat, lon, lev]) + By_IGRF[lat, lon, lev]*(-By_IGRF[lat, lon, lev]*Un_z_TIEGCM[lat, lon, lev]/bnorm[lat, lon, lev] + Bz_IGRF[lat, lon, lev]*Un_y_TIEGCM[lat, lon, lev]/bnorm[lat, lon, lev]) + Evertz[lat, lon, lev])/bnorm[lat, lon, lev] + Bz_IGRF[lat, lon, lev]*(Bx_IGRF[lat, lon, lev]*(-Bx_IGRF[lat, lon, lev]*Un_y_TIEGCM[lat, lon, lev]/bnorm[lat, lon, lev] + By_IGRF[lat, lon, lev]*Un_x_TIEGCM[lat, lon, lev]/bnorm[lat, lon, lev]) - Bz_IGRF[lat, lon, lev]*(-By_IGRF[lat, lon, lev]*Un_z_TIEGCM[lat, lon, lev]/bnorm[lat, lon, lev] + Bz_IGRF[lat, lon, lev]*Un_y_TIEGCM[lat, lon, lev]/bnorm[lat, lon, lev]) + Everty[lat, lon, lev])/bnorm[lat, lon, lev]) + Omega_Op_TIEGCM[lat, lon, lev]*nu_Op_TIEGCM[lat, lon, lev]*(-By_IGRF[lat, lon, lev]*(-Bx_IGRF[lat, lon, lev]*Un_y_TIEGCM[lat, lon, lev]/bnorm[lat, lon, lev] + By_IGRF[lat, lon, lev]*Un_x_TIEGCM[lat, lon, lev]/bnorm[lat, lon, lev]) + Bz_IGRF[lat, lon, lev]*(Bx_IGRF[lat, lon, lev]*Un_z_TIEGCM[lat, lon, lev]/bnorm[lat, lon, lev] - Bz_IGRF[lat, lon, lev]*Un_x_TIEGCM[lat, lon, lev]/bnorm[lat, lon, lev]) + Evertx[lat, lon, lev]))*(Bx_IGRF[lat, lon, lev]*Un_z_TIEGCM[lat, lon, lev]/bnorm[lat, lon, lev] - 2*Bz_IGRF[lat, lon, lev]*Un_x_TIEGCM[lat, lon, lev]/bnorm[lat, lon, lev])/(bnorm[lat, lon, lev]*(Omega_Op_TIEGCM[lat, lon, lev]**2 + nu_Op_TIEGCM[lat, lon, lev]**2)) + (Omega_Op_TIEGCM[lat, lon, lev]**2*(Bx_IGRF[lat, lon, lev]*(Bx_IGRF[lat, lon, lev]*Un_x_TIEGCM[lat, lon, lev]/bnorm[lat, lon, lev] + By_IGRF[lat, lon, lev]*Un_y_TIEGCM[lat, lon, lev]/bnorm[lat, lon, lev])/bnorm[lat, lon, lev] - Bz_IGRF[lat, lon, lev]*(Bx_IGRF[lat, lon, lev]*Un_z_TIEGCM[lat, lon, lev]/bnorm[lat, lon, lev] - 2*Bz_IGRF[lat, lon, lev]*Un_x_TIEGCM[lat, lon, lev]/bnorm[lat, lon, lev])/bnorm[lat, lon, lev] - (-By_IGRF[lat, lon, lev]*(-Bx_IGRF[lat, lon, lev]*Un_y_TIEGCM[lat, lon, lev]/bnorm[lat, lon, lev] + By_IGRF[lat, lon, lev]*Un_x_TIEGCM[lat, lon, lev]/bnorm[lat, lon, lev]) + Bz_IGRF[lat, lon, lev]*(Bx_IGRF[lat, lon, lev]*Un_z_TIEGCM[lat, lon, lev]/bnorm[lat, lon, lev] - Bz_IGRF[lat, lon, lev]*Un_x_TIEGCM[lat, lon, lev]/bnorm[lat, lon, lev]) + Evertx[lat, lon, lev])/bnorm[lat, lon, lev]) + Omega_Op_TIEGCM[lat, lon, lev]*nu_Op_TIEGCM[lat, lon, lev]*(By_IGRF[lat, lon, lev]*Un_z_TIEGCM[lat, lon, lev]/bnorm[lat, lon, lev] - 2*Bz_IGRF[lat, lon, lev]*Un_y_TIEGCM[lat, lon, lev]/bnorm[lat, lon, lev]))*(Bx_IGRF[lat, lon, lev]*(-Bx_IGRF[lat, lon, lev]*Un_y_TIEGCM[lat, lon, lev]/bnorm[lat, lon, lev] + By_IGRF[lat, lon, lev]*Un_x_TIEGCM[lat, lon, lev]/bnorm[lat, lon, lev]) - Bz_IGRF[lat, lon, lev]*(-By_IGRF[lat, lon, lev]*Un_z_TIEGCM[lat, lon, lev]/bnorm[lat, lon, lev] + Bz_IGRF[lat, lon, lev]*Un_y_TIEGCM[lat, lon, lev]/bnorm[lat, lon, lev]) + Everty[lat, lon, lev])/(bnorm[lat, lon, lev]*(Omega_Op_TIEGCM[lat, lon, lev]**2 + nu_Op_TIEGCM[lat, lon, lev]**2)) + (Omega_Op_TIEGCM[lat, lon, lev]**2*(-By_IGRF[lat, lon, lev]*(Bx_IGRF[lat, lon, lev]*Un_x_TIEGCM[lat, lon, lev]/bnorm[lat, lon, lev] + By_IGRF[lat, lon, lev]*Un_y_TIEGCM[lat, lon, lev]/bnorm[lat, lon, lev])/bnorm[lat, lon, lev] + Bz_IGRF[lat, lon, lev]*(By_IGRF[lat, lon, lev]*Un_z_TIEGCM[lat, lon, lev]/bnorm[lat, lon, lev] - 2*Bz_IGRF[lat, lon, lev]*Un_y_TIEGCM[lat, lon, lev]/bnorm[lat, lon, lev])/bnorm[lat, lon, lev] + (Bx_IGRF[lat, lon, lev]*(-Bx_IGRF[lat, lon, lev]*Un_y_TIEGCM[lat, lon, lev]/bnorm[lat, lon, lev] + By_IGRF[lat, lon, lev]*Un_x_TIEGCM[lat, lon, lev]/bnorm[lat, lon, lev]) - Bz_IGRF[lat, lon, lev]*(-By_IGRF[lat, lon, lev]*Un_z_TIEGCM[lat, lon, lev]/bnorm[lat, lon, lev] + Bz_IGRF[lat, lon, lev]*Un_y_TIEGCM[lat, lon, lev]/bnorm[lat, lon, lev]) + Everty[lat, lon, lev])/bnorm[lat, lon, lev]) + Omega_Op_TIEGCM[lat, lon, lev]*nu_Op_TIEGCM[lat, lon, lev]*(Bx_IGRF[lat, lon, lev]*Un_z_TIEGCM[lat, lon, lev]/bnorm[lat, lon, lev] - 2*Bz_IGRF[lat, lon, lev]*Un_x_TIEGCM[lat, lon, lev]/bnorm[lat, lon, lev]))*(-By_IGRF[lat, lon, lev]*(-Bx_IGRF[lat, lon, lev]*Un_y_TIEGCM[lat, lon, lev]/bnorm[lat, lon, lev] + By_IGRF[lat, lon, lev]*Un_x_TIEGCM[lat, lon, lev]/bnorm[lat, lon, lev]) + Bz_IGRF[lat, lon, lev]*(Bx_IGRF[lat, lon, lev]*Un_z_TIEGCM[lat, lon, lev]/bnorm[lat, lon, lev] - Bz_IGRF[lat, lon, lev]*Un_x_TIEGCM[lat, lon, lev]/bnorm[lat, lon, lev]) + Evertx[lat, lon, lev])/(bnorm[lat, lon, lev]*(Omega_Op_TIEGCM[lat, lon, lev]**2 + nu_Op_TIEGCM[lat, lon, lev]**2)))) ** 2\n",
    "                # *************************************************************\n",
    "                # dUnx\n",
    "                eqJH11 = (1000*(Ne_TIEGCM[lat, lon, lev] * CubicCm2CubicM)*q_e*(Bx_IGRF[lat, lon, lev]*By_IGRF[lat, lon, lev]*(Omega_Op_TIEGCM[lat, lon, lev]**2*(Bx_IGRF[lat, lon, lev]*(-Bx_IGRF[lat, lon, lev]*(Bx_IGRF[lat, lon, lev]*Un_z_TIEGCM[lat, lon, lev]/bnorm[lat, lon, lev] - Bz_IGRF[lat, lon, lev]*Un_x_TIEGCM[lat, lon, lev]/bnorm[lat, lon, lev]) + By_IGRF[lat, lon, lev]*(-By_IGRF[lat, lon, lev]*Un_z_TIEGCM[lat, lon, lev]/bnorm[lat, lon, lev] + Bz_IGRF[lat, lon, lev]*Un_y_TIEGCM[lat, lon, lev]/bnorm[lat, lon, lev]) + Evertz[lat, lon, lev])/bnorm[lat, lon, lev] - Bz_IGRF[lat, lon, lev]*(-By_IGRF[lat, lon, lev]*(-Bx_IGRF[lat, lon, lev]*Un_y_TIEGCM[lat, lon, lev]/bnorm[lat, lon, lev] + By_IGRF[lat, lon, lev]*Un_x_TIEGCM[lat, lon, lev]/bnorm[lat, lon, lev]) + Bz_IGRF[lat, lon, lev]*(Bx_IGRF[lat, lon, lev]*Un_z_TIEGCM[lat, lon, lev]/bnorm[lat, lon, lev] - Bz_IGRF[lat, lon, lev]*Un_x_TIEGCM[lat, lon, lev]/bnorm[lat, lon, lev]) + Evertx[lat, lon, lev])/bnorm[lat, lon, lev]) + Omega_Op_TIEGCM[lat, lon, lev]*nu_Op_TIEGCM[lat, lon, lev]*(Bx_IGRF[lat, lon, lev]*(-Bx_IGRF[lat, lon, lev]*Un_y_TIEGCM[lat, lon, lev]/bnorm[lat, lon, lev] + By_IGRF[lat, lon, lev]*Un_x_TIEGCM[lat, lon, lev]/bnorm[lat, lon, lev]) - Bz_IGRF[lat, lon, lev]*(-By_IGRF[lat, lon, lev]*Un_z_TIEGCM[lat, lon, lev]/bnorm[lat, lon, lev] + Bz_IGRF[lat, lon, lev]*Un_y_TIEGCM[lat, lon, lev]/bnorm[lat, lon, lev]) + Everty[lat, lon, lev]))/(bnorm[lat, lon, lev]**2*(Omega_Op_TIEGCM[lat, lon, lev]**2 + nu_Op_TIEGCM[lat, lon, lev]**2)) + Bx_IGRF[lat, lon, lev]*Bz_IGRF[lat, lon, lev]*(Omega_Op_TIEGCM[lat, lon, lev]**2*(-Bx_IGRF[lat, lon, lev]*(Bx_IGRF[lat, lon, lev]*(-Bx_IGRF[lat, lon, lev]*Un_y_TIEGCM[lat, lon, lev]/bnorm[lat, lon, lev] + By_IGRF[lat, lon, lev]*Un_x_TIEGCM[lat, lon, lev]/bnorm[lat, lon, lev]) - Bz_IGRF[lat, lon, lev]*(-By_IGRF[lat, lon, lev]*Un_z_TIEGCM[lat, lon, lev]/bnorm[lat, lon, lev] + Bz_IGRF[lat, lon, lev]*Un_y_TIEGCM[lat, lon, lev]/bnorm[lat, lon, lev]) + Everty[lat, lon, lev])/bnorm[lat, lon, lev] + By_IGRF[lat, lon, lev]*(-By_IGRF[lat, lon, lev]*(-Bx_IGRF[lat, lon, lev]*Un_y_TIEGCM[lat, lon, lev]/bnorm[lat, lon, lev] + By_IGRF[lat, lon, lev]*Un_x_TIEGCM[lat, lon, lev]/bnorm[lat, lon, lev]) + Bz_IGRF[lat, lon, lev]*(Bx_IGRF[lat, lon, lev]*Un_z_TIEGCM[lat, lon, lev]/bnorm[lat, lon, lev] - Bz_IGRF[lat, lon, lev]*Un_x_TIEGCM[lat, lon, lev]/bnorm[lat, lon, lev]) + Evertx[lat, lon, lev])/bnorm[lat, lon, lev]) + Omega_Op_TIEGCM[lat, lon, lev]*nu_Op_TIEGCM[lat, lon, lev]*(-Bx_IGRF[lat, lon, lev]*(Bx_IGRF[lat, lon, lev]*Un_z_TIEGCM[lat, lon, lev]/bnorm[lat, lon, lev] - Bz_IGRF[lat, lon, lev]*Un_x_TIEGCM[lat, lon, lev]/bnorm[lat, lon, lev]) + By_IGRF[lat, lon, lev]*(-By_IGRF[lat, lon, lev]*Un_z_TIEGCM[lat, lon, lev]/bnorm[lat, lon, lev] + Bz_IGRF[lat, lon, lev]*Un_y_TIEGCM[lat, lon, lev]/bnorm[lat, lon, lev]) + Evertz[lat, lon, lev]))/(bnorm[lat, lon, lev]**2*(Omega_Op_TIEGCM[lat, lon, lev]**2 + nu_Op_TIEGCM[lat, lon, lev]**2)) + Omega_Op_TIEGCM[lat, lon, lev]*nu_Op_TIEGCM[lat, lon, lev]*(-By_IGRF[lat, lon, lev]**2/bnorm[lat, lon, lev] - Bz_IGRF[lat, lon, lev]**2/bnorm[lat, lon, lev])*(-By_IGRF[lat, lon, lev]*(-Bx_IGRF[lat, lon, lev]*Un_y_TIEGCM[lat, lon, lev]/bnorm[lat, lon, lev] + By_IGRF[lat, lon, lev]*Un_x_TIEGCM[lat, lon, lev]/bnorm[lat, lon, lev]) + Bz_IGRF[lat, lon, lev]*(Bx_IGRF[lat, lon, lev]*Un_z_TIEGCM[lat, lon, lev]/bnorm[lat, lon, lev] - Bz_IGRF[lat, lon, lev]*Un_x_TIEGCM[lat, lon, lev]/bnorm[lat, lon, lev]) + Evertx[lat, lon, lev])/(bnorm[lat, lon, lev]*(Omega_Op_TIEGCM[lat, lon, lev]**2 + nu_Op_TIEGCM[lat, lon, lev]**2)) + (-By_IGRF[lat, lon, lev]**2/bnorm[lat, lon, lev] - Bz_IGRF[lat, lon, lev]**2/bnorm[lat, lon, lev])*(Omega_Op_TIEGCM[lat, lon, lev]**2*(-By_IGRF[lat, lon, lev]*(-Bx_IGRF[lat, lon, lev]*(Bx_IGRF[lat, lon, lev]*Un_z_TIEGCM[lat, lon, lev]/bnorm[lat, lon, lev] - Bz_IGRF[lat, lon, lev]*Un_x_TIEGCM[lat, lon, lev]/bnorm[lat, lon, lev]) + By_IGRF[lat, lon, lev]*(-By_IGRF[lat, lon, lev]*Un_z_TIEGCM[lat, lon, lev]/bnorm[lat, lon, lev] + Bz_IGRF[lat, lon, lev]*Un_y_TIEGCM[lat, lon, lev]/bnorm[lat, lon, lev]) + Evertz[lat, lon, lev])/bnorm[lat, lon, lev] + Bz_IGRF[lat, lon, lev]*(Bx_IGRF[lat, lon, lev]*(-Bx_IGRF[lat, lon, lev]*Un_y_TIEGCM[lat, lon, lev]/bnorm[lat, lon, lev] + By_IGRF[lat, lon, lev]*Un_x_TIEGCM[lat, lon, lev]/bnorm[lat, lon, lev]) - Bz_IGRF[lat, lon, lev]*(-By_IGRF[lat, lon, lev]*Un_z_TIEGCM[lat, lon, lev]/bnorm[lat, lon, lev] + Bz_IGRF[lat, lon, lev]*Un_y_TIEGCM[lat, lon, lev]/bnorm[lat, lon, lev]) + Everty[lat, lon, lev])/bnorm[lat, lon, lev]) + Omega_Op_TIEGCM[lat, lon, lev]*nu_Op_TIEGCM[lat, lon, lev]*(-By_IGRF[lat, lon, lev]*(-Bx_IGRF[lat, lon, lev]*Un_y_TIEGCM[lat, lon, lev]/bnorm[lat, lon, lev] + By_IGRF[lat, lon, lev]*Un_x_TIEGCM[lat, lon, lev]/bnorm[lat, lon, lev]) + Bz_IGRF[lat, lon, lev]*(Bx_IGRF[lat, lon, lev]*Un_z_TIEGCM[lat, lon, lev]/bnorm[lat, lon, lev] - Bz_IGRF[lat, lon, lev]*Un_x_TIEGCM[lat, lon, lev]/bnorm[lat, lon, lev]) + Evertx[lat, lon, lev]))/(bnorm[lat, lon, lev]*(Omega_Op_TIEGCM[lat, lon, lev]**2 + nu_Op_TIEGCM[lat, lon, lev]**2)) + (Bx_IGRF[lat, lon, lev]*By_IGRF[lat, lon, lev]*Omega_Op_TIEGCM[lat, lon, lev]*nu_Op_TIEGCM[lat, lon, lev]/bnorm[lat, lon, lev] + Omega_Op_TIEGCM[lat, lon, lev]**2*(Bx_IGRF[lat, lon, lev]**2*Bz_IGRF[lat, lon, lev]/bnorm[lat, lon, lev]**2 - Bz_IGRF[lat, lon, lev]*(-By_IGRF[lat, lon, lev]**2/bnorm[lat, lon, lev] - Bz_IGRF[lat, lon, lev]**2/bnorm[lat, lon, lev])/bnorm[lat, lon, lev]))*(Bx_IGRF[lat, lon, lev]*(-Bx_IGRF[lat, lon, lev]*Un_y_TIEGCM[lat, lon, lev]/bnorm[lat, lon, lev] + By_IGRF[lat, lon, lev]*Un_x_TIEGCM[lat, lon, lev]/bnorm[lat, lon, lev]) - Bz_IGRF[lat, lon, lev]*(-By_IGRF[lat, lon, lev]*Un_z_TIEGCM[lat, lon, lev]/bnorm[lat, lon, lev] + Bz_IGRF[lat, lon, lev]*Un_y_TIEGCM[lat, lon, lev]/bnorm[lat, lon, lev]) + Everty[lat, lon, lev])/(bnorm[lat, lon, lev]*(Omega_Op_TIEGCM[lat, lon, lev]**2 + nu_Op_TIEGCM[lat, lon, lev]**2)) + (Bx_IGRF[lat, lon, lev]*Bz_IGRF[lat, lon, lev]*Omega_Op_TIEGCM[lat, lon, lev]*nu_Op_TIEGCM[lat, lon, lev]/bnorm[lat, lon, lev] + Omega_Op_TIEGCM[lat, lon, lev]**2*(-Bx_IGRF[lat, lon, lev]**2*By_IGRF[lat, lon, lev]/bnorm[lat, lon, lev]**2 + By_IGRF[lat, lon, lev]*(-By_IGRF[lat, lon, lev]**2/bnorm[lat, lon, lev] - Bz_IGRF[lat, lon, lev]**2/bnorm[lat, lon, lev])/bnorm[lat, lon, lev]))*(-Bx_IGRF[lat, lon, lev]*(Bx_IGRF[lat, lon, lev]*Un_z_TIEGCM[lat, lon, lev]/bnorm[lat, lon, lev] - Bz_IGRF[lat, lon, lev]*Un_x_TIEGCM[lat, lon, lev]/bnorm[lat, lon, lev]) + By_IGRF[lat, lon, lev]*(-By_IGRF[lat, lon, lev]*Un_z_TIEGCM[lat, lon, lev]/bnorm[lat, lon, lev] + Bz_IGRF[lat, lon, lev]*Un_y_TIEGCM[lat, lon, lev]/bnorm[lat, lon, lev]) + Evertz[lat, lon, lev])/(bnorm[lat, lon, lev]*(Omega_Op_TIEGCM[lat, lon, lev]**2 + nu_Op_TIEGCM[lat, lon, lev]**2)))) ** 2\n",
    "                # *************************************************************\n",
    "                # dUny\n",
    "                eqJH12 = (1000*(Ne_TIEGCM[lat, lon, lev] * CubicCm2CubicM)*q_e*(Bx_IGRF[lat, lon, lev]*By_IGRF[lat, lon, lev]*(Omega_Op_TIEGCM[lat, lon, lev]**2*(-By_IGRF[lat, lon, lev]*(-Bx_IGRF[lat, lon, lev]*(Bx_IGRF[lat, lon, lev]*Un_z_TIEGCM[lat, lon, lev]/bnorm[lat, lon, lev] - Bz_IGRF[lat, lon, lev]*Un_x_TIEGCM[lat, lon, lev]/bnorm[lat, lon, lev]) + By_IGRF[lat, lon, lev]*(-By_IGRF[lat, lon, lev]*Un_z_TIEGCM[lat, lon, lev]/bnorm[lat, lon, lev] + Bz_IGRF[lat, lon, lev]*Un_y_TIEGCM[lat, lon, lev]/bnorm[lat, lon, lev]) + Evertz[lat, lon, lev])/bnorm[lat, lon, lev] + Bz_IGRF[lat, lon, lev]*(Bx_IGRF[lat, lon, lev]*(-Bx_IGRF[lat, lon, lev]*Un_y_TIEGCM[lat, lon, lev]/bnorm[lat, lon, lev] + By_IGRF[lat, lon, lev]*Un_x_TIEGCM[lat, lon, lev]/bnorm[lat, lon, lev]) - Bz_IGRF[lat, lon, lev]*(-By_IGRF[lat, lon, lev]*Un_z_TIEGCM[lat, lon, lev]/bnorm[lat, lon, lev] + Bz_IGRF[lat, lon, lev]*Un_y_TIEGCM[lat, lon, lev]/bnorm[lat, lon, lev]) + Everty[lat, lon, lev])/bnorm[lat, lon, lev]) + Omega_Op_TIEGCM[lat, lon, lev]*nu_Op_TIEGCM[lat, lon, lev]*(-By_IGRF[lat, lon, lev]*(-Bx_IGRF[lat, lon, lev]*Un_y_TIEGCM[lat, lon, lev]/bnorm[lat, lon, lev] + By_IGRF[lat, lon, lev]*Un_x_TIEGCM[lat, lon, lev]/bnorm[lat, lon, lev]) + Bz_IGRF[lat, lon, lev]*(Bx_IGRF[lat, lon, lev]*Un_z_TIEGCM[lat, lon, lev]/bnorm[lat, lon, lev] - Bz_IGRF[lat, lon, lev]*Un_x_TIEGCM[lat, lon, lev]/bnorm[lat, lon, lev]) + Evertx[lat, lon, lev]))/(bnorm[lat, lon, lev]**2*(Omega_Op_TIEGCM[lat, lon, lev]**2 + nu_Op_TIEGCM[lat, lon, lev]**2)) + By_IGRF[lat, lon, lev]*Bz_IGRF[lat, lon, lev]*(Omega_Op_TIEGCM[lat, lon, lev]**2*(-Bx_IGRF[lat, lon, lev]*(Bx_IGRF[lat, lon, lev]*(-Bx_IGRF[lat, lon, lev]*Un_y_TIEGCM[lat, lon, lev]/bnorm[lat, lon, lev] + By_IGRF[lat, lon, lev]*Un_x_TIEGCM[lat, lon, lev]/bnorm[lat, lon, lev]) - Bz_IGRF[lat, lon, lev]*(-By_IGRF[lat, lon, lev]*Un_z_TIEGCM[lat, lon, lev]/bnorm[lat, lon, lev] + Bz_IGRF[lat, lon, lev]*Un_y_TIEGCM[lat, lon, lev]/bnorm[lat, lon, lev]) + Everty[lat, lon, lev])/bnorm[lat, lon, lev] + By_IGRF[lat, lon, lev]*(-By_IGRF[lat, lon, lev]*(-Bx_IGRF[lat, lon, lev]*Un_y_TIEGCM[lat, lon, lev]/bnorm[lat, lon, lev] + By_IGRF[lat, lon, lev]*Un_x_TIEGCM[lat, lon, lev]/bnorm[lat, lon, lev]) + Bz_IGRF[lat, lon, lev]*(Bx_IGRF[lat, lon, lev]*Un_z_TIEGCM[lat, lon, lev]/bnorm[lat, lon, lev] - Bz_IGRF[lat, lon, lev]*Un_x_TIEGCM[lat, lon, lev]/bnorm[lat, lon, lev]) + Evertx[lat, lon, lev])/bnorm[lat, lon, lev]) + Omega_Op_TIEGCM[lat, lon, lev]*nu_Op_TIEGCM[lat, lon, lev]*(-Bx_IGRF[lat, lon, lev]*(Bx_IGRF[lat, lon, lev]*Un_z_TIEGCM[lat, lon, lev]/bnorm[lat, lon, lev] - Bz_IGRF[lat, lon, lev]*Un_x_TIEGCM[lat, lon, lev]/bnorm[lat, lon, lev]) + By_IGRF[lat, lon, lev]*(-By_IGRF[lat, lon, lev]*Un_z_TIEGCM[lat, lon, lev]/bnorm[lat, lon, lev] + Bz_IGRF[lat, lon, lev]*Un_y_TIEGCM[lat, lon, lev]/bnorm[lat, lon, lev]) + Evertz[lat, lon, lev]))/(bnorm[lat, lon, lev]**2*(Omega_Op_TIEGCM[lat, lon, lev]**2 + nu_Op_TIEGCM[lat, lon, lev]**2)) + Omega_Op_TIEGCM[lat, lon, lev]*nu_Op_TIEGCM[lat, lon, lev]*(-Bx_IGRF[lat, lon, lev]**2/bnorm[lat, lon, lev] - Bz_IGRF[lat, lon, lev]**2/bnorm[lat, lon, lev])*(Bx_IGRF[lat, lon, lev]*(-Bx_IGRF[lat, lon, lev]*Un_y_TIEGCM[lat, lon, lev]/bnorm[lat, lon, lev] + By_IGRF[lat, lon, lev]*Un_x_TIEGCM[lat, lon, lev]/bnorm[lat, lon, lev]) - Bz_IGRF[lat, lon, lev]*(-By_IGRF[lat, lon, lev]*Un_z_TIEGCM[lat, lon, lev]/bnorm[lat, lon, lev] + Bz_IGRF[lat, lon, lev]*Un_y_TIEGCM[lat, lon, lev]/bnorm[lat, lon, lev]) + Everty[lat, lon, lev])/(bnorm[lat, lon, lev]*(Omega_Op_TIEGCM[lat, lon, lev]**2 + nu_Op_TIEGCM[lat, lon, lev]**2)) + (-Bx_IGRF[lat, lon, lev]**2/bnorm[lat, lon, lev] - Bz_IGRF[lat, lon, lev]**2/bnorm[lat, lon, lev])*(Omega_Op_TIEGCM[lat, lon, lev]**2*(Bx_IGRF[lat, lon, lev]*(-Bx_IGRF[lat, lon, lev]*(Bx_IGRF[lat, lon, lev]*Un_z_TIEGCM[lat, lon, lev]/bnorm[lat, lon, lev] - Bz_IGRF[lat, lon, lev]*Un_x_TIEGCM[lat, lon, lev]/bnorm[lat, lon, lev]) + By_IGRF[lat, lon, lev]*(-By_IGRF[lat, lon, lev]*Un_z_TIEGCM[lat, lon, lev]/bnorm[lat, lon, lev] + Bz_IGRF[lat, lon, lev]*Un_y_TIEGCM[lat, lon, lev]/bnorm[lat, lon, lev]) + Evertz[lat, lon, lev])/bnorm[lat, lon, lev] - Bz_IGRF[lat, lon, lev]*(-By_IGRF[lat, lon, lev]*(-Bx_IGRF[lat, lon, lev]*Un_y_TIEGCM[lat, lon, lev]/bnorm[lat, lon, lev] + By_IGRF[lat, lon, lev]*Un_x_TIEGCM[lat, lon, lev]/bnorm[lat, lon, lev]) + Bz_IGRF[lat, lon, lev]*(Bx_IGRF[lat, lon, lev]*Un_z_TIEGCM[lat, lon, lev]/bnorm[lat, lon, lev] - Bz_IGRF[lat, lon, lev]*Un_x_TIEGCM[lat, lon, lev]/bnorm[lat, lon, lev]) + Evertx[lat, lon, lev])/bnorm[lat, lon, lev]) + Omega_Op_TIEGCM[lat, lon, lev]*nu_Op_TIEGCM[lat, lon, lev]*(Bx_IGRF[lat, lon, lev]*(-Bx_IGRF[lat, lon, lev]*Un_y_TIEGCM[lat, lon, lev]/bnorm[lat, lon, lev] + By_IGRF[lat, lon, lev]*Un_x_TIEGCM[lat, lon, lev]/bnorm[lat, lon, lev]) - Bz_IGRF[lat, lon, lev]*(-By_IGRF[lat, lon, lev]*Un_z_TIEGCM[lat, lon, lev]/bnorm[lat, lon, lev] + Bz_IGRF[lat, lon, lev]*Un_y_TIEGCM[lat, lon, lev]/bnorm[lat, lon, lev]) + Everty[lat, lon, lev]))/(bnorm[lat, lon, lev]*(Omega_Op_TIEGCM[lat, lon, lev]**2 + nu_Op_TIEGCM[lat, lon, lev]**2)) + (Bx_IGRF[lat, lon, lev]*By_IGRF[lat, lon, lev]*Omega_Op_TIEGCM[lat, lon, lev]*nu_Op_TIEGCM[lat, lon, lev]/bnorm[lat, lon, lev] + Omega_Op_TIEGCM[lat, lon, lev]**2*(-By_IGRF[lat, lon, lev]**2*Bz_IGRF[lat, lon, lev]/bnorm[lat, lon, lev]**2 + Bz_IGRF[lat, lon, lev]*(-Bx_IGRF[lat, lon, lev]**2/bnorm[lat, lon, lev] - Bz_IGRF[lat, lon, lev]**2/bnorm[lat, lon, lev])/bnorm[lat, lon, lev]))*(-By_IGRF[lat, lon, lev]*(-Bx_IGRF[lat, lon, lev]*Un_y_TIEGCM[lat, lon, lev]/bnorm[lat, lon, lev] + By_IGRF[lat, lon, lev]*Un_x_TIEGCM[lat, lon, lev]/bnorm[lat, lon, lev]) + Bz_IGRF[lat, lon, lev]*(Bx_IGRF[lat, lon, lev]*Un_z_TIEGCM[lat, lon, lev]/bnorm[lat, lon, lev] - Bz_IGRF[lat, lon, lev]*Un_x_TIEGCM[lat, lon, lev]/bnorm[lat, lon, lev]) + Evertx[lat, lon, lev])/(bnorm[lat, lon, lev]*(Omega_Op_TIEGCM[lat, lon, lev]**2 + nu_Op_TIEGCM[lat, lon, lev]**2)) + (By_IGRF[lat, lon, lev]*Bz_IGRF[lat, lon, lev]*Omega_Op_TIEGCM[lat, lon, lev]*nu_Op_TIEGCM[lat, lon, lev]/bnorm[lat, lon, lev] + Omega_Op_TIEGCM[lat, lon, lev]**2*(Bx_IGRF[lat, lon, lev]*By_IGRF[lat, lon, lev]**2/bnorm[lat, lon, lev]**2 - Bx_IGRF[lat, lon, lev]*(-Bx_IGRF[lat, lon, lev]**2/bnorm[lat, lon, lev] - Bz_IGRF[lat, lon, lev]**2/bnorm[lat, lon, lev])/bnorm[lat, lon, lev]))*(-Bx_IGRF[lat, lon, lev]*(Bx_IGRF[lat, lon, lev]*Un_z_TIEGCM[lat, lon, lev]/bnorm[lat, lon, lev] - Bz_IGRF[lat, lon, lev]*Un_x_TIEGCM[lat, lon, lev]/bnorm[lat, lon, lev]) + By_IGRF[lat, lon, lev]*(-By_IGRF[lat, lon, lev]*Un_z_TIEGCM[lat, lon, lev]/bnorm[lat, lon, lev] + Bz_IGRF[lat, lon, lev]*Un_y_TIEGCM[lat, lon, lev]/bnorm[lat, lon, lev]) + Evertz[lat, lon, lev])/(bnorm[lat, lon, lev]*(Omega_Op_TIEGCM[lat, lon, lev]**2 + nu_Op_TIEGCM[lat, lon, lev]**2)))) ** 2\n",
    "                # *************************************************************\n",
    "                # dUnz\n",
    "                eqJH13 = (1000*(Ne_TIEGCM[lat, lon, lev] * CubicCm2CubicM)*q_e*(Bx_IGRF[lat, lon, lev]*Bz_IGRF[lat, lon, lev]*(Omega_Op_TIEGCM[lat, lon, lev]**2*(-By_IGRF[lat, lon, lev]*(-Bx_IGRF[lat, lon, lev]*(Bx_IGRF[lat, lon, lev]*Un_z_TIEGCM[lat, lon, lev]/bnorm[lat, lon, lev] - Bz_IGRF[lat, lon, lev]*Un_x_TIEGCM[lat, lon, lev]/bnorm[lat, lon, lev]) + By_IGRF[lat, lon, lev]*(-By_IGRF[lat, lon, lev]*Un_z_TIEGCM[lat, lon, lev]/bnorm[lat, lon, lev] + Bz_IGRF[lat, lon, lev]*Un_y_TIEGCM[lat, lon, lev]/bnorm[lat, lon, lev]) + Evertz[lat, lon, lev])/bnorm[lat, lon, lev] + Bz_IGRF[lat, lon, lev]*(Bx_IGRF[lat, lon, lev]*(-Bx_IGRF[lat, lon, lev]*Un_y_TIEGCM[lat, lon, lev]/bnorm[lat, lon, lev] + By_IGRF[lat, lon, lev]*Un_x_TIEGCM[lat, lon, lev]/bnorm[lat, lon, lev]) - Bz_IGRF[lat, lon, lev]*(-By_IGRF[lat, lon, lev]*Un_z_TIEGCM[lat, lon, lev]/bnorm[lat, lon, lev] + Bz_IGRF[lat, lon, lev]*Un_y_TIEGCM[lat, lon, lev]/bnorm[lat, lon, lev]) + Everty[lat, lon, lev])/bnorm[lat, lon, lev]) + Omega_Op_TIEGCM[lat, lon, lev]*nu_Op_TIEGCM[lat, lon, lev]*(-By_IGRF[lat, lon, lev]*(-Bx_IGRF[lat, lon, lev]*Un_y_TIEGCM[lat, lon, lev]/bnorm[lat, lon, lev] + By_IGRF[lat, lon, lev]*Un_x_TIEGCM[lat, lon, lev]/bnorm[lat, lon, lev]) + Bz_IGRF[lat, lon, lev]*(Bx_IGRF[lat, lon, lev]*Un_z_TIEGCM[lat, lon, lev]/bnorm[lat, lon, lev] - Bz_IGRF[lat, lon, lev]*Un_x_TIEGCM[lat, lon, lev]/bnorm[lat, lon, lev]) + Evertx[lat, lon, lev]))/(bnorm[lat, lon, lev]**2*(Omega_Op_TIEGCM[lat, lon, lev]**2 + nu_Op_TIEGCM[lat, lon, lev]**2)) + By_IGRF[lat, lon, lev]*Bz_IGRF[lat, lon, lev]*(Omega_Op_TIEGCM[lat, lon, lev]**2*(Bx_IGRF[lat, lon, lev]*(-Bx_IGRF[lat, lon, lev]*(Bx_IGRF[lat, lon, lev]*Un_z_TIEGCM[lat, lon, lev]/bnorm[lat, lon, lev] - Bz_IGRF[lat, lon, lev]*Un_x_TIEGCM[lat, lon, lev]/bnorm[lat, lon, lev]) + By_IGRF[lat, lon, lev]*(-By_IGRF[lat, lon, lev]*Un_z_TIEGCM[lat, lon, lev]/bnorm[lat, lon, lev] + Bz_IGRF[lat, lon, lev]*Un_y_TIEGCM[lat, lon, lev]/bnorm[lat, lon, lev]) + Evertz[lat, lon, lev])/bnorm[lat, lon, lev] - Bz_IGRF[lat, lon, lev]*(-By_IGRF[lat, lon, lev]*(-Bx_IGRF[lat, lon, lev]*Un_y_TIEGCM[lat, lon, lev]/bnorm[lat, lon, lev] + By_IGRF[lat, lon, lev]*Un_x_TIEGCM[lat, lon, lev]/bnorm[lat, lon, lev]) + Bz_IGRF[lat, lon, lev]*(Bx_IGRF[lat, lon, lev]*Un_z_TIEGCM[lat, lon, lev]/bnorm[lat, lon, lev] - Bz_IGRF[lat, lon, lev]*Un_x_TIEGCM[lat, lon, lev]/bnorm[lat, lon, lev]) + Evertx[lat, lon, lev])/bnorm[lat, lon, lev]) + Omega_Op_TIEGCM[lat, lon, lev]*nu_Op_TIEGCM[lat, lon, lev]*(Bx_IGRF[lat, lon, lev]*(-Bx_IGRF[lat, lon, lev]*Un_y_TIEGCM[lat, lon, lev]/bnorm[lat, lon, lev] + By_IGRF[lat, lon, lev]*Un_x_TIEGCM[lat, lon, lev]/bnorm[lat, lon, lev]) - Bz_IGRF[lat, lon, lev]*(-By_IGRF[lat, lon, lev]*Un_z_TIEGCM[lat, lon, lev]/bnorm[lat, lon, lev] + Bz_IGRF[lat, lon, lev]*Un_y_TIEGCM[lat, lon, lev]/bnorm[lat, lon, lev]) + Everty[lat, lon, lev]))/(bnorm[lat, lon, lev]**2*(Omega_Op_TIEGCM[lat, lon, lev]**2 + nu_Op_TIEGCM[lat, lon, lev]**2)) + Omega_Op_TIEGCM[lat, lon, lev]*nu_Op_TIEGCM[lat, lon, lev]*(-Bx_IGRF[lat, lon, lev]**2/bnorm[lat, lon, lev] - By_IGRF[lat, lon, lev]**2/bnorm[lat, lon, lev])*(-Bx_IGRF[lat, lon, lev]*(Bx_IGRF[lat, lon, lev]*Un_z_TIEGCM[lat, lon, lev]/bnorm[lat, lon, lev] - Bz_IGRF[lat, lon, lev]*Un_x_TIEGCM[lat, lon, lev]/bnorm[lat, lon, lev]) + By_IGRF[lat, lon, lev]*(-By_IGRF[lat, lon, lev]*Un_z_TIEGCM[lat, lon, lev]/bnorm[lat, lon, lev] + Bz_IGRF[lat, lon, lev]*Un_y_TIEGCM[lat, lon, lev]/bnorm[lat, lon, lev]) + Evertz[lat, lon, lev])/(bnorm[lat, lon, lev]*(Omega_Op_TIEGCM[lat, lon, lev]**2 + nu_Op_TIEGCM[lat, lon, lev]**2)) + (-Bx_IGRF[lat, lon, lev]**2/bnorm[lat, lon, lev] - By_IGRF[lat, lon, lev]**2/bnorm[lat, lon, lev])*(Omega_Op_TIEGCM[lat, lon, lev]**2*(-Bx_IGRF[lat, lon, lev]*(Bx_IGRF[lat, lon, lev]*(-Bx_IGRF[lat, lon, lev]*Un_y_TIEGCM[lat, lon, lev]/bnorm[lat, lon, lev] + By_IGRF[lat, lon, lev]*Un_x_TIEGCM[lat, lon, lev]/bnorm[lat, lon, lev]) - Bz_IGRF[lat, lon, lev]*(-By_IGRF[lat, lon, lev]*Un_z_TIEGCM[lat, lon, lev]/bnorm[lat, lon, lev] + Bz_IGRF[lat, lon, lev]*Un_y_TIEGCM[lat, lon, lev]/bnorm[lat, lon, lev]) + Everty[lat, lon, lev])/bnorm[lat, lon, lev] + By_IGRF[lat, lon, lev]*(-By_IGRF[lat, lon, lev]*(-Bx_IGRF[lat, lon, lev]*Un_y_TIEGCM[lat, lon, lev]/bnorm[lat, lon, lev] + By_IGRF[lat, lon, lev]*Un_x_TIEGCM[lat, lon, lev]/bnorm[lat, lon, lev]) + Bz_IGRF[lat, lon, lev]*(Bx_IGRF[lat, lon, lev]*Un_z_TIEGCM[lat, lon, lev]/bnorm[lat, lon, lev] - Bz_IGRF[lat, lon, lev]*Un_x_TIEGCM[lat, lon, lev]/bnorm[lat, lon, lev]) + Evertx[lat, lon, lev])/bnorm[lat, lon, lev]) + Omega_Op_TIEGCM[lat, lon, lev]*nu_Op_TIEGCM[lat, lon, lev]*(-Bx_IGRF[lat, lon, lev]*(Bx_IGRF[lat, lon, lev]*Un_z_TIEGCM[lat, lon, lev]/bnorm[lat, lon, lev] - Bz_IGRF[lat, lon, lev]*Un_x_TIEGCM[lat, lon, lev]/bnorm[lat, lon, lev]) + By_IGRF[lat, lon, lev]*(-By_IGRF[lat, lon, lev]*Un_z_TIEGCM[lat, lon, lev]/bnorm[lat, lon, lev] + Bz_IGRF[lat, lon, lev]*Un_y_TIEGCM[lat, lon, lev]/bnorm[lat, lon, lev]) + Evertz[lat, lon, lev]))/(bnorm[lat, lon, lev]*(Omega_Op_TIEGCM[lat, lon, lev]**2 + nu_Op_TIEGCM[lat, lon, lev]**2)) + (Bx_IGRF[lat, lon, lev]*Bz_IGRF[lat, lon, lev]*Omega_Op_TIEGCM[lat, lon, lev]*nu_Op_TIEGCM[lat, lon, lev]/bnorm[lat, lon, lev] + Omega_Op_TIEGCM[lat, lon, lev]**2*(By_IGRF[lat, lon, lev]*Bz_IGRF[lat, lon, lev]**2/bnorm[lat, lon, lev]**2 - By_IGRF[lat, lon, lev]*(-Bx_IGRF[lat, lon, lev]**2/bnorm[lat, lon, lev] - By_IGRF[lat, lon, lev]**2/bnorm[lat, lon, lev])/bnorm[lat, lon, lev]))*(-By_IGRF[lat, lon, lev]*(-Bx_IGRF[lat, lon, lev]*Un_y_TIEGCM[lat, lon, lev]/bnorm[lat, lon, lev] + By_IGRF[lat, lon, lev]*Un_x_TIEGCM[lat, lon, lev]/bnorm[lat, lon, lev]) + Bz_IGRF[lat, lon, lev]*(Bx_IGRF[lat, lon, lev]*Un_z_TIEGCM[lat, lon, lev]/bnorm[lat, lon, lev] - Bz_IGRF[lat, lon, lev]*Un_x_TIEGCM[lat, lon, lev]/bnorm[lat, lon, lev]) + Evertx[lat, lon, lev])/(bnorm[lat, lon, lev]*(Omega_Op_TIEGCM[lat, lon, lev]**2 + nu_Op_TIEGCM[lat, lon, lev]**2)) + (By_IGRF[lat, lon, lev]*Bz_IGRF[lat, lon, lev]*Omega_Op_TIEGCM[lat, lon, lev]*nu_Op_TIEGCM[lat, lon, lev]/bnorm[lat, lon, lev] + Omega_Op_TIEGCM[lat, lon, lev]**2*(-Bx_IGRF[lat, lon, lev]*Bz_IGRF[lat, lon, lev]**2/bnorm[lat, lon, lev]**2 + Bx_IGRF[lat, lon, lev]*(-Bx_IGRF[lat, lon, lev]**2/bnorm[lat, lon, lev] - By_IGRF[lat, lon, lev]**2/bnorm[lat, lon, lev])/bnorm[lat, lon, lev]))*(Bx_IGRF[lat, lon, lev]*(-Bx_IGRF[lat, lon, lev]*Un_y_TIEGCM[lat, lon, lev]/bnorm[lat, lon, lev] + By_IGRF[lat, lon, lev]*Un_x_TIEGCM[lat, lon, lev]/bnorm[lat, lon, lev]) - Bz_IGRF[lat, lon, lev]*(-By_IGRF[lat, lon, lev]*Un_z_TIEGCM[lat, lon, lev]/bnorm[lat, lon, lev] + Bz_IGRF[lat, lon, lev]*Un_y_TIEGCM[lat, lon, lev]/bnorm[lat, lon, lev]) + Everty[lat, lon, lev])/(bnorm[lat, lon, lev]*(Omega_Op_TIEGCM[lat, lon, lev]**2 + nu_Op_TIEGCM[lat, lon, lev]**2)))) ** 2\n",
    "                # *************************************************************\n",
    "                # dbnorm\n",
    "                eqJH14 = (1000*(Ne_TIEGCM[lat, lon, lev] * CubicCm2CubicM)*q_e*((Bx_IGRF[lat, lon, lev]*(Bx_IGRF[lat, lon, lev]*Un_y_TIEGCM[lat, lon, lev]/bnorm[lat, lon, lev]**2 - By_IGRF[lat, lon, lev]*Un_x_TIEGCM[lat, lon, lev]/bnorm[lat, lon, lev]**2) - Bz_IGRF[lat, lon, lev]*(By_IGRF[lat, lon, lev]*Un_z_TIEGCM[lat, lon, lev]/bnorm[lat, lon, lev]**2 - Bz_IGRF[lat, lon, lev]*Un_y_TIEGCM[lat, lon, lev]/bnorm[lat, lon, lev]**2))*(Omega_Op_TIEGCM[lat, lon, lev]**2*(Bx_IGRF[lat, lon, lev]*(-Bx_IGRF[lat, lon, lev]*(Bx_IGRF[lat, lon, lev]*Un_z_TIEGCM[lat, lon, lev]/bnorm[lat, lon, lev] - Bz_IGRF[lat, lon, lev]*Un_x_TIEGCM[lat, lon, lev]/bnorm[lat, lon, lev]) + By_IGRF[lat, lon, lev]*(-By_IGRF[lat, lon, lev]*Un_z_TIEGCM[lat, lon, lev]/bnorm[lat, lon, lev] + Bz_IGRF[lat, lon, lev]*Un_y_TIEGCM[lat, lon, lev]/bnorm[lat, lon, lev]) + Evertz[lat, lon, lev])/bnorm[lat, lon, lev] - Bz_IGRF[lat, lon, lev]*(-By_IGRF[lat, lon, lev]*(-Bx_IGRF[lat, lon, lev]*Un_y_TIEGCM[lat, lon, lev]/bnorm[lat, lon, lev] + By_IGRF[lat, lon, lev]*Un_x_TIEGCM[lat, lon, lev]/bnorm[lat, lon, lev]) + Bz_IGRF[lat, lon, lev]*(Bx_IGRF[lat, lon, lev]*Un_z_TIEGCM[lat, lon, lev]/bnorm[lat, lon, lev] - Bz_IGRF[lat, lon, lev]*Un_x_TIEGCM[lat, lon, lev]/bnorm[lat, lon, lev]) + Evertx[lat, lon, lev])/bnorm[lat, lon, lev]) + Omega_Op_TIEGCM[lat, lon, lev]*nu_Op_TIEGCM[lat, lon, lev]*(Bx_IGRF[lat, lon, lev]*(-Bx_IGRF[lat, lon, lev]*Un_y_TIEGCM[lat, lon, lev]/bnorm[lat, lon, lev] + By_IGRF[lat, lon, lev]*Un_x_TIEGCM[lat, lon, lev]/bnorm[lat, lon, lev]) - Bz_IGRF[lat, lon, lev]*(-By_IGRF[lat, lon, lev]*Un_z_TIEGCM[lat, lon, lev]/bnorm[lat, lon, lev] + Bz_IGRF[lat, lon, lev]*Un_y_TIEGCM[lat, lon, lev]/bnorm[lat, lon, lev]) + Everty[lat, lon, lev]))/(bnorm[lat, lon, lev]*(Omega_Op_TIEGCM[lat, lon, lev]**2 + nu_Op_TIEGCM[lat, lon, lev]**2)) + (-Bx_IGRF[lat, lon, lev]*(-Bx_IGRF[lat, lon, lev]*Un_z_TIEGCM[lat, lon, lev]/bnorm[lat, lon, lev]**2 + Bz_IGRF[lat, lon, lev]*Un_x_TIEGCM[lat, lon, lev]/bnorm[lat, lon, lev]**2) + By_IGRF[lat, lon, lev]*(By_IGRF[lat, lon, lev]*Un_z_TIEGCM[lat, lon, lev]/bnorm[lat, lon, lev]**2 - Bz_IGRF[lat, lon, lev]*Un_y_TIEGCM[lat, lon, lev]/bnorm[lat, lon, lev]**2))*(Omega_Op_TIEGCM[lat, lon, lev]**2*(-Bx_IGRF[lat, lon, lev]*(Bx_IGRF[lat, lon, lev]*(-Bx_IGRF[lat, lon, lev]*Un_y_TIEGCM[lat, lon, lev]/bnorm[lat, lon, lev] + By_IGRF[lat, lon, lev]*Un_x_TIEGCM[lat, lon, lev]/bnorm[lat, lon, lev]) - Bz_IGRF[lat, lon, lev]*(-By_IGRF[lat, lon, lev]*Un_z_TIEGCM[lat, lon, lev]/bnorm[lat, lon, lev] + Bz_IGRF[lat, lon, lev]*Un_y_TIEGCM[lat, lon, lev]/bnorm[lat, lon, lev]) + Everty[lat, lon, lev])/bnorm[lat, lon, lev] + By_IGRF[lat, lon, lev]*(-By_IGRF[lat, lon, lev]*(-Bx_IGRF[lat, lon, lev]*Un_y_TIEGCM[lat, lon, lev]/bnorm[lat, lon, lev] + By_IGRF[lat, lon, lev]*Un_x_TIEGCM[lat, lon, lev]/bnorm[lat, lon, lev]) + Bz_IGRF[lat, lon, lev]*(Bx_IGRF[lat, lon, lev]*Un_z_TIEGCM[lat, lon, lev]/bnorm[lat, lon, lev] - Bz_IGRF[lat, lon, lev]*Un_x_TIEGCM[lat, lon, lev]/bnorm[lat, lon, lev]) + Evertx[lat, lon, lev])/bnorm[lat, lon, lev]) + Omega_Op_TIEGCM[lat, lon, lev]*nu_Op_TIEGCM[lat, lon, lev]*(-Bx_IGRF[lat, lon, lev]*(Bx_IGRF[lat, lon, lev]*Un_z_TIEGCM[lat, lon, lev]/bnorm[lat, lon, lev] - Bz_IGRF[lat, lon, lev]*Un_x_TIEGCM[lat, lon, lev]/bnorm[lat, lon, lev]) + By_IGRF[lat, lon, lev]*(-By_IGRF[lat, lon, lev]*Un_z_TIEGCM[lat, lon, lev]/bnorm[lat, lon, lev] + Bz_IGRF[lat, lon, lev]*Un_y_TIEGCM[lat, lon, lev]/bnorm[lat, lon, lev]) + Evertz[lat, lon, lev]))/(bnorm[lat, lon, lev]*(Omega_Op_TIEGCM[lat, lon, lev]**2 + nu_Op_TIEGCM[lat, lon, lev]**2)) + (-By_IGRF[lat, lon, lev]*(Bx_IGRF[lat, lon, lev]*Un_y_TIEGCM[lat, lon, lev]/bnorm[lat, lon, lev]**2 - By_IGRF[lat, lon, lev]*Un_x_TIEGCM[lat, lon, lev]/bnorm[lat, lon, lev]**2) + Bz_IGRF[lat, lon, lev]*(-Bx_IGRF[lat, lon, lev]*Un_z_TIEGCM[lat, lon, lev]/bnorm[lat, lon, lev]**2 + Bz_IGRF[lat, lon, lev]*Un_x_TIEGCM[lat, lon, lev]/bnorm[lat, lon, lev]**2))*(Omega_Op_TIEGCM[lat, lon, lev]**2*(-By_IGRF[lat, lon, lev]*(-Bx_IGRF[lat, lon, lev]*(Bx_IGRF[lat, lon, lev]*Un_z_TIEGCM[lat, lon, lev]/bnorm[lat, lon, lev] - Bz_IGRF[lat, lon, lev]*Un_x_TIEGCM[lat, lon, lev]/bnorm[lat, lon, lev]) + By_IGRF[lat, lon, lev]*(-By_IGRF[lat, lon, lev]*Un_z_TIEGCM[lat, lon, lev]/bnorm[lat, lon, lev] + Bz_IGRF[lat, lon, lev]*Un_y_TIEGCM[lat, lon, lev]/bnorm[lat, lon, lev]) + Evertz[lat, lon, lev])/bnorm[lat, lon, lev] + Bz_IGRF[lat, lon, lev]*(Bx_IGRF[lat, lon, lev]*(-Bx_IGRF[lat, lon, lev]*Un_y_TIEGCM[lat, lon, lev]/bnorm[lat, lon, lev] + By_IGRF[lat, lon, lev]*Un_x_TIEGCM[lat, lon, lev]/bnorm[lat, lon, lev]) - Bz_IGRF[lat, lon, lev]*(-By_IGRF[lat, lon, lev]*Un_z_TIEGCM[lat, lon, lev]/bnorm[lat, lon, lev] + Bz_IGRF[lat, lon, lev]*Un_y_TIEGCM[lat, lon, lev]/bnorm[lat, lon, lev]) + Everty[lat, lon, lev])/bnorm[lat, lon, lev]) + Omega_Op_TIEGCM[lat, lon, lev]*nu_Op_TIEGCM[lat, lon, lev]*(-By_IGRF[lat, lon, lev]*(-Bx_IGRF[lat, lon, lev]*Un_y_TIEGCM[lat, lon, lev]/bnorm[lat, lon, lev] + By_IGRF[lat, lon, lev]*Un_x_TIEGCM[lat, lon, lev]/bnorm[lat, lon, lev]) + Bz_IGRF[lat, lon, lev]*(Bx_IGRF[lat, lon, lev]*Un_z_TIEGCM[lat, lon, lev]/bnorm[lat, lon, lev] - Bz_IGRF[lat, lon, lev]*Un_x_TIEGCM[lat, lon, lev]/bnorm[lat, lon, lev]) + Evertx[lat, lon, lev]))/(bnorm[lat, lon, lev]*(Omega_Op_TIEGCM[lat, lon, lev]**2 + nu_Op_TIEGCM[lat, lon, lev]**2)) + (Omega_Op_TIEGCM[lat, lon, lev]**2*(-Bx_IGRF[lat, lon, lev]*(Bx_IGRF[lat, lon, lev]*(Bx_IGRF[lat, lon, lev]*Un_y_TIEGCM[lat, lon, lev]/bnorm[lat, lon, lev]**2 - By_IGRF[lat, lon, lev]*Un_x_TIEGCM[lat, lon, lev]/bnorm[lat, lon, lev]**2) - Bz_IGRF[lat, lon, lev]*(By_IGRF[lat, lon, lev]*Un_z_TIEGCM[lat, lon, lev]/bnorm[lat, lon, lev]**2 - Bz_IGRF[lat, lon, lev]*Un_y_TIEGCM[lat, lon, lev]/bnorm[lat, lon, lev]**2))/bnorm[lat, lon, lev] + Bx_IGRF[lat, lon, lev]*(Bx_IGRF[lat, lon, lev]*(-Bx_IGRF[lat, lon, lev]*Un_y_TIEGCM[lat, lon, lev]/bnorm[lat, lon, lev] + By_IGRF[lat, lon, lev]*Un_x_TIEGCM[lat, lon, lev]/bnorm[lat, lon, lev]) - Bz_IGRF[lat, lon, lev]*(-By_IGRF[lat, lon, lev]*Un_z_TIEGCM[lat, lon, lev]/bnorm[lat, lon, lev] + Bz_IGRF[lat, lon, lev]*Un_y_TIEGCM[lat, lon, lev]/bnorm[lat, lon, lev]) + Everty[lat, lon, lev])/bnorm[lat, lon, lev]**2 + By_IGRF[lat, lon, lev]*(-By_IGRF[lat, lon, lev]*(Bx_IGRF[lat, lon, lev]*Un_y_TIEGCM[lat, lon, lev]/bnorm[lat, lon, lev]**2 - By_IGRF[lat, lon, lev]*Un_x_TIEGCM[lat, lon, lev]/bnorm[lat, lon, lev]**2) + Bz_IGRF[lat, lon, lev]*(-Bx_IGRF[lat, lon, lev]*Un_z_TIEGCM[lat, lon, lev]/bnorm[lat, lon, lev]**2 + Bz_IGRF[lat, lon, lev]*Un_x_TIEGCM[lat, lon, lev]/bnorm[lat, lon, lev]**2))/bnorm[lat, lon, lev] - By_IGRF[lat, lon, lev]*(-By_IGRF[lat, lon, lev]*(-Bx_IGRF[lat, lon, lev]*Un_y_TIEGCM[lat, lon, lev]/bnorm[lat, lon, lev] + By_IGRF[lat, lon, lev]*Un_x_TIEGCM[lat, lon, lev]/bnorm[lat, lon, lev]) + Bz_IGRF[lat, lon, lev]*(Bx_IGRF[lat, lon, lev]*Un_z_TIEGCM[lat, lon, lev]/bnorm[lat, lon, lev] - Bz_IGRF[lat, lon, lev]*Un_x_TIEGCM[lat, lon, lev]/bnorm[lat, lon, lev]) + Evertx[lat, lon, lev])/bnorm[lat, lon, lev]**2) + Omega_Op_TIEGCM[lat, lon, lev]*nu_Op_TIEGCM[lat, lon, lev]*(-Bx_IGRF[lat, lon, lev]*(-Bx_IGRF[lat, lon, lev]*Un_z_TIEGCM[lat, lon, lev]/bnorm[lat, lon, lev]**2 + Bz_IGRF[lat, lon, lev]*Un_x_TIEGCM[lat, lon, lev]/bnorm[lat, lon, lev]**2) + By_IGRF[lat, lon, lev]*(By_IGRF[lat, lon, lev]*Un_z_TIEGCM[lat, lon, lev]/bnorm[lat, lon, lev]**2 - Bz_IGRF[lat, lon, lev]*Un_y_TIEGCM[lat, lon, lev]/bnorm[lat, lon, lev]**2)))*(-Bx_IGRF[lat, lon, lev]*(Bx_IGRF[lat, lon, lev]*Un_z_TIEGCM[lat, lon, lev]/bnorm[lat, lon, lev] - Bz_IGRF[lat, lon, lev]*Un_x_TIEGCM[lat, lon, lev]/bnorm[lat, lon, lev]) + By_IGRF[lat, lon, lev]*(-By_IGRF[lat, lon, lev]*Un_z_TIEGCM[lat, lon, lev]/bnorm[lat, lon, lev] + Bz_IGRF[lat, lon, lev]*Un_y_TIEGCM[lat, lon, lev]/bnorm[lat, lon, lev]) + Evertz[lat, lon, lev])/(bnorm[lat, lon, lev]*(Omega_Op_TIEGCM[lat, lon, lev]**2 + nu_Op_TIEGCM[lat, lon, lev]**2)) + (Omega_Op_TIEGCM[lat, lon, lev]**2*(Bx_IGRF[lat, lon, lev]*(-Bx_IGRF[lat, lon, lev]*(-Bx_IGRF[lat, lon, lev]*Un_z_TIEGCM[lat, lon, lev]/bnorm[lat, lon, lev]**2 + Bz_IGRF[lat, lon, lev]*Un_x_TIEGCM[lat, lon, lev]/bnorm[lat, lon, lev]**2) + By_IGRF[lat, lon, lev]*(By_IGRF[lat, lon, lev]*Un_z_TIEGCM[lat, lon, lev]/bnorm[lat, lon, lev]**2 - Bz_IGRF[lat, lon, lev]*Un_y_TIEGCM[lat, lon, lev]/bnorm[lat, lon, lev]**2))/bnorm[lat, lon, lev] - Bx_IGRF[lat, lon, lev]*(-Bx_IGRF[lat, lon, lev]*(Bx_IGRF[lat, lon, lev]*Un_z_TIEGCM[lat, lon, lev]/bnorm[lat, lon, lev] - Bz_IGRF[lat, lon, lev]*Un_x_TIEGCM[lat, lon, lev]/bnorm[lat, lon, lev]) + By_IGRF[lat, lon, lev]*(-By_IGRF[lat, lon, lev]*Un_z_TIEGCM[lat, lon, lev]/bnorm[lat, lon, lev] + Bz_IGRF[lat, lon, lev]*Un_y_TIEGCM[lat, lon, lev]/bnorm[lat, lon, lev]) + Evertz[lat, lon, lev])/bnorm[lat, lon, lev]**2 - Bz_IGRF[lat, lon, lev]*(-By_IGRF[lat, lon, lev]*(Bx_IGRF[lat, lon, lev]*Un_y_TIEGCM[lat, lon, lev]/bnorm[lat, lon, lev]**2 - By_IGRF[lat, lon, lev]*Un_x_TIEGCM[lat, lon, lev]/bnorm[lat, lon, lev]**2) + Bz_IGRF[lat, lon, lev]*(-Bx_IGRF[lat, lon, lev]*Un_z_TIEGCM[lat, lon, lev]/bnorm[lat, lon, lev]**2 + Bz_IGRF[lat, lon, lev]*Un_x_TIEGCM[lat, lon, lev]/bnorm[lat, lon, lev]**2))/bnorm[lat, lon, lev] + Bz_IGRF[lat, lon, lev]*(-By_IGRF[lat, lon, lev]*(-Bx_IGRF[lat, lon, lev]*Un_y_TIEGCM[lat, lon, lev]/bnorm[lat, lon, lev] + By_IGRF[lat, lon, lev]*Un_x_TIEGCM[lat, lon, lev]/bnorm[lat, lon, lev]) + Bz_IGRF[lat, lon, lev]*(Bx_IGRF[lat, lon, lev]*Un_z_TIEGCM[lat, lon, lev]/bnorm[lat, lon, lev] - Bz_IGRF[lat, lon, lev]*Un_x_TIEGCM[lat, lon, lev]/bnorm[lat, lon, lev]) + Evertx[lat, lon, lev])/bnorm[lat, lon, lev]**2) + Omega_Op_TIEGCM[lat, lon, lev]*nu_Op_TIEGCM[lat, lon, lev]*(Bx_IGRF[lat, lon, lev]*(Bx_IGRF[lat, lon, lev]*Un_y_TIEGCM[lat, lon, lev]/bnorm[lat, lon, lev]**2 - By_IGRF[lat, lon, lev]*Un_x_TIEGCM[lat, lon, lev]/bnorm[lat, lon, lev]**2) - Bz_IGRF[lat, lon, lev]*(By_IGRF[lat, lon, lev]*Un_z_TIEGCM[lat, lon, lev]/bnorm[lat, lon, lev]**2 - Bz_IGRF[lat, lon, lev]*Un_y_TIEGCM[lat, lon, lev]/bnorm[lat, lon, lev]**2)))*(Bx_IGRF[lat, lon, lev]*(-Bx_IGRF[lat, lon, lev]*Un_y_TIEGCM[lat, lon, lev]/bnorm[lat, lon, lev] + By_IGRF[lat, lon, lev]*Un_x_TIEGCM[lat, lon, lev]/bnorm[lat, lon, lev]) - Bz_IGRF[lat, lon, lev]*(-By_IGRF[lat, lon, lev]*Un_z_TIEGCM[lat, lon, lev]/bnorm[lat, lon, lev] + Bz_IGRF[lat, lon, lev]*Un_y_TIEGCM[lat, lon, lev]/bnorm[lat, lon, lev]) + Everty[lat, lon, lev])/(bnorm[lat, lon, lev]*(Omega_Op_TIEGCM[lat, lon, lev]**2 + nu_Op_TIEGCM[lat, lon, lev]**2)) + (Omega_Op_TIEGCM[lat, lon, lev]**2*(-By_IGRF[lat, lon, lev]*(-Bx_IGRF[lat, lon, lev]*(-Bx_IGRF[lat, lon, lev]*Un_z_TIEGCM[lat, lon, lev]/bnorm[lat, lon, lev]**2 + Bz_IGRF[lat, lon, lev]*Un_x_TIEGCM[lat, lon, lev]/bnorm[lat, lon, lev]**2) + By_IGRF[lat, lon, lev]*(By_IGRF[lat, lon, lev]*Un_z_TIEGCM[lat, lon, lev]/bnorm[lat, lon, lev]**2 - Bz_IGRF[lat, lon, lev]*Un_y_TIEGCM[lat, lon, lev]/bnorm[lat, lon, lev]**2))/bnorm[lat, lon, lev] + By_IGRF[lat, lon, lev]*(-Bx_IGRF[lat, lon, lev]*(Bx_IGRF[lat, lon, lev]*Un_z_TIEGCM[lat, lon, lev]/bnorm[lat, lon, lev] - Bz_IGRF[lat, lon, lev]*Un_x_TIEGCM[lat, lon, lev]/bnorm[lat, lon, lev]) + By_IGRF[lat, lon, lev]*(-By_IGRF[lat, lon, lev]*Un_z_TIEGCM[lat, lon, lev]/bnorm[lat, lon, lev] + Bz_IGRF[lat, lon, lev]*Un_y_TIEGCM[lat, lon, lev]/bnorm[lat, lon, lev]) + Evertz[lat, lon, lev])/bnorm[lat, lon, lev]**2 + Bz_IGRF[lat, lon, lev]*(Bx_IGRF[lat, lon, lev]*(Bx_IGRF[lat, lon, lev]*Un_y_TIEGCM[lat, lon, lev]/bnorm[lat, lon, lev]**2 - By_IGRF[lat, lon, lev]*Un_x_TIEGCM[lat, lon, lev]/bnorm[lat, lon, lev]**2) - Bz_IGRF[lat, lon, lev]*(By_IGRF[lat, lon, lev]*Un_z_TIEGCM[lat, lon, lev]/bnorm[lat, lon, lev]**2 - Bz_IGRF[lat, lon, lev]*Un_y_TIEGCM[lat, lon, lev]/bnorm[lat, lon, lev]**2))/bnorm[lat, lon, lev] - Bz_IGRF[lat, lon, lev]*(Bx_IGRF[lat, lon, lev]*(-Bx_IGRF[lat, lon, lev]*Un_y_TIEGCM[lat, lon, lev]/bnorm[lat, lon, lev] + By_IGRF[lat, lon, lev]*Un_x_TIEGCM[lat, lon, lev]/bnorm[lat, lon, lev]) - Bz_IGRF[lat, lon, lev]*(-By_IGRF[lat, lon, lev]*Un_z_TIEGCM[lat, lon, lev]/bnorm[lat, lon, lev] + Bz_IGRF[lat, lon, lev]*Un_y_TIEGCM[lat, lon, lev]/bnorm[lat, lon, lev]) + Everty[lat, lon, lev])/bnorm[lat, lon, lev]**2) + Omega_Op_TIEGCM[lat, lon, lev]*nu_Op_TIEGCM[lat, lon, lev]*(-By_IGRF[lat, lon, lev]*(Bx_IGRF[lat, lon, lev]*Un_y_TIEGCM[lat, lon, lev]/bnorm[lat, lon, lev]**2 - By_IGRF[lat, lon, lev]*Un_x_TIEGCM[lat, lon, lev]/bnorm[lat, lon, lev]**2) + Bz_IGRF[lat, lon, lev]*(-Bx_IGRF[lat, lon, lev]*Un_z_TIEGCM[lat, lon, lev]/bnorm[lat, lon, lev]**2 + Bz_IGRF[lat, lon, lev]*Un_x_TIEGCM[lat, lon, lev]/bnorm[lat, lon, lev]**2)))*(-By_IGRF[lat, lon, lev]*(-Bx_IGRF[lat, lon, lev]*Un_y_TIEGCM[lat, lon, lev]/bnorm[lat, lon, lev] + By_IGRF[lat, lon, lev]*Un_x_TIEGCM[lat, lon, lev]/bnorm[lat, lon, lev]) + Bz_IGRF[lat, lon, lev]*(Bx_IGRF[lat, lon, lev]*Un_z_TIEGCM[lat, lon, lev]/bnorm[lat, lon, lev] - Bz_IGRF[lat, lon, lev]*Un_x_TIEGCM[lat, lon, lev]/bnorm[lat, lon, lev]) + Evertx[lat, lon, lev])/(bnorm[lat, lon, lev]*(Omega_Op_TIEGCM[lat, lon, lev]**2 + nu_Op_TIEGCM[lat, lon, lev]**2)) - (Omega_Op_TIEGCM[lat, lon, lev]**2*(-Bx_IGRF[lat, lon, lev]*(Bx_IGRF[lat, lon, lev]*(-Bx_IGRF[lat, lon, lev]*Un_y_TIEGCM[lat, lon, lev]/bnorm[lat, lon, lev] + By_IGRF[lat, lon, lev]*Un_x_TIEGCM[lat, lon, lev]/bnorm[lat, lon, lev]) - Bz_IGRF[lat, lon, lev]*(-By_IGRF[lat, lon, lev]*Un_z_TIEGCM[lat, lon, lev]/bnorm[lat, lon, lev] + Bz_IGRF[lat, lon, lev]*Un_y_TIEGCM[lat, lon, lev]/bnorm[lat, lon, lev]) + Everty[lat, lon, lev])/bnorm[lat, lon, lev] + By_IGRF[lat, lon, lev]*(-By_IGRF[lat, lon, lev]*(-Bx_IGRF[lat, lon, lev]*Un_y_TIEGCM[lat, lon, lev]/bnorm[lat, lon, lev] + By_IGRF[lat, lon, lev]*Un_x_TIEGCM[lat, lon, lev]/bnorm[lat, lon, lev]) + Bz_IGRF[lat, lon, lev]*(Bx_IGRF[lat, lon, lev]*Un_z_TIEGCM[lat, lon, lev]/bnorm[lat, lon, lev] - Bz_IGRF[lat, lon, lev]*Un_x_TIEGCM[lat, lon, lev]/bnorm[lat, lon, lev]) + Evertx[lat, lon, lev])/bnorm[lat, lon, lev]) + Omega_Op_TIEGCM[lat, lon, lev]*nu_Op_TIEGCM[lat, lon, lev]*(-Bx_IGRF[lat, lon, lev]*(Bx_IGRF[lat, lon, lev]*Un_z_TIEGCM[lat, lon, lev]/bnorm[lat, lon, lev] - Bz_IGRF[lat, lon, lev]*Un_x_TIEGCM[lat, lon, lev]/bnorm[lat, lon, lev]) + By_IGRF[lat, lon, lev]*(-By_IGRF[lat, lon, lev]*Un_z_TIEGCM[lat, lon, lev]/bnorm[lat, lon, lev] + Bz_IGRF[lat, lon, lev]*Un_y_TIEGCM[lat, lon, lev]/bnorm[lat, lon, lev]) + Evertz[lat, lon, lev]))*(-Bx_IGRF[lat, lon, lev]*(Bx_IGRF[lat, lon, lev]*Un_z_TIEGCM[lat, lon, lev]/bnorm[lat, lon, lev] - Bz_IGRF[lat, lon, lev]*Un_x_TIEGCM[lat, lon, lev]/bnorm[lat, lon, lev]) + By_IGRF[lat, lon, lev]*(-By_IGRF[lat, lon, lev]*Un_z_TIEGCM[lat, lon, lev]/bnorm[lat, lon, lev] + Bz_IGRF[lat, lon, lev]*Un_y_TIEGCM[lat, lon, lev]/bnorm[lat, lon, lev]) + Evertz[lat, lon, lev])/(bnorm[lat, lon, lev]**2*(Omega_Op_TIEGCM[lat, lon, lev]**2 + nu_Op_TIEGCM[lat, lon, lev]**2)) - (Omega_Op_TIEGCM[lat, lon, lev]**2*(Bx_IGRF[lat, lon, lev]*(-Bx_IGRF[lat, lon, lev]*(Bx_IGRF[lat, lon, lev]*Un_z_TIEGCM[lat, lon, lev]/bnorm[lat, lon, lev] - Bz_IGRF[lat, lon, lev]*Un_x_TIEGCM[lat, lon, lev]/bnorm[lat, lon, lev]) + By_IGRF[lat, lon, lev]*(-By_IGRF[lat, lon, lev]*Un_z_TIEGCM[lat, lon, lev]/bnorm[lat, lon, lev] + Bz_IGRF[lat, lon, lev]*Un_y_TIEGCM[lat, lon, lev]/bnorm[lat, lon, lev]) + Evertz[lat, lon, lev])/bnorm[lat, lon, lev] - Bz_IGRF[lat, lon, lev]*(-By_IGRF[lat, lon, lev]*(-Bx_IGRF[lat, lon, lev]*Un_y_TIEGCM[lat, lon, lev]/bnorm[lat, lon, lev] + By_IGRF[lat, lon, lev]*Un_x_TIEGCM[lat, lon, lev]/bnorm[lat, lon, lev]) + Bz_IGRF[lat, lon, lev]*(Bx_IGRF[lat, lon, lev]*Un_z_TIEGCM[lat, lon, lev]/bnorm[lat, lon, lev] - Bz_IGRF[lat, lon, lev]*Un_x_TIEGCM[lat, lon, lev]/bnorm[lat, lon, lev]) + Evertx[lat, lon, lev])/bnorm[lat, lon, lev]) + Omega_Op_TIEGCM[lat, lon, lev]*nu_Op_TIEGCM[lat, lon, lev]*(Bx_IGRF[lat, lon, lev]*(-Bx_IGRF[lat, lon, lev]*Un_y_TIEGCM[lat, lon, lev]/bnorm[lat, lon, lev] + By_IGRF[lat, lon, lev]*Un_x_TIEGCM[lat, lon, lev]/bnorm[lat, lon, lev]) - Bz_IGRF[lat, lon, lev]*(-By_IGRF[lat, lon, lev]*Un_z_TIEGCM[lat, lon, lev]/bnorm[lat, lon, lev] + Bz_IGRF[lat, lon, lev]*Un_y_TIEGCM[lat, lon, lev]/bnorm[lat, lon, lev]) + Everty[lat, lon, lev]))*(Bx_IGRF[lat, lon, lev]*(-Bx_IGRF[lat, lon, lev]*Un_y_TIEGCM[lat, lon, lev]/bnorm[lat, lon, lev] + By_IGRF[lat, lon, lev]*Un_x_TIEGCM[lat, lon, lev]/bnorm[lat, lon, lev]) - Bz_IGRF[lat, lon, lev]*(-By_IGRF[lat, lon, lev]*Un_z_TIEGCM[lat, lon, lev]/bnorm[lat, lon, lev] + Bz_IGRF[lat, lon, lev]*Un_y_TIEGCM[lat, lon, lev]/bnorm[lat, lon, lev]) + Everty[lat, lon, lev])/(bnorm[lat, lon, lev]**2*(Omega_Op_TIEGCM[lat, lon, lev]**2 + nu_Op_TIEGCM[lat, lon, lev]**2)) - (Omega_Op_TIEGCM[lat, lon, lev]**2*(-By_IGRF[lat, lon, lev]*(-Bx_IGRF[lat, lon, lev]*(Bx_IGRF[lat, lon, lev]*Un_z_TIEGCM[lat, lon, lev]/bnorm[lat, lon, lev] - Bz_IGRF[lat, lon, lev]*Un_x_TIEGCM[lat, lon, lev]/bnorm[lat, lon, lev]) + By_IGRF[lat, lon, lev]*(-By_IGRF[lat, lon, lev]*Un_z_TIEGCM[lat, lon, lev]/bnorm[lat, lon, lev] + Bz_IGRF[lat, lon, lev]*Un_y_TIEGCM[lat, lon, lev]/bnorm[lat, lon, lev]) + Evertz[lat, lon, lev])/bnorm[lat, lon, lev] + Bz_IGRF[lat, lon, lev]*(Bx_IGRF[lat, lon, lev]*(-Bx_IGRF[lat, lon, lev]*Un_y_TIEGCM[lat, lon, lev]/bnorm[lat, lon, lev] + By_IGRF[lat, lon, lev]*Un_x_TIEGCM[lat, lon, lev]/bnorm[lat, lon, lev]) - Bz_IGRF[lat, lon, lev]*(-By_IGRF[lat, lon, lev]*Un_z_TIEGCM[lat, lon, lev]/bnorm[lat, lon, lev] + Bz_IGRF[lat, lon, lev]*Un_y_TIEGCM[lat, lon, lev]/bnorm[lat, lon, lev]) + Everty[lat, lon, lev])/bnorm[lat, lon, lev]) + Omega_Op_TIEGCM[lat, lon, lev]*nu_Op_TIEGCM[lat, lon, lev]*(-By_IGRF[lat, lon, lev]*(-Bx_IGRF[lat, lon, lev]*Un_y_TIEGCM[lat, lon, lev]/bnorm[lat, lon, lev] + By_IGRF[lat, lon, lev]*Un_x_TIEGCM[lat, lon, lev]/bnorm[lat, lon, lev]) + Bz_IGRF[lat, lon, lev]*(Bx_IGRF[lat, lon, lev]*Un_z_TIEGCM[lat, lon, lev]/bnorm[lat, lon, lev] - Bz_IGRF[lat, lon, lev]*Un_x_TIEGCM[lat, lon, lev]/bnorm[lat, lon, lev]) + Evertx[lat, lon, lev]))*(-By_IGRF[lat, lon, lev]*(-Bx_IGRF[lat, lon, lev]*Un_y_TIEGCM[lat, lon, lev]/bnorm[lat, lon, lev] + By_IGRF[lat, lon, lev]*Un_x_TIEGCM[lat, lon, lev]/bnorm[lat, lon, lev]) + Bz_IGRF[lat, lon, lev]*(Bx_IGRF[lat, lon, lev]*Un_z_TIEGCM[lat, lon, lev]/bnorm[lat, lon, lev] - Bz_IGRF[lat, lon, lev]*Un_x_TIEGCM[lat, lon, lev]/bnorm[lat, lon, lev]) + Evertx[lat, lon, lev])/(bnorm[lat, lon, lev]**2*(Omega_Op_TIEGCM[lat, lon, lev]**2 + nu_Op_TIEGCM[lat, lon, lev]**2)))) ** 2\n",
    "                # ***************************************************************************************\n",
    "                eqJH1 = eqJH2 * (Ne_error_act * CubicCm2CubicM) ** 2  + eqJH3 * nu_Op_TIEGCM_error[lat, lon, lev] ** 2 + \\\n",
    "                        eqJH4 * dOmega_Op[lat, lon, lev] ** 2 + eqJH5 * Ex_error_act ** 2 + eqJH6 * Ey_error_act ** 2 + \\\n",
    "                        eqJH7 * Ez_error_act ** 2 + eqJH8 * Bx_error_act ** 2 + eqJH9 * By_error_act ** 2 + \\\n",
    "                        eqJH10 * Bz_error_act ** 2 + eqJH11 * Unx_error_act ** 2 + eqJH12 * Uny_error_act ** 2 + \\\n",
    "                        eqJH13 * Unz_error_act ** 2 + eqJH14 * dbnorm_squared\n",
    "                # *********************************\n",
    "                JH_error[lat, lon, lev] = sy.sqrt(eqJH1).evalf()  # in mW/m^3\n",
    "                JH_error_max[lat, lon, lev] = JH_error[lat, lon, lev] + Joule_Heating[lat, lon, lev]  # in mW/m^3\n",
    "                JH_error_min[lat, lon, lev] = Joule_Heating[lat, lon, lev] - JH_error[lat, lon, lev]  # in mW/m^3\n",
    "\n",
    "                # ########################## Frictional Heating Error Propagation ###################################\n",
    "                # dNe\n",
    "                eqFH2 = (1000*MO*nu_Op_TIEGCM[lat, lon, lev]*((Omega_Op_TIEGCM[lat, lon, lev]**2*(-Bx_IGRF[lat, lon, lev]*(Bx_IGRF[lat, lon, lev]*(-Bx_IGRF[lat, lon, lev]*Un_y_TIEGCM[lat, lon, lev]/bnorm[lat, lon, lev] + By_IGRF[lat, lon, lev]*Un_x_TIEGCM[lat, lon, lev]/bnorm[lat, lon, lev]) - Bz_IGRF[lat, lon, lev]*(-By_IGRF[lat, lon, lev]*Un_z_TIEGCM[lat, lon, lev]/bnorm[lat, lon, lev] + Bz_IGRF[lat, lon, lev]*Un_y_TIEGCM[lat, lon, lev]/bnorm[lat, lon, lev]) + Everty[lat, lon, lev])/bnorm[lat, lon, lev] + By_IGRF[lat, lon, lev]*(-By_IGRF[lat, lon, lev]*(-Bx_IGRF[lat, lon, lev]*Un_y_TIEGCM[lat, lon, lev]/bnorm[lat, lon, lev] + By_IGRF[lat, lon, lev]*Un_x_TIEGCM[lat, lon, lev]/bnorm[lat, lon, lev]) + Bz_IGRF[lat, lon, lev]*(Bx_IGRF[lat, lon, lev]*Un_z_TIEGCM[lat, lon, lev]/bnorm[lat, lon, lev] - Bz_IGRF[lat, lon, lev]*Un_x_TIEGCM[lat, lon, lev]/bnorm[lat, lon, lev]) + Evertx[lat, lon, lev])/bnorm[lat, lon, lev]) + Omega_Op_TIEGCM[lat, lon, lev]*nu_Op_TIEGCM[lat, lon, lev]*(-Bx_IGRF[lat, lon, lev]*(Bx_IGRF[lat, lon, lev]*Un_z_TIEGCM[lat, lon, lev]/bnorm[lat, lon, lev] - Bz_IGRF[lat, lon, lev]*Un_x_TIEGCM[lat, lon, lev]/bnorm[lat, lon, lev]) + By_IGRF[lat, lon, lev]*(-By_IGRF[lat, lon, lev]*Un_z_TIEGCM[lat, lon, lev]/bnorm[lat, lon, lev] + Bz_IGRF[lat, lon, lev]*Un_y_TIEGCM[lat, lon, lev]/bnorm[lat, lon, lev]) + Evertz[lat, lon, lev]))**2/(bnorm[lat, lon, lev]**2*(Omega_Op_TIEGCM[lat, lon, lev]**2 + nu_Op_TIEGCM[lat, lon, lev]**2)**2) + (Omega_Op_TIEGCM[lat, lon, lev]**2*(Bx_IGRF[lat, lon, lev]*(-Bx_IGRF[lat, lon, lev]*(Bx_IGRF[lat, lon, lev]*Un_z_TIEGCM[lat, lon, lev]/bnorm[lat, lon, lev] - Bz_IGRF[lat, lon, lev]*Un_x_TIEGCM[lat, lon, lev]/bnorm[lat, lon, lev]) + By_IGRF[lat, lon, lev]*(-By_IGRF[lat, lon, lev]*Un_z_TIEGCM[lat, lon, lev]/bnorm[lat, lon, lev] + Bz_IGRF[lat, lon, lev]*Un_y_TIEGCM[lat, lon, lev]/bnorm[lat, lon, lev]) + Evertz[lat, lon, lev])/bnorm[lat, lon, lev] - Bz_IGRF[lat, lon, lev]*(-By_IGRF[lat, lon, lev]*(-Bx_IGRF[lat, lon, lev]*Un_y_TIEGCM[lat, lon, lev]/bnorm[lat, lon, lev] + By_IGRF[lat, lon, lev]*Un_x_TIEGCM[lat, lon, lev]/bnorm[lat, lon, lev]) + Bz_IGRF[lat, lon, lev]*(Bx_IGRF[lat, lon, lev]*Un_z_TIEGCM[lat, lon, lev]/bnorm[lat, lon, lev] - Bz_IGRF[lat, lon, lev]*Un_x_TIEGCM[lat, lon, lev]/bnorm[lat, lon, lev]) + Evertx[lat, lon, lev])/bnorm[lat, lon, lev]) + Omega_Op_TIEGCM[lat, lon, lev]*nu_Op_TIEGCM[lat, lon, lev]*(Bx_IGRF[lat, lon, lev]*(-Bx_IGRF[lat, lon, lev]*Un_y_TIEGCM[lat, lon, lev]/bnorm[lat, lon, lev] + By_IGRF[lat, lon, lev]*Un_x_TIEGCM[lat, lon, lev]/bnorm[lat, lon, lev]) - Bz_IGRF[lat, lon, lev]*(-By_IGRF[lat, lon, lev]*Un_z_TIEGCM[lat, lon, lev]/bnorm[lat, lon, lev] + Bz_IGRF[lat, lon, lev]*Un_y_TIEGCM[lat, lon, lev]/bnorm[lat, lon, lev]) + Everty[lat, lon, lev]))**2/(bnorm[lat, lon, lev]**2*(Omega_Op_TIEGCM[lat, lon, lev]**2 + nu_Op_TIEGCM[lat, lon, lev]**2)**2) + (Omega_Op_TIEGCM[lat, lon, lev]**2*(-By_IGRF[lat, lon, lev]*(-Bx_IGRF[lat, lon, lev]*(Bx_IGRF[lat, lon, lev]*Un_z_TIEGCM[lat, lon, lev]/bnorm[lat, lon, lev] - Bz_IGRF[lat, lon, lev]*Un_x_TIEGCM[lat, lon, lev]/bnorm[lat, lon, lev]) + By_IGRF[lat, lon, lev]*(-By_IGRF[lat, lon, lev]*Un_z_TIEGCM[lat, lon, lev]/bnorm[lat, lon, lev] + Bz_IGRF[lat, lon, lev]*Un_y_TIEGCM[lat, lon, lev]/bnorm[lat, lon, lev]) + Evertz[lat, lon, lev])/bnorm[lat, lon, lev] + Bz_IGRF[lat, lon, lev]*(Bx_IGRF[lat, lon, lev]*(-Bx_IGRF[lat, lon, lev]*Un_y_TIEGCM[lat, lon, lev]/bnorm[lat, lon, lev] + By_IGRF[lat, lon, lev]*Un_x_TIEGCM[lat, lon, lev]/bnorm[lat, lon, lev]) - Bz_IGRF[lat, lon, lev]*(-By_IGRF[lat, lon, lev]*Un_z_TIEGCM[lat, lon, lev]/bnorm[lat, lon, lev] + Bz_IGRF[lat, lon, lev]*Un_y_TIEGCM[lat, lon, lev]/bnorm[lat, lon, lev]) + Everty[lat, lon, lev])/bnorm[lat, lon, lev]) + Omega_Op_TIEGCM[lat, lon, lev]*nu_Op_TIEGCM[lat, lon, lev]*(-By_IGRF[lat, lon, lev]*(-Bx_IGRF[lat, lon, lev]*Un_y_TIEGCM[lat, lon, lev]/bnorm[lat, lon, lev] + By_IGRF[lat, lon, lev]*Un_x_TIEGCM[lat, lon, lev]/bnorm[lat, lon, lev]) + Bz_IGRF[lat, lon, lev]*(Bx_IGRF[lat, lon, lev]*Un_z_TIEGCM[lat, lon, lev]/bnorm[lat, lon, lev] - Bz_IGRF[lat, lon, lev]*Un_x_TIEGCM[lat, lon, lev]/bnorm[lat, lon, lev]) + Evertx[lat, lon, lev]))**2/(bnorm[lat, lon, lev]**2*(Omega_Op_TIEGCM[lat, lon, lev]**2 + nu_Op_TIEGCM[lat, lon, lev]**2)**2))) ** 2\n",
    "                # ********************************************************************************\n",
    "                # dnu_Op\n",
    "                eqFH3 = (1000*MO*(Ne_TIEGCM[lat, lon, lev] * CubicCm2CubicM)*nu_Op_TIEGCM[lat, lon, lev]*(2*Omega_Op_TIEGCM[lat, lon, lev]*(Omega_Op_TIEGCM[lat, lon, lev]**2*(-Bx_IGRF[lat, lon, lev]*(Bx_IGRF[lat, lon, lev]*(-Bx_IGRF[lat, lon, lev]*Un_y_TIEGCM[lat, lon, lev]/bnorm[lat, lon, lev] + By_IGRF[lat, lon, lev]*Un_x_TIEGCM[lat, lon, lev]/bnorm[lat, lon, lev]) - Bz_IGRF[lat, lon, lev]*(-By_IGRF[lat, lon, lev]*Un_z_TIEGCM[lat, lon, lev]/bnorm[lat, lon, lev] + Bz_IGRF[lat, lon, lev]*Un_y_TIEGCM[lat, lon, lev]/bnorm[lat, lon, lev]) + Everty[lat, lon, lev])/bnorm[lat, lon, lev] + By_IGRF[lat, lon, lev]*(-By_IGRF[lat, lon, lev]*(-Bx_IGRF[lat, lon, lev]*Un_y_TIEGCM[lat, lon, lev]/bnorm[lat, lon, lev] + By_IGRF[lat, lon, lev]*Un_x_TIEGCM[lat, lon, lev]/bnorm[lat, lon, lev]) + Bz_IGRF[lat, lon, lev]*(Bx_IGRF[lat, lon, lev]*Un_z_TIEGCM[lat, lon, lev]/bnorm[lat, lon, lev] - Bz_IGRF[lat, lon, lev]*Un_x_TIEGCM[lat, lon, lev]/bnorm[lat, lon, lev]) + Evertx[lat, lon, lev])/bnorm[lat, lon, lev]) + Omega_Op_TIEGCM[lat, lon, lev]*nu_Op_TIEGCM[lat, lon, lev]*(-Bx_IGRF[lat, lon, lev]*(Bx_IGRF[lat, lon, lev]*Un_z_TIEGCM[lat, lon, lev]/bnorm[lat, lon, lev] - Bz_IGRF[lat, lon, lev]*Un_x_TIEGCM[lat, lon, lev]/bnorm[lat, lon, lev]) + By_IGRF[lat, lon, lev]*(-By_IGRF[lat, lon, lev]*Un_z_TIEGCM[lat, lon, lev]/bnorm[lat, lon, lev] + Bz_IGRF[lat, lon, lev]*Un_y_TIEGCM[lat, lon, lev]/bnorm[lat, lon, lev]) + Evertz[lat, lon, lev]))*(-Bx_IGRF[lat, lon, lev]*(Bx_IGRF[lat, lon, lev]*Un_z_TIEGCM[lat, lon, lev]/bnorm[lat, lon, lev] - Bz_IGRF[lat, lon, lev]*Un_x_TIEGCM[lat, lon, lev]/bnorm[lat, lon, lev]) + By_IGRF[lat, lon, lev]*(-By_IGRF[lat, lon, lev]*Un_z_TIEGCM[lat, lon, lev]/bnorm[lat, lon, lev] + Bz_IGRF[lat, lon, lev]*Un_y_TIEGCM[lat, lon, lev]/bnorm[lat, lon, lev]) + Evertz[lat, lon, lev])/(bnorm[lat, lon, lev]**2*(Omega_Op_TIEGCM[lat, lon, lev]**2 + nu_Op_TIEGCM[lat, lon, lev]**2)**2) + 2*Omega_Op_TIEGCM[lat, lon, lev]*(Omega_Op_TIEGCM[lat, lon, lev]**2*(Bx_IGRF[lat, lon, lev]*(-Bx_IGRF[lat, lon, lev]*(Bx_IGRF[lat, lon, lev]*Un_z_TIEGCM[lat, lon, lev]/bnorm[lat, lon, lev] - Bz_IGRF[lat, lon, lev]*Un_x_TIEGCM[lat, lon, lev]/bnorm[lat, lon, lev]) + By_IGRF[lat, lon, lev]*(-By_IGRF[lat, lon, lev]*Un_z_TIEGCM[lat, lon, lev]/bnorm[lat, lon, lev] + Bz_IGRF[lat, lon, lev]*Un_y_TIEGCM[lat, lon, lev]/bnorm[lat, lon, lev]) + Evertz[lat, lon, lev])/bnorm[lat, lon, lev] - Bz_IGRF[lat, lon, lev]*(-By_IGRF[lat, lon, lev]*(-Bx_IGRF[lat, lon, lev]*Un_y_TIEGCM[lat, lon, lev]/bnorm[lat, lon, lev] + By_IGRF[lat, lon, lev]*Un_x_TIEGCM[lat, lon, lev]/bnorm[lat, lon, lev]) + Bz_IGRF[lat, lon, lev]*(Bx_IGRF[lat, lon, lev]*Un_z_TIEGCM[lat, lon, lev]/bnorm[lat, lon, lev] - Bz_IGRF[lat, lon, lev]*Un_x_TIEGCM[lat, lon, lev]/bnorm[lat, lon, lev]) + Evertx[lat, lon, lev])/bnorm[lat, lon, lev]) + Omega_Op_TIEGCM[lat, lon, lev]*nu_Op_TIEGCM[lat, lon, lev]*(Bx_IGRF[lat, lon, lev]*(-Bx_IGRF[lat, lon, lev]*Un_y_TIEGCM[lat, lon, lev]/bnorm[lat, lon, lev] + By_IGRF[lat, lon, lev]*Un_x_TIEGCM[lat, lon, lev]/bnorm[lat, lon, lev]) - Bz_IGRF[lat, lon, lev]*(-By_IGRF[lat, lon, lev]*Un_z_TIEGCM[lat, lon, lev]/bnorm[lat, lon, lev] + Bz_IGRF[lat, lon, lev]*Un_y_TIEGCM[lat, lon, lev]/bnorm[lat, lon, lev]) + Everty[lat, lon, lev]))*(Bx_IGRF[lat, lon, lev]*(-Bx_IGRF[lat, lon, lev]*Un_y_TIEGCM[lat, lon, lev]/bnorm[lat, lon, lev] + By_IGRF[lat, lon, lev]*Un_x_TIEGCM[lat, lon, lev]/bnorm[lat, lon, lev]) - Bz_IGRF[lat, lon, lev]*(-By_IGRF[lat, lon, lev]*Un_z_TIEGCM[lat, lon, lev]/bnorm[lat, lon, lev] + Bz_IGRF[lat, lon, lev]*Un_y_TIEGCM[lat, lon, lev]/bnorm[lat, lon, lev]) + Everty[lat, lon, lev])/(bnorm[lat, lon, lev]**2*(Omega_Op_TIEGCM[lat, lon, lev]**2 + nu_Op_TIEGCM[lat, lon, lev]**2)**2) + 2*Omega_Op_TIEGCM[lat, lon, lev]*(Omega_Op_TIEGCM[lat, lon, lev]**2*(-By_IGRF[lat, lon, lev]*(-Bx_IGRF[lat, lon, lev]*(Bx_IGRF[lat, lon, lev]*Un_z_TIEGCM[lat, lon, lev]/bnorm[lat, lon, lev] - Bz_IGRF[lat, lon, lev]*Un_x_TIEGCM[lat, lon, lev]/bnorm[lat, lon, lev]) + By_IGRF[lat, lon, lev]*(-By_IGRF[lat, lon, lev]*Un_z_TIEGCM[lat, lon, lev]/bnorm[lat, lon, lev] + Bz_IGRF[lat, lon, lev]*Un_y_TIEGCM[lat, lon, lev]/bnorm[lat, lon, lev]) + Evertz[lat, lon, lev])/bnorm[lat, lon, lev] + Bz_IGRF[lat, lon, lev]*(Bx_IGRF[lat, lon, lev]*(-Bx_IGRF[lat, lon, lev]*Un_y_TIEGCM[lat, lon, lev]/bnorm[lat, lon, lev] + By_IGRF[lat, lon, lev]*Un_x_TIEGCM[lat, lon, lev]/bnorm[lat, lon, lev]) - Bz_IGRF[lat, lon, lev]*(-By_IGRF[lat, lon, lev]*Un_z_TIEGCM[lat, lon, lev]/bnorm[lat, lon, lev] + Bz_IGRF[lat, lon, lev]*Un_y_TIEGCM[lat, lon, lev]/bnorm[lat, lon, lev]) + Everty[lat, lon, lev])/bnorm[lat, lon, lev]) + Omega_Op_TIEGCM[lat, lon, lev]*nu_Op_TIEGCM[lat, lon, lev]*(-By_IGRF[lat, lon, lev]*(-Bx_IGRF[lat, lon, lev]*Un_y_TIEGCM[lat, lon, lev]/bnorm[lat, lon, lev] + By_IGRF[lat, lon, lev]*Un_x_TIEGCM[lat, lon, lev]/bnorm[lat, lon, lev]) + Bz_IGRF[lat, lon, lev]*(Bx_IGRF[lat, lon, lev]*Un_z_TIEGCM[lat, lon, lev]/bnorm[lat, lon, lev] - Bz_IGRF[lat, lon, lev]*Un_x_TIEGCM[lat, lon, lev]/bnorm[lat, lon, lev]) + Evertx[lat, lon, lev]))*(-By_IGRF[lat, lon, lev]*(-Bx_IGRF[lat, lon, lev]*Un_y_TIEGCM[lat, lon, lev]/bnorm[lat, lon, lev] + By_IGRF[lat, lon, lev]*Un_x_TIEGCM[lat, lon, lev]/bnorm[lat, lon, lev]) + Bz_IGRF[lat, lon, lev]*(Bx_IGRF[lat, lon, lev]*Un_z_TIEGCM[lat, lon, lev]/bnorm[lat, lon, lev] - Bz_IGRF[lat, lon, lev]*Un_x_TIEGCM[lat, lon, lev]/bnorm[lat, lon, lev]) + Evertx[lat, lon, lev])/(bnorm[lat, lon, lev]**2*(Omega_Op_TIEGCM[lat, lon, lev]**2 + nu_Op_TIEGCM[lat, lon, lev]**2)**2) - 4*nu_Op_TIEGCM[lat, lon, lev]*(Omega_Op_TIEGCM[lat, lon, lev]**2*(-Bx_IGRF[lat, lon, lev]*(Bx_IGRF[lat, lon, lev]*(-Bx_IGRF[lat, lon, lev]*Un_y_TIEGCM[lat, lon, lev]/bnorm[lat, lon, lev] + By_IGRF[lat, lon, lev]*Un_x_TIEGCM[lat, lon, lev]/bnorm[lat, lon, lev]) - Bz_IGRF[lat, lon, lev]*(-By_IGRF[lat, lon, lev]*Un_z_TIEGCM[lat, lon, lev]/bnorm[lat, lon, lev] + Bz_IGRF[lat, lon, lev]*Un_y_TIEGCM[lat, lon, lev]/bnorm[lat, lon, lev]) + Everty[lat, lon, lev])/bnorm[lat, lon, lev] + By_IGRF[lat, lon, lev]*(-By_IGRF[lat, lon, lev]*(-Bx_IGRF[lat, lon, lev]*Un_y_TIEGCM[lat, lon, lev]/bnorm[lat, lon, lev] + By_IGRF[lat, lon, lev]*Un_x_TIEGCM[lat, lon, lev]/bnorm[lat, lon, lev]) + Bz_IGRF[lat, lon, lev]*(Bx_IGRF[lat, lon, lev]*Un_z_TIEGCM[lat, lon, lev]/bnorm[lat, lon, lev] - Bz_IGRF[lat, lon, lev]*Un_x_TIEGCM[lat, lon, lev]/bnorm[lat, lon, lev]) + Evertx[lat, lon, lev])/bnorm[lat, lon, lev]) + Omega_Op_TIEGCM[lat, lon, lev]*nu_Op_TIEGCM[lat, lon, lev]*(-Bx_IGRF[lat, lon, lev]*(Bx_IGRF[lat, lon, lev]*Un_z_TIEGCM[lat, lon, lev]/bnorm[lat, lon, lev] - Bz_IGRF[lat, lon, lev]*Un_x_TIEGCM[lat, lon, lev]/bnorm[lat, lon, lev]) + By_IGRF[lat, lon, lev]*(-By_IGRF[lat, lon, lev]*Un_z_TIEGCM[lat, lon, lev]/bnorm[lat, lon, lev] + Bz_IGRF[lat, lon, lev]*Un_y_TIEGCM[lat, lon, lev]/bnorm[lat, lon, lev]) + Evertz[lat, lon, lev]))**2/(bnorm[lat, lon, lev]**2*(Omega_Op_TIEGCM[lat, lon, lev]**2 + nu_Op_TIEGCM[lat, lon, lev]**2)**3) - 4*nu_Op_TIEGCM[lat, lon, lev]*(Omega_Op_TIEGCM[lat, lon, lev]**2*(Bx_IGRF[lat, lon, lev]*(-Bx_IGRF[lat, lon, lev]*(Bx_IGRF[lat, lon, lev]*Un_z_TIEGCM[lat, lon, lev]/bnorm[lat, lon, lev] - Bz_IGRF[lat, lon, lev]*Un_x_TIEGCM[lat, lon, lev]/bnorm[lat, lon, lev]) + By_IGRF[lat, lon, lev]*(-By_IGRF[lat, lon, lev]*Un_z_TIEGCM[lat, lon, lev]/bnorm[lat, lon, lev] + Bz_IGRF[lat, lon, lev]*Un_y_TIEGCM[lat, lon, lev]/bnorm[lat, lon, lev]) + Evertz[lat, lon, lev])/bnorm[lat, lon, lev] - Bz_IGRF[lat, lon, lev]*(-By_IGRF[lat, lon, lev]*(-Bx_IGRF[lat, lon, lev]*Un_y_TIEGCM[lat, lon, lev]/bnorm[lat, lon, lev] + By_IGRF[lat, lon, lev]*Un_x_TIEGCM[lat, lon, lev]/bnorm[lat, lon, lev]) + Bz_IGRF[lat, lon, lev]*(Bx_IGRF[lat, lon, lev]*Un_z_TIEGCM[lat, lon, lev]/bnorm[lat, lon, lev] - Bz_IGRF[lat, lon, lev]*Un_x_TIEGCM[lat, lon, lev]/bnorm[lat, lon, lev]) + Evertx[lat, lon, lev])/bnorm[lat, lon, lev]) + Omega_Op_TIEGCM[lat, lon, lev]*nu_Op_TIEGCM[lat, lon, lev]*(Bx_IGRF[lat, lon, lev]*(-Bx_IGRF[lat, lon, lev]*Un_y_TIEGCM[lat, lon, lev]/bnorm[lat, lon, lev] + By_IGRF[lat, lon, lev]*Un_x_TIEGCM[lat, lon, lev]/bnorm[lat, lon, lev]) - Bz_IGRF[lat, lon, lev]*(-By_IGRF[lat, lon, lev]*Un_z_TIEGCM[lat, lon, lev]/bnorm[lat, lon, lev] + Bz_IGRF[lat, lon, lev]*Un_y_TIEGCM[lat, lon, lev]/bnorm[lat, lon, lev]) + Everty[lat, lon, lev]))**2/(bnorm[lat, lon, lev]**2*(Omega_Op_TIEGCM[lat, lon, lev]**2 + nu_Op_TIEGCM[lat, lon, lev]**2)**3) - 4*nu_Op_TIEGCM[lat, lon, lev]*(Omega_Op_TIEGCM[lat, lon, lev]**2*(-By_IGRF[lat, lon, lev]*(-Bx_IGRF[lat, lon, lev]*(Bx_IGRF[lat, lon, lev]*Un_z_TIEGCM[lat, lon, lev]/bnorm[lat, lon, lev] - Bz_IGRF[lat, lon, lev]*Un_x_TIEGCM[lat, lon, lev]/bnorm[lat, lon, lev]) + By_IGRF[lat, lon, lev]*(-By_IGRF[lat, lon, lev]*Un_z_TIEGCM[lat, lon, lev]/bnorm[lat, lon, lev] + Bz_IGRF[lat, lon, lev]*Un_y_TIEGCM[lat, lon, lev]/bnorm[lat, lon, lev]) + Evertz[lat, lon, lev])/bnorm[lat, lon, lev] + Bz_IGRF[lat, lon, lev]*(Bx_IGRF[lat, lon, lev]*(-Bx_IGRF[lat, lon, lev]*Un_y_TIEGCM[lat, lon, lev]/bnorm[lat, lon, lev] + By_IGRF[lat, lon, lev]*Un_x_TIEGCM[lat, lon, lev]/bnorm[lat, lon, lev]) - Bz_IGRF[lat, lon, lev]*(-By_IGRF[lat, lon, lev]*Un_z_TIEGCM[lat, lon, lev]/bnorm[lat, lon, lev] + Bz_IGRF[lat, lon, lev]*Un_y_TIEGCM[lat, lon, lev]/bnorm[lat, lon, lev]) + Everty[lat, lon, lev])/bnorm[lat, lon, lev]) + Omega_Op_TIEGCM[lat, lon, lev]*nu_Op_TIEGCM[lat, lon, lev]*(-By_IGRF[lat, lon, lev]*(-Bx_IGRF[lat, lon, lev]*Un_y_TIEGCM[lat, lon, lev]/bnorm[lat, lon, lev] + By_IGRF[lat, lon, lev]*Un_x_TIEGCM[lat, lon, lev]/bnorm[lat, lon, lev]) + Bz_IGRF[lat, lon, lev]*(Bx_IGRF[lat, lon, lev]*Un_z_TIEGCM[lat, lon, lev]/bnorm[lat, lon, lev] - Bz_IGRF[lat, lon, lev]*Un_x_TIEGCM[lat, lon, lev]/bnorm[lat, lon, lev]) + Evertx[lat, lon, lev]))**2/(bnorm[lat, lon, lev]**2*(Omega_Op_TIEGCM[lat, lon, lev]**2 + nu_Op_TIEGCM[lat, lon, lev]**2)**3)) + 1000*MO*(Ne_TIEGCM[lat, lon, lev] * CubicCm2CubicM)*((Omega_Op_TIEGCM[lat, lon, lev]**2*(-Bx_IGRF[lat, lon, lev]*(Bx_IGRF[lat, lon, lev]*(-Bx_IGRF[lat, lon, lev]*Un_y_TIEGCM[lat, lon, lev]/bnorm[lat, lon, lev] + By_IGRF[lat, lon, lev]*Un_x_TIEGCM[lat, lon, lev]/bnorm[lat, lon, lev]) - Bz_IGRF[lat, lon, lev]*(-By_IGRF[lat, lon, lev]*Un_z_TIEGCM[lat, lon, lev]/bnorm[lat, lon, lev] + Bz_IGRF[lat, lon, lev]*Un_y_TIEGCM[lat, lon, lev]/bnorm[lat, lon, lev]) + Everty[lat, lon, lev])/bnorm[lat, lon, lev] + By_IGRF[lat, lon, lev]*(-By_IGRF[lat, lon, lev]*(-Bx_IGRF[lat, lon, lev]*Un_y_TIEGCM[lat, lon, lev]/bnorm[lat, lon, lev] + By_IGRF[lat, lon, lev]*Un_x_TIEGCM[lat, lon, lev]/bnorm[lat, lon, lev]) + Bz_IGRF[lat, lon, lev]*(Bx_IGRF[lat, lon, lev]*Un_z_TIEGCM[lat, lon, lev]/bnorm[lat, lon, lev] - Bz_IGRF[lat, lon, lev]*Un_x_TIEGCM[lat, lon, lev]/bnorm[lat, lon, lev]) + Evertx[lat, lon, lev])/bnorm[lat, lon, lev]) + Omega_Op_TIEGCM[lat, lon, lev]*nu_Op_TIEGCM[lat, lon, lev]*(-Bx_IGRF[lat, lon, lev]*(Bx_IGRF[lat, lon, lev]*Un_z_TIEGCM[lat, lon, lev]/bnorm[lat, lon, lev] - Bz_IGRF[lat, lon, lev]*Un_x_TIEGCM[lat, lon, lev]/bnorm[lat, lon, lev]) + By_IGRF[lat, lon, lev]*(-By_IGRF[lat, lon, lev]*Un_z_TIEGCM[lat, lon, lev]/bnorm[lat, lon, lev] + Bz_IGRF[lat, lon, lev]*Un_y_TIEGCM[lat, lon, lev]/bnorm[lat, lon, lev]) + Evertz[lat, lon, lev]))**2/(bnorm[lat, lon, lev]**2*(Omega_Op_TIEGCM[lat, lon, lev]**2 + nu_Op_TIEGCM[lat, lon, lev]**2)**2) + (Omega_Op_TIEGCM[lat, lon, lev]**2*(Bx_IGRF[lat, lon, lev]*(-Bx_IGRF[lat, lon, lev]*(Bx_IGRF[lat, lon, lev]*Un_z_TIEGCM[lat, lon, lev]/bnorm[lat, lon, lev] - Bz_IGRF[lat, lon, lev]*Un_x_TIEGCM[lat, lon, lev]/bnorm[lat, lon, lev]) + By_IGRF[lat, lon, lev]*(-By_IGRF[lat, lon, lev]*Un_z_TIEGCM[lat, lon, lev]/bnorm[lat, lon, lev] + Bz_IGRF[lat, lon, lev]*Un_y_TIEGCM[lat, lon, lev]/bnorm[lat, lon, lev]) + Evertz[lat, lon, lev])/bnorm[lat, lon, lev] - Bz_IGRF[lat, lon, lev]*(-By_IGRF[lat, lon, lev]*(-Bx_IGRF[lat, lon, lev]*Un_y_TIEGCM[lat, lon, lev]/bnorm[lat, lon, lev] + By_IGRF[lat, lon, lev]*Un_x_TIEGCM[lat, lon, lev]/bnorm[lat, lon, lev]) + Bz_IGRF[lat, lon, lev]*(Bx_IGRF[lat, lon, lev]*Un_z_TIEGCM[lat, lon, lev]/bnorm[lat, lon, lev] - Bz_IGRF[lat, lon, lev]*Un_x_TIEGCM[lat, lon, lev]/bnorm[lat, lon, lev]) + Evertx[lat, lon, lev])/bnorm[lat, lon, lev]) + Omega_Op_TIEGCM[lat, lon, lev]*nu_Op_TIEGCM[lat, lon, lev]*(Bx_IGRF[lat, lon, lev]*(-Bx_IGRF[lat, lon, lev]*Un_y_TIEGCM[lat, lon, lev]/bnorm[lat, lon, lev] + By_IGRF[lat, lon, lev]*Un_x_TIEGCM[lat, lon, lev]/bnorm[lat, lon, lev]) - Bz_IGRF[lat, lon, lev]*(-By_IGRF[lat, lon, lev]*Un_z_TIEGCM[lat, lon, lev]/bnorm[lat, lon, lev] + Bz_IGRF[lat, lon, lev]*Un_y_TIEGCM[lat, lon, lev]/bnorm[lat, lon, lev]) + Everty[lat, lon, lev]))**2/(bnorm[lat, lon, lev]**2*(Omega_Op_TIEGCM[lat, lon, lev]**2 + nu_Op_TIEGCM[lat, lon, lev]**2)**2) + (Omega_Op_TIEGCM[lat, lon, lev]**2*(-By_IGRF[lat, lon, lev]*(-Bx_IGRF[lat, lon, lev]*(Bx_IGRF[lat, lon, lev]*Un_z_TIEGCM[lat, lon, lev]/bnorm[lat, lon, lev] - Bz_IGRF[lat, lon, lev]*Un_x_TIEGCM[lat, lon, lev]/bnorm[lat, lon, lev]) + By_IGRF[lat, lon, lev]*(-By_IGRF[lat, lon, lev]*Un_z_TIEGCM[lat, lon, lev]/bnorm[lat, lon, lev] + Bz_IGRF[lat, lon, lev]*Un_y_TIEGCM[lat, lon, lev]/bnorm[lat, lon, lev]) + Evertz[lat, lon, lev])/bnorm[lat, lon, lev] + Bz_IGRF[lat, lon, lev]*(Bx_IGRF[lat, lon, lev]*(-Bx_IGRF[lat, lon, lev]*Un_y_TIEGCM[lat, lon, lev]/bnorm[lat, lon, lev] + By_IGRF[lat, lon, lev]*Un_x_TIEGCM[lat, lon, lev]/bnorm[lat, lon, lev]) - Bz_IGRF[lat, lon, lev]*(-By_IGRF[lat, lon, lev]*Un_z_TIEGCM[lat, lon, lev]/bnorm[lat, lon, lev] + Bz_IGRF[lat, lon, lev]*Un_y_TIEGCM[lat, lon, lev]/bnorm[lat, lon, lev]) + Everty[lat, lon, lev])/bnorm[lat, lon, lev]) + Omega_Op_TIEGCM[lat, lon, lev]*nu_Op_TIEGCM[lat, lon, lev]*(-By_IGRF[lat, lon, lev]*(-Bx_IGRF[lat, lon, lev]*Un_y_TIEGCM[lat, lon, lev]/bnorm[lat, lon, lev] + By_IGRF[lat, lon, lev]*Un_x_TIEGCM[lat, lon, lev]/bnorm[lat, lon, lev]) + Bz_IGRF[lat, lon, lev]*(Bx_IGRF[lat, lon, lev]*Un_z_TIEGCM[lat, lon, lev]/bnorm[lat, lon, lev] - Bz_IGRF[lat, lon, lev]*Un_x_TIEGCM[lat, lon, lev]/bnorm[lat, lon, lev]) + Evertx[lat, lon, lev]))**2/(bnorm[lat, lon, lev]**2*(Omega_Op_TIEGCM[lat, lon, lev]**2 + nu_Op_TIEGCM[lat, lon, lev]**2)**2))) ** 2\n",
    "                # ********************************************************************************\n",
    "                # dOmega_Op\n",
    "                eqFH4 = (1000*MO*(Ne_TIEGCM[lat, lon, lev] * CubicCm2CubicM)*nu_Op_TIEGCM[lat, lon, lev]*(-4*Omega_Op_TIEGCM[lat, lon, lev]*(Omega_Op_TIEGCM[lat, lon, lev]**2*(-Bx_IGRF[lat, lon, lev]*(Bx_IGRF[lat, lon, lev]*(-Bx_IGRF[lat, lon, lev]*Un_y_TIEGCM[lat, lon, lev]/bnorm[lat, lon, lev] + By_IGRF[lat, lon, lev]*Un_x_TIEGCM[lat, lon, lev]/bnorm[lat, lon, lev]) - Bz_IGRF[lat, lon, lev]*(-By_IGRF[lat, lon, lev]*Un_z_TIEGCM[lat, lon, lev]/bnorm[lat, lon, lev] + Bz_IGRF[lat, lon, lev]*Un_y_TIEGCM[lat, lon, lev]/bnorm[lat, lon, lev]) + Everty[lat, lon, lev])/bnorm[lat, lon, lev] + By_IGRF[lat, lon, lev]*(-By_IGRF[lat, lon, lev]*(-Bx_IGRF[lat, lon, lev]*Un_y_TIEGCM[lat, lon, lev]/bnorm[lat, lon, lev] + By_IGRF[lat, lon, lev]*Un_x_TIEGCM[lat, lon, lev]/bnorm[lat, lon, lev]) + Bz_IGRF[lat, lon, lev]*(Bx_IGRF[lat, lon, lev]*Un_z_TIEGCM[lat, lon, lev]/bnorm[lat, lon, lev] - Bz_IGRF[lat, lon, lev]*Un_x_TIEGCM[lat, lon, lev]/bnorm[lat, lon, lev]) + Evertx[lat, lon, lev])/bnorm[lat, lon, lev]) + Omega_Op_TIEGCM[lat, lon, lev]*nu_Op_TIEGCM[lat, lon, lev]*(-Bx_IGRF[lat, lon, lev]*(Bx_IGRF[lat, lon, lev]*Un_z_TIEGCM[lat, lon, lev]/bnorm[lat, lon, lev] - Bz_IGRF[lat, lon, lev]*Un_x_TIEGCM[lat, lon, lev]/bnorm[lat, lon, lev]) + By_IGRF[lat, lon, lev]*(-By_IGRF[lat, lon, lev]*Un_z_TIEGCM[lat, lon, lev]/bnorm[lat, lon, lev] + Bz_IGRF[lat, lon, lev]*Un_y_TIEGCM[lat, lon, lev]/bnorm[lat, lon, lev]) + Evertz[lat, lon, lev]))**2/(bnorm[lat, lon, lev]**2*(Omega_Op_TIEGCM[lat, lon, lev]**2 + nu_Op_TIEGCM[lat, lon, lev]**2)**3) - 4*Omega_Op_TIEGCM[lat, lon, lev]*(Omega_Op_TIEGCM[lat, lon, lev]**2*(Bx_IGRF[lat, lon, lev]*(-Bx_IGRF[lat, lon, lev]*(Bx_IGRF[lat, lon, lev]*Un_z_TIEGCM[lat, lon, lev]/bnorm[lat, lon, lev] - Bz_IGRF[lat, lon, lev]*Un_x_TIEGCM[lat, lon, lev]/bnorm[lat, lon, lev]) + By_IGRF[lat, lon, lev]*(-By_IGRF[lat, lon, lev]*Un_z_TIEGCM[lat, lon, lev]/bnorm[lat, lon, lev] + Bz_IGRF[lat, lon, lev]*Un_y_TIEGCM[lat, lon, lev]/bnorm[lat, lon, lev]) + Evertz[lat, lon, lev])/bnorm[lat, lon, lev] - Bz_IGRF[lat, lon, lev]*(-By_IGRF[lat, lon, lev]*(-Bx_IGRF[lat, lon, lev]*Un_y_TIEGCM[lat, lon, lev]/bnorm[lat, lon, lev] + By_IGRF[lat, lon, lev]*Un_x_TIEGCM[lat, lon, lev]/bnorm[lat, lon, lev]) + Bz_IGRF[lat, lon, lev]*(Bx_IGRF[lat, lon, lev]*Un_z_TIEGCM[lat, lon, lev]/bnorm[lat, lon, lev] - Bz_IGRF[lat, lon, lev]*Un_x_TIEGCM[lat, lon, lev]/bnorm[lat, lon, lev]) + Evertx[lat, lon, lev])/bnorm[lat, lon, lev]) + Omega_Op_TIEGCM[lat, lon, lev]*nu_Op_TIEGCM[lat, lon, lev]*(Bx_IGRF[lat, lon, lev]*(-Bx_IGRF[lat, lon, lev]*Un_y_TIEGCM[lat, lon, lev]/bnorm[lat, lon, lev] + By_IGRF[lat, lon, lev]*Un_x_TIEGCM[lat, lon, lev]/bnorm[lat, lon, lev]) - Bz_IGRF[lat, lon, lev]*(-By_IGRF[lat, lon, lev]*Un_z_TIEGCM[lat, lon, lev]/bnorm[lat, lon, lev] + Bz_IGRF[lat, lon, lev]*Un_y_TIEGCM[lat, lon, lev]/bnorm[lat, lon, lev]) + Everty[lat, lon, lev]))**2/(bnorm[lat, lon, lev]**2*(Omega_Op_TIEGCM[lat, lon, lev]**2 + nu_Op_TIEGCM[lat, lon, lev]**2)**3) - 4*Omega_Op_TIEGCM[lat, lon, lev]*(Omega_Op_TIEGCM[lat, lon, lev]**2*(-By_IGRF[lat, lon, lev]*(-Bx_IGRF[lat, lon, lev]*(Bx_IGRF[lat, lon, lev]*Un_z_TIEGCM[lat, lon, lev]/bnorm[lat, lon, lev] - Bz_IGRF[lat, lon, lev]*Un_x_TIEGCM[lat, lon, lev]/bnorm[lat, lon, lev]) + By_IGRF[lat, lon, lev]*(-By_IGRF[lat, lon, lev]*Un_z_TIEGCM[lat, lon, lev]/bnorm[lat, lon, lev] + Bz_IGRF[lat, lon, lev]*Un_y_TIEGCM[lat, lon, lev]/bnorm[lat, lon, lev]) + Evertz[lat, lon, lev])/bnorm[lat, lon, lev] + Bz_IGRF[lat, lon, lev]*(Bx_IGRF[lat, lon, lev]*(-Bx_IGRF[lat, lon, lev]*Un_y_TIEGCM[lat, lon, lev]/bnorm[lat, lon, lev] + By_IGRF[lat, lon, lev]*Un_x_TIEGCM[lat, lon, lev]/bnorm[lat, lon, lev]) - Bz_IGRF[lat, lon, lev]*(-By_IGRF[lat, lon, lev]*Un_z_TIEGCM[lat, lon, lev]/bnorm[lat, lon, lev] + Bz_IGRF[lat, lon, lev]*Un_y_TIEGCM[lat, lon, lev]/bnorm[lat, lon, lev]) + Everty[lat, lon, lev])/bnorm[lat, lon, lev]) + Omega_Op_TIEGCM[lat, lon, lev]*nu_Op_TIEGCM[lat, lon, lev]*(-By_IGRF[lat, lon, lev]*(-Bx_IGRF[lat, lon, lev]*Un_y_TIEGCM[lat, lon, lev]/bnorm[lat, lon, lev] + By_IGRF[lat, lon, lev]*Un_x_TIEGCM[lat, lon, lev]/bnorm[lat, lon, lev]) + Bz_IGRF[lat, lon, lev]*(Bx_IGRF[lat, lon, lev]*Un_z_TIEGCM[lat, lon, lev]/bnorm[lat, lon, lev] - Bz_IGRF[lat, lon, lev]*Un_x_TIEGCM[lat, lon, lev]/bnorm[lat, lon, lev]) + Evertx[lat, lon, lev]))**2/(bnorm[lat, lon, lev]**2*(Omega_Op_TIEGCM[lat, lon, lev]**2 + nu_Op_TIEGCM[lat, lon, lev]**2)**3) + (4*Omega_Op_TIEGCM[lat, lon, lev]*(-Bx_IGRF[lat, lon, lev]*(Bx_IGRF[lat, lon, lev]*(-Bx_IGRF[lat, lon, lev]*Un_y_TIEGCM[lat, lon, lev]/bnorm[lat, lon, lev] + By_IGRF[lat, lon, lev]*Un_x_TIEGCM[lat, lon, lev]/bnorm[lat, lon, lev]) - Bz_IGRF[lat, lon, lev]*(-By_IGRF[lat, lon, lev]*Un_z_TIEGCM[lat, lon, lev]/bnorm[lat, lon, lev] + Bz_IGRF[lat, lon, lev]*Un_y_TIEGCM[lat, lon, lev]/bnorm[lat, lon, lev]) + Everty[lat, lon, lev])/bnorm[lat, lon, lev] + By_IGRF[lat, lon, lev]*(-By_IGRF[lat, lon, lev]*(-Bx_IGRF[lat, lon, lev]*Un_y_TIEGCM[lat, lon, lev]/bnorm[lat, lon, lev] + By_IGRF[lat, lon, lev]*Un_x_TIEGCM[lat, lon, lev]/bnorm[lat, lon, lev]) + Bz_IGRF[lat, lon, lev]*(Bx_IGRF[lat, lon, lev]*Un_z_TIEGCM[lat, lon, lev]/bnorm[lat, lon, lev] - Bz_IGRF[lat, lon, lev]*Un_x_TIEGCM[lat, lon, lev]/bnorm[lat, lon, lev]) + Evertx[lat, lon, lev])/bnorm[lat, lon, lev]) + 2*nu_Op_TIEGCM[lat, lon, lev]*(-Bx_IGRF[lat, lon, lev]*(Bx_IGRF[lat, lon, lev]*Un_z_TIEGCM[lat, lon, lev]/bnorm[lat, lon, lev] - Bz_IGRF[lat, lon, lev]*Un_x_TIEGCM[lat, lon, lev]/bnorm[lat, lon, lev]) + By_IGRF[lat, lon, lev]*(-By_IGRF[lat, lon, lev]*Un_z_TIEGCM[lat, lon, lev]/bnorm[lat, lon, lev] + Bz_IGRF[lat, lon, lev]*Un_y_TIEGCM[lat, lon, lev]/bnorm[lat, lon, lev]) + Evertz[lat, lon, lev]))*(Omega_Op_TIEGCM[lat, lon, lev]**2*(-Bx_IGRF[lat, lon, lev]*(Bx_IGRF[lat, lon, lev]*(-Bx_IGRF[lat, lon, lev]*Un_y_TIEGCM[lat, lon, lev]/bnorm[lat, lon, lev] + By_IGRF[lat, lon, lev]*Un_x_TIEGCM[lat, lon, lev]/bnorm[lat, lon, lev]) - Bz_IGRF[lat, lon, lev]*(-By_IGRF[lat, lon, lev]*Un_z_TIEGCM[lat, lon, lev]/bnorm[lat, lon, lev] + Bz_IGRF[lat, lon, lev]*Un_y_TIEGCM[lat, lon, lev]/bnorm[lat, lon, lev]) + Everty[lat, lon, lev])/bnorm[lat, lon, lev] + By_IGRF[lat, lon, lev]*(-By_IGRF[lat, lon, lev]*(-Bx_IGRF[lat, lon, lev]*Un_y_TIEGCM[lat, lon, lev]/bnorm[lat, lon, lev] + By_IGRF[lat, lon, lev]*Un_x_TIEGCM[lat, lon, lev]/bnorm[lat, lon, lev]) + Bz_IGRF[lat, lon, lev]*(Bx_IGRF[lat, lon, lev]*Un_z_TIEGCM[lat, lon, lev]/bnorm[lat, lon, lev] - Bz_IGRF[lat, lon, lev]*Un_x_TIEGCM[lat, lon, lev]/bnorm[lat, lon, lev]) + Evertx[lat, lon, lev])/bnorm[lat, lon, lev]) + Omega_Op_TIEGCM[lat, lon, lev]*nu_Op_TIEGCM[lat, lon, lev]*(-Bx_IGRF[lat, lon, lev]*(Bx_IGRF[lat, lon, lev]*Un_z_TIEGCM[lat, lon, lev]/bnorm[lat, lon, lev] - Bz_IGRF[lat, lon, lev]*Un_x_TIEGCM[lat, lon, lev]/bnorm[lat, lon, lev]) + By_IGRF[lat, lon, lev]*(-By_IGRF[lat, lon, lev]*Un_z_TIEGCM[lat, lon, lev]/bnorm[lat, lon, lev] + Bz_IGRF[lat, lon, lev]*Un_y_TIEGCM[lat, lon, lev]/bnorm[lat, lon, lev]) + Evertz[lat, lon, lev]))/(bnorm[lat, lon, lev]**2*(Omega_Op_TIEGCM[lat, lon, lev]**2 + nu_Op_TIEGCM[lat, lon, lev]**2)**2) + (4*Omega_Op_TIEGCM[lat, lon, lev]*(Bx_IGRF[lat, lon, lev]*(-Bx_IGRF[lat, lon, lev]*(Bx_IGRF[lat, lon, lev]*Un_z_TIEGCM[lat, lon, lev]/bnorm[lat, lon, lev] - Bz_IGRF[lat, lon, lev]*Un_x_TIEGCM[lat, lon, lev]/bnorm[lat, lon, lev]) + By_IGRF[lat, lon, lev]*(-By_IGRF[lat, lon, lev]*Un_z_TIEGCM[lat, lon, lev]/bnorm[lat, lon, lev] + Bz_IGRF[lat, lon, lev]*Un_y_TIEGCM[lat, lon, lev]/bnorm[lat, lon, lev]) + Evertz[lat, lon, lev])/bnorm[lat, lon, lev] - Bz_IGRF[lat, lon, lev]*(-By_IGRF[lat, lon, lev]*(-Bx_IGRF[lat, lon, lev]*Un_y_TIEGCM[lat, lon, lev]/bnorm[lat, lon, lev] + By_IGRF[lat, lon, lev]*Un_x_TIEGCM[lat, lon, lev]/bnorm[lat, lon, lev]) + Bz_IGRF[lat, lon, lev]*(Bx_IGRF[lat, lon, lev]*Un_z_TIEGCM[lat, lon, lev]/bnorm[lat, lon, lev] - Bz_IGRF[lat, lon, lev]*Un_x_TIEGCM[lat, lon, lev]/bnorm[lat, lon, lev]) + Evertx[lat, lon, lev])/bnorm[lat, lon, lev]) + 2*nu_Op_TIEGCM[lat, lon, lev]*(Bx_IGRF[lat, lon, lev]*(-Bx_IGRF[lat, lon, lev]*Un_y_TIEGCM[lat, lon, lev]/bnorm[lat, lon, lev] + By_IGRF[lat, lon, lev]*Un_x_TIEGCM[lat, lon, lev]/bnorm[lat, lon, lev]) - Bz_IGRF[lat, lon, lev]*(-By_IGRF[lat, lon, lev]*Un_z_TIEGCM[lat, lon, lev]/bnorm[lat, lon, lev] + Bz_IGRF[lat, lon, lev]*Un_y_TIEGCM[lat, lon, lev]/bnorm[lat, lon, lev]) + Everty[lat, lon, lev]))*(Omega_Op_TIEGCM[lat, lon, lev]**2*(Bx_IGRF[lat, lon, lev]*(-Bx_IGRF[lat, lon, lev]*(Bx_IGRF[lat, lon, lev]*Un_z_TIEGCM[lat, lon, lev]/bnorm[lat, lon, lev] - Bz_IGRF[lat, lon, lev]*Un_x_TIEGCM[lat, lon, lev]/bnorm[lat, lon, lev]) + By_IGRF[lat, lon, lev]*(-By_IGRF[lat, lon, lev]*Un_z_TIEGCM[lat, lon, lev]/bnorm[lat, lon, lev] + Bz_IGRF[lat, lon, lev]*Un_y_TIEGCM[lat, lon, lev]/bnorm[lat, lon, lev]) + Evertz[lat, lon, lev])/bnorm[lat, lon, lev] - Bz_IGRF[lat, lon, lev]*(-By_IGRF[lat, lon, lev]*(-Bx_IGRF[lat, lon, lev]*Un_y_TIEGCM[lat, lon, lev]/bnorm[lat, lon, lev] + By_IGRF[lat, lon, lev]*Un_x_TIEGCM[lat, lon, lev]/bnorm[lat, lon, lev]) + Bz_IGRF[lat, lon, lev]*(Bx_IGRF[lat, lon, lev]*Un_z_TIEGCM[lat, lon, lev]/bnorm[lat, lon, lev] - Bz_IGRF[lat, lon, lev]*Un_x_TIEGCM[lat, lon, lev]/bnorm[lat, lon, lev]) + Evertx[lat, lon, lev])/bnorm[lat, lon, lev]) + Omega_Op_TIEGCM[lat, lon, lev]*nu_Op_TIEGCM[lat, lon, lev]*(Bx_IGRF[lat, lon, lev]*(-Bx_IGRF[lat, lon, lev]*Un_y_TIEGCM[lat, lon, lev]/bnorm[lat, lon, lev] + By_IGRF[lat, lon, lev]*Un_x_TIEGCM[lat, lon, lev]/bnorm[lat, lon, lev]) - Bz_IGRF[lat, lon, lev]*(-By_IGRF[lat, lon, lev]*Un_z_TIEGCM[lat, lon, lev]/bnorm[lat, lon, lev] + Bz_IGRF[lat, lon, lev]*Un_y_TIEGCM[lat, lon, lev]/bnorm[lat, lon, lev]) + Everty[lat, lon, lev]))/(bnorm[lat, lon, lev]**2*(Omega_Op_TIEGCM[lat, lon, lev]**2 + nu_Op_TIEGCM[lat, lon, lev]**2)**2) + (4*Omega_Op_TIEGCM[lat, lon, lev]*(-By_IGRF[lat, lon, lev]*(-Bx_IGRF[lat, lon, lev]*(Bx_IGRF[lat, lon, lev]*Un_z_TIEGCM[lat, lon, lev]/bnorm[lat, lon, lev] - Bz_IGRF[lat, lon, lev]*Un_x_TIEGCM[lat, lon, lev]/bnorm[lat, lon, lev]) + By_IGRF[lat, lon, lev]*(-By_IGRF[lat, lon, lev]*Un_z_TIEGCM[lat, lon, lev]/bnorm[lat, lon, lev] + Bz_IGRF[lat, lon, lev]*Un_y_TIEGCM[lat, lon, lev]/bnorm[lat, lon, lev]) + Evertz[lat, lon, lev])/bnorm[lat, lon, lev] + Bz_IGRF[lat, lon, lev]*(Bx_IGRF[lat, lon, lev]*(-Bx_IGRF[lat, lon, lev]*Un_y_TIEGCM[lat, lon, lev]/bnorm[lat, lon, lev] + By_IGRF[lat, lon, lev]*Un_x_TIEGCM[lat, lon, lev]/bnorm[lat, lon, lev]) - Bz_IGRF[lat, lon, lev]*(-By_IGRF[lat, lon, lev]*Un_z_TIEGCM[lat, lon, lev]/bnorm[lat, lon, lev] + Bz_IGRF[lat, lon, lev]*Un_y_TIEGCM[lat, lon, lev]/bnorm[lat, lon, lev]) + Everty[lat, lon, lev])/bnorm[lat, lon, lev]) + 2*nu_Op_TIEGCM[lat, lon, lev]*(-By_IGRF[lat, lon, lev]*(-Bx_IGRF[lat, lon, lev]*Un_y_TIEGCM[lat, lon, lev]/bnorm[lat, lon, lev] + By_IGRF[lat, lon, lev]*Un_x_TIEGCM[lat, lon, lev]/bnorm[lat, lon, lev]) + Bz_IGRF[lat, lon, lev]*(Bx_IGRF[lat, lon, lev]*Un_z_TIEGCM[lat, lon, lev]/bnorm[lat, lon, lev] - Bz_IGRF[lat, lon, lev]*Un_x_TIEGCM[lat, lon, lev]/bnorm[lat, lon, lev]) + Evertx[lat, lon, lev]))*(Omega_Op_TIEGCM[lat, lon, lev]**2*(-By_IGRF[lat, lon, lev]*(-Bx_IGRF[lat, lon, lev]*(Bx_IGRF[lat, lon, lev]*Un_z_TIEGCM[lat, lon, lev]/bnorm[lat, lon, lev] - Bz_IGRF[lat, lon, lev]*Un_x_TIEGCM[lat, lon, lev]/bnorm[lat, lon, lev]) + By_IGRF[lat, lon, lev]*(-By_IGRF[lat, lon, lev]*Un_z_TIEGCM[lat, lon, lev]/bnorm[lat, lon, lev] + Bz_IGRF[lat, lon, lev]*Un_y_TIEGCM[lat, lon, lev]/bnorm[lat, lon, lev]) + Evertz[lat, lon, lev])/bnorm[lat, lon, lev] + Bz_IGRF[lat, lon, lev]*(Bx_IGRF[lat, lon, lev]*(-Bx_IGRF[lat, lon, lev]*Un_y_TIEGCM[lat, lon, lev]/bnorm[lat, lon, lev] + By_IGRF[lat, lon, lev]*Un_x_TIEGCM[lat, lon, lev]/bnorm[lat, lon, lev]) - Bz_IGRF[lat, lon, lev]*(-By_IGRF[lat, lon, lev]*Un_z_TIEGCM[lat, lon, lev]/bnorm[lat, lon, lev] + Bz_IGRF[lat, lon, lev]*Un_y_TIEGCM[lat, lon, lev]/bnorm[lat, lon, lev]) + Everty[lat, lon, lev])/bnorm[lat, lon, lev]) + Omega_Op_TIEGCM[lat, lon, lev]*nu_Op_TIEGCM[lat, lon, lev]*(-By_IGRF[lat, lon, lev]*(-Bx_IGRF[lat, lon, lev]*Un_y_TIEGCM[lat, lon, lev]/bnorm[lat, lon, lev] + By_IGRF[lat, lon, lev]*Un_x_TIEGCM[lat, lon, lev]/bnorm[lat, lon, lev]) + Bz_IGRF[lat, lon, lev]*(Bx_IGRF[lat, lon, lev]*Un_z_TIEGCM[lat, lon, lev]/bnorm[lat, lon, lev] - Bz_IGRF[lat, lon, lev]*Un_x_TIEGCM[lat, lon, lev]/bnorm[lat, lon, lev]) + Evertx[lat, lon, lev]))/(bnorm[lat, lon, lev]**2*(Omega_Op_TIEGCM[lat, lon, lev]**2 + nu_Op_TIEGCM[lat, lon, lev]**2)**2))) ** 2\n",
    "                # ********************************************************************************\n",
    "                # dEvertx\n",
    "                eqFH5 = (1000*MO*(Ne_TIEGCM[lat, lon, lev] * CubicCm2CubicM)*nu_Op_TIEGCM[lat, lon, lev]*(2*By_IGRF[lat, lon, lev]*Omega_Op_TIEGCM[lat, lon, lev]**2*(Omega_Op_TIEGCM[lat, lon, lev]**2*(-Bx_IGRF[lat, lon, lev]*(Bx_IGRF[lat, lon, lev]*(-Bx_IGRF[lat, lon, lev]*Un_y_TIEGCM[lat, lon, lev]/bnorm[lat, lon, lev] + By_IGRF[lat, lon, lev]*Un_x_TIEGCM[lat, lon, lev]/bnorm[lat, lon, lev]) - Bz_IGRF[lat, lon, lev]*(-By_IGRF[lat, lon, lev]*Un_z_TIEGCM[lat, lon, lev]/bnorm[lat, lon, lev] + Bz_IGRF[lat, lon, lev]*Un_y_TIEGCM[lat, lon, lev]/bnorm[lat, lon, lev]) + Everty[lat, lon, lev])/bnorm[lat, lon, lev] + By_IGRF[lat, lon, lev]*(-By_IGRF[lat, lon, lev]*(-Bx_IGRF[lat, lon, lev]*Un_y_TIEGCM[lat, lon, lev]/bnorm[lat, lon, lev] + By_IGRF[lat, lon, lev]*Un_x_TIEGCM[lat, lon, lev]/bnorm[lat, lon, lev]) + Bz_IGRF[lat, lon, lev]*(Bx_IGRF[lat, lon, lev]*Un_z_TIEGCM[lat, lon, lev]/bnorm[lat, lon, lev] - Bz_IGRF[lat, lon, lev]*Un_x_TIEGCM[lat, lon, lev]/bnorm[lat, lon, lev]) + Evertx[lat, lon, lev])/bnorm[lat, lon, lev]) + Omega_Op_TIEGCM[lat, lon, lev]*nu_Op_TIEGCM[lat, lon, lev]*(-Bx_IGRF[lat, lon, lev]*(Bx_IGRF[lat, lon, lev]*Un_z_TIEGCM[lat, lon, lev]/bnorm[lat, lon, lev] - Bz_IGRF[lat, lon, lev]*Un_x_TIEGCM[lat, lon, lev]/bnorm[lat, lon, lev]) + By_IGRF[lat, lon, lev]*(-By_IGRF[lat, lon, lev]*Un_z_TIEGCM[lat, lon, lev]/bnorm[lat, lon, lev] + Bz_IGRF[lat, lon, lev]*Un_y_TIEGCM[lat, lon, lev]/bnorm[lat, lon, lev]) + Evertz[lat, lon, lev]))/(bnorm[lat, lon, lev]**3*(Omega_Op_TIEGCM[lat, lon, lev]**2 + nu_Op_TIEGCM[lat, lon, lev]**2)**2) - 2*Bz_IGRF[lat, lon, lev]*Omega_Op_TIEGCM[lat, lon, lev]**2*(Omega_Op_TIEGCM[lat, lon, lev]**2*(Bx_IGRF[lat, lon, lev]*(-Bx_IGRF[lat, lon, lev]*(Bx_IGRF[lat, lon, lev]*Un_z_TIEGCM[lat, lon, lev]/bnorm[lat, lon, lev] - Bz_IGRF[lat, lon, lev]*Un_x_TIEGCM[lat, lon, lev]/bnorm[lat, lon, lev]) + By_IGRF[lat, lon, lev]*(-By_IGRF[lat, lon, lev]*Un_z_TIEGCM[lat, lon, lev]/bnorm[lat, lon, lev] + Bz_IGRF[lat, lon, lev]*Un_y_TIEGCM[lat, lon, lev]/bnorm[lat, lon, lev]) + Evertz[lat, lon, lev])/bnorm[lat, lon, lev] - Bz_IGRF[lat, lon, lev]*(-By_IGRF[lat, lon, lev]*(-Bx_IGRF[lat, lon, lev]*Un_y_TIEGCM[lat, lon, lev]/bnorm[lat, lon, lev] + By_IGRF[lat, lon, lev]*Un_x_TIEGCM[lat, lon, lev]/bnorm[lat, lon, lev]) + Bz_IGRF[lat, lon, lev]*(Bx_IGRF[lat, lon, lev]*Un_z_TIEGCM[lat, lon, lev]/bnorm[lat, lon, lev] - Bz_IGRF[lat, lon, lev]*Un_x_TIEGCM[lat, lon, lev]/bnorm[lat, lon, lev]) + Evertx[lat, lon, lev])/bnorm[lat, lon, lev]) + Omega_Op_TIEGCM[lat, lon, lev]*nu_Op_TIEGCM[lat, lon, lev]*(Bx_IGRF[lat, lon, lev]*(-Bx_IGRF[lat, lon, lev]*Un_y_TIEGCM[lat, lon, lev]/bnorm[lat, lon, lev] + By_IGRF[lat, lon, lev]*Un_x_TIEGCM[lat, lon, lev]/bnorm[lat, lon, lev]) - Bz_IGRF[lat, lon, lev]*(-By_IGRF[lat, lon, lev]*Un_z_TIEGCM[lat, lon, lev]/bnorm[lat, lon, lev] + Bz_IGRF[lat, lon, lev]*Un_y_TIEGCM[lat, lon, lev]/bnorm[lat, lon, lev]) + Everty[lat, lon, lev]))/(bnorm[lat, lon, lev]**3*(Omega_Op_TIEGCM[lat, lon, lev]**2 + nu_Op_TIEGCM[lat, lon, lev]**2)**2) + 2*Omega_Op_TIEGCM[lat, lon, lev]*nu_Op_TIEGCM[lat, lon, lev]*(Omega_Op_TIEGCM[lat, lon, lev]**2*(-By_IGRF[lat, lon, lev]*(-Bx_IGRF[lat, lon, lev]*(Bx_IGRF[lat, lon, lev]*Un_z_TIEGCM[lat, lon, lev]/bnorm[lat, lon, lev] - Bz_IGRF[lat, lon, lev]*Un_x_TIEGCM[lat, lon, lev]/bnorm[lat, lon, lev]) + By_IGRF[lat, lon, lev]*(-By_IGRF[lat, lon, lev]*Un_z_TIEGCM[lat, lon, lev]/bnorm[lat, lon, lev] + Bz_IGRF[lat, lon, lev]*Un_y_TIEGCM[lat, lon, lev]/bnorm[lat, lon, lev]) + Evertz[lat, lon, lev])/bnorm[lat, lon, lev] + Bz_IGRF[lat, lon, lev]*(Bx_IGRF[lat, lon, lev]*(-Bx_IGRF[lat, lon, lev]*Un_y_TIEGCM[lat, lon, lev]/bnorm[lat, lon, lev] + By_IGRF[lat, lon, lev]*Un_x_TIEGCM[lat, lon, lev]/bnorm[lat, lon, lev]) - Bz_IGRF[lat, lon, lev]*(-By_IGRF[lat, lon, lev]*Un_z_TIEGCM[lat, lon, lev]/bnorm[lat, lon, lev] + Bz_IGRF[lat, lon, lev]*Un_y_TIEGCM[lat, lon, lev]/bnorm[lat, lon, lev]) + Everty[lat, lon, lev])/bnorm[lat, lon, lev]) + Omega_Op_TIEGCM[lat, lon, lev]*nu_Op_TIEGCM[lat, lon, lev]*(-By_IGRF[lat, lon, lev]*(-Bx_IGRF[lat, lon, lev]*Un_y_TIEGCM[lat, lon, lev]/bnorm[lat, lon, lev] + By_IGRF[lat, lon, lev]*Un_x_TIEGCM[lat, lon, lev]/bnorm[lat, lon, lev]) + Bz_IGRF[lat, lon, lev]*(Bx_IGRF[lat, lon, lev]*Un_z_TIEGCM[lat, lon, lev]/bnorm[lat, lon, lev] - Bz_IGRF[lat, lon, lev]*Un_x_TIEGCM[lat, lon, lev]/bnorm[lat, lon, lev]) + Evertx[lat, lon, lev]))/(bnorm[lat, lon, lev]**2*(Omega_Op_TIEGCM[lat, lon, lev]**2 + nu_Op_TIEGCM[lat, lon, lev]**2)**2))) ** 2\n",
    "                # ********************************************************************************\n",
    "                # dEverty\n",
    "                eqFH6 = (1000*MO*(Ne_TIEGCM[lat, lon, lev] * CubicCm2CubicM)*nu_Op_TIEGCM[lat, lon, lev]*(-2*Bx_IGRF[lat, lon, lev]*Omega_Op_TIEGCM[lat, lon, lev]**2*(Omega_Op_TIEGCM[lat, lon, lev]**2*(-Bx_IGRF[lat, lon, lev]*(Bx_IGRF[lat, lon, lev]*(-Bx_IGRF[lat, lon, lev]*Un_y_TIEGCM[lat, lon, lev]/bnorm[lat, lon, lev] + By_IGRF[lat, lon, lev]*Un_x_TIEGCM[lat, lon, lev]/bnorm[lat, lon, lev]) - Bz_IGRF[lat, lon, lev]*(-By_IGRF[lat, lon, lev]*Un_z_TIEGCM[lat, lon, lev]/bnorm[lat, lon, lev] + Bz_IGRF[lat, lon, lev]*Un_y_TIEGCM[lat, lon, lev]/bnorm[lat, lon, lev]) + Everty[lat, lon, lev])/bnorm[lat, lon, lev] + By_IGRF[lat, lon, lev]*(-By_IGRF[lat, lon, lev]*(-Bx_IGRF[lat, lon, lev]*Un_y_TIEGCM[lat, lon, lev]/bnorm[lat, lon, lev] + By_IGRF[lat, lon, lev]*Un_x_TIEGCM[lat, lon, lev]/bnorm[lat, lon, lev]) + Bz_IGRF[lat, lon, lev]*(Bx_IGRF[lat, lon, lev]*Un_z_TIEGCM[lat, lon, lev]/bnorm[lat, lon, lev] - Bz_IGRF[lat, lon, lev]*Un_x_TIEGCM[lat, lon, lev]/bnorm[lat, lon, lev]) + Evertx[lat, lon, lev])/bnorm[lat, lon, lev]) + Omega_Op_TIEGCM[lat, lon, lev]*nu_Op_TIEGCM[lat, lon, lev]*(-Bx_IGRF[lat, lon, lev]*(Bx_IGRF[lat, lon, lev]*Un_z_TIEGCM[lat, lon, lev]/bnorm[lat, lon, lev] - Bz_IGRF[lat, lon, lev]*Un_x_TIEGCM[lat, lon, lev]/bnorm[lat, lon, lev]) + By_IGRF[lat, lon, lev]*(-By_IGRF[lat, lon, lev]*Un_z_TIEGCM[lat, lon, lev]/bnorm[lat, lon, lev] + Bz_IGRF[lat, lon, lev]*Un_y_TIEGCM[lat, lon, lev]/bnorm[lat, lon, lev]) + Evertz[lat, lon, lev]))/(bnorm[lat, lon, lev]**3*(Omega_Op_TIEGCM[lat, lon, lev]**2 + nu_Op_TIEGCM[lat, lon, lev]**2)**2) + 2*Bz_IGRF[lat, lon, lev]*Omega_Op_TIEGCM[lat, lon, lev]**2*(Omega_Op_TIEGCM[lat, lon, lev]**2*(-By_IGRF[lat, lon, lev]*(-Bx_IGRF[lat, lon, lev]*(Bx_IGRF[lat, lon, lev]*Un_z_TIEGCM[lat, lon, lev]/bnorm[lat, lon, lev] - Bz_IGRF[lat, lon, lev]*Un_x_TIEGCM[lat, lon, lev]/bnorm[lat, lon, lev]) + By_IGRF[lat, lon, lev]*(-By_IGRF[lat, lon, lev]*Un_z_TIEGCM[lat, lon, lev]/bnorm[lat, lon, lev] + Bz_IGRF[lat, lon, lev]*Un_y_TIEGCM[lat, lon, lev]/bnorm[lat, lon, lev]) + Evertz[lat, lon, lev])/bnorm[lat, lon, lev] + Bz_IGRF[lat, lon, lev]*(Bx_IGRF[lat, lon, lev]*(-Bx_IGRF[lat, lon, lev]*Un_y_TIEGCM[lat, lon, lev]/bnorm[lat, lon, lev] + By_IGRF[lat, lon, lev]*Un_x_TIEGCM[lat, lon, lev]/bnorm[lat, lon, lev]) - Bz_IGRF[lat, lon, lev]*(-By_IGRF[lat, lon, lev]*Un_z_TIEGCM[lat, lon, lev]/bnorm[lat, lon, lev] + Bz_IGRF[lat, lon, lev]*Un_y_TIEGCM[lat, lon, lev]/bnorm[lat, lon, lev]) + Everty[lat, lon, lev])/bnorm[lat, lon, lev]) + Omega_Op_TIEGCM[lat, lon, lev]*nu_Op_TIEGCM[lat, lon, lev]*(-By_IGRF[lat, lon, lev]*(-Bx_IGRF[lat, lon, lev]*Un_y_TIEGCM[lat, lon, lev]/bnorm[lat, lon, lev] + By_IGRF[lat, lon, lev]*Un_x_TIEGCM[lat, lon, lev]/bnorm[lat, lon, lev]) + Bz_IGRF[lat, lon, lev]*(Bx_IGRF[lat, lon, lev]*Un_z_TIEGCM[lat, lon, lev]/bnorm[lat, lon, lev] - Bz_IGRF[lat, lon, lev]*Un_x_TIEGCM[lat, lon, lev]/bnorm[lat, lon, lev]) + Evertx[lat, lon, lev]))/(bnorm[lat, lon, lev]**3*(Omega_Op_TIEGCM[lat, lon, lev]**2 + nu_Op_TIEGCM[lat, lon, lev]**2)**2) + 2*Omega_Op_TIEGCM[lat, lon, lev]*nu_Op_TIEGCM[lat, lon, lev]*(Omega_Op_TIEGCM[lat, lon, lev]**2*(Bx_IGRF[lat, lon, lev]*(-Bx_IGRF[lat, lon, lev]*(Bx_IGRF[lat, lon, lev]*Un_z_TIEGCM[lat, lon, lev]/bnorm[lat, lon, lev] - Bz_IGRF[lat, lon, lev]*Un_x_TIEGCM[lat, lon, lev]/bnorm[lat, lon, lev]) + By_IGRF[lat, lon, lev]*(-By_IGRF[lat, lon, lev]*Un_z_TIEGCM[lat, lon, lev]/bnorm[lat, lon, lev] + Bz_IGRF[lat, lon, lev]*Un_y_TIEGCM[lat, lon, lev]/bnorm[lat, lon, lev]) + Evertz[lat, lon, lev])/bnorm[lat, lon, lev] - Bz_IGRF[lat, lon, lev]*(-By_IGRF[lat, lon, lev]*(-Bx_IGRF[lat, lon, lev]*Un_y_TIEGCM[lat, lon, lev]/bnorm[lat, lon, lev] + By_IGRF[lat, lon, lev]*Un_x_TIEGCM[lat, lon, lev]/bnorm[lat, lon, lev]) + Bz_IGRF[lat, lon, lev]*(Bx_IGRF[lat, lon, lev]*Un_z_TIEGCM[lat, lon, lev]/bnorm[lat, lon, lev] - Bz_IGRF[lat, lon, lev]*Un_x_TIEGCM[lat, lon, lev]/bnorm[lat, lon, lev]) + Evertx[lat, lon, lev])/bnorm[lat, lon, lev]) + Omega_Op_TIEGCM[lat, lon, lev]*nu_Op_TIEGCM[lat, lon, lev]*(Bx_IGRF[lat, lon, lev]*(-Bx_IGRF[lat, lon, lev]*Un_y_TIEGCM[lat, lon, lev]/bnorm[lat, lon, lev] + By_IGRF[lat, lon, lev]*Un_x_TIEGCM[lat, lon, lev]/bnorm[lat, lon, lev]) - Bz_IGRF[lat, lon, lev]*(-By_IGRF[lat, lon, lev]*Un_z_TIEGCM[lat, lon, lev]/bnorm[lat, lon, lev] + Bz_IGRF[lat, lon, lev]*Un_y_TIEGCM[lat, lon, lev]/bnorm[lat, lon, lev]) + Everty[lat, lon, lev]))/(bnorm[lat, lon, lev]**2*(Omega_Op_TIEGCM[lat, lon, lev]**2 + nu_Op_TIEGCM[lat, lon, lev]**2)**2))) ** 2\n",
    "                # ********************************************************************************\n",
    "                # dEvertz\n",
    "                eqFH7 = (1000*MO*(Ne_TIEGCM[lat, lon, lev] * CubicCm2CubicM)*nu_Op_TIEGCM[lat, lon, lev]*(2*Bx_IGRF[lat, lon, lev]*Omega_Op_TIEGCM[lat, lon, lev]**2*(Omega_Op_TIEGCM[lat, lon, lev]**2*(Bx_IGRF[lat, lon, lev]*(-Bx_IGRF[lat, lon, lev]*(Bx_IGRF[lat, lon, lev]*Un_z_TIEGCM[lat, lon, lev]/bnorm[lat, lon, lev] - Bz_IGRF[lat, lon, lev]*Un_x_TIEGCM[lat, lon, lev]/bnorm[lat, lon, lev]) + By_IGRF[lat, lon, lev]*(-By_IGRF[lat, lon, lev]*Un_z_TIEGCM[lat, lon, lev]/bnorm[lat, lon, lev] + Bz_IGRF[lat, lon, lev]*Un_y_TIEGCM[lat, lon, lev]/bnorm[lat, lon, lev]) + Evertz[lat, lon, lev])/bnorm[lat, lon, lev] - Bz_IGRF[lat, lon, lev]*(-By_IGRF[lat, lon, lev]*(-Bx_IGRF[lat, lon, lev]*Un_y_TIEGCM[lat, lon, lev]/bnorm[lat, lon, lev] + By_IGRF[lat, lon, lev]*Un_x_TIEGCM[lat, lon, lev]/bnorm[lat, lon, lev]) + Bz_IGRF[lat, lon, lev]*(Bx_IGRF[lat, lon, lev]*Un_z_TIEGCM[lat, lon, lev]/bnorm[lat, lon, lev] - Bz_IGRF[lat, lon, lev]*Un_x_TIEGCM[lat, lon, lev]/bnorm[lat, lon, lev]) + Evertx[lat, lon, lev])/bnorm[lat, lon, lev]) + Omega_Op_TIEGCM[lat, lon, lev]*nu_Op_TIEGCM[lat, lon, lev]*(Bx_IGRF[lat, lon, lev]*(-Bx_IGRF[lat, lon, lev]*Un_y_TIEGCM[lat, lon, lev]/bnorm[lat, lon, lev] + By_IGRF[lat, lon, lev]*Un_x_TIEGCM[lat, lon, lev]/bnorm[lat, lon, lev]) - Bz_IGRF[lat, lon, lev]*(-By_IGRF[lat, lon, lev]*Un_z_TIEGCM[lat, lon, lev]/bnorm[lat, lon, lev] + Bz_IGRF[lat, lon, lev]*Un_y_TIEGCM[lat, lon, lev]/bnorm[lat, lon, lev]) + Everty[lat, lon, lev]))/(bnorm[lat, lon, lev]**3*(Omega_Op_TIEGCM[lat, lon, lev]**2 + nu_Op_TIEGCM[lat, lon, lev]**2)**2) - 2*By_IGRF[lat, lon, lev]*Omega_Op_TIEGCM[lat, lon, lev]**2*(Omega_Op_TIEGCM[lat, lon, lev]**2*(-By_IGRF[lat, lon, lev]*(-Bx_IGRF[lat, lon, lev]*(Bx_IGRF[lat, lon, lev]*Un_z_TIEGCM[lat, lon, lev]/bnorm[lat, lon, lev] - Bz_IGRF[lat, lon, lev]*Un_x_TIEGCM[lat, lon, lev]/bnorm[lat, lon, lev]) + By_IGRF[lat, lon, lev]*(-By_IGRF[lat, lon, lev]*Un_z_TIEGCM[lat, lon, lev]/bnorm[lat, lon, lev] + Bz_IGRF[lat, lon, lev]*Un_y_TIEGCM[lat, lon, lev]/bnorm[lat, lon, lev]) + Evertz[lat, lon, lev])/bnorm[lat, lon, lev] + Bz_IGRF[lat, lon, lev]*(Bx_IGRF[lat, lon, lev]*(-Bx_IGRF[lat, lon, lev]*Un_y_TIEGCM[lat, lon, lev]/bnorm[lat, lon, lev] + By_IGRF[lat, lon, lev]*Un_x_TIEGCM[lat, lon, lev]/bnorm[lat, lon, lev]) - Bz_IGRF[lat, lon, lev]*(-By_IGRF[lat, lon, lev]*Un_z_TIEGCM[lat, lon, lev]/bnorm[lat, lon, lev] + Bz_IGRF[lat, lon, lev]*Un_y_TIEGCM[lat, lon, lev]/bnorm[lat, lon, lev]) + Everty[lat, lon, lev])/bnorm[lat, lon, lev]) + Omega_Op_TIEGCM[lat, lon, lev]*nu_Op_TIEGCM[lat, lon, lev]*(-By_IGRF[lat, lon, lev]*(-Bx_IGRF[lat, lon, lev]*Un_y_TIEGCM[lat, lon, lev]/bnorm[lat, lon, lev] + By_IGRF[lat, lon, lev]*Un_x_TIEGCM[lat, lon, lev]/bnorm[lat, lon, lev]) + Bz_IGRF[lat, lon, lev]*(Bx_IGRF[lat, lon, lev]*Un_z_TIEGCM[lat, lon, lev]/bnorm[lat, lon, lev] - Bz_IGRF[lat, lon, lev]*Un_x_TIEGCM[lat, lon, lev]/bnorm[lat, lon, lev]) + Evertx[lat, lon, lev]))/(bnorm[lat, lon, lev]**3*(Omega_Op_TIEGCM[lat, lon, lev]**2 + nu_Op_TIEGCM[lat, lon, lev]**2)**2) + 2*Omega_Op_TIEGCM[lat, lon, lev]*nu_Op_TIEGCM[lat, lon, lev]*(Omega_Op_TIEGCM[lat, lon, lev]**2*(-Bx_IGRF[lat, lon, lev]*(Bx_IGRF[lat, lon, lev]*(-Bx_IGRF[lat, lon, lev]*Un_y_TIEGCM[lat, lon, lev]/bnorm[lat, lon, lev] + By_IGRF[lat, lon, lev]*Un_x_TIEGCM[lat, lon, lev]/bnorm[lat, lon, lev]) - Bz_IGRF[lat, lon, lev]*(-By_IGRF[lat, lon, lev]*Un_z_TIEGCM[lat, lon, lev]/bnorm[lat, lon, lev] + Bz_IGRF[lat, lon, lev]*Un_y_TIEGCM[lat, lon, lev]/bnorm[lat, lon, lev]) + Everty[lat, lon, lev])/bnorm[lat, lon, lev] + By_IGRF[lat, lon, lev]*(-By_IGRF[lat, lon, lev]*(-Bx_IGRF[lat, lon, lev]*Un_y_TIEGCM[lat, lon, lev]/bnorm[lat, lon, lev] + By_IGRF[lat, lon, lev]*Un_x_TIEGCM[lat, lon, lev]/bnorm[lat, lon, lev]) + Bz_IGRF[lat, lon, lev]*(Bx_IGRF[lat, lon, lev]*Un_z_TIEGCM[lat, lon, lev]/bnorm[lat, lon, lev] - Bz_IGRF[lat, lon, lev]*Un_x_TIEGCM[lat, lon, lev]/bnorm[lat, lon, lev]) + Evertx[lat, lon, lev])/bnorm[lat, lon, lev]) + Omega_Op_TIEGCM[lat, lon, lev]*nu_Op_TIEGCM[lat, lon, lev]*(-Bx_IGRF[lat, lon, lev]*(Bx_IGRF[lat, lon, lev]*Un_z_TIEGCM[lat, lon, lev]/bnorm[lat, lon, lev] - Bz_IGRF[lat, lon, lev]*Un_x_TIEGCM[lat, lon, lev]/bnorm[lat, lon, lev]) + By_IGRF[lat, lon, lev]*(-By_IGRF[lat, lon, lev]*Un_z_TIEGCM[lat, lon, lev]/bnorm[lat, lon, lev] + Bz_IGRF[lat, lon, lev]*Un_y_TIEGCM[lat, lon, lev]/bnorm[lat, lon, lev]) + Evertz[lat, lon, lev]))/(bnorm[lat, lon, lev]**2*(Omega_Op_TIEGCM[lat, lon, lev]**2 + nu_Op_TIEGCM[lat, lon, lev]**2)**2))) ** 2\n",
    "                # ********************************************************************************\n",
    "                # dBx\n",
    "                eqFH8 = (1000*MO*(Ne_TIEGCM[lat, lon, lev] * CubicCm2CubicM)*nu_Op_TIEGCM[lat, lon, lev]*((Omega_Op_TIEGCM[lat, lon, lev]**2*(-Bx_IGRF[lat, lon, lev]*(Bx_IGRF[lat, lon, lev]*(-Bx_IGRF[lat, lon, lev]*Un_y_TIEGCM[lat, lon, lev]/bnorm[lat, lon, lev] + By_IGRF[lat, lon, lev]*Un_x_TIEGCM[lat, lon, lev]/bnorm[lat, lon, lev]) - Bz_IGRF[lat, lon, lev]*(-By_IGRF[lat, lon, lev]*Un_z_TIEGCM[lat, lon, lev]/bnorm[lat, lon, lev] + Bz_IGRF[lat, lon, lev]*Un_y_TIEGCM[lat, lon, lev]/bnorm[lat, lon, lev]) + Everty[lat, lon, lev])/bnorm[lat, lon, lev] + By_IGRF[lat, lon, lev]*(-By_IGRF[lat, lon, lev]*(-Bx_IGRF[lat, lon, lev]*Un_y_TIEGCM[lat, lon, lev]/bnorm[lat, lon, lev] + By_IGRF[lat, lon, lev]*Un_x_TIEGCM[lat, lon, lev]/bnorm[lat, lon, lev]) + Bz_IGRF[lat, lon, lev]*(Bx_IGRF[lat, lon, lev]*Un_z_TIEGCM[lat, lon, lev]/bnorm[lat, lon, lev] - Bz_IGRF[lat, lon, lev]*Un_x_TIEGCM[lat, lon, lev]/bnorm[lat, lon, lev]) + Evertx[lat, lon, lev])/bnorm[lat, lon, lev]) + Omega_Op_TIEGCM[lat, lon, lev]*nu_Op_TIEGCM[lat, lon, lev]*(-Bx_IGRF[lat, lon, lev]*(Bx_IGRF[lat, lon, lev]*Un_z_TIEGCM[lat, lon, lev]/bnorm[lat, lon, lev] - Bz_IGRF[lat, lon, lev]*Un_x_TIEGCM[lat, lon, lev]/bnorm[lat, lon, lev]) + By_IGRF[lat, lon, lev]*(-By_IGRF[lat, lon, lev]*Un_z_TIEGCM[lat, lon, lev]/bnorm[lat, lon, lev] + Bz_IGRF[lat, lon, lev]*Un_y_TIEGCM[lat, lon, lev]/bnorm[lat, lon, lev]) + Evertz[lat, lon, lev]))*(2*Omega_Op_TIEGCM[lat, lon, lev]**2*(-Bx_IGRF[lat, lon, lev]*(-2*Bx_IGRF[lat, lon, lev]*Un_y_TIEGCM[lat, lon, lev]/bnorm[lat, lon, lev] + By_IGRF[lat, lon, lev]*Un_x_TIEGCM[lat, lon, lev]/bnorm[lat, lon, lev])/bnorm[lat, lon, lev] + By_IGRF[lat, lon, lev]*(By_IGRF[lat, lon, lev]*Un_y_TIEGCM[lat, lon, lev]/bnorm[lat, lon, lev] + Bz_IGRF[lat, lon, lev]*Un_z_TIEGCM[lat, lon, lev]/bnorm[lat, lon, lev])/bnorm[lat, lon, lev] - (Bx_IGRF[lat, lon, lev]*(-Bx_IGRF[lat, lon, lev]*Un_y_TIEGCM[lat, lon, lev]/bnorm[lat, lon, lev] + By_IGRF[lat, lon, lev]*Un_x_TIEGCM[lat, lon, lev]/bnorm[lat, lon, lev]) - Bz_IGRF[lat, lon, lev]*(-By_IGRF[lat, lon, lev]*Un_z_TIEGCM[lat, lon, lev]/bnorm[lat, lon, lev] + Bz_IGRF[lat, lon, lev]*Un_y_TIEGCM[lat, lon, lev]/bnorm[lat, lon, lev]) + Everty[lat, lon, lev])/bnorm[lat, lon, lev]) + 2*Omega_Op_TIEGCM[lat, lon, lev]*nu_Op_TIEGCM[lat, lon, lev]*(-2*Bx_IGRF[lat, lon, lev]*Un_z_TIEGCM[lat, lon, lev]/bnorm[lat, lon, lev] + Bz_IGRF[lat, lon, lev]*Un_x_TIEGCM[lat, lon, lev]/bnorm[lat, lon, lev]))/(bnorm[lat, lon, lev]**2*(Omega_Op_TIEGCM[lat, lon, lev]**2 + nu_Op_TIEGCM[lat, lon, lev]**2)**2) + (Omega_Op_TIEGCM[lat, lon, lev]**2*(Bx_IGRF[lat, lon, lev]*(-Bx_IGRF[lat, lon, lev]*(Bx_IGRF[lat, lon, lev]*Un_z_TIEGCM[lat, lon, lev]/bnorm[lat, lon, lev] - Bz_IGRF[lat, lon, lev]*Un_x_TIEGCM[lat, lon, lev]/bnorm[lat, lon, lev]) + By_IGRF[lat, lon, lev]*(-By_IGRF[lat, lon, lev]*Un_z_TIEGCM[lat, lon, lev]/bnorm[lat, lon, lev] + Bz_IGRF[lat, lon, lev]*Un_y_TIEGCM[lat, lon, lev]/bnorm[lat, lon, lev]) + Evertz[lat, lon, lev])/bnorm[lat, lon, lev] - Bz_IGRF[lat, lon, lev]*(-By_IGRF[lat, lon, lev]*(-Bx_IGRF[lat, lon, lev]*Un_y_TIEGCM[lat, lon, lev]/bnorm[lat, lon, lev] + By_IGRF[lat, lon, lev]*Un_x_TIEGCM[lat, lon, lev]/bnorm[lat, lon, lev]) + Bz_IGRF[lat, lon, lev]*(Bx_IGRF[lat, lon, lev]*Un_z_TIEGCM[lat, lon, lev]/bnorm[lat, lon, lev] - Bz_IGRF[lat, lon, lev]*Un_x_TIEGCM[lat, lon, lev]/bnorm[lat, lon, lev]) + Evertx[lat, lon, lev])/bnorm[lat, lon, lev]) + Omega_Op_TIEGCM[lat, lon, lev]*nu_Op_TIEGCM[lat, lon, lev]*(Bx_IGRF[lat, lon, lev]*(-Bx_IGRF[lat, lon, lev]*Un_y_TIEGCM[lat, lon, lev]/bnorm[lat, lon, lev] + By_IGRF[lat, lon, lev]*Un_x_TIEGCM[lat, lon, lev]/bnorm[lat, lon, lev]) - Bz_IGRF[lat, lon, lev]*(-By_IGRF[lat, lon, lev]*Un_z_TIEGCM[lat, lon, lev]/bnorm[lat, lon, lev] + Bz_IGRF[lat, lon, lev]*Un_y_TIEGCM[lat, lon, lev]/bnorm[lat, lon, lev]) + Everty[lat, lon, lev]))*(2*Omega_Op_TIEGCM[lat, lon, lev]**2*(Bx_IGRF[lat, lon, lev]*(-2*Bx_IGRF[lat, lon, lev]*Un_z_TIEGCM[lat, lon, lev]/bnorm[lat, lon, lev] + Bz_IGRF[lat, lon, lev]*Un_x_TIEGCM[lat, lon, lev]/bnorm[lat, lon, lev])/bnorm[lat, lon, lev] - Bz_IGRF[lat, lon, lev]*(By_IGRF[lat, lon, lev]*Un_y_TIEGCM[lat, lon, lev]/bnorm[lat, lon, lev] + Bz_IGRF[lat, lon, lev]*Un_z_TIEGCM[lat, lon, lev]/bnorm[lat, lon, lev])/bnorm[lat, lon, lev] + (-Bx_IGRF[lat, lon, lev]*(Bx_IGRF[lat, lon, lev]*Un_z_TIEGCM[lat, lon, lev]/bnorm[lat, lon, lev] - Bz_IGRF[lat, lon, lev]*Un_x_TIEGCM[lat, lon, lev]/bnorm[lat, lon, lev]) + By_IGRF[lat, lon, lev]*(-By_IGRF[lat, lon, lev]*Un_z_TIEGCM[lat, lon, lev]/bnorm[lat, lon, lev] + Bz_IGRF[lat, lon, lev]*Un_y_TIEGCM[lat, lon, lev]/bnorm[lat, lon, lev]) + Evertz[lat, lon, lev])/bnorm[lat, lon, lev]) + 2*Omega_Op_TIEGCM[lat, lon, lev]*nu_Op_TIEGCM[lat, lon, lev]*(-2*Bx_IGRF[lat, lon, lev]*Un_y_TIEGCM[lat, lon, lev]/bnorm[lat, lon, lev] + By_IGRF[lat, lon, lev]*Un_x_TIEGCM[lat, lon, lev]/bnorm[lat, lon, lev]))/(bnorm[lat, lon, lev]**2*(Omega_Op_TIEGCM[lat, lon, lev]**2 + nu_Op_TIEGCM[lat, lon, lev]**2)**2) + (2*Omega_Op_TIEGCM[lat, lon, lev]**2*(-By_IGRF[lat, lon, lev]*(-2*Bx_IGRF[lat, lon, lev]*Un_z_TIEGCM[lat, lon, lev]/bnorm[lat, lon, lev] + Bz_IGRF[lat, lon, lev]*Un_x_TIEGCM[lat, lon, lev]/bnorm[lat, lon, lev])/bnorm[lat, lon, lev] + Bz_IGRF[lat, lon, lev]*(-2*Bx_IGRF[lat, lon, lev]*Un_y_TIEGCM[lat, lon, lev]/bnorm[lat, lon, lev] + By_IGRF[lat, lon, lev]*Un_x_TIEGCM[lat, lon, lev]/bnorm[lat, lon, lev])/bnorm[lat, lon, lev]) + 2*Omega_Op_TIEGCM[lat, lon, lev]*nu_Op_TIEGCM[lat, lon, lev]*(By_IGRF[lat, lon, lev]*Un_y_TIEGCM[lat, lon, lev]/bnorm[lat, lon, lev] + Bz_IGRF[lat, lon, lev]*Un_z_TIEGCM[lat, lon, lev]/bnorm[lat, lon, lev]))*(Omega_Op_TIEGCM[lat, lon, lev]**2*(-By_IGRF[lat, lon, lev]*(-Bx_IGRF[lat, lon, lev]*(Bx_IGRF[lat, lon, lev]*Un_z_TIEGCM[lat, lon, lev]/bnorm[lat, lon, lev] - Bz_IGRF[lat, lon, lev]*Un_x_TIEGCM[lat, lon, lev]/bnorm[lat, lon, lev]) + By_IGRF[lat, lon, lev]*(-By_IGRF[lat, lon, lev]*Un_z_TIEGCM[lat, lon, lev]/bnorm[lat, lon, lev] + Bz_IGRF[lat, lon, lev]*Un_y_TIEGCM[lat, lon, lev]/bnorm[lat, lon, lev]) + Evertz[lat, lon, lev])/bnorm[lat, lon, lev] + Bz_IGRF[lat, lon, lev]*(Bx_IGRF[lat, lon, lev]*(-Bx_IGRF[lat, lon, lev]*Un_y_TIEGCM[lat, lon, lev]/bnorm[lat, lon, lev] + By_IGRF[lat, lon, lev]*Un_x_TIEGCM[lat, lon, lev]/bnorm[lat, lon, lev]) - Bz_IGRF[lat, lon, lev]*(-By_IGRF[lat, lon, lev]*Un_z_TIEGCM[lat, lon, lev]/bnorm[lat, lon, lev] + Bz_IGRF[lat, lon, lev]*Un_y_TIEGCM[lat, lon, lev]/bnorm[lat, lon, lev]) + Everty[lat, lon, lev])/bnorm[lat, lon, lev]) + Omega_Op_TIEGCM[lat, lon, lev]*nu_Op_TIEGCM[lat, lon, lev]*(-By_IGRF[lat, lon, lev]*(-Bx_IGRF[lat, lon, lev]*Un_y_TIEGCM[lat, lon, lev]/bnorm[lat, lon, lev] + By_IGRF[lat, lon, lev]*Un_x_TIEGCM[lat, lon, lev]/bnorm[lat, lon, lev]) + Bz_IGRF[lat, lon, lev]*(Bx_IGRF[lat, lon, lev]*Un_z_TIEGCM[lat, lon, lev]/bnorm[lat, lon, lev] - Bz_IGRF[lat, lon, lev]*Un_x_TIEGCM[lat, lon, lev]/bnorm[lat, lon, lev]) + Evertx[lat, lon, lev]))/(bnorm[lat, lon, lev]**2*(Omega_Op_TIEGCM[lat, lon, lev]**2 + nu_Op_TIEGCM[lat, lon, lev]**2)**2))) ** 2\n",
    "                # ********************************************************************************\n",
    "                # dBy\n",
    "                eqFH9 = (1000*MO*(Ne_TIEGCM[lat, lon, lev] * CubicCm2CubicM)*nu_Op_TIEGCM[lat, lon, lev]*((2*Omega_Op_TIEGCM[lat, lon, lev]**2*(Bx_IGRF[lat, lon, lev]*(-2*By_IGRF[lat, lon, lev]*Un_z_TIEGCM[lat, lon, lev]/bnorm[lat, lon, lev] + Bz_IGRF[lat, lon, lev]*Un_y_TIEGCM[lat, lon, lev]/bnorm[lat, lon, lev])/bnorm[lat, lon, lev] - Bz_IGRF[lat, lon, lev]*(Bx_IGRF[lat, lon, lev]*Un_y_TIEGCM[lat, lon, lev]/bnorm[lat, lon, lev] - 2*By_IGRF[lat, lon, lev]*Un_x_TIEGCM[lat, lon, lev]/bnorm[lat, lon, lev])/bnorm[lat, lon, lev]) + 2*Omega_Op_TIEGCM[lat, lon, lev]*nu_Op_TIEGCM[lat, lon, lev]*(Bx_IGRF[lat, lon, lev]*Un_x_TIEGCM[lat, lon, lev]/bnorm[lat, lon, lev] + Bz_IGRF[lat, lon, lev]*Un_z_TIEGCM[lat, lon, lev]/bnorm[lat, lon, lev]))*(Omega_Op_TIEGCM[lat, lon, lev]**2*(Bx_IGRF[lat, lon, lev]*(-Bx_IGRF[lat, lon, lev]*(Bx_IGRF[lat, lon, lev]*Un_z_TIEGCM[lat, lon, lev]/bnorm[lat, lon, lev] - Bz_IGRF[lat, lon, lev]*Un_x_TIEGCM[lat, lon, lev]/bnorm[lat, lon, lev]) + By_IGRF[lat, lon, lev]*(-By_IGRF[lat, lon, lev]*Un_z_TIEGCM[lat, lon, lev]/bnorm[lat, lon, lev] + Bz_IGRF[lat, lon, lev]*Un_y_TIEGCM[lat, lon, lev]/bnorm[lat, lon, lev]) + Evertz[lat, lon, lev])/bnorm[lat, lon, lev] - Bz_IGRF[lat, lon, lev]*(-By_IGRF[lat, lon, lev]*(-Bx_IGRF[lat, lon, lev]*Un_y_TIEGCM[lat, lon, lev]/bnorm[lat, lon, lev] + By_IGRF[lat, lon, lev]*Un_x_TIEGCM[lat, lon, lev]/bnorm[lat, lon, lev]) + Bz_IGRF[lat, lon, lev]*(Bx_IGRF[lat, lon, lev]*Un_z_TIEGCM[lat, lon, lev]/bnorm[lat, lon, lev] - Bz_IGRF[lat, lon, lev]*Un_x_TIEGCM[lat, lon, lev]/bnorm[lat, lon, lev]) + Evertx[lat, lon, lev])/bnorm[lat, lon, lev]) + Omega_Op_TIEGCM[lat, lon, lev]*nu_Op_TIEGCM[lat, lon, lev]*(Bx_IGRF[lat, lon, lev]*(-Bx_IGRF[lat, lon, lev]*Un_y_TIEGCM[lat, lon, lev]/bnorm[lat, lon, lev] + By_IGRF[lat, lon, lev]*Un_x_TIEGCM[lat, lon, lev]/bnorm[lat, lon, lev]) - Bz_IGRF[lat, lon, lev]*(-By_IGRF[lat, lon, lev]*Un_z_TIEGCM[lat, lon, lev]/bnorm[lat, lon, lev] + Bz_IGRF[lat, lon, lev]*Un_y_TIEGCM[lat, lon, lev]/bnorm[lat, lon, lev]) + Everty[lat, lon, lev]))/(bnorm[lat, lon, lev]**2*(Omega_Op_TIEGCM[lat, lon, lev]**2 + nu_Op_TIEGCM[lat, lon, lev]**2)**2) + (Omega_Op_TIEGCM[lat, lon, lev]**2*(-Bx_IGRF[lat, lon, lev]*(Bx_IGRF[lat, lon, lev]*(-Bx_IGRF[lat, lon, lev]*Un_y_TIEGCM[lat, lon, lev]/bnorm[lat, lon, lev] + By_IGRF[lat, lon, lev]*Un_x_TIEGCM[lat, lon, lev]/bnorm[lat, lon, lev]) - Bz_IGRF[lat, lon, lev]*(-By_IGRF[lat, lon, lev]*Un_z_TIEGCM[lat, lon, lev]/bnorm[lat, lon, lev] + Bz_IGRF[lat, lon, lev]*Un_y_TIEGCM[lat, lon, lev]/bnorm[lat, lon, lev]) + Everty[lat, lon, lev])/bnorm[lat, lon, lev] + By_IGRF[lat, lon, lev]*(-By_IGRF[lat, lon, lev]*(-Bx_IGRF[lat, lon, lev]*Un_y_TIEGCM[lat, lon, lev]/bnorm[lat, lon, lev] + By_IGRF[lat, lon, lev]*Un_x_TIEGCM[lat, lon, lev]/bnorm[lat, lon, lev]) + Bz_IGRF[lat, lon, lev]*(Bx_IGRF[lat, lon, lev]*Un_z_TIEGCM[lat, lon, lev]/bnorm[lat, lon, lev] - Bz_IGRF[lat, lon, lev]*Un_x_TIEGCM[lat, lon, lev]/bnorm[lat, lon, lev]) + Evertx[lat, lon, lev])/bnorm[lat, lon, lev]) + Omega_Op_TIEGCM[lat, lon, lev]*nu_Op_TIEGCM[lat, lon, lev]*(-Bx_IGRF[lat, lon, lev]*(Bx_IGRF[lat, lon, lev]*Un_z_TIEGCM[lat, lon, lev]/bnorm[lat, lon, lev] - Bz_IGRF[lat, lon, lev]*Un_x_TIEGCM[lat, lon, lev]/bnorm[lat, lon, lev]) + By_IGRF[lat, lon, lev]*(-By_IGRF[lat, lon, lev]*Un_z_TIEGCM[lat, lon, lev]/bnorm[lat, lon, lev] + Bz_IGRF[lat, lon, lev]*Un_y_TIEGCM[lat, lon, lev]/bnorm[lat, lon, lev]) + Evertz[lat, lon, lev]))*(2*Omega_Op_TIEGCM[lat, lon, lev]**2*(-Bx_IGRF[lat, lon, lev]*(Bx_IGRF[lat, lon, lev]*Un_x_TIEGCM[lat, lon, lev]/bnorm[lat, lon, lev] + Bz_IGRF[lat, lon, lev]*Un_z_TIEGCM[lat, lon, lev]/bnorm[lat, lon, lev])/bnorm[lat, lon, lev] + By_IGRF[lat, lon, lev]*(Bx_IGRF[lat, lon, lev]*Un_y_TIEGCM[lat, lon, lev]/bnorm[lat, lon, lev] - 2*By_IGRF[lat, lon, lev]*Un_x_TIEGCM[lat, lon, lev]/bnorm[lat, lon, lev])/bnorm[lat, lon, lev] + (-By_IGRF[lat, lon, lev]*(-Bx_IGRF[lat, lon, lev]*Un_y_TIEGCM[lat, lon, lev]/bnorm[lat, lon, lev] + By_IGRF[lat, lon, lev]*Un_x_TIEGCM[lat, lon, lev]/bnorm[lat, lon, lev]) + Bz_IGRF[lat, lon, lev]*(Bx_IGRF[lat, lon, lev]*Un_z_TIEGCM[lat, lon, lev]/bnorm[lat, lon, lev] - Bz_IGRF[lat, lon, lev]*Un_x_TIEGCM[lat, lon, lev]/bnorm[lat, lon, lev]) + Evertx[lat, lon, lev])/bnorm[lat, lon, lev]) + 2*Omega_Op_TIEGCM[lat, lon, lev]*nu_Op_TIEGCM[lat, lon, lev]*(-2*By_IGRF[lat, lon, lev]*Un_z_TIEGCM[lat, lon, lev]/bnorm[lat, lon, lev] + Bz_IGRF[lat, lon, lev]*Un_y_TIEGCM[lat, lon, lev]/bnorm[lat, lon, lev]))/(bnorm[lat, lon, lev]**2*(Omega_Op_TIEGCM[lat, lon, lev]**2 + nu_Op_TIEGCM[lat, lon, lev]**2)**2) + (Omega_Op_TIEGCM[lat, lon, lev]**2*(-By_IGRF[lat, lon, lev]*(-Bx_IGRF[lat, lon, lev]*(Bx_IGRF[lat, lon, lev]*Un_z_TIEGCM[lat, lon, lev]/bnorm[lat, lon, lev] - Bz_IGRF[lat, lon, lev]*Un_x_TIEGCM[lat, lon, lev]/bnorm[lat, lon, lev]) + By_IGRF[lat, lon, lev]*(-By_IGRF[lat, lon, lev]*Un_z_TIEGCM[lat, lon, lev]/bnorm[lat, lon, lev] + Bz_IGRF[lat, lon, lev]*Un_y_TIEGCM[lat, lon, lev]/bnorm[lat, lon, lev]) + Evertz[lat, lon, lev])/bnorm[lat, lon, lev] + Bz_IGRF[lat, lon, lev]*(Bx_IGRF[lat, lon, lev]*(-Bx_IGRF[lat, lon, lev]*Un_y_TIEGCM[lat, lon, lev]/bnorm[lat, lon, lev] + By_IGRF[lat, lon, lev]*Un_x_TIEGCM[lat, lon, lev]/bnorm[lat, lon, lev]) - Bz_IGRF[lat, lon, lev]*(-By_IGRF[lat, lon, lev]*Un_z_TIEGCM[lat, lon, lev]/bnorm[lat, lon, lev] + Bz_IGRF[lat, lon, lev]*Un_y_TIEGCM[lat, lon, lev]/bnorm[lat, lon, lev]) + Everty[lat, lon, lev])/bnorm[lat, lon, lev]) + Omega_Op_TIEGCM[lat, lon, lev]*nu_Op_TIEGCM[lat, lon, lev]*(-By_IGRF[lat, lon, lev]*(-Bx_IGRF[lat, lon, lev]*Un_y_TIEGCM[lat, lon, lev]/bnorm[lat, lon, lev] + By_IGRF[lat, lon, lev]*Un_x_TIEGCM[lat, lon, lev]/bnorm[lat, lon, lev]) + Bz_IGRF[lat, lon, lev]*(Bx_IGRF[lat, lon, lev]*Un_z_TIEGCM[lat, lon, lev]/bnorm[lat, lon, lev] - Bz_IGRF[lat, lon, lev]*Un_x_TIEGCM[lat, lon, lev]/bnorm[lat, lon, lev]) + Evertx[lat, lon, lev]))*(2*Omega_Op_TIEGCM[lat, lon, lev]**2*(-By_IGRF[lat, lon, lev]*(-2*By_IGRF[lat, lon, lev]*Un_z_TIEGCM[lat, lon, lev]/bnorm[lat, lon, lev] + Bz_IGRF[lat, lon, lev]*Un_y_TIEGCM[lat, lon, lev]/bnorm[lat, lon, lev])/bnorm[lat, lon, lev] + Bz_IGRF[lat, lon, lev]*(Bx_IGRF[lat, lon, lev]*Un_x_TIEGCM[lat, lon, lev]/bnorm[lat, lon, lev] + Bz_IGRF[lat, lon, lev]*Un_z_TIEGCM[lat, lon, lev]/bnorm[lat, lon, lev])/bnorm[lat, lon, lev] - (-Bx_IGRF[lat, lon, lev]*(Bx_IGRF[lat, lon, lev]*Un_z_TIEGCM[lat, lon, lev]/bnorm[lat, lon, lev] - Bz_IGRF[lat, lon, lev]*Un_x_TIEGCM[lat, lon, lev]/bnorm[lat, lon, lev]) + By_IGRF[lat, lon, lev]*(-By_IGRF[lat, lon, lev]*Un_z_TIEGCM[lat, lon, lev]/bnorm[lat, lon, lev] + Bz_IGRF[lat, lon, lev]*Un_y_TIEGCM[lat, lon, lev]/bnorm[lat, lon, lev]) + Evertz[lat, lon, lev])/bnorm[lat, lon, lev]) + 2*Omega_Op_TIEGCM[lat, lon, lev]*nu_Op_TIEGCM[lat, lon, lev]*(Bx_IGRF[lat, lon, lev]*Un_y_TIEGCM[lat, lon, lev]/bnorm[lat, lon, lev] - 2*By_IGRF[lat, lon, lev]*Un_x_TIEGCM[lat, lon, lev]/bnorm[lat, lon, lev]))/(bnorm[lat, lon, lev]**2*(Omega_Op_TIEGCM[lat, lon, lev]**2 + nu_Op_TIEGCM[lat, lon, lev]**2)**2))) ** 2\n",
    "                # ********************************************************************************\n",
    "                # dBz\n",
    "                eqFH10 = (1000*MO*(Ne_TIEGCM[lat, lon, lev] * CubicCm2CubicM)*nu_Op_TIEGCM[lat, lon, lev]*((2*Omega_Op_TIEGCM[lat, lon, lev]**2*(-Bx_IGRF[lat, lon, lev]*(By_IGRF[lat, lon, lev]*Un_z_TIEGCM[lat, lon, lev]/bnorm[lat, lon, lev] - 2*Bz_IGRF[lat, lon, lev]*Un_y_TIEGCM[lat, lon, lev]/bnorm[lat, lon, lev])/bnorm[lat, lon, lev] + By_IGRF[lat, lon, lev]*(Bx_IGRF[lat, lon, lev]*Un_z_TIEGCM[lat, lon, lev]/bnorm[lat, lon, lev] - 2*Bz_IGRF[lat, lon, lev]*Un_x_TIEGCM[lat, lon, lev]/bnorm[lat, lon, lev])/bnorm[lat, lon, lev]) + 2*Omega_Op_TIEGCM[lat, lon, lev]*nu_Op_TIEGCM[lat, lon, lev]*(Bx_IGRF[lat, lon, lev]*Un_x_TIEGCM[lat, lon, lev]/bnorm[lat, lon, lev] + By_IGRF[lat, lon, lev]*Un_y_TIEGCM[lat, lon, lev]/bnorm[lat, lon, lev]))*(Omega_Op_TIEGCM[lat, lon, lev]**2*(-Bx_IGRF[lat, lon, lev]*(Bx_IGRF[lat, lon, lev]*(-Bx_IGRF[lat, lon, lev]*Un_y_TIEGCM[lat, lon, lev]/bnorm[lat, lon, lev] + By_IGRF[lat, lon, lev]*Un_x_TIEGCM[lat, lon, lev]/bnorm[lat, lon, lev]) - Bz_IGRF[lat, lon, lev]*(-By_IGRF[lat, lon, lev]*Un_z_TIEGCM[lat, lon, lev]/bnorm[lat, lon, lev] + Bz_IGRF[lat, lon, lev]*Un_y_TIEGCM[lat, lon, lev]/bnorm[lat, lon, lev]) + Everty[lat, lon, lev])/bnorm[lat, lon, lev] + By_IGRF[lat, lon, lev]*(-By_IGRF[lat, lon, lev]*(-Bx_IGRF[lat, lon, lev]*Un_y_TIEGCM[lat, lon, lev]/bnorm[lat, lon, lev] + By_IGRF[lat, lon, lev]*Un_x_TIEGCM[lat, lon, lev]/bnorm[lat, lon, lev]) + Bz_IGRF[lat, lon, lev]*(Bx_IGRF[lat, lon, lev]*Un_z_TIEGCM[lat, lon, lev]/bnorm[lat, lon, lev] - Bz_IGRF[lat, lon, lev]*Un_x_TIEGCM[lat, lon, lev]/bnorm[lat, lon, lev]) + Evertx[lat, lon, lev])/bnorm[lat, lon, lev]) + Omega_Op_TIEGCM[lat, lon, lev]*nu_Op_TIEGCM[lat, lon, lev]*(-Bx_IGRF[lat, lon, lev]*(Bx_IGRF[lat, lon, lev]*Un_z_TIEGCM[lat, lon, lev]/bnorm[lat, lon, lev] - Bz_IGRF[lat, lon, lev]*Un_x_TIEGCM[lat, lon, lev]/bnorm[lat, lon, lev]) + By_IGRF[lat, lon, lev]*(-By_IGRF[lat, lon, lev]*Un_z_TIEGCM[lat, lon, lev]/bnorm[lat, lon, lev] + Bz_IGRF[lat, lon, lev]*Un_y_TIEGCM[lat, lon, lev]/bnorm[lat, lon, lev]) + Evertz[lat, lon, lev]))/(bnorm[lat, lon, lev]**2*(Omega_Op_TIEGCM[lat, lon, lev]**2 + nu_Op_TIEGCM[lat, lon, lev]**2)**2) + (Omega_Op_TIEGCM[lat, lon, lev]**2*(Bx_IGRF[lat, lon, lev]*(-Bx_IGRF[lat, lon, lev]*(Bx_IGRF[lat, lon, lev]*Un_z_TIEGCM[lat, lon, lev]/bnorm[lat, lon, lev] - Bz_IGRF[lat, lon, lev]*Un_x_TIEGCM[lat, lon, lev]/bnorm[lat, lon, lev]) + By_IGRF[lat, lon, lev]*(-By_IGRF[lat, lon, lev]*Un_z_TIEGCM[lat, lon, lev]/bnorm[lat, lon, lev] + Bz_IGRF[lat, lon, lev]*Un_y_TIEGCM[lat, lon, lev]/bnorm[lat, lon, lev]) + Evertz[lat, lon, lev])/bnorm[lat, lon, lev] - Bz_IGRF[lat, lon, lev]*(-By_IGRF[lat, lon, lev]*(-Bx_IGRF[lat, lon, lev]*Un_y_TIEGCM[lat, lon, lev]/bnorm[lat, lon, lev] + By_IGRF[lat, lon, lev]*Un_x_TIEGCM[lat, lon, lev]/bnorm[lat, lon, lev]) + Bz_IGRF[lat, lon, lev]*(Bx_IGRF[lat, lon, lev]*Un_z_TIEGCM[lat, lon, lev]/bnorm[lat, lon, lev] - Bz_IGRF[lat, lon, lev]*Un_x_TIEGCM[lat, lon, lev]/bnorm[lat, lon, lev]) + Evertx[lat, lon, lev])/bnorm[lat, lon, lev]) + Omega_Op_TIEGCM[lat, lon, lev]*nu_Op_TIEGCM[lat, lon, lev]*(Bx_IGRF[lat, lon, lev]*(-Bx_IGRF[lat, lon, lev]*Un_y_TIEGCM[lat, lon, lev]/bnorm[lat, lon, lev] + By_IGRF[lat, lon, lev]*Un_x_TIEGCM[lat, lon, lev]/bnorm[lat, lon, lev]) - Bz_IGRF[lat, lon, lev]*(-By_IGRF[lat, lon, lev]*Un_z_TIEGCM[lat, lon, lev]/bnorm[lat, lon, lev] + Bz_IGRF[lat, lon, lev]*Un_y_TIEGCM[lat, lon, lev]/bnorm[lat, lon, lev]) + Everty[lat, lon, lev]))*(2*Omega_Op_TIEGCM[lat, lon, lev]**2*(Bx_IGRF[lat, lon, lev]*(Bx_IGRF[lat, lon, lev]*Un_x_TIEGCM[lat, lon, lev]/bnorm[lat, lon, lev] + By_IGRF[lat, lon, lev]*Un_y_TIEGCM[lat, lon, lev]/bnorm[lat, lon, lev])/bnorm[lat, lon, lev] - Bz_IGRF[lat, lon, lev]*(Bx_IGRF[lat, lon, lev]*Un_z_TIEGCM[lat, lon, lev]/bnorm[lat, lon, lev] - 2*Bz_IGRF[lat, lon, lev]*Un_x_TIEGCM[lat, lon, lev]/bnorm[lat, lon, lev])/bnorm[lat, lon, lev] - (-By_IGRF[lat, lon, lev]*(-Bx_IGRF[lat, lon, lev]*Un_y_TIEGCM[lat, lon, lev]/bnorm[lat, lon, lev] + By_IGRF[lat, lon, lev]*Un_x_TIEGCM[lat, lon, lev]/bnorm[lat, lon, lev]) + Bz_IGRF[lat, lon, lev]*(Bx_IGRF[lat, lon, lev]*Un_z_TIEGCM[lat, lon, lev]/bnorm[lat, lon, lev] - Bz_IGRF[lat, lon, lev]*Un_x_TIEGCM[lat, lon, lev]/bnorm[lat, lon, lev]) + Evertx[lat, lon, lev])/bnorm[lat, lon, lev]) + 2*Omega_Op_TIEGCM[lat, lon, lev]*nu_Op_TIEGCM[lat, lon, lev]*(By_IGRF[lat, lon, lev]*Un_z_TIEGCM[lat, lon, lev]/bnorm[lat, lon, lev] - 2*Bz_IGRF[lat, lon, lev]*Un_y_TIEGCM[lat, lon, lev]/bnorm[lat, lon, lev]))/(bnorm[lat, lon, lev]**2*(Omega_Op_TIEGCM[lat, lon, lev]**2 + nu_Op_TIEGCM[lat, lon, lev]**2)**2) + (Omega_Op_TIEGCM[lat, lon, lev]**2*(-By_IGRF[lat, lon, lev]*(-Bx_IGRF[lat, lon, lev]*(Bx_IGRF[lat, lon, lev]*Un_z_TIEGCM[lat, lon, lev]/bnorm[lat, lon, lev] - Bz_IGRF[lat, lon, lev]*Un_x_TIEGCM[lat, lon, lev]/bnorm[lat, lon, lev]) + By_IGRF[lat, lon, lev]*(-By_IGRF[lat, lon, lev]*Un_z_TIEGCM[lat, lon, lev]/bnorm[lat, lon, lev] + Bz_IGRF[lat, lon, lev]*Un_y_TIEGCM[lat, lon, lev]/bnorm[lat, lon, lev]) + Evertz[lat, lon, lev])/bnorm[lat, lon, lev] + Bz_IGRF[lat, lon, lev]*(Bx_IGRF[lat, lon, lev]*(-Bx_IGRF[lat, lon, lev]*Un_y_TIEGCM[lat, lon, lev]/bnorm[lat, lon, lev] + By_IGRF[lat, lon, lev]*Un_x_TIEGCM[lat, lon, lev]/bnorm[lat, lon, lev]) - Bz_IGRF[lat, lon, lev]*(-By_IGRF[lat, lon, lev]*Un_z_TIEGCM[lat, lon, lev]/bnorm[lat, lon, lev] + Bz_IGRF[lat, lon, lev]*Un_y_TIEGCM[lat, lon, lev]/bnorm[lat, lon, lev]) + Everty[lat, lon, lev])/bnorm[lat, lon, lev]) + Omega_Op_TIEGCM[lat, lon, lev]*nu_Op_TIEGCM[lat, lon, lev]*(-By_IGRF[lat, lon, lev]*(-Bx_IGRF[lat, lon, lev]*Un_y_TIEGCM[lat, lon, lev]/bnorm[lat, lon, lev] + By_IGRF[lat, lon, lev]*Un_x_TIEGCM[lat, lon, lev]/bnorm[lat, lon, lev]) + Bz_IGRF[lat, lon, lev]*(Bx_IGRF[lat, lon, lev]*Un_z_TIEGCM[lat, lon, lev]/bnorm[lat, lon, lev] - Bz_IGRF[lat, lon, lev]*Un_x_TIEGCM[lat, lon, lev]/bnorm[lat, lon, lev]) + Evertx[lat, lon, lev]))*(2*Omega_Op_TIEGCM[lat, lon, lev]**2*(-By_IGRF[lat, lon, lev]*(Bx_IGRF[lat, lon, lev]*Un_x_TIEGCM[lat, lon, lev]/bnorm[lat, lon, lev] + By_IGRF[lat, lon, lev]*Un_y_TIEGCM[lat, lon, lev]/bnorm[lat, lon, lev])/bnorm[lat, lon, lev] + Bz_IGRF[lat, lon, lev]*(By_IGRF[lat, lon, lev]*Un_z_TIEGCM[lat, lon, lev]/bnorm[lat, lon, lev] - 2*Bz_IGRF[lat, lon, lev]*Un_y_TIEGCM[lat, lon, lev]/bnorm[lat, lon, lev])/bnorm[lat, lon, lev] + (Bx_IGRF[lat, lon, lev]*(-Bx_IGRF[lat, lon, lev]*Un_y_TIEGCM[lat, lon, lev]/bnorm[lat, lon, lev] + By_IGRF[lat, lon, lev]*Un_x_TIEGCM[lat, lon, lev]/bnorm[lat, lon, lev]) - Bz_IGRF[lat, lon, lev]*(-By_IGRF[lat, lon, lev]*Un_z_TIEGCM[lat, lon, lev]/bnorm[lat, lon, lev] + Bz_IGRF[lat, lon, lev]*Un_y_TIEGCM[lat, lon, lev]/bnorm[lat, lon, lev]) + Everty[lat, lon, lev])/bnorm[lat, lon, lev]) + 2*Omega_Op_TIEGCM[lat, lon, lev]*nu_Op_TIEGCM[lat, lon, lev]*(Bx_IGRF[lat, lon, lev]*Un_z_TIEGCM[lat, lon, lev]/bnorm[lat, lon, lev] - 2*Bz_IGRF[lat, lon, lev]*Un_x_TIEGCM[lat, lon, lev]/bnorm[lat, lon, lev]))/(bnorm[lat, lon, lev]**2*(Omega_Op_TIEGCM[lat, lon, lev]**2 + nu_Op_TIEGCM[lat, lon, lev]**2)**2))) ** 2\n",
    "                # ********************************************************************************\n",
    "                # dUnx\n",
    "                eqFH11 = (1000*MO*(Ne_TIEGCM[lat, lon, lev] * CubicCm2CubicM)*nu_Op_TIEGCM[lat, lon, lev]*(2*Omega_Op_TIEGCM[lat, lon, lev]*nu_Op_TIEGCM[lat, lon, lev]*(-By_IGRF[lat, lon, lev]**2/bnorm[lat, lon, lev] - Bz_IGRF[lat, lon, lev]**2/bnorm[lat, lon, lev])*(Omega_Op_TIEGCM[lat, lon, lev]**2*(-By_IGRF[lat, lon, lev]*(-Bx_IGRF[lat, lon, lev]*(Bx_IGRF[lat, lon, lev]*Un_z_TIEGCM[lat, lon, lev]/bnorm[lat, lon, lev] - Bz_IGRF[lat, lon, lev]*Un_x_TIEGCM[lat, lon, lev]/bnorm[lat, lon, lev]) + By_IGRF[lat, lon, lev]*(-By_IGRF[lat, lon, lev]*Un_z_TIEGCM[lat, lon, lev]/bnorm[lat, lon, lev] + Bz_IGRF[lat, lon, lev]*Un_y_TIEGCM[lat, lon, lev]/bnorm[lat, lon, lev]) + Evertz[lat, lon, lev])/bnorm[lat, lon, lev] + Bz_IGRF[lat, lon, lev]*(Bx_IGRF[lat, lon, lev]*(-Bx_IGRF[lat, lon, lev]*Un_y_TIEGCM[lat, lon, lev]/bnorm[lat, lon, lev] + By_IGRF[lat, lon, lev]*Un_x_TIEGCM[lat, lon, lev]/bnorm[lat, lon, lev]) - Bz_IGRF[lat, lon, lev]*(-By_IGRF[lat, lon, lev]*Un_z_TIEGCM[lat, lon, lev]/bnorm[lat, lon, lev] + Bz_IGRF[lat, lon, lev]*Un_y_TIEGCM[lat, lon, lev]/bnorm[lat, lon, lev]) + Everty[lat, lon, lev])/bnorm[lat, lon, lev]) + Omega_Op_TIEGCM[lat, lon, lev]*nu_Op_TIEGCM[lat, lon, lev]*(-By_IGRF[lat, lon, lev]*(-Bx_IGRF[lat, lon, lev]*Un_y_TIEGCM[lat, lon, lev]/bnorm[lat, lon, lev] + By_IGRF[lat, lon, lev]*Un_x_TIEGCM[lat, lon, lev]/bnorm[lat, lon, lev]) + Bz_IGRF[lat, lon, lev]*(Bx_IGRF[lat, lon, lev]*Un_z_TIEGCM[lat, lon, lev]/bnorm[lat, lon, lev] - Bz_IGRF[lat, lon, lev]*Un_x_TIEGCM[lat, lon, lev]/bnorm[lat, lon, lev]) + Evertx[lat, lon, lev]))/(bnorm[lat, lon, lev]**2*(Omega_Op_TIEGCM[lat, lon, lev]**2 + nu_Op_TIEGCM[lat, lon, lev]**2)**2) + (Omega_Op_TIEGCM[lat, lon, lev]**2*(-Bx_IGRF[lat, lon, lev]*(Bx_IGRF[lat, lon, lev]*(-Bx_IGRF[lat, lon, lev]*Un_y_TIEGCM[lat, lon, lev]/bnorm[lat, lon, lev] + By_IGRF[lat, lon, lev]*Un_x_TIEGCM[lat, lon, lev]/bnorm[lat, lon, lev]) - Bz_IGRF[lat, lon, lev]*(-By_IGRF[lat, lon, lev]*Un_z_TIEGCM[lat, lon, lev]/bnorm[lat, lon, lev] + Bz_IGRF[lat, lon, lev]*Un_y_TIEGCM[lat, lon, lev]/bnorm[lat, lon, lev]) + Everty[lat, lon, lev])/bnorm[lat, lon, lev] + By_IGRF[lat, lon, lev]*(-By_IGRF[lat, lon, lev]*(-Bx_IGRF[lat, lon, lev]*Un_y_TIEGCM[lat, lon, lev]/bnorm[lat, lon, lev] + By_IGRF[lat, lon, lev]*Un_x_TIEGCM[lat, lon, lev]/bnorm[lat, lon, lev]) + Bz_IGRF[lat, lon, lev]*(Bx_IGRF[lat, lon, lev]*Un_z_TIEGCM[lat, lon, lev]/bnorm[lat, lon, lev] - Bz_IGRF[lat, lon, lev]*Un_x_TIEGCM[lat, lon, lev]/bnorm[lat, lon, lev]) + Evertx[lat, lon, lev])/bnorm[lat, lon, lev]) + Omega_Op_TIEGCM[lat, lon, lev]*nu_Op_TIEGCM[lat, lon, lev]*(-Bx_IGRF[lat, lon, lev]*(Bx_IGRF[lat, lon, lev]*Un_z_TIEGCM[lat, lon, lev]/bnorm[lat, lon, lev] - Bz_IGRF[lat, lon, lev]*Un_x_TIEGCM[lat, lon, lev]/bnorm[lat, lon, lev]) + By_IGRF[lat, lon, lev]*(-By_IGRF[lat, lon, lev]*Un_z_TIEGCM[lat, lon, lev]/bnorm[lat, lon, lev] + Bz_IGRF[lat, lon, lev]*Un_y_TIEGCM[lat, lon, lev]/bnorm[lat, lon, lev]) + Evertz[lat, lon, lev]))*(2*Bx_IGRF[lat, lon, lev]*Bz_IGRF[lat, lon, lev]*Omega_Op_TIEGCM[lat, lon, lev]*nu_Op_TIEGCM[lat, lon, lev]/bnorm[lat, lon, lev] + 2*Omega_Op_TIEGCM[lat, lon, lev]**2*(-Bx_IGRF[lat, lon, lev]**2*By_IGRF[lat, lon, lev]/bnorm[lat, lon, lev]**2 + By_IGRF[lat, lon, lev]*(-By_IGRF[lat, lon, lev]**2/bnorm[lat, lon, lev] - Bz_IGRF[lat, lon, lev]**2/bnorm[lat, lon, lev])/bnorm[lat, lon, lev]))/(bnorm[lat, lon, lev]**2*(Omega_Op_TIEGCM[lat, lon, lev]**2 + nu_Op_TIEGCM[lat, lon, lev]**2)**2) + (Omega_Op_TIEGCM[lat, lon, lev]**2*(Bx_IGRF[lat, lon, lev]*(-Bx_IGRF[lat, lon, lev]*(Bx_IGRF[lat, lon, lev]*Un_z_TIEGCM[lat, lon, lev]/bnorm[lat, lon, lev] - Bz_IGRF[lat, lon, lev]*Un_x_TIEGCM[lat, lon, lev]/bnorm[lat, lon, lev]) + By_IGRF[lat, lon, lev]*(-By_IGRF[lat, lon, lev]*Un_z_TIEGCM[lat, lon, lev]/bnorm[lat, lon, lev] + Bz_IGRF[lat, lon, lev]*Un_y_TIEGCM[lat, lon, lev]/bnorm[lat, lon, lev]) + Evertz[lat, lon, lev])/bnorm[lat, lon, lev] - Bz_IGRF[lat, lon, lev]*(-By_IGRF[lat, lon, lev]*(-Bx_IGRF[lat, lon, lev]*Un_y_TIEGCM[lat, lon, lev]/bnorm[lat, lon, lev] + By_IGRF[lat, lon, lev]*Un_x_TIEGCM[lat, lon, lev]/bnorm[lat, lon, lev]) + Bz_IGRF[lat, lon, lev]*(Bx_IGRF[lat, lon, lev]*Un_z_TIEGCM[lat, lon, lev]/bnorm[lat, lon, lev] - Bz_IGRF[lat, lon, lev]*Un_x_TIEGCM[lat, lon, lev]/bnorm[lat, lon, lev]) + Evertx[lat, lon, lev])/bnorm[lat, lon, lev]) + Omega_Op_TIEGCM[lat, lon, lev]*nu_Op_TIEGCM[lat, lon, lev]*(Bx_IGRF[lat, lon, lev]*(-Bx_IGRF[lat, lon, lev]*Un_y_TIEGCM[lat, lon, lev]/bnorm[lat, lon, lev] + By_IGRF[lat, lon, lev]*Un_x_TIEGCM[lat, lon, lev]/bnorm[lat, lon, lev]) - Bz_IGRF[lat, lon, lev]*(-By_IGRF[lat, lon, lev]*Un_z_TIEGCM[lat, lon, lev]/bnorm[lat, lon, lev] + Bz_IGRF[lat, lon, lev]*Un_y_TIEGCM[lat, lon, lev]/bnorm[lat, lon, lev]) + Everty[lat, lon, lev]))*(2*Bx_IGRF[lat, lon, lev]*By_IGRF[lat, lon, lev]*Omega_Op_TIEGCM[lat, lon, lev]*nu_Op_TIEGCM[lat, lon, lev]/bnorm[lat, lon, lev] + 2*Omega_Op_TIEGCM[lat, lon, lev]**2*(Bx_IGRF[lat, lon, lev]**2*Bz_IGRF[lat, lon, lev]/bnorm[lat, lon, lev]**2 - Bz_IGRF[lat, lon, lev]*(-By_IGRF[lat, lon, lev]**2/bnorm[lat, lon, lev] - Bz_IGRF[lat, lon, lev]**2/bnorm[lat, lon, lev])/bnorm[lat, lon, lev]))/(bnorm[lat, lon, lev]**2*(Omega_Op_TIEGCM[lat, lon, lev]**2 + nu_Op_TIEGCM[lat, lon, lev]**2)**2))) ** 2\n",
    "                # ********************************************************************************\n",
    "                # dUny\n",
    "                eqFH12 = (1000*MO*(Ne_TIEGCM[lat, lon, lev] * CubicCm2CubicM)*nu_Op_TIEGCM[lat, lon, lev]*(2*Omega_Op_TIEGCM[lat, lon, lev]*nu_Op_TIEGCM[lat, lon, lev]*(-Bx_IGRF[lat, lon, lev]**2/bnorm[lat, lon, lev] - Bz_IGRF[lat, lon, lev]**2/bnorm[lat, lon, lev])*(Omega_Op_TIEGCM[lat, lon, lev]**2*(Bx_IGRF[lat, lon, lev]*(-Bx_IGRF[lat, lon, lev]*(Bx_IGRF[lat, lon, lev]*Un_z_TIEGCM[lat, lon, lev]/bnorm[lat, lon, lev] - Bz_IGRF[lat, lon, lev]*Un_x_TIEGCM[lat, lon, lev]/bnorm[lat, lon, lev]) + By_IGRF[lat, lon, lev]*(-By_IGRF[lat, lon, lev]*Un_z_TIEGCM[lat, lon, lev]/bnorm[lat, lon, lev] + Bz_IGRF[lat, lon, lev]*Un_y_TIEGCM[lat, lon, lev]/bnorm[lat, lon, lev]) + Evertz[lat, lon, lev])/bnorm[lat, lon, lev] - Bz_IGRF[lat, lon, lev]*(-By_IGRF[lat, lon, lev]*(-Bx_IGRF[lat, lon, lev]*Un_y_TIEGCM[lat, lon, lev]/bnorm[lat, lon, lev] + By_IGRF[lat, lon, lev]*Un_x_TIEGCM[lat, lon, lev]/bnorm[lat, lon, lev]) + Bz_IGRF[lat, lon, lev]*(Bx_IGRF[lat, lon, lev]*Un_z_TIEGCM[lat, lon, lev]/bnorm[lat, lon, lev] - Bz_IGRF[lat, lon, lev]*Un_x_TIEGCM[lat, lon, lev]/bnorm[lat, lon, lev]) + Evertx[lat, lon, lev])/bnorm[lat, lon, lev]) + Omega_Op_TIEGCM[lat, lon, lev]*nu_Op_TIEGCM[lat, lon, lev]*(Bx_IGRF[lat, lon, lev]*(-Bx_IGRF[lat, lon, lev]*Un_y_TIEGCM[lat, lon, lev]/bnorm[lat, lon, lev] + By_IGRF[lat, lon, lev]*Un_x_TIEGCM[lat, lon, lev]/bnorm[lat, lon, lev]) - Bz_IGRF[lat, lon, lev]*(-By_IGRF[lat, lon, lev]*Un_z_TIEGCM[lat, lon, lev]/bnorm[lat, lon, lev] + Bz_IGRF[lat, lon, lev]*Un_y_TIEGCM[lat, lon, lev]/bnorm[lat, lon, lev]) + Everty[lat, lon, lev]))/(bnorm[lat, lon, lev]**2*(Omega_Op_TIEGCM[lat, lon, lev]**2 + nu_Op_TIEGCM[lat, lon, lev]**2)**2) + (Omega_Op_TIEGCM[lat, lon, lev]**2*(-Bx_IGRF[lat, lon, lev]*(Bx_IGRF[lat, lon, lev]*(-Bx_IGRF[lat, lon, lev]*Un_y_TIEGCM[lat, lon, lev]/bnorm[lat, lon, lev] + By_IGRF[lat, lon, lev]*Un_x_TIEGCM[lat, lon, lev]/bnorm[lat, lon, lev]) - Bz_IGRF[lat, lon, lev]*(-By_IGRF[lat, lon, lev]*Un_z_TIEGCM[lat, lon, lev]/bnorm[lat, lon, lev] + Bz_IGRF[lat, lon, lev]*Un_y_TIEGCM[lat, lon, lev]/bnorm[lat, lon, lev]) + Everty[lat, lon, lev])/bnorm[lat, lon, lev] + By_IGRF[lat, lon, lev]*(-By_IGRF[lat, lon, lev]*(-Bx_IGRF[lat, lon, lev]*Un_y_TIEGCM[lat, lon, lev]/bnorm[lat, lon, lev] + By_IGRF[lat, lon, lev]*Un_x_TIEGCM[lat, lon, lev]/bnorm[lat, lon, lev]) + Bz_IGRF[lat, lon, lev]*(Bx_IGRF[lat, lon, lev]*Un_z_TIEGCM[lat, lon, lev]/bnorm[lat, lon, lev] - Bz_IGRF[lat, lon, lev]*Un_x_TIEGCM[lat, lon, lev]/bnorm[lat, lon, lev]) + Evertx[lat, lon, lev])/bnorm[lat, lon, lev]) + Omega_Op_TIEGCM[lat, lon, lev]*nu_Op_TIEGCM[lat, lon, lev]*(-Bx_IGRF[lat, lon, lev]*(Bx_IGRF[lat, lon, lev]*Un_z_TIEGCM[lat, lon, lev]/bnorm[lat, lon, lev] - Bz_IGRF[lat, lon, lev]*Un_x_TIEGCM[lat, lon, lev]/bnorm[lat, lon, lev]) + By_IGRF[lat, lon, lev]*(-By_IGRF[lat, lon, lev]*Un_z_TIEGCM[lat, lon, lev]/bnorm[lat, lon, lev] + Bz_IGRF[lat, lon, lev]*Un_y_TIEGCM[lat, lon, lev]/bnorm[lat, lon, lev]) + Evertz[lat, lon, lev]))*(2*By_IGRF[lat, lon, lev]*Bz_IGRF[lat, lon, lev]*Omega_Op_TIEGCM[lat, lon, lev]*nu_Op_TIEGCM[lat, lon, lev]/bnorm[lat, lon, lev] + 2*Omega_Op_TIEGCM[lat, lon, lev]**2*(Bx_IGRF[lat, lon, lev]*By_IGRF[lat, lon, lev]**2/bnorm[lat, lon, lev]**2 - Bx_IGRF[lat, lon, lev]*(-Bx_IGRF[lat, lon, lev]**2/bnorm[lat, lon, lev] - Bz_IGRF[lat, lon, lev]**2/bnorm[lat, lon, lev])/bnorm[lat, lon, lev]))/(bnorm[lat, lon, lev]**2*(Omega_Op_TIEGCM[lat, lon, lev]**2 + nu_Op_TIEGCM[lat, lon, lev]**2)**2) + (Omega_Op_TIEGCM[lat, lon, lev]**2*(-By_IGRF[lat, lon, lev]*(-Bx_IGRF[lat, lon, lev]*(Bx_IGRF[lat, lon, lev]*Un_z_TIEGCM[lat, lon, lev]/bnorm[lat, lon, lev] - Bz_IGRF[lat, lon, lev]*Un_x_TIEGCM[lat, lon, lev]/bnorm[lat, lon, lev]) + By_IGRF[lat, lon, lev]*(-By_IGRF[lat, lon, lev]*Un_z_TIEGCM[lat, lon, lev]/bnorm[lat, lon, lev] + Bz_IGRF[lat, lon, lev]*Un_y_TIEGCM[lat, lon, lev]/bnorm[lat, lon, lev]) + Evertz[lat, lon, lev])/bnorm[lat, lon, lev] + Bz_IGRF[lat, lon, lev]*(Bx_IGRF[lat, lon, lev]*(-Bx_IGRF[lat, lon, lev]*Un_y_TIEGCM[lat, lon, lev]/bnorm[lat, lon, lev] + By_IGRF[lat, lon, lev]*Un_x_TIEGCM[lat, lon, lev]/bnorm[lat, lon, lev]) - Bz_IGRF[lat, lon, lev]*(-By_IGRF[lat, lon, lev]*Un_z_TIEGCM[lat, lon, lev]/bnorm[lat, lon, lev] + Bz_IGRF[lat, lon, lev]*Un_y_TIEGCM[lat, lon, lev]/bnorm[lat, lon, lev]) + Everty[lat, lon, lev])/bnorm[lat, lon, lev]) + Omega_Op_TIEGCM[lat, lon, lev]*nu_Op_TIEGCM[lat, lon, lev]*(-By_IGRF[lat, lon, lev]*(-Bx_IGRF[lat, lon, lev]*Un_y_TIEGCM[lat, lon, lev]/bnorm[lat, lon, lev] + By_IGRF[lat, lon, lev]*Un_x_TIEGCM[lat, lon, lev]/bnorm[lat, lon, lev]) + Bz_IGRF[lat, lon, lev]*(Bx_IGRF[lat, lon, lev]*Un_z_TIEGCM[lat, lon, lev]/bnorm[lat, lon, lev] - Bz_IGRF[lat, lon, lev]*Un_x_TIEGCM[lat, lon, lev]/bnorm[lat, lon, lev]) + Evertx[lat, lon, lev]))*(2*Bx_IGRF[lat, lon, lev]*By_IGRF[lat, lon, lev]*Omega_Op_TIEGCM[lat, lon, lev]*nu_Op_TIEGCM[lat, lon, lev]/bnorm[lat, lon, lev] + 2*Omega_Op_TIEGCM[lat, lon, lev]**2*(-By_IGRF[lat, lon, lev]**2*Bz_IGRF[lat, lon, lev]/bnorm[lat, lon, lev]**2 + Bz_IGRF[lat, lon, lev]*(-Bx_IGRF[lat, lon, lev]**2/bnorm[lat, lon, lev] - Bz_IGRF[lat, lon, lev]**2/bnorm[lat, lon, lev])/bnorm[lat, lon, lev]))/(bnorm[lat, lon, lev]**2*(Omega_Op_TIEGCM[lat, lon, lev]**2 + nu_Op_TIEGCM[lat, lon, lev]**2)**2))) ** 2\n",
    "                # ********************************************************************************\n",
    "                # dUnz\n",
    "                eqFH13 = (1000*MO*(Ne_TIEGCM[lat, lon, lev] * CubicCm2CubicM)*nu_Op_TIEGCM[lat, lon, lev]*(2*Omega_Op_TIEGCM[lat, lon, lev]*nu_Op_TIEGCM[lat, lon, lev]*(-Bx_IGRF[lat, lon, lev]**2/bnorm[lat, lon, lev] - By_IGRF[lat, lon, lev]**2/bnorm[lat, lon, lev])*(Omega_Op_TIEGCM[lat, lon, lev]**2*(-Bx_IGRF[lat, lon, lev]*(Bx_IGRF[lat, lon, lev]*(-Bx_IGRF[lat, lon, lev]*Un_y_TIEGCM[lat, lon, lev]/bnorm[lat, lon, lev] + By_IGRF[lat, lon, lev]*Un_x_TIEGCM[lat, lon, lev]/bnorm[lat, lon, lev]) - Bz_IGRF[lat, lon, lev]*(-By_IGRF[lat, lon, lev]*Un_z_TIEGCM[lat, lon, lev]/bnorm[lat, lon, lev] + Bz_IGRF[lat, lon, lev]*Un_y_TIEGCM[lat, lon, lev]/bnorm[lat, lon, lev]) + Everty[lat, lon, lev])/bnorm[lat, lon, lev] + By_IGRF[lat, lon, lev]*(-By_IGRF[lat, lon, lev]*(-Bx_IGRF[lat, lon, lev]*Un_y_TIEGCM[lat, lon, lev]/bnorm[lat, lon, lev] + By_IGRF[lat, lon, lev]*Un_x_TIEGCM[lat, lon, lev]/bnorm[lat, lon, lev]) + Bz_IGRF[lat, lon, lev]*(Bx_IGRF[lat, lon, lev]*Un_z_TIEGCM[lat, lon, lev]/bnorm[lat, lon, lev] - Bz_IGRF[lat, lon, lev]*Un_x_TIEGCM[lat, lon, lev]/bnorm[lat, lon, lev]) + Evertx[lat, lon, lev])/bnorm[lat, lon, lev]) + Omega_Op_TIEGCM[lat, lon, lev]*nu_Op_TIEGCM[lat, lon, lev]*(-Bx_IGRF[lat, lon, lev]*(Bx_IGRF[lat, lon, lev]*Un_z_TIEGCM[lat, lon, lev]/bnorm[lat, lon, lev] - Bz_IGRF[lat, lon, lev]*Un_x_TIEGCM[lat, lon, lev]/bnorm[lat, lon, lev]) + By_IGRF[lat, lon, lev]*(-By_IGRF[lat, lon, lev]*Un_z_TIEGCM[lat, lon, lev]/bnorm[lat, lon, lev] + Bz_IGRF[lat, lon, lev]*Un_y_TIEGCM[lat, lon, lev]/bnorm[lat, lon, lev]) + Evertz[lat, lon, lev]))/(bnorm[lat, lon, lev]**2*(Omega_Op_TIEGCM[lat, lon, lev]**2 + nu_Op_TIEGCM[lat, lon, lev]**2)**2) + (Omega_Op_TIEGCM[lat, lon, lev]**2*(Bx_IGRF[lat, lon, lev]*(-Bx_IGRF[lat, lon, lev]*(Bx_IGRF[lat, lon, lev]*Un_z_TIEGCM[lat, lon, lev]/bnorm[lat, lon, lev] - Bz_IGRF[lat, lon, lev]*Un_x_TIEGCM[lat, lon, lev]/bnorm[lat, lon, lev]) + By_IGRF[lat, lon, lev]*(-By_IGRF[lat, lon, lev]*Un_z_TIEGCM[lat, lon, lev]/bnorm[lat, lon, lev] + Bz_IGRF[lat, lon, lev]*Un_y_TIEGCM[lat, lon, lev]/bnorm[lat, lon, lev]) + Evertz[lat, lon, lev])/bnorm[lat, lon, lev] - Bz_IGRF[lat, lon, lev]*(-By_IGRF[lat, lon, lev]*(-Bx_IGRF[lat, lon, lev]*Un_y_TIEGCM[lat, lon, lev]/bnorm[lat, lon, lev] + By_IGRF[lat, lon, lev]*Un_x_TIEGCM[lat, lon, lev]/bnorm[lat, lon, lev]) + Bz_IGRF[lat, lon, lev]*(Bx_IGRF[lat, lon, lev]*Un_z_TIEGCM[lat, lon, lev]/bnorm[lat, lon, lev] - Bz_IGRF[lat, lon, lev]*Un_x_TIEGCM[lat, lon, lev]/bnorm[lat, lon, lev]) + Evertx[lat, lon, lev])/bnorm[lat, lon, lev]) + Omega_Op_TIEGCM[lat, lon, lev]*nu_Op_TIEGCM[lat, lon, lev]*(Bx_IGRF[lat, lon, lev]*(-Bx_IGRF[lat, lon, lev]*Un_y_TIEGCM[lat, lon, lev]/bnorm[lat, lon, lev] + By_IGRF[lat, lon, lev]*Un_x_TIEGCM[lat, lon, lev]/bnorm[lat, lon, lev]) - Bz_IGRF[lat, lon, lev]*(-By_IGRF[lat, lon, lev]*Un_z_TIEGCM[lat, lon, lev]/bnorm[lat, lon, lev] + Bz_IGRF[lat, lon, lev]*Un_y_TIEGCM[lat, lon, lev]/bnorm[lat, lon, lev]) + Everty[lat, lon, lev]))*(2*By_IGRF[lat, lon, lev]*Bz_IGRF[lat, lon, lev]*Omega_Op_TIEGCM[lat, lon, lev]*nu_Op_TIEGCM[lat, lon, lev]/bnorm[lat, lon, lev] + 2*Omega_Op_TIEGCM[lat, lon, lev]**2*(-Bx_IGRF[lat, lon, lev]*Bz_IGRF[lat, lon, lev]**2/bnorm[lat, lon, lev]**2 + Bx_IGRF[lat, lon, lev]*(-Bx_IGRF[lat, lon, lev]**2/bnorm[lat, lon, lev] - By_IGRF[lat, lon, lev]**2/bnorm[lat, lon, lev])/bnorm[lat, lon, lev]))/(bnorm[lat, lon, lev]**2*(Omega_Op_TIEGCM[lat, lon, lev]**2 + nu_Op_TIEGCM[lat, lon, lev]**2)**2) + (Omega_Op_TIEGCM[lat, lon, lev]**2*(-By_IGRF[lat, lon, lev]*(-Bx_IGRF[lat, lon, lev]*(Bx_IGRF[lat, lon, lev]*Un_z_TIEGCM[lat, lon, lev]/bnorm[lat, lon, lev] - Bz_IGRF[lat, lon, lev]*Un_x_TIEGCM[lat, lon, lev]/bnorm[lat, lon, lev]) + By_IGRF[lat, lon, lev]*(-By_IGRF[lat, lon, lev]*Un_z_TIEGCM[lat, lon, lev]/bnorm[lat, lon, lev] + Bz_IGRF[lat, lon, lev]*Un_y_TIEGCM[lat, lon, lev]/bnorm[lat, lon, lev]) + Evertz[lat, lon, lev])/bnorm[lat, lon, lev] + Bz_IGRF[lat, lon, lev]*(Bx_IGRF[lat, lon, lev]*(-Bx_IGRF[lat, lon, lev]*Un_y_TIEGCM[lat, lon, lev]/bnorm[lat, lon, lev] + By_IGRF[lat, lon, lev]*Un_x_TIEGCM[lat, lon, lev]/bnorm[lat, lon, lev]) - Bz_IGRF[lat, lon, lev]*(-By_IGRF[lat, lon, lev]*Un_z_TIEGCM[lat, lon, lev]/bnorm[lat, lon, lev] + Bz_IGRF[lat, lon, lev]*Un_y_TIEGCM[lat, lon, lev]/bnorm[lat, lon, lev]) + Everty[lat, lon, lev])/bnorm[lat, lon, lev]) + Omega_Op_TIEGCM[lat, lon, lev]*nu_Op_TIEGCM[lat, lon, lev]*(-By_IGRF[lat, lon, lev]*(-Bx_IGRF[lat, lon, lev]*Un_y_TIEGCM[lat, lon, lev]/bnorm[lat, lon, lev] + By_IGRF[lat, lon, lev]*Un_x_TIEGCM[lat, lon, lev]/bnorm[lat, lon, lev]) + Bz_IGRF[lat, lon, lev]*(Bx_IGRF[lat, lon, lev]*Un_z_TIEGCM[lat, lon, lev]/bnorm[lat, lon, lev] - Bz_IGRF[lat, lon, lev]*Un_x_TIEGCM[lat, lon, lev]/bnorm[lat, lon, lev]) + Evertx[lat, lon, lev]))*(2*Bx_IGRF[lat, lon, lev]*Bz_IGRF[lat, lon, lev]*Omega_Op_TIEGCM[lat, lon, lev]*nu_Op_TIEGCM[lat, lon, lev]/bnorm[lat, lon, lev] + 2*Omega_Op_TIEGCM[lat, lon, lev]**2*(By_IGRF[lat, lon, lev]*Bz_IGRF[lat, lon, lev]**2/bnorm[lat, lon, lev]**2 - By_IGRF[lat, lon, lev]*(-Bx_IGRF[lat, lon, lev]**2/bnorm[lat, lon, lev] - By_IGRF[lat, lon, lev]**2/bnorm[lat, lon, lev])/bnorm[lat, lon, lev]))/(bnorm[lat, lon, lev]**2*(Omega_Op_TIEGCM[lat, lon, lev]**2 + nu_Op_TIEGCM[lat, lon, lev]**2)**2))) ** 2\n",
    "                # ********************************************************************************\n",
    "                # dbnorm\n",
    "                eqFH14 = (1000*MO*(Ne_TIEGCM[lat, lon, lev] * CubicCm2CubicM)*nu_Op_TIEGCM[lat, lon, lev]*((Omega_Op_TIEGCM[lat, lon, lev]**2*(-Bx_IGRF[lat, lon, lev]*(Bx_IGRF[lat, lon, lev]*(-Bx_IGRF[lat, lon, lev]*Un_y_TIEGCM[lat, lon, lev]/bnorm[lat, lon, lev] + By_IGRF[lat, lon, lev]*Un_x_TIEGCM[lat, lon, lev]/bnorm[lat, lon, lev]) - Bz_IGRF[lat, lon, lev]*(-By_IGRF[lat, lon, lev]*Un_z_TIEGCM[lat, lon, lev]/bnorm[lat, lon, lev] + Bz_IGRF[lat, lon, lev]*Un_y_TIEGCM[lat, lon, lev]/bnorm[lat, lon, lev]) + Everty[lat, lon, lev])/bnorm[lat, lon, lev] + By_IGRF[lat, lon, lev]*(-By_IGRF[lat, lon, lev]*(-Bx_IGRF[lat, lon, lev]*Un_y_TIEGCM[lat, lon, lev]/bnorm[lat, lon, lev] + By_IGRF[lat, lon, lev]*Un_x_TIEGCM[lat, lon, lev]/bnorm[lat, lon, lev]) + Bz_IGRF[lat, lon, lev]*(Bx_IGRF[lat, lon, lev]*Un_z_TIEGCM[lat, lon, lev]/bnorm[lat, lon, lev] - Bz_IGRF[lat, lon, lev]*Un_x_TIEGCM[lat, lon, lev]/bnorm[lat, lon, lev]) + Evertx[lat, lon, lev])/bnorm[lat, lon, lev]) + Omega_Op_TIEGCM[lat, lon, lev]*nu_Op_TIEGCM[lat, lon, lev]*(-Bx_IGRF[lat, lon, lev]*(Bx_IGRF[lat, lon, lev]*Un_z_TIEGCM[lat, lon, lev]/bnorm[lat, lon, lev] - Bz_IGRF[lat, lon, lev]*Un_x_TIEGCM[lat, lon, lev]/bnorm[lat, lon, lev]) + By_IGRF[lat, lon, lev]*(-By_IGRF[lat, lon, lev]*Un_z_TIEGCM[lat, lon, lev]/bnorm[lat, lon, lev] + Bz_IGRF[lat, lon, lev]*Un_y_TIEGCM[lat, lon, lev]/bnorm[lat, lon, lev]) + Evertz[lat, lon, lev]))*(2*Omega_Op_TIEGCM[lat, lon, lev]**2*(-Bx_IGRF[lat, lon, lev]*(Bx_IGRF[lat, lon, lev]*(Bx_IGRF[lat, lon, lev]*Un_y_TIEGCM[lat, lon, lev]/bnorm[lat, lon, lev]**2 - By_IGRF[lat, lon, lev]*Un_x_TIEGCM[lat, lon, lev]/bnorm[lat, lon, lev]**2) - Bz_IGRF[lat, lon, lev]*(By_IGRF[lat, lon, lev]*Un_z_TIEGCM[lat, lon, lev]/bnorm[lat, lon, lev]**2 - Bz_IGRF[lat, lon, lev]*Un_y_TIEGCM[lat, lon, lev]/bnorm[lat, lon, lev]**2))/bnorm[lat, lon, lev] + Bx_IGRF[lat, lon, lev]*(Bx_IGRF[lat, lon, lev]*(-Bx_IGRF[lat, lon, lev]*Un_y_TIEGCM[lat, lon, lev]/bnorm[lat, lon, lev] + By_IGRF[lat, lon, lev]*Un_x_TIEGCM[lat, lon, lev]/bnorm[lat, lon, lev]) - Bz_IGRF[lat, lon, lev]*(-By_IGRF[lat, lon, lev]*Un_z_TIEGCM[lat, lon, lev]/bnorm[lat, lon, lev] + Bz_IGRF[lat, lon, lev]*Un_y_TIEGCM[lat, lon, lev]/bnorm[lat, lon, lev]) + Everty[lat, lon, lev])/bnorm[lat, lon, lev]**2 + By_IGRF[lat, lon, lev]*(-By_IGRF[lat, lon, lev]*(Bx_IGRF[lat, lon, lev]*Un_y_TIEGCM[lat, lon, lev]/bnorm[lat, lon, lev]**2 - By_IGRF[lat, lon, lev]*Un_x_TIEGCM[lat, lon, lev]/bnorm[lat, lon, lev]**2) + Bz_IGRF[lat, lon, lev]*(-Bx_IGRF[lat, lon, lev]*Un_z_TIEGCM[lat, lon, lev]/bnorm[lat, lon, lev]**2 + Bz_IGRF[lat, lon, lev]*Un_x_TIEGCM[lat, lon, lev]/bnorm[lat, lon, lev]**2))/bnorm[lat, lon, lev] - By_IGRF[lat, lon, lev]*(-By_IGRF[lat, lon, lev]*(-Bx_IGRF[lat, lon, lev]*Un_y_TIEGCM[lat, lon, lev]/bnorm[lat, lon, lev] + By_IGRF[lat, lon, lev]*Un_x_TIEGCM[lat, lon, lev]/bnorm[lat, lon, lev]) + Bz_IGRF[lat, lon, lev]*(Bx_IGRF[lat, lon, lev]*Un_z_TIEGCM[lat, lon, lev]/bnorm[lat, lon, lev] - Bz_IGRF[lat, lon, lev]*Un_x_TIEGCM[lat, lon, lev]/bnorm[lat, lon, lev]) + Evertx[lat, lon, lev])/bnorm[lat, lon, lev]**2) + 2*Omega_Op_TIEGCM[lat, lon, lev]*nu_Op_TIEGCM[lat, lon, lev]*(-Bx_IGRF[lat, lon, lev]*(-Bx_IGRF[lat, lon, lev]*Un_z_TIEGCM[lat, lon, lev]/bnorm[lat, lon, lev]**2 + Bz_IGRF[lat, lon, lev]*Un_x_TIEGCM[lat, lon, lev]/bnorm[lat, lon, lev]**2) + By_IGRF[lat, lon, lev]*(By_IGRF[lat, lon, lev]*Un_z_TIEGCM[lat, lon, lev]/bnorm[lat, lon, lev]**2 - Bz_IGRF[lat, lon, lev]*Un_y_TIEGCM[lat, lon, lev]/bnorm[lat, lon, lev]**2)))/(bnorm[lat, lon, lev]**2*(Omega_Op_TIEGCM[lat, lon, lev]**2 + nu_Op_TIEGCM[lat, lon, lev]**2)**2) + (Omega_Op_TIEGCM[lat, lon, lev]**2*(Bx_IGRF[lat, lon, lev]*(-Bx_IGRF[lat, lon, lev]*(Bx_IGRF[lat, lon, lev]*Un_z_TIEGCM[lat, lon, lev]/bnorm[lat, lon, lev] - Bz_IGRF[lat, lon, lev]*Un_x_TIEGCM[lat, lon, lev]/bnorm[lat, lon, lev]) + By_IGRF[lat, lon, lev]*(-By_IGRF[lat, lon, lev]*Un_z_TIEGCM[lat, lon, lev]/bnorm[lat, lon, lev] + Bz_IGRF[lat, lon, lev]*Un_y_TIEGCM[lat, lon, lev]/bnorm[lat, lon, lev]) + Evertz[lat, lon, lev])/bnorm[lat, lon, lev] - Bz_IGRF[lat, lon, lev]*(-By_IGRF[lat, lon, lev]*(-Bx_IGRF[lat, lon, lev]*Un_y_TIEGCM[lat, lon, lev]/bnorm[lat, lon, lev] + By_IGRF[lat, lon, lev]*Un_x_TIEGCM[lat, lon, lev]/bnorm[lat, lon, lev]) + Bz_IGRF[lat, lon, lev]*(Bx_IGRF[lat, lon, lev]*Un_z_TIEGCM[lat, lon, lev]/bnorm[lat, lon, lev] - Bz_IGRF[lat, lon, lev]*Un_x_TIEGCM[lat, lon, lev]/bnorm[lat, lon, lev]) + Evertx[lat, lon, lev])/bnorm[lat, lon, lev]) + Omega_Op_TIEGCM[lat, lon, lev]*nu_Op_TIEGCM[lat, lon, lev]*(Bx_IGRF[lat, lon, lev]*(-Bx_IGRF[lat, lon, lev]*Un_y_TIEGCM[lat, lon, lev]/bnorm[lat, lon, lev] + By_IGRF[lat, lon, lev]*Un_x_TIEGCM[lat, lon, lev]/bnorm[lat, lon, lev]) - Bz_IGRF[lat, lon, lev]*(-By_IGRF[lat, lon, lev]*Un_z_TIEGCM[lat, lon, lev]/bnorm[lat, lon, lev] + Bz_IGRF[lat, lon, lev]*Un_y_TIEGCM[lat, lon, lev]/bnorm[lat, lon, lev]) + Everty[lat, lon, lev]))*(2*Omega_Op_TIEGCM[lat, lon, lev]**2*(Bx_IGRF[lat, lon, lev]*(-Bx_IGRF[lat, lon, lev]*(-Bx_IGRF[lat, lon, lev]*Un_z_TIEGCM[lat, lon, lev]/bnorm[lat, lon, lev]**2 + Bz_IGRF[lat, lon, lev]*Un_x_TIEGCM[lat, lon, lev]/bnorm[lat, lon, lev]**2) + By_IGRF[lat, lon, lev]*(By_IGRF[lat, lon, lev]*Un_z_TIEGCM[lat, lon, lev]/bnorm[lat, lon, lev]**2 - Bz_IGRF[lat, lon, lev]*Un_y_TIEGCM[lat, lon, lev]/bnorm[lat, lon, lev]**2))/bnorm[lat, lon, lev] - Bx_IGRF[lat, lon, lev]*(-Bx_IGRF[lat, lon, lev]*(Bx_IGRF[lat, lon, lev]*Un_z_TIEGCM[lat, lon, lev]/bnorm[lat, lon, lev] - Bz_IGRF[lat, lon, lev]*Un_x_TIEGCM[lat, lon, lev]/bnorm[lat, lon, lev]) + By_IGRF[lat, lon, lev]*(-By_IGRF[lat, lon, lev]*Un_z_TIEGCM[lat, lon, lev]/bnorm[lat, lon, lev] + Bz_IGRF[lat, lon, lev]*Un_y_TIEGCM[lat, lon, lev]/bnorm[lat, lon, lev]) + Evertz[lat, lon, lev])/bnorm[lat, lon, lev]**2 - Bz_IGRF[lat, lon, lev]*(-By_IGRF[lat, lon, lev]*(Bx_IGRF[lat, lon, lev]*Un_y_TIEGCM[lat, lon, lev]/bnorm[lat, lon, lev]**2 - By_IGRF[lat, lon, lev]*Un_x_TIEGCM[lat, lon, lev]/bnorm[lat, lon, lev]**2) + Bz_IGRF[lat, lon, lev]*(-Bx_IGRF[lat, lon, lev]*Un_z_TIEGCM[lat, lon, lev]/bnorm[lat, lon, lev]**2 + Bz_IGRF[lat, lon, lev]*Un_x_TIEGCM[lat, lon, lev]/bnorm[lat, lon, lev]**2))/bnorm[lat, lon, lev] + Bz_IGRF[lat, lon, lev]*(-By_IGRF[lat, lon, lev]*(-Bx_IGRF[lat, lon, lev]*Un_y_TIEGCM[lat, lon, lev]/bnorm[lat, lon, lev] + By_IGRF[lat, lon, lev]*Un_x_TIEGCM[lat, lon, lev]/bnorm[lat, lon, lev]) + Bz_IGRF[lat, lon, lev]*(Bx_IGRF[lat, lon, lev]*Un_z_TIEGCM[lat, lon, lev]/bnorm[lat, lon, lev] - Bz_IGRF[lat, lon, lev]*Un_x_TIEGCM[lat, lon, lev]/bnorm[lat, lon, lev]) + Evertx[lat, lon, lev])/bnorm[lat, lon, lev]**2) + 2*Omega_Op_TIEGCM[lat, lon, lev]*nu_Op_TIEGCM[lat, lon, lev]*(Bx_IGRF[lat, lon, lev]*(Bx_IGRF[lat, lon, lev]*Un_y_TIEGCM[lat, lon, lev]/bnorm[lat, lon, lev]**2 - By_IGRF[lat, lon, lev]*Un_x_TIEGCM[lat, lon, lev]/bnorm[lat, lon, lev]**2) - Bz_IGRF[lat, lon, lev]*(By_IGRF[lat, lon, lev]*Un_z_TIEGCM[lat, lon, lev]/bnorm[lat, lon, lev]**2 - Bz_IGRF[lat, lon, lev]*Un_y_TIEGCM[lat, lon, lev]/bnorm[lat, lon, lev]**2)))/(bnorm[lat, lon, lev]**2*(Omega_Op_TIEGCM[lat, lon, lev]**2 + nu_Op_TIEGCM[lat, lon, lev]**2)**2) + (Omega_Op_TIEGCM[lat, lon, lev]**2*(-By_IGRF[lat, lon, lev]*(-Bx_IGRF[lat, lon, lev]*(Bx_IGRF[lat, lon, lev]*Un_z_TIEGCM[lat, lon, lev]/bnorm[lat, lon, lev] - Bz_IGRF[lat, lon, lev]*Un_x_TIEGCM[lat, lon, lev]/bnorm[lat, lon, lev]) + By_IGRF[lat, lon, lev]*(-By_IGRF[lat, lon, lev]*Un_z_TIEGCM[lat, lon, lev]/bnorm[lat, lon, lev] + Bz_IGRF[lat, lon, lev]*Un_y_TIEGCM[lat, lon, lev]/bnorm[lat, lon, lev]) + Evertz[lat, lon, lev])/bnorm[lat, lon, lev] + Bz_IGRF[lat, lon, lev]*(Bx_IGRF[lat, lon, lev]*(-Bx_IGRF[lat, lon, lev]*Un_y_TIEGCM[lat, lon, lev]/bnorm[lat, lon, lev] + By_IGRF[lat, lon, lev]*Un_x_TIEGCM[lat, lon, lev]/bnorm[lat, lon, lev]) - Bz_IGRF[lat, lon, lev]*(-By_IGRF[lat, lon, lev]*Un_z_TIEGCM[lat, lon, lev]/bnorm[lat, lon, lev] + Bz_IGRF[lat, lon, lev]*Un_y_TIEGCM[lat, lon, lev]/bnorm[lat, lon, lev]) + Everty[lat, lon, lev])/bnorm[lat, lon, lev]) + Omega_Op_TIEGCM[lat, lon, lev]*nu_Op_TIEGCM[lat, lon, lev]*(-By_IGRF[lat, lon, lev]*(-Bx_IGRF[lat, lon, lev]*Un_y_TIEGCM[lat, lon, lev]/bnorm[lat, lon, lev] + By_IGRF[lat, lon, lev]*Un_x_TIEGCM[lat, lon, lev]/bnorm[lat, lon, lev]) + Bz_IGRF[lat, lon, lev]*(Bx_IGRF[lat, lon, lev]*Un_z_TIEGCM[lat, lon, lev]/bnorm[lat, lon, lev] - Bz_IGRF[lat, lon, lev]*Un_x_TIEGCM[lat, lon, lev]/bnorm[lat, lon, lev]) + Evertx[lat, lon, lev]))*(2*Omega_Op_TIEGCM[lat, lon, lev]**2*(-By_IGRF[lat, lon, lev]*(-Bx_IGRF[lat, lon, lev]*(-Bx_IGRF[lat, lon, lev]*Un_z_TIEGCM[lat, lon, lev]/bnorm[lat, lon, lev]**2 + Bz_IGRF[lat, lon, lev]*Un_x_TIEGCM[lat, lon, lev]/bnorm[lat, lon, lev]**2) + By_IGRF[lat, lon, lev]*(By_IGRF[lat, lon, lev]*Un_z_TIEGCM[lat, lon, lev]/bnorm[lat, lon, lev]**2 - Bz_IGRF[lat, lon, lev]*Un_y_TIEGCM[lat, lon, lev]/bnorm[lat, lon, lev]**2))/bnorm[lat, lon, lev] + By_IGRF[lat, lon, lev]*(-Bx_IGRF[lat, lon, lev]*(Bx_IGRF[lat, lon, lev]*Un_z_TIEGCM[lat, lon, lev]/bnorm[lat, lon, lev] - Bz_IGRF[lat, lon, lev]*Un_x_TIEGCM[lat, lon, lev]/bnorm[lat, lon, lev]) + By_IGRF[lat, lon, lev]*(-By_IGRF[lat, lon, lev]*Un_z_TIEGCM[lat, lon, lev]/bnorm[lat, lon, lev] + Bz_IGRF[lat, lon, lev]*Un_y_TIEGCM[lat, lon, lev]/bnorm[lat, lon, lev]) + Evertz[lat, lon, lev])/bnorm[lat, lon, lev]**2 + Bz_IGRF[lat, lon, lev]*(Bx_IGRF[lat, lon, lev]*(Bx_IGRF[lat, lon, lev]*Un_y_TIEGCM[lat, lon, lev]/bnorm[lat, lon, lev]**2 - By_IGRF[lat, lon, lev]*Un_x_TIEGCM[lat, lon, lev]/bnorm[lat, lon, lev]**2) - Bz_IGRF[lat, lon, lev]*(By_IGRF[lat, lon, lev]*Un_z_TIEGCM[lat, lon, lev]/bnorm[lat, lon, lev]**2 - Bz_IGRF[lat, lon, lev]*Un_y_TIEGCM[lat, lon, lev]/bnorm[lat, lon, lev]**2))/bnorm[lat, lon, lev] - Bz_IGRF[lat, lon, lev]*(Bx_IGRF[lat, lon, lev]*(-Bx_IGRF[lat, lon, lev]*Un_y_TIEGCM[lat, lon, lev]/bnorm[lat, lon, lev] + By_IGRF[lat, lon, lev]*Un_x_TIEGCM[lat, lon, lev]/bnorm[lat, lon, lev]) - Bz_IGRF[lat, lon, lev]*(-By_IGRF[lat, lon, lev]*Un_z_TIEGCM[lat, lon, lev]/bnorm[lat, lon, lev] + Bz_IGRF[lat, lon, lev]*Un_y_TIEGCM[lat, lon, lev]/bnorm[lat, lon, lev]) + Everty[lat, lon, lev])/bnorm[lat, lon, lev]**2) + 2*Omega_Op_TIEGCM[lat, lon, lev]*nu_Op_TIEGCM[lat, lon, lev]*(-By_IGRF[lat, lon, lev]*(Bx_IGRF[lat, lon, lev]*Un_y_TIEGCM[lat, lon, lev]/bnorm[lat, lon, lev]**2 - By_IGRF[lat, lon, lev]*Un_x_TIEGCM[lat, lon, lev]/bnorm[lat, lon, lev]**2) + Bz_IGRF[lat, lon, lev]*(-Bx_IGRF[lat, lon, lev]*Un_z_TIEGCM[lat, lon, lev]/bnorm[lat, lon, lev]**2 + Bz_IGRF[lat, lon, lev]*Un_x_TIEGCM[lat, lon, lev]/bnorm[lat, lon, lev]**2)))/(bnorm[lat, lon, lev]**2*(Omega_Op_TIEGCM[lat, lon, lev]**2 + nu_Op_TIEGCM[lat, lon, lev]**2)**2) - 2*(Omega_Op_TIEGCM[lat, lon, lev]**2*(-Bx_IGRF[lat, lon, lev]*(Bx_IGRF[lat, lon, lev]*(-Bx_IGRF[lat, lon, lev]*Un_y_TIEGCM[lat, lon, lev]/bnorm[lat, lon, lev] + By_IGRF[lat, lon, lev]*Un_x_TIEGCM[lat, lon, lev]/bnorm[lat, lon, lev]) - Bz_IGRF[lat, lon, lev]*(-By_IGRF[lat, lon, lev]*Un_z_TIEGCM[lat, lon, lev]/bnorm[lat, lon, lev] + Bz_IGRF[lat, lon, lev]*Un_y_TIEGCM[lat, lon, lev]/bnorm[lat, lon, lev]) + Everty[lat, lon, lev])/bnorm[lat, lon, lev] + By_IGRF[lat, lon, lev]*(-By_IGRF[lat, lon, lev]*(-Bx_IGRF[lat, lon, lev]*Un_y_TIEGCM[lat, lon, lev]/bnorm[lat, lon, lev] + By_IGRF[lat, lon, lev]*Un_x_TIEGCM[lat, lon, lev]/bnorm[lat, lon, lev]) + Bz_IGRF[lat, lon, lev]*(Bx_IGRF[lat, lon, lev]*Un_z_TIEGCM[lat, lon, lev]/bnorm[lat, lon, lev] - Bz_IGRF[lat, lon, lev]*Un_x_TIEGCM[lat, lon, lev]/bnorm[lat, lon, lev]) + Evertx[lat, lon, lev])/bnorm[lat, lon, lev]) + Omega_Op_TIEGCM[lat, lon, lev]*nu_Op_TIEGCM[lat, lon, lev]*(-Bx_IGRF[lat, lon, lev]*(Bx_IGRF[lat, lon, lev]*Un_z_TIEGCM[lat, lon, lev]/bnorm[lat, lon, lev] - Bz_IGRF[lat, lon, lev]*Un_x_TIEGCM[lat, lon, lev]/bnorm[lat, lon, lev]) + By_IGRF[lat, lon, lev]*(-By_IGRF[lat, lon, lev]*Un_z_TIEGCM[lat, lon, lev]/bnorm[lat, lon, lev] + Bz_IGRF[lat, lon, lev]*Un_y_TIEGCM[lat, lon, lev]/bnorm[lat, lon, lev]) + Evertz[lat, lon, lev]))**2/(bnorm[lat, lon, lev]**3*(Omega_Op_TIEGCM[lat, lon, lev]**2 + nu_Op_TIEGCM[lat, lon, lev]**2)**2) - 2*(Omega_Op_TIEGCM[lat, lon, lev]**2*(Bx_IGRF[lat, lon, lev]*(-Bx_IGRF[lat, lon, lev]*(Bx_IGRF[lat, lon, lev]*Un_z_TIEGCM[lat, lon, lev]/bnorm[lat, lon, lev] - Bz_IGRF[lat, lon, lev]*Un_x_TIEGCM[lat, lon, lev]/bnorm[lat, lon, lev]) + By_IGRF[lat, lon, lev]*(-By_IGRF[lat, lon, lev]*Un_z_TIEGCM[lat, lon, lev]/bnorm[lat, lon, lev] + Bz_IGRF[lat, lon, lev]*Un_y_TIEGCM[lat, lon, lev]/bnorm[lat, lon, lev]) + Evertz[lat, lon, lev])/bnorm[lat, lon, lev] - Bz_IGRF[lat, lon, lev]*(-By_IGRF[lat, lon, lev]*(-Bx_IGRF[lat, lon, lev]*Un_y_TIEGCM[lat, lon, lev]/bnorm[lat, lon, lev] + By_IGRF[lat, lon, lev]*Un_x_TIEGCM[lat, lon, lev]/bnorm[lat, lon, lev]) + Bz_IGRF[lat, lon, lev]*(Bx_IGRF[lat, lon, lev]*Un_z_TIEGCM[lat, lon, lev]/bnorm[lat, lon, lev] - Bz_IGRF[lat, lon, lev]*Un_x_TIEGCM[lat, lon, lev]/bnorm[lat, lon, lev]) + Evertx[lat, lon, lev])/bnorm[lat, lon, lev]) + Omega_Op_TIEGCM[lat, lon, lev]*nu_Op_TIEGCM[lat, lon, lev]*(Bx_IGRF[lat, lon, lev]*(-Bx_IGRF[lat, lon, lev]*Un_y_TIEGCM[lat, lon, lev]/bnorm[lat, lon, lev] + By_IGRF[lat, lon, lev]*Un_x_TIEGCM[lat, lon, lev]/bnorm[lat, lon, lev]) - Bz_IGRF[lat, lon, lev]*(-By_IGRF[lat, lon, lev]*Un_z_TIEGCM[lat, lon, lev]/bnorm[lat, lon, lev] + Bz_IGRF[lat, lon, lev]*Un_y_TIEGCM[lat, lon, lev]/bnorm[lat, lon, lev]) + Everty[lat, lon, lev]))**2/(bnorm[lat, lon, lev]**3*(Omega_Op_TIEGCM[lat, lon, lev]**2 + nu_Op_TIEGCM[lat, lon, lev]**2)**2) - 2*(Omega_Op_TIEGCM[lat, lon, lev]**2*(-By_IGRF[lat, lon, lev]*(-Bx_IGRF[lat, lon, lev]*(Bx_IGRF[lat, lon, lev]*Un_z_TIEGCM[lat, lon, lev]/bnorm[lat, lon, lev] - Bz_IGRF[lat, lon, lev]*Un_x_TIEGCM[lat, lon, lev]/bnorm[lat, lon, lev]) + By_IGRF[lat, lon, lev]*(-By_IGRF[lat, lon, lev]*Un_z_TIEGCM[lat, lon, lev]/bnorm[lat, lon, lev] + Bz_IGRF[lat, lon, lev]*Un_y_TIEGCM[lat, lon, lev]/bnorm[lat, lon, lev]) + Evertz[lat, lon, lev])/bnorm[lat, lon, lev] + Bz_IGRF[lat, lon, lev]*(Bx_IGRF[lat, lon, lev]*(-Bx_IGRF[lat, lon, lev]*Un_y_TIEGCM[lat, lon, lev]/bnorm[lat, lon, lev] + By_IGRF[lat, lon, lev]*Un_x_TIEGCM[lat, lon, lev]/bnorm[lat, lon, lev]) - Bz_IGRF[lat, lon, lev]*(-By_IGRF[lat, lon, lev]*Un_z_TIEGCM[lat, lon, lev]/bnorm[lat, lon, lev] + Bz_IGRF[lat, lon, lev]*Un_y_TIEGCM[lat, lon, lev]/bnorm[lat, lon, lev]) + Everty[lat, lon, lev])/bnorm[lat, lon, lev]) + Omega_Op_TIEGCM[lat, lon, lev]*nu_Op_TIEGCM[lat, lon, lev]*(-By_IGRF[lat, lon, lev]*(-Bx_IGRF[lat, lon, lev]*Un_y_TIEGCM[lat, lon, lev]/bnorm[lat, lon, lev] + By_IGRF[lat, lon, lev]*Un_x_TIEGCM[lat, lon, lev]/bnorm[lat, lon, lev]) + Bz_IGRF[lat, lon, lev]*(Bx_IGRF[lat, lon, lev]*Un_z_TIEGCM[lat, lon, lev]/bnorm[lat, lon, lev] - Bz_IGRF[lat, lon, lev]*Un_x_TIEGCM[lat, lon, lev]/bnorm[lat, lon, lev]) + Evertx[lat, lon, lev]))**2/(bnorm[lat, lon, lev]**3*(Omega_Op_TIEGCM[lat, lon, lev]**2 + nu_Op_TIEGCM[lat, lon, lev]**2)**2))) ** 2\n",
    "                # ********************************************************************************\n",
    "                eqFH1 = eqFH2 * (Ne_error_act * CubicCm2CubicM) ** 2 + eqFH3 * nu_Op_TIEGCM_error[lat, lon, lev] ** 2 + \\\n",
    "                        eqFH4 * dOmega_Op[lat, lon, lev] ** 2 + eqFH5 * Ex_error_act ** 2 + eqFH6 * Ey_error_act ** 2 + \\\n",
    "                        eqFH7 * Ez_error_act ** 2 + eqFH8 * Bx_error_act ** 2 + eqFH9 * By_error_act ** 2 + \\\n",
    "                        eqFH10 * Bz_error_act ** 2 + eqFH11 * Unx_error_act ** 2 + eqFH12 * Uny_error_act ** 2 + \\\n",
    "                        eqFH13 * Unz_error_act ** 2 + eqFH14 * dbnorm_squared\n",
    "\n",
    "                # *********************************\n",
    "                FH_error[lat, lon, lev] = sy.sqrt(eqFH1).evalf()  # in mW/m^3\n",
    "                FH_error_max[lat, lon, lev] = FH_error[lat, lon, lev] + Frictional_Heating[lat, lon, lev]  # in mW/m^3\n",
    "                FH_error_min[lat, lon, lev] = Frictional_Heating[lat, lon, lev] - FH_error[lat, lon, lev]  # in mW/m^3\n",
    "\n",
    "\n",
    "# *********************************** Cross section Error ************************************************************\n",
    "def CS_error_prop(N2_error=1.0, O_error=1.0, O2_error=1.0, Ti_error=1.0, lat_value=-500, lon_value=-500,\n",
    "                  pressure_level=-500):\n",
    "\n",
    "    M_ion = m_Oplus * 10 ** (3)  # in grams\n",
    "\n",
    "    # distinguish Vertical from Map run\n",
    "    for_lat=0\n",
    "    for_lon=0\n",
    "    for_lev=0\n",
    "    if pressure_level == -500:  # Vertical Profile\n",
    "        glev_steps = len(glev) - 1\n",
    "        for_lat = global_lat #lat pointer according to TIEGCM file\n",
    "        for_lon = global_lon #lon pointer according to TIEGCM file\n",
    "    else:\n",
    "        glev_steps = 1\n",
    "\n",
    "    if lat_value == -500 and lon_value == -500:  # Map Profile\n",
    "        lat_steps = len(glat)-1\n",
    "        lon_steps = len(glon)-1\n",
    "        for_lev = global_lev\n",
    "    else:\n",
    "        lat_steps = 1\n",
    "        lon_steps = 1\n",
    "\n",
    "    for lev in range(for_lev,for_lev+ glev_steps):\n",
    "        for lat in range(for_lat,for_lat+ lat_steps):\n",
    "            for lon in range(for_lon,for_lon+ lon_steps):\n",
    "                # O2p_error_act = (O2p_error / 100) * O2p_TIEGCM[lat, lon, lev]\n",
    "                if Error_Source.value == False:  # Errosros from Boxes\n",
    "                    O_error_act = (O_error / 100) * O_TIEGCM[lat, lon, lev]\n",
    "                    O2_error_act = (O2_error / 100) * O2_TIEGCM[lat, lon, lev]\n",
    "                    N2_error_act = (N2_error / 100) * N2_TIEGCM[lat, lon, lev]\n",
    "                    Ti_error_act = (Ti_error / 100) * Ti_TIEGCM[lat, lon, lev]\n",
    "                else:  # Errors from Daedalus Science Study\n",
    "                    O_error_act = 0.01 * O_TIEGCM[lat, lon, lev]\n",
    "                    O2_error_act = 0.01 * O2_TIEGCM[lat, lon, lev]\n",
    "                    N2_error_act = N2_error / 100 * N2_TIEGCM[lat, lon, lev]\n",
    "                    Ti_error_act = (Ti_error / 100) * Ti_TIEGCM[lat, lon, lev]\n",
    "\n",
    "                    if Ti_error_act >= 10:\n",
    "                        Ti_error_act = 10\n",
    "\n",
    "                eqCS2 = M_ion * nu_Op_TIEGCM[lat, lon, lev] ** 2 / (2 * Ti_TIEGCM[lat, lon, lev] * boltzmann *\n",
    "                                                                    (N_neutral[lat, lon, lev]) ** 4)\n",
    "                eqCS3 = eqCS2\n",
    "                eqCS4 = eqCS2\n",
    "                eqCS5 = M_ion / (2 * Ti_TIEGCM[lat, lon, lev] * boltzmann * (N_neutral[lat, lon, lev]) ** 2)\n",
    "                eqCS6 = M_ion * nu_Op_TIEGCM[lat, lon, lev] ** 2 / (8 * Ti_TIEGCM[lat, lon, lev] ** 3 * boltzmann *\n",
    "                                                                    (N_neutral[lat, lon, lev]) ** 2)\n",
    "                eqCS1 = eqCS2 * N2_error_act ** 2 + eqCS3 * O_error_act ** 2 + eqCS4 * O2_error_act ** 2 + eqCS5 * \\\n",
    "                        nu_Op_TIEGCM_error[lat, lon, lev] ** 2 + eqCS6 * Ti_error_act ** 2\n",
    "\n",
    "                cross_section_error[lat, lon, lev] = sy.sqrt(eqCS1).evalf()\n",
    "                cross_section_error_min[lat, lon, lev] = cross_section[lat, lon, lev] - sy.sqrt(eqCS1)\n",
    "                cross_section_error_max[lat, lon, lev] = cross_section[lat, lon, lev] + sy.sqrt(eqCS1)\n",
    "\n",
    "\n",
    "# ******************* Currents ERROR CALCULATIONS *******************************************************************\n",
    "def error_Currents_calculation(E_error=1.0, Un_error=1.0, B_error=1.0, lat_value=-500, lon_value=-500,\n",
    "                               pressure_level=-500):\n",
    "\n",
    "    # errors are in percentage/B error is absolute\n",
    "    # distinguish Vertical from Map run\n",
    "    for_lat=0\n",
    "    for_lon=0\n",
    "    for_lev=0\n",
    "    if pressure_level == -500:  # Vertical Profile\n",
    "        glev_steps = len(glev) - 1\n",
    "        for_lat = global_lat #lat pointer according to TIEGCM file\n",
    "        for_lon = global_lon #lon pointer according to TIEGCM file\n",
    "    else:\n",
    "        glev_steps = 1\n",
    "\n",
    "    if lat_value == -500 and lon_value == -500:  # Map Profile\n",
    "        lat_steps = len(glat)-1\n",
    "        lon_steps = len(glon)-1\n",
    "        for_lev = global_lev\n",
    "    else:\n",
    "        lat_steps = 1\n",
    "        lon_steps = 1\n",
    "\n",
    "    for lev in range(for_lev,for_lev+ glev_steps):\n",
    "        for lat in range(for_lat,for_lat+ lat_steps):\n",
    "            for lon in range(for_lon,for_lon+ lon_steps):\n",
    "                if Error_Source.value == False:  # Errors from Boxes\n",
    "                    Bx_error_act = B_error\n",
    "                    By_error_act = B_error\n",
    "                    Bz_error_act = B_error\n",
    "                  # B_error_act = B_error\n",
    "                    Ex_error_act = E_error\n",
    "                    Ey_error_act = E_error\n",
    "                    Ez_error_act = E_error\n",
    "                  # E_error_act = E_error\n",
    "\n",
    "                    Unx_error_act = (Un_error / 100) * Un_x_TIEGCM[lat, lon, lev]\n",
    "                    Uny_error_act = (Un_error / 100) * Un_y_TIEGCM[lat, lon, lev]\n",
    "                    Unz_error_act = (Un_error / 100) * Un_z_TIEGCM[lat, lon, lev]\n",
    "                else:  # Errors from Daedalus Science study\n",
    "                    Bx_error_act = 5 * 10 ** (-9)\n",
    "                    By_error_act = 5 * 10 ** (-9)\n",
    "                    Bz_error_act = 5 * 10 ** (-9)\n",
    "                  # B_error_act = 5 * 10 ** (-9)\n",
    "                    Ex_error_act = 2 * 10 ** (-3)\n",
    "                    Ey_error_act = 2 * 10 ** (-3)\n",
    "                    Ez_error_act = 2 * 10 ** (-3)\n",
    "                  # E_error_act = 2 * 10 ** (-3)\n",
    "\n",
    "                    Unx_error_act = 25 * sy.exp(-2 * sy.log(O_TIEGCM[lat, lon, lev] + O2_TIEGCM[lat, lon, lev] +\n",
    "                                                            N2_TIEGCM[lat, lon, lev], 10) - 12.5).evalf()\n",
    "                    if Unx_error_act >= 3.5:\n",
    "                        Unx_error_act = 3.5\n",
    "\n",
    "                    Uny_error_act = 25 * sy.exp(-2 * sy.log(O_TIEGCM[lat, lon, lev] + O2_TIEGCM[lat, lon, lev] +\n",
    "                                                            N2_TIEGCM[lat, lon, lev], 10) - 12.5).evalf()\n",
    "                    if Uny_error_act >= 3.5:\n",
    "                        Uny_error_act = 3.5\n",
    "\n",
    "                    Unz_error_act = 50 * sy.exp(-1.5 * sy.log(O_TIEGCM[lat, lon, lev] + O2_TIEGCM[lat, lon, lev] +\n",
    "                                                              N2_TIEGCM[lat, lon, lev], 10) - 12.5).evalf()\n",
    "                    if Unz_error_act >= 12.:\n",
    "                        Unz_error_act = 12.\n",
    "\n",
    "                Peder_error_act = Peder_error[lat, lon, lev]\n",
    "                Hall_error_act = Hall_error[lat, lon, lev]\n",
    "\n",
    "                # dbnorm^2\n",
    "                dbnorm_squared = ((Bx_IGRF[lat, lon, lev] ** 2) / (Bx_IGRF[lat, lon, lev] ** 2 +\n",
    "                                                                  By_IGRF[lat, lon, lev] ** 2 +\n",
    "                                                                  Bz_IGRF[lat, lon, lev] ** 2)) * (Bx_error_act) ** 2 + \\\n",
    "                                 ((By_IGRF[lat, lon, lev] ** 2) / (Bx_IGRF[lat, lon, lev] ** 2 +\n",
    "                                                                    By_IGRF[lat, lon, lev] ** 2 +\n",
    "                                                                  Bz_IGRF[lat, lon, lev] ** 2)) * (By_error_act) ** 2 + \\\n",
    "                                 ((Bz_IGRF[lat, lon, lev] ** 2) / (Bx_IGRF[lat, lon, lev] ** 2 +\n",
    "                                                                  By_IGRF[lat, lon, lev] ** 2 +\n",
    "                                                                  Bz_IGRF[lat, lon, lev] ** 2)) * (Bz_error_act) ** 2\n",
    "\n",
    "                # ################################ Pedersen current error #########################################\n",
    "                # dsigmaP\n",
    "                Jp_eq_1 = (sy.sqrt((Bx_IGRF[lat, lon, lev]*(-Bx_IGRF[lat, lon, lev]*Un_y_TIEGCM[lat, lon, lev]/bnorm[lat, lon, lev] + By_IGRF[lat, lon, lev]*Un_x_TIEGCM[lat, lon, lev]/bnorm[lat, lon, lev]) - Bz_IGRF[lat, lon, lev]*(-By_IGRF[lat, lon, lev]*Un_z_TIEGCM[lat, lon, lev]/bnorm[lat, lon, lev] + Bz_IGRF[lat, lon, lev]*Un_y_TIEGCM[lat, lon, lev]/bnorm[lat, lon, lev]) + Everty[lat, lon, lev])**2 + (-Bx_IGRF[lat, lon, lev]*(Bx_IGRF[lat, lon, lev]*Un_z_TIEGCM[lat, lon, lev]/bnorm[lat, lon, lev] - Bz_IGRF[lat, lon, lev]*Un_x_TIEGCM[lat, lon, lev]/bnorm[lat, lon, lev]) + By_IGRF[lat, lon, lev]*(-By_IGRF[lat, lon, lev]*Un_z_TIEGCM[lat, lon, lev]/bnorm[lat, lon, lev] + Bz_IGRF[lat, lon, lev]*Un_y_TIEGCM[lat, lon, lev]/bnorm[lat, lon, lev]) + Evertz[lat, lon, lev])**2 + (-By_IGRF[lat, lon, lev]*(-Bx_IGRF[lat, lon, lev]*Un_y_TIEGCM[lat, lon, lev]/bnorm[lat, lon, lev] + By_IGRF[lat, lon, lev]*Un_x_TIEGCM[lat, lon, lev]/bnorm[lat, lon, lev]) + Bz_IGRF[lat, lon, lev]*(Bx_IGRF[lat, lon, lev]*Un_z_TIEGCM[lat, lon, lev]/bnorm[lat, lon, lev] - Bz_IGRF[lat, lon, lev]*Un_x_TIEGCM[lat, lon, lev]/bnorm[lat, lon, lev]) + Evertx[lat, lon, lev])**2)) ** 2\n",
    "\n",
    "                # dBx\n",
    "                Jp_eq_2 = (Pedersen_TIEGCM[lat, lon, lev]*((-4*Bx_IGRF[lat, lon, lev]*Un_y_TIEGCM[lat, lon, lev]/bnorm[lat, lon, lev] + 2*By_IGRF[lat, lon, lev]*Un_x_TIEGCM[lat, lon, lev]/bnorm[lat, lon, lev])*(Bx_IGRF[lat, lon, lev]*(-Bx_IGRF[lat, lon, lev]*Un_y_TIEGCM[lat, lon, lev]/bnorm[lat, lon, lev] + By_IGRF[lat, lon, lev]*Un_x_TIEGCM[lat, lon, lev]/bnorm[lat, lon, lev]) - Bz_IGRF[lat, lon, lev]*(-By_IGRF[lat, lon, lev]*Un_z_TIEGCM[lat, lon, lev]/bnorm[lat, lon, lev] + Bz_IGRF[lat, lon, lev]*Un_y_TIEGCM[lat, lon, lev]/bnorm[lat, lon, lev]) + Everty[lat, lon, lev])/2 + (-4*Bx_IGRF[lat, lon, lev]*Un_z_TIEGCM[lat, lon, lev]/bnorm[lat, lon, lev] + 2*Bz_IGRF[lat, lon, lev]*Un_x_TIEGCM[lat, lon, lev]/bnorm[lat, lon, lev])*(-Bx_IGRF[lat, lon, lev]*(Bx_IGRF[lat, lon, lev]*Un_z_TIEGCM[lat, lon, lev]/bnorm[lat, lon, lev] - Bz_IGRF[lat, lon, lev]*Un_x_TIEGCM[lat, lon, lev]/bnorm[lat, lon, lev]) + By_IGRF[lat, lon, lev]*(-By_IGRF[lat, lon, lev]*Un_z_TIEGCM[lat, lon, lev]/bnorm[lat, lon, lev] + Bz_IGRF[lat, lon, lev]*Un_y_TIEGCM[lat, lon, lev]/bnorm[lat, lon, lev]) + Evertz[lat, lon, lev])/2 + (2*By_IGRF[lat, lon, lev]*Un_y_TIEGCM[lat, lon, lev]/bnorm[lat, lon, lev] + 2*Bz_IGRF[lat, lon, lev]*Un_z_TIEGCM[lat, lon, lev]/bnorm[lat, lon, lev])*(-By_IGRF[lat, lon, lev]*(-Bx_IGRF[lat, lon, lev]*Un_y_TIEGCM[lat, lon, lev]/bnorm[lat, lon, lev] + By_IGRF[lat, lon, lev]*Un_x_TIEGCM[lat, lon, lev]/bnorm[lat, lon, lev]) + Bz_IGRF[lat, lon, lev]*(Bx_IGRF[lat, lon, lev]*Un_z_TIEGCM[lat, lon, lev]/bnorm[lat, lon, lev] - Bz_IGRF[lat, lon, lev]*Un_x_TIEGCM[lat, lon, lev]/bnorm[lat, lon, lev]) + Evertx[lat, lon, lev])/2)/sy.sqrt((Bx_IGRF[lat, lon, lev]*(-Bx_IGRF[lat, lon, lev]*Un_y_TIEGCM[lat, lon, lev]/bnorm[lat, lon, lev] + By_IGRF[lat, lon, lev]*Un_x_TIEGCM[lat, lon, lev]/bnorm[lat, lon, lev]) - Bz_IGRF[lat, lon, lev]*(-By_IGRF[lat, lon, lev]*Un_z_TIEGCM[lat, lon, lev]/bnorm[lat, lon, lev] + Bz_IGRF[lat, lon, lev]*Un_y_TIEGCM[lat, lon, lev]/bnorm[lat, lon, lev]) + Everty[lat, lon, lev])**2 + (-Bx_IGRF[lat, lon, lev]*(Bx_IGRF[lat, lon, lev]*Un_z_TIEGCM[lat, lon, lev]/bnorm[lat, lon, lev] - Bz_IGRF[lat, lon, lev]*Un_x_TIEGCM[lat, lon, lev]/bnorm[lat, lon, lev]) + By_IGRF[lat, lon, lev]*(-By_IGRF[lat, lon, lev]*Un_z_TIEGCM[lat, lon, lev]/bnorm[lat, lon, lev] + Bz_IGRF[lat, lon, lev]*Un_y_TIEGCM[lat, lon, lev]/bnorm[lat, lon, lev]) + Evertz[lat, lon, lev])**2 + (-By_IGRF[lat, lon, lev]*(-Bx_IGRF[lat, lon, lev]*Un_y_TIEGCM[lat, lon, lev]/bnorm[lat, lon, lev] + By_IGRF[lat, lon, lev]*Un_x_TIEGCM[lat, lon, lev]/bnorm[lat, lon, lev]) + Bz_IGRF[lat, lon, lev]*(Bx_IGRF[lat, lon, lev]*Un_z_TIEGCM[lat, lon, lev]/bnorm[lat, lon, lev] - Bz_IGRF[lat, lon, lev]*Un_x_TIEGCM[lat, lon, lev]/bnorm[lat, lon, lev]) + Evertx[lat, lon, lev])**2)) ** 2\n",
    "\n",
    "                # dBy\n",
    "                Jp_eq_3 = (Pedersen_TIEGCM[lat, lon, lev]*((2*Bx_IGRF[lat, lon, lev]*Un_x_TIEGCM[lat, lon, lev]/bnorm[lat, lon, lev] + 2*Bz_IGRF[lat, lon, lev]*Un_z_TIEGCM[lat, lon, lev]/bnorm[lat, lon, lev])*(Bx_IGRF[lat, lon, lev]*(-Bx_IGRF[lat, lon, lev]*Un_y_TIEGCM[lat, lon, lev]/bnorm[lat, lon, lev] + By_IGRF[lat, lon, lev]*Un_x_TIEGCM[lat, lon, lev]/bnorm[lat, lon, lev]) - Bz_IGRF[lat, lon, lev]*(-By_IGRF[lat, lon, lev]*Un_z_TIEGCM[lat, lon, lev]/bnorm[lat, lon, lev] + Bz_IGRF[lat, lon, lev]*Un_y_TIEGCM[lat, lon, lev]/bnorm[lat, lon, lev]) + Everty[lat, lon, lev])/2 + (2*Bx_IGRF[lat, lon, lev]*Un_y_TIEGCM[lat, lon, lev]/bnorm[lat, lon, lev] - 4*By_IGRF[lat, lon, lev]*Un_x_TIEGCM[lat, lon, lev]/bnorm[lat, lon, lev])*(-By_IGRF[lat, lon, lev]*(-Bx_IGRF[lat, lon, lev]*Un_y_TIEGCM[lat, lon, lev]/bnorm[lat, lon, lev] + By_IGRF[lat, lon, lev]*Un_x_TIEGCM[lat, lon, lev]/bnorm[lat, lon, lev]) + Bz_IGRF[lat, lon, lev]*(Bx_IGRF[lat, lon, lev]*Un_z_TIEGCM[lat, lon, lev]/bnorm[lat, lon, lev] - Bz_IGRF[lat, lon, lev]*Un_x_TIEGCM[lat, lon, lev]/bnorm[lat, lon, lev]) + Evertx[lat, lon, lev])/2 + (-4*By_IGRF[lat, lon, lev]*Un_z_TIEGCM[lat, lon, lev]/bnorm[lat, lon, lev] + 2*Bz_IGRF[lat, lon, lev]*Un_y_TIEGCM[lat, lon, lev]/bnorm[lat, lon, lev])*(-Bx_IGRF[lat, lon, lev]*(Bx_IGRF[lat, lon, lev]*Un_z_TIEGCM[lat, lon, lev]/bnorm[lat, lon, lev] - Bz_IGRF[lat, lon, lev]*Un_x_TIEGCM[lat, lon, lev]/bnorm[lat, lon, lev]) + By_IGRF[lat, lon, lev]*(-By_IGRF[lat, lon, lev]*Un_z_TIEGCM[lat, lon, lev]/bnorm[lat, lon, lev] + Bz_IGRF[lat, lon, lev]*Un_y_TIEGCM[lat, lon, lev]/bnorm[lat, lon, lev]) + Evertz[lat, lon, lev])/2)/sy.sqrt((Bx_IGRF[lat, lon, lev]*(-Bx_IGRF[lat, lon, lev]*Un_y_TIEGCM[lat, lon, lev]/bnorm[lat, lon, lev] + By_IGRF[lat, lon, lev]*Un_x_TIEGCM[lat, lon, lev]/bnorm[lat, lon, lev]) - Bz_IGRF[lat, lon, lev]*(-By_IGRF[lat, lon, lev]*Un_z_TIEGCM[lat, lon, lev]/bnorm[lat, lon, lev] + Bz_IGRF[lat, lon, lev]*Un_y_TIEGCM[lat, lon, lev]/bnorm[lat, lon, lev]) + Everty[lat, lon, lev])**2 + (-Bx_IGRF[lat, lon, lev]*(Bx_IGRF[lat, lon, lev]*Un_z_TIEGCM[lat, lon, lev]/bnorm[lat, lon, lev] - Bz_IGRF[lat, lon, lev]*Un_x_TIEGCM[lat, lon, lev]/bnorm[lat, lon, lev]) + By_IGRF[lat, lon, lev]*(-By_IGRF[lat, lon, lev]*Un_z_TIEGCM[lat, lon, lev]/bnorm[lat, lon, lev] + Bz_IGRF[lat, lon, lev]*Un_y_TIEGCM[lat, lon, lev]/bnorm[lat, lon, lev]) + Evertz[lat, lon, lev])**2 + (-By_IGRF[lat, lon, lev]*(-Bx_IGRF[lat, lon, lev]*Un_y_TIEGCM[lat, lon, lev]/bnorm[lat, lon, lev] + By_IGRF[lat, lon, lev]*Un_x_TIEGCM[lat, lon, lev]/bnorm[lat, lon, lev]) + Bz_IGRF[lat, lon, lev]*(Bx_IGRF[lat, lon, lev]*Un_z_TIEGCM[lat, lon, lev]/bnorm[lat, lon, lev] - Bz_IGRF[lat, lon, lev]*Un_x_TIEGCM[lat, lon, lev]/bnorm[lat, lon, lev]) + Evertx[lat, lon, lev])**2)) ** 2\n",
    "\n",
    "                # dBz\n",
    "                Jp_eq_4 = (Pedersen_TIEGCM[lat, lon, lev]*((-4*Bx_IGRF[lat, lon, lev]*Un_y_TIEGCM[lat, lon, lev]/bnorm[lat, lon, lev] + 2*By_IGRF[lat, lon, lev]*Un_x_TIEGCM[lat, lon, lev]/bnorm[lat, lon, lev])*(Bx_IGRF[lat, lon, lev]*(-Bx_IGRF[lat, lon, lev]*Un_y_TIEGCM[lat, lon, lev]/bnorm[lat, lon, lev] + By_IGRF[lat, lon, lev]*Un_x_TIEGCM[lat, lon, lev]/bnorm[lat, lon, lev]) - Bz_IGRF[lat, lon, lev]*(-By_IGRF[lat, lon, lev]*Un_z_TIEGCM[lat, lon, lev]/bnorm[lat, lon, lev] + Bz_IGRF[lat, lon, lev]*Un_y_TIEGCM[lat, lon, lev]/bnorm[lat, lon, lev]) + Everty[lat, lon, lev])/2 + (-4*Bx_IGRF[lat, lon, lev]*Un_z_TIEGCM[lat, lon, lev]/bnorm[lat, lon, lev] + 2*Bz_IGRF[lat, lon, lev]*Un_x_TIEGCM[lat, lon, lev]/bnorm[lat, lon, lev])*(-Bx_IGRF[lat, lon, lev]*(Bx_IGRF[lat, lon, lev]*Un_z_TIEGCM[lat, lon, lev]/bnorm[lat, lon, lev] - Bz_IGRF[lat, lon, lev]*Un_x_TIEGCM[lat, lon, lev]/bnorm[lat, lon, lev]) + By_IGRF[lat, lon, lev]*(-By_IGRF[lat, lon, lev]*Un_z_TIEGCM[lat, lon, lev]/bnorm[lat, lon, lev] + Bz_IGRF[lat, lon, lev]*Un_y_TIEGCM[lat, lon, lev]/bnorm[lat, lon, lev]) + Evertz[lat, lon, lev])/2 + (2*By_IGRF[lat, lon, lev]*Un_y_TIEGCM[lat, lon, lev]/bnorm[lat, lon, lev] + 2*Bz_IGRF[lat, lon, lev]*Un_z_TIEGCM[lat, lon, lev]/bnorm[lat, lon, lev])*(-By_IGRF[lat, lon, lev]*(-Bx_IGRF[lat, lon, lev]*Un_y_TIEGCM[lat, lon, lev]/bnorm[lat, lon, lev] + By_IGRF[lat, lon, lev]*Un_x_TIEGCM[lat, lon, lev]/bnorm[lat, lon, lev]) + Bz_IGRF[lat, lon, lev]*(Bx_IGRF[lat, lon, lev]*Un_z_TIEGCM[lat, lon, lev]/bnorm[lat, lon, lev] - Bz_IGRF[lat, lon, lev]*Un_x_TIEGCM[lat, lon, lev]/bnorm[lat, lon, lev]) + Evertx[lat, lon, lev])/2)/sy.sqrt((Bx_IGRF[lat, lon, lev]*(-Bx_IGRF[lat, lon, lev]*Un_y_TIEGCM[lat, lon, lev]/bnorm[lat, lon, lev] + By_IGRF[lat, lon, lev]*Un_x_TIEGCM[lat, lon, lev]/bnorm[lat, lon, lev]) - Bz_IGRF[lat, lon, lev]*(-By_IGRF[lat, lon, lev]*Un_z_TIEGCM[lat, lon, lev]/bnorm[lat, lon, lev] + Bz_IGRF[lat, lon, lev]*Un_y_TIEGCM[lat, lon, lev]/bnorm[lat, lon, lev]) + Everty[lat, lon, lev])**2 + (-Bx_IGRF[lat, lon, lev]*(Bx_IGRF[lat, lon, lev]*Un_z_TIEGCM[lat, lon, lev]/bnorm[lat, lon, lev] - Bz_IGRF[lat, lon, lev]*Un_x_TIEGCM[lat, lon, lev]/bnorm[lat, lon, lev]) + By_IGRF[lat, lon, lev]*(-By_IGRF[lat, lon, lev]*Un_z_TIEGCM[lat, lon, lev]/bnorm[lat, lon, lev] + Bz_IGRF[lat, lon, lev]*Un_y_TIEGCM[lat, lon, lev]/bnorm[lat, lon, lev]) + Evertz[lat, lon, lev])**2 + (-By_IGRF[lat, lon, lev]*(-Bx_IGRF[lat, lon, lev]*Un_y_TIEGCM[lat, lon, lev]/bnorm[lat, lon, lev] + By_IGRF[lat, lon, lev]*Un_x_TIEGCM[lat, lon, lev]/bnorm[lat, lon, lev]) + Bz_IGRF[lat, lon, lev]*(Bx_IGRF[lat, lon, lev]*Un_z_TIEGCM[lat, lon, lev]/bnorm[lat, lon, lev] - Bz_IGRF[lat, lon, lev]*Un_x_TIEGCM[lat, lon, lev]/bnorm[lat, lon, lev]) + Evertx[lat, lon, lev])**2)) ** 2\n",
    "\n",
    "                # dEvertx\n",
    "                Jp_eq_5 = (Pedersen_TIEGCM[lat, lon, lev]*(-By_IGRF[lat, lon, lev]*(-Bx_IGRF[lat, lon, lev]*Un_y_TIEGCM[lat, lon, lev]/bnorm[lat, lon, lev] + By_IGRF[lat, lon, lev]*Un_x_TIEGCM[lat, lon, lev]/bnorm[lat, lon, lev]) + Bz_IGRF[lat, lon, lev]*(Bx_IGRF[lat, lon, lev]*Un_z_TIEGCM[lat, lon, lev]/bnorm[lat, lon, lev] - Bz_IGRF[lat, lon, lev]*Un_x_TIEGCM[lat, lon, lev]/bnorm[lat, lon, lev]) + Evertx[lat, lon, lev])/sy.sqrt((Bx_IGRF[lat, lon, lev]*(-Bx_IGRF[lat, lon, lev]*Un_y_TIEGCM[lat, lon, lev]/bnorm[lat, lon, lev] + By_IGRF[lat, lon, lev]*Un_x_TIEGCM[lat, lon, lev]/bnorm[lat, lon, lev]) - Bz_IGRF[lat, lon, lev]*(-By_IGRF[lat, lon, lev]*Un_z_TIEGCM[lat, lon, lev]/bnorm[lat, lon, lev] + Bz_IGRF[lat, lon, lev]*Un_y_TIEGCM[lat, lon, lev]/bnorm[lat, lon, lev]) + Everty[lat, lon, lev])**2 + (-Bx_IGRF[lat, lon, lev]*(Bx_IGRF[lat, lon, lev]*Un_z_TIEGCM[lat, lon, lev]/bnorm[lat, lon, lev] - Bz_IGRF[lat, lon, lev]*Un_x_TIEGCM[lat, lon, lev]/bnorm[lat, lon, lev]) + By_IGRF[lat, lon, lev]*(-By_IGRF[lat, lon, lev]*Un_z_TIEGCM[lat, lon, lev]/bnorm[lat, lon, lev] + Bz_IGRF[lat, lon, lev]*Un_y_TIEGCM[lat, lon, lev]/bnorm[lat, lon, lev]) + Evertz[lat, lon, lev])**2 + (-By_IGRF[lat, lon, lev]*(-Bx_IGRF[lat, lon, lev]*Un_y_TIEGCM[lat, lon, lev]/bnorm[lat, lon, lev] + By_IGRF[lat, lon, lev]*Un_x_TIEGCM[lat, lon, lev]/bnorm[lat, lon, lev]) + Bz_IGRF[lat, lon, lev]*(Bx_IGRF[lat, lon, lev]*Un_z_TIEGCM[lat, lon, lev]/bnorm[lat, lon, lev] - Bz_IGRF[lat, lon, lev]*Un_x_TIEGCM[lat, lon, lev]/bnorm[lat, lon, lev]) + Evertx[lat, lon, lev])**2)) ** 2\n",
    "\n",
    "                # dEverty\n",
    "                Jp_eq_6 = (Pedersen_TIEGCM[lat, lon, lev]*(Bx_IGRF[lat, lon, lev]*(-Bx_IGRF[lat, lon, lev]*Un_y_TIEGCM[lat, lon, lev]/bnorm[lat, lon, lev] + By_IGRF[lat, lon, lev]*Un_x_TIEGCM[lat, lon, lev]/bnorm[lat, lon, lev]) - Bz_IGRF[lat, lon, lev]*(-By_IGRF[lat, lon, lev]*Un_z_TIEGCM[lat, lon, lev]/bnorm[lat, lon, lev] + Bz_IGRF[lat, lon, lev]*Un_y_TIEGCM[lat, lon, lev]/bnorm[lat, lon, lev]) + Everty[lat, lon, lev])/sy.sqrt((Bx_IGRF[lat, lon, lev]*(-Bx_IGRF[lat, lon, lev]*Un_y_TIEGCM[lat, lon, lev]/bnorm[lat, lon, lev] + By_IGRF[lat, lon, lev]*Un_x_TIEGCM[lat, lon, lev]/bnorm[lat, lon, lev]) - Bz_IGRF[lat, lon, lev]*(-By_IGRF[lat, lon, lev]*Un_z_TIEGCM[lat, lon, lev]/bnorm[lat, lon, lev] + Bz_IGRF[lat, lon, lev]*Un_y_TIEGCM[lat, lon, lev]/bnorm[lat, lon, lev]) + Everty[lat, lon, lev])**2 + (-Bx_IGRF[lat, lon, lev]*(Bx_IGRF[lat, lon, lev]*Un_z_TIEGCM[lat, lon, lev]/bnorm[lat, lon, lev] - Bz_IGRF[lat, lon, lev]*Un_x_TIEGCM[lat, lon, lev]/bnorm[lat, lon, lev]) + By_IGRF[lat, lon, lev]*(-By_IGRF[lat, lon, lev]*Un_z_TIEGCM[lat, lon, lev]/bnorm[lat, lon, lev] + Bz_IGRF[lat, lon, lev]*Un_y_TIEGCM[lat, lon, lev]/bnorm[lat, lon, lev]) + Evertz[lat, lon, lev])**2 + (-By_IGRF[lat, lon, lev]*(-Bx_IGRF[lat, lon, lev]*Un_y_TIEGCM[lat, lon, lev]/bnorm[lat, lon, lev] + By_IGRF[lat, lon, lev]*Un_x_TIEGCM[lat, lon, lev]/bnorm[lat, lon, lev]) + Bz_IGRF[lat, lon, lev]*(Bx_IGRF[lat, lon, lev]*Un_z_TIEGCM[lat, lon, lev]/bnorm[lat, lon, lev] - Bz_IGRF[lat, lon, lev]*Un_x_TIEGCM[lat, lon, lev]/bnorm[lat, lon, lev]) + Evertx[lat, lon, lev])**2)) ** 2\n",
    "\n",
    "                # dEvertz\n",
    "                Jp_eq_7 = (Pedersen_TIEGCM[lat, lon, lev]*(-Bx_IGRF[lat, lon, lev]*(Bx_IGRF[lat, lon, lev]*Un_z_TIEGCM[lat, lon, lev]/bnorm[lat, lon, lev] - Bz_IGRF[lat, lon, lev]*Un_x_TIEGCM[lat, lon, lev]/bnorm[lat, lon, lev]) + By_IGRF[lat, lon, lev]*(-By_IGRF[lat, lon, lev]*Un_z_TIEGCM[lat, lon, lev]/bnorm[lat, lon, lev] + Bz_IGRF[lat, lon, lev]*Un_y_TIEGCM[lat, lon, lev]/bnorm[lat, lon, lev]) + Evertz[lat, lon, lev])/sy.sqrt((Bx_IGRF[lat, lon, lev]*(-Bx_IGRF[lat, lon, lev]*Un_y_TIEGCM[lat, lon, lev]/bnorm[lat, lon, lev] + By_IGRF[lat, lon, lev]*Un_x_TIEGCM[lat, lon, lev]/bnorm[lat, lon, lev]) - Bz_IGRF[lat, lon, lev]*(-By_IGRF[lat, lon, lev]*Un_z_TIEGCM[lat, lon, lev]/bnorm[lat, lon, lev] + Bz_IGRF[lat, lon, lev]*Un_y_TIEGCM[lat, lon, lev]/bnorm[lat, lon, lev]) + Everty[lat, lon, lev])**2 + (-Bx_IGRF[lat, lon, lev]*(Bx_IGRF[lat, lon, lev]*Un_z_TIEGCM[lat, lon, lev]/bnorm[lat, lon, lev] - Bz_IGRF[lat, lon, lev]*Un_x_TIEGCM[lat, lon, lev]/bnorm[lat, lon, lev]) + By_IGRF[lat, lon, lev]*(-By_IGRF[lat, lon, lev]*Un_z_TIEGCM[lat, lon, lev]/bnorm[lat, lon, lev] + Bz_IGRF[lat, lon, lev]*Un_y_TIEGCM[lat, lon, lev]/bnorm[lat, lon, lev]) + Evertz[lat, lon, lev])**2 + (-By_IGRF[lat, lon, lev]*(-Bx_IGRF[lat, lon, lev]*Un_y_TIEGCM[lat, lon, lev]/bnorm[lat, lon, lev] + By_IGRF[lat, lon, lev]*Un_x_TIEGCM[lat, lon, lev]/bnorm[lat, lon, lev]) + Bz_IGRF[lat, lon, lev]*(Bx_IGRF[lat, lon, lev]*Un_z_TIEGCM[lat, lon, lev]/bnorm[lat, lon, lev] - Bz_IGRF[lat, lon, lev]*Un_x_TIEGCM[lat, lon, lev]/bnorm[lat, lon, lev]) + Evertx[lat, lon, lev])**2)) ** 2\n",
    "\n",
    "                # dUnx\n",
    "                Jp_eq_8 = (Pedersen_TIEGCM[lat, lon, lev]*(Bx_IGRF[lat, lon, lev]*By_IGRF[lat, lon, lev]*(Bx_IGRF[lat, lon, lev]*(-Bx_IGRF[lat, lon, lev]*Un_y_TIEGCM[lat, lon, lev]/bnorm[lat, lon, lev] + By_IGRF[lat, lon, lev]*Un_x_TIEGCM[lat, lon, lev]/bnorm[lat, lon, lev]) - Bz_IGRF[lat, lon, lev]*(-By_IGRF[lat, lon, lev]*Un_z_TIEGCM[lat, lon, lev]/bnorm[lat, lon, lev] + Bz_IGRF[lat, lon, lev]*Un_y_TIEGCM[lat, lon, lev]/bnorm[lat, lon, lev]) + Everty[lat, lon, lev])/bnorm[lat, lon, lev] + Bx_IGRF[lat, lon, lev]*Bz_IGRF[lat, lon, lev]*(-Bx_IGRF[lat, lon, lev]*(Bx_IGRF[lat, lon, lev]*Un_z_TIEGCM[lat, lon, lev]/bnorm[lat, lon, lev] - Bz_IGRF[lat, lon, lev]*Un_x_TIEGCM[lat, lon, lev]/bnorm[lat, lon, lev]) + By_IGRF[lat, lon, lev]*(-By_IGRF[lat, lon, lev]*Un_z_TIEGCM[lat, lon, lev]/bnorm[lat, lon, lev] + Bz_IGRF[lat, lon, lev]*Un_y_TIEGCM[lat, lon, lev]/bnorm[lat, lon, lev]) + Evertz[lat, lon, lev])/bnorm[lat, lon, lev] + (-2*By_IGRF[lat, lon, lev]**2/bnorm[lat, lon, lev] - 2*Bz_IGRF[lat, lon, lev]**2/bnorm[lat, lon, lev])*(-By_IGRF[lat, lon, lev]*(-Bx_IGRF[lat, lon, lev]*Un_y_TIEGCM[lat, lon, lev]/bnorm[lat, lon, lev] + By_IGRF[lat, lon, lev]*Un_x_TIEGCM[lat, lon, lev]/bnorm[lat, lon, lev]) + Bz_IGRF[lat, lon, lev]*(Bx_IGRF[lat, lon, lev]*Un_z_TIEGCM[lat, lon, lev]/bnorm[lat, lon, lev] - Bz_IGRF[lat, lon, lev]*Un_x_TIEGCM[lat, lon, lev]/bnorm[lat, lon, lev]) + Evertx[lat, lon, lev])/2)/sy.sqrt((Bx_IGRF[lat, lon, lev]*(-Bx_IGRF[lat, lon, lev]*Un_y_TIEGCM[lat, lon, lev]/bnorm[lat, lon, lev] + By_IGRF[lat, lon, lev]*Un_x_TIEGCM[lat, lon, lev]/bnorm[lat, lon, lev]) - Bz_IGRF[lat, lon, lev]*(-By_IGRF[lat, lon, lev]*Un_z_TIEGCM[lat, lon, lev]/bnorm[lat, lon, lev] + Bz_IGRF[lat, lon, lev]*Un_y_TIEGCM[lat, lon, lev]/bnorm[lat, lon, lev]) + Everty[lat, lon, lev])**2 + (-Bx_IGRF[lat, lon, lev]*(Bx_IGRF[lat, lon, lev]*Un_z_TIEGCM[lat, lon, lev]/bnorm[lat, lon, lev] - Bz_IGRF[lat, lon, lev]*Un_x_TIEGCM[lat, lon, lev]/bnorm[lat, lon, lev]) + By_IGRF[lat, lon, lev]*(-By_IGRF[lat, lon, lev]*Un_z_TIEGCM[lat, lon, lev]/bnorm[lat, lon, lev] + Bz_IGRF[lat, lon, lev]*Un_y_TIEGCM[lat, lon, lev]/bnorm[lat, lon, lev]) + Evertz[lat, lon, lev])**2 + (-By_IGRF[lat, lon, lev]*(-Bx_IGRF[lat, lon, lev]*Un_y_TIEGCM[lat, lon, lev]/bnorm[lat, lon, lev] + By_IGRF[lat, lon, lev]*Un_x_TIEGCM[lat, lon, lev]/bnorm[lat, lon, lev]) + Bz_IGRF[lat, lon, lev]*(Bx_IGRF[lat, lon, lev]*Un_z_TIEGCM[lat, lon, lev]/bnorm[lat, lon, lev] - Bz_IGRF[lat, lon, lev]*Un_x_TIEGCM[lat, lon, lev]/bnorm[lat, lon, lev]) + Evertx[lat, lon, lev])**2)) ** 2\n",
    "\n",
    "                # dUny\n",
    "                Jp_eq_9 = (Pedersen_TIEGCM[lat, lon, lev]*(Bx_IGRF[lat, lon, lev]*By_IGRF[lat, lon, lev]*(-By_IGRF[lat, lon, lev]*(-Bx_IGRF[lat, lon, lev]*Un_y_TIEGCM[lat, lon, lev]/bnorm[lat, lon, lev] + By_IGRF[lat, lon, lev]*Un_x_TIEGCM[lat, lon, lev]/bnorm[lat, lon, lev]) + Bz_IGRF[lat, lon, lev]*(Bx_IGRF[lat, lon, lev]*Un_z_TIEGCM[lat, lon, lev]/bnorm[lat, lon, lev] - Bz_IGRF[lat, lon, lev]*Un_x_TIEGCM[lat, lon, lev]/bnorm[lat, lon, lev]) + Evertx[lat, lon, lev])/bnorm[lat, lon, lev] + By_IGRF[lat, lon, lev]*Bz_IGRF[lat, lon, lev]*(-Bx_IGRF[lat, lon, lev]*(Bx_IGRF[lat, lon, lev]*Un_z_TIEGCM[lat, lon, lev]/bnorm[lat, lon, lev] - Bz_IGRF[lat, lon, lev]*Un_x_TIEGCM[lat, lon, lev]/bnorm[lat, lon, lev]) + By_IGRF[lat, lon, lev]*(-By_IGRF[lat, lon, lev]*Un_z_TIEGCM[lat, lon, lev]/bnorm[lat, lon, lev] + Bz_IGRF[lat, lon, lev]*Un_y_TIEGCM[lat, lon, lev]/bnorm[lat, lon, lev]) + Evertz[lat, lon, lev])/bnorm[lat, lon, lev] + (-2*Bx_IGRF[lat, lon, lev]**2/bnorm[lat, lon, lev] - 2*Bz_IGRF[lat, lon, lev]**2/bnorm[lat, lon, lev])*(Bx_IGRF[lat, lon, lev]*(-Bx_IGRF[lat, lon, lev]*Un_y_TIEGCM[lat, lon, lev]/bnorm[lat, lon, lev] + By_IGRF[lat, lon, lev]*Un_x_TIEGCM[lat, lon, lev]/bnorm[lat, lon, lev]) - Bz_IGRF[lat, lon, lev]*(-By_IGRF[lat, lon, lev]*Un_z_TIEGCM[lat, lon, lev]/bnorm[lat, lon, lev] + Bz_IGRF[lat, lon, lev]*Un_y_TIEGCM[lat, lon, lev]/bnorm[lat, lon, lev]) + Everty[lat, lon, lev])/2)/sy.sqrt((Bx_IGRF[lat, lon, lev]*(-Bx_IGRF[lat, lon, lev]*Un_y_TIEGCM[lat, lon, lev]/bnorm[lat, lon, lev] + By_IGRF[lat, lon, lev]*Un_x_TIEGCM[lat, lon, lev]/bnorm[lat, lon, lev]) - Bz_IGRF[lat, lon, lev]*(-By_IGRF[lat, lon, lev]*Un_z_TIEGCM[lat, lon, lev]/bnorm[lat, lon, lev] + Bz_IGRF[lat, lon, lev]*Un_y_TIEGCM[lat, lon, lev]/bnorm[lat, lon, lev]) + Everty[lat, lon, lev])**2 + (-Bx_IGRF[lat, lon, lev]*(Bx_IGRF[lat, lon, lev]*Un_z_TIEGCM[lat, lon, lev]/bnorm[lat, lon, lev] - Bz_IGRF[lat, lon, lev]*Un_x_TIEGCM[lat, lon, lev]/bnorm[lat, lon, lev]) + By_IGRF[lat, lon, lev]*(-By_IGRF[lat, lon, lev]*Un_z_TIEGCM[lat, lon, lev]/bnorm[lat, lon, lev] + Bz_IGRF[lat, lon, lev]*Un_y_TIEGCM[lat, lon, lev]/bnorm[lat, lon, lev]) + Evertz[lat, lon, lev])**2 + (-By_IGRF[lat, lon, lev]*(-Bx_IGRF[lat, lon, lev]*Un_y_TIEGCM[lat, lon, lev]/bnorm[lat, lon, lev] + By_IGRF[lat, lon, lev]*Un_x_TIEGCM[lat, lon, lev]/bnorm[lat, lon, lev]) + Bz_IGRF[lat, lon, lev]*(Bx_IGRF[lat, lon, lev]*Un_z_TIEGCM[lat, lon, lev]/bnorm[lat, lon, lev] - Bz_IGRF[lat, lon, lev]*Un_x_TIEGCM[lat, lon, lev]/bnorm[lat, lon, lev]) + Evertx[lat, lon, lev])**2)) ** 2\n",
    "\n",
    "                # dUnz\n",
    "                Jp_eq_10 = (Pedersen_TIEGCM[lat, lon, lev]*(Bx_IGRF[lat, lon, lev]*Bz_IGRF[lat, lon, lev]*(-By_IGRF[lat, lon, lev]*(-Bx_IGRF[lat, lon, lev]*Un_y_TIEGCM[lat, lon, lev]/bnorm[lat, lon, lev] + By_IGRF[lat, lon, lev]*Un_x_TIEGCM[lat, lon, lev]/bnorm[lat, lon, lev]) + Bz_IGRF[lat, lon, lev]*(Bx_IGRF[lat, lon, lev]*Un_z_TIEGCM[lat, lon, lev]/bnorm[lat, lon, lev] - Bz_IGRF[lat, lon, lev]*Un_x_TIEGCM[lat, lon, lev]/bnorm[lat, lon, lev]) + Evertx[lat, lon, lev])/bnorm[lat, lon, lev] + By_IGRF[lat, lon, lev]*Bz_IGRF[lat, lon, lev]*(Bx_IGRF[lat, lon, lev]*(-Bx_IGRF[lat, lon, lev]*Un_y_TIEGCM[lat, lon, lev]/bnorm[lat, lon, lev] + By_IGRF[lat, lon, lev]*Un_x_TIEGCM[lat, lon, lev]/bnorm[lat, lon, lev]) - Bz_IGRF[lat, lon, lev]*(-By_IGRF[lat, lon, lev]*Un_z_TIEGCM[lat, lon, lev]/bnorm[lat, lon, lev] + Bz_IGRF[lat, lon, lev]*Un_y_TIEGCM[lat, lon, lev]/bnorm[lat, lon, lev]) + Everty[lat, lon, lev])/bnorm[lat, lon, lev] + (-2*Bx_IGRF[lat, lon, lev]**2/bnorm[lat, lon, lev] - 2*By_IGRF[lat, lon, lev]**2/bnorm[lat, lon, lev])*(-Bx_IGRF[lat, lon, lev]*(Bx_IGRF[lat, lon, lev]*Un_z_TIEGCM[lat, lon, lev]/bnorm[lat, lon, lev] - Bz_IGRF[lat, lon, lev]*Un_x_TIEGCM[lat, lon, lev]/bnorm[lat, lon, lev]) + By_IGRF[lat, lon, lev]*(-By_IGRF[lat, lon, lev]*Un_z_TIEGCM[lat, lon, lev]/bnorm[lat, lon, lev] + Bz_IGRF[lat, lon, lev]*Un_y_TIEGCM[lat, lon, lev]/bnorm[lat, lon, lev]) + Evertz[lat, lon, lev])/2)/sy.sqrt((Bx_IGRF[lat, lon, lev]*(-Bx_IGRF[lat, lon, lev]*Un_y_TIEGCM[lat, lon, lev]/bnorm[lat, lon, lev] + By_IGRF[lat, lon, lev]*Un_x_TIEGCM[lat, lon, lev]/bnorm[lat, lon, lev]) - Bz_IGRF[lat, lon, lev]*(-By_IGRF[lat, lon, lev]*Un_z_TIEGCM[lat, lon, lev]/bnorm[lat, lon, lev] + Bz_IGRF[lat, lon, lev]*Un_y_TIEGCM[lat, lon, lev]/bnorm[lat, lon, lev]) + Everty[lat, lon, lev])**2 + (-Bx_IGRF[lat, lon, lev]*(Bx_IGRF[lat, lon, lev]*Un_z_TIEGCM[lat, lon, lev]/bnorm[lat, lon, lev] - Bz_IGRF[lat, lon, lev]*Un_x_TIEGCM[lat, lon, lev]/bnorm[lat, lon, lev]) + By_IGRF[lat, lon, lev]*(-By_IGRF[lat, lon, lev]*Un_z_TIEGCM[lat, lon, lev]/bnorm[lat, lon, lev] + Bz_IGRF[lat, lon, lev]*Un_y_TIEGCM[lat, lon, lev]/bnorm[lat, lon, lev]) + Evertz[lat, lon, lev])**2 + (-By_IGRF[lat, lon, lev]*(-Bx_IGRF[lat, lon, lev]*Un_y_TIEGCM[lat, lon, lev]/bnorm[lat, lon, lev] + By_IGRF[lat, lon, lev]*Un_x_TIEGCM[lat, lon, lev]/bnorm[lat, lon, lev]) + Bz_IGRF[lat, lon, lev]*(Bx_IGRF[lat, lon, lev]*Un_z_TIEGCM[lat, lon, lev]/bnorm[lat, lon, lev] - Bz_IGRF[lat, lon, lev]*Un_x_TIEGCM[lat, lon, lev]/bnorm[lat, lon, lev]) + Evertx[lat, lon, lev])**2)) ** 2\n",
    "\n",
    "                # dbnorm\n",
    "                Jp_eq_11 = (Pedersen_TIEGCM[lat, lon, lev]*((2*Bx_IGRF[lat, lon, lev]*(Bx_IGRF[lat, lon, lev]*Un_y_TIEGCM[lat, lon, lev]/bnorm[lat, lon, lev]**2 - By_IGRF[lat, lon, lev]*Un_x_TIEGCM[lat, lon, lev]/bnorm[lat, lon, lev]**2) - 2*Bz_IGRF[lat, lon, lev]*(By_IGRF[lat, lon, lev]*Un_z_TIEGCM[lat, lon, lev]/bnorm[lat, lon, lev]**2 - Bz_IGRF[lat, lon, lev]*Un_y_TIEGCM[lat, lon, lev]/bnorm[lat, lon, lev]**2))*(Bx_IGRF[lat, lon, lev]*(-Bx_IGRF[lat, lon, lev]*Un_y_TIEGCM[lat, lon, lev]/bnorm[lat, lon, lev] + By_IGRF[lat, lon, lev]*Un_x_TIEGCM[lat, lon, lev]/bnorm[lat, lon, lev]) - Bz_IGRF[lat, lon, lev]*(-By_IGRF[lat, lon, lev]*Un_z_TIEGCM[lat, lon, lev]/bnorm[lat, lon, lev] + Bz_IGRF[lat, lon, lev]*Un_y_TIEGCM[lat, lon, lev]/bnorm[lat, lon, lev]) + Everty[lat, lon, lev])/2 + (-2*Bx_IGRF[lat, lon, lev]*(-Bx_IGRF[lat, lon, lev]*Un_z_TIEGCM[lat, lon, lev]/bnorm[lat, lon, lev]**2 + Bz_IGRF[lat, lon, lev]*Un_x_TIEGCM[lat, lon, lev]/bnorm[lat, lon, lev]**2) + 2*By_IGRF[lat, lon, lev]*(By_IGRF[lat, lon, lev]*Un_z_TIEGCM[lat, lon, lev]/bnorm[lat, lon, lev]**2 - Bz_IGRF[lat, lon, lev]*Un_y_TIEGCM[lat, lon, lev]/bnorm[lat, lon, lev]**2))*(-Bx_IGRF[lat, lon, lev]*(Bx_IGRF[lat, lon, lev]*Un_z_TIEGCM[lat, lon, lev]/bnorm[lat, lon, lev] - Bz_IGRF[lat, lon, lev]*Un_x_TIEGCM[lat, lon, lev]/bnorm[lat, lon, lev]) + By_IGRF[lat, lon, lev]*(-By_IGRF[lat, lon, lev]*Un_z_TIEGCM[lat, lon, lev]/bnorm[lat, lon, lev] + Bz_IGRF[lat, lon, lev]*Un_y_TIEGCM[lat, lon, lev]/bnorm[lat, lon, lev]) + Evertz[lat, lon, lev])/2 + (-2*By_IGRF[lat, lon, lev]*(Bx_IGRF[lat, lon, lev]*Un_y_TIEGCM[lat, lon, lev]/bnorm[lat, lon, lev]**2 - By_IGRF[lat, lon, lev]*Un_x_TIEGCM[lat, lon, lev]/bnorm[lat, lon, lev]**2) + 2*Bz_IGRF[lat, lon, lev]*(-Bx_IGRF[lat, lon, lev]*Un_z_TIEGCM[lat, lon, lev]/bnorm[lat, lon, lev]**2 + Bz_IGRF[lat, lon, lev]*Un_x_TIEGCM[lat, lon, lev]/bnorm[lat, lon, lev]**2))*(-By_IGRF[lat, lon, lev]*(-Bx_IGRF[lat, lon, lev]*Un_y_TIEGCM[lat, lon, lev]/bnorm[lat, lon, lev] + By_IGRF[lat, lon, lev]*Un_x_TIEGCM[lat, lon, lev]/bnorm[lat, lon, lev]) + Bz_IGRF[lat, lon, lev]*(Bx_IGRF[lat, lon, lev]*Un_z_TIEGCM[lat, lon, lev]/bnorm[lat, lon, lev] - Bz_IGRF[lat, lon, lev]*Un_x_TIEGCM[lat, lon, lev]/bnorm[lat, lon, lev]) + Evertx[lat, lon, lev])/2)/sy.sqrt((Bx_IGRF[lat, lon, lev]*(-Bx_IGRF[lat, lon, lev]*Un_y_TIEGCM[lat, lon, lev]/bnorm[lat, lon, lev] + By_IGRF[lat, lon, lev]*Un_x_TIEGCM[lat, lon, lev]/bnorm[lat, lon, lev]) - Bz_IGRF[lat, lon, lev]*(-By_IGRF[lat, lon, lev]*Un_z_TIEGCM[lat, lon, lev]/bnorm[lat, lon, lev] + Bz_IGRF[lat, lon, lev]*Un_y_TIEGCM[lat, lon, lev]/bnorm[lat, lon, lev]) + Everty[lat, lon, lev])**2 + (-Bx_IGRF[lat, lon, lev]*(Bx_IGRF[lat, lon, lev]*Un_z_TIEGCM[lat, lon, lev]/bnorm[lat, lon, lev] - Bz_IGRF[lat, lon, lev]*Un_x_TIEGCM[lat, lon, lev]/bnorm[lat, lon, lev]) + By_IGRF[lat, lon, lev]*(-By_IGRF[lat, lon, lev]*Un_z_TIEGCM[lat, lon, lev]/bnorm[lat, lon, lev] + Bz_IGRF[lat, lon, lev]*Un_y_TIEGCM[lat, lon, lev]/bnorm[lat, lon, lev]) + Evertz[lat, lon, lev])**2 + (-By_IGRF[lat, lon, lev]*(-Bx_IGRF[lat, lon, lev]*Un_y_TIEGCM[lat, lon, lev]/bnorm[lat, lon, lev] + By_IGRF[lat, lon, lev]*Un_x_TIEGCM[lat, lon, lev]/bnorm[lat, lon, lev]) + Bz_IGRF[lat, lon, lev]*(Bx_IGRF[lat, lon, lev]*Un_z_TIEGCM[lat, lon, lev]/bnorm[lat, lon, lev] - Bz_IGRF[lat, lon, lev]*Un_x_TIEGCM[lat, lon, lev]/bnorm[lat, lon, lev]) + Evertx[lat, lon, lev])**2)) ** 2\n",
    "\n",
    "                # ########################################################################################\n",
    "                eq_5_1 = Jp_eq_1 * (Peder_error_act) ** 2 + Jp_eq_2 * (Bx_error_act) ** 2 + \\\n",
    "                         Jp_eq_3 * (By_error_act) ** 2 + Jp_eq_4 * (Bz_error_act) ** 2 + Jp_eq_5 * (Ex_error_act) ** 2 + \\\n",
    "                         Jp_eq_6 * (Ey_error_act) ** 2 + Jp_eq_7 * (Ez_error_act) ** 2 + Jp_eq_8 * (Unx_error_act) ** 2 + \\\n",
    "                         Jp_eq_9 * (Uny_error_act) ** 2 + Jp_eq_10 * (Unz_error_act) ** 2 + Jp_eq_11 * (dbnorm_squared)\n",
    "\n",
    "                Pedersen_current_error[lat, lon, lev] = sy.sqrt(eq_5_1).evalf()\n",
    "                Pedersen_current_error_max[lat, lon, lev] = Pedersen_current[lat, lon, lev] + Pedersen_current_error[lat, lon, lev]\n",
    "                Pedersen_current_error_min[lat, lon, lev] = Pedersen_current[lat, lon, lev] - Pedersen_current_error[lat, lon, lev]\n",
    "\n",
    "                # ######################################### Hall current error ########################################\n",
    "\n",
    "                # dsigmaH\n",
    "                Jh_eq_1 = (sy.sqrt((-Bx_IGRF[lat, lon, lev]*(-Bx_IGRF[lat, lon, lev]*(Bx_IGRF[lat, lon, lev]*Un_z_TIEGCM[lat, lon, lev]/bnorm[lat, lon, lev] - Bz_IGRF[lat, lon, lev]*Un_x_TIEGCM[lat, lon, lev]/bnorm[lat, lon, lev]) + By_IGRF[lat, lon, lev]*(-By_IGRF[lat, lon, lev]*Un_z_TIEGCM[lat, lon, lev]/bnorm[lat, lon, lev] + Bz_IGRF[lat, lon, lev]*Un_y_TIEGCM[lat, lon, lev]/bnorm[lat, lon, lev]) + Evertz[lat, lon, lev])/bnorm[lat, lon, lev] + Bz_IGRF[lat, lon, lev]*(-By_IGRF[lat, lon, lev]*(-Bx_IGRF[lat, lon, lev]*Un_y_TIEGCM[lat, lon, lev]/bnorm[lat, lon, lev] + By_IGRF[lat, lon, lev]*Un_x_TIEGCM[lat, lon, lev]/bnorm[lat, lon, lev]) + Bz_IGRF[lat, lon, lev]*(Bx_IGRF[lat, lon, lev]*Un_z_TIEGCM[lat, lon, lev]/bnorm[lat, lon, lev] - Bz_IGRF[lat, lon, lev]*Un_x_TIEGCM[lat, lon, lev]/bnorm[lat, lon, lev]) + Evertx[lat, lon, lev])/bnorm[lat, lon, lev])**2 + (Bx_IGRF[lat, lon, lev]*(-Bx_IGRF[lat, lon, lev]*(Bx_IGRF[lat, lon, lev]*Un_z_TIEGCM[lat, lon, lev]/bnorm[lat, lon, lev] - Bz_IGRF[lat, lon, lev]*Un_x_TIEGCM[lat, lon, lev]/bnorm[lat, lon, lev]) + By_IGRF[lat, lon, lev]*(-By_IGRF[lat, lon, lev]*Un_z_TIEGCM[lat, lon, lev]/bnorm[lat, lon, lev] + Bz_IGRF[lat, lon, lev]*Un_y_TIEGCM[lat, lon, lev]/bnorm[lat, lon, lev]) + Evertz[lat, lon, lev])/bnorm[lat, lon, lev] - By_IGRF[lat, lon, lev]*(-By_IGRF[lat, lon, lev]*(-Bx_IGRF[lat, lon, lev]*Un_y_TIEGCM[lat, lon, lev]/bnorm[lat, lon, lev] + By_IGRF[lat, lon, lev]*Un_x_TIEGCM[lat, lon, lev]/bnorm[lat, lon, lev]) + Bz_IGRF[lat, lon, lev]*(Bx_IGRF[lat, lon, lev]*Un_z_TIEGCM[lat, lon, lev]/bnorm[lat, lon, lev] - Bz_IGRF[lat, lon, lev]*Un_x_TIEGCM[lat, lon, lev]/bnorm[lat, lon, lev]) + Evertx[lat, lon, lev])/bnorm[lat, lon, lev])**2 + (By_IGRF[lat, lon, lev]*(-Bx_IGRF[lat, lon, lev]*(Bx_IGRF[lat, lon, lev]*Un_z_TIEGCM[lat, lon, lev]/bnorm[lat, lon, lev] - Bz_IGRF[lat, lon, lev]*Un_x_TIEGCM[lat, lon, lev]/bnorm[lat, lon, lev]) + By_IGRF[lat, lon, lev]*(-By_IGRF[lat, lon, lev]*Un_z_TIEGCM[lat, lon, lev]/bnorm[lat, lon, lev] + Bz_IGRF[lat, lon, lev]*Un_y_TIEGCM[lat, lon, lev]/bnorm[lat, lon, lev]) + Evertz[lat, lon, lev])/bnorm[lat, lon, lev] - Bz_IGRF[lat, lon, lev]*(Bx_IGRF[lat, lon, lev]*(-Bx_IGRF[lat, lon, lev]*Un_y_TIEGCM[lat, lon, lev]/bnorm[lat, lon, lev] + By_IGRF[lat, lon, lev]*Un_x_TIEGCM[lat, lon, lev]/bnorm[lat, lon, lev]) - Bz_IGRF[lat, lon, lev]*(-By_IGRF[lat, lon, lev]*Un_z_TIEGCM[lat, lon, lev]/bnorm[lat, lon, lev] + Bz_IGRF[lat, lon, lev]*Un_y_TIEGCM[lat, lon, lev]/bnorm[lat, lon, lev]) + Everty[lat, lon, lev])/bnorm[lat, lon, lev])**2)) ** 2\n",
    "\n",
    "                # dBx\n",
    "                Jh_eq_2 = (Hall_TIEGCM[lat, lon, lev]*((-Bx_IGRF[lat, lon, lev]*(-Bx_IGRF[lat, lon, lev]*(Bx_IGRF[lat, lon, lev]*Un_z_TIEGCM[lat, lon, lev]/bnorm[lat, lon, lev] - Bz_IGRF[lat, lon, lev]*Un_x_TIEGCM[lat, lon, lev]/bnorm[lat, lon, lev]) + By_IGRF[lat, lon, lev]*(-By_IGRF[lat, lon, lev]*Un_z_TIEGCM[lat, lon, lev]/bnorm[lat, lon, lev] + Bz_IGRF[lat, lon, lev]*Un_y_TIEGCM[lat, lon, lev]/bnorm[lat, lon, lev]) + Evertz[lat, lon, lev])/bnorm[lat, lon, lev] + Bz_IGRF[lat, lon, lev]*(-By_IGRF[lat, lon, lev]*(-Bx_IGRF[lat, lon, lev]*Un_y_TIEGCM[lat, lon, lev]/bnorm[lat, lon, lev] + By_IGRF[lat, lon, lev]*Un_x_TIEGCM[lat, lon, lev]/bnorm[lat, lon, lev]) + Bz_IGRF[lat, lon, lev]*(Bx_IGRF[lat, lon, lev]*Un_z_TIEGCM[lat, lon, lev]/bnorm[lat, lon, lev] - Bz_IGRF[lat, lon, lev]*Un_x_TIEGCM[lat, lon, lev]/bnorm[lat, lon, lev]) + Evertx[lat, lon, lev])/bnorm[lat, lon, lev])*(-2*Bx_IGRF[lat, lon, lev]*(-2*Bx_IGRF[lat, lon, lev]*Un_z_TIEGCM[lat, lon, lev]/bnorm[lat, lon, lev] + Bz_IGRF[lat, lon, lev]*Un_x_TIEGCM[lat, lon, lev]/bnorm[lat, lon, lev])/bnorm[lat, lon, lev] + 2*Bz_IGRF[lat, lon, lev]*(By_IGRF[lat, lon, lev]*Un_y_TIEGCM[lat, lon, lev]/bnorm[lat, lon, lev] + Bz_IGRF[lat, lon, lev]*Un_z_TIEGCM[lat, lon, lev]/bnorm[lat, lon, lev])/bnorm[lat, lon, lev] - 2*(-Bx_IGRF[lat, lon, lev]*(Bx_IGRF[lat, lon, lev]*Un_z_TIEGCM[lat, lon, lev]/bnorm[lat, lon, lev] - Bz_IGRF[lat, lon, lev]*Un_x_TIEGCM[lat, lon, lev]/bnorm[lat, lon, lev]) + By_IGRF[lat, lon, lev]*(-By_IGRF[lat, lon, lev]*Un_z_TIEGCM[lat, lon, lev]/bnorm[lat, lon, lev] + Bz_IGRF[lat, lon, lev]*Un_y_TIEGCM[lat, lon, lev]/bnorm[lat, lon, lev]) + Evertz[lat, lon, lev])/bnorm[lat, lon, lev])/2 + (Bx_IGRF[lat, lon, lev]*(-Bx_IGRF[lat, lon, lev]*(Bx_IGRF[lat, lon, lev]*Un_z_TIEGCM[lat, lon, lev]/bnorm[lat, lon, lev] - Bz_IGRF[lat, lon, lev]*Un_x_TIEGCM[lat, lon, lev]/bnorm[lat, lon, lev]) + By_IGRF[lat, lon, lev]*(-By_IGRF[lat, lon, lev]*Un_z_TIEGCM[lat, lon, lev]/bnorm[lat, lon, lev] + Bz_IGRF[lat, lon, lev]*Un_y_TIEGCM[lat, lon, lev]/bnorm[lat, lon, lev]) + Evertz[lat, lon, lev])/bnorm[lat, lon, lev] - By_IGRF[lat, lon, lev]*(-By_IGRF[lat, lon, lev]*(-Bx_IGRF[lat, lon, lev]*Un_y_TIEGCM[lat, lon, lev]/bnorm[lat, lon, lev] + By_IGRF[lat, lon, lev]*Un_x_TIEGCM[lat, lon, lev]/bnorm[lat, lon, lev]) + Bz_IGRF[lat, lon, lev]*(Bx_IGRF[lat, lon, lev]*Un_z_TIEGCM[lat, lon, lev]/bnorm[lat, lon, lev] - Bz_IGRF[lat, lon, lev]*Un_x_TIEGCM[lat, lon, lev]/bnorm[lat, lon, lev]) + Evertx[lat, lon, lev])/bnorm[lat, lon, lev])*(2*Bx_IGRF[lat, lon, lev]*(-2*Bx_IGRF[lat, lon, lev]*Un_z_TIEGCM[lat, lon, lev]/bnorm[lat, lon, lev] + Bz_IGRF[lat, lon, lev]*Un_x_TIEGCM[lat, lon, lev]/bnorm[lat, lon, lev])/bnorm[lat, lon, lev] - 2*By_IGRF[lat, lon, lev]*(By_IGRF[lat, lon, lev]*Un_y_TIEGCM[lat, lon, lev]/bnorm[lat, lon, lev] + Bz_IGRF[lat, lon, lev]*Un_z_TIEGCM[lat, lon, lev]/bnorm[lat, lon, lev])/bnorm[lat, lon, lev] + 2*(-Bx_IGRF[lat, lon, lev]*(Bx_IGRF[lat, lon, lev]*Un_z_TIEGCM[lat, lon, lev]/bnorm[lat, lon, lev] - Bz_IGRF[lat, lon, lev]*Un_x_TIEGCM[lat, lon, lev]/bnorm[lat, lon, lev]) + By_IGRF[lat, lon, lev]*(-By_IGRF[lat, lon, lev]*Un_z_TIEGCM[lat, lon, lev]/bnorm[lat, lon, lev] + Bz_IGRF[lat, lon, lev]*Un_y_TIEGCM[lat, lon, lev]/bnorm[lat, lon, lev]) + Evertz[lat, lon, lev])/bnorm[lat, lon, lev])/2 + (2*By_IGRF[lat, lon, lev]*(-2*Bx_IGRF[lat, lon, lev]*Un_z_TIEGCM[lat, lon, lev]/bnorm[lat, lon, lev] + Bz_IGRF[lat, lon, lev]*Un_x_TIEGCM[lat, lon, lev]/bnorm[lat, lon, lev])/bnorm[lat, lon, lev] - 2*Bz_IGRF[lat, lon, lev]*(-2*Bx_IGRF[lat, lon, lev]*Un_y_TIEGCM[lat, lon, lev]/bnorm[lat, lon, lev] + By_IGRF[lat, lon, lev]*Un_x_TIEGCM[lat, lon, lev]/bnorm[lat, lon, lev])/bnorm[lat, lon, lev])*(By_IGRF[lat, lon, lev]*(-Bx_IGRF[lat, lon, lev]*(Bx_IGRF[lat, lon, lev]*Un_z_TIEGCM[lat, lon, lev]/bnorm[lat, lon, lev] - Bz_IGRF[lat, lon, lev]*Un_x_TIEGCM[lat, lon, lev]/bnorm[lat, lon, lev]) + By_IGRF[lat, lon, lev]*(-By_IGRF[lat, lon, lev]*Un_z_TIEGCM[lat, lon, lev]/bnorm[lat, lon, lev] + Bz_IGRF[lat, lon, lev]*Un_y_TIEGCM[lat, lon, lev]/bnorm[lat, lon, lev]) + Evertz[lat, lon, lev])/bnorm[lat, lon, lev] - Bz_IGRF[lat, lon, lev]*(Bx_IGRF[lat, lon, lev]*(-Bx_IGRF[lat, lon, lev]*Un_y_TIEGCM[lat, lon, lev]/bnorm[lat, lon, lev] + By_IGRF[lat, lon, lev]*Un_x_TIEGCM[lat, lon, lev]/bnorm[lat, lon, lev]) - Bz_IGRF[lat, lon, lev]*(-By_IGRF[lat, lon, lev]*Un_z_TIEGCM[lat, lon, lev]/bnorm[lat, lon, lev] + Bz_IGRF[lat, lon, lev]*Un_y_TIEGCM[lat, lon, lev]/bnorm[lat, lon, lev]) + Everty[lat, lon, lev])/bnorm[lat, lon, lev])/2)/sy.sqrt((-Bx_IGRF[lat, lon, lev]*(-Bx_IGRF[lat, lon, lev]*(Bx_IGRF[lat, lon, lev]*Un_z_TIEGCM[lat, lon, lev]/bnorm[lat, lon, lev] - Bz_IGRF[lat, lon, lev]*Un_x_TIEGCM[lat, lon, lev]/bnorm[lat, lon, lev]) + By_IGRF[lat, lon, lev]*(-By_IGRF[lat, lon, lev]*Un_z_TIEGCM[lat, lon, lev]/bnorm[lat, lon, lev] + Bz_IGRF[lat, lon, lev]*Un_y_TIEGCM[lat, lon, lev]/bnorm[lat, lon, lev]) + Evertz[lat, lon, lev])/bnorm[lat, lon, lev] + Bz_IGRF[lat, lon, lev]*(-By_IGRF[lat, lon, lev]*(-Bx_IGRF[lat, lon, lev]*Un_y_TIEGCM[lat, lon, lev]/bnorm[lat, lon, lev] + By_IGRF[lat, lon, lev]*Un_x_TIEGCM[lat, lon, lev]/bnorm[lat, lon, lev]) + Bz_IGRF[lat, lon, lev]*(Bx_IGRF[lat, lon, lev]*Un_z_TIEGCM[lat, lon, lev]/bnorm[lat, lon, lev] - Bz_IGRF[lat, lon, lev]*Un_x_TIEGCM[lat, lon, lev]/bnorm[lat, lon, lev]) + Evertx[lat, lon, lev])/bnorm[lat, lon, lev])**2 + (Bx_IGRF[lat, lon, lev]*(-Bx_IGRF[lat, lon, lev]*(Bx_IGRF[lat, lon, lev]*Un_z_TIEGCM[lat, lon, lev]/bnorm[lat, lon, lev] - Bz_IGRF[lat, lon, lev]*Un_x_TIEGCM[lat, lon, lev]/bnorm[lat, lon, lev]) + By_IGRF[lat, lon, lev]*(-By_IGRF[lat, lon, lev]*Un_z_TIEGCM[lat, lon, lev]/bnorm[lat, lon, lev] + Bz_IGRF[lat, lon, lev]*Un_y_TIEGCM[lat, lon, lev]/bnorm[lat, lon, lev]) + Evertz[lat, lon, lev])/bnorm[lat, lon, lev] - By_IGRF[lat, lon, lev]*(-By_IGRF[lat, lon, lev]*(-Bx_IGRF[lat, lon, lev]*Un_y_TIEGCM[lat, lon, lev]/bnorm[lat, lon, lev] + By_IGRF[lat, lon, lev]*Un_x_TIEGCM[lat, lon, lev]/bnorm[lat, lon, lev]) + Bz_IGRF[lat, lon, lev]*(Bx_IGRF[lat, lon, lev]*Un_z_TIEGCM[lat, lon, lev]/bnorm[lat, lon, lev] - Bz_IGRF[lat, lon, lev]*Un_x_TIEGCM[lat, lon, lev]/bnorm[lat, lon, lev]) + Evertx[lat, lon, lev])/bnorm[lat, lon, lev])**2 + (By_IGRF[lat, lon, lev]*(-Bx_IGRF[lat, lon, lev]*(Bx_IGRF[lat, lon, lev]*Un_z_TIEGCM[lat, lon, lev]/bnorm[lat, lon, lev] - Bz_IGRF[lat, lon, lev]*Un_x_TIEGCM[lat, lon, lev]/bnorm[lat, lon, lev]) + By_IGRF[lat, lon, lev]*(-By_IGRF[lat, lon, lev]*Un_z_TIEGCM[lat, lon, lev]/bnorm[lat, lon, lev] + Bz_IGRF[lat, lon, lev]*Un_y_TIEGCM[lat, lon, lev]/bnorm[lat, lon, lev]) + Evertz[lat, lon, lev])/bnorm[lat, lon, lev] - Bz_IGRF[lat, lon, lev]*(Bx_IGRF[lat, lon, lev]*(-Bx_IGRF[lat, lon, lev]*Un_y_TIEGCM[lat, lon, lev]/bnorm[lat, lon, lev] + By_IGRF[lat, lon, lev]*Un_x_TIEGCM[lat, lon, lev]/bnorm[lat, lon, lev]) - Bz_IGRF[lat, lon, lev]*(-By_IGRF[lat, lon, lev]*Un_z_TIEGCM[lat, lon, lev]/bnorm[lat, lon, lev] + Bz_IGRF[lat, lon, lev]*Un_y_TIEGCM[lat, lon, lev]/bnorm[lat, lon, lev]) + Everty[lat, lon, lev])/bnorm[lat, lon, lev])**2)) ** 2\n",
    "\n",
    "                # dBy\n",
    "                Jh_eq_3 = (Hall_TIEGCM[lat, lon, lev]*((-2*Bx_IGRF[lat, lon, lev]*(-2*By_IGRF[lat, lon, lev]*Un_z_TIEGCM[lat, lon, lev]/bnorm[lat, lon, lev] + Bz_IGRF[lat, lon, lev]*Un_y_TIEGCM[lat, lon, lev]/bnorm[lat, lon, lev])/bnorm[lat, lon, lev] + 2*Bz_IGRF[lat, lon, lev]*(Bx_IGRF[lat, lon, lev]*Un_y_TIEGCM[lat, lon, lev]/bnorm[lat, lon, lev] - 2*By_IGRF[lat, lon, lev]*Un_x_TIEGCM[lat, lon, lev]/bnorm[lat, lon, lev])/bnorm[lat, lon, lev])*(-Bx_IGRF[lat, lon, lev]*(-Bx_IGRF[lat, lon, lev]*(Bx_IGRF[lat, lon, lev]*Un_z_TIEGCM[lat, lon, lev]/bnorm[lat, lon, lev] - Bz_IGRF[lat, lon, lev]*Un_x_TIEGCM[lat, lon, lev]/bnorm[lat, lon, lev]) + By_IGRF[lat, lon, lev]*(-By_IGRF[lat, lon, lev]*Un_z_TIEGCM[lat, lon, lev]/bnorm[lat, lon, lev] + Bz_IGRF[lat, lon, lev]*Un_y_TIEGCM[lat, lon, lev]/bnorm[lat, lon, lev]) + Evertz[lat, lon, lev])/bnorm[lat, lon, lev] + Bz_IGRF[lat, lon, lev]*(-By_IGRF[lat, lon, lev]*(-Bx_IGRF[lat, lon, lev]*Un_y_TIEGCM[lat, lon, lev]/bnorm[lat, lon, lev] + By_IGRF[lat, lon, lev]*Un_x_TIEGCM[lat, lon, lev]/bnorm[lat, lon, lev]) + Bz_IGRF[lat, lon, lev]*(Bx_IGRF[lat, lon, lev]*Un_z_TIEGCM[lat, lon, lev]/bnorm[lat, lon, lev] - Bz_IGRF[lat, lon, lev]*Un_x_TIEGCM[lat, lon, lev]/bnorm[lat, lon, lev]) + Evertx[lat, lon, lev])/bnorm[lat, lon, lev])/2 + (Bx_IGRF[lat, lon, lev]*(-Bx_IGRF[lat, lon, lev]*(Bx_IGRF[lat, lon, lev]*Un_z_TIEGCM[lat, lon, lev]/bnorm[lat, lon, lev] - Bz_IGRF[lat, lon, lev]*Un_x_TIEGCM[lat, lon, lev]/bnorm[lat, lon, lev]) + By_IGRF[lat, lon, lev]*(-By_IGRF[lat, lon, lev]*Un_z_TIEGCM[lat, lon, lev]/bnorm[lat, lon, lev] + Bz_IGRF[lat, lon, lev]*Un_y_TIEGCM[lat, lon, lev]/bnorm[lat, lon, lev]) + Evertz[lat, lon, lev])/bnorm[lat, lon, lev] - By_IGRF[lat, lon, lev]*(-By_IGRF[lat, lon, lev]*(-Bx_IGRF[lat, lon, lev]*Un_y_TIEGCM[lat, lon, lev]/bnorm[lat, lon, lev] + By_IGRF[lat, lon, lev]*Un_x_TIEGCM[lat, lon, lev]/bnorm[lat, lon, lev]) + Bz_IGRF[lat, lon, lev]*(Bx_IGRF[lat, lon, lev]*Un_z_TIEGCM[lat, lon, lev]/bnorm[lat, lon, lev] - Bz_IGRF[lat, lon, lev]*Un_x_TIEGCM[lat, lon, lev]/bnorm[lat, lon, lev]) + Evertx[lat, lon, lev])/bnorm[lat, lon, lev])*(2*Bx_IGRF[lat, lon, lev]*(-2*By_IGRF[lat, lon, lev]*Un_z_TIEGCM[lat, lon, lev]/bnorm[lat, lon, lev] + Bz_IGRF[lat, lon, lev]*Un_y_TIEGCM[lat, lon, lev]/bnorm[lat, lon, lev])/bnorm[lat, lon, lev] - 2*By_IGRF[lat, lon, lev]*(Bx_IGRF[lat, lon, lev]*Un_y_TIEGCM[lat, lon, lev]/bnorm[lat, lon, lev] - 2*By_IGRF[lat, lon, lev]*Un_x_TIEGCM[lat, lon, lev]/bnorm[lat, lon, lev])/bnorm[lat, lon, lev] - 2*(-By_IGRF[lat, lon, lev]*(-Bx_IGRF[lat, lon, lev]*Un_y_TIEGCM[lat, lon, lev]/bnorm[lat, lon, lev] + By_IGRF[lat, lon, lev]*Un_x_TIEGCM[lat, lon, lev]/bnorm[lat, lon, lev]) + Bz_IGRF[lat, lon, lev]*(Bx_IGRF[lat, lon, lev]*Un_z_TIEGCM[lat, lon, lev]/bnorm[lat, lon, lev] - Bz_IGRF[lat, lon, lev]*Un_x_TIEGCM[lat, lon, lev]/bnorm[lat, lon, lev]) + Evertx[lat, lon, lev])/bnorm[lat, lon, lev])/2 + (By_IGRF[lat, lon, lev]*(-Bx_IGRF[lat, lon, lev]*(Bx_IGRF[lat, lon, lev]*Un_z_TIEGCM[lat, lon, lev]/bnorm[lat, lon, lev] - Bz_IGRF[lat, lon, lev]*Un_x_TIEGCM[lat, lon, lev]/bnorm[lat, lon, lev]) + By_IGRF[lat, lon, lev]*(-By_IGRF[lat, lon, lev]*Un_z_TIEGCM[lat, lon, lev]/bnorm[lat, lon, lev] + Bz_IGRF[lat, lon, lev]*Un_y_TIEGCM[lat, lon, lev]/bnorm[lat, lon, lev]) + Evertz[lat, lon, lev])/bnorm[lat, lon, lev] - Bz_IGRF[lat, lon, lev]*(Bx_IGRF[lat, lon, lev]*(-Bx_IGRF[lat, lon, lev]*Un_y_TIEGCM[lat, lon, lev]/bnorm[lat, lon, lev] + By_IGRF[lat, lon, lev]*Un_x_TIEGCM[lat, lon, lev]/bnorm[lat, lon, lev]) - Bz_IGRF[lat, lon, lev]*(-By_IGRF[lat, lon, lev]*Un_z_TIEGCM[lat, lon, lev]/bnorm[lat, lon, lev] + Bz_IGRF[lat, lon, lev]*Un_y_TIEGCM[lat, lon, lev]/bnorm[lat, lon, lev]) + Everty[lat, lon, lev])/bnorm[lat, lon, lev])*(2*By_IGRF[lat, lon, lev]*(-2*By_IGRF[lat, lon, lev]*Un_z_TIEGCM[lat, lon, lev]/bnorm[lat, lon, lev] + Bz_IGRF[lat, lon, lev]*Un_y_TIEGCM[lat, lon, lev]/bnorm[lat, lon, lev])/bnorm[lat, lon, lev] - 2*Bz_IGRF[lat, lon, lev]*(Bx_IGRF[lat, lon, lev]*Un_x_TIEGCM[lat, lon, lev]/bnorm[lat, lon, lev] + Bz_IGRF[lat, lon, lev]*Un_z_TIEGCM[lat, lon, lev]/bnorm[lat, lon, lev])/bnorm[lat, lon, lev] + 2*(-Bx_IGRF[lat, lon, lev]*(Bx_IGRF[lat, lon, lev]*Un_z_TIEGCM[lat, lon, lev]/bnorm[lat, lon, lev] - Bz_IGRF[lat, lon, lev]*Un_x_TIEGCM[lat, lon, lev]/bnorm[lat, lon, lev]) + By_IGRF[lat, lon, lev]*(-By_IGRF[lat, lon, lev]*Un_z_TIEGCM[lat, lon, lev]/bnorm[lat, lon, lev] + Bz_IGRF[lat, lon, lev]*Un_y_TIEGCM[lat, lon, lev]/bnorm[lat, lon, lev]) + Evertz[lat, lon, lev])/bnorm[lat, lon, lev])/2)/sy.sqrt((-Bx_IGRF[lat, lon, lev]*(-Bx_IGRF[lat, lon, lev]*(Bx_IGRF[lat, lon, lev]*Un_z_TIEGCM[lat, lon, lev]/bnorm[lat, lon, lev] - Bz_IGRF[lat, lon, lev]*Un_x_TIEGCM[lat, lon, lev]/bnorm[lat, lon, lev]) + By_IGRF[lat, lon, lev]*(-By_IGRF[lat, lon, lev]*Un_z_TIEGCM[lat, lon, lev]/bnorm[lat, lon, lev] + Bz_IGRF[lat, lon, lev]*Un_y_TIEGCM[lat, lon, lev]/bnorm[lat, lon, lev]) + Evertz[lat, lon, lev])/bnorm[lat, lon, lev] + Bz_IGRF[lat, lon, lev]*(-By_IGRF[lat, lon, lev]*(-Bx_IGRF[lat, lon, lev]*Un_y_TIEGCM[lat, lon, lev]/bnorm[lat, lon, lev] + By_IGRF[lat, lon, lev]*Un_x_TIEGCM[lat, lon, lev]/bnorm[lat, lon, lev]) + Bz_IGRF[lat, lon, lev]*(Bx_IGRF[lat, lon, lev]*Un_z_TIEGCM[lat, lon, lev]/bnorm[lat, lon, lev] - Bz_IGRF[lat, lon, lev]*Un_x_TIEGCM[lat, lon, lev]/bnorm[lat, lon, lev]) + Evertx[lat, lon, lev])/bnorm[lat, lon, lev])**2 + (Bx_IGRF[lat, lon, lev]*(-Bx_IGRF[lat, lon, lev]*(Bx_IGRF[lat, lon, lev]*Un_z_TIEGCM[lat, lon, lev]/bnorm[lat, lon, lev] - Bz_IGRF[lat, lon, lev]*Un_x_TIEGCM[lat, lon, lev]/bnorm[lat, lon, lev]) + By_IGRF[lat, lon, lev]*(-By_IGRF[lat, lon, lev]*Un_z_TIEGCM[lat, lon, lev]/bnorm[lat, lon, lev] + Bz_IGRF[lat, lon, lev]*Un_y_TIEGCM[lat, lon, lev]/bnorm[lat, lon, lev]) + Evertz[lat, lon, lev])/bnorm[lat, lon, lev] - By_IGRF[lat, lon, lev]*(-By_IGRF[lat, lon, lev]*(-Bx_IGRF[lat, lon, lev]*Un_y_TIEGCM[lat, lon, lev]/bnorm[lat, lon, lev] + By_IGRF[lat, lon, lev]*Un_x_TIEGCM[lat, lon, lev]/bnorm[lat, lon, lev]) + Bz_IGRF[lat, lon, lev]*(Bx_IGRF[lat, lon, lev]*Un_z_TIEGCM[lat, lon, lev]/bnorm[lat, lon, lev] - Bz_IGRF[lat, lon, lev]*Un_x_TIEGCM[lat, lon, lev]/bnorm[lat, lon, lev]) + Evertx[lat, lon, lev])/bnorm[lat, lon, lev])**2 + (By_IGRF[lat, lon, lev]*(-Bx_IGRF[lat, lon, lev]*(Bx_IGRF[lat, lon, lev]*Un_z_TIEGCM[lat, lon, lev]/bnorm[lat, lon, lev] - Bz_IGRF[lat, lon, lev]*Un_x_TIEGCM[lat, lon, lev]/bnorm[lat, lon, lev]) + By_IGRF[lat, lon, lev]*(-By_IGRF[lat, lon, lev]*Un_z_TIEGCM[lat, lon, lev]/bnorm[lat, lon, lev] + Bz_IGRF[lat, lon, lev]*Un_y_TIEGCM[lat, lon, lev]/bnorm[lat, lon, lev]) + Evertz[lat, lon, lev])/bnorm[lat, lon, lev] - Bz_IGRF[lat, lon, lev]*(Bx_IGRF[lat, lon, lev]*(-Bx_IGRF[lat, lon, lev]*Un_y_TIEGCM[lat, lon, lev]/bnorm[lat, lon, lev] + By_IGRF[lat, lon, lev]*Un_x_TIEGCM[lat, lon, lev]/bnorm[lat, lon, lev]) - Bz_IGRF[lat, lon, lev]*(-By_IGRF[lat, lon, lev]*Un_z_TIEGCM[lat, lon, lev]/bnorm[lat, lon, lev] + Bz_IGRF[lat, lon, lev]*Un_y_TIEGCM[lat, lon, lev]/bnorm[lat, lon, lev]) + Everty[lat, lon, lev])/bnorm[lat, lon, lev])**2)) ** 2\n",
    "\n",
    "                # dBz\n",
    "                Jh_eq_4 = (Hall_TIEGCM[lat, lon, lev]*((-Bx_IGRF[lat, lon, lev]*(-Bx_IGRF[lat, lon, lev]*(Bx_IGRF[lat, lon, lev]*Un_z_TIEGCM[lat, lon, lev]/bnorm[lat, lon, lev] - Bz_IGRF[lat, lon, lev]*Un_x_TIEGCM[lat, lon, lev]/bnorm[lat, lon, lev]) + By_IGRF[lat, lon, lev]*(-By_IGRF[lat, lon, lev]*Un_z_TIEGCM[lat, lon, lev]/bnorm[lat, lon, lev] + Bz_IGRF[lat, lon, lev]*Un_y_TIEGCM[lat, lon, lev]/bnorm[lat, lon, lev]) + Evertz[lat, lon, lev])/bnorm[lat, lon, lev] + Bz_IGRF[lat, lon, lev]*(-By_IGRF[lat, lon, lev]*(-Bx_IGRF[lat, lon, lev]*Un_y_TIEGCM[lat, lon, lev]/bnorm[lat, lon, lev] + By_IGRF[lat, lon, lev]*Un_x_TIEGCM[lat, lon, lev]/bnorm[lat, lon, lev]) + Bz_IGRF[lat, lon, lev]*(Bx_IGRF[lat, lon, lev]*Un_z_TIEGCM[lat, lon, lev]/bnorm[lat, lon, lev] - Bz_IGRF[lat, lon, lev]*Un_x_TIEGCM[lat, lon, lev]/bnorm[lat, lon, lev]) + Evertx[lat, lon, lev])/bnorm[lat, lon, lev])*(-2*Bx_IGRF[lat, lon, lev]*(-2*Bx_IGRF[lat, lon, lev]*Un_z_TIEGCM[lat, lon, lev]/bnorm[lat, lon, lev] + Bz_IGRF[lat, lon, lev]*Un_x_TIEGCM[lat, lon, lev]/bnorm[lat, lon, lev])/bnorm[lat, lon, lev] + 2*Bz_IGRF[lat, lon, lev]*(By_IGRF[lat, lon, lev]*Un_y_TIEGCM[lat, lon, lev]/bnorm[lat, lon, lev] + Bz_IGRF[lat, lon, lev]*Un_z_TIEGCM[lat, lon, lev]/bnorm[lat, lon, lev])/bnorm[lat, lon, lev] - 2*(-Bx_IGRF[lat, lon, lev]*(Bx_IGRF[lat, lon, lev]*Un_z_TIEGCM[lat, lon, lev]/bnorm[lat, lon, lev] - Bz_IGRF[lat, lon, lev]*Un_x_TIEGCM[lat, lon, lev]/bnorm[lat, lon, lev]) + By_IGRF[lat, lon, lev]*(-By_IGRF[lat, lon, lev]*Un_z_TIEGCM[lat, lon, lev]/bnorm[lat, lon, lev] + Bz_IGRF[lat, lon, lev]*Un_y_TIEGCM[lat, lon, lev]/bnorm[lat, lon, lev]) + Evertz[lat, lon, lev])/bnorm[lat, lon, lev])/2 + (Bx_IGRF[lat, lon, lev]*(-Bx_IGRF[lat, lon, lev]*(Bx_IGRF[lat, lon, lev]*Un_z_TIEGCM[lat, lon, lev]/bnorm[lat, lon, lev] - Bz_IGRF[lat, lon, lev]*Un_x_TIEGCM[lat, lon, lev]/bnorm[lat, lon, lev]) + By_IGRF[lat, lon, lev]*(-By_IGRF[lat, lon, lev]*Un_z_TIEGCM[lat, lon, lev]/bnorm[lat, lon, lev] + Bz_IGRF[lat, lon, lev]*Un_y_TIEGCM[lat, lon, lev]/bnorm[lat, lon, lev]) + Evertz[lat, lon, lev])/bnorm[lat, lon, lev] - By_IGRF[lat, lon, lev]*(-By_IGRF[lat, lon, lev]*(-Bx_IGRF[lat, lon, lev]*Un_y_TIEGCM[lat, lon, lev]/bnorm[lat, lon, lev] + By_IGRF[lat, lon, lev]*Un_x_TIEGCM[lat, lon, lev]/bnorm[lat, lon, lev]) + Bz_IGRF[lat, lon, lev]*(Bx_IGRF[lat, lon, lev]*Un_z_TIEGCM[lat, lon, lev]/bnorm[lat, lon, lev] - Bz_IGRF[lat, lon, lev]*Un_x_TIEGCM[lat, lon, lev]/bnorm[lat, lon, lev]) + Evertx[lat, lon, lev])/bnorm[lat, lon, lev])*(2*Bx_IGRF[lat, lon, lev]*(-2*Bx_IGRF[lat, lon, lev]*Un_z_TIEGCM[lat, lon, lev]/bnorm[lat, lon, lev] + Bz_IGRF[lat, lon, lev]*Un_x_TIEGCM[lat, lon, lev]/bnorm[lat, lon, lev])/bnorm[lat, lon, lev] - 2*By_IGRF[lat, lon, lev]*(By_IGRF[lat, lon, lev]*Un_y_TIEGCM[lat, lon, lev]/bnorm[lat, lon, lev] + Bz_IGRF[lat, lon, lev]*Un_z_TIEGCM[lat, lon, lev]/bnorm[lat, lon, lev])/bnorm[lat, lon, lev] + 2*(-Bx_IGRF[lat, lon, lev]*(Bx_IGRF[lat, lon, lev]*Un_z_TIEGCM[lat, lon, lev]/bnorm[lat, lon, lev] - Bz_IGRF[lat, lon, lev]*Un_x_TIEGCM[lat, lon, lev]/bnorm[lat, lon, lev]) + By_IGRF[lat, lon, lev]*(-By_IGRF[lat, lon, lev]*Un_z_TIEGCM[lat, lon, lev]/bnorm[lat, lon, lev] + Bz_IGRF[lat, lon, lev]*Un_y_TIEGCM[lat, lon, lev]/bnorm[lat, lon, lev]) + Evertz[lat, lon, lev])/bnorm[lat, lon, lev])/2 + (2*By_IGRF[lat, lon, lev]*(-2*Bx_IGRF[lat, lon, lev]*Un_z_TIEGCM[lat, lon, lev]/bnorm[lat, lon, lev] + Bz_IGRF[lat, lon, lev]*Un_x_TIEGCM[lat, lon, lev]/bnorm[lat, lon, lev])/bnorm[lat, lon, lev] - 2*Bz_IGRF[lat, lon, lev]*(-2*Bx_IGRF[lat, lon, lev]*Un_y_TIEGCM[lat, lon, lev]/bnorm[lat, lon, lev] + By_IGRF[lat, lon, lev]*Un_x_TIEGCM[lat, lon, lev]/bnorm[lat, lon, lev])/bnorm[lat, lon, lev])*(By_IGRF[lat, lon, lev]*(-Bx_IGRF[lat, lon, lev]*(Bx_IGRF[lat, lon, lev]*Un_z_TIEGCM[lat, lon, lev]/bnorm[lat, lon, lev] - Bz_IGRF[lat, lon, lev]*Un_x_TIEGCM[lat, lon, lev]/bnorm[lat, lon, lev]) + By_IGRF[lat, lon, lev]*(-By_IGRF[lat, lon, lev]*Un_z_TIEGCM[lat, lon, lev]/bnorm[lat, lon, lev] + Bz_IGRF[lat, lon, lev]*Un_y_TIEGCM[lat, lon, lev]/bnorm[lat, lon, lev]) + Evertz[lat, lon, lev])/bnorm[lat, lon, lev] - Bz_IGRF[lat, lon, lev]*(Bx_IGRF[lat, lon, lev]*(-Bx_IGRF[lat, lon, lev]*Un_y_TIEGCM[lat, lon, lev]/bnorm[lat, lon, lev] + By_IGRF[lat, lon, lev]*Un_x_TIEGCM[lat, lon, lev]/bnorm[lat, lon, lev]) - Bz_IGRF[lat, lon, lev]*(-By_IGRF[lat, lon, lev]*Un_z_TIEGCM[lat, lon, lev]/bnorm[lat, lon, lev] + Bz_IGRF[lat, lon, lev]*Un_y_TIEGCM[lat, lon, lev]/bnorm[lat, lon, lev]) + Everty[lat, lon, lev])/bnorm[lat, lon, lev])/2)/sy.sqrt((-Bx_IGRF[lat, lon, lev]*(-Bx_IGRF[lat, lon, lev]*(Bx_IGRF[lat, lon, lev]*Un_z_TIEGCM[lat, lon, lev]/bnorm[lat, lon, lev] - Bz_IGRF[lat, lon, lev]*Un_x_TIEGCM[lat, lon, lev]/bnorm[lat, lon, lev]) + By_IGRF[lat, lon, lev]*(-By_IGRF[lat, lon, lev]*Un_z_TIEGCM[lat, lon, lev]/bnorm[lat, lon, lev] + Bz_IGRF[lat, lon, lev]*Un_y_TIEGCM[lat, lon, lev]/bnorm[lat, lon, lev]) + Evertz[lat, lon, lev])/bnorm[lat, lon, lev] + Bz_IGRF[lat, lon, lev]*(-By_IGRF[lat, lon, lev]*(-Bx_IGRF[lat, lon, lev]*Un_y_TIEGCM[lat, lon, lev]/bnorm[lat, lon, lev] + By_IGRF[lat, lon, lev]*Un_x_TIEGCM[lat, lon, lev]/bnorm[lat, lon, lev]) + Bz_IGRF[lat, lon, lev]*(Bx_IGRF[lat, lon, lev]*Un_z_TIEGCM[lat, lon, lev]/bnorm[lat, lon, lev] - Bz_IGRF[lat, lon, lev]*Un_x_TIEGCM[lat, lon, lev]/bnorm[lat, lon, lev]) + Evertx[lat, lon, lev])/bnorm[lat, lon, lev])**2 + (Bx_IGRF[lat, lon, lev]*(-Bx_IGRF[lat, lon, lev]*(Bx_IGRF[lat, lon, lev]*Un_z_TIEGCM[lat, lon, lev]/bnorm[lat, lon, lev] - Bz_IGRF[lat, lon, lev]*Un_x_TIEGCM[lat, lon, lev]/bnorm[lat, lon, lev]) + By_IGRF[lat, lon, lev]*(-By_IGRF[lat, lon, lev]*Un_z_TIEGCM[lat, lon, lev]/bnorm[lat, lon, lev] + Bz_IGRF[lat, lon, lev]*Un_y_TIEGCM[lat, lon, lev]/bnorm[lat, lon, lev]) + Evertz[lat, lon, lev])/bnorm[lat, lon, lev] - By_IGRF[lat, lon, lev]*(-By_IGRF[lat, lon, lev]*(-Bx_IGRF[lat, lon, lev]*Un_y_TIEGCM[lat, lon, lev]/bnorm[lat, lon, lev] + By_IGRF[lat, lon, lev]*Un_x_TIEGCM[lat, lon, lev]/bnorm[lat, lon, lev]) + Bz_IGRF[lat, lon, lev]*(Bx_IGRF[lat, lon, lev]*Un_z_TIEGCM[lat, lon, lev]/bnorm[lat, lon, lev] - Bz_IGRF[lat, lon, lev]*Un_x_TIEGCM[lat, lon, lev]/bnorm[lat, lon, lev]) + Evertx[lat, lon, lev])/bnorm[lat, lon, lev])**2 + (By_IGRF[lat, lon, lev]*(-Bx_IGRF[lat, lon, lev]*(Bx_IGRF[lat, lon, lev]*Un_z_TIEGCM[lat, lon, lev]/bnorm[lat, lon, lev] - Bz_IGRF[lat, lon, lev]*Un_x_TIEGCM[lat, lon, lev]/bnorm[lat, lon, lev]) + By_IGRF[lat, lon, lev]*(-By_IGRF[lat, lon, lev]*Un_z_TIEGCM[lat, lon, lev]/bnorm[lat, lon, lev] + Bz_IGRF[lat, lon, lev]*Un_y_TIEGCM[lat, lon, lev]/bnorm[lat, lon, lev]) + Evertz[lat, lon, lev])/bnorm[lat, lon, lev] - Bz_IGRF[lat, lon, lev]*(Bx_IGRF[lat, lon, lev]*(-Bx_IGRF[lat, lon, lev]*Un_y_TIEGCM[lat, lon, lev]/bnorm[lat, lon, lev] + By_IGRF[lat, lon, lev]*Un_x_TIEGCM[lat, lon, lev]/bnorm[lat, lon, lev]) - Bz_IGRF[lat, lon, lev]*(-By_IGRF[lat, lon, lev]*Un_z_TIEGCM[lat, lon, lev]/bnorm[lat, lon, lev] + Bz_IGRF[lat, lon, lev]*Un_y_TIEGCM[lat, lon, lev]/bnorm[lat, lon, lev]) + Everty[lat, lon, lev])/bnorm[lat, lon, lev])**2)) ** 2\n",
    "\n",
    "                # dEvertx\n",
    "                Jh_eq_5 = (Hall_TIEGCM[lat, lon, lev]*(-By_IGRF[lat, lon, lev]*(Bx_IGRF[lat, lon, lev]*(-Bx_IGRF[lat, lon, lev]*(Bx_IGRF[lat, lon, lev]*Un_z_TIEGCM[lat, lon, lev]/bnorm[lat, lon, lev] - Bz_IGRF[lat, lon, lev]*Un_x_TIEGCM[lat, lon, lev]/bnorm[lat, lon, lev]) + By_IGRF[lat, lon, lev]*(-By_IGRF[lat, lon, lev]*Un_z_TIEGCM[lat, lon, lev]/bnorm[lat, lon, lev] + Bz_IGRF[lat, lon, lev]*Un_y_TIEGCM[lat, lon, lev]/bnorm[lat, lon, lev]) + Evertz[lat, lon, lev])/bnorm[lat, lon, lev] - By_IGRF[lat, lon, lev]*(-By_IGRF[lat, lon, lev]*(-Bx_IGRF[lat, lon, lev]*Un_y_TIEGCM[lat, lon, lev]/bnorm[lat, lon, lev] + By_IGRF[lat, lon, lev]*Un_x_TIEGCM[lat, lon, lev]/bnorm[lat, lon, lev]) + Bz_IGRF[lat, lon, lev]*(Bx_IGRF[lat, lon, lev]*Un_z_TIEGCM[lat, lon, lev]/bnorm[lat, lon, lev] - Bz_IGRF[lat, lon, lev]*Un_x_TIEGCM[lat, lon, lev]/bnorm[lat, lon, lev]) + Evertx[lat, lon, lev])/bnorm[lat, lon, lev])/bnorm[lat, lon, lev] + Bz_IGRF[lat, lon, lev]*(-Bx_IGRF[lat, lon, lev]*(-Bx_IGRF[lat, lon, lev]*(Bx_IGRF[lat, lon, lev]*Un_z_TIEGCM[lat, lon, lev]/bnorm[lat, lon, lev] - Bz_IGRF[lat, lon, lev]*Un_x_TIEGCM[lat, lon, lev]/bnorm[lat, lon, lev]) + By_IGRF[lat, lon, lev]*(-By_IGRF[lat, lon, lev]*Un_z_TIEGCM[lat, lon, lev]/bnorm[lat, lon, lev] + Bz_IGRF[lat, lon, lev]*Un_y_TIEGCM[lat, lon, lev]/bnorm[lat, lon, lev]) + Evertz[lat, lon, lev])/bnorm[lat, lon, lev] + Bz_IGRF[lat, lon, lev]*(-By_IGRF[lat, lon, lev]*(-Bx_IGRF[lat, lon, lev]*Un_y_TIEGCM[lat, lon, lev]/bnorm[lat, lon, lev] + By_IGRF[lat, lon, lev]*Un_x_TIEGCM[lat, lon, lev]/bnorm[lat, lon, lev]) + Bz_IGRF[lat, lon, lev]*(Bx_IGRF[lat, lon, lev]*Un_z_TIEGCM[lat, lon, lev]/bnorm[lat, lon, lev] - Bz_IGRF[lat, lon, lev]*Un_x_TIEGCM[lat, lon, lev]/bnorm[lat, lon, lev]) + Evertx[lat, lon, lev])/bnorm[lat, lon, lev])/bnorm[lat, lon, lev])/sy.sqrt((-Bx_IGRF[lat, lon, lev]*(-Bx_IGRF[lat, lon, lev]*(Bx_IGRF[lat, lon, lev]*Un_z_TIEGCM[lat, lon, lev]/bnorm[lat, lon, lev] - Bz_IGRF[lat, lon, lev]*Un_x_TIEGCM[lat, lon, lev]/bnorm[lat, lon, lev]) + By_IGRF[lat, lon, lev]*(-By_IGRF[lat, lon, lev]*Un_z_TIEGCM[lat, lon, lev]/bnorm[lat, lon, lev] + Bz_IGRF[lat, lon, lev]*Un_y_TIEGCM[lat, lon, lev]/bnorm[lat, lon, lev]) + Evertz[lat, lon, lev])/bnorm[lat, lon, lev] + Bz_IGRF[lat, lon, lev]*(-By_IGRF[lat, lon, lev]*(-Bx_IGRF[lat, lon, lev]*Un_y_TIEGCM[lat, lon, lev]/bnorm[lat, lon, lev] + By_IGRF[lat, lon, lev]*Un_x_TIEGCM[lat, lon, lev]/bnorm[lat, lon, lev]) + Bz_IGRF[lat, lon, lev]*(Bx_IGRF[lat, lon, lev]*Un_z_TIEGCM[lat, lon, lev]/bnorm[lat, lon, lev] - Bz_IGRF[lat, lon, lev]*Un_x_TIEGCM[lat, lon, lev]/bnorm[lat, lon, lev]) + Evertx[lat, lon, lev])/bnorm[lat, lon, lev])**2 + (Bx_IGRF[lat, lon, lev]*(-Bx_IGRF[lat, lon, lev]*(Bx_IGRF[lat, lon, lev]*Un_z_TIEGCM[lat, lon, lev]/bnorm[lat, lon, lev] - Bz_IGRF[lat, lon, lev]*Un_x_TIEGCM[lat, lon, lev]/bnorm[lat, lon, lev]) + By_IGRF[lat, lon, lev]*(-By_IGRF[lat, lon, lev]*Un_z_TIEGCM[lat, lon, lev]/bnorm[lat, lon, lev] + Bz_IGRF[lat, lon, lev]*Un_y_TIEGCM[lat, lon, lev]/bnorm[lat, lon, lev]) + Evertz[lat, lon, lev])/bnorm[lat, lon, lev] - By_IGRF[lat, lon, lev]*(-By_IGRF[lat, lon, lev]*(-Bx_IGRF[lat, lon, lev]*Un_y_TIEGCM[lat, lon, lev]/bnorm[lat, lon, lev] + By_IGRF[lat, lon, lev]*Un_x_TIEGCM[lat, lon, lev]/bnorm[lat, lon, lev]) + Bz_IGRF[lat, lon, lev]*(Bx_IGRF[lat, lon, lev]*Un_z_TIEGCM[lat, lon, lev]/bnorm[lat, lon, lev] - Bz_IGRF[lat, lon, lev]*Un_x_TIEGCM[lat, lon, lev]/bnorm[lat, lon, lev]) + Evertx[lat, lon, lev])/bnorm[lat, lon, lev])**2 + (By_IGRF[lat, lon, lev]*(-Bx_IGRF[lat, lon, lev]*(Bx_IGRF[lat, lon, lev]*Un_z_TIEGCM[lat, lon, lev]/bnorm[lat, lon, lev] - Bz_IGRF[lat, lon, lev]*Un_x_TIEGCM[lat, lon, lev]/bnorm[lat, lon, lev]) + By_IGRF[lat, lon, lev]*(-By_IGRF[lat, lon, lev]*Un_z_TIEGCM[lat, lon, lev]/bnorm[lat, lon, lev] + Bz_IGRF[lat, lon, lev]*Un_y_TIEGCM[lat, lon, lev]/bnorm[lat, lon, lev]) + Evertz[lat, lon, lev])/bnorm[lat, lon, lev] - Bz_IGRF[lat, lon, lev]*(Bx_IGRF[lat, lon, lev]*(-Bx_IGRF[lat, lon, lev]*Un_y_TIEGCM[lat, lon, lev]/bnorm[lat, lon, lev] + By_IGRF[lat, lon, lev]*Un_x_TIEGCM[lat, lon, lev]/bnorm[lat, lon, lev]) - Bz_IGRF[lat, lon, lev]*(-By_IGRF[lat, lon, lev]*Un_z_TIEGCM[lat, lon, lev]/bnorm[lat, lon, lev] + Bz_IGRF[lat, lon, lev]*Un_y_TIEGCM[lat, lon, lev]/bnorm[lat, lon, lev]) + Everty[lat, lon, lev])/bnorm[lat, lon, lev])**2)) ** 2\n",
    "\n",
    "                # dEverty\n",
    "                Jh_eq_6 = (-Bz_IGRF[lat, lon, lev]*Hall_TIEGCM[lat, lon, lev]*(By_IGRF[lat, lon, lev]*(-Bx_IGRF[lat, lon, lev]*(Bx_IGRF[lat, lon, lev]*Un_z_TIEGCM[lat, lon, lev]/bnorm[lat, lon, lev] - Bz_IGRF[lat, lon, lev]*Un_x_TIEGCM[lat, lon, lev]/bnorm[lat, lon, lev]) + By_IGRF[lat, lon, lev]*(-By_IGRF[lat, lon, lev]*Un_z_TIEGCM[lat, lon, lev]/bnorm[lat, lon, lev] + Bz_IGRF[lat, lon, lev]*Un_y_TIEGCM[lat, lon, lev]/bnorm[lat, lon, lev]) + Evertz[lat, lon, lev])/bnorm[lat, lon, lev] - Bz_IGRF[lat, lon, lev]*(Bx_IGRF[lat, lon, lev]*(-Bx_IGRF[lat, lon, lev]*Un_y_TIEGCM[lat, lon, lev]/bnorm[lat, lon, lev] + By_IGRF[lat, lon, lev]*Un_x_TIEGCM[lat, lon, lev]/bnorm[lat, lon, lev]) - Bz_IGRF[lat, lon, lev]*(-By_IGRF[lat, lon, lev]*Un_z_TIEGCM[lat, lon, lev]/bnorm[lat, lon, lev] + Bz_IGRF[lat, lon, lev]*Un_y_TIEGCM[lat, lon, lev]/bnorm[lat, lon, lev]) + Everty[lat, lon, lev])/bnorm[lat, lon, lev])/(bnorm[lat, lon, lev]*sy.sqrt((-Bx_IGRF[lat, lon, lev]*(-Bx_IGRF[lat, lon, lev]*(Bx_IGRF[lat, lon, lev]*Un_z_TIEGCM[lat, lon, lev]/bnorm[lat, lon, lev] - Bz_IGRF[lat, lon, lev]*Un_x_TIEGCM[lat, lon, lev]/bnorm[lat, lon, lev]) + By_IGRF[lat, lon, lev]*(-By_IGRF[lat, lon, lev]*Un_z_TIEGCM[lat, lon, lev]/bnorm[lat, lon, lev] + Bz_IGRF[lat, lon, lev]*Un_y_TIEGCM[lat, lon, lev]/bnorm[lat, lon, lev]) + Evertz[lat, lon, lev])/bnorm[lat, lon, lev] + Bz_IGRF[lat, lon, lev]*(-By_IGRF[lat, lon, lev]*(-Bx_IGRF[lat, lon, lev]*Un_y_TIEGCM[lat, lon, lev]/bnorm[lat, lon, lev] + By_IGRF[lat, lon, lev]*Un_x_TIEGCM[lat, lon, lev]/bnorm[lat, lon, lev]) + Bz_IGRF[lat, lon, lev]*(Bx_IGRF[lat, lon, lev]*Un_z_TIEGCM[lat, lon, lev]/bnorm[lat, lon, lev] - Bz_IGRF[lat, lon, lev]*Un_x_TIEGCM[lat, lon, lev]/bnorm[lat, lon, lev]) + Evertx[lat, lon, lev])/bnorm[lat, lon, lev])**2 + (Bx_IGRF[lat, lon, lev]*(-Bx_IGRF[lat, lon, lev]*(Bx_IGRF[lat, lon, lev]*Un_z_TIEGCM[lat, lon, lev]/bnorm[lat, lon, lev] - Bz_IGRF[lat, lon, lev]*Un_x_TIEGCM[lat, lon, lev]/bnorm[lat, lon, lev]) + By_IGRF[lat, lon, lev]*(-By_IGRF[lat, lon, lev]*Un_z_TIEGCM[lat, lon, lev]/bnorm[lat, lon, lev] + Bz_IGRF[lat, lon, lev]*Un_y_TIEGCM[lat, lon, lev]/bnorm[lat, lon, lev]) + Evertz[lat, lon, lev])/bnorm[lat, lon, lev] - By_IGRF[lat, lon, lev]*(-By_IGRF[lat, lon, lev]*(-Bx_IGRF[lat, lon, lev]*Un_y_TIEGCM[lat, lon, lev]/bnorm[lat, lon, lev] + By_IGRF[lat, lon, lev]*Un_x_TIEGCM[lat, lon, lev]/bnorm[lat, lon, lev]) + Bz_IGRF[lat, lon, lev]*(Bx_IGRF[lat, lon, lev]*Un_z_TIEGCM[lat, lon, lev]/bnorm[lat, lon, lev] - Bz_IGRF[lat, lon, lev]*Un_x_TIEGCM[lat, lon, lev]/bnorm[lat, lon, lev]) + Evertx[lat, lon, lev])/bnorm[lat, lon, lev])**2 + (By_IGRF[lat, lon, lev]*(-Bx_IGRF[lat, lon, lev]*(Bx_IGRF[lat, lon, lev]*Un_z_TIEGCM[lat, lon, lev]/bnorm[lat, lon, lev] - Bz_IGRF[lat, lon, lev]*Un_x_TIEGCM[lat, lon, lev]/bnorm[lat, lon, lev]) + By_IGRF[lat, lon, lev]*(-By_IGRF[lat, lon, lev]*Un_z_TIEGCM[lat, lon, lev]/bnorm[lat, lon, lev] + Bz_IGRF[lat, lon, lev]*Un_y_TIEGCM[lat, lon, lev]/bnorm[lat, lon, lev]) + Evertz[lat, lon, lev])/bnorm[lat, lon, lev] - Bz_IGRF[lat, lon, lev]*(Bx_IGRF[lat, lon, lev]*(-Bx_IGRF[lat, lon, lev]*Un_y_TIEGCM[lat, lon, lev]/bnorm[lat, lon, lev] + By_IGRF[lat, lon, lev]*Un_x_TIEGCM[lat, lon, lev]/bnorm[lat, lon, lev]) - Bz_IGRF[lat, lon, lev]*(-By_IGRF[lat, lon, lev]*Un_z_TIEGCM[lat, lon, lev]/bnorm[lat, lon, lev] + Bz_IGRF[lat, lon, lev]*Un_y_TIEGCM[lat, lon, lev]/bnorm[lat, lon, lev]) + Everty[lat, lon, lev])/bnorm[lat, lon, lev])**2))) ** 2\n",
    "\n",
    "                # dEvertz\n",
    "                Jh_eq_7 = (Hall_TIEGCM[lat, lon, lev]*(-Bx_IGRF[lat, lon, lev]*(-Bx_IGRF[lat, lon, lev]*(-Bx_IGRF[lat, lon, lev]*(Bx_IGRF[lat, lon, lev]*Un_z_TIEGCM[lat, lon, lev]/bnorm[lat, lon, lev] - Bz_IGRF[lat, lon, lev]*Un_x_TIEGCM[lat, lon, lev]/bnorm[lat, lon, lev]) + By_IGRF[lat, lon, lev]*(-By_IGRF[lat, lon, lev]*Un_z_TIEGCM[lat, lon, lev]/bnorm[lat, lon, lev] + Bz_IGRF[lat, lon, lev]*Un_y_TIEGCM[lat, lon, lev]/bnorm[lat, lon, lev]) + Evertz[lat, lon, lev])/bnorm[lat, lon, lev] + Bz_IGRF[lat, lon, lev]*(-By_IGRF[lat, lon, lev]*(-Bx_IGRF[lat, lon, lev]*Un_y_TIEGCM[lat, lon, lev]/bnorm[lat, lon, lev] + By_IGRF[lat, lon, lev]*Un_x_TIEGCM[lat, lon, lev]/bnorm[lat, lon, lev]) + Bz_IGRF[lat, lon, lev]*(Bx_IGRF[lat, lon, lev]*Un_z_TIEGCM[lat, lon, lev]/bnorm[lat, lon, lev] - Bz_IGRF[lat, lon, lev]*Un_x_TIEGCM[lat, lon, lev]/bnorm[lat, lon, lev]) + Evertx[lat, lon, lev])/bnorm[lat, lon, lev])/bnorm[lat, lon, lev] + Bx_IGRF[lat, lon, lev]*(Bx_IGRF[lat, lon, lev]*(-Bx_IGRF[lat, lon, lev]*(Bx_IGRF[lat, lon, lev]*Un_z_TIEGCM[lat, lon, lev]/bnorm[lat, lon, lev] - Bz_IGRF[lat, lon, lev]*Un_x_TIEGCM[lat, lon, lev]/bnorm[lat, lon, lev]) + By_IGRF[lat, lon, lev]*(-By_IGRF[lat, lon, lev]*Un_z_TIEGCM[lat, lon, lev]/bnorm[lat, lon, lev] + Bz_IGRF[lat, lon, lev]*Un_y_TIEGCM[lat, lon, lev]/bnorm[lat, lon, lev]) + Evertz[lat, lon, lev])/bnorm[lat, lon, lev] - By_IGRF[lat, lon, lev]*(-By_IGRF[lat, lon, lev]*(-Bx_IGRF[lat, lon, lev]*Un_y_TIEGCM[lat, lon, lev]/bnorm[lat, lon, lev] + By_IGRF[lat, lon, lev]*Un_x_TIEGCM[lat, lon, lev]/bnorm[lat, lon, lev]) + Bz_IGRF[lat, lon, lev]*(Bx_IGRF[lat, lon, lev]*Un_z_TIEGCM[lat, lon, lev]/bnorm[lat, lon, lev] - Bz_IGRF[lat, lon, lev]*Un_x_TIEGCM[lat, lon, lev]/bnorm[lat, lon, lev]) + Evertx[lat, lon, lev])/bnorm[lat, lon, lev])/bnorm[lat, lon, lev] + By_IGRF[lat, lon, lev]*(By_IGRF[lat, lon, lev]*(-Bx_IGRF[lat, lon, lev]*(Bx_IGRF[lat, lon, lev]*Un_z_TIEGCM[lat, lon, lev]/bnorm[lat, lon, lev] - Bz_IGRF[lat, lon, lev]*Un_x_TIEGCM[lat, lon, lev]/bnorm[lat, lon, lev]) + By_IGRF[lat, lon, lev]*(-By_IGRF[lat, lon, lev]*Un_z_TIEGCM[lat, lon, lev]/bnorm[lat, lon, lev] + Bz_IGRF[lat, lon, lev]*Un_y_TIEGCM[lat, lon, lev]/bnorm[lat, lon, lev]) + Evertz[lat, lon, lev])/bnorm[lat, lon, lev] - Bz_IGRF[lat, lon, lev]*(Bx_IGRF[lat, lon, lev]*(-Bx_IGRF[lat, lon, lev]*Un_y_TIEGCM[lat, lon, lev]/bnorm[lat, lon, lev] + By_IGRF[lat, lon, lev]*Un_x_TIEGCM[lat, lon, lev]/bnorm[lat, lon, lev]) - Bz_IGRF[lat, lon, lev]*(-By_IGRF[lat, lon, lev]*Un_z_TIEGCM[lat, lon, lev]/bnorm[lat, lon, lev] + Bz_IGRF[lat, lon, lev]*Un_y_TIEGCM[lat, lon, lev]/bnorm[lat, lon, lev]) + Everty[lat, lon, lev])/bnorm[lat, lon, lev])/bnorm[lat, lon, lev])/sy.sqrt((-Bx_IGRF[lat, lon, lev]*(-Bx_IGRF[lat, lon, lev]*(Bx_IGRF[lat, lon, lev]*Un_z_TIEGCM[lat, lon, lev]/bnorm[lat, lon, lev] - Bz_IGRF[lat, lon, lev]*Un_x_TIEGCM[lat, lon, lev]/bnorm[lat, lon, lev]) + By_IGRF[lat, lon, lev]*(-By_IGRF[lat, lon, lev]*Un_z_TIEGCM[lat, lon, lev]/bnorm[lat, lon, lev] + Bz_IGRF[lat, lon, lev]*Un_y_TIEGCM[lat, lon, lev]/bnorm[lat, lon, lev]) + Evertz[lat, lon, lev])/bnorm[lat, lon, lev] + Bz_IGRF[lat, lon, lev]*(-By_IGRF[lat, lon, lev]*(-Bx_IGRF[lat, lon, lev]*Un_y_TIEGCM[lat, lon, lev]/bnorm[lat, lon, lev] + By_IGRF[lat, lon, lev]*Un_x_TIEGCM[lat, lon, lev]/bnorm[lat, lon, lev]) + Bz_IGRF[lat, lon, lev]*(Bx_IGRF[lat, lon, lev]*Un_z_TIEGCM[lat, lon, lev]/bnorm[lat, lon, lev] - Bz_IGRF[lat, lon, lev]*Un_x_TIEGCM[lat, lon, lev]/bnorm[lat, lon, lev]) + Evertx[lat, lon, lev])/bnorm[lat, lon, lev])**2 + (Bx_IGRF[lat, lon, lev]*(-Bx_IGRF[lat, lon, lev]*(Bx_IGRF[lat, lon, lev]*Un_z_TIEGCM[lat, lon, lev]/bnorm[lat, lon, lev] - Bz_IGRF[lat, lon, lev]*Un_x_TIEGCM[lat, lon, lev]/bnorm[lat, lon, lev]) + By_IGRF[lat, lon, lev]*(-By_IGRF[lat, lon, lev]*Un_z_TIEGCM[lat, lon, lev]/bnorm[lat, lon, lev] + Bz_IGRF[lat, lon, lev]*Un_y_TIEGCM[lat, lon, lev]/bnorm[lat, lon, lev]) + Evertz[lat, lon, lev])/bnorm[lat, lon, lev] - By_IGRF[lat, lon, lev]*(-By_IGRF[lat, lon, lev]*(-Bx_IGRF[lat, lon, lev]*Un_y_TIEGCM[lat, lon, lev]/bnorm[lat, lon, lev] + By_IGRF[lat, lon, lev]*Un_x_TIEGCM[lat, lon, lev]/bnorm[lat, lon, lev]) + Bz_IGRF[lat, lon, lev]*(Bx_IGRF[lat, lon, lev]*Un_z_TIEGCM[lat, lon, lev]/bnorm[lat, lon, lev] - Bz_IGRF[lat, lon, lev]*Un_x_TIEGCM[lat, lon, lev]/bnorm[lat, lon, lev]) + Evertx[lat, lon, lev])/bnorm[lat, lon, lev])**2 + (By_IGRF[lat, lon, lev]*(-Bx_IGRF[lat, lon, lev]*(Bx_IGRF[lat, lon, lev]*Un_z_TIEGCM[lat, lon, lev]/bnorm[lat, lon, lev] - Bz_IGRF[lat, lon, lev]*Un_x_TIEGCM[lat, lon, lev]/bnorm[lat, lon, lev]) + By_IGRF[lat, lon, lev]*(-By_IGRF[lat, lon, lev]*Un_z_TIEGCM[lat, lon, lev]/bnorm[lat, lon, lev] + Bz_IGRF[lat, lon, lev]*Un_y_TIEGCM[lat, lon, lev]/bnorm[lat, lon, lev]) + Evertz[lat, lon, lev])/bnorm[lat, lon, lev] - Bz_IGRF[lat, lon, lev]*(Bx_IGRF[lat, lon, lev]*(-Bx_IGRF[lat, lon, lev]*Un_y_TIEGCM[lat, lon, lev]/bnorm[lat, lon, lev] + By_IGRF[lat, lon, lev]*Un_x_TIEGCM[lat, lon, lev]/bnorm[lat, lon, lev]) - Bz_IGRF[lat, lon, lev]*(-By_IGRF[lat, lon, lev]*Un_z_TIEGCM[lat, lon, lev]/bnorm[lat, lon, lev] + Bz_IGRF[lat, lon, lev]*Un_y_TIEGCM[lat, lon, lev]/bnorm[lat, lon, lev]) + Everty[lat, lon, lev])/bnorm[lat, lon, lev])**2)) ** 2\n",
    "\n",
    "                # dUnx\n",
    "                Jh_eq_8 = (Hall_TIEGCM[lat, lon, lev]*((-Bx_IGRF[lat, lon, lev]*(-Bx_IGRF[lat, lon, lev]*(Bx_IGRF[lat, lon, lev]*Un_z_TIEGCM[lat, lon, lev]/bnorm[lat, lon, lev] - Bz_IGRF[lat, lon, lev]*Un_x_TIEGCM[lat, lon, lev]/bnorm[lat, lon, lev]) + By_IGRF[lat, lon, lev]*(-By_IGRF[lat, lon, lev]*Un_z_TIEGCM[lat, lon, lev]/bnorm[lat, lon, lev] + Bz_IGRF[lat, lon, lev]*Un_y_TIEGCM[lat, lon, lev]/bnorm[lat, lon, lev]) + Evertz[lat, lon, lev])/bnorm[lat, lon, lev] + Bz_IGRF[lat, lon, lev]*(-By_IGRF[lat, lon, lev]*(-Bx_IGRF[lat, lon, lev]*Un_y_TIEGCM[lat, lon, lev]/bnorm[lat, lon, lev] + By_IGRF[lat, lon, lev]*Un_x_TIEGCM[lat, lon, lev]/bnorm[lat, lon, lev]) + Bz_IGRF[lat, lon, lev]*(Bx_IGRF[lat, lon, lev]*Un_z_TIEGCM[lat, lon, lev]/bnorm[lat, lon, lev] - Bz_IGRF[lat, lon, lev]*Un_x_TIEGCM[lat, lon, lev]/bnorm[lat, lon, lev]) + Evertx[lat, lon, lev])/bnorm[lat, lon, lev])*(-2*Bx_IGRF[lat, lon, lev]**2*Bz_IGRF[lat, lon, lev]/bnorm[lat, lon, lev]**2 + 2*Bz_IGRF[lat, lon, lev]*(-By_IGRF[lat, lon, lev]**2/bnorm[lat, lon, lev] - Bz_IGRF[lat, lon, lev]**2/bnorm[lat, lon, lev])/bnorm[lat, lon, lev])/2 + (Bx_IGRF[lat, lon, lev]*(-Bx_IGRF[lat, lon, lev]*(Bx_IGRF[lat, lon, lev]*Un_z_TIEGCM[lat, lon, lev]/bnorm[lat, lon, lev] - Bz_IGRF[lat, lon, lev]*Un_x_TIEGCM[lat, lon, lev]/bnorm[lat, lon, lev]) + By_IGRF[lat, lon, lev]*(-By_IGRF[lat, lon, lev]*Un_z_TIEGCM[lat, lon, lev]/bnorm[lat, lon, lev] + Bz_IGRF[lat, lon, lev]*Un_y_TIEGCM[lat, lon, lev]/bnorm[lat, lon, lev]) + Evertz[lat, lon, lev])/bnorm[lat, lon, lev] - By_IGRF[lat, lon, lev]*(-By_IGRF[lat, lon, lev]*(-Bx_IGRF[lat, lon, lev]*Un_y_TIEGCM[lat, lon, lev]/bnorm[lat, lon, lev] + By_IGRF[lat, lon, lev]*Un_x_TIEGCM[lat, lon, lev]/bnorm[lat, lon, lev]) + Bz_IGRF[lat, lon, lev]*(Bx_IGRF[lat, lon, lev]*Un_z_TIEGCM[lat, lon, lev]/bnorm[lat, lon, lev] - Bz_IGRF[lat, lon, lev]*Un_x_TIEGCM[lat, lon, lev]/bnorm[lat, lon, lev]) + Evertx[lat, lon, lev])/bnorm[lat, lon, lev])*(2*Bx_IGRF[lat, lon, lev]**2*Bz_IGRF[lat, lon, lev]/bnorm[lat, lon, lev]**2 - 2*By_IGRF[lat, lon, lev]*(-By_IGRF[lat, lon, lev]**2/bnorm[lat, lon, lev] - Bz_IGRF[lat, lon, lev]**2/bnorm[lat, lon, lev])/bnorm[lat, lon, lev])/2)/sy.sqrt((-Bx_IGRF[lat, lon, lev]*(-Bx_IGRF[lat, lon, lev]*(Bx_IGRF[lat, lon, lev]*Un_z_TIEGCM[lat, lon, lev]/bnorm[lat, lon, lev] - Bz_IGRF[lat, lon, lev]*Un_x_TIEGCM[lat, lon, lev]/bnorm[lat, lon, lev]) + By_IGRF[lat, lon, lev]*(-By_IGRF[lat, lon, lev]*Un_z_TIEGCM[lat, lon, lev]/bnorm[lat, lon, lev] + Bz_IGRF[lat, lon, lev]*Un_y_TIEGCM[lat, lon, lev]/bnorm[lat, lon, lev]) + Evertz[lat, lon, lev])/bnorm[lat, lon, lev] + Bz_IGRF[lat, lon, lev]*(-By_IGRF[lat, lon, lev]*(-Bx_IGRF[lat, lon, lev]*Un_y_TIEGCM[lat, lon, lev]/bnorm[lat, lon, lev] + By_IGRF[lat, lon, lev]*Un_x_TIEGCM[lat, lon, lev]/bnorm[lat, lon, lev]) + Bz_IGRF[lat, lon, lev]*(Bx_IGRF[lat, lon, lev]*Un_z_TIEGCM[lat, lon, lev]/bnorm[lat, lon, lev] - Bz_IGRF[lat, lon, lev]*Un_x_TIEGCM[lat, lon, lev]/bnorm[lat, lon, lev]) + Evertx[lat, lon, lev])/bnorm[lat, lon, lev])**2 + (Bx_IGRF[lat, lon, lev]*(-Bx_IGRF[lat, lon, lev]*(Bx_IGRF[lat, lon, lev]*Un_z_TIEGCM[lat, lon, lev]/bnorm[lat, lon, lev] - Bz_IGRF[lat, lon, lev]*Un_x_TIEGCM[lat, lon, lev]/bnorm[lat, lon, lev]) + By_IGRF[lat, lon, lev]*(-By_IGRF[lat, lon, lev]*Un_z_TIEGCM[lat, lon, lev]/bnorm[lat, lon, lev] + Bz_IGRF[lat, lon, lev]*Un_y_TIEGCM[lat, lon, lev]/bnorm[lat, lon, lev]) + Evertz[lat, lon, lev])/bnorm[lat, lon, lev] - By_IGRF[lat, lon, lev]*(-By_IGRF[lat, lon, lev]*(-Bx_IGRF[lat, lon, lev]*Un_y_TIEGCM[lat, lon, lev]/bnorm[lat, lon, lev] + By_IGRF[lat, lon, lev]*Un_x_TIEGCM[lat, lon, lev]/bnorm[lat, lon, lev]) + Bz_IGRF[lat, lon, lev]*(Bx_IGRF[lat, lon, lev]*Un_z_TIEGCM[lat, lon, lev]/bnorm[lat, lon, lev] - Bz_IGRF[lat, lon, lev]*Un_x_TIEGCM[lat, lon, lev]/bnorm[lat, lon, lev]) + Evertx[lat, lon, lev])/bnorm[lat, lon, lev])**2 + (By_IGRF[lat, lon, lev]*(-Bx_IGRF[lat, lon, lev]*(Bx_IGRF[lat, lon, lev]*Un_z_TIEGCM[lat, lon, lev]/bnorm[lat, lon, lev] - Bz_IGRF[lat, lon, lev]*Un_x_TIEGCM[lat, lon, lev]/bnorm[lat, lon, lev]) + By_IGRF[lat, lon, lev]*(-By_IGRF[lat, lon, lev]*Un_z_TIEGCM[lat, lon, lev]/bnorm[lat, lon, lev] + Bz_IGRF[lat, lon, lev]*Un_y_TIEGCM[lat, lon, lev]/bnorm[lat, lon, lev]) + Evertz[lat, lon, lev])/bnorm[lat, lon, lev] - Bz_IGRF[lat, lon, lev]*(Bx_IGRF[lat, lon, lev]*(-Bx_IGRF[lat, lon, lev]*Un_y_TIEGCM[lat, lon, lev]/bnorm[lat, lon, lev] + By_IGRF[lat, lon, lev]*Un_x_TIEGCM[lat, lon, lev]/bnorm[lat, lon, lev]) - Bz_IGRF[lat, lon, lev]*(-By_IGRF[lat, lon, lev]*Un_z_TIEGCM[lat, lon, lev]/bnorm[lat, lon, lev] + Bz_IGRF[lat, lon, lev]*Un_y_TIEGCM[lat, lon, lev]/bnorm[lat, lon, lev]) + Everty[lat, lon, lev])/bnorm[lat, lon, lev])**2)) ** 2\n",
    "\n",
    "                # dUny\n",
    "                Jh_eq_9 = (Hall_TIEGCM[lat, lon, lev]*((-2*Bx_IGRF[lat, lon, lev]*By_IGRF[lat, lon, lev]**2/bnorm[lat, lon, lev]**2 + 2*Bx_IGRF[lat, lon, lev]*By_IGRF[lat, lon, lev]*Bz_IGRF[lat, lon, lev]/bnorm[lat, lon, lev]**2)*(Bx_IGRF[lat, lon, lev]*(-Bx_IGRF[lat, lon, lev]*(Bx_IGRF[lat, lon, lev]*Un_z_TIEGCM[lat, lon, lev]/bnorm[lat, lon, lev] - Bz_IGRF[lat, lon, lev]*Un_x_TIEGCM[lat, lon, lev]/bnorm[lat, lon, lev]) + By_IGRF[lat, lon, lev]*(-By_IGRF[lat, lon, lev]*Un_z_TIEGCM[lat, lon, lev]/bnorm[lat, lon, lev] + Bz_IGRF[lat, lon, lev]*Un_y_TIEGCM[lat, lon, lev]/bnorm[lat, lon, lev]) + Evertz[lat, lon, lev])/bnorm[lat, lon, lev] - By_IGRF[lat, lon, lev]*(-By_IGRF[lat, lon, lev]*(-Bx_IGRF[lat, lon, lev]*Un_y_TIEGCM[lat, lon, lev]/bnorm[lat, lon, lev] + By_IGRF[lat, lon, lev]*Un_x_TIEGCM[lat, lon, lev]/bnorm[lat, lon, lev]) + Bz_IGRF[lat, lon, lev]*(Bx_IGRF[lat, lon, lev]*Un_z_TIEGCM[lat, lon, lev]/bnorm[lat, lon, lev] - Bz_IGRF[lat, lon, lev]*Un_x_TIEGCM[lat, lon, lev]/bnorm[lat, lon, lev]) + Evertx[lat, lon, lev])/bnorm[lat, lon, lev])/2 + (By_IGRF[lat, lon, lev]*(-Bx_IGRF[lat, lon, lev]*(Bx_IGRF[lat, lon, lev]*Un_z_TIEGCM[lat, lon, lev]/bnorm[lat, lon, lev] - Bz_IGRF[lat, lon, lev]*Un_x_TIEGCM[lat, lon, lev]/bnorm[lat, lon, lev]) + By_IGRF[lat, lon, lev]*(-By_IGRF[lat, lon, lev]*Un_z_TIEGCM[lat, lon, lev]/bnorm[lat, lon, lev] + Bz_IGRF[lat, lon, lev]*Un_y_TIEGCM[lat, lon, lev]/bnorm[lat, lon, lev]) + Evertz[lat, lon, lev])/bnorm[lat, lon, lev] - Bz_IGRF[lat, lon, lev]*(Bx_IGRF[lat, lon, lev]*(-Bx_IGRF[lat, lon, lev]*Un_y_TIEGCM[lat, lon, lev]/bnorm[lat, lon, lev] + By_IGRF[lat, lon, lev]*Un_x_TIEGCM[lat, lon, lev]/bnorm[lat, lon, lev]) - Bz_IGRF[lat, lon, lev]*(-By_IGRF[lat, lon, lev]*Un_z_TIEGCM[lat, lon, lev]/bnorm[lat, lon, lev] + Bz_IGRF[lat, lon, lev]*Un_y_TIEGCM[lat, lon, lev]/bnorm[lat, lon, lev]) + Everty[lat, lon, lev])/bnorm[lat, lon, lev])*(2*By_IGRF[lat, lon, lev]**2*Bz_IGRF[lat, lon, lev]/bnorm[lat, lon, lev]**2 - 2*Bz_IGRF[lat, lon, lev]*(-Bx_IGRF[lat, lon, lev]**2/bnorm[lat, lon, lev] - Bz_IGRF[lat, lon, lev]**2/bnorm[lat, lon, lev])/bnorm[lat, lon, lev])/2)/sy.sqrt((-Bx_IGRF[lat, lon, lev]*(-Bx_IGRF[lat, lon, lev]*(Bx_IGRF[lat, lon, lev]*Un_z_TIEGCM[lat, lon, lev]/bnorm[lat, lon, lev] - Bz_IGRF[lat, lon, lev]*Un_x_TIEGCM[lat, lon, lev]/bnorm[lat, lon, lev]) + By_IGRF[lat, lon, lev]*(-By_IGRF[lat, lon, lev]*Un_z_TIEGCM[lat, lon, lev]/bnorm[lat, lon, lev] + Bz_IGRF[lat, lon, lev]*Un_y_TIEGCM[lat, lon, lev]/bnorm[lat, lon, lev]) + Evertz[lat, lon, lev])/bnorm[lat, lon, lev] + Bz_IGRF[lat, lon, lev]*(-By_IGRF[lat, lon, lev]*(-Bx_IGRF[lat, lon, lev]*Un_y_TIEGCM[lat, lon, lev]/bnorm[lat, lon, lev] + By_IGRF[lat, lon, lev]*Un_x_TIEGCM[lat, lon, lev]/bnorm[lat, lon, lev]) + Bz_IGRF[lat, lon, lev]*(Bx_IGRF[lat, lon, lev]*Un_z_TIEGCM[lat, lon, lev]/bnorm[lat, lon, lev] - Bz_IGRF[lat, lon, lev]*Un_x_TIEGCM[lat, lon, lev]/bnorm[lat, lon, lev]) + Evertx[lat, lon, lev])/bnorm[lat, lon, lev])**2 + (Bx_IGRF[lat, lon, lev]*(-Bx_IGRF[lat, lon, lev]*(Bx_IGRF[lat, lon, lev]*Un_z_TIEGCM[lat, lon, lev]/bnorm[lat, lon, lev] - Bz_IGRF[lat, lon, lev]*Un_x_TIEGCM[lat, lon, lev]/bnorm[lat, lon, lev]) + By_IGRF[lat, lon, lev]*(-By_IGRF[lat, lon, lev]*Un_z_TIEGCM[lat, lon, lev]/bnorm[lat, lon, lev] + Bz_IGRF[lat, lon, lev]*Un_y_TIEGCM[lat, lon, lev]/bnorm[lat, lon, lev]) + Evertz[lat, lon, lev])/bnorm[lat, lon, lev] - By_IGRF[lat, lon, lev]*(-By_IGRF[lat, lon, lev]*(-Bx_IGRF[lat, lon, lev]*Un_y_TIEGCM[lat, lon, lev]/bnorm[lat, lon, lev] + By_IGRF[lat, lon, lev]*Un_x_TIEGCM[lat, lon, lev]/bnorm[lat, lon, lev]) + Bz_IGRF[lat, lon, lev]*(Bx_IGRF[lat, lon, lev]*Un_z_TIEGCM[lat, lon, lev]/bnorm[lat, lon, lev] - Bz_IGRF[lat, lon, lev]*Un_x_TIEGCM[lat, lon, lev]/bnorm[lat, lon, lev]) + Evertx[lat, lon, lev])/bnorm[lat, lon, lev])**2 + (By_IGRF[lat, lon, lev]*(-Bx_IGRF[lat, lon, lev]*(Bx_IGRF[lat, lon, lev]*Un_z_TIEGCM[lat, lon, lev]/bnorm[lat, lon, lev] - Bz_IGRF[lat, lon, lev]*Un_x_TIEGCM[lat, lon, lev]/bnorm[lat, lon, lev]) + By_IGRF[lat, lon, lev]*(-By_IGRF[lat, lon, lev]*Un_z_TIEGCM[lat, lon, lev]/bnorm[lat, lon, lev] + Bz_IGRF[lat, lon, lev]*Un_y_TIEGCM[lat, lon, lev]/bnorm[lat, lon, lev]) + Evertz[lat, lon, lev])/bnorm[lat, lon, lev] - Bz_IGRF[lat, lon, lev]*(Bx_IGRF[lat, lon, lev]*(-Bx_IGRF[lat, lon, lev]*Un_y_TIEGCM[lat, lon, lev]/bnorm[lat, lon, lev] + By_IGRF[lat, lon, lev]*Un_x_TIEGCM[lat, lon, lev]/bnorm[lat, lon, lev]) - Bz_IGRF[lat, lon, lev]*(-By_IGRF[lat, lon, lev]*Un_z_TIEGCM[lat, lon, lev]/bnorm[lat, lon, lev] + Bz_IGRF[lat, lon, lev]*Un_y_TIEGCM[lat, lon, lev]/bnorm[lat, lon, lev]) + Everty[lat, lon, lev])/bnorm[lat, lon, lev])**2)) ** 2\n",
    "\n",
    "                # dUnz\n",
    "                Jh_eq_10 = (Hall_TIEGCM[lat, lon, lev]*((2*Bx_IGRF[lat, lon, lev]*Bz_IGRF[lat, lon, lev]**2/bnorm[lat, lon, lev]**2 - 2*Bx_IGRF[lat, lon, lev]*(-Bx_IGRF[lat, lon, lev]**2/bnorm[lat, lon, lev] - By_IGRF[lat, lon, lev]**2/bnorm[lat, lon, lev])/bnorm[lat, lon, lev])*(-Bx_IGRF[lat, lon, lev]*(-Bx_IGRF[lat, lon, lev]*(Bx_IGRF[lat, lon, lev]*Un_z_TIEGCM[lat, lon, lev]/bnorm[lat, lon, lev] - Bz_IGRF[lat, lon, lev]*Un_x_TIEGCM[lat, lon, lev]/bnorm[lat, lon, lev]) + By_IGRF[lat, lon, lev]*(-By_IGRF[lat, lon, lev]*Un_z_TIEGCM[lat, lon, lev]/bnorm[lat, lon, lev] + Bz_IGRF[lat, lon, lev]*Un_y_TIEGCM[lat, lon, lev]/bnorm[lat, lon, lev]) + Evertz[lat, lon, lev])/bnorm[lat, lon, lev] + Bz_IGRF[lat, lon, lev]*(-By_IGRF[lat, lon, lev]*(-Bx_IGRF[lat, lon, lev]*Un_y_TIEGCM[lat, lon, lev]/bnorm[lat, lon, lev] + By_IGRF[lat, lon, lev]*Un_x_TIEGCM[lat, lon, lev]/bnorm[lat, lon, lev]) + Bz_IGRF[lat, lon, lev]*(Bx_IGRF[lat, lon, lev]*Un_z_TIEGCM[lat, lon, lev]/bnorm[lat, lon, lev] - Bz_IGRF[lat, lon, lev]*Un_x_TIEGCM[lat, lon, lev]/bnorm[lat, lon, lev]) + Evertx[lat, lon, lev])/bnorm[lat, lon, lev])/2 + (Bx_IGRF[lat, lon, lev]*(-Bx_IGRF[lat, lon, lev]*(Bx_IGRF[lat, lon, lev]*Un_z_TIEGCM[lat, lon, lev]/bnorm[lat, lon, lev] - Bz_IGRF[lat, lon, lev]*Un_x_TIEGCM[lat, lon, lev]/bnorm[lat, lon, lev]) + By_IGRF[lat, lon, lev]*(-By_IGRF[lat, lon, lev]*Un_z_TIEGCM[lat, lon, lev]/bnorm[lat, lon, lev] + Bz_IGRF[lat, lon, lev]*Un_y_TIEGCM[lat, lon, lev]/bnorm[lat, lon, lev]) + Evertz[lat, lon, lev])/bnorm[lat, lon, lev] - By_IGRF[lat, lon, lev]*(-By_IGRF[lat, lon, lev]*(-Bx_IGRF[lat, lon, lev]*Un_y_TIEGCM[lat, lon, lev]/bnorm[lat, lon, lev] + By_IGRF[lat, lon, lev]*Un_x_TIEGCM[lat, lon, lev]/bnorm[lat, lon, lev]) + Bz_IGRF[lat, lon, lev]*(Bx_IGRF[lat, lon, lev]*Un_z_TIEGCM[lat, lon, lev]/bnorm[lat, lon, lev] - Bz_IGRF[lat, lon, lev]*Un_x_TIEGCM[lat, lon, lev]/bnorm[lat, lon, lev]) + Evertx[lat, lon, lev])/bnorm[lat, lon, lev])*(-2*Bx_IGRF[lat, lon, lev]*By_IGRF[lat, lon, lev]*Bz_IGRF[lat, lon, lev]/bnorm[lat, lon, lev]**2 + 2*Bx_IGRF[lat, lon, lev]*(-Bx_IGRF[lat, lon, lev]**2/bnorm[lat, lon, lev] - By_IGRF[lat, lon, lev]**2/bnorm[lat, lon, lev])/bnorm[lat, lon, lev])/2 + (-2*By_IGRF[lat, lon, lev]*Bz_IGRF[lat, lon, lev]**2/bnorm[lat, lon, lev]**2 + 2*By_IGRF[lat, lon, lev]*(-Bx_IGRF[lat, lon, lev]**2/bnorm[lat, lon, lev] - By_IGRF[lat, lon, lev]**2/bnorm[lat, lon, lev])/bnorm[lat, lon, lev])*(By_IGRF[lat, lon, lev]*(-Bx_IGRF[lat, lon, lev]*(Bx_IGRF[lat, lon, lev]*Un_z_TIEGCM[lat, lon, lev]/bnorm[lat, lon, lev] - Bz_IGRF[lat, lon, lev]*Un_x_TIEGCM[lat, lon, lev]/bnorm[lat, lon, lev]) + By_IGRF[lat, lon, lev]*(-By_IGRF[lat, lon, lev]*Un_z_TIEGCM[lat, lon, lev]/bnorm[lat, lon, lev] + Bz_IGRF[lat, lon, lev]*Un_y_TIEGCM[lat, lon, lev]/bnorm[lat, lon, lev]) + Evertz[lat, lon, lev])/bnorm[lat, lon, lev] - Bz_IGRF[lat, lon, lev]*(Bx_IGRF[lat, lon, lev]*(-Bx_IGRF[lat, lon, lev]*Un_y_TIEGCM[lat, lon, lev]/bnorm[lat, lon, lev] + By_IGRF[lat, lon, lev]*Un_x_TIEGCM[lat, lon, lev]/bnorm[lat, lon, lev]) - Bz_IGRF[lat, lon, lev]*(-By_IGRF[lat, lon, lev]*Un_z_TIEGCM[lat, lon, lev]/bnorm[lat, lon, lev] + Bz_IGRF[lat, lon, lev]*Un_y_TIEGCM[lat, lon, lev]/bnorm[lat, lon, lev]) + Everty[lat, lon, lev])/bnorm[lat, lon, lev])/2)/sy.sqrt((-Bx_IGRF[lat, lon, lev]*(-Bx_IGRF[lat, lon, lev]*(Bx_IGRF[lat, lon, lev]*Un_z_TIEGCM[lat, lon, lev]/bnorm[lat, lon, lev] - Bz_IGRF[lat, lon, lev]*Un_x_TIEGCM[lat, lon, lev]/bnorm[lat, lon, lev]) + By_IGRF[lat, lon, lev]*(-By_IGRF[lat, lon, lev]*Un_z_TIEGCM[lat, lon, lev]/bnorm[lat, lon, lev] + Bz_IGRF[lat, lon, lev]*Un_y_TIEGCM[lat, lon, lev]/bnorm[lat, lon, lev]) + Evertz[lat, lon, lev])/bnorm[lat, lon, lev] + Bz_IGRF[lat, lon, lev]*(-By_IGRF[lat, lon, lev]*(-Bx_IGRF[lat, lon, lev]*Un_y_TIEGCM[lat, lon, lev]/bnorm[lat, lon, lev] + By_IGRF[lat, lon, lev]*Un_x_TIEGCM[lat, lon, lev]/bnorm[lat, lon, lev]) + Bz_IGRF[lat, lon, lev]*(Bx_IGRF[lat, lon, lev]*Un_z_TIEGCM[lat, lon, lev]/bnorm[lat, lon, lev] - Bz_IGRF[lat, lon, lev]*Un_x_TIEGCM[lat, lon, lev]/bnorm[lat, lon, lev]) + Evertx[lat, lon, lev])/bnorm[lat, lon, lev])**2 + (Bx_IGRF[lat, lon, lev]*(-Bx_IGRF[lat, lon, lev]*(Bx_IGRF[lat, lon, lev]*Un_z_TIEGCM[lat, lon, lev]/bnorm[lat, lon, lev] - Bz_IGRF[lat, lon, lev]*Un_x_TIEGCM[lat, lon, lev]/bnorm[lat, lon, lev]) + By_IGRF[lat, lon, lev]*(-By_IGRF[lat, lon, lev]*Un_z_TIEGCM[lat, lon, lev]/bnorm[lat, lon, lev] + Bz_IGRF[lat, lon, lev]*Un_y_TIEGCM[lat, lon, lev]/bnorm[lat, lon, lev]) + Evertz[lat, lon, lev])/bnorm[lat, lon, lev] - By_IGRF[lat, lon, lev]*(-By_IGRF[lat, lon, lev]*(-Bx_IGRF[lat, lon, lev]*Un_y_TIEGCM[lat, lon, lev]/bnorm[lat, lon, lev] + By_IGRF[lat, lon, lev]*Un_x_TIEGCM[lat, lon, lev]/bnorm[lat, lon, lev]) + Bz_IGRF[lat, lon, lev]*(Bx_IGRF[lat, lon, lev]*Un_z_TIEGCM[lat, lon, lev]/bnorm[lat, lon, lev] - Bz_IGRF[lat, lon, lev]*Un_x_TIEGCM[lat, lon, lev]/bnorm[lat, lon, lev]) + Evertx[lat, lon, lev])/bnorm[lat, lon, lev])**2 + (By_IGRF[lat, lon, lev]*(-Bx_IGRF[lat, lon, lev]*(Bx_IGRF[lat, lon, lev]*Un_z_TIEGCM[lat, lon, lev]/bnorm[lat, lon, lev] - Bz_IGRF[lat, lon, lev]*Un_x_TIEGCM[lat, lon, lev]/bnorm[lat, lon, lev]) + By_IGRF[lat, lon, lev]*(-By_IGRF[lat, lon, lev]*Un_z_TIEGCM[lat, lon, lev]/bnorm[lat, lon, lev] + Bz_IGRF[lat, lon, lev]*Un_y_TIEGCM[lat, lon, lev]/bnorm[lat, lon, lev]) + Evertz[lat, lon, lev])/bnorm[lat, lon, lev] - Bz_IGRF[lat, lon, lev]*(Bx_IGRF[lat, lon, lev]*(-Bx_IGRF[lat, lon, lev]*Un_y_TIEGCM[lat, lon, lev]/bnorm[lat, lon, lev] + By_IGRF[lat, lon, lev]*Un_x_TIEGCM[lat, lon, lev]/bnorm[lat, lon, lev]) - Bz_IGRF[lat, lon, lev]*(-By_IGRF[lat, lon, lev]*Un_z_TIEGCM[lat, lon, lev]/bnorm[lat, lon, lev] + Bz_IGRF[lat, lon, lev]*Un_y_TIEGCM[lat, lon, lev]/bnorm[lat, lon, lev]) + Everty[lat, lon, lev])/bnorm[lat, lon, lev])**2)) ** 2\n",
    "                # dbnorm\n",
    "                Jh_eq_11 = (Hall_TIEGCM[lat, lon, lev]*((-Bx_IGRF[lat, lon, lev]*(-Bx_IGRF[lat, lon, lev]*(Bx_IGRF[lat, lon, lev]*Un_z_TIEGCM[lat, lon, lev]/bnorm[lat, lon, lev] - Bz_IGRF[lat, lon, lev]*Un_x_TIEGCM[lat, lon, lev]/bnorm[lat, lon, lev]) + By_IGRF[lat, lon, lev]*(-By_IGRF[lat, lon, lev]*Un_z_TIEGCM[lat, lon, lev]/bnorm[lat, lon, lev] + Bz_IGRF[lat, lon, lev]*Un_y_TIEGCM[lat, lon, lev]/bnorm[lat, lon, lev]) + Evertz[lat, lon, lev])/bnorm[lat, lon, lev] + Bz_IGRF[lat, lon, lev]*(-By_IGRF[lat, lon, lev]*(-Bx_IGRF[lat, lon, lev]*Un_y_TIEGCM[lat, lon, lev]/bnorm[lat, lon, lev] + By_IGRF[lat, lon, lev]*Un_x_TIEGCM[lat, lon, lev]/bnorm[lat, lon, lev]) + Bz_IGRF[lat, lon, lev]*(Bx_IGRF[lat, lon, lev]*Un_z_TIEGCM[lat, lon, lev]/bnorm[lat, lon, lev] - Bz_IGRF[lat, lon, lev]*Un_x_TIEGCM[lat, lon, lev]/bnorm[lat, lon, lev]) + Evertx[lat, lon, lev])/bnorm[lat, lon, lev])*(-2*Bx_IGRF[lat, lon, lev]*(-Bx_IGRF[lat, lon, lev]*(-Bx_IGRF[lat, lon, lev]*Un_z_TIEGCM[lat, lon, lev]/bnorm[lat, lon, lev]**2 + Bz_IGRF[lat, lon, lev]*Un_x_TIEGCM[lat, lon, lev]/bnorm[lat, lon, lev]**2) + By_IGRF[lat, lon, lev]*(By_IGRF[lat, lon, lev]*Un_z_TIEGCM[lat, lon, lev]/bnorm[lat, lon, lev]**2 - Bz_IGRF[lat, lon, lev]*Un_y_TIEGCM[lat, lon, lev]/bnorm[lat, lon, lev]**2))/bnorm[lat, lon, lev] + 2*Bx_IGRF[lat, lon, lev]*(-Bx_IGRF[lat, lon, lev]*(Bx_IGRF[lat, lon, lev]*Un_z_TIEGCM[lat, lon, lev]/bnorm[lat, lon, lev] - Bz_IGRF[lat, lon, lev]*Un_x_TIEGCM[lat, lon, lev]/bnorm[lat, lon, lev]) + By_IGRF[lat, lon, lev]*(-By_IGRF[lat, lon, lev]*Un_z_TIEGCM[lat, lon, lev]/bnorm[lat, lon, lev] + Bz_IGRF[lat, lon, lev]*Un_y_TIEGCM[lat, lon, lev]/bnorm[lat, lon, lev]) + Evertz[lat, lon, lev])/bnorm[lat, lon, lev]**2 + 2*Bz_IGRF[lat, lon, lev]*(-By_IGRF[lat, lon, lev]*(Bx_IGRF[lat, lon, lev]*Un_y_TIEGCM[lat, lon, lev]/bnorm[lat, lon, lev]**2 - By_IGRF[lat, lon, lev]*Un_x_TIEGCM[lat, lon, lev]/bnorm[lat, lon, lev]**2) + Bz_IGRF[lat, lon, lev]*(-Bx_IGRF[lat, lon, lev]*Un_z_TIEGCM[lat, lon, lev]/bnorm[lat, lon, lev]**2 + Bz_IGRF[lat, lon, lev]*Un_x_TIEGCM[lat, lon, lev]/bnorm[lat, lon, lev]**2))/bnorm[lat, lon, lev] - 2*Bz_IGRF[lat, lon, lev]*(-By_IGRF[lat, lon, lev]*(-Bx_IGRF[lat, lon, lev]*Un_y_TIEGCM[lat, lon, lev]/bnorm[lat, lon, lev] + By_IGRF[lat, lon, lev]*Un_x_TIEGCM[lat, lon, lev]/bnorm[lat, lon, lev]) + Bz_IGRF[lat, lon, lev]*(Bx_IGRF[lat, lon, lev]*Un_z_TIEGCM[lat, lon, lev]/bnorm[lat, lon, lev] - Bz_IGRF[lat, lon, lev]*Un_x_TIEGCM[lat, lon, lev]/bnorm[lat, lon, lev]) + Evertx[lat, lon, lev])/bnorm[lat, lon, lev]**2)/2 + (Bx_IGRF[lat, lon, lev]*(-Bx_IGRF[lat, lon, lev]*(Bx_IGRF[lat, lon, lev]*Un_z_TIEGCM[lat, lon, lev]/bnorm[lat, lon, lev] - Bz_IGRF[lat, lon, lev]*Un_x_TIEGCM[lat, lon, lev]/bnorm[lat, lon, lev]) + By_IGRF[lat, lon, lev]*(-By_IGRF[lat, lon, lev]*Un_z_TIEGCM[lat, lon, lev]/bnorm[lat, lon, lev] + Bz_IGRF[lat, lon, lev]*Un_y_TIEGCM[lat, lon, lev]/bnorm[lat, lon, lev]) + Evertz[lat, lon, lev])/bnorm[lat, lon, lev] - By_IGRF[lat, lon, lev]*(-By_IGRF[lat, lon, lev]*(-Bx_IGRF[lat, lon, lev]*Un_y_TIEGCM[lat, lon, lev]/bnorm[lat, lon, lev] + By_IGRF[lat, lon, lev]*Un_x_TIEGCM[lat, lon, lev]/bnorm[lat, lon, lev]) + Bz_IGRF[lat, lon, lev]*(Bx_IGRF[lat, lon, lev]*Un_z_TIEGCM[lat, lon, lev]/bnorm[lat, lon, lev] - Bz_IGRF[lat, lon, lev]*Un_x_TIEGCM[lat, lon, lev]/bnorm[lat, lon, lev]) + Evertx[lat, lon, lev])/bnorm[lat, lon, lev])*(2*Bx_IGRF[lat, lon, lev]*(-Bx_IGRF[lat, lon, lev]*(-Bx_IGRF[lat, lon, lev]*Un_z_TIEGCM[lat, lon, lev]/bnorm[lat, lon, lev]**2 + Bz_IGRF[lat, lon, lev]*Un_x_TIEGCM[lat, lon, lev]/bnorm[lat, lon, lev]**2) + By_IGRF[lat, lon, lev]*(By_IGRF[lat, lon, lev]*Un_z_TIEGCM[lat, lon, lev]/bnorm[lat, lon, lev]**2 - Bz_IGRF[lat, lon, lev]*Un_y_TIEGCM[lat, lon, lev]/bnorm[lat, lon, lev]**2))/bnorm[lat, lon, lev] - 2*Bx_IGRF[lat, lon, lev]*(-Bx_IGRF[lat, lon, lev]*(Bx_IGRF[lat, lon, lev]*Un_z_TIEGCM[lat, lon, lev]/bnorm[lat, lon, lev] - Bz_IGRF[lat, lon, lev]*Un_x_TIEGCM[lat, lon, lev]/bnorm[lat, lon, lev]) + By_IGRF[lat, lon, lev]*(-By_IGRF[lat, lon, lev]*Un_z_TIEGCM[lat, lon, lev]/bnorm[lat, lon, lev] + Bz_IGRF[lat, lon, lev]*Un_y_TIEGCM[lat, lon, lev]/bnorm[lat, lon, lev]) + Evertz[lat, lon, lev])/bnorm[lat, lon, lev]**2 - 2*By_IGRF[lat, lon, lev]*(-By_IGRF[lat, lon, lev]*(Bx_IGRF[lat, lon, lev]*Un_y_TIEGCM[lat, lon, lev]/bnorm[lat, lon, lev]**2 - By_IGRF[lat, lon, lev]*Un_x_TIEGCM[lat, lon, lev]/bnorm[lat, lon, lev]**2) + Bz_IGRF[lat, lon, lev]*(-Bx_IGRF[lat, lon, lev]*Un_z_TIEGCM[lat, lon, lev]/bnorm[lat, lon, lev]**2 + Bz_IGRF[lat, lon, lev]*Un_x_TIEGCM[lat, lon, lev]/bnorm[lat, lon, lev]**2))/bnorm[lat, lon, lev] + 2*By_IGRF[lat, lon, lev]*(-By_IGRF[lat, lon, lev]*(-Bx_IGRF[lat, lon, lev]*Un_y_TIEGCM[lat, lon, lev]/bnorm[lat, lon, lev] + By_IGRF[lat, lon, lev]*Un_x_TIEGCM[lat, lon, lev]/bnorm[lat, lon, lev]) + Bz_IGRF[lat, lon, lev]*(Bx_IGRF[lat, lon, lev]*Un_z_TIEGCM[lat, lon, lev]/bnorm[lat, lon, lev] - Bz_IGRF[lat, lon, lev]*Un_x_TIEGCM[lat, lon, lev]/bnorm[lat, lon, lev]) + Evertx[lat, lon, lev])/bnorm[lat, lon, lev]**2)/2 + (By_IGRF[lat, lon, lev]*(-Bx_IGRF[lat, lon, lev]*(Bx_IGRF[lat, lon, lev]*Un_z_TIEGCM[lat, lon, lev]/bnorm[lat, lon, lev] - Bz_IGRF[lat, lon, lev]*Un_x_TIEGCM[lat, lon, lev]/bnorm[lat, lon, lev]) + By_IGRF[lat, lon, lev]*(-By_IGRF[lat, lon, lev]*Un_z_TIEGCM[lat, lon, lev]/bnorm[lat, lon, lev] + Bz_IGRF[lat, lon, lev]*Un_y_TIEGCM[lat, lon, lev]/bnorm[lat, lon, lev]) + Evertz[lat, lon, lev])/bnorm[lat, lon, lev] - Bz_IGRF[lat, lon, lev]*(Bx_IGRF[lat, lon, lev]*(-Bx_IGRF[lat, lon, lev]*Un_y_TIEGCM[lat, lon, lev]/bnorm[lat, lon, lev] + By_IGRF[lat, lon, lev]*Un_x_TIEGCM[lat, lon, lev]/bnorm[lat, lon, lev]) - Bz_IGRF[lat, lon, lev]*(-By_IGRF[lat, lon, lev]*Un_z_TIEGCM[lat, lon, lev]/bnorm[lat, lon, lev] + Bz_IGRF[lat, lon, lev]*Un_y_TIEGCM[lat, lon, lev]/bnorm[lat, lon, lev]) + Everty[lat, lon, lev])/bnorm[lat, lon, lev])*(2*By_IGRF[lat, lon, lev]*(-Bx_IGRF[lat, lon, lev]*(-Bx_IGRF[lat, lon, lev]*Un_z_TIEGCM[lat, lon, lev]/bnorm[lat, lon, lev]**2 + Bz_IGRF[lat, lon, lev]*Un_x_TIEGCM[lat, lon, lev]/bnorm[lat, lon, lev]**2) + By_IGRF[lat, lon, lev]*(By_IGRF[lat, lon, lev]*Un_z_TIEGCM[lat, lon, lev]/bnorm[lat, lon, lev]**2 - Bz_IGRF[lat, lon, lev]*Un_y_TIEGCM[lat, lon, lev]/bnorm[lat, lon, lev]**2))/bnorm[lat, lon, lev] - 2*By_IGRF[lat, lon, lev]*(-Bx_IGRF[lat, lon, lev]*(Bx_IGRF[lat, lon, lev]*Un_z_TIEGCM[lat, lon, lev]/bnorm[lat, lon, lev] - Bz_IGRF[lat, lon, lev]*Un_x_TIEGCM[lat, lon, lev]/bnorm[lat, lon, lev]) + By_IGRF[lat, lon, lev]*(-By_IGRF[lat, lon, lev]*Un_z_TIEGCM[lat, lon, lev]/bnorm[lat, lon, lev] + Bz_IGRF[lat, lon, lev]*Un_y_TIEGCM[lat, lon, lev]/bnorm[lat, lon, lev]) + Evertz[lat, lon, lev])/bnorm[lat, lon, lev]**2 - 2*Bz_IGRF[lat, lon, lev]*(Bx_IGRF[lat, lon, lev]*(Bx_IGRF[lat, lon, lev]*Un_y_TIEGCM[lat, lon, lev]/bnorm[lat, lon, lev]**2 - By_IGRF[lat, lon, lev]*Un_x_TIEGCM[lat, lon, lev]/bnorm[lat, lon, lev]**2) - Bz_IGRF[lat, lon, lev]*(By_IGRF[lat, lon, lev]*Un_z_TIEGCM[lat, lon, lev]/bnorm[lat, lon, lev]**2 - Bz_IGRF[lat, lon, lev]*Un_y_TIEGCM[lat, lon, lev]/bnorm[lat, lon, lev]**2))/bnorm[lat, lon, lev] + 2*Bz_IGRF[lat, lon, lev]*(Bx_IGRF[lat, lon, lev]*(-Bx_IGRF[lat, lon, lev]*Un_y_TIEGCM[lat, lon, lev]/bnorm[lat, lon, lev] + By_IGRF[lat, lon, lev]*Un_x_TIEGCM[lat, lon, lev]/bnorm[lat, lon, lev]) - Bz_IGRF[lat, lon, lev]*(-By_IGRF[lat, lon, lev]*Un_z_TIEGCM[lat, lon, lev]/bnorm[lat, lon, lev] + Bz_IGRF[lat, lon, lev]*Un_y_TIEGCM[lat, lon, lev]/bnorm[lat, lon, lev]) + Everty[lat, lon, lev])/bnorm[lat, lon, lev]**2)/2)/sy.sqrt((-Bx_IGRF[lat, lon, lev]*(-Bx_IGRF[lat, lon, lev]*(Bx_IGRF[lat, lon, lev]*Un_z_TIEGCM[lat, lon, lev]/bnorm[lat, lon, lev] - Bz_IGRF[lat, lon, lev]*Un_x_TIEGCM[lat, lon, lev]/bnorm[lat, lon, lev]) + By_IGRF[lat, lon, lev]*(-By_IGRF[lat, lon, lev]*Un_z_TIEGCM[lat, lon, lev]/bnorm[lat, lon, lev] + Bz_IGRF[lat, lon, lev]*Un_y_TIEGCM[lat, lon, lev]/bnorm[lat, lon, lev]) + Evertz[lat, lon, lev])/bnorm[lat, lon, lev] + Bz_IGRF[lat, lon, lev]*(-By_IGRF[lat, lon, lev]*(-Bx_IGRF[lat, lon, lev]*Un_y_TIEGCM[lat, lon, lev]/bnorm[lat, lon, lev] + By_IGRF[lat, lon, lev]*Un_x_TIEGCM[lat, lon, lev]/bnorm[lat, lon, lev]) + Bz_IGRF[lat, lon, lev]*(Bx_IGRF[lat, lon, lev]*Un_z_TIEGCM[lat, lon, lev]/bnorm[lat, lon, lev] - Bz_IGRF[lat, lon, lev]*Un_x_TIEGCM[lat, lon, lev]/bnorm[lat, lon, lev]) + Evertx[lat, lon, lev])/bnorm[lat, lon, lev])**2 + (Bx_IGRF[lat, lon, lev]*(-Bx_IGRF[lat, lon, lev]*(Bx_IGRF[lat, lon, lev]*Un_z_TIEGCM[lat, lon, lev]/bnorm[lat, lon, lev] - Bz_IGRF[lat, lon, lev]*Un_x_TIEGCM[lat, lon, lev]/bnorm[lat, lon, lev]) + By_IGRF[lat, lon, lev]*(-By_IGRF[lat, lon, lev]*Un_z_TIEGCM[lat, lon, lev]/bnorm[lat, lon, lev] + Bz_IGRF[lat, lon, lev]*Un_y_TIEGCM[lat, lon, lev]/bnorm[lat, lon, lev]) + Evertz[lat, lon, lev])/bnorm[lat, lon, lev] - By_IGRF[lat, lon, lev]*(-By_IGRF[lat, lon, lev]*(-Bx_IGRF[lat, lon, lev]*Un_y_TIEGCM[lat, lon, lev]/bnorm[lat, lon, lev] + By_IGRF[lat, lon, lev]*Un_x_TIEGCM[lat, lon, lev]/bnorm[lat, lon, lev]) + Bz_IGRF[lat, lon, lev]*(Bx_IGRF[lat, lon, lev]*Un_z_TIEGCM[lat, lon, lev]/bnorm[lat, lon, lev] - Bz_IGRF[lat, lon, lev]*Un_x_TIEGCM[lat, lon, lev]/bnorm[lat, lon, lev]) + Evertx[lat, lon, lev])/bnorm[lat, lon, lev])**2 + (By_IGRF[lat, lon, lev]*(-Bx_IGRF[lat, lon, lev]*(Bx_IGRF[lat, lon, lev]*Un_z_TIEGCM[lat, lon, lev]/bnorm[lat, lon, lev] - Bz_IGRF[lat, lon, lev]*Un_x_TIEGCM[lat, lon, lev]/bnorm[lat, lon, lev]) + By_IGRF[lat, lon, lev]*(-By_IGRF[lat, lon, lev]*Un_z_TIEGCM[lat, lon, lev]/bnorm[lat, lon, lev] + Bz_IGRF[lat, lon, lev]*Un_y_TIEGCM[lat, lon, lev]/bnorm[lat, lon, lev]) + Evertz[lat, lon, lev])/bnorm[lat, lon, lev] - Bz_IGRF[lat, lon, lev]*(Bx_IGRF[lat, lon, lev]*(-Bx_IGRF[lat, lon, lev]*Un_y_TIEGCM[lat, lon, lev]/bnorm[lat, lon, lev] + By_IGRF[lat, lon, lev]*Un_x_TIEGCM[lat, lon, lev]/bnorm[lat, lon, lev]) - Bz_IGRF[lat, lon, lev]*(-By_IGRF[lat, lon, lev]*Un_z_TIEGCM[lat, lon, lev]/bnorm[lat, lon, lev] + Bz_IGRF[lat, lon, lev]*Un_y_TIEGCM[lat, lon, lev]/bnorm[lat, lon, lev]) + Everty[lat, lon, lev])/bnorm[lat, lon, lev])**2)) ** 2\n",
    "\n",
    "                # #####################################################################################################\n",
    "                eq_5_2 = Jh_eq_1 * (Hall_error_act) ** 2 + Jh_eq_2 * (Bx_error_act) ** 2 + Jh_eq_3 * (By_error_act) ** 2 + \\\n",
    "                         Jh_eq_4 * (Bz_error_act) ** 2 + Jh_eq_5 * (Ex_error_act) ** 2 + Jh_eq_6 * (Ey_error_act) ** 2 + \\\n",
    "                         Jh_eq_7 * (Ez_error_act) ** 2 + Jh_eq_8 * (Unx_error_act) ** 2 + Jh_eq_9 * (Uny_error_act) ** 2 + \\\n",
    "                         Jh_eq_10 * (Unz_error_act) ** 2 + Jh_eq_11 * (dbnorm_squared)\n",
    "\n",
    "                Hall_current_error[lat, lon, lev] = sy.sqrt(eq_5_2).evalf()\n",
    "                Hall_current_error_max[lat, lon, lev] = Hall_current[lat, lon, lev] + Hall_current_error[lat, lon, lev]\n",
    "                Hall_current_error_min[lat, lon, lev] = Hall_current[lat, lon, lev] - Hall_current_error[lat, lon, lev]\n",
    "\n",
    "                # ############################### TOTAL Current ###############################################\n",
    "\n",
    "                # dSigmaP\n",
    "                Jt_eq_1 = (((Hall_TIEGCM[lat, lon, lev]*(-Bx_IGRF[lat, lon, lev]*(-Bx_IGRF[lat, lon, lev]*(Bx_IGRF[lat, lon, lev]*Un_z_TIEGCM[lat, lon, lev]/bnorm[lat, lon, lev] - Bz_IGRF[lat, lon, lev]*Un_x_TIEGCM[lat, lon, lev]/bnorm[lat, lon, lev]) + By_IGRF[lat, lon, lev]*(-By_IGRF[lat, lon, lev]*Un_z_TIEGCM[lat, lon, lev]/bnorm[lat, lon, lev] + Bz_IGRF[lat, lon, lev]*Un_y_TIEGCM[lat, lon, lev]/bnorm[lat, lon, lev]) + Evertz[lat, lon, lev])/bnorm[lat, lon, lev] + Bz_IGRF[lat, lon, lev]*(-By_IGRF[lat, lon, lev]*(-Bx_IGRF[lat, lon, lev]*Un_y_TIEGCM[lat, lon, lev]/bnorm[lat, lon, lev] + By_IGRF[lat, lon, lev]*Un_x_TIEGCM[lat, lon, lev]/bnorm[lat, lon, lev]) + Bz_IGRF[lat, lon, lev]*(Bx_IGRF[lat, lon, lev]*Un_z_TIEGCM[lat, lon, lev]/bnorm[lat, lon, lev] - Bz_IGRF[lat, lon, lev]*Un_x_TIEGCM[lat, lon, lev]/bnorm[lat, lon, lev]) + Evertx[lat, lon, lev])/bnorm[lat, lon, lev]) + Pedersen_TIEGCM[lat, lon, lev]*(Bx_IGRF[lat, lon, lev]*(-Bx_IGRF[lat, lon, lev]*Un_y_TIEGCM[lat, lon, lev]/bnorm[lat, lon, lev] + By_IGRF[lat, lon, lev]*Un_x_TIEGCM[lat, lon, lev]/bnorm[lat, lon, lev]) - Bz_IGRF[lat, lon, lev]*(-By_IGRF[lat, lon, lev]*Un_z_TIEGCM[lat, lon, lev]/bnorm[lat, lon, lev] + Bz_IGRF[lat, lon, lev]*Un_y_TIEGCM[lat, lon, lev]/bnorm[lat, lon, lev]) + Everty[lat, lon, lev]))*(2*Bx_IGRF[lat, lon, lev]*(-Bx_IGRF[lat, lon, lev]*Un_y_TIEGCM[lat, lon, lev]/bnorm[lat, lon, lev] + By_IGRF[lat, lon, lev]*Un_x_TIEGCM[lat, lon, lev]/bnorm[lat, lon, lev]) - 2*Bz_IGRF[lat, lon, lev]*(-By_IGRF[lat, lon, lev]*Un_z_TIEGCM[lat, lon, lev]/bnorm[lat, lon, lev] + Bz_IGRF[lat, lon, lev]*Un_y_TIEGCM[lat, lon, lev]/bnorm[lat, lon, lev]) + 2*Everty[lat, lon, lev])/2 + (Hall_TIEGCM[lat, lon, lev]*(Bx_IGRF[lat, lon, lev]*(-Bx_IGRF[lat, lon, lev]*(Bx_IGRF[lat, lon, lev]*Un_z_TIEGCM[lat, lon, lev]/bnorm[lat, lon, lev] - Bz_IGRF[lat, lon, lev]*Un_x_TIEGCM[lat, lon, lev]/bnorm[lat, lon, lev]) + By_IGRF[lat, lon, lev]*(-By_IGRF[lat, lon, lev]*Un_z_TIEGCM[lat, lon, lev]/bnorm[lat, lon, lev] + Bz_IGRF[lat, lon, lev]*Un_y_TIEGCM[lat, lon, lev]/bnorm[lat, lon, lev]) + Evertz[lat, lon, lev])/bnorm[lat, lon, lev] - By_IGRF[lat, lon, lev]*(-By_IGRF[lat, lon, lev]*(-Bx_IGRF[lat, lon, lev]*Un_y_TIEGCM[lat, lon, lev]/bnorm[lat, lon, lev] + By_IGRF[lat, lon, lev]*Un_x_TIEGCM[lat, lon, lev]/bnorm[lat, lon, lev]) + Bz_IGRF[lat, lon, lev]*(Bx_IGRF[lat, lon, lev]*Un_z_TIEGCM[lat, lon, lev]/bnorm[lat, lon, lev] - Bz_IGRF[lat, lon, lev]*Un_x_TIEGCM[lat, lon, lev]/bnorm[lat, lon, lev]) + Evertx[lat, lon, lev])/bnorm[lat, lon, lev]) + Pedersen_TIEGCM[lat, lon, lev]*(-Bx_IGRF[lat, lon, lev]*(Bx_IGRF[lat, lon, lev]*Un_z_TIEGCM[lat, lon, lev]/bnorm[lat, lon, lev] - Bz_IGRF[lat, lon, lev]*Un_x_TIEGCM[lat, lon, lev]/bnorm[lat, lon, lev]) + By_IGRF[lat, lon, lev]*(-By_IGRF[lat, lon, lev]*Un_z_TIEGCM[lat, lon, lev]/bnorm[lat, lon, lev] + Bz_IGRF[lat, lon, lev]*Un_y_TIEGCM[lat, lon, lev]/bnorm[lat, lon, lev]) + Evertz[lat, lon, lev]))*(-2*Bx_IGRF[lat, lon, lev]*(Bx_IGRF[lat, lon, lev]*Un_z_TIEGCM[lat, lon, lev]/bnorm[lat, lon, lev] - Bz_IGRF[lat, lon, lev]*Un_x_TIEGCM[lat, lon, lev]/bnorm[lat, lon, lev]) + 2*By_IGRF[lat, lon, lev]*(-By_IGRF[lat, lon, lev]*Un_z_TIEGCM[lat, lon, lev]/bnorm[lat, lon, lev] + Bz_IGRF[lat, lon, lev]*Un_y_TIEGCM[lat, lon, lev]/bnorm[lat, lon, lev]) + 2*Evertz[lat, lon, lev])/2 + (Hall_TIEGCM[lat, lon, lev]*(By_IGRF[lat, lon, lev]*(-Bx_IGRF[lat, lon, lev]*(Bx_IGRF[lat, lon, lev]*Un_z_TIEGCM[lat, lon, lev]/bnorm[lat, lon, lev] - Bz_IGRF[lat, lon, lev]*Un_x_TIEGCM[lat, lon, lev]/bnorm[lat, lon, lev]) + By_IGRF[lat, lon, lev]*(-By_IGRF[lat, lon, lev]*Un_z_TIEGCM[lat, lon, lev]/bnorm[lat, lon, lev] + Bz_IGRF[lat, lon, lev]*Un_y_TIEGCM[lat, lon, lev]/bnorm[lat, lon, lev]) + Evertz[lat, lon, lev])/bnorm[lat, lon, lev] - Bz_IGRF[lat, lon, lev]*(Bx_IGRF[lat, lon, lev]*(-Bx_IGRF[lat, lon, lev]*Un_y_TIEGCM[lat, lon, lev]/bnorm[lat, lon, lev] + By_IGRF[lat, lon, lev]*Un_x_TIEGCM[lat, lon, lev]/bnorm[lat, lon, lev]) - Bz_IGRF[lat, lon, lev]*(-By_IGRF[lat, lon, lev]*Un_z_TIEGCM[lat, lon, lev]/bnorm[lat, lon, lev] + Bz_IGRF[lat, lon, lev]*Un_y_TIEGCM[lat, lon, lev]/bnorm[lat, lon, lev]) + Everty[lat, lon, lev])/bnorm[lat, lon, lev]) + Pedersen_TIEGCM[lat, lon, lev]*(-By_IGRF[lat, lon, lev]*(-Bx_IGRF[lat, lon, lev]*Un_y_TIEGCM[lat, lon, lev]/bnorm[lat, lon, lev] + By_IGRF[lat, lon, lev]*Un_x_TIEGCM[lat, lon, lev]/bnorm[lat, lon, lev]) + Bz_IGRF[lat, lon, lev]*(Bx_IGRF[lat, lon, lev]*Un_z_TIEGCM[lat, lon, lev]/bnorm[lat, lon, lev] - Bz_IGRF[lat, lon, lev]*Un_x_TIEGCM[lat, lon, lev]/bnorm[lat, lon, lev]) + Evertx[lat, lon, lev]))*(-2*By_IGRF[lat, lon, lev]*(-Bx_IGRF[lat, lon, lev]*Un_y_TIEGCM[lat, lon, lev]/bnorm[lat, lon, lev] + By_IGRF[lat, lon, lev]*Un_x_TIEGCM[lat, lon, lev]/bnorm[lat, lon, lev]) + 2*Bz_IGRF[lat, lon, lev]*(Bx_IGRF[lat, lon, lev]*Un_z_TIEGCM[lat, lon, lev]/bnorm[lat, lon, lev] - Bz_IGRF[lat, lon, lev]*Un_x_TIEGCM[lat, lon, lev]/bnorm[lat, lon, lev]) + 2*Evertx[lat, lon, lev])/2)/sy.sqrt((Hall_TIEGCM[lat, lon, lev]*(-Bx_IGRF[lat, lon, lev]*(-Bx_IGRF[lat, lon, lev]*(Bx_IGRF[lat, lon, lev]*Un_z_TIEGCM[lat, lon, lev]/bnorm[lat, lon, lev] - Bz_IGRF[lat, lon, lev]*Un_x_TIEGCM[lat, lon, lev]/bnorm[lat, lon, lev]) + By_IGRF[lat, lon, lev]*(-By_IGRF[lat, lon, lev]*Un_z_TIEGCM[lat, lon, lev]/bnorm[lat, lon, lev] + Bz_IGRF[lat, lon, lev]*Un_y_TIEGCM[lat, lon, lev]/bnorm[lat, lon, lev]) + Evertz[lat, lon, lev])/bnorm[lat, lon, lev] + Bz_IGRF[lat, lon, lev]*(-By_IGRF[lat, lon, lev]*(-Bx_IGRF[lat, lon, lev]*Un_y_TIEGCM[lat, lon, lev]/bnorm[lat, lon, lev] + By_IGRF[lat, lon, lev]*Un_x_TIEGCM[lat, lon, lev]/bnorm[lat, lon, lev]) + Bz_IGRF[lat, lon, lev]*(Bx_IGRF[lat, lon, lev]*Un_z_TIEGCM[lat, lon, lev]/bnorm[lat, lon, lev] - Bz_IGRF[lat, lon, lev]*Un_x_TIEGCM[lat, lon, lev]/bnorm[lat, lon, lev]) + Evertx[lat, lon, lev])/bnorm[lat, lon, lev]) + Pedersen_TIEGCM[lat, lon, lev]*(Bx_IGRF[lat, lon, lev]*(-Bx_IGRF[lat, lon, lev]*Un_y_TIEGCM[lat, lon, lev]/bnorm[lat, lon, lev] + By_IGRF[lat, lon, lev]*Un_x_TIEGCM[lat, lon, lev]/bnorm[lat, lon, lev]) - Bz_IGRF[lat, lon, lev]*(-By_IGRF[lat, lon, lev]*Un_z_TIEGCM[lat, lon, lev]/bnorm[lat, lon, lev] + Bz_IGRF[lat, lon, lev]*Un_y_TIEGCM[lat, lon, lev]/bnorm[lat, lon, lev]) + Everty[lat, lon, lev]))**2 + (Hall_TIEGCM[lat, lon, lev]*(Bx_IGRF[lat, lon, lev]*(-Bx_IGRF[lat, lon, lev]*(Bx_IGRF[lat, lon, lev]*Un_z_TIEGCM[lat, lon, lev]/bnorm[lat, lon, lev] - Bz_IGRF[lat, lon, lev]*Un_x_TIEGCM[lat, lon, lev]/bnorm[lat, lon, lev]) + By_IGRF[lat, lon, lev]*(-By_IGRF[lat, lon, lev]*Un_z_TIEGCM[lat, lon, lev]/bnorm[lat, lon, lev] + Bz_IGRF[lat, lon, lev]*Un_y_TIEGCM[lat, lon, lev]/bnorm[lat, lon, lev]) + Evertz[lat, lon, lev])/bnorm[lat, lon, lev] - By_IGRF[lat, lon, lev]*(-By_IGRF[lat, lon, lev]*(-Bx_IGRF[lat, lon, lev]*Un_y_TIEGCM[lat, lon, lev]/bnorm[lat, lon, lev] + By_IGRF[lat, lon, lev]*Un_x_TIEGCM[lat, lon, lev]/bnorm[lat, lon, lev]) + Bz_IGRF[lat, lon, lev]*(Bx_IGRF[lat, lon, lev]*Un_z_TIEGCM[lat, lon, lev]/bnorm[lat, lon, lev] - Bz_IGRF[lat, lon, lev]*Un_x_TIEGCM[lat, lon, lev]/bnorm[lat, lon, lev]) + Evertx[lat, lon, lev])/bnorm[lat, lon, lev]) + Pedersen_TIEGCM[lat, lon, lev]*(-Bx_IGRF[lat, lon, lev]*(Bx_IGRF[lat, lon, lev]*Un_z_TIEGCM[lat, lon, lev]/bnorm[lat, lon, lev] - Bz_IGRF[lat, lon, lev]*Un_x_TIEGCM[lat, lon, lev]/bnorm[lat, lon, lev]) + By_IGRF[lat, lon, lev]*(-By_IGRF[lat, lon, lev]*Un_z_TIEGCM[lat, lon, lev]/bnorm[lat, lon, lev] + Bz_IGRF[lat, lon, lev]*Un_y_TIEGCM[lat, lon, lev]/bnorm[lat, lon, lev]) + Evertz[lat, lon, lev]))**2 + (Hall_TIEGCM[lat, lon, lev]*(By_IGRF[lat, lon, lev]*(-Bx_IGRF[lat, lon, lev]*(Bx_IGRF[lat, lon, lev]*Un_z_TIEGCM[lat, lon, lev]/bnorm[lat, lon, lev] - Bz_IGRF[lat, lon, lev]*Un_x_TIEGCM[lat, lon, lev]/bnorm[lat, lon, lev]) + By_IGRF[lat, lon, lev]*(-By_IGRF[lat, lon, lev]*Un_z_TIEGCM[lat, lon, lev]/bnorm[lat, lon, lev] + Bz_IGRF[lat, lon, lev]*Un_y_TIEGCM[lat, lon, lev]/bnorm[lat, lon, lev]) + Evertz[lat, lon, lev])/bnorm[lat, lon, lev] - Bz_IGRF[lat, lon, lev]*(Bx_IGRF[lat, lon, lev]*(-Bx_IGRF[lat, lon, lev]*Un_y_TIEGCM[lat, lon, lev]/bnorm[lat, lon, lev] + By_IGRF[lat, lon, lev]*Un_x_TIEGCM[lat, lon, lev]/bnorm[lat, lon, lev]) - Bz_IGRF[lat, lon, lev]*(-By_IGRF[lat, lon, lev]*Un_z_TIEGCM[lat, lon, lev]/bnorm[lat, lon, lev] + Bz_IGRF[lat, lon, lev]*Un_y_TIEGCM[lat, lon, lev]/bnorm[lat, lon, lev]) + Everty[lat, lon, lev])/bnorm[lat, lon, lev]) + Pedersen_TIEGCM[lat, lon, lev]*(-By_IGRF[lat, lon, lev]*(-Bx_IGRF[lat, lon, lev]*Un_y_TIEGCM[lat, lon, lev]/bnorm[lat, lon, lev] + By_IGRF[lat, lon, lev]*Un_x_TIEGCM[lat, lon, lev]/bnorm[lat, lon, lev]) + Bz_IGRF[lat, lon, lev]*(Bx_IGRF[lat, lon, lev]*Un_z_TIEGCM[lat, lon, lev]/bnorm[lat, lon, lev] - Bz_IGRF[lat, lon, lev]*Un_x_TIEGCM[lat, lon, lev]/bnorm[lat, lon, lev]) + Evertx[lat, lon, lev]))**2)) ** 2\n",
    "\n",
    "                # dSigmaH\n",
    "                Jt_eq_2 = (((Hall_TIEGCM[lat, lon, lev]*(-Bx_IGRF[lat, lon, lev]*(-Bx_IGRF[lat, lon, lev]*(Bx_IGRF[lat, lon, lev]*Un_z_TIEGCM[lat, lon, lev]/bnorm[lat, lon, lev] - Bz_IGRF[lat, lon, lev]*Un_x_TIEGCM[lat, lon, lev]/bnorm[lat, lon, lev]) + By_IGRF[lat, lon, lev]*(-By_IGRF[lat, lon, lev]*Un_z_TIEGCM[lat, lon, lev]/bnorm[lat, lon, lev] + Bz_IGRF[lat, lon, lev]*Un_y_TIEGCM[lat, lon, lev]/bnorm[lat, lon, lev]) + Evertz[lat, lon, lev])/bnorm[lat, lon, lev] + Bz_IGRF[lat, lon, lev]*(-By_IGRF[lat, lon, lev]*(-Bx_IGRF[lat, lon, lev]*Un_y_TIEGCM[lat, lon, lev]/bnorm[lat, lon, lev] + By_IGRF[lat, lon, lev]*Un_x_TIEGCM[lat, lon, lev]/bnorm[lat, lon, lev]) + Bz_IGRF[lat, lon, lev]*(Bx_IGRF[lat, lon, lev]*Un_z_TIEGCM[lat, lon, lev]/bnorm[lat, lon, lev] - Bz_IGRF[lat, lon, lev]*Un_x_TIEGCM[lat, lon, lev]/bnorm[lat, lon, lev]) + Evertx[lat, lon, lev])/bnorm[lat, lon, lev]) + Pedersen_TIEGCM[lat, lon, lev]*(Bx_IGRF[lat, lon, lev]*(-Bx_IGRF[lat, lon, lev]*Un_y_TIEGCM[lat, lon, lev]/bnorm[lat, lon, lev] + By_IGRF[lat, lon, lev]*Un_x_TIEGCM[lat, lon, lev]/bnorm[lat, lon, lev]) - Bz_IGRF[lat, lon, lev]*(-By_IGRF[lat, lon, lev]*Un_z_TIEGCM[lat, lon, lev]/bnorm[lat, lon, lev] + Bz_IGRF[lat, lon, lev]*Un_y_TIEGCM[lat, lon, lev]/bnorm[lat, lon, lev]) + Everty[lat, lon, lev]))*(-2*Bx_IGRF[lat, lon, lev]*(-Bx_IGRF[lat, lon, lev]*(Bx_IGRF[lat, lon, lev]*Un_z_TIEGCM[lat, lon, lev]/bnorm[lat, lon, lev] - Bz_IGRF[lat, lon, lev]*Un_x_TIEGCM[lat, lon, lev]/bnorm[lat, lon, lev]) + By_IGRF[lat, lon, lev]*(-By_IGRF[lat, lon, lev]*Un_z_TIEGCM[lat, lon, lev]/bnorm[lat, lon, lev] + Bz_IGRF[lat, lon, lev]*Un_y_TIEGCM[lat, lon, lev]/bnorm[lat, lon, lev]) + Evertz[lat, lon, lev])/bnorm[lat, lon, lev] + 2*Bz_IGRF[lat, lon, lev]*(-By_IGRF[lat, lon, lev]*(-Bx_IGRF[lat, lon, lev]*Un_y_TIEGCM[lat, lon, lev]/bnorm[lat, lon, lev] + By_IGRF[lat, lon, lev]*Un_x_TIEGCM[lat, lon, lev]/bnorm[lat, lon, lev]) + Bz_IGRF[lat, lon, lev]*(Bx_IGRF[lat, lon, lev]*Un_z_TIEGCM[lat, lon, lev]/bnorm[lat, lon, lev] - Bz_IGRF[lat, lon, lev]*Un_x_TIEGCM[lat, lon, lev]/bnorm[lat, lon, lev]) + Evertx[lat, lon, lev])/bnorm[lat, lon, lev])/2 + (Hall_TIEGCM[lat, lon, lev]*(Bx_IGRF[lat, lon, lev]*(-Bx_IGRF[lat, lon, lev]*(Bx_IGRF[lat, lon, lev]*Un_z_TIEGCM[lat, lon, lev]/bnorm[lat, lon, lev] - Bz_IGRF[lat, lon, lev]*Un_x_TIEGCM[lat, lon, lev]/bnorm[lat, lon, lev]) + By_IGRF[lat, lon, lev]*(-By_IGRF[lat, lon, lev]*Un_z_TIEGCM[lat, lon, lev]/bnorm[lat, lon, lev] + Bz_IGRF[lat, lon, lev]*Un_y_TIEGCM[lat, lon, lev]/bnorm[lat, lon, lev]) + Evertz[lat, lon, lev])/bnorm[lat, lon, lev] - By_IGRF[lat, lon, lev]*(-By_IGRF[lat, lon, lev]*(-Bx_IGRF[lat, lon, lev]*Un_y_TIEGCM[lat, lon, lev]/bnorm[lat, lon, lev] + By_IGRF[lat, lon, lev]*Un_x_TIEGCM[lat, lon, lev]/bnorm[lat, lon, lev]) + Bz_IGRF[lat, lon, lev]*(Bx_IGRF[lat, lon, lev]*Un_z_TIEGCM[lat, lon, lev]/bnorm[lat, lon, lev] - Bz_IGRF[lat, lon, lev]*Un_x_TIEGCM[lat, lon, lev]/bnorm[lat, lon, lev]) + Evertx[lat, lon, lev])/bnorm[lat, lon, lev]) + Pedersen_TIEGCM[lat, lon, lev]*(-Bx_IGRF[lat, lon, lev]*(Bx_IGRF[lat, lon, lev]*Un_z_TIEGCM[lat, lon, lev]/bnorm[lat, lon, lev] - Bz_IGRF[lat, lon, lev]*Un_x_TIEGCM[lat, lon, lev]/bnorm[lat, lon, lev]) + By_IGRF[lat, lon, lev]*(-By_IGRF[lat, lon, lev]*Un_z_TIEGCM[lat, lon, lev]/bnorm[lat, lon, lev] + Bz_IGRF[lat, lon, lev]*Un_y_TIEGCM[lat, lon, lev]/bnorm[lat, lon, lev]) + Evertz[lat, lon, lev]))*(2*Bx_IGRF[lat, lon, lev]*(-Bx_IGRF[lat, lon, lev]*(Bx_IGRF[lat, lon, lev]*Un_z_TIEGCM[lat, lon, lev]/bnorm[lat, lon, lev] - Bz_IGRF[lat, lon, lev]*Un_x_TIEGCM[lat, lon, lev]/bnorm[lat, lon, lev]) + By_IGRF[lat, lon, lev]*(-By_IGRF[lat, lon, lev]*Un_z_TIEGCM[lat, lon, lev]/bnorm[lat, lon, lev] + Bz_IGRF[lat, lon, lev]*Un_y_TIEGCM[lat, lon, lev]/bnorm[lat, lon, lev]) + Evertz[lat, lon, lev])/bnorm[lat, lon, lev] - 2*By_IGRF[lat, lon, lev]*(-By_IGRF[lat, lon, lev]*(-Bx_IGRF[lat, lon, lev]*Un_y_TIEGCM[lat, lon, lev]/bnorm[lat, lon, lev] + By_IGRF[lat, lon, lev]*Un_x_TIEGCM[lat, lon, lev]/bnorm[lat, lon, lev]) + Bz_IGRF[lat, lon, lev]*(Bx_IGRF[lat, lon, lev]*Un_z_TIEGCM[lat, lon, lev]/bnorm[lat, lon, lev] - Bz_IGRF[lat, lon, lev]*Un_x_TIEGCM[lat, lon, lev]/bnorm[lat, lon, lev]) + Evertx[lat, lon, lev])/bnorm[lat, lon, lev])/2 + (Hall_TIEGCM[lat, lon, lev]*(By_IGRF[lat, lon, lev]*(-Bx_IGRF[lat, lon, lev]*(Bx_IGRF[lat, lon, lev]*Un_z_TIEGCM[lat, lon, lev]/bnorm[lat, lon, lev] - Bz_IGRF[lat, lon, lev]*Un_x_TIEGCM[lat, lon, lev]/bnorm[lat, lon, lev]) + By_IGRF[lat, lon, lev]*(-By_IGRF[lat, lon, lev]*Un_z_TIEGCM[lat, lon, lev]/bnorm[lat, lon, lev] + Bz_IGRF[lat, lon, lev]*Un_y_TIEGCM[lat, lon, lev]/bnorm[lat, lon, lev]) + Evertz[lat, lon, lev])/bnorm[lat, lon, lev] - Bz_IGRF[lat, lon, lev]*(Bx_IGRF[lat, lon, lev]*(-Bx_IGRF[lat, lon, lev]*Un_y_TIEGCM[lat, lon, lev]/bnorm[lat, lon, lev] + By_IGRF[lat, lon, lev]*Un_x_TIEGCM[lat, lon, lev]/bnorm[lat, lon, lev]) - Bz_IGRF[lat, lon, lev]*(-By_IGRF[lat, lon, lev]*Un_z_TIEGCM[lat, lon, lev]/bnorm[lat, lon, lev] + Bz_IGRF[lat, lon, lev]*Un_y_TIEGCM[lat, lon, lev]/bnorm[lat, lon, lev]) + Everty[lat, lon, lev])/bnorm[lat, lon, lev]) + Pedersen_TIEGCM[lat, lon, lev]*(-By_IGRF[lat, lon, lev]*(-Bx_IGRF[lat, lon, lev]*Un_y_TIEGCM[lat, lon, lev]/bnorm[lat, lon, lev] + By_IGRF[lat, lon, lev]*Un_x_TIEGCM[lat, lon, lev]/bnorm[lat, lon, lev]) + Bz_IGRF[lat, lon, lev]*(Bx_IGRF[lat, lon, lev]*Un_z_TIEGCM[lat, lon, lev]/bnorm[lat, lon, lev] - Bz_IGRF[lat, lon, lev]*Un_x_TIEGCM[lat, lon, lev]/bnorm[lat, lon, lev]) + Evertx[lat, lon, lev]))*(2*By_IGRF[lat, lon, lev]*(-Bx_IGRF[lat, lon, lev]*(Bx_IGRF[lat, lon, lev]*Un_z_TIEGCM[lat, lon, lev]/bnorm[lat, lon, lev] - Bz_IGRF[lat, lon, lev]*Un_x_TIEGCM[lat, lon, lev]/bnorm[lat, lon, lev]) + By_IGRF[lat, lon, lev]*(-By_IGRF[lat, lon, lev]*Un_z_TIEGCM[lat, lon, lev]/bnorm[lat, lon, lev] + Bz_IGRF[lat, lon, lev]*Un_y_TIEGCM[lat, lon, lev]/bnorm[lat, lon, lev]) + Evertz[lat, lon, lev])/bnorm[lat, lon, lev] - 2*Bz_IGRF[lat, lon, lev]*(Bx_IGRF[lat, lon, lev]*(-Bx_IGRF[lat, lon, lev]*Un_y_TIEGCM[lat, lon, lev]/bnorm[lat, lon, lev] + By_IGRF[lat, lon, lev]*Un_x_TIEGCM[lat, lon, lev]/bnorm[lat, lon, lev]) - Bz_IGRF[lat, lon, lev]*(-By_IGRF[lat, lon, lev]*Un_z_TIEGCM[lat, lon, lev]/bnorm[lat, lon, lev] + Bz_IGRF[lat, lon, lev]*Un_y_TIEGCM[lat, lon, lev]/bnorm[lat, lon, lev]) + Everty[lat, lon, lev])/bnorm[lat, lon, lev])/2)/sy.sqrt((Hall_TIEGCM[lat, lon, lev]*(-Bx_IGRF[lat, lon, lev]*(-Bx_IGRF[lat, lon, lev]*(Bx_IGRF[lat, lon, lev]*Un_z_TIEGCM[lat, lon, lev]/bnorm[lat, lon, lev] - Bz_IGRF[lat, lon, lev]*Un_x_TIEGCM[lat, lon, lev]/bnorm[lat, lon, lev]) + By_IGRF[lat, lon, lev]*(-By_IGRF[lat, lon, lev]*Un_z_TIEGCM[lat, lon, lev]/bnorm[lat, lon, lev] + Bz_IGRF[lat, lon, lev]*Un_y_TIEGCM[lat, lon, lev]/bnorm[lat, lon, lev]) + Evertz[lat, lon, lev])/bnorm[lat, lon, lev] + Bz_IGRF[lat, lon, lev]*(-By_IGRF[lat, lon, lev]*(-Bx_IGRF[lat, lon, lev]*Un_y_TIEGCM[lat, lon, lev]/bnorm[lat, lon, lev] + By_IGRF[lat, lon, lev]*Un_x_TIEGCM[lat, lon, lev]/bnorm[lat, lon, lev]) + Bz_IGRF[lat, lon, lev]*(Bx_IGRF[lat, lon, lev]*Un_z_TIEGCM[lat, lon, lev]/bnorm[lat, lon, lev] - Bz_IGRF[lat, lon, lev]*Un_x_TIEGCM[lat, lon, lev]/bnorm[lat, lon, lev]) + Evertx[lat, lon, lev])/bnorm[lat, lon, lev]) + Pedersen_TIEGCM[lat, lon, lev]*(Bx_IGRF[lat, lon, lev]*(-Bx_IGRF[lat, lon, lev]*Un_y_TIEGCM[lat, lon, lev]/bnorm[lat, lon, lev] + By_IGRF[lat, lon, lev]*Un_x_TIEGCM[lat, lon, lev]/bnorm[lat, lon, lev]) - Bz_IGRF[lat, lon, lev]*(-By_IGRF[lat, lon, lev]*Un_z_TIEGCM[lat, lon, lev]/bnorm[lat, lon, lev] + Bz_IGRF[lat, lon, lev]*Un_y_TIEGCM[lat, lon, lev]/bnorm[lat, lon, lev]) + Everty[lat, lon, lev]))**2 + (Hall_TIEGCM[lat, lon, lev]*(Bx_IGRF[lat, lon, lev]*(-Bx_IGRF[lat, lon, lev]*(Bx_IGRF[lat, lon, lev]*Un_z_TIEGCM[lat, lon, lev]/bnorm[lat, lon, lev] - Bz_IGRF[lat, lon, lev]*Un_x_TIEGCM[lat, lon, lev]/bnorm[lat, lon, lev]) + By_IGRF[lat, lon, lev]*(-By_IGRF[lat, lon, lev]*Un_z_TIEGCM[lat, lon, lev]/bnorm[lat, lon, lev] + Bz_IGRF[lat, lon, lev]*Un_y_TIEGCM[lat, lon, lev]/bnorm[lat, lon, lev]) + Evertz[lat, lon, lev])/bnorm[lat, lon, lev] - By_IGRF[lat, lon, lev]*(-By_IGRF[lat, lon, lev]*(-Bx_IGRF[lat, lon, lev]*Un_y_TIEGCM[lat, lon, lev]/bnorm[lat, lon, lev] + By_IGRF[lat, lon, lev]*Un_x_TIEGCM[lat, lon, lev]/bnorm[lat, lon, lev]) + Bz_IGRF[lat, lon, lev]*(Bx_IGRF[lat, lon, lev]*Un_z_TIEGCM[lat, lon, lev]/bnorm[lat, lon, lev] - Bz_IGRF[lat, lon, lev]*Un_x_TIEGCM[lat, lon, lev]/bnorm[lat, lon, lev]) + Evertx[lat, lon, lev])/bnorm[lat, lon, lev]) + Pedersen_TIEGCM[lat, lon, lev]*(-Bx_IGRF[lat, lon, lev]*(Bx_IGRF[lat, lon, lev]*Un_z_TIEGCM[lat, lon, lev]/bnorm[lat, lon, lev] - Bz_IGRF[lat, lon, lev]*Un_x_TIEGCM[lat, lon, lev]/bnorm[lat, lon, lev]) + By_IGRF[lat, lon, lev]*(-By_IGRF[lat, lon, lev]*Un_z_TIEGCM[lat, lon, lev]/bnorm[lat, lon, lev] + Bz_IGRF[lat, lon, lev]*Un_y_TIEGCM[lat, lon, lev]/bnorm[lat, lon, lev]) + Evertz[lat, lon, lev]))**2 + (Hall_TIEGCM[lat, lon, lev]*(By_IGRF[lat, lon, lev]*(-Bx_IGRF[lat, lon, lev]*(Bx_IGRF[lat, lon, lev]*Un_z_TIEGCM[lat, lon, lev]/bnorm[lat, lon, lev] - Bz_IGRF[lat, lon, lev]*Un_x_TIEGCM[lat, lon, lev]/bnorm[lat, lon, lev]) + By_IGRF[lat, lon, lev]*(-By_IGRF[lat, lon, lev]*Un_z_TIEGCM[lat, lon, lev]/bnorm[lat, lon, lev] + Bz_IGRF[lat, lon, lev]*Un_y_TIEGCM[lat, lon, lev]/bnorm[lat, lon, lev]) + Evertz[lat, lon, lev])/bnorm[lat, lon, lev] - Bz_IGRF[lat, lon, lev]*(Bx_IGRF[lat, lon, lev]*(-Bx_IGRF[lat, lon, lev]*Un_y_TIEGCM[lat, lon, lev]/bnorm[lat, lon, lev] + By_IGRF[lat, lon, lev]*Un_x_TIEGCM[lat, lon, lev]/bnorm[lat, lon, lev]) - Bz_IGRF[lat, lon, lev]*(-By_IGRF[lat, lon, lev]*Un_z_TIEGCM[lat, lon, lev]/bnorm[lat, lon, lev] + Bz_IGRF[lat, lon, lev]*Un_y_TIEGCM[lat, lon, lev]/bnorm[lat, lon, lev]) + Everty[lat, lon, lev])/bnorm[lat, lon, lev]) + Pedersen_TIEGCM[lat, lon, lev]*(-By_IGRF[lat, lon, lev]*(-Bx_IGRF[lat, lon, lev]*Un_y_TIEGCM[lat, lon, lev]/bnorm[lat, lon, lev] + By_IGRF[lat, lon, lev]*Un_x_TIEGCM[lat, lon, lev]/bnorm[lat, lon, lev]) + Bz_IGRF[lat, lon, lev]*(Bx_IGRF[lat, lon, lev]*Un_z_TIEGCM[lat, lon, lev]/bnorm[lat, lon, lev] - Bz_IGRF[lat, lon, lev]*Un_x_TIEGCM[lat, lon, lev]/bnorm[lat, lon, lev]) + Evertx[lat, lon, lev]))**2)) ** 2\n",
    "\n",
    "                # dBx\n",
    "                Jt_eq_3 = (((Hall_TIEGCM[lat, lon, lev]*(-Bx_IGRF[lat, lon, lev]*(-Bx_IGRF[lat, lon, lev]*(Bx_IGRF[lat, lon, lev]*Un_z_TIEGCM[lat, lon, lev]/bnorm[lat, lon, lev] - Bz_IGRF[lat, lon, lev]*Un_x_TIEGCM[lat, lon, lev]/bnorm[lat, lon, lev]) + By_IGRF[lat, lon, lev]*(-By_IGRF[lat, lon, lev]*Un_z_TIEGCM[lat, lon, lev]/bnorm[lat, lon, lev] + Bz_IGRF[lat, lon, lev]*Un_y_TIEGCM[lat, lon, lev]/bnorm[lat, lon, lev]) + Evertz[lat, lon, lev])/bnorm[lat, lon, lev] + Bz_IGRF[lat, lon, lev]*(-By_IGRF[lat, lon, lev]*(-Bx_IGRF[lat, lon, lev]*Un_y_TIEGCM[lat, lon, lev]/bnorm[lat, lon, lev] + By_IGRF[lat, lon, lev]*Un_x_TIEGCM[lat, lon, lev]/bnorm[lat, lon, lev]) + Bz_IGRF[lat, lon, lev]*(Bx_IGRF[lat, lon, lev]*Un_z_TIEGCM[lat, lon, lev]/bnorm[lat, lon, lev] - Bz_IGRF[lat, lon, lev]*Un_x_TIEGCM[lat, lon, lev]/bnorm[lat, lon, lev]) + Evertx[lat, lon, lev])/bnorm[lat, lon, lev]) + Pedersen_TIEGCM[lat, lon, lev]*(Bx_IGRF[lat, lon, lev]*(-Bx_IGRF[lat, lon, lev]*Un_y_TIEGCM[lat, lon, lev]/bnorm[lat, lon, lev] + By_IGRF[lat, lon, lev]*Un_x_TIEGCM[lat, lon, lev]/bnorm[lat, lon, lev]) - Bz_IGRF[lat, lon, lev]*(-By_IGRF[lat, lon, lev]*Un_z_TIEGCM[lat, lon, lev]/bnorm[lat, lon, lev] + Bz_IGRF[lat, lon, lev]*Un_y_TIEGCM[lat, lon, lev]/bnorm[lat, lon, lev]) + Everty[lat, lon, lev]))*(2*Hall_TIEGCM[lat, lon, lev]*(-Bx_IGRF[lat, lon, lev]*(-2*Bx_IGRF[lat, lon, lev]*Un_z_TIEGCM[lat, lon, lev]/bnorm[lat, lon, lev] + Bz_IGRF[lat, lon, lev]*Un_x_TIEGCM[lat, lon, lev]/bnorm[lat, lon, lev])/bnorm[lat, lon, lev] + Bz_IGRF[lat, lon, lev]*(By_IGRF[lat, lon, lev]*Un_y_TIEGCM[lat, lon, lev]/bnorm[lat, lon, lev] + Bz_IGRF[lat, lon, lev]*Un_z_TIEGCM[lat, lon, lev]/bnorm[lat, lon, lev])/bnorm[lat, lon, lev] - (-Bx_IGRF[lat, lon, lev]*(Bx_IGRF[lat, lon, lev]*Un_z_TIEGCM[lat, lon, lev]/bnorm[lat, lon, lev] - Bz_IGRF[lat, lon, lev]*Un_x_TIEGCM[lat, lon, lev]/bnorm[lat, lon, lev]) + By_IGRF[lat, lon, lev]*(-By_IGRF[lat, lon, lev]*Un_z_TIEGCM[lat, lon, lev]/bnorm[lat, lon, lev] + Bz_IGRF[lat, lon, lev]*Un_y_TIEGCM[lat, lon, lev]/bnorm[lat, lon, lev]) + Evertz[lat, lon, lev])/bnorm[lat, lon, lev]) + 2*Pedersen_TIEGCM[lat, lon, lev]*(-2*Bx_IGRF[lat, lon, lev]*Un_y_TIEGCM[lat, lon, lev]/bnorm[lat, lon, lev] + By_IGRF[lat, lon, lev]*Un_x_TIEGCM[lat, lon, lev]/bnorm[lat, lon, lev]))/2 + (Hall_TIEGCM[lat, lon, lev]*(Bx_IGRF[lat, lon, lev]*(-Bx_IGRF[lat, lon, lev]*(Bx_IGRF[lat, lon, lev]*Un_z_TIEGCM[lat, lon, lev]/bnorm[lat, lon, lev] - Bz_IGRF[lat, lon, lev]*Un_x_TIEGCM[lat, lon, lev]/bnorm[lat, lon, lev]) + By_IGRF[lat, lon, lev]*(-By_IGRF[lat, lon, lev]*Un_z_TIEGCM[lat, lon, lev]/bnorm[lat, lon, lev] + Bz_IGRF[lat, lon, lev]*Un_y_TIEGCM[lat, lon, lev]/bnorm[lat, lon, lev]) + Evertz[lat, lon, lev])/bnorm[lat, lon, lev] - By_IGRF[lat, lon, lev]*(-By_IGRF[lat, lon, lev]*(-Bx_IGRF[lat, lon, lev]*Un_y_TIEGCM[lat, lon, lev]/bnorm[lat, lon, lev] + By_IGRF[lat, lon, lev]*Un_x_TIEGCM[lat, lon, lev]/bnorm[lat, lon, lev]) + Bz_IGRF[lat, lon, lev]*(Bx_IGRF[lat, lon, lev]*Un_z_TIEGCM[lat, lon, lev]/bnorm[lat, lon, lev] - Bz_IGRF[lat, lon, lev]*Un_x_TIEGCM[lat, lon, lev]/bnorm[lat, lon, lev]) + Evertx[lat, lon, lev])/bnorm[lat, lon, lev]) + Pedersen_TIEGCM[lat, lon, lev]*(-Bx_IGRF[lat, lon, lev]*(Bx_IGRF[lat, lon, lev]*Un_z_TIEGCM[lat, lon, lev]/bnorm[lat, lon, lev] - Bz_IGRF[lat, lon, lev]*Un_x_TIEGCM[lat, lon, lev]/bnorm[lat, lon, lev]) + By_IGRF[lat, lon, lev]*(-By_IGRF[lat, lon, lev]*Un_z_TIEGCM[lat, lon, lev]/bnorm[lat, lon, lev] + Bz_IGRF[lat, lon, lev]*Un_y_TIEGCM[lat, lon, lev]/bnorm[lat, lon, lev]) + Evertz[lat, lon, lev]))*(2*Hall_TIEGCM[lat, lon, lev]*(Bx_IGRF[lat, lon, lev]*(-2*Bx_IGRF[lat, lon, lev]*Un_z_TIEGCM[lat, lon, lev]/bnorm[lat, lon, lev] + Bz_IGRF[lat, lon, lev]*Un_x_TIEGCM[lat, lon, lev]/bnorm[lat, lon, lev])/bnorm[lat, lon, lev] - By_IGRF[lat, lon, lev]*(By_IGRF[lat, lon, lev]*Un_y_TIEGCM[lat, lon, lev]/bnorm[lat, lon, lev] + Bz_IGRF[lat, lon, lev]*Un_z_TIEGCM[lat, lon, lev]/bnorm[lat, lon, lev])/bnorm[lat, lon, lev] + (-Bx_IGRF[lat, lon, lev]*(Bx_IGRF[lat, lon, lev]*Un_z_TIEGCM[lat, lon, lev]/bnorm[lat, lon, lev] - Bz_IGRF[lat, lon, lev]*Un_x_TIEGCM[lat, lon, lev]/bnorm[lat, lon, lev]) + By_IGRF[lat, lon, lev]*(-By_IGRF[lat, lon, lev]*Un_z_TIEGCM[lat, lon, lev]/bnorm[lat, lon, lev] + Bz_IGRF[lat, lon, lev]*Un_y_TIEGCM[lat, lon, lev]/bnorm[lat, lon, lev]) + Evertz[lat, lon, lev])/bnorm[lat, lon, lev]) + 2*Pedersen_TIEGCM[lat, lon, lev]*(-2*Bx_IGRF[lat, lon, lev]*Un_z_TIEGCM[lat, lon, lev]/bnorm[lat, lon, lev] + Bz_IGRF[lat, lon, lev]*Un_x_TIEGCM[lat, lon, lev]/bnorm[lat, lon, lev]))/2 + (2*Hall_TIEGCM[lat, lon, lev]*(By_IGRF[lat, lon, lev]*(-2*Bx_IGRF[lat, lon, lev]*Un_z_TIEGCM[lat, lon, lev]/bnorm[lat, lon, lev] + Bz_IGRF[lat, lon, lev]*Un_x_TIEGCM[lat, lon, lev]/bnorm[lat, lon, lev])/bnorm[lat, lon, lev] - Bz_IGRF[lat, lon, lev]*(-2*Bx_IGRF[lat, lon, lev]*Un_y_TIEGCM[lat, lon, lev]/bnorm[lat, lon, lev] + By_IGRF[lat, lon, lev]*Un_x_TIEGCM[lat, lon, lev]/bnorm[lat, lon, lev])/bnorm[lat, lon, lev]) + 2*Pedersen_TIEGCM[lat, lon, lev]*(By_IGRF[lat, lon, lev]*Un_y_TIEGCM[lat, lon, lev]/bnorm[lat, lon, lev] + Bz_IGRF[lat, lon, lev]*Un_z_TIEGCM[lat, lon, lev]/bnorm[lat, lon, lev]))*(Hall_TIEGCM[lat, lon, lev]*(By_IGRF[lat, lon, lev]*(-Bx_IGRF[lat, lon, lev]*(Bx_IGRF[lat, lon, lev]*Un_z_TIEGCM[lat, lon, lev]/bnorm[lat, lon, lev] - Bz_IGRF[lat, lon, lev]*Un_x_TIEGCM[lat, lon, lev]/bnorm[lat, lon, lev]) + By_IGRF[lat, lon, lev]*(-By_IGRF[lat, lon, lev]*Un_z_TIEGCM[lat, lon, lev]/bnorm[lat, lon, lev] + Bz_IGRF[lat, lon, lev]*Un_y_TIEGCM[lat, lon, lev]/bnorm[lat, lon, lev]) + Evertz[lat, lon, lev])/bnorm[lat, lon, lev] - Bz_IGRF[lat, lon, lev]*(Bx_IGRF[lat, lon, lev]*(-Bx_IGRF[lat, lon, lev]*Un_y_TIEGCM[lat, lon, lev]/bnorm[lat, lon, lev] + By_IGRF[lat, lon, lev]*Un_x_TIEGCM[lat, lon, lev]/bnorm[lat, lon, lev]) - Bz_IGRF[lat, lon, lev]*(-By_IGRF[lat, lon, lev]*Un_z_TIEGCM[lat, lon, lev]/bnorm[lat, lon, lev] + Bz_IGRF[lat, lon, lev]*Un_y_TIEGCM[lat, lon, lev]/bnorm[lat, lon, lev]) + Everty[lat, lon, lev])/bnorm[lat, lon, lev]) + Pedersen_TIEGCM[lat, lon, lev]*(-By_IGRF[lat, lon, lev]*(-Bx_IGRF[lat, lon, lev]*Un_y_TIEGCM[lat, lon, lev]/bnorm[lat, lon, lev] + By_IGRF[lat, lon, lev]*Un_x_TIEGCM[lat, lon, lev]/bnorm[lat, lon, lev]) + Bz_IGRF[lat, lon, lev]*(Bx_IGRF[lat, lon, lev]*Un_z_TIEGCM[lat, lon, lev]/bnorm[lat, lon, lev] - Bz_IGRF[lat, lon, lev]*Un_x_TIEGCM[lat, lon, lev]/bnorm[lat, lon, lev]) + Evertx[lat, lon, lev]))/2)/sy.sqrt((Hall_TIEGCM[lat, lon, lev]*(-Bx_IGRF[lat, lon, lev]*(-Bx_IGRF[lat, lon, lev]*(Bx_IGRF[lat, lon, lev]*Un_z_TIEGCM[lat, lon, lev]/bnorm[lat, lon, lev] - Bz_IGRF[lat, lon, lev]*Un_x_TIEGCM[lat, lon, lev]/bnorm[lat, lon, lev]) + By_IGRF[lat, lon, lev]*(-By_IGRF[lat, lon, lev]*Un_z_TIEGCM[lat, lon, lev]/bnorm[lat, lon, lev] + Bz_IGRF[lat, lon, lev]*Un_y_TIEGCM[lat, lon, lev]/bnorm[lat, lon, lev]) + Evertz[lat, lon, lev])/bnorm[lat, lon, lev] + Bz_IGRF[lat, lon, lev]*(-By_IGRF[lat, lon, lev]*(-Bx_IGRF[lat, lon, lev]*Un_y_TIEGCM[lat, lon, lev]/bnorm[lat, lon, lev] + By_IGRF[lat, lon, lev]*Un_x_TIEGCM[lat, lon, lev]/bnorm[lat, lon, lev]) + Bz_IGRF[lat, lon, lev]*(Bx_IGRF[lat, lon, lev]*Un_z_TIEGCM[lat, lon, lev]/bnorm[lat, lon, lev] - Bz_IGRF[lat, lon, lev]*Un_x_TIEGCM[lat, lon, lev]/bnorm[lat, lon, lev]) + Evertx[lat, lon, lev])/bnorm[lat, lon, lev]) + Pedersen_TIEGCM[lat, lon, lev]*(Bx_IGRF[lat, lon, lev]*(-Bx_IGRF[lat, lon, lev]*Un_y_TIEGCM[lat, lon, lev]/bnorm[lat, lon, lev] + By_IGRF[lat, lon, lev]*Un_x_TIEGCM[lat, lon, lev]/bnorm[lat, lon, lev]) - Bz_IGRF[lat, lon, lev]*(-By_IGRF[lat, lon, lev]*Un_z_TIEGCM[lat, lon, lev]/bnorm[lat, lon, lev] + Bz_IGRF[lat, lon, lev]*Un_y_TIEGCM[lat, lon, lev]/bnorm[lat, lon, lev]) + Everty[lat, lon, lev]))**2 + (Hall_TIEGCM[lat, lon, lev]*(Bx_IGRF[lat, lon, lev]*(-Bx_IGRF[lat, lon, lev]*(Bx_IGRF[lat, lon, lev]*Un_z_TIEGCM[lat, lon, lev]/bnorm[lat, lon, lev] - Bz_IGRF[lat, lon, lev]*Un_x_TIEGCM[lat, lon, lev]/bnorm[lat, lon, lev]) + By_IGRF[lat, lon, lev]*(-By_IGRF[lat, lon, lev]*Un_z_TIEGCM[lat, lon, lev]/bnorm[lat, lon, lev] + Bz_IGRF[lat, lon, lev]*Un_y_TIEGCM[lat, lon, lev]/bnorm[lat, lon, lev]) + Evertz[lat, lon, lev])/bnorm[lat, lon, lev] - By_IGRF[lat, lon, lev]*(-By_IGRF[lat, lon, lev]*(-Bx_IGRF[lat, lon, lev]*Un_y_TIEGCM[lat, lon, lev]/bnorm[lat, lon, lev] + By_IGRF[lat, lon, lev]*Un_x_TIEGCM[lat, lon, lev]/bnorm[lat, lon, lev]) + Bz_IGRF[lat, lon, lev]*(Bx_IGRF[lat, lon, lev]*Un_z_TIEGCM[lat, lon, lev]/bnorm[lat, lon, lev] - Bz_IGRF[lat, lon, lev]*Un_x_TIEGCM[lat, lon, lev]/bnorm[lat, lon, lev]) + Evertx[lat, lon, lev])/bnorm[lat, lon, lev]) + Pedersen_TIEGCM[lat, lon, lev]*(-Bx_IGRF[lat, lon, lev]*(Bx_IGRF[lat, lon, lev]*Un_z_TIEGCM[lat, lon, lev]/bnorm[lat, lon, lev] - Bz_IGRF[lat, lon, lev]*Un_x_TIEGCM[lat, lon, lev]/bnorm[lat, lon, lev]) + By_IGRF[lat, lon, lev]*(-By_IGRF[lat, lon, lev]*Un_z_TIEGCM[lat, lon, lev]/bnorm[lat, lon, lev] + Bz_IGRF[lat, lon, lev]*Un_y_TIEGCM[lat, lon, lev]/bnorm[lat, lon, lev]) + Evertz[lat, lon, lev]))**2 + (Hall_TIEGCM[lat, lon, lev]*(By_IGRF[lat, lon, lev]*(-Bx_IGRF[lat, lon, lev]*(Bx_IGRF[lat, lon, lev]*Un_z_TIEGCM[lat, lon, lev]/bnorm[lat, lon, lev] - Bz_IGRF[lat, lon, lev]*Un_x_TIEGCM[lat, lon, lev]/bnorm[lat, lon, lev]) + By_IGRF[lat, lon, lev]*(-By_IGRF[lat, lon, lev]*Un_z_TIEGCM[lat, lon, lev]/bnorm[lat, lon, lev] + Bz_IGRF[lat, lon, lev]*Un_y_TIEGCM[lat, lon, lev]/bnorm[lat, lon, lev]) + Evertz[lat, lon, lev])/bnorm[lat, lon, lev] - Bz_IGRF[lat, lon, lev]*(Bx_IGRF[lat, lon, lev]*(-Bx_IGRF[lat, lon, lev]*Un_y_TIEGCM[lat, lon, lev]/bnorm[lat, lon, lev] + By_IGRF[lat, lon, lev]*Un_x_TIEGCM[lat, lon, lev]/bnorm[lat, lon, lev]) - Bz_IGRF[lat, lon, lev]*(-By_IGRF[lat, lon, lev]*Un_z_TIEGCM[lat, lon, lev]/bnorm[lat, lon, lev] + Bz_IGRF[lat, lon, lev]*Un_y_TIEGCM[lat, lon, lev]/bnorm[lat, lon, lev]) + Everty[lat, lon, lev])/bnorm[lat, lon, lev]) + Pedersen_TIEGCM[lat, lon, lev]*(-By_IGRF[lat, lon, lev]*(-Bx_IGRF[lat, lon, lev]*Un_y_TIEGCM[lat, lon, lev]/bnorm[lat, lon, lev] + By_IGRF[lat, lon, lev]*Un_x_TIEGCM[lat, lon, lev]/bnorm[lat, lon, lev]) + Bz_IGRF[lat, lon, lev]*(Bx_IGRF[lat, lon, lev]*Un_z_TIEGCM[lat, lon, lev]/bnorm[lat, lon, lev] - Bz_IGRF[lat, lon, lev]*Un_x_TIEGCM[lat, lon, lev]/bnorm[lat, lon, lev]) + Evertx[lat, lon, lev]))**2)) ** 2\n",
    "\n",
    "                # dBy\n",
    "                Jt_eq_4 = (((2*Hall_TIEGCM[lat, lon, lev]*(-Bx_IGRF[lat, lon, lev]*(-2*By_IGRF[lat, lon, lev]*Un_z_TIEGCM[lat, lon, lev]/bnorm[lat, lon, lev] + Bz_IGRF[lat, lon, lev]*Un_y_TIEGCM[lat, lon, lev]/bnorm[lat, lon, lev])/bnorm[lat, lon, lev] + Bz_IGRF[lat, lon, lev]*(Bx_IGRF[lat, lon, lev]*Un_y_TIEGCM[lat, lon, lev]/bnorm[lat, lon, lev] - 2*By_IGRF[lat, lon, lev]*Un_x_TIEGCM[lat, lon, lev]/bnorm[lat, lon, lev])/bnorm[lat, lon, lev]) + 2*Pedersen_TIEGCM[lat, lon, lev]*(Bx_IGRF[lat, lon, lev]*Un_x_TIEGCM[lat, lon, lev]/bnorm[lat, lon, lev] + Bz_IGRF[lat, lon, lev]*Un_z_TIEGCM[lat, lon, lev]/bnorm[lat, lon, lev]))*(Hall_TIEGCM[lat, lon, lev]*(-Bx_IGRF[lat, lon, lev]*(-Bx_IGRF[lat, lon, lev]*(Bx_IGRF[lat, lon, lev]*Un_z_TIEGCM[lat, lon, lev]/bnorm[lat, lon, lev] - Bz_IGRF[lat, lon, lev]*Un_x_TIEGCM[lat, lon, lev]/bnorm[lat, lon, lev]) + By_IGRF[lat, lon, lev]*(-By_IGRF[lat, lon, lev]*Un_z_TIEGCM[lat, lon, lev]/bnorm[lat, lon, lev] + Bz_IGRF[lat, lon, lev]*Un_y_TIEGCM[lat, lon, lev]/bnorm[lat, lon, lev]) + Evertz[lat, lon, lev])/bnorm[lat, lon, lev] + Bz_IGRF[lat, lon, lev]*(-By_IGRF[lat, lon, lev]*(-Bx_IGRF[lat, lon, lev]*Un_y_TIEGCM[lat, lon, lev]/bnorm[lat, lon, lev] + By_IGRF[lat, lon, lev]*Un_x_TIEGCM[lat, lon, lev]/bnorm[lat, lon, lev]) + Bz_IGRF[lat, lon, lev]*(Bx_IGRF[lat, lon, lev]*Un_z_TIEGCM[lat, lon, lev]/bnorm[lat, lon, lev] - Bz_IGRF[lat, lon, lev]*Un_x_TIEGCM[lat, lon, lev]/bnorm[lat, lon, lev]) + Evertx[lat, lon, lev])/bnorm[lat, lon, lev]) + Pedersen_TIEGCM[lat, lon, lev]*(Bx_IGRF[lat, lon, lev]*(-Bx_IGRF[lat, lon, lev]*Un_y_TIEGCM[lat, lon, lev]/bnorm[lat, lon, lev] + By_IGRF[lat, lon, lev]*Un_x_TIEGCM[lat, lon, lev]/bnorm[lat, lon, lev]) - Bz_IGRF[lat, lon, lev]*(-By_IGRF[lat, lon, lev]*Un_z_TIEGCM[lat, lon, lev]/bnorm[lat, lon, lev] + Bz_IGRF[lat, lon, lev]*Un_y_TIEGCM[lat, lon, lev]/bnorm[lat, lon, lev]) + Everty[lat, lon, lev]))/2 + (Hall_TIEGCM[lat, lon, lev]*(Bx_IGRF[lat, lon, lev]*(-Bx_IGRF[lat, lon, lev]*(Bx_IGRF[lat, lon, lev]*Un_z_TIEGCM[lat, lon, lev]/bnorm[lat, lon, lev] - Bz_IGRF[lat, lon, lev]*Un_x_TIEGCM[lat, lon, lev]/bnorm[lat, lon, lev]) + By_IGRF[lat, lon, lev]*(-By_IGRF[lat, lon, lev]*Un_z_TIEGCM[lat, lon, lev]/bnorm[lat, lon, lev] + Bz_IGRF[lat, lon, lev]*Un_y_TIEGCM[lat, lon, lev]/bnorm[lat, lon, lev]) + Evertz[lat, lon, lev])/bnorm[lat, lon, lev] - By_IGRF[lat, lon, lev]*(-By_IGRF[lat, lon, lev]*(-Bx_IGRF[lat, lon, lev]*Un_y_TIEGCM[lat, lon, lev]/bnorm[lat, lon, lev] + By_IGRF[lat, lon, lev]*Un_x_TIEGCM[lat, lon, lev]/bnorm[lat, lon, lev]) + Bz_IGRF[lat, lon, lev]*(Bx_IGRF[lat, lon, lev]*Un_z_TIEGCM[lat, lon, lev]/bnorm[lat, lon, lev] - Bz_IGRF[lat, lon, lev]*Un_x_TIEGCM[lat, lon, lev]/bnorm[lat, lon, lev]) + Evertx[lat, lon, lev])/bnorm[lat, lon, lev]) + Pedersen_TIEGCM[lat, lon, lev]*(-Bx_IGRF[lat, lon, lev]*(Bx_IGRF[lat, lon, lev]*Un_z_TIEGCM[lat, lon, lev]/bnorm[lat, lon, lev] - Bz_IGRF[lat, lon, lev]*Un_x_TIEGCM[lat, lon, lev]/bnorm[lat, lon, lev]) + By_IGRF[lat, lon, lev]*(-By_IGRF[lat, lon, lev]*Un_z_TIEGCM[lat, lon, lev]/bnorm[lat, lon, lev] + Bz_IGRF[lat, lon, lev]*Un_y_TIEGCM[lat, lon, lev]/bnorm[lat, lon, lev]) + Evertz[lat, lon, lev]))*(2*Hall_TIEGCM[lat, lon, lev]*(Bx_IGRF[lat, lon, lev]*(-2*By_IGRF[lat, lon, lev]*Un_z_TIEGCM[lat, lon, lev]/bnorm[lat, lon, lev] + Bz_IGRF[lat, lon, lev]*Un_y_TIEGCM[lat, lon, lev]/bnorm[lat, lon, lev])/bnorm[lat, lon, lev] - By_IGRF[lat, lon, lev]*(Bx_IGRF[lat, lon, lev]*Un_y_TIEGCM[lat, lon, lev]/bnorm[lat, lon, lev] - 2*By_IGRF[lat, lon, lev]*Un_x_TIEGCM[lat, lon, lev]/bnorm[lat, lon, lev])/bnorm[lat, lon, lev] - (-By_IGRF[lat, lon, lev]*(-Bx_IGRF[lat, lon, lev]*Un_y_TIEGCM[lat, lon, lev]/bnorm[lat, lon, lev] + By_IGRF[lat, lon, lev]*Un_x_TIEGCM[lat, lon, lev]/bnorm[lat, lon, lev]) + Bz_IGRF[lat, lon, lev]*(Bx_IGRF[lat, lon, lev]*Un_z_TIEGCM[lat, lon, lev]/bnorm[lat, lon, lev] - Bz_IGRF[lat, lon, lev]*Un_x_TIEGCM[lat, lon, lev]/bnorm[lat, lon, lev]) + Evertx[lat, lon, lev])/bnorm[lat, lon, lev]) + 2*Pedersen_TIEGCM[lat, lon, lev]*(-2*By_IGRF[lat, lon, lev]*Un_z_TIEGCM[lat, lon, lev]/bnorm[lat, lon, lev] + Bz_IGRF[lat, lon, lev]*Un_y_TIEGCM[lat, lon, lev]/bnorm[lat, lon, lev]))/2 + (Hall_TIEGCM[lat, lon, lev]*(By_IGRF[lat, lon, lev]*(-Bx_IGRF[lat, lon, lev]*(Bx_IGRF[lat, lon, lev]*Un_z_TIEGCM[lat, lon, lev]/bnorm[lat, lon, lev] - Bz_IGRF[lat, lon, lev]*Un_x_TIEGCM[lat, lon, lev]/bnorm[lat, lon, lev]) + By_IGRF[lat, lon, lev]*(-By_IGRF[lat, lon, lev]*Un_z_TIEGCM[lat, lon, lev]/bnorm[lat, lon, lev] + Bz_IGRF[lat, lon, lev]*Un_y_TIEGCM[lat, lon, lev]/bnorm[lat, lon, lev]) + Evertz[lat, lon, lev])/bnorm[lat, lon, lev] - Bz_IGRF[lat, lon, lev]*(Bx_IGRF[lat, lon, lev]*(-Bx_IGRF[lat, lon, lev]*Un_y_TIEGCM[lat, lon, lev]/bnorm[lat, lon, lev] + By_IGRF[lat, lon, lev]*Un_x_TIEGCM[lat, lon, lev]/bnorm[lat, lon, lev]) - Bz_IGRF[lat, lon, lev]*(-By_IGRF[lat, lon, lev]*Un_z_TIEGCM[lat, lon, lev]/bnorm[lat, lon, lev] + Bz_IGRF[lat, lon, lev]*Un_y_TIEGCM[lat, lon, lev]/bnorm[lat, lon, lev]) + Everty[lat, lon, lev])/bnorm[lat, lon, lev]) + Pedersen_TIEGCM[lat, lon, lev]*(-By_IGRF[lat, lon, lev]*(-Bx_IGRF[lat, lon, lev]*Un_y_TIEGCM[lat, lon, lev]/bnorm[lat, lon, lev] + By_IGRF[lat, lon, lev]*Un_x_TIEGCM[lat, lon, lev]/bnorm[lat, lon, lev]) + Bz_IGRF[lat, lon, lev]*(Bx_IGRF[lat, lon, lev]*Un_z_TIEGCM[lat, lon, lev]/bnorm[lat, lon, lev] - Bz_IGRF[lat, lon, lev]*Un_x_TIEGCM[lat, lon, lev]/bnorm[lat, lon, lev]) + Evertx[lat, lon, lev]))*(2*Hall_TIEGCM[lat, lon, lev]*(By_IGRF[lat, lon, lev]*(-2*By_IGRF[lat, lon, lev]*Un_z_TIEGCM[lat, lon, lev]/bnorm[lat, lon, lev] + Bz_IGRF[lat, lon, lev]*Un_y_TIEGCM[lat, lon, lev]/bnorm[lat, lon, lev])/bnorm[lat, lon, lev] - Bz_IGRF[lat, lon, lev]*(Bx_IGRF[lat, lon, lev]*Un_x_TIEGCM[lat, lon, lev]/bnorm[lat, lon, lev] + Bz_IGRF[lat, lon, lev]*Un_z_TIEGCM[lat, lon, lev]/bnorm[lat, lon, lev])/bnorm[lat, lon, lev] + (-Bx_IGRF[lat, lon, lev]*(Bx_IGRF[lat, lon, lev]*Un_z_TIEGCM[lat, lon, lev]/bnorm[lat, lon, lev] - Bz_IGRF[lat, lon, lev]*Un_x_TIEGCM[lat, lon, lev]/bnorm[lat, lon, lev]) + By_IGRF[lat, lon, lev]*(-By_IGRF[lat, lon, lev]*Un_z_TIEGCM[lat, lon, lev]/bnorm[lat, lon, lev] + Bz_IGRF[lat, lon, lev]*Un_y_TIEGCM[lat, lon, lev]/bnorm[lat, lon, lev]) + Evertz[lat, lon, lev])/bnorm[lat, lon, lev]) + 2*Pedersen_TIEGCM[lat, lon, lev]*(Bx_IGRF[lat, lon, lev]*Un_y_TIEGCM[lat, lon, lev]/bnorm[lat, lon, lev] - 2*By_IGRF[lat, lon, lev]*Un_x_TIEGCM[lat, lon, lev]/bnorm[lat, lon, lev]))/2)/sy.sqrt((Hall_TIEGCM[lat, lon, lev]*(-Bx_IGRF[lat, lon, lev]*(-Bx_IGRF[lat, lon, lev]*(Bx_IGRF[lat, lon, lev]*Un_z_TIEGCM[lat, lon, lev]/bnorm[lat, lon, lev] - Bz_IGRF[lat, lon, lev]*Un_x_TIEGCM[lat, lon, lev]/bnorm[lat, lon, lev]) + By_IGRF[lat, lon, lev]*(-By_IGRF[lat, lon, lev]*Un_z_TIEGCM[lat, lon, lev]/bnorm[lat, lon, lev] + Bz_IGRF[lat, lon, lev]*Un_y_TIEGCM[lat, lon, lev]/bnorm[lat, lon, lev]) + Evertz[lat, lon, lev])/bnorm[lat, lon, lev] + Bz_IGRF[lat, lon, lev]*(-By_IGRF[lat, lon, lev]*(-Bx_IGRF[lat, lon, lev]*Un_y_TIEGCM[lat, lon, lev]/bnorm[lat, lon, lev] + By_IGRF[lat, lon, lev]*Un_x_TIEGCM[lat, lon, lev]/bnorm[lat, lon, lev]) + Bz_IGRF[lat, lon, lev]*(Bx_IGRF[lat, lon, lev]*Un_z_TIEGCM[lat, lon, lev]/bnorm[lat, lon, lev] - Bz_IGRF[lat, lon, lev]*Un_x_TIEGCM[lat, lon, lev]/bnorm[lat, lon, lev]) + Evertx[lat, lon, lev])/bnorm[lat, lon, lev]) + Pedersen_TIEGCM[lat, lon, lev]*(Bx_IGRF[lat, lon, lev]*(-Bx_IGRF[lat, lon, lev]*Un_y_TIEGCM[lat, lon, lev]/bnorm[lat, lon, lev] + By_IGRF[lat, lon, lev]*Un_x_TIEGCM[lat, lon, lev]/bnorm[lat, lon, lev]) - Bz_IGRF[lat, lon, lev]*(-By_IGRF[lat, lon, lev]*Un_z_TIEGCM[lat, lon, lev]/bnorm[lat, lon, lev] + Bz_IGRF[lat, lon, lev]*Un_y_TIEGCM[lat, lon, lev]/bnorm[lat, lon, lev]) + Everty[lat, lon, lev]))**2 + (Hall_TIEGCM[lat, lon, lev]*(Bx_IGRF[lat, lon, lev]*(-Bx_IGRF[lat, lon, lev]*(Bx_IGRF[lat, lon, lev]*Un_z_TIEGCM[lat, lon, lev]/bnorm[lat, lon, lev] - Bz_IGRF[lat, lon, lev]*Un_x_TIEGCM[lat, lon, lev]/bnorm[lat, lon, lev]) + By_IGRF[lat, lon, lev]*(-By_IGRF[lat, lon, lev]*Un_z_TIEGCM[lat, lon, lev]/bnorm[lat, lon, lev] + Bz_IGRF[lat, lon, lev]*Un_y_TIEGCM[lat, lon, lev]/bnorm[lat, lon, lev]) + Evertz[lat, lon, lev])/bnorm[lat, lon, lev] - By_IGRF[lat, lon, lev]*(-By_IGRF[lat, lon, lev]*(-Bx_IGRF[lat, lon, lev]*Un_y_TIEGCM[lat, lon, lev]/bnorm[lat, lon, lev] + By_IGRF[lat, lon, lev]*Un_x_TIEGCM[lat, lon, lev]/bnorm[lat, lon, lev]) + Bz_IGRF[lat, lon, lev]*(Bx_IGRF[lat, lon, lev]*Un_z_TIEGCM[lat, lon, lev]/bnorm[lat, lon, lev] - Bz_IGRF[lat, lon, lev]*Un_x_TIEGCM[lat, lon, lev]/bnorm[lat, lon, lev]) + Evertx[lat, lon, lev])/bnorm[lat, lon, lev]) + Pedersen_TIEGCM[lat, lon, lev]*(-Bx_IGRF[lat, lon, lev]*(Bx_IGRF[lat, lon, lev]*Un_z_TIEGCM[lat, lon, lev]/bnorm[lat, lon, lev] - Bz_IGRF[lat, lon, lev]*Un_x_TIEGCM[lat, lon, lev]/bnorm[lat, lon, lev]) + By_IGRF[lat, lon, lev]*(-By_IGRF[lat, lon, lev]*Un_z_TIEGCM[lat, lon, lev]/bnorm[lat, lon, lev] + Bz_IGRF[lat, lon, lev]*Un_y_TIEGCM[lat, lon, lev]/bnorm[lat, lon, lev]) + Evertz[lat, lon, lev]))**2 + (Hall_TIEGCM[lat, lon, lev]*(By_IGRF[lat, lon, lev]*(-Bx_IGRF[lat, lon, lev]*(Bx_IGRF[lat, lon, lev]*Un_z_TIEGCM[lat, lon, lev]/bnorm[lat, lon, lev] - Bz_IGRF[lat, lon, lev]*Un_x_TIEGCM[lat, lon, lev]/bnorm[lat, lon, lev]) + By_IGRF[lat, lon, lev]*(-By_IGRF[lat, lon, lev]*Un_z_TIEGCM[lat, lon, lev]/bnorm[lat, lon, lev] + Bz_IGRF[lat, lon, lev]*Un_y_TIEGCM[lat, lon, lev]/bnorm[lat, lon, lev]) + Evertz[lat, lon, lev])/bnorm[lat, lon, lev] - Bz_IGRF[lat, lon, lev]*(Bx_IGRF[lat, lon, lev]*(-Bx_IGRF[lat, lon, lev]*Un_y_TIEGCM[lat, lon, lev]/bnorm[lat, lon, lev] + By_IGRF[lat, lon, lev]*Un_x_TIEGCM[lat, lon, lev]/bnorm[lat, lon, lev]) - Bz_IGRF[lat, lon, lev]*(-By_IGRF[lat, lon, lev]*Un_z_TIEGCM[lat, lon, lev]/bnorm[lat, lon, lev] + Bz_IGRF[lat, lon, lev]*Un_y_TIEGCM[lat, lon, lev]/bnorm[lat, lon, lev]) + Everty[lat, lon, lev])/bnorm[lat, lon, lev]) + Pedersen_TIEGCM[lat, lon, lev]*(-By_IGRF[lat, lon, lev]*(-Bx_IGRF[lat, lon, lev]*Un_y_TIEGCM[lat, lon, lev]/bnorm[lat, lon, lev] + By_IGRF[lat, lon, lev]*Un_x_TIEGCM[lat, lon, lev]/bnorm[lat, lon, lev]) + Bz_IGRF[lat, lon, lev]*(Bx_IGRF[lat, lon, lev]*Un_z_TIEGCM[lat, lon, lev]/bnorm[lat, lon, lev] - Bz_IGRF[lat, lon, lev]*Un_x_TIEGCM[lat, lon, lev]/bnorm[lat, lon, lev]) + Evertx[lat, lon, lev]))**2)) ** 2\n",
    "\n",
    "                # dBz\n",
    "                Jt_eq_5 = (((Hall_TIEGCM[lat, lon, lev]*(-Bx_IGRF[lat, lon, lev]*(-Bx_IGRF[lat, lon, lev]*(Bx_IGRF[lat, lon, lev]*Un_z_TIEGCM[lat, lon, lev]/bnorm[lat, lon, lev] - Bz_IGRF[lat, lon, lev]*Un_x_TIEGCM[lat, lon, lev]/bnorm[lat, lon, lev]) + By_IGRF[lat, lon, lev]*(-By_IGRF[lat, lon, lev]*Un_z_TIEGCM[lat, lon, lev]/bnorm[lat, lon, lev] + Bz_IGRF[lat, lon, lev]*Un_y_TIEGCM[lat, lon, lev]/bnorm[lat, lon, lev]) + Evertz[lat, lon, lev])/bnorm[lat, lon, lev] + Bz_IGRF[lat, lon, lev]*(-By_IGRF[lat, lon, lev]*(-Bx_IGRF[lat, lon, lev]*Un_y_TIEGCM[lat, lon, lev]/bnorm[lat, lon, lev] + By_IGRF[lat, lon, lev]*Un_x_TIEGCM[lat, lon, lev]/bnorm[lat, lon, lev]) + Bz_IGRF[lat, lon, lev]*(Bx_IGRF[lat, lon, lev]*Un_z_TIEGCM[lat, lon, lev]/bnorm[lat, lon, lev] - Bz_IGRF[lat, lon, lev]*Un_x_TIEGCM[lat, lon, lev]/bnorm[lat, lon, lev]) + Evertx[lat, lon, lev])/bnorm[lat, lon, lev]) + Pedersen_TIEGCM[lat, lon, lev]*(Bx_IGRF[lat, lon, lev]*(-Bx_IGRF[lat, lon, lev]*Un_y_TIEGCM[lat, lon, lev]/bnorm[lat, lon, lev] + By_IGRF[lat, lon, lev]*Un_x_TIEGCM[lat, lon, lev]/bnorm[lat, lon, lev]) - Bz_IGRF[lat, lon, lev]*(-By_IGRF[lat, lon, lev]*Un_z_TIEGCM[lat, lon, lev]/bnorm[lat, lon, lev] + Bz_IGRF[lat, lon, lev]*Un_y_TIEGCM[lat, lon, lev]/bnorm[lat, lon, lev]) + Everty[lat, lon, lev]))*(2*Hall_TIEGCM[lat, lon, lev]*(-Bx_IGRF[lat, lon, lev]*(-2*Bx_IGRF[lat, lon, lev]*Un_z_TIEGCM[lat, lon, lev]/bnorm[lat, lon, lev] + Bz_IGRF[lat, lon, lev]*Un_x_TIEGCM[lat, lon, lev]/bnorm[lat, lon, lev])/bnorm[lat, lon, lev] + Bz_IGRF[lat, lon, lev]*(By_IGRF[lat, lon, lev]*Un_y_TIEGCM[lat, lon, lev]/bnorm[lat, lon, lev] + Bz_IGRF[lat, lon, lev]*Un_z_TIEGCM[lat, lon, lev]/bnorm[lat, lon, lev])/bnorm[lat, lon, lev] - (-Bx_IGRF[lat, lon, lev]*(Bx_IGRF[lat, lon, lev]*Un_z_TIEGCM[lat, lon, lev]/bnorm[lat, lon, lev] - Bz_IGRF[lat, lon, lev]*Un_x_TIEGCM[lat, lon, lev]/bnorm[lat, lon, lev]) + By_IGRF[lat, lon, lev]*(-By_IGRF[lat, lon, lev]*Un_z_TIEGCM[lat, lon, lev]/bnorm[lat, lon, lev] + Bz_IGRF[lat, lon, lev]*Un_y_TIEGCM[lat, lon, lev]/bnorm[lat, lon, lev]) + Evertz[lat, lon, lev])/bnorm[lat, lon, lev]) + 2*Pedersen_TIEGCM[lat, lon, lev]*(-2*Bx_IGRF[lat, lon, lev]*Un_y_TIEGCM[lat, lon, lev]/bnorm[lat, lon, lev] + By_IGRF[lat, lon, lev]*Un_x_TIEGCM[lat, lon, lev]/bnorm[lat, lon, lev]))/2 + (Hall_TIEGCM[lat, lon, lev]*(Bx_IGRF[lat, lon, lev]*(-Bx_IGRF[lat, lon, lev]*(Bx_IGRF[lat, lon, lev]*Un_z_TIEGCM[lat, lon, lev]/bnorm[lat, lon, lev] - Bz_IGRF[lat, lon, lev]*Un_x_TIEGCM[lat, lon, lev]/bnorm[lat, lon, lev]) + By_IGRF[lat, lon, lev]*(-By_IGRF[lat, lon, lev]*Un_z_TIEGCM[lat, lon, lev]/bnorm[lat, lon, lev] + Bz_IGRF[lat, lon, lev]*Un_y_TIEGCM[lat, lon, lev]/bnorm[lat, lon, lev]) + Evertz[lat, lon, lev])/bnorm[lat, lon, lev] - By_IGRF[lat, lon, lev]*(-By_IGRF[lat, lon, lev]*(-Bx_IGRF[lat, lon, lev]*Un_y_TIEGCM[lat, lon, lev]/bnorm[lat, lon, lev] + By_IGRF[lat, lon, lev]*Un_x_TIEGCM[lat, lon, lev]/bnorm[lat, lon, lev]) + Bz_IGRF[lat, lon, lev]*(Bx_IGRF[lat, lon, lev]*Un_z_TIEGCM[lat, lon, lev]/bnorm[lat, lon, lev] - Bz_IGRF[lat, lon, lev]*Un_x_TIEGCM[lat, lon, lev]/bnorm[lat, lon, lev]) + Evertx[lat, lon, lev])/bnorm[lat, lon, lev]) + Pedersen_TIEGCM[lat, lon, lev]*(-Bx_IGRF[lat, lon, lev]*(Bx_IGRF[lat, lon, lev]*Un_z_TIEGCM[lat, lon, lev]/bnorm[lat, lon, lev] - Bz_IGRF[lat, lon, lev]*Un_x_TIEGCM[lat, lon, lev]/bnorm[lat, lon, lev]) + By_IGRF[lat, lon, lev]*(-By_IGRF[lat, lon, lev]*Un_z_TIEGCM[lat, lon, lev]/bnorm[lat, lon, lev] + Bz_IGRF[lat, lon, lev]*Un_y_TIEGCM[lat, lon, lev]/bnorm[lat, lon, lev]) + Evertz[lat, lon, lev]))*(2*Hall_TIEGCM[lat, lon, lev]*(Bx_IGRF[lat, lon, lev]*(-2*Bx_IGRF[lat, lon, lev]*Un_z_TIEGCM[lat, lon, lev]/bnorm[lat, lon, lev] + Bz_IGRF[lat, lon, lev]*Un_x_TIEGCM[lat, lon, lev]/bnorm[lat, lon, lev])/bnorm[lat, lon, lev] - By_IGRF[lat, lon, lev]*(By_IGRF[lat, lon, lev]*Un_y_TIEGCM[lat, lon, lev]/bnorm[lat, lon, lev] + Bz_IGRF[lat, lon, lev]*Un_z_TIEGCM[lat, lon, lev]/bnorm[lat, lon, lev])/bnorm[lat, lon, lev] + (-Bx_IGRF[lat, lon, lev]*(Bx_IGRF[lat, lon, lev]*Un_z_TIEGCM[lat, lon, lev]/bnorm[lat, lon, lev] - Bz_IGRF[lat, lon, lev]*Un_x_TIEGCM[lat, lon, lev]/bnorm[lat, lon, lev]) + By_IGRF[lat, lon, lev]*(-By_IGRF[lat, lon, lev]*Un_z_TIEGCM[lat, lon, lev]/bnorm[lat, lon, lev] + Bz_IGRF[lat, lon, lev]*Un_y_TIEGCM[lat, lon, lev]/bnorm[lat, lon, lev]) + Evertz[lat, lon, lev])/bnorm[lat, lon, lev]) + 2*Pedersen_TIEGCM[lat, lon, lev]*(-2*Bx_IGRF[lat, lon, lev]*Un_z_TIEGCM[lat, lon, lev]/bnorm[lat, lon, lev] + Bz_IGRF[lat, lon, lev]*Un_x_TIEGCM[lat, lon, lev]/bnorm[lat, lon, lev]))/2 + (2*Hall_TIEGCM[lat, lon, lev]*(By_IGRF[lat, lon, lev]*(-2*Bx_IGRF[lat, lon, lev]*Un_z_TIEGCM[lat, lon, lev]/bnorm[lat, lon, lev] + Bz_IGRF[lat, lon, lev]*Un_x_TIEGCM[lat, lon, lev]/bnorm[lat, lon, lev])/bnorm[lat, lon, lev] - Bz_IGRF[lat, lon, lev]*(-2*Bx_IGRF[lat, lon, lev]*Un_y_TIEGCM[lat, lon, lev]/bnorm[lat, lon, lev] + By_IGRF[lat, lon, lev]*Un_x_TIEGCM[lat, lon, lev]/bnorm[lat, lon, lev])/bnorm[lat, lon, lev]) + 2*Pedersen_TIEGCM[lat, lon, lev]*(By_IGRF[lat, lon, lev]*Un_y_TIEGCM[lat, lon, lev]/bnorm[lat, lon, lev] + Bz_IGRF[lat, lon, lev]*Un_z_TIEGCM[lat, lon, lev]/bnorm[lat, lon, lev]))*(Hall_TIEGCM[lat, lon, lev]*(By_IGRF[lat, lon, lev]*(-Bx_IGRF[lat, lon, lev]*(Bx_IGRF[lat, lon, lev]*Un_z_TIEGCM[lat, lon, lev]/bnorm[lat, lon, lev] - Bz_IGRF[lat, lon, lev]*Un_x_TIEGCM[lat, lon, lev]/bnorm[lat, lon, lev]) + By_IGRF[lat, lon, lev]*(-By_IGRF[lat, lon, lev]*Un_z_TIEGCM[lat, lon, lev]/bnorm[lat, lon, lev] + Bz_IGRF[lat, lon, lev]*Un_y_TIEGCM[lat, lon, lev]/bnorm[lat, lon, lev]) + Evertz[lat, lon, lev])/bnorm[lat, lon, lev] - Bz_IGRF[lat, lon, lev]*(Bx_IGRF[lat, lon, lev]*(-Bx_IGRF[lat, lon, lev]*Un_y_TIEGCM[lat, lon, lev]/bnorm[lat, lon, lev] + By_IGRF[lat, lon, lev]*Un_x_TIEGCM[lat, lon, lev]/bnorm[lat, lon, lev]) - Bz_IGRF[lat, lon, lev]*(-By_IGRF[lat, lon, lev]*Un_z_TIEGCM[lat, lon, lev]/bnorm[lat, lon, lev] + Bz_IGRF[lat, lon, lev]*Un_y_TIEGCM[lat, lon, lev]/bnorm[lat, lon, lev]) + Everty[lat, lon, lev])/bnorm[lat, lon, lev]) + Pedersen_TIEGCM[lat, lon, lev]*(-By_IGRF[lat, lon, lev]*(-Bx_IGRF[lat, lon, lev]*Un_y_TIEGCM[lat, lon, lev]/bnorm[lat, lon, lev] + By_IGRF[lat, lon, lev]*Un_x_TIEGCM[lat, lon, lev]/bnorm[lat, lon, lev]) + Bz_IGRF[lat, lon, lev]*(Bx_IGRF[lat, lon, lev]*Un_z_TIEGCM[lat, lon, lev]/bnorm[lat, lon, lev] - Bz_IGRF[lat, lon, lev]*Un_x_TIEGCM[lat, lon, lev]/bnorm[lat, lon, lev]) + Evertx[lat, lon, lev]))/2)/sy.sqrt((Hall_TIEGCM[lat, lon, lev]*(-Bx_IGRF[lat, lon, lev]*(-Bx_IGRF[lat, lon, lev]*(Bx_IGRF[lat, lon, lev]*Un_z_TIEGCM[lat, lon, lev]/bnorm[lat, lon, lev] - Bz_IGRF[lat, lon, lev]*Un_x_TIEGCM[lat, lon, lev]/bnorm[lat, lon, lev]) + By_IGRF[lat, lon, lev]*(-By_IGRF[lat, lon, lev]*Un_z_TIEGCM[lat, lon, lev]/bnorm[lat, lon, lev] + Bz_IGRF[lat, lon, lev]*Un_y_TIEGCM[lat, lon, lev]/bnorm[lat, lon, lev]) + Evertz[lat, lon, lev])/bnorm[lat, lon, lev] + Bz_IGRF[lat, lon, lev]*(-By_IGRF[lat, lon, lev]*(-Bx_IGRF[lat, lon, lev]*Un_y_TIEGCM[lat, lon, lev]/bnorm[lat, lon, lev] + By_IGRF[lat, lon, lev]*Un_x_TIEGCM[lat, lon, lev]/bnorm[lat, lon, lev]) + Bz_IGRF[lat, lon, lev]*(Bx_IGRF[lat, lon, lev]*Un_z_TIEGCM[lat, lon, lev]/bnorm[lat, lon, lev] - Bz_IGRF[lat, lon, lev]*Un_x_TIEGCM[lat, lon, lev]/bnorm[lat, lon, lev]) + Evertx[lat, lon, lev])/bnorm[lat, lon, lev]) + Pedersen_TIEGCM[lat, lon, lev]*(Bx_IGRF[lat, lon, lev]*(-Bx_IGRF[lat, lon, lev]*Un_y_TIEGCM[lat, lon, lev]/bnorm[lat, lon, lev] + By_IGRF[lat, lon, lev]*Un_x_TIEGCM[lat, lon, lev]/bnorm[lat, lon, lev]) - Bz_IGRF[lat, lon, lev]*(-By_IGRF[lat, lon, lev]*Un_z_TIEGCM[lat, lon, lev]/bnorm[lat, lon, lev] + Bz_IGRF[lat, lon, lev]*Un_y_TIEGCM[lat, lon, lev]/bnorm[lat, lon, lev]) + Everty[lat, lon, lev]))**2 + (Hall_TIEGCM[lat, lon, lev]*(Bx_IGRF[lat, lon, lev]*(-Bx_IGRF[lat, lon, lev]*(Bx_IGRF[lat, lon, lev]*Un_z_TIEGCM[lat, lon, lev]/bnorm[lat, lon, lev] - Bz_IGRF[lat, lon, lev]*Un_x_TIEGCM[lat, lon, lev]/bnorm[lat, lon, lev]) + By_IGRF[lat, lon, lev]*(-By_IGRF[lat, lon, lev]*Un_z_TIEGCM[lat, lon, lev]/bnorm[lat, lon, lev] + Bz_IGRF[lat, lon, lev]*Un_y_TIEGCM[lat, lon, lev]/bnorm[lat, lon, lev]) + Evertz[lat, lon, lev])/bnorm[lat, lon, lev] - By_IGRF[lat, lon, lev]*(-By_IGRF[lat, lon, lev]*(-Bx_IGRF[lat, lon, lev]*Un_y_TIEGCM[lat, lon, lev]/bnorm[lat, lon, lev] + By_IGRF[lat, lon, lev]*Un_x_TIEGCM[lat, lon, lev]/bnorm[lat, lon, lev]) + Bz_IGRF[lat, lon, lev]*(Bx_IGRF[lat, lon, lev]*Un_z_TIEGCM[lat, lon, lev]/bnorm[lat, lon, lev] - Bz_IGRF[lat, lon, lev]*Un_x_TIEGCM[lat, lon, lev]/bnorm[lat, lon, lev]) + Evertx[lat, lon, lev])/bnorm[lat, lon, lev]) + Pedersen_TIEGCM[lat, lon, lev]*(-Bx_IGRF[lat, lon, lev]*(Bx_IGRF[lat, lon, lev]*Un_z_TIEGCM[lat, lon, lev]/bnorm[lat, lon, lev] - Bz_IGRF[lat, lon, lev]*Un_x_TIEGCM[lat, lon, lev]/bnorm[lat, lon, lev]) + By_IGRF[lat, lon, lev]*(-By_IGRF[lat, lon, lev]*Un_z_TIEGCM[lat, lon, lev]/bnorm[lat, lon, lev] + Bz_IGRF[lat, lon, lev]*Un_y_TIEGCM[lat, lon, lev]/bnorm[lat, lon, lev]) + Evertz[lat, lon, lev]))**2 + (Hall_TIEGCM[lat, lon, lev]*(By_IGRF[lat, lon, lev]*(-Bx_IGRF[lat, lon, lev]*(Bx_IGRF[lat, lon, lev]*Un_z_TIEGCM[lat, lon, lev]/bnorm[lat, lon, lev] - Bz_IGRF[lat, lon, lev]*Un_x_TIEGCM[lat, lon, lev]/bnorm[lat, lon, lev]) + By_IGRF[lat, lon, lev]*(-By_IGRF[lat, lon, lev]*Un_z_TIEGCM[lat, lon, lev]/bnorm[lat, lon, lev] + Bz_IGRF[lat, lon, lev]*Un_y_TIEGCM[lat, lon, lev]/bnorm[lat, lon, lev]) + Evertz[lat, lon, lev])/bnorm[lat, lon, lev] - Bz_IGRF[lat, lon, lev]*(Bx_IGRF[lat, lon, lev]*(-Bx_IGRF[lat, lon, lev]*Un_y_TIEGCM[lat, lon, lev]/bnorm[lat, lon, lev] + By_IGRF[lat, lon, lev]*Un_x_TIEGCM[lat, lon, lev]/bnorm[lat, lon, lev]) - Bz_IGRF[lat, lon, lev]*(-By_IGRF[lat, lon, lev]*Un_z_TIEGCM[lat, lon, lev]/bnorm[lat, lon, lev] + Bz_IGRF[lat, lon, lev]*Un_y_TIEGCM[lat, lon, lev]/bnorm[lat, lon, lev]) + Everty[lat, lon, lev])/bnorm[lat, lon, lev]) + Pedersen_TIEGCM[lat, lon, lev]*(-By_IGRF[lat, lon, lev]*(-Bx_IGRF[lat, lon, lev]*Un_y_TIEGCM[lat, lon, lev]/bnorm[lat, lon, lev] + By_IGRF[lat, lon, lev]*Un_x_TIEGCM[lat, lon, lev]/bnorm[lat, lon, lev]) + Bz_IGRF[lat, lon, lev]*(Bx_IGRF[lat, lon, lev]*Un_z_TIEGCM[lat, lon, lev]/bnorm[lat, lon, lev] - Bz_IGRF[lat, lon, lev]*Un_x_TIEGCM[lat, lon, lev]/bnorm[lat, lon, lev]) + Evertx[lat, lon, lev]))**2)) ** 2\n",
    "\n",
    "                # dEvertx\n",
    "                Jt_eq_6 = ((-By_IGRF[lat, lon, lev]*Hall_TIEGCM[lat, lon, lev]*(Hall_TIEGCM[lat, lon, lev]*(Bx_IGRF[lat, lon, lev]*(-Bx_IGRF[lat, lon, lev]*(Bx_IGRF[lat, lon, lev]*Un_z_TIEGCM[lat, lon, lev]/bnorm[lat, lon, lev] - Bz_IGRF[lat, lon, lev]*Un_x_TIEGCM[lat, lon, lev]/bnorm[lat, lon, lev]) + By_IGRF[lat, lon, lev]*(-By_IGRF[lat, lon, lev]*Un_z_TIEGCM[lat, lon, lev]/bnorm[lat, lon, lev] + Bz_IGRF[lat, lon, lev]*Un_y_TIEGCM[lat, lon, lev]/bnorm[lat, lon, lev]) + Evertz[lat, lon, lev])/bnorm[lat, lon, lev] - By_IGRF[lat, lon, lev]*(-By_IGRF[lat, lon, lev]*(-Bx_IGRF[lat, lon, lev]*Un_y_TIEGCM[lat, lon, lev]/bnorm[lat, lon, lev] + By_IGRF[lat, lon, lev]*Un_x_TIEGCM[lat, lon, lev]/bnorm[lat, lon, lev]) + Bz_IGRF[lat, lon, lev]*(Bx_IGRF[lat, lon, lev]*Un_z_TIEGCM[lat, lon, lev]/bnorm[lat, lon, lev] - Bz_IGRF[lat, lon, lev]*Un_x_TIEGCM[lat, lon, lev]/bnorm[lat, lon, lev]) + Evertx[lat, lon, lev])/bnorm[lat, lon, lev]) + Pedersen_TIEGCM[lat, lon, lev]*(-Bx_IGRF[lat, lon, lev]*(Bx_IGRF[lat, lon, lev]*Un_z_TIEGCM[lat, lon, lev]/bnorm[lat, lon, lev] - Bz_IGRF[lat, lon, lev]*Un_x_TIEGCM[lat, lon, lev]/bnorm[lat, lon, lev]) + By_IGRF[lat, lon, lev]*(-By_IGRF[lat, lon, lev]*Un_z_TIEGCM[lat, lon, lev]/bnorm[lat, lon, lev] + Bz_IGRF[lat, lon, lev]*Un_y_TIEGCM[lat, lon, lev]/bnorm[lat, lon, lev]) + Evertz[lat, lon, lev]))/bnorm[lat, lon, lev] + Bz_IGRF[lat, lon, lev]*Hall_TIEGCM[lat, lon, lev]*(Hall_TIEGCM[lat, lon, lev]*(-Bx_IGRF[lat, lon, lev]*(-Bx_IGRF[lat, lon, lev]*(Bx_IGRF[lat, lon, lev]*Un_z_TIEGCM[lat, lon, lev]/bnorm[lat, lon, lev] - Bz_IGRF[lat, lon, lev]*Un_x_TIEGCM[lat, lon, lev]/bnorm[lat, lon, lev]) + By_IGRF[lat, lon, lev]*(-By_IGRF[lat, lon, lev]*Un_z_TIEGCM[lat, lon, lev]/bnorm[lat, lon, lev] + Bz_IGRF[lat, lon, lev]*Un_y_TIEGCM[lat, lon, lev]/bnorm[lat, lon, lev]) + Evertz[lat, lon, lev])/bnorm[lat, lon, lev] + Bz_IGRF[lat, lon, lev]*(-By_IGRF[lat, lon, lev]*(-Bx_IGRF[lat, lon, lev]*Un_y_TIEGCM[lat, lon, lev]/bnorm[lat, lon, lev] + By_IGRF[lat, lon, lev]*Un_x_TIEGCM[lat, lon, lev]/bnorm[lat, lon, lev]) + Bz_IGRF[lat, lon, lev]*(Bx_IGRF[lat, lon, lev]*Un_z_TIEGCM[lat, lon, lev]/bnorm[lat, lon, lev] - Bz_IGRF[lat, lon, lev]*Un_x_TIEGCM[lat, lon, lev]/bnorm[lat, lon, lev]) + Evertx[lat, lon, lev])/bnorm[lat, lon, lev]) + Pedersen_TIEGCM[lat, lon, lev]*(Bx_IGRF[lat, lon, lev]*(-Bx_IGRF[lat, lon, lev]*Un_y_TIEGCM[lat, lon, lev]/bnorm[lat, lon, lev] + By_IGRF[lat, lon, lev]*Un_x_TIEGCM[lat, lon, lev]/bnorm[lat, lon, lev]) - Bz_IGRF[lat, lon, lev]*(-By_IGRF[lat, lon, lev]*Un_z_TIEGCM[lat, lon, lev]/bnorm[lat, lon, lev] + Bz_IGRF[lat, lon, lev]*Un_y_TIEGCM[lat, lon, lev]/bnorm[lat, lon, lev]) + Everty[lat, lon, lev]))/bnorm[lat, lon, lev] + Pedersen_TIEGCM[lat, lon, lev]*(Hall_TIEGCM[lat, lon, lev]*(By_IGRF[lat, lon, lev]*(-Bx_IGRF[lat, lon, lev]*(Bx_IGRF[lat, lon, lev]*Un_z_TIEGCM[lat, lon, lev]/bnorm[lat, lon, lev] - Bz_IGRF[lat, lon, lev]*Un_x_TIEGCM[lat, lon, lev]/bnorm[lat, lon, lev]) + By_IGRF[lat, lon, lev]*(-By_IGRF[lat, lon, lev]*Un_z_TIEGCM[lat, lon, lev]/bnorm[lat, lon, lev] + Bz_IGRF[lat, lon, lev]*Un_y_TIEGCM[lat, lon, lev]/bnorm[lat, lon, lev]) + Evertz[lat, lon, lev])/bnorm[lat, lon, lev] - Bz_IGRF[lat, lon, lev]*(Bx_IGRF[lat, lon, lev]*(-Bx_IGRF[lat, lon, lev]*Un_y_TIEGCM[lat, lon, lev]/bnorm[lat, lon, lev] + By_IGRF[lat, lon, lev]*Un_x_TIEGCM[lat, lon, lev]/bnorm[lat, lon, lev]) - Bz_IGRF[lat, lon, lev]*(-By_IGRF[lat, lon, lev]*Un_z_TIEGCM[lat, lon, lev]/bnorm[lat, lon, lev] + Bz_IGRF[lat, lon, lev]*Un_y_TIEGCM[lat, lon, lev]/bnorm[lat, lon, lev]) + Everty[lat, lon, lev])/bnorm[lat, lon, lev]) + Pedersen_TIEGCM[lat, lon, lev]*(-By_IGRF[lat, lon, lev]*(-Bx_IGRF[lat, lon, lev]*Un_y_TIEGCM[lat, lon, lev]/bnorm[lat, lon, lev] + By_IGRF[lat, lon, lev]*Un_x_TIEGCM[lat, lon, lev]/bnorm[lat, lon, lev]) + Bz_IGRF[lat, lon, lev]*(Bx_IGRF[lat, lon, lev]*Un_z_TIEGCM[lat, lon, lev]/bnorm[lat, lon, lev] - Bz_IGRF[lat, lon, lev]*Un_x_TIEGCM[lat, lon, lev]/bnorm[lat, lon, lev]) + Evertx[lat, lon, lev])))/sy.sqrt((Hall_TIEGCM[lat, lon, lev]*(-Bx_IGRF[lat, lon, lev]*(-Bx_IGRF[lat, lon, lev]*(Bx_IGRF[lat, lon, lev]*Un_z_TIEGCM[lat, lon, lev]/bnorm[lat, lon, lev] - Bz_IGRF[lat, lon, lev]*Un_x_TIEGCM[lat, lon, lev]/bnorm[lat, lon, lev]) + By_IGRF[lat, lon, lev]*(-By_IGRF[lat, lon, lev]*Un_z_TIEGCM[lat, lon, lev]/bnorm[lat, lon, lev] + Bz_IGRF[lat, lon, lev]*Un_y_TIEGCM[lat, lon, lev]/bnorm[lat, lon, lev]) + Evertz[lat, lon, lev])/bnorm[lat, lon, lev] + Bz_IGRF[lat, lon, lev]*(-By_IGRF[lat, lon, lev]*(-Bx_IGRF[lat, lon, lev]*Un_y_TIEGCM[lat, lon, lev]/bnorm[lat, lon, lev] + By_IGRF[lat, lon, lev]*Un_x_TIEGCM[lat, lon, lev]/bnorm[lat, lon, lev]) + Bz_IGRF[lat, lon, lev]*(Bx_IGRF[lat, lon, lev]*Un_z_TIEGCM[lat, lon, lev]/bnorm[lat, lon, lev] - Bz_IGRF[lat, lon, lev]*Un_x_TIEGCM[lat, lon, lev]/bnorm[lat, lon, lev]) + Evertx[lat, lon, lev])/bnorm[lat, lon, lev]) + Pedersen_TIEGCM[lat, lon, lev]*(Bx_IGRF[lat, lon, lev]*(-Bx_IGRF[lat, lon, lev]*Un_y_TIEGCM[lat, lon, lev]/bnorm[lat, lon, lev] + By_IGRF[lat, lon, lev]*Un_x_TIEGCM[lat, lon, lev]/bnorm[lat, lon, lev]) - Bz_IGRF[lat, lon, lev]*(-By_IGRF[lat, lon, lev]*Un_z_TIEGCM[lat, lon, lev]/bnorm[lat, lon, lev] + Bz_IGRF[lat, lon, lev]*Un_y_TIEGCM[lat, lon, lev]/bnorm[lat, lon, lev]) + Everty[lat, lon, lev]))**2 + (Hall_TIEGCM[lat, lon, lev]*(Bx_IGRF[lat, lon, lev]*(-Bx_IGRF[lat, lon, lev]*(Bx_IGRF[lat, lon, lev]*Un_z_TIEGCM[lat, lon, lev]/bnorm[lat, lon, lev] - Bz_IGRF[lat, lon, lev]*Un_x_TIEGCM[lat, lon, lev]/bnorm[lat, lon, lev]) + By_IGRF[lat, lon, lev]*(-By_IGRF[lat, lon, lev]*Un_z_TIEGCM[lat, lon, lev]/bnorm[lat, lon, lev] + Bz_IGRF[lat, lon, lev]*Un_y_TIEGCM[lat, lon, lev]/bnorm[lat, lon, lev]) + Evertz[lat, lon, lev])/bnorm[lat, lon, lev] - By_IGRF[lat, lon, lev]*(-By_IGRF[lat, lon, lev]*(-Bx_IGRF[lat, lon, lev]*Un_y_TIEGCM[lat, lon, lev]/bnorm[lat, lon, lev] + By_IGRF[lat, lon, lev]*Un_x_TIEGCM[lat, lon, lev]/bnorm[lat, lon, lev]) + Bz_IGRF[lat, lon, lev]*(Bx_IGRF[lat, lon, lev]*Un_z_TIEGCM[lat, lon, lev]/bnorm[lat, lon, lev] - Bz_IGRF[lat, lon, lev]*Un_x_TIEGCM[lat, lon, lev]/bnorm[lat, lon, lev]) + Evertx[lat, lon, lev])/bnorm[lat, lon, lev]) + Pedersen_TIEGCM[lat, lon, lev]*(-Bx_IGRF[lat, lon, lev]*(Bx_IGRF[lat, lon, lev]*Un_z_TIEGCM[lat, lon, lev]/bnorm[lat, lon, lev] - Bz_IGRF[lat, lon, lev]*Un_x_TIEGCM[lat, lon, lev]/bnorm[lat, lon, lev]) + By_IGRF[lat, lon, lev]*(-By_IGRF[lat, lon, lev]*Un_z_TIEGCM[lat, lon, lev]/bnorm[lat, lon, lev] + Bz_IGRF[lat, lon, lev]*Un_y_TIEGCM[lat, lon, lev]/bnorm[lat, lon, lev]) + Evertz[lat, lon, lev]))**2 + (Hall_TIEGCM[lat, lon, lev]*(By_IGRF[lat, lon, lev]*(-Bx_IGRF[lat, lon, lev]*(Bx_IGRF[lat, lon, lev]*Un_z_TIEGCM[lat, lon, lev]/bnorm[lat, lon, lev] - Bz_IGRF[lat, lon, lev]*Un_x_TIEGCM[lat, lon, lev]/bnorm[lat, lon, lev]) + By_IGRF[lat, lon, lev]*(-By_IGRF[lat, lon, lev]*Un_z_TIEGCM[lat, lon, lev]/bnorm[lat, lon, lev] + Bz_IGRF[lat, lon, lev]*Un_y_TIEGCM[lat, lon, lev]/bnorm[lat, lon, lev]) + Evertz[lat, lon, lev])/bnorm[lat, lon, lev] - Bz_IGRF[lat, lon, lev]*(Bx_IGRF[lat, lon, lev]*(-Bx_IGRF[lat, lon, lev]*Un_y_TIEGCM[lat, lon, lev]/bnorm[lat, lon, lev] + By_IGRF[lat, lon, lev]*Un_x_TIEGCM[lat, lon, lev]/bnorm[lat, lon, lev]) - Bz_IGRF[lat, lon, lev]*(-By_IGRF[lat, lon, lev]*Un_z_TIEGCM[lat, lon, lev]/bnorm[lat, lon, lev] + Bz_IGRF[lat, lon, lev]*Un_y_TIEGCM[lat, lon, lev]/bnorm[lat, lon, lev]) + Everty[lat, lon, lev])/bnorm[lat, lon, lev]) + Pedersen_TIEGCM[lat, lon, lev]*(-By_IGRF[lat, lon, lev]*(-Bx_IGRF[lat, lon, lev]*Un_y_TIEGCM[lat, lon, lev]/bnorm[lat, lon, lev] + By_IGRF[lat, lon, lev]*Un_x_TIEGCM[lat, lon, lev]/bnorm[lat, lon, lev]) + Bz_IGRF[lat, lon, lev]*(Bx_IGRF[lat, lon, lev]*Un_z_TIEGCM[lat, lon, lev]/bnorm[lat, lon, lev] - Bz_IGRF[lat, lon, lev]*Un_x_TIEGCM[lat, lon, lev]/bnorm[lat, lon, lev]) + Evertx[lat, lon, lev]))**2)) ** 2\n",
    "\n",
    "                # dEverty\n",
    "                Jt_eq_7 = ((-Bz_IGRF[lat, lon, lev]*Hall_TIEGCM[lat, lon, lev]*(Hall_TIEGCM[lat, lon, lev]*(By_IGRF[lat, lon, lev]*(-Bx_IGRF[lat, lon, lev]*(Bx_IGRF[lat, lon, lev]*Un_z_TIEGCM[lat, lon, lev]/bnorm[lat, lon, lev] - Bz_IGRF[lat, lon, lev]*Un_x_TIEGCM[lat, lon, lev]/bnorm[lat, lon, lev]) + By_IGRF[lat, lon, lev]*(-By_IGRF[lat, lon, lev]*Un_z_TIEGCM[lat, lon, lev]/bnorm[lat, lon, lev] + Bz_IGRF[lat, lon, lev]*Un_y_TIEGCM[lat, lon, lev]/bnorm[lat, lon, lev]) + Evertz[lat, lon, lev])/bnorm[lat, lon, lev] - Bz_IGRF[lat, lon, lev]*(Bx_IGRF[lat, lon, lev]*(-Bx_IGRF[lat, lon, lev]*Un_y_TIEGCM[lat, lon, lev]/bnorm[lat, lon, lev] + By_IGRF[lat, lon, lev]*Un_x_TIEGCM[lat, lon, lev]/bnorm[lat, lon, lev]) - Bz_IGRF[lat, lon, lev]*(-By_IGRF[lat, lon, lev]*Un_z_TIEGCM[lat, lon, lev]/bnorm[lat, lon, lev] + Bz_IGRF[lat, lon, lev]*Un_y_TIEGCM[lat, lon, lev]/bnorm[lat, lon, lev]) + Everty[lat, lon, lev])/bnorm[lat, lon, lev]) + Pedersen_TIEGCM[lat, lon, lev]*(-By_IGRF[lat, lon, lev]*(-Bx_IGRF[lat, lon, lev]*Un_y_TIEGCM[lat, lon, lev]/bnorm[lat, lon, lev] + By_IGRF[lat, lon, lev]*Un_x_TIEGCM[lat, lon, lev]/bnorm[lat, lon, lev]) + Bz_IGRF[lat, lon, lev]*(Bx_IGRF[lat, lon, lev]*Un_z_TIEGCM[lat, lon, lev]/bnorm[lat, lon, lev] - Bz_IGRF[lat, lon, lev]*Un_x_TIEGCM[lat, lon, lev]/bnorm[lat, lon, lev]) + Evertx[lat, lon, lev]))/bnorm[lat, lon, lev] + Pedersen_TIEGCM[lat, lon, lev]*(Hall_TIEGCM[lat, lon, lev]*(-Bx_IGRF[lat, lon, lev]*(-Bx_IGRF[lat, lon, lev]*(Bx_IGRF[lat, lon, lev]*Un_z_TIEGCM[lat, lon, lev]/bnorm[lat, lon, lev] - Bz_IGRF[lat, lon, lev]*Un_x_TIEGCM[lat, lon, lev]/bnorm[lat, lon, lev]) + By_IGRF[lat, lon, lev]*(-By_IGRF[lat, lon, lev]*Un_z_TIEGCM[lat, lon, lev]/bnorm[lat, lon, lev] + Bz_IGRF[lat, lon, lev]*Un_y_TIEGCM[lat, lon, lev]/bnorm[lat, lon, lev]) + Evertz[lat, lon, lev])/bnorm[lat, lon, lev] + Bz_IGRF[lat, lon, lev]*(-By_IGRF[lat, lon, lev]*(-Bx_IGRF[lat, lon, lev]*Un_y_TIEGCM[lat, lon, lev]/bnorm[lat, lon, lev] + By_IGRF[lat, lon, lev]*Un_x_TIEGCM[lat, lon, lev]/bnorm[lat, lon, lev]) + Bz_IGRF[lat, lon, lev]*(Bx_IGRF[lat, lon, lev]*Un_z_TIEGCM[lat, lon, lev]/bnorm[lat, lon, lev] - Bz_IGRF[lat, lon, lev]*Un_x_TIEGCM[lat, lon, lev]/bnorm[lat, lon, lev]) + Evertx[lat, lon, lev])/bnorm[lat, lon, lev]) + Pedersen_TIEGCM[lat, lon, lev]*(Bx_IGRF[lat, lon, lev]*(-Bx_IGRF[lat, lon, lev]*Un_y_TIEGCM[lat, lon, lev]/bnorm[lat, lon, lev] + By_IGRF[lat, lon, lev]*Un_x_TIEGCM[lat, lon, lev]/bnorm[lat, lon, lev]) - Bz_IGRF[lat, lon, lev]*(-By_IGRF[lat, lon, lev]*Un_z_TIEGCM[lat, lon, lev]/bnorm[lat, lon, lev] + Bz_IGRF[lat, lon, lev]*Un_y_TIEGCM[lat, lon, lev]/bnorm[lat, lon, lev]) + Everty[lat, lon, lev])))/sy.sqrt((Hall_TIEGCM[lat, lon, lev]*(-Bx_IGRF[lat, lon, lev]*(-Bx_IGRF[lat, lon, lev]*(Bx_IGRF[lat, lon, lev]*Un_z_TIEGCM[lat, lon, lev]/bnorm[lat, lon, lev] - Bz_IGRF[lat, lon, lev]*Un_x_TIEGCM[lat, lon, lev]/bnorm[lat, lon, lev]) + By_IGRF[lat, lon, lev]*(-By_IGRF[lat, lon, lev]*Un_z_TIEGCM[lat, lon, lev]/bnorm[lat, lon, lev] + Bz_IGRF[lat, lon, lev]*Un_y_TIEGCM[lat, lon, lev]/bnorm[lat, lon, lev]) + Evertz[lat, lon, lev])/bnorm[lat, lon, lev] + Bz_IGRF[lat, lon, lev]*(-By_IGRF[lat, lon, lev]*(-Bx_IGRF[lat, lon, lev]*Un_y_TIEGCM[lat, lon, lev]/bnorm[lat, lon, lev] + By_IGRF[lat, lon, lev]*Un_x_TIEGCM[lat, lon, lev]/bnorm[lat, lon, lev]) + Bz_IGRF[lat, lon, lev]*(Bx_IGRF[lat, lon, lev]*Un_z_TIEGCM[lat, lon, lev]/bnorm[lat, lon, lev] - Bz_IGRF[lat, lon, lev]*Un_x_TIEGCM[lat, lon, lev]/bnorm[lat, lon, lev]) + Evertx[lat, lon, lev])/bnorm[lat, lon, lev]) + Pedersen_TIEGCM[lat, lon, lev]*(Bx_IGRF[lat, lon, lev]*(-Bx_IGRF[lat, lon, lev]*Un_y_TIEGCM[lat, lon, lev]/bnorm[lat, lon, lev] + By_IGRF[lat, lon, lev]*Un_x_TIEGCM[lat, lon, lev]/bnorm[lat, lon, lev]) - Bz_IGRF[lat, lon, lev]*(-By_IGRF[lat, lon, lev]*Un_z_TIEGCM[lat, lon, lev]/bnorm[lat, lon, lev] + Bz_IGRF[lat, lon, lev]*Un_y_TIEGCM[lat, lon, lev]/bnorm[lat, lon, lev]) + Everty[lat, lon, lev]))**2 + (Hall_TIEGCM[lat, lon, lev]*(Bx_IGRF[lat, lon, lev]*(-Bx_IGRF[lat, lon, lev]*(Bx_IGRF[lat, lon, lev]*Un_z_TIEGCM[lat, lon, lev]/bnorm[lat, lon, lev] - Bz_IGRF[lat, lon, lev]*Un_x_TIEGCM[lat, lon, lev]/bnorm[lat, lon, lev]) + By_IGRF[lat, lon, lev]*(-By_IGRF[lat, lon, lev]*Un_z_TIEGCM[lat, lon, lev]/bnorm[lat, lon, lev] + Bz_IGRF[lat, lon, lev]*Un_y_TIEGCM[lat, lon, lev]/bnorm[lat, lon, lev]) + Evertz[lat, lon, lev])/bnorm[lat, lon, lev] - By_IGRF[lat, lon, lev]*(-By_IGRF[lat, lon, lev]*(-Bx_IGRF[lat, lon, lev]*Un_y_TIEGCM[lat, lon, lev]/bnorm[lat, lon, lev] + By_IGRF[lat, lon, lev]*Un_x_TIEGCM[lat, lon, lev]/bnorm[lat, lon, lev]) + Bz_IGRF[lat, lon, lev]*(Bx_IGRF[lat, lon, lev]*Un_z_TIEGCM[lat, lon, lev]/bnorm[lat, lon, lev] - Bz_IGRF[lat, lon, lev]*Un_x_TIEGCM[lat, lon, lev]/bnorm[lat, lon, lev]) + Evertx[lat, lon, lev])/bnorm[lat, lon, lev]) + Pedersen_TIEGCM[lat, lon, lev]*(-Bx_IGRF[lat, lon, lev]*(Bx_IGRF[lat, lon, lev]*Un_z_TIEGCM[lat, lon, lev]/bnorm[lat, lon, lev] - Bz_IGRF[lat, lon, lev]*Un_x_TIEGCM[lat, lon, lev]/bnorm[lat, lon, lev]) + By_IGRF[lat, lon, lev]*(-By_IGRF[lat, lon, lev]*Un_z_TIEGCM[lat, lon, lev]/bnorm[lat, lon, lev] + Bz_IGRF[lat, lon, lev]*Un_y_TIEGCM[lat, lon, lev]/bnorm[lat, lon, lev]) + Evertz[lat, lon, lev]))**2 + (Hall_TIEGCM[lat, lon, lev]*(By_IGRF[lat, lon, lev]*(-Bx_IGRF[lat, lon, lev]*(Bx_IGRF[lat, lon, lev]*Un_z_TIEGCM[lat, lon, lev]/bnorm[lat, lon, lev] - Bz_IGRF[lat, lon, lev]*Un_x_TIEGCM[lat, lon, lev]/bnorm[lat, lon, lev]) + By_IGRF[lat, lon, lev]*(-By_IGRF[lat, lon, lev]*Un_z_TIEGCM[lat, lon, lev]/bnorm[lat, lon, lev] + Bz_IGRF[lat, lon, lev]*Un_y_TIEGCM[lat, lon, lev]/bnorm[lat, lon, lev]) + Evertz[lat, lon, lev])/bnorm[lat, lon, lev] - Bz_IGRF[lat, lon, lev]*(Bx_IGRF[lat, lon, lev]*(-Bx_IGRF[lat, lon, lev]*Un_y_TIEGCM[lat, lon, lev]/bnorm[lat, lon, lev] + By_IGRF[lat, lon, lev]*Un_x_TIEGCM[lat, lon, lev]/bnorm[lat, lon, lev]) - Bz_IGRF[lat, lon, lev]*(-By_IGRF[lat, lon, lev]*Un_z_TIEGCM[lat, lon, lev]/bnorm[lat, lon, lev] + Bz_IGRF[lat, lon, lev]*Un_y_TIEGCM[lat, lon, lev]/bnorm[lat, lon, lev]) + Everty[lat, lon, lev])/bnorm[lat, lon, lev]) + Pedersen_TIEGCM[lat, lon, lev]*(-By_IGRF[lat, lon, lev]*(-Bx_IGRF[lat, lon, lev]*Un_y_TIEGCM[lat, lon, lev]/bnorm[lat, lon, lev] + By_IGRF[lat, lon, lev]*Un_x_TIEGCM[lat, lon, lev]/bnorm[lat, lon, lev]) + Bz_IGRF[lat, lon, lev]*(Bx_IGRF[lat, lon, lev]*Un_z_TIEGCM[lat, lon, lev]/bnorm[lat, lon, lev] - Bz_IGRF[lat, lon, lev]*Un_x_TIEGCM[lat, lon, lev]/bnorm[lat, lon, lev]) + Evertx[lat, lon, lev]))**2)) ** 2\n",
    "\n",
    "                # dEvertz\n",
    "                Jt_eq_8 = ((-Bx_IGRF[lat, lon, lev]*Hall_TIEGCM[lat, lon, lev]*(Hall_TIEGCM[lat, lon, lev]*(-Bx_IGRF[lat, lon, lev]*(-Bx_IGRF[lat, lon, lev]*(Bx_IGRF[lat, lon, lev]*Un_z_TIEGCM[lat, lon, lev]/bnorm[lat, lon, lev] - Bz_IGRF[lat, lon, lev]*Un_x_TIEGCM[lat, lon, lev]/bnorm[lat, lon, lev]) + By_IGRF[lat, lon, lev]*(-By_IGRF[lat, lon, lev]*Un_z_TIEGCM[lat, lon, lev]/bnorm[lat, lon, lev] + Bz_IGRF[lat, lon, lev]*Un_y_TIEGCM[lat, lon, lev]/bnorm[lat, lon, lev]) + Evertz[lat, lon, lev])/bnorm[lat, lon, lev] + Bz_IGRF[lat, lon, lev]*(-By_IGRF[lat, lon, lev]*(-Bx_IGRF[lat, lon, lev]*Un_y_TIEGCM[lat, lon, lev]/bnorm[lat, lon, lev] + By_IGRF[lat, lon, lev]*Un_x_TIEGCM[lat, lon, lev]/bnorm[lat, lon, lev]) + Bz_IGRF[lat, lon, lev]*(Bx_IGRF[lat, lon, lev]*Un_z_TIEGCM[lat, lon, lev]/bnorm[lat, lon, lev] - Bz_IGRF[lat, lon, lev]*Un_x_TIEGCM[lat, lon, lev]/bnorm[lat, lon, lev]) + Evertx[lat, lon, lev])/bnorm[lat, lon, lev]) + Pedersen_TIEGCM[lat, lon, lev]*(Bx_IGRF[lat, lon, lev]*(-Bx_IGRF[lat, lon, lev]*Un_y_TIEGCM[lat, lon, lev]/bnorm[lat, lon, lev] + By_IGRF[lat, lon, lev]*Un_x_TIEGCM[lat, lon, lev]/bnorm[lat, lon, lev]) - Bz_IGRF[lat, lon, lev]*(-By_IGRF[lat, lon, lev]*Un_z_TIEGCM[lat, lon, lev]/bnorm[lat, lon, lev] + Bz_IGRF[lat, lon, lev]*Un_y_TIEGCM[lat, lon, lev]/bnorm[lat, lon, lev]) + Everty[lat, lon, lev]))/bnorm[lat, lon, lev] + By_IGRF[lat, lon, lev]*Hall_TIEGCM[lat, lon, lev]*(Hall_TIEGCM[lat, lon, lev]*(By_IGRF[lat, lon, lev]*(-Bx_IGRF[lat, lon, lev]*(Bx_IGRF[lat, lon, lev]*Un_z_TIEGCM[lat, lon, lev]/bnorm[lat, lon, lev] - Bz_IGRF[lat, lon, lev]*Un_x_TIEGCM[lat, lon, lev]/bnorm[lat, lon, lev]) + By_IGRF[lat, lon, lev]*(-By_IGRF[lat, lon, lev]*Un_z_TIEGCM[lat, lon, lev]/bnorm[lat, lon, lev] + Bz_IGRF[lat, lon, lev]*Un_y_TIEGCM[lat, lon, lev]/bnorm[lat, lon, lev]) + Evertz[lat, lon, lev])/bnorm[lat, lon, lev] - Bz_IGRF[lat, lon, lev]*(Bx_IGRF[lat, lon, lev]*(-Bx_IGRF[lat, lon, lev]*Un_y_TIEGCM[lat, lon, lev]/bnorm[lat, lon, lev] + By_IGRF[lat, lon, lev]*Un_x_TIEGCM[lat, lon, lev]/bnorm[lat, lon, lev]) - Bz_IGRF[lat, lon, lev]*(-By_IGRF[lat, lon, lev]*Un_z_TIEGCM[lat, lon, lev]/bnorm[lat, lon, lev] + Bz_IGRF[lat, lon, lev]*Un_y_TIEGCM[lat, lon, lev]/bnorm[lat, lon, lev]) + Everty[lat, lon, lev])/bnorm[lat, lon, lev]) + Pedersen_TIEGCM[lat, lon, lev]*(-By_IGRF[lat, lon, lev]*(-Bx_IGRF[lat, lon, lev]*Un_y_TIEGCM[lat, lon, lev]/bnorm[lat, lon, lev] + By_IGRF[lat, lon, lev]*Un_x_TIEGCM[lat, lon, lev]/bnorm[lat, lon, lev]) + Bz_IGRF[lat, lon, lev]*(Bx_IGRF[lat, lon, lev]*Un_z_TIEGCM[lat, lon, lev]/bnorm[lat, lon, lev] - Bz_IGRF[lat, lon, lev]*Un_x_TIEGCM[lat, lon, lev]/bnorm[lat, lon, lev]) + Evertx[lat, lon, lev]))/bnorm[lat, lon, lev] + (Hall_TIEGCM[lat, lon, lev]*(Bx_IGRF[lat, lon, lev]*(-Bx_IGRF[lat, lon, lev]*(Bx_IGRF[lat, lon, lev]*Un_z_TIEGCM[lat, lon, lev]/bnorm[lat, lon, lev] - Bz_IGRF[lat, lon, lev]*Un_x_TIEGCM[lat, lon, lev]/bnorm[lat, lon, lev]) + By_IGRF[lat, lon, lev]*(-By_IGRF[lat, lon, lev]*Un_z_TIEGCM[lat, lon, lev]/bnorm[lat, lon, lev] + Bz_IGRF[lat, lon, lev]*Un_y_TIEGCM[lat, lon, lev]/bnorm[lat, lon, lev]) + Evertz[lat, lon, lev])/bnorm[lat, lon, lev] - By_IGRF[lat, lon, lev]*(-By_IGRF[lat, lon, lev]*(-Bx_IGRF[lat, lon, lev]*Un_y_TIEGCM[lat, lon, lev]/bnorm[lat, lon, lev] + By_IGRF[lat, lon, lev]*Un_x_TIEGCM[lat, lon, lev]/bnorm[lat, lon, lev]) + Bz_IGRF[lat, lon, lev]*(Bx_IGRF[lat, lon, lev]*Un_z_TIEGCM[lat, lon, lev]/bnorm[lat, lon, lev] - Bz_IGRF[lat, lon, lev]*Un_x_TIEGCM[lat, lon, lev]/bnorm[lat, lon, lev]) + Evertx[lat, lon, lev])/bnorm[lat, lon, lev]) + Pedersen_TIEGCM[lat, lon, lev]*(-Bx_IGRF[lat, lon, lev]*(Bx_IGRF[lat, lon, lev]*Un_z_TIEGCM[lat, lon, lev]/bnorm[lat, lon, lev] - Bz_IGRF[lat, lon, lev]*Un_x_TIEGCM[lat, lon, lev]/bnorm[lat, lon, lev]) + By_IGRF[lat, lon, lev]*(-By_IGRF[lat, lon, lev]*Un_z_TIEGCM[lat, lon, lev]/bnorm[lat, lon, lev] + Bz_IGRF[lat, lon, lev]*Un_y_TIEGCM[lat, lon, lev]/bnorm[lat, lon, lev]) + Evertz[lat, lon, lev]))*(2*Bx_IGRF[lat, lon, lev]*Hall_TIEGCM[lat, lon, lev]/bnorm[lat, lon, lev] + 2*Pedersen_TIEGCM[lat, lon, lev])/2)/sy.sqrt((Hall_TIEGCM[lat, lon, lev]*(-Bx_IGRF[lat, lon, lev]*(-Bx_IGRF[lat, lon, lev]*(Bx_IGRF[lat, lon, lev]*Un_z_TIEGCM[lat, lon, lev]/bnorm[lat, lon, lev] - Bz_IGRF[lat, lon, lev]*Un_x_TIEGCM[lat, lon, lev]/bnorm[lat, lon, lev]) + By_IGRF[lat, lon, lev]*(-By_IGRF[lat, lon, lev]*Un_z_TIEGCM[lat, lon, lev]/bnorm[lat, lon, lev] + Bz_IGRF[lat, lon, lev]*Un_y_TIEGCM[lat, lon, lev]/bnorm[lat, lon, lev]) + Evertz[lat, lon, lev])/bnorm[lat, lon, lev] + Bz_IGRF[lat, lon, lev]*(-By_IGRF[lat, lon, lev]*(-Bx_IGRF[lat, lon, lev]*Un_y_TIEGCM[lat, lon, lev]/bnorm[lat, lon, lev] + By_IGRF[lat, lon, lev]*Un_x_TIEGCM[lat, lon, lev]/bnorm[lat, lon, lev]) + Bz_IGRF[lat, lon, lev]*(Bx_IGRF[lat, lon, lev]*Un_z_TIEGCM[lat, lon, lev]/bnorm[lat, lon, lev] - Bz_IGRF[lat, lon, lev]*Un_x_TIEGCM[lat, lon, lev]/bnorm[lat, lon, lev]) + Evertx[lat, lon, lev])/bnorm[lat, lon, lev]) + Pedersen_TIEGCM[lat, lon, lev]*(Bx_IGRF[lat, lon, lev]*(-Bx_IGRF[lat, lon, lev]*Un_y_TIEGCM[lat, lon, lev]/bnorm[lat, lon, lev] + By_IGRF[lat, lon, lev]*Un_x_TIEGCM[lat, lon, lev]/bnorm[lat, lon, lev]) - Bz_IGRF[lat, lon, lev]*(-By_IGRF[lat, lon, lev]*Un_z_TIEGCM[lat, lon, lev]/bnorm[lat, lon, lev] + Bz_IGRF[lat, lon, lev]*Un_y_TIEGCM[lat, lon, lev]/bnorm[lat, lon, lev]) + Everty[lat, lon, lev]))**2 + (Hall_TIEGCM[lat, lon, lev]*(Bx_IGRF[lat, lon, lev]*(-Bx_IGRF[lat, lon, lev]*(Bx_IGRF[lat, lon, lev]*Un_z_TIEGCM[lat, lon, lev]/bnorm[lat, lon, lev] - Bz_IGRF[lat, lon, lev]*Un_x_TIEGCM[lat, lon, lev]/bnorm[lat, lon, lev]) + By_IGRF[lat, lon, lev]*(-By_IGRF[lat, lon, lev]*Un_z_TIEGCM[lat, lon, lev]/bnorm[lat, lon, lev] + Bz_IGRF[lat, lon, lev]*Un_y_TIEGCM[lat, lon, lev]/bnorm[lat, lon, lev]) + Evertz[lat, lon, lev])/bnorm[lat, lon, lev] - By_IGRF[lat, lon, lev]*(-By_IGRF[lat, lon, lev]*(-Bx_IGRF[lat, lon, lev]*Un_y_TIEGCM[lat, lon, lev]/bnorm[lat, lon, lev] + By_IGRF[lat, lon, lev]*Un_x_TIEGCM[lat, lon, lev]/bnorm[lat, lon, lev]) + Bz_IGRF[lat, lon, lev]*(Bx_IGRF[lat, lon, lev]*Un_z_TIEGCM[lat, lon, lev]/bnorm[lat, lon, lev] - Bz_IGRF[lat, lon, lev]*Un_x_TIEGCM[lat, lon, lev]/bnorm[lat, lon, lev]) + Evertx[lat, lon, lev])/bnorm[lat, lon, lev]) + Pedersen_TIEGCM[lat, lon, lev]*(-Bx_IGRF[lat, lon, lev]*(Bx_IGRF[lat, lon, lev]*Un_z_TIEGCM[lat, lon, lev]/bnorm[lat, lon, lev] - Bz_IGRF[lat, lon, lev]*Un_x_TIEGCM[lat, lon, lev]/bnorm[lat, lon, lev]) + By_IGRF[lat, lon, lev]*(-By_IGRF[lat, lon, lev]*Un_z_TIEGCM[lat, lon, lev]/bnorm[lat, lon, lev] + Bz_IGRF[lat, lon, lev]*Un_y_TIEGCM[lat, lon, lev]/bnorm[lat, lon, lev]) + Evertz[lat, lon, lev]))**2 + (Hall_TIEGCM[lat, lon, lev]*(By_IGRF[lat, lon, lev]*(-Bx_IGRF[lat, lon, lev]*(Bx_IGRF[lat, lon, lev]*Un_z_TIEGCM[lat, lon, lev]/bnorm[lat, lon, lev] - Bz_IGRF[lat, lon, lev]*Un_x_TIEGCM[lat, lon, lev]/bnorm[lat, lon, lev]) + By_IGRF[lat, lon, lev]*(-By_IGRF[lat, lon, lev]*Un_z_TIEGCM[lat, lon, lev]/bnorm[lat, lon, lev] + Bz_IGRF[lat, lon, lev]*Un_y_TIEGCM[lat, lon, lev]/bnorm[lat, lon, lev]) + Evertz[lat, lon, lev])/bnorm[lat, lon, lev] - Bz_IGRF[lat, lon, lev]*(Bx_IGRF[lat, lon, lev]*(-Bx_IGRF[lat, lon, lev]*Un_y_TIEGCM[lat, lon, lev]/bnorm[lat, lon, lev] + By_IGRF[lat, lon, lev]*Un_x_TIEGCM[lat, lon, lev]/bnorm[lat, lon, lev]) - Bz_IGRF[lat, lon, lev]*(-By_IGRF[lat, lon, lev]*Un_z_TIEGCM[lat, lon, lev]/bnorm[lat, lon, lev] + Bz_IGRF[lat, lon, lev]*Un_y_TIEGCM[lat, lon, lev]/bnorm[lat, lon, lev]) + Everty[lat, lon, lev])/bnorm[lat, lon, lev]) + Pedersen_TIEGCM[lat, lon, lev]*(-By_IGRF[lat, lon, lev]*(-Bx_IGRF[lat, lon, lev]*Un_y_TIEGCM[lat, lon, lev]/bnorm[lat, lon, lev] + By_IGRF[lat, lon, lev]*Un_x_TIEGCM[lat, lon, lev]/bnorm[lat, lon, lev]) + Bz_IGRF[lat, lon, lev]*(Bx_IGRF[lat, lon, lev]*Un_z_TIEGCM[lat, lon, lev]/bnorm[lat, lon, lev] - Bz_IGRF[lat, lon, lev]*Un_x_TIEGCM[lat, lon, lev]/bnorm[lat, lon, lev]) + Evertx[lat, lon, lev]))**2)) ** 2\n",
    "\n",
    "                # dUnx\n",
    "                Jt_eq_9 = ((Pedersen_TIEGCM[lat, lon, lev]*(-By_IGRF[lat, lon, lev]**2/bnorm[lat, lon, lev] - Bz_IGRF[lat, lon, lev]**2/bnorm[lat, lon, lev])*(Hall_TIEGCM[lat, lon, lev]*(By_IGRF[lat, lon, lev]*(-Bx_IGRF[lat, lon, lev]*(Bx_IGRF[lat, lon, lev]*Un_z_TIEGCM[lat, lon, lev]/bnorm[lat, lon, lev] - Bz_IGRF[lat, lon, lev]*Un_x_TIEGCM[lat, lon, lev]/bnorm[lat, lon, lev]) + By_IGRF[lat, lon, lev]*(-By_IGRF[lat, lon, lev]*Un_z_TIEGCM[lat, lon, lev]/bnorm[lat, lon, lev] + Bz_IGRF[lat, lon, lev]*Un_y_TIEGCM[lat, lon, lev]/bnorm[lat, lon, lev]) + Evertz[lat, lon, lev])/bnorm[lat, lon, lev] - Bz_IGRF[lat, lon, lev]*(Bx_IGRF[lat, lon, lev]*(-Bx_IGRF[lat, lon, lev]*Un_y_TIEGCM[lat, lon, lev]/bnorm[lat, lon, lev] + By_IGRF[lat, lon, lev]*Un_x_TIEGCM[lat, lon, lev]/bnorm[lat, lon, lev]) - Bz_IGRF[lat, lon, lev]*(-By_IGRF[lat, lon, lev]*Un_z_TIEGCM[lat, lon, lev]/bnorm[lat, lon, lev] + Bz_IGRF[lat, lon, lev]*Un_y_TIEGCM[lat, lon, lev]/bnorm[lat, lon, lev]) + Everty[lat, lon, lev])/bnorm[lat, lon, lev]) + Pedersen_TIEGCM[lat, lon, lev]*(-By_IGRF[lat, lon, lev]*(-Bx_IGRF[lat, lon, lev]*Un_y_TIEGCM[lat, lon, lev]/bnorm[lat, lon, lev] + By_IGRF[lat, lon, lev]*Un_x_TIEGCM[lat, lon, lev]/bnorm[lat, lon, lev]) + Bz_IGRF[lat, lon, lev]*(Bx_IGRF[lat, lon, lev]*Un_z_TIEGCM[lat, lon, lev]/bnorm[lat, lon, lev] - Bz_IGRF[lat, lon, lev]*Un_x_TIEGCM[lat, lon, lev]/bnorm[lat, lon, lev]) + Evertx[lat, lon, lev])) + (Hall_TIEGCM[lat, lon, lev]*(-Bx_IGRF[lat, lon, lev]*(-Bx_IGRF[lat, lon, lev]*(Bx_IGRF[lat, lon, lev]*Un_z_TIEGCM[lat, lon, lev]/bnorm[lat, lon, lev] - Bz_IGRF[lat, lon, lev]*Un_x_TIEGCM[lat, lon, lev]/bnorm[lat, lon, lev]) + By_IGRF[lat, lon, lev]*(-By_IGRF[lat, lon, lev]*Un_z_TIEGCM[lat, lon, lev]/bnorm[lat, lon, lev] + Bz_IGRF[lat, lon, lev]*Un_y_TIEGCM[lat, lon, lev]/bnorm[lat, lon, lev]) + Evertz[lat, lon, lev])/bnorm[lat, lon, lev] + Bz_IGRF[lat, lon, lev]*(-By_IGRF[lat, lon, lev]*(-Bx_IGRF[lat, lon, lev]*Un_y_TIEGCM[lat, lon, lev]/bnorm[lat, lon, lev] + By_IGRF[lat, lon, lev]*Un_x_TIEGCM[lat, lon, lev]/bnorm[lat, lon, lev]) + Bz_IGRF[lat, lon, lev]*(Bx_IGRF[lat, lon, lev]*Un_z_TIEGCM[lat, lon, lev]/bnorm[lat, lon, lev] - Bz_IGRF[lat, lon, lev]*Un_x_TIEGCM[lat, lon, lev]/bnorm[lat, lon, lev]) + Evertx[lat, lon, lev])/bnorm[lat, lon, lev]) + Pedersen_TIEGCM[lat, lon, lev]*(Bx_IGRF[lat, lon, lev]*(-Bx_IGRF[lat, lon, lev]*Un_y_TIEGCM[lat, lon, lev]/bnorm[lat, lon, lev] + By_IGRF[lat, lon, lev]*Un_x_TIEGCM[lat, lon, lev]/bnorm[lat, lon, lev]) - Bz_IGRF[lat, lon, lev]*(-By_IGRF[lat, lon, lev]*Un_z_TIEGCM[lat, lon, lev]/bnorm[lat, lon, lev] + Bz_IGRF[lat, lon, lev]*Un_y_TIEGCM[lat, lon, lev]/bnorm[lat, lon, lev]) + Everty[lat, lon, lev]))*(2*Bx_IGRF[lat, lon, lev]*By_IGRF[lat, lon, lev]*Pedersen_TIEGCM[lat, lon, lev]/bnorm[lat, lon, lev] + 2*Hall_TIEGCM[lat, lon, lev]*(-Bx_IGRF[lat, lon, lev]**2*Bz_IGRF[lat, lon, lev]/bnorm[lat, lon, lev]**2 + Bz_IGRF[lat, lon, lev]*(-By_IGRF[lat, lon, lev]**2/bnorm[lat, lon, lev] - Bz_IGRF[lat, lon, lev]**2/bnorm[lat, lon, lev])/bnorm[lat, lon, lev]))/2 + (Hall_TIEGCM[lat, lon, lev]*(Bx_IGRF[lat, lon, lev]*(-Bx_IGRF[lat, lon, lev]*(Bx_IGRF[lat, lon, lev]*Un_z_TIEGCM[lat, lon, lev]/bnorm[lat, lon, lev] - Bz_IGRF[lat, lon, lev]*Un_x_TIEGCM[lat, lon, lev]/bnorm[lat, lon, lev]) + By_IGRF[lat, lon, lev]*(-By_IGRF[lat, lon, lev]*Un_z_TIEGCM[lat, lon, lev]/bnorm[lat, lon, lev] + Bz_IGRF[lat, lon, lev]*Un_y_TIEGCM[lat, lon, lev]/bnorm[lat, lon, lev]) + Evertz[lat, lon, lev])/bnorm[lat, lon, lev] - By_IGRF[lat, lon, lev]*(-By_IGRF[lat, lon, lev]*(-Bx_IGRF[lat, lon, lev]*Un_y_TIEGCM[lat, lon, lev]/bnorm[lat, lon, lev] + By_IGRF[lat, lon, lev]*Un_x_TIEGCM[lat, lon, lev]/bnorm[lat, lon, lev]) + Bz_IGRF[lat, lon, lev]*(Bx_IGRF[lat, lon, lev]*Un_z_TIEGCM[lat, lon, lev]/bnorm[lat, lon, lev] - Bz_IGRF[lat, lon, lev]*Un_x_TIEGCM[lat, lon, lev]/bnorm[lat, lon, lev]) + Evertx[lat, lon, lev])/bnorm[lat, lon, lev]) + Pedersen_TIEGCM[lat, lon, lev]*(-Bx_IGRF[lat, lon, lev]*(Bx_IGRF[lat, lon, lev]*Un_z_TIEGCM[lat, lon, lev]/bnorm[lat, lon, lev] - Bz_IGRF[lat, lon, lev]*Un_x_TIEGCM[lat, lon, lev]/bnorm[lat, lon, lev]) + By_IGRF[lat, lon, lev]*(-By_IGRF[lat, lon, lev]*Un_z_TIEGCM[lat, lon, lev]/bnorm[lat, lon, lev] + Bz_IGRF[lat, lon, lev]*Un_y_TIEGCM[lat, lon, lev]/bnorm[lat, lon, lev]) + Evertz[lat, lon, lev]))*(2*Bx_IGRF[lat, lon, lev]*Bz_IGRF[lat, lon, lev]*Pedersen_TIEGCM[lat, lon, lev]/bnorm[lat, lon, lev] + 2*Hall_TIEGCM[lat, lon, lev]*(Bx_IGRF[lat, lon, lev]**2*Bz_IGRF[lat, lon, lev]/bnorm[lat, lon, lev]**2 - By_IGRF[lat, lon, lev]*(-By_IGRF[lat, lon, lev]**2/bnorm[lat, lon, lev] - Bz_IGRF[lat, lon, lev]**2/bnorm[lat, lon, lev])/bnorm[lat, lon, lev]))/2)/sy.sqrt((Hall_TIEGCM[lat, lon, lev]*(-Bx_IGRF[lat, lon, lev]*(-Bx_IGRF[lat, lon, lev]*(Bx_IGRF[lat, lon, lev]*Un_z_TIEGCM[lat, lon, lev]/bnorm[lat, lon, lev] - Bz_IGRF[lat, lon, lev]*Un_x_TIEGCM[lat, lon, lev]/bnorm[lat, lon, lev]) + By_IGRF[lat, lon, lev]*(-By_IGRF[lat, lon, lev]*Un_z_TIEGCM[lat, lon, lev]/bnorm[lat, lon, lev] + Bz_IGRF[lat, lon, lev]*Un_y_TIEGCM[lat, lon, lev]/bnorm[lat, lon, lev]) + Evertz[lat, lon, lev])/bnorm[lat, lon, lev] + Bz_IGRF[lat, lon, lev]*(-By_IGRF[lat, lon, lev]*(-Bx_IGRF[lat, lon, lev]*Un_y_TIEGCM[lat, lon, lev]/bnorm[lat, lon, lev] + By_IGRF[lat, lon, lev]*Un_x_TIEGCM[lat, lon, lev]/bnorm[lat, lon, lev]) + Bz_IGRF[lat, lon, lev]*(Bx_IGRF[lat, lon, lev]*Un_z_TIEGCM[lat, lon, lev]/bnorm[lat, lon, lev] - Bz_IGRF[lat, lon, lev]*Un_x_TIEGCM[lat, lon, lev]/bnorm[lat, lon, lev]) + Evertx[lat, lon, lev])/bnorm[lat, lon, lev]) + Pedersen_TIEGCM[lat, lon, lev]*(Bx_IGRF[lat, lon, lev]*(-Bx_IGRF[lat, lon, lev]*Un_y_TIEGCM[lat, lon, lev]/bnorm[lat, lon, lev] + By_IGRF[lat, lon, lev]*Un_x_TIEGCM[lat, lon, lev]/bnorm[lat, lon, lev]) - Bz_IGRF[lat, lon, lev]*(-By_IGRF[lat, lon, lev]*Un_z_TIEGCM[lat, lon, lev]/bnorm[lat, lon, lev] + Bz_IGRF[lat, lon, lev]*Un_y_TIEGCM[lat, lon, lev]/bnorm[lat, lon, lev]) + Everty[lat, lon, lev]))**2 + (Hall_TIEGCM[lat, lon, lev]*(Bx_IGRF[lat, lon, lev]*(-Bx_IGRF[lat, lon, lev]*(Bx_IGRF[lat, lon, lev]*Un_z_TIEGCM[lat, lon, lev]/bnorm[lat, lon, lev] - Bz_IGRF[lat, lon, lev]*Un_x_TIEGCM[lat, lon, lev]/bnorm[lat, lon, lev]) + By_IGRF[lat, lon, lev]*(-By_IGRF[lat, lon, lev]*Un_z_TIEGCM[lat, lon, lev]/bnorm[lat, lon, lev] + Bz_IGRF[lat, lon, lev]*Un_y_TIEGCM[lat, lon, lev]/bnorm[lat, lon, lev]) + Evertz[lat, lon, lev])/bnorm[lat, lon, lev] - By_IGRF[lat, lon, lev]*(-By_IGRF[lat, lon, lev]*(-Bx_IGRF[lat, lon, lev]*Un_y_TIEGCM[lat, lon, lev]/bnorm[lat, lon, lev] + By_IGRF[lat, lon, lev]*Un_x_TIEGCM[lat, lon, lev]/bnorm[lat, lon, lev]) + Bz_IGRF[lat, lon, lev]*(Bx_IGRF[lat, lon, lev]*Un_z_TIEGCM[lat, lon, lev]/bnorm[lat, lon, lev] - Bz_IGRF[lat, lon, lev]*Un_x_TIEGCM[lat, lon, lev]/bnorm[lat, lon, lev]) + Evertx[lat, lon, lev])/bnorm[lat, lon, lev]) + Pedersen_TIEGCM[lat, lon, lev]*(-Bx_IGRF[lat, lon, lev]*(Bx_IGRF[lat, lon, lev]*Un_z_TIEGCM[lat, lon, lev]/bnorm[lat, lon, lev] - Bz_IGRF[lat, lon, lev]*Un_x_TIEGCM[lat, lon, lev]/bnorm[lat, lon, lev]) + By_IGRF[lat, lon, lev]*(-By_IGRF[lat, lon, lev]*Un_z_TIEGCM[lat, lon, lev]/bnorm[lat, lon, lev] + Bz_IGRF[lat, lon, lev]*Un_y_TIEGCM[lat, lon, lev]/bnorm[lat, lon, lev]) + Evertz[lat, lon, lev]))**2 + (Hall_TIEGCM[lat, lon, lev]*(By_IGRF[lat, lon, lev]*(-Bx_IGRF[lat, lon, lev]*(Bx_IGRF[lat, lon, lev]*Un_z_TIEGCM[lat, lon, lev]/bnorm[lat, lon, lev] - Bz_IGRF[lat, lon, lev]*Un_x_TIEGCM[lat, lon, lev]/bnorm[lat, lon, lev]) + By_IGRF[lat, lon, lev]*(-By_IGRF[lat, lon, lev]*Un_z_TIEGCM[lat, lon, lev]/bnorm[lat, lon, lev] + Bz_IGRF[lat, lon, lev]*Un_y_TIEGCM[lat, lon, lev]/bnorm[lat, lon, lev]) + Evertz[lat, lon, lev])/bnorm[lat, lon, lev] - Bz_IGRF[lat, lon, lev]*(Bx_IGRF[lat, lon, lev]*(-Bx_IGRF[lat, lon, lev]*Un_y_TIEGCM[lat, lon, lev]/bnorm[lat, lon, lev] + By_IGRF[lat, lon, lev]*Un_x_TIEGCM[lat, lon, lev]/bnorm[lat, lon, lev]) - Bz_IGRF[lat, lon, lev]*(-By_IGRF[lat, lon, lev]*Un_z_TIEGCM[lat, lon, lev]/bnorm[lat, lon, lev] + Bz_IGRF[lat, lon, lev]*Un_y_TIEGCM[lat, lon, lev]/bnorm[lat, lon, lev]) + Everty[lat, lon, lev])/bnorm[lat, lon, lev]) + Pedersen_TIEGCM[lat, lon, lev]*(-By_IGRF[lat, lon, lev]*(-Bx_IGRF[lat, lon, lev]*Un_y_TIEGCM[lat, lon, lev]/bnorm[lat, lon, lev] + By_IGRF[lat, lon, lev]*Un_x_TIEGCM[lat, lon, lev]/bnorm[lat, lon, lev]) + Bz_IGRF[lat, lon, lev]*(Bx_IGRF[lat, lon, lev]*Un_z_TIEGCM[lat, lon, lev]/bnorm[lat, lon, lev] - Bz_IGRF[lat, lon, lev]*Un_x_TIEGCM[lat, lon, lev]/bnorm[lat, lon, lev]) + Evertx[lat, lon, lev]))**2)) ** 2\n",
    "\n",
    "                # dUny\n",
    "                Jt_eq_10 = ((Pedersen_TIEGCM[lat, lon, lev]*(-Bx_IGRF[lat, lon, lev]**2/bnorm[lat, lon, lev] - Bz_IGRF[lat, lon, lev]**2/bnorm[lat, lon, lev])*(Hall_TIEGCM[lat, lon, lev]*(-Bx_IGRF[lat, lon, lev]*(-Bx_IGRF[lat, lon, lev]*(Bx_IGRF[lat, lon, lev]*Un_z_TIEGCM[lat, lon, lev]/bnorm[lat, lon, lev] - Bz_IGRF[lat, lon, lev]*Un_x_TIEGCM[lat, lon, lev]/bnorm[lat, lon, lev]) + By_IGRF[lat, lon, lev]*(-By_IGRF[lat, lon, lev]*Un_z_TIEGCM[lat, lon, lev]/bnorm[lat, lon, lev] + Bz_IGRF[lat, lon, lev]*Un_y_TIEGCM[lat, lon, lev]/bnorm[lat, lon, lev]) + Evertz[lat, lon, lev])/bnorm[lat, lon, lev] + Bz_IGRF[lat, lon, lev]*(-By_IGRF[lat, lon, lev]*(-Bx_IGRF[lat, lon, lev]*Un_y_TIEGCM[lat, lon, lev]/bnorm[lat, lon, lev] + By_IGRF[lat, lon, lev]*Un_x_TIEGCM[lat, lon, lev]/bnorm[lat, lon, lev]) + Bz_IGRF[lat, lon, lev]*(Bx_IGRF[lat, lon, lev]*Un_z_TIEGCM[lat, lon, lev]/bnorm[lat, lon, lev] - Bz_IGRF[lat, lon, lev]*Un_x_TIEGCM[lat, lon, lev]/bnorm[lat, lon, lev]) + Evertx[lat, lon, lev])/bnorm[lat, lon, lev]) + Pedersen_TIEGCM[lat, lon, lev]*(Bx_IGRF[lat, lon, lev]*(-Bx_IGRF[lat, lon, lev]*Un_y_TIEGCM[lat, lon, lev]/bnorm[lat, lon, lev] + By_IGRF[lat, lon, lev]*Un_x_TIEGCM[lat, lon, lev]/bnorm[lat, lon, lev]) - Bz_IGRF[lat, lon, lev]*(-By_IGRF[lat, lon, lev]*Un_z_TIEGCM[lat, lon, lev]/bnorm[lat, lon, lev] + Bz_IGRF[lat, lon, lev]*Un_y_TIEGCM[lat, lon, lev]/bnorm[lat, lon, lev]) + Everty[lat, lon, lev])) + (Hall_TIEGCM[lat, lon, lev]*(Bx_IGRF[lat, lon, lev]*(-Bx_IGRF[lat, lon, lev]*(Bx_IGRF[lat, lon, lev]*Un_z_TIEGCM[lat, lon, lev]/bnorm[lat, lon, lev] - Bz_IGRF[lat, lon, lev]*Un_x_TIEGCM[lat, lon, lev]/bnorm[lat, lon, lev]) + By_IGRF[lat, lon, lev]*(-By_IGRF[lat, lon, lev]*Un_z_TIEGCM[lat, lon, lev]/bnorm[lat, lon, lev] + Bz_IGRF[lat, lon, lev]*Un_y_TIEGCM[lat, lon, lev]/bnorm[lat, lon, lev]) + Evertz[lat, lon, lev])/bnorm[lat, lon, lev] - By_IGRF[lat, lon, lev]*(-By_IGRF[lat, lon, lev]*(-Bx_IGRF[lat, lon, lev]*Un_y_TIEGCM[lat, lon, lev]/bnorm[lat, lon, lev] + By_IGRF[lat, lon, lev]*Un_x_TIEGCM[lat, lon, lev]/bnorm[lat, lon, lev]) + Bz_IGRF[lat, lon, lev]*(Bx_IGRF[lat, lon, lev]*Un_z_TIEGCM[lat, lon, lev]/bnorm[lat, lon, lev] - Bz_IGRF[lat, lon, lev]*Un_x_TIEGCM[lat, lon, lev]/bnorm[lat, lon, lev]) + Evertx[lat, lon, lev])/bnorm[lat, lon, lev]) + Pedersen_TIEGCM[lat, lon, lev]*(-Bx_IGRF[lat, lon, lev]*(Bx_IGRF[lat, lon, lev]*Un_z_TIEGCM[lat, lon, lev]/bnorm[lat, lon, lev] - Bz_IGRF[lat, lon, lev]*Un_x_TIEGCM[lat, lon, lev]/bnorm[lat, lon, lev]) + By_IGRF[lat, lon, lev]*(-By_IGRF[lat, lon, lev]*Un_z_TIEGCM[lat, lon, lev]/bnorm[lat, lon, lev] + Bz_IGRF[lat, lon, lev]*Un_y_TIEGCM[lat, lon, lev]/bnorm[lat, lon, lev]) + Evertz[lat, lon, lev]))*(2*By_IGRF[lat, lon, lev]*Bz_IGRF[lat, lon, lev]*Pedersen_TIEGCM[lat, lon, lev]/bnorm[lat, lon, lev] + 2*Hall_TIEGCM[lat, lon, lev]*(-Bx_IGRF[lat, lon, lev]*By_IGRF[lat, lon, lev]**2/bnorm[lat, lon, lev]**2 + Bx_IGRF[lat, lon, lev]*By_IGRF[lat, lon, lev]*Bz_IGRF[lat, lon, lev]/bnorm[lat, lon, lev]**2))/2 + (Hall_TIEGCM[lat, lon, lev]*(By_IGRF[lat, lon, lev]*(-Bx_IGRF[lat, lon, lev]*(Bx_IGRF[lat, lon, lev]*Un_z_TIEGCM[lat, lon, lev]/bnorm[lat, lon, lev] - Bz_IGRF[lat, lon, lev]*Un_x_TIEGCM[lat, lon, lev]/bnorm[lat, lon, lev]) + By_IGRF[lat, lon, lev]*(-By_IGRF[lat, lon, lev]*Un_z_TIEGCM[lat, lon, lev]/bnorm[lat, lon, lev] + Bz_IGRF[lat, lon, lev]*Un_y_TIEGCM[lat, lon, lev]/bnorm[lat, lon, lev]) + Evertz[lat, lon, lev])/bnorm[lat, lon, lev] - Bz_IGRF[lat, lon, lev]*(Bx_IGRF[lat, lon, lev]*(-Bx_IGRF[lat, lon, lev]*Un_y_TIEGCM[lat, lon, lev]/bnorm[lat, lon, lev] + By_IGRF[lat, lon, lev]*Un_x_TIEGCM[lat, lon, lev]/bnorm[lat, lon, lev]) - Bz_IGRF[lat, lon, lev]*(-By_IGRF[lat, lon, lev]*Un_z_TIEGCM[lat, lon, lev]/bnorm[lat, lon, lev] + Bz_IGRF[lat, lon, lev]*Un_y_TIEGCM[lat, lon, lev]/bnorm[lat, lon, lev]) + Everty[lat, lon, lev])/bnorm[lat, lon, lev]) + Pedersen_TIEGCM[lat, lon, lev]*(-By_IGRF[lat, lon, lev]*(-Bx_IGRF[lat, lon, lev]*Un_y_TIEGCM[lat, lon, lev]/bnorm[lat, lon, lev] + By_IGRF[lat, lon, lev]*Un_x_TIEGCM[lat, lon, lev]/bnorm[lat, lon, lev]) + Bz_IGRF[lat, lon, lev]*(Bx_IGRF[lat, lon, lev]*Un_z_TIEGCM[lat, lon, lev]/bnorm[lat, lon, lev] - Bz_IGRF[lat, lon, lev]*Un_x_TIEGCM[lat, lon, lev]/bnorm[lat, lon, lev]) + Evertx[lat, lon, lev]))*(2*Bx_IGRF[lat, lon, lev]*By_IGRF[lat, lon, lev]*Pedersen_TIEGCM[lat, lon, lev]/bnorm[lat, lon, lev] + 2*Hall_TIEGCM[lat, lon, lev]*(By_IGRF[lat, lon, lev]**2*Bz_IGRF[lat, lon, lev]/bnorm[lat, lon, lev]**2 - Bz_IGRF[lat, lon, lev]*(-Bx_IGRF[lat, lon, lev]**2/bnorm[lat, lon, lev] - Bz_IGRF[lat, lon, lev]**2/bnorm[lat, lon, lev])/bnorm[lat, lon, lev]))/2)/sy.sqrt((Hall_TIEGCM[lat, lon, lev]*(-Bx_IGRF[lat, lon, lev]*(-Bx_IGRF[lat, lon, lev]*(Bx_IGRF[lat, lon, lev]*Un_z_TIEGCM[lat, lon, lev]/bnorm[lat, lon, lev] - Bz_IGRF[lat, lon, lev]*Un_x_TIEGCM[lat, lon, lev]/bnorm[lat, lon, lev]) + By_IGRF[lat, lon, lev]*(-By_IGRF[lat, lon, lev]*Un_z_TIEGCM[lat, lon, lev]/bnorm[lat, lon, lev] + Bz_IGRF[lat, lon, lev]*Un_y_TIEGCM[lat, lon, lev]/bnorm[lat, lon, lev]) + Evertz[lat, lon, lev])/bnorm[lat, lon, lev] + Bz_IGRF[lat, lon, lev]*(-By_IGRF[lat, lon, lev]*(-Bx_IGRF[lat, lon, lev]*Un_y_TIEGCM[lat, lon, lev]/bnorm[lat, lon, lev] + By_IGRF[lat, lon, lev]*Un_x_TIEGCM[lat, lon, lev]/bnorm[lat, lon, lev]) + Bz_IGRF[lat, lon, lev]*(Bx_IGRF[lat, lon, lev]*Un_z_TIEGCM[lat, lon, lev]/bnorm[lat, lon, lev] - Bz_IGRF[lat, lon, lev]*Un_x_TIEGCM[lat, lon, lev]/bnorm[lat, lon, lev]) + Evertx[lat, lon, lev])/bnorm[lat, lon, lev]) + Pedersen_TIEGCM[lat, lon, lev]*(Bx_IGRF[lat, lon, lev]*(-Bx_IGRF[lat, lon, lev]*Un_y_TIEGCM[lat, lon, lev]/bnorm[lat, lon, lev] + By_IGRF[lat, lon, lev]*Un_x_TIEGCM[lat, lon, lev]/bnorm[lat, lon, lev]) - Bz_IGRF[lat, lon, lev]*(-By_IGRF[lat, lon, lev]*Un_z_TIEGCM[lat, lon, lev]/bnorm[lat, lon, lev] + Bz_IGRF[lat, lon, lev]*Un_y_TIEGCM[lat, lon, lev]/bnorm[lat, lon, lev]) + Everty[lat, lon, lev]))**2 + (Hall_TIEGCM[lat, lon, lev]*(Bx_IGRF[lat, lon, lev]*(-Bx_IGRF[lat, lon, lev]*(Bx_IGRF[lat, lon, lev]*Un_z_TIEGCM[lat, lon, lev]/bnorm[lat, lon, lev] - Bz_IGRF[lat, lon, lev]*Un_x_TIEGCM[lat, lon, lev]/bnorm[lat, lon, lev]) + By_IGRF[lat, lon, lev]*(-By_IGRF[lat, lon, lev]*Un_z_TIEGCM[lat, lon, lev]/bnorm[lat, lon, lev] + Bz_IGRF[lat, lon, lev]*Un_y_TIEGCM[lat, lon, lev]/bnorm[lat, lon, lev]) + Evertz[lat, lon, lev])/bnorm[lat, lon, lev] - By_IGRF[lat, lon, lev]*(-By_IGRF[lat, lon, lev]*(-Bx_IGRF[lat, lon, lev]*Un_y_TIEGCM[lat, lon, lev]/bnorm[lat, lon, lev] + By_IGRF[lat, lon, lev]*Un_x_TIEGCM[lat, lon, lev]/bnorm[lat, lon, lev]) + Bz_IGRF[lat, lon, lev]*(Bx_IGRF[lat, lon, lev]*Un_z_TIEGCM[lat, lon, lev]/bnorm[lat, lon, lev] - Bz_IGRF[lat, lon, lev]*Un_x_TIEGCM[lat, lon, lev]/bnorm[lat, lon, lev]) + Evertx[lat, lon, lev])/bnorm[lat, lon, lev]) + Pedersen_TIEGCM[lat, lon, lev]*(-Bx_IGRF[lat, lon, lev]*(Bx_IGRF[lat, lon, lev]*Un_z_TIEGCM[lat, lon, lev]/bnorm[lat, lon, lev] - Bz_IGRF[lat, lon, lev]*Un_x_TIEGCM[lat, lon, lev]/bnorm[lat, lon, lev]) + By_IGRF[lat, lon, lev]*(-By_IGRF[lat, lon, lev]*Un_z_TIEGCM[lat, lon, lev]/bnorm[lat, lon, lev] + Bz_IGRF[lat, lon, lev]*Un_y_TIEGCM[lat, lon, lev]/bnorm[lat, lon, lev]) + Evertz[lat, lon, lev]))**2 + (Hall_TIEGCM[lat, lon, lev]*(By_IGRF[lat, lon, lev]*(-Bx_IGRF[lat, lon, lev]*(Bx_IGRF[lat, lon, lev]*Un_z_TIEGCM[lat, lon, lev]/bnorm[lat, lon, lev] - Bz_IGRF[lat, lon, lev]*Un_x_TIEGCM[lat, lon, lev]/bnorm[lat, lon, lev]) + By_IGRF[lat, lon, lev]*(-By_IGRF[lat, lon, lev]*Un_z_TIEGCM[lat, lon, lev]/bnorm[lat, lon, lev] + Bz_IGRF[lat, lon, lev]*Un_y_TIEGCM[lat, lon, lev]/bnorm[lat, lon, lev]) + Evertz[lat, lon, lev])/bnorm[lat, lon, lev] - Bz_IGRF[lat, lon, lev]*(Bx_IGRF[lat, lon, lev]*(-Bx_IGRF[lat, lon, lev]*Un_y_TIEGCM[lat, lon, lev]/bnorm[lat, lon, lev] + By_IGRF[lat, lon, lev]*Un_x_TIEGCM[lat, lon, lev]/bnorm[lat, lon, lev]) - Bz_IGRF[lat, lon, lev]*(-By_IGRF[lat, lon, lev]*Un_z_TIEGCM[lat, lon, lev]/bnorm[lat, lon, lev] + Bz_IGRF[lat, lon, lev]*Un_y_TIEGCM[lat, lon, lev]/bnorm[lat, lon, lev]) + Everty[lat, lon, lev])/bnorm[lat, lon, lev]) + Pedersen_TIEGCM[lat, lon, lev]*(-By_IGRF[lat, lon, lev]*(-Bx_IGRF[lat, lon, lev]*Un_y_TIEGCM[lat, lon, lev]/bnorm[lat, lon, lev] + By_IGRF[lat, lon, lev]*Un_x_TIEGCM[lat, lon, lev]/bnorm[lat, lon, lev]) + Bz_IGRF[lat, lon, lev]*(Bx_IGRF[lat, lon, lev]*Un_z_TIEGCM[lat, lon, lev]/bnorm[lat, lon, lev] - Bz_IGRF[lat, lon, lev]*Un_x_TIEGCM[lat, lon, lev]/bnorm[lat, lon, lev]) + Evertx[lat, lon, lev]))**2)) ** 2\n",
    "\n",
    "                # dUnz\n",
    "                Jt_eq_11 = (((Hall_TIEGCM[lat, lon, lev]*(-Bx_IGRF[lat, lon, lev]*(-Bx_IGRF[lat, lon, lev]*(Bx_IGRF[lat, lon, lev]*Un_z_TIEGCM[lat, lon, lev]/bnorm[lat, lon, lev] - Bz_IGRF[lat, lon, lev]*Un_x_TIEGCM[lat, lon, lev]/bnorm[lat, lon, lev]) + By_IGRF[lat, lon, lev]*(-By_IGRF[lat, lon, lev]*Un_z_TIEGCM[lat, lon, lev]/bnorm[lat, lon, lev] + Bz_IGRF[lat, lon, lev]*Un_y_TIEGCM[lat, lon, lev]/bnorm[lat, lon, lev]) + Evertz[lat, lon, lev])/bnorm[lat, lon, lev] + Bz_IGRF[lat, lon, lev]*(-By_IGRF[lat, lon, lev]*(-Bx_IGRF[lat, lon, lev]*Un_y_TIEGCM[lat, lon, lev]/bnorm[lat, lon, lev] + By_IGRF[lat, lon, lev]*Un_x_TIEGCM[lat, lon, lev]/bnorm[lat, lon, lev]) + Bz_IGRF[lat, lon, lev]*(Bx_IGRF[lat, lon, lev]*Un_z_TIEGCM[lat, lon, lev]/bnorm[lat, lon, lev] - Bz_IGRF[lat, lon, lev]*Un_x_TIEGCM[lat, lon, lev]/bnorm[lat, lon, lev]) + Evertx[lat, lon, lev])/bnorm[lat, lon, lev]) + Pedersen_TIEGCM[lat, lon, lev]*(Bx_IGRF[lat, lon, lev]*(-Bx_IGRF[lat, lon, lev]*Un_y_TIEGCM[lat, lon, lev]/bnorm[lat, lon, lev] + By_IGRF[lat, lon, lev]*Un_x_TIEGCM[lat, lon, lev]/bnorm[lat, lon, lev]) - Bz_IGRF[lat, lon, lev]*(-By_IGRF[lat, lon, lev]*Un_z_TIEGCM[lat, lon, lev]/bnorm[lat, lon, lev] + Bz_IGRF[lat, lon, lev]*Un_y_TIEGCM[lat, lon, lev]/bnorm[lat, lon, lev]) + Everty[lat, lon, lev]))*(2*By_IGRF[lat, lon, lev]*Bz_IGRF[lat, lon, lev]*Pedersen_TIEGCM[lat, lon, lev]/bnorm[lat, lon, lev] + 2*Hall_TIEGCM[lat, lon, lev]*(Bx_IGRF[lat, lon, lev]*Bz_IGRF[lat, lon, lev]**2/bnorm[lat, lon, lev]**2 - Bx_IGRF[lat, lon, lev]*(-Bx_IGRF[lat, lon, lev]**2/bnorm[lat, lon, lev] - By_IGRF[lat, lon, lev]**2/bnorm[lat, lon, lev])/bnorm[lat, lon, lev]))/2 + (Hall_TIEGCM[lat, lon, lev]*(Bx_IGRF[lat, lon, lev]*(-Bx_IGRF[lat, lon, lev]*(Bx_IGRF[lat, lon, lev]*Un_z_TIEGCM[lat, lon, lev]/bnorm[lat, lon, lev] - Bz_IGRF[lat, lon, lev]*Un_x_TIEGCM[lat, lon, lev]/bnorm[lat, lon, lev]) + By_IGRF[lat, lon, lev]*(-By_IGRF[lat, lon, lev]*Un_z_TIEGCM[lat, lon, lev]/bnorm[lat, lon, lev] + Bz_IGRF[lat, lon, lev]*Un_y_TIEGCM[lat, lon, lev]/bnorm[lat, lon, lev]) + Evertz[lat, lon, lev])/bnorm[lat, lon, lev] - By_IGRF[lat, lon, lev]*(-By_IGRF[lat, lon, lev]*(-Bx_IGRF[lat, lon, lev]*Un_y_TIEGCM[lat, lon, lev]/bnorm[lat, lon, lev] + By_IGRF[lat, lon, lev]*Un_x_TIEGCM[lat, lon, lev]/bnorm[lat, lon, lev]) + Bz_IGRF[lat, lon, lev]*(Bx_IGRF[lat, lon, lev]*Un_z_TIEGCM[lat, lon, lev]/bnorm[lat, lon, lev] - Bz_IGRF[lat, lon, lev]*Un_x_TIEGCM[lat, lon, lev]/bnorm[lat, lon, lev]) + Evertx[lat, lon, lev])/bnorm[lat, lon, lev]) + Pedersen_TIEGCM[lat, lon, lev]*(-Bx_IGRF[lat, lon, lev]*(Bx_IGRF[lat, lon, lev]*Un_z_TIEGCM[lat, lon, lev]/bnorm[lat, lon, lev] - Bz_IGRF[lat, lon, lev]*Un_x_TIEGCM[lat, lon, lev]/bnorm[lat, lon, lev]) + By_IGRF[lat, lon, lev]*(-By_IGRF[lat, lon, lev]*Un_z_TIEGCM[lat, lon, lev]/bnorm[lat, lon, lev] + Bz_IGRF[lat, lon, lev]*Un_y_TIEGCM[lat, lon, lev]/bnorm[lat, lon, lev]) + Evertz[lat, lon, lev]))*(2*Hall_TIEGCM[lat, lon, lev]*(-Bx_IGRF[lat, lon, lev]*By_IGRF[lat, lon, lev]*Bz_IGRF[lat, lon, lev]/bnorm[lat, lon, lev]**2 + Bx_IGRF[lat, lon, lev]*(-Bx_IGRF[lat, lon, lev]**2/bnorm[lat, lon, lev] - By_IGRF[lat, lon, lev]**2/bnorm[lat, lon, lev])/bnorm[lat, lon, lev]) + 2*Pedersen_TIEGCM[lat, lon, lev]*(-Bx_IGRF[lat, lon, lev]**2/bnorm[lat, lon, lev] - By_IGRF[lat, lon, lev]**2/bnorm[lat, lon, lev]))/2 + (Hall_TIEGCM[lat, lon, lev]*(By_IGRF[lat, lon, lev]*(-Bx_IGRF[lat, lon, lev]*(Bx_IGRF[lat, lon, lev]*Un_z_TIEGCM[lat, lon, lev]/bnorm[lat, lon, lev] - Bz_IGRF[lat, lon, lev]*Un_x_TIEGCM[lat, lon, lev]/bnorm[lat, lon, lev]) + By_IGRF[lat, lon, lev]*(-By_IGRF[lat, lon, lev]*Un_z_TIEGCM[lat, lon, lev]/bnorm[lat, lon, lev] + Bz_IGRF[lat, lon, lev]*Un_y_TIEGCM[lat, lon, lev]/bnorm[lat, lon, lev]) + Evertz[lat, lon, lev])/bnorm[lat, lon, lev] - Bz_IGRF[lat, lon, lev]*(Bx_IGRF[lat, lon, lev]*(-Bx_IGRF[lat, lon, lev]*Un_y_TIEGCM[lat, lon, lev]/bnorm[lat, lon, lev] + By_IGRF[lat, lon, lev]*Un_x_TIEGCM[lat, lon, lev]/bnorm[lat, lon, lev]) - Bz_IGRF[lat, lon, lev]*(-By_IGRF[lat, lon, lev]*Un_z_TIEGCM[lat, lon, lev]/bnorm[lat, lon, lev] + Bz_IGRF[lat, lon, lev]*Un_y_TIEGCM[lat, lon, lev]/bnorm[lat, lon, lev]) + Everty[lat, lon, lev])/bnorm[lat, lon, lev]) + Pedersen_TIEGCM[lat, lon, lev]*(-By_IGRF[lat, lon, lev]*(-Bx_IGRF[lat, lon, lev]*Un_y_TIEGCM[lat, lon, lev]/bnorm[lat, lon, lev] + By_IGRF[lat, lon, lev]*Un_x_TIEGCM[lat, lon, lev]/bnorm[lat, lon, lev]) + Bz_IGRF[lat, lon, lev]*(Bx_IGRF[lat, lon, lev]*Un_z_TIEGCM[lat, lon, lev]/bnorm[lat, lon, lev] - Bz_IGRF[lat, lon, lev]*Un_x_TIEGCM[lat, lon, lev]/bnorm[lat, lon, lev]) + Evertx[lat, lon, lev]))*(2*Bx_IGRF[lat, lon, lev]*Bz_IGRF[lat, lon, lev]*Pedersen_TIEGCM[lat, lon, lev]/bnorm[lat, lon, lev] + 2*Hall_TIEGCM[lat, lon, lev]*(-By_IGRF[lat, lon, lev]*Bz_IGRF[lat, lon, lev]**2/bnorm[lat, lon, lev]**2 + By_IGRF[lat, lon, lev]*(-Bx_IGRF[lat, lon, lev]**2/bnorm[lat, lon, lev] - By_IGRF[lat, lon, lev]**2/bnorm[lat, lon, lev])/bnorm[lat, lon, lev]))/2)/sy.sqrt((Hall_TIEGCM[lat, lon, lev]*(-Bx_IGRF[lat, lon, lev]*(-Bx_IGRF[lat, lon, lev]*(Bx_IGRF[lat, lon, lev]*Un_z_TIEGCM[lat, lon, lev]/bnorm[lat, lon, lev] - Bz_IGRF[lat, lon, lev]*Un_x_TIEGCM[lat, lon, lev]/bnorm[lat, lon, lev]) + By_IGRF[lat, lon, lev]*(-By_IGRF[lat, lon, lev]*Un_z_TIEGCM[lat, lon, lev]/bnorm[lat, lon, lev] + Bz_IGRF[lat, lon, lev]*Un_y_TIEGCM[lat, lon, lev]/bnorm[lat, lon, lev]) + Evertz[lat, lon, lev])/bnorm[lat, lon, lev] + Bz_IGRF[lat, lon, lev]*(-By_IGRF[lat, lon, lev]*(-Bx_IGRF[lat, lon, lev]*Un_y_TIEGCM[lat, lon, lev]/bnorm[lat, lon, lev] + By_IGRF[lat, lon, lev]*Un_x_TIEGCM[lat, lon, lev]/bnorm[lat, lon, lev]) + Bz_IGRF[lat, lon, lev]*(Bx_IGRF[lat, lon, lev]*Un_z_TIEGCM[lat, lon, lev]/bnorm[lat, lon, lev] - Bz_IGRF[lat, lon, lev]*Un_x_TIEGCM[lat, lon, lev]/bnorm[lat, lon, lev]) + Evertx[lat, lon, lev])/bnorm[lat, lon, lev]) + Pedersen_TIEGCM[lat, lon, lev]*(Bx_IGRF[lat, lon, lev]*(-Bx_IGRF[lat, lon, lev]*Un_y_TIEGCM[lat, lon, lev]/bnorm[lat, lon, lev] + By_IGRF[lat, lon, lev]*Un_x_TIEGCM[lat, lon, lev]/bnorm[lat, lon, lev]) - Bz_IGRF[lat, lon, lev]*(-By_IGRF[lat, lon, lev]*Un_z_TIEGCM[lat, lon, lev]/bnorm[lat, lon, lev] + Bz_IGRF[lat, lon, lev]*Un_y_TIEGCM[lat, lon, lev]/bnorm[lat, lon, lev]) + Everty[lat, lon, lev]))**2 + (Hall_TIEGCM[lat, lon, lev]*(Bx_IGRF[lat, lon, lev]*(-Bx_IGRF[lat, lon, lev]*(Bx_IGRF[lat, lon, lev]*Un_z_TIEGCM[lat, lon, lev]/bnorm[lat, lon, lev] - Bz_IGRF[lat, lon, lev]*Un_x_TIEGCM[lat, lon, lev]/bnorm[lat, lon, lev]) + By_IGRF[lat, lon, lev]*(-By_IGRF[lat, lon, lev]*Un_z_TIEGCM[lat, lon, lev]/bnorm[lat, lon, lev] + Bz_IGRF[lat, lon, lev]*Un_y_TIEGCM[lat, lon, lev]/bnorm[lat, lon, lev]) + Evertz[lat, lon, lev])/bnorm[lat, lon, lev] - By_IGRF[lat, lon, lev]*(-By_IGRF[lat, lon, lev]*(-Bx_IGRF[lat, lon, lev]*Un_y_TIEGCM[lat, lon, lev]/bnorm[lat, lon, lev] + By_IGRF[lat, lon, lev]*Un_x_TIEGCM[lat, lon, lev]/bnorm[lat, lon, lev]) + Bz_IGRF[lat, lon, lev]*(Bx_IGRF[lat, lon, lev]*Un_z_TIEGCM[lat, lon, lev]/bnorm[lat, lon, lev] - Bz_IGRF[lat, lon, lev]*Un_x_TIEGCM[lat, lon, lev]/bnorm[lat, lon, lev]) + Evertx[lat, lon, lev])/bnorm[lat, lon, lev]) + Pedersen_TIEGCM[lat, lon, lev]*(-Bx_IGRF[lat, lon, lev]*(Bx_IGRF[lat, lon, lev]*Un_z_TIEGCM[lat, lon, lev]/bnorm[lat, lon, lev] - Bz_IGRF[lat, lon, lev]*Un_x_TIEGCM[lat, lon, lev]/bnorm[lat, lon, lev]) + By_IGRF[lat, lon, lev]*(-By_IGRF[lat, lon, lev]*Un_z_TIEGCM[lat, lon, lev]/bnorm[lat, lon, lev] + Bz_IGRF[lat, lon, lev]*Un_y_TIEGCM[lat, lon, lev]/bnorm[lat, lon, lev]) + Evertz[lat, lon, lev]))**2 + (Hall_TIEGCM[lat, lon, lev]*(By_IGRF[lat, lon, lev]*(-Bx_IGRF[lat, lon, lev]*(Bx_IGRF[lat, lon, lev]*Un_z_TIEGCM[lat, lon, lev]/bnorm[lat, lon, lev] - Bz_IGRF[lat, lon, lev]*Un_x_TIEGCM[lat, lon, lev]/bnorm[lat, lon, lev]) + By_IGRF[lat, lon, lev]*(-By_IGRF[lat, lon, lev]*Un_z_TIEGCM[lat, lon, lev]/bnorm[lat, lon, lev] + Bz_IGRF[lat, lon, lev]*Un_y_TIEGCM[lat, lon, lev]/bnorm[lat, lon, lev]) + Evertz[lat, lon, lev])/bnorm[lat, lon, lev] - Bz_IGRF[lat, lon, lev]*(Bx_IGRF[lat, lon, lev]*(-Bx_IGRF[lat, lon, lev]*Un_y_TIEGCM[lat, lon, lev]/bnorm[lat, lon, lev] + By_IGRF[lat, lon, lev]*Un_x_TIEGCM[lat, lon, lev]/bnorm[lat, lon, lev]) - Bz_IGRF[lat, lon, lev]*(-By_IGRF[lat, lon, lev]*Un_z_TIEGCM[lat, lon, lev]/bnorm[lat, lon, lev] + Bz_IGRF[lat, lon, lev]*Un_y_TIEGCM[lat, lon, lev]/bnorm[lat, lon, lev]) + Everty[lat, lon, lev])/bnorm[lat, lon, lev]) + Pedersen_TIEGCM[lat, lon, lev]*(-By_IGRF[lat, lon, lev]*(-Bx_IGRF[lat, lon, lev]*Un_y_TIEGCM[lat, lon, lev]/bnorm[lat, lon, lev] + By_IGRF[lat, lon, lev]*Un_x_TIEGCM[lat, lon, lev]/bnorm[lat, lon, lev]) + Bz_IGRF[lat, lon, lev]*(Bx_IGRF[lat, lon, lev]*Un_z_TIEGCM[lat, lon, lev]/bnorm[lat, lon, lev] - Bz_IGRF[lat, lon, lev]*Un_x_TIEGCM[lat, lon, lev]/bnorm[lat, lon, lev]) + Evertx[lat, lon, lev]))**2)) ** 2\n",
    "\n",
    "                # dBnorm\n",
    "                Jt_eq_12 = (((Hall_TIEGCM[lat, lon, lev]*(-Bx_IGRF[lat, lon, lev]*(-Bx_IGRF[lat, lon, lev]*(Bx_IGRF[lat, lon, lev]*Un_z_TIEGCM[lat, lon, lev]/bnorm[lat, lon, lev] - Bz_IGRF[lat, lon, lev]*Un_x_TIEGCM[lat, lon, lev]/bnorm[lat, lon, lev]) + By_IGRF[lat, lon, lev]*(-By_IGRF[lat, lon, lev]*Un_z_TIEGCM[lat, lon, lev]/bnorm[lat, lon, lev] + Bz_IGRF[lat, lon, lev]*Un_y_TIEGCM[lat, lon, lev]/bnorm[lat, lon, lev]) + Evertz[lat, lon, lev])/bnorm[lat, lon, lev] + Bz_IGRF[lat, lon, lev]*(-By_IGRF[lat, lon, lev]*(-Bx_IGRF[lat, lon, lev]*Un_y_TIEGCM[lat, lon, lev]/bnorm[lat, lon, lev] + By_IGRF[lat, lon, lev]*Un_x_TIEGCM[lat, lon, lev]/bnorm[lat, lon, lev]) + Bz_IGRF[lat, lon, lev]*(Bx_IGRF[lat, lon, lev]*Un_z_TIEGCM[lat, lon, lev]/bnorm[lat, lon, lev] - Bz_IGRF[lat, lon, lev]*Un_x_TIEGCM[lat, lon, lev]/bnorm[lat, lon, lev]) + Evertx[lat, lon, lev])/bnorm[lat, lon, lev]) + Pedersen_TIEGCM[lat, lon, lev]*(Bx_IGRF[lat, lon, lev]*(-Bx_IGRF[lat, lon, lev]*Un_y_TIEGCM[lat, lon, lev]/bnorm[lat, lon, lev] + By_IGRF[lat, lon, lev]*Un_x_TIEGCM[lat, lon, lev]/bnorm[lat, lon, lev]) - Bz_IGRF[lat, lon, lev]*(-By_IGRF[lat, lon, lev]*Un_z_TIEGCM[lat, lon, lev]/bnorm[lat, lon, lev] + Bz_IGRF[lat, lon, lev]*Un_y_TIEGCM[lat, lon, lev]/bnorm[lat, lon, lev]) + Everty[lat, lon, lev]))*(2*By_IGRF[lat, lon, lev]*Bz_IGRF[lat, lon, lev]*Pedersen_TIEGCM[lat, lon, lev]/bnorm[lat, lon, lev] + 2*Hall_TIEGCM[lat, lon, lev]*(Bx_IGRF[lat, lon, lev]*Bz_IGRF[lat, lon, lev]**2/bnorm[lat, lon, lev]**2 - Bx_IGRF[lat, lon, lev]*(-Bx_IGRF[lat, lon, lev]**2/bnorm[lat, lon, lev] - By_IGRF[lat, lon, lev]**2/bnorm[lat, lon, lev])/bnorm[lat, lon, lev]))/2 + (Hall_TIEGCM[lat, lon, lev]*(Bx_IGRF[lat, lon, lev]*(-Bx_IGRF[lat, lon, lev]*(Bx_IGRF[lat, lon, lev]*Un_z_TIEGCM[lat, lon, lev]/bnorm[lat, lon, lev] - Bz_IGRF[lat, lon, lev]*Un_x_TIEGCM[lat, lon, lev]/bnorm[lat, lon, lev]) + By_IGRF[lat, lon, lev]*(-By_IGRF[lat, lon, lev]*Un_z_TIEGCM[lat, lon, lev]/bnorm[lat, lon, lev] + Bz_IGRF[lat, lon, lev]*Un_y_TIEGCM[lat, lon, lev]/bnorm[lat, lon, lev]) + Evertz[lat, lon, lev])/bnorm[lat, lon, lev] - By_IGRF[lat, lon, lev]*(-By_IGRF[lat, lon, lev]*(-Bx_IGRF[lat, lon, lev]*Un_y_TIEGCM[lat, lon, lev]/bnorm[lat, lon, lev] + By_IGRF[lat, lon, lev]*Un_x_TIEGCM[lat, lon, lev]/bnorm[lat, lon, lev]) + Bz_IGRF[lat, lon, lev]*(Bx_IGRF[lat, lon, lev]*Un_z_TIEGCM[lat, lon, lev]/bnorm[lat, lon, lev] - Bz_IGRF[lat, lon, lev]*Un_x_TIEGCM[lat, lon, lev]/bnorm[lat, lon, lev]) + Evertx[lat, lon, lev])/bnorm[lat, lon, lev]) + Pedersen_TIEGCM[lat, lon, lev]*(-Bx_IGRF[lat, lon, lev]*(Bx_IGRF[lat, lon, lev]*Un_z_TIEGCM[lat, lon, lev]/bnorm[lat, lon, lev] - Bz_IGRF[lat, lon, lev]*Un_x_TIEGCM[lat, lon, lev]/bnorm[lat, lon, lev]) + By_IGRF[lat, lon, lev]*(-By_IGRF[lat, lon, lev]*Un_z_TIEGCM[lat, lon, lev]/bnorm[lat, lon, lev] + Bz_IGRF[lat, lon, lev]*Un_y_TIEGCM[lat, lon, lev]/bnorm[lat, lon, lev]) + Evertz[lat, lon, lev]))*(2*Hall_TIEGCM[lat, lon, lev]*(-Bx_IGRF[lat, lon, lev]*By_IGRF[lat, lon, lev]*Bz_IGRF[lat, lon, lev]/bnorm[lat, lon, lev]**2 + Bx_IGRF[lat, lon, lev]*(-Bx_IGRF[lat, lon, lev]**2/bnorm[lat, lon, lev] - By_IGRF[lat, lon, lev]**2/bnorm[lat, lon, lev])/bnorm[lat, lon, lev]) + 2*Pedersen_TIEGCM[lat, lon, lev]*(-Bx_IGRF[lat, lon, lev]**2/bnorm[lat, lon, lev] - By_IGRF[lat, lon, lev]**2/bnorm[lat, lon, lev]))/2 + (Hall_TIEGCM[lat, lon, lev]*(By_IGRF[lat, lon, lev]*(-Bx_IGRF[lat, lon, lev]*(Bx_IGRF[lat, lon, lev]*Un_z_TIEGCM[lat, lon, lev]/bnorm[lat, lon, lev] - Bz_IGRF[lat, lon, lev]*Un_x_TIEGCM[lat, lon, lev]/bnorm[lat, lon, lev]) + By_IGRF[lat, lon, lev]*(-By_IGRF[lat, lon, lev]*Un_z_TIEGCM[lat, lon, lev]/bnorm[lat, lon, lev] + Bz_IGRF[lat, lon, lev]*Un_y_TIEGCM[lat, lon, lev]/bnorm[lat, lon, lev]) + Evertz[lat, lon, lev])/bnorm[lat, lon, lev] - Bz_IGRF[lat, lon, lev]*(Bx_IGRF[lat, lon, lev]*(-Bx_IGRF[lat, lon, lev]*Un_y_TIEGCM[lat, lon, lev]/bnorm[lat, lon, lev] + By_IGRF[lat, lon, lev]*Un_x_TIEGCM[lat, lon, lev]/bnorm[lat, lon, lev]) - Bz_IGRF[lat, lon, lev]*(-By_IGRF[lat, lon, lev]*Un_z_TIEGCM[lat, lon, lev]/bnorm[lat, lon, lev] + Bz_IGRF[lat, lon, lev]*Un_y_TIEGCM[lat, lon, lev]/bnorm[lat, lon, lev]) + Everty[lat, lon, lev])/bnorm[lat, lon, lev]) + Pedersen_TIEGCM[lat, lon, lev]*(-By_IGRF[lat, lon, lev]*(-Bx_IGRF[lat, lon, lev]*Un_y_TIEGCM[lat, lon, lev]/bnorm[lat, lon, lev] + By_IGRF[lat, lon, lev]*Un_x_TIEGCM[lat, lon, lev]/bnorm[lat, lon, lev]) + Bz_IGRF[lat, lon, lev]*(Bx_IGRF[lat, lon, lev]*Un_z_TIEGCM[lat, lon, lev]/bnorm[lat, lon, lev] - Bz_IGRF[lat, lon, lev]*Un_x_TIEGCM[lat, lon, lev]/bnorm[lat, lon, lev]) + Evertx[lat, lon, lev]))*(2*Bx_IGRF[lat, lon, lev]*Bz_IGRF[lat, lon, lev]*Pedersen_TIEGCM[lat, lon, lev]/bnorm[lat, lon, lev] + 2*Hall_TIEGCM[lat, lon, lev]*(-By_IGRF[lat, lon, lev]*Bz_IGRF[lat, lon, lev]**2/bnorm[lat, lon, lev]**2 + By_IGRF[lat, lon, lev]*(-Bx_IGRF[lat, lon, lev]**2/bnorm[lat, lon, lev] - By_IGRF[lat, lon, lev]**2/bnorm[lat, lon, lev])/bnorm[lat, lon, lev]))/2)/sy.sqrt((Hall_TIEGCM[lat, lon, lev]*(-Bx_IGRF[lat, lon, lev]*(-Bx_IGRF[lat, lon, lev]*(Bx_IGRF[lat, lon, lev]*Un_z_TIEGCM[lat, lon, lev]/bnorm[lat, lon, lev] - Bz_IGRF[lat, lon, lev]*Un_x_TIEGCM[lat, lon, lev]/bnorm[lat, lon, lev]) + By_IGRF[lat, lon, lev]*(-By_IGRF[lat, lon, lev]*Un_z_TIEGCM[lat, lon, lev]/bnorm[lat, lon, lev] + Bz_IGRF[lat, lon, lev]*Un_y_TIEGCM[lat, lon, lev]/bnorm[lat, lon, lev]) + Evertz[lat, lon, lev])/bnorm[lat, lon, lev] + Bz_IGRF[lat, lon, lev]*(-By_IGRF[lat, lon, lev]*(-Bx_IGRF[lat, lon, lev]*Un_y_TIEGCM[lat, lon, lev]/bnorm[lat, lon, lev] + By_IGRF[lat, lon, lev]*Un_x_TIEGCM[lat, lon, lev]/bnorm[lat, lon, lev]) + Bz_IGRF[lat, lon, lev]*(Bx_IGRF[lat, lon, lev]*Un_z_TIEGCM[lat, lon, lev]/bnorm[lat, lon, lev] - Bz_IGRF[lat, lon, lev]*Un_x_TIEGCM[lat, lon, lev]/bnorm[lat, lon, lev]) + Evertx[lat, lon, lev])/bnorm[lat, lon, lev]) + Pedersen_TIEGCM[lat, lon, lev]*(Bx_IGRF[lat, lon, lev]*(-Bx_IGRF[lat, lon, lev]*Un_y_TIEGCM[lat, lon, lev]/bnorm[lat, lon, lev] + By_IGRF[lat, lon, lev]*Un_x_TIEGCM[lat, lon, lev]/bnorm[lat, lon, lev]) - Bz_IGRF[lat, lon, lev]*(-By_IGRF[lat, lon, lev]*Un_z_TIEGCM[lat, lon, lev]/bnorm[lat, lon, lev] + Bz_IGRF[lat, lon, lev]*Un_y_TIEGCM[lat, lon, lev]/bnorm[lat, lon, lev]) + Everty[lat, lon, lev]))**2 + (Hall_TIEGCM[lat, lon, lev]*(Bx_IGRF[lat, lon, lev]*(-Bx_IGRF[lat, lon, lev]*(Bx_IGRF[lat, lon, lev]*Un_z_TIEGCM[lat, lon, lev]/bnorm[lat, lon, lev] - Bz_IGRF[lat, lon, lev]*Un_x_TIEGCM[lat, lon, lev]/bnorm[lat, lon, lev]) + By_IGRF[lat, lon, lev]*(-By_IGRF[lat, lon, lev]*Un_z_TIEGCM[lat, lon, lev]/bnorm[lat, lon, lev] + Bz_IGRF[lat, lon, lev]*Un_y_TIEGCM[lat, lon, lev]/bnorm[lat, lon, lev]) + Evertz[lat, lon, lev])/bnorm[lat, lon, lev] - By_IGRF[lat, lon, lev]*(-By_IGRF[lat, lon, lev]*(-Bx_IGRF[lat, lon, lev]*Un_y_TIEGCM[lat, lon, lev]/bnorm[lat, lon, lev] + By_IGRF[lat, lon, lev]*Un_x_TIEGCM[lat, lon, lev]/bnorm[lat, lon, lev]) + Bz_IGRF[lat, lon, lev]*(Bx_IGRF[lat, lon, lev]*Un_z_TIEGCM[lat, lon, lev]/bnorm[lat, lon, lev] - Bz_IGRF[lat, lon, lev]*Un_x_TIEGCM[lat, lon, lev]/bnorm[lat, lon, lev]) + Evertx[lat, lon, lev])/bnorm[lat, lon, lev]) + Pedersen_TIEGCM[lat, lon, lev]*(-Bx_IGRF[lat, lon, lev]*(Bx_IGRF[lat, lon, lev]*Un_z_TIEGCM[lat, lon, lev]/bnorm[lat, lon, lev] - Bz_IGRF[lat, lon, lev]*Un_x_TIEGCM[lat, lon, lev]/bnorm[lat, lon, lev]) + By_IGRF[lat, lon, lev]*(-By_IGRF[lat, lon, lev]*Un_z_TIEGCM[lat, lon, lev]/bnorm[lat, lon, lev] + Bz_IGRF[lat, lon, lev]*Un_y_TIEGCM[lat, lon, lev]/bnorm[lat, lon, lev]) + Evertz[lat, lon, lev]))**2 + (Hall_TIEGCM[lat, lon, lev]*(By_IGRF[lat, lon, lev]*(-Bx_IGRF[lat, lon, lev]*(Bx_IGRF[lat, lon, lev]*Un_z_TIEGCM[lat, lon, lev]/bnorm[lat, lon, lev] - Bz_IGRF[lat, lon, lev]*Un_x_TIEGCM[lat, lon, lev]/bnorm[lat, lon, lev]) + By_IGRF[lat, lon, lev]*(-By_IGRF[lat, lon, lev]*Un_z_TIEGCM[lat, lon, lev]/bnorm[lat, lon, lev] + Bz_IGRF[lat, lon, lev]*Un_y_TIEGCM[lat, lon, lev]/bnorm[lat, lon, lev]) + Evertz[lat, lon, lev])/bnorm[lat, lon, lev] - Bz_IGRF[lat, lon, lev]*(Bx_IGRF[lat, lon, lev]*(-Bx_IGRF[lat, lon, lev]*Un_y_TIEGCM[lat, lon, lev]/bnorm[lat, lon, lev] + By_IGRF[lat, lon, lev]*Un_x_TIEGCM[lat, lon, lev]/bnorm[lat, lon, lev]) - Bz_IGRF[lat, lon, lev]*(-By_IGRF[lat, lon, lev]*Un_z_TIEGCM[lat, lon, lev]/bnorm[lat, lon, lev] + Bz_IGRF[lat, lon, lev]*Un_y_TIEGCM[lat, lon, lev]/bnorm[lat, lon, lev]) + Everty[lat, lon, lev])/bnorm[lat, lon, lev]) + Pedersen_TIEGCM[lat, lon, lev]*(-By_IGRF[lat, lon, lev]*(-Bx_IGRF[lat, lon, lev]*Un_y_TIEGCM[lat, lon, lev]/bnorm[lat, lon, lev] + By_IGRF[lat, lon, lev]*Un_x_TIEGCM[lat, lon, lev]/bnorm[lat, lon, lev]) + Bz_IGRF[lat, lon, lev]*(Bx_IGRF[lat, lon, lev]*Un_z_TIEGCM[lat, lon, lev]/bnorm[lat, lon, lev] - Bz_IGRF[lat, lon, lev]*Un_x_TIEGCM[lat, lon, lev]/bnorm[lat, lon, lev]) + Evertx[lat, lon, lev]))**2)) ** 2\n",
    "                # ############################################################################################\n",
    "                eq_5_3 = Jt_eq_1 * (Peder_error_act) ** 2 + Jt_eq_2 * (Hall_error_act) ** 2 + \\\n",
    "                         Jt_eq_3 * (Bx_error_act) ** 2 + Jt_eq_4 * (By_error_act) ** 2 + Jt_eq_5 * (Bz_error_act) ** 2 + \\\n",
    "                         Jt_eq_6 * (Ex_error_act) ** 2 + Jt_eq_7 * (Ey_error_act) ** 2 + Jt_eq_8 * (Ez_error_act) ** 2 + \\\n",
    "                         Jt_eq_9 * (Unx_error_act) ** 2 + Jt_eq_10 * (Uny_error_act) ** 2 + \\\n",
    "                         Jt_eq_11 * (Unz_error_act) ** 2 + Jt_eq_12 * (dbnorm_squared) ** 2\n",
    "                # #############################################################################################\n",
    "                Total_current_error[lat, lon, lev] = sy.sqrt(eq_5_3).evalf()\n",
    "                Total_current_error_max[lat, lon, lev] = Total_current[lat, lon, lev] + Total_current_error[lat, lon, lev]\n",
    "                Total_current_error_min[lat, lon, lev] = Total_current[lat, lon, lev] - Total_current_error[lat, lon, lev]\n",
    "\n",
    "# ################################################ MAIN ###########################################################\n",
    "def run(tiegcm_file, timer_value, lat_value=-500, lon_value=-500, pressure_level=-500):\n",
    "    model_data_file = tiegcm_file  # Data file insertion\n",
    "    TIEGCM = Dataset(model_data_file)\n",
    "\n",
    "    global glat\n",
    "    glat = TIEGCM.variables['lat'][:]\n",
    "    global glon\n",
    "    glon = TIEGCM.variables['lon'][:]\n",
    "    global glev\n",
    "    glev = TIEGCM.variables['ilev'][:]\n",
    "    gtime = TIEGCM.variables['time'][:]\n",
    "    zg = TIEGCM.variables['ZG'][:]\n",
    "    # p = TIEGCM.variables['PEDERSEN'][:]\n",
    "    barm_all = TIEGCM.variables['BARM'][:]  # Mean molecular weight in g/mol\n",
    "    date_all = TIEGCM.variables[\"mtime\"][:]\n",
    "    year = TIEGCM.variables[\"year\"][0]\n",
    "    # NOt = TIEGCM.variables['NO'][:]\n",
    "\n",
    "    Net = TIEGCM.variables['NE'][:]  # electron density in cm^-3\n",
    "    Ot = TIEGCM.variables['O1'][:]   # neutral atomic oxygen density in mmr\n",
    "    O2t = TIEGCM.variables['O2'][:]  # neutral molecular oxygen density in mmr\n",
    "    Opt = TIEGCM.variables['OP'][:]  # O+ density in cm^-3\n",
    "    Tet = TIEGCM.variables['TE'][:]\n",
    "    Tit = TIEGCM.variables['TI'][:]\n",
    "    Tnt = TIEGCM.variables['TN'][:]\n",
    "    P0 = TIEGCM.variables['p0'][:]  # Reference pressure in millibar\n",
    "\n",
    "    Un_east = TIEGCM.variables['UN'][:]       # neutral zonal wind (+East) in cm/s\n",
    "    Un_north = TIEGCM.variables['VN'][:]      # neutral meridional wind (+North) in cm/s\n",
    "    Un_up = TIEGCM.variables['WN'][:]         # neutral vertical wind (+Up) in cm/s\n",
    "    Ui_east = TIEGCM.variables['UI_ExB'][:]   # zonal ExB velocity in cm/s\n",
    "    Ui_north = TIEGCM.variables['VI_ExB'][:]  # meridional ExB velocity in cm/s\n",
    "    Ui_up = TIEGCM.variables['WI_ExB'][:]     # vertical ExB velocity in cm/s\n",
    "    TIEGCM.close()\n",
    "\n",
    "    # not real lat nor lon but indexes for lat/lon tables\n",
    "    global global_lat\n",
    "    global_lat = lat_value  # integer for geog lat in TIEGCM for height profile\n",
    "    global global_lon\n",
    "    global_lon = lon_value  # integer for geog lon in TIEGCMfor height profile\n",
    "    global global_pres_lev\n",
    "    global_pres_lev=pressure_level\n",
    "\n",
    "    global timer\n",
    "    timer = timer_value  # index that  corresponds to a value that expesses minutes passed since file's initial time\n",
    "\n",
    "    # distinguish Vertical from Map run\n",
    "    for_lat=0\n",
    "    for_lon=0\n",
    "    for_lev=0\n",
    "    if pressure_level == -500:  # Vertical Profile\n",
    "        glev_steps = len(glev) - 1\n",
    "        for_lat = global_lat #lat pointer according to TIEGCM file\n",
    "        for_lon = global_lon #lon pointer according to TIEGCM file\n",
    "    else:\n",
    "        glev_steps = 1\n",
    "\n",
    "    if lat_value == -500 and lon_value == -500:  # Map Profile\n",
    "        lat_steps = len(glat)-1\n",
    "        lon_steps = len(glon)-1\n",
    "        for_lev = global_lev\n",
    "    else:\n",
    "        lat_steps = 1\n",
    "        lon_steps = 1\n",
    "\n",
    "    for lev in range(for_lev,for_lev+ glev_steps):\n",
    "        for lat in range(for_lat,for_lat+ lat_steps):\n",
    "            for lon in range(for_lon,for_lon+ lon_steps):\n",
    "                # Pressure level\n",
    "                Z = glev[lev]\n",
    "                # mean molecular mass g/mol\n",
    "                barm = barm_all[timer, lev, lat, lon]\n",
    "                # Conversion factor (mmr->cm^(-3))\n",
    "                Nbarm = (P0 * np.exp(-Z) * barm * 1000) / (boltzmann * Tnt[timer, lev, lat, lon])\n",
    "                N_barm_TIEGCM[lat, lon, lev] = Nbarm\n",
    "                ALT = zg[timer, lev, lat, lon] / 1e5  # alt in km\n",
    "                \n",
    "#                 print(ALT,lev)\n",
    "                heights[lat, lon, lev] = ALT  # in km\n",
    "                geog_lats[lat, lon, lev] = glat[lat]\n",
    "                geog_lons[lat, lon, lev] = glon[lon]\n",
    "                geod_lats[lat, lon, lev] = geog_lat2geod_lat(geog_lats[lat, lon, lev])\n",
    "                geod_lons[lat, lon, lev] = geog_lons[lat, lon, lev]\n",
    "                # peder_TIEGCM[lat, lon, lev] = p[timer, lev, lat, lon]\n",
    "                # @@@@@@@@@@@@@@@@@@@@@@@@@@@@@@@@@@@@@ DATE/TIME EXPORT @@@@@@@@@@@@@@@@@@@@@@@@@@@@@@@@@@@@\n",
    "                hour = date_all[timer, 1]\n",
    "                minutes = date_all[timer, 2]\n",
    "\n",
    "                DD = datetime.datetime.strptime(str(year) + ' ' + str(date_all[0, 0]), '%Y %j')\n",
    "\n",
    "                month = DD.month\n",
    "                day = DD.day\n",
    "\n",
    "                time_igrf = datetime.datetime(year, month, day, hour, minutes)\n",
    "                # @@@@@@@@@@@@@@@@@@@@@@@@@@@@@@@@@@@@@@@@@@@@@@@@@@@@@@@@@@@@@@@@@@@@@@@@@@@@@@@@@@@@@@@@@@@@@@@\n",
    "\n",
    "                Te_TIEGCM[lat, lon, lev] = Tet[timer, lev, lat, lon]  # K\n",
    "                Ti_TIEGCM[lat, lon, lev] = Tit[timer, lev, lat, lon]  # K\n",
    "                Tn_TIEGCM[lat, lon, lev] = Tnt[timer, lev, lat, lon]  # K\n",
    "                O_TIEGCM[lat, lon, lev] = (Nbarm * Ot[timer, lev, lat, lon]) / mO     # in cm^-3\n",
    "                O2_TIEGCM[lat, lon, lev] = (Nbarm * O2t[timer, lev, lat, lon]) / mO2  # in cm^-3\n",
    "                N2_TIEGCM[lat, lon, lev] = Nbarm * (1 - O2t[timer, lev, lat, lon] -\n",
    "                                                    Ot[timer, lev, lat, lon]) / mN2   # in cm^-3\n",
    "                Op_TIEGCM[lat, lon, lev] = Opt[timer, lev, lat, lon]  # O+ in cm^-3\n",
    "                Ne_TIEGCM[lat, lon, lev] = Net[timer, lev, lat, lon]  # electron density in cm^-3\n",
    "\n",
    "                # assuming there is only O2+ and not NO+\n",
    "                O2p_TIEGCM[lat, lon, lev] = Ne_TIEGCM[lat, lon, lev] - Op_TIEGCM[lat, lon, lev]\n",
    "\n",
    "                # neutral wind from ENU to ECEF\n",
    "                Un_x_temp, Un_y_temp, Un_z_temp = enu_ecef(geog_lats[lat, lon, lev], geog_lons[lat, lon, lev],\n",
    "                                                           Un_east[timer, lev, lat, lon],\n",
    "                                                           Un_north[timer, lev, lat, lon],\n",
    "                                                           Un_up[timer, lev, lat, lon])  # cm/s on ECEF\n",
    "\n",
    "                Un_x_TIEGCM[lat, lon, lev] = Un_x_temp / 100  # m/s\n",
    "                Un_y_TIEGCM[lat, lon, lev] = Un_y_temp / 100  # m/s\n",
    "                Un_z_TIEGCM[lat, lon, lev] = Un_z_temp / 100  # m/s\n",
    "\n",
    "                # ExB velocity from ENU to ECEF\n",
    "                Ui_x_temp, Ui_y_temp, Ui_z_temp = enu_ecef(geog_lats[lat, lon, lev], geog_lons[lat, lon, lev],\n",
    "                                                           Ui_east[timer, lev, lat, lon],\n",
    "                                                           Ui_north[timer, lev, lat, lon],\n",
    "                                                           Ui_up[timer, lev, lat, lon])  # cm/s on ECEF\n",
    "\n",
    "                Ui_x_TIEGCM[lat, lon, lev] = Ui_x_temp / 100  # m/sec\n",
    "                Ui_y_TIEGCM[lat, lon, lev] = Ui_y_temp / 100  # m/sec\n",
    "                Ui_z_TIEGCM[lat, lon, lev] = Ui_z_temp / 100  # m/sec\n",
    "\n",
    "                pt = pyglow.Point(time_igrf, float(geod_lats[lat, lon, lev]), float(geod_lons[lat, lon, lev]),\n",
    "                    float(heights[lat, lon, lev]), user_ind=False)\n",
    "\n",
    "                pt.run_igrf()\n",
    "                if (heights[lat, lon, lev] <= max_IGRF_alt) & (heights[lat, lon, lev] >= min_IGRF_alt):\n",
    "                    B_IGRF[lat, lon, lev] = pt.B    # tesla\n",
    "                    Be_IGRF[lat, lon, lev] = pt.Bx  # tesla\n",
    "                    Bn_IGRF[lat, lon, lev] = pt.By  # tesla\n",
    "                    Bu_IGRF[lat, lon, lev] = pt.Bz  # tesla\n",
    "\n",
    "                    Bx_temp, By_temp, Bz_temp = enu_ecef(geog_lats[lat, lon, lev], geog_lons[lat, lon, lev],\n",
    "                                                         Be_IGRF[lat, lon, lev],\n",
    "                                                         Bn_IGRF[lat, lon, lev], Bu_IGRF[lat, lon, lev])\n",
    "                    Bx_IGRF[lat, lon, lev] = Bx_temp  # tesla\n",
    "                    By_IGRF[lat, lon, lev] = By_temp  # tesla\n",
    "                    Bz_IGRF[lat, lon, lev] = Bz_temp  # tesla\n",
    "\n",
    "                    global B_vector_IGRF\n",
    "                    B_vector_IGRF = [Bx_temp, By_temp, Bz_temp]  # tesla\n",
    "                else:\n",
    "                    B_IGRF[lat, lon, lev] = None\n",
    "                    Be_IGRF[lat, lon, lev] = None\n",
    "                    Bn_IGRF[lat, lon, lev] = None\n",
    "                    Bu_IGRF[lat, lon, lev] = None\n",
    "                    Bx_IGRF[lat, lon, lev] = None  # tesla\n",
    "                    By_IGRF[lat, lon, lev] = None  # tesla\n",
    "                    Bz_IGRF[lat, lon, lev] = None  # tesla\n",
    "\n",
    "    if lat_value == -500 and lon_value == -500:\n",
    "        co_time_str.append(str(time_igrf))\n",
    "        co_time.append(time_igrf)\n",
    "    else:\n",
    "        co_date_time_title.append(\n",
    "            ',Lat: ' + str(glat[lat_value]) + ', ' + 'Lon: ' + str(glon[lon_value]) + ', ' + str(time_igrf))\n",
    "\n",
    "    Daedalus_products_calc(lat_value, lon_value, pressure_level)  # call function to calculate Daedalus products\n",
    "\n",
    "warnings.simplefilter('ignore')\n",
    "\n",
    "# window creation\n",
    "style = {'description_width': '150px'}\n",
    "layout1stcolumn = {'width': '300px'}\n",
    "layout2ndcolumn = {'width': '250px'}\n",
    "layout3rdcolumn = {'width': '100px'}\n",
    "button_layout = {'width': '150px'}\n",
    "style1 = {'description_width': '150px'}\n",
    "layout1 = {'width': '850px'}\n",
    "style2 = {'description_width': '95px'}\n",
    "layout2 = {'width': '160px'}\n",
    "layout3 = {'width': '350px'}\n",
    "style3 = {'description_width': '60px'}\n",
    "layout4 = {'width': '215px'}\n",
    "\n",
    "tiegcm_file = widgets.Dropdown(options=sorted(glob.glob(\n",
    "    DaedalusGlobals.TIEGCM_Files_Path + \"TIEGCM_EVT1_2015_StPatricksDay_HAO/tiegcm_dres.s_mar2015_amie_v1_*.nc\")),\n",
    "    description='TIE-GCM files: ', style=style1, layout=layout1)\n",
    "\n",
    "lat_value = widgets.Dropdown(\n",
    "    options=[('-88.75', 0), ('-86.25', 1), ('-83.75', 2), ('-81.25', 3), ('-78.75', 4), ('-76.25', 5), ('-73.75', 6),\n",
    "             ('-71.25', 7),\n",
    "             ('-68.75', 8), ('-66.25', 9), ('-63.75', 10), ('-61.25', 11), ('-58.75', 12), ('-56.25', 13),\n",
    "             ('-53.75', 14), ('-51.25', 15),\n",
    "             ('-48.75', 16), ('-46.25', 17), ('-43.75', 18), ('-41.25', 19), ('-38.75', 20), ('-36.25', 21),\n",
    "             ('-33.75', 22), ('-31.25', 23),\n",
    "             ('-28.75', 24), ('-26.25', 25), ('-23.75', 26), ('-21.25', 27), ('-18.75', 28), ('-16.25', 29),\n",
    "             ('-13.75', 30), ('-11.25', 31),\n",
    "             ('-8.75', 32), ('-6.25', 33), ('-3.75', 34), ('-1.25', 35), ('1.25', 36), ('3.75', 37), ('6.25', 38),\n",
    "             ('8.75', 39),\n",
    "             ('11.25', 40), ('13.75', 41), ('16.25', 42), ('18.75', 43), ('21.25', 44), ('23.75', 45), ('26.25', 46),\n",
    "             ('28.75', 47),\n",
    "             ('31.25', 48), ('33.75', 49), ('36.25', 50), ('38.75', 51), ('41.25', 52), ('43.75', 53),\n",
    "             ('46.25', 54), ('48.75', 55), ('51.25', 56), ('53.75', 57), ('56.25', 58), ('58.75', 59),\n",
    "             ('61.25', 60), ('63.75', 61), ('66.25', 62), ('68.75', 63), ('71.25', 64), ('73.75', 65),\n",
    "             ('76.25', 66), ('78.75', 67), ('81.25', 68), ('83.75', 69), ('84.25', 70), ('87.75', 71)],\n",
    "    value=61,\n",
    "    description='Latitude (deg):',\n",
    "    layout=layout1stcolumn,\n",
    "    style=style\n",
    ")\n",
    "lon_value = widgets.Dropdown(\n",
    "    options=[('-180.0', 0),\n",
    "             ('-177.5', 1), ('-175.0', 2), ('-172.5', 3), ('-170.0', 4), ('-167.5', 5), ('-165.0', 6), ('-162.5', 7),\n",
    "             ('-160.0', 8),\n",
    "             ('-157.5', 9), ('-155.0', 10), ('-152.5', 11), ('-150.0', 12), ('-147.5', 13), ('-145.0', 14),\n",
    "             ('-142.5', 15), ('-140.0', 16),\n",
    "             ('-137.5', 17), ('-135.0', 18), ('-132.5', 19), ('-130.0', 20), ('-127.5', 21), ('-125.0', 22),\n",
    "             ('-122.5', 23), ('-120.0', 24),\n",
    "             ('-117.5', 25), ('-115.0', 26), ('-112.5', 27), ('-110.0', 28), ('-107.5', 29), ('-105.0', 30),\n",
    "             ('-102.5', 31), ('-100.0', 32),\n",
    "             ('-97.5', 33), ('-95.0', 34), ('-92.5', 35), ('-90.0', 36), ('-87.5', 37), ('-85.0', 38), ('-82.5', 39),\n",
    "             ('-80.0', 40),\n",
    "             ('-77.5', 41), ('-75.0', 42), ('-72.5', 43), ('-70.0', 44), ('-67.5', 45), ('-65.0', 46), ('-62.5', 47),\n",
    "             ('-60.0', 48),\n",
    "             ('-57.5', 49), ('-55.0', 50), ('-52.5', 51), ('-50.0', 52), ('-47.5', 53), ('-45.0', 54), ('-42.5', 55),\n",
    "             ('-40.0', 56),\n",
    "             ('-37.5', 57), ('-35.0', 58), ('-32.5', 59), ('-30.0', 60), ('-27.5', 61), ('-25.0', 62), ('-22.5', 63),\n",
    "             ('-20.0', 64),\n",
    "             ('-17.5', 65), ('-15.0', 66), ('-12.5', 67), ('-10.0', 68), ('-7.5', 69), ('-5.0', 70), ('-2.5', 71),\n",
    "             ('0.0', 72),\n",
    "             ('2.5', 73), ('5.0', 74), ('7.5', 75), ('10.0', 76), ('12.5', 77), ('15.0', 78), ('17.5', 79),\n",
    "             ('20.0', 80), ('22.5', 81),\n",
    "             ('25.0', 82), ('27.5', 83), ('30.0', 84), ('32.5', 85), ('35.0', 86), ('37.5', 87), ('40.0', 88),\n",
    "             ('42.5', 89), ('45.0', 90),\n",
    "             ('47.5', 91), ('50.0', 92), ('52.5', 93), ('55.0', 94), ('57.5', 95), ('60.0', 96), ('62.5', 97),\n",
    "             ('65.0', 98),\n",
    "             ('67.5', 99), ('70.0', 100), ('72.5', 101), ('75.0', 102), ('77.5', 103), ('80.0', 104), ('82.5', 105),\n",
    "             ('85.0', 106),\n",
    "             ('87.5', 107), ('90.0', 108), ('92.5', 109), ('95.0', 110), ('97.5', 111), ('100.0', 112), ('102.5', 113),\n",
    "             ('105.0', 114),\n",
    "             ('107.5', 115), ('110.0', 116), ('112.5', 117), ('115.0', 118), ('117.5', 119), ('120.0', 120),\n",
    "             ('122.5', 121), ('125.0', 122), ('127.5', 123), ('130.0', 124), ('132.5', 125), ('135.0', 126),\n",
    "             ('137.5', 127), ('140.0', 128), ('142.5', 129), ('145.0', 130), ('147.5', 131), ('150.0', 132),\n",
    "             ('152.5', 133), ('155.0', 134), ('157.5', 135), ('160.0', 136), ('162.5', 137), ('165.0', 138),\n",
    "             ('167.5', 139), ('170.0', 140), ('172.5', 141), ('175.0', 142), ('177.5', 143),\n",
    "             ],\n",
    "    value=78,\n",
    "    description='Longitude (deg):',\n",
    "    layout=layout1stcolumn,\n",
    "    style=style\n",
    ")\n",
    "min_height_plot = widgets.Dropdown(\n",
    "    options=[('96.29306', 0),('97.62406', 1),('98.89283 ',2),('100.14668', 3),('101.43292', 4),('102.80197', 5),('104.30542', 6),\n",
    "('105.98968', 7),('107.89062', 8),('110.03647', 9),('112.45457', 10),('115.16966 ',11),('118.2009', 12),('121.56061', 13),('125.26039', 14),\n",
    "('129.31769', 15),('133.75335', 16),('138.58257', 17),('143.80797', 18),('149.41922', 19),('155.39804', 20),('161.72389', 21),('168.37786', 22),('175.34424', 23),\n",
    "('182.61102', 24),('190.16946', 25),('198.01382', 26),('206.14078', 27),('214.54912', 28),('223.2389', 29),('232.21076', 30),('241.46514', 31),('251.0014', 32),('260.8174', 33),\n",
    "('270.90916', 34),('281.27086', 35),('291.89522', 36),('302.77384', 37),('313.8979', 38),('325.25882', 39),('336.84904', 40),('348.66276', 41),('360.69676', 42),('372.95124', 43),\n",
    "('385.43052', 44),('398.14412', 45),('411.10776', 46),('424.34468', 47),('437.88744', 48),('451.78004', 49),('466.0812', 50),('480.86836', 51),('496.24372', 52),('512.34252', 53),('529.345', 54),('547.49332', 55)],\n",
    "    value=0,\n",
    "    description='min plotting Height (km):',\n",
    "    layout=layout1stcolumn,\n",
    "    style=style\n",
    ")\n",
    "max_height_plot = widgets.Dropdown(\n",
    "    options=[('96.29306', 0),('97.62406', 1),('98.89283 ',2),('100.14668', 3),('101.43292', 4),('102.80197', 5),('104.30542', 6),\n",
    "('105.98968', 7),('107.89062', 8),('110.03647', 9),('112.45457', 10),('115.16966 ',11),('118.2009', 12),('121.56061', 13),('125.26039', 14),\n",
    "('129.31769', 15),('133.75335', 16),('138.58257', 17),('143.80797', 18),('149.41922', 19),('155.39804', 20),('161.72389', 21),('168.37786', 22),('175.34424', 23),\n",
    "('182.61102', 24),('190.16946', 25),('198.01382', 26),('206.14078', 27),('214.54912', 28),('223.2389', 29),('232.21076', 30),('241.46514', 31),('251.0014', 32),('260.8174', 33),\n",
    "('270.90916', 34),('281.27086', 35),('291.89522', 36),('302.77384', 37),('313.8979', 38),('325.25882', 39),('336.84904', 40),('348.66276', 41),('360.69676', 42),('372.95124', 43),\n",
    "('385.43052', 44),('398.14412', 45),('411.10776', 46),('424.34468', 47),('437.88744', 48),('451.78004', 49),('466.0812', 50),('480.86836', 51),('496.24372', 52),('512.34252', 53),('529.345', 54),('547.49332', 55)],\n",
    "    value=51,\n",
    "    description='max plotting Height (km):',\n",
    "    layout=layout1stcolumn,\n",
    "    style=style\n",
    ")\n",
    "\n",
    "timer_value = widgets.Dropdown(value=0, options=range(0, 24), description='TimeStep:', style=style,\n",
    "    layout=layout1stcolumn)\n",
    "pressure_level = widgets.Dropdown(value=0, options=range(0, 57), description='Pressure Level:', style=style,\n",
    "    layout=layout1stcolumn)\n",
    "COLL_Freq_plot_checkbox = widgets.Checkbox(value=True, description=\"Plot Collision Frequencies\", style=style1,\n",
    "    layout=layout1)\n",
    "COND_plot_checkbox = widgets.Checkbox(value=True, description=\"Plot Conductivities\", style=style1, layout=layout1)\n",
    "HR_plot_checkbox = widgets.Checkbox(value=True, description=\"Plot Heating Rates\", style=style1, layout=layout1)\n",
    "CS_plot_checkbox = widgets.Checkbox(value=True, description=\"Cross Section\", style=style1, layout=layout1)\n",
    "Currents_plot_checkbox = widgets.Checkbox(value=True, description=\"Currents\", style=style1, layout=layout1)\n",
    "\n",
    "Error_COLL_Freq_plot_checkbox = widgets.Checkbox(value=True, description=\"Plot Collision Frequencies Error Propagation\",\n",
    "    style=style1, layout=layout1)\n",
    "Error_COND_plot_checkbox = widgets.Checkbox(value=True, description=\"Plot Conductivities Error Propagation\",\n",
    "    style=style1, layout=layout1)\n",
    "Error_HR_plot_checkbox = widgets.Checkbox(value=True, description=\"Plot Heating Rates Error Propagation\", style=style1,\n",
    "    layout=layout1)\n",
    "Error_CS_plot_checkbox = widgets.Checkbox(value=True, description=\"Cross Section Error Propagation\", style=style1,\n",
    "    layout=layout1)\n",
    "Error_Currents_plot_checkbox = widgets.Checkbox(value=True, description=\"Currents Error Propagation\", style=style1,\n",
    "    layout=layout1)\n",
    "\n",
    "night_checkbox = widgets.Checkbox(value=True,  description=\"Add Nightshade\",style=style1, layout=layout1)\n",
    "\n",
    "Error_Source = widgets.ToggleButton(\n",
    "    value=False,\n",
    "    description='Source of Errors',\n",
    "    disabled=False,\n",
    "    button_style='',  # 'success', 'info', 'warning', 'danger' or ''\n",
    "    tooltip='Select (dark grey) to use Errors from Daedalus Science Study',\n",
    "    icon=''  # (FontAwesome names without the `fa-` prefix)\n",
    ")\n",
    "# B_error widget\n",
    "B_error = widgets.BoundedFloatText(\n",
    "    value=0,\n",
    "    min=0,\n",
    "    max=1000,\n",
    "    step=1,\n",
    "    description='Absolute Error Of $B(nT)$:',\n",
    "    description_tooltip='Insert the absolute error of Magnetic Field(nT) ',\n",
    "    disabled=False,\n",
    "    layout=layout1stcolumn,\n",
    "    style=style,\n",
    ")\n",
    "\n",
    "# Ti_error widget\n",
    "Ti_error = widgets.BoundedFloatText(\n",
    "    value=0,\n",
    "    min=0,\n",
    "    max=100,\n",
    "    step=0.01,\n",
    "    description='Error Of ($T_i$) %:',\n",
    "    description_tooltip='Insert the % percentage of Ion Temperature ($T_i$)',\n",
    "    disabled=False,\n",
    "    layout=layout1stcolumn,\n",
    "    style=style,\n",
    ")\n",
    "\n",
    "# Te_error widget\n",
    "Te_error = widgets.BoundedFloatText(\n",
    "    value=0,\n",
    "    min=0,\n",
    "    max=100,\n",
    "    step=0.01,\n",
    "    description='Error Of ($T_e$) %:',\n",
    "    description_tooltip='Insert the % percentage of Electron Temperature ($T_e$)',\n",
    "    disabled=False,\n",
    "    layout=layout1stcolumn,\n",
    "    style=style,\n",
    ")\n",
    "\n",
    "# Tn_error widget\n",
    "Tn_error = widgets.BoundedFloatText(\n",
    "    value=5,\n",
    "    min=0,\n",
    "    max=100,\n",
    "    step=0.01,\n",
    "    description='Error Of ($T_n$) %:',\n",
    "    description_tooltip='Insert the % percentage of Neutral Temperature ($T_n$)',\n",
    "    disabled=False,\n",
    "    layout=layout1stcolumn,\n",
    "    style=style,\n",
    ")\n",
    "\n",
    "# Ne_error widget\n",
    "Ne_error = widgets.BoundedFloatText(\n",
    "    value=0,\n",
    "    min=0,\n",
    "    max=100,\n",
    "    step=0.01,\n",
    "    description='Error Of Density ($N_e$) %:',\n",
    "    description_tooltip='Insert the % percentage of Electron Density ($N_e$)',\n",
    "    disabled=False,\n",
    "    layout=layout1stcolumn,\n",
    "    style=style,\n",
    ")\n",
    "\n",
    "# O_error widget\n",
    "O_error = widgets.BoundedFloatText(\n",
    "    value=0,\n",
    "    min=0,\n",
    "    max=100,\n",
    "    step=0.01,\n",
    "    description='Error Of Density ($O$) %:',\n",
    "    description_tooltip='Insert the % percentage of Atomic Oxygen Density ($O$)',\n",
    "    disabled=False,\n",
    "    layout=layout1stcolumn,\n",
    "    style=style,\n",
    ")\n",
    "\n",
    "# O2_error widget\n",
    "O2_error = widgets.BoundedFloatText(\n",
    "    value=0,\n",
    "    min=0,\n",
    "    max=100,\n",
    "    step=0.01,\n",
    "    description='Error Of Density ($O_2$) %:',\n",
    "    description_tooltip='Insert the % percentage of Molecule Oxygen Density ($O_2$)',\n",
    "    disabled=False,\n",
    "    layout=layout1stcolumn,\n",
    "    style=style,\n",
    ")\n",
    "\n",
    "# N2_error widget\n",
    "N2_error = widgets.BoundedFloatText(\n",
    "    value=0,\n",
    "    min=0,\n",
    "    max=100,\n",
    "    step=0.01,\n",
    "    description='Error Of Density ($N_2$) %:',\n",
    "    description_tooltip='Insert the % percentage of Nitrogen Density ($N_2$)',\n",
    "    disabled=False,\n",
    "    layout=layout1stcolumn,\n",
    "    style=style,\n",
    ")\n",
    "\n",
    "# O2p_error widget\n",
    "O2p_error = widgets.BoundedFloatText(\n",
    "    value=0,\n",
    "    min=0,\n",
    "    max=100,\n",
    "    step=0.01,\n",
    "    description='Error Of Density ($O^{+}_{2}$) %:',\n",
    "    description_tooltip='Insert the % percentage of Density ($O^{+}_{2}$)',\n",
    "    disabled=False,\n",
    "    layout=layout1stcolumn,\n",
    "    style=style,\n",
    ")\n",
    "\n",
    "# Op_error widget\n",
    "Op_error = widgets.BoundedFloatText(\n",
    "    value=0,\n",
    "    min=0,\n",
    "    max=100,\n",
    "    step=0.01,\n",
    "    description='Error Of Density ($O^{+}$) %:',\n",
    "    description_tooltip='Insert the % percentage of Density ($O^{+}$)',\n",
    "    disabled=False,\n",
    "    layout=layout1stcolumn,\n",
    "    style=style,\n",
    ")\n",
    "\n",
    "# E_error widget\n",
    "E_error = widgets.BoundedFloatText(\n",
    "    value=0,\n",
    "    min=0,\n",
    "    max=100,\n",
    "    step=0.01,\n",
    "    description='Error of ($E$) mV/m:',\n",
    "    description_tooltip='Insert the absolute error of ($E$)',\n",
    "    disabled=False,\n",
    "    layout=layout1stcolumn,\n",
    "    style=style,\n",
    ")\n",
    "\n",
    "# Un_error widget\n",
    "Un_error = widgets.BoundedFloatText(\n",
    "    value=0,\n",
    "    min=0,\n",
    "    max=100,\n",
    "    step=0.01,\n",
    "    description='Error of ($Un$) %:',\n",
    "    description_tooltip='Insert the % percentage of ($Un$)',\n",
    "    disabled=False,\n",
    "    layout=layout1stcolumn,\n",
    "    style=style,\n",
    ")\n",
    "\n",
    "run_error_button = widgets.Button(\n",
    "    value=False,\n",
    "    description='Error Calculation',\n",
    "    disabled=False,\n",
    "    button_style='success',  # 'success', 'info', 'warning', 'danger' or ''\n",
    "    tooltip='Press to start Error Propagation Calculations, First you must hit \"Calculate Products Button\"',\n",
    "    icon='check',\n",
    "    layout=button_layout,\n",
    "    style=style,\n",
    "\n",
    ")\n",
    "\n",
    "run_Map_error_button = widgets.Button(\n",
    "    value=False,\n",
    "    description='Error Calculation',\n",
    "    disabled=False,\n",
    "    button_style='success',  # 'success', 'info', 'warning', 'danger' or ''\n",
    "    tooltip='Press to start Error Propagation Calculations, First you must hit \"Calculate Products Button\"',\n",
    "    icon='check',\n",
    "    layout=button_layout,\n",
    "    style=style,\n",
    "\n",
    ")\n",
    "\n",
    "\n",
    "def Error_Btn_Clicked(b):\n",
    "    print(\"Error Calculation started...\")\n",
    "    error_Cond_calculation(B_error=B_error.value * 10 ** (-9), Ti_error=Ti_error.value, Te_error=Te_error.value,\n",
    "        Tn_error=Tn_error.value, Ne_error=Ne_error.value, O_error=O_error.value, O2_error=O2_error.value,\n",
    "        N2_error=N2_error.value, Op_error=Op_error.value, O2p_error=O2p_error.value, lat_value=lat_value.value,\n",
    "        lon_value=lon_value.value)\n",
    "\n",
    "    error_Heating_calculation(E_error=E_error.value * 10 ** (-3), Un_error=Un_error.value,\n",
    "        B_error=B_error.value * 10 ** (-9), Ne_error=Ne_error.value, lat_value=lat_value.value,\n",
    "        lon_value=lon_value.value)  # error for E and B is given as absolute value\n",
    "\n",
    "    CS_error_prop(N2_error=N2_error.value, O_error=O_error.value, O2_error=O2_error.value, Ti_error=Ti_error.value,\n",
    "        lat_value=lat_value.value, lon_value=lon_value.value)\n",
    "\n",
    "    # error for E and B is given as absolute value\n",
    "    error_Currents_calculation(E_error=E_error.value * 10 ** (-3), Un_error=Un_error.value,\n",
    "        B_error=B_error.value * 10 ** (-9), lat_value=lat_value.value, lon_value=lon_value.value)\n",
    "\n",
    "    if Error_COND_plot_checkbox.value == True:\n",
    "        plotting_COND_Error()         # plot Conductivities Error Calculations\n",
    "    if Error_COLL_Freq_plot_checkbox.value == True:\n",
    "        plotting_Collis_freq_Error()  # plot Collision Frequencies Error Calculations\n",
    "    if Error_HR_plot_checkbox.value == True:\n",
    "        plotting_Heating_error()      # call function to plot Heating Rates Errors\n",
    "    if Error_CS_plot_checkbox.value == True:\n",
    "        plotting_Csection_Error()     # plot Cross Section Error Calculations\n",
    "    if Error_Currents_plot_checkbox.value == True:\n",
    "        plotting_Currents_error()     # plot Currents Error Calculations\n",
    "\n",
    "\n",
    "\n",
    "def Exec_Btn_Clicked(b):\n",
    "    print(\"Calculation started...\")\n",
    "    global min_HP,max_HP\n",
    "    min_HP=min_height_plot.value\n",
    "    max_HP=max_height_plot.value\n",
    "    run(tiegcm_file.value, timer_value.value, lat_value=lat_value.value, lon_value=lon_value.value)\n",
    "    if COND_plot_checkbox.value == True:\n",
    "        plotting_Conductivities()  # call function to plot conductivities\n",
    "    if COLL_Freq_plot_checkbox.value == True:\n",
    "        plotting_Collis_freq()     # call function to plot Collision Frequencies\n",
    "    if HR_plot_checkbox.value == True:\n",
    "        plotting_Heating_Rates()   # call function to plot Heating Rates\n",
    "    if CS_plot_checkbox.value == True:\n",
    "        plotting_C_sections()      # call function to plot Cross Sections\n",
    "    if Currents_plot_checkbox.value == True:\n",
    "        Currents_plot()            # call function to plot currents\n",
    "\n",
    "\n",
    "def Error_Map_Btn_Clicked(b):\n",
    "    print(\"Error Map Calculation started...\")\n",
    "    error_Cond_calculation(B_error=B_error.value * 10 ** (-9), Ti_error=Ti_error.value, Te_error=Te_error.value,\n",
    "        Tn_error=Tn_error.value, Ne_error=Ne_error.value, O_error=O_error.value, O2_error=O2_error.value,\n",
    "        N2_error=N2_error.value, Op_error=Op_error.value, O2p_error=O2p_error.value,\n",
    "        pressure_level=pressure_level.value)\n",
    "\n",
    "    error_Heating_calculation(E_error=E_error.value * 10 ** (-3), Un_error=Un_error.value,\n",
    "        B_error=B_error.value * 10 ** (-9), Ne_error=Ne_error.value,\n",
    "        pressure_level=pressure_level.value)  # error for E and B is given as absolute value\n",
    "\n",
    "    CS_error_prop(N2_error=N2_error.value, O_error=O_error.value, O2_error=O2_error.value, Ti_error=Ti_error.value,\n",
    "                  pressure_level=pressure_level.value)\n",
    "\n",
    "    # error for E and B is given as absolute value\n",
    "    error_Currents_calculation(E_error=E_error.value * 10 ** (-3), Un_error=Un_error.value,\n",
    "        B_error=B_error.value * 10 ** (-9), pressure_level=pressure_level.value)\n",
    "\n",
    "\n",
    "    if Error_COND_plot_checkbox.value == True:\n",
    "        plotting_COND_Error(p_level=pressure_level.value)         # plot Conductivities Error Calculations\n",
    "    if Error_COLL_Freq_plot_checkbox.value == True:\n",
    "        plotting_Collis_freq_Error(p_level=pressure_level.value)  # plot Collision Frequencies Error Calculations\n",
    "    if Error_HR_plot_checkbox.value == True:\n",
    "        plotting_Heating_error(p_level=pressure_level.value)      # call function to plot Heating Rates Errors\n",
    "    if Error_CS_plot_checkbox.value == True:\n",
    "        plotting_Csection_Error(p_level=pressure_level.value)     # plot Cross Section Error Calculations\n",
    "    if Error_Currents_plot_checkbox.value == True:\n",
    "        plotting_Currents_error(p_level=pressure_level.value)     # plot Currents Error Calculations\n",
    "\n",
    "\n",
    "def Exec_Map_Btn_Clicked(b):\n",
    "    print(\"Calculation Map started...\")\n",
    "    run(tiegcm_file.value, timer_value.value, pressure_level=pressure_level.value)\n",
    "\n",
    "\n",
    "def createGUI():\n",
    "    ## the top level visual elements\n",
    "    print(\"GUI creating...\")\n",
    "    MainPanel = widgets.VBox()\n",
    "    MainTab = widgets.Tab()\n",
    "    # ############################################################################\n",
    "    VerticalPanel = widgets.VBox()\n",
    "    BasicVerticalPanel = widgets.VBox()\n",
    "    BasicVerticalPanel.children = [lat_value, lon_value, timer_value]\n",
    "    PlottingHeight=widgets.HBox()\n",
    "    PlottingHeight.children=[min_height_plot,max_height_plot]\n",
    "    ErrorPanel1 = widgets.VBox()\n",
    "    ErrorPanel1.children = [O_error, O2_error, N2_error, Op_error, O2p_error]\n",
    "    ErrorPanel2 = widgets.VBox()\n",
    "    ErrorPanel2.children = [B_error, Ti_error, Te_error, Tn_error, Ne_error]\n",
    "    ErrorPanel3 = widgets.VBox()\n",
    "    ErrorPanel3.children = [E_error, Un_error]\n",
    "    ErrorPanel = widgets.HBox()\n",
    "    ErrorPanel.children = [ErrorPanel1, ErrorPanel2, ErrorPanel3]\n",
    "    PlotSelectPanel1 = widgets.HBox()\n",
    "    PlotSelectPanel1.children = [COLL_Freq_plot_checkbox, COND_plot_checkbox]\n",
    "    PlotSelectPanel2 = widgets.HBox()\n",
    "    PlotSelectPanel2.children = [HR_plot_checkbox, CS_plot_checkbox, Currents_plot_checkbox]\n",
    "    PlotSelectPanel = widgets.VBox()\n",
    "    PlotSelectPanel.children = [PlotSelectPanel1, PlotSelectPanel2]\n",
    "    PlotErrorSelectPanel1 = widgets.HBox()\n",
    "    PlotErrorSelectPanel1.children = [Error_COLL_Freq_plot_checkbox, Error_COND_plot_checkbox]\n",
    "    PlotErrorSelectPanel2 = widgets.HBox()\n",
    "    PlotErrorSelectPanel2.children = [Error_HR_plot_checkbox, Error_CS_plot_checkbox, Error_Currents_plot_checkbox]\n",
    "    PlotErrorSelectPanel = widgets.VBox()\n",
    "    PlotErrorSelectPanel.children = [PlotErrorSelectPanel1, PlotErrorSelectPanel2]\n",
    "    Btn_panel = widgets.HBox()\n",
    "    # ###############################################################################\n",
    "    MapPanel = widgets.VBox()\n",
    "    BasicMapPanel = widgets.VBox()\n",
    "    BasicMapPanel.children = [pressure_level, timer_value]\n",
    "    MapErrorPanel1 = widgets.VBox()\n",
    "    MapErrorPanel1.children = [O_error, O2_error, N2_error, Op_error, O2p_error]\n",
    "    MapErrorPanel2 = widgets.VBox()\n",
    "    MapErrorPanel2.children = [B_error, Ti_error, Te_error, Tn_error, Ne_error]\n",
    "    MapErrorPanel3 = widgets.VBox()\n",
    "    MapErrorPanel3.children = [E_error, Un_error]\n",
    "    MapErrorPanel = widgets.HBox()\n",
    "    MapErrorPanel.children = [MapErrorPanel1, MapErrorPanel2, MapErrorPanel3]\n",
    "    Btn_Map_panel = widgets.HBox()\n",
    "    # #################################################################################\n",
    "    MainTab.children = [VerticalPanel, MapPanel]\n",
    "    MainTab.set_title(0, 'Vertical Profiles')\n",
    "    MainTab.set_title(1, 'Maps')\n",
    "    MainPanel.children = [MainTab]\n",
    "    # #################################################################################\n",
    "    Exec_Btn = widgets.Button(description='Calculate Products', tooltip=\"Click here to calculate Daedalus products\", )\n",
    "    Exec_Btn.style.button_color = 'MediumTurquoise'\n",
    "    Exec_Btn.on_click(Exec_Btn_Clicked)\n",
    "    run_error_button.on_click(Error_Btn_Clicked)\n",
    "    Btn_panel.children = [Exec_Btn, run_error_button]\n",
    "    VerticalPanel.children = [tiegcm_file, BasicVerticalPanel,PlottingHeight, PlotSelectPanel, ErrorPanel, PlotErrorSelectPanel,\n",
    "                              Error_Source, Btn_panel]\n",
    "\n",
    "    Exec_Map_Btn = widgets.Button(description='Calculate Products',\n",
    "                                  tooltip=\"Click here to calculate Daedalus products\", )\n",
    "    Exec_Map_Btn.style.button_color = 'MediumTurquoise'\n",
    "    Exec_Map_Btn.on_click(Exec_Map_Btn_Clicked)\n",
    "    run_Map_error_button.on_click(Error_Map_Btn_Clicked)\n",
    "    Btn_Map_panel.children = [Exec_Map_Btn, run_Map_error_button]\n",
    "    MapPanel.children = [tiegcm_file, BasicMapPanel, MapErrorPanel, night_checkbox, Btn_Map_panel]\n",
    "\n",
    "    return MainPanel\n",
    "\n",
    "display(createGUI())\n"
   ]
  },
  {
   "cell_type": "code",
   "execution_count": null,
   "metadata": {},
   "outputs": [],
   "source": []
  },
  {
   "cell_type": "code",
   "execution_count": null,
   "metadata": {},
   "outputs": [],
   "source": []
  }
 ],
 "metadata": {
  "kernelspec": {
   "display_name": "Python 3",
   "language": "python",
   "name": "python3"
  },
  "language_info": {
   "codemirror_mode": {
    "name": "ipython",
    "version": 3
   },
   "file_extension": ".py",
   "mimetype": "text/x-python",
   "name": "python",
   "nbconvert_exporter": "python",
   "pygments_lexer": "ipython3",
   "version": "3.7.4"
  }
 },
 "nbformat": 4,
 "nbformat_minor": 2
}
