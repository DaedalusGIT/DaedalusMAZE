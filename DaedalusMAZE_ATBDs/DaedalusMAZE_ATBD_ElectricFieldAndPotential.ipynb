{
 "cells": [
  {
   "cell_type": "code",
   "execution_count": null,
   "metadata": {},
   "outputs": [],
   "source": [
    "*********************************\n",
    "*********************************\n",
    "Here you can describe the theoretical background of the plot\n",
    "*********************************\n",
    "*********************************"
   ]
  },
  {
   "cell_type": "code",
   "execution_count": null,
   "metadata": {},
   "outputs": [],
   "source": [
    "import sys\n",
    "\n",
    "sys.path.insert(1, '../SourceCode/ModulesSourceCode/PlotGlobe')\n",
    "import PlotGlobe as PlotGlobe\n",
    "\n",
    "\n",
    "print( \"Creating 3D globe plot...\" )\n",
    "\n",
    "        \n",
    "# Plot electric field vectors and potential surface    \n",
    "s = PlotGlobe.PlotGlobe( \"/home/NAS/Data_Files/tiegcm_dres.s_mar2015_amie_v1_31_Efield.nc\", \"Potf\", \"Volts\", \"Jet\",    \"\", \"ALFA\", \"cm^-3\", \"Jet\",    \"Electric Field and Potential\", \"/home/NAS/Data_Files/tiegcm_dres.s_mar2015_amie_v1_31_Efield.nc\", \"Evertx,Everty,Evertz\", \"V/m\", \"Jet\", SurfaceOpacity=0.9, VectorConeSize=46, VectorConeOpacity=0.40, SurfaceTimestep=19, SurfacePressureLevel=1, VectorsTimestep=19, VectorsPressureLevel=1 )\n",
    "\n",
    "\n",
    "\n",
    "\n",
    "\n"
   ]
  }
 ],
 "metadata": {
  "kernelspec": {
   "display_name": "Python 3",
   "language": "python",
   "name": "python3"
  },
  "language_info": {
   "codemirror_mode": {
    "name": "ipython",
    "version": 3
   },
   "file_extension": ".py",
   "mimetype": "text/x-python",
   "name": "python",
   "nbconvert_exporter": "python",
   "pygments_lexer": "ipython3",
   "version": "3.6.7"
  }
 },
 "nbformat": 4,
 "nbformat_minor": 2
}
