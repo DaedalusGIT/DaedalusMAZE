{
 "cells": [
  {
   "cell_type": "code",
   "execution_count": 16,
   "metadata": {},
   "outputs": [
    {
     "name": "stdout",
     "output_type": "stream",
     "text": [
      "The autoreload extension is already loaded. To reload it, use:\n",
      "  %reload_ext autoreload\n",
      "\n",
      "\n",
      "This application adds the following fields to a csv orbit file:\n",
      "  Daedalus.Magnetic Latitude, Daedalus.Magnetic Longitude, Daedalus.MLT.\n",
      "Please type the orbit filename and the result filename and press 'Convert':\n"
     ]
    },
    {
     "data": {
      "application/vnd.jupyter.widget-view+json": {
       "model_id": "3e72f05d8bc54706b30f202febcfbab0",
       "version_major": 2,
       "version_minor": 0
      },
      "text/plain": [
       "VBox(children=(Text(value='', description='Orbit file name:', layout=Layout(width='780px'), style=DescriptionS…"
      ]
     },
     "metadata": {},
     "output_type": "display_data"
    },
    {
     "name": "stdout",
     "output_type": "stream",
     "text": [
      "Reading  /home/NAS/Data_Files/OrbitData/z.csv and Writing /home/NAS/Data_Files/OrbitData/x.csv\n",
      "Done\n"
     ]
    }
   ],
   "source": [
    "%load_ext autoreload\n",
    "%autoreload 2\n",
    "\n",
    "import sys\n",
    "sys.path.insert(1, '../../SourceCode/')\n",
    "import DaedalusGlobals as DaedalusGlobals\n",
    "\n",
    "import ipywidgets as w\n",
    "\n",
    "import OrbitFileConversions\n",
    "\n",
    "style1 = {'description_width':'120px'}\n",
    "layout1 = {'width':'780px'}\n",
    "OrbitFilename_Text = w.Text(value=\"\", description='Orbit file name:', style=style1, layout=layout1)\n",
    "ResultFilename_Text = w.Text(value=\"\", description='Result file name:', style=style1, layout=layout1)\n",
    "\n",
    "\n",
    "def Convert_Btn_Clicked( b ):\n",
    "    print( \"Reading \", OrbitFilename_Text.value, \"and Writing\", ResultFilename_Text.value  )\n",
    "    OrbitFileConversions.ApexConvert( OrbitFilename_Text.value, ResultFilename_Text.value )\n",
    "    print( \"Done\" )\n",
    "\n",
    "def createGUI():\n",
    "    MainPanel = w.VBox()    \n",
    "    Convert_Btn = w.Button (description='Convert',tooltip=\"Convert\",)\n",
    "    Convert_Btn.style.button_color = 'MediumTurquoise'\n",
    "    Convert_Btn.on_click( Convert_Btn_Clicked )\n",
    "    MainPanel.children = [OrbitFilename_Text, ResultFilename_Text, Convert_Btn]\n",
    "    return MainPanel\n",
    "\n",
    "\n",
    "print( \"\\n\" )\n",
    "print( \"This application adds the following fields to a csv orbit file:\" )\n",
    "print( \"  Daedalus.Magnetic Latitude, Daedalus.Magnetic Longitude, Daedalus.MLT.\" )\n",
    "print( \"Please type the orbit filename and the result filename and press 'Convert':\" )\n",
    "createGUI()    "
   ]
  },
  {
   "cell_type": "code",
   "execution_count": null,
   "metadata": {},
   "outputs": [],
   "source": []
  }
 ],
 "metadata": {
  "kernelspec": {
   "display_name": "Python 3",
   "language": "python",
   "name": "python3"
  },
  "language_info": {
   "codemirror_mode": {
    "name": "ipython",
    "version": 3
   },
   "file_extension": ".py",
   "mimetype": "text/x-python",
   "name": "python",
   "nbconvert_exporter": "python",
   "pygments_lexer": "ipython3",
   "version": "3.6.7"
  }
 },
 "nbformat": 4,
 "nbformat_minor": 2
}
