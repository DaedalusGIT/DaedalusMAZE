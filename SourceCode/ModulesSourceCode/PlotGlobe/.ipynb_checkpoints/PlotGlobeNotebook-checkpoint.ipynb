{
 "cells": [
  {
   "cell_type": "code",
   "execution_count": 1,
   "metadata": {
    "scrolled": true
   },
   "outputs": [
    {
     "name": "stderr",
     "output_type": "stream",
     "text": [
      "/home/daedalusgit/DaedalusMaze/SourceCode/ModulesSourceCode/PlotGlobe/PlotGlobe.py:45: MatplotlibDeprecationWarning:\n",
      "\n",
      "\n",
      "The dedent function was deprecated in Matplotlib 3.1 and will be removed in 3.3. Use inspect.cleandoc instead.\n",
      "\n"
     ]
    },
    {
     "name": "stdout",
     "output_type": "stream",
     "text": [
      "Creating...\n"
     ]
    },
    {
     "name": "stderr",
     "output_type": "stream",
     "text": [
      "/home/daedalusgit/DaedalusMaze/SourceCode/ModulesSourceCode/PlotGlobe/PlotGlobe.py:77: MatplotlibDeprecationWarning:\n",
      "\n",
      "\n",
      "The dedent function was deprecated in Matplotlib 3.1 and will be removed in 3.3. Use inspect.cleandoc instead.\n",
      "\n"
     ]
    },
    {
     "ename": "FileNotFoundError",
     "evalue": "[Errno 2] No such file or directory: '../../DataFiles/sphere_IRIresult.csv'",
     "output_type": "error",
     "traceback": [
      "\u001b[0;31m---------------------------------------------------------------------------\u001b[0m",
      "\u001b[0;31mFileNotFoundError\u001b[0m                         Traceback (most recent call last)",
      "\u001b[0;32m<ipython-input-1-a7229894cca6>\u001b[0m in \u001b[0;36m<module>\u001b[0;34m\u001b[0m\n\u001b[1;32m      7\u001b[0m \u001b[0mOrbitPoints\u001b[0m \u001b[0;34m=\u001b[0m \u001b[0mnp\u001b[0m\u001b[0;34m.\u001b[0m\u001b[0marray\u001b[0m\u001b[0;34m(\u001b[0m \u001b[0;34m[\u001b[0m \u001b[0;34m[\u001b[0m\u001b[0;36m0\u001b[0m\u001b[0;34m,\u001b[0m\u001b[0;36m0\u001b[0m\u001b[0;34m,\u001b[0m\u001b[0;36m1000\u001b[0m\u001b[0;34m,\u001b[0m \u001b[0;36m200555\u001b[0m\u001b[0;34m]\u001b[0m\u001b[0;34m,\u001b[0m \u001b[0;34m[\u001b[0m\u001b[0;36m40\u001b[0m\u001b[0;34m,\u001b[0m\u001b[0;36m20\u001b[0m\u001b[0;34m,\u001b[0m\u001b[0;36m1000\u001b[0m\u001b[0;34m,\u001b[0m \u001b[0;36m111111\u001b[0m\u001b[0;34m]\u001b[0m \u001b[0;34m]\u001b[0m \u001b[0;34m)\u001b[0m\u001b[0;34m\u001b[0m\u001b[0;34m\u001b[0m\u001b[0m\n\u001b[1;32m      8\u001b[0m \u001b[0mprint\u001b[0m\u001b[0;34m(\u001b[0m \u001b[0;34m\"Creating...\"\u001b[0m \u001b[0;34m)\u001b[0m\u001b[0;34m\u001b[0m\u001b[0;34m\u001b[0m\u001b[0m\n\u001b[0;32m----> 9\u001b[0;31m \u001b[0ms\u001b[0m \u001b[0;34m=\u001b[0m \u001b[0mPlotGlobe\u001b[0m\u001b[0;34m.\u001b[0m\u001b[0mPlotGlobe\u001b[0m\u001b[0;34m(\u001b[0m \u001b[0;34m\"../../DataFiles/sphere_IRIresult.csv\"\u001b[0m\u001b[0;34m,\u001b[0m \u001b[0;34m\"../../DataFiles/orbit_IRIresult.csv\"\u001b[0m\u001b[0;34m,\u001b[0m \u001b[0;34m\"ne iri16\"\u001b[0m\u001b[0;34m,\u001b[0m \u001b[0;34m\"cm^-3\"\u001b[0m\u001b[0;34m,\u001b[0m \u001b[0;34m\"Jet\"\u001b[0m \u001b[0;34m)\u001b[0m\u001b[0;34m\u001b[0m\u001b[0;34m\u001b[0m\u001b[0m\n\u001b[0m\u001b[1;32m     10\u001b[0m \u001b[0;31m#s = PlotGlobe.PlotGlobe( \"\", \"../../DataFiles/orbit_IRIresult.csv\", \"Electron Density currents\", \"cm^-3\", \"Jet\" )\u001b[0m\u001b[0;34m\u001b[0m\u001b[0;34m\u001b[0m\u001b[0;34m\u001b[0m\u001b[0m\n\u001b[1;32m     11\u001b[0m \u001b[0;31m#s = PlotGlobe.PlotGlobe( \"../../DataFiles/sphere_IRIresult.csv\", \"\", \"Electron Density currents\", \"cm^-3\", \"Jet\" )\u001b[0m\u001b[0;34m\u001b[0m\u001b[0;34m\u001b[0m\u001b[0;34m\u001b[0m\u001b[0m\n",
      "\u001b[0;32m~/DaedalusMaze/SourceCode/ModulesSourceCode/PlotGlobe/PlotGlobe.py\u001b[0m in \u001b[0;36mPlotGlobe\u001b[0;34m(DataCSVfilename, OrbitDataCSVfilename, PlotTitle, ColorbarTitle, ColorscaleName)\u001b[0m\n\u001b[1;32m    149\u001b[0m     \u001b[0;31m#### parse DataCSVfilename and find the Altitude of the surface described by the csv file\u001b[0m\u001b[0;34m\u001b[0m\u001b[0;34m\u001b[0m\u001b[0;34m\u001b[0m\u001b[0m\n\u001b[1;32m    150\u001b[0m     \u001b[0;32mif\u001b[0m \u001b[0mlen\u001b[0m\u001b[0;34m(\u001b[0m\u001b[0mDataCSVfilename\u001b[0m\u001b[0;34m)\u001b[0m \u001b[0;34m>\u001b[0m \u001b[0;36m0\u001b[0m\u001b[0;34m:\u001b[0m\u001b[0;34m\u001b[0m\u001b[0;34m\u001b[0m\u001b[0m\n\u001b[0;32m--> 151\u001b[0;31m         \u001b[0mCSVreader\u001b[0m \u001b[0;34m=\u001b[0m \u001b[0mcsv\u001b[0m\u001b[0;34m.\u001b[0m\u001b[0mreader\u001b[0m\u001b[0;34m(\u001b[0m \u001b[0mopen\u001b[0m\u001b[0;34m(\u001b[0m \u001b[0mDataCSVfilename\u001b[0m \u001b[0;34m)\u001b[0m \u001b[0;34m)\u001b[0m\u001b[0;34m\u001b[0m\u001b[0;34m\u001b[0m\u001b[0m\n\u001b[0m\u001b[1;32m    152\u001b[0m         \u001b[0mnext\u001b[0m\u001b[0;34m(\u001b[0m \u001b[0mCSVreader\u001b[0m \u001b[0;34m)\u001b[0m \u001b[0;31m# ignore the csv header\u001b[0m\u001b[0;34m\u001b[0m\u001b[0;34m\u001b[0m\u001b[0m\n\u001b[1;32m    153\u001b[0m         \u001b[0mAltitude\u001b[0m \u001b[0;34m=\u001b[0m \u001b[0mfloat\u001b[0m\u001b[0;34m(\u001b[0m   \u001b[0mnext\u001b[0m\u001b[0;34m(\u001b[0m \u001b[0mCSVreader\u001b[0m \u001b[0;34m)\u001b[0m\u001b[0;34m[\u001b[0m\u001b[0;36m3\u001b[0m\u001b[0;34m]\u001b[0m   \u001b[0;34m)\u001b[0m\u001b[0;34m\u001b[0m\u001b[0;34m\u001b[0m\u001b[0m\n",
      "\u001b[0;31mFileNotFoundError\u001b[0m: [Errno 2] No such file or directory: '../../DataFiles/sphere_IRIresult.csv'"
     ]
    }
   ],
   "source": [
    "%load_ext autoreload\n",
    "%autoreload 2\n",
    "\n",
    "import PlotGlobe\n",
    "import numpy as np\n",
    "\n",
    "OrbitPoints = np.array( [ [0,0,1000, 200555], [40,20,1000, 111111] ] )\n",
    "print( \"Creating...\" )\n",
    "#s = PlotGlobe.PlotGlobe( \"DAED_ORB_Evt0_LLA_Per120_Lat00_Srt01Hz_Msc.csv\", \"../../DataFiles/orbit_IRIresult.csv\", \"ne iri16\", \"cm^-3\", \"Jet\" )\n",
    "#s = PlotGlobe.PlotGlobe( \"\", \"../../DataFiles/orbit_IRIresult.csv\", \"Electron Density currents\", \"cm^-3\", \"Jet\" )\n",
    "#s = PlotGlobe.PlotGlobe( \"../../DataFiles/sphere_IRIresult.csv\", \"\", \"Electron Density currents\", \"cm^-3\", \"Jet\" )\n",
    "s = PlotGlobe.PlotGlobe( \"sphere_IRI16_cities.csv\", \"\", \"Electron Density currents\", \"cm^-3\", \"Jet\" )\n",
    "print(s)\n"
   ]
  },
  {
   "cell_type": "code",
   "execution_count": null,
   "metadata": {},
   "outputs": [],
   "source": []
  },
  {
   "cell_type": "code",
   "execution_count": null,
   "metadata": {},
   "outputs": [],
   "source": []
  },
  {
   "cell_type": "code",
   "execution_count": null,
   "metadata": {},
   "outputs": [],
   "source": []
  }
 ],
 "metadata": {
  "kernelspec": {
   "display_name": "Python 3",
   "language": "python",
   "name": "python3"
  },
  "language_info": {
   "codemirror_mode": {
    "name": "ipython",
    "version": 3
   },
   "file_extension": ".py",
   "mimetype": "text/x-python",
   "name": "python",
   "nbconvert_exporter": "python",
   "pygments_lexer": "ipython3",
   "version": "3.6.8"
  }
 },
 "nbformat": 4,
 "nbformat_minor": 2
}
