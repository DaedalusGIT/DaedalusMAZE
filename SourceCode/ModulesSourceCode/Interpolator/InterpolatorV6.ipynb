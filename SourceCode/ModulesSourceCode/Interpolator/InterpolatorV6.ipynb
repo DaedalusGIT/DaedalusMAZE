{
 "cells": [
  {
   "cell_type": "code",
   "execution_count": 1,
   "metadata": {},
   "outputs": [
    {
     "name": "stderr",
     "output_type": "stream",
     "text": [
      "/home/jupyter-kpapadakis/maze/SourceCode/ModulesSourceCode/Interpolator/InterpolatorV6.py:281: UserWarning: WARNING: missing_value not used since it\n",
      "cannot be safely cast to variable data type\n",
      "  zg=TIEGCM.variables['ZG'][:]\n"
     ]
    },
    {
     "name": "stdout",
     "output_type": "stream",
     "text": [
      "Interpolation Starting... 1274 Positions to Interpolate\n"
     ]
    },
    {
     "name": "stderr",
     "output_type": "stream",
     "text": [
      "/home/jupyter-kpapadakis/maze/SourceCode/ModulesSourceCode/Interpolator/InterpolatorV6.py:338: UserWarning: WARNING: missing_value not used since it\n",
      "cannot be safely cast to variable data type\n",
      "  ne=TIEGCM.variables[VAR[jj]][:]\n"
     ]
    },
    {
     "name": "stdout",
     "output_type": "stream",
     "text": [
      "NE\n",
      "Interpolation Finished in  1.6236295700073242 s\n"
     ]
    }
   ],
   "source": [
    "from InterpolatorV6 import *\n",
    "#Example Call\n",
    "model_data_file=\"../../../../../NAS/TIEGCM_DATA/NCAR/tiegcm_dres.s_sept2017_gpi_01.nc\"\n",
    "orbit_file=\"../../../../../NAS/Data_Files/OrbitData/DAED_ORB_Evt0_LLA_Per120_Lat40_Srt01Hz_Msc.nc\"\n",
    "save=True\n",
    "VAR=[\"NE\",\"DEN\",\"HE\",\"NO\",\"O1\",\"O2\",\"OP\",\"TN\",\"UI_ExB\",\"VI_ExB\",\"WI_ExB\",\"UN\",\"VN\"]\n",
    "# VAR=[\"NE\"]\n",
    "Parallel=False\n",
    "F90=False\n",
    "DaedalusInterpolator(model_data_file,orbit_file,save,VAR,Parallel,F90)"
   ]
  },
  {
   "cell_type": "code",
   "execution_count": null,
   "metadata": {},
   "outputs": [],
   "source": []
  }
 ],
 "metadata": {
  "kernelspec": {
   "display_name": "Python 3",
   "language": "python",
   "name": "python3"
  },
  "language_info": {
   "codemirror_mode": {
    "name": "ipython",
    "version": 3
   },
   "file_extension": ".py",
   "mimetype": "text/x-python",
   "name": "python",
   "nbconvert_exporter": "python",
   "pygments_lexer": "ipython3",
   "version": "3.6.7"
  }
 },
 "nbformat": 4,
 "nbformat_minor": 2
}
