{
 "cells": [
  {
   "cell_type": "code",
   "execution_count": 9,
   "metadata": {},
   "outputs": [
    {
     "name": "stdout",
     "output_type": "stream",
     "text": [
      "['ModulesSourceCode', '.gitignore', '.cache', 'Plasma Parameters', '.sudo_as_admin_successful', '__pycache__', '.spyproject', 'requirements.txt', 'images', 'GroupsAction.py', 'PanelDisplayer.py', '.bash_history', 'EFI', 'DaedalusMazeNotebook.ipynb', '.local', 'jupyterhub_config.py', 'DaedalusMazeGUI.py', '.~requirements.txt', '.python_history', '.git', '.ipynb_checkpoints', 'DataFiles']\n",
      "Done\n"
     ]
    }
   ],
   "source": [
    "%reload_ext autoreload\n",
    "%autoreload 2\n",
    "\n",
    "import arrayCSV_to_gridCSV\n",
    "\n",
    "arrayCSV_to_gridCSV.arrayCSV_to_gridCSV( \"../../../DataFiles/sphere_IRIresult.csv\" )\n",
    "\n",
    "print(\"Done\")"
   ]
  },
  {
   "cell_type": "code",
   "execution_count": null,
   "metadata": {},
   "outputs": [],
   "source": []
  },
  {
   "cell_type": "code",
   "execution_count": null,
   "metadata": {},
   "outputs": [],
   "source": []
  }
 ],
 "metadata": {
  "kernelspec": {
   "display_name": "Python 3",
   "language": "python",
   "name": "python3"
  },
  "language_info": {
   "codemirror_mode": {
    "name": "ipython",
    "version": 3
   },
   "file_extension": ".py",
   "mimetype": "text/x-python",
   "name": "python",
   "nbconvert_exporter": "python",
   "pygments_lexer": "ipython3",
   "version": "3.6.7"
  }
 },
 "nbformat": 4,
 "nbformat_minor": 2
}
