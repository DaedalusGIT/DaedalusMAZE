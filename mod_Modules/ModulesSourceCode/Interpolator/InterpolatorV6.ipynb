{
 "cells": [
  {
   "cell_type": "code",
   "execution_count": 1,
   "metadata": {},
   "outputs": [
    {
     "ename": "NameError",
     "evalue": "name 'save' is not defined",
     "output_type": "error",
     "traceback": [
      "\u001b[0;31m---------------------------------------------------------------------------\u001b[0m",
      "\u001b[0;31mNameError\u001b[0m                                 Traceback (most recent call last)",
      "\u001b[0;32m<ipython-input-1-716e3d25bd8d>\u001b[0m in \u001b[0;36m<module>\u001b[0;34m\u001b[0m\n\u001b[1;32m      3\u001b[0m \u001b[0mmodel_data_file\u001b[0m\u001b[0;34m=\u001b[0m\u001b[0;34m\"../../../../../NAS/TIEGCM_DATA/NCAR/tiegcm_dres.s_sept2017_gpi_01.nc\"\u001b[0m\u001b[0;34m\u001b[0m\u001b[0;34m\u001b[0m\u001b[0m\n\u001b[1;32m      4\u001b[0m \u001b[0morbit_file\u001b[0m\u001b[0;34m=\u001b[0m\u001b[0;34m\"../../../../../NAS/Data_Files/OrbitData/DAED_ORB_Evt0_LLA_Per120_Lat40_Srt01Hz_Msc.nc\"\u001b[0m\u001b[0;34m\u001b[0m\u001b[0;34m\u001b[0m\u001b[0m\n\u001b[0;32m----> 5\u001b[0;31m \u001b[0mDaedalusInterpolator\u001b[0m\u001b[0;34m(\u001b[0m\u001b[0mmodel_data_file\u001b[0m\u001b[0;34m,\u001b[0m\u001b[0morbit_file\u001b[0m\u001b[0;34m,\u001b[0m\u001b[0msave\u001b[0m\u001b[0;34m,\u001b[0m\u001b[0mVAR\u001b[0m\u001b[0;34m,\u001b[0m\u001b[0mParallel\u001b[0m\u001b[0;34m,\u001b[0m\u001b[0mF90\u001b[0m\u001b[0;34m)\u001b[0m\u001b[0;34m\u001b[0m\u001b[0;34m\u001b[0m\u001b[0m\n\u001b[0m",
      "\u001b[0;31mNameError\u001b[0m: name 'save' is not defined"
     ]
    }
   ],
   "source": [
    "from InterpolatorV6 import *\n",
    "#Example Call\n",
    "model_data_file=\"../../../../../NAS/TIEGCM_DATA/NCAR/tiegcm_dres.s_sept2017_gpi_01.nc\"\n",
    "orbit_file=\"../../../../../NAS/Data_Files/OrbitData/DAED_ORB_Evt0_LLA_Per120_Lat40_Srt01Hz_Msc.nc\"\n",
    "DaedalusInterpolator(model_data_file,orbit_file)"
   ]
  },
  {
   "cell_type": "code",
   "execution_count": null,
   "metadata": {},
   "outputs": [],
   "source": []
  }
 ],
 "metadata": {
  "kernelspec": {
   "display_name": "Python 3",
   "language": "python",
   "name": "python3"
  },
  "language_info": {
   "codemirror_mode": {
    "name": "ipython",
    "version": 3
   },
   "file_extension": ".py",
   "mimetype": "text/x-python",
   "name": "python",
   "nbconvert_exporter": "python",
   "pygments_lexer": "ipython3",
   "version": "3.6.7"
  }
 },
 "nbformat": 4,
 "nbformat_minor": 2
}
