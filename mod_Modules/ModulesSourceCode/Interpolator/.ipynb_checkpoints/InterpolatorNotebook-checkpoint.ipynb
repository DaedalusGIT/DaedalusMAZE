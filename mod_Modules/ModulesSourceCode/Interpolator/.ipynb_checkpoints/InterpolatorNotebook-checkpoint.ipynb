{
 "cells": [
  {
   "cell_type": "code",
   "execution_count": 14,
   "metadata": {},
   "outputs": [
    {
     "name": "stdout",
     "output_type": "stream",
     "text": [
      "Done\n",
      "../../DataFiles/Daedalus_MDL_Sample_Orbit_NE.csv\n"
     ]
    }
   ],
   "source": [
    "import Interpolator\n",
    "\n",
    "Interpolator.Interpolator(\"TIEGCM\", \"tiegcm_s_24900.nc\", \"DAED_ORB_Evt0_LLA_Per120_Lat00_Srt01Hz_Msc\", True, \"NE\")\n",
    "print(\"Done\")\n"
   ]
  },
  {
   "cell_type": "code",
   "execution_count": null,
   "metadata": {},
   "outputs": [],
   "source": []
  }
 ],
 "metadata": {
  "kernelspec": {
   "display_name": "Python 3",
   "language": "python",
   "name": "python3"
  },
  "language_info": {
   "codemirror_mode": {
    "name": "ipython",
    "version": 3
   },
   "file_extension": ".py",
   "mimetype": "text/x-python",
   "name": "python",
   "nbconvert_exporter": "python",
   "pygments_lexer": "ipython3",
   "version": "3.6.7"
  }
 },
 "nbformat": 4,
 "nbformat_minor": 2
}
