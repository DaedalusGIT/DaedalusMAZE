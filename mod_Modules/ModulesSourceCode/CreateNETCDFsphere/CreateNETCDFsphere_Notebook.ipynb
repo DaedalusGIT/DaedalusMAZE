{
 "cells": [
  {
   "cell_type": "code",
   "execution_count": 20,
   "metadata": {},
   "outputs": [
    {
     "name": "stdout",
     "output_type": "stream",
     "text": [
      "The autoreload extension is already loaded. To reload it, use:\n",
      "  %reload_ext autoreload\n",
      "Done\n"
     ]
    }
   ],
   "source": [
    "%load_ext autoreload\n",
    "%autoreload 2\n",
    "\n",
    "import CreateNETCDFsphere\n",
    "\n",
    "CreateNETCDFsphere.CreateNETCDFsphere( \"Surface.nc\", \"Mar 17 2015 00:12:00.000000000\", 120, 5, 5 )\n",
    "\n",
    "\n",
    "\n",
    "\n",
    "\n",
    "print( \"Done\" )"
   ]
  },
  {
   "cell_type": "code",
   "execution_count": null,
   "metadata": {},
   "outputs": [],
   "source": []
  }
 ],
 "metadata": {
  "kernelspec": {
   "display_name": "Python 3",
   "language": "python",
   "name": "python3"
  },
  "language_info": {
   "codemirror_mode": {
    "name": "ipython",
    "version": 3
   },
   "file_extension": ".py",
   "mimetype": "text/x-python",
   "name": "python",
   "nbconvert_exporter": "python",
   "pygments_lexer": "ipython3",
   "version": "3.6.7"
  }
 },
 "nbformat": 4,
 "nbformat_minor": 2
}
