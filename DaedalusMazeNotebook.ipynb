{
 "cells": [
  {
   "cell_type": "code",
   "execution_count": 1,
   "metadata": {},
   "outputs": [
    {
     "data": {
      "application/vnd.jupyter.widget-view+json": {
       "model_id": "1f8bb10d7f9e423bb0fbd82e695c06bb",
       "version_major": 2,
       "version_minor": 0
      },
      "text/plain": [
       "Tab(children=(VBox(children=(Dropdown(description='Select Group:', options=(' ', 'HWM14', 'IGRF', 'IRI16', 'In…"
      ]
     },
     "metadata": {},
     "output_type": "display_data"
    },
    {
     "ename": "FileNotFoundError",
     "evalue": "[Errno 2] No such file or directory: b'../../NAS/TIEGCM_DATA/../../NAS/TIE-GCM_2015_StPatricksDayStorm_HAO/tiegcm_dres.s_mar2015_amie_v1_01.nc'",
     "output_type": "error",
     "traceback": [
      "\u001b[0;31m---------------------------------------------------------------------------\u001b[0m",
      "\u001b[0;31mFileNotFoundError\u001b[0m                         Traceback (most recent call last)",
      "\u001b[0;32m~/maze/SourceCode/DaedalusMazeGUI.py\u001b[0m in \u001b[0;36mexecute_button_clicked\u001b[0;34m(b)\u001b[0m\n\u001b[1;32m     56\u001b[0m         \u001b[0;32mglobal\u001b[0m \u001b[0mAvailableGroups_dropdown\u001b[0m\u001b[0;34m\u001b[0m\u001b[0;34m\u001b[0m\u001b[0m\n\u001b[1;32m     57\u001b[0m         \u001b[0mDisplayBusy\u001b[0m\u001b[0;34m(\u001b[0m\u001b[0;34m)\u001b[0m\u001b[0;34m\u001b[0m\u001b[0;34m\u001b[0m\u001b[0m\n\u001b[0;32m---> 58\u001b[0;31m         \u001b[0mgetattr\u001b[0m\u001b[0;34m(\u001b[0m \u001b[0mGroupsAction\u001b[0m\u001b[0;34m,\u001b[0m \u001b[0;34m'Execute_'\u001b[0m\u001b[0;34m+\u001b[0m\u001b[0mstr\u001b[0m\u001b[0;34m(\u001b[0m\u001b[0mAvailableGroups_dropdown\u001b[0m\u001b[0;34m.\u001b[0m\u001b[0mvalue\u001b[0m\u001b[0;34m)\u001b[0m \u001b[0;34m)\u001b[0m\u001b[0;34m(\u001b[0m\u001b[0;34m)\u001b[0m\u001b[0;34m\u001b[0m\u001b[0;34m\u001b[0m\u001b[0m\n\u001b[0m\u001b[1;32m     59\u001b[0m         \u001b[0mDisplayDone\u001b[0m\u001b[0;34m(\u001b[0m\u001b[0;34m)\u001b[0m\u001b[0;34m\u001b[0m\u001b[0;34m\u001b[0m\u001b[0m\n\u001b[1;32m     60\u001b[0m \u001b[0;34m\u001b[0m\u001b[0m\n",
      "\u001b[0;32m~/maze/SourceCode/GroupsAction.py\u001b[0m in \u001b[0;36mExecute_Interpolator\u001b[0;34m()\u001b[0m\n\u001b[1;32m     39\u001b[0m         \u001b[0mDisplay\u001b[0m\u001b[0;34m(\u001b[0m \u001b[0;34m'    OrbitSelector( '\u001b[0m \u001b[0;34m,\u001b[0m \u001b[0mPanelDisplayer\u001b[0m\u001b[0;34m.\u001b[0m\u001b[0mWIDGET_OrbitSelector_Filename\u001b[0m\u001b[0;34m.\u001b[0m\u001b[0mvalue\u001b[0m\u001b[0;34m,\u001b[0m\u001b[0;34m', '\u001b[0m \u001b[0;34m,\u001b[0m \u001b[0mPanelDisplayer\u001b[0m\u001b[0;34m.\u001b[0m\u001b[0mWIDGET_OrbitSelector_EvtXY\u001b[0m\u001b[0;34m.\u001b[0m\u001b[0mvalue\u001b[0m\u001b[0;34m,\u001b[0m\u001b[0;34m', '\u001b[0m \u001b[0;34m,\u001b[0m \u001b[0mPanelDisplayer\u001b[0m\u001b[0;34m.\u001b[0m\u001b[0mWIDGET_OrbitSelector_TYP\u001b[0m\u001b[0;34m.\u001b[0m\u001b[0mvalue\u001b[0m\u001b[0;34m,\u001b[0m\u001b[0;34m', '\u001b[0m \u001b[0;34m,\u001b[0m \u001b[0mPanelDisplayer\u001b[0m\u001b[0;34m.\u001b[0m\u001b[0mWIDGET_OrbitSelector_PerYYY\u001b[0m\u001b[0;34m.\u001b[0m\u001b[0mvalue\u001b[0m\u001b[0;34m,\u001b[0m\u001b[0;34m', '\u001b[0m \u001b[0;34m,\u001b[0m \u001b[0mPanelDisplayer\u001b[0m\u001b[0;34m.\u001b[0m\u001b[0mWIDGET_OrbitSelector_LatZZ\u001b[0m\u001b[0;34m.\u001b[0m\u001b[0mvalue\u001b[0m\u001b[0;34m,\u001b[0m\u001b[0;34m', '\u001b[0m \u001b[0;34m,\u001b[0m \u001b[0mPanelDisplayer\u001b[0m\u001b[0;34m.\u001b[0m\u001b[0mWIDGET_OrbitSelector_SRXXHZ\u001b[0m\u001b[0;34m.\u001b[0m\u001b[0mvalue\u001b[0m\u001b[0;34m,\u001b[0m\u001b[0;34m', '\u001b[0m \u001b[0;34m,\u001b[0m \u001b[0mPanelDisplayer\u001b[0m\u001b[0;34m.\u001b[0m\u001b[0mWIDGET_OrbitSelector_SC\u001b[0m\u001b[0;34m.\u001b[0m\u001b[0mvalue\u001b[0m \u001b[0;34m,\u001b[0m \u001b[0;34m' ) results:'\u001b[0m\u001b[0;34m)\u001b[0m\u001b[0;34m\u001b[0m\u001b[0;34m\u001b[0m\u001b[0m\n\u001b[1;32m     40\u001b[0m         \u001b[0mDisplay\u001b[0m\u001b[0;34m(\u001b[0m \u001b[0;34m'          OrbitFilename: '\u001b[0m \u001b[0;34m+\u001b[0m \u001b[0mstr\u001b[0m\u001b[0;34m(\u001b[0m\u001b[0mOrbitSelector_OrbitFilename\u001b[0m\u001b[0;34m)\u001b[0m \u001b[0;34m)\u001b[0m\u001b[0;34m\u001b[0m\u001b[0;34m\u001b[0m\u001b[0m\n\u001b[0;32m---> 41\u001b[0;31m         \u001b[0mInterpolator_InterpolatedOrbitCSV\u001b[0m \u001b[0;34m=\u001b[0m \u001b[0mInterpolator\u001b[0m\u001b[0;34m(\u001b[0m \u001b[0mPanelDisplayer\u001b[0m\u001b[0;34m.\u001b[0m\u001b[0mWIDGET_Interpolator_model\u001b[0m\u001b[0;34m.\u001b[0m\u001b[0mvalue\u001b[0m\u001b[0;34m,\u001b[0m \u001b[0mPanelDisplayer\u001b[0m\u001b[0;34m.\u001b[0m\u001b[0mWIDGET_Interpolator_model_data_file\u001b[0m\u001b[0;34m.\u001b[0m\u001b[0mvalue\u001b[0m\u001b[0;34m,\u001b[0m \u001b[0mOrbitSelector_OrbitFilename\u001b[0m\u001b[0;34m,\u001b[0m \u001b[0mPanelDisplayer\u001b[0m\u001b[0;34m.\u001b[0m\u001b[0mWIDGET_Interpolator_save\u001b[0m\u001b[0;34m.\u001b[0m\u001b[0mvalue\u001b[0m\u001b[0;34m,\u001b[0m \u001b[0mPanelDisplayer\u001b[0m\u001b[0;34m.\u001b[0m\u001b[0mWIDGET_Interpolator_VAR\u001b[0m\u001b[0;34m.\u001b[0m\u001b[0mvalue\u001b[0m \u001b[0;34m)\u001b[0m\u001b[0;34m\u001b[0m\u001b[0;34m\u001b[0m\u001b[0m\n\u001b[0m\u001b[1;32m     42\u001b[0m         \u001b[0mDisplay\u001b[0m\u001b[0;34m(\u001b[0m \u001b[0;34m'    Interpolator( '\u001b[0m \u001b[0;34m,\u001b[0m \u001b[0mPanelDisplayer\u001b[0m\u001b[0;34m.\u001b[0m\u001b[0mWIDGET_Interpolator_model\u001b[0m\u001b[0;34m.\u001b[0m\u001b[0mvalue\u001b[0m\u001b[0;34m,\u001b[0m\u001b[0;34m', '\u001b[0m \u001b[0;34m,\u001b[0m \u001b[0mPanelDisplayer\u001b[0m\u001b[0;34m.\u001b[0m\u001b[0mWIDGET_Interpolator_model_data_file\u001b[0m\u001b[0;34m.\u001b[0m\u001b[0mvalue\u001b[0m\u001b[0;34m,\u001b[0m\u001b[0;34m', '\u001b[0m \u001b[0;34m,\u001b[0m \u001b[0mOrbitSelector_OrbitFilename\u001b[0m\u001b[0;34m,\u001b[0m\u001b[0;34m', '\u001b[0m \u001b[0;34m,\u001b[0m \u001b[0mPanelDisplayer\u001b[0m\u001b[0;34m.\u001b[0m\u001b[0mWIDGET_Interpolator_save\u001b[0m\u001b[0;34m.\u001b[0m\u001b[0mvalue\u001b[0m\u001b[0;34m,\u001b[0m\u001b[0;34m', '\u001b[0m \u001b[0;34m,\u001b[0m \u001b[0mPanelDisplayer\u001b[0m\u001b[0;34m.\u001b[0m\u001b[0mWIDGET_Interpolator_VAR\u001b[0m\u001b[0;34m.\u001b[0m\u001b[0mvalue\u001b[0m \u001b[0;34m,\u001b[0m \u001b[0;34m' ) results:'\u001b[0m\u001b[0;34m)\u001b[0m\u001b[0;34m\u001b[0m\u001b[0;34m\u001b[0m\u001b[0m\n\u001b[1;32m     43\u001b[0m         \u001b[0mDisplay\u001b[0m\u001b[0;34m(\u001b[0m \u001b[0;34m'          InterpolatedOrbitCSV: '\u001b[0m \u001b[0;34m+\u001b[0m \u001b[0mstr\u001b[0m\u001b[0;34m(\u001b[0m\u001b[0mInterpolator_InterpolatedOrbitCSV\u001b[0m\u001b[0;34m)\u001b[0m \u001b[0;34m)\u001b[0m\u001b[0;34m\u001b[0m\u001b[0;34m\u001b[0m\u001b[0m\n",
      "\u001b[0;32m~/maze/SourceCode/ModulesSourceCode/Interpolator/Interpolator.py\u001b[0m in \u001b[0;36mInterpolator\u001b[0;34m(model, model_data_file, orbit_file, save, VAR)\u001b[0m\n\u001b[1;32m     63\u001b[0m     \u001b[0;31m#============== Read File + Orbitt and Manipulate Data=======\u001b[0m\u001b[0;34m\u001b[0m\u001b[0;34m\u001b[0m\u001b[0;34m\u001b[0m\u001b[0m\n\u001b[1;32m     64\u001b[0m \u001b[0;34m\u001b[0m\u001b[0m\n\u001b[0;32m---> 65\u001b[0;31m     \u001b[0mTIEGCM\u001b[0m\u001b[0;34m=\u001b[0m\u001b[0mDataset\u001b[0m\u001b[0;34m(\u001b[0m\u001b[0;34m\"../../NAS/TIEGCM_DATA/\"\u001b[0m\u001b[0;34m+\u001b[0m\u001b[0mmodel_data_file\u001b[0m\u001b[0;34m)\u001b[0m\u001b[0;34m\u001b[0m\u001b[0;34m\u001b[0m\u001b[0m\n\u001b[0m\u001b[1;32m     66\u001b[0m     \u001b[0mdf\u001b[0m \u001b[0;34m=\u001b[0m \u001b[0mpd\u001b[0m\u001b[0;34m.\u001b[0m\u001b[0mread_csv\u001b[0m\u001b[0;34m(\u001b[0m\u001b[0;34m\"../../../../../NAS/Data_Files/OrbitData/\"\u001b[0m\u001b[0;34m+\u001b[0m\u001b[0morbit_file\u001b[0m\u001b[0;34m+\u001b[0m\u001b[0;34m\".csv\"\u001b[0m\u001b[0;34m)\u001b[0m\u001b[0;34m\u001b[0m\u001b[0;34m\u001b[0m\u001b[0m\n\u001b[1;32m     67\u001b[0m \u001b[0;34m\u001b[0m\u001b[0m\n",
      "\u001b[0;32mnetCDF4/_netCDF4.pyx\u001b[0m in \u001b[0;36mnetCDF4._netCDF4.Dataset.__init__\u001b[0;34m()\u001b[0m\n",
      "\u001b[0;32mnetCDF4/_netCDF4.pyx\u001b[0m in \u001b[0;36mnetCDF4._netCDF4._ensure_nc_success\u001b[0;34m()\u001b[0m\n",
      "\u001b[0;31mFileNotFoundError\u001b[0m: [Errno 2] No such file or directory: b'../../NAS/TIEGCM_DATA/../../NAS/TIE-GCM_2015_StPatricksDayStorm_HAO/tiegcm_dres.s_mar2015_amie_v1_01.nc'"
     ]
    }
   ],
   "source": [
    "%load_ext autoreload\n",
    "%autoreload 2\n",
    "import SourceCode.DaedalusMazeGUI as DaedalusMazeGUI\n",
    "import ipywidgets as widgets\n",
    "\n",
    "MainPanel=DaedalusMazeGUI.createAll()\n",
    "MainPanel"
   ]
  },
  {
   "cell_type": "code",
   "execution_count": null,
   "metadata": {},
   "outputs": [],
   "source": []
  },
  {
   "cell_type": "code",
   "execution_count": null,
   "metadata": {},
   "outputs": [],
   "source": []
  }
 ],
 "metadata": {
  "kernelspec": {
   "display_name": "Python 3",
   "language": "python",
   "name": "python3"
  },
  "language_info": {
   "codemirror_mode": {
    "name": "ipython",
    "version": 3
   },
   "file_extension": ".py",
   "mimetype": "text/x-python",
   "name": "python",
   "nbconvert_exporter": "python",
   "pygments_lexer": "ipython3",
   "version": "3.6.7"
  }
 },
 "nbformat": 4,
 "nbformat_minor": 2
}
